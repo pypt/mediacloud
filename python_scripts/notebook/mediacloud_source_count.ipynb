{
 "metadata": {
  "name": "",
  "signature": "sha256:e8a9483da47062008edfd8daabbae1608c95d6ae4d4257b7a8600841ffee3c11"
 },
 "nbformat": 3,
 "nbformat_minor": 0,
 "worksheets": [
  {
   "cells": [
    {
     "cell_type": "code",
     "collapsed": false,
     "input": [
      "import cPickle\n",
      "import os.path\n",
      "\n",
      "api_key = cPickle.load( file( os.path.expanduser( '~/mediacloud_api_key.pickle' ), 'r' ) )"
     ],
     "language": "python",
     "metadata": {},
     "outputs": [],
     "prompt_number": 1
    },
    {
     "cell_type": "code",
     "collapsed": false,
     "input": [
      "import cPickle\n",
      "import os.path\n",
      "\n",
      "cPickle.dump( api_key, file( os.path.expanduser( '~/mediacloud_api_key.pickle' ), 'wb' ) )"
     ],
     "language": "python",
     "metadata": {},
     "outputs": [],
     "prompt_number": 3
    },
    {
     "cell_type": "code",
     "collapsed": false,
     "input": [
      "import mediacloud, json\n",
      "mc = mediacloud.api.MediaCloud(api_key)"
     ],
     "language": "python",
     "metadata": {},
     "outputs": [],
     "prompt_number": 2
    },
    {
     "cell_type": "code",
     "collapsed": false,
     "input": [
      "import sys\n",
      "\n",
      "sys.path.append('../')\n",
      "sys.path\n"
     ],
     "language": "python",
     "metadata": {},
     "outputs": [
      {
       "metadata": {},
       "output_type": "pyout",
       "prompt_number": 3,
       "text": [
        "['',\n",
        " '/usr/local/lib/python2.7/dist-packages/supervisor-3.0-py2.7.egg',\n",
        " '/usr/local/lib/python2.7/dist-packages/meld3-0.6.10-py2.7.egg',\n",
        " '/usr/lib/python2.7',\n",
        " '/usr/lib/python2.7/plat-x86_64-linux-gnu',\n",
        " '/usr/lib/python2.7/lib-tk',\n",
        " '/usr/lib/python2.7/lib-old',\n",
        " '/usr/lib/python2.7/lib-dynload',\n",
        " '/usr/local/lib/python2.7/dist-packages',\n",
        " '/usr/lib/python2.7/dist-packages',\n",
        " '/usr/lib/python2.7/dist-packages/PILcompat',\n",
        " '/usr/lib/python2.7/dist-packages/gtk-2.0',\n",
        " '/usr/lib/pymodules/python2.7',\n",
        " '/usr/lib/python2.7/dist-packages/ubuntu-sso-client',\n",
        " '/usr/lib/python2.7/dist-packages/ubuntuone-client',\n",
        " '/usr/lib/python2.7/dist-packages/ubuntuone-control-panel',\n",
        " '/usr/lib/python2.7/dist-packages/ubuntuone-storage-protocol',\n",
        " '/usr/local/lib/python2.7/dist-packages/IPython/extensions',\n",
        " '../']"
       ]
      }
     ],
     "prompt_number": 3
    },
    {
     "cell_type": "code",
     "collapsed": false,
     "input": [
      "import solr_reimport\n",
      "import psycopg2"
     ],
     "language": "python",
     "metadata": {},
     "outputs": [],
     "prompt_number": 4
    },
    {
     "cell_type": "code",
     "collapsed": false,
     "input": [
      "conn = solr_reimport.connect_to_database()\n",
      "cursor = conn.cursor(cursor_factory=psycopg2.extras.DictCursor)"
     ],
     "language": "python",
     "metadata": {},
     "outputs": [],
     "prompt_number": 5
    },
    {
     "cell_type": "code",
     "collapsed": false,
     "input": [
      "MEDIA= {\n",
      "  '1': \"new york times\",\n",
      "  '2': \"washington post\",\n",
      "  '6':\"la times\",\n",
      "  '7': \"new york post\",\n",
      "  '1150': \"wall street journal\",\n",
      "  '1757': \"salon\",\n",
      "  '1707': \"daily beast\",\n",
      "  '1750': \"telegraph\",\n",
      "  '314' : \"huffington post\",\n",
      "\"27502\":\"huffington post\" #assuming these are the same for now\n",
      "}"
     ],
     "language": "python",
     "metadata": {},
     "outputs": [],
     "prompt_number": 6
    },
    {
     "cell_type": "code",
     "collapsed": false,
     "input": [
      "query = \"WITH medium_stories as ( SELECT stories_id from stories where media_id=314  and date_trunc( 'day', publish_date) >= '2008-01-01'  and date_trunc( 'day', publish_date) < '2014-08-01'  ), medium_story_downloads as ( select * from downloads, medium_stories where downloads.stories_id = medium_stories.stories_id) SELECT date_trunc('month', download_time), count(*) from medium_story_downloads where feeds_id not in (select feeds_id from feeds where media_id=1 and name like '%Spider%'  ) and sequence=1 group by date_trunc( 'month', download_time)  order by  date_trunc( 'month', download_time) \"\n",
      "query"
     ],
     "language": "python",
     "metadata": {},
     "outputs": [
      {
       "metadata": {},
       "output_type": "pyout",
       "prompt_number": 7,
       "text": [
        "\"WITH medium_stories as ( SELECT stories_id from stories where media_id=314  and date_trunc( 'day', publish_date) >= '2008-01-01'  and date_trunc( 'day', publish_date) < '2014-08-01'  ), medium_story_downloads as ( select * from downloads, medium_stories where downloads.stories_id = medium_stories.stories_id) SELECT date_trunc('month', download_time), count(*) from medium_story_downloads where feeds_id not in (select feeds_id from feeds where media_id=1 and name like '%Spider%'  ) and sequence=1 group by date_trunc( 'month', download_time)  order by  date_trunc( 'month', download_time) \""
       ]
      }
     ],
     "prompt_number": 7
    },
    {
     "cell_type": "code",
     "collapsed": false,
     "input": [],
     "language": "python",
     "metadata": {},
     "outputs": []
    },
    {
     "cell_type": "code",
     "collapsed": false,
     "input": [
      "#media_id = 314\n",
      "#cursor = conn.cursor(cursor_factory=psycopg2.extras.DictCursor)\n",
      "#cursor.execute(\"SELECT media_id, date_trunc('month', publish_date), count(*) from stories where media_id = %(media_id)s group by media_id, date_trunc('month', publish_date) \",\n",
      "#               { 'media_id': media_id } )\n"
     ],
     "language": "python",
     "metadata": {},
     "outputs": [],
     "prompt_number": 8
    },
    {
     "cell_type": "code",
     "collapsed": false,
     "input": [
      "def get_counts_for_media( conn, media_id ):\n",
      "\n",
      "    sql = \"\"\" \n",
      "WITH related_feeds as ( SELECT feeds_id from feeds where media_id = %(media_id)s and name not like '%%Spider%%' ),\n",
      "     non_spidered_stories as (SELECT distinct(stories_id) from feeds_stories_map, related_feeds \n",
      "     where related_feeds.feeds_id=feeds_stories_map.feeds_id)\n",
      "SELECT media_id, date_trunc('month', publish_date) as month, count(*) from stories, non_spidered_stories \n",
      "where media_id = %(media_id)s and stories.stories_id = non_spidered_stories.stories_id \n",
      "group by media_id, date_trunc('month', publish_date)\n",
      "\"\"\"\n",
      "\n",
      "    #print sql\n",
      "    cursor = conn.cursor(cursor_factory=psycopg2.extras.DictCursor)\n",
      "    cursor.execute( sql , { 'media_id': media_id, 'media_id1': media_id } )\n",
      "#cursor.close()\n",
      "\n",
      "    fetched = cursor.fetchall()\n",
      "    \n",
      "    return [ dict(result) for result in sorted(fetched, key=lambda r: r['month']  ) ]"
     ],
     "language": "python",
     "metadata": {},
     "outputs": [],
     "prompt_number": 9
    },
    {
     "cell_type": "code",
     "collapsed": false,
     "input": [
      "from operator import itemgetter, attrgetter\n",
      "import pandas\n",
      "\n",
      "media_ids = [ 1757, 314 ]\n",
      "results = []\n",
      "for media_id in MEDIA.keys():\n",
      "    print MEDIA[media_id], media_id\n",
      "    results.extend ( get_counts_for_media( conn, media_id ) )\n",
      "    \n",
      "    \n",
      "df = pandas.DataFrame( results )    \n",
      "\n",
      "df.to_csv( '/tmp/counts.csv')\n",
      "df "
     ],
     "language": "python",
     "metadata": {},
     "outputs": [
      {
       "output_type": "stream",
       "stream": "stdout",
       "text": [
        "new york times 1\n",
        "huffington post"
       ]
      },
      {
       "output_type": "stream",
       "stream": "stdout",
       "text": [
        " 27502\n",
        "washington post"
       ]
      },
      {
       "output_type": "stream",
       "stream": "stdout",
       "text": [
        " 2\n",
        "new york post"
       ]
      },
      {
       "output_type": "stream",
       "stream": "stdout",
       "text": [
        " 7\n",
        "la times"
       ]
      },
      {
       "output_type": "stream",
       "stream": "stdout",
       "text": [
        " 6\n",
        "salon"
       ]
      },
      {
       "output_type": "stream",
       "stream": "stdout",
       "text": [
        " 1757\n",
        "daily beast"
       ]
      },
      {
       "output_type": "stream",
       "stream": "stdout",
       "text": [
        " 1707\n",
        "huffington post"
       ]
      },
      {
       "output_type": "stream",
       "stream": "stdout",
       "text": [
        " 314\n",
        "wall street journal"
       ]
      },
      {
       "output_type": "stream",
       "stream": "stdout",
       "text": [
        " 1150\n",
        "telegraph"
       ]
      },
      {
       "output_type": "stream",
       "stream": "stdout",
       "text": [
        " 1750\n"
       ]
      },
      {
       "output_type": "stream",
       "stream": "stderr",
       "text": [
        "/usr/local/lib/python2.7/dist-packages/pandas/io/gbq.py:9: UserWarning: Module dap was already imported from None, but /usr/lib/python2.7/dist-packages is being added to sys.path\n",
        "  import pkg_resources\n"
       ]
      },
      {
       "html": [
        "<div style=\"max-height:1000px;max-width:1500px;overflow:auto;\">\n",
        "<table border=\"1\" class=\"dataframe\">\n",
        "  <thead>\n",
        "    <tr style=\"text-align: right;\">\n",
        "      <th></th>\n",
        "      <th>count</th>\n",
        "      <th>media_id</th>\n",
        "      <th>month</th>\n",
        "    </tr>\n",
        "  </thead>\n",
        "  <tbody>\n",
        "    <tr>\n",
        "      <th>0  </th>\n",
        "      <td>     2</td>\n",
        "      <td>    1</td>\n",
        "      <td>1888-06-01</td>\n",
        "    </tr>\n",
        "    <tr>\n",
        "      <th>1  </th>\n",
        "      <td>     9</td>\n",
        "      <td>    1</td>\n",
        "      <td>1967-01-01</td>\n",
        "    </tr>\n",
        "    <tr>\n",
        "      <th>2  </th>\n",
        "      <td>     2</td>\n",
        "      <td>    1</td>\n",
        "      <td>1970-01-01</td>\n",
        "    </tr>\n",
        "    <tr>\n",
        "      <th>3  </th>\n",
        "      <td>    37</td>\n",
        "      <td>    1</td>\n",
        "      <td>1999-11-01</td>\n",
        "    </tr>\n",
        "    <tr>\n",
        "      <th>4  </th>\n",
        "      <td>     1</td>\n",
        "      <td>    1</td>\n",
        "      <td>2001-01-01</td>\n",
        "    </tr>\n",
        "    <tr>\n",
        "      <th>5  </th>\n",
        "      <td>     1</td>\n",
        "      <td>    1</td>\n",
        "      <td>2005-08-01</td>\n",
        "    </tr>\n",
        "    <tr>\n",
        "      <th>6  </th>\n",
        "      <td>     1</td>\n",
        "      <td>    1</td>\n",
        "      <td>2005-10-01</td>\n",
        "    </tr>\n",
        "    <tr>\n",
        "      <th>7  </th>\n",
        "      <td>    24</td>\n",
        "      <td>    1</td>\n",
        "      <td>2006-01-01</td>\n",
        "    </tr>\n",
        "    <tr>\n",
        "      <th>8  </th>\n",
        "      <td>    24</td>\n",
        "      <td>    1</td>\n",
        "      <td>2006-02-01</td>\n",
        "    </tr>\n",
        "    <tr>\n",
        "      <th>9  </th>\n",
        "      <td>    15</td>\n",
        "      <td>    1</td>\n",
        "      <td>2006-03-01</td>\n",
        "    </tr>\n",
        "    <tr>\n",
        "      <th>10 </th>\n",
        "      <td>     2</td>\n",
        "      <td>    1</td>\n",
        "      <td>2006-05-01</td>\n",
        "    </tr>\n",
        "    <tr>\n",
        "      <th>11 </th>\n",
        "      <td>     2</td>\n",
        "      <td>    1</td>\n",
        "      <td>2006-06-01</td>\n",
        "    </tr>\n",
        "    <tr>\n",
        "      <th>12 </th>\n",
        "      <td>     2</td>\n",
        "      <td>    1</td>\n",
        "      <td>2006-07-01</td>\n",
        "    </tr>\n",
        "    <tr>\n",
        "      <th>13 </th>\n",
        "      <td>     6</td>\n",
        "      <td>    1</td>\n",
        "      <td>2006-08-01</td>\n",
        "    </tr>\n",
        "    <tr>\n",
        "      <th>14 </th>\n",
        "      <td>     2</td>\n",
        "      <td>    1</td>\n",
        "      <td>2006-09-01</td>\n",
        "    </tr>\n",
        "    <tr>\n",
        "      <th>15 </th>\n",
        "      <td>     3</td>\n",
        "      <td>    1</td>\n",
        "      <td>2006-10-01</td>\n",
        "    </tr>\n",
        "    <tr>\n",
        "      <th>16 </th>\n",
        "      <td>     2</td>\n",
        "      <td>    1</td>\n",
        "      <td>2006-11-01</td>\n",
        "    </tr>\n",
        "    <tr>\n",
        "      <th>17 </th>\n",
        "      <td>     8</td>\n",
        "      <td>    1</td>\n",
        "      <td>2006-12-01</td>\n",
        "    </tr>\n",
        "    <tr>\n",
        "      <th>18 </th>\n",
        "      <td>     8</td>\n",
        "      <td>    1</td>\n",
        "      <td>2007-01-01</td>\n",
        "    </tr>\n",
        "    <tr>\n",
        "      <th>19 </th>\n",
        "      <td>     7</td>\n",
        "      <td>    1</td>\n",
        "      <td>2007-02-01</td>\n",
        "    </tr>\n",
        "    <tr>\n",
        "      <th>20 </th>\n",
        "      <td>     4</td>\n",
        "      <td>    1</td>\n",
        "      <td>2007-03-01</td>\n",
        "    </tr>\n",
        "    <tr>\n",
        "      <th>21 </th>\n",
        "      <td>     3</td>\n",
        "      <td>    1</td>\n",
        "      <td>2007-04-01</td>\n",
        "    </tr>\n",
        "    <tr>\n",
        "      <th>22 </th>\n",
        "      <td>    12</td>\n",
        "      <td>    1</td>\n",
        "      <td>2007-05-01</td>\n",
        "    </tr>\n",
        "    <tr>\n",
        "      <th>23 </th>\n",
        "      <td>     7</td>\n",
        "      <td>    1</td>\n",
        "      <td>2007-06-01</td>\n",
        "    </tr>\n",
        "    <tr>\n",
        "      <th>24 </th>\n",
        "      <td>    39</td>\n",
        "      <td>    1</td>\n",
        "      <td>2007-07-01</td>\n",
        "    </tr>\n",
        "    <tr>\n",
        "      <th>25 </th>\n",
        "      <td>     4</td>\n",
        "      <td>    1</td>\n",
        "      <td>2007-08-01</td>\n",
        "    </tr>\n",
        "    <tr>\n",
        "      <th>26 </th>\n",
        "      <td>     9</td>\n",
        "      <td>    1</td>\n",
        "      <td>2007-09-01</td>\n",
        "    </tr>\n",
        "    <tr>\n",
        "      <th>27 </th>\n",
        "      <td>    15</td>\n",
        "      <td>    1</td>\n",
        "      <td>2007-10-01</td>\n",
        "    </tr>\n",
        "    <tr>\n",
        "      <th>28 </th>\n",
        "      <td>    32</td>\n",
        "      <td>    1</td>\n",
        "      <td>2007-11-01</td>\n",
        "    </tr>\n",
        "    <tr>\n",
        "      <th>29 </th>\n",
        "      <td>    35</td>\n",
        "      <td>    1</td>\n",
        "      <td>2007-12-01</td>\n",
        "    </tr>\n",
        "    <tr>\n",
        "      <th>...</th>\n",
        "      <td>...</td>\n",
        "      <td>...</td>\n",
        "      <td>...</td>\n",
        "    </tr>\n",
        "    <tr>\n",
        "      <th>909</th>\n",
        "      <td>  9762</td>\n",
        "      <td> 1750</td>\n",
        "      <td>2012-03-01</td>\n",
        "    </tr>\n",
        "    <tr>\n",
        "      <th>910</th>\n",
        "      <td>  9476</td>\n",
        "      <td> 1750</td>\n",
        "      <td>2012-04-01</td>\n",
        "    </tr>\n",
        "    <tr>\n",
        "      <th>911</th>\n",
        "      <td> 10433</td>\n",
        "      <td> 1750</td>\n",
        "      <td>2012-05-01</td>\n",
        "    </tr>\n",
        "    <tr>\n",
        "      <th>912</th>\n",
        "      <td> 10056</td>\n",
        "      <td> 1750</td>\n",
        "      <td>2012-06-01</td>\n",
        "    </tr>\n",
        "    <tr>\n",
        "      <th>913</th>\n",
        "      <td>  9454</td>\n",
        "      <td> 1750</td>\n",
        "      <td>2012-07-01</td>\n",
        "    </tr>\n",
        "    <tr>\n",
        "      <th>914</th>\n",
        "      <td> 10023</td>\n",
        "      <td> 1750</td>\n",
        "      <td>2012-08-01</td>\n",
        "    </tr>\n",
        "    <tr>\n",
        "      <th>915</th>\n",
        "      <td> 10887</td>\n",
        "      <td> 1750</td>\n",
        "      <td>2012-09-01</td>\n",
        "    </tr>\n",
        "    <tr>\n",
        "      <th>916</th>\n",
        "      <td> 12130</td>\n",
        "      <td> 1750</td>\n",
        "      <td>2012-10-01</td>\n",
        "    </tr>\n",
        "    <tr>\n",
        "      <th>917</th>\n",
        "      <td> 12194</td>\n",
        "      <td> 1750</td>\n",
        "      <td>2012-11-01</td>\n",
        "    </tr>\n",
        "    <tr>\n",
        "      <th>918</th>\n",
        "      <td> 10437</td>\n",
        "      <td> 1750</td>\n",
        "      <td>2012-12-01</td>\n",
        "    </tr>\n",
        "    <tr>\n",
        "      <th>919</th>\n",
        "      <td> 12183</td>\n",
        "      <td> 1750</td>\n",
        "      <td>2013-01-01</td>\n",
        "    </tr>\n",
        "    <tr>\n",
        "      <th>920</th>\n",
        "      <td> 10997</td>\n",
        "      <td> 1750</td>\n",
        "      <td>2013-02-01</td>\n",
        "    </tr>\n",
        "    <tr>\n",
        "      <th>921</th>\n",
        "      <td> 11621</td>\n",
        "      <td> 1750</td>\n",
        "      <td>2013-03-01</td>\n",
        "    </tr>\n",
        "    <tr>\n",
        "      <th>922</th>\n",
        "      <td> 11090</td>\n",
        "      <td> 1750</td>\n",
        "      <td>2013-04-01</td>\n",
        "    </tr>\n",
        "    <tr>\n",
        "      <th>923</th>\n",
        "      <td> 10991</td>\n",
        "      <td> 1750</td>\n",
        "      <td>2013-05-01</td>\n",
        "    </tr>\n",
        "    <tr>\n",
        "      <th>924</th>\n",
        "      <td> 11070</td>\n",
        "      <td> 1750</td>\n",
        "      <td>2013-06-01</td>\n",
        "    </tr>\n",
        "    <tr>\n",
        "      <th>925</th>\n",
        "      <td> 11625</td>\n",
        "      <td> 1750</td>\n",
        "      <td>2013-07-01</td>\n",
        "    </tr>\n",
        "    <tr>\n",
        "      <th>926</th>\n",
        "      <td> 11002</td>\n",
        "      <td> 1750</td>\n",
        "      <td>2013-08-01</td>\n",
        "    </tr>\n",
        "    <tr>\n",
        "      <th>927</th>\n",
        "      <td> 11375</td>\n",
        "      <td> 1750</td>\n",
        "      <td>2013-09-01</td>\n",
        "    </tr>\n",
        "    <tr>\n",
        "      <th>928</th>\n",
        "      <td> 12735</td>\n",
        "      <td> 1750</td>\n",
        "      <td>2013-10-01</td>\n",
        "    </tr>\n",
        "    <tr>\n",
        "      <th>929</th>\n",
        "      <td> 12239</td>\n",
        "      <td> 1750</td>\n",
        "      <td>2013-11-01</td>\n",
        "    </tr>\n",
        "    <tr>\n",
        "      <th>930</th>\n",
        "      <td> 10786</td>\n",
        "      <td> 1750</td>\n",
        "      <td>2013-12-01</td>\n",
        "    </tr>\n",
        "    <tr>\n",
        "      <th>931</th>\n",
        "      <td> 11180</td>\n",
        "      <td> 1750</td>\n",
        "      <td>2014-01-01</td>\n",
        "    </tr>\n",
        "    <tr>\n",
        "      <th>932</th>\n",
        "      <td> 10005</td>\n",
        "      <td> 1750</td>\n",
        "      <td>2014-02-01</td>\n",
        "    </tr>\n",
        "    <tr>\n",
        "      <th>933</th>\n",
        "      <td> 10830</td>\n",
        "      <td> 1750</td>\n",
        "      <td>2014-03-01</td>\n",
        "    </tr>\n",
        "    <tr>\n",
        "      <th>934</th>\n",
        "      <td> 10970</td>\n",
        "      <td> 1750</td>\n",
        "      <td>2014-04-01</td>\n",
        "    </tr>\n",
        "    <tr>\n",
        "      <th>935</th>\n",
        "      <td> 11308</td>\n",
        "      <td> 1750</td>\n",
        "      <td>2014-05-01</td>\n",
        "    </tr>\n",
        "    <tr>\n",
        "      <th>936</th>\n",
        "      <td> 11524</td>\n",
        "      <td> 1750</td>\n",
        "      <td>2014-06-01</td>\n",
        "    </tr>\n",
        "    <tr>\n",
        "      <th>937</th>\n",
        "      <td> 11884</td>\n",
        "      <td> 1750</td>\n",
        "      <td>2014-07-01</td>\n",
        "    </tr>\n",
        "    <tr>\n",
        "      <th>938</th>\n",
        "      <td>  6583</td>\n",
        "      <td> 1750</td>\n",
        "      <td>2014-08-01</td>\n",
        "    </tr>\n",
        "  </tbody>\n",
        "</table>\n",
        "<p>939 rows \u00d7 3 columns</p>\n",
        "</div>"
       ],
       "metadata": {},
       "output_type": "pyout",
       "prompt_number": 10,
       "text": [
        "     count  media_id      month\n",
        "0        2         1 1888-06-01\n",
        "1        9         1 1967-01-01\n",
        "2        2         1 1970-01-01\n",
        "3       37         1 1999-11-01\n",
        "4        1         1 2001-01-01\n",
        "5        1         1 2005-08-01\n",
        "6        1         1 2005-10-01\n",
        "7       24         1 2006-01-01\n",
        "8       24         1 2006-02-01\n",
        "9       15         1 2006-03-01\n",
        "10       2         1 2006-05-01\n",
        "11       2         1 2006-06-01\n",
        "12       2         1 2006-07-01\n",
        "13       6         1 2006-08-01\n",
        "14       2         1 2006-09-01\n",
        "15       3         1 2006-10-01\n",
        "16       2         1 2006-11-01\n",
        "17       8         1 2006-12-01\n",
        "18       8         1 2007-01-01\n",
        "19       7         1 2007-02-01\n",
        "20       4         1 2007-03-01\n",
        "21       3         1 2007-04-01\n",
        "22      12         1 2007-05-01\n",
        "23       7         1 2007-06-01\n",
        "24      39         1 2007-07-01\n",
        "25       4         1 2007-08-01\n",
        "26       9         1 2007-09-01\n",
        "27      15         1 2007-10-01\n",
        "28      32         1 2007-11-01\n",
        "29      35         1 2007-12-01\n",
        "..     ...       ...        ...\n",
        "909   9762      1750 2012-03-01\n",
        "910   9476      1750 2012-04-01\n",
        "911  10433      1750 2012-05-01\n",
        "912  10056      1750 2012-06-01\n",
        "913   9454      1750 2012-07-01\n",
        "914  10023      1750 2012-08-01\n",
        "915  10887      1750 2012-09-01\n",
        "916  12130      1750 2012-10-01\n",
        "917  12194      1750 2012-11-01\n",
        "918  10437      1750 2012-12-01\n",
        "919  12183      1750 2013-01-01\n",
        "920  10997      1750 2013-02-01\n",
        "921  11621      1750 2013-03-01\n",
        "922  11090      1750 2013-04-01\n",
        "923  10991      1750 2013-05-01\n",
        "924  11070      1750 2013-06-01\n",
        "925  11625      1750 2013-07-01\n",
        "926  11002      1750 2013-08-01\n",
        "927  11375      1750 2013-09-01\n",
        "928  12735      1750 2013-10-01\n",
        "929  12239      1750 2013-11-01\n",
        "930  10786      1750 2013-12-01\n",
        "931  11180      1750 2014-01-01\n",
        "932  10005      1750 2014-02-01\n",
        "933  10830      1750 2014-03-01\n",
        "934  10970      1750 2014-04-01\n",
        "935  11308      1750 2014-05-01\n",
        "936  11524      1750 2014-06-01\n",
        "937  11884      1750 2014-07-01\n",
        "938   6583      1750 2014-08-01\n",
        "\n",
        "[939 rows x 3 columns]"
       ]
      }
     ],
     "prompt_number": 10
    },
    {
     "cell_type": "code",
     "collapsed": false,
     "input": [
      "results_valid_dates = [ result for result in results if result['month'] >= datetime.datetime(2008, 1, 1, 0, 0) and \n",
      "                       result['month'] < datetime.datetime(2014, 8, 1, 0, 0) ]\n",
      "results_valid_dates\n",
      "df = pandas.DataFrame( results_valid_dates )    \n",
      "\n",
      "df.to_csv( '/tmp/publication_counts.csv')\n",
      "df "
     ],
     "language": "python",
     "metadata": {},
     "outputs": [
      {
       "html": [
        "<div style=\"max-height:1000px;max-width:1500px;overflow:auto;\">\n",
        "<table border=\"1\" class=\"dataframe\">\n",
        "  <thead>\n",
        "    <tr style=\"text-align: right;\">\n",
        "      <th></th>\n",
        "      <th>count</th>\n",
        "      <th>media_id</th>\n",
        "      <th>month</th>\n",
        "    </tr>\n",
        "  </thead>\n",
        "  <tbody>\n",
        "    <tr>\n",
        "      <th>0  </th>\n",
        "      <td>    14</td>\n",
        "      <td>    1</td>\n",
        "      <td>2008-01-01</td>\n",
        "    </tr>\n",
        "    <tr>\n",
        "      <th>1  </th>\n",
        "      <td>    16</td>\n",
        "      <td>    1</td>\n",
        "      <td>2008-02-01</td>\n",
        "    </tr>\n",
        "    <tr>\n",
        "      <th>2  </th>\n",
        "      <td>    96</td>\n",
        "      <td>    1</td>\n",
        "      <td>2008-03-01</td>\n",
        "    </tr>\n",
        "    <tr>\n",
        "      <th>3  </th>\n",
        "      <td>  3752</td>\n",
        "      <td>    1</td>\n",
        "      <td>2008-04-01</td>\n",
        "    </tr>\n",
        "    <tr>\n",
        "      <th>4  </th>\n",
        "      <td>  8431</td>\n",
        "      <td>    1</td>\n",
        "      <td>2008-05-01</td>\n",
        "    </tr>\n",
        "    <tr>\n",
        "      <th>5  </th>\n",
        "      <td>  5394</td>\n",
        "      <td>    1</td>\n",
        "      <td>2008-06-01</td>\n",
        "    </tr>\n",
        "    <tr>\n",
        "      <th>6  </th>\n",
        "      <td>  6763</td>\n",
        "      <td>    1</td>\n",
        "      <td>2008-07-01</td>\n",
        "    </tr>\n",
        "    <tr>\n",
        "      <th>7  </th>\n",
        "      <td>  8158</td>\n",
        "      <td>    1</td>\n",
        "      <td>2008-08-01</td>\n",
        "    </tr>\n",
        "    <tr>\n",
        "      <th>8  </th>\n",
        "      <td>  8009</td>\n",
        "      <td>    1</td>\n",
        "      <td>2008-09-01</td>\n",
        "    </tr>\n",
        "    <tr>\n",
        "      <th>9  </th>\n",
        "      <td> 10040</td>\n",
        "      <td>    1</td>\n",
        "      <td>2008-10-01</td>\n",
        "    </tr>\n",
        "    <tr>\n",
        "      <th>10 </th>\n",
        "      <td>  9398</td>\n",
        "      <td>    1</td>\n",
        "      <td>2008-11-01</td>\n",
        "    </tr>\n",
        "    <tr>\n",
        "      <th>11 </th>\n",
        "      <td>  8915</td>\n",
        "      <td>    1</td>\n",
        "      <td>2008-12-01</td>\n",
        "    </tr>\n",
        "    <tr>\n",
        "      <th>12 </th>\n",
        "      <td>  9040</td>\n",
        "      <td>    1</td>\n",
        "      <td>2009-01-01</td>\n",
        "    </tr>\n",
        "    <tr>\n",
        "      <th>13 </th>\n",
        "      <td>  9421</td>\n",
        "      <td>    1</td>\n",
        "      <td>2009-02-01</td>\n",
        "    </tr>\n",
        "    <tr>\n",
        "      <th>14 </th>\n",
        "      <td> 10804</td>\n",
        "      <td>    1</td>\n",
        "      <td>2009-03-01</td>\n",
        "    </tr>\n",
        "    <tr>\n",
        "      <th>15 </th>\n",
        "      <td> 10827</td>\n",
        "      <td>    1</td>\n",
        "      <td>2009-04-01</td>\n",
        "    </tr>\n",
        "    <tr>\n",
        "      <th>16 </th>\n",
        "      <td> 10397</td>\n",
        "      <td>    1</td>\n",
        "      <td>2009-05-01</td>\n",
        "    </tr>\n",
        "    <tr>\n",
        "      <th>17 </th>\n",
        "      <td> 11202</td>\n",
        "      <td>    1</td>\n",
        "      <td>2009-06-01</td>\n",
        "    </tr>\n",
        "    <tr>\n",
        "      <th>18 </th>\n",
        "      <td>  8099</td>\n",
        "      <td>    1</td>\n",
        "      <td>2009-07-01</td>\n",
        "    </tr>\n",
        "    <tr>\n",
        "      <th>19 </th>\n",
        "      <td>  7129</td>\n",
        "      <td>    1</td>\n",
        "      <td>2009-08-01</td>\n",
        "    </tr>\n",
        "    <tr>\n",
        "      <th>20 </th>\n",
        "      <td>  8101</td>\n",
        "      <td>    1</td>\n",
        "      <td>2009-09-01</td>\n",
        "    </tr>\n",
        "    <tr>\n",
        "      <th>21 </th>\n",
        "      <td> 11543</td>\n",
        "      <td>    1</td>\n",
        "      <td>2009-10-01</td>\n",
        "    </tr>\n",
        "    <tr>\n",
        "      <th>22 </th>\n",
        "      <td>  9300</td>\n",
        "      <td>    1</td>\n",
        "      <td>2009-11-01</td>\n",
        "    </tr>\n",
        "    <tr>\n",
        "      <th>23 </th>\n",
        "      <td>  9106</td>\n",
        "      <td>    1</td>\n",
        "      <td>2009-12-01</td>\n",
        "    </tr>\n",
        "    <tr>\n",
        "      <th>24 </th>\n",
        "      <td> 12378</td>\n",
        "      <td>    1</td>\n",
        "      <td>2010-01-01</td>\n",
        "    </tr>\n",
        "    <tr>\n",
        "      <th>25 </th>\n",
        "      <td>  9122</td>\n",
        "      <td>    1</td>\n",
        "      <td>2010-02-01</td>\n",
        "    </tr>\n",
        "    <tr>\n",
        "      <th>26 </th>\n",
        "      <td> 12578</td>\n",
        "      <td>    1</td>\n",
        "      <td>2010-03-01</td>\n",
        "    </tr>\n",
        "    <tr>\n",
        "      <th>27 </th>\n",
        "      <td> 11773</td>\n",
        "      <td>    1</td>\n",
        "      <td>2010-04-01</td>\n",
        "    </tr>\n",
        "    <tr>\n",
        "      <th>28 </th>\n",
        "      <td> 11373</td>\n",
        "      <td>    1</td>\n",
        "      <td>2010-05-01</td>\n",
        "    </tr>\n",
        "    <tr>\n",
        "      <th>29 </th>\n",
        "      <td> 12565</td>\n",
        "      <td>    1</td>\n",
        "      <td>2010-06-01</td>\n",
        "    </tr>\n",
        "    <tr>\n",
        "      <th>...</th>\n",
        "      <td>...</td>\n",
        "      <td>...</td>\n",
        "      <td>...</td>\n",
        "    </tr>\n",
        "    <tr>\n",
        "      <th>636</th>\n",
        "      <td>  9341</td>\n",
        "      <td> 1750</td>\n",
        "      <td>2012-02-01</td>\n",
        "    </tr>\n",
        "    <tr>\n",
        "      <th>637</th>\n",
        "      <td>  9762</td>\n",
        "      <td> 1750</td>\n",
        "      <td>2012-03-01</td>\n",
        "    </tr>\n",
        "    <tr>\n",
        "      <th>638</th>\n",
        "      <td>  9476</td>\n",
        "      <td> 1750</td>\n",
        "      <td>2012-04-01</td>\n",
        "    </tr>\n",
        "    <tr>\n",
        "      <th>639</th>\n",
        "      <td> 10433</td>\n",
        "      <td> 1750</td>\n",
        "      <td>2012-05-01</td>\n",
        "    </tr>\n",
        "    <tr>\n",
        "      <th>640</th>\n",
        "      <td> 10056</td>\n",
        "      <td> 1750</td>\n",
        "      <td>2012-06-01</td>\n",
        "    </tr>\n",
        "    <tr>\n",
        "      <th>641</th>\n",
        "      <td>  9454</td>\n",
        "      <td> 1750</td>\n",
        "      <td>2012-07-01</td>\n",
        "    </tr>\n",
        "    <tr>\n",
        "      <th>642</th>\n",
        "      <td> 10023</td>\n",
        "      <td> 1750</td>\n",
        "      <td>2012-08-01</td>\n",
        "    </tr>\n",
        "    <tr>\n",
        "      <th>643</th>\n",
        "      <td> 10887</td>\n",
        "      <td> 1750</td>\n",
        "      <td>2012-09-01</td>\n",
        "    </tr>\n",
        "    <tr>\n",
        "      <th>644</th>\n",
        "      <td> 12130</td>\n",
        "      <td> 1750</td>\n",
        "      <td>2012-10-01</td>\n",
        "    </tr>\n",
        "    <tr>\n",
        "      <th>645</th>\n",
        "      <td> 12194</td>\n",
        "      <td> 1750</td>\n",
        "      <td>2012-11-01</td>\n",
        "    </tr>\n",
        "    <tr>\n",
        "      <th>646</th>\n",
        "      <td> 10437</td>\n",
        "      <td> 1750</td>\n",
        "      <td>2012-12-01</td>\n",
        "    </tr>\n",
        "    <tr>\n",
        "      <th>647</th>\n",
        "      <td> 12183</td>\n",
        "      <td> 1750</td>\n",
        "      <td>2013-01-01</td>\n",
        "    </tr>\n",
        "    <tr>\n",
        "      <th>648</th>\n",
        "      <td> 10997</td>\n",
        "      <td> 1750</td>\n",
        "      <td>2013-02-01</td>\n",
        "    </tr>\n",
        "    <tr>\n",
        "      <th>649</th>\n",
        "      <td> 11621</td>\n",
        "      <td> 1750</td>\n",
        "      <td>2013-03-01</td>\n",
        "    </tr>\n",
        "    <tr>\n",
        "      <th>650</th>\n",
        "      <td> 11090</td>\n",
        "      <td> 1750</td>\n",
        "      <td>2013-04-01</td>\n",
        "    </tr>\n",
        "    <tr>\n",
        "      <th>651</th>\n",
        "      <td> 10991</td>\n",
        "      <td> 1750</td>\n",
        "      <td>2013-05-01</td>\n",
        "    </tr>\n",
        "    <tr>\n",
        "      <th>652</th>\n",
        "      <td> 11070</td>\n",
        "      <td> 1750</td>\n",
        "      <td>2013-06-01</td>\n",
        "    </tr>\n",
        "    <tr>\n",
        "      <th>653</th>\n",
        "      <td> 11625</td>\n",
        "      <td> 1750</td>\n",
        "      <td>2013-07-01</td>\n",
        "    </tr>\n",
        "    <tr>\n",
        "      <th>654</th>\n",
        "      <td> 11002</td>\n",
        "      <td> 1750</td>\n",
        "      <td>2013-08-01</td>\n",
        "    </tr>\n",
        "    <tr>\n",
        "      <th>655</th>\n",
        "      <td> 11375</td>\n",
        "      <td> 1750</td>\n",
        "      <td>2013-09-01</td>\n",
        "    </tr>\n",
        "    <tr>\n",
        "      <th>656</th>\n",
        "      <td> 12735</td>\n",
        "      <td> 1750</td>\n",
        "      <td>2013-10-01</td>\n",
        "    </tr>\n",
        "    <tr>\n",
        "      <th>657</th>\n",
        "      <td> 12239</td>\n",
        "      <td> 1750</td>\n",
        "      <td>2013-11-01</td>\n",
        "    </tr>\n",
        "    <tr>\n",
        "      <th>658</th>\n",
        "      <td> 10786</td>\n",
        "      <td> 1750</td>\n",
        "      <td>2013-12-01</td>\n",
        "    </tr>\n",
        "    <tr>\n",
        "      <th>659</th>\n",
        "      <td> 11180</td>\n",
        "      <td> 1750</td>\n",
        "      <td>2014-01-01</td>\n",
        "    </tr>\n",
        "    <tr>\n",
        "      <th>660</th>\n",
        "      <td> 10005</td>\n",
        "      <td> 1750</td>\n",
        "      <td>2014-02-01</td>\n",
        "    </tr>\n",
        "    <tr>\n",
        "      <th>661</th>\n",
        "      <td> 10830</td>\n",
        "      <td> 1750</td>\n",
        "      <td>2014-03-01</td>\n",
        "    </tr>\n",
        "    <tr>\n",
        "      <th>662</th>\n",
        "      <td> 10970</td>\n",
        "      <td> 1750</td>\n",
        "      <td>2014-04-01</td>\n",
        "    </tr>\n",
        "    <tr>\n",
        "      <th>663</th>\n",
        "      <td> 11308</td>\n",
        "      <td> 1750</td>\n",
        "      <td>2014-05-01</td>\n",
        "    </tr>\n",
        "    <tr>\n",
        "      <th>664</th>\n",
        "      <td> 11524</td>\n",
        "      <td> 1750</td>\n",
        "      <td>2014-06-01</td>\n",
        "    </tr>\n",
        "    <tr>\n",
        "      <th>665</th>\n",
        "      <td> 11884</td>\n",
        "      <td> 1750</td>\n",
        "      <td>2014-07-01</td>\n",
        "    </tr>\n",
        "  </tbody>\n",
        "</table>\n",
        "<p>666 rows \u00d7 3 columns</p>\n",
        "</div>"
       ],
       "metadata": {},
       "output_type": "pyout",
       "prompt_number": 14,
       "text": [
        "     count  media_id      month\n",
        "0       14         1 2008-01-01\n",
        "1       16         1 2008-02-01\n",
        "2       96         1 2008-03-01\n",
        "3     3752         1 2008-04-01\n",
        "4     8431         1 2008-05-01\n",
        "5     5394         1 2008-06-01\n",
        "6     6763         1 2008-07-01\n",
        "7     8158         1 2008-08-01\n",
        "8     8009         1 2008-09-01\n",
        "9    10040         1 2008-10-01\n",
        "10    9398         1 2008-11-01\n",
        "11    8915         1 2008-12-01\n",
        "12    9040         1 2009-01-01\n",
        "13    9421         1 2009-02-01\n",
        "14   10804         1 2009-03-01\n",
        "15   10827         1 2009-04-01\n",
        "16   10397         1 2009-05-01\n",
        "17   11202         1 2009-06-01\n",
        "18    8099         1 2009-07-01\n",
        "19    7129         1 2009-08-01\n",
        "20    8101         1 2009-09-01\n",
        "21   11543         1 2009-10-01\n",
        "22    9300         1 2009-11-01\n",
        "23    9106         1 2009-12-01\n",
        "24   12378         1 2010-01-01\n",
        "25    9122         1 2010-02-01\n",
        "26   12578         1 2010-03-01\n",
        "27   11773         1 2010-04-01\n",
        "28   11373         1 2010-05-01\n",
        "29   12565         1 2010-06-01\n",
        "..     ...       ...        ...\n",
        "636   9341      1750 2012-02-01\n",
        "637   9762      1750 2012-03-01\n",
        "638   9476      1750 2012-04-01\n",
        "639  10433      1750 2012-05-01\n",
        "640  10056      1750 2012-06-01\n",
        "641   9454      1750 2012-07-01\n",
        "642  10023      1750 2012-08-01\n",
        "643  10887      1750 2012-09-01\n",
        "644  12130      1750 2012-10-01\n",
        "645  12194      1750 2012-11-01\n",
        "646  10437      1750 2012-12-01\n",
        "647  12183      1750 2013-01-01\n",
        "648  10997      1750 2013-02-01\n",
        "649  11621      1750 2013-03-01\n",
        "650  11090      1750 2013-04-01\n",
        "651  10991      1750 2013-05-01\n",
        "652  11070      1750 2013-06-01\n",
        "653  11625      1750 2013-07-01\n",
        "654  11002      1750 2013-08-01\n",
        "655  11375      1750 2013-09-01\n",
        "656  12735      1750 2013-10-01\n",
        "657  12239      1750 2013-11-01\n",
        "658  10786      1750 2013-12-01\n",
        "659  11180      1750 2014-01-01\n",
        "660  10005      1750 2014-02-01\n",
        "661  10830      1750 2014-03-01\n",
        "662  10970      1750 2014-04-01\n",
        "663  11308      1750 2014-05-01\n",
        "664  11524      1750 2014-06-01\n",
        "665  11884      1750 2014-07-01\n",
        "\n",
        "[666 rows x 3 columns]"
       ]
      }
     ],
     "prompt_number": 14
    },
    {
     "cell_type": "code",
     "collapsed": false,
     "input": [
      "all_media = []\n",
      "\n",
      "last_media_id = 0\n",
      "\n",
      "while True:\n",
      "    media = mc.mediaList( last_media_id=last_media_id, rows=1000)\n",
      "    print last_media_id, len( media ), len( all_media )\n",
      "\n",
      "    if len(media) == 0:\n",
      "        break\n",
      "        \n",
      "    last_media_id = media[-1]['media_id']\n",
      "    last_media_id\n",
      "    \n",
      "\n",
      "        \n",
      "    all_media.extend(media)\n",
      "\n",
      "len(all_media)\n",
      "    "
     ],
     "language": "python",
     "metadata": {},
     "outputs": [
      {
       "output_type": "stream",
       "stream": "stdout",
       "text": [
        "0 1000 0\n",
        "1253"
       ]
      },
      {
       "output_type": "stream",
       "stream": "stdout",
       "text": [
        " 1000 1000\n",
        "2333"
       ]
      },
      {
       "output_type": "stream",
       "stream": "stdout",
       "text": [
        " 1000 2000\n",
        "3358"
       ]
      },
      {
       "output_type": "stream",
       "stream": "stdout",
       "text": [
        " 1000 3000\n",
        "4364"
       ]
      },
      {
       "output_type": "stream",
       "stream": "stdout",
       "text": [
        " 1000 4000\n",
        "5378"
       ]
      },
      {
       "output_type": "stream",
       "stream": "stdout",
       "text": [
        " 1000 5000\n",
        "6392"
       ]
      },
      {
       "output_type": "stream",
       "stream": "stdout",
       "text": [
        " 1000 6000\n",
        "7418"
       ]
      },
      {
       "output_type": "stream",
       "stream": "stdout",
       "text": [
        " 1000 7000\n",
        "8419"
       ]
      },
      {
       "output_type": "stream",
       "stream": "stdout",
       "text": [
        " 1000 8000\n",
        "9419"
       ]
      },
      {
       "output_type": "stream",
       "stream": "stdout",
       "text": [
        " 1000 9000\n",
        "10419"
       ]
      },
      {
       "output_type": "stream",
       "stream": "stdout",
       "text": [
        " 1000 10000\n",
        "11419"
       ]
      },
      {
       "output_type": "stream",
       "stream": "stdout",
       "text": [
        " 1000 11000\n",
        "12420"
       ]
      },
      {
       "output_type": "stream",
       "stream": "stdout",
       "text": [
        " 1000 12000\n",
        "13422"
       ]
      },
      {
       "output_type": "stream",
       "stream": "stdout",
       "text": [
        " 1000 13000\n",
        "14424"
       ]
      },
      {
       "output_type": "stream",
       "stream": "stdout",
       "text": [
        " 1000 14000\n",
        "15424"
       ]
      },
      {
       "output_type": "stream",
       "stream": "stdout",
       "text": [
        " 1000 15000\n",
        "16425"
       ]
      },
      {
       "output_type": "stream",
       "stream": "stdout",
       "text": [
        " 1000 16000\n",
        "17425"
       ]
      },
      {
       "output_type": "stream",
       "stream": "stdout",
       "text": [
        " 1000 17000\n",
        "18655"
       ]
      },
      {
       "output_type": "stream",
       "stream": "stdout",
       "text": [
        " 1000 18000\n",
        "19655"
       ]
      },
      {
       "output_type": "stream",
       "stream": "stdout",
       "text": [
        " 1000 19000\n",
        "20657"
       ]
      },
      {
       "output_type": "stream",
       "stream": "stdout",
       "text": [
        " 1000 20000\n",
        "21658"
       ]
      },
      {
       "output_type": "stream",
       "stream": "stdout",
       "text": [
        " 1000 21000\n",
        "22658"
       ]
      },
      {
       "output_type": "stream",
       "stream": "stdout",
       "text": [
        " 1000 22000\n",
        "23660"
       ]
      },
      {
       "output_type": "stream",
       "stream": "stdout",
       "text": [
        " 1000 23000\n",
        "24811"
       ]
      },
      {
       "output_type": "stream",
       "stream": "stdout",
       "text": [
        " 1000 24000\n",
        "25811"
       ]
      },
      {
       "output_type": "stream",
       "stream": "stdout",
       "text": [
        " 1000 25000\n",
        "26811"
       ]
      },
      {
       "output_type": "stream",
       "stream": "stdout",
       "text": [
        " 1000 26000\n",
        "27820"
       ]
      },
      {
       "output_type": "stream",
       "stream": "stdout",
       "text": [
        " 1000 27000\n",
        "29019"
       ]
      },
      {
       "output_type": "stream",
       "stream": "stdout",
       "text": [
        " 1000 28000\n",
        "30019"
       ]
      },
      {
       "output_type": "stream",
       "stream": "stdout",
       "text": [
        " 1000 29000\n",
        "31019"
       ]
      },
      {
       "output_type": "stream",
       "stream": "stdout",
       "text": [
        " 1000 30000\n",
        "32019"
       ]
      },
      {
       "output_type": "stream",
       "stream": "stdout",
       "text": [
        " 1000 31000\n",
        "33019"
       ]
      },
      {
       "output_type": "stream",
       "stream": "stdout",
       "text": [
        " 1000 32000\n",
        "34019"
       ]
      },
      {
       "output_type": "stream",
       "stream": "stdout",
       "text": [
        " 1000 33000\n",
        "35019"
       ]
      },
      {
       "output_type": "stream",
       "stream": "stdout",
       "text": [
        " 1000 34000\n",
        "39076"
       ]
      },
      {
       "output_type": "stream",
       "stream": "stdout",
       "text": [
        " 1000 35000\n",
        "40076"
       ]
      },
      {
       "output_type": "stream",
       "stream": "stdout",
       "text": [
        " 1000 36000\n",
        "41076"
       ]
      },
      {
       "output_type": "stream",
       "stream": "stdout",
       "text": [
        " 1000 37000\n",
        "42077"
       ]
      },
      {
       "output_type": "stream",
       "stream": "stdout",
       "text": [
        " 1000 38000\n",
        "43077"
       ]
      },
      {
       "output_type": "stream",
       "stream": "stdout",
       "text": [
        " 1000 39000\n",
        "44077"
       ]
      },
      {
       "output_type": "stream",
       "stream": "stdout",
       "text": [
        " 1000 40000\n",
        "45077"
       ]
      },
      {
       "output_type": "stream",
       "stream": "stdout",
       "text": [
        " 1000 41000\n",
        "46077"
       ]
      },
      {
       "output_type": "stream",
       "stream": "stdout",
       "text": [
        " 1000 42000\n",
        "47077"
       ]
      },
      {
       "output_type": "stream",
       "stream": "stdout",
       "text": [
        " 1000 43000\n",
        "48077"
       ]
      },
      {
       "output_type": "stream",
       "stream": "stdout",
       "text": [
        " 1000 44000\n",
        "49077"
       ]
      },
      {
       "output_type": "stream",
       "stream": "stdout",
       "text": [
        " 1000 45000\n",
        "50077"
       ]
      },
      {
       "output_type": "stream",
       "stream": "stdout",
       "text": [
        " 1000 46000\n",
        "51077"
       ]
      },
      {
       "output_type": "stream",
       "stream": "stdout",
       "text": [
        " 1000 47000\n",
        "52078"
       ]
      },
      {
       "output_type": "stream",
       "stream": "stdout",
       "text": [
        " 1000 48000\n",
        "53103"
       ]
      },
      {
       "output_type": "stream",
       "stream": "stdout",
       "text": [
        " 1000 49000\n",
        "54103"
       ]
      },
      {
       "output_type": "stream",
       "stream": "stdout",
       "text": [
        " 1000 50000\n",
        "55880"
       ]
      },
      {
       "output_type": "stream",
       "stream": "stdout",
       "text": [
        " 1000 51000\n",
        "56880"
       ]
      },
      {
       "output_type": "stream",
       "stream": "stdout",
       "text": [
        " 1000 52000\n",
        "57880"
       ]
      },
      {
       "output_type": "stream",
       "stream": "stdout",
       "text": [
        " 1000 53000\n",
        "58880"
       ]
      },
      {
       "output_type": "stream",
       "stream": "stdout",
       "text": [
        " 1000 54000\n",
        "59880"
       ]
      },
      {
       "output_type": "stream",
       "stream": "stdout",
       "text": [
        " 1000 55000\n",
        "60880"
       ]
      },
      {
       "output_type": "stream",
       "stream": "stdout",
       "text": [
        " 1000 56000\n",
        "61880"
       ]
      },
      {
       "output_type": "stream",
       "stream": "stdout",
       "text": [
        " 1000 57000\n",
        "62880"
       ]
      },
      {
       "output_type": "stream",
       "stream": "stdout",
       "text": [
        " 1000 58000\n",
        "63880"
       ]
      },
      {
       "output_type": "stream",
       "stream": "stdout",
       "text": [
        " 1000 59000\n",
        "64880"
       ]
      },
      {
       "output_type": "stream",
       "stream": "stdout",
       "text": [
        " 1000 60000\n",
        "65880"
       ]
      },
      {
       "output_type": "stream",
       "stream": "stdout",
       "text": [
        " 1000 61000\n",
        "67013"
       ]
      },
      {
       "output_type": "stream",
       "stream": "stdout",
       "text": [
        " 1000 62000\n",
        "68014"
       ]
      },
      {
       "output_type": "stream",
       "stream": "stdout",
       "text": [
        " 1000 63000\n",
        "69015"
       ]
      },
      {
       "output_type": "stream",
       "stream": "stdout",
       "text": [
        " 1000 64000\n",
        "70015"
       ]
      },
      {
       "output_type": "stream",
       "stream": "stdout",
       "text": [
        " 1000 65000\n",
        "71016"
       ]
      },
      {
       "output_type": "stream",
       "stream": "stdout",
       "text": [
        " 1000 66000\n",
        "72017"
       ]
      },
      {
       "output_type": "stream",
       "stream": "stdout",
       "text": [
        " 1000 67000\n",
        "73017"
       ]
      },
      {
       "output_type": "stream",
       "stream": "stdout",
       "text": [
        " 1000 68000\n",
        "74017"
       ]
      },
      {
       "output_type": "stream",
       "stream": "stdout",
       "text": [
        " 1000 69000\n",
        "75018"
       ]
      },
      {
       "output_type": "stream",
       "stream": "stdout",
       "text": [
        " 1000 70000\n",
        "76018"
       ]
      },
      {
       "output_type": "stream",
       "stream": "stdout",
       "text": [
        " 1000 71000\n",
        "77018"
       ]
      },
      {
       "output_type": "stream",
       "stream": "stdout",
       "text": [
        " 1000 72000\n",
        "78018"
       ]
      },
      {
       "output_type": "stream",
       "stream": "stdout",
       "text": [
        " 1000 73000\n",
        "79019"
       ]
      },
      {
       "output_type": "stream",
       "stream": "stdout",
       "text": [
        " 1000 74000\n",
        "80019"
       ]
      },
      {
       "output_type": "stream",
       "stream": "stdout",
       "text": [
        " 1000 75000\n",
        "81019"
       ]
      },
      {
       "output_type": "stream",
       "stream": "stdout",
       "text": [
        " 1000 76000\n",
        "82020"
       ]
      },
      {
       "output_type": "stream",
       "stream": "stdout",
       "text": [
        " 1000 77000\n",
        "83021"
       ]
      },
      {
       "output_type": "stream",
       "stream": "stdout",
       "text": [
        " 1000 78000\n",
        "84063"
       ]
      },
      {
       "output_type": "stream",
       "stream": "stdout",
       "text": [
        " 1000 79000\n",
        "85072"
       ]
      },
      {
       "output_type": "stream",
       "stream": "stdout",
       "text": [
        " 1000 80000\n",
        "86072"
       ]
      },
      {
       "output_type": "stream",
       "stream": "stdout",
       "text": [
        " 1000 81000\n",
        "87072"
       ]
      },
      {
       "output_type": "stream",
       "stream": "stdout",
       "text": [
        " 1000 82000\n",
        "88072"
       ]
      },
      {
       "output_type": "stream",
       "stream": "stdout",
       "text": [
        " 1000 83000\n",
        "89072"
       ]
      },
      {
       "output_type": "stream",
       "stream": "stdout",
       "text": [
        " 1000 84000\n",
        "90072"
       ]
      },
      {
       "output_type": "stream",
       "stream": "stdout",
       "text": [
        " 1000 85000\n",
        "91089"
       ]
      },
      {
       "output_type": "stream",
       "stream": "stdout",
       "text": [
        " 1000 86000\n",
        "92089"
       ]
      },
      {
       "output_type": "stream",
       "stream": "stdout",
       "text": [
        " 1000 87000\n",
        "93089"
       ]
      },
      {
       "output_type": "stream",
       "stream": "stdout",
       "text": [
        " 1000 88000\n",
        "94089"
       ]
      },
      {
       "output_type": "stream",
       "stream": "stdout",
       "text": [
        " 1000 89000\n",
        "95089"
       ]
      },
      {
       "output_type": "stream",
       "stream": "stdout",
       "text": [
        " 1000 90000\n",
        "96089"
       ]
      },
      {
       "output_type": "stream",
       "stream": "stdout",
       "text": [
        " 1000 91000\n",
        "97091"
       ]
      },
      {
       "output_type": "stream",
       "stream": "stdout",
       "text": [
        " 1000 92000\n",
        "98091"
       ]
      },
      {
       "output_type": "stream",
       "stream": "stdout",
       "text": [
        " 1000 93000\n",
        "99091"
       ]
      },
      {
       "output_type": "stream",
       "stream": "stdout",
       "text": [
        " 1000 94000\n",
        "100091"
       ]
      },
      {
       "output_type": "stream",
       "stream": "stdout",
       "text": [
        " 1000 95000\n",
        "101091"
       ]
      },
      {
       "output_type": "stream",
       "stream": "stdout",
       "text": [
        " 1000 96000\n",
        "102268"
       ]
      },
      {
       "output_type": "stream",
       "stream": "stdout",
       "text": [
        " 1000 97000\n",
        "103306"
       ]
      },
      {
       "output_type": "stream",
       "stream": "stdout",
       "text": [
        " 1000 98000\n",
        "104306"
       ]
      },
      {
       "output_type": "stream",
       "stream": "stdout",
       "text": [
        " 551 99000\n",
        "104857"
       ]
      },
      {
       "output_type": "stream",
       "stream": "stdout",
       "text": [
        " 0 99551\n"
       ]
      },
      {
       "metadata": {},
       "output_type": "pyout",
       "prompt_number": 5,
       "text": [
        "99551"
       ]
      }
     ],
     "prompt_number": 5
    },
    {
     "cell_type": "markdown",
     "metadata": {},
     "source": [
      "import mediacloud, json\n",
      "mc = mediacloud.api.MediaCloud(api_key)\n"
     ]
    },
    {
     "cell_type": "markdown",
     "metadata": {},
     "source": [
      "import mediacloud, json\n",
      "mc = mediacloud.api.MediaCloud(api_key)\n"
     ]
    }
   ],
   "metadata": {}
  }
 ]
}