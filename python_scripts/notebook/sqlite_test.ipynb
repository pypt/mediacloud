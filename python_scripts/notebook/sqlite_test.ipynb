{
 "metadata": {
  "name": ""
 },
 "nbformat": 3,
 "nbformat_minor": 0,
 "worksheets": [
  {
   "cells": [
    {
     "cell_type": "code",
     "collapsed": false,
     "input": [
      "import sqlite3\n",
      "\n",
      "db = sqlite3.connect('extractor_train_dbs/dev_2014-10-23T11_02_21-0400.db')\n",
      "db.row_factory = sqlite3.Row\n",
      "\n",
      "cursor = db.cursor()\n",
      "\n",
      "cursor.execute( \"SELECT * from dlannotations\" )\n",
      "\n",
      "\n"
     ],
     "language": "python",
     "metadata": {},
     "outputs": [
      {
       "metadata": {},
       "output_type": "pyout",
       "prompt_number": 7,
       "text": [
        "<sqlite3.Cursor at 0x7f11dcebf7a0>"
       ]
      }
     ],
     "prompt_number": 7
    },
    {
     "cell_type": "code",
     "collapsed": false,
     "input": [
      "row = cursor.fetchone()\n",
      "print row\n",
      "d = dict([ (k, row[k]) for k in row.keys() ])\n",
      "d.keys()\n"
     ],
     "language": "python",
     "metadata": {},
     "outputs": [
      {
       "output_type": "stream",
       "stream": "stdout",
       "text": [
        "<sqlite3.Row object at 0x7f11ef8b0850>\n"
       ]
      },
      {
       "metadata": {},
       "output_type": "pyout",
       "prompt_number": 22,
       "text": [
        "['annotator_name',\n",
        " 'downloads_id',\n",
        " 'raw_content',\n",
        " 'last_updated',\n",
        " 'annotations_json']"
       ]
      }
     ],
     "prompt_number": 22
    }
   ],
   "metadata": {}
  }
 ]
}