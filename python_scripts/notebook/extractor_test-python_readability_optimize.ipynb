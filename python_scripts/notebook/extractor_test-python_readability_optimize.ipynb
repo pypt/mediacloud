{
 "metadata": {
  "name": "",
  "signature": "sha256:dc860e0e84401a00a5f54cddb541a3a1924cabf9d3dad7dfc5cc9d53ca0c11a8"
 },
 "nbformat": 3,
 "nbformat_minor": 0,
 "worksheets": [
  {
   "cells": [
    {
     "cell_type": "heading",
     "level": 1,
     "metadata": {},
     "source": [
      "Optimize Python Readability"
     ]
    },
    {
     "cell_type": "markdown",
     "metadata": {},
     "source": [
      "This notebook contains our experiments with optimizing the internal heuristics of the python readability module.\n",
      "\n",
      "We forked python-readabilty and replaced the hard coded constants with instance variables which we could then tweak to find their optimial value. ( Forked repo is available at https://github.com/dlarochelle/python-readability )\n",
      "We then attempted to find the optimial values for each of these instance variable constants.\n",
      "\n",
      "We experimented with 2 approaches: \n",
      "\n",
      "* using a binary like search to optimize each value indvidually\n",
      "* using sci.py's parameter optimization routines\n",
      "\n",
      "# binary search individual optimization\n",
      "\n",
      "We randomly split our data into training and test sets. Then using a binary like search, we found that there were 6 parameters that could be modified to improve the F1 score on the test set by more than 0.001: LOW_WEIGHT_LINK_DENSITY_THRESHOLD, MIN_SIBLING_SCORE_THRESHOLD, BEST_SCORE_MULTIPLIER_THRESHOLD, CONTENT_SCORE_DIV_BONUS, CLASS_WEIGHT_NEGATIVE_RE_PENALTY, CLASS_WEIGHT_POSITVE_RE_BONUS. Unfortunately, our tests showed that the parameters were not independent. Rerunning the analysis on the training data with all of the significantly optimized parameters set to their optimized value yielded an improvement of only 0.000805. Note that this was a smaller improvement than we obtained from only tweaking each parameter individually.\n",
      "\n",
      "When we also tried analyzing the test set while modifying only the parameter which created the largest improvement in the training set ('CONTENT_SCORE_DIV_BONUS' - 0.005 improvement). However, our accuracy on the testset actually decreased compared to using only the default values.\n",
      "\n",
      "# sci.py's parameter optimization routines\n",
      "\n",
      "There are routines in Python that try to do automated global parameter optimization. \n",
      "We experimented with them a bit but found that they were mainly designed for functions in which even small changes to the params changed the result. Thus they tended to accept the initial values as optimal when small tweaks e.g. +/- 0.001 had no effect.\n",
      "\n",
      "Sci.py also contains a basinhopping optimization function ( http://docs.scipy.org/doc/scipy-dev/reference/generated/scipy.optimize.basinhopping.html) which automates the process of selecting initial param values which are then passed to another optimization routine. However, it is slow -- even with only a few parameters to optimize, it did not complete after running over night. (The reason it's slow is because evaluating a single set of parameter values on our test set takes over 1 minute.) However, if we want to try global optimization of multiple parameters basinhopping is probably what we want to use. \n",
      "\n",
      "**At the moment, we have decided to simply use the default version of python-readability instead of investing more development time in parameter optimization.**\n",
      "\n",
      "**Although it would be interesting to explore basinhopping in more detail, that would require more development time and CPU resources. Additionally, there is the danger that by optimizing over multiple parameters, we would overfit the training data.**\n",
      "\n",
      "\n",
      "Internal Redmine issue for reference: https://cyber.law.harvard.edu/projectmanagement/issues/10722"
     ]
    },
    {
     "cell_type": "heading",
     "level": 2,
     "metadata": {},
     "source": [
      "Set up / Methods"
     ]
    },
    {
     "cell_type": "code",
     "collapsed": false,
     "input": [
      "import cPickle\n",
      "import os.path\n",
      "\n",
      "api_key = cPickle.load( file( os.path.expanduser( '~/mediacloud_api_key.pickle' ), 'r' ) )"
     ],
     "language": "python",
     "metadata": {},
     "outputs": [],
     "prompt_number": 1
    },
    {
     "cell_type": "code",
     "collapsed": false,
     "input": [
      "import cPickle\n",
      "import os.path\n",
      "\n",
      "cPickle.dump( api_key, file( os.path.expanduser( '~/mediacloud_api_key.pickle' ), 'wb' ) )"
     ],
     "language": "python",
     "metadata": {},
     "outputs": [],
     "prompt_number": 2
    },
    {
     "cell_type": "code",
     "collapsed": false,
     "input": [
      "#import sys\n",
      "#sys.path.append('../../foreign_modules/python/')"
     ],
     "language": "python",
     "metadata": {},
     "outputs": [],
     "prompt_number": 3
    },
    {
     "cell_type": "code",
     "collapsed": false,
     "input": [
      "loc_key = 'f66a50230d54afaf18822808aed649f1d6ca72b08fb06d5efb6247afe9fbae52'"
     ],
     "language": "python",
     "metadata": {},
     "outputs": [],
     "prompt_number": 4
    },
    {
     "cell_type": "code",
     "collapsed": false,
     "input": [
      "import subprocess\n",
      "import tempfile\n",
      "import codecs\n",
      "import time"
     ],
     "language": "python",
     "metadata": {},
     "outputs": [],
     "prompt_number": 5
    },
    {
     "cell_type": "code",
     "collapsed": false,
     "input": [
      "import operator"
     ],
     "language": "python",
     "metadata": {},
     "outputs": [],
     "prompt_number": 6
    },
    {
     "cell_type": "code",
     "collapsed": false,
     "input": [
      "def lines_to_comparable_text( lines ):\n",
      "    text = u\"\\n\\n\".join([ clean_for_comparison(line) for line in lines ])\n",
      "    \n",
      "    if text == '':\n",
      "        text = u''\n",
      "        \n",
      "    return text\n",
      "\n",
      "def html_to_comparable_text( html_text ):\n",
      "    text = clean_for_comparison( html_text )\n",
      "    \n",
      "    if text == '' or text == None:\n",
      "        text = u''\n",
      "        \n",
      "    return text"
     ],
     "language": "python",
     "metadata": {},
     "outputs": [],
     "prompt_number": 7
    },
    {
     "cell_type": "code",
     "collapsed": false,
     "input": [
      "import lxml\n",
      "import html2text\n",
      "\n",
      "def html_strip( str ):\n",
      "    if str.isspace() or str == '':\n",
      "        return u' '\n",
      "    \n",
      "    if str == '<':\n",
      "        return u' '        \n",
      "    \n",
      "    try:\n",
      "        h = html2text.HTML2Text()\n",
      "        h.ignore_links = True\n",
      "        return h.handle( str )\n",
      "        #return lxml.html.fromstring(str).text_content()    \n",
      "    except:\n",
      "        print \"Unexpected error on string '\" + str + \"'\" , sys.exc_info()[0]\n",
      "        raise\n",
      "        return u''       \n",
      "\n",
      "def clean_for_comparison( str ):\n",
      "    if len(str) > 0:\n",
      "        ret = html_strip( str )\n",
      "    else:\n",
      "        return str\n",
      "    \n",
      "    return ret    "
     ],
     "language": "python",
     "metadata": {},
     "outputs": [],
     "prompt_number": 8
    },
    {
     "cell_type": "code",
     "collapsed": false,
     "input": [
      "import difflib\n",
      "from IPython.display import HTML\n",
      "\n",
      "from collections import Counter\n",
      "\n",
      "def ro_compare_base( actual_text, expected_text ):\n",
      "    \n",
      "    words_expected = expected_text.split()\n",
      "    words_crf      = actual_text.split()\n",
      "    \n",
      "    differ = difflib.Differ( )\n",
      "    \n",
      "    #print words_crf[:10]\n",
      "    #print words_expected[:10]\n",
      "    list( differ.compare( words_crf , words_expected ) )\n",
      "    counts = Counter([ d[0] for d in differ.compare( words_expected, words_crf   ) ])\n",
      "    \n",
      "    tp = counts[' ']\n",
      "    fp = counts['+']\n",
      "    fn = counts['-']\n",
      "    \n",
      "    return  { 'tp': tp, 'fp': fp, 'fn': fn }\n",
      "\n",
      "def precision_recall_f1( tp, fp, fn ):\n",
      "    \n",
      "    if float(tp+fp) == 0:\n",
      "        precision = 0.0\n",
      "    else:\n",
      "        precision = tp/float(tp+fp)\n",
      "        \n",
      "    if float( tp + fn ) == 0:\n",
      "        recall = 0\n",
      "    else:\n",
      "        recall    = tp/float( tp + fn )\n",
      "    \n",
      "    if ( precision + recall ) > 0:\n",
      "        f1 = 2*(precision*recall)/( precision + recall )\n",
      "    else:\n",
      "        f1 = 0\n",
      "    \n",
      "    ret = { 'precision': precision,\n",
      "        'recall': recall,\n",
      "        'f1': f1\n",
      "    }\n",
      "    \n",
      "    return ret\n",
      "\n",
      "def ratcliff_obershelp_compare( actual_text, expected_text ):\n",
      "\n",
      "    comp_results = ro_compare_base( actual_text, expected_text )\n",
      "    \n",
      "    tp = comp_results[ 'tp' ]\n",
      "    fp = comp_results['fp']\n",
      "    fn = comp_results['fn']\n",
      "\n",
      "    ret = precision_recall_f1( tp, fp, fn )\n",
      "    \n",
      "    return ret\n",
      "\n",
      "def compare_with_expected( extractor_name, actual_text, actual_html, expected_text, story ):\n",
      "    #actual_text = lines_to_comparable_text( actual_lines )\n",
      "    #expected_text = lines_to_comparable_text( expected_lines )\n",
      "    ret = {}\n",
      "    ret[ extractor_name ] = ratcliff_obershelp_compare( actual_text, expected_text )\n",
      "    \n",
      "    if compare_deduplicated:\n",
      "        dedup_text = remove_duplicate_sentences( actual_html, story )\n",
      "        \n",
      "        ret[ extractor_name + \"_dedup\" ] = ratcliff_obershelp_compare( dedup_text, expected_text )\n",
      "    \n",
      "    return ret"
     ],
     "language": "python",
     "metadata": {},
     "outputs": [],
     "prompt_number": 9
    },
    {
     "cell_type": "code",
     "collapsed": false,
     "input": [
      "def python_readability_results( eto, readability_options):\n",
      "    \n",
      "    #readability_options['debug'] = True\n",
      "    raw_content = eto['raw_content']\n",
      "    extract_res = { 'extracted_html': extract_with_python_readability( raw_content , readability_options) }\n",
      "\n",
      "    if 'extracted_text' not in extract_res:\n",
      "            extract_res['extracted_text'] = html_to_comparable_text( extract_res['extracted_html' ] )\n",
      "    \n",
      "    \n",
      "    expected_text = eto['expected_text']\n",
      "    story = eto['story']\n",
      "    \n",
      "    return ro_compare_base( actual_text=extract_res['extracted_text' ] , expected_text=expected_text )  "
     ],
     "language": "python",
     "metadata": {},
     "outputs": [],
     "prompt_number": 10
    },
    {
     "cell_type": "heading",
     "level": 1,
     "metadata": {},
     "source": [
      "Flags"
     ]
    },
    {
     "cell_type": "code",
     "collapsed": false,
     "input": [
      "regenerate_extractor_training_objects = True\n",
      "regenerate_media_id_media_map         = False\n",
      "regenerate_comps_downloads            = True\n",
      "compare_deduplicated                  = False"
     ],
     "language": "python",
     "metadata": {},
     "outputs": [],
     "prompt_number": 11
    },
    {
     "cell_type": "heading",
     "level": 2,
     "metadata": {},
     "source": [
      "Load Data"
     ]
    },
    {
     "cell_type": "code",
     "collapsed": false,
     "input": [
      "extractor_training_objects = cPickle.load( file( \n",
      "                                                os.path.expanduser( '~/Dropbox/mc/extractor_test/extractor_training_objects.pickle' ), \"rb\" ) )\n",
      "\n",
      "#cPickle.load( open( \"extractor_traning_objects.pickle\", \"rb\") )\n",
      "\n",
      "print len( extractor_training_objects )"
     ],
     "language": "python",
     "metadata": {},
     "outputs": [
      {
       "output_type": "stream",
       "stream": "stdout",
       "text": [
        "717\n"
       ]
      }
     ],
     "prompt_number": 12
    },
    {
     "cell_type": "heading",
     "level": 2,
     "metadata": {},
     "source": [
      "Run extractors"
     ]
    },
    {
     "cell_type": "code",
     "collapsed": false,
     "input": [
      "import math\n",
      "import random\n",
      "import numpy\n",
      "\n",
      "def python_readability_f1_mean( extractor_training_objects, py_readability_options = {}):\n",
      "    \n",
      "    #reload( difflib )\n",
      "    #reload( readability )\n",
      "    #reload( lxml )\n",
      "    #reload( html2text )\n",
      "    #dreload( difflib )\n",
      "    #dreload( readability )\n",
      "    #dreload( lxml )\n",
      "    #random.seed(12345)\n",
      "    #numpy.random.seed( 12345 )\n",
      "\n",
      "    \n",
      "    print 'python_readibility_f1_mean', py_readability_options\n",
      "    \n",
      "    #py_readability_options = {}\n",
      "    #py_readability_options['retry_length'] = retry_length\n",
      "    #py_readability_options['min_text_length'] = min_text_length\n",
      "\n",
      "    download_results = {}\n",
      "    \n",
      "    comp_res = []\n",
      "    for eto in extractor_training_objects:\n",
      "        comp_result = python_readability_results( eto, py_readability_options )\n",
      "        #comp_result = python_readability_results( eto, {} )\n",
      "        comp_res.append( comp_result )\n",
      "        \n",
      "        download_results[ eto['downloads_id'] ] = comp_result\n",
      "        \n",
      "    #return download_results\n",
      "\n",
      "    #comp_res = [ python_readability_results( eto, py_readability_options ) for eto in extractor_training_objects ]\n",
      "\n",
      "    #print comp_res\n",
      "    #f1_s = [ res['python_readability']['f1'] for res in comp_res ]\n",
      "    \n",
      "    #ret = math.fsum( f1_s ) / len( f1_s )\n",
      "    \n",
      "    tp = sum( [ x['tp'] for x in comp_res ] )\n",
      "    fp = sum( [ x['fp'] for x in comp_res ] )\n",
      "    fn = sum( [ x['fn'] for x in comp_res ] )\n",
      "    \n",
      "    comp_stats = precision_recall_f1( tp=tp, fp=fp, fn=fn )\n",
      "    \n",
      "    print 'comp_stats', comp_stats['f1']\n",
      "    \n",
      "    \n",
      "    return comp_stats['f1' ]\n",
      "\n",
      "    #rint 'python_readibility_f1_mean', 'retry_length', retry_length, 'min_text_length', min_text_length, 'return', ret \n",
      "    \n",
      "    #eturn ret"
     ],
     "language": "python",
     "metadata": {},
     "outputs": [],
     "prompt_number": 13
    },
    {
     "cell_type": "code",
     "collapsed": false,
     "input": [
      "sys.path = ['/home/dlarochelle/dev_scratch/python-readability-non-determinism/'] + sys.path\n",
      "\n",
      "import readability\n",
      "\n",
      "COMMA_COUNT = 10\n",
      "P_TO_INPUT_RATIO = 3\n",
      "MIN_EMBED_COMMENT_LENGTH = 75\n",
      "\n",
      "def extract_with_python_readability( raw_content, readability_options=None ):\n",
      "    \n",
      "    if readability_options == None:\n",
      "        readability_options = {}\n",
      "    \n",
      "    #readability.htmls = lxml.html.HTMLParser(encoding='utf-8')\n",
      "    \n",
      "    doc = readability.Document( raw_content, **readability_options )\n",
      "    \n",
      "    if 'LONG_NODE_LENGTH' in readability_options:\n",
      "        doc.LONG_NODE_LENGTH # ensure class varaible has been declared\n",
      "        doc.LONG_NODE_LENGTH = readability_options['LONG_NODE_LENGTH']\n",
      "    \n",
      "    if 'P_TO_INPUT_RATIO' in readability_options:\n",
      "        doc.P_TO_INPUT_RATIO # ensure class varaible has been declared\n",
      "        doc.P_TO_INPUT_RATIO = readability_options['P_TO_INPUT_RATIO']\n",
      "    \n",
      "    if 'LOW_WEIGHT_LINK_DENSITY_THRESHOLD' in readability_options:\n",
      "        doc.LOW_WEIGHT_LINK_DENSITY_THRESHOLD # ensure class varaible has been declared\n",
      "        doc.LOW_WEIGHT_LINK_DENSITY_THRESHOLD = readability_options['LOW_WEIGHT_LINK_DENSITY_THRESHOLD']\n",
      "    \n",
      "    if 'HEADER_LINK_DENSITY_THRESHOLD' in readability_options:\n",
      "        doc.HEADER_LINK_DENSITY_THRESHOLD # ensure class varaible has been declared\n",
      "        doc.HEADER_LINK_DENSITY_THRESHOLD = readability_options['HEADER_LINK_DENSITY_THRESHOLD']\n",
      "    \n",
      "    if 'HIGH_WEIGHT_LINK_DENSITY_THRESHOLD' in readability_options:\n",
      "        doc.HIGH_WEIGHT_LINK_DENSITY_THRESHOLD # ensure class varaible has been declared\n",
      "        doc.HIGH_WEIGHT_LINK_DENSITY_THRESHOLD = readability_options['HIGH_WEIGHT_LINK_DENSITY_THRESHOLD']\n",
      "    \n",
      "    if 'MIN_SIBLING_SCORE_THRESHOLD' in readability_options:\n",
      "        doc.MIN_SIBLING_SCORE_THRESHOLD # ensure class varaible has been declared\n",
      "        doc.MIN_SIBLING_SCORE_THRESHOLD = readability_options['MIN_SIBLING_SCORE_THRESHOLD']\n",
      "    \n",
      "    if 'BEST_SCORE_MULTIPLIER_THRESHOLD' in readability_options:\n",
      "        doc.BEST_SCORE_MULTIPLIER_THRESHOLD # ensure class varaible has been declared\n",
      "        doc.BEST_SCORE_MULTIPLIER_THRESHOLD = readability_options['BEST_SCORE_MULTIPLIER_THRESHOLD']\n",
      "    \n",
      "    if 'LONG_NODE_LINK_DENSITY_THRESHOLD' in readability_options:\n",
      "        doc.LONG_NODE_LINK_DENSITY_THRESHOLD # ensure class varaible has been declared\n",
      "        doc.LONG_NODE_LINK_DENSITY_THRESHOLD = readability_options['LONG_NODE_LINK_DENSITY_THRESHOLD']\n",
      "    \n",
      "    if 'COMMA_COUNT' in readability_options:\n",
      "        doc.COMMA_COUNT # ensure class varaible has been declared\n",
      "        doc.COMMA_COUNT = readability_options['COMMA_COUNT']\n",
      "    \n",
      "    if 'MIN_EMBED_COMMENT_LENGTH' in readability_options:\n",
      "        doc.MIN_EMBED_COMMENT_LENGTH # ensure class varaible has been declared\n",
      "        doc.MIN_EMBED_COMMENT_LENGTH = readability_options['MIN_EMBED_COMMENT_LENGTH']\n",
      "    \n",
      "    if 'TEXT_LENGTH_THRESHOLD' in readability_options:\n",
      "        doc.TEXT_LENGTH_THRESHOLD # ensure class varaible has been declared\n",
      "        doc.TEXT_LENGTH_THRESHOLD = readability_options['TEXT_LENGTH_THRESHOLD']\n",
      "    \n",
      "    if 'RETRY_LENGTH' in readability_options:\n",
      "        doc.RETRY_LENGTH # ensure class varaible has been declared\n",
      "        doc.RETRY_LENGTH = readability_options['RETRY_LENGTH']\n",
      "    \n",
      "    if 'SIBLING_CONTENT_LENGTH_SUM' in readability_options:\n",
      "        doc.SIBLING_CONTENT_LENGTH_SUM # ensure class varaible has been declared\n",
      "        doc.SIBLING_CONTENT_LENGTH_SUM = readability_options['SIBLING_CONTENT_LENGTH_SUM']\n",
      "    \n",
      "    if 'CONTENT_SCORE_DIV_BONUS' in readability_options:\n",
      "        doc.CONTENT_SCORE_DIV_BONUS # ensure class varaible has been declared\n",
      "        doc.CONTENT_SCORE_DIV_BONUS = readability_options['CONTENT_SCORE_DIV_BONUS']\n",
      "    \n",
      "    if 'CONTENT_SCORE_PRE_TD_BONUS' in readability_options:\n",
      "        doc.CONTENT_SCORE_PRE_TD_BONUS # ensure class varaible has been declared\n",
      "        doc.CONTENT_SCORE_PRE_TD_BONUS = readability_options['CONTENT_SCORE_PRE_TD_BONUS']\n",
      "    \n",
      "    if 'CONTENT_SCORE_ADDRESS_OL_PENALTY' in readability_options:\n",
      "        doc.CONTENT_SCORE_ADDRESS_OL_PENALTY # ensure class varaible has been declared\n",
      "        doc.CONTENT_SCORE_ADDRESS_OL_PENALTY = readability_options['CONTENT_SCORE_ADDRESS_OL_PENALTY']\n",
      "    \n",
      "    if 'CONTENT_SCORE_HEADER_PENALTY' in readability_options:\n",
      "        doc.CONTENT_SCORE_HEADER_PENALTY # ensure class varaible has been declared\n",
      "        doc.CONTENT_SCORE_HEADER_PENALTY = readability_options['CONTENT_SCORE_HEADER_PENALTY']\n",
      "    \n",
      "    if 'CLASS_WEIGHT_NEGATIVE_RE_PENALTY' in readability_options:\n",
      "        doc.CLASS_WEIGHT_NEGATIVE_RE_PENALTY # ensure class varaible has been declared\n",
      "        doc.CLASS_WEIGHT_NEGATIVE_RE_PENALTY = readability_options['CLASS_WEIGHT_NEGATIVE_RE_PENALTY']\n",
      "    \n",
      "    if 'CLASS_WEIGHT_POSITVE_RE_BONUS' in readability_options:\n",
      "        doc.CLASS_WEIGHT_POSITVE_RE_BONUS # ensure class varaible has been declared\n",
      "        doc.CLASS_WEIGHT_POSITVE_RE_BONUS = readability_options['CLASS_WEIGHT_POSITVE_RE_BONUS']\n",
      "    \n",
      "    if 'CONTENT_SCORE_START' in readability_options:\n",
      "        doc.CONTENT_SCORE_START # ensure class varaible has been declared\n",
      "        doc.CONTENT_SCORE_START = readability_options['CONTENT_SCORE_START']\n",
      "    \n",
      "    if 'CONTENT_SCORE_INNER_TEXT_MIN_BONUS' in readability_options:\n",
      "        doc.CONTENT_SCORE_INNER_TEXT_MIN_BONUS # ensure class varaible has been declared\n",
      "        doc.CONTENT_SCORE_INNER_TEXT_MIN_BONUS = readability_options['CONTENT_SCORE_INNER_TEXT_MIN_BONUS']\n",
      "    \n",
      "    if 'LI_COUNT_REDUCTION' in readability_options:\n",
      "        doc.LI_COUNT_REDUCTION # ensure class varaible has been declared\n",
      "        doc.LI_COUNT_REDUCTION = readability_options['LI_COUNT_REDUCTION']\n",
      "    \n",
      "    valid_options =  ['LONG_NODE_LENGTH', 'P_TO_INPUT_RATIO', 'LOW_WEIGHT_LINK_DENSITY_THRESHOLD', \n",
      "                      'HEADER_LINK_DENSITY_THRESHOLD', 'HIGH_WEIGHT_LINK_DENSITY_THRESHOLD', 'MIN_SIBLING_SCORE_THRESHOLD',\n",
      "                      'BEST_SCORE_MULTIPLIER_THRESHOLD', 'LONG_NODE_LINK_DENSITY_THRESHOLD', 'COMMA_COUNT', \n",
      "                      'MIN_EMBED_COMMENT_LENGTH', 'TEXT_LENGTH_THRESHOLD', 'RETRY_LENGTH', 'SIBLING_CONTENT_LENGTH_SUM',\n",
      "                      'CONTENT_SCORE_DIV_BONUS', 'CONTENT_SCORE_PRE_TD_BONUS', 'CONTENT_SCORE_ADDRESS_OL_PENALTY',\n",
      "                      'CONTENT_SCORE_HEADER_PENALTY', 'CLASS_WEIGHT_NEGATIVE_RE_PENALTY', 'CLASS_WEIGHT_POSITVE_RE_BONUS',\n",
      "                      'CONTENT_SCORE_START', 'CONTENT_SCORE_INNER_TEXT_MIN_BONUS', 'LI_COUNT_REDUCTION']\n",
      "            \n",
      "    for key in readability_options.keys():\n",
      "        #print key \n",
      "        assert key in valid_options, \"invalid key \" + key\n",
      "    \n",
      "\n",
      "        \n",
      "    #doc.RETRY_LENGTH = 100000\n",
      "    #doc.TEXT_LENGTH_THRESHOLD = 0\n",
      "    #doc.MAX_SIBLING_P_LINK_DENSITY\n",
      "    #doc.MAX_SIBLING_P_LINK_DENSITY = 2.0\n",
      "    title = doc.short_title()\n",
      "    summary = doc.summary()\n",
      "    ret = title + \"\\n\\n\" + summary\n",
      "    \n",
      "    return ret   "
     ],
     "language": "python",
     "metadata": {},
     "outputs": [],
     "prompt_number": 43
    },
    {
     "cell_type": "code",
     "collapsed": false,
     "input": [
      "#dreload( readability )"
     ],
     "language": "python",
     "metadata": {},
     "outputs": [],
     "prompt_number": 15
    },
    {
     "cell_type": "code",
     "collapsed": false,
     "input": [
      "python_readability_results( extractor_training_objects[0], {} )"
     ],
     "language": "python",
     "metadata": {},
     "outputs": [
      {
       "metadata": {},
       "output_type": "pyout",
       "prompt_number": 16,
       "text": [
        "{'fn': 17, 'fp': 18, 'tp': 179}"
       ]
      }
     ],
     "prompt_number": 16
    },
    {
     "cell_type": "code",
     "collapsed": false,
     "input": [
      "import datetime\n",
      "\n",
      "test_sizes = [ 10, 100, 1000 ]\n",
      "\n",
      "if False:\n",
      "    f1_expected = {}\n",
      "    start_time = datetime.datetime.now()\n",
      "    for test_size in test_sizes:\n",
      "        f1_expected[ test_size ] = python_readability_f1_mean( extractor_training_objects[ : test_size ], 250, 25 )\n",
      "        \n",
      "        current_time = datetime.datetime.now()\n",
      "        \n",
      "        print test_size, \"total time\", current_time - start_time\n",
      "    \n",
      "    cPickle.dump( f1_expected,\n",
      "                 file( os.path.expanduser( '~/Dropbox/mc/extractor_test/python_reability_expected.pickle'), \"wb\") )\n",
      "   \n",
      "    f1_expected   "
     ],
     "language": "python",
     "metadata": {},
     "outputs": [],
     "prompt_number": 17
    },
    {
     "cell_type": "code",
     "collapsed": false,
     "input": [
      "f1_expected = cPickle.load( \n",
      "                           file( os.path.expanduser( '~/Dropbox/mc/extractor_test/python_reability_expected.pickle'), \"rb\") )\n",
      "f1_expected"
     ],
     "language": "python",
     "metadata": {},
     "outputs": [
      {
       "metadata": {},
       "output_type": "pyout",
       "prompt_number": 18,
       "text": [
        "{10: 0.94945420028476513, 100: 0.93906769882258045, 1000: 0.87264579321822566}"
       ]
      }
     ],
     "prompt_number": 18
    },
    {
     "cell_type": "code",
     "collapsed": true,
     "input": [
      "reload(readability)\n",
      "test_sizes = [ 10, 100, 1000 ]\n",
      "\n",
      "\n",
      "f1_actual = {}\n",
      "start_time = datetime.datetime.now()\n",
      "for test_size in test_sizes:\n",
      "    f1_actual[ test_size ] = python_readability_f1_mean( extractor_training_objects[ : test_size ], \n",
      "#                                                        {'SIBLING_CONTENT_LENGTH_SUM': 0} )\n",
      "                                                        {} )\n",
      "  \n",
      "    current_time = datetime.datetime.now()\n",
      "    \n",
      "    print test_size, \"total time\", current_time - start_time\n",
      "    \n",
      "    print 'result for sample size ', test_size, f1_expected[ test_size ] == f1_actual[ test_size ]\n",
      "   \n",
      "    "
     ],
     "language": "python",
     "metadata": {},
     "outputs": [
      {
       "output_type": "stream",
       "stream": "stdout",
       "text": [
        "python_readibility_f1_mean {}\n",
        "comp_stats"
       ]
      },
      {
       "output_type": "stream",
       "stream": "stdout",
       "text": [
        " 0.949454200285\n",
        "10 total time 0:00:00.660982\n",
        "result for sample size  10 True\n",
        "python_readibility_f1_mean {}\n",
        "comp_stats"
       ]
      },
      {
       "output_type": "stream",
       "stream": "stdout",
       "text": [
        " 0.939067698823\n",
        "100 total time 0:00:08.006728\n",
        "result for sample size  100 True\n",
        "python_readibility_f1_mean {}\n",
        "comp_stats"
       ]
      },
      {
       "output_type": "stream",
       "stream": "stdout",
       "text": [
        " 0.872645793218\n",
        "1000 total time 0:01:09.704568\n",
        "result for sample size  1000 True\n"
       ]
      }
     ],
     "prompt_number": 19
    },
    {
     "cell_type": "code",
     "collapsed": true,
     "input": [
      "\n",
      "run1 = python_readability_f1_mean( extractor_training_objects[:], 250, 25 )"
     ],
     "language": "python",
     "metadata": {},
     "outputs": [
      {
       "ename": "TypeError",
       "evalue": "python_readability_f1_mean() takes at most 2 arguments (3 given)",
       "output_type": "pyerr",
       "traceback": [
        "\u001b[1;31m---------------------------------------------------------------------------\u001b[0m\n\u001b[1;31mTypeError\u001b[0m                                 Traceback (most recent call last)",
        "\u001b[1;32m<ipython-input-20-54bb2a0762c6>\u001b[0m in \u001b[0;36m<module>\u001b[1;34m()\u001b[0m\n\u001b[0;32m      1\u001b[0m \u001b[1;33m\u001b[0m\u001b[0m\n\u001b[1;32m----> 2\u001b[1;33m \u001b[0mrun1\u001b[0m \u001b[1;33m=\u001b[0m \u001b[0mpython_readability_f1_mean\u001b[0m\u001b[1;33m(\u001b[0m \u001b[0mextractor_training_objects\u001b[0m\u001b[1;33m[\u001b[0m\u001b[1;33m:\u001b[0m\u001b[1;33m]\u001b[0m\u001b[1;33m,\u001b[0m \u001b[1;36m250\u001b[0m\u001b[1;33m,\u001b[0m \u001b[1;36m25\u001b[0m \u001b[1;33m)\u001b[0m\u001b[1;33m\u001b[0m\u001b[0m\n\u001b[0m",
        "\u001b[1;31mTypeError\u001b[0m: python_readability_f1_mean() takes at most 2 arguments (3 given)"
       ]
      }
     ],
     "prompt_number": 20
    },
    {
     "cell_type": "code",
     "collapsed": false,
     "input": [
      "print \"foo\"\n",
      "\n",
      "\n",
      "opt_function = lambda p : 1 - python_readability_f1_mean( extractor_training_objects[:50], { 'LOW_WEIGHT_LINK_DENSITY': p[0], 'HEADER_LINK_DENSITY_THRESHOLD': p[1], 'HIGH_WEIGHT_LINK_DENSITY_THRESHOLD': p[ 2] } )\n",
      "\n",
      "opt_function( [ LOW_WEIGHT_LINK_DENSITY_THRESHOLD, HEADER_LINK_DENSITY_THRESHOLD, HIGH_WEIGHT_LINK_DENSITY_THRESHOLD ] )"
     ],
     "language": "python",
     "metadata": {},
     "outputs": []
    },
    {
     "cell_type": "code",
     "collapsed": false,
     "input": [
      "import scipy.optimize\n",
      "\n",
      "opt_result = scipy.optimize.minimize(  opt_function, \n",
      "                                     [ LOW_WEIGHT_LINK_DENSITY_THRESHOLD, HEADER_LINK_DENSITY_THRESHOLD, HIGH_WEIGHT_LINK_DENSITY_THRESHOLD ],\n",
      "                                     method='TNC', bounds=[ [0,1],[0,1],[0,1]],\n",
      "                                     options={ 'maxiter': 1, 'disp': True} )\n",
      "\n",
      "opt_result"
     ],
     "language": "python",
     "metadata": {},
     "outputs": []
    },
    {
     "cell_type": "code",
     "collapsed": false,
     "input": [
      "class MyBounds(object):\n",
      "    def __init__(self, xmax=[1,1,1], xmin=[0,0,0] ):\n",
      "     self.xmax = np.array(xmax)\n",
      "     self.xmin = np.array(xmin)\n",
      "    def __call__(self, **kwargs):\n",
      "     x = kwargs[\"x_new\"]\n",
      "     tmax = bool(np.all(x <= self.xmax))\n",
      "     tmin = bool(np.all(x >= self.xmin))\n",
      "     return tmax and tmin"
     ],
     "language": "python",
     "metadata": {},
     "outputs": []
    },
    {
     "cell_type": "code",
     "collapsed": false,
     "input": [
      "import scipy.optimize\n",
      "\n",
      "mybounds = MyBounds()\n",
      "\n",
      "opt_result = scipy.optimize.basinhopping(  opt_function, \n",
      "                                     [ LOW_WEIGHT_LINK_DENSITY_THRESHOLD, HEADER_LINK_DENSITY_THRESHOLD, HIGH_WEIGHT_LINK_DENSITY_THRESHOLD ],\n",
      "                                     minimizer_kwargs={ 'method':\"L-BFGS-B\", 'bounds': [ [0,1],[0,1],[0,1]] },\n",
      "                                     accept_test = mybounds, disp=True )\n",
      "opt_result"
     ],
     "language": "python",
     "metadata": {},
     "outputs": []
    },
    {
     "cell_type": "code",
     "collapsed": false,
     "input": [
      "params { \n",
      "LOW_WEIGHT_LINK_DENSITY_THRESHOLD = 0.2\n",
      "HEADER_LINK_DENSITY_THRESHOLD = 0.33\n",
      "HIGH_WEIGHT_LINK_DENSITY_THRESHOLD = 0.5\n",
      "\n",
      "MIN_SIBLING_SCORE_THRESHOLD = 10\n",
      "BEST_SCORE_MULTIPLIER_THRESHOLD = 0.2\n",
      "\n",
      "LONG_NODE_LINK_DENSITY_THRESHOLD = 0.25\n",
      "LONG_NODE_LENGTH                 = 80\n",
      "\n",
      "COMMA_COUNT = 10\n",
      "P_TO_INPUT_RATIO = 3\n",
      "MIN_EMBED_COMMENT_LENGTH = 75\n",
      "type( COMMA_COUNT )"
     ],
     "language": "python",
     "metadata": {},
     "outputs": [
      {
       "ename": "SyntaxError",
       "evalue": "invalid syntax (<ipython-input-21-e5c2538bf6d6>, line 1)",
       "output_type": "pyerr",
       "traceback": [
        "\u001b[1;36m  File \u001b[1;32m\"<ipython-input-21-e5c2538bf6d6>\"\u001b[1;36m, line \u001b[1;32m1\u001b[0m\n\u001b[1;33m    params {\u001b[0m\n\u001b[1;37m           ^\u001b[0m\n\u001b[1;31mSyntaxError\u001b[0m\u001b[1;31m:\u001b[0m invalid syntax\n"
       ]
      }
     ],
     "prompt_number": 21
    },
    {
     "cell_type": "code",
     "collapsed": false,
     "input": [
      "params_to_optimize = [\n",
      "{'param_name':'LONG_NODE_LENGTH', 'start_value': 80}, \n",
      "{'param_name':'P_TO_INPUT_RATIO', 'start_value': 3}, \n",
      "{'param_name':'LOW_WEIGHT_LINK_DENSITY_THRESHOLD', 'start_value': 0.2}, \n",
      "{'param_name':'HEADER_LINK_DENSITY_THRESHOLD', 'start_value': 0.33}, \n",
      "{'param_name':'HIGH_WEIGHT_LINK_DENSITY_THRESHOLD', 'start_value': 0.5}, \n",
      "{'param_name':'MIN_SIBLING_SCORE_THRESHOLD', 'start_value': 10}, \n",
      "{'param_name':'BEST_SCORE_MULTIPLIER_THRESHOLD', 'start_value': 0.2}, \n",
      "{'param_name':'LONG_NODE_LINK_DENSITY_THRESHOLD', 'start_value': 0.25}, \n",
      "{'param_name':'COMMA_COUNT', 'start_value': 10}, \n",
      "{'param_name':'MIN_EMBED_COMMENT_LENGTH', 'start_value': 75},\n",
      "{'param_name':'TEXT_LENGTH_THRESHOLD', 'start_value': 25},\n",
      "{'param_name':'RETRY_LENGTH', 'start_value': 250} ,\n",
      "{'param_name': 'SIBLING_CONTENT_LENGTH_SUM', 'start_value': 1000},\n",
      "{'param_name': 'CONTENT_SCORE_DIV_BONUS', 'start_value': 5},\n",
      "{'param_name': 'CONTENT_SCORE_PRE_TD_BONUS', 'start_value': 3},\n",
      "{'param_name': 'CONTENT_SCORE_ADDRESS_OL_PENALTY', 'start_value': 3},\n",
      "{'param_name': 'CONTENT_SCORE_HEADER_PENALTY', 'start_value': 5 },\n",
      "{'param_name': 'CLASS_WEIGHT_NEGATIVE_RE_PENALTY', 'start_value': 25},\n",
      "{'param_name': 'CLASS_WEIGHT_POSITVE_RE_BONUS', 'start_value': 25 },\n",
      "{'param_name': 'CONTENT_SCORE_START', 'start_value': 1},\n",
      "{'param_name': 'CONTENT_SCORE_INNER_TEXT_MIN_BONUS', 'start_value': 3},\n",
      "#{'param_name': 'CONTENT_SCORE_GRAND_PARENT_BONUS_FACTOR', 'start_value': 2.0, 'non_zero': True},\n",
      "{'param_name': 'LI_COUNT_REDUCTION', 'start_value': 100}\n",
      "]\n",
      "\n",
      "for value_dict in params_to_optimize:\n",
      "    value_dict[ 'make_int'] = type( value_dict['start_value']) == int\n",
      "\n",
      "print len( params_to_optimize )    \n",
      "params_to_optimize"
     ],
     "language": "python",
     "metadata": {},
     "outputs": [
      {
       "output_type": "stream",
       "stream": "stdout",
       "text": [
        "22\n"
       ]
      },
      {
       "metadata": {},
       "output_type": "pyout",
       "prompt_number": 38,
       "text": [
        "[{'make_int': True, 'param_name': 'LONG_NODE_LENGTH', 'start_value': 80},\n",
        " {'make_int': True, 'param_name': 'P_TO_INPUT_RATIO', 'start_value': 3},\n",
        " {'make_int': False,\n",
        "  'param_name': 'LOW_WEIGHT_LINK_DENSITY_THRESHOLD',\n",
        "  'start_value': 0.2},\n",
        " {'make_int': False,\n",
        "  'param_name': 'HEADER_LINK_DENSITY_THRESHOLD',\n",
        "  'start_value': 0.33},\n",
        " {'make_int': False,\n",
        "  'param_name': 'HIGH_WEIGHT_LINK_DENSITY_THRESHOLD',\n",
        "  'start_value': 0.5},\n",
        " {'make_int': True,\n",
        "  'param_name': 'MIN_SIBLING_SCORE_THRESHOLD',\n",
        "  'start_value': 10},\n",
        " {'make_int': False,\n",
        "  'param_name': 'BEST_SCORE_MULTIPLIER_THRESHOLD',\n",
        "  'start_value': 0.2},\n",
        " {'make_int': False,\n",
        "  'param_name': 'LONG_NODE_LINK_DENSITY_THRESHOLD',\n",
        "  'start_value': 0.25},\n",
        " {'make_int': True, 'param_name': 'COMMA_COUNT', 'start_value': 10},\n",
        " {'make_int': True,\n",
        "  'param_name': 'MIN_EMBED_COMMENT_LENGTH',\n",
        "  'start_value': 75},\n",
        " {'make_int': True, 'param_name': 'TEXT_LENGTH_THRESHOLD', 'start_value': 25},\n",
        " {'make_int': True, 'param_name': 'RETRY_LENGTH', 'start_value': 250},\n",
        " {'make_int': True,\n",
        "  'param_name': 'SIBLING_CONTENT_LENGTH_SUM',\n",
        "  'start_value': 1000},\n",
        " {'make_int': True, 'param_name': 'CONTENT_SCORE_DIV_BONUS', 'start_value': 5},\n",
        " {'make_int': True,\n",
        "  'param_name': 'CONTENT_SCORE_PRE_TD_BONUS',\n",
        "  'start_value': 3},\n",
        " {'make_int': True,\n",
        "  'param_name': 'CONTENT_SCORE_ADDRESS_OL_PENALTY',\n",
        "  'start_value': 3},\n",
        " {'make_int': True,\n",
        "  'param_name': 'CONTENT_SCORE_HEADER_PENALTY',\n",
        "  'start_value': 5},\n",
        " {'make_int': True,\n",
        "  'param_name': 'CLASS_WEIGHT_NEGATIVE_RE_PENALTY',\n",
        "  'start_value': 25},\n",
        " {'make_int': True,\n",
        "  'param_name': 'CLASS_WEIGHT_POSITVE_RE_BONUS',\n",
        "  'start_value': 25},\n",
        " {'make_int': True, 'param_name': 'CONTENT_SCORE_START', 'start_value': 1},\n",
        " {'make_int': True,\n",
        "  'param_name': 'CONTENT_SCORE_INNER_TEXT_MIN_BONUS',\n",
        "  'start_value': 3},\n",
        " {'make_int': True, 'param_name': 'LI_COUNT_REDUCTION', 'start_value': 100}]"
       ]
      }
     ],
     "prompt_number": 38
    },
    {
     "cell_type": "code",
     "collapsed": false,
     "input": [
      "for param_to_opt in params_to_optimize:\n",
      "    param_name = param_to_opt['param_name']\n",
      "    print \"if '\" + param_name + \"' in readability_options:\"\n",
      "    print '    doc.' + param_name +' # ensure class varaible has been declared'\n",
      "    print '    doc.' + param_name + \" = readability_options['\" + param_name + \"']\"\n",
      "    print\n",
      "    \n",
      "param_names = [ param_to_opt['param_name'] for param_to_opt in params_to_optimize ]\n",
      "\n",
      "print 'valid_options = ',\n",
      "print param_names\n",
      "    \n"
     ],
     "language": "python",
     "metadata": {},
     "outputs": [
      {
       "output_type": "stream",
       "stream": "stdout",
       "text": [
        "if 'LONG_NODE_LENGTH' in readability_options:\n",
        "    doc.LONG_NODE_LENGTH # ensure class varaible has been declared\n",
        "    doc.LONG_NODE_LENGTH = readability_options['LONG_NODE_LENGTH']\n",
        "\n",
        "if 'P_TO_INPUT_RATIO' in readability_options:\n",
        "    doc.P_TO_INPUT_RATIO # ensure class varaible has been declared\n",
        "    doc.P_TO_INPUT_RATIO = readability_options['P_TO_INPUT_RATIO']\n",
        "\n",
        "if 'LOW_WEIGHT_LINK_DENSITY_THRESHOLD' in readability_options:\n",
        "    doc.LOW_WEIGHT_LINK_DENSITY_THRESHOLD # ensure class varaible has been declared\n",
        "    doc.LOW_WEIGHT_LINK_DENSITY_THRESHOLD = readability_options['LOW_WEIGHT_LINK_DENSITY_THRESHOLD']\n",
        "\n",
        "if 'HEADER_LINK_DENSITY_THRESHOLD' in readability_options:\n",
        "    doc.HEADER_LINK_DENSITY_THRESHOLD # ensure class varaible has been declared\n",
        "    doc.HEADER_LINK_DENSITY_THRESHOLD = readability_options['HEADER_LINK_DENSITY_THRESHOLD']\n",
        "\n",
        "if 'HIGH_WEIGHT_LINK_DENSITY_THRESHOLD' in readability_options:\n",
        "    doc.HIGH_WEIGHT_LINK_DENSITY_THRESHOLD # ensure class varaible has been declared\n",
        "    doc.HIGH_WEIGHT_LINK_DENSITY_THRESHOLD = readability_options['HIGH_WEIGHT_LINK_DENSITY_THRESHOLD']\n",
        "\n",
        "if 'MIN_SIBLING_SCORE_THRESHOLD' in readability_options:\n",
        "    doc.MIN_SIBLING_SCORE_THRESHOLD # ensure class varaible has been declared\n",
        "    doc.MIN_SIBLING_SCORE_THRESHOLD = readability_options['MIN_SIBLING_SCORE_THRESHOLD']\n",
        "\n",
        "if 'BEST_SCORE_MULTIPLIER_THRESHOLD' in readability_options:\n",
        "    doc.BEST_SCORE_MULTIPLIER_THRESHOLD # ensure class varaible has been declared\n",
        "    doc.BEST_SCORE_MULTIPLIER_THRESHOLD = readability_options['BEST_SCORE_MULTIPLIER_THRESHOLD']\n",
        "\n",
        "if 'LONG_NODE_LINK_DENSITY_THRESHOLD' in readability_options:\n",
        "    doc.LONG_NODE_LINK_DENSITY_THRESHOLD # ensure class varaible has been declared\n",
        "    doc.LONG_NODE_LINK_DENSITY_THRESHOLD = readability_options['LONG_NODE_LINK_DENSITY_THRESHOLD']\n",
        "\n",
        "if 'COMMA_COUNT' in readability_options:\n",
        "    doc.COMMA_COUNT # ensure class varaible has been declared\n",
        "    doc.COMMA_COUNT = readability_options['COMMA_COUNT']\n",
        "\n",
        "if 'MIN_EMBED_COMMENT_LENGTH' in readability_options:\n",
        "    doc.MIN_EMBED_COMMENT_LENGTH # ensure class varaible has been declared\n",
        "    doc.MIN_EMBED_COMMENT_LENGTH = readability_options['MIN_EMBED_COMMENT_LENGTH']\n",
        "\n",
        "if 'TEXT_LENGTH_THRESHOLD' in readability_options:\n",
        "    doc.TEXT_LENGTH_THRESHOLD # ensure class varaible has been declared\n",
        "    doc.TEXT_LENGTH_THRESHOLD = readability_options['TEXT_LENGTH_THRESHOLD']\n",
        "\n",
        "if 'RETRY_LENGTH' in readability_options:\n",
        "    doc.RETRY_LENGTH # ensure class varaible has been declared\n",
        "    doc.RETRY_LENGTH = readability_options['RETRY_LENGTH']\n",
        "\n",
        "if 'SIBLING_CONTENT_LENGTH_SUM' in readability_options:\n",
        "    doc.SIBLING_CONTENT_LENGTH_SUM # ensure class varaible has been declared\n",
        "    doc.SIBLING_CONTENT_LENGTH_SUM = readability_options['SIBLING_CONTENT_LENGTH_SUM']\n",
        "\n",
        "if 'CONTENT_SCORE_DIV_BONUS' in readability_options:\n",
        "    doc.CONTENT_SCORE_DIV_BONUS # ensure class varaible has been declared\n",
        "    doc.CONTENT_SCORE_DIV_BONUS = readability_options['CONTENT_SCORE_DIV_BONUS']\n",
        "\n",
        "if 'CONTENT_SCORE_PRE_TD_BONUS' in readability_options:\n",
        "    doc.CONTENT_SCORE_PRE_TD_BONUS # ensure class varaible has been declared\n",
        "    doc.CONTENT_SCORE_PRE_TD_BONUS = readability_options['CONTENT_SCORE_PRE_TD_BONUS']\n",
        "\n",
        "if 'CONTENT_SCORE_ADDRESS_OL_PENALTY' in readability_options:\n",
        "    doc.CONTENT_SCORE_ADDRESS_OL_PENALTY # ensure class varaible has been declared\n",
        "    doc.CONTENT_SCORE_ADDRESS_OL_PENALTY = readability_options['CONTENT_SCORE_ADDRESS_OL_PENALTY']\n",
        "\n",
        "if 'CONTENT_SCORE_HEADER_PENALTY' in readability_options:\n",
        "    doc.CONTENT_SCORE_HEADER_PENALTY # ensure class varaible has been declared\n",
        "    doc.CONTENT_SCORE_HEADER_PENALTY = readability_options['CONTENT_SCORE_HEADER_PENALTY']\n",
        "\n",
        "if 'CLASS_WEIGHT_NEGATIVE_RE_PENALTY' in readability_options:\n",
        "    doc.CLASS_WEIGHT_NEGATIVE_RE_PENALTY # ensure class varaible has been declared\n",
        "    doc.CLASS_WEIGHT_NEGATIVE_RE_PENALTY = readability_options['CLASS_WEIGHT_NEGATIVE_RE_PENALTY']\n",
        "\n",
        "if 'CLASS_WEIGHT_POSITVE_RE_BONUS' in readability_options:\n",
        "    doc.CLASS_WEIGHT_POSITVE_RE_BONUS # ensure class varaible has been declared\n",
        "    doc.CLASS_WEIGHT_POSITVE_RE_BONUS = readability_options['CLASS_WEIGHT_POSITVE_RE_BONUS']\n",
        "\n",
        "if 'CONTENT_SCORE_START' in readability_options:\n",
        "    doc.CONTENT_SCORE_START # ensure class varaible has been declared\n",
        "    doc.CONTENT_SCORE_START = readability_options['CONTENT_SCORE_START']\n",
        "\n",
        "if 'CONTENT_SCORE_INNER_TEXT_MIN_BONUS' in readability_options:\n",
        "    doc.CONTENT_SCORE_INNER_TEXT_MIN_BONUS # ensure class varaible has been declared\n",
        "    doc.CONTENT_SCORE_INNER_TEXT_MIN_BONUS = readability_options['CONTENT_SCORE_INNER_TEXT_MIN_BONUS']\n",
        "\n",
        "if 'LI_COUNT_REDUCTION' in readability_options:\n",
        "    doc.LI_COUNT_REDUCTION # ensure class varaible has been declared\n",
        "    doc.LI_COUNT_REDUCTION = readability_options['LI_COUNT_REDUCTION']\n",
        "\n",
        "valid_options =  ['LONG_NODE_LENGTH', 'P_TO_INPUT_RATIO', 'LOW_WEIGHT_LINK_DENSITY_THRESHOLD', 'HEADER_LINK_DENSITY_THRESHOLD', 'HIGH_WEIGHT_LINK_DENSITY_THRESHOLD', 'MIN_SIBLING_SCORE_THRESHOLD', 'BEST_SCORE_MULTIPLIER_THRESHOLD', 'LONG_NODE_LINK_DENSITY_THRESHOLD', 'COMMA_COUNT', 'MIN_EMBED_COMMENT_LENGTH', 'TEXT_LENGTH_THRESHOLD', 'RETRY_LENGTH', 'SIBLING_CONTENT_LENGTH_SUM', 'CONTENT_SCORE_DIV_BONUS', 'CONTENT_SCORE_PRE_TD_BONUS', 'CONTENT_SCORE_ADDRESS_OL_PENALTY', 'CONTENT_SCORE_HEADER_PENALTY', 'CLASS_WEIGHT_NEGATIVE_RE_PENALTY', 'CLASS_WEIGHT_POSITVE_RE_BONUS', 'CONTENT_SCORE_START', 'CONTENT_SCORE_INNER_TEXT_MIN_BONUS', 'LI_COUNT_REDUCTION']\n"
       ]
      }
     ],
     "prompt_number": 39
    },
    {
     "cell_type": "code",
     "collapsed": false,
     "input": [
      "def adjusted_mean( a, b, make_int ):\n",
      "    ret = ( a + b ) / 2\n",
      "    \n",
      "    if make_int:\n",
      "        ret = int ( ret )\n",
      "    else:\n",
      "        ret = round( ret, 2 )\n",
      "        \n",
      "    return ret\n",
      "\n",
      "import random\n",
      "random.seed( 12345 )\n",
      "\n",
      "extractor_training_subset = extractor_training_objects[:]\n",
      "random.shuffle( extractor_training_subset )\n",
      "\n",
      "#extractor_training_subset = extractor_training_subset[ : ( len( extractor_training_objects)/2 ) ]\n",
      "\n",
      "def binary_search_opt_param( value_to_optimize, start_value, make_int):\n",
      "    current = start_value\n",
      "    prev = {}\n",
      "    \n",
      "    iteration = 0\n",
      "    \n",
      "    if make_int:\n",
      "        stop_delta = 1.01\n",
      "    else:\n",
      "        stop_delta = 0.011\n",
      "    \n",
      "    max_iterations = 100\n",
      "        \n",
      "    funct = lambda param : python_readability_f1_mean( extractor_training_subset, { value_to_optimize: param } )\n",
      "    while True:\n",
      "        iteration += 1\n",
      "        \n",
      "        if iteration > max_iterations:\n",
      "            break\n",
      "            \n",
      "        print 'iteration', iteration\n",
      "        \n",
      "        if make_int:\n",
      "            current = int( current )\n",
      "            \n",
      "        print 'current', current\n",
      "        if current not in prev:\n",
      "            prev[ current ] = funct( current )\n",
      "        \n",
      "        if iteration % 5 == 0 and iteration > 0 :\n",
      "            sorted_keys = list(reversed(sorted( prev.keys() )))\n",
      "            best_keys = sorted( sorted_keys, key = lambda k : prev[ k ] )\n",
      "            best_keys.reverse()\n",
      "            print 'best_keys', [ ( k, prev[k] ) for k in  best_keys ]\n",
      "            if abs( best_keys[1] - best_keys[0] ) <= stop_delta:\n",
      "                print 'stopping for small delta'\n",
      "                print current\n",
      "                break\n",
      "            \n",
      "            current = adjusted_mean(best_keys[0], best_keys[1], make_int )\n",
      "    \n",
      "            if current in prev:\n",
      "            \n",
      "                current = adjusted_mean( best_keys[0], current, make_int )\n",
      "                \n",
      "                # just pick a point between the current best and the next closest value\n",
      "                if current in prev:\n",
      "                    print 'falling back in heuristic'\n",
      "                    best_index = sorted_keys.index( best_keys[ 0 ] ) \n",
      "                    if best_index == 0:\n",
      "                        comp_index = 1\n",
      "                    else:\n",
      "                        comp_index = best_index - 1\n",
      "                    \n",
      "                    \n",
      "                    current = adjusted_mean( sorted_keys[ best_index ], sorted_keys[ comp_index ], make_int )\n",
      "                    \n",
      "                    if current in prev:\n",
      "                        assert abs( best_keys[ 0 ] - current ) <= stop_delta\n",
      "                        print \"stopping for small delta\", best_keys[0], current\n",
      "                        \n",
      "                        break\n",
      "            \n",
      "            print 'continue'\n",
      "            continue\n",
      "        \n",
      "        lower = round( current/2.0, 2 )\n",
      "        higher = round( current*2.0, 2)\n",
      "    \n",
      "        if make_int:\n",
      "            lower = int( lower )\n",
      "            higher = int( higher )\n",
      "        \n",
      "        if lower not in prev:\n",
      "            prev[lower] = funct( lower )\n",
      "            \n",
      "        if higher not in prev:\n",
      "            prev[higher] = funct( higher )\n",
      "        \n",
      "        if prev[lower] >= prev[higher]:\n",
      "            compare_point = lower\n",
      "        else:\n",
      "            compare_point = higher\n",
      "            \n",
      "        if prev[ current ] > prev[ compare_point ]:\n",
      "            current = adjusted_mean(current, compare_point, make_int )\n",
      "        else:\n",
      "            current = compare_point\n",
      "            \n",
      "            \n",
      "    ret = { 'start_value': start_value, \n",
      "            'start_result': prev[start_value],\n",
      "            'opt_value': best_keys[0],\n",
      "            'opt_result': prev[ best_keys[0] ],\n",
      "            'param_name': value_to_optimize\n",
      "            }\n",
      "    \n",
      "    return ret\n"
     ],
     "language": "python",
     "metadata": {},
     "outputs": [],
     "prompt_number": 62
    },
    {
     "cell_type": "code",
     "collapsed": false,
     "input": [
      "len( extractor_training_subset )"
     ],
     "language": "python",
     "metadata": {},
     "outputs": [
      {
       "metadata": {},
       "output_type": "pyout",
       "prompt_number": 60,
       "text": [
        "358"
       ]
      }
     ],
     "prompt_number": 60
    },
    {
     "cell_type": "code",
     "collapsed": false,
     "input": [
      "python_readability_f1_mean( extractor_training_subset, {} )\n"
     ],
     "language": "python",
     "metadata": {},
     "outputs": [
      {
       "output_type": "stream",
       "stream": "stdout",
       "text": [
        "python_readibility_f1_mean {}\n",
        "comp_stats"
       ]
      },
      {
       "output_type": "stream",
       "stream": "stdout",
       "text": [
        " 0.92545937825\n"
       ]
      },
      {
       "metadata": {},
       "output_type": "pyout",
       "prompt_number": 45,
       "text": [
        "0.92545937825031777"
       ]
      }
     ],
     "prompt_number": 45
    },
    {
     "cell_type": "code",
     "collapsed": false,
     "input": [
      "opt_results = []\n",
      "\n",
      "start_time = datetime.datetime.now()\n",
      "\n",
      "for param_info in params_to_optimize:\n",
      "    print param_info\n",
      "    opt_results.append( binary_search_opt_param( param_info['param_name'], param_info['start_value'], param_info['make_int'] ))\n",
      "    \n",
      "for opt_result in opt_results:\n",
      "    if opt_result['opt_result'] > opt_result['start_result']:\n",
      "        \n",
      "        improvement = opt_result['opt_result'] - opt_result['start_result']\n",
      "        \n",
      "        if improvement < 0.001:\n",
      "            print opt_result['param_name'], \" - SMALL OPT - start\", opt_result['start_value'], opt_result['start_result'], \"opt to\", opt_result['opt_value'], \n",
      "            print opt_result['opt_result'], 'improvement', improvement\n",
      "                             \n",
      "        else:\n",
      "            print opt_result['param_name'], \"- LARGE OPT - start\", opt_result['start_value'], opt_result['start_result'], \"opt to\", opt_result['opt_value'],\n",
      "            print opt_result['opt_result'], 'improvement', improvement\n",
      "    \n",
      "    \n",
      "    else:\n",
      "        print opt_result['param_name'], \"no improvement - start\", opt_result['start_value'], opt_result['start_result'], \"opt to\", opt_result['opt_value'], opt_result['opt_result']\n",
      "\n",
      "        \n",
      "end_time = datetime.datetime.now()\n",
      "\n",
      "print 'total time', end_time - start_time"
     ],
     "language": "python",
     "metadata": {},
     "outputs": [
      {
       "output_type": "stream",
       "stream": "stdout",
       "text": [
        "{'make_int': True, 'param_name': 'LONG_NODE_LENGTH', 'start_value': 80}\n",
        "iteration 1\n",
        "current 80\n",
        "python_readibility_f1_mean {'LONG_NODE_LENGTH': 80}\n",
        "comp_stats"
       ]
      },
      {
       "output_type": "stream",
       "stream": "stdout",
       "text": [
        " 0.878857527755\n",
        "python_readibility_f1_mean {'LONG_NODE_LENGTH': 40}\n",
        "comp_stats"
       ]
      },
      {
       "output_type": "stream",
       "stream": "stdout",
       "text": [
        " 0.879029542595\n",
        "python_readibility_f1_mean {'LONG_NODE_LENGTH': 160}\n",
        "comp_stats"
       ]
      },
      {
       "output_type": "stream",
       "stream": "stdout",
       "text": [
        " 0.878030896593\n",
        "iteration 2\n",
        "current 40\n",
        "python_readibility_f1_mean {'LONG_NODE_LENGTH': 20}\n",
        "comp_stats"
       ]
      },
      {
       "output_type": "stream",
       "stream": "stdout",
       "text": [
        " 0.879159886717\n",
        "iteration 3\n",
        "current 20\n",
        "python_readibility_f1_mean {'LONG_NODE_LENGTH': 10}\n",
        "comp_stats"
       ]
      },
      {
       "output_type": "stream",
       "stream": "stdout",
       "text": [
        " 0.879207909097\n",
        "iteration 4\n",
        "current 10\n",
        "python_readibility_f1_mean {'LONG_NODE_LENGTH': 5}\n",
        "comp_stats"
       ]
      },
      {
       "output_type": "stream",
       "stream": "stdout",
       "text": [
        " 0.879160331262\n",
        "iteration 5\n",
        "current 7\n",
        "python_readibility_f1_mean {'LONG_NODE_LENGTH': 7}\n",
        "comp_stats"
       ]
      },
      {
       "output_type": "stream",
       "stream": "stdout",
       "text": [
        " 0.879197524302\n",
        "best_keys [(10, 0.8792079090973518), (7, 0.87919752430223352), (5, 0.87916033126171755), (20, 0.87915988671700818), (40, 0.87902954259485699), (80, 0.87885752775529247), (160, 0.87803089659250499)]\n",
        "continue\n",
        "iteration 6\n",
        "current 8\n",
        "python_readibility_f1_mean {'LONG_NODE_LENGTH': 8}\n",
        "comp_stats"
       ]
      },
      {
       "output_type": "stream",
       "stream": "stdout",
       "text": [
        " 0.879197524302\n",
        "python_readibility_f1_mean {'LONG_NODE_LENGTH': 4}\n",
        "comp_stats"
       ]
      },
      {
       "output_type": "stream",
       "stream": "stdout",
       "text": [
        " 0.879157735617\n",
        "python_readibility_f1_mean {'LONG_NODE_LENGTH': 16}\n",
        "comp_stats"
       ]
      },
      {
       "output_type": "stream",
       "stream": "stdout",
       "text": [
        " 0.8791863662\n",
        "iteration 7\n",
        "current 12\n",
        "python_readibility_f1_mean {'LONG_NODE_LENGTH': 12}\n",
        "comp_stats"
       ]
      },
      {
       "output_type": "stream",
       "stream": "stdout",
       "text": [
        " 0.879205768924\n",
        "python_readibility_f1_mean {'LONG_NODE_LENGTH': 6}\n",
        "comp_stats"
       ]
      },
      {
       "output_type": "stream",
       "stream": "stdout",
       "text": [
        " 0.879194928142\n",
        "python_readibility_f1_mean {'LONG_NODE_LENGTH': 24}\n",
        "comp_stats"
       ]
      },
      {
       "output_type": "stream",
       "stream": "stdout",
       "text": [
        " 0.879122501838\n",
        "iteration 8\n",
        "current 9\n",
        "python_readibility_f1_mean {'LONG_NODE_LENGTH': 9}\n",
        "comp_stats"
       ]
      },
      {
       "output_type": "stream",
       "stream": "stdout",
       "text": [
        " 0.879197524302\n",
        "python_readibility_f1_mean {'LONG_NODE_LENGTH': 18}\n",
        "comp_stats"
       ]
      },
      {
       "output_type": "stream",
       "stream": "stdout",
       "text": [
        " 0.879179746447\n",
        "iteration 9\n",
        "current 13\n",
        "python_readibility_f1_mean {'LONG_NODE_LENGTH': 13}\n",
        "comp_stats"
       ]
      },
      {
       "output_type": "stream",
       "stream": "stdout",
       "text": [
        " 0.879206224992\n",
        "python_readibility_f1_mean {'LONG_NODE_LENGTH': 26}\n",
        "comp_stats"
       ]
      },
      {
       "output_type": "stream",
       "stream": "stdout",
       "text": [
        " 0.87908465846\n",
        "iteration 10\n",
        "current 9\n",
        "best_keys [(10, 0.8792079090973518), (13, 0.87920622499151002), (12, 0.87920576892411462), (7, 0.87919752430223352), (8, 0.87919752430223352), (9, 0.87919752430223352), (6, 0.87919492814178535), (16, 0.87918636620017776), (18, 0.87917974644668029), (5, 0.87916033126171755), (20, 0.87915988671700818), (4, 0.87915773561732014), (24, 0.87912250183845786), (26, 0.87908465845993911), (40, 0.87902954259485699), (80, 0.87885752775529247), (160, 0.87803089659250499)]\n",
        "continue\n",
        "iteration 11\n",
        "current 11\n",
        "python_readibility_f1_mean {'LONG_NODE_LENGTH': 11}\n",
        "comp_stats"
       ]
      },
      {
       "output_type": "stream",
       "stream": "stdout",
       "text": [
        " 0.879205768924\n",
        "python_readibility_f1_mean {'LONG_NODE_LENGTH': 22}\n",
        "comp_stats"
       ]
      },
      {
       "output_type": "stream",
       "stream": "stdout",
       "text": [
        " 0.879133146685\n",
        "iteration 12\n",
        "current 8\n",
        "iteration 13\n",
        "current 12\n",
        "iteration 14\n",
        "current 9\n",
        "iteration 15\n",
        "current 13\n",
        "best_keys [(10, 0.8792079090973518), (13, 0.87920622499151002), (11, 0.87920576892411462), (12, 0.87920576892411462), (7, 0.87919752430223352), (8, 0.87919752430223352), (9, 0.87919752430223352), (6, 0.87919492814178535), (16, 0.87918636620017776), (18, 0.87917974644668029), (5, 0.87916033126171755), (20, 0.87915988671700818), (4, 0.87915773561732014), (22, 0.87913314668462272), (24, 0.87912250183845786), (26, 0.87908465845993911), (40, 0.87902954259485699), (80, 0.87885752775529247), (160, 0.87803089659250499)]\n",
        "falling back in heuristic\n",
        "stopping for small delta 10 10\n",
        "{'make_int': True, 'param_name': 'P_TO_INPUT_RATIO', 'start_value': 3}\n",
        "iteration 1\n",
        "current 3\n",
        "python_readibility_f1_mean {'P_TO_INPUT_RATIO': 3}\n",
        "comp_stats"
       ]
      },
      {
       "output_type": "stream",
       "stream": "stdout",
       "text": [
        " 0.878857527755\n",
        "python_readibility_f1_mean {'P_TO_INPUT_RATIO': 1}\n",
        "comp_stats"
       ]
      },
      {
       "output_type": "stream",
       "stream": "stdout",
       "text": [
        " 0.878857527755\n",
        "python_readibility_f1_mean {'P_TO_INPUT_RATIO': 6}\n",
        "comp_stats"
       ]
      },
      {
       "output_type": "stream",
       "stream": "stdout",
       "text": [
        " 0.878857527755\n",
        "iteration 2\n",
        "current 1\n",
        "python_readibility_f1_mean {'P_TO_INPUT_RATIO': 0}\n",
        "comp_stats"
       ]
      },
      {
       "output_type": "stream",
       "stream": "stdout",
       "text": [
        " 0.878834876885\n",
        "python_readibility_f1_mean {'P_TO_INPUT_RATIO': 2}\n",
        "comp_stats"
       ]
      },
      {
       "output_type": "stream",
       "stream": "stdout",
       "text": [
        " 0.878857527755\n",
        "iteration 3\n",
        "current 2\n",
        "python_readibility_f1_mean {'P_TO_INPUT_RATIO': 4}\n",
        "comp_stats"
       ]
      },
      {
       "output_type": "stream",
       "stream": "stdout",
       "text": [
        " 0.878857527755\n",
        "iteration 4\n",
        "current 1\n",
        "iteration 5\n",
        "current 2\n",
        "best_keys [(1, 0.87885752775529247), (2, 0.87885752775529247), (3, 0.87885752775529247), (4, 0.87885752775529247), (6, 0.87885752775529247), (0, 0.87883487688512718)]\n",
        "stopping for small delta\n",
        "2\n",
        "{'make_int': False, 'param_name': 'LOW_WEIGHT_LINK_DENSITY_THRESHOLD', 'start_value': 0.2}\n",
        "iteration 1\n",
        "current 0.2\n",
        "python_readibility_f1_mean {'LOW_WEIGHT_LINK_DENSITY_THRESHOLD': 0.2}\n",
        "comp_stats"
       ]
      },
      {
       "output_type": "stream",
       "stream": "stdout",
       "text": [
        " 0.878857527755\n",
        "python_readibility_f1_mean {'LOW_WEIGHT_LINK_DENSITY_THRESHOLD': 0.1}\n",
        "comp_stats"
       ]
      },
      {
       "output_type": "stream",
       "stream": "stdout",
       "text": [
        " 0.876946494081\n",
        "python_readibility_f1_mean {'LOW_WEIGHT_LINK_DENSITY_THRESHOLD': 0.4}\n",
        "comp_stats"
       ]
      },
      {
       "output_type": "stream",
       "stream": "stdout",
       "text": [
        " 0.87968863708\n",
        "iteration 2\n",
        "current 0.4\n",
        "python_readibility_f1_mean {'LOW_WEIGHT_LINK_DENSITY_THRESHOLD': 0.8}\n",
        "comp_stats"
       ]
      },
      {
       "output_type": "stream",
       "stream": "stdout",
       "text": [
        " 0.88018434529\n",
        "iteration 3\n",
        "current 0.8\n",
        "python_readibility_f1_mean {'LOW_WEIGHT_LINK_DENSITY_THRESHOLD': 1.6}\n",
        "comp_stats"
       ]
      },
      {
       "output_type": "stream",
       "stream": "stdout",
       "text": [
        " 0.867533754776\n",
        "iteration 4\n",
        "current 0.6\n",
        "python_readibility_f1_mean {'LOW_WEIGHT_LINK_DENSITY_THRESHOLD': 0.6}\n",
        "comp_stats"
       ]
      },
      {
       "output_type": "stream",
       "stream": "stdout",
       "text": [
        " 0.879695110287\n",
        "python_readibility_f1_mean {'LOW_WEIGHT_LINK_DENSITY_THRESHOLD': 0.3}\n",
        "comp_stats"
       ]
      },
      {
       "output_type": "stream",
       "stream": "stdout",
       "text": [
        " 0.879288939218\n",
        "python_readibility_f1_mean {'LOW_WEIGHT_LINK_DENSITY_THRESHOLD': 1.2}\n",
        "comp_stats"
       ]
      },
      {
       "output_type": "stream",
       "stream": "stdout",
       "text": [
        " 0.867533754776\n",
        "iteration 5\n",
        "current 0.45\n",
        "python_readibility_f1_mean {'LOW_WEIGHT_LINK_DENSITY_THRESHOLD': 0.45}\n",
        "comp_stats"
       ]
      },
      {
       "output_type": "stream",
       "stream": "stdout",
       "text": [
        " 0.879744523397\n",
        "best_keys [(0.8, 0.88018434529020628), (0.45, 0.87974452339708464), (0.6, 0.87969511028708491), (0.4, 0.87968863708011813), (0.3, 0.8792889392183405), (0.2, 0.87885752775529247), (0.1, 0.87694649408099323), (1.2, 0.86753375477580374), (1.6, 0.86753375477580374)]\n",
        "continue\n",
        "iteration 6\n",
        "current 0.63\n",
        "python_readibility_f1_mean {'LOW_WEIGHT_LINK_DENSITY_THRESHOLD': 0.63}\n",
        "comp_stats"
       ]
      },
      {
       "output_type": "stream",
       "stream": "stdout",
       "text": [
        " 0.881334738362\n",
        "python_readibility_f1_mean {'LOW_WEIGHT_LINK_DENSITY_THRESHOLD': 0.32}\n",
        "comp_stats"
       ]
      },
      {
       "output_type": "stream",
       "stream": "stdout",
       "text": [
        " 0.879288939218\n",
        "python_readibility_f1_mean {'LOW_WEIGHT_LINK_DENSITY_THRESHOLD': 1.26}\n",
        "comp_stats"
       ]
      },
      {
       "output_type": "stream",
       "stream": "stdout",
       "text": [
        " 0.867533754776\n",
        "iteration 7\n",
        "current 0.47\n",
        "python_readibility_f1_mean {'LOW_WEIGHT_LINK_DENSITY_THRESHOLD': 0.47}\n",
        "comp_stats"
       ]
      },
      {
       "output_type": "stream",
       "stream": "stdout",
       "text": [
        " 0.879735107922\n",
        "python_readibility_f1_mean {'LOW_WEIGHT_LINK_DENSITY_THRESHOLD': 0.23}\n",
        "comp_stats"
       ]
      },
      {
       "output_type": "stream",
       "stream": "stdout",
       "text": [
        " 0.878933645161\n",
        "python_readibility_f1_mean {'LOW_WEIGHT_LINK_DENSITY_THRESHOLD': 0.94}\n",
        "comp_stats"
       ]
      },
      {
       "output_type": "stream",
       "stream": "stdout",
       "text": [
        " 0.879140795828\n",
        "iteration 8\n",
        "current 0.7\n",
        "python_readibility_f1_mean {'LOW_WEIGHT_LINK_DENSITY_THRESHOLD': 0.7}\n",
        "comp_stats"
       ]
      },
      {
       "output_type": "stream",
       "stream": "stdout",
       "text": [
        " 0.881483415423\n",
        "python_readibility_f1_mean {'LOW_WEIGHT_LINK_DENSITY_THRESHOLD': 0.35}\n",
        "comp_stats"
       ]
      },
      {
       "output_type": "stream",
       "stream": "stdout",
       "text": [
        " 0.879645918605\n",
        "python_readibility_f1_mean {'LOW_WEIGHT_LINK_DENSITY_THRESHOLD': 1.4}\n",
        "comp_stats"
       ]
      },
      {
       "output_type": "stream",
       "stream": "stdout",
       "text": [
        " 0.867533754776\n",
        "iteration 9\n",
        "current 0.52\n",
        "python_readibility_f1_mean {'LOW_WEIGHT_LINK_DENSITY_THRESHOLD': 0.52}\n",
        "comp_stats"
       ]
      },
      {
       "output_type": "stream",
       "stream": "stdout",
       "text": [
        " 0.879731118973\n",
        "python_readibility_f1_mean {'LOW_WEIGHT_LINK_DENSITY_THRESHOLD': 0.26}\n",
        "comp_stats"
       ]
      },
      {
       "output_type": "stream",
       "stream": "stdout",
       "text": [
        " 0.878917757351\n",
        "python_readibility_f1_mean {'LOW_WEIGHT_LINK_DENSITY_THRESHOLD': 1.04}\n",
        "comp_stats"
       ]
      },
      {
       "output_type": "stream",
       "stream": "stdout",
       "text": [
        " 0.867533754776\n",
        "iteration 10\n",
        "current 0.39\n",
        "python_readibility_f1_mean {'LOW_WEIGHT_LINK_DENSITY_THRESHOLD': 0.39}\n",
        "comp_stats"
       ]
      },
      {
       "output_type": "stream",
       "stream": "stdout",
       "text": [
        " 0.879648046487\n",
        "best_keys [(0.7, 0.88148341542261544), (0.63, 0.88133473836228027), (0.8, 0.88018434529020628), (0.45, 0.87974452339708464), (0.47, 0.87973510792172249), (0.52, 0.87973111897278489), (0.6, 0.87969511028708491), (0.4, 0.87968863708011813), (0.39, 0.87964804648709494), (0.35, 0.87964591860489105), (0.3, 0.8792889392183405), (0.32, 0.8792889392183405), (0.94, 0.87914079582792526), (0.23, 0.87893364516062367), (0.26, 0.87891775735142186), (0.2, 0.87885752775529247), (0.1, 0.87694649408099323), (1.04, 0.86753375477580374), (1.2, 0.86753375477580374), (1.26, 0.86753375477580374), (1.4, 0.86753375477580374), (1.6, 0.86753375477580374)]\n",
        "continue\n",
        "iteration 11\n",
        "current 0.67\n",
        "python_readibility_f1_mean {'LOW_WEIGHT_LINK_DENSITY_THRESHOLD': 0.67}\n",
        "comp_stats"
       ]
      },
      {
       "output_type": "stream",
       "stream": "stdout",
       "text": [
        " 0.881456380466\n",
        "python_readibility_f1_mean {'LOW_WEIGHT_LINK_DENSITY_THRESHOLD': 0.34}\n",
        "comp_stats"
       ]
      },
      {
       "output_type": "stream",
       "stream": "stdout",
       "text": [
        " 0.879592137447\n",
        "python_readibility_f1_mean {'LOW_WEIGHT_LINK_DENSITY_THRESHOLD': 1.34}\n",
        "comp_stats"
       ]
      },
      {
       "output_type": "stream",
       "stream": "stdout",
       "text": [
        " 0.867533754776\n",
        "iteration 12\n",
        "current 0.51\n",
        "python_readibility_f1_mean {'LOW_WEIGHT_LINK_DENSITY_THRESHOLD': 0.51}\n",
        "comp_stats"
       ]
      },
      {
       "output_type": "stream",
       "stream": "stdout",
       "text": [
        " 0.879731118973\n",
        "python_readibility_f1_mean {'LOW_WEIGHT_LINK_DENSITY_THRESHOLD': 1.02}\n",
        "comp_stats"
       ]
      },
      {
       "output_type": "stream",
       "stream": "stdout",
       "text": [
        " 0.867533754776\n",
        "iteration 13\n",
        "current 0.39\n",
        "python_readibility_f1_mean {'LOW_WEIGHT_LINK_DENSITY_THRESHOLD': 0.78}\n",
        "comp_stats"
       ]
      },
      {
       "output_type": "stream",
       "stream": "stdout",
       "text": [
        " 0.880290517191\n",
        "iteration 14\n",
        "current 0.78\n",
        "python_readibility_f1_mean {'LOW_WEIGHT_LINK_DENSITY_THRESHOLD': 1.56}\n",
        "comp_stats"
       ]
      },
      {
       "output_type": "stream",
       "stream": "stdout",
       "text": [
        " 0.867533754776\n",
        "iteration 15\n",
        "current 0.58\n",
        "python_readibility_f1_mean {'LOW_WEIGHT_LINK_DENSITY_THRESHOLD': 0.58}\n",
        "comp_stats"
       ]
      },
      {
       "output_type": "stream",
       "stream": "stdout",
       "text": [
        " 0.879548967365\n",
        "best_keys [(0.7, 0.88148341542261544), (0.67, 0.88145638046619423), (0.63, 0.88133473836228027), (0.78, 0.88029051719088613), (0.8, 0.88018434529020628), (0.45, 0.87974452339708464), (0.47, 0.87973510792172249), (0.51, 0.87973111897278489), (0.52, 0.87973111897278489), (0.6, 0.87969511028708491), (0.4, 0.87968863708011813), (0.39, 0.87964804648709494), (0.35, 0.87964591860489105), (0.34, 0.87959213744732268), (0.58, 0.87954896736490362), (0.3, 0.8792889392183405), (0.32, 0.8792889392183405), (0.94, 0.87914079582792526), (0.23, 0.87893364516062367), (0.26, 0.87891775735142186), (0.2, 0.87885752775529247), (0.1, 0.87694649408099323), (1.02, 0.86753375477580374), (1.04, 0.86753375477580374), (1.2, 0.86753375477580374), (1.26, 0.86753375477580374), (1.34, 0.86753375477580374), (1.4, 0.86753375477580374), (1.56, 0.86753375477580374), (1.6, 0.86753375477580374)]\n",
        "continue\n",
        "iteration 16\n",
        "current 0.69\n",
        "python_readibility_f1_mean {'LOW_WEIGHT_LINK_DENSITY_THRESHOLD': 0.69}\n",
        "comp_stats"
       ]
      },
      {
       "output_type": "stream",
       "stream": "stdout",
       "text": [
        " 0.881483415423\n",
        "python_readibility_f1_mean {'LOW_WEIGHT_LINK_DENSITY_THRESHOLD': 1.38}\n",
        "comp_stats"
       ]
      },
      {
       "output_type": "stream",
       "stream": "stdout",
       "text": [
        " 0.867533754776\n",
        "iteration 17\n",
        "current 0.52\n",
        "iteration 18\n",
        "current 0.39\n",
        "iteration 19\n",
        "current 0.78\n",
        "iteration 20\n",
        "current 0.58\n",
        "best_keys [(0.69, 0.88148341542261544), (0.7, 0.88148341542261544), (0.67, 0.88145638046619423), (0.63, 0.88133473836228027), (0.78, 0.88029051719088613), (0.8, 0.88018434529020628), (0.45, 0.87974452339708464), (0.47, 0.87973510792172249), (0.51, 0.87973111897278489), (0.52, 0.87973111897278489), (0.6, 0.87969511028708491), (0.4, 0.87968863708011813), (0.39, 0.87964804648709494), (0.35, 0.87964591860489105), (0.34, 0.87959213744732268), (0.58, 0.87954896736490362), (0.3, 0.8792889392183405), (0.32, 0.8792889392183405), (0.94, 0.87914079582792526), (0.23, 0.87893364516062367), (0.26, 0.87891775735142186), (0.2, 0.87885752775529247), (0.1, 0.87694649408099323), (1.02, 0.86753375477580374), (1.04, 0.86753375477580374), (1.2, 0.86753375477580374), (1.26, 0.86753375477580374), (1.34, 0.86753375477580374), (1.38, 0.86753375477580374), (1.4, 0.86753375477580374), (1.56, 0.86753375477580374), (1.6, 0.86753375477580374)]\n",
        "stopping for small delta\n",
        "0.58\n",
        "{'make_int': False, 'param_name': 'HEADER_LINK_DENSITY_THRESHOLD', 'start_value': 0.33}\n",
        "iteration 1\n",
        "current 0.33\n",
        "python_readibility_f1_mean {'HEADER_LINK_DENSITY_THRESHOLD': 0.33}\n",
        "comp_stats"
       ]
      },
      {
       "output_type": "stream",
       "stream": "stdout",
       "text": [
        " 0.878857527755\n",
        "python_readibility_f1_mean {'HEADER_LINK_DENSITY_THRESHOLD': 0.17}\n",
        "comp_stats"
       ]
      },
      {
       "output_type": "stream",
       "stream": "stdout",
       "text": [
        " 0.878914651729\n",
        "python_readibility_f1_mean {'HEADER_LINK_DENSITY_THRESHOLD': 0.66}\n",
        "comp_stats"
       ]
      },
      {
       "output_type": "stream",
       "stream": "stdout",
       "text": [
        " 0.878810795481\n",
        "iteration 2\n",
        "current 0.17\n",
        "python_readibility_f1_mean {'HEADER_LINK_DENSITY_THRESHOLD': 0.09}\n",
        "comp_stats"
       ]
      },
      {
       "output_type": "stream",
       "stream": "stdout",
       "text": [
        " 0.878953604151\n",
        "python_readibility_f1_mean {'HEADER_LINK_DENSITY_THRESHOLD': 0.34}\n",
        "comp_stats"
       ]
      },
      {
       "output_type": "stream",
       "stream": "stdout",
       "text": [
        " 0.878857527755\n",
        "iteration 3\n",
        "current 0.09\n",
        "python_readibility_f1_mean {'HEADER_LINK_DENSITY_THRESHOLD': 0.04}\n",
        "comp_stats"
       ]
      },
      {
       "output_type": "stream",
       "stream": "stdout",
       "text": [
        " 0.878953604151\n",
        "python_readibility_f1_mean {'HEADER_LINK_DENSITY_THRESHOLD': 0.18}\n",
        "comp_stats"
       ]
      },
      {
       "output_type": "stream",
       "stream": "stdout",
       "text": [
        " 0.878914651729\n",
        "iteration 4\n",
        "current 0.04\n",
        "python_readibility_f1_mean {'HEADER_LINK_DENSITY_THRESHOLD': 0.02}\n",
        "comp_stats"
       ]
      },
      {
       "output_type": "stream",
       "stream": "stdout",
       "text": [
        " 0.878953604151\n",
        "python_readibility_f1_mean {'HEADER_LINK_DENSITY_THRESHOLD': 0.08}\n",
        "comp_stats"
       ]
      },
      {
       "output_type": "stream",
       "stream": "stdout",
       "text": [
        " 0.878953604151\n",
        "iteration 5\n",
        "current 0.02\n",
        "best_keys [(0.02, 0.87895360415060109), (0.04, 0.87895360415060109), (0.08, 0.87895360415060109), (0.09, 0.87895360415060109), (0.17, 0.87891465172894656), (0.18, 0.87891465172894656), (0.33, 0.87885752775529247), (0.34, 0.87885752775529247), (0.66, 0.87881079548140095)]\n",
        "continue\n",
        "iteration 6\n",
        "current 0.03\n",
        "python_readibility_f1_mean {'HEADER_LINK_DENSITY_THRESHOLD': 0.03}\n",
        "comp_stats"
       ]
      },
      {
       "output_type": "stream",
       "stream": "stdout",
       "text": [
        " 0.878953604151\n",
        "python_readibility_f1_mean {'HEADER_LINK_DENSITY_THRESHOLD': 0.01}\n",
        "comp_stats"
       ]
      },
      {
       "output_type": "stream",
       "stream": "stdout",
       "text": [
        " 0.878953604151\n",
        "python_readibility_f1_mean {'HEADER_LINK_DENSITY_THRESHOLD': 0.06}\n",
        "comp_stats"
       ]
      },
      {
       "output_type": "stream",
       "stream": "stdout",
       "text": [
        " 0.878953604151\n",
        "iteration 7\n",
        "current 0.01\n",
        "iteration 8\n",
        "current 0.01\n",
        "iteration 9\n",
        "current 0.01\n",
        "iteration 10\n",
        "current 0.01\n",
        "best_keys [(0.01, 0.87895360415060109), (0.02, 0.87895360415060109), (0.03, 0.87895360415060109), (0.04, 0.87895360415060109), (0.06, 0.87895360415060109), (0.08, 0.87895360415060109), (0.09, 0.87895360415060109), (0.17, 0.87891465172894656), (0.18, 0.87891465172894656), (0.33, 0.87885752775529247), (0.34, 0.87885752775529247), (0.66, 0.87881079548140095)]\n",
        "stopping for small delta\n",
        "0.01\n",
        "{'make_int': False, 'param_name': 'HIGH_WEIGHT_LINK_DENSITY_THRESHOLD', 'start_value': 0.5}\n",
        "iteration 1\n",
        "current 0.5\n",
        "python_readibility_f1_mean {'HIGH_WEIGHT_LINK_DENSITY_THRESHOLD': 0.5}\n",
        "comp_stats"
       ]
      },
      {
       "output_type": "stream",
       "stream": "stdout",
       "text": [
        " 0.878857527755\n",
        "python_readibility_f1_mean {'HIGH_WEIGHT_LINK_DENSITY_THRESHOLD': 0.25}\n",
        "comp_stats"
       ]
      },
      {
       "output_type": "stream",
       "stream": "stdout",
       "text": [
        " 0.878827088282\n",
        "python_readibility_f1_mean {'HIGH_WEIGHT_LINK_DENSITY_THRESHOLD': 1.0}\n",
        "comp_stats"
       ]
      },
      {
       "output_type": "stream",
       "stream": "stdout",
       "text": [
        " 0.878596806252\n",
        "iteration 2\n",
        "current 0.38\n",
        "python_readibility_f1_mean {'HIGH_WEIGHT_LINK_DENSITY_THRESHOLD': 0.38}\n",
        "comp_stats"
       ]
      },
      {
       "output_type": "stream",
       "stream": "stdout",
       "text": [
        " 0.878845261905\n",
        "python_readibility_f1_mean {'HIGH_WEIGHT_LINK_DENSITY_THRESHOLD': 0.19}\n",
        "comp_stats"
       ]
      },
      {
       "output_type": "stream",
       "stream": "stdout",
       "text": [
        " 0.878827088282\n",
        "python_readibility_f1_mean {'HIGH_WEIGHT_LINK_DENSITY_THRESHOLD': 0.76}\n",
        "comp_stats"
       ]
      },
      {
       "output_type": "stream",
       "stream": "stdout",
       "text": [
        " 0.878805783195\n",
        "iteration 3\n",
        "current 0.29\n",
        "python_readibility_f1_mean {'HIGH_WEIGHT_LINK_DENSITY_THRESHOLD': 0.29}\n",
        "comp_stats"
       ]
      },
      {
       "output_type": "stream",
       "stream": "stdout",
       "text": [
        " 0.878827088282\n",
        "python_readibility_f1_mean {'HIGH_WEIGHT_LINK_DENSITY_THRESHOLD': 0.14}\n",
        "comp_stats"
       ]
      },
      {
       "output_type": "stream",
       "stream": "stdout",
       "text": [
        " 0.878877985339\n",
        "python_readibility_f1_mean {'HIGH_WEIGHT_LINK_DENSITY_THRESHOLD': 0.58}\n",
        "comp_stats"
       ]
      },
      {
       "output_type": "stream",
       "stream": "stdout",
       "text": [
        " 0.878828968553\n",
        "iteration 4\n",
        "current 0.14\n",
        "python_readibility_f1_mean {'HIGH_WEIGHT_LINK_DENSITY_THRESHOLD': 0.07}\n",
        "comp_stats"
       ]
      },
      {
       "output_type": "stream",
       "stream": "stdout",
       "text": [
        " 0.876317390595\n",
        "python_readibility_f1_mean {'HIGH_WEIGHT_LINK_DENSITY_THRESHOLD': 0.28}\n",
        "comp_stats"
       ]
      },
      {
       "output_type": "stream",
       "stream": "stdout",
       "text": [
        " 0.878827088282\n",
        "iteration 5\n",
        "current 0.21\n",
        "python_readibility_f1_mean {'HIGH_WEIGHT_LINK_DENSITY_THRESHOLD': 0.21}\n",
        "comp_stats"
       ]
      },
      {
       "output_type": "stream",
       "stream": "stdout",
       "text": [
        " 0.878827088282\n",
        "best_keys [(0.14, 0.8788779853393236), (0.5, 0.87885752775529247), (0.38, 0.87884526190469159), (0.58, 0.87882896855290182), (0.19, 0.87882708828151779), (0.21, 0.87882708828151779), (0.25, 0.87882708828151779), (0.28, 0.87882708828151779), (0.29, 0.87882708828151779), (0.76, 0.87880578319517411), (1.0, 0.87859680625164271), (0.07, 0.8763173905946251)]\n",
        "continue\n",
        "iteration 6\n",
        "current 0.32\n",
        "python_readibility_f1_mean {'HIGH_WEIGHT_LINK_DENSITY_THRESHOLD': 0.32}\n",
        "comp_stats"
       ]
      },
      {
       "output_type": "stream",
       "stream": "stdout",
       "text": [
        " 0.878827088282\n",
        "python_readibility_f1_mean {'HIGH_WEIGHT_LINK_DENSITY_THRESHOLD': 0.16}\n",
        "comp_stats"
       ]
      },
      {
       "output_type": "stream",
       "stream": "stdout",
       "text": [
        " 0.878925754129\n",
        "python_readibility_f1_mean {'HIGH_WEIGHT_LINK_DENSITY_THRESHOLD': 0.64}\n",
        "comp_stats"
       ]
      },
      {
       "output_type": "stream",
       "stream": "stdout",
       "text": [
        " 0.878828968553\n",
        "iteration 7\n",
        "current 0.16\n",
        "python_readibility_f1_mean {'HIGH_WEIGHT_LINK_DENSITY_THRESHOLD': 0.08}\n",
        "comp_stats"
       ]
      },
      {
       "output_type": "stream",
       "stream": "stdout",
       "text": [
        " 0.877511575927\n",
        "iteration 8\n",
        "current 0.24\n",
        "python_readibility_f1_mean {'HIGH_WEIGHT_LINK_DENSITY_THRESHOLD': 0.24}\n",
        "comp_stats"
       ]
      },
      {
       "output_type": "stream",
       "stream": "stdout",
       "text": [
        " 0.878827088282\n",
        "python_readibility_f1_mean {'HIGH_WEIGHT_LINK_DENSITY_THRESHOLD': 0.12}\n",
        "comp_stats"
       ]
      },
      {
       "output_type": "stream",
       "stream": "stdout",
       "text": [
        " 0.878585366287\n",
        "python_readibility_f1_mean {'HIGH_WEIGHT_LINK_DENSITY_THRESHOLD': 0.48}\n",
        "comp_stats"
       ]
      },
      {
       "output_type": "stream",
       "stream": "stdout",
       "text": [
        " 0.878857527755\n",
        "iteration 9\n",
        "current 0.48\n",
        "python_readibility_f1_mean {'HIGH_WEIGHT_LINK_DENSITY_THRESHOLD': 0.96}\n",
        "comp_stats"
       ]
      },
      {
       "output_type": "stream",
       "stream": "stdout",
       "text": [
        " 0.878786267525\n",
        "iteration 10\n",
        "current 0.36\n",
        "python_readibility_f1_mean {'HIGH_WEIGHT_LINK_DENSITY_THRESHOLD': 0.36}\n",
        "comp_stats"
       ]
      },
      {
       "output_type": "stream",
       "stream": "stdout",
       "text": [
        " 0.878845261905\n",
        "best_keys [(0.16, 0.87892575412887419), (0.14, 0.8788779853393236), (0.48, 0.87885752775529247), (0.5, 0.87885752775529247), (0.36, 0.87884526190469159), (0.38, 0.87884526190469159), (0.58, 0.87882896855290182), (0.64, 0.87882896855290182), (0.19, 0.87882708828151779), (0.21, 0.87882708828151779), (0.24, 0.87882708828151779), (0.25, 0.87882708828151779), (0.28, 0.87882708828151779), (0.29, 0.87882708828151779), (0.32, 0.87882708828151779), (0.76, 0.87880578319517411), (0.96, 0.87878626752450328), (1.0, 0.87859680625164271), (0.12, 0.87858536628697148), (0.08, 0.87751157592681539), (0.07, 0.8763173905946251)]\n",
        "continue\n",
        "iteration 11\n",
        "current 0.15\n",
        "python_readibility_f1_mean {'HIGH_WEIGHT_LINK_DENSITY_THRESHOLD': 0.15}\n",
        "comp_stats"
       ]
      },
      {
       "output_type": "stream",
       "stream": "stdout",
       "text": [
        " 0.878937630417\n",
        "python_readibility_f1_mean {'HIGH_WEIGHT_LINK_DENSITY_THRESHOLD': 0.3}\n",
        "comp_stats"
       ]
      },
      {
       "output_type": "stream",
       "stream": "stdout",
       "text": [
        " 0.878827088282\n",
        "iteration 12\n",
        "current 0.22\n",
        "python_readibility_f1_mean {'HIGH_WEIGHT_LINK_DENSITY_THRESHOLD': 0.22}\n",
        "comp_stats"
       ]
      },
      {
       "output_type": "stream",
       "stream": "stdout",
       "text": [
        " 0.878827088282\n",
        "python_readibility_f1_mean {'HIGH_WEIGHT_LINK_DENSITY_THRESHOLD': 0.11}\n",
        "comp_stats"
       ]
      },
      {
       "output_type": "stream",
       "stream": "stdout",
       "text": [
        " 0.878285030451\n",
        "python_readibility_f1_mean {'HIGH_WEIGHT_LINK_DENSITY_THRESHOLD': 0.44}\n",
        "comp_stats"
       ]
      },
      {
       "output_type": "stream",
       "stream": "stdout",
       "text": [
        " 0.878845261905\n",
        "iteration 13\n",
        "current 0.44\n",
        "python_readibility_f1_mean {'HIGH_WEIGHT_LINK_DENSITY_THRESHOLD': 0.88}\n",
        "comp_stats"
       ]
      },
      {
       "output_type": "stream",
       "stream": "stdout",
       "text": [
        " 0.878835592765\n",
        "iteration 14\n",
        "current 0.66\n",
        "python_readibility_f1_mean {'HIGH_WEIGHT_LINK_DENSITY_THRESHOLD': 0.66}\n",
        "comp_stats"
       ]
      },
      {
       "output_type": "stream",
       "stream": "stdout",
       "text": [
        " 0.878828968553\n",
        "python_readibility_f1_mean {'HIGH_WEIGHT_LINK_DENSITY_THRESHOLD': 0.33}\n",
        "comp_stats"
       ]
      },
      {
       "output_type": "stream",
       "stream": "stdout",
       "text": [
        " 0.878845261905\n",
        "python_readibility_f1_mean {'HIGH_WEIGHT_LINK_DENSITY_THRESHOLD': 1.32}\n",
        "comp_stats"
       ]
      },
      {
       "output_type": "stream",
       "stream": "stdout",
       "text": [
        " 0.878596806252\n",
        "iteration 15\n",
        "current 0.33\n",
        "best_keys [(0.15, 0.8789376304169203), (0.16, 0.87892575412887419), (0.14, 0.8788779853393236), (0.48, 0.87885752775529247), (0.5, 0.87885752775529247), (0.33, 0.87884526190469159), (0.36, 0.87884526190469159), (0.38, 0.87884526190469159), (0.44, 0.87884526190469159), (0.88, 0.87883559276469903), (0.58, 0.87882896855290182), (0.64, 0.87882896855290182), (0.66, 0.87882896855290182), (0.19, 0.87882708828151779), (0.21, 0.87882708828151779), (0.22, 0.87882708828151779), (0.24, 0.87882708828151779), (0.25, 0.87882708828151779), (0.28, 0.87882708828151779), (0.29, 0.87882708828151779), (0.3, 0.87882708828151779), (0.32, 0.87882708828151779), (0.76, 0.87880578319517411), (0.96, 0.87878626752450328), (1.0, 0.87859680625164271), (1.32, 0.87859680625164271), (0.12, 0.87858536628697148), (0.11, 0.87828503045095863), (0.08, 0.87751157592681539), (0.07, 0.8763173905946251)]\n",
        "stopping for small delta\n",
        "0.33\n",
        "{'make_int': True, 'param_name': 'MIN_SIBLING_SCORE_THRESHOLD', 'start_value': 10}\n",
        "iteration 1\n",
        "current 10\n",
        "python_readibility_f1_mean {'MIN_SIBLING_SCORE_THRESHOLD': 10}\n",
        "comp_stats"
       ]
      },
      {
       "output_type": "stream",
       "stream": "stdout",
       "text": [
        " 0.878857527755\n",
        "python_readibility_f1_mean {'MIN_SIBLING_SCORE_THRESHOLD': 5}\n",
        "comp_stats"
       ]
      },
      {
       "output_type": "stream",
       "stream": "stdout",
       "text": [
        " 0.876121723155\n",
        "python_readibility_f1_mean {'MIN_SIBLING_SCORE_THRESHOLD': 20}\n",
        "comp_stats"
       ]
      },
      {
       "output_type": "stream",
       "stream": "stdout",
       "text": [
        " 0.879773691655\n",
        "iteration 2\n",
        "current 20\n",
        "python_readibility_f1_mean {'MIN_SIBLING_SCORE_THRESHOLD': 40}\n",
        "comp_stats"
       ]
      },
      {
       "output_type": "stream",
       "stream": "stdout",
       "text": [
        " 0.880049061143\n",
        "iteration 3\n",
        "current 40\n",
        "python_readibility_f1_mean {'MIN_SIBLING_SCORE_THRESHOLD': 80}\n",
        "comp_stats"
       ]
      },
      {
       "output_type": "stream",
       "stream": "stdout",
       "text": [
        " 0.880049061143\n",
        "iteration 4\n",
        "current 80\n",
        "python_readibility_f1_mean {'MIN_SIBLING_SCORE_THRESHOLD': 160}\n",
        "comp_stats"
       ]
      },
      {
       "output_type": "stream",
       "stream": "stdout",
       "text": [
        " 0.880049061143\n",
        "iteration 5\n",
        "current 40\n",
        "best_keys [(40, 0.88004906114274528), (80, 0.88004906114274528), (160, 0.88004906114274528), (20, 0.87977369165487973), (10, 0.87885752775529247), (5, 0.87612172315519232)]\n",
        "continue\n",
        "iteration 6\n",
        "current 60\n",
        "python_readibility_f1_mean {'MIN_SIBLING_SCORE_THRESHOLD': 60}\n",
        "comp_stats"
       ]
      },
      {
       "output_type": "stream",
       "stream": "stdout",
       "text": [
        " 0.880049061143\n",
        "python_readibility_f1_mean {'MIN_SIBLING_SCORE_THRESHOLD': 30}\n",
        "comp_stats"
       ]
      },
      {
       "output_type": "stream",
       "stream": "stdout",
       "text": [
        " 0.880210091249\n",
        "python_readibility_f1_mean {'MIN_SIBLING_SCORE_THRESHOLD': 120}\n",
        "comp_stats"
       ]
      },
      {
       "output_type": "stream",
       "stream": "stdout",
       "text": [
        " 0.880049061143\n",
        "iteration 7\n",
        "current 30\n",
        "python_readibility_f1_mean {'MIN_SIBLING_SCORE_THRESHOLD': 15}\n",
        "comp_stats"
       ]
      },
      {
       "output_type": "stream",
       "stream": "stdout",
       "text": [
        " 0.87873281509\n",
        "iteration 8\n",
        "current 45\n",
        "python_readibility_f1_mean {'MIN_SIBLING_SCORE_THRESHOLD': 45}\n",
        "comp_stats"
       ]
      },
      {
       "output_type": "stream",
       "stream": "stdout",
       "text": [
        " 0.880049061143\n",
        "python_readibility_f1_mean {'MIN_SIBLING_SCORE_THRESHOLD': 22}\n",
        "comp_stats"
       ]
      },
      {
       "output_type": "stream",
       "stream": "stdout",
       "text": [
        " 0.87977249457\n",
        "python_readibility_f1_mean {'MIN_SIBLING_SCORE_THRESHOLD': 90}\n",
        "comp_stats"
       ]
      },
      {
       "output_type": "stream",
       "stream": "stdout",
       "text": [
        " 0.880049061143\n",
        "iteration 9\n",
        "current 90\n",
        "python_readibility_f1_mean {'MIN_SIBLING_SCORE_THRESHOLD': 180}\n",
        "comp_stats"
       ]
      },
      {
       "output_type": "stream",
       "stream": "stdout",
       "text": [
        " 0.880049061143\n",
        "iteration 10\n",
        "current 45\n",
        "best_keys [(30, 0.88021009124876382), (40, 0.88004906114274528), (45, 0.88004906114274528), (60, 0.88004906114274528), (80, 0.88004906114274528), (90, 0.88004906114274528), (120, 0.88004906114274528), (160, 0.88004906114274528), (180, 0.88004906114274528), (20, 0.87977369165487973), (22, 0.8797724945698171), (10, 0.87885752775529247), (15, 0.87873281508992429), (5, 0.87612172315519232)]\n",
        "continue\n",
        "iteration 11\n",
        "current 35\n",
        "python_readibility_f1_mean {'MIN_SIBLING_SCORE_THRESHOLD': 35}\n",
        "comp_stats"
       ]
      },
      {
       "output_type": "stream",
       "stream": "stdout",
       "text": [
        " 0.880114923804\n",
        "python_readibility_f1_mean {'MIN_SIBLING_SCORE_THRESHOLD': 17}\n",
        "comp_stats"
       ]
      },
      {
       "output_type": "stream",
       "stream": "stdout",
       "text": [
        " 0.879773691655\n",
        "python_readibility_f1_mean {'MIN_SIBLING_SCORE_THRESHOLD': 70}\n",
        "comp_stats"
       ]
      },
      {
       "output_type": "stream",
       "stream": "stdout",
       "text": [
        " 0.880049061143\n",
        "iteration 12\n",
        "current 52\n",
        "python_readibility_f1_mean {'MIN_SIBLING_SCORE_THRESHOLD': 52}\n",
        "comp_stats"
       ]
      },
      {
       "output_type": "stream",
       "stream": "stdout",
       "text": [
        " 0.880049061143\n",
        "python_readibility_f1_mean {'MIN_SIBLING_SCORE_THRESHOLD': 26}\n",
        "comp_stats"
       ]
      },
      {
       "output_type": "stream",
       "stream": "stdout",
       "text": [
        " 0.87977249457\n",
        "python_readibility_f1_mean {'MIN_SIBLING_SCORE_THRESHOLD': 104}\n",
        "comp_stats"
       ]
      },
      {
       "output_type": "stream",
       "stream": "stdout",
       "text": [
        " 0.880049061143\n",
        "iteration 13\n",
        "current 104\n",
        "python_readibility_f1_mean {'MIN_SIBLING_SCORE_THRESHOLD': 208}\n",
        "comp_stats"
       ]
      },
      {
       "output_type": "stream",
       "stream": "stdout",
       "text": [
        " 0.880049061143\n",
        "iteration 14\n",
        "current 52\n",
        "iteration 15\n",
        "current 104\n",
        "best_keys [(30, 0.88021009124876382), (35, 0.88011492380374101), (40, 0.88004906114274528), (45, 0.88004906114274528), (52, 0.88004906114274528), (60, 0.88004906114274528), (70, 0.88004906114274528), (80, 0.88004906114274528), (90, 0.88004906114274528), (104, 0.88004906114274528), (120, 0.88004906114274528), (160, 0.88004906114274528), (180, 0.88004906114274528), (208, 0.88004906114274528), (17, 0.87977369165487973), (20, 0.87977369165487973), (22, 0.8797724945698171), (26, 0.8797724945698171), (10, 0.87885752775529247), (15, 0.87873281508992429), (5, 0.87612172315519232)]\n",
        "continue\n",
        "iteration 16\n",
        "current 32\n",
        "python_readibility_f1_mean {'MIN_SIBLING_SCORE_THRESHOLD': 32}\n",
        "comp_stats"
       ]
      },
      {
       "output_type": "stream",
       "stream": "stdout",
       "text": [
        " 0.880210091249\n",
        "python_readibility_f1_mean {'MIN_SIBLING_SCORE_THRESHOLD': 16}\n",
        "comp_stats"
       ]
      },
      {
       "output_type": "stream",
       "stream": "stdout",
       "text": [
        " 0.879773691655\n",
        "python_readibility_f1_mean {'MIN_SIBLING_SCORE_THRESHOLD': 64}\n",
        "comp_stats"
       ]
      },
      {
       "output_type": "stream",
       "stream": "stdout",
       "text": [
        " 0.880049061143\n",
        "iteration 17\n",
        "current 48\n",
        "python_readibility_f1_mean {'MIN_SIBLING_SCORE_THRESHOLD': 48}\n",
        "comp_stats"
       ]
      },
      {
       "output_type": "stream",
       "stream": "stdout",
       "text": [
        " 0.880049061143\n",
        "python_readibility_f1_mean {'MIN_SIBLING_SCORE_THRESHOLD': 24}\n",
        "comp_stats"
       ]
      },
      {
       "output_type": "stream",
       "stream": "stdout",
       "text": [
        " 0.87977249457\n",
        "python_readibility_f1_mean {'MIN_SIBLING_SCORE_THRESHOLD': 96}\n",
        "comp_stats"
       ]
      },
      {
       "output_type": "stream",
       "stream": "stdout",
       "text": [
        " 0.880049061143\n",
        "iteration 18\n",
        "current 96\n",
        "python_readibility_f1_mean {'MIN_SIBLING_SCORE_THRESHOLD': 192}\n",
        "comp_stats"
       ]
      },
      {
       "output_type": "stream",
       "stream": "stdout",
       "text": [
        " 0.880049061143\n",
        "iteration 19\n",
        "current 48\n",
        "iteration 20\n",
        "current 96\n",
        "best_keys [(30, 0.88021009124876382), (32, 0.88021009124876382), (35, 0.88011492380374101), (40, 0.88004906114274528), (45, 0.88004906114274528), (48, 0.88004906114274528), (52, 0.88004906114274528), (60, 0.88004906114274528), (64, 0.88004906114274528), (70, 0.88004906114274528), (80, 0.88004906114274528), (90, 0.88004906114274528), (96, 0.88004906114274528), (104, 0.88004906114274528), (120, 0.88004906114274528), (160, 0.88004906114274528), (180, 0.88004906114274528), (192, 0.88004906114274528), (208, 0.88004906114274528), (16, 0.87977369165487973), (17, 0.87977369165487973), (20, 0.87977369165487973), (22, 0.8797724945698171), (24, 0.8797724945698171), (26, 0.8797724945698171), (10, 0.87885752775529247), (15, 0.87873281508992429), (5, 0.87612172315519232)]\n",
        "continue\n",
        "iteration 21\n",
        "current 31\n",
        "python_readibility_f1_mean {'MIN_SIBLING_SCORE_THRESHOLD': 31}\n",
        "comp_stats"
       ]
      },
      {
       "output_type": "stream",
       "stream": "stdout",
       "text": [
        " 0.880210091249\n",
        "python_readibility_f1_mean {'MIN_SIBLING_SCORE_THRESHOLD': 62}\n",
        "comp_stats"
       ]
      },
      {
       "output_type": "stream",
       "stream": "stdout",
       "text": [
        " 0.880049061143\n",
        "iteration 22\n",
        "current 46\n",
        "python_readibility_f1_mean {'MIN_SIBLING_SCORE_THRESHOLD': 46}\n",
        "comp_stats"
       ]
      },
      {
       "output_type": "stream",
       "stream": "stdout",
       "text": [
        " 0.880049061143\n",
        "python_readibility_f1_mean {'MIN_SIBLING_SCORE_THRESHOLD': 23}\n",
        "comp_stats"
       ]
      },
      {
       "output_type": "stream",
       "stream": "stdout",
       "text": [
        " 0.87977249457\n",
        "python_readibility_f1_mean {'MIN_SIBLING_SCORE_THRESHOLD': 92}\n",
        "comp_stats"
       ]
      },
      {
       "output_type": "stream",
       "stream": "stdout",
       "text": [
        " 0.880049061143\n",
        "iteration 23\n",
        "current 92\n",
        "python_readibility_f1_mean {'MIN_SIBLING_SCORE_THRESHOLD': 184}\n",
        "comp_stats"
       ]
      },
      {
       "output_type": "stream",
       "stream": "stdout",
       "text": [
        " 0.880049061143\n",
        "iteration 24\n",
        "current 46\n",
        "iteration 25\n",
        "current 92\n",
        "best_keys [(30, 0.88021009124876382), (31, 0.88021009124876382), (32, 0.88021009124876382), (35, 0.88011492380374101), (40, 0.88004906114274528), (45, 0.88004906114274528), (46, 0.88004906114274528), (48, 0.88004906114274528), (52, 0.88004906114274528), (60, 0.88004906114274528), (62, 0.88004906114274528), (64, 0.88004906114274528), (70, 0.88004906114274528), (80, 0.88004906114274528), (90, 0.88004906114274528), (92, 0.88004906114274528), (96, 0.88004906114274528), (104, 0.88004906114274528), (120, 0.88004906114274528), (160, 0.88004906114274528), (180, 0.88004906114274528), (184, 0.88004906114274528), (192, 0.88004906114274528), (208, 0.88004906114274528), (16, 0.87977369165487973), (17, 0.87977369165487973), (20, 0.87977369165487973), (22, 0.8797724945698171), (23, 0.8797724945698171), (24, 0.8797724945698171), (26, 0.8797724945698171), (10, 0.87885752775529247), (15, 0.87873281508992429), (5, 0.87612172315519232)]\n",
        "stopping for small delta\n",
        "92\n",
        "{'make_int': False, 'param_name': 'BEST_SCORE_MULTIPLIER_THRESHOLD', 'start_value': 0.2}\n",
        "iteration 1\n",
        "current 0.2\n",
        "python_readibility_f1_mean {'BEST_SCORE_MULTIPLIER_THRESHOLD': 0.2}\n",
        "comp_stats"
       ]
      },
      {
       "output_type": "stream",
       "stream": "stdout",
       "text": [
        " 0.878857527755\n",
        "python_readibility_f1_mean {'BEST_SCORE_MULTIPLIER_THRESHOLD': 0.1}\n",
        "comp_stats"
       ]
      },
      {
       "output_type": "stream",
       "stream": "stdout",
       "text": [
        " 0.879894999189\n",
        "python_readibility_f1_mean {'BEST_SCORE_MULTIPLIER_THRESHOLD': 0.4}\n",
        "comp_stats"
       ]
      },
      {
       "output_type": "stream",
       "stream": "stdout",
       "text": [
        " 0.878430560894\n",
        "iteration 2\n",
        "current 0.1\n",
        "python_readibility_f1_mean {'BEST_SCORE_MULTIPLIER_THRESHOLD': 0.05}\n",
        "comp_stats"
       ]
      },
      {
       "output_type": "stream",
       "stream": "stdout",
       "text": [
        " 0.880040099659\n",
        "iteration 3\n",
        "current 0.05\n",
        "python_readibility_f1_mean {'BEST_SCORE_MULTIPLIER_THRESHOLD': 0.03}\n",
        "comp_stats"
       ]
      },
      {
       "output_type": "stream",
       "stream": "stdout",
       "text": [
        " 0.880040099659\n",
        "iteration 4\n",
        "current 0.03\n",
        "python_readibility_f1_mean {'BEST_SCORE_MULTIPLIER_THRESHOLD': 0.01}\n",
        "comp_stats"
       ]
      },
      {
       "output_type": "stream",
       "stream": "stdout",
       "text": [
        " 0.880040099659\n",
        "python_readibility_f1_mean {'BEST_SCORE_MULTIPLIER_THRESHOLD': 0.06}\n",
        "comp_stats"
       ]
      },
      {
       "output_type": "stream",
       "stream": "stdout",
       "text": [
        " 0.879937721895\n",
        "iteration 5\n",
        "current 0.01\n",
        "best_keys [(0.01, 0.88004009965944785), (0.03, 0.88004009965944785), (0.05, 0.88004009965944785), (0.06, 0.87993772189523589), (0.1, 0.87989499918889824), (0.2, 0.87885752775529247), (0.4, 0.87843056089411908)]\n",
        "continue\n",
        "iteration 6\n",
        "current 0.02\n",
        "python_readibility_f1_mean {'BEST_SCORE_MULTIPLIER_THRESHOLD': 0.02}\n",
        "comp_stats"
       ]
      },
      {
       "output_type": "stream",
       "stream": "stdout",
       "text": [
        " 0.880040099659\n",
        "python_readibility_f1_mean {'BEST_SCORE_MULTIPLIER_THRESHOLD': 0.04}\n",
        "comp_stats"
       ]
      },
      {
       "output_type": "stream",
       "stream": "stdout",
       "text": [
        " 0.880040099659\n",
        "iteration 7\n",
        "current 0.01\n",
        "iteration 8\n",
        "current 0.01\n",
        "iteration 9\n",
        "current 0.01\n",
        "iteration 10\n",
        "current 0.01\n",
        "best_keys [(0.01, 0.88004009965944785), (0.02, 0.88004009965944785), (0.03, 0.88004009965944785), (0.04, 0.88004009965944785), (0.05, 0.88004009965944785), (0.06, 0.87993772189523589), (0.1, 0.87989499918889824), (0.2, 0.87885752775529247), (0.4, 0.87843056089411908)]\n",
        "stopping for small delta\n",
        "0.01\n",
        "{'make_int': False, 'param_name': 'LONG_NODE_LINK_DENSITY_THRESHOLD', 'start_value': 0.25}\n",
        "iteration 1\n",
        "current 0.25\n",
        "python_readibility_f1_mean {'LONG_NODE_LINK_DENSITY_THRESHOLD': 0.25}\n",
        "comp_stats"
       ]
      },
      {
       "output_type": "stream",
       "stream": "stdout",
       "text": [
        " 0.878857527755\n",
        "python_readibility_f1_mean {'LONG_NODE_LINK_DENSITY_THRESHOLD': 0.13}\n",
        "comp_stats"
       ]
      },
      {
       "output_type": "stream",
       "stream": "stdout",
       "text": [
        " 0.878857527755\n",
        "python_readibility_f1_mean {'LONG_NODE_LINK_DENSITY_THRESHOLD': 0.5}\n",
        "comp_stats"
       ]
      },
      {
       "output_type": "stream",
       "stream": "stdout",
       "text": [
        " 0.878857527755\n",
        "iteration 2\n",
        "current 0.13\n",
        "python_readibility_f1_mean {'LONG_NODE_LINK_DENSITY_THRESHOLD': 0.07}\n",
        "comp_stats"
       ]
      },
      {
       "output_type": "stream",
       "stream": "stdout",
       "text": [
        " 0.878857527755\n",
        "python_readibility_f1_mean {'LONG_NODE_LINK_DENSITY_THRESHOLD': 0.26}\n",
        "comp_stats"
       ]
      },
      {
       "output_type": "stream",
       "stream": "stdout",
       "text": [
        " 0.878857527755\n",
        "iteration 3\n",
        "current 0.07\n",
        "python_readibility_f1_mean {'LONG_NODE_LINK_DENSITY_THRESHOLD': 0.04}\n",
        "comp_stats"
       ]
      },
      {
       "output_type": "stream",
       "stream": "stdout",
       "text": [
        " 0.878270970717\n",
        "python_readibility_f1_mean {'LONG_NODE_LINK_DENSITY_THRESHOLD': 0.14}\n",
        "comp_stats"
       ]
      },
      {
       "output_type": "stream",
       "stream": "stdout",
       "text": [
        " 0.878857527755\n",
        "iteration 4\n",
        "current 0.14\n",
        "python_readibility_f1_mean {'LONG_NODE_LINK_DENSITY_THRESHOLD': 0.28}\n",
        "comp_stats"
       ]
      },
      {
       "output_type": "stream",
       "stream": "stdout",
       "text": [
        " 0.878857527755\n",
        "iteration 5\n",
        "current 0.07\n",
        "best_keys [(0.07, 0.87885752775529247), (0.13, 0.87885752775529247), (0.14, 0.87885752775529247), (0.25, 0.87885752775529247), (0.26, 0.87885752775529247), (0.28, 0.87885752775529247), (0.5, 0.87885752775529247), (0.04, 0.87827097071681293)]\n",
        "continue\n",
        "iteration 6\n",
        "current 0.1\n",
        "python_readibility_f1_mean {'LONG_NODE_LINK_DENSITY_THRESHOLD': 0.1}\n",
        "comp_stats"
       ]
      },
      {
       "output_type": "stream",
       "stream": "stdout",
       "text": [
        " 0.878857527755\n",
        "python_readibility_f1_mean {'LONG_NODE_LINK_DENSITY_THRESHOLD': 0.05}\n",
        "comp_stats"
       ]
      },
      {
       "output_type": "stream",
       "stream": "stdout",
       "text": [
        " 0.878270970717\n",
        "python_readibility_f1_mean {'LONG_NODE_LINK_DENSITY_THRESHOLD': 0.2}\n",
        "comp_stats"
       ]
      },
      {
       "output_type": "stream",
       "stream": "stdout",
       "text": [
        " 0.878857527755\n",
        "iteration 7\n",
        "current 0.2\n",
        "python_readibility_f1_mean {'LONG_NODE_LINK_DENSITY_THRESHOLD': 0.4}\n",
        "comp_stats"
       ]
      },
      {
       "output_type": "stream",
       "stream": "stdout",
       "text": [
        " 0.878857527755\n",
        "iteration 8\n",
        "current 0.1\n",
        "iteration 9\n",
        "current 0.2\n",
        "iteration 10\n",
        "current 0.1\n",
        "best_keys [(0.07, 0.87885752775529247), (0.1, 0.87885752775529247), (0.13, 0.87885752775529247), (0.14, 0.87885752775529247), (0.2, 0.87885752775529247), (0.25, 0.87885752775529247), (0.26, 0.87885752775529247), (0.28, 0.87885752775529247), (0.4, 0.87885752775529247), (0.5, 0.87885752775529247), (0.04, 0.87827097071681293), (0.05, 0.87827097071681293)]\n",
        "continue\n",
        "iteration 11\n",
        "current 0.09\n",
        "python_readibility_f1_mean {'LONG_NODE_LINK_DENSITY_THRESHOLD': 0.09}\n",
        "comp_stats"
       ]
      },
      {
       "output_type": "stream",
       "stream": "stdout",
       "text": [
        " 0.878857527755\n",
        "python_readibility_f1_mean {'LONG_NODE_LINK_DENSITY_THRESHOLD': 0.18}\n",
        "comp_stats"
       ]
      },
      {
       "output_type": "stream",
       "stream": "stdout",
       "text": [
        " 0.878857527755\n",
        "iteration 12\n",
        "current 0.18\n",
        "python_readibility_f1_mean {'LONG_NODE_LINK_DENSITY_THRESHOLD': 0.36}\n",
        "comp_stats"
       ]
      },
      {
       "output_type": "stream",
       "stream": "stdout",
       "text": [
        " 0.878857527755\n",
        "iteration 13\n",
        "current 0.09\n",
        "iteration 14\n",
        "current 0.18\n",
        "iteration 15\n",
        "current 0.09\n",
        "best_keys [(0.07, 0.87885752775529247), (0.09, 0.87885752775529247), (0.1, 0.87885752775529247), (0.13, 0.87885752775529247), (0.14, 0.87885752775529247), (0.18, 0.87885752775529247), (0.2, 0.87885752775529247), (0.25, 0.87885752775529247), (0.26, 0.87885752775529247), (0.28, 0.87885752775529247), (0.36, 0.87885752775529247), (0.4, 0.87885752775529247), (0.5, 0.87885752775529247), (0.04, 0.87827097071681293), (0.05, 0.87827097071681293)]\n",
        "continue\n",
        "iteration 16\n",
        "current 0.08\n",
        "python_readibility_f1_mean {'LONG_NODE_LINK_DENSITY_THRESHOLD': 0.08}\n",
        "comp_stats"
       ]
      },
      {
       "output_type": "stream",
       "stream": "stdout",
       "text": [
        " 0.878857527755\n",
        "python_readibility_f1_mean {'LONG_NODE_LINK_DENSITY_THRESHOLD': 0.16}\n",
        "comp_stats"
       ]
      },
      {
       "output_type": "stream",
       "stream": "stdout",
       "text": [
        " 0.878857527755\n",
        "iteration 17\n",
        "current 0.16\n",
        "python_readibility_f1_mean {'LONG_NODE_LINK_DENSITY_THRESHOLD': 0.32}\n",
        "comp_stats"
       ]
      },
      {
       "output_type": "stream",
       "stream": "stdout",
       "text": [
        " 0.878857527755\n",
        "iteration 18\n",
        "current 0.08\n",
        "iteration 19\n",
        "current 0.16\n",
        "iteration 20\n",
        "current 0.08\n",
        "best_keys [(0.07, 0.87885752775529247), (0.08, 0.87885752775529247), (0.09, 0.87885752775529247), (0.1, 0.87885752775529247), (0.13, 0.87885752775529247), (0.14, 0.87885752775529247), (0.16, 0.87885752775529247), (0.18, 0.87885752775529247), (0.2, 0.87885752775529247), (0.25, 0.87885752775529247), (0.26, 0.87885752775529247), (0.28, 0.87885752775529247), (0.32, 0.87885752775529247), (0.36, 0.87885752775529247), (0.4, 0.87885752775529247), (0.5, 0.87885752775529247), (0.04, 0.87827097071681293), (0.05, 0.87827097071681293)]\n",
        "stopping for small delta\n",
        "0.08\n",
        "{'make_int': True, 'param_name': 'COMMA_COUNT', 'start_value': 10}\n",
        "iteration 1\n",
        "current 10\n",
        "python_readibility_f1_mean {'COMMA_COUNT': 10}\n",
        "comp_stats"
       ]
      },
      {
       "output_type": "stream",
       "stream": "stdout",
       "text": [
        " 0.878857527755\n",
        "python_readibility_f1_mean {'COMMA_COUNT': 5}\n",
        "comp_stats"
       ]
      },
      {
       "output_type": "stream",
       "stream": "stdout",
       "text": [
        " 0.877406216064\n",
        "python_readibility_f1_mean {'COMMA_COUNT': 20}\n",
        "comp_stats"
       ]
      },
      {
       "output_type": "stream",
       "stream": "stdout",
       "text": [
        " 0.873633749941\n",
        "iteration 2\n",
        "current 7\n",
        "python_readibility_f1_mean {'COMMA_COUNT': 7}\n",
        "comp_stats"
       ]
      },
      {
       "output_type": "stream",
       "stream": "stdout",
       "text": [
        " 0.878139639227\n",
        "python_readibility_f1_mean {'COMMA_COUNT': 3}\n",
        "comp_stats"
       ]
      },
      {
       "output_type": "stream",
       "stream": "stdout",
       "text": [
        " 0.873550220451\n",
        "python_readibility_f1_mean {'COMMA_COUNT': 14}\n",
        "comp_stats"
       ]
      },
      {
       "output_type": "stream",
       "stream": "stdout",
       "text": [
        " 0.875580954188\n",
        "iteration 3\n",
        "current 10\n",
        "iteration 4\n",
        "current 7\n",
        "iteration 5\n",
        "current 10\n",
        "best_keys [(10, 0.87885752775529247), (7, 0.8781396392274472), (5, 0.87740621606429725), (14, 0.87558095418761273), (20, 0.87363374994059795), (3, 0.87355022045144937)]\n",
        "continue\n",
        "iteration 6\n",
        "current 8\n",
        "python_readibility_f1_mean {'COMMA_COUNT': 8}\n",
        "comp_stats"
       ]
      },
      {
       "output_type": "stream",
       "stream": "stdout",
       "text": [
        " 0.878139639227\n",
        "python_readibility_f1_mean {'COMMA_COUNT': 4}\n",
        "comp_stats"
       ]
      },
      {
       "output_type": "stream",
       "stream": "stdout",
       "text": [
        " 0.875983910727\n",
        "python_readibility_f1_mean {'COMMA_COUNT': 16}\n",
        "comp_stats"
       ]
      },
      {
       "output_type": "stream",
       "stream": "stdout",
       "text": [
        " 0.873633749941\n",
        "iteration 7\n",
        "current 6\n",
        "python_readibility_f1_mean {'COMMA_COUNT': 6}\n",
        "comp_stats"
       ]
      },
      {
       "output_type": "stream",
       "stream": "stdout",
       "text": [
        " 0.878538139343\n",
        "python_readibility_f1_mean {'COMMA_COUNT': 12}\n",
        "comp_stats"
       ]
      },
      {
       "output_type": "stream",
       "stream": "stdout",
       "text": [
        " 0.877990946962\n",
        "iteration 8\n",
        "current 9\n",
        "python_readibility_f1_mean {'COMMA_COUNT': 9}\n",
        "comp_stats"
       ]
      },
      {
       "output_type": "stream",
       "stream": "stdout",
       "text": [
        " 0.878139639227\n",
        "python_readibility_f1_mean {'COMMA_COUNT': 18}\n",
        "comp_stats"
       ]
      },
      {
       "output_type": "stream",
       "stream": "stdout",
       "text": [
        " 0.873633749941\n",
        "iteration 9\n",
        "current 6\n",
        "iteration 10\n",
        "current 9\n",
        "best_keys [(10, 0.87885752775529247), (6, 0.87853813934281155), (7, 0.8781396392274472), (8, 0.8781396392274472), (9, 0.8781396392274472), (12, 0.87799094696196966), (5, 0.87740621606429725), (4, 0.87598391072745485), (14, 0.87558095418761273), (16, 0.87363374994059795), (18, 0.87363374994059795), (20, 0.87363374994059795), (3, 0.87355022045144937)]\n",
        "falling back in heuristic\n",
        "continue\n",
        "iteration 11\n",
        "current 11\n",
        "python_readibility_f1_mean {'COMMA_COUNT': 11}\n",
        "comp_stats"
       ]
      },
      {
       "output_type": "stream",
       "stream": "stdout",
       "text": [
        " 0.877990946962\n",
        "python_readibility_f1_mean {'COMMA_COUNT': 22}\n",
        "comp_stats"
       ]
      },
      {
       "output_type": "stream",
       "stream": "stdout",
       "text": [
        " 0.873633749941\n",
        "iteration 12\n",
        "current 8\n",
        "iteration 13\n",
        "current 6\n",
        "iteration 14\n",
        "current 9\n",
        "iteration 15\n",
        "current 6\n",
        "best_keys [(10, 0.87885752775529247), (6, 0.87853813934281155), (7, 0.8781396392274472), (8, 0.8781396392274472), (9, 0.8781396392274472), (11, 0.87799094696196966), (12, 0.87799094696196966), (5, 0.87740621606429725), (4, 0.87598391072745485), (14, 0.87558095418761273), (16, 0.87363374994059795), (18, 0.87363374994059795), (20, 0.87363374994059795), (22, 0.87363374994059795), (3, 0.87355022045144937)]\n",
        "falling back in heuristic\n",
        "stopping for small delta 10 10\n",
        "{'make_int': True, 'param_name': 'MIN_EMBED_COMMENT_LENGTH', 'start_value': 75}\n",
        "iteration 1\n",
        "current 75\n",
        "python_readibility_f1_mean {'MIN_EMBED_COMMENT_LENGTH': 75}\n",
        "comp_stats"
       ]
      },
      {
       "output_type": "stream",
       "stream": "stdout",
       "text": [
        " 0.878857527755\n",
        "python_readibility_f1_mean {'MIN_EMBED_COMMENT_LENGTH': 37}\n",
        "comp_stats"
       ]
      },
      {
       "output_type": "stream",
       "stream": "stdout",
       "text": [
        " 0.878857527755\n",
        "python_readibility_f1_mean {'MIN_EMBED_COMMENT_LENGTH': 150}\n",
        "comp_stats"
       ]
      },
      {
       "output_type": "stream",
       "stream": "stdout",
       "text": [
        " 0.878857527755\n",
        "iteration 2\n",
        "current 37\n",
        "python_readibility_f1_mean {'MIN_EMBED_COMMENT_LENGTH': 18}\n",
        "comp_stats"
       ]
      },
      {
       "output_type": "stream",
       "stream": "stdout",
       "text": [
        " 0.878857527755\n",
        "python_readibility_f1_mean {'MIN_EMBED_COMMENT_LENGTH': 74}\n",
        "comp_stats"
       ]
      },
      {
       "output_type": "stream",
       "stream": "stdout",
       "text": [
        " 0.878857527755\n",
        "iteration 3\n",
        "current 18\n",
        "python_readibility_f1_mean {'MIN_EMBED_COMMENT_LENGTH': 9}\n",
        "comp_stats"
       ]
      },
      {
       "output_type": "stream",
       "stream": "stdout",
       "text": [
        " 0.878857527755\n",
        "python_readibility_f1_mean {'MIN_EMBED_COMMENT_LENGTH': 36}\n",
        "comp_stats"
       ]
      },
      {
       "output_type": "stream",
       "stream": "stdout",
       "text": [
        " 0.878857527755\n",
        "iteration 4\n",
        "current 9\n",
        "python_readibility_f1_mean {'MIN_EMBED_COMMENT_LENGTH': 4}\n",
        "comp_stats"
       ]
      },
      {
       "output_type": "stream",
       "stream": "stdout",
       "text": [
        " 0.878857527755\n",
        "iteration 5\n",
        "current 4\n",
        "best_keys [(4, 0.87885752775529247), (9, 0.87885752775529247), (18, 0.87885752775529247), (36, 0.87885752775529247), (37, 0.87885752775529247), (74, 0.87885752775529247), (75, 0.87885752775529247), (150, 0.87885752775529247)]\n",
        "continue\n",
        "iteration 6\n",
        "current 6\n",
        "python_readibility_f1_mean {'MIN_EMBED_COMMENT_LENGTH': 6}\n",
        "comp_stats"
       ]
      },
      {
       "output_type": "stream",
       "stream": "stdout",
       "text": [
        " 0.878857527755\n",
        "python_readibility_f1_mean {'MIN_EMBED_COMMENT_LENGTH': 3}\n",
        "comp_stats"
       ]
      },
      {
       "output_type": "stream",
       "stream": "stdout",
       "text": [
        " 0.878857527755\n",
        "python_readibility_f1_mean {'MIN_EMBED_COMMENT_LENGTH': 12}\n",
        "comp_stats"
       ]
      },
      {
       "output_type": "stream",
       "stream": "stdout",
       "text": [
        " 0.878857527755\n",
        "iteration 7\n",
        "current 3\n",
        "python_readibility_f1_mean {'MIN_EMBED_COMMENT_LENGTH': 1}\n",
        "comp_stats"
       ]
      },
      {
       "output_type": "stream",
       "stream": "stdout",
       "text": [
        " 0.878857527755\n",
        "iteration 8\n",
        "current 1\n",
        "python_readibility_f1_mean {'MIN_EMBED_COMMENT_LENGTH': 0}\n",
        "comp_stats"
       ]
      },
      {
       "output_type": "stream",
       "stream": "stdout",
       "text": [
        " 0.878857527755\n",
        "python_readibility_f1_mean {'MIN_EMBED_COMMENT_LENGTH': 2}\n",
        "comp_stats"
       ]
      },
      {
       "output_type": "stream",
       "stream": "stdout",
       "text": [
        " 0.878857527755\n",
        "iteration 9\n",
        "current 0\n",
        "iteration 10\n",
        "current 0\n",
        "best_keys [(0, 0.87885752775529247), (1, 0.87885752775529247), (2, 0.87885752775529247), (3, 0.87885752775529247), (4, 0.87885752775529247), (6, 0.87885752775529247), (9, 0.87885752775529247), (12, 0.87885752775529247), (18, 0.87885752775529247), (36, 0.87885752775529247), (37, 0.87885752775529247), (74, 0.87885752775529247), (75, 0.87885752775529247), (150, 0.87885752775529247)]\n",
        "stopping for small delta\n",
        "0\n",
        "{'make_int': True, 'param_name': 'TEXT_LENGTH_THRESHOLD', 'start_value': 25}\n",
        "iteration 1\n",
        "current 25\n",
        "python_readibility_f1_mean {'TEXT_LENGTH_THRESHOLD': 25}\n",
        "comp_stats"
       ]
      },
      {
       "output_type": "stream",
       "stream": "stdout",
       "text": [
        " 0.878857527755\n",
        "python_readibility_f1_mean {'TEXT_LENGTH_THRESHOLD': 12}\n",
        "comp_stats"
       ]
      },
      {
       "output_type": "stream",
       "stream": "stdout",
       "text": [
        " 0.873860877313\n",
        "python_readibility_f1_mean {'TEXT_LENGTH_THRESHOLD': 50}\n",
        "comp_stats"
       ]
      },
      {
       "output_type": "stream",
       "stream": "stdout",
       "text": [
        " 0.876906301988\n",
        "iteration 2\n",
        "current 37\n",
        "python_readibility_f1_mean {'TEXT_LENGTH_THRESHOLD': 37}\n",
        "comp_stats"
       ]
      },
      {
       "output_type": "stream",
       "stream": "stdout",
       "text": [
        " 0.877043682277\n",
        "python_readibility_f1_mean {'TEXT_LENGTH_THRESHOLD': 18}\n",
        "comp_stats"
       ]
      },
      {
       "output_type": "stream",
       "stream": "stdout",
       "text": [
        " 0.872985186082\n",
        "python_readibility_f1_mean {'TEXT_LENGTH_THRESHOLD': 74}\n",
        "comp_stats"
       ]
      },
      {
       "output_type": "stream",
       "stream": "stdout",
       "text": [
        " 0.876276258481\n",
        "iteration 3\n",
        "current 55\n",
        "python_readibility_f1_mean {'TEXT_LENGTH_THRESHOLD': 55}\n",
        "comp_stats"
       ]
      },
      {
       "output_type": "stream",
       "stream": "stdout",
       "text": [
        " 0.875153465888\n",
        "python_readibility_f1_mean {'TEXT_LENGTH_THRESHOLD': 27}\n",
        "comp_stats"
       ]
      },
      {
       "output_type": "stream",
       "stream": "stdout",
       "text": [
        " 0.878911074212\n",
        "python_readibility_f1_mean {'TEXT_LENGTH_THRESHOLD': 110}\n",
        "comp_stats"
       ]
      },
      {
       "output_type": "stream",
       "stream": "stdout",
       "text": [
        " 0.876140514333\n",
        "iteration 4\n",
        "current 27\n",
        "python_readibility_f1_mean {'TEXT_LENGTH_THRESHOLD': 13}\n",
        "comp_stats"
       ]
      },
      {
       "output_type": "stream",
       "stream": "stdout",
       "text": [
        " 0.873860877313\n",
        "python_readibility_f1_mean {'TEXT_LENGTH_THRESHOLD': 54}\n",
        "comp_stats"
       ]
      },
      {
       "output_type": "stream",
       "stream": "stdout",
       "text": [
        " 0.874765171754\n",
        "iteration 5\n",
        "current 40\n",
        "python_readibility_f1_mean {'TEXT_LENGTH_THRESHOLD': 40}\n",
        "comp_stats"
       ]
      },
      {
       "output_type": "stream",
       "stream": "stdout",
       "text": [
        " 0.877127447359\n",
        "best_keys [(27, 0.87891107421217141), (25, 0.87885752775529247), (40, 0.87712744735869963), (37, 0.87704368227740004), (50, 0.87690630198837527), (74, 0.87627625848123036), (110, 0.87614051433301976), (55, 0.87515346588841592), (54, 0.87476517175374913), (12, 0.8738608773125407), (13, 0.8738608773125407), (18, 0.87298518608158726)]\n",
        "continue\n",
        "iteration 6\n",
        "current 26\n",
        "python_readibility_f1_mean {'TEXT_LENGTH_THRESHOLD': 26}\n",
        "comp_stats"
       ]
      },
      {
       "output_type": "stream",
       "stream": "stdout",
       "text": [
        " 0.878911074212\n",
        "python_readibility_f1_mean {'TEXT_LENGTH_THRESHOLD': 52}\n",
        "comp_stats"
       ]
      },
      {
       "output_type": "stream",
       "stream": "stdout",
       "text": [
        " 0.874703848418\n",
        "iteration 7\n",
        "current 39\n",
        "python_readibility_f1_mean {'TEXT_LENGTH_THRESHOLD': 39}\n",
        "comp_stats"
       ]
      },
      {
       "output_type": "stream",
       "stream": "stdout",
       "text": [
        " 0.877127447359\n",
        "python_readibility_f1_mean {'TEXT_LENGTH_THRESHOLD': 19}\n",
        "comp_stats"
       ]
      },
      {
       "output_type": "stream",
       "stream": "stdout",
       "text": [
        " 0.872995492903\n",
        "python_readibility_f1_mean {'TEXT_LENGTH_THRESHOLD': 78}\n",
        "comp_stats"
       ]
      },
      {
       "output_type": "stream",
       "stream": "stdout",
       "text": [
        " 0.87624668883\n",
        "iteration 8\n",
        "current 58\n",
        "python_readibility_f1_mean {'TEXT_LENGTH_THRESHOLD': 58}\n",
        "comp_stats"
       ]
      },
      {
       "output_type": "stream",
       "stream": "stdout",
       "text": [
        " 0.875446271434\n",
        "python_readibility_f1_mean {'TEXT_LENGTH_THRESHOLD': 29}\n",
        "comp_stats"
       ]
      },
      {
       "output_type": "stream",
       "stream": "stdout",
       "text": [
        " 0.878923051472\n",
        "python_readibility_f1_mean {'TEXT_LENGTH_THRESHOLD': 116}\n",
        "comp_stats"
       ]
      },
      {
       "output_type": "stream",
       "stream": "stdout",
       "text": [
        " 0.876274249695\n",
        "iteration 9\n",
        "current 29\n",
        "python_readibility_f1_mean {'TEXT_LENGTH_THRESHOLD': 14}\n",
        "comp_stats"
       ]
      },
      {
       "output_type": "stream",
       "stream": "stdout",
       "text": [
        " 0.873336231344\n",
        "iteration 10\n",
        "current 43\n",
        "python_readibility_f1_mean {'TEXT_LENGTH_THRESHOLD': 43}\n",
        "comp_stats"
       ]
      },
      {
       "output_type": "stream",
       "stream": "stdout",
       "text": [
        " 0.877117592122\n",
        "best_keys [(29, 0.87892305147232608), (26, 0.87891107421217141), (27, 0.87891107421217141), (25, 0.87885752775529247), (39, 0.87712744735869963), (40, 0.87712744735869963), (43, 0.8771175921219071), (37, 0.87704368227740004), (50, 0.87690630198837527), (74, 0.87627625848123036), (116, 0.8762742496950704), (78, 0.87624668883002366), (110, 0.87614051433301976), (58, 0.87544627143359988), (55, 0.87515346588841592), (54, 0.87476517175374913), (52, 0.87470384841771509), (12, 0.8738608773125407), (13, 0.8738608773125407), (14, 0.87333623134405602), (19, 0.87299549290287159), (18, 0.87298518608158726)]\n",
        "continue\n",
        "iteration 11\n",
        "current 28\n",
        "python_readibility_f1_mean {'TEXT_LENGTH_THRESHOLD': 28}\n",
        "comp_stats"
       ]
      },
      {
       "output_type": "stream",
       "stream": "stdout",
       "text": [
        " 0.878868461952\n",
        "python_readibility_f1_mean {'TEXT_LENGTH_THRESHOLD': 56}\n",
        "comp_stats"
       ]
      },
      {
       "output_type": "stream",
       "stream": "stdout",
       "text": [
        " 0.875153465888\n",
        "iteration 12\n",
        "current 42\n",
        "python_readibility_f1_mean {'TEXT_LENGTH_THRESHOLD': 42}\n",
        "comp_stats"
       ]
      },
      {
       "output_type": "stream",
       "stream": "stdout",
       "text": [
        " 0.877127447359\n",
        "python_readibility_f1_mean {'TEXT_LENGTH_THRESHOLD': 21}\n",
        "comp_stats"
       ]
      },
      {
       "output_type": "stream",
       "stream": "stdout",
       "text": [
        " 0.878769619745\n",
        "python_readibility_f1_mean {'TEXT_LENGTH_THRESHOLD': 84}\n",
        "comp_stats"
       ]
      },
      {
       "output_type": "stream",
       "stream": "stdout",
       "text": [
        " 0.876321988947\n",
        "iteration 13\n",
        "current 21\n",
        "python_readibility_f1_mean {'TEXT_LENGTH_THRESHOLD': 10}\n",
        "comp_stats"
       ]
      },
      {
       "output_type": "stream",
       "stream": "stdout",
       "text": [
        " 0.873798431326\n",
        "iteration 14\n",
        "current 31\n",
        "python_readibility_f1_mean {'TEXT_LENGTH_THRESHOLD': 31}\n",
        "comp_stats"
       ]
      },
      {
       "output_type": "stream",
       "stream": "stdout",
       "text": [
        " 0.878914997075\n",
        "python_readibility_f1_mean {'TEXT_LENGTH_THRESHOLD': 15}\n",
        "comp_stats"
       ]
      },
      {
       "output_type": "stream",
       "stream": "stdout",
       "text": [
        " 0.874134099345\n",
        "python_readibility_f1_mean {'TEXT_LENGTH_THRESHOLD': 62}\n",
        "comp_stats"
       ]
      },
      {
       "output_type": "stream",
       "stream": "stdout",
       "text": [
        " 0.875503647562\n",
        "iteration 15\n",
        "current 46\n",
        "python_readibility_f1_mean {'TEXT_LENGTH_THRESHOLD': 46}\n",
        "comp_stats"
       ]
      },
      {
       "output_type": "stream",
       "stream": "stdout",
       "text": [
        " 0.877218703169\n",
        "best_keys [(29, 0.87892305147232608), (31, 0.87891499707538412), (26, 0.87891107421217141), (27, 0.87891107421217141), (28, 0.87886846195212176), (25, 0.87885752775529247), (21, 0.87876961974468504), (46, 0.87721870316892159), (39, 0.87712744735869963), (40, 0.87712744735869963), (42, 0.87712744735869963), (43, 0.8771175921219071), (37, 0.87704368227740004), (50, 0.87690630198837527), (84, 0.87632198894700197), (74, 0.87627625848123036), (116, 0.8762742496950704), (78, 0.87624668883002366), (110, 0.87614051433301976), (62, 0.87550364756207955), (58, 0.87544627143359988), (55, 0.87515346588841592), (56, 0.87515346588841592), (54, 0.87476517175374913), (52, 0.87470384841771509), (15, 0.87413409934510722), (12, 0.8738608773125407), (13, 0.8738608773125407), (10, 0.87379843132629598), (14, 0.87333623134405602), (19, 0.87299549290287159), (18, 0.87298518608158726)]\n",
        "continue\n",
        "iteration 16\n",
        "current 30\n",
        "python_readibility_f1_mean {'TEXT_LENGTH_THRESHOLD': 30}\n",
        "comp_stats"
       ]
      },
      {
       "output_type": "stream",
       "stream": "stdout",
       "text": [
        " 0.878923051472\n",
        "python_readibility_f1_mean {'TEXT_LENGTH_THRESHOLD': 60}\n",
        "comp_stats"
       ]
      },
      {
       "output_type": "stream",
       "stream": "stdout",
       "text": [
        " 0.875500653734\n",
        "iteration 17\n",
        "current 45\n",
        "python_readibility_f1_mean {'TEXT_LENGTH_THRESHOLD': 45}\n",
        "comp_stats"
       ]
      },
      {
       "output_type": "stream",
       "stream": "stdout",
       "text": [
        " 0.877195367781\n",
        "python_readibility_f1_mean {'TEXT_LENGTH_THRESHOLD': 22}\n",
        "comp_stats"
       ]
      },
      {
       "output_type": "stream",
       "stream": "stdout",
       "text": [
        " 0.878769619745\n",
        "python_readibility_f1_mean {'TEXT_LENGTH_THRESHOLD': 90}\n",
        "comp_stats"
       ]
      },
      {
       "output_type": "stream",
       "stream": "stdout",
       "text": [
        " 0.876434797298\n",
        "iteration 18\n",
        "current 22\n",
        "python_readibility_f1_mean {'TEXT_LENGTH_THRESHOLD': 11}\n",
        "comp_stats"
       ]
      },
      {
       "output_type": "stream",
       "stream": "stdout",
       "text": [
        " 0.873883810086\n",
        "python_readibility_f1_mean {'TEXT_LENGTH_THRESHOLD': 44}\n",
        "comp_stats"
       ]
      },
      {
       "output_type": "stream",
       "stream": "stdout",
       "text": [
        " 0.877174626257\n",
        "iteration 19\n",
        "current 33\n",
        "python_readibility_f1_mean {'TEXT_LENGTH_THRESHOLD': 33}\n",
        "comp_stats"
       ]
      },
      {
       "output_type": "stream",
       "stream": "stdout",
       "text": [
        " 0.878547293306\n",
        "python_readibility_f1_mean {'TEXT_LENGTH_THRESHOLD': 16}\n",
        "comp_stats"
       ]
      },
      {
       "output_type": "stream",
       "stream": "stdout",
       "text": [
        " 0.87416361272\n",
        "python_readibility_f1_mean {'TEXT_LENGTH_THRESHOLD': 66}\n",
        "comp_stats"
       ]
      },
      {
       "output_type": "stream",
       "stream": "stdout",
       "text": [
        " 0.87555547666\n",
        "iteration 20\n",
        "current 49\n",
        "python_readibility_f1_mean {'TEXT_LENGTH_THRESHOLD': 49}\n",
        "comp_stats"
       ]
      },
      {
       "output_type": "stream",
       "stream": "stdout",
       "text": [
        " 0.876872617676\n",
        "best_keys [(29, 0.87892305147232608), (30, 0.87892305147232608), (31, 0.87891499707538412), (26, 0.87891107421217141), (27, 0.87891107421217141), (28, 0.87886846195212176), (25, 0.87885752775529247), (21, 0.87876961974468504), (22, 0.87876961974468504), (33, 0.87854729330592374), (46, 0.87721870316892159), (45, 0.87719536778137075), (44, 0.87717462625689413), (39, 0.87712744735869963), (40, 0.87712744735869963), (42, 0.87712744735869963), (43, 0.8771175921219071), (37, 0.87704368227740004), (50, 0.87690630198837527), (49, 0.8768726176757381), (90, 0.87643479729829865), (84, 0.87632198894700197), (74, 0.87627625848123036), (116, 0.8762742496950704), (78, 0.87624668883002366), (110, 0.87614051433301976), (66, 0.87555547665962519), (62, 0.87550364756207955), (60, 0.87550065373397457), (58, 0.87544627143359988), (55, 0.87515346588841592), (56, 0.87515346588841592), (54, 0.87476517175374913), (52, 0.87470384841771509), (16, 0.87416361272017973), (15, 0.87413409934510722), (11, 0.87388381008552052), (12, 0.8738608773125407), (13, 0.8738608773125407), (10, 0.87379843132629598), (14, 0.87333623134405602), (19, 0.87299549290287159), (18, 0.87298518608158726)]\n",
        "stopping for small delta\n",
        "49\n",
        "{'make_int': True, 'param_name': 'RETRY_LENGTH', 'start_value': 250}\n",
        "iteration 1\n",
        "current 250\n",
        "python_readibility_f1_mean {'RETRY_LENGTH': 250}\n",
        "comp_stats"
       ]
      },
      {
       "output_type": "stream",
       "stream": "stdout",
       "text": [
        " 0.878857527755\n",
        "python_readibility_f1_mean {'RETRY_LENGTH': 125}\n",
        "comp_stats"
       ]
      },
      {
       "output_type": "stream",
       "stream": "stdout",
       "text": [
        " 0.878857527755\n",
        "python_readibility_f1_mean {'RETRY_LENGTH': 500}\n",
        "comp_stats"
       ]
      },
      {
       "output_type": "stream",
       "stream": "stdout",
       "text": [
        " 0.878857527755\n",
        "iteration 2\n",
        "current 125\n",
        "python_readibility_f1_mean {'RETRY_LENGTH': 62}\n",
        "comp_stats"
       ]
      },
      {
       "output_type": "stream",
       "stream": "stdout",
       "text": [
        " 0.878857527755\n",
        "iteration 3\n",
        "current 62\n",
        "python_readibility_f1_mean {'RETRY_LENGTH': 31}\n",
        "comp_stats"
       ]
      },
      {
       "output_type": "stream",
       "stream": "stdout",
       "text": [
        " 0.878857527755\n",
        "python_readibility_f1_mean {'RETRY_LENGTH': 124}\n",
        "comp_stats"
       ]
      },
      {
       "output_type": "stream",
       "stream": "stdout",
       "text": [
        " 0.878857527755\n",
        "iteration 4\n",
        "current 31\n",
        "python_readibility_f1_mean {'RETRY_LENGTH': 15}\n",
        "comp_stats"
       ]
      },
      {
       "output_type": "stream",
       "stream": "stdout",
       "text": [
        " 0.878857527755\n",
        "iteration 5\n",
        "current 15\n",
        "best_keys [(15, 0.87885752775529247), (31, 0.87885752775529247), (62, 0.87885752775529247), (124, 0.87885752775529247), (125, 0.87885752775529247), (250, 0.87885752775529247), (500, 0.87885752775529247)]\n",
        "continue\n",
        "iteration 6\n",
        "current 23\n",
        "python_readibility_f1_mean {'RETRY_LENGTH': 23}\n",
        "comp_stats"
       ]
      },
      {
       "output_type": "stream",
       "stream": "stdout",
       "text": [
        " 0.878857527755\n",
        "python_readibility_f1_mean {'RETRY_LENGTH': 11}\n",
        "comp_stats"
       ]
      },
      {
       "output_type": "stream",
       "stream": "stdout",
       "text": [
        " 0.878857527755\n",
        "python_readibility_f1_mean {'RETRY_LENGTH': 46}\n",
        "comp_stats"
       ]
      },
      {
       "output_type": "stream",
       "stream": "stdout",
       "text": [
        " 0.878857527755\n",
        "iteration 7\n",
        "current 11\n",
        "python_readibility_f1_mean {'RETRY_LENGTH': 5}\n",
        "comp_stats"
       ]
      },
      {
       "output_type": "stream",
       "stream": "stdout",
       "text": [
        " 0.878857527755\n",
        "python_readibility_f1_mean {'RETRY_LENGTH': 22}\n",
        "comp_stats"
       ]
      },
      {
       "output_type": "stream",
       "stream": "stdout",
       "text": [
        " 0.878857527755\n",
        "iteration 8\n",
        "current 5\n",
        "python_readibility_f1_mean {'RETRY_LENGTH': 2}\n",
        "comp_stats"
       ]
      },
      {
       "output_type": "stream",
       "stream": "stdout",
       "text": [
        " 0.878857527755\n",
        "python_readibility_f1_mean {'RETRY_LENGTH': 10}\n",
        "comp_stats"
       ]
      },
      {
       "output_type": "stream",
       "stream": "stdout",
       "text": [
        " 0.878857527755\n",
        "iteration 9\n",
        "current 2\n",
        "python_readibility_f1_mean {'RETRY_LENGTH': 1}\n",
        "comp_stats"
       ]
      },
      {
       "output_type": "stream",
       "stream": "stdout",
       "text": [
        " 0.878857527755\n",
        "python_readibility_f1_mean {'RETRY_LENGTH': 4}\n",
        "comp_stats"
       ]
      },
      {
       "output_type": "stream",
       "stream": "stdout",
       "text": [
        " 0.878857527755\n",
        "iteration 10\n",
        "current 1\n",
        "best_keys [(1, 0.87885752775529247), (2, 0.87885752775529247), (4, 0.87885752775529247), (5, 0.87885752775529247), (10, 0.87885752775529247), (11, 0.87885752775529247), (15, 0.87885752775529247), (22, 0.87885752775529247), (23, 0.87885752775529247), (31, 0.87885752775529247), (46, 0.87885752775529247), (62, 0.87885752775529247), (124, 0.87885752775529247), (125, 0.87885752775529247), (250, 0.87885752775529247), (500, 0.87885752775529247)]\n",
        "stopping for small delta\n",
        "1\n",
        "{'make_int': True, 'param_name': 'SIBLING_CONTENT_LENGTH_SUM', 'start_value': 1000}\n",
        "iteration 1\n",
        "current 1000\n",
        "python_readibility_f1_mean {'SIBLING_CONTENT_LENGTH_SUM': 1000}\n",
        "comp_stats"
       ]
      },
      {
       "output_type": "stream",
       "stream": "stdout",
       "text": [
        " 0.878857527755\n",
        "python_readibility_f1_mean {'SIBLING_CONTENT_LENGTH_SUM': 500}\n",
        "comp_stats"
       ]
      },
      {
       "output_type": "stream",
       "stream": "stdout",
       "text": [
        " 0.878857527755\n",
        "python_readibility_f1_mean {'SIBLING_CONTENT_LENGTH_SUM': 2000}\n",
        "comp_stats"
       ]
      },
      {
       "output_type": "stream",
       "stream": "stdout",
       "text": [
        " 0.878857527755\n",
        "iteration 2\n",
        "current 500\n",
        "python_readibility_f1_mean {'SIBLING_CONTENT_LENGTH_SUM': 250}\n",
        "comp_stats"
       ]
      },
      {
       "output_type": "stream",
       "stream": "stdout",
       "text": [
        " 0.878857527755\n",
        "iteration 3\n",
        "current 250\n",
        "python_readibility_f1_mean {'SIBLING_CONTENT_LENGTH_SUM': 125}\n",
        "comp_stats"
       ]
      },
      {
       "output_type": "stream",
       "stream": "stdout",
       "text": [
        " 0.878857527755\n",
        "iteration 4\n",
        "current 125\n",
        "python_readibility_f1_mean {'SIBLING_CONTENT_LENGTH_SUM': 62}\n",
        "comp_stats"
       ]
      },
      {
       "output_type": "stream",
       "stream": "stdout",
       "text": [
        " 0.878857527755\n",
        "iteration 5\n",
        "current 62\n",
        "best_keys [(62, 0.87885752775529247), (125, 0.87885752775529247), (250, 0.87885752775529247), (500, 0.87885752775529247), (1000, 0.87885752775529247), (2000, 0.87885752775529247)]\n",
        "continue\n",
        "iteration 6\n",
        "current 93\n",
        "python_readibility_f1_mean {'SIBLING_CONTENT_LENGTH_SUM': 93}\n",
        "comp_stats"
       ]
      },
      {
       "output_type": "stream",
       "stream": "stdout",
       "text": [
        " 0.878857527755\n",
        "python_readibility_f1_mean {'SIBLING_CONTENT_LENGTH_SUM': 46}\n",
        "comp_stats"
       ]
      },
      {
       "output_type": "stream",
       "stream": "stdout",
       "text": [
        " 0.878857527755\n",
        "python_readibility_f1_mean {'SIBLING_CONTENT_LENGTH_SUM': 186}\n",
        "comp_stats"
       ]
      },
      {
       "output_type": "stream",
       "stream": "stdout",
       "text": [
        " 0.878857527755\n",
        "iteration 7\n",
        "current 46\n",
        "python_readibility_f1_mean {'SIBLING_CONTENT_LENGTH_SUM': 23}\n",
        "comp_stats"
       ]
      },
      {
       "output_type": "stream",
       "stream": "stdout",
       "text": [
        " 0.878857527755\n",
        "python_readibility_f1_mean {'SIBLING_CONTENT_LENGTH_SUM': 92}\n",
        "comp_stats"
       ]
      },
      {
       "output_type": "stream",
       "stream": "stdout",
       "text": [
        " 0.878857527755\n",
        "iteration 8\n",
        "current 23\n",
        "python_readibility_f1_mean {'SIBLING_CONTENT_LENGTH_SUM': 11}\n",
        "comp_stats"
       ]
      },
      {
       "output_type": "stream",
       "stream": "stdout",
       "text": [
        " 0.878857527755\n",
        "iteration 9\n",
        "current 11\n",
        "python_readibility_f1_mean {'SIBLING_CONTENT_LENGTH_SUM': 5}\n",
        "comp_stats"
       ]
      },
      {
       "output_type": "stream",
       "stream": "stdout",
       "text": [
        " 0.878857527755\n",
        "python_readibility_f1_mean {'SIBLING_CONTENT_LENGTH_SUM': 22}\n",
        "comp_stats"
       ]
      },
      {
       "output_type": "stream",
       "stream": "stdout",
       "text": [
        " 0.878857527755\n",
        "iteration 10\n",
        "current 5\n",
        "best_keys [(5, 0.87885752775529247), (11, 0.87885752775529247), (22, 0.87885752775529247), (23, 0.87885752775529247), (46, 0.87885752775529247), (62, 0.87885752775529247), (92, 0.87885752775529247), (93, 0.87885752775529247), (125, 0.87885752775529247), (186, 0.87885752775529247), (250, 0.87885752775529247), (500, 0.87885752775529247), (1000, 0.87885752775529247), (2000, 0.87885752775529247)]\n",
        "continue\n",
        "iteration 11\n",
        "current 8\n",
        "python_readibility_f1_mean {'SIBLING_CONTENT_LENGTH_SUM': 8}\n",
        "comp_stats"
       ]
      },
      {
       "output_type": "stream",
       "stream": "stdout",
       "text": [
        " 0.878857527755\n",
        "python_readibility_f1_mean {'SIBLING_CONTENT_LENGTH_SUM': 4}\n",
        "comp_stats"
       ]
      },
      {
       "output_type": "stream",
       "stream": "stdout",
       "text": [
        " 0.878857527755\n",
        "python_readibility_f1_mean {'SIBLING_CONTENT_LENGTH_SUM': 16}\n",
        "comp_stats"
       ]
      },
      {
       "output_type": "stream",
       "stream": "stdout",
       "text": [
        " 0.878857527755\n",
        "iteration 12\n",
        "current 4\n",
        "python_readibility_f1_mean {'SIBLING_CONTENT_LENGTH_SUM': 2}\n",
        "comp_stats"
       ]
      },
      {
       "output_type": "stream",
       "stream": "stdout",
       "text": [
        " 0.878857527755\n",
        "iteration 13\n",
        "current 2\n",
        "python_readibility_f1_mean {'SIBLING_CONTENT_LENGTH_SUM': 1}\n",
        "comp_stats"
       ]
      },
      {
       "output_type": "stream",
       "stream": "stdout",
       "text": [
        " 0.878857527755\n",
        "iteration 14\n",
        "current 1\n",
        "python_readibility_f1_mean {'SIBLING_CONTENT_LENGTH_SUM': 0}\n",
        "comp_stats"
       ]
      },
      {
       "output_type": "stream",
       "stream": "stdout",
       "text": [
        " 0.878857527755\n",
        "iteration 15\n",
        "current 0\n",
        "best_keys [(0, 0.87885752775529247), (1, 0.87885752775529247), (2, 0.87885752775529247), (4, 0.87885752775529247), (5, 0.87885752775529247), (8, 0.87885752775529247), (11, 0.87885752775529247), (16, 0.87885752775529247), (22, 0.87885752775529247), (23, 0.87885752775529247), (46, 0.87885752775529247), (62, 0.87885752775529247), (92, 0.87885752775529247), (93, 0.87885752775529247), (125, 0.87885752775529247), (186, 0.87885752775529247), (250, 0.87885752775529247), (500, 0.87885752775529247), (1000, 0.87885752775529247), (2000, 0.87885752775529247)]\n",
        "stopping for small delta\n",
        "0\n",
        "{'make_int': True, 'param_name': 'CONTENT_SCORE_DIV_BONUS', 'start_value': 5}\n",
        "iteration 1\n",
        "current 5\n",
        "python_readibility_f1_mean {'CONTENT_SCORE_DIV_BONUS': 5}\n",
        "comp_stats"
       ]
      },
      {
       "output_type": "stream",
       "stream": "stdout",
       "text": [
        " 0.878857527755\n",
        "python_readibility_f1_mean {'CONTENT_SCORE_DIV_BONUS': 2}\n",
        "comp_stats"
       ]
      },
      {
       "output_type": "stream",
       "stream": "stdout",
       "text": [
        " 0.878818403368\n",
        "python_readibility_f1_mean {'CONTENT_SCORE_DIV_BONUS': 10}\n",
        "comp_stats"
       ]
      },
      {
       "output_type": "stream",
       "stream": "stdout",
       "text": [
        " 0.880614241983\n",
        "iteration 2\n",
        "current 10\n",
        "python_readibility_f1_mean {'CONTENT_SCORE_DIV_BONUS': 20}\n",
        "comp_stats"
       ]
      },
      {
       "output_type": "stream",
       "stream": "stdout",
       "text": [
        " 0.883701495368\n",
        "iteration 3\n",
        "current 20\n",
        "python_readibility_f1_mean {'CONTENT_SCORE_DIV_BONUS': 40}\n",
        "comp_stats"
       ]
      },
      {
       "output_type": "stream",
       "stream": "stdout",
       "text": [
        " 0.883897756366\n",
        "iteration 4\n",
        "current 40\n",
        "python_readibility_f1_mean {'CONTENT_SCORE_DIV_BONUS': 80}\n",
        "comp_stats"
       ]
      },
      {
       "output_type": "stream",
       "stream": "stdout",
       "text": [
        " 0.874065832064\n",
        "iteration 5\n",
        "current 30\n",
        "python_readibility_f1_mean {'CONTENT_SCORE_DIV_BONUS': 30}\n",
        "comp_stats"
       ]
      },
      {
       "output_type": "stream",
       "stream": "stdout",
       "text": [
        " 0.883402727627\n",
        "best_keys [(40, 0.88389775636646606), (20, 0.88370149536809284), (30, 0.88340272762665573), (10, 0.88061424198323879), (5, 0.87885752775529247), (2, 0.87881840336755035), (80, 0.87406583206397559)]\n",
        "continue\n",
        "iteration 6\n",
        "current 35\n",
        "python_readibility_f1_mean {'CONTENT_SCORE_DIV_BONUS': 35}\n",
        "comp_stats"
       ]
      },
      {
       "output_type": "stream",
       "stream": "stdout",
       "text": [
        " 0.883383007111\n",
        "python_readibility_f1_mean {'CONTENT_SCORE_DIV_BONUS': 17}\n",
        "comp_stats"
       ]
      },
      {
       "output_type": "stream",
       "stream": "stdout",
       "text": [
        " 0.880094953247\n",
        "python_readibility_f1_mean {'CONTENT_SCORE_DIV_BONUS': 70}\n",
        "comp_stats"
       ]
      },
      {
       "output_type": "stream",
       "stream": "stdout",
       "text": [
        " 0.874712275456\n",
        "iteration 7\n",
        "current 26\n",
        "python_readibility_f1_mean {'CONTENT_SCORE_DIV_BONUS': 26}\n",
        "comp_stats"
       ]
      },
      {
       "output_type": "stream",
       "stream": "stdout",
       "text": [
        " 0.882013970078\n",
        "python_readibility_f1_mean {'CONTENT_SCORE_DIV_BONUS': 13}\n",
        "comp_stats"
       ]
      },
      {
       "output_type": "stream",
       "stream": "stdout",
       "text": [
        " 0.881425735097\n",
        "python_readibility_f1_mean {'CONTENT_SCORE_DIV_BONUS': 52}\n",
        "comp_stats"
       ]
      },
      {
       "output_type": "stream",
       "stream": "stdout",
       "text": [
        " 0.878068138741\n",
        "iteration 8\n",
        "current 19\n",
        "python_readibility_f1_mean {'CONTENT_SCORE_DIV_BONUS': 19}\n",
        "comp_stats"
       ]
      },
      {
       "output_type": "stream",
       "stream": "stdout",
       "text": [
        " 0.880403624115\n",
        "python_readibility_f1_mean {'CONTENT_SCORE_DIV_BONUS': 9}\n",
        "comp_stats"
       ]
      },
      {
       "output_type": "stream",
       "stream": "stdout",
       "text": [
        " 0.880130887656\n",
        "python_readibility_f1_mean {'CONTENT_SCORE_DIV_BONUS': 38}\n",
        "comp_stats"
       ]
      },
      {
       "output_type": "stream",
       "stream": "stdout",
       "text": [
        " 0.883612596554\n",
        "iteration 9\n",
        "current 38\n",
        "python_readibility_f1_mean {'CONTENT_SCORE_DIV_BONUS': 76}\n",
        "comp_stats"
       ]
      },
      {
       "output_type": "stream",
       "stream": "stdout",
       "text": [
        " 0.874065832064\n",
        "iteration 10\n",
        "current 28\n",
        "python_readibility_f1_mean {'CONTENT_SCORE_DIV_BONUS': 28}\n",
        "comp_stats"
       ]
      },
      {
       "output_type": "stream",
       "stream": "stdout",
       "text": [
        " 0.883423731332\n",
        "best_keys [(40, 0.88389775636646606), (20, 0.88370149536809284), (38, 0.88361259655377311), (28, 0.88342373133219421), (30, 0.88340272762665573), (35, 0.88338300711082851), (26, 0.88201397007768412), (13, 0.88142573509671973), (10, 0.88061424198323879), (19, 0.88040362411471051), (9, 0.88013088765574665), (17, 0.88009495324674558), (5, 0.87885752775529247), (2, 0.87881840336755035), (52, 0.87806813874147083), (70, 0.87471227545620656), (76, 0.87406583206397559), (80, 0.87406583206397559)]\n",
        "falling back in heuristic\n",
        "continue\n",
        "iteration 11\n",
        "current 46\n",
        "python_readibility_f1_mean {'CONTENT_SCORE_DIV_BONUS': 46}\n",
        "comp_stats"
       ]
      },
      {
       "output_type": "stream",
       "stream": "stdout",
       "text": [
        " 0.883142115301\n",
        "python_readibility_f1_mean {'CONTENT_SCORE_DIV_BONUS': 23}\n",
        "comp_stats"
       ]
      },
      {
       "output_type": "stream",
       "stream": "stdout",
       "text": [
        " 0.883542466038\n",
        "python_readibility_f1_mean {'CONTENT_SCORE_DIV_BONUS': 92}\n",
        "comp_stats"
       ]
      },
      {
       "output_type": "stream",
       "stream": "stdout",
       "text": [
        " 0.870896712006\n",
        "iteration 12\n",
        "current 23\n",
        "python_readibility_f1_mean {'CONTENT_SCORE_DIV_BONUS': 11}\n",
        "comp_stats"
       ]
      },
      {
       "output_type": "stream",
       "stream": "stdout",
       "text": [
        " 0.880734324041\n",
        "iteration 13\n",
        "current 34\n",
        "python_readibility_f1_mean {'CONTENT_SCORE_DIV_BONUS': 34}\n",
        "comp_stats"
       ]
      },
      {
       "output_type": "stream",
       "stream": "stdout",
       "text": [
        " 0.883425008841\n",
        "python_readibility_f1_mean {'CONTENT_SCORE_DIV_BONUS': 68}\n",
        "comp_stats"
       ]
      },
      {
       "output_type": "stream",
       "stream": "stdout",
       "text": [
        " 0.874712275456\n",
        "iteration 14\n",
        "current 25\n",
        "python_readibility_f1_mean {'CONTENT_SCORE_DIV_BONUS': 25}\n",
        "comp_stats"
       ]
      },
      {
       "output_type": "stream",
       "stream": "stdout",
       "text": [
        " 0.882028973466\n",
        "python_readibility_f1_mean {'CONTENT_SCORE_DIV_BONUS': 12}\n",
        "comp_stats"
       ]
      },
      {
       "output_type": "stream",
       "stream": "stdout",
       "text": [
        " 0.881215160006\n",
        "python_readibility_f1_mean {'CONTENT_SCORE_DIV_BONUS': 50}\n",
        "comp_stats"
       ]
      },
      {
       "output_type": "stream",
       "stream": "stdout",
       "text": [
        " 0.878902193306\n",
        "iteration 15\n",
        "current 18\n",
        "python_readibility_f1_mean {'CONTENT_SCORE_DIV_BONUS': 18}\n",
        "comp_stats"
       ]
      },
      {
       "output_type": "stream",
       "stream": "stdout",
       "text": [
        " 0.880375034687\n",
        "best_keys [(40, 0.88389775636646606), (20, 0.88370149536809284), (38, 0.88361259655377311), (23, 0.88354246603754016), (34, 0.88342500884066888), (28, 0.88342373133219421), (30, 0.88340272762665573), (35, 0.88338300711082851), (46, 0.88314211530120557), (25, 0.88202897346571796), (26, 0.88201397007768412), (13, 0.88142573509671973), (12, 0.88121516000589883), (11, 0.88073432404114338), (10, 0.88061424198323879), (19, 0.88040362411471051), (18, 0.88037503468716605), (9, 0.88013088765574665), (17, 0.88009495324674558), (50, 0.8789021933055805), (5, 0.87885752775529247), (2, 0.87881840336755035), (52, 0.87806813874147083), (68, 0.87471227545620656), (70, 0.87471227545620656), (76, 0.87406583206397559), (80, 0.87406583206397559), (92, 0.8708967120063168)]\n",
        "falling back in heuristic\n",
        "continue\n",
        "iteration 16\n",
        "current 43\n",
        "python_readibility_f1_mean {'CONTENT_SCORE_DIV_BONUS': 43}\n",
        "comp_stats"
       ]
      },
      {
       "output_type": "stream",
       "stream": "stdout",
       "text": [
        " 0.883913907344\n",
        "python_readibility_f1_mean {'CONTENT_SCORE_DIV_BONUS': 21}\n",
        "comp_stats"
       ]
      },
      {
       "output_type": "stream",
       "stream": "stdout",
       "text": [
        " 0.883710041163\n",
        "python_readibility_f1_mean {'CONTENT_SCORE_DIV_BONUS': 86}\n",
        "comp_stats"
       ]
      },
      {
       "output_type": "stream",
       "stream": "stdout",
       "text": [
        " 0.874065832064\n",
        "iteration 17\n",
        "current 32\n",
        "python_readibility_f1_mean {'CONTENT_SCORE_DIV_BONUS': 32}\n",
        "comp_stats"
       ]
      },
      {
       "output_type": "stream",
       "stream": "stdout",
       "text": [
        " 0.883402727627\n",
        "python_readibility_f1_mean {'CONTENT_SCORE_DIV_BONUS': 16}\n",
        "comp_stats"
       ]
      },
      {
       "output_type": "stream",
       "stream": "stdout",
       "text": [
        " 0.881674997197\n",
        "python_readibility_f1_mean {'CONTENT_SCORE_DIV_BONUS': 64}\n",
        "comp_stats"
       ]
      },
      {
       "output_type": "stream",
       "stream": "stdout",
       "text": [
        " 0.875278455893\n",
        "iteration 18\n",
        "current 24\n",
        "python_readibility_f1_mean {'CONTENT_SCORE_DIV_BONUS': 24}\n",
        "comp_stats"
       ]
      },
      {
       "output_type": "stream",
       "stream": "stdout",
       "text": [
        " 0.882028973466\n",
        "python_readibility_f1_mean {'CONTENT_SCORE_DIV_BONUS': 48}\n",
        "comp_stats"
       ]
      },
      {
       "output_type": "stream",
       "stream": "stdout",
       "text": [
        " 0.880079286422\n",
        "iteration 19\n",
        "current 18\n",
        "python_readibility_f1_mean {'CONTENT_SCORE_DIV_BONUS': 36}\n",
        "comp_stats"
       ]
      },
      {
       "output_type": "stream",
       "stream": "stdout",
       "text": [
        " 0.88354294237\n",
        "iteration 20\n",
        "current 36\n",
        "best_keys [(43, 0.88391390734377362), (40, 0.88389775636646606), (21, 0.88371004116275154), (20, 0.88370149536809284), (38, 0.88361259655377311), (36, 0.88354294237014197), (23, 0.88354246603754016), (34, 0.88342500884066888), (28, 0.88342373133219421), (30, 0.88340272762665573), (32, 0.88340272762665573), (35, 0.88338300711082851), (46, 0.88314211530120557), (24, 0.88202897346571796), (25, 0.88202897346571796), (26, 0.88201397007768412), (16, 0.88167499719692899), (13, 0.88142573509671973), (12, 0.88121516000589883), (11, 0.88073432404114338), (10, 0.88061424198323879), (19, 0.88040362411471051), (18, 0.88037503468716605), (9, 0.88013088765574665), (17, 0.88009495324674558), (48, 0.88007928642220012), (50, 0.8789021933055805), (5, 0.87885752775529247), (2, 0.87881840336755035), (52, 0.87806813874147083), (64, 0.87527845589347641), (68, 0.87471227545620656), (70, 0.87471227545620656), (76, 0.87406583206397559), (80, 0.87406583206397559), (86, 0.87406583206397559), (92, 0.8708967120063168)]\n",
        "continue\n",
        "iteration 21\n",
        "current 41\n",
        "python_readibility_f1_mean {'CONTENT_SCORE_DIV_BONUS': 41}\n",
        "comp_stats"
       ]
      },
      {
       "output_type": "stream",
       "stream": "stdout",
       "text": [
        " 0.883937534526\n",
        "python_readibility_f1_mean {'CONTENT_SCORE_DIV_BONUS': 82}\n",
        "comp_stats"
       ]
      },
      {
       "output_type": "stream",
       "stream": "stdout",
       "text": [
        " 0.874065832064\n",
        "iteration 22\n",
        "current 30\n",
        "python_readibility_f1_mean {'CONTENT_SCORE_DIV_BONUS': 15}\n",
        "comp_stats"
       ]
      },
      {
       "output_type": "stream",
       "stream": "stdout",
       "text": [
        " 0.881722079332\n",
        "python_readibility_f1_mean {'CONTENT_SCORE_DIV_BONUS': 60}\n",
        "comp_stats"
       ]
      },
      {
       "output_type": "stream",
       "stream": "stdout",
       "text": [
        " 0.875278455893\n",
        "iteration 23\n",
        "current 22\n",
        "python_readibility_f1_mean {'CONTENT_SCORE_DIV_BONUS': 22}\n",
        "comp_stats"
       ]
      },
      {
       "output_type": "stream",
       "stream": "stdout",
       "text": [
        " 0.88350581745\n",
        "python_readibility_f1_mean {'CONTENT_SCORE_DIV_BONUS': 44}\n",
        "comp_stats"
       ]
      },
      {
       "output_type": "stream",
       "stream": "stdout",
       "text": [
        " 0.883740679924\n",
        "iteration 24\n",
        "current 44\n",
        "python_readibility_f1_mean {'CONTENT_SCORE_DIV_BONUS': 88}\n",
        "comp_stats"
       ]
      },
      {
       "output_type": "stream",
       "stream": "stdout",
       "text": [
        " 0.874065832064\n",
        "iteration 25\n",
        "current 33\n",
        "python_readibility_f1_mean {'CONTENT_SCORE_DIV_BONUS': 33}\n",
        "comp_stats"
       ]
      },
      {
       "output_type": "stream",
       "stream": "stdout",
       "text": [
        " 0.883433978413\n",
        "best_keys [(41, 0.8839375345264896), (43, 0.88391390734377362), (40, 0.88389775636646606), (44, 0.88374067992386562), (21, 0.88371004116275154), (20, 0.88370149536809284), (38, 0.88361259655377311), (36, 0.88354294237014197), (23, 0.88354246603754016), (22, 0.8835058174502769), (33, 0.88343397841281923), (34, 0.88342500884066888), (28, 0.88342373133219421), (30, 0.88340272762665573), (32, 0.88340272762665573), (35, 0.88338300711082851), (46, 0.88314211530120557), (24, 0.88202897346571796), (25, 0.88202897346571796), (26, 0.88201397007768412), (15, 0.88172207933174451), (16, 0.88167499719692899), (13, 0.88142573509671973), (12, 0.88121516000589883), (11, 0.88073432404114338), (10, 0.88061424198323879), (19, 0.88040362411471051), (18, 0.88037503468716605), (9, 0.88013088765574665), (17, 0.88009495324674558), (48, 0.88007928642220012), (50, 0.8789021933055805), (5, 0.87885752775529247), (2, 0.87881840336755035), (52, 0.87806813874147083), (60, 0.87527845589347641), (64, 0.87527845589347641), (68, 0.87471227545620656), (70, 0.87471227545620656), (76, 0.87406583206397559), (80, 0.87406583206397559), (82, 0.87406583206397559), (86, 0.87406583206397559), (88, 0.87406583206397559), (92, 0.8708967120063168)]\n",
        "continue\n",
        "iteration 26\n",
        "current 42\n",
        "python_readibility_f1_mean {'CONTENT_SCORE_DIV_BONUS': 42}\n",
        "comp_stats"
       ]
      },
      {
       "output_type": "stream",
       "stream": "stdout",
       "text": [
        " 0.883937534526\n",
        "python_readibility_f1_mean {'CONTENT_SCORE_DIV_BONUS': 84}\n",
        "comp_stats"
       ]
      },
      {
       "output_type": "stream",
       "stream": "stdout",
       "text": [
        " 0.874065832064\n",
        "iteration 27\n",
        "current 31\n",
        "python_readibility_f1_mean {'CONTENT_SCORE_DIV_BONUS': 31}\n",
        "comp_stats"
       ]
      },
      {
       "output_type": "stream",
       "stream": "stdout",
       "text": [
        " 0.883402727627\n",
        "python_readibility_f1_mean {'CONTENT_SCORE_DIV_BONUS': 62}\n",
        "comp_stats"
       ]
      },
      {
       "output_type": "stream",
       "stream": "stdout",
       "text": [
        " 0.875278455893\n",
        "iteration 28\n",
        "current 23\n",
        "iteration 29\n",
        "current 34\n",
        "iteration 30\n",
        "current 25\n",
        "best_keys [(41, 0.8839375345264896), (42, 0.8839375345264896), (43, 0.88391390734377362), (40, 0.88389775636646606), (44, 0.88374067992386562), (21, 0.88371004116275154), (20, 0.88370149536809284), (38, 0.88361259655377311), (36, 0.88354294237014197), (23, 0.88354246603754016), (22, 0.8835058174502769), (33, 0.88343397841281923), (34, 0.88342500884066888), (28, 0.88342373133219421), (30, 0.88340272762665573), (31, 0.88340272762665573), (32, 0.88340272762665573), (35, 0.88338300711082851), (46, 0.88314211530120557), (24, 0.88202897346571796), (25, 0.88202897346571796), (26, 0.88201397007768412), (15, 0.88172207933174451), (16, 0.88167499719692899), (13, 0.88142573509671973), (12, 0.88121516000589883), (11, 0.88073432404114338), (10, 0.88061424198323879), (19, 0.88040362411471051), (18, 0.88037503468716605), (9, 0.88013088765574665), (17, 0.88009495324674558), (48, 0.88007928642220012), (50, 0.8789021933055805), (5, 0.87885752775529247), (2, 0.87881840336755035), (52, 0.87806813874147083), (60, 0.87527845589347641), (62, 0.87527845589347641), (64, 0.87527845589347641), (68, 0.87471227545620656), (70, 0.87471227545620656), (76, 0.87406583206397559), (80, 0.87406583206397559), (82, 0.87406583206397559), (84, 0.87406583206397559), (86, 0.87406583206397559), (88, 0.87406583206397559), (92, 0.8708967120063168)]\n",
        "stopping for small delta\n",
        "25\n",
        "{'make_int': True, 'param_name': 'CONTENT_SCORE_PRE_TD_BONUS', 'start_value': 3}\n",
        "iteration 1\n",
        "current 3\n",
        "python_readibility_f1_mean {'CONTENT_SCORE_PRE_TD_BONUS': 3}\n",
        "comp_stats"
       ]
      },
      {
       "output_type": "stream",
       "stream": "stdout",
       "text": [
        " 0.878857527755\n",
        "python_readibility_f1_mean {'CONTENT_SCORE_PRE_TD_BONUS': 1}\n",
        "comp_stats"
       ]
      },
      {
       "output_type": "stream",
       "stream": "stdout",
       "text": [
        " 0.878763621111\n",
        "python_readibility_f1_mean {'CONTENT_SCORE_PRE_TD_BONUS': 6}\n",
        "comp_stats"
       ]
      },
      {
       "output_type": "stream",
       "stream": "stdout",
       "text": [
        " 0.876851690291\n",
        "iteration 2\n",
        "current 2\n",
        "python_readibility_f1_mean {'CONTENT_SCORE_PRE_TD_BONUS': 2}\n",
        "comp_stats"
       ]
      },
      {
       "output_type": "stream",
       "stream": "stdout",
       "text": [
        " 0.878763621111\n",
        "python_readibility_f1_mean {'CONTENT_SCORE_PRE_TD_BONUS': 4}\n",
        "comp_stats"
       ]
      },
      {
       "output_type": "stream",
       "stream": "stdout",
       "text": [
        " 0.878857527755\n",
        "iteration 3\n",
        "current 4\n",
        "python_readibility_f1_mean {'CONTENT_SCORE_PRE_TD_BONUS': 8}\n",
        "comp_stats"
       ]
      },
      {
       "output_type": "stream",
       "stream": "stdout",
       "text": [
        " 0.876856876691\n",
        "iteration 4\n",
        "current 3\n",
        "iteration 5\n",
        "current 2\n",
        "best_keys [(3, 0.87885752775529247), (4, 0.87885752775529247), (1, 0.87876362111083872), (2, 0.87876362111083872), (8, 0.87685687669126233), (6, 0.87685169029121324)]\n",
        "stopping for small delta\n",
        "2\n",
        "{'make_int': True, 'param_name': 'CONTENT_SCORE_ADDRESS_OL_PENALTY', 'start_value': 3}\n",
        "iteration 1\n",
        "current 3\n",
        "python_readibility_f1_mean {'CONTENT_SCORE_ADDRESS_OL_PENALTY': 3}\n",
        "comp_stats"
       ]
      },
      {
       "output_type": "stream",
       "stream": "stdout",
       "text": [
        " 0.878857527755\n",
        "python_readibility_f1_mean {'CONTENT_SCORE_ADDRESS_OL_PENALTY': 1}\n",
        "comp_stats"
       ]
      },
      {
       "output_type": "stream",
       "stream": "stdout",
       "text": [
        " 0.878857527755\n",
        "python_readibility_f1_mean {'CONTENT_SCORE_ADDRESS_OL_PENALTY': 6}\n",
        "comp_stats"
       ]
      },
      {
       "output_type": "stream",
       "stream": "stdout",
       "text": [
        " 0.878857527755\n",
        "iteration 2\n",
        "current 1\n",
        "python_readibility_f1_mean {'CONTENT_SCORE_ADDRESS_OL_PENALTY': 0}\n",
        "comp_stats"
       ]
      },
      {
       "output_type": "stream",
       "stream": "stdout",
       "text": [
        " 0.878857527755\n",
        "python_readibility_f1_mean {'CONTENT_SCORE_ADDRESS_OL_PENALTY': 2}\n",
        "comp_stats"
       ]
      },
      {
       "output_type": "stream",
       "stream": "stdout",
       "text": [
        " 0.878857527755\n",
        "iteration 3\n",
        "current 0\n",
        "iteration 4\n",
        "current 0\n",
        "iteration 5\n",
        "current 0\n",
        "best_keys [(0, 0.87885752775529247), (1, 0.87885752775529247), (2, 0.87885752775529247), (3, 0.87885752775529247), (6, 0.87885752775529247)]\n",
        "stopping for small delta\n",
        "0\n",
        "{'make_int': True, 'param_name': 'CONTENT_SCORE_HEADER_PENALTY', 'start_value': 5}\n",
        "iteration 1\n",
        "current 5\n",
        "python_readibility_f1_mean {'CONTENT_SCORE_HEADER_PENALTY': 5}\n",
        "comp_stats"
       ]
      },
      {
       "output_type": "stream",
       "stream": "stdout",
       "text": [
        " 0.878857527755\n",
        "python_readibility_f1_mean {'CONTENT_SCORE_HEADER_PENALTY': 2}\n",
        "comp_stats"
       ]
      },
      {
       "output_type": "stream",
       "stream": "stdout",
       "text": [
        " 0.878857527755\n",
        "python_readibility_f1_mean {'CONTENT_SCORE_HEADER_PENALTY': 10}\n",
        "comp_stats"
       ]
      },
      {
       "output_type": "stream",
       "stream": "stdout",
       "text": [
        " 0.878857527755\n",
        "iteration 2\n",
        "current 2\n",
        "python_readibility_f1_mean {'CONTENT_SCORE_HEADER_PENALTY': 1}\n",
        "comp_stats"
       ]
      },
      {
       "output_type": "stream",
       "stream": "stdout",
       "text": [
        " 0.878857527755\n",
        "python_readibility_f1_mean {'CONTENT_SCORE_HEADER_PENALTY': 4}\n",
        "comp_stats"
       ]
      },
      {
       "output_type": "stream",
       "stream": "stdout",
       "text": [
        " 0.878857527755\n",
        "iteration 3\n",
        "current 1\n",
        "python_readibility_f1_mean {'CONTENT_SCORE_HEADER_PENALTY': 0}\n",
        "comp_stats"
       ]
      },
      {
       "output_type": "stream",
       "stream": "stdout",
       "text": [
        " 0.878857527755\n",
        "iteration 4\n",
        "current 0\n",
        "iteration 5\n",
        "current 0\n",
        "best_keys [(0, 0.87885752775529247), (1, 0.87885752775529247), (2, 0.87885752775529247), (4, 0.87885752775529247), (5, 0.87885752775529247), (10, 0.87885752775529247)]\n",
        "stopping for small delta\n",
        "0\n",
        "{'make_int': True, 'param_name': 'CLASS_WEIGHT_NEGATIVE_RE_PENALTY', 'start_value': 25}\n",
        "iteration 1\n",
        "current 25\n",
        "python_readibility_f1_mean {'CLASS_WEIGHT_NEGATIVE_RE_PENALTY': 25}\n",
        "comp_stats"
       ]
      },
      {
       "output_type": "stream",
       "stream": "stdout",
       "text": [
        " 0.878857527755\n",
        "python_readibility_f1_mean {'CLASS_WEIGHT_NEGATIVE_RE_PENALTY': 12}\n",
        "comp_stats"
       ]
      },
      {
       "output_type": "stream",
       "stream": "stdout",
       "text": [
        " 0.875128695396\n",
        "python_readibility_f1_mean {'CLASS_WEIGHT_NEGATIVE_RE_PENALTY': 50}\n",
        "comp_stats"
       ]
      },
      {
       "output_type": "stream",
       "stream": "stdout",
       "text": [
        " 0.880122204657\n",
        "iteration 2\n",
        "current 50\n",
        "python_readibility_f1_mean {'CLASS_WEIGHT_NEGATIVE_RE_PENALTY': 100}\n",
        "comp_stats"
       ]
      },
      {
       "output_type": "stream",
       "stream": "stdout",
       "text": [
        " 0.876431097614\n",
        "iteration 3\n",
        "current 37\n",
        "python_readibility_f1_mean {'CLASS_WEIGHT_NEGATIVE_RE_PENALTY': 37}\n",
        "comp_stats"
       ]
      },
      {
       "output_type": "stream",
       "stream": "stdout",
       "text": [
        " 0.880160346747\n",
        "python_readibility_f1_mean {'CLASS_WEIGHT_NEGATIVE_RE_PENALTY': 18}\n",
        "comp_stats"
       ]
      },
      {
       "output_type": "stream",
       "stream": "stdout",
       "text": [
        " 0.875983852018\n",
        "python_readibility_f1_mean {'CLASS_WEIGHT_NEGATIVE_RE_PENALTY': 74}\n",
        "comp_stats"
       ]
      },
      {
       "output_type": "stream",
       "stream": "stdout",
       "text": [
        " 0.875800674722\n",
        "iteration 4\n",
        "current 27\n",
        "python_readibility_f1_mean {'CLASS_WEIGHT_NEGATIVE_RE_PENALTY': 27}\n",
        "comp_stats"
       ]
      },
      {
       "output_type": "stream",
       "stream": "stdout",
       "text": [
        " 0.878733438132\n",
        "python_readibility_f1_mean {'CLASS_WEIGHT_NEGATIVE_RE_PENALTY': 13}\n",
        "comp_stats"
       ]
      },
      {
       "output_type": "stream",
       "stream": "stdout",
       "text": [
        " 0.875205568516\n",
        "python_readibility_f1_mean {'CLASS_WEIGHT_NEGATIVE_RE_PENALTY': 54}\n",
        "comp_stats"
       ]
      },
      {
       "output_type": "stream",
       "stream": "stdout",
       "text": [
        " 0.879183593646\n",
        "iteration 5\n",
        "current 54\n",
        "best_keys [(37, 0.88016034674687949), (50, 0.88012220465727631), (54, 0.87918359364582688), (25, 0.87885752775529247), (27, 0.87873343813159677), (100, 0.87643109761357296), (18, 0.87598385201805606), (74, 0.87580067472171441), (13, 0.87520556851646469), (12, 0.87512869539638194)]\n",
        "continue\n",
        "iteration 6\n",
        "current 43\n",
        "python_readibility_f1_mean {'CLASS_WEIGHT_NEGATIVE_RE_PENALTY': 43}\n",
        "comp_stats"
       ]
      },
      {
       "output_type": "stream",
       "stream": "stdout",
       "text": [
        " 0.880160346747\n",
        "python_readibility_f1_mean {'CLASS_WEIGHT_NEGATIVE_RE_PENALTY': 21}\n",
        "comp_stats"
       ]
      },
      {
       "output_type": "stream",
       "stream": "stdout",
       "text": [
        " 0.875983852018\n",
        "python_readibility_f1_mean {'CLASS_WEIGHT_NEGATIVE_RE_PENALTY': 86}\n",
        "comp_stats"
       ]
      },
      {
       "output_type": "stream",
       "stream": "stdout",
       "text": [
        " 0.875800674722\n",
        "iteration 7\n",
        "current 32\n",
        "python_readibility_f1_mean {'CLASS_WEIGHT_NEGATIVE_RE_PENALTY': 32}\n",
        "comp_stats"
       ]
      },
      {
       "output_type": "stream",
       "stream": "stdout",
       "text": [
        " 0.879002022448\n",
        "python_readibility_f1_mean {'CLASS_WEIGHT_NEGATIVE_RE_PENALTY': 16}\n",
        "comp_stats"
       ]
      },
      {
       "output_type": "stream",
       "stream": "stdout",
       "text": [
        " 0.875983852018\n",
        "python_readibility_f1_mean {'CLASS_WEIGHT_NEGATIVE_RE_PENALTY': 64}\n",
        "comp_stats"
       ]
      },
      {
       "output_type": "stream",
       "stream": "stdout",
       "text": [
        " 0.87781838895\n",
        "iteration 8\n",
        "current 48\n",
        "python_readibility_f1_mean {'CLASS_WEIGHT_NEGATIVE_RE_PENALTY': 48}\n",
        "comp_stats"
       ]
      },
      {
       "output_type": "stream",
       "stream": "stdout",
       "text": [
        " 0.880160346747\n",
        "python_readibility_f1_mean {'CLASS_WEIGHT_NEGATIVE_RE_PENALTY': 24}\n",
        "comp_stats"
       ]
      },
      {
       "output_type": "stream",
       "stream": "stdout",
       "text": [
        " 0.878857527755\n",
        "python_readibility_f1_mean {'CLASS_WEIGHT_NEGATIVE_RE_PENALTY': 96}\n",
        "comp_stats"
       ]
      },
      {
       "output_type": "stream",
       "stream": "stdout",
       "text": [
        " 0.876431097614\n",
        "iteration 9\n",
        "current 36\n",
        "python_readibility_f1_mean {'CLASS_WEIGHT_NEGATIVE_RE_PENALTY': 36}\n",
        "comp_stats"
       ]
      },
      {
       "output_type": "stream",
       "stream": "stdout",
       "text": [
        " 0.880160346747\n",
        "python_readibility_f1_mean {'CLASS_WEIGHT_NEGATIVE_RE_PENALTY': 72}\n",
        "comp_stats"
       ]
      },
      {
       "output_type": "stream",
       "stream": "stdout",
       "text": [
        " 0.875800674722\n",
        "iteration 10\n",
        "current 27\n",
        "best_keys [(36, 0.88016034674687949), (37, 0.88016034674687949), (43, 0.88016034674687949), (48, 0.88016034674687949), (50, 0.88012220465727631), (54, 0.87918359364582688), (32, 0.87900202244798997), (24, 0.87885752775529247), (25, 0.87885752775529247), (27, 0.87873343813159677), (64, 0.87781838894954189), (96, 0.87643109761357296), (100, 0.87643109761357296), (16, 0.87598385201805606), (18, 0.87598385201805606), (21, 0.87598385201805606), (72, 0.87580067472171441), (74, 0.87580067472171441), (86, 0.87580067472171441), (13, 0.87520556851646469), (12, 0.87512869539638194)]\n",
        "stopping for small delta\n",
        "27\n",
        "{'make_int': True, 'param_name': 'CLASS_WEIGHT_POSITVE_RE_BONUS', 'start_value': 25}\n",
        "iteration 1\n",
        "current 25\n",
        "python_readibility_f1_mean {'CLASS_WEIGHT_POSITVE_RE_BONUS': 25}\n",
        "comp_stats"
       ]
      },
      {
       "output_type": "stream",
       "stream": "stdout",
       "text": [
        " 0.878857527755\n",
        "python_readibility_f1_mean {'CLASS_WEIGHT_POSITVE_RE_BONUS': 12}\n",
        "comp_stats"
       ]
      },
      {
       "output_type": "stream",
       "stream": "stdout",
       "text": [
        " 0.879014722133\n",
        "python_readibility_f1_mean {'CLASS_WEIGHT_POSITVE_RE_BONUS': 50}\n",
        "comp_stats"
       ]
      },
      {
       "output_type": "stream",
       "stream": "stdout",
       "text": [
        " 0.874405508364\n",
        "iteration 2\n",
        "current 12\n",
        "python_readibility_f1_mean {'CLASS_WEIGHT_POSITVE_RE_BONUS': 6}\n",
        "comp_stats"
       ]
      },
      {
       "output_type": "stream",
       "stream": "stdout",
       "text": [
        " 0.878640632518\n",
        "python_readibility_f1_mean {'CLASS_WEIGHT_POSITVE_RE_BONUS': 24}\n",
        "comp_stats"
       ]
      },
      {
       "output_type": "stream",
       "stream": "stdout",
       "text": [
        " 0.878823341667\n",
        "iteration 3\n",
        "current 18\n",
        "python_readibility_f1_mean {'CLASS_WEIGHT_POSITVE_RE_BONUS': 18}\n",
        "comp_stats"
       ]
      },
      {
       "output_type": "stream",
       "stream": "stdout",
       "text": [
        " 0.876333127933\n",
        "python_readibility_f1_mean {'CLASS_WEIGHT_POSITVE_RE_BONUS': 9}\n",
        "comp_stats"
       ]
      },
      {
       "output_type": "stream",
       "stream": "stdout",
       "text": [
        " 0.879292725242\n",
        "python_readibility_f1_mean {'CLASS_WEIGHT_POSITVE_RE_BONUS': 36}\n",
        "comp_stats"
       ]
      },
      {
       "output_type": "stream",
       "stream": "stdout",
       "text": [
        " 0.876063312406\n",
        "iteration 4\n",
        "current 9\n",
        "python_readibility_f1_mean {'CLASS_WEIGHT_POSITVE_RE_BONUS': 4}\n",
        "comp_stats"
       ]
      },
      {
       "output_type": "stream",
       "stream": "stdout",
       "text": [
        " 0.877369146988\n",
        "iteration 5\n",
        "current 6\n",
        "best_keys [(9, 0.87929272524181867), (12, 0.87901472213310528), (25, 0.87885752775529247), (24, 0.87882334166710985), (6, 0.87864063251813274), (4, 0.87736914698818103), (18, 0.87633312793288154), (36, 0.87606331240604829), (50, 0.87440550836429043)]\n",
        "continue\n",
        "iteration 6\n",
        "current 10\n",
        "python_readibility_f1_mean {'CLASS_WEIGHT_POSITVE_RE_BONUS': 10}\n",
        "comp_stats"
       ]
      },
      {
       "output_type": "stream",
       "stream": "stdout",
       "text": [
        " 0.879339383048\n",
        "python_readibility_f1_mean {'CLASS_WEIGHT_POSITVE_RE_BONUS': 5}\n",
        "comp_stats"
       ]
      },
      {
       "output_type": "stream",
       "stream": "stdout",
       "text": [
        " 0.878167117504\n",
        "python_readibility_f1_mean {'CLASS_WEIGHT_POSITVE_RE_BONUS': 20}\n",
        "comp_stats"
       ]
      },
      {
       "output_type": "stream",
       "stream": "stdout",
       "text": [
        " 0.877668041493\n",
        "iteration 7\n",
        "current 7\n",
        "python_readibility_f1_mean {'CLASS_WEIGHT_POSITVE_RE_BONUS': 7}\n",
        "comp_stats"
       ]
      },
      {
       "output_type": "stream",
       "stream": "stdout",
       "text": [
        " 0.880070766619\n",
        "python_readibility_f1_mean {'CLASS_WEIGHT_POSITVE_RE_BONUS': 3}\n",
        "comp_stats"
       ]
      },
      {
       "output_type": "stream",
       "stream": "stdout",
       "text": [
        " 0.877385135898\n",
        "python_readibility_f1_mean {'CLASS_WEIGHT_POSITVE_RE_BONUS': 14}\n",
        "comp_stats"
       ]
      },
      {
       "output_type": "stream",
       "stream": "stdout",
       "text": [
        " 0.878186481127\n",
        "iteration 8\n",
        "current 10\n",
        "iteration 9\n",
        "current 7\n",
        "iteration 10\n",
        "current 10\n",
        "best_keys [(7, 0.88007076661857853), (10, 0.87933938304792747), (9, 0.87929272524181867), (12, 0.87901472213310528), (25, 0.87885752775529247), (24, 0.87882334166710985), (6, 0.87864063251813274), (14, 0.8781864811274831), (5, 0.87816711750365972), (20, 0.87766804149333388), (3, 0.87738513589848788), (4, 0.87736914698818103), (18, 0.87633312793288154), (36, 0.87606331240604829), (50, 0.87440550836429043)]\n",
        "continue\n",
        "iteration 11\n",
        "current 8\n",
        "python_readibility_f1_mean {'CLASS_WEIGHT_POSITVE_RE_BONUS': 8}\n",
        "comp_stats"
       ]
      },
      {
       "output_type": "stream",
       "stream": "stdout",
       "text": [
        " 0.879260920582\n",
        "python_readibility_f1_mean {'CLASS_WEIGHT_POSITVE_RE_BONUS': 16}\n",
        "comp_stats"
       ]
      },
      {
       "output_type": "stream",
       "stream": "stdout",
       "text": [
        " 0.876643064822\n",
        "iteration 12\n",
        "current 6\n",
        "iteration 13\n",
        "current 12\n",
        "iteration 14\n",
        "current 18\n",
        "iteration 15\n",
        "current 9\n",
        "best_keys [(7, 0.88007076661857853), (10, 0.87933938304792747), (9, 0.87929272524181867), (8, 0.87926092058163885), (12, 0.87901472213310528), (25, 0.87885752775529247), (24, 0.87882334166710985), (6, 0.87864063251813274), (14, 0.8781864811274831), (5, 0.87816711750365972), (20, 0.87766804149333388), (3, 0.87738513589848788), (4, 0.87736914698818103), (16, 0.87664306482159304), (18, 0.87633312793288154), (36, 0.87606331240604829), (50, 0.87440550836429043)]\n",
        "falling back in heuristic\n",
        "stopping for small delta 7 7\n",
        "{'make_int': True, 'param_name': 'CONTENT_SCORE_START', 'start_value': 1}\n",
        "iteration 1\n",
        "current 1\n",
        "python_readibility_f1_mean {'CONTENT_SCORE_START': 1}\n",
        "comp_stats"
       ]
      },
      {
       "output_type": "stream",
       "stream": "stdout",
       "text": [
        " 0.878857527755\n",
        "python_readibility_f1_mean {'CONTENT_SCORE_START': 0}\n",
        "comp_stats"
       ]
      },
      {
       "output_type": "stream",
       "stream": "stdout",
       "text": [
        " 0.877669616519\n",
        "python_readibility_f1_mean {'CONTENT_SCORE_START': 2}\n",
        "comp_stats"
       ]
      },
      {
       "output_type": "stream",
       "stream": "stdout",
       "text": [
        " 0.878277670439\n",
        "iteration 2\n",
        "current 1\n",
        "iteration 3\n",
        "current 1\n",
        "iteration 4\n",
        "current 1\n",
        "iteration 5\n",
        "current 1\n",
        "best_keys [(1, 0.87885752775529247), (2, 0.87827767043886296), (0, 0.87766961651917408)]\n",
        "stopping for small delta\n",
        "1\n",
        "{'make_int': True, 'param_name': 'CONTENT_SCORE_INNER_TEXT_MIN_BONUS', 'start_value': 3}\n",
        "iteration 1\n",
        "current 3\n",
        "python_readibility_f1_mean {'CONTENT_SCORE_INNER_TEXT_MIN_BONUS': 3}\n",
        "comp_stats"
       ]
      },
      {
       "output_type": "stream",
       "stream": "stdout",
       "text": [
        " 0.878857527755\n",
        "python_readibility_f1_mean {'CONTENT_SCORE_INNER_TEXT_MIN_BONUS': 1}\n",
        "comp_stats"
       ]
      },
      {
       "output_type": "stream",
       "stream": "stdout",
       "text": [
        " 0.876697934438\n",
        "python_readibility_f1_mean {'CONTENT_SCORE_INNER_TEXT_MIN_BONUS': 6}\n",
        "comp_stats"
       ]
      },
      {
       "output_type": "stream",
       "stream": "stdout",
       "text": [
        " 0.879289563244\n",
        "iteration 2\n",
        "current 6\n",
        "python_readibility_f1_mean {'CONTENT_SCORE_INNER_TEXT_MIN_BONUS': 12}\n",
        "comp_stats"
       ]
      },
      {
       "output_type": "stream",
       "stream": "stdout",
       "text": [
        " 0.8790161768\n",
        "iteration 3\n",
        "current 9\n",
        "python_readibility_f1_mean {'CONTENT_SCORE_INNER_TEXT_MIN_BONUS': 9}\n",
        "comp_stats"
       ]
      },
      {
       "output_type": "stream",
       "stream": "stdout",
       "text": [
        " 0.878946017623\n",
        "python_readibility_f1_mean {'CONTENT_SCORE_INNER_TEXT_MIN_BONUS': 4}\n",
        "comp_stats"
       ]
      },
      {
       "output_type": "stream",
       "stream": "stdout",
       "text": [
        " 0.879289563244\n",
        "python_readibility_f1_mean {'CONTENT_SCORE_INNER_TEXT_MIN_BONUS': 18}\n",
        "comp_stats"
       ]
      },
      {
       "output_type": "stream",
       "stream": "stdout",
       "text": [
        " 0.87905825721\n",
        "iteration 4\n",
        "current 4\n",
        "python_readibility_f1_mean {'CONTENT_SCORE_INNER_TEXT_MIN_BONUS': 2}\n",
        "comp_stats"
       ]
      },
      {
       "output_type": "stream",
       "stream": "stdout",
       "text": [
        " 0.878942176489\n",
        "python_readibility_f1_mean {'CONTENT_SCORE_INNER_TEXT_MIN_BONUS': 8}\n",
        "comp_stats"
       ]
      },
      {
       "output_type": "stream",
       "stream": "stdout",
       "text": [
        " 0.879289563244\n",
        "iteration 5\n",
        "current 8\n",
        "best_keys [(4, 0.87928956324446961), (6, 0.87928956324446961), (8, 0.87928956324446961), (18, 0.87905825720951769), (12, 0.87901617680027377), (9, 0.87894601762340652), (2, 0.87894217648900419), (3, 0.87885752775529247), (1, 0.87669793443803601)]\n",
        "continue\n",
        "iteration 6\n",
        "current 5\n",
        "python_readibility_f1_mean {'CONTENT_SCORE_INNER_TEXT_MIN_BONUS': 5}\n",
        "comp_stats"
       ]
      },
      {
       "output_type": "stream",
       "stream": "stdout",
       "text": [
        " 0.879289563244\n",
        "python_readibility_f1_mean {'CONTENT_SCORE_INNER_TEXT_MIN_BONUS': 10}\n",
        "comp_stats"
       ]
      },
      {
       "output_type": "stream",
       "stream": "stdout",
       "text": [
        " 0.878946017623\n",
        "iteration 7\n",
        "current 7\n",
        "python_readibility_f1_mean {'CONTENT_SCORE_INNER_TEXT_MIN_BONUS': 7}\n",
        "comp_stats"
       ]
      },
      {
       "output_type": "stream",
       "stream": "stdout",
       "text": [
        " 0.879289563244\n",
        "python_readibility_f1_mean {'CONTENT_SCORE_INNER_TEXT_MIN_BONUS': 14}\n",
        "comp_stats"
       ]
      },
      {
       "output_type": "stream",
       "stream": "stdout",
       "text": [
        " 0.8790161768\n",
        "iteration 8\n",
        "current 10\n",
        "python_readibility_f1_mean {'CONTENT_SCORE_INNER_TEXT_MIN_BONUS': 20}\n",
        "comp_stats"
       ]
      },
      {
       "output_type": "stream",
       "stream": "stdout",
       "text": [
        " 0.87896188159\n",
        "iteration 9\n",
        "current 5\n",
        "iteration 10\n",
        "current 7\n",
        "best_keys [(4, 0.87928956324446961), (5, 0.87928956324446961), (6, 0.87928956324446961), (7, 0.87928956324446961), (8, 0.87928956324446961), (18, 0.87905825720951769), (12, 0.87901617680027377), (14, 0.87901617680027377), (20, 0.87896188158961885), (9, 0.87894601762340652), (10, 0.87894601762340652), (2, 0.87894217648900419), (3, 0.87885752775529247), (1, 0.87669793443803601)]\n",
        "stopping for small delta\n",
        "7\n",
        "{'make_int': True, 'param_name': 'LI_COUNT_REDUCTION', 'start_value': 100}\n",
        "iteration 1\n",
        "current 100\n",
        "python_readibility_f1_mean {'LI_COUNT_REDUCTION': 100}\n",
        "comp_stats"
       ]
      },
      {
       "output_type": "stream",
       "stream": "stdout",
       "text": [
        " 0.878857527755\n",
        "python_readibility_f1_mean {'LI_COUNT_REDUCTION': 50}\n",
        "comp_stats"
       ]
      },
      {
       "output_type": "stream",
       "stream": "stdout",
       "text": [
        " 0.878857527755\n",
        "python_readibility_f1_mean {'LI_COUNT_REDUCTION': 200}\n",
        "comp_stats"
       ]
      },
      {
       "output_type": "stream",
       "stream": "stdout",
       "text": [
        " 0.878857527755\n",
        "iteration 2\n",
        "current 50\n",
        "python_readibility_f1_mean {'LI_COUNT_REDUCTION': 25}\n",
        "comp_stats"
       ]
      },
      {
       "output_type": "stream",
       "stream": "stdout",
       "text": [
        " 0.878857527755\n",
        "iteration 3\n",
        "current 25\n",
        "python_readibility_f1_mean {'LI_COUNT_REDUCTION': 12}\n",
        "comp_stats"
       ]
      },
      {
       "output_type": "stream",
       "stream": "stdout",
       "text": [
        " 0.878054261847\n",
        "iteration 4\n",
        "current 50\n",
        "iteration 5\n",
        "current 25\n",
        "best_keys [(25, 0.87885752775529247), (50, 0.87885752775529247), (100, 0.87885752775529247), (200, 0.87885752775529247), (12, 0.87805426184667701)]\n",
        "continue\n",
        "iteration 6\n",
        "current 37\n",
        "python_readibility_f1_mean {'LI_COUNT_REDUCTION': 37}\n",
        "comp_stats"
       ]
      },
      {
       "output_type": "stream",
       "stream": "stdout",
       "text": [
        " 0.878857527755\n",
        "python_readibility_f1_mean {'LI_COUNT_REDUCTION': 18}\n",
        "comp_stats"
       ]
      },
      {
       "output_type": "stream",
       "stream": "stdout",
       "text": [
        " 0.878857527755\n",
        "python_readibility_f1_mean {'LI_COUNT_REDUCTION': 74}\n",
        "comp_stats"
       ]
      },
      {
       "output_type": "stream",
       "stream": "stdout",
       "text": [
        " 0.878857527755\n",
        "iteration 7\n",
        "current 18\n",
        "python_readibility_f1_mean {'LI_COUNT_REDUCTION': 9}\n",
        "comp_stats"
       ]
      },
      {
       "output_type": "stream",
       "stream": "stdout",
       "text": [
        " 0.878054261847\n",
        "python_readibility_f1_mean {'LI_COUNT_REDUCTION': 36}\n",
        "comp_stats"
       ]
      },
      {
       "output_type": "stream",
       "stream": "stdout",
       "text": [
        " 0.878857527755\n",
        "iteration 8\n",
        "current 36\n",
        "python_readibility_f1_mean {'LI_COUNT_REDUCTION': 72}\n",
        "comp_stats"
       ]
      },
      {
       "output_type": "stream",
       "stream": "stdout",
       "text": [
        " 0.878857527755\n",
        "iteration 9\n",
        "current 18\n",
        "iteration 10\n",
        "current 36\n",
        "best_keys [(18, 0.87885752775529247), (25, 0.87885752775529247), (36, 0.87885752775529247), (37, 0.87885752775529247), (50, 0.87885752775529247), (72, 0.87885752775529247), (74, 0.87885752775529247), (100, 0.87885752775529247), (200, 0.87885752775529247), (9, 0.87805426184667701), (12, 0.87805426184667701)]\n",
        "continue\n",
        "iteration 11\n",
        "current 21\n",
        "python_readibility_f1_mean {'LI_COUNT_REDUCTION': 21}\n",
        "comp_stats"
       ]
      },
      {
       "output_type": "stream",
       "stream": "stdout",
       "text": [
        " 0.878857527755\n",
        "python_readibility_f1_mean {'LI_COUNT_REDUCTION': 10}\n",
        "comp_stats"
       ]
      },
      {
       "output_type": "stream",
       "stream": "stdout",
       "text": [
        " 0.878054261847\n",
        "python_readibility_f1_mean {'LI_COUNT_REDUCTION': 42}\n",
        "comp_stats"
       ]
      },
      {
       "output_type": "stream",
       "stream": "stdout",
       "text": [
        " 0.878857527755\n",
        "iteration 12\n",
        "current 42\n",
        "python_readibility_f1_mean {'LI_COUNT_REDUCTION': 84}\n",
        "comp_stats"
       ]
      },
      {
       "output_type": "stream",
       "stream": "stdout",
       "text": [
        " 0.878857527755\n",
        "iteration 13\n",
        "current 21\n",
        "iteration 14\n",
        "current 42\n",
        "iteration 15\n",
        "current 21\n",
        "best_keys [(18, 0.87885752775529247), (21, 0.87885752775529247), (25, 0.87885752775529247), (36, 0.87885752775529247), (37, 0.87885752775529247), (42, 0.87885752775529247), (50, 0.87885752775529247), (72, 0.87885752775529247), (74, 0.87885752775529247), (84, 0.87885752775529247), (100, 0.87885752775529247), (200, 0.87885752775529247), (9, 0.87805426184667701), (10, 0.87805426184667701), (12, 0.87805426184667701)]\n",
        "continue\n",
        "iteration 16\n",
        "current 19\n",
        "python_readibility_f1_mean {'LI_COUNT_REDUCTION': 19}\n",
        "comp_stats"
       ]
      },
      {
       "output_type": "stream",
       "stream": "stdout",
       "text": [
        " 0.878857527755\n",
        "python_readibility_f1_mean {'LI_COUNT_REDUCTION': 38}\n",
        "comp_stats"
       ]
      },
      {
       "output_type": "stream",
       "stream": "stdout",
       "text": [
        " 0.878857527755\n",
        "iteration 17\n",
        "current 38\n",
        "python_readibility_f1_mean {'LI_COUNT_REDUCTION': 76}\n",
        "comp_stats"
       ]
      },
      {
       "output_type": "stream",
       "stream": "stdout",
       "text": [
        " 0.878857527755\n",
        "iteration 18\n",
        "current 19\n",
        "iteration 19\n",
        "current 38\n",
        "iteration 20\n",
        "current 19\n",
        "best_keys [(18, 0.87885752775529247), (19, 0.87885752775529247), (21, 0.87885752775529247), (25, 0.87885752775529247), (36, 0.87885752775529247), (37, 0.87885752775529247), (38, 0.87885752775529247), (42, 0.87885752775529247), (50, 0.87885752775529247), (72, 0.87885752775529247), (74, 0.87885752775529247), (76, 0.87885752775529247), (84, 0.87885752775529247), (100, 0.87885752775529247), (200, 0.87885752775529247), (9, 0.87805426184667701), (10, 0.87805426184667701), (12, 0.87805426184667701)]\n",
        "stopping for small delta\n",
        "19\n",
        "LONG_NODE_LENGTH  - SMALL OPT - start 80 0.878857527755 opt to 10 0.879207909097 improvement 0.000350381342059\n",
        "P_TO_INPUT_RATIO no improvement - start 3 0.878857527755 opt to 1 0.878857527755\n",
        "LOW_WEIGHT_LINK_DENSITY_THRESHOLD - LARGE OPT - start 0.2 0.878857527755 opt to 0.69 0.881483415423 improvement 0.00262588766732\n",
        "HEADER_LINK_DENSITY_THRESHOLD  - SMALL OPT - start 0.33 0.878857527755 opt to 0.01 0.878953604151 improvement 9.60763953086e-05\n",
        "HIGH_WEIGHT_LINK_DENSITY_THRESHOLD  - SMALL OPT - start 0.5 0.878857527755 opt to 0.15 0.878937630417 improvement 8.01026616278e-05\n",
        "MIN_SIBLING_SCORE_THRESHOLD - LARGE OPT - start 10 0.878857527755 opt to 30 0.880210091249 improvement 0.00135256349347\n",
        "BEST_SCORE_MULTIPLIER_THRESHOLD - LARGE OPT - start 0.2 0.878857527755 opt to 0.01 0.880040099659 improvement 0.00118257190416\n",
        "LONG_NODE_LINK_DENSITY_THRESHOLD no improvement - start 0.25 0.878857527755 opt to 0.07 0.878857527755\n",
        "COMMA_COUNT no improvement - start 10 0.878857527755 opt to 10 0.878857527755\n",
        "MIN_EMBED_COMMENT_LENGTH no improvement - start 75 0.878857527755 opt to 0 0.878857527755\n",
        "TEXT_LENGTH_THRESHOLD  - SMALL OPT - start 25 0.878857527755 opt to 29 0.878923051472 improvement 6.55237170336e-05\n",
        "RETRY_LENGTH no improvement - start 250 0.878857527755 opt to 1 0.878857527755\n",
        "SIBLING_CONTENT_LENGTH_SUM no improvement - start 1000 0.878857527755 opt to 0 0.878857527755\n",
        "CONTENT_SCORE_DIV_BONUS - LARGE OPT - start 5 0.878857527755 opt to 41 0.883937534526 improvement 0.0050800067712\n",
        "CONTENT_SCORE_PRE_TD_BONUS no improvement - start 3 0.878857527755 opt to 3 0.878857527755\n",
        "CONTENT_SCORE_ADDRESS_OL_PENALTY no improvement - start 3 0.878857527755 opt to 0 0.878857527755\n",
        "CONTENT_SCORE_HEADER_PENALTY no improvement - start 5 0.878857527755 opt to 0 0.878857527755\n",
        "CLASS_WEIGHT_NEGATIVE_RE_PENALTY - LARGE OPT - start 25 0.878857527755 opt to 36 0.880160346747 improvement 0.00130281899159\n",
        "CLASS_WEIGHT_POSITVE_RE_BONUS - LARGE OPT - start 25 0.878857527755 opt to 7 0.880070766619 improvement 0.00121323886329\n",
        "CONTENT_SCORE_START no improvement - start 1 0.878857527755 opt to 1 0.878857527755\n",
        "CONTENT_SCORE_INNER_TEXT_MIN_BONUS  - SMALL OPT - start 3 0.878857527755 opt to 4 0.879289563244 improvement 0.000432035489177\n",
        "LI_COUNT_REDUCTION no improvement - start 100 0.878857527755 opt to 18 0.878857527755\n",
        "total time 3:03:19.413456\n"
       ]
      }
     ],
     "prompt_number": 61
    },
    {
     "cell_type": "code",
     "collapsed": false,
     "input": [
      "\n",
      "default_f1 = python_readability_f1_mean( extractor_training_subset[ ( len( extractor_training_objects)/2 ) : ], {} )\n",
      "\n",
      "print 'F1 with default params', default_f1"
     ],
     "language": "python",
     "metadata": {},
     "outputs": [
      {
       "output_type": "stream",
       "stream": "stdout",
       "text": [
        "python_readibility_f1_mean {}\n",
        "comp_stats"
       ]
      },
      {
       "output_type": "stream",
       "stream": "stdout",
       "text": [
        " 0.867183623635\n",
        "F1 with default params 0.867183623635\n"
       ]
      }
     ],
     "prompt_number": 73
    },
    {
     "cell_type": "code",
     "collapsed": false,
     "input": [
      "opt_params = { \n",
      "              'TEXT_LENGTH_THRESHOLD': 48,\n",
      "              'CONTENT_SCORE_DIV_BONUS': 18,\n",
      "              'CLASS_WEIGHT_POSITVE_RE_BONUS': 6\n",
      "              }\n",
      "\n",
      "\n",
      "opt_params = { \n",
      "              'LOW_WEIGHT_LINK_DENSITY_THRESHOLD': 0.69,\n",
      "              'MIN_SIBLING_SCORE_THRESHOLD':  30 ,\n",
      "              'BEST_SCORE_MULTIPLIER_THRESHOLD':  0.01,\n",
      "              'CONTENT_SCORE_DIV_BONUS': 41,\n",
      "              'CLASS_WEIGHT_NEGATIVE_RE_PENALTY': 36,\n",
      "              'CLASS_WEIGHT_POSITVE_RE_BONUS': 7}\n",
      "\n",
      "opt_f1 =  python_readability_f1_mean(extractor_training_subset[ ( len( extractor_training_objects)/2 ) : ], opt_params )\n",
      "\n",
      "print 'F1 with optimized params', opt_f1"
     ],
     "language": "python",
     "metadata": {},
     "outputs": [
      {
       "output_type": "stream",
       "stream": "stdout",
       "text": [
        "python_readibility_f1_mean {'LOW_WEIGHT_LINK_DENSITY_THRESHOLD': 0.69, 'BEST_SCORE_MULTIPLIER_THRESHOLD': 0.01, 'MIN_SIBLING_SCORE_THRESHOLD': 30, 'CONTENT_SCORE_DIV_BONUS': 41, 'CLASS_WEIGHT_NEGATIVE_RE_PENALTY': 36, 'CLASS_WEIGHT_POSITVE_RE_BONUS': 7}\n",
        "comp_stats"
       ]
      },
      {
       "output_type": "stream",
       "stream": "stdout",
       "text": [
        " 0.8596001993\n",
        "F1 with optimized params 0.8596001993\n"
       ]
      }
     ],
     "prompt_number": 67
    },
    {
     "cell_type": "code",
     "collapsed": false,
     "input": [
      "opt_params = { \n",
      "              'CONTENT_SCORE_DIV_BONUS': 41,\n",
      "              }\n",
      "\n",
      "opt_f1 =  python_readability_f1_mean( extractor_training_subset[ ( len( extractor_training_objects)/2 ) : ], opt_params )\n",
      "\n",
      "print 'F1 with optimized params', opt_f1"
     ],
     "language": "python",
     "metadata": {},
     "outputs": [
      {
       "output_type": "stream",
       "stream": "stdout",
       "text": [
        "python_readibility_f1_mean {'CONTENT_SCORE_DIV_BONUS': 41}\n",
        "comp_stats"
       ]
      },
      {
       "output_type": "stream",
       "stream": "stdout",
       "text": [
        " 0.865635849903\n",
        "F1 with optimized params 0.865635849903\n"
       ]
      }
     ],
     "prompt_number": 74
    },
    {
     "cell_type": "code",
     "collapsed": false,
     "input": [
      "make_int = True\n",
      "value_to_optimize = 'min_text_length'\n",
      "start_value = 25\n",
      "binary_search_opt_param( value_to_optimize, start_value, make_int )"
     ],
     "language": "python",
     "metadata": {},
     "outputs": [
      {
       "output_type": "stream",
       "stream": "stdout",
       "text": [
        "iteration 1\n",
        "current 25\n",
        "python_readibility_f1_mean {'min_text_length': 25}\n",
        "comp_stats"
       ]
      },
      {
       "output_type": "stream",
       "stream": "stdout",
       "text": [
        " 0.949454200285\n",
        "python_readibility_f1_mean {'min_text_length': 12}\n",
        "comp_stats"
       ]
      },
      {
       "output_type": "stream",
       "stream": "stdout",
       "text": [
        " 0.936690473308\n",
        "python_readibility_f1_mean {'min_text_length': 50}\n",
        "comp_stats"
       ]
      },
      {
       "output_type": "stream",
       "stream": "stdout",
       "text": [
        " 0.949454200285\n",
        "iteration 2\n",
        "current 50\n",
        "python_readibility_f1_mean {'min_text_length': 100}\n",
        "comp_stats"
       ]
      },
      {
       "output_type": "stream",
       "stream": "stdout",
       "text": [
        " 0.949454200285\n",
        "iteration 3\n",
        "current 100\n",
        "python_readibility_f1_mean {'min_text_length': 200}\n",
        "comp_stats"
       ]
      },
      {
       "output_type": "stream",
       "stream": "stdout",
       "text": [
        " 0.947431445336\n",
        "iteration 4\n",
        "current 50\n",
        "iteration 5\n",
        "current 100\n",
        "best_keys [(25, 0.94945420028476513), (50, 0.94945420028476513), (100, 0.94945420028476513), (200, 0.94743144533588797), (12, 0.93669047330831612)]\n",
        "continue\n",
        "iteration 6\n",
        "current 37\n",
        "python_readibility_f1_mean {'min_text_length': 37}\n",
        "comp_stats"
       ]
      },
      {
       "output_type": "stream",
       "stream": "stdout",
       "text": [
        " 0.949454200285\n",
        "python_readibility_f1_mean {'min_text_length': 18}\n",
        "comp_stats"
       ]
      },
      {
       "output_type": "stream",
       "stream": "stdout",
       "text": [
        " 0.949454200285\n",
        "python_readibility_f1_mean {'min_text_length': 74}\n",
        "comp_stats"
       ]
      },
      {
       "output_type": "stream",
       "stream": "stdout",
       "text": [
        " 0.949454200285\n",
        "iteration 7\n",
        "current 74\n",
        "python_readibility_f1_mean {'min_text_length': 148}\n",
        "comp_stats"
       ]
      },
      {
       "output_type": "stream",
       "stream": "stdout",
       "text": [
        " 0.949454200285\n",
        "iteration 8\n",
        "current 148\n",
        "python_readibility_f1_mean {'min_text_length': 296}\n",
        "comp_stats"
       ]
      },
      {
       "output_type": "stream",
       "stream": "stdout",
       "text": [
        " 0.89241665649\n",
        "iteration 9\n",
        "current 74\n",
        "iteration 10\n",
        "current 148\n",
        "best_keys [(18, 0.94945420028476513), (25, 0.94945420028476513), (37, 0.94945420028476513), (50, 0.94945420028476513), (74, 0.94945420028476513), (100, 0.94945420028476513), (148, 0.94945420028476513), (200, 0.94743144533588797), (12, 0.93669047330831612), (296, 0.89241665649041391)]\n",
        "continue\n",
        "iteration 11\n",
        "current 21\n",
        "python_readibility_f1_mean {'min_text_length': 21}\n",
        "comp_stats"
       ]
      },
      {
       "output_type": "stream",
       "stream": "stdout",
       "text": [
        " 0.949454200285\n",
        "python_readibility_f1_mean {'min_text_length': 10}\n",
        "comp_stats"
       ]
      },
      {
       "output_type": "stream",
       "stream": "stdout",
       "text": [
        " 0.936690473308\n",
        "python_readibility_f1_mean {'min_text_length': 42}\n",
        "comp_stats"
       ]
      },
      {
       "output_type": "stream",
       "stream": "stdout",
       "text": [
        " 0.949454200285\n",
        "iteration 12\n",
        "current 42\n",
        "python_readibility_f1_mean {'min_text_length': 84}\n",
        "comp_stats"
       ]
      },
      {
       "output_type": "stream",
       "stream": "stdout",
       "text": [
        " 0.949454200285\n",
        "iteration 13\n",
        "current 84\n",
        "python_readibility_f1_mean {'min_text_length': 168}\n",
        "comp_stats"
       ]
      },
      {
       "output_type": "stream",
       "stream": "stdout",
       "text": [
        " 0.949454200285\n",
        "iteration 14\n",
        "current 168\n",
        "python_readibility_f1_mean {'min_text_length': 336}\n",
        "comp_stats"
       ]
      },
      {
       "output_type": "stream",
       "stream": "stdout",
       "text": [
        " 0.89241665649\n",
        "iteration 15\n",
        "current 84\n",
        "best_keys [(18, 0.94945420028476513), (21, 0.94945420028476513), (25, 0.94945420028476513), (37, 0.94945420028476513), (42, 0.94945420028476513), (50, 0.94945420028476513), (74, 0.94945420028476513), (84, 0.94945420028476513), (100, 0.94945420028476513), (148, 0.94945420028476513), (168, 0.94945420028476513), (200, 0.94743144533588797), (10, 0.93669047330831612), (12, 0.93669047330831612), (296, 0.89241665649041391), (336, 0.89241665649041391)]\n",
        "continue\n",
        "iteration 16\n",
        "current 19\n",
        "python_readibility_f1_mean {'min_text_length': 19}\n",
        "comp_stats"
       ]
      },
      {
       "output_type": "stream",
       "stream": "stdout",
       "text": [
        " 0.949454200285\n",
        "python_readibility_f1_mean {'min_text_length': 9}\n",
        "comp_stats"
       ]
      },
      {
       "output_type": "stream",
       "stream": "stdout",
       "text": [
        " 0.936690473308\n",
        "python_readibility_f1_mean {'min_text_length': 38}\n",
        "comp_stats"
       ]
      },
      {
       "output_type": "stream",
       "stream": "stdout",
       "text": [
        " 0.949454200285\n",
        "iteration 17\n",
        "current 38\n",
        "python_readibility_f1_mean {'min_text_length': 76}\n",
        "comp_stats"
       ]
      },
      {
       "output_type": "stream",
       "stream": "stdout",
       "text": [
        " 0.949454200285\n",
        "iteration 18\n",
        "current 76\n",
        "python_readibility_f1_mean {'min_text_length': 152}\n",
        "comp_stats"
       ]
      },
      {
       "output_type": "stream",
       "stream": "stdout",
       "text": [
        " 0.949454200285\n",
        "iteration 19\n",
        "current 152\n",
        "python_readibility_f1_mean {'min_text_length': 304}\n",
        "comp_stats"
       ]
      },
      {
       "output_type": "stream",
       "stream": "stdout",
       "text": [
        " 0.89241665649\n",
        "iteration 20\n",
        "current 76\n",
        "best_keys [(18, 0.94945420028476513), (19, 0.94945420028476513), (21, 0.94945420028476513), (25, 0.94945420028476513), (37, 0.94945420028476513), (38, 0.94945420028476513), (42, 0.94945420028476513), (50, 0.94945420028476513), (74, 0.94945420028476513), (76, 0.94945420028476513), (84, 0.94945420028476513), (100, 0.94945420028476513), (148, 0.94945420028476513), (152, 0.94945420028476513), (168, 0.94945420028476513), (200, 0.94743144533588797), (9, 0.93669047330831612), (10, 0.93669047330831612), (12, 0.93669047330831612), (296, 0.89241665649041391), (304, 0.89241665649041391), (336, 0.89241665649041391)]\n",
        "stopping for small delta\n",
        "76\n"
       ]
      },
      {
       "metadata": {},
       "output_type": "pyout",
       "prompt_number": 27,
       "text": [
        "{'opt_reslt': 0.94945420028476513,\n",
        " 'opt_value': 18,\n",
        " 'start_result': 0.94945420028476513,\n",
        " 'start_value': 25}"
       ]
      }
     ],
     "prompt_number": 27
    },
    {
     "cell_type": "code",
     "collapsed": false,
     "input": [
      "#random.seed(12345)\n",
      "#numpy.random.seed( 12345 )\n",
      "#reload( difflib )\n",
      "#reload( readability )\n",
      "#reload( lxml )\n",
      "#dreload( difflib )\n",
      "#dreload( readability )\n",
      "#dreload( lxml )\n",
      "run2 = python_readability_f1_mean( extractor_training_objects[:], 250, 25 )"
     ],
     "language": "python",
     "metadata": {},
     "outputs": [
      {
       "output_type": "stream",
       "stream": "stdout",
       "text": [
        "python_readibility_f1_mean retry_length 250 min_text_length 25\n"
       ]
      }
     ],
     "prompt_number": 19
    },
    {
     "cell_type": "code",
     "collapsed": false,
     "input": [
      "print run1 == run2\n",
      "\n",
      "print run1.keys() == run2.keys()\n",
      "\n",
      "for k in run1.keys():\n",
      "    if run1[ k] != run2[k]:\n",
      "        print k, run1[k], run2[k]"
     ],
     "language": "python",
     "metadata": {},
     "outputs": [
      {
       "ename": "AttributeError",
       "evalue": "'numpy.float64' object has no attribute 'keys'",
       "output_type": "pyerr",
       "traceback": [
        "\u001b[1;31m---------------------------------------------------------------------------\u001b[0m\n\u001b[1;31mAttributeError\u001b[0m                            Traceback (most recent call last)",
        "\u001b[1;32m<ipython-input-20-0de5ac22064f>\u001b[0m in \u001b[0;36m<module>\u001b[1;34m()\u001b[0m\n\u001b[0;32m      1\u001b[0m \u001b[1;32mprint\u001b[0m \u001b[0mrun1\u001b[0m \u001b[1;33m==\u001b[0m \u001b[0mrun2\u001b[0m\u001b[1;33m\u001b[0m\u001b[0m\n\u001b[0;32m      2\u001b[0m \u001b[1;33m\u001b[0m\u001b[0m\n\u001b[1;32m----> 3\u001b[1;33m \u001b[1;32mprint\u001b[0m \u001b[0mrun1\u001b[0m\u001b[1;33m.\u001b[0m\u001b[0mkeys\u001b[0m\u001b[1;33m(\u001b[0m\u001b[1;33m)\u001b[0m \u001b[1;33m==\u001b[0m \u001b[0mrun2\u001b[0m\u001b[1;33m.\u001b[0m\u001b[0mkeys\u001b[0m\u001b[1;33m(\u001b[0m\u001b[1;33m)\u001b[0m\u001b[1;33m\u001b[0m\u001b[0m\n\u001b[0m\u001b[0;32m      4\u001b[0m \u001b[1;33m\u001b[0m\u001b[0m\n\u001b[0;32m      5\u001b[0m \u001b[1;32mfor\u001b[0m \u001b[0mk\u001b[0m \u001b[1;32min\u001b[0m \u001b[0mrun1\u001b[0m\u001b[1;33m.\u001b[0m\u001b[0mkeys\u001b[0m\u001b[1;33m(\u001b[0m\u001b[1;33m)\u001b[0m\u001b[1;33m:\u001b[0m\u001b[1;33m\u001b[0m\u001b[0m\n",
        "\u001b[1;31mAttributeError\u001b[0m: 'numpy.float64' object has no attribute 'keys'"
       ]
      },
      {
       "output_type": "stream",
       "stream": "stdout",
       "text": [
        "True\n"
       ]
      }
     ],
     "prompt_number": 20
    },
    {
     "cell_type": "code",
     "collapsed": false,
     "input": [
      "#random.seed(12345)\n",
      "#numpy.random.seed( 12345 )\n",
      "#reload( difflib )\n",
      "#reload( readability )\n",
      "#reload( lxml )\n",
      "#dreload( difflib )\n",
      "#dreload( readability )\n",
      "#dreload( lxml )\n",
      "run3 = python_readability_f1_mean( extractor_training_objects, 250, 25 )"
     ],
     "language": "python",
     "metadata": {},
     "outputs": []
    },
    {
     "cell_type": "code",
     "collapsed": false,
     "input": [
      "print run1.keys() == run3.keys()\n",
      "print run1.keys() == run3.keys()\n",
      "\n",
      "for k in run1.keys():\n",
      "    if run1[ k] != run3[k]:\n",
      "        print k, run1[k], run3[k]"
     ],
     "language": "python",
     "metadata": {},
     "outputs": []
    },
    {
     "cell_type": "code",
     "collapsed": false,
     "input": [
      "bad_etos = [ eto for eto in extractor_training_objects if eto['downloads_id'] == 590957745 ]\n",
      "\n",
      "for x in range( 10):\n",
      "    print python_readability_f1_mean( bad_etos, 250, 25 )\n"
     ],
     "language": "python",
     "metadata": {},
     "outputs": []
    },
    {
     "cell_type": "code",
     "collapsed": false,
     "input": [
      "bad_etos = [ eto for eto in extractor_training_objects if eto['downloads_id'] == 590957745 ]\n",
      "\n",
      "for x in range( 10):\n",
      "    print python_readability_results( bad_etos[0], {} )\n"
     ],
     "language": "python",
     "metadata": {},
     "outputs": []
    },
    {
     "cell_type": "code",
     "collapsed": false,
     "input": [
      "text_outputs = []\n",
      "for x in range( 10):\n",
      "    text_outputs.append( extract_with_python_readability( bad_etos[0]['raw_content'] ) )\n",
      "\n",
      "print len( text_outputs )\n",
      "print len(set( text_outputs ) )"
     ],
     "language": "python",
     "metadata": {},
     "outputs": []
    },
    {
     "cell_type": "code",
     "collapsed": false,
     "input": [
      "isinstance( raw_content, unicode )\n",
      "import hashlib\n",
      "[ hashlib.md5( out_text ).hexdigest() for out_text in text_outputs2 ]"
     ],
     "language": "python",
     "metadata": {},
     "outputs": []
    },
    {
     "cell_type": "code",
     "collapsed": false,
     "input": [
      "text_outputs2 = []\n",
      "raw_content = bad_etos[0]['raw_content'] \n",
      "#import readability\n",
      "for x in range( 10):\n",
      "    reload( lxml.etree )\n",
      "    reload ( lxml.html )\n",
      "    reload( readability.cleaners )\n",
      "    reload( readability.encoding )\n",
      "    reload( readability)\n",
      "    reload( readability.htmls ) \n",
      "    #readability.htmls = lxml.html.HTMLParser(encoding='utf-8')\n",
      "    print readability.cleaners.html_cleaner    \n",
      "    print readability.htmls.utf8_parser\n",
      "\n",
      "    random.seed(12345)\n",
      "    numpy.random.seed( 12345 )\n",
      "    \n",
      "    print isinstance( raw_content, unicode )\n",
      "    \n",
      "    text_outputs2.append( readability.Document( raw_content ).summary() )\n",
      "\n",
      "print len( text_outputs2 )\n",
      "print len(set( text_outputs2 ) )"
     ],
     "language": "python",
     "metadata": {},
     "outputs": []
    },
    {
     "cell_type": "code",
     "collapsed": false,
     "input": [
      "set( text_outputs )"
     ],
     "language": "python",
     "metadata": {},
     "outputs": []
    },
    {
     "cell_type": "code",
     "collapsed": false,
     "input": [
      "sys.path"
     ],
     "language": "python",
     "metadata": {},
     "outputs": []
    },
    {
     "cell_type": "code",
     "collapsed": false,
     "input": [
      "readability.readability.total_siblings = 0 \n",
      "readability.readability.total_eval_siblings = 0 \n",
      "readability.readability.total_candidate_siblings = 0 \n",
      "readability.readability.num_articles = 0\n",
      "readability.readability.articles_with_siblings = 0\n",
      "\n",
      "for eto in extractor_training_objects:\n",
      "    \n",
      "    extract_with_python_readability( eto['raw_content'] )\n",
      "    \n",
      "print readability.readability.total_siblings\n",
      "print readability.readability.num_articles\n",
      "print float( readability.readability.total_siblings ) / readability.readability.num_articles\n",
      "\n",
      "print readability.readability.articles_with_siblings\n",
      "print readability.readability.total_candidate_siblings\n",
      "print float( readability.readability.total_candidate_siblings ) / readability.readability.num_articles\n",
      "\n",
      "print \n",
      "\n",
      "print readability.readability.total_eval_siblings\n",
      "print float( readability.readability.total_eval_siblings ) / readability.readability.num_articles\n"
     ],
     "language": "python",
     "metadata": {},
     "outputs": []
    },
    {
     "cell_type": "code",
     "collapsed": true,
     "input": [
      "#comp_res = [ comp_extractors( eto ) for eto in extractor_training_objects[ :10] ]\n",
      "#print comp_res\n",
      "#f1_s = [ res['python_readibilty']['f1'] for res in comp_res ]\n",
      "\n",
      "#print f1_s\n",
      "#print numpy.mean( f1_s )\n",
      "\n",
      "\n",
      "print python_readability_f1_mean( extractor_training_objects, 100000, 25 )\n",
      "print python_readability_f1_mean( extractor_training_objects, -10, 25 )\n",
      "print python_readability_f1_mean( extractor_training_objects, 10, 15 )"
     ],
     "language": "python",
     "metadata": {},
     "outputs": []
    },
    {
     "cell_type": "code",
     "collapsed": false,
     "input": [
      "opt_fun = lambda p : 1 - python_readability_f1_mean( extractor_training_objects[:400], retry_length=p[0], min_text_length=p[1])\n",
      "    \n",
      "#print opt_fun( [0, 250] )    \n",
      "\n",
      "#print opt_fun( [1000000000, 250] )    \n",
      "\n"
     ],
     "language": "python",
     "metadata": {},
     "outputs": []
    },
    {
     "cell_type": "code",
     "collapsed": false,
     "input": [
      "from operator import itemgetter, attrgetter, methodcaller\n",
      "\n",
      "defaults = { 'retry_length': 250, \n",
      "            'min_text_length':25 \n",
      "            }\n",
      "\n",
      "current_min_text_length = defaults['min_text_length']\n",
      "\n",
      "\n",
      "range = [0, 100]\n",
      "\n",
      "prev_values = []\n",
      "\n",
      "eval_with_param = lambda param : { 'param': param, 'result': opt_fun( [param, defaults['min_text_length'], param ]) }\n",
      "                                                                       \n",
      "prev_values = [ eval_with_param( param ) for param in [ 0, 300]]\n",
      "\n",
      "#print prev_values\n",
      "#prev_values.sort( key=itemgetter('result') )\n",
      "\n",
      "#print prev_values\n",
      "#prev_values.pop()\n",
      "#print prev_values\n",
      "old_value = opt_fun( [ defaults['retry_length'], current_min_text_length] )\n",
      "while True:\n",
      "    prev_values.sort( key=itemgetter('result') )\n",
      "    \n",
      "    if prev_values[0]['param'] == prev_values[1]['param']:\n",
      "        prev_values.pop()\n",
      "        break\n",
      "    \n",
      "    if abs(prev_values[0]['param'] - prev_values[1]['param']) == 1:\n",
      "        prev_values.pop()\n",
      "        break\n",
      "    \n",
      "    print prev_values\n",
      "    \n",
      "    new_param = int ( ( prev_values[0]['param'] + prev_values[1]['param'])/2 )\n",
      "    prev_values.pop()\n",
      "    \n",
      "    if new_param == prev_values[0]['param']:\n",
      "        break\n",
      "        \n",
      "    prev_values.append(  eval_with_param( new_param ) )\n",
      "    \n",
      "    \n",
      "\n",
      "print prev_values\n",
      "        \n",
      "    "
     ],
     "language": "python",
     "metadata": {},
     "outputs": []
    },
    {
     "cell_type": "code",
     "collapsed": false,
     "input": [
      "python_readability_cache = {}\n",
      "def cached_readability_f1( extractor_training_objects, p ):\n",
      "    \n",
      "    print 'cached_readability_f1( extractor_training_objects', p\n",
      "    \n",
      "    if id( extractor_training_objects ) not in python_readability_cache:\n",
      "        python_readability_cache[ id( extractor_training_objects ) ] = {}\n",
      "        \n",
      "    retry_length = max( -1, int( p[0] ) )\n",
      "    min_text_length = max( -1, int(p[1] ) )\n",
      "    \n",
      "    if retry_length not in python_readability_cache[ id( extractor_training_objects ) ]:\n",
      "        python_readability_cache[ id( extractor_training_objects ) ][ retry_length ] = {}\n",
      "        \n",
      "    if min_text_length not in python_readability_cache[ id( extractor_training_objects ) ][ retry_length ]:\n",
      "        \n",
      "        print 'cached_readability_f1 recalculating ', retry_length, min_text_length\n",
      "        \n",
      "        ret = python_readability_f1_mean( extractor_training_objects, \n",
      "                                     retry_length=retry_length, min_text_length=min_text_length)\n",
      "        python_readability_cache[ id( extractor_training_objects ) ][ retry_length ][min_text_length] = ret\n",
      "    else:\n",
      "        print 'cached_readability_f1 returning from cache', retry_length, min_text_length\n",
      "    \n",
      "    ret = python_readability_cache[ id( extractor_training_objects ) ][ retry_length ][min_text_length] \n",
      "\n",
      "    print 'f1', ret\n",
      "    \n",
      "    return ret"
     ],
     "language": "python",
     "metadata": {},
     "outputs": [],
     "prompt_number": 18
    },
    {
     "cell_type": "code",
     "collapsed": false,
     "input": [
      "#id(extractor_training_objects)\n",
      "cached_readability_f1( extractor_training_objects, [250, 25 ] )"
     ],
     "language": "python",
     "metadata": {},
     "outputs": [
      {
       "output_type": "stream",
       "stream": "stdout",
       "text": [
        "cached_readability_f1( extractor_training_objects [250, 25]\n",
        "cached_readability_f1 recalculating  250 25\n",
        "python_readibility_f1_mean retry_length 250 min_text_length 25\n",
        "f1"
       ]
      },
      {
       "output_type": "stream",
       "stream": "stdout",
       "text": [
        " 0.872645793218\n"
       ]
      },
      {
       "metadata": {},
       "output_type": "pyout",
       "prompt_number": 19,
       "text": [
        "0.87264579321822566"
       ]
      }
     ],
     "prompt_number": 19
    },
    {
     "cell_type": "code",
     "collapsed": true,
     "input": [
      "import scipy.optimize\n",
      "\n",
      "#f = lambda var : opt_fun( [defaults['retry_length'], var])\n",
      "\n",
      "#f( 2 ) \n",
      "opt_result = scipy.optimize.minimize(  lambda p : 1- cached_readability_f1( extractor_training_objects, p ), \n",
      "                                     [ 150, 20 ], method='SLSQP', bounds=[ [1,500],[0,50]],\n",
      "                                     options={ 'maxiter': 1, 'disp': True} )\n",
      "print opt_result\n",
      "opt_result\n",
      "#opt_result.values()"
     ],
     "language": "python",
     "metadata": {},
     "outputs": [
      {
       "output_type": "stream",
       "stream": "stdout",
       "text": [
        "cached_readability_f1( extractor_training_objects [ 150.   20.]\n",
        "cached_readability_f1 recalculating  150 20\n",
        "python_readibility_f1_mean retry_length 150 min_text_length 20\n",
        "f1"
       ]
      },
      {
       "output_type": "stream",
       "stream": "stdout",
       "text": [
        " 0.87309397635\n",
        "cached_readability_f1( extractor_training_objects [ 150.   20.]\n",
        "cached_readability_f1 returning from cache 150 20\n",
        "f1 0.87309397635\n",
        "cached_readability_f1( extractor_training_objects [ 150.00000001   20.        ]\n",
        "cached_readability_f1 returning from cache 150 20\n",
        "f1 0.87309397635\n",
        "cached_readability_f1( extractor_training_objects [ 150.           20.00000001]\n",
        "cached_readability_f1 returning from cache 150 20\n",
        "f1 0.87309397635\n",
        "Optimization terminated successfully.    (Exit mode 0)\n",
        "            Current function value: 0.12690602365\n",
        "            Iterations: 1\n",
        "            Function evaluations: 4\n",
        "            Gradient evaluations: 1\n",
        "  status: 0\n",
        " success: True\n",
        "    njev: 1\n",
        "    nfev: 4\n",
        "     fun: 0.1269060236499705\n",
        "       x: array([ 150.,   20.])\n",
        " message: 'Optimization terminated successfully.'\n",
        "     jac: array([ 0.,  0.,  0.])\n",
        "     nit: 1\n"
       ]
      },
      {
       "metadata": {},
       "output_type": "pyout",
       "prompt_number": 20,
       "text": [
        "  status: 0\n",
        " success: True\n",
        "    njev: 1\n",
        "    nfev: 4\n",
        "     fun: 0.1269060236499705\n",
        "       x: array([ 150.,   20.])\n",
        " message: 'Optimization terminated successfully.'\n",
        "     jac: array([ 0.,  0.,  0.])\n",
        "     nit: 1"
       ]
      }
     ],
     "prompt_number": 20
    },
    {
     "cell_type": "code",
     "collapsed": true,
     "input": [
      "import scipy.optimize\n",
      "\n",
      "#f = lambda var : opt_fun( [defaults['retry_length'], var])\n",
      "\n",
      "#f( 2 ) \n",
      "opt_result = scipy.optimize.minimize_scalar(  \n",
      "                                            lambda min_text_length : 1- \n",
      "                                            cached_readability_f1( extractor_training_objects, [ 250, min_text_length] ), \n",
      "                                     bounds=[ 0, 50 ], method='Brent', \n",
      "                                     options={ 'maxiter': 10, 'disp': True} )\n",
      "print opt_result\n",
      "opt_result\n",
      "#opt_result.values()"
     ],
     "language": "python",
     "metadata": {},
     "outputs": [
      {
       "output_type": "stream",
       "stream": "stdout",
       "text": [
        "cached_readability_f1( extractor_training_objects [250, 0.0]\n",
        "cached_readability_f1 recalculating  250 0\n",
        "python_readibility_f1_mean retry_length 250 min_text_length 0\n",
        "f1"
       ]
      },
      {
       "output_type": "stream",
       "stream": "stdout",
       "text": [
        " 0.853136108401\n",
        "cached_readability_f1( extractor_training_objects [250, 1.0]\n",
        "cached_readability_f1 recalculating  250 1\n",
        "python_readibility_f1_mean retry_length 250 min_text_length 1\n",
        "f1"
       ]
      },
      {
       "output_type": "stream",
       "stream": "stdout",
       "text": [
        " 0.858293842755\n",
        "cached_readability_f1( extractor_training_objects [250, 2.6180339999999998]\n",
        "cached_readability_f1 recalculating  250 2\n",
        "python_readibility_f1_mean retry_length 250 min_text_length 2\n",
        "f1"
       ]
      },
      {
       "output_type": "stream",
       "stream": "stdout",
       "text": [
        " 0.863455818915\n",
        "cached_readability_f1( extractor_training_objects [250, 3.9316174053561492]\n",
        "cached_readability_f1 recalculating  250 3\n",
        "python_readibility_f1_mean retry_length 250 min_text_length 3\n",
        "f1"
       ]
      },
      {
       "output_type": "stream",
       "stream": "stdout",
       "text": [
        " 0.862857576238\n",
        "cached_readability_f1( extractor_training_objects [250, 2.6180339999999998]\n",
        "cached_readability_f1 returning from cache 250 2\n",
        "f1 0.863455818915\n",
        "cached_readability_f1( extractor_training_objects [250, 2.000000025156]\n",
        "cached_readability_f1 returning from cache 250 2\n",
        "f1 0.863455818915\n",
        "cached_readability_f1( extractor_training_objects [250, 1.6180340155472632]\n",
        "cached_readability_f1 returning from cache 250 1\n",
        "f1 0.858293842755\n",
        "cached_readability_f1( extractor_training_objects [250, 2.3090170125779999]\n",
        "cached_readability_f1 returning from cache 250 2\n",
        "f1 0.863455818915\n",
        "cached_readability_f1( extractor_training_objects [250, 2.1909830299603681]\n",
        "cached_readability_f1 returning from cache 250 2\n",
        "f1 0.863455818915\n",
        "cached_readability_f1( extractor_training_objects [250, 2.1180340155472628]\n",
        "cached_readability_f1 returning from cache 250 2\n",
        "f1 0.863455818915\n",
        "cached_readability_f1( extractor_training_objects [250, 2.0729490443734737]\n",
        "cached_readability_f1 returning from cache 250 2\n",
        "f1 0.863455818915\n",
        "cached_readability_f1( extractor_training_objects [250, 2.0450849992990521]\n",
        "cached_readability_f1 returning from cache 250 2\n",
        "f1 0.863455818915\n",
        "cached_readability_f1( extractor_training_objects [250, 2.027864072065527]\n",
        "cached_readability_f1 returning from cache 250 2\n",
        "f1 0.863455818915\n",
        "cached_readability_f1( extractor_training_objects [250, 2.0172209535236827]\n",
        "cached_readability_f1 returning from cache 250 2\n",
        "f1 0.863455818915\n",
        "cached_readability_f1( extractor_training_objects [250, 2.0106431443987924]\n",
        "cached_readability_f1 returning from cache 250 2\n",
        "f1 0.863455818915\n",
        "  fun: 0.13654418108497735\n",
        " nfev: 11\n",
        "  nit: 10\n",
        "    x: 2.0106431443987924\n"
       ]
      },
      {
       "output_type": "stream",
       "stream": "stderr",
       "text": [
        "-c:10: OptimizeWarning: Unknown solver options: disp\n"
       ]
      },
      {
       "metadata": {},
       "output_type": "pyout",
       "prompt_number": 21,
       "text": [
        "  fun: 0.13654418108497735\n",
        " nfev: 11\n",
        "  nit: 10\n",
        "    x: 2.0106431443987924"
       ]
      }
     ],
     "prompt_number": 21
    },
    {
     "cell_type": "code",
     "collapsed": true,
     "input": [
      "import scipy.optimize\n",
      "\n",
      "opt_result = scipy.optimize.brute( lambda min_text_length : 1 - \n",
      "                                            cached_readability_f1( extractor_training_objects, [ 250, min_text_length] ),\n",
      "                                  ranges=[ slice( 0, 50, 1 )], disp=True, full_output=True)\n",
      "print opt_result\n",
      "opt_result\n",
      "\n",
      "#opt_result = scipy.optimize.minimize( opt_fun, [ 0, 0 ], method='L-BFGS-B', bounds=[ [0,400],[0,100]],options={ 'maxiter': 2000} )\n",
      "#print opt_result\n",
      "#opt_result.values()"
     ],
     "language": "python",
     "metadata": {},
     "outputs": [
      {
       "output_type": "stream",
       "stream": "stdout",
       "text": [
        "cached_readability_f1( extractor_training_objects [250, array(0)]\n",
        "cached_readability_f1 returning from cache 250 0\n",
        "f1 0.853136108401\n",
        "cached_readability_f1( extractor_training_objects [250, array(0)]\n",
        "cached_readability_f1 returning from cache 250 0\n",
        "f1 0.853136108401\n",
        "cached_readability_f1( extractor_training_objects [250, array(1)]\n",
        "cached_readability_f1 returning from cache 250 1\n",
        "f1 0.858293842755\n",
        "cached_readability_f1( extractor_training_objects [250, array(2)]\n",
        "cached_readability_f1 returning from cache 250 2\n",
        "f1 0.863455818915\n",
        "cached_readability_f1( extractor_training_objects [250, array(3)]\n",
        "cached_readability_f1 returning from cache 250 3\n",
        "f1 0.862857576238\n",
        "cached_readability_f1( extractor_training_objects [250, array(4)]\n",
        "cached_readability_f1 recalculating  250 4\n",
        "python_readibility_f1_mean retry_length 250 min_text_length 4\n",
        "f1"
       ]
      },
      {
       "output_type": "stream",
       "stream": "stdout",
       "text": [
        " 0.861274188541\n",
        "cached_readability_f1( extractor_training_objects [250, array(5)]\n",
        "cached_readability_f1 recalculating  250 5\n",
        "python_readibility_f1_mean retry_length 250 min_text_length 5\n",
        "f1"
       ]
      },
      {
       "output_type": "stream",
       "stream": "stdout",
       "text": [
        " 0.8613450712\n",
        "cached_readability_f1( extractor_training_objects [250, array(6)]\n",
        "cached_readability_f1 recalculating  250 6\n",
        "python_readibility_f1_mean retry_length 250 min_text_length 6\n",
        "f1"
       ]
      },
      {
       "output_type": "stream",
       "stream": "stdout",
       "text": [
        " 0.862453162336\n",
        "cached_readability_f1( extractor_training_objects [250, array(7)]\n",
        "cached_readability_f1 recalculating  250 7\n",
        "python_readibility_f1_mean retry_length 250 min_text_length 7\n",
        "f1"
       ]
      },
      {
       "output_type": "stream",
       "stream": "stdout",
       "text": [
        " 0.862457542237\n",
        "cached_readability_f1( extractor_training_objects [250, array(8)]\n",
        "cached_readability_f1 recalculating  250 8\n",
        "python_readibility_f1_mean retry_length 250 min_text_length 8\n",
        "f1"
       ]
      },
      {
       "output_type": "stream",
       "stream": "stdout",
       "text": [
        " 0.863076066095\n",
        "cached_readability_f1( extractor_training_objects [250, array(9)]\n",
        "cached_readability_f1 recalculating  250 9\n",
        "python_readibility_f1_mean retry_length 250 min_text_length 9\n",
        "f1"
       ]
      },
      {
       "output_type": "stream",
       "stream": "stdout",
       "text": [
        " 0.863105440015\n",
        "cached_readability_f1( extractor_training_objects [250, array(10)]\n",
        "cached_readability_f1 recalculating  250 10\n",
        "python_readibility_f1_mean retry_length 250 min_text_length 10\n",
        "f1"
       ]
      },
      {
       "output_type": "stream",
       "stream": "stdout",
       "text": [
        " 0.863377114678\n",
        "cached_readability_f1( extractor_training_objects [250, array(11)]\n",
        "cached_readability_f1 recalculating  250 11\n",
        "python_readibility_f1_mean retry_length 250 min_text_length 11\n",
        "f1"
       ]
      },
      {
       "output_type": "stream",
       "stream": "stdout",
       "text": [
        " 0.863669699476\n",
        "cached_readability_f1( extractor_training_objects [250, array(12)]\n",
        "cached_readability_f1 recalculating  250 12\n",
        "python_readibility_f1_mean retry_length 250 min_text_length 12\n",
        "f1"
       ]
      },
      {
       "output_type": "stream",
       "stream": "stdout",
       "text": [
        " 0.863568604576\n",
        "cached_readability_f1( extractor_training_objects [250, array(13)]\n",
        "cached_readability_f1 recalculating  250 13\n",
        "python_readibility_f1_mean retry_length 250 min_text_length 13\n",
        "f1"
       ]
      },
      {
       "output_type": "stream",
       "stream": "stdout",
       "text": [
        " 0.863577503286\n",
        "cached_readability_f1( extractor_training_objects [250, array(14)]\n",
        "cached_readability_f1 recalculating  250 14\n",
        "python_readibility_f1_mean retry_length 250 min_text_length 14\n",
        "f1"
       ]
      },
      {
       "output_type": "stream",
       "stream": "stdout",
       "text": [
        " 0.863310604\n",
        "cached_readability_f1( extractor_training_objects [250, array(15)]\n",
        "cached_readability_f1 recalculating  250 15\n",
        "python_readibility_f1_mean retry_length 250 min_text_length 15\n",
        "f1"
       ]
      },
      {
       "output_type": "stream",
       "stream": "stdout",
       "text": [
        " 0.864613377141\n",
        "cached_readability_f1( extractor_training_objects [250, array(16)]\n",
        "cached_readability_f1 recalculating  250 16\n",
        "python_readibility_f1_mean retry_length 250 min_text_length 16\n",
        "f1"
       ]
      },
      {
       "output_type": "stream",
       "stream": "stdout",
       "text": [
        " 0.868975375831\n",
        "cached_readability_f1( extractor_training_objects [250, array(17)]\n",
        "cached_readability_f1 recalculating  250 17\n",
        "python_readibility_f1_mean retry_length 250 min_text_length 17\n",
        "f1"
       ]
      },
      {
       "output_type": "stream",
       "stream": "stdout",
       "text": [
        " 0.868475153495\n",
        "cached_readability_f1( extractor_training_objects [250, array(18)]\n",
        "cached_readability_f1 recalculating  250 18\n",
        "python_readibility_f1_mean retry_length 250 min_text_length 18\n",
        "f1"
       ]
      },
      {
       "output_type": "stream",
       "stream": "stdout",
       "text": [
        " 0.868458944127\n",
        "cached_readability_f1( extractor_training_objects [250, array(19)]\n",
        "cached_readability_f1 recalculating  250 19\n",
        "python_readibility_f1_mean retry_length 250 min_text_length 19\n",
        "f1"
       ]
      },
      {
       "output_type": "stream",
       "stream": "stdout",
       "text": [
        " 0.868639521797\n",
        "cached_readability_f1( extractor_training_objects [250, array(20)]\n",
        "cached_readability_f1 recalculating  250 20\n",
        "python_readibility_f1_mean retry_length 250 min_text_length 20\n",
        "f1"
       ]
      },
      {
       "output_type": "stream",
       "stream": "stdout",
       "text": [
        " 0.87309397635\n",
        "cached_readability_f1( extractor_training_objects [250, array(21)]\n",
        "cached_readability_f1 recalculating  250 21\n",
        "python_readibility_f1_mean retry_length 250 min_text_length 21\n",
        "f1"
       ]
      },
      {
       "output_type": "stream",
       "stream": "stdout",
       "text": [
        " 0.873086016896\n",
        "cached_readability_f1( extractor_training_objects [250, array(22)]\n",
        "cached_readability_f1 recalculating  250 22\n",
        "python_readibility_f1_mean retry_length 250 min_text_length 22\n",
        "f1"
       ]
      },
      {
       "output_type": "stream",
       "stream": "stdout",
       "text": [
        " 0.873132316032\n",
        "cached_readability_f1( extractor_training_objects [250, array(23)]\n",
        "cached_readability_f1 recalculating  250 23\n",
        "python_readibility_f1_mean retry_length 250 min_text_length 23\n",
        "f1"
       ]
      },
      {
       "output_type": "stream",
       "stream": "stdout",
       "text": [
        " 0.873138270656\n",
        "cached_readability_f1( extractor_training_objects [250, array(24)]\n",
        "cached_readability_f1 recalculating  250 24\n",
        "python_readibility_f1_mean retry_length 250 min_text_length 24\n",
        "f1"
       ]
      },
      {
       "output_type": "stream",
       "stream": "stdout",
       "text": [
        " 0.872564886826\n",
        "cached_readability_f1( extractor_training_objects [250, array(25)]\n",
        "cached_readability_f1 returning from cache 250 25\n",
        "f1 0.872645793218\n",
        "cached_readability_f1( extractor_training_objects [250, array(26)]\n",
        "cached_readability_f1 recalculating  250 26\n",
        "python_readibility_f1_mean retry_length 250 min_text_length 26\n",
        "f1"
       ]
      },
      {
       "output_type": "stream",
       "stream": "stdout",
       "text": [
        " 0.872521081951\n",
        "cached_readability_f1( extractor_training_objects [250, array(27)]\n",
        "cached_readability_f1 recalculating  250 27\n",
        "python_readibility_f1_mean retry_length 250 min_text_length 27\n",
        "f1"
       ]
      },
      {
       "output_type": "stream",
       "stream": "stdout",
       "text": [
        " 0.87252952677\n",
        "cached_readability_f1( extractor_training_objects [250, array(28)]\n",
        "cached_readability_f1 recalculating  250 28\n",
        "python_readibility_f1_mean retry_length 250 min_text_length 28\n",
        "f1"
       ]
      },
      {
       "output_type": "stream",
       "stream": "stdout",
       "text": [
        " 0.872519060748\n",
        "cached_readability_f1( extractor_training_objects [250, array(29)]\n",
        "cached_readability_f1 recalculating  250 29\n",
        "python_readibility_f1_mean retry_length 250 min_text_length 29\n",
        "f1"
       ]
      },
      {
       "output_type": "stream",
       "stream": "stdout",
       "text": [
        " 0.872656142\n",
        "cached_readability_f1( extractor_training_objects [250, array(30)]\n",
        "cached_readability_f1 recalculating  250 30\n",
        "python_readibility_f1_mean retry_length 250 min_text_length 30\n",
        "f1"
       ]
      },
      {
       "output_type": "stream",
       "stream": "stdout",
       "text": [
        " 0.872646791286\n",
        "cached_readability_f1( extractor_training_objects [250, array(31)]\n",
        "cached_readability_f1 recalculating  250 31\n",
        "python_readibility_f1_mean retry_length 250 min_text_length 31\n",
        "f1"
       ]
      },
      {
       "output_type": "stream",
       "stream": "stdout",
       "text": [
        " 0.872642970107\n",
        "cached_readability_f1( extractor_training_objects [250, array(32)]\n",
        "cached_readability_f1 recalculating  250 32\n",
        "python_readibility_f1_mean retry_length 250 min_text_length 32\n",
        "f1"
       ]
      },
      {
       "output_type": "stream",
       "stream": "stdout",
       "text": [
        " 0.869571246325\n",
        "cached_readability_f1( extractor_training_objects [250, array(33)]\n",
        "cached_readability_f1 recalculating  250 33\n",
        "python_readibility_f1_mean retry_length 250 min_text_length 33\n",
        "f1"
       ]
      },
      {
       "output_type": "stream",
       "stream": "stdout",
       "text": [
        " 0.868922101161\n",
        "cached_readability_f1( extractor_training_objects [250, array(34)]\n",
        "cached_readability_f1 recalculating  250 34\n",
        "python_readibility_f1_mean retry_length 250 min_text_length 34\n",
        "f1"
       ]
      },
      {
       "output_type": "stream",
       "stream": "stdout",
       "text": [
        " 0.868929327314\n",
        "cached_readability_f1( extractor_training_objects [250, array(35)]\n",
        "cached_readability_f1 recalculating  250 35\n",
        "python_readibility_f1_mean retry_length 250 min_text_length 35\n",
        "f1"
       ]
      },
      {
       "output_type": "stream",
       "stream": "stdout",
       "text": [
        " 0.868966511262\n",
        "cached_readability_f1( extractor_training_objects [250, array(36)]\n",
        "cached_readability_f1 recalculating  250 36\n",
        "python_readibility_f1_mean retry_length 250 min_text_length 36\n",
        "f1"
       ]
      },
      {
       "output_type": "stream",
       "stream": "stdout",
       "text": [
        " 0.868977216502\n",
        "cached_readability_f1( extractor_training_objects [250, array(37)]\n",
        "cached_readability_f1 recalculating  250 37\n",
        "python_readibility_f1_mean retry_length 250 min_text_length 37\n",
        "f1"
       ]
      },
      {
       "output_type": "stream",
       "stream": "stdout",
       "text": [
        " 0.867992967316\n",
        "cached_readability_f1( extractor_training_objects [250, array(38)]\n",
        "cached_readability_f1 recalculating  250 38\n",
        "python_readibility_f1_mean retry_length 250 min_text_length 38\n",
        "f1"
       ]
      },
      {
       "output_type": "stream",
       "stream": "stdout",
       "text": [
        " 0.867986688852\n",
        "cached_readability_f1( extractor_training_objects [250, array(39)]\n",
        "cached_readability_f1 recalculating  250 39\n",
        "python_readibility_f1_mean retry_length 250 min_text_length 39\n",
        "f1"
       ]
      },
      {
       "output_type": "stream",
       "stream": "stdout",
       "text": [
        " 0.868016418904\n",
        "cached_readability_f1( extractor_training_objects [250, array(40)]\n",
        "cached_readability_f1 recalculating  250 40\n",
        "python_readibility_f1_mean retry_length 250 min_text_length 40\n",
        "f1"
       ]
      },
      {
       "output_type": "stream",
       "stream": "stdout",
       "text": [
        " 0.864115091841\n",
        "cached_readability_f1( extractor_training_objects [250, array(41)]\n",
        "cached_readability_f1 recalculating  250 41\n",
        "python_readibility_f1_mean retry_length 250 min_text_length 41\n",
        "f1"
       ]
      },
      {
       "output_type": "stream",
       "stream": "stdout",
       "text": [
        " 0.864115091841\n",
        "cached_readability_f1( extractor_training_objects [250, array(42)]\n",
        "cached_readability_f1 recalculating  250 42\n",
        "python_readibility_f1_mean retry_length 250 min_text_length 42\n",
        "f1"
       ]
      },
      {
       "output_type": "stream",
       "stream": "stdout",
       "text": [
        " 0.864096998521\n",
        "cached_readability_f1( extractor_training_objects [250, array(43)]\n",
        "cached_readability_f1 recalculating  250 43\n",
        "python_readibility_f1_mean retry_length 250 min_text_length 43\n",
        "f1"
       ]
      },
      {
       "output_type": "stream",
       "stream": "stdout",
       "text": [
        " 0.864740801335\n",
        "cached_readability_f1( extractor_training_objects [250, array(44)]\n",
        "cached_readability_f1 recalculating  250 44\n",
        "python_readibility_f1_mean retry_length 250 min_text_length 44\n",
        "f1"
       ]
      },
      {
       "output_type": "stream",
       "stream": "stdout",
       "text": [
        " 0.86552503093\n",
        "cached_readability_f1( extractor_training_objects [250, array(45)]\n",
        "cached_readability_f1 recalculating  250 45\n",
        "python_readibility_f1_mean retry_length 250 min_text_length 45\n",
        "f1"
       ]
      },
      {
       "output_type": "stream",
       "stream": "stdout",
       "text": [
        " 0.86860899875\n",
        "cached_readability_f1( extractor_training_objects [250, array(46)]\n",
        "cached_readability_f1 recalculating  250 46\n",
        "python_readibility_f1_mean retry_length 250 min_text_length 46\n",
        "f1"
       ]
      },
      {
       "output_type": "stream",
       "stream": "stdout",
       "text": [
        " 0.869086200182\n",
        "cached_readability_f1( extractor_training_objects [250, array(47)]\n",
        "cached_readability_f1 recalculating  250 47\n",
        "python_readibility_f1_mean retry_length 250 min_text_length 47\n",
        "f1"
       ]
      },
      {
       "output_type": "stream",
       "stream": "stdout",
       "text": [
        " 0.869091459555\n",
        "cached_readability_f1( extractor_training_objects [250, array(48)]\n",
        "cached_readability_f1 recalculating  250 48\n",
        "python_readibility_f1_mean retry_length 250 min_text_length 48\n",
        "f1"
       ]
      },
      {
       "output_type": "stream",
       "stream": "stdout",
       "text": [
        " 0.868904788112\n",
        "cached_readability_f1( extractor_training_objects [250, array(49)]\n",
        "cached_readability_f1 recalculating  250 49\n",
        "python_readibility_f1_mean retry_length 250 min_text_length 49\n",
        "f1"
       ]
      },
      {
       "output_type": "stream",
       "stream": "stdout",
       "text": [
        " 0.868865339867\n",
        "cached_readability_f1( extractor_training_objects [250, array([ 23.])]\n",
        "cached_readability_f1 returning from cache 250 23\n",
        "f1 0.873138270656\n",
        "cached_readability_f1( extractor_training_objects [250, array([ 24.15])]\n",
        "cached_readability_f1 returning from cache 250 24\n",
        "f1 0.872564886826\n",
        "cached_readability_f1( extractor_training_objects [250, array([ 21.85])]\n",
        "cached_readability_f1 returning from cache 250 21\n",
        "f1 0.873086016896\n",
        "cached_readability_f1( extractor_training_objects [250, array([ 22.425])]\n",
        "cached_readability_f1 returning from cache 250 22\n",
        "f1 0.873132316032\n",
        "cached_readability_f1( extractor_training_objects [250, array([ 23.575])]\n",
        "cached_readability_f1 returning from cache 250 23\n",
        "f1 0.873138270656\n",
        "cached_readability_f1( extractor_training_objects [250, array([ 23.2875])]\n",
        "cached_readability_f1 returning from cache 250 23\n",
        "f1 0.873138270656\n",
        "cached_readability_f1( extractor_training_objects [250, array([ 22.7125])]\n",
        "cached_readability_f1 returning from cache 250 22\n",
        "f1 0.873132316032\n",
        "cached_readability_f1( extractor_training_objects [250, array([ 23.14375])]\n",
        "cached_readability_f1 returning from cache 250 23\n",
        "f1 0.873138270656\n",
        "cached_readability_f1( extractor_training_objects [250, array([ 23.14375])]\n",
        "cached_readability_f1 returning from cache 250 23\n",
        "f1 0.873138270656\n",
        "cached_readability_f1( extractor_training_objects [250, array([ 22.85625])]\n",
        "cached_readability_f1 returning from cache 250 22\n",
        "f1 0.873132316032\n",
        "cached_readability_f1( extractor_training_objects [250, array([ 23.071875])]\n",
        "cached_readability_f1 returning from cache 250 23\n",
        "f1 0.873138270656\n",
        "cached_readability_f1( extractor_training_objects [250, array([ 23.071875])]\n",
        "cached_readability_f1 returning from cache 250 23\n",
        "f1 0.873138270656\n",
        "cached_readability_f1( extractor_training_objects [250, array([ 22.928125])]\n",
        "cached_readability_f1 returning from cache 250 22\n",
        "f1 0.873132316032\n",
        "cached_readability_f1( extractor_training_objects [250, array([ 23.0359375])]\n",
        "cached_readability_f1 returning from cache 250 23\n",
        "f1 0.873138270656\n",
        "cached_readability_f1( extractor_training_objects [250, array([ 23.0359375])]\n",
        "cached_readability_f1 returning from cache 250 23\n",
        "f1 0.873138270656\n",
        "cached_readability_f1( extractor_training_objects [250, array([ 22.9640625])]\n",
        "cached_readability_f1 returning from cache 250 22\n",
        "f1 0.873132316032\n",
        "cached_readability_f1( extractor_training_objects [250, array([ 23.01796875])]\n",
        "cached_readability_f1 returning from cache 250 23\n",
        "f1 0.873138270656\n",
        "cached_readability_f1( extractor_training_objects [250, array([ 23.01796875])]\n",
        "cached_readability_f1 returning from cache 250 23\n",
        "f1 0.873138270656\n",
        "cached_readability_f1( extractor_training_objects [250, array([ 22.98203125])]\n",
        "cached_readability_f1 returning from cache 250 22\n",
        "f1 0.873132316032\n",
        "cached_readability_f1( extractor_training_objects [250, array([ 23.00898438])]\n",
        "cached_readability_f1 returning from cache 250 23\n",
        "f1 0.873138270656\n",
        "cached_readability_f1( extractor_training_objects [250, array([ 23.00898438])]\n",
        "cached_readability_f1 returning from cache 250 23\n",
        "f1 0.873138270656\n",
        "cached_readability_f1( extractor_training_objects [250, array([ 22.99101562])]\n",
        "cached_readability_f1 returning from cache 250 22\n",
        "f1 0.873132316032\n",
        "cached_readability_f1( extractor_training_objects [250, array([ 23.00449219])]\n",
        "cached_readability_f1 returning from cache 250 23\n",
        "f1 0.873138270656\n",
        "cached_readability_f1( extractor_training_objects [250, array([ 23.00449219])]\n",
        "cached_readability_f1 returning from cache 250 23\n",
        "f1 0.873138270656\n",
        "cached_readability_f1( extractor_training_objects [250, array([ 22.99550781])]\n",
        "cached_readability_f1 returning from cache 250 22\n",
        "f1 0.873132316032\n",
        "cached_readability_f1( extractor_training_objects [250, array([ 23.00224609])]\n",
        "cached_readability_f1 returning from cache 250 23\n",
        "f1 0.873138270656\n",
        "cached_readability_f1( extractor_training_objects [250, array([ 23.00224609])]\n",
        "cached_readability_f1 returning from cache 250 23\n",
        "f1 0.873138270656\n",
        "cached_readability_f1( extractor_training_objects [250, array([ 22.99775391])]\n",
        "cached_readability_f1 returning from cache 250 22\n",
        "f1 0.873132316032\n",
        "cached_readability_f1( extractor_training_objects [250, array([ 23.00112305])]\n",
        "cached_readability_f1 returning from cache 250 23\n",
        "f1 0.873138270656\n",
        "cached_readability_f1( extractor_training_objects [250, array([ 23.00112305])]\n",
        "cached_readability_f1 returning from cache 250 23\n",
        "f1 0.873138270656\n",
        "cached_readability_f1( extractor_training_objects [250, array([ 22.99887695])]\n",
        "cached_readability_f1 returning from cache 250 22\n",
        "f1 0.873132316032\n",
        "cached_readability_f1( extractor_training_objects [250, array([ 23.00056152])]\n",
        "cached_readability_f1 returning from cache 250 23\n",
        "f1 0.873138270656\n",
        "cached_readability_f1( extractor_training_objects [250, array([ 23.00056152])]\n",
        "cached_readability_f1 returning from cache 250 23\n",
        "f1 0.873138270656\n",
        "cached_readability_f1( extractor_training_objects [250, array([ 22.99943848])]\n",
        "cached_readability_f1 returning from cache 250 22\n",
        "f1 0.873132316032\n",
        "cached_readability_f1( extractor_training_objects [250, array([ 23.00028076])]\n",
        "cached_readability_f1 returning from cache 250 23\n",
        "f1 0.873138270656\n",
        "cached_readability_f1( extractor_training_objects [250, array([ 23.00028076])]\n",
        "cached_readability_f1 returning from cache 250 23\n",
        "f1 0.873138270656\n",
        "cached_readability_f1( extractor_training_objects [250, array([ 22.99971924])]\n",
        "cached_readability_f1 returning from cache 250 22\n",
        "f1 0.873132316032\n",
        "cached_readability_f1( extractor_training_objects [250, array([ 23.00014038])]\n",
        "cached_readability_f1 returning from cache 250 23\n",
        "f1 0.873138270656\n",
        "cached_readability_f1( extractor_training_objects [250, array([ 23.00014038])]\n",
        "cached_readability_f1 returning from cache 250 23\n",
        "f1 0.873138270656\n",
        "cached_readability_f1( extractor_training_objects [250, array([ 22.99985962])]\n",
        "cached_readability_f1 returning from cache 250 22\n",
        "f1 0.873132316032\n",
        "cached_readability_f1( extractor_training_objects [250, array([ 23.00007019])]\n",
        "cached_readability_f1 returning from cache 250 23\n",
        "f1 0.873138270656\n",
        "cached_readability_f1( extractor_training_objects [250, array([ 23.00007019])]\n",
        "cached_readability_f1 returning from cache 250 23\n",
        "f1 0.873138270656\n",
        "Optimization terminated successfully.\n",
        "         Current function value: 0.126862\n",
        "         Iterations: 15\n",
        "         Function evaluations: 42\n",
        "(array([ 23.]), 0.12686172934431161, array([ 0,  1,  2,  3,  4,  5,  6,  7,  8,  9, 10, 11, 12, 13, 14, 15, 16,\n",
        "       17, 18, 19, 20, 21, 22, 23, 24, 25, 26, 27, 28, 29, 30, 31, 32, 33,\n",
        "       34, 35, 36, 37, 38, 39, 40, 41, 42, 43, 44, 45, 46, 47, 48, 49]), array([ 0.14686389,  0.14170616,  0.13654418,  0.13714242,  0.13872581,\n",
        "        0.13865493,  0.13754684,  0.13754246,  0.13692393,  0.13689456,\n",
        "        0.13662289,  0.1363303 ,  0.1364314 ,  0.1364225 ,  0.1366894 ,\n",
        "        0.13538662,  0.13102462,  0.13152485,  0.13154106,  0.13136048,\n",
        "        0.12690602,  0.12691398,  0.12686768,  0.12686173,  0.12743511,\n",
        "        0.12735421,  0.12747892,  0.12747047,  0.12748094,  0.12734386,\n",
        "        0.12735321,  0.12735703,  0.13042875,  0.1310779 ,  0.13107067,\n",
        "        0.13103349,  0.13102278,  0.13200703,  0.13201331,  0.13198358,\n",
        "        0.13588491,  0.13588491,  0.135903  ,  0.1352592 ,  0.13447497,\n",
        "        0.131391  ,  0.1309138 ,  0.13090854,  0.13109521,  0.13113466]))\n"
       ]
      },
      {
       "metadata": {},
       "output_type": "pyout",
       "prompt_number": 22,
       "text": [
        "(array([ 23.]),\n",
        " 0.12686172934431161,\n",
        " array([ 0,  1,  2,  3,  4,  5,  6,  7,  8,  9, 10, 11, 12, 13, 14, 15, 16,\n",
        "       17, 18, 19, 20, 21, 22, 23, 24, 25, 26, 27, 28, 29, 30, 31, 32, 33,\n",
        "       34, 35, 36, 37, 38, 39, 40, 41, 42, 43, 44, 45, 46, 47, 48, 49]),\n",
        " array([ 0.14686389,  0.14170616,  0.13654418,  0.13714242,  0.13872581,\n",
        "        0.13865493,  0.13754684,  0.13754246,  0.13692393,  0.13689456,\n",
        "        0.13662289,  0.1363303 ,  0.1364314 ,  0.1364225 ,  0.1366894 ,\n",
        "        0.13538662,  0.13102462,  0.13152485,  0.13154106,  0.13136048,\n",
        "        0.12690602,  0.12691398,  0.12686768,  0.12686173,  0.12743511,\n",
        "        0.12735421,  0.12747892,  0.12747047,  0.12748094,  0.12734386,\n",
        "        0.12735321,  0.12735703,  0.13042875,  0.1310779 ,  0.13107067,\n",
        "        0.13103349,  0.13102278,  0.13200703,  0.13201331,  0.13198358,\n",
        "        0.13588491,  0.13588491,  0.135903  ,  0.1352592 ,  0.13447497,\n",
        "        0.131391  ,  0.1309138 ,  0.13090854,  0.13109521,  0.13113466]))"
       ]
      }
     ],
     "prompt_number": 22
    },
    {
     "cell_type": "code",
     "collapsed": false,
     "input": [
      "import pandas as pd\n",
      "zip( opt_result[2], [ 1 - x for x in opt_result[3]]) \n"
     ],
     "language": "python",
     "metadata": {},
     "outputs": [
      {
       "metadata": {},
       "output_type": "pyout",
       "prompt_number": 23,
       "text": [
        "[(0, 0.85313610840093612),\n",
        " (1, 0.85829384275495046),\n",
        " (2, 0.86345581891502265),\n",
        " (3, 0.86285757623811532),\n",
        " (4, 0.86127418854127136),\n",
        " (5, 0.86134507119991166),\n",
        " (6, 0.86245316233561975),\n",
        " (7, 0.86245754223702409),\n",
        " (8, 0.86307606609455323),\n",
        " (9, 0.86310544001478129),\n",
        " (10, 0.86337711467752676),\n",
        " (11, 0.86366969947615102),\n",
        " (12, 0.86356860457579887),\n",
        " (13, 0.86357750328558602),\n",
        " (14, 0.86331060400016024),\n",
        " (15, 0.86461337714125708),\n",
        " (16, 0.86897537583127515),\n",
        " (17, 0.86847515349526183),\n",
        " (18, 0.86845894412724078),\n",
        " (19, 0.86863952179697135),\n",
        " (20, 0.8730939763500295),\n",
        " (21, 0.87308601689642296),\n",
        " (22, 0.87313231603183272),\n",
        " (23, 0.87313827065568839),\n",
        " (24, 0.87256488682554534),\n",
        " (25, 0.87264579321822566),\n",
        " (26, 0.8725210819510294),\n",
        " (27, 0.87252952676973961),\n",
        " (28, 0.8725190607482709),\n",
        " (29, 0.87265614200005537),\n",
        " (30, 0.87264679128638845),\n",
        " (31, 0.87264297010650183),\n",
        " (32, 0.86957124632536464),\n",
        " (33, 0.86892210116051993),\n",
        " (34, 0.86892932731423278),\n",
        " (35, 0.86896651126177316),\n",
        " (36, 0.86897721650213222),\n",
        " (37, 0.86799296731576636),\n",
        " (38, 0.86798668885191343),\n",
        " (39, 0.86801641890392722),\n",
        " (40, 0.8641150918406566),\n",
        " (41, 0.8641150918406566),\n",
        " (42, 0.86409699852068955),\n",
        " (43, 0.86474080133537479),\n",
        " (44, 0.86552503092965705),\n",
        " (45, 0.86860899875002062),\n",
        " (46, 0.86908620018192606),\n",
        " (47, 0.86909145955467471),\n",
        " (48, 0.8689047881122729),\n",
        " (49, 0.86886533986687964)]"
       ]
      }
     ],
     "prompt_number": 23
    },
    {
     "cell_type": "code",
     "collapsed": false,
     "input": [
      "print opt_fun( [10, 0] )   \n",
      "print opt_fun( [250, 25] )   \n",
      "opt_result"
     ],
     "language": "python",
     "metadata": {},
     "outputs": [
      {
       "ename": "NameError",
       "evalue": "name 'opt_fun' is not defined",
       "output_type": "pyerr",
       "traceback": [
        "\u001b[1;31m---------------------------------------------------------------------------\u001b[0m\n\u001b[1;31mNameError\u001b[0m                                 Traceback (most recent call last)",
        "\u001b[1;32m<ipython-input-24-da2001f9e177>\u001b[0m in \u001b[0;36m<module>\u001b[1;34m()\u001b[0m\n\u001b[1;32m----> 1\u001b[1;33m \u001b[1;32mprint\u001b[0m \u001b[0mopt_fun\u001b[0m\u001b[1;33m(\u001b[0m \u001b[1;33m[\u001b[0m\u001b[1;36m10\u001b[0m\u001b[1;33m,\u001b[0m \u001b[1;36m0\u001b[0m\u001b[1;33m]\u001b[0m \u001b[1;33m)\u001b[0m\u001b[1;33m\u001b[0m\u001b[0m\n\u001b[0m\u001b[0;32m      2\u001b[0m \u001b[1;32mprint\u001b[0m \u001b[0mopt_fun\u001b[0m\u001b[1;33m(\u001b[0m \u001b[1;33m[\u001b[0m\u001b[1;36m250\u001b[0m\u001b[1;33m,\u001b[0m \u001b[1;36m25\u001b[0m\u001b[1;33m]\u001b[0m \u001b[1;33m)\u001b[0m\u001b[1;33m\u001b[0m\u001b[0m\n\u001b[0;32m      3\u001b[0m \u001b[0mopt_result\u001b[0m\u001b[1;33m\u001b[0m\u001b[0m\n",
        "\u001b[1;31mNameError\u001b[0m: name 'opt_fun' is not defined"
       ]
      }
     ],
     "prompt_number": 24
    },
    {
     "cell_type": "code",
     "collapsed": false,
     "input": [
      "#opt_result = scipy.optimize.brute( opt_fun, ranges=[ slice( 0,400, 1 ),slice( 0,1000, 1 )])\n",
      "\n",
      "opt_result = scipy.optimize.brute( opt_fun, ranges=[ slice( 249,251, 1 ),slice( 22,27, 1 )], disp=True, full_output=True)\n",
      "print opt_result\n",
      "opt_result\n"
     ],
     "language": "python",
     "metadata": {},
     "outputs": []
    },
    {
     "cell_type": "code",
     "collapsed": false,
     "input": [
      "start_time = datetime.datetime.now()\n",
      "\n",
      "batch = extractor_training_objects[:400]\n",
      "\n",
      "print python_readability_f1_mean( batch, 250, 25 )\n",
      "\n",
      "end_time = datetime.datetime.now()\n",
      "    \n",
      "print \"Total_time\", end_time - start_time\n",
      "    \n",
      "print \"Time per download\", (end_time - start_time)/ (len(batch) )\n",
      "    "
     ],
     "language": "python",
     "metadata": {},
     "outputs": []
    },
    {
     "cell_type": "code",
     "collapsed": false,
     "input": [
      "import datetime\n",
      "\n",
      "if regenerate_comps_downloads:\n",
      "    \n",
      "    comps_downloads = []\n",
      "    processed = 0\n",
      "    skipped = 0\n",
      "    \n",
      "    start_time = datetime.datetime.now()\n",
      "    \n",
      "    e=None\n",
      "    for extractor_training_object in extractor_training_objects[:100]:\n",
      "        print 'processed ', processed\n",
      "        print 'skipped ', skipped\n",
      "        print extractor_training_object[ 'downloads_id']\n",
      "        try:\n",
      "            res = comp_extractors( extractor_training_object )\n",
      "            #print res\n",
      "            comps_downloads.append( res )\n",
      "            processed += 1\n",
      "        except Exception, e:\n",
      "            print \"error on download{}\".format( extractor_training_object[ 'downloads_id'] )\n",
      "            e = sys.exc_info()\n",
      "            \n",
      "            import traceback\n",
      "            \n",
      "            traceback.print_exc()\n",
      "            print e\n",
      "            #raise e\n",
      "            skipped += 1\n",
      "\n",
      "    end_time = datetime.datetime.now()\n",
      "    \n",
      "    print \"Total_time\", end_time - start_time\n",
      "    \n",
      "    print \"Time per download\", (end_time - start_time)/ (processed + skipped )\n",
      "    \n",
      "    #cPickle.dump( comps_downloads, file( \n",
      "    #        os.path.expanduser( \"~/Dropbox/mc/extractor_test/comps_downloads.pickle\"), \"wb\"))\n",
      "    \n",
      "    \n",
      "    e\n",
      "#extractor_training_objects\n",
      "    "
     ],
     "language": "python",
     "metadata": {},
     "outputs": []
    },
    {
     "cell_type": "code",
     "collapsed": false,
     "input": [
      "#comps_downloads = cPickle.load(  file( \n",
      "#            os.path.expanduser( \"~/Dropbox/mc/extractor_test/comps_downloads.pickle\"), \"rb\") )"
     ],
     "language": "python",
     "metadata": {},
     "outputs": []
    },
    {
     "cell_type": "heading",
     "level": 1,
     "metadata": {},
     "source": [
      "Results"
     ]
    },
    {
     "cell_type": "heading",
     "level": 2,
     "metadata": {},
     "source": [
      "Results Overall"
     ]
    },
    {
     "cell_type": "code",
     "collapsed": false,
     "input": [
      "comps_downloads[0]"
     ],
     "language": "python",
     "metadata": {},
     "outputs": []
    },
    {
     "cell_type": "code",
     "collapsed": false,
     "input": [
      "df = get_data_frame_from_comparision_objects( comps_downloads )\n",
      "print_results_by_measurement_type( df )\n"
     ],
     "language": "python",
     "metadata": {},
     "outputs": []
    },
    {
     "cell_type": "code",
     "collapsed": false,
     "input": [
      "non_spidered_downloads = remove_spidered_downloads( comps_downloads )\n",
      "\n",
      "df = get_data_frame_from_comparision_objects( non_spidered_downloads )\n",
      "print_results_by_measurement_type( df )\n"
     ],
     "language": "python",
     "metadata": {},
     "outputs": []
    },
    {
     "cell_type": "code",
     "collapsed": false,
     "input": [
      "print \"spidered\"\n",
      "df = get_data_frame_from_comparision_objects( only_spidered_downloads( comps_downloads ) )\n",
      "print_results_by_measurement_type( df )\n"
     ],
     "language": "python",
     "metadata": {},
     "outputs": []
    },
    {
     "cell_type": "heading",
     "level": 2,
     "metadata": {},
     "source": [
      "Results by Subset"
     ]
    },
    {
     "cell_type": "code",
     "collapsed": false,
     "input": [
      "regional = { 2453107 }\n",
      "\n",
      "\n",
      "\n",
      "print \"region / pew knight study / 245107 \"\n",
      "df = get_data_frame_from_comparision_objects( filter_by_media_tags_id( non_spidered_downloads, regional ) )\n",
      "print_results_by_measurement_type( df )\n",
      "\n",
      "ap_english_us_top_25 = { 2453107 }\n",
      "print \"ap_english_us_top25 / 8875027 \"\n",
      "df = get_data_frame_from_comparision_objects( filter_by_media_tags_id( non_spidered_downloads, ap_english_us_top_25 ) )\n",
      "print_results_by_measurement_type( df )\n",
      "\n",
      "political_blogs = { 125 }\n",
      "print \"political blogs / 125\"\n",
      "df = get_data_frame_from_comparision_objects( filter_by_media_tags_id( non_spidered_downloads, political_blogs ) )\n",
      "print_results_by_measurement_type( df )\n",
      "\n",
      "\n",
      "russian = { 7796878 }\n",
      "print 'russian'\n",
      "df = get_data_frame_from_comparision_objects( filter_by_media_tags_id( non_spidered_downloads, russian ) )\n",
      "print_results_by_measurement_type( df )\n",
      "\n",
      "print 'brazil'\n",
      "df = get_data_frame_from_comparision_objects( filter_by_media_tags_id( non_spidered_downloads, {8877968,  8877969, 8877973, 8877970 } ) )\n",
      "print_results_by_measurement_type( df )\n",
      "\n",
      "arabic = { 8878255 }\n",
      "print 'arabic'\n",
      "df = get_data_frame_from_comparision_objects( filter_by_media_tags_id( non_spidered_downloads, arabic ) )\n",
      "print_results_by_measurement_type( df )\n",
      "                                          "
     ],
     "language": "python",
     "metadata": {},
     "outputs": []
    },
    {
     "cell_type": "code",
     "collapsed": false,
     "input": [
      "boiler_pipe_extractor_training_objects = cPickle.load( open( \"boiler_pipe_google_news_extractor_training_objects.pickle\", \"rb\") )\n",
      "#eto = extractor_training_objects[ 0 ]\n",
      "#eto.keys()\n",
      "#print eto['expected_text']\n",
      "#get_extraction_results( eto )\n",
      "#comp_extractors ( eto )\n",
      "\n",
      "comps_downloads_boiler_pipe = []\n",
      "processed = 0\n",
      "skipped = 0\n",
      "start_time = datetime.datetime.now()\n",
      "e=None\n",
      "\n",
      "for extractor_training_object in  boiler_pipe_extractor_training_objects[:]:\n",
      "    try:\n",
      "        res = comp_extractors( extractor_training_object )\n",
      "        #print res\n",
      "        comps_downloads_boiler_pipe.append( res )\n",
      "        processed += 1\n",
      "    except Exception, e:\n",
      "        print \"error on download{}\".format( extractor_training_object[ 'downloads_id'] )\n",
      "        e = sys.exc_info()\n",
      "        \n",
      "        import traceback\n",
      "        \n",
      "        traceback.print_exc()\n",
      "        print e\n",
      "        #raise e\n",
      "        skipped += 1\n",
      "\n",
      "    print 'processed', processed, 'skipped', skipped\n",
      "\n",
      "    #extraction_results.append( er )\n",
      "\n",
      "end_time = datetime.datetime.now()\n",
      "\n",
      "\n",
      "print \"Total_time\", end_time - start_time\n",
      "\n",
      "print \"Time per download\", (end_time - start_time)/ (processed + skipped )\n",
      "    \n",
      "res.keys()"
     ],
     "language": "python",
     "metadata": {},
     "outputs": []
    },
    {
     "cell_type": "code",
     "collapsed": false,
     "input": [
      "df = get_data_frame_from_comparision_objects( comps_downloads_boiler_pipe )\n",
      "print_results_by_measurement_type( df )"
     ],
     "language": "python",
     "metadata": {},
     "outputs": []
    }
   ],
   "metadata": {}
  }
 ]
}