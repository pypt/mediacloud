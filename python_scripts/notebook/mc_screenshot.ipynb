{
 "metadata": {
  "name": "mc_screenshot"
 },
 "nbformat": 3,
 "nbformat_minor": 0,
 "worksheets": [
  {
   "cells": [
    {
     "cell_type": "code",
     "collapsed": false,
     "input": [
      "import json\n",
      "import subprocess\n",
      "import os"
     ],
     "language": "python",
     "metadata": {},
     "outputs": [],
     "prompt_number": 13
    },
    {
     "cell_type": "code",
     "collapsed": false,
     "input": [
      "with open ('/tmp/json2', 'rb') as json_file:\n",
      "    json_string = json_file.read()\n",
      "    #print json_file.read()\n",
      "    popular_queries = json.loads( json_string )\n"
     ],
     "language": "python",
     "metadata": {},
     "outputs": [
      {
       "output_type": "pyout",
       "prompt_number": 7,
       "text": [
        "[{u'count': 291,\n",
        "  u'dashboard_action': u'/view/1',\n",
        "  u'dashboards_id': 1,\n",
        "  u'popular_queries_id': 1002,\n",
        "  u'queries_id_0': 56936,\n",
        "  u'queries_id_1': 56941,\n",
        "  u'query_0_description': u'in Top 25 Mainstream Media during the week starting 2011-05-23',\n",
        "  u'query_1_description': u'in Political Blogs during the week starting 2011-05-23',\n",
        "  u'url_params': u'?q2=56941&q1=56936'},\n",
        " {u'count': 168,\n",
        "  u'dashboard_action': u'/view/1',\n",
        "  u'dashboards_id': 1,\n",
        "  u'popular_queries_id': 859,\n",
        "  u'queries_id_0': 55418,\n",
        "  u'queries_id_1': 55446,\n",
        "  u'query_0_description': u'in Top 25 Mainstream Media during the week starting 2011-05-09',\n",
        "  u'query_1_description': u'in Political Blogs during the week starting 2011-05-09',\n",
        "  u'url_params': u'?q2=55446&q1=55418'}]"
       ]
      }
     ],
     "prompt_number": 7
    },
    {
     "cell_type": "code",
     "collapsed": false,
     "input": [
      "os.chdir('/home/dlarochelle/mediacloud/screen_shots')\n",
      "os.chdir('top_1000')\n",
      "         \n",
      "subprocess.check_output(['phantomjs', '../../screen_shot_arguments.js', '94684', ''] )"
     ],
     "language": "python",
     "metadata": {},
     "outputs": [
      {
       "output_type": "pyout",
       "prompt_number": 27,
       "text": [
        "'capturing\\n94684\\nhttp://www.mediacloud.org/dashboard/view/1?q1=94684\\ncapture_and_render: http://www.mediacloud.org/dashboard/view/1?q1=94684&q2=\\nrenderinghttp://www.mediacloud.org/dashboard/view/1?q1=94684&q2=\\nbase_name:mc_94684_\\ncaptured\\n'"
       ]
      }
     ],
     "prompt_number": 27
    },
    {
     "cell_type": "code",
     "collapsed": false,
     "input": [
      "os.chdir('/home/dlarochelle/mediacloud/screen_shots')\n",
      "\n",
      "dirs = ['top_10', 'top_100', 'top_1000', 'all']\n",
      "for dir in dirs:\n",
      "    print \"processing {}\".format( dir )\n",
      "    os.chdir( dir )\n",
      "    with open ('pop_queries.json', 'rb') as json_file:\n",
      "        json_string = json_file.read()\n",
      "        #print json_file.read()\n",
      "        popular_queries = json.loads( json_string )\n",
      "        for popular_query in popular_queries:\n",
      "            q0 = popular_query[ 'queries_id_0' ]\n",
      "            q1 = popular_query[ 'queries_id_1' ]\n",
      "            if q1 == None:\n",
      "                q1 = ''\n",
      "            subprocess.check_output( ['phantomjs', '../../screen_shot_arguments.js', str(q0), str(q1) ] )\n",
      "            subprocess.check_output( ['phantomjs', '../../screen_shot_arguments.js', str(q0), str(q1), '--wc_only' ] )\n",
      "            print q0, q1\n",
      "    os.chdir( '../')"
     ],
     "language": "python",
     "metadata": {},
     "outputs": [
      {
       "output_type": "stream",
       "stream": "stdout",
       "text": [
        "processing top_10\n",
        "94946"
       ]
      },
      {
       "output_type": "stream",
       "stream": "stdout",
       "text": [
        " \n",
        "42981"
       ]
      },
      {
       "output_type": "stream",
       "stream": "stdout",
       "text": [
        " \n",
        "88321"
       ]
      },
      {
       "output_type": "stream",
       "stream": "stdout",
       "text": [
        " \n",
        "43376"
       ]
      },
      {
       "output_type": "stream",
       "stream": "stdout",
       "text": [
        " \n",
        "87843"
       ]
      },
      {
       "output_type": "stream",
       "stream": "stdout",
       "text": [
        " \n",
        "89128"
       ]
      },
      {
       "output_type": "stream",
       "stream": "stdout",
       "text": [
        " \n",
        "90007"
       ]
      },
      {
       "output_type": "stream",
       "stream": "stdout",
       "text": [
        " \n",
        "94176"
       ]
      },
      {
       "output_type": "stream",
       "stream": "stdout",
       "text": [
        " \n",
        "57768"
       ]
      },
      {
       "output_type": "stream",
       "stream": "stdout",
       "text": [
        " \n",
        "59047"
       ]
      },
      {
       "output_type": "stream",
       "stream": "stdout",
       "text": [
        " \n",
        "processing top_100\n",
        "94946"
       ]
      },
      {
       "output_type": "stream",
       "stream": "stdout",
       "text": [
        " \n",
        "42981"
       ]
      },
      {
       "output_type": "stream",
       "stream": "stdout",
       "text": [
        " \n",
        "88321"
       ]
      },
      {
       "output_type": "stream",
       "stream": "stdout",
       "text": [
        " \n",
        "43376"
       ]
      },
      {
       "output_type": "stream",
       "stream": "stdout",
       "text": [
        " \n",
        "87843"
       ]
      },
      {
       "output_type": "stream",
       "stream": "stdout",
       "text": [
        " \n",
        "89128"
       ]
      },
      {
       "output_type": "stream",
       "stream": "stdout",
       "text": [
        " \n",
        "90007"
       ]
      },
      {
       "output_type": "stream",
       "stream": "stdout",
       "text": [
        " \n",
        "94176"
       ]
      },
      {
       "output_type": "stream",
       "stream": "stdout",
       "text": [
        " \n",
        "57768"
       ]
      },
      {
       "output_type": "stream",
       "stream": "stdout",
       "text": [
        " \n",
        "59047"
       ]
      },
      {
       "output_type": "stream",
       "stream": "stdout",
       "text": [
        " \n",
        "74082"
       ]
      },
      {
       "output_type": "stream",
       "stream": "stdout",
       "text": [
        " \n",
        "92586"
       ]
      },
      {
       "output_type": "stream",
       "stream": "stdout",
       "text": [
        " \n",
        "90621"
       ]
      },
      {
       "output_type": "stream",
       "stream": "stdout",
       "text": [
        " \n",
        "56936"
       ]
      },
      {
       "output_type": "stream",
       "stream": "stdout",
       "text": [
        " \n",
        "90157"
       ]
      },
      {
       "output_type": "stream",
       "stream": "stdout",
       "text": [
        " \n",
        "55418"
       ]
      },
      {
       "output_type": "stream",
       "stream": "stdout",
       "text": [
        " \n",
        "91101"
       ]
      },
      {
       "output_type": "stream",
       "stream": "stdout",
       "text": [
        " \n",
        "94585"
       ]
      },
      {
       "output_type": "stream",
       "stream": "stdout",
       "text": [
        " \n",
        "71334"
       ]
      },
      {
       "output_type": "stream",
       "stream": "stdout",
       "text": [
        " \n",
        "94712"
       ]
      },
      {
       "output_type": "stream",
       "stream": "stdout",
       "text": [
        " \n",
        "86271"
       ]
      },
      {
       "output_type": "stream",
       "stream": "stdout",
       "text": [
        " \n",
        "94057"
       ]
      },
      {
       "output_type": "stream",
       "stream": "stdout",
       "text": [
        " \n",
        "56615"
       ]
      },
      {
       "output_type": "stream",
       "stream": "stdout",
       "text": [
        " \n",
        "94173"
       ]
      },
      {
       "output_type": "stream",
       "stream": "stdout",
       "text": [
        " \n",
        "93897"
       ]
      },
      {
       "output_type": "stream",
       "stream": "stdout",
       "text": [
        " \n",
        "90349"
       ]
      },
      {
       "output_type": "stream",
       "stream": "stdout",
       "text": [
        " \n",
        "90412"
       ]
      },
      {
       "output_type": "stream",
       "stream": "stdout",
       "text": [
        " \n",
        "88145"
       ]
      },
      {
       "output_type": "stream",
       "stream": "stdout",
       "text": [
        " \n",
        "71353"
       ]
      },
      {
       "output_type": "stream",
       "stream": "stdout",
       "text": [
        " \n",
        "93517"
       ]
      },
      {
       "output_type": "stream",
       "stream": "stdout",
       "text": [
        " \n",
        "93640"
       ]
      },
      {
       "output_type": "stream",
       "stream": "stdout",
       "text": [
        " \n",
        "93652"
       ]
      },
      {
       "output_type": "stream",
       "stream": "stdout",
       "text": [
        " \n",
        "88188"
       ]
      },
      {
       "output_type": "stream",
       "stream": "stdout",
       "text": [
        " \n",
        "90827"
       ]
      },
      {
       "output_type": "stream",
       "stream": "stdout",
       "text": [
        " \n",
        "64024"
       ]
      },
      {
       "output_type": "stream",
       "stream": "stdout",
       "text": [
        " \n",
        "66068"
       ]
      },
      {
       "output_type": "stream",
       "stream": "stdout",
       "text": [
        " \n",
        "93822"
       ]
      },
      {
       "output_type": "stream",
       "stream": "stdout",
       "text": [
        " \n",
        "61869"
       ]
      },
      {
       "output_type": "stream",
       "stream": "stdout",
       "text": [
        " \n",
        "66233"
       ]
      },
      {
       "output_type": "stream",
       "stream": "stdout",
       "text": [
        " \n",
        "66160"
       ]
      },
      {
       "output_type": "stream",
       "stream": "stdout",
       "text": [
        " \n",
        "90921"
       ]
      },
      {
       "output_type": "stream",
       "stream": "stdout",
       "text": [
        " \n",
        "93812"
       ]
      },
      {
       "output_type": "stream",
       "stream": "stdout",
       "text": [
        " \n",
        "93993"
       ]
      },
      {
       "output_type": "stream",
       "stream": "stdout",
       "text": [
        " \n",
        "59051"
       ]
      },
      {
       "output_type": "stream",
       "stream": "stdout",
       "text": [
        " \n",
        "90753"
       ]
      },
      {
       "output_type": "stream",
       "stream": "stdout",
       "text": [
        " \n",
        "92550"
       ]
      },
      {
       "output_type": "stream",
       "stream": "stdout",
       "text": [
        " \n",
        "66939"
       ]
      },
      {
       "output_type": "stream",
       "stream": "stdout",
       "text": [
        " \n",
        "93962"
       ]
      },
      {
       "output_type": "stream",
       "stream": "stdout",
       "text": [
        " \n",
        "94902"
       ]
      },
      {
       "output_type": "stream",
       "stream": "stdout",
       "text": [
        " \n",
        "88283"
       ]
      },
      {
       "output_type": "stream",
       "stream": "stdout",
       "text": [
        " \n",
        "66814"
       ]
      },
      {
       "output_type": "stream",
       "stream": "stdout",
       "text": [
        " \n",
        "65983"
       ]
      },
      {
       "output_type": "stream",
       "stream": "stdout",
       "text": [
        " \n",
        "65916"
       ]
      },
      {
       "output_type": "stream",
       "stream": "stdout",
       "text": [
        " \n",
        "90397"
       ]
      },
      {
       "output_type": "stream",
       "stream": "stdout",
       "text": [
        " \n",
        "56936"
       ]
      },
      {
       "output_type": "stream",
       "stream": "stdout",
       "text": [
        " 56941\n",
        "66045"
       ]
      },
      {
       "output_type": "stream",
       "stream": "stdout",
       "text": [
        " \n",
        "91068"
       ]
      },
      {
       "output_type": "stream",
       "stream": "stdout",
       "text": [
        " \n",
        "93555"
       ]
      },
      {
       "output_type": "stream",
       "stream": "stdout",
       "text": [
        " \n",
        "66167"
       ]
      },
      {
       "output_type": "stream",
       "stream": "stdout",
       "text": [
        " \n",
        "87367"
       ]
      },
      {
       "output_type": "stream",
       "stream": "stdout",
       "text": [
        " \n",
        "94874"
       ]
      },
      {
       "output_type": "stream",
       "stream": "stdout",
       "text": [
        " \n",
        "94106"
       ]
      },
      {
       "output_type": "stream",
       "stream": "stdout",
       "text": [
        " \n",
        "42951"
       ]
      },
      {
       "output_type": "stream",
       "stream": "stdout",
       "text": [
        " \n",
        "55418"
       ]
      },
      {
       "output_type": "stream",
       "stream": "stdout",
       "text": [
        " 55446\n",
        "94684"
       ]
      },
      {
       "output_type": "stream",
       "stream": "stdout",
       "text": [
        " \n",
        "94639"
       ]
      },
      {
       "output_type": "stream",
       "stream": "stdout",
       "text": [
        " \n",
        "90363"
       ]
      },
      {
       "output_type": "stream",
       "stream": "stdout",
       "text": [
        " \n",
        "59016"
       ]
      },
      {
       "output_type": "stream",
       "stream": "stdout",
       "text": [
        " \n",
        "59048"
       ]
      },
      {
       "output_type": "stream",
       "stream": "stdout",
       "text": [
        " \n",
        "88360"
       ]
      },
      {
       "output_type": "stream",
       "stream": "stdout",
       "text": [
        " \n",
        "94815"
       ]
      },
      {
       "output_type": "stream",
       "stream": "stdout",
       "text": [
        " \n",
        "59017"
       ]
      },
      {
       "output_type": "stream",
       "stream": "stdout",
       "text": [
        " \n",
        "66091"
       ]
      },
      {
       "output_type": "stream",
       "stream": "stdout",
       "text": [
        " \n",
        "76160"
       ]
      },
      {
       "output_type": "stream",
       "stream": "stdout",
       "text": [
        " \n",
        "94461"
       ]
      },
      {
       "output_type": "stream",
       "stream": "stdout",
       "text": [
        " \n",
        "54540"
       ]
      },
      {
       "output_type": "stream",
       "stream": "stdout",
       "text": [
        " \n",
        "42968"
       ]
      },
      {
       "output_type": "stream",
       "stream": "stdout",
       "text": [
        " 42969\n",
        "54541"
       ]
      },
      {
       "output_type": "stream",
       "stream": "stdout",
       "text": [
        " 54542\n",
        "59054"
       ]
      },
      {
       "output_type": "stream",
       "stream": "stdout",
       "text": [
        " \n",
        "89116"
       ]
      },
      {
       "output_type": "stream",
       "stream": "stdout",
       "text": [
        " \n",
        "94989"
       ]
      },
      {
       "output_type": "stream",
       "stream": "stdout",
       "text": [
        " \n",
        "94796"
       ]
      },
      {
       "output_type": "stream",
       "stream": "stdout",
       "text": [
        " \n",
        "94040"
       ]
      },
      {
       "output_type": "stream",
       "stream": "stdout",
       "text": [
        " \n",
        "90814"
       ]
      },
      {
       "output_type": "stream",
       "stream": "stdout",
       "text": [
        " \n",
        "54775"
       ]
      },
      {
       "output_type": "stream",
       "stream": "stdout",
       "text": [
        " \n",
        "95200"
       ]
      },
      {
       "output_type": "stream",
       "stream": "stdout",
       "text": [
        " \n",
        "93382"
       ]
      },
      {
       "output_type": "stream",
       "stream": "stdout",
       "text": [
        " 93467\n",
        "43375"
       ]
      },
      {
       "output_type": "stream",
       "stream": "stdout",
       "text": [
        " \n",
        "56615"
       ]
      },
      {
       "output_type": "stream",
       "stream": "stdout",
       "text": [
        " 56911\n",
        "94951"
       ]
      },
      {
       "output_type": "stream",
       "stream": "stdout",
       "text": [
        " \n",
        "94120"
       ]
      },
      {
       "output_type": "stream",
       "stream": "stdout",
       "text": [
        " \n",
        "43374"
       ]
      },
      {
       "output_type": "stream",
       "stream": "stdout",
       "text": [
        " \n",
        "90818"
       ]
      },
      {
       "output_type": "stream",
       "stream": "stdout",
       "text": [
        " \n",
        "89108"
       ]
      },
      {
       "output_type": "stream",
       "stream": "stdout",
       "text": [
        " \n",
        "90757"
       ]
      },
      {
       "output_type": "stream",
       "stream": "stdout",
       "text": [
        " \n",
        "54774"
       ]
      },
      {
       "output_type": "stream",
       "stream": "stdout",
       "text": [
        " \n",
        "94920"
       ]
      },
      {
       "output_type": "stream",
       "stream": "stdout",
       "text": [
        " \n",
        "65922"
       ]
      },
      {
       "output_type": "stream",
       "stream": "stdout",
       "text": [
        " \n",
        "94645"
       ]
      },
      {
       "output_type": "stream",
       "stream": "stdout",
       "text": [
        " \n",
        "59132"
       ]
      },
      {
       "output_type": "stream",
       "stream": "stdout",
       "text": [
        " 59133\n",
        "processing top_1000\n",
        "94946"
       ]
      },
      {
       "output_type": "stream",
       "stream": "stdout",
       "text": [
        " \n",
        "42981"
       ]
      },
      {
       "output_type": "stream",
       "stream": "stdout",
       "text": [
        " \n",
        "88321"
       ]
      },
      {
       "output_type": "stream",
       "stream": "stdout",
       "text": [
        " \n",
        "43376"
       ]
      },
      {
       "output_type": "stream",
       "stream": "stdout",
       "text": [
        " \n",
        "87843"
       ]
      },
      {
       "output_type": "stream",
       "stream": "stdout",
       "text": [
        " \n",
        "89128"
       ]
      },
      {
       "output_type": "stream",
       "stream": "stdout",
       "text": [
        " \n",
        "90007"
       ]
      },
      {
       "output_type": "stream",
       "stream": "stdout",
       "text": [
        " \n",
        "94176"
       ]
      },
      {
       "output_type": "stream",
       "stream": "stdout",
       "text": [
        " \n",
        "57768"
       ]
      },
      {
       "output_type": "stream",
       "stream": "stdout",
       "text": [
        " \n",
        "59047"
       ]
      },
      {
       "output_type": "stream",
       "stream": "stdout",
       "text": [
        " \n",
        "74082"
       ]
      },
      {
       "output_type": "stream",
       "stream": "stdout",
       "text": [
        " \n",
        "92586"
       ]
      },
      {
       "output_type": "stream",
       "stream": "stdout",
       "text": [
        " \n",
        "90621"
       ]
      },
      {
       "output_type": "stream",
       "stream": "stdout",
       "text": [
        " \n",
        "56936"
       ]
      },
      {
       "output_type": "stream",
       "stream": "stdout",
       "text": [
        " \n",
        "90157"
       ]
      },
      {
       "output_type": "stream",
       "stream": "stdout",
       "text": [
        " \n",
        "55418"
       ]
      },
      {
       "output_type": "stream",
       "stream": "stdout",
       "text": [
        " \n",
        "91101"
       ]
      },
      {
       "output_type": "stream",
       "stream": "stdout",
       "text": [
        " \n",
        "94585"
       ]
      },
      {
       "output_type": "stream",
       "stream": "stdout",
       "text": [
        " \n",
        "71334"
       ]
      },
      {
       "output_type": "stream",
       "stream": "stdout",
       "text": [
        " \n",
        "94712"
       ]
      },
      {
       "output_type": "stream",
       "stream": "stdout",
       "text": [
        " \n",
        "86271"
       ]
      },
      {
       "output_type": "stream",
       "stream": "stdout",
       "text": [
        " \n",
        "94057"
       ]
      },
      {
       "output_type": "stream",
       "stream": "stdout",
       "text": [
        " \n",
        "56615"
       ]
      },
      {
       "output_type": "stream",
       "stream": "stdout",
       "text": [
        " \n",
        "94173"
       ]
      },
      {
       "output_type": "stream",
       "stream": "stdout",
       "text": [
        " \n",
        "93897"
       ]
      },
      {
       "output_type": "stream",
       "stream": "stdout",
       "text": [
        " \n",
        "90349"
       ]
      },
      {
       "output_type": "stream",
       "stream": "stdout",
       "text": [
        " \n",
        "90412"
       ]
      },
      {
       "output_type": "stream",
       "stream": "stdout",
       "text": [
        " \n",
        "88145"
       ]
      },
      {
       "output_type": "stream",
       "stream": "stdout",
       "text": [
        " \n",
        "71353"
       ]
      },
      {
       "output_type": "stream",
       "stream": "stdout",
       "text": [
        " \n",
        "93517"
       ]
      },
      {
       "output_type": "stream",
       "stream": "stdout",
       "text": [
        " \n",
        "93640"
       ]
      },
      {
       "output_type": "stream",
       "stream": "stdout",
       "text": [
        " \n",
        "93652"
       ]
      },
      {
       "output_type": "stream",
       "stream": "stdout",
       "text": [
        " \n",
        "88188"
       ]
      },
      {
       "output_type": "stream",
       "stream": "stdout",
       "text": [
        " \n",
        "90827"
       ]
      },
      {
       "output_type": "stream",
       "stream": "stdout",
       "text": [
        " \n",
        "64024"
       ]
      },
      {
       "output_type": "stream",
       "stream": "stdout",
       "text": [
        " \n",
        "66068"
       ]
      },
      {
       "output_type": "stream",
       "stream": "stdout",
       "text": [
        " \n",
        "93822"
       ]
      },
      {
       "output_type": "stream",
       "stream": "stdout",
       "text": [
        " \n",
        "61869"
       ]
      },
      {
       "output_type": "stream",
       "stream": "stdout",
       "text": [
        " \n",
        "66233"
       ]
      },
      {
       "output_type": "stream",
       "stream": "stdout",
       "text": [
        " \n",
        "66160"
       ]
      },
      {
       "output_type": "stream",
       "stream": "stdout",
       "text": [
        " \n",
        "90921"
       ]
      },
      {
       "output_type": "stream",
       "stream": "stdout",
       "text": [
        " \n",
        "93812"
       ]
      },
      {
       "output_type": "stream",
       "stream": "stdout",
       "text": [
        " \n",
        "93993"
       ]
      },
      {
       "output_type": "stream",
       "stream": "stdout",
       "text": [
        " \n",
        "59051"
       ]
      },
      {
       "output_type": "stream",
       "stream": "stdout",
       "text": [
        " \n",
        "90753"
       ]
      },
      {
       "output_type": "stream",
       "stream": "stdout",
       "text": [
        " \n",
        "92550"
       ]
      },
      {
       "output_type": "stream",
       "stream": "stdout",
       "text": [
        " \n",
        "66939"
       ]
      },
      {
       "output_type": "stream",
       "stream": "stdout",
       "text": [
        " \n",
        "93962"
       ]
      },
      {
       "output_type": "stream",
       "stream": "stdout",
       "text": [
        " \n",
        "94902"
       ]
      },
      {
       "output_type": "stream",
       "stream": "stdout",
       "text": [
        " \n",
        "88283"
       ]
      },
      {
       "output_type": "stream",
       "stream": "stdout",
       "text": [
        " \n",
        "66814"
       ]
      },
      {
       "output_type": "stream",
       "stream": "stdout",
       "text": [
        " \n",
        "65983"
       ]
      },
      {
       "output_type": "stream",
       "stream": "stdout",
       "text": [
        " \n",
        "65916"
       ]
      },
      {
       "output_type": "stream",
       "stream": "stdout",
       "text": [
        " \n",
        "90397"
       ]
      },
      {
       "output_type": "stream",
       "stream": "stdout",
       "text": [
        " \n",
        "56936"
       ]
      },
      {
       "output_type": "stream",
       "stream": "stdout",
       "text": [
        " 56941\n",
        "66045"
       ]
      },
      {
       "output_type": "stream",
       "stream": "stdout",
       "text": [
        " \n",
        "91068"
       ]
      },
      {
       "output_type": "stream",
       "stream": "stdout",
       "text": [
        " \n",
        "93555"
       ]
      },
      {
       "output_type": "stream",
       "stream": "stdout",
       "text": [
        " \n",
        "66167"
       ]
      },
      {
       "output_type": "stream",
       "stream": "stdout",
       "text": [
        " \n",
        "87367"
       ]
      },
      {
       "output_type": "stream",
       "stream": "stdout",
       "text": [
        " \n",
        "94874"
       ]
      },
      {
       "output_type": "stream",
       "stream": "stdout",
       "text": [
        " \n",
        "94106"
       ]
      },
      {
       "output_type": "stream",
       "stream": "stdout",
       "text": [
        " \n",
        "42951"
       ]
      },
      {
       "output_type": "stream",
       "stream": "stdout",
       "text": [
        " \n",
        "55418"
       ]
      },
      {
       "output_type": "stream",
       "stream": "stdout",
       "text": [
        " 55446\n",
        "94684"
       ]
      },
      {
       "output_type": "stream",
       "stream": "stdout",
       "text": [
        " \n",
        "94639"
       ]
      },
      {
       "output_type": "stream",
       "stream": "stdout",
       "text": [
        " \n",
        "90363"
       ]
      },
      {
       "output_type": "stream",
       "stream": "stdout",
       "text": [
        " \n",
        "59016"
       ]
      },
      {
       "output_type": "stream",
       "stream": "stdout",
       "text": [
        " \n",
        "59048"
       ]
      },
      {
       "output_type": "stream",
       "stream": "stdout",
       "text": [
        " \n",
        "88360"
       ]
      },
      {
       "output_type": "stream",
       "stream": "stdout",
       "text": [
        " \n",
        "94815"
       ]
      },
      {
       "output_type": "stream",
       "stream": "stdout",
       "text": [
        " \n",
        "59017"
       ]
      },
      {
       "output_type": "stream",
       "stream": "stdout",
       "text": [
        " \n",
        "66091"
       ]
      },
      {
       "output_type": "stream",
       "stream": "stdout",
       "text": [
        " \n",
        "76160"
       ]
      },
      {
       "output_type": "stream",
       "stream": "stdout",
       "text": [
        " \n",
        "94461"
       ]
      },
      {
       "output_type": "stream",
       "stream": "stdout",
       "text": [
        " \n",
        "54540"
       ]
      },
      {
       "output_type": "stream",
       "stream": "stdout",
       "text": [
        " \n",
        "42968"
       ]
      },
      {
       "output_type": "stream",
       "stream": "stdout",
       "text": [
        " 42969\n",
        "54541"
       ]
      },
      {
       "output_type": "stream",
       "stream": "stdout",
       "text": [
        " 54542\n",
        "59054"
       ]
      },
      {
       "output_type": "stream",
       "stream": "stdout",
       "text": [
        " \n",
        "89116"
       ]
      },
      {
       "output_type": "stream",
       "stream": "stdout",
       "text": [
        " \n",
        "94989"
       ]
      },
      {
       "output_type": "stream",
       "stream": "stdout",
       "text": [
        " \n",
        "94796"
       ]
      },
      {
       "output_type": "stream",
       "stream": "stdout",
       "text": [
        " \n",
        "94040"
       ]
      },
      {
       "output_type": "stream",
       "stream": "stdout",
       "text": [
        " \n",
        "90814"
       ]
      },
      {
       "output_type": "stream",
       "stream": "stdout",
       "text": [
        " \n",
        "54775"
       ]
      },
      {
       "output_type": "stream",
       "stream": "stdout",
       "text": [
        " \n",
        "95200"
       ]
      },
      {
       "output_type": "stream",
       "stream": "stdout",
       "text": [
        " \n",
        "93382"
       ]
      },
      {
       "output_type": "stream",
       "stream": "stdout",
       "text": [
        " 93467\n",
        "43375"
       ]
      },
      {
       "output_type": "stream",
       "stream": "stdout",
       "text": [
        " \n",
        "56615"
       ]
      },
      {
       "output_type": "stream",
       "stream": "stdout",
       "text": [
        " 56911\n",
        "94951"
       ]
      },
      {
       "output_type": "stream",
       "stream": "stdout",
       "text": [
        " \n",
        "94120"
       ]
      },
      {
       "output_type": "stream",
       "stream": "stdout",
       "text": [
        " \n",
        "43374"
       ]
      },
      {
       "output_type": "stream",
       "stream": "stdout",
       "text": [
        " \n",
        "90818"
       ]
      },
      {
       "output_type": "stream",
       "stream": "stdout",
       "text": [
        " \n",
        "89108"
       ]
      },
      {
       "output_type": "stream",
       "stream": "stdout",
       "text": [
        " \n",
        "90757"
       ]
      },
      {
       "output_type": "stream",
       "stream": "stdout",
       "text": [
        " \n",
        "54774"
       ]
      },
      {
       "output_type": "stream",
       "stream": "stdout",
       "text": [
        " \n",
        "94920"
       ]
      },
      {
       "output_type": "stream",
       "stream": "stdout",
       "text": [
        " \n",
        "65922"
       ]
      },
      {
       "output_type": "stream",
       "stream": "stdout",
       "text": [
        " \n",
        "94645"
       ]
      },
      {
       "output_type": "stream",
       "stream": "stdout",
       "text": [
        " \n",
        "59132"
       ]
      },
      {
       "output_type": "stream",
       "stream": "stdout",
       "text": [
        " 59133\n",
        "66811"
       ]
      },
      {
       "output_type": "stream",
       "stream": "stdout",
       "text": [
        " \n",
        "65922"
       ]
      },
      {
       "output_type": "stream",
       "stream": "stdout",
       "text": [
        " 65923\n",
        "86386"
       ]
      },
      {
       "output_type": "stream",
       "stream": "stdout",
       "text": [
        " \n",
        "58678"
       ]
      },
      {
       "output_type": "stream",
       "stream": "stdout",
       "text": [
        " 58679\n",
        "56957"
       ]
      },
      {
       "output_type": "stream",
       "stream": "stdout",
       "text": [
        " 56958\n",
        "75128"
       ]
      },
      {
       "output_type": "stream",
       "stream": "stdout",
       "text": [
        " \n",
        "90815"
       ]
      },
      {
       "output_type": "stream",
       "stream": "stdout",
       "text": [
        " \n",
        "88995"
       ]
      },
      {
       "output_type": "stream",
       "stream": "stdout",
       "text": [
        " \n",
        "61865"
       ]
      },
      {
       "output_type": "stream",
       "stream": "stdout",
       "text": [
        " \n",
        "35072"
       ]
      },
      {
       "output_type": "stream",
       "stream": "stdout",
       "text": [
        " 35073\n",
        "54776"
       ]
      },
      {
       "output_type": "stream",
       "stream": "stdout",
       "text": [
        " 54777\n",
        "94682"
       ]
      },
      {
       "output_type": "stream",
       "stream": "stdout",
       "text": [
        " \n",
        "94665"
       ]
      },
      {
       "output_type": "stream",
       "stream": "stdout",
       "text": [
        " \n",
        "54771"
       ]
      },
      {
       "output_type": "stream",
       "stream": "stdout",
       "text": [
        " \n",
        "90154"
       ]
      },
      {
       "output_type": "stream",
       "stream": "stdout",
       "text": [
        " \n",
        "90900"
       ]
      },
      {
       "output_type": "stream",
       "stream": "stdout",
       "text": [
        " \n",
        "34337"
       ]
      },
      {
       "output_type": "stream",
       "stream": "stdout",
       "text": [
        " 34329\n",
        "34354"
       ]
      },
      {
       "output_type": "stream",
       "stream": "stdout",
       "text": [
        " 34355\n",
        "94659"
       ]
      },
      {
       "output_type": "stream",
       "stream": "stdout",
       "text": [
        " 94741\n",
        "86308"
       ]
      },
      {
       "output_type": "stream",
       "stream": "stdout",
       "text": [
        " \n",
        "61866"
       ]
      },
      {
       "output_type": "stream",
       "stream": "stdout",
       "text": [
        " \n",
        "89120"
       ]
      },
      {
       "output_type": "stream",
       "stream": "stdout",
       "text": [
        " \n",
        "94921"
       ]
      },
      {
       "output_type": "stream",
       "stream": "stdout",
       "text": [
        " \n",
        "89140"
       ]
      },
      {
       "output_type": "stream",
       "stream": "stdout",
       "text": [
        " \n",
        "94965"
       ]
      },
      {
       "output_type": "stream",
       "stream": "stdout",
       "text": [
        " \n",
        "89126"
       ]
      },
      {
       "output_type": "stream",
       "stream": "stdout",
       "text": [
        " \n",
        "95069"
       ]
      },
      {
       "output_type": "stream",
       "stream": "stdout",
       "text": [
        " \n",
        "92591"
       ]
      },
      {
       "output_type": "stream",
       "stream": "stdout",
       "text": [
        " 92594\n",
        "88348"
       ]
      },
      {
       "output_type": "stream",
       "stream": "stdout",
       "text": [
        " \n",
        "57841"
       ]
      },
      {
       "output_type": "stream",
       "stream": "stdout",
       "text": [
        " \n",
        "42951"
       ]
      },
      {
       "output_type": "stream",
       "stream": "stdout",
       "text": [
        " 42981\n",
        "94761"
       ]
      },
      {
       "output_type": "stream",
       "stream": "stdout",
       "text": [
        " \n",
        "88343"
       ]
      },
      {
       "output_type": "stream",
       "stream": "stdout",
       "text": [
        " \n",
        "54540"
       ]
      },
      {
       "output_type": "stream",
       "stream": "stdout",
       "text": [
        " 43374\n",
        "94693"
       ]
      },
      {
       "output_type": "stream",
       "stream": "stdout",
       "text": [
        " \n",
        "94978"
       ]
      },
      {
       "output_type": "stream",
       "stream": "stdout",
       "text": [
        " \n",
        "55445"
       ]
      },
      {
       "output_type": "stream",
       "stream": "stdout",
       "text": [
        " 55418\n",
        "94900"
       ]
      },
      {
       "output_type": "stream",
       "stream": "stdout",
       "text": [
        " \n",
        "94738"
       ]
      },
      {
       "output_type": "stream",
       "stream": "stdout",
       "text": [
        " \n",
        "95022"
       ]
      },
      {
       "output_type": "stream",
       "stream": "stdout",
       "text": [
        " \n",
        "94759"
       ]
      },
      {
       "output_type": "stream",
       "stream": "stdout",
       "text": [
        " 94760\n",
        "89118"
       ]
      },
      {
       "output_type": "stream",
       "stream": "stdout",
       "text": [
        " \n",
        "86390"
       ]
      },
      {
       "output_type": "stream",
       "stream": "stdout",
       "text": [
        " \n",
        "71373"
       ]
      },
      {
       "output_type": "stream",
       "stream": "stdout",
       "text": [
        " 71374\n",
        "64017"
       ]
      },
      {
       "output_type": "stream",
       "stream": "stdout",
       "text": [
        " \n",
        "43376"
       ]
      },
      {
       "output_type": "stream",
       "stream": "stdout",
       "text": [
        " 54775\n",
        "95280"
       ]
      },
      {
       "output_type": "stream",
       "stream": "stdout",
       "text": [
        " \n",
        "90902"
       ]
      },
      {
       "output_type": "stream",
       "stream": "stdout",
       "text": [
        " \n",
        "94116"
       ]
      },
      {
       "output_type": "stream",
       "stream": "stdout",
       "text": [
        " \n",
        "95016"
       ]
      },
      {
       "output_type": "stream",
       "stream": "stdout",
       "text": [
        " \n",
        "54772"
       ]
      },
      {
       "output_type": "stream",
       "stream": "stdout",
       "text": [
        " 54773\n",
        "94991"
       ]
      },
      {
       "output_type": "stream",
       "stream": "stdout",
       "text": [
        " \n",
        "94986"
       ]
      },
      {
       "output_type": "stream",
       "stream": "stdout",
       "text": [
        " \n",
        "94771"
       ]
      },
      {
       "output_type": "stream",
       "stream": "stdout",
       "text": [
        " \n",
        "90746"
       ]
      },
      {
       "output_type": "stream",
       "stream": "stdout",
       "text": [
        " \n",
        "55192"
       ]
      },
      {
       "output_type": "stream",
       "stream": "stdout",
       "text": [
        " \n",
        "94821"
       ]
      },
      {
       "output_type": "stream",
       "stream": "stdout",
       "text": [
        " \n",
        "90816"
       ]
      },
      {
       "output_type": "stream",
       "stream": "stdout",
       "text": [
        " \n",
        "94982"
       ]
      },
      {
       "output_type": "stream",
       "stream": "stdout",
       "text": [
        " \n",
        "94762"
       ]
      },
      {
       "output_type": "stream",
       "stream": "stdout",
       "text": [
        " \n",
        "93590"
       ]
      },
      {
       "output_type": "stream",
       "stream": "stdout",
       "text": [
        " 93591\n",
        "91166"
       ]
      },
      {
       "output_type": "stream",
       "stream": "stdout",
       "text": [
        " 91167\n",
        "89124"
       ]
      },
      {
       "output_type": "stream",
       "stream": "stdout",
       "text": [
        " \n",
        "55461"
       ]
      },
      {
       "output_type": "stream",
       "stream": "stdout",
       "text": [
        " 55462\n",
        "59082"
       ]
      },
      {
       "output_type": "stream",
       "stream": "stdout",
       "text": [
        " \n",
        "55226"
       ]
      },
      {
       "output_type": "stream",
       "stream": "stdout",
       "text": [
        " \n",
        "54541"
       ]
      },
      {
       "output_type": "stream",
       "stream": "stdout",
       "text": [
        " \n",
        "34935"
       ]
      },
      {
       "output_type": "stream",
       "stream": "stdout",
       "text": [
        " 34936\n",
        "94647"
       ]
      },
      {
       "output_type": "stream",
       "stream": "stdout",
       "text": [
        " 94648\n",
        "34926"
       ]
      },
      {
       "output_type": "stream",
       "stream": "stdout",
       "text": [
        " 34927\n",
        "34329"
       ]
      },
      {
       "output_type": "stream",
       "stream": "stdout",
       "text": [
        " 34335\n",
        "34960"
       ]
      },
      {
       "output_type": "stream",
       "stream": "stdout",
       "text": [
        " \n",
        "74073"
       ]
      },
      {
       "output_type": "stream",
       "stream": "stdout",
       "text": [
        " \n",
        "43377"
       ]
      },
      {
       "output_type": "stream",
       "stream": "stdout",
       "text": [
        " \n",
        "95080"
       ]
      },
      {
       "output_type": "stream",
       "stream": "stdout",
       "text": [
        " \n",
        "94927"
       ]
      },
      {
       "output_type": "stream",
       "stream": "stdout",
       "text": [
        " 94926\n",
        "94820"
       ]
      },
      {
       "output_type": "stream",
       "stream": "stdout",
       "text": [
        " \n",
        "94662"
       ]
      },
      {
       "output_type": "stream",
       "stream": "stdout",
       "text": [
        " 94663\n",
        "95122"
       ]
      },
      {
       "output_type": "stream",
       "stream": "stdout",
       "text": [
        " \n",
        "34960"
       ]
      },
      {
       "output_type": "stream",
       "stream": "stdout",
       "text": [
        " 34346\n",
        "93434"
       ]
      },
      {
       "output_type": "stream",
       "stream": "stdout",
       "text": [
        " 93435\n",
        "87401"
       ]
      },
      {
       "output_type": "stream",
       "stream": "stdout",
       "text": [
        " \n",
        "58680"
       ]
      },
      {
       "output_type": "stream",
       "stream": "stdout",
       "text": [
        " \n",
        "58681"
       ]
      },
      {
       "output_type": "stream",
       "stream": "stdout",
       "text": [
        " \n",
        "91093"
       ]
      },
      {
       "output_type": "stream",
       "stream": "stdout",
       "text": [
        " 91094\n",
        "94748"
       ]
      },
      {
       "output_type": "stream",
       "stream": "stdout",
       "text": [
        " \n",
        "34929"
       ]
      },
      {
       "output_type": "stream",
       "stream": "stdout",
       "text": [
        " 34930\n",
        "94827"
       ]
      },
      {
       "output_type": "stream",
       "stream": "stdout",
       "text": [
        " \n",
        "90824"
       ]
      },
      {
       "output_type": "stream",
       "stream": "stdout",
       "text": [
        " \n",
        "59050"
       ]
      },
      {
       "output_type": "stream",
       "stream": "stdout",
       "text": [
        " \n",
        "91164"
       ]
      },
      {
       "output_type": "stream",
       "stream": "stdout",
       "text": [
        " 91165\n",
        "86387"
       ]
      },
      {
       "output_type": "stream",
       "stream": "stdout",
       "text": [
        " \n",
        "61865"
       ]
      },
      {
       "output_type": "stream",
       "stream": "stdout",
       "text": [
        " 61865\n",
        "35075"
       ]
      },
      {
       "output_type": "stream",
       "stream": "stdout",
       "text": [
        " \n",
        "55465"
       ]
      },
      {
       "output_type": "stream",
       "stream": "stdout",
       "text": [
        " 55466\n",
        "56959"
       ]
      },
      {
       "output_type": "stream",
       "stream": "stdout",
       "text": [
        " 56960\n",
        "94732"
       ]
      },
      {
       "output_type": "stream",
       "stream": "stdout",
       "text": [
        " 94733\n",
        "94777"
       ]
      },
      {
       "output_type": "stream",
       "stream": "stdout",
       "text": [
        " 94778\n",
        "95021"
       ]
      },
      {
       "output_type": "stream",
       "stream": "stdout",
       "text": [
        " \n",
        "95216"
       ]
      },
      {
       "output_type": "stream",
       "stream": "stdout",
       "text": [
        " \n",
        "94988"
       ]
      },
      {
       "output_type": "stream",
       "stream": "stdout",
       "text": [
        " \n",
        "34938"
       ]
      },
      {
       "output_type": "stream",
       "stream": "stdout",
       "text": [
        " 34939\n",
        "91162"
       ]
      },
      {
       "output_type": "stream",
       "stream": "stdout",
       "text": [
        " 91168\n",
        "90174"
       ]
      },
      {
       "output_type": "stream",
       "stream": "stdout",
       "text": [
        " \n",
        "91162"
       ]
      },
      {
       "output_type": "stream",
       "stream": "stdout",
       "text": [
        " 91163\n",
        "71344"
       ]
      },
      {
       "output_type": "stream",
       "stream": "stdout",
       "text": [
        " \n",
        "55263"
       ]
      },
      {
       "output_type": "stream",
       "stream": "stdout",
       "text": [
        " 55307\n",
        "55200"
       ]
      },
      {
       "output_type": "stream",
       "stream": "stdout",
       "text": [
        " \n",
        "43378"
       ]
      },
      {
       "output_type": "stream",
       "stream": "stdout",
       "text": [
        " \n",
        "43375"
       ]
      },
      {
       "output_type": "stream",
       "stream": "stdout",
       "text": [
        " 42981\n",
        "34960"
       ]
      },
      {
       "output_type": "stream",
       "stream": "stdout",
       "text": [
        " 35064\n",
        "95192"
       ]
      },
      {
       "output_type": "stream",
       "stream": "stdout",
       "text": [
        " \n",
        "34337"
       ]
      },
      {
       "output_type": "stream",
       "stream": "stdout",
       "text": [
        " 34352\n",
        "90823"
       ]
      },
      {
       "output_type": "stream",
       "stream": "stdout",
       "text": [
        " \n",
        "94970"
       ]
      },
      {
       "output_type": "stream",
       "stream": "stdout",
       "text": [
        " \n",
        "94983"
       ]
      },
      {
       "output_type": "stream",
       "stream": "stdout",
       "text": [
        " \n",
        "94673"
       ]
      },
      {
       "output_type": "stream",
       "stream": "stdout",
       "text": [
        " \n",
        "95142"
       ]
      },
      {
       "output_type": "stream",
       "stream": "stdout",
       "text": [
        " \n",
        "93665"
       ]
      },
      {
       "output_type": "stream",
       "stream": "stdout",
       "text": [
        " 93666\n",
        "91137"
       ]
      },
      {
       "output_type": "stream",
       "stream": "stdout",
       "text": [
        " \n",
        "91162"
       ]
      },
      {
       "output_type": "stream",
       "stream": "stdout",
       "text": [
        " \n",
        "87474"
       ]
      },
      {
       "output_type": "stream",
       "stream": "stdout",
       "text": [
        " \n",
        "64019"
       ]
      },
      {
       "output_type": "stream",
       "stream": "stdout",
       "text": [
        " \n",
        "57774"
       ]
      },
      {
       "output_type": "stream",
       "stream": "stdout",
       "text": [
        " \n",
        "55215"
       ]
      },
      {
       "output_type": "stream",
       "stream": "stdout",
       "text": [
        " \n",
        "56919"
       ]
      },
      {
       "output_type": "stream",
       "stream": "stdout",
       "text": [
        " \n",
        "59050"
       ]
      },
      {
       "output_type": "stream",
       "stream": "stdout",
       "text": [
        " 59130\n",
        "94647"
       ]
      },
      {
       "output_type": "stream",
       "stream": "stdout",
       "text": [
        " 94735\n",
        "94836"
       ]
      },
      {
       "output_type": "stream",
       "stream": "stdout",
       "text": [
        " 94837\n",
        "91079"
       ]
      },
      {
       "output_type": "stream",
       "stream": "stdout",
       "text": [
        " \n",
        "94649"
       ]
      },
      {
       "output_type": "stream",
       "stream": "stdout",
       "text": [
        " 94650\n",
        "94660"
       ]
      },
      {
       "output_type": "stream",
       "stream": "stdout",
       "text": [
        " 94661\n",
        "94927"
       ]
      },
      {
       "output_type": "stream",
       "stream": "stdout",
       "text": [
        " \n",
        "94894"
       ]
      },
      {
       "output_type": "stream",
       "stream": "stdout",
       "text": [
        " \n",
        "92591"
       ]
      },
      {
       "output_type": "stream",
       "stream": "stdout",
       "text": [
        " 92595\n",
        "90789"
       ]
      },
      {
       "output_type": "stream",
       "stream": "stdout",
       "text": [
        " \n",
        "90515"
       ]
      },
      {
       "output_type": "stream",
       "stream": "stdout",
       "text": [
        " \n",
        "88243"
       ]
      },
      {
       "output_type": "stream",
       "stream": "stdout",
       "text": [
        " \n",
        "65918"
       ]
      },
      {
       "output_type": "stream",
       "stream": "stdout",
       "text": [
        " 65328\n",
        "58678"
       ]
      },
      {
       "output_type": "stream",
       "stream": "stdout",
       "text": [
        " \n",
        "56936"
       ]
      },
      {
       "output_type": "stream",
       "stream": "stdout",
       "text": [
        " 57768\n",
        "59049"
       ]
      },
      {
       "output_type": "stream",
       "stream": "stdout",
       "text": [
        " 59096\n",
        "94727"
       ]
      },
      {
       "output_type": "stream",
       "stream": "stdout",
       "text": [
        " 94728\n",
        "35069"
       ]
      },
      {
       "output_type": "stream",
       "stream": "stdout",
       "text": [
        " 35070\n",
        "90881"
       ]
      },
      {
       "output_type": "stream",
       "stream": "stdout",
       "text": [
        " \n",
        "94686"
       ]
      },
      {
       "output_type": "stream",
       "stream": "stdout",
       "text": [
        " 94745\n",
        "34941"
       ]
      },
      {
       "output_type": "stream",
       "stream": "stdout",
       "text": [
        " 34940\n",
        "94877"
       ]
      },
      {
       "output_type": "stream",
       "stream": "stdout",
       "text": [
        " \n",
        "94685"
       ]
      },
      {
       "output_type": "stream",
       "stream": "stdout",
       "text": [
        " 94749\n",
        "94669"
       ]
      },
      {
       "output_type": "stream",
       "stream": "stdout",
       "text": [
        " 94670\n",
        "94665"
       ]
      },
      {
       "output_type": "stream",
       "stream": "stdout",
       "text": [
        " 94738\n",
        "94644"
       ]
      },
      {
       "output_type": "stream",
       "stream": "stdout",
       "text": [
        " \n",
        "91022"
       ]
      },
      {
       "output_type": "stream",
       "stream": "stdout",
       "text": [
        " \n",
        "88387"
       ]
      },
      {
       "output_type": "stream",
       "stream": "stdout",
       "text": [
        " \n",
        "88203"
       ]
      },
      {
       "output_type": "stream",
       "stream": "stdout",
       "text": [
        " \n",
        "65923"
       ]
      },
      {
       "output_type": "stream",
       "stream": "stdout",
       "text": [
        " \n",
        "58679"
       ]
      },
      {
       "output_type": "stream",
       "stream": "stdout",
       "text": [
        " \n",
        "57768"
       ]
      },
      {
       "output_type": "stream",
       "stream": "stdout",
       "text": [
        " 57812\n",
        "57785"
       ]
      },
      {
       "output_type": "stream",
       "stream": "stdout",
       "text": [
        " \n",
        "34337"
       ]
      },
      {
       "output_type": "stream",
       "stream": "stdout",
       "text": [
        " \n",
        "55233"
       ]
      },
      {
       "output_type": "stream",
       "stream": "stdout",
       "text": [
        " \n",
        "94656"
       ]
      },
      {
       "output_type": "stream",
       "stream": "stdout",
       "text": [
        " \n",
        "90754"
       ]
      },
      {
       "output_type": "stream",
       "stream": "stdout",
       "text": [
        " \n",
        "90804"
       ]
      },
      {
       "output_type": "stream",
       "stream": "stdout",
       "text": [
        " 90767\n",
        "94651"
       ]
      },
      {
       "output_type": "stream",
       "stream": "stdout",
       "text": [
        " 94652\n",
        "94666"
       ]
      },
      {
       "output_type": "stream",
       "stream": "stdout",
       "text": [
        " 94667\n",
        "90804"
       ]
      },
      {
       "output_type": "stream",
       "stream": "stdout",
       "text": [
        " 90817\n",
        "94791"
       ]
      },
      {
       "output_type": "stream",
       "stream": "stdout",
       "text": [
        " \n",
        "94725"
       ]
      },
      {
       "output_type": "stream",
       "stream": "stdout",
       "text": [
        " 94686\n",
        "94671"
       ]
      },
      {
       "output_type": "stream",
       "stream": "stdout",
       "text": [
        " 94672\n",
        "94722"
       ]
      },
      {
       "output_type": "stream",
       "stream": "stdout",
       "text": [
        " \n",
        "92586"
       ]
      },
      {
       "output_type": "stream",
       "stream": "stdout",
       "text": [
        " 93409\n",
        "91119"
       ]
      },
      {
       "output_type": "stream",
       "stream": "stdout",
       "text": [
        " 91118\n",
        "93583"
       ]
      },
      {
       "output_type": "stream",
       "stream": "stdout",
       "text": [
        " 93584\n",
        "90145"
       ]
      },
      {
       "output_type": "stream",
       "stream": "stdout",
       "text": [
        " \n",
        "86795"
       ]
      },
      {
       "output_type": "stream",
       "stream": "stdout",
       "text": [
        " \n",
        "71356"
       ]
      },
      {
       "output_type": "stream",
       "stream": "stdout",
       "text": [
        " 71334\n",
        "59120"
       ]
      },
      {
       "output_type": "stream",
       "stream": "stdout",
       "text": [
        " \n",
        "55405"
       ]
      },
      {
       "output_type": "stream",
       "stream": "stdout",
       "text": [
        " \n",
        "56957"
       ]
      },
      {
       "output_type": "stream",
       "stream": "stdout",
       "text": [
        " \n",
        "42981"
       ]
      },
      {
       "output_type": "stream",
       "stream": "stdout",
       "text": [
        " 42951\n",
        "34284"
       ]
      },
      {
       "output_type": "stream",
       "stream": "stdout",
       "text": [
        " \n",
        "55185"
       ]
      },
      {
       "output_type": "stream",
       "stream": "stdout",
       "text": [
        " \n",
        "43019"
       ]
      },
      {
       "output_type": "stream",
       "stream": "stdout",
       "text": [
        " \n",
        "94893"
       ]
      },
      {
       "output_type": "stream",
       "stream": "stdout",
       "text": [
        " \n",
        "95027"
       ]
      },
      {
       "output_type": "stream",
       "stream": "stdout",
       "text": [
        " \n",
        "94729"
       ]
      },
      {
       "output_type": "stream",
       "stream": "stdout",
       "text": [
        " 94645\n",
        "34346"
       ]
      },
      {
       "output_type": "stream",
       "stream": "stdout",
       "text": [
        " 34353\n",
        "90917"
       ]
      },
      {
       "output_type": "stream",
       "stream": "stdout",
       "text": [
        " 90780\n",
        "94674"
       ]
      },
      {
       "output_type": "stream",
       "stream": "stdout",
       "text": [
        " 94675\n",
        "94737"
       ]
      },
      {
       "output_type": "stream",
       "stream": "stdout",
       "text": [
        " \n",
        "94571"
       ]
      },
      {
       "output_type": "stream",
       "stream": "stdout",
       "text": [
        " \n",
        "94121"
       ]
      },
      {
       "output_type": "stream",
       "stream": "stdout",
       "text": [
        " \n",
        "93654"
       ]
      },
      {
       "output_type": "stream",
       "stream": "stdout",
       "text": [
        " 93655\n",
        "93360"
       ]
      },
      {
       "output_type": "stream",
       "stream": "stdout",
       "text": [
        " 93361\n",
        "91148"
       ]
      },
      {
       "output_type": "stream",
       "stream": "stdout",
       "text": [
        " \n",
        "65929"
       ]
      },
      {
       "output_type": "stream",
       "stream": "stdout",
       "text": [
        " \n",
        "88935"
       ]
      },
      {
       "output_type": "stream",
       "stream": "stdout",
       "text": [
        " \n",
        "89764"
       ]
      },
      {
       "output_type": "stream",
       "stream": "stdout",
       "text": [
        " \n",
        "88511"
       ]
      },
      {
       "output_type": "stream",
       "stream": "stdout",
       "text": [
        " \n",
        "56941"
       ]
      },
      {
       "output_type": "stream",
       "stream": "stdout",
       "text": [
        " 57812\n",
        "55263"
       ]
      },
      {
       "output_type": "stream",
       "stream": "stdout",
       "text": [
        " \n",
        "55206"
       ]
      },
      {
       "output_type": "stream",
       "stream": "stdout",
       "text": [
        " \n",
        "95413"
       ]
      },
      {
       "output_type": "stream",
       "stream": "stdout",
       "text": [
        " \n",
        "88909"
       ]
      },
      {
       "output_type": "stream",
       "stream": "stdout",
       "text": [
        " \n",
        "55463"
       ]
      },
      {
       "output_type": "stream",
       "stream": "stdout",
       "text": [
        " 55464\n",
        "94736"
       ]
      },
      {
       "output_type": "stream",
       "stream": "stdout",
       "text": [
        " 94645\n",
        "59054"
       ]
      },
      {
       "output_type": "stream",
       "stream": "stdout",
       "text": [
        " 59072\n",
        "95225"
       ]
      },
      {
       "output_type": "stream",
       "stream": "stdout",
       "text": [
        " \n",
        "95217"
       ]
      },
      {
       "output_type": "stream",
       "stream": "stdout",
       "text": [
        " \n",
        "94730"
       ]
      },
      {
       "output_type": "stream",
       "stream": "stdout",
       "text": [
        " 94731\n",
        "94643"
       ]
      },
      {
       "output_type": "stream",
       "stream": "stdout",
       "text": [
        " \n",
        "94686"
       ]
      },
      {
       "output_type": "stream",
       "stream": "stdout",
       "text": [
        " \n",
        "94739"
       ]
      },
      {
       "output_type": "stream",
       "stream": "stdout",
       "text": [
        " 94740\n",
        "95412"
       ]
      },
      {
       "output_type": "stream",
       "stream": "stdout",
       "text": [
        " \n",
        "34931"
       ]
      },
      {
       "output_type": "stream",
       "stream": "stdout",
       "text": [
        " 34932\n",
        "90893"
       ]
      },
      {
       "output_type": "stream",
       "stream": "stdout",
       "text": [
        " 90894\n",
        "94763"
       ]
      },
      {
       "output_type": "stream",
       "stream": "stdout",
       "text": [
        " \n",
        "93540"
       ]
      },
      {
       "output_type": "stream",
       "stream": "stdout",
       "text": [
        " \n",
        "91127"
       ]
      },
      {
       "output_type": "stream",
       "stream": "stdout",
       "text": [
        " \n",
        "66098"
       ]
      },
      {
       "output_type": "stream",
       "stream": "stdout",
       "text": [
        " 66099\n",
        "88357"
       ]
      },
      {
       "output_type": "stream",
       "stream": "stdout",
       "text": [
        " \n",
        "55220"
       ]
      },
      {
       "output_type": "stream",
       "stream": "stdout",
       "text": [
        " \n",
        "55461"
       ]
      },
      {
       "output_type": "stream",
       "stream": "stdout",
       "text": [
        " \n",
        "94685"
       ]
      },
      {
       "output_type": "stream",
       "stream": "stdout",
       "text": [
        " \n",
        "90785"
       ]
      },
      {
       "output_type": "stream",
       "stream": "stdout",
       "text": [
        " \n",
        "94659"
       ]
      },
      {
       "output_type": "stream",
       "stream": "stdout",
       "text": [
        " \n",
        "90769"
       ]
      },
      {
       "output_type": "stream",
       "stream": "stdout",
       "text": [
        " \n",
        "94657"
       ]
      },
      {
       "output_type": "stream",
       "stream": "stdout",
       "text": [
        " 94658\n",
        "95201"
       ]
      },
      {
       "output_type": "stream",
       "stream": "stdout",
       "text": [
        " \n",
        "90787"
       ]
      },
      {
       "output_type": "stream",
       "stream": "stdout",
       "text": [
        " \n",
        "95516"
       ]
      },
      {
       "output_type": "stream",
       "stream": "stdout",
       "text": [
        " \n",
        "90783"
       ]
      },
      {
       "output_type": "stream",
       "stream": "stdout",
       "text": [
        " \n",
        "95228"
       ]
      },
      {
       "output_type": "stream",
       "stream": "stdout",
       "text": [
        " \n",
        "96161"
       ]
      },
      {
       "output_type": "stream",
       "stream": "stdout",
       "text": [
        " \n",
        "59099"
       ]
      },
      {
       "output_type": "stream",
       "stream": "stdout",
       "text": [
        " 59111\n",
        "94833"
       ]
      },
      {
       "output_type": "stream",
       "stream": "stdout",
       "text": [
        " 94834\n",
        "94657"
       ]
      },
      {
       "output_type": "stream",
       "stream": "stdout",
       "text": [
        " 94651\n",
        "97791"
       ]
      },
      {
       "output_type": "stream",
       "stream": "stdout",
       "text": [
        " \n",
        "94926"
       ]
      },
      {
       "output_type": "stream",
       "stream": "stdout",
       "text": [
        " \n",
        "94364"
       ]
      },
      {
       "output_type": "stream",
       "stream": "stdout",
       "text": [
        " \n",
        "95224"
       ]
      },
      {
       "output_type": "stream",
       "stream": "stdout",
       "text": [
        " \n",
        "92591"
       ]
      },
      {
       "output_type": "stream",
       "stream": "stdout",
       "text": [
        " 92608\n",
        "91043"
       ]
      },
      {
       "output_type": "stream",
       "stream": "stdout",
       "text": [
        " \n",
        "75118"
       ]
      },
      {
       "output_type": "stream",
       "stream": "stdout",
       "text": [
        " \n",
        "87368"
       ]
      },
      {
       "output_type": "stream",
       "stream": "stdout",
       "text": [
        " \n",
        "71354"
       ]
      },
      {
       "output_type": "stream",
       "stream": "stdout",
       "text": [
        " 74109\n",
        "65922"
       ]
      },
      {
       "output_type": "stream",
       "stream": "stdout",
       "text": [
        " 65930\n",
        "73163"
       ]
      },
      {
       "output_type": "stream",
       "stream": "stdout",
       "text": [
        " \n",
        "72127"
       ]
      },
      {
       "output_type": "stream",
       "stream": "stdout",
       "text": [
        " 71373\n",
        "66229"
       ]
      },
      {
       "output_type": "stream",
       "stream": "stdout",
       "text": [
        " \n",
        "66077"
       ]
      },
      {
       "output_type": "stream",
       "stream": "stdout",
       "text": [
        " \n",
        "64020"
       ]
      },
      {
       "output_type": "stream",
       "stream": "stdout",
       "text": [
        " \n",
        "55312"
       ]
      },
      {
       "output_type": "stream",
       "stream": "stdout",
       "text": [
        " \n",
        "57778"
       ]
      },
      {
       "output_type": "stream",
       "stream": "stdout",
       "text": [
        " \n",
        "55311"
       ]
      },
      {
       "output_type": "stream",
       "stream": "stdout",
       "text": [
        " \n",
        "55208"
       ]
      },
      {
       "output_type": "stream",
       "stream": "stdout",
       "text": [
        " \n",
        "42981"
       ]
      },
      {
       "output_type": "stream",
       "stream": "stdout",
       "text": [
        " 43375\n",
        "55339"
       ]
      },
      {
       "output_type": "stream",
       "stream": "stdout",
       "text": [
        " 55338\n",
        "55214"
       ]
      },
      {
       "output_type": "stream",
       "stream": "stdout",
       "text": [
        " \n",
        "54773"
       ]
      },
      {
       "output_type": "stream",
       "stream": "stdout",
       "text": [
        " \n",
        "95524"
       ]
      },
      {
       "output_type": "stream",
       "stream": "stdout",
       "text": [
        " \n",
        "95558"
       ]
      },
      {
       "output_type": "stream",
       "stream": "stdout",
       "text": [
        " \n",
        "91021"
       ]
      },
      {
       "output_type": "stream",
       "stream": "stdout",
       "text": [
        " \n",
        "94946"
       ]
      },
      {
       "output_type": "stream",
       "stream": "stdout",
       "text": [
        " 95122\n",
        "94648"
       ]
      },
      {
       "output_type": "stream",
       "stream": "stdout",
       "text": [
        " 94734\n",
        "94824"
       ]
      },
      {
       "output_type": "stream",
       "stream": "stdout",
       "text": [
        " \n",
        "90919"
       ]
      },
      {
       "output_type": "stream",
       "stream": "stdout",
       "text": [
        " 90920\n",
        "95271"
       ]
      },
      {
       "output_type": "stream",
       "stream": "stdout",
       "text": [
        " \n",
        "90923"
       ]
      },
      {
       "output_type": "stream",
       "stream": "stdout",
       "text": [
        " 90924\n",
        "90917"
       ]
      },
      {
       "output_type": "stream",
       "stream": "stdout",
       "text": [
        " 90918\n",
        "90954"
       ]
      },
      {
       "output_type": "stream",
       "stream": "stdout",
       "text": [
        " 90955\n",
        "94952"
       ]
      },
      {
       "output_type": "stream",
       "stream": "stdout",
       "text": [
        " \n",
        "94944"
       ]
      },
      {
       "output_type": "stream",
       "stream": "stdout",
       "text": [
        " \n",
        "96152"
       ]
      },
      {
       "output_type": "stream",
       "stream": "stdout",
       "text": [
        " \n",
        "94828"
       ]
      },
      {
       "output_type": "stream",
       "stream": "stdout",
       "text": [
        " \n",
        "95196"
       ]
      },
      {
       "output_type": "stream",
       "stream": "stdout",
       "text": [
        " \n",
        "95364"
       ]
      },
      {
       "output_type": "stream",
       "stream": "stdout",
       "text": [
        " \n",
        "94725"
       ]
      },
      {
       "output_type": "stream",
       "stream": "stdout",
       "text": [
        " 94726\n",
        "94799"
       ]
      },
      {
       "output_type": "stream",
       "stream": "stdout",
       "text": [
        " 94800\n",
        "90810"
       ]
      },
      {
       "output_type": "stream",
       "stream": "stdout",
       "text": [
        " \n",
        "95137"
       ]
      },
      {
       "output_type": "stream",
       "stream": "stdout",
       "text": [
        " \n",
        "94830"
       ]
      },
      {
       "output_type": "stream",
       "stream": "stdout",
       "text": [
        " \n",
        "94801"
       ]
      },
      {
       "output_type": "stream",
       "stream": "stdout",
       "text": [
        " \n",
        "94717"
       ]
      },
      {
       "output_type": "stream",
       "stream": "stdout",
       "text": [
        " 94708\n",
        "93903"
       ]
      },
      {
       "output_type": "stream",
       "stream": "stdout",
       "text": [
        " \n",
        "93953"
       ]
      },
      {
       "output_type": "stream",
       "stream": "stdout",
       "text": [
        " \n",
        "93467"
       ]
      },
      {
       "output_type": "stream",
       "stream": "stdout",
       "text": [
        " \n",
        "93375"
       ]
      },
      {
       "output_type": "stream",
       "stream": "stdout",
       "text": [
        " 93462\n",
        "93377"
       ]
      },
      {
       "output_type": "stream",
       "stream": "stdout",
       "text": [
        " \n",
        "92604"
       ]
      },
      {
       "output_type": "stream",
       "stream": "stdout",
       "text": [
        " 92605\n",
        "93347"
       ]
      },
      {
       "output_type": "stream",
       "stream": "stdout",
       "text": [
        " 92608\n",
        "93382"
       ]
      },
      {
       "output_type": "stream",
       "stream": "stdout",
       "text": [
        " \n",
        "91101"
       ]
      },
      {
       "output_type": "stream",
       "stream": "stdout",
       "text": [
        " 91143\n",
        "90634"
       ]
      },
      {
       "output_type": "stream",
       "stream": "stdout",
       "text": [
        " \n",
        "94127"
       ]
      },
      {
       "output_type": "stream",
       "stream": "stdout",
       "text": [
        " \n",
        "90156"
       ]
      },
      {
       "output_type": "stream",
       "stream": "stdout",
       "text": [
        " \n",
        "88133"
       ]
      },
      {
       "output_type": "stream",
       "stream": "stdout",
       "text": [
        " 88134\n",
        "61868"
       ]
      },
      {
       "output_type": "stream",
       "stream": "stdout",
       "text": [
        " \n",
        "88960"
       ]
      },
      {
       "output_type": "stream",
       "stream": "stdout",
       "text": [
        " \n",
        "89228"
       ]
      },
      {
       "output_type": "stream",
       "stream": "stdout",
       "text": [
        " \n",
        "75096"
       ]
      },
      {
       "output_type": "stream",
       "stream": "stdout",
       "text": [
        " \n",
        "71348"
       ]
      },
      {
       "output_type": "stream",
       "stream": "stdout",
       "text": [
        " \n",
        "74073"
       ]
      },
      {
       "output_type": "stream",
       "stream": "stdout",
       "text": [
        " 74074\n",
        "66197"
       ]
      },
      {
       "output_type": "stream",
       "stream": "stdout",
       "text": [
        " \n",
        "66817"
       ]
      },
      {
       "output_type": "stream",
       "stream": "stdout",
       "text": [
        " 66785\n",
        "55303"
       ]
      },
      {
       "output_type": "stream",
       "stream": "stdout",
       "text": [
        " \n",
        "55220"
       ]
      },
      {
       "output_type": "stream",
       "stream": "stdout",
       "text": [
        " 55307\n",
        "57743"
       ]
      },
      {
       "output_type": "stream",
       "stream": "stdout",
       "text": [
        " \n",
        "55202"
       ]
      },
      {
       "output_type": "stream",
       "stream": "stdout",
       "text": [
        " \n",
        "55473"
       ]
      },
      {
       "output_type": "stream",
       "stream": "stdout",
       "text": [
        " \n",
        "55198"
       ]
      },
      {
       "output_type": "stream",
       "stream": "stdout",
       "text": [
        " \n",
        "55411"
       ]
      },
      {
       "output_type": "stream",
       "stream": "stdout",
       "text": [
        " \n",
        "55207"
       ]
      },
      {
       "output_type": "stream",
       "stream": "stdout",
       "text": [
        " \n",
        "95555"
       ]
      },
      {
       "output_type": "stream",
       "stream": "stdout",
       "text": [
        " \n",
        "55445"
       ]
      },
      {
       "output_type": "stream",
       "stream": "stdout",
       "text": [
        " 55447\n",
        "59058"
       ]
      },
      {
       "output_type": "stream",
       "stream": "stdout",
       "text": [
        " \n",
        "90821"
       ]
      },
      {
       "output_type": "stream",
       "stream": "stdout",
       "text": [
        " \n",
        "90809"
       ]
      },
      {
       "output_type": "stream",
       "stream": "stdout",
       "text": [
        " \n",
        "95204"
       ]
      },
      {
       "output_type": "stream",
       "stream": "stdout",
       "text": [
        " \n",
        "94653"
       ]
      },
      {
       "output_type": "stream",
       "stream": "stdout",
       "text": [
        " 94654\n",
        "90821"
       ]
      },
      {
       "output_type": "stream",
       "stream": "stdout",
       "text": [
        " 90822\n",
        "95124"
       ]
      },
      {
       "output_type": "stream",
       "stream": "stdout",
       "text": [
        " \n",
        "95194"
       ]
      },
      {
       "output_type": "stream",
       "stream": "stdout",
       "text": [
        " \n",
        "94713"
       ]
      },
      {
       "output_type": "stream",
       "stream": "stdout",
       "text": [
        " \n",
        "91038"
       ]
      },
      {
       "output_type": "stream",
       "stream": "stdout",
       "text": [
        " \n",
        "96151"
       ]
      },
      {
       "output_type": "stream",
       "stream": "stdout",
       "text": [
        " \n",
        "94839"
       ]
      },
      {
       "output_type": "stream",
       "stream": "stdout",
       "text": [
        " \n",
        "94685"
       ]
      },
      {
       "output_type": "stream",
       "stream": "stdout",
       "text": [
        " 94686\n",
        "95199"
       ]
      },
      {
       "output_type": "stream",
       "stream": "stdout",
       "text": [
        " \n",
        "94880"
       ]
      },
      {
       "output_type": "stream",
       "stream": "stdout",
       "text": [
        " 94881\n",
        "95320"
       ]
      },
      {
       "output_type": "stream",
       "stream": "stdout",
       "text": [
        " 95321\n",
        "94948"
       ]
      },
      {
       "output_type": "stream",
       "stream": "stdout",
       "text": [
        " 94771\n",
        "95313"
       ]
      },
      {
       "output_type": "stream",
       "stream": "stdout",
       "text": [
        " \n",
        "94712"
       ]
      },
      {
       "output_type": "stream",
       "stream": "stdout",
       "text": [
        " 94810\n",
        "94087"
       ]
      },
      {
       "output_type": "stream",
       "stream": "stdout",
       "text": [
        " \n",
        "93810"
       ]
      },
      {
       "output_type": "stream",
       "stream": "stdout",
       "text": [
        " \n",
        "93694"
       ]
      },
      {
       "output_type": "stream",
       "stream": "stdout",
       "text": [
        " 93695\n",
        "93581"
       ]
      },
      {
       "output_type": "stream",
       "stream": "stdout",
       "text": [
        " 93582\n",
        "93580"
       ]
      },
      {
       "output_type": "stream",
       "stream": "stdout",
       "text": [
        " \n",
        "93555"
       ]
      },
      {
       "output_type": "stream",
       "stream": "stdout",
       "text": [
        " 93580\n",
        "90848"
       ]
      },
      {
       "output_type": "stream",
       "stream": "stdout",
       "text": [
        " 90849\n",
        "90499"
       ]
      },
      {
       "output_type": "stream",
       "stream": "stdout",
       "text": [
        " \n",
        "90742"
       ]
      },
      {
       "output_type": "stream",
       "stream": "stdout",
       "text": [
        " \n",
        "90222"
       ]
      },
      {
       "output_type": "stream",
       "stream": "stdout",
       "text": [
        " \n",
        "88180"
       ]
      },
      {
       "output_type": "stream",
       "stream": "stdout",
       "text": [
        " \n",
        "91137"
       ]
      },
      {
       "output_type": "stream",
       "stream": "stdout",
       "text": [
        " 91169\n",
        "88126"
       ]
      },
      {
       "output_type": "stream",
       "stream": "stdout",
       "text": [
        " \n",
        "88404"
       ]
      },
      {
       "output_type": "stream",
       "stream": "stdout",
       "text": [
        " \n",
        "89271"
       ]
      },
      {
       "output_type": "stream",
       "stream": "stdout",
       "text": [
        " \n",
        "88996"
       ]
      },
      {
       "output_type": "stream",
       "stream": "stdout",
       "text": [
        " \n",
        "88461"
       ]
      },
      {
       "output_type": "stream",
       "stream": "stdout",
       "text": [
        " \n",
        "85020"
       ]
      },
      {
       "output_type": "stream",
       "stream": "stdout",
       "text": [
        " \n",
        "86345"
       ]
      },
      {
       "output_type": "stream",
       "stream": "stdout",
       "text": [
        " 86346\n",
        "73160"
       ]
      },
      {
       "output_type": "stream",
       "stream": "stdout",
       "text": [
        " \n",
        "85021"
       ]
      },
      {
       "output_type": "stream",
       "stream": "stdout",
       "text": [
        " \n",
        "71370"
       ]
      },
      {
       "output_type": "stream",
       "stream": "stdout",
       "text": [
        " \n",
        "72126"
       ]
      },
      {
       "output_type": "stream",
       "stream": "stdout",
       "text": [
        " \n",
        "75103"
       ]
      },
      {
       "output_type": "stream",
       "stream": "stdout",
       "text": [
        " 74082\n",
        "71356"
       ]
      },
      {
       "output_type": "stream",
       "stream": "stdout",
       "text": [
        " \n",
        "88197"
       ]
      },
      {
       "output_type": "stream",
       "stream": "stdout",
       "text": [
        " \n",
        "67014"
       ]
      },
      {
       "output_type": "stream",
       "stream": "stdout",
       "text": [
        " 67013\n",
        "71335"
       ]
      },
      {
       "output_type": "stream",
       "stream": "stdout",
       "text": [
        " \n",
        "66815"
       ]
      },
      {
       "output_type": "stream",
       "stream": "stdout",
       "text": [
        " \n",
        "65327"
       ]
      },
      {
       "output_type": "stream",
       "stream": "stdout",
       "text": [
        " \n",
        "58678"
       ]
      },
      {
       "output_type": "stream",
       "stream": "stdout",
       "text": [
        " 58680\n",
        "34329"
       ]
      },
      {
       "output_type": "stream",
       "stream": "stdout",
       "text": [
        " \n",
        "59014"
       ]
      },
      {
       "output_type": "stream",
       "stream": "stdout",
       "text": [
        " \n",
        "57793"
       ]
      },
      {
       "output_type": "stream",
       "stream": "stdout",
       "text": [
        " \n",
        "55447"
       ]
      },
      {
       "output_type": "stream",
       "stream": "stdout",
       "text": [
        " \n",
        "57812"
       ]
      },
      {
       "output_type": "stream",
       "stream": "stdout",
       "text": [
        " \n",
        "72137"
       ]
      },
      {
       "output_type": "stream",
       "stream": "stdout",
       "text": [
        " \n",
        "43376"
       ]
      },
      {
       "output_type": "stream",
       "stream": "stdout",
       "text": [
        " 42981\n",
        "55240"
       ]
      },
      {
       "output_type": "stream",
       "stream": "stdout",
       "text": [
        " \n",
        "55213"
       ]
      },
      {
       "output_type": "stream",
       "stream": "stdout",
       "text": [
        " \n",
        "56913"
       ]
      },
      {
       "output_type": "stream",
       "stream": "stdout",
       "text": [
        " \n",
        "56635"
       ]
      },
      {
       "output_type": "stream",
       "stream": "stdout",
       "text": [
        " \n",
        "55232"
       ]
      },
      {
       "output_type": "stream",
       "stream": "stdout",
       "text": [
        " \n",
        "56941"
       ]
      },
      {
       "output_type": "stream",
       "stream": "stdout",
       "text": [
        " \n",
        "55473"
       ]
      },
      {
       "output_type": "stream",
       "stream": "stdout",
       "text": [
        " 54774\n",
        "56625"
       ]
      },
      {
       "output_type": "stream",
       "stream": "stdout",
       "text": [
        " 56626\n",
        "90767"
       ]
      },
      {
       "output_type": "stream",
       "stream": "stdout",
       "text": [
        " 90768\n",
        "95707"
       ]
      },
      {
       "output_type": "stream",
       "stream": "stdout",
       "text": [
        " \n",
        "95191"
       ]
      },
      {
       "output_type": "stream",
       "stream": "stdout",
       "text": [
        " \n",
        "90897"
       ]
      },
      {
       "output_type": "stream",
       "stream": "stdout",
       "text": [
        " 90898\n",
        "90754"
       ]
      },
      {
       "output_type": "stream",
       "stream": "stdout",
       "text": [
        " 91147\n",
        "95570"
       ]
      },
      {
       "output_type": "stream",
       "stream": "stdout",
       "text": [
        " \n",
        "94908"
       ]
      },
      {
       "output_type": "stream",
       "stream": "stdout",
       "text": [
        " \n",
        "95454"
       ]
      },
      {
       "output_type": "stream",
       "stream": "stdout",
       "text": [
        " \n",
        "94996"
       ]
      },
      {
       "output_type": "stream",
       "stream": "stdout",
       "text": [
        " \n",
        "91040"
       ]
      },
      {
       "output_type": "stream",
       "stream": "stdout",
       "text": [
        " 91041\n",
        "59049"
       ]
      },
      {
       "output_type": "stream",
       "stream": "stdout",
       "text": [
        " 59058\n",
        "95096"
       ]
      },
      {
       "output_type": "stream",
       "stream": "stdout",
       "text": [
        " 95241\n",
        "94481"
       ]
      },
      {
       "output_type": "stream",
       "stream": "stdout",
       "text": [
        " \n",
        "94630"
       ]
      },
      {
       "output_type": "stream",
       "stream": "stdout",
       "text": [
        " \n",
        "94528"
       ]
      },
      {
       "output_type": "stream",
       "stream": "stdout",
       "text": [
        " \n",
        "94176"
       ]
      },
      {
       "output_type": "stream",
       "stream": "stdout",
       "text": [
        " 94177\n",
        "94714"
       ]
      },
      {
       "output_type": "stream",
       "stream": "stdout",
       "text": [
        " 94709\n",
        "91045"
       ]
      },
      {
       "output_type": "stream",
       "stream": "stdout",
       "text": [
        " \n",
        "93869"
       ]
      },
      {
       "output_type": "stream",
       "stream": "stdout",
       "text": [
        " \n",
        "94177"
       ]
      },
      {
       "output_type": "stream",
       "stream": "stdout",
       "text": [
        " \n",
        "93868"
       ]
      },
      {
       "output_type": "stream",
       "stream": "stdout",
       "text": [
        " 93869\n",
        "93458"
       ]
      },
      {
       "output_type": "stream",
       "stream": "stdout",
       "text": [
        " 93459\n",
        "92591"
       ]
      },
      {
       "output_type": "stream",
       "stream": "stdout",
       "text": [
        " 92600\n",
        "92549"
       ]
      },
      {
       "output_type": "stream",
       "stream": "stdout",
       "text": [
        " \n",
        "90636"
       ]
      },
      {
       "output_type": "stream",
       "stream": "stdout",
       "text": [
        " \n",
        "91044"
       ]
      },
      {
       "output_type": "stream",
       "stream": "stdout",
       "text": [
        " \n",
        "66076"
       ]
      },
      {
       "output_type": "stream",
       "stream": "stdout",
       "text": [
        " \n",
        "90813"
       ]
      },
      {
       "output_type": "stream",
       "stream": "stdout",
       "text": [
        " \n",
        "90713"
       ]
      },
      {
       "output_type": "stream",
       "stream": "stdout",
       "text": [
        " \n",
        "90651"
       ]
      },
      {
       "output_type": "stream",
       "stream": "stdout",
       "text": [
        " \n",
        "74108"
       ]
      },
      {
       "output_type": "stream",
       "stream": "stdout",
       "text": [
        " \n",
        "90152"
       ]
      },
      {
       "output_type": "stream",
       "stream": "stdout",
       "text": [
        " \n",
        "90041"
       ]
      },
      {
       "output_type": "stream",
       "stream": "stdout",
       "text": [
        " \n",
        "88145"
       ]
      },
      {
       "output_type": "stream",
       "stream": "stdout",
       "text": [
        " 87843\n",
        "88432"
       ]
      },
      {
       "output_type": "stream",
       "stream": "stdout",
       "text": [
        " \n",
        "88078"
       ]
      },
      {
       "output_type": "stream",
       "stream": "stdout",
       "text": [
        " 88079\n",
        "88189"
       ]
      },
      {
       "output_type": "stream",
       "stream": "stdout",
       "text": [
        " \n",
        "66061"
       ]
      },
      {
       "output_type": "stream",
       "stream": "stdout",
       "text": [
        " \n",
        "75132"
       ]
      },
      {
       "output_type": "stream",
       "stream": "stdout",
       "text": [
        " 75133\n",
        "89004"
       ]
      },
      {
       "output_type": "stream",
       "stream": "stdout",
       "text": [
        " 89005\n",
        "89152"
       ]
      },
      {
       "output_type": "stream",
       "stream": "stdout",
       "text": [
        " \n",
        "59159"
       ]
      },
      {
       "output_type": "stream",
       "stream": "stdout",
       "text": [
        " \n",
        "89057"
       ]
      },
      {
       "output_type": "stream",
       "stream": "stdout",
       "text": [
        " \n",
        "74078"
       ]
      },
      {
       "output_type": "stream",
       "stream": "stdout",
       "text": [
        " \n",
        "88959"
       ]
      },
      {
       "output_type": "stream",
       "stream": "stdout",
       "text": [
        " \n",
        "88330"
       ]
      },
      {
       "output_type": "stream",
       "stream": "stdout",
       "text": [
        " \n",
        "88361"
       ]
      },
      {
       "output_type": "stream",
       "stream": "stdout",
       "text": [
        " \n",
        "88587"
       ]
      },
      {
       "output_type": "stream",
       "stream": "stdout",
       "text": [
        " \n",
        "88458"
       ]
      },
      {
       "output_type": "stream",
       "stream": "stdout",
       "text": [
        " \n",
        "65920"
       ]
      },
      {
       "output_type": "stream",
       "stream": "stdout",
       "text": [
        " \n",
        "86233"
       ]
      },
      {
       "output_type": "stream",
       "stream": "stdout",
       "text": [
        " \n",
        "88202"
       ]
      },
      {
       "output_type": "stream",
       "stream": "stdout",
       "text": [
        " \n",
        "71357"
       ]
      },
      {
       "output_type": "stream",
       "stream": "stdout",
       "text": [
        " \n",
        "67004"
       ]
      },
      {
       "output_type": "stream",
       "stream": "stdout",
       "text": [
        " \n",
        "72143"
       ]
      },
      {
       "output_type": "stream",
       "stream": "stdout",
       "text": [
        " \n",
        "71341"
       ]
      },
      {
       "output_type": "stream",
       "stream": "stdout",
       "text": [
        " 71342\n",
        "59086"
       ]
      },
      {
       "output_type": "stream",
       "stream": "stdout",
       "text": [
        " \n",
        "65957"
       ]
      },
      {
       "output_type": "stream",
       "stream": "stdout",
       "text": [
        " \n",
        "59094"
       ]
      },
      {
       "output_type": "stream",
       "stream": "stdout",
       "text": [
        " \n",
        "57888"
       ]
      },
      {
       "output_type": "stream",
       "stream": "stdout",
       "text": [
        " 58970\n",
        "58677"
       ]
      },
      {
       "output_type": "stream",
       "stream": "stdout",
       "text": [
        " \n",
        "55418"
       ]
      },
      {
       "output_type": "stream",
       "stream": "stdout",
       "text": [
        " 43376\n",
        "34375"
       ]
      },
      {
       "output_type": "stream",
       "stream": "stdout",
       "text": [
        " \n",
        "55210"
       ]
      },
      {
       "output_type": "stream",
       "stream": "stdout",
       "text": [
        " \n",
        "57773"
       ]
      },
      {
       "output_type": "stream",
       "stream": "stdout",
       "text": [
        " \n",
        "54542"
       ]
      },
      {
       "output_type": "stream",
       "stream": "stdout",
       "text": [
        " \n",
        "55241"
       ]
      },
      {
       "output_type": "stream",
       "stream": "stdout",
       "text": [
        " \n",
        "55244"
       ]
      },
      {
       "output_type": "stream",
       "stream": "stdout",
       "text": [
        " \n",
        "55253"
       ]
      },
      {
       "output_type": "stream",
       "stream": "stdout",
       "text": [
        " \n",
        "55238"
       ]
      },
      {
       "output_type": "stream",
       "stream": "stdout",
       "text": [
        " \n",
        "95520"
       ]
      },
      {
       "output_type": "stream",
       "stream": "stdout",
       "text": [
        " \n",
        "95507"
       ]
      },
      {
       "output_type": "stream",
       "stream": "stdout",
       "text": [
        " \n",
        "95044"
       ]
      },
      {
       "output_type": "stream",
       "stream": "stdout",
       "text": [
        " \n",
        "95580"
       ]
      },
      {
       "output_type": "stream",
       "stream": "stdout",
       "text": [
        " \n",
        "95021"
       ]
      },
      {
       "output_type": "stream",
       "stream": "stdout",
       "text": [
        " 94946\n",
        "59049"
       ]
      },
      {
       "output_type": "stream",
       "stream": "stdout",
       "text": [
        " \n",
        "90805"
       ]
      },
      {
       "output_type": "stream",
       "stream": "stdout",
       "text": [
        " 90806\n",
        "94992"
       ]
      },
      {
       "output_type": "stream",
       "stream": "stdout",
       "text": [
        " \n",
        "95205"
       ]
      },
      {
       "output_type": "stream",
       "stream": "stdout",
       "text": [
        " \n",
        "95071"
       ]
      },
      {
       "output_type": "stream",
       "stream": "stdout",
       "text": [
        " \n",
        "95256"
       ]
      },
      {
       "output_type": "stream",
       "stream": "stdout",
       "text": [
        " \n",
        "95707"
       ]
      },
      {
       "output_type": "stream",
       "stream": "stdout",
       "text": [
        " 95708\n",
        "91057"
       ]
      },
      {
       "output_type": "stream",
       "stream": "stdout",
       "text": [
        " 91058\n",
        "56615"
       ]
      },
      {
       "output_type": "stream",
       "stream": "stdout",
       "text": [
        " 55418\n",
        "95302"
       ]
      },
      {
       "output_type": "stream",
       "stream": "stdout",
       "text": [
        " \n",
        "94823"
       ]
      },
      {
       "output_type": "stream",
       "stream": "stdout",
       "text": [
        " \n",
        "95382"
       ]
      },
      {
       "output_type": "stream",
       "stream": "stdout",
       "text": [
        " \n",
        "95004"
       ]
      },
      {
       "output_type": "stream",
       "stream": "stdout",
       "text": [
        " \n",
        "94746"
       ]
      },
      {
       "output_type": "stream",
       "stream": "stdout",
       "text": [
        " \n",
        "59036"
       ]
      },
      {
       "output_type": "stream",
       "stream": "stdout",
       "text": [
        " \n",
        "95098"
       ]
      },
      {
       "output_type": "stream",
       "stream": "stdout",
       "text": [
        " \n",
        "95808"
       ]
      },
      {
       "output_type": "stream",
       "stream": "stdout",
       "text": [
        " \n",
        "96159"
       ]
      },
      {
       "output_type": "stream",
       "stream": "stdout",
       "text": [
        " \n",
        "95207"
       ]
      },
      {
       "output_type": "stream",
       "stream": "stdout",
       "text": [
        " \n",
        "94976"
       ]
      },
      {
       "output_type": "stream",
       "stream": "stdout",
       "text": [
        " 94977\n",
        "94640"
       ]
      },
      {
       "output_type": "stream",
       "stream": "stdout",
       "text": [
        " \n",
        "95818"
       ]
      },
      {
       "output_type": "stream",
       "stream": "stdout",
       "text": [
        " \n",
        "95521"
       ]
      },
      {
       "output_type": "stream",
       "stream": "stdout",
       "text": [
        " \n",
        "95463"
       ]
      },
      {
       "output_type": "stream",
       "stream": "stdout",
       "text": [
        " \n",
        "94948"
       ]
      },
      {
       "output_type": "stream",
       "stream": "stdout",
       "text": [
        " \n",
        "95096"
       ]
      },
      {
       "output_type": "stream",
       "stream": "stdout",
       "text": [
        " \n",
        "94921"
       ]
      },
      {
       "output_type": "stream",
       "stream": "stdout",
       "text": [
        " 95068\n",
        "59074"
       ]
      },
      {
       "output_type": "stream",
       "stream": "stdout",
       "text": [
        " 59075\n",
        "59058"
       ]
      },
      {
       "output_type": "stream",
       "stream": "stdout",
       "text": [
        " 59060\n",
        "93568"
       ]
      },
      {
       "output_type": "stream",
       "stream": "stdout",
       "text": [
        " \n",
        "95286"
       ]
      },
      {
       "output_type": "stream",
       "stream": "stdout",
       "text": [
        " 95287\n",
        "93652"
       ]
      },
      {
       "output_type": "stream",
       "stream": "stdout",
       "text": [
        " 93766\n",
        "94242"
       ]
      },
      {
       "output_type": "stream",
       "stream": "stdout",
       "text": [
        " \n",
        "94165"
       ]
      },
      {
       "output_type": "stream",
       "stream": "stdout",
       "text": [
        " \n",
        "94057"
       ]
      },
      {
       "output_type": "stream",
       "stream": "stdout",
       "text": [
        " 94162\n",
        "94068"
       ]
      },
      {
       "output_type": "stream",
       "stream": "stdout",
       "text": [
        " 94069\n",
        "93909"
       ]
      },
      {
       "output_type": "stream",
       "stream": "stdout",
       "text": [
        " \n",
        "94318"
       ]
      },
      {
       "output_type": "stream",
       "stream": "stdout",
       "text": [
        " 94320\n",
        "93828"
       ]
      },
      {
       "output_type": "stream",
       "stream": "stdout",
       "text": [
        " 93812\n",
        "93958"
       ]
      },
      {
       "output_type": "stream",
       "stream": "stdout",
       "text": [
        " \n",
        "93539"
       ]
      },
      {
       "output_type": "stream",
       "stream": "stdout",
       "text": [
        " \n",
        "93683"
       ]
      },
      {
       "output_type": "stream",
       "stream": "stdout",
       "text": [
        " 93684\n",
        "93708"
       ]
      },
      {
       "output_type": "stream",
       "stream": "stdout",
       "text": [
        " 93709\n",
        "93694"
       ]
      },
      {
       "output_type": "stream",
       "stream": "stdout",
       "text": [
        " \n",
        "93654"
       ]
      },
      {
       "output_type": "stream",
       "stream": "stdout",
       "text": [
        " \n",
        "93634"
       ]
      },
      {
       "output_type": "stream",
       "stream": "stdout",
       "text": [
        " \n",
        "93633"
       ]
      },
      {
       "output_type": "stream",
       "stream": "stdout",
       "text": [
        " \n",
        "93585"
       ]
      },
      {
       "output_type": "stream",
       "stream": "stdout",
       "text": [
        " 93586\n",
        "93594"
       ]
      },
      {
       "output_type": "stream",
       "stream": "stdout",
       "text": [
        " 93595\n",
        "93377"
       ]
      },
      {
       "output_type": "stream",
       "stream": "stdout",
       "text": [
        " 93467\n",
        "93375"
       ]
      },
      {
       "output_type": "stream",
       "stream": "stdout",
       "text": [
        " 93463\n",
        "93409"
       ]
      },
      {
       "output_type": "stream",
       "stream": "stdout",
       "text": [
        " \n",
        "92591"
       ]
      },
      {
       "output_type": "stream",
       "stream": "stdout",
       "text": [
        " \n",
        "93440"
       ]
      },
      {
       "output_type": "stream",
       "stream": "stdout",
       "text": [
        " 93439\n",
        "90628"
       ]
      },
      {
       "output_type": "stream",
       "stream": "stdout",
       "text": [
        " \n",
        "90712"
       ]
      },
      {
       "output_type": "stream",
       "stream": "stdout",
       "text": [
        " \n",
        "90653"
       ]
      },
      {
       "output_type": "stream",
       "stream": "stdout",
       "text": [
        " \n",
        "93550"
       ]
      },
      {
       "output_type": "stream",
       "stream": "stdout",
       "text": [
        " \n",
        "90496"
       ]
      },
      {
       "output_type": "stream",
       "stream": "stdout",
       "text": [
        " \n",
        "90514"
       ]
      },
      {
       "output_type": "stream",
       "stream": "stdout",
       "text": [
        " \n",
        "90627"
       ]
      },
      {
       "output_type": "stream",
       "stream": "stdout",
       "text": [
        " \n",
        "90202"
       ]
      },
      {
       "output_type": "stream",
       "stream": "stdout",
       "text": [
        " \n",
        "90072"
       ]
      },
      {
       "output_type": "stream",
       "stream": "stdout",
       "text": [
        " \n",
        "90800"
       ]
      },
      {
       "output_type": "stream",
       "stream": "stdout",
       "text": [
        " \n",
        "89134"
       ]
      },
      {
       "output_type": "stream",
       "stream": "stdout",
       "text": [
        " \n",
        "89932"
       ]
      },
      {
       "output_type": "stream",
       "stream": "stdout",
       "text": [
        " \n",
        "74037"
       ]
      },
      {
       "output_type": "stream",
       "stream": "stdout",
       "text": [
        " \n",
        "86408"
       ]
      },
      {
       "output_type": "stream",
       "stream": "stdout",
       "text": [
        " 66013\n",
        "88074"
       ]
      },
      {
       "output_type": "stream",
       "stream": "stdout",
       "text": [
        " \n",
        "86408"
       ]
      },
      {
       "output_type": "stream",
       "stream": "stdout",
       "text": [
        " 66010\n",
        "59159"
       ]
      },
      {
       "output_type": "stream",
       "stream": "stdout",
       "text": [
        " 66009\n",
        "91137"
       ]
      },
      {
       "output_type": "stream",
       "stream": "stdout",
       "text": [
        " 91138\n",
        "89061"
       ]
      },
      {
       "output_type": "stream",
       "stream": "stdout",
       "text": [
        " \n",
        "87479"
       ]
      },
      {
       "output_type": "stream",
       "stream": "stdout",
       "text": [
        " \n",
        "85024"
       ]
      },
      {
       "output_type": "stream",
       "stream": "stdout",
       "text": [
        " \n",
        "76160"
       ]
      },
      {
       "output_type": "stream",
       "stream": "stdout",
       "text": [
        " 84842\n",
        "87473"
       ]
      },
      {
       "output_type": "stream",
       "stream": "stdout",
       "text": [
        " \n",
        "88989"
       ]
      },
      {
       "output_type": "stream",
       "stream": "stdout",
       "text": [
        " \n",
        "59065"
       ]
      },
      {
       "output_type": "stream",
       "stream": "stdout",
       "text": [
        " \n",
        "89763"
       ]
      },
      {
       "output_type": "stream",
       "stream": "stdout",
       "text": [
        " \n",
        "74076"
       ]
      },
      {
       "output_type": "stream",
       "stream": "stdout",
       "text": [
        " \n",
        "79674"
       ]
      },
      {
       "output_type": "stream",
       "stream": "stdout",
       "text": [
        " \n",
        "86395"
       ]
      },
      {
       "output_type": "stream",
       "stream": "stdout",
       "text": [
        " \n",
        "89289"
       ]
      },
      {
       "output_type": "stream",
       "stream": "stdout",
       "text": [
        " 89153\n",
        "75127"
       ]
      },
      {
       "output_type": "stream",
       "stream": "stdout",
       "text": [
        " \n",
        "74074"
       ]
      },
      {
       "output_type": "stream",
       "stream": "stdout",
       "text": [
        " \n",
        "86351"
       ]
      },
      {
       "output_type": "stream",
       "stream": "stdout",
       "text": [
        " \n",
        "88895"
       ]
      },
      {
       "output_type": "stream",
       "stream": "stdout",
       "text": [
        " \n",
        "86233"
       ]
      },
      {
       "output_type": "stream",
       "stream": "stdout",
       "text": [
        " 86234\n",
        "88899"
       ]
      },
      {
       "output_type": "stream",
       "stream": "stdout",
       "text": [
        " \n",
        "88460"
       ]
      },
      {
       "output_type": "stream",
       "stream": "stdout",
       "text": [
        " \n",
        "88438"
       ]
      },
      {
       "output_type": "stream",
       "stream": "stdout",
       "text": [
        " \n",
        "90778"
       ]
      },
      {
       "output_type": "stream",
       "stream": "stdout",
       "text": [
        " \n",
        "88346"
       ]
      },
      {
       "output_type": "stream",
       "stream": "stdout",
       "text": [
        " \n",
        "88453"
       ]
      },
      {
       "output_type": "stream",
       "stream": "stdout",
       "text": [
        " \n",
        "84592"
       ]
      },
      {
       "output_type": "stream",
       "stream": "stdout",
       "text": [
        " \n",
        "88457"
       ]
      },
      {
       "output_type": "stream",
       "stream": "stdout",
       "text": [
        " \n",
        "72138"
       ]
      },
      {
       "output_type": "stream",
       "stream": "stdout",
       "text": [
        " \n",
        "65930"
       ]
      },
      {
       "output_type": "stream",
       "stream": "stdout",
       "text": [
        " \n",
        "72124"
       ]
      },
      {
       "output_type": "stream",
       "stream": "stdout",
       "text": [
        " \n",
        "74104"
       ]
      },
      {
       "output_type": "stream",
       "stream": "stdout",
       "text": [
        " 74105\n",
        "72124"
       ]
      },
      {
       "output_type": "stream",
       "stream": "stdout",
       "text": [
        " 71334\n",
        "74073"
       ]
      },
      {
       "output_type": "stream",
       "stream": "stdout",
       "text": [
        " 74089\n",
        "88209"
       ]
      },
      {
       "output_type": "stream",
       "stream": "stdout",
       "text": [
        " \n",
        "88163"
       ]
      },
      {
       "output_type": "stream",
       "stream": "stdout",
       "text": [
        " 88161\n",
        "88367"
       ]
      },
      {
       "output_type": "stream",
       "stream": "stdout",
       "text": [
        " \n",
        "72125"
       ]
      },
      {
       "output_type": "stream",
       "stream": "stdout",
       "text": [
        " \n",
        "76159"
       ]
      },
      {
       "output_type": "stream",
       "stream": "stdout",
       "text": [
        " \n",
        "74065"
       ]
      },
      {
       "output_type": "stream",
       "stream": "stdout",
       "text": [
        " \n",
        "86415"
       ]
      },
      {
       "output_type": "stream",
       "stream": "stdout",
       "text": [
        " \n",
        "67008"
       ]
      },
      {
       "output_type": "stream",
       "stream": "stdout",
       "text": [
        " \n",
        "74028"
       ]
      },
      {
       "output_type": "stream",
       "stream": "stdout",
       "text": [
        " 74029\n",
        "71335"
       ]
      },
      {
       "output_type": "stream",
       "stream": "stdout",
       "text": [
        " 70333\n",
        "74049"
       ]
      },
      {
       "output_type": "stream",
       "stream": "stdout",
       "text": [
        " 74051\n",
        "66227"
       ]
      },
      {
       "output_type": "stream",
       "stream": "stdout",
       "text": [
        " 66224\n",
        "65936"
       ]
      },
      {
       "output_type": "stream",
       "stream": "stdout",
       "text": [
        " \n",
        "66179"
       ]
      },
      {
       "output_type": "stream",
       "stream": "stdout",
       "text": [
        " \n",
        "64019"
       ]
      },
      {
       "output_type": "stream",
       "stream": "stdout",
       "text": [
        " 64017\n",
        "65908"
       ]
      },
      {
       "output_type": "stream",
       "stream": "stdout",
       "text": [
        " \n",
        "66169"
       ]
      },
      {
       "output_type": "stream",
       "stream": "stdout",
       "text": [
        " \n",
        "59082"
       ]
      },
      {
       "output_type": "stream",
       "stream": "stdout",
       "text": [
        " 59083\n",
        "59098"
       ]
      },
      {
       "output_type": "stream",
       "stream": "stdout",
       "text": [
        " \n",
        "65888"
       ]
      },
      {
       "output_type": "stream",
       "stream": "stdout",
       "text": [
        " 65889\n",
        "64037"
       ]
      },
      {
       "output_type": "stream",
       "stream": "stdout",
       "text": [
        " \n",
        "55307"
       ]
      },
      {
       "output_type": "stream",
       "stream": "stdout",
       "text": [
        " \n",
        "57877"
       ]
      },
      {
       "output_type": "stream",
       "stream": "stdout",
       "text": [
        " \n",
        "57847"
       ]
      },
      {
       "output_type": "stream",
       "stream": "stdout",
       "text": [
        " \n",
        "57839"
       ]
      },
      {
       "output_type": "stream",
       "stream": "stdout",
       "text": [
        " \n",
        "58619"
       ]
      },
      {
       "output_type": "stream",
       "stream": "stdout",
       "text": [
        " \n",
        "55366"
       ]
      },
      {
       "output_type": "stream",
       "stream": "stdout",
       "text": [
        " \n",
        "55302"
       ]
      },
      {
       "output_type": "stream",
       "stream": "stdout",
       "text": [
        " \n",
        "43376"
       ]
      },
      {
       "output_type": "stream",
       "stream": "stdout",
       "text": [
        " 54542\n",
        "57795"
       ]
      },
      {
       "output_type": "stream",
       "stream": "stdout",
       "text": [
        " \n",
        "57784"
       ]
      },
      {
       "output_type": "stream",
       "stream": "stdout",
       "text": [
        " \n",
        "57780"
       ]
      },
      {
       "output_type": "stream",
       "stream": "stdout",
       "text": [
        " \n",
        "55422"
       ]
      },
      {
       "output_type": "stream",
       "stream": "stdout",
       "text": [
        " \n",
        "55230"
       ]
      },
      {
       "output_type": "stream",
       "stream": "stdout",
       "text": [
        " \n",
        "58615"
       ]
      },
      {
       "output_type": "stream",
       "stream": "stdout",
       "text": [
        " 58616\n",
        "55399"
       ]
      },
      {
       "output_type": "stream",
       "stream": "stdout",
       "text": [
        " \n",
        "55438"
       ]
      },
      {
       "output_type": "stream",
       "stream": "stdout",
       "text": [
        " \n",
        "57736"
       ]
      },
      {
       "output_type": "stream",
       "stream": "stdout",
       "text": [
        " \n",
        "57788"
       ]
      },
      {
       "output_type": "stream",
       "stream": "stdout",
       "text": [
        " \n",
        "57721"
       ]
      },
      {
       "output_type": "stream",
       "stream": "stdout",
       "text": [
        " \n",
        "55266"
       ]
      },
      {
       "output_type": "stream",
       "stream": "stdout",
       "text": [
        " \n",
        "55264"
       ]
      },
      {
       "output_type": "stream",
       "stream": "stdout",
       "text": [
        " \n",
        "95472"
       ]
      },
      {
       "output_type": "stream",
       "stream": "stdout",
       "text": [
        " \n",
        "94976"
       ]
      },
      {
       "output_type": "stream",
       "stream": "stdout",
       "text": [
        " \n",
        "59100"
       ]
      },
      {
       "output_type": "stream",
       "stream": "stdout",
       "text": [
        " 59160\n",
        "95700"
       ]
      },
      {
       "output_type": "stream",
       "stream": "stdout",
       "text": [
        " \n",
        "95418"
       ]
      },
      {
       "output_type": "stream",
       "stream": "stdout",
       "text": [
        " 95419\n",
        "90106"
       ]
      },
      {
       "output_type": "stream",
       "stream": "stdout",
       "text": [
        " \n",
        "94716"
       ]
      },
      {
       "output_type": "stream",
       "stream": "stdout",
       "text": [
        " \n",
        "59112"
       ]
      },
      {
       "output_type": "stream",
       "stream": "stdout",
       "text": [
        " 59113\n",
        "94975"
       ]
      },
      {
       "output_type": "stream",
       "stream": "stdout",
       "text": [
        " \n",
        "95043"
       ]
      },
      {
       "output_type": "stream",
       "stream": "stdout",
       "text": [
        " \n",
        "91147"
       ]
      },
      {
       "output_type": "stream",
       "stream": "stdout",
       "text": [
        " \n",
        "95807"
       ]
      },
      {
       "output_type": "stream",
       "stream": "stdout",
       "text": [
        " \n",
        "95020"
       ]
      },
      {
       "output_type": "stream",
       "stream": "stdout",
       "text": [
        " \n",
        "95291"
       ]
      },
      {
       "output_type": "stream",
       "stream": "stdout",
       "text": [
        " \n",
        "95210"
       ]
      },
      {
       "output_type": "stream",
       "stream": "stdout",
       "text": [
        " 95211\n",
        "95061"
       ]
      },
      {
       "output_type": "stream",
       "stream": "stdout",
       "text": [
        " \n",
        "95804"
       ]
      },
      {
       "output_type": "stream",
       "stream": "stdout",
       "text": [
        " \n",
        "95317"
       ]
      },
      {
       "output_type": "stream",
       "stream": "stdout",
       "text": [
        " \n",
        "94795"
       ]
      },
      {
       "output_type": "stream",
       "stream": "stdout",
       "text": [
        " \n",
        "59061"
       ]
      },
      {
       "output_type": "stream",
       "stream": "stdout",
       "text": [
        " 59062\n",
        "93511"
       ]
      },
      {
       "output_type": "stream",
       "stream": "stdout",
       "text": [
        " \n",
        "95106"
       ]
      },
      {
       "output_type": "stream",
       "stream": "stdout",
       "text": [
        " \n",
        "95046"
       ]
      },
      {
       "output_type": "stream",
       "stream": "stdout",
       "text": [
        " \n",
        "95195"
       ]
      },
      {
       "output_type": "stream",
       "stream": "stdout",
       "text": [
        " \n",
        "95340"
       ]
      },
      {
       "output_type": "stream",
       "stream": "stdout",
       "text": [
        " \n",
        "95069"
       ]
      },
      {
       "output_type": "stream",
       "stream": "stdout",
       "text": [
        " 95070\n",
        "95177"
       ]
      },
      {
       "output_type": "stream",
       "stream": "stdout",
       "text": [
        " 95178\n",
        "91145"
       ]
      },
      {
       "output_type": "stream",
       "stream": "stdout",
       "text": [
        " 91146\n",
        "94616"
       ]
      },
      {
       "output_type": "stream",
       "stream": "stdout",
       "text": [
        " \n",
        "91131"
       ]
      },
      {
       "output_type": "stream",
       "stream": "stdout",
       "text": [
        " \n",
        "94813"
       ]
      },
      {
       "output_type": "stream",
       "stream": "stdout",
       "text": [
        " \n",
        "94386"
       ]
      },
      {
       "output_type": "stream",
       "stream": "stdout",
       "text": [
        " \n",
        "94784"
       ]
      },
      {
       "output_type": "stream",
       "stream": "stdout",
       "text": [
        " \n",
        "94522"
       ]
      },
      {
       "output_type": "stream",
       "stream": "stdout",
       "text": [
        " \n",
        "94477"
       ]
      },
      {
       "output_type": "stream",
       "stream": "stdout",
       "text": [
        " \n",
        "93640"
       ]
      },
      {
       "output_type": "stream",
       "stream": "stdout",
       "text": [
        " 93653\n",
        "93640"
       ]
      },
      {
       "output_type": "stream",
       "stream": "stdout",
       "text": [
        " 93668\n",
        "94456"
       ]
      },
      {
       "output_type": "stream",
       "stream": "stdout",
       "text": [
        " 94457\n",
        "94757"
       ]
      },
      {
       "output_type": "stream",
       "stream": "stdout",
       "text": [
        " \n",
        "94584"
       ]
      },
      {
       "output_type": "stream",
       "stream": "stdout",
       "text": [
        " \n",
        "94461"
       ]
      },
      {
       "output_type": "stream",
       "stream": "stdout",
       "text": [
        " 94519\n",
        "94324"
       ]
      },
      {
       "output_type": "stream",
       "stream": "stdout",
       "text": [
        " 94326\n",
        "94571"
       ]
      },
      {
       "output_type": "stream",
       "stream": "stdout",
       "text": [
        " 94461\n",
        "94708"
       ]
      },
      {
       "output_type": "stream",
       "stream": "stdout",
       "text": [
        " 94709\n",
        "94496"
       ]
      },
      {
       "output_type": "stream",
       "stream": "stdout",
       "text": [
        " \n",
        "94366"
       ]
      },
      {
       "output_type": "stream",
       "stream": "stdout",
       "text": [
        " \n",
        "94702"
       ]
      },
      {
       "output_type": "stream",
       "stream": "stdout",
       "text": [
        " 94703\n",
        "94704"
       ]
      },
      {
       "output_type": "stream",
       "stream": "stdout",
       "text": [
        " 94705\n",
        "93997"
       ]
      },
      {
       "output_type": "stream",
       "stream": "stdout",
       "text": [
        " \n",
        "94084"
       ]
      },
      {
       "output_type": "stream",
       "stream": "stdout",
       "text": [
        " 94085\n",
        "94109"
       ]
      },
      {
       "output_type": "stream",
       "stream": "stdout",
       "text": [
        " \n",
        "93929"
       ]
      },
      {
       "output_type": "stream",
       "stream": "stdout",
       "text": [
        " 93930\n",
        "93862"
       ]
      },
      {
       "output_type": "stream",
       "stream": "stdout",
       "text": [
        " 93863\n",
        "93913"
       ]
      },
      {
       "output_type": "stream",
       "stream": "stdout",
       "text": [
        " 93914\n",
        "93905"
       ]
      },
      {
       "output_type": "stream",
       "stream": "stdout",
       "text": [
        " 93912\n",
        "93905"
       ]
      },
      {
       "output_type": "stream",
       "stream": "stdout",
       "text": [
        " \n",
        "94091"
       ]
      },
      {
       "output_type": "stream",
       "stream": "stdout",
       "text": [
        " \n",
        "93469"
       ]
      },
      {
       "output_type": "stream",
       "stream": "stdout",
       "text": [
        " \n",
        "93516"
       ]
      },
      {
       "output_type": "stream",
       "stream": "stdout",
       "text": [
        " \n",
        "93437"
       ]
      },
      {
       "output_type": "stream",
       "stream": "stdout",
       "text": [
        " 93436\n",
        "93746"
       ]
      },
      {
       "output_type": "stream",
       "stream": "stdout",
       "text": [
        " \n",
        "93640"
       ]
      },
      {
       "output_type": "stream",
       "stream": "stdout",
       "text": [
        " 93655\n",
        "93640"
       ]
      },
      {
       "output_type": "stream",
       "stream": "stdout",
       "text": [
        " 93654\n",
        "93674"
       ]
      },
      {
       "output_type": "stream",
       "stream": "stdout",
       "text": [
        " 93675\n",
        "93449"
       ]
      },
      {
       "output_type": "stream",
       "stream": "stdout",
       "text": [
        " 93450\n",
        "93582"
       ]
      },
      {
       "output_type": "stream",
       "stream": "stdout",
       "text": [
        " 93581\n",
        "93375"
       ]
      },
      {
       "output_type": "stream",
       "stream": "stdout",
       "text": [
        " \n",
        "93367"
       ]
      },
      {
       "output_type": "stream",
       "stream": "stdout",
       "text": [
        " \n",
        "90827"
       ]
      },
      {
       "output_type": "stream",
       "stream": "stdout",
       "text": [
        " 90764\n",
        "92604"
       ]
      },
      {
       "output_type": "stream",
       "stream": "stdout",
       "text": [
        " \n",
        "92608"
       ]
      },
      {
       "output_type": "stream",
       "stream": "stdout",
       "text": [
        " 93348\n",
        "94488"
       ]
      },
      {
       "output_type": "stream",
       "stream": "stdout",
       "text": [
        " \n",
        "93521"
       ]
      },
      {
       "output_type": "stream",
       "stream": "stdout",
       "text": [
        " \n",
        "91078"
       ]
      },
      {
       "output_type": "stream",
       "stream": "stdout",
       "text": [
        " \n",
        "92541"
       ]
      },
      {
       "output_type": "stream",
       "stream": "stdout",
       "text": [
        " \n",
        "91063"
       ]
      },
      {
       "output_type": "stream",
       "stream": "stdout",
       "text": [
        " \n",
        "90946"
       ]
      },
      {
       "output_type": "stream",
       "stream": "stdout",
       "text": [
        " \n",
        "93561"
       ]
      },
      {
       "output_type": "stream",
       "stream": "stdout",
       "text": [
        " \n",
        "95221"
       ]
      },
      {
       "output_type": "stream",
       "stream": "stdout",
       "text": [
        " 95224\n",
        "92542"
       ]
      },
      {
       "output_type": "stream",
       "stream": "stdout",
       "text": [
        " \n",
        "90631"
       ]
      },
      {
       "output_type": "stream",
       "stream": "stdout",
       "text": [
        " \n",
        "90083"
       ]
      },
      {
       "output_type": "stream",
       "stream": "stdout",
       "text": [
        " \n",
        "91054"
       ]
      },
      {
       "output_type": "stream",
       "stream": "stdout",
       "text": [
        " 91055\n",
        "90838"
       ]
      },
      {
       "output_type": "stream",
       "stream": "stdout",
       "text": [
        " \n",
        "88133"
       ]
      },
      {
       "output_type": "stream",
       "stream": "stdout",
       "text": [
        " \n",
        "94037"
       ]
      },
      {
       "output_type": "stream",
       "stream": "stdout",
       "text": [
        " \n",
        "90652"
       ]
      },
      {
       "output_type": "stream",
       "stream": "stdout",
       "text": [
        " 90655\n",
        "90799"
       ]
      },
      {
       "output_type": "stream",
       "stream": "stdout",
       "text": [
        " \n",
        "72119"
       ]
      },
      {
       "output_type": "stream",
       "stream": "stdout",
       "text": [
        " \n",
        "90392"
       ]
      },
      {
       "output_type": "stream",
       "stream": "stdout",
       "text": [
        " \n",
        "90832"
       ]
      },
      {
       "output_type": "stream",
       "stream": "stdout",
       "text": [
        " \n",
        "90389"
       ]
      },
      {
       "output_type": "stream",
       "stream": "stdout",
       "text": [
        " \n",
        "90498"
       ]
      },
      {
       "output_type": "stream",
       "stream": "stdout",
       "text": [
        " \n",
        "90165"
       ]
      },
      {
       "output_type": "stream",
       "stream": "stdout",
       "text": [
        " 90180\n",
        "90175"
       ]
      },
      {
       "output_type": "stream",
       "stream": "stdout",
       "text": [
        " \n",
        "90741"
       ]
      },
      {
       "output_type": "stream",
       "stream": "stdout",
       "text": [
        " \n",
        "93420"
       ]
      },
      {
       "output_type": "stream",
       "stream": "stdout",
       "text": [
        " \n",
        "90729"
       ]
      },
      {
       "output_type": "stream",
       "stream": "stdout",
       "text": [
        " \n",
        "93417"
       ]
      },
      {
       "output_type": "stream",
       "stream": "stdout",
       "text": [
        " \n",
        "89802"
       ]
      },
      {
       "output_type": "stream",
       "stream": "stdout",
       "text": [
        " \n",
        "93431"
       ]
      },
      {
       "output_type": "stream",
       "stream": "stdout",
       "text": [
        " \n",
        "90066"
       ]
      },
      {
       "output_type": "stream",
       "stream": "stdout",
       "text": [
        " \n",
        "90826"
       ]
      },
      {
       "output_type": "stream",
       "stream": "stdout",
       "text": [
        " \n",
        "90051"
       ]
      },
      {
       "output_type": "stream",
       "stream": "stdout",
       "text": [
        " \n",
        "90388"
       ]
      },
      {
       "output_type": "stream",
       "stream": "stdout",
       "text": [
        " \n",
        "89150"
       ]
      },
      {
       "output_type": "stream",
       "stream": "stdout",
       "text": [
        " 89151\n",
        "75127"
       ]
      },
      {
       "output_type": "stream",
       "stream": "stdout",
       "text": [
        " 89154\n",
        "90036"
       ]
      },
      {
       "output_type": "stream",
       "stream": "stdout",
       "text": [
        " \n",
        "88383"
       ]
      },
      {
       "output_type": "stream",
       "stream": "stdout",
       "text": [
        " \n",
        "89237"
       ]
      },
      {
       "output_type": "stream",
       "stream": "stdout",
       "text": [
        " 89324\n",
        "89061"
       ]
      },
      {
       "output_type": "stream",
       "stream": "stdout",
       "text": [
        " 89163\n",
        "89150"
       ]
      },
      {
       "output_type": "stream",
       "stream": "stdout",
       "text": [
        " 89163\n",
        "88305"
       ]
      },
      {
       "output_type": "stream",
       "stream": "stdout",
       "text": [
        " \n",
        "85058"
       ]
      },
      {
       "output_type": "stream",
       "stream": "stdout",
       "text": [
        " \n",
        "89306"
       ]
      },
      {
       "output_type": "stream",
       "stream": "stdout",
       "text": [
        " \n",
        "89150"
       ]
      },
      {
       "output_type": "stream",
       "stream": "stdout",
       "text": [
        " \n",
        "88211"
       ]
      },
      {
       "output_type": "stream",
       "stream": "stdout",
       "text": [
        " \n",
        "89225"
       ]
      },
      {
       "output_type": "stream",
       "stream": "stdout",
       "text": [
        " \n",
        "90076"
       ]
      },
      {
       "output_type": "stream",
       "stream": "stdout",
       "text": [
        " \n",
        "89245"
       ]
      },
      {
       "output_type": "stream",
       "stream": "stdout",
       "text": [
        " \n",
        "90058"
       ]
      },
      {
       "output_type": "stream",
       "stream": "stdout",
       "text": [
        " \n",
        "85025"
       ]
      },
      {
       "output_type": "stream",
       "stream": "stdout",
       "text": [
        " \n",
        "89246"
       ]
      },
      {
       "output_type": "stream",
       "stream": "stdout",
       "text": [
        " \n",
        "89002"
       ]
      },
      {
       "output_type": "stream",
       "stream": "stdout",
       "text": [
        " \n",
        "88240"
       ]
      },
      {
       "output_type": "stream",
       "stream": "stdout",
       "text": [
        " \n",
        "88309"
       ]
      },
      {
       "output_type": "stream",
       "stream": "stdout",
       "text": [
        " \n",
        "79673"
       ]
      },
      {
       "output_type": "stream",
       "stream": "stdout",
       "text": [
        " \n",
        "66104"
       ]
      },
      {
       "output_type": "stream",
       "stream": "stdout",
       "text": [
        " 79272\n",
        "88461"
       ]
      },
      {
       "output_type": "stream",
       "stream": "stdout",
       "text": [
        " 88460\n",
        "86393"
       ]
      },
      {
       "output_type": "stream",
       "stream": "stdout",
       "text": [
        " \n",
        "79268"
       ]
      },
      {
       "output_type": "stream",
       "stream": "stdout",
       "text": [
        " 79269\n",
        "91103"
       ]
      },
      {
       "output_type": "stream",
       "stream": "stdout",
       "text": [
        " \n",
        "84841"
       ]
      },
      {
       "output_type": "stream",
       "stream": "stdout",
       "text": [
        " 85043\n",
        "74073"
       ]
      },
      {
       "output_type": "stream",
       "stream": "stdout",
       "text": [
        " 74090\n",
        "88900"
       ]
      },
      {
       "output_type": "stream",
       "stream": "stdout",
       "text": [
        " \n",
        "88647"
       ]
      },
      {
       "output_type": "stream",
       "stream": "stdout",
       "text": [
        " \n",
        "75097"
       ]
      },
      {
       "output_type": "stream",
       "stream": "stdout",
       "text": [
        " \n",
        "88588"
       ]
      },
      {
       "output_type": "stream",
       "stream": "stdout",
       "text": [
        " \n",
        "87369"
       ]
      },
      {
       "output_type": "stream",
       "stream": "stdout",
       "text": [
        " \n",
        "88636"
       ]
      },
      {
       "output_type": "stream",
       "stream": "stdout",
       "text": [
        " \n",
        "86415"
       ]
      },
      {
       "output_type": "stream",
       "stream": "stdout",
       "text": [
        " 88347\n",
        "88459"
       ]
      },
      {
       "output_type": "stream",
       "stream": "stdout",
       "text": [
        " \n",
        "85041"
       ]
      },
      {
       "output_type": "stream",
       "stream": "stdout",
       "text": [
        " 85042\n",
        "88320"
       ]
      },
      {
       "output_type": "stream",
       "stream": "stdout",
       "text": [
        " \n",
        "88319"
       ]
      },
      {
       "output_type": "stream",
       "stream": "stdout",
       "text": [
        " \n",
        "88431"
       ]
      },
      {
       "output_type": "stream",
       "stream": "stdout",
       "text": [
        " \n",
        "88390"
       ]
      },
      {
       "output_type": "stream",
       "stream": "stdout",
       "text": [
        " \n",
        "71324"
       ]
      },
      {
       "output_type": "stream",
       "stream": "stdout",
       "text": [
        " \n",
        "72134"
       ]
      },
      {
       "output_type": "stream",
       "stream": "stdout",
       "text": [
        " 71341\n",
        "86352"
       ]
      },
      {
       "output_type": "stream",
       "stream": "stdout",
       "text": [
        " 86353\n",
        "88165"
       ]
      },
      {
       "output_type": "stream",
       "stream": "stdout",
       "text": [
        " \n",
        "88129"
       ]
      },
      {
       "output_type": "stream",
       "stream": "stdout",
       "text": [
        " 88161\n",
        "88245"
       ]
      },
      {
       "output_type": "stream",
       "stream": "stdout",
       "text": [
        " \n",
        "87843"
       ]
      },
      {
       "output_type": "stream",
       "stream": "stdout",
       "text": [
        " 88078\n",
        "67014"
       ]
      },
      {
       "output_type": "stream",
       "stream": "stdout",
       "text": [
        " 67015\n",
        "74066"
       ]
      },
      {
       "output_type": "stream",
       "stream": "stdout",
       "text": [
        " \n",
        "88353"
       ]
      },
      {
       "output_type": "stream",
       "stream": "stdout",
       "text": [
        " \n",
        "86409"
       ]
      },
      {
       "output_type": "stream",
       "stream": "stdout",
       "text": [
        " \n",
        "71348"
       ]
      },
      {
       "output_type": "stream",
       "stream": "stdout",
       "text": [
        " 72119\n",
        "65984"
       ]
      },
      {
       "output_type": "stream",
       "stream": "stdout",
       "text": [
        " \n",
        "66833"
       ]
      },
      {
       "output_type": "stream",
       "stream": "stdout",
       "text": [
        " \n",
        "89001"
       ]
      },
      {
       "output_type": "stream",
       "stream": "stdout",
       "text": [
        " \n",
        "66784"
       ]
      },
      {
       "output_type": "stream",
       "stream": "stdout",
       "text": [
        " \n",
        "66213"
       ]
      },
      {
       "output_type": "stream",
       "stream": "stdout",
       "text": [
        " 66178\n",
        "66203"
       ]
      },
      {
       "output_type": "stream",
       "stream": "stdout",
       "text": [
        " 66204\n",
        "66814"
       ]
      },
      {
       "output_type": "stream",
       "stream": "stdout",
       "text": [
        " 66815\n",
        "66162"
       ]
      },
      {
       "output_type": "stream",
       "stream": "stdout",
       "text": [
        " \n",
        "88146"
       ]
      },
      {
       "output_type": "stream",
       "stream": "stdout",
       "text": [
        " \n",
        "61864"
       ]
      },
      {
       "output_type": "stream",
       "stream": "stdout",
       "text": [
        " \n",
        "66075"
       ]
      },
      {
       "output_type": "stream",
       "stream": "stdout",
       "text": [
        " \n",
        "59102"
       ]
      },
      {
       "output_type": "stream",
       "stream": "stdout",
       "text": [
        " \n",
        "65986"
       ]
      },
      {
       "output_type": "stream",
       "stream": "stdout",
       "text": [
        " \n",
        "66008"
       ]
      },
      {
       "output_type": "stream",
       "stream": "stdout",
       "text": [
        " \n",
        "65935"
       ]
      },
      {
       "output_type": "stream",
       "stream": "stdout",
       "text": [
        " \n",
        "66053"
       ]
      },
      {
       "output_type": "stream",
       "stream": "stdout",
       "text": [
        " \n",
        "65922"
       ]
      },
      {
       "output_type": "stream",
       "stream": "stdout",
       "text": [
        " 65925\n",
        "65920"
       ]
      },
      {
       "output_type": "stream",
       "stream": "stdout",
       "text": [
        " 65928\n",
        "64023"
       ]
      },
      {
       "output_type": "stream",
       "stream": "stdout",
       "text": [
        " 64022\n",
        "65910"
       ]
      },
      {
       "output_type": "stream",
       "stream": "stdout",
       "text": [
        " \n",
        "66081"
       ]
      },
      {
       "output_type": "stream",
       "stream": "stdout",
       "text": [
        " \n",
        "65335"
       ]
      },
      {
       "output_type": "stream",
       "stream": "stdout",
       "text": [
        " \n",
        "59080"
       ]
      },
      {
       "output_type": "stream",
       "stream": "stdout",
       "text": [
        " 59171\n",
        "61841"
       ]
      },
      {
       "output_type": "stream",
       "stream": "stdout",
       "text": [
        " \n",
        "89224"
       ]
      },
      {
       "output_type": "stream",
       "stream": "stdout",
       "text": [
        " \n",
        "59020"
       ]
      },
      {
       "output_type": "stream",
       "stream": "stdout",
       "text": [
        " \n",
        "58679"
       ]
      },
      {
       "output_type": "stream",
       "stream": "stdout",
       "text": [
        " 58680\n",
        "57775"
       ]
      },
      {
       "output_type": "stream",
       "stream": "stdout",
       "text": [
        " \n",
        "59163"
       ]
      },
      {
       "output_type": "stream",
       "stream": "stdout",
       "text": [
        " \n",
        "34391"
       ]
      },
      {
       "output_type": "stream",
       "stream": "stdout",
       "text": [
        " \n",
        "57778"
       ]
      },
      {
       "output_type": "stream",
       "stream": "stdout",
       "text": [
        " 57813\n",
        "58660"
       ]
      },
      {
       "output_type": "stream",
       "stream": "stdout",
       "text": [
        " 58661\n",
        "57826"
       ]
      },
      {
       "output_type": "stream",
       "stream": "stdout",
       "text": [
        " \n",
        "58649"
       ]
      },
      {
       "output_type": "stream",
       "stream": "stdout",
       "text": [
        " 58650\n",
        "58636"
       ]
      },
      {
       "output_type": "stream",
       "stream": "stdout",
       "text": [
        " 58637\n",
        "57813"
       ]
      },
      {
       "output_type": "stream",
       "stream": "stdout",
       "text": [
        " \n",
        "57796"
       ]
      },
      {
       "output_type": "stream",
       "stream": "stdout",
       "text": [
        " \n",
        "42992"
       ]
      },
      {
       "output_type": "stream",
       "stream": "stdout",
       "text": [
        " 57827\n",
        "56936"
       ]
      },
      {
       "output_type": "stream",
       "stream": "stdout",
       "text": [
        " 56958\n",
        "34393"
       ]
      },
      {
       "output_type": "stream",
       "stream": "stdout",
       "text": [
        " \n",
        "54771"
       ]
      },
      {
       "output_type": "stream",
       "stream": "stdout",
       "text": [
        " 42981\n",
        "56630"
       ]
      },
      {
       "output_type": "stream",
       "stream": "stdout",
       "text": [
        " \n",
        "58615"
       ]
      },
      {
       "output_type": "stream",
       "stream": "stdout",
       "text": [
        " \n",
        "55445"
       ]
      },
      {
       "output_type": "stream",
       "stream": "stdout",
       "text": [
        " \n",
        "55225"
       ]
      },
      {
       "output_type": "stream",
       "stream": "stdout",
       "text": [
        " \n",
        "55403"
       ]
      },
      {
       "output_type": "stream",
       "stream": "stdout",
       "text": [
        " \n",
        "55193"
       ]
      },
      {
       "output_type": "stream",
       "stream": "stdout",
       "text": [
        " \n",
        "55299"
       ]
      },
      {
       "output_type": "stream",
       "stream": "stdout",
       "text": [
        " \n",
        "43374"
       ]
      },
      {
       "output_type": "stream",
       "stream": "stdout",
       "text": [
        " 54540\n",
        "56974"
       ]
      },
      {
       "output_type": "stream",
       "stream": "stdout",
       "text": [
        " \n",
        "56907"
       ]
      },
      {
       "output_type": "stream",
       "stream": "stdout",
       "text": [
        " 56908\n",
        "55297"
       ]
      },
      {
       "output_type": "stream",
       "stream": "stdout",
       "text": [
        " \n",
        "34347"
       ]
      },
      {
       "output_type": "stream",
       "stream": "stdout",
       "text": [
        " \n",
        "42966"
       ]
      },
      {
       "output_type": "stream",
       "stream": "stdout",
       "text": [
        " 42967\n",
        "55254"
       ]
      },
      {
       "output_type": "stream",
       "stream": "stdout",
       "text": [
        " \n",
        "55302"
       ]
      },
      {
       "output_type": "stream",
       "stream": "stdout",
       "text": [
        " 55303\n",
        "55229"
       ]
      },
      {
       "output_type": "stream",
       "stream": "stdout",
       "text": [
        " \n",
        "42974"
       ]
      },
      {
       "output_type": "stream",
       "stream": "stdout",
       "text": [
        " \n",
        "42951"
       ]
      },
      {
       "output_type": "stream",
       "stream": "stdout",
       "text": [
        " 42952\n",
        "55184"
       ]
      },
      {
       "output_type": "stream",
       "stream": "stdout",
       "text": [
        " \n",
        "56905"
       ]
      },
      {
       "output_type": "stream",
       "stream": "stdout",
       "text": [
        " \n",
        "94752"
       ]
      },
      {
       "output_type": "stream",
       "stream": "stdout",
       "text": [
        " \n",
        "95144"
       ]
      },
      {
       "output_type": "stream",
       "stream": "stdout",
       "text": [
        " \n",
        "95528"
       ]
      },
      {
       "output_type": "stream",
       "stream": "stdout",
       "text": [
        " 95527\n",
        "91089"
       ]
      },
      {
       "output_type": "stream",
       "stream": "stdout",
       "text": [
        " 90948\n",
        "94963"
       ]
      },
      {
       "output_type": "stream",
       "stream": "stdout",
       "text": [
        " \n",
        "95574"
       ]
      },
      {
       "output_type": "stream",
       "stream": "stdout",
       "text": [
        " \n",
        "95579"
       ]
      },
      {
       "output_type": "stream",
       "stream": "stdout",
       "text": [
        " \n",
        "93362"
       ]
      },
      {
       "output_type": "stream",
       "stream": "stdout",
       "text": [
        " 93363\n",
        "95376"
       ]
      },
      {
       "output_type": "stream",
       "stream": "stdout",
       "text": [
        " \n",
        "95060"
       ]
      },
      {
       "output_type": "stream",
       "stream": "stdout",
       "text": [
        " \n",
        "93512"
       ]
      },
      {
       "output_type": "stream",
       "stream": "stdout",
       "text": [
        " \n",
        "90775"
       ]
      },
      {
       "output_type": "stream",
       "stream": "stdout",
       "text": [
        " \n",
        "95672"
       ]
      },
      {
       "output_type": "stream",
       "stream": "stdout",
       "text": [
        " \n",
        "94743"
       ]
      },
      {
       "output_type": "stream",
       "stream": "stdout",
       "text": [
        " \n",
        "90804"
       ]
      },
      {
       "output_type": "stream",
       "stream": "stdout",
       "text": [
        " \n",
        "95473"
       ]
      },
      {
       "output_type": "stream",
       "stream": "stdout",
       "text": [
        " \n",
        "94648"
       ]
      },
      {
       "output_type": "stream",
       "stream": "stdout",
       "text": [
        " 94818\n",
        "95390"
       ]
      },
      {
       "output_type": "stream",
       "stream": "stdout",
       "text": [
        " \n",
        "95675"
       ]
      },
      {
       "output_type": "stream",
       "stream": "stdout",
       "text": [
        " \n",
        "95477"
       ]
      },
      {
       "output_type": "stream",
       "stream": "stdout",
       "text": [
        " \n",
        "95389"
       ]
      },
      {
       "output_type": "stream",
       "stream": "stdout",
       "text": [
        " \n",
        "91089"
       ]
      },
      {
       "output_type": "stream",
       "stream": "stdout",
       "text": [
        " 91090\n",
        "95734"
       ]
      },
      {
       "output_type": "stream",
       "stream": "stdout",
       "text": [
        " \n",
        "94946"
       ]
      },
      {
       "output_type": "stream",
       "stream": "stdout",
       "text": [
        " 94902\n",
        "95498"
       ]
      },
      {
       "output_type": "stream",
       "stream": "stdout",
       "text": [
        " \n",
        "59065"
       ]
      },
      {
       "output_type": "stream",
       "stream": "stdout",
       "text": [
        " 59066\n",
        "91074"
       ]
      },
      {
       "output_type": "stream",
       "stream": "stdout",
       "text": [
        " 91075\n",
        "92514"
       ]
      },
      {
       "output_type": "stream",
       "stream": "stdout",
       "text": [
        " \n",
        "95790"
       ]
      },
      {
       "output_type": "stream",
       "stream": "stdout",
       "text": [
        " \n",
        "95006"
       ]
      },
      {
       "output_type": "stream",
       "stream": "stdout",
       "text": [
        " \n",
        "95307"
       ]
      },
      {
       "output_type": "stream",
       "stream": "stdout",
       "text": [
        " \n",
        "94993"
       ]
      },
      {
       "output_type": "stream",
       "stream": "stdout",
       "text": [
        " \n",
        "95657"
       ]
      },
      {
       "output_type": "stream",
       "stream": "stdout",
       "text": [
        " \n",
        "93545"
       ]
      },
      {
       "output_type": "stream",
       "stream": "stdout",
       "text": [
        " \n",
        "96130"
       ]
      },
      {
       "output_type": "stream",
       "stream": "stdout",
       "text": [
        " \n",
        "95582"
       ]
      },
      {
       "output_type": "stream",
       "stream": "stdout",
       "text": [
        " \n",
        "96153"
       ]
      },
      {
       "output_type": "stream",
       "stream": "stdout",
       "text": [
        " \n",
        "95002"
       ]
      },
      {
       "output_type": "stream",
       "stream": "stdout",
       "text": [
        " \n",
        "94980"
       ]
      },
      {
       "output_type": "stream",
       "stream": "stdout",
       "text": [
        " \n",
        "95683"
       ]
      },
      {
       "output_type": "stream",
       "stream": "stdout",
       "text": [
        " \n",
        "96215"
       ]
      },
      {
       "output_type": "stream",
       "stream": "stdout",
       "text": [
        " \n",
        "95494"
       ]
      },
      {
       "output_type": "stream",
       "stream": "stdout",
       "text": [
        " \n",
        "95824"
       ]
      },
      {
       "output_type": "stream",
       "stream": "stdout",
       "text": [
        " \n",
        "95047"
       ]
      },
      {
       "output_type": "stream",
       "stream": "stdout",
       "text": [
        " \n",
        "95038"
       ]
      },
      {
       "output_type": "stream",
       "stream": "stdout",
       "text": [
        " \n",
        "96520"
       ]
      },
      {
       "output_type": "stream",
       "stream": "stdout",
       "text": [
        " \n",
        "95452"
       ]
      },
      {
       "output_type": "stream",
       "stream": "stdout",
       "text": [
        " \n",
        "95438"
       ]
      },
      {
       "output_type": "stream",
       "stream": "stdout",
       "text": [
        " \n",
        "95176"
       ]
      },
      {
       "output_type": "stream",
       "stream": "stdout",
       "text": [
        " \n",
        "95414"
       ]
      },
      {
       "output_type": "stream",
       "stream": "stdout",
       "text": [
        " 95415\n",
        "94920"
       ]
      },
      {
       "output_type": "stream",
       "stream": "stdout",
       "text": [
        " 95380\n",
        "95363"
       ]
      },
      {
       "output_type": "stream",
       "stream": "stdout",
       "text": [
        " \n",
        "95130"
       ]
      },
      {
       "output_type": "stream",
       "stream": "stdout",
       "text": [
        " \n",
        "95322"
       ]
      },
      {
       "output_type": "stream",
       "stream": "stdout",
       "text": [
        " 95323\n",
        "95263"
       ]
      },
      {
       "output_type": "stream",
       "stream": "stdout",
       "text": [
        " 95265\n",
        "95057"
       ]
      },
      {
       "output_type": "stream",
       "stream": "stdout",
       "text": [
        " \n",
        "95045"
       ]
      },
      {
       "output_type": "stream",
       "stream": "stdout",
       "text": [
        " \n",
        "95033"
       ]
      },
      {
       "output_type": "stream",
       "stream": "stdout",
       "text": [
        " \n",
        "59099"
       ]
      },
      {
       "output_type": "stream",
       "stream": "stdout",
       "text": [
        " 59100\n",
        "95299"
       ]
      },
      {
       "output_type": "stream",
       "stream": "stdout",
       "text": [
        " \n",
        "59101"
       ]
      },
      {
       "output_type": "stream",
       "stream": "stdout",
       "text": [
        " 59102\n",
        "95373"
       ]
      },
      {
       "output_type": "stream",
       "stream": "stdout",
       "text": [
        " \n",
        "91039"
       ]
      },
      {
       "output_type": "stream",
       "stream": "stdout",
       "text": [
        " 90757\n",
        "95292"
       ]
      },
      {
       "output_type": "stream",
       "stream": "stdout",
       "text": [
        " \n",
        "94889"
       ]
      },
      {
       "output_type": "stream",
       "stream": "stdout",
       "text": [
        " \n",
        "95098"
       ]
      },
      {
       "output_type": "stream",
       "stream": "stdout",
       "text": [
        " 95288\n",
        "94785"
       ]
      },
      {
       "output_type": "stream",
       "stream": "stdout",
       "text": [
        " \n",
        "94887"
       ]
      },
      {
       "output_type": "stream",
       "stream": "stdout",
       "text": [
        " \n",
        "94786"
       ]
      },
      {
       "output_type": "stream",
       "stream": "stdout",
       "text": [
        " \n",
        "94533"
       ]
      },
      {
       "output_type": "stream",
       "stream": "stdout",
       "text": [
        " \n",
        "94524"
       ]
      },
      {
       "output_type": "stream",
       "stream": "stdout",
       "text": [
        " \n",
        "94893"
       ]
      },
      {
       "output_type": "stream",
       "stream": "stdout",
       "text": [
        " 94907\n",
        "94473"
       ]
      },
      {
       "output_type": "stream",
       "stream": "stdout",
       "text": [
        " \n",
        "92603"
       ]
      },
      {
       "output_type": "stream",
       "stream": "stdout",
       "text": [
        " \n",
        "94466"
       ]
      },
      {
       "output_type": "stream",
       "stream": "stdout",
       "text": [
        " \n",
        "91068"
       ]
      },
      {
       "output_type": "stream",
       "stream": "stdout",
       "text": [
        " 94108\n",
        "94176"
       ]
      },
      {
       "output_type": "stream",
       "stream": "stdout",
       "text": [
        " 94458\n",
        "94770"
       ]
      },
      {
       "output_type": "stream",
       "stream": "stdout",
       "text": [
        " \n",
        "59052"
       ]
      },
      {
       "output_type": "stream",
       "stream": "stdout",
       "text": [
        " 59053\n",
        "processing all\n",
        "94946"
       ]
      },
      {
       "output_type": "stream",
       "stream": "stdout",
       "text": [
        " \n",
        "42981"
       ]
      },
      {
       "output_type": "stream",
       "stream": "stdout",
       "text": [
        " \n",
        "88321"
       ]
      },
      {
       "output_type": "stream",
       "stream": "stdout",
       "text": [
        " \n",
        "43376"
       ]
      },
      {
       "output_type": "stream",
       "stream": "stdout",
       "text": [
        " \n",
        "87843"
       ]
      },
      {
       "output_type": "stream",
       "stream": "stdout",
       "text": [
        " \n",
        "89128"
       ]
      },
      {
       "output_type": "stream",
       "stream": "stdout",
       "text": [
        " \n",
        "90007"
       ]
      },
      {
       "output_type": "stream",
       "stream": "stdout",
       "text": [
        " \n",
        "94176"
       ]
      },
      {
       "output_type": "stream",
       "stream": "stdout",
       "text": [
        " \n",
        "57768"
       ]
      },
      {
       "output_type": "stream",
       "stream": "stdout",
       "text": [
        " \n",
        "59047"
       ]
      },
      {
       "output_type": "stream",
       "stream": "stdout",
       "text": [
        " \n",
        "74082"
       ]
      },
      {
       "output_type": "stream",
       "stream": "stdout",
       "text": [
        " \n",
        "92586"
       ]
      },
      {
       "output_type": "stream",
       "stream": "stdout",
       "text": [
        " \n",
        "90621"
       ]
      },
      {
       "output_type": "stream",
       "stream": "stdout",
       "text": [
        " \n",
        "56936"
       ]
      },
      {
       "output_type": "stream",
       "stream": "stdout",
       "text": [
        " \n",
        "90157"
       ]
      },
      {
       "output_type": "stream",
       "stream": "stdout",
       "text": [
        " \n",
        "55418"
       ]
      },
      {
       "output_type": "stream",
       "stream": "stdout",
       "text": [
        " \n",
        "91101"
       ]
      },
      {
       "output_type": "stream",
       "stream": "stdout",
       "text": [
        " \n",
        "94585"
       ]
      },
      {
       "output_type": "stream",
       "stream": "stdout",
       "text": [
        " \n",
        "71334"
       ]
      },
      {
       "output_type": "stream",
       "stream": "stdout",
       "text": [
        " \n",
        "94712"
       ]
      },
      {
       "output_type": "stream",
       "stream": "stdout",
       "text": [
        " \n",
        "86271"
       ]
      },
      {
       "output_type": "stream",
       "stream": "stdout",
       "text": [
        " \n",
        "94057"
       ]
      },
      {
       "output_type": "stream",
       "stream": "stdout",
       "text": [
        " \n",
        "56615"
       ]
      },
      {
       "output_type": "stream",
       "stream": "stdout",
       "text": [
        " \n",
        "94173"
       ]
      },
      {
       "output_type": "stream",
       "stream": "stdout",
       "text": [
        " \n",
        "93897"
       ]
      },
      {
       "output_type": "stream",
       "stream": "stdout",
       "text": [
        " \n",
        "90349"
       ]
      },
      {
       "output_type": "stream",
       "stream": "stdout",
       "text": [
        " \n",
        "90412"
       ]
      },
      {
       "output_type": "stream",
       "stream": "stdout",
       "text": [
        " \n",
        "88145"
       ]
      },
      {
       "output_type": "stream",
       "stream": "stdout",
       "text": [
        " \n",
        "71353"
       ]
      },
      {
       "output_type": "stream",
       "stream": "stdout",
       "text": [
        " \n",
        "93517"
       ]
      },
      {
       "output_type": "stream",
       "stream": "stdout",
       "text": [
        " \n",
        "93640"
       ]
      },
      {
       "output_type": "stream",
       "stream": "stdout",
       "text": [
        " \n",
        "93652"
       ]
      },
      {
       "output_type": "stream",
       "stream": "stdout",
       "text": [
        " \n",
        "88188"
       ]
      },
      {
       "output_type": "stream",
       "stream": "stdout",
       "text": [
        " \n",
        "90827"
       ]
      },
      {
       "output_type": "stream",
       "stream": "stdout",
       "text": [
        " \n",
        "64024"
       ]
      },
      {
       "output_type": "stream",
       "stream": "stdout",
       "text": [
        " \n",
        "66068"
       ]
      },
      {
       "output_type": "stream",
       "stream": "stdout",
       "text": [
        " \n",
        "93822"
       ]
      },
      {
       "output_type": "stream",
       "stream": "stdout",
       "text": [
        " \n",
        "61869"
       ]
      },
      {
       "output_type": "stream",
       "stream": "stdout",
       "text": [
        " \n",
        "66233"
       ]
      },
      {
       "output_type": "stream",
       "stream": "stdout",
       "text": [
        " \n",
        "66160"
       ]
      },
      {
       "output_type": "stream",
       "stream": "stdout",
       "text": [
        " \n",
        "90921"
       ]
      },
      {
       "output_type": "stream",
       "stream": "stdout",
       "text": [
        " \n",
        "93812"
       ]
      },
      {
       "output_type": "stream",
       "stream": "stdout",
       "text": [
        " \n",
        "93993"
       ]
      },
      {
       "output_type": "stream",
       "stream": "stdout",
       "text": [
        " \n",
        "59051"
       ]
      },
      {
       "output_type": "stream",
       "stream": "stdout",
       "text": [
        " \n",
        "90753"
       ]
      },
      {
       "output_type": "stream",
       "stream": "stdout",
       "text": [
        " \n",
        "92550"
       ]
      },
      {
       "output_type": "stream",
       "stream": "stdout",
       "text": [
        " \n",
        "66939"
       ]
      },
      {
       "output_type": "stream",
       "stream": "stdout",
       "text": [
        " \n",
        "93962"
       ]
      },
      {
       "output_type": "stream",
       "stream": "stdout",
       "text": [
        " \n",
        "94902"
       ]
      },
      {
       "output_type": "stream",
       "stream": "stdout",
       "text": [
        " \n",
        "88283"
       ]
      },
      {
       "output_type": "stream",
       "stream": "stdout",
       "text": [
        " \n",
        "66814"
       ]
      },
      {
       "output_type": "stream",
       "stream": "stdout",
       "text": [
        " \n",
        "65983"
       ]
      },
      {
       "output_type": "stream",
       "stream": "stdout",
       "text": [
        " \n",
        "65916"
       ]
      },
      {
       "output_type": "stream",
       "stream": "stdout",
       "text": [
        " \n",
        "90397"
       ]
      },
      {
       "output_type": "stream",
       "stream": "stdout",
       "text": [
        " \n",
        "56936"
       ]
      },
      {
       "output_type": "stream",
       "stream": "stdout",
       "text": [
        " 56941\n",
        "66045"
       ]
      },
      {
       "output_type": "stream",
       "stream": "stdout",
       "text": [
        " \n",
        "91068"
       ]
      },
      {
       "output_type": "stream",
       "stream": "stdout",
       "text": [
        " \n",
        "93555"
       ]
      },
      {
       "output_type": "stream",
       "stream": "stdout",
       "text": [
        " \n",
        "66167"
       ]
      },
      {
       "output_type": "stream",
       "stream": "stdout",
       "text": [
        " \n",
        "87367"
       ]
      },
      {
       "output_type": "stream",
       "stream": "stdout",
       "text": [
        " \n",
        "94874"
       ]
      },
      {
       "output_type": "stream",
       "stream": "stdout",
       "text": [
        " \n",
        "94106"
       ]
      },
      {
       "output_type": "stream",
       "stream": "stdout",
       "text": [
        " \n",
        "42951"
       ]
      },
      {
       "output_type": "stream",
       "stream": "stdout",
       "text": [
        " \n",
        "55418"
       ]
      },
      {
       "output_type": "stream",
       "stream": "stdout",
       "text": [
        " 55446\n",
        "94684"
       ]
      },
      {
       "output_type": "stream",
       "stream": "stdout",
       "text": [
        " \n",
        "94639"
       ]
      },
      {
       "output_type": "stream",
       "stream": "stdout",
       "text": [
        " \n",
        "90363"
       ]
      },
      {
       "output_type": "stream",
       "stream": "stdout",
       "text": [
        " \n",
        "59016"
       ]
      },
      {
       "output_type": "stream",
       "stream": "stdout",
       "text": [
        " \n",
        "59048"
       ]
      },
      {
       "output_type": "stream",
       "stream": "stdout",
       "text": [
        " \n",
        "88360"
       ]
      },
      {
       "output_type": "stream",
       "stream": "stdout",
       "text": [
        " \n",
        "94815"
       ]
      },
      {
       "output_type": "stream",
       "stream": "stdout",
       "text": [
        " \n",
        "59017"
       ]
      },
      {
       "output_type": "stream",
       "stream": "stdout",
       "text": [
        " \n",
        "66091"
       ]
      },
      {
       "output_type": "stream",
       "stream": "stdout",
       "text": [
        " \n",
        "76160"
       ]
      },
      {
       "output_type": "stream",
       "stream": "stdout",
       "text": [
        " \n",
        "94461"
       ]
      },
      {
       "output_type": "stream",
       "stream": "stdout",
       "text": [
        " \n",
        "54540"
       ]
      },
      {
       "output_type": "stream",
       "stream": "stdout",
       "text": [
        " \n",
        "42968"
       ]
      },
      {
       "output_type": "stream",
       "stream": "stdout",
       "text": [
        " 42969\n",
        "54541"
       ]
      },
      {
       "output_type": "stream",
       "stream": "stdout",
       "text": [
        " 54542\n",
        "59054"
       ]
      },
      {
       "output_type": "stream",
       "stream": "stdout",
       "text": [
        " \n",
        "89116"
       ]
      },
      {
       "output_type": "stream",
       "stream": "stdout",
       "text": [
        " \n",
        "94989"
       ]
      },
      {
       "output_type": "stream",
       "stream": "stdout",
       "text": [
        " \n",
        "94796"
       ]
      },
      {
       "output_type": "stream",
       "stream": "stdout",
       "text": [
        " \n",
        "94040"
       ]
      },
      {
       "output_type": "stream",
       "stream": "stdout",
       "text": [
        " \n",
        "90814"
       ]
      },
      {
       "output_type": "stream",
       "stream": "stdout",
       "text": [
        " \n",
        "54775"
       ]
      },
      {
       "output_type": "stream",
       "stream": "stdout",
       "text": [
        " \n",
        "95200"
       ]
      },
      {
       "output_type": "stream",
       "stream": "stdout",
       "text": [
        " \n",
        "93382"
       ]
      },
      {
       "output_type": "stream",
       "stream": "stdout",
       "text": [
        " 93467\n",
        "43375"
       ]
      },
      {
       "output_type": "stream",
       "stream": "stdout",
       "text": [
        " \n",
        "56615"
       ]
      },
      {
       "output_type": "stream",
       "stream": "stdout",
       "text": [
        " 56911\n",
        "94951"
       ]
      },
      {
       "output_type": "stream",
       "stream": "stdout",
       "text": [
        " \n",
        "94120"
       ]
      },
      {
       "output_type": "stream",
       "stream": "stdout",
       "text": [
        " \n",
        "43374"
       ]
      },
      {
       "output_type": "stream",
       "stream": "stdout",
       "text": [
        " \n",
        "90818"
       ]
      },
      {
       "output_type": "stream",
       "stream": "stdout",
       "text": [
        " \n",
        "89108"
       ]
      },
      {
       "output_type": "stream",
       "stream": "stdout",
       "text": [
        " \n",
        "90757"
       ]
      },
      {
       "output_type": "stream",
       "stream": "stdout",
       "text": [
        " \n",
        "54774"
       ]
      },
      {
       "output_type": "stream",
       "stream": "stdout",
       "text": [
        " \n",
        "94920"
       ]
      },
      {
       "output_type": "stream",
       "stream": "stdout",
       "text": [
        " \n",
        "65922"
       ]
      },
      {
       "output_type": "stream",
       "stream": "stdout",
       "text": [
        " \n",
        "94645"
       ]
      },
      {
       "output_type": "stream",
       "stream": "stdout",
       "text": [
        " \n",
        "59132"
       ]
      },
      {
       "output_type": "stream",
       "stream": "stdout",
       "text": [
        " 59133\n",
        "66811"
       ]
      },
      {
       "output_type": "stream",
       "stream": "stdout",
       "text": [
        " \n",
        "65922"
       ]
      },
      {
       "output_type": "stream",
       "stream": "stdout",
       "text": [
        " 65923\n",
        "86386"
       ]
      },
      {
       "output_type": "stream",
       "stream": "stdout",
       "text": [
        " \n",
        "58678"
       ]
      },
      {
       "output_type": "stream",
       "stream": "stdout",
       "text": [
        " 58679\n",
        "56957"
       ]
      },
      {
       "output_type": "stream",
       "stream": "stdout",
       "text": [
        " 56958\n",
        "75128"
       ]
      },
      {
       "output_type": "stream",
       "stream": "stdout",
       "text": [
        " \n",
        "90815"
       ]
      },
      {
       "output_type": "stream",
       "stream": "stdout",
       "text": [
        " \n",
        "88995"
       ]
      },
      {
       "output_type": "stream",
       "stream": "stdout",
       "text": [
        " \n",
        "61865"
       ]
      },
      {
       "output_type": "stream",
       "stream": "stdout",
       "text": [
        " \n",
        "35072"
       ]
      },
      {
       "output_type": "stream",
       "stream": "stdout",
       "text": [
        " 35073\n",
        "54776"
       ]
      },
      {
       "output_type": "stream",
       "stream": "stdout",
       "text": [
        " 54777\n",
        "94682"
       ]
      },
      {
       "output_type": "stream",
       "stream": "stdout",
       "text": [
        " \n",
        "94665"
       ]
      },
      {
       "output_type": "stream",
       "stream": "stdout",
       "text": [
        " \n",
        "54771"
       ]
      },
      {
       "output_type": "stream",
       "stream": "stdout",
       "text": [
        " \n",
        "90154"
       ]
      },
      {
       "output_type": "stream",
       "stream": "stdout",
       "text": [
        " \n",
        "90900"
       ]
      },
      {
       "output_type": "stream",
       "stream": "stdout",
       "text": [
        " \n",
        "34337"
       ]
      },
      {
       "output_type": "stream",
       "stream": "stdout",
       "text": [
        " 34329\n",
        "34354"
       ]
      },
      {
       "output_type": "stream",
       "stream": "stdout",
       "text": [
        " 34355\n",
        "94659"
       ]
      },
      {
       "output_type": "stream",
       "stream": "stdout",
       "text": [
        " 94741\n",
        "86308"
       ]
      },
      {
       "output_type": "stream",
       "stream": "stdout",
       "text": [
        " \n",
        "61866"
       ]
      },
      {
       "output_type": "stream",
       "stream": "stdout",
       "text": [
        " \n",
        "89120"
       ]
      },
      {
       "output_type": "stream",
       "stream": "stdout",
       "text": [
        " \n",
        "94921"
       ]
      },
      {
       "output_type": "stream",
       "stream": "stdout",
       "text": [
        " \n",
        "89140"
       ]
      },
      {
       "output_type": "stream",
       "stream": "stdout",
       "text": [
        " \n",
        "94965"
       ]
      },
      {
       "output_type": "stream",
       "stream": "stdout",
       "text": [
        " \n",
        "89126"
       ]
      },
      {
       "output_type": "stream",
       "stream": "stdout",
       "text": [
        " \n",
        "95069"
       ]
      },
      {
       "output_type": "stream",
       "stream": "stdout",
       "text": [
        " \n",
        "92591"
       ]
      },
      {
       "output_type": "stream",
       "stream": "stdout",
       "text": [
        " 92594\n",
        "88348"
       ]
      },
      {
       "output_type": "stream",
       "stream": "stdout",
       "text": [
        " \n",
        "57841"
       ]
      },
      {
       "output_type": "stream",
       "stream": "stdout",
       "text": [
        " \n",
        "42951"
       ]
      },
      {
       "output_type": "stream",
       "stream": "stdout",
       "text": [
        " 42981\n",
        "94761"
       ]
      },
      {
       "output_type": "stream",
       "stream": "stdout",
       "text": [
        " \n",
        "88343"
       ]
      },
      {
       "output_type": "stream",
       "stream": "stdout",
       "text": [
        " \n",
        "54540"
       ]
      },
      {
       "output_type": "stream",
       "stream": "stdout",
       "text": [
        " 43374\n",
        "94693"
       ]
      },
      {
       "output_type": "stream",
       "stream": "stdout",
       "text": [
        " \n",
        "94978"
       ]
      },
      {
       "output_type": "stream",
       "stream": "stdout",
       "text": [
        " \n",
        "55445"
       ]
      },
      {
       "output_type": "stream",
       "stream": "stdout",
       "text": [
        " 55418\n",
        "94900"
       ]
      },
      {
       "output_type": "stream",
       "stream": "stdout",
       "text": [
        " \n",
        "94738"
       ]
      },
      {
       "output_type": "stream",
       "stream": "stdout",
       "text": [
        " \n",
        "95022"
       ]
      },
      {
       "output_type": "stream",
       "stream": "stdout",
       "text": [
        " \n",
        "94759"
       ]
      },
      {
       "output_type": "stream",
       "stream": "stdout",
       "text": [
        " 94760\n",
        "89118"
       ]
      },
      {
       "output_type": "stream",
       "stream": "stdout",
       "text": [
        " \n",
        "86390"
       ]
      },
      {
       "output_type": "stream",
       "stream": "stdout",
       "text": [
        " \n",
        "71373"
       ]
      },
      {
       "output_type": "stream",
       "stream": "stdout",
       "text": [
        " 71374\n",
        "64017"
       ]
      },
      {
       "output_type": "stream",
       "stream": "stdout",
       "text": [
        " \n",
        "43376"
       ]
      },
      {
       "output_type": "stream",
       "stream": "stdout",
       "text": [
        " 54775\n",
        "95280"
       ]
      },
      {
       "output_type": "stream",
       "stream": "stdout",
       "text": [
        " \n",
        "90902"
       ]
      },
      {
       "output_type": "stream",
       "stream": "stdout",
       "text": [
        " \n",
        "94116"
       ]
      },
      {
       "output_type": "stream",
       "stream": "stdout",
       "text": [
        " \n",
        "95016"
       ]
      },
      {
       "output_type": "stream",
       "stream": "stdout",
       "text": [
        " \n",
        "54772"
       ]
      },
      {
       "output_type": "stream",
       "stream": "stdout",
       "text": [
        " 54773\n",
        "94991"
       ]
      },
      {
       "output_type": "stream",
       "stream": "stdout",
       "text": [
        " \n",
        "94986"
       ]
      },
      {
       "output_type": "stream",
       "stream": "stdout",
       "text": [
        " \n",
        "94771"
       ]
      },
      {
       "output_type": "stream",
       "stream": "stdout",
       "text": [
        " \n",
        "90746"
       ]
      },
      {
       "output_type": "stream",
       "stream": "stdout",
       "text": [
        " \n",
        "55192"
       ]
      },
      {
       "output_type": "stream",
       "stream": "stdout",
       "text": [
        " \n",
        "94821"
       ]
      },
      {
       "output_type": "stream",
       "stream": "stdout",
       "text": [
        " \n",
        "90816"
       ]
      },
      {
       "output_type": "stream",
       "stream": "stdout",
       "text": [
        " \n",
        "94982"
       ]
      },
      {
       "output_type": "stream",
       "stream": "stdout",
       "text": [
        " \n",
        "94762"
       ]
      },
      {
       "output_type": "stream",
       "stream": "stdout",
       "text": [
        " \n",
        "93590"
       ]
      },
      {
       "output_type": "stream",
       "stream": "stdout",
       "text": [
        " 93591\n",
        "91166"
       ]
      },
      {
       "output_type": "stream",
       "stream": "stdout",
       "text": [
        " 91167\n",
        "89124"
       ]
      },
      {
       "output_type": "stream",
       "stream": "stdout",
       "text": [
        " \n",
        "55461"
       ]
      },
      {
       "output_type": "stream",
       "stream": "stdout",
       "text": [
        " 55462\n",
        "59082"
       ]
      },
      {
       "output_type": "stream",
       "stream": "stdout",
       "text": [
        " \n",
        "55226"
       ]
      },
      {
       "output_type": "stream",
       "stream": "stdout",
       "text": [
        " \n",
        "54541"
       ]
      },
      {
       "output_type": "stream",
       "stream": "stdout",
       "text": [
        " \n",
        "34935"
       ]
      },
      {
       "output_type": "stream",
       "stream": "stdout",
       "text": [
        " 34936\n",
        "94647"
       ]
      },
      {
       "output_type": "stream",
       "stream": "stdout",
       "text": [
        " 94648\n",
        "34926"
       ]
      },
      {
       "output_type": "stream",
       "stream": "stdout",
       "text": [
        " 34927\n",
        "34329"
       ]
      },
      {
       "output_type": "stream",
       "stream": "stdout",
       "text": [
        " 34335\n",
        "34960"
       ]
      },
      {
       "output_type": "stream",
       "stream": "stdout",
       "text": [
        " \n",
        "74073"
       ]
      },
      {
       "output_type": "stream",
       "stream": "stdout",
       "text": [
        " \n",
        "43377"
       ]
      },
      {
       "output_type": "stream",
       "stream": "stdout",
       "text": [
        " \n",
        "95080"
       ]
      },
      {
       "output_type": "stream",
       "stream": "stdout",
       "text": [
        " \n",
        "94927"
       ]
      },
      {
       "output_type": "stream",
       "stream": "stdout",
       "text": [
        " 94926\n",
        "94820"
       ]
      },
      {
       "output_type": "stream",
       "stream": "stdout",
       "text": [
        " \n",
        "94662"
       ]
      },
      {
       "output_type": "stream",
       "stream": "stdout",
       "text": [
        " 94663\n",
        "95122"
       ]
      },
      {
       "output_type": "stream",
       "stream": "stdout",
       "text": [
        " \n",
        "34960"
       ]
      },
      {
       "output_type": "stream",
       "stream": "stdout",
       "text": [
        " 34346\n",
        "93434"
       ]
      },
      {
       "output_type": "stream",
       "stream": "stdout",
       "text": [
        " 93435\n",
        "87401"
       ]
      },
      {
       "output_type": "stream",
       "stream": "stdout",
       "text": [
        " \n",
        "58680"
       ]
      },
      {
       "output_type": "stream",
       "stream": "stdout",
       "text": [
        " \n",
        "58681"
       ]
      },
      {
       "output_type": "stream",
       "stream": "stdout",
       "text": [
        " \n",
        "91093"
       ]
      },
      {
       "output_type": "stream",
       "stream": "stdout",
       "text": [
        " 91094\n",
        "94748"
       ]
      },
      {
       "output_type": "stream",
       "stream": "stdout",
       "text": [
        " \n",
        "34929"
       ]
      },
      {
       "output_type": "stream",
       "stream": "stdout",
       "text": [
        " 34930\n",
        "94827"
       ]
      },
      {
       "output_type": "stream",
       "stream": "stdout",
       "text": [
        " \n",
        "90824"
       ]
      },
      {
       "output_type": "stream",
       "stream": "stdout",
       "text": [
        " \n",
        "59050"
       ]
      },
      {
       "output_type": "stream",
       "stream": "stdout",
       "text": [
        " \n",
        "91164"
       ]
      },
      {
       "output_type": "stream",
       "stream": "stdout",
       "text": [
        " 91165\n",
        "86387"
       ]
      },
      {
       "output_type": "stream",
       "stream": "stdout",
       "text": [
        " \n",
        "61865"
       ]
      },
      {
       "output_type": "stream",
       "stream": "stdout",
       "text": [
        " 61865\n",
        "35075"
       ]
      },
      {
       "output_type": "stream",
       "stream": "stdout",
       "text": [
        " \n",
        "55465"
       ]
      },
      {
       "output_type": "stream",
       "stream": "stdout",
       "text": [
        " 55466\n",
        "56959"
       ]
      },
      {
       "output_type": "stream",
       "stream": "stdout",
       "text": [
        " 56960\n",
        "94732"
       ]
      },
      {
       "output_type": "stream",
       "stream": "stdout",
       "text": [
        " 94733\n",
        "94777"
       ]
      },
      {
       "output_type": "stream",
       "stream": "stdout",
       "text": [
        " 94778\n",
        "95021"
       ]
      },
      {
       "output_type": "stream",
       "stream": "stdout",
       "text": [
        " \n",
        "95216"
       ]
      },
      {
       "output_type": "stream",
       "stream": "stdout",
       "text": [
        " \n",
        "94988"
       ]
      },
      {
       "output_type": "stream",
       "stream": "stdout",
       "text": [
        " \n",
        "34938"
       ]
      },
      {
       "output_type": "stream",
       "stream": "stdout",
       "text": [
        " 34939\n",
        "91162"
       ]
      },
      {
       "output_type": "stream",
       "stream": "stdout",
       "text": [
        " 91168\n",
        "90174"
       ]
      },
      {
       "output_type": "stream",
       "stream": "stdout",
       "text": [
        " \n",
        "91162"
       ]
      },
      {
       "output_type": "stream",
       "stream": "stdout",
       "text": [
        " 91163\n",
        "71344"
       ]
      },
      {
       "output_type": "stream",
       "stream": "stdout",
       "text": [
        " \n",
        "55263"
       ]
      },
      {
       "output_type": "stream",
       "stream": "stdout",
       "text": [
        " 55307\n",
        "55200"
       ]
      },
      {
       "output_type": "stream",
       "stream": "stdout",
       "text": [
        " \n",
        "43378"
       ]
      },
      {
       "output_type": "stream",
       "stream": "stdout",
       "text": [
        " \n",
        "43375"
       ]
      },
      {
       "output_type": "stream",
       "stream": "stdout",
       "text": [
        " 42981\n",
        "34960"
       ]
      },
      {
       "output_type": "stream",
       "stream": "stdout",
       "text": [
        " 35064\n",
        "95192"
       ]
      },
      {
       "output_type": "stream",
       "stream": "stdout",
       "text": [
        " \n",
        "34337"
       ]
      },
      {
       "output_type": "stream",
       "stream": "stdout",
       "text": [
        " 34352\n",
        "90823"
       ]
      },
      {
       "output_type": "stream",
       "stream": "stdout",
       "text": [
        " \n",
        "94970"
       ]
      },
      {
       "output_type": "stream",
       "stream": "stdout",
       "text": [
        " \n",
        "94983"
       ]
      },
      {
       "output_type": "stream",
       "stream": "stdout",
       "text": [
        " \n",
        "94673"
       ]
      },
      {
       "output_type": "stream",
       "stream": "stdout",
       "text": [
        " \n",
        "95142"
       ]
      },
      {
       "output_type": "stream",
       "stream": "stdout",
       "text": [
        " \n",
        "93665"
       ]
      },
      {
       "output_type": "stream",
       "stream": "stdout",
       "text": [
        " 93666\n",
        "91137"
       ]
      },
      {
       "output_type": "stream",
       "stream": "stdout",
       "text": [
        " \n",
        "91162"
       ]
      },
      {
       "output_type": "stream",
       "stream": "stdout",
       "text": [
        " \n",
        "87474"
       ]
      },
      {
       "output_type": "stream",
       "stream": "stdout",
       "text": [
        " \n",
        "64019"
       ]
      },
      {
       "output_type": "stream",
       "stream": "stdout",
       "text": [
        " \n",
        "57774"
       ]
      },
      {
       "output_type": "stream",
       "stream": "stdout",
       "text": [
        " \n",
        "55215"
       ]
      },
      {
       "output_type": "stream",
       "stream": "stdout",
       "text": [
        " \n",
        "56919"
       ]
      },
      {
       "output_type": "stream",
       "stream": "stdout",
       "text": [
        " \n",
        "59050"
       ]
      },
      {
       "output_type": "stream",
       "stream": "stdout",
       "text": [
        " 59130\n",
        "94647"
       ]
      },
      {
       "output_type": "stream",
       "stream": "stdout",
       "text": [
        " 94735\n",
        "94836"
       ]
      },
      {
       "output_type": "stream",
       "stream": "stdout",
       "text": [
        " 94837\n",
        "91079"
       ]
      },
      {
       "output_type": "stream",
       "stream": "stdout",
       "text": [
        " \n",
        "94649"
       ]
      },
      {
       "output_type": "stream",
       "stream": "stdout",
       "text": [
        " 94650\n",
        "94660"
       ]
      },
      {
       "output_type": "stream",
       "stream": "stdout",
       "text": [
        " 94661\n",
        "94927"
       ]
      },
      {
       "output_type": "stream",
       "stream": "stdout",
       "text": [
        " \n",
        "94894"
       ]
      },
      {
       "output_type": "stream",
       "stream": "stdout",
       "text": [
        " \n",
        "92591"
       ]
      },
      {
       "output_type": "stream",
       "stream": "stdout",
       "text": [
        " 92595\n",
        "90789"
       ]
      },
      {
       "output_type": "stream",
       "stream": "stdout",
       "text": [
        " \n",
        "90515"
       ]
      },
      {
       "output_type": "stream",
       "stream": "stdout",
       "text": [
        " \n",
        "88243"
       ]
      },
      {
       "output_type": "stream",
       "stream": "stdout",
       "text": [
        " \n",
        "65918"
       ]
      },
      {
       "output_type": "stream",
       "stream": "stdout",
       "text": [
        " 65328\n",
        "58678"
       ]
      },
      {
       "output_type": "stream",
       "stream": "stdout",
       "text": [
        " \n",
        "56936"
       ]
      },
      {
       "output_type": "stream",
       "stream": "stdout",
       "text": [
        " 57768\n",
        "59049"
       ]
      },
      {
       "output_type": "stream",
       "stream": "stdout",
       "text": [
        " 59096\n",
        "94727"
       ]
      },
      {
       "output_type": "stream",
       "stream": "stdout",
       "text": [
        " 94728\n",
        "35069"
       ]
      },
      {
       "output_type": "stream",
       "stream": "stdout",
       "text": [
        " 35070\n",
        "90881"
       ]
      },
      {
       "output_type": "stream",
       "stream": "stdout",
       "text": [
        " \n",
        "94686"
       ]
      },
      {
       "output_type": "stream",
       "stream": "stdout",
       "text": [
        " 94745\n",
        "34941"
       ]
      },
      {
       "output_type": "stream",
       "stream": "stdout",
       "text": [
        " 34940\n",
        "94877"
       ]
      },
      {
       "output_type": "stream",
       "stream": "stdout",
       "text": [
        " \n",
        "94685"
       ]
      },
      {
       "output_type": "stream",
       "stream": "stdout",
       "text": [
        " 94749\n",
        "94669"
       ]
      },
      {
       "output_type": "stream",
       "stream": "stdout",
       "text": [
        " 94670\n",
        "94665"
       ]
      },
      {
       "output_type": "stream",
       "stream": "stdout",
       "text": [
        " 94738\n",
        "94644"
       ]
      },
      {
       "output_type": "stream",
       "stream": "stdout",
       "text": [
        " \n",
        "91022"
       ]
      },
      {
       "output_type": "stream",
       "stream": "stdout",
       "text": [
        " \n",
        "88387"
       ]
      },
      {
       "output_type": "stream",
       "stream": "stdout",
       "text": [
        " \n",
        "88203"
       ]
      },
      {
       "output_type": "stream",
       "stream": "stdout",
       "text": [
        " \n",
        "65923"
       ]
      },
      {
       "output_type": "stream",
       "stream": "stdout",
       "text": [
        " \n",
        "58679"
       ]
      },
      {
       "output_type": "stream",
       "stream": "stdout",
       "text": [
        " \n",
        "57768"
       ]
      },
      {
       "output_type": "stream",
       "stream": "stdout",
       "text": [
        " 57812\n",
        "57785"
       ]
      },
      {
       "output_type": "stream",
       "stream": "stdout",
       "text": [
        " \n",
        "34337"
       ]
      },
      {
       "output_type": "stream",
       "stream": "stdout",
       "text": [
        " \n",
        "55233"
       ]
      },
      {
       "output_type": "stream",
       "stream": "stdout",
       "text": [
        " \n",
        "94656"
       ]
      },
      {
       "output_type": "stream",
       "stream": "stdout",
       "text": [
        " \n",
        "90754"
       ]
      },
      {
       "output_type": "stream",
       "stream": "stdout",
       "text": [
        " \n",
        "90804"
       ]
      },
      {
       "output_type": "stream",
       "stream": "stdout",
       "text": [
        " 90767\n",
        "94651"
       ]
      },
      {
       "output_type": "stream",
       "stream": "stdout",
       "text": [
        " 94652\n",
        "94666"
       ]
      },
      {
       "output_type": "stream",
       "stream": "stdout",
       "text": [
        " 94667\n",
        "90804"
       ]
      },
      {
       "output_type": "stream",
       "stream": "stdout",
       "text": [
        " 90817\n",
        "94791"
       ]
      },
      {
       "output_type": "stream",
       "stream": "stdout",
       "text": [
        " \n",
        "94725"
       ]
      },
      {
       "output_type": "stream",
       "stream": "stdout",
       "text": [
        " 94686\n",
        "94671"
       ]
      },
      {
       "output_type": "stream",
       "stream": "stdout",
       "text": [
        " 94672\n",
        "94722"
       ]
      },
      {
       "output_type": "stream",
       "stream": "stdout",
       "text": [
        " \n",
        "92586"
       ]
      },
      {
       "output_type": "stream",
       "stream": "stdout",
       "text": [
        " 93409\n",
        "91119"
       ]
      },
      {
       "output_type": "stream",
       "stream": "stdout",
       "text": [
        " 91118\n",
        "93583"
       ]
      },
      {
       "output_type": "stream",
       "stream": "stdout",
       "text": [
        " 93584\n",
        "90145"
       ]
      },
      {
       "output_type": "stream",
       "stream": "stdout",
       "text": [
        " \n",
        "86795"
       ]
      },
      {
       "output_type": "stream",
       "stream": "stdout",
       "text": [
        " \n",
        "71356"
       ]
      },
      {
       "output_type": "stream",
       "stream": "stdout",
       "text": [
        " 71334\n",
        "59120"
       ]
      },
      {
       "output_type": "stream",
       "stream": "stdout",
       "text": [
        " \n",
        "55405"
       ]
      },
      {
       "output_type": "stream",
       "stream": "stdout",
       "text": [
        " \n",
        "56957"
       ]
      },
      {
       "output_type": "stream",
       "stream": "stdout",
       "text": [
        " \n",
        "42981"
       ]
      },
      {
       "output_type": "stream",
       "stream": "stdout",
       "text": [
        " 42951\n",
        "34284"
       ]
      },
      {
       "output_type": "stream",
       "stream": "stdout",
       "text": [
        " \n",
        "55185"
       ]
      },
      {
       "output_type": "stream",
       "stream": "stdout",
       "text": [
        " \n",
        "43019"
       ]
      },
      {
       "output_type": "stream",
       "stream": "stdout",
       "text": [
        " \n",
        "94893"
       ]
      },
      {
       "output_type": "stream",
       "stream": "stdout",
       "text": [
        " \n",
        "95027"
       ]
      },
      {
       "output_type": "stream",
       "stream": "stdout",
       "text": [
        " \n",
        "94729"
       ]
      },
      {
       "output_type": "stream",
       "stream": "stdout",
       "text": [
        " 94645\n",
        "34346"
       ]
      },
      {
       "output_type": "stream",
       "stream": "stdout",
       "text": [
        " 34353\n",
        "90917"
       ]
      },
      {
       "output_type": "stream",
       "stream": "stdout",
       "text": [
        " 90780\n",
        "94674"
       ]
      },
      {
       "output_type": "stream",
       "stream": "stdout",
       "text": [
        " 94675\n",
        "94737"
       ]
      },
      {
       "output_type": "stream",
       "stream": "stdout",
       "text": [
        " \n",
        "94571"
       ]
      },
      {
       "output_type": "stream",
       "stream": "stdout",
       "text": [
        " \n",
        "94121"
       ]
      },
      {
       "output_type": "stream",
       "stream": "stdout",
       "text": [
        " \n",
        "93654"
       ]
      },
      {
       "output_type": "stream",
       "stream": "stdout",
       "text": [
        " 93655\n",
        "93360"
       ]
      },
      {
       "output_type": "stream",
       "stream": "stdout",
       "text": [
        " 93361\n",
        "91148"
       ]
      },
      {
       "output_type": "stream",
       "stream": "stdout",
       "text": [
        " \n",
        "65929"
       ]
      },
      {
       "output_type": "stream",
       "stream": "stdout",
       "text": [
        " \n",
        "88935"
       ]
      },
      {
       "output_type": "stream",
       "stream": "stdout",
       "text": [
        " \n",
        "89764"
       ]
      },
      {
       "output_type": "stream",
       "stream": "stdout",
       "text": [
        " \n",
        "88511"
       ]
      },
      {
       "output_type": "stream",
       "stream": "stdout",
       "text": [
        " \n",
        "56941"
       ]
      },
      {
       "output_type": "stream",
       "stream": "stdout",
       "text": [
        " 57812\n",
        "55263"
       ]
      },
      {
       "output_type": "stream",
       "stream": "stdout",
       "text": [
        " \n",
        "55206"
       ]
      },
      {
       "output_type": "stream",
       "stream": "stdout",
       "text": [
        " \n",
        "95413"
       ]
      },
      {
       "output_type": "stream",
       "stream": "stdout",
       "text": [
        " \n",
        "88909"
       ]
      },
      {
       "output_type": "stream",
       "stream": "stdout",
       "text": [
        " \n",
        "55463"
       ]
      },
      {
       "output_type": "stream",
       "stream": "stdout",
       "text": [
        " 55464\n",
        "94736"
       ]
      },
      {
       "output_type": "stream",
       "stream": "stdout",
       "text": [
        " 94645\n",
        "59054"
       ]
      },
      {
       "output_type": "stream",
       "stream": "stdout",
       "text": [
        " 59072\n",
        "95225"
       ]
      },
      {
       "output_type": "stream",
       "stream": "stdout",
       "text": [
        " \n",
        "95217"
       ]
      },
      {
       "output_type": "stream",
       "stream": "stdout",
       "text": [
        " \n",
        "94730"
       ]
      },
      {
       "output_type": "stream",
       "stream": "stdout",
       "text": [
        " 94731\n",
        "94643"
       ]
      },
      {
       "output_type": "stream",
       "stream": "stdout",
       "text": [
        " \n",
        "94686"
       ]
      },
      {
       "output_type": "stream",
       "stream": "stdout",
       "text": [
        " \n",
        "94739"
       ]
      },
      {
       "output_type": "stream",
       "stream": "stdout",
       "text": [
        " 94740\n",
        "95412"
       ]
      },
      {
       "output_type": "stream",
       "stream": "stdout",
       "text": [
        " \n",
        "34931"
       ]
      },
      {
       "output_type": "stream",
       "stream": "stdout",
       "text": [
        " 34932\n",
        "90893"
       ]
      },
      {
       "output_type": "stream",
       "stream": "stdout",
       "text": [
        " 90894\n",
        "94763"
       ]
      },
      {
       "output_type": "stream",
       "stream": "stdout",
       "text": [
        " \n",
        "93540"
       ]
      },
      {
       "output_type": "stream",
       "stream": "stdout",
       "text": [
        " \n",
        "91127"
       ]
      },
      {
       "output_type": "stream",
       "stream": "stdout",
       "text": [
        " \n",
        "66098"
       ]
      },
      {
       "output_type": "stream",
       "stream": "stdout",
       "text": [
        " 66099\n",
        "88357"
       ]
      },
      {
       "output_type": "stream",
       "stream": "stdout",
       "text": [
        " \n",
        "55220"
       ]
      },
      {
       "output_type": "stream",
       "stream": "stdout",
       "text": [
        " \n",
        "55461"
       ]
      },
      {
       "output_type": "stream",
       "stream": "stdout",
       "text": [
        " \n",
        "94685"
       ]
      },
      {
       "output_type": "stream",
       "stream": "stdout",
       "text": [
        " \n",
        "90785"
       ]
      },
      {
       "output_type": "stream",
       "stream": "stdout",
       "text": [
        " \n",
        "94659"
       ]
      },
      {
       "output_type": "stream",
       "stream": "stdout",
       "text": [
        " \n",
        "90769"
       ]
      },
      {
       "output_type": "stream",
       "stream": "stdout",
       "text": [
        " \n",
        "94657"
       ]
      },
      {
       "output_type": "stream",
       "stream": "stdout",
       "text": [
        " 94658\n",
        "95201"
       ]
      },
      {
       "output_type": "stream",
       "stream": "stdout",
       "text": [
        " \n",
        "90787"
       ]
      },
      {
       "output_type": "stream",
       "stream": "stdout",
       "text": [
        " \n",
        "95516"
       ]
      },
      {
       "output_type": "stream",
       "stream": "stdout",
       "text": [
        " \n",
        "90783"
       ]
      },
      {
       "output_type": "stream",
       "stream": "stdout",
       "text": [
        " \n",
        "95228"
       ]
      },
      {
       "output_type": "stream",
       "stream": "stdout",
       "text": [
        " \n",
        "96161"
       ]
      },
      {
       "output_type": "stream",
       "stream": "stdout",
       "text": [
        " \n",
        "59099"
       ]
      },
      {
       "output_type": "stream",
       "stream": "stdout",
       "text": [
        " 59111\n",
        "94833"
       ]
      },
      {
       "output_type": "stream",
       "stream": "stdout",
       "text": [
        " 94834\n",
        "94657"
       ]
      },
      {
       "output_type": "stream",
       "stream": "stdout",
       "text": [
        " 94651\n",
        "97791"
       ]
      },
      {
       "output_type": "stream",
       "stream": "stdout",
       "text": [
        " \n",
        "94926"
       ]
      },
      {
       "output_type": "stream",
       "stream": "stdout",
       "text": [
        " \n",
        "94364"
       ]
      },
      {
       "output_type": "stream",
       "stream": "stdout",
       "text": [
        " \n",
        "95224"
       ]
      },
      {
       "output_type": "stream",
       "stream": "stdout",
       "text": [
        " \n",
        "92591"
       ]
      },
      {
       "output_type": "stream",
       "stream": "stdout",
       "text": [
        " 92608\n",
        "91043"
       ]
      },
      {
       "output_type": "stream",
       "stream": "stdout",
       "text": [
        " \n",
        "75118"
       ]
      },
      {
       "output_type": "stream",
       "stream": "stdout",
       "text": [
        " \n",
        "87368"
       ]
      },
      {
       "output_type": "stream",
       "stream": "stdout",
       "text": [
        " \n",
        "71354"
       ]
      },
      {
       "output_type": "stream",
       "stream": "stdout",
       "text": [
        " 74109\n",
        "65922"
       ]
      },
      {
       "output_type": "stream",
       "stream": "stdout",
       "text": [
        " 65930\n",
        "73163"
       ]
      },
      {
       "output_type": "stream",
       "stream": "stdout",
       "text": [
        " \n",
        "72127"
       ]
      },
      {
       "output_type": "stream",
       "stream": "stdout",
       "text": [
        " 71373\n",
        "66229"
       ]
      },
      {
       "output_type": "stream",
       "stream": "stdout",
       "text": [
        " \n",
        "66077"
       ]
      },
      {
       "output_type": "stream",
       "stream": "stdout",
       "text": [
        " \n",
        "64020"
       ]
      },
      {
       "output_type": "stream",
       "stream": "stdout",
       "text": [
        " \n",
        "55312"
       ]
      },
      {
       "output_type": "stream",
       "stream": "stdout",
       "text": [
        " \n",
        "57778"
       ]
      },
      {
       "output_type": "stream",
       "stream": "stdout",
       "text": [
        " \n",
        "55311"
       ]
      },
      {
       "output_type": "stream",
       "stream": "stdout",
       "text": [
        " \n",
        "55208"
       ]
      },
      {
       "output_type": "stream",
       "stream": "stdout",
       "text": [
        " \n",
        "42981"
       ]
      },
      {
       "output_type": "stream",
       "stream": "stdout",
       "text": [
        " 43375\n",
        "55339"
       ]
      },
      {
       "output_type": "stream",
       "stream": "stdout",
       "text": [
        " 55338\n",
        "55214"
       ]
      },
      {
       "output_type": "stream",
       "stream": "stdout",
       "text": [
        " \n",
        "54773"
       ]
      },
      {
       "output_type": "stream",
       "stream": "stdout",
       "text": [
        " \n",
        "95524"
       ]
      },
      {
       "output_type": "stream",
       "stream": "stdout",
       "text": [
        " \n",
        "95558"
       ]
      },
      {
       "output_type": "stream",
       "stream": "stdout",
       "text": [
        " \n",
        "91021"
       ]
      },
      {
       "output_type": "stream",
       "stream": "stdout",
       "text": [
        " \n",
        "94946"
       ]
      },
      {
       "output_type": "stream",
       "stream": "stdout",
       "text": [
        " 95122\n",
        "94648"
       ]
      },
      {
       "output_type": "stream",
       "stream": "stdout",
       "text": [
        " 94734\n",
        "94824"
       ]
      },
      {
       "output_type": "stream",
       "stream": "stdout",
       "text": [
        " \n",
        "90919"
       ]
      },
      {
       "output_type": "stream",
       "stream": "stdout",
       "text": [
        " 90920\n",
        "95271"
       ]
      },
      {
       "output_type": "stream",
       "stream": "stdout",
       "text": [
        " \n",
        "90923"
       ]
      },
      {
       "output_type": "stream",
       "stream": "stdout",
       "text": [
        " 90924\n",
        "90917"
       ]
      },
      {
       "output_type": "stream",
       "stream": "stdout",
       "text": [
        " 90918\n",
        "90954"
       ]
      },
      {
       "output_type": "stream",
       "stream": "stdout",
       "text": [
        " 90955\n",
        "94952"
       ]
      },
      {
       "output_type": "stream",
       "stream": "stdout",
       "text": [
        " \n",
        "94944"
       ]
      },
      {
       "output_type": "stream",
       "stream": "stdout",
       "text": [
        " \n",
        "96152"
       ]
      },
      {
       "output_type": "stream",
       "stream": "stdout",
       "text": [
        " \n",
        "94828"
       ]
      },
      {
       "output_type": "stream",
       "stream": "stdout",
       "text": [
        " \n",
        "95196"
       ]
      },
      {
       "output_type": "stream",
       "stream": "stdout",
       "text": [
        " \n",
        "95364"
       ]
      },
      {
       "output_type": "stream",
       "stream": "stdout",
       "text": [
        " \n",
        "94725"
       ]
      },
      {
       "output_type": "stream",
       "stream": "stdout",
       "text": [
        " 94726\n",
        "94799"
       ]
      },
      {
       "output_type": "stream",
       "stream": "stdout",
       "text": [
        " 94800\n",
        "90810"
       ]
      },
      {
       "output_type": "stream",
       "stream": "stdout",
       "text": [
        " \n",
        "95137"
       ]
      },
      {
       "output_type": "stream",
       "stream": "stdout",
       "text": [
        " \n",
        "94830"
       ]
      },
      {
       "output_type": "stream",
       "stream": "stdout",
       "text": [
        " \n",
        "94801"
       ]
      },
      {
       "output_type": "stream",
       "stream": "stdout",
       "text": [
        " \n",
        "94717"
       ]
      },
      {
       "output_type": "stream",
       "stream": "stdout",
       "text": [
        " 94708\n",
        "93903"
       ]
      },
      {
       "output_type": "stream",
       "stream": "stdout",
       "text": [
        " \n",
        "93953"
       ]
      },
      {
       "output_type": "stream",
       "stream": "stdout",
       "text": [
        " \n",
        "93467"
       ]
      },
      {
       "output_type": "stream",
       "stream": "stdout",
       "text": [
        " \n",
        "93375"
       ]
      },
      {
       "output_type": "stream",
       "stream": "stdout",
       "text": [
        " 93462\n",
        "93377"
       ]
      },
      {
       "output_type": "stream",
       "stream": "stdout",
       "text": [
        " \n",
        "92604"
       ]
      },
      {
       "output_type": "stream",
       "stream": "stdout",
       "text": [
        " 92605\n",
        "93347"
       ]
      },
      {
       "output_type": "stream",
       "stream": "stdout",
       "text": [
        " 92608\n",
        "93382"
       ]
      },
      {
       "output_type": "stream",
       "stream": "stdout",
       "text": [
        " \n",
        "91101"
       ]
      },
      {
       "output_type": "stream",
       "stream": "stdout",
       "text": [
        " 91143\n",
        "90634"
       ]
      },
      {
       "output_type": "stream",
       "stream": "stdout",
       "text": [
        " \n",
        "94127"
       ]
      },
      {
       "output_type": "stream",
       "stream": "stdout",
       "text": [
        " \n",
        "90156"
       ]
      },
      {
       "output_type": "stream",
       "stream": "stdout",
       "text": [
        " \n",
        "88133"
       ]
      },
      {
       "output_type": "stream",
       "stream": "stdout",
       "text": [
        " 88134\n",
        "61868"
       ]
      },
      {
       "output_type": "stream",
       "stream": "stdout",
       "text": [
        " \n",
        "88960"
       ]
      },
      {
       "output_type": "stream",
       "stream": "stdout",
       "text": [
        " \n",
        "89228"
       ]
      },
      {
       "output_type": "stream",
       "stream": "stdout",
       "text": [
        " \n",
        "75096"
       ]
      },
      {
       "output_type": "stream",
       "stream": "stdout",
       "text": [
        " \n",
        "71348"
       ]
      },
      {
       "output_type": "stream",
       "stream": "stdout",
       "text": [
        " \n",
        "74073"
       ]
      },
      {
       "output_type": "stream",
       "stream": "stdout",
       "text": [
        " 74074\n",
        "66197"
       ]
      },
      {
       "output_type": "stream",
       "stream": "stdout",
       "text": [
        " \n",
        "66817"
       ]
      },
      {
       "output_type": "stream",
       "stream": "stdout",
       "text": [
        " 66785\n",
        "55303"
       ]
      },
      {
       "output_type": "stream",
       "stream": "stdout",
       "text": [
        " \n",
        "55220"
       ]
      },
      {
       "output_type": "stream",
       "stream": "stdout",
       "text": [
        " 55307\n",
        "57743"
       ]
      },
      {
       "output_type": "stream",
       "stream": "stdout",
       "text": [
        " \n",
        "55202"
       ]
      },
      {
       "output_type": "stream",
       "stream": "stdout",
       "text": [
        " \n",
        "55473"
       ]
      },
      {
       "output_type": "stream",
       "stream": "stdout",
       "text": [
        " \n",
        "55198"
       ]
      },
      {
       "output_type": "stream",
       "stream": "stdout",
       "text": [
        " \n",
        "55411"
       ]
      },
      {
       "output_type": "stream",
       "stream": "stdout",
       "text": [
        " \n",
        "55207"
       ]
      },
      {
       "output_type": "stream",
       "stream": "stdout",
       "text": [
        " \n",
        "95555"
       ]
      },
      {
       "output_type": "stream",
       "stream": "stdout",
       "text": [
        " \n",
        "55445"
       ]
      },
      {
       "output_type": "stream",
       "stream": "stdout",
       "text": [
        " 55447\n",
        "59058"
       ]
      },
      {
       "output_type": "stream",
       "stream": "stdout",
       "text": [
        " \n",
        "90821"
       ]
      },
      {
       "output_type": "stream",
       "stream": "stdout",
       "text": [
        " \n",
        "90809"
       ]
      },
      {
       "output_type": "stream",
       "stream": "stdout",
       "text": [
        " \n",
        "95204"
       ]
      },
      {
       "output_type": "stream",
       "stream": "stdout",
       "text": [
        " \n",
        "94653"
       ]
      },
      {
       "output_type": "stream",
       "stream": "stdout",
       "text": [
        " 94654\n",
        "90821"
       ]
      },
      {
       "output_type": "stream",
       "stream": "stdout",
       "text": [
        " 90822\n",
        "95124"
       ]
      },
      {
       "output_type": "stream",
       "stream": "stdout",
       "text": [
        " \n",
        "95194"
       ]
      },
      {
       "output_type": "stream",
       "stream": "stdout",
       "text": [
        " \n",
        "94713"
       ]
      },
      {
       "output_type": "stream",
       "stream": "stdout",
       "text": [
        " \n",
        "91038"
       ]
      },
      {
       "output_type": "stream",
       "stream": "stdout",
       "text": [
        " \n",
        "96151"
       ]
      },
      {
       "output_type": "stream",
       "stream": "stdout",
       "text": [
        " \n",
        "94839"
       ]
      },
      {
       "output_type": "stream",
       "stream": "stdout",
       "text": [
        " \n",
        "94685"
       ]
      },
      {
       "output_type": "stream",
       "stream": "stdout",
       "text": [
        " 94686\n",
        "95199"
       ]
      },
      {
       "output_type": "stream",
       "stream": "stdout",
       "text": [
        " \n",
        "94880"
       ]
      },
      {
       "output_type": "stream",
       "stream": "stdout",
       "text": [
        " 94881\n",
        "95320"
       ]
      },
      {
       "output_type": "stream",
       "stream": "stdout",
       "text": [
        " 95321\n",
        "94948"
       ]
      },
      {
       "output_type": "stream",
       "stream": "stdout",
       "text": [
        " 94771\n",
        "95313"
       ]
      },
      {
       "output_type": "stream",
       "stream": "stdout",
       "text": [
        " \n",
        "94712"
       ]
      },
      {
       "output_type": "stream",
       "stream": "stdout",
       "text": [
        " 94810\n",
        "94087"
       ]
      },
      {
       "output_type": "stream",
       "stream": "stdout",
       "text": [
        " \n",
        "93810"
       ]
      },
      {
       "output_type": "stream",
       "stream": "stdout",
       "text": [
        " \n",
        "93694"
       ]
      },
      {
       "output_type": "stream",
       "stream": "stdout",
       "text": [
        " 93695\n",
        "93581"
       ]
      },
      {
       "output_type": "stream",
       "stream": "stdout",
       "text": [
        " 93582\n",
        "93580"
       ]
      },
      {
       "output_type": "stream",
       "stream": "stdout",
       "text": [
        " \n",
        "93555"
       ]
      },
      {
       "output_type": "stream",
       "stream": "stdout",
       "text": [
        " 93580\n",
        "90848"
       ]
      },
      {
       "output_type": "stream",
       "stream": "stdout",
       "text": [
        " 90849\n",
        "90499"
       ]
      },
      {
       "output_type": "stream",
       "stream": "stdout",
       "text": [
        " \n",
        "90742"
       ]
      },
      {
       "output_type": "stream",
       "stream": "stdout",
       "text": [
        " \n",
        "90222"
       ]
      },
      {
       "output_type": "stream",
       "stream": "stdout",
       "text": [
        " \n",
        "88180"
       ]
      },
      {
       "output_type": "stream",
       "stream": "stdout",
       "text": [
        " \n",
        "91137"
       ]
      },
      {
       "output_type": "stream",
       "stream": "stdout",
       "text": [
        " 91169\n",
        "88126"
       ]
      },
      {
       "output_type": "stream",
       "stream": "stdout",
       "text": [
        " \n",
        "88404"
       ]
      },
      {
       "output_type": "stream",
       "stream": "stdout",
       "text": [
        " \n",
        "89271"
       ]
      },
      {
       "output_type": "stream",
       "stream": "stdout",
       "text": [
        " \n",
        "88996"
       ]
      },
      {
       "output_type": "stream",
       "stream": "stdout",
       "text": [
        " \n",
        "88461"
       ]
      },
      {
       "output_type": "stream",
       "stream": "stdout",
       "text": [
        " \n",
        "85020"
       ]
      },
      {
       "output_type": "stream",
       "stream": "stdout",
       "text": [
        " \n",
        "86345"
       ]
      },
      {
       "output_type": "stream",
       "stream": "stdout",
       "text": [
        " 86346\n",
        "73160"
       ]
      },
      {
       "output_type": "stream",
       "stream": "stdout",
       "text": [
        " \n",
        "85021"
       ]
      },
      {
       "output_type": "stream",
       "stream": "stdout",
       "text": [
        " \n",
        "71370"
       ]
      },
      {
       "output_type": "stream",
       "stream": "stdout",
       "text": [
        " \n",
        "72126"
       ]
      },
      {
       "output_type": "stream",
       "stream": "stdout",
       "text": [
        " \n",
        "75103"
       ]
      },
      {
       "output_type": "stream",
       "stream": "stdout",
       "text": [
        " 74082\n",
        "71356"
       ]
      },
      {
       "output_type": "stream",
       "stream": "stdout",
       "text": [
        " \n",
        "88197"
       ]
      },
      {
       "output_type": "stream",
       "stream": "stdout",
       "text": [
        " \n",
        "67014"
       ]
      },
      {
       "output_type": "stream",
       "stream": "stdout",
       "text": [
        " 67013\n",
        "71335"
       ]
      },
      {
       "output_type": "stream",
       "stream": "stdout",
       "text": [
        " \n",
        "66815"
       ]
      },
      {
       "output_type": "stream",
       "stream": "stdout",
       "text": [
        " \n",
        "65327"
       ]
      },
      {
       "output_type": "stream",
       "stream": "stdout",
       "text": [
        " \n",
        "58678"
       ]
      },
      {
       "output_type": "stream",
       "stream": "stdout",
       "text": [
        " 58680\n",
        "34329"
       ]
      },
      {
       "output_type": "stream",
       "stream": "stdout",
       "text": [
        " \n",
        "59014"
       ]
      },
      {
       "output_type": "stream",
       "stream": "stdout",
       "text": [
        " \n",
        "57793"
       ]
      },
      {
       "output_type": "stream",
       "stream": "stdout",
       "text": [
        " \n",
        "55447"
       ]
      },
      {
       "output_type": "stream",
       "stream": "stdout",
       "text": [
        " \n",
        "57812"
       ]
      },
      {
       "output_type": "stream",
       "stream": "stdout",
       "text": [
        " \n",
        "72137"
       ]
      },
      {
       "output_type": "stream",
       "stream": "stdout",
       "text": [
        " \n",
        "43376"
       ]
      },
      {
       "output_type": "stream",
       "stream": "stdout",
       "text": [
        " 42981\n",
        "55240"
       ]
      },
      {
       "output_type": "stream",
       "stream": "stdout",
       "text": [
        " \n",
        "55213"
       ]
      },
      {
       "output_type": "stream",
       "stream": "stdout",
       "text": [
        " \n",
        "56913"
       ]
      },
      {
       "output_type": "stream",
       "stream": "stdout",
       "text": [
        " \n",
        "56635"
       ]
      },
      {
       "output_type": "stream",
       "stream": "stdout",
       "text": [
        " \n",
        "55232"
       ]
      },
      {
       "output_type": "stream",
       "stream": "stdout",
       "text": [
        " \n",
        "56941"
       ]
      },
      {
       "output_type": "stream",
       "stream": "stdout",
       "text": [
        " \n",
        "55473"
       ]
      },
      {
       "output_type": "stream",
       "stream": "stdout",
       "text": [
        " 54774\n",
        "56625"
       ]
      },
      {
       "output_type": "stream",
       "stream": "stdout",
       "text": [
        " 56626\n",
        "90767"
       ]
      },
      {
       "output_type": "stream",
       "stream": "stdout",
       "text": [
        " 90768\n",
        "95707"
       ]
      },
      {
       "output_type": "stream",
       "stream": "stdout",
       "text": [
        " \n",
        "95191"
       ]
      },
      {
       "output_type": "stream",
       "stream": "stdout",
       "text": [
        " \n",
        "90897"
       ]
      },
      {
       "output_type": "stream",
       "stream": "stdout",
       "text": [
        " 90898\n",
        "90754"
       ]
      },
      {
       "output_type": "stream",
       "stream": "stdout",
       "text": [
        " 91147\n",
        "95570"
       ]
      },
      {
       "output_type": "stream",
       "stream": "stdout",
       "text": [
        " \n",
        "94908"
       ]
      },
      {
       "output_type": "stream",
       "stream": "stdout",
       "text": [
        " \n",
        "95454"
       ]
      },
      {
       "output_type": "stream",
       "stream": "stdout",
       "text": [
        " \n",
        "94996"
       ]
      },
      {
       "output_type": "stream",
       "stream": "stdout",
       "text": [
        " \n",
        "91040"
       ]
      },
      {
       "output_type": "stream",
       "stream": "stdout",
       "text": [
        " 91041\n",
        "59049"
       ]
      },
      {
       "output_type": "stream",
       "stream": "stdout",
       "text": [
        " 59058\n",
        "95096"
       ]
      },
      {
       "output_type": "stream",
       "stream": "stdout",
       "text": [
        " 95241\n",
        "94481"
       ]
      },
      {
       "output_type": "stream",
       "stream": "stdout",
       "text": [
        " \n",
        "94630"
       ]
      },
      {
       "output_type": "stream",
       "stream": "stdout",
       "text": [
        " \n",
        "94528"
       ]
      },
      {
       "output_type": "stream",
       "stream": "stdout",
       "text": [
        " \n",
        "94176"
       ]
      },
      {
       "output_type": "stream",
       "stream": "stdout",
       "text": [
        " 94177\n",
        "94714"
       ]
      },
      {
       "output_type": "stream",
       "stream": "stdout",
       "text": [
        " 94709\n",
        "91045"
       ]
      },
      {
       "output_type": "stream",
       "stream": "stdout",
       "text": [
        " \n",
        "93869"
       ]
      },
      {
       "output_type": "stream",
       "stream": "stdout",
       "text": [
        " \n",
        "94177"
       ]
      },
      {
       "output_type": "stream",
       "stream": "stdout",
       "text": [
        " \n",
        "93868"
       ]
      },
      {
       "output_type": "stream",
       "stream": "stdout",
       "text": [
        " 93869\n",
        "93458"
       ]
      },
      {
       "output_type": "stream",
       "stream": "stdout",
       "text": [
        " 93459\n",
        "92591"
       ]
      },
      {
       "output_type": "stream",
       "stream": "stdout",
       "text": [
        " 92600\n",
        "92549"
       ]
      },
      {
       "output_type": "stream",
       "stream": "stdout",
       "text": [
        " \n",
        "90636"
       ]
      },
      {
       "output_type": "stream",
       "stream": "stdout",
       "text": [
        " \n",
        "91044"
       ]
      },
      {
       "output_type": "stream",
       "stream": "stdout",
       "text": [
        " \n",
        "66076"
       ]
      },
      {
       "output_type": "stream",
       "stream": "stdout",
       "text": [
        " \n",
        "90813"
       ]
      },
      {
       "output_type": "stream",
       "stream": "stdout",
       "text": [
        " \n",
        "90713"
       ]
      },
      {
       "output_type": "stream",
       "stream": "stdout",
       "text": [
        " \n",
        "90651"
       ]
      },
      {
       "output_type": "stream",
       "stream": "stdout",
       "text": [
        " \n",
        "74108"
       ]
      },
      {
       "output_type": "stream",
       "stream": "stdout",
       "text": [
        " \n",
        "90152"
       ]
      },
      {
       "output_type": "stream",
       "stream": "stdout",
       "text": [
        " \n",
        "90041"
       ]
      },
      {
       "output_type": "stream",
       "stream": "stdout",
       "text": [
        " \n",
        "88145"
       ]
      },
      {
       "output_type": "stream",
       "stream": "stdout",
       "text": [
        " 87843\n",
        "88432"
       ]
      },
      {
       "output_type": "stream",
       "stream": "stdout",
       "text": [
        " \n",
        "88078"
       ]
      },
      {
       "output_type": "stream",
       "stream": "stdout",
       "text": [
        " 88079\n",
        "88189"
       ]
      },
      {
       "output_type": "stream",
       "stream": "stdout",
       "text": [
        " \n",
        "66061"
       ]
      },
      {
       "output_type": "stream",
       "stream": "stdout",
       "text": [
        " \n",
        "75132"
       ]
      },
      {
       "output_type": "stream",
       "stream": "stdout",
       "text": [
        " 75133\n",
        "89004"
       ]
      },
      {
       "output_type": "stream",
       "stream": "stdout",
       "text": [
        " 89005\n",
        "89152"
       ]
      },
      {
       "output_type": "stream",
       "stream": "stdout",
       "text": [
        " \n",
        "59159"
       ]
      },
      {
       "output_type": "stream",
       "stream": "stdout",
       "text": [
        " \n",
        "89057"
       ]
      },
      {
       "output_type": "stream",
       "stream": "stdout",
       "text": [
        " \n",
        "74078"
       ]
      },
      {
       "output_type": "stream",
       "stream": "stdout",
       "text": [
        " \n",
        "88959"
       ]
      },
      {
       "output_type": "stream",
       "stream": "stdout",
       "text": [
        " \n",
        "88330"
       ]
      },
      {
       "output_type": "stream",
       "stream": "stdout",
       "text": [
        " \n",
        "88361"
       ]
      },
      {
       "output_type": "stream",
       "stream": "stdout",
       "text": [
        " \n",
        "88587"
       ]
      },
      {
       "output_type": "stream",
       "stream": "stdout",
       "text": [
        " \n",
        "88458"
       ]
      },
      {
       "output_type": "stream",
       "stream": "stdout",
       "text": [
        " \n",
        "65920"
       ]
      },
      {
       "output_type": "stream",
       "stream": "stdout",
       "text": [
        " \n",
        "86233"
       ]
      },
      {
       "output_type": "stream",
       "stream": "stdout",
       "text": [
        " \n",
        "88202"
       ]
      },
      {
       "output_type": "stream",
       "stream": "stdout",
       "text": [
        " \n",
        "71357"
       ]
      },
      {
       "output_type": "stream",
       "stream": "stdout",
       "text": [
        " \n",
        "67004"
       ]
      },
      {
       "output_type": "stream",
       "stream": "stdout",
       "text": [
        " \n",
        "72143"
       ]
      },
      {
       "output_type": "stream",
       "stream": "stdout",
       "text": [
        " \n",
        "71341"
       ]
      },
      {
       "output_type": "stream",
       "stream": "stdout",
       "text": [
        " 71342\n",
        "59086"
       ]
      },
      {
       "output_type": "stream",
       "stream": "stdout",
       "text": [
        " \n",
        "65957"
       ]
      },
      {
       "output_type": "stream",
       "stream": "stdout",
       "text": [
        " \n",
        "59094"
       ]
      },
      {
       "output_type": "stream",
       "stream": "stdout",
       "text": [
        " \n",
        "57888"
       ]
      },
      {
       "output_type": "stream",
       "stream": "stdout",
       "text": [
        " 58970\n",
        "58677"
       ]
      },
      {
       "output_type": "stream",
       "stream": "stdout",
       "text": [
        " \n",
        "55418"
       ]
      },
      {
       "output_type": "stream",
       "stream": "stdout",
       "text": [
        " 43376\n",
        "34375"
       ]
      },
      {
       "output_type": "stream",
       "stream": "stdout",
       "text": [
        " \n",
        "55210"
       ]
      },
      {
       "output_type": "stream",
       "stream": "stdout",
       "text": [
        " \n",
        "57773"
       ]
      },
      {
       "output_type": "stream",
       "stream": "stdout",
       "text": [
        " \n",
        "54542"
       ]
      },
      {
       "output_type": "stream",
       "stream": "stdout",
       "text": [
        " \n",
        "55241"
       ]
      },
      {
       "output_type": "stream",
       "stream": "stdout",
       "text": [
        " \n",
        "55244"
       ]
      },
      {
       "output_type": "stream",
       "stream": "stdout",
       "text": [
        " \n",
        "55253"
       ]
      },
      {
       "output_type": "stream",
       "stream": "stdout",
       "text": [
        " \n",
        "55238"
       ]
      },
      {
       "output_type": "stream",
       "stream": "stdout",
       "text": [
        " \n",
        "95520"
       ]
      },
      {
       "output_type": "stream",
       "stream": "stdout",
       "text": [
        " \n",
        "95507"
       ]
      },
      {
       "output_type": "stream",
       "stream": "stdout",
       "text": [
        " \n",
        "95044"
       ]
      },
      {
       "output_type": "stream",
       "stream": "stdout",
       "text": [
        " \n",
        "95580"
       ]
      },
      {
       "output_type": "stream",
       "stream": "stdout",
       "text": [
        " \n",
        "95021"
       ]
      },
      {
       "output_type": "stream",
       "stream": "stdout",
       "text": [
        " 94946\n",
        "59049"
       ]
      },
      {
       "output_type": "stream",
       "stream": "stdout",
       "text": [
        " \n",
        "90805"
       ]
      },
      {
       "output_type": "stream",
       "stream": "stdout",
       "text": [
        " 90806\n",
        "94992"
       ]
      },
      {
       "output_type": "stream",
       "stream": "stdout",
       "text": [
        " \n",
        "95205"
       ]
      },
      {
       "output_type": "stream",
       "stream": "stdout",
       "text": [
        " \n",
        "95071"
       ]
      },
      {
       "output_type": "stream",
       "stream": "stdout",
       "text": [
        " \n",
        "95256"
       ]
      },
      {
       "output_type": "stream",
       "stream": "stdout",
       "text": [
        " \n",
        "95707"
       ]
      },
      {
       "output_type": "stream",
       "stream": "stdout",
       "text": [
        " 95708\n",
        "91057"
       ]
      },
      {
       "output_type": "stream",
       "stream": "stdout",
       "text": [
        " 91058\n",
        "56615"
       ]
      },
      {
       "output_type": "stream",
       "stream": "stdout",
       "text": [
        " 55418\n",
        "95302"
       ]
      },
      {
       "output_type": "stream",
       "stream": "stdout",
       "text": [
        " \n",
        "94823"
       ]
      },
      {
       "output_type": "stream",
       "stream": "stdout",
       "text": [
        " \n",
        "95382"
       ]
      },
      {
       "output_type": "stream",
       "stream": "stdout",
       "text": [
        " \n",
        "95004"
       ]
      },
      {
       "output_type": "stream",
       "stream": "stdout",
       "text": [
        " \n",
        "94746"
       ]
      },
      {
       "output_type": "stream",
       "stream": "stdout",
       "text": [
        " \n",
        "59036"
       ]
      },
      {
       "output_type": "stream",
       "stream": "stdout",
       "text": [
        " \n",
        "95098"
       ]
      },
      {
       "output_type": "stream",
       "stream": "stdout",
       "text": [
        " \n",
        "95808"
       ]
      },
      {
       "output_type": "stream",
       "stream": "stdout",
       "text": [
        " \n",
        "96159"
       ]
      },
      {
       "output_type": "stream",
       "stream": "stdout",
       "text": [
        " \n",
        "95207"
       ]
      },
      {
       "output_type": "stream",
       "stream": "stdout",
       "text": [
        " \n",
        "94976"
       ]
      },
      {
       "output_type": "stream",
       "stream": "stdout",
       "text": [
        " 94977\n",
        "94640"
       ]
      },
      {
       "output_type": "stream",
       "stream": "stdout",
       "text": [
        " \n",
        "95818"
       ]
      },
      {
       "output_type": "stream",
       "stream": "stdout",
       "text": [
        " \n",
        "95521"
       ]
      },
      {
       "output_type": "stream",
       "stream": "stdout",
       "text": [
        " \n",
        "95463"
       ]
      },
      {
       "output_type": "stream",
       "stream": "stdout",
       "text": [
        " \n",
        "94948"
       ]
      },
      {
       "output_type": "stream",
       "stream": "stdout",
       "text": [
        " \n",
        "95096"
       ]
      },
      {
       "output_type": "stream",
       "stream": "stdout",
       "text": [
        " \n",
        "94921"
       ]
      },
      {
       "output_type": "stream",
       "stream": "stdout",
       "text": [
        " 95068\n",
        "59074"
       ]
      },
      {
       "output_type": "stream",
       "stream": "stdout",
       "text": [
        " 59075\n",
        "59058"
       ]
      },
      {
       "output_type": "stream",
       "stream": "stdout",
       "text": [
        " 59060\n",
        "93568"
       ]
      },
      {
       "output_type": "stream",
       "stream": "stdout",
       "text": [
        " \n",
        "95286"
       ]
      },
      {
       "output_type": "stream",
       "stream": "stdout",
       "text": [
        " 95287\n",
        "93652"
       ]
      },
      {
       "output_type": "stream",
       "stream": "stdout",
       "text": [
        " 93766\n",
        "94242"
       ]
      },
      {
       "output_type": "stream",
       "stream": "stdout",
       "text": [
        " \n",
        "94165"
       ]
      },
      {
       "output_type": "stream",
       "stream": "stdout",
       "text": [
        " \n",
        "94057"
       ]
      },
      {
       "output_type": "stream",
       "stream": "stdout",
       "text": [
        " 94162\n",
        "94068"
       ]
      },
      {
       "output_type": "stream",
       "stream": "stdout",
       "text": [
        " 94069\n",
        "93909"
       ]
      },
      {
       "output_type": "stream",
       "stream": "stdout",
       "text": [
        " \n",
        "94318"
       ]
      },
      {
       "output_type": "stream",
       "stream": "stdout",
       "text": [
        " 94320\n",
        "93828"
       ]
      },
      {
       "output_type": "stream",
       "stream": "stdout",
       "text": [
        " 93812\n",
        "93958"
       ]
      },
      {
       "output_type": "stream",
       "stream": "stdout",
       "text": [
        " \n",
        "93539"
       ]
      },
      {
       "output_type": "stream",
       "stream": "stdout",
       "text": [
        " \n",
        "93683"
       ]
      },
      {
       "output_type": "stream",
       "stream": "stdout",
       "text": [
        " 93684\n",
        "93708"
       ]
      },
      {
       "output_type": "stream",
       "stream": "stdout",
       "text": [
        " 93709\n",
        "93694"
       ]
      },
      {
       "output_type": "stream",
       "stream": "stdout",
       "text": [
        " \n",
        "93654"
       ]
      },
      {
       "output_type": "stream",
       "stream": "stdout",
       "text": [
        " \n",
        "93634"
       ]
      },
      {
       "output_type": "stream",
       "stream": "stdout",
       "text": [
        " \n",
        "93633"
       ]
      },
      {
       "output_type": "stream",
       "stream": "stdout",
       "text": [
        " \n",
        "93585"
       ]
      },
      {
       "output_type": "stream",
       "stream": "stdout",
       "text": [
        " 93586\n",
        "93594"
       ]
      },
      {
       "output_type": "stream",
       "stream": "stdout",
       "text": [
        " 93595\n",
        "93377"
       ]
      },
      {
       "output_type": "stream",
       "stream": "stdout",
       "text": [
        " 93467\n",
        "93375"
       ]
      },
      {
       "output_type": "stream",
       "stream": "stdout",
       "text": [
        " 93463\n",
        "93409"
       ]
      },
      {
       "output_type": "stream",
       "stream": "stdout",
       "text": [
        " \n",
        "92591"
       ]
      },
      {
       "output_type": "stream",
       "stream": "stdout",
       "text": [
        " \n",
        "93440"
       ]
      },
      {
       "output_type": "stream",
       "stream": "stdout",
       "text": [
        " 93439\n",
        "90628"
       ]
      },
      {
       "output_type": "stream",
       "stream": "stdout",
       "text": [
        " \n",
        "90712"
       ]
      },
      {
       "output_type": "stream",
       "stream": "stdout",
       "text": [
        " \n",
        "90653"
       ]
      },
      {
       "output_type": "stream",
       "stream": "stdout",
       "text": [
        " \n",
        "93550"
       ]
      },
      {
       "output_type": "stream",
       "stream": "stdout",
       "text": [
        " \n",
        "90496"
       ]
      },
      {
       "output_type": "stream",
       "stream": "stdout",
       "text": [
        " \n",
        "90514"
       ]
      },
      {
       "output_type": "stream",
       "stream": "stdout",
       "text": [
        " \n",
        "90627"
       ]
      },
      {
       "output_type": "stream",
       "stream": "stdout",
       "text": [
        " \n",
        "90202"
       ]
      },
      {
       "output_type": "stream",
       "stream": "stdout",
       "text": [
        " \n",
        "90072"
       ]
      },
      {
       "output_type": "stream",
       "stream": "stdout",
       "text": [
        " \n",
        "90800"
       ]
      },
      {
       "output_type": "stream",
       "stream": "stdout",
       "text": [
        " \n",
        "89134"
       ]
      },
      {
       "output_type": "stream",
       "stream": "stdout",
       "text": [
        " \n",
        "89932"
       ]
      },
      {
       "output_type": "stream",
       "stream": "stdout",
       "text": [
        " \n",
        "74037"
       ]
      },
      {
       "output_type": "stream",
       "stream": "stdout",
       "text": [
        " \n",
        "86408"
       ]
      },
      {
       "output_type": "stream",
       "stream": "stdout",
       "text": [
        " 66013\n",
        "88074"
       ]
      },
      {
       "output_type": "stream",
       "stream": "stdout",
       "text": [
        " \n",
        "86408"
       ]
      },
      {
       "output_type": "stream",
       "stream": "stdout",
       "text": [
        " 66010\n",
        "59159"
       ]
      },
      {
       "output_type": "stream",
       "stream": "stdout",
       "text": [
        " 66009\n",
        "91137"
       ]
      },
      {
       "output_type": "stream",
       "stream": "stdout",
       "text": [
        " 91138\n",
        "89061"
       ]
      },
      {
       "output_type": "stream",
       "stream": "stdout",
       "text": [
        " \n",
        "87479"
       ]
      },
      {
       "output_type": "stream",
       "stream": "stdout",
       "text": [
        " \n",
        "85024"
       ]
      },
      {
       "output_type": "stream",
       "stream": "stdout",
       "text": [
        " \n",
        "76160"
       ]
      },
      {
       "output_type": "stream",
       "stream": "stdout",
       "text": [
        " 84842\n",
        "87473"
       ]
      },
      {
       "output_type": "stream",
       "stream": "stdout",
       "text": [
        " \n",
        "88989"
       ]
      },
      {
       "output_type": "stream",
       "stream": "stdout",
       "text": [
        " \n",
        "59065"
       ]
      },
      {
       "output_type": "stream",
       "stream": "stdout",
       "text": [
        " \n",
        "89763"
       ]
      },
      {
       "output_type": "stream",
       "stream": "stdout",
       "text": [
        " \n",
        "74076"
       ]
      },
      {
       "output_type": "stream",
       "stream": "stdout",
       "text": [
        " \n",
        "79674"
       ]
      },
      {
       "output_type": "stream",
       "stream": "stdout",
       "text": [
        " \n",
        "86395"
       ]
      },
      {
       "output_type": "stream",
       "stream": "stdout",
       "text": [
        " \n",
        "89289"
       ]
      },
      {
       "output_type": "stream",
       "stream": "stdout",
       "text": [
        " 89153\n",
        "75127"
       ]
      },
      {
       "output_type": "stream",
       "stream": "stdout",
       "text": [
        " \n",
        "74074"
       ]
      },
      {
       "output_type": "stream",
       "stream": "stdout",
       "text": [
        " \n",
        "86351"
       ]
      },
      {
       "output_type": "stream",
       "stream": "stdout",
       "text": [
        " \n",
        "88895"
       ]
      },
      {
       "output_type": "stream",
       "stream": "stdout",
       "text": [
        " \n",
        "86233"
       ]
      },
      {
       "output_type": "stream",
       "stream": "stdout",
       "text": [
        " 86234\n",
        "88899"
       ]
      },
      {
       "output_type": "stream",
       "stream": "stdout",
       "text": [
        " \n",
        "88460"
       ]
      },
      {
       "output_type": "stream",
       "stream": "stdout",
       "text": [
        " \n",
        "88438"
       ]
      },
      {
       "output_type": "stream",
       "stream": "stdout",
       "text": [
        " \n",
        "90778"
       ]
      },
      {
       "output_type": "stream",
       "stream": "stdout",
       "text": [
        " \n",
        "88346"
       ]
      },
      {
       "output_type": "stream",
       "stream": "stdout",
       "text": [
        " \n",
        "88453"
       ]
      },
      {
       "output_type": "stream",
       "stream": "stdout",
       "text": [
        " \n",
        "84592"
       ]
      },
      {
       "output_type": "stream",
       "stream": "stdout",
       "text": [
        " \n",
        "88457"
       ]
      },
      {
       "output_type": "stream",
       "stream": "stdout",
       "text": [
        " \n",
        "72138"
       ]
      },
      {
       "output_type": "stream",
       "stream": "stdout",
       "text": [
        " \n",
        "65930"
       ]
      },
      {
       "output_type": "stream",
       "stream": "stdout",
       "text": [
        " \n",
        "72124"
       ]
      },
      {
       "output_type": "stream",
       "stream": "stdout",
       "text": [
        " \n",
        "74104"
       ]
      },
      {
       "output_type": "stream",
       "stream": "stdout",
       "text": [
        " 74105\n",
        "72124"
       ]
      },
      {
       "output_type": "stream",
       "stream": "stdout",
       "text": [
        " 71334\n",
        "74073"
       ]
      },
      {
       "output_type": "stream",
       "stream": "stdout",
       "text": [
        " 74089\n",
        "88209"
       ]
      },
      {
       "output_type": "stream",
       "stream": "stdout",
       "text": [
        " \n",
        "88163"
       ]
      },
      {
       "output_type": "stream",
       "stream": "stdout",
       "text": [
        " 88161\n",
        "88367"
       ]
      },
      {
       "output_type": "stream",
       "stream": "stdout",
       "text": [
        " \n",
        "72125"
       ]
      },
      {
       "output_type": "stream",
       "stream": "stdout",
       "text": [
        " \n",
        "76159"
       ]
      },
      {
       "output_type": "stream",
       "stream": "stdout",
       "text": [
        " \n",
        "74065"
       ]
      },
      {
       "output_type": "stream",
       "stream": "stdout",
       "text": [
        " \n",
        "86415"
       ]
      },
      {
       "output_type": "stream",
       "stream": "stdout",
       "text": [
        " \n",
        "67008"
       ]
      },
      {
       "output_type": "stream",
       "stream": "stdout",
       "text": [
        " \n",
        "74028"
       ]
      },
      {
       "output_type": "stream",
       "stream": "stdout",
       "text": [
        " 74029\n",
        "71335"
       ]
      },
      {
       "output_type": "stream",
       "stream": "stdout",
       "text": [
        " 70333\n",
        "74049"
       ]
      },
      {
       "output_type": "stream",
       "stream": "stdout",
       "text": [
        " 74051\n",
        "66227"
       ]
      },
      {
       "output_type": "stream",
       "stream": "stdout",
       "text": [
        " 66224\n",
        "65936"
       ]
      },
      {
       "output_type": "stream",
       "stream": "stdout",
       "text": [
        " \n",
        "66179"
       ]
      },
      {
       "output_type": "stream",
       "stream": "stdout",
       "text": [
        " \n",
        "64019"
       ]
      },
      {
       "output_type": "stream",
       "stream": "stdout",
       "text": [
        " 64017\n",
        "65908"
       ]
      },
      {
       "output_type": "stream",
       "stream": "stdout",
       "text": [
        " \n",
        "66169"
       ]
      },
      {
       "output_type": "stream",
       "stream": "stdout",
       "text": [
        " \n",
        "59082"
       ]
      },
      {
       "output_type": "stream",
       "stream": "stdout",
       "text": [
        " 59083\n",
        "59098"
       ]
      },
      {
       "output_type": "stream",
       "stream": "stdout",
       "text": [
        " \n",
        "65888"
       ]
      },
      {
       "output_type": "stream",
       "stream": "stdout",
       "text": [
        " 65889\n",
        "64037"
       ]
      },
      {
       "output_type": "stream",
       "stream": "stdout",
       "text": [
        " \n",
        "55307"
       ]
      },
      {
       "output_type": "stream",
       "stream": "stdout",
       "text": [
        " \n",
        "57877"
       ]
      },
      {
       "output_type": "stream",
       "stream": "stdout",
       "text": [
        " \n",
        "57847"
       ]
      },
      {
       "output_type": "stream",
       "stream": "stdout",
       "text": [
        " \n",
        "57839"
       ]
      },
      {
       "output_type": "stream",
       "stream": "stdout",
       "text": [
        " \n",
        "58619"
       ]
      },
      {
       "output_type": "stream",
       "stream": "stdout",
       "text": [
        " \n",
        "55366"
       ]
      },
      {
       "output_type": "stream",
       "stream": "stdout",
       "text": [
        " \n",
        "55302"
       ]
      },
      {
       "output_type": "stream",
       "stream": "stdout",
       "text": [
        " \n",
        "43376"
       ]
      },
      {
       "output_type": "stream",
       "stream": "stdout",
       "text": [
        " 54542\n",
        "57795"
       ]
      },
      {
       "output_type": "stream",
       "stream": "stdout",
       "text": [
        " \n",
        "57784"
       ]
      },
      {
       "output_type": "stream",
       "stream": "stdout",
       "text": [
        " \n",
        "57780"
       ]
      },
      {
       "output_type": "stream",
       "stream": "stdout",
       "text": [
        " \n",
        "55422"
       ]
      },
      {
       "output_type": "stream",
       "stream": "stdout",
       "text": [
        " \n",
        "55230"
       ]
      },
      {
       "output_type": "stream",
       "stream": "stdout",
       "text": [
        " \n",
        "58615"
       ]
      },
      {
       "output_type": "stream",
       "stream": "stdout",
       "text": [
        " 58616\n",
        "55399"
       ]
      },
      {
       "output_type": "stream",
       "stream": "stdout",
       "text": [
        " \n",
        "55438"
       ]
      },
      {
       "output_type": "stream",
       "stream": "stdout",
       "text": [
        " \n",
        "57736"
       ]
      },
      {
       "output_type": "stream",
       "stream": "stdout",
       "text": [
        " \n",
        "57788"
       ]
      },
      {
       "output_type": "stream",
       "stream": "stdout",
       "text": [
        " \n",
        "57721"
       ]
      },
      {
       "output_type": "stream",
       "stream": "stdout",
       "text": [
        " \n",
        "55266"
       ]
      },
      {
       "output_type": "stream",
       "stream": "stdout",
       "text": [
        " \n",
        "55264"
       ]
      },
      {
       "output_type": "stream",
       "stream": "stdout",
       "text": [
        " \n",
        "95472"
       ]
      },
      {
       "output_type": "stream",
       "stream": "stdout",
       "text": [
        " \n",
        "94976"
       ]
      },
      {
       "output_type": "stream",
       "stream": "stdout",
       "text": [
        " \n",
        "59100"
       ]
      },
      {
       "output_type": "stream",
       "stream": "stdout",
       "text": [
        " 59160\n",
        "95700"
       ]
      },
      {
       "output_type": "stream",
       "stream": "stdout",
       "text": [
        " \n",
        "95418"
       ]
      },
      {
       "output_type": "stream",
       "stream": "stdout",
       "text": [
        " 95419\n",
        "90106"
       ]
      },
      {
       "output_type": "stream",
       "stream": "stdout",
       "text": [
        " \n",
        "94716"
       ]
      },
      {
       "output_type": "stream",
       "stream": "stdout",
       "text": [
        " \n",
        "59112"
       ]
      },
      {
       "output_type": "stream",
       "stream": "stdout",
       "text": [
        " 59113\n",
        "94975"
       ]
      },
      {
       "output_type": "stream",
       "stream": "stdout",
       "text": [
        " \n",
        "95043"
       ]
      },
      {
       "output_type": "stream",
       "stream": "stdout",
       "text": [
        " \n",
        "91147"
       ]
      },
      {
       "output_type": "stream",
       "stream": "stdout",
       "text": [
        " \n",
        "95807"
       ]
      },
      {
       "output_type": "stream",
       "stream": "stdout",
       "text": [
        " \n",
        "95020"
       ]
      },
      {
       "output_type": "stream",
       "stream": "stdout",
       "text": [
        " \n",
        "95291"
       ]
      },
      {
       "output_type": "stream",
       "stream": "stdout",
       "text": [
        " \n",
        "95210"
       ]
      },
      {
       "output_type": "stream",
       "stream": "stdout",
       "text": [
        " 95211\n",
        "95061"
       ]
      },
      {
       "output_type": "stream",
       "stream": "stdout",
       "text": [
        " \n",
        "95804"
       ]
      },
      {
       "output_type": "stream",
       "stream": "stdout",
       "text": [
        " \n",
        "95317"
       ]
      },
      {
       "output_type": "stream",
       "stream": "stdout",
       "text": [
        " \n",
        "94795"
       ]
      },
      {
       "output_type": "stream",
       "stream": "stdout",
       "text": [
        " \n",
        "59061"
       ]
      },
      {
       "output_type": "stream",
       "stream": "stdout",
       "text": [
        " 59062\n",
        "93511"
       ]
      },
      {
       "output_type": "stream",
       "stream": "stdout",
       "text": [
        " \n",
        "95106"
       ]
      },
      {
       "output_type": "stream",
       "stream": "stdout",
       "text": [
        " \n",
        "95046"
       ]
      },
      {
       "output_type": "stream",
       "stream": "stdout",
       "text": [
        " \n",
        "95195"
       ]
      },
      {
       "output_type": "stream",
       "stream": "stdout",
       "text": [
        " \n",
        "95340"
       ]
      },
      {
       "output_type": "stream",
       "stream": "stdout",
       "text": [
        " \n",
        "95069"
       ]
      },
      {
       "output_type": "stream",
       "stream": "stdout",
       "text": [
        " 95070\n",
        "95177"
       ]
      },
      {
       "output_type": "stream",
       "stream": "stdout",
       "text": [
        " 95178\n",
        "91145"
       ]
      },
      {
       "output_type": "stream",
       "stream": "stdout",
       "text": [
        " 91146\n",
        "94616"
       ]
      },
      {
       "output_type": "stream",
       "stream": "stdout",
       "text": [
        " \n",
        "91131"
       ]
      },
      {
       "output_type": "stream",
       "stream": "stdout",
       "text": [
        " \n",
        "94813"
       ]
      },
      {
       "output_type": "stream",
       "stream": "stdout",
       "text": [
        " \n",
        "94386"
       ]
      },
      {
       "output_type": "stream",
       "stream": "stdout",
       "text": [
        " \n",
        "94784"
       ]
      },
      {
       "output_type": "stream",
       "stream": "stdout",
       "text": [
        " \n",
        "94522"
       ]
      },
      {
       "output_type": "stream",
       "stream": "stdout",
       "text": [
        " \n",
        "94477"
       ]
      },
      {
       "output_type": "stream",
       "stream": "stdout",
       "text": [
        " \n",
        "93640"
       ]
      },
      {
       "output_type": "stream",
       "stream": "stdout",
       "text": [
        " 93653\n",
        "93640"
       ]
      },
      {
       "output_type": "stream",
       "stream": "stdout",
       "text": [
        " 93668\n",
        "94456"
       ]
      },
      {
       "output_type": "stream",
       "stream": "stdout",
       "text": [
        " 94457\n",
        "94757"
       ]
      },
      {
       "output_type": "stream",
       "stream": "stdout",
       "text": [
        " \n",
        "94584"
       ]
      },
      {
       "output_type": "stream",
       "stream": "stdout",
       "text": [
        " \n",
        "94461"
       ]
      },
      {
       "output_type": "stream",
       "stream": "stdout",
       "text": [
        " 94519\n",
        "94324"
       ]
      },
      {
       "output_type": "stream",
       "stream": "stdout",
       "text": [
        " 94326\n",
        "94571"
       ]
      },
      {
       "output_type": "stream",
       "stream": "stdout",
       "text": [
        " 94461\n",
        "94708"
       ]
      },
      {
       "output_type": "stream",
       "stream": "stdout",
       "text": [
        " 94709\n",
        "94496"
       ]
      },
      {
       "output_type": "stream",
       "stream": "stdout",
       "text": [
        " \n",
        "94366"
       ]
      },
      {
       "output_type": "stream",
       "stream": "stdout",
       "text": [
        " \n",
        "94702"
       ]
      },
      {
       "output_type": "stream",
       "stream": "stdout",
       "text": [
        " 94703\n",
        "94704"
       ]
      },
      {
       "output_type": "stream",
       "stream": "stdout",
       "text": [
        " 94705\n",
        "93997"
       ]
      },
      {
       "output_type": "stream",
       "stream": "stdout",
       "text": [
        " \n",
        "94084"
       ]
      },
      {
       "output_type": "stream",
       "stream": "stdout",
       "text": [
        " 94085\n",
        "94109"
       ]
      },
      {
       "output_type": "stream",
       "stream": "stdout",
       "text": [
        " \n",
        "93929"
       ]
      },
      {
       "output_type": "stream",
       "stream": "stdout",
       "text": [
        " 93930\n",
        "93862"
       ]
      },
      {
       "output_type": "stream",
       "stream": "stdout",
       "text": [
        " 93863\n",
        "93913"
       ]
      },
      {
       "output_type": "stream",
       "stream": "stdout",
       "text": [
        " 93914\n",
        "93905"
       ]
      },
      {
       "output_type": "stream",
       "stream": "stdout",
       "text": [
        " 93912\n",
        "93905"
       ]
      },
      {
       "output_type": "stream",
       "stream": "stdout",
       "text": [
        " \n",
        "94091"
       ]
      },
      {
       "output_type": "stream",
       "stream": "stdout",
       "text": [
        " \n",
        "93469"
       ]
      },
      {
       "output_type": "stream",
       "stream": "stdout",
       "text": [
        " \n",
        "93516"
       ]
      },
      {
       "output_type": "stream",
       "stream": "stdout",
       "text": [
        " \n",
        "93437"
       ]
      },
      {
       "output_type": "stream",
       "stream": "stdout",
       "text": [
        " 93436\n",
        "93746"
       ]
      },
      {
       "output_type": "stream",
       "stream": "stdout",
       "text": [
        " \n",
        "93640"
       ]
      },
      {
       "output_type": "stream",
       "stream": "stdout",
       "text": [
        " 93655\n",
        "93640"
       ]
      },
      {
       "output_type": "stream",
       "stream": "stdout",
       "text": [
        " 93654\n",
        "93674"
       ]
      },
      {
       "output_type": "stream",
       "stream": "stdout",
       "text": [
        " 93675\n",
        "93449"
       ]
      },
      {
       "output_type": "stream",
       "stream": "stdout",
       "text": [
        " 93450\n",
        "93582"
       ]
      },
      {
       "output_type": "stream",
       "stream": "stdout",
       "text": [
        " 93581\n",
        "93375"
       ]
      },
      {
       "output_type": "stream",
       "stream": "stdout",
       "text": [
        " \n",
        "93367"
       ]
      },
      {
       "output_type": "stream",
       "stream": "stdout",
       "text": [
        " \n",
        "90827"
       ]
      },
      {
       "output_type": "stream",
       "stream": "stdout",
       "text": [
        " 90764\n",
        "92604"
       ]
      },
      {
       "output_type": "stream",
       "stream": "stdout",
       "text": [
        " \n",
        "92608"
       ]
      },
      {
       "output_type": "stream",
       "stream": "stdout",
       "text": [
        " 93348\n",
        "94488"
       ]
      },
      {
       "output_type": "stream",
       "stream": "stdout",
       "text": [
        " \n",
        "93521"
       ]
      },
      {
       "output_type": "stream",
       "stream": "stdout",
       "text": [
        " \n",
        "91078"
       ]
      },
      {
       "output_type": "stream",
       "stream": "stdout",
       "text": [
        " \n",
        "92541"
       ]
      },
      {
       "output_type": "stream",
       "stream": "stdout",
       "text": [
        " \n",
        "91063"
       ]
      },
      {
       "output_type": "stream",
       "stream": "stdout",
       "text": [
        " \n",
        "90946"
       ]
      },
      {
       "output_type": "stream",
       "stream": "stdout",
       "text": [
        " \n",
        "93561"
       ]
      },
      {
       "output_type": "stream",
       "stream": "stdout",
       "text": [
        " \n",
        "95221"
       ]
      },
      {
       "output_type": "stream",
       "stream": "stdout",
       "text": [
        " 95224\n",
        "92542"
       ]
      },
      {
       "output_type": "stream",
       "stream": "stdout",
       "text": [
        " \n",
        "90631"
       ]
      },
      {
       "output_type": "stream",
       "stream": "stdout",
       "text": [
        " \n",
        "90083"
       ]
      },
      {
       "output_type": "stream",
       "stream": "stdout",
       "text": [
        " \n",
        "91054"
       ]
      },
      {
       "output_type": "stream",
       "stream": "stdout",
       "text": [
        " 91055\n",
        "90838"
       ]
      },
      {
       "output_type": "stream",
       "stream": "stdout",
       "text": [
        " \n",
        "88133"
       ]
      },
      {
       "output_type": "stream",
       "stream": "stdout",
       "text": [
        " \n",
        "94037"
       ]
      },
      {
       "output_type": "stream",
       "stream": "stdout",
       "text": [
        " \n",
        "90652"
       ]
      },
      {
       "output_type": "stream",
       "stream": "stdout",
       "text": [
        " 90655\n",
        "90799"
       ]
      },
      {
       "output_type": "stream",
       "stream": "stdout",
       "text": [
        " \n",
        "72119"
       ]
      },
      {
       "output_type": "stream",
       "stream": "stdout",
       "text": [
        " \n",
        "90392"
       ]
      },
      {
       "output_type": "stream",
       "stream": "stdout",
       "text": [
        " \n",
        "90832"
       ]
      },
      {
       "output_type": "stream",
       "stream": "stdout",
       "text": [
        " \n",
        "90389"
       ]
      },
      {
       "output_type": "stream",
       "stream": "stdout",
       "text": [
        " \n",
        "90498"
       ]
      },
      {
       "output_type": "stream",
       "stream": "stdout",
       "text": [
        " \n",
        "90165"
       ]
      },
      {
       "output_type": "stream",
       "stream": "stdout",
       "text": [
        " 90180\n",
        "90175"
       ]
      },
      {
       "output_type": "stream",
       "stream": "stdout",
       "text": [
        " \n",
        "90741"
       ]
      },
      {
       "output_type": "stream",
       "stream": "stdout",
       "text": [
        " \n",
        "93420"
       ]
      },
      {
       "output_type": "stream",
       "stream": "stdout",
       "text": [
        " \n",
        "90729"
       ]
      },
      {
       "output_type": "stream",
       "stream": "stdout",
       "text": [
        " \n",
        "93417"
       ]
      },
      {
       "output_type": "stream",
       "stream": "stdout",
       "text": [
        " \n",
        "89802"
       ]
      },
      {
       "output_type": "stream",
       "stream": "stdout",
       "text": [
        " \n",
        "93431"
       ]
      },
      {
       "output_type": "stream",
       "stream": "stdout",
       "text": [
        " \n",
        "90066"
       ]
      },
      {
       "output_type": "stream",
       "stream": "stdout",
       "text": [
        " \n",
        "90826"
       ]
      },
      {
       "output_type": "stream",
       "stream": "stdout",
       "text": [
        " \n",
        "90051"
       ]
      },
      {
       "output_type": "stream",
       "stream": "stdout",
       "text": [
        " \n",
        "90388"
       ]
      },
      {
       "output_type": "stream",
       "stream": "stdout",
       "text": [
        " \n",
        "89150"
       ]
      },
      {
       "output_type": "stream",
       "stream": "stdout",
       "text": [
        " 89151\n",
        "75127"
       ]
      },
      {
       "output_type": "stream",
       "stream": "stdout",
       "text": [
        " 89154\n",
        "90036"
       ]
      },
      {
       "output_type": "stream",
       "stream": "stdout",
       "text": [
        " \n",
        "88383"
       ]
      },
      {
       "output_type": "stream",
       "stream": "stdout",
       "text": [
        " \n",
        "89237"
       ]
      },
      {
       "output_type": "stream",
       "stream": "stdout",
       "text": [
        " 89324\n",
        "89061"
       ]
      },
      {
       "output_type": "stream",
       "stream": "stdout",
       "text": [
        " 89163\n",
        "89150"
       ]
      },
      {
       "output_type": "stream",
       "stream": "stdout",
       "text": [
        " 89163\n",
        "88305"
       ]
      },
      {
       "output_type": "stream",
       "stream": "stdout",
       "text": [
        " \n",
        "85058"
       ]
      },
      {
       "output_type": "stream",
       "stream": "stdout",
       "text": [
        " \n",
        "89306"
       ]
      },
      {
       "output_type": "stream",
       "stream": "stdout",
       "text": [
        " \n",
        "89150"
       ]
      },
      {
       "output_type": "stream",
       "stream": "stdout",
       "text": [
        " \n",
        "88211"
       ]
      },
      {
       "output_type": "stream",
       "stream": "stdout",
       "text": [
        " \n",
        "89225"
       ]
      },
      {
       "output_type": "stream",
       "stream": "stdout",
       "text": [
        " \n",
        "90076"
       ]
      },
      {
       "output_type": "stream",
       "stream": "stdout",
       "text": [
        " \n",
        "89245"
       ]
      },
      {
       "output_type": "stream",
       "stream": "stdout",
       "text": [
        " \n",
        "90058"
       ]
      },
      {
       "output_type": "stream",
       "stream": "stdout",
       "text": [
        " \n",
        "85025"
       ]
      },
      {
       "output_type": "stream",
       "stream": "stdout",
       "text": [
        " \n",
        "89246"
       ]
      },
      {
       "output_type": "stream",
       "stream": "stdout",
       "text": [
        " \n",
        "89002"
       ]
      },
      {
       "output_type": "stream",
       "stream": "stdout",
       "text": [
        " \n",
        "88240"
       ]
      },
      {
       "output_type": "stream",
       "stream": "stdout",
       "text": [
        " \n",
        "88309"
       ]
      },
      {
       "output_type": "stream",
       "stream": "stdout",
       "text": [
        " \n",
        "79673"
       ]
      },
      {
       "output_type": "stream",
       "stream": "stdout",
       "text": [
        " \n",
        "66104"
       ]
      },
      {
       "output_type": "stream",
       "stream": "stdout",
       "text": [
        " 79272\n",
        "88461"
       ]
      },
      {
       "output_type": "stream",
       "stream": "stdout",
       "text": [
        " 88460\n",
        "86393"
       ]
      },
      {
       "output_type": "stream",
       "stream": "stdout",
       "text": [
        " \n",
        "79268"
       ]
      },
      {
       "output_type": "stream",
       "stream": "stdout",
       "text": [
        " 79269\n",
        "91103"
       ]
      },
      {
       "output_type": "stream",
       "stream": "stdout",
       "text": [
        " \n",
        "84841"
       ]
      },
      {
       "output_type": "stream",
       "stream": "stdout",
       "text": [
        " 85043\n",
        "74073"
       ]
      },
      {
       "output_type": "stream",
       "stream": "stdout",
       "text": [
        " 74090\n",
        "88900"
       ]
      },
      {
       "output_type": "stream",
       "stream": "stdout",
       "text": [
        " \n",
        "88647"
       ]
      },
      {
       "output_type": "stream",
       "stream": "stdout",
       "text": [
        " \n",
        "75097"
       ]
      },
      {
       "output_type": "stream",
       "stream": "stdout",
       "text": [
        " \n",
        "88588"
       ]
      },
      {
       "output_type": "stream",
       "stream": "stdout",
       "text": [
        " \n",
        "87369"
       ]
      },
      {
       "output_type": "stream",
       "stream": "stdout",
       "text": [
        " \n",
        "88636"
       ]
      },
      {
       "output_type": "stream",
       "stream": "stdout",
       "text": [
        " \n",
        "86415"
       ]
      },
      {
       "output_type": "stream",
       "stream": "stdout",
       "text": [
        " 88347\n",
        "88459"
       ]
      },
      {
       "output_type": "stream",
       "stream": "stdout",
       "text": [
        " \n",
        "85041"
       ]
      },
      {
       "output_type": "stream",
       "stream": "stdout",
       "text": [
        " 85042\n",
        "88320"
       ]
      },
      {
       "output_type": "stream",
       "stream": "stdout",
       "text": [
        " \n",
        "88319"
       ]
      },
      {
       "output_type": "stream",
       "stream": "stdout",
       "text": [
        " \n",
        "88431"
       ]
      },
      {
       "output_type": "stream",
       "stream": "stdout",
       "text": [
        " \n",
        "88390"
       ]
      },
      {
       "output_type": "stream",
       "stream": "stdout",
       "text": [
        " \n",
        "71324"
       ]
      },
      {
       "output_type": "stream",
       "stream": "stdout",
       "text": [
        " \n",
        "72134"
       ]
      },
      {
       "output_type": "stream",
       "stream": "stdout",
       "text": [
        " 71341\n",
        "86352"
       ]
      },
      {
       "output_type": "stream",
       "stream": "stdout",
       "text": [
        " 86353\n",
        "88165"
       ]
      },
      {
       "output_type": "stream",
       "stream": "stdout",
       "text": [
        " \n",
        "88129"
       ]
      },
      {
       "output_type": "stream",
       "stream": "stdout",
       "text": [
        " 88161\n",
        "88245"
       ]
      },
      {
       "output_type": "stream",
       "stream": "stdout",
       "text": [
        " \n",
        "87843"
       ]
      },
      {
       "output_type": "stream",
       "stream": "stdout",
       "text": [
        " 88078\n",
        "67014"
       ]
      },
      {
       "output_type": "stream",
       "stream": "stdout",
       "text": [
        " 67015\n",
        "74066"
       ]
      },
      {
       "output_type": "stream",
       "stream": "stdout",
       "text": [
        " \n",
        "88353"
       ]
      },
      {
       "output_type": "stream",
       "stream": "stdout",
       "text": [
        " \n",
        "86409"
       ]
      },
      {
       "output_type": "stream",
       "stream": "stdout",
       "text": [
        " \n",
        "71348"
       ]
      },
      {
       "output_type": "stream",
       "stream": "stdout",
       "text": [
        " 72119\n",
        "65984"
       ]
      },
      {
       "output_type": "stream",
       "stream": "stdout",
       "text": [
        " \n",
        "66833"
       ]
      },
      {
       "output_type": "stream",
       "stream": "stdout",
       "text": [
        " \n",
        "89001"
       ]
      },
      {
       "output_type": "stream",
       "stream": "stdout",
       "text": [
        " \n",
        "66784"
       ]
      },
      {
       "output_type": "stream",
       "stream": "stdout",
       "text": [
        " \n",
        "66213"
       ]
      },
      {
       "output_type": "stream",
       "stream": "stdout",
       "text": [
        " 66178\n",
        "66203"
       ]
      },
      {
       "output_type": "stream",
       "stream": "stdout",
       "text": [
        " 66204\n",
        "66814"
       ]
      },
      {
       "output_type": "stream",
       "stream": "stdout",
       "text": [
        " 66815\n",
        "66162"
       ]
      },
      {
       "output_type": "stream",
       "stream": "stdout",
       "text": [
        " \n",
        "88146"
       ]
      },
      {
       "output_type": "stream",
       "stream": "stdout",
       "text": [
        " \n",
        "61864"
       ]
      },
      {
       "output_type": "stream",
       "stream": "stdout",
       "text": [
        " \n",
        "66075"
       ]
      },
      {
       "output_type": "stream",
       "stream": "stdout",
       "text": [
        " \n",
        "59102"
       ]
      },
      {
       "output_type": "stream",
       "stream": "stdout",
       "text": [
        " \n",
        "65986"
       ]
      },
      {
       "output_type": "stream",
       "stream": "stdout",
       "text": [
        " \n",
        "66008"
       ]
      },
      {
       "output_type": "stream",
       "stream": "stdout",
       "text": [
        " \n",
        "65935"
       ]
      },
      {
       "output_type": "stream",
       "stream": "stdout",
       "text": [
        " \n",
        "66053"
       ]
      },
      {
       "output_type": "stream",
       "stream": "stdout",
       "text": [
        " \n",
        "65922"
       ]
      },
      {
       "output_type": "stream",
       "stream": "stdout",
       "text": [
        " 65925\n",
        "65920"
       ]
      },
      {
       "output_type": "stream",
       "stream": "stdout",
       "text": [
        " 65928\n",
        "64023"
       ]
      },
      {
       "output_type": "stream",
       "stream": "stdout",
       "text": [
        " 64022\n",
        "65910"
       ]
      },
      {
       "output_type": "stream",
       "stream": "stdout",
       "text": [
        " \n",
        "66081"
       ]
      },
      {
       "output_type": "stream",
       "stream": "stdout",
       "text": [
        " \n",
        "65335"
       ]
      },
      {
       "output_type": "stream",
       "stream": "stdout",
       "text": [
        " \n",
        "59080"
       ]
      },
      {
       "output_type": "stream",
       "stream": "stdout",
       "text": [
        " 59171\n",
        "61841"
       ]
      },
      {
       "output_type": "stream",
       "stream": "stdout",
       "text": [
        " \n",
        "89224"
       ]
      },
      {
       "output_type": "stream",
       "stream": "stdout",
       "text": [
        " \n",
        "59020"
       ]
      },
      {
       "output_type": "stream",
       "stream": "stdout",
       "text": [
        " \n",
        "58679"
       ]
      },
      {
       "output_type": "stream",
       "stream": "stdout",
       "text": [
        " 58680\n",
        "57775"
       ]
      },
      {
       "output_type": "stream",
       "stream": "stdout",
       "text": [
        " \n",
        "59163"
       ]
      },
      {
       "output_type": "stream",
       "stream": "stdout",
       "text": [
        " \n",
        "34391"
       ]
      },
      {
       "output_type": "stream",
       "stream": "stdout",
       "text": [
        " \n",
        "57778"
       ]
      },
      {
       "output_type": "stream",
       "stream": "stdout",
       "text": [
        " 57813\n",
        "58660"
       ]
      },
      {
       "output_type": "stream",
       "stream": "stdout",
       "text": [
        " 58661\n",
        "57826"
       ]
      },
      {
       "output_type": "stream",
       "stream": "stdout",
       "text": [
        " \n",
        "58649"
       ]
      },
      {
       "output_type": "stream",
       "stream": "stdout",
       "text": [
        " 58650\n",
        "58636"
       ]
      },
      {
       "output_type": "stream",
       "stream": "stdout",
       "text": [
        " 58637\n",
        "57813"
       ]
      },
      {
       "output_type": "stream",
       "stream": "stdout",
       "text": [
        " \n",
        "57796"
       ]
      },
      {
       "output_type": "stream",
       "stream": "stdout",
       "text": [
        " \n",
        "42992"
       ]
      },
      {
       "output_type": "stream",
       "stream": "stdout",
       "text": [
        " 57827\n",
        "56936"
       ]
      },
      {
       "output_type": "stream",
       "stream": "stdout",
       "text": [
        " 56958\n",
        "34393"
       ]
      },
      {
       "output_type": "stream",
       "stream": "stdout",
       "text": [
        " \n",
        "54771"
       ]
      },
      {
       "output_type": "stream",
       "stream": "stdout",
       "text": [
        " 42981\n",
        "56630"
       ]
      },
      {
       "output_type": "stream",
       "stream": "stdout",
       "text": [
        " \n",
        "58615"
       ]
      },
      {
       "output_type": "stream",
       "stream": "stdout",
       "text": [
        " \n",
        "55445"
       ]
      },
      {
       "output_type": "stream",
       "stream": "stdout",
       "text": [
        " \n",
        "55225"
       ]
      },
      {
       "output_type": "stream",
       "stream": "stdout",
       "text": [
        " \n",
        "55403"
       ]
      },
      {
       "output_type": "stream",
       "stream": "stdout",
       "text": [
        " \n",
        "55193"
       ]
      },
      {
       "output_type": "stream",
       "stream": "stdout",
       "text": [
        " \n",
        "55299"
       ]
      },
      {
       "output_type": "stream",
       "stream": "stdout",
       "text": [
        " \n",
        "43374"
       ]
      },
      {
       "output_type": "stream",
       "stream": "stdout",
       "text": [
        " 54540\n",
        "56974"
       ]
      },
      {
       "output_type": "stream",
       "stream": "stdout",
       "text": [
        " \n",
        "56907"
       ]
      },
      {
       "output_type": "stream",
       "stream": "stdout",
       "text": [
        " 56908\n",
        "55297"
       ]
      },
      {
       "output_type": "stream",
       "stream": "stdout",
       "text": [
        " \n",
        "34347"
       ]
      },
      {
       "output_type": "stream",
       "stream": "stdout",
       "text": [
        " \n",
        "42966"
       ]
      },
      {
       "output_type": "stream",
       "stream": "stdout",
       "text": [
        " 42967\n",
        "55254"
       ]
      },
      {
       "output_type": "stream",
       "stream": "stdout",
       "text": [
        " \n",
        "55302"
       ]
      },
      {
       "output_type": "stream",
       "stream": "stdout",
       "text": [
        " 55303\n",
        "55229"
       ]
      },
      {
       "output_type": "stream",
       "stream": "stdout",
       "text": [
        " \n",
        "42974"
       ]
      },
      {
       "output_type": "stream",
       "stream": "stdout",
       "text": [
        " \n",
        "42951"
       ]
      },
      {
       "output_type": "stream",
       "stream": "stdout",
       "text": [
        " 42952\n",
        "55184"
       ]
      },
      {
       "output_type": "stream",
       "stream": "stdout",
       "text": [
        " \n",
        "56905"
       ]
      },
      {
       "output_type": "stream",
       "stream": "stdout",
       "text": [
        " \n",
        "94752"
       ]
      },
      {
       "output_type": "stream",
       "stream": "stdout",
       "text": [
        " \n",
        "95144"
       ]
      },
      {
       "output_type": "stream",
       "stream": "stdout",
       "text": [
        " \n",
        "95528"
       ]
      },
      {
       "output_type": "stream",
       "stream": "stdout",
       "text": [
        " 95527\n",
        "91089"
       ]
      },
      {
       "output_type": "stream",
       "stream": "stdout",
       "text": [
        " 90948\n",
        "94963"
       ]
      },
      {
       "output_type": "stream",
       "stream": "stdout",
       "text": [
        " \n",
        "95574"
       ]
      },
      {
       "output_type": "stream",
       "stream": "stdout",
       "text": [
        " \n",
        "95579"
       ]
      },
      {
       "output_type": "stream",
       "stream": "stdout",
       "text": [
        " \n",
        "93362"
       ]
      },
      {
       "output_type": "stream",
       "stream": "stdout",
       "text": [
        " 93363\n",
        "95376"
       ]
      },
      {
       "output_type": "stream",
       "stream": "stdout",
       "text": [
        " \n",
        "95060"
       ]
      },
      {
       "output_type": "stream",
       "stream": "stdout",
       "text": [
        " \n",
        "93512"
       ]
      },
      {
       "output_type": "stream",
       "stream": "stdout",
       "text": [
        " \n",
        "90775"
       ]
      },
      {
       "output_type": "stream",
       "stream": "stdout",
       "text": [
        " \n",
        "95672"
       ]
      },
      {
       "output_type": "stream",
       "stream": "stdout",
       "text": [
        " \n",
        "94743"
       ]
      },
      {
       "output_type": "stream",
       "stream": "stdout",
       "text": [
        " \n",
        "90804"
       ]
      },
      {
       "output_type": "stream",
       "stream": "stdout",
       "text": [
        " \n",
        "95473"
       ]
      },
      {
       "output_type": "stream",
       "stream": "stdout",
       "text": [
        " \n",
        "94648"
       ]
      },
      {
       "output_type": "stream",
       "stream": "stdout",
       "text": [
        " 94818\n",
        "95390"
       ]
      },
      {
       "output_type": "stream",
       "stream": "stdout",
       "text": [
        " \n",
        "95675"
       ]
      },
      {
       "output_type": "stream",
       "stream": "stdout",
       "text": [
        " \n",
        "95477"
       ]
      },
      {
       "output_type": "stream",
       "stream": "stdout",
       "text": [
        " \n",
        "95389"
       ]
      },
      {
       "output_type": "stream",
       "stream": "stdout",
       "text": [
        " \n",
        "91089"
       ]
      },
      {
       "output_type": "stream",
       "stream": "stdout",
       "text": [
        " 91090\n",
        "95734"
       ]
      },
      {
       "output_type": "stream",
       "stream": "stdout",
       "text": [
        " \n",
        "94946"
       ]
      },
      {
       "output_type": "stream",
       "stream": "stdout",
       "text": [
        " 94902\n",
        "95498"
       ]
      },
      {
       "output_type": "stream",
       "stream": "stdout",
       "text": [
        " \n",
        "59065"
       ]
      },
      {
       "output_type": "stream",
       "stream": "stdout",
       "text": [
        " 59066\n",
        "91074"
       ]
      },
      {
       "output_type": "stream",
       "stream": "stdout",
       "text": [
        " 91075\n",
        "92514"
       ]
      },
      {
       "output_type": "stream",
       "stream": "stdout",
       "text": [
        " \n",
        "95790"
       ]
      },
      {
       "output_type": "stream",
       "stream": "stdout",
       "text": [
        " \n",
        "95006"
       ]
      },
      {
       "output_type": "stream",
       "stream": "stdout",
       "text": [
        " \n",
        "95307"
       ]
      },
      {
       "output_type": "stream",
       "stream": "stdout",
       "text": [
        " \n",
        "94993"
       ]
      },
      {
       "output_type": "stream",
       "stream": "stdout",
       "text": [
        " \n",
        "95657"
       ]
      },
      {
       "output_type": "stream",
       "stream": "stdout",
       "text": [
        " \n",
        "93545"
       ]
      },
      {
       "output_type": "stream",
       "stream": "stdout",
       "text": [
        " \n",
        "96130"
       ]
      },
      {
       "output_type": "stream",
       "stream": "stdout",
       "text": [
        " \n",
        "95582"
       ]
      },
      {
       "output_type": "stream",
       "stream": "stdout",
       "text": [
        " \n",
        "96153"
       ]
      },
      {
       "output_type": "stream",
       "stream": "stdout",
       "text": [
        " \n",
        "95002"
       ]
      },
      {
       "output_type": "stream",
       "stream": "stdout",
       "text": [
        " \n",
        "94980"
       ]
      },
      {
       "output_type": "stream",
       "stream": "stdout",
       "text": [
        " \n",
        "95683"
       ]
      },
      {
       "output_type": "stream",
       "stream": "stdout",
       "text": [
        " \n",
        "96215"
       ]
      },
      {
       "output_type": "stream",
       "stream": "stdout",
       "text": [
        " \n",
        "95494"
       ]
      },
      {
       "output_type": "stream",
       "stream": "stdout",
       "text": [
        " \n",
        "95824"
       ]
      },
      {
       "output_type": "stream",
       "stream": "stdout",
       "text": [
        " \n",
        "95047"
       ]
      },
      {
       "output_type": "stream",
       "stream": "stdout",
       "text": [
        " \n",
        "95038"
       ]
      },
      {
       "output_type": "stream",
       "stream": "stdout",
       "text": [
        " \n",
        "96520"
       ]
      },
      {
       "output_type": "stream",
       "stream": "stdout",
       "text": [
        " \n",
        "95452"
       ]
      },
      {
       "output_type": "stream",
       "stream": "stdout",
       "text": [
        " \n",
        "95438"
       ]
      },
      {
       "output_type": "stream",
       "stream": "stdout",
       "text": [
        " \n",
        "95176"
       ]
      },
      {
       "output_type": "stream",
       "stream": "stdout",
       "text": [
        " \n",
        "95414"
       ]
      },
      {
       "output_type": "stream",
       "stream": "stdout",
       "text": [
        " 95415\n",
        "94920"
       ]
      },
      {
       "output_type": "stream",
       "stream": "stdout",
       "text": [
        " 95380\n",
        "95363"
       ]
      },
      {
       "output_type": "stream",
       "stream": "stdout",
       "text": [
        " \n",
        "95130"
       ]
      },
      {
       "output_type": "stream",
       "stream": "stdout",
       "text": [
        " \n",
        "95322"
       ]
      },
      {
       "output_type": "stream",
       "stream": "stdout",
       "text": [
        " 95323\n",
        "95263"
       ]
      },
      {
       "output_type": "stream",
       "stream": "stdout",
       "text": [
        " 95265\n",
        "95057"
       ]
      },
      {
       "output_type": "stream",
       "stream": "stdout",
       "text": [
        " \n",
        "95045"
       ]
      },
      {
       "output_type": "stream",
       "stream": "stdout",
       "text": [
        " \n",
        "95033"
       ]
      },
      {
       "output_type": "stream",
       "stream": "stdout",
       "text": [
        " \n",
        "59099"
       ]
      },
      {
       "output_type": "stream",
       "stream": "stdout",
       "text": [
        " 59100\n",
        "95299"
       ]
      },
      {
       "output_type": "stream",
       "stream": "stdout",
       "text": [
        " \n",
        "59101"
       ]
      },
      {
       "output_type": "stream",
       "stream": "stdout",
       "text": [
        " 59102\n",
        "95373"
       ]
      },
      {
       "output_type": "stream",
       "stream": "stdout",
       "text": [
        " \n",
        "91039"
       ]
      },
      {
       "output_type": "stream",
       "stream": "stdout",
       "text": [
        " 90757\n",
        "95292"
       ]
      },
      {
       "output_type": "stream",
       "stream": "stdout",
       "text": [
        " \n",
        "94889"
       ]
      },
      {
       "output_type": "stream",
       "stream": "stdout",
       "text": [
        " \n",
        "95098"
       ]
      },
      {
       "output_type": "stream",
       "stream": "stdout",
       "text": [
        " 95288\n",
        "94785"
       ]
      },
      {
       "output_type": "stream",
       "stream": "stdout",
       "text": [
        " \n",
        "94887"
       ]
      },
      {
       "output_type": "stream",
       "stream": "stdout",
       "text": [
        " \n",
        "94786"
       ]
      },
      {
       "output_type": "stream",
       "stream": "stdout",
       "text": [
        " \n",
        "94533"
       ]
      },
      {
       "output_type": "stream",
       "stream": "stdout",
       "text": [
        " \n",
        "94524"
       ]
      },
      {
       "output_type": "stream",
       "stream": "stdout",
       "text": [
        " \n",
        "94893"
       ]
      },
      {
       "output_type": "stream",
       "stream": "stdout",
       "text": [
        " 94907\n",
        "94473"
       ]
      },
      {
       "output_type": "stream",
       "stream": "stdout",
       "text": [
        " \n",
        "92603"
       ]
      },
      {
       "output_type": "stream",
       "stream": "stdout",
       "text": [
        " \n",
        "94466"
       ]
      },
      {
       "output_type": "stream",
       "stream": "stdout",
       "text": [
        " \n",
        "91068"
       ]
      },
      {
       "output_type": "stream",
       "stream": "stdout",
       "text": [
        " 94108\n",
        "94176"
       ]
      },
      {
       "output_type": "stream",
       "stream": "stdout",
       "text": [
        " 94458\n",
        "94770"
       ]
      },
      {
       "output_type": "stream",
       "stream": "stdout",
       "text": [
        " \n",
        "59052"
       ]
      },
      {
       "output_type": "stream",
       "stream": "stdout",
       "text": [
        " 59053\n",
        "94605"
       ]
      },
      {
       "output_type": "stream",
       "stream": "stdout",
       "text": [
        " \n",
        "94365"
       ]
      },
      {
       "output_type": "stream",
       "stream": "stdout",
       "text": [
        " \n",
        "94596"
       ]
      },
      {
       "output_type": "stream",
       "stream": "stdout",
       "text": [
        " 94593\n",
        "94593"
       ]
      },
      {
       "output_type": "stream",
       "stream": "stdout",
       "text": [
        " 94594\n",
        "94583"
       ]
      },
      {
       "output_type": "stream",
       "stream": "stdout",
       "text": [
        " \n",
        "93897"
       ]
      },
      {
       "output_type": "stream",
       "stream": "stdout",
       "text": [
        " 93952\n",
        "94330"
       ]
      },
      {
       "output_type": "stream",
       "stream": "stdout",
       "text": [
        " 94332\n",
        "94597"
       ]
      },
      {
       "output_type": "stream",
       "stream": "stdout",
       "text": [
        " \n",
        "94596"
       ]
      },
      {
       "output_type": "stream",
       "stream": "stdout",
       "text": [
        " \n",
        "94750"
       ]
      },
      {
       "output_type": "stream",
       "stream": "stdout",
       "text": [
        " \n",
        "94717"
       ]
      },
      {
       "output_type": "stream",
       "stream": "stdout",
       "text": [
        " 94709\n",
        "93381"
       ]
      },
      {
       "output_type": "stream",
       "stream": "stdout",
       "text": [
        " 94267\n",
        "94571"
       ]
      },
      {
       "output_type": "stream",
       "stream": "stdout",
       "text": [
        " 94572\n",
        "94644"
       ]
      },
      {
       "output_type": "stream",
       "stream": "stdout",
       "text": [
        " 94681\n",
        "94715"
       ]
      },
      {
       "output_type": "stream",
       "stream": "stdout",
       "text": [
        " 94708\n",
        "94125"
       ]
      },
      {
       "output_type": "stream",
       "stream": "stdout",
       "text": [
        " \n",
        "94123"
       ]
      },
      {
       "output_type": "stream",
       "stream": "stdout",
       "text": [
        " \n",
        "94110"
       ]
      },
      {
       "output_type": "stream",
       "stream": "stdout",
       "text": [
        " 94112\n",
        "94155"
       ]
      },
      {
       "output_type": "stream",
       "stream": "stdout",
       "text": [
        " 94105\n",
        "94060"
       ]
      },
      {
       "output_type": "stream",
       "stream": "stdout",
       "text": [
        " \n",
        "94191"
       ]
      },
      {
       "output_type": "stream",
       "stream": "stdout",
       "text": [
        " 94229\n",
        "94183"
       ]
      },
      {
       "output_type": "stream",
       "stream": "stdout",
       "text": [
        " \n",
        "93462"
       ]
      },
      {
       "output_type": "stream",
       "stream": "stdout",
       "text": [
        " 93463\n",
        "93899"
       ]
      },
      {
       "output_type": "stream",
       "stream": "stdout",
       "text": [
        " \n",
        "93945"
       ]
      },
      {
       "output_type": "stream",
       "stream": "stdout",
       "text": [
        " \n",
        "93979"
       ]
      },
      {
       "output_type": "stream",
       "stream": "stdout",
       "text": [
        " \n",
        "94118"
       ]
      },
      {
       "output_type": "stream",
       "stream": "stdout",
       "text": [
        " \n",
        "90510"
       ]
      },
      {
       "output_type": "stream",
       "stream": "stdout",
       "text": [
        " 90511\n",
        "93800"
       ]
      },
      {
       "output_type": "stream",
       "stream": "stdout",
       "text": [
        " \n",
        "90764"
       ]
      },
      {
       "output_type": "stream",
       "stream": "stdout",
       "text": [
        " \n",
        "94043"
       ]
      },
      {
       "output_type": "stream",
       "stream": "stdout",
       "text": [
        " 94044\n",
        "93759"
       ]
      },
      {
       "output_type": "stream",
       "stream": "stdout",
       "text": [
        " 93761\n",
        "93519"
       ]
      },
      {
       "output_type": "stream",
       "stream": "stdout",
       "text": [
        " \n",
        "93390"
       ]
      },
      {
       "output_type": "stream",
       "stream": "stdout",
       "text": [
        " 93435\n",
        "93653"
       ]
      },
      {
       "output_type": "stream",
       "stream": "stdout",
       "text": [
        " 93640\n",
        "93655"
       ]
      },
      {
       "output_type": "stream",
       "stream": "stdout",
       "text": [
        " \n",
        "93671"
       ]
      },
      {
       "output_type": "stream",
       "stream": "stdout",
       "text": [
        " 93672\n",
        "93667"
       ]
      },
      {
       "output_type": "stream",
       "stream": "stdout",
       "text": [
        " \n",
        "93588"
       ]
      },
      {
       "output_type": "stream",
       "stream": "stdout",
       "text": [
        " 93587\n",
        "93598"
       ]
      },
      {
       "output_type": "stream",
       "stream": "stdout",
       "text": [
        " 93599\n",
        "93952"
       ]
      },
      {
       "output_type": "stream",
       "stream": "stdout",
       "text": [
        " \n",
        "91095"
       ]
      },
      {
       "output_type": "stream",
       "stream": "stdout",
       "text": [
        " \n",
        "93600"
       ]
      },
      {
       "output_type": "stream",
       "stream": "stdout",
       "text": [
        " 93601\n",
        "93377"
       ]
      },
      {
       "output_type": "stream",
       "stream": "stdout",
       "text": [
        " 93382\n",
        "93375"
       ]
      },
      {
       "output_type": "stream",
       "stream": "stdout",
       "text": [
        " 93461\n",
        "92571"
       ]
      },
      {
       "output_type": "stream",
       "stream": "stdout",
       "text": [
        " \n",
        "93386"
       ]
      },
      {
       "output_type": "stream",
       "stream": "stdout",
       "text": [
        " \n",
        "93358"
       ]
      },
      {
       "output_type": "stream",
       "stream": "stdout",
       "text": [
        " \n",
        "93359"
       ]
      },
      {
       "output_type": "stream",
       "stream": "stdout",
       "text": [
        " 93359\n",
        "92586"
       ]
      },
      {
       "output_type": "stream",
       "stream": "stdout",
       "text": [
        " 92550\n",
        "92591"
       ]
      },
      {
       "output_type": "stream",
       "stream": "stdout",
       "text": [
        " 93349\n",
        "93404"
       ]
      },
      {
       "output_type": "stream",
       "stream": "stdout",
       "text": [
        " \n",
        "90935"
       ]
      },
      {
       "output_type": "stream",
       "stream": "stdout",
       "text": [
        " \n",
        "92604"
       ]
      },
      {
       "output_type": "stream",
       "stream": "stdout",
       "text": [
        " 93358\n",
        "92605"
       ]
      },
      {
       "output_type": "stream",
       "stream": "stdout",
       "text": [
        " 93359\n",
        "90890"
       ]
      },
      {
       "output_type": "stream",
       "stream": "stdout",
       "text": [
        " \n",
        "93353"
       ]
      },
      {
       "output_type": "stream",
       "stream": "stdout",
       "text": [
        " \n",
        "90857"
       ]
      },
      {
       "output_type": "stream",
       "stream": "stdout",
       "text": [
        " 90858\n",
        "91181"
       ]
      },
      {
       "output_type": "stream",
       "stream": "stdout",
       "text": [
        " 91182\n",
        "91149"
       ]
      },
      {
       "output_type": "stream",
       "stream": "stdout",
       "text": [
        " 91150\n",
        "91143"
       ]
      },
      {
       "output_type": "stream",
       "stream": "stdout",
       "text": [
        " \n",
        "91064"
       ]
      },
      {
       "output_type": "stream",
       "stream": "stdout",
       "text": [
        " \n",
        "91159"
       ]
      },
      {
       "output_type": "stream",
       "stream": "stdout",
       "text": [
        " \n",
        "92538"
       ]
      },
      {
       "output_type": "stream",
       "stream": "stdout",
       "text": [
        " \n",
        "93564"
       ]
      },
      {
       "output_type": "stream",
       "stream": "stdout",
       "text": [
        " \n",
        "93390"
       ]
      },
      {
       "output_type": "stream",
       "stream": "stdout",
       "text": [
        " 93434\n",
        "92599"
       ]
      },
      {
       "output_type": "stream",
       "stream": "stdout",
       "text": [
        " \n",
        "91084"
       ]
      },
      {
       "output_type": "stream",
       "stream": "stdout",
       "text": [
        " \n",
        "90635"
       ]
      },
      {
       "output_type": "stream",
       "stream": "stdout",
       "text": [
        " \n",
        "90632"
       ]
      },
      {
       "output_type": "stream",
       "stream": "stdout",
       "text": [
        " \n",
        "90631"
       ]
      },
      {
       "output_type": "stream",
       "stream": "stdout",
       "text": [
        " 90632\n",
        "88587"
       ]
      },
      {
       "output_type": "stream",
       "stream": "stdout",
       "text": [
        " 90632\n",
        "90728"
       ]
      },
      {
       "output_type": "stream",
       "stream": "stdout",
       "text": [
        " \n",
        "90626"
       ]
      },
      {
       "output_type": "stream",
       "stream": "stdout",
       "text": [
        " \n",
        "90725"
       ]
      },
      {
       "output_type": "stream",
       "stream": "stdout",
       "text": [
        " \n",
        "90722"
       ]
      },
      {
       "output_type": "stream",
       "stream": "stdout",
       "text": [
        " 90723\n",
        "91125"
       ]
      },
      {
       "output_type": "stream",
       "stream": "stdout",
       "text": [
        " \n",
        "90941"
       ]
      },
      {
       "output_type": "stream",
       "stream": "stdout",
       "text": [
        " 90942\n",
        "90753"
       ]
      },
      {
       "output_type": "stream",
       "stream": "stdout",
       "text": [
        " 90764\n",
        "93390"
       ]
      },
      {
       "output_type": "stream",
       "stream": "stdout",
       "text": [
        " \n",
        "90765"
       ]
      },
      {
       "output_type": "stream",
       "stream": "stdout",
       "text": [
        " \n",
        "71339"
       ]
      },
      {
       "output_type": "stream",
       "stream": "stdout",
       "text": [
        " \n",
        "90621"
       ]
      },
      {
       "output_type": "stream",
       "stream": "stdout",
       "text": [
        " 90706\n",
        "93976"
       ]
      },
      {
       "output_type": "stream",
       "stream": "stdout",
       "text": [
        " 93977\n",
        "90694"
       ]
      },
      {
       "output_type": "stream",
       "stream": "stdout",
       "text": [
        " \n",
        "90803"
       ]
      },
      {
       "output_type": "stream",
       "stream": "stdout",
       "text": [
        " \n",
        "90412"
       ]
      },
      {
       "output_type": "stream",
       "stream": "stdout",
       "text": [
        " 90664\n",
        "94039"
       ]
      },
      {
       "output_type": "stream",
       "stream": "stdout",
       "text": [
        " \n",
        "91114"
       ]
      },
      {
       "output_type": "stream",
       "stream": "stdout",
       "text": [
        " \n",
        "91028"
       ]
      },
      {
       "output_type": "stream",
       "stream": "stdout",
       "text": [
        " 91023\n",
        "90182"
       ]
      },
      {
       "output_type": "stream",
       "stream": "stdout",
       "text": [
        " \n",
        "90707"
       ]
      },
      {
       "output_type": "stream",
       "stream": "stdout",
       "text": [
        " \n",
        "94968"
       ]
      },
      {
       "output_type": "stream",
       "stream": "stdout",
       "text": [
        " \n",
        "90165"
       ]
      },
      {
       "output_type": "stream",
       "stream": "stdout",
       "text": [
        " 90181\n",
        "90439"
       ]
      },
      {
       "output_type": "stream",
       "stream": "stdout",
       "text": [
        " \n",
        "90313"
       ]
      },
      {
       "output_type": "stream",
       "stream": "stdout",
       "text": [
        " 90314\n",
        "91226"
       ]
      },
      {
       "output_type": "stream",
       "stream": "stdout",
       "text": [
        " 90896\n",
        "90223"
       ]
      },
      {
       "output_type": "stream",
       "stream": "stdout",
       "text": [
        " \n",
        "90651"
       ]
      },
      {
       "output_type": "stream",
       "stream": "stdout",
       "text": [
        " 90652\n",
        "90206"
       ]
      },
      {
       "output_type": "stream",
       "stream": "stdout",
       "text": [
        " \n",
        "90379"
       ]
      },
      {
       "output_type": "stream",
       "stream": "stdout",
       "text": [
        " 90380\n",
        "90194"
       ]
      },
      {
       "output_type": "stream",
       "stream": "stdout",
       "text": [
        " 90184\n",
        "70326"
       ]
      },
      {
       "output_type": "stream",
       "stream": "stdout",
       "text": [
        " \n",
        "90375"
       ]
      },
      {
       "output_type": "stream",
       "stream": "stdout",
       "text": [
        " \n",
        "90166"
       ]
      },
      {
       "output_type": "stream",
       "stream": "stdout",
       "text": [
        " \n",
        "90788"
       ]
      },
      {
       "output_type": "stream",
       "stream": "stdout",
       "text": [
        " \n",
        "90167"
       ]
      },
      {
       "output_type": "stream",
       "stream": "stdout",
       "text": [
        " 90166\n",
        "66003"
       ]
      },
      {
       "output_type": "stream",
       "stream": "stdout",
       "text": [
        " \n",
        "90675"
       ]
      },
      {
       "output_type": "stream",
       "stream": "stdout",
       "text": [
        " 90682\n",
        "65954"
       ]
      },
      {
       "output_type": "stream",
       "stream": "stdout",
       "text": [
        " \n",
        "90116"
       ]
      },
      {
       "output_type": "stream",
       "stream": "stdout",
       "text": [
        " \n",
        "90106"
       ]
      },
      {
       "output_type": "stream",
       "stream": "stdout",
       "text": [
        " 90107\n",
        "90161"
       ]
      },
      {
       "output_type": "stream",
       "stream": "stdout",
       "text": [
        " \n",
        "90160"
       ]
      },
      {
       "output_type": "stream",
       "stream": "stdout",
       "text": [
        " 90161\n",
        "90165"
       ]
      },
      {
       "output_type": "stream",
       "stream": "stdout",
       "text": [
        " 90165\n",
        "90372"
       ]
      },
      {
       "output_type": "stream",
       "stream": "stdout",
       "text": [
        " \n",
        "90364"
       ]
      },
      {
       "output_type": "stream",
       "stream": "stdout",
       "text": [
        " \n",
        "90365"
       ]
      },
      {
       "output_type": "stream",
       "stream": "stdout",
       "text": [
        " \n",
        "90407"
       ]
      },
      {
       "output_type": "stream",
       "stream": "stdout",
       "text": [
        " \n",
        "90145"
       ]
      },
      {
       "output_type": "stream",
       "stream": "stdout",
       "text": [
        " 90147\n",
        "90158"
       ]
      },
      {
       "output_type": "stream",
       "stream": "stdout",
       "text": [
        " \n",
        "88201"
       ]
      },
      {
       "output_type": "stream",
       "stream": "stdout",
       "text": [
        " \n",
        "90642"
       ]
      },
      {
       "output_type": "stream",
       "stream": "stdout",
       "text": [
        " \n",
        "90950"
       ]
      },
      {
       "output_type": "stream",
       "stream": "stdout",
       "text": [
        " 90951\n",
        "89163"
       ]
      },
      {
       "output_type": "stream",
       "stream": "stdout",
       "text": [
        " 89217\n",
        "90734"
       ]
      },
      {
       "output_type": "stream",
       "stream": "stdout",
       "text": [
        " \n",
        "59065"
       ]
      },
      {
       "output_type": "stream",
       "stream": "stdout",
       "text": [
        " 66015\n",
        "89155"
       ]
      },
      {
       "output_type": "stream",
       "stream": "stdout",
       "text": [
        " 89156\n",
        "89149"
       ]
      },
      {
       "output_type": "stream",
       "stream": "stdout",
       "text": [
        " 89148\n",
        "89149"
       ]
      },
      {
       "output_type": "stream",
       "stream": "stdout",
       "text": [
        " 89136\n",
        "89061"
       ]
      },
      {
       "output_type": "stream",
       "stream": "stdout",
       "text": [
        " 89153\n",
        "89061"
       ]
      },
      {
       "output_type": "stream",
       "stream": "stdout",
       "text": [
        " 89134\n",
        "89150"
       ]
      },
      {
       "output_type": "stream",
       "stream": "stdout",
       "text": [
        " 89152\n",
        "89136"
       ]
      },
      {
       "output_type": "stream",
       "stream": "stdout",
       "text": [
        " 89149\n",
        "75126"
       ]
      },
      {
       "output_type": "stream",
       "stream": "stdout",
       "text": [
        " \n",
        "89138"
       ]
      },
      {
       "output_type": "stream",
       "stream": "stdout",
       "text": [
        " \n",
        "1"
       ]
      },
      {
       "output_type": "stream",
       "stream": "stdout",
       "text": [
        " \n",
        "90042"
       ]
      },
      {
       "output_type": "stream",
       "stream": "stdout",
       "text": [
        " \n",
        "90037"
       ]
      },
      {
       "output_type": "stream",
       "stream": "stdout",
       "text": [
        " \n",
        "89283"
       ]
      },
      {
       "output_type": "stream",
       "stream": "stdout",
       "text": [
        " \n",
        "89938"
       ]
      },
      {
       "output_type": "stream",
       "stream": "stdout",
       "text": [
        " \n",
        "89934"
       ]
      },
      {
       "output_type": "stream",
       "stream": "stdout",
       "text": [
        " \n",
        "86354"
       ]
      },
      {
       "output_type": "stream",
       "stream": "stdout",
       "text": [
        " \n",
        "88130"
       ]
      },
      {
       "output_type": "stream",
       "stream": "stdout",
       "text": [
        " \n",
        "88129"
       ]
      },
      {
       "output_type": "stream",
       "stream": "stdout",
       "text": [
        " \n",
        "88556"
       ]
      },
      {
       "output_type": "stream",
       "stream": "stdout",
       "text": [
        " \n",
        "93790"
       ]
      },
      {
       "output_type": "stream",
       "stream": "stdout",
       "text": [
        " \n",
        "89270"
       ]
      },
      {
       "output_type": "stream",
       "stream": "stdout",
       "text": [
        " \n",
        "89311"
       ]
      },
      {
       "output_type": "stream",
       "stream": "stdout",
       "text": [
        " \n",
        "87842"
       ]
      },
      {
       "output_type": "stream",
       "stream": "stdout",
       "text": [
        " 87841\n",
        "88068"
       ]
      },
      {
       "output_type": "stream",
       "stream": "stdout",
       "text": [
        " 88067\n",
        "89412"
       ]
      },
      {
       "output_type": "stream",
       "stream": "stdout",
       "text": [
        " 89413\n",
        "90006"
       ]
      },
      {
       "output_type": "stream",
       "stream": "stdout",
       "text": [
        " \n",
        "89259"
       ]
      },
      {
       "output_type": "stream",
       "stream": "stdout",
       "text": [
        " 89258\n",
        "89254"
       ]
      },
      {
       "output_type": "stream",
       "stream": "stdout",
       "text": [
        " \n",
        "89806"
       ]
      },
      {
       "output_type": "stream",
       "stream": "stdout",
       "text": [
        " 89807\n",
        "59120"
       ]
      },
      {
       "output_type": "stream",
       "stream": "stdout",
       "text": [
        " 59121\n",
        "87426"
       ]
      },
      {
       "output_type": "stream",
       "stream": "stdout",
       "text": [
        " 87486\n",
        "89403"
       ]
      },
      {
       "output_type": "stream",
       "stream": "stdout",
       "text": [
        " \n",
        "89249"
       ]
      },
      {
       "output_type": "stream",
       "stream": "stdout",
       "text": [
        " \n",
        "90401"
       ]
      },
      {
       "output_type": "stream",
       "stream": "stdout",
       "text": [
        " \n",
        "89073"
       ]
      },
      {
       "output_type": "stream",
       "stream": "stdout",
       "text": [
        " \n",
        "94126"
       ]
      },
      {
       "output_type": "stream",
       "stream": "stdout",
       "text": [
        " \n",
        "86408"
       ]
      },
      {
       "output_type": "stream",
       "stream": "stdout",
       "text": [
        " \n",
        "89081"
       ]
      },
      {
       "output_type": "stream",
       "stream": "stdout",
       "text": [
        " 89080\n",
        "89067"
       ]
      },
      {
       "output_type": "stream",
       "stream": "stdout",
       "text": [
        " \n",
        "87426"
       ]
      },
      {
       "output_type": "stream",
       "stream": "stdout",
       "text": [
        " 87482\n",
        "89002"
       ]
      },
      {
       "output_type": "stream",
       "stream": "stdout",
       "text": [
        " 89003\n",
        "89799"
       ]
      },
      {
       "output_type": "stream",
       "stream": "stdout",
       "text": [
        " \n",
        "89380"
       ]
      },
      {
       "output_type": "stream",
       "stream": "stdout",
       "text": [
        " 89381\n",
        "86412"
       ]
      },
      {
       "output_type": "stream",
       "stream": "stdout",
       "text": [
        " \n",
        "88378"
       ]
      },
      {
       "output_type": "stream",
       "stream": "stdout",
       "text": [
        " \n",
        "88997"
       ]
      },
      {
       "output_type": "stream",
       "stream": "stdout",
       "text": [
        " \n",
        "75108"
       ]
      },
      {
       "output_type": "stream",
       "stream": "stdout",
       "text": [
        " 75109\n",
        "87403"
       ]
      },
      {
       "output_type": "stream",
       "stream": "stdout",
       "text": [
        " \n",
        "89063"
       ]
      },
      {
       "output_type": "stream",
       "stream": "stdout",
       "text": [
        " \n",
        "75133"
       ]
      },
      {
       "output_type": "stream",
       "stream": "stdout",
       "text": [
        " 75132\n",
        "89094"
       ]
      },
      {
       "output_type": "stream",
       "stream": "stdout",
       "text": [
        " 89095\n",
        "87402"
       ]
      },
      {
       "output_type": "stream",
       "stream": "stdout",
       "text": [
        " \n",
        "79671"
       ]
      },
      {
       "output_type": "stream",
       "stream": "stdout",
       "text": [
        " 79672\n",
        "88971"
       ]
      },
      {
       "output_type": "stream",
       "stream": "stdout",
       "text": [
        " \n",
        "87393"
       ]
      },
      {
       "output_type": "stream",
       "stream": "stdout",
       "text": [
        " 87394\n",
        "86397"
       ]
      },
      {
       "output_type": "stream",
       "stream": "stdout",
       "text": [
        " \n",
        "89753"
       ]
      },
      {
       "output_type": "stream",
       "stream": "stdout",
       "text": [
        " 89757\n",
        "89333"
       ]
      },
      {
       "output_type": "stream",
       "stream": "stdout",
       "text": [
        " 89334\n",
        "89019"
       ]
      },
      {
       "output_type": "stream",
       "stream": "stdout",
       "text": [
        " \n",
        "74073"
       ]
      },
      {
       "output_type": "stream",
       "stream": "stdout",
       "text": [
        " 87371\n",
        "71335"
       ]
      },
      {
       "output_type": "stream",
       "stream": "stdout",
       "text": [
        " 75106\n",
        "85030"
       ]
      },
      {
       "output_type": "stream",
       "stream": "stdout",
       "text": [
        " \n",
        "66178"
       ]
      },
      {
       "output_type": "stream",
       "stream": "stdout",
       "text": [
        " \n",
        "86388"
       ]
      },
      {
       "output_type": "stream",
       "stream": "stdout",
       "text": [
        " \n",
        "88908"
       ]
      },
      {
       "output_type": "stream",
       "stream": "stdout",
       "text": [
        " \n",
        "88880"
       ]
      },
      {
       "output_type": "stream",
       "stream": "stdout",
       "text": [
        " \n",
        "88970"
       ]
      },
      {
       "output_type": "stream",
       "stream": "stdout",
       "text": [
        " \n",
        "86382"
       ]
      },
      {
       "output_type": "stream",
       "stream": "stdout",
       "text": [
        " \n",
        "74060"
       ]
      },
      {
       "output_type": "stream",
       "stream": "stdout",
       "text": [
        " 74049\n",
        "88639"
       ]
      },
      {
       "output_type": "stream",
       "stream": "stdout",
       "text": [
        " \n",
        "86354"
       ]
      },
      {
       "output_type": "stream",
       "stream": "stdout",
       "text": [
        " 86355\n",
        "88598"
       ]
      },
      {
       "output_type": "stream",
       "stream": "stdout",
       "text": [
        " \n",
        "88597"
       ]
      },
      {
       "output_type": "stream",
       "stream": "stdout",
       "text": [
        " \n",
        "93972"
       ]
      },
      {
       "output_type": "stream",
       "stream": "stdout",
       "text": [
        " \n",
        "86236"
       ]
      },
      {
       "output_type": "stream",
       "stream": "stdout",
       "text": [
        " \n",
        "75125"
       ]
      },
      {
       "output_type": "stream",
       "stream": "stdout",
       "text": [
        " \n",
        "88449"
       ]
      },
      {
       "output_type": "stream",
       "stream": "stdout",
       "text": [
        " \n",
        "75119"
       ]
      },
      {
       "output_type": "stream",
       "stream": "stdout",
       "text": [
        " 75120\n",
        "75119"
       ]
      },
      {
       "output_type": "stream",
       "stream": "stdout",
       "text": [
        " \n",
        "88884"
       ]
      },
      {
       "output_type": "stream",
       "stream": "stdout",
       "text": [
        " 88888\n",
        "84848"
       ]
      },
      {
       "output_type": "stream",
       "stream": "stdout",
       "text": [
        " \n",
        "86351"
       ]
      },
      {
       "output_type": "stream",
       "stream": "stdout",
       "text": [
        " 86353\n",
        "86348"
       ]
      },
      {
       "output_type": "stream",
       "stream": "stdout",
       "text": [
        " \n",
        "88577"
       ]
      },
      {
       "output_type": "stream",
       "stream": "stdout",
       "text": [
        " \n",
        "88345"
       ]
      },
      {
       "output_type": "stream",
       "stream": "stdout",
       "text": [
        " \n",
        "88335"
       ]
      },
      {
       "output_type": "stream",
       "stream": "stdout",
       "text": [
        " \n",
        "75105"
       ]
      },
      {
       "output_type": "stream",
       "stream": "stdout",
       "text": [
        " \n",
        "79678"
       ]
      },
      {
       "output_type": "stream",
       "stream": "stdout",
       "text": [
        " \n",
        "65927"
       ]
      },
      {
       "output_type": "stream",
       "stream": "stdout",
       "text": [
        " \n",
        "71356"
       ]
      },
      {
       "output_type": "stream",
       "stream": "stdout",
       "text": [
        " 72140\n",
        "72139"
       ]
      },
      {
       "output_type": "stream",
       "stream": "stdout",
       "text": [
        " \n",
        "84589"
       ]
      },
      {
       "output_type": "stream",
       "stream": "stdout",
       "text": [
        " \n",
        "85697"
       ]
      },
      {
       "output_type": "stream",
       "stream": "stdout",
       "text": [
        " \n",
        "88295"
       ]
      },
      {
       "output_type": "stream",
       "stream": "stdout",
       "text": [
        " \n",
        "88177"
       ]
      },
      {
       "output_type": "stream",
       "stream": "stdout",
       "text": [
        " \n",
        "72123"
       ]
      },
      {
       "output_type": "stream",
       "stream": "stdout",
       "text": [
        " \n",
        "71343"
       ]
      },
      {
       "output_type": "stream",
       "stream": "stdout",
       "text": [
        " \n",
        "88212"
       ]
      },
      {
       "output_type": "stream",
       "stream": "stdout",
       "text": [
        " 88215\n",
        "86791"
       ]
      },
      {
       "output_type": "stream",
       "stream": "stdout",
       "text": [
        " \n",
        "72132"
       ]
      },
      {
       "output_type": "stream",
       "stream": "stdout",
       "text": [
        " 72133\n",
        "87424"
       ]
      },
      {
       "output_type": "stream",
       "stream": "stdout",
       "text": [
        " 88293\n",
        "88418"
       ]
      },
      {
       "output_type": "stream",
       "stream": "stdout",
       "text": [
        " \n",
        "88374"
       ]
      },
      {
       "output_type": "stream",
       "stream": "stdout",
       "text": [
        " 88375\n",
        "71370"
       ]
      },
      {
       "output_type": "stream",
       "stream": "stdout",
       "text": [
        " 71373\n",
        "86420"
       ]
      },
      {
       "output_type": "stream",
       "stream": "stdout",
       "text": [
        " 86421\n",
        "88363"
       ]
      },
      {
       "output_type": "stream",
       "stream": "stdout",
       "text": [
        " \n",
        "88244"
       ]
      },
      {
       "output_type": "stream",
       "stream": "stdout",
       "text": [
        " \n",
        "75109"
       ]
      },
      {
       "output_type": "stream",
       "stream": "stdout",
       "text": [
        " \n",
        "79677"
       ]
      },
      {
       "output_type": "stream",
       "stream": "stdout",
       "text": [
        " 79678\n",
        "88212"
       ]
      },
      {
       "output_type": "stream",
       "stream": "stdout",
       "text": [
        " \n",
        "90399"
       ]
      },
      {
       "output_type": "stream",
       "stream": "stdout",
       "text": [
        " \n",
        "86416"
       ]
      },
      {
       "output_type": "stream",
       "stream": "stdout",
       "text": [
        " \n",
        "74038"
       ]
      },
      {
       "output_type": "stream",
       "stream": "stdout",
       "text": [
        " \n",
        "85700"
       ]
      },
      {
       "output_type": "stream",
       "stream": "stdout",
       "text": [
        " \n",
        "67007"
       ]
      },
      {
       "output_type": "stream",
       "stream": "stdout",
       "text": [
        " \n",
        "66833"
       ]
      },
      {
       "output_type": "stream",
       "stream": "stdout",
       "text": [
        " 66832\n",
        "66990"
       ]
      },
      {
       "output_type": "stream",
       "stream": "stdout",
       "text": [
        " 66989\n",
        "71326"
       ]
      },
      {
       "output_type": "stream",
       "stream": "stdout",
       "text": [
        " \n",
        "71349"
       ]
      },
      {
       "output_type": "stream",
       "stream": "stdout",
       "text": [
        " \n",
        "65921"
       ]
      },
      {
       "output_type": "stream",
       "stream": "stdout",
       "text": [
        " \n",
        "86403"
       ]
      },
      {
       "output_type": "stream",
       "stream": "stdout",
       "text": [
        " 86404\n",
        "74102"
       ]
      },
      {
       "output_type": "stream",
       "stream": "stdout",
       "text": [
        " 74103\n",
        "86405"
       ]
      },
      {
       "output_type": "stream",
       "stream": "stdout",
       "text": [
        " \n",
        "66945"
       ]
      },
      {
       "output_type": "stream",
       "stream": "stdout",
       "text": [
        " \n",
        "74049"
       ]
      },
      {
       "output_type": "stream",
       "stream": "stdout",
       "text": [
        " \n",
        "70953"
       ]
      },
      {
       "output_type": "stream",
       "stream": "stdout",
       "text": [
        " \n",
        "72142"
       ]
      },
      {
       "output_type": "stream",
       "stream": "stdout",
       "text": [
        " \n",
        "66201"
       ]
      },
      {
       "output_type": "stream",
       "stream": "stdout",
       "text": [
        " \n",
        "70335"
       ]
      },
      {
       "output_type": "stream",
       "stream": "stdout",
       "text": [
        " 70336\n",
        "66202"
       ]
      },
      {
       "output_type": "stream",
       "stream": "stdout",
       "text": [
        " 66204\n",
        "66236"
       ]
      },
      {
       "output_type": "stream",
       "stream": "stdout",
       "text": [
        " \n",
        "59052"
       ]
      },
      {
       "output_type": "stream",
       "stream": "stdout",
       "text": [
        " \n",
        "66797"
       ]
      },
      {
       "output_type": "stream",
       "stream": "stdout",
       "text": [
        " \n",
        "66824"
       ]
      },
      {
       "output_type": "stream",
       "stream": "stdout",
       "text": [
        " \n",
        "66820"
       ]
      },
      {
       "output_type": "stream",
       "stream": "stdout",
       "text": [
        " 66821\n",
        "66991"
       ]
      },
      {
       "output_type": "stream",
       "stream": "stdout",
       "text": [
        " \n",
        "88147"
       ]
      },
      {
       "output_type": "stream",
       "stream": "stdout",
       "text": [
        " \n",
        "66231"
       ]
      },
      {
       "output_type": "stream",
       "stream": "stdout",
       "text": [
        " \n",
        "86403"
       ]
      },
      {
       "output_type": "stream",
       "stream": "stdout",
       "text": [
        " \n",
        "70328"
       ]
      },
      {
       "output_type": "stream",
       "stream": "stdout",
       "text": [
        " 66989\n",
        "66847"
       ]
      },
      {
       "output_type": "stream",
       "stream": "stdout",
       "text": [
        " \n",
        "70333"
       ]
      },
      {
       "output_type": "stream",
       "stream": "stdout",
       "text": [
        " 70334\n",
        "66068"
       ]
      },
      {
       "output_type": "stream",
       "stream": "stdout",
       "text": [
        " 66119\n",
        "66149"
       ]
      },
      {
       "output_type": "stream",
       "stream": "stdout",
       "text": [
        " \n",
        "66107"
       ]
      },
      {
       "output_type": "stream",
       "stream": "stdout",
       "text": [
        " \n",
        "66095"
       ]
      },
      {
       "output_type": "stream",
       "stream": "stdout",
       "text": [
        " \n",
        "66018"
       ]
      },
      {
       "output_type": "stream",
       "stream": "stdout",
       "text": [
        " 66027\n",
        "66079"
       ]
      },
      {
       "output_type": "stream",
       "stream": "stdout",
       "text": [
        " \n",
        "66113"
       ]
      },
      {
       "output_type": "stream",
       "stream": "stdout",
       "text": [
        " \n",
        "66073"
       ]
      },
      {
       "output_type": "stream",
       "stream": "stdout",
       "text": [
        " \n",
        "66022"
       ]
      },
      {
       "output_type": "stream",
       "stream": "stdout",
       "text": [
        " \n",
        "66128"
       ]
      },
      {
       "output_type": "stream",
       "stream": "stdout",
       "text": [
        " 66130\n",
        "65920"
       ]
      },
      {
       "output_type": "stream",
       "stream": "stdout",
       "text": [
        " 65922\n",
        "66177"
       ]
      },
      {
       "output_type": "stream",
       "stream": "stdout",
       "text": [
        " \n",
        "65982"
       ]
      },
      {
       "output_type": "stream",
       "stream": "stdout",
       "text": [
        " \n",
        "65884"
       ]
      },
      {
       "output_type": "stream",
       "stream": "stdout",
       "text": [
        " \n",
        "65352"
       ]
      },
      {
       "output_type": "stream",
       "stream": "stdout",
       "text": [
        " \n",
        "74040"
       ]
      },
      {
       "output_type": "stream",
       "stream": "stdout",
       "text": [
        " \n",
        "65883"
       ]
      },
      {
       "output_type": "stream",
       "stream": "stdout",
       "text": [
        " \n",
        "65934"
       ]
      },
      {
       "output_type": "stream",
       "stream": "stdout",
       "text": [
        " \n",
        "64037"
       ]
      },
      {
       "output_type": "stream",
       "stream": "stdout",
       "text": [
        " 64038\n",
        "65328"
       ]
      },
      {
       "output_type": "stream",
       "stream": "stdout",
       "text": [
        " 65918\n",
        "64021"
       ]
      },
      {
       "output_type": "stream",
       "stream": "stdout",
       "text": [
        " \n",
        "66141"
       ]
      },
      {
       "output_type": "stream",
       "stream": "stdout",
       "text": [
        " \n",
        "89087"
       ]
      },
      {
       "output_type": "stream",
       "stream": "stdout",
       "text": [
        " \n",
        "64024"
       ]
      },
      {
       "output_type": "stream",
       "stream": "stdout",
       "text": [
        " 65327\n",
        "61834"
       ]
      },
      {
       "output_type": "stream",
       "stream": "stdout",
       "text": [
        " \n",
        "85060"
       ]
      },
      {
       "output_type": "stream",
       "stream": "stdout",
       "text": [
        " \n",
        "65895"
       ]
      },
      {
       "output_type": "stream",
       "stream": "stdout",
       "text": [
        " \n",
        "61833"
       ]
      },
      {
       "output_type": "stream",
       "stream": "stdout",
       "text": [
        " \n",
        "65346"
       ]
      },
      {
       "output_type": "stream",
       "stream": "stdout",
       "text": [
        " 65347\n",
        "40211"
       ]
      },
      {
       "output_type": "stream",
       "stream": "stdout",
       "text": [
        " \n",
        "59019"
       ]
      },
      {
       "output_type": "stream",
       "stream": "stdout",
       "text": [
        " \n",
        "59017"
       ]
      },
      {
       "output_type": "stream",
       "stream": "stdout",
       "text": [
        " 59035\n",
        "59004"
       ]
      },
      {
       "output_type": "stream",
       "stream": "stdout",
       "text": [
        " \n",
        "58682"
       ]
      },
      {
       "output_type": "stream",
       "stream": "stdout",
       "text": [
        " \n",
        "59131"
       ]
      },
      {
       "output_type": "stream",
       "stream": "stdout",
       "text": [
        " \n",
        "59161"
       ]
      },
      {
       "output_type": "stream",
       "stream": "stdout",
       "text": [
        " 59162\n",
        "59017"
       ]
      },
      {
       "output_type": "stream",
       "stream": "stdout",
       "text": [
        " 56941\n",
        "59011"
       ]
      },
      {
       "output_type": "stream",
       "stream": "stdout",
       "text": [
        " \n",
        "55463"
       ]
      },
      {
       "output_type": "stream",
       "stream": "stdout",
       "text": [
        " \n",
        "34960"
       ]
      },
      {
       "output_type": "stream",
       "stream": "stdout",
       "text": [
        " 35075\n",
        "58619"
       ]
      },
      {
       "output_type": "stream",
       "stream": "stdout",
       "text": [
        " 58635\n",
        "58628"
       ]
      },
      {
       "output_type": "stream",
       "stream": "stdout",
       "text": [
        " 58629\n",
        "58618"
       ]
      },
      {
       "output_type": "stream",
       "stream": "stdout",
       "text": [
        " \n",
        "57843"
       ]
      },
      {
       "output_type": "stream",
       "stream": "stdout",
       "text": [
        " \n",
        "59011"
       ]
      },
      {
       "output_type": "stream",
       "stream": "stdout",
       "text": [
        " 55307\n",
        "58984"
       ]
      },
      {
       "output_type": "stream",
       "stream": "stdout",
       "text": [
        " 58985\n",
        "58671"
       ]
      },
      {
       "output_type": "stream",
       "stream": "stdout",
       "text": [
        " \n",
        "58664"
       ]
      },
      {
       "output_type": "stream",
       "stream": "stdout",
       "text": [
        " \n",
        "57794"
       ]
      },
      {
       "output_type": "stream",
       "stream": "stdout",
       "text": [
        " 57883\n",
        "57738"
       ]
      },
      {
       "output_type": "stream",
       "stream": "stdout",
       "text": [
        " \n",
        "56936"
       ]
      },
      {
       "output_type": "stream",
       "stream": "stdout",
       "text": [
        " 57812\n",
        "55409"
       ]
      },
      {
       "output_type": "stream",
       "stream": "stdout",
       "text": [
        " \n",
        "57737"
       ]
      },
      {
       "output_type": "stream",
       "stream": "stdout",
       "text": [
        " \n",
        "57791"
       ]
      },
      {
       "output_type": "stream",
       "stream": "stdout",
       "text": [
        " \n",
        "57733"
       ]
      },
      {
       "output_type": "stream",
       "stream": "stdout",
       "text": [
        " 58619\n",
        "56941"
       ]
      },
      {
       "output_type": "stream",
       "stream": "stdout",
       "text": [
        " 56936\n",
        "56615"
       ]
      },
      {
       "output_type": "stream",
       "stream": "stdout",
       "text": [
        " 56936\n",
        "56930"
       ]
      },
      {
       "output_type": "stream",
       "stream": "stdout",
       "text": [
        " 56931\n",
        "55447"
       ]
      },
      {
       "output_type": "stream",
       "stream": "stdout",
       "text": [
        " 55445\n",
        "56932"
       ]
      },
      {
       "output_type": "stream",
       "stream": "stdout",
       "text": [
        " 56933\n",
        "55325"
       ]
      },
      {
       "output_type": "stream",
       "stream": "stdout",
       "text": [
        " \n",
        "55446"
       ]
      },
      {
       "output_type": "stream",
       "stream": "stdout",
       "text": [
        " \n",
        "56934"
       ]
      },
      {
       "output_type": "stream",
       "stream": "stdout",
       "text": [
        " \n",
        "34396"
       ]
      },
      {
       "output_type": "stream",
       "stream": "stdout",
       "text": [
        " \n",
        "55285"
       ]
      },
      {
       "output_type": "stream",
       "stream": "stdout",
       "text": [
        " \n",
        "34395"
       ]
      },
      {
       "output_type": "stream",
       "stream": "stdout",
       "text": [
        " \n",
        "55407"
       ]
      },
      {
       "output_type": "stream",
       "stream": "stdout",
       "text": [
        " \n",
        "56972"
       ]
      },
      {
       "output_type": "stream",
       "stream": "stdout",
       "text": [
        " 56973\n",
        "56960"
       ]
      },
      {
       "output_type": "stream",
       "stream": "stdout",
       "text": [
        " \n",
        "57728"
       ]
      },
      {
       "output_type": "stream",
       "stream": "stdout",
       "text": [
        " 57723\n",
        "56953"
       ]
      },
      {
       "output_type": "stream",
       "stream": "stdout",
       "text": [
        " 56954\n",
        "55206"
       ]
      },
      {
       "output_type": "stream",
       "stream": "stdout",
       "text": [
        " 43376\n",
        "55305"
       ]
      },
      {
       "output_type": "stream",
       "stream": "stdout",
       "text": [
        " \n",
        "55475"
       ]
      },
      {
       "output_type": "stream",
       "stream": "stdout",
       "text": [
        " \n",
        "55364"
       ]
      },
      {
       "output_type": "stream",
       "stream": "stdout",
       "text": [
        " 55351\n",
        "55358"
       ]
      },
      {
       "output_type": "stream",
       "stream": "stdout",
       "text": [
        " 55354\n",
        "55372"
       ]
      },
      {
       "output_type": "stream",
       "stream": "stdout",
       "text": [
        " 55373\n",
        "56942"
       ]
      },
      {
       "output_type": "stream",
       "stream": "stdout",
       "text": [
        " 56943\n",
        "55472"
       ]
      },
      {
       "output_type": "stream",
       "stream": "stdout",
       "text": [
        " \n",
        "34372"
       ]
      },
      {
       "output_type": "stream",
       "stream": "stdout",
       "text": [
        " \n",
        "55382"
       ]
      },
      {
       "output_type": "stream",
       "stream": "stdout",
       "text": [
        " \n",
        "43376"
       ]
      },
      {
       "output_type": "stream",
       "stream": "stdout",
       "text": [
        " 55206\n",
        "55268"
       ]
      },
      {
       "output_type": "stream",
       "stream": "stdout",
       "text": [
        " 55269\n",
        "55331"
       ]
      },
      {
       "output_type": "stream",
       "stream": "stdout",
       "text": [
        " \n",
        "55283"
       ]
      },
      {
       "output_type": "stream",
       "stream": "stdout",
       "text": [
        " \n",
        "59008"
       ]
      },
      {
       "output_type": "stream",
       "stream": "stdout",
       "text": [
        " \n",
        "55300"
       ]
      },
      {
       "output_type": "stream",
       "stream": "stdout",
       "text": [
        " \n",
        "57723"
       ]
      },
      {
       "output_type": "stream",
       "stream": "stdout",
       "text": [
        " \n",
        "55255"
       ]
      },
      {
       "output_type": "stream",
       "stream": "stdout",
       "text": [
        " \n",
        "34344"
       ]
      },
      {
       "output_type": "stream",
       "stream": "stdout",
       "text": [
        " \n",
        "56918"
       ]
      },
      {
       "output_type": "stream",
       "stream": "stdout",
       "text": [
        " \n",
        "55228"
       ]
      },
      {
       "output_type": "stream",
       "stream": "stdout",
       "text": [
        " \n",
        "56911"
       ]
      },
      {
       "output_type": "stream",
       "stream": "stdout",
       "text": [
        " \n",
        "55308"
       ]
      },
      {
       "output_type": "stream",
       "stream": "stdout",
       "text": [
        " \n",
        "55316"
       ]
      },
      {
       "output_type": "stream",
       "stream": "stdout",
       "text": [
        " \n",
        "55227"
       ]
      },
      {
       "output_type": "stream",
       "stream": "stdout",
       "text": [
        " \n",
        "42970"
       ]
      },
      {
       "output_type": "stream",
       "stream": "stdout",
       "text": [
        " \n",
        "56634"
       ]
      },
      {
       "output_type": "stream",
       "stream": "stdout",
       "text": [
        " \n",
        "88347"
       ]
      },
      {
       "output_type": "stream",
       "stream": "stdout",
       "text": [
        " \n",
        "42992"
       ]
      },
      {
       "output_type": "stream",
       "stream": "stdout",
       "text": [
        " \n",
        "42974"
       ]
      },
      {
       "output_type": "stream",
       "stream": "stdout",
       "text": [
        " 42976\n",
        "95479"
       ]
      },
      {
       "output_type": "stream",
       "stream": "stdout",
       "text": [
        " \n",
        "95141"
       ]
      },
      {
       "output_type": "stream",
       "stream": "stdout",
       "text": [
        " \n",
        "95497"
       ]
      },
      {
       "output_type": "stream",
       "stream": "stdout",
       "text": [
        " \n",
        "95506"
       ]
      },
      {
       "output_type": "stream",
       "stream": "stdout",
       "text": [
        " \n",
        "95300"
       ]
      },
      {
       "output_type": "stream",
       "stream": "stdout",
       "text": [
        " 95016\n",
        "95534"
       ]
      },
      {
       "output_type": "stream",
       "stream": "stdout",
       "text": [
        " \n",
        "95592"
       ]
      },
      {
       "output_type": "stream",
       "stream": "stdout",
       "text": [
        " 95593\n",
        "95602"
       ]
      },
      {
       "output_type": "stream",
       "stream": "stdout",
       "text": [
        " \n",
        "95467"
       ]
      },
      {
       "output_type": "stream",
       "stream": "stdout",
       "text": [
        " \n",
        "95380"
       ]
      },
      {
       "output_type": "stream",
       "stream": "stdout",
       "text": [
        " \n",
        "95617"
       ]
      },
      {
       "output_type": "stream",
       "stream": "stdout",
       "text": [
        " \n",
        "91100"
       ]
      },
      {
       "output_type": "stream",
       "stream": "stdout",
       "text": [
        " \n",
        "59074"
       ]
      },
      {
       "output_type": "stream",
       "stream": "stdout",
       "text": [
        " \n",
        "95502"
       ]
      },
      {
       "output_type": "stream",
       "stream": "stdout",
       "text": [
        " \n",
        "59057"
       ]
      },
      {
       "output_type": "stream",
       "stream": "stdout",
       "text": [
        " 59105\n",
        "95103"
       ]
      },
      {
       "output_type": "stream",
       "stream": "stdout",
       "text": [
        " \n",
        "95639"
       ]
      },
      {
       "output_type": "stream",
       "stream": "stdout",
       "text": [
        " \n",
        "93538"
       ]
      },
      {
       "output_type": "stream",
       "stream": "stdout",
       "text": [
        " \n",
        "95478"
       ]
      },
      {
       "output_type": "stream",
       "stream": "stdout",
       "text": [
        " \n",
        "95023"
       ]
      },
      {
       "output_type": "stream",
       "stream": "stdout",
       "text": [
        " \n",
        "95713"
       ]
      },
      {
       "output_type": "stream",
       "stream": "stdout",
       "text": [
        " \n",
        "95175"
       ]
      },
      {
       "output_type": "stream",
       "stream": "stdout",
       "text": [
        " \n",
        "95745"
       ]
      },
      {
       "output_type": "stream",
       "stream": "stdout",
       "text": [
        " 95746\n",
        "95747"
       ]
      },
      {
       "output_type": "stream",
       "stream": "stdout",
       "text": [
        " \n",
        "95012"
       ]
      },
      {
       "output_type": "stream",
       "stream": "stdout",
       "text": [
        " \n",
        "59108"
       ]
      },
      {
       "output_type": "stream",
       "stream": "stdout",
       "text": [
        " 59109\n",
        "90767"
       ]
      },
      {
       "output_type": "stream",
       "stream": "stdout",
       "text": [
        " \n",
        "59076"
       ]
      },
      {
       "output_type": "stream",
       "stream": "stdout",
       "text": [
        " 59077\n",
        "90891"
       ]
      },
      {
       "output_type": "stream",
       "stream": "stdout",
       "text": [
        " \n",
        "95386"
       ]
      },
      {
       "output_type": "stream",
       "stream": "stdout",
       "text": [
        " \n",
        "59122"
       ]
      },
      {
       "output_type": "stream",
       "stream": "stdout",
       "text": [
        " 59123\n",
        "95129"
       ]
      },
      {
       "output_type": "stream",
       "stream": "stdout",
       "text": [
        " \n",
        "95515"
       ]
      },
      {
       "output_type": "stream",
       "stream": "stdout",
       "text": [
        " \n",
        "95829"
       ]
      },
      {
       "output_type": "stream",
       "stream": "stdout",
       "text": [
        " \n",
        "95495"
       ]
      },
      {
       "output_type": "stream",
       "stream": "stdout",
       "text": [
        " \n",
        "95835"
       ]
      },
      {
       "output_type": "stream",
       "stream": "stdout",
       "text": [
        " \n",
        "94710"
       ]
      },
      {
       "output_type": "stream",
       "stream": "stdout",
       "text": [
        " \n",
        "59055"
       ]
      },
      {
       "output_type": "stream",
       "stream": "stdout",
       "text": [
        " 59056\n",
        "93546"
       ]
      },
      {
       "output_type": "stream",
       "stream": "stdout",
       "text": [
        " \n",
        "93368"
       ]
      },
      {
       "output_type": "stream",
       "stream": "stdout",
       "text": [
        " \n",
        "71371"
       ]
      },
      {
       "output_type": "stream",
       "stream": "stdout",
       "text": [
        " \n",
        "91093"
       ]
      },
      {
       "output_type": "stream",
       "stream": "stdout",
       "text": [
        " 90767\n",
        "95668"
       ]
      },
      {
       "output_type": "stream",
       "stream": "stdout",
       "text": [
        " \n",
        "96155"
       ]
      },
      {
       "output_type": "stream",
       "stream": "stdout",
       "text": [
        " \n",
        "94934"
       ]
      },
      {
       "output_type": "stream",
       "stream": "stdout",
       "text": [
        " \n",
        "95414"
       ]
      },
      {
       "output_type": "stream",
       "stream": "stdout",
       "text": [
        " \n",
        "95364"
       ]
      },
      {
       "output_type": "stream",
       "stream": "stdout",
       "text": [
        " 96176\n",
        "95530"
       ]
      },
      {
       "output_type": "stream",
       "stream": "stdout",
       "text": [
        " \n",
        "95712"
       ]
      },
      {
       "output_type": "stream",
       "stream": "stdout",
       "text": [
        " \n",
        "94942"
       ]
      },
      {
       "output_type": "stream",
       "stream": "stdout",
       "text": [
        " \n",
        "94717"
       ]
      },
      {
       "output_type": "stream",
       "stream": "stdout",
       "text": [
        " \n",
        "95821"
       ]
      },
      {
       "output_type": "stream",
       "stream": "stdout",
       "text": [
        " \n",
        "94803"
       ]
      },
      {
       "output_type": "stream",
       "stream": "stdout",
       "text": [
        " \n",
        "95193"
       ]
      },
      {
       "output_type": "stream",
       "stream": "stdout",
       "text": [
        " \n",
        "96221"
       ]
      },
      {
       "output_type": "stream",
       "stream": "stdout",
       "text": [
        " \n",
        "95724"
       ]
      },
      {
       "output_type": "stream",
       "stream": "stdout",
       "text": [
        " 95570\n",
        "96522"
       ]
      },
      {
       "output_type": "stream",
       "stream": "stdout",
       "text": [
        " \n",
        "96527"
       ]
      },
      {
       "output_type": "stream",
       "stream": "stdout",
       "text": [
        " \n",
        "97796"
       ]
      },
      {
       "output_type": "stream",
       "stream": "stdout",
       "text": [
        " 96133\n",
        "95455"
       ]
      },
      {
       "output_type": "stream",
       "stream": "stdout",
       "text": [
        " \n",
        "95440"
       ]
      },
      {
       "output_type": "stream",
       "stream": "stdout",
       "text": [
        " \n",
        "91221"
       ]
      },
      {
       "output_type": "stream",
       "stream": "stdout",
       "text": [
        " 91222\n",
        "95431"
       ]
      },
      {
       "output_type": "stream",
       "stream": "stdout",
       "text": [
        " \n",
        "95432"
       ]
      },
      {
       "output_type": "stream",
       "stream": "stdout",
       "text": [
        " \n",
        "95427"
       ]
      },
      {
       "output_type": "stream",
       "stream": "stdout",
       "text": [
        " 95427\n",
        "95425"
       ]
      },
      {
       "output_type": "stream",
       "stream": "stdout",
       "text": [
        " \n",
        "95420"
       ]
      },
      {
       "output_type": "stream",
       "stream": "stdout",
       "text": [
        " \n",
        "91132"
       ]
      },
      {
       "output_type": "stream",
       "stream": "stdout",
       "text": [
        " 91133\n",
        "95410"
       ]
      },
      {
       "output_type": "stream",
       "stream": "stdout",
       "text": [
        " \n",
        "95400"
       ]
      },
      {
       "output_type": "stream",
       "stream": "stdout",
       "text": [
        " \n",
        "95201"
       ]
      },
      {
       "output_type": "stream",
       "stream": "stdout",
       "text": [
        " 95200\n",
        "90948"
       ]
      },
      {
       "output_type": "stream",
       "stream": "stdout",
       "text": [
        " 90949\n",
        "95396"
       ]
      },
      {
       "output_type": "stream",
       "stream": "stdout",
       "text": [
        " \n",
        "95393"
       ]
      },
      {
       "output_type": "stream",
       "stream": "stdout",
       "text": [
        " \n",
        "95385"
       ]
      },
      {
       "output_type": "stream",
       "stream": "stdout",
       "text": [
        " \n",
        "95379"
       ]
      },
      {
       "output_type": "stream",
       "stream": "stdout",
       "text": [
        " \n",
        "95311"
       ]
      },
      {
       "output_type": "stream",
       "stream": "stdout",
       "text": [
        " \n",
        "95282"
       ]
      },
      {
       "output_type": "stream",
       "stream": "stdout",
       "text": [
        " \n",
        "59072"
       ]
      },
      {
       "output_type": "stream",
       "stream": "stdout",
       "text": [
        " \n",
        "95080"
       ]
      },
      {
       "output_type": "stream",
       "stream": "stdout",
       "text": [
        " 95140\n",
        "95360"
       ]
      },
      {
       "output_type": "stream",
       "stream": "stdout",
       "text": [
        " \n",
        "95131"
       ]
      },
      {
       "output_type": "stream",
       "stream": "stdout",
       "text": [
        " 95132\n",
        "95339"
       ]
      },
      {
       "output_type": "stream",
       "stream": "stdout",
       "text": [
        " \n",
        "94822"
       ]
      },
      {
       "output_type": "stream",
       "stream": "stdout",
       "text": [
        " \n",
        "95233"
       ]
      },
      {
       "output_type": "stream",
       "stream": "stdout",
       "text": [
        " 95275\n",
        "95324"
       ]
      },
      {
       "output_type": "stream",
       "stream": "stdout",
       "text": [
        " 94970\n",
        "95215"
       ]
      },
      {
       "output_type": "stream",
       "stream": "stdout",
       "text": [
        " \n",
        "95212"
       ]
      },
      {
       "output_type": "stream",
       "stream": "stdout",
       "text": [
        " 95213\n",
        "93413"
       ]
      },
      {
       "output_type": "stream",
       "stream": "stdout",
       "text": [
        " \n",
        "95099"
       ]
      },
      {
       "output_type": "stream",
       "stream": "stdout",
       "text": [
        " \n",
        "95201"
       ]
      },
      {
       "output_type": "stream",
       "stream": "stdout",
       "text": [
        " 95117\n",
        "94988"
       ]
      },
      {
       "output_type": "stream",
       "stream": "stdout",
       "text": [
        " 95203\n",
        "95085"
       ]
      },
      {
       "output_type": "stream",
       "stream": "stdout",
       "text": [
        " 95086\n",
        "95257"
       ]
      },
      {
       "output_type": "stream",
       "stream": "stdout",
       "text": [
        " 95256\n",
        "91065"
       ]
      },
      {
       "output_type": "stream",
       "stream": "stdout",
       "text": [
        " \n",
        "95198"
       ]
      },
      {
       "output_type": "stream",
       "stream": "stdout",
       "text": [
        " \n",
        "93542"
       ]
      },
      {
       "output_type": "stream",
       "stream": "stdout",
       "text": [
        " \n",
        "95197"
       ]
      },
      {
       "output_type": "stream",
       "stream": "stdout",
       "text": [
        " \n",
        "95374"
       ]
      },
      {
       "output_type": "stream",
       "stream": "stdout",
       "text": [
        " \n",
        "95316"
       ]
      },
      {
       "output_type": "stream",
       "stream": "stdout",
       "text": [
        " \n",
        "95310"
       ]
      },
      {
       "output_type": "stream",
       "stream": "stdout",
       "text": [
        " \n",
        "95179"
       ]
      },
      {
       "output_type": "stream",
       "stream": "stdout",
       "text": [
        " 94965\n",
        "95247"
       ]
      },
      {
       "output_type": "stream",
       "stream": "stdout",
       "text": [
        " 95248\n",
        "94972"
       ]
      },
      {
       "output_type": "stream",
       "stream": "stdout",
       "text": [
        " \n",
        "95298"
       ]
      },
      {
       "output_type": "stream",
       "stream": "stdout",
       "text": [
        " \n",
        "94962"
       ]
      },
      {
       "output_type": "stream",
       "stream": "stdout",
       "text": [
        " \n",
        "94954"
       ]
      },
      {
       "output_type": "stream",
       "stream": "stdout",
       "text": [
        " 94955\n",
        "94954"
       ]
      },
      {
       "output_type": "stream",
       "stream": "stdout",
       "text": [
        " \n",
        "94953"
       ]
      },
      {
       "output_type": "stream",
       "stream": "stdout",
       "text": [
        " \n",
        "94902"
       ]
      },
      {
       "output_type": "stream",
       "stream": "stdout",
       "text": [
        " 94946\n",
        "90908"
       ]
      },
      {
       "output_type": "stream",
       "stream": "stdout",
       "text": [
        " 90909\n",
        "94932"
       ]
      },
      {
       "output_type": "stream",
       "stream": "stdout",
       "text": [
        " \n",
        "94931"
       ]
      },
      {
       "output_type": "stream",
       "stream": "stdout",
       "text": [
        " \n",
        "94930"
       ]
      },
      {
       "output_type": "stream",
       "stream": "stdout",
       "text": [
        " \n",
        "94890"
       ]
      },
      {
       "output_type": "stream",
       "stream": "stdout",
       "text": [
        " \n",
        "95173"
       ]
      },
      {
       "output_type": "stream",
       "stream": "stdout",
       "text": [
        " \n",
        "94896"
       ]
      },
      {
       "output_type": "stream",
       "stream": "stdout",
       "text": [
        " \n",
        "94712"
       ]
      },
      {
       "output_type": "stream",
       "stream": "stdout",
       "text": [
        " 94811\n",
        "95232"
       ]
      },
      {
       "output_type": "stream",
       "stream": "stdout",
       "text": [
        " \n",
        "94915"
       ]
      },
      {
       "output_type": "stream",
       "stream": "stdout",
       "text": [
        " 94916\n",
        "94912"
       ]
      },
      {
       "output_type": "stream",
       "stream": "stdout",
       "text": [
        " 94911\n",
        "94878"
       ]
      },
      {
       "output_type": "stream",
       "stream": "stdout",
       "text": [
        " 94879\n",
        "95367"
       ]
      },
      {
       "output_type": "stream",
       "stream": "stdout",
       "text": [
        " 94963\n",
        "94830"
       ]
      },
      {
       "output_type": "stream",
       "stream": "stdout",
       "text": [
        " 94830\n",
        "95365"
       ]
      },
      {
       "output_type": "stream",
       "stream": "stdout",
       "text": [
        " \n",
        "95229"
       ]
      },
      {
       "output_type": "stream",
       "stream": "stdout",
       "text": [
        " \n",
        "94526"
       ]
      },
      {
       "output_type": "stream",
       "stream": "stdout",
       "text": [
        " \n",
        "94510"
       ]
      },
      {
       "output_type": "stream",
       "stream": "stdout",
       "text": [
        " 94510\n",
        "94505"
       ]
      },
      {
       "output_type": "stream",
       "stream": "stdout",
       "text": [
        " \n",
        "94531"
       ]
      },
      {
       "output_type": "stream",
       "stream": "stdout",
       "text": [
        " \n",
        "94472"
       ]
      },
      {
       "output_type": "stream",
       "stream": "stdout",
       "text": [
        " \n",
        "92586"
       ]
      },
      {
       "output_type": "stream",
       "stream": "stdout",
       "text": [
        " 93469\n",
        "94465"
       ]
      },
      {
       "output_type": "stream",
       "stream": "stdout",
       "text": [
        " \n",
        "94459"
       ]
      },
      {
       "output_type": "stream",
       "stream": "stdout",
       "text": [
        " \n",
        "91161"
       ]
      },
      {
       "output_type": "stream",
       "stream": "stdout",
       "text": [
        " 91068\n",
        "90921"
       ]
      },
      {
       "output_type": "stream",
       "stream": "stdout",
       "text": [
        " 90940\n",
        "90753"
       ]
      },
      {
       "output_type": "stream",
       "stream": "stdout",
       "text": [
        " 90869\n",
        "90753"
       ]
      },
      {
       "output_type": "stream",
       "stream": "stdout",
       "text": [
        " 90778\n",
        "95161"
       ]
      },
      {
       "output_type": "stream",
       "stream": "stdout",
       "text": [
        " 95162\n",
        "94626"
       ]
      },
      {
       "output_type": "stream",
       "stream": "stdout",
       "text": [
        " \n",
        "94621"
       ]
      },
      {
       "output_type": "stream",
       "stream": "stdout",
       "text": [
        " \n",
        "94604"
       ]
      },
      {
       "output_type": "stream",
       "stream": "stdout",
       "text": [
        " \n",
        "94758"
       ]
      },
      {
       "output_type": "stream",
       "stream": "stdout",
       "text": [
        " \n",
        "92598"
       ]
      },
      {
       "output_type": "stream",
       "stream": "stdout",
       "text": [
        " \n",
        "94754"
       ]
      },
      {
       "output_type": "stream",
       "stream": "stdout",
       "text": [
        " \n",
        "94587"
       ]
      },
      {
       "output_type": "stream",
       "stream": "stdout",
       "text": [
        " 94588\n",
        "94894"
       ]
      },
      {
       "output_type": "stream",
       "stream": "stdout",
       "text": [
        " 94890\n",
        "94173"
       ]
      },
      {
       "output_type": "stream",
       "stream": "stdout",
       "text": [
        " 94188\n",
        "93952"
       ]
      },
      {
       "output_type": "stream",
       "stream": "stdout",
       "text": [
        " 93953\n",
        "94500"
       ]
      },
      {
       "output_type": "stream",
       "stream": "stdout",
       "text": [
        " \n",
        "94189"
       ]
      },
      {
       "output_type": "stream",
       "stream": "stdout",
       "text": [
        " 94220\n",
        "94221"
       ]
      },
      {
       "output_type": "stream",
       "stream": "stdout",
       "text": [
        " 94222\n",
        "94601"
       ]
      },
      {
       "output_type": "stream",
       "stream": "stdout",
       "text": [
        " \n",
        "94753"
       ]
      },
      {
       "output_type": "stream",
       "stream": "stdout",
       "text": [
        " \n",
        "94593"
       ]
      },
      {
       "output_type": "stream",
       "stream": "stdout",
       "text": [
        " \n",
        "94591"
       ]
      },
      {
       "output_type": "stream",
       "stream": "stdout",
       "text": [
        " 94592\n",
        "94589"
       ]
      },
      {
       "output_type": "stream",
       "stream": "stdout",
       "text": [
        " 94590\n",
        "94586"
       ]
      },
      {
       "output_type": "stream",
       "stream": "stdout",
       "text": [
        " \n",
        "95157"
       ]
      },
      {
       "output_type": "stream",
       "stream": "stdout",
       "text": [
        " 95158\n",
        "94224"
       ]
      },
      {
       "output_type": "stream",
       "stream": "stdout",
       "text": [
        " 94498\n",
        "95346"
       ]
      },
      {
       "output_type": "stream",
       "stream": "stdout",
       "text": [
        " \n",
        "94711"
       ]
      },
      {
       "output_type": "stream",
       "stream": "stdout",
       "text": [
        " \n",
        "94910"
       ]
      },
      {
       "output_type": "stream",
       "stream": "stdout",
       "text": [
        " 94911\n",
        "94461"
       ]
      },
      {
       "output_type": "stream",
       "stream": "stdout",
       "text": [
        " 94173\n",
        "90759"
       ]
      },
      {
       "output_type": "stream",
       "stream": "stdout",
       "text": [
        " 90760\n",
        "94371"
       ]
      },
      {
       "output_type": "stream",
       "stream": "stdout",
       "text": [
        " \n",
        "94369"
       ]
      },
      {
       "output_type": "stream",
       "stream": "stdout",
       "text": [
        " 94370\n",
        "94367"
       ]
      },
      {
       "output_type": "stream",
       "stream": "stdout",
       "text": [
        " 94368\n",
        "94276"
       ]
      },
      {
       "output_type": "stream",
       "stream": "stdout",
       "text": [
        " 94278\n",
        "94898"
       ]
      },
      {
       "output_type": "stream",
       "stream": "stdout",
       "text": [
        " \n",
        "94714"
       ]
      },
      {
       "output_type": "stream",
       "stream": "stdout",
       "text": [
        " 94708\n",
        "94568"
       ]
      },
      {
       "output_type": "stream",
       "stream": "stdout",
       "text": [
        " 94567\n",
        "94566"
       ]
      },
      {
       "output_type": "stream",
       "stream": "stdout",
       "text": [
        " 94567\n",
        "94564"
       ]
      },
      {
       "output_type": "stream",
       "stream": "stdout",
       "text": [
        " 94565\n",
        "94211"
       ]
      },
      {
       "output_type": "stream",
       "stream": "stdout",
       "text": [
        " 94239\n",
        "94169"
       ]
      },
      {
       "output_type": "stream",
       "stream": "stdout",
       "text": [
        " \n",
        "94166"
       ]
      },
      {
       "output_type": "stream",
       "stream": "stdout",
       "text": [
        " \n",
        "94168"
       ]
      },
      {
       "output_type": "stream",
       "stream": "stdout",
       "text": [
        " \n",
        "94076"
       ]
      },
      {
       "output_type": "stream",
       "stream": "stdout",
       "text": [
        " \n",
        "94091"
       ]
      },
      {
       "output_type": "stream",
       "stream": "stdout",
       "text": [
        " 94068\n",
        "94030"
       ]
      },
      {
       "output_type": "stream",
       "stream": "stdout",
       "text": [
        " \n",
        "94027"
       ]
      },
      {
       "output_type": "stream",
       "stream": "stdout",
       "text": [
        " \n",
        "94024"
       ]
      },
      {
       "output_type": "stream",
       "stream": "stdout",
       "text": [
        " \n",
        "94701"
       ]
      },
      {
       "output_type": "stream",
       "stream": "stdout",
       "text": [
        " \n",
        "94021"
       ]
      },
      {
       "output_type": "stream",
       "stream": "stdout",
       "text": [
        " \n",
        "94330"
       ]
      },
      {
       "output_type": "stream",
       "stream": "stdout",
       "text": [
        " 94331\n",
        "94104"
       ]
      },
      {
       "output_type": "stream",
       "stream": "stdout",
       "text": [
        " \n",
        "94068"
       ]
      },
      {
       "output_type": "stream",
       "stream": "stdout",
       "text": [
        " 94091\n",
        "94080"
       ]
      },
      {
       "output_type": "stream",
       "stream": "stdout",
       "text": [
        " \n",
        "94160"
       ]
      },
      {
       "output_type": "stream",
       "stream": "stdout",
       "text": [
        " \n",
        "94897"
       ]
      },
      {
       "output_type": "stream",
       "stream": "stdout",
       "text": [
        " \n",
        "94057"
       ]
      },
      {
       "output_type": "stream",
       "stream": "stdout",
       "text": [
        " 94091\n",
        "94105"
       ]
      },
      {
       "output_type": "stream",
       "stream": "stdout",
       "text": [
        " 94159\n",
        "94078"
       ]
      },
      {
       "output_type": "stream",
       "stream": "stdout",
       "text": [
        " \n",
        "94071"
       ]
      },
      {
       "output_type": "stream",
       "stream": "stdout",
       "text": [
        " \n",
        "94006"
       ]
      },
      {
       "output_type": "stream",
       "stream": "stdout",
       "text": [
        " \n",
        "94079"
       ]
      },
      {
       "output_type": "stream",
       "stream": "stdout",
       "text": [
        " \n",
        "94186"
       ]
      },
      {
       "output_type": "stream",
       "stream": "stdout",
       "text": [
        " \n",
        "93999"
       ]
      },
      {
       "output_type": "stream",
       "stream": "stdout",
       "text": [
        " \n",
        "94151"
       ]
      },
      {
       "output_type": "stream",
       "stream": "stdout",
       "text": [
        " \n",
        "93842"
       ]
      },
      {
       "output_type": "stream",
       "stream": "stdout",
       "text": [
        " 93843\n",
        "94147"
       ]
      },
      {
       "output_type": "stream",
       "stream": "stdout",
       "text": [
        " \n",
        "94493"
       ]
      },
      {
       "output_type": "stream",
       "stream": "stdout",
       "text": [
        " \n",
        "94355"
       ]
      },
      {
       "output_type": "stream",
       "stream": "stdout",
       "text": [
        " 94356\n",
        "93968"
       ]
      },
      {
       "output_type": "stream",
       "stream": "stdout",
       "text": [
        " \n",
        "93966"
       ]
      },
      {
       "output_type": "stream",
       "stream": "stdout",
       "text": [
        " \n",
        "93927"
       ]
      },
      {
       "output_type": "stream",
       "stream": "stdout",
       "text": [
        " 93928\n",
        "93923"
       ]
      },
      {
       "output_type": "stream",
       "stream": "stdout",
       "text": [
        " 93924\n",
        "93919"
       ]
      },
      {
       "output_type": "stream",
       "stream": "stdout",
       "text": [
        " \n",
        "93936"
       ]
      },
      {
       "output_type": "stream",
       "stream": "stdout",
       "text": [
        " \n",
        "93910"
       ]
      },
      {
       "output_type": "stream",
       "stream": "stdout",
       "text": [
        " 93911\n",
        "93877"
       ]
      },
      {
       "output_type": "stream",
       "stream": "stdout",
       "text": [
        " \n",
        "94492"
       ]
      },
      {
       "output_type": "stream",
       "stream": "stdout",
       "text": [
        " \n",
        "93943"
       ]
      },
      {
       "output_type": "stream",
       "stream": "stdout",
       "text": [
        " \n",
        "93925"
       ]
      },
      {
       "output_type": "stream",
       "stream": "stdout",
       "text": [
        " 93926\n",
        "93915"
       ]
      },
      {
       "output_type": "stream",
       "stream": "stdout",
       "text": [
        " \n",
        "93912"
       ]
      },
      {
       "output_type": "stream",
       "stream": "stdout",
       "text": [
        " \n",
        "93934"
       ]
      },
      {
       "output_type": "stream",
       "stream": "stdout",
       "text": [
        " \n",
        "93915"
       ]
      },
      {
       "output_type": "stream",
       "stream": "stdout",
       "text": [
        " 93916\n",
        "93868"
       ]
      },
      {
       "output_type": "stream",
       "stream": "stdout",
       "text": [
        " 93872\n",
        "94182"
       ]
      },
      {
       "output_type": "stream",
       "stream": "stdout",
       "text": [
        " \n",
        "94361"
       ]
      },
      {
       "output_type": "stream",
       "stream": "stdout",
       "text": [
        " 94363\n",
        "93986"
       ]
      },
      {
       "output_type": "stream",
       "stream": "stdout",
       "text": [
        " \n",
        "94494"
       ]
      },
      {
       "output_type": "stream",
       "stream": "stdout",
       "text": [
        " \n",
        "94175"
       ]
      },
      {
       "output_type": "stream",
       "stream": "stdout",
       "text": [
        " \n",
        "93829"
       ]
      },
      {
       "output_type": "stream",
       "stream": "stdout",
       "text": [
        " 93831\n",
        "93956"
       ]
      },
      {
       "output_type": "stream",
       "stream": "stdout",
       "text": [
        " 93949\n",
        "94559"
       ]
      },
      {
       "output_type": "stream",
       "stream": "stdout",
       "text": [
        " \n",
        "93777"
       ]
      },
      {
       "output_type": "stream",
       "stream": "stdout",
       "text": [
        " 93778\n",
        "93652"
       ]
      },
      {
       "output_type": "stream",
       "stream": "stdout",
       "text": [
        " 93695\n",
        "93652"
       ]
      },
      {
       "output_type": "stream",
       "stream": "stdout",
       "text": [
        " 93694\n",
        "93956"
       ]
      },
      {
       "output_type": "stream",
       "stream": "stdout",
       "text": [
        " 93822\n",
        "94558"
       ]
      },
      {
       "output_type": "stream",
       "stream": "stdout",
       "text": [
        " \n",
        "93956"
       ]
      },
      {
       "output_type": "stream",
       "stream": "stdout",
       "text": [
        " \n",
        "93818"
       ]
      },
      {
       "output_type": "stream",
       "stream": "stdout",
       "text": [
        " \n",
        "93823"
       ]
      },
      {
       "output_type": "stream",
       "stream": "stdout",
       "text": [
        " \n",
        "93780"
       ]
      },
      {
       "output_type": "stream",
       "stream": "stdout",
       "text": [
        " \n",
        "93812"
       ]
      },
      {
       "output_type": "stream",
       "stream": "stdout",
       "text": [
        " 93815\n",
        "93730"
       ]
      },
      {
       "output_type": "stream",
       "stream": "stdout",
       "text": [
        " 93731\n",
        "93469"
       ]
      },
      {
       "output_type": "stream",
       "stream": "stdout",
       "text": [
        " 92586\n",
        "93710"
       ]
      },
      {
       "output_type": "stream",
       "stream": "stdout",
       "text": [
        " 93711\n",
        "93695"
       ]
      },
      {
       "output_type": "stream",
       "stream": "stdout",
       "text": [
        " \n",
        "93520"
       ]
      },
      {
       "output_type": "stream",
       "stream": "stdout",
       "text": [
        " \n",
        "92572"
       ]
      },
      {
       "output_type": "stream",
       "stream": "stdout",
       "text": [
        " 93386\n",
        "93436"
       ]
      },
      {
       "output_type": "stream",
       "stream": "stdout",
       "text": [
        " 93432\n",
        "93476"
       ]
      },
      {
       "output_type": "stream",
       "stream": "stdout",
       "text": [
        " \n",
        "93517"
       ]
      },
      {
       "output_type": "stream",
       "stream": "stdout",
       "text": [
        " 93521\n",
        "93753"
       ]
      },
      {
       "output_type": "stream",
       "stream": "stdout",
       "text": [
        " \n",
        "93715"
       ]
      },
      {
       "output_type": "stream",
       "stream": "stdout",
       "text": [
        " \n",
        "93639"
       ]
      },
      {
       "output_type": "stream",
       "stream": "stdout",
       "text": [
        " \n",
        "93696"
       ]
      },
      {
       "output_type": "stream",
       "stream": "stdout",
       "text": [
        " 93697\n",
        "93676"
       ]
      },
      {
       "output_type": "stream",
       "stream": "stdout",
       "text": [
        " 93677\n",
        "91046"
       ]
      },
      {
       "output_type": "stream",
       "stream": "stdout",
       "text": [
        " \n",
        "93668"
       ]
      },
      {
       "output_type": "stream",
       "stream": "stdout",
       "text": [
        " 93640\n",
        "93657"
       ]
      },
      {
       "output_type": "stream",
       "stream": "stdout",
       "text": [
        " 93656\n",
        "93656"
       ]
      },
      {
       "output_type": "stream",
       "stream": "stdout",
       "text": [
        " 93657\n",
        "93677"
       ]
      },
      {
       "output_type": "stream",
       "stream": "stdout",
       "text": [
        " \n",
        "93630"
       ]
      },
      {
       "output_type": "stream",
       "stream": "stdout",
       "text": [
        " \n",
        "93531"
       ]
      },
      {
       "output_type": "stream",
       "stream": "stdout",
       "text": [
        " \n",
        "93628"
       ]
      },
      {
       "output_type": "stream",
       "stream": "stdout",
       "text": [
        " \n",
        "94043"
       ]
      },
      {
       "output_type": "stream",
       "stream": "stdout",
       "text": [
        " \n",
        "93457"
       ]
      },
      {
       "output_type": "stream",
       "stream": "stdout",
       "text": [
        " 93386\n",
        "93458"
       ]
      },
      {
       "output_type": "stream",
       "stream": "stdout",
       "text": [
        " 93386\n",
        "93555"
       ]
      },
      {
       "output_type": "stream",
       "stream": "stdout",
       "text": [
        " 93640\n",
        "93653"
       ]
      },
      {
       "output_type": "stream",
       "stream": "stdout",
       "text": [
        " \n",
        "93377"
       ]
      },
      {
       "output_type": "stream",
       "stream": "stdout",
       "text": [
        " 93380\n",
        "93590"
       ]
      },
      {
       "output_type": "stream",
       "stream": "stdout",
       "text": [
        " \n",
        "93650"
       ]
      },
      {
       "output_type": "stream",
       "stream": "stdout",
       "text": [
        " \n",
        "93626"
       ]
      },
      {
       "output_type": "stream",
       "stream": "stdout",
       "text": [
        " \n",
        "93601"
       ]
      },
      {
       "output_type": "stream",
       "stream": "stdout",
       "text": [
        " 93600\n",
        "93577"
       ]
      },
      {
       "output_type": "stream",
       "stream": "stdout",
       "text": [
        " 93610\n",
        "93459"
       ]
      },
      {
       "output_type": "stream",
       "stream": "stdout",
       "text": [
        " 93386\n",
        "93651"
       ]
      },
      {
       "output_type": "stream",
       "stream": "stdout",
       "text": [
        " \n",
        "93701"
       ]
      },
      {
       "output_type": "stream",
       "stream": "stdout",
       "text": [
        " \n",
        "93575"
       ]
      },
      {
       "output_type": "stream",
       "stream": "stdout",
       "text": [
        " \n",
        "93443"
       ]
      },
      {
       "output_type": "stream",
       "stream": "stdout",
       "text": [
        " 93444\n",
        "93766"
       ]
      },
      {
       "output_type": "stream",
       "stream": "stdout",
       "text": [
        " \n",
        "93587"
       ]
      },
      {
       "output_type": "stream",
       "stream": "stdout",
       "text": [
        " 93588\n",
        "93578"
       ]
      },
      {
       "output_type": "stream",
       "stream": "stdout",
       "text": [
        " 93577\n",
        "93447"
       ]
      },
      {
       "output_type": "stream",
       "stream": "stdout",
       "text": [
        " 93448\n",
        "93461"
       ]
      },
      {
       "output_type": "stream",
       "stream": "stdout",
       "text": [
        " 93466\n",
        "93573"
       ]
      },
      {
       "output_type": "stream",
       "stream": "stdout",
       "text": [
        " \n",
        "93570"
       ]
      },
      {
       "output_type": "stream",
       "stream": "stdout",
       "text": [
        " \n",
        "93648"
       ]
      },
      {
       "output_type": "stream",
       "stream": "stdout",
       "text": [
        " \n",
        "93647"
       ]
      },
      {
       "output_type": "stream",
       "stream": "stdout",
       "text": [
        " \n",
        "93441"
       ]
      },
      {
       "output_type": "stream",
       "stream": "stdout",
       "text": [
        " 93442\n",
        "92604"
       ]
      },
      {
       "output_type": "stream",
       "stream": "stdout",
       "text": [
        " 93364\n",
        "92580"
       ]
      },
      {
       "output_type": "stream",
       "stream": "stdout",
       "text": [
        " \n",
        "92588"
       ]
      },
      {
       "output_type": "stream",
       "stream": "stdout",
       "text": [
        " \n",
        "92582"
       ]
      },
      {
       "output_type": "stream",
       "stream": "stdout",
       "text": [
        " \n",
        "92581"
       ]
      },
      {
       "output_type": "stream",
       "stream": "stdout",
       "text": [
        " \n",
        "92566"
       ]
      },
      {
       "output_type": "stream",
       "stream": "stdout",
       "text": [
        " \n",
        "92559"
       ]
      },
      {
       "output_type": "stream",
       "stream": "stdout",
       "text": [
        " \n",
        "92555"
       ]
      },
      {
       "output_type": "stream",
       "stream": "stdout",
       "text": [
        " \n",
        "92554"
       ]
      },
      {
       "output_type": "stream",
       "stream": "stdout",
       "text": [
        " \n",
        "93649"
       ]
      },
      {
       "output_type": "stream",
       "stream": "stdout",
       "text": [
        " \n",
        "93366"
       ]
      },
      {
       "output_type": "stream",
       "stream": "stdout",
       "text": [
        " \n",
        "93412"
       ]
      },
      {
       "output_type": "stream",
       "stream": "stdout",
       "text": [
        " \n",
        "93407"
       ]
      },
      {
       "output_type": "stream",
       "stream": "stdout",
       "text": [
        " \n",
        "93406"
       ]
      },
      {
       "output_type": "stream",
       "stream": "stdout",
       "text": [
        " \n",
        "93377"
       ]
      },
      {
       "output_type": "stream",
       "stream": "stdout",
       "text": [
        " 93385\n",
        "93383"
       ]
      },
      {
       "output_type": "stream",
       "stream": "stdout",
       "text": [
        " \n",
        "93383"
       ]
      },
      {
       "output_type": "stream",
       "stream": "stdout",
       "text": [
        " 93384\n",
        "93374"
       ]
      },
      {
       "output_type": "stream",
       "stream": "stdout",
       "text": [
        " \n",
        "93364"
       ]
      },
      {
       "output_type": "stream",
       "stream": "stdout",
       "text": [
        " 92605\n",
        "93360"
       ]
      },
      {
       "output_type": "stream",
       "stream": "stdout",
       "text": [
        " 93360\n",
        "90907"
       ]
      },
      {
       "output_type": "stream",
       "stream": "stdout",
       "text": [
        " \n",
        "90906"
       ]
      },
      {
       "output_type": "stream",
       "stream": "stdout",
       "text": [
        " \n",
        "90905"
       ]
      },
      {
       "output_type": "stream",
       "stream": "stdout",
       "text": [
        " \n",
        "90896"
       ]
      },
      {
       "output_type": "stream",
       "stream": "stdout",
       "text": [
        " \n",
        "90889"
       ]
      },
      {
       "output_type": "stream",
       "stream": "stdout",
       "text": [
        " \n",
        "93350"
       ]
      },
      {
       "output_type": "stream",
       "stream": "stdout",
       "text": [
        " 93349\n",
        "92591"
       ]
      },
      {
       "output_type": "stream",
       "stream": "stdout",
       "text": [
        " 93347\n",
        "90762"
       ]
      },
      {
       "output_type": "stream",
       "stream": "stdout",
       "text": [
        " 90884\n",
        "91185"
       ]
      },
      {
       "output_type": "stream",
       "stream": "stdout",
       "text": [
        " \n",
        "94895"
       ]
      },
      {
       "output_type": "stream",
       "stream": "stdout",
       "text": [
        " \n",
        "92606"
       ]
      },
      {
       "output_type": "stream",
       "stream": "stdout",
       "text": [
        " \n",
        "93437"
       ]
      },
      {
       "output_type": "stream",
       "stream": "stdout",
       "text": [
        " 93432\n",
        "93566"
       ]
      },
      {
       "output_type": "stream",
       "stream": "stdout",
       "text": [
        " \n",
        "91188"
       ]
      },
      {
       "output_type": "stream",
       "stream": "stdout",
       "text": [
        " \n",
        "91155"
       ]
      },
      {
       "output_type": "stream",
       "stream": "stdout",
       "text": [
        " 91152\n",
        "91151"
       ]
      },
      {
       "output_type": "stream",
       "stream": "stdout",
       "text": [
        " 91152\n",
        "91161"
       ]
      },
      {
       "output_type": "stream",
       "stream": "stdout",
       "text": [
        " \n",
        "90882"
       ]
      },
      {
       "output_type": "stream",
       "stream": "stdout",
       "text": [
        " \n",
        "91077"
       ]
      },
      {
       "output_type": "stream",
       "stream": "stdout",
       "text": [
        " \n",
        "94131"
       ]
      },
      {
       "output_type": "stream",
       "stream": "stdout",
       "text": [
        " \n",
        "91073"
       ]
      },
      {
       "output_type": "stream",
       "stream": "stdout",
       "text": [
        " \n",
        "90849"
       ]
      },
      {
       "output_type": "stream",
       "stream": "stdout",
       "text": [
        " \n",
        "91068"
       ]
      },
      {
       "output_type": "stream",
       "stream": "stdout",
       "text": [
        " 91069\n",
        "90872"
       ]
      },
      {
       "output_type": "stream",
       "stream": "stdout",
       "text": [
        " \n",
        "90867"
       ]
      },
      {
       "output_type": "stream",
       "stream": "stdout",
       "text": [
        " 90868\n",
        "90861"
       ]
      },
      {
       "output_type": "stream",
       "stream": "stdout",
       "text": [
        " 90862\n",
        "90859"
       ]
      },
      {
       "output_type": "stream",
       "stream": "stdout",
       "text": [
        " 90860\n",
        "90856"
       ]
      },
      {
       "output_type": "stream",
       "stream": "stdout",
       "text": [
        " 90855\n",
        "90852"
       ]
      },
      {
       "output_type": "stream",
       "stream": "stdout",
       "text": [
        " 90844\n",
        "93387"
       ]
      },
      {
       "output_type": "stream",
       "stream": "stdout",
       "text": [
        " \n",
        "90853"
       ]
      },
      {
       "output_type": "stream",
       "stream": "stdout",
       "text": [
        " \n",
        "91175"
       ]
      },
      {
       "output_type": "stream",
       "stream": "stdout",
       "text": [
        " 90942\n",
        "91173"
       ]
      },
      {
       "output_type": "stream",
       "stream": "stdout",
       "text": [
        " 91174\n",
        "91058"
       ]
      },
      {
       "output_type": "stream",
       "stream": "stdout",
       "text": [
        " \n",
        "91149"
       ]
      },
      {
       "output_type": "stream",
       "stream": "stdout",
       "text": [
        " \n",
        "91134"
       ]
      },
      {
       "output_type": "stream",
       "stream": "stdout",
       "text": [
        " 91135\n",
        "92546"
       ]
      },
      {
       "output_type": "stream",
       "stream": "stdout",
       "text": [
        " \n",
        "93438"
       ]
      },
      {
       "output_type": "stream",
       "stream": "stdout",
       "text": [
        " 93432\n",
        "93562"
       ]
      },
      {
       "output_type": "stream",
       "stream": "stdout",
       "text": [
        " \n",
        "91101"
       ]
      },
      {
       "output_type": "stream",
       "stream": "stdout",
       "text": [
        " 90921\n",
        "91061"
       ]
      },
      {
       "output_type": "stream",
       "stream": "stdout",
       "text": [
        " \n",
        "93394"
       ]
      },
      {
       "output_type": "stream",
       "stream": "stdout",
       "text": [
        " \n",
        "93391"
       ]
      },
      {
       "output_type": "stream",
       "stream": "stdout",
       "text": [
        " 93392\n",
        "91129"
       ]
      },
      {
       "output_type": "stream",
       "stream": "stdout",
       "text": [
        " \n",
        "91126"
       ]
      },
      {
       "output_type": "stream",
       "stream": "stdout",
       "text": [
        " \n",
        "90826"
       ]
      },
      {
       "output_type": "stream",
       "stream": "stdout",
       "text": [
        " 91099\n",
        "92539"
       ]
      },
      {
       "output_type": "stream",
       "stream": "stdout",
       "text": [
        " \n",
        "90951"
       ]
      },
      {
       "output_type": "stream",
       "stream": "stdout",
       "text": [
        " \n",
        "90950"
       ]
      },
      {
       "output_type": "stream",
       "stream": "stdout",
       "text": [
        " \n",
        "90847"
       ]
      },
      {
       "output_type": "stream",
       "stream": "stdout",
       "text": [
        " \n",
        "93559"
       ]
      },
      {
       "output_type": "stream",
       "stream": "stdout",
       "text": [
        " \n",
        "90779"
       ]
      },
      {
       "output_type": "stream",
       "stream": "stdout",
       "text": [
        " \n",
        "90770"
       ]
      },
      {
       "output_type": "stream",
       "stream": "stdout",
       "text": [
        " \n",
        "90633"
       ]
      },
      {
       "output_type": "stream",
       "stream": "stdout",
       "text": [
        " \n",
        "90761"
       ]
      },
      {
       "output_type": "stream",
       "stream": "stdout",
       "text": [
        " \n",
        "90762"
       ]
      },
      {
       "output_type": "stream",
       "stream": "stdout",
       "text": [
        " \n",
        "90726"
       ]
      },
      {
       "output_type": "stream",
       "stream": "stdout",
       "text": [
        " 90689\n",
        "90721"
       ]
      },
      {
       "output_type": "stream",
       "stream": "stdout",
       "text": [
        " \n",
        "90812"
       ]
      },
      {
       "output_type": "stream",
       "stream": "stdout",
       "text": [
        " \n",
        "90630"
       ]
      },
      {
       "output_type": "stream",
       "stream": "stdout",
       "text": [
        " \n",
        "91037"
       ]
      },
      {
       "output_type": "stream",
       "stream": "stdout",
       "text": [
        " \n",
        "91118"
       ]
      },
      {
       "output_type": "stream",
       "stream": "stdout",
       "text": [
        " \n",
        "92532"
       ]
      },
      {
       "output_type": "stream",
       "stream": "stdout",
       "text": [
        " 92533\n",
        "91059"
       ]
      },
      {
       "output_type": "stream",
       "stream": "stdout",
       "text": [
        " \n",
        "92526"
       ]
      },
      {
       "output_type": "stream",
       "stream": "stdout",
       "text": [
        " 92527\n",
        "91124"
       ]
      },
      {
       "output_type": "stream",
       "stream": "stdout",
       "text": [
        " \n",
        "90801"
       ]
      },
      {
       "output_type": "stream",
       "stream": "stdout",
       "text": [
        " 90802\n",
        "91049"
       ]
      },
      {
       "output_type": "stream",
       "stream": "stdout",
       "text": [
        " \n",
        "92523"
       ]
      },
      {
       "output_type": "stream",
       "stream": "stdout",
       "text": [
        " 92524\n",
        "90789"
       ]
      },
      {
       "output_type": "stream",
       "stream": "stdout",
       "text": [
        " 90791\n",
        "90718"
       ]
      },
      {
       "output_type": "stream",
       "stream": "stdout",
       "text": [
        " 90719\n",
        "90707"
       ]
      },
      {
       "output_type": "stream",
       "stream": "stdout",
       "text": [
        " 90708\n",
        "93858"
       ]
      },
      {
       "output_type": "stream",
       "stream": "stdout",
       "text": [
        " \n",
        "90710"
       ]
      },
      {
       "output_type": "stream",
       "stream": "stdout",
       "text": [
        " \n",
        "90517"
       ]
      },
      {
       "output_type": "stream",
       "stream": "stdout",
       "text": [
        " \n",
        "90516"
       ]
      },
      {
       "output_type": "stream",
       "stream": "stdout",
       "text": [
        " \n",
        "90755"
       ]
      },
      {
       "output_type": "stream",
       "stream": "stdout",
       "text": [
        " \n",
        "91231"
       ]
      },
      {
       "output_type": "stream",
       "stream": "stdout",
       "text": [
        " \n",
        "90705"
       ]
      },
      {
       "output_type": "stream",
       "stream": "stdout",
       "text": [
        " \n",
        "90657"
       ]
      },
      {
       "output_type": "stream",
       "stream": "stdout",
       "text": [
        " 90621\n",
        "85049"
       ]
      },
      {
       "output_type": "stream",
       "stream": "stdout",
       "text": [
        " \n",
        "90842"
       ]
      },
      {
       "output_type": "stream",
       "stream": "stdout",
       "text": [
        " 90843\n",
        "91236"
       ]
      },
      {
       "output_type": "stream",
       "stream": "stdout",
       "text": [
        " \n",
        "91115"
       ]
      },
      {
       "output_type": "stream",
       "stream": "stdout",
       "text": [
        " \n",
        "90941"
       ]
      },
      {
       "output_type": "stream",
       "stream": "stdout",
       "text": [
        " \n",
        "91235"
       ]
      },
      {
       "output_type": "stream",
       "stream": "stdout",
       "text": [
        " \n",
        "90689"
       ]
      },
      {
       "output_type": "stream",
       "stream": "stdout",
       "text": [
        " \n",
        "90656"
       ]
      },
      {
       "output_type": "stream",
       "stream": "stdout",
       "text": [
        " \n",
        "91237"
       ]
      },
      {
       "output_type": "stream",
       "stream": "stdout",
       "text": [
        " \n",
        "91190"
       ]
      },
      {
       "output_type": "stream",
       "stream": "stdout",
       "text": [
        " \n",
        "93552"
       ]
      },
      {
       "output_type": "stream",
       "stream": "stdout",
       "text": [
        " \n",
        "94038"
       ]
      },
      {
       "output_type": "stream",
       "stream": "stdout",
       "text": [
        " \n",
        "90196"
       ]
      },
      {
       "output_type": "stream",
       "stream": "stdout",
       "text": [
        " 90197\n",
        "90513"
       ]
      },
      {
       "output_type": "stream",
       "stream": "stdout",
       "text": [
        " \n",
        "90716"
       ]
      },
      {
       "output_type": "stream",
       "stream": "stdout",
       "text": [
        " 90717\n",
        "90703"
       ]
      },
      {
       "output_type": "stream",
       "stream": "stdout",
       "text": [
        " \n",
        "90190"
       ]
      },
      {
       "output_type": "stream",
       "stream": "stdout",
       "text": [
        " \n",
        "90751"
       ]
      },
      {
       "output_type": "stream",
       "stream": "stdout",
       "text": [
        " \n",
        "75117"
       ]
      },
      {
       "output_type": "stream",
       "stream": "stdout",
       "text": [
        " \n",
        "90699"
       ]
      },
      {
       "output_type": "stream",
       "stream": "stdout",
       "text": [
        " 90487\n",
        "90165"
       ]
      },
      {
       "output_type": "stream",
       "stream": "stdout",
       "text": [
        " 90179\n",
        "90693"
       ]
      },
      {
       "output_type": "stream",
       "stream": "stdout",
       "text": [
        " \n",
        "90184"
       ]
      },
      {
       "output_type": "stream",
       "stream": "stdout",
       "text": [
        " 90185\n",
        "90397"
       ]
      },
      {
       "output_type": "stream",
       "stream": "stdout",
       "text": [
        " 90621\n",
        "92596"
       ]
      },
      {
       "output_type": "stream",
       "stream": "stdout",
       "text": [
        " \n",
        "91113"
       ]
      },
      {
       "output_type": "stream",
       "stream": "stdout",
       "text": [
        " \n",
        "90395"
       ]
      },
      {
       "output_type": "stream",
       "stream": "stdout",
       "text": [
        " \n",
        "91026"
       ]
      },
      {
       "output_type": "stream",
       "stream": "stdout",
       "text": [
        " \n",
        "93551"
       ]
      },
      {
       "output_type": "stream",
       "stream": "stdout",
       "text": [
        " \n",
        "90743"
       ]
      },
      {
       "output_type": "stream",
       "stream": "stdout",
       "text": [
        " \n",
        "90836"
       ]
      },
      {
       "output_type": "stream",
       "stream": "stdout",
       "text": [
        " \n",
        "93432"
       ]
      },
      {
       "output_type": "stream",
       "stream": "stdout",
       "text": [
        " \n",
        "90430"
       ]
      },
      {
       "output_type": "stream",
       "stream": "stdout",
       "text": [
        " \n",
        "90205"
       ]
      },
      {
       "output_type": "stream",
       "stream": "stdout",
       "text": [
        " \n",
        "90796"
       ]
      },
      {
       "output_type": "stream",
       "stream": "stdout",
       "text": [
        " 90797\n",
        "90347"
       ]
      },
      {
       "output_type": "stream",
       "stream": "stdout",
       "text": [
        " \n",
        "66939"
       ]
      },
      {
       "output_type": "stream",
       "stream": "stdout",
       "text": [
        " 90621\n",
        "90829"
       ]
      },
      {
       "output_type": "stream",
       "stream": "stdout",
       "text": [
        " \n",
        "92592"
       ]
      },
      {
       "output_type": "stream",
       "stream": "stdout",
       "text": [
        " 92593\n",
        "90349"
       ]
      },
      {
       "output_type": "stream",
       "stream": "stdout",
       "text": [
        " 90376\n",
        "91023"
       ]
      },
      {
       "output_type": "stream",
       "stream": "stdout",
       "text": [
        " \n",
        "91025"
       ]
      },
      {
       "output_type": "stream",
       "stream": "stdout",
       "text": [
        " \n",
        "90415"
       ]
      },
      {
       "output_type": "stream",
       "stream": "stdout",
       "text": [
        " \n",
        "90220"
       ]
      },
      {
       "output_type": "stream",
       "stream": "stdout",
       "text": [
        " \n",
        "93390"
       ]
      },
      {
       "output_type": "stream",
       "stream": "stdout",
       "text": [
        " 93433\n",
        "90201"
       ]
      },
      {
       "output_type": "stream",
       "stream": "stdout",
       "text": [
        " \n",
        "90740"
       ]
      },
      {
       "output_type": "stream",
       "stream": "stdout",
       "text": [
        " \n",
        "90215"
       ]
      },
      {
       "output_type": "stream",
       "stream": "stdout",
       "text": [
        " \n",
        "90207"
       ]
      },
      {
       "output_type": "stream",
       "stream": "stdout",
       "text": [
        " \n",
        "90410"
       ]
      },
      {
       "output_type": "stream",
       "stream": "stdout",
       "text": [
        " \n",
        "90221"
       ]
      },
      {
       "output_type": "stream",
       "stream": "stdout",
       "text": [
        " \n",
        "90219"
       ]
      },
      {
       "output_type": "stream",
       "stream": "stdout",
       "text": [
        " \n",
        "90213"
       ]
      },
      {
       "output_type": "stream",
       "stream": "stdout",
       "text": [
        " \n",
        "90212"
       ]
      },
      {
       "output_type": "stream",
       "stream": "stdout",
       "text": [
        " \n",
        "90776"
       ]
      },
      {
       "output_type": "stream",
       "stream": "stdout",
       "text": [
        " 90777\n",
        "74035"
       ]
      },
      {
       "output_type": "stream",
       "stream": "stdout",
       "text": [
        " \n",
        "93549"
       ]
      },
      {
       "output_type": "stream",
       "stream": "stdout",
       "text": [
        " \n",
        "93882"
       ]
      },
      {
       "output_type": "stream",
       "stream": "stdout",
       "text": [
        " \n",
        "90644"
       ]
      },
      {
       "output_type": "stream",
       "stream": "stdout",
       "text": [
        " \n",
        "90433"
       ]
      },
      {
       "output_type": "stream",
       "stream": "stdout",
       "text": [
        " \n",
        "90110"
       ]
      },
      {
       "output_type": "stream",
       "stream": "stdout",
       "text": [
        " \n",
        "90131"
       ]
      },
      {
       "output_type": "stream",
       "stream": "stdout",
       "text": [
        " \n",
        "90130"
       ]
      },
      {
       "output_type": "stream",
       "stream": "stdout",
       "text": [
        " \n",
        "90115"
       ]
      },
      {
       "output_type": "stream",
       "stream": "stdout",
       "text": [
        " \n",
        "93429"
       ]
      },
      {
       "output_type": "stream",
       "stream": "stdout",
       "text": [
        " \n",
        "90198"
       ]
      },
      {
       "output_type": "stream",
       "stream": "stdout",
       "text": [
        " \n",
        "90494"
       ]
      },
      {
       "output_type": "stream",
       "stream": "stdout",
       "text": [
        " 90431\n",
        "90110"
       ]
      },
      {
       "output_type": "stream",
       "stream": "stdout",
       "text": [
        " 66190\n",
        "90162"
       ]
      },
      {
       "output_type": "stream",
       "stream": "stdout",
       "text": [
        " 90163\n",
        "90164"
       ]
      },
      {
       "output_type": "stream",
       "stream": "stdout",
       "text": [
        " 90163\n",
        "90641"
       ]
      },
      {
       "output_type": "stream",
       "stream": "stdout",
       "text": [
        " \n",
        "90151"
       ]
      },
      {
       "output_type": "stream",
       "stream": "stdout",
       "text": [
        " \n",
        "90361"
       ]
      },
      {
       "output_type": "stream",
       "stream": "stdout",
       "text": [
        " \n",
        "90406"
       ]
      },
      {
       "output_type": "stream",
       "stream": "stdout",
       "text": [
        " \n",
        "90149"
       ]
      },
      {
       "output_type": "stream",
       "stream": "stdout",
       "text": [
        " 90150\n",
        "90434"
       ]
      },
      {
       "output_type": "stream",
       "stream": "stdout",
       "text": [
        " 90435\n",
        "90438"
       ]
      },
      {
       "output_type": "stream",
       "stream": "stdout",
       "text": [
        " \n",
        "90136"
       ]
      },
      {
       "output_type": "stream",
       "stream": "stdout",
       "text": [
        " 90137\n",
        "90403"
       ]
      },
      {
       "output_type": "stream",
       "stream": "stdout",
       "text": [
        " 90404\n",
        "89205"
       ]
      },
      {
       "output_type": "stream",
       "stream": "stdout",
       "text": [
        " 89206\n",
        "90048"
       ]
      },
      {
       "output_type": "stream",
       "stream": "stdout",
       "text": [
        " \n",
        "89163"
       ]
      },
      {
       "output_type": "stream",
       "stream": "stdout",
       "text": [
        " 89218\n",
        "90045"
       ]
      },
      {
       "output_type": "stream",
       "stream": "stdout",
       "text": [
        " \n",
        "89161"
       ]
      }
     ],
     "prompt_number": "*"
    },
    {
     "cell_type": "code",
     "collapsed": false,
     "input": [],
     "language": "python",
     "metadata": {},
     "outputs": []
    }
   ],
   "metadata": {}
  }
 ]
}