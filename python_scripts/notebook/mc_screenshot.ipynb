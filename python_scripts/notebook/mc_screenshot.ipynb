{
 "metadata": {
  "name": ""
 },
 "nbformat": 3,
 "nbformat_minor": 0,
 "worksheets": [
  {
   "cells": [
    {
     "cell_type": "code",
     "collapsed": false,
     "input": [
      "import json\n",
      "import subprocess\n",
      "import os"
     ],
     "language": "python",
     "metadata": {},
     "outputs": [],
     "prompt_number": 1
    },
    {
     "cell_type": "code",
     "collapsed": false,
     "input": [
      "with open ('/tmp/json2', 'rb') as json_file:\n",
      "    json_string = json_file.read()\n",
      "    #print json_file.read()\n",
      "    popular_queries = json.loads( json_string )\n"
     ],
     "language": "python",
     "metadata": {},
     "outputs": [
      {
       "output_type": "pyout",
       "prompt_number": 7,
       "text": [
        "[{u'count': 291,\n",
        "  u'dashboard_action': u'/view/1',\n",
        "  u'dashboards_id': 1,\n",
        "  u'popular_queries_id': 1002,\n",
        "  u'queries_id_0': 56936,\n",
        "  u'queries_id_1': 56941,\n",
        "  u'query_0_description': u'in Top 25 Mainstream Media during the week starting 2011-05-23',\n",
        "  u'query_1_description': u'in Political Blogs during the week starting 2011-05-23',\n",
        "  u'url_params': u'?q2=56941&q1=56936'},\n",
        " {u'count': 168,\n",
        "  u'dashboard_action': u'/view/1',\n",
        "  u'dashboards_id': 1,\n",
        "  u'popular_queries_id': 859,\n",
        "  u'queries_id_0': 55418,\n",
        "  u'queries_id_1': 55446,\n",
        "  u'query_0_description': u'in Top 25 Mainstream Media during the week starting 2011-05-09',\n",
        "  u'query_1_description': u'in Political Blogs during the week starting 2011-05-09',\n",
        "  u'url_params': u'?q2=55446&q1=55418'}]"
       ]
      }
     ],
     "prompt_number": 7
    },
    {
     "cell_type": "code",
     "collapsed": false,
     "input": [
      "os.chdir('/home/dlarochelle/git_dev/mediacloud/screen_shots')\n",
      "os.chdir('top_1000')\n",
      "         \n",
      "subprocess.check_output(['phantomjs', '../../screen_shot_arguments.js', '94684', ''] )"
     ],
     "language": "python",
     "metadata": {},
     "outputs": [
      {
       "metadata": {},
       "output_type": "pyout",
       "prompt_number": 2,
       "text": [
        "'capturing\\n94684\\nhttp://www.mediacloud.org/dashboard/view/1?q1=94684\\ncapture_and_render: http://www.mediacloud.org/dashboard/view/1?q1=94684&q2=\\nrenderinghttp://www.mediacloud.org/dashboard/view/1?q1=94684&q2=\\nbase_name:mc_94684_\\ncaptured\\n'"
       ]
      }
     ],
     "prompt_number": 2
    },
    {
     "cell_type": "code",
     "collapsed": false,
     "input": [
      "os.chdir('/home/dlarochelle/git_dev/mediacloud/screen_shots')\n",
      "\n",
      "dirs = ['top_10', 'top_100', 'top_1000', 'all']\n",
      "\n",
      "for dir in dirs:\n",
      "    print \"processing {}\".format( dir )\n",
      "    os.chdir( dir )\n",
      "    with open ('pop_queries.json', 'rb') as json_file:\n",
      "        json_string = json_file.read()\n",
      "        #print json_file.read()\n",
      "        popular_queries = json.loads( json_string )\n",
      "        for popular_query in popular_queries:\n",
      "            q0 = popular_query[ 'queries_id_0' ]\n",
      "            q1 = popular_query[ 'queries_id_1' ]\n",
      "            if q1 == None:\n",
      "                q1 = ''\n",
      "            subprocess.check_output( ['phantomjs', '../../screen_shot_arguments.js', str(q0), str(q1) ] )\n",
      "            subprocess.check_output( ['phantomjs', '../../screen_shot_arguments.js', str(q0), str(q1), '--wc_only' ] )\n",
      "            print q0, q1\n",
      "    os.chdir( '../')"
     ],
     "language": "python",
     "metadata": {},
     "outputs": [
      {
       "output_type": "stream",
       "stream": "stdout",
       "text": [
        "processing top_10\n",
        "94946"
       ]
      },
      {
       "output_type": "stream",
       "stream": "stdout",
       "text": [
        " \n",
        "42981"
       ]
      },
      {
       "output_type": "stream",
       "stream": "stdout",
       "text": [
        " \n",
        "88321"
       ]
      },
      {
       "output_type": "stream",
       "stream": "stdout",
       "text": [
        " \n",
        "43376"
       ]
      },
      {
       "output_type": "stream",
       "stream": "stdout",
       "text": [
        " \n",
        "87843"
       ]
      },
      {
       "output_type": "stream",
       "stream": "stdout",
       "text": [
        " \n",
        "89128"
       ]
      },
      {
       "output_type": "stream",
       "stream": "stdout",
       "text": [
        " \n",
        "90007"
       ]
      },
      {
       "output_type": "stream",
       "stream": "stdout",
       "text": [
        " \n",
        "94176"
       ]
      },
      {
       "output_type": "stream",
       "stream": "stdout",
       "text": [
        " \n",
        "57768"
       ]
      },
      {
       "output_type": "stream",
       "stream": "stdout",
       "text": [
        " \n",
        "59047"
       ]
      },
      {
       "output_type": "stream",
       "stream": "stdout",
       "text": [
        " \n",
        "processing top_100\n",
        "94946"
       ]
      },
      {
       "output_type": "stream",
       "stream": "stdout",
       "text": [
        " \n",
        "42981"
       ]
      },
      {
       "output_type": "stream",
       "stream": "stdout",
       "text": [
        " \n",
        "88321"
       ]
      },
      {
       "output_type": "stream",
       "stream": "stdout",
       "text": [
        " \n",
        "43376"
       ]
      },
      {
       "output_type": "stream",
       "stream": "stdout",
       "text": [
        " \n",
        "87843"
       ]
      },
      {
       "output_type": "stream",
       "stream": "stdout",
       "text": [
        " \n",
        "89128"
       ]
      },
      {
       "output_type": "stream",
       "stream": "stdout",
       "text": [
        " \n",
        "90007"
       ]
      },
      {
       "output_type": "stream",
       "stream": "stdout",
       "text": [
        " \n",
        "94176"
       ]
      },
      {
       "output_type": "stream",
       "stream": "stdout",
       "text": [
        " \n",
        "57768"
       ]
      },
      {
       "output_type": "stream",
       "stream": "stdout",
       "text": [
        " \n",
        "59047"
       ]
      },
      {
       "output_type": "stream",
       "stream": "stdout",
       "text": [
        " \n",
        "74082"
       ]
      },
      {
       "output_type": "stream",
       "stream": "stdout",
       "text": [
        " \n",
        "92586"
       ]
      },
      {
       "output_type": "stream",
       "stream": "stdout",
       "text": [
        " \n",
        "90621"
       ]
      },
      {
       "output_type": "stream",
       "stream": "stdout",
       "text": [
        " \n",
        "56936"
       ]
      },
      {
       "output_type": "stream",
       "stream": "stdout",
       "text": [
        " \n",
        "90157"
       ]
      },
      {
       "output_type": "stream",
       "stream": "stdout",
       "text": [
        " \n",
        "55418"
       ]
      },
      {
       "output_type": "stream",
       "stream": "stdout",
       "text": [
        " \n",
        "91101"
       ]
      },
      {
       "output_type": "stream",
       "stream": "stdout",
       "text": [
        " \n",
        "94585"
       ]
      },
      {
       "output_type": "stream",
       "stream": "stdout",
       "text": [
        " \n",
        "71334"
       ]
      },
      {
       "output_type": "stream",
       "stream": "stdout",
       "text": [
        " \n",
        "94712"
       ]
      },
      {
       "output_type": "stream",
       "stream": "stdout",
       "text": [
        " \n",
        "86271"
       ]
      },
      {
       "output_type": "stream",
       "stream": "stdout",
       "text": [
        " \n",
        "94057"
       ]
      },
      {
       "output_type": "stream",
       "stream": "stdout",
       "text": [
        " \n",
        "56615"
       ]
      },
      {
       "output_type": "stream",
       "stream": "stdout",
       "text": [
        " \n",
        "94173"
       ]
      },
      {
       "output_type": "stream",
       "stream": "stdout",
       "text": [
        " \n",
        "93897"
       ]
      },
      {
       "output_type": "stream",
       "stream": "stdout",
       "text": [
        " \n",
        "90349"
       ]
      },
      {
       "output_type": "stream",
       "stream": "stdout",
       "text": [
        " \n",
        "90412"
       ]
      },
      {
       "output_type": "stream",
       "stream": "stdout",
       "text": [
        " \n",
        "88145"
       ]
      },
      {
       "output_type": "stream",
       "stream": "stdout",
       "text": [
        " \n",
        "71353"
       ]
      },
      {
       "output_type": "stream",
       "stream": "stdout",
       "text": [
        " \n",
        "93517"
       ]
      },
      {
       "output_type": "stream",
       "stream": "stdout",
       "text": [
        " \n",
        "93640"
       ]
      },
      {
       "output_type": "stream",
       "stream": "stdout",
       "text": [
        " \n",
        "93652"
       ]
      },
      {
       "output_type": "stream",
       "stream": "stdout",
       "text": [
        " \n",
        "88188"
       ]
      },
      {
       "output_type": "stream",
       "stream": "stdout",
       "text": [
        " \n",
        "90827"
       ]
      },
      {
       "output_type": "stream",
       "stream": "stdout",
       "text": [
        " \n",
        "64024"
       ]
      },
      {
       "output_type": "stream",
       "stream": "stdout",
       "text": [
        " \n",
        "66068"
       ]
      },
      {
       "output_type": "stream",
       "stream": "stdout",
       "text": [
        " \n",
        "93822"
       ]
      },
      {
       "output_type": "stream",
       "stream": "stdout",
       "text": [
        " \n",
        "61869"
       ]
      },
      {
       "output_type": "stream",
       "stream": "stdout",
       "text": [
        " \n",
        "66233"
       ]
      },
      {
       "output_type": "stream",
       "stream": "stdout",
       "text": [
        " \n",
        "66160"
       ]
      },
      {
       "output_type": "stream",
       "stream": "stdout",
       "text": [
        " \n",
        "90921"
       ]
      },
      {
       "output_type": "stream",
       "stream": "stdout",
       "text": [
        " \n",
        "93812"
       ]
      },
      {
       "output_type": "stream",
       "stream": "stdout",
       "text": [
        " \n",
        "93993"
       ]
      },
      {
       "output_type": "stream",
       "stream": "stdout",
       "text": [
        " \n",
        "59051"
       ]
      },
      {
       "output_type": "stream",
       "stream": "stdout",
       "text": [
        " \n",
        "90753"
       ]
      },
      {
       "output_type": "stream",
       "stream": "stdout",
       "text": [
        " \n",
        "92550"
       ]
      },
      {
       "output_type": "stream",
       "stream": "stdout",
       "text": [
        " \n",
        "66939"
       ]
      },
      {
       "output_type": "stream",
       "stream": "stdout",
       "text": [
        " \n",
        "93962"
       ]
      },
      {
       "output_type": "stream",
       "stream": "stdout",
       "text": [
        " \n",
        "94902"
       ]
      },
      {
       "output_type": "stream",
       "stream": "stdout",
       "text": [
        " \n",
        "88283"
       ]
      },
      {
       "output_type": "stream",
       "stream": "stdout",
       "text": [
        " \n",
        "66814"
       ]
      },
      {
       "output_type": "stream",
       "stream": "stdout",
       "text": [
        " \n",
        "65983"
       ]
      },
      {
       "output_type": "stream",
       "stream": "stdout",
       "text": [
        " \n",
        "65916"
       ]
      },
      {
       "output_type": "stream",
       "stream": "stdout",
       "text": [
        " \n",
        "90397"
       ]
      },
      {
       "output_type": "stream",
       "stream": "stdout",
       "text": [
        " \n",
        "56936"
       ]
      },
      {
       "output_type": "stream",
       "stream": "stdout",
       "text": [
        " 56941\n",
        "66045"
       ]
      },
      {
       "output_type": "stream",
       "stream": "stdout",
       "text": [
        " \n",
        "91068"
       ]
      },
      {
       "output_type": "stream",
       "stream": "stdout",
       "text": [
        " \n",
        "93555"
       ]
      },
      {
       "output_type": "stream",
       "stream": "stdout",
       "text": [
        " \n",
        "66167"
       ]
      },
      {
       "output_type": "stream",
       "stream": "stdout",
       "text": [
        " \n",
        "87367"
       ]
      },
      {
       "output_type": "stream",
       "stream": "stdout",
       "text": [
        " \n",
        "94874"
       ]
      },
      {
       "output_type": "stream",
       "stream": "stdout",
       "text": [
        " \n",
        "94106"
       ]
      },
      {
       "output_type": "stream",
       "stream": "stdout",
       "text": [
        " \n",
        "42951"
       ]
      },
      {
       "output_type": "stream",
       "stream": "stdout",
       "text": [
        " \n",
        "55418"
       ]
      },
      {
       "output_type": "stream",
       "stream": "stdout",
       "text": [
        " 55446\n",
        "94684"
       ]
      },
      {
       "output_type": "stream",
       "stream": "stdout",
       "text": [
        " \n",
        "94639"
       ]
      },
      {
       "output_type": "stream",
       "stream": "stdout",
       "text": [
        " \n",
        "90363"
       ]
      },
      {
       "output_type": "stream",
       "stream": "stdout",
       "text": [
        " \n",
        "59016"
       ]
      },
      {
       "output_type": "stream",
       "stream": "stdout",
       "text": [
        " \n",
        "59048"
       ]
      },
      {
       "output_type": "stream",
       "stream": "stdout",
       "text": [
        " \n",
        "88360"
       ]
      },
      {
       "output_type": "stream",
       "stream": "stdout",
       "text": [
        " \n",
        "94815"
       ]
      },
      {
       "output_type": "stream",
       "stream": "stdout",
       "text": [
        " \n",
        "59017"
       ]
      },
      {
       "output_type": "stream",
       "stream": "stdout",
       "text": [
        " \n",
        "66091"
       ]
      },
      {
       "output_type": "stream",
       "stream": "stdout",
       "text": [
        " \n",
        "76160"
       ]
      },
      {
       "output_type": "stream",
       "stream": "stdout",
       "text": [
        " \n",
        "94461"
       ]
      },
      {
       "output_type": "stream",
       "stream": "stdout",
       "text": [
        " \n",
        "54540"
       ]
      },
      {
       "output_type": "stream",
       "stream": "stdout",
       "text": [
        " \n",
        "42968"
       ]
      },
      {
       "output_type": "stream",
       "stream": "stdout",
       "text": [
        " 42969\n",
        "54541"
       ]
      },
      {
       "output_type": "stream",
       "stream": "stdout",
       "text": [
        " 54542\n",
        "59054"
       ]
      },
      {
       "output_type": "stream",
       "stream": "stdout",
       "text": [
        " \n",
        "89116"
       ]
      },
      {
       "output_type": "stream",
       "stream": "stdout",
       "text": [
        " \n",
        "94989"
       ]
      },
      {
       "output_type": "stream",
       "stream": "stdout",
       "text": [
        " \n",
        "94796"
       ]
      },
      {
       "output_type": "stream",
       "stream": "stdout",
       "text": [
        " \n",
        "94040"
       ]
      },
      {
       "output_type": "stream",
       "stream": "stdout",
       "text": [
        " \n",
        "90814"
       ]
      },
      {
       "output_type": "stream",
       "stream": "stdout",
       "text": [
        " \n",
        "54775"
       ]
      },
      {
       "output_type": "stream",
       "stream": "stdout",
       "text": [
        " \n",
        "95200"
       ]
      },
      {
       "output_type": "stream",
       "stream": "stdout",
       "text": [
        " \n",
        "93382"
       ]
      },
      {
       "output_type": "stream",
       "stream": "stdout",
       "text": [
        " 93467\n",
        "43375"
       ]
      },
      {
       "output_type": "stream",
       "stream": "stdout",
       "text": [
        " \n",
        "56615"
       ]
      },
      {
       "output_type": "stream",
       "stream": "stdout",
       "text": [
        " 56911\n",
        "94951"
       ]
      },
      {
       "output_type": "stream",
       "stream": "stdout",
       "text": [
        " \n",
        "94120"
       ]
      },
      {
       "output_type": "stream",
       "stream": "stdout",
       "text": [
        " \n",
        "43374"
       ]
      },
      {
       "output_type": "stream",
       "stream": "stdout",
       "text": [
        " \n",
        "90818"
       ]
      },
      {
       "output_type": "stream",
       "stream": "stdout",
       "text": [
        " \n",
        "89108"
       ]
      },
      {
       "output_type": "stream",
       "stream": "stdout",
       "text": [
        " \n",
        "90757"
       ]
      },
      {
       "output_type": "stream",
       "stream": "stdout",
       "text": [
        " \n",
        "54774"
       ]
      },
      {
       "output_type": "stream",
       "stream": "stdout",
       "text": [
        " \n",
        "94920"
       ]
      },
      {
       "output_type": "stream",
       "stream": "stdout",
       "text": [
        " \n",
        "65922"
       ]
      },
      {
       "output_type": "stream",
       "stream": "stdout",
       "text": [
        " \n",
        "94645"
       ]
      },
      {
       "output_type": "stream",
       "stream": "stdout",
       "text": [
        " \n",
        "59132"
       ]
      },
      {
       "output_type": "stream",
       "stream": "stdout",
       "text": [
        " 59133\n",
        "processing top_1000\n",
        "94946"
       ]
      },
      {
       "output_type": "stream",
       "stream": "stdout",
       "text": [
        " \n",
        "42981"
       ]
      },
      {
       "output_type": "stream",
       "stream": "stdout",
       "text": [
        " \n",
        "88321"
       ]
      },
      {
       "output_type": "stream",
       "stream": "stdout",
       "text": [
        " \n",
        "43376"
       ]
      },
      {
       "output_type": "stream",
       "stream": "stdout",
       "text": [
        " \n",
        "87843"
       ]
      },
      {
       "output_type": "stream",
       "stream": "stdout",
       "text": [
        " \n",
        "89128"
       ]
      },
      {
       "output_type": "stream",
       "stream": "stdout",
       "text": [
        " \n",
        "90007"
       ]
      },
      {
       "output_type": "stream",
       "stream": "stdout",
       "text": [
        " \n",
        "94176"
       ]
      },
      {
       "output_type": "stream",
       "stream": "stdout",
       "text": [
        " \n",
        "57768"
       ]
      },
      {
       "output_type": "stream",
       "stream": "stdout",
       "text": [
        " \n",
        "59047"
       ]
      },
      {
       "output_type": "stream",
       "stream": "stdout",
       "text": [
        " \n",
        "74082"
       ]
      },
      {
       "output_type": "stream",
       "stream": "stdout",
       "text": [
        " \n",
        "92586"
       ]
      },
      {
       "output_type": "stream",
       "stream": "stdout",
       "text": [
        " \n",
        "90621"
       ]
      },
      {
       "output_type": "stream",
       "stream": "stdout",
       "text": [
        " \n",
        "56936"
       ]
      },
      {
       "output_type": "stream",
       "stream": "stdout",
       "text": [
        " \n",
        "90157"
       ]
      },
      {
       "output_type": "stream",
       "stream": "stdout",
       "text": [
        " \n",
        "55418"
       ]
      },
      {
       "output_type": "stream",
       "stream": "stdout",
       "text": [
        " \n",
        "91101"
       ]
      },
      {
       "output_type": "stream",
       "stream": "stdout",
       "text": [
        " \n",
        "94585"
       ]
      },
      {
       "output_type": "stream",
       "stream": "stdout",
       "text": [
        " \n",
        "71334"
       ]
      },
      {
       "output_type": "stream",
       "stream": "stdout",
       "text": [
        " \n",
        "94712"
       ]
      },
      {
       "output_type": "stream",
       "stream": "stdout",
       "text": [
        " \n",
        "86271"
       ]
      },
      {
       "output_type": "stream",
       "stream": "stdout",
       "text": [
        " \n",
        "94057"
       ]
      },
      {
       "output_type": "stream",
       "stream": "stdout",
       "text": [
        " \n",
        "56615"
       ]
      },
      {
       "output_type": "stream",
       "stream": "stdout",
       "text": [
        " \n",
        "94173"
       ]
      },
      {
       "output_type": "stream",
       "stream": "stdout",
       "text": [
        " \n",
        "93897"
       ]
      },
      {
       "output_type": "stream",
       "stream": "stdout",
       "text": [
        " \n",
        "90349"
       ]
      },
      {
       "output_type": "stream",
       "stream": "stdout",
       "text": [
        " \n",
        "90412"
       ]
      },
      {
       "output_type": "stream",
       "stream": "stdout",
       "text": [
        " \n",
        "88145"
       ]
      },
      {
       "output_type": "stream",
       "stream": "stdout",
       "text": [
        " \n",
        "71353"
       ]
      },
      {
       "output_type": "stream",
       "stream": "stdout",
       "text": [
        " \n",
        "93517"
       ]
      },
      {
       "output_type": "stream",
       "stream": "stdout",
       "text": [
        " \n",
        "93640"
       ]
      },
      {
       "output_type": "stream",
       "stream": "stdout",
       "text": [
        " \n",
        "93652"
       ]
      },
      {
       "output_type": "stream",
       "stream": "stdout",
       "text": [
        " \n",
        "88188"
       ]
      },
      {
       "output_type": "stream",
       "stream": "stdout",
       "text": [
        " \n",
        "90827"
       ]
      },
      {
       "output_type": "stream",
       "stream": "stdout",
       "text": [
        " \n",
        "64024"
       ]
      },
      {
       "output_type": "stream",
       "stream": "stdout",
       "text": [
        " \n",
        "66068"
       ]
      },
      {
       "output_type": "stream",
       "stream": "stdout",
       "text": [
        " \n",
        "93822"
       ]
      },
      {
       "output_type": "stream",
       "stream": "stdout",
       "text": [
        " \n",
        "61869"
       ]
      },
      {
       "output_type": "stream",
       "stream": "stdout",
       "text": [
        " \n",
        "66233"
       ]
      },
      {
       "output_type": "stream",
       "stream": "stdout",
       "text": [
        " \n",
        "66160"
       ]
      },
      {
       "output_type": "stream",
       "stream": "stdout",
       "text": [
        " \n",
        "90921"
       ]
      },
      {
       "output_type": "stream",
       "stream": "stdout",
       "text": [
        " \n",
        "93812"
       ]
      },
      {
       "output_type": "stream",
       "stream": "stdout",
       "text": [
        " \n",
        "93993"
       ]
      },
      {
       "output_type": "stream",
       "stream": "stdout",
       "text": [
        " \n",
        "59051"
       ]
      },
      {
       "output_type": "stream",
       "stream": "stdout",
       "text": [
        " \n",
        "90753"
       ]
      },
      {
       "output_type": "stream",
       "stream": "stdout",
       "text": [
        " \n",
        "92550"
       ]
      },
      {
       "output_type": "stream",
       "stream": "stdout",
       "text": [
        " \n",
        "66939"
       ]
      },
      {
       "output_type": "stream",
       "stream": "stdout",
       "text": [
        " \n",
        "93962"
       ]
      },
      {
       "output_type": "stream",
       "stream": "stdout",
       "text": [
        " \n",
        "94902"
       ]
      },
      {
       "output_type": "stream",
       "stream": "stdout",
       "text": [
        " \n",
        "88283"
       ]
      },
      {
       "output_type": "stream",
       "stream": "stdout",
       "text": [
        " \n",
        "66814"
       ]
      },
      {
       "output_type": "stream",
       "stream": "stdout",
       "text": [
        " \n",
        "65983"
       ]
      },
      {
       "output_type": "stream",
       "stream": "stdout",
       "text": [
        " \n",
        "65916"
       ]
      },
      {
       "output_type": "stream",
       "stream": "stdout",
       "text": [
        " \n",
        "90397"
       ]
      },
      {
       "output_type": "stream",
       "stream": "stdout",
       "text": [
        " \n",
        "56936"
       ]
      },
      {
       "output_type": "stream",
       "stream": "stdout",
       "text": [
        " 56941\n",
        "66045"
       ]
      },
      {
       "output_type": "stream",
       "stream": "stdout",
       "text": [
        " \n",
        "91068"
       ]
      },
      {
       "output_type": "stream",
       "stream": "stdout",
       "text": [
        " \n",
        "93555"
       ]
      },
      {
       "output_type": "stream",
       "stream": "stdout",
       "text": [
        " \n",
        "66167"
       ]
      },
      {
       "output_type": "stream",
       "stream": "stdout",
       "text": [
        " \n",
        "87367"
       ]
      },
      {
       "output_type": "stream",
       "stream": "stdout",
       "text": [
        " \n",
        "94874"
       ]
      },
      {
       "output_type": "stream",
       "stream": "stdout",
       "text": [
        " \n",
        "94106"
       ]
      },
      {
       "output_type": "stream",
       "stream": "stdout",
       "text": [
        " \n",
        "42951"
       ]
      },
      {
       "output_type": "stream",
       "stream": "stdout",
       "text": [
        " \n",
        "55418"
       ]
      },
      {
       "output_type": "stream",
       "stream": "stdout",
       "text": [
        " 55446\n",
        "94684"
       ]
      },
      {
       "output_type": "stream",
       "stream": "stdout",
       "text": [
        " \n",
        "94639"
       ]
      },
      {
       "output_type": "stream",
       "stream": "stdout",
       "text": [
        " \n",
        "90363"
       ]
      },
      {
       "output_type": "stream",
       "stream": "stdout",
       "text": [
        " \n",
        "59016"
       ]
      },
      {
       "output_type": "stream",
       "stream": "stdout",
       "text": [
        " \n",
        "59048"
       ]
      },
      {
       "output_type": "stream",
       "stream": "stdout",
       "text": [
        " \n",
        "88360"
       ]
      },
      {
       "output_type": "stream",
       "stream": "stdout",
       "text": [
        " \n",
        "94815"
       ]
      },
      {
       "output_type": "stream",
       "stream": "stdout",
       "text": [
        " \n",
        "59017"
       ]
      },
      {
       "output_type": "stream",
       "stream": "stdout",
       "text": [
        " \n",
        "66091"
       ]
      },
      {
       "output_type": "stream",
       "stream": "stdout",
       "text": [
        " \n",
        "76160"
       ]
      },
      {
       "output_type": "stream",
       "stream": "stdout",
       "text": [
        " \n",
        "94461"
       ]
      },
      {
       "output_type": "stream",
       "stream": "stdout",
       "text": [
        " \n",
        "54540"
       ]
      },
      {
       "output_type": "stream",
       "stream": "stdout",
       "text": [
        " \n",
        "42968"
       ]
      },
      {
       "output_type": "stream",
       "stream": "stdout",
       "text": [
        " 42969\n",
        "54541"
       ]
      },
      {
       "output_type": "stream",
       "stream": "stdout",
       "text": [
        " 54542\n",
        "59054"
       ]
      },
      {
       "output_type": "stream",
       "stream": "stdout",
       "text": [
        " \n",
        "89116"
       ]
      },
      {
       "output_type": "stream",
       "stream": "stdout",
       "text": [
        " \n",
        "94989"
       ]
      },
      {
       "output_type": "stream",
       "stream": "stdout",
       "text": [
        " \n",
        "94796"
       ]
      },
      {
       "output_type": "stream",
       "stream": "stdout",
       "text": [
        " \n",
        "94040"
       ]
      },
      {
       "output_type": "stream",
       "stream": "stdout",
       "text": [
        " \n",
        "90814"
       ]
      },
      {
       "output_type": "stream",
       "stream": "stdout",
       "text": [
        " \n",
        "54775"
       ]
      },
      {
       "output_type": "stream",
       "stream": "stdout",
       "text": [
        " \n",
        "95200"
       ]
      },
      {
       "output_type": "stream",
       "stream": "stdout",
       "text": [
        " \n",
        "93382"
       ]
      },
      {
       "output_type": "stream",
       "stream": "stdout",
       "text": [
        " 93467\n",
        "43375"
       ]
      },
      {
       "output_type": "stream",
       "stream": "stdout",
       "text": [
        " \n",
        "56615"
       ]
      },
      {
       "output_type": "stream",
       "stream": "stdout",
       "text": [
        " 56911\n",
        "94951"
       ]
      },
      {
       "output_type": "stream",
       "stream": "stdout",
       "text": [
        " \n",
        "94120"
       ]
      },
      {
       "output_type": "stream",
       "stream": "stdout",
       "text": [
        " \n",
        "43374"
       ]
      },
      {
       "output_type": "stream",
       "stream": "stdout",
       "text": [
        " \n",
        "90818"
       ]
      },
      {
       "output_type": "stream",
       "stream": "stdout",
       "text": [
        " \n",
        "89108"
       ]
      },
      {
       "output_type": "stream",
       "stream": "stdout",
       "text": [
        " \n",
        "90757"
       ]
      },
      {
       "output_type": "stream",
       "stream": "stdout",
       "text": [
        " \n",
        "54774"
       ]
      },
      {
       "output_type": "stream",
       "stream": "stdout",
       "text": [
        " \n",
        "94920"
       ]
      },
      {
       "output_type": "stream",
       "stream": "stdout",
       "text": [
        " \n",
        "65922"
       ]
      },
      {
       "output_type": "stream",
       "stream": "stdout",
       "text": [
        " \n",
        "94645"
       ]
      },
      {
       "output_type": "stream",
       "stream": "stdout",
       "text": [
        " \n",
        "59132"
       ]
      },
      {
       "output_type": "stream",
       "stream": "stdout",
       "text": [
        " 59133\n",
        "66811"
       ]
      },
      {
       "output_type": "stream",
       "stream": "stdout",
       "text": [
        " \n",
        "65922"
       ]
      },
      {
       "output_type": "stream",
       "stream": "stdout",
       "text": [
        " 65923\n",
        "86386"
       ]
      },
      {
       "output_type": "stream",
       "stream": "stdout",
       "text": [
        " \n",
        "58678"
       ]
      },
      {
       "output_type": "stream",
       "stream": "stdout",
       "text": [
        " 58679\n",
        "56957"
       ]
      },
      {
       "output_type": "stream",
       "stream": "stdout",
       "text": [
        " 56958\n",
        "75128"
       ]
      },
      {
       "output_type": "stream",
       "stream": "stdout",
       "text": [
        " \n",
        "90815"
       ]
      },
      {
       "output_type": "stream",
       "stream": "stdout",
       "text": [
        " \n",
        "88995"
       ]
      },
      {
       "output_type": "stream",
       "stream": "stdout",
       "text": [
        " \n",
        "61865"
       ]
      },
      {
       "output_type": "stream",
       "stream": "stdout",
       "text": [
        " \n",
        "35072"
       ]
      },
      {
       "output_type": "stream",
       "stream": "stdout",
       "text": [
        " 35073\n",
        "54776"
       ]
      },
      {
       "output_type": "stream",
       "stream": "stdout",
       "text": [
        " 54777\n",
        "94682"
       ]
      },
      {
       "output_type": "stream",
       "stream": "stdout",
       "text": [
        " \n",
        "94665"
       ]
      },
      {
       "output_type": "stream",
       "stream": "stdout",
       "text": [
        " \n",
        "54771"
       ]
      },
      {
       "output_type": "stream",
       "stream": "stdout",
       "text": [
        " \n",
        "90154"
       ]
      },
      {
       "output_type": "stream",
       "stream": "stdout",
       "text": [
        " \n",
        "90900"
       ]
      },
      {
       "output_type": "stream",
       "stream": "stdout",
       "text": [
        " \n",
        "34337"
       ]
      },
      {
       "output_type": "stream",
       "stream": "stdout",
       "text": [
        " 34329\n",
        "34354"
       ]
      },
      {
       "output_type": "stream",
       "stream": "stdout",
       "text": [
        " 34355\n",
        "94659"
       ]
      },
      {
       "output_type": "stream",
       "stream": "stdout",
       "text": [
        " 94741\n",
        "86308"
       ]
      },
      {
       "output_type": "stream",
       "stream": "stdout",
       "text": [
        " \n",
        "61866"
       ]
      },
      {
       "output_type": "stream",
       "stream": "stdout",
       "text": [
        " \n",
        "89120"
       ]
      },
      {
       "output_type": "stream",
       "stream": "stdout",
       "text": [
        " \n",
        "94921"
       ]
      },
      {
       "output_type": "stream",
       "stream": "stdout",
       "text": [
        " \n",
        "89140"
       ]
      },
      {
       "output_type": "stream",
       "stream": "stdout",
       "text": [
        " \n",
        "94965"
       ]
      },
      {
       "output_type": "stream",
       "stream": "stdout",
       "text": [
        " \n",
        "89126"
       ]
      },
      {
       "output_type": "stream",
       "stream": "stdout",
       "text": [
        " \n",
        "95069"
       ]
      },
      {
       "output_type": "stream",
       "stream": "stdout",
       "text": [
        " \n",
        "92591"
       ]
      },
      {
       "output_type": "stream",
       "stream": "stdout",
       "text": [
        " 92594\n",
        "88348"
       ]
      },
      {
       "output_type": "stream",
       "stream": "stdout",
       "text": [
        " \n",
        "57841"
       ]
      },
      {
       "output_type": "stream",
       "stream": "stdout",
       "text": [
        " \n",
        "42951"
       ]
      },
      {
       "output_type": "stream",
       "stream": "stdout",
       "text": [
        " 42981\n",
        "94761"
       ]
      },
      {
       "output_type": "stream",
       "stream": "stdout",
       "text": [
        " \n",
        "88343"
       ]
      },
      {
       "output_type": "stream",
       "stream": "stdout",
       "text": [
        " \n",
        "54540"
       ]
      },
      {
       "output_type": "stream",
       "stream": "stdout",
       "text": [
        " 43374\n",
        "94693"
       ]
      },
      {
       "output_type": "stream",
       "stream": "stdout",
       "text": [
        " \n",
        "94978"
       ]
      },
      {
       "output_type": "stream",
       "stream": "stdout",
       "text": [
        " \n",
        "55445"
       ]
      },
      {
       "output_type": "stream",
       "stream": "stdout",
       "text": [
        " 55418\n",
        "94900"
       ]
      },
      {
       "output_type": "stream",
       "stream": "stdout",
       "text": [
        " \n",
        "94738"
       ]
      },
      {
       "output_type": "stream",
       "stream": "stdout",
       "text": [
        " \n",
        "95022"
       ]
      },
      {
       "output_type": "stream",
       "stream": "stdout",
       "text": [
        " \n",
        "94759"
       ]
      },
      {
       "output_type": "stream",
       "stream": "stdout",
       "text": [
        " 94760\n",
        "89118"
       ]
      },
      {
       "output_type": "stream",
       "stream": "stdout",
       "text": [
        " \n",
        "86390"
       ]
      },
      {
       "output_type": "stream",
       "stream": "stdout",
       "text": [
        " \n",
        "71373"
       ]
      },
      {
       "output_type": "stream",
       "stream": "stdout",
       "text": [
        " 71374\n",
        "43376"
       ]
      },
      {
       "output_type": "stream",
       "stream": "stdout",
       "text": [
        " 54775\n",
        "95280"
       ]
      },
      {
       "output_type": "stream",
       "stream": "stdout",
       "text": [
        " \n",
        "90902"
       ]
      },
      {
       "output_type": "stream",
       "stream": "stdout",
       "text": [
        " \n",
        "94116"
       ]
      },
      {
       "output_type": "stream",
       "stream": "stdout",
       "text": [
        " \n",
        "95016"
       ]
      },
      {
       "output_type": "stream",
       "stream": "stdout",
       "text": [
        " \n",
        "54772"
       ]
      },
      {
       "output_type": "stream",
       "stream": "stdout",
       "text": [
        " 54773\n",
        "94991"
       ]
      },
      {
       "output_type": "stream",
       "stream": "stdout",
       "text": [
        " \n",
        "94986"
       ]
      },
      {
       "output_type": "stream",
       "stream": "stdout",
       "text": [
        " \n",
        "64017"
       ]
      },
      {
       "output_type": "stream",
       "stream": "stdout",
       "text": [
        " \n",
        "94771"
       ]
      },
      {
       "output_type": "stream",
       "stream": "stdout",
       "text": [
        " \n",
        "90746"
       ]
      },
      {
       "output_type": "stream",
       "stream": "stdout",
       "text": [
        " \n",
        "55192"
       ]
      },
      {
       "output_type": "stream",
       "stream": "stdout",
       "text": [
        " \n",
        "94821"
       ]
      },
      {
       "output_type": "stream",
       "stream": "stdout",
       "text": [
        " \n",
        "90816"
       ]
      },
      {
       "output_type": "stream",
       "stream": "stdout",
       "text": [
        " \n",
        "94982"
       ]
      },
      {
       "output_type": "stream",
       "stream": "stdout",
       "text": [
        " \n",
        "94762"
       ]
      },
      {
       "output_type": "stream",
       "stream": "stdout",
       "text": [
        " \n",
        "93590"
       ]
      },
      {
       "output_type": "stream",
       "stream": "stdout",
       "text": [
        " 93591\n",
        "91166"
       ]
      },
      {
       "output_type": "stream",
       "stream": "stdout",
       "text": [
        " 91167\n",
        "89124"
       ]
      },
      {
       "output_type": "stream",
       "stream": "stdout",
       "text": [
        " \n",
        "55461"
       ]
      },
      {
       "output_type": "stream",
       "stream": "stdout",
       "text": [
        " 55462\n",
        "59082"
       ]
      },
      {
       "output_type": "stream",
       "stream": "stdout",
       "text": [
        " \n",
        "55226"
       ]
      },
      {
       "output_type": "stream",
       "stream": "stdout",
       "text": [
        " \n",
        "54541"
       ]
      },
      {
       "output_type": "stream",
       "stream": "stdout",
       "text": [
        " \n",
        "34935"
       ]
      },
      {
       "output_type": "stream",
       "stream": "stdout",
       "text": [
        " 34936\n",
        "94647"
       ]
      },
      {
       "output_type": "stream",
       "stream": "stdout",
       "text": [
        " 94648\n",
        "34926"
       ]
      },
      {
       "output_type": "stream",
       "stream": "stdout",
       "text": [
        " 34927\n",
        "34329"
       ]
      },
      {
       "output_type": "stream",
       "stream": "stdout",
       "text": [
        " 34335\n",
        "34960"
       ]
      },
      {
       "output_type": "stream",
       "stream": "stdout",
       "text": [
        " \n",
        "74073"
       ]
      },
      {
       "output_type": "stream",
       "stream": "stdout",
       "text": [
        " \n",
        "43377"
       ]
      },
      {
       "output_type": "stream",
       "stream": "stdout",
       "text": [
        " \n",
        "95080"
       ]
      },
      {
       "output_type": "stream",
       "stream": "stdout",
       "text": [
        " \n",
        "94927"
       ]
      },
      {
       "output_type": "stream",
       "stream": "stdout",
       "text": [
        " 94926\n",
        "94820"
       ]
      },
      {
       "output_type": "stream",
       "stream": "stdout",
       "text": [
        " \n",
        "94662"
       ]
      },
      {
       "output_type": "stream",
       "stream": "stdout",
       "text": [
        " 94663\n",
        "95122"
       ]
      },
      {
       "output_type": "stream",
       "stream": "stdout",
       "text": [
        " \n",
        "34960"
       ]
      },
      {
       "output_type": "stream",
       "stream": "stdout",
       "text": [
        " 34346\n",
        "93434"
       ]
      },
      {
       "output_type": "stream",
       "stream": "stdout",
       "text": [
        " 93435\n",
        "87401"
       ]
      },
      {
       "output_type": "stream",
       "stream": "stdout",
       "text": [
        " \n",
        "58680"
       ]
      },
      {
       "output_type": "stream",
       "stream": "stdout",
       "text": [
        " \n",
        "58681"
       ]
      },
      {
       "output_type": "stream",
       "stream": "stdout",
       "text": [
        " \n",
        "91093"
       ]
      },
      {
       "output_type": "stream",
       "stream": "stdout",
       "text": [
        " 91094\n",
        "94748"
       ]
      },
      {
       "output_type": "stream",
       "stream": "stdout",
       "text": [
        " \n",
        "34929"
       ]
      },
      {
       "output_type": "stream",
       "stream": "stdout",
       "text": [
        " 34930\n",
        "94827"
       ]
      },
      {
       "output_type": "stream",
       "stream": "stdout",
       "text": [
        " \n",
        "90824"
       ]
      },
      {
       "output_type": "stream",
       "stream": "stdout",
       "text": [
        " \n",
        "59050"
       ]
      },
      {
       "output_type": "stream",
       "stream": "stdout",
       "text": [
        " \n",
        "91164"
       ]
      },
      {
       "output_type": "stream",
       "stream": "stdout",
       "text": [
        " 91165\n",
        "86387"
       ]
      },
      {
       "output_type": "stream",
       "stream": "stdout",
       "text": [
        " \n",
        "61865"
       ]
      },
      {
       "output_type": "stream",
       "stream": "stdout",
       "text": [
        " 61865\n",
        "35075"
       ]
      },
      {
       "output_type": "stream",
       "stream": "stdout",
       "text": [
        " \n",
        "55465"
       ]
      },
      {
       "output_type": "stream",
       "stream": "stdout",
       "text": [
        " 55466\n",
        "56959"
       ]
      },
      {
       "output_type": "stream",
       "stream": "stdout",
       "text": [
        " 56960\n",
        "94732"
       ]
      },
      {
       "output_type": "stream",
       "stream": "stdout",
       "text": [
        " 94733\n",
        "94777"
       ]
      },
      {
       "output_type": "stream",
       "stream": "stdout",
       "text": [
        " 94778\n",
        "95021"
       ]
      },
      {
       "output_type": "stream",
       "stream": "stdout",
       "text": [
        " \n",
        "95216"
       ]
      },
      {
       "output_type": "stream",
       "stream": "stdout",
       "text": [
        " \n",
        "94988"
       ]
      },
      {
       "output_type": "stream",
       "stream": "stdout",
       "text": [
        " \n",
        "34938"
       ]
      },
      {
       "output_type": "stream",
       "stream": "stdout",
       "text": [
        " 34939\n",
        "91162"
       ]
      },
      {
       "output_type": "stream",
       "stream": "stdout",
       "text": [
        " 91168\n",
        "90174"
       ]
      },
      {
       "output_type": "stream",
       "stream": "stdout",
       "text": [
        " \n",
        "91162"
       ]
      },
      {
       "output_type": "stream",
       "stream": "stdout",
       "text": [
        " 91163\n",
        "71344"
       ]
      },
      {
       "output_type": "stream",
       "stream": "stdout",
       "text": [
        " \n",
        "55263"
       ]
      },
      {
       "output_type": "stream",
       "stream": "stdout",
       "text": [
        " 55307\n",
        "55200"
       ]
      },
      {
       "output_type": "stream",
       "stream": "stdout",
       "text": [
        " \n",
        "43378"
       ]
      },
      {
       "output_type": "stream",
       "stream": "stdout",
       "text": [
        " \n",
        "43375"
       ]
      },
      {
       "output_type": "stream",
       "stream": "stdout",
       "text": [
        " 42981\n",
        "34960"
       ]
      },
      {
       "output_type": "stream",
       "stream": "stdout",
       "text": [
        " 35064\n",
        "95192"
       ]
      },
      {
       "output_type": "stream",
       "stream": "stdout",
       "text": [
        " \n",
        "34337"
       ]
      },
      {
       "output_type": "stream",
       "stream": "stdout",
       "text": [
        " 34352\n",
        "90823"
       ]
      },
      {
       "output_type": "stream",
       "stream": "stdout",
       "text": [
        " \n",
        "94970"
       ]
      },
      {
       "output_type": "stream",
       "stream": "stdout",
       "text": [
        " \n",
        "94983"
       ]
      },
      {
       "output_type": "stream",
       "stream": "stdout",
       "text": [
        " \n",
        "94673"
       ]
      },
      {
       "output_type": "stream",
       "stream": "stdout",
       "text": [
        " \n",
        "95142"
       ]
      },
      {
       "output_type": "stream",
       "stream": "stdout",
       "text": [
        " \n",
        "93665"
       ]
      },
      {
       "output_type": "stream",
       "stream": "stdout",
       "text": [
        " 93666\n",
        "91137"
       ]
      },
      {
       "output_type": "stream",
       "stream": "stdout",
       "text": [
        " \n",
        "91162"
       ]
      },
      {
       "output_type": "stream",
       "stream": "stdout",
       "text": [
        " \n",
        "87474"
       ]
      },
      {
       "output_type": "stream",
       "stream": "stdout",
       "text": [
        " \n",
        "57774"
       ]
      },
      {
       "output_type": "stream",
       "stream": "stdout",
       "text": [
        " \n",
        "55215"
       ]
      },
      {
       "output_type": "stream",
       "stream": "stdout",
       "text": [
        " \n",
        "56919"
       ]
      },
      {
       "output_type": "stream",
       "stream": "stdout",
       "text": [
        " \n",
        "59050"
       ]
      },
      {
       "output_type": "stream",
       "stream": "stdout",
       "text": [
        " 59130\n",
        "94647"
       ]
      },
      {
       "output_type": "stream",
       "stream": "stdout",
       "text": [
        " 94735\n",
        "94836"
       ]
      },
      {
       "output_type": "stream",
       "stream": "stdout",
       "text": [
        " 94837\n",
        "91079"
       ]
      },
      {
       "output_type": "stream",
       "stream": "stdout",
       "text": [
        " \n",
        "94649"
       ]
      },
      {
       "output_type": "stream",
       "stream": "stdout",
       "text": [
        " 94650\n",
        "94660"
       ]
      },
      {
       "output_type": "stream",
       "stream": "stdout",
       "text": [
        " 94661\n",
        "94927"
       ]
      },
      {
       "output_type": "stream",
       "stream": "stdout",
       "text": [
        " \n",
        "94894"
       ]
      },
      {
       "output_type": "stream",
       "stream": "stdout",
       "text": [
        " \n",
        "92591"
       ]
      },
      {
       "output_type": "stream",
       "stream": "stdout",
       "text": [
        " 92595\n",
        "90789"
       ]
      },
      {
       "output_type": "stream",
       "stream": "stdout",
       "text": [
        " \n",
        "90515"
       ]
      },
      {
       "output_type": "stream",
       "stream": "stdout",
       "text": [
        " \n",
        "88243"
       ]
      },
      {
       "output_type": "stream",
       "stream": "stdout",
       "text": [
        " \n",
        "65918"
       ]
      },
      {
       "output_type": "stream",
       "stream": "stdout",
       "text": [
        " 65328\n",
        "58678"
       ]
      },
      {
       "output_type": "stream",
       "stream": "stdout",
       "text": [
        " \n",
        "56936"
       ]
      },
      {
       "output_type": "stream",
       "stream": "stdout",
       "text": [
        " 57768\n",
        "59049"
       ]
      },
      {
       "output_type": "stream",
       "stream": "stdout",
       "text": [
        " 59096\n",
        "94727"
       ]
      },
      {
       "output_type": "stream",
       "stream": "stdout",
       "text": [
        " 94728\n",
        "35069"
       ]
      },
      {
       "output_type": "stream",
       "stream": "stdout",
       "text": [
        " 35070\n",
        "90881"
       ]
      },
      {
       "output_type": "stream",
       "stream": "stdout",
       "text": [
        " \n",
        "94686"
       ]
      },
      {
       "output_type": "stream",
       "stream": "stdout",
       "text": [
        " 94745\n",
        "34941"
       ]
      },
      {
       "output_type": "stream",
       "stream": "stdout",
       "text": [
        " 34940\n",
        "94877"
       ]
      },
      {
       "output_type": "stream",
       "stream": "stdout",
       "text": [
        " \n",
        "94685"
       ]
      },
      {
       "output_type": "stream",
       "stream": "stdout",
       "text": [
        " 94749\n",
        "94669"
       ]
      },
      {
       "output_type": "stream",
       "stream": "stdout",
       "text": [
        " 94670\n",
        "94665"
       ]
      },
      {
       "output_type": "stream",
       "stream": "stdout",
       "text": [
        " 94738\n",
        "64019"
       ]
      },
      {
       "output_type": "stream",
       "stream": "stdout",
       "text": [
        " \n",
        "94644"
       ]
      },
      {
       "output_type": "stream",
       "stream": "stdout",
       "text": [
        " \n",
        "91022"
       ]
      },
      {
       "output_type": "stream",
       "stream": "stdout",
       "text": [
        " \n",
        "88387"
       ]
      },
      {
       "output_type": "stream",
       "stream": "stdout",
       "text": [
        " \n",
        "88203"
       ]
      },
      {
       "output_type": "stream",
       "stream": "stdout",
       "text": [
        " \n",
        "65923"
       ]
      },
      {
       "output_type": "stream",
       "stream": "stdout",
       "text": [
        " \n",
        "58679"
       ]
      },
      {
       "output_type": "stream",
       "stream": "stdout",
       "text": [
        " \n",
        "57768"
       ]
      },
      {
       "output_type": "stream",
       "stream": "stdout",
       "text": [
        " 57812\n",
        "57785"
       ]
      },
      {
       "output_type": "stream",
       "stream": "stdout",
       "text": [
        " \n",
        "34337"
       ]
      },
      {
       "output_type": "stream",
       "stream": "stdout",
       "text": [
        " \n",
        "55233"
       ]
      },
      {
       "output_type": "stream",
       "stream": "stdout",
       "text": [
        " \n",
        "94656"
       ]
      },
      {
       "output_type": "stream",
       "stream": "stdout",
       "text": [
        " \n",
        "90754"
       ]
      },
      {
       "output_type": "stream",
       "stream": "stdout",
       "text": [
        " \n",
        "90804"
       ]
      },
      {
       "output_type": "stream",
       "stream": "stdout",
       "text": [
        " 90767\n",
        "94651"
       ]
      },
      {
       "output_type": "stream",
       "stream": "stdout",
       "text": [
        " 94652\n",
        "94666"
       ]
      },
      {
       "output_type": "stream",
       "stream": "stdout",
       "text": [
        " 94667\n",
        "90804"
       ]
      },
      {
       "output_type": "stream",
       "stream": "stdout",
       "text": [
        " 90817\n",
        "94791"
       ]
      },
      {
       "output_type": "stream",
       "stream": "stdout",
       "text": [
        " \n",
        "94725"
       ]
      },
      {
       "output_type": "stream",
       "stream": "stdout",
       "text": [
        " 94686\n",
        "94671"
       ]
      },
      {
       "output_type": "stream",
       "stream": "stdout",
       "text": [
        " 94672\n",
        "94722"
       ]
      },
      {
       "output_type": "stream",
       "stream": "stdout",
       "text": [
        " \n",
        "92586"
       ]
      },
      {
       "output_type": "stream",
       "stream": "stdout",
       "text": [
        " 93409\n",
        "91119"
       ]
      },
      {
       "output_type": "stream",
       "stream": "stdout",
       "text": [
        " 91118\n",
        "93583"
       ]
      },
      {
       "output_type": "stream",
       "stream": "stdout",
       "text": [
        " 93584\n",
        "90145"
       ]
      },
      {
       "output_type": "stream",
       "stream": "stdout",
       "text": [
        " \n",
        "86795"
       ]
      },
      {
       "output_type": "stream",
       "stream": "stdout",
       "text": [
        " \n",
        "71356"
       ]
      },
      {
       "output_type": "stream",
       "stream": "stdout",
       "text": [
        " 71334\n",
        "59120"
       ]
      },
      {
       "output_type": "stream",
       "stream": "stdout",
       "text": [
        " \n",
        "55405"
       ]
      },
      {
       "output_type": "stream",
       "stream": "stdout",
       "text": [
        " \n",
        "56957"
       ]
      },
      {
       "output_type": "stream",
       "stream": "stdout",
       "text": [
        " \n",
        "42981"
       ]
      },
      {
       "output_type": "stream",
       "stream": "stdout",
       "text": [
        " 42951\n",
        "55185"
       ]
      },
      {
       "output_type": "stream",
       "stream": "stdout",
       "text": [
        " \n",
        "43019"
       ]
      },
      {
       "output_type": "stream",
       "stream": "stdout",
       "text": [
        " \n",
        "94893"
       ]
      },
      {
       "output_type": "stream",
       "stream": "stdout",
       "text": [
        " \n",
        "95027"
       ]
      },
      {
       "output_type": "stream",
       "stream": "stdout",
       "text": [
        " \n",
        "94729"
       ]
      },
      {
       "output_type": "stream",
       "stream": "stdout",
       "text": [
        " 94645\n",
        "34346"
       ]
      },
      {
       "output_type": "stream",
       "stream": "stdout",
       "text": [
        " 34353\n",
        "90917"
       ]
      },
      {
       "output_type": "stream",
       "stream": "stdout",
       "text": [
        " 90780\n",
        "94674"
       ]
      },
      {
       "output_type": "stream",
       "stream": "stdout",
       "text": [
        " 94675\n",
        "94737"
       ]
      },
      {
       "output_type": "stream",
       "stream": "stdout",
       "text": [
        " \n",
        "94571"
       ]
      },
      {
       "output_type": "stream",
       "stream": "stdout",
       "text": [
        " \n",
        "94121"
       ]
      },
      {
       "output_type": "stream",
       "stream": "stdout",
       "text": [
        " \n",
        "93654"
       ]
      },
      {
       "output_type": "stream",
       "stream": "stdout",
       "text": [
        " 93655\n",
        "93360"
       ]
      },
      {
       "output_type": "stream",
       "stream": "stdout",
       "text": [
        " 93361\n",
        "91148"
       ]
      },
      {
       "output_type": "stream",
       "stream": "stdout",
       "text": [
        " \n",
        "65929"
       ]
      },
      {
       "output_type": "stream",
       "stream": "stdout",
       "text": [
        " \n",
        "88935"
       ]
      },
      {
       "output_type": "stream",
       "stream": "stdout",
       "text": [
        " \n",
        "89764"
       ]
      },
      {
       "output_type": "stream",
       "stream": "stdout",
       "text": [
        " \n",
        "88511"
       ]
      },
      {
       "output_type": "stream",
       "stream": "stdout",
       "text": [
        " \n",
        "56941"
       ]
      },
      {
       "output_type": "stream",
       "stream": "stdout",
       "text": [
        " 57812\n",
        "55263"
       ]
      },
      {
       "output_type": "stream",
       "stream": "stdout",
       "text": [
        " \n",
        "55206"
       ]
      },
      {
       "output_type": "stream",
       "stream": "stdout",
       "text": [
        " \n",
        "95413"
       ]
      },
      {
       "output_type": "stream",
       "stream": "stdout",
       "text": [
        " \n",
        "88909"
       ]
      },
      {
       "output_type": "stream",
       "stream": "stdout",
       "text": [
        " \n",
        "55463"
       ]
      },
      {
       "output_type": "stream",
       "stream": "stdout",
       "text": [
        " 55464\n",
        "94736"
       ]
      },
      {
       "output_type": "stream",
       "stream": "stdout",
       "text": [
        " 94645\n",
        "59054"
       ]
      },
      {
       "output_type": "stream",
       "stream": "stdout",
       "text": [
        " 59072\n",
        "95225"
       ]
      },
      {
       "output_type": "stream",
       "stream": "stdout",
       "text": [
        " \n",
        "95217"
       ]
      },
      {
       "output_type": "stream",
       "stream": "stdout",
       "text": [
        " \n",
        "94730"
       ]
      },
      {
       "output_type": "stream",
       "stream": "stdout",
       "text": [
        " 94731\n",
        "94643"
       ]
      },
      {
       "output_type": "stream",
       "stream": "stdout",
       "text": [
        " \n",
        "94686"
       ]
      },
      {
       "output_type": "stream",
       "stream": "stdout",
       "text": [
        " \n",
        "94739"
       ]
      },
      {
       "output_type": "stream",
       "stream": "stdout",
       "text": [
        " 94740\n",
        "95412"
       ]
      },
      {
       "output_type": "stream",
       "stream": "stdout",
       "text": [
        " \n",
        "34931"
       ]
      },
      {
       "output_type": "stream",
       "stream": "stdout",
       "text": [
        " 34932\n",
        "90893"
       ]
      },
      {
       "output_type": "stream",
       "stream": "stdout",
       "text": [
        " 90894\n",
        "34284"
       ]
      },
      {
       "output_type": "stream",
       "stream": "stdout",
       "text": [
        " \n",
        "94763"
       ]
      },
      {
       "output_type": "stream",
       "stream": "stdout",
       "text": [
        " \n",
        "93540"
       ]
      },
      {
       "output_type": "stream",
       "stream": "stdout",
       "text": [
        " \n",
        "91127"
       ]
      },
      {
       "output_type": "stream",
       "stream": "stdout",
       "text": [
        " \n",
        "66098"
       ]
      },
      {
       "output_type": "stream",
       "stream": "stdout",
       "text": [
        " 66099\n",
        "88357"
       ]
      },
      {
       "output_type": "stream",
       "stream": "stdout",
       "text": [
        " \n",
        "55220"
       ]
      },
      {
       "output_type": "stream",
       "stream": "stdout",
       "text": [
        " \n",
        "55461"
       ]
      },
      {
       "output_type": "stream",
       "stream": "stdout",
       "text": [
        " \n",
        "94685"
       ]
      },
      {
       "output_type": "stream",
       "stream": "stdout",
       "text": [
        " \n",
        "90785"
       ]
      },
      {
       "output_type": "stream",
       "stream": "stdout",
       "text": [
        " \n",
        "94659"
       ]
      },
      {
       "output_type": "stream",
       "stream": "stdout",
       "text": [
        " \n",
        "90769"
       ]
      },
      {
       "output_type": "stream",
       "stream": "stdout",
       "text": [
        " \n",
        "94657"
       ]
      },
      {
       "output_type": "stream",
       "stream": "stdout",
       "text": [
        " 94658\n",
        "95201"
       ]
      },
      {
       "output_type": "stream",
       "stream": "stdout",
       "text": [
        " \n",
        "90787"
       ]
      },
      {
       "output_type": "stream",
       "stream": "stdout",
       "text": [
        " \n",
        "95516"
       ]
      },
      {
       "output_type": "stream",
       "stream": "stdout",
       "text": [
        " \n",
        "90783"
       ]
      },
      {
       "output_type": "stream",
       "stream": "stdout",
       "text": [
        " \n",
        "95228"
       ]
      },
      {
       "output_type": "stream",
       "stream": "stdout",
       "text": [
        " \n",
        "96161"
       ]
      },
      {
       "output_type": "stream",
       "stream": "stdout",
       "text": [
        " \n",
        "59099"
       ]
      },
      {
       "output_type": "stream",
       "stream": "stdout",
       "text": [
        " 59111\n",
        "94833"
       ]
      },
      {
       "output_type": "stream",
       "stream": "stdout",
       "text": [
        " 94834\n",
        "94657"
       ]
      },
      {
       "output_type": "stream",
       "stream": "stdout",
       "text": [
        " 94651\n",
        "97791"
       ]
      },
      {
       "output_type": "stream",
       "stream": "stdout",
       "text": [
        " \n",
        "94926"
       ]
      },
      {
       "output_type": "stream",
       "stream": "stdout",
       "text": [
        " \n",
        "94364"
       ]
      },
      {
       "output_type": "stream",
       "stream": "stdout",
       "text": [
        " \n",
        "95224"
       ]
      },
      {
       "output_type": "stream",
       "stream": "stdout",
       "text": [
        " \n",
        "92591"
       ]
      },
      {
       "output_type": "stream",
       "stream": "stdout",
       "text": [
        " 92608\n",
        "91043"
       ]
      },
      {
       "output_type": "stream",
       "stream": "stdout",
       "text": [
        " \n",
        "75118"
       ]
      },
      {
       "output_type": "stream",
       "stream": "stdout",
       "text": [
        " \n",
        "87368"
       ]
      },
      {
       "output_type": "stream",
       "stream": "stdout",
       "text": [
        " \n",
        "71354"
       ]
      },
      {
       "output_type": "stream",
       "stream": "stdout",
       "text": [
        " 74109\n",
        "65922"
       ]
      },
      {
       "output_type": "stream",
       "stream": "stdout",
       "text": [
        " 65930\n",
        "73163"
       ]
      },
      {
       "output_type": "stream",
       "stream": "stdout",
       "text": [
        " \n",
        "72127"
       ]
      },
      {
       "output_type": "stream",
       "stream": "stdout",
       "text": [
        " 71373\n",
        "66229"
       ]
      },
      {
       "output_type": "stream",
       "stream": "stdout",
       "text": [
        " \n",
        "66077"
       ]
      },
      {
       "output_type": "stream",
       "stream": "stdout",
       "text": [
        " \n",
        "64020"
       ]
      },
      {
       "output_type": "stream",
       "stream": "stdout",
       "text": [
        " \n",
        "55312"
       ]
      },
      {
       "output_type": "stream",
       "stream": "stdout",
       "text": [
        " \n",
        "57778"
       ]
      },
      {
       "output_type": "stream",
       "stream": "stdout",
       "text": [
        " \n",
        "55311"
       ]
      },
      {
       "output_type": "stream",
       "stream": "stdout",
       "text": [
        " \n",
        "55208"
       ]
      },
      {
       "output_type": "stream",
       "stream": "stdout",
       "text": [
        " \n",
        "42981"
       ]
      },
      {
       "output_type": "stream",
       "stream": "stdout",
       "text": [
        " 43375\n",
        "55339"
       ]
      },
      {
       "output_type": "stream",
       "stream": "stdout",
       "text": [
        " 55338\n",
        "55214"
       ]
      },
      {
       "output_type": "stream",
       "stream": "stdout",
       "text": [
        " \n",
        "54773"
       ]
      },
      {
       "output_type": "stream",
       "stream": "stdout",
       "text": [
        " \n",
        "95524"
       ]
      },
      {
       "output_type": "stream",
       "stream": "stdout",
       "text": [
        " \n",
        "95558"
       ]
      },
      {
       "output_type": "stream",
       "stream": "stdout",
       "text": [
        " \n",
        "91021"
       ]
      },
      {
       "output_type": "stream",
       "stream": "stdout",
       "text": [
        " \n",
        "94946"
       ]
      },
      {
       "output_type": "stream",
       "stream": "stdout",
       "text": [
        " 95122\n",
        "94648"
       ]
      },
      {
       "output_type": "stream",
       "stream": "stdout",
       "text": [
        " 94734\n",
        "94824"
       ]
      },
      {
       "output_type": "stream",
       "stream": "stdout",
       "text": [
        " \n",
        "90919"
       ]
      },
      {
       "output_type": "stream",
       "stream": "stdout",
       "text": [
        " 90920\n",
        "95271"
       ]
      },
      {
       "output_type": "stream",
       "stream": "stdout",
       "text": [
        " \n",
        "90923"
       ]
      },
      {
       "output_type": "stream",
       "stream": "stdout",
       "text": [
        " 90924\n",
        "90917"
       ]
      },
      {
       "output_type": "stream",
       "stream": "stdout",
       "text": [
        " 90918\n",
        "90954"
       ]
      },
      {
       "output_type": "stream",
       "stream": "stdout",
       "text": [
        " 90955\n",
        "94952"
       ]
      },
      {
       "output_type": "stream",
       "stream": "stdout",
       "text": [
        " \n",
        "94944"
       ]
      },
      {
       "output_type": "stream",
       "stream": "stdout",
       "text": [
        " \n",
        "96152"
       ]
      },
      {
       "output_type": "stream",
       "stream": "stdout",
       "text": [
        " \n",
        "94828"
       ]
      },
      {
       "output_type": "stream",
       "stream": "stdout",
       "text": [
        " \n",
        "95196"
       ]
      },
      {
       "output_type": "stream",
       "stream": "stdout",
       "text": [
        " \n",
        "95364"
       ]
      },
      {
       "output_type": "stream",
       "stream": "stdout",
       "text": [
        " \n",
        "94725"
       ]
      },
      {
       "output_type": "stream",
       "stream": "stdout",
       "text": [
        " 94726\n",
        "94799"
       ]
      },
      {
       "output_type": "stream",
       "stream": "stdout",
       "text": [
        " 94800\n",
        "90810"
       ]
      },
      {
       "output_type": "stream",
       "stream": "stdout",
       "text": [
        " \n",
        "95137"
       ]
      },
      {
       "output_type": "stream",
       "stream": "stdout",
       "text": [
        " \n",
        "94830"
       ]
      },
      {
       "output_type": "stream",
       "stream": "stdout",
       "text": [
        " \n",
        "94801"
       ]
      },
      {
       "output_type": "stream",
       "stream": "stdout",
       "text": [
        " \n",
        "94717"
       ]
      },
      {
       "output_type": "stream",
       "stream": "stdout",
       "text": [
        " 94708\n",
        "93903"
       ]
      },
      {
       "output_type": "stream",
       "stream": "stdout",
       "text": [
        " \n",
        "93953"
       ]
      },
      {
       "output_type": "stream",
       "stream": "stdout",
       "text": [
        " \n",
        "93467"
       ]
      },
      {
       "output_type": "stream",
       "stream": "stdout",
       "text": [
        " \n",
        "93375"
       ]
      },
      {
       "output_type": "stream",
       "stream": "stdout",
       "text": [
        " 93462\n",
        "93377"
       ]
      },
      {
       "output_type": "stream",
       "stream": "stdout",
       "text": [
        " \n",
        "92604"
       ]
      },
      {
       "output_type": "stream",
       "stream": "stdout",
       "text": [
        " 92605\n",
        "93347"
       ]
      },
      {
       "output_type": "stream",
       "stream": "stdout",
       "text": [
        " 92608\n",
        "93382"
       ]
      },
      {
       "output_type": "stream",
       "stream": "stdout",
       "text": [
        " \n",
        "91101"
       ]
      },
      {
       "output_type": "stream",
       "stream": "stdout",
       "text": [
        " 91143\n",
        "90634"
       ]
      },
      {
       "output_type": "stream",
       "stream": "stdout",
       "text": [
        " \n",
        "94127"
       ]
      },
      {
       "output_type": "stream",
       "stream": "stdout",
       "text": [
        " \n",
        "90156"
       ]
      },
      {
       "output_type": "stream",
       "stream": "stdout",
       "text": [
        " \n",
        "88133"
       ]
      },
      {
       "output_type": "stream",
       "stream": "stdout",
       "text": [
        " 88134\n",
        "61868"
       ]
      },
      {
       "output_type": "stream",
       "stream": "stdout",
       "text": [
        " \n",
        "88960"
       ]
      },
      {
       "output_type": "stream",
       "stream": "stdout",
       "text": [
        " \n",
        "89228"
       ]
      },
      {
       "output_type": "stream",
       "stream": "stdout",
       "text": [
        " \n",
        "75096"
       ]
      },
      {
       "output_type": "stream",
       "stream": "stdout",
       "text": [
        " \n",
        "71348"
       ]
      },
      {
       "output_type": "stream",
       "stream": "stdout",
       "text": [
        " \n",
        "74073"
       ]
      },
      {
       "output_type": "stream",
       "stream": "stdout",
       "text": [
        " 74074\n",
        "66197"
       ]
      },
      {
       "output_type": "stream",
       "stream": "stdout",
       "text": [
        " \n",
        "66817"
       ]
      },
      {
       "output_type": "stream",
       "stream": "stdout",
       "text": [
        " 66785\n",
        "55303"
       ]
      },
      {
       "output_type": "stream",
       "stream": "stdout",
       "text": [
        " \n",
        "55220"
       ]
      },
      {
       "output_type": "stream",
       "stream": "stdout",
       "text": [
        " 55307\n",
        "57743"
       ]
      },
      {
       "output_type": "stream",
       "stream": "stdout",
       "text": [
        " \n",
        "55202"
       ]
      },
      {
       "output_type": "stream",
       "stream": "stdout",
       "text": [
        " \n",
        "55473"
       ]
      },
      {
       "output_type": "stream",
       "stream": "stdout",
       "text": [
        " \n",
        "55198"
       ]
      },
      {
       "output_type": "stream",
       "stream": "stdout",
       "text": [
        " \n",
        "55411"
       ]
      },
      {
       "output_type": "stream",
       "stream": "stdout",
       "text": [
        " \n",
        "55207"
       ]
      },
      {
       "output_type": "stream",
       "stream": "stdout",
       "text": [
        " \n",
        "95555"
       ]
      },
      {
       "output_type": "stream",
       "stream": "stdout",
       "text": [
        " \n",
        "55445"
       ]
      },
      {
       "output_type": "stream",
       "stream": "stdout",
       "text": [
        " 55447\n",
        "59058"
       ]
      },
      {
       "output_type": "stream",
       "stream": "stdout",
       "text": [
        " \n",
        "90821"
       ]
      },
      {
       "output_type": "stream",
       "stream": "stdout",
       "text": [
        " \n",
        "90809"
       ]
      },
      {
       "output_type": "stream",
       "stream": "stdout",
       "text": [
        " \n",
        "95204"
       ]
      },
      {
       "output_type": "stream",
       "stream": "stdout",
       "text": [
        " \n",
        "94653"
       ]
      },
      {
       "output_type": "stream",
       "stream": "stdout",
       "text": [
        " 94654\n",
        "90821"
       ]
      },
      {
       "output_type": "stream",
       "stream": "stdout",
       "text": [
        " 90822\n",
        "95124"
       ]
      },
      {
       "output_type": "stream",
       "stream": "stdout",
       "text": [
        " \n",
        "95194"
       ]
      },
      {
       "output_type": "stream",
       "stream": "stdout",
       "text": [
        " \n",
        "94713"
       ]
      },
      {
       "output_type": "stream",
       "stream": "stdout",
       "text": [
        " \n",
        "91038"
       ]
      },
      {
       "output_type": "stream",
       "stream": "stdout",
       "text": [
        " \n",
        "96151"
       ]
      },
      {
       "output_type": "stream",
       "stream": "stdout",
       "text": [
        " \n",
        "94839"
       ]
      },
      {
       "output_type": "stream",
       "stream": "stdout",
       "text": [
        " \n",
        "94685"
       ]
      },
      {
       "output_type": "stream",
       "stream": "stdout",
       "text": [
        " 94686\n",
        "95199"
       ]
      },
      {
       "output_type": "stream",
       "stream": "stdout",
       "text": [
        " \n",
        "94880"
       ]
      },
      {
       "output_type": "stream",
       "stream": "stdout",
       "text": [
        " 94881\n",
        "95320"
       ]
      },
      {
       "output_type": "stream",
       "stream": "stdout",
       "text": [
        " 95321\n",
        "94948"
       ]
      },
      {
       "output_type": "stream",
       "stream": "stdout",
       "text": [
        " 94771\n",
        "95313"
       ]
      },
      {
       "output_type": "stream",
       "stream": "stdout",
       "text": [
        " \n",
        "94712"
       ]
      },
      {
       "output_type": "stream",
       "stream": "stdout",
       "text": [
        " 94810\n",
        "94087"
       ]
      },
      {
       "output_type": "stream",
       "stream": "stdout",
       "text": [
        " \n",
        "93810"
       ]
      },
      {
       "output_type": "stream",
       "stream": "stdout",
       "text": [
        " \n",
        "93694"
       ]
      },
      {
       "output_type": "stream",
       "stream": "stdout",
       "text": [
        " 93695\n",
        "93581"
       ]
      },
      {
       "output_type": "stream",
       "stream": "stdout",
       "text": [
        " 93582\n",
        "93580"
       ]
      },
      {
       "output_type": "stream",
       "stream": "stdout",
       "text": [
        " \n",
        "93555"
       ]
      },
      {
       "output_type": "stream",
       "stream": "stdout",
       "text": [
        " 93580\n",
        "90848"
       ]
      },
      {
       "output_type": "stream",
       "stream": "stdout",
       "text": [
        " 90849\n",
        "90499"
       ]
      },
      {
       "output_type": "stream",
       "stream": "stdout",
       "text": [
        " \n",
        "90742"
       ]
      },
      {
       "output_type": "stream",
       "stream": "stdout",
       "text": [
        " \n",
        "90222"
       ]
      },
      {
       "output_type": "stream",
       "stream": "stdout",
       "text": [
        " \n",
        "88180"
       ]
      },
      {
       "output_type": "stream",
       "stream": "stdout",
       "text": [
        " \n",
        "91137"
       ]
      },
      {
       "output_type": "stream",
       "stream": "stdout",
       "text": [
        " 91169\n",
        "88126"
       ]
      },
      {
       "output_type": "stream",
       "stream": "stdout",
       "text": [
        " \n",
        "88404"
       ]
      },
      {
       "output_type": "stream",
       "stream": "stdout",
       "text": [
        " \n",
        "89271"
       ]
      },
      {
       "output_type": "stream",
       "stream": "stdout",
       "text": [
        " \n",
        "88996"
       ]
      },
      {
       "output_type": "stream",
       "stream": "stdout",
       "text": [
        " \n",
        "88461"
       ]
      },
      {
       "output_type": "stream",
       "stream": "stdout",
       "text": [
        " \n",
        "85020"
       ]
      },
      {
       "output_type": "stream",
       "stream": "stdout",
       "text": [
        " \n",
        "86345"
       ]
      },
      {
       "output_type": "stream",
       "stream": "stdout",
       "text": [
        " 86346\n",
        "73160"
       ]
      },
      {
       "output_type": "stream",
       "stream": "stdout",
       "text": [
        " \n",
        "85021"
       ]
      },
      {
       "output_type": "stream",
       "stream": "stdout",
       "text": [
        " \n",
        "71370"
       ]
      },
      {
       "output_type": "stream",
       "stream": "stdout",
       "text": [
        " \n",
        "72126"
       ]
      },
      {
       "output_type": "stream",
       "stream": "stdout",
       "text": [
        " \n",
        "75103"
       ]
      },
      {
       "output_type": "stream",
       "stream": "stdout",
       "text": [
        " 74082\n",
        "71356"
       ]
      },
      {
       "output_type": "stream",
       "stream": "stdout",
       "text": [
        " \n",
        "88197"
       ]
      },
      {
       "output_type": "stream",
       "stream": "stdout",
       "text": [
        " \n",
        "67014"
       ]
      },
      {
       "output_type": "stream",
       "stream": "stdout",
       "text": [
        " 67013\n",
        "71335"
       ]
      },
      {
       "output_type": "stream",
       "stream": "stdout",
       "text": [
        " \n",
        "66815"
       ]
      },
      {
       "output_type": "stream",
       "stream": "stdout",
       "text": [
        " \n",
        "65327"
       ]
      },
      {
       "output_type": "stream",
       "stream": "stdout",
       "text": [
        " \n",
        "58678"
       ]
      },
      {
       "output_type": "stream",
       "stream": "stdout",
       "text": [
        " 58680\n",
        "34329"
       ]
      },
      {
       "output_type": "stream",
       "stream": "stdout",
       "text": [
        " \n",
        "59014"
       ]
      },
      {
       "output_type": "stream",
       "stream": "stdout",
       "text": [
        " \n",
        "57793"
       ]
      },
      {
       "output_type": "stream",
       "stream": "stdout",
       "text": [
        " \n",
        "55447"
       ]
      },
      {
       "output_type": "stream",
       "stream": "stdout",
       "text": [
        " \n",
        "57812"
       ]
      },
      {
       "output_type": "stream",
       "stream": "stdout",
       "text": [
        " \n",
        "72137"
       ]
      },
      {
       "output_type": "stream",
       "stream": "stdout",
       "text": [
        " \n",
        "43376"
       ]
      },
      {
       "output_type": "stream",
       "stream": "stdout",
       "text": [
        " 42981\n",
        "55240"
       ]
      },
      {
       "output_type": "stream",
       "stream": "stdout",
       "text": [
        " \n",
        "55213"
       ]
      },
      {
       "output_type": "stream",
       "stream": "stdout",
       "text": [
        " \n",
        "56913"
       ]
      },
      {
       "output_type": "stream",
       "stream": "stdout",
       "text": [
        " \n",
        "56635"
       ]
      },
      {
       "output_type": "stream",
       "stream": "stdout",
       "text": [
        " \n",
        "55232"
       ]
      },
      {
       "output_type": "stream",
       "stream": "stdout",
       "text": [
        " \n",
        "56941"
       ]
      },
      {
       "output_type": "stream",
       "stream": "stdout",
       "text": [
        " \n",
        "55473"
       ]
      },
      {
       "output_type": "stream",
       "stream": "stdout",
       "text": [
        " 54774\n",
        "56625"
       ]
      },
      {
       "output_type": "stream",
       "stream": "stdout",
       "text": [
        " 56626\n",
        "90767"
       ]
      },
      {
       "output_type": "stream",
       "stream": "stdout",
       "text": [
        " 90768\n",
        "95707"
       ]
      },
      {
       "output_type": "stream",
       "stream": "stdout",
       "text": [
        " \n",
        "95191"
       ]
      },
      {
       "output_type": "stream",
       "stream": "stdout",
       "text": [
        " \n",
        "90897"
       ]
      },
      {
       "output_type": "stream",
       "stream": "stdout",
       "text": [
        " 90898\n",
        "90754"
       ]
      },
      {
       "output_type": "stream",
       "stream": "stdout",
       "text": [
        " 91147\n",
        "95570"
       ]
      },
      {
       "output_type": "stream",
       "stream": "stdout",
       "text": [
        " \n",
        "94908"
       ]
      },
      {
       "output_type": "stream",
       "stream": "stdout",
       "text": [
        " \n",
        "95454"
       ]
      },
      {
       "output_type": "stream",
       "stream": "stdout",
       "text": [
        " \n",
        "94996"
       ]
      },
      {
       "output_type": "stream",
       "stream": "stdout",
       "text": [
        " \n",
        "91040"
       ]
      },
      {
       "output_type": "stream",
       "stream": "stdout",
       "text": [
        " 91041\n",
        "59049"
       ]
      },
      {
       "output_type": "stream",
       "stream": "stdout",
       "text": [
        " 59058\n",
        "95096"
       ]
      },
      {
       "output_type": "stream",
       "stream": "stdout",
       "text": [
        " 95241\n",
        "94481"
       ]
      },
      {
       "output_type": "stream",
       "stream": "stdout",
       "text": [
        " \n",
        "94630"
       ]
      },
      {
       "output_type": "stream",
       "stream": "stdout",
       "text": [
        " \n",
        "94528"
       ]
      },
      {
       "output_type": "stream",
       "stream": "stdout",
       "text": [
        " \n",
        "94176"
       ]
      },
      {
       "output_type": "stream",
       "stream": "stdout",
       "text": [
        " 94177\n",
        "94714"
       ]
      },
      {
       "output_type": "stream",
       "stream": "stdout",
       "text": [
        " 94709\n",
        "91045"
       ]
      },
      {
       "output_type": "stream",
       "stream": "stdout",
       "text": [
        " \n",
        "93869"
       ]
      },
      {
       "output_type": "stream",
       "stream": "stdout",
       "text": [
        " \n",
        "94177"
       ]
      },
      {
       "output_type": "stream",
       "stream": "stdout",
       "text": [
        " \n",
        "93868"
       ]
      },
      {
       "output_type": "stream",
       "stream": "stdout",
       "text": [
        " 93869\n",
        "93458"
       ]
      },
      {
       "output_type": "stream",
       "stream": "stdout",
       "text": [
        " 93459\n",
        "92591"
       ]
      },
      {
       "output_type": "stream",
       "stream": "stdout",
       "text": [
        " 92600\n",
        "92549"
       ]
      },
      {
       "output_type": "stream",
       "stream": "stdout",
       "text": [
        " \n",
        "90636"
       ]
      },
      {
       "output_type": "stream",
       "stream": "stdout",
       "text": [
        " \n",
        "91044"
       ]
      },
      {
       "output_type": "stream",
       "stream": "stdout",
       "text": [
        " \n",
        "66076"
       ]
      },
      {
       "output_type": "stream",
       "stream": "stdout",
       "text": [
        " \n",
        "90813"
       ]
      },
      {
       "output_type": "stream",
       "stream": "stdout",
       "text": [
        " \n",
        "90713"
       ]
      },
      {
       "output_type": "stream",
       "stream": "stdout",
       "text": [
        " \n",
        "90651"
       ]
      },
      {
       "output_type": "stream",
       "stream": "stdout",
       "text": [
        " \n",
        "74108"
       ]
      },
      {
       "output_type": "stream",
       "stream": "stdout",
       "text": [
        " \n",
        "90152"
       ]
      },
      {
       "output_type": "stream",
       "stream": "stdout",
       "text": [
        " \n",
        "90041"
       ]
      },
      {
       "output_type": "stream",
       "stream": "stdout",
       "text": [
        " \n",
        "88145"
       ]
      },
      {
       "output_type": "stream",
       "stream": "stdout",
       "text": [
        " 87843\n",
        "88432"
       ]
      },
      {
       "output_type": "stream",
       "stream": "stdout",
       "text": [
        " \n",
        "88078"
       ]
      },
      {
       "output_type": "stream",
       "stream": "stdout",
       "text": [
        " 88079\n",
        "88189"
       ]
      },
      {
       "output_type": "stream",
       "stream": "stdout",
       "text": [
        " \n",
        "66061"
       ]
      },
      {
       "output_type": "stream",
       "stream": "stdout",
       "text": [
        " \n",
        "75132"
       ]
      },
      {
       "output_type": "stream",
       "stream": "stdout",
       "text": [
        " 75133\n",
        "89004"
       ]
      },
      {
       "output_type": "stream",
       "stream": "stdout",
       "text": [
        " 89005\n",
        "89152"
       ]
      },
      {
       "output_type": "stream",
       "stream": "stdout",
       "text": [
        " \n",
        "59159"
       ]
      },
      {
       "output_type": "stream",
       "stream": "stdout",
       "text": [
        " \n",
        "89057"
       ]
      },
      {
       "output_type": "stream",
       "stream": "stdout",
       "text": [
        " \n",
        "74078"
       ]
      },
      {
       "output_type": "stream",
       "stream": "stdout",
       "text": [
        " \n",
        "88959"
       ]
      },
      {
       "output_type": "stream",
       "stream": "stdout",
       "text": [
        " \n",
        "88330"
       ]
      },
      {
       "output_type": "stream",
       "stream": "stdout",
       "text": [
        " \n",
        "88361"
       ]
      },
      {
       "output_type": "stream",
       "stream": "stdout",
       "text": [
        " \n",
        "88587"
       ]
      },
      {
       "output_type": "stream",
       "stream": "stdout",
       "text": [
        " \n",
        "88458"
       ]
      },
      {
       "output_type": "stream",
       "stream": "stdout",
       "text": [
        " \n",
        "65920"
       ]
      },
      {
       "output_type": "stream",
       "stream": "stdout",
       "text": [
        " \n",
        "86233"
       ]
      },
      {
       "output_type": "stream",
       "stream": "stdout",
       "text": [
        " \n",
        "88202"
       ]
      },
      {
       "output_type": "stream",
       "stream": "stdout",
       "text": [
        " \n",
        "71357"
       ]
      },
      {
       "output_type": "stream",
       "stream": "stdout",
       "text": [
        " \n",
        "67004"
       ]
      },
      {
       "output_type": "stream",
       "stream": "stdout",
       "text": [
        " \n",
        "72143"
       ]
      },
      {
       "output_type": "stream",
       "stream": "stdout",
       "text": [
        " \n",
        "71341"
       ]
      },
      {
       "output_type": "stream",
       "stream": "stdout",
       "text": [
        " 71342\n",
        "59086"
       ]
      },
      {
       "output_type": "stream",
       "stream": "stdout",
       "text": [
        " \n",
        "65957"
       ]
      },
      {
       "output_type": "stream",
       "stream": "stdout",
       "text": [
        " \n",
        "59094"
       ]
      },
      {
       "output_type": "stream",
       "stream": "stdout",
       "text": [
        " \n",
        "57888"
       ]
      },
      {
       "output_type": "stream",
       "stream": "stdout",
       "text": [
        " 58970\n",
        "58677"
       ]
      },
      {
       "output_type": "stream",
       "stream": "stdout",
       "text": [
        " \n",
        "55418"
       ]
      },
      {
       "output_type": "stream",
       "stream": "stdout",
       "text": [
        " 43376\n",
        "34375"
       ]
      },
      {
       "output_type": "stream",
       "stream": "stdout",
       "text": [
        " \n",
        "55210"
       ]
      },
      {
       "output_type": "stream",
       "stream": "stdout",
       "text": [
        " \n",
        "57773"
       ]
      },
      {
       "output_type": "stream",
       "stream": "stdout",
       "text": [
        " \n",
        "54542"
       ]
      },
      {
       "output_type": "stream",
       "stream": "stdout",
       "text": [
        " \n",
        "55241"
       ]
      },
      {
       "output_type": "stream",
       "stream": "stdout",
       "text": [
        " \n",
        "55244"
       ]
      },
      {
       "output_type": "stream",
       "stream": "stdout",
       "text": [
        " \n",
        "55253"
       ]
      },
      {
       "output_type": "stream",
       "stream": "stdout",
       "text": [
        " \n",
        "55238"
       ]
      },
      {
       "output_type": "stream",
       "stream": "stdout",
       "text": [
        " \n",
        "95520"
       ]
      },
      {
       "output_type": "stream",
       "stream": "stdout",
       "text": [
        " \n",
        "95507"
       ]
      },
      {
       "output_type": "stream",
       "stream": "stdout",
       "text": [
        " \n",
        "95044"
       ]
      },
      {
       "output_type": "stream",
       "stream": "stdout",
       "text": [
        " \n",
        "95580"
       ]
      },
      {
       "output_type": "stream",
       "stream": "stdout",
       "text": [
        " \n",
        "95021"
       ]
      },
      {
       "output_type": "stream",
       "stream": "stdout",
       "text": [
        " 94946\n",
        "59049"
       ]
      },
      {
       "output_type": "stream",
       "stream": "stdout",
       "text": [
        " \n",
        "90805"
       ]
      },
      {
       "output_type": "stream",
       "stream": "stdout",
       "text": [
        " 90806\n",
        "94992"
       ]
      },
      {
       "output_type": "stream",
       "stream": "stdout",
       "text": [
        " \n",
        "95205"
       ]
      },
      {
       "output_type": "stream",
       "stream": "stdout",
       "text": [
        " \n",
        "95071"
       ]
      },
      {
       "output_type": "stream",
       "stream": "stdout",
       "text": [
        " \n",
        "95256"
       ]
      },
      {
       "output_type": "stream",
       "stream": "stdout",
       "text": [
        " \n",
        "95707"
       ]
      },
      {
       "output_type": "stream",
       "stream": "stdout",
       "text": [
        " 95708\n",
        "91057"
       ]
      },
      {
       "output_type": "stream",
       "stream": "stdout",
       "text": [
        " 91058\n",
        "56615"
       ]
      },
      {
       "output_type": "stream",
       "stream": "stdout",
       "text": [
        " 55418\n",
        "95302"
       ]
      },
      {
       "output_type": "stream",
       "stream": "stdout",
       "text": [
        " \n",
        "94823"
       ]
      },
      {
       "output_type": "stream",
       "stream": "stdout",
       "text": [
        " \n",
        "95382"
       ]
      },
      {
       "output_type": "stream",
       "stream": "stdout",
       "text": [
        " \n",
        "95004"
       ]
      },
      {
       "output_type": "stream",
       "stream": "stdout",
       "text": [
        " \n",
        "94746"
       ]
      },
      {
       "output_type": "stream",
       "stream": "stdout",
       "text": [
        " \n",
        "59036"
       ]
      },
      {
       "output_type": "stream",
       "stream": "stdout",
       "text": [
        " \n",
        "95098"
       ]
      },
      {
       "output_type": "stream",
       "stream": "stdout",
       "text": [
        " \n",
        "95808"
       ]
      },
      {
       "output_type": "stream",
       "stream": "stdout",
       "text": [
        " \n",
        "96159"
       ]
      },
      {
       "output_type": "stream",
       "stream": "stdout",
       "text": [
        " \n",
        "95207"
       ]
      },
      {
       "output_type": "stream",
       "stream": "stdout",
       "text": [
        " \n",
        "94976"
       ]
      },
      {
       "output_type": "stream",
       "stream": "stdout",
       "text": [
        " 94977\n",
        "94640"
       ]
      },
      {
       "output_type": "stream",
       "stream": "stdout",
       "text": [
        " \n",
        "95818"
       ]
      },
      {
       "output_type": "stream",
       "stream": "stdout",
       "text": [
        " \n",
        "95521"
       ]
      },
      {
       "output_type": "stream",
       "stream": "stdout",
       "text": [
        " \n",
        "95463"
       ]
      },
      {
       "output_type": "stream",
       "stream": "stdout",
       "text": [
        " \n",
        "94948"
       ]
      },
      {
       "output_type": "stream",
       "stream": "stdout",
       "text": [
        " \n",
        "95096"
       ]
      },
      {
       "output_type": "stream",
       "stream": "stdout",
       "text": [
        " \n",
        "94921"
       ]
      },
      {
       "output_type": "stream",
       "stream": "stdout",
       "text": [
        " 95068\n",
        "59074"
       ]
      },
      {
       "output_type": "stream",
       "stream": "stdout",
       "text": [
        " 59075\n",
        "59058"
       ]
      },
      {
       "output_type": "stream",
       "stream": "stdout",
       "text": [
        " 59060\n",
        "93568"
       ]
      },
      {
       "output_type": "stream",
       "stream": "stdout",
       "text": [
        " \n",
        "95286"
       ]
      },
      {
       "output_type": "stream",
       "stream": "stdout",
       "text": [
        " 95287\n",
        "93652"
       ]
      },
      {
       "output_type": "stream",
       "stream": "stdout",
       "text": [
        " 93766\n",
        "94242"
       ]
      },
      {
       "output_type": "stream",
       "stream": "stdout",
       "text": [
        " \n",
        "94165"
       ]
      },
      {
       "output_type": "stream",
       "stream": "stdout",
       "text": [
        " \n",
        "94057"
       ]
      },
      {
       "output_type": "stream",
       "stream": "stdout",
       "text": [
        " 94162\n",
        "94068"
       ]
      },
      {
       "output_type": "stream",
       "stream": "stdout",
       "text": [
        " 94069\n",
        "93909"
       ]
      },
      {
       "output_type": "stream",
       "stream": "stdout",
       "text": [
        " \n",
        "94318"
       ]
      },
      {
       "output_type": "stream",
       "stream": "stdout",
       "text": [
        " 94320\n",
        "93828"
       ]
      },
      {
       "output_type": "stream",
       "stream": "stdout",
       "text": [
        " 93812\n",
        "93958"
       ]
      },
      {
       "output_type": "stream",
       "stream": "stdout",
       "text": [
        " \n",
        "93539"
       ]
      },
      {
       "output_type": "stream",
       "stream": "stdout",
       "text": [
        " \n",
        "93683"
       ]
      },
      {
       "output_type": "stream",
       "stream": "stdout",
       "text": [
        " 93684\n",
        "93708"
       ]
      },
      {
       "output_type": "stream",
       "stream": "stdout",
       "text": [
        " 93709\n",
        "93694"
       ]
      },
      {
       "output_type": "stream",
       "stream": "stdout",
       "text": [
        " \n",
        "93654"
       ]
      },
      {
       "output_type": "stream",
       "stream": "stdout",
       "text": [
        " \n",
        "93634"
       ]
      },
      {
       "output_type": "stream",
       "stream": "stdout",
       "text": [
        " \n",
        "93633"
       ]
      },
      {
       "output_type": "stream",
       "stream": "stdout",
       "text": [
        " \n",
        "93585"
       ]
      },
      {
       "output_type": "stream",
       "stream": "stdout",
       "text": [
        " 93586\n",
        "93594"
       ]
      },
      {
       "output_type": "stream",
       "stream": "stdout",
       "text": [
        " 93595\n",
        "93377"
       ]
      },
      {
       "output_type": "stream",
       "stream": "stdout",
       "text": [
        " 93467\n",
        "93375"
       ]
      },
      {
       "output_type": "stream",
       "stream": "stdout",
       "text": [
        " 93463\n",
        "93409"
       ]
      },
      {
       "output_type": "stream",
       "stream": "stdout",
       "text": [
        " \n",
        "92591"
       ]
      },
      {
       "output_type": "stream",
       "stream": "stdout",
       "text": [
        " \n",
        "93440"
       ]
      },
      {
       "output_type": "stream",
       "stream": "stdout",
       "text": [
        " 93439\n",
        "90628"
       ]
      },
      {
       "output_type": "stream",
       "stream": "stdout",
       "text": [
        " \n",
        "90712"
       ]
      },
      {
       "output_type": "stream",
       "stream": "stdout",
       "text": [
        " \n",
        "90653"
       ]
      },
      {
       "output_type": "stream",
       "stream": "stdout",
       "text": [
        " \n",
        "93550"
       ]
      },
      {
       "output_type": "stream",
       "stream": "stdout",
       "text": [
        " \n",
        "90496"
       ]
      },
      {
       "output_type": "stream",
       "stream": "stdout",
       "text": [
        " \n",
        "90514"
       ]
      },
      {
       "output_type": "stream",
       "stream": "stdout",
       "text": [
        " \n",
        "90627"
       ]
      },
      {
       "output_type": "stream",
       "stream": "stdout",
       "text": [
        " \n",
        "90202"
       ]
      },
      {
       "output_type": "stream",
       "stream": "stdout",
       "text": [
        " \n",
        "90072"
       ]
      },
      {
       "output_type": "stream",
       "stream": "stdout",
       "text": [
        " \n",
        "90800"
       ]
      },
      {
       "output_type": "stream",
       "stream": "stdout",
       "text": [
        " \n",
        "89134"
       ]
      },
      {
       "output_type": "stream",
       "stream": "stdout",
       "text": [
        " \n",
        "89932"
       ]
      },
      {
       "output_type": "stream",
       "stream": "stdout",
       "text": [
        " \n",
        "74037"
       ]
      },
      {
       "output_type": "stream",
       "stream": "stdout",
       "text": [
        " \n",
        "86408"
       ]
      },
      {
       "output_type": "stream",
       "stream": "stdout",
       "text": [
        " 66013\n",
        "88074"
       ]
      },
      {
       "output_type": "stream",
       "stream": "stdout",
       "text": [
        " \n",
        "86408"
       ]
      },
      {
       "output_type": "stream",
       "stream": "stdout",
       "text": [
        " 66010\n",
        "59159"
       ]
      },
      {
       "output_type": "stream",
       "stream": "stdout",
       "text": [
        " 66009\n",
        "91137"
       ]
      },
      {
       "output_type": "stream",
       "stream": "stdout",
       "text": [
        " 91138\n",
        "89061"
       ]
      },
      {
       "output_type": "stream",
       "stream": "stdout",
       "text": [
        " \n",
        "87479"
       ]
      },
      {
       "output_type": "stream",
       "stream": "stdout",
       "text": [
        " \n",
        "85024"
       ]
      },
      {
       "output_type": "stream",
       "stream": "stdout",
       "text": [
        " \n",
        "76160"
       ]
      },
      {
       "output_type": "stream",
       "stream": "stdout",
       "text": [
        " 84842\n",
        "87473"
       ]
      },
      {
       "output_type": "stream",
       "stream": "stdout",
       "text": [
        " \n",
        "88989"
       ]
      },
      {
       "output_type": "stream",
       "stream": "stdout",
       "text": [
        " \n",
        "59065"
       ]
      },
      {
       "output_type": "stream",
       "stream": "stdout",
       "text": [
        " \n",
        "89763"
       ]
      },
      {
       "output_type": "stream",
       "stream": "stdout",
       "text": [
        " \n",
        "74076"
       ]
      },
      {
       "output_type": "stream",
       "stream": "stdout",
       "text": [
        " \n",
        "79674"
       ]
      },
      {
       "output_type": "stream",
       "stream": "stdout",
       "text": [
        " \n",
        "86395"
       ]
      },
      {
       "output_type": "stream",
       "stream": "stdout",
       "text": [
        " \n",
        "89289"
       ]
      },
      {
       "output_type": "stream",
       "stream": "stdout",
       "text": [
        " 89153\n",
        "75127"
       ]
      },
      {
       "output_type": "stream",
       "stream": "stdout",
       "text": [
        " \n",
        "74074"
       ]
      },
      {
       "output_type": "stream",
       "stream": "stdout",
       "text": [
        " \n",
        "86351"
       ]
      },
      {
       "output_type": "stream",
       "stream": "stdout",
       "text": [
        " \n",
        "88895"
       ]
      },
      {
       "output_type": "stream",
       "stream": "stdout",
       "text": [
        " \n",
        "86233"
       ]
      },
      {
       "output_type": "stream",
       "stream": "stdout",
       "text": [
        " 86234\n",
        "88899"
       ]
      },
      {
       "output_type": "stream",
       "stream": "stdout",
       "text": [
        " \n",
        "88460"
       ]
      },
      {
       "output_type": "stream",
       "stream": "stdout",
       "text": [
        " \n",
        "88438"
       ]
      },
      {
       "output_type": "stream",
       "stream": "stdout",
       "text": [
        " \n",
        "90778"
       ]
      },
      {
       "output_type": "stream",
       "stream": "stdout",
       "text": [
        " \n",
        "88346"
       ]
      },
      {
       "output_type": "stream",
       "stream": "stdout",
       "text": [
        " \n",
        "88453"
       ]
      },
      {
       "output_type": "stream",
       "stream": "stdout",
       "text": [
        " \n",
        "84592"
       ]
      },
      {
       "output_type": "stream",
       "stream": "stdout",
       "text": [
        " \n",
        "88457"
       ]
      },
      {
       "output_type": "stream",
       "stream": "stdout",
       "text": [
        " \n",
        "72138"
       ]
      },
      {
       "output_type": "stream",
       "stream": "stdout",
       "text": [
        " \n",
        "65930"
       ]
      },
      {
       "output_type": "stream",
       "stream": "stdout",
       "text": [
        " \n",
        "72124"
       ]
      },
      {
       "output_type": "stream",
       "stream": "stdout",
       "text": [
        " \n",
        "74104"
       ]
      },
      {
       "output_type": "stream",
       "stream": "stdout",
       "text": [
        " 74105\n",
        "72124"
       ]
      },
      {
       "output_type": "stream",
       "stream": "stdout",
       "text": [
        " 71334\n",
        "74073"
       ]
      },
      {
       "output_type": "stream",
       "stream": "stdout",
       "text": [
        " 74089\n",
        "88209"
       ]
      },
      {
       "output_type": "stream",
       "stream": "stdout",
       "text": [
        " \n",
        "88163"
       ]
      },
      {
       "output_type": "stream",
       "stream": "stdout",
       "text": [
        " 88161\n",
        "88367"
       ]
      },
      {
       "output_type": "stream",
       "stream": "stdout",
       "text": [
        " \n",
        "72125"
       ]
      },
      {
       "output_type": "stream",
       "stream": "stdout",
       "text": [
        " \n",
        "76159"
       ]
      },
      {
       "output_type": "stream",
       "stream": "stdout",
       "text": [
        " \n",
        "74065"
       ]
      },
      {
       "output_type": "stream",
       "stream": "stdout",
       "text": [
        " \n",
        "86415"
       ]
      },
      {
       "output_type": "stream",
       "stream": "stdout",
       "text": [
        " \n",
        "67008"
       ]
      },
      {
       "output_type": "stream",
       "stream": "stdout",
       "text": [
        " \n",
        "74028"
       ]
      },
      {
       "output_type": "stream",
       "stream": "stdout",
       "text": [
        " 74029\n",
        "71335"
       ]
      },
      {
       "output_type": "stream",
       "stream": "stdout",
       "text": [
        " 70333\n",
        "74049"
       ]
      },
      {
       "output_type": "stream",
       "stream": "stdout",
       "text": [
        " 74051\n",
        "66227"
       ]
      },
      {
       "output_type": "stream",
       "stream": "stdout",
       "text": [
        " 66224\n",
        "65936"
       ]
      },
      {
       "output_type": "stream",
       "stream": "stdout",
       "text": [
        " \n",
        "66179"
       ]
      },
      {
       "output_type": "stream",
       "stream": "stdout",
       "text": [
        " \n",
        "65908"
       ]
      },
      {
       "output_type": "stream",
       "stream": "stdout",
       "text": [
        " \n",
        "66169"
       ]
      },
      {
       "output_type": "stream",
       "stream": "stdout",
       "text": [
        " \n",
        "59082"
       ]
      },
      {
       "output_type": "stream",
       "stream": "stdout",
       "text": [
        " 59083\n",
        "59098"
       ]
      },
      {
       "output_type": "stream",
       "stream": "stdout",
       "text": [
        " \n",
        "65888"
       ]
      },
      {
       "output_type": "stream",
       "stream": "stdout",
       "text": [
        " 65889\n",
        "64037"
       ]
      },
      {
       "output_type": "stream",
       "stream": "stdout",
       "text": [
        " \n",
        "55307"
       ]
      },
      {
       "output_type": "stream",
       "stream": "stdout",
       "text": [
        " \n",
        "57877"
       ]
      },
      {
       "output_type": "stream",
       "stream": "stdout",
       "text": [
        " \n",
        "57847"
       ]
      },
      {
       "output_type": "stream",
       "stream": "stdout",
       "text": [
        " \n",
        "57839"
       ]
      },
      {
       "output_type": "stream",
       "stream": "stdout",
       "text": [
        " \n",
        "58619"
       ]
      },
      {
       "output_type": "stream",
       "stream": "stdout",
       "text": [
        " \n",
        "55366"
       ]
      },
      {
       "output_type": "stream",
       "stream": "stdout",
       "text": [
        " \n",
        "55302"
       ]
      },
      {
       "output_type": "stream",
       "stream": "stdout",
       "text": [
        " \n",
        "43376"
       ]
      },
      {
       "output_type": "stream",
       "stream": "stdout",
       "text": [
        " 54542\n",
        "57795"
       ]
      },
      {
       "output_type": "stream",
       "stream": "stdout",
       "text": [
        " \n",
        "57784"
       ]
      },
      {
       "output_type": "stream",
       "stream": "stdout",
       "text": [
        " \n",
        "57780"
       ]
      },
      {
       "output_type": "stream",
       "stream": "stdout",
       "text": [
        " \n",
        "55422"
       ]
      },
      {
       "output_type": "stream",
       "stream": "stdout",
       "text": [
        " \n",
        "55230"
       ]
      },
      {
       "output_type": "stream",
       "stream": "stdout",
       "text": [
        " \n",
        "58615"
       ]
      },
      {
       "output_type": "stream",
       "stream": "stdout",
       "text": [
        " 58616\n",
        "55399"
       ]
      },
      {
       "output_type": "stream",
       "stream": "stdout",
       "text": [
        " \n",
        "55438"
       ]
      },
      {
       "output_type": "stream",
       "stream": "stdout",
       "text": [
        " \n",
        "57736"
       ]
      },
      {
       "output_type": "stream",
       "stream": "stdout",
       "text": [
        " \n",
        "57788"
       ]
      },
      {
       "output_type": "stream",
       "stream": "stdout",
       "text": [
        " \n",
        "57721"
       ]
      },
      {
       "output_type": "stream",
       "stream": "stdout",
       "text": [
        " \n",
        "55266"
       ]
      },
      {
       "output_type": "stream",
       "stream": "stdout",
       "text": [
        " \n",
        "55264"
       ]
      },
      {
       "output_type": "stream",
       "stream": "stdout",
       "text": [
        " \n",
        "95472"
       ]
      },
      {
       "output_type": "stream",
       "stream": "stdout",
       "text": [
        " \n",
        "94976"
       ]
      },
      {
       "output_type": "stream",
       "stream": "stdout",
       "text": [
        " \n",
        "59100"
       ]
      },
      {
       "output_type": "stream",
       "stream": "stdout",
       "text": [
        " 59160\n",
        "95700"
       ]
      },
      {
       "output_type": "stream",
       "stream": "stdout",
       "text": [
        " \n",
        "95418"
       ]
      },
      {
       "output_type": "stream",
       "stream": "stdout",
       "text": [
        " 95419\n",
        "90106"
       ]
      },
      {
       "output_type": "stream",
       "stream": "stdout",
       "text": [
        " \n",
        "94716"
       ]
      },
      {
       "output_type": "stream",
       "stream": "stdout",
       "text": [
        " \n",
        "59112"
       ]
      },
      {
       "output_type": "stream",
       "stream": "stdout",
       "text": [
        " 59113\n",
        "94975"
       ]
      },
      {
       "output_type": "stream",
       "stream": "stdout",
       "text": [
        " \n",
        "95043"
       ]
      },
      {
       "output_type": "stream",
       "stream": "stdout",
       "text": [
        " \n",
        "91147"
       ]
      },
      {
       "output_type": "stream",
       "stream": "stdout",
       "text": [
        " \n",
        "95807"
       ]
      },
      {
       "output_type": "stream",
       "stream": "stdout",
       "text": [
        " \n",
        "95020"
       ]
      },
      {
       "output_type": "stream",
       "stream": "stdout",
       "text": [
        " \n",
        "95291"
       ]
      },
      {
       "output_type": "stream",
       "stream": "stdout",
       "text": [
        " \n",
        "95210"
       ]
      },
      {
       "output_type": "stream",
       "stream": "stdout",
       "text": [
        " 95211\n",
        "95061"
       ]
      },
      {
       "output_type": "stream",
       "stream": "stdout",
       "text": [
        " \n",
        "95804"
       ]
      },
      {
       "output_type": "stream",
       "stream": "stdout",
       "text": [
        " \n",
        "95317"
       ]
      },
      {
       "output_type": "stream",
       "stream": "stdout",
       "text": [
        " \n",
        "94795"
       ]
      },
      {
       "output_type": "stream",
       "stream": "stdout",
       "text": [
        " \n",
        "59061"
       ]
      },
      {
       "output_type": "stream",
       "stream": "stdout",
       "text": [
        " 59062\n",
        "93511"
       ]
      },
      {
       "output_type": "stream",
       "stream": "stdout",
       "text": [
        " \n",
        "95106"
       ]
      },
      {
       "output_type": "stream",
       "stream": "stdout",
       "text": [
        " \n",
        "95046"
       ]
      },
      {
       "output_type": "stream",
       "stream": "stdout",
       "text": [
        " \n",
        "95195"
       ]
      },
      {
       "output_type": "stream",
       "stream": "stdout",
       "text": [
        " \n",
        "95340"
       ]
      },
      {
       "output_type": "stream",
       "stream": "stdout",
       "text": [
        " \n",
        "95069"
       ]
      },
      {
       "output_type": "stream",
       "stream": "stdout",
       "text": [
        " 95070\n",
        "95177"
       ]
      },
      {
       "output_type": "stream",
       "stream": "stdout",
       "text": [
        " 95178\n",
        "91145"
       ]
      },
      {
       "output_type": "stream",
       "stream": "stdout",
       "text": [
        " 91146\n",
        "94616"
       ]
      },
      {
       "output_type": "stream",
       "stream": "stdout",
       "text": [
        " \n",
        "91131"
       ]
      },
      {
       "output_type": "stream",
       "stream": "stdout",
       "text": [
        " \n",
        "94813"
       ]
      },
      {
       "output_type": "stream",
       "stream": "stdout",
       "text": [
        " \n",
        "94386"
       ]
      },
      {
       "output_type": "stream",
       "stream": "stdout",
       "text": [
        " \n",
        "94784"
       ]
      },
      {
       "output_type": "stream",
       "stream": "stdout",
       "text": [
        " \n",
        "94522"
       ]
      },
      {
       "output_type": "stream",
       "stream": "stdout",
       "text": [
        " \n",
        "94477"
       ]
      },
      {
       "output_type": "stream",
       "stream": "stdout",
       "text": [
        " \n",
        "93640"
       ]
      },
      {
       "output_type": "stream",
       "stream": "stdout",
       "text": [
        " 93653\n",
        "93640"
       ]
      },
      {
       "output_type": "stream",
       "stream": "stdout",
       "text": [
        " 93668\n",
        "94456"
       ]
      },
      {
       "output_type": "stream",
       "stream": "stdout",
       "text": [
        " 94457\n",
        "94757"
       ]
      },
      {
       "output_type": "stream",
       "stream": "stdout",
       "text": [
        " \n",
        "94584"
       ]
      },
      {
       "output_type": "stream",
       "stream": "stdout",
       "text": [
        " \n",
        "94461"
       ]
      },
      {
       "output_type": "stream",
       "stream": "stdout",
       "text": [
        " 94519\n",
        "94324"
       ]
      },
      {
       "output_type": "stream",
       "stream": "stdout",
       "text": [
        " 94326\n",
        "94571"
       ]
      },
      {
       "output_type": "stream",
       "stream": "stdout",
       "text": [
        " 94461\n",
        "94708"
       ]
      },
      {
       "output_type": "stream",
       "stream": "stdout",
       "text": [
        " 94709\n",
        "94496"
       ]
      },
      {
       "output_type": "stream",
       "stream": "stdout",
       "text": [
        " \n",
        "94366"
       ]
      },
      {
       "output_type": "stream",
       "stream": "stdout",
       "text": [
        " \n",
        "94702"
       ]
      },
      {
       "output_type": "stream",
       "stream": "stdout",
       "text": [
        " 94703\n",
        "94704"
       ]
      },
      {
       "output_type": "stream",
       "stream": "stdout",
       "text": [
        " 94705\n",
        "93997"
       ]
      },
      {
       "output_type": "stream",
       "stream": "stdout",
       "text": [
        " \n",
        "94084"
       ]
      },
      {
       "output_type": "stream",
       "stream": "stdout",
       "text": [
        " 94085\n",
        "94109"
       ]
      },
      {
       "output_type": "stream",
       "stream": "stdout",
       "text": [
        " \n",
        "93929"
       ]
      },
      {
       "output_type": "stream",
       "stream": "stdout",
       "text": [
        " 93930\n",
        "93862"
       ]
      },
      {
       "output_type": "stream",
       "stream": "stdout",
       "text": [
        " 93863\n",
        "93913"
       ]
      },
      {
       "output_type": "stream",
       "stream": "stdout",
       "text": [
        " 93914\n",
        "93905"
       ]
      },
      {
       "output_type": "stream",
       "stream": "stdout",
       "text": [
        " 93912\n",
        "93905"
       ]
      },
      {
       "output_type": "stream",
       "stream": "stdout",
       "text": [
        " \n",
        "94091"
       ]
      },
      {
       "output_type": "stream",
       "stream": "stdout",
       "text": [
        " \n",
        "93469"
       ]
      },
      {
       "output_type": "stream",
       "stream": "stdout",
       "text": [
        " \n",
        "93516"
       ]
      },
      {
       "output_type": "stream",
       "stream": "stdout",
       "text": [
        " \n",
        "93437"
       ]
      },
      {
       "output_type": "stream",
       "stream": "stdout",
       "text": [
        " 93436\n",
        "93746"
       ]
      },
      {
       "output_type": "stream",
       "stream": "stdout",
       "text": [
        " \n",
        "93640"
       ]
      },
      {
       "output_type": "stream",
       "stream": "stdout",
       "text": [
        " 93655\n",
        "93640"
       ]
      },
      {
       "output_type": "stream",
       "stream": "stdout",
       "text": [
        " 93654\n",
        "93674"
       ]
      },
      {
       "output_type": "stream",
       "stream": "stdout",
       "text": [
        " 93675\n",
        "93449"
       ]
      },
      {
       "output_type": "stream",
       "stream": "stdout",
       "text": [
        " 93450\n",
        "93582"
       ]
      },
      {
       "output_type": "stream",
       "stream": "stdout",
       "text": [
        " 93581\n",
        "93375"
       ]
      },
      {
       "output_type": "stream",
       "stream": "stdout",
       "text": [
        " \n",
        "93367"
       ]
      },
      {
       "output_type": "stream",
       "stream": "stdout",
       "text": [
        " \n",
        "90827"
       ]
      },
      {
       "output_type": "stream",
       "stream": "stdout",
       "text": [
        " 90764\n",
        "92604"
       ]
      },
      {
       "output_type": "stream",
       "stream": "stdout",
       "text": [
        " \n",
        "92608"
       ]
      },
      {
       "output_type": "stream",
       "stream": "stdout",
       "text": [
        " 93348\n",
        "94488"
       ]
      },
      {
       "output_type": "stream",
       "stream": "stdout",
       "text": [
        " \n",
        "93521"
       ]
      },
      {
       "output_type": "stream",
       "stream": "stdout",
       "text": [
        " \n",
        "91078"
       ]
      },
      {
       "output_type": "stream",
       "stream": "stdout",
       "text": [
        " \n",
        "92541"
       ]
      },
      {
       "output_type": "stream",
       "stream": "stdout",
       "text": [
        " \n",
        "91063"
       ]
      },
      {
       "output_type": "stream",
       "stream": "stdout",
       "text": [
        " \n",
        "90946"
       ]
      },
      {
       "output_type": "stream",
       "stream": "stdout",
       "text": [
        " \n",
        "93561"
       ]
      },
      {
       "output_type": "stream",
       "stream": "stdout",
       "text": [
        " \n",
        "95221"
       ]
      },
      {
       "output_type": "stream",
       "stream": "stdout",
       "text": [
        " 95224\n",
        "92542"
       ]
      },
      {
       "output_type": "stream",
       "stream": "stdout",
       "text": [
        " \n",
        "90631"
       ]
      },
      {
       "output_type": "stream",
       "stream": "stdout",
       "text": [
        " \n",
        "90083"
       ]
      },
      {
       "output_type": "stream",
       "stream": "stdout",
       "text": [
        " \n",
        "91054"
       ]
      },
      {
       "output_type": "stream",
       "stream": "stdout",
       "text": [
        " 91055\n",
        "90838"
       ]
      },
      {
       "output_type": "stream",
       "stream": "stdout",
       "text": [
        " \n",
        "88133"
       ]
      },
      {
       "output_type": "stream",
       "stream": "stdout",
       "text": [
        " \n",
        "94037"
       ]
      },
      {
       "output_type": "stream",
       "stream": "stdout",
       "text": [
        " \n",
        "90652"
       ]
      },
      {
       "output_type": "stream",
       "stream": "stdout",
       "text": [
        " 90655\n",
        "90799"
       ]
      },
      {
       "output_type": "stream",
       "stream": "stdout",
       "text": [
        " \n",
        "72119"
       ]
      },
      {
       "output_type": "stream",
       "stream": "stdout",
       "text": [
        " \n",
        "90392"
       ]
      },
      {
       "output_type": "stream",
       "stream": "stdout",
       "text": [
        " \n",
        "90832"
       ]
      },
      {
       "output_type": "stream",
       "stream": "stdout",
       "text": [
        " \n",
        "90389"
       ]
      },
      {
       "output_type": "stream",
       "stream": "stdout",
       "text": [
        " \n",
        "90498"
       ]
      },
      {
       "output_type": "stream",
       "stream": "stdout",
       "text": [
        " \n",
        "90165"
       ]
      },
      {
       "output_type": "stream",
       "stream": "stdout",
       "text": [
        " 90180\n",
        "90175"
       ]
      },
      {
       "output_type": "stream",
       "stream": "stdout",
       "text": [
        " \n",
        "90741"
       ]
      },
      {
       "output_type": "stream",
       "stream": "stdout",
       "text": [
        " \n",
        "93420"
       ]
      },
      {
       "output_type": "stream",
       "stream": "stdout",
       "text": [
        " \n",
        "90729"
       ]
      },
      {
       "output_type": "stream",
       "stream": "stdout",
       "text": [
        " \n",
        "93417"
       ]
      },
      {
       "output_type": "stream",
       "stream": "stdout",
       "text": [
        " \n",
        "89802"
       ]
      },
      {
       "output_type": "stream",
       "stream": "stdout",
       "text": [
        " \n",
        "93431"
       ]
      },
      {
       "output_type": "stream",
       "stream": "stdout",
       "text": [
        " \n",
        "90066"
       ]
      },
      {
       "output_type": "stream",
       "stream": "stdout",
       "text": [
        " \n",
        "90826"
       ]
      },
      {
       "output_type": "stream",
       "stream": "stdout",
       "text": [
        " \n",
        "90051"
       ]
      },
      {
       "output_type": "stream",
       "stream": "stdout",
       "text": [
        " \n",
        "90388"
       ]
      },
      {
       "output_type": "stream",
       "stream": "stdout",
       "text": [
        " \n",
        "89150"
       ]
      },
      {
       "output_type": "stream",
       "stream": "stdout",
       "text": [
        " 89151\n",
        "75127"
       ]
      },
      {
       "output_type": "stream",
       "stream": "stdout",
       "text": [
        " 89154\n",
        "90036"
       ]
      },
      {
       "output_type": "stream",
       "stream": "stdout",
       "text": [
        " \n",
        "88383"
       ]
      },
      {
       "output_type": "stream",
       "stream": "stdout",
       "text": [
        " \n",
        "89237"
       ]
      },
      {
       "output_type": "stream",
       "stream": "stdout",
       "text": [
        " 89324\n",
        "89061"
       ]
      },
      {
       "output_type": "stream",
       "stream": "stdout",
       "text": [
        " 89163\n",
        "89150"
       ]
      },
      {
       "output_type": "stream",
       "stream": "stdout",
       "text": [
        " 89163\n",
        "88305"
       ]
      },
      {
       "output_type": "stream",
       "stream": "stdout",
       "text": [
        " \n",
        "85058"
       ]
      },
      {
       "output_type": "stream",
       "stream": "stdout",
       "text": [
        " \n",
        "89306"
       ]
      },
      {
       "output_type": "stream",
       "stream": "stdout",
       "text": [
        " \n",
        "89150"
       ]
      },
      {
       "output_type": "stream",
       "stream": "stdout",
       "text": [
        " \n",
        "88211"
       ]
      },
      {
       "output_type": "stream",
       "stream": "stdout",
       "text": [
        " \n",
        "89225"
       ]
      },
      {
       "output_type": "stream",
       "stream": "stdout",
       "text": [
        " \n",
        "90076"
       ]
      },
      {
       "output_type": "stream",
       "stream": "stdout",
       "text": [
        " \n",
        "89245"
       ]
      },
      {
       "output_type": "stream",
       "stream": "stdout",
       "text": [
        " \n",
        "90058"
       ]
      },
      {
       "output_type": "stream",
       "stream": "stdout",
       "text": [
        " \n",
        "85025"
       ]
      },
      {
       "output_type": "stream",
       "stream": "stdout",
       "text": [
        " \n",
        "89246"
       ]
      },
      {
       "output_type": "stream",
       "stream": "stdout",
       "text": [
        " \n",
        "89002"
       ]
      },
      {
       "output_type": "stream",
       "stream": "stdout",
       "text": [
        " \n",
        "88240"
       ]
      },
      {
       "output_type": "stream",
       "stream": "stdout",
       "text": [
        " \n",
        "88309"
       ]
      },
      {
       "output_type": "stream",
       "stream": "stdout",
       "text": [
        " \n",
        "79673"
       ]
      },
      {
       "output_type": "stream",
       "stream": "stdout",
       "text": [
        " \n",
        "66104"
       ]
      },
      {
       "output_type": "stream",
       "stream": "stdout",
       "text": [
        " 79272\n",
        "88461"
       ]
      },
      {
       "output_type": "stream",
       "stream": "stdout",
       "text": [
        " 88460\n",
        "86393"
       ]
      },
      {
       "output_type": "stream",
       "stream": "stdout",
       "text": [
        " \n",
        "79268"
       ]
      },
      {
       "output_type": "stream",
       "stream": "stdout",
       "text": [
        " 79269\n",
        "91103"
       ]
      },
      {
       "output_type": "stream",
       "stream": "stdout",
       "text": [
        " \n",
        "84841"
       ]
      },
      {
       "output_type": "stream",
       "stream": "stdout",
       "text": [
        " 85043\n",
        "74073"
       ]
      },
      {
       "output_type": "stream",
       "stream": "stdout",
       "text": [
        " 74090\n",
        "88900"
       ]
      },
      {
       "output_type": "stream",
       "stream": "stdout",
       "text": [
        " \n",
        "88647"
       ]
      },
      {
       "output_type": "stream",
       "stream": "stdout",
       "text": [
        " \n",
        "75097"
       ]
      },
      {
       "output_type": "stream",
       "stream": "stdout",
       "text": [
        " \n",
        "88588"
       ]
      },
      {
       "output_type": "stream",
       "stream": "stdout",
       "text": [
        " \n",
        "87369"
       ]
      },
      {
       "output_type": "stream",
       "stream": "stdout",
       "text": [
        " \n",
        "88636"
       ]
      },
      {
       "output_type": "stream",
       "stream": "stdout",
       "text": [
        " \n",
        "86415"
       ]
      },
      {
       "output_type": "stream",
       "stream": "stdout",
       "text": [
        " 88347\n",
        "88459"
       ]
      },
      {
       "output_type": "stream",
       "stream": "stdout",
       "text": [
        " \n",
        "85041"
       ]
      },
      {
       "output_type": "stream",
       "stream": "stdout",
       "text": [
        " 85042\n",
        "88320"
       ]
      },
      {
       "output_type": "stream",
       "stream": "stdout",
       "text": [
        " \n",
        "88319"
       ]
      },
      {
       "output_type": "stream",
       "stream": "stdout",
       "text": [
        " \n",
        "88431"
       ]
      },
      {
       "output_type": "stream",
       "stream": "stdout",
       "text": [
        " \n",
        "88390"
       ]
      },
      {
       "output_type": "stream",
       "stream": "stdout",
       "text": [
        " \n",
        "71324"
       ]
      },
      {
       "output_type": "stream",
       "stream": "stdout",
       "text": [
        " \n",
        "72134"
       ]
      },
      {
       "output_type": "stream",
       "stream": "stdout",
       "text": [
        " 71341\n",
        "86352"
       ]
      },
      {
       "output_type": "stream",
       "stream": "stdout",
       "text": [
        " 86353\n",
        "88165"
       ]
      },
      {
       "output_type": "stream",
       "stream": "stdout",
       "text": [
        " \n",
        "88129"
       ]
      },
      {
       "output_type": "stream",
       "stream": "stdout",
       "text": [
        " 88161\n",
        "88245"
       ]
      },
      {
       "output_type": "stream",
       "stream": "stdout",
       "text": [
        " \n",
        "87843"
       ]
      },
      {
       "output_type": "stream",
       "stream": "stdout",
       "text": [
        " 88078\n",
        "67014"
       ]
      },
      {
       "output_type": "stream",
       "stream": "stdout",
       "text": [
        " 67015\n",
        "74066"
       ]
      },
      {
       "output_type": "stream",
       "stream": "stdout",
       "text": [
        " \n",
        "88353"
       ]
      },
      {
       "output_type": "stream",
       "stream": "stdout",
       "text": [
        " \n",
        "86409"
       ]
      },
      {
       "output_type": "stream",
       "stream": "stdout",
       "text": [
        " \n",
        "71348"
       ]
      },
      {
       "output_type": "stream",
       "stream": "stdout",
       "text": [
        " 72119\n",
        "65984"
       ]
      },
      {
       "output_type": "stream",
       "stream": "stdout",
       "text": [
        " \n",
        "66833"
       ]
      },
      {
       "output_type": "stream",
       "stream": "stdout",
       "text": [
        " \n",
        "89001"
       ]
      },
      {
       "output_type": "stream",
       "stream": "stdout",
       "text": [
        " \n",
        "66784"
       ]
      },
      {
       "output_type": "stream",
       "stream": "stdout",
       "text": [
        " \n",
        "66213"
       ]
      },
      {
       "output_type": "stream",
       "stream": "stdout",
       "text": [
        " 66178\n",
        "66203"
       ]
      },
      {
       "output_type": "stream",
       "stream": "stdout",
       "text": [
        " 66204\n",
        "66814"
       ]
      },
      {
       "output_type": "stream",
       "stream": "stdout",
       "text": [
        " 66815\n",
        "66162"
       ]
      },
      {
       "output_type": "stream",
       "stream": "stdout",
       "text": [
        " \n",
        "88146"
       ]
      },
      {
       "output_type": "stream",
       "stream": "stdout",
       "text": [
        " \n",
        "61864"
       ]
      },
      {
       "output_type": "stream",
       "stream": "stdout",
       "text": [
        " \n",
        "66075"
       ]
      },
      {
       "output_type": "stream",
       "stream": "stdout",
       "text": [
        " \n",
        "59102"
       ]
      },
      {
       "output_type": "stream",
       "stream": "stdout",
       "text": [
        " \n",
        "65986"
       ]
      },
      {
       "output_type": "stream",
       "stream": "stdout",
       "text": [
        " \n",
        "66008"
       ]
      },
      {
       "output_type": "stream",
       "stream": "stdout",
       "text": [
        " \n",
        "65935"
       ]
      },
      {
       "output_type": "stream",
       "stream": "stdout",
       "text": [
        " \n",
        "66053"
       ]
      },
      {
       "output_type": "stream",
       "stream": "stdout",
       "text": [
        " \n",
        "65922"
       ]
      },
      {
       "output_type": "stream",
       "stream": "stdout",
       "text": [
        " 65925\n",
        "65920"
       ]
      },
      {
       "output_type": "stream",
       "stream": "stdout",
       "text": [
        " 65928\n",
        "64023"
       ]
      },
      {
       "output_type": "stream",
       "stream": "stdout",
       "text": [
        " 64022\n",
        "65910"
       ]
      },
      {
       "output_type": "stream",
       "stream": "stdout",
       "text": [
        " \n",
        "66081"
       ]
      },
      {
       "output_type": "stream",
       "stream": "stdout",
       "text": [
        " \n",
        "65335"
       ]
      },
      {
       "output_type": "stream",
       "stream": "stdout",
       "text": [
        " \n",
        "59080"
       ]
      },
      {
       "output_type": "stream",
       "stream": "stdout",
       "text": [
        " 59171\n",
        "61841"
       ]
      },
      {
       "output_type": "stream",
       "stream": "stdout",
       "text": [
        " \n",
        "89224"
       ]
      },
      {
       "output_type": "stream",
       "stream": "stdout",
       "text": [
        " \n",
        "59020"
       ]
      },
      {
       "output_type": "stream",
       "stream": "stdout",
       "text": [
        " \n",
        "58679"
       ]
      },
      {
       "output_type": "stream",
       "stream": "stdout",
       "text": [
        " 58680\n",
        "57775"
       ]
      },
      {
       "output_type": "stream",
       "stream": "stdout",
       "text": [
        " \n",
        "59163"
       ]
      },
      {
       "output_type": "stream",
       "stream": "stdout",
       "text": [
        " \n",
        "34391"
       ]
      },
      {
       "output_type": "stream",
       "stream": "stdout",
       "text": [
        " \n",
        "57778"
       ]
      },
      {
       "output_type": "stream",
       "stream": "stdout",
       "text": [
        " 57813\n",
        "58660"
       ]
      },
      {
       "output_type": "stream",
       "stream": "stdout",
       "text": [
        " 58661\n",
        "57826"
       ]
      },
      {
       "output_type": "stream",
       "stream": "stdout",
       "text": [
        " \n",
        "58649"
       ]
      },
      {
       "output_type": "stream",
       "stream": "stdout",
       "text": [
        " 58650\n",
        "58636"
       ]
      },
      {
       "output_type": "stream",
       "stream": "stdout",
       "text": [
        " 58637\n",
        "57813"
       ]
      },
      {
       "output_type": "stream",
       "stream": "stdout",
       "text": [
        " \n",
        "57796"
       ]
      },
      {
       "output_type": "stream",
       "stream": "stdout",
       "text": [
        " \n",
        "42992"
       ]
      },
      {
       "output_type": "stream",
       "stream": "stdout",
       "text": [
        " 57827\n",
        "56936"
       ]
      },
      {
       "output_type": "stream",
       "stream": "stdout",
       "text": [
        " 56958\n",
        "34393"
       ]
      },
      {
       "output_type": "stream",
       "stream": "stdout",
       "text": [
        " \n",
        "54771"
       ]
      },
      {
       "output_type": "stream",
       "stream": "stdout",
       "text": [
        " 42981\n",
        "56630"
       ]
      },
      {
       "output_type": "stream",
       "stream": "stdout",
       "text": [
        " \n",
        "58615"
       ]
      },
      {
       "output_type": "stream",
       "stream": "stdout",
       "text": [
        " \n",
        "55445"
       ]
      },
      {
       "output_type": "stream",
       "stream": "stdout",
       "text": [
        " \n",
        "55225"
       ]
      },
      {
       "output_type": "stream",
       "stream": "stdout",
       "text": [
        " \n",
        "55403"
       ]
      },
      {
       "output_type": "stream",
       "stream": "stdout",
       "text": [
        " \n",
        "55193"
       ]
      },
      {
       "output_type": "stream",
       "stream": "stdout",
       "text": [
        " \n",
        "55299"
       ]
      },
      {
       "output_type": "stream",
       "stream": "stdout",
       "text": [
        " \n",
        "43374"
       ]
      },
      {
       "output_type": "stream",
       "stream": "stdout",
       "text": [
        " 54540\n",
        "56974"
       ]
      },
      {
       "output_type": "stream",
       "stream": "stdout",
       "text": [
        " \n",
        "56907"
       ]
      },
      {
       "output_type": "stream",
       "stream": "stdout",
       "text": [
        " 56908\n",
        "55297"
       ]
      },
      {
       "output_type": "stream",
       "stream": "stdout",
       "text": [
        " \n",
        "34347"
       ]
      },
      {
       "output_type": "stream",
       "stream": "stdout",
       "text": [
        " \n",
        "42966"
       ]
      },
      {
       "output_type": "stream",
       "stream": "stdout",
       "text": [
        " 42967\n",
        "55254"
       ]
      },
      {
       "output_type": "stream",
       "stream": "stdout",
       "text": [
        " \n",
        "55302"
       ]
      },
      {
       "output_type": "stream",
       "stream": "stdout",
       "text": [
        " 55303\n",
        "55229"
       ]
      },
      {
       "output_type": "stream",
       "stream": "stdout",
       "text": [
        " \n",
        "42974"
       ]
      },
      {
       "output_type": "stream",
       "stream": "stdout",
       "text": [
        " \n",
        "42951"
       ]
      },
      {
       "output_type": "stream",
       "stream": "stdout",
       "text": [
        " 42952\n",
        "55184"
       ]
      },
      {
       "output_type": "stream",
       "stream": "stdout",
       "text": [
        " \n",
        "56905"
       ]
      },
      {
       "output_type": "stream",
       "stream": "stdout",
       "text": [
        " \n",
        "94752"
       ]
      },
      {
       "output_type": "stream",
       "stream": "stdout",
       "text": [
        " \n",
        "95144"
       ]
      },
      {
       "output_type": "stream",
       "stream": "stdout",
       "text": [
        " \n",
        "95528"
       ]
      },
      {
       "output_type": "stream",
       "stream": "stdout",
       "text": [
        " 95527\n",
        "91089"
       ]
      },
      {
       "output_type": "stream",
       "stream": "stdout",
       "text": [
        " 90948\n",
        "94963"
       ]
      },
      {
       "output_type": "stream",
       "stream": "stdout",
       "text": [
        " \n",
        "95574"
       ]
      },
      {
       "output_type": "stream",
       "stream": "stdout",
       "text": [
        " \n",
        "95579"
       ]
      },
      {
       "output_type": "stream",
       "stream": "stdout",
       "text": [
        " \n",
        "93362"
       ]
      },
      {
       "output_type": "stream",
       "stream": "stdout",
       "text": [
        " 93363\n",
        "95376"
       ]
      },
      {
       "output_type": "stream",
       "stream": "stdout",
       "text": [
        " \n",
        "95060"
       ]
      },
      {
       "output_type": "stream",
       "stream": "stdout",
       "text": [
        " \n",
        "93512"
       ]
      },
      {
       "output_type": "stream",
       "stream": "stdout",
       "text": [
        " \n",
        "90775"
       ]
      },
      {
       "output_type": "stream",
       "stream": "stdout",
       "text": [
        " \n",
        "95672"
       ]
      },
      {
       "output_type": "stream",
       "stream": "stdout",
       "text": [
        " \n",
        "94743"
       ]
      },
      {
       "output_type": "stream",
       "stream": "stdout",
       "text": [
        " \n",
        "90804"
       ]
      },
      {
       "output_type": "stream",
       "stream": "stdout",
       "text": [
        " \n",
        "95473"
       ]
      },
      {
       "output_type": "stream",
       "stream": "stdout",
       "text": [
        " \n",
        "94648"
       ]
      },
      {
       "output_type": "stream",
       "stream": "stdout",
       "text": [
        " 94818\n",
        "95390"
       ]
      },
      {
       "output_type": "stream",
       "stream": "stdout",
       "text": [
        " \n",
        "95675"
       ]
      },
      {
       "output_type": "stream",
       "stream": "stdout",
       "text": [
        " \n",
        "95477"
       ]
      },
      {
       "output_type": "stream",
       "stream": "stdout",
       "text": [
        " \n",
        "95389"
       ]
      },
      {
       "output_type": "stream",
       "stream": "stdout",
       "text": [
        " \n",
        "91089"
       ]
      },
      {
       "output_type": "stream",
       "stream": "stdout",
       "text": [
        " 91090\n",
        "95734"
       ]
      },
      {
       "output_type": "stream",
       "stream": "stdout",
       "text": [
        " \n",
        "94946"
       ]
      },
      {
       "output_type": "stream",
       "stream": "stdout",
       "text": [
        " 94902\n",
        "95498"
       ]
      },
      {
       "output_type": "stream",
       "stream": "stdout",
       "text": [
        " \n",
        "59065"
       ]
      },
      {
       "output_type": "stream",
       "stream": "stdout",
       "text": [
        " 59066\n",
        "91074"
       ]
      },
      {
       "output_type": "stream",
       "stream": "stdout",
       "text": [
        " 91075\n",
        "92514"
       ]
      },
      {
       "output_type": "stream",
       "stream": "stdout",
       "text": [
        " \n",
        "95790"
       ]
      },
      {
       "output_type": "stream",
       "stream": "stdout",
       "text": [
        " \n",
        "95006"
       ]
      },
      {
       "output_type": "stream",
       "stream": "stdout",
       "text": [
        " \n",
        "95307"
       ]
      },
      {
       "output_type": "stream",
       "stream": "stdout",
       "text": [
        " \n",
        "94993"
       ]
      },
      {
       "output_type": "stream",
       "stream": "stdout",
       "text": [
        " \n",
        "95657"
       ]
      },
      {
       "output_type": "stream",
       "stream": "stdout",
       "text": [
        " \n",
        "93545"
       ]
      },
      {
       "output_type": "stream",
       "stream": "stdout",
       "text": [
        " \n",
        "96130"
       ]
      },
      {
       "output_type": "stream",
       "stream": "stdout",
       "text": [
        " \n",
        "95582"
       ]
      },
      {
       "output_type": "stream",
       "stream": "stdout",
       "text": [
        " \n",
        "96153"
       ]
      },
      {
       "output_type": "stream",
       "stream": "stdout",
       "text": [
        " \n",
        "95002"
       ]
      },
      {
       "output_type": "stream",
       "stream": "stdout",
       "text": [
        " \n",
        "94980"
       ]
      },
      {
       "output_type": "stream",
       "stream": "stdout",
       "text": [
        " \n",
        "95683"
       ]
      },
      {
       "output_type": "stream",
       "stream": "stdout",
       "text": [
        " \n",
        "96215"
       ]
      },
      {
       "output_type": "stream",
       "stream": "stdout",
       "text": [
        " \n",
        "95494"
       ]
      },
      {
       "output_type": "stream",
       "stream": "stdout",
       "text": [
        " \n",
        "95824"
       ]
      },
      {
       "output_type": "stream",
       "stream": "stdout",
       "text": [
        " \n",
        "95047"
       ]
      },
      {
       "output_type": "stream",
       "stream": "stdout",
       "text": [
        " \n",
        "95038"
       ]
      },
      {
       "output_type": "stream",
       "stream": "stdout",
       "text": [
        " \n",
        "96520"
       ]
      },
      {
       "output_type": "stream",
       "stream": "stdout",
       "text": [
        " \n",
        "64019"
       ]
      },
      {
       "output_type": "stream",
       "stream": "stdout",
       "text": [
        " 64017\n",
        "95452"
       ]
      },
      {
       "output_type": "stream",
       "stream": "stdout",
       "text": [
        " \n",
        "95438"
       ]
      },
      {
       "output_type": "stream",
       "stream": "stdout",
       "text": [
        " \n",
        "95176"
       ]
      },
      {
       "output_type": "stream",
       "stream": "stdout",
       "text": [
        " \n",
        "95414"
       ]
      },
      {
       "output_type": "stream",
       "stream": "stdout",
       "text": [
        " 95415\n",
        "94920"
       ]
      },
      {
       "output_type": "stream",
       "stream": "stdout",
       "text": [
        " 95380\n",
        "95363"
       ]
      },
      {
       "output_type": "stream",
       "stream": "stdout",
       "text": [
        " \n",
        "95130"
       ]
      },
      {
       "output_type": "stream",
       "stream": "stdout",
       "text": [
        " \n",
        "95322"
       ]
      },
      {
       "output_type": "stream",
       "stream": "stdout",
       "text": [
        " 95323\n",
        "95263"
       ]
      },
      {
       "output_type": "stream",
       "stream": "stdout",
       "text": [
        " 95265\n",
        "95057"
       ]
      },
      {
       "output_type": "stream",
       "stream": "stdout",
       "text": [
        " \n",
        "95045"
       ]
      },
      {
       "output_type": "stream",
       "stream": "stdout",
       "text": [
        " \n",
        "95033"
       ]
      },
      {
       "output_type": "stream",
       "stream": "stdout",
       "text": [
        " \n",
        "59099"
       ]
      },
      {
       "output_type": "stream",
       "stream": "stdout",
       "text": [
        " 59100\n",
        "95299"
       ]
      },
      {
       "output_type": "stream",
       "stream": "stdout",
       "text": [
        " \n",
        "59101"
       ]
      },
      {
       "output_type": "stream",
       "stream": "stdout",
       "text": [
        " 59102\n",
        "95373"
       ]
      },
      {
       "output_type": "stream",
       "stream": "stdout",
       "text": [
        " \n",
        "91039"
       ]
      },
      {
       "output_type": "stream",
       "stream": "stdout",
       "text": [
        " 90757\n",
        "95292"
       ]
      },
      {
       "output_type": "stream",
       "stream": "stdout",
       "text": [
        " \n",
        "94889"
       ]
      },
      {
       "output_type": "stream",
       "stream": "stdout",
       "text": [
        " \n",
        "95098"
       ]
      },
      {
       "output_type": "stream",
       "stream": "stdout",
       "text": [
        " 95288\n",
        "94785"
       ]
      },
      {
       "output_type": "stream",
       "stream": "stdout",
       "text": [
        " \n",
        "94887"
       ]
      },
      {
       "output_type": "stream",
       "stream": "stdout",
       "text": [
        " \n",
        "94786"
       ]
      },
      {
       "output_type": "stream",
       "stream": "stdout",
       "text": [
        " \n",
        "94533"
       ]
      },
      {
       "output_type": "stream",
       "stream": "stdout",
       "text": [
        " \n",
        "94524"
       ]
      },
      {
       "output_type": "stream",
       "stream": "stdout",
       "text": [
        " \n",
        "94893"
       ]
      },
      {
       "output_type": "stream",
       "stream": "stdout",
       "text": [
        " 94907\n",
        "94473"
       ]
      },
      {
       "output_type": "stream",
       "stream": "stdout",
       "text": [
        " \n",
        "92603"
       ]
      },
      {
       "output_type": "stream",
       "stream": "stdout",
       "text": [
        " \n",
        "94466"
       ]
      },
      {
       "output_type": "stream",
       "stream": "stdout",
       "text": [
        " \n",
        "91068"
       ]
      },
      {
       "output_type": "stream",
       "stream": "stdout",
       "text": [
        " 94108\n",
        "94176"
       ]
      },
      {
       "output_type": "stream",
       "stream": "stdout",
       "text": [
        " 94458\n",
        "94770"
       ]
      },
      {
       "output_type": "stream",
       "stream": "stdout",
       "text": [
        " \n",
        "59052"
       ]
      },
      {
       "output_type": "stream",
       "stream": "stdout",
       "text": [
        " 59053\n",
        "processing all\n",
        "94946"
       ]
      },
      {
       "output_type": "stream",
       "stream": "stdout",
       "text": [
        " \n",
        "42981"
       ]
      },
      {
       "output_type": "stream",
       "stream": "stdout",
       "text": [
        " \n",
        "88321"
       ]
      },
      {
       "output_type": "stream",
       "stream": "stdout",
       "text": [
        " \n",
        "43376"
       ]
      },
      {
       "output_type": "stream",
       "stream": "stdout",
       "text": [
        " \n",
        "87843"
       ]
      },
      {
       "output_type": "stream",
       "stream": "stdout",
       "text": [
        " \n",
        "89128"
       ]
      },
      {
       "output_type": "stream",
       "stream": "stdout",
       "text": [
        " \n",
        "90007"
       ]
      },
      {
       "output_type": "stream",
       "stream": "stdout",
       "text": [
        " \n",
        "94176"
       ]
      },
      {
       "output_type": "stream",
       "stream": "stdout",
       "text": [
        " \n",
        "57768"
       ]
      },
      {
       "output_type": "stream",
       "stream": "stdout",
       "text": [
        " \n",
        "59047"
       ]
      },
      {
       "output_type": "stream",
       "stream": "stdout",
       "text": [
        " \n",
        "74082"
       ]
      },
      {
       "output_type": "stream",
       "stream": "stdout",
       "text": [
        " \n",
        "92586"
       ]
      },
      {
       "output_type": "stream",
       "stream": "stdout",
       "text": [
        " \n",
        "90621"
       ]
      },
      {
       "output_type": "stream",
       "stream": "stdout",
       "text": [
        " \n",
        "56936"
       ]
      },
      {
       "output_type": "stream",
       "stream": "stdout",
       "text": [
        " \n",
        "90157"
       ]
      },
      {
       "output_type": "stream",
       "stream": "stdout",
       "text": [
        " \n",
        "55418"
       ]
      },
      {
       "output_type": "stream",
       "stream": "stdout",
       "text": [
        " \n",
        "91101"
       ]
      },
      {
       "output_type": "stream",
       "stream": "stdout",
       "text": [
        " \n",
        "94585"
       ]
      },
      {
       "output_type": "stream",
       "stream": "stdout",
       "text": [
        " \n",
        "71334"
       ]
      },
      {
       "output_type": "stream",
       "stream": "stdout",
       "text": [
        " \n",
        "94712"
       ]
      },
      {
       "output_type": "stream",
       "stream": "stdout",
       "text": [
        " \n",
        "86271"
       ]
      },
      {
       "output_type": "stream",
       "stream": "stdout",
       "text": [
        " \n",
        "94057"
       ]
      },
      {
       "output_type": "stream",
       "stream": "stdout",
       "text": [
        " \n",
        "56615"
       ]
      },
      {
       "output_type": "stream",
       "stream": "stdout",
       "text": [
        " \n",
        "94173"
       ]
      },
      {
       "output_type": "stream",
       "stream": "stdout",
       "text": [
        " \n",
        "93897"
       ]
      },
      {
       "output_type": "stream",
       "stream": "stdout",
       "text": [
        " \n",
        "90349"
       ]
      },
      {
       "output_type": "stream",
       "stream": "stdout",
       "text": [
        " \n",
        "90412"
       ]
      },
      {
       "output_type": "stream",
       "stream": "stdout",
       "text": [
        " \n",
        "88145"
       ]
      },
      {
       "output_type": "stream",
       "stream": "stdout",
       "text": [
        " \n",
        "71353"
       ]
      },
      {
       "output_type": "stream",
       "stream": "stdout",
       "text": [
        " \n",
        "93517"
       ]
      },
      {
       "output_type": "stream",
       "stream": "stdout",
       "text": [
        " \n",
        "93640"
       ]
      },
      {
       "output_type": "stream",
       "stream": "stdout",
       "text": [
        " \n",
        "93652"
       ]
      },
      {
       "output_type": "stream",
       "stream": "stdout",
       "text": [
        " \n",
        "88188"
       ]
      },
      {
       "output_type": "stream",
       "stream": "stdout",
       "text": [
        " \n",
        "90827"
       ]
      },
      {
       "output_type": "stream",
       "stream": "stdout",
       "text": [
        " \n",
        "64024"
       ]
      },
      {
       "output_type": "stream",
       "stream": "stdout",
       "text": [
        " \n",
        "66068"
       ]
      },
      {
       "output_type": "stream",
       "stream": "stdout",
       "text": [
        " \n",
        "93822"
       ]
      },
      {
       "output_type": "stream",
       "stream": "stdout",
       "text": [
        " \n",
        "61869"
       ]
      },
      {
       "output_type": "stream",
       "stream": "stdout",
       "text": [
        " \n",
        "66233"
       ]
      },
      {
       "output_type": "stream",
       "stream": "stdout",
       "text": [
        " \n",
        "66160"
       ]
      },
      {
       "output_type": "stream",
       "stream": "stdout",
       "text": [
        " \n",
        "90921"
       ]
      },
      {
       "output_type": "stream",
       "stream": "stdout",
       "text": [
        " \n",
        "93812"
       ]
      },
      {
       "output_type": "stream",
       "stream": "stdout",
       "text": [
        " \n",
        "93993"
       ]
      },
      {
       "output_type": "stream",
       "stream": "stdout",
       "text": [
        " \n",
        "59051"
       ]
      },
      {
       "output_type": "stream",
       "stream": "stdout",
       "text": [
        " \n",
        "90753"
       ]
      },
      {
       "output_type": "stream",
       "stream": "stdout",
       "text": [
        " \n",
        "92550"
       ]
      },
      {
       "output_type": "stream",
       "stream": "stdout",
       "text": [
        " \n",
        "66939"
       ]
      },
      {
       "output_type": "stream",
       "stream": "stdout",
       "text": [
        " \n",
        "93962"
       ]
      },
      {
       "output_type": "stream",
       "stream": "stdout",
       "text": [
        " \n",
        "94902"
       ]
      },
      {
       "output_type": "stream",
       "stream": "stdout",
       "text": [
        " \n",
        "88283"
       ]
      },
      {
       "output_type": "stream",
       "stream": "stdout",
       "text": [
        " \n",
        "66814"
       ]
      },
      {
       "output_type": "stream",
       "stream": "stdout",
       "text": [
        " \n",
        "65983"
       ]
      },
      {
       "output_type": "stream",
       "stream": "stdout",
       "text": [
        " \n",
        "65916"
       ]
      },
      {
       "output_type": "stream",
       "stream": "stdout",
       "text": [
        " \n",
        "90397"
       ]
      },
      {
       "output_type": "stream",
       "stream": "stdout",
       "text": [
        " \n",
        "56936"
       ]
      },
      {
       "output_type": "stream",
       "stream": "stdout",
       "text": [
        " 56941\n",
        "66045"
       ]
      },
      {
       "output_type": "stream",
       "stream": "stdout",
       "text": [
        " \n",
        "91068"
       ]
      },
      {
       "output_type": "stream",
       "stream": "stdout",
       "text": [
        " \n",
        "93555"
       ]
      },
      {
       "output_type": "stream",
       "stream": "stdout",
       "text": [
        " \n",
        "66167"
       ]
      },
      {
       "output_type": "stream",
       "stream": "stdout",
       "text": [
        " \n",
        "87367"
       ]
      },
      {
       "output_type": "stream",
       "stream": "stdout",
       "text": [
        " \n",
        "94874"
       ]
      },
      {
       "output_type": "stream",
       "stream": "stdout",
       "text": [
        " \n",
        "94106"
       ]
      },
      {
       "output_type": "stream",
       "stream": "stdout",
       "text": [
        " \n",
        "42951"
       ]
      },
      {
       "output_type": "stream",
       "stream": "stdout",
       "text": [
        " \n",
        "55418"
       ]
      },
      {
       "output_type": "stream",
       "stream": "stdout",
       "text": [
        " 55446\n",
        "94684"
       ]
      },
      {
       "output_type": "stream",
       "stream": "stdout",
       "text": [
        " \n",
        "94639"
       ]
      },
      {
       "output_type": "stream",
       "stream": "stdout",
       "text": [
        " \n",
        "90363"
       ]
      },
      {
       "output_type": "stream",
       "stream": "stdout",
       "text": [
        " \n",
        "59016"
       ]
      },
      {
       "output_type": "stream",
       "stream": "stdout",
       "text": [
        " \n",
        "59048"
       ]
      },
      {
       "output_type": "stream",
       "stream": "stdout",
       "text": [
        " \n",
        "88360"
       ]
      },
      {
       "output_type": "stream",
       "stream": "stdout",
       "text": [
        " \n",
        "94815"
       ]
      },
      {
       "output_type": "stream",
       "stream": "stdout",
       "text": [
        " \n",
        "59017"
       ]
      },
      {
       "output_type": "stream",
       "stream": "stdout",
       "text": [
        " \n",
        "66091"
       ]
      },
      {
       "output_type": "stream",
       "stream": "stdout",
       "text": [
        " \n",
        "76160"
       ]
      },
      {
       "output_type": "stream",
       "stream": "stdout",
       "text": [
        " \n",
        "94461"
       ]
      },
      {
       "output_type": "stream",
       "stream": "stdout",
       "text": [
        " \n",
        "54540"
       ]
      },
      {
       "output_type": "stream",
       "stream": "stdout",
       "text": [
        " \n",
        "42968"
       ]
      },
      {
       "output_type": "stream",
       "stream": "stdout",
       "text": [
        " 42969\n",
        "54541"
       ]
      },
      {
       "output_type": "stream",
       "stream": "stdout",
       "text": [
        " 54542\n",
        "59054"
       ]
      },
      {
       "output_type": "stream",
       "stream": "stdout",
       "text": [
        " \n",
        "89116"
       ]
      },
      {
       "output_type": "stream",
       "stream": "stdout",
       "text": [
        " \n",
        "94989"
       ]
      },
      {
       "output_type": "stream",
       "stream": "stdout",
       "text": [
        " \n",
        "94796"
       ]
      },
      {
       "output_type": "stream",
       "stream": "stdout",
       "text": [
        " \n",
        "94040"
       ]
      },
      {
       "output_type": "stream",
       "stream": "stdout",
       "text": [
        " \n",
        "90814"
       ]
      },
      {
       "output_type": "stream",
       "stream": "stdout",
       "text": [
        " \n",
        "54775"
       ]
      },
      {
       "output_type": "stream",
       "stream": "stdout",
       "text": [
        " \n",
        "95200"
       ]
      },
      {
       "output_type": "stream",
       "stream": "stdout",
       "text": [
        " \n",
        "93382"
       ]
      },
      {
       "output_type": "stream",
       "stream": "stdout",
       "text": [
        " 93467\n",
        "43375"
       ]
      },
      {
       "output_type": "stream",
       "stream": "stdout",
       "text": [
        " \n",
        "56615"
       ]
      },
      {
       "output_type": "stream",
       "stream": "stdout",
       "text": [
        " 56911\n",
        "94951"
       ]
      },
      {
       "output_type": "stream",
       "stream": "stdout",
       "text": [
        " \n",
        "94120"
       ]
      },
      {
       "output_type": "stream",
       "stream": "stdout",
       "text": [
        " \n",
        "43374"
       ]
      },
      {
       "output_type": "stream",
       "stream": "stdout",
       "text": [
        " \n",
        "90818"
       ]
      },
      {
       "output_type": "stream",
       "stream": "stdout",
       "text": [
        " \n",
        "89108"
       ]
      },
      {
       "output_type": "stream",
       "stream": "stdout",
       "text": [
        " \n",
        "90757"
       ]
      },
      {
       "output_type": "stream",
       "stream": "stdout",
       "text": [
        " \n",
        "54774"
       ]
      },
      {
       "output_type": "stream",
       "stream": "stdout",
       "text": [
        " \n",
        "94920"
       ]
      },
      {
       "output_type": "stream",
       "stream": "stdout",
       "text": [
        " \n",
        "65922"
       ]
      },
      {
       "output_type": "stream",
       "stream": "stdout",
       "text": [
        " \n",
        "94645"
       ]
      },
      {
       "output_type": "stream",
       "stream": "stdout",
       "text": [
        " \n",
        "59132"
       ]
      },
      {
       "output_type": "stream",
       "stream": "stdout",
       "text": [
        " 59133\n",
        "66811"
       ]
      },
      {
       "output_type": "stream",
       "stream": "stdout",
       "text": [
        " \n",
        "65922"
       ]
      },
      {
       "output_type": "stream",
       "stream": "stdout",
       "text": [
        " 65923\n",
        "86386"
       ]
      },
      {
       "output_type": "stream",
       "stream": "stdout",
       "text": [
        " \n",
        "58678"
       ]
      },
      {
       "output_type": "stream",
       "stream": "stdout",
       "text": [
        " 58679\n",
        "56957"
       ]
      },
      {
       "output_type": "stream",
       "stream": "stdout",
       "text": [
        " 56958\n",
        "75128"
       ]
      },
      {
       "output_type": "stream",
       "stream": "stdout",
       "text": [
        " \n",
        "90815"
       ]
      },
      {
       "output_type": "stream",
       "stream": "stdout",
       "text": [
        " \n",
        "88995"
       ]
      },
      {
       "output_type": "stream",
       "stream": "stdout",
       "text": [
        " \n",
        "61865"
       ]
      },
      {
       "output_type": "stream",
       "stream": "stdout",
       "text": [
        " \n",
        "35072"
       ]
      },
      {
       "output_type": "stream",
       "stream": "stdout",
       "text": [
        " 35073\n",
        "54776"
       ]
      },
      {
       "output_type": "stream",
       "stream": "stdout",
       "text": [
        " 54777\n",
        "94682"
       ]
      },
      {
       "output_type": "stream",
       "stream": "stdout",
       "text": [
        " \n",
        "94665"
       ]
      },
      {
       "output_type": "stream",
       "stream": "stdout",
       "text": [
        " \n",
        "54771"
       ]
      },
      {
       "output_type": "stream",
       "stream": "stdout",
       "text": [
        " \n",
        "90154"
       ]
      },
      {
       "output_type": "stream",
       "stream": "stdout",
       "text": [
        " \n",
        "90900"
       ]
      },
      {
       "output_type": "stream",
       "stream": "stdout",
       "text": [
        " \n",
        "34337"
       ]
      },
      {
       "output_type": "stream",
       "stream": "stdout",
       "text": [
        " 34329\n",
        "34354"
       ]
      },
      {
       "output_type": "stream",
       "stream": "stdout",
       "text": [
        " 34355\n",
        "94659"
       ]
      },
      {
       "output_type": "stream",
       "stream": "stdout",
       "text": [
        " 94741\n",
        "86308"
       ]
      },
      {
       "output_type": "stream",
       "stream": "stdout",
       "text": [
        " \n",
        "61866"
       ]
      },
      {
       "output_type": "stream",
       "stream": "stdout",
       "text": [
        " \n",
        "89120"
       ]
      },
      {
       "output_type": "stream",
       "stream": "stdout",
       "text": [
        " \n",
        "94921"
       ]
      },
      {
       "output_type": "stream",
       "stream": "stdout",
       "text": [
        " \n",
        "89140"
       ]
      },
      {
       "output_type": "stream",
       "stream": "stdout",
       "text": [
        " \n",
        "94965"
       ]
      },
      {
       "output_type": "stream",
       "stream": "stdout",
       "text": [
        " \n",
        "89126"
       ]
      },
      {
       "output_type": "stream",
       "stream": "stdout",
       "text": [
        " \n",
        "95069"
       ]
      },
      {
       "output_type": "stream",
       "stream": "stdout",
       "text": [
        " \n",
        "92591"
       ]
      },
      {
       "output_type": "stream",
       "stream": "stdout",
       "text": [
        " 92594\n",
        "88348"
       ]
      },
      {
       "output_type": "stream",
       "stream": "stdout",
       "text": [
        " \n",
        "57841"
       ]
      },
      {
       "output_type": "stream",
       "stream": "stdout",
       "text": [
        " \n",
        "42951"
       ]
      },
      {
       "output_type": "stream",
       "stream": "stdout",
       "text": [
        " 42981\n",
        "94761"
       ]
      },
      {
       "output_type": "stream",
       "stream": "stdout",
       "text": [
        " \n",
        "88343"
       ]
      },
      {
       "output_type": "stream",
       "stream": "stdout",
       "text": [
        " \n",
        "54540"
       ]
      },
      {
       "output_type": "stream",
       "stream": "stdout",
       "text": [
        " 43374\n",
        "94693"
       ]
      },
      {
       "output_type": "stream",
       "stream": "stdout",
       "text": [
        " \n",
        "94978"
       ]
      },
      {
       "output_type": "stream",
       "stream": "stdout",
       "text": [
        " \n",
        "55445"
       ]
      },
      {
       "output_type": "stream",
       "stream": "stdout",
       "text": [
        " 55418\n",
        "94900"
       ]
      },
      {
       "output_type": "stream",
       "stream": "stdout",
       "text": [
        " \n",
        "94738"
       ]
      },
      {
       "output_type": "stream",
       "stream": "stdout",
       "text": [
        " \n",
        "95022"
       ]
      },
      {
       "output_type": "stream",
       "stream": "stdout",
       "text": [
        " \n",
        "94759"
       ]
      },
      {
       "output_type": "stream",
       "stream": "stdout",
       "text": [
        " 94760\n",
        "89118"
       ]
      },
      {
       "output_type": "stream",
       "stream": "stdout",
       "text": [
        " \n",
        "86390"
       ]
      },
      {
       "output_type": "stream",
       "stream": "stdout",
       "text": [
        " \n",
        "71373"
       ]
      },
      {
       "output_type": "stream",
       "stream": "stdout",
       "text": [
        " 71374\n",
        "43376"
       ]
      },
      {
       "output_type": "stream",
       "stream": "stdout",
       "text": [
        " 54775\n",
        "95280"
       ]
      },
      {
       "output_type": "stream",
       "stream": "stdout",
       "text": [
        " \n",
        "90902"
       ]
      },
      {
       "output_type": "stream",
       "stream": "stdout",
       "text": [
        " \n",
        "94116"
       ]
      },
      {
       "output_type": "stream",
       "stream": "stdout",
       "text": [
        " \n",
        "95016"
       ]
      },
      {
       "output_type": "stream",
       "stream": "stdout",
       "text": [
        " \n",
        "54772"
       ]
      },
      {
       "output_type": "stream",
       "stream": "stdout",
       "text": [
        " 54773\n",
        "94991"
       ]
      },
      {
       "output_type": "stream",
       "stream": "stdout",
       "text": [
        " \n",
        "94986"
       ]
      },
      {
       "output_type": "stream",
       "stream": "stdout",
       "text": [
        " \n",
        "64017"
       ]
      },
      {
       "output_type": "stream",
       "stream": "stdout",
       "text": [
        " \n",
        "94771"
       ]
      },
      {
       "output_type": "stream",
       "stream": "stdout",
       "text": [
        " \n",
        "90746"
       ]
      },
      {
       "output_type": "stream",
       "stream": "stdout",
       "text": [
        " \n",
        "55192"
       ]
      },
      {
       "output_type": "stream",
       "stream": "stdout",
       "text": [
        " \n",
        "94821"
       ]
      },
      {
       "output_type": "stream",
       "stream": "stdout",
       "text": [
        " \n",
        "90816"
       ]
      },
      {
       "output_type": "stream",
       "stream": "stdout",
       "text": [
        " \n",
        "94982"
       ]
      },
      {
       "output_type": "stream",
       "stream": "stdout",
       "text": [
        " \n",
        "94762"
       ]
      },
      {
       "output_type": "stream",
       "stream": "stdout",
       "text": [
        " \n",
        "93590"
       ]
      },
      {
       "output_type": "stream",
       "stream": "stdout",
       "text": [
        " 93591\n",
        "91166"
       ]
      },
      {
       "output_type": "stream",
       "stream": "stdout",
       "text": [
        " 91167\n",
        "89124"
       ]
      },
      {
       "output_type": "stream",
       "stream": "stdout",
       "text": [
        " \n",
        "55461"
       ]
      },
      {
       "output_type": "stream",
       "stream": "stdout",
       "text": [
        " 55462\n",
        "59082"
       ]
      },
      {
       "output_type": "stream",
       "stream": "stdout",
       "text": [
        " \n",
        "55226"
       ]
      },
      {
       "output_type": "stream",
       "stream": "stdout",
       "text": [
        " \n",
        "54541"
       ]
      },
      {
       "output_type": "stream",
       "stream": "stdout",
       "text": [
        " \n",
        "34935"
       ]
      },
      {
       "output_type": "stream",
       "stream": "stdout",
       "text": [
        " 34936\n",
        "94647"
       ]
      },
      {
       "output_type": "stream",
       "stream": "stdout",
       "text": [
        " 94648\n",
        "34926"
       ]
      },
      {
       "output_type": "stream",
       "stream": "stdout",
       "text": [
        " 34927\n",
        "34329"
       ]
      },
      {
       "output_type": "stream",
       "stream": "stdout",
       "text": [
        " 34335\n",
        "34960"
       ]
      },
      {
       "output_type": "stream",
       "stream": "stdout",
       "text": [
        " \n",
        "74073"
       ]
      },
      {
       "output_type": "stream",
       "stream": "stdout",
       "text": [
        " \n",
        "43377"
       ]
      },
      {
       "output_type": "stream",
       "stream": "stdout",
       "text": [
        " \n",
        "95080"
       ]
      },
      {
       "output_type": "stream",
       "stream": "stdout",
       "text": [
        " \n",
        "94927"
       ]
      },
      {
       "output_type": "stream",
       "stream": "stdout",
       "text": [
        " 94926\n",
        "94820"
       ]
      },
      {
       "output_type": "stream",
       "stream": "stdout",
       "text": [
        " \n",
        "94662"
       ]
      },
      {
       "output_type": "stream",
       "stream": "stdout",
       "text": [
        " 94663\n",
        "95122"
       ]
      },
      {
       "output_type": "stream",
       "stream": "stdout",
       "text": [
        " \n",
        "34960"
       ]
      },
      {
       "output_type": "stream",
       "stream": "stdout",
       "text": [
        " 34346\n",
        "93434"
       ]
      },
      {
       "output_type": "stream",
       "stream": "stdout",
       "text": [
        " 93435\n",
        "87401"
       ]
      },
      {
       "output_type": "stream",
       "stream": "stdout",
       "text": [
        " \n",
        "58680"
       ]
      },
      {
       "output_type": "stream",
       "stream": "stdout",
       "text": [
        " \n",
        "58681"
       ]
      },
      {
       "output_type": "stream",
       "stream": "stdout",
       "text": [
        " \n",
        "91093"
       ]
      },
      {
       "output_type": "stream",
       "stream": "stdout",
       "text": [
        " 91094\n",
        "94748"
       ]
      },
      {
       "output_type": "stream",
       "stream": "stdout",
       "text": [
        " \n",
        "34929"
       ]
      },
      {
       "output_type": "stream",
       "stream": "stdout",
       "text": [
        " 34930\n",
        "94827"
       ]
      },
      {
       "output_type": "stream",
       "stream": "stdout",
       "text": [
        " \n",
        "90824"
       ]
      },
      {
       "output_type": "stream",
       "stream": "stdout",
       "text": [
        " \n",
        "59050"
       ]
      },
      {
       "output_type": "stream",
       "stream": "stdout",
       "text": [
        " \n",
        "91164"
       ]
      },
      {
       "output_type": "stream",
       "stream": "stdout",
       "text": [
        " 91165\n",
        "86387"
       ]
      },
      {
       "output_type": "stream",
       "stream": "stdout",
       "text": [
        " \n",
        "61865"
       ]
      },
      {
       "output_type": "stream",
       "stream": "stdout",
       "text": [
        " 61865\n",
        "35075"
       ]
      },
      {
       "output_type": "stream",
       "stream": "stdout",
       "text": [
        " \n",
        "55465"
       ]
      },
      {
       "output_type": "stream",
       "stream": "stdout",
       "text": [
        " 55466\n",
        "56959"
       ]
      },
      {
       "output_type": "stream",
       "stream": "stdout",
       "text": [
        " 56960\n",
        "94732"
       ]
      },
      {
       "output_type": "stream",
       "stream": "stdout",
       "text": [
        " 94733\n",
        "94777"
       ]
      },
      {
       "output_type": "stream",
       "stream": "stdout",
       "text": [
        " 94778\n",
        "95021"
       ]
      },
      {
       "output_type": "stream",
       "stream": "stdout",
       "text": [
        " \n",
        "95216"
       ]
      },
      {
       "output_type": "stream",
       "stream": "stdout",
       "text": [
        " \n",
        "94988"
       ]
      },
      {
       "output_type": "stream",
       "stream": "stdout",
       "text": [
        " \n",
        "34938"
       ]
      },
      {
       "output_type": "stream",
       "stream": "stdout",
       "text": [
        " 34939\n",
        "91162"
       ]
      },
      {
       "output_type": "stream",
       "stream": "stdout",
       "text": [
        " 91168\n",
        "90174"
       ]
      },
      {
       "output_type": "stream",
       "stream": "stdout",
       "text": [
        " \n",
        "91162"
       ]
      },
      {
       "output_type": "stream",
       "stream": "stdout",
       "text": [
        " 91163\n",
        "71344"
       ]
      },
      {
       "output_type": "stream",
       "stream": "stdout",
       "text": [
        " \n",
        "55263"
       ]
      },
      {
       "output_type": "stream",
       "stream": "stdout",
       "text": [
        " 55307\n",
        "55200"
       ]
      },
      {
       "output_type": "stream",
       "stream": "stdout",
       "text": [
        " \n",
        "43378"
       ]
      },
      {
       "output_type": "stream",
       "stream": "stdout",
       "text": [
        " \n",
        "43375"
       ]
      },
      {
       "output_type": "stream",
       "stream": "stdout",
       "text": [
        " 42981\n",
        "34960"
       ]
      },
      {
       "output_type": "stream",
       "stream": "stdout",
       "text": [
        " 35064\n",
        "95192"
       ]
      },
      {
       "output_type": "stream",
       "stream": "stdout",
       "text": [
        " \n",
        "34337"
       ]
      },
      {
       "output_type": "stream",
       "stream": "stdout",
       "text": [
        " 34352\n",
        "90823"
       ]
      },
      {
       "output_type": "stream",
       "stream": "stdout",
       "text": [
        " \n",
        "94970"
       ]
      },
      {
       "output_type": "stream",
       "stream": "stdout",
       "text": [
        " \n",
        "94983"
       ]
      },
      {
       "output_type": "stream",
       "stream": "stdout",
       "text": [
        " \n",
        "94673"
       ]
      },
      {
       "output_type": "stream",
       "stream": "stdout",
       "text": [
        " \n",
        "95142"
       ]
      },
      {
       "output_type": "stream",
       "stream": "stdout",
       "text": [
        " \n",
        "93665"
       ]
      },
      {
       "output_type": "stream",
       "stream": "stdout",
       "text": [
        " 93666\n",
        "91137"
       ]
      },
      {
       "output_type": "stream",
       "stream": "stdout",
       "text": [
        " \n",
        "91162"
       ]
      },
      {
       "output_type": "stream",
       "stream": "stdout",
       "text": [
        " \n",
        "87474"
       ]
      },
      {
       "output_type": "stream",
       "stream": "stdout",
       "text": [
        " \n",
        "57774"
       ]
      },
      {
       "output_type": "stream",
       "stream": "stdout",
       "text": [
        " \n",
        "55215"
       ]
      },
      {
       "output_type": "stream",
       "stream": "stdout",
       "text": [
        " \n",
        "56919"
       ]
      },
      {
       "output_type": "stream",
       "stream": "stdout",
       "text": [
        " \n",
        "59050"
       ]
      },
      {
       "output_type": "stream",
       "stream": "stdout",
       "text": [
        " 59130\n",
        "94647"
       ]
      },
      {
       "output_type": "stream",
       "stream": "stdout",
       "text": [
        " 94735\n",
        "94836"
       ]
      },
      {
       "output_type": "stream",
       "stream": "stdout",
       "text": [
        " 94837\n",
        "91079"
       ]
      },
      {
       "output_type": "stream",
       "stream": "stdout",
       "text": [
        " \n",
        "94649"
       ]
      },
      {
       "output_type": "stream",
       "stream": "stdout",
       "text": [
        " 94650\n",
        "94660"
       ]
      },
      {
       "output_type": "stream",
       "stream": "stdout",
       "text": [
        " 94661\n",
        "94927"
       ]
      },
      {
       "output_type": "stream",
       "stream": "stdout",
       "text": [
        " \n",
        "94894"
       ]
      },
      {
       "output_type": "stream",
       "stream": "stdout",
       "text": [
        " \n",
        "92591"
       ]
      },
      {
       "output_type": "stream",
       "stream": "stdout",
       "text": [
        " 92595\n",
        "90789"
       ]
      },
      {
       "output_type": "stream",
       "stream": "stdout",
       "text": [
        " \n",
        "90515"
       ]
      },
      {
       "output_type": "stream",
       "stream": "stdout",
       "text": [
        " \n",
        "88243"
       ]
      },
      {
       "output_type": "stream",
       "stream": "stdout",
       "text": [
        " \n",
        "65918"
       ]
      },
      {
       "output_type": "stream",
       "stream": "stdout",
       "text": [
        " 65328\n",
        "58678"
       ]
      },
      {
       "output_type": "stream",
       "stream": "stdout",
       "text": [
        " \n",
        "56936"
       ]
      },
      {
       "output_type": "stream",
       "stream": "stdout",
       "text": [
        " 57768\n",
        "59049"
       ]
      },
      {
       "output_type": "stream",
       "stream": "stdout",
       "text": [
        " 59096\n",
        "94727"
       ]
      },
      {
       "output_type": "stream",
       "stream": "stdout",
       "text": [
        " 94728\n",
        "35069"
       ]
      },
      {
       "output_type": "stream",
       "stream": "stdout",
       "text": [
        " 35070\n",
        "90881"
       ]
      },
      {
       "output_type": "stream",
       "stream": "stdout",
       "text": [
        " \n",
        "94686"
       ]
      },
      {
       "output_type": "stream",
       "stream": "stdout",
       "text": [
        " 94745\n",
        "34941"
       ]
      },
      {
       "output_type": "stream",
       "stream": "stdout",
       "text": [
        " 34940\n",
        "94877"
       ]
      },
      {
       "output_type": "stream",
       "stream": "stdout",
       "text": [
        " \n",
        "94685"
       ]
      },
      {
       "output_type": "stream",
       "stream": "stdout",
       "text": [
        " 94749\n",
        "94669"
       ]
      },
      {
       "output_type": "stream",
       "stream": "stdout",
       "text": [
        " 94670\n",
        "94665"
       ]
      },
      {
       "output_type": "stream",
       "stream": "stdout",
       "text": [
        " 94738\n",
        "64019"
       ]
      },
      {
       "output_type": "stream",
       "stream": "stdout",
       "text": [
        " \n",
        "94644"
       ]
      },
      {
       "output_type": "stream",
       "stream": "stdout",
       "text": [
        " \n",
        "91022"
       ]
      },
      {
       "output_type": "stream",
       "stream": "stdout",
       "text": [
        " \n",
        "88387"
       ]
      },
      {
       "output_type": "stream",
       "stream": "stdout",
       "text": [
        " \n",
        "88203"
       ]
      },
      {
       "output_type": "stream",
       "stream": "stdout",
       "text": [
        " \n",
        "65923"
       ]
      },
      {
       "output_type": "stream",
       "stream": "stdout",
       "text": [
        " \n",
        "58679"
       ]
      },
      {
       "output_type": "stream",
       "stream": "stdout",
       "text": [
        " \n",
        "57768"
       ]
      },
      {
       "output_type": "stream",
       "stream": "stdout",
       "text": [
        " 57812\n",
        "57785"
       ]
      },
      {
       "output_type": "stream",
       "stream": "stdout",
       "text": [
        " \n",
        "34337"
       ]
      },
      {
       "output_type": "stream",
       "stream": "stdout",
       "text": [
        " \n",
        "55233"
       ]
      },
      {
       "output_type": "stream",
       "stream": "stdout",
       "text": [
        " \n",
        "94656"
       ]
      },
      {
       "output_type": "stream",
       "stream": "stdout",
       "text": [
        " \n",
        "90754"
       ]
      },
      {
       "output_type": "stream",
       "stream": "stdout",
       "text": [
        " \n",
        "90804"
       ]
      },
      {
       "output_type": "stream",
       "stream": "stdout",
       "text": [
        " 90767\n",
        "94651"
       ]
      },
      {
       "output_type": "stream",
       "stream": "stdout",
       "text": [
        " 94652\n",
        "94666"
       ]
      },
      {
       "output_type": "stream",
       "stream": "stdout",
       "text": [
        " 94667\n",
        "90804"
       ]
      },
      {
       "output_type": "stream",
       "stream": "stdout",
       "text": [
        " 90817\n",
        "94791"
       ]
      },
      {
       "output_type": "stream",
       "stream": "stdout",
       "text": [
        " \n",
        "94725"
       ]
      },
      {
       "output_type": "stream",
       "stream": "stdout",
       "text": [
        " 94686\n",
        "94671"
       ]
      },
      {
       "output_type": "stream",
       "stream": "stdout",
       "text": [
        " 94672\n",
        "94722"
       ]
      },
      {
       "output_type": "stream",
       "stream": "stdout",
       "text": [
        " \n",
        "92586"
       ]
      },
      {
       "output_type": "stream",
       "stream": "stdout",
       "text": [
        " 93409\n",
        "91119"
       ]
      },
      {
       "output_type": "stream",
       "stream": "stdout",
       "text": [
        " 91118\n",
        "93583"
       ]
      },
      {
       "output_type": "stream",
       "stream": "stdout",
       "text": [
        " 93584\n",
        "90145"
       ]
      },
      {
       "output_type": "stream",
       "stream": "stdout",
       "text": [
        " \n",
        "86795"
       ]
      },
      {
       "output_type": "stream",
       "stream": "stdout",
       "text": [
        " \n",
        "71356"
       ]
      },
      {
       "output_type": "stream",
       "stream": "stdout",
       "text": [
        " 71334\n",
        "59120"
       ]
      },
      {
       "output_type": "stream",
       "stream": "stdout",
       "text": [
        " \n",
        "55405"
       ]
      },
      {
       "output_type": "stream",
       "stream": "stdout",
       "text": [
        " \n",
        "56957"
       ]
      },
      {
       "output_type": "stream",
       "stream": "stdout",
       "text": [
        " \n",
        "42981"
       ]
      },
      {
       "output_type": "stream",
       "stream": "stdout",
       "text": [
        " 42951\n",
        "55185"
       ]
      },
      {
       "output_type": "stream",
       "stream": "stdout",
       "text": [
        " \n",
        "43019"
       ]
      },
      {
       "output_type": "stream",
       "stream": "stdout",
       "text": [
        " \n",
        "94893"
       ]
      },
      {
       "output_type": "stream",
       "stream": "stdout",
       "text": [
        " \n",
        "95027"
       ]
      },
      {
       "output_type": "stream",
       "stream": "stdout",
       "text": [
        " \n",
        "94729"
       ]
      },
      {
       "output_type": "stream",
       "stream": "stdout",
       "text": [
        " 94645\n",
        "34346"
       ]
      },
      {
       "output_type": "stream",
       "stream": "stdout",
       "text": [
        " 34353\n",
        "90917"
       ]
      },
      {
       "output_type": "stream",
       "stream": "stdout",
       "text": [
        " 90780\n",
        "94674"
       ]
      },
      {
       "output_type": "stream",
       "stream": "stdout",
       "text": [
        " 94675\n",
        "94737"
       ]
      },
      {
       "output_type": "stream",
       "stream": "stdout",
       "text": [
        " \n",
        "94571"
       ]
      },
      {
       "output_type": "stream",
       "stream": "stdout",
       "text": [
        " \n",
        "94121"
       ]
      },
      {
       "output_type": "stream",
       "stream": "stdout",
       "text": [
        " \n",
        "93654"
       ]
      },
      {
       "output_type": "stream",
       "stream": "stdout",
       "text": [
        " 93655\n",
        "93360"
       ]
      },
      {
       "output_type": "stream",
       "stream": "stdout",
       "text": [
        " 93361\n",
        "91148"
       ]
      },
      {
       "output_type": "stream",
       "stream": "stdout",
       "text": [
        " \n",
        "65929"
       ]
      },
      {
       "output_type": "stream",
       "stream": "stdout",
       "text": [
        " \n",
        "88935"
       ]
      },
      {
       "output_type": "stream",
       "stream": "stdout",
       "text": [
        " \n",
        "89764"
       ]
      },
      {
       "output_type": "stream",
       "stream": "stdout",
       "text": [
        " \n",
        "88511"
       ]
      },
      {
       "output_type": "stream",
       "stream": "stdout",
       "text": [
        " \n",
        "56941"
       ]
      },
      {
       "output_type": "stream",
       "stream": "stdout",
       "text": [
        " 57812\n",
        "55263"
       ]
      },
      {
       "output_type": "stream",
       "stream": "stdout",
       "text": [
        " \n",
        "55206"
       ]
      },
      {
       "output_type": "stream",
       "stream": "stdout",
       "text": [
        " \n",
        "95413"
       ]
      },
      {
       "output_type": "stream",
       "stream": "stdout",
       "text": [
        " \n",
        "88909"
       ]
      },
      {
       "output_type": "stream",
       "stream": "stdout",
       "text": [
        " \n",
        "55463"
       ]
      },
      {
       "output_type": "stream",
       "stream": "stdout",
       "text": [
        " 55464\n",
        "94736"
       ]
      },
      {
       "output_type": "stream",
       "stream": "stdout",
       "text": [
        " 94645\n",
        "59054"
       ]
      },
      {
       "output_type": "stream",
       "stream": "stdout",
       "text": [
        " 59072\n",
        "95225"
       ]
      },
      {
       "output_type": "stream",
       "stream": "stdout",
       "text": [
        " \n",
        "95217"
       ]
      },
      {
       "output_type": "stream",
       "stream": "stdout",
       "text": [
        " \n",
        "94730"
       ]
      },
      {
       "output_type": "stream",
       "stream": "stdout",
       "text": [
        " 94731\n",
        "94643"
       ]
      },
      {
       "output_type": "stream",
       "stream": "stdout",
       "text": [
        " \n",
        "94686"
       ]
      },
      {
       "output_type": "stream",
       "stream": "stdout",
       "text": [
        " \n",
        "94739"
       ]
      },
      {
       "output_type": "stream",
       "stream": "stdout",
       "text": [
        " 94740\n",
        "95412"
       ]
      },
      {
       "output_type": "stream",
       "stream": "stdout",
       "text": [
        " \n",
        "34931"
       ]
      },
      {
       "output_type": "stream",
       "stream": "stdout",
       "text": [
        " 34932\n",
        "90893"
       ]
      },
      {
       "output_type": "stream",
       "stream": "stdout",
       "text": [
        " 90894\n",
        "34284"
       ]
      },
      {
       "output_type": "stream",
       "stream": "stdout",
       "text": [
        " \n",
        "94763"
       ]
      },
      {
       "output_type": "stream",
       "stream": "stdout",
       "text": [
        " \n",
        "93540"
       ]
      },
      {
       "output_type": "stream",
       "stream": "stdout",
       "text": [
        " \n",
        "91127"
       ]
      },
      {
       "output_type": "stream",
       "stream": "stdout",
       "text": [
        " \n",
        "66098"
       ]
      },
      {
       "output_type": "stream",
       "stream": "stdout",
       "text": [
        " 66099\n",
        "88357"
       ]
      },
      {
       "output_type": "stream",
       "stream": "stdout",
       "text": [
        " \n",
        "55220"
       ]
      },
      {
       "output_type": "stream",
       "stream": "stdout",
       "text": [
        " \n",
        "55461"
       ]
      },
      {
       "output_type": "stream",
       "stream": "stdout",
       "text": [
        " \n",
        "94685"
       ]
      },
      {
       "output_type": "stream",
       "stream": "stdout",
       "text": [
        " \n",
        "90785"
       ]
      },
      {
       "output_type": "stream",
       "stream": "stdout",
       "text": [
        " \n",
        "94659"
       ]
      },
      {
       "output_type": "stream",
       "stream": "stdout",
       "text": [
        " \n",
        "90769"
       ]
      },
      {
       "output_type": "stream",
       "stream": "stdout",
       "text": [
        " \n",
        "94657"
       ]
      },
      {
       "output_type": "stream",
       "stream": "stdout",
       "text": [
        " 94658\n",
        "95201"
       ]
      },
      {
       "output_type": "stream",
       "stream": "stdout",
       "text": [
        " \n",
        "90787"
       ]
      },
      {
       "output_type": "stream",
       "stream": "stdout",
       "text": [
        " \n",
        "95516"
       ]
      },
      {
       "output_type": "stream",
       "stream": "stdout",
       "text": [
        " \n",
        "90783"
       ]
      },
      {
       "output_type": "stream",
       "stream": "stdout",
       "text": [
        " \n",
        "95228"
       ]
      },
      {
       "output_type": "stream",
       "stream": "stdout",
       "text": [
        " \n",
        "96161"
       ]
      },
      {
       "output_type": "stream",
       "stream": "stdout",
       "text": [
        " \n",
        "59099"
       ]
      },
      {
       "output_type": "stream",
       "stream": "stdout",
       "text": [
        " 59111\n",
        "94833"
       ]
      },
      {
       "output_type": "stream",
       "stream": "stdout",
       "text": [
        " 94834\n",
        "94657"
       ]
      },
      {
       "output_type": "stream",
       "stream": "stdout",
       "text": [
        " 94651\n",
        "97791"
       ]
      },
      {
       "output_type": "stream",
       "stream": "stdout",
       "text": [
        " \n",
        "94926"
       ]
      },
      {
       "output_type": "stream",
       "stream": "stdout",
       "text": [
        " \n",
        "94364"
       ]
      },
      {
       "output_type": "stream",
       "stream": "stdout",
       "text": [
        " \n",
        "95224"
       ]
      },
      {
       "output_type": "stream",
       "stream": "stdout",
       "text": [
        " \n",
        "92591"
       ]
      },
      {
       "output_type": "stream",
       "stream": "stdout",
       "text": [
        " 92608\n",
        "91043"
       ]
      },
      {
       "output_type": "stream",
       "stream": "stdout",
       "text": [
        " \n",
        "75118"
       ]
      },
      {
       "output_type": "stream",
       "stream": "stdout",
       "text": [
        " \n",
        "87368"
       ]
      },
      {
       "output_type": "stream",
       "stream": "stdout",
       "text": [
        " \n",
        "71354"
       ]
      },
      {
       "output_type": "stream",
       "stream": "stdout",
       "text": [
        " 74109\n",
        "65922"
       ]
      },
      {
       "output_type": "stream",
       "stream": "stdout",
       "text": [
        " 65930\n",
        "73163"
       ]
      },
      {
       "output_type": "stream",
       "stream": "stdout",
       "text": [
        " \n",
        "72127"
       ]
      },
      {
       "output_type": "stream",
       "stream": "stdout",
       "text": [
        " 71373\n",
        "66229"
       ]
      },
      {
       "output_type": "stream",
       "stream": "stdout",
       "text": [
        " \n",
        "66077"
       ]
      },
      {
       "output_type": "stream",
       "stream": "stdout",
       "text": [
        " \n",
        "64020"
       ]
      },
      {
       "output_type": "stream",
       "stream": "stdout",
       "text": [
        " \n",
        "55312"
       ]
      },
      {
       "output_type": "stream",
       "stream": "stdout",
       "text": [
        " \n",
        "57778"
       ]
      },
      {
       "output_type": "stream",
       "stream": "stdout",
       "text": [
        " \n",
        "55311"
       ]
      },
      {
       "output_type": "stream",
       "stream": "stdout",
       "text": [
        " \n",
        "55208"
       ]
      },
      {
       "output_type": "stream",
       "stream": "stdout",
       "text": [
        " \n",
        "42981"
       ]
      },
      {
       "output_type": "stream",
       "stream": "stdout",
       "text": [
        " 43375\n",
        "55339"
       ]
      },
      {
       "output_type": "stream",
       "stream": "stdout",
       "text": [
        " 55338\n",
        "55214"
       ]
      },
      {
       "output_type": "stream",
       "stream": "stdout",
       "text": [
        " \n",
        "54773"
       ]
      },
      {
       "output_type": "stream",
       "stream": "stdout",
       "text": [
        " \n",
        "95524"
       ]
      },
      {
       "output_type": "stream",
       "stream": "stdout",
       "text": [
        " \n",
        "95558"
       ]
      },
      {
       "output_type": "stream",
       "stream": "stdout",
       "text": [
        " \n",
        "91021"
       ]
      },
      {
       "output_type": "stream",
       "stream": "stdout",
       "text": [
        " \n",
        "94946"
       ]
      },
      {
       "output_type": "stream",
       "stream": "stdout",
       "text": [
        " 95122\n",
        "94648"
       ]
      },
      {
       "output_type": "stream",
       "stream": "stdout",
       "text": [
        " 94734\n",
        "94824"
       ]
      },
      {
       "output_type": "stream",
       "stream": "stdout",
       "text": [
        " \n",
        "90919"
       ]
      },
      {
       "output_type": "stream",
       "stream": "stdout",
       "text": [
        " 90920\n",
        "95271"
       ]
      },
      {
       "output_type": "stream",
       "stream": "stdout",
       "text": [
        " \n",
        "90923"
       ]
      },
      {
       "output_type": "stream",
       "stream": "stdout",
       "text": [
        " 90924\n",
        "90917"
       ]
      },
      {
       "output_type": "stream",
       "stream": "stdout",
       "text": [
        " 90918\n",
        "90954"
       ]
      },
      {
       "output_type": "stream",
       "stream": "stdout",
       "text": [
        " 90955\n",
        "94952"
       ]
      },
      {
       "output_type": "stream",
       "stream": "stdout",
       "text": [
        " \n",
        "94944"
       ]
      },
      {
       "output_type": "stream",
       "stream": "stdout",
       "text": [
        " \n",
        "96152"
       ]
      },
      {
       "output_type": "stream",
       "stream": "stdout",
       "text": [
        " \n",
        "94828"
       ]
      },
      {
       "output_type": "stream",
       "stream": "stdout",
       "text": [
        " \n",
        "95196"
       ]
      },
      {
       "output_type": "stream",
       "stream": "stdout",
       "text": [
        " \n",
        "95364"
       ]
      },
      {
       "output_type": "stream",
       "stream": "stdout",
       "text": [
        " \n",
        "94725"
       ]
      },
      {
       "output_type": "stream",
       "stream": "stdout",
       "text": [
        " 94726\n",
        "94799"
       ]
      },
      {
       "output_type": "stream",
       "stream": "stdout",
       "text": [
        " 94800\n",
        "90810"
       ]
      },
      {
       "output_type": "stream",
       "stream": "stdout",
       "text": [
        " \n",
        "95137"
       ]
      },
      {
       "output_type": "stream",
       "stream": "stdout",
       "text": [
        " \n",
        "94830"
       ]
      },
      {
       "output_type": "stream",
       "stream": "stdout",
       "text": [
        " \n",
        "94801"
       ]
      },
      {
       "output_type": "stream",
       "stream": "stdout",
       "text": [
        " \n",
        "94717"
       ]
      },
      {
       "output_type": "stream",
       "stream": "stdout",
       "text": [
        " 94708\n",
        "93903"
       ]
      },
      {
       "output_type": "stream",
       "stream": "stdout",
       "text": [
        " \n",
        "93953"
       ]
      },
      {
       "output_type": "stream",
       "stream": "stdout",
       "text": [
        " \n",
        "93467"
       ]
      },
      {
       "output_type": "stream",
       "stream": "stdout",
       "text": [
        " \n",
        "93375"
       ]
      },
      {
       "output_type": "stream",
       "stream": "stdout",
       "text": [
        " 93462\n",
        "93377"
       ]
      },
      {
       "output_type": "stream",
       "stream": "stdout",
       "text": [
        " \n",
        "92604"
       ]
      },
      {
       "output_type": "stream",
       "stream": "stdout",
       "text": [
        " 92605\n",
        "93347"
       ]
      },
      {
       "output_type": "stream",
       "stream": "stdout",
       "text": [
        " 92608\n",
        "93382"
       ]
      },
      {
       "output_type": "stream",
       "stream": "stdout",
       "text": [
        " \n",
        "91101"
       ]
      },
      {
       "output_type": "stream",
       "stream": "stdout",
       "text": [
        " 91143\n",
        "90634"
       ]
      },
      {
       "output_type": "stream",
       "stream": "stdout",
       "text": [
        " \n",
        "94127"
       ]
      },
      {
       "output_type": "stream",
       "stream": "stdout",
       "text": [
        " \n",
        "90156"
       ]
      },
      {
       "output_type": "stream",
       "stream": "stdout",
       "text": [
        " \n",
        "88133"
       ]
      },
      {
       "output_type": "stream",
       "stream": "stdout",
       "text": [
        " 88134\n",
        "61868"
       ]
      },
      {
       "output_type": "stream",
       "stream": "stdout",
       "text": [
        " \n",
        "88960"
       ]
      },
      {
       "output_type": "stream",
       "stream": "stdout",
       "text": [
        " \n",
        "89228"
       ]
      },
      {
       "output_type": "stream",
       "stream": "stdout",
       "text": [
        " \n",
        "75096"
       ]
      },
      {
       "output_type": "stream",
       "stream": "stdout",
       "text": [
        " \n",
        "71348"
       ]
      },
      {
       "output_type": "stream",
       "stream": "stdout",
       "text": [
        " \n",
        "74073"
       ]
      },
      {
       "output_type": "stream",
       "stream": "stdout",
       "text": [
        " 74074\n",
        "66197"
       ]
      },
      {
       "output_type": "stream",
       "stream": "stdout",
       "text": [
        " \n",
        "66817"
       ]
      },
      {
       "output_type": "stream",
       "stream": "stdout",
       "text": [
        " 66785\n",
        "55303"
       ]
      },
      {
       "output_type": "stream",
       "stream": "stdout",
       "text": [
        " \n",
        "55220"
       ]
      },
      {
       "output_type": "stream",
       "stream": "stdout",
       "text": [
        " 55307\n",
        "57743"
       ]
      },
      {
       "output_type": "stream",
       "stream": "stdout",
       "text": [
        " \n",
        "55202"
       ]
      },
      {
       "output_type": "stream",
       "stream": "stdout",
       "text": [
        " \n",
        "55473"
       ]
      },
      {
       "output_type": "stream",
       "stream": "stdout",
       "text": [
        " \n",
        "55198"
       ]
      },
      {
       "output_type": "stream",
       "stream": "stdout",
       "text": [
        " \n",
        "55411"
       ]
      },
      {
       "output_type": "stream",
       "stream": "stdout",
       "text": [
        " \n",
        "55207"
       ]
      },
      {
       "output_type": "stream",
       "stream": "stdout",
       "text": [
        " \n",
        "95555"
       ]
      },
      {
       "output_type": "stream",
       "stream": "stdout",
       "text": [
        " \n",
        "55445"
       ]
      },
      {
       "output_type": "stream",
       "stream": "stdout",
       "text": [
        " 55447\n",
        "59058"
       ]
      },
      {
       "output_type": "stream",
       "stream": "stdout",
       "text": [
        " \n",
        "90821"
       ]
      },
      {
       "output_type": "stream",
       "stream": "stdout",
       "text": [
        " \n",
        "90809"
       ]
      },
      {
       "output_type": "stream",
       "stream": "stdout",
       "text": [
        " \n",
        "95204"
       ]
      },
      {
       "output_type": "stream",
       "stream": "stdout",
       "text": [
        " \n",
        "94653"
       ]
      },
      {
       "output_type": "stream",
       "stream": "stdout",
       "text": [
        " 94654\n",
        "90821"
       ]
      },
      {
       "output_type": "stream",
       "stream": "stdout",
       "text": [
        " 90822\n",
        "95124"
       ]
      },
      {
       "output_type": "stream",
       "stream": "stdout",
       "text": [
        " \n",
        "95194"
       ]
      },
      {
       "output_type": "stream",
       "stream": "stdout",
       "text": [
        " \n",
        "94713"
       ]
      },
      {
       "output_type": "stream",
       "stream": "stdout",
       "text": [
        " \n",
        "91038"
       ]
      },
      {
       "output_type": "stream",
       "stream": "stdout",
       "text": [
        " \n",
        "96151"
       ]
      },
      {
       "output_type": "stream",
       "stream": "stdout",
       "text": [
        " \n",
        "94839"
       ]
      },
      {
       "output_type": "stream",
       "stream": "stdout",
       "text": [
        " \n",
        "94685"
       ]
      },
      {
       "output_type": "stream",
       "stream": "stdout",
       "text": [
        " 94686\n",
        "95199"
       ]
      },
      {
       "output_type": "stream",
       "stream": "stdout",
       "text": [
        " \n",
        "94880"
       ]
      },
      {
       "output_type": "stream",
       "stream": "stdout",
       "text": [
        " 94881\n",
        "95320"
       ]
      },
      {
       "output_type": "stream",
       "stream": "stdout",
       "text": [
        " 95321\n",
        "94948"
       ]
      },
      {
       "output_type": "stream",
       "stream": "stdout",
       "text": [
        " 94771\n",
        "95313"
       ]
      },
      {
       "output_type": "stream",
       "stream": "stdout",
       "text": [
        " \n",
        "94712"
       ]
      },
      {
       "output_type": "stream",
       "stream": "stdout",
       "text": [
        " 94810\n",
        "94087"
       ]
      },
      {
       "output_type": "stream",
       "stream": "stdout",
       "text": [
        " \n",
        "93810"
       ]
      },
      {
       "output_type": "stream",
       "stream": "stdout",
       "text": [
        " \n",
        "93694"
       ]
      },
      {
       "output_type": "stream",
       "stream": "stdout",
       "text": [
        " 93695\n",
        "93581"
       ]
      },
      {
       "output_type": "stream",
       "stream": "stdout",
       "text": [
        " 93582\n",
        "93580"
       ]
      },
      {
       "output_type": "stream",
       "stream": "stdout",
       "text": [
        " \n",
        "93555"
       ]
      },
      {
       "output_type": "stream",
       "stream": "stdout",
       "text": [
        " 93580\n",
        "90848"
       ]
      },
      {
       "output_type": "stream",
       "stream": "stdout",
       "text": [
        " 90849\n",
        "90499"
       ]
      },
      {
       "output_type": "stream",
       "stream": "stdout",
       "text": [
        " \n",
        "90742"
       ]
      },
      {
       "output_type": "stream",
       "stream": "stdout",
       "text": [
        " \n",
        "90222"
       ]
      },
      {
       "output_type": "stream",
       "stream": "stdout",
       "text": [
        " \n",
        "88180"
       ]
      },
      {
       "output_type": "stream",
       "stream": "stdout",
       "text": [
        " \n",
        "91137"
       ]
      },
      {
       "output_type": "stream",
       "stream": "stdout",
       "text": [
        " 91169\n",
        "88126"
       ]
      },
      {
       "output_type": "stream",
       "stream": "stdout",
       "text": [
        " \n",
        "88404"
       ]
      },
      {
       "output_type": "stream",
       "stream": "stdout",
       "text": [
        " \n",
        "89271"
       ]
      },
      {
       "output_type": "stream",
       "stream": "stdout",
       "text": [
        " \n",
        "88996"
       ]
      },
      {
       "output_type": "stream",
       "stream": "stdout",
       "text": [
        " \n",
        "88461"
       ]
      },
      {
       "output_type": "stream",
       "stream": "stdout",
       "text": [
        " \n",
        "85020"
       ]
      },
      {
       "output_type": "stream",
       "stream": "stdout",
       "text": [
        " \n",
        "86345"
       ]
      },
      {
       "output_type": "stream",
       "stream": "stdout",
       "text": [
        " 86346\n",
        "73160"
       ]
      },
      {
       "output_type": "stream",
       "stream": "stdout",
       "text": [
        " \n",
        "85021"
       ]
      },
      {
       "output_type": "stream",
       "stream": "stdout",
       "text": [
        " \n",
        "71370"
       ]
      },
      {
       "output_type": "stream",
       "stream": "stdout",
       "text": [
        " \n",
        "72126"
       ]
      },
      {
       "output_type": "stream",
       "stream": "stdout",
       "text": [
        " \n",
        "75103"
       ]
      },
      {
       "output_type": "stream",
       "stream": "stdout",
       "text": [
        " 74082\n",
        "71356"
       ]
      },
      {
       "output_type": "stream",
       "stream": "stdout",
       "text": [
        " \n",
        "88197"
       ]
      },
      {
       "output_type": "stream",
       "stream": "stdout",
       "text": [
        " \n",
        "67014"
       ]
      },
      {
       "output_type": "stream",
       "stream": "stdout",
       "text": [
        " 67013\n",
        "71335"
       ]
      },
      {
       "output_type": "stream",
       "stream": "stdout",
       "text": [
        " \n",
        "66815"
       ]
      },
      {
       "output_type": "stream",
       "stream": "stdout",
       "text": [
        " \n",
        "65327"
       ]
      },
      {
       "output_type": "stream",
       "stream": "stdout",
       "text": [
        " \n",
        "58678"
       ]
      },
      {
       "output_type": "stream",
       "stream": "stdout",
       "text": [
        " 58680\n",
        "34329"
       ]
      },
      {
       "output_type": "stream",
       "stream": "stdout",
       "text": [
        " \n",
        "59014"
       ]
      },
      {
       "output_type": "stream",
       "stream": "stdout",
       "text": [
        " \n",
        "57793"
       ]
      },
      {
       "output_type": "stream",
       "stream": "stdout",
       "text": [
        " \n",
        "55447"
       ]
      },
      {
       "output_type": "stream",
       "stream": "stdout",
       "text": [
        " \n",
        "57812"
       ]
      },
      {
       "output_type": "stream",
       "stream": "stdout",
       "text": [
        " \n",
        "72137"
       ]
      },
      {
       "output_type": "stream",
       "stream": "stdout",
       "text": [
        " \n",
        "43376"
       ]
      },
      {
       "output_type": "stream",
       "stream": "stdout",
       "text": [
        " 42981\n",
        "55240"
       ]
      },
      {
       "output_type": "stream",
       "stream": "stdout",
       "text": [
        " \n",
        "55213"
       ]
      },
      {
       "output_type": "stream",
       "stream": "stdout",
       "text": [
        " \n",
        "56913"
       ]
      },
      {
       "output_type": "stream",
       "stream": "stdout",
       "text": [
        " \n",
        "56635"
       ]
      },
      {
       "output_type": "stream",
       "stream": "stdout",
       "text": [
        " \n",
        "55232"
       ]
      },
      {
       "output_type": "stream",
       "stream": "stdout",
       "text": [
        " \n",
        "56941"
       ]
      },
      {
       "output_type": "stream",
       "stream": "stdout",
       "text": [
        " \n",
        "55473"
       ]
      },
      {
       "output_type": "stream",
       "stream": "stdout",
       "text": [
        " 54774\n",
        "56625"
       ]
      },
      {
       "output_type": "stream",
       "stream": "stdout",
       "text": [
        " 56626\n",
        "90767"
       ]
      },
      {
       "output_type": "stream",
       "stream": "stdout",
       "text": [
        " 90768\n",
        "95707"
       ]
      },
      {
       "output_type": "stream",
       "stream": "stdout",
       "text": [
        " \n",
        "95191"
       ]
      },
      {
       "output_type": "stream",
       "stream": "stdout",
       "text": [
        " \n",
        "90897"
       ]
      },
      {
       "output_type": "stream",
       "stream": "stdout",
       "text": [
        " 90898\n",
        "90754"
       ]
      },
      {
       "output_type": "stream",
       "stream": "stdout",
       "text": [
        " 91147\n",
        "95570"
       ]
      },
      {
       "output_type": "stream",
       "stream": "stdout",
       "text": [
        " \n",
        "94908"
       ]
      },
      {
       "output_type": "stream",
       "stream": "stdout",
       "text": [
        " \n",
        "95454"
       ]
      },
      {
       "output_type": "stream",
       "stream": "stdout",
       "text": [
        " \n",
        "94996"
       ]
      },
      {
       "output_type": "stream",
       "stream": "stdout",
       "text": [
        " \n",
        "91040"
       ]
      },
      {
       "output_type": "stream",
       "stream": "stdout",
       "text": [
        " 91041\n",
        "59049"
       ]
      },
      {
       "output_type": "stream",
       "stream": "stdout",
       "text": [
        " 59058\n",
        "95096"
       ]
      },
      {
       "output_type": "stream",
       "stream": "stdout",
       "text": [
        " 95241\n",
        "94481"
       ]
      },
      {
       "output_type": "stream",
       "stream": "stdout",
       "text": [
        " \n",
        "94630"
       ]
      },
      {
       "output_type": "stream",
       "stream": "stdout",
       "text": [
        " \n",
        "94528"
       ]
      },
      {
       "output_type": "stream",
       "stream": "stdout",
       "text": [
        " \n",
        "94176"
       ]
      },
      {
       "output_type": "stream",
       "stream": "stdout",
       "text": [
        " 94177\n",
        "94714"
       ]
      },
      {
       "output_type": "stream",
       "stream": "stdout",
       "text": [
        " 94709\n",
        "91045"
       ]
      },
      {
       "output_type": "stream",
       "stream": "stdout",
       "text": [
        " \n",
        "93869"
       ]
      },
      {
       "output_type": "stream",
       "stream": "stdout",
       "text": [
        " \n",
        "94177"
       ]
      },
      {
       "output_type": "stream",
       "stream": "stdout",
       "text": [
        " \n",
        "93868"
       ]
      },
      {
       "output_type": "stream",
       "stream": "stdout",
       "text": [
        " 93869\n",
        "93458"
       ]
      },
      {
       "output_type": "stream",
       "stream": "stdout",
       "text": [
        " 93459\n",
        "92591"
       ]
      },
      {
       "output_type": "stream",
       "stream": "stdout",
       "text": [
        " 92600\n",
        "92549"
       ]
      },
      {
       "output_type": "stream",
       "stream": "stdout",
       "text": [
        " \n",
        "90636"
       ]
      },
      {
       "output_type": "stream",
       "stream": "stdout",
       "text": [
        " \n",
        "91044"
       ]
      },
      {
       "output_type": "stream",
       "stream": "stdout",
       "text": [
        " \n",
        "66076"
       ]
      },
      {
       "output_type": "stream",
       "stream": "stdout",
       "text": [
        " \n",
        "90813"
       ]
      },
      {
       "output_type": "stream",
       "stream": "stdout",
       "text": [
        " \n",
        "90713"
       ]
      },
      {
       "output_type": "stream",
       "stream": "stdout",
       "text": [
        " \n",
        "90651"
       ]
      },
      {
       "output_type": "stream",
       "stream": "stdout",
       "text": [
        " \n",
        "74108"
       ]
      },
      {
       "output_type": "stream",
       "stream": "stdout",
       "text": [
        " \n",
        "90152"
       ]
      },
      {
       "output_type": "stream",
       "stream": "stdout",
       "text": [
        " \n",
        "90041"
       ]
      },
      {
       "output_type": "stream",
       "stream": "stdout",
       "text": [
        " \n",
        "88145"
       ]
      },
      {
       "output_type": "stream",
       "stream": "stdout",
       "text": [
        " 87843\n",
        "88432"
       ]
      },
      {
       "output_type": "stream",
       "stream": "stdout",
       "text": [
        " \n",
        "88078"
       ]
      },
      {
       "output_type": "stream",
       "stream": "stdout",
       "text": [
        " 88079\n",
        "88189"
       ]
      },
      {
       "output_type": "stream",
       "stream": "stdout",
       "text": [
        " \n",
        "66061"
       ]
      },
      {
       "output_type": "stream",
       "stream": "stdout",
       "text": [
        " \n",
        "75132"
       ]
      },
      {
       "output_type": "stream",
       "stream": "stdout",
       "text": [
        " 75133\n",
        "89004"
       ]
      },
      {
       "output_type": "stream",
       "stream": "stdout",
       "text": [
        " 89005\n",
        "89152"
       ]
      },
      {
       "output_type": "stream",
       "stream": "stdout",
       "text": [
        " \n",
        "59159"
       ]
      },
      {
       "output_type": "stream",
       "stream": "stdout",
       "text": [
        " \n",
        "89057"
       ]
      },
      {
       "output_type": "stream",
       "stream": "stdout",
       "text": [
        " \n",
        "74078"
       ]
      },
      {
       "output_type": "stream",
       "stream": "stdout",
       "text": [
        " \n",
        "88959"
       ]
      },
      {
       "output_type": "stream",
       "stream": "stdout",
       "text": [
        " \n",
        "88330"
       ]
      },
      {
       "output_type": "stream",
       "stream": "stdout",
       "text": [
        " \n",
        "88361"
       ]
      },
      {
       "output_type": "stream",
       "stream": "stdout",
       "text": [
        " \n",
        "88587"
       ]
      },
      {
       "output_type": "stream",
       "stream": "stdout",
       "text": [
        " \n",
        "88458"
       ]
      },
      {
       "output_type": "stream",
       "stream": "stdout",
       "text": [
        " \n",
        "65920"
       ]
      },
      {
       "output_type": "stream",
       "stream": "stdout",
       "text": [
        " \n",
        "86233"
       ]
      },
      {
       "output_type": "stream",
       "stream": "stdout",
       "text": [
        " \n",
        "88202"
       ]
      },
      {
       "output_type": "stream",
       "stream": "stdout",
       "text": [
        " \n",
        "71357"
       ]
      },
      {
       "output_type": "stream",
       "stream": "stdout",
       "text": [
        " \n",
        "67004"
       ]
      },
      {
       "output_type": "stream",
       "stream": "stdout",
       "text": [
        " \n",
        "72143"
       ]
      },
      {
       "output_type": "stream",
       "stream": "stdout",
       "text": [
        " \n",
        "71341"
       ]
      },
      {
       "output_type": "stream",
       "stream": "stdout",
       "text": [
        " 71342\n",
        "59086"
       ]
      },
      {
       "output_type": "stream",
       "stream": "stdout",
       "text": [
        " \n",
        "65957"
       ]
      },
      {
       "output_type": "stream",
       "stream": "stdout",
       "text": [
        " \n",
        "59094"
       ]
      },
      {
       "output_type": "stream",
       "stream": "stdout",
       "text": [
        " \n",
        "57888"
       ]
      },
      {
       "output_type": "stream",
       "stream": "stdout",
       "text": [
        " 58970\n",
        "58677"
       ]
      },
      {
       "output_type": "stream",
       "stream": "stdout",
       "text": [
        " \n",
        "55418"
       ]
      },
      {
       "output_type": "stream",
       "stream": "stdout",
       "text": [
        " 43376\n",
        "34375"
       ]
      },
      {
       "output_type": "stream",
       "stream": "stdout",
       "text": [
        " \n",
        "55210"
       ]
      },
      {
       "output_type": "stream",
       "stream": "stdout",
       "text": [
        " \n",
        "57773"
       ]
      },
      {
       "output_type": "stream",
       "stream": "stdout",
       "text": [
        " \n",
        "54542"
       ]
      },
      {
       "output_type": "stream",
       "stream": "stdout",
       "text": [
        " \n",
        "55241"
       ]
      },
      {
       "output_type": "stream",
       "stream": "stdout",
       "text": [
        " \n",
        "55244"
       ]
      },
      {
       "output_type": "stream",
       "stream": "stdout",
       "text": [
        " \n",
        "55253"
       ]
      },
      {
       "output_type": "stream",
       "stream": "stdout",
       "text": [
        " \n",
        "55238"
       ]
      },
      {
       "output_type": "stream",
       "stream": "stdout",
       "text": [
        " \n",
        "95520"
       ]
      },
      {
       "output_type": "stream",
       "stream": "stdout",
       "text": [
        " \n",
        "95507"
       ]
      },
      {
       "output_type": "stream",
       "stream": "stdout",
       "text": [
        " \n",
        "95044"
       ]
      },
      {
       "output_type": "stream",
       "stream": "stdout",
       "text": [
        " \n",
        "95580"
       ]
      },
      {
       "output_type": "stream",
       "stream": "stdout",
       "text": [
        " \n",
        "95021"
       ]
      },
      {
       "output_type": "stream",
       "stream": "stdout",
       "text": [
        " 94946\n",
        "59049"
       ]
      },
      {
       "output_type": "stream",
       "stream": "stdout",
       "text": [
        " \n",
        "90805"
       ]
      },
      {
       "output_type": "stream",
       "stream": "stdout",
       "text": [
        " 90806\n",
        "94992"
       ]
      },
      {
       "output_type": "stream",
       "stream": "stdout",
       "text": [
        " \n",
        "95205"
       ]
      },
      {
       "output_type": "stream",
       "stream": "stdout",
       "text": [
        " \n",
        "95071"
       ]
      },
      {
       "output_type": "stream",
       "stream": "stdout",
       "text": [
        " \n",
        "95256"
       ]
      },
      {
       "output_type": "stream",
       "stream": "stdout",
       "text": [
        " \n",
        "95707"
       ]
      },
      {
       "output_type": "stream",
       "stream": "stdout",
       "text": [
        " 95708\n",
        "91057"
       ]
      },
      {
       "output_type": "stream",
       "stream": "stdout",
       "text": [
        " 91058\n",
        "56615"
       ]
      },
      {
       "output_type": "stream",
       "stream": "stdout",
       "text": [
        " 55418\n",
        "95302"
       ]
      },
      {
       "output_type": "stream",
       "stream": "stdout",
       "text": [
        " \n",
        "94823"
       ]
      },
      {
       "output_type": "stream",
       "stream": "stdout",
       "text": [
        " \n",
        "95382"
       ]
      },
      {
       "output_type": "stream",
       "stream": "stdout",
       "text": [
        " \n",
        "95004"
       ]
      },
      {
       "output_type": "stream",
       "stream": "stdout",
       "text": [
        " \n",
        "94746"
       ]
      },
      {
       "output_type": "stream",
       "stream": "stdout",
       "text": [
        " \n",
        "59036"
       ]
      },
      {
       "output_type": "stream",
       "stream": "stdout",
       "text": [
        " \n",
        "95098"
       ]
      },
      {
       "output_type": "stream",
       "stream": "stdout",
       "text": [
        " \n",
        "95808"
       ]
      },
      {
       "output_type": "stream",
       "stream": "stdout",
       "text": [
        " \n",
        "96159"
       ]
      },
      {
       "output_type": "stream",
       "stream": "stdout",
       "text": [
        " \n",
        "95207"
       ]
      },
      {
       "output_type": "stream",
       "stream": "stdout",
       "text": [
        " \n",
        "94976"
       ]
      },
      {
       "output_type": "stream",
       "stream": "stdout",
       "text": [
        " 94977\n",
        "94640"
       ]
      },
      {
       "output_type": "stream",
       "stream": "stdout",
       "text": [
        " \n",
        "95818"
       ]
      },
      {
       "output_type": "stream",
       "stream": "stdout",
       "text": [
        " \n",
        "95521"
       ]
      },
      {
       "output_type": "stream",
       "stream": "stdout",
       "text": [
        " \n",
        "95463"
       ]
      },
      {
       "output_type": "stream",
       "stream": "stdout",
       "text": [
        " \n",
        "94948"
       ]
      },
      {
       "output_type": "stream",
       "stream": "stdout",
       "text": [
        " \n",
        "95096"
       ]
      },
      {
       "output_type": "stream",
       "stream": "stdout",
       "text": [
        " \n",
        "94921"
       ]
      },
      {
       "output_type": "stream",
       "stream": "stdout",
       "text": [
        " 95068\n",
        "59074"
       ]
      },
      {
       "output_type": "stream",
       "stream": "stdout",
       "text": [
        " 59075\n",
        "59058"
       ]
      },
      {
       "output_type": "stream",
       "stream": "stdout",
       "text": [
        " 59060\n",
        "93568"
       ]
      },
      {
       "output_type": "stream",
       "stream": "stdout",
       "text": [
        " \n",
        "95286"
       ]
      },
      {
       "output_type": "stream",
       "stream": "stdout",
       "text": [
        " 95287\n",
        "93652"
       ]
      },
      {
       "output_type": "stream",
       "stream": "stdout",
       "text": [
        " 93766\n",
        "94242"
       ]
      },
      {
       "output_type": "stream",
       "stream": "stdout",
       "text": [
        " \n",
        "94165"
       ]
      },
      {
       "output_type": "stream",
       "stream": "stdout",
       "text": [
        " \n",
        "94057"
       ]
      },
      {
       "output_type": "stream",
       "stream": "stdout",
       "text": [
        " 94162\n",
        "94068"
       ]
      },
      {
       "output_type": "stream",
       "stream": "stdout",
       "text": [
        " 94069\n",
        "93909"
       ]
      },
      {
       "output_type": "stream",
       "stream": "stdout",
       "text": [
        " \n",
        "94318"
       ]
      },
      {
       "output_type": "stream",
       "stream": "stdout",
       "text": [
        " 94320\n",
        "93828"
       ]
      },
      {
       "output_type": "stream",
       "stream": "stdout",
       "text": [
        " 93812\n",
        "93958"
       ]
      },
      {
       "output_type": "stream",
       "stream": "stdout",
       "text": [
        " \n",
        "93539"
       ]
      },
      {
       "output_type": "stream",
       "stream": "stdout",
       "text": [
        " \n",
        "93683"
       ]
      },
      {
       "output_type": "stream",
       "stream": "stdout",
       "text": [
        " 93684\n",
        "93708"
       ]
      },
      {
       "output_type": "stream",
       "stream": "stdout",
       "text": [
        " 93709\n",
        "93694"
       ]
      },
      {
       "output_type": "stream",
       "stream": "stdout",
       "text": [
        " \n",
        "93654"
       ]
      },
      {
       "output_type": "stream",
       "stream": "stdout",
       "text": [
        " \n",
        "93634"
       ]
      },
      {
       "output_type": "stream",
       "stream": "stdout",
       "text": [
        " \n",
        "93633"
       ]
      },
      {
       "output_type": "stream",
       "stream": "stdout",
       "text": [
        " \n",
        "93585"
       ]
      },
      {
       "output_type": "stream",
       "stream": "stdout",
       "text": [
        " 93586\n",
        "93594"
       ]
      },
      {
       "output_type": "stream",
       "stream": "stdout",
       "text": [
        " 93595\n",
        "93377"
       ]
      },
      {
       "output_type": "stream",
       "stream": "stdout",
       "text": [
        " 93467\n",
        "93375"
       ]
      },
      {
       "output_type": "stream",
       "stream": "stdout",
       "text": [
        " 93463\n",
        "93409"
       ]
      },
      {
       "output_type": "stream",
       "stream": "stdout",
       "text": [
        " \n",
        "92591"
       ]
      },
      {
       "output_type": "stream",
       "stream": "stdout",
       "text": [
        " \n",
        "93440"
       ]
      },
      {
       "output_type": "stream",
       "stream": "stdout",
       "text": [
        " 93439\n",
        "90628"
       ]
      },
      {
       "output_type": "stream",
       "stream": "stdout",
       "text": [
        " \n",
        "90712"
       ]
      },
      {
       "output_type": "stream",
       "stream": "stdout",
       "text": [
        " \n",
        "90653"
       ]
      },
      {
       "output_type": "stream",
       "stream": "stdout",
       "text": [
        " \n",
        "93550"
       ]
      },
      {
       "output_type": "stream",
       "stream": "stdout",
       "text": [
        " \n",
        "90496"
       ]
      },
      {
       "output_type": "stream",
       "stream": "stdout",
       "text": [
        " \n",
        "90514"
       ]
      },
      {
       "output_type": "stream",
       "stream": "stdout",
       "text": [
        " \n",
        "90627"
       ]
      },
      {
       "output_type": "stream",
       "stream": "stdout",
       "text": [
        " \n",
        "90202"
       ]
      },
      {
       "output_type": "stream",
       "stream": "stdout",
       "text": [
        " \n",
        "90072"
       ]
      },
      {
       "output_type": "stream",
       "stream": "stdout",
       "text": [
        " \n",
        "90800"
       ]
      },
      {
       "output_type": "stream",
       "stream": "stdout",
       "text": [
        " \n",
        "89134"
       ]
      },
      {
       "output_type": "stream",
       "stream": "stdout",
       "text": [
        " \n",
        "89932"
       ]
      },
      {
       "output_type": "stream",
       "stream": "stdout",
       "text": [
        " \n",
        "74037"
       ]
      },
      {
       "output_type": "stream",
       "stream": "stdout",
       "text": [
        " \n",
        "86408"
       ]
      },
      {
       "output_type": "stream",
       "stream": "stdout",
       "text": [
        " 66013\n",
        "88074"
       ]
      },
      {
       "output_type": "stream",
       "stream": "stdout",
       "text": [
        " \n",
        "86408"
       ]
      },
      {
       "output_type": "stream",
       "stream": "stdout",
       "text": [
        " 66010\n",
        "59159"
       ]
      },
      {
       "output_type": "stream",
       "stream": "stdout",
       "text": [
        " 66009\n",
        "91137"
       ]
      },
      {
       "output_type": "stream",
       "stream": "stdout",
       "text": [
        " 91138\n",
        "89061"
       ]
      },
      {
       "output_type": "stream",
       "stream": "stdout",
       "text": [
        " \n",
        "87479"
       ]
      },
      {
       "output_type": "stream",
       "stream": "stdout",
       "text": [
        " \n",
        "85024"
       ]
      },
      {
       "output_type": "stream",
       "stream": "stdout",
       "text": [
        " \n",
        "76160"
       ]
      },
      {
       "output_type": "stream",
       "stream": "stdout",
       "text": [
        " 84842\n",
        "87473"
       ]
      },
      {
       "output_type": "stream",
       "stream": "stdout",
       "text": [
        " \n",
        "88989"
       ]
      },
      {
       "output_type": "stream",
       "stream": "stdout",
       "text": [
        " \n",
        "59065"
       ]
      },
      {
       "output_type": "stream",
       "stream": "stdout",
       "text": [
        " \n",
        "89763"
       ]
      },
      {
       "output_type": "stream",
       "stream": "stdout",
       "text": [
        " \n",
        "74076"
       ]
      },
      {
       "output_type": "stream",
       "stream": "stdout",
       "text": [
        " \n",
        "79674"
       ]
      },
      {
       "output_type": "stream",
       "stream": "stdout",
       "text": [
        " \n",
        "86395"
       ]
      },
      {
       "output_type": "stream",
       "stream": "stdout",
       "text": [
        " \n",
        "89289"
       ]
      },
      {
       "output_type": "stream",
       "stream": "stdout",
       "text": [
        " 89153\n",
        "75127"
       ]
      },
      {
       "output_type": "stream",
       "stream": "stdout",
       "text": [
        " \n",
        "74074"
       ]
      },
      {
       "output_type": "stream",
       "stream": "stdout",
       "text": [
        " \n",
        "86351"
       ]
      },
      {
       "output_type": "stream",
       "stream": "stdout",
       "text": [
        " \n",
        "88895"
       ]
      },
      {
       "output_type": "stream",
       "stream": "stdout",
       "text": [
        " \n",
        "86233"
       ]
      },
      {
       "output_type": "stream",
       "stream": "stdout",
       "text": [
        " 86234\n",
        "88899"
       ]
      },
      {
       "output_type": "stream",
       "stream": "stdout",
       "text": [
        " \n",
        "88460"
       ]
      },
      {
       "output_type": "stream",
       "stream": "stdout",
       "text": [
        " \n",
        "88438"
       ]
      },
      {
       "output_type": "stream",
       "stream": "stdout",
       "text": [
        " \n",
        "90778"
       ]
      },
      {
       "output_type": "stream",
       "stream": "stdout",
       "text": [
        " \n",
        "88346"
       ]
      },
      {
       "output_type": "stream",
       "stream": "stdout",
       "text": [
        " \n",
        "88453"
       ]
      },
      {
       "output_type": "stream",
       "stream": "stdout",
       "text": [
        " \n",
        "84592"
       ]
      },
      {
       "output_type": "stream",
       "stream": "stdout",
       "text": [
        " \n",
        "88457"
       ]
      },
      {
       "output_type": "stream",
       "stream": "stdout",
       "text": [
        " \n",
        "72138"
       ]
      },
      {
       "output_type": "stream",
       "stream": "stdout",
       "text": [
        " \n",
        "65930"
       ]
      },
      {
       "output_type": "stream",
       "stream": "stdout",
       "text": [
        " \n",
        "72124"
       ]
      },
      {
       "output_type": "stream",
       "stream": "stdout",
       "text": [
        " \n",
        "74104"
       ]
      },
      {
       "output_type": "stream",
       "stream": "stdout",
       "text": [
        " 74105\n",
        "72124"
       ]
      },
      {
       "output_type": "stream",
       "stream": "stdout",
       "text": [
        " 71334\n",
        "74073"
       ]
      },
      {
       "output_type": "stream",
       "stream": "stdout",
       "text": [
        " 74089\n",
        "88209"
       ]
      },
      {
       "output_type": "stream",
       "stream": "stdout",
       "text": [
        " \n",
        "88163"
       ]
      },
      {
       "output_type": "stream",
       "stream": "stdout",
       "text": [
        " 88161\n",
        "88367"
       ]
      },
      {
       "output_type": "stream",
       "stream": "stdout",
       "text": [
        " \n",
        "72125"
       ]
      },
      {
       "output_type": "stream",
       "stream": "stdout",
       "text": [
        " \n",
        "76159"
       ]
      },
      {
       "output_type": "stream",
       "stream": "stdout",
       "text": [
        " \n",
        "74065"
       ]
      },
      {
       "output_type": "stream",
       "stream": "stdout",
       "text": [
        " \n",
        "86415"
       ]
      },
      {
       "output_type": "stream",
       "stream": "stdout",
       "text": [
        " \n",
        "67008"
       ]
      },
      {
       "output_type": "stream",
       "stream": "stdout",
       "text": [
        " \n",
        "74028"
       ]
      },
      {
       "output_type": "stream",
       "stream": "stdout",
       "text": [
        " 74029\n",
        "71335"
       ]
      },
      {
       "output_type": "stream",
       "stream": "stdout",
       "text": [
        " 70333\n",
        "74049"
       ]
      },
      {
       "output_type": "stream",
       "stream": "stdout",
       "text": [
        " 74051\n",
        "66227"
       ]
      },
      {
       "output_type": "stream",
       "stream": "stdout",
       "text": [
        " 66224\n",
        "65936"
       ]
      },
      {
       "output_type": "stream",
       "stream": "stdout",
       "text": [
        " \n",
        "66179"
       ]
      },
      {
       "output_type": "stream",
       "stream": "stdout",
       "text": [
        " \n",
        "65908"
       ]
      },
      {
       "output_type": "stream",
       "stream": "stdout",
       "text": [
        " \n",
        "66169"
       ]
      },
      {
       "output_type": "stream",
       "stream": "stdout",
       "text": [
        " \n",
        "59082"
       ]
      },
      {
       "output_type": "stream",
       "stream": "stdout",
       "text": [
        " 59083\n",
        "59098"
       ]
      },
      {
       "output_type": "stream",
       "stream": "stdout",
       "text": [
        " \n",
        "65888"
       ]
      },
      {
       "output_type": "stream",
       "stream": "stdout",
       "text": [
        " 65889\n",
        "64037"
       ]
      },
      {
       "output_type": "stream",
       "stream": "stdout",
       "text": [
        " \n",
        "55307"
       ]
      },
      {
       "output_type": "stream",
       "stream": "stdout",
       "text": [
        " \n",
        "57877"
       ]
      },
      {
       "output_type": "stream",
       "stream": "stdout",
       "text": [
        " \n",
        "57847"
       ]
      },
      {
       "output_type": "stream",
       "stream": "stdout",
       "text": [
        " \n",
        "57839"
       ]
      },
      {
       "output_type": "stream",
       "stream": "stdout",
       "text": [
        " \n",
        "58619"
       ]
      },
      {
       "output_type": "stream",
       "stream": "stdout",
       "text": [
        " \n",
        "55366"
       ]
      },
      {
       "output_type": "stream",
       "stream": "stdout",
       "text": [
        " \n",
        "55302"
       ]
      },
      {
       "output_type": "stream",
       "stream": "stdout",
       "text": [
        " \n",
        "43376"
       ]
      },
      {
       "output_type": "stream",
       "stream": "stdout",
       "text": [
        " 54542\n",
        "57795"
       ]
      },
      {
       "output_type": "stream",
       "stream": "stdout",
       "text": [
        " \n",
        "57784"
       ]
      },
      {
       "output_type": "stream",
       "stream": "stdout",
       "text": [
        " \n",
        "57780"
       ]
      },
      {
       "output_type": "stream",
       "stream": "stdout",
       "text": [
        " \n",
        "55422"
       ]
      },
      {
       "output_type": "stream",
       "stream": "stdout",
       "text": [
        " \n",
        "55230"
       ]
      },
      {
       "output_type": "stream",
       "stream": "stdout",
       "text": [
        " \n",
        "58615"
       ]
      },
      {
       "output_type": "stream",
       "stream": "stdout",
       "text": [
        " 58616\n",
        "55399"
       ]
      },
      {
       "output_type": "stream",
       "stream": "stdout",
       "text": [
        " \n",
        "55438"
       ]
      },
      {
       "output_type": "stream",
       "stream": "stdout",
       "text": [
        " \n",
        "57736"
       ]
      },
      {
       "output_type": "stream",
       "stream": "stdout",
       "text": [
        " \n",
        "57788"
       ]
      },
      {
       "output_type": "stream",
       "stream": "stdout",
       "text": [
        " \n",
        "57721"
       ]
      },
      {
       "output_type": "stream",
       "stream": "stdout",
       "text": [
        " \n",
        "55266"
       ]
      },
      {
       "output_type": "stream",
       "stream": "stdout",
       "text": [
        " \n",
        "55264"
       ]
      },
      {
       "output_type": "stream",
       "stream": "stdout",
       "text": [
        " \n",
        "95472"
       ]
      },
      {
       "output_type": "stream",
       "stream": "stdout",
       "text": [
        " \n",
        "94976"
       ]
      },
      {
       "output_type": "stream",
       "stream": "stdout",
       "text": [
        " \n",
        "59100"
       ]
      },
      {
       "output_type": "stream",
       "stream": "stdout",
       "text": [
        " 59160\n",
        "95700"
       ]
      },
      {
       "output_type": "stream",
       "stream": "stdout",
       "text": [
        " \n",
        "95418"
       ]
      },
      {
       "output_type": "stream",
       "stream": "stdout",
       "text": [
        " 95419\n",
        "90106"
       ]
      },
      {
       "output_type": "stream",
       "stream": "stdout",
       "text": [
        " \n",
        "94716"
       ]
      },
      {
       "output_type": "stream",
       "stream": "stdout",
       "text": [
        " \n",
        "59112"
       ]
      },
      {
       "output_type": "stream",
       "stream": "stdout",
       "text": [
        " 59113\n",
        "94975"
       ]
      },
      {
       "output_type": "stream",
       "stream": "stdout",
       "text": [
        " \n",
        "95043"
       ]
      },
      {
       "output_type": "stream",
       "stream": "stdout",
       "text": [
        " \n",
        "91147"
       ]
      },
      {
       "output_type": "stream",
       "stream": "stdout",
       "text": [
        " \n",
        "95807"
       ]
      },
      {
       "output_type": "stream",
       "stream": "stdout",
       "text": [
        " \n",
        "95020"
       ]
      },
      {
       "output_type": "stream",
       "stream": "stdout",
       "text": [
        " \n",
        "95291"
       ]
      },
      {
       "output_type": "stream",
       "stream": "stdout",
       "text": [
        " \n",
        "95210"
       ]
      },
      {
       "output_type": "stream",
       "stream": "stdout",
       "text": [
        " 95211\n",
        "95061"
       ]
      },
      {
       "output_type": "stream",
       "stream": "stdout",
       "text": [
        " \n",
        "95804"
       ]
      },
      {
       "output_type": "stream",
       "stream": "stdout",
       "text": [
        " \n",
        "95317"
       ]
      },
      {
       "output_type": "stream",
       "stream": "stdout",
       "text": [
        " \n",
        "94795"
       ]
      },
      {
       "output_type": "stream",
       "stream": "stdout",
       "text": [
        " \n",
        "59061"
       ]
      },
      {
       "output_type": "stream",
       "stream": "stdout",
       "text": [
        " 59062\n",
        "93511"
       ]
      },
      {
       "output_type": "stream",
       "stream": "stdout",
       "text": [
        " \n",
        "95106"
       ]
      },
      {
       "output_type": "stream",
       "stream": "stdout",
       "text": [
        " \n",
        "95046"
       ]
      },
      {
       "output_type": "stream",
       "stream": "stdout",
       "text": [
        " \n",
        "95195"
       ]
      },
      {
       "output_type": "stream",
       "stream": "stdout",
       "text": [
        " \n",
        "95340"
       ]
      },
      {
       "output_type": "stream",
       "stream": "stdout",
       "text": [
        " \n",
        "95069"
       ]
      },
      {
       "output_type": "stream",
       "stream": "stdout",
       "text": [
        " 95070\n",
        "95177"
       ]
      },
      {
       "output_type": "stream",
       "stream": "stdout",
       "text": [
        " 95178\n",
        "91145"
       ]
      },
      {
       "output_type": "stream",
       "stream": "stdout",
       "text": [
        " 91146\n",
        "94616"
       ]
      },
      {
       "output_type": "stream",
       "stream": "stdout",
       "text": [
        " \n",
        "91131"
       ]
      },
      {
       "output_type": "stream",
       "stream": "stdout",
       "text": [
        " \n",
        "94813"
       ]
      },
      {
       "output_type": "stream",
       "stream": "stdout",
       "text": [
        " \n",
        "94386"
       ]
      },
      {
       "output_type": "stream",
       "stream": "stdout",
       "text": [
        " \n",
        "94784"
       ]
      },
      {
       "output_type": "stream",
       "stream": "stdout",
       "text": [
        " \n",
        "94522"
       ]
      },
      {
       "output_type": "stream",
       "stream": "stdout",
       "text": [
        " \n",
        "94477"
       ]
      },
      {
       "output_type": "stream",
       "stream": "stdout",
       "text": [
        " \n",
        "93640"
       ]
      },
      {
       "output_type": "stream",
       "stream": "stdout",
       "text": [
        " 93653\n",
        "93640"
       ]
      },
      {
       "output_type": "stream",
       "stream": "stdout",
       "text": [
        " 93668\n",
        "94456"
       ]
      },
      {
       "output_type": "stream",
       "stream": "stdout",
       "text": [
        " 94457\n",
        "94757"
       ]
      },
      {
       "output_type": "stream",
       "stream": "stdout",
       "text": [
        " \n",
        "94584"
       ]
      },
      {
       "output_type": "stream",
       "stream": "stdout",
       "text": [
        " \n",
        "94461"
       ]
      },
      {
       "output_type": "stream",
       "stream": "stdout",
       "text": [
        " 94519\n",
        "94324"
       ]
      },
      {
       "output_type": "stream",
       "stream": "stdout",
       "text": [
        " 94326\n",
        "94571"
       ]
      },
      {
       "output_type": "stream",
       "stream": "stdout",
       "text": [
        " 94461\n",
        "94708"
       ]
      },
      {
       "output_type": "stream",
       "stream": "stdout",
       "text": [
        " 94709\n",
        "94496"
       ]
      },
      {
       "output_type": "stream",
       "stream": "stdout",
       "text": [
        " \n",
        "94366"
       ]
      },
      {
       "output_type": "stream",
       "stream": "stdout",
       "text": [
        " \n",
        "94702"
       ]
      },
      {
       "output_type": "stream",
       "stream": "stdout",
       "text": [
        " 94703\n",
        "94704"
       ]
      },
      {
       "output_type": "stream",
       "stream": "stdout",
       "text": [
        " 94705\n",
        "93997"
       ]
      },
      {
       "output_type": "stream",
       "stream": "stdout",
       "text": [
        " \n",
        "94084"
       ]
      },
      {
       "output_type": "stream",
       "stream": "stdout",
       "text": [
        " 94085\n",
        "94109"
       ]
      },
      {
       "output_type": "stream",
       "stream": "stdout",
       "text": [
        " \n",
        "93929"
       ]
      },
      {
       "output_type": "stream",
       "stream": "stdout",
       "text": [
        " 93930\n",
        "93862"
       ]
      },
      {
       "output_type": "stream",
       "stream": "stdout",
       "text": [
        " 93863\n",
        "93913"
       ]
      },
      {
       "output_type": "stream",
       "stream": "stdout",
       "text": [
        " 93914\n",
        "93905"
       ]
      },
      {
       "output_type": "stream",
       "stream": "stdout",
       "text": [
        " 93912\n",
        "93905"
       ]
      },
      {
       "output_type": "stream",
       "stream": "stdout",
       "text": [
        " \n",
        "94091"
       ]
      },
      {
       "output_type": "stream",
       "stream": "stdout",
       "text": [
        " \n",
        "93469"
       ]
      },
      {
       "output_type": "stream",
       "stream": "stdout",
       "text": [
        " \n",
        "93516"
       ]
      },
      {
       "output_type": "stream",
       "stream": "stdout",
       "text": [
        " \n",
        "93437"
       ]
      },
      {
       "output_type": "stream",
       "stream": "stdout",
       "text": [
        " 93436\n",
        "93746"
       ]
      },
      {
       "output_type": "stream",
       "stream": "stdout",
       "text": [
        " \n",
        "93640"
       ]
      },
      {
       "output_type": "stream",
       "stream": "stdout",
       "text": [
        " 93655\n",
        "93640"
       ]
      },
      {
       "output_type": "stream",
       "stream": "stdout",
       "text": [
        " 93654\n",
        "93674"
       ]
      },
      {
       "output_type": "stream",
       "stream": "stdout",
       "text": [
        " 93675\n",
        "93449"
       ]
      },
      {
       "output_type": "stream",
       "stream": "stdout",
       "text": [
        " 93450\n",
        "93582"
       ]
      },
      {
       "output_type": "stream",
       "stream": "stdout",
       "text": [
        " 93581\n",
        "93375"
       ]
      },
      {
       "output_type": "stream",
       "stream": "stdout",
       "text": [
        " \n",
        "93367"
       ]
      },
      {
       "output_type": "stream",
       "stream": "stdout",
       "text": [
        " \n",
        "90827"
       ]
      },
      {
       "output_type": "stream",
       "stream": "stdout",
       "text": [
        " 90764\n",
        "92604"
       ]
      },
      {
       "output_type": "stream",
       "stream": "stdout",
       "text": [
        " \n",
        "92608"
       ]
      },
      {
       "output_type": "stream",
       "stream": "stdout",
       "text": [
        " 93348\n",
        "94488"
       ]
      },
      {
       "output_type": "stream",
       "stream": "stdout",
       "text": [
        " \n",
        "93521"
       ]
      },
      {
       "output_type": "stream",
       "stream": "stdout",
       "text": [
        " \n",
        "91078"
       ]
      },
      {
       "output_type": "stream",
       "stream": "stdout",
       "text": [
        " \n",
        "92541"
       ]
      },
      {
       "output_type": "stream",
       "stream": "stdout",
       "text": [
        " \n",
        "91063"
       ]
      },
      {
       "output_type": "stream",
       "stream": "stdout",
       "text": [
        " \n",
        "90946"
       ]
      },
      {
       "output_type": "stream",
       "stream": "stdout",
       "text": [
        " \n",
        "93561"
       ]
      },
      {
       "output_type": "stream",
       "stream": "stdout",
       "text": [
        " \n",
        "95221"
       ]
      },
      {
       "output_type": "stream",
       "stream": "stdout",
       "text": [
        " 95224\n",
        "92542"
       ]
      },
      {
       "output_type": "stream",
       "stream": "stdout",
       "text": [
        " \n",
        "90631"
       ]
      },
      {
       "output_type": "stream",
       "stream": "stdout",
       "text": [
        " \n",
        "90083"
       ]
      },
      {
       "output_type": "stream",
       "stream": "stdout",
       "text": [
        " \n",
        "91054"
       ]
      },
      {
       "output_type": "stream",
       "stream": "stdout",
       "text": [
        " 91055\n",
        "90838"
       ]
      },
      {
       "output_type": "stream",
       "stream": "stdout",
       "text": [
        " \n",
        "88133"
       ]
      },
      {
       "output_type": "stream",
       "stream": "stdout",
       "text": [
        " \n",
        "94037"
       ]
      },
      {
       "output_type": "stream",
       "stream": "stdout",
       "text": [
        " \n",
        "90652"
       ]
      },
      {
       "output_type": "stream",
       "stream": "stdout",
       "text": [
        " 90655\n",
        "90799"
       ]
      },
      {
       "output_type": "stream",
       "stream": "stdout",
       "text": [
        " \n",
        "72119"
       ]
      },
      {
       "output_type": "stream",
       "stream": "stdout",
       "text": [
        " \n",
        "90392"
       ]
      },
      {
       "output_type": "stream",
       "stream": "stdout",
       "text": [
        " \n",
        "90832"
       ]
      },
      {
       "output_type": "stream",
       "stream": "stdout",
       "text": [
        " \n",
        "90389"
       ]
      },
      {
       "output_type": "stream",
       "stream": "stdout",
       "text": [
        " \n",
        "90498"
       ]
      },
      {
       "output_type": "stream",
       "stream": "stdout",
       "text": [
        " \n",
        "90165"
       ]
      },
      {
       "output_type": "stream",
       "stream": "stdout",
       "text": [
        " 90180\n",
        "90175"
       ]
      },
      {
       "output_type": "stream",
       "stream": "stdout",
       "text": [
        " \n",
        "90741"
       ]
      },
      {
       "output_type": "stream",
       "stream": "stdout",
       "text": [
        " \n",
        "93420"
       ]
      },
      {
       "output_type": "stream",
       "stream": "stdout",
       "text": [
        " \n",
        "90729"
       ]
      },
      {
       "output_type": "stream",
       "stream": "stdout",
       "text": [
        " \n",
        "93417"
       ]
      },
      {
       "output_type": "stream",
       "stream": "stdout",
       "text": [
        " \n",
        "89802"
       ]
      },
      {
       "output_type": "stream",
       "stream": "stdout",
       "text": [
        " \n",
        "93431"
       ]
      },
      {
       "output_type": "stream",
       "stream": "stdout",
       "text": [
        " \n",
        "90066"
       ]
      },
      {
       "output_type": "stream",
       "stream": "stdout",
       "text": [
        " \n",
        "90826"
       ]
      },
      {
       "output_type": "stream",
       "stream": "stdout",
       "text": [
        " \n",
        "90051"
       ]
      },
      {
       "output_type": "stream",
       "stream": "stdout",
       "text": [
        " \n",
        "90388"
       ]
      },
      {
       "output_type": "stream",
       "stream": "stdout",
       "text": [
        " \n",
        "89150"
       ]
      },
      {
       "output_type": "stream",
       "stream": "stdout",
       "text": [
        " 89151\n",
        "75127"
       ]
      },
      {
       "output_type": "stream",
       "stream": "stdout",
       "text": [
        " 89154\n",
        "90036"
       ]
      },
      {
       "output_type": "stream",
       "stream": "stdout",
       "text": [
        " \n",
        "88383"
       ]
      },
      {
       "output_type": "stream",
       "stream": "stdout",
       "text": [
        " \n",
        "89237"
       ]
      },
      {
       "output_type": "stream",
       "stream": "stdout",
       "text": [
        " 89324\n",
        "89061"
       ]
      },
      {
       "output_type": "stream",
       "stream": "stdout",
       "text": [
        " 89163\n",
        "89150"
       ]
      },
      {
       "output_type": "stream",
       "stream": "stdout",
       "text": [
        " 89163\n",
        "88305"
       ]
      },
      {
       "output_type": "stream",
       "stream": "stdout",
       "text": [
        " \n",
        "85058"
       ]
      },
      {
       "output_type": "stream",
       "stream": "stdout",
       "text": [
        " \n",
        "89306"
       ]
      },
      {
       "output_type": "stream",
       "stream": "stdout",
       "text": [
        " \n",
        "89150"
       ]
      },
      {
       "output_type": "stream",
       "stream": "stdout",
       "text": [
        " \n",
        "88211"
       ]
      },
      {
       "output_type": "stream",
       "stream": "stdout",
       "text": [
        " \n",
        "89225"
       ]
      },
      {
       "output_type": "stream",
       "stream": "stdout",
       "text": [
        " \n",
        "90076"
       ]
      },
      {
       "output_type": "stream",
       "stream": "stdout",
       "text": [
        " \n",
        "89245"
       ]
      },
      {
       "output_type": "stream",
       "stream": "stdout",
       "text": [
        " \n",
        "90058"
       ]
      },
      {
       "output_type": "stream",
       "stream": "stdout",
       "text": [
        " \n",
        "85025"
       ]
      },
      {
       "output_type": "stream",
       "stream": "stdout",
       "text": [
        " \n",
        "89246"
       ]
      },
      {
       "output_type": "stream",
       "stream": "stdout",
       "text": [
        " \n",
        "89002"
       ]
      },
      {
       "output_type": "stream",
       "stream": "stdout",
       "text": [
        " \n",
        "88240"
       ]
      },
      {
       "output_type": "stream",
       "stream": "stdout",
       "text": [
        " \n",
        "88309"
       ]
      },
      {
       "output_type": "stream",
       "stream": "stdout",
       "text": [
        " \n",
        "79673"
       ]
      },
      {
       "output_type": "stream",
       "stream": "stdout",
       "text": [
        " \n",
        "66104"
       ]
      },
      {
       "output_type": "stream",
       "stream": "stdout",
       "text": [
        " 79272\n",
        "88461"
       ]
      },
      {
       "output_type": "stream",
       "stream": "stdout",
       "text": [
        " 88460\n",
        "86393"
       ]
      },
      {
       "output_type": "stream",
       "stream": "stdout",
       "text": [
        " \n",
        "79268"
       ]
      },
      {
       "output_type": "stream",
       "stream": "stdout",
       "text": [
        " 79269\n",
        "91103"
       ]
      },
      {
       "output_type": "stream",
       "stream": "stdout",
       "text": [
        " \n",
        "84841"
       ]
      },
      {
       "output_type": "stream",
       "stream": "stdout",
       "text": [
        " 85043\n",
        "74073"
       ]
      },
      {
       "output_type": "stream",
       "stream": "stdout",
       "text": [
        " 74090\n",
        "88900"
       ]
      },
      {
       "output_type": "stream",
       "stream": "stdout",
       "text": [
        " \n",
        "88647"
       ]
      },
      {
       "output_type": "stream",
       "stream": "stdout",
       "text": [
        " \n",
        "75097"
       ]
      },
      {
       "output_type": "stream",
       "stream": "stdout",
       "text": [
        " \n",
        "88588"
       ]
      },
      {
       "output_type": "stream",
       "stream": "stdout",
       "text": [
        " \n",
        "87369"
       ]
      },
      {
       "output_type": "stream",
       "stream": "stdout",
       "text": [
        " \n",
        "88636"
       ]
      },
      {
       "output_type": "stream",
       "stream": "stdout",
       "text": [
        " \n",
        "86415"
       ]
      },
      {
       "output_type": "stream",
       "stream": "stdout",
       "text": [
        " 88347\n",
        "88459"
       ]
      },
      {
       "output_type": "stream",
       "stream": "stdout",
       "text": [
        " \n",
        "85041"
       ]
      },
      {
       "output_type": "stream",
       "stream": "stdout",
       "text": [
        " 85042\n",
        "88320"
       ]
      },
      {
       "output_type": "stream",
       "stream": "stdout",
       "text": [
        " \n",
        "88319"
       ]
      },
      {
       "output_type": "stream",
       "stream": "stdout",
       "text": [
        " \n",
        "88431"
       ]
      },
      {
       "output_type": "stream",
       "stream": "stdout",
       "text": [
        " \n",
        "88390"
       ]
      },
      {
       "output_type": "stream",
       "stream": "stdout",
       "text": [
        " \n",
        "71324"
       ]
      },
      {
       "output_type": "stream",
       "stream": "stdout",
       "text": [
        " \n",
        "72134"
       ]
      },
      {
       "output_type": "stream",
       "stream": "stdout",
       "text": [
        " 71341\n",
        "86352"
       ]
      },
      {
       "output_type": "stream",
       "stream": "stdout",
       "text": [
        " 86353\n",
        "88165"
       ]
      },
      {
       "output_type": "stream",
       "stream": "stdout",
       "text": [
        " \n",
        "88129"
       ]
      },
      {
       "output_type": "stream",
       "stream": "stdout",
       "text": [
        " 88161\n",
        "88245"
       ]
      },
      {
       "output_type": "stream",
       "stream": "stdout",
       "text": [
        " \n",
        "87843"
       ]
      },
      {
       "output_type": "stream",
       "stream": "stdout",
       "text": [
        " 88078\n",
        "67014"
       ]
      },
      {
       "output_type": "stream",
       "stream": "stdout",
       "text": [
        " 67015\n",
        "74066"
       ]
      },
      {
       "output_type": "stream",
       "stream": "stdout",
       "text": [
        " \n",
        "88353"
       ]
      },
      {
       "output_type": "stream",
       "stream": "stdout",
       "text": [
        " \n",
        "86409"
       ]
      },
      {
       "output_type": "stream",
       "stream": "stdout",
       "text": [
        " \n",
        "71348"
       ]
      },
      {
       "output_type": "stream",
       "stream": "stdout",
       "text": [
        " 72119\n",
        "65984"
       ]
      },
      {
       "output_type": "stream",
       "stream": "stdout",
       "text": [
        " \n",
        "66833"
       ]
      },
      {
       "output_type": "stream",
       "stream": "stdout",
       "text": [
        " \n",
        "89001"
       ]
      },
      {
       "output_type": "stream",
       "stream": "stdout",
       "text": [
        " \n",
        "66784"
       ]
      },
      {
       "output_type": "stream",
       "stream": "stdout",
       "text": [
        " \n",
        "66213"
       ]
      },
      {
       "output_type": "stream",
       "stream": "stdout",
       "text": [
        " 66178\n",
        "66203"
       ]
      },
      {
       "output_type": "stream",
       "stream": "stdout",
       "text": [
        " 66204\n",
        "66814"
       ]
      },
      {
       "output_type": "stream",
       "stream": "stdout",
       "text": [
        " 66815\n",
        "66162"
       ]
      },
      {
       "output_type": "stream",
       "stream": "stdout",
       "text": [
        " \n",
        "88146"
       ]
      },
      {
       "output_type": "stream",
       "stream": "stdout",
       "text": [
        " \n",
        "61864"
       ]
      },
      {
       "output_type": "stream",
       "stream": "stdout",
       "text": [
        " \n",
        "66075"
       ]
      },
      {
       "output_type": "stream",
       "stream": "stdout",
       "text": [
        " \n",
        "59102"
       ]
      },
      {
       "output_type": "stream",
       "stream": "stdout",
       "text": [
        " \n",
        "65986"
       ]
      },
      {
       "output_type": "stream",
       "stream": "stdout",
       "text": [
        " \n",
        "66008"
       ]
      },
      {
       "output_type": "stream",
       "stream": "stdout",
       "text": [
        " \n",
        "65935"
       ]
      },
      {
       "output_type": "stream",
       "stream": "stdout",
       "text": [
        " \n",
        "66053"
       ]
      },
      {
       "output_type": "stream",
       "stream": "stdout",
       "text": [
        " \n",
        "65922"
       ]
      },
      {
       "output_type": "stream",
       "stream": "stdout",
       "text": [
        " 65925\n",
        "65920"
       ]
      },
      {
       "output_type": "stream",
       "stream": "stdout",
       "text": [
        " 65928\n",
        "64023"
       ]
      },
      {
       "output_type": "stream",
       "stream": "stdout",
       "text": [
        " 64022\n",
        "65910"
       ]
      },
      {
       "output_type": "stream",
       "stream": "stdout",
       "text": [
        " \n",
        "66081"
       ]
      },
      {
       "output_type": "stream",
       "stream": "stdout",
       "text": [
        " \n",
        "65335"
       ]
      },
      {
       "output_type": "stream",
       "stream": "stdout",
       "text": [
        " \n",
        "59080"
       ]
      },
      {
       "output_type": "stream",
       "stream": "stdout",
       "text": [
        " 59171\n",
        "61841"
       ]
      },
      {
       "output_type": "stream",
       "stream": "stdout",
       "text": [
        " \n",
        "89224"
       ]
      },
      {
       "output_type": "stream",
       "stream": "stdout",
       "text": [
        " \n",
        "59020"
       ]
      },
      {
       "output_type": "stream",
       "stream": "stdout",
       "text": [
        " \n",
        "58679"
       ]
      },
      {
       "output_type": "stream",
       "stream": "stdout",
       "text": [
        " 58680\n",
        "57775"
       ]
      },
      {
       "output_type": "stream",
       "stream": "stdout",
       "text": [
        " \n",
        "59163"
       ]
      },
      {
       "output_type": "stream",
       "stream": "stdout",
       "text": [
        " \n",
        "34391"
       ]
      },
      {
       "output_type": "stream",
       "stream": "stdout",
       "text": [
        " \n",
        "57778"
       ]
      },
      {
       "output_type": "stream",
       "stream": "stdout",
       "text": [
        " 57813\n",
        "58660"
       ]
      },
      {
       "output_type": "stream",
       "stream": "stdout",
       "text": [
        " 58661\n",
        "57826"
       ]
      },
      {
       "output_type": "stream",
       "stream": "stdout",
       "text": [
        " \n",
        "58649"
       ]
      },
      {
       "output_type": "stream",
       "stream": "stdout",
       "text": [
        " 58650\n",
        "58636"
       ]
      },
      {
       "output_type": "stream",
       "stream": "stdout",
       "text": [
        " 58637\n",
        "57813"
       ]
      },
      {
       "output_type": "stream",
       "stream": "stdout",
       "text": [
        " \n",
        "57796"
       ]
      },
      {
       "output_type": "stream",
       "stream": "stdout",
       "text": [
        " \n",
        "42992"
       ]
      },
      {
       "output_type": "stream",
       "stream": "stdout",
       "text": [
        " 57827\n",
        "56936"
       ]
      },
      {
       "output_type": "stream",
       "stream": "stdout",
       "text": [
        " 56958\n",
        "34393"
       ]
      },
      {
       "output_type": "stream",
       "stream": "stdout",
       "text": [
        " \n",
        "54771"
       ]
      },
      {
       "output_type": "stream",
       "stream": "stdout",
       "text": [
        " 42981\n",
        "56630"
       ]
      },
      {
       "output_type": "stream",
       "stream": "stdout",
       "text": [
        " \n",
        "58615"
       ]
      },
      {
       "output_type": "stream",
       "stream": "stdout",
       "text": [
        " \n",
        "55445"
       ]
      },
      {
       "output_type": "stream",
       "stream": "stdout",
       "text": [
        " \n",
        "55225"
       ]
      },
      {
       "output_type": "stream",
       "stream": "stdout",
       "text": [
        " \n",
        "55403"
       ]
      },
      {
       "output_type": "stream",
       "stream": "stdout",
       "text": [
        " \n",
        "55193"
       ]
      },
      {
       "output_type": "stream",
       "stream": "stdout",
       "text": [
        " \n",
        "55299"
       ]
      },
      {
       "output_type": "stream",
       "stream": "stdout",
       "text": [
        " \n",
        "43374"
       ]
      },
      {
       "output_type": "stream",
       "stream": "stdout",
       "text": [
        " 54540\n",
        "56974"
       ]
      },
      {
       "output_type": "stream",
       "stream": "stdout",
       "text": [
        " \n",
        "56907"
       ]
      },
      {
       "output_type": "stream",
       "stream": "stdout",
       "text": [
        " 56908\n",
        "55297"
       ]
      },
      {
       "output_type": "stream",
       "stream": "stdout",
       "text": [
        " \n",
        "34347"
       ]
      },
      {
       "output_type": "stream",
       "stream": "stdout",
       "text": [
        " \n",
        "42966"
       ]
      },
      {
       "output_type": "stream",
       "stream": "stdout",
       "text": [
        " 42967\n",
        "55254"
       ]
      },
      {
       "output_type": "stream",
       "stream": "stdout",
       "text": [
        " \n",
        "55302"
       ]
      },
      {
       "output_type": "stream",
       "stream": "stdout",
       "text": [
        " 55303\n",
        "55229"
       ]
      },
      {
       "output_type": "stream",
       "stream": "stdout",
       "text": [
        " \n",
        "42974"
       ]
      },
      {
       "output_type": "stream",
       "stream": "stdout",
       "text": [
        " \n",
        "42951"
       ]
      },
      {
       "output_type": "stream",
       "stream": "stdout",
       "text": [
        " 42952\n",
        "55184"
       ]
      },
      {
       "output_type": "stream",
       "stream": "stdout",
       "text": [
        " \n",
        "56905"
       ]
      },
      {
       "output_type": "stream",
       "stream": "stdout",
       "text": [
        " \n",
        "94752"
       ]
      },
      {
       "output_type": "stream",
       "stream": "stdout",
       "text": [
        " \n",
        "95144"
       ]
      },
      {
       "output_type": "stream",
       "stream": "stdout",
       "text": [
        " \n",
        "95528"
       ]
      },
      {
       "output_type": "stream",
       "stream": "stdout",
       "text": [
        " 95527\n",
        "91089"
       ]
      },
      {
       "output_type": "stream",
       "stream": "stdout",
       "text": [
        " 90948\n",
        "94963"
       ]
      },
      {
       "output_type": "stream",
       "stream": "stdout",
       "text": [
        " \n",
        "95574"
       ]
      },
      {
       "output_type": "stream",
       "stream": "stdout",
       "text": [
        " \n",
        "95579"
       ]
      },
      {
       "output_type": "stream",
       "stream": "stdout",
       "text": [
        " \n",
        "93362"
       ]
      },
      {
       "output_type": "stream",
       "stream": "stdout",
       "text": [
        " 93363\n",
        "95376"
       ]
      },
      {
       "output_type": "stream",
       "stream": "stdout",
       "text": [
        " \n",
        "95060"
       ]
      },
      {
       "output_type": "stream",
       "stream": "stdout",
       "text": [
        " \n",
        "93512"
       ]
      },
      {
       "output_type": "stream",
       "stream": "stdout",
       "text": [
        " \n",
        "90775"
       ]
      },
      {
       "output_type": "stream",
       "stream": "stdout",
       "text": [
        " \n",
        "95672"
       ]
      },
      {
       "output_type": "stream",
       "stream": "stdout",
       "text": [
        " \n",
        "94743"
       ]
      },
      {
       "output_type": "stream",
       "stream": "stdout",
       "text": [
        " \n",
        "90804"
       ]
      },
      {
       "output_type": "stream",
       "stream": "stdout",
       "text": [
        " \n",
        "95473"
       ]
      },
      {
       "output_type": "stream",
       "stream": "stdout",
       "text": [
        " \n",
        "94648"
       ]
      },
      {
       "output_type": "stream",
       "stream": "stdout",
       "text": [
        " 94818\n",
        "95390"
       ]
      },
      {
       "output_type": "stream",
       "stream": "stdout",
       "text": [
        " \n",
        "95675"
       ]
      },
      {
       "output_type": "stream",
       "stream": "stdout",
       "text": [
        " \n",
        "95477"
       ]
      },
      {
       "output_type": "stream",
       "stream": "stdout",
       "text": [
        " \n",
        "95389"
       ]
      },
      {
       "output_type": "stream",
       "stream": "stdout",
       "text": [
        " \n",
        "91089"
       ]
      },
      {
       "output_type": "stream",
       "stream": "stdout",
       "text": [
        " 91090\n",
        "95734"
       ]
      },
      {
       "output_type": "stream",
       "stream": "stdout",
       "text": [
        " \n",
        "94946"
       ]
      },
      {
       "output_type": "stream",
       "stream": "stdout",
       "text": [
        " 94902\n",
        "95498"
       ]
      },
      {
       "output_type": "stream",
       "stream": "stdout",
       "text": [
        " \n",
        "59065"
       ]
      },
      {
       "output_type": "stream",
       "stream": "stdout",
       "text": [
        " 59066\n",
        "91074"
       ]
      },
      {
       "output_type": "stream",
       "stream": "stdout",
       "text": [
        " 91075\n",
        "92514"
       ]
      },
      {
       "output_type": "stream",
       "stream": "stdout",
       "text": [
        " \n",
        "95790"
       ]
      },
      {
       "output_type": "stream",
       "stream": "stdout",
       "text": [
        " \n",
        "95006"
       ]
      },
      {
       "output_type": "stream",
       "stream": "stdout",
       "text": [
        " \n",
        "95307"
       ]
      },
      {
       "output_type": "stream",
       "stream": "stdout",
       "text": [
        " \n",
        "94993"
       ]
      },
      {
       "output_type": "stream",
       "stream": "stdout",
       "text": [
        " \n",
        "95657"
       ]
      },
      {
       "output_type": "stream",
       "stream": "stdout",
       "text": [
        " \n",
        "93545"
       ]
      },
      {
       "output_type": "stream",
       "stream": "stdout",
       "text": [
        " \n",
        "96130"
       ]
      },
      {
       "output_type": "stream",
       "stream": "stdout",
       "text": [
        " \n",
        "95582"
       ]
      },
      {
       "output_type": "stream",
       "stream": "stdout",
       "text": [
        " \n",
        "96153"
       ]
      },
      {
       "output_type": "stream",
       "stream": "stdout",
       "text": [
        " \n",
        "95002"
       ]
      },
      {
       "output_type": "stream",
       "stream": "stdout",
       "text": [
        " \n",
        "94980"
       ]
      },
      {
       "output_type": "stream",
       "stream": "stdout",
       "text": [
        " \n",
        "95683"
       ]
      },
      {
       "output_type": "stream",
       "stream": "stdout",
       "text": [
        " \n",
        "96215"
       ]
      },
      {
       "output_type": "stream",
       "stream": "stdout",
       "text": [
        " \n",
        "95494"
       ]
      },
      {
       "output_type": "stream",
       "stream": "stdout",
       "text": [
        " \n",
        "95824"
       ]
      },
      {
       "output_type": "stream",
       "stream": "stdout",
       "text": [
        " \n",
        "95047"
       ]
      },
      {
       "output_type": "stream",
       "stream": "stdout",
       "text": [
        " \n",
        "95038"
       ]
      },
      {
       "output_type": "stream",
       "stream": "stdout",
       "text": [
        " \n",
        "96520"
       ]
      },
      {
       "output_type": "stream",
       "stream": "stdout",
       "text": [
        " \n",
        "64019"
       ]
      },
      {
       "output_type": "stream",
       "stream": "stdout",
       "text": [
        " 64017\n",
        "95452"
       ]
      },
      {
       "output_type": "stream",
       "stream": "stdout",
       "text": [
        " \n",
        "95438"
       ]
      },
      {
       "output_type": "stream",
       "stream": "stdout",
       "text": [
        " \n",
        "95176"
       ]
      },
      {
       "output_type": "stream",
       "stream": "stdout",
       "text": [
        " \n",
        "95414"
       ]
      },
      {
       "output_type": "stream",
       "stream": "stdout",
       "text": [
        " 95415\n",
        "94920"
       ]
      },
      {
       "output_type": "stream",
       "stream": "stdout",
       "text": [
        " 95380\n",
        "95363"
       ]
      },
      {
       "output_type": "stream",
       "stream": "stdout",
       "text": [
        " \n",
        "95130"
       ]
      },
      {
       "output_type": "stream",
       "stream": "stdout",
       "text": [
        " \n",
        "95322"
       ]
      },
      {
       "output_type": "stream",
       "stream": "stdout",
       "text": [
        " 95323\n",
        "95263"
       ]
      },
      {
       "output_type": "stream",
       "stream": "stdout",
       "text": [
        " 95265\n",
        "95057"
       ]
      },
      {
       "output_type": "stream",
       "stream": "stdout",
       "text": [
        " \n",
        "95045"
       ]
      },
      {
       "output_type": "stream",
       "stream": "stdout",
       "text": [
        " \n",
        "95033"
       ]
      },
      {
       "output_type": "stream",
       "stream": "stdout",
       "text": [
        " \n",
        "59099"
       ]
      },
      {
       "output_type": "stream",
       "stream": "stdout",
       "text": [
        " 59100\n",
        "95299"
       ]
      },
      {
       "output_type": "stream",
       "stream": "stdout",
       "text": [
        " \n",
        "59101"
       ]
      },
      {
       "output_type": "stream",
       "stream": "stdout",
       "text": [
        " 59102\n",
        "95373"
       ]
      },
      {
       "output_type": "stream",
       "stream": "stdout",
       "text": [
        " \n",
        "91039"
       ]
      },
      {
       "output_type": "stream",
       "stream": "stdout",
       "text": [
        " 90757\n",
        "95292"
       ]
      },
      {
       "output_type": "stream",
       "stream": "stdout",
       "text": [
        " \n",
        "94889"
       ]
      },
      {
       "output_type": "stream",
       "stream": "stdout",
       "text": [
        " \n",
        "95098"
       ]
      },
      {
       "output_type": "stream",
       "stream": "stdout",
       "text": [
        " 95288\n",
        "94785"
       ]
      },
      {
       "output_type": "stream",
       "stream": "stdout",
       "text": [
        " \n",
        "94887"
       ]
      },
      {
       "output_type": "stream",
       "stream": "stdout",
       "text": [
        " \n",
        "94786"
       ]
      },
      {
       "output_type": "stream",
       "stream": "stdout",
       "text": [
        " \n",
        "94533"
       ]
      },
      {
       "output_type": "stream",
       "stream": "stdout",
       "text": [
        " \n",
        "94524"
       ]
      },
      {
       "output_type": "stream",
       "stream": "stdout",
       "text": [
        " \n",
        "94893"
       ]
      },
      {
       "output_type": "stream",
       "stream": "stdout",
       "text": [
        " 94907\n",
        "94473"
       ]
      },
      {
       "output_type": "stream",
       "stream": "stdout",
       "text": [
        " \n",
        "92603"
       ]
      },
      {
       "output_type": "stream",
       "stream": "stdout",
       "text": [
        " \n",
        "94466"
       ]
      },
      {
       "output_type": "stream",
       "stream": "stdout",
       "text": [
        " \n",
        "91068"
       ]
      },
      {
       "output_type": "stream",
       "stream": "stdout",
       "text": [
        " 94108\n",
        "94176"
       ]
      },
      {
       "output_type": "stream",
       "stream": "stdout",
       "text": [
        " 94458\n",
        "94770"
       ]
      },
      {
       "output_type": "stream",
       "stream": "stdout",
       "text": [
        " \n",
        "59052"
       ]
      },
      {
       "output_type": "stream",
       "stream": "stdout",
       "text": [
        " 59053\n",
        "72142"
       ]
      },
      {
       "output_type": "stream",
       "stream": "stdout",
       "text": [
        " \n",
        "66201"
       ]
      },
      {
       "output_type": "stream",
       "stream": "stdout",
       "text": [
        " \n",
        "70335"
       ]
      },
      {
       "output_type": "stream",
       "stream": "stdout",
       "text": [
        " 70336\n",
        "66202"
       ]
      },
      {
       "output_type": "stream",
       "stream": "stdout",
       "text": [
        " 66204\n",
        "66236"
       ]
      },
      {
       "output_type": "stream",
       "stream": "stdout",
       "text": [
        " \n",
        "59052"
       ]
      },
      {
       "output_type": "stream",
       "stream": "stdout",
       "text": [
        " \n",
        "66797"
       ]
      },
      {
       "output_type": "stream",
       "stream": "stdout",
       "text": [
        " \n",
        "66824"
       ]
      },
      {
       "output_type": "stream",
       "stream": "stdout",
       "text": [
        " \n",
        "66820"
       ]
      },
      {
       "output_type": "stream",
       "stream": "stdout",
       "text": [
        " 66821\n",
        "91100"
       ]
      },
      {
       "output_type": "stream",
       "stream": "stdout",
       "text": [
        " \n",
        "59074"
       ]
      },
      {
       "output_type": "stream",
       "stream": "stdout",
       "text": [
        " \n",
        "95502"
       ]
      },
      {
       "output_type": "stream",
       "stream": "stdout",
       "text": [
        " \n",
        "59057"
       ]
      },
      {
       "output_type": "stream",
       "stream": "stdout",
       "text": [
        " 59105\n",
        "95103"
       ]
      },
      {
       "output_type": "stream",
       "stream": "stdout",
       "text": [
        " \n",
        "95639"
       ]
      },
      {
       "output_type": "stream",
       "stream": "stdout",
       "text": [
        " \n",
        "93538"
       ]
      },
      {
       "output_type": "stream",
       "stream": "stdout",
       "text": [
        " \n",
        "95478"
       ]
      },
      {
       "output_type": "stream",
       "stream": "stdout",
       "text": [
        " \n",
        "95023"
       ]
      },
      {
       "output_type": "stream",
       "stream": "stdout",
       "text": [
        " \n",
        "95713"
       ]
      },
      {
       "output_type": "stream",
       "stream": "stdout",
       "text": [
        " \n",
        "95175"
       ]
      },
      {
       "output_type": "stream",
       "stream": "stdout",
       "text": [
        " \n",
        "95745"
       ]
      },
      {
       "output_type": "stream",
       "stream": "stdout",
       "text": [
        " 95746\n",
        "95747"
       ]
      },
      {
       "output_type": "stream",
       "stream": "stdout",
       "text": [
        " \n",
        "95012"
       ]
      },
      {
       "output_type": "stream",
       "stream": "stdout",
       "text": [
        " \n",
        "59108"
       ]
      },
      {
       "output_type": "stream",
       "stream": "stdout",
       "text": [
        " 59109\n",
        "94605"
       ]
      },
      {
       "output_type": "stream",
       "stream": "stdout",
       "text": [
        " \n",
        "94365"
       ]
      },
      {
       "output_type": "stream",
       "stream": "stdout",
       "text": [
        " \n",
        "94596"
       ]
      },
      {
       "output_type": "stream",
       "stream": "stdout",
       "text": [
        " 94593\n",
        "94593"
       ]
      },
      {
       "output_type": "stream",
       "stream": "stdout",
       "text": [
        " 94594\n",
        "94583"
       ]
      },
      {
       "output_type": "stream",
       "stream": "stdout",
       "text": [
        " \n",
        "93897"
       ]
      },
      {
       "output_type": "stream",
       "stream": "stdout",
       "text": [
        " 93952\n",
        "94330"
       ]
      },
      {
       "output_type": "stream",
       "stream": "stdout",
       "text": [
        " 94332\n",
        "94597"
       ]
      },
      {
       "output_type": "stream",
       "stream": "stdout",
       "text": [
        " \n",
        "94596"
       ]
      },
      {
       "output_type": "stream",
       "stream": "stdout",
       "text": [
        " \n",
        "94750"
       ]
      },
      {
       "output_type": "stream",
       "stream": "stdout",
       "text": [
        " \n",
        "94717"
       ]
      },
      {
       "output_type": "stream",
       "stream": "stdout",
       "text": [
        " 94709\n",
        "93381"
       ]
      },
      {
       "output_type": "stream",
       "stream": "stdout",
       "text": [
        " 94267\n",
        "94571"
       ]
      },
      {
       "output_type": "stream",
       "stream": "stdout",
       "text": [
        " 94572\n",
        "94644"
       ]
      },
      {
       "output_type": "stream",
       "stream": "stdout",
       "text": [
        " 94681\n",
        "94715"
       ]
      },
      {
       "output_type": "stream",
       "stream": "stdout",
       "text": [
        " 94708\n",
        "94125"
       ]
      },
      {
       "output_type": "stream",
       "stream": "stdout",
       "text": [
        " \n",
        "94123"
       ]
      },
      {
       "output_type": "stream",
       "stream": "stdout",
       "text": [
        " \n",
        "94110"
       ]
      },
      {
       "output_type": "stream",
       "stream": "stdout",
       "text": [
        " 94112\n",
        "94155"
       ]
      },
      {
       "output_type": "stream",
       "stream": "stdout",
       "text": [
        " 94105\n",
        "94060"
       ]
      },
      {
       "output_type": "stream",
       "stream": "stdout",
       "text": [
        " \n",
        "94191"
       ]
      },
      {
       "output_type": "stream",
       "stream": "stdout",
       "text": [
        " 94229\n",
        "94183"
       ]
      },
      {
       "output_type": "stream",
       "stream": "stdout",
       "text": [
        " \n",
        "93462"
       ]
      },
      {
       "output_type": "stream",
       "stream": "stdout",
       "text": [
        " 93463\n",
        "93899"
       ]
      },
      {
       "output_type": "stream",
       "stream": "stdout",
       "text": [
        " \n",
        "93945"
       ]
      },
      {
       "output_type": "stream",
       "stream": "stdout",
       "text": [
        " \n",
        "93979"
       ]
      },
      {
       "output_type": "stream",
       "stream": "stdout",
       "text": [
        " \n",
        "94118"
       ]
      },
      {
       "output_type": "stream",
       "stream": "stdout",
       "text": [
        " \n",
        "90510"
       ]
      },
      {
       "output_type": "stream",
       "stream": "stdout",
       "text": [
        " 90511\n",
        "93800"
       ]
      },
      {
       "output_type": "stream",
       "stream": "stdout",
       "text": [
        " \n",
        "90764"
       ]
      },
      {
       "output_type": "stream",
       "stream": "stdout",
       "text": [
        " \n",
        "94043"
       ]
      },
      {
       "output_type": "stream",
       "stream": "stdout",
       "text": [
        " 94044\n",
        "93759"
       ]
      },
      {
       "output_type": "stream",
       "stream": "stdout",
       "text": [
        " 93761\n",
        "93519"
       ]
      },
      {
       "output_type": "stream",
       "stream": "stdout",
       "text": [
        " \n",
        "93390"
       ]
      },
      {
       "output_type": "stream",
       "stream": "stdout",
       "text": [
        " 93435\n",
        "93653"
       ]
      },
      {
       "output_type": "stream",
       "stream": "stdout",
       "text": [
        " 93640\n",
        "93655"
       ]
      },
      {
       "output_type": "stream",
       "stream": "stdout",
       "text": [
        " \n",
        "93671"
       ]
      },
      {
       "output_type": "stream",
       "stream": "stdout",
       "text": [
        " 93672\n",
        "93667"
       ]
      },
      {
       "output_type": "stream",
       "stream": "stdout",
       "text": [
        " \n",
        "93588"
       ]
      },
      {
       "output_type": "stream",
       "stream": "stdout",
       "text": [
        " 93587\n",
        "93598"
       ]
      },
      {
       "output_type": "stream",
       "stream": "stdout",
       "text": [
        " 93599\n",
        "93952"
       ]
      },
      {
       "output_type": "stream",
       "stream": "stdout",
       "text": [
        " \n",
        "91095"
       ]
      },
      {
       "output_type": "stream",
       "stream": "stdout",
       "text": [
        " \n",
        "93600"
       ]
      },
      {
       "output_type": "stream",
       "stream": "stdout",
       "text": [
        " 93601\n",
        "93377"
       ]
      },
      {
       "output_type": "stream",
       "stream": "stdout",
       "text": [
        " 93382\n",
        "93375"
       ]
      },
      {
       "output_type": "stream",
       "stream": "stdout",
       "text": [
        " 93461\n",
        "92571"
       ]
      },
      {
       "output_type": "stream",
       "stream": "stdout",
       "text": [
        " \n",
        "93386"
       ]
      },
      {
       "output_type": "stream",
       "stream": "stdout",
       "text": [
        " \n",
        "93358"
       ]
      },
      {
       "output_type": "stream",
       "stream": "stdout",
       "text": [
        " \n",
        "93359"
       ]
      },
      {
       "output_type": "stream",
       "stream": "stdout",
       "text": [
        " 93359\n",
        "92586"
       ]
      },
      {
       "output_type": "stream",
       "stream": "stdout",
       "text": [
        " 92550\n",
        "92591"
       ]
      },
      {
       "output_type": "stream",
       "stream": "stdout",
       "text": [
        " 93349\n",
        "93404"
       ]
      },
      {
       "output_type": "stream",
       "stream": "stdout",
       "text": [
        " \n",
        "90935"
       ]
      },
      {
       "output_type": "stream",
       "stream": "stdout",
       "text": [
        " \n",
        "92604"
       ]
      },
      {
       "output_type": "stream",
       "stream": "stdout",
       "text": [
        " 93358\n",
        "92605"
       ]
      },
      {
       "output_type": "stream",
       "stream": "stdout",
       "text": [
        " 93359\n",
        "90890"
       ]
      },
      {
       "output_type": "stream",
       "stream": "stdout",
       "text": [
        " \n",
        "93353"
       ]
      },
      {
       "output_type": "stream",
       "stream": "stdout",
       "text": [
        " \n",
        "90857"
       ]
      },
      {
       "output_type": "stream",
       "stream": "stdout",
       "text": [
        " 90858\n",
        "91181"
       ]
      },
      {
       "output_type": "stream",
       "stream": "stdout",
       "text": [
        " 91182\n",
        "91149"
       ]
      },
      {
       "output_type": "stream",
       "stream": "stdout",
       "text": [
        " 91150\n",
        "91143"
       ]
      },
      {
       "output_type": "stream",
       "stream": "stdout",
       "text": [
        " \n",
        "91064"
       ]
      },
      {
       "output_type": "stream",
       "stream": "stdout",
       "text": [
        " \n",
        "91159"
       ]
      },
      {
       "output_type": "stream",
       "stream": "stdout",
       "text": [
        " \n",
        "92538"
       ]
      },
      {
       "output_type": "stream",
       "stream": "stdout",
       "text": [
        " \n",
        "93564"
       ]
      },
      {
       "output_type": "stream",
       "stream": "stdout",
       "text": [
        " \n",
        "93390"
       ]
      },
      {
       "output_type": "stream",
       "stream": "stdout",
       "text": [
        " 93434\n",
        "92599"
       ]
      },
      {
       "output_type": "stream",
       "stream": "stdout",
       "text": [
        " \n",
        "91084"
       ]
      },
      {
       "output_type": "stream",
       "stream": "stdout",
       "text": [
        " \n",
        "90635"
       ]
      },
      {
       "output_type": "stream",
       "stream": "stdout",
       "text": [
        " \n",
        "90632"
       ]
      },
      {
       "output_type": "stream",
       "stream": "stdout",
       "text": [
        " \n",
        "90631"
       ]
      },
      {
       "output_type": "stream",
       "stream": "stdout",
       "text": [
        " 90632\n",
        "88587"
       ]
      },
      {
       "output_type": "stream",
       "stream": "stdout",
       "text": [
        " 90632\n",
        "90728"
       ]
      },
      {
       "output_type": "stream",
       "stream": "stdout",
       "text": [
        " \n",
        "90626"
       ]
      },
      {
       "output_type": "stream",
       "stream": "stdout",
       "text": [
        " \n",
        "90725"
       ]
      },
      {
       "output_type": "stream",
       "stream": "stdout",
       "text": [
        " \n",
        "90722"
       ]
      },
      {
       "output_type": "stream",
       "stream": "stdout",
       "text": [
        " 90723\n",
        "91125"
       ]
      },
      {
       "output_type": "stream",
       "stream": "stdout",
       "text": [
        " \n",
        "90941"
       ]
      },
      {
       "output_type": "stream",
       "stream": "stdout",
       "text": [
        " 90942\n",
        "90753"
       ]
      },
      {
       "output_type": "stream",
       "stream": "stdout",
       "text": [
        " 90764\n",
        "93390"
       ]
      },
      {
       "output_type": "stream",
       "stream": "stdout",
       "text": [
        " \n",
        "90765"
       ]
      },
      {
       "output_type": "stream",
       "stream": "stdout",
       "text": [
        " \n",
        "71339"
       ]
      },
      {
       "output_type": "stream",
       "stream": "stdout",
       "text": [
        " \n",
        "90621"
       ]
      },
      {
       "output_type": "stream",
       "stream": "stdout",
       "text": [
        " 90706\n",
        "93976"
       ]
      },
      {
       "output_type": "stream",
       "stream": "stdout",
       "text": [
        " 93977\n",
        "90694"
       ]
      },
      {
       "output_type": "stream",
       "stream": "stdout",
       "text": [
        " \n",
        "90803"
       ]
      },
      {
       "output_type": "stream",
       "stream": "stdout",
       "text": [
        " \n",
        "90412"
       ]
      },
      {
       "output_type": "stream",
       "stream": "stdout",
       "text": [
        " 90664\n",
        "94039"
       ]
      },
      {
       "output_type": "stream",
       "stream": "stdout",
       "text": [
        " \n",
        "91114"
       ]
      },
      {
       "output_type": "stream",
       "stream": "stdout",
       "text": [
        " \n",
        "91028"
       ]
      },
      {
       "output_type": "stream",
       "stream": "stdout",
       "text": [
        " 91023\n",
        "90182"
       ]
      },
      {
       "output_type": "stream",
       "stream": "stdout",
       "text": [
        " \n",
        "90707"
       ]
      },
      {
       "output_type": "stream",
       "stream": "stdout",
       "text": [
        " \n",
        "94968"
       ]
      },
      {
       "output_type": "stream",
       "stream": "stdout",
       "text": [
        " \n",
        "90165"
       ]
      },
      {
       "output_type": "stream",
       "stream": "stdout",
       "text": [
        " 90181\n",
        "90439"
       ]
      },
      {
       "output_type": "stream",
       "stream": "stdout",
       "text": [
        " \n",
        "90313"
       ]
      },
      {
       "output_type": "stream",
       "stream": "stdout",
       "text": [
        " 90314\n",
        "91226"
       ]
      },
      {
       "output_type": "stream",
       "stream": "stdout",
       "text": [
        " 90896\n",
        "90223"
       ]
      },
      {
       "output_type": "stream",
       "stream": "stdout",
       "text": [
        " \n",
        "90651"
       ]
      },
      {
       "output_type": "stream",
       "stream": "stdout",
       "text": [
        " 90652\n",
        "90206"
       ]
      },
      {
       "output_type": "stream",
       "stream": "stdout",
       "text": [
        " \n",
        "90379"
       ]
      },
      {
       "output_type": "stream",
       "stream": "stdout",
       "text": [
        " 90380\n",
        "90194"
       ]
      },
      {
       "output_type": "stream",
       "stream": "stdout",
       "text": [
        " 90184\n",
        "70326"
       ]
      },
      {
       "output_type": "stream",
       "stream": "stdout",
       "text": [
        " \n",
        "90375"
       ]
      },
      {
       "output_type": "stream",
       "stream": "stdout",
       "text": [
        " \n",
        "90166"
       ]
      },
      {
       "output_type": "stream",
       "stream": "stdout",
       "text": [
        " \n",
        "90788"
       ]
      },
      {
       "output_type": "stream",
       "stream": "stdout",
       "text": [
        " \n",
        "90167"
       ]
      },
      {
       "output_type": "stream",
       "stream": "stdout",
       "text": [
        " 90166\n",
        "66003"
       ]
      },
      {
       "output_type": "stream",
       "stream": "stdout",
       "text": [
        " \n",
        "90675"
       ]
      },
      {
       "output_type": "stream",
       "stream": "stdout",
       "text": [
        " 90682\n",
        "65954"
       ]
      },
      {
       "output_type": "stream",
       "stream": "stdout",
       "text": [
        " \n",
        "90116"
       ]
      },
      {
       "output_type": "stream",
       "stream": "stdout",
       "text": [
        " \n",
        "90106"
       ]
      },
      {
       "output_type": "stream",
       "stream": "stdout",
       "text": [
        " 90107\n",
        "90161"
       ]
      },
      {
       "output_type": "stream",
       "stream": "stdout",
       "text": [
        " \n",
        "90160"
       ]
      },
      {
       "output_type": "stream",
       "stream": "stdout",
       "text": [
        " 90161\n",
        "90165"
       ]
      },
      {
       "output_type": "stream",
       "stream": "stdout",
       "text": [
        " 90165\n",
        "90372"
       ]
      },
      {
       "output_type": "stream",
       "stream": "stdout",
       "text": [
        " \n",
        "90364"
       ]
      },
      {
       "output_type": "stream",
       "stream": "stdout",
       "text": [
        " \n",
        "90365"
       ]
      },
      {
       "output_type": "stream",
       "stream": "stdout",
       "text": [
        " \n",
        "90407"
       ]
      },
      {
       "output_type": "stream",
       "stream": "stdout",
       "text": [
        " \n",
        "90145"
       ]
      },
      {
       "output_type": "stream",
       "stream": "stdout",
       "text": [
        " 90147\n",
        "90158"
       ]
      },
      {
       "output_type": "stream",
       "stream": "stdout",
       "text": [
        " \n",
        "88201"
       ]
      },
      {
       "output_type": "stream",
       "stream": "stdout",
       "text": [
        " \n",
        "90642"
       ]
      },
      {
       "output_type": "stream",
       "stream": "stdout",
       "text": [
        " \n",
        "90950"
       ]
      },
      {
       "output_type": "stream",
       "stream": "stdout",
       "text": [
        " 90951\n",
        "89163"
       ]
      },
      {
       "output_type": "stream",
       "stream": "stdout",
       "text": [
        " 89217\n",
        "90734"
       ]
      },
      {
       "output_type": "stream",
       "stream": "stdout",
       "text": [
        " \n",
        "59065"
       ]
      },
      {
       "output_type": "stream",
       "stream": "stdout",
       "text": [
        " 66015\n",
        "89155"
       ]
      },
      {
       "output_type": "stream",
       "stream": "stdout",
       "text": [
        " 89156\n",
        "89149"
       ]
      },
      {
       "output_type": "stream",
       "stream": "stdout",
       "text": [
        " 89148\n",
        "89149"
       ]
      },
      {
       "output_type": "stream",
       "stream": "stdout",
       "text": [
        " 89136\n",
        "89061"
       ]
      },
      {
       "output_type": "stream",
       "stream": "stdout",
       "text": [
        " 89153\n",
        "89061"
       ]
      },
      {
       "output_type": "stream",
       "stream": "stdout",
       "text": [
        " 89134\n",
        "89150"
       ]
      },
      {
       "output_type": "stream",
       "stream": "stdout",
       "text": [
        " 89152\n",
        "89136"
       ]
      },
      {
       "output_type": "stream",
       "stream": "stdout",
       "text": [
        " 89149\n",
        "75126"
       ]
      },
      {
       "output_type": "stream",
       "stream": "stdout",
       "text": [
        " \n",
        "89138"
       ]
      },
      {
       "output_type": "stream",
       "stream": "stdout",
       "text": [
        " \n",
        "1"
       ]
      },
      {
       "output_type": "stream",
       "stream": "stdout",
       "text": [
        " \n",
        "90042"
       ]
      },
      {
       "output_type": "stream",
       "stream": "stdout",
       "text": [
        " \n",
        "90037"
       ]
      },
      {
       "output_type": "stream",
       "stream": "stdout",
       "text": [
        " \n",
        "89283"
       ]
      },
      {
       "output_type": "stream",
       "stream": "stdout",
       "text": [
        " \n",
        "89938"
       ]
      },
      {
       "output_type": "stream",
       "stream": "stdout",
       "text": [
        " \n",
        "89934"
       ]
      },
      {
       "output_type": "stream",
       "stream": "stdout",
       "text": [
        " \n",
        "86354"
       ]
      },
      {
       "output_type": "stream",
       "stream": "stdout",
       "text": [
        " \n",
        "88130"
       ]
      },
      {
       "output_type": "stream",
       "stream": "stdout",
       "text": [
        " \n",
        "88129"
       ]
      },
      {
       "output_type": "stream",
       "stream": "stdout",
       "text": [
        " \n",
        "88556"
       ]
      },
      {
       "output_type": "stream",
       "stream": "stdout",
       "text": [
        " \n",
        "93790"
       ]
      },
      {
       "output_type": "stream",
       "stream": "stdout",
       "text": [
        " \n",
        "89270"
       ]
      },
      {
       "output_type": "stream",
       "stream": "stdout",
       "text": [
        " \n",
        "89311"
       ]
      },
      {
       "output_type": "stream",
       "stream": "stdout",
       "text": [
        " \n",
        "87842"
       ]
      },
      {
       "output_type": "stream",
       "stream": "stdout",
       "text": [
        " 87841\n",
        "88068"
       ]
      },
      {
       "output_type": "stream",
       "stream": "stdout",
       "text": [
        " 88067\n",
        "89412"
       ]
      },
      {
       "output_type": "stream",
       "stream": "stdout",
       "text": [
        " 89413\n",
        "90006"
       ]
      },
      {
       "output_type": "stream",
       "stream": "stdout",
       "text": [
        " \n",
        "89259"
       ]
      },
      {
       "output_type": "stream",
       "stream": "stdout",
       "text": [
        " 89258\n",
        "89254"
       ]
      },
      {
       "output_type": "stream",
       "stream": "stdout",
       "text": [
        " \n",
        "89806"
       ]
      },
      {
       "output_type": "stream",
       "stream": "stdout",
       "text": [
        " 89807\n",
        "59120"
       ]
      },
      {
       "output_type": "stream",
       "stream": "stdout",
       "text": [
        " 59121\n",
        "87426"
       ]
      },
      {
       "output_type": "stream",
       "stream": "stdout",
       "text": [
        " 87486\n",
        "89403"
       ]
      },
      {
       "output_type": "stream",
       "stream": "stdout",
       "text": [
        " \n",
        "89249"
       ]
      },
      {
       "output_type": "stream",
       "stream": "stdout",
       "text": [
        " \n",
        "90401"
       ]
      },
      {
       "output_type": "stream",
       "stream": "stdout",
       "text": [
        " \n",
        "89073"
       ]
      },
      {
       "output_type": "stream",
       "stream": "stdout",
       "text": [
        " \n",
        "94126"
       ]
      },
      {
       "output_type": "stream",
       "stream": "stdout",
       "text": [
        " \n",
        "86408"
       ]
      },
      {
       "output_type": "stream",
       "stream": "stdout",
       "text": [
        " \n",
        "89081"
       ]
      },
      {
       "output_type": "stream",
       "stream": "stdout",
       "text": [
        " 89080\n",
        "89067"
       ]
      },
      {
       "output_type": "stream",
       "stream": "stdout",
       "text": [
        " \n",
        "87426"
       ]
      },
      {
       "output_type": "stream",
       "stream": "stdout",
       "text": [
        " 87482\n",
        "89002"
       ]
      },
      {
       "output_type": "stream",
       "stream": "stdout",
       "text": [
        " 89003\n",
        "89799"
       ]
      },
      {
       "output_type": "stream",
       "stream": "stdout",
       "text": [
        " \n",
        "89380"
       ]
      },
      {
       "output_type": "stream",
       "stream": "stdout",
       "text": [
        " 89381\n",
        "86412"
       ]
      },
      {
       "output_type": "stream",
       "stream": "stdout",
       "text": [
        " \n",
        "88378"
       ]
      },
      {
       "output_type": "stream",
       "stream": "stdout",
       "text": [
        " \n",
        "88997"
       ]
      },
      {
       "output_type": "stream",
       "stream": "stdout",
       "text": [
        " \n",
        "75108"
       ]
      },
      {
       "output_type": "stream",
       "stream": "stdout",
       "text": [
        " 75109\n",
        "87403"
       ]
      },
      {
       "output_type": "stream",
       "stream": "stdout",
       "text": [
        " \n",
        "89063"
       ]
      },
      {
       "output_type": "stream",
       "stream": "stdout",
       "text": [
        " \n",
        "75133"
       ]
      },
      {
       "output_type": "stream",
       "stream": "stdout",
       "text": [
        " 75132\n",
        "89094"
       ]
      },
      {
       "output_type": "stream",
       "stream": "stdout",
       "text": [
        " 89095\n",
        "87402"
       ]
      },
      {
       "output_type": "stream",
       "stream": "stdout",
       "text": [
        " \n",
        "79671"
       ]
      },
      {
       "output_type": "stream",
       "stream": "stdout",
       "text": [
        " 79672\n",
        "88971"
       ]
      },
      {
       "output_type": "stream",
       "stream": "stdout",
       "text": [
        " \n",
        "87393"
       ]
      },
      {
       "output_type": "stream",
       "stream": "stdout",
       "text": [
        " 87394\n",
        "86397"
       ]
      },
      {
       "output_type": "stream",
       "stream": "stdout",
       "text": [
        " \n",
        "89753"
       ]
      },
      {
       "output_type": "stream",
       "stream": "stdout",
       "text": [
        " 89757\n",
        "89333"
       ]
      },
      {
       "output_type": "stream",
       "stream": "stdout",
       "text": [
        " 89334\n",
        "89019"
       ]
      },
      {
       "output_type": "stream",
       "stream": "stdout",
       "text": [
        " \n",
        "74073"
       ]
      },
      {
       "output_type": "stream",
       "stream": "stdout",
       "text": [
        " 87371\n",
        "71335"
       ]
      },
      {
       "output_type": "stream",
       "stream": "stdout",
       "text": [
        " 75106\n",
        "85030"
       ]
      },
      {
       "output_type": "stream",
       "stream": "stdout",
       "text": [
        " \n",
        "66178"
       ]
      },
      {
       "output_type": "stream",
       "stream": "stdout",
       "text": [
        " \n",
        "86388"
       ]
      },
      {
       "output_type": "stream",
       "stream": "stdout",
       "text": [
        " \n",
        "88908"
       ]
      },
      {
       "output_type": "stream",
       "stream": "stdout",
       "text": [
        " \n",
        "88880"
       ]
      },
      {
       "output_type": "stream",
       "stream": "stdout",
       "text": [
        " \n",
        "88970"
       ]
      },
      {
       "output_type": "stream",
       "stream": "stdout",
       "text": [
        " \n",
        "86382"
       ]
      },
      {
       "output_type": "stream",
       "stream": "stdout",
       "text": [
        " \n",
        "74060"
       ]
      },
      {
       "output_type": "stream",
       "stream": "stdout",
       "text": [
        " 74049\n",
        "88639"
       ]
      },
      {
       "output_type": "stream",
       "stream": "stdout",
       "text": [
        " \n",
        "86354"
       ]
      },
      {
       "output_type": "stream",
       "stream": "stdout",
       "text": [
        " 86355\n",
        "88598"
       ]
      },
      {
       "output_type": "stream",
       "stream": "stdout",
       "text": [
        " \n",
        "88597"
       ]
      },
      {
       "output_type": "stream",
       "stream": "stdout",
       "text": [
        " \n",
        "93972"
       ]
      },
      {
       "output_type": "stream",
       "stream": "stdout",
       "text": [
        " \n",
        "86236"
       ]
      },
      {
       "output_type": "stream",
       "stream": "stdout",
       "text": [
        " \n",
        "75125"
       ]
      },
      {
       "output_type": "stream",
       "stream": "stdout",
       "text": [
        " \n",
        "88449"
       ]
      },
      {
       "output_type": "stream",
       "stream": "stdout",
       "text": [
        " \n",
        "75119"
       ]
      },
      {
       "output_type": "stream",
       "stream": "stdout",
       "text": [
        " 75120\n",
        "75119"
       ]
      },
      {
       "output_type": "stream",
       "stream": "stdout",
       "text": [
        " \n",
        "88884"
       ]
      },
      {
       "output_type": "stream",
       "stream": "stdout",
       "text": [
        " 88888\n",
        "84848"
       ]
      },
      {
       "output_type": "stream",
       "stream": "stdout",
       "text": [
        " \n",
        "86351"
       ]
      },
      {
       "output_type": "stream",
       "stream": "stdout",
       "text": [
        " 86353\n",
        "86348"
       ]
      },
      {
       "output_type": "stream",
       "stream": "stdout",
       "text": [
        " \n",
        "88577"
       ]
      },
      {
       "output_type": "stream",
       "stream": "stdout",
       "text": [
        " \n",
        "88345"
       ]
      },
      {
       "output_type": "stream",
       "stream": "stdout",
       "text": [
        " \n",
        "88335"
       ]
      },
      {
       "output_type": "stream",
       "stream": "stdout",
       "text": [
        " \n",
        "75105"
       ]
      },
      {
       "output_type": "stream",
       "stream": "stdout",
       "text": [
        " \n",
        "79678"
       ]
      },
      {
       "output_type": "stream",
       "stream": "stdout",
       "text": [
        " \n",
        "65927"
       ]
      },
      {
       "output_type": "stream",
       "stream": "stdout",
       "text": [
        " \n",
        "71356"
       ]
      },
      {
       "output_type": "stream",
       "stream": "stdout",
       "text": [
        " 72140\n",
        "72139"
       ]
      },
      {
       "output_type": "stream",
       "stream": "stdout",
       "text": [
        " \n",
        "84589"
       ]
      },
      {
       "output_type": "stream",
       "stream": "stdout",
       "text": [
        " \n",
        "85697"
       ]
      },
      {
       "output_type": "stream",
       "stream": "stdout",
       "text": [
        " \n",
        "88295"
       ]
      },
      {
       "output_type": "stream",
       "stream": "stdout",
       "text": [
        " \n",
        "88177"
       ]
      },
      {
       "output_type": "stream",
       "stream": "stdout",
       "text": [
        " \n",
        "72123"
       ]
      },
      {
       "output_type": "stream",
       "stream": "stdout",
       "text": [
        " \n",
        "71343"
       ]
      },
      {
       "output_type": "stream",
       "stream": "stdout",
       "text": [
        " \n",
        "88212"
       ]
      },
      {
       "output_type": "stream",
       "stream": "stdout",
       "text": [
        " 88215\n",
        "86791"
       ]
      },
      {
       "output_type": "stream",
       "stream": "stdout",
       "text": [
        " \n",
        "72132"
       ]
      },
      {
       "output_type": "stream",
       "stream": "stdout",
       "text": [
        " 72133\n",
        "87424"
       ]
      },
      {
       "output_type": "stream",
       "stream": "stdout",
       "text": [
        " 88293\n",
        "88418"
       ]
      },
      {
       "output_type": "stream",
       "stream": "stdout",
       "text": [
        " \n",
        "88374"
       ]
      },
      {
       "output_type": "stream",
       "stream": "stdout",
       "text": [
        " 88375\n",
        "71370"
       ]
      },
      {
       "output_type": "stream",
       "stream": "stdout",
       "text": [
        " 71373\n",
        "86420"
       ]
      },
      {
       "output_type": "stream",
       "stream": "stdout",
       "text": [
        " 86421\n",
        "88363"
       ]
      },
      {
       "output_type": "stream",
       "stream": "stdout",
       "text": [
        " \n",
        "88244"
       ]
      },
      {
       "output_type": "stream",
       "stream": "stdout",
       "text": [
        " \n",
        "75109"
       ]
      },
      {
       "output_type": "stream",
       "stream": "stdout",
       "text": [
        " \n",
        "79677"
       ]
      },
      {
       "output_type": "stream",
       "stream": "stdout",
       "text": [
        " 79678\n",
        "88212"
       ]
      },
      {
       "output_type": "stream",
       "stream": "stdout",
       "text": [
        " \n",
        "90399"
       ]
      },
      {
       "output_type": "stream",
       "stream": "stdout",
       "text": [
        " \n",
        "86416"
       ]
      },
      {
       "output_type": "stream",
       "stream": "stdout",
       "text": [
        " \n",
        "74038"
       ]
      },
      {
       "output_type": "stream",
       "stream": "stdout",
       "text": [
        " \n",
        "85700"
       ]
      },
      {
       "output_type": "stream",
       "stream": "stdout",
       "text": [
        " \n",
        "67007"
       ]
      },
      {
       "output_type": "stream",
       "stream": "stdout",
       "text": [
        " \n",
        "66833"
       ]
      },
      {
       "output_type": "stream",
       "stream": "stdout",
       "text": [
        " 66832\n",
        "66990"
       ]
      },
      {
       "output_type": "stream",
       "stream": "stdout",
       "text": [
        " 66989\n",
        "71326"
       ]
      },
      {
       "output_type": "stream",
       "stream": "stdout",
       "text": [
        " \n",
        "71349"
       ]
      },
      {
       "output_type": "stream",
       "stream": "stdout",
       "text": [
        " \n",
        "65921"
       ]
      },
      {
       "output_type": "stream",
       "stream": "stdout",
       "text": [
        " \n",
        "86403"
       ]
      },
      {
       "output_type": "stream",
       "stream": "stdout",
       "text": [
        " 86404\n",
        "74102"
       ]
      },
      {
       "output_type": "stream",
       "stream": "stdout",
       "text": [
        " 74103\n",
        "86405"
       ]
      },
      {
       "output_type": "stream",
       "stream": "stdout",
       "text": [
        " \n",
        "66945"
       ]
      },
      {
       "output_type": "stream",
       "stream": "stdout",
       "text": [
        " \n",
        "74049"
       ]
      },
      {
       "output_type": "stream",
       "stream": "stdout",
       "text": [
        " \n",
        "70953"
       ]
      },
      {
       "output_type": "stream",
       "stream": "stdout",
       "text": [
        " \n",
        "66991"
       ]
      },
      {
       "output_type": "stream",
       "stream": "stdout",
       "text": [
        " \n",
        "88147"
       ]
      },
      {
       "output_type": "stream",
       "stream": "stdout",
       "text": [
        " \n",
        "66231"
       ]
      },
      {
       "output_type": "stream",
       "stream": "stdout",
       "text": [
        " \n",
        "86403"
       ]
      },
      {
       "output_type": "stream",
       "stream": "stdout",
       "text": [
        " \n",
        "70328"
       ]
      },
      {
       "output_type": "stream",
       "stream": "stdout",
       "text": [
        " 66989\n",
        "66847"
       ]
      },
      {
       "output_type": "stream",
       "stream": "stdout",
       "text": [
        " \n",
        "70333"
       ]
      },
      {
       "output_type": "stream",
       "stream": "stdout",
       "text": [
        " 70334\n",
        "66068"
       ]
      },
      {
       "output_type": "stream",
       "stream": "stdout",
       "text": [
        " 66119\n",
        "66149"
       ]
      },
      {
       "output_type": "stream",
       "stream": "stdout",
       "text": [
        " \n",
        "66107"
       ]
      },
      {
       "output_type": "stream",
       "stream": "stdout",
       "text": [
        " \n",
        "66095"
       ]
      },
      {
       "output_type": "stream",
       "stream": "stdout",
       "text": [
        " \n",
        "66018"
       ]
      },
      {
       "output_type": "stream",
       "stream": "stdout",
       "text": [
        " 66027\n",
        "66079"
       ]
      },
      {
       "output_type": "stream",
       "stream": "stdout",
       "text": [
        " \n",
        "66113"
       ]
      },
      {
       "output_type": "stream",
       "stream": "stdout",
       "text": [
        " \n",
        "66073"
       ]
      },
      {
       "output_type": "stream",
       "stream": "stdout",
       "text": [
        " \n",
        "66022"
       ]
      },
      {
       "output_type": "stream",
       "stream": "stdout",
       "text": [
        " \n",
        "66128"
       ]
      },
      {
       "output_type": "stream",
       "stream": "stdout",
       "text": [
        " 66130\n",
        "65920"
       ]
      },
      {
       "output_type": "stream",
       "stream": "stdout",
       "text": [
        " 65922\n",
        "66177"
       ]
      },
      {
       "output_type": "stream",
       "stream": "stdout",
       "text": [
        " \n",
        "65982"
       ]
      },
      {
       "output_type": "stream",
       "stream": "stdout",
       "text": [
        " \n",
        "65884"
       ]
      },
      {
       "output_type": "stream",
       "stream": "stdout",
       "text": [
        " \n",
        "65352"
       ]
      },
      {
       "output_type": "stream",
       "stream": "stdout",
       "text": [
        " \n",
        "74040"
       ]
      },
      {
       "output_type": "stream",
       "stream": "stdout",
       "text": [
        " \n",
        "65883"
       ]
      },
      {
       "output_type": "stream",
       "stream": "stdout",
       "text": [
        " \n",
        "65934"
       ]
      },
      {
       "output_type": "stream",
       "stream": "stdout",
       "text": [
        " \n",
        "64037"
       ]
      },
      {
       "output_type": "stream",
       "stream": "stdout",
       "text": [
        " 64038\n",
        "65328"
       ]
      },
      {
       "output_type": "stream",
       "stream": "stdout",
       "text": [
        " 65918\n",
        "64021"
       ]
      },
      {
       "output_type": "stream",
       "stream": "stdout",
       "text": [
        " \n",
        "66141"
       ]
      },
      {
       "output_type": "stream",
       "stream": "stdout",
       "text": [
        " \n",
        "89087"
       ]
      },
      {
       "output_type": "stream",
       "stream": "stdout",
       "text": [
        " \n",
        "64024"
       ]
      },
      {
       "output_type": "stream",
       "stream": "stdout",
       "text": [
        " 65327\n",
        "61834"
       ]
      },
      {
       "output_type": "stream",
       "stream": "stdout",
       "text": [
        " \n",
        "85060"
       ]
      },
      {
       "output_type": "stream",
       "stream": "stdout",
       "text": [
        " \n",
        "65895"
       ]
      },
      {
       "output_type": "stream",
       "stream": "stdout",
       "text": [
        " \n",
        "61833"
       ]
      },
      {
       "output_type": "stream",
       "stream": "stdout",
       "text": [
        " \n",
        "65346"
       ]
      },
      {
       "output_type": "stream",
       "stream": "stdout",
       "text": [
        " 65347\n",
        "40211"
       ]
      },
      {
       "output_type": "stream",
       "stream": "stdout",
       "text": [
        " \n",
        "59019"
       ]
      },
      {
       "output_type": "stream",
       "stream": "stdout",
       "text": [
        " \n",
        "59017"
       ]
      },
      {
       "output_type": "stream",
       "stream": "stdout",
       "text": [
        " 59035\n",
        "59004"
       ]
      },
      {
       "output_type": "stream",
       "stream": "stdout",
       "text": [
        " \n",
        "58682"
       ]
      },
      {
       "output_type": "stream",
       "stream": "stdout",
       "text": [
        " \n",
        "59131"
       ]
      },
      {
       "output_type": "stream",
       "stream": "stdout",
       "text": [
        " \n",
        "59161"
       ]
      },
      {
       "output_type": "stream",
       "stream": "stdout",
       "text": [
        " 59162\n",
        "59017"
       ]
      },
      {
       "output_type": "stream",
       "stream": "stdout",
       "text": [
        " 56941\n",
        "59011"
       ]
      },
      {
       "output_type": "stream",
       "stream": "stdout",
       "text": [
        " \n",
        "55463"
       ]
      },
      {
       "output_type": "stream",
       "stream": "stdout",
       "text": [
        " \n",
        "34960"
       ]
      },
      {
       "output_type": "stream",
       "stream": "stdout",
       "text": [
        " 35075\n",
        "58619"
       ]
      },
      {
       "output_type": "stream",
       "stream": "stdout",
       "text": [
        " 58635\n",
        "58628"
       ]
      },
      {
       "output_type": "stream",
       "stream": "stdout",
       "text": [
        " 58629\n",
        "58618"
       ]
      },
      {
       "output_type": "stream",
       "stream": "stdout",
       "text": [
        " \n",
        "57843"
       ]
      },
      {
       "output_type": "stream",
       "stream": "stdout",
       "text": [
        " \n",
        "59011"
       ]
      },
      {
       "output_type": "stream",
       "stream": "stdout",
       "text": [
        " 55307\n",
        "58984"
       ]
      },
      {
       "output_type": "stream",
       "stream": "stdout",
       "text": [
        " 58985\n",
        "58671"
       ]
      },
      {
       "output_type": "stream",
       "stream": "stdout",
       "text": [
        " \n",
        "58664"
       ]
      },
      {
       "output_type": "stream",
       "stream": "stdout",
       "text": [
        " \n",
        "57794"
       ]
      },
      {
       "output_type": "stream",
       "stream": "stdout",
       "text": [
        " 57883\n",
        "57738"
       ]
      },
      {
       "output_type": "stream",
       "stream": "stdout",
       "text": [
        " \n",
        "56936"
       ]
      },
      {
       "output_type": "stream",
       "stream": "stdout",
       "text": [
        " 57812\n",
        "55409"
       ]
      },
      {
       "output_type": "stream",
       "stream": "stdout",
       "text": [
        " \n",
        "57737"
       ]
      },
      {
       "output_type": "stream",
       "stream": "stdout",
       "text": [
        " \n",
        "57791"
       ]
      },
      {
       "output_type": "stream",
       "stream": "stdout",
       "text": [
        " \n",
        "57733"
       ]
      },
      {
       "output_type": "stream",
       "stream": "stdout",
       "text": [
        " 58619\n",
        "56941"
       ]
      },
      {
       "output_type": "stream",
       "stream": "stdout",
       "text": [
        " 56936\n",
        "56615"
       ]
      },
      {
       "output_type": "stream",
       "stream": "stdout",
       "text": [
        " 56936\n",
        "56930"
       ]
      },
      {
       "output_type": "stream",
       "stream": "stdout",
       "text": [
        " 56931\n",
        "55447"
       ]
      },
      {
       "output_type": "stream",
       "stream": "stdout",
       "text": [
        " 55445\n",
        "56932"
       ]
      },
      {
       "output_type": "stream",
       "stream": "stdout",
       "text": [
        " 56933\n",
        "55325"
       ]
      },
      {
       "output_type": "stream",
       "stream": "stdout",
       "text": [
        " \n",
        "55446"
       ]
      },
      {
       "output_type": "stream",
       "stream": "stdout",
       "text": [
        " \n",
        "56934"
       ]
      },
      {
       "output_type": "stream",
       "stream": "stdout",
       "text": [
        " \n",
        "34396"
       ]
      },
      {
       "output_type": "stream",
       "stream": "stdout",
       "text": [
        " \n",
        "55285"
       ]
      },
      {
       "output_type": "stream",
       "stream": "stdout",
       "text": [
        " \n",
        "34395"
       ]
      },
      {
       "output_type": "stream",
       "stream": "stdout",
       "text": [
        " \n",
        "55407"
       ]
      },
      {
       "output_type": "stream",
       "stream": "stdout",
       "text": [
        " \n",
        "56972"
       ]
      },
      {
       "output_type": "stream",
       "stream": "stdout",
       "text": [
        " 56973\n",
        "56960"
       ]
      },
      {
       "output_type": "stream",
       "stream": "stdout",
       "text": [
        " \n",
        "57728"
       ]
      },
      {
       "output_type": "stream",
       "stream": "stdout",
       "text": [
        " 57723\n",
        "56953"
       ]
      },
      {
       "output_type": "stream",
       "stream": "stdout",
       "text": [
        " 56954\n",
        "55206"
       ]
      },
      {
       "output_type": "stream",
       "stream": "stdout",
       "text": [
        " 43376\n",
        "55305"
       ]
      },
      {
       "output_type": "stream",
       "stream": "stdout",
       "text": [
        " \n",
        "55475"
       ]
      },
      {
       "output_type": "stream",
       "stream": "stdout",
       "text": [
        " \n",
        "55364"
       ]
      },
      {
       "output_type": "stream",
       "stream": "stdout",
       "text": [
        " 55351\n",
        "55358"
       ]
      },
      {
       "output_type": "stream",
       "stream": "stdout",
       "text": [
        " 55354\n",
        "55372"
       ]
      },
      {
       "output_type": "stream",
       "stream": "stdout",
       "text": [
        " 55373\n",
        "56942"
       ]
      },
      {
       "output_type": "stream",
       "stream": "stdout",
       "text": [
        " 56943\n",
        "55472"
       ]
      },
      {
       "output_type": "stream",
       "stream": "stdout",
       "text": [
        " \n",
        "34372"
       ]
      },
      {
       "output_type": "stream",
       "stream": "stdout",
       "text": [
        " \n",
        "55382"
       ]
      },
      {
       "output_type": "stream",
       "stream": "stdout",
       "text": [
        " \n",
        "43376"
       ]
      },
      {
       "output_type": "stream",
       "stream": "stdout",
       "text": [
        " 55206\n",
        "55268"
       ]
      },
      {
       "output_type": "stream",
       "stream": "stdout",
       "text": [
        " 55269\n",
        "55331"
       ]
      },
      {
       "output_type": "stream",
       "stream": "stdout",
       "text": [
        " \n",
        "55283"
       ]
      },
      {
       "output_type": "stream",
       "stream": "stdout",
       "text": [
        " \n",
        "59008"
       ]
      },
      {
       "output_type": "stream",
       "stream": "stdout",
       "text": [
        " \n",
        "55300"
       ]
      },
      {
       "output_type": "stream",
       "stream": "stdout",
       "text": [
        " \n",
        "57723"
       ]
      },
      {
       "output_type": "stream",
       "stream": "stdout",
       "text": [
        " \n",
        "55255"
       ]
      },
      {
       "output_type": "stream",
       "stream": "stdout",
       "text": [
        " \n",
        "34344"
       ]
      },
      {
       "output_type": "stream",
       "stream": "stdout",
       "text": [
        " \n",
        "56918"
       ]
      },
      {
       "output_type": "stream",
       "stream": "stdout",
       "text": [
        " \n",
        "55228"
       ]
      },
      {
       "output_type": "stream",
       "stream": "stdout",
       "text": [
        " \n",
        "56911"
       ]
      },
      {
       "output_type": "stream",
       "stream": "stdout",
       "text": [
        " \n",
        "55308"
       ]
      },
      {
       "output_type": "stream",
       "stream": "stdout",
       "text": [
        " \n",
        "55316"
       ]
      },
      {
       "output_type": "stream",
       "stream": "stdout",
       "text": [
        " \n",
        "55227"
       ]
      },
      {
       "output_type": "stream",
       "stream": "stdout",
       "text": [
        " \n",
        "42970"
       ]
      },
      {
       "output_type": "stream",
       "stream": "stdout",
       "text": [
        " \n",
        "56634"
       ]
      },
      {
       "output_type": "stream",
       "stream": "stdout",
       "text": [
        " \n",
        "88347"
       ]
      },
      {
       "output_type": "stream",
       "stream": "stdout",
       "text": [
        " \n",
        "42992"
       ]
      },
      {
       "output_type": "stream",
       "stream": "stdout",
       "text": [
        " \n",
        "42974"
       ]
      },
      {
       "output_type": "stream",
       "stream": "stdout",
       "text": [
        " 42976\n",
        "95479"
       ]
      },
      {
       "output_type": "stream",
       "stream": "stdout",
       "text": [
        " \n",
        "95141"
       ]
      },
      {
       "output_type": "stream",
       "stream": "stdout",
       "text": [
        " \n",
        "95497"
       ]
      },
      {
       "output_type": "stream",
       "stream": "stdout",
       "text": [
        " \n",
        "95506"
       ]
      },
      {
       "output_type": "stream",
       "stream": "stdout",
       "text": [
        " \n",
        "95300"
       ]
      },
      {
       "output_type": "stream",
       "stream": "stdout",
       "text": [
        " 95016\n",
        "95534"
       ]
      },
      {
       "output_type": "stream",
       "stream": "stdout",
       "text": [
        " \n",
        "95592"
       ]
      },
      {
       "output_type": "stream",
       "stream": "stdout",
       "text": [
        " 95593\n",
        "95602"
       ]
      },
      {
       "output_type": "stream",
       "stream": "stdout",
       "text": [
        " \n",
        "95467"
       ]
      },
      {
       "output_type": "stream",
       "stream": "stdout",
       "text": [
        " \n",
        "95380"
       ]
      },
      {
       "output_type": "stream",
       "stream": "stdout",
       "text": [
        " \n",
        "95617"
       ]
      },
      {
       "output_type": "stream",
       "stream": "stdout",
       "text": [
        " \n",
        "90767"
       ]
      },
      {
       "output_type": "stream",
       "stream": "stdout",
       "text": [
        " \n",
        "59076"
       ]
      },
      {
       "output_type": "stream",
       "stream": "stdout",
       "text": [
        " 59077\n",
        "90891"
       ]
      },
      {
       "output_type": "stream",
       "stream": "stdout",
       "text": [
        " \n",
        "95386"
       ]
      },
      {
       "output_type": "stream",
       "stream": "stdout",
       "text": [
        " \n",
        "59122"
       ]
      },
      {
       "output_type": "stream",
       "stream": "stdout",
       "text": [
        " 59123\n",
        "95129"
       ]
      },
      {
       "output_type": "stream",
       "stream": "stdout",
       "text": [
        " \n",
        "95515"
       ]
      },
      {
       "output_type": "stream",
       "stream": "stdout",
       "text": [
        " \n",
        "95829"
       ]
      },
      {
       "output_type": "stream",
       "stream": "stdout",
       "text": [
        " \n",
        "95495"
       ]
      },
      {
       "output_type": "stream",
       "stream": "stdout",
       "text": [
        " \n",
        "95835"
       ]
      },
      {
       "output_type": "stream",
       "stream": "stdout",
       "text": [
        " \n",
        "94710"
       ]
      },
      {
       "output_type": "stream",
       "stream": "stdout",
       "text": [
        " \n",
        "59055"
       ]
      },
      {
       "output_type": "stream",
       "stream": "stdout",
       "text": [
        " 59056\n",
        "93546"
       ]
      },
      {
       "output_type": "stream",
       "stream": "stdout",
       "text": [
        " \n",
        "93368"
       ]
      },
      {
       "output_type": "stream",
       "stream": "stdout",
       "text": [
        " \n",
        "71371"
       ]
      },
      {
       "output_type": "stream",
       "stream": "stdout",
       "text": [
        " \n",
        "91093"
       ]
      },
      {
       "output_type": "stream",
       "stream": "stdout",
       "text": [
        " 90767\n",
        "95668"
       ]
      },
      {
       "output_type": "stream",
       "stream": "stdout",
       "text": [
        " \n",
        "96155"
       ]
      },
      {
       "output_type": "stream",
       "stream": "stdout",
       "text": [
        " \n",
        "94934"
       ]
      },
      {
       "output_type": "stream",
       "stream": "stdout",
       "text": [
        " \n",
        "95414"
       ]
      },
      {
       "output_type": "stream",
       "stream": "stdout",
       "text": [
        " \n",
        "95364"
       ]
      },
      {
       "output_type": "stream",
       "stream": "stdout",
       "text": [
        " 96176\n",
        "95530"
       ]
      },
      {
       "output_type": "stream",
       "stream": "stdout",
       "text": [
        " \n",
        "95712"
       ]
      },
      {
       "output_type": "stream",
       "stream": "stdout",
       "text": [
        " \n",
        "94942"
       ]
      },
      {
       "output_type": "stream",
       "stream": "stdout",
       "text": [
        " \n",
        "94717"
       ]
      },
      {
       "output_type": "stream",
       "stream": "stdout",
       "text": [
        " \n",
        "95821"
       ]
      },
      {
       "output_type": "stream",
       "stream": "stdout",
       "text": [
        " \n",
        "94803"
       ]
      },
      {
       "output_type": "stream",
       "stream": "stdout",
       "text": [
        " \n",
        "95193"
       ]
      },
      {
       "output_type": "stream",
       "stream": "stdout",
       "text": [
        " \n",
        "96221"
       ]
      },
      {
       "output_type": "stream",
       "stream": "stdout",
       "text": [
        " \n",
        "95724"
       ]
      },
      {
       "output_type": "stream",
       "stream": "stdout",
       "text": [
        " 95570\n",
        "96522"
       ]
      },
      {
       "output_type": "stream",
       "stream": "stdout",
       "text": [
        " \n",
        "96527"
       ]
      },
      {
       "output_type": "stream",
       "stream": "stdout",
       "text": [
        " \n",
        "97796"
       ]
      },
      {
       "output_type": "stream",
       "stream": "stdout",
       "text": [
        " 96133\n",
        "93413"
       ]
      },
      {
       "output_type": "stream",
       "stream": "stdout",
       "text": [
        " \n",
        "95099"
       ]
      },
      {
       "output_type": "stream",
       "stream": "stdout",
       "text": [
        " \n",
        "95201"
       ]
      },
      {
       "output_type": "stream",
       "stream": "stdout",
       "text": [
        " 95117\n",
        "94988"
       ]
      },
      {
       "output_type": "stream",
       "stream": "stdout",
       "text": [
        " 95203\n",
        "95085"
       ]
      },
      {
       "output_type": "stream",
       "stream": "stdout",
       "text": [
        " 95086\n",
        "95257"
       ]
      },
      {
       "output_type": "stream",
       "stream": "stdout",
       "text": [
        " 95256\n",
        "91065"
       ]
      },
      {
       "output_type": "stream",
       "stream": "stdout",
       "text": [
        " \n",
        "95198"
       ]
      },
      {
       "output_type": "stream",
       "stream": "stdout",
       "text": [
        " \n",
        "93542"
       ]
      },
      {
       "output_type": "stream",
       "stream": "stdout",
       "text": [
        " \n",
        "95197"
       ]
      },
      {
       "output_type": "stream",
       "stream": "stdout",
       "text": [
        " \n",
        "95374"
       ]
      },
      {
       "output_type": "stream",
       "stream": "stdout",
       "text": [
        " \n",
        "95316"
       ]
      },
      {
       "output_type": "stream",
       "stream": "stdout",
       "text": [
        " \n",
        "95310"
       ]
      },
      {
       "output_type": "stream",
       "stream": "stdout",
       "text": [
        " \n",
        "95179"
       ]
      },
      {
       "output_type": "stream",
       "stream": "stdout",
       "text": [
        " 94965\n",
        "95247"
       ]
      },
      {
       "output_type": "stream",
       "stream": "stdout",
       "text": [
        " 95248\n",
        "94972"
       ]
      },
      {
       "output_type": "stream",
       "stream": "stdout",
       "text": [
        " \n",
        "95298"
       ]
      },
      {
       "output_type": "stream",
       "stream": "stdout",
       "text": [
        " \n",
        "94962"
       ]
      },
      {
       "output_type": "stream",
       "stream": "stdout",
       "text": [
        " \n",
        "94954"
       ]
      },
      {
       "output_type": "stream",
       "stream": "stdout",
       "text": [
        " 94955\n",
        "94954"
       ]
      },
      {
       "output_type": "stream",
       "stream": "stdout",
       "text": [
        " \n",
        "94953"
       ]
      },
      {
       "output_type": "stream",
       "stream": "stdout",
       "text": [
        " \n",
        "94902"
       ]
      },
      {
       "output_type": "stream",
       "stream": "stdout",
       "text": [
        " 94946\n",
        "90908"
       ]
      },
      {
       "output_type": "stream",
       "stream": "stdout",
       "text": [
        " 90909\n",
        "94932"
       ]
      },
      {
       "output_type": "stream",
       "stream": "stdout",
       "text": [
        " \n",
        "94931"
       ]
      },
      {
       "output_type": "stream",
       "stream": "stdout",
       "text": [
        " \n",
        "94930"
       ]
      },
      {
       "output_type": "stream",
       "stream": "stdout",
       "text": [
        " \n",
        "94890"
       ]
      },
      {
       "output_type": "stream",
       "stream": "stdout",
       "text": [
        " \n",
        "95173"
       ]
      },
      {
       "output_type": "stream",
       "stream": "stdout",
       "text": [
        " \n",
        "94896"
       ]
      },
      {
       "output_type": "stream",
       "stream": "stdout",
       "text": [
        " \n",
        "94712"
       ]
      },
      {
       "output_type": "stream",
       "stream": "stdout",
       "text": [
        " 94811\n",
        "95232"
       ]
      },
      {
       "output_type": "stream",
       "stream": "stdout",
       "text": [
        " \n",
        "94915"
       ]
      },
      {
       "output_type": "stream",
       "stream": "stdout",
       "text": [
        " 94916\n",
        "94912"
       ]
      },
      {
       "output_type": "stream",
       "stream": "stdout",
       "text": [
        " 94911\n",
        "94878"
       ]
      },
      {
       "output_type": "stream",
       "stream": "stdout",
       "text": [
        " 94879\n",
        "95367"
       ]
      },
      {
       "output_type": "stream",
       "stream": "stdout",
       "text": [
        " 94963\n",
        "91058"
       ]
      },
      {
       "output_type": "stream",
       "stream": "stdout",
       "text": [
        " \n",
        "91149"
       ]
      },
      {
       "output_type": "stream",
       "stream": "stdout",
       "text": [
        " \n",
        "91134"
       ]
      },
      {
       "output_type": "stream",
       "stream": "stdout",
       "text": [
        " 91135\n",
        "92546"
       ]
      },
      {
       "output_type": "stream",
       "stream": "stdout",
       "text": [
        " \n",
        "93438"
       ]
      },
      {
       "output_type": "stream",
       "stream": "stdout",
       "text": [
        " 93432\n",
        "93562"
       ]
      },
      {
       "output_type": "stream",
       "stream": "stdout",
       "text": [
        " \n",
        "91101"
       ]
      },
      {
       "output_type": "stream",
       "stream": "stdout",
       "text": [
        " 90921\n",
        "95455"
       ]
      },
      {
       "output_type": "stream",
       "stream": "stdout",
       "text": [
        " \n",
        "95440"
       ]
      },
      {
       "output_type": "stream",
       "stream": "stdout",
       "text": [
        " \n",
        "91221"
       ]
      },
      {
       "output_type": "stream",
       "stream": "stdout",
       "text": [
        " 91222\n",
        "95431"
       ]
      },
      {
       "output_type": "stream",
       "stream": "stdout",
       "text": [
        " \n",
        "95432"
       ]
      },
      {
       "output_type": "stream",
       "stream": "stdout",
       "text": [
        " \n",
        "95427"
       ]
      },
      {
       "output_type": "stream",
       "stream": "stdout",
       "text": [
        " 95427\n",
        "95425"
       ]
      },
      {
       "output_type": "stream",
       "stream": "stdout",
       "text": [
        " \n",
        "95420"
       ]
      },
      {
       "output_type": "stream",
       "stream": "stdout",
       "text": [
        " \n",
        "91132"
       ]
      },
      {
       "output_type": "stream",
       "stream": "stdout",
       "text": [
        " 91133\n",
        "95410"
       ]
      },
      {
       "output_type": "stream",
       "stream": "stdout",
       "text": [
        " \n",
        "95400"
       ]
      },
      {
       "output_type": "stream",
       "stream": "stdout",
       "text": [
        " \n",
        "95201"
       ]
      },
      {
       "output_type": "stream",
       "stream": "stdout",
       "text": [
        " 95200\n",
        "90948"
       ]
      },
      {
       "output_type": "stream",
       "stream": "stdout",
       "text": [
        " 90949\n",
        "95396"
       ]
      },
      {
       "output_type": "stream",
       "stream": "stdout",
       "text": [
        " \n",
        "95393"
       ]
      },
      {
       "output_type": "stream",
       "stream": "stdout",
       "text": [
        " \n",
        "95385"
       ]
      },
      {
       "output_type": "stream",
       "stream": "stdout",
       "text": [
        " \n",
        "95379"
       ]
      },
      {
       "output_type": "stream",
       "stream": "stdout",
       "text": [
        " \n",
        "95311"
       ]
      },
      {
       "output_type": "stream",
       "stream": "stdout",
       "text": [
        " \n",
        "95282"
       ]
      },
      {
       "output_type": "stream",
       "stream": "stdout",
       "text": [
        " \n",
        "59072"
       ]
      },
      {
       "output_type": "stream",
       "stream": "stdout",
       "text": [
        " \n",
        "95080"
       ]
      },
      {
       "output_type": "stream",
       "stream": "stdout",
       "text": [
        " 95140\n",
        "95360"
       ]
      },
      {
       "output_type": "stream",
       "stream": "stdout",
       "text": [
        " \n",
        "95131"
       ]
      },
      {
       "output_type": "stream",
       "stream": "stdout",
       "text": [
        " 95132\n",
        "95339"
       ]
      },
      {
       "output_type": "stream",
       "stream": "stdout",
       "text": [
        " \n",
        "94822"
       ]
      },
      {
       "output_type": "stream",
       "stream": "stdout",
       "text": [
        " \n",
        "95233"
       ]
      },
      {
       "output_type": "stream",
       "stream": "stdout",
       "text": [
        " 95275\n",
        "95324"
       ]
      },
      {
       "output_type": "stream",
       "stream": "stdout",
       "text": [
        " 94970\n",
        "95215"
       ]
      },
      {
       "output_type": "stream",
       "stream": "stdout",
       "text": [
        " \n",
        "95212"
       ]
      },
      {
       "output_type": "stream",
       "stream": "stdout",
       "text": [
        " 95213\n",
        "94830"
       ]
      },
      {
       "output_type": "stream",
       "stream": "stdout",
       "text": [
        " 94830\n",
        "95365"
       ]
      },
      {
       "output_type": "stream",
       "stream": "stdout",
       "text": [
        " \n",
        "95229"
       ]
      },
      {
       "output_type": "stream",
       "stream": "stdout",
       "text": [
        " \n",
        "94526"
       ]
      },
      {
       "output_type": "stream",
       "stream": "stdout",
       "text": [
        " \n",
        "94510"
       ]
      },
      {
       "output_type": "stream",
       "stream": "stdout",
       "text": [
        " 94510\n",
        "94505"
       ]
      },
      {
       "output_type": "stream",
       "stream": "stdout",
       "text": [
        " \n",
        "94531"
       ]
      },
      {
       "output_type": "stream",
       "stream": "stdout",
       "text": [
        " \n",
        "94472"
       ]
      },
      {
       "output_type": "stream",
       "stream": "stdout",
       "text": [
        " \n",
        "92586"
       ]
      },
      {
       "output_type": "stream",
       "stream": "stdout",
       "text": [
        " 93469\n",
        "94465"
       ]
      },
      {
       "output_type": "stream",
       "stream": "stdout",
       "text": [
        " \n",
        "94459"
       ]
      },
      {
       "output_type": "stream",
       "stream": "stdout",
       "text": [
        " \n",
        "91161"
       ]
      },
      {
       "output_type": "stream",
       "stream": "stdout",
       "text": [
        " 91068\n",
        "90921"
       ]
      },
      {
       "output_type": "stream",
       "stream": "stdout",
       "text": [
        " 90940\n",
        "90753"
       ]
      },
      {
       "output_type": "stream",
       "stream": "stdout",
       "text": [
        " 90869\n",
        "90753"
       ]
      },
      {
       "output_type": "stream",
       "stream": "stdout",
       "text": [
        " 90778\n",
        "95161"
       ]
      },
      {
       "output_type": "stream",
       "stream": "stdout",
       "text": [
        " 95162\n",
        "94626"
       ]
      },
      {
       "output_type": "stream",
       "stream": "stdout",
       "text": [
        " \n",
        "94621"
       ]
      },
      {
       "output_type": "stream",
       "stream": "stdout",
       "text": [
        " \n",
        "94604"
       ]
      },
      {
       "output_type": "stream",
       "stream": "stdout",
       "text": [
        " \n",
        "94758"
       ]
      },
      {
       "output_type": "stream",
       "stream": "stdout",
       "text": [
        " \n",
        "92598"
       ]
      },
      {
       "output_type": "stream",
       "stream": "stdout",
       "text": [
        " \n",
        "94754"
       ]
      },
      {
       "output_type": "stream",
       "stream": "stdout",
       "text": [
        " \n",
        "94587"
       ]
      },
      {
       "output_type": "stream",
       "stream": "stdout",
       "text": [
        " 94588\n",
        "94894"
       ]
      },
      {
       "output_type": "stream",
       "stream": "stdout",
       "text": [
        " 94890\n",
        "94173"
       ]
      },
      {
       "output_type": "stream",
       "stream": "stdout",
       "text": [
        " 94188\n",
        "93952"
       ]
      },
      {
       "output_type": "stream",
       "stream": "stdout",
       "text": [
        " 93953\n",
        "94500"
       ]
      },
      {
       "output_type": "stream",
       "stream": "stdout",
       "text": [
        " \n",
        "94189"
       ]
      },
      {
       "output_type": "stream",
       "stream": "stdout",
       "text": [
        " 94220\n",
        "94221"
       ]
      },
      {
       "output_type": "stream",
       "stream": "stdout",
       "text": [
        " 94222\n",
        "94601"
       ]
      },
      {
       "output_type": "stream",
       "stream": "stdout",
       "text": [
        " \n",
        "94753"
       ]
      },
      {
       "output_type": "stream",
       "stream": "stdout",
       "text": [
        " \n",
        "94593"
       ]
      },
      {
       "output_type": "stream",
       "stream": "stdout",
       "text": [
        " \n",
        "94591"
       ]
      },
      {
       "output_type": "stream",
       "stream": "stdout",
       "text": [
        " 94592\n",
        "94589"
       ]
      },
      {
       "output_type": "stream",
       "stream": "stdout",
       "text": [
        " 94590\n",
        "94586"
       ]
      },
      {
       "output_type": "stream",
       "stream": "stdout",
       "text": [
        " \n",
        "95157"
       ]
      },
      {
       "output_type": "stream",
       "stream": "stdout",
       "text": [
        " 95158\n",
        "94224"
       ]
      },
      {
       "output_type": "stream",
       "stream": "stdout",
       "text": [
        " 94498\n",
        "95346"
       ]
      },
      {
       "output_type": "stream",
       "stream": "stdout",
       "text": [
        " \n",
        "94711"
       ]
      },
      {
       "output_type": "stream",
       "stream": "stdout",
       "text": [
        " \n",
        "94910"
       ]
      },
      {
       "output_type": "stream",
       "stream": "stdout",
       "text": [
        " 94911\n",
        "94461"
       ]
      },
      {
       "output_type": "stream",
       "stream": "stdout",
       "text": [
        " 94173\n",
        "90759"
       ]
      },
      {
       "output_type": "stream",
       "stream": "stdout",
       "text": [
        " 90760\n",
        "94371"
       ]
      },
      {
       "output_type": "stream",
       "stream": "stdout",
       "text": [
        " \n",
        "94369"
       ]
      },
      {
       "output_type": "stream",
       "stream": "stdout",
       "text": [
        " 94370\n",
        "94367"
       ]
      },
      {
       "output_type": "stream",
       "stream": "stdout",
       "text": [
        " 94368\n",
        "94276"
       ]
      },
      {
       "output_type": "stream",
       "stream": "stdout",
       "text": [
        " 94278\n",
        "94898"
       ]
      },
      {
       "output_type": "stream",
       "stream": "stdout",
       "text": [
        " \n",
        "94714"
       ]
      },
      {
       "output_type": "stream",
       "stream": "stdout",
       "text": [
        " 94708\n",
        "94568"
       ]
      },
      {
       "output_type": "stream",
       "stream": "stdout",
       "text": [
        " 94567\n",
        "94566"
       ]
      },
      {
       "output_type": "stream",
       "stream": "stdout",
       "text": [
        " 94567\n",
        "94564"
       ]
      },
      {
       "output_type": "stream",
       "stream": "stdout",
       "text": [
        " 94565\n",
        "94211"
       ]
      },
      {
       "output_type": "stream",
       "stream": "stdout",
       "text": [
        " 94239\n",
        "94169"
       ]
      },
      {
       "output_type": "stream",
       "stream": "stdout",
       "text": [
        " \n",
        "94166"
       ]
      },
      {
       "output_type": "stream",
       "stream": "stdout",
       "text": [
        " \n",
        "94168"
       ]
      },
      {
       "output_type": "stream",
       "stream": "stdout",
       "text": [
        " \n",
        "94076"
       ]
      },
      {
       "output_type": "stream",
       "stream": "stdout",
       "text": [
        " \n",
        "94091"
       ]
      },
      {
       "output_type": "stream",
       "stream": "stdout",
       "text": [
        " 94068\n",
        "94030"
       ]
      },
      {
       "output_type": "stream",
       "stream": "stdout",
       "text": [
        " \n",
        "94027"
       ]
      },
      {
       "output_type": "stream",
       "stream": "stdout",
       "text": [
        " \n",
        "94024"
       ]
      },
      {
       "output_type": "stream",
       "stream": "stdout",
       "text": [
        " \n",
        "94701"
       ]
      },
      {
       "output_type": "stream",
       "stream": "stdout",
       "text": [
        " \n",
        "94021"
       ]
      },
      {
       "output_type": "stream",
       "stream": "stdout",
       "text": [
        " \n",
        "94330"
       ]
      },
      {
       "output_type": "stream",
       "stream": "stdout",
       "text": [
        " 94331\n",
        "94104"
       ]
      },
      {
       "output_type": "stream",
       "stream": "stdout",
       "text": [
        " \n",
        "94068"
       ]
      },
      {
       "output_type": "stream",
       "stream": "stdout",
       "text": [
        " 94091\n",
        "94080"
       ]
      },
      {
       "output_type": "stream",
       "stream": "stdout",
       "text": [
        " \n",
        "94160"
       ]
      },
      {
       "output_type": "stream",
       "stream": "stdout",
       "text": [
        " \n",
        "94897"
       ]
      },
      {
       "output_type": "stream",
       "stream": "stdout",
       "text": [
        " \n",
        "94057"
       ]
      },
      {
       "output_type": "stream",
       "stream": "stdout",
       "text": [
        " 94091\n",
        "94105"
       ]
      },
      {
       "output_type": "stream",
       "stream": "stdout",
       "text": [
        " 94159\n",
        "94078"
       ]
      },
      {
       "output_type": "stream",
       "stream": "stdout",
       "text": [
        " \n",
        "94071"
       ]
      },
      {
       "output_type": "stream",
       "stream": "stdout",
       "text": [
        " \n",
        "94006"
       ]
      },
      {
       "output_type": "stream",
       "stream": "stdout",
       "text": [
        " \n",
        "94079"
       ]
      },
      {
       "output_type": "stream",
       "stream": "stdout",
       "text": [
        " \n",
        "94186"
       ]
      },
      {
       "output_type": "stream",
       "stream": "stdout",
       "text": [
        " \n",
        "93999"
       ]
      },
      {
       "output_type": "stream",
       "stream": "stdout",
       "text": [
        " \n",
        "94151"
       ]
      },
      {
       "output_type": "stream",
       "stream": "stdout",
       "text": [
        " \n",
        "93842"
       ]
      },
      {
       "output_type": "stream",
       "stream": "stdout",
       "text": [
        " 93843\n",
        "94147"
       ]
      },
      {
       "output_type": "stream",
       "stream": "stdout",
       "text": [
        " \n",
        "94493"
       ]
      },
      {
       "output_type": "stream",
       "stream": "stdout",
       "text": [
        " \n",
        "94355"
       ]
      },
      {
       "output_type": "stream",
       "stream": "stdout",
       "text": [
        " 94356\n",
        "93968"
       ]
      },
      {
       "output_type": "stream",
       "stream": "stdout",
       "text": [
        " \n",
        "93966"
       ]
      },
      {
       "output_type": "stream",
       "stream": "stdout",
       "text": [
        " \n",
        "93927"
       ]
      },
      {
       "output_type": "stream",
       "stream": "stdout",
       "text": [
        " 93928\n",
        "93923"
       ]
      },
      {
       "output_type": "stream",
       "stream": "stdout",
       "text": [
        " 93924\n",
        "93919"
       ]
      },
      {
       "output_type": "stream",
       "stream": "stdout",
       "text": [
        " \n",
        "93936"
       ]
      },
      {
       "output_type": "stream",
       "stream": "stdout",
       "text": [
        " \n",
        "93910"
       ]
      },
      {
       "output_type": "stream",
       "stream": "stdout",
       "text": [
        " 93911\n",
        "93877"
       ]
      },
      {
       "output_type": "stream",
       "stream": "stdout",
       "text": [
        " \n",
        "94492"
       ]
      },
      {
       "output_type": "stream",
       "stream": "stdout",
       "text": [
        " \n",
        "93943"
       ]
      },
      {
       "output_type": "stream",
       "stream": "stdout",
       "text": [
        " \n",
        "93925"
       ]
      },
      {
       "output_type": "stream",
       "stream": "stdout",
       "text": [
        " 93926\n",
        "93915"
       ]
      },
      {
       "output_type": "stream",
       "stream": "stdout",
       "text": [
        " \n",
        "93912"
       ]
      },
      {
       "output_type": "stream",
       "stream": "stdout",
       "text": [
        " \n",
        "93934"
       ]
      },
      {
       "output_type": "stream",
       "stream": "stdout",
       "text": [
        " \n",
        "89240"
       ]
      },
      {
       "output_type": "stream",
       "stream": "stdout",
       "text": [
        " \n",
        "88973"
       ]
      },
      {
       "output_type": "stream",
       "stream": "stdout",
       "text": [
        " \n",
        "89089"
       ]
      },
      {
       "output_type": "stream",
       "stream": "stdout",
       "text": [
        " \n",
        "74082"
       ]
      },
      {
       "output_type": "stream",
       "stream": "stdout",
       "text": [
        " 76160\n",
        "90400"
       ]
      },
      {
       "output_type": "stream",
       "stream": "stdout",
       "text": [
        " \n",
        "89342"
       ]
      },
      {
       "output_type": "stream",
       "stream": "stdout",
       "text": [
        " \n",
        "89018"
       ]
      },
      {
       "output_type": "stream",
       "stream": "stdout",
       "text": [
        " \n",
        "86394"
       ]
      },
      {
       "output_type": "stream",
       "stream": "stdout",
       "text": [
        " \n",
        "88981"
       ]
      },
      {
       "output_type": "stream",
       "stream": "stdout",
       "text": [
        " \n",
        "88978"
       ]
      },
      {
       "output_type": "stream",
       "stream": "stdout",
       "text": [
        " \n",
        "89151"
       ]
      },
      {
       "output_type": "stream",
       "stream": "stdout",
       "text": [
        " \n",
        "89292"
       ]
      },
      {
       "output_type": "stream",
       "stream": "stdout",
       "text": [
        " \n",
        "86398"
       ]
      },
      {
       "output_type": "stream",
       "stream": "stdout",
       "text": [
        " \n",
        "86392"
       ]
      },
      {
       "output_type": "stream",
       "stream": "stdout",
       "text": [
        " \n",
        "88170"
       ]
      },
      {
       "output_type": "stream",
       "stream": "stdout",
       "text": [
        " 88166\n",
        "87453"
       ]
      },
      {
       "output_type": "stream",
       "stream": "stdout",
       "text": [
        " \n",
        "87389"
       ]
      },
      {
       "output_type": "stream",
       "stream": "stdout",
       "text": [
        " 87390\n",
        "89341"
       ]
      },
      {
       "output_type": "stream",
       "stream": "stdout",
       "text": [
        " \n",
        "79267"
       ]
      },
      {
       "output_type": "stream",
       "stream": "stdout",
       "text": [
        " 74058\n",
        "74073"
       ]
      },
      {
       "output_type": "stream",
       "stream": "stdout",
       "text": [
        " 87372\n",
        "89012"
       ]
      },
      {
       "output_type": "stream",
       "stream": "stdout",
       "text": [
        " \n",
        "88892"
       ]
      },
      {
       "output_type": "stream",
       "stream": "stdout",
       "text": [
        " \n",
        "75113"
       ]
      },
      {
       "output_type": "stream",
       "stream": "stdout",
       "text": [
        " 87372\n",
        "89011"
       ]
      },
      {
       "output_type": "stream",
       "stream": "stdout",
       "text": [
        " \n",
        "89013"
       ]
      },
      {
       "output_type": "stream",
       "stream": "stdout",
       "text": [
        " \n",
        "95145"
       ]
      },
      {
       "output_type": "stream",
       "stream": "stdout",
       "text": [
        " \n",
        "88963"
       ]
      },
      {
       "output_type": "stream",
       "stream": "stdout",
       "text": [
        " \n",
        "88964"
       ]
      },
      {
       "output_type": "stream",
       "stream": "stdout",
       "text": [
        " \n",
        "88898"
       ]
      },
      {
       "output_type": "stream",
       "stream": "stdout",
       "text": [
        " \n",
        "86389"
       ]
      },
      {
       "output_type": "stream",
       "stream": "stdout",
       "text": [
        " \n",
        "86383"
       ]
      },
      {
       "output_type": "stream",
       "stream": "stdout",
       "text": [
        " \n",
        "88891"
       ]
      },
      {
       "output_type": "stream",
       "stream": "stdout",
       "text": [
        " \n",
        "75135"
       ]
      },
      {
       "output_type": "stream",
       "stream": "stdout",
       "text": [
        " \n",
        "89010"
       ]
      },
      {
       "output_type": "stream",
       "stream": "stdout",
       "text": [
        " \n",
        "89014"
       ]
      },
      {
       "output_type": "stream",
       "stream": "stdout",
       "text": [
        " \n",
        "88969"
       ]
      },
      {
       "output_type": "stream",
       "stream": "stdout",
       "text": [
        " \n",
        "89235"
       ]
      },
      {
       "output_type": "stream",
       "stream": "stdout",
       "text": [
        " \n",
        "89040"
       ]
      },
      {
       "output_type": "stream",
       "stream": "stdout",
       "text": [
        " \n",
        "88460"
       ]
      },
      {
       "output_type": "stream",
       "stream": "stdout",
       "text": [
        " 88461\n",
        "89041"
       ]
      },
      {
       "output_type": "stream",
       "stream": "stdout",
       "text": [
        " \n",
        "86343"
       ]
      },
      {
       "output_type": "stream",
       "stream": "stdout",
       "text": [
        " \n",
        "88599"
       ]
      },
      {
       "output_type": "stream",
       "stream": "stdout",
       "text": [
        " \n",
        "87441"
       ]
      },
      {
       "output_type": "stream",
       "stream": "stdout",
       "text": [
        " 86232\n",
        "88595"
       ]
      },
      {
       "output_type": "stream",
       "stream": "stdout",
       "text": [
        " \n",
        "87435"
       ]
      },
      {
       "output_type": "stream",
       "stream": "stdout",
       "text": [
        " 87436\n",
        "89233"
       ]
      },
      {
       "output_type": "stream",
       "stream": "stdout",
       "text": [
        " \n",
        "88594"
       ]
      },
      {
       "output_type": "stream",
       "stream": "stdout",
       "text": [
        " \n",
        "87424"
       ]
      },
      {
       "output_type": "stream",
       "stream": "stdout",
       "text": [
        " 87425\n",
        "88585"
       ]
      },
      {
       "output_type": "stream",
       "stream": "stdout",
       "text": [
        " 88586\n",
        "74070"
       ]
      },
      {
       "output_type": "stream",
       "stream": "stdout",
       "text": [
        " \n",
        "88338"
       ]
      },
      {
       "output_type": "stream",
       "stream": "stdout",
       "text": [
        " \n",
        "75121"
       ]
      },
      {
       "output_type": "stream",
       "stream": "stdout",
       "text": [
        " \n",
        "75126"
       ]
      },
      {
       "output_type": "stream",
       "stream": "stdout",
       "text": [
        " 75127\n",
        "88344"
       ]
      },
      {
       "output_type": "stream",
       "stream": "stdout",
       "text": [
        " \n",
        "76160"
       ]
      },
      {
       "output_type": "stream",
       "stream": "stdout",
       "text": [
        " 85038\n",
        "86387"
       ]
      },
      {
       "output_type": "stream",
       "stream": "stdout",
       "text": [
        " 88347\n",
        "88342"
       ]
      },
      {
       "output_type": "stream",
       "stream": "stdout",
       "text": [
        " \n",
        "88341"
       ]
      },
      {
       "output_type": "stream",
       "stream": "stdout",
       "text": [
        " \n",
        "75113"
       ]
      },
      {
       "output_type": "stream",
       "stream": "stdout",
       "text": [
        " \n",
        "74079"
       ]
      },
      {
       "output_type": "stream",
       "stream": "stdout",
       "text": [
        " \n",
        "88340"
       ]
      },
      {
       "output_type": "stream",
       "stream": "stdout",
       "text": [
        " \n",
        "88330"
       ]
      },
      {
       "output_type": "stream",
       "stream": "stdout",
       "text": [
        " 88331\n",
        "88328"
       ]
      },
      {
       "output_type": "stream",
       "stream": "stdout",
       "text": [
        " 88329\n",
        "79677"
       ]
      },
      {
       "output_type": "stream",
       "stream": "stdout",
       "text": [
        " \n",
        "89231"
       ]
      },
      {
       "output_type": "stream",
       "stream": "stdout",
       "text": [
        " \n",
        "65931"
       ]
      },
      {
       "output_type": "stream",
       "stream": "stdout",
       "text": [
        " \n",
        "89753"
       ]
      },
      {
       "output_type": "stream",
       "stream": "stdout",
       "text": [
        " 89754\n",
        "88386"
       ]
      },
      {
       "output_type": "stream",
       "stream": "stdout",
       "text": [
        " \n",
        "86349"
       ]
      },
      {
       "output_type": "stream",
       "stream": "stdout",
       "text": [
        " \n",
        "86334"
       ]
      },
      {
       "output_type": "stream",
       "stream": "stdout",
       "text": [
        " 86344\n",
        "86334"
       ]
      },
      {
       "output_type": "stream",
       "stream": "stdout",
       "text": [
        " \n",
        "88434"
       ]
      },
      {
       "output_type": "stream",
       "stream": "stdout",
       "text": [
        " \n",
        "88284"
       ]
      },
      {
       "output_type": "stream",
       "stream": "stdout",
       "text": [
        " \n",
        "88285"
       ]
      },
      {
       "output_type": "stream",
       "stream": "stdout",
       "text": [
        " \n",
        "88384"
       ]
      },
      {
       "output_type": "stream",
       "stream": "stdout",
       "text": [
        " \n",
        "88281"
       ]
      },
      {
       "output_type": "stream",
       "stream": "stdout",
       "text": [
        " 88282\n",
        "86241"
       ]
      },
      {
       "output_type": "stream",
       "stream": "stdout",
       "text": [
        " \n",
        "74107"
       ]
      },
      {
       "output_type": "stream",
       "stream": "stdout",
       "text": [
        " 74108\n",
        "75099"
       ]
      },
      {
       "output_type": "stream",
       "stream": "stdout",
       "text": [
        " \n",
        "71353"
       ]
      },
      {
       "output_type": "stream",
       "stream": "stdout",
       "text": [
        " 71334\n",
        "88178"
       ]
      },
      {
       "output_type": "stream",
       "stream": "stdout",
       "text": [
        " \n",
        "66144"
       ]
      },
      {
       "output_type": "stream",
       "stream": "stdout",
       "text": [
        " \n",
        "88968"
       ]
      },
      {
       "output_type": "stream",
       "stream": "stdout",
       "text": [
        " \n",
        "66138"
       ]
      },
      {
       "output_type": "stream",
       "stream": "stdout",
       "text": [
        " \n",
        "86233"
       ]
      },
      {
       "output_type": "stream",
       "stream": "stdout",
       "text": [
        " 86235\n",
        "88179"
       ]
      },
      {
       "output_type": "stream",
       "stream": "stdout",
       "text": [
        " \n",
        "86793"
       ]
      },
      {
       "output_type": "stream",
       "stream": "stdout",
       "text": [
        " \n",
        "88253"
       ]
      },
      {
       "output_type": "stream",
       "stream": "stdout",
       "text": [
        " 88254\n",
        "75102"
       ]
      },
      {
       "output_type": "stream",
       "stream": "stdout",
       "text": [
        " 66091\n",
        "86788"
       ]
      },
      {
       "output_type": "stream",
       "stream": "stdout",
       "text": [
        " \n",
        "88076"
       ]
      },
      {
       "output_type": "stream",
       "stream": "stdout",
       "text": [
        " \n",
        "88166"
       ]
      },
      {
       "output_type": "stream",
       "stream": "stdout",
       "text": [
        " \n",
        "66145"
       ]
      },
      {
       "output_type": "stream",
       "stream": "stdout",
       "text": [
        " \n",
        "88164"
       ]
      },
      {
       "output_type": "stream",
       "stream": "stdout",
       "text": [
        " \n",
        "93915"
       ]
      },
      {
       "output_type": "stream",
       "stream": "stdout",
       "text": [
        " 93916\n",
        "93868"
       ]
      },
      {
       "output_type": "stream",
       "stream": "stdout",
       "text": [
        " 93872\n",
        "94182"
       ]
      },
      {
       "output_type": "stream",
       "stream": "stdout",
       "text": [
        " \n",
        "94361"
       ]
      },
      {
       "output_type": "stream",
       "stream": "stdout",
       "text": [
        " 94363\n",
        "93986"
       ]
      },
      {
       "output_type": "stream",
       "stream": "stdout",
       "text": [
        " \n",
        "94494"
       ]
      },
      {
       "output_type": "stream",
       "stream": "stdout",
       "text": [
        " \n",
        "94175"
       ]
      },
      {
       "output_type": "stream",
       "stream": "stdout",
       "text": [
        " \n",
        "93829"
       ]
      },
      {
       "output_type": "stream",
       "stream": "stdout",
       "text": [
        " 93831\n",
        "93956"
       ]
      },
      {
       "output_type": "stream",
       "stream": "stdout",
       "text": [
        " 93949\n",
        "94559"
       ]
      },
      {
       "output_type": "stream",
       "stream": "stdout",
       "text": [
        " \n",
        "93777"
       ]
      },
      {
       "output_type": "stream",
       "stream": "stdout",
       "text": [
        " 93778\n",
        "93652"
       ]
      },
      {
       "output_type": "stream",
       "stream": "stdout",
       "text": [
        " 93695\n",
        "93652"
       ]
      },
      {
       "output_type": "stream",
       "stream": "stdout",
       "text": [
        " 93694\n",
        "93956"
       ]
      },
      {
       "output_type": "stream",
       "stream": "stdout",
       "text": [
        " 93822\n",
        "94558"
       ]
      },
      {
       "output_type": "stream",
       "stream": "stdout",
       "text": [
        " \n",
        "93956"
       ]
      },
      {
       "output_type": "stream",
       "stream": "stdout",
       "text": [
        " \n",
        "93818"
       ]
      },
      {
       "output_type": "stream",
       "stream": "stdout",
       "text": [
        " \n",
        "93823"
       ]
      },
      {
       "output_type": "stream",
       "stream": "stdout",
       "text": [
        " \n",
        "93780"
       ]
      },
      {
       "output_type": "stream",
       "stream": "stdout",
       "text": [
        " \n",
        "93812"
       ]
      },
      {
       "output_type": "stream",
       "stream": "stdout",
       "text": [
        " 93815\n",
        "93730"
       ]
      },
      {
       "output_type": "stream",
       "stream": "stdout",
       "text": [
        " 93731\n",
        "93469"
       ]
      },
      {
       "output_type": "stream",
       "stream": "stdout",
       "text": [
        " 92586\n",
        "93710"
       ]
      },
      {
       "output_type": "stream",
       "stream": "stdout",
       "text": [
        " 93711\n",
        "93695"
       ]
      },
      {
       "output_type": "stream",
       "stream": "stdout",
       "text": [
        " \n",
        "93520"
       ]
      },
      {
       "output_type": "stream",
       "stream": "stdout",
       "text": [
        " \n",
        "92572"
       ]
      },
      {
       "output_type": "stream",
       "stream": "stdout",
       "text": [
        " 93386\n",
        "93436"
       ]
      },
      {
       "output_type": "stream",
       "stream": "stdout",
       "text": [
        " 93432\n",
        "93476"
       ]
      },
      {
       "output_type": "stream",
       "stream": "stdout",
       "text": [
        " \n",
        "93517"
       ]
      },
      {
       "output_type": "stream",
       "stream": "stdout",
       "text": [
        " 93521\n",
        "93753"
       ]
      },
      {
       "output_type": "stream",
       "stream": "stdout",
       "text": [
        " \n",
        "93715"
       ]
      },
      {
       "output_type": "stream",
       "stream": "stdout",
       "text": [
        " \n",
        "93639"
       ]
      },
      {
       "output_type": "stream",
       "stream": "stdout",
       "text": [
        " \n",
        "93696"
       ]
      },
      {
       "output_type": "stream",
       "stream": "stdout",
       "text": [
        " 93697\n",
        "93676"
       ]
      },
      {
       "output_type": "stream",
       "stream": "stdout",
       "text": [
        " 93677\n",
        "91046"
       ]
      },
      {
       "output_type": "stream",
       "stream": "stdout",
       "text": [
        " \n",
        "93668"
       ]
      },
      {
       "output_type": "stream",
       "stream": "stdout",
       "text": [
        " 93640\n",
        "93657"
       ]
      },
      {
       "output_type": "stream",
       "stream": "stdout",
       "text": [
        " 93656\n",
        "93656"
       ]
      },
      {
       "output_type": "stream",
       "stream": "stdout",
       "text": [
        " 93657\n",
        "93677"
       ]
      },
      {
       "output_type": "stream",
       "stream": "stdout",
       "text": [
        " \n",
        "93630"
       ]
      },
      {
       "output_type": "stream",
       "stream": "stdout",
       "text": [
        " \n",
        "93531"
       ]
      },
      {
       "output_type": "stream",
       "stream": "stdout",
       "text": [
        " \n",
        "93628"
       ]
      },
      {
       "output_type": "stream",
       "stream": "stdout",
       "text": [
        " \n",
        "94043"
       ]
      },
      {
       "output_type": "stream",
       "stream": "stdout",
       "text": [
        " \n",
        "93457"
       ]
      },
      {
       "output_type": "stream",
       "stream": "stdout",
       "text": [
        " 93386\n",
        "93458"
       ]
      },
      {
       "output_type": "stream",
       "stream": "stdout",
       "text": [
        " 93386\n",
        "93555"
       ]
      },
      {
       "output_type": "stream",
       "stream": "stdout",
       "text": [
        " 93640\n",
        "93653"
       ]
      },
      {
       "output_type": "stream",
       "stream": "stdout",
       "text": [
        " \n",
        "93377"
       ]
      },
      {
       "output_type": "stream",
       "stream": "stdout",
       "text": [
        " 93380\n",
        "93590"
       ]
      },
      {
       "output_type": "stream",
       "stream": "stdout",
       "text": [
        " \n",
        "93650"
       ]
      },
      {
       "output_type": "stream",
       "stream": "stdout",
       "text": [
        " \n",
        "93626"
       ]
      },
      {
       "output_type": "stream",
       "stream": "stdout",
       "text": [
        " \n",
        "93601"
       ]
      },
      {
       "output_type": "stream",
       "stream": "stdout",
       "text": [
        " 93600\n",
        "93577"
       ]
      },
      {
       "output_type": "stream",
       "stream": "stdout",
       "text": [
        " 93610\n",
        "93459"
       ]
      },
      {
       "output_type": "stream",
       "stream": "stdout",
       "text": [
        " 93386\n",
        "93651"
       ]
      },
      {
       "output_type": "stream",
       "stream": "stdout",
       "text": [
        " \n",
        "93701"
       ]
      },
      {
       "output_type": "stream",
       "stream": "stdout",
       "text": [
        " \n",
        "93575"
       ]
      },
      {
       "output_type": "stream",
       "stream": "stdout",
       "text": [
        " \n",
        "93443"
       ]
      },
      {
       "output_type": "stream",
       "stream": "stdout",
       "text": [
        " 93444\n",
        "93766"
       ]
      },
      {
       "output_type": "stream",
       "stream": "stdout",
       "text": [
        " \n",
        "93587"
       ]
      },
      {
       "output_type": "stream",
       "stream": "stdout",
       "text": [
        " 93588\n",
        "93578"
       ]
      },
      {
       "output_type": "stream",
       "stream": "stdout",
       "text": [
        " 93577\n",
        "93447"
       ]
      },
      {
       "output_type": "stream",
       "stream": "stdout",
       "text": [
        " 93448\n",
        "93461"
       ]
      },
      {
       "output_type": "stream",
       "stream": "stdout",
       "text": [
        " 93466\n",
        "93573"
       ]
      },
      {
       "output_type": "stream",
       "stream": "stdout",
       "text": [
        " \n",
        "93570"
       ]
      },
      {
       "output_type": "stream",
       "stream": "stdout",
       "text": [
        " \n",
        "93648"
       ]
      },
      {
       "output_type": "stream",
       "stream": "stdout",
       "text": [
        " \n",
        "93647"
       ]
      },
      {
       "output_type": "stream",
       "stream": "stdout",
       "text": [
        " \n",
        "93441"
       ]
      },
      {
       "output_type": "stream",
       "stream": "stdout",
       "text": [
        " 93442\n",
        "92604"
       ]
      },
      {
       "output_type": "stream",
       "stream": "stdout",
       "text": [
        " 93364\n",
        "92580"
       ]
      },
      {
       "output_type": "stream",
       "stream": "stdout",
       "text": [
        " \n",
        "92588"
       ]
      },
      {
       "output_type": "stream",
       "stream": "stdout",
       "text": [
        " \n",
        "92582"
       ]
      },
      {
       "output_type": "stream",
       "stream": "stdout",
       "text": [
        " \n",
        "92581"
       ]
      },
      {
       "output_type": "stream",
       "stream": "stdout",
       "text": [
        " \n",
        "92566"
       ]
      },
      {
       "output_type": "stream",
       "stream": "stdout",
       "text": [
        " \n",
        "92559"
       ]
      },
      {
       "output_type": "stream",
       "stream": "stdout",
       "text": [
        " \n",
        "92555"
       ]
      },
      {
       "output_type": "stream",
       "stream": "stdout",
       "text": [
        " \n",
        "92554"
       ]
      },
      {
       "output_type": "stream",
       "stream": "stdout",
       "text": [
        " \n",
        "93649"
       ]
      },
      {
       "output_type": "stream",
       "stream": "stdout",
       "text": [
        " \n",
        "93366"
       ]
      },
      {
       "output_type": "stream",
       "stream": "stdout",
       "text": [
        " \n",
        "93412"
       ]
      },
      {
       "output_type": "stream",
       "stream": "stdout",
       "text": [
        " \n",
        "93407"
       ]
      },
      {
       "output_type": "stream",
       "stream": "stdout",
       "text": [
        " \n",
        "93406"
       ]
      },
      {
       "output_type": "stream",
       "stream": "stdout",
       "text": [
        " \n",
        "93377"
       ]
      },
      {
       "output_type": "stream",
       "stream": "stdout",
       "text": [
        " 93385\n",
        "93383"
       ]
      },
      {
       "output_type": "stream",
       "stream": "stdout",
       "text": [
        " \n",
        "93383"
       ]
      },
      {
       "output_type": "stream",
       "stream": "stdout",
       "text": [
        " 93384\n",
        "93374"
       ]
      },
      {
       "output_type": "stream",
       "stream": "stdout",
       "text": [
        " \n",
        "93364"
       ]
      },
      {
       "output_type": "stream",
       "stream": "stdout",
       "text": [
        " 92605\n",
        "93360"
       ]
      },
      {
       "output_type": "stream",
       "stream": "stdout",
       "text": [
        " 93360\n",
        "90907"
       ]
      },
      {
       "output_type": "stream",
       "stream": "stdout",
       "text": [
        " \n",
        "90906"
       ]
      },
      {
       "output_type": "stream",
       "stream": "stdout",
       "text": [
        " \n",
        "90905"
       ]
      },
      {
       "output_type": "stream",
       "stream": "stdout",
       "text": [
        " \n",
        "90896"
       ]
      },
      {
       "output_type": "stream",
       "stream": "stdout",
       "text": [
        " \n",
        "90889"
       ]
      },
      {
       "output_type": "stream",
       "stream": "stdout",
       "text": [
        " \n",
        "93350"
       ]
      },
      {
       "output_type": "stream",
       "stream": "stdout",
       "text": [
        " 93349\n",
        "92591"
       ]
      },
      {
       "output_type": "stream",
       "stream": "stdout",
       "text": [
        " 93347\n",
        "90762"
       ]
      },
      {
       "output_type": "stream",
       "stream": "stdout",
       "text": [
        " 90884\n",
        "91185"
       ]
      },
      {
       "output_type": "stream",
       "stream": "stdout",
       "text": [
        " \n",
        "94895"
       ]
      },
      {
       "output_type": "stream",
       "stream": "stdout",
       "text": [
        " \n",
        "92606"
       ]
      },
      {
       "output_type": "stream",
       "stream": "stdout",
       "text": [
        " \n",
        "93437"
       ]
      },
      {
       "output_type": "stream",
       "stream": "stdout",
       "text": [
        " 93432\n",
        "93566"
       ]
      },
      {
       "output_type": "stream",
       "stream": "stdout",
       "text": [
        " \n",
        "91188"
       ]
      },
      {
       "output_type": "stream",
       "stream": "stdout",
       "text": [
        " \n",
        "91155"
       ]
      },
      {
       "output_type": "stream",
       "stream": "stdout",
       "text": [
        " 91152\n",
        "91151"
       ]
      },
      {
       "output_type": "stream",
       "stream": "stdout",
       "text": [
        " 91152\n",
        "91161"
       ]
      },
      {
       "output_type": "stream",
       "stream": "stdout",
       "text": [
        " \n",
        "90882"
       ]
      },
      {
       "output_type": "stream",
       "stream": "stdout",
       "text": [
        " \n",
        "91077"
       ]
      },
      {
       "output_type": "stream",
       "stream": "stdout",
       "text": [
        " \n",
        "94131"
       ]
      },
      {
       "output_type": "stream",
       "stream": "stdout",
       "text": [
        " \n",
        "91073"
       ]
      },
      {
       "output_type": "stream",
       "stream": "stdout",
       "text": [
        " \n",
        "90849"
       ]
      },
      {
       "output_type": "stream",
       "stream": "stdout",
       "text": [
        " \n",
        "91068"
       ]
      },
      {
       "output_type": "stream",
       "stream": "stdout",
       "text": [
        " 91069\n",
        "90872"
       ]
      },
      {
       "output_type": "stream",
       "stream": "stdout",
       "text": [
        " \n",
        "90867"
       ]
      },
      {
       "output_type": "stream",
       "stream": "stdout",
       "text": [
        " 90868\n",
        "90861"
       ]
      },
      {
       "output_type": "stream",
       "stream": "stdout",
       "text": [
        " 90862\n",
        "90859"
       ]
      },
      {
       "output_type": "stream",
       "stream": "stdout",
       "text": [
        " 90860\n",
        "90856"
       ]
      },
      {
       "output_type": "stream",
       "stream": "stdout",
       "text": [
        " 90855\n",
        "90852"
       ]
      },
      {
       "output_type": "stream",
       "stream": "stdout",
       "text": [
        " 90844\n",
        "93387"
       ]
      },
      {
       "output_type": "stream",
       "stream": "stdout",
       "text": [
        " \n",
        "90853"
       ]
      },
      {
       "output_type": "stream",
       "stream": "stdout",
       "text": [
        " \n",
        "91175"
       ]
      },
      {
       "output_type": "stream",
       "stream": "stdout",
       "text": [
        " 90942\n",
        "91173"
       ]
      },
      {
       "output_type": "stream",
       "stream": "stdout",
       "text": [
        " 91174\n",
        "91061"
       ]
      },
      {
       "output_type": "stream",
       "stream": "stdout",
       "text": [
        " \n",
        "93394"
       ]
      },
      {
       "output_type": "stream",
       "stream": "stdout",
       "text": [
        " \n",
        "93391"
       ]
      },
      {
       "output_type": "stream",
       "stream": "stdout",
       "text": [
        " 93392\n",
        "91129"
       ]
      },
      {
       "output_type": "stream",
       "stream": "stdout",
       "text": [
        " \n",
        "91126"
       ]
      },
      {
       "output_type": "stream",
       "stream": "stdout",
       "text": [
        " \n",
        "90826"
       ]
      },
      {
       "output_type": "stream",
       "stream": "stdout",
       "text": [
        " 91099\n",
        "92539"
       ]
      },
      {
       "output_type": "stream",
       "stream": "stdout",
       "text": [
        " \n",
        "90951"
       ]
      },
      {
       "output_type": "stream",
       "stream": "stdout",
       "text": [
        " \n",
        "90950"
       ]
      },
      {
       "output_type": "stream",
       "stream": "stdout",
       "text": [
        " \n",
        "90847"
       ]
      },
      {
       "output_type": "stream",
       "stream": "stdout",
       "text": [
        " \n",
        "93559"
       ]
      },
      {
       "output_type": "stream",
       "stream": "stdout",
       "text": [
        " \n",
        "90779"
       ]
      },
      {
       "output_type": "stream",
       "stream": "stdout",
       "text": [
        " \n",
        "90770"
       ]
      },
      {
       "output_type": "stream",
       "stream": "stdout",
       "text": [
        " \n",
        "90633"
       ]
      },
      {
       "output_type": "stream",
       "stream": "stdout",
       "text": [
        " \n",
        "90761"
       ]
      },
      {
       "output_type": "stream",
       "stream": "stdout",
       "text": [
        " \n",
        "90762"
       ]
      },
      {
       "output_type": "stream",
       "stream": "stdout",
       "text": [
        " \n",
        "90726"
       ]
      },
      {
       "output_type": "stream",
       "stream": "stdout",
       "text": [
        " 90689\n",
        "90721"
       ]
      },
      {
       "output_type": "stream",
       "stream": "stdout",
       "text": [
        " \n",
        "90812"
       ]
      },
      {
       "output_type": "stream",
       "stream": "stdout",
       "text": [
        " \n",
        "90630"
       ]
      },
      {
       "output_type": "stream",
       "stream": "stdout",
       "text": [
        " \n",
        "91037"
       ]
      },
      {
       "output_type": "stream",
       "stream": "stdout",
       "text": [
        " \n",
        "91118"
       ]
      },
      {
       "output_type": "stream",
       "stream": "stdout",
       "text": [
        " \n",
        "92532"
       ]
      },
      {
       "output_type": "stream",
       "stream": "stdout",
       "text": [
        " 92533\n",
        "91059"
       ]
      },
      {
       "output_type": "stream",
       "stream": "stdout",
       "text": [
        " \n",
        "92526"
       ]
      },
      {
       "output_type": "stream",
       "stream": "stdout",
       "text": [
        " 92527\n",
        "91124"
       ]
      },
      {
       "output_type": "stream",
       "stream": "stdout",
       "text": [
        " \n",
        "90801"
       ]
      },
      {
       "output_type": "stream",
       "stream": "stdout",
       "text": [
        " 90802\n",
        "91049"
       ]
      },
      {
       "output_type": "stream",
       "stream": "stdout",
       "text": [
        " \n",
        "92523"
       ]
      },
      {
       "output_type": "stream",
       "stream": "stdout",
       "text": [
        " 92524\n",
        "90789"
       ]
      },
      {
       "output_type": "stream",
       "stream": "stdout",
       "text": [
        " 90791\n",
        "90718"
       ]
      },
      {
       "output_type": "stream",
       "stream": "stdout",
       "text": [
        " 90719\n",
        "90707"
       ]
      },
      {
       "output_type": "stream",
       "stream": "stdout",
       "text": [
        " 90708\n",
        "93858"
       ]
      },
      {
       "output_type": "stream",
       "stream": "stdout",
       "text": [
        " \n",
        "90710"
       ]
      },
      {
       "output_type": "stream",
       "stream": "stdout",
       "text": [
        " \n",
        "90517"
       ]
      },
      {
       "output_type": "stream",
       "stream": "stdout",
       "text": [
        " \n",
        "90516"
       ]
      },
      {
       "output_type": "stream",
       "stream": "stdout",
       "text": [
        " \n",
        "90755"
       ]
      },
      {
       "output_type": "stream",
       "stream": "stdout",
       "text": [
        " \n",
        "91231"
       ]
      },
      {
       "output_type": "stream",
       "stream": "stdout",
       "text": [
        " \n",
        "90705"
       ]
      },
      {
       "output_type": "stream",
       "stream": "stdout",
       "text": [
        " \n",
        "90657"
       ]
      },
      {
       "output_type": "stream",
       "stream": "stdout",
       "text": [
        " 90621\n",
        "85049"
       ]
      },
      {
       "output_type": "stream",
       "stream": "stdout",
       "text": [
        " \n",
        "90842"
       ]
      },
      {
       "output_type": "stream",
       "stream": "stdout",
       "text": [
        " 90843\n",
        "91236"
       ]
      },
      {
       "output_type": "stream",
       "stream": "stdout",
       "text": [
        " \n",
        "91115"
       ]
      },
      {
       "output_type": "stream",
       "stream": "stdout",
       "text": [
        " \n",
        "90941"
       ]
      },
      {
       "output_type": "stream",
       "stream": "stdout",
       "text": [
        " \n",
        "91235"
       ]
      },
      {
       "output_type": "stream",
       "stream": "stdout",
       "text": [
        " \n",
        "90689"
       ]
      },
      {
       "output_type": "stream",
       "stream": "stdout",
       "text": [
        " \n",
        "90656"
       ]
      },
      {
       "output_type": "stream",
       "stream": "stdout",
       "text": [
        " \n",
        "91237"
       ]
      },
      {
       "output_type": "stream",
       "stream": "stdout",
       "text": [
        " \n",
        "91190"
       ]
      },
      {
       "output_type": "stream",
       "stream": "stdout",
       "text": [
        " \n",
        "93552"
       ]
      },
      {
       "output_type": "stream",
       "stream": "stdout",
       "text": [
        " \n",
        "94038"
       ]
      },
      {
       "output_type": "stream",
       "stream": "stdout",
       "text": [
        " \n",
        "90196"
       ]
      },
      {
       "output_type": "stream",
       "stream": "stdout",
       "text": [
        " 90197\n",
        "90513"
       ]
      },
      {
       "output_type": "stream",
       "stream": "stdout",
       "text": [
        " \n",
        "90716"
       ]
      },
      {
       "output_type": "stream",
       "stream": "stdout",
       "text": [
        " 90717\n",
        "90703"
       ]
      },
      {
       "output_type": "stream",
       "stream": "stdout",
       "text": [
        " \n",
        "90190"
       ]
      },
      {
       "output_type": "stream",
       "stream": "stdout",
       "text": [
        " \n",
        "90751"
       ]
      },
      {
       "output_type": "stream",
       "stream": "stdout",
       "text": [
        " \n",
        "75117"
       ]
      },
      {
       "output_type": "stream",
       "stream": "stdout",
       "text": [
        " \n",
        "90699"
       ]
      },
      {
       "output_type": "stream",
       "stream": "stdout",
       "text": [
        " 90487\n",
        "90165"
       ]
      },
      {
       "output_type": "stream",
       "stream": "stdout",
       "text": [
        " 90179\n",
        "90693"
       ]
      },
      {
       "output_type": "stream",
       "stream": "stdout",
       "text": [
        " \n",
        "90184"
       ]
      },
      {
       "output_type": "stream",
       "stream": "stdout",
       "text": [
        " 90185\n",
        "90397"
       ]
      },
      {
       "output_type": "stream",
       "stream": "stdout",
       "text": [
        " 90621\n",
        "92596"
       ]
      },
      {
       "output_type": "stream",
       "stream": "stdout",
       "text": [
        " \n",
        "91113"
       ]
      },
      {
       "output_type": "stream",
       "stream": "stdout",
       "text": [
        " \n",
        "90395"
       ]
      },
      {
       "output_type": "stream",
       "stream": "stdout",
       "text": [
        " \n",
        "91026"
       ]
      },
      {
       "output_type": "stream",
       "stream": "stdout",
       "text": [
        " \n",
        "93551"
       ]
      },
      {
       "output_type": "stream",
       "stream": "stdout",
       "text": [
        " \n",
        "90743"
       ]
      },
      {
       "output_type": "stream",
       "stream": "stdout",
       "text": [
        " \n",
        "90836"
       ]
      },
      {
       "output_type": "stream",
       "stream": "stdout",
       "text": [
        " \n",
        "93432"
       ]
      },
      {
       "output_type": "stream",
       "stream": "stdout",
       "text": [
        " \n",
        "90430"
       ]
      },
      {
       "output_type": "stream",
       "stream": "stdout",
       "text": [
        " \n",
        "90205"
       ]
      },
      {
       "output_type": "stream",
       "stream": "stdout",
       "text": [
        " \n",
        "90796"
       ]
      },
      {
       "output_type": "stream",
       "stream": "stdout",
       "text": [
        " 90797\n",
        "90347"
       ]
      },
      {
       "output_type": "stream",
       "stream": "stdout",
       "text": [
        " \n",
        "66939"
       ]
      },
      {
       "output_type": "stream",
       "stream": "stdout",
       "text": [
        " 90621\n",
        "90829"
       ]
      },
      {
       "output_type": "stream",
       "stream": "stdout",
       "text": [
        " \n",
        "92592"
       ]
      },
      {
       "output_type": "stream",
       "stream": "stdout",
       "text": [
        " 92593\n",
        "90349"
       ]
      },
      {
       "output_type": "stream",
       "stream": "stdout",
       "text": [
        " 90376\n",
        "91023"
       ]
      },
      {
       "output_type": "stream",
       "stream": "stdout",
       "text": [
        " \n",
        "91025"
       ]
      },
      {
       "output_type": "stream",
       "stream": "stdout",
       "text": [
        " \n",
        "90415"
       ]
      },
      {
       "output_type": "stream",
       "stream": "stdout",
       "text": [
        " \n",
        "90220"
       ]
      },
      {
       "output_type": "stream",
       "stream": "stdout",
       "text": [
        " \n",
        "93390"
       ]
      },
      {
       "output_type": "stream",
       "stream": "stdout",
       "text": [
        " 93433\n",
        "90201"
       ]
      },
      {
       "output_type": "stream",
       "stream": "stdout",
       "text": [
        " \n",
        "90740"
       ]
      },
      {
       "output_type": "stream",
       "stream": "stdout",
       "text": [
        " \n",
        "90215"
       ]
      },
      {
       "output_type": "stream",
       "stream": "stdout",
       "text": [
        " \n",
        "90207"
       ]
      },
      {
       "output_type": "stream",
       "stream": "stdout",
       "text": [
        " \n",
        "90410"
       ]
      },
      {
       "output_type": "stream",
       "stream": "stdout",
       "text": [
        " \n",
        "90221"
       ]
      },
      {
       "output_type": "stream",
       "stream": "stdout",
       "text": [
        " \n",
        "90219"
       ]
      },
      {
       "output_type": "stream",
       "stream": "stdout",
       "text": [
        " \n",
        "90213"
       ]
      },
      {
       "output_type": "stream",
       "stream": "stdout",
       "text": [
        " \n",
        "90212"
       ]
      },
      {
       "output_type": "stream",
       "stream": "stdout",
       "text": [
        " \n",
        "90776"
       ]
      },
      {
       "output_type": "stream",
       "stream": "stdout",
       "text": [
        " 90777\n",
        "74035"
       ]
      },
      {
       "output_type": "stream",
       "stream": "stdout",
       "text": [
        " \n",
        "93549"
       ]
      },
      {
       "output_type": "stream",
       "stream": "stdout",
       "text": [
        " \n",
        "93882"
       ]
      },
      {
       "output_type": "stream",
       "stream": "stdout",
       "text": [
        " \n",
        "90644"
       ]
      },
      {
       "output_type": "stream",
       "stream": "stdout",
       "text": [
        " \n",
        "90433"
       ]
      },
      {
       "output_type": "stream",
       "stream": "stdout",
       "text": [
        " \n",
        "90110"
       ]
      },
      {
       "output_type": "stream",
       "stream": "stdout",
       "text": [
        " \n",
        "90131"
       ]
      },
      {
       "output_type": "stream",
       "stream": "stdout",
       "text": [
        " \n",
        "90130"
       ]
      },
      {
       "output_type": "stream",
       "stream": "stdout",
       "text": [
        " \n",
        "90115"
       ]
      },
      {
       "output_type": "stream",
       "stream": "stdout",
       "text": [
        " \n",
        "93429"
       ]
      },
      {
       "output_type": "stream",
       "stream": "stdout",
       "text": [
        " \n",
        "90198"
       ]
      },
      {
       "output_type": "stream",
       "stream": "stdout",
       "text": [
        " \n",
        "90494"
       ]
      },
      {
       "output_type": "stream",
       "stream": "stdout",
       "text": [
        " 90431\n",
        "90110"
       ]
      },
      {
       "output_type": "stream",
       "stream": "stdout",
       "text": [
        " 66190\n",
        "90162"
       ]
      },
      {
       "output_type": "stream",
       "stream": "stdout",
       "text": [
        " 90163\n",
        "90164"
       ]
      },
      {
       "output_type": "stream",
       "stream": "stdout",
       "text": [
        " 90163\n",
        "90641"
       ]
      },
      {
       "output_type": "stream",
       "stream": "stdout",
       "text": [
        " \n",
        "90151"
       ]
      },
      {
       "output_type": "stream",
       "stream": "stdout",
       "text": [
        " \n",
        "90361"
       ]
      },
      {
       "output_type": "stream",
       "stream": "stdout",
       "text": [
        " \n",
        "90406"
       ]
      },
      {
       "output_type": "stream",
       "stream": "stdout",
       "text": [
        " \n",
        "90149"
       ]
      },
      {
       "output_type": "stream",
       "stream": "stdout",
       "text": [
        " 90150\n",
        "90434"
       ]
      },
      {
       "output_type": "stream",
       "stream": "stdout",
       "text": [
        " 90435\n",
        "90438"
       ]
      },
      {
       "output_type": "stream",
       "stream": "stdout",
       "text": [
        " \n",
        "90136"
       ]
      },
      {
       "output_type": "stream",
       "stream": "stdout",
       "text": [
        " 90137\n",
        "90403"
       ]
      },
      {
       "output_type": "stream",
       "stream": "stdout",
       "text": [
        " 90404\n",
        "89205"
       ]
      },
      {
       "output_type": "stream",
       "stream": "stdout",
       "text": [
        " 89206\n",
        "90048"
       ]
      },
      {
       "output_type": "stream",
       "stream": "stdout",
       "text": [
        " \n",
        "89163"
       ]
      },
      {
       "output_type": "stream",
       "stream": "stdout",
       "text": [
        " 89218\n",
        "90045"
       ]
      },
      {
       "output_type": "stream",
       "stream": "stdout",
       "text": [
        " \n",
        "89161"
       ]
      },
      {
       "output_type": "stream",
       "stream": "stdout",
       "text": [
        " 75120\n",
        "90049"
       ]
      },
      {
       "output_type": "stream",
       "stream": "stdout",
       "text": [
        " \n",
        "66120"
       ]
      },
      {
       "output_type": "stream",
       "stream": "stdout",
       "text": [
        " \n",
        "90047"
       ]
      },
      {
       "output_type": "stream",
       "stream": "stdout",
       "text": [
        " \n",
        "89165"
       ]
      },
      {
       "output_type": "stream",
       "stream": "stdout",
       "text": [
        " 89166\n",
        "89167"
       ]
      },
      {
       "output_type": "stream",
       "stream": "stdout",
       "text": [
        " 89168\n",
        "89155"
       ]
      },
      {
       "output_type": "stream",
       "stream": "stdout",
       "text": [
        " 89157\n",
        "75120"
       ]
      },
      {
       "output_type": "stream",
       "stream": "stdout",
       "text": [
        " 75122\n",
        "75127"
       ]
      },
      {
       "output_type": "stream",
       "stream": "stdout",
       "text": [
        " 75126\n",
        "59066"
       ]
      },
      {
       "output_type": "stream",
       "stream": "stdout",
       "text": [
        " \n",
        "89992"
       ]
      },
      {
       "output_type": "stream",
       "stream": "stdout",
       "text": [
        " 89993\n",
        "89133"
       ]
      },
      {
       "output_type": "stream",
       "stream": "stdout",
       "text": [
        " \n",
        "89144"
       ]
      },
      {
       "output_type": "stream",
       "stream": "stdout",
       "text": [
        " \n",
        "89139"
       ]
      },
      {
       "output_type": "stream",
       "stream": "stdout",
       "text": [
        " \n",
        "89135"
       ]
      },
      {
       "output_type": "stream",
       "stream": "stdout",
       "text": [
        " 89155\n",
        "89281"
       ]
      },
      {
       "output_type": "stream",
       "stream": "stdout",
       "text": [
        " \n",
        "90022"
       ]
      },
      {
       "output_type": "stream",
       "stream": "stdout",
       "text": [
        " \n",
        "89940"
       ]
      },
      {
       "output_type": "stream",
       "stream": "stdout",
       "text": [
        " \n",
        "90015"
       ]
      },
      {
       "output_type": "stream",
       "stream": "stdout",
       "text": [
        " \n",
        "89149"
       ]
      },
      {
       "output_type": "stream",
       "stream": "stdout",
       "text": [
        " \n",
        "90014"
       ]
      },
      {
       "output_type": "stream",
       "stream": "stdout",
       "text": [
        " \n",
        "89109"
       ]
      },
      {
       "output_type": "stream",
       "stream": "stdout",
       "text": [
        " \n",
        "89149"
       ]
      },
      {
       "output_type": "stream",
       "stream": "stdout",
       "text": [
        " 89163\n",
        "89102"
       ]
      },
      {
       "output_type": "stream",
       "stream": "stdout",
       "text": [
        " \n",
        "89246"
       ]
      },
      {
       "output_type": "stream",
       "stream": "stdout",
       "text": [
        " 89277\n",
        "89788"
       ]
      },
      {
       "output_type": "stream",
       "stream": "stdout",
       "text": [
        " \n",
        "89312"
       ]
      },
      {
       "output_type": "stream",
       "stream": "stdout",
       "text": [
        " \n",
        "88127"
       ]
      },
      {
       "output_type": "stream",
       "stream": "stdout",
       "text": [
        " \n",
        "88128"
       ]
      },
      {
       "output_type": "stream",
       "stream": "stdout",
       "text": [
        " \n",
        "89303"
       ]
      },
      {
       "output_type": "stream",
       "stream": "stdout",
       "text": [
        " \n",
        "88076"
       ]
      },
      {
       "output_type": "stream",
       "stream": "stdout",
       "text": [
        " 88077\n",
        "89128"
       ]
      },
      {
       "output_type": "stream",
       "stream": "stdout",
       "text": [
        " 89245\n",
        "89286"
       ]
      },
      {
       "output_type": "stream",
       "stream": "stdout",
       "text": [
        " \n",
        "88073"
       ]
      },
      {
       "output_type": "stream",
       "stream": "stdout",
       "text": [
        " 88072\n",
        "89787"
       ]
      },
      {
       "output_type": "stream",
       "stream": "stdout",
       "text": [
        " \n",
        "65921"
       ]
      },
      {
       "output_type": "stream",
       "stream": "stdout",
       "text": [
        " 89298\n",
        "90402"
       ]
      },
      {
       "output_type": "stream",
       "stream": "stdout",
       "text": [
        " \n",
        "88052"
       ]
      },
      {
       "output_type": "stream",
       "stream": "stdout",
       "text": [
        " \n",
        "89261"
       ]
      },
      {
       "output_type": "stream",
       "stream": "stdout",
       "text": [
        " 89262\n",
        "89154"
       ]
      },
      {
       "output_type": "stream",
       "stream": "stdout",
       "text": [
        " 75127\n",
        "89154"
       ]
      },
      {
       "output_type": "stream",
       "stream": "stdout",
       "text": [
        " 88595\n",
        "59159"
       ]
      },
      {
       "output_type": "stream",
       "stream": "stdout",
       "text": [
        " 66012\n",
        "59100"
       ]
      },
      {
       "output_type": "stream",
       "stream": "stdout",
       "text": [
        " 89299\n",
        "87840"
       ]
      },
      {
       "output_type": "stream",
       "stream": "stdout",
       "text": [
        " \n",
        "87487"
       ]
      },
      {
       "output_type": "stream",
       "stream": "stdout",
       "text": [
        " 87488\n",
        "87426"
       ]
      },
      {
       "output_type": "stream",
       "stream": "stdout",
       "text": [
        " 87483\n",
        "89128"
       ]
      },
      {
       "output_type": "stream",
       "stream": "stdout",
       "text": [
        " 66153\n",
        "87426"
       ]
      },
      {
       "output_type": "stream",
       "stream": "stdout",
       "text": [
        " \n",
        "85057"
       ]
      },
      {
       "output_type": "stream",
       "stream": "stdout",
       "text": [
        " \n",
        "89252"
       ]
      },
      {
       "output_type": "stream",
       "stream": "stdout",
       "text": [
        " \n",
        "87428"
       ]
      },
      {
       "output_type": "stream",
       "stream": "stdout",
       "text": [
        " \n",
        "75133"
       ]
      },
      {
       "output_type": "stream",
       "stream": "stdout",
       "text": [
        " \n",
        "85050"
       ]
      },
      {
       "output_type": "stream",
       "stream": "stdout",
       "text": [
        " \n",
        "89804"
       ]
      },
      {
       "output_type": "stream",
       "stream": "stdout",
       "text": [
        " \n",
        "89805"
       ]
      },
      {
       "output_type": "stream",
       "stream": "stdout",
       "text": [
        " \n",
        "59099"
       ]
      },
      {
       "output_type": "stream",
       "stream": "stdout",
       "text": [
        " 89300\n",
        "59120"
       ]
      },
      {
       "output_type": "stream",
       "stream": "stdout",
       "text": [
        " 66016\n",
        "59101"
       ]
      },
      {
       "output_type": "stream",
       "stream": "stdout",
       "text": [
        " 66014\n",
        "89813"
       ]
      },
      {
       "output_type": "stream",
       "stream": "stdout",
       "text": [
        " \n",
        "89072"
       ]
      },
      {
       "output_type": "stream",
       "stream": "stdout",
       "text": [
        " \n",
        "89400"
       ]
      },
      {
       "output_type": "stream",
       "stream": "stdout",
       "text": [
        " \n",
        "90073"
       ]
      },
      {
       "output_type": "stream",
       "stream": "stdout",
       "text": [
        " \n",
        "89021"
       ]
      },
      {
       "output_type": "stream",
       "stream": "stdout",
       "text": [
        " \n",
        "65921"
       ]
      },
      {
       "output_type": "stream",
       "stream": "stdout",
       "text": [
        " 66008\n",
        "66012"
       ]
      },
      {
       "output_type": "stream",
       "stream": "stdout",
       "text": [
        " \n",
        "89151"
       ]
      },
      {
       "output_type": "stream",
       "stream": "stdout",
       "text": [
        " 89296\n",
        "89054"
       ]
      },
      {
       "output_type": "stream",
       "stream": "stdout",
       "text": [
        " \n",
        "94548"
       ]
      },
      {
       "output_type": "stream",
       "stream": "stdout",
       "text": [
        " \n",
        "59094"
       ]
      },
      {
       "output_type": "stream",
       "stream": "stdout",
       "text": [
        " 89076\n",
        "89075"
       ]
      },
      {
       "output_type": "stream",
       "stream": "stdout",
       "text": [
        " \n",
        "87407"
       ]
      },
      {
       "output_type": "stream",
       "stream": "stdout",
       "text": [
        " \n",
        "89065"
       ]
      },
      {
       "output_type": "stream",
       "stream": "stdout",
       "text": [
        " 89066\n",
        "90075"
       ]
      },
      {
       "output_type": "stream",
       "stream": "stdout",
       "text": [
        " \n",
        "90071"
       ]
      },
      {
       "output_type": "stream",
       "stream": "stdout",
       "text": [
        " \n",
        "90021"
       ]
      },
      {
       "output_type": "stream",
       "stream": "stdout",
       "text": [
        " 90022\n",
        "90062"
       ]
      },
      {
       "output_type": "stream",
       "stream": "stdout",
       "text": [
        " \n",
        "87487"
       ]
      },
      {
       "output_type": "stream",
       "stream": "stdout",
       "text": [
        " 87426\n",
        "89803"
       ]
      },
      {
       "output_type": "stream",
       "stream": "stdout",
       "text": [
        " \n",
        "89396"
       ]
      },
      {
       "output_type": "stream",
       "stream": "stdout",
       "text": [
        " 89397\n",
        "88996"
       ]
      },
      {
       "output_type": "stream",
       "stream": "stdout",
       "text": [
        " 87367\n",
        "89388"
       ]
      },
      {
       "output_type": "stream",
       "stream": "stdout",
       "text": [
        " 89389\n",
        "86400"
       ]
      },
      {
       "output_type": "stream",
       "stream": "stdout",
       "text": [
        " 86401\n",
        "65909"
       ]
      },
      {
       "output_type": "stream",
       "stream": "stdout",
       "text": [
        " \n",
        "89393"
       ]
      },
      {
       "output_type": "stream",
       "stream": "stdout",
       "text": [
        " \n",
        "88989"
       ]
      },
      {
       "output_type": "stream",
       "stream": "stdout",
       "text": [
        " 88990\n",
        "87843"
       ]
      },
      {
       "output_type": "stream",
       "stream": "stdout",
       "text": [
        " 87367\n",
        "86399"
       ]
      },
      {
       "output_type": "stream",
       "stream": "stdout",
       "text": [
        " \n",
        "86271"
       ]
      },
      {
       "output_type": "stream",
       "stream": "stdout",
       "text": [
        " 86308\n",
        "88461"
       ]
      },
      {
       "output_type": "stream",
       "stream": "stdout",
       "text": [
        " 88321\n",
        "89340"
       ]
      },
      {
       "output_type": "stream",
       "stream": "stdout",
       "text": [
        " \n",
        "89062"
       ]
      },
      {
       "output_type": "stream",
       "stream": "stdout",
       "text": [
        " \n",
        "89241"
       ]
      },
      {
       "output_type": "stream",
       "stream": "stdout",
       "text": [
        " \n",
        "90002"
       ]
      },
      {
       "output_type": "stream",
       "stream": "stdout",
       "text": [
        " \n",
        "87481"
       ]
      },
      {
       "output_type": "stream",
       "stream": "stdout",
       "text": [
        " \n",
        "88374"
       ]
      },
      {
       "output_type": "stream",
       "stream": "stdout",
       "text": [
        " \n",
        "88369"
       ]
      },
      {
       "output_type": "stream",
       "stream": "stdout",
       "text": [
        " \n",
        "71356"
       ]
      },
      {
       "output_type": "stream",
       "stream": "stdout",
       "text": [
        " 71370\n",
        "74076"
       ]
      },
      {
       "output_type": "stream",
       "stream": "stdout",
       "text": [
        " 74077\n",
        "87424"
       ]
      },
      {
       "output_type": "stream",
       "stream": "stdout",
       "text": [
        " \n",
        "94546"
       ]
      },
      {
       "output_type": "stream",
       "stream": "stdout",
       "text": [
        " \n",
        "88290"
       ]
      },
      {
       "output_type": "stream",
       "stream": "stdout",
       "text": [
        " \n",
        "85722"
       ]
      },
      {
       "output_type": "stream",
       "stream": "stdout",
       "text": [
        " 85723\n",
        "88571"
       ]
      },
      {
       "output_type": "stream",
       "stream": "stdout",
       "text": [
        " \n",
        "88248"
       ]
      },
      {
       "output_type": "stream",
       "stream": "stdout",
       "text": [
        " \n",
        "74078"
       ]
      },
      {
       "output_type": "stream",
       "stream": "stdout",
       "text": [
        " 74080\n",
        "88247"
       ]
      },
      {
       "output_type": "stream",
       "stream": "stdout",
       "text": [
        " \n",
        "88417"
       ]
      },
      {
       "output_type": "stream",
       "stream": "stdout",
       "text": [
        " \n",
        "88356"
       ]
      },
      {
       "output_type": "stream",
       "stream": "stdout",
       "text": [
        " \n",
        "88152"
       ]
      },
      {
       "output_type": "stream",
       "stream": "stdout",
       "text": [
        " \n",
        "88355"
       ]
      },
      {
       "output_type": "stream",
       "stream": "stdout",
       "text": [
        " \n",
        "66977"
       ]
      },
      {
       "output_type": "stream",
       "stream": "stdout",
       "text": [
        " 66978\n",
        "74096"
       ]
      },
      {
       "output_type": "stream",
       "stream": "stdout",
       "text": [
        " 74097\n",
        "86412"
       ]
      },
      {
       "output_type": "stream",
       "stream": "stdout",
       "text": [
        " 86413\n",
        "66842"
       ]
      },
      {
       "output_type": "stream",
       "stream": "stdout",
       "text": [
        " \n",
        "71335"
       ]
      },
      {
       "output_type": "stream",
       "stream": "stdout",
       "text": [
        " 71372\n",
        "66939"
       ]
      },
      {
       "output_type": "stream",
       "stream": "stdout",
       "text": [
        " 66975\n",
        "88416"
       ]
      },
      {
       "output_type": "stream",
       "stream": "stdout",
       "text": [
        " \n",
        "74067"
       ]
      },
      {
       "output_type": "stream",
       "stream": "stdout",
       "text": [
        " 74068\n",
        "74064"
       ]
      },
      {
       "output_type": "stream",
       "stream": "stdout",
       "text": [
        " \n",
        "88239"
       ]
      },
      {
       "output_type": "stream",
       "stream": "stdout",
       "text": [
        " \n",
        "71338"
       ]
      },
      {
       "output_type": "stream",
       "stream": "stdout",
       "text": [
        " 71340\n",
        "71335"
       ]
      },
      {
       "output_type": "stream",
       "stream": "stdout",
       "text": [
        " 71336\n",
        "74027"
       ]
      },
      {
       "output_type": "stream",
       "stream": "stdout",
       "text": [
        " \n",
        "73158"
       ]
      },
      {
       "output_type": "stream",
       "stream": "stdout",
       "text": [
        " \n",
        "67005"
       ]
      },
      {
       "output_type": "stream",
       "stream": "stdout",
       "text": [
        " \n",
        "74093"
       ]
      },
      {
       "output_type": "stream",
       "stream": "stdout",
       "text": [
        " 74094\n",
        "74045"
       ]
      },
      {
       "output_type": "stream",
       "stream": "stdout",
       "text": [
        " 74044\n",
        "86407"
       ]
      },
      {
       "output_type": "stream",
       "stream": "stdout",
       "text": [
        " \n",
        "71328"
       ]
      },
      {
       "output_type": "stream",
       "stream": "stdout",
       "text": [
        " \n",
        "88352"
       ]
      },
      {
       "output_type": "stream",
       "stream": "stdout",
       "text": [
        " \n",
        "66195"
       ]
      },
      {
       "output_type": "stream",
       "stream": "stdout",
       "text": [
        " \n",
        "66167"
       ]
      },
      {
       "output_type": "stream",
       "stream": "stdout",
       "text": [
        " 66045\n",
        "66219"
       ]
      },
      {
       "output_type": "stream",
       "stream": "stdout",
       "text": [
        " 66221\n",
        "66169"
       ]
      },
      {
       "output_type": "stream",
       "stream": "stdout",
       "text": [
        " 66167\n",
        "66949"
       ]
      },
      {
       "output_type": "stream",
       "stream": "stdout",
       "text": [
        " \n",
        "70335"
       ]
      },
      {
       "output_type": "stream",
       "stream": "stdout",
       "text": [
        " \n",
        "66806"
       ]
      },
      {
       "output_type": "stream",
       "stream": "stdout",
       "text": [
        " \n",
        "88351"
       ]
      },
      {
       "output_type": "stream",
       "stream": "stdout",
       "text": [
        " \n",
        "70946"
       ]
      },
      {
       "output_type": "stream",
       "stream": "stdout",
       "text": [
        " \n",
        "88148"
       ]
      },
      {
       "output_type": "stream",
       "stream": "stdout",
       "text": [
        " \n",
        "59053"
       ]
      },
      {
       "output_type": "stream",
       "stream": "stdout",
       "text": [
        " \n",
        "66804"
       ]
      },
      {
       "output_type": "stream",
       "stream": "stdout",
       "text": [
        " \n",
        "66819"
       ]
      },
      {
       "output_type": "stream",
       "stream": "stdout",
       "text": [
        " \n",
        "66792"
       ]
      },
      {
       "output_type": "stream",
       "stream": "stdout",
       "text": [
        " \n",
        "66818"
       ]
      },
      {
       "output_type": "stream",
       "stream": "stdout",
       "text": [
        " \n",
        "72126"
       ]
      },
      {
       "output_type": "stream",
       "stream": "stdout",
       "text": [
        " 71334\n",
        "66793"
       ]
      },
      {
       "output_type": "stream",
       "stream": "stdout",
       "text": [
        " \n",
        "66185"
       ]
      },
      {
       "output_type": "stream",
       "stream": "stdout",
       "text": [
        " \n",
        "66992"
       ]
      },
      {
       "output_type": "stream",
       "stream": "stdout",
       "text": [
        " \n",
        "66776"
       ]
      },
      {
       "output_type": "stream",
       "stream": "stdout",
       "text": [
        " \n",
        "88237"
       ]
      },
      {
       "output_type": "stream",
       "stream": "stdout",
       "text": [
        " \n",
        "66808"
       ]
      },
      {
       "output_type": "stream",
       "stream": "stdout",
       "text": [
        " \n",
        "88077"
       ]
      },
      {
       "output_type": "stream",
       "stream": "stdout",
       "text": [
        " \n",
        "89226"
       ]
      },
      {
       "output_type": "stream",
       "stream": "stdout",
       "text": [
        " \n",
        "67009"
       ]
      },
      {
       "output_type": "stream",
       "stream": "stdout",
       "text": [
        " \n",
        "89790"
       ]
      },
      {
       "output_type": "stream",
       "stream": "stdout",
       "text": [
        " \n",
        "86406"
       ]
      },
      {
       "output_type": "stream",
       "stream": "stdout",
       "text": [
        " \n",
        "66791"
       ]
      },
      {
       "output_type": "stream",
       "stream": "stdout",
       "text": [
        " \n",
        "88552"
       ]
      },
      {
       "output_type": "stream",
       "stream": "stdout",
       "text": [
        " \n",
        "72141"
       ]
      },
      {
       "output_type": "stream",
       "stream": "stdout",
       "text": [
        " 71348\n",
        "66163"
       ]
      },
      {
       "output_type": "stream",
       "stream": "stdout",
       "text": [
        " \n",
        "66168"
       ]
      },
      {
       "output_type": "stream",
       "stream": "stdout",
       "text": [
        " \n",
        "70328"
       ]
      },
      {
       "output_type": "stream",
       "stream": "stdout",
       "text": [
        " 67004\n",
        "66206"
       ]
      },
      {
       "output_type": "stream",
       "stream": "stdout",
       "text": [
        " 66202\n",
        "88356"
       ]
      },
      {
       "output_type": "stream",
       "stream": "stdout",
       "text": [
        " 88405\n",
        "88144"
       ]
      },
      {
       "output_type": "stream",
       "stream": "stdout",
       "text": [
        " \n",
        "66233"
       ]
      },
      {
       "output_type": "stream",
       "stream": "stdout",
       "text": [
        " 66232\n",
        "66156"
       ]
      },
      {
       "output_type": "stream",
       "stream": "stdout",
       "text": [
        " 66157\n",
        "66153"
       ]
      },
      {
       "output_type": "stream",
       "stream": "stdout",
       "text": [
        " 65922\n",
        "66097"
       ]
      },
      {
       "output_type": "stream",
       "stream": "stdout",
       "text": [
        " \n",
        "66041"
       ]
      },
      {
       "output_type": "stream",
       "stream": "stdout",
       "text": [
        " \n",
        "66202"
       ]
      },
      {
       "output_type": "stream",
       "stream": "stdout",
       "text": [
        " 66207\n",
        "66789"
       ]
      },
      {
       "output_type": "stream",
       "stream": "stdout",
       "text": [
        " \n",
        "66233"
       ]
      },
      {
       "output_type": "stream",
       "stream": "stdout",
       "text": [
        " 66167\n",
        "90673"
       ]
      },
      {
       "output_type": "stream",
       "stream": "stdout",
       "text": [
        " \n",
        "66164"
       ]
      },
      {
       "output_type": "stream",
       "stream": "stdout",
       "text": [
        " \n",
        "66118"
       ]
      },
      {
       "output_type": "stream",
       "stream": "stdout",
       "text": [
        " \n",
        "66093"
       ]
      },
      {
       "output_type": "stream",
       "stream": "stdout",
       "text": [
        " 66094\n",
        "66001"
       ]
      },
      {
       "output_type": "stream",
       "stream": "stdout",
       "text": [
        " \n",
        "66148"
       ]
      },
      {
       "output_type": "stream",
       "stream": "stdout",
       "text": [
        " \n",
        "66165"
       ]
      },
      {
       "output_type": "stream",
       "stream": "stdout",
       "text": [
        " \n",
        "66010"
       ]
      },
      {
       "output_type": "stream",
       "stream": "stdout",
       "text": [
        " \n",
        "66070"
       ]
      },
      {
       "output_type": "stream",
       "stream": "stdout",
       "text": [
        " \n",
        "66034"
       ]
      },
      {
       "output_type": "stream",
       "stream": "stdout",
       "text": [
        " \n",
        "66036"
       ]
      },
      {
       "output_type": "stream",
       "stream": "stdout",
       "text": [
        " \n",
        "66066"
       ]
      },
      {
       "output_type": "stream",
       "stream": "stdout",
       "text": [
        " 66067\n",
        "66007"
       ]
      },
      {
       "output_type": "stream",
       "stream": "stdout",
       "text": [
        " \n",
        "66018"
       ]
      },
      {
       "output_type": "stream",
       "stream": "stdout",
       "text": [
        " 66024\n",
        "66033"
       ]
      },
      {
       "output_type": "stream",
       "stream": "stdout",
       "text": [
        " \n",
        "65916"
       ]
      },
      {
       "output_type": "stream",
       "stream": "stdout",
       "text": [
        " 65936\n",
        "66089"
       ]
      },
      {
       "output_type": "stream",
       "stream": "stdout",
       "text": [
        " \n",
        "66087"
       ]
      },
      {
       "output_type": "stream",
       "stream": "stdout",
       "text": [
        " \n",
        "66002"
       ]
      },
      {
       "output_type": "stream",
       "stream": "stdout",
       "text": [
        " \n",
        "66004"
       ]
      },
      {
       "output_type": "stream",
       "stream": "stdout",
       "text": [
        " \n",
        "66009"
       ]
      },
      {
       "output_type": "stream",
       "stream": "stdout",
       "text": [
        " \n",
        "66117"
       ]
      },
      {
       "output_type": "stream",
       "stream": "stdout",
       "text": [
        " \n",
        "65927"
       ]
      },
      {
       "output_type": "stream",
       "stream": "stdout",
       "text": [
        " 65928\n",
        "66054"
       ]
      },
      {
       "output_type": "stream",
       "stream": "stdout",
       "text": [
        " \n",
        "65922"
       ]
      },
      {
       "output_type": "stream",
       "stream": "stdout",
       "text": [
        " 65926\n",
        "65922"
       ]
      },
      {
       "output_type": "stream",
       "stream": "stdout",
       "text": [
        " 65921\n",
        "66154"
       ]
      },
      {
       "output_type": "stream",
       "stream": "stdout",
       "text": [
        " 66155\n",
        "66184"
       ]
      },
      {
       "output_type": "stream",
       "stream": "stdout",
       "text": [
        " \n",
        "89128"
       ]
      },
      {
       "output_type": "stream",
       "stream": "stdout",
       "text": [
        " 89225\n",
        "66123"
       ]
      },
      {
       "output_type": "stream",
       "stream": "stdout",
       "text": [
        " \n",
        "66209"
       ]
      },
      {
       "output_type": "stream",
       "stream": "stdout",
       "text": [
        " \n",
        "66112"
       ]
      },
      {
       "output_type": "stream",
       "stream": "stdout",
       "text": [
        " \n",
        "88349"
       ]
      },
      {
       "output_type": "stream",
       "stream": "stdout",
       "text": [
        " \n",
        "66787"
       ]
      },
      {
       "output_type": "stream",
       "stream": "stdout",
       "text": [
        " 66788\n",
        "66176"
       ]
      },
      {
       "output_type": "stream",
       "stream": "stdout",
       "text": [
        " \n",
        "66017"
       ]
      },
      {
       "output_type": "stream",
       "stream": "stdout",
       "text": [
        " \n",
        "65923"
       ]
      },
      {
       "output_type": "stream",
       "stream": "stdout",
       "text": [
        " 65932\n",
        "65930"
       ]
      },
      {
       "output_type": "stream",
       "stream": "stdout",
       "text": [
        " 65932\n",
        "66050"
       ]
      },
      {
       "output_type": "stream",
       "stream": "stdout",
       "text": [
        " \n",
        "65930"
       ]
      },
      {
       "output_type": "stream",
       "stream": "stdout",
       "text": [
        " 65922\n",
        "66111"
       ]
      },
      {
       "output_type": "stream",
       "stream": "stdout",
       "text": [
        " \n",
        "64035"
       ]
      },
      {
       "output_type": "stream",
       "stream": "stdout",
       "text": [
        " \n",
        "66084"
       ]
      },
      {
       "output_type": "stream",
       "stream": "stdout",
       "text": [
        " \n",
        "65349"
       ]
      },
      {
       "output_type": "stream",
       "stream": "stdout",
       "text": [
        " \n",
        "65348"
       ]
      },
      {
       "output_type": "stream",
       "stream": "stdout",
       "text": [
        " \n",
        "66044"
       ]
      },
      {
       "output_type": "stream",
       "stream": "stdout",
       "text": [
        " \n",
        "64021"
       ]
      },
      {
       "output_type": "stream",
       "stream": "stdout",
       "text": [
        " 64020\n",
        "66202"
       ]
      },
      {
       "output_type": "stream",
       "stream": "stdout",
       "text": [
        " 66205\n",
        "66173"
       ]
      },
      {
       "output_type": "stream",
       "stream": "stdout",
       "text": [
        " \n",
        "65328"
       ]
      },
      {
       "output_type": "stream",
       "stream": "stdout",
       "text": [
        " \n",
        "65905"
       ]
      },
      {
       "output_type": "stream",
       "stream": "stdout",
       "text": [
        " \n",
        "65911"
       ]
      },
      {
       "output_type": "stream",
       "stream": "stdout",
       "text": [
        " \n",
        "64026"
       ]
      },
      {
       "output_type": "stream",
       "stream": "stdout",
       "text": [
        " \n",
        "64041"
       ]
      },
      {
       "output_type": "stream",
       "stream": "stdout",
       "text": [
        " \n",
        "64022"
       ]
      },
      {
       "output_type": "stream",
       "stream": "stdout",
       "text": [
        " \n",
        "66040"
       ]
      },
      {
       "output_type": "stream",
       "stream": "stdout",
       "text": [
        " \n",
        "66105"
       ]
      },
      {
       "output_type": "stream",
       "stream": "stdout",
       "text": [
        " \n",
        "66104"
       ]
      },
      {
       "output_type": "stream",
       "stream": "stdout",
       "text": [
        " \n",
        "66014"
       ]
      },
      {
       "output_type": "stream",
       "stream": "stdout",
       "text": [
        " \n",
        "66016"
       ]
      },
      {
       "output_type": "stream",
       "stream": "stdout",
       "text": [
        " \n",
        "61869"
       ]
      },
      {
       "output_type": "stream",
       "stream": "stdout",
       "text": [
        " 65897\n",
        "65899"
       ]
      },
      {
       "output_type": "stream",
       "stream": "stdout",
       "text": [
        " 65900\n",
        "65922"
       ]
      },
      {
       "output_type": "stream",
       "stream": "stdout",
       "text": [
        " 65929\n",
        "65893"
       ]
      },
      {
       "output_type": "stream",
       "stream": "stdout",
       "text": [
        " \n",
        "59169"
       ]
      },
      {
       "output_type": "stream",
       "stream": "stdout",
       "text": [
        " \n",
        "59084"
       ]
      },
      {
       "output_type": "stream",
       "stream": "stdout",
       "text": [
        " 59085\n",
        "66013"
       ]
      },
      {
       "output_type": "stream",
       "stream": "stdout",
       "text": [
        " \n",
        "59064"
       ]
      },
      {
       "output_type": "stream",
       "stream": "stdout",
       "text": [
        " \n",
        "65976"
       ]
      },
      {
       "output_type": "stream",
       "stream": "stdout",
       "text": [
        " \n",
        "88139"
       ]
      },
      {
       "output_type": "stream",
       "stream": "stdout",
       "text": [
        " 88140\n",
        "59071"
       ]
      },
      {
       "output_type": "stream",
       "stream": "stdout",
       "text": [
        " \n",
        "64036"
       ]
      },
      {
       "output_type": "stream",
       "stream": "stdout",
       "text": [
        " \n",
        "59040"
       ]
      },
      {
       "output_type": "stream",
       "stream": "stdout",
       "text": [
        " \n",
        "66786"
       ]
      },
      {
       "output_type": "stream",
       "stream": "stdout",
       "text": [
        " \n",
        "59038"
       ]
      },
      {
       "output_type": "stream",
       "stream": "stdout",
       "text": [
        " \n",
        "59173"
       ]
      },
      {
       "output_type": "stream",
       "stream": "stdout",
       "text": [
        " \n",
        "61863"
       ]
      },
      {
       "output_type": "stream",
       "stream": "stdout",
       "text": [
        " \n",
        "58683"
       ]
      },
      {
       "output_type": "stream",
       "stream": "stdout",
       "text": [
        " \n",
        "59119"
       ]
      },
      {
       "output_type": "stream",
       "stream": "stdout",
       "text": [
        " \n",
        "34960"
       ]
      },
      {
       "output_type": "stream",
       "stream": "stdout",
       "text": [
        " 59016\n",
        "59027"
       ]
      },
      {
       "output_type": "stream",
       "stream": "stdout",
       "text": [
        " \n",
        "89029"
       ]
      },
      {
       "output_type": "stream",
       "stream": "stdout",
       "text": [
        " \n",
        "58980"
       ]
      },
      {
       "output_type": "stream",
       "stream": "stdout",
       "text": [
        " 58981\n",
        "55464"
       ]
      },
      {
       "output_type": "stream",
       "stream": "stdout",
       "text": [
        " \n",
        "34384"
       ]
      },
      {
       "output_type": "stream",
       "stream": "stdout",
       "text": [
        " 34387\n",
        "90080"
       ]
      },
      {
       "output_type": "stream",
       "stream": "stdout",
       "text": [
        " \n",
        "59016"
       ]
      },
      {
       "output_type": "stream",
       "stream": "stdout",
       "text": [
        " 59017\n",
        "57841"
       ]
      },
      {
       "output_type": "stream",
       "stream": "stdout",
       "text": [
        " 59016\n",
        "59097"
       ]
      },
      {
       "output_type": "stream",
       "stream": "stdout",
       "text": [
        " 59083\n",
        "34384"
       ]
      },
      {
       "output_type": "stream",
       "stream": "stdout",
       "text": [
        " \n",
        "58984"
       ]
      },
      {
       "output_type": "stream",
       "stream": "stdout",
       "text": [
        " 34387\n",
        "57768"
       ]
      },
      {
       "output_type": "stream",
       "stream": "stdout",
       "text": [
        " 57841\n",
        "58665"
       ]
      },
      {
       "output_type": "stream",
       "stream": "stdout",
       "text": [
        " \n",
        "58647"
       ]
      },
      {
       "output_type": "stream",
       "stream": "stdout",
       "text": [
        " \n",
        "58633"
       ]
      },
      {
       "output_type": "stream",
       "stream": "stdout",
       "text": [
        " \n",
        "57793"
       ]
      },
      {
       "output_type": "stream",
       "stream": "stdout",
       "text": [
        " 57774\n",
        "57844"
       ]
      },
      {
       "output_type": "stream",
       "stream": "stdout",
       "text": [
        " \n",
        "58631"
       ]
      },
      {
       "output_type": "stream",
       "stream": "stdout",
       "text": [
        " \n",
        "58612"
       ]
      },
      {
       "output_type": "stream",
       "stream": "stdout",
       "text": [
        " \n",
        "59013"
       ]
      },
      {
       "output_type": "stream",
       "stream": "stdout",
       "text": [
        " \n",
        "57888"
       ]
      },
      {
       "output_type": "stream",
       "stream": "stdout",
       "text": [
        " \n",
        "55263"
       ]
      },
      {
       "output_type": "stream",
       "stream": "stdout",
       "text": [
        " 55220\n",
        "58621"
       ]
      },
      {
       "output_type": "stream",
       "stream": "stdout",
       "text": [
        " 58620\n",
        "58984"
       ]
      },
      {
       "output_type": "stream",
       "stream": "stdout",
       "text": [
        " 34384\n",
        "55411"
       ]
      },
      {
       "output_type": "stream",
       "stream": "stdout",
       "text": [
        " 55443\n",
        "57782"
       ]
      },
      {
       "output_type": "stream",
       "stream": "stdout",
       "text": [
        " \n",
        "43376"
       ]
      },
      {
       "output_type": "stream",
       "stream": "stdout",
       "text": [
        " 54541\n",
        "57735"
       ]
      },
      {
       "output_type": "stream",
       "stream": "stdout",
       "text": [
        " \n",
        "66102"
       ]
      },
      {
       "output_type": "stream",
       "stream": "stdout",
       "text": [
        " \n",
        "57868"
       ]
      },
      {
       "output_type": "stream",
       "stream": "stdout",
       "text": [
        " \n",
        "56629"
       ]
      },
      {
       "output_type": "stream",
       "stream": "stdout",
       "text": [
        " \n",
        "57771"
       ]
      },
      {
       "output_type": "stream",
       "stream": "stdout",
       "text": [
        " \n",
        "56936"
       ]
      },
      {
       "output_type": "stream",
       "stream": "stdout",
       "text": [
        " 56615\n",
        "57739"
       ]
      },
      {
       "output_type": "stream",
       "stream": "stdout",
       "text": [
        " \n",
        "56625"
       ]
      },
      {
       "output_type": "stream",
       "stream": "stdout",
       "text": [
        " \n",
        "57745"
       ]
      },
      {
       "output_type": "stream",
       "stream": "stdout",
       "text": [
        " \n",
        "58616"
       ]
      },
      {
       "output_type": "stream",
       "stream": "stdout",
       "text": [
        " \n",
        "57799"
       ]
      },
      {
       "output_type": "stream",
       "stream": "stdout",
       "text": [
        " \n",
        "57797"
       ]
      },
      {
       "output_type": "stream",
       "stream": "stdout",
       "text": [
        " \n",
        "94946"
       ]
      },
      {
       "output_type": "stream",
       "stream": "stdout",
       "text": [
        " 94926\n",
        "95599"
       ]
      },
      {
       "output_type": "stream",
       "stream": "stdout",
       "text": [
        " \n",
        "95300"
       ]
      },
      {
       "output_type": "stream",
       "stream": "stdout",
       "text": [
        " \n",
        "91065"
       ]
      },
      {
       "output_type": "stream",
       "stream": "stdout",
       "text": [
        " 91066\n",
        "95834"
       ]
      },
      {
       "output_type": "stream",
       "stream": "stdout",
       "text": [
        " \n",
        "95610"
       ]
      },
      {
       "output_type": "stream",
       "stream": "stdout",
       "text": [
        " \n",
        "91108"
       ]
      },
      {
       "output_type": "stream",
       "stream": "stdout",
       "text": [
        " 91109\n",
        "95777"
       ]
      },
      {
       "output_type": "stream",
       "stream": "stdout",
       "text": [
        " 96147\n",
        "95752"
       ]
      },
      {
       "output_type": "stream",
       "stream": "stdout",
       "text": [
        " \n",
        "57786"
       ]
      },
      {
       "output_type": "stream",
       "stream": "stdout",
       "text": [
        " \n",
        "57805"
       ]
      },
      {
       "output_type": "stream",
       "stream": "stdout",
       "text": [
        " \n",
        "57779"
       ]
      },
      {
       "output_type": "stream",
       "stream": "stdout",
       "text": [
        " 56958\n",
        "57768"
       ]
      },
      {
       "output_type": "stream",
       "stream": "stdout",
       "text": [
        " 56936\n",
        "57777"
       ]
      },
      {
       "output_type": "stream",
       "stream": "stdout",
       "text": [
        " \n",
        "34392"
       ]
      },
      {
       "output_type": "stream",
       "stream": "stdout",
       "text": [
        " \n",
        "57731"
       ]
      },
      {
       "output_type": "stream",
       "stream": "stdout",
       "text": [
        " \n",
        "56938"
       ]
      },
      {
       "output_type": "stream",
       "stream": "stdout",
       "text": [
        " \n",
        "55425"
       ]
      },
      {
       "output_type": "stream",
       "stream": "stdout",
       "text": [
        " \n",
        "55432"
       ]
      },
      {
       "output_type": "stream",
       "stream": "stdout",
       "text": [
        " \n",
        "55418"
       ]
      },
      {
       "output_type": "stream",
       "stream": "stdout",
       "text": [
        " 56615\n",
        "56623"
       ]
      },
      {
       "output_type": "stream",
       "stream": "stdout",
       "text": [
        " 55326\n",
        "55314"
       ]
      },
      {
       "output_type": "stream",
       "stream": "stdout",
       "text": [
        " 55315\n",
        "57798"
       ]
      },
      {
       "output_type": "stream",
       "stream": "stdout",
       "text": [
        " \n",
        "57732"
       ]
      },
      {
       "output_type": "stream",
       "stream": "stdout",
       "text": [
        " \n",
        "57757"
       ]
      },
      {
       "output_type": "stream",
       "stream": "stdout",
       "text": [
        " \n",
        "42981"
       ]
      },
      {
       "output_type": "stream",
       "stream": "stdout",
       "text": [
        " 54771\n",
        "56969"
       ]
      },
      {
       "output_type": "stream",
       "stream": "stdout",
       "text": [
        " \n",
        "55196"
       ]
      },
      {
       "output_type": "stream",
       "stream": "stdout",
       "text": [
        " \n",
        "55428"
       ]
      },
      {
       "output_type": "stream",
       "stream": "stdout",
       "text": [
        " \n",
        "55427"
       ]
      },
      {
       "output_type": "stream",
       "stream": "stdout",
       "text": [
        " \n",
        "40211"
       ]
      },
      {
       "output_type": "stream",
       "stream": "stdout",
       "text": [
        " 42951\n",
        "40211"
       ]
      },
      {
       "output_type": "stream",
       "stream": "stdout",
       "text": [
        " 35075\n",
        "55182"
       ]
      },
      {
       "output_type": "stream",
       "stream": "stdout",
       "text": [
        " 55181\n",
        "56618"
       ]
      },
      {
       "output_type": "stream",
       "stream": "stdout",
       "text": [
        " \n",
        "55453"
       ]
      },
      {
       "output_type": "stream",
       "stream": "stdout",
       "text": [
        " 55454\n",
        "57772"
       ]
      },
      {
       "output_type": "stream",
       "stream": "stdout",
       "text": [
        " \n",
        "57730"
       ]
      },
      {
       "output_type": "stream",
       "stream": "stdout",
       "text": [
        " \n",
        "56961"
       ]
      },
      {
       "output_type": "stream",
       "stream": "stdout",
       "text": [
        " \n",
        "56970"
       ]
      },
      {
       "output_type": "stream",
       "stream": "stdout",
       "text": [
        " \n",
        "57728"
       ]
      },
      {
       "output_type": "stream",
       "stream": "stdout",
       "text": [
        " \n",
        "55460"
       ]
      },
      {
       "output_type": "stream",
       "stream": "stdout",
       "text": [
        " \n",
        "56615"
       ]
      },
      {
       "output_type": "stream",
       "stream": "stdout",
       "text": [
        " 43376\n",
        "55417"
       ]
      },
      {
       "output_type": "stream",
       "stream": "stdout",
       "text": [
        " \n",
        "56971"
       ]
      },
      {
       "output_type": "stream",
       "stream": "stdout",
       "text": [
        " \n",
        "56617"
       ]
      },
      {
       "output_type": "stream",
       "stream": "stdout",
       "text": [
        " \n",
        "55339"
       ]
      },
      {
       "output_type": "stream",
       "stream": "stdout",
       "text": [
        " 34928\n",
        "56961"
       ]
      },
      {
       "output_type": "stream",
       "stream": "stdout",
       "text": [
        " 56962\n",
        "57728"
       ]
      },
      {
       "output_type": "stream",
       "stream": "stdout",
       "text": [
        " 57729\n",
        "57718"
       ]
      },
      {
       "output_type": "stream",
       "stream": "stdout",
       "text": [
        " 57719\n",
        "34346"
       ]
      },
      {
       "output_type": "stream",
       "stream": "stdout",
       "text": [
        " \n",
        "55329"
       ]
      },
      {
       "output_type": "stream",
       "stream": "stdout",
       "text": [
        " \n",
        "55430"
       ]
      },
      {
       "output_type": "stream",
       "stream": "stdout",
       "text": [
        " \n",
        "55451"
       ]
      },
      {
       "output_type": "stream",
       "stream": "stdout",
       "text": [
        " \n",
        "55452"
       ]
      },
      {
       "output_type": "stream",
       "stream": "stdout",
       "text": [
        " \n",
        "55479"
       ]
      },
      {
       "output_type": "stream",
       "stream": "stdout",
       "text": [
        " \n",
        "55392"
       ]
      },
      {
       "output_type": "stream",
       "stream": "stdout",
       "text": [
        " \n",
        "55359"
       ]
      },
      {
       "output_type": "stream",
       "stream": "stdout",
       "text": [
        " 55352\n",
        "55222"
       ]
      },
      {
       "output_type": "stream",
       "stream": "stdout",
       "text": [
        " \n",
        "56616"
       ]
      },
      {
       "output_type": "stream",
       "stream": "stdout",
       "text": [
        " \n",
        "34381"
       ]
      },
      {
       "output_type": "stream",
       "stream": "stdout",
       "text": [
        " \n",
        "34284"
       ]
      },
      {
       "output_type": "stream",
       "stream": "stdout",
       "text": [
        " 34292\n",
        "55385"
       ]
      },
      {
       "output_type": "stream",
       "stream": "stdout",
       "text": [
        " 55386\n",
        "59023"
       ]
      },
      {
       "output_type": "stream",
       "stream": "stdout",
       "text": [
        " \n",
        "55351"
       ]
      },
      {
       "output_type": "stream",
       "stream": "stdout",
       "text": [
        " 55352\n",
        "56917"
       ]
      },
      {
       "output_type": "stream",
       "stream": "stdout",
       "text": [
        " \n",
        "58674"
       ]
      },
      {
       "output_type": "stream",
       "stream": "stdout",
       "text": [
        " \n",
        "56909"
       ]
      },
      {
       "output_type": "stream",
       "stream": "stdout",
       "text": [
        " 56910\n",
        "55394"
       ]
      },
      {
       "output_type": "stream",
       "stream": "stdout",
       "text": [
        " \n",
        "55305"
       ]
      },
      {
       "output_type": "stream",
       "stream": "stdout",
       "text": [
        " 55471\n",
        "34285"
       ]
      },
      {
       "output_type": "stream",
       "stream": "stdout",
       "text": [
        " \n",
        "55184"
       ]
      },
      {
       "output_type": "stream",
       "stream": "stdout",
       "text": [
        " 43374\n",
        "55366"
       ]
      },
      {
       "output_type": "stream",
       "stream": "stdout",
       "text": [
        " 55367\n",
        "55362"
       ]
      },
      {
       "output_type": "stream",
       "stream": "stdout",
       "text": [
        " 55363\n",
        "55375"
       ]
      },
      {
       "output_type": "stream",
       "stream": "stdout",
       "text": [
        " 55249\n",
        "55324"
       ]
      },
      {
       "output_type": "stream",
       "stream": "stdout",
       "text": [
        " \n",
        "59022"
       ]
      },
      {
       "output_type": "stream",
       "stream": "stdout",
       "text": [
        " \n",
        "42981"
       ]
      },
      {
       "output_type": "stream",
       "stream": "stdout",
       "text": [
        " 43376\n",
        "54541"
       ]
      },
      {
       "output_type": "stream",
       "stream": "stdout",
       "text": [
        " 55232\n",
        "55218"
       ]
      },
      {
       "output_type": "stream",
       "stream": "stdout",
       "text": [
        " 55219\n",
        "55338"
       ]
      },
      {
       "output_type": "stream",
       "stream": "stdout",
       "text": [
        " \n",
        "55323"
       ]
      },
      {
       "output_type": "stream",
       "stream": "stdout",
       "text": [
        " \n",
        "55447"
       ]
      },
      {
       "output_type": "stream",
       "stream": "stdout",
       "text": [
        " 55418\n",
        "55284"
       ]
      },
      {
       "output_type": "stream",
       "stream": "stdout",
       "text": [
        " 55285\n",
        "56614"
       ]
      },
      {
       "output_type": "stream",
       "stream": "stdout",
       "text": [
        " \n",
        "55321"
       ]
      },
      {
       "output_type": "stream",
       "stream": "stdout",
       "text": [
        " 55322\n",
        "55217"
       ]
      },
      {
       "output_type": "stream",
       "stream": "stdout",
       "text": [
        " \n",
        "55218"
       ]
      },
      {
       "output_type": "stream",
       "stream": "stdout",
       "text": [
        " \n",
        "55286"
       ]
      },
      {
       "output_type": "stream",
       "stream": "stdout",
       "text": [
        " 55287\n",
        "55278"
       ]
      },
      {
       "output_type": "stream",
       "stream": "stdout",
       "text": [
        " \n",
        "34374"
       ]
      },
      {
       "output_type": "stream",
       "stream": "stdout",
       "text": [
        " \n",
        "55245"
       ]
      },
      {
       "output_type": "stream",
       "stream": "stdout",
       "text": [
        " \n",
        "55259"
       ]
      },
      {
       "output_type": "stream",
       "stream": "stdout",
       "text": [
        " \n",
        "55231"
       ]
      },
      {
       "output_type": "stream",
       "stream": "stdout",
       "text": [
        " \n",
        "54771"
       ]
      },
      {
       "output_type": "stream",
       "stream": "stdout",
       "text": [
        " 54774\n",
        "55201"
       ]
      },
      {
       "output_type": "stream",
       "stream": "stdout",
       "text": [
        " \n",
        "55225"
       ]
      },
      {
       "output_type": "stream",
       "stream": "stdout",
       "text": [
        " 55226\n",
        "57802"
       ]
      },
      {
       "output_type": "stream",
       "stream": "stdout",
       "text": [
        " \n",
        "55319"
       ]
      },
      {
       "output_type": "stream",
       "stream": "stdout",
       "text": [
        " \n",
        "55197"
       ]
      },
      {
       "output_type": "stream",
       "stream": "stdout",
       "text": [
        " \n",
        "55387"
       ]
      },
      {
       "output_type": "stream",
       "stream": "stdout",
       "text": [
        " \n",
        "42955"
       ]
      },
      {
       "output_type": "stream",
       "stream": "stdout",
       "text": [
        " \n",
        "55265"
       ]
      },
      {
       "output_type": "stream",
       "stream": "stdout",
       "text": [
        " \n",
        "55224"
       ]
      },
      {
       "output_type": "stream",
       "stream": "stdout",
       "text": [
        " \n",
        "42980"
       ]
      },
      {
       "output_type": "stream",
       "stream": "stdout",
       "text": [
        " \n",
        "42977"
       ]
      },
      {
       "output_type": "stream",
       "stream": "stdout",
       "text": [
        " 42952\n",
        "34363"
       ]
      },
      {
       "output_type": "stream",
       "stream": "stdout",
       "text": [
        " \n",
        "34931"
       ]
      },
      {
       "output_type": "stream",
       "stream": "stdout",
       "text": [
        " 55318\n",
        "56615"
       ]
      },
      {
       "output_type": "stream",
       "stream": "stdout",
       "text": [
        " 34375\n",
        "42952"
       ]
      },
      {
       "output_type": "stream",
       "stream": "stdout",
       "text": [
        " \n",
        "55203"
       ]
      },
      {
       "output_type": "stream",
       "stream": "stdout",
       "text": [
        " 55204\n",
        "55470"
       ]
      },
      {
       "output_type": "stream",
       "stream": "stdout",
       "text": [
        " \n",
        "43019"
       ]
      },
      {
       "output_type": "stream",
       "stream": "stdout",
       "text": [
        " 42955\n",
        "55450"
       ]
      },
      {
       "output_type": "stream",
       "stream": "stdout",
       "text": [
        " \n",
        "56906"
       ]
      },
      {
       "output_type": "stream",
       "stream": "stdout",
       "text": [
        " \n",
        "55333"
       ]
      },
      {
       "output_type": "stream",
       "stream": "stdout",
       "text": [
        " \n",
        "56914"
       ]
      },
      {
       "output_type": "stream",
       "stream": "stdout",
       "text": [
        " \n",
        "42982"
       ]
      },
      {
       "output_type": "stream",
       "stream": "stdout",
       "text": [
        " \n",
        "42993"
       ]
      },
      {
       "output_type": "stream",
       "stream": "stdout",
       "text": [
        " \n",
        "42972"
       ]
      },
      {
       "output_type": "stream",
       "stream": "stdout",
       "text": [
        " \n",
        "34368"
       ]
      },
      {
       "output_type": "stream",
       "stream": "stdout",
       "text": [
        " \n",
        "55398"
       ]
      },
      {
       "output_type": "stream",
       "stream": "stdout",
       "text": [
        " \n",
        "55211"
       ]
      },
      {
       "output_type": "stream",
       "stream": "stdout",
       "text": [
        " \n",
        "42951"
       ]
      },
      {
       "output_type": "stream",
       "stream": "stdout",
       "text": [
        " 40211\n",
        "55194"
       ]
      },
      {
       "output_type": "stream",
       "stream": "stdout",
       "text": [
        " \n",
        "55221"
       ]
      },
      {
       "output_type": "stream",
       "stream": "stdout",
       "text": [
        " \n",
        "55251"
       ]
      },
      {
       "output_type": "stream",
       "stream": "stdout",
       "text": [
        " \n",
        "95466"
       ]
      },
      {
       "output_type": "stream",
       "stream": "stdout",
       "text": [
        " \n",
        "95445"
       ]
      },
      {
       "output_type": "stream",
       "stream": "stdout",
       "text": [
        " \n",
        "95469"
       ]
      },
      {
       "output_type": "stream",
       "stream": "stdout",
       "text": [
        " \n",
        "95468"
       ]
      },
      {
       "output_type": "stream",
       "stream": "stdout",
       "text": [
        " \n",
        "95470"
       ]
      },
      {
       "output_type": "stream",
       "stream": "stdout",
       "text": [
        " \n",
        "95409"
       ]
      },
      {
       "output_type": "stream",
       "stream": "stdout",
       "text": [
        " \n",
        "94926"
       ]
      },
      {
       "output_type": "stream",
       "stream": "stdout",
       "text": [
        " 94927\n",
        "95475"
       ]
      },
      {
       "output_type": "stream",
       "stream": "stdout",
       "text": [
        " \n",
        "95484"
       ]
      },
      {
       "output_type": "stream",
       "stream": "stdout",
       "text": [
        " 95485\n",
        "95492"
       ]
      },
      {
       "output_type": "stream",
       "stream": "stdout",
       "text": [
        " \n",
        "95488"
       ]
      },
      {
       "output_type": "stream",
       "stream": "stdout",
       "text": [
        " 95489\n",
        "95122"
       ]
      },
      {
       "output_type": "stream",
       "stream": "stdout",
       "text": [
        " 94946\n",
        "95511"
       ]
      },
      {
       "output_type": "stream",
       "stream": "stdout",
       "text": [
        " \n",
        "95042"
       ]
      },
      {
       "output_type": "stream",
       "stream": "stdout",
       "text": [
        " \n",
        "95528"
       ]
      },
      {
       "output_type": "stream",
       "stream": "stdout",
       "text": [
        " 95530\n",
        "95535"
       ]
      },
      {
       "output_type": "stream",
       "stream": "stdout",
       "text": [
        " \n",
        "95539"
       ]
      },
      {
       "output_type": "stream",
       "stream": "stdout",
       "text": [
        " \n",
        "95553"
       ]
      },
      {
       "output_type": "stream",
       "stream": "stdout",
       "text": [
        " \n",
        "95540"
       ]
      },
      {
       "output_type": "stream",
       "stream": "stdout",
       "text": [
        " 95541\n",
        "95544"
       ]
      },
      {
       "output_type": "stream",
       "stream": "stdout",
       "text": [
        " 95545\n",
        "95565"
       ]
      },
      {
       "output_type": "stream",
       "stream": "stdout",
       "text": [
        " \n",
        "95551"
       ]
      },
      {
       "output_type": "stream",
       "stream": "stdout",
       "text": [
        " \n",
        "95216"
       ]
      },
      {
       "output_type": "stream",
       "stream": "stdout",
       "text": [
        " 94983\n",
        "95181"
       ]
      },
      {
       "output_type": "stream",
       "stream": "stdout",
       "text": [
        " \n",
        "95575"
       ]
      },
      {
       "output_type": "stream",
       "stream": "stdout",
       "text": [
        " \n",
        "95589"
       ]
      },
      {
       "output_type": "stream",
       "stream": "stdout",
       "text": [
        " \n",
        "95461"
       ]
      },
      {
       "output_type": "stream",
       "stream": "stdout",
       "text": [
        " \n",
        "94808"
       ]
      },
      {
       "output_type": "stream",
       "stream": "stdout",
       "text": [
        " \n",
        "95646"
       ]
      },
      {
       "output_type": "stream",
       "stream": "stdout",
       "text": [
        " \n",
        "94946"
       ]
      },
      {
       "output_type": "stream",
       "stream": "stdout",
       "text": [
        " 94771\n",
        "95648"
       ]
      },
      {
       "output_type": "stream",
       "stream": "stdout",
       "text": [
        " \n",
        "95347"
       ]
      },
      {
       "output_type": "stream",
       "stream": "stdout",
       "text": [
        " \n",
        "95661"
       ]
      },
      {
       "output_type": "stream",
       "stream": "stdout",
       "text": [
        " 95662\n",
        "95671"
       ]
      },
      {
       "output_type": "stream",
       "stream": "stdout",
       "text": [
        " \n",
        "95680"
       ]
      },
      {
       "output_type": "stream",
       "stream": "stdout",
       "text": [
        " \n",
        "95704"
       ]
      },
      {
       "output_type": "stream",
       "stream": "stdout",
       "text": [
        " \n",
        "95423"
       ]
      },
      {
       "output_type": "stream",
       "stream": "stdout",
       "text": [
        " \n",
        "95608"
       ]
      },
      {
       "output_type": "stream",
       "stream": "stdout",
       "text": [
        " \n",
        "59078"
       ]
      },
      {
       "output_type": "stream",
       "stream": "stdout",
       "text": [
        " 59079\n",
        "91091"
       ]
      },
      {
       "output_type": "stream",
       "stream": "stdout",
       "text": [
        " 91092\n",
        "94914"
       ]
      },
      {
       "output_type": "stream",
       "stream": "stdout",
       "text": [
        " \n",
        "95740"
       ]
      },
      {
       "output_type": "stream",
       "stream": "stdout",
       "text": [
        " 95741\n",
        "95354"
       ]
      },
      {
       "output_type": "stream",
       "stream": "stdout",
       "text": [
        " \n",
        "59126"
       ]
      },
      {
       "output_type": "stream",
       "stream": "stdout",
       "text": [
        " 59048\n",
        "94807"
       ]
      },
      {
       "output_type": "stream",
       "stream": "stdout",
       "text": [
        " \n",
        "95773"
       ]
      },
      {
       "output_type": "stream",
       "stream": "stdout",
       "text": [
        " \n",
        "95772"
       ]
      },
      {
       "output_type": "stream",
       "stream": "stdout",
       "text": [
        " \n",
        "95771"
       ]
      },
      {
       "output_type": "stream",
       "stream": "stdout",
       "text": [
        " \n",
        "95774"
       ]
      },
      {
       "output_type": "stream",
       "stream": "stdout",
       "text": [
        " \n",
        "95775"
       ]
      },
      {
       "output_type": "stream",
       "stream": "stdout",
       "text": [
        " \n",
        "95778"
       ]
      },
      {
       "output_type": "stream",
       "stream": "stdout",
       "text": [
        " \n",
        "95214"
       ]
      },
      {
       "output_type": "stream",
       "stream": "stdout",
       "text": [
        " \n",
        "95780"
       ]
      },
      {
       "output_type": "stream",
       "stream": "stdout",
       "text": [
        " \n",
        "95000"
       ]
      },
      {
       "output_type": "stream",
       "stream": "stdout",
       "text": [
        " \n",
        "95162"
       ]
      },
      {
       "output_type": "stream",
       "stream": "stdout",
       "text": [
        " \n",
        "95787"
       ]
      },
      {
       "output_type": "stream",
       "stream": "stdout",
       "text": [
        " \n",
        "95791"
       ]
      },
      {
       "output_type": "stream",
       "stream": "stdout",
       "text": [
        " \n",
        "95677"
       ]
      },
      {
       "output_type": "stream",
       "stream": "stdout",
       "text": [
        " \n",
        "95343"
       ]
      },
      {
       "output_type": "stream",
       "stream": "stdout",
       "text": [
        " \n",
        "95810"
       ]
      },
      {
       "output_type": "stream",
       "stream": "stdout",
       "text": [
        " \n",
        "95007"
       ]
      },
      {
       "output_type": "stream",
       "stream": "stdout",
       "text": [
        " \n",
        "95517"
       ]
      },
      {
       "output_type": "stream",
       "stream": "stdout",
       "text": [
        " \n",
        "95817"
       ]
      },
      {
       "output_type": "stream",
       "stream": "stdout",
       "text": [
        " \n",
        "95508"
       ]
      },
      {
       "output_type": "stream",
       "stream": "stdout",
       "text": [
        " \n",
        "96127"
       ]
      },
      {
       "output_type": "stream",
       "stream": "stdout",
       "text": [
        " 96128\n",
        "94714"
       ]
      },
      {
       "output_type": "stream",
       "stream": "stdout",
       "text": [
        " \n",
        "95322"
       ]
      },
      {
       "output_type": "stream",
       "stream": "stdout",
       "text": [
        " \n",
        "96129"
       ]
      },
      {
       "output_type": "stream",
       "stream": "stdout",
       "text": [
        " \n",
        "95068"
       ]
      },
      {
       "output_type": "stream",
       "stream": "stdout",
       "text": [
        " \n",
        "95482"
       ]
      },
      {
       "output_type": "stream",
       "stream": "stdout",
       "text": [
        " \n",
        "96136"
       ]
      },
      {
       "output_type": "stream",
       "stream": "stdout",
       "text": [
        " \n",
        "96143"
       ]
      },
      {
       "output_type": "stream",
       "stream": "stdout",
       "text": [
        " \n",
        "95770"
       ]
      },
      {
       "output_type": "stream",
       "stream": "stdout",
       "text": [
        " \n",
        "95781"
       ]
      },
      {
       "output_type": "stream",
       "stream": "stdout",
       "text": [
        " \n",
        "95777"
       ]
      },
      {
       "output_type": "stream",
       "stream": "stdout",
       "text": [
        " \n",
        "96177"
       ]
      },
      {
       "output_type": "stream",
       "stream": "stdout",
       "text": [
        " 95491\n",
        "95394"
       ]
      },
      {
       "output_type": "stream",
       "stream": "stdout",
       "text": [
        " 96181\n",
        "95171"
       ]
      },
      {
       "output_type": "stream",
       "stream": "stdout",
       "text": [
        " \n",
        "94946"
       ]
      },
      {
       "output_type": "stream",
       "stream": "stdout",
       "text": [
        " 94989\n",
        "59118"
       ]
      },
      {
       "output_type": "stream",
       "stream": "stdout",
       "text": [
        " \n",
        "94709"
       ]
      },
      {
       "output_type": "stream",
       "stream": "stdout",
       "text": [
        " \n",
        "94708"
       ]
      },
      {
       "output_type": "stream",
       "stream": "stdout",
       "text": [
        " \n",
        "95025"
       ]
      },
      {
       "output_type": "stream",
       "stream": "stdout",
       "text": [
        " \n",
        "95117"
       ]
      },
      {
       "output_type": "stream",
       "stream": "stdout",
       "text": [
        " \n",
        "96216"
       ]
      },
      {
       "output_type": "stream",
       "stream": "stdout",
       "text": [
        " \n",
        "95426"
       ]
      },
      {
       "output_type": "stream",
       "stream": "stdout",
       "text": [
        " \n",
        "96219"
       ]
      },
      {
       "output_type": "stream",
       "stream": "stdout",
       "text": [
        " \n",
        "96222"
       ]
      },
      {
       "output_type": "stream",
       "stream": "stdout",
       "text": [
        " \n",
        "95523"
       ]
      },
      {
       "output_type": "stream",
       "stream": "stdout",
       "text": [
        " \n",
        "96192"
       ]
      },
      {
       "output_type": "stream",
       "stream": "stdout",
       "text": [
        " \n",
        "94826"
       ]
      },
      {
       "output_type": "stream",
       "stream": "stdout",
       "text": [
        " \n",
        "94751"
       ]
      },
      {
       "output_type": "stream",
       "stream": "stdout",
       "text": [
        " \n",
        "96531"
       ]
      },
      {
       "output_type": "stream",
       "stream": "stdout",
       "text": [
        " \n",
        "95462"
       ]
      },
      {
       "output_type": "stream",
       "stream": "stdout",
       "text": [
        " \n",
        "95447"
       ]
      },
      {
       "output_type": "stream",
       "stream": "stdout",
       "text": [
        " \n",
        "94999"
       ]
      },
      {
       "output_type": "stream",
       "stream": "stdout",
       "text": [
        " \n",
        "95444"
       ]
      },
      {
       "output_type": "stream",
       "stream": "stdout",
       "text": [
        " \n",
        "95443"
       ]
      },
      {
       "output_type": "stream",
       "stream": "stdout",
       "text": [
        " \n",
        "95442"
       ]
      },
      {
       "output_type": "stream",
       "stream": "stdout",
       "text": [
        " \n",
        "95441"
       ]
      },
      {
       "output_type": "stream",
       "stream": "stdout",
       "text": [
        " \n",
        "95439"
       ]
      },
      {
       "output_type": "stream",
       "stream": "stdout",
       "text": [
        " \n",
        "95437"
       ]
      },
      {
       "output_type": "stream",
       "stream": "stdout",
       "text": [
        " \n",
        "95436"
       ]
      },
      {
       "output_type": "stream",
       "stream": "stdout",
       "text": [
        " \n",
        "95435"
       ]
      },
      {
       "output_type": "stream",
       "stream": "stdout",
       "text": [
        " \n",
        "93414"
       ]
      },
      {
       "output_type": "stream",
       "stream": "stdout",
       "text": [
        " \n",
        "95122"
       ]
      },
      {
       "output_type": "stream",
       "stream": "stdout",
       "text": [
        " 95429\n",
        "95418"
       ]
      },
      {
       "output_type": "stream",
       "stream": "stdout",
       "text": [
        " \n",
        "95421"
       ]
      },
      {
       "output_type": "stream",
       "stream": "stdout",
       "text": [
        " \n",
        "95417"
       ]
      },
      {
       "output_type": "stream",
       "stream": "stdout",
       "text": [
        " \n",
        "95416"
       ]
      },
      {
       "output_type": "stream",
       "stream": "stdout",
       "text": [
        " \n",
        "949"
       ]
      },
      {
       "output_type": "stream",
       "stream": "stdout",
       "text": [
        " \n",
        "94723"
       ]
      },
      {
       "output_type": "stream",
       "stream": "stdout",
       "text": [
        " \n",
        "95405"
       ]
      },
      {
       "output_type": "stream",
       "stream": "stdout",
       "text": [
        " \n",
        "95404"
       ]
      },
      {
       "output_type": "stream",
       "stream": "stdout",
       "text": [
        " \n",
        "95403"
       ]
      },
      {
       "output_type": "stream",
       "stream": "stdout",
       "text": [
        " \n",
        "95402"
       ]
      },
      {
       "output_type": "stream",
       "stream": "stdout",
       "text": [
        " \n",
        "90948"
       ]
      },
      {
       "output_type": "stream",
       "stream": "stdout",
       "text": [
        " 91019\n",
        "95397"
       ]
      },
      {
       "output_type": "stream",
       "stream": "stdout",
       "text": [
        " \n",
        "95395"
       ]
      },
      {
       "output_type": "stream",
       "stream": "stdout",
       "text": [
        " \n",
        "95394"
       ]
      },
      {
       "output_type": "stream",
       "stream": "stdout",
       "text": [
        " \n",
        "95219"
       ]
      },
      {
       "output_type": "stream",
       "stream": "stdout",
       "text": [
        " \n",
        "95376"
       ]
      },
      {
       "output_type": "stream",
       "stream": "stdout",
       "text": [
        " 95387\n",
        "95378"
       ]
      },
      {
       "output_type": "stream",
       "stream": "stdout",
       "text": [
        " \n",
        "95377"
       ]
      },
      {
       "output_type": "stream",
       "stream": "stdout",
       "text": [
        " \n",
        "95370"
       ]
      },
      {
       "output_type": "stream",
       "stream": "stdout",
       "text": [
        " 95371\n",
        "95366"
       ]
      },
      {
       "output_type": "stream",
       "stream": "stdout",
       "text": [
        " 94963\n",
        "95351"
       ]
      },
      {
       "output_type": "stream",
       "stream": "stdout",
       "text": [
        " \n",
        "95178"
       ]
      },
      {
       "output_type": "stream",
       "stream": "stdout",
       "text": [
        " \n",
        "95221"
       ]
      },
      {
       "output_type": "stream",
       "stream": "stdout",
       "text": [
        " 95220\n",
        "95281"
       ]
      },
      {
       "output_type": "stream",
       "stream": "stdout",
       "text": [
        " \n",
        "95179"
       ]
      },
      {
       "output_type": "stream",
       "stream": "stdout",
       "text": [
        " \n",
        "95134"
       ]
      },
      {
       "output_type": "stream",
       "stream": "stdout",
       "text": [
        " \n",
        "95220"
       ]
      },
      {
       "output_type": "stream",
       "stream": "stdout",
       "text": [
        " 95220\n",
        "95362"
       ]
      },
      {
       "output_type": "stream",
       "stream": "stdout",
       "text": [
        " \n",
        "95350"
       ]
      },
      {
       "output_type": "stream",
       "stream": "stdout",
       "text": [
        " \n",
        "95325"
       ]
      },
      {
       "output_type": "stream",
       "stream": "stdout",
       "text": [
        " 95326\n",
        "95219"
       ]
      },
      {
       "output_type": "stream",
       "stream": "stdout",
       "text": [
        " 95220\n",
        "94993"
       ]
      },
      {
       "output_type": "stream",
       "stream": "stdout",
       "text": [
        " 95218\n",
        "95349"
       ]
      },
      {
       "output_type": "stream",
       "stream": "stdout",
       "text": [
        " \n",
        "95125"
       ]
      },
      {
       "output_type": "stream",
       "stream": "stdout",
       "text": [
        " \n",
        "94946"
       ]
      },
      {
       "output_type": "stream",
       "stream": "stdout",
       "text": [
        " 94803\n",
        "95109"
       ]
      },
      {
       "output_type": "stream",
       "stream": "stdout",
       "text": [
        " \n",
        "95108"
       ]
      },
      {
       "output_type": "stream",
       "stream": "stdout",
       "text": [
        " \n",
        "95209"
       ]
      },
      {
       "output_type": "stream",
       "stream": "stdout",
       "text": [
        " \n",
        "95208"
       ]
      },
      {
       "output_type": "stream",
       "stream": "stdout",
       "text": [
        " \n",
        "95101"
       ]
      },
      {
       "output_type": "stream",
       "stream": "stdout",
       "text": [
        " \n",
        "95100"
       ]
      },
      {
       "output_type": "stream",
       "stream": "stdout",
       "text": [
        " \n",
        "95274"
       ]
      },
      {
       "output_type": "stream",
       "stream": "stdout",
       "text": [
        " 94988\n",
        "95333"
       ]
      },
      {
       "output_type": "stream",
       "stream": "stdout",
       "text": [
        " \n",
        "95273"
       ]
      },
      {
       "output_type": "stream",
       "stream": "stdout",
       "text": [
        " \n",
        "95091"
       ]
      },
      {
       "output_type": "stream",
       "stream": "stdout",
       "text": [
        " 95092\n",
        "95090"
       ]
      },
      {
       "output_type": "stream",
       "stream": "stdout",
       "text": [
        " \n",
        "95089"
       ]
      },
      {
       "output_type": "stream",
       "stream": "stdout",
       "text": [
        " \n",
        "95083"
       ]
      },
      {
       "output_type": "stream",
       "stream": "stdout",
       "text": [
        " 95084\n",
        "59106"
       ]
      },
      {
       "output_type": "stream",
       "stream": "stdout",
       "text": [
        " 59107\n",
        "94986"
       ]
      },
      {
       "output_type": "stream",
       "stream": "stdout",
       "text": [
        " 95202\n",
        "95077"
       ]
      },
      {
       "output_type": "stream",
       "stream": "stdout",
       "text": [
        " \n",
        "95334"
       ]
      },
      {
       "output_type": "stream",
       "stream": "stdout",
       "text": [
        " \n",
        "95332"
       ]
      },
      {
       "output_type": "stream",
       "stream": "stdout",
       "text": [
        " \n",
        "59057"
       ]
      },
      {
       "output_type": "stream",
       "stream": "stdout",
       "text": [
        " 59058\n",
        "95254"
       ]
      },
      {
       "output_type": "stream",
       "stream": "stdout",
       "text": [
        " \n",
        "95071"
       ]
      },
      {
       "output_type": "stream",
       "stream": "stdout",
       "text": [
        " 95072\n",
        "95067"
       ]
      },
      {
       "output_type": "stream",
       "stream": "stdout",
       "text": [
        " \n",
        "95066"
       ]
      },
      {
       "output_type": "stream",
       "stream": "stdout",
       "text": [
        " \n",
        "95065"
       ]
      },
      {
       "output_type": "stream",
       "stream": "stdout",
       "text": [
        " \n",
        "95064"
       ]
      },
      {
       "output_type": "stream",
       "stream": "stdout",
       "text": [
        " \n",
        "95063"
       ]
      },
      {
       "output_type": "stream",
       "stream": "stdout",
       "text": [
        " \n",
        "94989"
       ]
      },
      {
       "output_type": "stream",
       "stream": "stdout",
       "text": [
        " 94723\n",
        "95056"
       ]
      },
      {
       "output_type": "stream",
       "stream": "stdout",
       "text": [
        " 94723\n",
        "95056"
       ]
      },
      {
       "output_type": "stream",
       "stream": "stdout",
       "text": [
        " \n",
        "95048"
       ]
      },
      {
       "output_type": "stream",
       "stream": "stdout",
       "text": [
        " \n",
        "95263"
       ]
      },
      {
       "output_type": "stream",
       "stream": "stdout",
       "text": [
        " 95264\n",
        "95261"
       ]
      },
      {
       "output_type": "stream",
       "stream": "stdout",
       "text": [
        " \n",
        "95253"
       ]
      },
      {
       "output_type": "stream",
       "stream": "stdout",
       "text": [
        " \n",
        "95035"
       ]
      },
      {
       "output_type": "stream",
       "stream": "stdout",
       "text": [
        " \n",
        "95034"
       ]
      },
      {
       "output_type": "stream",
       "stream": "stdout",
       "text": [
        " \n",
        "95029"
       ]
      },
      {
       "output_type": "stream",
       "stream": "stdout",
       "text": [
        " 95030\n",
        "95027"
       ]
      },
      {
       "output_type": "stream",
       "stream": "stdout",
       "text": [
        " 95028\n",
        "95188"
       ]
      },
      {
       "output_type": "stream",
       "stream": "stdout",
       "text": [
        " 95189\n",
        "95186"
       ]
      },
      {
       "output_type": "stream",
       "stream": "stdout",
       "text": [
        " 95187\n",
        "94989"
       ]
      },
      {
       "output_type": "stream",
       "stream": "stdout",
       "text": [
        " 95010\n",
        "94799"
       ]
      },
      {
       "output_type": "stream",
       "stream": "stdout",
       "text": [
        " \n",
        "91019"
       ]
      },
      {
       "output_type": "stream",
       "stream": "stdout",
       "text": [
        " 91020\n",
        "94996"
       ]
      },
      {
       "output_type": "stream",
       "stream": "stdout",
       "text": [
        " 94997\n",
        "94994"
       ]
      },
      {
       "output_type": "stream",
       "stream": "stdout",
       "text": [
        " 94995\n",
        "94994"
       ]
      },
      {
       "output_type": "stream",
       "stream": "stdout",
       "text": [
        " \n",
        "95184"
       ]
      },
      {
       "output_type": "stream",
       "stream": "stdout",
       "text": [
        " 95185\n",
        "94987"
       ]
      },
      {
       "output_type": "stream",
       "stream": "stdout",
       "text": [
        " \n",
        "95182"
       ]
      },
      {
       "output_type": "stream",
       "stream": "stdout",
       "text": [
        " 95183\n",
        "95368"
       ]
      },
      {
       "output_type": "stream",
       "stream": "stdout",
       "text": [
        " 95369\n",
        "94983"
       ]
      },
      {
       "output_type": "stream",
       "stream": "stdout",
       "text": [
        " 94939\n",
        "95329"
       ]
      },
      {
       "output_type": "stream",
       "stream": "stdout",
       "text": [
        " 95330\n",
        "94827"
       ]
      },
      {
       "output_type": "stream",
       "stream": "stdout",
       "text": [
        " 94713\n",
        "94984"
       ]
      },
      {
       "output_type": "stream",
       "stream": "stdout",
       "text": [
        " \n",
        "95120"
       ]
      },
      {
       "output_type": "stream",
       "stream": "stdout",
       "text": [
        " \n",
        "95180"
       ]
      },
      {
       "output_type": "stream",
       "stream": "stdout",
       "text": [
        " 95181\n",
        "95315"
       ]
      },
      {
       "output_type": "stream",
       "stream": "stdout",
       "text": [
        " \n",
        "90953"
       ]
      },
      {
       "output_type": "stream",
       "stream": "stdout",
       "text": [
        " \n",
        "95286"
       ]
      },
      {
       "output_type": "stream",
       "stream": "stdout",
       "text": [
        " \n",
        "94973"
       ]
      },
      {
       "output_type": "stream",
       "stream": "stdout",
       "text": [
        " 94974\n",
        "95190"
       ]
      },
      {
       "output_type": "stream",
       "stream": "stdout",
       "text": [
        " \n",
        "95250"
       ]
      },
      {
       "output_type": "stream",
       "stream": "stdout",
       "text": [
        " \n",
        "95294"
       ]
      },
      {
       "output_type": "stream",
       "stream": "stdout",
       "text": [
        " \n",
        "95286"
       ]
      },
      {
       "output_type": "stream",
       "stream": "stdout",
       "text": [
        " 95289\n",
        "95174"
       ]
      },
      {
       "output_type": "stream",
       "stream": "stdout",
       "text": [
        " \n",
        "95060"
       ]
      },
      {
       "output_type": "stream",
       "stream": "stdout",
       "text": [
        " 94902\n",
        "94959"
       ]
      },
      {
       "output_type": "stream",
       "stream": "stdout",
       "text": [
        " \n",
        "94958"
       ]
      },
      {
       "output_type": "stream",
       "stream": "stdout",
       "text": [
        " \n",
        "94915"
       ]
      },
      {
       "output_type": "stream",
       "stream": "stdout",
       "text": [
        " 94926\n",
        "94941"
       ]
      },
      {
       "output_type": "stream",
       "stream": "stdout",
       "text": [
        " \n",
        "94939"
       ]
      },
      {
       "output_type": "stream",
       "stream": "stdout",
       "text": [
        " 94940\n",
        "94939"
       ]
      },
      {
       "output_type": "stream",
       "stream": "stdout",
       "text": [
        " \n",
        "94938"
       ]
      },
      {
       "output_type": "stream",
       "stream": "stdout",
       "text": [
        " \n",
        "95169"
       ]
      },
      {
       "output_type": "stream",
       "stream": "stdout",
       "text": [
        " 94902\n",
        "94929"
       ]
      },
      {
       "output_type": "stream",
       "stream": "stdout",
       "text": [
        " \n",
        "94928"
       ]
      },
      {
       "output_type": "stream",
       "stream": "stdout",
       "text": [
        " \n",
        "94924"
       ]
      },
      {
       "output_type": "stream",
       "stream": "stdout",
       "text": [
        " \n",
        "94815"
       ]
      },
      {
       "output_type": "stream",
       "stream": "stdout",
       "text": [
        " 94902\n",
        "94902"
       ]
      },
      {
       "output_type": "stream",
       "stream": "stdout",
       "text": [
        " 94874\n",
        "94535"
       ]
      },
      {
       "output_type": "stream",
       "stream": "stdout",
       "text": [
        " \n",
        "94892"
       ]
      },
      {
       "output_type": "stream",
       "stream": "stdout",
       "text": [
        " \n",
        "95297"
       ]
      },
      {
       "output_type": "stream",
       "stream": "stdout",
       "text": [
        " \n",
        "95295"
       ]
      },
      {
       "output_type": "stream",
       "stream": "stdout",
       "text": [
        " \n",
        "94889"
       ]
      },
      {
       "output_type": "stream",
       "stream": "stdout",
       "text": [
        " 94890\n",
        "94889"
       ]
      },
      {
       "output_type": "stream",
       "stream": "stdout",
       "text": [
        " 94889\n",
        "94888"
       ]
      },
      {
       "output_type": "stream",
       "stream": "stdout",
       "text": [
        " \n",
        "94886"
       ]
      },
      {
       "output_type": "stream",
       "stream": "stdout",
       "text": [
        " \n",
        "94882"
       ]
      },
      {
       "output_type": "stream",
       "stream": "stdout",
       "text": [
        " 94883\n",
        "94797"
       ]
      },
      {
       "output_type": "stream",
       "stream": "stdout",
       "text": [
        " \n",
        "94789"
       ]
      },
      {
       "output_type": "stream",
       "stream": "stdout",
       "text": [
        " \n",
        "94783"
       ]
      },
      {
       "output_type": "stream",
       "stream": "stdout",
       "text": [
        " \n",
        "94781"
       ]
      },
      {
       "output_type": "stream",
       "stream": "stdout",
       "text": [
        " \n",
        "95171"
       ]
      },
      {
       "output_type": "stream",
       "stream": "stdout",
       "text": [
        " 95172\n",
        "94638"
       ]
      },
      {
       "output_type": "stream",
       "stream": "stdout",
       "text": [
        " \n",
        "94723"
       ]
      },
      {
       "output_type": "stream",
       "stream": "stdout",
       "text": [
        " 94902\n",
        "94902"
       ]
      },
      {
       "output_type": "stream",
       "stream": "stdout",
       "text": [
        " 94909\n",
        "94641"
       ]
      },
      {
       "output_type": "stream",
       "stream": "stdout",
       "text": [
        " \n",
        "94637"
       ]
      },
      {
       "output_type": "stream",
       "stream": "stdout",
       "text": [
        " \n",
        "94816"
       ]
      },
      {
       "output_type": "stream",
       "stream": "stdout",
       "text": [
        " \n",
        "94798"
       ]
      },
      {
       "output_type": "stream",
       "stream": "stdout",
       "text": [
        " \n",
        "94790"
       ]
      },
      {
       "output_type": "stream",
       "stream": "stdout",
       "text": [
        " \n",
        "94780"
       ]
      },
      {
       "output_type": "stream",
       "stream": "stdout",
       "text": [
        " \n",
        "94779"
       ]
      },
      {
       "output_type": "stream",
       "stream": "stdout",
       "text": [
        " \n",
        "95231"
       ]
      },
      {
       "output_type": "stream",
       "stream": "stdout",
       "text": [
        " \n",
        "95170"
       ]
      },
      {
       "output_type": "stream",
       "stream": "stdout",
       "text": [
        " \n",
        "94751"
       ]
      },
      {
       "output_type": "stream",
       "stream": "stdout",
       "text": [
        " 94902\n",
        "94875"
       ]
      },
      {
       "output_type": "stream",
       "stream": "stdout",
       "text": [
        " \n",
        "95372"
       ]
      },
      {
       "output_type": "stream",
       "stream": "stdout",
       "text": [
        " \n",
        "94830"
       ]
      },
      {
       "output_type": "stream",
       "stream": "stdout",
       "text": [
        " 94831\n",
        "95358"
       ]
      },
      {
       "output_type": "stream",
       "stream": "stdout",
       "text": [
        " \n",
        "95348"
       ]
      },
      {
       "output_type": "stream",
       "stream": "stdout",
       "text": [
        " \n",
        "94829"
       ]
      },
      {
       "output_type": "stream",
       "stream": "stdout",
       "text": [
        " \n",
        "94951"
       ]
      },
      {
       "output_type": "stream",
       "stream": "stdout",
       "text": [
        " 94988\n",
        "94712"
       ]
      },
      {
       "output_type": "stream",
       "stream": "stdout",
       "text": [
        " 94795\n",
        "94813"
       ]
      },
      {
       "output_type": "stream",
       "stream": "stdout",
       "text": [
        " 94814\n",
        "94684"
       ]
      },
      {
       "output_type": "stream",
       "stream": "stdout",
       "text": [
        " 94712\n",
        "94793"
       ]
      },
      {
       "output_type": "stream",
       "stream": "stdout",
       "text": [
        " \n",
        "94792"
       ]
      },
      {
       "output_type": "stream",
       "stream": "stdout",
       "text": [
        " \n",
        "94720"
       ]
      },
      {
       "output_type": "stream",
       "stream": "stdout",
       "text": [
        " \n",
        "94788"
       ]
      },
      {
       "output_type": "stream",
       "stream": "stdout",
       "text": [
        " \n",
        "94484"
       ]
      },
      {
       "output_type": "stream",
       "stream": "stdout",
       "text": [
        " \n",
        "94787"
       ]
      },
      {
       "output_type": "stream",
       "stream": "stdout",
       "text": [
        " \n",
        "94782"
       ]
      },
      {
       "output_type": "stream",
       "stream": "stdout",
       "text": [
        " \n",
        "95230"
       ]
      },
      {
       "output_type": "stream",
       "stream": "stdout",
       "text": [
        " \n",
        "95168"
       ]
      },
      {
       "output_type": "stream",
       "stream": "stdout",
       "text": [
        " \n",
        "94634"
       ]
      },
      {
       "output_type": "stream",
       "stream": "stdout",
       "text": [
        " 94635\n",
        "94632"
       ]
      },
      {
       "output_type": "stream",
       "stream": "stdout",
       "text": [
        " 94633\n",
        "95167"
       ]
      },
      {
       "output_type": "stream",
       "stream": "stdout",
       "text": [
        " \n",
        "94532"
       ]
      },
      {
       "output_type": "stream",
       "stream": "stdout",
       "text": [
        " \n",
        "94530"
       ]
      },
      {
       "output_type": "stream",
       "stream": "stdout",
       "text": [
        " \n",
        "94510"
       ]
      },
      {
       "output_type": "stream",
       "stream": "stdout",
       "text": [
        " \n",
        "94527"
       ]
      },
      {
       "output_type": "stream",
       "stream": "stdout",
       "text": [
        " \n",
        "94176"
       ]
      },
      {
       "output_type": "stream",
       "stream": "stdout",
       "text": [
        " 94510\n",
        "94503"
       ]
      },
      {
       "output_type": "stream",
       "stream": "stdout",
       "text": [
        " \n",
        "94483"
       ]
      },
      {
       "output_type": "stream",
       "stream": "stdout",
       "text": [
        " \n",
        "94482"
       ]
      },
      {
       "output_type": "stream",
       "stream": "stdout",
       "text": [
        " \n",
        "94631"
       ]
      },
      {
       "output_type": "stream",
       "stream": "stdout",
       "text": [
        " \n",
        "94480"
       ]
      },
      {
       "output_type": "stream",
       "stream": "stdout",
       "text": [
        " \n",
        "94391"
       ]
      },
      {
       "output_type": "stream",
       "stream": "stdout",
       "text": [
        " 94519\n",
        "94517"
       ]
      },
      {
       "output_type": "stream",
       "stream": "stdout",
       "text": [
        " \n",
        "94516"
       ]
      },
      {
       "output_type": "stream",
       "stream": "stdout",
       "text": [
        " 94516\n",
        "94478"
       ]
      },
      {
       "output_type": "stream",
       "stream": "stdout",
       "text": [
        " \n",
        "94515"
       ]
      },
      {
       "output_type": "stream",
       "stream": "stdout",
       "text": [
        " \n",
        "94513"
       ]
      },
      {
       "output_type": "stream",
       "stream": "stdout",
       "text": [
        " 94512\n",
        "94511"
       ]
      },
      {
       "output_type": "stream",
       "stream": "stdout",
       "text": [
        " 94512\n",
        "94906"
       ]
      },
      {
       "output_type": "stream",
       "stream": "stdout",
       "text": [
        " \n",
        "94511"
       ]
      },
      {
       "output_type": "stream",
       "stream": "stdout",
       "text": [
        " \n",
        "94509"
       ]
      },
      {
       "output_type": "stream",
       "stream": "stdout",
       "text": [
        " \n",
        "94507"
       ]
      },
      {
       "output_type": "stream",
       "stream": "stdout",
       "text": [
        " 94508\n",
        "94775"
       ]
      },
      {
       "output_type": "stream",
       "stream": "stdout",
       "text": [
        " \n",
        "94506"
       ]
      },
      {
       "output_type": "stream",
       "stream": "stdout",
       "text": [
        " \n",
        "95165"
       ]
      },
      {
       "output_type": "stream",
       "stream": "stdout",
       "text": [
        " 95166\n",
        "94098"
       ]
      },
      {
       "output_type": "stream",
       "stream": "stdout",
       "text": [
        " 94476\n",
        "93962"
       ]
      },
      {
       "output_type": "stream",
       "stream": "stdout",
       "text": [
        " 94475\n",
        "93962"
       ]
      },
      {
       "output_type": "stream",
       "stream": "stdout",
       "text": [
        " 94474\n",
        "94471"
       ]
      },
      {
       "output_type": "stream",
       "stream": "stdout",
       "text": [
        " \n",
        "93555"
       ]
      },
      {
       "output_type": "stream",
       "stream": "stdout",
       "text": [
        " 93626\n",
        "93517"
       ]
      },
      {
       "output_type": "stream",
       "stream": "stdout",
       "text": [
        " 93524\n",
        "94459"
       ]
      },
      {
       "output_type": "stream",
       "stream": "stdout",
       "text": [
        " 94470\n",
        "94459"
       ]
      },
      {
       "output_type": "stream",
       "stream": "stdout",
       "text": [
        " 94469\n",
        "92550"
       ]
      },
      {
       "output_type": "stream",
       "stream": "stdout",
       "text": [
        " 93496\n",
        "92550"
       ]
      },
      {
       "output_type": "stream",
       "stream": "stdout",
       "text": [
        " 94468\n",
        "91101"
       ]
      },
      {
       "output_type": "stream",
       "stream": "stdout",
       "text": [
        " 92546\n",
        "92549"
       ]
      },
      {
       "output_type": "stream",
       "stream": "stdout",
       "text": [
        " 94467\n",
        "92549"
       ]
      },
      {
       "output_type": "stream",
       "stream": "stdout",
       "text": [
        " 93954\n",
        "91068"
       ]
      },
      {
       "output_type": "stream",
       "stream": "stdout",
       "text": [
        " 91095\n",
        "94464"
       ]
      },
      {
       "output_type": "stream",
       "stream": "stdout",
       "text": [
        " \n",
        "94463"
       ]
      },
      {
       "output_type": "stream",
       "stream": "stdout",
       "text": [
        " \n",
        "94462"
       ]
      },
      {
       "output_type": "stream",
       "stream": "stdout",
       "text": [
        " \n",
        "95227"
       ]
      },
      {
       "output_type": "stream",
       "stream": "stdout",
       "text": [
        " \n",
        "95163"
       ]
      },
      {
       "output_type": "stream",
       "stream": "stdout",
       "text": [
        " 95164\n",
        "94460"
       ]
      },
      {
       "output_type": "stream",
       "stream": "stdout",
       "text": [
        " \n",
        "94455"
       ]
      },
      {
       "output_type": "stream",
       "stream": "stdout",
       "text": [
        " 93648\n",
        "94428"
       ]
      },
      {
       "output_type": "stream",
       "stream": "stdout",
       "text": [
        " 91234\n",
        "91068"
       ]
      },
      {
       "output_type": "stream",
       "stream": "stdout",
       "text": [
        " 93555\n",
        "91068"
       ]
      },
      {
       "output_type": "stream",
       "stream": "stdout",
       "text": [
        " 93580\n",
        "90921"
       ]
      },
      {
       "output_type": "stream",
       "stream": "stdout",
       "text": [
        " 94180\n",
        "90921"
       ]
      },
      {
       "output_type": "stream",
       "stream": "stdout",
       "text": [
        " 94430\n",
        "90921"
       ]
      },
      {
       "output_type": "stream",
       "stream": "stdout",
       "text": [
        " 90822\n",
        "94453"
       ]
      },
      {
       "output_type": "stream",
       "stream": "stdout",
       "text": [
        " 94454\n",
        "94453"
       ]
      },
      {
       "output_type": "stream",
       "stream": "stdout",
       "text": [
        " \n",
        "90921"
       ]
      },
      {
       "output_type": "stream",
       "stream": "stdout",
       "text": [
        " 94452\n",
        "90827"
       ]
      },
      {
       "output_type": "stream",
       "stream": "stdout",
       "text": [
        " 94451\n",
        "90827"
       ]
      },
      {
       "output_type": "stream",
       "stream": "stdout",
       "text": [
        " 90890\n",
        "90764"
       ]
      },
      {
       "output_type": "stream",
       "stream": "stdout",
       "text": [
        " 94179\n",
        "90764"
       ]
      },
      {
       "output_type": "stream",
       "stream": "stdout",
       "text": [
        " 94450\n",
        "91161"
       ]
      },
      {
       "output_type": "stream",
       "stream": "stdout",
       "text": [
        " 94449\n",
        "91161"
       ]
      },
      {
       "output_type": "stream",
       "stream": "stdout",
       "text": [
        " 94180\n",
        "95357"
       ]
      },
      {
       "output_type": "stream",
       "stream": "stdout",
       "text": [
        " \n",
        "94448"
       ]
      },
      {
       "output_type": "stream",
       "stream": "stdout",
       "text": [
        " 94447\n",
        "94446"
       ]
      },
      {
       "output_type": "stream",
       "stream": "stdout",
       "text": [
        " 94447\n",
        "94176"
       ]
      },
      {
       "output_type": "stream",
       "stream": "stdout",
       "text": [
        " 94173\n",
        "94905"
       ]
      },
      {
       "output_type": "stream",
       "stream": "stdout",
       "text": [
        " \n",
        "95237"
       ]
      },
      {
       "output_type": "stream",
       "stream": "stdout",
       "text": [
        " \n",
        "95233"
       ]
      },
      {
       "output_type": "stream",
       "stream": "stdout",
       "text": [
        " \n",
        "94628"
       ]
      },
      {
       "output_type": "stream",
       "stream": "stdout",
       "text": [
        " \n",
        "94625"
       ]
      },
      {
       "output_type": "stream",
       "stream": "stdout",
       "text": [
        " \n",
        "94624"
       ]
      },
      {
       "output_type": "stream",
       "stream": "stdout",
       "text": [
        " \n",
        "94768"
       ]
      },
      {
       "output_type": "stream",
       "stream": "stdout",
       "text": [
        " \n",
        "94619"
       ]
      },
      {
       "output_type": "stream",
       "stream": "stdout",
       "text": [
        " \n",
        "94617"
       ]
      },
      {
       "output_type": "stream",
       "stream": "stdout",
       "text": [
        " \n",
        "94615"
       ]
      },
      {
       "output_type": "stream",
       "stream": "stdout",
       "text": [
        " \n",
        "94612"
       ]
      },
      {
       "output_type": "stream",
       "stream": "stdout",
       "text": [
        " \n",
        "94611"
       ]
      },
      {
       "output_type": "stream",
       "stream": "stdout",
       "text": [
        " \n",
        "94608"
       ]
      },
      {
       "output_type": "stream",
       "stream": "stdout",
       "text": [
        " \n",
        "95226"
       ]
      },
      {
       "output_type": "stream",
       "stream": "stdout",
       "text": [
        " \n",
        "94607"
       ]
      },
      {
       "output_type": "stream",
       "stream": "stdout",
       "text": [
        " \n",
        "94606"
       ]
      },
      {
       "output_type": "stream",
       "stream": "stdout",
       "text": [
        " \n",
        "93652"
       ]
      },
      {
       "output_type": "stream",
       "stream": "stdout",
       "text": [
        " 93771\n",
        "90775"
       ]
      },
      {
       "output_type": "stream",
       "stream": "stdout",
       "text": [
        " 94442\n",
        "95159"
       ]
      },
      {
       "output_type": "stream",
       "stream": "stdout",
       "text": [
        " 95160\n",
        "90807"
       ]
      },
      {
       "output_type": "stream",
       "stream": "stdout",
       "text": [
        " 94440\n",
        "94580"
       ]
      },
      {
       "output_type": "stream",
       "stream": "stdout",
       "text": [
        " 94582\n",
        "91234"
       ]
      },
      {
       "output_type": "stream",
       "stream": "stdout",
       "text": [
        " 94438\n",
        "94610"
       ]
      },
      {
       "output_type": "stream",
       "stream": "stdout",
       "text": [
        " \n",
        "94609"
       ]
      },
      {
       "output_type": "stream",
       "stream": "stdout",
       "text": [
        " \n",
        "94764"
       ]
      },
      {
       "output_type": "stream",
       "stream": "stdout",
       "text": [
        " 94765\n",
        "94755"
       ]
      },
      {
       "output_type": "stream",
       "stream": "stdout",
       "text": [
        " \n",
        "94175"
       ]
      },
      {
       "output_type": "stream",
       "stream": "stdout",
       "text": [
        " 94188\n",
        "94501"
       ]
      },
      {
       "output_type": "stream",
       "stream": "stdout",
       "text": [
        " 94502\n",
        "94186"
       ]
      },
      {
       "output_type": "stream",
       "stream": "stdout",
       "text": [
        " 94185\n",
        "93897"
       ]
      },
      {
       "output_type": "stream",
       "stream": "stdout",
       "text": [
        " 93953\n",
        "90783"
       ]
      },
      {
       "output_type": "stream",
       "stream": "stdout",
       "text": [
        " 94444\n",
        "94501"
       ]
      },
      {
       "output_type": "stream",
       "stream": "stdout",
       "text": [
        " 94579\n",
        "90807"
       ]
      },
      {
       "output_type": "stream",
       "stream": "stdout",
       "text": [
        " 94441\n",
        "91234"
       ]
      },
      {
       "output_type": "stream",
       "stream": "stdout",
       "text": [
        " 94439\n",
        "91082"
       ]
      },
      {
       "output_type": "stream",
       "stream": "stdout",
       "text": [
        " 94437\n",
        "91233"
       ]
      },
      {
       "output_type": "stream",
       "stream": "stdout",
       "text": [
        " 94435\n",
        "94747"
       ]
      },
      {
       "output_type": "stream",
       "stream": "stdout",
       "text": [
        " \n",
        "94719"
       ]
      },
      {
       "output_type": "stream",
       "stream": "stdout",
       "text": [
        " 94720\n",
        "94719"
       ]
      },
      {
       "output_type": "stream",
       "stream": "stdout",
       "text": [
        " \n",
        "94718"
       ]
      },
      {
       "output_type": "stream",
       "stream": "stdout",
       "text": [
        " \n",
        "93822"
       ]
      },
      {
       "output_type": "stream",
       "stream": "stdout",
       "text": [
        " 93903\n",
        "93822"
       ]
      },
      {
       "output_type": "stream",
       "stream": "stdout",
       "text": [
        " 93904\n",
        "93812"
       ]
      },
      {
       "output_type": "stream",
       "stream": "stdout",
       "text": [
        " 93855\n",
        "90783"
       ]
      },
      {
       "output_type": "stream",
       "stream": "stdout",
       "text": [
        " 94445\n",
        "94580"
       ]
      },
      {
       "output_type": "stream",
       "stream": "stdout",
       "text": [
        " 94581\n",
        "90775"
       ]
      },
      {
       "output_type": "stream",
       "stream": "stdout",
       "text": [
        " 94443\n",
        "94989"
       ]
      },
      {
       "output_type": "stream",
       "stream": "stdout",
       "text": [
        " 94975\n",
        "94432"
       ]
      },
      {
       "output_type": "stream",
       "stream": "stdout",
       "text": [
        " 94436\n",
        "94577"
       ]
      },
      {
       "output_type": "stream",
       "stream": "stdout",
       "text": [
        " 94578\n",
        "91233"
       ]
      },
      {
       "output_type": "stream",
       "stream": "stdout",
       "text": [
        " 94434\n",
        "94432"
       ]
      },
      {
       "output_type": "stream",
       "stream": "stdout",
       "text": [
        " 94433\n",
        "91082"
       ]
      },
      {
       "output_type": "stream",
       "stream": "stdout",
       "text": [
        " 94431\n",
        "94428"
       ]
      },
      {
       "output_type": "stream",
       "stream": "stdout",
       "text": [
        " 94430\n",
        "94575"
       ]
      },
      {
       "output_type": "stream",
       "stream": "stdout",
       "text": [
        " 94576\n",
        "94428"
       ]
      },
      {
       "output_type": "stream",
       "stream": "stdout",
       "text": [
        " 94429\n",
        "94903"
       ]
      },
      {
       "output_type": "stream",
       "stream": "stdout",
       "text": [
        " \n",
        "94401"
       ]
      },
      {
       "output_type": "stream",
       "stream": "stdout",
       "text": [
        " 94402\n",
        "94398"
       ]
      },
      {
       "output_type": "stream",
       "stream": "stdout",
       "text": [
        " 94399\n",
        "94395"
       ]
      },
      {
       "output_type": "stream",
       "stream": "stdout",
       "text": [
        " 94397\n",
        "94395"
       ]
      },
      {
       "output_type": "stream",
       "stream": "stdout",
       "text": [
        " 94396\n",
        "93371"
       ]
      },
      {
       "output_type": "stream",
       "stream": "stdout",
       "text": [
        " 94392\n",
        "94389"
       ]
      },
      {
       "output_type": "stream",
       "stream": "stdout",
       "text": [
        " 94391\n",
        "94382"
       ]
      },
      {
       "output_type": "stream",
       "stream": "stdout",
       "text": [
        " 91129\n",
        "94297"
       ]
      },
      {
       "output_type": "stream",
       "stream": "stdout",
       "text": [
        " 94298\n",
        "94502"
       ]
      },
      {
       "output_type": "stream",
       "stream": "stdout",
       "text": [
        " 94579\n",
        "94288"
       ]
      },
      {
       "output_type": "stream",
       "stream": "stdout",
       "text": [
        " 94289\n",
        "94382"
       ]
      },
      {
       "output_type": "stream",
       "stream": "stdout",
       "text": [
        " 94383\n",
        "94282"
       ]
      },
      {
       "output_type": "stream",
       "stream": "stdout",
       "text": [
        " 94283\n",
        "91182"
       ]
      },
      {
       "output_type": "stream",
       "stream": "stdout",
       "text": [
        " 94274\n",
        "90900"
       ]
      },
      {
       "output_type": "stream",
       "stream": "stdout",
       "text": [
        " 94380\n",
        "91181"
       ]
      },
      {
       "output_type": "stream",
       "stream": "stdout",
       "text": [
        " 94273\n",
        "94461"
       ]
      },
      {
       "output_type": "stream",
       "stream": "stdout",
       "text": [
        " 94571\n",
        "93951"
       ]
      },
      {
       "output_type": "stream",
       "stream": "stdout",
       "text": [
        " 94270\n",
        "91185"
       ]
      },
      {
       "output_type": "stream",
       "stream": "stdout",
       "text": [
        " 94379\n",
        "92554"
       ]
      },
      {
       "output_type": "stream",
       "stream": "stdout",
       "text": [
        " 94268\n",
        "94375"
       ]
      },
      {
       "output_type": "stream",
       "stream": "stdout",
       "text": [
        " 94377\n",
        "94375"
       ]
      },
      {
       "output_type": "stream",
       "stream": "stdout",
       "text": [
        " 94376\n",
        "93381"
       ]
      },
      {
       "output_type": "stream",
       "stream": "stdout",
       "text": [
        " 94266\n",
        "94263"
       ]
      },
      {
       "output_type": "stream",
       "stream": "stdout",
       "text": [
        " 94265\n",
        "94361"
       ]
      },
      {
       "output_type": "stream",
       "stream": "stdout",
       "text": [
        " 94362\n",
        "93645"
       ]
      },
      {
       "output_type": "stream",
       "stream": "stdout",
       "text": [
        " 94256\n",
        "94253"
       ]
      },
      {
       "output_type": "stream",
       "stream": "stdout",
       "text": [
        " 94254\n",
        "94352"
       ]
      },
      {
       "output_type": "stream",
       "stream": "stdout",
       "text": [
        " 94354\n",
        "94250"
       ]
      },
      {
       "output_type": "stream",
       "stream": "stdout",
       "text": [
        " 94251\n",
        "94404"
       ]
      },
      {
       "output_type": "stream",
       "stream": "stdout",
       "text": [
        " 94405\n",
        "94401"
       ]
      },
      {
       "output_type": "stream",
       "stream": "stdout",
       "text": [
        " 94403\n",
        "94303"
       ]
      },
      {
       "output_type": "stream",
       "stream": "stdout",
       "text": [
        " 94304\n",
        "94300"
       ]
      },
      {
       "output_type": "stream",
       "stream": "stdout",
       "text": [
        " 94302\n",
        "94461"
       ]
      },
      {
       "output_type": "stream",
       "stream": "stdout",
       "text": [
        " 94176\n",
        "94300"
       ]
      },
      {
       "output_type": "stream",
       "stream": "stdout",
       "text": [
        " 94301\n",
        "94297"
       ]
      },
      {
       "output_type": "stream",
       "stream": "stdout",
       "text": [
        " 94299\n",
        "94389"
       ]
      },
      {
       "output_type": "stream",
       "stream": "stdout",
       "text": [
        " 94390\n",
        "94294"
       ]
      },
      {
       "output_type": "stream",
       "stream": "stdout",
       "text": [
        " 94296\n",
        "94573"
       ]
      },
      {
       "output_type": "stream",
       "stream": "stdout",
       "text": [
        " 94574\n",
        "94291"
       ]
      },
      {
       "output_type": "stream",
       "stream": "stdout",
       "text": [
        " 94293\n",
        "91063"
       ]
      },
      {
       "output_type": "stream",
       "stream": "stdout",
       "text": [
        " 94385\n",
        "94291"
       ]
      },
      {
       "output_type": "stream",
       "stream": "stdout",
       "text": [
        " 94292\n",
        "94285"
       ]
      },
      {
       "output_type": "stream",
       "stream": "stdout",
       "text": [
        " 94287\n",
        "91063"
       ]
      },
      {
       "output_type": "stream",
       "stream": "stdout",
       "text": [
        " 94384\n",
        "91181"
       ]
      },
      {
       "output_type": "stream",
       "stream": "stdout",
       "text": [
        " 94272\n",
        "93951"
       ]
      },
      {
       "output_type": "stream",
       "stream": "stdout",
       "text": [
        " 94271\n",
        "91185"
       ]
      },
      {
       "output_type": "stream",
       "stream": "stdout",
       "text": [
        " 94378\n",
        "92554"
       ]
      },
      {
       "output_type": "stream",
       "stream": "stdout",
       "text": [
        " 94269\n",
        "94263"
       ]
      },
      {
       "output_type": "stream",
       "stream": "stdout",
       "text": [
        " 94264\n",
        "93509"
       ]
      },
      {
       "output_type": "stream",
       "stream": "stdout",
       "text": [
        " 94374\n",
        "94260"
       ]
      },
      {
       "output_type": "stream",
       "stream": "stdout",
       "text": [
        " 94262\n",
        "94257"
       ]
      },
      {
       "output_type": "stream",
       "stream": "stdout",
       "text": [
        " 94259\n",
        "94358"
       ]
      },
      {
       "output_type": "stream",
       "stream": "stdout",
       "text": [
        " 94359\n",
        "93645"
       ]
      },
      {
       "output_type": "stream",
       "stream": "stdout",
       "text": [
        " 93664\n",
        "944"
       ]
      },
      {
       "output_type": "stream",
       "stream": "stdout",
       "text": [
        " 94457\n",
        "94250"
       ]
      },
      {
       "output_type": "stream",
       "stream": "stdout",
       "text": [
        " 94252\n",
        "94247"
       ]
      },
      {
       "output_type": "stream",
       "stream": "stdout",
       "text": [
        " 94249\n",
        "94247"
       ]
      },
      {
       "output_type": "stream",
       "stream": "stdout",
       "text": [
        " 94248\n",
        "94352"
       ]
      },
      {
       "output_type": "stream",
       "stream": "stdout",
       "text": [
        " 94353\n",
        "93931"
       ]
      },
      {
       "output_type": "stream",
       "stream": "stdout",
       "text": [
        " 94246\n",
        "93986"
       ]
      },
      {
       "output_type": "stream",
       "stream": "stdout",
       "text": [
        " 94244\n",
        "90759"
       ]
      },
      {
       "output_type": "stream",
       "stream": "stdout",
       "text": [
        " 94394\n",
        "93371"
       ]
      },
      {
       "output_type": "stream",
       "stream": "stdout",
       "text": [
        " 94393\n",
        "94386"
       ]
      },
      {
       "output_type": "stream",
       "stream": "stdout",
       "text": [
        " 94388\n",
        "94386"
       ]
      },
      {
       "output_type": "stream",
       "stream": "stdout",
       "text": [
        " 94387\n",
        "90900"
       ]
      },
      {
       "output_type": "stream",
       "stream": "stdout",
       "text": [
        " 94381\n",
        "93509"
       ]
      },
      {
       "output_type": "stream",
       "stream": "stdout",
       "text": [
        " 94373\n",
        "94303"
       ]
      },
      {
       "output_type": "stream",
       "stream": "stdout",
       "text": [
        " 94305\n",
        "94294"
       ]
      },
      {
       "output_type": "stream",
       "stream": "stdout",
       "text": [
        " 94295\n",
        "94288"
       ]
      },
      {
       "output_type": "stream",
       "stream": "stdout",
       "text": [
        " 94290\n",
        "94285"
       ]
      },
      {
       "output_type": "stream",
       "stream": "stdout",
       "text": [
        " 94286\n",
        "95356"
       ]
      },
      {
       "output_type": "stream",
       "stream": "stdout",
       "text": [
        " \n",
        "94282"
       ]
      },
      {
       "output_type": "stream",
       "stream": "stdout",
       "text": [
        " 94284\n",
        "94279"
       ]
      },
      {
       "output_type": "stream",
       "stream": "stdout",
       "text": [
        " 94281\n",
        "94279"
       ]
      },
      {
       "output_type": "stream",
       "stream": "stdout",
       "text": [
        " 94280\n",
        "94276"
       ]
      },
      {
       "output_type": "stream",
       "stream": "stdout",
       "text": [
        " 94277\n",
        "91182"
       ]
      },
      {
       "output_type": "stream",
       "stream": "stdout",
       "text": [
        " 94275\n",
        "94260"
       ]
      },
      {
       "output_type": "stream",
       "stream": "stdout",
       "text": [
        " 94261\n",
        "94257"
       ]
      },
      {
       "output_type": "stream",
       "stream": "stdout",
       "text": [
        " 94258\n",
        "94253"
       ]
      },
      {
       "output_type": "stream",
       "stream": "stdout",
       "text": [
        " 94255\n",
        "94496"
       ]
      },
      {
       "output_type": "stream",
       "stream": "stdout",
       "text": [
        " 94497\n",
        "93931"
       ]
      },
      {
       "output_type": "stream",
       "stream": "stdout",
       "text": [
        " 94245\n",
        "93986"
       ]
      },
      {
       "output_type": "stream",
       "stream": "stdout",
       "text": [
        " 94243\n",
        "94569"
       ]
      },
      {
       "output_type": "stream",
       "stream": "stdout",
       "text": [
        " 94570\n",
        "94215"
       ]
      },
      {
       "output_type": "stream",
       "stream": "stdout",
       "text": [
        " 94241\n",
        "94351"
       ]
      },
      {
       "output_type": "stream",
       "stream": "stdout",
       "text": [
        " \n",
        "94213"
       ]
      },
      {
       "output_type": "stream",
       "stream": "stdout",
       "text": [
        " 94240\n",
        "90891"
       ]
      },
      {
       "output_type": "stream",
       "stream": "stdout",
       "text": [
        " 94427\n",
        "90891"
       ]
      },
      {
       "output_type": "stream",
       "stream": "stdout",
       "text": [
        " 94426\n",
        "91156"
       ]
      },
      {
       "output_type": "stream",
       "stream": "stdout",
       "text": [
        " 94425\n",
        "91156"
       ]
      },
      {
       "output_type": "stream",
       "stream": "stdout",
       "text": [
        " 94424\n",
        "94421"
       ]
      },
      {
       "output_type": "stream",
       "stream": "stdout",
       "text": [
        " 94423\n",
        "94421"
       ]
      },
      {
       "output_type": "stream",
       "stream": "stdout",
       "text": [
        " 94422\n",
        "91126"
       ]
      },
      {
       "output_type": "stream",
       "stream": "stdout",
       "text": [
        " 94420\n",
        "94543"
       ]
      },
      {
       "output_type": "stream",
       "stream": "stdout",
       "text": [
        " \n",
        "91126"
       ]
      },
      {
       "output_type": "stream",
       "stream": "stdout",
       "text": [
        " 94419\n",
        "91124"
       ]
      },
      {
       "output_type": "stream",
       "stream": "stdout",
       "text": [
        " 94418\n",
        "91124"
       ]
      },
      {
       "output_type": "stream",
       "stream": "stdout",
       "text": [
        " 94417\n",
        "94414"
       ]
      },
      {
       "output_type": "stream",
       "stream": "stdout",
       "text": [
        " 94416\n",
        "94414"
       ]
      },
      {
       "output_type": "stream",
       "stream": "stdout",
       "text": [
        " 94415\n",
        "94411"
       ]
      },
      {
       "output_type": "stream",
       "stream": "stdout",
       "text": [
        " 94413\n",
        "94411"
       ]
      },
      {
       "output_type": "stream",
       "stream": "stdout",
       "text": [
        " 94412\n",
        "94408"
       ]
      },
      {
       "output_type": "stream",
       "stream": "stdout",
       "text": [
        " 94409\n",
        "91127"
       ]
      },
      {
       "output_type": "stream",
       "stream": "stdout",
       "text": [
        " 94407\n",
        "94706"
       ]
      },
      {
       "output_type": "stream",
       "stream": "stdout",
       "text": [
        " 94707\n",
        "94325"
       ]
      },
      {
       "output_type": "stream",
       "stream": "stdout",
       "text": [
        " 94326\n",
        "94348"
       ]
      },
      {
       "output_type": "stream",
       "stream": "stdout",
       "text": [
        " 94350\n",
        "94348"
       ]
      },
      {
       "output_type": "stream",
       "stream": "stdout",
       "text": [
        " 94349\n",
        "94345"
       ]
      },
      {
       "output_type": "stream",
       "stream": "stdout",
       "text": [
        " 94347\n",
        "94345"
       ]
      },
      {
       "output_type": "stream",
       "stream": "stdout",
       "text": [
        " 94346\n",
        "94342"
       ]
      },
      {
       "output_type": "stream",
       "stream": "stdout",
       "text": [
        " 94343\n",
        "94339"
       ]
      },
      {
       "output_type": "stream",
       "stream": "stdout",
       "text": [
        " 94341\n",
        "94339"
       ]
      },
      {
       "output_type": "stream",
       "stream": "stdout",
       "text": [
        " 94340\n",
        "94124"
       ]
      },
      {
       "output_type": "stream",
       "stream": "stdout",
       "text": [
        " \n",
        "94115"
       ]
      },
      {
       "output_type": "stream",
       "stream": "stdout",
       "text": [
        " \n",
        "94364"
       ]
      },
      {
       "output_type": "stream",
       "stream": "stdout",
       "text": [
        " 94365\n",
        "94563"
       ]
      },
      {
       "output_type": "stream",
       "stream": "stdout",
       "text": [
        " \n",
        "94342"
       ]
      },
      {
       "output_type": "stream",
       "stream": "stdout",
       "text": [
        " 94344\n",
        "94542"
       ]
      },
      {
       "output_type": "stream",
       "stream": "stdout",
       "text": [
        " \n",
        "94336"
       ]
      },
      {
       "output_type": "stream",
       "stream": "stdout",
       "text": [
        " 94337\n",
        "94102"
       ]
      },
      {
       "output_type": "stream",
       "stream": "stdout",
       "text": [
        " \n",
        "94333"
       ]
      },
      {
       "output_type": "stream",
       "stream": "stdout",
       "text": [
        " 94335\n",
        "94101"
       ]
      },
      {
       "output_type": "stream",
       "stream": "stdout",
       "text": [
        " \n",
        "94333"
       ]
      },
      {
       "output_type": "stream",
       "stream": "stdout",
       "text": [
        " 94334\n",
        "94100"
       ]
      },
      {
       "output_type": "stream",
       "stream": "stdout",
       "text": [
        " \n",
        "94026"
       ]
      },
      {
       "output_type": "stream",
       "stream": "stdout",
       "text": [
        " \n",
        "94212"
       ]
      },
      {
       "output_type": "stream",
       "stream": "stdout",
       "text": [
        " 94239\n",
        "94097"
       ]
      },
      {
       "output_type": "stream",
       "stream": "stdout",
       "text": [
        " 94099\n",
        "94023"
       ]
      },
      {
       "output_type": "stream",
       "stream": "stdout",
       "text": [
        " \n",
        "94327"
       ]
      },
      {
       "output_type": "stream",
       "stream": "stdout",
       "text": [
        " 94329\n",
        "94064"
       ]
      },
      {
       "output_type": "stream",
       "stream": "stdout",
       "text": [
        " \n",
        "94110"
       ]
      },
      {
       "output_type": "stream",
       "stream": "stdout",
       "text": [
        " 94111\n",
        "94193"
       ]
      },
      {
       "output_type": "stream",
       "stream": "stdout",
       "text": [
        " 94230\n",
        "94191"
       ]
      },
      {
       "output_type": "stream",
       "stream": "stdout",
       "text": [
        " 94228\n",
        "94191"
       ]
      },
      {
       "output_type": "stream",
       "stream": "stdout",
       "text": [
        " 94227\n",
        "94224"
       ]
      },
      {
       "output_type": "stream",
       "stream": "stdout",
       "text": [
        " 94225\n",
        "94217"
       ]
      },
      {
       "output_type": "stream",
       "stream": "stdout",
       "text": [
        " 94219\n",
        "94213"
       ]
      },
      {
       "output_type": "stream",
       "stream": "stdout",
       "text": [
        " 94214\n",
        "94193"
       ]
      },
      {
       "output_type": "stream",
       "stream": "stdout",
       "text": [
        " 94194\n",
        "94185"
       ]
      },
      {
       "output_type": "stream",
       "stream": "stdout",
       "text": [
        " \n",
        "94167"
       ]
      },
      {
       "output_type": "stream",
       "stream": "stdout",
       "text": [
        " \n",
        "94105"
       ]
      },
      {
       "output_type": "stream",
       "stream": "stdout",
       "text": [
        " \n",
        "94164"
       ]
      },
      {
       "output_type": "stream",
       "stream": "stdout",
       "text": [
        " \n",
        "94103"
       ]
      },
      {
       "output_type": "stream",
       "stream": "stdout",
       "text": [
        " \n",
        "94097"
       ]
      },
      {
       "output_type": "stream",
       "stream": "stdout",
       "text": [
        " 94098\n",
        "94091"
       ]
      },
      {
       "output_type": "stream",
       "stream": "stdout",
       "text": [
        " 94092\n",
        "94163"
       ]
      },
      {
       "output_type": "stream",
       "stream": "stdout",
       "text": [
        " \n",
        "94091"
       ]
      },
      {
       "output_type": "stream",
       "stream": "stdout",
       "text": [
        " 94091\n",
        "94088"
       ]
      },
      {
       "output_type": "stream",
       "stream": "stdout",
       "text": [
        " 94089\n",
        "94086"
       ]
      },
      {
       "output_type": "stream",
       "stream": "stdout",
       "text": [
        " \n",
        "94700"
       ]
      },
      {
       "output_type": "stream",
       "stream": "stdout",
       "text": [
        " \n",
        "94082"
       ]
      },
      {
       "output_type": "stream",
       "stream": "stdout",
       "text": [
        " 94083\n",
        "94081"
       ]
      },
      {
       "output_type": "stream",
       "stream": "stdout",
       "text": [
        " 94082\n",
        "94081"
       ]
      },
      {
       "output_type": "stream",
       "stream": "stdout",
       "text": [
        " \n",
        "94161"
       ]
      },
      {
       "output_type": "stream",
       "stream": "stdout",
       "text": [
        " \n",
        "94668"
       ]
      },
      {
       "output_type": "stream",
       "stream": "stdout",
       "text": [
        " \n",
        "94698"
       ]
      },
      {
       "output_type": "stream",
       "stream": "stdout",
       "text": [
        " \n",
        "94562"
       ]
      },
      {
       "output_type": "stream",
       "stream": "stdout",
       "text": [
        " \n",
        "94073"
       ]
      },
      {
       "output_type": "stream",
       "stream": "stdout",
       "text": [
        " \n",
        "94327"
       ]
      },
      {
       "output_type": "stream",
       "stream": "stdout",
       "text": [
        " 94328\n",
        "94063"
       ]
      },
      {
       "output_type": "stream",
       "stream": "stdout",
       "text": [
        " \n",
        "94191"
       ]
      },
      {
       "output_type": "stream",
       "stream": "stdout",
       "text": [
        " 94192\n",
        "94188"
       ]
      },
      {
       "output_type": "stream",
       "stream": "stdout",
       "text": [
        " \n",
        "94091"
       ]
      },
      {
       "output_type": "stream",
       "stream": "stdout",
       "text": [
        " 94057\n",
        "94095"
       ]
      },
      {
       "output_type": "stream",
       "stream": "stdout",
       "text": [
        " 94096\n",
        "94093"
       ]
      },
      {
       "output_type": "stream",
       "stream": "stdout",
       "text": [
        " 94094\n",
        "94093"
       ]
      },
      {
       "output_type": "stream",
       "stream": "stdout",
       "text": [
        " 94057\n",
        "94092"
       ]
      },
      {
       "output_type": "stream",
       "stream": "stdout",
       "text": [
        " 94091\n",
        "94090"
       ]
      },
      {
       "output_type": "stream",
       "stream": "stdout",
       "text": [
        " 94091\n",
        "94090"
       ]
      },
      {
       "output_type": "stream",
       "stream": "stdout",
       "text": [
        " 94089\n",
        "94184"
       ]
      },
      {
       "output_type": "stream",
       "stream": "stdout",
       "text": [
        " \n",
        "94075"
       ]
      },
      {
       "output_type": "stream",
       "stream": "stdout",
       "text": [
        " \n",
        "94019"
       ]
      },
      {
       "output_type": "stream",
       "stream": "stdout",
       "text": [
        " \n",
        "94074"
       ]
      },
      {
       "output_type": "stream",
       "stream": "stdout",
       "text": [
        " \n",
        "94018"
       ]
      },
      {
       "output_type": "stream",
       "stream": "stdout",
       "text": [
        " \n",
        "94017"
       ]
      },
      {
       "output_type": "stream",
       "stream": "stdout",
       "text": [
        " \n",
        "94072"
       ]
      },
      {
       "output_type": "stream",
       "stream": "stdout",
       "text": [
        " \n",
        "94105"
       ]
      },
      {
       "output_type": "stream",
       "stream": "stdout",
       "text": [
        " 94156\n",
        "94016"
       ]
      },
      {
       "output_type": "stream",
       "stream": "stdout",
       "text": [
        " \n",
        "94015"
       ]
      },
      {
       "output_type": "stream",
       "stream": "stdout",
       "text": [
        " \n",
        "94014"
       ]
      },
      {
       "output_type": "stream",
       "stream": "stdout",
       "text": [
        " \n",
        "94013"
       ]
      },
      {
       "output_type": "stream",
       "stream": "stdout",
       "text": [
        " \n",
        "94105"
       ]
      },
      {
       "output_type": "stream",
       "stream": "stdout",
       "text": [
        " 94158\n",
        "94012"
       ]
      },
      {
       "output_type": "stream",
       "stream": "stdout",
       "text": [
        " \n",
        "94011"
       ]
      },
      {
       "output_type": "stream",
       "stream": "stdout",
       "text": [
        " \n",
        "94010"
       ]
      },
      {
       "output_type": "stream",
       "stream": "stdout",
       "text": [
        " \n",
        "94009"
       ]
      },
      {
       "output_type": "stream",
       "stream": "stdout",
       "text": [
        " \n",
        "94561"
       ]
      },
      {
       "output_type": "stream",
       "stream": "stdout",
       "text": [
        " \n",
        "94008"
       ]
      },
      {
       "output_type": "stream",
       "stream": "stdout",
       "text": [
        " \n",
        "94066"
       ]
      },
      {
       "output_type": "stream",
       "stream": "stdout",
       "text": [
        " \n",
        "94007"
       ]
      },
      {
       "output_type": "stream",
       "stream": "stdout",
       "text": [
        " \n",
        "94062"
       ]
      },
      {
       "output_type": "stream",
       "stream": "stdout",
       "text": [
        " \n",
        "94053"
       ]
      },
      {
       "output_type": "stream",
       "stream": "stdout",
       "text": [
        " 94054\n",
        "94122"
       ]
      },
      {
       "output_type": "stream",
       "stream": "stdout",
       "text": [
        " \n",
        "94114"
       ]
      },
      {
       "output_type": "stream",
       "stream": "stdout",
       "text": [
        " \n",
        "94156"
       ]
      },
      {
       "output_type": "stream",
       "stream": "stdout",
       "text": [
        " 94158\n",
        "94155"
       ]
      },
      {
       "output_type": "stream",
       "stream": "stdout",
       "text": [
        " 94158\n",
        "94155"
       ]
      },
      {
       "output_type": "stream",
       "stream": "stdout",
       "text": [
        " 94157\n",
        "94156"
       ]
      },
      {
       "output_type": "stream",
       "stream": "stdout",
       "text": [
        " 94105\n",
        "94155"
       ]
      },
      {
       "output_type": "stream",
       "stream": "stdout",
       "text": [
        " 94156\n",
        "93841"
       ]
      },
      {
       "output_type": "stream",
       "stream": "stdout",
       "text": [
        " \n",
        "94154"
       ]
      },
      {
       "output_type": "stream",
       "stream": "stdout",
       "text": [
        " \n",
        "94153"
       ]
      },
      {
       "output_type": "stream",
       "stream": "stdout",
       "text": [
        " \n",
        "95136"
       ]
      },
      {
       "output_type": "stream",
       "stream": "stdout",
       "text": [
        " \n",
        "94152"
       ]
      },
      {
       "output_type": "stream",
       "stream": "stdout",
       "text": [
        " \n",
        "94150"
       ]
      },
      {
       "output_type": "stream",
       "stream": "stdout",
       "text": [
        " \n",
        "94149"
       ]
      },
      {
       "output_type": "stream",
       "stream": "stdout",
       "text": [
        " \n",
        "94541"
       ]
      },
      {
       "output_type": "stream",
       "stream": "stdout",
       "text": [
        " \n",
        "94148"
       ]
      },
      {
       "output_type": "stream",
       "stream": "stdout",
       "text": [
        " \n",
        "94336"
       ]
      },
      {
       "output_type": "stream",
       "stream": "stdout",
       "text": [
        " 94338\n",
        "94146"
       ]
      },
      {
       "output_type": "stream",
       "stream": "stdout",
       "text": [
        " \n",
        "94139"
       ]
      },
      {
       "output_type": "stream",
       "stream": "stdout",
       "text": [
        " \n",
        "94324"
       ]
      },
      {
       "output_type": "stream",
       "stream": "stdout",
       "text": [
        " 94325\n",
        "94138"
       ]
      },
      {
       "output_type": "stream",
       "stream": "stdout",
       "text": [
        " \n",
        "94321"
       ]
      },
      {
       "output_type": "stream",
       "stream": "stdout",
       "text": [
        " 94323\n",
        "94056"
       ]
      },
      {
       "output_type": "stream",
       "stream": "stdout",
       "text": [
        " \n",
        "94137"
       ]
      },
      {
       "output_type": "stream",
       "stream": "stdout",
       "text": [
        " \n",
        "94052"
       ]
      },
      {
       "output_type": "stream",
       "stream": "stdout",
       "text": [
        " 94053\n",
        "94560"
       ]
      },
      {
       "output_type": "stream",
       "stream": "stdout",
       "text": [
        " \n",
        "94055"
       ]
      },
      {
       "output_type": "stream",
       "stream": "stdout",
       "text": [
        " \n",
        "94404"
       ]
      },
      {
       "output_type": "stream",
       "stream": "stdout",
       "text": [
        " 94406\n",
        "93995"
       ]
      },
      {
       "output_type": "stream",
       "stream": "stdout",
       "text": [
        " \n",
        "93994"
       ]
      },
      {
       "output_type": "stream",
       "stream": "stdout",
       "text": [
        " \n",
        "94209"
       ]
      },
      {
       "output_type": "stream",
       "stream": "stdout",
       "text": [
        " 94238\n",
        "94207"
       ]
      },
      {
       "output_type": "stream",
       "stream": "stdout",
       "text": [
        " 94237\n",
        "93992"
       ]
      },
      {
       "output_type": "stream",
       "stream": "stdout",
       "text": [
        " \n",
        "94205"
       ]
      },
      {
       "output_type": "stream",
       "stream": "stdout",
       "text": [
        " 94236\n",
        "93991"
       ]
      },
      {
       "output_type": "stream",
       "stream": "stdout",
       "text": [
        " \n",
        "94203"
       ]
      },
      {
       "output_type": "stream",
       "stream": "stdout",
       "text": [
        " 94235\n",
        "94201"
       ]
      },
      {
       "output_type": "stream",
       "stream": "stdout",
       "text": [
        " 94234\n",
        "94199"
       ]
      },
      {
       "output_type": "stream",
       "stream": "stdout",
       "text": [
        " 94233\n",
        "94197"
       ]
      },
      {
       "output_type": "stream",
       "stream": "stdout",
       "text": [
        " 94232\n",
        "94195"
       ]
      },
      {
       "output_type": "stream",
       "stream": "stdout",
       "text": [
        " 94231\n",
        "94191"
       ]
      },
      {
       "output_type": "stream",
       "stream": "stdout",
       "text": [
        " 94226\n",
        "94217"
       ]
      },
      {
       "output_type": "stream",
       "stream": "stdout",
       "text": [
        " 94218\n",
        "94211"
       ]
      },
      {
       "output_type": "stream",
       "stream": "stdout",
       "text": [
        " 94212\n",
        "94209"
       ]
      },
      {
       "output_type": "stream",
       "stream": "stdout",
       "text": [
        " 94210\n",
        "94205"
       ]
      },
      {
       "output_type": "stream",
       "stream": "stdout",
       "text": [
        " 94206\n",
        "94203"
       ]
      },
      {
       "output_type": "stream",
       "stream": "stdout",
       "text": [
        " 94204\n",
        "94201"
       ]
      },
      {
       "output_type": "stream",
       "stream": "stdout",
       "text": [
        " 94202\n",
        "94197"
       ]
      },
      {
       "output_type": "stream",
       "stream": "stdout",
       "text": [
        " 94198\n",
        "94195"
       ]
      },
      {
       "output_type": "stream",
       "stream": "stdout",
       "text": [
        " 94196\n",
        "94502"
       ]
      },
      {
       "output_type": "stream",
       "stream": "stdout",
       "text": [
        " \n",
        "95155"
       ]
      },
      {
       "output_type": "stream",
       "stream": "stdout",
       "text": [
        " 95156\n",
        "94315"
       ]
      },
      {
       "output_type": "stream",
       "stream": "stdout",
       "text": [
        " 94317\n",
        "93970"
       ]
      },
      {
       "output_type": "stream",
       "stream": "stdout",
       "text": [
        " \n",
        "93969"
       ]
      },
      {
       "output_type": "stream",
       "stream": "stdout",
       "text": [
        " \n",
        "93967"
       ]
      },
      {
       "output_type": "stream",
       "stream": "stdout",
       "text": [
        " \n",
        "93965"
       ]
      },
      {
       "output_type": "stream",
       "stream": "stdout",
       "text": [
        " \n",
        "93951"
       ]
      },
      {
       "output_type": "stream",
       "stream": "stdout",
       "text": [
        " \n",
        "93949"
       ]
      },
      {
       "output_type": "stream",
       "stream": "stdout",
       "text": [
        " \n",
        "93944"
       ]
      },
      {
       "output_type": "stream",
       "stream": "stdout",
       "text": [
        " \n",
        "93939"
       ]
      },
      {
       "output_type": "stream",
       "stream": "stdout",
       "text": [
        " 93940\n",
        "93937"
       ]
      },
      {
       "output_type": "stream",
       "stream": "stdout",
       "text": [
        " 93938\n",
        "93903"
       ]
      },
      {
       "output_type": "stream",
       "stream": "stdout",
       "text": [
        " 93912\n",
        "93905"
       ]
      },
      {
       "output_type": "stream",
       "stream": "stdout",
       "text": [
        " 93903\n",
        "93912"
       ]
      },
      {
       "output_type": "stream",
       "stream": "stdout",
       "text": [
        " 93817\n",
        "93935"
       ]
      },
      {
       "output_type": "stream",
       "stream": "stdout",
       "text": [
        " \n",
        "93931"
       ]
      },
      {
       "output_type": "stream",
       "stream": "stdout",
       "text": [
        " \n",
        "93879"
       ]
      },
      {
       "output_type": "stream",
       "stream": "stdout",
       "text": [
        " \n",
        "93921"
       ]
      },
      {
       "output_type": "stream",
       "stream": "stdout",
       "text": [
        " 93922\n",
        "93906"
       ]
      },
      {
       "output_type": "stream",
       "stream": "stdout",
       "text": [
        " \n",
        "93876"
       ]
      },
      {
       "output_type": "stream",
       "stream": "stdout",
       "text": [
        " \n",
        "94179"
       ]
      },
      {
       "output_type": "stream",
       "stream": "stdout",
       "text": [
        " \n",
        "93837"
       ]
      },
      {
       "output_type": "stream",
       "stream": "stdout",
       "text": [
        " \n",
        "94050"
       ]
      },
      {
       "output_type": "stream",
       "stream": "stdout",
       "text": [
        " \n",
        "93947"
       ]
      },
      {
       "output_type": "stream",
       "stream": "stdout",
       "text": [
        " \n",
        "93946"
       ]
      },
      {
       "output_type": "stream",
       "stream": "stdout",
       "text": [
        " \n",
        "93830"
       ]
      },
      {
       "output_type": "stream",
       "stream": "stdout",
       "text": [
        " \n",
        "93903"
       ]
      },
      {
       "output_type": "stream",
       "stream": "stdout",
       "text": [
        " 93905\n",
        "93905"
       ]
      },
      {
       "output_type": "stream",
       "stream": "stdout",
       "text": [
        " 93815\n",
        "93905"
       ]
      },
      {
       "output_type": "stream",
       "stream": "stdout",
       "text": [
        " 93816\n",
        "93933"
       ]
      },
      {
       "output_type": "stream",
       "stream": "stdout",
       "text": [
        " \n",
        "93853"
       ]
      },
      {
       "output_type": "stream",
       "stream": "stdout",
       "text": [
        " 93854\n",
        "93919"
       ]
      },
      {
       "output_type": "stream",
       "stream": "stdout",
       "text": [
        " 93920\n",
        "93917"
       ]
      },
      {
       "output_type": "stream",
       "stream": "stdout",
       "text": [
        " 93918\n",
        "93847"
       ]
      },
      {
       "output_type": "stream",
       "stream": "stdout",
       "text": [
        " 93848\n",
        "93908"
       ]
      },
      {
       "output_type": "stream",
       "stream": "stdout",
       "text": [
        " \n",
        "93907"
       ]
      },
      {
       "output_type": "stream",
       "stream": "stdout",
       "text": [
        " \n",
        "93902"
       ]
      },
      {
       "output_type": "stream",
       "stream": "stdout",
       "text": [
        " \n",
        "93898"
       ]
      },
      {
       "output_type": "stream",
       "stream": "stdout",
       "text": [
        " \n",
        "93868"
       ]
      },
      {
       "output_type": "stream",
       "stream": "stdout",
       "text": [
        " 93870\n",
        "94048"
       ]
      },
      {
       "output_type": "stream",
       "stream": "stdout",
       "text": [
        " \n",
        "93864"
       ]
      },
      {
       "output_type": "stream",
       "stream": "stdout",
       "text": [
        " 93867\n",
        "93864"
       ]
      },
      {
       "output_type": "stream",
       "stream": "stdout",
       "text": [
        " 93866\n",
        "94181"
       ]
      },
      {
       "output_type": "stream",
       "stream": "stdout",
       "text": [
        " \n",
        "94180"
       ]
      },
      {
       "output_type": "stream",
       "stream": "stdout",
       "text": [
        " \n",
        "95355"
       ]
      },
      {
       "output_type": "stream",
       "stream": "stdout",
       "text": [
        " \n",
        "94174"
       ]
      },
      {
       "output_type": "stream",
       "stream": "stdout",
       "text": [
        " \n",
        "94408"
       ]
      },
      {
       "output_type": "stream",
       "stream": "stdout",
       "text": [
        " 94410\n",
        "91127"
       ]
      },
      {
       "output_type": "stream",
       "stream": "stdout",
       "text": [
        " 91128\n",
        "94398"
       ]
      },
      {
       "output_type": "stream",
       "stream": "stdout",
       "text": [
        " 94400\n",
        "94321"
       ]
      },
      {
       "output_type": "stream",
       "stream": "stdout",
       "text": [
        " 94322\n",
        "91233"
       ]
      },
      {
       "output_type": "stream",
       "stream": "stdout",
       "text": [
        " \n",
        "93895"
       ]
      },
      {
       "output_type": "stream",
       "stream": "stdout",
       "text": [
        " \n",
        "95153"
       ]
      },
      {
       "output_type": "stream",
       "stream": "stdout",
       "text": [
        " 95154\n",
        "94318"
       ]
      },
      {
       "output_type": "stream",
       "stream": "stdout",
       "text": [
        " 94319\n",
        "94108"
       ]
      },
      {
       "output_type": "stream",
       "stream": "stdout",
       "text": [
        " \n",
        "93873"
       ]
      },
      {
       "output_type": "stream",
       "stream": "stdout",
       "text": [
        " \n",
        "94315"
       ]
      },
      {
       "output_type": "stream",
       "stream": "stdout",
       "text": [
        " 94316\n",
        "93829"
       ]
      },
      {
       "output_type": "stream",
       "stream": "stdout",
       "text": [
        " \n",
        "93868"
       ]
      },
      {
       "output_type": "stream",
       "stream": "stdout",
       "text": [
        " 93871\n",
        "93981"
       ]
      },
      {
       "output_type": "stream",
       "stream": "stdout",
       "text": [
        " \n",
        "93864"
       ]
      },
      {
       "output_type": "stream",
       "stream": "stdout",
       "text": [
        " 93865\n",
        "94046"
       ]
      },
      {
       "output_type": "stream",
       "stream": "stdout",
       "text": [
        " 94047\n",
        "93859"
       ]
      },
      {
       "output_type": "stream",
       "stream": "stdout",
       "text": [
        " 93863\n",
        "93859"
       ]
      },
      {
       "output_type": "stream",
       "stream": "stdout",
       "text": [
        " 93862\n",
        "93859"
       ]
      },
      {
       "output_type": "stream",
       "stream": "stdout",
       "text": [
        " 93861\n",
        "93859"
       ]
      },
      {
       "output_type": "stream",
       "stream": "stdout",
       "text": [
        " 93860\n",
        "93857"
       ]
      },
      {
       "output_type": "stream",
       "stream": "stdout",
       "text": [
        " 93858\n",
        "93828"
       ]
      },
      {
       "output_type": "stream",
       "stream": "stdout",
       "text": [
        " 93856\n",
        "93850"
       ]
      },
      {
       "output_type": "stream",
       "stream": "stdout",
       "text": [
        " 93854\n",
        "93850"
       ]
      },
      {
       "output_type": "stream",
       "stream": "stdout",
       "text": [
        " 93853\n",
        "93850"
       ]
      },
      {
       "output_type": "stream",
       "stream": "stdout",
       "text": [
        " 93852\n",
        "93850"
       ]
      },
      {
       "output_type": "stream",
       "stream": "stdout",
       "text": [
        " 93851\n",
        "93844"
       ]
      },
      {
       "output_type": "stream",
       "stream": "stdout",
       "text": [
        " 93849\n",
        "93844"
       ]
      },
      {
       "output_type": "stream",
       "stream": "stdout",
       "text": [
        " 93848\n",
        "93844"
       ]
      },
      {
       "output_type": "stream",
       "stream": "stdout",
       "text": [
        " 93847\n",
        "93844"
       ]
      },
      {
       "output_type": "stream",
       "stream": "stdout",
       "text": [
        " 93846\n",
        "93844"
       ]
      },
      {
       "output_type": "stream",
       "stream": "stdout",
       "text": [
        " 93845\n",
        "93837"
       ]
      },
      {
       "output_type": "stream",
       "stream": "stdout",
       "text": [
        " 93843\n",
        "93837"
       ]
      },
      {
       "output_type": "stream",
       "stream": "stdout",
       "text": [
        " 93842\n",
        "93837"
       ]
      },
      {
       "output_type": "stream",
       "stream": "stdout",
       "text": [
        " 93841\n",
        "93834"
       ]
      },
      {
       "output_type": "stream",
       "stream": "stdout",
       "text": [
        " 93840\n",
        "93834"
       ]
      },
      {
       "output_type": "stream",
       "stream": "stdout",
       "text": [
        " 93839\n",
        "93837"
       ]
      },
      {
       "output_type": "stream",
       "stream": "stdout",
       "text": [
        " 93838\n",
        "93834"
       ]
      },
      {
       "output_type": "stream",
       "stream": "stdout",
       "text": [
        " 93836\n",
        "93834"
       ]
      },
      {
       "output_type": "stream",
       "stream": "stdout",
       "text": [
        " 93835\n",
        "93828"
       ]
      },
      {
       "output_type": "stream",
       "stream": "stdout",
       "text": [
        " \n",
        "93829"
       ]
      },
      {
       "output_type": "stream",
       "stream": "stdout",
       "text": [
        " 93833\n",
        "93829"
       ]
      },
      {
       "output_type": "stream",
       "stream": "stdout",
       "text": [
        " 93832\n",
        "93829"
       ]
      },
      {
       "output_type": "stream",
       "stream": "stdout",
       "text": [
        " 93830\n",
        "93828"
       ]
      },
      {
       "output_type": "stream",
       "stream": "stdout",
       "text": [
        " 93817\n",
        "93828"
       ]
      },
      {
       "output_type": "stream",
       "stream": "stdout",
       "text": [
        " 93816\n",
        "93828"
       ]
      },
      {
       "output_type": "stream",
       "stream": "stdout",
       "text": [
        " 93815\n",
        "94540"
       ]
      },
      {
       "output_type": "stream",
       "stream": "stdout",
       "text": [
        " \n",
        "95224"
       ]
      },
      {
       "output_type": "stream",
       "stream": "stdout",
       "text": [
        " 95224\n",
        "94045"
       ]
      },
      {
       "output_type": "stream",
       "stream": "stdout",
       "text": [
        " \n",
        "93769"
       ]
      },
      {
       "output_type": "stream",
       "stream": "stdout",
       "text": [
        " \n",
        "93804"
       ]
      },
      {
       "output_type": "stream",
       "stream": "stdout",
       "text": [
        " 93805\n",
        "93802"
       ]
      },
      {
       "output_type": "stream",
       "stream": "stdout",
       "text": [
        " \n",
        "93980"
       ]
      },
      {
       "output_type": "stream",
       "stream": "stdout",
       "text": [
        " \n",
        "94221"
       ]
      },
      {
       "output_type": "stream",
       "stream": "stdout",
       "text": [
        " 94223\n",
        "94215"
       ]
      },
      {
       "output_type": "stream",
       "stream": "stdout",
       "text": [
        " 94216\n",
        "94207"
       ]
      },
      {
       "output_type": "stream",
       "stream": "stdout",
       "text": [
        " 94208\n",
        "94199"
       ]
      },
      {
       "output_type": "stream",
       "stream": "stdout",
       "text": [
        " 94200\n",
        "94189"
       ]
      },
      {
       "output_type": "stream",
       "stream": "stdout",
       "text": [
        " 94190\n",
        "93795"
       ]
      },
      {
       "output_type": "stream",
       "stream": "stdout",
       "text": [
        " 93796\n",
        "93789"
       ]
      },
      {
       "output_type": "stream",
       "stream": "stdout",
       "text": [
        " \n",
        "93764"
       ]
      },
      {
       "output_type": "stream",
       "stream": "stdout",
       "text": [
        " \n",
        "94119"
       ]
      },
      {
       "output_type": "stream",
       "stream": "stdout",
       "text": [
        " \n",
        "94479"
       ]
      },
      {
       "output_type": "stream",
       "stream": "stdout",
       "text": [
        " \n",
        "93961"
       ]
      },
      {
       "output_type": "stream",
       "stream": "stdout",
       "text": [
        " 93962\n",
        "94117"
       ]
      },
      {
       "output_type": "stream",
       "stream": "stdout",
       "text": [
        " \n",
        "93961"
       ]
      },
      {
       "output_type": "stream",
       "stream": "stdout",
       "text": [
        " \n",
        "93960"
       ]
      },
      {
       "output_type": "stream",
       "stream": "stdout",
       "text": [
        " \n",
        "94312"
       ]
      },
      {
       "output_type": "stream",
       "stream": "stdout",
       "text": [
        " 94314\n",
        "94107"
       ]
      },
      {
       "output_type": "stream",
       "stream": "stdout",
       "text": [
        " \n",
        "93956"
       ]
      },
      {
       "output_type": "stream",
       "stream": "stdout",
       "text": [
        " 93957\n",
        "93955"
       ]
      },
      {
       "output_type": "stream",
       "stream": "stdout",
       "text": [
        " \n",
        "93709"
       ]
      },
      {
       "output_type": "stream",
       "stream": "stdout",
       "text": [
        " 93708\n",
        "93954"
       ]
      },
      {
       "output_type": "stream",
       "stream": "stdout",
       "text": [
        " \n",
        "95151"
       ]
      },
      {
       "output_type": "stream",
       "stream": "stdout",
       "text": [
        " 95152\n",
        "93893"
       ]
      },
      {
       "output_type": "stream",
       "stream": "stdout",
       "text": [
        " \n",
        "93826"
       ]
      },
      {
       "output_type": "stream",
       "stream": "stdout",
       "text": [
        " \n",
        "93824"
       ]
      },
      {
       "output_type": "stream",
       "stream": "stdout",
       "text": [
        " \n",
        "93821"
       ]
      },
      {
       "output_type": "stream",
       "stream": "stdout",
       "text": [
        " \n",
        "93820"
       ]
      },
      {
       "output_type": "stream",
       "stream": "stdout",
       "text": [
        " \n",
        "93816"
       ]
      },
      {
       "output_type": "stream",
       "stream": "stdout",
       "text": [
        " 93817\n",
        "93962"
       ]
      },
      {
       "output_type": "stream",
       "stream": "stdout",
       "text": [
        " 93985\n",
        "93983"
       ]
      },
      {
       "output_type": "stream",
       "stream": "stdout",
       "text": [
        " \n",
        "93892"
       ]
      },
      {
       "output_type": "stream",
       "stream": "stdout",
       "text": [
        " \n",
        "93766"
       ]
      },
      {
       "output_type": "stream",
       "stream": "stdout",
       "text": [
        " 93771\n",
        "93803"
       ]
      },
      {
       "output_type": "stream",
       "stream": "stdout",
       "text": [
        " \n",
        "95327"
       ]
      },
      {
       "output_type": "stream",
       "stream": "stdout",
       "text": [
        " 95328\n",
        "93797"
       ]
      },
      {
       "output_type": "stream",
       "stream": "stdout",
       "text": [
        " 93798\n",
        "93794"
       ]
      },
      {
       "output_type": "stream",
       "stream": "stdout",
       "text": [
        " 93794\n",
        "93787"
       ]
      },
      {
       "output_type": "stream",
       "stream": "stdout",
       "text": [
        " 93788\n",
        "93785"
       ]
      },
      {
       "output_type": "stream",
       "stream": "stdout",
       "text": [
        " 93786\n",
        "93783"
       ]
      },
      {
       "output_type": "stream",
       "stream": "stdout",
       "text": [
        " 93784\n",
        "93781"
       ]
      },
      {
       "output_type": "stream",
       "stream": "stdout",
       "text": [
        " 93782\n",
        "93779"
       ]
      },
      {
       "output_type": "stream",
       "stream": "stdout",
       "text": [
        " 93780\n",
        "93709"
       ]
      },
      {
       "output_type": "stream",
       "stream": "stdout",
       "text": [
        " 93759\n",
        "93708"
       ]
      },
      {
       "output_type": "stream",
       "stream": "stdout",
       "text": [
        " 93759\n",
        "93776"
       ]
      },
      {
       "output_type": "stream",
       "stream": "stdout",
       "text": [
        " 93759\n",
        "93774"
       ]
      },
      {
       "output_type": "stream",
       "stream": "stdout",
       "text": [
        " 93775\n",
        "93773"
       ]
      },
      {
       "output_type": "stream",
       "stream": "stdout",
       "text": [
        " 93772\n",
        "93755"
       ]
      },
      {
       "output_type": "stream",
       "stream": "stdout",
       "text": [
        " 93756\n",
        "93749"
       ]
      },
      {
       "output_type": "stream",
       "stream": "stdout",
       "text": [
        " \n",
        "93745"
       ]
      },
      {
       "output_type": "stream",
       "stream": "stdout",
       "text": [
        " \n",
        "93735"
       ]
      },
      {
       "output_type": "stream",
       "stream": "stdout",
       "text": [
        " 93736\n",
        "93730"
       ]
      },
      {
       "output_type": "stream",
       "stream": "stdout",
       "text": [
        " 93732\n",
        "93730"
       ]
      },
      {
       "output_type": "stream",
       "stream": "stdout",
       "text": [
        " \n",
        "93682"
       ]
      },
      {
       "output_type": "stream",
       "stream": "stdout",
       "text": [
        " 93684\n",
        "93682"
       ]
      },
      {
       "output_type": "stream",
       "stream": "stdout",
       "text": [
        " 93683\n",
        "93682"
       ]
      },
      {
       "output_type": "stream",
       "stream": "stdout",
       "text": [
        " \n",
        "93661"
       ]
      },
      {
       "output_type": "stream",
       "stream": "stdout",
       "text": [
        " \n",
        "93532"
       ]
      },
      {
       "output_type": "stream",
       "stream": "stdout",
       "text": [
        " \n",
        "93530"
       ]
      },
      {
       "output_type": "stream",
       "stream": "stdout",
       "text": [
        " \n",
        "93529"
       ]
      },
      {
       "output_type": "stream",
       "stream": "stdout",
       "text": [
        " \n",
        "93528"
       ]
      },
      {
       "output_type": "stream",
       "stream": "stdout",
       "text": [
        " \n",
        "93717"
       ]
      },
      {
       "output_type": "stream",
       "stream": "stdout",
       "text": [
        " \n",
        "93684"
       ]
      },
      {
       "output_type": "stream",
       "stream": "stdout",
       "text": [
        " 93682\n",
        "93706"
       ]
      },
      {
       "output_type": "stream",
       "stream": "stdout",
       "text": [
        " 93707\n",
        "93662"
       ]
      },
      {
       "output_type": "stream",
       "stream": "stdout",
       "text": [
        " 93660\n",
        "93698"
       ]
      },
      {
       "output_type": "stream",
       "stream": "stdout",
       "text": [
        " 93699\n",
        "93692"
       ]
      },
      {
       "output_type": "stream",
       "stream": "stdout",
       "text": [
        " 93693\n",
        "93524"
       ]
      },
      {
       "output_type": "stream",
       "stream": "stdout",
       "text": [
        " \n",
        "93689"
       ]
      },
      {
       "output_type": "stream",
       "stream": "stdout",
       "text": [
        " 93690\n",
        "93653"
       ]
      },
      {
       "output_type": "stream",
       "stream": "stdout",
       "text": [
        " 93668\n",
        "93523"
       ]
      },
      {
       "output_type": "stream",
       "stream": "stdout",
       "text": [
        " \n",
        "93685"
       ]
      },
      {
       "output_type": "stream",
       "stream": "stdout",
       "text": [
        " 93686\n",
        "93522"
       ]
      },
      {
       "output_type": "stream",
       "stream": "stdout",
       "text": [
        " \n",
        "93680"
       ]
      },
      {
       "output_type": "stream",
       "stream": "stdout",
       "text": [
        " 93681\n",
        "93891"
       ]
      },
      {
       "output_type": "stream",
       "stream": "stdout",
       "text": [
        " \n",
        "93533"
       ]
      },
      {
       "output_type": "stream",
       "stream": "stdout",
       "text": [
        " \n",
        "93526"
       ]
      },
      {
       "output_type": "stream",
       "stream": "stdout",
       "text": [
        " \n",
        "93506"
       ]
      },
      {
       "output_type": "stream",
       "stream": "stdout",
       "text": [
        " 93507\n",
        "93505"
       ]
      },
      {
       "output_type": "stream",
       "stream": "stdout",
       "text": [
        " \n",
        "93488"
       ]
      },
      {
       "output_type": "stream",
       "stream": "stdout",
       "text": [
        " \n",
        "93501"
       ]
      },
      {
       "output_type": "stream",
       "stream": "stdout",
       "text": [
        " 93502\n",
        "93499"
       ]
      },
      {
       "output_type": "stream",
       "stream": "stdout",
       "text": [
        " 93500\n",
        "93455"
       ]
      },
      {
       "output_type": "stream",
       "stream": "stdout",
       "text": [
        " 93433\n",
        "93496"
       ]
      },
      {
       "output_type": "stream",
       "stream": "stdout",
       "text": [
        " \n",
        "93493"
       ]
      },
      {
       "output_type": "stream",
       "stream": "stdout",
       "text": [
        " \n",
        "93495"
       ]
      },
      {
       "output_type": "stream",
       "stream": "stdout",
       "text": [
        " \n",
        "93495"
       ]
      },
      {
       "output_type": "stream",
       "stream": "stdout",
       "text": [
        " 93385\n",
        "92555"
       ]
      },
      {
       "output_type": "stream",
       "stream": "stdout",
       "text": [
        " 93390\n",
        "93493"
       ]
      },
      {
       "output_type": "stream",
       "stream": "stdout",
       "text": [
        " 93433\n",
        "93494"
       ]
      },
      {
       "output_type": "stream",
       "stream": "stdout",
       "text": [
        " 93435\n",
        "93434"
       ]
      },
      {
       "output_type": "stream",
       "stream": "stdout",
       "text": [
        " \n",
        "93492"
       ]
      },
      {
       "output_type": "stream",
       "stream": "stdout",
       "text": [
        " \n",
        "93680"
       ]
      },
      {
       "output_type": "stream",
       "stream": "stdout",
       "text": [
        " \n",
        "94538"
       ]
      },
      {
       "output_type": "stream",
       "stream": "stdout",
       "text": [
        " 94539\n",
        "94111"
       ]
      },
      {
       "output_type": "stream",
       "stream": "stdout",
       "text": [
        " \n",
        "93809"
       ]
      },
      {
       "output_type": "stream",
       "stream": "stdout",
       "text": [
        " \n",
        "93493"
       ]
      },
      {
       "output_type": "stream",
       "stream": "stdout",
       "text": [
        " 93390\n",
        "93772"
       ]
      },
      {
       "output_type": "stream",
       "stream": "stdout",
       "text": [
        " \n",
        "93757"
       ]
      },
      {
       "output_type": "stream",
       "stream": "stdout",
       "text": [
        " 93758\n",
        "93754"
       ]
      },
      {
       "output_type": "stream",
       "stream": "stdout",
       "text": [
        " \n",
        "93751"
       ]
      },
      {
       "output_type": "stream",
       "stream": "stdout",
       "text": [
        " \n",
        "93750"
       ]
      },
      {
       "output_type": "stream",
       "stream": "stdout",
       "text": [
        " \n",
        "93748"
       ]
      },
      {
       "output_type": "stream",
       "stream": "stdout",
       "text": [
        " \n",
        "93744"
       ]
      },
      {
       "output_type": "stream",
       "stream": "stdout",
       "text": [
        " \n",
        "93743"
       ]
      },
      {
       "output_type": "stream",
       "stream": "stdout",
       "text": [
        " 93742\n",
        "90829"
       ]
      },
      {
       "output_type": "stream",
       "stream": "stdout",
       "text": [
        " 93742\n",
        "91120"
       ]
      },
      {
       "output_type": "stream",
       "stream": "stdout",
       "text": [
        " 93742\n",
        "93741"
       ]
      },
      {
       "output_type": "stream",
       "stream": "stdout",
       "text": [
        " 93740\n",
        "93739"
       ]
      },
      {
       "output_type": "stream",
       "stream": "stdout",
       "text": [
        " 93740\n",
        "93739"
       ]
      },
      {
       "output_type": "stream",
       "stream": "stdout",
       "text": [
        " \n",
        "93738"
       ]
      },
      {
       "output_type": "stream",
       "stream": "stdout",
       "text": [
        " \n",
        "93721"
       ]
      },
      {
       "output_type": "stream",
       "stream": "stdout",
       "text": [
        " 93722\n",
        "93720"
       ]
      },
      {
       "output_type": "stream",
       "stream": "stdout",
       "text": [
        " \n",
        "93718"
       ]
      },
      {
       "output_type": "stream",
       "stream": "stdout",
       "text": [
        " 93719\n",
        "93716"
       ]
      },
      {
       "output_type": "stream",
       "stream": "stdout",
       "text": [
        " \n",
        "93714"
       ]
      },
      {
       "output_type": "stream",
       "stream": "stdout",
       "text": [
        " \n",
        "93713"
       ]
      },
      {
       "output_type": "stream",
       "stream": "stdout",
       "text": [
        " 93684\n",
        "93712"
       ]
      },
      {
       "output_type": "stream",
       "stream": "stdout",
       "text": [
        " 93684\n",
        "93683"
       ]
      },
      {
       "output_type": "stream",
       "stream": "stdout",
       "text": [
        " 93682\n",
        "93678"
       ]
      },
      {
       "output_type": "stream",
       "stream": "stdout",
       "text": [
        " 93691\n",
        "94646"
       ]
      },
      {
       "output_type": "stream",
       "stream": "stdout",
       "text": [
        " \n",
        "93889"
       ]
      },
      {
       "output_type": "stream",
       "stream": "stdout",
       "text": [
        " \n",
        "93653"
       ]
      },
      {
       "output_type": "stream",
       "stream": "stdout",
       "text": [
        " 93580\n",
        "94358"
       ]
      },
      {
       "output_type": "stream",
       "stream": "stdout",
       "text": [
        " 94360\n",
        "93662"
       ]
      },
      {
       "output_type": "stream",
       "stream": "stdout",
       "text": [
        " 93661\n",
        "93657"
       ]
      },
      {
       "output_type": "stream",
       "stream": "stdout",
       "text": [
        " 93659\n",
        "93632"
       ]
      },
      {
       "output_type": "stream",
       "stream": "stdout",
       "text": [
        " \n",
        "94133"
       ]
      },
      {
       "output_type": "stream",
       "stream": "stdout",
       "text": [
        " \n",
        "93629"
       ]
      },
      {
       "output_type": "stream",
       "stream": "stdout",
       "text": [
        " \n",
        "93656"
       ]
      },
      {
       "output_type": "stream",
       "stream": "stdout",
       "text": [
        " 93659\n",
        "93759"
       ]
      },
      {
       "output_type": "stream",
       "stream": "stdout",
       "text": [
        " 93762\n",
        "93759"
       ]
      },
      {
       "output_type": "stream",
       "stream": "stdout",
       "text": [
        " \n",
        "93667"
       ]
      },
      {
       "output_type": "stream",
       "stream": "stdout",
       "text": [
        " 93734\n",
        "93655"
       ]
      },
      {
       "output_type": "stream",
       "stream": "stdout",
       "text": [
        " 93640\n",
        "93654"
       ]
      },
      {
       "output_type": "stream",
       "stream": "stdout",
       "text": [
        " 93640\n",
        "93733"
       ]
      },
      {
       "output_type": "stream",
       "stream": "stdout",
       "text": [
        " 93732\n",
        "93731"
       ]
      },
      {
       "output_type": "stream",
       "stream": "stdout",
       "text": [
        " 93732\n",
        "93728"
       ]
      },
      {
       "output_type": "stream",
       "stream": "stdout",
       "text": [
        " 93729\n",
        "93727"
       ]
      },
      {
       "output_type": "stream",
       "stream": "stdout",
       "text": [
        " 93727\n",
        "93701"
       ]
      },
      {
       "output_type": "stream",
       "stream": "stdout",
       "text": [
        " 93726\n",
        "93725"
       ]
      },
      {
       "output_type": "stream",
       "stream": "stdout",
       "text": [
        " \n",
        "93721"
       ]
      },
      {
       "output_type": "stream",
       "stream": "stdout",
       "text": [
        " \n",
        "93704"
       ]
      },
      {
       "output_type": "stream",
       "stream": "stdout",
       "text": [
        " 93705\n",
        "93702"
       ]
      },
      {
       "output_type": "stream",
       "stream": "stdout",
       "text": [
        " 93703\n",
        "93687"
       ]
      },
      {
       "output_type": "stream",
       "stream": "stdout",
       "text": [
        " 93688\n",
        "93655"
       ]
      },
      {
       "output_type": "stream",
       "stream": "stdout",
       "text": [
        " 93668\n",
        "93669"
       ]
      },
      {
       "output_type": "stream",
       "stream": "stdout",
       "text": [
        " 93670\n",
        "93581"
       ]
      },
      {
       "output_type": "stream",
       "stream": "stdout",
       "text": [
        " 93654\n",
        "93668"
       ]
      },
      {
       "output_type": "stream",
       "stream": "stdout",
       "text": [
        " \n",
        "93664"
       ]
      },
      {
       "output_type": "stream",
       "stream": "stdout",
       "text": [
        " 93645\n",
        "93660"
       ]
      },
      {
       "output_type": "stream",
       "stream": "stdout",
       "text": [
        " 93661\n",
        "94536"
       ]
      },
      {
       "output_type": "stream",
       "stream": "stdout",
       "text": [
        " 94537\n",
        "93890"
       ]
      },
      {
       "output_type": "stream",
       "stream": "stdout",
       "text": [
        " \n",
        "93888"
       ]
      },
      {
       "output_type": "stream",
       "stream": "stdout",
       "text": [
        " \n",
        "93760"
       ]
      },
      {
       "output_type": "stream",
       "stream": "stdout",
       "text": [
        " \n",
        "93678"
       ]
      },
      {
       "output_type": "stream",
       "stream": "stdout",
       "text": [
        " \n",
        "93667"
       ]
      },
      {
       "output_type": "stream",
       "stream": "stdout",
       "text": [
        " 93673\n",
        "93582"
       ]
      },
      {
       "output_type": "stream",
       "stream": "stdout",
       "text": [
        " 93655\n",
        "93640"
       ]
      },
      {
       "output_type": "stream",
       "stream": "stdout",
       "text": [
        " 93555\n",
        "93379"
       ]
      },
      {
       "output_type": "stream",
       "stream": "stdout",
       "text": [
        " 93385\n",
        "93439"
       ]
      },
      {
       "output_type": "stream",
       "stream": "stdout",
       "text": [
        " 93440\n",
        "93663"
       ]
      },
      {
       "output_type": "stream",
       "stream": "stdout",
       "text": [
        " 93661\n",
        "93409"
       ]
      },
      {
       "output_type": "stream",
       "stream": "stdout",
       "text": [
        " 93469\n",
        "93375"
       ]
      },
      {
       "output_type": "stream",
       "stream": "stdout",
       "text": [
        " 93466\n",
        "93375"
       ]
      },
      {
       "output_type": "stream",
       "stream": "stdout",
       "text": [
        " 93464\n",
        "93459"
       ]
      },
      {
       "output_type": "stream",
       "stream": "stdout",
       "text": [
        " 93458\n",
        "93455"
       ]
      },
      {
       "output_type": "stream",
       "stream": "stdout",
       "text": [
        " 93390\n",
        "95149"
       ]
      },
      {
       "output_type": "stream",
       "stream": "stdout",
       "text": [
        " 95150\n",
        "93887"
       ]
      },
      {
       "output_type": "stream",
       "stream": "stdout",
       "text": [
        " \n",
        "93771"
       ]
      },
      {
       "output_type": "stream",
       "stream": "stdout",
       "text": [
        " 93766\n",
        "93616"
       ]
      },
      {
       "output_type": "stream",
       "stream": "stdout",
       "text": [
        " 93570\n",
        "93445"
       ]
      },
      {
       "output_type": "stream",
       "stream": "stdout",
       "text": [
        " 93448\n",
        "94312"
       ]
      },
      {
       "output_type": "stream",
       "stream": "stdout",
       "text": [
        " 94313\n",
        "93445"
       ]
      },
      {
       "output_type": "stream",
       "stream": "stdout",
       "text": [
        " 93447\n",
        "93600"
       ]
      },
      {
       "output_type": "stream",
       "stream": "stdout",
       "text": [
        " 93613\n",
        "93624"
       ]
      },
      {
       "output_type": "stream",
       "stream": "stdout",
       "text": [
        " 93625\n",
        "93622"
       ]
      },
      {
       "output_type": "stream",
       "stream": "stdout",
       "text": [
        " 93623\n",
        "93620"
       ]
      },
      {
       "output_type": "stream",
       "stream": "stdout",
       "text": [
        " \n",
        "93619"
       ]
      },
      {
       "output_type": "stream",
       "stream": "stdout",
       "text": [
        " \n",
        "93617"
       ]
      },
      {
       "output_type": "stream",
       "stream": "stdout",
       "text": [
        " 93618\n",
        "93614"
       ]
      },
      {
       "output_type": "stream",
       "stream": "stdout",
       "text": [
        " 93615\n",
        "93611"
       ]
      },
      {
       "output_type": "stream",
       "stream": "stdout",
       "text": [
        " 93612\n",
        "93610"
       ]
      },
      {
       "output_type": "stream",
       "stream": "stdout",
       "text": [
        " 93577\n",
        "93608"
       ]
      },
      {
       "output_type": "stream",
       "stream": "stdout",
       "text": [
        " 93609\n",
        "93602"
       ]
      },
      {
       "output_type": "stream",
       "stream": "stdout",
       "text": [
        " 93603\n",
        "93592"
       ]
      },
      {
       "output_type": "stream",
       "stream": "stdout",
       "text": [
        " 93593\n",
        "93658"
       ]
      },
      {
       "output_type": "stream",
       "stream": "stdout",
       "text": [
        " 93659\n",
        "93587"
       ]
      },
      {
       "output_type": "stream",
       "stream": "stdout",
       "text": [
        " 93589\n",
        "94556"
       ]
      },
      {
       "output_type": "stream",
       "stream": "stdout",
       "text": [
        " \n",
        "94490"
       ]
      },
      {
       "output_type": "stream",
       "stream": "stdout",
       "text": [
        " \n",
        "93453"
       ]
      },
      {
       "output_type": "stream",
       "stream": "stdout",
       "text": [
        " 93452\n",
        "93450"
       ]
      },
      {
       "output_type": "stream",
       "stream": "stdout",
       "text": [
        " 93452\n",
        "93577"
       ]
      },
      {
       "output_type": "stream",
       "stream": "stdout",
       "text": [
        " \n",
        "93451"
       ]
      },
      {
       "output_type": "stream",
       "stream": "stdout",
       "text": [
        " 93452\n",
        "93445"
       ]
      },
      {
       "output_type": "stream",
       "stream": "stdout",
       "text": [
        " 93446\n",
        "93770"
       ]
      },
      {
       "output_type": "stream",
       "stream": "stdout",
       "text": [
        " 93767\n",
        "93606"
       ]
      },
      {
       "output_type": "stream",
       "stream": "stdout",
       "text": [
        " 93607\n",
        "93604"
       ]
      },
      {
       "output_type": "stream",
       "stream": "stdout",
       "text": [
        " 93605\n",
        "93580"
       ]
      },
      {
       "output_type": "stream",
       "stream": "stdout",
       "text": [
        " 93555\n",
        "93596"
       ]
      },
      {
       "output_type": "stream",
       "stream": "stdout",
       "text": [
        " 93597\n",
        "93578"
       ]
      },
      {
       "output_type": "stream",
       "stream": "stdout",
       "text": [
        " \n",
        "93380"
       ]
      },
      {
       "output_type": "stream",
       "stream": "stdout",
       "text": [
        " 93468\n",
        "93576"
       ]
      },
      {
       "output_type": "stream",
       "stream": "stdout",
       "text": [
        " \n",
        "93574"
       ]
      },
      {
       "output_type": "stream",
       "stream": "stdout",
       "text": [
        " \n",
        "93380"
       ]
      },
      {
       "output_type": "stream",
       "stream": "stdout",
       "text": [
        " \n",
        "93375"
       ]
      },
      {
       "output_type": "stream",
       "stream": "stdout",
       "text": [
        " 93465\n",
        "95345"
       ]
      },
      {
       "output_type": "stream",
       "stream": "stdout",
       "text": [
        " \n",
        "93460"
       ]
      },
      {
       "output_type": "stream",
       "stream": "stdout",
       "text": [
        " \n",
        "93457"
       ]
      },
      {
       "output_type": "stream",
       "stream": "stdout",
       "text": [
        " 93456\n",
        "93456"
       ]
      },
      {
       "output_type": "stream",
       "stream": "stdout",
       "text": [
        " 93386\n",
        "93454"
       ]
      },
      {
       "output_type": "stream",
       "stream": "stdout",
       "text": [
        " 93390\n",
        "94555"
       ]
      },
      {
       "output_type": "stream",
       "stream": "stdout",
       "text": [
        " \n",
        "93449"
       ]
      },
      {
       "output_type": "stream",
       "stream": "stdout",
       "text": [
        " 93452\n",
        "94037"
       ]
      },
      {
       "output_type": "stream",
       "stream": "stdout",
       "text": [
        " 94038\n",
        "93768"
       ]
      },
      {
       "output_type": "stream",
       "stream": "stdout",
       "text": [
        " 93767\n",
        "93416"
       ]
      },
      {
       "output_type": "stream",
       "stream": "stdout",
       "text": [
        " \n",
        "92604"
       ]
      },
      {
       "output_type": "stream",
       "stream": "stdout",
       "text": [
        " 92591\n",
        "93358"
       ]
      },
      {
       "output_type": "stream",
       "stream": "stdout",
       "text": [
        " 92604\n",
        "93372"
       ]
      },
      {
       "output_type": "stream",
       "stream": "stdout",
       "text": [
        " 93373\n",
        "93358"
       ]
      },
      {
       "output_type": "stream",
       "stream": "stdout",
       "text": [
        " 93359\n",
        "92589"
       ]
      },
      {
       "output_type": "stream",
       "stream": "stdout",
       "text": [
        " \n",
        "92585"
       ]
      },
      {
       "output_type": "stream",
       "stream": "stdout",
       "text": [
        " 92583\n",
        "92584"
       ]
      },
      {
       "output_type": "stream",
       "stream": "stdout",
       "text": [
        " 92583\n",
        "92582"
       ]
      },
      {
       "output_type": "stream",
       "stream": "stdout",
       "text": [
        " 92583\n",
        "92578"
       ]
      },
      {
       "output_type": "stream",
       "stream": "stdout",
       "text": [
        " 92579\n",
        "92568"
       ]
      },
      {
       "output_type": "stream",
       "stream": "stdout",
       "text": [
        " \n",
        "91082"
       ]
      },
      {
       "output_type": "stream",
       "stream": "stdout",
       "text": [
        " \n",
        "92564"
       ]
      },
      {
       "output_type": "stream",
       "stream": "stdout",
       "text": [
        " 92565\n",
        "92560"
       ]
      },
      {
       "output_type": "stream",
       "stream": "stdout",
       "text": [
        " \n",
        "92558"
       ]
      },
      {
       "output_type": "stream",
       "stream": "stdout",
       "text": [
        " \n",
        "93700"
       ]
      },
      {
       "output_type": "stream",
       "stream": "stdout",
       "text": [
        " \n",
        "92556"
       ]
      },
      {
       "output_type": "stream",
       "stream": "stdout",
       "text": [
        " \n",
        "93654"
       ]
      },
      {
       "output_type": "stream",
       "stream": "stdout",
       "text": [
        " 93668\n",
        "93439"
       ]
      },
      {
       "output_type": "stream",
       "stream": "stdout",
       "text": [
        " 92586\n",
        "93646"
       ]
      },
      {
       "output_type": "stream",
       "stream": "stdout",
       "text": [
        " \n",
        "94489"
       ]
      },
      {
       "output_type": "stream",
       "stream": "stdout",
       "text": [
        " \n",
        "93886"
       ]
      },
      {
       "output_type": "stream",
       "stream": "stdout",
       "text": [
        " \n",
        "93411"
       ]
      },
      {
       "output_type": "stream",
       "stream": "stdout",
       "text": [
        " \n",
        "93410"
       ]
      },
      {
       "output_type": "stream",
       "stream": "stdout",
       "text": [
        " \n",
        "93405"
       ]
      },
      {
       "output_type": "stream",
       "stream": "stdout",
       "text": [
        " \n",
        "91039"
       ]
      },
      {
       "output_type": "stream",
       "stream": "stdout",
       "text": [
        " \n",
        "93403"
       ]
      },
      {
       "output_type": "stream",
       "stream": "stdout",
       "text": [
        " 92591\n",
        "93403"
       ]
      },
      {
       "output_type": "stream",
       "stream": "stdout",
       "text": [
        " \n",
        "92586"
       ]
      },
      {
       "output_type": "stream",
       "stream": "stdout",
       "text": [
        " 93402\n",
        "93402"
       ]
      },
      {
       "output_type": "stream",
       "stream": "stdout",
       "text": [
        " \n",
        "93401"
       ]
      },
      {
       "output_type": "stream",
       "stream": "stdout",
       "text": [
        " \n",
        "93381"
       ]
      },
      {
       "output_type": "stream",
       "stream": "stdout",
       "text": [
        " 93382\n",
        "93378"
       ]
      },
      {
       "output_type": "stream",
       "stream": "stdout",
       "text": [
        " 93379\n",
        "93371"
       ]
      },
      {
       "output_type": "stream",
       "stream": "stdout",
       "text": [
        " \n",
        "93364"
       ]
      },
      {
       "output_type": "stream",
       "stream": "stdout",
       "text": [
        " 93365\n",
        "93355"
       ]
      },
      {
       "output_type": "stream",
       "stream": "stdout",
       "text": [
        " \n",
        "92608"
       ]
      },
      {
       "output_type": "stream",
       "stream": "stdout",
       "text": [
        " 93347\n",
        "93885"
       ]
      },
      {
       "output_type": "stream",
       "stream": "stdout",
       "text": [
        " \n",
        "93645"
       ]
      },
      {
       "output_type": "stream",
       "stream": "stdout",
       "text": [
        " \n",
        "93769"
       ]
      },
      {
       "output_type": "stream",
       "stream": "stdout",
       "text": [
        " 93767\n",
        "90937"
       ]
      },
      {
       "output_type": "stream",
       "stream": "stdout",
       "text": [
        " \n",
        "90925"
       ]
      },
      {
       "output_type": "stream",
       "stream": "stdout",
       "text": [
        " \n",
        "90916"
       ]
      },
      {
       "output_type": "stream",
       "stream": "stdout",
       "text": [
        " \n",
        "90915"
       ]
      },
      {
       "output_type": "stream",
       "stream": "stdout",
       "text": [
        " \n",
        "90914"
       ]
      },
      {
       "output_type": "stream",
       "stream": "stdout",
       "text": [
        " \n",
        "90913"
       ]
      },
      {
       "output_type": "stream",
       "stream": "stdout",
       "text": [
        " \n",
        "90912"
       ]
      },
      {
       "output_type": "stream",
       "stream": "stdout",
       "text": [
        " \n",
        "90911"
       ]
      },
      {
       "output_type": "stream",
       "stream": "stdout",
       "text": [
        " \n",
        "90849"
       ]
      },
      {
       "output_type": "stream",
       "stream": "stdout",
       "text": [
        " 90848\n",
        "90899"
       ]
      },
      {
       "output_type": "stream",
       "stream": "stdout",
       "text": [
        " \n",
        "92591"
       ]
      },
      {
       "output_type": "stream",
       "stream": "stdout",
       "text": [
        " 93357\n",
        "94642"
       ]
      },
      {
       "output_type": "stream",
       "stream": "stdout",
       "text": [
        " \n",
        "90887"
       ]
      },
      {
       "output_type": "stream",
       "stream": "stdout",
       "text": [
        " 90888\n",
        "90885"
       ]
      },
      {
       "output_type": "stream",
       "stream": "stdout",
       "text": [
        " 90886\n",
        "90883"
       ]
      },
      {
       "output_type": "stream",
       "stream": "stdout",
       "text": [
        " \n",
        "94132"
       ]
      },
      {
       "output_type": "stream",
       "stream": "stdout",
       "text": [
        " \n",
        "90879"
       ]
      },
      {
       "output_type": "stream",
       "stream": "stdout",
       "text": [
        " 90880\n",
        "94554"
       ]
      },
      {
       "output_type": "stream",
       "stream": "stdout",
       "text": [
        " \n",
        "91085"
       ]
      },
      {
       "output_type": "stream",
       "stream": "stdout",
       "text": [
        " \n",
        "91183"
       ]
      },
      {
       "output_type": "stream",
       "stream": "stdout",
       "text": [
        " \n",
        "93419"
       ]
      },
      {
       "output_type": "stream",
       "stream": "stdout",
       "text": [
        " \n",
        "93393"
       ]
      },
      {
       "output_type": "stream",
       "stream": "stdout",
       "text": [
        " \n",
        "91181"
       ]
      },
      {
       "output_type": "stream",
       "stream": "stdout",
       "text": [
        " \n",
        "93356"
       ]
      },
      {
       "output_type": "stream",
       "stream": "stdout",
       "text": [
        " \n",
        "93352"
       ]
      },
      {
       "output_type": "stream",
       "stream": "stdout",
       "text": [
        " \n",
        "93351"
       ]
      },
      {
       "output_type": "stream",
       "stream": "stdout",
       "text": [
        " \n",
        "91083"
       ]
      },
      {
       "output_type": "stream",
       "stream": "stdout",
       "text": [
        " \n",
        "91178"
       ]
      },
      {
       "output_type": "stream",
       "stream": "stdout",
       "text": [
        " 91179\n",
        "91170"
       ]
      },
      {
       "output_type": "stream",
       "stream": "stdout",
       "text": [
        " \n",
        "91157"
       ]
      },
      {
       "output_type": "stream",
       "stream": "stdout",
       "text": [
        " \n",
        "91154"
       ]
      },
      {
       "output_type": "stream",
       "stream": "stdout",
       "text": [
        " 91152\n",
        "92591"
       ]
      },
      {
       "output_type": "stream",
       "stream": "stdout",
       "text": [
        " 92604\n",
        "93565"
       ]
      },
      {
       "output_type": "stream",
       "stream": "stdout",
       "text": [
        " \n",
        "90878"
       ]
      },
      {
       "output_type": "stream",
       "stream": "stdout",
       "text": [
        " \n",
        "90848"
       ]
      },
      {
       "output_type": "stream",
       "stream": "stdout",
       "text": [
        " \n",
        "91141"
       ]
      },
      {
       "output_type": "stream",
       "stream": "stdout",
       "text": [
        " 91142\n",
        "90876"
       ]
      },
      {
       "output_type": "stream",
       "stream": "stdout",
       "text": [
        " \n",
        "90870"
       ]
      },
      {
       "output_type": "stream",
       "stream": "stdout",
       "text": [
        " \n",
        "93644"
       ]
      },
      {
       "output_type": "stream",
       "stream": "stdout",
       "text": [
        " \n",
        "91095"
       ]
      },
      {
       "output_type": "stream",
       "stream": "stdout",
       "text": [
        " 91068\n",
        "91072"
       ]
      },
      {
       "output_type": "stream",
       "stream": "stdout",
       "text": [
        " 91072\n",
        "91087"
       ]
      },
      {
       "output_type": "stream",
       "stream": "stdout",
       "text": [
        " \n",
        "91084"
       ]
      },
      {
       "output_type": "stream",
       "stream": "stdout",
       "text": [
        " 91072\n",
        "91081"
       ]
      },
      {
       "output_type": "stream",
       "stream": "stdout",
       "text": [
        " \n",
        "91076"
       ]
      },
      {
       "output_type": "stream",
       "stream": "stdout",
       "text": [
        " \n",
        "90869"
       ]
      },
      {
       "output_type": "stream",
       "stream": "stdout",
       "text": [
        " \n",
        "91156"
       ]
      },
      {
       "output_type": "stream",
       "stream": "stdout",
       "text": [
        " \n",
        "91153"
       ]
      },
      {
       "output_type": "stream",
       "stream": "stdout",
       "text": [
        " 91152\n",
        "91148"
       ]
      },
      {
       "output_type": "stream",
       "stream": "stdout",
       "text": [
        " 91104\n",
        "91139"
       ]
      },
      {
       "output_type": "stream",
       "stream": "stdout",
       "text": [
        " 91140\n",
        "91072"
       ]
      },
      {
       "output_type": "stream",
       "stream": "stdout",
       "text": [
        " \n",
        "91071"
       ]
      },
      {
       "output_type": "stream",
       "stream": "stdout",
       "text": [
        " \n",
        "90875"
       ]
      },
      {
       "output_type": "stream",
       "stream": "stdout",
       "text": [
        " \n",
        "90867"
       ]
      },
      {
       "output_type": "stream",
       "stream": "stdout",
       "text": [
        " 90866\n",
        "90865"
       ]
      },
      {
       "output_type": "stream",
       "stream": "stdout",
       "text": [
        " 90866\n",
        "90863"
       ]
      },
      {
       "output_type": "stream",
       "stream": "stdout",
       "text": [
        " 90864\n",
        "90854"
       ]
      },
      {
       "output_type": "stream",
       "stream": "stdout",
       "text": [
        " 90855\n",
        "90854"
       ]
      },
      {
       "output_type": "stream",
       "stream": "stdout",
       "text": [
        " \n",
        "93808"
       ]
      },
      {
       "output_type": "stream",
       "stream": "stdout",
       "text": [
        " \n",
        "94553"
       ]
      },
      {
       "output_type": "stream",
       "stream": "stdout",
       "text": [
        " \n",
        "90852"
       ]
      },
      {
       "output_type": "stream",
       "stream": "stdout",
       "text": [
        " \n",
        "90850"
       ]
      },
      {
       "output_type": "stream",
       "stream": "stdout",
       "text": [
        " 90850\n",
        "94041"
       ]
      },
      {
       "output_type": "stream",
       "stream": "stdout",
       "text": [
        " \n",
        "91176"
       ]
      },
      {
       "output_type": "stream",
       "stream": "stdout",
       "text": [
        " 91177\n",
        "91171"
       ]
      },
      {
       "output_type": "stream",
       "stream": "stdout",
       "text": [
        " 91172\n",
        "91160"
       ]
      },
      {
       "output_type": "stream",
       "stream": "stdout",
       "text": [
        " \n",
        "93389"
       ]
      },
      {
       "output_type": "stream",
       "stream": "stdout",
       "text": [
        " \n",
        "93409"
       ]
      },
      {
       "output_type": "stream",
       "stream": "stdout",
       "text": [
        " 92586\n",
        "91101"
       ]
      },
      {
       "output_type": "stream",
       "stream": "stdout",
       "text": [
        " 91068\n",
        "93440"
       ]
      },
      {
       "output_type": "stream",
       "stream": "stdout",
       "text": [
        " 92586\n",
        "92540"
       ]
      },
      {
       "output_type": "stream",
       "stream": "stdout",
       "text": [
        " 91184\n",
        "92540"
       ]
      },
      {
       "output_type": "stream",
       "stream": "stdout",
       "text": [
        " \n",
        "93884"
       ]
      },
      {
       "output_type": "stream",
       "stream": "stdout",
       "text": [
        " \n",
        "93435"
       ]
      },
      {
       "output_type": "stream",
       "stream": "stdout",
       "text": [
        " 93434\n",
        "92597"
       ]
      },
      {
       "output_type": "stream",
       "stream": "stdout",
       "text": [
        " \n",
        "92536"
       ]
      },
      {
       "output_type": "stream",
       "stream": "stdout",
       "text": [
        " 92534\n",
        "94110"
       ]
      },
      {
       "output_type": "stream",
       "stream": "stdout",
       "text": [
        " \n",
        "90846"
       ]
      },
      {
       "output_type": "stream",
       "stream": "stdout",
       "text": [
        " \n",
        "91054"
       ]
      },
      {
       "output_type": "stream",
       "stream": "stdout",
       "text": [
        " \n",
        "93436"
       ]
      },
      {
       "output_type": "stream",
       "stream": "stdout",
       "text": [
        " 93437\n",
        "93390"
       ]
      },
      {
       "output_type": "stream",
       "stream": "stdout",
       "text": [
        " 93388\n",
        "93386"
       ]
      },
      {
       "output_type": "stream",
       "stream": "stdout",
       "text": [
        " 93388\n",
        "91134"
       ]
      },
      {
       "output_type": "stream",
       "stream": "stdout",
       "text": [
        " \n",
        "91128"
       ]
      },
      {
       "output_type": "stream",
       "stream": "stdout",
       "text": [
        " \n",
        "90850"
       ]
      },
      {
       "output_type": "stream",
       "stream": "stdout",
       "text": [
        " 90851\n",
        "94042"
       ]
      },
      {
       "output_type": "stream",
       "stream": "stdout",
       "text": [
        " \n",
        "94487"
       ]
      },
      {
       "output_type": "stream",
       "stream": "stdout",
       "text": [
        " \n",
        "93883"
       ]
      },
      {
       "output_type": "stream",
       "stream": "stdout",
       "text": [
        " \n",
        "91121"
       ]
      },
      {
       "output_type": "stream",
       "stream": "stdout",
       "text": [
        " \n",
        "91120"
       ]
      },
      {
       "output_type": "stream",
       "stream": "stdout",
       "text": [
        " \n",
        "92535"
       ]
      },
      {
       "output_type": "stream",
       "stream": "stdout",
       "text": [
        " 92533\n",
        "91060"
       ]
      },
      {
       "output_type": "stream",
       "stream": "stdout",
       "text": [
        " \n",
        "91119"
       ]
      },
      {
       "output_type": "stream",
       "stream": "stdout",
       "text": [
        " \n",
        "91055"
       ]
      },
      {
       "output_type": "stream",
       "stream": "stdout",
       "text": [
        " 91056\n",
        "91053"
       ]
      },
      {
       "output_type": "stream",
       "stream": "stdout",
       "text": [
        " \n",
        "94309"
       ]
      },
      {
       "output_type": "stream",
       "stream": "stdout",
       "text": [
        " 94311\n",
        "91052"
       ]
      },
      {
       "output_type": "stream",
       "stream": "stdout",
       "text": [
        " \n",
        "92534"
       ]
      },
      {
       "output_type": "stream",
       "stream": "stdout",
       "text": [
        " 92533\n",
        "91051"
       ]
      },
      {
       "output_type": "stream",
       "stream": "stdout",
       "text": [
        " \n",
        "90819"
       ]
      },
      {
       "output_type": "stream",
       "stream": "stdout",
       "text": [
        " \n",
        "90773"
       ]
      },
      {
       "output_type": "stream",
       "stream": "stdout",
       "text": [
        " \n",
        "90770"
       ]
      },
      {
       "output_type": "stream",
       "stream": "stdout",
       "text": [
        " 90772\n",
        "90753"
       ]
      },
      {
       "output_type": "stream",
       "stream": "stdout",
       "text": [
        " 90771\n",
        "95147"
       ]
      },
      {
       "output_type": "stream",
       "stream": "stdout",
       "text": [
        " 95148\n",
        "94130"
       ]
      },
      {
       "output_type": "stream",
       "stream": "stdout",
       "text": [
        " \n",
        "90490"
       ]
      },
      {
       "output_type": "stream",
       "stream": "stdout",
       "text": [
        " \n",
        "90490"
       ]
      },
      {
       "output_type": "stream",
       "stream": "stdout",
       "text": [
        " 90489\n",
        "91043"
       ]
      },
      {
       "output_type": "stream",
       "stream": "stdout",
       "text": [
        " 91044\n",
        "90489"
       ]
      },
      {
       "output_type": "stream",
       "stream": "stdout",
       "text": [
        " 90488\n",
        "90487"
       ]
      },
      {
       "output_type": "stream",
       "stream": "stdout",
       "text": [
        " 90488\n",
        "94485"
       ]
      },
      {
       "output_type": "stream",
       "stream": "stdout",
       "text": [
        " 94486\n",
        "90485"
       ]
      },
      {
       "output_type": "stream",
       "stream": "stdout",
       "text": [
        " 90486\n",
        "91117"
       ]
      },
      {
       "output_type": "stream",
       "stream": "stdout",
       "text": [
        " \n",
        "93769"
       ]
      },
      {
       "output_type": "stream",
       "stream": "stdout",
       "text": [
        " 93768\n",
        "90635"
       ]
      },
      {
       "output_type": "stream",
       "stream": "stdout",
       "text": [
        " 90727\n",
        "90724"
       ]
      },
      {
       "output_type": "stream",
       "stream": "stdout",
       "text": [
        " \n",
        "90637"
       ]
      },
      {
       "output_type": "stream",
       "stream": "stdout",
       "text": [
        " \n",
        "91227"
       ]
      },
      {
       "output_type": "stream",
       "stream": "stdout",
       "text": [
        " 90870\n",
        "91051"
       ]
      },
      {
       "output_type": "stream",
       "stream": "stdout",
       "text": [
        " 91044\n",
        "91149"
       ]
      },
      {
       "output_type": "stream",
       "stream": "stdout",
       "text": [
        " 92525\n",
        "91123"
       ]
      },
      {
       "output_type": "stream",
       "stream": "stdout",
       "text": [
        " \n",
        "91050"
       ]
      },
      {
       "output_type": "stream",
       "stream": "stdout",
       "text": [
        " \n",
        "91122"
       ]
      },
      {
       "output_type": "stream",
       "stream": "stdout",
       "text": [
        " \n",
        "94552"
       ]
      },
      {
       "output_type": "stream",
       "stream": "stdout",
       "text": [
        " \n",
        "91116"
       ]
      },
      {
       "output_type": "stream",
       "stream": "stdout",
       "text": [
        " \n",
        "94309"
       ]
      },
      {
       "output_type": "stream",
       "stream": "stdout",
       "text": [
        " 94310\n",
        "90625"
       ]
      },
      {
       "output_type": "stream",
       "stream": "stdout",
       "text": [
        " \n",
        "91043"
       ]
      },
      {
       "output_type": "stream",
       "stream": "stdout",
       "text": [
        " 91047\n",
        "91043"
       ]
      },
      {
       "output_type": "stream",
       "stream": "stdout",
       "text": [
        " 91048\n",
        "91048"
       ]
      },
      {
       "output_type": "stream",
       "stream": "stdout",
       "text": [
        " \n",
        "90811"
       ]
      },
      {
       "output_type": "stream",
       "stream": "stdout",
       "text": [
        " \n",
        "91047"
       ]
      },
      {
       "output_type": "stream",
       "stream": "stdout",
       "text": [
        " \n",
        "91044"
       ]
      },
      {
       "output_type": "stream",
       "stream": "stdout",
       "text": [
        " 91046\n",
        "91044"
       ]
      },
      {
       "output_type": "stream",
       "stream": "stdout",
       "text": [
        " 91045\n",
        "91042"
       ]
      },
      {
       "output_type": "stream",
       "stream": "stdout",
       "text": [
        " \n",
        "90845"
       ]
      },
      {
       "output_type": "stream",
       "stream": "stdout",
       "text": [
        " \n",
        "90921"
       ]
      },
      {
       "output_type": "stream",
       "stream": "stdout",
       "text": [
        " 90787\n",
        "90844"
       ]
      },
      {
       "output_type": "stream",
       "stream": "stdout",
       "text": [
        " \n",
        "90761"
       ]
      },
      {
       "output_type": "stream",
       "stream": "stdout",
       "text": [
        " 90763\n",
        "91036"
       ]
      },
      {
       "output_type": "stream",
       "stream": "stdout",
       "text": [
        " \n",
        "90714"
       ]
      },
      {
       "output_type": "stream",
       "stream": "stdout",
       "text": [
        " \n",
        "93386"
       ]
      },
      {
       "output_type": "stream",
       "stream": "stdout",
       "text": [
        " 93387\n",
        "90709"
       ]
      },
      {
       "output_type": "stream",
       "stream": "stdout",
       "text": [
        " \n",
        "90827"
       ]
      },
      {
       "output_type": "stream",
       "stream": "stdout",
       "text": [
        " 90753\n",
        "71338"
       ]
      },
      {
       "output_type": "stream",
       "stream": "stdout",
       "text": [
        " \n",
        "90715"
       ]
      },
      {
       "output_type": "stream",
       "stream": "stdout",
       "text": [
        " \n",
        "90667"
       ]
      },
      {
       "output_type": "stream",
       "stream": "stdout",
       "text": [
        " \n",
        "89078"
       ]
      },
      {
       "output_type": "stream",
       "stream": "stdout",
       "text": [
        " \n",
        "90665"
       ]
      },
      {
       "output_type": "stream",
       "stream": "stdout",
       "text": [
        " \n",
        "90658"
       ]
      },
      {
       "output_type": "stream",
       "stream": "stdout",
       "text": [
        " 90663\n",
        "90658"
       ]
      },
      {
       "output_type": "stream",
       "stream": "stdout",
       "text": [
        " 90361\n",
        "90761"
       ]
      },
      {
       "output_type": "stream",
       "stream": "stdout",
       "text": [
        " 90762\n",
        "90658"
       ]
      },
      {
       "output_type": "stream",
       "stream": "stdout",
       "text": [
        " 90206\n",
        "90658"
       ]
      },
      {
       "output_type": "stream",
       "stream": "stdout",
       "text": [
        " 90186\n",
        "90658"
       ]
      },
      {
       "output_type": "stream",
       "stream": "stdout",
       "text": [
        " 90659\n",
        "90527"
       ]
      },
      {
       "output_type": "stream",
       "stream": "stdout",
       "text": [
        " \n",
        "90759"
       ]
      },
      {
       "output_type": "stream",
       "stream": "stdout",
       "text": [
        " \n",
        "90526"
       ]
      },
      {
       "output_type": "stream",
       "stream": "stdout",
       "text": [
        " \n",
        "90525"
       ]
      },
      {
       "output_type": "stream",
       "stream": "stdout",
       "text": [
        " \n",
        "90756"
       ]
      },
      {
       "output_type": "stream",
       "stream": "stdout",
       "text": [
        " \n",
        "94551"
       ]
      },
      {
       "output_type": "stream",
       "stream": "stdout",
       "text": [
        " \n",
        "90524"
       ]
      },
      {
       "output_type": "stream",
       "stream": "stdout",
       "text": [
        " \n",
        "90523"
       ]
      },
      {
       "output_type": "stream",
       "stream": "stdout",
       "text": [
        " \n",
        "90794"
       ]
      },
      {
       "output_type": "stream",
       "stream": "stdout",
       "text": [
        " 90795\n",
        "90669"
       ]
      },
      {
       "output_type": "stream",
       "stream": "stdout",
       "text": [
        " \n",
        "90668"
       ]
      },
      {
       "output_type": "stream",
       "stream": "stdout",
       "text": [
        " \n",
        "90666"
       ]
      },
      {
       "output_type": "stream",
       "stream": "stdout",
       "text": [
        " \n",
        "90658"
       ]
      },
      {
       "output_type": "stream",
       "stream": "stdout",
       "text": [
        " 90664\n",
        "90658"
       ]
      },
      {
       "output_type": "stream",
       "stream": "stdout",
       "text": [
        " 90662\n",
        "90658"
       ]
      },
      {
       "output_type": "stream",
       "stream": "stdout",
       "text": [
        " 90216\n",
        "90658"
       ]
      },
      {
       "output_type": "stream",
       "stream": "stdout",
       "text": [
        " 90661\n",
        "90658"
       ]
      },
      {
       "output_type": "stream",
       "stream": "stdout",
       "text": [
        " 90147\n",
        "90658"
       ]
      },
      {
       "output_type": "stream",
       "stream": "stdout",
       "text": [
        " 90660\n",
        "90658"
       ]
      },
      {
       "output_type": "stream",
       "stream": "stdout",
       "text": [
        " 90156\n",
        "90522"
       ]
      },
      {
       "output_type": "stream",
       "stream": "stdout",
       "text": [
        " \n",
        "92528"
       ]
      },
      {
       "output_type": "stream",
       "stream": "stdout",
       "text": [
        " 92529\n",
        "92521"
       ]
      },
      {
       "output_type": "stream",
       "stream": "stdout",
       "text": [
        " \n",
        "93554"
       ]
      },
      {
       "output_type": "stream",
       "stream": "stdout",
       "text": [
        " \n",
        "91033"
       ]
      },
      {
       "output_type": "stream",
       "stream": "stdout",
       "text": [
        " \n",
        "90627"
       ]
      },
      {
       "output_type": "stream",
       "stream": "stdout",
       "text": [
        " 88201\n",
        "91230"
       ]
      },
      {
       "output_type": "stream",
       "stream": "stdout",
       "text": [
        " \n",
        "90752"
       ]
      },
      {
       "output_type": "stream",
       "stream": "stdout",
       "text": [
        " \n",
        "93767"
       ]
      },
      {
       "output_type": "stream",
       "stream": "stdout",
       "text": [
        " 93768\n",
        "92530"
       ]
      },
      {
       "output_type": "stream",
       "stream": "stdout",
       "text": [
        " 92531\n",
        "92522"
       ]
      },
      {
       "output_type": "stream",
       "stream": "stdout",
       "text": [
        " \n",
        "90649"
       ]
      },
      {
       "output_type": "stream",
       "stream": "stdout",
       "text": [
        " \n",
        "90789"
       ]
      },
      {
       "output_type": "stream",
       "stream": "stdout",
       "text": [
        " 90798\n",
        "90793"
       ]
      },
      {
       "output_type": "stream",
       "stream": "stdout",
       "text": [
        " 90794\n",
        "90791"
       ]
      },
      {
       "output_type": "stream",
       "stream": "stdout",
       "text": [
        " 90792\n",
        "94550"
       ]
      },
      {
       "output_type": "stream",
       "stream": "stdout",
       "text": [
        " \n",
        "91031"
       ]
      },
      {
       "output_type": "stream",
       "stream": "stdout",
       "text": [
        " \n",
        "90837"
       ]
      },
      {
       "output_type": "stream",
       "stream": "stdout",
       "text": [
        " \n",
        "93793"
       ]
      },
      {
       "output_type": "stream",
       "stream": "stdout",
       "text": [
        " \n",
        "90520"
       ]
      },
      {
       "output_type": "stream",
       "stream": "stdout",
       "text": [
        " \n",
        "90442"
       ]
      },
      {
       "output_type": "stream",
       "stream": "stdout",
       "text": [
        " \n",
        "90195"
       ]
      },
      {
       "output_type": "stream",
       "stream": "stdout",
       "text": [
        " \n",
        "90194"
       ]
      },
      {
       "output_type": "stream",
       "stream": "stdout",
       "text": [
        " \n",
        "91032"
       ]
      },
      {
       "output_type": "stream",
       "stream": "stdout",
       "text": [
        " \n",
        "74107"
       ]
      },
      {
       "output_type": "stream",
       "stream": "stdout",
       "text": [
        " \n",
        "91030"
       ]
      },
      {
       "output_type": "stream",
       "stream": "stdout",
       "text": [
        " \n",
        "90704"
       ]
      },
      {
       "output_type": "stream",
       "stream": "stdout",
       "text": [
        " \n",
        "90192"
       ]
      },
      {
       "output_type": "stream",
       "stream": "stdout",
       "text": [
        " 90193\n",
        "90191"
       ]
      },
      {
       "output_type": "stream",
       "stream": "stdout",
       "text": [
        " \n",
        "91027"
       ]
      },
      {
       "output_type": "stream",
       "stream": "stdout",
       "text": [
        " \n",
        "90835"
       ]
      },
      {
       "output_type": "stream",
       "stream": "stdout",
       "text": [
        " \n",
        "90701"
       ]
      },
      {
       "output_type": "stream",
       "stream": "stdout",
       "text": [
        " \n",
        "90189"
       ]
      },
      {
       "output_type": "stream",
       "stream": "stdout",
       "text": [
        " \n",
        "90188"
       ]
      },
      {
       "output_type": "stream",
       "stream": "stdout",
       "text": [
        " \n",
        "91229"
       ]
      },
      {
       "output_type": "stream",
       "stream": "stdout",
       "text": [
        " \n",
        "90174"
       ]
      },
      {
       "output_type": "stream",
       "stream": "stdout",
       "text": [
        " 90157\n",
        "90834"
       ]
      },
      {
       "output_type": "stream",
       "stream": "stdout",
       "text": [
        " \n",
        "90157"
       ]
      },
      {
       "output_type": "stream",
       "stream": "stdout",
       "text": [
        " 90186\n",
        "94129"
       ]
      },
      {
       "output_type": "stream",
       "stream": "stdout",
       "text": [
        " \n",
        "90179"
       ]
      },
      {
       "output_type": "stream",
       "stream": "stdout",
       "text": [
        " 90165\n",
        "90306"
       ]
      },
      {
       "output_type": "stream",
       "stream": "stdout",
       "text": [
        " 90307\n",
        "90716"
       ]
      },
      {
       "output_type": "stream",
       "stream": "stdout",
       "text": [
        " \n",
        "90165"
       ]
      },
      {
       "output_type": "stream",
       "stream": "stdout",
       "text": [
        " 90177\n",
        "90504"
       ]
      },
      {
       "output_type": "stream",
       "stream": "stdout",
       "text": [
        " 90501\n",
        "90750"
       ]
      },
      {
       "output_type": "stream",
       "stream": "stdout",
       "text": [
        " \n",
        "90749"
       ]
      },
      {
       "output_type": "stream",
       "stream": "stdout",
       "text": [
        " \n",
        "90748"
       ]
      },
      {
       "output_type": "stream",
       "stream": "stdout",
       "text": [
        " \n",
        "90747"
       ]
      },
      {
       "output_type": "stream",
       "stream": "stdout",
       "text": [
        " \n",
        "90521"
       ]
      },
      {
       "output_type": "stream",
       "stream": "stdout",
       "text": [
        " \n",
        "90519"
       ]
      },
      {
       "output_type": "stream",
       "stream": "stdout",
       "text": [
        " \n",
        "90518"
       ]
      },
      {
       "output_type": "stream",
       "stream": "stdout",
       "text": [
        " \n",
        "90702"
       ]
      },
      {
       "output_type": "stream",
       "stream": "stdout",
       "text": [
        " \n",
        "90745"
       ]
      },
      {
       "output_type": "stream",
       "stream": "stdout",
       "text": [
        " \n",
        "90698"
       ]
      },
      {
       "output_type": "stream",
       "stream": "stdout",
       "text": [
        " \n",
        "90184"
       ]
      },
      {
       "output_type": "stream",
       "stream": "stdout",
       "text": [
        " 90183\n",
        "92553"
       ]
      },
      {
       "output_type": "stream",
       "stream": "stdout",
       "text": [
        " \n",
        "90512"
       ]
      },
      {
       "output_type": "stream",
       "stream": "stdout",
       "text": [
        " \n",
        "90697"
       ]
      },
      {
       "output_type": "stream",
       "stream": "stdout",
       "text": [
        " \n",
        "90696"
       ]
      },
      {
       "output_type": "stream",
       "stream": "stdout",
       "text": [
        " \n",
        "90306"
       ]
      },
      {
       "output_type": "stream",
       "stream": "stdout",
       "text": [
        " \n",
        "90690"
       ]
      },
      {
       "output_type": "stream",
       "stream": "stdout",
       "text": [
        " \n",
        "90508"
       ]
      },
      {
       "output_type": "stream",
       "stream": "stdout",
       "text": [
        " 90436\n",
        "94306"
       ]
      },
      {
       "output_type": "stream",
       "stream": "stdout",
       "text": [
        " 94308\n",
        "90396"
       ]
      },
      {
       "output_type": "stream",
       "stream": "stdout",
       "text": [
        " \n",
        "90502"
       ]
      },
      {
       "output_type": "stream",
       "stream": "stdout",
       "text": [
        " 90503\n",
        "91028"
       ]
      },
      {
       "output_type": "stream",
       "stream": "stdout",
       "text": [
        " \n",
        "90499"
       ]
      },
      {
       "output_type": "stream",
       "stream": "stdout",
       "text": [
        " 75109\n",
        "90393"
       ]
      },
      {
       "output_type": "stream",
       "stream": "stdout",
       "text": [
        " \n",
        "91112"
       ]
      },
      {
       "output_type": "stream",
       "stream": "stdout",
       "text": [
        " \n",
        "90391"
       ]
      },
      {
       "output_type": "stream",
       "stream": "stdout",
       "text": [
        " \n",
        "90500"
       ]
      },
      {
       "output_type": "stream",
       "stream": "stdout",
       "text": [
        " \n",
        "90689"
       ]
      },
      {
       "output_type": "stream",
       "stream": "stdout",
       "text": [
        " 90690\n",
        "93845"
       ]
      },
      {
       "output_type": "stream",
       "stream": "stdout",
       "text": [
        " \n",
        "91228"
       ]
      },
      {
       "output_type": "stream",
       "stream": "stdout",
       "text": [
        " \n",
        "90440"
       ]
      },
      {
       "output_type": "stream",
       "stream": "stdout",
       "text": [
        " \n",
        "90436"
       ]
      },
      {
       "output_type": "stream",
       "stream": "stdout",
       "text": [
        " 90437\n",
        "90435"
       ]
      },
      {
       "output_type": "stream",
       "stream": "stdout",
       "text": [
        " 90434\n",
        "90435"
       ]
      },
      {
       "output_type": "stream",
       "stream": "stdout",
       "text": [
        " \n",
        "90434"
       ]
      },
      {
       "output_type": "stream",
       "stream": "stdout",
       "text": [
        " \n",
        "90431"
       ]
      },
      {
       "output_type": "stream",
       "stream": "stdout",
       "text": [
        " \n",
        "90506"
       ]
      },
      {
       "output_type": "stream",
       "stream": "stdout",
       "text": [
        " 90509\n",
        "90506"
       ]
      },
      {
       "output_type": "stream",
       "stream": "stdout",
       "text": [
        " 90507\n",
        "90504"
       ]
      },
      {
       "output_type": "stream",
       "stream": "stdout",
       "text": [
        " 90505\n",
        "93642"
       ]
      },
      {
       "output_type": "stream",
       "stream": "stdout",
       "text": [
        " \n",
        "90501"
       ]
      },
      {
       "output_type": "stream",
       "stream": "stdout",
       "text": [
        " \n",
        "94128"
       ]
      },
      {
       "output_type": "stream",
       "stream": "stdout",
       "text": [
        " \n",
        "93791"
       ]
      },
      {
       "output_type": "stream",
       "stream": "stdout",
       "text": [
        " \n",
        "91111"
       ]
      },
      {
       "output_type": "stream",
       "stream": "stdout",
       "text": [
        " \n",
        "90383"
       ]
      },
      {
       "output_type": "stream",
       "stream": "stdout",
       "text": [
        " 90384\n",
        "91029"
       ]
      },
      {
       "output_type": "stream",
       "stream": "stdout",
       "text": [
        " 91023\n",
        "90311"
       ]
      },
      {
       "output_type": "stream",
       "stream": "stdout",
       "text": [
        " 90312\n",
        "89245"
       ]
      },
      {
       "output_type": "stream",
       "stream": "stdout",
       "text": [
        " 89128\n",
        "90309"
       ]
      },
      {
       "output_type": "stream",
       "stream": "stdout",
       "text": [
        " 90310\n",
        "90183"
       ]
      },
      {
       "output_type": "stream",
       "stream": "stdout",
       "text": [
        " \n",
        "89245"
       ]
      },
      {
       "output_type": "stream",
       "stream": "stdout",
       "text": [
        " 89225\n",
        "91024"
       ]
      },
      {
       "output_type": "stream",
       "stream": "stdout",
       "text": [
        " \n",
        "90381"
       ]
      },
      {
       "output_type": "stream",
       "stream": "stdout",
       "text": [
        " 90382\n",
        "90652"
       ]
      },
      {
       "output_type": "stream",
       "stream": "stdout",
       "text": [
        " 90654\n",
        "90650"
       ]
      },
      {
       "output_type": "stream",
       "stream": "stdout",
       "text": [
        " \n",
        "90648"
       ]
      },
      {
       "output_type": "stream",
       "stream": "stdout",
       "text": [
        " \n",
        "90646"
       ]
      },
      {
       "output_type": "stream",
       "stream": "stdout",
       "text": [
        " \n",
        "90179"
       ]
      },
      {
       "output_type": "stream",
       "stream": "stdout",
       "text": [
        " 90178\n",
        "90179"
       ]
      },
      {
       "output_type": "stream",
       "stream": "stdout",
       "text": [
        " 90177\n",
        "90177"
       ]
      },
      {
       "output_type": "stream",
       "stream": "stdout",
       "text": [
        " 90178\n",
        "90789"
       ]
      },
      {
       "output_type": "stream",
       "stream": "stdout",
       "text": [
        " 90790\n",
        "90176"
       ]
      },
      {
       "output_type": "stream",
       "stream": "stdout",
       "text": [
        " \n",
        "90165"
       ]
      },
      {
       "output_type": "stream",
       "stream": "stdout",
       "text": [
        " \n",
        "90315"
       ]
      },
      {
       "output_type": "stream",
       "stream": "stdout",
       "text": [
        " \n",
        "90314"
       ]
      },
      {
       "output_type": "stream",
       "stream": "stdout",
       "text": [
        " 90314\n",
        "90166"
       ]
      },
      {
       "output_type": "stream",
       "stream": "stdout",
       "text": [
        " 90167\n",
        "90172"
       ]
      },
      {
       "output_type": "stream",
       "stream": "stdout",
       "text": [
        " \n",
        "90171"
       ]
      },
      {
       "output_type": "stream",
       "stream": "stdout",
       "text": [
        " \n",
        "90170"
       ]
      },
      {
       "output_type": "stream",
       "stream": "stdout",
       "text": [
        " \n",
        "90738"
       ]
      },
      {
       "output_type": "stream",
       "stream": "stdout",
       "text": [
        " 90739\n",
        "90832"
       ]
      },
      {
       "output_type": "stream",
       "stream": "stdout",
       "text": [
        " 90833\n",
        "90168"
       ]
      },
      {
       "output_type": "stream",
       "stream": "stdout",
       "text": [
        " \n",
        "90200"
       ]
      },
      {
       "output_type": "stream",
       "stream": "stdout",
       "text": [
        " 90201\n",
        "59048"
       ]
      },
      {
       "output_type": "stream",
       "stream": "stdout",
       "text": [
        " 90378\n",
        "66236"
       ]
      },
      {
       "output_type": "stream",
       "stream": "stdout",
       "text": [
        " 90377\n",
        "92552"
       ]
      },
      {
       "output_type": "stream",
       "stream": "stdout",
       "text": [
        " \n",
        "90793"
       ]
      },
      {
       "output_type": "stream",
       "stream": "stdout",
       "text": [
        " 90792\n",
        "90786"
       ]
      },
      {
       "output_type": "stream",
       "stream": "stdout",
       "text": [
        " \n",
        "90412"
       ]
      },
      {
       "output_type": "stream",
       "stream": "stdout",
       "text": [
        " 90621\n",
        "90217"
       ]
      },
      {
       "output_type": "stream",
       "stream": "stdout",
       "text": [
        " \n",
        "94549"
       ]
      },
      {
       "output_type": "stream",
       "stream": "stdout",
       "text": [
        " \n",
        "90406"
       ]
      },
      {
       "output_type": "stream",
       "stream": "stdout",
       "text": [
        " 90407\n",
        "93682"
       ]
      },
      {
       "output_type": "stream",
       "stream": "stdout",
       "text": [
        " 93681\n",
        "90414"
       ]
      },
      {
       "output_type": "stream",
       "stream": "stdout",
       "text": [
        " \n",
        "90413"
       ]
      },
      {
       "output_type": "stream",
       "stream": "stdout",
       "text": [
        " \n",
        "90211"
       ]
      },
      {
       "output_type": "stream",
       "stream": "stdout",
       "text": [
        " \n",
        "90209"
       ]
      },
      {
       "output_type": "stream",
       "stream": "stdout",
       "text": [
        " \n",
        "90687"
       ]
      },
      {
       "output_type": "stream",
       "stream": "stdout",
       "text": [
        " 90683\n",
        "90738"
       ]
      },
      {
       "output_type": "stream",
       "stream": "stdout",
       "text": [
        " \n",
        "65955"
       ]
      },
      {
       "output_type": "stream",
       "stream": "stdout",
       "text": [
        " \n",
        "90036"
       ]
      },
      {
       "output_type": "stream",
       "stream": "stdout",
       "text": [
        " 90683\n",
        "90200"
       ]
      },
      {
       "output_type": "stream",
       "stream": "stdout",
       "text": [
        " \n",
        "90218"
       ]
      },
      {
       "output_type": "stream",
       "stream": "stdout",
       "text": [
        " \n",
        "90216"
       ]
      },
      {
       "output_type": "stream",
       "stream": "stdout",
       "text": [
        " \n",
        "90214"
       ]
      },
      {
       "output_type": "stream",
       "stream": "stdout",
       "text": [
        " \n",
        "90210"
       ]
      },
      {
       "output_type": "stream",
       "stream": "stdout",
       "text": [
        " \n",
        "90208"
       ]
      },
      {
       "output_type": "stream",
       "stream": "stdout",
       "text": [
        " \n",
        "90203"
       ]
      },
      {
       "output_type": "stream",
       "stream": "stdout",
       "text": [
        " 90204\n",
        "90736"
       ]
      },
      {
       "output_type": "stream",
       "stream": "stdout",
       "text": [
        " \n",
        "95282"
       ]
      },
      {
       "output_type": "stream",
       "stream": "stdout",
       "text": [
        " 95283\n",
        "93974"
       ]
      },
      {
       "output_type": "stream",
       "stream": "stdout",
       "text": [
        " 93975\n",
        "90687"
       ]
      },
      {
       "output_type": "stream",
       "stream": "stdout",
       "text": [
        " 89108\n",
        "93430"
       ]
      },
      {
       "output_type": "stream",
       "stream": "stdout",
       "text": [
        " \n",
        "91226"
       ]
      },
      {
       "output_type": "stream",
       "stream": "stdout",
       "text": [
        " 91227\n",
        "90371"
       ]
      },
      {
       "output_type": "stream",
       "stream": "stdout",
       "text": [
        " \n",
        "90495"
       ]
      },
      {
       "output_type": "stream",
       "stream": "stdout",
       "text": [
        " \n",
        "90349"
       ]
      },
      {
       "output_type": "stream",
       "stream": "stdout",
       "text": [
        " 66160\n",
        "91170"
       ]
      },
      {
       "output_type": "stream",
       "stream": "stdout",
       "text": [
        " 91071\n",
        "90358"
       ]
      },
      {
       "output_type": "stream",
       "stream": "stdout",
       "text": [
        " 90359\n",
        "90409"
       ]
      },
      {
       "output_type": "stream",
       "stream": "stdout",
       "text": [
        " \n",
        "90357"
       ]
      },
      {
       "output_type": "stream",
       "stream": "stdout",
       "text": [
        " \n",
        "90199"
       ]
      },
      {
       "output_type": "stream",
       "stream": "stdout",
       "text": [
        " \n",
        "90157"
       ]
      },
      {
       "output_type": "stream",
       "stream": "stdout",
       "text": [
        " 90166\n",
        "90133"
       ]
      },
      {
       "output_type": "stream",
       "stream": "stdout",
       "text": [
        " \n",
        "90128"
       ]
      },
      {
       "output_type": "stream",
       "stream": "stdout",
       "text": [
        " \n",
        "90127"
       ]
      },
      {
       "output_type": "stream",
       "stream": "stdout",
       "text": [
        " \n",
        "90125"
       ]
      },
      {
       "output_type": "stream",
       "stream": "stdout",
       "text": [
        " 90126\n",
        "90123"
       ]
      },
      {
       "output_type": "stream",
       "stream": "stdout",
       "text": [
        " 90124\n",
        "90121"
       ]
      },
      {
       "output_type": "stream",
       "stream": "stdout",
       "text": [
        " \n",
        "90368"
       ]
      },
      {
       "output_type": "stream",
       "stream": "stdout",
       "text": [
        " 90370\n",
        "90118"
       ]
      },
      {
       "output_type": "stream",
       "stream": "stdout",
       "text": [
        " \n",
        "65922"
       ]
      },
      {
       "output_type": "stream",
       "stream": "stdout",
       "text": [
        " 90117\n",
        "90686"
       ]
      },
      {
       "output_type": "stream",
       "stream": "stdout",
       "text": [
        " 90683\n",
        "90363"
       ]
      },
      {
       "output_type": "stream",
       "stream": "stdout",
       "text": [
        " 90349\n",
        "90685"
       ]
      },
      {
       "output_type": "stream",
       "stream": "stdout",
       "text": [
        " 90683\n",
        "90947"
       ]
      },
      {
       "output_type": "stream",
       "stream": "stdout",
       "text": [
        " \n",
        "90684"
       ]
      },
      {
       "output_type": "stream",
       "stream": "stdout",
       "text": [
        " 90683\n",
        "94306"
       ]
      },
      {
       "output_type": "stream",
       "stream": "stdout",
       "text": [
        " 94307\n",
        "90945"
       ]
      },
      {
       "output_type": "stream",
       "stream": "stdout",
       "text": [
        " \n",
        "89116"
       ]
      },
      {
       "output_type": "stream",
       "stream": "stdout",
       "text": [
        " 90683\n",
        "90362"
       ]
      },
      {
       "output_type": "stream",
       "stream": "stdout",
       "text": [
        " \n",
        "93881"
       ]
      },
      {
       "output_type": "stream",
       "stream": "stdout",
       "text": [
        " \n",
        "90007"
       ]
      },
      {
       "output_type": "stream",
       "stream": "stdout",
       "text": [
        " 90683\n",
        "90944"
       ]
      },
      {
       "output_type": "stream",
       "stream": "stdout",
       "text": [
        " \n",
        "90358"
       ]
      },
      {
       "output_type": "stream",
       "stream": "stdout",
       "text": [
        " 90360\n",
        "90358"
       ]
      },
      {
       "output_type": "stream",
       "stream": "stdout",
       "text": [
        " \n",
        "90675"
       ]
      },
      {
       "output_type": "stream",
       "stream": "stdout",
       "text": [
        " 90681\n",
        "90356"
       ]
      },
      {
       "output_type": "stream",
       "stream": "stdout",
       "text": [
        " \n",
        "91170"
       ]
      },
      {
       "output_type": "stream",
       "stream": "stdout",
       "text": [
        " 91150\n",
        "90111"
       ]
      },
      {
       "output_type": "stream",
       "stream": "stdout",
       "text": [
        " \n",
        "90106"
       ]
      },
      {
       "output_type": "stream",
       "stream": "stdout",
       "text": [
        " 90108\n",
        "90104"
       ]
      },
      {
       "output_type": "stream",
       "stream": "stdout",
       "text": [
        " \n",
        "90102"
       ]
      },
      {
       "output_type": "stream",
       "stream": "stdout",
       "text": [
        " 89108\n",
        "89108"
       ]
      },
      {
       "output_type": "stream",
       "stream": "stdout",
       "text": [
        " 90007\n",
        "90160"
       ]
      },
      {
       "output_type": "stream",
       "stream": "stdout",
       "text": [
        " \n",
        "90368"
       ]
      },
      {
       "output_type": "stream",
       "stream": "stdout",
       "text": [
        " 90369\n",
        "90155"
       ]
      },
      {
       "output_type": "stream",
       "stream": "stdout",
       "text": [
        " \n",
        "90645"
       ]
      },
      {
       "output_type": "stream",
       "stream": "stdout",
       "text": [
        " \n",
        "90776"
       ]
      },
      {
       "output_type": "stream",
       "stream": "stdout",
       "text": [
        " \n",
        "90148"
       ]
      },
      {
       "output_type": "stream",
       "stream": "stdout",
       "text": [
        " 90150\n",
        "93428"
       ]
      },
      {
       "output_type": "stream",
       "stream": "stdout",
       "text": [
        " \n",
        "90358"
       ]
      },
      {
       "output_type": "stream",
       "stream": "stdout",
       "text": [
        " 66212\n",
        "90355"
       ]
      },
      {
       "output_type": "stream",
       "stream": "stdout",
       "text": [
        " \n",
        "90675"
       ]
      },
      {
       "output_type": "stream",
       "stream": "stdout",
       "text": [
        " 90680\n",
        "91106"
       ]
      },
      {
       "output_type": "stream",
       "stream": "stdout",
       "text": [
        " \n",
        "90143"
       ]
      },
      {
       "output_type": "stream",
       "stream": "stdout",
       "text": [
        " \n",
        "9000"
       ]
      },
      {
       "output_type": "stream",
       "stream": "stdout",
       "text": [
        " \n",
        "90159"
       ]
      },
      {
       "output_type": "stream",
       "stream": "stdout",
       "text": [
        " \n",
        "90148"
       ]
      },
      {
       "output_type": "stream",
       "stream": "stdout",
       "text": [
        " 90149\n",
        "90145"
       ]
      },
      {
       "output_type": "stream",
       "stream": "stdout",
       "text": [
        " 90146\n",
        "90086"
       ]
      },
      {
       "output_type": "stream",
       "stream": "stdout",
       "text": [
        " \n",
        "90643"
       ]
      },
      {
       "output_type": "stream",
       "stream": "stdout",
       "text": [
        " \n",
        "90640"
       ]
      },
      {
       "output_type": "stream",
       "stream": "stdout",
       "text": [
        " \n",
        "94036"
       ]
      },
      {
       "output_type": "stream",
       "stream": "stdout",
       "text": [
        " \n",
        "89118"
       ]
      },
      {
       "output_type": "stream",
       "stream": "stdout",
       "text": [
        " 90683\n",
        "89108"
       ]
      },
      {
       "output_type": "stream",
       "stream": "stdout",
       "text": [
        " 90683\n",
        "88283"
       ]
      },
      {
       "output_type": "stream",
       "stream": "stdout",
       "text": [
        " 90683\n",
        "88321"
       ]
      },
      {
       "output_type": "stream",
       "stream": "stdout",
       "text": [
        " 90683\n",
        "93427"
       ]
      },
      {
       "output_type": "stream",
       "stream": "stdout",
       "text": [
        " \n",
        "88360"
       ]
      },
      {
       "output_type": "stream",
       "stream": "stdout",
       "text": [
        " 90683\n",
        "90432"
       ]
      },
      {
       "output_type": "stream",
       "stream": "stdout",
       "text": [
        " \n",
        "90492"
       ]
      },
      {
       "output_type": "stream",
       "stream": "stdout",
       "text": [
        " \n",
        "95146"
       ]
      },
      {
       "output_type": "stream",
       "stream": "stdout",
       "text": [
        " 95145\n",
        "90943"
       ]
      },
      {
       "output_type": "stream",
       "stream": "stdout",
       "text": [
        " \n",
        "90675"
       ]
      },
      {
       "output_type": "stream",
       "stream": "stdout",
       "text": [
        " 90679\n",
        "89167"
       ]
      },
      {
       "output_type": "stream",
       "stream": "stdout",
       "text": [
        " 89221\n",
        "89167"
       ]
      },
      {
       "output_type": "stream",
       "stream": "stdout",
       "text": [
        " 89220\n",
        "89165"
       ]
      },
      {
       "output_type": "stream",
       "stream": "stdout",
       "text": [
        " 89219\n",
        "89165"
       ]
      },
      {
       "output_type": "stream",
       "stream": "stdout",
       "text": [
        " 89100\n",
        "89215"
       ]
      },
      {
       "output_type": "stream",
       "stream": "stdout",
       "text": [
        " 89216\n",
        "89213"
       ]
      },
      {
       "output_type": "stream",
       "stream": "stdout",
       "text": [
        " 89214\n",
        "89211"
       ]
      },
      {
       "output_type": "stream",
       "stream": "stdout",
       "text": [
        " 89212\n",
        "89209"
       ]
      },
      {
       "output_type": "stream",
       "stream": "stdout",
       "text": [
        " 89210\n",
        "89207"
       ]
      },
      {
       "output_type": "stream",
       "stream": "stdout",
       "text": [
        " 89208\n",
        "89204"
       ]
      },
      {
       "output_type": "stream",
       "stream": "stdout",
       "text": [
        " \n",
        "89203"
       ]
      },
      {
       "output_type": "stream",
       "stream": "stdout",
       "text": [
        " \n",
        "89202"
       ]
      },
      {
       "output_type": "stream",
       "stream": "stdout",
       "text": [
        " \n",
        "89201"
       ]
      },
      {
       "output_type": "stream",
       "stream": "stdout",
       "text": [
        " \n",
        "89200"
       ]
      },
      {
       "output_type": "stream",
       "stream": "stdout",
       "text": [
        " \n",
        "89199"
       ]
      },
      {
       "output_type": "stream",
       "stream": "stdout",
       "text": [
        " \n",
        "89164"
       ]
      },
      {
       "output_type": "stream",
       "stream": "stdout",
       "text": [
        " \n",
        "89195"
       ]
      },
      {
       "output_type": "stream",
       "stream": "stdout",
       "text": [
        " \n",
        "89193"
       ]
      },
      {
       "output_type": "stream",
       "stream": "stdout",
       "text": [
        " \n",
        "89192"
       ]
      },
      {
       "output_type": "stream",
       "stream": "stdout",
       "text": [
        " \n",
        "90055"
       ]
      },
      {
       "output_type": "stream",
       "stream": "stdout",
       "text": [
        " \n",
        "89191"
       ]
      },
      {
       "output_type": "stream",
       "stream": "stdout",
       "text": [
        " \n",
        "89190"
       ]
      },
      {
       "output_type": "stream",
       "stream": "stdout",
       "text": [
        " \n",
        "90053"
       ]
      },
      {
       "output_type": "stream",
       "stream": "stdout",
       "text": [
        " \n",
        "89189"
       ]
      },
      {
       "output_type": "stream",
       "stream": "stdout",
       "text": [
        " \n",
        "89188"
       ]
      },
      {
       "output_type": "stream",
       "stream": "stdout",
       "text": [
        " \n",
        "89184"
       ]
      },
      {
       "output_type": "stream",
       "stream": "stdout",
       "text": [
        " 89185\n",
        "89176"
       ]
      },
      {
       "output_type": "stream",
       "stream": "stdout",
       "text": [
        " 89177\n",
        "89174"
       ]
      },
      {
       "output_type": "stream",
       "stream": "stdout",
       "text": [
        " 89175\n",
        "90054"
       ]
      },
      {
       "output_type": "stream",
       "stream": "stdout",
       "text": [
        " \n",
        "90050"
       ]
      },
      {
       "output_type": "stream",
       "stream": "stdout",
       "text": [
        " \n",
        "89196"
       ]
      },
      {
       "output_type": "stream",
       "stream": "stdout",
       "text": [
        " \n",
        "89186"
       ]
      },
      {
       "output_type": "stream",
       "stream": "stdout",
       "text": [
        " 89187\n",
        "89182"
       ]
      },
      {
       "output_type": "stream",
       "stream": "stdout",
       "text": [
        " 89183\n",
        "89180"
       ]
      },
      {
       "output_type": "stream",
       "stream": "stdout",
       "text": [
        " 89181\n",
        "89178"
       ]
      },
      {
       "output_type": "stream",
       "stream": "stdout",
       "text": [
        " 89179\n",
        "89093"
       ]
      },
      {
       "output_type": "stream",
       "stream": "stdout",
       "text": [
        " 89173\n",
        "89198"
       ]
      },
      {
       "output_type": "stream",
       "stream": "stdout",
       "text": [
        " 89029\n",
        "89197"
       ]
      },
      {
       "output_type": "stream",
       "stream": "stdout",
       "text": [
        " 89028\n",
        "89196"
       ]
      },
      {
       "output_type": "stream",
       "stream": "stdout",
       "text": [
        " 66103\n",
        "89194"
       ]
      },
      {
       "output_type": "stream",
       "stream": "stdout",
       "text": [
        " \n",
        "89187"
       ]
      },
      {
       "output_type": "stream",
       "stream": "stdout",
       "text": [
        " \n",
        "89171"
       ]
      },
      {
       "output_type": "stream",
       "stream": "stdout",
       "text": [
        " 89172\n",
        "89169"
       ]
      },
      {
       "output_type": "stream",
       "stream": "stdout",
       "text": [
        " 89170\n",
        "89163"
       ]
      },
      {
       "output_type": "stream",
       "stream": "stdout",
       "text": [
        " 89164\n",
        "89149"
       ]
      },
      {
       "output_type": "stream",
       "stream": "stdout",
       "text": [
        " 89162\n",
        "75120"
       ]
      },
      {
       "output_type": "stream",
       "stream": "stdout",
       "text": [
        " 89161\n",
        "75127"
       ]
      },
      {
       "output_type": "stream",
       "stream": "stdout",
       "text": [
        " 89160\n",
        "89150"
       ]
      },
      {
       "output_type": "stream",
       "stream": "stdout",
       "text": [
        " 89159\n",
        "89061"
       ]
      },
      {
       "output_type": "stream",
       "stream": "stdout",
       "text": [
        " 89158\n",
        "89155"
       ]
      },
      {
       "output_type": "stream",
       "stream": "stdout",
       "text": [
        " 89135\n",
        "75120"
       ]
      },
      {
       "output_type": "stream",
       "stream": "stdout",
       "text": [
        " 89089\n",
        "89217"
       ]
      },
      {
       "output_type": "stream",
       "stream": "stdout",
       "text": [
        " 89163\n",
        "89146"
       ]
      },
      {
       "output_type": "stream",
       "stream": "stdout",
       "text": [
        " \n",
        "89143"
       ]
      },
      {
       "output_type": "stream",
       "stream": "stdout",
       "text": [
        " \n",
        "89141"
       ]
      },
      {
       "output_type": "stream",
       "stream": "stdout",
       "text": [
        " \n",
        "89148"
       ]
      },
      {
       "output_type": "stream",
       "stream": "stdout",
       "text": [
        " \n",
        "89147"
       ]
      },
      {
       "output_type": "stream",
       "stream": "stdout",
       "text": [
        " \n",
        "89145"
       ]
      },
      {
       "output_type": "stream",
       "stream": "stdout",
       "text": [
        " \n",
        "89142"
       ]
      },
      {
       "output_type": "stream",
       "stream": "stdout",
       "text": [
        " \n",
        "89137"
       ]
      },
      {
       "output_type": "stream",
       "stream": "stdout",
       "text": [
        " \n",
        "89136"
       ]
      },
      {
       "output_type": "stream",
       "stream": "stdout",
       "text": [
        " \n",
        "89135"
       ]
      },
      {
       "output_type": "stream",
       "stream": "stdout",
       "text": [
        " \n",
        "89132"
       ]
      },
      {
       "output_type": "stream",
       "stream": "stdout",
       "text": [
        " \n",
        "89996"
       ]
      },
      {
       "output_type": "stream",
       "stream": "stdout",
       "text": [
        " \n",
        "89992"
       ]
      },
      {
       "output_type": "stream",
       "stream": "stdout",
       "text": [
        " \n",
        "89130"
       ]
      },
      {
       "output_type": "stream",
       "stream": "stdout",
       "text": [
        " \n",
        "89129"
       ]
      },
      {
       "output_type": "stream",
       "stream": "stdout",
       "text": [
        " \n",
        "90194"
       ]
      },
      {
       "output_type": "stream",
       "stream": "stdout",
       "text": [
        " 90185\n",
        "87435"
       ]
      },
      {
       "output_type": "stream",
       "stream": "stdout",
       "text": [
        " \n",
        "89121"
       ]
      },
      {
       "output_type": "stream",
       "stream": "stdout",
       "text": [
        " \n",
        "90039"
       ]
      },
      {
       "output_type": "stream",
       "stream": "stdout",
       "text": [
        " \n",
        "89162"
       ]
      },
      {
       "output_type": "stream",
       "stream": "stdout",
       "text": [
        " 89164\n",
        "89164"
       ]
      },
      {
       "output_type": "stream",
       "stream": "stdout",
       "text": [
        " 89163\n",
        "89279"
       ]
      },
      {
       "output_type": "stream",
       "stream": "stdout",
       "text": [
        " 89280\n",
        "90021"
       ]
      },
      {
       "output_type": "stream",
       "stream": "stdout",
       "text": [
        " \n",
        "89942"
       ]
      },
      {
       "output_type": "stream",
       "stream": "stdout",
       "text": [
        " \n",
        "89941"
       ]
      },
      {
       "output_type": "stream",
       "stream": "stdout",
       "text": [
        " \n",
        "88078"
       ]
      },
      {
       "output_type": "stream",
       "stream": "stdout",
       "text": [
        " \n",
        "86271"
       ]
      },
      {
       "output_type": "stream",
       "stream": "stdout",
       "text": [
        " 87367\n",
        "87412"
       ]
      },
      {
       "output_type": "stream",
       "stream": "stdout",
       "text": [
        " 87414\n",
        "87412"
       ]
      },
      {
       "output_type": "stream",
       "stream": "stdout",
       "text": [
        " \n",
        "90403"
       ]
      },
      {
       "output_type": "stream",
       "stream": "stdout",
       "text": [
        " \n",
        "90731"
       ]
      },
      {
       "output_type": "stream",
       "stream": "stdout",
       "text": [
        " \n",
        "89112"
       ]
      },
      {
       "output_type": "stream",
       "stream": "stdout",
       "text": [
        " \n",
        "90139"
       ]
      },
      {
       "output_type": "stream",
       "stream": "stdout",
       "text": [
        " \n",
        "89089"
       ]
      },
      {
       "output_type": "stream",
       "stream": "stdout",
       "text": [
        " 75120\n",
        "88137"
       ]
      },
      {
       "output_type": "stream",
       "stream": "stdout",
       "text": [
        " 88138\n",
        "88135"
       ]
      },
      {
       "output_type": "stream",
       "stream": "stdout",
       "text": [
        " 88136\n",
        "89327"
       ]
      },
      {
       "output_type": "stream",
       "stream": "stdout",
       "text": [
        " \n",
        "89231"
       ]
      },
      {
       "output_type": "stream",
       "stream": "stdout",
       "text": [
        " 89229\n",
        "89105"
       ]
      },
      {
       "output_type": "stream",
       "stream": "stdout",
       "text": [
        " \n",
        "89163"
       ]
      },
      {
       "output_type": "stream",
       "stream": "stdout",
       "text": [
        " 89165\n",
        "89162"
       ]
      },
      {
       "output_type": "stream",
       "stream": "stdout",
       "text": [
        " \n",
        "88896"
       ]
      },
      {
       "output_type": "stream",
       "stream": "stdout",
       "text": [
        " 89107\n",
        "89105"
       ]
      },
      {
       "output_type": "stream",
       "stream": "stdout",
       "text": [
        " 89106\n",
        "89104"
       ]
      },
      {
       "output_type": "stream",
       "stream": "stdout",
       "text": [
        " \n",
        "89323"
       ]
      },
      {
       "output_type": "stream",
       "stream": "stdout",
       "text": [
        " \n",
        "90015"
       ]
      },
      {
       "output_type": "stream",
       "stream": "stdout",
       "text": [
        " 90016\n",
        "89322"
       ]
      },
      {
       "output_type": "stream",
       "stream": "stdout",
       "text": [
        " \n",
        "89134"
       ]
      },
      {
       "output_type": "stream",
       "stream": "stdout",
       "text": [
        " 89061\n",
        "89139"
       ]
      },
      {
       "output_type": "stream",
       "stream": "stdout",
       "text": [
        " 89278\n",
        "89320"
       ]
      },
      {
       "output_type": "stream",
       "stream": "stdout",
       "text": [
        " \n",
        "89275"
       ]
      },
      {
       "output_type": "stream",
       "stream": "stdout",
       "text": [
        " \n",
        "89319"
       ]
      },
      {
       "output_type": "stream",
       "stream": "stdout",
       "text": [
        " \n",
        "89157"
       ]
      },
      {
       "output_type": "stream",
       "stream": "stdout",
       "text": [
        " \n",
        "89161"
       ]
      },
      {
       "output_type": "stream",
       "stream": "stdout",
       "text": [
        " \n",
        "93426"
       ]
      },
      {
       "output_type": "stream",
       "stream": "stdout",
       "text": [
        " \n",
        "90019"
       ]
      },
      {
       "output_type": "stream",
       "stream": "stdout",
       "text": [
        " 90020\n",
        "89114"
       ]
      },
      {
       "output_type": "stream",
       "stream": "stdout",
       "text": [
        " 89115\n",
        "89113"
       ]
      },
      {
       "output_type": "stream",
       "stream": "stdout",
       "text": [
        " \n",
        "90017"
       ]
      },
      {
       "output_type": "stream",
       "stream": "stdout",
       "text": [
        " 90018\n",
        "89111"
       ]
      },
      {
       "output_type": "stream",
       "stream": "stdout",
       "text": [
        " \n",
        "89321"
       ]
      },
      {
       "output_type": "stream",
       "stream": "stdout",
       "text": [
        " \n",
        "89151"
       ]
      },
      {
       "output_type": "stream",
       "stream": "stdout",
       "text": [
        " 89150\n",
        "89318"
       ]
      },
      {
       "output_type": "stream",
       "stream": "stdout",
       "text": [
        " \n",
        "89140"
       ]
      },
      {
       "output_type": "stream",
       "stream": "stdout",
       "text": [
        " 89138\n",
        "89277"
       ]
      },
      {
       "output_type": "stream",
       "stream": "stdout",
       "text": [
        " 89246\n",
        "89276"
       ]
      },
      {
       "output_type": "stream",
       "stream": "stdout",
       "text": [
        " \n",
        "75127"
       ]
      },
      {
       "output_type": "stream",
       "stream": "stdout",
       "text": [
        " 89163\n",
        "93424"
       ]
      },
      {
       "output_type": "stream",
       "stream": "stdout",
       "text": [
        " \n",
        "90353"
       ]
      },
      {
       "output_type": "stream",
       "stream": "stdout",
       "text": [
        " 90354\n",
        "89237"
       ]
      },
      {
       "output_type": "stream",
       "stream": "stdout",
       "text": [
        " \n",
        "89317"
       ]
      },
      {
       "output_type": "stream",
       "stream": "stdout",
       "text": [
        " \n",
        "89315"
       ]
      },
      {
       "output_type": "stream",
       "stream": "stdout",
       "text": [
        " \n",
        "89314"
       ]
      },
      {
       "output_type": "stream",
       "stream": "stdout",
       "text": [
        " \n",
        "89313"
       ]
      },
      {
       "output_type": "stream",
       "stream": "stdout",
       "text": [
        " \n",
        "89304"
       ]
      },
      {
       "output_type": "stream",
       "stream": "stdout",
       "text": [
        " \n",
        "88075"
       ]
      },
      {
       "output_type": "stream",
       "stream": "stdout",
       "text": [
        " \n",
        "89282"
       ]
      },
      {
       "output_type": "stream",
       "stream": "stdout",
       "text": [
        " \n",
        "89274"
       ]
      },
      {
       "output_type": "stream",
       "stream": "stdout",
       "text": [
        " \n",
        "89155"
       ]
      },
      {
       "output_type": "stream",
       "stream": "stdout",
       "text": [
        " 89163\n",
        "75120"
       ]
      },
      {
       "output_type": "stream",
       "stream": "stdout",
       "text": [
        " 89163\n",
        "88072"
       ]
      },
      {
       "output_type": "stream",
       "stream": "stdout",
       "text": [
        " 88072\n",
        "89151"
       ]
      },
      {
       "output_type": "stream",
       "stream": "stdout",
       "text": [
        " 89217\n",
        "88072"
       ]
      },
      {
       "output_type": "stream",
       "stream": "stdout",
       "text": [
        " \n",
        "75126"
       ]
      },
      {
       "output_type": "stream",
       "stream": "stdout",
       "text": [
        " 89217\n",
        "89271"
       ]
      },
      {
       "output_type": "stream",
       "stream": "stdout",
       "text": [
        " 89272\n",
        "89316"
       ]
      },
      {
       "output_type": "stream",
       "stream": "stdout",
       "text": [
        " \n",
        "89308"
       ]
      },
      {
       "output_type": "stream",
       "stream": "stdout",
       "text": [
        " 89245\n",
        "90639"
       ]
      },
      {
       "output_type": "stream",
       "stream": "stdout",
       "text": [
        " \n",
        "89302"
       ]
      },
      {
       "output_type": "stream",
       "stream": "stdout",
       "text": [
        " \n",
        "88389"
       ]
      },
      {
       "output_type": "stream",
       "stream": "stdout",
       "text": [
        " \n",
        "89085"
       ]
      },
      {
       "output_type": "stream",
       "stream": "stdout",
       "text": [
        " \n",
        "88357"
       ]
      },
      {
       "output_type": "stream",
       "stream": "stdout",
       "text": [
        " 88321\n",
        "88070"
       ]
      },
      {
       "output_type": "stream",
       "stream": "stdout",
       "text": [
        " \n",
        "89084"
       ]
      },
      {
       "output_type": "stream",
       "stream": "stdout",
       "text": [
        " \n",
        "88069"
       ]
      },
      {
       "output_type": "stream",
       "stream": "stdout",
       "text": [
        " \n",
        "89269"
       ]
      },
      {
       "output_type": "stream",
       "stream": "stdout",
       "text": [
        " \n",
        "89786"
       ]
      },
      {
       "output_type": "stream",
       "stream": "stdout",
       "text": [
        " \n",
        "89780"
       ]
      },
      {
       "output_type": "stream",
       "stream": "stdout",
       "text": [
        " \n",
        "89777"
       ]
      },
      {
       "output_type": "stream",
       "stream": "stdout",
       "text": [
        " 89778\n",
        "88067"
       ]
      },
      {
       "output_type": "stream",
       "stream": "stdout",
       "text": [
        " \n",
        "89261"
       ]
      },
      {
       "output_type": "stream",
       "stream": "stdout",
       "text": [
        " 89267\n",
        "89218"
       ]
      },
      {
       "output_type": "stream",
       "stream": "stdout",
       "text": [
        " 89163\n",
        "94355"
       ]
      },
      {
       "output_type": "stream",
       "stream": "stdout",
       "text": [
        " 94357\n",
        "90675"
       ]
      },
      {
       "output_type": "stream",
       "stream": "stdout",
       "text": [
        " 90678\n",
        "90009"
       ]
      },
      {
       "output_type": "stream",
       "stream": "stdout",
       "text": [
        " \n",
        "89414"
       ]
      },
      {
       "output_type": "stream",
       "stream": "stdout",
       "text": [
        " \n",
        "89265"
       ]
      },
      {
       "output_type": "stream",
       "stream": "stdout",
       "text": [
        " 89266\n",
        "89783"
       ]
      },
      {
       "output_type": "stream",
       "stream": "stdout",
       "text": [
        " \n",
        "89260"
       ]
      },
      {
       "output_type": "stream",
       "stream": "stdout",
       "text": [
        " 89258\n",
        "89781"
       ]
      },
      {
       "output_type": "stream",
       "stream": "stdout",
       "text": [
        " \n",
        "89308"
       ]
      },
      {
       "output_type": "stream",
       "stream": "stdout",
       "text": [
        " \n",
        "89408"
       ]
      },
      {
       "output_type": "stream",
       "stream": "stdout",
       "text": [
        " \n",
        "88988"
       ]
      },
      {
       "output_type": "stream",
       "stream": "stdout",
       "text": [
        " 89776\n",
        "90004"
       ]
      },
      {
       "output_type": "stream",
       "stream": "stdout",
       "text": [
        " \n",
        "89407"
       ]
      },
      {
       "output_type": "stream",
       "stream": "stdout",
       "text": [
        " \n",
        "89250"
       ]
      },
      {
       "output_type": "stream",
       "stream": "stdout",
       "text": [
        " 89251\n",
        "87841"
       ]
      },
      {
       "output_type": "stream",
       "stream": "stdout",
       "text": [
        " \n",
        "89782"
       ]
      },
      {
       "output_type": "stream",
       "stream": "stdout",
       "text": [
        " \n",
        "89775"
       ]
      },
      {
       "output_type": "stream",
       "stream": "stdout",
       "text": [
        " \n",
        "90350"
       ]
      },
      {
       "output_type": "stream",
       "stream": "stdout",
       "text": [
        " 90352\n",
        "89255"
       ]
      },
      {
       "output_type": "stream",
       "stream": "stdout",
       "text": [
        " 89256\n",
        "90007"
       ]
      },
      {
       "output_type": "stream",
       "stream": "stdout",
       "text": [
        " 86271\n",
        "89253"
       ]
      },
      {
       "output_type": "stream",
       "stream": "stdout",
       "text": [
        " \n",
        "89249"
       ]
      },
      {
       "output_type": "stream",
       "stream": "stdout",
       "text": [
        " 89224\n",
        "89221"
       ]
      },
      {
       "output_type": "stream",
       "stream": "stdout",
       "text": [
        " 89167\n",
        "89263"
       ]
      },
      {
       "output_type": "stream",
       "stream": "stdout",
       "text": [
        " 89264\n",
        "89257"
       ]
      },
      {
       "output_type": "stream",
       "stream": "stdout",
       "text": [
        " 89258\n",
        "89255"
       ]
      },
      {
       "output_type": "stream",
       "stream": "stdout",
       "text": [
        " 89154\n",
        "87426"
       ]
      },
      {
       "output_type": "stream",
       "stream": "stdout",
       "text": [
        " 87484\n",
        "85056"
       ]
      },
      {
       "output_type": "stream",
       "stream": "stdout",
       "text": [
        " \n",
        "95221"
       ]
      },
      {
       "output_type": "stream",
       "stream": "stdout",
       "text": [
        " 95223\n",
        "85054"
       ]
      },
      {
       "output_type": "stream",
       "stream": "stdout",
       "text": [
        " 85055\n",
        "85053"
       ]
      },
      {
       "output_type": "stream",
       "stream": "stdout",
       "text": [
        " 85051\n",
        "90078"
       ]
      },
      {
       "output_type": "stream",
       "stream": "stdout",
       "text": [
        " \n",
        "85053"
       ]
      },
      {
       "output_type": "stream",
       "stream": "stdout",
       "text": [
        " 85052\n",
        "59128"
       ]
      },
      {
       "output_type": "stream",
       "stream": "stdout",
       "text": [
        " 59129\n",
        "85051"
       ]
      },
      {
       "output_type": "stream",
       "stream": "stdout",
       "text": [
        " 85052\n",
        "89297"
       ]
      },
      {
       "output_type": "stream",
       "stream": "stdout",
       "text": [
        " \n",
        "75132"
       ]
      },
      {
       "output_type": "stream",
       "stream": "stdout",
       "text": [
        " \n",
        "87477"
       ]
      },
      {
       "output_type": "stream",
       "stream": "stdout",
       "text": [
        " \n",
        "92592"
       ]
      },
      {
       "output_type": "stream",
       "stream": "stdout",
       "text": [
        " \n",
        "85018"
       ]
      },
      {
       "output_type": "stream",
       "stream": "stdout",
       "text": [
        " \n",
        "85036"
       ]
      },
      {
       "output_type": "stream",
       "stream": "stdout",
       "text": [
        " 85035\n",
        "89401"
       ]
      },
      {
       "output_type": "stream",
       "stream": "stdout",
       "text": [
        " \n",
        "59126"
       ]
      },
      {
       "output_type": "stream",
       "stream": "stdout",
       "text": [
        " \n",
        "89110"
       ]
      },
      {
       "output_type": "stream",
       "stream": "stdout",
       "text": [
        " \n",
        "86407"
       ]
      },
      {
       "output_type": "stream",
       "stream": "stdout",
       "text": [
        " 66007\n",
        "89027"
       ]
      },
      {
       "output_type": "stream",
       "stream": "stdout",
       "text": [
        " \n",
        "59065"
       ]
      },
      {
       "output_type": "stream",
       "stream": "stdout",
       "text": [
        " 86308\n",
        "89079"
       ]
      },
      {
       "output_type": "stream",
       "stream": "stdout",
       "text": [
        " 89080\n",
        "89026"
       ]
      },
      {
       "output_type": "stream",
       "stream": "stdout",
       "text": [
        " \n",
        "89278"
       ]
      },
      {
       "output_type": "stream",
       "stream": "stdout",
       "text": [
        " \n",
        "89025"
       ]
      },
      {
       "output_type": "stream",
       "stream": "stdout",
       "text": [
        " \n",
        "88899"
       ]
      },
      {
       "output_type": "stream",
       "stream": "stdout",
       "text": [
        " 89024\n",
        "90675"
       ]
      },
      {
       "output_type": "stream",
       "stream": "stdout",
       "text": [
        " 90677\n",
        "59159"
       ]
      },
      {
       "output_type": "stream",
       "stream": "stdout",
       "text": [
        " 66013\n",
        "93638"
       ]
      },
      {
       "output_type": "stream",
       "stream": "stdout",
       "text": [
        " \n",
        "89071"
       ]
      },
      {
       "output_type": "stream",
       "stream": "stdout",
       "text": [
        " \n",
        "89153"
       ]
      },
      {
       "output_type": "stream",
       "stream": "stdout",
       "text": [
        " \n",
        "89069"
       ]
      },
      {
       "output_type": "stream",
       "stream": "stdout",
       "text": [
        " \n",
        "89248"
       ]
      },
      {
       "output_type": "stream",
       "stream": "stdout",
       "text": [
        " \n",
        "87476"
       ]
      },
      {
       "output_type": "stream",
       "stream": "stdout",
       "text": [
        " \n",
        "90065"
       ]
      },
      {
       "output_type": "stream",
       "stream": "stdout",
       "text": [
        " \n",
        "59054"
       ]
      },
      {
       "output_type": "stream",
       "stream": "stdout",
       "text": [
        " 85037\n",
        "86407"
       ]
      },
      {
       "output_type": "stream",
       "stream": "stdout",
       "text": [
        " 89297\n",
        "87475"
       ]
      },
      {
       "output_type": "stream",
       "stream": "stdout",
       "text": [
        " \n",
        "59159"
       ]
      },
      {
       "output_type": "stream",
       "stream": "stdout",
       "text": [
        " 66010\n",
        "89298"
       ]
      },
      {
       "output_type": "stream",
       "stream": "stdout",
       "text": [
        " \n",
        "87405"
       ]
      },
      {
       "output_type": "stream",
       "stream": "stdout",
       "text": [
        " \n",
        "89154"
       ]
      },
      {
       "output_type": "stream",
       "stream": "stdout",
       "text": [
        " \n",
        "85026"
       ]
      },
      {
       "output_type": "stream",
       "stream": "stdout",
       "text": [
        " \n",
        "89070"
       ]
      },
      {
       "output_type": "stream",
       "stream": "stdout",
       "text": [
        " \n",
        "89068"
       ]
      },
      {
       "output_type": "stream",
       "stream": "stdout",
       "text": [
        " \n",
        "94035"
       ]
      },
      {
       "output_type": "stream",
       "stream": "stdout",
       "text": [
        " \n",
        "89295"
       ]
      },
      {
       "output_type": "stream",
       "stream": "stdout",
       "text": [
        " 89296\n",
        "59159"
       ]
      },
      {
       "output_type": "stream",
       "stream": "stdout",
       "text": [
        " 89126\n",
        "59099"
       ]
      },
      {
       "output_type": "stream",
       "stream": "stdout",
       "text": [
        " \n",
        "89811"
       ]
      },
      {
       "output_type": "stream",
       "stream": "stdout",
       "text": [
        " \n",
        "89000"
       ]
      },
      {
       "output_type": "stream",
       "stream": "stdout",
       "text": [
        " 88999\n",
        "59101"
       ]
      },
      {
       "output_type": "stream",
       "stream": "stdout",
       "text": [
        " 89140\n",
        "88998"
       ]
      },
      {
       "output_type": "stream",
       "stream": "stdout",
       "text": [
        " 88999\n",
        "88077"
       ]
      },
      {
       "output_type": "stream",
       "stream": "stdout",
       "text": [
        " 87474\n",
        "90825"
       ]
      },
      {
       "output_type": "stream",
       "stream": "stdout",
       "text": [
        " \n",
        "89399"
       ]
      },
      {
       "output_type": "stream",
       "stream": "stdout",
       "text": [
        " 89397\n",
        "89244"
       ]
      },
      {
       "output_type": "stream",
       "stream": "stdout",
       "text": [
        " \n",
        "93423"
       ]
      },
      {
       "output_type": "stream",
       "stream": "stdout",
       "text": [
        " \n",
        "89077"
       ]
      },
      {
       "output_type": "stream",
       "stream": "stdout",
       "text": [
        " 89078\n",
        "89074"
       ]
      },
      {
       "output_type": "stream",
       "stream": "stdout",
       "text": [
        " \n",
        "90074"
       ]
      },
      {
       "output_type": "stream",
       "stream": "stdout",
       "text": [
        " \n",
        "88988"
       ]
      },
      {
       "output_type": "stream",
       "stream": "stdout",
       "text": [
        " \n",
        "88987"
       ]
      },
      {
       "output_type": "stream",
       "stream": "stdout",
       "text": [
        " \n",
        "90064"
       ]
      },
      {
       "output_type": "stream",
       "stream": "stdout",
       "text": [
        " \n",
        "87426"
       ]
      },
      {
       "output_type": "stream",
       "stream": "stdout",
       "text": [
        " 87485\n",
        "89801"
       ]
      },
      {
       "output_type": "stream",
       "stream": "stdout",
       "text": [
        " \n",
        "89800"
       ]
      },
      {
       "output_type": "stream",
       "stream": "stdout",
       "text": [
        " \n",
        "89392"
       ]
      },
      {
       "output_type": "stream",
       "stream": "stdout",
       "text": [
        " \n",
        "87408"
       ]
      },
      {
       "output_type": "stream",
       "stream": "stdout",
       "text": [
        " 87409\n",
        "89795"
       ]
      },
      {
       "output_type": "stream",
       "stream": "stdout",
       "text": [
        " \n",
        "89398"
       ]
      },
      {
       "output_type": "stream",
       "stream": "stdout",
       "text": [
        " \n",
        "89397"
       ]
      },
      {
       "output_type": "stream",
       "stream": "stdout",
       "text": [
        " \n",
        "95344"
       ]
      },
      {
       "output_type": "stream",
       "stream": "stdout",
       "text": [
        " \n",
        "91184"
       ]
      },
      {
       "output_type": "stream",
       "stream": "stdout",
       "text": [
        " \n",
        "89394"
       ]
      },
      {
       "output_type": "stream",
       "stream": "stdout",
       "text": [
        " \n",
        "89390"
       ]
      },
      {
       "output_type": "stream",
       "stream": "stdout",
       "text": [
        " 89391\n",
        "89386"
       ]
      },
      {
       "output_type": "stream",
       "stream": "stdout",
       "text": [
        " 89387\n",
        "89384"
       ]
      },
      {
       "output_type": "stream",
       "stream": "stdout",
       "text": [
        " 89385\n",
        "89098"
       ]
      },
      {
       "output_type": "stream",
       "stream": "stdout",
       "text": [
        " 89094\n",
        "89096"
       ]
      },
      {
       "output_type": "stream",
       "stream": "stdout",
       "text": [
        " 89097\n",
        "88994"
       ]
      },
      {
       "output_type": "stream",
       "stream": "stdout",
       "text": [
        " \n",
        "88993"
       ]
      },
      {
       "output_type": "stream",
       "stream": "stdout",
       "text": [
        " 88991\n",
        "89382"
       ]
      },
      {
       "output_type": "stream",
       "stream": "stdout",
       "text": [
        " 89383\n",
        "88992"
       ]
      },
      {
       "output_type": "stream",
       "stream": "stdout",
       "text": [
        " 88991\n",
        "88989"
       ]
      },
      {
       "output_type": "stream",
       "stream": "stdout",
       "text": [
        " 88991\n",
        "89093"
       ]
      },
      {
       "output_type": "stream",
       "stream": "stdout",
       "text": [
        " \n",
        "88990"
       ]
      },
      {
       "output_type": "stream",
       "stream": "stdout",
       "text": [
        " \n",
        "87406"
       ]
      },
      {
       "output_type": "stream",
       "stream": "stdout",
       "text": [
        " 87407\n",
        "90003"
       ]
      },
      {
       "output_type": "stream",
       "stream": "stdout",
       "text": [
        " \n",
        "89378"
       ]
      },
      {
       "output_type": "stream",
       "stream": "stdout",
       "text": [
        " 89379\n",
        "74097"
       ]
      },
      {
       "output_type": "stream",
       "stream": "stdout",
       "text": [
        " \n",
        "79675"
       ]
      },
      {
       "output_type": "stream",
       "stream": "stdout",
       "text": [
        " \n",
        "89242"
       ]
      },
      {
       "output_type": "stream",
       "stream": "stdout",
       "text": [
        " \n",
        "90007"
       ]
      },
      {
       "output_type": "stream",
       "stream": "stdout",
       "text": [
        " 89108\n",
        "89993"
       ]
      },
      {
       "output_type": "stream",
       "stream": "stdout",
       "text": [
        " \n",
        "89063"
       ]
      },
      {
       "output_type": "stream",
       "stream": "stdout",
       "text": [
        " 89062\n",
        "89091"
       ]
      },
      {
       "output_type": "stream",
       "stream": "stdout",
       "text": [
        " 75126\n",
        "89088"
       ]
      },
      {
       "output_type": "stream",
       "stream": "stdout",
       "text": [
        " 75126\n",
        "89048"
       ]
      },
      {
       "output_type": "stream",
       "stream": "stdout",
       "text": [
        " \n",
        "89999"
       ]
      },
      {
       "output_type": "stream",
       "stream": "stdout",
       "text": [
        " \n",
        "86393"
       ]
      },
      {
       "output_type": "stream",
       "stream": "stdout",
       "text": [
        " 86396\n",
        "95353"
       ]
      },
      {
       "output_type": "stream",
       "stream": "stdout",
       "text": [
        " \n",
        "89343"
       ]
      },
      {
       "output_type": "stream",
       "stream": "stdout",
       "text": [
        " \n",
        "93637"
       ]
      },
      {
       "output_type": "stream",
       "stream": "stdout",
       "text": [
        " \n",
        "90000"
       ]
      },
      {
       "output_type": "stream",
       "stream": "stdout",
       "text": [
        " \n",
        "89099"
       ]
      },
      {
       "output_type": "stream",
       "stream": "stdout",
       "text": [
        " 89100\n",
        "89090"
       ]
      },
      {
       "output_type": "stream",
       "stream": "stdout",
       "text": [
        " 89092\n",
        "89794"
       ]
      },
      {
       "output_type": "stream",
       "stream": "stdout",
       "text": [
        " \n",
        "89090"
       ]
      },
      {
       "output_type": "stream",
       "stream": "stdout",
       "text": [
        " 75126\n",
        "87439"
       ]
      },
      {
       "output_type": "stream",
       "stream": "stdout",
       "text": [
        " \n",
        "91104"
       ]
      },
      {
       "output_type": "stream",
       "stream": "stdout",
       "text": [
        " \n",
        "89063"
       ]
      },
      {
       "output_type": "stream",
       "stream": "stdout",
       "text": [
        " 87401\n",
        "71374"
       ]
      },
      {
       "output_type": "stream",
       "stream": "stdout",
       "text": [
        " \n",
        "88976"
       ]
      },
      {
       "output_type": "stream",
       "stream": "stdout",
       "text": [
        " 88977\n",
        "89044"
       ]
      },
      {
       "output_type": "stream",
       "stream": "stdout",
       "text": [
        " \n",
        "87478"
       ]
      },
      {
       "output_type": "stream",
       "stream": "stdout",
       "text": [
        " \n",
        "88976"
       ]
      },
      {
       "output_type": "stream",
       "stream": "stdout",
       "text": [
        " \n",
        "88974"
       ]
      },
      {
       "output_type": "stream",
       "stream": "stdout",
       "text": [
        " \n",
        "89236"
       ]
      },
      {
       "output_type": "stream",
       "stream": "stdout",
       "text": [
        " 89237\n",
        "89291"
       ]
      },
      {
       "output_type": "stream",
       "stream": "stdout",
       "text": [
        " \n",
        "87454"
       ]
      },
      {
       "output_type": "stream",
       "stream": "stdout",
       "text": [
        " \n",
        "88972"
       ]
      },
      {
       "output_type": "stream",
       "stream": "stdout",
       "text": [
        " \n",
        "87450"
       ]
      },
      {
       "output_type": "stream",
       "stream": "stdout",
       "text": [
        " 87451\n",
        "88309"
       ]
      },
      {
       "output_type": "stream",
       "stream": "stdout",
       "text": [
        " 88355\n",
        "74076"
       ]
      },
      {
       "output_type": "stream",
       "stream": "stdout",
       "text": [
        " 87403\n",
        "89335"
       ]
      },
      {
       "output_type": "stream",
       "stream": "stdout",
       "text": [
        " 89336\n",
        "59058"
       ]
      },
      {
       "output_type": "stream",
       "stream": "stdout",
       "text": [
        " 66009\n",
        "89088"
       ]
      },
      {
       "output_type": "stream",
       "stream": "stdout",
       "text": [
        " \n",
        "88986"
       ]
      },
      {
       "output_type": "stream",
       "stream": "stdout",
       "text": [
        " \n",
        "88985"
       ]
      },
      {
       "output_type": "stream",
       "stream": "stdout",
       "text": [
        " \n",
        "88984"
       ]
      },
      {
       "output_type": "stream",
       "stream": "stdout",
       "text": [
        " \n",
        "88983"
       ]
      },
      {
       "output_type": "stream",
       "stream": "stdout",
       "text": [
        " \n",
        "88982"
       ]
      },
      {
       "output_type": "stream",
       "stream": "stdout",
       "text": [
        " \n",
        "88980"
       ]
      },
      {
       "output_type": "stream",
       "stream": "stdout",
       "text": [
        " \n",
        "88979"
       ]
      },
      {
       "output_type": "stream",
       "stream": "stdout",
       "text": [
        " \n",
        "88304"
       ]
      },
      {
       "output_type": "stream",
       "stream": "stdout",
       "text": [
        " 88283\n",
        "88975"
       ]
      },
      {
       "output_type": "stream",
       "stream": "stdout",
       "text": [
        " \n",
        "87455"
       ]
      },
      {
       "output_type": "stream",
       "stream": "stdout",
       "text": [
        " \n",
        "87452"
       ]
      },
      {
       "output_type": "stream",
       "stream": "stdout",
       "text": [
        " \n",
        "88324"
       ]
      },
      {
       "output_type": "stream",
       "stream": "stdout",
       "text": [
        " \n",
        "87451"
       ]
      },
      {
       "output_type": "stream",
       "stream": "stdout",
       "text": [
        " \n",
        "87446"
       ]
      },
      {
       "output_type": "stream",
       "stream": "stdout",
       "text": [
        " 87447\n",
        "87444"
       ]
      },
      {
       "output_type": "stream",
       "stream": "stdout",
       "text": [
        " 87445\n",
        "88895"
       ]
      },
      {
       "output_type": "stream",
       "stream": "stdout",
       "text": [
        " 88166\n",
        "87442"
       ]
      },
      {
       "output_type": "stream",
       "stream": "stdout",
       "text": [
        " 87443\n",
        "87404"
       ]
      },
      {
       "output_type": "stream",
       "stream": "stdout",
       "text": [
        " 87405\n",
        "87401"
       ]
      },
      {
       "output_type": "stream",
       "stream": "stdout",
       "text": [
        " 87402\n",
        "88587"
       ]
      },
      {
       "output_type": "stream",
       "stream": "stdout",
       "text": [
        " 89017\n",
        "87395"
       ]
      },
      {
       "output_type": "stream",
       "stream": "stdout",
       "text": [
        " 87396\n",
        "89396"
       ]
      },
      {
       "output_type": "stream",
       "stream": "stdout",
       "text": [
        " \n",
        "88587"
       ]
      },
      {
       "output_type": "stream",
       "stream": "stdout",
       "text": [
        " 89016\n",
        "87385"
       ]
      },
      {
       "output_type": "stream",
       "stream": "stdout",
       "text": [
        " 87386\n",
        "88965"
       ]
      },
      {
       "output_type": "stream",
       "stream": "stdout",
       "text": [
        " \n",
        "87383"
       ]
      },
      {
       "output_type": "stream",
       "stream": "stdout",
       "text": [
        " 87384\n",
        "89759"
       ]
      },
      {
       "output_type": "stream",
       "stream": "stdout",
       "text": [
        " \n",
        "75113"
       ]
      },
      {
       "output_type": "stream",
       "stream": "stdout",
       "text": [
        " 75116\n",
        "79271"
       ]
      },
      {
       "output_type": "stream",
       "stream": "stdout",
       "text": [
        " \n",
        "90675"
       ]
      },
      {
       "output_type": "stream",
       "stream": "stdout",
       "text": [
        " 90676\n",
        "90350"
       ]
      },
      {
       "output_type": "stream",
       "stream": "stdout",
       "text": [
        " 90351\n",
        "89760"
       ]
      },
      {
       "output_type": "stream",
       "stream": "stdout",
       "text": [
        " \n",
        "88460"
       ]
      },
      {
       "output_type": "stream",
       "stream": "stdout",
       "text": [
        " 88321\n",
        "89337"
       ]
      },
      {
       "output_type": "stream",
       "stream": "stdout",
       "text": [
        " 89338\n",
        "87441"
       ]
      },
      {
       "output_type": "stream",
       "stream": "stdout",
       "text": [
        " \n",
        "87437"
       ]
      },
      {
       "output_type": "stream",
       "stream": "stdout",
       "text": [
        " 87438\n",
        "87391"
       ]
      },
      {
       "output_type": "stream",
       "stream": "stdout",
       "text": [
        " 87392\n",
        "94034"
       ]
      },
      {
       "output_type": "stream",
       "stream": "stdout",
       "text": [
        " \n",
        "87387"
       ]
      },
      {
       "output_type": "stream",
       "stream": "stdout",
       "text": [
        " 87388\n",
        "87379"
       ]
      },
      {
       "output_type": "stream",
       "stream": "stdout",
       "text": [
        " 87380\n",
        "89238"
       ]
      },
      {
       "output_type": "stream",
       "stream": "stdout",
       "text": [
        " 89239\n",
        "74075"
       ]
      },
      {
       "output_type": "stream",
       "stream": "stdout",
       "text": [
        " 79266\n",
        "74075"
       ]
      },
      {
       "output_type": "stream",
       "stream": "stdout",
       "text": [
        " 74079\n",
        "89769"
       ]
      },
      {
       "output_type": "stream",
       "stream": "stdout",
       "text": [
        " \n",
        "79265"
       ]
      },
      {
       "output_type": "stream",
       "stream": "stdout",
       "text": [
        " \n",
        "89236"
       ]
      },
      {
       "output_type": "stream",
       "stream": "stdout",
       "text": [
        " 89235\n",
        "59101"
       ]
      },
      {
       "output_type": "stream",
       "stream": "stdout",
       "text": [
        " \n",
        "89289"
       ]
      },
      {
       "output_type": "stream",
       "stream": "stdout",
       "text": [
        " 89134\n",
        "88934"
       ]
      },
      {
       "output_type": "stream",
       "stream": "stdout",
       "text": [
        " \n",
        "85046"
       ]
      },
      {
       "output_type": "stream",
       "stream": "stdout",
       "text": [
        " \n",
        "85045"
       ]
      },
      {
       "output_type": "stream",
       "stream": "stdout",
       "text": [
        " \n",
        "85044"
       ]
      },
      {
       "output_type": "stream",
       "stream": "stdout",
       "text": [
        " \n",
        "88933"
       ]
      },
      {
       "output_type": "stream",
       "stream": "stdout",
       "text": [
        " \n",
        "85039"
       ]
      },
      {
       "output_type": "stream",
       "stream": "stdout",
       "text": [
        " 85040\n",
        "85028"
       ]
      },
      {
       "output_type": "stream",
       "stream": "stdout",
       "text": [
        " \n",
        "89060"
       ]
      },
      {
       "output_type": "stream",
       "stream": "stdout",
       "text": [
        " \n",
        "87399"
       ]
      },
      {
       "output_type": "stream",
       "stream": "stdout",
       "text": [
        " 87400\n",
        "87397"
       ]
      },
      {
       "output_type": "stream",
       "stream": "stdout",
       "text": [
        " 87398\n",
        "87381"
       ]
      },
      {
       "output_type": "stream",
       "stream": "stdout",
       "text": [
        " 87382\n",
        "87377"
       ]
      },
      {
       "output_type": "stream",
       "stream": "stdout",
       "text": [
        " 87378\n",
        "87375"
       ]
      },
      {
       "output_type": "stream",
       "stream": "stdout",
       "text": [
        " 87376\n",
        "87373"
       ]
      },
      {
       "output_type": "stream",
       "stream": "stdout",
       "text": [
        " 87374\n",
        "86371"
       ]
      },
      {
       "output_type": "stream",
       "stream": "stdout",
       "text": [
        " \n",
        "66213"
       ]
      },
      {
       "output_type": "stream",
       "stream": "stdout",
       "text": [
        " \n",
        "86370"
       ]
      },
      {
       "output_type": "stream",
       "stream": "stdout",
       "text": [
        " \n",
        "86369"
       ]
      },
      {
       "output_type": "stream",
       "stream": "stdout",
       "text": [
        " \n",
        "89042"
       ]
      },
      {
       "output_type": "stream",
       "stream": "stdout",
       "text": [
        " \n",
        "95221"
       ]
      },
      {
       "output_type": "stream",
       "stream": "stdout",
       "text": [
        " 95222\n",
        "88962"
       ]
      },
      {
       "output_type": "stream",
       "stream": "stdout",
       "text": [
        " \n",
        "86391"
       ]
      },
      {
       "output_type": "stream",
       "stream": "stdout",
       "text": [
        " \n",
        "87433"
       ]
      },
      {
       "output_type": "stream",
       "stream": "stdout",
       "text": [
        " 87434\n",
        "89059"
       ]
      },
      {
       "output_type": "stream",
       "stream": "stdout",
       "text": [
        " \n",
        "88906"
       ]
      },
      {
       "output_type": "stream",
       "stream": "stdout",
       "text": [
        " \n",
        "88905"
       ]
      },
      {
       "output_type": "stream",
       "stream": "stdout",
       "text": [
        " \n",
        "88587"
       ]
      },
      {
       "output_type": "stream",
       "stream": "stdout",
       "text": [
        " 89015\n",
        "88904"
       ]
      },
      {
       "output_type": "stream",
       "stream": "stdout",
       "text": [
        " \n",
        "88879"
       ]
      },
      {
       "output_type": "stream",
       "stream": "stdout",
       "text": [
        " \n",
        "88961"
       ]
      },
      {
       "output_type": "stream",
       "stream": "stdout",
       "text": [
        " \n",
        "86385"
       ]
      },
      {
       "output_type": "stream",
       "stream": "stdout",
       "text": [
        " \n",
        "86384"
       ]
      },
      {
       "output_type": "stream",
       "stream": "stdout",
       "text": [
        " \n",
        "88468"
       ]
      },
      {
       "output_type": "stream",
       "stream": "stdout",
       "text": [
        " \n",
        "88897"
       ]
      },
      {
       "output_type": "stream",
       "stream": "stdout",
       "text": [
        " \n",
        "86365"
       ]
      },
      {
       "output_type": "stream",
       "stream": "stdout",
       "text": [
        " \n",
        "86363"
       ]
      },
      {
       "output_type": "stream",
       "stream": "stdout",
       "text": [
        " \n",
        "86362"
       ]
      },
      {
       "output_type": "stream",
       "stream": "stdout",
       "text": [
        " \n",
        "86361"
       ]
      },
      {
       "output_type": "stream",
       "stream": "stdout",
       "text": [
        " \n",
        "93815"
       ]
      },
      {
       "output_type": "stream",
       "stream": "stdout",
       "text": [
        " \n",
        "86359"
       ]
      },
      {
       "output_type": "stream",
       "stream": "stdout",
       "text": [
        " \n",
        "75134"
       ]
      },
      {
       "output_type": "stream",
       "stream": "stdout",
       "text": [
        " \n",
        "88642"
       ]
      },
      {
       "output_type": "stream",
       "stream": "stdout",
       "text": [
        " \n",
        "88641"
       ]
      },
      {
       "output_type": "stream",
       "stream": "stdout",
       "text": [
        " \n",
        "87448"
       ]
      },
      {
       "output_type": "stream",
       "stream": "stdout",
       "text": [
        " 87449\n",
        "87431"
       ]
      },
      {
       "output_type": "stream",
       "stream": "stdout",
       "text": [
        " 87432\n",
        "87428"
       ]
      },
      {
       "output_type": "stream",
       "stream": "stdout",
       "text": [
        " 74092\n",
        "87426"
       ]
      },
      {
       "output_type": "stream",
       "stream": "stdout",
       "text": [
        " 87427\n",
        "87422"
       ]
      },
      {
       "output_type": "stream",
       "stream": "stdout",
       "text": [
        " 87423\n",
        "87414"
       ]
      },
      {
       "output_type": "stream",
       "stream": "stdout",
       "text": [
        " 87415\n",
        "75131"
       ]
      },
      {
       "output_type": "stream",
       "stream": "stdout",
       "text": [
        " 75096\n",
        "88957"
       ]
      },
      {
       "output_type": "stream",
       "stream": "stdout",
       "text": [
        " 88958\n",
        "87412"
       ]
      },
      {
       "output_type": "stream",
       "stream": "stdout",
       "text": [
        " 87413\n",
        "88955"
       ]
      },
      {
       "output_type": "stream",
       "stream": "stdout",
       "text": [
        " 88956\n",
        "88896"
       ]
      },
      {
       "output_type": "stream",
       "stream": "stdout",
       "text": [
        " \n",
        "75118"
       ]
      },
      {
       "output_type": "stream",
       "stream": "stdout",
       "text": [
        " 88952\n",
        "86380"
       ]
      },
      {
       "output_type": "stream",
       "stream": "stdout",
       "text": [
        " \n",
        "86379"
       ]
      },
      {
       "output_type": "stream",
       "stream": "stdout",
       "text": [
        " \n",
        "88596"
       ]
      },
      {
       "output_type": "stream",
       "stream": "stdout",
       "text": [
        " \n",
        "86378"
       ]
      },
      {
       "output_type": "stream",
       "stream": "stdout",
       "text": [
        " \n",
        "86368"
       ]
      },
      {
       "output_type": "stream",
       "stream": "stdout",
       "text": [
        " \n",
        "88947"
       ]
      },
      {
       "output_type": "stream",
       "stream": "stdout",
       "text": [
        " 88948\n",
        "86367"
       ]
      },
      {
       "output_type": "stream",
       "stream": "stdout",
       "text": [
        " \n",
        "88893"
       ]
      },
      {
       "output_type": "stream",
       "stream": "stdout",
       "text": [
        " 88383\n",
        "86366"
       ]
      },
      {
       "output_type": "stream",
       "stream": "stdout",
       "text": [
        " \n",
        "86364"
       ]
      },
      {
       "output_type": "stream",
       "stream": "stdout",
       "text": [
        " \n",
        "86360"
       ]
      },
      {
       "output_type": "stream",
       "stream": "stdout",
       "text": [
        " \n",
        "86358"
       ]
      },
      {
       "output_type": "stream",
       "stream": "stdout",
       "text": [
        " \n",
        "88640"
       ]
      },
      {
       "output_type": "stream",
       "stream": "stdout",
       "text": [
        " \n",
        "86357"
       ]
      },
      {
       "output_type": "stream",
       "stream": "stdout",
       "text": [
        " \n",
        "88627"
       ]
      },
      {
       "output_type": "stream",
       "stream": "stdout",
       "text": [
        " \n",
        "86356"
       ]
      },
      {
       "output_type": "stream",
       "stream": "stdout",
       "text": [
        " \n",
        "86355"
       ]
      },
      {
       "output_type": "stream",
       "stream": "stdout",
       "text": [
        " \n",
        "87439"
       ]
      },
      {
       "output_type": "stream",
       "stream": "stdout",
       "text": [
        " 87440\n",
        "87429"
       ]
      },
      {
       "output_type": "stream",
       "stream": "stdout",
       "text": [
        " 87430\n",
        "93421"
       ]
      },
      {
       "output_type": "stream",
       "stream": "stdout",
       "text": [
        " \n",
        "88949"
       ]
      },
      {
       "output_type": "stream",
       "stream": "stdout",
       "text": [
        " 88950\n",
        "87420"
       ]
      },
      {
       "output_type": "stream",
       "stream": "stdout",
       "text": [
        " 87421\n",
        "88593"
       ]
      },
      {
       "output_type": "stream",
       "stream": "stdout",
       "text": [
        " \n",
        "87418"
       ]
      },
      {
       "output_type": "stream",
       "stream": "stdout",
       "text": [
        " 87419\n",
        "87416"
       ]
      },
      {
       "output_type": "stream",
       "stream": "stdout",
       "text": [
        " 87417\n",
        "87410"
       ]
      },
      {
       "output_type": "stream",
       "stream": "stdout",
       "text": [
        " 87411\n",
        "89256"
       ]
      },
      {
       "output_type": "stream",
       "stream": "stdout",
       "text": [
        " 89160\n",
        "88459"
       ]
      },
      {
       "output_type": "stream",
       "stream": "stdout",
       "text": [
        " 88460\n",
        "89331"
       ]
      },
      {
       "output_type": "stream",
       "stream": "stdout",
       "text": [
        " 89332\n",
        "75130"
       ]
      },
      {
       "output_type": "stream",
       "stream": "stdout",
       "text": [
        " \n",
        "88943"
       ]
      },
      {
       "output_type": "stream",
       "stream": "stdout",
       "text": [
        " 88944\n",
        "88893"
       ]
      },
      {
       "output_type": "stream",
       "stream": "stdout",
       "text": [
        " \n",
        "88456"
       ]
      },
      {
       "output_type": "stream",
       "stream": "stdout",
       "text": [
        " \n",
        "75129"
       ]
      },
      {
       "output_type": "stream",
       "stream": "stdout",
       "text": [
        " \n",
        "89232"
       ]
      },
      {
       "output_type": "stream",
       "stream": "stdout",
       "text": [
        " \n",
        "88894"
       ]
      },
      {
       "output_type": "stream",
       "stream": "stdout",
       "text": [
        " \n",
        "88462"
       ]
      },
      {
       "output_type": "stream",
       "stream": "stdout",
       "text": [
        " \n",
        "75124"
       ]
      },
      {
       "output_type": "stream",
       "stream": "stdout",
       "text": [
        " \n",
        "75123"
       ]
      },
      {
       "output_type": "stream",
       "stream": "stdout",
       "text": [
        " \n",
        "75122"
       ]
      },
      {
       "output_type": "stream",
       "stream": "stdout",
       "text": [
        " 75120\n",
        "88454"
       ]
      },
      {
       "output_type": "stream",
       "stream": "stdout",
       "text": [
        " \n",
        "88958"
       ]
      },
      {
       "output_type": "stream",
       "stream": "stdout",
       "text": [
        " 88957\n",
        "88953"
       ]
      },
      {
       "output_type": "stream",
       "stream": "stdout",
       "text": [
        " 88954\n",
        "88452"
       ]
      },
      {
       "output_type": "stream",
       "stream": "stdout",
       "text": [
        " \n",
        "88451"
       ]
      },
      {
       "output_type": "stream",
       "stream": "stdout",
       "text": [
        " \n",
        "75118"
       ]
      },
      {
       "output_type": "stream",
       "stream": "stdout",
       "text": [
        " 88951\n",
        "65920"
       ]
      },
      {
       "output_type": "stream",
       "stream": "stdout",
       "text": [
        " 88440\n",
        "89290"
       ]
      },
      {
       "output_type": "stream",
       "stream": "stdout",
       "text": [
        " 89161\n",
        "88945"
       ]
      },
      {
       "output_type": "stream",
       "stream": "stdout",
       "text": [
        " 88946\n",
        "86381"
       ]
      },
      {
       "output_type": "stream",
       "stream": "stdout",
       "text": [
        " \n",
        "88447"
       ]
      },
      {
       "output_type": "stream",
       "stream": "stdout",
       "text": [
        " \n",
        "86376"
       ]
      },
      {
       "output_type": "stream",
       "stream": "stdout",
       "text": [
        " \n",
        "88339"
       ]
      },
      {
       "output_type": "stream",
       "stream": "stdout",
       "text": [
        " \n",
        "86374"
       ]
      },
      {
       "output_type": "stream",
       "stream": "stdout",
       "text": [
        " \n",
        "88446"
       ]
      },
      {
       "output_type": "stream",
       "stream": "stdout",
       "text": [
        " \n",
        "88941"
       ]
      },
      {
       "output_type": "stream",
       "stream": "stdout",
       "text": [
        " 88942\n",
        "88443"
       ]
      },
      {
       "output_type": "stream",
       "stream": "stdout",
       "text": [
        " 88444\n",
        "85035"
       ]
      },
      {
       "output_type": "stream",
       "stream": "stdout",
       "text": [
        " 85036\n",
        "85033"
       ]
      },
      {
       "output_type": "stream",
       "stream": "stdout",
       "text": [
        " 85034\n",
        "85031"
       ]
      },
      {
       "output_type": "stream",
       "stream": "stdout",
       "text": [
        " 85032\n",
        "85029"
       ]
      },
      {
       "output_type": "stream",
       "stream": "stdout",
       "text": [
        " \n",
        "85027"
       ]
      },
      {
       "output_type": "stream",
       "stream": "stdout",
       "text": [
        " \n",
        "66788"
       ]
      },
      {
       "output_type": "stream",
       "stream": "stdout",
       "text": [
        " 61863\n",
        "66788"
       ]
      },
      {
       "output_type": "stream",
       "stream": "stdout",
       "text": [
        " \n",
        "86377"
       ]
      },
      {
       "output_type": "stream",
       "stream": "stdout",
       "text": [
        " \n",
        "88337"
       ]
      },
      {
       "output_type": "stream",
       "stream": "stdout",
       "text": [
        " \n",
        "90675"
       ]
      },
      {
       "output_type": "stream",
       "stream": "stdout",
       "text": [
        " 66991\n",
        "86375"
       ]
      },
      {
       "output_type": "stream",
       "stream": "stdout",
       "text": [
        " \n",
        "75116"
       ]
      },
      {
       "output_type": "stream",
       "stream": "stdout",
       "text": [
        " \n",
        "86373"
       ]
      },
      {
       "output_type": "stream",
       "stream": "stdout",
       "text": [
        " \n",
        "75115"
       ]
      },
      {
       "output_type": "stream",
       "stream": "stdout",
       "text": [
        " \n",
        "75114"
       ]
      },
      {
       "output_type": "stream",
       "stream": "stdout",
       "text": [
        " \n",
        "88336"
       ]
      },
      {
       "output_type": "stream",
       "stream": "stdout",
       "text": [
        " \n",
        "86372"
       ]
      },
      {
       "output_type": "stream",
       "stream": "stdout",
       "text": [
        " \n",
        "74080"
       ]
      },
      {
       "output_type": "stream",
       "stream": "stdout",
       "text": [
        " \n",
        "84842"
       ]
      },
      {
       "output_type": "stream",
       "stream": "stdout",
       "text": [
        " \n",
        "74080"
       ]
      },
      {
       "output_type": "stream",
       "stream": "stdout",
       "text": [
        " 74078\n",
        "88324"
       ]
      },
      {
       "output_type": "stream",
       "stream": "stdout",
       "text": [
        " 88325\n",
        "74080"
       ]
      },
      {
       "output_type": "stream",
       "stream": "stdout",
       "text": [
        " 74080\n",
        "88316"
       ]
      },
      {
       "output_type": "stream",
       "stream": "stdout",
       "text": [
        " 88317\n",
        "75097"
       ]
      },
      {
       "output_type": "stream",
       "stream": "stdout",
       "text": [
        " 74078\n",
        "75097"
       ]
      },
      {
       "output_type": "stream",
       "stream": "stdout",
       "text": [
        " 75112\n",
        "87158"
       ]
      },
      {
       "output_type": "stream",
       "stream": "stdout",
       "text": [
        " \n",
        "89753"
       ]
      },
      {
       "output_type": "stream",
       "stream": "stdout",
       "text": [
        " 89756\n",
        "88321"
       ]
      },
      {
       "output_type": "stream",
       "stream": "stdout",
       "text": [
        " 88283\n",
        "88333"
       ]
      },
      {
       "output_type": "stream",
       "stream": "stdout",
       "text": [
        " \n",
        "88326"
       ]
      },
      {
       "output_type": "stream",
       "stream": "stdout",
       "text": [
        " 88327\n",
        "85023"
       ]
      },
      {
       "output_type": "stream",
       "stream": "stdout",
       "text": [
        " \n",
        "88322"
       ]
      },
      {
       "output_type": "stream",
       "stream": "stdout",
       "text": [
        " 88323\n",
        "88316"
       ]
      },
      {
       "output_type": "stream",
       "stream": "stdout",
       "text": [
        " \n",
        "86236"
       ]
      },
      {
       "output_type": "stream",
       "stream": "stdout",
       "text": [
        " 86361\n",
        "88455"
       ]
      },
      {
       "output_type": "stream",
       "stream": "stdout",
       "text": [
        " \n",
        "88451"
       ]
      },
      {
       "output_type": "stream",
       "stream": "stdout",
       "text": [
        " 88450\n",
        "65925"
       ]
      },
      {
       "output_type": "stream",
       "stream": "stdout",
       "text": [
        " 88450\n",
        "85022"
       ]
      },
      {
       "output_type": "stream",
       "stream": "stdout",
       "text": [
        " \n",
        "89229"
       ]
      },
      {
       "output_type": "stream",
       "stream": "stdout",
       "text": [
        " \n",
        "88305"
       ]
      },
      {
       "output_type": "stream",
       "stream": "stdout",
       "text": [
        " 88306\n",
        "88442"
       ]
      },
      {
       "output_type": "stream",
       "stream": "stdout",
       "text": [
        " \n",
        "88304"
       ]
      },
      {
       "output_type": "stream",
       "stream": "stdout",
       "text": [
        " \n",
        "86904"
       ]
      },
      {
       "output_type": "stream",
       "stream": "stdout",
       "text": [
        " \n",
        "88303"
       ]
      },
      {
       "output_type": "stream",
       "stream": "stdout",
       "text": [
        " \n",
        "89328"
       ]
      },
      {
       "output_type": "stream",
       "stream": "stdout",
       "text": [
        " 89330\n",
        "85018"
       ]
      },
      {
       "output_type": "stream",
       "stream": "stdout",
       "text": [
        " 85019\n",
        "90144"
       ]
      },
      {
       "output_type": "stream",
       "stream": "stdout",
       "text": [
        " \n",
        "88388"
       ]
      },
      {
       "output_type": "stream",
       "stream": "stdout",
       "text": [
        " 88389\n",
        "88386"
       ]
      },
      {
       "output_type": "stream",
       "stream": "stdout",
       "text": [
        " 88387\n",
        "88385"
       ]
      },
      {
       "output_type": "stream",
       "stream": "stdout",
       "text": [
        " \n",
        "88387"
       ]
      },
      {
       "output_type": "stream",
       "stream": "stdout",
       "text": [
        " 88389\n",
        "86903"
       ]
      },
      {
       "output_type": "stream",
       "stream": "stdout",
       "text": [
        " \n",
        "84592"
       ]
      },
      {
       "output_type": "stream",
       "stream": "stdout",
       "text": [
        " 75105\n",
        "74109"
       ]
      },
      {
       "output_type": "stream",
       "stream": "stdout",
       "text": [
        " \n",
        "88448"
       ]
      },
      {
       "output_type": "stream",
       "stream": "stdout",
       "text": [
        " \n",
        "89037"
       ]
      },
      {
       "output_type": "stream",
       "stream": "stdout",
       "text": [
        " \n",
        "66153"
       ]
      },
      {
       "output_type": "stream",
       "stream": "stdout",
       "text": [
        " 88445\n",
        "86347"
       ]
      },
      {
       "output_type": "stream",
       "stream": "stdout",
       "text": [
        " \n",
        "88441"
       ]
      },
      {
       "output_type": "stream",
       "stream": "stdout",
       "text": [
        " \n",
        "84841"
       ]
      },
      {
       "output_type": "stream",
       "stream": "stdout",
       "text": [
        " \n",
        "88436"
       ]
      },
      {
       "output_type": "stream",
       "stream": "stdout",
       "text": [
        " \n",
        "74082"
       ]
      },
      {
       "output_type": "stream",
       "stream": "stdout",
       "text": [
        " 84832\n",
        "88574"
       ]
      },
      {
       "output_type": "stream",
       "stream": "stdout",
       "text": [
        " \n",
        "86329"
       ]
      },
      {
       "output_type": "stream",
       "stream": "stdout",
       "text": [
        " \n",
        "89258"
       ]
      },
      {
       "output_type": "stream",
       "stream": "stdout",
       "text": [
        " 89157\n",
        "86796"
       ]
      },
      {
       "output_type": "stream",
       "stream": "stdout",
       "text": [
        " 86797\n",
        "88572"
       ]
      },
      {
       "output_type": "stream",
       "stream": "stdout",
       "text": [
        " \n",
        "86238"
       ]
      },
      {
       "output_type": "stream",
       "stream": "stdout",
       "text": [
        " \n",
        "84591"
       ]
      },
      {
       "output_type": "stream",
       "stream": "stdout",
       "text": [
        " 84590\n",
        "94033"
       ]
      },
      {
       "output_type": "stream",
       "stream": "stdout",
       "text": [
        " \n",
        "88440"
       ]
      },
      {
       "output_type": "stream",
       "stream": "stdout",
       "text": [
        " \n",
        "65924"
       ]
      },
      {
       "output_type": "stream",
       "stream": "stdout",
       "text": [
        " \n",
        "65925"
       ]
      },
      {
       "output_type": "stream",
       "stream": "stdout",
       "text": [
        " \n",
        "88439"
       ]
      },
      {
       "output_type": "stream",
       "stream": "stdout",
       "text": [
        " \n",
        "87370"
       ]
      },
      {
       "output_type": "stream",
       "stream": "stdout",
       "text": [
        " \n",
        "88435"
       ]
      },
      {
       "output_type": "stream",
       "stream": "stdout",
       "text": [
        " \n",
        "89753"
       ]
      },
      {
       "output_type": "stream",
       "stream": "stdout",
       "text": [
        " 89755\n",
        "88299"
       ]
      },
      {
       "output_type": "stream",
       "stream": "stdout",
       "text": [
        " 88300\n",
        "88297"
       ]
      },
      {
       "output_type": "stream",
       "stream": "stdout",
       "text": [
        " \n",
        "88296"
       ]
      },
      {
       "output_type": "stream",
       "stream": "stdout",
       "text": [
        " \n",
        "71341"
       ]
      },
      {
       "output_type": "stream",
       "stream": "stdout",
       "text": [
        " \n",
        "75104"
       ]
      },
      {
       "output_type": "stream",
       "stream": "stdout",
       "text": [
        " 75105\n",
        "88427"
       ]
      },
      {
       "output_type": "stream",
       "stream": "stdout",
       "text": [
        " \n",
        "75101"
       ]
      },
      {
       "output_type": "stream",
       "stream": "stdout",
       "text": [
        " \n",
        "74060"
       ]
      },
      {
       "output_type": "stream",
       "stream": "stdout",
       "text": [
        " \n",
        "86240"
       ]
      },
      {
       "output_type": "stream",
       "stream": "stdout",
       "text": [
        " \n",
        "88360"
       ]
      },
      {
       "output_type": "stream",
       "stream": "stdout",
       "text": [
        " 88364\n",
        "86237"
       ]
      },
      {
       "output_type": "stream",
       "stream": "stdout",
       "text": [
        " \n",
        "90675"
       ]
      },
      {
       "output_type": "stream",
       "stream": "stdout",
       "text": [
        " \n",
        "86794"
       ]
      },
      {
       "output_type": "stream",
       "stream": "stdout",
       "text": [
        " \n",
        "88569"
       ]
      },
      {
       "output_type": "stream",
       "stream": "stdout",
       "text": [
        " \n",
        "71353"
       ]
      },
      {
       "output_type": "stream",
       "stream": "stdout",
       "text": [
        " 74082\n",
        "88301"
       ]
      },
      {
       "output_type": "stream",
       "stream": "stdout",
       "text": [
        " 88302\n",
        "88298"
       ]
      },
      {
       "output_type": "stream",
       "stream": "stdout",
       "text": [
        " \n",
        "88281"
       ]
      },
      {
       "output_type": "stream",
       "stream": "stdout",
       "text": [
        " \n",
        "72135"
       ]
      },
      {
       "output_type": "stream",
       "stream": "stdout",
       "text": [
        " \n",
        "74106"
       ]
      },
      {
       "output_type": "stream",
       "stream": "stdout",
       "text": [
        " 74106\n",
        "86242"
       ]
      },
      {
       "output_type": "stream",
       "stream": "stdout",
       "text": [
        " \n",
        "72132"
       ]
      },
      {
       "output_type": "stream",
       "stream": "stdout",
       "text": [
        " \n",
        "89258"
       ]
      },
      {
       "output_type": "stream",
       "stream": "stdout",
       "text": [
        " \n",
        "86239"
       ]
      },
      {
       "output_type": "stream",
       "stream": "stdout",
       "text": [
        " \n",
        "88567"
       ]
      },
      {
       "output_type": "stream",
       "stream": "stdout",
       "text": [
        " \n",
        "88381"
       ]
      },
      {
       "output_type": "stream",
       "stream": "stdout",
       "text": [
        " \n",
        "72131"
       ]
      },
      {
       "output_type": "stream",
       "stream": "stdout",
       "text": [
        " \n",
        "72130"
       ]
      },
      {
       "output_type": "stream",
       "stream": "stdout",
       "text": [
        " \n",
        "89793"
       ]
      },
      {
       "output_type": "stream",
       "stream": "stdout",
       "text": [
        " \n",
        "72129"
       ]
      },
      {
       "output_type": "stream",
       "stream": "stdout",
       "text": [
        " \n",
        "72128"
       ]
      },
      {
       "output_type": "stream",
       "stream": "stdout",
       "text": [
        " \n",
        "93825"
       ]
      },
      {
       "output_type": "stream",
       "stream": "stdout",
       "text": [
        " \n",
        "79683"
       ]
      },
      {
       "output_type": "stream",
       "stream": "stdout",
       "text": [
        " \n",
        "74073"
       ]
      },
      {
       "output_type": "stream",
       "stream": "stdout",
       "text": [
        " 86232\n",
        "88426"
       ]
      },
      {
       "output_type": "stream",
       "stream": "stdout",
       "text": [
        " \n",
        "88280"
       ]
      },
      {
       "output_type": "stream",
       "stream": "stdout",
       "text": [
        " \n",
        "86792"
       ]
      },
      {
       "output_type": "stream",
       "stream": "stdout",
       "text": [
        " \n",
        "88212"
       ]
      },
      {
       "output_type": "stream",
       "stream": "stdout",
       "text": [
        " 88214\n",
        "88212"
       ]
      },
      {
       "output_type": "stream",
       "stream": "stdout",
       "text": [
        " 88213\n",
        "88210"
       ]
      },
      {
       "output_type": "stream",
       "stream": "stdout",
       "text": [
        " \n",
        "75103"
       ]
      },
      {
       "output_type": "stream",
       "stream": "stdout",
       "text": [
        " 75111\n",
        "75110"
       ]
      },
      {
       "output_type": "stream",
       "stream": "stdout",
       "text": [
        " 71356\n",
        "75110"
       ]
      },
      {
       "output_type": "stream",
       "stream": "stdout",
       "text": [
        " 71334\n",
        "88380"
       ]
      },
      {
       "output_type": "stream",
       "stream": "stdout",
       "text": [
        " \n",
        "75107"
       ]
      },
      {
       "output_type": "stream",
       "stream": "stdout",
       "text": [
        " 71353\n",
        "86790"
       ]
      },
      {
       "output_type": "stream",
       "stream": "stdout",
       "text": [
        " \n",
        "75106"
       ]
      },
      {
       "output_type": "stream",
       "stream": "stdout",
       "text": [
        " \n",
        "88169"
       ]
      },
      {
       "output_type": "stream",
       "stream": "stdout",
       "text": [
        " \n",
        "79682"
       ]
      },
      {
       "output_type": "stream",
       "stream": "stdout",
       "text": [
        " \n",
        "86789"
       ]
      },
      {
       "output_type": "stream",
       "stream": "stdout",
       "text": [
        " \n",
        "74082"
       ]
      },
      {
       "output_type": "stream",
       "stream": "stdout",
       "text": [
        " 66091\n",
        "75100"
       ]
      },
      {
       "output_type": "stream",
       "stream": "stdout",
       "text": [
        " \n",
        "75098"
       ]
      },
      {
       "output_type": "stream",
       "stream": "stdout",
       "text": [
        " \n",
        "88940"
       ]
      },
      {
       "output_type": "stream",
       "stream": "stdout",
       "text": [
        " 66989\n",
        "74082"
       ]
      },
      {
       "output_type": "stream",
       "stream": "stdout",
       "text": [
        " 74082\n",
        "95342"
       ]
      },
      {
       "output_type": "stream",
       "stream": "stdout",
       "text": [
        " \n",
        "86231"
       ]
      },
      {
       "output_type": "stream",
       "stream": "stdout",
       "text": [
        " 65884\n",
        "74102"
       ]
      },
      {
       "output_type": "stream",
       "stream": "stdout",
       "text": [
        " 74101\n",
        "89290"
       ]
      },
      {
       "output_type": "stream",
       "stream": "stdout",
       "text": [
        " \n",
        "88253"
       ]
      },
      {
       "output_type": "stream",
       "stream": "stdout",
       "text": [
        " \n",
        "88079"
       ]
      },
      {
       "output_type": "stream",
       "stream": "stdout",
       "text": [
        " 87843\n",
        "88079"
       ]
      },
      {
       "output_type": "stream",
       "stream": "stdout",
       "text": [
        " 88078\n",
        "88171"
       ]
      },
      {
       "output_type": "stream",
       "stream": "stdout",
       "text": [
        " 88166\n",
        "88168"
       ]
      },
      {
       "output_type": "stream",
       "stream": "stdout",
       "text": [
        " \n",
        "88167"
       ]
      },
      {
       "output_type": "stream",
       "stream": "stdout",
       "text": [
        " \n",
        "89328"
       ]
      },
      {
       "output_type": "stream",
       "stream": "stdout",
       "text": [
        " 89329\n",
        "88162"
       ]
      },
      {
       "output_type": "stream",
       "stream": "stdout",
       "text": [
        " \n",
        "88565"
       ]
      },
      {
       "output_type": "stream",
       "stream": "stdout",
       "text": [
        " \n",
        "88368"
       ]
      },
      {
       "output_type": "stream",
       "stream": "stdout",
       "text": [
        " \n",
        "88160"
       ]
      },
      {
       "output_type": "stream",
       "stream": "stdout",
       "text": [
        " \n",
        "88365"
       ]
      },
      {
       "output_type": "stream",
       "stream": "stdout",
       "text": [
        " \n",
        "88562"
       ]
      },
      {
       "output_type": "stream",
       "stream": "stdout",
       "text": [
        " \n",
        "88364"
       ]
      },
      {
       "output_type": "stream",
       "stream": "stdout",
       "text": [
        " \n",
        "86410"
       ]
      },
      {
       "output_type": "stream",
       "stream": "stdout",
       "text": [
        " \n",
        "86231"
       ]
      },
      {
       "output_type": "stream",
       "stream": "stdout",
       "text": [
        " 74060\n",
        "95352"
       ]
      },
      {
       "output_type": "stream",
       "stream": "stdout",
       "text": [
        " \n",
        "89036"
       ]
      },
      {
       "output_type": "stream",
       "stream": "stdout",
       "text": [
        " \n",
        "88377"
       ]
      },
      {
       "output_type": "stream",
       "stream": "stdout",
       "text": [
        " \n",
        "88373"
       ]
      },
      {
       "output_type": "stream",
       "stream": "stdout",
       "text": [
        " \n",
        "88321"
       ]
      },
      {
       "output_type": "stream",
       "stream": "stdout",
       "text": [
        " 88145\n",
        "88370"
       ]
      },
      {
       "output_type": "stream",
       "stream": "stdout",
       "text": [
        " \n",
        "86231"
       ]
      },
      {
       "output_type": "stream",
       "stream": "stdout",
       "text": [
        " \n",
        "88366"
       ]
      },
      {
       "output_type": "stream",
       "stream": "stdout",
       "text": [
        " \n",
        "86419"
       ]
      },
      {
       "output_type": "stream",
       "stream": "stdout",
       "text": [
        " \n",
        "90057"
       ]
      },
      {
       "output_type": "stream",
       "stream": "stdout",
       "text": [
        " \n",
        "88199"
       ]
      },
      {
       "output_type": "stream",
       "stream": "stdout",
       "text": [
        " 88200\n",
        "88359"
       ]
      },
      {
       "output_type": "stream",
       "stream": "stdout",
       "text": [
        " \n",
        "89035"
       ]
      },
      {
       "output_type": "stream",
       "stream": "stdout",
       "text": [
        " \n",
        "89256"
       ]
      },
      {
       "output_type": "stream",
       "stream": "stdout",
       "text": [
        " \n",
        "86157"
       ]
      },
      {
       "output_type": "stream",
       "stream": "stdout",
       "text": [
        " \n",
        "79679"
       ]
      },
      {
       "output_type": "stream",
       "stream": "stdout",
       "text": [
        " \n",
        "93771"
       ]
      },
      {
       "output_type": "stream",
       "stream": "stdout",
       "text": [
        " \n",
        "88291"
       ]
      },
      {
       "output_type": "stream",
       "stream": "stdout",
       "text": [
        " \n",
        "85724"
       ]
      },
      {
       "output_type": "stream",
       "stream": "stdout",
       "text": [
        " \n",
        "86418"
       ]
      },
      {
       "output_type": "stream",
       "stream": "stdout",
       "text": [
        " \n",
        "88559"
       ]
      },
      {
       "output_type": "stream",
       "stream": "stdout",
       "text": [
        " \n",
        "86417"
       ]
      },
      {
       "output_type": "stream",
       "stream": "stdout",
       "text": [
        " \n",
        "85722"
       ]
      },
      {
       "output_type": "stream",
       "stream": "stdout",
       "text": [
        " \n",
        "88321"
       ]
      },
      {
       "output_type": "stream",
       "stream": "stdout",
       "text": [
        " 86271\n",
        "88583"
       ]
      },
      {
       "output_type": "stream",
       "stream": "stdout",
       "text": [
        " 88584\n",
        "88581"
       ]
      },
      {
       "output_type": "stream",
       "stream": "stdout",
       "text": [
        " 88582\n",
        "88579"
       ]
      },
      {
       "output_type": "stream",
       "stream": "stdout",
       "text": [
        " 88580\n",
        "88574"
       ]
      },
      {
       "output_type": "stream",
       "stream": "stdout",
       "text": [
        " 88578\n",
        "88576"
       ]
      },
      {
       "output_type": "stream",
       "stream": "stdout",
       "text": [
        " \n",
        "88570"
       ]
      },
      {
       "output_type": "stream",
       "stream": "stdout",
       "text": [
        " \n",
        "88568"
       ]
      },
      {
       "output_type": "stream",
       "stream": "stdout",
       "text": [
        " \n",
        "88566"
       ]
      },
      {
       "output_type": "stream",
       "stream": "stdout",
       "text": [
        " \n",
        "88563"
       ]
      },
      {
       "output_type": "stream",
       "stream": "stdout",
       "text": [
        " \n",
        "88198"
       ]
      },
      {
       "output_type": "stream",
       "stream": "stdout",
       "text": [
        " \n",
        "95142"
       ]
      },
      {
       "output_type": "stream",
       "stream": "stdout",
       "text": [
        " 95143\n",
        "89289"
       ]
      },
      {
       "output_type": "stream",
       "stream": "stdout",
       "text": [
        " \n",
        "88939"
       ]
      },
      {
       "output_type": "stream",
       "stream": "stdout",
       "text": [
        " 88460\n",
        "84591"
       ]
      },
      {
       "output_type": "stream",
       "stream": "stdout",
       "text": [
        " \n",
        "74075"
       ]
      },
      {
       "output_type": "stream",
       "stream": "stdout",
       "text": [
        " \n",
        "84590"
       ]
      },
      {
       "output_type": "stream",
       "stream": "stdout",
       "text": [
        " \n",
        "89034"
       ]
      },
      {
       "output_type": "stream",
       "stream": "stdout",
       "text": [
        " \n",
        "74039"
       ]
      },
      {
       "output_type": "stream",
       "stream": "stdout",
       "text": [
        " \n",
        "88288"
       ]
      },
      {
       "output_type": "stream",
       "stream": "stdout",
       "text": [
        " \n",
        "88558"
       ]
      },
      {
       "output_type": "stream",
       "stream": "stdout",
       "text": [
        " \n",
        "76160"
       ]
      },
      {
       "output_type": "stream",
       "stream": "stdout",
       "text": [
        " 85702\n",
        "74072"
       ]
      },
      {
       "output_type": "stream",
       "stream": "stdout",
       "text": [
        " \n",
        "89792"
       ]
      },
      {
       "output_type": "stream",
       "stream": "stdout",
       "text": [
        " \n",
        "88246"
       ]
      },
      {
       "output_type": "stream",
       "stream": "stdout",
       "text": [
        " \n",
        "74071"
       ]
      },
      {
       "output_type": "stream",
       "stream": "stdout",
       "text": [
        " \n",
        "74098"
       ]
      },
      {
       "output_type": "stream",
       "stream": "stdout",
       "text": [
        " 74099\n",
        "74063"
       ]
      },
      {
       "output_type": "stream",
       "stream": "stdout",
       "text": [
        " \n",
        "90060"
       ]
      },
      {
       "output_type": "stream",
       "stream": "stdout",
       "text": [
        " \n",
        "89033"
       ]
      },
      {
       "output_type": "stream",
       "stream": "stdout",
       "text": [
        " \n",
        "86414"
       ]
      },
      {
       "output_type": "stream",
       "stream": "stdout",
       "text": [
        " \n",
        "67012"
       ]
      },
      {
       "output_type": "stream",
       "stream": "stdout",
       "text": [
        " 67013\n",
        "67008"
       ]
      },
      {
       "output_type": "stream",
       "stream": "stdout",
       "text": [
        " 67009\n",
        "71334"
       ]
      },
      {
       "output_type": "stream",
       "stream": "stdout",
       "text": [
        " 71353\n",
        "66980"
       ]
      },
      {
       "output_type": "stream",
       "stream": "stdout",
       "text": [
        " 66981\n",
        "66979"
       ]
      },
      {
       "output_type": "stream",
       "stream": "stdout",
       "text": [
        " \n",
        "71375"
       ]
      },
      {
       "output_type": "stream",
       "stream": "stdout",
       "text": [
        " \n",
        "66815"
       ]
      },
      {
       "output_type": "stream",
       "stream": "stdout",
       "text": [
        " 66232\n",
        "66815"
       ]
      },
      {
       "output_type": "stream",
       "stream": "stdout",
       "text": [
        " 66814\n",
        "71370"
       ]
      },
      {
       "output_type": "stream",
       "stream": "stdout",
       "text": [
        " 71344\n",
        "89123"
       ]
      },
      {
       "output_type": "stream",
       "stream": "stdout",
       "text": [
        " \n",
        "66976"
       ]
      },
      {
       "output_type": "stream",
       "stream": "stdout",
       "text": [
        " \n",
        "74069"
       ]
      },
      {
       "output_type": "stream",
       "stream": "stdout",
       "text": [
        " \n",
        "88575"
       ]
      },
      {
       "output_type": "stream",
       "stream": "stdout",
       "text": [
        " \n",
        "88573"
       ]
      },
      {
       "output_type": "stream",
       "stream": "stdout",
       "text": [
        " \n",
        "88564"
       ]
      },
      {
       "output_type": "stream",
       "stream": "stdout",
       "text": [
        " \n",
        "88561"
       ]
      },
      {
       "output_type": "stream",
       "stream": "stdout",
       "text": [
        " \n",
        "86410"
       ]
      },
      {
       "output_type": "stream",
       "stream": "stdout",
       "text": [
        " 86411\n",
        "88560"
       ]
      },
      {
       "output_type": "stream",
       "stream": "stdout",
       "text": [
        " \n",
        "88938"
       ]
      },
      {
       "output_type": "stream",
       "stream": "stdout",
       "text": [
        " 88461\n",
        "74062"
       ]
      },
      {
       "output_type": "stream",
       "stream": "stdout",
       "text": [
        " \n",
        "88242"
       ]
      },
      {
       "output_type": "stream",
       "stream": "stdout",
       "text": [
        " \n",
        "89032"
       ]
      },
      {
       "output_type": "stream",
       "stream": "stdout",
       "text": [
        " \n",
        "74061"
       ]
      },
      {
       "output_type": "stream",
       "stream": "stdout",
       "text": [
        " 74055\n",
        "88192"
       ]
      },
      {
       "output_type": "stream",
       "stream": "stdout",
       "text": [
        " \n",
        "74059"
       ]
      },
      {
       "output_type": "stream",
       "stream": "stdout",
       "text": [
        " 74058\n",
        "90674"
       ]
      },
      {
       "output_type": "stream",
       "stream": "stdout",
       "text": [
        " \n",
        "73162"
       ]
      },
      {
       "output_type": "stream",
       "stream": "stdout",
       "text": [
        " \n",
        "74058"
       ]
      },
      {
       "output_type": "stream",
       "stream": "stdout",
       "text": [
        " 74049\n",
        "88415"
       ]
      },
      {
       "output_type": "stream",
       "stream": "stdout",
       "text": [
        " \n",
        "73161"
       ]
      },
      {
       "output_type": "stream",
       "stream": "stdout",
       "text": [
        " \n",
        "88191"
       ]
      },
      {
       "output_type": "stream",
       "stream": "stdout",
       "text": [
        " \n",
        "88557"
       ]
      },
      {
       "output_type": "stream",
       "stream": "stdout",
       "text": [
        " \n",
        "73159"
       ]
      },
      {
       "output_type": "stream",
       "stream": "stdout",
       "text": [
        " \n",
        "88190"
       ]
      },
      {
       "output_type": "stream",
       "stream": "stdout",
       "text": [
        " \n",
        "70333"
       ]
      },
      {
       "output_type": "stream",
       "stream": "stdout",
       "text": [
        " 71335\n",
        "71335"
       ]
      },
      {
       "output_type": "stream",
       "stream": "stdout",
       "text": [
        " 71337\n",
        "71330"
       ]
      },
      {
       "output_type": "stream",
       "stream": "stdout",
       "text": [
        " \n",
        "92590"
       ]
      },
      {
       "output_type": "stream",
       "stream": "stdout",
       "text": [
        " \n",
        "71352"
       ]
      },
      {
       "output_type": "stream",
       "stream": "stdout",
       "text": [
        " \n",
        "74045"
       ]
      },
      {
       "output_type": "stream",
       "stream": "stdout",
       "text": [
        " 74049\n",
        "86406"
       ]
      },
      {
       "output_type": "stream",
       "stream": "stdout",
       "text": [
        " 66234\n",
        "74054"
       ]
      },
      {
       "output_type": "stream",
       "stream": "stdout",
       "text": [
        " 74055\n",
        "74095"
       ]
      },
      {
       "output_type": "stream",
       "stream": "stdout",
       "text": [
        " 71353\n",
        "74047"
       ]
      },
      {
       "output_type": "stream",
       "stream": "stdout",
       "text": [
        " \n",
        "74044"
       ]
      },
      {
       "output_type": "stream",
       "stream": "stdout",
       "text": [
        " \n",
        "73157"
       ]
      },
      {
       "output_type": "stream",
       "stream": "stdout",
       "text": [
        " \n",
        "88150"
       ]
      },
      {
       "output_type": "stream",
       "stream": "stdout",
       "text": [
        " 88151\n",
        "71338"
       ]
      },
      {
       "output_type": "stream",
       "stream": "stdout",
       "text": [
        " 71339\n",
        "71373"
       ]
      },
      {
       "output_type": "stream",
       "stream": "stdout",
       "text": [
        " 71348\n",
        "88241"
       ]
      },
      {
       "output_type": "stream",
       "stream": "stdout",
       "text": [
        " \n",
        "71331"
       ]
      },
      {
       "output_type": "stream",
       "stream": "stdout",
       "text": [
        " \n",
        "88937"
       ]
      },
      {
       "output_type": "stream",
       "stream": "stdout",
       "text": [
        " 88361\n",
        "74052"
       ]
      },
      {
       "output_type": "stream",
       "stream": "stdout",
       "text": [
        " 74049\n",
        "74056"
       ]
      },
      {
       "output_type": "stream",
       "stream": "stdout",
       "text": [
        " 74057\n",
        "74100"
       ]
      },
      {
       "output_type": "stream",
       "stream": "stdout",
       "text": [
        " 74101\n",
        "71325"
       ]
      },
      {
       "output_type": "stream",
       "stream": "stdout",
       "text": [
        " \n",
        "66999"
       ]
      },
      {
       "output_type": "stream",
       "stream": "stdout",
       "text": [
        " \n",
        "89227"
       ]
      },
      {
       "output_type": "stream",
       "stream": "stdout",
       "text": [
        " \n",
        "74052"
       ]
      },
      {
       "output_type": "stream",
       "stream": "stdout",
       "text": [
        " 74053\n",
        "88238"
       ]
      },
      {
       "output_type": "stream",
       "stream": "stdout",
       "text": [
        " \n",
        "66098"
       ]
      },
      {
       "output_type": "stream",
       "stream": "stdout",
       "text": [
        " 59130\n",
        "70951"
       ]
      },
      {
       "output_type": "stream",
       "stream": "stdout",
       "text": [
        " \n",
        "88149"
       ]
      },
      {
       "output_type": "stream",
       "stream": "stdout",
       "text": [
        " \n",
        "66948"
       ]
      },
      {
       "output_type": "stream",
       "stream": "stdout",
       "text": [
        " \n",
        "66947"
       ]
      },
      {
       "output_type": "stream",
       "stream": "stdout",
       "text": [
        " \n",
        "66941"
       ]
      },
      {
       "output_type": "stream",
       "stream": "stdout",
       "text": [
        " \n",
        "71355"
       ]
      },
      {
       "output_type": "stream",
       "stream": "stdout",
       "text": [
        " \n",
        "71354"
       ]
      },
      {
       "output_type": "stream",
       "stream": "stdout",
       "text": [
        " \n",
        "74047"
       ]
      },
      {
       "output_type": "stream",
       "stream": "stdout",
       "text": [
        " 74046\n",
        "74049"
       ]
      },
      {
       "output_type": "stream",
       "stream": "stdout",
       "text": [
        " 74050\n",
        "66235"
       ]
      },
      {
       "output_type": "stream",
       "stream": "stdout",
       "text": [
        " \n",
        "66840"
       ]
      },
      {
       "output_type": "stream",
       "stream": "stdout",
       "text": [
        " \n",
        "70949"
       ]
      },
      {
       "output_type": "stream",
       "stream": "stdout",
       "text": [
        " \n",
        "66839"
       ]
      },
      {
       "output_type": "stream",
       "stream": "stdout",
       "text": [
        " \n",
        "66202"
       ]
      },
      {
       "output_type": "stream",
       "stream": "stdout",
       "text": [
        " 66203\n",
        "66202"
       ]
      },
      {
       "output_type": "stream",
       "stream": "stdout",
       "text": [
        " \n",
        "66837"
       ]
      },
      {
       "output_type": "stream",
       "stream": "stdout",
       "text": [
        " \n",
        "66835"
       ]
      },
      {
       "output_type": "stream",
       "stream": "stdout",
       "text": [
        " \n",
        "74045"
       ]
      },
      {
       "output_type": "stream",
       "stream": "stdout",
       "text": [
        " \n",
        "66199"
       ]
      },
      {
       "output_type": "stream",
       "stream": "stdout",
       "text": [
        " \n",
        "66828"
       ]
      },
      {
       "output_type": "stream",
       "stream": "stdout",
       "text": [
        " 66828\n",
        "66232"
       ]
      },
      {
       "output_type": "stream",
       "stream": "stdout",
       "text": [
        " \n",
        "87367"
       ]
      },
      {
       "output_type": "stream",
       "stream": "stdout",
       "text": [
        " 88996\n",
        "66178"
       ]
      },
      {
       "output_type": "stream",
       "stream": "stdout",
       "text": [
        " 66213\n",
        "66832"
       ]
      },
      {
       "output_type": "stream",
       "stream": "stdout",
       "text": [
        " \n",
        "74048"
       ]
      },
      {
       "output_type": "stream",
       "stream": "stdout",
       "text": [
        " 74045\n",
        "66830"
       ]
      },
      {
       "output_type": "stream",
       "stream": "stdout",
       "text": [
        " \n",
        "66196"
       ]
      },
      {
       "output_type": "stream",
       "stream": "stdout",
       "text": [
        " \n",
        "66805"
       ]
      },
      {
       "output_type": "stream",
       "stream": "stdout",
       "text": [
        " \n",
        "74073"
       ]
      },
      {
       "output_type": "stream",
       "stream": "stdout",
       "text": [
        " 74092\n",
        "66828"
       ]
      },
      {
       "output_type": "stream",
       "stream": "stdout",
       "text": [
        " 66834\n",
        "66831"
       ]
      },
      {
       "output_type": "stream",
       "stream": "stdout",
       "text": [
        " \n",
        "66829"
       ]
      },
      {
       "output_type": "stream",
       "stream": "stdout",
       "text": [
        " \n",
        "66828"
       ]
      },
      {
       "output_type": "stream",
       "stream": "stdout",
       "text": [
        " \n",
        "66817"
       ]
      },
      {
       "output_type": "stream",
       "stream": "stdout",
       "text": [
        " 66817\n",
        "66234"
       ]
      },
      {
       "output_type": "stream",
       "stream": "stdout",
       "text": [
        " \n",
        "66228"
       ]
      },
      {
       "output_type": "stream",
       "stream": "stdout",
       "text": [
        " \n",
        "66225"
       ]
      },
      {
       "output_type": "stream",
       "stream": "stdout",
       "text": [
        " 66224\n",
        "66223"
       ]
      },
      {
       "output_type": "stream",
       "stream": "stdout",
       "text": [
        " 66224\n",
        "66219"
       ]
      },
      {
       "output_type": "stream",
       "stream": "stdout",
       "text": [
        " 66073\n",
        "66219"
       ]
      },
      {
       "output_type": "stream",
       "stream": "stdout",
       "text": [
        " 66220\n",
        "66216"
       ]
      },
      {
       "output_type": "stream",
       "stream": "stdout",
       "text": [
        " 66218\n",
        "66216"
       ]
      },
      {
       "output_type": "stream",
       "stream": "stdout",
       "text": [
        " 66217\n",
        "66070"
       ]
      },
      {
       "output_type": "stream",
       "stream": "stdout",
       "text": [
        " 66213\n",
        "66178"
       ]
      },
      {
       "output_type": "stream",
       "stream": "stdout",
       "text": [
        " 66070\n",
        "66950"
       ]
      },
      {
       "output_type": "stream",
       "stream": "stdout",
       "text": [
        " \n",
        "66200"
       ]
      },
      {
       "output_type": "stream",
       "stream": "stdout",
       "text": [
        " \n",
        "66154"
       ]
      },
      {
       "output_type": "stream",
       "stream": "stdout",
       "text": [
        " \n",
        "66194"
       ]
      },
      {
       "output_type": "stream",
       "stream": "stdout",
       "text": [
        " \n",
        "70950"
       ]
      },
      {
       "output_type": "stream",
       "stream": "stdout",
       "text": [
        " \n",
        "70948"
       ]
      },
      {
       "output_type": "stream",
       "stream": "stdout",
       "text": [
        " \n",
        "70947"
       ]
      },
      {
       "output_type": "stream",
       "stream": "stdout",
       "text": [
        " \n",
        "74046"
       ]
      },
      {
       "output_type": "stream",
       "stream": "stdout",
       "text": [
        " 74047\n",
        "70338"
       ]
      },
      {
       "output_type": "stream",
       "stream": "stdout",
       "text": [
        " \n",
        "70335"
       ]
      },
      {
       "output_type": "stream",
       "stream": "stdout",
       "text": [
        " 66999\n",
        "66801"
       ]
      },
      {
       "output_type": "stream",
       "stream": "stdout",
       "text": [
        " \n",
        "66803"
       ]
      },
      {
       "output_type": "stream",
       "stream": "stdout",
       "text": [
        " \n",
        "66800"
       ]
      },
      {
       "output_type": "stream",
       "stream": "stdout",
       "text": [
        " \n",
        "66799"
       ]
      },
      {
       "output_type": "stream",
       "stream": "stdout",
       "text": [
        " \n",
        "66838"
       ]
      },
      {
       "output_type": "stream",
       "stream": "stdout",
       "text": [
        " \n",
        "66836"
       ]
      },
      {
       "output_type": "stream",
       "stream": "stdout",
       "text": [
        " \n",
        "66827"
       ]
      },
      {
       "output_type": "stream",
       "stream": "stdout",
       "text": [
        " \n",
        "66826"
       ]
      },
      {
       "output_type": "stream",
       "stream": "stdout",
       "text": [
        " \n",
        "66795"
       ]
      },
      {
       "output_type": "stream",
       "stream": "stdout",
       "text": [
        " \n",
        "66790"
       ]
      },
      {
       "output_type": "stream",
       "stream": "stdout",
       "text": [
        " \n",
        "66192"
       ]
      },
      {
       "output_type": "stream",
       "stream": "stdout",
       "text": [
        " \n",
        "66191"
       ]
      },
      {
       "output_type": "stream",
       "stream": "stdout",
       "text": [
        " \n",
        "66190"
       ]
      },
      {
       "output_type": "stream",
       "stream": "stdout",
       "text": [
        " \n",
        "66189"
       ]
      },
      {
       "output_type": "stream",
       "stream": "stdout",
       "text": [
        " \n",
        "66823"
       ]
      },
      {
       "output_type": "stream",
       "stream": "stdout",
       "text": [
        " \n",
        "66188"
       ]
      },
      {
       "output_type": "stream",
       "stream": "stdout",
       "text": [
        " \n",
        "66782"
       ]
      },
      {
       "output_type": "stream",
       "stream": "stdout",
       "text": [
        " \n",
        "66781"
       ]
      },
      {
       "output_type": "stream",
       "stream": "stdout",
       "text": [
        " \n",
        "66780"
       ]
      },
      {
       "output_type": "stream",
       "stream": "stdout",
       "text": [
        " \n",
        "66778"
       ]
      },
      {
       "output_type": "stream",
       "stream": "stdout",
       "text": [
        " \n",
        "66777"
       ]
      },
      {
       "output_type": "stream",
       "stream": "stdout",
       "text": [
        " \n",
        "66817"
       ]
      },
      {
       "output_type": "stream",
       "stream": "stdout",
       "text": [
        " \n",
        "74044"
       ]
      },
      {
       "output_type": "stream",
       "stream": "stdout",
       "text": [
        " 74045\n",
        "66994"
       ]
      },
      {
       "output_type": "stream",
       "stream": "stdout",
       "text": [
        " \n",
        "66215"
       ]
      },
      {
       "output_type": "stream",
       "stream": "stdout",
       "text": [
        " \n",
        "70329"
       ]
      },
      {
       "output_type": "stream",
       "stream": "stdout",
       "text": [
        " 70330\n",
        "66987"
       ]
      },
      {
       "output_type": "stream",
       "stream": "stdout",
       "text": [
        " \n",
        "74624"
       ]
      },
      {
       "output_type": "stream",
       "stream": "stdout",
       "text": [
        " \n",
        "74073"
       ]
      },
      {
       "output_type": "stream",
       "stream": "stdout",
       "text": [
        " 74091\n",
        "71335"
       ]
      },
      {
       "output_type": "stream",
       "stream": "stdout",
       "text": [
        " 71348\n",
        "66993"
       ]
      },
      {
       "output_type": "stream",
       "stream": "stdout",
       "text": [
        " \n",
        "66785"
       ]
      },
      {
       "output_type": "stream",
       "stream": "stdout",
       "text": [
        " \n",
        "66990"
       ]
      },
      {
       "output_type": "stream",
       "stream": "stdout",
       "text": [
        " \n",
        "66779"
       ]
      },
      {
       "output_type": "stream",
       "stream": "stdout",
       "text": [
        " \n",
        "66989"
       ]
      },
      {
       "output_type": "stream",
       "stream": "stdout",
       "text": [
        " \n",
        "71346"
       ]
      },
      {
       "output_type": "stream",
       "stream": "stdout",
       "text": [
        " 59096\n",
        "66946"
       ]
      },
      {
       "output_type": "stream",
       "stream": "stdout",
       "text": [
        " \n",
        "94031"
       ]
      },
      {
       "output_type": "stream",
       "stream": "stdout",
       "text": [
        " \n",
        "66807"
       ]
      },
      {
       "output_type": "stream",
       "stream": "stdout",
       "text": [
        " \n",
        "90059"
       ]
      },
      {
       "output_type": "stream",
       "stream": "stdout",
       "text": [
        " \n",
        "66986"
       ]
      },
      {
       "output_type": "stream",
       "stream": "stdout",
       "text": [
        " \n",
        "66794"
       ]
      },
      {
       "output_type": "stream",
       "stream": "stdout",
       "text": [
        " \n",
        "66203"
       ]
      },
      {
       "output_type": "stream",
       "stream": "stdout",
       "text": [
        " 66202\n",
        "66170"
       ]
      },
      {
       "output_type": "stream",
       "stream": "stdout",
       "text": [
        " \n",
        "66161"
       ]
      },
      {
       "output_type": "stream",
       "stream": "stdout",
       "text": [
        " \n",
        "70331"
       ]
      },
      {
       "output_type": "stream",
       "stream": "stdout",
       "text": [
        " \n",
        "66848"
       ]
      },
      {
       "output_type": "stream",
       "stream": "stdout",
       "text": [
        " \n",
        "70331"
       ]
      },
      {
       "output_type": "stream",
       "stream": "stdout",
       "text": [
        " 70332\n",
        "66226"
       ]
      },
      {
       "output_type": "stream",
       "stream": "stdout",
       "text": [
        " 66224\n",
        "74043"
       ]
      },
      {
       "output_type": "stream",
       "stream": "stdout",
       "text": [
        " \n",
        "66091"
       ]
      },
      {
       "output_type": "stream",
       "stream": "stdout",
       "text": [
        " 66138\n",
        "66136"
       ]
      },
      {
       "output_type": "stream",
       "stream": "stdout",
       "text": [
        " \n",
        "66219"
       ]
      },
      {
       "output_type": "stream",
       "stream": "stdout",
       "text": [
        " 66222\n",
        "66128"
       ]
      },
      {
       "output_type": "stream",
       "stream": "stdout",
       "text": [
        " 66134\n",
        "74042"
       ]
      },
      {
       "output_type": "stream",
       "stream": "stdout",
       "text": [
        " \n",
        "66128"
       ]
      },
      {
       "output_type": "stream",
       "stream": "stdout",
       "text": [
        " 66129\n",
        "66158"
       ]
      },
      {
       "output_type": "stream",
       "stream": "stdout",
       "text": [
        " 66159\n",
        "66121"
       ]
      },
      {
       "output_type": "stream",
       "stream": "stdout",
       "text": [
        " \n",
        "67010"
       ]
      },
      {
       "output_type": "stream",
       "stream": "stdout",
       "text": [
        " 67011\n",
        "70328"
       ]
      },
      {
       "output_type": "stream",
       "stream": "stdout",
       "text": [
        " \n",
        "66212"
       ]
      },
      {
       "output_type": "stream",
       "stream": "stdout",
       "text": [
        " 66179\n",
        "66151"
       ]
      },
      {
       "output_type": "stream",
       "stream": "stdout",
       "text": [
        " \n",
        "59113"
       ]
      },
      {
       "output_type": "stream",
       "stream": "stdout",
       "text": [
        " 66211\n",
        "65961"
       ]
      },
      {
       "output_type": "stream",
       "stream": "stdout",
       "text": [
        " \n",
        "71335"
       ]
      },
      {
       "output_type": "stream",
       "stream": "stdout",
       "text": [
        " 71341\n",
        "124"
       ]
      },
      {
       "output_type": "stream",
       "stream": "stdout",
       "text": [
        " \n",
        "66130"
       ]
      },
      {
       "output_type": "stream",
       "stream": "stdout",
       "text": [
        " 66134\n",
        "66133"
       ]
      },
      {
       "output_type": "stream",
       "stream": "stdout",
       "text": [
        " 66130\n",
        "65926"
       ]
      },
      {
       "output_type": "stream",
       "stream": "stdout",
       "text": [
        " \n",
        "65954"
       ]
      },
      {
       "output_type": "stream",
       "stream": "stdout",
       "text": [
        " 65955\n",
        "66131"
       ]
      },
      {
       "output_type": "stream",
       "stream": "stdout",
       "text": [
        " 66130\n",
        "66127"
       ]
      },
      {
       "output_type": "stream",
       "stream": "stdout",
       "text": [
        " \n",
        "59112"
       ]
      },
      {
       "output_type": "stream",
       "stream": "stdout",
       "text": [
        " 66211\n",
        "66125"
       ]
      },
      {
       "output_type": "stream",
       "stream": "stdout",
       "text": [
        " 66126\n",
        "66115"
       ]
      },
      {
       "output_type": "stream",
       "stream": "stdout",
       "text": [
        " 66120\n",
        "88555"
       ]
      },
      {
       "output_type": "stream",
       "stream": "stdout",
       "text": [
        " \n",
        "88936"
       ]
      },
      {
       "output_type": "stream",
       "stream": "stdout",
       "text": [
        " 88321\n",
        "65983"
       ]
      },
      {
       "output_type": "stream",
       "stream": "stdout",
       "text": [
        " 66040\n",
        "66112"
       ]
      },
      {
       "output_type": "stream",
       "stream": "stdout",
       "text": [
        " 66120\n",
        "66208"
       ]
      },
      {
       "output_type": "stream",
       "stream": "stdout",
       "text": [
        " \n",
        "74041"
       ]
      },
      {
       "output_type": "stream",
       "stream": "stdout",
       "text": [
        " \n",
        "66035"
       ]
      },
      {
       "output_type": "stream",
       "stream": "stdout",
       "text": [
        " \n",
        "66114"
       ]
      },
      {
       "output_type": "stream",
       "stream": "stdout",
       "text": [
        " 66116\n",
        "88350"
       ]
      },
      {
       "output_type": "stream",
       "stream": "stdout",
       "text": [
        " \n",
        "72127"
       ]
      },
      {
       "output_type": "stream",
       "stream": "stdout",
       "text": [
        " \n",
        "67009"
       ]
      },
      {
       "output_type": "stream",
       "stream": "stdout",
       "text": [
        " 67011\n",
        "66078"
       ]
      },
      {
       "output_type": "stream",
       "stream": "stdout",
       "text": [
        " \n",
        "66006"
       ]
      },
      {
       "output_type": "stream",
       "stream": "stdout",
       "text": [
        " \n",
        "66114"
       ]
      },
      {
       "output_type": "stream",
       "stream": "stdout",
       "text": [
        " 66115\n",
        "66072"
       ]
      },
      {
       "output_type": "stream",
       "stream": "stdout",
       "text": [
        " \n",
        "66088"
       ]
      },
      {
       "output_type": "stream",
       "stream": "stdout",
       "text": [
        " \n",
        "65998"
       ]
      },
      {
       "output_type": "stream",
       "stream": "stdout",
       "text": [
        " \n",
        "65997"
       ]
      },
      {
       "output_type": "stream",
       "stream": "stdout",
       "text": [
        " \n",
        "66112"
       ]
      },
      {
       "output_type": "stream",
       "stream": "stdout",
       "text": [
        " 66114\n",
        "65995"
       ]
      },
      {
       "output_type": "stream",
       "stream": "stdout",
       "text": [
        " \n",
        "65993"
       ]
      },
      {
       "output_type": "stream",
       "stream": "stdout",
       "text": [
        " \n",
        "65990"
       ]
      },
      {
       "output_type": "stream",
       "stream": "stdout",
       "text": [
        " \n",
        "89752"
       ]
      },
      {
       "output_type": "stream",
       "stream": "stdout",
       "text": [
        " \n",
        "65989"
       ]
      },
      {
       "output_type": "stream",
       "stream": "stdout",
       "text": [
        " \n",
        "66062"
       ]
      },
      {
       "output_type": "stream",
       "stream": "stdout",
       "text": [
        " 66063\n",
        "66025"
       ]
      },
      {
       "output_type": "stream",
       "stream": "stdout",
       "text": [
        " 66026\n",
        "89122"
       ]
      },
      {
       "output_type": "stream",
       "stream": "stdout",
       "text": [
        " \n",
        "89031"
       ]
      },
      {
       "output_type": "stream",
       "stream": "stdout",
       "text": [
        " \n",
        "88183"
       ]
      },
      {
       "output_type": "stream",
       "stream": "stdout",
       "text": [
        " \n",
        "66032"
       ]
      },
      {
       "output_type": "stream",
       "stream": "stdout",
       "text": [
        " \n",
        "66031"
       ]
      },
      {
       "output_type": "stream",
       "stream": "stdout",
       "text": [
        " \n",
        "66092"
       ]
      },
      {
       "output_type": "stream",
       "stream": "stdout",
       "text": [
        " \n",
        "66021"
       ]
      },
      {
       "output_type": "stream",
       "stream": "stdout",
       "text": [
        " \n",
        "59121"
       ]
      },
      {
       "output_type": "stream",
       "stream": "stdout",
       "text": [
        " \n",
        "94113"
       ]
      },
      {
       "output_type": "stream",
       "stream": "stdout",
       "text": [
        " \n",
        "66005"
       ]
      },
      {
       "output_type": "stream",
       "stream": "stdout",
       "text": [
        " \n",
        "66000"
       ]
      },
      {
       "output_type": "stream",
       "stream": "stdout",
       "text": [
        " \n",
        "65999"
       ]
      },
      {
       "output_type": "stream",
       "stream": "stdout",
       "text": [
        " \n",
        "65996"
       ]
      },
      {
       "output_type": "stream",
       "stream": "stdout",
       "text": [
        " \n",
        "65994"
       ]
      },
      {
       "output_type": "stream",
       "stream": "stdout",
       "text": [
        " \n",
        "65992"
       ]
      },
      {
       "output_type": "stream",
       "stream": "stdout",
       "text": [
        " \n",
        "65991"
       ]
      },
      {
       "output_type": "stream",
       "stream": "stdout",
       "text": [
        " \n",
        "65988"
       ]
      },
      {
       "output_type": "stream",
       "stream": "stdout",
       "text": [
        " \n",
        "65987"
       ]
      },
      {
       "output_type": "stream",
       "stream": "stdout",
       "text": [
        " \n",
        "66047"
       ]
      },
      {
       "output_type": "stream",
       "stream": "stdout",
       "text": [
        " \n",
        "66071"
       ]
      },
      {
       "output_type": "stream",
       "stream": "stdout",
       "text": [
        " \n",
        "74095"
       ]
      },
      {
       "output_type": "stream",
       "stream": "stdout",
       "text": [
        " \n",
        "88554"
       ]
      },
      {
       "output_type": "stream",
       "stream": "stdout",
       "text": [
        " \n",
        "66845"
       ]
      },
      {
       "output_type": "stream",
       "stream": "stdout",
       "text": [
        " \n",
        "66137"
       ]
      },
      {
       "output_type": "stream",
       "stream": "stdout",
       "text": [
        " \n",
        "66132"
       ]
      },
      {
       "output_type": "stream",
       "stream": "stdout",
       "text": [
        " 66130\n",
        "66124"
       ]
      },
      {
       "output_type": "stream",
       "stream": "stdout",
       "text": [
        " \n",
        "66122"
       ]
      },
      {
       "output_type": "stream",
       "stream": "stdout",
       "text": [
        " \n",
        "66112"
       ]
      },
      {
       "output_type": "stream",
       "stream": "stdout",
       "text": [
        " 66115\n",
        "65923"
       ]
      },
      {
       "output_type": "stream",
       "stream": "stdout",
       "text": [
        " 65923\n",
        "65930"
       ]
      },
      {
       "output_type": "stream",
       "stream": "stdout",
       "text": [
        " 65925\n",
        "65930"
       ]
      },
      {
       "output_type": "stream",
       "stream": "stdout",
       "text": [
        " 65929\n",
        "66064"
       ]
      },
      {
       "output_type": "stream",
       "stream": "stdout",
       "text": [
        " 66065\n",
        "59112"
       ]
      },
      {
       "output_type": "stream",
       "stream": "stdout",
       "text": [
        " 66210\n",
        "59112"
       ]
      },
      {
       "output_type": "stream",
       "stream": "stdout",
       "text": [
        " \n",
        "88182"
       ]
      },
      {
       "output_type": "stream",
       "stream": "stdout",
       "text": [
        " \n",
        "66844"
       ]
      },
      {
       "output_type": "stream",
       "stream": "stdout",
       "text": [
        " \n",
        "66202"
       ]
      },
      {
       "output_type": "stream",
       "stream": "stdout",
       "text": [
        " 66206\n",
        "66020"
       ]
      },
      {
       "output_type": "stream",
       "stream": "stdout",
       "text": [
        " \n",
        "66018"
       ]
      },
      {
       "output_type": "stream",
       "stream": "stdout",
       "text": [
        " \n",
        "66046"
       ]
      },
      {
       "output_type": "stream",
       "stream": "stdout",
       "text": [
        " \n",
        "88553"
       ]
      },
      {
       "output_type": "stream",
       "stream": "stdout",
       "text": [
        " \n",
        "66045"
       ]
      },
      {
       "output_type": "stream",
       "stream": "stdout",
       "text": [
        " 66050\n",
        "66144"
       ]
      },
      {
       "output_type": "stream",
       "stream": "stdout",
       "text": [
        " 66145\n",
        "59158"
       ]
      },
      {
       "output_type": "stream",
       "stream": "stdout",
       "text": [
        " \n",
        "64042"
       ]
      },
      {
       "output_type": "stream",
       "stream": "stdout",
       "text": [
        " \n",
        "65886"
       ]
      },
      {
       "output_type": "stream",
       "stream": "stdout",
       "text": [
        " 65887\n",
        "64039"
       ]
      },
      {
       "output_type": "stream",
       "stream": "stdout",
       "text": [
        " 64040\n",
        "65905"
       ]
      },
      {
       "output_type": "stream",
       "stream": "stdout",
       "text": [
        " 65906\n",
        "66110"
       ]
      },
      {
       "output_type": "stream",
       "stream": "stdout",
       "text": [
        " \n",
        "66045"
       ]
      },
      {
       "output_type": "stream",
       "stream": "stdout",
       "text": [
        " 66068\n",
        "64025"
       ]
      },
      {
       "output_type": "stream",
       "stream": "stdout",
       "text": [
        " \n",
        "65351"
       ]
      },
      {
       "output_type": "stream",
       "stream": "stdout",
       "text": [
        " \n",
        "65922"
       ]
      },
      {
       "output_type": "stream",
       "stream": "stdout",
       "text": [
        " 65924\n",
        "66098"
       ]
      },
      {
       "output_type": "stream",
       "stream": "stdout",
       "text": [
        " \n",
        "65919"
       ]
      },
      {
       "output_type": "stream",
       "stream": "stdout",
       "text": [
        " 65328\n",
        "65342"
       ]
      },
      {
       "output_type": "stream",
       "stream": "stdout",
       "text": [
        " 65343\n",
        "66015"
       ]
      },
      {
       "output_type": "stream",
       "stream": "stdout",
       "text": [
        " \n",
        "65334"
       ]
      },
      {
       "output_type": "stream",
       "stream": "stdout",
       "text": [
        " 65898\n",
        "65914"
       ]
      },
      {
       "output_type": "stream",
       "stream": "stdout",
       "text": [
        " \n",
        "65913"
       ]
      },
      {
       "output_type": "stream",
       "stream": "stdout",
       "text": [
        " \n",
        "65937"
       ]
      },
      {
       "output_type": "stream",
       "stream": "stdout",
       "text": [
        " \n",
        "64023"
       ]
      },
      {
       "output_type": "stream",
       "stream": "stdout",
       "text": [
        " \n",
        "65931"
       ]
      },
      {
       "output_type": "stream",
       "stream": "stdout",
       "text": [
        " 65925\n",
        "65902"
       ]
      },
      {
       "output_type": "stream",
       "stream": "stdout",
       "text": [
        " \n",
        "90938"
       ]
      },
      {
       "output_type": "stream",
       "stream": "stdout",
       "text": [
        " \n",
        "88181"
       ]
      },
      {
       "output_type": "stream",
       "stream": "stdout",
       "text": [
        " \n",
        "130"
       ]
      },
      {
       "output_type": "stream",
       "stream": "stdout",
       "text": [
        " \n",
        "66151"
       ]
      },
      {
       "output_type": "stream",
       "stream": "stdout",
       "text": [
        " 66152\n",
        "65920"
       ]
      },
      {
       "output_type": "stream",
       "stream": "stdout",
       "text": [
        " 65921\n",
        "65981"
       ]
      },
      {
       "output_type": "stream",
       "stream": "stdout",
       "text": [
        " \n",
        "65980"
       ]
      },
      {
       "output_type": "stream",
       "stream": "stdout",
       "text": [
        " \n",
        "89507"
       ]
      },
      {
       "output_type": "stream",
       "stream": "stdout",
       "text": [
        " \n",
        "61869"
       ]
      },
      {
       "output_type": "stream",
       "stream": "stdout",
       "text": [
        " 61869\n",
        "65977"
       ]
      },
      {
       "output_type": "stream",
       "stream": "stdout",
       "text": [
        " \n",
        "66173"
       ]
      },
      {
       "output_type": "stream",
       "stream": "stdout",
       "text": [
        " 66174\n",
        "65908"
       ]
      },
      {
       "output_type": "stream",
       "stream": "stdout",
       "text": [
        " 65917\n",
        "90672"
       ]
      },
      {
       "output_type": "stream",
       "stream": "stdout",
       "text": [
        " \n",
        "59075"
       ]
      },
      {
       "output_type": "stream",
       "stream": "stdout",
       "text": [
        " \n",
        "59172"
       ]
      },
      {
       "output_type": "stream",
       "stream": "stdout",
       "text": [
        " \n",
        "61857"
       ]
      },
      {
       "output_type": "stream",
       "stream": "stdout",
       "text": [
        " \n",
        "61848"
       ]
      },
      {
       "output_type": "stream",
       "stream": "stdout",
       "text": [
        " \n",
        "61845"
       ]
      },
      {
       "output_type": "stream",
       "stream": "stdout",
       "text": [
        " \n",
        "59150"
       ]
      },
      {
       "output_type": "stream",
       "stream": "stdout",
       "text": [
        " \n",
        "61843"
       ]
      },
      {
       "output_type": "stream",
       "stream": "stdout",
       "text": [
        " \n",
        "65978"
       ]
      },
      {
       "output_type": "stream",
       "stream": "stdout",
       "text": [
        " \n",
        "59179"
       ]
      },
      {
       "output_type": "stream",
       "stream": "stdout",
       "text": [
        " \n",
        "66058"
       ]
      },
      {
       "output_type": "stream",
       "stream": "stdout",
       "text": [
        " \n",
        "90763"
       ]
      },
      {
       "output_type": "stream",
       "stream": "stdout",
       "text": [
        " \n",
        "89789"
       ]
      },
      {
       "output_type": "stream",
       "stream": "stdout",
       "text": [
        " \n",
        "59047"
       ]
      },
      {
       "output_type": "stream",
       "stream": "stdout",
       "text": [
        " 59097\n",
        "65334"
       ]
      },
      {
       "output_type": "stream",
       "stream": "stdout",
       "text": [
        " \n",
        "59161"
       ]
      },
      {
       "output_type": "stream",
       "stream": "stdout",
       "text": [
        " 59165\n",
        "66219"
       ]
      },
      {
       "output_type": "stream",
       "stream": "stdout",
       "text": [
        " 66218\n",
        "3412"
       ]
      },
      {
       "output_type": "stream",
       "stream": "stdout",
       "text": [
        " \n",
        "61858"
       ]
      },
      {
       "output_type": "stream",
       "stream": "stdout",
       "text": [
        " \n",
        "59164"
       ]
      },
      {
       "output_type": "stream",
       "stream": "stdout",
       "text": [
        " 59165\n",
        "61847"
       ]
      },
      {
       "output_type": "stream",
       "stream": "stdout",
       "text": [
        " \n",
        "59100"
       ]
      },
      {
       "output_type": "stream",
       "stream": "stdout",
       "text": [
        " \n",
        "61844"
       ]
      },
      {
       "output_type": "stream",
       "stream": "stdout",
       "text": [
        " \n",
        "59041"
       ]
      },
      {
       "output_type": "stream",
       "stream": "stdout",
       "text": [
        " \n",
        "65886"
       ]
      },
      {
       "output_type": "stream",
       "stream": "stdout",
       "text": [
        " \n",
        "64024"
       ]
      },
      {
       "output_type": "stream",
       "stream": "stdout",
       "text": [
        " 61869\n",
        "66843"
       ]
      },
      {
       "output_type": "stream",
       "stream": "stdout",
       "text": [
        " \n",
        "59039"
       ]
      },
      {
       "output_type": "stream",
       "stream": "stdout",
       "text": [
        " \n",
        "66103"
       ]
      },
      {
       "output_type": "stream",
       "stream": "stdout",
       "text": [
        " \n",
        "65353"
       ]
      },
      {
       "output_type": "stream",
       "stream": "stdout",
       "text": [
        " \n",
        "90671"
       ]
      },
      {
       "output_type": "stream",
       "stream": "stdout",
       "text": [
        " \n",
        "66057"
       ]
      },
      {
       "output_type": "stream",
       "stream": "stdout",
       "text": [
        " \n",
        "65974"
       ]
      },
      {
       "output_type": "stream",
       "stream": "stdout",
       "text": [
        " \n",
        "59165"
       ]
      },
      {
       "output_type": "stream",
       "stream": "stdout",
       "text": [
        " 59161\n",
        "65344"
       ]
      },
      {
       "output_type": "stream",
       "stream": "stdout",
       "text": [
        " 65345\n",
        "59007"
       ]
      },
      {
       "output_type": "stream",
       "stream": "stdout",
       "text": [
        " \n",
        "59005"
       ]
      },
      {
       "output_type": "stream",
       "stream": "stdout",
       "text": [
        " \n",
        "59069"
       ]
      },
      {
       "output_type": "stream",
       "stream": "stdout",
       "text": [
        " \n",
        "58697"
       ]
      },
      {
       "output_type": "stream",
       "stream": "stdout",
       "text": [
        " \n",
        "59098"
       ]
      },
      {
       "output_type": "stream",
       "stream": "stdout",
       "text": [
        " 59047\n",
        "58984"
       ]
      },
      {
       "output_type": "stream",
       "stream": "stdout",
       "text": [
        " 58990\n",
        "59012"
       ]
      },
      {
       "output_type": "stream",
       "stream": "stdout",
       "text": [
        " 55307\n",
        "58984"
       ]
      },
      {
       "output_type": "stream",
       "stream": "stdout",
       "text": [
        " 58989\n",
        "58984"
       ]
      },
      {
       "output_type": "stream",
       "stream": "stdout",
       "text": [
        " 58986\n",
        "58988"
       ]
      },
      {
       "output_type": "stream",
       "stream": "stdout",
       "text": [
        " 58977\n",
        "34338"
       ]
      },
      {
       "output_type": "stream",
       "stream": "stdout",
       "text": [
        " \n",
        "34343"
       ]
      },
      {
       "output_type": "stream",
       "stream": "stdout",
       "text": [
        " \n",
        "34345"
       ]
      },
      {
       "output_type": "stream",
       "stream": "stdout",
       "text": [
        " \n",
        "58986"
       ]
      },
      {
       "output_type": "stream",
       "stream": "stdout",
       "text": [
        " 34387\n",
        "58980"
       ]
      },
      {
       "output_type": "stream",
       "stream": "stdout",
       "text": [
        " \n",
        "66939"
       ]
      },
      {
       "output_type": "stream",
       "stream": "stdout",
       "text": [
        " 70326\n",
        "59060"
       ]
      },
      {
       "output_type": "stream",
       "stream": "stdout",
       "text": [
        " 59058\n",
        "58984"
       ]
      },
      {
       "output_type": "stream",
       "stream": "stdout",
       "text": [
        " 58991\n",
        "34345"
       ]
      },
      {
       "output_type": "stream",
       "stream": "stdout",
       "text": [
        " 58977\n",
        "59060"
       ]
      },
      {
       "output_type": "stream",
       "stream": "stdout",
       "text": [
        " \n",
        "34351"
       ]
      },
      {
       "output_type": "stream",
       "stream": "stdout",
       "text": [
        " \n",
        "55220"
       ]
      },
      {
       "output_type": "stream",
       "stream": "stdout",
       "text": [
        " 59010\n",
        "90793"
       ]
      },
      {
       "output_type": "stream",
       "stream": "stdout",
       "text": [
        " \n",
        "55466"
       ]
      },
      {
       "output_type": "stream",
       "stream": "stdout",
       "text": [
        " \n",
        "55465"
       ]
      },
      {
       "output_type": "stream",
       "stream": "stdout",
       "text": [
        " \n",
        "59026"
       ]
      },
      {
       "output_type": "stream",
       "stream": "stdout",
       "text": [
        " \n",
        "64018"
       ]
      },
      {
       "output_type": "stream",
       "stream": "stdout",
       "text": [
        " \n",
        "59046"
       ]
      },
      {
       "output_type": "stream",
       "stream": "stdout",
       "text": [
        " \n",
        "59180"
       ]
      },
      {
       "output_type": "stream",
       "stream": "stdout",
       "text": [
        " 59082\n",
        "59045"
       ]
      },
      {
       "output_type": "stream",
       "stream": "stdout",
       "text": [
        " \n",
        "59085"
       ]
      },
      {
       "output_type": "stream",
       "stream": "stdout",
       "text": [
        " 59082\n",
        "66140"
       ]
      },
      {
       "output_type": "stream",
       "stream": "stdout",
       "text": [
        " \n",
        "59080"
       ]
      },
      {
       "output_type": "stream",
       "stream": "stdout",
       "text": [
        " 59170\n",
        "59174"
       ]
      },
      {
       "output_type": "stream",
       "stream": "stdout",
       "text": [
        " 59176\n",
        "66043"
       ]
      },
      {
       "output_type": "stream",
       "stream": "stdout",
       "text": [
        " \n",
        "65912"
       ]
      },
      {
       "output_type": "stream",
       "stream": "stdout",
       "text": [
        " \n",
        "59116"
       ]
      },
      {
       "output_type": "stream",
       "stream": "stdout",
       "text": [
        " \n",
        "89478"
       ]
      },
      {
       "output_type": "stream",
       "stream": "stdout",
       "text": [
        " \n",
        "59115"
       ]
      },
      {
       "output_type": "stream",
       "stream": "stdout",
       "text": [
        " \n",
        "34375"
       ]
      },
      {
       "output_type": "stream",
       "stream": "stdout",
       "text": [
        " 34379\n",
        "59000"
       ]
      },
      {
       "output_type": "stream",
       "stream": "stdout",
       "text": [
        " \n",
        "58999"
       ]
      },
      {
       "output_type": "stream",
       "stream": "stdout",
       "text": [
        " \n",
        "88551"
       ]
      },
      {
       "output_type": "stream",
       "stream": "stdout",
       "text": [
        " \n",
        "58997"
       ]
      },
      {
       "output_type": "stream",
       "stream": "stdout",
       "text": [
        " \n",
        "59044"
       ]
      },
      {
       "output_type": "stream",
       "stream": "stdout",
       "text": [
        " \n",
        "58987"
       ]
      },
      {
       "output_type": "stream",
       "stream": "stdout",
       "text": [
        " 58985\n",
        "58982"
       ]
      },
      {
       "output_type": "stream",
       "stream": "stdout",
       "text": [
        " 58983\n",
        "34285"
       ]
      },
      {
       "output_type": "stream",
       "stream": "stdout",
       "text": [
        " 34409\n",
        "34397"
       ]
      },
      {
       "output_type": "stream",
       "stream": "stdout",
       "text": [
        " 58979\n",
        "58673"
       ]
      },
      {
       "output_type": "stream",
       "stream": "stdout",
       "text": [
        " \n",
        "34398"
       ]
      },
      {
       "output_type": "stream",
       "stream": "stdout",
       "text": [
        " 40214\n",
        "34338"
       ]
      },
      {
       "output_type": "stream",
       "stream": "stdout",
       "text": [
        " 34386\n",
        "34343"
       ]
      },
      {
       "output_type": "stream",
       "stream": "stdout",
       "text": [
        " 34408\n",
        "34399"
       ]
      },
      {
       "output_type": "stream",
       "stream": "stdout",
       "text": [
        " 58978\n",
        "34400"
       ]
      },
      {
       "output_type": "stream",
       "stream": "stdout",
       "text": [
        " \n",
        "34391"
       ]
      },
      {
       "output_type": "stream",
       "stream": "stdout",
       "text": [
        " 34411\n",
        "34337"
       ]
      },
      {
       "output_type": "stream",
       "stream": "stdout",
       "text": [
        " 34350\n",
        "58976"
       ]
      },
      {
       "output_type": "stream",
       "stream": "stdout",
       "text": [
        " \n",
        "90670"
       ]
      },
      {
       "output_type": "stream",
       "stream": "stdout",
       "text": [
        " \n",
        "58975"
       ]
      },
      {
       "output_type": "stream",
       "stream": "stdout",
       "text": [
        " \n",
        "57848"
       ]
      },
      {
       "output_type": "stream",
       "stream": "stdout",
       "text": [
        " \n",
        "58974"
       ]
      },
      {
       "output_type": "stream",
       "stream": "stdout",
       "text": [
        " \n",
        "58973"
       ]
      },
      {
       "output_type": "stream",
       "stream": "stdout",
       "text": [
        " \n",
        "58651"
       ]
      },
      {
       "output_type": "stream",
       "stream": "stdout",
       "text": [
        " \n",
        "42947"
       ]
      },
      {
       "output_type": "stream",
       "stream": "stdout",
       "text": [
        " \n",
        "55263"
       ]
      },
      {
       "output_type": "stream",
       "stream": "stdout",
       "text": [
        " 59010\n",
        "58634"
       ]
      },
      {
       "output_type": "stream",
       "stream": "stdout",
       "text": [
        " \n",
        "57846"
       ]
      },
      {
       "output_type": "stream",
       "stream": "stdout",
       "text": [
        " \n",
        "57845"
       ]
      },
      {
       "output_type": "stream",
       "stream": "stdout",
       "text": [
        " \n",
        "58627"
       ]
      },
      {
       "output_type": "stream",
       "stream": "stdout",
       "text": [
        " 58626\n",
        "65973"
       ]
      },
      {
       "output_type": "stream",
       "stream": "stdout",
       "text": [
        " \n",
        "65885"
       ]
      },
      {
       "output_type": "stream",
       "stream": "stdout",
       "text": [
        " \n",
        "58996"
       ]
      },
      {
       "output_type": "stream",
       "stream": "stdout",
       "text": [
        " \n",
        "59024"
       ]
      },
      {
       "output_type": "stream",
       "stream": "stdout",
       "text": [
        " 59025\n",
        "57841"
       ]
      },
      {
       "output_type": "stream",
       "stream": "stdout",
       "text": [
        " 58648\n",
        "58632"
       ]
      },
      {
       "output_type": "stream",
       "stream": "stdout",
       "text": [
        " \n",
        "58630"
       ]
      },
      {
       "output_type": "stream",
       "stream": "stdout",
       "text": [
        " \n",
        "58625"
       ]
      },
      {
       "output_type": "stream",
       "stream": "stdout",
       "text": [
        " 58626\n",
        "58624"
       ]
      },
      {
       "output_type": "stream",
       "stream": "stdout",
       "text": [
        " 57842\n",
        "58624"
       ]
      },
      {
       "output_type": "stream",
       "stream": "stdout",
       "text": [
        " \n",
        "58623"
       ]
      },
      {
       "output_type": "stream",
       "stream": "stdout",
       "text": [
        " \n",
        "58622"
       ]
      },
      {
       "output_type": "stream",
       "stream": "stdout",
       "text": [
        " \n",
        "57842"
       ]
      },
      {
       "output_type": "stream",
       "stream": "stdout",
       "text": [
        " \n",
        "55220"
       ]
      },
      {
       "output_type": "stream",
       "stream": "stdout",
       "text": [
        " 55263\n",
        "59001"
       ]
      },
      {
       "output_type": "stream",
       "stream": "stdout",
       "text": [
        " \n",
        "59114"
       ]
      },
      {
       "output_type": "stream",
       "stream": "stdout",
       "text": [
        " \n",
        "57886"
       ]
      },
      {
       "output_type": "stream",
       "stream": "stdout",
       "text": [
        " \n",
        "58676"
       ]
      },
      {
       "output_type": "stream",
       "stream": "stdout",
       "text": [
        " \n",
        "57840"
       ]
      },
      {
       "output_type": "stream",
       "stream": "stdout",
       "text": [
        " \n",
        "65896"
       ]
      },
      {
       "output_type": "stream",
       "stream": "stdout",
       "text": [
        " \n",
        "57795"
       ]
      },
      {
       "output_type": "stream",
       "stream": "stdout",
       "text": [
        " 57877\n",
        "58992"
       ]
      },
      {
       "output_type": "stream",
       "stream": "stdout",
       "text": [
        " \n",
        "58614"
       ]
      },
      {
       "output_type": "stream",
       "stream": "stdout",
       "text": [
        " \n",
        "59097"
       ]
      },
      {
       "output_type": "stream",
       "stream": "stdout",
       "text": [
        " \n",
        "58613"
       ]
      },
      {
       "output_type": "stream",
       "stream": "stdout",
       "text": [
        " \n",
        "66011"
       ]
      },
      {
       "output_type": "stream",
       "stream": "stdout",
       "text": [
        " \n",
        "58998"
       ]
      },
      {
       "output_type": "stream",
       "stream": "stdout",
       "text": [
        " \n",
        "59157"
       ]
      },
      {
       "output_type": "stream",
       "stream": "stdout",
       "text": [
        " 59158\n",
        "58986"
       ]
      },
      {
       "output_type": "stream",
       "stream": "stdout",
       "text": [
        " \n",
        "57883"
       ]
      },
      {
       "output_type": "stream",
       "stream": "stdout",
       "text": [
        " \n",
        "58669"
       ]
      },
      {
       "output_type": "stream",
       "stream": "stdout",
       "text": [
        " \n",
        "58667"
       ]
      },
      {
       "output_type": "stream",
       "stream": "stdout",
       "text": [
        " \n",
        "58984"
       ]
      },
      {
       "output_type": "stream",
       "stream": "stdout",
       "text": [
        " 58992\n",
        "58984"
       ]
      },
      {
       "output_type": "stream",
       "stream": "stdout",
       "text": [
        " 58987\n",
        "34399"
       ]
      },
      {
       "output_type": "stream",
       "stream": "stdout",
       "text": [
        " \n",
        "34399"
       ]
      },
      {
       "output_type": "stream",
       "stream": "stdout",
       "text": [
        " 58981\n",
        "58615"
       ]
      },
      {
       "output_type": "stream",
       "stream": "stdout",
       "text": [
        " 58617\n",
        "61861"
       ]
      },
      {
       "output_type": "stream",
       "stream": "stdout",
       "text": [
        " \n",
        "57887"
       ]
      },
      {
       "output_type": "stream",
       "stream": "stdout",
       "text": [
        " \n",
        "59003"
       ]
      },
      {
       "output_type": "stream",
       "stream": "stdout",
       "text": [
        " \n",
        "57796"
       ]
      },
      {
       "output_type": "stream",
       "stream": "stdout",
       "text": [
        " 58620\n",
        "57885"
       ]
      },
      {
       "output_type": "stream",
       "stream": "stdout",
       "text": [
        " \n",
        "57884"
       ]
      },
      {
       "output_type": "stream",
       "stream": "stdout",
       "text": [
        " \n",
        "34387"
       ]
      },
      {
       "output_type": "stream",
       "stream": "stdout",
       "text": [
        " 34390\n",
        "59092"
       ]
      },
      {
       "output_type": "stream",
       "stream": "stdout",
       "text": [
        " 59093\n",
        "58663"
       ]
      },
      {
       "output_type": "stream",
       "stream": "stdout",
       "text": [
        " \n",
        "58977"
       ]
      },
      {
       "output_type": "stream",
       "stream": "stdout",
       "text": [
        " 58995\n",
        "58662"
       ]
      },
      {
       "output_type": "stream",
       "stream": "stdout",
       "text": [
        " \n",
        "58658"
       ]
      },
      {
       "output_type": "stream",
       "stream": "stdout",
       "text": [
        " 58659\n",
        "58675"
       ]
      },
      {
       "output_type": "stream",
       "stream": "stdout",
       "text": [
        " \n",
        "58656"
       ]
      },
      {
       "output_type": "stream",
       "stream": "stdout",
       "text": [
        " 58657\n",
        "57836"
       ]
      },
      {
       "output_type": "stream",
       "stream": "stdout",
       "text": [
        " 57835\n",
        "55442"
       ]
      },
      {
       "output_type": "stream",
       "stream": "stdout",
       "text": [
        " \n",
        "57834"
       ]
      },
      {
       "output_type": "stream",
       "stream": "stdout",
       "text": [
        " 57835\n",
        "57834"
       ]
      },
      {
       "output_type": "stream",
       "stream": "stdout",
       "text": [
        " 57833\n",
        "57832"
       ]
      },
      {
       "output_type": "stream",
       "stream": "stdout",
       "text": [
        " 57833\n",
        "57832"
       ]
      },
      {
       "output_type": "stream",
       "stream": "stdout",
       "text": [
        " 57831\n",
        "57830"
       ]
      },
      {
       "output_type": "stream",
       "stream": "stdout",
       "text": [
        " 57831\n",
        "55441"
       ]
      },
      {
       "output_type": "stream",
       "stream": "stdout",
       "text": [
        " \n",
        "55440"
       ]
      },
      {
       "output_type": "stream",
       "stream": "stdout",
       "text": [
        " \n",
        "57746"
       ]
      },
      {
       "output_type": "stream",
       "stream": "stdout",
       "text": [
        " \n",
        "56919"
       ]
      },
      {
       "output_type": "stream",
       "stream": "stdout",
       "text": [
        " 55473\n",
        "57826"
       ]
      },
      {
       "output_type": "stream",
       "stream": "stdout",
       "text": [
        " 57736\n",
        "57824"
       ]
      },
      {
       "output_type": "stream",
       "stream": "stdout",
       "text": [
        " 57823\n",
        "57822"
       ]
      },
      {
       "output_type": "stream",
       "stream": "stdout",
       "text": [
        " 57823\n",
        "57822"
       ]
      },
      {
       "output_type": "stream",
       "stream": "stdout",
       "text": [
        " 57821\n",
        "57820"
       ]
      },
      {
       "output_type": "stream",
       "stream": "stdout",
       "text": [
        " 57819\n",
        "34375"
       ]
      },
      {
       "output_type": "stream",
       "stream": "stdout",
       "text": [
        " 34423\n",
        "58978"
       ]
      },
      {
       "output_type": "stream",
       "stream": "stdout",
       "text": [
        " 58994\n",
        "42951"
       ]
      },
      {
       "output_type": "stream",
       "stream": "stdout",
       "text": [
        " 57768\n",
        "57794"
       ]
      },
      {
       "output_type": "stream",
       "stream": "stdout",
       "text": [
        " \n",
        "58654"
       ]
      },
      {
       "output_type": "stream",
       "stream": "stdout",
       "text": [
        " 58655\n",
        "55468"
       ]
      },
      {
       "output_type": "stream",
       "stream": "stdout",
       "text": [
        " \n",
        "55467"
       ]
      },
      {
       "output_type": "stream",
       "stream": "stdout",
       "text": [
        " \n",
        "57808"
       ]
      },
      {
       "output_type": "stream",
       "stream": "stdout",
       "text": [
        " \n",
        "56941"
       ]
      },
      {
       "output_type": "stream",
       "stream": "stdout",
       "text": [
        " 56941\n",
        "88936"
       ]
      },
      {
       "output_type": "stream",
       "stream": "stdout",
       "text": [
        " \n",
        "56623"
       ]
      },
      {
       "output_type": "stream",
       "stream": "stdout",
       "text": [
        " 34423\n",
        "57770"
       ]
      },
      {
       "output_type": "stream",
       "stream": "stdout",
       "text": [
        " \n",
        "55418"
       ]
      },
      {
       "output_type": "stream",
       "stream": "stdout",
       "text": [
        " 57768\n",
        "42981"
       ]
      },
      {
       "output_type": "stream",
       "stream": "stdout",
       "text": [
        " 57768\n",
        "43376"
       ]
      },
      {
       "output_type": "stream",
       "stream": "stdout",
       "text": [
        " 55418\n",
        "57769"
       ]
      },
      {
       "output_type": "stream",
       "stream": "stdout",
       "text": [
        " \n",
        "57807"
       ]
      },
      {
       "output_type": "stream",
       "stream": "stdout",
       "text": [
        " \n",
        "56941"
       ]
      },
      {
       "output_type": "stream",
       "stream": "stdout",
       "text": [
        " 56958\n",
        "56632"
       ]
      },
      {
       "output_type": "stream",
       "stream": "stdout",
       "text": [
        " 56633\n",
        "56631"
       ]
      },
      {
       "output_type": "stream",
       "stream": "stdout",
       "text": [
        " \n",
        "57792"
       ]
      },
      {
       "output_type": "stream",
       "stream": "stdout",
       "text": [
        " \n",
        "56958"
       ]
      },
      {
       "output_type": "stream",
       "stream": "stdout",
       "text": [
        " \n",
        "42992"
       ]
      },
      {
       "output_type": "stream",
       "stream": "stdout",
       "text": [
        " 54771\n",
        "56919"
       ]
      },
      {
       "output_type": "stream",
       "stream": "stdout",
       "text": [
        " 57736\n",
        "57744"
       ]
      },
      {
       "output_type": "stream",
       "stream": "stdout",
       "text": [
        " \n",
        "57817"
       ]
      },
      {
       "output_type": "stream",
       "stream": "stdout",
       "text": [
        " 55326\n",
        "57817"
       ]
      },
      {
       "output_type": "stream",
       "stream": "stdout",
       "text": [
        " 34422\n",
        "57814"
       ]
      },
      {
       "output_type": "stream",
       "stream": "stdout",
       "text": [
        " 57816\n",
        "43375"
       ]
      },
      {
       "output_type": "stream",
       "stream": "stdout",
       "text": [
        " 42952\n",
        "59091"
       ]
      },
      {
       "output_type": "stream",
       "stream": "stdout",
       "text": [
        " \n",
        "42951"
       ]
      },
      {
       "output_type": "stream",
       "stream": "stdout",
       "text": [
        " 56936\n",
        "85059"
       ]
      },
      {
       "output_type": "stream",
       "stream": "stdout",
       "text": [
        " \n",
        "57838"
       ]
      },
      {
       "output_type": "stream",
       "stream": "stdout",
       "text": [
        " \n",
        "57836"
       ]
      },
      {
       "output_type": "stream",
       "stream": "stdout",
       "text": [
        " 57837\n",
        "57811"
       ]
      },
      {
       "output_type": "stream",
       "stream": "stdout",
       "text": [
        " \n",
        "57810"
       ]
      },
      {
       "output_type": "stream",
       "stream": "stdout",
       "text": [
        " \n",
        "42944"
       ]
      },
      {
       "output_type": "stream",
       "stream": "stdout",
       "text": [
        " \n",
        "57801"
       ]
      },
      {
       "output_type": "stream",
       "stream": "stdout",
       "text": [
        " \n",
        "57800"
       ]
      },
      {
       "output_type": "stream",
       "stream": "stdout",
       "text": [
        " \n",
        "54774"
       ]
      },
      {
       "output_type": "stream",
       "stream": "stdout",
       "text": [
        " 54771\n",
        "57824"
       ]
      },
      {
       "output_type": "stream",
       "stream": "stdout",
       "text": [
        " 57825\n",
        "57820"
       ]
      },
      {
       "output_type": "stream",
       "stream": "stdout",
       "text": [
        " 57821\n",
        "57818"
       ]
      },
      {
       "output_type": "stream",
       "stream": "stdout",
       "text": [
        " 57819\n",
        "57816"
       ]
      },
      {
       "output_type": "stream",
       "stream": "stdout",
       "text": [
        " 34422\n",
        "57814"
       ]
      },
      {
       "output_type": "stream",
       "stream": "stdout",
       "text": [
        " 57815\n",
        "57806"
       ]
      },
      {
       "output_type": "stream",
       "stream": "stdout",
       "text": [
        " \n",
        "59174"
       ]
      },
      {
       "output_type": "stream",
       "stream": "stdout",
       "text": [
        " 59175\n",
        "59090"
       ]
      },
      {
       "output_type": "stream",
       "stream": "stdout",
       "text": [
        " \n",
        "57789"
       ]
      },
      {
       "output_type": "stream",
       "stream": "stdout",
       "text": [
        " 57790\n",
        "57783"
       ]
      },
      {
       "output_type": "stream",
       "stream": "stdout",
       "text": [
        " \n",
        "57781"
       ]
      },
      {
       "output_type": "stream",
       "stream": "stdout",
       "text": [
        " 57782\n",
        "55263"
       ]
      },
      {
       "output_type": "stream",
       "stream": "stdout",
       "text": [
        " 55263\n",
        "40212"
       ]
      },
      {
       "output_type": "stream",
       "stream": "stdout",
       "text": [
        " 42952\n",
        "58981"
       ]
      },
      {
       "output_type": "stream",
       "stream": "stdout",
       "text": [
        " 34399\n",
        "55438"
       ]
      },
      {
       "output_type": "stream",
       "stream": "stdout",
       "text": [
        " 55439\n",
        "43375"
       ]
      },
      {
       "output_type": "stream",
       "stream": "stdout",
       "text": [
        " 54775\n",
        "55435"
       ]
      },
      {
       "output_type": "stream",
       "stream": "stdout",
       "text": [
        " 55436\n",
        "55397"
       ]
      },
      {
       "output_type": "stream",
       "stream": "stdout",
       "text": [
        " \n",
        "56911"
       ]
      },
      {
       "output_type": "stream",
       "stream": "stdout",
       "text": [
        " 56941\n",
        "56615"
       ]
      },
      {
       "output_type": "stream",
       "stream": "stdout",
       "text": [
        " 56937\n",
        "55469"
       ]
      },
      {
       "output_type": "stream",
       "stream": "stdout",
       "text": [
        " \n",
        "57734"
       ]
      },
      {
       "output_type": "stream",
       "stream": "stdout",
       "text": [
        " 57735\n",
        "57733"
       ]
      },
      {
       "output_type": "stream",
       "stream": "stdout",
       "text": [
        " \n",
        "55435"
       ]
      },
      {
       "output_type": "stream",
       "stream": "stdout",
       "text": [
        " 55437\n",
        "57758"
       ]
      },
      {
       "output_type": "stream",
       "stream": "stdout",
       "text": [
        " \n",
        "55396"
       ]
      },
      {
       "output_type": "stream",
       "stream": "stdout",
       "text": [
        " \n",
        "89809"
       ]
      },
      {
       "output_type": "stream",
       "stream": "stdout",
       "text": [
        " \n",
        "65972"
       ]
      },
      {
       "output_type": "stream",
       "stream": "stdout",
       "text": [
        " \n",
        "64017"
       ]
      },
      {
       "output_type": "stream",
       "stream": "stdout",
       "text": [
        " 65913\n",
        "56622"
       ]
      },
      {
       "output_type": "stream",
       "stream": "stdout",
       "text": [
        " \n",
        "56621"
       ]
      },
      {
       "output_type": "stream",
       "stream": "stdout",
       "text": [
        " \n",
        "56927"
       ]
      },
      {
       "output_type": "stream",
       "stream": "stdout",
       "text": [
        " 56929\n",
        "56927"
       ]
      },
      {
       "output_type": "stream",
       "stream": "stdout",
       "text": [
        " \n",
        "58653"
       ]
      },
      {
       "output_type": "stream",
       "stream": "stdout",
       "text": [
        " \n",
        "56620"
       ]
      },
      {
       "output_type": "stream",
       "stream": "stdout",
       "text": [
        " \n",
        "55433"
       ]
      },
      {
       "output_type": "stream",
       "stream": "stdout",
       "text": [
        " \n",
        "55446"
       ]
      },
      {
       "output_type": "stream",
       "stream": "stdout",
       "text": [
        " 54775\n",
        "55395"
       ]
      },
      {
       "output_type": "stream",
       "stream": "stdout",
       "text": [
        " 55192\n",
        "55429"
       ]
      },
      {
       "output_type": "stream",
       "stream": "stdout",
       "text": [
        " \n",
        "57720"
       ]
      },
      {
       "output_type": "stream",
       "stream": "stdout",
       "text": [
        " 57721\n",
        "56935"
       ]
      },
      {
       "output_type": "stream",
       "stream": "stdout",
       "text": [
        " \n",
        "57776"
       ]
      },
      {
       "output_type": "stream",
       "stream": "stdout",
       "text": [
        " \n",
        "56964"
       ]
      },
      {
       "output_type": "stream",
       "stream": "stdout",
       "text": [
        " \n",
        "55434"
       ]
      },
      {
       "output_type": "stream",
       "stream": "stdout",
       "text": [
        " \n",
        "56963"
       ]
      },
      {
       "output_type": "stream",
       "stream": "stdout",
       "text": [
        " \n",
        "56628"
       ]
      },
      {
       "output_type": "stream",
       "stream": "stdout",
       "text": [
        " \n",
        "56927"
       ]
      },
      {
       "output_type": "stream",
       "stream": "stdout",
       "text": [
        " 56928\n",
        "56627"
       ]
      },
      {
       "output_type": "stream",
       "stream": "stdout",
       "text": [
        " \n",
        "56624"
       ]
      },
      {
       "output_type": "stream",
       "stream": "stdout",
       "text": [
        " \n",
        "55484"
       ]
      },
      {
       "output_type": "stream",
       "stream": "stdout",
       "text": [
        " \n",
        "89477"
       ]
      },
      {
       "output_type": "stream",
       "stream": "stdout",
       "text": [
        " \n",
        "59089"
       ]
      },
      {
       "output_type": "stream",
       "stream": "stdout",
       "text": [
        " \n",
        "56619"
       ]
      },
      {
       "output_type": "stream",
       "stream": "stdout",
       "text": [
        " \n",
        "61846"
       ]
      },
      {
       "output_type": "stream",
       "stream": "stdout",
       "text": [
        " \n",
        "55314"
       ]
      },
      {
       "output_type": "stream",
       "stream": "stdout",
       "text": [
        " \n",
        "57720"
       ]
      },
      {
       "output_type": "stream",
       "stream": "stdout",
       "text": [
        " \n",
        "56919"
       ]
      },
      {
       "output_type": "stream",
       "stream": "stdout",
       "text": [
        " 56911\n",
        "55310"
       ]
      },
      {
       "output_type": "stream",
       "stream": "stdout",
       "text": [
        " \n",
        "34345"
       ]
      },
      {
       "output_type": "stream",
       "stream": "stdout",
       "text": [
        " 56936\n",
        "57742"
       ]
      },
      {
       "output_type": "stream",
       "stream": "stdout",
       "text": [
        " 57743\n",
        "57742"
       ]
      },
      {
       "output_type": "stream",
       "stream": "stdout",
       "text": [
        " \n",
        "57804"
       ]
      },
      {
       "output_type": "stream",
       "stream": "stdout",
       "text": [
        " \n",
        "55426"
       ]
      },
      {
       "output_type": "stream",
       "stream": "stdout",
       "text": [
        " \n",
        "55423"
       ]
      },
      {
       "output_type": "stream",
       "stream": "stdout",
       "text": [
        " \n",
        "65894"
       ]
      },
      {
       "output_type": "stream",
       "stream": "stdout",
       "text": [
        " \n",
        "59088"
       ]
      },
      {
       "output_type": "stream",
       "stream": "stdout",
       "text": [
        " \n",
        "55446"
       ]
      },
      {
       "output_type": "stream",
       "stream": "stdout",
       "text": [
        " 56911\n",
        "55424"
       ]
      },
      {
       "output_type": "stream",
       "stream": "stdout",
       "text": [
        " \n",
        "55305"
       ]
      },
      {
       "output_type": "stream",
       "stream": "stdout",
       "text": [
        " 55394\n",
        "55306"
       ]
      },
      {
       "output_type": "stream",
       "stream": "stdout",
       "text": [
        " \n",
        "57749"
       ]
      },
      {
       "output_type": "stream",
       "stream": "stdout",
       "text": [
        " \n",
        "55182"
       ]
      },
      {
       "output_type": "stream",
       "stream": "stdout",
       "text": [
        " \n",
        "61870"
       ]
      },
      {
       "output_type": "stream",
       "stream": "stdout",
       "text": [
        " \n",
        "57803"
       ]
      },
      {
       "output_type": "stream",
       "stream": "stdout",
       "text": [
        " \n",
        "74623"
       ]
      },
      {
       "output_type": "stream",
       "stream": "stdout",
       "text": [
        " \n",
        "56968"
       ]
      },
      {
       "output_type": "stream",
       "stream": "stdout",
       "text": [
        " \n",
        "56967"
       ]
      },
      {
       "output_type": "stream",
       "stream": "stdout",
       "text": [
        " \n",
        "56966"
       ]
      },
      {
       "output_type": "stream",
       "stream": "stdout",
       "text": [
        " \n",
        "57741"
       ]
      },
      {
       "output_type": "stream",
       "stream": "stdout",
       "text": [
        " \n",
        "56965"
       ]
      },
      {
       "output_type": "stream",
       "stream": "stdout",
       "text": [
        " \n",
        "57716"
       ]
      },
      {
       "output_type": "stream",
       "stream": "stdout",
       "text": [
        " 57717\n",
        "55483"
       ]
      },
      {
       "output_type": "stream",
       "stream": "stdout",
       "text": [
        " \n",
        "56977"
       ]
      },
      {
       "output_type": "stream",
       "stream": "stdout",
       "text": [
        " \n",
        "55371"
       ]
      },
      {
       "output_type": "stream",
       "stream": "stdout",
       "text": [
        " 55321\n",
        "57726"
       ]
      },
      {
       "output_type": "stream",
       "stream": "stdout",
       "text": [
        " \n",
        "58993"
       ]
      },
      {
       "output_type": "stream",
       "stream": "stdout",
       "text": [
        " 34345\n",
        "59087"
       ]
      },
      {
       "output_type": "stream",
       "stream": "stdout",
       "text": [
        " \n",
        "55339"
       ]
      },
      {
       "output_type": "stream",
       "stream": "stdout",
       "text": [
        " 55349\n",
        "55480"
       ]
      },
      {
       "output_type": "stream",
       "stream": "stdout",
       "text": [
        " 55481\n",
        "55370"
       ]
      },
      {
       "output_type": "stream",
       "stream": "stdout",
       "text": [
        " \n",
        "43376"
       ]
      },
      {
       "output_type": "stream",
       "stream": "stdout",
       "text": [
        " 55215\n",
        "43376"
       ]
      },
      {
       "output_type": "stream",
       "stream": "stdout",
       "text": [
        " 54774\n",
        "57789"
       ]
      },
      {
       "output_type": "stream",
       "stream": "stdout",
       "text": [
        " \n",
        "56955"
       ]
      },
      {
       "output_type": "stream",
       "stream": "stdout",
       "text": [
        " 56956\n",
        "55206"
       ]
      },
      {
       "output_type": "stream",
       "stream": "stdout",
       "text": [
        " 55206\n",
        "54541"
       ]
      },
      {
       "output_type": "stream",
       "stream": "stdout",
       "text": [
        " 43376\n",
        "54774"
       ]
      },
      {
       "output_type": "stream",
       "stream": "stdout",
       "text": [
        " 54775\n",
        "57727"
       ]
      },
      {
       "output_type": "stream",
       "stream": "stdout",
       "text": [
        " \n",
        "56978"
       ]
      },
      {
       "output_type": "stream",
       "stream": "stdout",
       "text": [
        " \n",
        "56951"
       ]
      },
      {
       "output_type": "stream",
       "stream": "stdout",
       "text": [
        " 56952\n",
        "56920"
       ]
      },
      {
       "output_type": "stream",
       "stream": "stdout",
       "text": [
        " \n",
        "57748"
       ]
      },
      {
       "output_type": "stream",
       "stream": "stdout",
       "text": [
        " \n",
        "57725"
       ]
      },
      {
       "output_type": "stream",
       "stream": "stdout",
       "text": [
        " \n",
        "56976"
       ]
      },
      {
       "output_type": "stream",
       "stream": "stdout",
       "text": [
        " \n",
        "55313"
       ]
      },
      {
       "output_type": "stream",
       "stream": "stdout",
       "text": [
        " \n",
        "55311"
       ]
      },
      {
       "output_type": "stream",
       "stream": "stdout",
       "text": [
        " 43377\n",
        "55338"
       ]
      },
      {
       "output_type": "stream",
       "stream": "stdout",
       "text": [
        " 55347\n",
        "56938"
       ]
      },
      {
       "output_type": "stream",
       "stream": "stdout",
       "text": [
        " 57715\n",
        "55416"
       ]
      },
      {
       "output_type": "stream",
       "stream": "stdout",
       "text": [
        " \n",
        "42981"
       ]
      },
      {
       "output_type": "stream",
       "stream": "stdout",
       "text": [
        " 42981\n",
        "55478"
       ]
      },
      {
       "output_type": "stream",
       "stream": "stdout",
       "text": [
        " 55224\n",
        "55478"
       ]
      },
      {
       "output_type": "stream",
       "stream": "stdout",
       "text": [
        " 55312\n",
        "55477"
       ]
      },
      {
       "output_type": "stream",
       "stream": "stdout",
       "text": [
        " 55312\n",
        "55476"
       ]
      },
      {
       "output_type": "stream",
       "stream": "stdout",
       "text": [
        " \n",
        "55304"
       ]
      },
      {
       "output_type": "stream",
       "stream": "stdout",
       "text": [
        " \n",
        "55391"
       ]
      },
      {
       "output_type": "stream",
       "stream": "stdout",
       "text": [
        " \n",
        "55474"
       ]
      },
      {
       "output_type": "stream",
       "stream": "stdout",
       "text": [
        " \n",
        "55390"
       ]
      },
      {
       "output_type": "stream",
       "stream": "stdout",
       "text": [
        " \n",
        "34928"
       ]
      },
      {
       "output_type": "stream",
       "stream": "stdout",
       "text": [
        " 34336\n",
        "57740"
       ]
      },
      {
       "output_type": "stream",
       "stream": "stdout",
       "text": [
        " \n",
        "55369"
       ]
      },
      {
       "output_type": "stream",
       "stream": "stdout",
       "text": [
        " \n",
        "57724"
       ]
      },
      {
       "output_type": "stream",
       "stream": "stdout",
       "text": [
        " \n",
        "55349"
       ]
      },
      {
       "output_type": "stream",
       "stream": "stdout",
       "text": [
        " 55350\n",
        "55348"
       ]
      },
      {
       "output_type": "stream",
       "stream": "stdout",
       "text": [
        " 55338\n",
        "55358"
       ]
      },
      {
       "output_type": "stream",
       "stream": "stdout",
       "text": [
        " 55359\n",
        "55346"
       ]
      },
      {
       "output_type": "stream",
       "stream": "stdout",
       "text": [
        " \n",
        "55368"
       ]
      },
      {
       "output_type": "stream",
       "stream": "stdout",
       "text": [
        " \n",
        "34403"
       ]
      },
      {
       "output_type": "stream",
       "stream": "stdout",
       "text": [
        " \n",
        "54542"
       ]
      },
      {
       "output_type": "stream",
       "stream": "stdout",
       "text": [
        " 54541\n",
        "55456"
       ]
      },
      {
       "output_type": "stream",
       "stream": "stdout",
       "text": [
        " 55457\n",
        "55348"
       ]
      },
      {
       "output_type": "stream",
       "stream": "stdout",
       "text": [
        " 55357\n",
        "59180"
       ]
      },
      {
       "output_type": "stream",
       "stream": "stdout",
       "text": [
        " \n",
        "55394"
       ]
      },
      {
       "output_type": "stream",
       "stream": "stdout",
       "text": [
        " 55415\n",
        "56975"
       ]
      },
      {
       "output_type": "stream",
       "stream": "stdout",
       "text": [
        " \n",
        "59157"
       ]
      },
      {
       "output_type": "stream",
       "stream": "stdout",
       "text": [
        " \n",
        "57733"
       ]
      },
      {
       "output_type": "stream",
       "stream": "stdout",
       "text": [
        " 57787\n",
        "55408"
       ]
      },
      {
       "output_type": "stream",
       "stream": "stdout",
       "text": [
        " \n",
        "55406"
       ]
      },
      {
       "output_type": "stream",
       "stream": "stdout",
       "text": [
        " \n",
        "56655"
       ]
      },
      {
       "output_type": "stream",
       "stream": "stdout",
       "text": [
        " 56656\n",
        "55449"
       ]
      },
      {
       "output_type": "stream",
       "stream": "stdout",
       "text": [
        " \n",
        "56916"
       ]
      },
      {
       "output_type": "stream",
       "stream": "stdout",
       "text": [
        " 55303\n",
        "55448"
       ]
      },
      {
       "output_type": "stream",
       "stream": "stdout",
       "text": [
        " \n",
        "55339"
       ]
      },
      {
       "output_type": "stream",
       "stream": "stdout",
       "text": [
        " 55353\n",
        "55380"
       ]
      },
      {
       "output_type": "stream",
       "stream": "stdout",
       "text": [
        " 55381\n",
        "55339"
       ]
      },
      {
       "output_type": "stream",
       "stream": "stdout",
       "text": [
        " 55354\n",
        "55393"
       ]
      },
      {
       "output_type": "stream",
       "stream": "stdout",
       "text": [
        " \n",
        "55339"
       ]
      },
      {
       "output_type": "stream",
       "stream": "stdout",
       "text": [
        " 55351\n",
        "55378"
       ]
      },
      {
       "output_type": "stream",
       "stream": "stdout",
       "text": [
        " 55379\n",
        "55339"
       ]
      },
      {
       "output_type": "stream",
       "stream": "stdout",
       "text": [
        " 55352\n",
        "54775"
       ]
      },
      {
       "output_type": "stream",
       "stream": "stdout",
       "text": [
        " 55232\n",
        "55377"
       ]
      },
      {
       "output_type": "stream",
       "stream": "stdout",
       "text": [
        " \n",
        "55344"
       ]
      },
      {
       "output_type": "stream",
       "stream": "stdout",
       "text": [
        " 55345\n",
        "55355"
       ]
      },
      {
       "output_type": "stream",
       "stream": "stdout",
       "text": [
        " 55356\n",
        "55340"
       ]
      },
      {
       "output_type": "stream",
       "stream": "stdout",
       "text": [
        " 55341\n",
        "55285"
       ]
      },
      {
       "output_type": "stream",
       "stream": "stdout",
       "text": [
        " 55284\n",
        "55376"
       ]
      },
      {
       "output_type": "stream",
       "stream": "stdout",
       "text": [
        " \n",
        "55281"
       ]
      },
      {
       "output_type": "stream",
       "stream": "stdout",
       "text": [
        " \n",
        "55293"
       ]
      },
      {
       "output_type": "stream",
       "stream": "stdout",
       "text": [
        " 55294\n",
        "55276"
       ]
      },
      {
       "output_type": "stream",
       "stream": "stdout",
       "text": [
        " 55277\n",
        "55291"
       ]
      },
      {
       "output_type": "stream",
       "stream": "stdout",
       "text": [
        " 55292\n",
        "55289"
       ]
      },
      {
       "output_type": "stream",
       "stream": "stdout",
       "text": [
        " 55290\n",
        "55271"
       ]
      },
      {
       "output_type": "stream",
       "stream": "stdout",
       "text": [
        " 55270\n",
        "55284"
       ]
      },
      {
       "output_type": "stream",
       "stream": "stdout",
       "text": [
        " \n",
        "55364"
       ]
      },
      {
       "output_type": "stream",
       "stream": "stdout",
       "text": [
        " 55365\n",
        "55414"
       ]
      },
      {
       "output_type": "stream",
       "stream": "stdout",
       "text": [
        " \n",
        "55312"
       ]
      },
      {
       "output_type": "stream",
       "stream": "stdout",
       "text": [
        " 55413\n",
        "55342"
       ]
      },
      {
       "output_type": "stream",
       "stream": "stdout",
       "text": [
        " 55343\n",
        "55360"
       ]
      },
      {
       "output_type": "stream",
       "stream": "stdout",
       "text": [
        " 55361\n",
        "55404"
       ]
      },
      {
       "output_type": "stream",
       "stream": "stdout",
       "text": [
        " \n",
        "55250"
       ]
      },
      {
       "output_type": "stream",
       "stream": "stdout",
       "text": [
        " \n",
        "55249"
       ]
      },
      {
       "output_type": "stream",
       "stream": "stdout",
       "text": [
        " \n",
        "55338"
       ]
      },
      {
       "output_type": "stream",
       "stream": "stdout",
       "text": [
        " 34336\n",
        "55328"
       ]
      },
      {
       "output_type": "stream",
       "stream": "stdout",
       "text": [
        " 55298\n",
        "55412"
       ]
      },
      {
       "output_type": "stream",
       "stream": "stdout",
       "text": [
        " \n",
        "55354"
       ]
      },
      {
       "output_type": "stream",
       "stream": "stdout",
       "text": [
        " 55352\n",
        "55337"
       ]
      },
      {
       "output_type": "stream",
       "stream": "stdout",
       "text": [
        " \n",
        "55336"
       ]
      },
      {
       "output_type": "stream",
       "stream": "stdout",
       "text": [
        " \n",
        "55238"
       ]
      },
      {
       "output_type": "stream",
       "stream": "stdout",
       "text": [
        " 55402\n",
        "55301"
       ]
      },
      {
       "output_type": "stream",
       "stream": "stdout",
       "text": [
        " \n",
        "54772"
       ]
      },
      {
       "output_type": "stream",
       "stream": "stdout",
       "text": [
        " \n",
        "66101"
       ]
      },
      {
       "output_type": "stream",
       "stream": "stdout",
       "text": [
        " \n",
        "55288"
       ]
      },
      {
       "output_type": "stream",
       "stream": "stdout",
       "text": [
        " \n",
        "34394"
       ]
      },
      {
       "output_type": "stream",
       "stream": "stdout",
       "text": [
        " \n",
        "55353"
       ]
      },
      {
       "output_type": "stream",
       "stream": "stdout",
       "text": [
        " 55352\n",
        "55274"
       ]
      },
      {
       "output_type": "stream",
       "stream": "stdout",
       "text": [
        " 55275\n",
        "55280"
       ]
      },
      {
       "output_type": "stream",
       "stream": "stdout",
       "text": [
        " \n",
        "55272"
       ]
      },
      {
       "output_type": "stream",
       "stream": "stdout",
       "text": [
        " 55273\n",
        "55270"
       ]
      },
      {
       "output_type": "stream",
       "stream": "stdout",
       "text": [
        " 55271\n",
        "55282"
       ]
      },
      {
       "output_type": "stream",
       "stream": "stdout",
       "text": [
        " \n",
        "34312"
       ]
      },
      {
       "output_type": "stream",
       "stream": "stdout",
       "text": [
        " \n",
        "42991"
       ]
      },
      {
       "output_type": "stream",
       "stream": "stdout",
       "text": [
        " \n",
        "55268"
       ]
      },
      {
       "output_type": "stream",
       "stream": "stdout",
       "text": [
        " \n",
        "55458"
       ]
      },
      {
       "output_type": "stream",
       "stream": "stdout",
       "text": [
        " 55459\n",
        "55216"
       ]
      },
      {
       "output_type": "stream",
       "stream": "stdout",
       "text": [
        " \n",
        "34393"
       ]
      },
      {
       "output_type": "stream",
       "stream": "stdout",
       "text": [
        " 55263\n",
        "55248"
       ]
      },
      {
       "output_type": "stream",
       "stream": "stdout",
       "text": [
        " \n",
        "55247"
       ]
      },
      {
       "output_type": "stream",
       "stream": "stdout",
       "text": [
        " \n",
        "55246"
       ]
      },
      {
       "output_type": "stream",
       "stream": "stdout",
       "text": [
        " \n",
        "55262"
       ]
      },
      {
       "output_type": "stream",
       "stream": "stdout",
       "text": [
        " \n",
        "55205"
       ]
      },
      {
       "output_type": "stream",
       "stream": "stdout",
       "text": [
        " \n",
        "55261"
       ]
      },
      {
       "output_type": "stream",
       "stream": "stdout",
       "text": [
        " \n",
        "55260"
       ]
      },
      {
       "output_type": "stream",
       "stream": "stdout",
       "text": [
        " \n",
        "89028"
       ]
      },
      {
       "output_type": "stream",
       "stream": "stdout",
       "text": [
        " \n",
        "55389"
       ]
      },
      {
       "output_type": "stream",
       "stream": "stdout",
       "text": [
        " \n",
        "58985"
       ]
      },
      {
       "output_type": "stream",
       "stream": "stdout",
       "text": [
        " 34384\n",
        "55320"
       ]
      },
      {
       "output_type": "stream",
       "stream": "stdout",
       "text": [
        " \n",
        "38943"
       ]
      },
      {
       "output_type": "stream",
       "stream": "stdout",
       "text": [
        " \n",
        "55242"
       ]
      },
      {
       "output_type": "stream",
       "stream": "stdout",
       "text": [
        " \n",
        "55335"
       ]
      },
      {
       "output_type": "stream",
       "stream": "stdout",
       "text": [
        " \n",
        "42981"
       ]
      },
      {
       "output_type": "stream",
       "stream": "stdout",
       "text": [
        " 34284\n",
        "55234"
       ]
      },
      {
       "output_type": "stream",
       "stream": "stdout",
       "text": [
        " \n",
        "55410"
       ]
      },
      {
       "output_type": "stream",
       "stream": "stdout",
       "text": [
        " \n",
        "55418"
       ]
      },
      {
       "output_type": "stream",
       "stream": "stdout",
       "text": [
        " 55445\n",
        "55190"
       ]
      },
      {
       "output_type": "stream",
       "stream": "stdout",
       "text": [
        " 55191\n",
        "55260"
       ]
      },
      {
       "output_type": "stream",
       "stream": "stdout",
       "text": [
        " 55277\n",
        "42951"
       ]
      },
      {
       "output_type": "stream",
       "stream": "stdout",
       "text": [
        " 42958\n",
        "55309"
       ]
      },
      {
       "output_type": "stream",
       "stream": "stdout",
       "text": [
        " \n",
        "55199"
       ]
      },
      {
       "output_type": "stream",
       "stream": "stdout",
       "text": [
        " \n",
        "55267"
       ]
      },
      {
       "output_type": "stream",
       "stream": "stdout",
       "text": [
        " \n",
        "54540"
       ]
      },
      {
       "output_type": "stream",
       "stream": "stdout",
       "text": [
        " 42981\n",
        "55243"
       ]
      },
      {
       "output_type": "stream",
       "stream": "stdout",
       "text": [
        " \n",
        "55383"
       ]
      },
      {
       "output_type": "stream",
       "stream": "stdout",
       "text": [
        " 55384\n",
        "55258"
       ]
      },
      {
       "output_type": "stream",
       "stream": "stdout",
       "text": [
        " \n",
        "55298"
       ]
      },
      {
       "output_type": "stream",
       "stream": "stdout",
       "text": [
        " \n",
        "55327"
       ]
      },
      {
       "output_type": "stream",
       "stream": "stdout",
       "text": [
        " \n",
        "55236"
       ]
      },
      {
       "output_type": "stream",
       "stream": "stdout",
       "text": [
        " \n",
        "55401"
       ]
      },
      {
       "output_type": "stream",
       "stream": "stdout",
       "text": [
        " \n",
        "55235"
       ]
      },
      {
       "output_type": "stream",
       "stream": "stdout",
       "text": [
        " \n",
        "55188"
       ]
      },
      {
       "output_type": "stream",
       "stream": "stdout",
       "text": [
        " 55189\n",
        "55317"
       ]
      },
      {
       "output_type": "stream",
       "stream": "stdout",
       "text": [
        " \n",
        "55375"
       ]
      },
      {
       "output_type": "stream",
       "stream": "stdout",
       "text": [
        " 55213\n",
        "55257"
       ]
      },
      {
       "output_type": "stream",
       "stream": "stdout",
       "text": [
        " \n",
        "57747"
       ]
      },
      {
       "output_type": "stream",
       "stream": "stdout",
       "text": [
        " \n",
        "42979"
       ]
      },
      {
       "output_type": "stream",
       "stream": "stdout",
       "text": [
        " \n",
        "55435"
       ]
      },
      {
       "output_type": "stream",
       "stream": "stdout",
       "text": [
        " \n",
        "56915"
       ]
      },
      {
       "output_type": "stream",
       "stream": "stdout",
       "text": [
        " \n",
        "55237"
       ]
      },
      {
       "output_type": "stream",
       "stream": "stdout",
       "text": [
        " \n",
        "55223"
       ]
      },
      {
       "output_type": "stream",
       "stream": "stdout",
       "text": [
        " \n",
        "54771"
       ]
      },
      {
       "output_type": "stream",
       "stream": "stdout",
       "text": [
        " 42992\n",
        "55318"
       ]
      },
      {
       "output_type": "stream",
       "stream": "stdout",
       "text": [
        " \n",
        "55455"
       ]
      },
      {
       "output_type": "stream",
       "stream": "stdout",
       "text": [
        " \n",
        "34931"
       ]
      },
      {
       "output_type": "stream",
       "stream": "stdout",
       "text": [
        " \n",
        "55209"
       ]
      },
      {
       "output_type": "stream",
       "stream": "stdout",
       "text": [
        " \n",
        "55186"
       ]
      },
      {
       "output_type": "stream",
       "stream": "stdout",
       "text": [
        " 55187\n",
        "54773"
       ]
      },
      {
       "output_type": "stream",
       "stream": "stdout",
       "text": [
        " 42974\n",
        "55279"
       ]
      },
      {
       "output_type": "stream",
       "stream": "stdout",
       "text": [
        " \n",
        "55334"
       ]
      },
      {
       "output_type": "stream",
       "stream": "stdout",
       "text": [
        " \n",
        "55326"
       ]
      },
      {
       "output_type": "stream",
       "stream": "stdout",
       "text": [
        " \n",
        "55400"
       ]
      },
      {
       "output_type": "stream",
       "stream": "stdout",
       "text": [
        " \n",
        "57714"
       ]
      },
      {
       "output_type": "stream",
       "stream": "stdout",
       "text": [
        " \n",
        "42980"
       ]
      },
      {
       "output_type": "stream",
       "stream": "stdout",
       "text": [
        " 42998\n",
        "42996"
       ]
      },
      {
       "output_type": "stream",
       "stream": "stdout",
       "text": [
        " 42998\n",
        "55482"
       ]
      },
      {
       "output_type": "stream",
       "stream": "stdout",
       "text": [
        " \n",
        "56653"
       ]
      },
      {
       "output_type": "stream",
       "stream": "stdout",
       "text": [
        " 56654\n",
        "42972"
       ]
      },
      {
       "output_type": "stream",
       "stream": "stdout",
       "text": [
        " 42973\n",
        "42955"
       ]
      },
      {
       "output_type": "stream",
       "stream": "stdout",
       "text": [
        " 34417\n",
        "55256"
       ]
      },
      {
       "output_type": "stream",
       "stream": "stdout",
       "text": [
        " \n",
        "56653"
       ]
      },
      {
       "output_type": "stream",
       "stream": "stdout",
       "text": [
        " \n",
        "34398"
       ]
      },
      {
       "output_type": "stream",
       "stream": "stdout",
       "text": [
        " \n",
        "57722"
       ]
      },
      {
       "output_type": "stream",
       "stream": "stdout",
       "text": [
        " \n",
        "34337"
       ]
      },
      {
       "output_type": "stream",
       "stream": "stdout",
       "text": [
        " 34346\n",
        "55212"
       ]
      },
      {
       "output_type": "stream",
       "stream": "stdout",
       "text": [
        " \n",
        "55252"
       ]
      },
      {
       "output_type": "stream",
       "stream": "stdout",
       "text": [
        " \n",
        "55296"
       ]
      },
      {
       "output_type": "stream",
       "stream": "stdout",
       "text": [
        " \n",
        "38939"
       ]
      },
      {
       "output_type": "stream",
       "stream": "stdout",
       "text": [
        " \n",
        "56942"
       ]
      },
      {
       "output_type": "stream",
       "stream": "stdout",
       "text": [
        " \n",
        "38947"
       ]
      },
      {
       "output_type": "stream",
       "stream": "stdout",
       "text": [
        " 38948\n",
        "55195"
       ]
      },
      {
       "output_type": "stream",
       "stream": "stdout",
       "text": [
        " \n",
        "34942"
       ]
      },
      {
       "output_type": "stream",
       "stream": "stdout",
       "text": [
        " \n",
        "43020"
       ]
      },
      {
       "output_type": "stream",
       "stream": "stdout",
       "text": [
        " \n",
        "56941"
       ]
      },
      {
       "output_type": "stream",
       "stream": "stdout",
       "text": [
        " 56911\n",
        "55295"
       ]
      },
      {
       "output_type": "stream",
       "stream": "stdout",
       "text": [
        " \n",
        "43000"
       ]
      },
      {
       "output_type": "stream",
       "stream": "stdout",
       "text": [
        " \n",
        "42998"
       ]
      },
      {
       "output_type": "stream",
       "stream": "stdout",
       "text": [
        " \n",
        "42996"
       ]
      },
      {
       "output_type": "stream",
       "stream": "stdout",
       "text": [
        " \n",
        "42971"
       ]
      },
      {
       "output_type": "stream",
       "stream": "stdout",
       "text": [
        " \n",
        "55388"
       ]
      },
      {
       "output_type": "stream",
       "stream": "stdout",
       "text": [
        " \n",
        "55374"
       ]
      },
      {
       "output_type": "stream",
       "stream": "stdout",
       "text": [
        " \n",
        "42951"
       ]
      },
      {
       "output_type": "stream",
       "stream": "stdout",
       "text": [
        " 43053\n",
        "43053"
       ]
      },
      {
       "output_type": "stream",
       "stream": "stdout",
       "text": [
        " \n",
        "55239"
       ]
      },
      {
       "output_type": "stream",
       "stream": "stdout",
       "text": [
        " 55217\n",
        "55330"
       ]
      },
      {
       "output_type": "stream",
       "stream": "stdout",
       "text": [
        " \n",
        "42999"
       ]
      },
      {
       "output_type": "stream",
       "stream": "stdout",
       "text": [
        " \n",
        "54541"
       ]
      },
      {
       "output_type": "stream",
       "stream": "stdout",
       "text": [
        " 55181\n",
        "42996"
       ]
      },
      {
       "output_type": "stream",
       "stream": "stdout",
       "text": [
        " 42997\n",
        "42995"
       ]
      },
      {
       "output_type": "stream",
       "stream": "stdout",
       "text": [
        " \n",
        "42974"
       ]
      },
      {
       "output_type": "stream",
       "stream": "stdout",
       "text": [
        " 42975\n",
        "55219"
       ]
      },
      {
       "output_type": "stream",
       "stream": "stdout",
       "text": [
        " \n",
        "42973"
       ]
      },
      {
       "output_type": "stream",
       "stream": "stdout",
       "text": [
        " 42974\n",
        "42994"
       ]
      },
      {
       "output_type": "stream",
       "stream": "stdout",
       "text": [
        " \n",
        "54540"
       ]
      },
      {
       "output_type": "stream",
       "stream": "stdout",
       "text": [
        " 54771\n",
        "55332"
       ]
      },
      {
       "output_type": "stream",
       "stream": "stdout",
       "text": [
        " \n",
        "95471"
       ]
      },
      {
       "output_type": "stream",
       "stream": "stdout",
       "text": [
        " \n",
        "95472"
       ]
      },
      {
       "output_type": "stream",
       "stream": "stdout",
       "text": [
        " 95473\n",
        "95481"
       ]
      },
      {
       "output_type": "stream",
       "stream": "stdout",
       "text": [
        " \n",
        "95482"
       ]
      },
      {
       "output_type": "stream",
       "stream": "stdout",
       "text": [
        " 95483\n",
        "95490"
       ]
      },
      {
       "output_type": "stream",
       "stream": "stdout",
       "text": [
        " \n",
        "95490"
       ]
      },
      {
       "output_type": "stream",
       "stream": "stdout",
       "text": [
        " 95491\n",
        "95493"
       ]
      },
      {
       "output_type": "stream",
       "stream": "stdout",
       "text": [
        " \n",
        "95496"
       ]
      },
      {
       "output_type": "stream",
       "stream": "stdout",
       "text": [
        " \n",
        "95489"
       ]
      },
      {
       "output_type": "stream",
       "stream": "stdout",
       "text": [
        " 95488\n",
        "95499"
       ]
      },
      {
       "output_type": "stream",
       "stream": "stdout",
       "text": [
        " \n",
        "95500"
       ]
      },
      {
       "output_type": "stream",
       "stream": "stdout",
       "text": [
        " \n",
        "95501"
       ]
      },
      {
       "output_type": "stream",
       "stream": "stdout",
       "text": [
        " 94982\n",
        "94946"
       ]
      },
      {
       "output_type": "stream",
       "stream": "stdout",
       "text": [
        " 94874\n",
        "95504"
       ]
      },
      {
       "output_type": "stream",
       "stream": "stdout",
       "text": [
        " \n",
        "95505"
       ]
      },
      {
       "output_type": "stream",
       "stream": "stdout",
       "text": [
        " \n",
        "95509"
       ]
      },
      {
       "output_type": "stream",
       "stream": "stdout",
       "text": [
        " \n",
        "95510"
       ]
      },
      {
       "output_type": "stream",
       "stream": "stdout",
       "text": [
        " \n",
        "95512"
       ]
      },
      {
       "output_type": "stream",
       "stream": "stdout",
       "text": [
        " \n",
        "95513"
       ]
      },
      {
       "output_type": "stream",
       "stream": "stdout",
       "text": [
        " \n",
        "95514"
       ]
      },
      {
       "output_type": "stream",
       "stream": "stdout",
       "text": [
        " \n",
        "95518"
       ]
      },
      {
       "output_type": "stream",
       "stream": "stdout",
       "text": [
        " \n",
        "95519"
       ]
      },
      {
       "output_type": "stream",
       "stream": "stdout",
       "text": [
        " \n",
        "95522"
       ]
      },
      {
       "output_type": "stream",
       "stream": "stdout",
       "text": [
        " \n",
        "94920"
       ]
      },
      {
       "output_type": "stream",
       "stream": "stdout",
       "text": [
        " 95423\n",
        "94978"
       ]
      },
      {
       "output_type": "stream",
       "stream": "stdout",
       "text": [
        " 95526\n",
        "94978"
       ]
      },
      {
       "output_type": "stream",
       "stream": "stdout",
       "text": [
        " 95204\n",
        "94978"
       ]
      },
      {
       "output_type": "stream",
       "stream": "stdout",
       "text": [
        " 95527\n",
        "95528"
       ]
      },
      {
       "output_type": "stream",
       "stream": "stdout",
       "text": [
        " 95529\n",
        "95531"
       ]
      },
      {
       "output_type": "stream",
       "stream": "stdout",
       "text": [
        " \n",
        "95419"
       ]
      },
      {
       "output_type": "stream",
       "stream": "stdout",
       "text": [
        " 95418\n",
        "95022"
       ]
      },
      {
       "output_type": "stream",
       "stream": "stdout",
       "text": [
        " 95176\n",
        "9494"
       ]
      },
      {
       "output_type": "stream",
       "stream": "stdout",
       "text": [
        " \n",
        "95538"
       ]
      },
      {
       "output_type": "stream",
       "stream": "stdout",
       "text": [
        " \n",
        "95540"
       ]
      },
      {
       "output_type": "stream",
       "stream": "stdout",
       "text": [
        " \n",
        "95543"
       ]
      },
      {
       "output_type": "stream",
       "stream": "stdout",
       "text": [
        " \n",
        "95546"
       ]
      },
      {
       "output_type": "stream",
       "stream": "stdout",
       "text": [
        " \n",
        "95547"
       ]
      },
      {
       "output_type": "stream",
       "stream": "stdout",
       "text": [
        " \n",
        "95548"
       ]
      },
      {
       "output_type": "stream",
       "stream": "stdout",
       "text": [
        " \n",
        "95548"
       ]
      },
      {
       "output_type": "stream",
       "stream": "stdout",
       "text": [
        " 95549\n",
        "95069"
       ]
      },
      {
       "output_type": "stream",
       "stream": "stdout",
       "text": [
        " 95550\n",
        "94946"
       ]
      },
      {
       "output_type": "stream",
       "stream": "stdout",
       "text": [
        " 94927\n",
        "95142"
       ]
      },
      {
       "output_type": "stream",
       "stream": "stdout",
       "text": [
        " 94951\n",
        "95562"
       ]
      },
      {
       "output_type": "stream",
       "stream": "stdout",
       "text": [
        " \n",
        "95563"
       ]
      },
      {
       "output_type": "stream",
       "stream": "stdout",
       "text": [
        " \n",
        "95131"
       ]
      },
      {
       "output_type": "stream",
       "stream": "stdout",
       "text": [
        " \n",
        "95566"
       ]
      },
      {
       "output_type": "stream",
       "stream": "stdout",
       "text": [
        " \n",
        "94965"
       ]
      },
      {
       "output_type": "stream",
       "stream": "stdout",
       "text": [
        " 95568\n",
        "95571"
       ]
      },
      {
       "output_type": "stream",
       "stream": "stdout",
       "text": [
        " \n",
        "95216"
       ]
      },
      {
       "output_type": "stream",
       "stream": "stdout",
       "text": [
        " 94978\n",
        "95573"
       ]
      },
      {
       "output_type": "stream",
       "stream": "stdout",
       "text": [
        " \n",
        "95576"
       ]
      },
      {
       "output_type": "stream",
       "stream": "stdout",
       "text": [
        " \n",
        "95587"
       ]
      },
      {
       "output_type": "stream",
       "stream": "stdout",
       "text": [
        " \n",
        "95588"
       ]
      },
      {
       "output_type": "stream",
       "stream": "stdout",
       "text": [
        " \n",
        "95589"
       ]
      },
      {
       "output_type": "stream",
       "stream": "stdout",
       "text": [
        " 95588\n",
        "95590"
       ]
      },
      {
       "output_type": "stream",
       "stream": "stdout",
       "text": [
        " 95591\n",
        "95594"
       ]
      },
      {
       "output_type": "stream",
       "stream": "stdout",
       "text": [
        " \n",
        "94946"
       ]
      },
      {
       "output_type": "stream",
       "stream": "stdout",
       "text": [
        " 95271\n",
        "95300"
       ]
      },
      {
       "output_type": "stream",
       "stream": "stdout",
       "text": [
        " 94908\n",
        "95601"
       ]
      },
      {
       "output_type": "stream",
       "stream": "stdout",
       "text": [
        " \n",
        "95603"
       ]
      },
      {
       "output_type": "stream",
       "stream": "stdout",
       "text": [
        " \n",
        "94977"
       ]
      },
      {
       "output_type": "stream",
       "stream": "stdout",
       "text": [
        " \n",
        "95604"
       ]
      },
      {
       "output_type": "stream",
       "stream": "stdout",
       "text": [
        " \n",
        "95605"
       ]
      },
      {
       "output_type": "stream",
       "stream": "stdout",
       "text": [
        " \n",
        "95606"
       ]
      },
      {
       "output_type": "stream",
       "stream": "stdout",
       "text": [
        " \n",
        "95609"
       ]
      },
      {
       "output_type": "stream",
       "stream": "stdout",
       "text": [
        " \n",
        "95611"
       ]
      },
      {
       "output_type": "stream",
       "stream": "stdout",
       "text": [
        " \n",
        "95165"
       ]
      },
      {
       "output_type": "stream",
       "stream": "stdout",
       "text": [
        " \n",
        "95614"
       ]
      },
      {
       "output_type": "stream",
       "stream": "stdout",
       "text": [
        " \n",
        "94736"
       ]
      },
      {
       "output_type": "stream",
       "stream": "stdout",
       "text": [
        " \n",
        "95615"
       ]
      },
      {
       "output_type": "stream",
       "stream": "stdout",
       "text": [
        " \n",
        "95616"
       ]
      },
      {
       "output_type": "stream",
       "stream": "stdout",
       "text": [
        " \n",
        "95329"
       ]
      },
      {
       "output_type": "stream",
       "stream": "stdout",
       "text": [
        " \n",
        "95624"
       ]
      },
      {
       "output_type": "stream",
       "stream": "stdout",
       "text": [
        " \n",
        "95625"
       ]
      },
      {
       "output_type": "stream",
       "stream": "stdout",
       "text": [
        " \n",
        "95626"
       ]
      },
      {
       "output_type": "stream",
       "stream": "stdout",
       "text": [
        " \n",
        "95461"
       ]
      },
      {
       "output_type": "stream",
       "stream": "stdout",
       "text": [
        " 95219\n",
        "95627"
       ]
      },
      {
       "output_type": "stream",
       "stream": "stdout",
       "text": [
        " 95628\n",
        "95470"
       ]
      },
      {
       "output_type": "stream",
       "stream": "stdout",
       "text": [
        " 95629\n",
        "94935"
       ]
      },
      {
       "output_type": "stream",
       "stream": "stdout",
       "text": [
        " \n",
        "95632"
       ]
      },
      {
       "output_type": "stream",
       "stream": "stdout",
       "text": [
        " \n",
        "95633"
       ]
      },
      {
       "output_type": "stream",
       "stream": "stdout",
       "text": [
        " \n",
        "95634"
       ]
      },
      {
       "output_type": "stream",
       "stream": "stdout",
       "text": [
        " \n",
        "95635"
       ]
      },
      {
       "output_type": "stream",
       "stream": "stdout",
       "text": [
        " \n",
        "95636"
       ]
      },
      {
       "output_type": "stream",
       "stream": "stdout",
       "text": [
        " \n",
        "95637"
       ]
      },
      {
       "output_type": "stream",
       "stream": "stdout",
       "text": [
        " \n",
        "95638"
       ]
      },
      {
       "output_type": "stream",
       "stream": "stdout",
       "text": [
        " \n",
        "59080"
       ]
      },
      {
       "output_type": "stream",
       "stream": "stdout",
       "text": [
        " 59081\n",
        "95649"
       ]
      },
      {
       "output_type": "stream",
       "stream": "stdout",
       "text": [
        " \n",
        "95658"
       ]
      },
      {
       "output_type": "stream",
       "stream": "stdout",
       "text": [
        " \n",
        "95670"
       ]
      },
      {
       "output_type": "stream",
       "stream": "stdout",
       "text": [
        " \n",
        "59134"
       ]
      },
      {
       "output_type": "stream",
       "stream": "stdout",
       "text": [
        " 59135\n",
        "95678"
       ]
      },
      {
       "output_type": "stream",
       "stream": "stdout",
       "text": [
        " \n",
        "95679"
       ]
      },
      {
       "output_type": "stream",
       "stream": "stdout",
       "text": [
        " \n",
        "94946"
       ]
      },
      {
       "output_type": "stream",
       "stream": "stdout",
       "text": [
        " 95021\n",
        "59137"
       ]
      },
      {
       "output_type": "stream",
       "stream": "stdout",
       "text": [
        " 59138\n",
        "95691"
       ]
      },
      {
       "output_type": "stream",
       "stream": "stdout",
       "text": [
        " \n",
        "95692"
       ]
      },
      {
       "output_type": "stream",
       "stream": "stdout",
       "text": [
        " \n",
        "95694"
       ]
      },
      {
       "output_type": "stream",
       "stream": "stdout",
       "text": [
        " \n",
        "95701"
       ]
      },
      {
       "output_type": "stream",
       "stream": "stdout",
       "text": [
        " \n",
        "95702"
       ]
      },
      {
       "output_type": "stream",
       "stream": "stdout",
       "text": [
        " \n",
        "95703"
       ]
      },
      {
       "output_type": "stream",
       "stream": "stdout",
       "text": [
        " \n",
        "95706"
       ]
      },
      {
       "output_type": "stream",
       "stream": "stdout",
       "text": [
        " \n",
        "95367"
       ]
      },
      {
       "output_type": "stream",
       "stream": "stdout",
       "text": [
        " \n",
        "95709"
       ]
      },
      {
       "output_type": "stream",
       "stream": "stdout",
       "text": [
        " \n",
        "95715"
       ]
      },
      {
       "output_type": "stream",
       "stream": "stdout",
       "text": [
        " \n",
        "95716"
       ]
      },
      {
       "output_type": "stream",
       "stream": "stdout",
       "text": [
        " \n",
        "95719"
       ]
      },
      {
       "output_type": "stream",
       "stream": "stdout",
       "text": [
        " \n",
        "95721"
       ]
      },
      {
       "output_type": "stream",
       "stream": "stdout",
       "text": [
        " \n",
        "95722"
       ]
      },
      {
       "output_type": "stream",
       "stream": "stdout",
       "text": [
        " \n",
        "95724"
       ]
      },
      {
       "output_type": "stream",
       "stream": "stdout",
       "text": [
        " \n",
        "95726"
       ]
      },
      {
       "output_type": "stream",
       "stream": "stdout",
       "text": [
        " \n",
        "95731"
       ]
      },
      {
       "output_type": "stream",
       "stream": "stdout",
       "text": [
        " \n",
        "95732"
       ]
      },
      {
       "output_type": "stream",
       "stream": "stdout",
       "text": [
        " \n",
        "95733"
       ]
      },
      {
       "output_type": "stream",
       "stream": "stdout",
       "text": [
        " \n",
        "95735"
       ]
      },
      {
       "output_type": "stream",
       "stream": "stdout",
       "text": [
        " \n",
        "95736"
       ]
      },
      {
       "output_type": "stream",
       "stream": "stdout",
       "text": [
        " \n",
        "95737"
       ]
      },
      {
       "output_type": "stream",
       "stream": "stdout",
       "text": [
        " \n",
        "95738"
       ]
      },
      {
       "output_type": "stream",
       "stream": "stdout",
       "text": [
        " 95739\n",
        "95742"
       ]
      },
      {
       "output_type": "stream",
       "stream": "stdout",
       "text": [
        " 95741\n",
        "94908"
       ]
      },
      {
       "output_type": "stream",
       "stream": "stdout",
       "text": [
        " 95743\n",
        "94908"
       ]
      },
      {
       "output_type": "stream",
       "stream": "stdout",
       "text": [
        " 95744\n",
        "94908"
       ]
      },
      {
       "output_type": "stream",
       "stream": "stdout",
       "text": [
        " 95736\n",
        "95737"
       ]
      },
      {
       "output_type": "stream",
       "stream": "stdout",
       "text": [
        " 95736\n",
        "95748"
       ]
      },
      {
       "output_type": "stream",
       "stream": "stdout",
       "text": [
        " \n",
        "95749"
       ]
      },
      {
       "output_type": "stream",
       "stream": "stdout",
       "text": [
        " \n",
        "95750"
       ]
      },
      {
       "output_type": "stream",
       "stream": "stdout",
       "text": [
        " \n",
        "95751"
       ]
      },
      {
       "output_type": "stream",
       "stream": "stdout",
       "text": [
        " \n",
        "95751"
       ]
      },
      {
       "output_type": "stream",
       "stream": "stdout",
       "text": [
        " 95752\n",
        "95754"
       ]
      },
      {
       "output_type": "stream",
       "stream": "stdout",
       "text": [
        " \n",
        "95756"
       ]
      },
      {
       "output_type": "stream",
       "stream": "stdout",
       "text": [
        " \n",
        "94981"
       ]
      },
      {
       "output_type": "stream",
       "stream": "stdout",
       "text": [
        " \n",
        "95757"
       ]
      },
      {
       "output_type": "stream",
       "stream": "stdout",
       "text": [
        " \n",
        "95759"
       ]
      },
      {
       "output_type": "stream",
       "stream": "stdout",
       "text": [
        " \n",
        "94989"
       ]
      },
      {
       "output_type": "stream",
       "stream": "stdout",
       "text": [
        " 94828\n",
        "95763"
       ]
      },
      {
       "output_type": "stream",
       "stream": "stdout",
       "text": [
        " \n",
        "95782"
       ]
      },
      {
       "output_type": "stream",
       "stream": "stdout",
       "text": [
        " \n",
        "95783"
       ]
      },
      {
       "output_type": "stream",
       "stream": "stdout",
       "text": [
        " 95784\n",
        "95587"
       ]
      },
      {
       "output_type": "stream",
       "stream": "stdout",
       "text": [
        " 95785\n",
        "95382"
       ]
      },
      {
       "output_type": "stream",
       "stream": "stdout",
       "text": [
        " 95786\n",
        "94951"
       ]
      },
      {
       "output_type": "stream",
       "stream": "stdout",
       "text": [
        " 95788\n",
        "95792"
       ]
      },
      {
       "output_type": "stream",
       "stream": "stdout",
       "text": [
        " 95792\n",
        "95793"
       ]
      },
      {
       "output_type": "stream",
       "stream": "stdout",
       "text": [
        " 95793\n",
        "95795"
       ]
      },
      {
       "output_type": "stream",
       "stream": "stdout",
       "text": [
        " \n",
        "95796"
       ]
      },
      {
       "output_type": "stream",
       "stream": "stdout",
       "text": [
        " \n",
        "95797"
       ]
      },
      {
       "output_type": "stream",
       "stream": "stdout",
       "text": [
        " \n",
        "95798"
       ]
      },
      {
       "output_type": "stream",
       "stream": "stdout",
       "text": [
        " \n",
        "95799"
       ]
      },
      {
       "output_type": "stream",
       "stream": "stdout",
       "text": [
        " \n",
        "95800"
       ]
      },
      {
       "output_type": "stream",
       "stream": "stdout",
       "text": [
        " \n",
        "95801"
       ]
      },
      {
       "output_type": "stream",
       "stream": "stdout",
       "text": [
        " \n",
        "95802"
       ]
      },
      {
       "output_type": "stream",
       "stream": "stdout",
       "text": [
        " \n",
        "95803"
       ]
      },
      {
       "output_type": "stream",
       "stream": "stdout",
       "text": [
        " \n",
        "95806"
       ]
      },
      {
       "output_type": "stream",
       "stream": "stdout",
       "text": [
        " \n",
        "95811"
       ]
      },
      {
       "output_type": "stream",
       "stream": "stdout",
       "text": [
        " \n",
        "94920"
       ]
      },
      {
       "output_type": "stream",
       "stream": "stdout",
       "text": [
        " 95814\n",
        "95816"
       ]
      },
      {
       "output_type": "stream",
       "stream": "stdout",
       "text": [
        " \n",
        "40944"
       ]
      },
      {
       "output_type": "stream",
       "stream": "stdout",
       "text": [
        " \n",
        "95820"
       ]
      },
      {
       "output_type": "stream",
       "stream": "stdout",
       "text": [
        " \n",
        "95822"
       ]
      },
      {
       "output_type": "stream",
       "stream": "stdout",
       "text": [
        " \n",
        "95429"
       ]
      },
      {
       "output_type": "stream",
       "stream": "stdout",
       "text": [
        " \n",
        "95832"
       ]
      },
      {
       "output_type": "stream",
       "stream": "stdout",
       "text": [
        " \n",
        "95832"
       ]
      },
      {
       "output_type": "stream",
       "stream": "stdout",
       "text": [
        " 95833\n",
        "95836"
       ]
      },
      {
       "output_type": "stream",
       "stream": "stdout",
       "text": [
        " \n",
        "95838"
       ]
      },
      {
       "output_type": "stream",
       "stream": "stdout",
       "text": [
        " \n",
        "95839"
       ]
      },
      {
       "output_type": "stream",
       "stream": "stdout",
       "text": [
        " \n",
        "95840"
       ]
      },
      {
       "output_type": "stream",
       "stream": "stdout",
       "text": [
        " \n",
        "95841"
       ]
      },
      {
       "output_type": "stream",
       "stream": "stdout",
       "text": [
        " \n",
        "95140"
       ]
      },
      {
       "output_type": "stream",
       "stream": "stdout",
       "text": [
        " \n",
        "95842"
       ]
      },
      {
       "output_type": "stream",
       "stream": "stdout",
       "text": [
        " \n",
        "96120"
       ]
      },
      {
       "output_type": "stream",
       "stream": "stdout",
       "text": [
        " \n",
        "96126"
       ]
      },
      {
       "output_type": "stream",
       "stream": "stdout",
       "text": [
        " \n",
        "95145"
       ]
      },
      {
       "output_type": "stream",
       "stream": "stdout",
       "text": [
        " 95146\n",
        "95795"
       ]
      },
      {
       "output_type": "stream",
       "stream": "stdout",
       "text": [
        " 95796\n",
        "96131"
       ]
      },
      {
       "output_type": "stream",
       "stream": "stdout",
       "text": [
        " \n",
        "94983"
       ]
      },
      {
       "output_type": "stream",
       "stream": "stdout",
       "text": [
        " 95200\n",
        "94946"
       ]
      },
      {
       "output_type": "stream",
       "stream": "stdout",
       "text": [
        " 96133\n",
        "96135"
       ]
      },
      {
       "output_type": "stream",
       "stream": "stdout",
       "text": [
        " \n",
        "96137"
       ]
      },
      {
       "output_type": "stream",
       "stream": "stdout",
       "text": [
        " \n",
        "96141"
       ]
      },
      {
       "output_type": "stream",
       "stream": "stdout",
       "text": [
        " \n",
        "96141"
       ]
      },
      {
       "output_type": "stream",
       "stream": "stdout",
       "text": [
        " 96141\n",
        "96144"
       ]
      },
      {
       "output_type": "stream",
       "stream": "stdout",
       "text": [
        " \n",
        "96145"
       ]
      },
      {
       "output_type": "stream",
       "stream": "stdout",
       "text": [
        " \n",
        "96149"
       ]
      },
      {
       "output_type": "stream",
       "stream": "stdout",
       "text": [
        " \n",
        "96150"
       ]
      },
      {
       "output_type": "stream",
       "stream": "stdout",
       "text": [
        " \n",
        "96157"
       ]
      },
      {
       "output_type": "stream",
       "stream": "stdout",
       "text": [
        " \n",
        "96158"
       ]
      },
      {
       "output_type": "stream",
       "stream": "stdout",
       "text": [
        " \n",
        "96160"
       ]
      },
      {
       "output_type": "stream",
       "stream": "stdout",
       "text": [
        " \n",
        "94934"
       ]
      },
      {
       "output_type": "stream",
       "stream": "stdout",
       "text": [
        " 94796\n",
        "96163"
       ]
      },
      {
       "output_type": "stream",
       "stream": "stdout",
       "text": [
        " \n",
        "95454"
       ]
      },
      {
       "output_type": "stream",
       "stream": "stdout",
       "text": [
        " 96167\n",
        "96168"
       ]
      },
      {
       "output_type": "stream",
       "stream": "stdout",
       "text": [
        " 96169\n",
        "96168"
       ]
      },
      {
       "output_type": "stream",
       "stream": "stdout",
       "text": [
        " 96170\n",
        "95566"
       ]
      },
      {
       "output_type": "stream",
       "stream": "stdout",
       "text": [
        " 96172\n",
        "95639"
       ]
      },
      {
       "output_type": "stream",
       "stream": "stdout",
       "text": [
        " 95069\n",
        "96173"
       ]
      },
      {
       "output_type": "stream",
       "stream": "stdout",
       "text": [
        " 95069\n",
        "96177"
       ]
      },
      {
       "output_type": "stream",
       "stream": "stdout",
       "text": [
        " 96178\n",
        "96177"
       ]
      },
      {
       "output_type": "stream",
       "stream": "stdout",
       "text": [
        " 96179\n",
        "96177"
       ]
      },
      {
       "output_type": "stream",
       "stream": "stdout",
       "text": [
        " 95364\n",
        "96178"
       ]
      },
      {
       "output_type": "stream",
       "stream": "stdout",
       "text": [
        " 95364\n",
        "96178"
       ]
      },
      {
       "output_type": "stream",
       "stream": "stdout",
       "text": [
        " 95491\n",
        "94976"
       ]
      },
      {
       "output_type": "stream",
       "stream": "stdout",
       "text": [
        " 96180\n",
        "94977"
       ]
      },
      {
       "output_type": "stream",
       "stream": "stdout",
       "text": [
        " 96180\n",
        "96187"
       ]
      },
      {
       "output_type": "stream",
       "stream": "stdout",
       "text": [
        " \n",
        "96190"
       ]
      },
      {
       "output_type": "stream",
       "stream": "stdout",
       "text": [
        " \n",
        "95821"
       ]
      },
      {
       "output_type": "stream",
       "stream": "stdout",
       "text": [
        " 95818\n",
        "96186"
       ]
      },
      {
       "output_type": "stream",
       "stream": "stdout",
       "text": [
        " 96192\n",
        "96193"
       ]
      },
      {
       "output_type": "stream",
       "stream": "stdout",
       "text": [
        " 96194\n",
        "96193"
       ]
      },
      {
       "output_type": "stream",
       "stream": "stdout",
       "text": [
        " \n",
        "96195"
       ]
      },
      {
       "output_type": "stream",
       "stream": "stdout",
       "text": [
        " \n",
        "94992"
       ]
      },
      {
       "output_type": "stream",
       "stream": "stdout",
       "text": [
        " 95602\n",
        "94992"
       ]
      },
      {
       "output_type": "stream",
       "stream": "stdout",
       "text": [
        " 96197\n",
        "96201"
       ]
      },
      {
       "output_type": "stream",
       "stream": "stdout",
       "text": [
        " \n",
        "96202"
       ]
      },
      {
       "output_type": "stream",
       "stream": "stdout",
       "text": [
        " \n",
        "96203"
       ]
      },
      {
       "output_type": "stream",
       "stream": "stdout",
       "text": [
        " \n",
        "96204"
       ]
      },
      {
       "output_type": "stream",
       "stream": "stdout",
       "text": [
        " \n",
        "96205"
       ]
      },
      {
       "output_type": "stream",
       "stream": "stdout",
       "text": [
        " \n",
        "96206"
       ]
      },
      {
       "output_type": "stream",
       "stream": "stdout",
       "text": [
        " \n",
        "96207"
       ]
      },
      {
       "output_type": "stream",
       "stream": "stdout",
       "text": [
        " \n",
        "96208"
       ]
      },
      {
       "output_type": "stream",
       "stream": "stdout",
       "text": [
        " \n",
        "96209"
       ]
      },
      {
       "output_type": "stream",
       "stream": "stdout",
       "text": [
        " \n",
        "95040"
       ]
      },
      {
       "output_type": "stream",
       "stream": "stdout",
       "text": [
        " \n",
        "95412"
       ]
      },
      {
       "output_type": "stream",
       "stream": "stdout",
       "text": [
        " 94983\n",
        "96218"
       ]
      },
      {
       "output_type": "stream",
       "stream": "stdout",
       "text": [
        " \n",
        "96220"
       ]
      },
      {
       "output_type": "stream",
       "stream": "stdout",
       "text": [
        " \n",
        "94874"
       ]
      },
      {
       "output_type": "stream",
       "stream": "stdout",
       "text": [
        " 94712\n",
        "96176"
       ]
      },
      {
       "output_type": "stream",
       "stream": "stdout",
       "text": [
        " \n",
        "96230"
       ]
      },
      {
       "output_type": "stream",
       "stream": "stdout",
       "text": [
        " \n",
        "96231"
       ]
      },
      {
       "output_type": "stream",
       "stream": "stdout",
       "text": [
        " 96232\n",
        "95429"
       ]
      },
      {
       "output_type": "stream",
       "stream": "stdout",
       "text": [
        " 94927\n",
        "95142"
       ]
      },
      {
       "output_type": "stream",
       "stream": "stdout",
       "text": [
        " 95129\n",
        "95142"
       ]
      },
      {
       "output_type": "stream",
       "stream": "stdout",
       "text": [
        " 94988\n",
        "96515"
       ]
      },
      {
       "output_type": "stream",
       "stream": "stdout",
       "text": [
        " \n",
        "96518"
       ]
      },
      {
       "output_type": "stream",
       "stream": "stdout",
       "text": [
        " \n",
        "94690"
       ]
      },
      {
       "output_type": "stream",
       "stream": "stdout",
       "text": [
        " \n",
        "96529"
       ]
      },
      {
       "output_type": "stream",
       "stream": "stdout",
       "text": [
        " \n",
        "96530"
       ]
      },
      {
       "output_type": "stream",
       "stream": "stdout",
       "text": [
        " \n",
        "95018"
       ]
      },
      {
       "output_type": "stream",
       "stream": "stdout",
       "text": [
        " \n",
        "97792"
       ]
      },
      {
       "output_type": "stream",
       "stream": "stdout",
       "text": [
        " \n",
        "97795"
       ]
      },
      {
       "output_type": "stream",
       "stream": "stdout",
       "text": [
        " \n",
        "97796"
       ]
      },
      {
       "output_type": "stream",
       "stream": "stdout",
       "text": [
        " \n",
        "97800"
       ]
      },
      {
       "output_type": "stream",
       "stream": "stdout",
       "text": [
        " \n",
        "94828"
       ]
      },
      {
       "output_type": "stream",
       "stream": "stdout",
       "text": [
        " 95570\n",
        "97803"
       ]
      },
      {
       "output_type": "stream",
       "stream": "stdout",
       "text": [
        " \n",
        "97803"
       ]
      },
      {
       "output_type": "stream",
       "stream": "stdout",
       "text": [
        " 96141\n"
       ]
      }
     ],
     "prompt_number": 4
    },
    {
     "cell_type": "code",
     "collapsed": false,
     "input": [],
     "language": "python",
     "metadata": {},
     "outputs": []
    }
   ],
   "metadata": {}
  }
 ]
}