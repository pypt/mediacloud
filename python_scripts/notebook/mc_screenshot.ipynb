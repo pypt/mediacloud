{
 "metadata": {
  "name": ""
 },
 "nbformat": 3,
 "nbformat_minor": 0,
 "worksheets": [
  {
   "cells": [
    {
     "cell_type": "code",
     "collapsed": false,
     "input": [
      "import json\n",
      "import subprocess\n",
      "import os"
     ],
     "language": "python",
     "metadata": {},
     "outputs": [],
     "prompt_number": 9
    },
    {
     "cell_type": "code",
     "collapsed": false,
     "input": [
      "with open ('/tmp/json2', 'rb') as json_file:\n",
      "    json_string = json_file.read()\n",
      "    #print json_file.read()\n",
      "    popular_queries = json.loads( json_string )\n"
     ],
     "language": "python",
     "metadata": {},
     "outputs": [
      {
       "output_type": "pyout",
       "prompt_number": 7,
       "text": [
        "[{u'count': 291,\n",
        "  u'dashboard_action': u'/view/1',\n",
        "  u'dashboards_id': 1,\n",
        "  u'popular_queries_id': 1002,\n",
        "  u'queries_id_0': 56936,\n",
        "  u'queries_id_1': 56941,\n",
        "  u'query_0_description': u'in Top 25 Mainstream Media during the week starting 2011-05-23',\n",
        "  u'query_1_description': u'in Political Blogs during the week starting 2011-05-23',\n",
        "  u'url_params': u'?q2=56941&q1=56936'},\n",
        " {u'count': 168,\n",
        "  u'dashboard_action': u'/view/1',\n",
        "  u'dashboards_id': 1,\n",
        "  u'popular_queries_id': 859,\n",
        "  u'queries_id_0': 55418,\n",
        "  u'queries_id_1': 55446,\n",
        "  u'query_0_description': u'in Top 25 Mainstream Media during the week starting 2011-05-09',\n",
        "  u'query_1_description': u'in Political Blogs during the week starting 2011-05-09',\n",
        "  u'url_params': u'?q2=55446&q1=55418'}]"
       ]
      }
     ],
     "prompt_number": 7
    },
    {
     "cell_type": "code",
     "collapsed": false,
     "input": [
      "os.chdir('/home/dlarochelle/git_dev/mediacloud/screen_shots')\n",
      "os.chdir('top_1000')\n",
      "         \n",
      "subprocess.check_output(['phantomjs', '../../screen_shot_arguments.js', '94684', ''] )"
     ],
     "language": "python",
     "metadata": {},
     "outputs": [
      {
       "metadata": {},
       "output_type": "pyout",
       "prompt_number": 2,
       "text": [
        "'capturing\\n94684\\nhttp://www.mediacloud.org/dashboard/view/1?q1=94684\\ncapture_and_render: http://www.mediacloud.org/dashboard/view/1?q1=94684&q2=\\nrenderinghttp://www.mediacloud.org/dashboard/view/1?q1=94684&q2=\\nbase_name:mc_94684_\\ncaptured\\n'"
       ]
      }
     ],
     "prompt_number": 2
    },
    {
     "cell_type": "code",
     "collapsed": false,
     "input": [
      "os.chdir('/home/dlarochelle/git_dev/mediacloud/screen_shots')\n",
      "\n",
      "dirs = ['top_10', 'top_100', 'top_1000', 'all']\n",
      "\n",
      "dirs = [ 'top_10']\n",
      "for dir in dirs:\n",
      "    print \"processing {}\".format( dir )\n",
      "    os.chdir( dir )\n",
      "    with open ('pop_queries.json', 'rb') as json_file:\n",
      "        json_string = json_file.read()\n",
      "        #print json_file.read()\n",
      "        popular_queries = json.loads( json_string )\n",
      "        for popular_query in popular_queries:\n",
      "            q0 = popular_query[ 'queries_id_0' ]\n",
      "            q1 = popular_query[ 'queries_id_1' ]\n",
      "            if q1 == None:\n",
      "                q1 = ''\n",
      "            subprocess.check_output( ['phantomjs', '../screen_shot_arguments.js', str(q0), str(q1) ] )\n",
      "            subprocess.check_output( ['phantomjs', '../screen_shot_arguments.js', str(q0), str(q1), '--wc_only' ] )\n",
      "            subprocess.check_output( ['phantomjs', '../screen_shot_arguments.js', str(q0), str(q1), '--cmap_only' ] )\n",
      "            print q0, q1\n",
      "    os.chdir( '../')"
     ],
     "language": "python",
     "metadata": {},
     "outputs": [
      {
       "output_type": "stream",
       "stream": "stdout",
       "text": [
        "processing top_10\n",
        "94946"
       ]
      },
      {
       "output_type": "stream",
       "stream": "stdout",
       "text": [
        " \n",
        "42981"
       ]
      },
      {
       "output_type": "stream",
       "stream": "stdout",
       "text": [
        " \n",
        "88321"
       ]
      },
      {
       "output_type": "stream",
       "stream": "stdout",
       "text": [
        " \n",
        "43376"
       ]
      },
      {
       "output_type": "stream",
       "stream": "stdout",
       "text": [
        " \n",
        "87843"
       ]
      },
      {
       "output_type": "stream",
       "stream": "stdout",
       "text": [
        " \n",
        "89128"
       ]
      },
      {
       "output_type": "stream",
       "stream": "stdout",
       "text": [
        " \n",
        "90007"
       ]
      },
      {
       "output_type": "stream",
       "stream": "stdout",
       "text": [
        " \n",
        "94176"
       ]
      },
      {
       "output_type": "stream",
       "stream": "stdout",
       "text": [
        " \n",
        "57768"
       ]
      },
      {
       "output_type": "stream",
       "stream": "stdout",
       "text": [
        " \n",
        "59047"
       ]
      },
      {
       "output_type": "stream",
       "stream": "stdout",
       "text": [
        " \n"
       ]
      }
     ],
     "prompt_number": 11
    },
    {
     "cell_type": "code",
     "collapsed": false,
     "input": [
      "os.chdir('/home/dlarochelle/git_dev/mediacloud/screen_shots')\n",
      "\n",
      "dirs = ['top_10', 'top_100', 'top_1000', 'all']\n",
      "dirs = [ 'top_100']\n",
      "for dir in dirs:\n",
      "    print \"processing {}\".format( dir )\n",
      "    os.chdir( dir )\n",
      "    with open ('pop_queries.json', 'rb') as json_file:\n",
      "        json_string = json_file.read()\n",
      "        #print json_file.read()\n",
      "        popular_queries = json.loads( json_string )\n",
      "        for popular_query in popular_queries:\n",
      "            q0 = popular_query[ 'queries_id_0' ]\n",
      "            q1 = popular_query[ 'queries_id_1' ]\n",
      "            if q1 == None:\n",
      "                q1 = ''\n",
      "            if q1:\n",
      "                print \"http://www.mediacloud.org/dashboard/view/1?q1={}&q2={}\".format( q0, q1)\n",
      "            else:\n",
      "                #print \"http://www.mediacloud.org/dashboard/view/1?q1={}\".format( q0, q1)\n",
      "                pass"
     ],
     "language": "python",
     "metadata": {},
     "outputs": [
      {
       "output_type": "stream",
       "stream": "stdout",
       "text": [
        "processing top_100\n",
        "http://www.mediacloud.org/dashboard/view/1?q1=56936&q2=56941"
       ]
      },
      {
       "output_type": "stream",
       "stream": "stdout",
       "text": [
        "\n",
        "http://www.mediacloud.org/dashboard/view/1?q1=55418&q2=55446\n",
        "http://www.mediacloud.org/dashboard/view/1?q1=42968&q2=42969\n",
        "http://www.mediacloud.org/dashboard/view/1?q1=54541&q2=54542\n",
        "http://www.mediacloud.org/dashboard/view/1?q1=93382&q2=93467\n",
        "http://www.mediacloud.org/dashboard/view/1?q1=56615&q2=56911\n",
        "http://www.mediacloud.org/dashboard/view/1?q1=59132&q2=59133\n"
       ]
      }
     ],
     "prompt_number": 7
    },
    {
     "cell_type": "code",
     "collapsed": false,
     "input": [],
     "language": "python",
     "metadata": {},
     "outputs": []
    }
   ],
   "metadata": {}
  }
 ]
}