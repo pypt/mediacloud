{
 "metadata": {
  "name": ""
 },
 "nbformat": 3,
 "nbformat_minor": 0,
 "worksheets": [
  {
   "cells": [
    {
     "cell_type": "code",
     "collapsed": false,
     "input": [
      "import cPickle\n",
      "\n",
      "key = '9d0f25e3a434fa715cd8aea00b175236caad048e83b9334c093adc41708f03c9';\n",
      "cPickle.dump(key, file( '/home/dlarochelle/mediacloud_api_key.pickle', 'wb' ) )\n"
     ],
     "language": "python",
     "metadata": {},
     "outputs": [],
     "prompt_number": 2
    },
    {
     "cell_type": "code",
     "collapsed": false,
     "input": [
      "mykey = cPickle.load( file( '/home/dlarochelle/mediacloud_api_key.pickle', 'r' ) )\n",
      "\n",
      "mykey"
     ],
     "language": "python",
     "metadata": {},
     "outputs": [
      {
       "metadata": {},
       "output_type": "pyout",
       "prompt_number": 4,
       "text": [
        "'9d0f25e3a434fa715cd8aea00b175236caad048e83b9334c093adc41708f03c9'"
       ]
      }
     ],
     "prompt_number": 4
    }
   ],
   "metadata": {}
  }
 ]
}