{
 "metadata": {
  "name": ""
 },
 "nbformat": 3,
 "nbformat_minor": 0,
 "worksheets": [
  {
   "cells": [
    {
     "cell_type": "code",
     "collapsed": false,
     "input": [
      "import cPickle\n",
      "import os.path\n",
      "\n",
      "api_key = cPickle.load( file( os.path.expanduser( '~/mediacloud_api_key.pickle' ), 'r' ) )"
     ],
     "language": "python",
     "metadata": {},
     "outputs": [],
     "prompt_number": 1
    },
    {
     "cell_type": "code",
     "collapsed": false,
     "input": [
      "import cPickle\n",
      "import os.path\n",
      "\n",
      "cPickle.dump( api_key, file( os.path.expanduser( '~/mediacloud_api_key.pickle' ), 'wb' ) )"
     ],
     "language": "python",
     "metadata": {},
     "outputs": [],
     "prompt_number": 2
    },
    {
     "cell_type": "code",
     "collapsed": false,
     "input": [
      "import mediacloud, json\n",
      "mc = mediacloud.api.MediaCloud(api_key)\n"
     ],
     "language": "python",
     "metadata": {},
     "outputs": [],
     "prompt_number": 3
    },
    {
     "cell_type": "code",
     "collapsed": false,
     "input": [
      "def fetch_1000_stories_id_from_query( solr_query ):  \n",
      "    q = \"+sentence_number:0 AND {} \".format( solr_query )\n",
      "    d = mc.sentenceList( solr_query=q, \n",
      "                        sort=mc.SORT_RANDOM, rows=10 )\n",
      "    ret = [ s['stories_id'] for s in d['response']['docs'] ]\n",
      "    return ret"
     ],
     "language": "python",
     "metadata": {},
     "outputs": [],
     "prompt_number": 4
    },
    {
     "cell_type": "code",
     "collapsed": false,
     "input": [
      "import sys\n",
      "\n",
      "sys.path.append('../')\n",
      "\n",
      "import extractor_test_utils\n",
      "\n",
      "conn = extractor_test_utils.get_chloe_db_connection()\n",
      "\n",
      "import psycopg2\n",
      "import psycopg2.extras\n",
      "\n",
      "def downloads_id_from_stories_id( stories_id ):\n",
      "    cursor = conn.cursor(cursor_factory=psycopg2.extras.DictCursor)\n",
      "    \n",
      "    #cursor = conn.cursor(cursor_factory=psycopg2.extras.DictCursor)\n",
      "    \n",
      "    cursor.execute( \"SELECT * from downloads where stories_id = %(stories_id)s and type='content' and sequence = 1 AND state='success'\" ,\n",
      "                   { 'stories_id': stories_id } )\n",
      "    #cursor.close()\n",
      "    \n",
      "    fetched = cursor.fetchall()\n",
      "    #dict( fetched[0] )\n",
      "    return fetched[0]['downloads_id']"
     ],
     "language": "python",
     "metadata": {},
     "outputs": [],
     "prompt_number": 5
    },
    {
     "cell_type": "code",
     "collapsed": false,
     "input": [
      "training_sets = [{ 'media_tag': 8878255,\n",
      " 'name': 'egypt_composite_dalia_20140425' },\n",
      " {\n",
      "  'media_tag': 7796878,\n",
      "  'name': 'russian'}\n",
      " ]\n",
      "\n",
      "training_sets = [ \n",
      "    { 'media_tag': 2453107,\n",
      "     'name': 'pew_knight_study' },\n",
      "    { 'media_tag': 8875027,\n",
      "     'name': 'ap_english_us_top25_20100110' }\n",
      "    ]\n",
      "\n",
      "for training_set in training_sets:\n",
      "    \n",
      "    print 'training_set', training_set['name']\n",
      "    query = '+publish_date:[2014-01-01T00:00:00Z TO 2014-10-01T00:00:00Z}} AND tags_id_media:{0} '.format( training_set['media_tag'] )\n",
      "                                                                                                                         \n",
      "    stories_ids = fetch_1000_stories_id_from_query( query )\n",
      "    \n",
      "    download_ids = [ downloads_id_from_stories_id( stories_id ) for stories_id in stories_ids ]\n",
      "    \n",
      "    #print download_ids\n",
      "    \n",
      "    with open ( training_set['name'] + '_media_tag_' + str(training_set['media_tag']) + '_downloads_ids.txt', 'wb' ) as f:\n",
      "        f.write( \"\\n\".join([ str( d) for d in download_ids ] ) )\n",
      "    \n",
      "                                                                                                                                                              \n",
      "                                                                                                                                                                  \n",
      "                                                                                                                                                                  \n",
      "    "
     ],
     "language": "python",
     "metadata": {},
     "outputs": [
      {
       "output_type": "stream",
       "stream": "stdout",
       "text": [
        "training_set pew_knight_study\n",
        "training_set"
       ]
      },
      {
       "output_type": "stream",
       "stream": "stdout",
       "text": [
        " ap_english_us_top25_20100110\n"
       ]
      }
     ],
     "prompt_number": 6
    },
    {
     "cell_type": "code",
     "collapsed": false,
     "input": [
      "print mc.story( 237688812 )['url']"
     ],
     "language": "python",
     "metadata": {},
     "outputs": [
      {
       "output_type": "stream",
       "stream": "stdout",
       "text": [
        "http://lenta.ru/news/2014/06/01/quatar/\n"
       ]
      }
     ],
     "prompt_number": 7
    },
    {
     "cell_type": "code",
     "collapsed": false,
     "input": [
      "[ downloads_id_from_stories_id( stories_id ) for stories_id in stories_ids ]"
     ],
     "language": "python",
     "metadata": {},
     "outputs": [
      {
       "metadata": {},
       "output_type": "pyout",
       "prompt_number": 8,
       "text": [
        "[428064730,\n",
        " 481110694,\n",
        " 502858122,\n",
        " 515578274,\n",
        " 431002532,\n",
        " 498912351,\n",
        " 490236794,\n",
        " 562773521,\n",
        " 497158144,\n",
        " 432611308]"
       ]
      }
     ],
     "prompt_number": 8
    }
   ],
   "metadata": {}
  }
 ]
}