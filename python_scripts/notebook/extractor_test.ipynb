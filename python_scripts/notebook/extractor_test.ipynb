{
 "metadata": {
  "name": "",
  "signature": "sha256:e6196607dd61c04b365dcdf3394745636fe47d3eacdb8cc3057303b0c60176d3"
 },
 "nbformat": 3,
 "nbformat_minor": 0,
 "worksheets": [
  {
   "cells": [
    {
     "cell_type": "markdown",
     "metadata": {},
     "source": [
      "This notebook is intended enable testing and evaluation of various extractor methods such as:\n",
      "\n",
      "* Heuristic Extractor\n",
      "* CRF Extractor\n",
      "* boilerpipe\n"
     ]
    },
    {
     "cell_type": "code",
     "collapsed": false,
     "input": [
      "import cPickle\n",
      "import os.path\n",
      "\n",
      "api_key = cPickle.load( file( os.path.expanduser( '~/mediacloud_api_key.pickle' ), 'r' ) )"
     ],
     "language": "python",
     "metadata": {},
     "outputs": [],
     "prompt_number": 39
    },
    {
     "cell_type": "code",
     "collapsed": false,
     "input": [
      "import cPickle\n",
      "import os.path\n",
      "\n",
      "cPickle.dump( api_key, file( os.path.expanduser( '~/mediacloud_api_key.pickle' ), 'wb' ) )"
     ],
     "language": "python",
     "metadata": {},
     "outputs": [],
     "prompt_number": 40
    },
    {
     "cell_type": "code",
     "collapsed": false,
     "input": [
      "import sys\n",
      "sys.path.append('../../foreign_modules/python/')"
     ],
     "language": "python",
     "metadata": {},
     "outputs": [],
     "prompt_number": 41
    },
    {
     "cell_type": "code",
     "collapsed": false,
     "input": [
      "loc_key = 'f66a50230d54afaf18822808aed649f1d6ca72b08fb06d5efb6247afe9fbae52'"
     ],
     "language": "python",
     "metadata": {},
     "outputs": [],
     "prompt_number": 42
    },
    {
     "cell_type": "code",
     "collapsed": false,
     "input": [
      "import mediacloud, requests, csv, sys, os, json, cPickle\n",
      "\n",
      "def get_download( downloads_id ):\n",
      "    download = requests.get('https://api.mediacloud.org/api/v2/downloads/single/'+str(downloads_id)+'?key='+api_key)\n",
      "    return download.json()[0]\n",
      "\n",
      "def extract_story( preprocessed_lines, title, description, extractor_method ):\n",
      "    extract_params = {'key':loc_key, 'preprocessed_lines':preprocessed_lines, \n",
      "                           'story_title':title, 'story_description':description, 'extractor_method': extractor_method}\n",
      "    \n",
      "    extract_result = requests.put('http://0:3000/api/v2/extractlines/extract',data=json.dumps(extract_params), \n",
      "                                headers = {'Content-type': 'application/json'})\n",
      "    \n",
      "    extract_result.raise_for_status()\n",
      "    return extract_result.json()\n",
      "\n",
      "def get_story_lines( raw_content ):\n",
      "    story_lines_params = {'key':loc_key, 'body_html':raw_content }\n",
      "    headers = {'Content-type': 'application/json'}\n",
      "    story_lines = requests.put('http://0:3000/api/v2/extractlines/story_lines',data=json.dumps(story_lines_params), \n",
      "                               params={ 'key': loc_key },headers=headers)\n",
      "    \n",
      "    story_lines.raise_for_status()\n",
      "    \n",
      "    return story_lines"
     ],
     "language": "python",
     "metadata": {},
     "outputs": [],
     "prompt_number": 43
    },
    {
     "cell_type": "code",
     "collapsed": false,
     "input": [
      "import subprocess\n",
      "import tempfile\n",
      "import codecs\n",
      "import time\n",
      "from lxml import html\n",
      "\n",
      "#download = get_download( downloads_id )\n",
      "#raw_content = download[u'raw_content']\n",
      "\n",
      "def extract_with_boilerpipe( raw_content ):\n",
      "    with tempfile.NamedTemporaryFile( suffix='.html', delete=False ) as t:\n",
      "        #print t.name\n",
      "    \n",
      "        UTF8Writer = codecs.getwriter('utf8')\n",
      "        t.file = UTF8Writer(t.file)\n",
      "        t.file.write( raw_content )\n",
      "    \n",
      "        t.close()\n",
      "        #time.sleep( 2 )\n",
      "        print \"original article tmp file \", t.name\n",
      "        \n",
      "        #input_file = '/tmp/416655019.htm'\n",
      "        input_file = t.name\n",
      "        \n",
      "        output_tmp = tempfile.NamedTemporaryFile( suffix='.html', delete=False )\n",
      "        \n",
      "        output_file = output_tmp.name\n",
      "        #output_file = '/tmp/highlighted.html'\n",
      "        print output_file\n",
      "        print subprocess.check_output(['java', '-jar',\n",
      "                               '/home/dlarochelle/dev_scratch/boilerpipe_test/out/artifacts/boilerpipe_test_jar/boilerpipe_test.jar',\n",
      "                               input_file, output_file ] )\n",
      "        f = open( output_file, 'rb' )\n",
      "        \n",
      "        annotated_file_str = f.read()\n",
      "        \n",
      "        #t.unlink( t.name )\n",
      "        output_tmp.close()\n",
      "        #output_tmp.unlink( output_tmp.name )\n",
      "        \n",
      "    return annotated_file_str\n",
      "\n"
     ],
     "language": "python",
     "metadata": {},
     "outputs": [],
     "prompt_number": 44
    },
    {
     "cell_type": "code",
     "collapsed": false,
     "input": [
      "import readability\n",
      "\n",
      "def extract_with_python_readability( raw_content ):\n",
      "    doc = readability.Document( raw_content )\n",
      "    \n",
      "    return [ doc.short_title(),\n",
      "             doc.summary() ]"
     ],
     "language": "python",
     "metadata": {},
     "outputs": [],
     "prompt_number": 45
    },
    {
     "cell_type": "code",
     "collapsed": true,
     "input": [
      "import goose\n",
      "\n",
      "def extract_with_python_goose( raw_content ):\n",
      "    g = goose.Goose()\n",
      "    \n",
      "    r = g.extract( raw_html=raw_content )\n",
      "    return [r.title, r.cleaned_text ]"
     ],
     "language": "python",
     "metadata": {},
     "outputs": [],
     "prompt_number": 46
    },
    {
     "cell_type": "code",
     "collapsed": false,
     "input": [
      "import justext\n",
      "\n",
      "def extract_with_justext( raw_content ):\n",
      "    ret = []\n",
      "    \n",
      "    paragraphs = justext.justext( raw_content, justext.get_stoplist('Portuguese') )\n",
      "    \n",
      "    #p = paragraphs[0]\n",
      "    for p in paragraphs:\n",
      "        if not p.is_boilerplate:\n",
      "            ret.append(p.text)\n",
      "            \n",
      "    return ret\n",
      "\n",
      "#extract_with_justext( raw_content )\n",
      "#raw_html\n",
      "\n",
      "#justext.get_stoplists()"
     ],
     "language": "python",
     "metadata": {},
     "outputs": [],
     "prompt_number": 47
    },
    {
     "cell_type": "code",
     "collapsed": false,
     "input": [
      "import operator\n",
      "\n",
      "def get_extractor_training_text( downloads_id, preprocessed_lines ):\n",
      "    extractor_training_lines_result = requests.get(\n",
      "                                                   'https://api.mediacloud.org/api/v2/extractlines/extractor_training_lines/' + str(downloads_id),\n",
      "                                               headers = {'Content-type': 'application/json'}\n",
      "                                               , params= {'key': api_key}\n",
      "                                               )\n",
      "\n",
      "    extractor_training_lines_result.raise_for_status()\n",
      "\n",
      "    extractor_training_lines_result = extractor_training_lines_result.json()\n",
      "    \n",
      "    line_numbers = [ x['line_number'] for x in extractor_training_lines_result ]\n",
      "    \n",
      "    line_numbers = sorted(line_numbers)\n",
      "    \n",
      "    line_numbers.sort()\n",
      "    \n",
      "    #print line_numbers\n",
      "    \n",
      "    return operator.itemgetter( * line_numbers )( preprocessed_lines  )\n",
      "\n",
      "import operator\n",
      "\n",
      "def get_extracted_text( extractor_results ):\n",
      "    included_line_numbers = extractor_results['included_line_numbers']\n",
      "    #print included_line_numbers\n",
      "    \n",
      "    dl = extractor_results['download_lines']\n",
      "   \n",
      "    if len( included_line_numbers ) == 0:\n",
      "        return []\n",
      "    else:    \n",
      "        return operator.itemgetter( * extractor_results['included_line_numbers']   )(dl)"
     ],
     "language": "python",
     "metadata": {},
     "outputs": [],
     "prompt_number": 48
    },
    {
     "cell_type": "code",
     "collapsed": false,
     "input": [
      "def html_strip( str ):\n",
      "    if str.isspace() or str == '':\n",
      "        return u' '\n",
      "    \n",
      "    if str == '<':\n",
      "        return u' '        \n",
      "    \n",
      "    try:\n",
      "        return html.fromstring(str).text_content()    \n",
      "    except:\n",
      "        print \"Unexpected error on string '\" + str + \"'\" , sys.exc_info()[0]\n",
      "        #raise\n",
      "        return u''\n",
      "    \n",
      "    \n",
      "\n",
      "def clean_for_comparison( str ):\n",
      "    if len(str) > 0:\n",
      "        ret = html_strip( str )\n",
      "    else:\n",
      "        return str\n",
      "    \n",
      "    if len(ret) > 0:\n",
      "        ret = ret.strip()\n",
      "    \n",
      "    return ret    "
     ],
     "language": "python",
     "metadata": {},
     "outputs": [],
     "prompt_number": 49
    },
    {
     "cell_type": "code",
     "collapsed": false,
     "input": [
      "import Levenshtein\n",
      "\n",
      "def lines_to_comparable_text( lines ):\n",
      "    text = \" \".join([ clean_for_comparison(line) for line in lines ])\n",
      "    \n",
      "    if text == '':\n",
      "        text = u''\n",
      "        \n",
      "    return text\n",
      "\n",
      "def compare_accuracy( lines, lines_expected ):\n",
      "    return Levenshtein.distance( lines_to_comparable_text( lines ) , lines_to_comparable_text( lines_expected ) )"
     ],
     "language": "python",
     "metadata": {},
     "outputs": [],
     "prompt_number": 50
    },
    {
     "cell_type": "code",
     "collapsed": false,
     "input": [
      "def get_anncestors( element ):\n",
      "    anncestors = [ element ];\n",
      "    anncestor = element.getparent()\n",
      "    \n",
      "    while anncestor != None :\n",
      "        #print 'loop'\n",
      "        anncestors.append( anncestor )\n",
      "        anncestor = anncestor.getparent()\n",
      "        \n",
      "    return anncestors"
     ],
     "language": "python",
     "metadata": {},
     "outputs": [],
     "prompt_number": 51
    },
    {
     "cell_type": "code",
     "collapsed": false,
     "input": [
      "def text_from_lxml_object( obj):\n",
      "    if type(obj) is etree._ElementStringResult:\n",
      "        return u'' + obj\n",
      "    if type(obj) ==  etree._ElementUnicodeResult:\n",
      "        return u'' + obj \n",
      "    else:\n",
      "        try:\n",
      "            return etree.tostring( obj , method='text', encoding=\"UTF-8\") \n",
      "        except:\n",
      "            print type(obj)\n",
      "            print obj\n",
      "            \n",
      "            raise ''"
     ],
     "language": "python",
     "metadata": {},
     "outputs": [],
     "prompt_number": 52
    },
    {
     "cell_type": "code",
     "collapsed": false,
     "input": [
      "from lxml import etree\n",
      "\n",
      "downloads_id =  582817308 \n",
      "download = get_download( downloads_id )\n",
      "raw_content = download[ 'raw_content' ]\n",
      "with open( '/tmp/' + str(downloads_id) , 'wb' ) as f:\n",
      "    f.write( raw_content )\n"
     ],
     "language": "python",
     "metadata": {},
     "outputs": [],
     "prompt_number": 53
    },
    {
     "cell_type": "code",
     "collapsed": false,
     "input": [
      "def text_children( element):\n",
      "    ret =  [ t for t in element.xpath(\"//text()\" ) if t.getparent() == element ]\n",
      "    assert len( ret ) <= 2\n",
      "    \n",
      "    if len( ret ) == 2:\n",
      "        assert ret[0].is_text\n",
      "        assert ret[1].is_tail\n",
      "    \n",
      "    for r in ret:\n",
      "        if r.is_text:\n",
      "            assert element.text == r\n",
      "        else:\n",
      "            assert r.is_tail\n",
      "            assert element.tail == r\n",
      "            \n",
      "    return ret"
     ],
     "language": "python",
     "metadata": {},
     "outputs": [],
     "prompt_number": 54
    },
    {
     "cell_type": "code",
     "collapsed": false,
     "input": [
      "#start_container[ annotation['start_offset']: annotation['end_offset'] + 1 ]"
     ],
     "language": "python",
     "metadata": {},
     "outputs": [],
     "prompt_number": 55
    },
    {
     "cell_type": "code",
     "collapsed": false,
     "input": [
      "import difflib\n",
      "from IPython.display import HTML\n",
      "\n",
      "from collections import Counter\n",
      "\n",
      "def ratcliff_obershelp_compare( actual_lines, expected_lines ):\n",
      "    \n",
      "    words_expected = lines_to_comparable_text(expected_lines ).split()\n",
      "    words_crf      = lines_to_comparable_text(actual_lines ).split()\n",
      "    \n",
      "    differ = difflib.Differ( )\n",
      "    \n",
      "    #print words_crf[:10]\n",
      "    #print words_expected[:10]\n",
      "    list( differ.compare( words_crf , words_expected ) )\n",
      "    counts = Counter([ d[0] for d in differ.compare( words_expected, words_crf   ) ])\n",
      "    \n",
      "    tp = counts[' ']\n",
      "    fp = counts['+']\n",
      "    fn = counts['-']\n",
      "    \n",
      "    if float(tp+fp) == 0:\n",
      "        precision = 0.0\n",
      "    else:\n",
      "        precision = tp/float(tp+fp)\n",
      "        \n",
      "    if float( tp + fn ) == 0:\n",
      "        recall = 0\n",
      "    else:\n",
      "        recall    = tp/float( tp + fn )\n",
      "    \n",
      "    if ( precision + recall ) > 0:\n",
      "        f1 = 2*(precision*recall)/( precision + recall )\n",
      "    else:\n",
      "        f1 = 0\n",
      "    \n",
      "    ret = { 'precision': precision,\n",
      "        'recall': recall,\n",
      "        'f1': f1\n",
      "    }\n",
      "    \n",
      "    return ret\n",
      "\n",
      "#ratcliff_obershelp_compare( words_crf, words_expected )"
     ],
     "language": "python",
     "metadata": {},
     "outputs": [],
     "prompt_number": 56
    },
    {
     "cell_type": "code",
     "collapsed": false,
     "input": [
      "#downloads_id\n",
      "#story\n",
      "#raw_content\n",
      "#expected_lines\n",
      "#preprocessed_lines\n",
      "\n",
      "def create_extractor_training_object( downloads_id, expected_lines=None ):\n",
      "    download = get_download( downloads_id )\n",
      "    \n",
      "    raw_content = download[u'raw_content']\n",
      "    stories_id = download[u'stories_id']\n",
      "    \n",
      "    print download['url']\n",
      "    \n",
      "    story = requests.get('https://api.mediacloud.org/api/v2/stories/single/'+str(stories_id)+'?key='+api_key)\n",
      "    \n",
      "    story = story.json()[0]\n",
      "    \n",
      "    story_lines = get_story_lines( raw_content )\n",
      "    #print story_lines.content\n",
      "    preprocessed_lines = story_lines.json()\n",
      "    \n",
      "    if not expected_lines:\n",
      "        expected_lines = get_extractor_training_text( downloads_id, preprocessed_lines  )\n",
      "\n",
      "    ret = { 'downloads_id': downloads_id,\n",
      "           'raw_content': raw_content,\n",
      "           'media_id': story['media_id'],\n",
      "           'story': story,\n",
      "           'preprocessed_lines': preprocessed_lines,\n",
      "           'expected_lines': expected_lines\n",
      "           }\n",
      "    \n",
      "    return ret"
     ],
     "language": "python",
     "metadata": {},
     "outputs": [],
     "prompt_number": 57
    },
    {
     "cell_type": "code",
     "collapsed": false,
     "input": [
      "def compare_extractors_for_download( downloads_id ):\n",
      "    \n",
      "    eto = create_extractor_training_object( downloads_id )\n",
      "    \n",
      "    return comp_extractors( eto )    \n",
      "    \n",
      "def comp_extractors( eto ):    \n",
      "    downloads_id = eto['downloads_id']\n",
      "    media_id     = eto['media_id' ]\n",
      "    story = eto['story']\n",
      "    raw_content = eto['raw_content']\n",
      "    preprocessed_lines = eto['preprocessed_lines']\n",
      "    expected_lines = eto['expected_lines']\n",
      "        \n",
      "    title = story[u'title']\n",
      "    description = story[u'description']\n",
      "    url = story[u'url']\n",
      "    \n",
      "    heur_extract = extract_story( preprocessed_lines, title, description, 'HeuristicExtractor')\n",
      "    crf_extract = extract_story( preprocessed_lines, title, description, 'CrfExtractor')\n",
      "    \n",
      "    heur_lines = get_extracted_text( heur_extract )\n",
      "    crf_lines  = get_extracted_text( crf_extract )\n",
      "    \n",
      "    python_readability_lines = extract_with_python_readability( raw_content )\n",
      "    \n",
      "    py_goose_lines = extract_with_python_goose( raw_content )\n",
      "    justext_lines  = extract_with_justext( raw_content )\n",
      "    global glob_expected_lines\n",
      "    global glob_crf_lines\n",
      "    glob_expected_lines = expected_lines\n",
      "    glob_crf_lines      = crf_lines\n",
      "    \n",
      "    tree = html.fromstring( extract_with_boilerpipe( raw_content) )   \n",
      "    spans = tree.xpath('//span[@class=\"x-boilerpipe-mark1\"]')\n",
      "    boiler_pipe_lines = [ s.text for s in spans ]\n",
      "\n",
      "    #print \"expected_lines:\"\n",
      "    #print lines_to_comparable_text(expected_lines)\n",
      "    \n",
      "    #print \"boilerpipe lines\"\n",
      "    #print lines_to_comparable_text(boiler_pipe_lines)\n",
      "    \n",
      "    comp_results = {}\n",
      "    comp_results['heur'] = ratcliff_obershelp_compare( heur_lines, expected_lines )\n",
      "    comp_results['crf']  = ratcliff_obershelp_compare( crf_lines, expected_lines )\n",
      "    comp_results['boiler_pipe'] = ratcliff_obershelp_compare( boiler_pipe_lines, expected_lines )\n",
      "    comp_results['python_readibilty'] = ratcliff_obershelp_compare( python_readability_lines, expected_lines )\n",
      "    comp_results['py_goose'] = ratcliff_obershelp_compare( py_goose_lines, expected_lines )\n",
      "    comp_results['justext']  = ratcliff_obershelp_compare( justext_lines, expected_lines )\n",
      "    \n",
      "    comp_results['downloads_id'] = downloads_id\n",
      "    \n",
      "    comp_results['media_id']  = media_id\n",
      "    \n",
      "    #comp_results['expected']    = compare_accuracy( expected_lines, expected_lines )\n",
      "    return comp_results"
     ],
     "language": "python",
     "metadata": {},
     "outputs": [],
     "prompt_number": 153
    },
    {
     "cell_type": "code",
     "collapsed": false,
     "input": [
      "def get_extractor_training_objects_legacy ( downloads_ids ):\n",
      "    print downloads_ids\n",
      "    extractor_training_objects = []\n",
      "    for downloads_id in downloads_ids[:]:\n",
      "        print 'downloads_id:', downloads_id\n",
      "        extractor_training_objects.append( create_extractor_training_object( downloads_id ) )\n",
      "        \n",
      "    return extractor_training_objects"
     ],
     "language": "python",
     "metadata": {},
     "outputs": [],
     "prompt_number": 59
    },
    {
     "cell_type": "code",
     "collapsed": false,
     "input": [
      "import sqlite3\n",
      "\n",
      "def get_extractor_training_objects_sqlite( db_file ):\n",
      "    \n",
      "    db = sqlite3.connect( db_file )\n",
      "    db.row_factory = sqlite3.Row\n",
      "    \n",
      "    cursor = db.cursor()\n",
      "    \n",
      "    cursor.execute( \"SELECT * from dlannotations  where selected_texts_json is not null order by downloads_id\" )\n",
      "    \n",
      "    extractor_training_objects = []\n",
      "    \n",
      "    skipped_downloads = 0\n",
      "    for row in list( cursor.fetchall() )[:]:\n",
      "        row =  dict([ (k, row[k]) for k in row.keys() ])\n",
      "        \n",
      "        #print row\n",
      "        \n",
      "        row['annotations'] = json.loads( row['annotations_json'] )\n",
      "        row['raw_content'] = u'' + row['raw_content']\n",
      "        row['selected_texts'] = json.loads( row['selected_texts_json'] )\n",
      "    \n",
      "        annotations = row['annotations']\n",
      "        download = get_download( row['downloads_id'] )\n",
      "    \n",
      "        assert row['selected_texts'] != None\n",
      "        assert row['selected_texts'] > 0\n",
      "        \n",
      "        eto = create_extractor_training_object( row['downloads_id'], expected_lines=row['selected_texts'] )\n",
      "               \n",
      "        if eto['raw_content'] != row['raw_content']:\n",
      "            #TODO figure out why these may differ\n",
      "            pass\n",
      "        \n",
      "            #d = difflib.Differ()\n",
      "            #diff = d.compare(eto['raw_content'].splitlines(1), row['raw_content'].splitlines(1))\n",
      "            #print '\\n'.join(diff)\n",
      "        \n",
      "        extractor_training_objects.append( eto )\n",
      "    \n",
      "    \n",
      "    print \"skipped\", skipped_downloads\n",
      "    print \"processed\", len(extractor_training_objects)\n",
      "    \n",
      "    return extractor_training_objects"
     ],
     "language": "python",
     "metadata": {},
     "outputs": [],
     "prompt_number": 60
    },
    {
     "cell_type": "code",
     "collapsed": false,
     "input": [
      "import pandas as pd\n",
      "\n",
      "def get_data_frame_from_comparision_objects( comparison_objects ):\n",
      "    \n",
      "    new_comps = []\n",
      "    for comp in comparison_objects:\n",
      "        \n",
      "        new_comp = {}\n",
      "        new_comp = { 'downloads_id': comp['downloads_id'] }\n",
      "        \n",
      "        extractor_types = [ k for k in comp.keys() if k not in { 'downloads_id', 'media_id' }  ]\n",
      "        \n",
      "        for extractor_type in extractor_types:\n",
      "            new_comp.update([ ( k + '_' + extractor_type , v) for k,v in comp[ extractor_type ].iteritems() ])\n",
      "            \n",
      "        new_comps.append( new_comp )\n",
      "        \n",
      "    df = pd.DataFrame( new_comps )\n",
      "    df.set_index('downloads_id', inplace=True )\n",
      "    return df\n"
     ],
     "language": "python",
     "metadata": {},
     "outputs": [],
     "prompt_number": 119
    },
    {
     "cell_type": "code",
     "collapsed": false,
     "input": [
      "def print_results_by_measurement_type( df ):\n",
      "    df.describe(percentiles=[.5] )\n",
      "    result_types = [ 'precision', 'recall', 'f1' ]\n",
      "    for result_type in result_types:\n",
      "        res_columns = [ col for col in df.columns if col.startswith( result_type ) ]\n",
      "        #df.ix[:,['f1_boiler_pipe',\t'f1_crf',\t'f1_heur', 'f1_python_readibilty']].describe()\n",
      "        print df.ix[:,res_columns].describe( percentiles=[0.02, 0.05,.1,0.5])"
     ],
     "language": "python",
     "metadata": {},
     "outputs": [],
     "prompt_number": 151
    },
    {
     "cell_type": "heading",
     "level": 1,
     "metadata": {},
     "source": [
      "Flags"
     ]
    },
    {
     "cell_type": "code",
     "collapsed": false,
     "input": [
      "regenerate_extractor_training_objects = True\n",
      "regenerate_media_id_media_map         = True"
     ],
     "language": "python",
     "metadata": {},
     "outputs": [],
     "prompt_number": 161
    },
    {
     "cell_type": "heading",
     "level": 2,
     "metadata": {},
     "source": [
      "Constants"
     ]
    },
    {
     "cell_type": "code",
     "collapsed": false,
     "input": [
      "brazil_downloads_ids = [391881020,401370599,412896439,412952145,412977048,413024519,413657081,413835576,414040102, \n",
      "                        414257623,414377428,414480464,414818749,414983458,415185946,415186582,415197547,415424551,\n",
      "                        415978069,416026460,416026587,416047494,416047513,416210404,416263840,416306952,416426245,\n",
      "                        416655019,416730837,416802690,417347290,417347524,417368539,417389613,417477837,417653177,\n",
      "                        418489742,418544762,418574641,418648698,418661859,419404469,419440474,419483895,419873979,\n",
      "                        420430754,420599387,420666122,421520860,421834553,422181106,422280595,422910963,423318170,\n",
      "                        424080271,424369085,424796346,424840366,425206279,426405203,426560018,426632784,426709900,\n",
      "                        428449440,429607289,430363249,430995428,433457459,435624796,435659593,461175103,461175549,\n",
      "                        461176415,461176844,461177487,461178557,461178590,461179203,461179222,461179441,461179762,\n",
      "                        461179818,461179954,461179956,461180307,461181039,461181597,461186137,461186258,461186833,\n",
      "                        461187188,461187261,461187577,461188549,461189069,461190586,461193383]\n",
      "\n",
      "sqlite_db_file = 'extractor_train_dbs/dev_2014-11-06T10_18_57-0500.db'"
     ],
     "language": "python",
     "metadata": {},
     "outputs": [],
     "prompt_number": 181
    },
    {
     "cell_type": "code",
     "collapsed": false,
     "input": [
      "extractor_training_objects = []\n",
      "if regenerate_extractor_training_objects:\n",
      "    eto_brazil = get_extractor_training_objects_legacy( brazil_downloads_ids )\n",
      "    eto_sqlite = get_extractor_training_objects_sqlite( sqlite_db_file )\n",
      "    extractor_training_objects.extend( eto_brazil  )\n",
      "    extractor_training_objects.extend( eto_sqlite )\n",
      "    cPickle.dump( extractor_training_objects, open(\"extractor_traning_objects.pickle\", \"wb\"))"
     ],
     "language": "python",
     "metadata": {},
     "outputs": [
      {
       "output_type": "stream",
       "stream": "stdout",
       "text": [
        "[391881020, 401370599, 412896439, 412952145, 412977048, 413024519, 413657081, 413835576, 414040102, 414257623, 414377428, 414480464, 414818749, 414983458, 415185946, 415186582, 415197547, 415424551, 415978069, 416026460, 416026587, 416047494, 416047513, 416210404, 416263840, 416306952, 416426245, 416655019, 416730837, 416802690, 417347290, 417347524, 417368539, 417389613, 417477837, 417653177, 418489742, 418544762, 418574641, 418648698, 418661859, 419404469, 419440474, 419483895, 419873979, 420430754, 420599387, 420666122, 421520860, 421834553, 422181106, 422280595, 422910963, 423318170, 424080271, 424369085, 424796346, 424840366, 425206279, 426405203, 426560018, 426632784, 426709900, 428449440, 429607289, 430363249, 430995428, 433457459, 435624796, 435659593, 461175103, 461175549, 461176415, 461176844, 461177487, 461178557, 461178590, 461179203, 461179222, 461179441, 461179762, 461179818, 461179954, 461179956, 461180307, 461181039, 461181597, 461186137, 461186258, 461186833, 461187188, 461187261, 461187577, 461188549, 461189069, 461190586, 461193383]\n",
        "downloads_id: 391881020\n",
        "http://virgula.uol.com.br/inacreditavel/bizarro/metro-tem-confusao-por-causa-de-encontro-em-shopping"
       ]
      },
      {
       "output_type": "stream",
       "stream": "stdout",
       "text": [
        "\n",
        "downloads_id:"
       ]
      },
      {
       "output_type": "stream",
       "stream": "stdout",
       "text": [
        " 401370599\n",
        "http://www.politicalivre.com.br/2013/12/policia-frustra-manifestacao-em-shopping-na-zona-sul-de-sao-paulo/"
       ]
      },
      {
       "output_type": "stream",
       "stream": "stdout",
       "text": [
        "\n",
        "downloads_id:"
       ]
      },
      {
       "output_type": "stream",
       "stream": "stdout",
       "text": [
        " 412896439\n",
        "http://ultimainstancia.uol.com.br/conteudo/noticias/68515/dez+jovens+serao+intimados+por+%27rolezinho%27.shtml"
       ]
      },
      {
       "output_type": "stream",
       "stream": "stdout",
       "text": [
        "\n",
        "downloads_id:"
       ]
      },
      {
       "output_type": "stream",
       "stream": "stdout",
       "text": [
        " 412952145\n",
        "http://coturnonoturno.blogspot.com/2014/01/um-rolezinho-pelos-numeros-do.html"
       ]
      },
      {
       "output_type": "stream",
       "stream": "stdout",
       "text": [
        "\n",
        "downloads_id:"
       ]
      },
      {
       "output_type": "stream",
       "stream": "stdout",
       "text": [
        " 412977048\n",
        "http://www.bemparana.com.br/noticia/298544/tres-mil-confirmam-rolezinho-no-shopping-leblon"
       ]
      },
      {
       "output_type": "stream",
       "stream": "stdout",
       "text": [
        "\n",
        "downloads_id:"
       ]
      },
      {
       "output_type": "stream",
       "stream": "stdout",
       "text": [
        " 413024519\n",
        "http://estadao.feedsportal.com/c/33043/f/534105/s/35d9a7c4/sc/36/l/0L0Sestadao0N0Bbr0Cnoticias0Ccidades0Hguarda0Ecivil0Ee0Eferido0Edurante0Erolezinho0Eem0Eparque0Eda0Egrande0Esao0Epaulo0H11179710H0A0Bhtm/story01.htm"
       ]
      },
      {
       "output_type": "stream",
       "stream": "stdout",
       "text": [
        "\n",
        "downloads_id:"
       ]
      },
      {
       "output_type": "stream",
       "stream": "stdout",
       "text": [
        " 413657081\n",
        "http://redir.folha.com.br/redir/online/emcimadahora/rss091/*http://www1.folha.uol.com.br/cotidiano/2014/01/1397453-associacao-dos-shoppings-fara-reuniao-de-emergencia-sobre-rolezinhos.shtml"
       ]
      },
      {
       "output_type": "stream",
       "stream": "stdout",
       "text": [
        "\n",
        "downloads_id:"
       ]
      },
      {
       "output_type": "stream",
       "stream": "stdout",
       "text": [
        " 413835576\n",
        "http://www.conversaafiada.com.br/brasil/2014/01/14/tijolaco-elege-a-madrinha-do-role-a-tucanhede/"
       ]
      },
      {
       "output_type": "stream",
       "stream": "stdout",
       "text": [
        "\n",
        "downloads_id:"
       ]
      },
      {
       "output_type": "stream",
       "stream": "stdout",
       "text": [
        " 414040102\n",
        "http://www.otempo.com.br/jovens-marcam-novo-rolezinho-1.773450"
       ]
      },
      {
       "output_type": "stream",
       "stream": "stdout",
       "text": [
        "\n",
        "downloads_id:"
       ]
      },
      {
       "output_type": "stream",
       "stream": "stdout",
       "text": [
        " 414257623\n",
        "http://www.ovale.com.br/ultimas/shoppings-sp-agora-sem-teto-prometem-rolez-o-na-zona-sul-1.488662?localLinksEnabled=false"
       ]
      },
      {
       "output_type": "stream",
       "stream": "stdout",
       "text": [
        "\n",
        "downloads_id:"
       ]
      },
      {
       "output_type": "stream",
       "stream": "stdout",
       "text": [
        " 414377428\n",
        "http://congressoemfoco.uol.com.br/noticias/nos-jornais-pmdb-recorre-a-lula-para-melhorar-relacao-com-dilma/"
       ]
      },
      {
       "output_type": "stream",
       "stream": "stdout",
       "text": [
        "\n",
        "downloads_id:"
       ]
      },
      {
       "output_type": "stream",
       "stream": "stdout",
       "text": [
        " 414480464\n",
        "http://www.odiario.com/geral/noticia/796705/pm-quer-fazer-vistorias-em-onibus-antes-de-rolezinho/"
       ]
      },
      {
       "output_type": "stream",
       "stream": "stdout",
       "text": [
        "\n",
        "downloads_id:"
       ]
      },
      {
       "output_type": "stream",
       "stream": "stdout",
       "text": [
        " 414818749\n",
        "http://g1.globo.com/mundo/noticia/2014/01/rolezinhos-sao-realidade-ha-anos-em-shoppings-dos-eua.html"
       ]
      },
      {
       "output_type": "stream",
       "stream": "stdout",
       "text": [
        "\n",
        "downloads_id:"
       ]
      },
      {
       "output_type": "stream",
       "stream": "stdout",
       "text": [
        " 414983458\n",
        "http://jovempan.uol.com.br/programas/jornal-da-manha/fim-de-semana-ja-tem-20-rolezinhos-marcados.html"
       ]
      },
      {
       "output_type": "stream",
       "stream": "stdout",
       "text": [
        "\n",
        "downloads_id:"
       ]
      },
      {
       "output_type": "stream",
       "stream": "stdout",
       "text": [
        " 415185946\n",
        "http://www.ovale.com.br/ultimas/shoppings-sp-shopping-campo-limpo-consegue-liminar-contra-rolezinho-e-fecha-as-portas-1.489079?localLinksEnabled=false"
       ]
      },
      {
       "output_type": "stream",
       "stream": "stdout",
       "text": [
        "\n",
        "downloads_id:"
       ]
      },
      {
       "output_type": "stream",
       "stream": "stdout",
       "text": [
        " 415186582\n",
        "http://www.paraibaja.com.br/?p=noticia_int&id=29763"
       ]
      },
      {
       "output_type": "stream",
       "stream": "stdout",
       "text": [
        "\n",
        "downloads_id:"
       ]
      },
      {
       "output_type": "stream",
       "stream": "stdout",
       "text": [
        " 415197547\n",
        "http://www.pop.com.br/popnews/brasil/Rolezinhos-sao-destaque-na-imprensa-argentina-1041608.html"
       ]
      },
      {
       "output_type": "stream",
       "stream": "stdout",
       "text": [
        "\n",
        "downloads_id:"
       ]
      },
      {
       "output_type": "stream",
       "stream": "stdout",
       "text": [
        " 415424551\n",
        "http://www.implicante.org/blog/haddad-tenta-reverter-baixa-popularidade-com-apoio-a-rolezinho-baile-funk-e-viciados-em-crack/"
       ]
      },
      {
       "output_type": "stream",
       "stream": "stdout",
       "text": [
        "\n",
        "downloads_id:"
       ]
      },
      {
       "output_type": "stream",
       "stream": "stdout",
       "text": [
        " 415978069\n",
        "http://www.oimparcial.com.br/app/noticia/pais/2014/01/17/interna_pais,150093/promotores-dizem-que-diante-de-u201crolezinho-u201d-solucoes-juridica.shtml"
       ]
      },
      {
       "output_type": "stream",
       "stream": "stdout",
       "text": [
        "\n",
        "downloads_id:"
       ]
      },
      {
       "output_type": "stream",
       "stream": "stdout",
       "text": [
        " 416026460\n",
        "http://www.bemparana.com.br/noticia/299520/mp-intermediara-dialogo-com-lideres-de-rolezinhos"
       ]
      },
      {
       "output_type": "stream",
       "stream": "stdout",
       "text": [
        "\n",
        "downloads_id:"
       ]
      },
      {
       "output_type": "stream",
       "stream": "stdout",
       "text": [
        " 416026587\n",
        "http://redir.folha.com.br/redir/online/emcimadahora/rss091/*http://www1.folha.uol.com.br/cotidiano/ribeiraopreto/2014/01/1399379-delegado-diz-que-convidou-idealizador-de-rolezinho-para-dar-explicacoes.shtml"
       ]
      },
      {
       "output_type": "stream",
       "stream": "stdout",
       "text": [
        "\n",
        "downloads_id:"
       ]
      },
      {
       "output_type": "stream",
       "stream": "stdout",
       "text": [
        " 416047494\n",
        "http://estadao.feedsportal.com/c/33043/f/534105/s/360eebb6/sc/3/l/0Lblogs0Bestadao0N0Bbr0Ctutty0Cos0Evandalos0Edo0Erolezinho0C/story01.htm"
       ]
      },
      {
       "output_type": "stream",
       "stream": "stdout",
       "text": [
        "\n",
        "downloads_id:"
       ]
      },
      {
       "output_type": "stream",
       "stream": "stdout",
       "text": [
        " 416047513\n",
        "http://estadao.feedsportal.com/c/33043/f/534105/s/360d1b36/sc/3/l/0L0Sestadao0N0Bbr0Cnoticias0Ccidades0Hmp0Equer0Edefinir0Elimites0Epara0Eos0E0JE20J80A0J98rolezinhos0JE20J80A0J990Ede0Esp0H11198170H0A0Bhtm/story01.htm"
       ]
      },
      {
       "output_type": "stream",
       "stream": "stdout",
       "text": [
        "\n",
        "downloads_id:"
       ]
      },
      {
       "output_type": "stream",
       "stream": "stdout",
       "text": [
        " 416210404\n",
        "http://noticias.terra.com.br/brasil/cidades/rj-juiza-orienta-pais-a-nao-deixarem-filhos-participar-de-rolezinho,b46024e15db93410VgnCLD2000000ec6eb0aRCRD.html"
       ]
      },
      {
       "output_type": "stream",
       "stream": "stdout",
       "text": [
        "\n",
        "downloads_id:"
       ]
      },
      {
       "output_type": "stream",
       "stream": "stdout",
       "text": [
        " 416263840\n",
        "http://www.correiodopovo.com.br/Noticias/?Noticia=516485"
       ]
      },
      {
       "output_type": "stream",
       "stream": "stdout",
       "text": [
        "\n",
        "downloads_id:"
       ]
      },
      {
       "output_type": "stream",
       "stream": "stdout",
       "text": [
        " 416306952\n",
        "http://redir.folha.com.br/redir/online/emcimadahora/rss091/*http://www1.folha.uol.com.br/cotidiano/2014/01/1399764-seguranca-e-reforcada-mas-jovens-nao-aparecem-para-rolezinho-no-rio.shtml"
       ]
      },
      {
       "output_type": "stream",
       "stream": "stdout",
       "text": [
        "\n",
        "downloads_id:"
       ]
      },
      {
       "output_type": "stream",
       "stream": "stdout",
       "text": [
        " 416426245\n",
        "http://feedproxy.google.com/~r/FabioCampana/~3/IpQWvzZQMHI/"
       ]
      },
      {
       "output_type": "stream",
       "stream": "stdout",
       "text": [
        "\n",
        "downloads_id:"
       ]
      },
      {
       "output_type": "stream",
       "stream": "stdout",
       "text": [
        " 416655019\n",
        "http://www.otempo.com.br/capa/brasil/shopping-leblon-n%C3%A3o-abrir%C3%A1-neste-domingo-por-causa-do-rolezinho-1.775728"
       ]
      },
      {
       "output_type": "stream",
       "stream": "stdout",
       "text": [
        "\n",
        "downloads_id:"
       ]
      },
      {
       "output_type": "stream",
       "stream": "stdout",
       "text": [
        " 416730837\n",
        "http://www.odiario.com/geral/noticia/797444/rolezinho-deixa-rio-design-leblon-de-portas-fechadas/"
       ]
      },
      {
       "output_type": "stream",
       "stream": "stdout",
       "text": [
        "\n",
        "downloads_id:"
       ]
      },
      {
       "output_type": "stream",
       "stream": "stdout",
       "text": [
        " 416802690\n",
        "http://www.odiario.com/geral/noticia/797475/50-manifestantes-comparecem-ao-rolezinho-no-leblon/"
       ]
      },
      {
       "output_type": "stream",
       "stream": "stdout",
       "text": [
        "\n",
        "downloads_id:"
       ]
      },
      {
       "output_type": "stream",
       "stream": "stdout",
       "text": [
        " 417347290\n",
        "http://estadao.feedsportal.com/c/33043/f/534105/s/36249acf/sc/19/l/0L0Sestadao0N0Bbr0Cnoticias0Ccidades0Hchoque0Emais0Erecente0Edo0Ebrasil0Ecom0Ejuventude0Eurbana0Eocorre0Eem0Eshoppings0H1120A7570H0A0Bhtm/story01.htm"
       ]
      },
      {
       "output_type": "stream",
       "stream": "stdout",
       "text": [
        "\n",
        "downloads_id:"
       ]
      },
      {
       "output_type": "stream",
       "stream": "stdout",
       "text": [
        " 417347524\n",
        "http://www.cliquef5.com.br/TNX/conteudo.php?sid=179&cid=36975"
       ]
      },
      {
       "output_type": "stream",
       "stream": "stdout",
       "text": [
        "\n",
        "downloads_id:"
       ]
      },
      {
       "output_type": "stream",
       "stream": "stdout",
       "text": [
        " 417368539\n",
        "http://atarde.uol.com.br/materias/1562870"
       ]
      },
      {
       "output_type": "stream",
       "stream": "stdout",
       "text": [
        "\n",
        "downloads_id:"
       ]
      },
      {
       "output_type": "stream",
       "stream": "stdout",
       "text": [
        " 417389613\n",
        "http://www.diariodocentrodomundo.com.br/os-rolezinhos-nos-shoppings-jk-e-center-norte-segundo-nosso-mauro-donato/"
       ]
      },
      {
       "output_type": "stream",
       "stream": "stdout",
       "text": [
        "\n",
        "downloads_id:"
       ]
      },
      {
       "output_type": "stream",
       "stream": "stdout",
       "text": [
        " 417477837\n",
        "http://www.pop.com.br/popnews/brasil/Rolezinho-nao-e-um-problema-nacional-diz-ministra-1042938.html"
       ]
      },
      {
       "output_type": "stream",
       "stream": "stdout",
       "text": [
        "\n",
        "downloads_id:"
       ]
      },
      {
       "output_type": "stream",
       "stream": "stdout",
       "text": [
        " 417653177\n",
        "http://www.cliquef5.com.br/TNX/conteudo.php?sid=180&cid=36991"
       ]
      },
      {
       "output_type": "stream",
       "stream": "stdout",
       "text": [
        "\n",
        "downloads_id:"
       ]
      },
      {
       "output_type": "stream",
       "stream": "stdout",
       "text": [
        " 418489742\n",
        "http://www.zedudu.com.br/?p=33250"
       ]
      },
      {
       "output_type": "stream",
       "stream": "stdout",
       "text": [
        "\n",
        "downloads_id:"
       ]
      },
      {
       "output_type": "stream",
       "stream": "stdout",
       "text": [
        " 418544762\n",
        "http://istoe.feedsportal.com/c/34268/f/623429/s/3637de9b/sc/12/l/0L0Sistoe0N0Bbr0Ccolunas0Ee0Eblogs0Ccoluna0C3444760IQUANDO0KTUDO0KE0KPOSSIVEL/story01.htm"
       ]
      },
      {
       "output_type": "stream",
       "stream": "stdout",
       "text": [
        "\n",
        "downloads_id:"
       ]
      },
      {
       "output_type": "stream",
       "stream": "stdout",
       "text": [
        " 418574641\n",
        "http://atarde.uol.com.br/materias/1563331"
       ]
      },
      {
       "output_type": "stream",
       "stream": "stdout",
       "text": [
        "\n",
        "downloads_id:"
       ]
      },
      {
       "output_type": "stream",
       "stream": "stdout",
       "text": [
        " 418648698\n",
        "http://redir.folha.com.br/redir/online/emcimadahora/rss091/*http://www1.folha.uol.com.br/tec/2014/01/1401288-hashtag-batman-rolezinhos-e-a-invasao-comunixxxta.shtml"
       ]
      },
      {
       "output_type": "stream",
       "stream": "stdout",
       "text": [
        "\n",
        "downloads_id:"
       ]
      },
      {
       "output_type": "stream",
       "stream": "stdout",
       "text": [
        " 418661859\n",
        "http://www.folhavitoria.com.br/politica/noticia/2014/01/governo-de-sp-diz-que-procura-locais-para-039rolezinhos039.html"
       ]
      },
      {
       "output_type": "stream",
       "stream": "stdout",
       "text": [
        "\n",
        "downloads_id:"
       ]
      },
      {
       "output_type": "stream",
       "stream": "stdout",
       "text": [
        " 419404469\n",
        "http://www1.folha.uol.com.br/cotidiano/2014/01/1402088-sp-negocia-com-shoppings-para-liberar-estacionamentos-para-rolezinhos.shtml"
       ]
      },
      {
       "output_type": "stream",
       "stream": "stdout",
       "text": [
        "\n",
        "downloads_id:"
       ]
      },
      {
       "output_type": "stream",
       "stream": "stdout",
       "text": [
        " 419440474\n",
        "http://www.portali9.com.br/noticias/politica/pesquisa-datafolha-82-dos-paulistanos-sao-contra-o-rolezinho"
       ]
      },
      {
       "output_type": "stream",
       "stream": "stdout",
       "text": [
        "\n",
        "downloads_id:"
       ]
      },
      {
       "output_type": "stream",
       "stream": "stdout",
       "text": [
        " 419483895\n",
        "http://redir.folha.com.br/redir/online/emcimadahora/rss091/*http://www1.folha.uol.com.br/cotidiano/2014/01/1402143-cansados-da-policia-jovens-levam-rolezinhos-para-os-parques-de-sp.shtml"
       ]
      },
      {
       "output_type": "stream",
       "stream": "stdout",
       "text": [
        "\n",
        "downloads_id:"
       ]
      },
      {
       "output_type": "stream",
       "stream": "stdout",
       "text": [
        " 419873979\n",
        "http://redealmeidense.com.br/2014/01/24/para-analista-protestos-de-sabado-serao-termometro-de-mobilizacao-ate-copa/"
       ]
      },
      {
       "output_type": "stream",
       "stream": "stdout",
       "text": [
        "\n",
        "downloads_id:"
       ]
      },
      {
       "output_type": "stream",
       "stream": "stdout",
       "text": [
        " 420430754\n",
        "http://www.jornaldamidia.com.br/2014/01/25/shopping-sera-fechado-em-brasilia-mas-rolezinho-e-mantido/?utm_source=rss&utm_medium=rss&utm_campaign=shopping-sera-fechado-em-brasilia-mas-rolezinho-e-mantido"
       ]
      },
      {
       "output_type": "stream",
       "stream": "stdout",
       "text": [
        "\n",
        "downloads_id:"
       ]
      },
      {
       "output_type": "stream",
       "stream": "stdout",
       "text": [
        " 420599387\n",
        "http://www.radioevangelho.com.br/portal/norte/amazonas/2014/01/25/shoppings-de-manaus-aumentam-seguranca-para-evitar-rolezinhos.html"
       ]
      },
      {
       "output_type": "stream",
       "stream": "stdout",
       "text": [
        "\n",
        "downloads_id:"
       ]
      },
      {
       "output_type": "stream",
       "stream": "stdout",
       "text": [
        " 420666122\n",
        "http://jus.com.br/artigos/26472/rolezinho-sociedade-e-estado"
       ]
      },
      {
       "output_type": "stream",
       "stream": "stdout",
       "text": [
        "\n",
        "downloads_id:"
       ]
      },
      {
       "output_type": "stream",
       "stream": "stdout",
       "text": [
        " 421520860\n",
        "http://www.d24am.com/noticias/amazonas/organizadores-decidem-adiar-rolezinhos-em-shoppings-de-manaus-para-o-dia-8-de-fevereiro/105054"
       ]
      },
      {
       "output_type": "stream",
       "stream": "stdout",
       "text": [
        "\n",
        "downloads_id:"
       ]
      },
      {
       "output_type": "stream",
       "stream": "stdout",
       "text": [
        " 421834553\n",
        "http://www.conversaafiada.com.br/economia/2014/01/27/surge-o-lacerdinha-a-direita-miami-da-as-caras-no-brasil/"
       ]
      },
      {
       "output_type": "stream",
       "stream": "stdout",
       "text": [
        "\n",
        "downloads_id:"
       ]
      },
      {
       "output_type": "stream",
       "stream": "stdout",
       "text": [
        " 422181106\n",
        "http://jovempan.uol.com.br/noticias/brasil/dilma-se-reune-com-fidel-castro-em-havana-2014-01-28.html"
       ]
      },
      {
       "output_type": "stream",
       "stream": "stdout",
       "text": [
        "\n",
        "downloads_id:"
       ]
      },
      {
       "output_type": "stream",
       "stream": "stdout",
       "text": [
        " 422280595\n",
        "http://www.esmaelmorais.com.br/2014/01/salamuni-o-escoteiro-assume-a-prefeitura-de-curitiba/"
       ]
      },
      {
       "output_type": "stream",
       "stream": "stdout",
       "text": [
        "\n",
        "downloads_id:"
       ]
      },
      {
       "output_type": "stream",
       "stream": "stdout",
       "text": [
        " 422910963\n",
        "http://www.campograndenews.com.br/lado-b/comportamento-23-08-2011-08/com-tanta-opiniao-absurda-comentarios-chamam-mais-atencao-que-reportagens"
       ]
      },
      {
       "output_type": "stream",
       "stream": "stdout",
       "text": [
        "\n",
        "downloads_id:"
       ]
      },
      {
       "output_type": "stream",
       "stream": "stdout",
       "text": [
        " 423318170\n",
        "http://www.implicante.org/artigos/a-reducao-do-ser-humano-nos-rolezinhos/"
       ]
      },
      {
       "output_type": "stream",
       "stream": "stdout",
       "text": [
        "\n",
        "downloads_id:"
       ]
      },
      {
       "output_type": "stream",
       "stream": "stdout",
       "text": [
        " 424080271\n",
        "http://redir.folha.com.br/redir/online/emcimadahora/rss091/*http://www1.folha.uol.com.br/tec/2014/01/1405417-imprensa-se-surpreendeu-com-rolezinhos-porque-ignora-periferia-diz-jornalista.shtml"
       ]
      },
      {
       "output_type": "stream",
       "stream": "stdout",
       "text": [
        "\n",
        "downloads_id:"
       ]
      },
      {
       "output_type": "stream",
       "stream": "stdout",
       "text": [
        " 424369085\n",
        "http://www.bemparana.com.br/noticia/301942/rolezeiros-se-filiam-a-entidade-ligada-ao-pc-do-b"
       ]
      },
      {
       "output_type": "stream",
       "stream": "stdout",
       "text": [
        "\n",
        "downloads_id:"
       ]
      },
      {
       "output_type": "stream",
       "stream": "stdout",
       "text": [
        " 424796346\n",
        "http://Istoedinheiro.feedsportal.com/c/34266/f/623385/s/3696afe3/sc/2/l/0L0Sistoedinheiro0N0Bbr0Cnoticias0C1389850ILIDER0KDOS0KROLEZEIROS0KDEIXA0KORGANIZACAO0KLIGADA0KAO0KPCDOB/story01.htm"
       ]
      },
      {
       "output_type": "stream",
       "stream": "stdout",
       "text": [
        "\n",
        "downloads_id:"
       ]
      },
      {
       "output_type": "stream",
       "stream": "stdout",
       "text": [
        " 424840366\n",
        "http://redir.folha.com.br/redir/online/emcimadahora/rss091/*http://www1.folha.uol.com.br/colunas/ruycastro/2014/02/1405860-o-ninho-nao-mais-vazio.shtml"
       ]
      },
      {
       "output_type": "stream",
       "stream": "stdout",
       "text": [
        "\n",
        "downloads_id:"
       ]
      },
      {
       "output_type": "stream",
       "stream": "stdout",
       "text": [
        " 425206279\n",
        "http://www.midianews.com.br/conteudo.php?sid=6&cid=187388"
       ]
      },
      {
       "output_type": "stream",
       "stream": "stdout",
       "text": [
        "\n",
        "downloads_id:"
       ]
      },
      {
       "output_type": "stream",
       "stream": "stdout",
       "text": [
        " 426405203\n",
        "http://redir.folha.com.br/redir/online/emcimadahora/rss091/*http://www1.folha.uol.com.br/poder/2014/02/1407027-apos-voar-de-fab-para-fazer-implante-capilar-renan-defende-comedimento.shtml"
       ]
      },
      {
       "output_type": "stream",
       "stream": "stdout",
       "text": [
        "\n",
        "downloads_id:"
       ]
      },
      {
       "output_type": "stream",
       "stream": "stdout",
       "text": [
        " 426560018\n",
        "http://www.valor.com.br/politica/3417982/renan-calheiros-recomenda-rolezinho-legislativo-aos-congressistas"
       ]
      },
      {
       "output_type": "stream",
       "stream": "stdout",
       "text": [
        "\n",
        "downloads_id:"
       ]
      },
      {
       "output_type": "stream",
       "stream": "stdout",
       "text": [
        " 426632784\n",
        "http://www.diplomatique.org.br/editorial.php?edicao=79"
       ]
      },
      {
       "output_type": "stream",
       "stream": "stdout",
       "text": [
        "\n",
        "downloads_id:"
       ]
      },
      {
       "output_type": "stream",
       "stream": "stdout",
       "text": [
        " 426709900\n",
        "http://feedproxy.google.com/~r/ComunidadeModa/~3/GZW0PR99lAk/"
       ]
      },
      {
       "output_type": "stream",
       "stream": "stdout",
       "text": [
        "\n",
        "downloads_id:"
       ]
      },
      {
       "output_type": "stream",
       "stream": "stdout",
       "text": [
        " 428449440\n",
        "http://www.bhaz.com.br/vaca-invade-shopping-em-belo-horizonte-e-vira-piada-na-internet/"
       ]
      },
      {
       "output_type": "stream",
       "stream": "stdout",
       "text": [
        "\n",
        "downloads_id:"
       ]
      },
      {
       "output_type": "stream",
       "stream": "stdout",
       "text": [
        " 429607289\n",
        "http://www.diariodocentrodomundo.com.br/o-destino-da-rachel-sheherazade-de-murdoch/"
       ]
      },
      {
       "output_type": "stream",
       "stream": "stdout",
       "text": [
        "\n",
        "downloads_id:"
       ]
      },
      {
       "output_type": "stream",
       "stream": "stdout",
       "text": [
        " 430363249\n",
        "http://www.epochtimes.com.br/esquerda-quer-implantar-caos-rumo-totalitarismo-diz-marco-feliciano/?utm_source=rss&utm_medium=rss&utm_campaign=esquerda-quer-implantar-caos-rumo-totalitarismo-diz-marco-feliciano"
       ]
      },
      {
       "output_type": "stream",
       "stream": "stdout",
       "text": [
        "\n",
        "downloads_id:"
       ]
      },
      {
       "output_type": "stream",
       "stream": "stdout",
       "text": [
        " 430995428\n",
        "http://catracalivre.com.br/sp/muito-mais-sao-paulo/indicacao/dicionario-paulistanes-traz-girias-e-manias-de-linguagem-de-manos-e-coxinhas/"
       ]
      },
      {
       "output_type": "stream",
       "stream": "stdout",
       "text": [
        "\n",
        "downloads_id:"
       ]
      },
      {
       "output_type": "stream",
       "stream": "stdout",
       "text": [
        " 433457459\n",
        "http://portal.aprendiz.uol.com.br/2014/02/14/rolezinho-no-parque-ibirapuera-acontece-neste-sabado-em-sp/"
       ]
      },
      {
       "output_type": "stream",
       "stream": "stdout",
       "text": [
        "\n",
        "downloads_id:"
       ]
      },
      {
       "output_type": "stream",
       "stream": "stdout",
       "text": [
        " 435624796\n",
        "http://www.otempo.com.br/capa/brasil/quase-90-dos-brasileiros-n%C3%A3o-apoiam-rolezinhos-diz-cnt-1.790865"
       ]
      },
      {
       "output_type": "stream",
       "stream": "stdout",
       "text": [
        "\n",
        "downloads_id:"
       ]
      },
      {
       "output_type": "stream",
       "stream": "stdout",
       "text": [
        " 435659593\n",
        "http://www.nortaonoticias.com.br/regional/99494/Mais-de-400-mil-correspondencias-nao-sao-entregues-por-greve-nos-Correios-"
       ]
      },
      {
       "output_type": "stream",
       "stream": "stdout",
       "text": [
        "\n",
        "downloads_id:"
       ]
      },
      {
       "output_type": "stream",
       "stream": "stdout",
       "text": [
        " 461175103\n",
        "http://farofafa.cartacapital.com.br/2014/01/23/metal-sheherazade/"
       ]
      },
      {
       "output_type": "stream",
       "stream": "stdout",
       "text": [
        "\n",
        "downloads_id:"
       ]
      },
      {
       "output_type": "stream",
       "stream": "stdout",
       "text": [
        " 461175549\n",
        "http://www.correiobraziliense.com.br/app/enquete/2014/01/14/interna_enquete,1191/voce-e-a-favor-de-limitar-a-entrada-de-jovens-nos-shoppings-em-dias-marcados-para-acontecer-rolezinhos.shtml"
       ]
      },
      {
       "output_type": "stream",
       "stream": "stdout",
       "text": [
        "\n",
        "downloads_id:"
       ]
      },
      {
       "output_type": "stream",
       "stream": "stdout",
       "text": [
        " 461176415\n",
        "http://www.d24am.com/noticias/amazonas/adolescentes-marcam-rolezinhos-em-manaus-para-o-proximo-dia-25/104395"
       ]
      },
      {
       "output_type": "stream",
       "stream": "stdout",
       "text": [
        "\n",
        "downloads_id:"
       ]
      },
      {
       "output_type": "stream",
       "stream": "stdout",
       "text": [
        " 461176844\n",
        "http://blogs.estadao.com.br/marcelo-moraes/gilberto-carvalho-precisamos-criar-algum-tipo-de-convivencia-com-os-rolezinhos/"
       ]
      },
      {
       "output_type": "stream",
       "stream": "stdout",
       "text": [
        "\n",
        "downloads_id:"
       ]
      },
      {
       "output_type": "stream",
       "stream": "stdout",
       "text": [
        " 461177487\n",
        "http://rudaricci.blogspot.com.br/2014/01/revista-veja-sobre-os-rolezinhos.html"
       ]
      },
      {
       "output_type": "stream",
       "stream": "stdout",
       "text": [
        "\n",
        "downloads_id:"
       ]
      },
      {
       "output_type": "stream",
       "stream": "stdout",
       "text": [
        " 461178557\n",
        "http://tv.estadao.com.br/videos,SHOPPING-DE-SO-PAULO-FECHA-PORTAS-PARA-BARRAR-ROLEZINHOS,223255,250,0.htm"
       ]
      },
      {
       "output_type": "stream",
       "stream": "stdout",
       "text": [
        "\n",
        "downloads_id:"
       ]
      },
      {
       "output_type": "stream",
       "stream": "stdout",
       "text": [
        " 461178590\n",
        "http://www.estadao.com.br/noticias/cidades,em-shoppings-com-rolezinhos-movimento-caiu-ate-25-diz-associacao,1121414,0.htm"
       ]
      },
      {
       "output_type": "stream",
       "stream": "stdout",
       "text": [
        "\n",
        "downloads_id:"
       ]
      },
      {
       "output_type": "stream",
       "stream": "stdout",
       "text": [
        " 461179203\n",
        "http://www.maurosantayana.com/2014/01/de-rolezinhos-e-rolexzinhos.html"
       ]
      },
      {
       "output_type": "stream",
       "stream": "stdout",
       "text": [
        "\n",
        "downloads_id:"
       ]
      },
      {
       "output_type": "stream",
       "stream": "stdout",
       "text": [
        " 461179222\n",
        "http://renatovargens.blogspot.com/2014/01/o-que-penso-sobre-os-rolezinhos_18.html?showComment=1390078105758#c8966603283612809286"
       ]
      },
      {
       "output_type": "stream",
       "stream": "stdout",
       "text": [
        "\n",
        "downloads_id:"
       ]
      },
      {
       "output_type": "stream",
       "stream": "stdout",
       "text": [
        " 461179441\n",
        "http://www1.folha.uol.com.br/saopaulo/2014/01/1399132-funkeiro-diz-que-rolezinhos-acontecem-por-falta-de-espacos.shtml"
       ]
      },
      {
       "output_type": "stream",
       "stream": "stdout",
       "text": [
        "\n",
        "downloads_id:"
       ]
      },
      {
       "output_type": "stream",
       "stream": "stdout",
       "text": [
        " 461179762\n",
        "http://negrobelchior.cartacapital.com.br/2014/01/20/nabil-sayhoun-representante-dos-shoppings-do-pais-sugere-que-jovens-facam-rolezinhos-no-sambodromo/"
       ]
      },
      {
       "output_type": "stream",
       "stream": "stdout",
       "text": [
        "\n",
        "downloads_id:"
       ]
      },
      {
       "output_type": "stream",
       "stream": "stdout",
       "text": [
        " 461179818\n",
        "http://www.ihu.unisinos.br/noticias/527204-rolezinhos-o-que-estes-jovens-estao-roubando-da-classe-media-brasileira-por-eliane-brum"
       ]
      },
      {
       "output_type": "stream",
       "stream": "stdout",
       "text": [
        "\n",
        "downloads_id:"
       ]
      },
      {
       "output_type": "stream",
       "stream": "stdout",
       "text": [
        " 461179954\n",
        "http://leonardoboff.wordpress.com/2014/01/23/os-rolezinhos-nos-acusam-somos-uma-sociedade-injusta-e-segregacionista/"
       ]
      },
      {
       "output_type": "stream",
       "stream": "stdout",
       "text": [
        "\n",
        "downloads_id:"
       ]
      },
      {
       "output_type": "stream",
       "stream": "stdout",
       "text": [
        " 461179956\n",
        "http://www1.folha.uol.com.br/fsp/cotidiano/147937-haddad-escala-emissarios-para-dialogar-com-lideres-de-rolezinhos.shtml"
       ]
      },
      {
       "output_type": "stream",
       "stream": "stdout",
       "text": [
        "\n",
        "downloads_id:"
       ]
      },
      {
       "output_type": "stream",
       "stream": "stdout",
       "text": [
        " 461180307\n",
        "http://www.zedirceu.com.br/repressao-policial-leva-rolezinhos-a-se-alastrarem-e-se-tornarem-atos-politicos/#respond"
       ]
      },
      {
       "output_type": "stream",
       "stream": "stdout",
       "text": [
        "\n",
        "downloads_id:"
       ]
      },
      {
       "output_type": "stream",
       "stream": "stdout",
       "text": [
        " 461181039\n",
        "http://www.pavablog.com/2014/01/20/shoppings-pedem-ajuda-federal-contra-rolezinhos/"
       ]
      },
      {
       "output_type": "stream",
       "stream": "stdout",
       "text": [
        "\n",
        "downloads_id:"
       ]
      },
      {
       "output_type": "stream",
       "stream": "stdout",
       "text": [
        " 461181597\n",
        "http://correiodobrasil.com.br/ultimas/dilma-manda-abin-monitorar-rolezinhos/678789/attachment/aliedo-7/"
       ]
      },
      {
       "output_type": "stream",
       "stream": "stdout",
       "text": [
        "\n",
        "downloads_id:"
       ]
      },
      {
       "output_type": "stream",
       "stream": "stdout",
       "text": [
        " 461186137\n",
        "http://surgiu.com.br/noticia/132803/shopping-de-sp-fecha-as-portas-para-evitar-rolezao-de-sem-teto.html"
       ]
      },
      {
       "output_type": "stream",
       "stream": "stdout",
       "text": [
        "\n",
        "downloads_id:"
       ]
      },
      {
       "output_type": "stream",
       "stream": "stdout",
       "text": [
        " 461186258\n",
        "http://www.ihu.unisinos.br/noticias/527423-conjuntura-da-semana-2014-cenario-tenso-inquietante-e-instigante"
       ]
      },
      {
       "output_type": "stream",
       "stream": "stdout",
       "text": [
        "\n",
        "downloads_id:"
       ]
      },
      {
       "output_type": "stream",
       "stream": "stdout",
       "text": [
        " 461186833\n",
        "http://www.teoriaedebate.org.br/materias/sociedade/os-rolezinhos-e-o-que-acontece-no-brasil-desde-eleicao-de-lula?page=full"
       ]
      },
      {
       "output_type": "stream",
       "stream": "stdout",
       "text": [
        "\n",
        "downloads_id:"
       ]
      },
      {
       "output_type": "stream",
       "stream": "stdout",
       "text": [
        " 461187188\n",
        "http://www1.folha.uol.com.br/cotidiano/2014/01/1400024-shoppings-pedem-ajuda-federal-contra-rolezinhos.shtml"
       ]
      },
      {
       "output_type": "stream",
       "stream": "stdout",
       "text": [
        "\n",
        "downloads_id:"
       ]
      },
      {
       "output_type": "stream",
       "stream": "stdout",
       "text": [
        " 461187261\n",
        "http://www.bhaz.com.br/jovens-marcam-por-meio-de-redes-sociais-rolezinhos-nos-shoppings-da-capital/"
       ]
      },
      {
       "output_type": "stream",
       "stream": "stdout",
       "text": [
        "\n",
        "downloads_id:"
       ]
      },
      {
       "output_type": "stream",
       "stream": "stdout",
       "text": [
        " 461187577\n",
        "http://noticias.r7.com/blogs/andre-forastieri/2014/01/17/como-os-rolezinhos-salvaram-roseana-sarney/"
       ]
      },
      {
       "output_type": "stream",
       "stream": "stdout",
       "text": [
        "\n",
        "downloads_id:"
       ]
      },
      {
       "output_type": "stream",
       "stream": "stdout",
       "text": [
        " 461188549\n",
        "http://renatovargens.blogspot.com/2014/01/o-que-penso-sobre-os-rolezinhos_18.html?showComment=1390227796872#c6399980193428066521"
       ]
      },
      {
       "output_type": "stream",
       "stream": "stdout",
       "text": [
        "\n",
        "downloads_id:"
       ]
      },
      {
       "output_type": "stream",
       "stream": "stdout",
       "text": [
        " 461189069\n",
        "http://atualidadesdodireito.com.br/flaviotartuce/2014/01/15/rolezinhos-artigo-de-luciano-de-sousa-godoy/"
       ]
      },
      {
       "output_type": "stream",
       "stream": "stdout",
       "text": [
        "\n",
        "downloads_id:"
       ]
      },
      {
       "output_type": "stream",
       "stream": "stdout",
       "text": [
        " 461190586\n",
        "http://farofafa.cartacapital.com.br/2014/01/28/reflexoes-contraditorias-sobre-funk-ostentacao/"
       ]
      },
      {
       "output_type": "stream",
       "stream": "stdout",
       "text": [
        "\n",
        "downloads_id:"
       ]
      },
      {
       "output_type": "stream",
       "stream": "stdout",
       "text": [
        " 461193383\n",
        "http://entretenimento.r7.com/blogs/luiz-pimentel/2014/01/26/manifestacoes-rolezinhos-torcida-uniformizada-virou-tudo-a-mesma-coisa-infelizmente"
       ]
      },
      {
       "output_type": "stream",
       "stream": "stdout",
       "text": [
        "\n",
        "http://fj-p.com/article.php?id=102134"
       ]
      },
      {
       "output_type": "stream",
       "stream": "stdout",
       "text": [
        "\n",
        "http://www.cleveland.com/hillcrest/index.ssf/2014/01/sharon_cinkan_dispatcher_mayfi.html"
       ]
      },
      {
       "output_type": "stream",
       "stream": "stdout",
       "text": [
        "\n",
        "http://www.examiner.com/article/grant-taylor-leaves-alien-workshop-to-ride-for-anti-hero?cid=rss"
       ]
      },
      {
       "output_type": "stream",
       "stream": "stdout",
       "text": [
        "\n",
        "http://www.nbc29.com/story/24369861/5-things-to-know-from-49ers-23-20-win-over-pack"
       ]
      },
      {
       "output_type": "stream",
       "stream": "stdout",
       "text": [
        "\n",
        "http://feeds.nydailynews.com/~r/nydnrss/news/~3/f_dDeduF8xQ/story01.htm"
       ]
      },
      {
       "output_type": "stream",
       "stream": "stdout",
       "text": [
        "\n",
        "http://www.bbc.co.uk/news/uk-northern-ireland-25637592#sa-ns_mchannel=rss&ns_source=PublicRSS20-sa"
       ]
      },
      {
       "output_type": "stream",
       "stream": "stdout",
       "text": [
        "\n",
        "http://feedproxy.google.com/~r/typepad/MiamiHerald/umiami/~3/K2mIZ_upzyQ/miami-hurricanes-denzel-perryman-and-anthony-chickillo-mulling-nfl-both-received-projected-status.html"
       ]
      },
      {
       "output_type": "stream",
       "stream": "stdout",
       "text": [
        "\n",
        "http://www.dallasnews.com/news/community-news/irving/headlines/20140107-nearby-residents-once-fled-dfw-airport-now-they-crowd-it.ece"
       ]
      },
      {
       "output_type": "stream",
       "stream": "stdout",
       "text": [
        "\n",
        "http://www.crainscleveland.com/article/20140108/FREE/301089993"
       ]
      },
      {
       "output_type": "stream",
       "stream": "stdout",
       "text": [
        "\n",
        "http://www.miamiherald.com/2014/01/10/3862341/indian-diplomats-father-says-she.html"
       ]
      },
      {
       "output_type": "stream",
       "stream": "stdout",
       "text": [
        "\n",
        "http://www.gazeta.ru/travel/news/2014/01/10/n_5866529.shtml"
       ]
      },
      {
       "output_type": "stream",
       "stream": "stdout",
       "text": [
        "\n",
        "http://www.examiner.com/article/the-underground-man-part-iv?cid=rss"
       ]
      },
      {
       "output_type": "stream",
       "stream": "stdout",
       "text": [
        "\n",
        "http://www.miamiherald.com/2014/01/13/3867794/ky-poet-laureate-nominated-for.html"
       ]
      },
      {
       "output_type": "stream",
       "stream": "stdout",
       "text": [
        "\n",
        "http://blogs.riverfronttimes.com/rftmusic/2014/01/st_louis_punk_hardcore_january.php"
       ]
      },
      {
       "output_type": "stream",
       "stream": "stdout",
       "text": [
        "\n",
        "http://www.elwatannews.com/news/details/393669"
       ]
      },
      {
       "output_type": "stream",
       "stream": "stdout",
       "text": [
        "\n",
        "http://www.bellinghamherald.com/2014/01/13/3418557/fox-chief-forget-pilot-season.html#storylink=rss"
       ]
      },
      {
       "output_type": "stream",
       "stream": "stdout",
       "text": [
        "\n",
        "http://www.dailymail.co.uk/tvshowbiz/article-2539352/Filthy-rich-Was-Beyonce-crazy-love-splashed-6-000-Evian-water-bath-baby-Blue-New-Years-Eve.html?ITO=1490&ns_mchannel=rss&ns_campaign=1490"
       ]
      },
      {
       "output_type": "stream",
       "stream": "stdout",
       "text": [
        "\n",
        "http://www.dallasnews.com/news/local-news/20140114-vigil-draws-hundreds-after-new-mexico-shooting.ece"
       ]
      },
      {
       "output_type": "stream",
       "stream": "stdout",
       "text": [
        "\n",
        "http://highschoolsports.cleveland.com/news/article/469107267680882162/stow-munroe-falls-jumps-berea-midpark-in-state-ap-girls-basketball-poll/"
       ]
      },
      {
       "output_type": "stream",
       "stream": "stdout",
       "text": [
        "\n",
        "http://feedproxy.google.com/~r/time/topstories/~3/yk1Iy2a7mLU/"
       ]
      },
      {
       "output_type": "stream",
       "stream": "stdout",
       "text": [
        "\n",
        "http://www.newson6.com/story/24467102/egypts-christian-minority-rally-behind-charter"
       ]
      },
      {
       "output_type": "stream",
       "stream": "stdout",
       "text": [
        "\n",
        "http://echo.msk.ru/blog/maria_butina/1239246-echo/"
       ]
      },
      {
       "output_type": "stream",
       "stream": "stdout",
       "text": [
        "\n",
        "http://www.dailymail.co.uk/tvshowbiz/article-2540992/Curvy-Kim-Kardashian-left-scrambling-new-skirt-following-embarrassing-wardrobe-malfunction.html?ITO=1490&ns_mchannel=rss&ns_campaign=1490"
       ]
      },
      {
       "output_type": "stream",
       "stream": "stdout",
       "text": [
        "\n",
        "http://www.gazeta.ru/politics/news/2014/01/17/n_5882997.shtml"
       ]
      },
      {
       "output_type": "stream",
       "stream": "stdout",
       "text": [
        "\n",
        "http://www.examiner.com/article/occ-bike-raffle-randy-james-has-a-call-for-entries-for-autorama?cid=rss"
       ]
      },
      {
       "output_type": "stream",
       "stream": "stdout",
       "text": [
        "\n",
        "http://rss.feedsportal.com/c/32255/f/438809/p/1/s/172ba5cd/l/0L0Skommersant0Bru0Cdoc0C2387671/story01.htm"
       ]
      },
      {
       "output_type": "stream",
       "stream": "stdout",
       "text": [
        "\n",
        "http://www.examiner.com/article/chapter-2-jojo-and-the-three-bully-b-s-1?cid=rss"
       ]
      },
      {
       "output_type": "stream",
       "stream": "stdout",
       "text": [
        "\n",
        "http://rss.feedsportal.com/c/32255/f/438799/p/1/s/172ba8dc/l/0L0Skommersant0Bru0Cdoc0C2387719/story01.htm"
       ]
      },
      {
       "output_type": "stream",
       "stream": "stdout",
       "text": [
        "\n",
        "http://nypost.com/2014/01/19/melo-knicks-must-gain-ground-on-homestand/"
       ]
      },
      {
       "output_type": "stream",
       "stream": "stdout",
       "text": [
        "\n",
        "http://rss.cnn.com/~r/rss/cnn_latest/~3/b5kyefvYK8k/index.html"
       ]
      },
      {
       "output_type": "stream",
       "stream": "stdout",
       "text": [
        "\n",
        "http://www.examiner.com/article/florida-battle-casualties-for-u-s-colored-troops-were-high?cid=rss"
       ]
      },
      {
       "output_type": "stream",
       "stream": "stdout",
       "text": [
        "\n",
        "http://www.ntv.ru/novosti/833764/"
       ]
      },
      {
       "output_type": "stream",
       "stream": "stdout",
       "text": [
        "\n",
        "http://www.gazeta.ru/business/news/2014/01/23/n_5897125.shtml"
       ]
      },
      {
       "output_type": "stream",
       "stream": "stdout",
       "text": [
        "\n",
        "http://feeds.nydailynews.com/~r/nydnrss/sports/~3/AG0bc9dpiWQ/story01.htm"
       ]
      },
      {
       "output_type": "stream",
       "stream": "stdout",
       "text": [
        "\n",
        "http://www.miamiherald.com/2014/01/23/3889371/washington-senator-chefs-protest.html"
       ]
      },
      {
       "output_type": "stream",
       "stream": "stdout",
       "text": [
        "\n",
        "http://rss.feedsportal.com/c/32255/f/438809/p/1/s/17377354/l/0L0Skommersant0Bru0Cdoc0C2392540A/story01.htm"
       ]
      },
      {
       "output_type": "stream",
       "stream": "stdout",
       "text": [
        "\n",
        "http://www.gazeta.ru/politics/news/2014/01/26/n_5902125.shtml"
       ]
      },
      {
       "output_type": "stream",
       "stream": "stdout",
       "text": [
        "\n",
        "http://www.dallasnews.com/sports/dallas-stars/headlines/20140125-kari-lehtonen-makes-24-saves-as-stars-shut-out-penguins-3-0.ece"
       ]
      },
      {
       "output_type": "stream",
       "stream": "stdout",
       "text": [
        "\n",
        "http://www.shorouknews.com/news/view.aspx?cdate=26012014&id=d1b60493-8109-407f-bcea-dd0b4b405e75"
       ]
      },
      {
       "output_type": "stream",
       "stream": "stdout",
       "text": [
        "\n",
        "http://telegraph.feedsportal.com/c/32726/f/564430/s/366658d1/sc/40/l/0L0Stelegraph0O0Cnews0Cpolitics0C10A598920A0CUK0Eto0Etreble0Eeconomic0Eaid0Eto0E10B8bn0Bhtml/story01.htm"
       ]
      },
      {
       "output_type": "stream",
       "stream": "stdout",
       "text": [
        "\n",
        "http://feedproxy.google.com/~r/michiganeducation/~3/PmXkA15GyuE/severe_weather_force_west_mich.html"
       ]
      },
      {
       "output_type": "stream",
       "stream": "stdout",
       "text": [
        "\n",
        "http://feeds.cbsnews.com/~r/CBSNewsMain/~3/Kq1cYZXWZ8I/"
       ]
      },
      {
       "output_type": "stream",
       "stream": "stdout",
       "text": [
        "\n",
        "http://feeds.theguardian.com/c/34708/f/663854/s/36737276/sc/38/l/0L0Stheguardian0N0Ccommentisfree0Cbelief0C20A140Cjan0C280Cpope0Eblood0Ereverence0Erelics0Egrief0Enarrative/story01.htm"
       ]
      },
      {
       "output_type": "stream",
       "stream": "stdout",
       "text": [
        "\n",
        "http://lenta.ru/news/2014/01/30/madonna/"
       ]
      },
      {
       "output_type": "stream",
       "stream": "stdout",
       "text": [
        "\n",
        "http://www.shorouknews.com/news/view.aspx?cdate=30012014&id=3d7ae1e8-1565-40d8-80d8-74144e4dd4ae"
       ]
      },
      {
       "output_type": "stream",
       "stream": "stdout",
       "text": [
        "\n",
        "http://rssfeeds.usatoday.com/~r/usatoday-NewsTopStories/~3/KivoLk55nV0/"
       ]
      },
      {
       "output_type": "stream",
       "stream": "stdout",
       "text": [
        "\n",
        "http://www.dailymail.co.uk/news/article-2548744/Schoolgirls-cupcake-business-forced-close-health-officials-complained-11-year-old-didnt-cooking-permit.html?ITO=1490&ns_mchannel=rss&ns_campaign=1490"
       ]
      },
      {
       "output_type": "stream",
       "stream": "stdout",
       "text": [
        "\n",
        "http://lenta.ru/news/2014/02/03/vij/"
       ]
      },
      {
       "output_type": "stream",
       "stream": "stdout",
       "text": [
        "\n",
        "http://www.dailymail.co.uk/sport/football/article-2551389/David-Moyes-talks-Rio-Ferdinand-role-veteran-star-return-action-against-Fulham.html?ITO=1490&ns_mchannel=rss&ns_campaign=1490"
       ]
      },
      {
       "output_type": "stream",
       "stream": "stdout",
       "text": [
        "\n",
        "http://feeds.foxnews.com/~r/foxnews/health/~3/DVm1X85V1yU/"
       ]
      },
      {
       "output_type": "stream",
       "stream": "stdout",
       "text": [
        "\n",
        "http://www.bbc.co.uk/news/entertainment-arts-26039592#sa-ns_mchannel=rss&ns_source=PublicRSS20-sa"
       ]
      },
      {
       "output_type": "stream",
       "stream": "stdout",
       "text": [
        "\n",
        "http://www.almasryalyoum.com/news/details/388486"
       ]
      },
      {
       "output_type": "stream",
       "stream": "stdout",
       "text": [
        "\n",
        "http://www.examiner.com/article/furniture-store-owner-happy-to-lose-7m-super-bowl-bet?cid=rss"
       ]
      },
      {
       "output_type": "stream",
       "stream": "stdout",
       "text": [
        "\n",
        "http://feeds.nbcnews.com/c/35002/f/663308/s/36b93354/sc/8/l/0L0Snbcnews0N0Cnews0Ccrime0Ecourts0Chappy0Emeals0Etoy0Ewas0Eheroin0Epolice0En1890A6/story01.htm"
       ]
      },
      {
       "output_type": "stream",
       "stream": "stdout",
       "text": [
        "\n",
        "http://www.miamiherald.com/2014/02/05/3915106/tcu-gets-top-notch-recruits-for.html"
       ]
      },
      {
       "output_type": "stream",
       "stream": "stdout",
       "text": [
        "\n",
        "http://www.svoboda.org/content/article/25255174.html"
       ]
      },
      {
       "output_type": "stream",
       "stream": "stdout",
       "text": [
        "\n",
        "http://feeds.boston.com/c/35022/f/646951/s/36d2d129/sc/40/l/0L0Sboston0N0Cnews0Cworld0Cafrica0C20A140C0A20C0A70Csouth0Eafrica0Ehold0Eelections0Emay0C6WRlnZUsXUH9QfF3QMNtXN0Cstory0Bhtml/story01.htm"
       ]
      },
      {
       "output_type": "stream",
       "stream": "stdout",
       "text": [
        "\n",
        "http://www.nbc29.com/story/24669352/walker-spieth-in-a-familiar-place-at-pebble-beach"
       ]
      },
      {
       "output_type": "stream",
       "stream": "stdout",
       "text": [
        "\n",
        "http://www.arabnet5.com/news.asp?c=2&id=234426"
       ]
      },
      {
       "output_type": "stream",
       "stream": "stdout",
       "text": [
        "\n",
        "http://www.newson6.com/story/24671110/dogs-take-on-westminster-shows-1st-agility-trial"
       ]
      },
      {
       "output_type": "stream",
       "stream": "stdout",
       "text": [
        "\n",
        "http://pagesix.com/2014/02/09/stephanie-seymour-poses-in-her-lingerie-with-her-sons-2/"
       ]
      },
      {
       "output_type": "stream",
       "stream": "stdout",
       "text": [
        "\n",
        "http://www.novayagazeta.ru/society/62102.html"
       ]
      },
      {
       "output_type": "stream",
       "stream": "stdout",
       "text": [
        "\n",
        "http://www.svoboda.org/content/article/25259442.html"
       ]
      },
      {
       "output_type": "stream",
       "stream": "stdout",
       "text": [
        "\n",
        "http://lenta.ru/news/2014/02/12/penalty/"
       ]
      },
      {
       "output_type": "stream",
       "stream": "stdout",
       "text": [
        "\n",
        "http://echo.msk.ru/blog/avakov/1256990-echo/"
       ]
      },
      {
       "output_type": "stream",
       "stream": "stdout",
       "text": [
        "\n",
        "http://www.nydailynews.com/news/politics/sexting-republican-resigns-committee-post-article-1.1610980"
       ]
      },
      {
       "output_type": "stream",
       "stream": "stdout",
       "text": [
        "\n",
        "http://www.examiner.com/review/the-body-the-chair?cid=rss"
       ]
      },
      {
       "output_type": "stream",
       "stream": "stdout",
       "text": [
        "\n",
        "http://crimeblog.dallasnews.com/2014/02/former-garland-youth-minister-gets-12-years-in-federal-prison-for-relationship-with-underage-girl.html/"
       ]
      },
      {
       "output_type": "stream",
       "stream": "stdout",
       "text": [
        "\n",
        "http://rss.feedsportal.com/c/32255/f/438809/p/1/s/186fc2a7/l/0L0Skommersant0Bru0Cdoc0C240A7696/story01.htm"
       ]
      },
      {
       "output_type": "stream",
       "stream": "stdout",
       "text": [
        "\n",
        "http://telegraph.feedsportal.com/c/32726/f/564430/s/37176eee/sc/11/l/0L0Stelegraph0O0Cnews0Cworldnews0Cafricaandindianocean0Csouthafrica0C10A6378540COscar0EPistorius0Espeaks0Eout0Eone0Eyear0Eafter0Eshooting0Egirlfriend0Edead0Bhtml/story01.htm"
       ]
      },
      {
       "output_type": "stream",
       "stream": "stdout",
       "text": [
        "\n",
        "http://lenta.ru/news/2014/02/14/ballers/"
       ]
      },
      {
       "output_type": "stream",
       "stream": "stdout",
       "text": [
        "\n",
        "http://www.novayagazeta.ru/news/318845.html"
       ]
      },
      {
       "output_type": "stream",
       "stream": "stdout",
       "text": [
        "\n",
        "http://arabic.rt.com/news/653679/"
       ]
      },
      {
       "output_type": "stream",
       "stream": "stdout",
       "text": [
        "\n",
        "http://www.gazeta.ru/sochi2014/news/2014/02/17/n_5953429.shtml"
       ]
      },
      {
       "output_type": "stream",
       "stream": "stdout",
       "text": [
        "\n",
        "http://www.examiner.com/article/olympic-four-foot-eight-foot-twelve-foot-stone-the-house?cid=rss"
       ]
      },
      {
       "output_type": "stream",
       "stream": "stdout",
       "text": [
        "\n",
        "http://www.svoboda.org/content/article/25267639.html"
       ]
      },
      {
       "output_type": "stream",
       "stream": "stdout",
       "text": [
        "\n",
        "http://www.gazeta.ru/tech/news/2014/02/18/n_5955489.shtml"
       ]
      },
      {
       "output_type": "stream",
       "stream": "stdout",
       "text": [
        "\n",
        "http://blogtown.portlandmercury.com/BlogtownPDX/archives/2014/02/18/teachers-strike-averted"
       ]
      },
      {
       "output_type": "stream",
       "stream": "stdout",
       "text": [
        "\n",
        "http://nypost.com/2014/02/19/facebook-buying-messaging-app-whatsapp-for-16b/"
       ]
      },
      {
       "output_type": "stream",
       "stream": "stdout",
       "text": [
        "\n",
        "http://rss.feedsportal.com/c/32255/f/438800/p/1/s/187b9eb9/l/0L0Skommersant0Bru0Cdoc0C2412928/story01.htm"
       ]
      },
      {
       "output_type": "stream",
       "stream": "stdout",
       "text": [
        "\n",
        "http://www.ntv.ru/novosti/844857/"
       ]
      },
      {
       "output_type": "stream",
       "stream": "stdout",
       "text": [
        "\n",
        "http://rss.feedsportal.com/c/32255/f/438809/p/1/s/187c1031/l/0L0Skommersant0Bru0Cdoc0C2413899/story01.htm"
       ]
      },
      {
       "output_type": "stream",
       "stream": "stdout",
       "text": [
        "\n",
        "http://www.star-telegram.com/2014/02/20/5587473/jailhouse-madoff-interview-used.html"
       ]
      },
      {
       "output_type": "stream",
       "stream": "stdout",
       "text": [
        "\n",
        "http://www.examiner.com/article/lausdeasy-creates-a-new-bureaucracy-teachers-have-had-no-raise-for-7-years?cid=rss"
       ]
      },
      {
       "output_type": "stream",
       "stream": "stdout",
       "text": [
        "\n",
        "http://www.vedomosti.ru/tech/news/23113161/otechestvennye-serialy-v-dva-raza-populyarnee-amerikanskih"
       ]
      },
      {
       "output_type": "stream",
       "stream": "stdout",
       "text": [
        "\n",
        "http://www.crainscleveland.com/article/20140221/FREE/302219999"
       ]
      },
      {
       "output_type": "stream",
       "stream": "stdout",
       "text": [
        "\n",
        "http://telegraph.feedsportal.com/c/32726/f/579330/s/376af60a/sc/22/l/0L0Stelegraph0O0Cnews0C10A6560A0A40CForget0ENimbys0Ewere0Ethe0EImbys0Bhtml/story01.htm"
       ]
      },
      {
       "output_type": "stream",
       "stream": "stdout",
       "text": [
        "\n",
        "http://feedproxy.google.com/~r/wmbr/~3/6mNMboGOdyc/mike_suman_why_all_companies_s.html"
       ]
      },
      {
       "output_type": "stream",
       "stream": "stdout",
       "text": [
        "\n",
        "http://www.dailymail.co.uk/news/article-2566638/Hagel-proposes-big-cuts-Army-2015-budget.html?ITO=1490&ns_mchannel=rss&ns_campaign=1490"
       ]
      },
      {
       "output_type": "stream",
       "stream": "stdout",
       "text": [
        "\n",
        "http://www.examiner.com/article/bobcats-guard-kemba-walker-wins-eastern-conference-player-of-the-week?cid=rss"
       ]
      },
      {
       "output_type": "stream",
       "stream": "stdout",
       "text": [
        "\n",
        "http://www.almasryalyoum.com/news/details/400024"
       ]
      },
      {
       "output_type": "stream",
       "stream": "stdout",
       "text": [
        "\n",
        "http://lenta.ru/news/2014/02/25/iron/"
       ]
      },
      {
       "output_type": "stream",
       "stream": "stdout",
       "text": [
        "\n",
        "http://www.topix.net/city/fargo-nd/2014/02/wrongful-death-suit-filed-in-apartment-fire-case?fromrss=1"
       ]
      },
      {
       "output_type": "stream",
       "stream": "stdout",
       "text": [
        "\n",
        "http://feeds.nbcnews.com/c/35002/f/663306/s/37885087/sc/38/l/0L0Snbcnews0N0Cnews0Cus0Enews0Cchristian0Emetal0Esinger0Epleads0Eguilty0Emurder0Ehire0En38636/story01.htm"
       ]
      },
      {
       "output_type": "stream",
       "stream": "stdout",
       "text": [
        "\n",
        "http://www.zawya.com/story/Shaikh_Saif_starts_Twitter_account-GN_26022014_270239/"
       ]
      },
      {
       "output_type": "stream",
       "stream": "stdout",
       "text": [
        "\n",
        "http://echo.msk.ru/blog/livingston/1267394-echo/"
       ]
      },
      {
       "output_type": "stream",
       "stream": "stdout",
       "text": [
        "\n",
        "http://lenta.ru/news/2014/02/27/guardi/"
       ]
      },
      {
       "output_type": "stream",
       "stream": "stdout",
       "text": [
        "\n",
        "http://www.newsplex.com/home/headlines/People-With-Mental-Illness-Turn-to-Wellness-Recovery-Center-For-Help-247541161.html"
       ]
      },
      {
       "output_type": "stream",
       "stream": "stdout",
       "text": [
        "\n",
        "http://www.bellinghamherald.com/2014/02/27/3502340/china-busts-major-web-based-baby.html#storylink=rss"
       ]
      },
      {
       "output_type": "stream",
       "stream": "stdout",
       "text": [
        "\n",
        "http://www.dailymail.co.uk/sport/football/article-2570810/Watford-4-0-Blackpool-match-report-Troy-Deeney-Ranegie-net-twice-Barry-Ferguson-continues-struggle-Seasiders-sea.html?ITO=1490&ns_mchannel=rss&ns_campaign=1490"
       ]
      },
      {
       "output_type": "stream",
       "stream": "stdout",
       "text": [
        "\n",
        "http://lenta.ru/news/2014/03/01/yatsenuk/"
       ]
      },
      {
       "output_type": "stream",
       "stream": "stdout",
       "text": [
        "\n",
        "http://feeds.reuters.com/~r/reuters/businessNews/~3/s_nPFvXlMA4/story01.htm"
       ]
      },
      {
       "output_type": "stream",
       "stream": "stdout",
       "text": [
        "\n",
        "http://www.gazeta.ru/politics/2014/03/04_a_5935489.shtml"
       ]
      },
      {
       "output_type": "stream",
       "stream": "stdout",
       "text": [
        "\n",
        "http://www.oregonlive.com/blazers/index.ssf/2014/03/trail_blazers_star_damian_lillard_is_out_to_change.html"
       ]
      },
      {
       "output_type": "stream",
       "stream": "stdout",
       "text": [
        "\n",
        "http://rss.cnn.com/~r/rss/cnn_latest/~3/LwgsKNFMY2c/index.html"
       ]
      },
      {
       "output_type": "stream",
       "stream": "stdout",
       "text": [
        "\n",
        "http://www.cleveland.com/avon-lake/index.ssf/2014/03/avon_lake_pool_hike_announced.html"
       ]
      },
      {
       "output_type": "stream",
       "stream": "stdout",
       "text": [
        "\n",
        "http://ontveg.com/?p=27957"
       ]
      },
      {
       "output_type": "stream",
       "stream": "stdout",
       "text": [
        "\n",
        "http://www.newson6.com/story/24906322/iditarod-5-things-to-know-about-trail-conditions"
       ]
      },
      {
       "output_type": "stream",
       "stream": "stdout",
       "text": [
        "\n",
        "http://planoblog.dallasnews.com/2014/03/plano-police-need-help-identifying-man-found-dead-in-wooded-area.html/"
       ]
      },
      {
       "output_type": "stream",
       "stream": "stdout",
       "text": [
        "\n",
        "http://lenta.ru/news/2014/03/08/evac/"
       ]
      },
      {
       "output_type": "stream",
       "stream": "stdout",
       "text": [
        "\n",
        "http://www.dailymail.co.uk/health/article-2577060/Danger-one-glass-wine-older-drivers-Tests-skills-55s-plummet-compared-younger-people.html?ITO=1490&ns_mchannel=rss&ns_campaign=1490"
       ]
      },
      {
       "output_type": "stream",
       "stream": "stdout",
       "text": [
        "\n",
        "http://www.miamiherald.com/2014/03/11/3987611/sauceda-fowler-in-dont-mess-with.html"
       ]
      },
      {
       "output_type": "stream",
       "stream": "stdout",
       "text": [
        "\n",
        "http://rss.feedsportal.com/c/32255/f/438809/p/1/s/188b846b/l/0L0Skommersant0Bru0Cdoc0C2426862/story01.htm"
       ]
      },
      {
       "output_type": "stream",
       "stream": "stdout",
       "text": [
        "\n",
        "http://www.wboc.com/story/24944726/france-arrests-8-in-raid-on-syrian-bound-radicals"
       ]
      },
      {
       "output_type": "stream",
       "stream": "stdout",
       "text": [
        "\n",
        "http://trailblazersblog.dallasnews.com/2014/03/ted-cruz-unwilling-to-back-gop-senators-steps-away-from-gop-campaign-committee.html/"
       ]
      },
      {
       "output_type": "stream",
       "stream": "stdout",
       "text": [
        "\n",
        "http://www.dailymail.co.uk/debate/article-2578821/ALEX-BRUMMER-The-Co-op-scandal-proves-Left-trusted-run-whelk-stall.html?ITO=1490&ns_mchannel=rss&ns_campaign=1490"
       ]
      },
      {
       "output_type": "stream",
       "stream": "stdout",
       "text": [
        "\n",
        "http://rss.feedsportal.com/c/32255/f/438813/p/1/s/188bed4c/l/0L0Skommersant0Bru0Cdoc0C2427545/story01.htm"
       ]
      },
      {
       "output_type": "stream",
       "stream": "stdout",
       "text": [
        "\n",
        "http://www.star-telegram.com/2014/03/13/5646690/camp-fire-celebrates-100-years.html"
       ]
      },
      {
       "output_type": "stream",
       "stream": "stdout",
       "text": [
        "\n",
        "http://www.aljazeera.net/Home/GetPage/6c87b8ad-70ec-47d5-b7c4-3aa56fb899e2/74c2d086-14f4-4cf1-90c1-ddde72f15b18"
       ]
      },
      {
       "output_type": "stream",
       "stream": "stdout",
       "text": [
        "\n",
        "http://www.dallasnews.com/business/personal-finance/headlines/20140314-regular-or-roth-either-ira-makes-good-sense.ece"
       ]
      },
      {
       "output_type": "stream",
       "stream": "stdout",
       "text": [
        "\n",
        "http://www.jadaliyya.com/pages/index/16943/last-week-on-jadaliyya-(march-10-16)"
       ]
      },
      {
       "output_type": "stream",
       "stream": "stdout",
       "text": [
        "\n",
        "http://news.radio.com/2014/03/18/keith-urban-miranda-lambert-we-were-us-behind-the-song/"
       ]
      },
      {
       "output_type": "stream",
       "stream": "stdout",
       "text": [
        "\n",
        "http://www.gazeta.ru/science/2014/03/19_a_5954525.shtml"
       ]
      },
      {
       "output_type": "stream",
       "stream": "stdout",
       "text": [
        "\n",
        "http://www.Masrawy.com/news/egypt/politics/2014/march/20/5856479.aspx"
       ]
      },
      {
       "output_type": "stream",
       "stream": "stdout",
       "text": [
        "\n",
        "http://telegraph.feedsportal.com/c/32726/f/568303/s/3878c42b/sc/13/l/0L0Stelegraph0O0Csport0Cfootball0Cteams0Cliverpool0C10A7147260CLiverpool0Estriker0EDaniel0ESturridge0Ehas0Eshrugged0Eoff0Esurly0Etag0Ethrough0Econtinual0Eself0Eimprovement0Eat0EAnfield0Bhtml/story01.htm"
       ]
      },
      {
       "output_type": "stream",
       "stream": "stdout",
       "text": [
        "\n",
        "http://nypost.com/2014/03/23/msg-buys-50-percent-stake-in-tribeca-enterprises/"
       ]
      },
      {
       "output_type": "stream",
       "stream": "stdout",
       "text": [
        "\n",
        "http://www.kommersant.ru/doc/2437206"
       ]
      },
      {
       "output_type": "stream",
       "stream": "stdout",
       "text": [
        "\n",
        "http://www.dailymail.co.uk/news/article-2588893/Judge-assigns-medical-guardian-woman-called-911-thousands-times-OWES-emergency-services-nearly-62-000-ambulance-rides.html?ITO=1490&ns_mchannel=rss&ns_campaign=1490"
       ]
      },
      {
       "output_type": "stream",
       "stream": "stdout",
       "text": [
        "\n",
        "http://www.gazeta.ru/politics/news/2014/03/26/n_6038121.shtml"
       ]
      },
      {
       "output_type": "stream",
       "stream": "stdout",
       "text": [
        "\n",
        "http://www.kommersant.ru/doc/2438026"
       ]
      },
      {
       "output_type": "stream",
       "stream": "stdout",
       "text": [
        "\n",
        "http://www.examiner.com/article/bust-out-burlesque-seduces-house-of-blues-new-orleans?cid=rss"
       ]
      },
      {
       "output_type": "stream",
       "stream": "stdout",
       "text": [
        "\n",
        "http://echo.msk.ru/programs/granit/1288004-echo/"
       ]
      },
      {
       "output_type": "stream",
       "stream": "stdout",
       "text": [
        "\n",
        "http://www.miamiherald.com/2014/03/28/4023990/recap-san-jose-vs-winnipeg.html"
       ]
      },
      {
       "output_type": "stream",
       "stream": "stdout",
       "text": [
        "\n",
        "http://www.dallasnews.com/sports/college-sports/texas-aggies/20140327-at-johnny-manziel-s-pro-day-former-texas-am-quarterback-once-again-proves-he-s-in-a-world-of-his-own.ece"
       ]
      },
      {
       "output_type": "stream",
       "stream": "stdout",
       "text": [
        "\n",
        "http://www.shorouknews.com/news/view.aspx?cdate=28032014&id=ceb91e1b-0242-4a21-9a0b-0a76adf86764"
       ]
      },
      {
       "output_type": "stream",
       "stream": "stdout",
       "text": [
        "\n",
        "http://www.kommersant.ru/doc/2441512"
       ]
      },
      {
       "output_type": "stream",
       "stream": "stdout",
       "text": [
        "\n",
        "http://www.fox23.com/news/local/story/Virginia-based-group-campaigning-against-Tulsa/VgCzVOado0WOLY2cUJbS_A.cspx?rss=77"
       ]
      },
      {
       "output_type": "stream",
       "stream": "stdout",
       "text": [
        "\n",
        "http://www.miamiherald.com/2014/04/02/4034466/phoenix-coyotes-36-27-13-at-los.html"
       ]
      },
      {
       "output_type": "stream",
       "stream": "stdout",
       "text": [
        "\n",
        "http://www.dailymail.co.uk/news/article-2596517/Bent-cops-growing-stench-corruption-The-disturbing-links-suspect-officers-gangster-father-one-Stephens-killers.html?ITO=1490&ns_mchannel=rss&ns_campaign=1490"
       ]
      },
      {
       "output_type": "stream",
       "stream": "stdout",
       "text": [
        "\n",
        "http://abra-akbar.livejournal.com/2190985.html"
       ]
      },
      {
       "output_type": "stream",
       "stream": "stdout",
       "text": [
        "\n",
        "http://www.dailymail.co.uk/sport/football/article-2598112/Rising-star-Bellerin-makes-Arsenal-bench-Gunners-fight-Champions-League-place.html?ITO=1490&ns_mchannel=rss&ns_campaign=1490"
       ]
      },
      {
       "output_type": "stream",
       "stream": "stdout",
       "text": [
        "\n",
        "http://www.gazeta.ru/business/news/2014/04/08/n_6067273.shtml"
       ]
      },
      {
       "output_type": "stream",
       "stream": "stdout",
       "text": [
        "\n",
        "http://www.dallasnews.com/news/politics/state-politics/20140407-van-de-putte-rips-gop-foes-over-school-cuts.ece"
       ]
      },
      {
       "output_type": "stream",
       "stream": "stdout",
       "text": [
        "\n",
        "http://blog.cleveland.com/letters/2014/04/use_of_words_to_destroy_the_tr.html"
       ]
      },
      {
       "output_type": "stream",
       "stream": "stdout",
       "text": [
        "\n",
        "http://photos.oregonlive.com/oregonian/2014/04/portland_winterhawks_beat_the_14.html"
       ]
      },
      {
       "output_type": "stream",
       "stream": "stdout",
       "text": [
        "\n",
        "http://www.Masrawy.com/news/world/general/2014/april/13/5876140.aspx"
       ]
      },
      {
       "output_type": "stream",
       "stream": "stdout",
       "text": [
        "\n",
        "http://www.Masrawy.com/news/mideast/bbc/2014/april/14/25833366.aspx"
       ]
      },
      {
       "output_type": "stream",
       "stream": "stdout",
       "text": [
        "\n",
        "http://www.bellinghamherald.com/2014/04/14/3588135/tiaa-cref-buying-nuveen-for-625b.html#storylink=rss"
       ]
      },
      {
       "output_type": "stream",
       "stream": "stdout",
       "text": [
        "\n",
        "http://www.kommersant.ru/doc/2452601"
       ]
      },
      {
       "output_type": "stream",
       "stream": "stdout",
       "text": [
        "\n",
        "http://www.wboc.com/story/25264238/officials-investigate-response-time-in-911-killing"
       ]
      },
      {
       "output_type": "stream",
       "stream": "stdout",
       "text": [
        "\n",
        "http://www.local10.com/news/man-injured-when-wall-collapses-at-plantation-home/25581778"
       ]
      },
      {
       "output_type": "stream",
       "stream": "stdout",
       "text": [
        "\n",
        "http://www.bellinghamherald.com/2014/04/22/3602513/state-rep-jason-overstreet-calls.html#storylink=rss"
       ]
      },
      {
       "output_type": "stream",
       "stream": "stdout",
       "text": [
        "\n",
        "http://www.local10.com/sports/dolphins-schedule-released/25629262"
       ]
      },
      {
       "output_type": "stream",
       "stream": "stdout",
       "text": [
        "\n",
        "http://www.vedomosti.ru/companies/news/25785191/yandeks-v-i-kvartale-uvelichil-vyruchku-na-36-chistuyu"
       ]
      },
      {
       "output_type": "stream",
       "stream": "stdout",
       "text": [
        "\n",
        "http://crimeblog.dallasnews.com/2014/04/source-fired-dallas-officer-indicted-on-felony-charge-for-shooting-of-unarmed-man.html/"
       ]
      },
      {
       "output_type": "stream",
       "stream": "stdout",
       "text": [
        "\n",
        "http://www.wboc.com/story/25337746/northwestern-players-vote-on-union-question"
       ]
      },
      {
       "output_type": "stream",
       "stream": "stdout",
       "text": [
        "\n",
        "http://www.vedomosti.ru/politics/news/25845291/mer-novosibirska-anatolij-lokot-naznachil-eks-senatora-ivana"
       ]
      },
      {
       "output_type": "stream",
       "stream": "stdout",
       "text": [
        "\n",
        "http://www.wboc.com/story/25341750/georgia-leader-warns-west-not-to-alienate-russia"
       ]
      },
      {
       "output_type": "stream",
       "stream": "stdout",
       "text": [
        "\n",
        "http://aletgahnews.com//news/View/50273/\u0645\u062d\u0645\u062f-\u0641\u0648\u062f\u0629-\u064a\u0639\u0644\u0646-\u0639\u0646-\u0645\u0648\u0627\u0641\u0642\u0629-\u0627\u0644\u0623\u0648\u0642\u0627\u0641-\u0639\u0644\u0649-\u0625\u0646\u0634\u0627--\u0623\u0644\u0641-\u0648\u062d\u062f\u0629-\u0633\u0643\u0646\u064a\u0629-\u0644\u0645\u062d\u062f\u0648\u062f\u064a-\u0627\u0644\u062f\u062e\u0644-\u0628\u0645\u062d\u0627\u0641\u0638\u0629-\u0627\u0644\u063a\u0631\u0628\u064a\u0629/"
       ]
      },
      {
       "output_type": "stream",
       "stream": "stdout",
       "text": [
        "\n",
        "http://new.elfagr.org/Detail.aspx?nwsId=586916"
       ]
      },
      {
       "output_type": "stream",
       "stream": "stdout",
       "text": [
        "\n",
        "http://elbashayeronline.com/news-363933.html"
       ]
      },
      {
       "output_type": "stream",
       "stream": "stdout",
       "text": [
        "\n",
        "http://www.dailymail.co.uk/news/article-2613888/Delighted-supercar-fan-7-gets-dream-birthday-wish-fleet-Lamborghinis-arrive-party-dad-appeal-Facebook.html?ITO=1490&ns_mchannel=rss&ns_campaign=1490"
       ]
      },
      {
       "output_type": "stream",
       "stream": "stdout",
       "text": [
        "\n",
        "http://www.examiner.com/article/compensation-college-atheltics-under-review-matthew-artigliere-examines?cid=rss"
       ]
      },
      {
       "output_type": "stream",
       "stream": "stdout",
       "text": [
        "\n",
        "http://truth-out.org/news/item/23342-truthout-interviews-bethania-palma-markus-on-racism-in-the-media"
       ]
      },
      {
       "output_type": "stream",
       "stream": "stdout",
       "text": [
        "\n",
        "http://www.youm7.com//News.asp?NewsID=1634703"
       ]
      },
      {
       "output_type": "stream",
       "stream": "stdout",
       "text": [
        "\n",
        "http://www.dallasnews.com/news/transportation/20140427-dart-may-sell-naming-rights-for-its-rail-lines-and-stations.ece"
       ]
      },
      {
       "output_type": "stream",
       "stream": "stdout",
       "text": [
        "\n",
        "http://www.kommersant.ru/doc/2462077"
       ]
      },
      {
       "output_type": "stream",
       "stream": "stdout",
       "text": [
        "\n",
        "http://elnilenews.net/archives/54781"
       ]
      },
      {
       "output_type": "stream",
       "stream": "stdout",
       "text": [
        "\n",
        "http://www.miamiherald.com/2014/04/29/4075676/the-promise-the-growing-pains.html"
       ]
      },
      {
       "output_type": "stream",
       "stream": "stdout",
       "text": [
        "\n",
        "http://www.miamiherald.com/2014/04/29/4086710/users-bemoan-e-cigarette-bans.html"
       ]
      },
      {
       "output_type": "stream",
       "stream": "stdout",
       "text": [
        "\n",
        "http://new.elfagr.org/Detail.aspx?nwsId=589692"
       ]
      },
      {
       "output_type": "stream",
       "stream": "stdout",
       "text": [
        "\n",
        "http://www.gazeta.ru/business/news/2014/04/30/n_6121497.shtml"
       ]
      },
      {
       "output_type": "stream",
       "stream": "stdout",
       "text": [
        "\n",
        "http://miami.cbslocal.com/2014/05/01/get-a-taste-of-the-new-asian-inspired-tsukuro/"
       ]
      },
      {
       "output_type": "stream",
       "stream": "stdout",
       "text": [
        "\n",
        "http://egyptianpeople.com/default_news.php?id=199867"
       ]
      },
      {
       "output_type": "stream",
       "stream": "stdout",
       "text": [
        "\n",
        "http://www.examiner.com/article/arkansas-tornado-dog-brown-male-mastiff-safe-after-being-found-north-of-vilonia?cid=rss"
       ]
      },
      {
       "output_type": "stream",
       "stream": "stdout",
       "text": [
        "\n",
        "http://www.examiner.com/article/lg-g3-rumor-news-specs-tentative-launch-images-leak-ahead-of-release-date"
       ]
      },
      {
       "output_type": "stream",
       "stream": "stdout",
       "text": [
        "\n",
        "http://www.kommersant.ru/doc/2464819"
       ]
      },
      {
       "output_type": "stream",
       "stream": "stdout",
       "text": [
        "\n",
        "http://www.january-25.org/post.aspx?k=451878"
       ]
      },
      {
       "output_type": "stream",
       "stream": "stdout",
       "text": [
        "\n",
        "http://www.albawabhnews.com/555000"
       ]
      },
      {
       "output_type": "stream",
       "stream": "stdout",
       "text": [
        "\n",
        "http://www.ntv.ru/novosti/951856/"
       ]
      },
      {
       "output_type": "stream",
       "stream": "stdout",
       "text": [
        "\n",
        "http://www.gazeta.ru/culture/news/2014/05/06/n_6132493.shtml"
       ]
      },
      {
       "output_type": "stream",
       "stream": "stdout",
       "text": [
        "\n",
        "http://al-mashhad.com/News/\u0627\u0644\u0642\u0628\u0636-\u0639\u0644\u064a-\u0639\u0627\u0637\u0644-\u0633\u0631\u0642-\u062c\u0645\u0639\u064a\u0629-\u062e\u064a\u0631\u064a\u0629-\u0628\u062d\u0644\u0648\u0627\u0646/654781.aspx"
       ]
      },
      {
       "output_type": "stream",
       "stream": "stdout",
       "text": [
        "\n",
        "http://www.nbc29.com/story/25443097/predators-hire-peter-laviolette-as-new-coach"
       ]
      },
      {
       "output_type": "stream",
       "stream": "stdout",
       "text": [
        "\n",
        "http://www.kommersant.ru/doc/2466786"
       ]
      },
      {
       "output_type": "stream",
       "stream": "stdout",
       "text": [
        "\n",
        "http://www.novayagazeta.ru/news/1681791.html"
       ]
      },
      {
       "output_type": "stream",
       "stream": "stdout",
       "text": [
        "\n",
        "http://www.shorouknews.com/news/view.aspx?cdate=08052014&id=e9d02796-70b9-416b-9bbf-f631f750c061"
       ]
      },
      {
       "output_type": "stream",
       "stream": "stdout",
       "text": [
        "\n",
        "http://www.kommersant.ru/doc/2467838"
       ]
      },
      {
       "output_type": "stream",
       "stream": "stdout",
       "text": [
        "\n",
        "http://onaeg.com/?p=1654552"
       ]
      },
      {
       "output_type": "stream",
       "stream": "stdout",
       "text": [
        "\n",
        "http://crimeblog.dallasnews.com/2014/05/stephenville-police-looking-for-infant-reportedly-abducted-friday-morning.html/"
       ]
      },
      {
       "output_type": "stream",
       "stream": "stdout",
       "text": [
        "\n",
        "http://dostorasly.com//news/view.aspx?cdate=11052014&id=a4ba1b6d-3ee5-440a-878d-9d8a1020e690"
       ]
      },
      {
       "output_type": "stream",
       "stream": "stdout",
       "text": [
        "\n",
        "http://www.copts-united.com/Article.php?I=1896&A=153393"
       ]
      },
      {
       "output_type": "stream",
       "stream": "stdout",
       "text": [
        "\n",
        "http://www.shorouknews.com/news/view.aspx?cdate=11052014&id=60d25337-64ba-4c81-9145-f65190a4693f"
       ]
      },
      {
       "output_type": "stream",
       "stream": "stdout",
       "text": [
        "\n",
        "http://www.ismailiaonline.com/pages.php?option=browse&id=224253"
       ]
      },
      {
       "output_type": "stream",
       "stream": "stdout",
       "text": [
        "\n",
        "http://www.nydailynews.com/news/national/v-stiviano-beverly-hills-fender-bender-article-1.1789584"
       ]
      },
      {
       "output_type": "stream",
       "stream": "stdout",
       "text": [
        "\n",
        "http://feeds.nbcnews.com/c/35002/f/663303/s/3a6aa913/sc/8/l/0L0Snbcnews0N0Cpop0Eculture0Ccelebrity0Calec0Ebaldwin0Eblasts0Enew0Eyork0Ecarnival0Estupidity0En10A5141/story01.htm"
       ]
      },
      {
       "output_type": "stream",
       "stream": "stdout",
       "text": [
        "\n",
        "http://www.sfgate.com/news/article/Senate-voting-on-NECAP-moratorium-bill-5477343.php"
       ]
      },
      {
       "output_type": "stream",
       "stream": "stdout",
       "text": [
        "\n",
        "http://www.gazeta.ru/culture/news/2014/05/14/n_6152113.shtml"
       ]
      },
      {
       "output_type": "stream",
       "stream": "stdout",
       "text": [
        "\n",
        "http://www.vetogate.com/1010496"
       ]
      },
      {
       "output_type": "stream",
       "stream": "stdout",
       "text": [
        "\n",
        "http://www.local10.com/thats-life/travelgetaways/Japan-s-anti-loneliness-cafe-goes-viral/26003708"
       ]
      },
      {
       "output_type": "stream",
       "stream": "stdout",
       "text": [
        "\n",
        "http://www.bellinghamherald.com/2014/05/15/3644793/american-flight-returns-to-dallas.html#storylink=rss"
       ]
      },
      {
       "output_type": "stream",
       "stream": "stdout",
       "text": [
        "\n",
        "http://www.novayagazeta.ru/news/1682152.html"
       ]
      },
      {
       "output_type": "stream",
       "stream": "stdout",
       "text": [
        "\n",
        "http://www.vetogate.com/1017941"
       ]
      },
      {
       "output_type": "stream",
       "stream": "stdout",
       "text": [
        "\n",
        "http://egyptianpeople.com/default_news.php?id=207628"
       ]
      },
      {
       "output_type": "stream",
       "stream": "stdout",
       "text": [
        "\n",
        "http://www.alwafd.org/\u0623\u062e\u0628\u0627\u0631-\u0648\u062a\u0642\u0627\u0631\u064a\u0631/678689-\u0648\u0632\u064a\u0631\u0627\u0644\u0634\u0628\u0627\u0628-\u0648\u0627\u0644\u0631\u064a\u0627\u0636\u0629-\u064a\u0648\u0642\u0639-\u0628\u0631\u0648\u062a\u0648\u0643\u0648\u0644-\u062a\u0639\u0627\u0648\u0646-\u0645\u0639-\u0645\u0635\u0631-\u0627\u0644\u062e\u064a\u0631"
       ]
      },
      {
       "output_type": "stream",
       "stream": "stdout",
       "text": [
        "\n",
        "http://www.wptv.com/news/region-st-lucie-county/port-st-lucie/jean-guthrie-port-st-lucie-police-seeking-help-finding-missing-endangered-82-year-old-woman"
       ]
      },
      {
       "output_type": "stream",
       "stream": "stdout",
       "text": [
        "\n",
        "http://www.elmogaz.com/node/158792"
       ]
      },
      {
       "output_type": "stream",
       "stream": "stdout",
       "text": [
        "\n",
        "http://www.fox23.com/news/world/story/Obama-says-US-troops-in-Africa-seeking-kidnapped/Fp_QBC0ONk-pK04efqK2zg.cspx?rss=80"
       ]
      },
      {
       "output_type": "stream",
       "stream": "stdout",
       "text": [
        "\n",
        "http://onaeg.com/?p=1683592"
       ]
      },
      {
       "output_type": "stream",
       "stream": "stdout",
       "text": [
        "\n",
        "http://www.dailymail.co.uk/news/article-2635961/Why-sad-White-Dee-Benefits-Street-star-looks-glum-Get-Well-Soon-flowers-shes-stripped-welfare-payouts-depression-party-trip-Majorca.html?ITO=1490&ns_mchannel=rss&ns_campaign=1490"
       ]
      },
      {
       "output_type": "stream",
       "stream": "stdout",
       "text": [
        "\n",
        "http://www.elmediatoday.com/2014/05/happy_23.html"
       ]
      },
      {
       "output_type": "stream",
       "stream": "stdout",
       "text": [
        "\n",
        "http://www.kommersant.ru/doc/2476941"
       ]
      },
      {
       "output_type": "stream",
       "stream": "stdout",
       "text": [
        "\n",
        "http://feeds.theguardian.com/c/34708/f/663828/s/3ac4130a/sc/26/l/0L0Stheguardian0N0Clifeandstyle0C20A140Cmay0C230Csummer0Esalad0Erecipes0Ejason0Eatherton/story01.htm"
       ]
      },
      {
       "output_type": "stream",
       "stream": "stdout",
       "text": [
        "\n",
        "http://www.gazeta.ru/social/news/2014/05/24/n_6177089.shtml"
       ]
      },
      {
       "output_type": "stream",
       "stream": "stdout",
       "text": [
        "\n",
        "http://www.examiner.com/review/christmas-island-by-andrew-jackson-jihad?cid=rss"
       ]
      },
      {
       "output_type": "stream",
       "stream": "stdout",
       "text": [
        "\n",
        "http://www.gazeta.ru/politics/news/2014/05/25/n_6179385.shtml"
       ]
      },
      {
       "output_type": "stream",
       "stream": "stdout",
       "text": [
        "\n",
        "http://www.akheralanbaa.com/ar/news/82159/\u0627\u0644\u064a\u0648\u0645-\u0628\u0643\u0627\u0631-\u0636\u064a\u0641-\u0631\u0627\u062f\u064a\u0648-\u0648\u0627\u0646-\u0641\u064a-\u0627\u0644\u062b\u0627\u0646\u064a\u0629-\u0639\u0634\u0631-\u0638\u0647\u0631\u0627\u064b"
       ]
      },
      {
       "output_type": "stream",
       "stream": "stdout",
       "text": [
        "\n",
        "http://aviationblog.dallasnews.com/2014/05/southwest-airlines-spreads-mobile-boarding-to-more-cities.html/"
       ]
      },
      {
       "output_type": "stream",
       "stream": "stdout",
       "text": [
        "\n",
        "http://www.miamiherald.com/2014/05/28/4142283/michigan-mans-model-collection.html"
       ]
      },
      {
       "output_type": "stream",
       "stream": "stdout",
       "text": [
        "\n",
        "http://lenta.ru/news/2014/05/28/mikhalkov/"
       ]
      },
      {
       "output_type": "stream",
       "stream": "stdout",
       "text": [
        "\n",
        "http://almashhad.net/Articles/686532.aspx"
       ]
      },
      {
       "output_type": "stream",
       "stream": "stdout",
       "text": [
        "\n",
        "http://www.dallasnews.com/news/community-news/park-cities/headlines/20140528-democrat-in-house-race-undaunted-by-the-odds.ece"
       ]
      },
      {
       "output_type": "stream",
       "stream": "stdout",
       "text": [
        "\n",
        "http://ikhwanwiki.com/index.php?title=Znaczenie_stali&diff=1082757&oldid=prev"
       ]
      },
      {
       "output_type": "stream",
       "stream": "stdout",
       "text": [
        "\n",
        "http://www.gazeta.ru/social/news/2014/05/30/n_6196189.shtml"
       ]
      },
      {
       "output_type": "stream",
       "stream": "stdout",
       "text": [
        "\n",
        "http://www.examiner.com/article/green-tomatoes-boost-muscle-and-zap-fat"
       ]
      },
      {
       "output_type": "stream",
       "stream": "stdout",
       "text": [
        "\n",
        "http://www.theguardian.com/film/2014/jun/01/edge-of-tomorrow-review-tom-cruise-emily-blunt-born-again-blockbuster"
       ]
      },
      {
       "output_type": "stream",
       "stream": "stdout",
       "text": [
        "\n",
        "http://www.bbc.co.uk/news/uk-27659905#sa-ns_mchannel=rss&ns_source=PublicRSS20-sa"
       ]
      },
      {
       "output_type": "stream",
       "stream": "stdout",
       "text": [
        "\n",
        "http://www.el-balad.com/981165"
       ]
      },
      {
       "output_type": "stream",
       "stream": "stdout",
       "text": [
        "\n",
        "http://bizbeatblog.dallasnews.com/2014/06/fuel-efficiency-in-cars-taking-a-bite-out-of-road-funds.html/"
       ]
      },
      {
       "output_type": "stream",
       "stream": "stdout",
       "text": [
        "\n",
        "http://www.youm7.com//News.asp?NewsID=1709358"
       ]
      },
      {
       "output_type": "stream",
       "stream": "stdout",
       "text": [
        "\n",
        "http://www.dailymail.co.uk/sport/rugbyunion/article-2650370/England-scrum-half-Danny-Care-ruled-New-Zealand-Test.html?ITO=1490&ns_mchannel=rss&ns_campaign=1490"
       ]
      },
      {
       "output_type": "stream",
       "stream": "stdout",
       "text": [
        "\n",
        "http://egyptianpeople.com/default_news.php?id=215199"
       ]
      },
      {
       "output_type": "stream",
       "stream": "stdout",
       "text": [
        "\n",
        "http://rss.nytimes.com/c/34625/f/640344/s/3b406193/sc/13/l/0L0Snytimes0N0Caponline0C20A140C0A60C0A60Csports0Cgolf0Cap0Eglf0Ecurtis0Ecup0Bhtml0Dpartner0Frss0Gemc0Frss/story01.htm"
       ]
      },
      {
       "output_type": "stream",
       "stream": "stdout",
       "text": [
        "\n",
        "http://chpn.net/news/2014/06/07/this-weeks-calendar-314_34373/"
       ]
      },
      {
       "output_type": "stream",
       "stream": "stdout",
       "text": [
        "\n",
        "http://lenta.ru/news/2014/06/08/osetia1/"
       ]
      },
      {
       "output_type": "stream",
       "stream": "stdout",
       "text": [
        "\n",
        "http://www.albawabhnews.com/631303"
       ]
      },
      {
       "output_type": "stream",
       "stream": "stdout",
       "text": [
        "\n",
        "http://www.albawabhnews.com/632398"
       ]
      },
      {
       "output_type": "stream",
       "stream": "stdout",
       "text": [
        "\n",
        "http://www.Masrawy.com/news/egypt/politics/2014/june/12/5920645.aspx"
       ]
      },
      {
       "output_type": "stream",
       "stream": "stdout",
       "text": [
        "\n",
        "http://www.gazeta.ru/business/news/2014/06/12/n_6225917.shtml"
       ]
      },
      {
       "output_type": "stream",
       "stream": "stdout",
       "text": [
        "\n",
        "http://bizbeatblog.dallasnews.com/2014/06/wal-mart-tests-health-care-clinics-with-4-office-visits-for-its-employees.html/"
       ]
      },
      {
       "output_type": "stream",
       "stream": "stdout",
       "text": [
        "\n",
        "http://dostorasly.com//news/view.aspx?cdate=13062014&id=772b6002-5953-4016-86ad-22bac6402b99"
       ]
      },
      {
       "output_type": "stream",
       "stream": "stdout",
       "text": [
        "\n",
        "http://www.alwafd.org/\u0639\u0627\u0644\u0645\u0640\u064a/693560-80-\u0623\u0644\u0641-\u0643\u0645\u0628\u0648\u062f\u0649-\u064a\u0641\u0631\u0648\u0646-\u0645\u0646-\u062a\u0627\u064a\u0644\u0627\u0646\u062f"
       ]
      },
      {
       "output_type": "stream",
       "stream": "stdout",
       "text": [
        "\n",
        "http://www.vetogate.com/1068149"
       ]
      },
      {
       "output_type": "stream",
       "stream": "stdout",
       "text": [
        "\n",
        "http://www.dallasnews.com/news/community-news/garland-mesquite/headlines/20140614-work-ethic-tiebreakers-separate-mesquite-poteet-high-twins.ece"
       ]
      },
      {
       "output_type": "stream",
       "stream": "stdout",
       "text": [
        "\n",
        "http://telegraph.feedsportal.com/c/32726/f/564430/s/3b8b8022/sc/3/l/0L0Stelegraph0O0Cnews0Cworldnews0Cafricaandindianocean0Ckenya0C10A90A23810CKenya0Eattack0EIslamist0Ethreat0Egrowing0Emore0Esophisticated0Bhtml/story01.htm"
       ]
      },
      {
       "output_type": "stream",
       "stream": "stdout",
       "text": [
        "\n",
        "http://el-wasat.com/portal/News-55741746.html"
       ]
      },
      {
       "output_type": "stream",
       "stream": "stdout",
       "text": [
        "\n",
        "http://feedproxy.google.com/~r/islammemo/WMNM/~3/9L4sgmUT5VQ/201128.html"
       ]
      },
      {
       "output_type": "stream",
       "stream": "stdout",
       "text": [
        "\n",
        "http://lenta.ru/news/2014/06/16/omsk/"
       ]
      },
      {
       "output_type": "stream",
       "stream": "stdout",
       "text": [
        "\n",
        "http://www.nydailynews.com/news/national/photographer-creates-kitty-costumes-cats-adopted-article-1.1831400"
       ]
      },
      {
       "output_type": "stream",
       "stream": "stdout",
       "text": [
        "\n",
        "http://www.miamiherald.com/2014/06/16/4180629/alemania-busca-impresionar-ante.html"
       ]
      },
      {
       "output_type": "stream",
       "stream": "stdout",
       "text": [
        "\n",
        "http://feeds.bizjournals.com/~r/bizj_southflorida/~3/TRv78EvpWMs/cleveland-clinics-expansion-an-insiders-look.html"
       ]
      },
      {
       "output_type": "stream",
       "stream": "stdout",
       "text": [
        "\n",
        "http://www.blogbaster.org/14746/"
       ]
      },
      {
       "output_type": "stream",
       "stream": "stdout",
       "text": [
        "\n",
        "http://feeds.washingtonpost.com/c/34656/f/645348/s/3b9247a3/sc/36/l/0L0Swashingtonpost0N0Cnational0Chealth0Escience0Cstrokes0Elong0Eon0Ethe0Edecline0Eamong0Ethe0Eelderly0Eare0Erising0Eamong0Eyounger0Eadults0C20A140C0A60C160Cf1f545380Ee5d90E11e30Ea86b0E362fd5443d190Istory0Bhtml0Dwprss0Frss0Ihomepage/story01.htm"
       ]
      },
      {
       "output_type": "stream",
       "stream": "stdout",
       "text": [
        "\n",
        "http://www.ntv.ru/novosti/1047356/"
       ]
      },
      {
       "output_type": "stream",
       "stream": "stdout",
       "text": [
        "\n",
        "http://almashhad.net/Articles/714206.aspx"
       ]
      },
      {
       "output_type": "stream",
       "stream": "stdout",
       "text": [
        "\n",
        "http://ikhwanwiki.com/index.php?title=AmburgeyRafferty253&diff=1128429&oldid=prev"
       ]
      },
      {
       "output_type": "stream",
       "stream": "stdout",
       "text": [
        "\n",
        "http://www.alwafd.org/\u0627\u0644\u0631\u064a\u0627\u0636\u0629/695397-\u0645\u062c\u062f\u064a-\u0639\u0628\u062f-\u0627\u0644\u063a\u0646\u064a-\u064a\u062d\u0636\u0631-\u0627\u062c\u062a\u0645\u0627\u0639-\u0644\u062c\u0646\u0629-\u0627\u0644\u0623\u0646\u062f\u064a\u0629"
       ]
      },
      {
       "output_type": "stream",
       "stream": "stdout",
       "text": [
        "\n",
        "http://www.examiner.com/article/destiny-hands-on-impressions-of-bungie-s-titan-and-warlock-classes?cid=rss"
       ]
      },
      {
       "output_type": "stream",
       "stream": "stdout",
       "text": [
        "\n",
        "http://www.examiner.com/article/movie-review-the-well-digs-deep-with-cinematography-and-performance?cid=rss"
       ]
      },
      {
       "output_type": "stream",
       "stream": "stdout",
       "text": [
        "\n",
        "http://www.gazeta.ru/auto/news/2014/06/18/n_6239997.shtml"
       ]
      },
      {
       "output_type": "stream",
       "stream": "stdout",
       "text": [
        "\n",
        "http://www.sfgate.com/sports/article/Raiders-McFadden-eager-to-impress-without-the-5563366.php"
       ]
      },
      {
       "output_type": "stream",
       "stream": "stdout",
       "text": [
        "\n",
        "http://www.examiner.com/article/ex-rains-county-deputy-who-shot-dog-pleads-not-guilty-to-felony-animal-cruelty?cid=rss"
       ]
      },
      {
       "output_type": "stream",
       "stream": "stdout",
       "text": [
        "\n",
        "http://www.newson6.com/story/25831301/del-bosque-mum-on-future-despite-spain-backing"
       ]
      },
      {
       "output_type": "stream",
       "stream": "stdout",
       "text": [
        "\n",
        "http://trailblazersblog.dallasnews.com/2014/06/state-sen-royce-west-sues-constituent-for-defamation.html/"
       ]
      },
      {
       "output_type": "stream",
       "stream": "stdout",
       "text": [
        "\n",
        "http://www.ntv.ru/novosti/1062777/"
       ]
      },
      {
       "output_type": "stream",
       "stream": "stdout",
       "text": [
        "\n",
        "http://www.kommersant.ru/doc/2497367"
       ]
      },
      {
       "output_type": "stream",
       "stream": "stdout",
       "text": [
        "\n",
        "http://www.ntv.ru/novosti/1066476/"
       ]
      },
      {
       "output_type": "stream",
       "stream": "stdout",
       "text": [
        "\n",
        "http://www.svoboda.org/content/article/25432635.html"
       ]
      },
      {
       "output_type": "stream",
       "stream": "stdout",
       "text": [
        "\n",
        "http://www.examiner.com/article/true-blood-star-chris-bauer-loses-40-pounds-with-jessica-biel-s-trainer?cid=rss"
       ]
      },
      {
       "output_type": "stream",
       "stream": "stdout",
       "text": [
        "\n",
        "http://elbashayeronline.com/news-385978.html"
       ]
      },
      {
       "output_type": "stream",
       "stream": "stdout",
       "text": [
        "\n",
        "http://www.examiner.com/article/southern-hospitality-yoga?cid=rss"
       ]
      },
      {
       "output_type": "stream",
       "stream": "stdout",
       "text": [
        "\n",
        "http://echo.msk.ru/blog/viacheslav_sn/1348138-echo/"
       ]
      },
      {
       "output_type": "stream",
       "stream": "stdout",
       "text": [
        "\n",
        "http://ikhwanwiki.com/index.php?title=%D9%85%D8%B3%D8%AA%D8%AE%D8%AF%D9%85:AltmanClare821&diff=1152911&oldid=prev"
       ]
      },
      {
       "output_type": "stream",
       "stream": "stdout",
       "text": [
        "\n",
        "http://www.ntv.ru/novosti/1081056/"
       ]
      },
      {
       "output_type": "stream",
       "stream": "stdout",
       "text": [
        "\n",
        "http://feedproxy.google.com/~r/Politico/~3/TBjRM57SO6Q/ahmed-abu-khatallah-benghazi-suspect-court-108407.html"
       ]
      },
      {
       "output_type": "stream",
       "stream": "stdout",
       "text": [
        "\n",
        "http://www.ntv.ru/novosti/1082256/"
       ]
      },
      {
       "output_type": "stream",
       "stream": "stdout",
       "text": [
        "\n",
        "http://www.alnaharegypt.com/t~220397"
       ]
      },
      {
       "output_type": "stream",
       "stream": "stdout",
       "text": [
        "\n",
        "http://facemsr1.blogspot.com/2014/06/blog-post_5162.html"
       ]
      },
      {
       "output_type": "stream",
       "stream": "stdout",
       "text": [
        "\n",
        "http://feeds.foxnews.com/~r/foxnews/world/~3/pIdHXD-drSw/"
       ]
      },
      {
       "output_type": "stream",
       "stream": "stdout",
       "text": [
        "\n",
        "http://www.copts-united.com/Article.php?I=1947&A=159967"
       ]
      },
      {
       "output_type": "stream",
       "stream": "stdout",
       "text": [
        "\n",
        "http://www.examiner.com/article/chael-sonnen-released-as-ufc-and-fox-sports-analyst?cid=rss"
       ]
      },
      {
       "output_type": "stream",
       "stream": "stdout",
       "text": [
        "\n",
        "http://www.vedomosti.ru/opinion/news/28451401/novaya-model-rosta-vyglyadit-kak-usilennaya-staraya"
       ]
      },
      {
       "output_type": "stream",
       "stream": "stdout",
       "text": [
        "\n",
        "http://www.cleveland.com/moviebuff/index.ssf/2014/07/earth_to_echo_young_adventurer.html"
       ]
      },
      {
       "output_type": "stream",
       "stream": "stdout",
       "text": [
        "\n",
        "http://eshahed.com/main/news/85709"
       ]
      },
      {
       "output_type": "stream",
       "stream": "stdout",
       "text": [
        "\n",
        "http://www.dailymail.co.uk/sport/football/article-2679356/Manchester-United-braced-fight-Patrice-Evra-despite-new-deal-Real-Madrid-offer-Angel-di-Maria.html?ITO=1490&ns_mchannel=rss&ns_campaign=1490"
       ]
      },
      {
       "output_type": "stream",
       "stream": "stdout",
       "text": [
        "\n",
        "http://www.copts-united.com/Article.php?I=1949&A=160359"
       ]
      },
      {
       "output_type": "stream",
       "stream": "stdout",
       "text": [
        "\n",
        "http://thescoopblog.dallasnews.com/2014/07/police-help-pool-submerged-truck-out-of-joe-pool-lake.html/"
       ]
      },
      {
       "output_type": "stream",
       "stream": "stdout",
       "text": [
        "\n",
        "http://new.elfagr.org/Detail.aspx?nwsId=636128"
       ]
      },
      {
       "output_type": "stream",
       "stream": "stdout",
       "text": [
        "\n",
        "http://www.ntv.ru/novosti/1105356/"
       ]
      },
      {
       "output_type": "stream",
       "stream": "stdout",
       "text": [
        "\n",
        "http://masralarabia.com/%D8%B4%D8%A8%D8%A7%D8%A8-%D9%88%D8%AC%D8%A7%D9%85%D8%B9%D8%A7%D8%AA/304791-%D8%A8%D8%A7%EF%BB%B7%D8%B1%D9%82%D8%A7%D9%85-%D8%AD%D8%A7%D9%84%D8%A7%D8%AA-%D8%A7%D9%84%D8%BA%D8%B4-%D8%A8%D9%83%D9%84%D9%8A%D8%A7%D8%AA-%D8%AC%D8%A7%D9%85%D8%B9%D8%A9-%D8%A7%D9%84%D9%82%D8%A7%D9%87%D8%B1%D8%A9"
       ]
      },
      {
       "output_type": "stream",
       "stream": "stdout",
       "text": [
        "\n",
        "http://feedproxy.google.com/~r/saginaw_entertainment/~3/nUtFy87g3JQ/larry_mccray_and_sharrie_willi.html"
       ]
      },
      {
       "output_type": "stream",
       "stream": "stdout",
       "text": [
        "\n",
        "http://dallasmorningviewsblog.dallasnews.com/2014/07/revisiting-bexar-street.html/"
       ]
      },
      {
       "output_type": "stream",
       "stream": "stdout",
       "text": [
        "\n",
        "http://www.copts-united.com/Article.php?I=1954&A=47199"
       ]
      },
      {
       "output_type": "stream",
       "stream": "stdout",
       "text": [
        "\n",
        "http://www.kommersant.ru/doc/2519780"
       ]
      },
      {
       "output_type": "stream",
       "stream": "stdout",
       "text": [
        "\n",
        "http://www.Masrawy.com/news/egypt/politics/2014/july/9/5938496.aspx"
       ]
      },
      {
       "output_type": "stream",
       "stream": "stdout",
       "text": [
        "\n",
        "http://hawadeth.akhbarelyom.com/news/newdetails/198615/4/\u0644\u064a\u0644\u0629-\u0631\u0639\u0628-\u0641\u0649-\u063a\u0632\u0629-\u0628\u0639\u062f-\u062a\u0639\u0631\u0636\u0647\u0627-\u0644\u0623\u0639\u0646\u0641-\u0642\u0635\u0641-\u0627\u0633\u0631\u0627\u0626\u064a\u0644\u0649-\u0645\u0646\u0630-\u0639\u0627\u0645\u064a\u0646-.html"
       ]
      },
      {
       "output_type": "stream",
       "stream": "stdout",
       "text": [
        "\n",
        "http://www.albawabhnews.com/679676"
       ]
      },
      {
       "output_type": "stream",
       "stream": "stdout",
       "text": [
        "\n",
        "http://www.shorouknews.com/news/view.aspx?cdate=15072014&id=9c9dea1a-c956-4268-a393-1453bed06133"
       ]
      },
      {
       "output_type": "stream",
       "stream": "stdout",
       "text": [
        "\n",
        "http://new.elfagr.org/Detail.aspx?nwsId=642599"
       ]
      },
      {
       "output_type": "stream",
       "stream": "stdout",
       "text": [
        "\n",
        "http://news.egypt.com/arabic/permalink/5072973.html"
       ]
      },
      {
       "output_type": "stream",
       "stream": "stdout",
       "text": [
        "\n",
        "http://blogs.browardpalmbeach.com/pulp/2014/07/palm_beach_county_drinking_water_being_flushed_with_chlorine_until_august.php"
       ]
      },
      {
       "output_type": "stream",
       "stream": "stdout",
       "text": [
        "\n",
        "http://lenta.ru/news/2014/07/16/propusk/"
       ]
      },
      {
       "output_type": "stream",
       "stream": "stdout",
       "text": [
        "\n",
        "http://feeds.sun-sentinel.com/~r/sun-sentinel/business/~3/cajZHU8x7S8/story01.htm"
       ]
      },
      {
       "output_type": "stream",
       "stream": "stdout",
       "text": [
        "\n",
        "http://www.kommersant.ru/doc/2527166"
       ]
      },
      {
       "output_type": "stream",
       "stream": "stdout",
       "text": [
        "\n",
        "http://almashhad.net/Articles/766465.aspx"
       ]
      },
      {
       "output_type": "stream",
       "stream": "stdout",
       "text": [
        "\n",
        "http://www.dailymail.co.uk/news/article-2696742/Lord-Lloyd-Webber-took-steps-join-Dignitas-Composer-says-considered-ending-life-pain-series-operations.html?ITO=1490&ns_mchannel=rss&ns_campaign=1490"
       ]
      },
      {
       "output_type": "stream",
       "stream": "stdout",
       "text": [
        "\n",
        "http://www.garidaty.net/sport-news/2014/56354.html"
       ]
      },
      {
       "output_type": "stream",
       "stream": "stdout",
       "text": [
        "\n",
        "http://bizbeatblog.dallasnews.com/2014/07/omnitracs-will-move-headquarters-from-san-diego-to-dallas-generating-450-jobs.html/"
       ]
      },
      {
       "output_type": "stream",
       "stream": "stdout",
       "text": [
        "\n",
        "http://www.ntv.ru/novosti/1147616/"
       ]
      },
      {
       "output_type": "stream",
       "stream": "stdout",
       "text": [
        "\n",
        "http://www.novayagazeta.ru/politics/64512.html"
       ]
      },
      {
       "output_type": "stream",
       "stream": "stdout",
       "text": [
        "\n",
        "http://blogtown.portlandmercury.com/BlogtownPDX/archives/2014/07/21/burger-week-is-coming-aug-11-17th"
       ]
      },
      {
       "output_type": "stream",
       "stream": "stdout",
       "text": [
        "\n",
        "http://www.miamiherald.com/2014/07/22/4248589/harley-davidson-2q-profit-rises.html"
       ]
      },
      {
       "output_type": "stream",
       "stream": "stdout",
       "text": [
        "\n",
        "http://wadymasr.com/2014/07/22/1333166.html"
       ]
      },
      {
       "output_type": "stream",
       "stream": "stdout",
       "text": [
        "\n",
        "http://lenta.ru/news/2014/07/22/surkis/"
       ]
      },
      {
       "output_type": "stream",
       "stream": "stdout",
       "text": [
        "\n",
        "http://www.dallasnews.com/opinion/latest-columns/20140721-architects-building-trinity-tollway-would-pass-a-mess-to-our-grandkids.ece"
       ]
      },
      {
       "output_type": "stream",
       "stream": "stdout",
       "text": [
        "\n",
        "http://www.novayagazeta.ru/arts/64542.html"
       ]
      },
      {
       "output_type": "stream",
       "stream": "stdout",
       "text": [
        "\n",
        "http://onaeg.com/?p=1810621"
       ]
      },
      {
       "output_type": "stream",
       "stream": "stdout",
       "text": [
        "\n",
        "http://feeds.nbcnews.com/c/35002/f/663306/s/3cc8a54a/sc/8/l/0L0Snbcnews0N0Cnews0Cus0Enews0Cflight0Ediverted0Eafter0Ereports0Esmoke0Eboard0En16280A6/story01.htm"
       ]
      },
      {
       "output_type": "stream",
       "stream": "stdout",
       "text": [
        "\n",
        "http://feeds.sun-sentinel.com/~r/sun-sentinel/news/education/~3/Iz6ahVX6vmw/story01.htm"
       ]
      },
      {
       "output_type": "stream",
       "stream": "stdout",
       "text": [
        "\n",
        "http://www.gazeta.ru/realty/news/2014/07/23_n_6334793.shtml"
       ]
      },
      {
       "output_type": "stream",
       "stream": "stdout",
       "text": [
        "\n",
        "http://www.gazeta.ru/politics/news/2014/07/23/n_6334985.shtml"
       ]
      },
      {
       "output_type": "stream",
       "stream": "stdout",
       "text": [
        "\n",
        "http://www.gazeta.ru/social/news/2014/07/23/n_6335641.shtml"
       ]
      },
      {
       "output_type": "stream",
       "stream": "stdout",
       "text": [
        "\n",
        "http://echo.msk.ru/blog/zubov_v/1366100-echo/"
       ]
      },
      {
       "output_type": "stream",
       "stream": "stdout",
       "text": [
        "\n",
        "http://feeds.voices.washingtonpost.com/c/34656/f/636688/s/3cd48157/sc/7/l/0L0Swashingtonpost0N0Cblogs0Cthe0Efix0Cwp0C20A140C0A70C240Cpresident0Eobama0Eisnt0Eon0Ethe0Eballot0Ethis0Efall0Ebut0Eactually0Ehe0Ekind0Eof0Eis0Eand0Ethats0Ebad0Enews0Efor0Edemocrats0C/story01.htm"
       ]
      },
      {
       "output_type": "stream",
       "stream": "stdout",
       "text": [
        "\n",
        "http://www.ntv.ru/novosti/1157536/"
       ]
      },
      {
       "output_type": "stream",
       "stream": "stdout",
       "text": [
        "\n",
        "http://www.aljazeera.net/news/ebusiness/2014/7/25/\u0627\u0644\u0646\u0642\u062f-\u0627\u0644\u062f\u0648\u0644\u064a-\u062e\u0633\u0627\u0626\u0631-\u0627\u0642\u062a\u0635\u0627\u062f\u064a\u0629-\u0644\u0625\u0633\u0631\u0627\u0626\u064a\u0644-\u062c\u0631\u0627\u0621-\u0627\u0644\u062d\u0631\u0628-\u0639\u0644\u0649-\u063a\u0632\u0629"
       ]
      },
      {
       "output_type": "stream",
       "stream": "stdout",
       "text": [
        "\n",
        "http://www.kommersant.ru/doc/2532244"
       ]
      },
      {
       "output_type": "stream",
       "stream": "stdout",
       "text": [
        "\n",
        "http://www.el-balad.com/1069922"
       ]
      },
      {
       "output_type": "stream",
       "stream": "stdout",
       "text": [
        "\n",
        "http://www.vedomosti.ru/accidents/news/29494021/mer-kremenchuga-ubit-u-svoego-doma-vystrelom-v-grud"
       ]
      },
      {
       "output_type": "stream",
       "stream": "stdout",
       "text": [
        "\n",
        "http://www.star-telegram.com/2014/07/26/5997525/lawmakers-complain-obama-too-aloof.html"
       ]
      },
      {
       "output_type": "stream",
       "stream": "stdout",
       "text": [
        "\n",
        "http://www.kommersant.ru/doc/2519497"
       ]
      },
      {
       "output_type": "stream",
       "stream": "stdout",
       "text": [
        "\n",
        "http://www.kommersant.ru/doc/2534204"
       ]
      },
      {
       "output_type": "stream",
       "stream": "stdout",
       "text": [
        "\n",
        "http://trailblazersblog.dallasnews.com/2014/07/van-de-putte-proposes-five-debates-in-lieutenant-governors-race.html/"
       ]
      },
      {
       "output_type": "stream",
       "stream": "stdout",
       "text": [
        "\n",
        "http://artsblog.dallasnews.com/2014/07/book-of-mormon-booked-at-bass-hall-for-2015-2016-season.html/"
       ]
      },
      {
       "output_type": "stream",
       "stream": "stdout",
       "text": [
        "\n",
        "http://www.january-25.org/post.aspx?k=502107"
       ]
      },
      {
       "output_type": "stream",
       "stream": "stdout",
       "text": [
        "\n",
        "http://www.examiner.com/article/kohl-s-one-day-sale-is-wednesday-july-30?cid=rss"
       ]
      },
      {
       "output_type": "stream",
       "stream": "stdout",
       "text": [
        "\n",
        "http://www.kommersant.ru/doc/2535992"
       ]
      },
      {
       "output_type": "stream",
       "stream": "stdout",
       "text": [
        "\n",
        "http://www.gazeta.ru/business/2014/07/31/6152645.shtml"
       ]
      },
      {
       "output_type": "stream",
       "stream": "stdout",
       "text": [
        "\n",
        "http://www.alnaharegypt.com/t~232705"
       ]
      },
      {
       "output_type": "stream",
       "stream": "stdout",
       "text": [
        "\n",
        "http://www.gazeta.ru/politics/news/2014/08/01/n_6358241.shtml"
       ]
      },
      {
       "output_type": "stream",
       "stream": "stdout",
       "text": [
        "\n",
        "http://echo.msk.ru/blog/cechoev/1371054-echo/"
       ]
      },
      {
       "output_type": "stream",
       "stream": "stdout",
       "text": [
        "\n",
        "http://almashhad.net/Articles/785918.aspx"
       ]
      },
      {
       "output_type": "stream",
       "stream": "stdout",
       "text": [
        "\n",
        "http://www.mobtada.com/news_details.php?ID=218432"
       ]
      },
      {
       "output_type": "stream",
       "stream": "stdout",
       "text": [
        "\n",
        "http://www.copts-united.com/Article.php?I=1981&A=2836"
       ]
      },
      {
       "output_type": "stream",
       "stream": "stdout",
       "text": [
        "\n",
        "http://www.vetogate.com/1151275"
       ]
      },
      {
       "output_type": "stream",
       "stream": "stdout",
       "text": [
        "\n",
        "http://www.forbes.com/sites/robasghar/2014/08/04/office-politics-the-5-key-blunders/"
       ]
      },
      {
       "output_type": "stream",
       "stream": "stdout",
       "text": [
        "\n",
        "http://www.sfgate.com/news/article/Corbett-GOP-leaders-meet-on-Philly-school-funding-5666989.php"
       ]
      },
      {
       "output_type": "stream",
       "stream": "stdout",
       "text": [
        "\n",
        "http://telegraph.feedsportal.com/c/32726/f/564430/s/3d323914/sc/10/l/0L0Stelegraph0O0Ctravel0Cdestinations0Casia0Csingapore0C110A128740CSingapore0EAirport0Ereveals0Enew0Eredesign0Eplans0Bhtml/story01.htm"
       ]
      },
      {
       "output_type": "stream",
       "stream": "stdout",
       "text": [
        "\n",
        "http://www.copts-united.com/Article.php?I=1984&A=165344"
       ]
      },
      {
       "output_type": "stream",
       "stream": "stdout",
       "text": [
        "\n",
        "http://echo.msk.ru/blog/yakovina_i/1375310-echo/"
       ]
      },
      {
       "output_type": "stream",
       "stream": "stdout",
       "text": [
        "\n",
        "http://www.novayagazeta.ru/tv/topics/64749.html"
       ]
      },
      {
       "output_type": "stream",
       "stream": "stdout",
       "text": [
        "\n",
        "http://www.vedomosti.ru/politics/news/31899201/supersud-nachal-rabotu"
       ]
      },
      {
       "output_type": "stream",
       "stream": "stdout",
       "text": [
        "\n",
        "http://www.local10.com/news/1-injured-in-oakland-park-warehouse-fire/27375078"
       ]
      },
      {
       "output_type": "stream",
       "stream": "stdout",
       "text": [
        "\n",
        "http://rss.nytimes.com/c/34625/f/640311/s/3d53834f/sc/18/l/0L0Snytimes0N0C20A140C0A80C0A90Cautomobiles0Cvideo0Ethe0Ebmw0E435i0Eis0Ea0Eray0Eof0Esunshine0Efor0Ea0Eprice0Bhtml0Dpartner0Frss0Gemc0Frss/story01.htm"
       ]
      },
      {
       "output_type": "stream",
       "stream": "stdout",
       "text": [
        "\n",
        "http://www.bellinghamherald.com/2014/08/08/3791912/us-return-to-war-in-iraq-makes.html#storylink=rss"
       ]
      },
      {
       "output_type": "stream",
       "stream": "stdout",
       "text": [
        "\n",
        "http://www.miamiherald.com/2014/08/09/4277096/its-deal-time-in-the-caribbean.html"
       ]
      },
      {
       "output_type": "stream",
       "stream": "stdout",
       "text": [
        "\n",
        "http://feeds.latimes.com/~r/OpinionLa/~3/Ht6iOeiL2EM/la-na-missouri-grandson-dead-shot-by-police-20140809-story.html"
       ]
      },
      {
       "output_type": "stream",
       "stream": "stdout",
       "text": [
        "\n",
        "http://www.kommersant.ru/doc/2542753"
       ]
      },
      {
       "output_type": "stream",
       "stream": "stdout",
       "text": [
        "\n",
        "http://www.alamatonline.net/l3.php?id=111208"
       ]
      },
      {
       "output_type": "stream",
       "stream": "stdout",
       "text": [
        "\n",
        "http://echo.msk.ru/blog/novaya_gazeta/1377698-echo/"
       ]
      },
      {
       "output_type": "stream",
       "stream": "stdout",
       "text": [
        "\n",
        "http://almashhad.net/Articles/798367.aspx"
       ]
      },
      {
       "output_type": "stream",
       "stream": "stdout",
       "text": [
        "\n",
        "http://www.gazeta.ru/social/news/2014/08/12/n_6387877.shtml"
       ]
      },
      {
       "output_type": "stream",
       "stream": "stdout",
       "text": [
        "\n",
        "http://www.kommersant.ru/doc/2543798"
       ]
      },
      {
       "output_type": "stream",
       "stream": "stdout",
       "text": [
        "\n",
        "http://www.miamiherald.com/2014/08/12/4285217/toronto-blue-jays-63-57-at-seattle.html"
       ]
      },
      {
       "output_type": "stream",
       "stream": "stdout",
       "text": [
        "\n",
        "http://www.copts-united.com/Article.php?I=1990&A=148463"
       ]
      },
      {
       "output_type": "stream",
       "stream": "stdout",
       "text": [
        "\n",
        "http://www.el-balad.com/1096732"
       ]
      },
      {
       "output_type": "stream",
       "stream": "stdout",
       "text": [
        "\n",
        "http://new.elfagr.org/Detail.aspx?nwsId=664336"
       ]
      },
      {
       "output_type": "stream",
       "stream": "stdout",
       "text": [
        "\n",
        "http://www.riverfronttimes.com/2014-08-14/film/robin-williams-could-always-find-the-raw-seriousness-in-his-comedy/"
       ]
      },
      {
       "output_type": "stream",
       "stream": "stdout",
       "text": [
        "\n",
        "http://www.kommersant.ru/doc/2547213"
       ]
      },
      {
       "output_type": "stream",
       "stream": "stdout",
       "text": [
        "\n",
        "http://www.gazeta.ru/politics/news/2014/08/18/n_6402749.shtml"
       ]
      },
      {
       "output_type": "stream",
       "stream": "stdout",
       "text": [
        "\n",
        "http://feeds.boston.com/c/35022/f/646951/s/3d9736bc/sc/38/l/0L0Sboston0N0Cnews0Cworld0Clatin0Eamerica0C20A140C0A80C170Cbolivian0Epriest0Eblesses0Ebeloved0Epups0CLbLvEqJkEQg81T15FE0AkCO0Cvideo0Bhtml/story01.htm"
       ]
      },
      {
       "output_type": "stream",
       "stream": "stdout",
       "text": [
        "\n",
        "http://www.kommersant.ru/doc/2547980"
       ]
      },
      {
       "output_type": "stream",
       "stream": "stdout",
       "text": [
        "\n",
        "http://www.ntv.ru/novosti/1198976/"
       ]
      },
      {
       "output_type": "stream",
       "stream": "stdout",
       "text": [
        "\n",
        "http://www.vedomosti.ru/finance/news/32300301/vvp-rossii-v-i-polugodii-vyros-na-08"
       ]
      },
      {
       "output_type": "stream",
       "stream": "stdout",
       "text": [
        "\n",
        "http://www.alwafd.org/\u062b\u0642\u0627\u0641\u0629-\u0648\u0641\u0646/726446-\u0645\u062d\u0645\u062f-\u0648\u0641\u064a\u0642-\u0642\u0627\u062f\u0631-\u0639\u0644\u0649-\u0627\u0644\u0639\u0637\u0627\u0621-\u0648\u0645\u062a\u0641\u0627\u0626\u0644-\u0628\u0627\u0644\u0645\u0633\u062a\u0642\u0628\u0644"
       ]
      },
      {
       "output_type": "stream",
       "stream": "stdout",
       "text": [
        "\n",
        "http://www.dailymail.co.uk/sport/football/article-2729373/Real-Madrid-1-1-Atletico-Madrid-James-Rodriguez-scores-goal-60million-Raul-Garcia-equalises-late-concern-Cristiano-Ronaldo-substituted-half-time.html?ITO=1490&ns_mchannel=rss&ns_campaign=1490"
       ]
      },
      {
       "output_type": "stream",
       "stream": "stdout",
       "text": [
        "\n",
        "http://www.nytimes.com/2014/08/20/nyregion/de-blasio-encounters-rising-friction-over-liberal-expectations.html?partner=rssnyt&emc=rss"
       ]
      },
      {
       "output_type": "stream",
       "stream": "stdout",
       "text": [
        "\n",
        "http://www.miamiherald.com/2014/08/20/4299256/judge-finds-firm-discriminated.html"
       ]
      },
      {
       "output_type": "stream",
       "stream": "stdout",
       "text": [
        "\n",
        "http://feeds.foxnews.com/~r/foxnews/national/~3/203o43yP_xY/"
       ]
      },
      {
       "output_type": "stream",
       "stream": "stdout",
       "text": [
        "\n",
        "http://feeds.nydailynews.com/~r/nydnrss/sports/basketball/nets/~3/AjM0kNftSdc/iraq-suicide-bombing-kills-12-people-article-1.1915746"
       ]
      },
      {
       "output_type": "stream",
       "stream": "stdout",
       "text": [
        "\n",
        "http://www.bbc.co.uk/arabic/multimedia/2014/08/140825_sudan_noba_celebration_indigenous_peoples.shtml"
       ]
      },
      {
       "output_type": "stream",
       "stream": "stdout",
       "text": [
        "\n",
        "http://arabic.rt.com/news/756020-%D8%AC%D9%86%D8%A7%D8%B2%D8%A9-%D9%82%D8%AA%D9%84-%D8%A3%D9%85%D8%B1%D9%8A%D9%83%D9%8A-%D8%B4%D8%B1%D8%B7%D9%8A/"
       ]
      },
      {
       "output_type": "stream",
       "stream": "stdout",
       "text": [
        "\n",
        "http://rssfeeds.usatoday.com/~/73053146/0/usatoday-newstopstories~Cobras-severed-head-bites-kills-chef/"
       ]
      },
      {
       "output_type": "stream",
       "stream": "stdout",
       "text": [
        "\n",
        "http://www.kommersant.ru/doc/2554301"
       ]
      },
      {
       "output_type": "stream",
       "stream": "stdout",
       "text": [
        "\n",
        "http://ikhwanwiki.com/index.php?title=%D9%85%D8%B3%D8%AA%D8%AE%D8%AF%D9%85:BucciTurnbow552&diff=1277541&oldid=prev"
       ]
      },
      {
       "output_type": "stream",
       "stream": "stdout",
       "text": [
        "\n",
        "http://news.egypt.com/arabic/permalink/5141822.html"
       ]
      },
      {
       "output_type": "stream",
       "stream": "stdout",
       "text": [
        "\n",
        "http://www.garidaty.net/art/2014/72282.html"
       ]
      },
      {
       "output_type": "stream",
       "stream": "stdout",
       "text": [
        "\n",
        "http://www.gazeta.ru/sport/2014/08/28/a_6192957.shtml"
       ]
      },
      {
       "output_type": "stream",
       "stream": "stdout",
       "text": [
        "\n",
        "http://www.vedomosti.ru/politics/news/32733701/v-sovbeze-oon-zablokirovali-predlozhennoe-rf-zayavlenie-o"
       ]
      },
      {
       "output_type": "stream",
       "stream": "stdout",
       "text": [
        "\n",
        "http://www.copts-united.com/Article.php?I=2007&A=8330"
       ]
      },
      {
       "output_type": "stream",
       "stream": "stdout",
       "text": [
        "\n",
        "http://www.examiner.com/article/longer-prison-sentences-leads-to-crippled-society?cid=rss"
       ]
      },
      {
       "output_type": "stream",
       "stream": "stdout",
       "text": [
        "\n",
        "http://lenta.ru/news/2014/09/02/tennis1/"
       ]
      },
      {
       "output_type": "stream",
       "stream": "stdout",
       "text": [
        "\n",
        "http://lenta.ru/news/2014/09/03/trierweiler/"
       ]
      },
      {
       "output_type": "stream",
       "stream": "stdout",
       "text": [
        "\n",
        "http://www.ntv.ru/novosti/1206719/"
       ]
      },
      {
       "output_type": "stream",
       "stream": "stdout",
       "text": [
        "\n",
        "http://www.aljazeera.net/news/arabic/2014/9/4/\u0642\u0635\u0641-\u0625\u0633\u0631\u0627\u0626\u064a\u0644\u064a-\u0645\u0648\u0627\u0642\u0639-\u0633\u0648\u0631\u064a\u0629-\u0648\u0645\u0639\u0627\u0631\u0643-\u0637\u0627\u062d\u0646\u0629-\u0628\u0627\u0644\u0642\u0646\u064a\u0637\u0631\u0629"
       ]
      },
      {
       "output_type": "stream",
       "stream": "stdout",
       "text": [
        "\n",
        "http://www.albawabhnews.com/771575"
       ]
      },
      {
       "output_type": "stream",
       "stream": "stdout",
       "text": [
        "\n",
        "http://lenta.ru/news/2014/09/05/mult/"
       ]
      },
      {
       "output_type": "stream",
       "stream": "stdout",
       "text": [
        "\n",
        "http://www.sfgate.com/news/politics/article/Obama-US-hopeful-skeptical-on-Ukraine-cease-fire-5736078.php"
       ]
      },
      {
       "output_type": "stream",
       "stream": "stdout",
       "text": [
        "\n",
        "http://feedproxy.google.com/~r/flint_journal_sports/~3/_7G0YEYjM1U/seventh-inning_stretch_giants.html"
       ]
      },
      {
       "output_type": "stream",
       "stream": "stdout",
       "text": [
        "\n",
        "http://www.examiner.com/article/weather-history-september-7-record-temps-storms-wind-snow-hail-floods?cid=rss"
       ]
      },
      {
       "output_type": "stream",
       "stream": "stdout",
       "text": [
        "\n",
        "http://hawadeth.akhbarelyom.com/news/newdetails/206776/4/\u0631\u0626\u064a\u0633-\u0627\u0644\u0628\u0631\u0644\u0645\u0627\u0646-\u0627\u0644\u0639\u0631\u0628\u064a-\u062e\u0637\u0648\u0631\u0629-\u0627\u0644\u0623\u0639\u0645\u0627\u0644-\u0627\u0644\u0625\u0631\u0647\u0627\u0628\u064a\u0629-\u0627\u0644\u0645\u062a\u0632\u0627\u064a\u062f\u0629-\u0641\u064a-\u0627\u0644\u0645\u0646\u0637\u0642\u0629-\u0627\u0644\u0639\u0631\u0628\u064a\u0629-\u062a\u0647\u062f\u062f-\u0627\u0645\u0646\u0647\u0627.html"
       ]
      },
      {
       "output_type": "stream",
       "stream": "stdout",
       "text": [
        "\n",
        "http://www.star-telegram.com/2014/09/08/6101083/survey-of-company-execs-us-pay.html"
       ]
      },
      {
       "output_type": "stream",
       "stream": "stdout",
       "text": [
        "\n",
        "http://www.bbc.co.uk/news/world-africa-29115131#sa-ns_mchannel=rss&ns_source=PublicRSS20-sa"
       ]
      },
      {
       "output_type": "stream",
       "stream": "stdout",
       "text": [
        "\n",
        "http://www.ntv.ru/novosti/1210696/"
       ]
      },
      {
       "output_type": "stream",
       "stream": "stdout",
       "text": [
        "\n",
        "http://dostorasly.com//news/view.aspx?cdate=10092014&id=06245bb7-a46e-4221-b521-af6f604c4483"
       ]
      },
      {
       "output_type": "stream",
       "stream": "stdout",
       "text": [
        "\n",
        "http://www.ntv.ru/novosti/1211096/"
       ]
      },
      {
       "output_type": "stream",
       "stream": "stdout",
       "text": [
        "\n",
        "http://www.theguardian.com/uk-news/shortcuts/2014/sep/10/redcar-tweeting-rude-swear-on-twitter"
       ]
      },
      {
       "output_type": "stream",
       "stream": "stdout",
       "text": [
        "\n",
        "http://www.bbc.co.uk/news/uk-northern-ireland-29148683#sa-ns_mchannel=rss&ns_source=PublicRSS20-sa"
       ]
      },
      {
       "output_type": "stream",
       "stream": "stdout",
       "text": [
        "\n",
        "http://echo.msk.ru/blog/krozhkov/1398594-echo/"
       ]
      },
      {
       "output_type": "stream",
       "stream": "stdout",
       "text": [
        "\n",
        "http://highschoolsports.cleveland.com/news/article/-7671717415577851655/chardon-football-seniors-lead-community-forward-defeat-canton-south-40-20-slideshow-video-audio/"
       ]
      },
      {
       "output_type": "stream",
       "stream": "stdout",
       "text": [
        "\n",
        "http://www.svoboda.org/content/article/26581755.html"
       ]
      },
      {
       "output_type": "stream",
       "stream": "stdout",
       "text": [
        "\n",
        "http://www.gazeta.ru/social/news/2014/09/14/n_6477161.shtml"
       ]
      },
      {
       "output_type": "stream",
       "stream": "stdout",
       "text": [
        "\n",
        "http://feeds.latimes.com/~r/latimes/sports/hockey/nhl/kings/~3/aFEK1i3gW3E/la-sp-angels-astros-box-20140914-story.html"
       ]
      },
      {
       "output_type": "stream",
       "stream": "stdout",
       "text": [
        "\n",
        "http://www.ntv.ru/novosti/1214163/"
       ]
      },
      {
       "output_type": "stream",
       "stream": "stdout",
       "text": [
        "\n",
        "http://almashhad.net/Articles/837186.aspx"
       ]
      },
      {
       "output_type": "stream",
       "stream": "stdout",
       "text": [
        "\n",
        "http://www.svoboda.org/content/article/26585524.html"
       ]
      },
      {
       "output_type": "stream",
       "stream": "stdout",
       "text": [
        "\n",
        "http://www.miamiherald.com/2014/09/15/4350794/catching-up-with-former-northwestern.html"
       ]
      },
      {
       "output_type": "stream",
       "stream": "stdout",
       "text": [
        "\n",
        "http://www.copts-united.com/Article.php?I=2024&A=168210"
       ]
      },
      {
       "output_type": "stream",
       "stream": "stdout",
       "text": [
        "\n",
        "http://www.gazeta.ru/business/news/2014/09/16/n_6483729.shtml"
       ]
      },
      {
       "output_type": "stream",
       "stream": "stdout",
       "text": [
        "\n",
        "http://www.local10.com/news/money/nfl-scores-huge-ratings-despite-scandals/28090120"
       ]
      },
      {
       "output_type": "stream",
       "stream": "stdout",
       "text": [
        "\n",
        "http://www.gazeta.ru/social/news/2014/09/17/n_6485133.shtml"
       ]
      },
      {
       "output_type": "stream",
       "stream": "stdout",
       "text": [
        "\n",
        "http://news.egypt.com/arabic/permalink/5165149.html"
       ]
      },
      {
       "output_type": "stream",
       "stream": "stdout",
       "text": [
        "\n",
        "http://lenta.ru/news/2014/09/17/shohinprivat/"
       ]
      },
      {
       "output_type": "stream",
       "stream": "stdout",
       "text": [
        "\n",
        "http://www.dailymail.co.uk/news/article-2761184/Jackie-Kennedy-suicidal-death-JFK-asked-priest-meet-heaven-took-life.html?ITO=1490&ns_mchannel=rss&ns_campaign=1490"
       ]
      },
      {
       "output_type": "stream",
       "stream": "stdout",
       "text": [
        "\n",
        "http://www.january-25.org/post.aspx?k=520926"
       ]
      },
      {
       "output_type": "stream",
       "stream": "stdout",
       "text": [
        "\n",
        "http://www.dailymail.co.uk/tvshowbiz/article-2761970/From-one-extreme-Lady-Gaga-wears-headscarf-gloves-length-gown-stepping-bra-thong.html?ITO=1490&ns_mchannel=rss&ns_campaign=1490"
       ]
      },
      {
       "output_type": "stream",
       "stream": "stdout",
       "text": [
        "\n",
        "http://lenta.ru/news/2014/09/19/klichko1/"
       ]
      },
      {
       "output_type": "stream",
       "stream": "stdout",
       "text": [
        "\n",
        "http://ikhwanwiki.com/index.php?title=Ostro%C5%82%C4%99ka_Nauka_jazdy&diff=1325808&oldid=prev"
       ]
      },
      {
       "output_type": "stream",
       "stream": "stdout",
       "text": [
        "\n",
        "http://hawadeth.akhbarelyom.com/news/newdetails/209209/4/--\u062f\u0639\u0648\u064a-\u062d\u0638\u0631-\u0634\u0631\u0627\u0621-\u0634\u0647\u0627\u062f\u0627\u062a-\u0627\u0633\u062a\u062b\u0645\u0627\u0631-\u0642\u0646\u0627\u0629-\u0627\u0644\u0633\u0648\u064a\u0633-\u0644\u062c\u0644\u0633\u0629-13-\u0623\u0643\u062a\u0648\u0628\u0631.html"
       ]
      },
      {
       "output_type": "stream",
       "stream": "stdout",
       "text": [
        "\n",
        "http://www.vetogate.com/1239349"
       ]
      },
      {
       "output_type": "stream",
       "stream": "stdout",
       "text": [
        "\n",
        "http://wadymasr.com/2014/09/23/1569186.html"
       ]
      },
      {
       "output_type": "stream",
       "stream": "stdout",
       "text": [
        "\n",
        "http://www.ntv.ru/novosti/1219877/"
       ]
      },
      {
       "output_type": "stream",
       "stream": "stdout",
       "text": [
        "\n",
        "http://www.shorouknews.com/news/view.aspx?cdate=23092014&id=00c30462-1c0c-4c44-8def-82ea16b4f8d3"
       ]
      },
      {
       "output_type": "stream",
       "stream": "stdout",
       "text": [
        "\n",
        "http://www.dailymail.co.uk/tvshowbiz/article-2766859/Lana-del-Rey-laughs-cheating-rumours-steps-boyfriend-Francesco-Carrozzini.html?ITO=1490&ns_mchannel=rss&ns_campaign=1490"
       ]
      },
      {
       "output_type": "stream",
       "stream": "stdout",
       "text": [
        "\n",
        "http://www.kommersant.ru/doc/2573828"
       ]
      },
      {
       "output_type": "stream",
       "stream": "stdout",
       "text": [
        "\n",
        "http://www.misr5.com/231406/%d8%ae%d8%b7%d9%88%d8%a7%d8%aa-%d8%aa%d8%b3%d8%ac%d9%8a%d9%84-%d8%a7%d9%84%d8%aa%d8%ad%d9%88%d9%8a%d9%84-%d8%aa%d9%86%d8%b3%d9%8a%d9%82-%d8%a7%d9%84%d8%a7%d8%b2%d9%87%d8%b1/"
       ]
      },
      {
       "output_type": "stream",
       "stream": "stdout",
       "text": [
        "\n",
        "http://www.vedomosti.ru/companies/news/33871431/platnyj-vezd-v-moskvu-vvodit-ne-planiruetsya-departament"
       ]
      },
      {
       "output_type": "stream",
       "stream": "stdout",
       "text": [
        "\n",
        "http://www.vetogate.com/1244003"
       ]
      },
      {
       "output_type": "stream",
       "stream": "stdout",
       "text": [
        "\n",
        "http://www.dailymail.co.uk/news/article-2769453/Fox-News-host-s-sexist-joke-female-pilot-bombed-ISIS-Would-considered-boobs-ground.html?ITO=1490&ns_mchannel=rss&ns_campaign=1490"
       ]
      },
      {
       "output_type": "stream",
       "stream": "stdout",
       "text": [
        "\n",
        "http://feedproxy.google.com/~r/oak_business_review/~3/cd8_TS9-WBc/sonja_wood_named_michigans_fin.html"
       ]
      },
      {
       "output_type": "stream",
       "stream": "stdout",
       "text": [
        "\n",
        "http://www.altaly3anews.com/archives/73935"
       ]
      },
      {
       "output_type": "stream",
       "stream": "stdout",
       "text": [
        "\n",
        "http://www.masrawy.com/News/News_Egypt/details/2014/9/25/353731/%D9%88%D8%B2%D9%8A%D8%B1-%D8%A7%D9%84%D8%B9%D8%AF%D8%A7%D9%84%D8%A9-%D8%A7%D9%84%D8%A7%D9%86%D8%AA%D9%82%D8%A7%D9%84%D9%8A%D8%A9-%D9%8A%D9%84%D8%AA%D9%82%D9%89-%D9%88%D9%81%D8%AF%D8%A7-%D9%85%D9%86-%D8%A3%D9%87%D8%A7%D9%84%D9%8A-%D8%A7%D9%84%D9%86%D9%88%D8%A8%D8%A9"
       ]
      },
      {
       "output_type": "stream",
       "stream": "stdout",
       "text": [
        "\n",
        "http://elbashayeronline.com/news-416800.html"
       ]
      },
      {
       "output_type": "stream",
       "stream": "stdout",
       "text": [
        "\n",
        "http://www.kommersant.ru/doc/2577461"
       ]
      },
      {
       "output_type": "stream",
       "stream": "stdout",
       "text": [
        "\n",
        "http://www.gazeta.ru/social/news/2014/09/27/n_6513853.shtml"
       ]
      },
      {
       "output_type": "stream",
       "stream": "stdout",
       "text": [
        "\n",
        "http://www.ismailiaonline.com/pages.php?option=browse&id=235578"
       ]
      },
      {
       "output_type": "stream",
       "stream": "stdout",
       "text": [
        "\n",
        "http://www.kommersant.ru/doc/2577982"
       ]
      },
      {
       "output_type": "stream",
       "stream": "stdout",
       "text": [
        "\n",
        "http://www.kommersant.ru/doc/2578277"
       ]
      },
      {
       "output_type": "stream",
       "stream": "stdout",
       "text": [
        "\n",
        "http://nypost.com/2014/09/30/new-afghan-president-snubs-taliban-leader-in-proposed-peace-talks/"
       ]
      },
      {
       "output_type": "stream",
       "stream": "stdout",
       "text": [
        "\n",
        "http://rss.nytimes.com/c/34625/f/640370/s/3efec1d7/sc/7/l/0L0Snytimes0N0C20A140C10A0C0A10Copinion0Cthe0Edestruction0Eof0Emecca0Bhtml0Dpartner0Frss0Gemc0Frss/story01.htm"
       ]
      },
      {
       "output_type": "stream",
       "stream": "stdout",
       "text": [
        "\n",
        "http://www.washingtonmonthly.com/political-animal-a/2014_10/will_gopers_blow_up_the_world052678.php"
       ]
      },
      {
       "output_type": "stream",
       "stream": "stdout",
       "text": [
        "\n",
        "http://www.nhinsider.com/press-releases/2014/10/28/brown-for-us-senate-scott-brown-we-have-an-opportunity-to-ch.html"
       ]
      },
      {
       "output_type": "stream",
       "stream": "stdout",
       "text": [
        "\n",
        "http://www.nhinsider.com/press-releases/2014/10/28/nhdp-statement-on-last-nights-nh-01-granite-state-debate.html"
       ]
      },
      {
       "output_type": "stream",
       "stream": "stdout",
       "text": [
        "\n",
        "http://www.blogforiowa.com/2014/10/28/ernst-disrespects-iowa-by-refusing-local-newspaper-interviews/"
       ]
      },
      {
       "output_type": "stream",
       "stream": "stdout",
       "text": [
        "\n",
        "http://time.com/3543663/internet-education-upenn-college/"
       ]
      },
      {
       "output_type": "stream",
       "stream": "stdout",
       "text": [
        "\n",
        "http://mideastafrica.foreignpolicy.com/posts/2014/10/28/ennahda_concedes_to_nidaa_tounes_in_tunisia_s_elections"
       ]
      },
      {
       "output_type": "stream",
       "stream": "stdout",
       "text": [
        "\n",
        "http://feedproxy.google.com/~r/andrewsullivan/rApM/~3/DjcPfLV2G_0/"
       ]
      },
      {
       "output_type": "stream",
       "stream": "stdout",
       "text": [
        "\n",
        "http://feedproxy.google.com/~r/andrewsullivan/rApM/~3/oqwdRZXG65c/"
       ]
      },
      {
       "output_type": "stream",
       "stream": "stdout",
       "text": [
        "\n",
        "http://coldfury.com/index.php/2014/10/28/the-price-2/"
       ]
      },
      {
       "output_type": "stream",
       "stream": "stdout",
       "text": [
        "\n",
        "http://feedproxy.google.com/~r/reason/HitandRun/~3/zMHunMSMtZc/daniel-payne-on-why-both-the-left-and-ri"
       ]
      },
      {
       "output_type": "stream",
       "stream": "stdout",
       "text": [
        "\n",
        "http://politickernj.com/2014/10/aan-goes-after-belgard-with-broadcast-tv-ad/"
       ]
      },
      {
       "output_type": "stream",
       "stream": "stdout",
       "text": [
        "\n",
        "http://feedproxy.google.com/~r/Americablog/~3/enQlGCwN9Yk/pat-robertson-says-can-get-aids-towel-video.html"
       ]
      },
      {
       "output_type": "stream",
       "stream": "stdout",
       "text": [
        "\n",
        "http://hotair.com/archives/2014/10/28/open-thread-obama-to-deliver-statement-on-ebola-at-255-et/"
       ]
      },
      {
       "output_type": "stream",
       "stream": "stdout",
       "text": [
        "\n",
        "http://littlegreenfootballs.com/article/43992_Jim_Hoft_Repeats_the_Right_Wing_Lie_of_the_Week-_That_Nurse_Kaci_Hickox_Hid_Her_CDC_Job#rss-sm"
       ]
      },
      {
       "output_type": "stream",
       "stream": "stdout",
       "text": [
        "\n",
        "http://transitions.foreignpolicy.com/posts/2014/10/28/turkey_twitter_wars_heat_up"
       ]
      },
      {
       "output_type": "stream",
       "stream": "stdout",
       "text": [
        "\n",
        "http://feeds.dailykos.com/~r/dailykos/index/~3/q8PdcTXzinU/-Midday-open-thread-Ernst-says-no-proven-proof-of-climate-change-gasoline-prices-at-4-year-low"
       ]
      },
      {
       "output_type": "stream",
       "stream": "stdout",
       "text": [
        "\n",
        "http://www.realclearpolitics.com/articles/2014/10/28/an_army_at_dawn_in_the_middle_east_124472.html"
       ]
      },
      {
       "output_type": "stream",
       "stream": "stdout",
       "text": [
        "\n",
        "http://feedproxy.google.com/~r/reason/HitandRun/~3/-GpStGFAbKc/matt-welch-interviews-rand-paul"
       ]
      },
      {
       "output_type": "stream",
       "stream": "stdout",
       "text": [
        "\n",
        "http://www.realclearpolitics.com/2014/10/28/house_democrats_fret_debilitating_losses_344500.html"
       ]
      },
      {
       "output_type": "stream",
       "stream": "stdout",
       "text": [
        "\n",
        "http://www.realclearpolitics.com/2014/10/28/wendy_davis_is_the_todd_akin_of_2014_344534.html"
       ]
      },
      {
       "output_type": "stream",
       "stream": "stdout",
       "text": [
        "\n",
        "http://electionlawblog.org/?p=67506"
       ]
      },
      {
       "output_type": "stream",
       "stream": "stdout",
       "text": [
        "\n",
        "http://feedproxy.google.com/~r/reason/HitandRun/~3/XFMHB8vvq0o/rand-paul-in-2000-end-that-war-on-drugs"
       ]
      },
      {
       "output_type": "stream",
       "stream": "stdout",
       "text": [
        "\n",
        "http://feedproxy.google.com/~r/reason/HitandRun/~3/cdRvdF0iQZU/detroit-cops-with-nothing-better-to-do-c"
       ]
      },
      {
       "output_type": "stream",
       "stream": "stdout",
       "text": [
        "\n",
        "http://feedproxy.google.com/~r/OTB/~3/M0kKDO0spPM/"
       ]
      },
      {
       "output_type": "stream",
       "stream": "stdout",
       "text": [
        "\n",
        "http://www.bradblog.com/?p=10902"
       ]
      },
      {
       "output_type": "stream",
       "stream": "stdout",
       "text": [
        "\n",
        "http://transitions.foreignpolicy.com/posts/2014/10/28/venezuelas_opec_headache"
       ]
      },
      {
       "output_type": "stream",
       "stream": "stdout",
       "text": [
        "\n",
        "http://hotair.com/archives/2014/10/28/teachers-unions-last-chance-to-repopulate-ranks-of-friendly-governors/"
       ]
      },
      {
       "output_type": "stream",
       "stream": "stdout",
       "text": [
        "\n",
        "http://www.washingtonmonthly.com/political-animal-a/2014_10/yes_its_tough_to_be_more_catho052684.php"
       ]
      },
      {
       "output_type": "stream",
       "stream": "stdout",
       "text": [
        "\n",
        "http://bookforum.com/blog/13842"
       ]
      },
      {
       "output_type": "stream",
       "stream": "stdout",
       "text": [
        "\n",
        "http://feedproxy.google.com/~r/TheBigPicture/~3/5W3b-8mT-Zg/"
       ]
      },
      {
       "output_type": "stream",
       "stream": "stdout",
       "text": [
        "\n",
        "http://hotair.com/archives/2014/10/28/powerful-african-american-leaders-question-shun-democratic-monopoly-on-black-vote/"
       ]
      },
      {
       "output_type": "stream",
       "stream": "stdout",
       "text": [
        "\n",
        "http://feedproxy.google.com/~r/reason/HitandRun/~3/OT5WQeIg3BU/rand-paul-libertarianrepublican-probably"
       ]
      },
      {
       "output_type": "stream",
       "stream": "stdout",
       "text": [
        "\n",
        "http://hotair.com/archives/2014/10/28/reporters-in-the-obama-era-basically-living-in-an-episode-of-scandal/"
       ]
      },
      {
       "output_type": "stream",
       "stream": "stdout",
       "text": [
        "\n",
        "http://feeds.dailykos.com/~r/dailykos/index/~3/ooc5cTcRj4A/-Photo-Diary-Saving-the-Senate-in-Pictures"
       ]
      },
      {
       "output_type": "stream",
       "stream": "stdout",
       "text": [
        "\n",
        "http://feedproxy.google.com/~r/pjmedia/instapundit/~3/IowVDKlLu9s/"
       ]
      },
      {
       "output_type": "stream",
       "stream": "stdout",
       "text": [
        "\n",
        "http://feedproxy.google.com/~r/TalkleftThePoliticsOfCrime/~3/Vb6JdpGJBpk/363"
       ]
      },
      {
       "output_type": "stream",
       "stream": "stdout",
       "text": [
        "\n",
        "http://crooksandliars.com/2014/10/jon-stewart-mocks-democrats-not-doing"
       ]
      },
      {
       "output_type": "stream",
       "stream": "stdout",
       "text": [
        "\n",
        "http://www.balloon-juice.com/2014/10/29/late-night-open-thread-rigged/"
       ]
      },
      {
       "output_type": "stream",
       "stream": "stdout",
       "text": [
        "\n",
        "http://feedproxy.google.com/~r/firedoglake/fdl/~3/xuJnv7PeHN4/"
       ]
      },
      {
       "output_type": "stream",
       "stream": "stdout",
       "text": [
        "\n",
        "http://feedproxy.google.com/~r/epfeed/~3/hdFySsqYz8o/election-countdown-6-days-to-go-102914.php"
       ]
      },
      {
       "output_type": "stream",
       "stream": "stdout",
       "text": [
        "\n",
        "http://feedproxy.google.com/~r/OTB/~3/IWlPwnQsl_g/"
       ]
      },
      {
       "output_type": "stream",
       "stream": "stdout",
       "text": [
        "\n",
        "http://prospect.org/article/house-could-get-even-nuttier-after-election-heat-may-be-boehner"
       ]
      },
      {
       "output_type": "stream",
       "stream": "stdout",
       "text": [
        "\n",
        "http://feedproxy.google.com/~r/pjmedia/instapundit/~3/9ZsY-_AgwE4/"
       ]
      },
      {
       "output_type": "stream",
       "stream": "stdout",
       "text": [
        "\n",
        "http://www.cjr.org/review/how_the_first_amendment_applie.php"
       ]
      },
      {
       "output_type": "stream",
       "stream": "stdout",
       "text": [
        "\n",
        "http://prawfsblawg.blogs.com/prawfsblawg/2014/10/tenures-new-normal.html"
       ]
      },
      {
       "output_type": "stream",
       "stream": "stdout",
       "text": [
        "\n",
        "http://feedproxy.google.com/~r/reason/HitandRun/~3/_fOvS8VIQDU/video-8-cops-fire-45-shots-at-1-mentally"
       ]
      },
      {
       "output_type": "stream",
       "stream": "stdout",
       "text": [
        "\n",
        "http://coldfury.com/index.php/2014/10/29/at-the-intersection-of-progressivist-idiocy-and-agw-hysteria/"
       ]
      },
      {
       "output_type": "stream",
       "stream": "stdout",
       "text": [
        "\n",
        "http://feedproxy.google.com/~r/andrewsullivan/rApM/~3/izbhx8QjXFU/"
       ]
      },
      {
       "output_type": "stream",
       "stream": "stdout",
       "text": [
        "\n",
        "http://feedproxy.google.com/~r/pjmedia/instapundit/~3/QgR0Yz2uHgw/"
       ]
      },
      {
       "output_type": "stream",
       "stream": "stdout",
       "text": [
        "\n",
        "http://www.realclearpolitics.com/2014/10/29/mississippi_burned_by_conservatives_344588.html"
       ]
      },
      {
       "output_type": "stream",
       "stream": "stdout",
       "text": [
        "\n",
        "http://www.realclearpolitics.com/2014/10/29/republicans_stoke_false_border_fears_344601.html"
       ]
      },
      {
       "output_type": "stream",
       "stream": "stdout",
       "text": [
        "\n",
        "http://feeds.dailykos.com/~r/dailykos/index/~3/S_6gp9FP5m4/-Nurse-Kaci-Hickox-continues-one-woman-crusade-for-Ebola-nbsp-sanity"
       ]
      },
      {
       "output_type": "stream",
       "stream": "stdout",
       "text": [
        "\n",
        "http://feedproxy.google.com/~r/reason/HitandRun/~3/jHrUvvQKIWw/worried-about-marijuana-infused-hallowee"
       ]
      },
      {
       "output_type": "stream",
       "stream": "stdout",
       "text": [
        "\n",
        "http://susiemadrak.com/2014/10/29/i-cant-see-it-happening-here/"
       ]
      },
      {
       "output_type": "stream",
       "stream": "stdout",
       "text": [
        "\n",
        "http://susiemadrak.com/2014/10/29/panhandle-slim-art-for-folk-106/"
       ]
      },
      {
       "output_type": "stream",
       "stream": "stdout",
       "text": [
        "\n",
        "http://feedproxy.google.com/~r/Talking-Points-Memo/~3/zL7MJuD59bA/making-sense-of-the-us-israel-crisis"
       ]
      },
      {
       "output_type": "stream",
       "stream": "stdout",
       "text": [
        "\n",
        "http://www.nhinsider.com/press-releases/2014/10/29/fuller-clark-for-nh-senate-teachers-throw-support-behind-mar.html"
       ]
      },
      {
       "output_type": "stream",
       "stream": "stdout",
       "text": [
        "\n",
        "http://politickernj.com/2014/10/stockton-poll-macarthur-up-5-points-over-belgard-in-cd3/"
       ]
      },
      {
       "output_type": "stream",
       "stream": "stdout",
       "text": [
        "\n",
        "http://feeds.dailykos.com/~r/dailykos/index/~3/4t4ewuUBAKk/-New-polling-the-outlook-in-Kansas-looks-shockingly-grim-for-Republicans"
       ]
      },
      {
       "output_type": "stream",
       "stream": "stdout",
       "text": [
        "\n",
        "http://feedproxy.google.com/~r/OTB/~3/heNvQmsW5sk/"
       ]
      },
      {
       "output_type": "stream",
       "stream": "stdout",
       "text": [
        "\n",
        "http://hotair.com/archives/2014/10/29/obama-holds-photo-op-with-doctors-who-worked-in-west-africa-and-who-are-still-in-the-ebola-monitoring-period/"
       ]
      },
      {
       "output_type": "stream",
       "stream": "stdout",
       "text": [
        "\n",
        "http://feedproxy.google.com/~r/bluejersey/~3/MusT0wi4bbA/happy-2year-hurricane-sandy-anniversary-now-sit-down-shut-up"
       ]
      },
      {
       "output_type": "stream",
       "stream": "stdout",
       "text": [
        "\n",
        "http://www.realclearpolitics.com/articles/2014/10/29/can_nunn_re-create_georgias_1990s_democratic_coalition_124490.html"
       ]
      },
      {
       "output_type": "stream",
       "stream": "stdout",
       "text": [
        "\n",
        "http://www.fitsnews.com/2014/10/29/correction-clarification-apology/"
       ]
      },
      {
       "output_type": "stream",
       "stream": "stdout",
       "text": [
        "\n",
        "http://feedproxy.google.com/~r/andrewsullivan/rApM/~3/D1GXA9Db1bU/"
       ]
      },
      {
       "output_type": "stream",
       "stream": "stdout",
       "text": [
        "\n",
        "http://www.shakesville.com/2014/10/fair-balanced.html"
       ]
      },
      {
       "output_type": "stream",
       "stream": "stdout",
       "text": [
        "\n",
        "http://crooksandliars.com/2014/10/chris-christie-tells-sandy-victim-sit-down"
       ]
      },
      {
       "output_type": "stream",
       "stream": "stdout",
       "text": [
        "\n",
        "http://shadow.foreignpolicy.com/posts/2014/10/29/what_rand_paul_doesnt_get_about_intervention"
       ]
      },
      {
       "output_type": "stream",
       "stream": "stdout",
       "text": [
        "\n",
        "http://feedproxy.google.com/~r/BlackPoliticsontheWeb/~3/ZLPz2nXy9WU/"
       ]
      },
      {
       "output_type": "stream",
       "stream": "stdout",
       "text": [
        "\n",
        "http://www.realclearpolitics.com/video/2014/10/29/maddow_colorado_polls_have_history_of_being_wrong.html"
       ]
      },
      {
       "output_type": "stream",
       "stream": "stdout",
       "text": [
        "\n",
        "http://www.fitsnews.com/2014/10/29/lindsey-graham-loves-white-men-in-male-only-clubs/"
       ]
      },
      {
       "output_type": "stream",
       "stream": "stdout",
       "text": [
        "\n",
        "http://feedproxy.google.com/~r/theonion/daily/~3/LSl6KnYv3oI/story01.htm"
       ]
      },
      {
       "output_type": "stream",
       "stream": "stdout",
       "text": [
        "\n",
        "http://feedproxy.google.com/~r/pjmedia/instapundit/~3/7sr6KhFazI8/"
       ]
      },
      {
       "output_type": "stream",
       "stream": "stdout",
       "text": [
        "\n",
        "http://electionlawblog.org/?p=67624"
       ]
      },
      {
       "output_type": "stream",
       "stream": "stdout",
       "text": [
        "\n",
        "http://www.balloon-juice.com/2014/10/29/world-series-open-thread-8/"
       ]
      },
      {
       "output_type": "stream",
       "stream": "stdout",
       "text": [
        "\n",
        "http://feedproxy.google.com/~r/Michiganliberal-SoapbloxMi/~3/9Moxb9VQlCI/dear-ken-braun-your-party-has-a-way-to-bounce-goat-killer-the-problem-is-that-they-dont-want-to"
       ]
      },
      {
       "output_type": "stream",
       "stream": "stdout",
       "text": [
        "\n",
        "http://feedproxy.google.com/~r/Michiganliberal-SoapbloxMi/~3/AKu9mV0vgKU/part-two-in-no-one-cares-who-you-endorse-mr-media-outlet-so-why-dont-you-just-shut-up"
       ]
      },
      {
       "output_type": "stream",
       "stream": "stdout",
       "text": [
        "\n",
        "http://feedproxy.google.com/~r/Michiganliberal-SoapbloxMi/~3/uCE5as1g6Oc/could-the-future-of-u-of-ms-athletic-program-hinge-on-next-weeks-election"
       ]
      },
      {
       "output_type": "stream",
       "stream": "stdout",
       "text": [
        "\n",
        "http://feedproxy.google.com/~r/themoderatevoice/~3/I6vgUuOXr9Q/"
       ]
      },
      {
       "output_type": "stream",
       "stream": "stdout",
       "text": [
        "\n",
        "http://feedproxy.google.com/~r/reason/HitandRun/~3/ope2nRT1Cec/brickbat-black-out"
       ]
      },
      {
       "output_type": "stream",
       "stream": "stdout",
       "text": [
        "\n",
        "http://feedproxy.google.com/~r/firedoglake/fdl/~3/iglTS_AnKxM/"
       ]
      },
      {
       "output_type": "stream",
       "stream": "stdout",
       "text": [
        "\n",
        "http://www.realclearpolitics.com/articles/2014/10/30/dems_rush_to_save_suddenly_vulnerable_incumbents_124501.html"
       ]
      },
      {
       "output_type": "stream",
       "stream": "stdout",
       "text": [
        "\n",
        "http://feedproxy.google.com/~r/instapundit/podcast/~3/J0MTqMot_ZU/"
       ]
      },
      {
       "output_type": "stream",
       "stream": "stdout",
       "text": [
        "\n",
        "http://www.cjr.org/feature/mission-driven.php"
       ]
      },
      {
       "output_type": "stream",
       "stream": "stdout",
       "text": [
        "\n",
        "http://www.cjr.org/currents/working_people_have_an_audienc.php"
       ]
      },
      {
       "output_type": "stream",
       "stream": "stdout",
       "text": [
        "\n",
        "http://www.bookforum.com/blog/13848"
       ]
      },
      {
       "output_type": "stream",
       "stream": "stdout",
       "text": [
        "\n",
        "http://www.realclearpolitics.com/video/2014/10/30/oreilly_government_performance_pitiful_on_ebola_immigration.html"
       ]
      },
      {
       "output_type": "stream",
       "stream": "stdout",
       "text": [
        "\n",
        "http://www.cjr.org/the_second_opinion/obamacare_open_enrollment_coverage_guide.php"
       ]
      },
      {
       "output_type": "stream",
       "stream": "stdout",
       "text": [
        "\n",
        "http://feedproxy.google.com/~r/powerlineblog/livefeed/~3/l1p9G-8IdzQ/how-many-elections-will-democrats-steal-next-week-part-2.php"
       ]
      },
      {
       "output_type": "stream",
       "stream": "stdout",
       "text": [
        "\n",
        "http://feedproxy.google.com/~r/Americablog/~3/EeXyrfg3tXA/apple-ceo-tim-cook-im-proud-gay.html"
       ]
      },
      {
       "output_type": "stream",
       "stream": "stdout",
       "text": [
        "\n",
        "http://feedproxy.google.com/~r/epfeed/~3/ubc3t4ytLSg/election-countdown-5-days-to-go-103014.php"
       ]
      },
      {
       "output_type": "stream",
       "stream": "stdout",
       "text": [
        "\n",
        "http://feedproxy.google.com/~r/TheBigPicture/~3/vRYxIUgV_wc/"
       ]
      },
      {
       "output_type": "stream",
       "stream": "stdout",
       "text": [
        "\n",
        "http://feedproxy.google.com/~r/TheBigPicture/~3/Kvsys-SxGh4/"
       ]
      },
      {
       "output_type": "stream",
       "stream": "stdout",
       "text": [
        "\n",
        "http://feedproxy.google.com/~r/andrewsullivan/rApM/~3/feOTi1Mg-Nc/"
       ]
      },
      {
       "output_type": "stream",
       "stream": "stdout",
       "text": [
        "\n",
        "http://feedproxy.google.com/~r/andrewsullivan/rApM/~3/sZmFRWs2uHE/"
       ]
      },
      {
       "output_type": "stream",
       "stream": "stdout",
       "text": [
        "\n",
        "http://feedproxy.google.com/~r/andrewsullivan/rApM/~3/6ug926nUJ4E/"
       ]
      },
      {
       "output_type": "stream",
       "stream": "stdout",
       "text": [
        "\n",
        "http://feedproxy.google.com/~r/instapundit/podcast/~3/Sq2U8Rwu3ZE/"
       ]
      },
      {
       "output_type": "stream",
       "stream": "stdout",
       "text": [
        "\n",
        "http://feedproxy.google.com/~r/andrewsullivan/rApM/~3/OYenI6BFdwg/"
       ]
      },
      {
       "output_type": "stream",
       "stream": "stdout",
       "text": [
        "\n",
        "http://feedproxy.google.com/~r/TheBigPicture/~3/wlfHJSMB-qw/"
       ]
      },
      {
       "output_type": "stream",
       "stream": "stdout",
       "text": [
        "\n",
        "http://feedproxy.google.com/~r/instapundit/podcast/~3/5zOc9drjTJc/"
       ]
      },
      {
       "output_type": "stream",
       "stream": "stdout",
       "text": [
        "\n",
        "http://bookforum.com/blog/13849"
       ]
      },
      {
       "output_type": "stream",
       "stream": "stdout",
       "text": [
        "\n",
        "http://feeds.dailykos.com/~r/dailykos/index/~3/pq8pVc3Vigc/-When-he-wasn-t-outsourcing-your-job-David-Perdue-was-poisoning-your-kid"
       ]
      },
      {
       "output_type": "stream",
       "stream": "stdout",
       "text": [
        "\n",
        "http://feeds.dailykos.com/~r/dailykos/index/~3/rXOOeFfsX1Q/-Nurse-takes-a-bike-ride-Paul-LePage-clears-his-schedule-to-monitor-her"
       ]
      },
      {
       "output_type": "stream",
       "stream": "stdout",
       "text": [
        "\n",
        "http://feeds.dailykos.com/~r/dailykos/index/~3/hLKF_op7e3U/-Abbreviated-Pundit-Round-up-Quarantines-and-the-election"
       ]
      },
      {
       "output_type": "stream",
       "stream": "stdout",
       "text": [
        "\n",
        "http://feedproxy.google.com/~r/theonion/daily/~3/khViEAlMl5o/story01.htm"
       ]
      },
      {
       "output_type": "stream",
       "stream": "stdout",
       "text": [
        "\n",
        "http://www.foreignpolicy.com/articles/2014/10/30/fp_s_situation_report_us_relations_with_israel_reach_a_new_low_obama_tries_to_se"
       ]
      },
      {
       "output_type": "stream",
       "stream": "stdout",
       "text": [
        "\n",
        "http://www.foreignpolicy.com/articles/2014/10/30/middle_east_meltdown_islamic_state_isis"
       ]
      },
      {
       "output_type": "stream",
       "stream": "stdout",
       "text": [
        "\n",
        "http://feedproxy.google.com/~r/Talking-Points-Memo/~3/JowiEJsWa5E/thanks-obama"
       ]
      },
      {
       "output_type": "stream",
       "stream": "stdout",
       "text": [
        "\n",
        "http://electionlawblog.org/?p=67642"
       ]
      },
      {
       "output_type": "stream",
       "stream": "stdout",
       "text": [
        "\n",
        "http://www.washingtonmonthly.com/political-animal-a/2014_10/the_last_big_economic_signal_o052728.php"
       ]
      },
      {
       "output_type": "stream",
       "stream": "stdout",
       "text": [
        "\n",
        "http://feedproxy.google.com/~r/andrewsullivan/rApM/~3/wpW6sCuvcdE/"
       ]
      },
      {
       "output_type": "stream",
       "stream": "stdout",
       "text": [
        "\n",
        "http://feedproxy.google.com/~r/pjmedia/instapundit/~3/PR8I0MeSsWk/"
       ]
      },
      {
       "output_type": "stream",
       "stream": "stdout",
       "text": [
        "\n",
        "http://feedproxy.google.com/~r/reason/HitandRun/~3/ace1vb0mqtg/bankrupt-stocktons-reorg-plan-approved-w"
       ]
      },
      {
       "output_type": "stream",
       "stream": "stdout",
       "text": [
        "\n",
        "http://feedproxy.google.com/~r/andrewsullivan/rApM/~3/jZGLU4piBz8/"
       ]
      },
      {
       "output_type": "stream",
       "stream": "stdout",
       "text": [
        "\n",
        "http://feedproxy.google.com/~r/andrewsullivan/rApM/~3/yx5lBxdiUuE/"
       ]
      },
      {
       "output_type": "stream",
       "stream": "stdout",
       "text": [
        "\n",
        "http://feeds.dailykos.com/~r/dailykos/index/~3/MXBGKwr2yQw/-Nope-not-even-Harvard-study-says-millennials-skewing-GOP"
       ]
      },
      {
       "output_type": "stream",
       "stream": "stdout",
       "text": [
        "\n",
        "http://feedproxy.google.com/~r/theonion/daily/~3/KgadRNkr7RM/story01.htm"
       ]
      },
      {
       "output_type": "stream",
       "stream": "stdout",
       "text": [
        "\n",
        "http://feedproxy.google.com/~r/andrewsullivan/rApM/~3/7-Om2e15vNM/"
       ]
      },
      {
       "output_type": "stream",
       "stream": "stdout",
       "text": [
        "\n",
        "http://bookforum.com/booklist/13851"
       ]
      },
      {
       "output_type": "stream",
       "stream": "stdout",
       "text": [
        "\n",
        "http://www.fitsnews.com/2014/10/30/tim-cook-gay/"
       ]
      },
      {
       "output_type": "stream",
       "stream": "stdout",
       "text": [
        "\n",
        "http://susiemadrak.com/2014/10/30/happy-hour-wynton-marsalis-autumn-leaves/"
       ]
      },
      {
       "output_type": "stream",
       "stream": "stdout",
       "text": [
        "\n",
        "http://feedproxy.google.com/~r/bearingdrift/~3/pAbkcTTaMOs/"
       ]
      },
      {
       "output_type": "stream",
       "stream": "stdout",
       "text": [
        "\n",
        "http://feedproxy.google.com/~r/powerlineblog/livefeed/~3/NQro0lnS7KQ/mary-burke-in-47-seconds.php"
       ]
      },
      {
       "output_type": "stream",
       "stream": "stdout",
       "text": [
        "\n",
        "http://feedproxy.google.com/~r/pjmedia/instapundit/~3/jsQmK6NHXNQ/"
       ]
      },
      {
       "output_type": "stream",
       "stream": "stdout",
       "text": [
        "\n",
        "http://feedproxy.google.com/~r/bluejersey-userdiaries/~3/TKiR2rmW8Ug/bully-by-Rosi-Efthim"
       ]
      },
      {
       "output_type": "stream",
       "stream": "stdout",
       "text": [
        "\n",
        "http://feedproxy.google.com/~r/althouse/fullfeed/~3/MzIrzuLkXB0/white-tree.html"
       ]
      },
      {
       "output_type": "stream",
       "stream": "stdout",
       "text": [
        "\n",
        "http://feedproxy.google.com/~r/theonion/daily/~3/Qu8FBewIii4/story01.htm"
       ]
      },
      {
       "output_type": "stream",
       "stream": "stdout",
       "text": [
        "\n",
        "http://feedproxy.google.com/~r/bluejersey/~3/EMpbQZuRQnA/daily-beast-misses-the-mark-on-history-of-cory-booker-opposition"
       ]
      },
      {
       "output_type": "stream",
       "stream": "stdout",
       "text": [
        "\n",
        "http://feedproxy.google.com/~r/bluejersey/~3/UR6i4n7sPfU/news-roundup-open-thread-for-thursday-oct-30-2014"
       ]
      },
      {
       "output_type": "stream",
       "stream": "stdout",
       "text": [
        "\n",
        "http://feedproxy.google.com/~r/andrewsullivan/rApM/~3/HPHAL4VPfo0/"
       ]
      },
      {
       "output_type": "stream",
       "stream": "stdout",
       "text": [
        "\n",
        "http://feedproxy.google.com/~r/instapundit/podcast/~3/zrTThpEYyoA/"
       ]
      },
      {
       "output_type": "stream",
       "stream": "stdout",
       "text": [
        "\n",
        "http://feedproxy.google.com/~r/BlackPoliticsontheWeb/~3/tWHU0K_1tDA/"
       ]
      },
      {
       "output_type": "stream",
       "stream": "stdout",
       "text": [
        "\n",
        "http://feedproxy.google.com/~r/instapundit/podcast/~3/7uBNrSpqPd0/"
       ]
      },
      {
       "output_type": "stream",
       "stream": "stdout",
       "text": [
        "\n",
        "http://feedproxy.google.com/~r/pjmedia/instapundit/~3/TZ__V9SBUfs/"
       ]
      },
      {
       "output_type": "stream",
       "stream": "stdout",
       "text": [
        "\n",
        "http://blogs.bookforum.com/paper/2014/10/31/third-quarter-news-at-the-times-isnt-great-the-wapo-is-now-totally-male/"
       ]
      },
      {
       "output_type": "stream",
       "stream": "stdout",
       "text": [
        "\n",
        "http://www.realclearpolitics.com/articles/2014/10/31/obama_finally_identifies_the_middle_easts_biggest_problem_--_israel_124514.html"
       ]
      },
      {
       "output_type": "stream",
       "stream": "stdout",
       "text": [
        "\n",
        "http://feedproxy.google.com/~r/firedoglake/fdl/~3/L2yGdPPRhyg/"
       ]
      },
      {
       "output_type": "stream",
       "stream": "stdout",
       "text": [
        "\n",
        "http://www.ohiodailyblog.com/content/united-we-stand-divided-we-fall"
       ]
      },
      {
       "output_type": "stream",
       "stream": "stdout",
       "text": [
        "\n",
        "http://www.realclearpolitics.com/articles/2014/10/31/nuclear_energy_the_once_and_future_power_source_124508.html"
       ]
      },
      {
       "output_type": "stream",
       "stream": "stdout",
       "text": [
        "\n",
        "http://feedproxy.google.com/~r/blogspot/bRuz/~3/fvizjCAMaw4/the-evidence-is-not-in.html"
       ]
      },
      {
       "output_type": "stream",
       "stream": "stdout",
       "text": [
        "\n",
        "http://crooksandliars.com/2014/10/fox-news-limbaugh-slime-teacher"
       ]
      },
      {
       "output_type": "stream",
       "stream": "stdout",
       "text": [
        "\n",
        "http://crooksandliars.com/2014/10/mikes-blog-round-28"
       ]
      },
      {
       "output_type": "stream",
       "stream": "stdout",
       "text": [
        "\n",
        "http://feedproxy.google.com/~r/instapundit/podcast/~3/yi77yXuqBtQ/"
       ]
      },
      {
       "output_type": "stream",
       "stream": "stdout",
       "text": [
        "\n",
        "http://www.washingtonmonthly.com/political-animal-a/2014_10/daylight_video_682052732.php"
       ]
      },
      {
       "output_type": "stream",
       "stream": "stdout",
       "text": [
        "\n",
        "http://www.shakesville.com/2014/10/here-we-go-again.html"
       ]
      },
      {
       "output_type": "stream",
       "stream": "stdout",
       "text": [
        "\n",
        "http://crooksandliars.com/2014/10/andrea-mitchells-reaction-christies"
       ]
      },
      {
       "output_type": "stream",
       "stream": "stdout",
       "text": [
        "\n",
        "http://feedproxy.google.com/~r/OTB/~3/8qm_bgD6HqA/"
       ]
      },
      {
       "output_type": "stream",
       "stream": "stdout",
       "text": [
        "\n",
        "http://crooksandliars.com/2014/10/scott-browns-carpetbagging-comes-back"
       ]
      },
      {
       "output_type": "stream",
       "stream": "stdout",
       "text": [
        "\n",
        "http://www.peachpundit.com/2014/10/31/post-electoral-legal-fight-may-horizon/"
       ]
      },
      {
       "output_type": "stream",
       "stream": "stdout",
       "text": [
        "\n",
        "http://www.peachpundit.com/2014/10/31/morning-reads-friday-october-31-2014/"
       ]
      },
      {
       "output_type": "stream",
       "stream": "stdout",
       "text": [
        "\n",
        "http://electionlawblog.org/?p=67695"
       ]
      },
      {
       "output_type": "stream",
       "stream": "stdout",
       "text": [
        "\n",
        "skipped"
       ]
      },
      {
       "output_type": "stream",
       "stream": "stdout",
       "text": [
        " 0\n",
        "processed 600\n"
       ]
      }
     ],
     "prompt_number": 182
    },
    {
     "cell_type": "code",
     "collapsed": false,
     "input": [
      "extractor_training_objects = cPickle.load( open( \"extractor_traning_objects.pickle\", \"rb\") )"
     ],
     "language": "python",
     "metadata": {},
     "outputs": [],
     "prompt_number": 183
    },
    {
     "cell_type": "code",
     "collapsed": false,
     "input": [
      "media_ids = set( eto['media_id'] for eto in extractor_training_objects )\n",
      "list(media_ids)[0]"
     ],
     "language": "python",
     "metadata": {},
     "outputs": [
      {
       "metadata": {},
       "output_type": "pyout",
       "prompt_number": 184,
       "text": [
        "83456"
       ]
      }
     ],
     "prompt_number": 184
    },
    {
     "cell_type": "code",
     "collapsed": false,
     "input": [
      "import itertools\n",
      "from collections import Counter\n",
      "\n",
      "mc = mediacloud.api.MediaCloud(api_key)\n",
      "\n",
      "if regenerate_media_id_media_map:\n",
      "    media_id_media_map = {}\n",
      "    \n",
      "    for media_id in list(media_ids)[:]:\n",
      "        media = mc.media( media_id )\n",
      "        media[ 'media_source_tags_ids' ] = set( [ media_source_tag['tags_id'] \n",
      "                                                 for media_source_tag in media['media_source_tags'] ] )\n",
      "        media_id_media_map[ media_id ] = media\n",
      "    \n",
      "    cPickle.dump( media_id_media_map, open(\"media_id_media_map.pickle\", \"wb\"))\n"
     ],
     "language": "python",
     "metadata": {},
     "outputs": [],
     "prompt_number": 185
    },
    {
     "cell_type": "code",
     "collapsed": false,
     "input": [
      "media_id_media_map = cPickle.load( open( \"media_id_media_map.pickle\", \"rb\") )    \n",
      "\n",
      "media_tag_counts = Counter(list ( itertools.chain.from_iterable( media_source['media_source_tags_ids'] for media_source in media_id_media_map.values() )) ) \n",
      "tags_id_to_media_tags_map = {}\n",
      "for media_tag in media_id_media_map.values():\n",
      "    source_tags = media_tag[ 'media_source_tags' ]\n",
      "    for source_tag in source_tags:\n",
      "        tags_id_to_media_tags_map[ source_tag[ 'tags_id' ] ] = source_tag"
     ],
     "language": "python",
     "metadata": {},
     "outputs": [],
     "prompt_number": 186
    },
    {
     "cell_type": "code",
     "collapsed": false,
     "input": [
      "[ (tags_id_to_media_tags_map[tag_id], count) for tag_id, count in media_tag_counts.most_common( 15 ) ]\n"
     ],
     "language": "python",
     "metadata": {},
     "outputs": [
      {
       "metadata": {},
       "output_type": "pyout",
       "prompt_number": 187,
       "text": [
        "[({u'description': None,\n",
        "   u'label': None,\n",
        "   u'show_on_media': 0,\n",
        "   u'show_on_stories': None,\n",
        "   u'tag': u'egypt_composite_dalia_20140425',\n",
        "   u'tag_set': u'collection',\n",
        "   u'tag_sets_id': 5,\n",
        "   u'tags_id': 8878255},\n",
        "  48),\n",
        " ({u'description': None,\n",
        "   u'label': None,\n",
        "   u'show_on_media': 0,\n",
        "   u'show_on_stories': None,\n",
        "   u'tag': u'brazil_20131009',\n",
        "   u'tag_set': u'collection',\n",
        "   u'tag_sets_id': 5,\n",
        "   u'tags_id': 8877968},\n",
        "  46),\n",
        " ({u'description': None,\n",
        "   u'label': None,\n",
        "   u'show_on_media': 0,\n",
        "   u'show_on_stories': None,\n",
        "   u'tag': u'news',\n",
        "   u'tag_set': u'egypt_media_type',\n",
        "   u'tag_sets_id': 986,\n",
        "   u'tags_id': 8878259},\n",
        "  43),\n",
        " ({u'description': u'List of sites related to U.S. politics, created for Yochai Benkler and Aaron Shaw\\'s paper \"A Tale of Two Blogospheres: Discursive Practices on the Left and Right\", published in 2010.\\r\\n',\n",
        "   u'label': u'U.S. Campaigns and Elections 2008',\n",
        "   u'show_on_media': 1,\n",
        "   u'show_on_stories': None,\n",
        "   u'tag': u'campaignsandelections_political_2008',\n",
        "   u'tag_set': u'collection',\n",
        "   u'tag_sets_id': 5,\n",
        "   u'tags_id': 125},\n",
        "  42),\n",
        " ({u'description': u'Large list of regional TC and newspapers sites, collected by Pew in 2010.',\n",
        "   u'label': u'U.S. Regional Mainstream Media',\n",
        "   u'show_on_media': 1,\n",
        "   u'show_on_stories': None,\n",
        "   u'tag': u'pew_knight_study',\n",
        "   u'tag_set': u'collection',\n",
        "   u'tag_sets_id': 5,\n",
        "   u'tags_id': 2453107},\n",
        "  40),\n",
        " ({u'description': u'A site that is a mainstream media outlet, such as The New York Times and The Washington Post; an online-only news outlet, such as Slate, Salon, or the Huffington Post; or a citizen journalism or non-profit news outlet, such as Global Voices or ProPublica',\n",
        "   u'label': u'General News',\n",
        "   u'show_on_media': 1,\n",
        "   u'show_on_stories': None,\n",
        "   u'tag': u'General Online News Media',\n",
        "   u'tag_set': u'media_type',\n",
        "   u'tag_sets_id': 1099,\n",
        "   u'tags_id': 8878416},\n",
        "  37),\n",
        " ({u'description': None,\n",
        "   u'label': None,\n",
        "   u'show_on_media': 0,\n",
        "   u'show_on_stories': None,\n",
        "   u'tag': u'media outlet',\n",
        "   u'tag_set': u'portuguese_media_type',\n",
        "   u'tag_sets_id': 783,\n",
        "   u'tags_id': 8877969},\n",
        "  37),\n",
        " ({u'description': None,\n",
        "   u'label': None,\n",
        "   u'show_on_media': 0,\n",
        "   u'show_on_stories': None,\n",
        "   u'tag': u'largemetroarea',\n",
        "   u'tag_set': u'pkgeog-type',\n",
        "   u'tag_sets_id': 16,\n",
        "   u'tags_id': 2496423},\n",
        "  31),\n",
        " ({u'description': None,\n",
        "   u'label': None,\n",
        "   u'show_on_media': 0,\n",
        "   u'show_on_stories': None,\n",
        "   u'tag': u'alternative',\n",
        "   u'tag_set': u'egypt_valence',\n",
        "   u'tag_sets_id': 987,\n",
        "   u'tags_id': 8878263},\n",
        "  22),\n",
        " ({u'description': u\"Top U.S. mainstream media according Google Ad Planner's measure of unique monthly users.\",\n",
        "   u'label': u'U.S. Mainstream Media',\n",
        "   u'show_on_media': 1,\n",
        "   u'show_on_stories': None,\n",
        "   u'tag': u'ap_english_us_top25_20100110',\n",
        "   u'tag_set': u'collection',\n",
        "   u'tag_sets_id': 5,\n",
        "   u'tags_id': 8875027},\n",
        "  20),\n",
        " ({u'description': None,\n",
        "   u'label': None,\n",
        "   u'show_on_media': 0,\n",
        "   u'show_on_stories': None,\n",
        "   u'tag': u'spidered',\n",
        "   u'tag_set': u'spidered',\n",
        "   u'tag_sets_id': 183,\n",
        "   u'tags_id': 8875452},\n",
        "  20),\n",
        " ({u'description': None,\n",
        "   u'label': None,\n",
        "   u'show_on_media': 0,\n",
        "   u'show_on_stories': None,\n",
        "   u'tag': u'dallas_ftworth',\n",
        "   u'tag_set': u'pklocation',\n",
        "   u'tag_sets_id': 15,\n",
        "   u'tags_id': 2497397},\n",
        "  17),\n",
        " ({u'description': None,\n",
        "   u'label': None,\n",
        "   u'show_on_media': 0,\n",
        "   u'show_on_stories': None,\n",
        "   u'tag': u'general_news',\n",
        "   u'tag_set': u'emm_subject',\n",
        "   u'tag_sets_id': 555,\n",
        "   u'tags_id': 8876476},\n",
        "  16),\n",
        " ({u'description': u'List of sites generated by clustering and manually sites discussion the 2012 U.S. presidential election.  This set includes only sources coded as clearly liberal.',\n",
        "   u'label': u'U.S. Partisan Sources 2012 - Liberal',\n",
        "   u'show_on_media': 1,\n",
        "   u'show_on_stories': None,\n",
        "   u'tag': u'partisan_2012_liberal',\n",
        "   u'tag_set': u'collection',\n",
        "   u'tag_sets_id': 5,\n",
        "   u'tags_id': 8878293},\n",
        "  16),\n",
        " ({u'description': None,\n",
        "   u'label': None,\n",
        "   u'show_on_media': 0,\n",
        "   u'show_on_stories': None,\n",
        "   u'tag': u'regional and local media',\n",
        "   u'tag_set': u'portuguese_topic',\n",
        "   u'tag_sets_id': 784,\n",
        "   u'tags_id': 8877973},\n",
        "  16)]"
       ]
      }
     ],
     "prompt_number": 187
    },
    {
     "cell_type": "code",
     "collapsed": false,
     "input": [
      "comps_downloads = []\n",
      "processed = 0\n",
      "skipped = 0\n",
      "for extractor_training_object in extractor_training_objects[:]:\n",
      "    print 'processed ', processed\n",
      "    print 'skipped ', skipped\n",
      "    print extractor_training_object[ 'downloads_id']\n",
      "    try:\n",
      "        res = comp_extractors( extractor_training_object )\n",
      "        #print res\n",
      "        comps_downloads.append( res )\n",
      "        processed += 1\n",
      "    except:\n",
      "        print \"error on download{}\".format( extractor_training_object[ 'downloads_id'] )\n",
      "        skipped += 1\n",
      "\n",
      "#extractor_training_objects\n",
      "    "
     ],
     "language": "python",
     "metadata": {},
     "outputs": [
      {
       "output_type": "stream",
       "stream": "stdout",
       "text": [
        "processed  0\n",
        "skipped  0\n",
        "391881020\n",
        "original article tmp file "
       ]
      },
      {
       "output_type": "stream",
       "stream": "stdout",
       "text": [
        " /tmp/tmpNaBHpM.html\n",
        "/tmp/tmpNxdJil.html\n",
        "/tmp/tmpNaBHpM.html\n",
        "/tmp/tmpNaBHpM.html\n",
        "Now open file:///tmp/tmpNxdJil.html in your web browser\n"
       ]
      },
      {
       "output_type": "stream",
       "stream": "stdout",
       "text": [
        "\n",
        "processed  1\n",
        "skipped  0\n",
        "401370599\n",
        "original article tmp file "
       ]
      },
      {
       "output_type": "stream",
       "stream": "stdout",
       "text": [
        " /tmp/tmpNHXPi9.html\n",
        "/tmp/tmp4GC1WN.html\n",
        "/tmp/tmpNHXPi9.html\n",
        "/tmp/tmpNHXPi9.html\n",
        "Now open file:///tmp/tmp4GC1WN.html in your web browser\n"
       ]
      },
      {
       "output_type": "stream",
       "stream": "stdout",
       "text": [
        "\n",
        "processed  2\n",
        "skipped  0\n",
        "412896439\n",
        "original article tmp file "
       ]
      },
      {
       "output_type": "stream",
       "stream": "stdout",
       "text": [
        " /tmp/tmpzrKppi.html\n",
        "/tmp/tmpsYB1aD.html\n",
        "/tmp/tmpzrKppi.html\n",
        "/tmp/tmpzrKppi.html\n",
        "Now open file:///tmp/tmpsYB1aD.html in your web browser\n"
       ]
      },
      {
       "output_type": "stream",
       "stream": "stdout",
       "text": [
        "\n",
        "processed "
       ]
      },
      {
       "output_type": "stream",
       "stream": "stdout",
       "text": [
        " 3\n",
        "skipped  0\n",
        "412952145\n",
        "original article tmp file "
       ]
      },
      {
       "output_type": "stream",
       "stream": "stdout",
       "text": [
        " /tmp/tmp8OR_p2.html\n",
        "/tmp/tmpT3Aov4.html\n",
        "/tmp/tmp8OR_p2.html\n",
        "/tmp/tmp8OR_p2.html\n",
        "Now open file:///tmp/tmpT3Aov4.html in your web browser\n"
       ]
      },
      {
       "output_type": "stream",
       "stream": "stdout",
       "text": [
        "\n",
        "processed "
       ]
      },
      {
       "output_type": "stream",
       "stream": "stdout",
       "text": [
        " 4\n",
        "skipped  0\n",
        "412977048\n",
        "original article tmp file "
       ]
      },
      {
       "output_type": "stream",
       "stream": "stdout",
       "text": [
        " /tmp/tmpf3PrFY.html\n",
        "/tmp/tmp9Bmx6M.html\n",
        "/tmp/tmpf3PrFY.html\n",
        "/tmp/tmpf3PrFY.html\n",
        "Now open file:///tmp/tmp9Bmx6M.html in your web browser\n"
       ]
      },
      {
       "output_type": "stream",
       "stream": "stdout",
       "text": [
        "\n",
        "processed  5\n",
        "skipped  0\n",
        "413024519\n",
        "original article tmp file "
       ]
      },
      {
       "output_type": "stream",
       "stream": "stdout",
       "text": [
        " /tmp/tmpiljt4i.html\n",
        "/tmp/tmpmpUJ4t.html\n",
        "/tmp/tmpiljt4i.html\n",
        "/tmp/tmpiljt4i.html\n",
        "Now open file:///tmp/tmpmpUJ4t.html in your web browser\n"
       ]
      },
      {
       "output_type": "stream",
       "stream": "stdout",
       "text": [
        "\n",
        "processed  6\n",
        "skipped  0\n",
        "413657081\n",
        "original article tmp file "
       ]
      },
      {
       "output_type": "stream",
       "stream": "stdout",
       "text": [
        " /tmp/tmpWO5s95.html\n",
        "/tmp/tmpI2630p.html\n",
        "/tmp/tmpWO5s95.html\n",
        "/tmp/tmpWO5s95.html\n",
        "Now open file:///tmp/tmpI2630p.html in your web browser\n"
       ]
      },
      {
       "output_type": "stream",
       "stream": "stdout",
       "text": [
        "\n",
        "processed "
       ]
      },
      {
       "output_type": "stream",
       "stream": "stdout",
       "text": [
        " 7\n",
        "skipped  0\n",
        "413835576\n",
        "original article tmp file "
       ]
      },
      {
       "output_type": "stream",
       "stream": "stdout",
       "text": [
        " /tmp/tmp4YrkMv.html\n",
        "/tmp/tmp8ZzX5I.html\n",
        "/tmp/tmp4YrkMv.html\n",
        "/tmp/tmp4YrkMv.html\n",
        "Now open file:///tmp/tmp8ZzX5I.html in your web browser\n"
       ]
      },
      {
       "output_type": "stream",
       "stream": "stdout",
       "text": [
        "\n",
        "processed "
       ]
      },
      {
       "output_type": "stream",
       "stream": "stdout",
       "text": [
        " 8\n",
        "skipped  0\n",
        "414040102\n",
        "original article tmp file "
       ]
      },
      {
       "output_type": "stream",
       "stream": "stdout",
       "text": [
        " /tmp/tmpwZGzL5.html\n",
        "/tmp/tmpiShist.html\n",
        "/tmp/tmpwZGzL5.html\n",
        "/tmp/tmpwZGzL5.html\n",
        "Now open file:///tmp/tmpiShist.html in your web browser\n"
       ]
      },
      {
       "output_type": "stream",
       "stream": "stdout",
       "text": [
        "\n",
        "processed "
       ]
      },
      {
       "output_type": "stream",
       "stream": "stdout",
       "text": [
        " 9\n",
        "skipped  0\n",
        "414257623\n",
        "original article tmp file "
       ]
      },
      {
       "output_type": "stream",
       "stream": "stdout",
       "text": [
        " /tmp/tmpwfVYxP.html\n",
        "/tmp/tmppEFg1K.html\n",
        "/tmp/tmpwfVYxP.html\n",
        "/tmp/tmpwfVYxP.html\n",
        "Now open file:///tmp/tmppEFg1K.html in your web browser\n"
       ]
      },
      {
       "output_type": "stream",
       "stream": "stdout",
       "text": [
        "\n",
        "processed  10\n",
        "skipped  0\n",
        "414377428\n",
        "original article tmp file "
       ]
      },
      {
       "output_type": "stream",
       "stream": "stdout",
       "text": [
        " /tmp/tmpJ19cQR.html\n",
        "/tmp/tmpj74c43.html\n",
        "/tmp/tmpJ19cQR.html\n",
        "/tmp/tmpJ19cQR.html\n",
        "Now open file:///tmp/tmpj74c43.html in your web browser\n"
       ]
      },
      {
       "output_type": "stream",
       "stream": "stdout",
       "text": [
        "\n",
        "processed "
       ]
      },
      {
       "output_type": "stream",
       "stream": "stdout",
       "text": [
        " 11\n",
        "skipped  0\n",
        "414480464\n",
        "original article tmp file "
       ]
      },
      {
       "output_type": "stream",
       "stream": "stdout",
       "text": [
        " /tmp/tmpz_1Lea.html\n",
        "/tmp/tmp5myeC5.html\n",
        "/tmp/tmpz_1Lea.html\n",
        "/tmp/tmpz_1Lea.html\n",
        "Now open file:///tmp/tmp5myeC5.html in your web browser\n"
       ]
      },
      {
       "output_type": "stream",
       "stream": "stdout",
       "text": [
        "\n",
        "processed "
       ]
      },
      {
       "output_type": "stream",
       "stream": "stdout",
       "text": [
        " 12\n",
        "skipped  0\n",
        "414818749\n",
        "original article tmp file "
       ]
      },
      {
       "output_type": "stream",
       "stream": "stdout",
       "text": [
        " /tmp/tmpOENGMt.html\n",
        "/tmp/tmpSeQkk3.html\n",
        "/tmp/tmpOENGMt.html\n",
        "/tmp/tmpOENGMt.html\n",
        "Now open file:///tmp/tmpSeQkk3.html in your web browser\n"
       ]
      },
      {
       "output_type": "stream",
       "stream": "stdout",
       "text": [
        "\n",
        "processed "
       ]
      },
      {
       "output_type": "stream",
       "stream": "stdout",
       "text": [
        " 13\n",
        "skipped  0\n",
        "414983458\n",
        "original article tmp file "
       ]
      },
      {
       "output_type": "stream",
       "stream": "stdout",
       "text": [
        " /tmp/tmpoXJLnw.html\n",
        "/tmp/tmpiHjeWk.html\n",
        "/tmp/tmpoXJLnw.html\n",
        "/tmp/tmpoXJLnw.html\n",
        "Now open file:///tmp/tmpiHjeWk.html in your web browser\n"
       ]
      },
      {
       "output_type": "stream",
       "stream": "stdout",
       "text": [
        "\n",
        "processed "
       ]
      },
      {
       "output_type": "stream",
       "stream": "stdout",
       "text": [
        " 14\n",
        "skipped  0\n",
        "415185946\n",
        "original article tmp file "
       ]
      },
      {
       "output_type": "stream",
       "stream": "stdout",
       "text": [
        " /tmp/tmp4X11Ni.html\n",
        "/tmp/tmpga63qj.html\n",
        "/tmp/tmp4X11Ni.html\n",
        "/tmp/tmp4X11Ni.html\n",
        "Now open file:///tmp/tmpga63qj.html in your web browser\n"
       ]
      },
      {
       "output_type": "stream",
       "stream": "stdout",
       "text": [
        "\n",
        "processed  15\n",
        "skipped  0\n",
        "415186582\n",
        "original article tmp file "
       ]
      },
      {
       "output_type": "stream",
       "stream": "stdout",
       "text": [
        " /tmp/tmpradmSw.html\n",
        "/tmp/tmpJID0ex.html\n",
        "/tmp/tmpradmSw.html\n",
        "/tmp/tmpradmSw.html\n",
        "Now open file:///tmp/tmpJID0ex.html in your web browser\n"
       ]
      },
      {
       "output_type": "stream",
       "stream": "stdout",
       "text": [
        "\n",
        "processed  16\n",
        "skipped  0\n",
        "415197547\n",
        "original article tmp file "
       ]
      },
      {
       "output_type": "stream",
       "stream": "stdout",
       "text": [
        " /tmp/tmpr9vqo6.html\n",
        "/tmp/tmp8UOXK4.html\n",
        "/tmp/tmpr9vqo6.html\n",
        "/tmp/tmpr9vqo6.html\n",
        "Now open file:///tmp/tmp8UOXK4.html in your web browser\n"
       ]
      },
      {
       "output_type": "stream",
       "stream": "stdout",
       "text": [
        "\n",
        "processed  17\n",
        "skipped  0\n",
        "415424551\n",
        "original article tmp file "
       ]
      },
      {
       "output_type": "stream",
       "stream": "stdout",
       "text": [
        " /tmp/tmp3oH9ZX.html\n",
        "/tmp/tmp_kFN3h.html\n",
        "/tmp/tmp3oH9ZX.html\n",
        "/tmp/tmp3oH9ZX.html\n",
        "Now open file:///tmp/tmp_kFN3h.html in your web browser\n"
       ]
      },
      {
       "output_type": "stream",
       "stream": "stdout",
       "text": [
        "\n",
        "processed  18\n",
        "skipped  0\n",
        "415978069\n",
        "original article tmp file "
       ]
      },
      {
       "output_type": "stream",
       "stream": "stdout",
       "text": [
        " /tmp/tmp9mVpWN.html\n",
        "/tmp/tmpAqYJu5.html\n",
        "/tmp/tmp9mVpWN.html\n",
        "/tmp/tmp9mVpWN.html\n",
        "Now open file:///tmp/tmpAqYJu5.html in your web browser\n"
       ]
      },
      {
       "output_type": "stream",
       "stream": "stdout",
       "text": [
        "\n",
        "processed "
       ]
      },
      {
       "output_type": "stream",
       "stream": "stdout",
       "text": [
        " 19\n",
        "skipped  0\n",
        "416026460\n",
        "original article tmp file "
       ]
      },
      {
       "output_type": "stream",
       "stream": "stdout",
       "text": [
        " /tmp/tmpsnf_CZ.html\n",
        "/tmp/tmpCysiOg.html\n",
        "/tmp/tmpsnf_CZ.html\n",
        "/tmp/tmpsnf_CZ.html\n",
        "Now open file:///tmp/tmpCysiOg.html in your web browser\n"
       ]
      },
      {
       "output_type": "stream",
       "stream": "stdout",
       "text": [
        "\n",
        "processed  20\n",
        "skipped  0\n",
        "416026587\n",
        "original article tmp file "
       ]
      },
      {
       "output_type": "stream",
       "stream": "stdout",
       "text": [
        " /tmp/tmpXxJsa5.html\n",
        "/tmp/tmpunJs6T.html\n",
        "/tmp/tmpXxJsa5.html\n",
        "/tmp/tmpXxJsa5.html\n",
        "Now open file:///tmp/tmpunJs6T.html in your web browser\n"
       ]
      },
      {
       "output_type": "stream",
       "stream": "stdout",
       "text": [
        "\n",
        "processed  21\n",
        "skipped  0\n",
        "416047494\n",
        "original article tmp file "
       ]
      },
      {
       "output_type": "stream",
       "stream": "stdout",
       "text": [
        " /tmp/tmp0n7DfF.html\n",
        "/tmp/tmptd0SMW.html\n",
        "/tmp/tmp0n7DfF.html\n",
        "/tmp/tmp0n7DfF.html\n",
        "Now open file:///tmp/tmptd0SMW.html in your web browser\n"
       ]
      },
      {
       "output_type": "stream",
       "stream": "stdout",
       "text": [
        "\n",
        "processed  22\n",
        "skipped  0\n",
        "416047513\n",
        "original article tmp file "
       ]
      },
      {
       "output_type": "stream",
       "stream": "stdout",
       "text": [
        " /tmp/tmpNlchjJ.html\n",
        "/tmp/tmpgjS_UQ.html\n",
        "/tmp/tmpNlchjJ.html\n",
        "/tmp/tmpNlchjJ.html\n",
        "Now open file:///tmp/tmpgjS_UQ.html in your web browser\n"
       ]
      },
      {
       "output_type": "stream",
       "stream": "stdout",
       "text": [
        "\n",
        "processed "
       ]
      },
      {
       "output_type": "stream",
       "stream": "stdout",
       "text": [
        " 23\n",
        "skipped  0\n",
        "416210404\n",
        "original article tmp file "
       ]
      },
      {
       "output_type": "stream",
       "stream": "stdout",
       "text": [
        " /tmp/tmp6hEF2H.html\n",
        "/tmp/tmpNQ8rNg.html\n",
        "/tmp/tmp6hEF2H.html\n",
        "/tmp/tmp6hEF2H.html\n",
        "Now open file:///tmp/tmpNQ8rNg.html in your web browser\n"
       ]
      },
      {
       "output_type": "stream",
       "stream": "stdout",
       "text": [
        "\n",
        "processed "
       ]
      },
      {
       "output_type": "stream",
       "stream": "stdout",
       "text": [
        " 24\n",
        "skipped  0\n",
        "416263840\n",
        "original article tmp file "
       ]
      },
      {
       "output_type": "stream",
       "stream": "stdout",
       "text": [
        " /tmp/tmpEGGdFE.html\n",
        "/tmp/tmpJpAMVD.html\n",
        "/tmp/tmpEGGdFE.html\n",
        "/tmp/tmpEGGdFE.html\n",
        "Now open file:///tmp/tmpJpAMVD.html in your web browser\n"
       ]
      },
      {
       "output_type": "stream",
       "stream": "stdout",
       "text": [
        "\n",
        "processed  25\n",
        "skipped  0\n",
        "416306952\n",
        "original article tmp file "
       ]
      },
      {
       "output_type": "stream",
       "stream": "stdout",
       "text": [
        " /tmp/tmpgy_uBe.html\n",
        "/tmp/tmpOEG2hg.html\n",
        "/tmp/tmpgy_uBe.html\n",
        "/tmp/tmpgy_uBe.html\n",
        "Now open file:///tmp/tmpOEG2hg.html in your web browser\n"
       ]
      },
      {
       "output_type": "stream",
       "stream": "stdout",
       "text": [
        "\n",
        "processed "
       ]
      },
      {
       "output_type": "stream",
       "stream": "stdout",
       "text": [
        " 26\n",
        "skipped  0\n",
        "416426245\n",
        "original article tmp file "
       ]
      },
      {
       "output_type": "stream",
       "stream": "stdout",
       "text": [
        " /tmp/tmpMgQkeE.html\n",
        "/tmp/tmpbT7axD.html\n",
        "/tmp/tmpMgQkeE.html\n",
        "/tmp/tmpMgQkeE.html\n",
        "Now open file:///tmp/tmpbT7axD.html in your web browser\n"
       ]
      },
      {
       "output_type": "stream",
       "stream": "stdout",
       "text": [
        "\n",
        "processed  27\n",
        "skipped  0\n",
        "416655019\n",
        "original article tmp file "
       ]
      },
      {
       "output_type": "stream",
       "stream": "stdout",
       "text": [
        " /tmp/tmp5iUFgr.html\n",
        "/tmp/tmpBk_kt1.html\n",
        "/tmp/tmp5iUFgr.html\n",
        "/tmp/tmp5iUFgr.html\n",
        "Now open file:///tmp/tmpBk_kt1.html in your web browser\n"
       ]
      },
      {
       "output_type": "stream",
       "stream": "stdout",
       "text": [
        "\n",
        "processed  28\n",
        "skipped  0\n",
        "416730837\n",
        "original article tmp file "
       ]
      },
      {
       "output_type": "stream",
       "stream": "stdout",
       "text": [
        " /tmp/tmp6w8HeZ.html\n",
        "/tmp/tmpxWlmLc.html\n",
        "/tmp/tmp6w8HeZ.html\n",
        "/tmp/tmp6w8HeZ.html\n",
        "Now open file:///tmp/tmpxWlmLc.html in your web browser\n"
       ]
      },
      {
       "output_type": "stream",
       "stream": "stdout",
       "text": [
        "\n",
        "processed  29\n",
        "skipped  0\n",
        "416802690\n",
        "original article tmp file "
       ]
      },
      {
       "output_type": "stream",
       "stream": "stdout",
       "text": [
        " /tmp/tmpImrmUs.html\n",
        "/tmp/tmpmxIjir.html\n",
        "/tmp/tmpImrmUs.html\n",
        "/tmp/tmpImrmUs.html\n",
        "Now open file:///tmp/tmpmxIjir.html in your web browser\n"
       ]
      },
      {
       "output_type": "stream",
       "stream": "stdout",
       "text": [
        "\n",
        "processed  30\n",
        "skipped  0\n",
        "417347290\n",
        "original article tmp file "
       ]
      },
      {
       "output_type": "stream",
       "stream": "stdout",
       "text": [
        " /tmp/tmpWaEoRS.html\n",
        "/tmp/tmprg1l22.html\n",
        "/tmp/tmpWaEoRS.html\n",
        "/tmp/tmpWaEoRS.html\n",
        "Now open file:///tmp/tmprg1l22.html in your web browser\n"
       ]
      },
      {
       "output_type": "stream",
       "stream": "stdout",
       "text": [
        "\n",
        "processed "
       ]
      },
      {
       "output_type": "stream",
       "stream": "stdout",
       "text": [
        " 31\n",
        "skipped  0\n",
        "417347524\n",
        "original article tmp file "
       ]
      },
      {
       "output_type": "stream",
       "stream": "stdout",
       "text": [
        " /tmp/tmpzu4SJp.html\n",
        "/tmp/tmp0Y8fTK.html\n",
        "/tmp/tmpzu4SJp.html\n",
        "/tmp/tmpzu4SJp.html\n",
        "Now open file:///tmp/tmp0Y8fTK.html in your web browser\n"
       ]
      },
      {
       "output_type": "stream",
       "stream": "stdout",
       "text": [
        "\n",
        "processed "
       ]
      },
      {
       "output_type": "stream",
       "stream": "stdout",
       "text": [
        " 32\n",
        "skipped  0\n",
        "417368539\n",
        "original article tmp file "
       ]
      },
      {
       "output_type": "stream",
       "stream": "stdout",
       "text": [
        " /tmp/tmpoQ1Ck1.html\n",
        "/tmp/tmpxgI4bw.html\n",
        "/tmp/tmpoQ1Ck1.html\n",
        "/tmp/tmpoQ1Ck1.html\n",
        "Now open file:///tmp/tmpxgI4bw.html in your web browser\n"
       ]
      },
      {
       "output_type": "stream",
       "stream": "stdout",
       "text": [
        "\n",
        "processed "
       ]
      },
      {
       "output_type": "stream",
       "stream": "stdout",
       "text": [
        " 33\n",
        "skipped  0\n",
        "417389613\n",
        "original article tmp file "
       ]
      },
      {
       "output_type": "stream",
       "stream": "stdout",
       "text": [
        " /tmp/tmpPhlDRN.html\n",
        "/tmp/tmpg1XPKH.html\n",
        "/tmp/tmpPhlDRN.html\n",
        "/tmp/tmpPhlDRN.html\n",
        "Now open file:///tmp/tmpg1XPKH.html in your web browser\n"
       ]
      },
      {
       "output_type": "stream",
       "stream": "stdout",
       "text": [
        "\n",
        "processed "
       ]
      },
      {
       "output_type": "stream",
       "stream": "stdout",
       "text": [
        " 34\n",
        "skipped  0\n",
        "417477837\n",
        "original article tmp file "
       ]
      },
      {
       "output_type": "stream",
       "stream": "stdout",
       "text": [
        " /tmp/tmp66ehBr.html\n",
        "/tmp/tmp3B5v9F.html\n",
        "/tmp/tmp66ehBr.html\n",
        "/tmp/tmp66ehBr.html\n",
        "Now open file:///tmp/tmp3B5v9F.html in your web browser\n"
       ]
      },
      {
       "output_type": "stream",
       "stream": "stdout",
       "text": [
        "\n",
        "processed  35\n",
        "skipped  0\n",
        "417653177\n",
        "original article tmp file "
       ]
      },
      {
       "output_type": "stream",
       "stream": "stdout",
       "text": [
        " /tmp/tmptKDjEy.html\n",
        "/tmp/tmplNVIsO.html\n",
        "/tmp/tmptKDjEy.html\n",
        "/tmp/tmptKDjEy.html\n",
        "Now open file:///tmp/tmplNVIsO.html in your web browser\n"
       ]
      },
      {
       "output_type": "stream",
       "stream": "stdout",
       "text": [
        "\n",
        "Unexpected error on string '</center>' <class 'lxml.etree.ParserError'>\n",
        "processed "
       ]
      },
      {
       "output_type": "stream",
       "stream": "stdout",
       "text": [
        " 36\n",
        "skipped  0\n",
        "418489742\n",
        "original article tmp file "
       ]
      },
      {
       "output_type": "stream",
       "stream": "stdout",
       "text": [
        " /tmp/tmpmSsifl.html\n",
        "/tmp/tmpiW3Sl8.html\n",
        "/tmp/tmpmSsifl.html\n",
        "/tmp/tmpmSsifl.html\n",
        "Now open file:///tmp/tmpiW3Sl8.html in your web browser\n"
       ]
      },
      {
       "output_type": "stream",
       "stream": "stdout",
       "text": [
        "\n",
        "processed "
       ]
      },
      {
       "output_type": "stream",
       "stream": "stdout",
       "text": [
        " 37\n",
        "skipped  0\n",
        "418544762\n",
        "original article tmp file "
       ]
      },
      {
       "output_type": "stream",
       "stream": "stdout",
       "text": [
        " /tmp/tmpRaiLFS.html\n",
        "/tmp/tmp0zj44g.html\n",
        "/tmp/tmpRaiLFS.html\n",
        "/tmp/tmpRaiLFS.html\n",
        "Now open file:///tmp/tmp0zj44g.html in your web browser\n"
       ]
      },
      {
       "output_type": "stream",
       "stream": "stdout",
       "text": [
        "\n",
        "processed "
       ]
      },
      {
       "output_type": "stream",
       "stream": "stdout",
       "text": [
        " 38\n",
        "skipped  0\n",
        "418574641\n",
        "original article tmp file "
       ]
      },
      {
       "output_type": "stream",
       "stream": "stdout",
       "text": [
        " /tmp/tmpnMx48H.html\n",
        "/tmp/tmp8umDMT.html\n",
        "/tmp/tmpnMx48H.html\n",
        "/tmp/tmpnMx48H.html\n",
        "Now open file:///tmp/tmp8umDMT.html in your web browser\n"
       ]
      },
      {
       "output_type": "stream",
       "stream": "stdout",
       "text": [
        "\n",
        "processed "
       ]
      },
      {
       "output_type": "stream",
       "stream": "stdout",
       "text": [
        " 39\n",
        "skipped  0\n",
        "418648698\n",
        "original article tmp file "
       ]
      },
      {
       "output_type": "stream",
       "stream": "stdout",
       "text": [
        " /tmp/tmp3pd6Kx.html\n",
        "/tmp/tmp5jlKXA.html\n",
        "/tmp/tmp3pd6Kx.html\n",
        "/tmp/tmp3pd6Kx.html\n",
        "Now open file:///tmp/tmp5jlKXA.html in your web browser\n"
       ]
      },
      {
       "output_type": "stream",
       "stream": "stdout",
       "text": [
        "\n",
        "processed  40\n",
        "skipped  0\n",
        "418661859\n",
        "original article tmp file "
       ]
      },
      {
       "output_type": "stream",
       "stream": "stdout",
       "text": [
        " /tmp/tmpYcR9Tz.html\n",
        "/tmp/tmpUJ4KjJ.html\n",
        "/tmp/tmpYcR9Tz.html\n",
        "/tmp/tmpYcR9Tz.html\n",
        "Now open file:///tmp/tmpUJ4KjJ.html in your web browser\n"
       ]
      },
      {
       "output_type": "stream",
       "stream": "stdout",
       "text": [
        "\n",
        "processed  41\n",
        "skipped  0\n",
        "419404469\n",
        "original article tmp file "
       ]
      },
      {
       "output_type": "stream",
       "stream": "stdout",
       "text": [
        " /tmp/tmpryanhh.html\n",
        "/tmp/tmpJlWHCo.html\n",
        "/tmp/tmpryanhh.html\n",
        "/tmp/tmpryanhh.html\n",
        "Now open file:///tmp/tmpJlWHCo.html in your web browser\n"
       ]
      },
      {
       "output_type": "stream",
       "stream": "stdout",
       "text": [
        "\n",
        "processed  42\n",
        "skipped  0\n",
        "419440474\n",
        "original article tmp file "
       ]
      },
      {
       "output_type": "stream",
       "stream": "stdout",
       "text": [
        " /tmp/tmpZ6vAw7.html\n",
        "/tmp/tmpel_Y3T.html\n",
        "/tmp/tmpZ6vAw7.html\n",
        "/tmp/tmpZ6vAw7.html\n",
        "Now open file:///tmp/tmpel_Y3T.html in your web browser\n"
       ]
      },
      {
       "output_type": "stream",
       "stream": "stdout",
       "text": [
        "\n",
        "processed "
       ]
      },
      {
       "output_type": "stream",
       "stream": "stdout",
       "text": [
        " 43\n",
        "skipped  0\n",
        "419483895\n",
        "original article tmp file "
       ]
      },
      {
       "output_type": "stream",
       "stream": "stdout",
       "text": [
        " /tmp/tmp8HHc4u.html\n",
        "/tmp/tmpvlAt3A.html\n",
        "/tmp/tmp8HHc4u.html\n",
        "/tmp/tmp8HHc4u.html\n",
        "Now open file:///tmp/tmpvlAt3A.html in your web browser\n"
       ]
      },
      {
       "output_type": "stream",
       "stream": "stdout",
       "text": [
        "\n",
        "processed "
       ]
      },
      {
       "output_type": "stream",
       "stream": "stdout",
       "text": [
        " 44\n",
        "skipped  0\n",
        "419873979\n",
        "original article tmp file "
       ]
      },
      {
       "output_type": "stream",
       "stream": "stdout",
       "text": [
        " /tmp/tmpeerXT8.html\n",
        "/tmp/tmpk5JkHY.html\n",
        "/tmp/tmpeerXT8.html\n",
        "/tmp/tmpeerXT8.html\n",
        "Now open file:///tmp/tmpk5JkHY.html in your web browser\n"
       ]
      },
      {
       "output_type": "stream",
       "stream": "stdout",
       "text": [
        "\n",
        "processed "
       ]
      },
      {
       "output_type": "stream",
       "stream": "stdout",
       "text": [
        " 45\n",
        "skipped  0\n",
        "420430754\n",
        "original article tmp file "
       ]
      },
      {
       "output_type": "stream",
       "stream": "stdout",
       "text": [
        " /tmp/tmphlZC8B.html\n",
        "/tmp/tmpgklUEC.html\n",
        "/tmp/tmphlZC8B.html\n",
        "/tmp/tmphlZC8B.html\n",
        "Now open file:///tmp/tmpgklUEC.html in your web browser\n"
       ]
      },
      {
       "output_type": "stream",
       "stream": "stdout",
       "text": [
        "\n",
        "processed  46\n",
        "skipped  0\n",
        "420599387\n",
        "original article tmp file "
       ]
      },
      {
       "output_type": "stream",
       "stream": "stdout",
       "text": [
        " /tmp/tmpvdvGY4.html\n",
        "/tmp/tmpV9JzXq.html\n",
        "/tmp/tmpvdvGY4.html\n",
        "/tmp/tmpvdvGY4.html\n",
        "Now open file:///tmp/tmpV9JzXq.html in your web browser\n"
       ]
      },
      {
       "output_type": "stream",
       "stream": "stdout",
       "text": [
        "\n",
        "processed "
       ]
      },
      {
       "output_type": "stream",
       "stream": "stdout",
       "text": [
        " 47\n",
        "skipped  0\n",
        "420666122\n",
        "original article tmp file "
       ]
      },
      {
       "output_type": "stream",
       "stream": "stdout",
       "text": [
        " /tmp/tmpNA9msA.html\n",
        "/tmp/tmp10DhDQ.html\n",
        "/tmp/tmpNA9msA.html\n",
        "/tmp/tmpNA9msA.html\n",
        "Now open file:///tmp/tmp10DhDQ.html in your web browser\n"
       ]
      },
      {
       "output_type": "stream",
       "stream": "stdout",
       "text": [
        "\n",
        "processed "
       ]
      },
      {
       "output_type": "stream",
       "stream": "stdout",
       "text": [
        " 48\n",
        "skipped  0\n",
        "421520860\n",
        "error on download421520860"
       ]
      },
      {
       "output_type": "stream",
       "stream": "stdout",
       "text": [
        "\n",
        "processed  48\n",
        "skipped  1\n",
        "421834553\n",
        "original article tmp file "
       ]
      },
      {
       "output_type": "stream",
       "stream": "stdout",
       "text": [
        " /tmp/tmpISQat7.html\n",
        "/tmp/tmpwtpRRD.html\n",
        "/tmp/tmpISQat7.html\n",
        "/tmp/tmpISQat7.html\n",
        "Now open file:///tmp/tmpwtpRRD.html in your web browser\n"
       ]
      },
      {
       "output_type": "stream",
       "stream": "stdout",
       "text": [
        "\n",
        "processed "
       ]
      },
      {
       "output_type": "stream",
       "stream": "stdout",
       "text": [
        " 49\n",
        "skipped  1\n",
        "422181106\n",
        "original article tmp file "
       ]
      },
      {
       "output_type": "stream",
       "stream": "stdout",
       "text": [
        " /tmp/tmpnkLvvE.html\n",
        "/tmp/tmp2fsjzT.html\n",
        "/tmp/tmpnkLvvE.html\n",
        "/tmp/tmpnkLvvE.html\n",
        "Now open file:///tmp/tmp2fsjzT.html in your web browser\n"
       ]
      },
      {
       "output_type": "stream",
       "stream": "stdout",
       "text": [
        "\n",
        "processed  50\n",
        "skipped  1\n",
        "422280595\n",
        "original article tmp file "
       ]
      },
      {
       "output_type": "stream",
       "stream": "stdout",
       "text": [
        " /tmp/tmpb8ehAo.html\n",
        "/tmp/tmpv1jdCO.html\n",
        "/tmp/tmpb8ehAo.html\n",
        "/tmp/tmpb8ehAo.html\n",
        "Now open file:///tmp/tmpv1jdCO.html in your web browser\n"
       ]
      },
      {
       "output_type": "stream",
       "stream": "stdout",
       "text": [
        "\n",
        "processed  51\n",
        "skipped  1\n",
        "422910963\n",
        "original article tmp file "
       ]
      },
      {
       "output_type": "stream",
       "stream": "stdout",
       "text": [
        " /tmp/tmpd68Dkc.html\n",
        "/tmp/tmplWWIbT.html\n",
        "/tmp/tmpd68Dkc.html\n",
        "/tmp/tmpd68Dkc.html\n",
        "Now open file:///tmp/tmplWWIbT.html in your web browser\n"
       ]
      },
      {
       "output_type": "stream",
       "stream": "stdout",
       "text": [
        "\n",
        "processed "
       ]
      },
      {
       "output_type": "stream",
       "stream": "stdout",
       "text": [
        " 52\n",
        "skipped  1\n",
        "423318170\n",
        "original article tmp file "
       ]
      },
      {
       "output_type": "stream",
       "stream": "stdout",
       "text": [
        " /tmp/tmpxjyxmi.html\n",
        "/tmp/tmpGq8lxW.html\n",
        "/tmp/tmpxjyxmi.html\n",
        "/tmp/tmpxjyxmi.html\n",
        "Now open file:///tmp/tmpGq8lxW.html in your web browser\n"
       ]
      },
      {
       "output_type": "stream",
       "stream": "stdout",
       "text": [
        "\n",
        "processed "
       ]
      },
      {
       "output_type": "stream",
       "stream": "stdout",
       "text": [
        " 53\n",
        "skipped  1\n",
        "424080271\n",
        "original article tmp file "
       ]
      },
      {
       "output_type": "stream",
       "stream": "stdout",
       "text": [
        " /tmp/tmpu1ObIH.html\n",
        "/tmp/tmpxmDJ6H.html\n",
        "/tmp/tmpu1ObIH.html\n",
        "/tmp/tmpu1ObIH.html\n",
        "Now open file:///tmp/tmpxmDJ6H.html in your web browser\n"
       ]
      },
      {
       "output_type": "stream",
       "stream": "stdout",
       "text": [
        "\n",
        "processed  54\n",
        "skipped  1\n",
        "424369085\n",
        "original article tmp file "
       ]
      },
      {
       "output_type": "stream",
       "stream": "stdout",
       "text": [
        " /tmp/tmp8i6aQF.html\n",
        "/tmp/tmpwuKT1E.html\n",
        "/tmp/tmp8i6aQF.html\n",
        "/tmp/tmp8i6aQF.html\n",
        "Now open file:///tmp/tmpwuKT1E.html in your web browser\n"
       ]
      },
      {
       "output_type": "stream",
       "stream": "stdout",
       "text": [
        "\n",
        "processed  55\n",
        "skipped  1\n",
        "424796346\n",
        "original article tmp file "
       ]
      },
      {
       "output_type": "stream",
       "stream": "stdout",
       "text": [
        " /tmp/tmpYUIDgQ.html\n",
        "/tmp/tmpgjbzQ1.html\n",
        "/tmp/tmpYUIDgQ.html\n",
        "/tmp/tmpYUIDgQ.html\n",
        "Now open file:///tmp/tmpgjbzQ1.html in your web browser\n"
       ]
      },
      {
       "output_type": "stream",
       "stream": "stdout",
       "text": [
        "\n",
        "processed  56\n",
        "skipped  1\n",
        "424840366\n",
        "original article tmp file "
       ]
      },
      {
       "output_type": "stream",
       "stream": "stdout",
       "text": [
        " /tmp/tmpCEFJjc.html\n",
        "/tmp/tmpiwKMOn.html\n",
        "/tmp/tmpCEFJjc.html\n",
        "/tmp/tmpCEFJjc.html\n",
        "Now open file:///tmp/tmpiwKMOn.html in your web browser\n"
       ]
      },
      {
       "output_type": "stream",
       "stream": "stdout",
       "text": [
        "\n",
        "processed  57\n",
        "skipped  1\n",
        "425206279\n",
        "original article tmp file "
       ]
      },
      {
       "output_type": "stream",
       "stream": "stdout",
       "text": [
        " /tmp/tmpV54qUm.html\n",
        "/tmp/tmp7FmRge.html\n",
        "/tmp/tmpV54qUm.html\n",
        "/tmp/tmpV54qUm.html\n",
        "Now open file:///tmp/tmp7FmRge.html in your web browser\n"
       ]
      },
      {
       "output_type": "stream",
       "stream": "stdout",
       "text": [
        "\n",
        "processed  58\n",
        "skipped  1\n",
        "426405203\n",
        "original article tmp file "
       ]
      },
      {
       "output_type": "stream",
       "stream": "stdout",
       "text": [
        " /tmp/tmpStOs2g.html\n",
        "/tmp/tmpFvMzYU.html\n",
        "/tmp/tmpStOs2g.html\n",
        "/tmp/tmpStOs2g.html\n",
        "Now open file:///tmp/tmpFvMzYU.html in your web browser\n"
       ]
      },
      {
       "output_type": "stream",
       "stream": "stdout",
       "text": [
        "\n",
        "processed  59\n",
        "skipped  1\n",
        "426560018\n",
        "error on download426560018"
       ]
      },
      {
       "output_type": "stream",
       "stream": "stdout",
       "text": [
        "\n",
        "processed  59\n",
        "skipped  2\n",
        "426632784\n",
        "original article tmp file "
       ]
      },
      {
       "output_type": "stream",
       "stream": "stdout",
       "text": [
        " /tmp/tmpP2QAjS.html\n",
        "/tmp/tmpUQ6MMl.html\n",
        "/tmp/tmpP2QAjS.html\n",
        "/tmp/tmpP2QAjS.html\n",
        "Now open file:///tmp/tmpUQ6MMl.html in your web browser\n"
       ]
      },
      {
       "output_type": "stream",
       "stream": "stdout",
       "text": [
        "\n",
        "processed "
       ]
      },
      {
       "output_type": "stream",
       "stream": "stdout",
       "text": [
        " 60\n",
        "skipped  2\n",
        "426709900\n",
        "original article tmp file "
       ]
      },
      {
       "output_type": "stream",
       "stream": "stdout",
       "text": [
        " /tmp/tmp5maoj3.html\n",
        "/tmp/tmp4Rs4RF.html\n",
        "/tmp/tmp5maoj3.html\n",
        "/tmp/tmp5maoj3.html\n",
        "Now open file:///tmp/tmp4Rs4RF.html in your web browser\n"
       ]
      },
      {
       "output_type": "stream",
       "stream": "stdout",
       "text": [
        "\n",
        "processed "
       ]
      },
      {
       "output_type": "stream",
       "stream": "stdout",
       "text": [
        " 61\n",
        "skipped  2\n",
        "428449440\n",
        "original article tmp file "
       ]
      },
      {
       "output_type": "stream",
       "stream": "stdout",
       "text": [
        " /tmp/tmpuFhfT4.html\n",
        "/tmp/tmp2BLZtn.html\n",
        "/tmp/tmpuFhfT4.html\n",
        "/tmp/tmpuFhfT4.html\n",
        "Now open file:///tmp/tmp2BLZtn.html in your web browser\n"
       ]
      },
      {
       "output_type": "stream",
       "stream": "stdout",
       "text": [
        "\n",
        "processed  62\n",
        "skipped  2\n",
        "429607289\n",
        "original article tmp file "
       ]
      },
      {
       "output_type": "stream",
       "stream": "stdout",
       "text": [
        " /tmp/tmpADIgdO.html\n",
        "/tmp/tmpkC6Ehm.html\n",
        "/tmp/tmpADIgdO.html\n",
        "/tmp/tmpADIgdO.html\n",
        "Now open file:///tmp/tmpkC6Ehm.html in your web browser\n"
       ]
      },
      {
       "output_type": "stream",
       "stream": "stdout",
       "text": [
        "\n",
        "processed "
       ]
      },
      {
       "output_type": "stream",
       "stream": "stdout",
       "text": [
        " 63\n",
        "skipped  2\n",
        "430363249\n",
        "original article tmp file "
       ]
      },
      {
       "output_type": "stream",
       "stream": "stdout",
       "text": [
        " /tmp/tmpMuzQFJ.html\n",
        "/tmp/tmpwg8Qui.html\n",
        "/tmp/tmpMuzQFJ.html\n",
        "/tmp/tmpMuzQFJ.html\n",
        "Now open file:///tmp/tmpwg8Qui.html in your web browser\n"
       ]
      },
      {
       "output_type": "stream",
       "stream": "stdout",
       "text": [
        "\n",
        "processed  64\n",
        "skipped  2\n",
        "430995428\n",
        "original article tmp file "
       ]
      },
      {
       "output_type": "stream",
       "stream": "stdout",
       "text": [
        " /tmp/tmpkTOZkc.html\n",
        "/tmp/tmpYtY48Y.html\n",
        "/tmp/tmpkTOZkc.html\n",
        "/tmp/tmpkTOZkc.html\n",
        "Now open file:///tmp/tmpYtY48Y.html in your web browser\n"
       ]
      },
      {
       "output_type": "stream",
       "stream": "stdout",
       "text": [
        "\n",
        "processed  65\n",
        "skipped  2\n",
        "433457459\n",
        "original article tmp file "
       ]
      },
      {
       "output_type": "stream",
       "stream": "stdout",
       "text": [
        " /tmp/tmpemrrk3.html\n",
        "/tmp/tmpV1znC3.html\n",
        "/tmp/tmpemrrk3.html\n",
        "/tmp/tmpemrrk3.html\n",
        "Now open file:///tmp/tmpV1znC3.html in your web browser\n"
       ]
      },
      {
       "output_type": "stream",
       "stream": "stdout",
       "text": [
        "\n",
        "processed  66\n",
        "skipped  2\n",
        "435624796\n",
        "original article tmp file "
       ]
      },
      {
       "output_type": "stream",
       "stream": "stdout",
       "text": [
        " /tmp/tmpB973NG.html\n",
        "/tmp/tmpJ1cvmk.html\n",
        "/tmp/tmpB973NG.html\n",
        "/tmp/tmpB973NG.html\n",
        "Now open file:///tmp/tmpJ1cvmk.html in your web browser\n"
       ]
      },
      {
       "output_type": "stream",
       "stream": "stdout",
       "text": [
        "\n",
        "processed  67\n",
        "skipped  2\n",
        "435659593\n",
        "original article tmp file "
       ]
      },
      {
       "output_type": "stream",
       "stream": "stdout",
       "text": [
        " /tmp/tmpWXci3v.html\n",
        "/tmp/tmp5JlYCU.html\n",
        "/tmp/tmpWXci3v.html\n",
        "/tmp/tmpWXci3v.html\n",
        "Now open file:///tmp/tmp5JlYCU.html in your web browser\n"
       ]
      },
      {
       "output_type": "stream",
       "stream": "stdout",
       "text": [
        "\n",
        "processed  68\n",
        "skipped  2\n",
        "461175103\n",
        "original article tmp file "
       ]
      },
      {
       "output_type": "stream",
       "stream": "stdout",
       "text": [
        " /tmp/tmpFpVT1h.html\n",
        "/tmp/tmpVUWHGD.html\n",
        "/tmp/tmpFpVT1h.html\n",
        "/tmp/tmpFpVT1h.html\n",
        "Now open file:///tmp/tmpVUWHGD.html in your web browser\n"
       ]
      },
      {
       "output_type": "stream",
       "stream": "stdout",
       "text": [
        "\n",
        "processed "
       ]
      },
      {
       "output_type": "stream",
       "stream": "stdout",
       "text": [
        " 69\n",
        "skipped  2\n",
        "461175549\n",
        "original article tmp file "
       ]
      },
      {
       "output_type": "stream",
       "stream": "stdout",
       "text": [
        " /tmp/tmpPRPzHm.html\n",
        "/tmp/tmp7FLr1t.html\n",
        "/tmp/tmpPRPzHm.html\n",
        "/tmp/tmpPRPzHm.html\n",
        "Now open file:///tmp/tmp7FLr1t.html in your web browser\n"
       ]
      },
      {
       "output_type": "stream",
       "stream": "stdout",
       "text": [
        "\n",
        "processed "
       ]
      },
      {
       "output_type": "stream",
       "stream": "stdout",
       "text": [
        " 70\n",
        "skipped  2\n",
        "461176415\n",
        "error on download461176415"
       ]
      },
      {
       "output_type": "stream",
       "stream": "stdout",
       "text": [
        "\n",
        "processed  70\n",
        "skipped  3\n",
        "461176844\n",
        "original article tmp file "
       ]
      },
      {
       "output_type": "stream",
       "stream": "stdout",
       "text": [
        " /tmp/tmp2hmkpx.html\n",
        "/tmp/tmpZqycL6.html\n",
        "/tmp/tmp2hmkpx.html\n",
        "/tmp/tmp2hmkpx.html\n",
        "Now open file:///tmp/tmpZqycL6.html in your web browser\n"
       ]
      },
      {
       "output_type": "stream",
       "stream": "stdout",
       "text": [
        "\n",
        "processed "
       ]
      },
      {
       "output_type": "stream",
       "stream": "stdout",
       "text": [
        " 71\n",
        "skipped  3\n",
        "461177487\n",
        "original article tmp file "
       ]
      },
      {
       "output_type": "stream",
       "stream": "stdout",
       "text": [
        " /tmp/tmptlYWsk.html\n",
        "/tmp/tmpkAkE7r.html\n",
        "/tmp/tmptlYWsk.html\n",
        "/tmp/tmptlYWsk.html\n",
        "Now open file:///tmp/tmpkAkE7r.html in your web browser\n"
       ]
      },
      {
       "output_type": "stream",
       "stream": "stdout",
       "text": [
        "\n",
        "processed  72\n",
        "skipped  3\n",
        "461178557\n",
        "original article tmp file "
       ]
      },
      {
       "output_type": "stream",
       "stream": "stdout",
       "text": [
        " /tmp/tmpeqPU05.html\n",
        "/tmp/tmpfwBMoB.html\n",
        "/tmp/tmpeqPU05.html\n",
        "/tmp/tmpeqPU05.html\n",
        "Now open file:///tmp/tmpfwBMoB.html in your web browser\n"
       ]
      },
      {
       "output_type": "stream",
       "stream": "stdout",
       "text": [
        "\n",
        "processed  73\n",
        "skipped  3\n",
        "461178590\n",
        "original article tmp file "
       ]
      },
      {
       "output_type": "stream",
       "stream": "stdout",
       "text": [
        " /tmp/tmpxQ37A3.html\n",
        "/tmp/tmpyExAG_.html\n",
        "/tmp/tmpxQ37A3.html\n",
        "/tmp/tmpxQ37A3.html\n",
        "Now open file:///tmp/tmpyExAG_.html in your web browser\n"
       ]
      },
      {
       "output_type": "stream",
       "stream": "stdout",
       "text": [
        "\n",
        "processed "
       ]
      },
      {
       "output_type": "stream",
       "stream": "stdout",
       "text": [
        " 74\n",
        "skipped  3\n",
        "461179203\n",
        "original article tmp file "
       ]
      },
      {
       "output_type": "stream",
       "stream": "stdout",
       "text": [
        " /tmp/tmpUHscOX.html\n",
        "/tmp/tmpO7gBgn.html\n",
        "/tmp/tmpUHscOX.html\n",
        "/tmp/tmpUHscOX.html\n",
        "Now open file:///tmp/tmpO7gBgn.html in your web browser\n"
       ]
      },
      {
       "output_type": "stream",
       "stream": "stdout",
       "text": [
        "\n",
        "processed "
       ]
      },
      {
       "output_type": "stream",
       "stream": "stdout",
       "text": [
        " 75\n",
        "skipped  3\n",
        "461179222\n",
        "original article tmp file "
       ]
      },
      {
       "output_type": "stream",
       "stream": "stdout",
       "text": [
        " /tmp/tmpdHrRUT.html\n",
        "/tmp/tmpSrtwcF.html\n",
        "/tmp/tmpdHrRUT.html\n",
        "/tmp/tmpdHrRUT.html\n",
        "Now open file:///tmp/tmpSrtwcF.html in your web browser\n"
       ]
      },
      {
       "output_type": "stream",
       "stream": "stdout",
       "text": [
        "\n",
        "processed "
       ]
      },
      {
       "output_type": "stream",
       "stream": "stdout",
       "text": [
        " 76\n",
        "skipped  3\n",
        "461179441\n",
        "original article tmp file "
       ]
      },
      {
       "output_type": "stream",
       "stream": "stdout",
       "text": [
        " /tmp/tmpgmLWBh.html\n",
        "/tmp/tmpTwGLDJ.html\n",
        "/tmp/tmpgmLWBh.html\n",
        "/tmp/tmpgmLWBh.html\n",
        "Now open file:///tmp/tmpTwGLDJ.html in your web browser\n"
       ]
      },
      {
       "output_type": "stream",
       "stream": "stdout",
       "text": [
        "\n",
        "processed "
       ]
      },
      {
       "output_type": "stream",
       "stream": "stdout",
       "text": [
        " 77\n",
        "skipped  3\n",
        "461179762\n",
        "original article tmp file "
       ]
      },
      {
       "output_type": "stream",
       "stream": "stdout",
       "text": [
        " /tmp/tmp5SqhFZ.html\n",
        "/tmp/tmplkmLdr.html\n",
        "/tmp/tmp5SqhFZ.html\n",
        "/tmp/tmp5SqhFZ.html\n",
        "Now open file:///tmp/tmplkmLdr.html in your web browser\n"
       ]
      },
      {
       "output_type": "stream",
       "stream": "stdout",
       "text": [
        "\n",
        "processed "
       ]
      },
      {
       "output_type": "stream",
       "stream": "stdout",
       "text": [
        " 78\n",
        "skipped  3\n",
        "461179818\n",
        "original article tmp file "
       ]
      },
      {
       "output_type": "stream",
       "stream": "stdout",
       "text": [
        " /tmp/tmpJgEZg6.html\n",
        "/tmp/tmpIyaDhj.html\n",
        "/tmp/tmpJgEZg6.html\n",
        "/tmp/tmpJgEZg6.html\n",
        "Now open file:///tmp/tmpIyaDhj.html in your web browser\n"
       ]
      },
      {
       "output_type": "stream",
       "stream": "stdout",
       "text": [
        "\n",
        "processed "
       ]
      },
      {
       "output_type": "stream",
       "stream": "stdout",
       "text": [
        " 79\n",
        "skipped  3\n",
        "461179954\n",
        "original article tmp file "
       ]
      },
      {
       "output_type": "stream",
       "stream": "stdout",
       "text": [
        " /tmp/tmpwjG3JS.html\n",
        "/tmp/tmpBV4A6c.html\n",
        "/tmp/tmpwjG3JS.html\n",
        "/tmp/tmpwjG3JS.html\n",
        "Now open file:///tmp/tmpBV4A6c.html in your web browser\n"
       ]
      },
      {
       "output_type": "stream",
       "stream": "stdout",
       "text": [
        "\n",
        "processed "
       ]
      },
      {
       "output_type": "stream",
       "stream": "stdout",
       "text": [
        " 80\n",
        "skipped  3\n",
        "461179956\n",
        "original article tmp file "
       ]
      },
      {
       "output_type": "stream",
       "stream": "stdout",
       "text": [
        " /tmp/tmpuGEzeo.html\n",
        "/tmp/tmp_aYmQ8.html\n",
        "/tmp/tmpuGEzeo.html\n",
        "/tmp/tmpuGEzeo.html\n",
        "Now open file:///tmp/tmp_aYmQ8.html in your web browser\n"
       ]
      },
      {
       "output_type": "stream",
       "stream": "stdout",
       "text": [
        "\n",
        "processed "
       ]
      },
      {
       "output_type": "stream",
       "stream": "stdout",
       "text": [
        " 81\n",
        "skipped  3\n",
        "461180307\n",
        "original article tmp file "
       ]
      },
      {
       "output_type": "stream",
       "stream": "stdout",
       "text": [
        " /tmp/tmpMYOLm1.html\n",
        "/tmp/tmpe9YwF4.html\n",
        "/tmp/tmpMYOLm1.html\n",
        "/tmp/tmpMYOLm1.html\n",
        "Now open file:///tmp/tmpe9YwF4.html in your web browser\n"
       ]
      },
      {
       "output_type": "stream",
       "stream": "stdout",
       "text": [
        "\n",
        "processed  82\n",
        "skipped  3\n",
        "461181039\n",
        "original article tmp file "
       ]
      },
      {
       "output_type": "stream",
       "stream": "stdout",
       "text": [
        " /tmp/tmp1GxQcN.html\n",
        "/tmp/tmpYul4pT.html\n",
        "/tmp/tmp1GxQcN.html\n",
        "/tmp/tmp1GxQcN.html\n",
        "Now open file:///tmp/tmpYul4pT.html in your web browser\n"
       ]
      },
      {
       "output_type": "stream",
       "stream": "stdout",
       "text": [
        "\n",
        "processed "
       ]
      },
      {
       "output_type": "stream",
       "stream": "stdout",
       "text": [
        " 83\n",
        "skipped  3\n",
        "461181597\n",
        "original article tmp file "
       ]
      },
      {
       "output_type": "stream",
       "stream": "stdout",
       "text": [
        " /tmp/tmpUmf35U.html\n",
        "/tmp/tmpQHkHcJ.html\n",
        "/tmp/tmpUmf35U.html\n",
        "/tmp/tmpUmf35U.html\n",
        "Now open file:///tmp/tmpQHkHcJ.html in your web browser\n"
       ]
      },
      {
       "output_type": "stream",
       "stream": "stdout",
       "text": [
        "\n",
        "processed  84\n",
        "skipped  3\n",
        "461186137\n",
        "original article tmp file "
       ]
      },
      {
       "output_type": "stream",
       "stream": "stdout",
       "text": [
        " /tmp/tmp0MCx07.html\n",
        "/tmp/tmpzezCHy.html\n",
        "/tmp/tmp0MCx07.html\n",
        "/tmp/tmp0MCx07.html\n",
        "Now open file:///tmp/tmpzezCHy.html in your web browser\n"
       ]
      },
      {
       "output_type": "stream",
       "stream": "stdout",
       "text": [
        "\n",
        "processed "
       ]
      },
      {
       "output_type": "stream",
       "stream": "stdout",
       "text": [
        " 85\n",
        "skipped  3\n",
        "461186258\n",
        "original article tmp file "
       ]
      },
      {
       "output_type": "stream",
       "stream": "stdout",
       "text": [
        " /tmp/tmp0hhVEX.html\n",
        "/tmp/tmpxa2yPI.html\n",
        "/tmp/tmp0hhVEX.html\n",
        "/tmp/tmp0hhVEX.html\n",
        "Now open file:///tmp/tmpxa2yPI.html in your web browser\n"
       ]
      },
      {
       "output_type": "stream",
       "stream": "stdout",
       "text": [
        "\n",
        "processed "
       ]
      },
      {
       "output_type": "stream",
       "stream": "stdout",
       "text": [
        " 86\n",
        "skipped  3\n",
        "461186833\n",
        "original article tmp file "
       ]
      },
      {
       "output_type": "stream",
       "stream": "stdout",
       "text": [
        " /tmp/tmpjBP8pP.html\n",
        "/tmp/tmpmp78OB.html\n",
        "/tmp/tmpjBP8pP.html\n",
        "/tmp/tmpjBP8pP.html\n",
        "Now open file:///tmp/tmpmp78OB.html in your web browser\n"
       ]
      },
      {
       "output_type": "stream",
       "stream": "stdout",
       "text": [
        "\n",
        "processed "
       ]
      },
      {
       "output_type": "stream",
       "stream": "stdout",
       "text": [
        " 87\n",
        "skipped  3\n",
        "461187188\n",
        "original article tmp file "
       ]
      },
      {
       "output_type": "stream",
       "stream": "stdout",
       "text": [
        " /tmp/tmpiHaxBt.html\n",
        "/tmp/tmpBA4_5e.html\n",
        "/tmp/tmpiHaxBt.html\n",
        "/tmp/tmpiHaxBt.html\n",
        "Now open file:///tmp/tmpBA4_5e.html in your web browser\n"
       ]
      },
      {
       "output_type": "stream",
       "stream": "stdout",
       "text": [
        "\n",
        "processed "
       ]
      },
      {
       "output_type": "stream",
       "stream": "stdout",
       "text": [
        " 88\n",
        "skipped  3\n",
        "461187261\n",
        "original article tmp file "
       ]
      },
      {
       "output_type": "stream",
       "stream": "stdout",
       "text": [
        " /tmp/tmpBNEs5G.html\n",
        "/tmp/tmpUMOqCx.html\n",
        "/tmp/tmpBNEs5G.html\n",
        "/tmp/tmpBNEs5G.html\n",
        "Now open file:///tmp/tmpUMOqCx.html in your web browser\n"
       ]
      },
      {
       "output_type": "stream",
       "stream": "stdout",
       "text": [
        "\n",
        "processed "
       ]
      },
      {
       "output_type": "stream",
       "stream": "stdout",
       "text": [
        " 89\n",
        "skipped  3\n",
        "461187577\n",
        "original article tmp file "
       ]
      },
      {
       "output_type": "stream",
       "stream": "stdout",
       "text": [
        " /tmp/tmpOPXii4.html\n",
        "/tmp/tmpnPC8MS.html\n",
        "/tmp/tmpOPXii4.html\n",
        "/tmp/tmpOPXii4.html\n",
        "Now open file:///tmp/tmpnPC8MS.html in your web browser\n"
       ]
      },
      {
       "output_type": "stream",
       "stream": "stdout",
       "text": [
        "\n",
        "processed "
       ]
      },
      {
       "output_type": "stream",
       "stream": "stdout",
       "text": [
        " 90\n",
        "skipped  3\n",
        "461188549\n",
        "original article tmp file "
       ]
      },
      {
       "output_type": "stream",
       "stream": "stdout",
       "text": [
        " /tmp/tmp6lg6PV.html\n",
        "/tmp/tmpPtBf_j.html\n",
        "/tmp/tmp6lg6PV.html\n",
        "/tmp/tmp6lg6PV.html\n",
        "Now open file:///tmp/tmpPtBf_j.html in your web browser\n"
       ]
      },
      {
       "output_type": "stream",
       "stream": "stdout",
       "text": [
        "\n",
        "processed "
       ]
      },
      {
       "output_type": "stream",
       "stream": "stdout",
       "text": [
        " 91\n",
        "skipped  3\n",
        "461189069\n",
        "original article tmp file "
       ]
      },
      {
       "output_type": "stream",
       "stream": "stdout",
       "text": [
        " /tmp/tmpWk_O1o.html\n",
        "/tmp/tmp17ge7c.html\n",
        "/tmp/tmpWk_O1o.html\n",
        "/tmp/tmpWk_O1o.html\n",
        "Now open file:///tmp/tmp17ge7c.html in your web browser\n"
       ]
      },
      {
       "output_type": "stream",
       "stream": "stdout",
       "text": [
        "\n",
        "processed "
       ]
      },
      {
       "output_type": "stream",
       "stream": "stdout",
       "text": [
        " 92\n",
        "skipped  3\n",
        "461190586\n",
        "original article tmp file "
       ]
      },
      {
       "output_type": "stream",
       "stream": "stdout",
       "text": [
        " /tmp/tmpkmViwp.html\n",
        "/tmp/tmp61xRdl.html\n",
        "/tmp/tmpkmViwp.html\n",
        "/tmp/tmpkmViwp.html\n",
        "Now open file:///tmp/tmp61xRdl.html in your web browser\n"
       ]
      },
      {
       "output_type": "stream",
       "stream": "stdout",
       "text": [
        "\n",
        "processed "
       ]
      },
      {
       "output_type": "stream",
       "stream": "stdout",
       "text": [
        " 93\n",
        "skipped  3\n",
        "461193383\n",
        "original article tmp file "
       ]
      },
      {
       "output_type": "stream",
       "stream": "stdout",
       "text": [
        " /tmp/tmpFCBwOQ.html\n",
        "/tmp/tmp4RtLzv.html\n",
        "/tmp/tmpFCBwOQ.html\n",
        "/tmp/tmpFCBwOQ.html\n",
        "Now open file:///tmp/tmp4RtLzv.html in your web browser\n"
       ]
      },
      {
       "output_type": "stream",
       "stream": "stdout",
       "text": [
        "\n",
        "processed "
       ]
      },
      {
       "output_type": "stream",
       "stream": "stdout",
       "text": [
        " 94\n",
        "skipped  3\n",
        "406397565\n",
        "original article tmp file "
       ]
      },
      {
       "output_type": "stream",
       "stream": "stdout",
       "text": [
        " /tmp/tmpk_cKlP.html\n",
        "/tmp/tmpP4L389.html\n",
        "/tmp/tmpk_cKlP.html\n",
        "/tmp/tmpk_cKlP.html\n",
        "Now open file:///tmp/tmpP4L389.html in your web browser\n"
       ]
      },
      {
       "output_type": "stream",
       "stream": "stdout",
       "text": [
        "\n",
        "processed  95\n",
        "skipped  3\n",
        "406946308\n",
        "original article tmp file "
       ]
      },
      {
       "output_type": "stream",
       "stream": "stdout",
       "text": [
        " /tmp/tmpbQ1qNL.html\n",
        "/tmp/tmp8aCc81.html\n",
        "/tmp/tmpbQ1qNL.html\n",
        "/tmp/tmpbQ1qNL.html\n",
        "Now open file:///tmp/tmp8aCc81.html in your web browser\n"
       ]
      },
      {
       "output_type": "stream",
       "stream": "stdout",
       "text": [
        "\n",
        "processed "
       ]
      },
      {
       "output_type": "stream",
       "stream": "stdout",
       "text": [
        " 96\n",
        "skipped  3\n",
        "407440556\n",
        "original article tmp file "
       ]
      },
      {
       "output_type": "stream",
       "stream": "stdout",
       "text": [
        " /tmp/tmp4JYRLn.html\n",
        "/tmp/tmpqk9Piz.html\n",
        "/tmp/tmp4JYRLn.html\n",
        "/tmp/tmp4JYRLn.html\n",
        "Now open file:///tmp/tmpqk9Piz.html in your web browser\n"
       ]
      },
      {
       "output_type": "stream",
       "stream": "stdout",
       "text": [
        "\n",
        "processed  97\n",
        "skipped  3\n",
        "408175125\n",
        "original article tmp file "
       ]
      },
      {
       "output_type": "stream",
       "stream": "stdout",
       "text": [
        " /tmp/tmpjaL02v.html\n",
        "/tmp/tmpBlDgWJ.html\n",
        "/tmp/tmpjaL02v.html\n",
        "/tmp/tmpjaL02v.html\n",
        "Now open file:///tmp/tmpBlDgWJ.html in your web browser\n"
       ]
      },
      {
       "output_type": "stream",
       "stream": "stdout",
       "text": [
        "\n",
        "processed "
       ]
      },
      {
       "output_type": "stream",
       "stream": "stdout",
       "text": [
        " 98\n",
        "skipped  3\n",
        "408604940\n",
        "original article tmp file "
       ]
      },
      {
       "output_type": "stream",
       "stream": "stdout",
       "text": [
        " /tmp/tmpYT7oFl.html\n",
        "/tmp/tmpDSdNWx.html\n",
        "/tmp/tmpYT7oFl.html\n",
        "/tmp/tmpYT7oFl.html\n",
        "Now open file:///tmp/tmpDSdNWx.html in your web browser\n"
       ]
      },
      {
       "output_type": "stream",
       "stream": "stdout",
       "text": [
        "\n",
        "processed "
       ]
      },
      {
       "output_type": "stream",
       "stream": "stdout",
       "text": [
        " 99\n",
        "skipped  3\n",
        "408964569\n",
        "original article tmp file "
       ]
      },
      {
       "output_type": "stream",
       "stream": "stdout",
       "text": [
        " /tmp/tmpEKNxzY.html\n",
        "/tmp/tmpa2adW1.html\n",
        "/tmp/tmpEKNxzY.html\n",
        "/tmp/tmpEKNxzY.html\n",
        "Now open file:///tmp/tmpa2adW1.html in your web browser\n"
       ]
      },
      {
       "output_type": "stream",
       "stream": "stdout",
       "text": [
        "\n",
        "processed  100\n",
        "skipped  3\n",
        "409307571\n",
        "original article tmp file "
       ]
      },
      {
       "output_type": "stream",
       "stream": "stdout",
       "text": [
        " /tmp/tmpATUTwM.html\n",
        "/tmp/tmpxcJm2F.html\n",
        "/tmp/tmpATUTwM.html\n",
        "/tmp/tmpATUTwM.html\n",
        "Now open file:///tmp/tmpxcJm2F.html in your web browser\n"
       ]
      },
      {
       "output_type": "stream",
       "stream": "stdout",
       "text": [
        "\n",
        "processed  101\n",
        "skipped  3\n",
        "409362014\n",
        "original article tmp file "
       ]
      },
      {
       "output_type": "stream",
       "stream": "stdout",
       "text": [
        " /tmp/tmp78Pb7Q.html\n",
        "/tmp/tmphxOAK8.html\n",
        "/tmp/tmp78Pb7Q.html\n",
        "/tmp/tmp78Pb7Q.html\n",
        "Now open file:///tmp/tmphxOAK8.html in your web browser\n"
       ]
      },
      {
       "output_type": "stream",
       "stream": "stdout",
       "text": [
        "\n",
        "processed "
       ]
      },
      {
       "output_type": "stream",
       "stream": "stdout",
       "text": [
        " 102\n",
        "skipped  3\n",
        "410019932\n",
        "original article tmp file "
       ]
      },
      {
       "output_type": "stream",
       "stream": "stdout",
       "text": [
        " /tmp/tmppDxXiE.html\n",
        "/tmp/tmpgXE_AX.html\n",
        "/tmp/tmppDxXiE.html\n",
        "/tmp/tmppDxXiE.html\n",
        "Now open file:///tmp/tmpgXE_AX.html in your web browser\n"
       ]
      },
      {
       "output_type": "stream",
       "stream": "stdout",
       "text": [
        "\n",
        "processed  103\n",
        "skipped  3\n",
        "410769033\n",
        "original article tmp file "
       ]
      },
      {
       "output_type": "stream",
       "stream": "stdout",
       "text": [
        " /tmp/tmpKtGSHn.html\n",
        "/tmp/tmpPrPiud.html\n",
        "/tmp/tmpKtGSHn.html\n",
        "/tmp/tmpKtGSHn.html\n",
        "Now open file:///tmp/tmpPrPiud.html in your web browser\n"
       ]
      },
      {
       "output_type": "stream",
       "stream": "stdout",
       "text": [
        "\n",
        "processed "
       ]
      },
      {
       "output_type": "stream",
       "stream": "stdout",
       "text": [
        " 104\n",
        "skipped  3\n",
        "410893054\n",
        "original article tmp file "
       ]
      },
      {
       "output_type": "stream",
       "stream": "stdout",
       "text": [
        " /tmp/tmpE9AUwv.html\n",
        "/tmp/tmpG5hMIC.html\n",
        "/tmp/tmpE9AUwv.html\n",
        "/tmp/tmpE9AUwv.html\n",
        "Now open file:///tmp/tmpG5hMIC.html in your web browser\n"
       ]
      },
      {
       "output_type": "stream",
       "stream": "stdout",
       "text": [
        "\n",
        "processed "
       ]
      },
      {
       "output_type": "stream",
       "stream": "stdout",
       "text": [
        " 105\n",
        "skipped  3\n",
        "411494070\n",
        "original article tmp file "
       ]
      },
      {
       "output_type": "stream",
       "stream": "stdout",
       "text": [
        " /tmp/tmpNip5cY.html\n",
        "/tmp/tmpROPxRE.html\n",
        "/tmp/tmpNip5cY.html\n",
        "/tmp/tmpNip5cY.html\n",
        "Now open file:///tmp/tmpROPxRE.html in your web browser\n"
       ]
      },
      {
       "output_type": "stream",
       "stream": "stdout",
       "text": [
        "\n",
        "processed  106\n",
        "skipped  3\n",
        "412822633\n",
        "original article tmp file "
       ]
      },
      {
       "output_type": "stream",
       "stream": "stdout",
       "text": [
        " /tmp/tmpmL4kym.html\n",
        "/tmp/tmp9EjdRz.html\n",
        "/tmp/tmpmL4kym.html\n",
        "/tmp/tmpmL4kym.html\n",
        "Now open file:///tmp/tmp9EjdRz.html in your web browser\n"
       ]
      },
      {
       "output_type": "stream",
       "stream": "stdout",
       "text": [
        "\n",
        "processed  107\n",
        "skipped  3\n",
        "412832327\n",
        "original article tmp file "
       ]
      },
      {
       "output_type": "stream",
       "stream": "stdout",
       "text": [
        " /tmp/tmpHmnoYl.html\n",
        "/tmp/tmpnnanD1.html\n",
        "/tmp/tmpHmnoYl.html\n",
        "/tmp/tmpHmnoYl.html\n",
        "Now open file:///tmp/tmpnnanD1.html in your web browser\n"
       ]
      },
      {
       "output_type": "stream",
       "stream": "stdout",
       "text": [
        "\n",
        "processed "
       ]
      },
      {
       "output_type": "stream",
       "stream": "stdout",
       "text": [
        " 108\n",
        "skipped  3\n",
        "413070223\n",
        "original article tmp file "
       ]
      },
      {
       "output_type": "stream",
       "stream": "stdout",
       "text": [
        " /tmp/tmpBaKAvi.html\n",
        "/tmp/tmpBmoVvr.html\n",
        "/tmp/tmpBaKAvi.html\n",
        "/tmp/tmpBaKAvi.html\n",
        "Now open file:///tmp/tmpBmoVvr.html in your web browser\n"
       ]
      },
      {
       "output_type": "stream",
       "stream": "stdout",
       "text": [
        "\n",
        "processed  109\n",
        "skipped  3\n",
        "413080625\n",
        "original article tmp file "
       ]
      },
      {
       "output_type": "stream",
       "stream": "stdout",
       "text": [
        " /tmp/tmphVFApJ.html\n",
        "/tmp/tmpgJUsOC.html\n",
        "/tmp/tmphVFApJ.html\n",
        "/tmp/tmphVFApJ.html\n",
        "Now open file:///tmp/tmpgJUsOC.html in your web browser\n"
       ]
      },
      {
       "output_type": "stream",
       "stream": "stdout",
       "text": [
        "\n",
        "processed  110\n",
        "skipped  3\n",
        "413724188\n",
        "original article tmp file "
       ]
      },
      {
       "output_type": "stream",
       "stream": "stdout",
       "text": [
        " /tmp/tmphmnMgZ.html\n",
        "/tmp/tmpxmM6mS.html\n",
        "/tmp/tmphmnMgZ.html\n",
        "/tmp/tmphmnMgZ.html\n",
        "Now open file:///tmp/tmpxmM6mS.html in your web browser\n"
       ]
      },
      {
       "output_type": "stream",
       "stream": "stdout",
       "text": [
        "\n",
        "processed "
       ]
      },
      {
       "output_type": "stream",
       "stream": "stdout",
       "text": [
        " 111\n",
        "skipped  3\n",
        "413990063\n",
        "original article tmp file "
       ]
      },
      {
       "output_type": "stream",
       "stream": "stdout",
       "text": [
        " /tmp/tmpgwGBCD.html\n",
        "/tmp/tmpMyTKpG.html\n",
        "/tmp/tmpgwGBCD.html\n",
        "/tmp/tmpgwGBCD.html\n",
        "Now open file:///tmp/tmpMyTKpG.html in your web browser\n"
       ]
      },
      {
       "output_type": "stream",
       "stream": "stdout",
       "text": [
        "\n",
        "processed "
       ]
      },
      {
       "output_type": "stream",
       "stream": "stdout",
       "text": [
        " 112\n",
        "skipped  3\n",
        "414001946\n",
        "original article tmp file "
       ]
      },
      {
       "output_type": "stream",
       "stream": "stdout",
       "text": [
        " /tmp/tmps24jH_.html\n",
        "/tmp/tmpYOneqK.html\n",
        "/tmp/tmps24jH_.html\n",
        "/tmp/tmps24jH_.html\n",
        "Now open file:///tmp/tmpYOneqK.html in your web browser\n"
       ]
      },
      {
       "output_type": "stream",
       "stream": "stdout",
       "text": [
        "\n",
        "processed "
       ]
      },
      {
       "output_type": "stream",
       "stream": "stdout",
       "text": [
        " 113\n",
        "skipped  3\n",
        "414705852\n",
        "original article tmp file "
       ]
      },
      {
       "output_type": "stream",
       "stream": "stdout",
       "text": [
        " /tmp/tmpemIW_N.html\n",
        "/tmp/tmp9pV6pe.html\n",
        "/tmp/tmpemIW_N.html\n",
        "/tmp/tmpemIW_N.html\n",
        "Now open file:///tmp/tmp9pV6pe.html in your web browser\n"
       ]
      },
      {
       "output_type": "stream",
       "stream": "stdout",
       "text": [
        "\n",
        "processed  114\n",
        "skipped  3\n",
        "414754369\n",
        "original article tmp file "
       ]
      },
      {
       "output_type": "stream",
       "stream": "stdout",
       "text": [
        " /tmp/tmpBapzAl.html\n",
        "/tmp/tmpdSD1DA.html\n",
        "/tmp/tmpBapzAl.html\n",
        "/tmp/tmpBapzAl.html\n",
        "Now open file:///tmp/tmpdSD1DA.html in your web browser\n"
       ]
      },
      {
       "output_type": "stream",
       "stream": "stdout",
       "text": [
        "\n",
        "processed "
       ]
      },
      {
       "output_type": "stream",
       "stream": "stdout",
       "text": [
        " 115\n",
        "skipped  3\n",
        "414974366\n",
        "original article tmp file "
       ]
      },
      {
       "output_type": "stream",
       "stream": "stdout",
       "text": [
        " /tmp/tmpw_9voz.html\n",
        "/tmp/tmpXTVZqJ.html\n",
        "/tmp/tmpw_9voz.html\n",
        "/tmp/tmpw_9voz.html\n",
        "Now open file:///tmp/tmpXTVZqJ.html in your web browser\n"
       ]
      },
      {
       "output_type": "stream",
       "stream": "stdout",
       "text": [
        "\n",
        "processed "
       ]
      },
      {
       "output_type": "stream",
       "stream": "stdout",
       "text": [
        " 116\n",
        "skipped  3\n",
        "415381471\n",
        "original article tmp file "
       ]
      },
      {
       "output_type": "stream",
       "stream": "stdout",
       "text": [
        " /tmp/tmpbc12CH.html\n",
        "/tmp/tmp5R0JXJ.html\n",
        "/tmp/tmpbc12CH.html\n",
        "/tmp/tmpbc12CH.html\n",
        "Now open file:///tmp/tmp5R0JXJ.html in your web browser\n"
       ]
      },
      {
       "output_type": "stream",
       "stream": "stdout",
       "text": [
        "\n",
        "processed "
       ]
      },
      {
       "output_type": "stream",
       "stream": "stdout",
       "text": [
        " 117\n",
        "skipped  3\n",
        "415752815\n",
        "original article tmp file "
       ]
      },
      {
       "output_type": "stream",
       "stream": "stdout",
       "text": [
        " /tmp/tmpl5P5xk.html\n",
        "/tmp/tmpdXAR7B.html\n",
        "/tmp/tmpl5P5xk.html\n",
        "/tmp/tmpl5P5xk.html\n",
        "Now open file:///tmp/tmpdXAR7B.html in your web browser\n"
       ]
      },
      {
       "output_type": "stream",
       "stream": "stdout",
       "text": [
        "\n",
        "processed  118\n",
        "skipped  3\n",
        "415977284\n",
        "original article tmp file "
       ]
      },
      {
       "output_type": "stream",
       "stream": "stdout",
       "text": [
        " /tmp/tmpQcnXVJ.html\n",
        "/tmp/tmp6e2lTP.html\n",
        "/tmp/tmpQcnXVJ.html\n",
        "/tmp/tmpQcnXVJ.html\n",
        "Now open file:///tmp/tmp6e2lTP.html in your web browser\n"
       ]
      },
      {
       "output_type": "stream",
       "stream": "stdout",
       "text": [
        "\n",
        "processed  119\n",
        "skipped  3\n",
        "416560140\n",
        "original article tmp file "
       ]
      },
      {
       "output_type": "stream",
       "stream": "stdout",
       "text": [
        " /tmp/tmpLKoqVu.html\n",
        "/tmp/tmpJWQ3fo.html\n",
        "/tmp/tmpLKoqVu.html\n",
        "/tmp/tmpLKoqVu.html\n",
        "Now open file:///tmp/tmpJWQ3fo.html in your web browser\n"
       ]
      },
      {
       "output_type": "stream",
       "stream": "stdout",
       "text": [
        "\n",
        "processed "
       ]
      },
      {
       "output_type": "stream",
       "stream": "stdout",
       "text": [
        " 120\n",
        "skipped  3\n",
        "416773947\n",
        "original article tmp file "
       ]
      },
      {
       "output_type": "stream",
       "stream": "stdout",
       "text": [
        " /tmp/tmp_5Of7u.html\n",
        "/tmp/tmpo3zPZJ.html\n",
        "/tmp/tmp_5Of7u.html\n",
        "/tmp/tmp_5Of7u.html\n",
        "Now open file:///tmp/tmpo3zPZJ.html in your web browser\n"
       ]
      },
      {
       "output_type": "stream",
       "stream": "stdout",
       "text": [
        "\n",
        "processed "
       ]
      },
      {
       "output_type": "stream",
       "stream": "stdout",
       "text": [
        " 121\n",
        "skipped  3\n",
        "416931217\n",
        "original article tmp file "
       ]
      },
      {
       "output_type": "stream",
       "stream": "stdout",
       "text": [
        " /tmp/tmp7Pemuf.html\n",
        "/tmp/tmpujXfaV.html\n",
        "/tmp/tmp7Pemuf.html\n",
        "/tmp/tmp7Pemuf.html\n",
        "Now open file:///tmp/tmpujXfaV.html in your web browser\n"
       ]
      },
      {
       "output_type": "stream",
       "stream": "stdout",
       "text": [
        "\n",
        "processed "
       ]
      },
      {
       "output_type": "stream",
       "stream": "stdout",
       "text": [
        " 122\n",
        "skipped  3\n",
        "417026931\n",
        "original article tmp file "
       ]
      },
      {
       "output_type": "stream",
       "stream": "stdout",
       "text": [
        " /tmp/tmppvl5nJ.html\n",
        "/tmp/tmpoFvHE_.html\n",
        "/tmp/tmppvl5nJ.html\n",
        "/tmp/tmppvl5nJ.html\n",
        "Now open file:///tmp/tmpoFvHE_.html in your web browser\n"
       ]
      },
      {
       "output_type": "stream",
       "stream": "stdout",
       "text": [
        "\n",
        "processed  123\n",
        "skipped  3\n",
        "417913575\n",
        "original article tmp file "
       ]
      },
      {
       "output_type": "stream",
       "stream": "stdout",
       "text": [
        " /tmp/tmpvcDMUO.html\n",
        "/tmp/tmpyKWPHm.html\n",
        "/tmp/tmpvcDMUO.html\n",
        "/tmp/tmpvcDMUO.html\n",
        "Now open file:///tmp/tmpyKWPHm.html in your web browser\n"
       ]
      },
      {
       "output_type": "stream",
       "stream": "stdout",
       "text": [
        "\n",
        "processed "
       ]
      },
      {
       "output_type": "stream",
       "stream": "stdout",
       "text": [
        " 124\n",
        "skipped  3\n",
        "418921816\n",
        "original article tmp file "
       ]
      },
      {
       "output_type": "stream",
       "stream": "stdout",
       "text": [
        " /tmp/tmpmJz0VU.html\n",
        "/tmp/tmpzZtMK2.html\n",
        "/tmp/tmpmJz0VU.html\n",
        "/tmp/tmpmJz0VU.html\n",
        "Now open file:///tmp/tmpzZtMK2.html in your web browser\n"
       ]
      },
      {
       "output_type": "stream",
       "stream": "stdout",
       "text": [
        "\n",
        "processed  125\n",
        "skipped  3\n",
        "419059149\n",
        "original article tmp file "
       ]
      },
      {
       "output_type": "stream",
       "stream": "stdout",
       "text": [
        " /tmp/tmpK8poOf.html\n",
        "/tmp/tmpX1u6Ky.html\n",
        "/tmp/tmpK8poOf.html\n",
        "/tmp/tmpK8poOf.html\n",
        "Now open file:///tmp/tmpX1u6Ky.html in your web browser\n"
       ]
      },
      {
       "output_type": "stream",
       "stream": "stdout",
       "text": [
        "\n",
        "processed "
       ]
      },
      {
       "output_type": "stream",
       "stream": "stdout",
       "text": [
        " 126\n",
        "skipped  3\n",
        "419061380\n",
        "original article tmp file "
       ]
      },
      {
       "output_type": "stream",
       "stream": "stdout",
       "text": [
        " /tmp/tmpYWMGfX.html\n",
        "/tmp/tmp6fkaNh.html\n",
        "/tmp/tmpYWMGfX.html\n",
        "/tmp/tmpYWMGfX.html\n",
        "Now open file:///tmp/tmp6fkaNh.html in your web browser\n"
       ]
      },
      {
       "output_type": "stream",
       "stream": "stdout",
       "text": [
        "\n",
        "Unexpected error on string '</a>\n",
        "' <class 'lxml.etree.ParserError'>\n",
        "Unexpected error on string '</p>\n",
        "' <class 'lxml.etree.ParserError'>\n",
        "Unexpected error on string '</div>\n",
        "' <class 'lxml.etree.ParserError'>\n",
        "Unexpected error on string '</a>\n",
        "' <class 'lxml.etree.ParserError'>\n",
        "Unexpected error on string '</a>' <class 'lxml.etree.ParserError'>\n",
        "Unexpected error on string '</h2>\n",
        "' <class 'lxml.etree.ParserError'>\n",
        "Unexpected error on string '</a>' <class 'lxml.etree.ParserError'>\n",
        "Unexpected error on string '</p>\n",
        "' <class 'lxml.etree.ParserError'>\n",
        "Unexpected error on string '</a>' <class 'lxml.etree.ParserError'>\n",
        "Unexpected error on string '</p>\n",
        "' <class 'lxml.etree.ParserError'>\n",
        "Unexpected error on string '</div>\n",
        "' <class 'lxml.etree.ParserError'>\n",
        "Unexpected error on string '</div>\n",
        "' <class 'lxml.etree.ParserError'>\n",
        "Unexpected error on string '</div>\n",
        "' <class 'lxml.etree.ParserError'>\n",
        "processed  127\n",
        "skipped  3\n",
        "419312194\n",
        "original article tmp file "
       ]
      },
      {
       "output_type": "stream",
       "stream": "stdout",
       "text": [
        " /tmp/tmpcQ6X8u.html\n",
        "/tmp/tmpqIfftb.html\n",
        "/tmp/tmpcQ6X8u.html\n",
        "/tmp/tmpcQ6X8u.html\n",
        "Now open file:///tmp/tmpqIfftb.html in your web browser\n"
       ]
      },
      {
       "output_type": "stream",
       "stream": "stdout",
       "text": [
        "\n",
        "processed  128\n",
        "skipped  3\n",
        "419463576\n",
        "original article tmp file "
       ]
      },
      {
       "output_type": "stream",
       "stream": "stdout",
       "text": [
        " /tmp/tmp6s1YF6.html\n",
        "/tmp/tmpqhaXRa.html\n",
        "/tmp/tmp6s1YF6.html\n",
        "/tmp/tmp6s1YF6.html\n",
        "Now open file:///tmp/tmpqhaXRa.html in your web browser\n"
       ]
      },
      {
       "output_type": "stream",
       "stream": "stdout",
       "text": [
        "\n",
        "processed  129\n",
        "skipped  3\n",
        "419897309\n",
        "original article tmp file "
       ]
      },
      {
       "output_type": "stream",
       "stream": "stdout",
       "text": [
        " /tmp/tmp9cAOR3.html\n",
        "/tmp/tmpTpTkzj.html\n",
        "/tmp/tmp9cAOR3.html\n",
        "/tmp/tmp9cAOR3.html\n",
        "Now open file:///tmp/tmpTpTkzj.html in your web browser\n"
       ]
      },
      {
       "output_type": "stream",
       "stream": "stdout",
       "text": [
        "\n",
        "processed  130\n",
        "skipped  3\n",
        "420605489\n",
        "original article tmp file "
       ]
      },
      {
       "output_type": "stream",
       "stream": "stdout",
       "text": [
        " /tmp/tmpMd7Zwn.html\n",
        "/tmp/tmp8csnuc.html\n",
        "/tmp/tmpMd7Zwn.html\n",
        "/tmp/tmpMd7Zwn.html\n",
        "Now open file:///tmp/tmp8csnuc.html in your web browser\n"
       ]
      },
      {
       "output_type": "stream",
       "stream": "stdout",
       "text": [
        "\n",
        "processed "
       ]
      },
      {
       "output_type": "stream",
       "stream": "stdout",
       "text": [
        " 131\n",
        "skipped  3\n",
        "420695976\n",
        "original article tmp file "
       ]
      },
      {
       "output_type": "stream",
       "stream": "stdout",
       "text": [
        " /tmp/tmpmg0tp6.html\n",
        "/tmp/tmpM3StVd.html\n",
        "/tmp/tmpmg0tp6.html\n",
        "/tmp/tmpmg0tp6.html\n",
        "Now open file:///tmp/tmpM3StVd.html in your web browser\n"
       ]
      },
      {
       "output_type": "stream",
       "stream": "stdout",
       "text": [
        "\n",
        "processed  132\n",
        "skipped  3\n",
        "420972612\n",
        "original article tmp file "
       ]
      },
      {
       "output_type": "stream",
       "stream": "stdout",
       "text": [
        " /tmp/tmpxDoYYy.html\n",
        "/tmp/tmpKBYCPj.html\n",
        "/tmp/tmpxDoYYy.html\n",
        "/tmp/tmpxDoYYy.html\n",
        "Now open file:///tmp/tmpKBYCPj.html in your web browser\n"
       ]
      },
      {
       "output_type": "stream",
       "stream": "stdout",
       "text": [
        "\n",
        "processed "
       ]
      },
      {
       "output_type": "stream",
       "stream": "stdout",
       "text": [
        " 133\n",
        "skipped  3\n",
        "421512071\n",
        "original article tmp file "
       ]
      },
      {
       "output_type": "stream",
       "stream": "stdout",
       "text": [
        " /tmp/tmpuIWBI0.html\n",
        "/tmp/tmpHPIchb.html\n",
        "/tmp/tmpuIWBI0.html\n",
        "/tmp/tmpuIWBI0.html\n",
        "Now open file:///tmp/tmpHPIchb.html in your web browser\n"
       ]
      },
      {
       "output_type": "stream",
       "stream": "stdout",
       "text": [
        "\n",
        "processed  134\n",
        "skipped  3\n",
        "421586812\n",
        "original article tmp file "
       ]
      },
      {
       "output_type": "stream",
       "stream": "stdout",
       "text": [
        " /tmp/tmphqHH7u.html\n",
        "/tmp/tmpLyuhM0.html\n",
        "/tmp/tmphqHH7u.html\n",
        "/tmp/tmphqHH7u.html\n",
        "Now open file:///tmp/tmpLyuhM0.html in your web browser\n"
       ]
      },
      {
       "output_type": "stream",
       "stream": "stdout",
       "text": [
        "\n",
        "processed  135\n",
        "skipped  3\n",
        "421950008\n",
        "original article tmp file "
       ]
      },
      {
       "output_type": "stream",
       "stream": "stdout",
       "text": [
        " /tmp/tmpVsxP_G.html\n",
        "/tmp/tmpXR6Z3S.html\n",
        "/tmp/tmpVsxP_G.html\n",
        "/tmp/tmpVsxP_G.html\n",
        "Now open file:///tmp/tmpXR6Z3S.html in your web browser\n"
       ]
      },
      {
       "output_type": "stream",
       "stream": "stdout",
       "text": [
        "\n",
        "processed  136\n",
        "skipped  3\n",
        "422329395\n",
        "original article tmp file "
       ]
      },
      {
       "output_type": "stream",
       "stream": "stdout",
       "text": [
        " /tmp/tmpQUAt_E.html\n",
        "/tmp/tmp9X8_SA.html\n",
        "/tmp/tmpQUAt_E.html\n",
        "/tmp/tmpQUAt_E.html\n",
        "Now open file:///tmp/tmp9X8_SA.html in your web browser\n"
       ]
      },
      {
       "output_type": "stream",
       "stream": "stdout",
       "text": [
        "\n",
        "processed "
       ]
      },
      {
       "output_type": "stream",
       "stream": "stdout",
       "text": [
        " 137\n",
        "skipped  3\n",
        "423644184\n",
        "original article tmp file "
       ]
      },
      {
       "output_type": "stream",
       "stream": "stdout",
       "text": [
        " /tmp/tmpljXDf2.html\n",
        "/tmp/tmpJHHuh_.html\n",
        "/tmp/tmpljXDf2.html\n",
        "/tmp/tmpljXDf2.html\n",
        "Now open file:///tmp/tmpJHHuh_.html in your web browser\n"
       ]
      },
      {
       "output_type": "stream",
       "stream": "stdout",
       "text": [
        "\n",
        "processed  138\n",
        "skipped  3\n",
        "423780415\n",
        "original article tmp file "
       ]
      },
      {
       "output_type": "stream",
       "stream": "stdout",
       "text": [
        " /tmp/tmpYTsMP0.html\n",
        "/tmp/tmpRyXn9W.html\n",
        "/tmp/tmpYTsMP0.html\n",
        "/tmp/tmpYTsMP0.html\n",
        "Now open file:///tmp/tmpRyXn9W.html in your web browser\n"
       ]
      },
      {
       "output_type": "stream",
       "stream": "stdout",
       "text": [
        "\n",
        "processed  139\n",
        "skipped  3\n",
        "423811752\n",
        "original article tmp file "
       ]
      },
      {
       "output_type": "stream",
       "stream": "stdout",
       "text": [
        " /tmp/tmpHwQGbt.html\n",
        "/tmp/tmpBJyvxJ.html\n",
        "/tmp/tmpHwQGbt.html\n",
        "/tmp/tmpHwQGbt.html\n",
        "Now open file:///tmp/tmpBJyvxJ.html in your web browser\n"
       ]
      },
      {
       "output_type": "stream",
       "stream": "stdout",
       "text": [
        "\n",
        "processed  140\n",
        "skipped  3\n",
        "423826345\n",
        "original article tmp file "
       ]
      },
      {
       "output_type": "stream",
       "stream": "stdout",
       "text": [
        " /tmp/tmp53fVT3.html\n",
        "/tmp/tmpQASnCo.html\n",
        "/tmp/tmp53fVT3.html\n",
        "/tmp/tmp53fVT3.html\n",
        "Now open file:///tmp/tmpQASnCo.html in your web browser\n"
       ]
      },
      {
       "output_type": "stream",
       "stream": "stdout",
       "text": [
        "\n",
        "processed "
       ]
      },
      {
       "output_type": "stream",
       "stream": "stdout",
       "text": [
        " 141\n",
        "skipped  3\n",
        "426274790\n",
        "original article tmp file "
       ]
      },
      {
       "output_type": "stream",
       "stream": "stdout",
       "text": [
        " /tmp/tmp4Oguev.html\n",
        "/tmp/tmpe4XFRb.html\n",
        "/tmp/tmp4Oguev.html\n",
        "/tmp/tmp4Oguev.html\n",
        "Now open file:///tmp/tmpe4XFRb.html in your web browser\n"
       ]
      },
      {
       "output_type": "stream",
       "stream": "stdout",
       "text": [
        "\n",
        "processed  142\n",
        "skipped  3\n",
        "426745030\n",
        "original article tmp file "
       ]
      },
      {
       "output_type": "stream",
       "stream": "stdout",
       "text": [
        " /tmp/tmpqnZgBB.html\n",
        "/tmp/tmpJA_JIr.html\n",
        "/tmp/tmpqnZgBB.html\n",
        "/tmp/tmpqnZgBB.html\n",
        "Now open file:///tmp/tmpJA_JIr.html in your web browser\n"
       ]
      },
      {
       "output_type": "stream",
       "stream": "stdout",
       "text": [
        "\n",
        "processed "
       ]
      },
      {
       "output_type": "stream",
       "stream": "stdout",
       "text": [
        " 143\n",
        "skipped  3\n",
        "426958717\n",
        "original article tmp file "
       ]
      },
      {
       "output_type": "stream",
       "stream": "stdout",
       "text": [
        " /tmp/tmpbg8cxM.html\n",
        "/tmp/tmpbFrzyO.html\n",
        "/tmp/tmpbg8cxM.html\n",
        "/tmp/tmpbg8cxM.html\n",
        "Now open file:///tmp/tmpbFrzyO.html in your web browser\n"
       ]
      },
      {
       "output_type": "stream",
       "stream": "stdout",
       "text": [
        "\n",
        "processed  144\n",
        "skipped  3\n",
        "427023406\n",
        "original article tmp file "
       ]
      },
      {
       "output_type": "stream",
       "stream": "stdout",
       "text": [
        " /tmp/tmpwRK5X0.html\n",
        "/tmp/tmpuQ_upy.html\n",
        "/tmp/tmpwRK5X0.html\n",
        "/tmp/tmpwRK5X0.html\n",
        "Now open file:///tmp/tmpuQ_upy.html in your web browser\n"
       ]
      },
      {
       "output_type": "stream",
       "stream": "stdout",
       "text": [
        "\n",
        "processed  145\n",
        "skipped  3\n",
        "427039192\n",
        "original article tmp file "
       ]
      },
      {
       "output_type": "stream",
       "stream": "stdout",
       "text": [
        " /tmp/tmpk4nnlU.html\n",
        "/tmp/tmp7aPqOv.html\n",
        "/tmp/tmpk4nnlU.html\n",
        "/tmp/tmpk4nnlU.html\n",
        "Now open file:///tmp/tmp7aPqOv.html in your web browser\n"
       ]
      },
      {
       "output_type": "stream",
       "stream": "stdout",
       "text": [
        "\n",
        "processed "
       ]
      },
      {
       "output_type": "stream",
       "stream": "stdout",
       "text": [
        " 146\n",
        "skipped  3\n",
        "427131787\n",
        "original article tmp file "
       ]
      },
      {
       "output_type": "stream",
       "stream": "stdout",
       "text": [
        " /tmp/tmp2mWJqA.html\n",
        "/tmp/tmpIcbdgc.html\n",
        "/tmp/tmp2mWJqA.html\n",
        "/tmp/tmp2mWJqA.html\n",
        "Now open file:///tmp/tmpIcbdgc.html in your web browser\n"
       ]
      },
      {
       "output_type": "stream",
       "stream": "stdout",
       "text": [
        "\n",
        "processed  147\n",
        "skipped  3\n",
        "427645929\n",
        "original article tmp file "
       ]
      },
      {
       "output_type": "stream",
       "stream": "stdout",
       "text": [
        " /tmp/tmpAfvQHf.html\n",
        "/tmp/tmpv2ZDx6.html\n",
        "/tmp/tmpAfvQHf.html\n",
        "/tmp/tmpAfvQHf.html\n",
        "Now open file:///tmp/tmpv2ZDx6.html in your web browser\n"
       ]
      },
      {
       "output_type": "stream",
       "stream": "stdout",
       "text": [
        "\n",
        "processed "
       ]
      },
      {
       "output_type": "stream",
       "stream": "stdout",
       "text": [
        " 148\n",
        "skipped  3\n",
        "427851499\n",
        "original article tmp file "
       ]
      },
      {
       "output_type": "stream",
       "stream": "stdout",
       "text": [
        " /tmp/tmpBsO_9n.html\n",
        "/tmp/tmpmwKFoJ.html\n",
        "/tmp/tmpBsO_9n.html\n",
        "/tmp/tmpBsO_9n.html\n",
        "Now open file:///tmp/tmpmwKFoJ.html in your web browser\n"
       ]
      },
      {
       "output_type": "stream",
       "stream": "stdout",
       "text": [
        "\n",
        "processed  149\n",
        "skipped  3\n",
        "428523804\n",
        "original article tmp file "
       ]
      },
      {
       "output_type": "stream",
       "stream": "stdout",
       "text": [
        " /tmp/tmpFi8oOw.html\n",
        "/tmp/tmpSKwcYu.html\n",
        "/tmp/tmpFi8oOw.html\n",
        "/tmp/tmpFi8oOw.html\n",
        "Now open file:///tmp/tmpSKwcYu.html in your web browser\n"
       ]
      },
      {
       "output_type": "stream",
       "stream": "stdout",
       "text": [
        "\n",
        "processed "
       ]
      },
      {
       "output_type": "stream",
       "stream": "stdout",
       "text": [
        " 150\n",
        "skipped  3\n",
        "429112619\n",
        "original article tmp file "
       ]
      },
      {
       "output_type": "stream",
       "stream": "stdout",
       "text": [
        " /tmp/tmpAXLTMf.html\n",
        "/tmp/tmpdLRpJz.html\n",
        "/tmp/tmpAXLTMf.html\n",
        "/tmp/tmpAXLTMf.html\n",
        "Now open file:///tmp/tmpdLRpJz.html in your web browser\n"
       ]
      },
      {
       "output_type": "stream",
       "stream": "stdout",
       "text": [
        "\n",
        "processed  151\n",
        "skipped  3\n",
        "429500447\n",
        "original article tmp file "
       ]
      },
      {
       "output_type": "stream",
       "stream": "stdout",
       "text": [
        " /tmp/tmp_901EJ.html\n",
        "/tmp/tmpKAVlS8.html\n",
        "/tmp/tmp_901EJ.html\n",
        "/tmp/tmp_901EJ.html\n",
        "Now open file:///tmp/tmpKAVlS8.html in your web browser\n"
       ]
      },
      {
       "output_type": "stream",
       "stream": "stdout",
       "text": [
        "\n",
        "processed "
       ]
      },
      {
       "output_type": "stream",
       "stream": "stdout",
       "text": [
        " 152\n",
        "skipped  3\n",
        "429714766\n",
        "original article tmp file "
       ]
      },
      {
       "output_type": "stream",
       "stream": "stdout",
       "text": [
        " /tmp/tmp4MMyZ7.html\n",
        "/tmp/tmpgrQItB.html\n",
        "/tmp/tmp4MMyZ7.html\n",
        "/tmp/tmp4MMyZ7.html\n",
        "Now open file:///tmp/tmpgrQItB.html in your web browser\n"
       ]
      },
      {
       "output_type": "stream",
       "stream": "stdout",
       "text": [
        "\n",
        "processed  153\n",
        "skipped  3\n",
        "429793967\n",
        "original article tmp file "
       ]
      },
      {
       "output_type": "stream",
       "stream": "stdout",
       "text": [
        " /tmp/tmp8UiOIo.html\n",
        "/tmp/tmpfQhdAB.html\n",
        "/tmp/tmp8UiOIo.html\n",
        "/tmp/tmp8UiOIo.html\n",
        "Now open file:///tmp/tmpfQhdAB.html in your web browser\n"
       ]
      },
      {
       "output_type": "stream",
       "stream": "stdout",
       "text": [
        "\n",
        "processed "
       ]
      },
      {
       "output_type": "stream",
       "stream": "stdout",
       "text": [
        " 154\n",
        "skipped  3\n",
        "430099220\n",
        "original article tmp file "
       ]
      },
      {
       "output_type": "stream",
       "stream": "stdout",
       "text": [
        " /tmp/tmpWwkajn.html\n",
        "/tmp/tmpndpYfF.html\n",
        "/tmp/tmpWwkajn.html\n",
        "/tmp/tmpWwkajn.html\n",
        "Now open file:///tmp/tmpndpYfF.html in your web browser\n"
       ]
      },
      {
       "output_type": "stream",
       "stream": "stdout",
       "text": [
        "\n",
        "processed  155\n",
        "skipped  3\n",
        "430660615\n",
        "original article tmp file "
       ]
      },
      {
       "output_type": "stream",
       "stream": "stdout",
       "text": [
        " /tmp/tmpAmX01c.html\n",
        "/tmp/tmpV6Q6cv.html\n",
        "/tmp/tmpAmX01c.html\n",
        "/tmp/tmpAmX01c.html\n",
        "Now open file:///tmp/tmpV6Q6cv.html in your web browser\n"
       ]
      },
      {
       "output_type": "stream",
       "stream": "stdout",
       "text": [
        "\n",
        "processed "
       ]
      },
      {
       "output_type": "stream",
       "stream": "stdout",
       "text": [
        " 156\n",
        "skipped  3\n",
        "431012388\n",
        "original article tmp file "
       ]
      },
      {
       "output_type": "stream",
       "stream": "stdout",
       "text": [
        " /tmp/tmpbjpGDG.html\n",
        "/tmp/tmpXbO0jp.html\n",
        "/tmp/tmpbjpGDG.html\n",
        "/tmp/tmpbjpGDG.html\n",
        "Now open file:///tmp/tmpXbO0jp.html in your web browser\n"
       ]
      },
      {
       "output_type": "stream",
       "stream": "stdout",
       "text": [
        "\n",
        "processed  157\n",
        "skipped  3\n",
        "431311136\n",
        "original article tmp file "
       ]
      },
      {
       "output_type": "stream",
       "stream": "stdout",
       "text": [
        " /tmp/tmpt1Outf.html\n",
        "/tmp/tmpfQFnFZ.html\n",
        "/tmp/tmpt1Outf.html\n",
        "/tmp/tmpt1Outf.html\n",
        "Now open file:///tmp/tmpfQFnFZ.html in your web browser\n"
       ]
      },
      {
       "output_type": "stream",
       "stream": "stdout",
       "text": [
        "\n",
        "processed  158\n",
        "skipped  3\n",
        "431387007\n",
        "original article tmp file "
       ]
      },
      {
       "output_type": "stream",
       "stream": "stdout",
       "text": [
        " /tmp/tmpruNgIO.html\n",
        "/tmp/tmp9Kl4kG.html\n",
        "/tmp/tmpruNgIO.html\n",
        "/tmp/tmpruNgIO.html\n",
        "Now open file:///tmp/tmp9Kl4kG.html in your web browser\n"
       ]
      },
      {
       "output_type": "stream",
       "stream": "stdout",
       "text": [
        "\n",
        "processed "
       ]
      },
      {
       "output_type": "stream",
       "stream": "stdout",
       "text": [
        " 159\n",
        "skipped  3\n",
        "431606529\n",
        "original article tmp file "
       ]
      },
      {
       "output_type": "stream",
       "stream": "stdout",
       "text": [
        " /tmp/tmppATK02.html\n",
        "/tmp/tmpHawOuf.html\n",
        "/tmp/tmppATK02.html\n",
        "/tmp/tmppATK02.html\n",
        "Now open file:///tmp/tmpHawOuf.html in your web browser\n"
       ]
      },
      {
       "output_type": "stream",
       "stream": "stdout",
       "text": [
        "\n",
        "processed  160\n",
        "skipped  3\n",
        "431839510\n",
        "original article tmp file "
       ]
      },
      {
       "output_type": "stream",
       "stream": "stdout",
       "text": [
        " /tmp/tmp4WeQzY.html\n",
        "/tmp/tmp0VRTQe.html\n",
        "/tmp/tmp4WeQzY.html\n",
        "/tmp/tmp4WeQzY.html\n",
        "Now open file:///tmp/tmp0VRTQe.html in your web browser\n"
       ]
      },
      {
       "output_type": "stream",
       "stream": "stdout",
       "text": [
        "\n",
        "processed  161\n",
        "skipped  3\n",
        "431905299\n",
        "original article tmp file "
       ]
      },
      {
       "output_type": "stream",
       "stream": "stdout",
       "text": [
        " /tmp/tmp807R9p.html\n",
        "/tmp/tmpcNhfzl.html\n",
        "/tmp/tmp807R9p.html\n",
        "/tmp/tmp807R9p.html\n",
        "Now open file:///tmp/tmpcNhfzl.html in your web browser\n"
       ]
      },
      {
       "output_type": "stream",
       "stream": "stdout",
       "text": [
        "\n",
        "processed  162\n",
        "skipped  3\n",
        "432896524\n",
        "original article tmp file "
       ]
      },
      {
       "output_type": "stream",
       "stream": "stdout",
       "text": [
        " /tmp/tmppwZt1C.html\n",
        "/tmp/tmpTosutv.html\n",
        "/tmp/tmppwZt1C.html\n",
        "/tmp/tmppwZt1C.html\n",
        "Now open file:///tmp/tmpTosutv.html in your web browser\n"
       ]
      },
      {
       "output_type": "stream",
       "stream": "stdout",
       "text": [
        "\n",
        "processed  163\n",
        "skipped  3\n",
        "432929604\n",
        "original article tmp file "
       ]
      },
      {
       "output_type": "stream",
       "stream": "stdout",
       "text": [
        " /tmp/tmpR8B4WS.html\n",
        "/tmp/tmpTldVsB.html\n",
        "/tmp/tmpR8B4WS.html\n",
        "/tmp/tmpR8B4WS.html\n",
        "Now open file:///tmp/tmpTldVsB.html in your web browser\n"
       ]
      },
      {
       "output_type": "stream",
       "stream": "stdout",
       "text": [
        "\n",
        "processed  164\n",
        "skipped  3\n",
        "433044130\n",
        "original article tmp file "
       ]
      },
      {
       "output_type": "stream",
       "stream": "stdout",
       "text": [
        " /tmp/tmpeTi1YH.html\n",
        "/tmp/tmpCqN7Bp.html\n",
        "/tmp/tmpeTi1YH.html\n",
        "/tmp/tmpeTi1YH.html\n",
        "Now open file:///tmp/tmpCqN7Bp.html in your web browser\n"
       ]
      },
      {
       "output_type": "stream",
       "stream": "stdout",
       "text": [
        "\n",
        "processed  165\n",
        "skipped  3\n",
        "434192180\n",
        "original article tmp file "
       ]
      },
      {
       "output_type": "stream",
       "stream": "stdout",
       "text": [
        " /tmp/tmpmA7oN2.html\n",
        "/tmp/tmp1La493.html\n",
        "/tmp/tmpmA7oN2.html\n",
        "/tmp/tmpmA7oN2.html\n",
        "Now open file:///tmp/tmp1La493.html in your web browser\n"
       ]
      },
      {
       "output_type": "stream",
       "stream": "stdout",
       "text": [
        "\n",
        "processed "
       ]
      },
      {
       "output_type": "stream",
       "stream": "stdout",
       "text": [
        " 166\n",
        "skipped  3\n",
        "434250046\n",
        "original article tmp file "
       ]
      },
      {
       "output_type": "stream",
       "stream": "stdout",
       "text": [
        " /tmp/tmpK9bl7W.html\n",
        "/tmp/tmplrt_g8.html\n",
        "/tmp/tmpK9bl7W.html\n",
        "/tmp/tmpK9bl7W.html\n",
        "Now open file:///tmp/tmplrt_g8.html in your web browser\n"
       ]
      },
      {
       "output_type": "stream",
       "stream": "stdout",
       "text": [
        "\n",
        "processed  167\n",
        "skipped  3\n",
        "434842660\n",
        "original article tmp file "
       ]
      },
      {
       "output_type": "stream",
       "stream": "stdout",
       "text": [
        " /tmp/tmp7H2Riz.html\n",
        "/tmp/tmpn_JuXs.html\n",
        "/tmp/tmp7H2Riz.html\n",
        "/tmp/tmp7H2Riz.html\n",
        "Now open file:///tmp/tmpn_JuXs.html in your web browser\n"
       ]
      },
      {
       "output_type": "stream",
       "stream": "stdout",
       "text": [
        "\n",
        "processed "
       ]
      },
      {
       "output_type": "stream",
       "stream": "stdout",
       "text": [
        " 168\n",
        "skipped  3\n",
        "435142187\n",
        "original article tmp file "
       ]
      },
      {
       "output_type": "stream",
       "stream": "stdout",
       "text": [
        " /tmp/tmpWSH5AI.html\n",
        "/tmp/tmpjyNzys.html\n",
        "/tmp/tmpWSH5AI.html\n",
        "/tmp/tmpWSH5AI.html\n",
        "Now open file:///tmp/tmpjyNzys.html in your web browser\n"
       ]
      },
      {
       "output_type": "stream",
       "stream": "stdout",
       "text": [
        "\n",
        "processed  169\n",
        "skipped  3\n",
        "435417572\n",
        "original article tmp file "
       ]
      },
      {
       "output_type": "stream",
       "stream": "stdout",
       "text": [
        " /tmp/tmpa0eV6C.html\n",
        "/tmp/tmpnrrKoj.html\n",
        "/tmp/tmpa0eV6C.html\n",
        "/tmp/tmpa0eV6C.html\n",
        "Now open file:///tmp/tmpnrrKoj.html in your web browser\n"
       ]
      },
      {
       "output_type": "stream",
       "stream": "stdout",
       "text": [
        "\n",
        "processed  170\n",
        "skipped  3\n",
        "435417726\n",
        "original article tmp file "
       ]
      },
      {
       "output_type": "stream",
       "stream": "stdout",
       "text": [
        " /tmp/tmp51rMuP.html\n",
        "/tmp/tmpDdFTfZ.html\n",
        "/tmp/tmp51rMuP.html\n",
        "/tmp/tmp51rMuP.html\n",
        "Now open file:///tmp/tmpDdFTfZ.html in your web browser\n"
       ]
      },
      {
       "output_type": "stream",
       "stream": "stdout",
       "text": [
        "\n",
        "processed "
       ]
      },
      {
       "output_type": "stream",
       "stream": "stdout",
       "text": [
        " 171\n",
        "skipped  3\n",
        "435795096\n",
        "original article tmp file "
       ]
      },
      {
       "output_type": "stream",
       "stream": "stdout",
       "text": [
        " /tmp/tmp_7htGk.html\n",
        "/tmp/tmp_jp88X.html\n",
        "/tmp/tmp_7htGk.html\n",
        "/tmp/tmp_7htGk.html\n",
        "Now open file:///tmp/tmp_jp88X.html in your web browser\n"
       ]
      },
      {
       "output_type": "stream",
       "stream": "stdout",
       "text": [
        "\n",
        "processed  172\n",
        "skipped  3\n",
        "436540640\n",
        "original article tmp file "
       ]
      },
      {
       "output_type": "stream",
       "stream": "stdout",
       "text": [
        " /tmp/tmpDEwyd3.html\n",
        "/tmp/tmp6C9CD_.html\n",
        "/tmp/tmpDEwyd3.html\n",
        "/tmp/tmpDEwyd3.html\n",
        "Now open file:///tmp/tmp6C9CD_.html in your web browser\n"
       ]
      },
      {
       "output_type": "stream",
       "stream": "stdout",
       "text": [
        "\n",
        "processed  173\n",
        "skipped  3\n",
        "436554531\n",
        "original article tmp file "
       ]
      },
      {
       "output_type": "stream",
       "stream": "stdout",
       "text": [
        " /tmp/tmpKPH8Us.html\n",
        "/tmp/tmpgMb5QN.html\n",
        "/tmp/tmpKPH8Us.html\n",
        "/tmp/tmpKPH8Us.html\n",
        "Now open file:///tmp/tmpgMb5QN.html in your web browser\n"
       ]
      },
      {
       "output_type": "stream",
       "stream": "stdout",
       "text": [
        "\n",
        "processed "
       ]
      },
      {
       "output_type": "stream",
       "stream": "stdout",
       "text": [
        " 174\n",
        "skipped  3\n",
        "437087573\n",
        "original article tmp file "
       ]
      },
      {
       "output_type": "stream",
       "stream": "stdout",
       "text": [
        " /tmp/tmpMUuOq4.html\n",
        "/tmp/tmpJPEXHs.html\n",
        "/tmp/tmpMUuOq4.html\n",
        "/tmp/tmpMUuOq4.html\n",
        "Now open file:///tmp/tmpJPEXHs.html in your web browser\n"
       ]
      },
      {
       "output_type": "stream",
       "stream": "stdout",
       "text": [
        "\n",
        "processed "
       ]
      },
      {
       "output_type": "stream",
       "stream": "stdout",
       "text": [
        " 175\n",
        "skipped  3\n",
        "437239472\n",
        "original article tmp file "
       ]
      },
      {
       "output_type": "stream",
       "stream": "stdout",
       "text": [
        " /tmp/tmpa98BVx.html\n",
        "/tmp/tmpYaVpsZ.html\n",
        "/tmp/tmpa98BVx.html\n",
        "/tmp/tmpa98BVx.html\n",
        "Now open file:///tmp/tmpYaVpsZ.html in your web browser\n"
       ]
      },
      {
       "output_type": "stream",
       "stream": "stdout",
       "text": [
        "\n",
        "processed  176\n",
        "skipped  3\n",
        "437281074\n",
        "original article tmp file "
       ]
      },
      {
       "output_type": "stream",
       "stream": "stdout",
       "text": [
        " /tmp/tmpy7O5jk.html\n",
        "/tmp/tmpiF57mB.html\n",
        "/tmp/tmpy7O5jk.html\n",
        "/tmp/tmpy7O5jk.html\n",
        "Now open file:///tmp/tmpiF57mB.html in your web browser\n"
       ]
      },
      {
       "output_type": "stream",
       "stream": "stdout",
       "text": [
        "\n",
        "processed  177\n",
        "skipped  3\n",
        "437315186\n",
        "original article tmp file "
       ]
      },
      {
       "output_type": "stream",
       "stream": "stdout",
       "text": [
        " /tmp/tmp4xiTts.html\n",
        "/tmp/tmpUThUHQ.html\n",
        "/tmp/tmp4xiTts.html\n",
        "/tmp/tmp4xiTts.html\n",
        "Now open file:///tmp/tmpUThUHQ.html in your web browser\n"
       ]
      },
      {
       "output_type": "stream",
       "stream": "stdout",
       "text": [
        "\n",
        "processed  178\n",
        "skipped  3\n",
        "437523403\n",
        "original article tmp file "
       ]
      },
      {
       "output_type": "stream",
       "stream": "stdout",
       "text": [
        " /tmp/tmpHXC36l.html\n",
        "/tmp/tmpWPquhw.html\n",
        "/tmp/tmpHXC36l.html\n",
        "/tmp/tmpHXC36l.html\n",
        "Now open file:///tmp/tmpWPquhw.html in your web browser\n"
       ]
      },
      {
       "output_type": "stream",
       "stream": "stdout",
       "text": [
        "\n",
        "processed "
       ]
      },
      {
       "output_type": "stream",
       "stream": "stdout",
       "text": [
        " 179\n",
        "skipped  3\n",
        "437526788\n",
        "original article tmp file "
       ]
      },
      {
       "output_type": "stream",
       "stream": "stdout",
       "text": [
        " /tmp/tmpA_E1t2.html\n",
        "/tmp/tmpVPd400.html\n",
        "/tmp/tmpA_E1t2.html\n",
        "/tmp/tmpA_E1t2.html\n",
        "Now open file:///tmp/tmpVPd400.html in your web browser\n"
       ]
      },
      {
       "output_type": "stream",
       "stream": "stdout",
       "text": [
        "\n",
        "processed "
       ]
      },
      {
       "output_type": "stream",
       "stream": "stdout",
       "text": [
        " 180\n",
        "skipped  3\n",
        "438596131\n",
        "original article tmp file "
       ]
      },
      {
       "output_type": "stream",
       "stream": "stdout",
       "text": [
        " /tmp/tmpROQoAO.html\n",
        "/tmp/tmpnJ0rsn.html\n",
        "/tmp/tmpROQoAO.html\n",
        "/tmp/tmpROQoAO.html\n",
        "Now open file:///tmp/tmpnJ0rsn.html in your web browser\n"
       ]
      },
      {
       "output_type": "stream",
       "stream": "stdout",
       "text": [
        "\n",
        "processed "
       ]
      },
      {
       "output_type": "stream",
       "stream": "stdout",
       "text": [
        " 181\n",
        "skipped  3\n",
        "438672710\n",
        "original article tmp file "
       ]
      },
      {
       "output_type": "stream",
       "stream": "stdout",
       "text": [
        " /tmp/tmptDd3fy.html\n",
        "/tmp/tmpQ4pfgL.html\n",
        "/tmp/tmptDd3fy.html\n",
        "/tmp/tmptDd3fy.html\n",
        "Now open file:///tmp/tmpQ4pfgL.html in your web browser\n"
       ]
      },
      {
       "output_type": "stream",
       "stream": "stdout",
       "text": [
        "\n",
        "processed "
       ]
      },
      {
       "output_type": "stream",
       "stream": "stdout",
       "text": [
        " 182\n",
        "skipped  3\n",
        "439340014\n",
        "original article tmp file "
       ]
      },
      {
       "output_type": "stream",
       "stream": "stdout",
       "text": [
        " /tmp/tmp9MKosa.html\n",
        "/tmp/tmpTbPErG.html\n",
        "/tmp/tmp9MKosa.html\n",
        "/tmp/tmp9MKosa.html\n",
        "Now open file:///tmp/tmpTbPErG.html in your web browser\n"
       ]
      },
      {
       "output_type": "stream",
       "stream": "stdout",
       "text": [
        "\n",
        "processed "
       ]
      },
      {
       "output_type": "stream",
       "stream": "stdout",
       "text": [
        " 183\n",
        "skipped  3\n",
        "439491986\n",
        "original article tmp file "
       ]
      },
      {
       "output_type": "stream",
       "stream": "stdout",
       "text": [
        " /tmp/tmpV_8xOa.html\n",
        "/tmp/tmpTNzbzA.html\n",
        "/tmp/tmpV_8xOa.html\n",
        "/tmp/tmpV_8xOa.html\n",
        "Now open file:///tmp/tmpTNzbzA.html in your web browser\n"
       ]
      },
      {
       "output_type": "stream",
       "stream": "stdout",
       "text": [
        "\n",
        "processed  184\n",
        "skipped  3\n",
        "439619864\n",
        "original article tmp file "
       ]
      },
      {
       "output_type": "stream",
       "stream": "stdout",
       "text": [
        " /tmp/tmpXLien1.html\n",
        "/tmp/tmppOzoC2.html\n",
        "/tmp/tmpXLien1.html\n",
        "/tmp/tmpXLien1.html\n",
        "Now open file:///tmp/tmppOzoC2.html in your web browser\n"
       ]
      },
      {
       "output_type": "stream",
       "stream": "stdout",
       "text": [
        "\n",
        "processed  185\n",
        "skipped  3\n",
        "439631363\n",
        "original article tmp file "
       ]
      },
      {
       "output_type": "stream",
       "stream": "stdout",
       "text": [
        " /tmp/tmpFWhHxQ.html\n",
        "/tmp/tmpvNU9AB.html\n",
        "/tmp/tmpFWhHxQ.html\n",
        "/tmp/tmpFWhHxQ.html\n",
        "Now open file:///tmp/tmpvNU9AB.html in your web browser\n"
       ]
      },
      {
       "output_type": "stream",
       "stream": "stdout",
       "text": [
        "\n",
        "processed  186\n",
        "skipped  3\n",
        "440193709\n",
        "original article tmp file "
       ]
      },
      {
       "output_type": "stream",
       "stream": "stdout",
       "text": [
        " /tmp/tmpymhh27.html\n",
        "/tmp/tmpJ6W5pz.html\n",
        "/tmp/tmpymhh27.html\n",
        "/tmp/tmpymhh27.html\n",
        "Now open file:///tmp/tmpJ6W5pz.html in your web browser\n"
       ]
      },
      {
       "output_type": "stream",
       "stream": "stdout",
       "text": [
        "\n",
        "processed  187\n",
        "skipped  3\n",
        "440219216\n",
        "original article tmp file "
       ]
      },
      {
       "output_type": "stream",
       "stream": "stdout",
       "text": [
        " /tmp/tmpznhCy4.html\n",
        "/tmp/tmpzKECzt.html\n",
        "/tmp/tmpznhCy4.html\n",
        "/tmp/tmpznhCy4.html\n",
        "Now open file:///tmp/tmpzKECzt.html in your web browser\n"
       ]
      },
      {
       "output_type": "stream",
       "stream": "stdout",
       "text": [
        "\n",
        "processed  188\n",
        "skipped  3\n",
        "440780462\n",
        "original article tmp file "
       ]
      },
      {
       "output_type": "stream",
       "stream": "stdout",
       "text": [
        " /tmp/tmp9lpqz4.html\n",
        "/tmp/tmp_7gcx9.html\n",
        "/tmp/tmp9lpqz4.html\n",
        "/tmp/tmp9lpqz4.html\n",
        "Now open file:///tmp/tmp_7gcx9.html in your web browser\n"
       ]
      },
      {
       "output_type": "stream",
       "stream": "stdout",
       "text": [
        "\n",
        "processed  189\n",
        "skipped  3\n",
        "441039343\n",
        "original article tmp file "
       ]
      },
      {
       "output_type": "stream",
       "stream": "stdout",
       "text": [
        " /tmp/tmpuX3ITW.html\n",
        "/tmp/tmp3OvY53.html\n",
        "/tmp/tmpuX3ITW.html\n",
        "/tmp/tmpuX3ITW.html\n",
        "Now open file:///tmp/tmp3OvY53.html in your web browser\n"
       ]
      },
      {
       "output_type": "stream",
       "stream": "stdout",
       "text": [
        "\n",
        "processed "
       ]
      },
      {
       "output_type": "stream",
       "stream": "stdout",
       "text": [
        " 190\n",
        "skipped  3\n",
        "441313630\n",
        "original article tmp file "
       ]
      },
      {
       "output_type": "stream",
       "stream": "stdout",
       "text": [
        " /tmp/tmpP4Bef0.html\n",
        "/tmp/tmpRqXa_K.html\n",
        "/tmp/tmpP4Bef0.html\n",
        "/tmp/tmpP4Bef0.html\n",
        "Now open file:///tmp/tmpRqXa_K.html in your web browser\n"
       ]
      },
      {
       "output_type": "stream",
       "stream": "stdout",
       "text": [
        "\n",
        "processed  191\n",
        "skipped  3\n",
        "441455864\n",
        "original article tmp file "
       ]
      },
      {
       "output_type": "stream",
       "stream": "stdout",
       "text": [
        " /tmp/tmp_q2gJr.html\n",
        "/tmp/tmpy24LKB.html\n",
        "/tmp/tmp_q2gJr.html\n",
        "/tmp/tmp_q2gJr.html\n",
        "Now open file:///tmp/tmpy24LKB.html in your web browser\n"
       ]
      },
      {
       "output_type": "stream",
       "stream": "stdout",
       "text": [
        "\n",
        "processed  192\n",
        "skipped  3\n",
        "441846112\n",
        "original article tmp file "
       ]
      },
      {
       "output_type": "stream",
       "stream": "stdout",
       "text": [
        " /tmp/tmpGP8gtD.html\n",
        "/tmp/tmpAU19SV.html\n",
        "/tmp/tmpGP8gtD.html\n",
        "/tmp/tmpGP8gtD.html\n",
        "Now open file:///tmp/tmpAU19SV.html in your web browser\n"
       ]
      },
      {
       "output_type": "stream",
       "stream": "stdout",
       "text": [
        "\n",
        "processed  193\n",
        "skipped  3\n",
        "442808951\n",
        "original article tmp file "
       ]
      },
      {
       "output_type": "stream",
       "stream": "stdout",
       "text": [
        " /tmp/tmpfcRDCE.html\n",
        "/tmp/tmpZfFUn2.html\n",
        "/tmp/tmpfcRDCE.html\n",
        "/tmp/tmpfcRDCE.html\n",
        "Now open file:///tmp/tmpZfFUn2.html in your web browser\n"
       ]
      },
      {
       "output_type": "stream",
       "stream": "stdout",
       "text": [
        "\n",
        "processed "
       ]
      },
      {
       "output_type": "stream",
       "stream": "stdout",
       "text": [
        " 194\n",
        "skipped  3\n",
        "442862362\n",
        "original article tmp file "
       ]
      },
      {
       "output_type": "stream",
       "stream": "stdout",
       "text": [
        " /tmp/tmpMUa5Z4.html\n",
        "/tmp/tmpQkSeiu.html\n",
        "/tmp/tmpMUa5Z4.html\n",
        "/tmp/tmpMUa5Z4.html\n",
        "Now open file:///tmp/tmpQkSeiu.html in your web browser\n"
       ]
      },
      {
       "output_type": "stream",
       "stream": "stdout",
       "text": [
        "\n",
        "processed  195\n",
        "skipped  3\n",
        "443616755\n",
        "original article tmp file "
       ]
      },
      {
       "output_type": "stream",
       "stream": "stdout",
       "text": [
        " /tmp/tmpWvMHl7.html\n",
        "/tmp/tmp8buiJg.html\n",
        "/tmp/tmpWvMHl7.html\n",
        "/tmp/tmpWvMHl7.html\n",
        "Now open file:///tmp/tmp8buiJg.html in your web browser\n"
       ]
      },
      {
       "output_type": "stream",
       "stream": "stdout",
       "text": [
        "\n",
        "processed  196\n",
        "skipped  3\n",
        "444570682\n",
        "original article tmp file "
       ]
      },
      {
       "output_type": "stream",
       "stream": "stdout",
       "text": [
        " /tmp/tmppoD0r6.html\n",
        "/tmp/tmpUU4IvY.html\n",
        "/tmp/tmppoD0r6.html\n",
        "/tmp/tmppoD0r6.html\n",
        "Now open file:///tmp/tmpUU4IvY.html in your web browser\n"
       ]
      },
      {
       "output_type": "stream",
       "stream": "stdout",
       "text": [
        "\n",
        "Unexpected error on string '</a>\n",
        "' <class 'lxml.etree.ParserError'>\n",
        "Unexpected error on string '</p>\n",
        "' <class 'lxml.etree.ParserError'>\n",
        "Unexpected error on string '</div>\n",
        "' <class 'lxml.etree.ParserError'>\n",
        "Unexpected error on string '</a>\n",
        "' <class 'lxml.etree.ParserError'>\n",
        "Unexpected error on string '</a>' <class 'lxml.etree.ParserError'>\n",
        "Unexpected error on string '</h2>\n",
        "' <class 'lxml.etree.ParserError'>\n",
        "Unexpected error on string '</a>' <class 'lxml.etree.ParserError'>\n",
        "Unexpected error on string '</p>\n",
        "' <class 'lxml.etree.ParserError'>\n",
        "Unexpected error on string '</a>' <class 'lxml.etree.ParserError'>\n",
        "Unexpected error on string '</p>\n",
        "' <class 'lxml.etree.ParserError'>\n",
        "Unexpected error on string '</div>\n",
        "' <class 'lxml.etree.ParserError'>\n",
        "Unexpected error on string '</div>\n",
        "' <class 'lxml.etree.ParserError'>\n",
        "Unexpected error on string '</div>\n",
        "' <class 'lxml.etree.ParserError'>\n",
        "processed "
       ]
      },
      {
       "output_type": "stream",
       "stream": "stdout",
       "text": [
        " 197\n",
        "skipped  3\n",
        "444894095\n",
        "original article tmp file "
       ]
      },
      {
       "output_type": "stream",
       "stream": "stdout",
       "text": [
        " /tmp/tmph79aTL.html\n",
        "/tmp/tmpsivLZ0.html\n",
        "/tmp/tmph79aTL.html\n",
        "/tmp/tmph79aTL.html\n",
        "Now open file:///tmp/tmpsivLZ0.html in your web browser\n"
       ]
      },
      {
       "output_type": "stream",
       "stream": "stdout",
       "text": [
        "\n",
        "processed "
       ]
      },
      {
       "output_type": "stream",
       "stream": "stdout",
       "text": [
        " 198\n",
        "skipped  3\n",
        "445086933\n",
        "original article tmp file "
       ]
      },
      {
       "output_type": "stream",
       "stream": "stdout",
       "text": [
        " /tmp/tmpWgp68a.html\n",
        "/tmp/tmp4rN_i9.html\n",
        "/tmp/tmpWgp68a.html\n",
        "/tmp/tmpWgp68a.html\n",
        "Now open file:///tmp/tmp4rN_i9.html in your web browser\n"
       ]
      },
      {
       "output_type": "stream",
       "stream": "stdout",
       "text": [
        "\n",
        "processed "
       ]
      },
      {
       "output_type": "stream",
       "stream": "stdout",
       "text": [
        " 199\n",
        "skipped  3\n",
        "445428584\n",
        "original article tmp file "
       ]
      },
      {
       "output_type": "stream",
       "stream": "stdout",
       "text": [
        " /tmp/tmpDDlgbn.html\n",
        "/tmp/tmp73zuZQ.html\n",
        "/tmp/tmpDDlgbn.html\n",
        "/tmp/tmpDDlgbn.html\n",
        "Now open file:///tmp/tmp73zuZQ.html in your web browser\n"
       ]
      },
      {
       "output_type": "stream",
       "stream": "stdout",
       "text": [
        "\n",
        "processed  200\n",
        "skipped  3\n",
        "445477281\n",
        "original article tmp file "
       ]
      },
      {
       "output_type": "stream",
       "stream": "stdout",
       "text": [
        " /tmp/tmpwkIvxu.html\n",
        "/tmp/tmpmdgb4c.html\n",
        "/tmp/tmpwkIvxu.html\n",
        "/tmp/tmpwkIvxu.html\n",
        "Now open file:///tmp/tmpmdgb4c.html in your web browser\n"
       ]
      },
      {
       "output_type": "stream",
       "stream": "stdout",
       "text": [
        "\n",
        "processed "
       ]
      },
      {
       "output_type": "stream",
       "stream": "stdout",
       "text": [
        " 201\n",
        "skipped  3\n",
        "446094222\n",
        "original article tmp file "
       ]
      },
      {
       "output_type": "stream",
       "stream": "stdout",
       "text": [
        " /tmp/tmpCSGInX.html\n",
        "/tmp/tmpfznJ2E.html\n",
        "/tmp/tmpCSGInX.html\n",
        "/tmp/tmpCSGInX.html\n",
        "Now open file:///tmp/tmpfznJ2E.html in your web browser\n"
       ]
      },
      {
       "output_type": "stream",
       "stream": "stdout",
       "text": [
        "\n",
        "processed "
       ]
      },
      {
       "output_type": "stream",
       "stream": "stdout",
       "text": [
        " 202\n",
        "skipped  3\n",
        "446613221\n",
        "original article tmp file "
       ]
      },
      {
       "output_type": "stream",
       "stream": "stdout",
       "text": [
        " /tmp/tmpr94B12.html\n",
        "/tmp/tmpBhA1iA.html\n",
        "/tmp/tmpr94B12.html\n",
        "/tmp/tmpr94B12.html\n",
        "Now open file:///tmp/tmpBhA1iA.html in your web browser\n"
       ]
      },
      {
       "output_type": "stream",
       "stream": "stdout",
       "text": [
        "\n",
        "processed  203\n",
        "skipped  3\n",
        "447062817\n",
        "original article tmp file "
       ]
      },
      {
       "output_type": "stream",
       "stream": "stdout",
       "text": [
        " /tmp/tmpne1Rhw.html\n",
        "/tmp/tmplyk6QW.html\n",
        "/tmp/tmpne1Rhw.html\n",
        "/tmp/tmpne1Rhw.html\n",
        "Now open file:///tmp/tmplyk6QW.html in your web browser\n"
       ]
      },
      {
       "output_type": "stream",
       "stream": "stdout",
       "text": [
        "\n",
        "processed  204\n",
        "skipped  3\n",
        "447776250\n",
        "original article tmp file "
       ]
      },
      {
       "output_type": "stream",
       "stream": "stdout",
       "text": [
        " /tmp/tmpnYCpkj.html\n",
        "/tmp/tmp2NKdJk.html\n",
        "/tmp/tmpnYCpkj.html\n",
        "/tmp/tmpnYCpkj.html\n",
        "Now open file:///tmp/tmp2NKdJk.html in your web browser\n"
       ]
      },
      {
       "output_type": "stream",
       "stream": "stdout",
       "text": [
        "\n",
        "processed "
       ]
      },
      {
       "output_type": "stream",
       "stream": "stdout",
       "text": [
        " 205\n",
        "skipped  3\n",
        "448661284\n",
        "original article tmp file "
       ]
      },
      {
       "output_type": "stream",
       "stream": "stdout",
       "text": [
        " /tmp/tmpKpouvc.html\n",
        "/tmp/tmpN17Wga.html\n",
        "/tmp/tmpKpouvc.html\n",
        "/tmp/tmpKpouvc.html\n",
        "Now open file:///tmp/tmpN17Wga.html in your web browser\n"
       ]
      },
      {
       "output_type": "stream",
       "stream": "stdout",
       "text": [
        "\n",
        "processed  206\n",
        "skipped  3\n",
        "448661534\n",
        "original article tmp file "
       ]
      },
      {
       "output_type": "stream",
       "stream": "stdout",
       "text": [
        " /tmp/tmpjJ7ODZ.html\n",
        "/tmp/tmpTliWXU.html\n",
        "/tmp/tmpjJ7ODZ.html\n",
        "/tmp/tmpjJ7ODZ.html\n",
        "Now open file:///tmp/tmpTliWXU.html in your web browser\n"
       ]
      },
      {
       "output_type": "stream",
       "stream": "stdout",
       "text": [
        "\n",
        "processed "
       ]
      },
      {
       "output_type": "stream",
       "stream": "stdout",
       "text": [
        " 207\n",
        "skipped  3\n",
        "448892156\n",
        "original article tmp file "
       ]
      },
      {
       "output_type": "stream",
       "stream": "stdout",
       "text": [
        " /tmp/tmpNao4aZ.html\n",
        "/tmp/tmpAtTLj3.html\n",
        "/tmp/tmpNao4aZ.html\n",
        "/tmp/tmpNao4aZ.html\n",
        "Now open file:///tmp/tmpAtTLj3.html in your web browser\n"
       ]
      },
      {
       "output_type": "stream",
       "stream": "stdout",
       "text": [
        "\n",
        "processed "
       ]
      },
      {
       "output_type": "stream",
       "stream": "stdout",
       "text": [
        " 208\n",
        "skipped  3\n",
        "448905892\n",
        "original article tmp file "
       ]
      },
      {
       "output_type": "stream",
       "stream": "stdout",
       "text": [
        " /tmp/tmpeasyuj.html\n",
        "/tmp/tmpJyeJYW.html\n",
        "/tmp/tmpeasyuj.html\n",
        "/tmp/tmpeasyuj.html\n",
        "Now open file:///tmp/tmpJyeJYW.html in your web browser\n"
       ]
      },
      {
       "output_type": "stream",
       "stream": "stdout",
       "text": [
        "\n",
        "processed  209\n",
        "skipped  3\n",
        "449094788\n",
        "original article tmp file "
       ]
      },
      {
       "output_type": "stream",
       "stream": "stdout",
       "text": [
        " /tmp/tmpD7PdcR.html\n",
        "/tmp/tmpDY_EiK.html\n",
        "/tmp/tmpD7PdcR.html\n",
        "/tmp/tmpD7PdcR.html\n",
        "Now open file:///tmp/tmpDY_EiK.html in your web browser\n"
       ]
      },
      {
       "output_type": "stream",
       "stream": "stdout",
       "text": [
        "\n",
        "processed "
       ]
      },
      {
       "output_type": "stream",
       "stream": "stdout",
       "text": [
        " 210\n",
        "skipped  3\n",
        "449256732\n",
        "original article tmp file "
       ]
      },
      {
       "output_type": "stream",
       "stream": "stdout",
       "text": [
        " /tmp/tmpXDoPyJ.html\n",
        "/tmp/tmpwrmwg0.html\n",
        "/tmp/tmpXDoPyJ.html\n",
        "/tmp/tmpXDoPyJ.html\n",
        "Now open file:///tmp/tmpwrmwg0.html in your web browser\n"
       ]
      },
      {
       "output_type": "stream",
       "stream": "stdout",
       "text": [
        "\n",
        "processed "
       ]
      },
      {
       "output_type": "stream",
       "stream": "stdout",
       "text": [
        " 211\n",
        "skipped  3\n",
        "450223351\n",
        "original article tmp file "
       ]
      },
      {
       "output_type": "stream",
       "stream": "stdout",
       "text": [
        " /tmp/tmpYcsOF6.html\n",
        "/tmp/tmpMOmYpN.html\n",
        "/tmp/tmpYcsOF6.html\n",
        "/tmp/tmpYcsOF6.html\n",
        "Now open file:///tmp/tmpMOmYpN.html in your web browser\n"
       ]
      },
      {
       "output_type": "stream",
       "stream": "stdout",
       "text": [
        "\n",
        "processed  212\n",
        "skipped  3\n",
        "450797637\n",
        "original article tmp file "
       ]
      },
      {
       "output_type": "stream",
       "stream": "stdout",
       "text": [
        " /tmp/tmp2XK8lm.html\n",
        "/tmp/tmpAvg70O.html\n",
        "/tmp/tmp2XK8lm.html\n",
        "/tmp/tmp2XK8lm.html\n",
        "Now open file:///tmp/tmpAvg70O.html in your web browser\n"
       ]
      },
      {
       "output_type": "stream",
       "stream": "stdout",
       "text": [
        "\n",
        "processed "
       ]
      },
      {
       "output_type": "stream",
       "stream": "stdout",
       "text": [
        " 213\n",
        "skipped  3\n",
        "452232437\n",
        "original article tmp file "
       ]
      },
      {
       "output_type": "stream",
       "stream": "stdout",
       "text": [
        " /tmp/tmpsMRWGC.html\n",
        "/tmp/tmp6Z8Gy4.html\n",
        "/tmp/tmpsMRWGC.html\n",
        "/tmp/tmpsMRWGC.html\n",
        "Now open file:///tmp/tmp6Z8Gy4.html in your web browser\n"
       ]
      },
      {
       "output_type": "stream",
       "stream": "stdout",
       "text": [
        "\n",
        "processed "
       ]
      },
      {
       "output_type": "stream",
       "stream": "stdout",
       "text": [
        " 214\n",
        "skipped  3\n",
        "453272806\n",
        "original article tmp file "
       ]
      },
      {
       "output_type": "stream",
       "stream": "stdout",
       "text": [
        " /tmp/tmpx2an42.html\n",
        "/tmp/tmpEb_rQt.html\n",
        "/tmp/tmpx2an42.html\n",
        "/tmp/tmpx2an42.html\n",
        "Now open file:///tmp/tmpEb_rQt.html in your web browser\n"
       ]
      },
      {
       "output_type": "stream",
       "stream": "stdout",
       "text": [
        "\n",
        "processed "
       ]
      },
      {
       "output_type": "stream",
       "stream": "stdout",
       "text": [
        " 215\n",
        "skipped  3\n",
        "454046798\n",
        "original article tmp file "
       ]
      },
      {
       "output_type": "stream",
       "stream": "stdout",
       "text": [
        " /tmp/tmpBHUJTN.html\n",
        "/tmp/tmp3Fg6yB.html\n",
        "/tmp/tmpBHUJTN.html\n",
        "/tmp/tmpBHUJTN.html\n",
        "Now open file:///tmp/tmp3Fg6yB.html in your web browser\n"
       ]
      },
      {
       "output_type": "stream",
       "stream": "stdout",
       "text": [
        "\n",
        "processed "
       ]
      },
      {
       "output_type": "stream",
       "stream": "stdout",
       "text": [
        " 216\n",
        "skipped  3\n",
        "454492602\n",
        "original article tmp file "
       ]
      },
      {
       "output_type": "stream",
       "stream": "stdout",
       "text": [
        " /tmp/tmpqHq0DV.html\n",
        "/tmp/tmp8wBJI4.html\n",
        "/tmp/tmpqHq0DV.html\n",
        "/tmp/tmpqHq0DV.html\n",
        "Now open file:///tmp/tmp8wBJI4.html in your web browser\n"
       ]
      },
      {
       "output_type": "stream",
       "stream": "stdout",
       "text": [
        "\n",
        "Unexpected error on string '</a>\n",
        "'"
       ]
      },
      {
       "output_type": "stream",
       "stream": "stdout",
       "text": [
        " <class 'lxml.etree.ParserError'>\n",
        "Unexpected error on string '</p>\n",
        "' <class 'lxml.etree.ParserError'>\n",
        "Unexpected error on string '</div>\n",
        "' <class 'lxml.etree.ParserError'>\n",
        "Unexpected error on string '</a>\n",
        "' <class 'lxml.etree.ParserError'>\n",
        "Unexpected error on string '</a>' <class 'lxml.etree.ParserError'>\n",
        "Unexpected error on string '</h2>\n",
        "' <class 'lxml.etree.ParserError'>\n",
        "Unexpected error on string '</a>' <class 'lxml.etree.ParserError'>\n",
        "Unexpected error on string '</p>\n",
        "' <class 'lxml.etree.ParserError'>\n",
        "Unexpected error on string '</a>' <class 'lxml.etree.ParserError'>\n",
        "Unexpected error on string '</p>\n",
        "' <class 'lxml.etree.ParserError'>\n",
        "Unexpected error on string '</div>\n",
        "' <class 'lxml.etree.ParserError'>\n",
        "Unexpected error on string '</div>\n",
        "' <class 'lxml.etree.ParserError'>\n",
        "Unexpected error on string '</div>\n",
        "' <class 'lxml.etree.ParserError'>\n",
        "processed "
       ]
      },
      {
       "output_type": "stream",
       "stream": "stdout",
       "text": [
        " 217\n",
        "skipped  3\n",
        "455066382\n",
        "original article tmp file "
       ]
      },
      {
       "output_type": "stream",
       "stream": "stdout",
       "text": [
        " /tmp/tmp1HHG2G.html\n",
        "/tmp/tmpgtypC6.html\n",
        "/tmp/tmp1HHG2G.html\n",
        "/tmp/tmp1HHG2G.html\n",
        "Now open file:///tmp/tmpgtypC6.html in your web browser\n"
       ]
      },
      {
       "output_type": "stream",
       "stream": "stdout",
       "text": [
        "\n",
        "processed  218\n",
        "skipped  3\n",
        "455593030\n",
        "original article tmp file "
       ]
      },
      {
       "output_type": "stream",
       "stream": "stdout",
       "text": [
        " /tmp/tmpt70UfE.html\n",
        "/tmp/tmpNyJOl0.html\n",
        "/tmp/tmpt70UfE.html\n",
        "/tmp/tmpt70UfE.html\n",
        "Now open file:///tmp/tmpNyJOl0.html in your web browser\n"
       ]
      },
      {
       "output_type": "stream",
       "stream": "stdout",
       "text": [
        "\n",
        "processed "
       ]
      },
      {
       "output_type": "stream",
       "stream": "stdout",
       "text": [
        " 219\n",
        "skipped  3\n",
        "456789442\n",
        "original article tmp file "
       ]
      },
      {
       "output_type": "stream",
       "stream": "stdout",
       "text": [
        " /tmp/tmpdUNgMC.html\n",
        "/tmp/tmpoauonm.html\n",
        "/tmp/tmpdUNgMC.html\n",
        "/tmp/tmpdUNgMC.html\n",
        "Now open file:///tmp/tmpoauonm.html in your web browser\n"
       ]
      },
      {
       "output_type": "stream",
       "stream": "stdout",
       "text": [
        "\n",
        "processed  220\n",
        "skipped  3\n",
        "457113351\n",
        "original article tmp file "
       ]
      },
      {
       "output_type": "stream",
       "stream": "stdout",
       "text": [
        " /tmp/tmpX3jXNm.html\n",
        "/tmp/tmpzd7Ndm.html\n",
        "/tmp/tmpX3jXNm.html\n",
        "/tmp/tmpX3jXNm.html\n",
        "Now open file:///tmp/tmpzd7Ndm.html in your web browser\n"
       ]
      },
      {
       "output_type": "stream",
       "stream": "stdout",
       "text": [
        "\n",
        "processed "
       ]
      },
      {
       "output_type": "stream",
       "stream": "stdout",
       "text": [
        " 221\n",
        "skipped  3\n",
        "457749321\n",
        "original article tmp file "
       ]
      },
      {
       "output_type": "stream",
       "stream": "stdout",
       "text": [
        " /tmp/tmpXa_z5y.html\n",
        "/tmp/tmpcvRSa7.html\n",
        "/tmp/tmpXa_z5y.html\n",
        "/tmp/tmpXa_z5y.html\n",
        "Now open file:///tmp/tmpcvRSa7.html in your web browser\n"
       ]
      },
      {
       "output_type": "stream",
       "stream": "stdout",
       "text": [
        "\n",
        "processed "
       ]
      },
      {
       "output_type": "stream",
       "stream": "stdout",
       "text": [
        " 222\n",
        "skipped  3\n",
        "457918791\n",
        "original article tmp file "
       ]
      },
      {
       "output_type": "stream",
       "stream": "stdout",
       "text": [
        " /tmp/tmp0IlukV.html\n",
        "/tmp/tmpnpk5WQ.html\n",
        "/tmp/tmp0IlukV.html\n",
        "/tmp/tmp0IlukV.html\n",
        "Now open file:///tmp/tmpnpk5WQ.html in your web browser\n"
       ]
      },
      {
       "output_type": "stream",
       "stream": "stdout",
       "text": [
        "\n",
        "processed "
       ]
      },
      {
       "output_type": "stream",
       "stream": "stdout",
       "text": [
        " 223\n",
        "skipped  3\n",
        "457945604\n",
        "original article tmp file "
       ]
      },
      {
       "output_type": "stream",
       "stream": "stdout",
       "text": [
        " /tmp/tmpl_qgJD.html\n",
        "/tmp/tmpAzpvc5.html\n",
        "/tmp/tmpl_qgJD.html\n",
        "/tmp/tmpl_qgJD.html\n",
        "Now open file:///tmp/tmpAzpvc5.html in your web browser\n"
       ]
      },
      {
       "output_type": "stream",
       "stream": "stdout",
       "text": [
        "\n",
        "processed "
       ]
      },
      {
       "output_type": "stream",
       "stream": "stdout",
       "text": [
        " 224\n",
        "skipped  3\n",
        "458053172\n",
        "original article tmp file "
       ]
      },
      {
       "output_type": "stream",
       "stream": "stdout",
       "text": [
        " /tmp/tmpfmzRhT.html\n",
        "/tmp/tmpNHYKam.html\n",
        "/tmp/tmpfmzRhT.html\n",
        "/tmp/tmpfmzRhT.html\n",
        "Now open file:///tmp/tmpNHYKam.html in your web browser\n"
       ]
      },
      {
       "output_type": "stream",
       "stream": "stdout",
       "text": [
        "\n",
        "processed  225\n",
        "skipped  3\n",
        "458710845\n",
        "original article tmp file "
       ]
      },
      {
       "output_type": "stream",
       "stream": "stdout",
       "text": [
        " /tmp/tmpbKbIbh.html\n",
        "/tmp/tmpo0pYax.html\n",
        "/tmp/tmpbKbIbh.html\n",
        "/tmp/tmpbKbIbh.html\n",
        "Now open file:///tmp/tmpo0pYax.html in your web browser\n"
       ]
      },
      {
       "output_type": "stream",
       "stream": "stdout",
       "text": [
        "\n",
        "processed "
       ]
      },
      {
       "output_type": "stream",
       "stream": "stdout",
       "text": [
        " 226\n",
        "skipped  3\n",
        "459297373\n",
        "original article tmp file "
       ]
      },
      {
       "output_type": "stream",
       "stream": "stdout",
       "text": [
        " /tmp/tmptGayXX.html\n",
        "/tmp/tmp1Z7_VJ.html\n",
        "/tmp/tmptGayXX.html\n",
        "/tmp/tmptGayXX.html\n",
        "Now open file:///tmp/tmp1Z7_VJ.html in your web browser\n"
       ]
      },
      {
       "output_type": "stream",
       "stream": "stdout",
       "text": [
        "\n",
        "processed  227\n",
        "skipped  3\n",
        "459314297\n",
        "original article tmp file "
       ]
      },
      {
       "output_type": "stream",
       "stream": "stdout",
       "text": [
        " /tmp/tmpIbbjKw.html\n",
        "/tmp/tmpzH3DHk.html\n",
        "/tmp/tmpIbbjKw.html\n",
        "/tmp/tmpIbbjKw.html\n",
        "Now open file:///tmp/tmpzH3DHk.html in your web browser\n"
       ]
      },
      {
       "output_type": "stream",
       "stream": "stdout",
       "text": [
        "\n",
        "processed "
       ]
      },
      {
       "output_type": "stream",
       "stream": "stdout",
       "text": [
        " 228\n",
        "skipped  3\n",
        "459678712\n",
        "original article tmp file "
       ]
      },
      {
       "output_type": "stream",
       "stream": "stdout",
       "text": [
        " /tmp/tmpeo7Sku.html\n",
        "/tmp/tmpIxhcjm.html\n",
        "/tmp/tmpeo7Sku.html\n",
        "/tmp/tmpeo7Sku.html\n",
        "Now open file:///tmp/tmpIxhcjm.html in your web browser\n"
       ]
      },
      {
       "output_type": "stream",
       "stream": "stdout",
       "text": [
        "\n",
        "processed "
       ]
      },
      {
       "output_type": "stream",
       "stream": "stdout",
       "text": [
        " 229\n",
        "skipped  3\n",
        "459731765\n",
        "original article tmp file "
       ]
      },
      {
       "output_type": "stream",
       "stream": "stdout",
       "text": [
        " /tmp/tmpLDiSti.html\n",
        "/tmp/tmp4c2XI3.html\n",
        "/tmp/tmpLDiSti.html\n",
        "/tmp/tmpLDiSti.html\n",
        "Now open file:///tmp/tmp4c2XI3.html in your web browser\n"
       ]
      },
      {
       "output_type": "stream",
       "stream": "stdout",
       "text": [
        "\n",
        "processed "
       ]
      },
      {
       "output_type": "stream",
       "stream": "stdout",
       "text": [
        " 230\n",
        "skipped  3\n",
        "461252885\n",
        "original article tmp file "
       ]
      },
      {
       "output_type": "stream",
       "stream": "stdout",
       "text": [
        " /tmp/tmpSm_aPV.html\n",
        "/tmp/tmptHW1Nu.html\n",
        "/tmp/tmpSm_aPV.html\n",
        "/tmp/tmpSm_aPV.html\n",
        "Now open file:///tmp/tmptHW1Nu.html in your web browser\n"
       ]
      },
      {
       "output_type": "stream",
       "stream": "stdout",
       "text": [
        "\n",
        "processed  231\n",
        "skipped  3\n",
        "462404061\n",
        "original article tmp file "
       ]
      },
      {
       "output_type": "stream",
       "stream": "stdout",
       "text": [
        " /tmp/tmph3kbs5.html\n",
        "/tmp/tmpUTm1_J.html\n",
        "/tmp/tmph3kbs5.html\n",
        "/tmp/tmph3kbs5.html\n",
        "Now open file:///tmp/tmpUTm1_J.html in your web browser\n"
       ]
      },
      {
       "output_type": "stream",
       "stream": "stdout",
       "text": [
        "\n",
        "processed  232\n",
        "skipped  3\n",
        "462983422\n",
        "original article tmp file "
       ]
      },
      {
       "output_type": "stream",
       "stream": "stdout",
       "text": [
        " /tmp/tmpOjIMQG.html\n",
        "/tmp/tmpnKd_sr.html\n",
        "/tmp/tmpOjIMQG.html\n",
        "/tmp/tmpOjIMQG.html\n",
        "Now open file:///tmp/tmpnKd_sr.html in your web browser\n"
       ]
      },
      {
       "output_type": "stream",
       "stream": "stdout",
       "text": [
        "\n",
        "processed "
       ]
      },
      {
       "output_type": "stream",
       "stream": "stdout",
       "text": [
        " 233\n",
        "skipped  3\n",
        "463954045\n",
        "original article tmp file "
       ]
      },
      {
       "output_type": "stream",
       "stream": "stdout",
       "text": [
        " /tmp/tmpXBuFNA.html\n",
        "/tmp/tmpcpyDSY.html\n",
        "/tmp/tmpXBuFNA.html\n",
        "/tmp/tmpXBuFNA.html\n",
        "Now open file:///tmp/tmpcpyDSY.html in your web browser\n"
       ]
      },
      {
       "output_type": "stream",
       "stream": "stdout",
       "text": [
        "\n",
        "processed "
       ]
      },
      {
       "output_type": "stream",
       "stream": "stdout",
       "text": [
        " 234\n",
        "skipped  3\n",
        "464270345\n",
        "original article tmp file "
       ]
      },
      {
       "output_type": "stream",
       "stream": "stdout",
       "text": [
        " /tmp/tmpoUdoZv.html\n",
        "/tmp/tmpRJjMmB.html\n",
        "/tmp/tmpoUdoZv.html\n",
        "/tmp/tmpoUdoZv.html\n",
        "Now open file:///tmp/tmpRJjMmB.html in your web browser\n"
       ]
      },
      {
       "output_type": "stream",
       "stream": "stdout",
       "text": [
        "\n",
        "processed "
       ]
      },
      {
       "output_type": "stream",
       "stream": "stdout",
       "text": [
        " 235\n",
        "skipped  3\n",
        "465068895\n",
        "original article tmp file "
       ]
      },
      {
       "output_type": "stream",
       "stream": "stdout",
       "text": [
        " /tmp/tmpKiHQ9N.html\n",
        "/tmp/tmpt7S4kT.html\n",
        "/tmp/tmpKiHQ9N.html\n",
        "/tmp/tmpKiHQ9N.html\n",
        "Now open file:///tmp/tmpt7S4kT.html in your web browser\n"
       ]
      },
      {
       "output_type": "stream",
       "stream": "stdout",
       "text": [
        "\n",
        "Unexpected error on string '</a>\n",
        "' <class 'lxml.etree.ParserError'>\n",
        "Unexpected error on string '</p>\n",
        "' <class 'lxml.etree.ParserError'>\n",
        "Unexpected error on string '</div>\n",
        "' <class 'lxml.etree.ParserError'>\n",
        "Unexpected error on string '</a>\n",
        "' <class 'lxml.etree.ParserError'>\n",
        "Unexpected error on string '</a>' <class 'lxml.etree.ParserError'>\n",
        "Unexpected error on string '</h2>\n",
        "' <class 'lxml.etree.ParserError'>\n",
        "Unexpected error on string '</a>' <class 'lxml.etree.ParserError'>\n",
        "Unexpected error on string '</p>\n",
        "' <class 'lxml.etree.ParserError'>\n",
        "Unexpected error on string '</a>' <class 'lxml.etree.ParserError'>\n",
        "Unexpected error on string '</p>\n",
        "' <class 'lxml.etree.ParserError'>\n",
        "Unexpected error on string '</div>\n",
        "' <class 'lxml.etree.ParserError'>\n",
        "Unexpected error on string '</div>\n",
        "' <class 'lxml.etree.ParserError'>\n",
        "Unexpected error on string '</div>\n",
        "' <class 'lxml.etree.ParserError'>\n",
        "processed  236\n",
        "skipped  3\n",
        "465090983\n",
        "original article tmp file "
       ]
      },
      {
       "output_type": "stream",
       "stream": "stdout",
       "text": [
        " /tmp/tmplON_Pm.html\n",
        "/tmp/tmpFH0MpZ.html\n",
        "/tmp/tmplON_Pm.html\n",
        "/tmp/tmplON_Pm.html\n",
        "Now open file:///tmp/tmpFH0MpZ.html in your web browser\n"
       ]
      },
      {
       "output_type": "stream",
       "stream": "stdout",
       "text": [
        "\n",
        "processed  237\n",
        "skipped  3\n",
        "466804114\n",
        "original article tmp file "
       ]
      },
      {
       "output_type": "stream",
       "stream": "stdout",
       "text": [
        " /tmp/tmposWk4N.html\n",
        "/tmp/tmpPfArP3.html\n",
        "/tmp/tmposWk4N.html\n",
        "/tmp/tmposWk4N.html\n",
        "Now open file:///tmp/tmpPfArP3.html in your web browser\n"
       ]
      },
      {
       "output_type": "stream",
       "stream": "stdout",
       "text": [
        "\n",
        "processed "
       ]
      },
      {
       "output_type": "stream",
       "stream": "stdout",
       "text": [
        " 238\n",
        "skipped  3\n",
        "467150362\n",
        "original article tmp file "
       ]
      },
      {
       "output_type": "stream",
       "stream": "stdout",
       "text": [
        " /tmp/tmpmTiIRo.html\n",
        "/tmp/tmp2mGtrn.html\n",
        "/tmp/tmpmTiIRo.html\n",
        "/tmp/tmpmTiIRo.html\n",
        "Now open file:///tmp/tmp2mGtrn.html in your web browser\n"
       ]
      },
      {
       "output_type": "stream",
       "stream": "stdout",
       "text": [
        "\n",
        "processed  239\n",
        "skipped  3\n",
        "468568475\n",
        "original article tmp file "
       ]
      },
      {
       "output_type": "stream",
       "stream": "stdout",
       "text": [
        " /tmp/tmpAHu1oN.html\n",
        "/tmp/tmpMs7xxY.html\n",
        "/tmp/tmpAHu1oN.html\n",
        "/tmp/tmpAHu1oN.html\n",
        "Now open file:///tmp/tmpMs7xxY.html in your web browser\n"
       ]
      },
      {
       "output_type": "stream",
       "stream": "stdout",
       "text": [
        "\n",
        "processed "
       ]
      },
      {
       "output_type": "stream",
       "stream": "stdout",
       "text": [
        " 240\n",
        "skipped  3\n",
        "468788039\n",
        "original article tmp file "
       ]
      },
      {
       "output_type": "stream",
       "stream": "stdout",
       "text": [
        " /tmp/tmprbevhT.html\n",
        "/tmp/tmp_GaL72.html\n",
        "/tmp/tmprbevhT.html\n",
        "/tmp/tmprbevhT.html\n",
        "Now open file:///tmp/tmp_GaL72.html in your web browser\n"
       ]
      },
      {
       "output_type": "stream",
       "stream": "stdout",
       "text": [
        "\n",
        "processed "
       ]
      },
      {
       "output_type": "stream",
       "stream": "stdout",
       "text": [
        " 241\n",
        "skipped  3\n",
        "468996262\n",
        "original article tmp file "
       ]
      },
      {
       "output_type": "stream",
       "stream": "stdout",
       "text": [
        " /tmp/tmp_98qkJ.html\n",
        "/tmp/tmpIp4awB.html\n",
        "/tmp/tmp_98qkJ.html\n",
        "/tmp/tmp_98qkJ.html\n",
        "Now open file:///tmp/tmpIp4awB.html in your web browser\n"
       ]
      },
      {
       "output_type": "stream",
       "stream": "stdout",
       "text": [
        "\n",
        "processed  242\n",
        "skipped  3\n",
        "469058922\n",
        "original article tmp file "
       ]
      },
      {
       "output_type": "stream",
       "stream": "stdout",
       "text": [
        " /tmp/tmpjwi6un.html\n",
        "/tmp/tmpEuIV35.html\n",
        "/tmp/tmpjwi6un.html\n",
        "/tmp/tmpjwi6un.html\n",
        "Now open file:///tmp/tmpEuIV35.html in your web browser\n"
       ]
      },
      {
       "output_type": "stream",
       "stream": "stdout",
       "text": [
        "\n",
        "processed "
       ]
      },
      {
       "output_type": "stream",
       "stream": "stdout",
       "text": [
        " 243\n",
        "skipped  3\n",
        "470488107\n",
        "original article tmp file "
       ]
      },
      {
       "output_type": "stream",
       "stream": "stdout",
       "text": [
        " /tmp/tmpc7Kabo.html\n",
        "/tmp/tmpefLExx.html\n",
        "/tmp/tmpc7Kabo.html\n",
        "/tmp/tmpc7Kabo.html\n",
        "Now open file:///tmp/tmpefLExx.html in your web browser\n"
       ]
      },
      {
       "output_type": "stream",
       "stream": "stdout",
       "text": [
        "\n",
        "processed "
       ]
      },
      {
       "output_type": "stream",
       "stream": "stdout",
       "text": [
        " 244\n",
        "skipped  3\n",
        "473138193\n",
        "original article tmp file "
       ]
      },
      {
       "output_type": "stream",
       "stream": "stdout",
       "text": [
        " /tmp/tmpIgJhzZ.html\n",
        "/tmp/tmpWh18nl.html\n",
        "/tmp/tmpIgJhzZ.html\n",
        "/tmp/tmpIgJhzZ.html\n",
        "Now open file:///tmp/tmpWh18nl.html in your web browser\n"
       ]
      },
      {
       "output_type": "stream",
       "stream": "stdout",
       "text": [
        "\n",
        "processed  245\n",
        "skipped  3\n",
        "474060840\n",
        "original article tmp file "
       ]
      },
      {
       "output_type": "stream",
       "stream": "stdout",
       "text": [
        " /tmp/tmpORJOm1.html\n",
        "/tmp/tmpPYlPjN.html\n",
        "/tmp/tmpORJOm1.html\n",
        "/tmp/tmpORJOm1.html\n",
        "Now open file:///tmp/tmpPYlPjN.html in your web browser\n"
       ]
      },
      {
       "output_type": "stream",
       "stream": "stdout",
       "text": [
        "\n",
        "processed  246\n",
        "skipped  3\n",
        "474649098\n",
        "original article tmp file "
       ]
      },
      {
       "output_type": "stream",
       "stream": "stdout",
       "text": [
        " /tmp/tmpJ_yV1q.html\n",
        "/tmp/tmpIMxHot.html\n",
        "/tmp/tmpJ_yV1q.html\n",
        "/tmp/tmpJ_yV1q.html\n",
        "Now open file:///tmp/tmpIMxHot.html in your web browser\n"
       ]
      },
      {
       "output_type": "stream",
       "stream": "stdout",
       "text": [
        "\n",
        "processed  247\n",
        "skipped  3\n",
        "474891663\n",
        "original article tmp file "
       ]
      },
      {
       "output_type": "stream",
       "stream": "stdout",
       "text": [
        " /tmp/tmpJ03IfJ.html\n",
        "/tmp/tmp8Q__H0.html\n",
        "/tmp/tmpJ03IfJ.html\n",
        "/tmp/tmpJ03IfJ.html\n",
        "Now open file:///tmp/tmp8Q__H0.html in your web browser\n"
       ]
      },
      {
       "output_type": "stream",
       "stream": "stdout",
       "text": [
        "\n",
        "processed "
       ]
      },
      {
       "output_type": "stream",
       "stream": "stdout",
       "text": [
        " 248\n",
        "skipped  3\n",
        "475232740\n",
        "original article tmp file "
       ]
      },
      {
       "output_type": "stream",
       "stream": "stdout",
       "text": [
        " /tmp/tmpY2LUJs.html\n",
        "/tmp/tmpc6RRNz.html\n",
        "/tmp/tmpY2LUJs.html\n",
        "/tmp/tmpY2LUJs.html\n",
        "Now open file:///tmp/tmpc6RRNz.html in your web browser\n"
       ]
      },
      {
       "output_type": "stream",
       "stream": "stdout",
       "text": [
        "\n",
        "processed  249\n",
        "skipped  3\n",
        "475489411\n",
        "original article tmp file "
       ]
      },
      {
       "output_type": "stream",
       "stream": "stdout",
       "text": [
        " /tmp/tmpE0CK3g.html\n",
        "/tmp/tmpO5OTod.html\n",
        "/tmp/tmpE0CK3g.html\n",
        "/tmp/tmpE0CK3g.html\n",
        "Now open file:///tmp/tmpO5OTod.html in your web browser\n"
       ]
      },
      {
       "output_type": "stream",
       "stream": "stdout",
       "text": [
        "\n",
        "processed "
       ]
      },
      {
       "output_type": "stream",
       "stream": "stdout",
       "text": [
        " 250\n",
        "skipped  3\n",
        "475550192\n",
        "original article tmp file "
       ]
      },
      {
       "output_type": "stream",
       "stream": "stdout",
       "text": [
        " /tmp/tmpdCuCR9.html\n",
        "/tmp/tmphINSqE.html\n",
        "/tmp/tmpdCuCR9.html\n",
        "/tmp/tmpdCuCR9.html\n",
        "Now open file:///tmp/tmphINSqE.html in your web browser\n"
       ]
      },
      {
       "output_type": "stream",
       "stream": "stdout",
       "text": [
        "\n",
        "processed "
       ]
      },
      {
       "output_type": "stream",
       "stream": "stdout",
       "text": [
        " 251\n",
        "skipped  3\n",
        "475842962\n",
        "original article tmp file "
       ]
      },
      {
       "output_type": "stream",
       "stream": "stdout",
       "text": [
        " /tmp/tmpCsthid.html\n",
        "/tmp/tmpLaKiLQ.html\n",
        "/tmp/tmpCsthid.html\n",
        "/tmp/tmpCsthid.html\n",
        "Now open file:///tmp/tmpLaKiLQ.html in your web browser\n"
       ]
      },
      {
       "output_type": "stream",
       "stream": "stdout",
       "text": [
        "\n",
        "processed  252\n",
        "skipped  3\n",
        "476050916\n",
        "original article tmp file "
       ]
      },
      {
       "output_type": "stream",
       "stream": "stdout",
       "text": [
        " /tmp/tmpoSkPcu.html\n",
        "/tmp/tmpD4HUTI.html\n",
        "/tmp/tmpoSkPcu.html\n",
        "/tmp/tmpoSkPcu.html\n",
        "Now open file:///tmp/tmpD4HUTI.html in your web browser\n"
       ]
      },
      {
       "output_type": "stream",
       "stream": "stdout",
       "text": [
        "\n",
        "processed  253\n",
        "skipped  3\n",
        "476079482\n",
        "original article tmp file "
       ]
      },
      {
       "output_type": "stream",
       "stream": "stdout",
       "text": [
        " /tmp/tmp3W70GR.html\n",
        "/tmp/tmpXkT526.html\n",
        "/tmp/tmp3W70GR.html\n",
        "/tmp/tmp3W70GR.html\n",
        "Now open file:///tmp/tmpXkT526.html in your web browser\n"
       ]
      },
      {
       "output_type": "stream",
       "stream": "stdout",
       "text": [
        "\n",
        "processed "
       ]
      },
      {
       "output_type": "stream",
       "stream": "stdout",
       "text": [
        " 254\n",
        "skipped  3\n",
        "476189164\n",
        "original article tmp file "
       ]
      },
      {
       "output_type": "stream",
       "stream": "stdout",
       "text": [
        " /tmp/tmpBXuKOX.html\n",
        "/tmp/tmp0WzAhF.html\n",
        "/tmp/tmpBXuKOX.html\n",
        "/tmp/tmpBXuKOX.html\n",
        "Now open file:///tmp/tmp0WzAhF.html in your web browser\n"
       ]
      },
      {
       "output_type": "stream",
       "stream": "stdout",
       "text": [
        "\n",
        "processed  255\n",
        "skipped  3\n",
        "476365487\n",
        "original article tmp file "
       ]
      },
      {
       "output_type": "stream",
       "stream": "stdout",
       "text": [
        " /tmp/tmp12UvlD.html\n",
        "/tmp/tmpYWpWWu.html\n",
        "/tmp/tmp12UvlD.html\n",
        "/tmp/tmp12UvlD.html\n",
        "Now open file:///tmp/tmpYWpWWu.html in your web browser\n"
       ]
      },
      {
       "output_type": "stream",
       "stream": "stdout",
       "text": [
        "\n",
        "processed "
       ]
      },
      {
       "output_type": "stream",
       "stream": "stdout",
       "text": [
        " 256\n",
        "skipped  3\n",
        "476850484\n",
        "original article tmp file "
       ]
      },
      {
       "output_type": "stream",
       "stream": "stdout",
       "text": [
        " /tmp/tmpcyao7y.html\n",
        "/tmp/tmpIzb2mK.html\n",
        "/tmp/tmpcyao7y.html\n",
        "/tmp/tmpcyao7y.html\n",
        "Now open file:///tmp/tmpIzb2mK.html in your web browser\n"
       ]
      },
      {
       "output_type": "stream",
       "stream": "stdout",
       "text": [
        "\n",
        "processed  257\n",
        "skipped  3\n",
        "476936059\n",
        "original article tmp file "
       ]
      },
      {
       "output_type": "stream",
       "stream": "stdout",
       "text": [
        " /tmp/tmpK3M6kK.html\n",
        "/tmp/tmpQLgjzR.html\n",
        "/tmp/tmpK3M6kK.html\n",
        "/tmp/tmpK3M6kK.html\n",
        "Now open file:///tmp/tmpQLgjzR.html in your web browser\n"
       ]
      },
      {
       "output_type": "stream",
       "stream": "stdout",
       "text": [
        "\n",
        "processed  258\n",
        "skipped  3\n",
        "476962103\n",
        "original article tmp file "
       ]
      },
      {
       "output_type": "stream",
       "stream": "stdout",
       "text": [
        " /tmp/tmpPND4bE.html\n",
        "/tmp/tmpUC8O__.html\n",
        "/tmp/tmpPND4bE.html\n",
        "/tmp/tmpPND4bE.html\n",
        "Now open file:///tmp/tmpUC8O__.html in your web browser\n"
       ]
      },
      {
       "output_type": "stream",
       "stream": "stdout",
       "text": [
        "\n",
        "processed "
       ]
      },
      {
       "output_type": "stream",
       "stream": "stdout",
       "text": [
        " 259\n",
        "skipped  3\n",
        "477126381\n",
        "original article tmp file "
       ]
      },
      {
       "output_type": "stream",
       "stream": "stdout",
       "text": [
        " /tmp/tmpF8ticB.html\n",
        "/tmp/tmpd1OSHv.html\n",
        "/tmp/tmpF8ticB.html\n",
        "/tmp/tmpF8ticB.html\n",
        "Now open file:///tmp/tmpd1OSHv.html in your web browser\n"
       ]
      },
      {
       "output_type": "stream",
       "stream": "stdout",
       "text": [
        "\n",
        "processed  260\n",
        "skipped  3\n",
        "477171081\n",
        "original article tmp file "
       ]
      },
      {
       "output_type": "stream",
       "stream": "stdout",
       "text": [
        " /tmp/tmpRdRe82.html\n",
        "/tmp/tmprwan5m.html\n",
        "/tmp/tmpRdRe82.html\n",
        "/tmp/tmpRdRe82.html\n",
        "Now open file:///tmp/tmprwan5m.html in your web browser\n"
       ]
      },
      {
       "output_type": "stream",
       "stream": "stdout",
       "text": [
        "\n",
        "processed "
       ]
      },
      {
       "output_type": "stream",
       "stream": "stdout",
       "text": [
        " 261\n",
        "skipped  3\n",
        "477673129\n",
        "original article tmp file "
       ]
      },
      {
       "output_type": "stream",
       "stream": "stdout",
       "text": [
        " /tmp/tmp_iQCeP.html\n",
        "/tmp/tmpsqvSHM.html\n",
        "/tmp/tmp_iQCeP.html\n",
        "/tmp/tmp_iQCeP.html\n",
        "Now open file:///tmp/tmpsqvSHM.html in your web browser\n"
       ]
      },
      {
       "output_type": "stream",
       "stream": "stdout",
       "text": [
        "\n",
        "processed  262\n",
        "skipped  3\n",
        "477798748\n",
        "original article tmp file "
       ]
      },
      {
       "output_type": "stream",
       "stream": "stdout",
       "text": [
        " /tmp/tmpIx7dbt.html\n",
        "/tmp/tmp9qllC3.html\n",
        "/tmp/tmpIx7dbt.html\n",
        "/tmp/tmpIx7dbt.html\n",
        "Now open file:///tmp/tmp9qllC3.html in your web browser\n"
       ]
      },
      {
       "output_type": "stream",
       "stream": "stdout",
       "text": [
        "\n",
        "processed "
       ]
      },
      {
       "output_type": "stream",
       "stream": "stdout",
       "text": [
        " 263\n",
        "skipped  3\n",
        "477850182\n",
        "original article tmp file "
       ]
      },
      {
       "output_type": "stream",
       "stream": "stdout",
       "text": [
        " /tmp/tmpU7I6dd.html\n",
        "/tmp/tmpwcVpFm.html\n",
        "/tmp/tmpU7I6dd.html\n",
        "/tmp/tmpU7I6dd.html\n",
        "Now open file:///tmp/tmpwcVpFm.html in your web browser\n"
       ]
      },
      {
       "output_type": "stream",
       "stream": "stdout",
       "text": [
        "\n",
        "processed  264\n",
        "skipped  3\n",
        "478307074\n",
        "original article tmp file "
       ]
      },
      {
       "output_type": "stream",
       "stream": "stdout",
       "text": [
        " /tmp/tmprTccvV.html\n",
        "/tmp/tmphWVAhh.html\n",
        "/tmp/tmprTccvV.html\n",
        "/tmp/tmprTccvV.html\n",
        "Now open file:///tmp/tmphWVAhh.html in your web browser\n"
       ]
      },
      {
       "output_type": "stream",
       "stream": "stdout",
       "text": [
        "\n",
        "processed  265\n",
        "skipped  3\n",
        "478793359\n",
        "original article tmp file "
       ]
      },
      {
       "output_type": "stream",
       "stream": "stdout",
       "text": [
        " /tmp/tmp5eDa3O.html\n",
        "/tmp/tmp3R3_G4.html\n",
        "/tmp/tmp5eDa3O.html\n",
        "/tmp/tmp5eDa3O.html\n",
        "Now open file:///tmp/tmp3R3_G4.html in your web browser\n"
       ]
      },
      {
       "output_type": "stream",
       "stream": "stdout",
       "text": [
        "\n",
        "processed "
       ]
      },
      {
       "output_type": "stream",
       "stream": "stdout",
       "text": [
        " 266\n",
        "skipped  3\n",
        "479262110\n",
        "original article tmp file "
       ]
      },
      {
       "output_type": "stream",
       "stream": "stdout",
       "text": [
        " /tmp/tmp0MX2tT.html\n",
        "/tmp/tmpYVdM9d.html\n",
        "/tmp/tmp0MX2tT.html\n",
        "/tmp/tmp0MX2tT.html\n",
        "Now open file:///tmp/tmpYVdM9d.html in your web browser\n"
       ]
      },
      {
       "output_type": "stream",
       "stream": "stdout",
       "text": [
        "\n",
        "processed  267\n",
        "skipped  3\n",
        "479410656\n",
        "original article tmp file "
       ]
      },
      {
       "output_type": "stream",
       "stream": "stdout",
       "text": [
        " /tmp/tmpZEmJxQ.html\n",
        "/tmp/tmps2GHtn.html\n",
        "/tmp/tmpZEmJxQ.html\n",
        "/tmp/tmpZEmJxQ.html\n",
        "Now open file:///tmp/tmps2GHtn.html in your web browser\n"
       ]
      },
      {
       "output_type": "stream",
       "stream": "stdout",
       "text": [
        "\n",
        "processed  268\n",
        "skipped  3\n",
        "480072496\n",
        "original article tmp file "
       ]
      },
      {
       "output_type": "stream",
       "stream": "stdout",
       "text": [
        " /tmp/tmpWlpKKW.html\n",
        "/tmp/tmpyYxbzA.html\n",
        "/tmp/tmpWlpKKW.html\n",
        "/tmp/tmpWlpKKW.html\n",
        "Now open file:///tmp/tmpyYxbzA.html in your web browser\n"
       ]
      },
      {
       "output_type": "stream",
       "stream": "stdout",
       "text": [
        "\n",
        "processed  269\n",
        "skipped  3\n",
        "480080971\n",
        "original article tmp file "
       ]
      },
      {
       "output_type": "stream",
       "stream": "stdout",
       "text": [
        " /tmp/tmpVXuPLB.html\n",
        "/tmp/tmpkxyEWk.html\n",
        "/tmp/tmpVXuPLB.html\n",
        "/tmp/tmpVXuPLB.html\n",
        "Now open file:///tmp/tmpkxyEWk.html in your web browser\n"
       ]
      },
      {
       "output_type": "stream",
       "stream": "stdout",
       "text": [
        "\n",
        "processed "
       ]
      },
      {
       "output_type": "stream",
       "stream": "stdout",
       "text": [
        " 270\n",
        "skipped  3\n",
        "480850060\n",
        "original article tmp file "
       ]
      },
      {
       "output_type": "stream",
       "stream": "stdout",
       "text": [
        " /tmp/tmpDUbltp.html\n",
        "/tmp/tmpiChT6t.html\n",
        "/tmp/tmpDUbltp.html\n",
        "/tmp/tmpDUbltp.html\n",
        "Now open file:///tmp/tmpiChT6t.html in your web browser\n"
       ]
      },
      {
       "output_type": "stream",
       "stream": "stdout",
       "text": [
        "\n",
        "processed "
       ]
      },
      {
       "output_type": "stream",
       "stream": "stdout",
       "text": [
        " 271\n",
        "skipped  3\n",
        "480965210\n",
        "original article tmp file "
       ]
      },
      {
       "output_type": "stream",
       "stream": "stdout",
       "text": [
        " /tmp/tmprQsGzT.html\n",
        "/tmp/tmpYkr6W4.html\n",
        "/tmp/tmprQsGzT.html\n",
        "/tmp/tmprQsGzT.html\n",
        "Now open file:///tmp/tmpYkr6W4.html in your web browser\n"
       ]
      },
      {
       "output_type": "stream",
       "stream": "stdout",
       "text": [
        "\n",
        "processed "
       ]
      },
      {
       "output_type": "stream",
       "stream": "stdout",
       "text": [
        " 272\n",
        "skipped  3\n",
        "481064362\n",
        "original article tmp file "
       ]
      },
      {
       "output_type": "stream",
       "stream": "stdout",
       "text": [
        " /tmp/tmpb6h2JV.html\n",
        "/tmp/tmpW1E8ct.html\n",
        "/tmp/tmpb6h2JV.html\n",
        "/tmp/tmpb6h2JV.html\n",
        "Now open file:///tmp/tmpW1E8ct.html in your web browser\n"
       ]
      },
      {
       "output_type": "stream",
       "stream": "stdout",
       "text": [
        "\n",
        "processed  273\n",
        "skipped  3\n",
        "481747325\n",
        "original article tmp file "
       ]
      },
      {
       "output_type": "stream",
       "stream": "stdout",
       "text": [
        " /tmp/tmpCjIJNn.html\n",
        "/tmp/tmpMarNOo.html\n",
        "/tmp/tmpCjIJNn.html\n",
        "/tmp/tmpCjIJNn.html\n",
        "Now open file:///tmp/tmpMarNOo.html in your web browser\n"
       ]
      },
      {
       "output_type": "stream",
       "stream": "stdout",
       "text": [
        "\n",
        "processed  274\n",
        "skipped  3\n",
        "481956983\n",
        "original article tmp file "
       ]
      },
      {
       "output_type": "stream",
       "stream": "stdout",
       "text": [
        " /tmp/tmpJQJKGg.html\n",
        "/tmp/tmppr2K7x.html\n",
        "/tmp/tmpJQJKGg.html\n",
        "/tmp/tmpJQJKGg.html\n",
        "Now open file:///tmp/tmppr2K7x.html in your web browser\n"
       ]
      },
      {
       "output_type": "stream",
       "stream": "stdout",
       "text": [
        "\n",
        "processed  275\n",
        "skipped  3\n",
        "481995599\n",
        "original article tmp file "
       ]
      },
      {
       "output_type": "stream",
       "stream": "stdout",
       "text": [
        " /tmp/tmppiPO4r.html\n",
        "/tmp/tmpazfUaT.html\n",
        "/tmp/tmppiPO4r.html\n",
        "/tmp/tmppiPO4r.html\n",
        "Now open file:///tmp/tmpazfUaT.html in your web browser\n"
       ]
      },
      {
       "output_type": "stream",
       "stream": "stdout",
       "text": [
        "\n",
        "processed  276\n",
        "skipped  3\n",
        "482339280\n",
        "original article tmp file "
       ]
      },
      {
       "output_type": "stream",
       "stream": "stdout",
       "text": [
        " /tmp/tmppZGZ3X.html\n",
        "/tmp/tmp5KWrIH.html\n",
        "/tmp/tmppZGZ3X.html\n",
        "/tmp/tmppZGZ3X.html\n",
        "Now open file:///tmp/tmp5KWrIH.html in your web browser\n"
       ]
      },
      {
       "output_type": "stream",
       "stream": "stdout",
       "text": [
        "\n",
        "processed "
       ]
      },
      {
       "output_type": "stream",
       "stream": "stdout",
       "text": [
        " 277\n",
        "skipped  3\n",
        "482455316\n",
        "original article tmp file "
       ]
      },
      {
       "output_type": "stream",
       "stream": "stdout",
       "text": [
        " /tmp/tmpPgp7d6.html\n",
        "/tmp/tmpObfwGg.html\n",
        "/tmp/tmpPgp7d6.html\n",
        "/tmp/tmpPgp7d6.html\n",
        "Now open file:///tmp/tmpObfwGg.html in your web browser\n"
       ]
      },
      {
       "output_type": "stream",
       "stream": "stdout",
       "text": [
        "\n",
        "processed "
       ]
      },
      {
       "output_type": "stream",
       "stream": "stdout",
       "text": [
        " 278\n",
        "skipped  3\n",
        "482905957\n",
        "original article tmp file "
       ]
      },
      {
       "output_type": "stream",
       "stream": "stdout",
       "text": [
        " /tmp/tmpZpQHdG.html\n",
        "/tmp/tmpd1AZz0.html\n",
        "/tmp/tmpZpQHdG.html\n",
        "/tmp/tmpZpQHdG.html\n",
        "Now open file:///tmp/tmpd1AZz0.html in your web browser\n"
       ]
      },
      {
       "output_type": "stream",
       "stream": "stdout",
       "text": [
        "\n",
        "processed "
       ]
      },
      {
       "output_type": "stream",
       "stream": "stdout",
       "text": [
        " 279\n",
        "skipped  3\n",
        "483167965\n",
        "original article tmp file "
       ]
      },
      {
       "output_type": "stream",
       "stream": "stdout",
       "text": [
        " /tmp/tmpklCqSD.html\n",
        "/tmp/tmpUTFOfQ.html\n",
        "/tmp/tmpklCqSD.html\n",
        "/tmp/tmpklCqSD.html\n",
        "Now open file:///tmp/tmpUTFOfQ.html in your web browser\n"
       ]
      },
      {
       "output_type": "stream",
       "stream": "stdout",
       "text": [
        "\n",
        "processed "
       ]
      },
      {
       "output_type": "stream",
       "stream": "stdout",
       "text": [
        " 280\n",
        "skipped  3\n",
        "483933348\n",
        "original article tmp file "
       ]
      },
      {
       "output_type": "stream",
       "stream": "stdout",
       "text": [
        " /tmp/tmpBY8Epm.html\n",
        "/tmp/tmp4uB15h.html\n",
        "/tmp/tmpBY8Epm.html\n",
        "/tmp/tmpBY8Epm.html\n",
        "Now open file:///tmp/tmp4uB15h.html in your web browser\n"
       ]
      },
      {
       "output_type": "stream",
       "stream": "stdout",
       "text": [
        "\n",
        "processed  281\n",
        "skipped  3\n",
        "484173730\n",
        "original article tmp file "
       ]
      },
      {
       "output_type": "stream",
       "stream": "stdout",
       "text": [
        " /tmp/tmpOEahle.html\n",
        "/tmp/tmp0UFZMp.html\n",
        "/tmp/tmpOEahle.html\n",
        "/tmp/tmpOEahle.html\n",
        "Now open file:///tmp/tmp0UFZMp.html in your web browser\n"
       ]
      },
      {
       "output_type": "stream",
       "stream": "stdout",
       "text": [
        "\n",
        "processed  282\n",
        "skipped  3\n",
        "484469651\n",
        "original article tmp file "
       ]
      },
      {
       "output_type": "stream",
       "stream": "stdout",
       "text": [
        " /tmp/tmp5td_7b.html\n",
        "/tmp/tmpfTdCcz.html\n",
        "/tmp/tmp5td_7b.html\n",
        "/tmp/tmp5td_7b.html\n",
        "Now open file:///tmp/tmpfTdCcz.html in your web browser\n"
       ]
      },
      {
       "output_type": "stream",
       "stream": "stdout",
       "text": [
        "\n",
        "processed  283\n",
        "skipped  3\n",
        "485257678\n",
        "original article tmp file "
       ]
      },
      {
       "output_type": "stream",
       "stream": "stdout",
       "text": [
        " /tmp/tmpWS7LiL.html\n",
        "/tmp/tmpDdyjIN.html\n",
        "/tmp/tmpWS7LiL.html\n",
        "/tmp/tmpWS7LiL.html\n",
        "Now open file:///tmp/tmpDdyjIN.html in your web browser\n"
       ]
      },
      {
       "output_type": "stream",
       "stream": "stdout",
       "text": [
        "\n",
        "processed  284\n",
        "skipped  3\n",
        "485289153\n",
        "original article tmp file "
       ]
      },
      {
       "output_type": "stream",
       "stream": "stdout",
       "text": [
        " /tmp/tmpWsRojF.html\n",
        "/tmp/tmpGL3RLC.html\n",
        "/tmp/tmpWsRojF.html\n",
        "/tmp/tmpWsRojF.html\n",
        "Now open file:///tmp/tmpGL3RLC.html in your web browser\n"
       ]
      },
      {
       "output_type": "stream",
       "stream": "stdout",
       "text": [
        "\n",
        "processed  285\n",
        "skipped  3\n",
        "485312050\n",
        "original article tmp file "
       ]
      },
      {
       "output_type": "stream",
       "stream": "stdout",
       "text": [
        " /tmp/tmpHEPYwd.html\n",
        "/tmp/tmpWGeVdP.html\n",
        "/tmp/tmpHEPYwd.html\n",
        "/tmp/tmpHEPYwd.html\n",
        "Now open file:///tmp/tmpWGeVdP.html in your web browser\n"
       ]
      },
      {
       "output_type": "stream",
       "stream": "stdout",
       "text": [
        "\n",
        "processed "
       ]
      },
      {
       "output_type": "stream",
       "stream": "stdout",
       "text": [
        " 286\n",
        "skipped  3\n",
        "485772601\n",
        "original article tmp file "
       ]
      },
      {
       "output_type": "stream",
       "stream": "stdout",
       "text": [
        " /tmp/tmpGICIha.html\n",
        "/tmp/tmpJKrqAH.html\n",
        "/tmp/tmpGICIha.html\n",
        "/tmp/tmpGICIha.html\n",
        "Now open file:///tmp/tmpJKrqAH.html in your web browser\n"
       ]
      },
      {
       "output_type": "stream",
       "stream": "stdout",
       "text": [
        "\n",
        "processed  287\n",
        "skipped  3\n",
        "485874387\n",
        "original article tmp file "
       ]
      },
      {
       "output_type": "stream",
       "stream": "stdout",
       "text": [
        " /tmp/tmpzygfWv.html\n",
        "/tmp/tmp89hRwX.html\n",
        "/tmp/tmpzygfWv.html\n",
        "/tmp/tmpzygfWv.html\n",
        "Now open file:///tmp/tmp89hRwX.html in your web browser\n"
       ]
      },
      {
       "output_type": "stream",
       "stream": "stdout",
       "text": [
        "\n",
        "processed  288\n",
        "skipped  3\n",
        "486956929\n",
        "original article tmp file "
       ]
      },
      {
       "output_type": "stream",
       "stream": "stdout",
       "text": [
        " /tmp/tmp4ptqGA.html\n",
        "/tmp/tmpBEl6PL.html\n",
        "/tmp/tmp4ptqGA.html\n",
        "/tmp/tmp4ptqGA.html\n",
        "Now open file:///tmp/tmpBEl6PL.html in your web browser\n"
       ]
      },
      {
       "output_type": "stream",
       "stream": "stdout",
       "text": [
        "\n",
        "processed  289\n",
        "skipped  3\n",
        "486963918\n",
        "original article tmp file "
       ]
      },
      {
       "output_type": "stream",
       "stream": "stdout",
       "text": [
        " /tmp/tmp4SFpeF.html\n",
        "/tmp/tmps_Wkh6.html\n",
        "/tmp/tmp4SFpeF.html\n",
        "/tmp/tmp4SFpeF.html\n",
        "Now open file:///tmp/tmps_Wkh6.html in your web browser\n"
       ]
      },
      {
       "output_type": "stream",
       "stream": "stdout",
       "text": [
        "\n",
        "processed  290\n",
        "skipped  3\n",
        "486975782\n",
        "original article tmp file "
       ]
      },
      {
       "output_type": "stream",
       "stream": "stdout",
       "text": [
        " /tmp/tmpniougk.html\n",
        "/tmp/tmpvlQnLs.html\n",
        "/tmp/tmpniougk.html\n",
        "/tmp/tmpniougk.html\n",
        "Now open file:///tmp/tmpvlQnLs.html in your web browser\n"
       ]
      },
      {
       "output_type": "stream",
       "stream": "stdout",
       "text": [
        "\n",
        "Unexpected error on string '</a>\n",
        "' <class 'lxml.etree.ParserError'>\n",
        "Unexpected error on string '</p>\n",
        "' <class 'lxml.etree.ParserError'>\n",
        "Unexpected error on string '</div>\n",
        "' <class 'lxml.etree.ParserError'>\n",
        "Unexpected error on string '</a>\n",
        "' <class 'lxml.etree.ParserError'>\n",
        "Unexpected error on string '</a>' <class 'lxml.etree.ParserError'>\n",
        "Unexpected error on string '</h2>\n",
        "' <class 'lxml.etree.ParserError'>\n",
        "Unexpected error on string '</a>' <class 'lxml.etree.ParserError'>\n",
        "Unexpected error on string '</p>\n",
        "' <class 'lxml.etree.ParserError'>\n",
        "Unexpected error on string '</a>' <class 'lxml.etree.ParserError'>\n",
        "Unexpected error on string '</p>\n",
        "' <class 'lxml.etree.ParserError'>\n",
        "Unexpected error on string '</div>\n",
        "' <class 'lxml.etree.ParserError'>\n",
        "Unexpected error on string '</div>\n",
        "' <class 'lxml.etree.ParserError'>\n",
        "Unexpected error on string '</div>\n",
        "' <class 'lxml.etree.ParserError'>\n",
        "processed "
       ]
      },
      {
       "output_type": "stream",
       "stream": "stdout",
       "text": [
        " 291\n",
        "skipped  3\n",
        "487099193\n",
        "original article tmp file "
       ]
      },
      {
       "output_type": "stream",
       "stream": "stdout",
       "text": [
        " /tmp/tmpVokD2B.html\n",
        "/tmp/tmpVHFqIa.html\n",
        "/tmp/tmpVokD2B.html\n",
        "/tmp/tmpVokD2B.html\n",
        "Now open file:///tmp/tmpVHFqIa.html in your web browser\n"
       ]
      },
      {
       "output_type": "stream",
       "stream": "stdout",
       "text": [
        "\n",
        "processed  292\n",
        "skipped  3\n",
        "487930345\n",
        "original article tmp file "
       ]
      },
      {
       "output_type": "stream",
       "stream": "stdout",
       "text": [
        " /tmp/tmpt0_jOr.html\n",
        "/tmp/tmplcvT8v.html\n",
        "/tmp/tmpt0_jOr.html\n",
        "/tmp/tmpt0_jOr.html\n",
        "Now open file:///tmp/tmplcvT8v.html in your web browser\n"
       ]
      },
      {
       "output_type": "stream",
       "stream": "stdout",
       "text": [
        "\n",
        "processed  293\n",
        "skipped  3\n",
        "487938684\n",
        "original article tmp file "
       ]
      },
      {
       "output_type": "stream",
       "stream": "stdout",
       "text": [
        " /tmp/tmpd6iH3X.html\n",
        "/tmp/tmpOkTPqi.html\n",
        "/tmp/tmpd6iH3X.html\n",
        "/tmp/tmpd6iH3X.html\n",
        "Now open file:///tmp/tmpOkTPqi.html in your web browser\n"
       ]
      },
      {
       "output_type": "stream",
       "stream": "stdout",
       "text": [
        "\n",
        "processed  294\n",
        "skipped  3\n",
        "488325235\n",
        "original article tmp file "
       ]
      },
      {
       "output_type": "stream",
       "stream": "stdout",
       "text": [
        " /tmp/tmpUM9hry.html\n",
        "/tmp/tmpHcEBoV.html\n",
        "/tmp/tmpUM9hry.html\n",
        "/tmp/tmpUM9hry.html\n",
        "Now open file:///tmp/tmpHcEBoV.html in your web browser\n"
       ]
      },
      {
       "output_type": "stream",
       "stream": "stdout",
       "text": [
        "\n",
        "processed "
       ]
      },
      {
       "output_type": "stream",
       "stream": "stdout",
       "text": [
        " 295\n",
        "skipped  3\n",
        "489427373\n",
        "original article tmp file "
       ]
      },
      {
       "output_type": "stream",
       "stream": "stdout",
       "text": [
        " /tmp/tmpMcLr17.html\n",
        "/tmp/tmpxCCmiU.html\n",
        "/tmp/tmpMcLr17.html\n",
        "/tmp/tmpMcLr17.html\n",
        "Now open file:///tmp/tmpxCCmiU.html in your web browser\n"
       ]
      },
      {
       "output_type": "stream",
       "stream": "stdout",
       "text": [
        "\n",
        "processed "
       ]
      },
      {
       "output_type": "stream",
       "stream": "stdout",
       "text": [
        " 296\n",
        "skipped  3\n",
        "489785301\n",
        "original article tmp file "
       ]
      },
      {
       "output_type": "stream",
       "stream": "stdout",
       "text": [
        " /tmp/tmp2cxiEZ.html\n",
        "/tmp/tmpbSMxG4.html\n",
        "/tmp/tmp2cxiEZ.html\n",
        "/tmp/tmp2cxiEZ.html\n",
        "Now open file:///tmp/tmpbSMxG4.html in your web browser\n"
       ]
      },
      {
       "output_type": "stream",
       "stream": "stdout",
       "text": [
        "\n",
        "processed  297\n",
        "skipped  3\n",
        "490000422\n",
        "original article tmp file "
       ]
      },
      {
       "output_type": "stream",
       "stream": "stdout",
       "text": [
        " /tmp/tmpsMwbLz.html\n",
        "/tmp/tmp8tksJT.html\n",
        "/tmp/tmpsMwbLz.html\n",
        "/tmp/tmpsMwbLz.html\n",
        "Now open file:///tmp/tmp8tksJT.html in your web browser\n"
       ]
      },
      {
       "output_type": "stream",
       "stream": "stdout",
       "text": [
        "\n",
        "processed  298\n",
        "skipped  3\n",
        "491390357\n",
        "original article tmp file "
       ]
      },
      {
       "output_type": "stream",
       "stream": "stdout",
       "text": [
        " /tmp/tmpKPylRq.html\n",
        "/tmp/tmpw_VQ59.html\n",
        "/tmp/tmpKPylRq.html\n",
        "/tmp/tmpKPylRq.html\n",
        "Now open file:///tmp/tmpw_VQ59.html in your web browser\n"
       ]
      },
      {
       "output_type": "stream",
       "stream": "stdout",
       "text": [
        "\n",
        "processed  299\n",
        "skipped  3\n",
        "491394627\n",
        "original article tmp file "
       ]
      },
      {
       "output_type": "stream",
       "stream": "stdout",
       "text": [
        " /tmp/tmpxtWlGt.html\n",
        "/tmp/tmp9HTjN9.html\n",
        "/tmp/tmpxtWlGt.html\n",
        "/tmp/tmpxtWlGt.html\n",
        "Now open file:///tmp/tmp9HTjN9.html in your web browser\n"
       ]
      },
      {
       "output_type": "stream",
       "stream": "stdout",
       "text": [
        "\n",
        "processed  300\n",
        "skipped  3\n",
        "491580307\n",
        "original article tmp file "
       ]
      },
      {
       "output_type": "stream",
       "stream": "stdout",
       "text": [
        " /tmp/tmpDAmHrO.html\n",
        "/tmp/tmpq4n4PW.html\n",
        "/tmp/tmpDAmHrO.html\n",
        "/tmp/tmpDAmHrO.html\n",
        "Now open file:///tmp/tmpq4n4PW.html in your web browser\n"
       ]
      },
      {
       "output_type": "stream",
       "stream": "stdout",
       "text": [
        "\n",
        "processed  301\n",
        "skipped  3\n",
        "491868589\n",
        "original article tmp file "
       ]
      },
      {
       "output_type": "stream",
       "stream": "stdout",
       "text": [
        " /tmp/tmpVkh_n2.html\n",
        "/tmp/tmpw1OgWt.html\n",
        "/tmp/tmpVkh_n2.html\n",
        "/tmp/tmpVkh_n2.html\n",
        "Now open file:///tmp/tmpw1OgWt.html in your web browser\n"
       ]
      },
      {
       "output_type": "stream",
       "stream": "stdout",
       "text": [
        "\n",
        "processed  302\n",
        "skipped  3\n",
        "492035281\n",
        "original article tmp file "
       ]
      },
      {
       "output_type": "stream",
       "stream": "stdout",
       "text": [
        " /tmp/tmpU9lTl4.html\n",
        "/tmp/tmpqNIWuA.html\n",
        "/tmp/tmpU9lTl4.html\n",
        "/tmp/tmpU9lTl4.html\n",
        "Now open file:///tmp/tmpqNIWuA.html in your web browser\n"
       ]
      },
      {
       "output_type": "stream",
       "stream": "stdout",
       "text": [
        "\n",
        "processed "
       ]
      },
      {
       "output_type": "stream",
       "stream": "stdout",
       "text": [
        " 303\n",
        "skipped  3\n",
        "492212969\n",
        "original article tmp file "
       ]
      },
      {
       "output_type": "stream",
       "stream": "stdout",
       "text": [
        " /tmp/tmpEeqvfo.html\n",
        "/tmp/tmpkPa220.html\n",
        "/tmp/tmpEeqvfo.html\n",
        "/tmp/tmpEeqvfo.html\n",
        "Now open file:///tmp/tmpkPa220.html in your web browser\n"
       ]
      },
      {
       "output_type": "stream",
       "stream": "stdout",
       "text": [
        "\n",
        "processed  304\n",
        "skipped  3\n",
        "492220330\n",
        "original article tmp file "
       ]
      },
      {
       "output_type": "stream",
       "stream": "stdout",
       "text": [
        " /tmp/tmpUGXnZX.html\n",
        "/tmp/tmpnHXbR7.html\n",
        "/tmp/tmpUGXnZX.html\n",
        "/tmp/tmpUGXnZX.html\n",
        "Now open file:///tmp/tmpnHXbR7.html in your web browser\n"
       ]
      },
      {
       "output_type": "stream",
       "stream": "stdout",
       "text": [
        "\n",
        "processed "
       ]
      },
      {
       "output_type": "stream",
       "stream": "stdout",
       "text": [
        " 305\n",
        "skipped  3\n",
        "492825637\n",
        "original article tmp file "
       ]
      },
      {
       "output_type": "stream",
       "stream": "stdout",
       "text": [
        " /tmp/tmp36VY4W.html\n",
        "/tmp/tmpLxJ22a.html\n",
        "/tmp/tmp36VY4W.html\n",
        "/tmp/tmp36VY4W.html\n",
        "Now open file:///tmp/tmpLxJ22a.html in your web browser\n"
       ]
      },
      {
       "output_type": "stream",
       "stream": "stdout",
       "text": [
        "\n",
        "processed "
       ]
      },
      {
       "output_type": "stream",
       "stream": "stdout",
       "text": [
        " 306\n",
        "skipped  3\n",
        "492998487\n",
        "original article tmp file "
       ]
      },
      {
       "output_type": "stream",
       "stream": "stdout",
       "text": [
        " /tmp/tmpfZt7kk.html\n",
        "/tmp/tmpYUS79y.html\n",
        "/tmp/tmpfZt7kk.html\n",
        "/tmp/tmpfZt7kk.html\n",
        "Now open file:///tmp/tmpYUS79y.html in your web browser\n"
       ]
      },
      {
       "output_type": "stream",
       "stream": "stdout",
       "text": [
        "\n",
        "Unexpected error on string '</a>\n",
        "' <class 'lxml.etree.ParserError'>\n",
        "Unexpected error on string '</p>\n",
        "' <class 'lxml.etree.ParserError'>\n",
        "Unexpected error on string '</div>\n",
        "' <class 'lxml.etree.ParserError'>\n",
        "Unexpected error on string '</a>\n",
        "' <class 'lxml.etree.ParserError'>\n",
        "Unexpected error on string '</a>' <class 'lxml.etree.ParserError'>\n",
        "Unexpected error on string '</h2>\n",
        "' <class 'lxml.etree.ParserError'>\n",
        "Unexpected error on string '</a>' <class 'lxml.etree.ParserError'>\n",
        "Unexpected error on string '</p>\n",
        "' <class 'lxml.etree.ParserError'>\n",
        "Unexpected error on string '</a>' <class 'lxml.etree.ParserError'>\n",
        "Unexpected error on string '</p>\n",
        "' <class 'lxml.etree.ParserError'>\n",
        "Unexpected error on string '</div>\n",
        "' <class 'lxml.etree.ParserError'>\n",
        "Unexpected error on string '</div>\n",
        "' <class 'lxml.etree.ParserError'>\n",
        "Unexpected error on string '</div>\n",
        "' <class 'lxml.etree.ParserError'>\n",
        "processed  307\n",
        "skipped  3\n",
        "493395197\n",
        "original article tmp file "
       ]
      },
      {
       "output_type": "stream",
       "stream": "stdout",
       "text": [
        " /tmp/tmpbWQmAu.html\n",
        "/tmp/tmpJuUMMA.html\n",
        "/tmp/tmpbWQmAu.html\n",
        "/tmp/tmpbWQmAu.html\n",
        "Now open file:///tmp/tmpJuUMMA.html in your web browser\n"
       ]
      },
      {
       "output_type": "stream",
       "stream": "stdout",
       "text": [
        "\n",
        "processed  308\n",
        "skipped  3\n",
        "493603632\n",
        "original article tmp file "
       ]
      },
      {
       "output_type": "stream",
       "stream": "stdout",
       "text": [
        " /tmp/tmpxSyq9I.html\n",
        "/tmp/tmpahwusz.html\n",
        "/tmp/tmpxSyq9I.html\n",
        "/tmp/tmpxSyq9I.html\n",
        "Now open file:///tmp/tmpahwusz.html in your web browser\n"
       ]
      },
      {
       "output_type": "stream",
       "stream": "stdout",
       "text": [
        "\n",
        "Unexpected error on string '</a>\n",
        "' <class 'lxml.etree.ParserError'>\n",
        "Unexpected error on string '</p>\n",
        "' <class 'lxml.etree.ParserError'>\n",
        "Unexpected error on string '</div>\n",
        "' <class 'lxml.etree.ParserError'>\n",
        "Unexpected error on string '</a>\n",
        "' <class 'lxml.etree.ParserError'>\n",
        "Unexpected error on string '</a>' <class 'lxml.etree.ParserError'>\n",
        "Unexpected error on string '</h2>\n",
        "' <class 'lxml.etree.ParserError'>\n",
        "Unexpected error on string '</a>' <class 'lxml.etree.ParserError'>\n",
        "Unexpected error on string '</p>\n",
        "' <class 'lxml.etree.ParserError'>\n",
        "Unexpected error on string '</a>' <class 'lxml.etree.ParserError'>\n",
        "Unexpected error on string '</p>\n",
        "' <class 'lxml.etree.ParserError'>\n",
        "Unexpected error on string '</div>\n",
        "' <class 'lxml.etree.ParserError'>\n",
        "Unexpected error on string '</div>\n",
        "' <class 'lxml.etree.ParserError'>\n",
        "Unexpected error on string '</div>\n",
        "' <class 'lxml.etree.ParserError'>\n",
        "processed  309\n",
        "skipped  3\n",
        "494910637\n",
        "original article tmp file "
       ]
      },
      {
       "output_type": "stream",
       "stream": "stdout",
       "text": [
        " /tmp/tmp1M0piT.html\n",
        "/tmp/tmpTqOPIh.html\n",
        "/tmp/tmp1M0piT.html\n",
        "/tmp/tmp1M0piT.html\n",
        "Now open file:///tmp/tmpTqOPIh.html in your web browser\n"
       ]
      },
      {
       "output_type": "stream",
       "stream": "stdout",
       "text": [
        "\n",
        "processed  310\n",
        "skipped  3\n",
        "495132412\n",
        "original article tmp file "
       ]
      },
      {
       "output_type": "stream",
       "stream": "stdout",
       "text": [
        " /tmp/tmp9UkEMW.html\n",
        "/tmp/tmpasCN2I.html\n",
        "/tmp/tmp9UkEMW.html\n",
        "/tmp/tmp9UkEMW.html\n",
        "Now open file:///tmp/tmpasCN2I.html in your web browser\n"
       ]
      },
      {
       "output_type": "stream",
       "stream": "stdout",
       "text": [
        "\n",
        "processed "
       ]
      },
      {
       "output_type": "stream",
       "stream": "stdout",
       "text": [
        " 311\n",
        "skipped  3\n",
        "495402183\n",
        "original article tmp file "
       ]
      },
      {
       "output_type": "stream",
       "stream": "stdout",
       "text": [
        " /tmp/tmpLi9TUh.html\n",
        "/tmp/tmp42zIAj.html\n",
        "/tmp/tmpLi9TUh.html\n",
        "/tmp/tmpLi9TUh.html\n",
        "Now open file:///tmp/tmp42zIAj.html in your web browser\n"
       ]
      },
      {
       "output_type": "stream",
       "stream": "stdout",
       "text": [
        "\n",
        "processed  312\n",
        "skipped  3\n",
        "495442862\n",
        "original article tmp file "
       ]
      },
      {
       "output_type": "stream",
       "stream": "stdout",
       "text": [
        " /tmp/tmpaUam4_.html\n",
        "/tmp/tmpY0U41w.html\n",
        "/tmp/tmpaUam4_.html\n",
        "/tmp/tmpaUam4_.html\n",
        "Now open file:///tmp/tmpY0U41w.html in your web browser\n"
       ]
      },
      {
       "output_type": "stream",
       "stream": "stdout",
       "text": [
        "\n",
        "processed  313\n",
        "skipped  3\n",
        "495702037\n",
        "original article tmp file "
       ]
      },
      {
       "output_type": "stream",
       "stream": "stdout",
       "text": [
        " /tmp/tmpfuMJ5a.html\n",
        "/tmp/tmpjqnQ2p.html\n",
        "/tmp/tmpfuMJ5a.html\n",
        "/tmp/tmpfuMJ5a.html\n",
        "Now open file:///tmp/tmpjqnQ2p.html in your web browser\n"
       ]
      },
      {
       "output_type": "stream",
       "stream": "stdout",
       "text": [
        "\n",
        "processed  314\n",
        "skipped  3\n",
        "495856120\n",
        "original article tmp file "
       ]
      },
      {
       "output_type": "stream",
       "stream": "stdout",
       "text": [
        " /tmp/tmpxaqNfG.html\n",
        "/tmp/tmpYsk2_t.html\n",
        "/tmp/tmpxaqNfG.html\n",
        "/tmp/tmpxaqNfG.html\n",
        "Now open file:///tmp/tmpYsk2_t.html in your web browser\n"
       ]
      },
      {
       "output_type": "stream",
       "stream": "stdout",
       "text": [
        "\n",
        "processed "
       ]
      },
      {
       "output_type": "stream",
       "stream": "stdout",
       "text": [
        " 315\n",
        "skipped  3\n",
        "496830079\n",
        "original article tmp file "
       ]
      },
      {
       "output_type": "stream",
       "stream": "stdout",
       "text": [
        " /tmp/tmprvweVj.html\n",
        "/tmp/tmpCJr5fW.html\n",
        "/tmp/tmprvweVj.html\n",
        "/tmp/tmprvweVj.html\n",
        "Now open file:///tmp/tmpCJr5fW.html in your web browser\n"
       ]
      },
      {
       "output_type": "stream",
       "stream": "stdout",
       "text": [
        "\n",
        "processed "
       ]
      },
      {
       "output_type": "stream",
       "stream": "stdout",
       "text": [
        " 316\n",
        "skipped  3\n",
        "496960779\n",
        "original article tmp file "
       ]
      },
      {
       "output_type": "stream",
       "stream": "stdout",
       "text": [
        " /tmp/tmpPSnLEw.html\n",
        "/tmp/tmpGLO3HN.html\n",
        "/tmp/tmpPSnLEw.html\n",
        "/tmp/tmpPSnLEw.html\n",
        "Now open file:///tmp/tmpGLO3HN.html in your web browser\n"
       ]
      },
      {
       "output_type": "stream",
       "stream": "stdout",
       "text": [
        "\n",
        "processed "
       ]
      },
      {
       "output_type": "stream",
       "stream": "stdout",
       "text": [
        " 317\n",
        "skipped  3\n",
        "497510792\n",
        "original article tmp file "
       ]
      },
      {
       "output_type": "stream",
       "stream": "stdout",
       "text": [
        " /tmp/tmp4PZzYt.html\n",
        "/tmp/tmpSLnMf2.html\n",
        "/tmp/tmp4PZzYt.html\n",
        "/tmp/tmp4PZzYt.html\n",
        "Now open file:///tmp/tmpSLnMf2.html in your web browser\n"
       ]
      },
      {
       "output_type": "stream",
       "stream": "stdout",
       "text": [
        "\n",
        "processed  318\n",
        "skipped  3\n",
        "497750204\n",
        "original article tmp file "
       ]
      },
      {
       "output_type": "stream",
       "stream": "stdout",
       "text": [
        " /tmp/tmpsowxy0.html\n",
        "/tmp/tmpex5qQ3.html\n",
        "/tmp/tmpsowxy0.html\n",
        "/tmp/tmpsowxy0.html\n",
        "Now open file:///tmp/tmpex5qQ3.html in your web browser\n"
       ]
      },
      {
       "output_type": "stream",
       "stream": "stdout",
       "text": [
        "\n",
        "processed "
       ]
      },
      {
       "output_type": "stream",
       "stream": "stdout",
       "text": [
        " 319\n",
        "skipped  3\n",
        "498241896\n",
        "original article tmp file "
       ]
      },
      {
       "output_type": "stream",
       "stream": "stdout",
       "text": [
        " /tmp/tmp27RJbo.html\n",
        "/tmp/tmp7Y6jEc.html\n",
        "/tmp/tmp27RJbo.html\n",
        "/tmp/tmp27RJbo.html\n",
        "Now open file:///tmp/tmp7Y6jEc.html in your web browser\n"
       ]
      },
      {
       "output_type": "stream",
       "stream": "stdout",
       "text": [
        "\n",
        "processed  320\n",
        "skipped  3\n",
        "498496981\n",
        "original article tmp file "
       ]
      },
      {
       "output_type": "stream",
       "stream": "stdout",
       "text": [
        " /tmp/tmpoxBSB_.html\n",
        "/tmp/tmpWRqN5t.html\n",
        "/tmp/tmpoxBSB_.html\n",
        "/tmp/tmpoxBSB_.html\n",
        "Now open file:///tmp/tmpWRqN5t.html in your web browser\n"
       ]
      },
      {
       "output_type": "stream",
       "stream": "stdout",
       "text": [
        "\n",
        "processed "
       ]
      },
      {
       "output_type": "stream",
       "stream": "stdout",
       "text": [
        " 321\n",
        "skipped  3\n",
        "498497707\n",
        "original article tmp file "
       ]
      },
      {
       "output_type": "stream",
       "stream": "stdout",
       "text": [
        " /tmp/tmpaTa7H_.html\n",
        "/tmp/tmpCG0IZv.html\n",
        "/tmp/tmpaTa7H_.html\n",
        "/tmp/tmpaTa7H_.html\n",
        "Now open file:///tmp/tmpCG0IZv.html in your web browser\n"
       ]
      },
      {
       "output_type": "stream",
       "stream": "stdout",
       "text": [
        "\n",
        "processed  322\n",
        "skipped  3\n",
        "499288413\n",
        "original article tmp file "
       ]
      },
      {
       "output_type": "stream",
       "stream": "stdout",
       "text": [
        " /tmp/tmpLRazR7.html\n",
        "/tmp/tmpsfg2W9.html\n",
        "/tmp/tmpLRazR7.html\n",
        "/tmp/tmpLRazR7.html\n",
        "Now open file:///tmp/tmpsfg2W9.html in your web browser\n"
       ]
      },
      {
       "output_type": "stream",
       "stream": "stdout",
       "text": [
        "\n",
        "processed  323\n",
        "skipped  3\n",
        "499367463\n",
        "original article tmp file "
       ]
      },
      {
       "output_type": "stream",
       "stream": "stdout",
       "text": [
        " /tmp/tmphVgZpO.html\n",
        "/tmp/tmpd8bWE0.html\n",
        "/tmp/tmphVgZpO.html\n",
        "/tmp/tmphVgZpO.html\n",
        "Now open file:///tmp/tmpd8bWE0.html in your web browser\n"
       ]
      },
      {
       "output_type": "stream",
       "stream": "stdout",
       "text": [
        "\n",
        "processed "
       ]
      },
      {
       "output_type": "stream",
       "stream": "stdout",
       "text": [
        " 324\n",
        "skipped  3\n",
        "499577868\n",
        "original article tmp file "
       ]
      },
      {
       "output_type": "stream",
       "stream": "stdout",
       "text": [
        " /tmp/tmpkXmA45.html\n",
        "/tmp/tmpZlbY5b.html\n",
        "/tmp/tmpkXmA45.html\n",
        "/tmp/tmpkXmA45.html\n",
        "Now open file:///tmp/tmpZlbY5b.html in your web browser\n"
       ]
      },
      {
       "output_type": "stream",
       "stream": "stdout",
       "text": [
        "\n",
        "processed  325\n",
        "skipped  3\n",
        "499738311\n",
        "original article tmp file "
       ]
      },
      {
       "output_type": "stream",
       "stream": "stdout",
       "text": [
        " /tmp/tmprVi0Eb.html\n",
        "/tmp/tmpAA3M_r.html\n",
        "/tmp/tmprVi0Eb.html\n",
        "/tmp/tmprVi0Eb.html\n",
        "Now open file:///tmp/tmpAA3M_r.html in your web browser\n"
       ]
      },
      {
       "output_type": "stream",
       "stream": "stdout",
       "text": [
        "\n",
        "processed  326\n",
        "skipped  3\n",
        "499979607\n",
        "original article tmp file "
       ]
      },
      {
       "output_type": "stream",
       "stream": "stdout",
       "text": [
        " /tmp/tmpEjpb0J.html\n",
        "/tmp/tmpcEQEzs.html\n",
        "/tmp/tmpEjpb0J.html\n",
        "/tmp/tmpEjpb0J.html\n",
        "Now open file:///tmp/tmpcEQEzs.html in your web browser\n"
       ]
      },
      {
       "output_type": "stream",
       "stream": "stdout",
       "text": [
        "\n",
        "processed "
       ]
      },
      {
       "output_type": "stream",
       "stream": "stdout",
       "text": [
        " 327\n",
        "skipped  3\n",
        "500618275\n",
        "original article tmp file "
       ]
      },
      {
       "output_type": "stream",
       "stream": "stdout",
       "text": [
        " /tmp/tmpfGnber.html\n",
        "/tmp/tmpLZ7xZm.html\n",
        "/tmp/tmpfGnber.html\n",
        "/tmp/tmpfGnber.html\n",
        "Now open file:///tmp/tmpLZ7xZm.html in your web browser\n"
       ]
      },
      {
       "output_type": "stream",
       "stream": "stdout",
       "text": [
        "\n",
        "processed  328\n",
        "skipped  3\n",
        "502830407\n",
        "original article tmp file "
       ]
      },
      {
       "output_type": "stream",
       "stream": "stdout",
       "text": [
        " /tmp/tmp2y4ltf.html\n",
        "/tmp/tmp5V7RHY.html\n",
        "/tmp/tmp2y4ltf.html\n",
        "/tmp/tmp2y4ltf.html\n",
        "Now open file:///tmp/tmp5V7RHY.html in your web browser\n"
       ]
      },
      {
       "output_type": "stream",
       "stream": "stdout",
       "text": [
        "\n",
        "processed  329\n",
        "skipped  3\n",
        "503101426\n",
        "original article tmp file "
       ]
      },
      {
       "output_type": "stream",
       "stream": "stdout",
       "text": [
        " /tmp/tmpr2xB2G.html\n",
        "/tmp/tmpJRz2B4.html\n",
        "/tmp/tmpr2xB2G.html\n",
        "/tmp/tmpr2xB2G.html\n",
        "Now open file:///tmp/tmpJRz2B4.html in your web browser\n"
       ]
      },
      {
       "output_type": "stream",
       "stream": "stdout",
       "text": [
        "\n",
        "processed "
       ]
      },
      {
       "output_type": "stream",
       "stream": "stdout",
       "text": [
        " 330\n",
        "skipped  3\n",
        "503171821\n",
        "original article tmp file "
       ]
      },
      {
       "output_type": "stream",
       "stream": "stdout",
       "text": [
        " /tmp/tmppejkHF.html\n",
        "/tmp/tmp3fFdiL.html\n",
        "/tmp/tmppejkHF.html\n",
        "/tmp/tmppejkHF.html\n",
        "Now open file:///tmp/tmp3fFdiL.html in your web browser\n"
       ]
      },
      {
       "output_type": "stream",
       "stream": "stdout",
       "text": [
        "\n",
        "processed  331\n",
        "skipped  3\n",
        "503183518\n",
        "original article tmp file "
       ]
      },
      {
       "output_type": "stream",
       "stream": "stdout",
       "text": [
        " /tmp/tmpmhH7mr.html\n",
        "/tmp/tmpzdLJvx.html\n",
        "/tmp/tmpmhH7mr.html\n",
        "/tmp/tmpmhH7mr.html\n",
        "Now open file:///tmp/tmpzdLJvx.html in your web browser\n"
       ]
      },
      {
       "output_type": "stream",
       "stream": "stdout",
       "text": [
        "\n",
        "processed "
       ]
      },
      {
       "output_type": "stream",
       "stream": "stdout",
       "text": [
        " 332\n",
        "skipped  3\n",
        "503244112\n",
        "original article tmp file "
       ]
      },
      {
       "output_type": "stream",
       "stream": "stdout",
       "text": [
        " /tmp/tmp4Q35G9.html\n",
        "/tmp/tmp9r0poZ.html\n",
        "/tmp/tmp4Q35G9.html\n",
        "/tmp/tmp4Q35G9.html\n",
        "Now open file:///tmp/tmp9r0poZ.html in your web browser\n"
       ]
      },
      {
       "output_type": "stream",
       "stream": "stdout",
       "text": [
        "\n",
        "processed "
       ]
      },
      {
       "output_type": "stream",
       "stream": "stdout",
       "text": [
        " 333\n",
        "skipped  3\n",
        "503478903\n",
        "original article tmp file "
       ]
      },
      {
       "output_type": "stream",
       "stream": "stdout",
       "text": [
        " /tmp/tmpePJlpF.html\n",
        "/tmp/tmpXEjttT.html\n",
        "/tmp/tmpePJlpF.html\n",
        "/tmp/tmpePJlpF.html\n",
        "Now open file:///tmp/tmpXEjttT.html in your web browser\n"
       ]
      },
      {
       "output_type": "stream",
       "stream": "stdout",
       "text": [
        "\n",
        "processed  334\n",
        "skipped  3\n",
        "504316681\n",
        "original article tmp file "
       ]
      },
      {
       "output_type": "stream",
       "stream": "stdout",
       "text": [
        " /tmp/tmpbWms_5.html\n",
        "/tmp/tmpfJXNs3.html\n",
        "/tmp/tmpbWms_5.html\n",
        "/tmp/tmpbWms_5.html\n",
        "Now open file:///tmp/tmpfJXNs3.html in your web browser\n"
       ]
      },
      {
       "output_type": "stream",
       "stream": "stdout",
       "text": [
        "\n",
        "processed  335\n",
        "skipped  3\n",
        "504570818\n",
        "original article tmp file "
       ]
      },
      {
       "output_type": "stream",
       "stream": "stdout",
       "text": [
        " /tmp/tmpd_Tu_m.html\n",
        "/tmp/tmp300mFR.html\n",
        "/tmp/tmpd_Tu_m.html\n",
        "/tmp/tmpd_Tu_m.html\n",
        "Now open file:///tmp/tmp300mFR.html in your web browser\n"
       ]
      },
      {
       "output_type": "stream",
       "stream": "stdout",
       "text": [
        "\n",
        "processed  336\n",
        "skipped  3\n",
        "504702541\n",
        "original article tmp file "
       ]
      },
      {
       "output_type": "stream",
       "stream": "stdout",
       "text": [
        " /tmp/tmpLd2DuX.html\n",
        "/tmp/tmpi0UeQ8.html\n",
        "/tmp/tmpLd2DuX.html\n",
        "/tmp/tmpLd2DuX.html\n",
        "Now open file:///tmp/tmpi0UeQ8.html in your web browser\n"
       ]
      },
      {
       "output_type": "stream",
       "stream": "stdout",
       "text": [
        "\n",
        "processed "
       ]
      },
      {
       "output_type": "stream",
       "stream": "stdout",
       "text": [
        " 337\n",
        "skipped  3\n",
        "505354116\n",
        "original article tmp file "
       ]
      },
      {
       "output_type": "stream",
       "stream": "stdout",
       "text": [
        " /tmp/tmpPaL5RP.html\n",
        "/tmp/tmppwiKIc.html\n",
        "/tmp/tmpPaL5RP.html\n",
        "/tmp/tmpPaL5RP.html\n",
        "Now open file:///tmp/tmppwiKIc.html in your web browser\n"
       ]
      },
      {
       "output_type": "stream",
       "stream": "stdout",
       "text": [
        "\n",
        "processed  338\n",
        "skipped  3\n",
        "505354986\n",
        "original article tmp file "
       ]
      },
      {
       "output_type": "stream",
       "stream": "stdout",
       "text": [
        " /tmp/tmp8JouYG.html\n",
        "/tmp/tmpGEEet0.html\n",
        "/tmp/tmp8JouYG.html\n",
        "/tmp/tmp8JouYG.html\n",
        "Now open file:///tmp/tmpGEEet0.html in your web browser\n"
       ]
      },
      {
       "output_type": "stream",
       "stream": "stdout",
       "text": [
        "\n",
        "processed  339\n",
        "skipped  3\n",
        "505362351\n",
        "original article tmp file "
       ]
      },
      {
       "output_type": "stream",
       "stream": "stdout",
       "text": [
        " /tmp/tmpglQKfm.html\n",
        "/tmp/tmpurFdb6.html\n",
        "/tmp/tmpglQKfm.html\n",
        "/tmp/tmpglQKfm.html\n",
        "Now open file:///tmp/tmpurFdb6.html in your web browser\n"
       ]
      },
      {
       "output_type": "stream",
       "stream": "stdout",
       "text": [
        "\n",
        "processed "
       ]
      },
      {
       "output_type": "stream",
       "stream": "stdout",
       "text": [
        " 340\n",
        "skipped  3\n",
        "505513151\n",
        "original article tmp file "
       ]
      },
      {
       "output_type": "stream",
       "stream": "stdout",
       "text": [
        " /tmp/tmpdTJBKc.html\n",
        "/tmp/tmpn3vuUW.html\n",
        "/tmp/tmpdTJBKc.html\n",
        "/tmp/tmpdTJBKc.html\n",
        "Now open file:///tmp/tmpn3vuUW.html in your web browser\n"
       ]
      },
      {
       "output_type": "stream",
       "stream": "stdout",
       "text": [
        "\n",
        "processed  341\n",
        "skipped  3\n",
        "505554845\n",
        "original article tmp file "
       ]
      },
      {
       "output_type": "stream",
       "stream": "stdout",
       "text": [
        " /tmp/tmplEikcj.html\n",
        "/tmp/tmpoY9Z4e.html\n",
        "/tmp/tmplEikcj.html\n",
        "/tmp/tmplEikcj.html\n",
        "Now open file:///tmp/tmpoY9Z4e.html in your web browser\n"
       ]
      },
      {
       "output_type": "stream",
       "stream": "stdout",
       "text": [
        "\n",
        "processed "
       ]
      },
      {
       "output_type": "stream",
       "stream": "stdout",
       "text": [
        " 342\n",
        "skipped  3\n",
        "505630012\n",
        "original article tmp file "
       ]
      },
      {
       "output_type": "stream",
       "stream": "stdout",
       "text": [
        " /tmp/tmpdDRyLX.html\n",
        "/tmp/tmpdRwGRQ.html\n",
        "/tmp/tmpdDRyLX.html\n",
        "/tmp/tmpdDRyLX.html\n",
        "Now open file:///tmp/tmpdRwGRQ.html in your web browser\n"
       ]
      },
      {
       "output_type": "stream",
       "stream": "stdout",
       "text": [
        "\n",
        "processed "
       ]
      },
      {
       "output_type": "stream",
       "stream": "stdout",
       "text": [
        " 343\n",
        "skipped  3\n",
        "505666313\n",
        "original article tmp file "
       ]
      },
      {
       "output_type": "stream",
       "stream": "stdout",
       "text": [
        " /tmp/tmpGN1tEr.html\n",
        "/tmp/tmpvjUrTL.html\n",
        "/tmp/tmpGN1tEr.html\n",
        "/tmp/tmpGN1tEr.html\n",
        "Now open file:///tmp/tmpvjUrTL.html in your web browser\n"
       ]
      },
      {
       "output_type": "stream",
       "stream": "stdout",
       "text": [
        "\n",
        "processed  344\n",
        "skipped  3\n",
        "505709237\n",
        "original article tmp file "
       ]
      },
      {
       "output_type": "stream",
       "stream": "stdout",
       "text": [
        " /tmp/tmpx3w45n.html\n",
        "/tmp/tmpzG43Py.html\n",
        "/tmp/tmpx3w45n.html\n",
        "/tmp/tmpx3w45n.html\n",
        "Now open file:///tmp/tmpzG43Py.html in your web browser\n"
       ]
      },
      {
       "output_type": "stream",
       "stream": "stdout",
       "text": [
        "\n",
        "processed  345\n",
        "skipped  3\n",
        "505875260\n",
        "original article tmp file "
       ]
      },
      {
       "output_type": "stream",
       "stream": "stdout",
       "text": [
        " /tmp/tmp5rj6Eq.html\n",
        "/tmp/tmpH62PK5.html\n",
        "/tmp/tmp5rj6Eq.html\n",
        "/tmp/tmp5rj6Eq.html\n",
        "Now open file:///tmp/tmpH62PK5.html in your web browser\n"
       ]
      },
      {
       "output_type": "stream",
       "stream": "stdout",
       "text": [
        "\n",
        "processed "
       ]
      },
      {
       "output_type": "stream",
       "stream": "stdout",
       "text": [
        " 346\n",
        "skipped  3\n",
        "505891713\n",
        "original article tmp file "
       ]
      },
      {
       "output_type": "stream",
       "stream": "stdout",
       "text": [
        " /tmp/tmp1irgqD.html\n",
        "/tmp/tmpbK_p8C.html\n",
        "/tmp/tmp1irgqD.html\n",
        "/tmp/tmp1irgqD.html\n",
        "Now open file:///tmp/tmpbK_p8C.html in your web browser\n"
       ]
      },
      {
       "output_type": "stream",
       "stream": "stdout",
       "text": [
        "\n",
        "processed  347\n",
        "skipped  3\n",
        "505960251\n",
        "original article tmp file "
       ]
      },
      {
       "output_type": "stream",
       "stream": "stdout",
       "text": [
        " /tmp/tmpIoXkC7.html\n",
        "/tmp/tmp38phtC.html\n",
        "/tmp/tmpIoXkC7.html\n",
        "/tmp/tmpIoXkC7.html\n",
        "Now open file:///tmp/tmp38phtC.html in your web browser\n"
       ]
      },
      {
       "output_type": "stream",
       "stream": "stdout",
       "text": [
        "\n",
        "processed "
       ]
      },
      {
       "output_type": "stream",
       "stream": "stdout",
       "text": [
        " 348\n",
        "skipped  3\n",
        "506245926\n",
        "original article tmp file "
       ]
      },
      {
       "output_type": "stream",
       "stream": "stdout",
       "text": [
        " /tmp/tmpX8axsR.html\n",
        "/tmp/tmpwXRNCk.html\n",
        "/tmp/tmpX8axsR.html\n",
        "/tmp/tmpX8axsR.html\n",
        "Now open file:///tmp/tmpwXRNCk.html in your web browser\n"
       ]
      },
      {
       "output_type": "stream",
       "stream": "stdout",
       "text": [
        "\n",
        "processed  349\n",
        "skipped  3\n",
        "506248868\n",
        "original article tmp file "
       ]
      },
      {
       "output_type": "stream",
       "stream": "stdout",
       "text": [
        " /tmp/tmpahZjXT.html\n",
        "/tmp/tmpGmnpe0.html\n",
        "/tmp/tmpahZjXT.html\n",
        "/tmp/tmpahZjXT.html\n",
        "Now open file:///tmp/tmpGmnpe0.html in your web browser\n"
       ]
      },
      {
       "output_type": "stream",
       "stream": "stdout",
       "text": [
        "\n",
        "processed  350\n",
        "skipped  3\n",
        "506288913\n",
        "original article tmp file "
       ]
      },
      {
       "output_type": "stream",
       "stream": "stdout",
       "text": [
        " /tmp/tmp300wMs.html\n",
        "/tmp/tmpYUyMD7.html\n",
        "/tmp/tmp300wMs.html\n",
        "/tmp/tmp300wMs.html\n",
        "Now open file:///tmp/tmpYUyMD7.html in your web browser\n"
       ]
      },
      {
       "output_type": "stream",
       "stream": "stdout",
       "text": [
        "\n",
        "processed  351\n",
        "skipped  3\n",
        "506374300\n",
        "original article tmp file "
       ]
      },
      {
       "output_type": "stream",
       "stream": "stdout",
       "text": [
        " /tmp/tmpNVhKXQ.html\n",
        "/tmp/tmpe4NpvN.html\n",
        "/tmp/tmpNVhKXQ.html\n",
        "/tmp/tmpNVhKXQ.html\n",
        "Now open file:///tmp/tmpe4NpvN.html in your web browser\n"
       ]
      },
      {
       "output_type": "stream",
       "stream": "stdout",
       "text": [
        "\n",
        "processed  352\n",
        "skipped  3\n",
        "506905377\n",
        "original article tmp file "
       ]
      },
      {
       "output_type": "stream",
       "stream": "stdout",
       "text": [
        " /tmp/tmpceV9CD.html\n",
        "/tmp/tmpbxuqtD.html\n",
        "/tmp/tmpceV9CD.html\n",
        "/tmp/tmpceV9CD.html\n",
        "Now open file:///tmp/tmpbxuqtD.html in your web browser\n"
       ]
      },
      {
       "output_type": "stream",
       "stream": "stdout",
       "text": [
        "\n",
        "processed  353\n",
        "skipped  3\n",
        "508032017\n",
        "original article tmp file "
       ]
      },
      {
       "output_type": "stream",
       "stream": "stdout",
       "text": [
        " /tmp/tmp74UJHh.html\n",
        "/tmp/tmpfUB6Ed.html\n",
        "/tmp/tmp74UJHh.html\n",
        "/tmp/tmp74UJHh.html\n",
        "Now open file:///tmp/tmpfUB6Ed.html in your web browser\n"
       ]
      },
      {
       "output_type": "stream",
       "stream": "stdout",
       "text": [
        "\n",
        "processed "
       ]
      },
      {
       "output_type": "stream",
       "stream": "stdout",
       "text": [
        " 354\n",
        "skipped  3\n",
        "508653746\n",
        "original article tmp file "
       ]
      },
      {
       "output_type": "stream",
       "stream": "stdout",
       "text": [
        " /tmp/tmpX94cXn.html\n",
        "/tmp/tmpEeLzMb.html\n",
        "/tmp/tmpX94cXn.html\n",
        "/tmp/tmpX94cXn.html\n",
        "Now open file:///tmp/tmpEeLzMb.html in your web browser\n"
       ]
      },
      {
       "output_type": "stream",
       "stream": "stdout",
       "text": [
        "\n",
        "processed  355\n",
        "skipped  3\n",
        "509162462\n",
        "original article tmp file "
       ]
      },
      {
       "output_type": "stream",
       "stream": "stdout",
       "text": [
        " /tmp/tmpNBHnx_.html\n",
        "/tmp/tmp4ad6Sl.html\n",
        "/tmp/tmpNBHnx_.html\n",
        "/tmp/tmpNBHnx_.html\n",
        "Now open file:///tmp/tmp4ad6Sl.html in your web browser\n"
       ]
      },
      {
       "output_type": "stream",
       "stream": "stdout",
       "text": [
        "\n",
        "processed  356\n",
        "skipped  3\n",
        "509252393\n",
        "original article tmp file "
       ]
      },
      {
       "output_type": "stream",
       "stream": "stdout",
       "text": [
        " /tmp/tmpcKvvOt.html\n",
        "/tmp/tmpSsnP7v.html\n",
        "/tmp/tmpcKvvOt.html\n",
        "/tmp/tmpcKvvOt.html\n",
        "Now open file:///tmp/tmpSsnP7v.html in your web browser\n"
       ]
      },
      {
       "output_type": "stream",
       "stream": "stdout",
       "text": [
        "\n",
        "processed  357\n",
        "skipped  3\n",
        "509863893\n",
        "original article tmp file "
       ]
      },
      {
       "output_type": "stream",
       "stream": "stdout",
       "text": [
        " /tmp/tmpZZmZf5.html\n",
        "/tmp/tmpZial7A.html\n",
        "/tmp/tmpZZmZf5.html\n",
        "/tmp/tmpZZmZf5.html\n",
        "Now open file:///tmp/tmpZial7A.html in your web browser\n"
       ]
      },
      {
       "output_type": "stream",
       "stream": "stdout",
       "text": [
        "\n",
        "processed "
       ]
      },
      {
       "output_type": "stream",
       "stream": "stdout",
       "text": [
        " 358\n",
        "skipped  3\n",
        "510413590\n",
        "original article tmp file "
       ]
      },
      {
       "output_type": "stream",
       "stream": "stdout",
       "text": [
        " /tmp/tmpdvUZ3k.html\n",
        "/tmp/tmpPW7iw1.html\n",
        "/tmp/tmpdvUZ3k.html\n",
        "/tmp/tmpdvUZ3k.html\n",
        "Now open file:///tmp/tmpPW7iw1.html in your web browser\n"
       ]
      },
      {
       "output_type": "stream",
       "stream": "stdout",
       "text": [
        "\n",
        "processed "
       ]
      },
      {
       "output_type": "stream",
       "stream": "stdout",
       "text": [
        " 359\n",
        "skipped  3\n",
        "510662547\n",
        "original article tmp file "
       ]
      },
      {
       "output_type": "stream",
       "stream": "stdout",
       "text": [
        " /tmp/tmpTPwSmp.html\n",
        "/tmp/tmpZFgDPU.html\n",
        "/tmp/tmpTPwSmp.html\n",
        "/tmp/tmpTPwSmp.html\n",
        "Now open file:///tmp/tmpZFgDPU.html in your web browser\n"
       ]
      },
      {
       "output_type": "stream",
       "stream": "stdout",
       "text": [
        "\n",
        "processed "
       ]
      },
      {
       "output_type": "stream",
       "stream": "stdout",
       "text": [
        " 360\n",
        "skipped  3\n",
        "510881596\n",
        "original article tmp file "
       ]
      },
      {
       "output_type": "stream",
       "stream": "stdout",
       "text": [
        " /tmp/tmpABGuiS.html\n",
        "/tmp/tmpVeARVM.html\n",
        "/tmp/tmpABGuiS.html\n",
        "/tmp/tmpABGuiS.html\n",
        "Now open file:///tmp/tmpVeARVM.html in your web browser\n"
       ]
      },
      {
       "output_type": "stream",
       "stream": "stdout",
       "text": [
        "\n",
        "processed  361\n",
        "skipped  3\n",
        "511823889\n",
        "original article tmp file "
       ]
      },
      {
       "output_type": "stream",
       "stream": "stdout",
       "text": [
        " /tmp/tmp6umyiV.html\n",
        "/tmp/tmp3u6YFs.html\n",
        "/tmp/tmp6umyiV.html\n",
        "/tmp/tmp6umyiV.html\n",
        "Now open file:///tmp/tmp3u6YFs.html in your web browser\n"
       ]
      },
      {
       "output_type": "stream",
       "stream": "stdout",
       "text": [
        "\n",
        "processed  362\n",
        "skipped  3\n",
        "512505124\n",
        "original article tmp file "
       ]
      },
      {
       "output_type": "stream",
       "stream": "stdout",
       "text": [
        " /tmp/tmpqByNly.html\n",
        "/tmp/tmpFoPmKL.html\n",
        "/tmp/tmpqByNly.html\n",
        "/tmp/tmpqByNly.html\n",
        "Now open file:///tmp/tmpFoPmKL.html in your web browser\n"
       ]
      },
      {
       "output_type": "stream",
       "stream": "stdout",
       "text": [
        "\n",
        "processed  363\n",
        "skipped  3\n",
        "512677517\n",
        "original article tmp file "
       ]
      },
      {
       "output_type": "stream",
       "stream": "stdout",
       "text": [
        " /tmp/tmpTay6OV.html\n",
        "/tmp/tmpY_Ac3R.html\n",
        "/tmp/tmpTay6OV.html\n",
        "/tmp/tmpTay6OV.html\n",
        "Now open file:///tmp/tmpY_Ac3R.html in your web browser\n"
       ]
      },
      {
       "output_type": "stream",
       "stream": "stdout",
       "text": [
        "\n",
        "processed  364\n",
        "skipped  3\n",
        "512765019\n",
        "original article tmp file "
       ]
      },
      {
       "output_type": "stream",
       "stream": "stdout",
       "text": [
        " /tmp/tmp9azJoB.html\n",
        "/tmp/tmpP9CclW.html\n",
        "/tmp/tmp9azJoB.html\n",
        "/tmp/tmp9azJoB.html\n",
        "Now open file:///tmp/tmpP9CclW.html in your web browser\n"
       ]
      },
      {
       "output_type": "stream",
       "stream": "stdout",
       "text": [
        "\n",
        "processed "
       ]
      },
      {
       "output_type": "stream",
       "stream": "stdout",
       "text": [
        " 365\n",
        "skipped  3\n",
        "514105704\n",
        "original article tmp file "
       ]
      },
      {
       "output_type": "stream",
       "stream": "stdout",
       "text": [
        " /tmp/tmp9BIO1q.html\n",
        "/tmp/tmp7fJ1mN.html\n",
        "/tmp/tmp9BIO1q.html\n",
        "/tmp/tmp9BIO1q.html\n",
        "Now open file:///tmp/tmp7fJ1mN.html in your web browser\n"
       ]
      },
      {
       "output_type": "stream",
       "stream": "stdout",
       "text": [
        "\n",
        "processed "
       ]
      },
      {
       "output_type": "stream",
       "stream": "stdout",
       "text": [
        " 366\n",
        "skipped  3\n",
        "514153344\n",
        "original article tmp file "
       ]
      },
      {
       "output_type": "stream",
       "stream": "stdout",
       "text": [
        " /tmp/tmpC6wmij.html\n",
        "/tmp/tmp4ET0VH.html\n",
        "/tmp/tmpC6wmij.html\n",
        "/tmp/tmpC6wmij.html\n",
        "Now open file:///tmp/tmp4ET0VH.html in your web browser\n"
       ]
      },
      {
       "output_type": "stream",
       "stream": "stdout",
       "text": [
        "\n",
        "processed  367\n",
        "skipped  3\n",
        "514364011\n",
        "original article tmp file "
       ]
      },
      {
       "output_type": "stream",
       "stream": "stdout",
       "text": [
        " /tmp/tmpCZHkn3.html\n",
        "/tmp/tmpP5yNdN.html\n",
        "/tmp/tmpCZHkn3.html\n",
        "/tmp/tmpCZHkn3.html\n",
        "Now open file:///tmp/tmpP5yNdN.html in your web browser\n"
       ]
      },
      {
       "output_type": "stream",
       "stream": "stdout",
       "text": [
        "\n",
        "processed "
       ]
      },
      {
       "output_type": "stream",
       "stream": "stdout",
       "text": [
        " 368\n",
        "skipped  3\n",
        "514378750\n",
        "original article tmp file "
       ]
      },
      {
       "output_type": "stream",
       "stream": "stdout",
       "text": [
        " /tmp/tmpZVODHY.html\n",
        "/tmp/tmpuExDO3.html\n",
        "/tmp/tmpZVODHY.html\n",
        "/tmp/tmpZVODHY.html\n",
        "Now open file:///tmp/tmpuExDO3.html in your web browser\n"
       ]
      },
      {
       "output_type": "stream",
       "stream": "stdout",
       "text": [
        "\n",
        "processed  369\n",
        "skipped  3\n",
        "514572763\n",
        "original article tmp file "
       ]
      },
      {
       "output_type": "stream",
       "stream": "stdout",
       "text": [
        " /tmp/tmpXzAasv.html\n",
        "/tmp/tmptTkkQL.html\n",
        "/tmp/tmpXzAasv.html\n",
        "/tmp/tmpXzAasv.html\n",
        "Now open file:///tmp/tmptTkkQL.html in your web browser\n"
       ]
      },
      {
       "output_type": "stream",
       "stream": "stdout",
       "text": [
        "\n",
        "processed  370\n",
        "skipped  3\n",
        "514931592\n",
        "original article tmp file "
       ]
      },
      {
       "output_type": "stream",
       "stream": "stdout",
       "text": [
        " /tmp/tmpy7Yn5j.html\n",
        "/tmp/tmpQdt_GH.html\n",
        "/tmp/tmpy7Yn5j.html\n",
        "/tmp/tmpy7Yn5j.html\n",
        "Now open file:///tmp/tmpQdt_GH.html in your web browser\n"
       ]
      },
      {
       "output_type": "stream",
       "stream": "stdout",
       "text": [
        "\n",
        "processed "
       ]
      },
      {
       "output_type": "stream",
       "stream": "stdout",
       "text": [
        " 371\n",
        "skipped  3\n",
        "515594059\n",
        "original article tmp file "
       ]
      },
      {
       "output_type": "stream",
       "stream": "stdout",
       "text": [
        " /tmp/tmpvI7OpJ.html\n",
        "/tmp/tmpHDwWQV.html\n",
        "/tmp/tmpvI7OpJ.html\n",
        "/tmp/tmpvI7OpJ.html\n",
        "Now open file:///tmp/tmpHDwWQV.html in your web browser\n"
       ]
      },
      {
       "output_type": "stream",
       "stream": "stdout",
       "text": [
        "\n",
        "processed "
       ]
      },
      {
       "output_type": "stream",
       "stream": "stdout",
       "text": [
        " 372\n",
        "skipped  3\n",
        "515980414\n",
        "original article tmp file "
       ]
      },
      {
       "output_type": "stream",
       "stream": "stdout",
       "text": [
        " /tmp/tmpu9bUFz.html\n",
        "/tmp/tmpNM7p9e.html\n",
        "/tmp/tmpu9bUFz.html\n",
        "/tmp/tmpu9bUFz.html\n",
        "Now open file:///tmp/tmpNM7p9e.html in your web browser\n"
       ]
      },
      {
       "output_type": "stream",
       "stream": "stdout",
       "text": [
        "\n",
        "processed  373\n",
        "skipped  3\n",
        "516147422\n",
        "original article tmp file "
       ]
      },
      {
       "output_type": "stream",
       "stream": "stdout",
       "text": [
        " /tmp/tmppS_qNZ.html\n",
        "/tmp/tmpGxAp2B.html\n",
        "/tmp/tmppS_qNZ.html\n",
        "/tmp/tmppS_qNZ.html\n",
        "Now open file:///tmp/tmpGxAp2B.html in your web browser\n"
       ]
      },
      {
       "output_type": "stream",
       "stream": "stdout",
       "text": [
        "\n",
        "processed  374\n",
        "skipped  3\n",
        "516155213\n",
        "original article tmp file "
       ]
      },
      {
       "output_type": "stream",
       "stream": "stdout",
       "text": [
        " /tmp/tmpgAG4Qv.html\n",
        "/tmp/tmpp_65ZR.html\n",
        "/tmp/tmpgAG4Qv.html\n",
        "/tmp/tmpgAG4Qv.html\n",
        "Now open file:///tmp/tmpp_65ZR.html in your web browser\n"
       ]
      },
      {
       "output_type": "stream",
       "stream": "stdout",
       "text": [
        "\n",
        "processed "
       ]
      },
      {
       "output_type": "stream",
       "stream": "stdout",
       "text": [
        " 375\n",
        "skipped  3\n",
        "516527178\n",
        "original article tmp file "
       ]
      },
      {
       "output_type": "stream",
       "stream": "stdout",
       "text": [
        " /tmp/tmp0ueV0E.html\n",
        "/tmp/tmpX8ezOh.html\n",
        "/tmp/tmp0ueV0E.html\n",
        "/tmp/tmp0ueV0E.html\n",
        "Now open file:///tmp/tmpX8ezOh.html in your web browser\n"
       ]
      },
      {
       "output_type": "stream",
       "stream": "stdout",
       "text": [
        "\n",
        "processed "
       ]
      },
      {
       "output_type": "stream",
       "stream": "stdout",
       "text": [
        " 376\n",
        "skipped  3\n",
        "517088904\n",
        "original article tmp file "
       ]
      },
      {
       "output_type": "stream",
       "stream": "stdout",
       "text": [
        " /tmp/tmpow5Rmn.html\n",
        "/tmp/tmpTau_rG.html\n",
        "/tmp/tmpow5Rmn.html\n",
        "/tmp/tmpow5Rmn.html\n",
        "Now open file:///tmp/tmpTau_rG.html in your web browser\n"
       ]
      },
      {
       "output_type": "stream",
       "stream": "stdout",
       "text": [
        "\n",
        "processed  377\n",
        "skipped  3\n",
        "517204863\n",
        "original article tmp file "
       ]
      },
      {
       "output_type": "stream",
       "stream": "stdout",
       "text": [
        " /tmp/tmpirSn0s.html\n",
        "/tmp/tmpYNR69q.html\n",
        "/tmp/tmpirSn0s.html\n",
        "/tmp/tmpirSn0s.html\n",
        "Now open file:///tmp/tmpYNR69q.html in your web browser\n"
       ]
      },
      {
       "output_type": "stream",
       "stream": "stdout",
       "text": [
        "\n",
        "processed "
       ]
      },
      {
       "output_type": "stream",
       "stream": "stdout",
       "text": [
        " 378\n",
        "skipped  3\n",
        "517393170\n",
        "original article tmp file "
       ]
      },
      {
       "output_type": "stream",
       "stream": "stdout",
       "text": [
        " /tmp/tmpvYmr8W.html\n",
        "/tmp/tmp3GjETR.html\n",
        "/tmp/tmpvYmr8W.html\n",
        "/tmp/tmpvYmr8W.html\n",
        "Now open file:///tmp/tmp3GjETR.html in your web browser\n"
       ]
      },
      {
       "output_type": "stream",
       "stream": "stdout",
       "text": [
        "\n",
        "processed  379\n",
        "skipped  3\n",
        "518149302\n",
        "original article tmp file "
       ]
      },
      {
       "output_type": "stream",
       "stream": "stdout",
       "text": [
        " /tmp/tmpfwk5Av.html\n",
        "/tmp/tmpvRFEhO.html\n",
        "/tmp/tmpfwk5Av.html\n",
        "/tmp/tmpfwk5Av.html\n",
        "Now open file:///tmp/tmpvRFEhO.html in your web browser\n"
       ]
      },
      {
       "output_type": "stream",
       "stream": "stdout",
       "text": [
        "\n",
        "processed  380\n",
        "skipped  3\n",
        "518752724\n",
        "original article tmp file "
       ]
      },
      {
       "output_type": "stream",
       "stream": "stdout",
       "text": [
        " /tmp/tmpYYrr1G.html\n",
        "/tmp/tmpyLVQrq.html\n",
        "/tmp/tmpYYrr1G.html\n",
        "/tmp/tmpYYrr1G.html\n",
        "Now open file:///tmp/tmpyLVQrq.html in your web browser\n"
       ]
      },
      {
       "output_type": "stream",
       "stream": "stdout",
       "text": [
        "\n",
        "processed  381\n",
        "skipped  3\n",
        "518815044\n",
        "original article tmp file "
       ]
      },
      {
       "output_type": "stream",
       "stream": "stdout",
       "text": [
        " /tmp/tmpNdNrZc.html\n",
        "/tmp/tmp94owKO.html\n",
        "/tmp/tmpNdNrZc.html\n",
        "/tmp/tmpNdNrZc.html\n",
        "Now open file:///tmp/tmp94owKO.html in your web browser\n"
       ]
      },
      {
       "output_type": "stream",
       "stream": "stdout",
       "text": [
        "\n",
        "processed "
       ]
      },
      {
       "output_type": "stream",
       "stream": "stdout",
       "text": [
        " 382\n",
        "skipped  3\n",
        "518917973\n",
        "original article tmp file "
       ]
      },
      {
       "output_type": "stream",
       "stream": "stdout",
       "text": [
        " /tmp/tmprF0uKH.html\n",
        "/tmp/tmpxPvM_s.html\n",
        "/tmp/tmprF0uKH.html\n",
        "/tmp/tmprF0uKH.html\n",
        "Now open file:///tmp/tmpxPvM_s.html in your web browser\n"
       ]
      },
      {
       "output_type": "stream",
       "stream": "stdout",
       "text": [
        "\n",
        "processed  383\n",
        "skipped  3\n",
        "519698497\n",
        "original article tmp file "
       ]
      },
      {
       "output_type": "stream",
       "stream": "stdout",
       "text": [
        " /tmp/tmpIoQeFc.html\n",
        "/tmp/tmp9U9sRE.html\n",
        "/tmp/tmpIoQeFc.html\n",
        "/tmp/tmpIoQeFc.html\n",
        "Now open file:///tmp/tmp9U9sRE.html in your web browser\n"
       ]
      },
      {
       "output_type": "stream",
       "stream": "stdout",
       "text": [
        "\n",
        "processed "
       ]
      },
      {
       "output_type": "stream",
       "stream": "stdout",
       "text": [
        " 384\n",
        "skipped  3\n",
        "519788971\n",
        "original article tmp file "
       ]
      },
      {
       "output_type": "stream",
       "stream": "stdout",
       "text": [
        " /tmp/tmpaWOWai.html\n",
        "/tmp/tmpRPTtId.html\n",
        "/tmp/tmpaWOWai.html\n",
        "/tmp/tmpaWOWai.html\n",
        "Now open file:///tmp/tmpRPTtId.html in your web browser\n"
       ]
      },
      {
       "output_type": "stream",
       "stream": "stdout",
       "text": [
        "\n",
        "processed  385\n",
        "skipped  3\n",
        "519948923\n",
        "original article tmp file "
       ]
      },
      {
       "output_type": "stream",
       "stream": "stdout",
       "text": [
        " /tmp/tmpCVkP0M.html\n",
        "/tmp/tmpHDtdi3.html\n",
        "/tmp/tmpCVkP0M.html\n",
        "/tmp/tmpCVkP0M.html\n",
        "Now open file:///tmp/tmpHDtdi3.html in your web browser\n"
       ]
      },
      {
       "output_type": "stream",
       "stream": "stdout",
       "text": [
        "\n",
        "processed "
       ]
      },
      {
       "output_type": "stream",
       "stream": "stdout",
       "text": [
        " 386\n",
        "skipped  3\n",
        "520302517\n",
        "original article tmp file "
       ]
      },
      {
       "output_type": "stream",
       "stream": "stdout",
       "text": [
        " /tmp/tmpMPOUMR.html\n",
        "/tmp/tmpIN3Dij.html\n",
        "/tmp/tmpMPOUMR.html\n",
        "/tmp/tmpMPOUMR.html\n",
        "Now open file:///tmp/tmpIN3Dij.html in your web browser\n"
       ]
      },
      {
       "output_type": "stream",
       "stream": "stdout",
       "text": [
        "\n",
        "processed  387\n",
        "skipped  3\n",
        "520916358\n",
        "original article tmp file "
       ]
      },
      {
       "output_type": "stream",
       "stream": "stdout",
       "text": [
        " /tmp/tmpELYnDc.html\n",
        "/tmp/tmpCDFDiP.html\n",
        "/tmp/tmpELYnDc.html\n",
        "/tmp/tmpELYnDc.html\n",
        "Now open file:///tmp/tmpCDFDiP.html in your web browser\n"
       ]
      },
      {
       "output_type": "stream",
       "stream": "stdout",
       "text": [
        "\n",
        "processed  388\n",
        "skipped  3\n",
        "521501901\n",
        "original article tmp file "
       ]
      },
      {
       "output_type": "stream",
       "stream": "stdout",
       "text": [
        " /tmp/tmp1q_7jz.html\n",
        "/tmp/tmptFbtoW.html\n",
        "/tmp/tmp1q_7jz.html\n",
        "/tmp/tmp1q_7jz.html\n",
        "Now open file:///tmp/tmptFbtoW.html in your web browser\n"
       ]
      },
      {
       "output_type": "stream",
       "stream": "stdout",
       "text": [
        "\n",
        "processed  389\n",
        "skipped  3\n",
        "521596942\n",
        "original article tmp file "
       ]
      },
      {
       "output_type": "stream",
       "stream": "stdout",
       "text": [
        " /tmp/tmpow0tKl.html\n",
        "/tmp/tmpDlQpyp.html\n",
        "/tmp/tmpow0tKl.html\n",
        "/tmp/tmpow0tKl.html\n",
        "Now open file:///tmp/tmpDlQpyp.html in your web browser\n"
       ]
      },
      {
       "output_type": "stream",
       "stream": "stdout",
       "text": [
        "\n",
        "processed  390\n",
        "skipped  3\n",
        "524336614\n",
        "original article tmp file "
       ]
      },
      {
       "output_type": "stream",
       "stream": "stdout",
       "text": [
        " /tmp/tmppbxkSm.html\n",
        "/tmp/tmpDm7tKr.html\n",
        "/tmp/tmppbxkSm.html\n",
        "/tmp/tmppbxkSm.html\n",
        "Now open file:///tmp/tmpDm7tKr.html in your web browser\n"
       ]
      },
      {
       "output_type": "stream",
       "stream": "stdout",
       "text": [
        "\n",
        "processed  391\n",
        "skipped  3\n",
        "524583342\n",
        "original article tmp file "
       ]
      },
      {
       "output_type": "stream",
       "stream": "stdout",
       "text": [
        " /tmp/tmpAkgfDF.html\n",
        "/tmp/tmp4zSbi4.html\n",
        "/tmp/tmpAkgfDF.html\n",
        "/tmp/tmpAkgfDF.html\n",
        "Now open file:///tmp/tmp4zSbi4.html in your web browser\n"
       ]
      },
      {
       "output_type": "stream",
       "stream": "stdout",
       "text": [
        "\n",
        "processed  392\n",
        "skipped  3\n",
        "524747370\n",
        "original article tmp file "
       ]
      },
      {
       "output_type": "stream",
       "stream": "stdout",
       "text": [
        " /tmp/tmp3JwQ0w.html\n",
        "/tmp/tmpPCdNRM.html\n",
        "/tmp/tmp3JwQ0w.html\n",
        "/tmp/tmp3JwQ0w.html\n",
        "Now open file:///tmp/tmpPCdNRM.html in your web browser\n"
       ]
      },
      {
       "output_type": "stream",
       "stream": "stdout",
       "text": [
        "\n",
        "processed  393\n",
        "skipped  3\n",
        "525018299\n",
        "original article tmp file "
       ]
      },
      {
       "output_type": "stream",
       "stream": "stdout",
       "text": [
        " /tmp/tmpZbBnWT.html\n",
        "/tmp/tmpEX9EQr.html\n",
        "/tmp/tmpZbBnWT.html\n",
        "/tmp/tmpZbBnWT.html\n",
        "Now open file:///tmp/tmpEX9EQr.html in your web browser\n"
       ]
      },
      {
       "output_type": "stream",
       "stream": "stdout",
       "text": [
        "\n",
        "processed  394\n",
        "skipped  3\n",
        "525274342\n",
        "original article tmp file "
       ]
      },
      {
       "output_type": "stream",
       "stream": "stdout",
       "text": [
        " /tmp/tmpqdsfYU.html\n",
        "/tmp/tmpaacMub.html\n",
        "/tmp/tmpqdsfYU.html\n",
        "/tmp/tmpqdsfYU.html\n",
        "Now open file:///tmp/tmpaacMub.html in your web browser\n"
       ]
      },
      {
       "output_type": "stream",
       "stream": "stdout",
       "text": [
        "\n",
        "processed  395\n",
        "skipped  3\n",
        "525762267\n",
        "original article tmp file "
       ]
      },
      {
       "output_type": "stream",
       "stream": "stdout",
       "text": [
        " /tmp/tmptYF_Yw.html\n",
        "/tmp/tmpUbhtwX.html\n",
        "/tmp/tmptYF_Yw.html\n",
        "/tmp/tmptYF_Yw.html\n",
        "Now open file:///tmp/tmpUbhtwX.html in your web browser\n"
       ]
      },
      {
       "output_type": "stream",
       "stream": "stdout",
       "text": [
        "\n",
        "processed  396\n",
        "skipped  3\n",
        "526210669\n",
        "original article tmp file "
       ]
      },
      {
       "output_type": "stream",
       "stream": "stdout",
       "text": [
        " /tmp/tmpzpPTbl.html\n",
        "/tmp/tmpyXPNvX.html\n",
        "/tmp/tmpzpPTbl.html\n",
        "/tmp/tmpzpPTbl.html\n",
        "Now open file:///tmp/tmpyXPNvX.html in your web browser\n"
       ]
      },
      {
       "output_type": "stream",
       "stream": "stdout",
       "text": [
        "\n",
        "processed "
       ]
      },
      {
       "output_type": "stream",
       "stream": "stdout",
       "text": [
        " 397\n",
        "skipped  3\n",
        "526399492\n",
        "original article tmp file "
       ]
      },
      {
       "output_type": "stream",
       "stream": "stdout",
       "text": [
        " /tmp/tmpJwl5lS.html\n",
        "/tmp/tmp_Mq0c3.html\n",
        "/tmp/tmpJwl5lS.html\n",
        "/tmp/tmpJwl5lS.html\n",
        "Now open file:///tmp/tmp_Mq0c3.html in your web browser\n"
       ]
      },
      {
       "output_type": "stream",
       "stream": "stdout",
       "text": [
        "\n",
        "processed  398\n",
        "skipped  3\n",
        "526437284\n",
        "original article tmp file "
       ]
      },
      {
       "output_type": "stream",
       "stream": "stdout",
       "text": [
        " /tmp/tmpS7m_1t.html\n",
        "/tmp/tmpKQfGfT.html\n",
        "/tmp/tmpS7m_1t.html\n",
        "/tmp/tmpS7m_1t.html\n",
        "Now open file:///tmp/tmpKQfGfT.html in your web browser\n"
       ]
      },
      {
       "output_type": "stream",
       "stream": "stdout",
       "text": [
        "\n",
        "processed "
       ]
      },
      {
       "output_type": "stream",
       "stream": "stdout",
       "text": [
        " 399\n",
        "skipped  3\n",
        "526513004\n",
        "original article tmp file "
       ]
      },
      {
       "output_type": "stream",
       "stream": "stdout",
       "text": [
        " /tmp/tmpOX45ww.html\n",
        "/tmp/tmp_awfPm.html\n",
        "/tmp/tmpOX45ww.html\n",
        "/tmp/tmpOX45ww.html\n",
        "Now open file:///tmp/tmp_awfPm.html in your web browser\n"
       ]
      },
      {
       "output_type": "stream",
       "stream": "stdout",
       "text": [
        "\n",
        "processed  400\n",
        "skipped  3\n",
        "526972862\n",
        "original article tmp file "
       ]
      },
      {
       "output_type": "stream",
       "stream": "stdout",
       "text": [
        " /tmp/tmp79IZiH.html\n",
        "/tmp/tmproQLcN.html\n",
        "/tmp/tmp79IZiH.html\n",
        "/tmp/tmp79IZiH.html\n",
        "Now open file:///tmp/tmproQLcN.html in your web browser\n"
       ]
      },
      {
       "output_type": "stream",
       "stream": "stdout",
       "text": [
        "\n",
        "processed "
       ]
      },
      {
       "output_type": "stream",
       "stream": "stdout",
       "text": [
        " 401\n",
        "skipped  3\n",
        "527258084\n",
        "original article tmp file "
       ]
      },
      {
       "output_type": "stream",
       "stream": "stdout",
       "text": [
        " /tmp/tmpn605TS.html\n",
        "/tmp/tmpxvTdQ4.html\n",
        "/tmp/tmpn605TS.html\n",
        "/tmp/tmpn605TS.html\n",
        "Now open file:///tmp/tmpxvTdQ4.html in your web browser\n"
       ]
      },
      {
       "output_type": "stream",
       "stream": "stdout",
       "text": [
        "\n",
        "processed  402\n",
        "skipped  3\n",
        "528174162\n",
        "original article tmp file "
       ]
      },
      {
       "output_type": "stream",
       "stream": "stdout",
       "text": [
        " /tmp/tmpeFb0Vg.html\n",
        "/tmp/tmpjbFF8x.html\n",
        "/tmp/tmpeFb0Vg.html\n",
        "/tmp/tmpeFb0Vg.html\n",
        "Now open file:///tmp/tmpjbFF8x.html in your web browser\n"
       ]
      },
      {
       "output_type": "stream",
       "stream": "stdout",
       "text": [
        "\n",
        "processed "
       ]
      },
      {
       "output_type": "stream",
       "stream": "stdout",
       "text": [
        " 403\n",
        "skipped  3\n",
        "528717265\n",
        "original article tmp file "
       ]
      },
      {
       "output_type": "stream",
       "stream": "stdout",
       "text": [
        " /tmp/tmpWpBZ6S.html\n",
        "/tmp/tmpnrN9wA.html\n",
        "/tmp/tmpWpBZ6S.html\n",
        "/tmp/tmpWpBZ6S.html\n",
        "Now open file:///tmp/tmpnrN9wA.html in your web browser\n"
       ]
      },
      {
       "output_type": "stream",
       "stream": "stdout",
       "text": [
        "\n",
        "processed  404\n",
        "skipped  3\n",
        "529134306\n",
        "original article tmp file "
       ]
      },
      {
       "output_type": "stream",
       "stream": "stdout",
       "text": [
        " /tmp/tmp2141Q6.html\n",
        "/tmp/tmpudR7FQ.html\n",
        "/tmp/tmp2141Q6.html\n",
        "/tmp/tmp2141Q6.html\n",
        "Now open file:///tmp/tmpudR7FQ.html in your web browser\n"
       ]
      },
      {
       "output_type": "stream",
       "stream": "stdout",
       "text": [
        "\n",
        "processed  405\n",
        "skipped  3\n",
        "529174292\n",
        "error on download529174292"
       ]
      },
      {
       "output_type": "stream",
       "stream": "stdout",
       "text": [
        "\n",
        "processed  405\n",
        "skipped  4\n",
        "529318707\n",
        "original article tmp file "
       ]
      },
      {
       "output_type": "stream",
       "stream": "stdout",
       "text": [
        " /tmp/tmpl7PumH.html\n",
        "/tmp/tmpI8Qgql.html\n",
        "/tmp/tmpl7PumH.html\n",
        "/tmp/tmpl7PumH.html\n",
        "Now open file:///tmp/tmpI8Qgql.html in your web browser\n"
       ]
      },
      {
       "output_type": "stream",
       "stream": "stdout",
       "text": [
        "\n",
        "processed  406\n",
        "skipped  4\n",
        "529350751\n",
        "original article tmp file "
       ]
      },
      {
       "output_type": "stream",
       "stream": "stdout",
       "text": [
        " /tmp/tmpeqOAge.html\n",
        "/tmp/tmpNKIB3x.html\n",
        "/tmp/tmpeqOAge.html\n",
        "/tmp/tmpeqOAge.html\n",
        "Now open file:///tmp/tmpNKIB3x.html in your web browser\n"
       ]
      },
      {
       "output_type": "stream",
       "stream": "stdout",
       "text": [
        "\n",
        "processed "
       ]
      },
      {
       "output_type": "stream",
       "stream": "stdout",
       "text": [
        " 407\n",
        "skipped  4\n",
        "529500550\n",
        "original article tmp file "
       ]
      },
      {
       "output_type": "stream",
       "stream": "stdout",
       "text": [
        " /tmp/tmp4XwslB.html\n",
        "/tmp/tmpN3vD_r.html\n",
        "/tmp/tmp4XwslB.html\n",
        "/tmp/tmp4XwslB.html\n",
        "Now open file:///tmp/tmpN3vD_r.html in your web browser\n"
       ]
      },
      {
       "output_type": "stream",
       "stream": "stdout",
       "text": [
        "\n",
        "processed "
       ]
      },
      {
       "output_type": "stream",
       "stream": "stdout",
       "text": [
        " 408\n",
        "skipped  4\n",
        "529638751\n",
        "original article tmp file "
       ]
      },
      {
       "output_type": "stream",
       "stream": "stdout",
       "text": [
        " /tmp/tmpLMfxnB.html\n",
        "/tmp/tmpgtZtmU.html\n",
        "/tmp/tmpLMfxnB.html\n",
        "/tmp/tmpLMfxnB.html\n",
        "Now open file:///tmp/tmpgtZtmU.html in your web browser\n"
       ]
      },
      {
       "output_type": "stream",
       "stream": "stdout",
       "text": [
        "\n",
        "processed  409\n",
        "skipped  4\n",
        "529835888\n",
        "original article tmp file "
       ]
      },
      {
       "output_type": "stream",
       "stream": "stdout",
       "text": [
        " /tmp/tmpgybAfz.html\n",
        "/tmp/tmp8VZrgf.html\n",
        "/tmp/tmpgybAfz.html\n",
        "/tmp/tmpgybAfz.html\n",
        "Now open file:///tmp/tmp8VZrgf.html in your web browser\n"
       ]
      },
      {
       "output_type": "stream",
       "stream": "stdout",
       "text": [
        "\n",
        "processed  410\n",
        "skipped  4\n",
        "529849320\n",
        "original article tmp file "
       ]
      },
      {
       "output_type": "stream",
       "stream": "stdout",
       "text": [
        " /tmp/tmpXSHpL7.html\n",
        "/tmp/tmp3Hb7vS.html\n",
        "/tmp/tmpXSHpL7.html\n",
        "/tmp/tmpXSHpL7.html\n",
        "Now open file:///tmp/tmp3Hb7vS.html in your web browser\n"
       ]
      },
      {
       "output_type": "stream",
       "stream": "stdout",
       "text": [
        "\n",
        "processed  411\n",
        "skipped  4\n",
        "529872483\n",
        "original article tmp file "
       ]
      },
      {
       "output_type": "stream",
       "stream": "stdout",
       "text": [
        " /tmp/tmpRvJJiM.html\n",
        "/tmp/tmpQzdgNj.html\n",
        "/tmp/tmpRvJJiM.html\n",
        "/tmp/tmpRvJJiM.html\n",
        "Now open file:///tmp/tmpQzdgNj.html in your web browser\n"
       ]
      },
      {
       "output_type": "stream",
       "stream": "stdout",
       "text": [
        "\n",
        "Unexpected error on string '</a>\n",
        "' <class 'lxml.etree.ParserError'>\n",
        "Unexpected error on string '</p>\n",
        "' <class 'lxml.etree.ParserError'>\n",
        "Unexpected error on string '</div>\n",
        "' <class 'lxml.etree.ParserError'>\n",
        "Unexpected error on string '</a>\n",
        "' <class 'lxml.etree.ParserError'>\n",
        "Unexpected error on string '</a>' <class 'lxml.etree.ParserError'>\n",
        "Unexpected error on string '</h2>\n",
        "' <class 'lxml.etree.ParserError'>\n",
        "Unexpected error on string '</a>' <class 'lxml.etree.ParserError'>\n",
        "Unexpected error on string '</p>\n",
        "' <class 'lxml.etree.ParserError'>\n",
        "Unexpected error on string '</a>' <class 'lxml.etree.ParserError'>\n",
        "Unexpected error on string '</p>\n",
        "' <class 'lxml.etree.ParserError'>\n",
        "Unexpected error on string '</div>\n",
        "' <class 'lxml.etree.ParserError'>\n",
        "Unexpected error on string '</div>\n",
        "' <class 'lxml.etree.ParserError'>\n",
        "Unexpected error on string '</div>\n",
        "' <class 'lxml.etree.ParserError'>\n",
        "processed "
       ]
      },
      {
       "output_type": "stream",
       "stream": "stdout",
       "text": [
        " 412\n",
        "skipped  4\n",
        "529887477\n",
        "original article tmp file "
       ]
      },
      {
       "output_type": "stream",
       "stream": "stdout",
       "text": [
        " /tmp/tmpJYc9WS.html\n",
        "/tmp/tmpONkya0.html\n",
        "/tmp/tmpJYc9WS.html\n",
        "/tmp/tmpJYc9WS.html\n",
        "Now open file:///tmp/tmpONkya0.html in your web browser\n"
       ]
      },
      {
       "output_type": "stream",
       "stream": "stdout",
       "text": [
        "\n",
        "Unexpected error on string '</a>\n",
        "' <class 'lxml.etree.ParserError'>\n",
        "Unexpected error on string '</p>\n",
        "' <class 'lxml.etree.ParserError'>\n",
        "Unexpected error on string '</div>\n",
        "' <class 'lxml.etree.ParserError'>\n",
        "Unexpected error on string '</a>\n",
        "' <class 'lxml.etree.ParserError'>\n",
        "Unexpected error on string '</a>' <class 'lxml.etree.ParserError'>\n",
        "Unexpected error on string '</h2>\n",
        "' <class 'lxml.etree.ParserError'>\n",
        "Unexpected error on string '</a>' <class 'lxml.etree.ParserError'>\n",
        "Unexpected error on string '</p>\n",
        "' <class 'lxml.etree.ParserError'>\n",
        "Unexpected error on string '</a>' <class 'lxml.etree.ParserError'>\n",
        "Unexpected error on string '</p>\n",
        "' <class 'lxml.etree.ParserError'>\n",
        "Unexpected error on string '</div>\n",
        "' <class 'lxml.etree.ParserError'>\n",
        "Unexpected error on string '</div>\n",
        "' <class 'lxml.etree.ParserError'>\n",
        "Unexpected error on string '</div>\n",
        "' <class 'lxml.etree.ParserError'>\n",
        "processed "
       ]
      },
      {
       "output_type": "stream",
       "stream": "stdout",
       "text": [
        " 413\n",
        "skipped  4\n",
        "530078770\n",
        "original article tmp file "
       ]
      },
      {
       "output_type": "stream",
       "stream": "stdout",
       "text": [
        " /tmp/tmpLAlmuV.html\n",
        "/tmp/tmpDxDBid.html\n",
        "/tmp/tmpLAlmuV.html\n",
        "/tmp/tmpLAlmuV.html\n",
        "Now open file:///tmp/tmpDxDBid.html in your web browser\n"
       ]
      },
      {
       "output_type": "stream",
       "stream": "stdout",
       "text": [
        "\n",
        "Unexpected error on string '</a>\n",
        "' <class 'lxml.etree.ParserError'>\n",
        "Unexpected error on string '</p>\n",
        "' <class 'lxml.etree.ParserError'>\n",
        "Unexpected error on string '</div>\n",
        "' <class 'lxml.etree.ParserError'>\n",
        "Unexpected error on string '</a>\n",
        "' <class 'lxml.etree.ParserError'>\n",
        "Unexpected error on string '</a>' <class 'lxml.etree.ParserError'>\n",
        "Unexpected error on string '</h2>\n",
        "' <class 'lxml.etree.ParserError'>\n",
        "Unexpected error on string '</a>' <class 'lxml.etree.ParserError'>\n",
        "Unexpected error on string '</p>\n",
        "' <class 'lxml.etree.ParserError'>\n",
        "Unexpected error on string '</a>' <class 'lxml.etree.ParserError'>\n",
        "Unexpected error on string '</p>\n",
        "' <class 'lxml.etree.ParserError'>\n",
        "Unexpected error on string '</div>\n",
        "' <class 'lxml.etree.ParserError'>\n",
        "Unexpected error on string '</div>\n",
        "' <class 'lxml.etree.ParserError'>\n",
        "Unexpected error on string '</div>\n",
        "' <class 'lxml.etree.ParserError'>\n",
        "processed "
       ]
      },
      {
       "output_type": "stream",
       "stream": "stdout",
       "text": [
        " 414\n",
        "skipped  4\n",
        "530528969\n",
        "original article tmp file "
       ]
      },
      {
       "output_type": "stream",
       "stream": "stdout",
       "text": [
        " /tmp/tmpMdVE7b.html\n",
        "/tmp/tmpVkMOzY.html\n",
        "/tmp/tmpMdVE7b.html\n",
        "/tmp/tmpMdVE7b.html\n",
        "Now open file:///tmp/tmpVkMOzY.html in your web browser\n"
       ]
      },
      {
       "output_type": "stream",
       "stream": "stdout",
       "text": [
        "\n",
        "processed "
       ]
      },
      {
       "output_type": "stream",
       "stream": "stdout",
       "text": [
        " 415\n",
        "skipped  4\n",
        "530758329\n",
        "original article tmp file "
       ]
      },
      {
       "output_type": "stream",
       "stream": "stdout",
       "text": [
        " /tmp/tmpmVpfds.html\n",
        "/tmp/tmpFMGzFh.html\n",
        "/tmp/tmpmVpfds.html\n",
        "/tmp/tmpmVpfds.html\n",
        "Now open file:///tmp/tmpFMGzFh.html in your web browser\n"
       ]
      },
      {
       "output_type": "stream",
       "stream": "stdout",
       "text": [
        "\n",
        "processed "
       ]
      },
      {
       "output_type": "stream",
       "stream": "stdout",
       "text": [
        " 416\n",
        "skipped  4\n",
        "530760478\n",
        "original article tmp file "
       ]
      },
      {
       "output_type": "stream",
       "stream": "stdout",
       "text": [
        " /tmp/tmp8rC_Ph.html\n",
        "/tmp/tmpAzHsO7.html\n",
        "/tmp/tmp8rC_Ph.html\n",
        "/tmp/tmp8rC_Ph.html\n",
        "Now open file:///tmp/tmpAzHsO7.html in your web browser\n"
       ]
      },
      {
       "output_type": "stream",
       "stream": "stdout",
       "text": [
        "\n",
        "processed "
       ]
      },
      {
       "output_type": "stream",
       "stream": "stdout",
       "text": [
        " 417\n",
        "skipped  4\n",
        "531116330\n",
        "original article tmp file "
       ]
      },
      {
       "output_type": "stream",
       "stream": "stdout",
       "text": [
        " /tmp/tmpQSDJus.html\n",
        "/tmp/tmpnTbKCE.html\n",
        "/tmp/tmpQSDJus.html\n",
        "/tmp/tmpQSDJus.html\n",
        "Now open file:///tmp/tmpnTbKCE.html in your web browser\n"
       ]
      },
      {
       "output_type": "stream",
       "stream": "stdout",
       "text": [
        "\n",
        "processed "
       ]
      },
      {
       "output_type": "stream",
       "stream": "stdout",
       "text": [
        " 418\n",
        "skipped  4\n",
        "531271665\n",
        "original article tmp file "
       ]
      },
      {
       "output_type": "stream",
       "stream": "stdout",
       "text": [
        " /tmp/tmpNWDs0U.html\n",
        "/tmp/tmpytMY6f.html\n",
        "/tmp/tmpNWDs0U.html\n",
        "/tmp/tmpNWDs0U.html\n",
        "Now open file:///tmp/tmpytMY6f.html in your web browser\n"
       ]
      },
      {
       "output_type": "stream",
       "stream": "stdout",
       "text": [
        "\n",
        "processed "
       ]
      },
      {
       "output_type": "stream",
       "stream": "stdout",
       "text": [
        " 419\n",
        "skipped  4\n",
        "531541254\n",
        "original article tmp file "
       ]
      },
      {
       "output_type": "stream",
       "stream": "stdout",
       "text": [
        " /tmp/tmpRIf3FU.html\n",
        "/tmp/tmpsJQbSP.html\n",
        "/tmp/tmpRIf3FU.html\n",
        "/tmp/tmpRIf3FU.html\n",
        "Now open file:///tmp/tmpsJQbSP.html in your web browser\n"
       ]
      },
      {
       "output_type": "stream",
       "stream": "stdout",
       "text": [
        "\n",
        "processed "
       ]
      },
      {
       "output_type": "stream",
       "stream": "stdout",
       "text": [
        " 420\n",
        "skipped  4\n",
        "531805217\n",
        "original article tmp file "
       ]
      },
      {
       "output_type": "stream",
       "stream": "stdout",
       "text": [
        " /tmp/tmp7XWKzl.html\n",
        "/tmp/tmpET6A5t.html\n",
        "/tmp/tmp7XWKzl.html\n",
        "/tmp/tmp7XWKzl.html\n",
        "Now open file:///tmp/tmpET6A5t.html in your web browser\n"
       ]
      },
      {
       "output_type": "stream",
       "stream": "stdout",
       "text": [
        "\n",
        "Unexpected error on string '</a>' <class 'lxml.etree.ParserError'>\n",
        "Unexpected error on string '</div>' <class 'lxml.etree.ParserError'>\n",
        "Unexpected error on string '</a>' <class 'lxml.etree.ParserError'>\n",
        "Unexpected error on string '</h1>' <class 'lxml.etree.ParserError'>\n",
        "Unexpected error on string '<!-- \u0420\u040e\u0420\u0455\u0420\u0406\u0420\u00b5\u0421\u201a: \u0420\u0452\u0420\u0405\u0420\u0455\u0420\u0405\u0421\u0403 \u0420\u0406\u0421\u2039\u0421\u20ac\u0420\u00b5 \u0420\u0458\u0420\u0455\u0420\u00b6\u0420\u0405\u0420\u0455 \u0420\u0457\u0420\u0455\u0420\u0458\u0420\u00b5\u0420\u0405\u0421\u040f\u0421\u201a\u0421\u040a \u0420\u0405\u0420\u00b0 \u0421\u2020\u0420\u0451\u0421\u201a\u0420\u00b0\u0421\u201a\u0421\u0453 \u0420\u0451\u0420\u00b7 \u0421\u201a\u0420\u00b5\u0420\u0454\u0421\u0403\u0421\u201a\u0420\u00b0 -->' <class 'lxml.etree.ParserError'>\n",
        "Unexpected error on string '</a>' <class 'lxml.etree.ParserError'>\n",
        "Unexpected error on string '</span>' <class 'lxml.etree.ParserError'>\n",
        "Unexpected error on string '</td>' <class 'lxml.etree.ParserError'>\n",
        "Unexpected error on string '</tr>' <class 'lxml.etree.ParserError'>\n",
        "Unexpected error on string '</table>' <class 'lxml.etree.ParserError'>\n",
        "Unexpected error on string '</td>' <class 'lxml.etree.ParserError'>\n",
        "Unexpected error on string '</tr>' <class 'lxml.etree.ParserError'>\n",
        "Unexpected error on string '</table>\n",
        "' <class 'lxml.etree.ParserError'>\n",
        "processed "
       ]
      },
      {
       "output_type": "stream",
       "stream": "stdout",
       "text": [
        " 421\n",
        "skipped  4\n",
        "531997009\n",
        "original article tmp file "
       ]
      },
      {
       "output_type": "stream",
       "stream": "stdout",
       "text": [
        " /tmp/tmpLcuauA.html\n",
        "/tmp/tmpNQn642.html\n",
        "/tmp/tmpLcuauA.html\n",
        "/tmp/tmpLcuauA.html\n",
        "Now open file:///tmp/tmpNQn642.html in your web browser\n"
       ]
      },
      {
       "output_type": "stream",
       "stream": "stdout",
       "text": [
        "\n",
        "processed  422\n",
        "skipped  4\n",
        "532554918\n",
        "original article tmp file "
       ]
      },
      {
       "output_type": "stream",
       "stream": "stdout",
       "text": [
        " /tmp/tmpzhK99z.html\n",
        "/tmp/tmpDJS6Nf.html\n",
        "/tmp/tmpzhK99z.html\n",
        "/tmp/tmpzhK99z.html\n",
        "Now open file:///tmp/tmpDJS6Nf.html in your web browser\n"
       ]
      },
      {
       "output_type": "stream",
       "stream": "stdout",
       "text": [
        "\n",
        "processed "
       ]
      },
      {
       "output_type": "stream",
       "stream": "stdout",
       "text": [
        " 423\n",
        "skipped  4\n",
        "532672804\n",
        "original article tmp file "
       ]
      },
      {
       "output_type": "stream",
       "stream": "stdout",
       "text": [
        " /tmp/tmpuTzCf7.html\n",
        "/tmp/tmpZr6Zvx.html\n",
        "/tmp/tmpuTzCf7.html\n",
        "/tmp/tmpuTzCf7.html\n",
        "Now open file:///tmp/tmpZr6Zvx.html in your web browser\n"
       ]
      },
      {
       "output_type": "stream",
       "stream": "stdout",
       "text": [
        "\n",
        "processed "
       ]
      },
      {
       "output_type": "stream",
       "stream": "stdout",
       "text": [
        " 424\n",
        "skipped  4\n",
        "533194544\n",
        "original article tmp file "
       ]
      },
      {
       "output_type": "stream",
       "stream": "stdout",
       "text": [
        " /tmp/tmpmo61Rg.html\n",
        "/tmp/tmpUtkTZ3.html\n",
        "/tmp/tmpmo61Rg.html\n",
        "/tmp/tmpmo61Rg.html\n",
        "Now open file:///tmp/tmpUtkTZ3.html in your web browser\n"
       ]
      },
      {
       "output_type": "stream",
       "stream": "stdout",
       "text": [
        "\n",
        "processed  425\n",
        "skipped  4\n",
        "533730844\n",
        "original article tmp file "
       ]
      },
      {
       "output_type": "stream",
       "stream": "stdout",
       "text": [
        " /tmp/tmpKrXHq2.html\n",
        "/tmp/tmp8aKDQv.html\n",
        "/tmp/tmpKrXHq2.html\n",
        "/tmp/tmpKrXHq2.html\n",
        "Now open file:///tmp/tmp8aKDQv.html in your web browser\n"
       ]
      },
      {
       "output_type": "stream",
       "stream": "stdout",
       "text": [
        "\n",
        "processed  426\n",
        "skipped  4\n",
        "533889958\n",
        "original article tmp file "
       ]
      },
      {
       "output_type": "stream",
       "stream": "stdout",
       "text": [
        " /tmp/tmpv8PzRD.html\n",
        "/tmp/tmpooDw4V.html\n",
        "/tmp/tmpv8PzRD.html\n",
        "/tmp/tmpv8PzRD.html\n",
        "Now open file:///tmp/tmpooDw4V.html in your web browser\n"
       ]
      },
      {
       "output_type": "stream",
       "stream": "stdout",
       "text": [
        "\n",
        "processed "
       ]
      },
      {
       "output_type": "stream",
       "stream": "stdout",
       "text": [
        " 427\n",
        "skipped  4\n",
        "534093073\n",
        "original article tmp file "
       ]
      },
      {
       "output_type": "stream",
       "stream": "stdout",
       "text": [
        " /tmp/tmpPYXKiB.html\n",
        "/tmp/tmpq_37oS.html\n",
        "/tmp/tmpPYXKiB.html\n",
        "/tmp/tmpPYXKiB.html\n",
        "Now open file:///tmp/tmpq_37oS.html in your web browser\n"
       ]
      },
      {
       "output_type": "stream",
       "stream": "stdout",
       "text": [
        "\n",
        "processed "
       ]
      },
      {
       "output_type": "stream",
       "stream": "stdout",
       "text": [
        " 428\n",
        "skipped  4\n",
        "534505078\n",
        "original article tmp file "
       ]
      },
      {
       "output_type": "stream",
       "stream": "stdout",
       "text": [
        " /tmp/tmpNEgNhN.html\n",
        "/tmp/tmprflF4w.html\n",
        "/tmp/tmpNEgNhN.html\n",
        "/tmp/tmpNEgNhN.html\n",
        "Now open file:///tmp/tmprflF4w.html in your web browser\n"
       ]
      },
      {
       "output_type": "stream",
       "stream": "stdout",
       "text": [
        "\n",
        "processed "
       ]
      },
      {
       "output_type": "stream",
       "stream": "stdout",
       "text": [
        " 429\n",
        "skipped  4\n",
        "534718899\n",
        "original article tmp file "
       ]
      },
      {
       "output_type": "stream",
       "stream": "stdout",
       "text": [
        " /tmp/tmpDxmDeM.html\n",
        "/tmp/tmpbKofIK.html\n",
        "/tmp/tmpDxmDeM.html\n",
        "/tmp/tmpDxmDeM.html\n",
        "Now open file:///tmp/tmpbKofIK.html in your web browser\n"
       ]
      },
      {
       "output_type": "stream",
       "stream": "stdout",
       "text": [
        "\n",
        "Unexpected error on string '</a>\n",
        "' <class 'lxml.etree.ParserError'>\n",
        "Unexpected error on string '</p>\n",
        "' <class 'lxml.etree.ParserError'>\n",
        "Unexpected error on string '</div>\n",
        "' <class 'lxml.etree.ParserError'>\n",
        "Unexpected error on string '</a>\n",
        "'"
       ]
      },
      {
       "output_type": "stream",
       "stream": "stdout",
       "text": [
        " <class 'lxml.etree.ParserError'>\n",
        "Unexpected error on string '</a>' <class 'lxml.etree.ParserError'>\n",
        "Unexpected error on string '</h2>\n",
        "' <class 'lxml.etree.ParserError'>\n",
        "Unexpected error on string '</a>' <class 'lxml.etree.ParserError'>\n",
        "Unexpected error on string '</p>\n",
        "' <class 'lxml.etree.ParserError'>\n",
        "Unexpected error on string '</a>' <class 'lxml.etree.ParserError'>\n",
        "Unexpected error on string '</p>\n",
        "' <class 'lxml.etree.ParserError'>\n",
        "Unexpected error on string '</div>\n",
        "' <class 'lxml.etree.ParserError'>\n",
        "Unexpected error on string '</div>\n",
        "' <class 'lxml.etree.ParserError'>\n",
        "Unexpected error on string '</div>\n",
        "' <class 'lxml.etree.ParserError'>\n",
        "processed "
       ]
      },
      {
       "output_type": "stream",
       "stream": "stdout",
       "text": [
        " 430\n",
        "skipped  4\n",
        "534742315\n",
        "original article tmp file "
       ]
      },
      {
       "output_type": "stream",
       "stream": "stdout",
       "text": [
        " /tmp/tmpx1apwq.html\n",
        "/tmp/tmp1kD99f.html\n",
        "/tmp/tmpx1apwq.html\n",
        "/tmp/tmpx1apwq.html\n",
        "Now open file:///tmp/tmp1kD99f.html in your web browser\n"
       ]
      },
      {
       "output_type": "stream",
       "stream": "stdout",
       "text": [
        "\n",
        "processed  431\n",
        "skipped  4\n",
        "534981910\n",
        "original article tmp file "
       ]
      },
      {
       "output_type": "stream",
       "stream": "stdout",
       "text": [
        " /tmp/tmpQCVZcV.html\n",
        "/tmp/tmpGg0N6H.html\n",
        "/tmp/tmpQCVZcV.html\n",
        "/tmp/tmpQCVZcV.html\n",
        "Now open file:///tmp/tmpGg0N6H.html in your web browser\n"
       ]
      },
      {
       "output_type": "stream",
       "stream": "stdout",
       "text": [
        "\n",
        "Unexpected error on string '</a>\n",
        "' <class 'lxml.etree.ParserError'>\n",
        "Unexpected error on string '</p>\n",
        "' <class 'lxml.etree.ParserError'>\n",
        "Unexpected error on string '</div>\n",
        "' <class 'lxml.etree.ParserError'>\n",
        "Unexpected error on string '</a>\n",
        "' <class 'lxml.etree.ParserError'>\n",
        "Unexpected error on string '</a>' <class 'lxml.etree.ParserError'>\n",
        "Unexpected error on string '</h2>\n",
        "' <class 'lxml.etree.ParserError'>\n",
        "Unexpected error on string '</a>' <class 'lxml.etree.ParserError'>\n",
        "Unexpected error on string '</p>\n",
        "' <class 'lxml.etree.ParserError'>\n",
        "Unexpected error on string '</a>' <class 'lxml.etree.ParserError'>\n",
        "Unexpected error on string '</p>\n",
        "' <class 'lxml.etree.ParserError'>\n",
        "Unexpected error on string '</div>\n",
        "' <class 'lxml.etree.ParserError'>\n",
        "Unexpected error on string '</div>\n",
        "' <class 'lxml.etree.ParserError'>\n",
        "Unexpected error on string '</div>\n",
        "' <class 'lxml.etree.ParserError'>\n",
        "processed "
       ]
      },
      {
       "output_type": "stream",
       "stream": "stdout",
       "text": [
        " 432\n",
        "skipped  4\n",
        "535201962\n",
        "original article tmp file "
       ]
      },
      {
       "output_type": "stream",
       "stream": "stdout",
       "text": [
        " /tmp/tmpLlbf5t.html\n",
        "/tmp/tmpmoGJMb.html\n",
        "/tmp/tmpLlbf5t.html\n",
        "/tmp/tmpLlbf5t.html\n",
        "Now open file:///tmp/tmpmoGJMb.html in your web browser\n"
       ]
      },
      {
       "output_type": "stream",
       "stream": "stdout",
       "text": [
        "\n",
        "processed  433\n",
        "skipped  4\n",
        "535469332\n",
        "original article tmp file "
       ]
      },
      {
       "output_type": "stream",
       "stream": "stdout",
       "text": [
        " /tmp/tmpblOSCX.html\n",
        "/tmp/tmpaRjzGS.html\n",
        "/tmp/tmpblOSCX.html\n",
        "/tmp/tmpblOSCX.html\n",
        "Now open file:///tmp/tmpaRjzGS.html in your web browser\n"
       ]
      },
      {
       "output_type": "stream",
       "stream": "stdout",
       "text": [
        "\n",
        "processed "
       ]
      },
      {
       "output_type": "stream",
       "stream": "stdout",
       "text": [
        " 434\n",
        "skipped  4\n",
        "535880958\n",
        "original article tmp file "
       ]
      },
      {
       "output_type": "stream",
       "stream": "stdout",
       "text": [
        " /tmp/tmpeElfFD.html\n",
        "/tmp/tmpY1S8TX.html\n",
        "/tmp/tmpeElfFD.html\n",
        "/tmp/tmpeElfFD.html\n",
        "Now open file:///tmp/tmpY1S8TX.html in your web browser\n"
       ]
      },
      {
       "output_type": "stream",
       "stream": "stdout",
       "text": [
        "\n",
        "processed  435\n",
        "skipped  4\n",
        "536870204\n",
        "original article tmp file "
       ]
      },
      {
       "output_type": "stream",
       "stream": "stdout",
       "text": [
        " /tmp/tmpp89rmS.html\n",
        "/tmp/tmpbkFvcZ.html\n",
        "/tmp/tmpp89rmS.html\n",
        "/tmp/tmpp89rmS.html\n",
        "Now open file:///tmp/tmpbkFvcZ.html in your web browser\n"
       ]
      },
      {
       "output_type": "stream",
       "stream": "stdout",
       "text": [
        "\n",
        "processed "
       ]
      },
      {
       "output_type": "stream",
       "stream": "stdout",
       "text": [
        " 436\n",
        "skipped  4\n",
        "536977072\n",
        "original article tmp file "
       ]
      },
      {
       "output_type": "stream",
       "stream": "stdout",
       "text": [
        " /tmp/tmp2PDSkJ.html\n",
        "/tmp/tmp2KqcV_.html\n",
        "/tmp/tmp2PDSkJ.html\n",
        "/tmp/tmp2PDSkJ.html\n",
        "Now open file:///tmp/tmp2KqcV_.html in your web browser\n"
       ]
      },
      {
       "output_type": "stream",
       "stream": "stdout",
       "text": [
        "\n",
        "processed  437\n",
        "skipped  4\n",
        "537231678\n",
        "original article tmp file "
       ]
      },
      {
       "output_type": "stream",
       "stream": "stdout",
       "text": [
        " /tmp/tmpXIC7G3.html\n",
        "/tmp/tmpzVd02G.html\n",
        "/tmp/tmpXIC7G3.html\n",
        "/tmp/tmpXIC7G3.html\n",
        "Now open file:///tmp/tmpzVd02G.html in your web browser\n"
       ]
      },
      {
       "output_type": "stream",
       "stream": "stdout",
       "text": [
        "\n",
        "processed "
       ]
      },
      {
       "output_type": "stream",
       "stream": "stdout",
       "text": [
        " 438\n",
        "skipped  4\n",
        "537256396\n",
        "original article tmp file "
       ]
      },
      {
       "output_type": "stream",
       "stream": "stdout",
       "text": [
        " /tmp/tmpj2s5KL.html\n",
        "/tmp/tmpIoFLxd.html\n",
        "/tmp/tmpj2s5KL.html\n",
        "/tmp/tmpj2s5KL.html\n",
        "Now open file:///tmp/tmpIoFLxd.html in your web browser\n"
       ]
      },
      {
       "output_type": "stream",
       "stream": "stdout",
       "text": [
        "\n",
        "processed  439\n",
        "skipped  4\n",
        "537704893\n",
        "original article tmp file "
       ]
      },
      {
       "output_type": "stream",
       "stream": "stdout",
       "text": [
        " /tmp/tmpAmG6R8.html\n",
        "/tmp/tmpGzQk9A.html\n",
        "/tmp/tmpAmG6R8.html\n",
        "/tmp/tmpAmG6R8.html\n",
        "Now open file:///tmp/tmpGzQk9A.html in your web browser\n"
       ]
      },
      {
       "output_type": "stream",
       "stream": "stdout",
       "text": [
        "\n",
        "processed "
       ]
      },
      {
       "output_type": "stream",
       "stream": "stdout",
       "text": [
        " 440\n",
        "skipped  4\n",
        "538721777\n",
        "original article tmp file "
       ]
      },
      {
       "output_type": "stream",
       "stream": "stdout",
       "text": [
        " /tmp/tmpJ1XISd.html\n",
        "/tmp/tmph9Y606.html\n",
        "/tmp/tmpJ1XISd.html\n",
        "/tmp/tmpJ1XISd.html\n",
        "Now open file:///tmp/tmph9Y606.html in your web browser\n"
       ]
      },
      {
       "output_type": "stream",
       "stream": "stdout",
       "text": [
        "\n",
        "processed  441\n",
        "skipped  4\n",
        "539056055\n",
        "original article tmp file "
       ]
      },
      {
       "output_type": "stream",
       "stream": "stdout",
       "text": [
        " /tmp/tmp6V6_w1.html\n",
        "/tmp/tmp1PQlWz.html\n",
        "/tmp/tmp6V6_w1.html\n",
        "/tmp/tmp6V6_w1.html\n",
        "Now open file:///tmp/tmp1PQlWz.html in your web browser\n"
       ]
      },
      {
       "output_type": "stream",
       "stream": "stdout",
       "text": [
        "\n",
        "processed  442\n",
        "skipped  4\n",
        "539126425\n",
        "original article tmp file "
       ]
      },
      {
       "output_type": "stream",
       "stream": "stdout",
       "text": [
        " /tmp/tmpD_tnjX.html\n",
        "/tmp/tmphj55se.html\n",
        "/tmp/tmpD_tnjX.html\n",
        "/tmp/tmpD_tnjX.html\n",
        "Now open file:///tmp/tmphj55se.html in your web browser\n"
       ]
      },
      {
       "output_type": "stream",
       "stream": "stdout",
       "text": [
        "\n",
        "processed "
       ]
      },
      {
       "output_type": "stream",
       "stream": "stdout",
       "text": [
        " 443\n",
        "skipped  4\n",
        "539389371\n",
        "original article tmp file "
       ]
      },
      {
       "output_type": "stream",
       "stream": "stdout",
       "text": [
        " /tmp/tmpZYis_u.html\n",
        "/tmp/tmp_PDlt5.html\n",
        "/tmp/tmpZYis_u.html\n",
        "/tmp/tmpZYis_u.html\n",
        "Now open file:///tmp/tmp_PDlt5.html in your web browser\n"
       ]
      },
      {
       "output_type": "stream",
       "stream": "stdout",
       "text": [
        "\n",
        "processed "
       ]
      },
      {
       "output_type": "stream",
       "stream": "stdout",
       "text": [
        " 444\n",
        "skipped  4\n",
        "539862886\n",
        "original article tmp file "
       ]
      },
      {
       "output_type": "stream",
       "stream": "stdout",
       "text": [
        " /tmp/tmpJ8s5t7.html\n",
        "/tmp/tmp1f2CRS.html\n",
        "/tmp/tmpJ8s5t7.html\n",
        "/tmp/tmpJ8s5t7.html\n",
        "Now open file:///tmp/tmp1f2CRS.html in your web browser\n"
       ]
      },
      {
       "output_type": "stream",
       "stream": "stdout",
       "text": [
        "\n",
        "processed  445\n",
        "skipped  4\n",
        "540049468\n",
        "original article tmp file "
       ]
      },
      {
       "output_type": "stream",
       "stream": "stdout",
       "text": [
        " /tmp/tmpf730W0.html\n",
        "/tmp/tmpUiIDrC.html\n",
        "/tmp/tmpf730W0.html\n",
        "/tmp/tmpf730W0.html\n",
        "Now open file:///tmp/tmpUiIDrC.html in your web browser\n"
       ]
      },
      {
       "output_type": "stream",
       "stream": "stdout",
       "text": [
        "\n",
        "processed  446\n",
        "skipped  4\n",
        "540072482\n",
        "original article tmp file "
       ]
      },
      {
       "output_type": "stream",
       "stream": "stdout",
       "text": [
        " /tmp/tmpk4Sp2Q.html\n",
        "/tmp/tmpc1UeKr.html\n",
        "/tmp/tmpk4Sp2Q.html\n",
        "/tmp/tmpk4Sp2Q.html\n",
        "Now open file:///tmp/tmpc1UeKr.html in your web browser\n"
       ]
      },
      {
       "output_type": "stream",
       "stream": "stdout",
       "text": [
        "\n",
        "processed "
       ]
      },
      {
       "output_type": "stream",
       "stream": "stdout",
       "text": [
        " 447\n",
        "skipped  4\n",
        "540219129\n",
        "original article tmp file "
       ]
      },
      {
       "output_type": "stream",
       "stream": "stdout",
       "text": [
        " /tmp/tmpLGajRF.html\n",
        "/tmp/tmppK3pvy.html\n",
        "/tmp/tmpLGajRF.html\n",
        "/tmp/tmpLGajRF.html\n",
        "Now open file:///tmp/tmppK3pvy.html in your web browser\n"
       ]
      },
      {
       "output_type": "stream",
       "stream": "stdout",
       "text": [
        "\n",
        "processed "
       ]
      },
      {
       "output_type": "stream",
       "stream": "stdout",
       "text": [
        " 448\n",
        "skipped  4\n",
        "540729123\n",
        "original article tmp file "
       ]
      },
      {
       "output_type": "stream",
       "stream": "stdout",
       "text": [
        " /tmp/tmpPxPpol.html\n",
        "/tmp/tmpiJ3jE0.html\n",
        "/tmp/tmpPxPpol.html\n",
        "/tmp/tmpPxPpol.html\n",
        "Now open file:///tmp/tmpiJ3jE0.html in your web browser\n"
       ]
      },
      {
       "output_type": "stream",
       "stream": "stdout",
       "text": [
        "\n",
        "processed "
       ]
      },
      {
       "output_type": "stream",
       "stream": "stdout",
       "text": [
        " 449\n",
        "skipped  4\n",
        "540938254\n",
        "original article tmp file "
       ]
      },
      {
       "output_type": "stream",
       "stream": "stdout",
       "text": [
        " /tmp/tmpwSFJCg.html\n",
        "/tmp/tmpz3uFGU.html\n",
        "/tmp/tmpwSFJCg.html\n",
        "/tmp/tmpwSFJCg.html\n",
        "Now open file:///tmp/tmpz3uFGU.html in your web browser\n"
       ]
      },
      {
       "output_type": "stream",
       "stream": "stdout",
       "text": [
        "\n",
        "processed "
       ]
      },
      {
       "output_type": "stream",
       "stream": "stdout",
       "text": [
        " 450\n",
        "skipped  4\n",
        "541044672\n",
        "original article tmp file "
       ]
      },
      {
       "output_type": "stream",
       "stream": "stdout",
       "text": [
        " /tmp/tmpBan6Sk.html\n",
        "/tmp/tmpWvcs4u.html\n",
        "/tmp/tmpBan6Sk.html\n",
        "/tmp/tmpBan6Sk.html\n",
        "Now open file:///tmp/tmpWvcs4u.html in your web browser\n"
       ]
      },
      {
       "output_type": "stream",
       "stream": "stdout",
       "text": [
        "\n",
        "processed "
       ]
      },
      {
       "output_type": "stream",
       "stream": "stdout",
       "text": [
        " 451\n",
        "skipped  4\n",
        "541380062\n",
        "original article tmp file "
       ]
      },
      {
       "output_type": "stream",
       "stream": "stdout",
       "text": [
        " /tmp/tmpOj2M7W.html\n",
        "/tmp/tmpdozCOW.html\n",
        "/tmp/tmpOj2M7W.html\n",
        "/tmp/tmpOj2M7W.html\n",
        "Now open file:///tmp/tmpdozCOW.html in your web browser\n"
       ]
      },
      {
       "output_type": "stream",
       "stream": "stdout",
       "text": [
        "\n",
        "processed "
       ]
      },
      {
       "output_type": "stream",
       "stream": "stdout",
       "text": [
        " 452\n",
        "skipped  4\n",
        "541787974\n",
        "original article tmp file "
       ]
      },
      {
       "output_type": "stream",
       "stream": "stdout",
       "text": [
        " /tmp/tmp9Ycb6i.html\n",
        "/tmp/tmpF8J6fY.html\n",
        "/tmp/tmp9Ycb6i.html\n",
        "/tmp/tmp9Ycb6i.html\n",
        "Now open file:///tmp/tmpF8J6fY.html in your web browser\n"
       ]
      },
      {
       "output_type": "stream",
       "stream": "stdout",
       "text": [
        "\n",
        "processed "
       ]
      },
      {
       "output_type": "stream",
       "stream": "stdout",
       "text": [
        " 453\n",
        "skipped  4\n",
        "541944011\n",
        "original article tmp file "
       ]
      },
      {
       "output_type": "stream",
       "stream": "stdout",
       "text": [
        " /tmp/tmpOcsrAY.html\n",
        "/tmp/tmpxK2rid.html\n",
        "/tmp/tmpOcsrAY.html\n",
        "/tmp/tmpOcsrAY.html\n",
        "Now open file:///tmp/tmpxK2rid.html in your web browser\n"
       ]
      },
      {
       "output_type": "stream",
       "stream": "stdout",
       "text": [
        "\n",
        "processed "
       ]
      },
      {
       "output_type": "stream",
       "stream": "stdout",
       "text": [
        " 454\n",
        "skipped  4\n",
        "542151181\n",
        "original article tmp file "
       ]
      },
      {
       "output_type": "stream",
       "stream": "stdout",
       "text": [
        " /tmp/tmpzhk8yD.html\n",
        "/tmp/tmpPH7v5r.html\n",
        "/tmp/tmpzhk8yD.html\n",
        "/tmp/tmpzhk8yD.html\n",
        "Now open file:///tmp/tmpPH7v5r.html in your web browser\n"
       ]
      },
      {
       "output_type": "stream",
       "stream": "stdout",
       "text": [
        "\n",
        "processed  455\n",
        "skipped  4\n",
        "542292829\n",
        "original article tmp file "
       ]
      },
      {
       "output_type": "stream",
       "stream": "stdout",
       "text": [
        " /tmp/tmpuEQZkl.html\n",
        "/tmp/tmpc6mFGM.html\n",
        "/tmp/tmpuEQZkl.html\n",
        "/tmp/tmpuEQZkl.html\n",
        "Now open file:///tmp/tmpc6mFGM.html in your web browser\n"
       ]
      },
      {
       "output_type": "stream",
       "stream": "stdout",
       "text": [
        "\n",
        "processed  456\n",
        "skipped  4\n",
        "542601235\n",
        "original article tmp file "
       ]
      },
      {
       "output_type": "stream",
       "stream": "stdout",
       "text": [
        " /tmp/tmpI4AUMs.html\n",
        "/tmp/tmpcVXg2d.html\n",
        "/tmp/tmpI4AUMs.html\n",
        "/tmp/tmpI4AUMs.html\n",
        "Now open file:///tmp/tmpcVXg2d.html in your web browser\n"
       ]
      },
      {
       "output_type": "stream",
       "stream": "stdout",
       "text": [
        "\n",
        "processed  457\n",
        "skipped  4\n",
        "542607593\n",
        "original article tmp file "
       ]
      },
      {
       "output_type": "stream",
       "stream": "stdout",
       "text": [
        " /tmp/tmp6A8VLD.html\n",
        "/tmp/tmpOtECgw.html\n",
        "/tmp/tmp6A8VLD.html\n",
        "/tmp/tmp6A8VLD.html\n",
        "Now open file:///tmp/tmpOtECgw.html in your web browser\n"
       ]
      },
      {
       "output_type": "stream",
       "stream": "stdout",
       "text": [
        "\n",
        "processed "
       ]
      },
      {
       "output_type": "stream",
       "stream": "stdout",
       "text": [
        " 458\n",
        "skipped  4\n",
        "542722436\n",
        "original article tmp file "
       ]
      },
      {
       "output_type": "stream",
       "stream": "stdout",
       "text": [
        " /tmp/tmpxNlBSS.html\n",
        "/tmp/tmpt6bZlO.html\n",
        "/tmp/tmpxNlBSS.html\n",
        "/tmp/tmpxNlBSS.html\n",
        "Now open file:///tmp/tmpt6bZlO.html in your web browser\n"
       ]
      },
      {
       "output_type": "stream",
       "stream": "stdout",
       "text": [
        "\n",
        "processed "
       ]
      },
      {
       "output_type": "stream",
       "stream": "stdout",
       "text": [
        " 459\n",
        "skipped  4\n",
        "543002984\n",
        "original article tmp file "
       ]
      },
      {
       "output_type": "stream",
       "stream": "stdout",
       "text": [
        " /tmp/tmp2ZoTw4.html\n",
        "/tmp/tmp5KL_BB.html\n",
        "/tmp/tmp2ZoTw4.html\n",
        "/tmp/tmp2ZoTw4.html\n",
        "Now open file:///tmp/tmp5KL_BB.html in your web browser\n"
       ]
      },
      {
       "output_type": "stream",
       "stream": "stdout",
       "text": [
        "\n",
        "processed "
       ]
      },
      {
       "output_type": "stream",
       "stream": "stdout",
       "text": [
        " 460\n",
        "skipped  4\n",
        "544804153\n",
        "original article tmp file "
       ]
      },
      {
       "output_type": "stream",
       "stream": "stdout",
       "text": [
        " /tmp/tmpNdEtZz.html\n",
        "/tmp/tmpKBOo01.html\n",
        "/tmp/tmpNdEtZz.html\n",
        "/tmp/tmpNdEtZz.html\n",
        "Now open file:///tmp/tmpKBOo01.html in your web browser\n"
       ]
      },
      {
       "output_type": "stream",
       "stream": "stdout",
       "text": [
        "\n",
        "processed "
       ]
      },
      {
       "output_type": "stream",
       "stream": "stdout",
       "text": [
        " 461\n",
        "skipped  4\n",
        "545408829\n",
        "original article tmp file "
       ]
      },
      {
       "output_type": "stream",
       "stream": "stdout",
       "text": [
        " /tmp/tmpQfCXOF.html\n",
        "/tmp/tmpp6DeRa.html\n",
        "/tmp/tmpQfCXOF.html\n",
        "/tmp/tmpQfCXOF.html\n",
        "Now open file:///tmp/tmpp6DeRa.html in your web browser\n"
       ]
      },
      {
       "output_type": "stream",
       "stream": "stdout",
       "text": [
        "\n",
        "processed "
       ]
      },
      {
       "output_type": "stream",
       "stream": "stdout",
       "text": [
        " 462\n",
        "skipped  4\n",
        "545490257\n",
        "original article tmp file "
       ]
      },
      {
       "output_type": "stream",
       "stream": "stdout",
       "text": [
        " /tmp/tmpkwJkp1.html\n",
        "/tmp/tmpr4y2eo.html\n",
        "/tmp/tmpkwJkp1.html\n",
        "/tmp/tmpkwJkp1.html\n",
        "Now open file:///tmp/tmpr4y2eo.html in your web browser\n"
       ]
      },
      {
       "output_type": "stream",
       "stream": "stdout",
       "text": [
        "\n",
        "processed  463\n",
        "skipped  4\n",
        "546226391\n",
        "original article tmp file "
       ]
      },
      {
       "output_type": "stream",
       "stream": "stdout",
       "text": [
        " /tmp/tmpkRFELj.html\n",
        "/tmp/tmpeiQyGB.html\n",
        "/tmp/tmpkRFELj.html\n",
        "/tmp/tmpkRFELj.html\n",
        "Now open file:///tmp/tmpeiQyGB.html in your web browser\n"
       ]
      },
      {
       "output_type": "stream",
       "stream": "stdout",
       "text": [
        "\n",
        "processed "
       ]
      },
      {
       "output_type": "stream",
       "stream": "stdout",
       "text": [
        " 464\n",
        "skipped  4\n",
        "546447285\n",
        "original article tmp file "
       ]
      },
      {
       "output_type": "stream",
       "stream": "stdout",
       "text": [
        " /tmp/tmp8qZagb.html\n",
        "/tmp/tmpC9RGVs.html\n",
        "/tmp/tmp8qZagb.html\n",
        "/tmp/tmp8qZagb.html\n",
        "Now open file:///tmp/tmpC9RGVs.html in your web browser\n"
       ]
      },
      {
       "output_type": "stream",
       "stream": "stdout",
       "text": [
        "\n",
        "processed "
       ]
      },
      {
       "output_type": "stream",
       "stream": "stdout",
       "text": [
        " 465\n",
        "skipped  4\n",
        "546452241\n",
        "original article tmp file "
       ]
      },
      {
       "output_type": "stream",
       "stream": "stdout",
       "text": [
        " /tmp/tmpW0zfuN.html\n",
        "/tmp/tmpxcNZk_.html\n",
        "/tmp/tmpW0zfuN.html\n",
        "/tmp/tmpW0zfuN.html\n",
        "Now open file:///tmp/tmpxcNZk_.html in your web browser\n"
       ]
      },
      {
       "output_type": "stream",
       "stream": "stdout",
       "text": [
        "\n",
        "Unexpected error on string '</a>' <class 'lxml.etree.ParserError'>\n",
        "Unexpected error on string '</div>' <class 'lxml.etree.ParserError'>\n",
        "Unexpected error on string '</a>' <class 'lxml.etree.ParserError'>\n",
        "Unexpected error on string '</h1>' <class 'lxml.etree.ParserError'>\n",
        "Unexpected error on string '<!-- \u0420\u040e\u0420\u0455\u0420\u0406\u0420\u00b5\u0421\u201a: \u0420\u0452\u0420\u0405\u0420\u0455\u0420\u0405\u0421\u0403 \u0420\u0406\u0421\u2039\u0421\u20ac\u0420\u00b5 \u0420\u0458\u0420\u0455\u0420\u00b6\u0420\u0405\u0420\u0455 \u0420\u0457\u0420\u0455\u0420\u0458\u0420\u00b5\u0420\u0405\u0421\u040f\u0421\u201a\u0421\u040a \u0420\u0405\u0420\u00b0 \u0421\u2020\u0420\u0451\u0421\u201a\u0420\u00b0\u0421\u201a\u0421\u0453 \u0420\u0451\u0420\u00b7 \u0421\u201a\u0420\u00b5\u0420\u0454\u0421\u0403\u0421\u201a\u0420\u00b0 -->' <class 'lxml.etree.ParserError'>\n",
        "Unexpected error on string '</a>' <class 'lxml.etree.ParserError'>\n",
        "Unexpected error on string '</span>' <class 'lxml.etree.ParserError'>\n",
        "Unexpected error on string '</td>' <class 'lxml.etree.ParserError'>\n",
        "Unexpected error on string '</tr>' <class 'lxml.etree.ParserError'>\n",
        "Unexpected error on string '</table>' <class 'lxml.etree.ParserError'>\n",
        "Unexpected error on string '</td>' <class 'lxml.etree.ParserError'>\n",
        "Unexpected error on string '</tr>' <class 'lxml.etree.ParserError'>\n",
        "Unexpected error on string '</table>\n",
        "' <class 'lxml.etree.ParserError'>\n",
        "processed  466\n",
        "skipped  4\n",
        "546475377\n",
        "original article tmp file "
       ]
      },
      {
       "output_type": "stream",
       "stream": "stdout",
       "text": [
        " /tmp/tmptnjHhN.html\n",
        "/tmp/tmppILveM.html\n",
        "/tmp/tmptnjHhN.html\n",
        "/tmp/tmptnjHhN.html\n",
        "Now open file:///tmp/tmppILveM.html in your web browser\n"
       ]
      },
      {
       "output_type": "stream",
       "stream": "stdout",
       "text": [
        "\n",
        "processed  467\n",
        "skipped  4\n",
        "546744400\n",
        "original article tmp file "
       ]
      },
      {
       "output_type": "stream",
       "stream": "stdout",
       "text": [
        " /tmp/tmp6lAVC0.html\n",
        "/tmp/tmpZgD22x.html\n",
        "/tmp/tmp6lAVC0.html\n",
        "/tmp/tmp6lAVC0.html\n",
        "Now open file:///tmp/tmpZgD22x.html in your web browser\n"
       ]
      },
      {
       "output_type": "stream",
       "stream": "stdout",
       "text": [
        "\n",
        "processed "
       ]
      },
      {
       "output_type": "stream",
       "stream": "stdout",
       "text": [
        " 468\n",
        "skipped  4\n",
        "546865980\n",
        "original article tmp file "
       ]
      },
      {
       "output_type": "stream",
       "stream": "stdout",
       "text": [
        " /tmp/tmpls1Kua.html\n",
        "/tmp/tmpSRWiYu.html\n",
        "/tmp/tmpls1Kua.html\n",
        "/tmp/tmpls1Kua.html\n",
        "Now open file:///tmp/tmpSRWiYu.html in your web browser\n"
       ]
      },
      {
       "output_type": "stream",
       "stream": "stdout",
       "text": [
        "\n",
        "processed "
       ]
      },
      {
       "output_type": "stream",
       "stream": "stdout",
       "text": [
        " 469\n",
        "skipped  4\n",
        "547134278\n",
        "original article tmp file "
       ]
      },
      {
       "output_type": "stream",
       "stream": "stdout",
       "text": [
        " /tmp/tmpZ78_7j.html\n",
        "/tmp/tmp8ENdy8.html\n",
        "/tmp/tmpZ78_7j.html\n",
        "/tmp/tmpZ78_7j.html\n",
        "Now open file:///tmp/tmp8ENdy8.html in your web browser\n"
       ]
      },
      {
       "output_type": "stream",
       "stream": "stdout",
       "text": [
        "\n",
        "processed  470\n",
        "skipped  4\n",
        "547947151\n",
        "original article tmp file "
       ]
      },
      {
       "output_type": "stream",
       "stream": "stdout",
       "text": [
        " /tmp/tmp5AENLf.html\n",
        "/tmp/tmpSlB5bK.html\n",
        "/tmp/tmp5AENLf.html\n",
        "/tmp/tmp5AENLf.html\n",
        "Now open file:///tmp/tmpSlB5bK.html in your web browser\n"
       ]
      },
      {
       "output_type": "stream",
       "stream": "stdout",
       "text": [
        "\n",
        "processed  471\n",
        "skipped  4\n",
        "550077777\n",
        "original article tmp file "
       ]
      },
      {
       "output_type": "stream",
       "stream": "stdout",
       "text": [
        " /tmp/tmpVUMhOP.html\n",
        "/tmp/tmpHU2H9m.html\n",
        "/tmp/tmpVUMhOP.html\n",
        "/tmp/tmpVUMhOP.html\n",
        "Now open file:///tmp/tmpHU2H9m.html in your web browser\n"
       ]
      },
      {
       "output_type": "stream",
       "stream": "stdout",
       "text": [
        "\n",
        "processed "
       ]
      },
      {
       "output_type": "stream",
       "stream": "stdout",
       "text": [
        " 472\n",
        "skipped  4\n",
        "550220223\n",
        "original article tmp file "
       ]
      },
      {
       "output_type": "stream",
       "stream": "stdout",
       "text": [
        " /tmp/tmp32P4Y0.html\n",
        "/tmp/tmpC9yYcB.html\n",
        "/tmp/tmp32P4Y0.html\n",
        "/tmp/tmp32P4Y0.html\n",
        "Now open file:///tmp/tmpC9yYcB.html in your web browser\n"
       ]
      },
      {
       "output_type": "stream",
       "stream": "stdout",
       "text": [
        "\n",
        "processed  473\n",
        "skipped  4\n",
        "550246134\n",
        "original article tmp file "
       ]
      },
      {
       "output_type": "stream",
       "stream": "stdout",
       "text": [
        " /tmp/tmpVzUz_w.html\n",
        "/tmp/tmpFpaqkj.html\n",
        "/tmp/tmpVzUz_w.html\n",
        "/tmp/tmpVzUz_w.html\n",
        "Now open file:///tmp/tmpFpaqkj.html in your web browser\n"
       ]
      },
      {
       "output_type": "stream",
       "stream": "stdout",
       "text": [
        "\n",
        "processed  474\n",
        "skipped  4\n",
        "550918776\n",
        "original article tmp file "
       ]
      },
      {
       "output_type": "stream",
       "stream": "stdout",
       "text": [
        " /tmp/tmpJRcyXd.html\n",
        "/tmp/tmprCyaKl.html\n",
        "/tmp/tmpJRcyXd.html\n",
        "/tmp/tmpJRcyXd.html\n",
        "Now open file:///tmp/tmprCyaKl.html in your web browser\n"
       ]
      },
      {
       "output_type": "stream",
       "stream": "stdout",
       "text": [
        "\n",
        "processed  475\n",
        "skipped  4\n",
        "551714821\n",
        "original article tmp file "
       ]
      },
      {
       "output_type": "stream",
       "stream": "stdout",
       "text": [
        " /tmp/tmpLRJENq.html\n",
        "/tmp/tmpoyS9ge.html\n",
        "/tmp/tmpLRJENq.html\n",
        "/tmp/tmpLRJENq.html\n",
        "Now open file:///tmp/tmpoyS9ge.html in your web browser\n"
       ]
      },
      {
       "output_type": "stream",
       "stream": "stdout",
       "text": [
        "\n",
        "processed "
       ]
      },
      {
       "output_type": "stream",
       "stream": "stdout",
       "text": [
        " 476\n",
        "skipped  4\n",
        "551991048\n",
        "original article tmp file "
       ]
      },
      {
       "output_type": "stream",
       "stream": "stdout",
       "text": [
        " /tmp/tmpy67uxh.html\n",
        "/tmp/tmpkmBpOt.html\n",
        "/tmp/tmpy67uxh.html\n",
        "/tmp/tmpy67uxh.html\n",
        "Now open file:///tmp/tmpkmBpOt.html in your web browser\n"
       ]
      },
      {
       "output_type": "stream",
       "stream": "stdout",
       "text": [
        "\n",
        "processed  477\n",
        "skipped  4\n",
        "552179030\n",
        "original article tmp file "
       ]
      },
      {
       "output_type": "stream",
       "stream": "stdout",
       "text": [
        " /tmp/tmpu9ioZ2.html\n",
        "/tmp/tmpl5hg2V.html\n",
        "/tmp/tmpu9ioZ2.html\n",
        "/tmp/tmpu9ioZ2.html\n",
        "Now open file:///tmp/tmpl5hg2V.html in your web browser\n"
       ]
      },
      {
       "output_type": "stream",
       "stream": "stdout",
       "text": [
        "\n",
        "processed  478\n",
        "skipped  4\n",
        "552285278\n",
        "original article tmp file "
       ]
      },
      {
       "output_type": "stream",
       "stream": "stdout",
       "text": [
        " /tmp/tmpIeQq79.html\n",
        "/tmp/tmp7CZE2D.html\n",
        "/tmp/tmpIeQq79.html\n",
        "/tmp/tmpIeQq79.html\n",
        "Now open file:///tmp/tmp7CZE2D.html in your web browser\n"
       ]
      },
      {
       "output_type": "stream",
       "stream": "stdout",
       "text": [
        "\n",
        "processed  479\n",
        "skipped  4\n",
        "552343286\n",
        "original article tmp file "
       ]
      },
      {
       "output_type": "stream",
       "stream": "stdout",
       "text": [
        " /tmp/tmpgECIiJ.html\n",
        "/tmp/tmpqIV6Jh.html\n",
        "/tmp/tmpgECIiJ.html\n",
        "/tmp/tmpgECIiJ.html\n",
        "Now open file:///tmp/tmpqIV6Jh.html in your web browser\n"
       ]
      },
      {
       "output_type": "stream",
       "stream": "stdout",
       "text": [
        "\n",
        "Unexpected error on string '</a>\n",
        "' <class 'lxml.etree.ParserError'>\n",
        "Unexpected error on string '</p>\n",
        "' <class 'lxml.etree.ParserError'>\n",
        "Unexpected error on string '</div>\n",
        "' <class 'lxml.etree.ParserError'>\n",
        "Unexpected error on string '</a>\n",
        "' <class 'lxml.etree.ParserError'>\n",
        "Unexpected error on string '</a>'"
       ]
      },
      {
       "output_type": "stream",
       "stream": "stdout",
       "text": [
        " <class 'lxml.etree.ParserError'>\n",
        "Unexpected error on string '</h2>\n",
        "' <class 'lxml.etree.ParserError'>\n",
        "Unexpected error on string '</a>' <class 'lxml.etree.ParserError'>\n",
        "Unexpected error on string '</p>\n",
        "' <class 'lxml.etree.ParserError'>\n",
        "Unexpected error on string '</a>' <class 'lxml.etree.ParserError'>\n",
        "Unexpected error on string '</p>\n",
        "' <class 'lxml.etree.ParserError'>\n",
        "Unexpected error on string '</div>\n",
        "' <class 'lxml.etree.ParserError'>\n",
        "Unexpected error on string '</div>\n",
        "' <class 'lxml.etree.ParserError'>\n",
        "Unexpected error on string '</div>\n",
        "' <class 'lxml.etree.ParserError'>\n",
        "processed "
       ]
      },
      {
       "output_type": "stream",
       "stream": "stdout",
       "text": [
        " 480\n",
        "skipped  4\n",
        "552450557\n",
        "original article tmp file "
       ]
      },
      {
       "output_type": "stream",
       "stream": "stdout",
       "text": [
        " /tmp/tmpDmn00o.html\n",
        "/tmp/tmpBy4qqC.html\n",
        "/tmp/tmpDmn00o.html\n",
        "/tmp/tmpDmn00o.html\n",
        "Now open file:///tmp/tmpBy4qqC.html in your web browser\n"
       ]
      },
      {
       "output_type": "stream",
       "stream": "stdout",
       "text": [
        "\n",
        "Unexpected error on string '</a>'"
       ]
      },
      {
       "output_type": "stream",
       "stream": "stdout",
       "text": [
        " <class 'lxml.etree.ParserError'>\n",
        "Unexpected error on string '</div>' <class 'lxml.etree.ParserError'>\n",
        "Unexpected error on string '</a>' <class 'lxml.etree.ParserError'>\n",
        "Unexpected error on string '</h1>' <class 'lxml.etree.ParserError'>\n",
        "Unexpected error on string '<!-- \u0420\u040e\u0420\u0455\u0420\u0406\u0420\u00b5\u0421\u201a: \u0420\u0452\u0420\u0405\u0420\u0455\u0420\u0405\u0421\u0403 \u0420\u0406\u0421\u2039\u0421\u20ac\u0420\u00b5 \u0420\u0458\u0420\u0455\u0420\u00b6\u0420\u0405\u0420\u0455 \u0420\u0457\u0420\u0455\u0420\u0458\u0420\u00b5\u0420\u0405\u0421\u040f\u0421\u201a\u0421\u040a \u0420\u0405\u0420\u00b0 \u0421\u2020\u0420\u0451\u0421\u201a\u0420\u00b0\u0421\u201a\u0421\u0453 \u0420\u0451\u0420\u00b7 \u0421\u201a\u0420\u00b5\u0420\u0454\u0421\u0403\u0421\u201a\u0420\u00b0 -->' <class 'lxml.etree.ParserError'>\n",
        "Unexpected error on string '</a>' <class 'lxml.etree.ParserError'>\n",
        "Unexpected error on string '</span>' <class 'lxml.etree.ParserError'>\n",
        "Unexpected error on string '</td>' <class 'lxml.etree.ParserError'>\n",
        "Unexpected error on string '</a>' <class 'lxml.etree.ParserError'>\n",
        "Unexpected error on string '</td>' <class 'lxml.etree.ParserError'>\n",
        "Unexpected error on string '</tr>' <class 'lxml.etree.ParserError'>\n",
        "Unexpected error on string '</table>' <class 'lxml.etree.ParserError'>\n",
        "Unexpected error on string '</td>' <class 'lxml.etree.ParserError'>\n",
        "Unexpected error on string '</tr>' <class 'lxml.etree.ParserError'>\n",
        "Unexpected error on string '</table>\n",
        "' <class 'lxml.etree.ParserError'>\n",
        "processed "
       ]
      },
      {
       "output_type": "stream",
       "stream": "stdout",
       "text": [
        " 481\n",
        "skipped  4\n",
        "553165338\n",
        "original article tmp file "
       ]
      },
      {
       "output_type": "stream",
       "stream": "stdout",
       "text": [
        " /tmp/tmp1GEJox.html\n",
        "/tmp/tmpKJaBWM.html\n",
        "/tmp/tmp1GEJox.html\n",
        "/tmp/tmp1GEJox.html\n",
        "Now open file:///tmp/tmpKJaBWM.html in your web browser\n"
       ]
      },
      {
       "output_type": "stream",
       "stream": "stdout",
       "text": [
        "\n",
        "processed "
       ]
      },
      {
       "output_type": "stream",
       "stream": "stdout",
       "text": [
        " 482\n",
        "skipped  4\n",
        "554883505\n",
        "original article tmp file "
       ]
      },
      {
       "output_type": "stream",
       "stream": "stdout",
       "text": [
        " /tmp/tmpQCQUuJ.html\n",
        "/tmp/tmpLdXRaw.html\n",
        "/tmp/tmpQCQUuJ.html\n",
        "/tmp/tmpQCQUuJ.html\n",
        "Now open file:///tmp/tmpLdXRaw.html in your web browser\n"
       ]
      },
      {
       "output_type": "stream",
       "stream": "stdout",
       "text": [
        "\n",
        "processed "
       ]
      },
      {
       "output_type": "stream",
       "stream": "stdout",
       "text": [
        " 483\n",
        "skipped  4\n",
        "555372352\n",
        "original article tmp file "
       ]
      },
      {
       "output_type": "stream",
       "stream": "stdout",
       "text": [
        " /tmp/tmpO_JOzg.html\n",
        "/tmp/tmpwRpMSD.html\n",
        "/tmp/tmpO_JOzg.html\n",
        "/tmp/tmpO_JOzg.html\n",
        "Now open file:///tmp/tmpwRpMSD.html in your web browser\n"
       ]
      },
      {
       "output_type": "stream",
       "stream": "stdout",
       "text": [
        "\n",
        "processed  484\n",
        "skipped  4\n",
        "555689825\n",
        "original article tmp file "
       ]
      },
      {
       "output_type": "stream",
       "stream": "stdout",
       "text": [
        " /tmp/tmpSqt0_D.html\n",
        "/tmp/tmphnjJMu.html\n",
        "/tmp/tmpSqt0_D.html\n",
        "/tmp/tmpSqt0_D.html\n",
        "Now open file:///tmp/tmphnjJMu.html in your web browser\n"
       ]
      },
      {
       "output_type": "stream",
       "stream": "stdout",
       "text": [
        "\n",
        "processed  485\n",
        "skipped  4\n",
        "555843132\n",
        "original article tmp file "
       ]
      },
      {
       "output_type": "stream",
       "stream": "stdout",
       "text": [
        " /tmp/tmpG73C6B.html\n",
        "/tmp/tmp9JPaiG.html\n",
        "/tmp/tmpG73C6B.html\n",
        "/tmp/tmpG73C6B.html\n",
        "Now open file:///tmp/tmp9JPaiG.html in your web browser\n"
       ]
      },
      {
       "output_type": "stream",
       "stream": "stdout",
       "text": [
        "\n",
        "processed "
       ]
      },
      {
       "output_type": "stream",
       "stream": "stdout",
       "text": [
        " 486\n",
        "skipped  4\n",
        "556645479\n",
        "original article tmp file "
       ]
      },
      {
       "output_type": "stream",
       "stream": "stdout",
       "text": [
        " /tmp/tmp6fptrp.html\n",
        "/tmp/tmpKsZIYV.html\n",
        "/tmp/tmp6fptrp.html\n",
        "/tmp/tmp6fptrp.html\n",
        "Now open file:///tmp/tmpKsZIYV.html in your web browser\n"
       ]
      },
      {
       "output_type": "stream",
       "stream": "stdout",
       "text": [
        "\n",
        "processed "
       ]
      },
      {
       "output_type": "stream",
       "stream": "stdout",
       "text": [
        " 487\n",
        "skipped  4\n",
        "556934454\n",
        "original article tmp file "
       ]
      },
      {
       "output_type": "stream",
       "stream": "stdout",
       "text": [
        " /tmp/tmpptZ6go.html\n",
        "/tmp/tmpIf0AYp.html\n",
        "/tmp/tmpptZ6go.html\n",
        "/tmp/tmpptZ6go.html\n",
        "Now open file:///tmp/tmpIf0AYp.html in your web browser\n"
       ]
      },
      {
       "output_type": "stream",
       "stream": "stdout",
       "text": [
        "\n",
        "processed "
       ]
      },
      {
       "output_type": "stream",
       "stream": "stdout",
       "text": [
        " 488\n",
        "skipped  4\n",
        "557152619\n",
        "original article tmp file "
       ]
      },
      {
       "output_type": "stream",
       "stream": "stdout",
       "text": [
        " /tmp/tmp364iYy.html\n",
        "/tmp/tmpvBn1co.html\n",
        "/tmp/tmp364iYy.html\n",
        "/tmp/tmp364iYy.html\n",
        "Now open file:///tmp/tmpvBn1co.html in your web browser\n"
       ]
      },
      {
       "output_type": "stream",
       "stream": "stdout",
       "text": [
        "\n",
        "processed  489\n",
        "skipped  4\n",
        "557237971\n",
        "original article tmp file "
       ]
      },
      {
       "output_type": "stream",
       "stream": "stdout",
       "text": [
        " /tmp/tmpFw0p_E.html\n",
        "/tmp/tmpeJS7dX.html\n",
        "/tmp/tmpFw0p_E.html\n",
        "/tmp/tmpFw0p_E.html\n",
        "Now open file:///tmp/tmpeJS7dX.html in your web browser\n"
       ]
      },
      {
       "output_type": "stream",
       "stream": "stdout",
       "text": [
        "\n",
        "processed  490\n",
        "skipped  4\n",
        "557521276\n",
        "original article tmp file "
       ]
      },
      {
       "output_type": "stream",
       "stream": "stdout",
       "text": [
        " /tmp/tmpytqWeR.html\n",
        "/tmp/tmpwb6fck.html\n",
        "/tmp/tmpytqWeR.html\n",
        "/tmp/tmpytqWeR.html\n",
        "Now open file:///tmp/tmpwb6fck.html in your web browser\n"
       ]
      },
      {
       "output_type": "stream",
       "stream": "stdout",
       "text": [
        "\n",
        "processed  491\n",
        "skipped  4\n",
        "558095303\n",
        "original article tmp file "
       ]
      },
      {
       "output_type": "stream",
       "stream": "stdout",
       "text": [
        " /tmp/tmp8oXk0i.html\n",
        "/tmp/tmpSAp__X.html\n",
        "/tmp/tmp8oXk0i.html\n",
        "/tmp/tmp8oXk0i.html\n",
        "Now open file:///tmp/tmpSAp__X.html in your web browser\n"
       ]
      },
      {
       "output_type": "stream",
       "stream": "stdout",
       "text": [
        "\n",
        "processed "
       ]
      },
      {
       "output_type": "stream",
       "stream": "stdout",
       "text": [
        " 492\n",
        "skipped  4\n",
        "558197649\n",
        "original article tmp file "
       ]
      },
      {
       "output_type": "stream",
       "stream": "stdout",
       "text": [
        " /tmp/tmpeRyVMi.html\n",
        "/tmp/tmpjT1ZwG.html\n",
        "/tmp/tmpeRyVMi.html\n",
        "/tmp/tmpeRyVMi.html\n",
        "Now open file:///tmp/tmpjT1ZwG.html in your web browser\n"
       ]
      },
      {
       "output_type": "stream",
       "stream": "stdout",
       "text": [
        "\n",
        "processed  493\n",
        "skipped  4\n",
        "558655687\n",
        "original article tmp file "
       ]
      },
      {
       "output_type": "stream",
       "stream": "stdout",
       "text": [
        " /tmp/tmpPUD05i.html\n",
        "/tmp/tmpRZlgNc.html\n",
        "/tmp/tmpPUD05i.html\n",
        "/tmp/tmpPUD05i.html\n",
        "Now open file:///tmp/tmpRZlgNc.html in your web browser\n"
       ]
      },
      {
       "output_type": "stream",
       "stream": "stdout",
       "text": [
        "\n",
        "processed  494\n",
        "skipped  4\n",
        "558851890\n",
        "original article tmp file "
       ]
      },
      {
       "output_type": "stream",
       "stream": "stdout",
       "text": [
        " /tmp/tmph_urhf.html\n",
        "/tmp/tmp2I3ezn.html\n",
        "/tmp/tmph_urhf.html\n",
        "/tmp/tmph_urhf.html\n",
        "Now open file:///tmp/tmp2I3ezn.html in your web browser\n"
       ]
      },
      {
       "output_type": "stream",
       "stream": "stdout",
       "text": [
        "\n",
        "processed  495\n",
        "skipped  4\n",
        "559736417\n",
        "original article tmp file "
       ]
      },
      {
       "output_type": "stream",
       "stream": "stdout",
       "text": [
        " /tmp/tmpffvL1m.html\n",
        "/tmp/tmpNx92cq.html\n",
        "/tmp/tmpffvL1m.html\n",
        "/tmp/tmpffvL1m.html\n",
        "Now open file:///tmp/tmpNx92cq.html in your web browser\n"
       ]
      },
      {
       "output_type": "stream",
       "stream": "stdout",
       "text": [
        "\n",
        "processed "
       ]
      },
      {
       "output_type": "stream",
       "stream": "stdout",
       "text": [
        " 496\n",
        "skipped  4\n",
        "559785151\n",
        "original article tmp file "
       ]
      },
      {
       "output_type": "stream",
       "stream": "stdout",
       "text": [
        " /tmp/tmpINTUHS.html\n",
        "/tmp/tmpfpSEPq.html\n",
        "/tmp/tmpINTUHS.html\n",
        "/tmp/tmpINTUHS.html\n",
        "Now open file:///tmp/tmpfpSEPq.html in your web browser\n"
       ]
      },
      {
       "output_type": "stream",
       "stream": "stdout",
       "text": [
        "\n",
        "processed  497\n",
        "skipped  4\n",
        "560048673\n",
        "original article tmp file "
       ]
      },
      {
       "output_type": "stream",
       "stream": "stdout",
       "text": [
        " /tmp/tmpqLARpx.html\n",
        "/tmp/tmp8_gbpy.html\n",
        "/tmp/tmpqLARpx.html\n",
        "/tmp/tmpqLARpx.html\n",
        "Now open file:///tmp/tmp8_gbpy.html in your web browser\n"
       ]
      },
      {
       "output_type": "stream",
       "stream": "stdout",
       "text": [
        "\n",
        "processed "
       ]
      },
      {
       "output_type": "stream",
       "stream": "stdout",
       "text": [
        " 498\n",
        "skipped  4\n",
        "560090309\n",
        "original article tmp file "
       ]
      },
      {
       "output_type": "stream",
       "stream": "stdout",
       "text": [
        " /tmp/tmpIxnXwf.html\n",
        "/tmp/tmpSQJ1YT.html\n",
        "/tmp/tmpIxnXwf.html\n",
        "/tmp/tmpIxnXwf.html\n",
        "Now open file:///tmp/tmpSQJ1YT.html in your web browser\n"
       ]
      },
      {
       "output_type": "stream",
       "stream": "stdout",
       "text": [
        "\n",
        "processed  499\n",
        "skipped  4\n",
        "560127916\n",
        "original article tmp file "
       ]
      },
      {
       "output_type": "stream",
       "stream": "stdout",
       "text": [
        " /tmp/tmpfU9u84.html\n",
        "/tmp/tmpPOEAez.html\n",
        "/tmp/tmpfU9u84.html\n",
        "/tmp/tmpfU9u84.html\n",
        "Now open file:///tmp/tmpPOEAez.html in your web browser\n"
       ]
      },
      {
       "output_type": "stream",
       "stream": "stdout",
       "text": [
        "\n",
        "processed  500\n",
        "skipped  4\n",
        "561368626\n",
        "original article tmp file "
       ]
      },
      {
       "output_type": "stream",
       "stream": "stdout",
       "text": [
        " /tmp/tmpy1Dp4Z.html\n",
        "/tmp/tmpOz6HY8.html\n",
        "/tmp/tmpy1Dp4Z.html\n",
        "/tmp/tmpy1Dp4Z.html\n",
        "Now open file:///tmp/tmpOz6HY8.html in your web browser\n"
       ]
      },
      {
       "output_type": "stream",
       "stream": "stdout",
       "text": [
        "\n",
        "processed "
       ]
      },
      {
       "output_type": "stream",
       "stream": "stdout",
       "text": [
        " 501\n",
        "skipped  4\n",
        "561800981\n",
        "original article tmp file "
       ]
      },
      {
       "output_type": "stream",
       "stream": "stdout",
       "text": [
        " /tmp/tmpZl_wHm.html\n",
        "/tmp/tmp4ZSJug.html\n",
        "/tmp/tmpZl_wHm.html\n",
        "/tmp/tmpZl_wHm.html\n",
        "Now open file:///tmp/tmp4ZSJug.html in your web browser\n"
       ]
      },
      {
       "output_type": "stream",
       "stream": "stdout",
       "text": [
        "\n",
        "processed "
       ]
      },
      {
       "output_type": "stream",
       "stream": "stdout",
       "text": [
        " 502\n",
        "skipped  4\n",
        "562073055\n",
        "original article tmp file "
       ]
      },
      {
       "output_type": "stream",
       "stream": "stdout",
       "text": [
        " /tmp/tmp9Mwxpg.html\n",
        "/tmp/tmp6ZzkUB.html\n",
        "/tmp/tmp9Mwxpg.html\n",
        "/tmp/tmp9Mwxpg.html\n",
        "Now open file:///tmp/tmp6ZzkUB.html in your web browser\n"
       ]
      },
      {
       "output_type": "stream",
       "stream": "stdout",
       "text": [
        "\n",
        "processed "
       ]
      },
      {
       "output_type": "stream",
       "stream": "stdout",
       "text": [
        " 503\n",
        "skipped  4\n",
        "562399059\n",
        "original article tmp file "
       ]
      },
      {
       "output_type": "stream",
       "stream": "stdout",
       "text": [
        " /tmp/tmpoPexrf.html\n",
        "/tmp/tmpkZs32C.html\n",
        "/tmp/tmpoPexrf.html\n",
        "/tmp/tmpoPexrf.html\n",
        "Now open file:///tmp/tmpkZs32C.html in your web browser\n"
       ]
      },
      {
       "output_type": "stream",
       "stream": "stdout",
       "text": [
        "\n",
        "Unexpected error on string '</a>\n",
        "' <class 'lxml.etree.ParserError'>\n",
        "Unexpected error on string '</p>\n",
        "' <class 'lxml.etree.ParserError'>\n",
        "Unexpected error on string '</div>\n",
        "' <class 'lxml.etree.ParserError'>\n",
        "Unexpected error on string '</a>\n",
        "' <class 'lxml.etree.ParserError'>\n",
        "Unexpected error on string '</a>' <class 'lxml.etree.ParserError'>\n",
        "Unexpected error on string '</h2>\n",
        "' <class 'lxml.etree.ParserError'>\n",
        "Unexpected error on string '</a>' <class 'lxml.etree.ParserError'>\n",
        "Unexpected error on string '</p>\n",
        "' <class 'lxml.etree.ParserError'>\n",
        "Unexpected error on string '</a>' <class 'lxml.etree.ParserError'>\n",
        "Unexpected error on string '</p>\n",
        "' <class 'lxml.etree.ParserError'>\n",
        "Unexpected error on string '</div>\n",
        "' <class 'lxml.etree.ParserError'>\n",
        "Unexpected error on string '</div>\n",
        "' <class 'lxml.etree.ParserError'>\n",
        "Unexpected error on string '</div>\n",
        "' <class 'lxml.etree.ParserError'>\n",
        "processed "
       ]
      },
      {
       "output_type": "stream",
       "stream": "stdout",
       "text": [
        " 504\n",
        "skipped  4\n",
        "562399486\n",
        "original article tmp file "
       ]
      },
      {
       "output_type": "stream",
       "stream": "stdout",
       "text": [
        " /tmp/tmpHP7hBN.html\n",
        "/tmp/tmpF9Trci.html\n",
        "/tmp/tmpHP7hBN.html\n",
        "/tmp/tmpHP7hBN.html\n",
        "Now open file:///tmp/tmpF9Trci.html in your web browser\n"
       ]
      },
      {
       "output_type": "stream",
       "stream": "stdout",
       "text": [
        "\n",
        "processed  505\n",
        "skipped  4\n",
        "562984785\n",
        "original article tmp file "
       ]
      },
      {
       "output_type": "stream",
       "stream": "stdout",
       "text": [
        " /tmp/tmprKVKnJ.html\n",
        "/tmp/tmpJGr6aT.html\n",
        "/tmp/tmprKVKnJ.html\n",
        "/tmp/tmprKVKnJ.html\n",
        "Now open file:///tmp/tmpJGr6aT.html in your web browser\n"
       ]
      },
      {
       "output_type": "stream",
       "stream": "stdout",
       "text": [
        "\n",
        "processed "
       ]
      },
      {
       "output_type": "stream",
       "stream": "stdout",
       "text": [
        " 506\n",
        "skipped  4\n",
        "563073521\n",
        "original article tmp file "
       ]
      },
      {
       "output_type": "stream",
       "stream": "stdout",
       "text": [
        " /tmp/tmpgdr6Do.html\n",
        "/tmp/tmpTQEcrd.html\n",
        "/tmp/tmpgdr6Do.html\n",
        "/tmp/tmpgdr6Do.html\n",
        "Now open file:///tmp/tmpTQEcrd.html in your web browser\n"
       ]
      },
      {
       "output_type": "stream",
       "stream": "stdout",
       "text": [
        "\n",
        "processed  507\n",
        "skipped  4\n",
        "563250031\n",
        "original article tmp file "
       ]
      },
      {
       "output_type": "stream",
       "stream": "stdout",
       "text": [
        " /tmp/tmpSf8JLy.html\n",
        "/tmp/tmp5TaAi4.html\n",
        "/tmp/tmpSf8JLy.html\n",
        "/tmp/tmpSf8JLy.html\n",
        "Now open file:///tmp/tmp5TaAi4.html in your web browser\n"
       ]
      },
      {
       "output_type": "stream",
       "stream": "stdout",
       "text": [
        "\n",
        "processed  508\n",
        "skipped  4\n",
        "563556588\n",
        "original article tmp file "
       ]
      },
      {
       "output_type": "stream",
       "stream": "stdout",
       "text": [
        " /tmp/tmpmnEU2g.html\n",
        "/tmp/tmpiee6yy.html\n",
        "/tmp/tmpmnEU2g.html\n",
        "/tmp/tmpmnEU2g.html\n",
        "Now open file:///tmp/tmpiee6yy.html in your web browser\n"
       ]
      },
      {
       "output_type": "stream",
       "stream": "stdout",
       "text": [
        "\n",
        "processed  509\n",
        "skipped  4\n",
        "563582892\n",
        "original article tmp file "
       ]
      },
      {
       "output_type": "stream",
       "stream": "stdout",
       "text": [
        " /tmp/tmpb5v132.html\n",
        "/tmp/tmpoI3yej.html\n",
        "/tmp/tmpb5v132.html\n",
        "/tmp/tmpb5v132.html\n",
        "Now open file:///tmp/tmpoI3yej.html in your web browser\n"
       ]
      },
      {
       "output_type": "stream",
       "stream": "stdout",
       "text": [
        "\n",
        "processed "
       ]
      },
      {
       "output_type": "stream",
       "stream": "stdout",
       "text": [
        " 510\n",
        "skipped  4\n",
        "563851373\n",
        "original article tmp file "
       ]
      },
      {
       "output_type": "stream",
       "stream": "stdout",
       "text": [
        " /tmp/tmpTHhJST.html\n",
        "/tmp/tmpp6eyxh.html\n",
        "/tmp/tmpTHhJST.html\n",
        "/tmp/tmpTHhJST.html\n",
        "Now open file:///tmp/tmpp6eyxh.html in your web browser\n"
       ]
      },
      {
       "output_type": "stream",
       "stream": "stdout",
       "text": [
        "\n",
        "processed  511\n",
        "skipped  4\n",
        "564075589\n",
        "original article tmp file "
       ]
      },
      {
       "output_type": "stream",
       "stream": "stdout",
       "text": [
        " /tmp/tmpBJsre3.html\n",
        "/tmp/tmppDRrUA.html\n",
        "/tmp/tmpBJsre3.html\n",
        "/tmp/tmpBJsre3.html\n",
        "Now open file:///tmp/tmppDRrUA.html in your web browser\n"
       ]
      },
      {
       "output_type": "stream",
       "stream": "stdout",
       "text": [
        "\n",
        "processed  512\n",
        "skipped  4\n",
        "564196161\n",
        "original article tmp file "
       ]
      },
      {
       "output_type": "stream",
       "stream": "stdout",
       "text": [
        " /tmp/tmpqyiUNJ.html\n",
        "/tmp/tmpC9dIyh.html\n",
        "/tmp/tmpqyiUNJ.html\n",
        "/tmp/tmpqyiUNJ.html\n",
        "Now open file:///tmp/tmpC9dIyh.html in your web browser\n"
       ]
      },
      {
       "output_type": "stream",
       "stream": "stdout",
       "text": [
        "\n",
        "Unexpected error on string '</a>\n",
        "' <class 'lxml.etree.ParserError'>\n",
        "Unexpected error on string '</p>\n",
        "' <class 'lxml.etree.ParserError'>\n",
        "Unexpected error on string '</div>\n",
        "' <class 'lxml.etree.ParserError'>\n",
        "Unexpected error on string '</a>\n",
        "' <class 'lxml.etree.ParserError'>\n",
        "Unexpected error on string '</a>' <class 'lxml.etree.ParserError'>\n",
        "Unexpected error on string '</h2>\n",
        "' <class 'lxml.etree.ParserError'>\n",
        "Unexpected error on string '</a>' <class 'lxml.etree.ParserError'>\n",
        "Unexpected error on string '</p>\n",
        "' <class 'lxml.etree.ParserError'>\n",
        "Unexpected error on string '</a>' <class 'lxml.etree.ParserError'>\n",
        "Unexpected error on string '</p>\n",
        "' <class 'lxml.etree.ParserError'>\n",
        "Unexpected error on string '</div>\n",
        "' <class 'lxml.etree.ParserError'>\n",
        "Unexpected error on string '</div>\n",
        "' <class 'lxml.etree.ParserError'>\n",
        "Unexpected error on string '</div>\n",
        "' <class 'lxml.etree.ParserError'>\n",
        "processed  513\n",
        "skipped  4\n",
        "564418488\n",
        "original article tmp file "
       ]
      },
      {
       "output_type": "stream",
       "stream": "stdout",
       "text": [
        " /tmp/tmpcMF_SL.html\n",
        "/tmp/tmpgUvZiI.html\n",
        "/tmp/tmpcMF_SL.html\n",
        "/tmp/tmpcMF_SL.html\n",
        "Now open file:///tmp/tmpgUvZiI.html in your web browser\n"
       ]
      },
      {
       "output_type": "stream",
       "stream": "stdout",
       "text": [
        "\n",
        "processed  514\n",
        "skipped  4\n",
        "564457008\n",
        "original article tmp file "
       ]
      },
      {
       "output_type": "stream",
       "stream": "stdout",
       "text": [
        " /tmp/tmppQHJiQ.html\n",
        "/tmp/tmpA_HLc9.html\n",
        "/tmp/tmppQHJiQ.html\n",
        "/tmp/tmppQHJiQ.html\n",
        "Now open file:///tmp/tmpA_HLc9.html in your web browser\n"
       ]
      },
      {
       "output_type": "stream",
       "stream": "stdout",
       "text": [
        "\n",
        "processed  515\n",
        "skipped  4\n",
        "565254169\n",
        "original article tmp file "
       ]
      },
      {
       "output_type": "stream",
       "stream": "stdout",
       "text": [
        " /tmp/tmpYhdVfF.html\n",
        "/tmp/tmpdTuWOj.html\n",
        "/tmp/tmpYhdVfF.html\n",
        "/tmp/tmpYhdVfF.html\n",
        "Now open file:///tmp/tmpdTuWOj.html in your web browser\n"
       ]
      },
      {
       "output_type": "stream",
       "stream": "stdout",
       "text": [
        "\n",
        "processed "
       ]
      },
      {
       "output_type": "stream",
       "stream": "stdout",
       "text": [
        " 516\n",
        "skipped  4\n",
        "565270689\n",
        "original article tmp file "
       ]
      },
      {
       "output_type": "stream",
       "stream": "stdout",
       "text": [
        " /tmp/tmpDO6tOx.html\n",
        "/tmp/tmpsZDzp1.html\n",
        "/tmp/tmpDO6tOx.html\n",
        "/tmp/tmpDO6tOx.html\n",
        "Now open file:///tmp/tmpsZDzp1.html in your web browser\n"
       ]
      },
      {
       "output_type": "stream",
       "stream": "stdout",
       "text": [
        "\n",
        "processed  517\n",
        "skipped  4\n",
        "565612572\n",
        "original article tmp file "
       ]
      },
      {
       "output_type": "stream",
       "stream": "stdout",
       "text": [
        " /tmp/tmpsiw3xr.html\n",
        "/tmp/tmpFwA1AF.html\n",
        "/tmp/tmpsiw3xr.html\n",
        "/tmp/tmpsiw3xr.html\n",
        "Now open file:///tmp/tmpFwA1AF.html in your web browser\n"
       ]
      },
      {
       "output_type": "stream",
       "stream": "stdout",
       "text": [
        "\n",
        "processed "
       ]
      },
      {
       "output_type": "stream",
       "stream": "stdout",
       "text": [
        " 518\n",
        "skipped  4\n",
        "565831221\n",
        "original article tmp file "
       ]
      },
      {
       "output_type": "stream",
       "stream": "stdout",
       "text": [
        " /tmp/tmpEde6OP.html\n",
        "/tmp/tmpBSz1uH.html\n",
        "/tmp/tmpEde6OP.html\n",
        "/tmp/tmpEde6OP.html\n",
        "Now open file:///tmp/tmpBSz1uH.html in your web browser\n"
       ]
      },
      {
       "output_type": "stream",
       "stream": "stdout",
       "text": [
        "\n",
        "processed  519\n",
        "skipped  4\n",
        "567201539\n",
        "original article tmp file "
       ]
      },
      {
       "output_type": "stream",
       "stream": "stdout",
       "text": [
        " /tmp/tmp8lyrcz.html\n",
        "/tmp/tmpIDne_E.html\n",
        "/tmp/tmp8lyrcz.html\n",
        "/tmp/tmp8lyrcz.html\n",
        "Now open file:///tmp/tmpIDne_E.html in your web browser\n"
       ]
      },
      {
       "output_type": "stream",
       "stream": "stdout",
       "text": [
        "\n",
        "processed "
       ]
      },
      {
       "output_type": "stream",
       "stream": "stdout",
       "text": [
        " 520\n",
        "skipped  4\n",
        "567440968\n",
        "original article tmp file "
       ]
      },
      {
       "output_type": "stream",
       "stream": "stdout",
       "text": [
        " /tmp/tmpLkwAAX.html\n",
        "/tmp/tmpxp29vV.html\n",
        "/tmp/tmpLkwAAX.html\n",
        "/tmp/tmpLkwAAX.html\n",
        "Now open file:///tmp/tmpxp29vV.html in your web browser\n"
       ]
      },
      {
       "output_type": "stream",
       "stream": "stdout",
       "text": [
        "\n",
        "processed  521\n",
        "skipped  4\n",
        "567706084\n",
        "original article tmp file "
       ]
      },
      {
       "output_type": "stream",
       "stream": "stdout",
       "text": [
        " /tmp/tmpUENLJe.html\n",
        "/tmp/tmpNnWmB9.html\n",
        "/tmp/tmpUENLJe.html\n",
        "/tmp/tmpUENLJe.html\n",
        "Now open file:///tmp/tmpNnWmB9.html in your web browser\n"
       ]
      },
      {
       "output_type": "stream",
       "stream": "stdout",
       "text": [
        "\n",
        "processed "
       ]
      },
      {
       "output_type": "stream",
       "stream": "stdout",
       "text": [
        " 522\n",
        "skipped  4\n",
        "567808993\n",
        "error on download567808993"
       ]
      },
      {
       "output_type": "stream",
       "stream": "stdout",
       "text": [
        "\n",
        "processed  522\n",
        "skipped  5\n",
        "568058112\n",
        "original article tmp file "
       ]
      },
      {
       "output_type": "stream",
       "stream": "stdout",
       "text": [
        " /tmp/tmpcM8f5R.html\n",
        "/tmp/tmpogaTlI.html\n",
        "/tmp/tmpcM8f5R.html\n",
        "/tmp/tmpcM8f5R.html\n",
        "Now open file:///tmp/tmpogaTlI.html in your web browser\n"
       ]
      },
      {
       "output_type": "stream",
       "stream": "stdout",
       "text": [
        "\n",
        "processed "
       ]
      },
      {
       "output_type": "stream",
       "stream": "stdout",
       "text": [
        " 523\n",
        "skipped  5\n",
        "568220153\n",
        "original article tmp file "
       ]
      },
      {
       "output_type": "stream",
       "stream": "stdout",
       "text": [
        " /tmp/tmp1YU4fz.html\n",
        "/tmp/tmpqah3TP.html\n",
        "/tmp/tmp1YU4fz.html\n",
        "/tmp/tmp1YU4fz.html\n",
        "Now open file:///tmp/tmpqah3TP.html in your web browser\n"
       ]
      },
      {
       "output_type": "stream",
       "stream": "stdout",
       "text": [
        "\n",
        "processed "
       ]
      },
      {
       "output_type": "stream",
       "stream": "stdout",
       "text": [
        " 524\n",
        "skipped  5\n",
        "568278639\n",
        "original article tmp file "
       ]
      },
      {
       "output_type": "stream",
       "stream": "stdout",
       "text": [
        " /tmp/tmp6yTxMK.html\n",
        "/tmp/tmpBBt_Kd.html\n",
        "/tmp/tmp6yTxMK.html\n",
        "/tmp/tmp6yTxMK.html\n",
        "Now open file:///tmp/tmpBBt_Kd.html in your web browser\n"
       ]
      },
      {
       "output_type": "stream",
       "stream": "stdout",
       "text": [
        "\n",
        "processed "
       ]
      },
      {
       "output_type": "stream",
       "stream": "stdout",
       "text": [
        " 525\n",
        "skipped  5\n",
        "568405515\n",
        "original article tmp file "
       ]
      },
      {
       "output_type": "stream",
       "stream": "stdout",
       "text": [
        " /tmp/tmpI9Hipe.html\n",
        "/tmp/tmpNrrOoR.html\n",
        "/tmp/tmpI9Hipe.html\n",
        "/tmp/tmpI9Hipe.html\n",
        "Now open file:///tmp/tmpNrrOoR.html in your web browser\n"
       ]
      },
      {
       "output_type": "stream",
       "stream": "stdout",
       "text": [
        "\n",
        "processed "
       ]
      },
      {
       "output_type": "stream",
       "stream": "stdout",
       "text": [
        " 526\n",
        "skipped  5\n",
        "568873296\n",
        "original article tmp file "
       ]
      },
      {
       "output_type": "stream",
       "stream": "stdout",
       "text": [
        " /tmp/tmpbfqBy_.html\n",
        "/tmp/tmpmFT1s4.html\n",
        "/tmp/tmpbfqBy_.html\n",
        "/tmp/tmpbfqBy_.html\n",
        "Now open file:///tmp/tmpmFT1s4.html in your web browser\n"
       ]
      },
      {
       "output_type": "stream",
       "stream": "stdout",
       "text": [
        "\n",
        "processed  527\n",
        "skipped  5\n",
        "569385275\n",
        "original article tmp file "
       ]
      },
      {
       "output_type": "stream",
       "stream": "stdout",
       "text": [
        " /tmp/tmpJcxxzr.html\n",
        "/tmp/tmpJtICA2.html\n",
        "/tmp/tmpJcxxzr.html\n",
        "/tmp/tmpJcxxzr.html\n",
        "Now open file:///tmp/tmpJtICA2.html in your web browser\n"
       ]
      },
      {
       "output_type": "stream",
       "stream": "stdout",
       "text": [
        "\n",
        "processed "
       ]
      },
      {
       "output_type": "stream",
       "stream": "stdout",
       "text": [
        " 528\n",
        "skipped  5\n",
        "569400896\n",
        "original article tmp file "
       ]
      },
      {
       "output_type": "stream",
       "stream": "stdout",
       "text": [
        " /tmp/tmpyKQBF6.html\n",
        "/tmp/tmpcbsVb5.html\n",
        "/tmp/tmpyKQBF6.html\n",
        "/tmp/tmpyKQBF6.html\n",
        "Now open file:///tmp/tmpcbsVb5.html in your web browser\n"
       ]
      },
      {
       "output_type": "stream",
       "stream": "stdout",
       "text": [
        "\n",
        "processed "
       ]
      },
      {
       "output_type": "stream",
       "stream": "stdout",
       "text": [
        " 529\n",
        "skipped  5\n",
        "569440622\n",
        "original article tmp file "
       ]
      },
      {
       "output_type": "stream",
       "stream": "stdout",
       "text": [
        " /tmp/tmpVhNUEh.html\n",
        "/tmp/tmp38CKgE.html\n",
        "/tmp/tmpVhNUEh.html\n",
        "/tmp/tmpVhNUEh.html\n",
        "Now open file:///tmp/tmp38CKgE.html in your web browser\n"
       ]
      },
      {
       "output_type": "stream",
       "stream": "stdout",
       "text": [
        "\n",
        "processed "
       ]
      },
      {
       "output_type": "stream",
       "stream": "stdout",
       "text": [
        " 530\n",
        "skipped  5\n",
        "569448540\n",
        "original article tmp file "
       ]
      },
      {
       "output_type": "stream",
       "stream": "stdout",
       "text": [
        " /tmp/tmppO5Ehy.html\n",
        "/tmp/tmpEVuuXt.html\n",
        "/tmp/tmppO5Ehy.html\n",
        "/tmp/tmppO5Ehy.html\n",
        "Now open file:///tmp/tmpEVuuXt.html in your web browser\n"
       ]
      },
      {
       "output_type": "stream",
       "stream": "stdout",
       "text": [
        "\n",
        "processed  531\n",
        "skipped  5\n",
        "569458361\n",
        "original article tmp file "
       ]
      },
      {
       "output_type": "stream",
       "stream": "stdout",
       "text": [
        " /tmp/tmpvLPyjF.html\n",
        "/tmp/tmpxOl69O.html\n",
        "/tmp/tmpvLPyjF.html\n",
        "/tmp/tmpvLPyjF.html\n",
        "Now open file:///tmp/tmpxOl69O.html in your web browser\n"
       ]
      },
      {
       "output_type": "stream",
       "stream": "stdout",
       "text": [
        "\n",
        "processed  532\n",
        "skipped  5\n",
        "569473458\n",
        "original article tmp file "
       ]
      },
      {
       "output_type": "stream",
       "stream": "stdout",
       "text": [
        " /tmp/tmp8VbKCU.html\n",
        "/tmp/tmpMKvmyY.html\n",
        "/tmp/tmp8VbKCU.html\n",
        "/tmp/tmp8VbKCU.html\n",
        "Now open file:///tmp/tmpMKvmyY.html in your web browser\n"
       ]
      },
      {
       "output_type": "stream",
       "stream": "stdout",
       "text": [
        "\n",
        "processed  533\n",
        "skipped  5\n",
        "570126417\n",
        "original article tmp file "
       ]
      },
      {
       "output_type": "stream",
       "stream": "stdout",
       "text": [
        " /tmp/tmpCqeGEB.html\n",
        "/tmp/tmpNGywZJ.html\n",
        "/tmp/tmpCqeGEB.html\n",
        "/tmp/tmpCqeGEB.html\n",
        "Now open file:///tmp/tmpNGywZJ.html in your web browser\n"
       ]
      },
      {
       "output_type": "stream",
       "stream": "stdout",
       "text": [
        "\n",
        "processed  534\n",
        "skipped  5\n",
        "570281609\n",
        "original article tmp file "
       ]
      },
      {
       "output_type": "stream",
       "stream": "stdout",
       "text": [
        " /tmp/tmpXkq9kk.html\n",
        "/tmp/tmpN2PMyb.html\n",
        "/tmp/tmpXkq9kk.html\n",
        "/tmp/tmpXkq9kk.html\n",
        "Now open file:///tmp/tmpN2PMyb.html in your web browser\n"
       ]
      },
      {
       "output_type": "stream",
       "stream": "stdout",
       "text": [
        "\n",
        "processed  535\n",
        "skipped  5\n",
        "570420066\n",
        "original article tmp file "
       ]
      },
      {
       "output_type": "stream",
       "stream": "stdout",
       "text": [
        " /tmp/tmpmr4FPE.html\n",
        "/tmp/tmpom_wB1.html\n",
        "/tmp/tmpmr4FPE.html\n",
        "/tmp/tmpmr4FPE.html\n",
        "Now open file:///tmp/tmpom_wB1.html in your web browser\n"
       ]
      },
      {
       "output_type": "stream",
       "stream": "stdout",
       "text": [
        "\n",
        "Unexpected error on string '</a>\n",
        "' <class 'lxml.etree.ParserError'>\n",
        "Unexpected error on string '</p>\n",
        "' <class 'lxml.etree.ParserError'>\n",
        "Unexpected error on string '</div>\n",
        "' <class 'lxml.etree.ParserError'>\n",
        "Unexpected error on string '</a>\n",
        "' <class 'lxml.etree.ParserError'>\n",
        "Unexpected error on string '</a>' <class 'lxml.etree.ParserError'>\n",
        "Unexpected error on string '</h2>\n",
        "' <class 'lxml.etree.ParserError'>\n",
        "Unexpected error on string '</a>' <class 'lxml.etree.ParserError'>\n",
        "Unexpected error on string '</p>\n",
        "' <class 'lxml.etree.ParserError'>\n",
        "Unexpected error on string '</a>' <class 'lxml.etree.ParserError'>\n",
        "Unexpected error on string '</p>\n",
        "' <class 'lxml.etree.ParserError'>\n",
        "Unexpected error on string '</div>\n",
        "' <class 'lxml.etree.ParserError'>\n",
        "Unexpected error on string '</div>\n",
        "' <class 'lxml.etree.ParserError'>\n",
        "Unexpected error on string '</div>\n",
        "' <class 'lxml.etree.ParserError'>\n",
        "processed  536\n",
        "skipped  5\n",
        "570820516\n",
        "original article tmp file "
       ]
      },
      {
       "output_type": "stream",
       "stream": "stdout",
       "text": [
        " /tmp/tmpD210EZ.html\n",
        "/tmp/tmplxJb61.html\n",
        "/tmp/tmpD210EZ.html\n",
        "/tmp/tmpD210EZ.html\n",
        "Now open file:///tmp/tmplxJb61.html in your web browser\n"
       ]
      },
      {
       "output_type": "stream",
       "stream": "stdout",
       "text": [
        "\n",
        "processed  537\n",
        "skipped  5\n",
        "571250692\n",
        "original article tmp file "
       ]
      },
      {
       "output_type": "stream",
       "stream": "stdout",
       "text": [
        " /tmp/tmp3DiYUJ.html\n",
        "/tmp/tmpV9vKY1.html\n",
        "/tmp/tmp3DiYUJ.html\n",
        "/tmp/tmp3DiYUJ.html\n",
        "Now open file:///tmp/tmpV9vKY1.html in your web browser\n"
       ]
      },
      {
       "output_type": "stream",
       "stream": "stdout",
       "text": [
        "\n",
        "processed "
       ]
      },
      {
       "output_type": "stream",
       "stream": "stdout",
       "text": [
        " 538\n",
        "skipped  5\n",
        "572427751\n",
        "original article tmp file "
       ]
      },
      {
       "output_type": "stream",
       "stream": "stdout",
       "text": [
        " /tmp/tmp9scrQU.html\n",
        "/tmp/tmpyAEf88.html\n",
        "/tmp/tmp9scrQU.html\n",
        "/tmp/tmp9scrQU.html\n",
        "Now open file:///tmp/tmpyAEf88.html in your web browser\n"
       ]
      },
      {
       "output_type": "stream",
       "stream": "stdout",
       "text": [
        "\n",
        "processed "
       ]
      },
      {
       "output_type": "stream",
       "stream": "stdout",
       "text": [
        " 539\n",
        "skipped  5\n",
        "572497331\n",
        "original article tmp file "
       ]
      },
      {
       "output_type": "stream",
       "stream": "stdout",
       "text": [
        " /tmp/tmpkpf_OE.html\n",
        "/tmp/tmpzQdW9S.html\n",
        "/tmp/tmpkpf_OE.html\n",
        "/tmp/tmpkpf_OE.html\n",
        "Now open file:///tmp/tmpzQdW9S.html in your web browser\n"
       ]
      },
      {
       "output_type": "stream",
       "stream": "stdout",
       "text": [
        "\n",
        "processed  540\n",
        "skipped  5\n",
        "572595598\n",
        "original article tmp file "
       ]
      },
      {
       "output_type": "stream",
       "stream": "stdout",
       "text": [
        " /tmp/tmpuCk7yj.html\n",
        "/tmp/tmpSor0bz.html\n",
        "/tmp/tmpuCk7yj.html\n",
        "/tmp/tmpuCk7yj.html\n",
        "Now open file:///tmp/tmpSor0bz.html in your web browser\n"
       ]
      },
      {
       "output_type": "stream",
       "stream": "stdout",
       "text": [
        "\n",
        "processed "
       ]
      },
      {
       "output_type": "stream",
       "stream": "stdout",
       "text": [
        " 541\n",
        "skipped  5\n",
        "589072496\n",
        "original article tmp file "
       ]
      },
      {
       "output_type": "stream",
       "stream": "stdout",
       "text": [
        " /tmp/tmp6HDQOb.html\n",
        "/tmp/tmpQt1KVe.html\n",
        "/tmp/tmp6HDQOb.html\n",
        "/tmp/tmp6HDQOb.html\n",
        "Now open file:///tmp/tmpQt1KVe.html in your web browser\n"
       ]
      },
      {
       "output_type": "stream",
       "stream": "stdout",
       "text": [
        "\n",
        "processed  542\n",
        "skipped  5\n",
        "589074541\n",
        "original article tmp file "
       ]
      },
      {
       "output_type": "stream",
       "stream": "stdout",
       "text": [
        " /tmp/tmpIiCIEa.html\n",
        "/tmp/tmpoB7ohk.html\n",
        "/tmp/tmpIiCIEa.html\n",
        "/tmp/tmpIiCIEa.html\n",
        "Now open file:///tmp/tmpoB7ohk.html in your web browser\n"
       ]
      },
      {
       "output_type": "stream",
       "stream": "stdout",
       "text": [
        "\n",
        "processed  543\n",
        "skipped  5\n",
        "589074546\n",
        "original article tmp file "
       ]
      },
      {
       "output_type": "stream",
       "stream": "stdout",
       "text": [
        " /tmp/tmpVZDtnN.html\n",
        "/tmp/tmp2exr1u.html\n",
        "/tmp/tmpVZDtnN.html\n",
        "/tmp/tmpVZDtnN.html\n",
        "Now open file:///tmp/tmp2exr1u.html in your web browser\n"
       ]
      },
      {
       "output_type": "stream",
       "stream": "stdout",
       "text": [
        "\n",
        "processed  544\n",
        "skipped  5\n",
        "589088428\n",
        "original article tmp file "
       ]
      },
      {
       "output_type": "stream",
       "stream": "stdout",
       "text": [
        " /tmp/tmpQCWyPj.html\n",
        "/tmp/tmpRW7ukG.html\n",
        "/tmp/tmpQCWyPj.html\n",
        "/tmp/tmpQCWyPj.html\n",
        "Now open file:///tmp/tmpRW7ukG.html in your web browser\n"
       ]
      },
      {
       "output_type": "stream",
       "stream": "stdout",
       "text": [
        "\n",
        "processed "
       ]
      },
      {
       "output_type": "stream",
       "stream": "stdout",
       "text": [
        " 545\n",
        "skipped  5\n",
        "589089635\n",
        "original article tmp file "
       ]
      },
      {
       "output_type": "stream",
       "stream": "stdout",
       "text": [
        " /tmp/tmpuzHU98.html\n",
        "/tmp/tmpWiqr8N.html\n",
        "/tmp/tmpuzHU98.html\n",
        "/tmp/tmpuzHU98.html\n",
        "Now open file:///tmp/tmpWiqr8N.html in your web browser\n"
       ]
      },
      {
       "output_type": "stream",
       "stream": "stdout",
       "text": [
        "\n",
        "processed  546\n",
        "skipped  5\n",
        "589090828\n",
        "original article tmp file "
       ]
      },
      {
       "output_type": "stream",
       "stream": "stdout",
       "text": [
        " /tmp/tmpQF8UBM.html\n",
        "/tmp/tmpgBIido.html\n",
        "/tmp/tmpQF8UBM.html\n",
        "/tmp/tmpQF8UBM.html\n",
        "Now open file:///tmp/tmpgBIido.html in your web browser\n"
       ]
      },
      {
       "output_type": "stream",
       "stream": "stdout",
       "text": [
        "\n",
        "processed "
       ]
      },
      {
       "output_type": "stream",
       "stream": "stdout",
       "text": [
        " 547\n",
        "skipped  5\n",
        "589116902\n",
        "original article tmp file "
       ]
      },
      {
       "output_type": "stream",
       "stream": "stdout",
       "text": [
        " /tmp/tmpKUgigO.html\n",
        "/tmp/tmpJreTk4.html\n",
        "/tmp/tmpKUgigO.html\n",
        "/tmp/tmpKUgigO.html\n",
        "Now open file:///tmp/tmpJreTk4.html in your web browser\n"
       ]
      },
      {
       "output_type": "stream",
       "stream": "stdout",
       "text": [
        "\n",
        "processed  548\n",
        "skipped  5\n",
        "589116915\n",
        "original article tmp file "
       ]
      },
      {
       "output_type": "stream",
       "stream": "stdout",
       "text": [
        " /tmp/tmpDH4lDz.html\n",
        "/tmp/tmpEDrEIv.html\n",
        "/tmp/tmpDH4lDz.html\n",
        "/tmp/tmpDH4lDz.html\n",
        "Now open file:///tmp/tmpEDrEIv.html in your web browser\n"
       ]
      },
      {
       "output_type": "stream",
       "stream": "stdout",
       "text": [
        "\n",
        "processed  549\n",
        "skipped  5\n",
        "589129653\n",
        "original article tmp file "
       ]
      },
      {
       "output_type": "stream",
       "stream": "stdout",
       "text": [
        " /tmp/tmp6bxq3Q.html\n",
        "/tmp/tmpg2QRI9.html\n",
        "/tmp/tmp6bxq3Q.html\n",
        "/tmp/tmp6bxq3Q.html\n",
        "Now open file:///tmp/tmpg2QRI9.html in your web browser\n"
       ]
      },
      {
       "output_type": "stream",
       "stream": "stdout",
       "text": [
        "\n",
        "processed "
       ]
      },
      {
       "output_type": "stream",
       "stream": "stdout",
       "text": [
        " 550\n",
        "skipped  5\n",
        "589153423\n",
        "original article tmp file "
       ]
      },
      {
       "output_type": "stream",
       "stream": "stdout",
       "text": [
        " /tmp/tmpJ3ospA.html\n",
        "/tmp/tmpfSCCqw.html\n",
        "/tmp/tmpJ3ospA.html\n",
        "/tmp/tmpJ3ospA.html\n",
        "Now open file:///tmp/tmpfSCCqw.html in your web browser\n"
       ]
      },
      {
       "output_type": "stream",
       "stream": "stdout",
       "text": [
        "\n",
        "processed  551\n",
        "skipped  5\n",
        "589156380\n",
        "original article tmp file "
       ]
      },
      {
       "output_type": "stream",
       "stream": "stdout",
       "text": [
        " /tmp/tmpEuRbTE.html\n",
        "/tmp/tmp_EIGlC.html\n",
        "/tmp/tmpEuRbTE.html\n",
        "/tmp/tmpEuRbTE.html\n",
        "Now open file:///tmp/tmp_EIGlC.html in your web browser\n"
       ]
      },
      {
       "output_type": "stream",
       "stream": "stdout",
       "text": [
        "\n",
        "processed  552\n",
        "skipped  5\n",
        "589208129\n",
        "original article tmp file "
       ]
      },
      {
       "output_type": "stream",
       "stream": "stdout",
       "text": [
        " /tmp/tmp_dIHlW.html\n",
        "/tmp/tmpWx1PMS.html\n",
        "/tmp/tmp_dIHlW.html\n",
        "/tmp/tmp_dIHlW.html\n",
        "Now open file:///tmp/tmpWx1PMS.html in your web browser\n"
       ]
      },
      {
       "output_type": "stream",
       "stream": "stdout",
       "text": [
        "\n",
        "processed  553\n",
        "skipped  5\n",
        "589213448\n",
        "original article tmp file "
       ]
      },
      {
       "output_type": "stream",
       "stream": "stdout",
       "text": [
        " /tmp/tmpNDQJwR.html\n",
        "/tmp/tmpz8EFY4.html\n",
        "/tmp/tmpNDQJwR.html\n",
        "/tmp/tmpNDQJwR.html\n",
        "Now open file:///tmp/tmpz8EFY4.html in your web browser\n"
       ]
      },
      {
       "output_type": "stream",
       "stream": "stdout",
       "text": [
        "\n",
        "processed  554\n",
        "skipped  5\n",
        "589213994\n",
        "original article tmp file "
       ]
      },
      {
       "output_type": "stream",
       "stream": "stdout",
       "text": [
        " /tmp/tmpf7HJ1e.html\n",
        "/tmp/tmpqpFhjC.html\n",
        "/tmp/tmpf7HJ1e.html\n",
        "/tmp/tmpf7HJ1e.html\n",
        "Now open file:///tmp/tmpqpFhjC.html in your web browser\n"
       ]
      },
      {
       "output_type": "stream",
       "stream": "stdout",
       "text": [
        "\n",
        "processed  555\n",
        "skipped  5\n",
        "589224922\n",
        "original article tmp file "
       ]
      },
      {
       "output_type": "stream",
       "stream": "stdout",
       "text": [
        " /tmp/tmp4MRETS.html\n",
        "/tmp/tmps4nAXk.html\n",
        "/tmp/tmp4MRETS.html\n",
        "/tmp/tmp4MRETS.html\n",
        "Now open file:///tmp/tmps4nAXk.html in your web browser\n"
       ]
      },
      {
       "output_type": "stream",
       "stream": "stdout",
       "text": [
        "\n",
        "processed "
       ]
      },
      {
       "output_type": "stream",
       "stream": "stdout",
       "text": [
        " 556\n",
        "skipped  5\n",
        "589225296\n",
        "original article tmp file "
       ]
      },
      {
       "output_type": "stream",
       "stream": "stdout",
       "text": [
        " /tmp/tmpF9zyfi.html\n",
        "/tmp/tmpP7oLbV.html\n",
        "/tmp/tmpF9zyfi.html\n",
        "/tmp/tmpF9zyfi.html\n",
        "Now open file:///tmp/tmpP7oLbV.html in your web browser\n"
       ]
      },
      {
       "output_type": "stream",
       "stream": "stdout",
       "text": [
        "\n",
        "processed "
       ]
      },
      {
       "output_type": "stream",
       "stream": "stdout",
       "text": [
        " 557\n",
        "skipped  5\n",
        "589239170\n",
        "original article tmp file "
       ]
      },
      {
       "output_type": "stream",
       "stream": "stdout",
       "text": [
        " /tmp/tmpcY4Ucb.html\n",
        "/tmp/tmpaew61o.html\n",
        "/tmp/tmpcY4Ucb.html\n",
        "/tmp/tmpcY4Ucb.html\n",
        "Now open file:///tmp/tmpaew61o.html in your web browser\n"
       ]
      },
      {
       "output_type": "stream",
       "stream": "stdout",
       "text": [
        "\n",
        "processed "
       ]
      },
      {
       "output_type": "stream",
       "stream": "stdout",
       "text": [
        " 558\n",
        "skipped  5\n",
        "589240076\n",
        "original article tmp file "
       ]
      },
      {
       "output_type": "stream",
       "stream": "stdout",
       "text": [
        " /tmp/tmpmKdrY5.html\n",
        "/tmp/tmpcUbJqV.html\n",
        "/tmp/tmpmKdrY5.html\n",
        "/tmp/tmpmKdrY5.html\n",
        "Now open file:///tmp/tmpcUbJqV.html in your web browser\n"
       ]
      },
      {
       "output_type": "stream",
       "stream": "stdout",
       "text": [
        "\n",
        "processed "
       ]
      },
      {
       "output_type": "stream",
       "stream": "stdout",
       "text": [
        " 559\n",
        "skipped  5\n",
        "589261134\n",
        "original article tmp file "
       ]
      },
      {
       "output_type": "stream",
       "stream": "stdout",
       "text": [
        " /tmp/tmp2cH0Hb.html\n",
        "/tmp/tmp1l2LtD.html\n",
        "/tmp/tmp2cH0Hb.html\n",
        "/tmp/tmp2cH0Hb.html\n",
        "Now open file:///tmp/tmp1l2LtD.html in your web browser\n"
       ]
      },
      {
       "output_type": "stream",
       "stream": "stdout",
       "text": [
        "\n",
        "processed "
       ]
      },
      {
       "output_type": "stream",
       "stream": "stdout",
       "text": [
        " 560\n",
        "skipped  5\n",
        "589261136\n",
        "original article tmp file "
       ]
      },
      {
       "output_type": "stream",
       "stream": "stdout",
       "text": [
        " /tmp/tmplo9fRN.html\n",
        "/tmp/tmptisXSD.html\n",
        "/tmp/tmplo9fRN.html\n",
        "/tmp/tmplo9fRN.html\n",
        "Now open file:///tmp/tmptisXSD.html in your web browser\n"
       ]
      },
      {
       "output_type": "stream",
       "stream": "stdout",
       "text": [
        "\n",
        "processed "
       ]
      },
      {
       "output_type": "stream",
       "stream": "stdout",
       "text": [
        " 561\n",
        "skipped  5\n",
        "589273978\n",
        "original article tmp file "
       ]
      },
      {
       "output_type": "stream",
       "stream": "stdout",
       "text": [
        " /tmp/tmpghr4ka.html\n",
        "/tmp/tmpTcKCrp.html\n",
        "/tmp/tmpghr4ka.html\n",
        "/tmp/tmpghr4ka.html\n",
        "Now open file:///tmp/tmpTcKCrp.html in your web browser\n"
       ]
      },
      {
       "output_type": "stream",
       "stream": "stdout",
       "text": [
        "\n",
        "processed  562\n",
        "skipped  5\n",
        "589285851\n",
        "original article tmp file "
       ]
      },
      {
       "output_type": "stream",
       "stream": "stdout",
       "text": [
        " /tmp/tmpKT2SvG.html\n",
        "/tmp/tmpfaCaJe.html\n",
        "/tmp/tmpKT2SvG.html\n",
        "/tmp/tmpKT2SvG.html\n",
        "Now open file:///tmp/tmpfaCaJe.html in your web browser\n"
       ]
      },
      {
       "output_type": "stream",
       "stream": "stdout",
       "text": [
        "\n",
        "processed "
       ]
      },
      {
       "output_type": "stream",
       "stream": "stdout",
       "text": [
        " 563\n",
        "skipped  5\n",
        "589285856\n",
        "original article tmp file "
       ]
      },
      {
       "output_type": "stream",
       "stream": "stdout",
       "text": [
        " /tmp/tmpHHxXTK.html\n",
        "/tmp/tmpwOVmHv.html\n",
        "/tmp/tmpHHxXTK.html\n",
        "/tmp/tmpHHxXTK.html\n",
        "Now open file:///tmp/tmpwOVmHv.html in your web browser\n"
       ]
      },
      {
       "output_type": "stream",
       "stream": "stdout",
       "text": [
        "\n",
        "processed "
       ]
      },
      {
       "output_type": "stream",
       "stream": "stdout",
       "text": [
        " 564\n",
        "skipped  5\n",
        "589298598\n",
        "original article tmp file "
       ]
      },
      {
       "output_type": "stream",
       "stream": "stdout",
       "text": [
        " /tmp/tmpYn3IXE.html\n",
        "/tmp/tmpkqv_Id.html\n",
        "/tmp/tmpYn3IXE.html\n",
        "/tmp/tmpYn3IXE.html\n",
        "Now open file:///tmp/tmpkqv_Id.html in your web browser\n"
       ]
      },
      {
       "output_type": "stream",
       "stream": "stdout",
       "text": [
        "\n",
        "processed "
       ]
      },
      {
       "output_type": "stream",
       "stream": "stdout",
       "text": [
        " 565\n",
        "skipped  5\n",
        "589305788\n",
        "original article tmp file "
       ]
      },
      {
       "output_type": "stream",
       "stream": "stdout",
       "text": [
        " /tmp/tmpk8j4GI.html\n",
        "/tmp/tmpoAkOVS.html\n",
        "/tmp/tmpk8j4GI.html\n",
        "/tmp/tmpk8j4GI.html\n",
        "Now open file:///tmp/tmpoAkOVS.html in your web browser\n"
       ]
      },
      {
       "output_type": "stream",
       "stream": "stdout",
       "text": [
        "\n",
        "processed "
       ]
      },
      {
       "output_type": "stream",
       "stream": "stdout",
       "text": [
        " 566\n",
        "skipped  5\n",
        "589310534\n",
        "original article tmp file "
       ]
      },
      {
       "output_type": "stream",
       "stream": "stdout",
       "text": [
        " /tmp/tmpxrV45c.html\n",
        "/tmp/tmp64Ly7B.html\n",
        "/tmp/tmpxrV45c.html\n",
        "/tmp/tmpxrV45c.html\n",
        "Now open file:///tmp/tmp64Ly7B.html in your web browser\n"
       ]
      },
      {
       "output_type": "stream",
       "stream": "stdout",
       "text": [
        "\n",
        "processed "
       ]
      },
      {
       "output_type": "stream",
       "stream": "stdout",
       "text": [
        " 567\n",
        "skipped  5\n",
        "589316558\n",
        "original article tmp file "
       ]
      },
      {
       "output_type": "stream",
       "stream": "stdout",
       "text": [
        " /tmp/tmp0Rsq8c.html\n",
        "/tmp/tmpiqx1eU.html\n",
        "/tmp/tmp0Rsq8c.html\n",
        "/tmp/tmp0Rsq8c.html\n",
        "Now open file:///tmp/tmpiqx1eU.html in your web browser\n"
       ]
      },
      {
       "output_type": "stream",
       "stream": "stdout",
       "text": [
        "\n",
        "processed  568\n",
        "skipped  5\n",
        "589324992\n",
        "original article tmp file "
       ]
      },
      {
       "output_type": "stream",
       "stream": "stdout",
       "text": [
        " /tmp/tmp7LoVfs.html\n",
        "/tmp/tmpnTXgEY.html\n",
        "/tmp/tmp7LoVfs.html\n",
        "/tmp/tmp7LoVfs.html\n",
        "Now open file:///tmp/tmpnTXgEY.html in your web browser\n"
       ]
      },
      {
       "output_type": "stream",
       "stream": "stdout",
       "text": [
        "\n",
        "processed  569\n",
        "skipped  5\n",
        "589326873\n",
        "original article tmp file "
       ]
      },
      {
       "output_type": "stream",
       "stream": "stdout",
       "text": [
        " /tmp/tmpVZRsZu.html\n",
        "/tmp/tmpECQdC5.html\n",
        "/tmp/tmpVZRsZu.html\n",
        "/tmp/tmpVZRsZu.html\n",
        "Now open file:///tmp/tmpECQdC5.html in your web browser\n"
       ]
      },
      {
       "output_type": "stream",
       "stream": "stdout",
       "text": [
        "\n",
        "processed "
       ]
      },
      {
       "output_type": "stream",
       "stream": "stdout",
       "text": [
        " 570\n",
        "skipped  5\n",
        "589335687\n",
        "original article tmp file "
       ]
      },
      {
       "output_type": "stream",
       "stream": "stdout",
       "text": [
        " /tmp/tmpzR8awN.html\n",
        "/tmp/tmp2qZLvP.html\n",
        "/tmp/tmpzR8awN.html\n",
        "/tmp/tmpzR8awN.html\n",
        "Now open file:///tmp/tmp2qZLvP.html in your web browser\n"
       ]
      },
      {
       "output_type": "stream",
       "stream": "stdout",
       "text": [
        "\n",
        "processed  571\n",
        "skipped  5\n",
        "589355839\n",
        "original article tmp file "
       ]
      },
      {
       "output_type": "stream",
       "stream": "stdout",
       "text": [
        " /tmp/tmpGhoiNN.html\n",
        "/tmp/tmpNlCUq8.html\n",
        "/tmp/tmpGhoiNN.html\n",
        "/tmp/tmpGhoiNN.html\n",
        "Now open file:///tmp/tmpNlCUq8.html in your web browser\n"
       ]
      },
      {
       "output_type": "stream",
       "stream": "stdout",
       "text": [
        "\n",
        "processed  572\n",
        "skipped  5\n",
        "589368807\n",
        "original article tmp file "
       ]
      },
      {
       "output_type": "stream",
       "stream": "stdout",
       "text": [
        " /tmp/tmpcRyeUU.html\n",
        "/tmp/tmpOIY6rY.html\n",
        "/tmp/tmpcRyeUU.html\n",
        "/tmp/tmpcRyeUU.html\n",
        "Now open file:///tmp/tmpOIY6rY.html in your web browser\n"
       ]
      },
      {
       "output_type": "stream",
       "stream": "stdout",
       "text": [
        "\n",
        "processed "
       ]
      },
      {
       "output_type": "stream",
       "stream": "stdout",
       "text": [
        " 573\n",
        "skipped  5\n",
        "589371772\n",
        "original article tmp file "
       ]
      },
      {
       "output_type": "stream",
       "stream": "stdout",
       "text": [
        " /tmp/tmp6SQdfq.html\n",
        "/tmp/tmp0S5a12.html\n",
        "/tmp/tmp6SQdfq.html\n",
        "/tmp/tmp6SQdfq.html\n",
        "Now open file:///tmp/tmp0S5a12.html in your web browser\n"
       ]
      },
      {
       "output_type": "stream",
       "stream": "stdout",
       "text": [
        "\n",
        "processed  574\n",
        "skipped  5\n",
        "589377853\n",
        "original article tmp file "
       ]
      },
      {
       "output_type": "stream",
       "stream": "stdout",
       "text": [
        " /tmp/tmpMrIKwP.html\n",
        "/tmp/tmpV8ywfJ.html\n",
        "/tmp/tmpMrIKwP.html\n",
        "/tmp/tmpMrIKwP.html\n",
        "Now open file:///tmp/tmpV8ywfJ.html in your web browser\n"
       ]
      },
      {
       "output_type": "stream",
       "stream": "stdout",
       "text": [
        "\n",
        "processed "
       ]
      },
      {
       "output_type": "stream",
       "stream": "stdout",
       "text": [
        " 575\n",
        "skipped  5\n",
        "589384584\n",
        "original article tmp file "
       ]
      },
      {
       "output_type": "stream",
       "stream": "stdout",
       "text": [
        " /tmp/tmpVC0oLw.html\n",
        "/tmp/tmpW1aBnK.html\n",
        "/tmp/tmpVC0oLw.html\n",
        "/tmp/tmpVC0oLw.html\n",
        "Now open file:///tmp/tmpW1aBnK.html in your web browser\n"
       ]
      },
      {
       "output_type": "stream",
       "stream": "stdout",
       "text": [
        "\n",
        "processed  576\n",
        "skipped  5\n",
        "589440172\n",
        "original article tmp file "
       ]
      },
      {
       "output_type": "stream",
       "stream": "stdout",
       "text": [
        " /tmp/tmpxL4LGh.html\n",
        "/tmp/tmpU4nQtF.html\n",
        "/tmp/tmpxL4LGh.html\n",
        "/tmp/tmpxL4LGh.html\n",
        "Now open file:///tmp/tmpU4nQtF.html in your web browser\n"
       ]
      },
      {
       "output_type": "stream",
       "stream": "stdout",
       "text": [
        "\n",
        "processed "
       ]
      },
      {
       "output_type": "stream",
       "stream": "stdout",
       "text": [
        " 577\n",
        "skipped  5\n",
        "589502987\n",
        "original article tmp file "
       ]
      },
      {
       "output_type": "stream",
       "stream": "stdout",
       "text": [
        " /tmp/tmp2VIczI.html\n",
        "/tmp/tmpjqvb0C.html\n",
        "/tmp/tmp2VIczI.html\n",
        "/tmp/tmp2VIczI.html\n",
        "Now open file:///tmp/tmpjqvb0C.html in your web browser\n"
       ]
      },
      {
       "output_type": "stream",
       "stream": "stdout",
       "text": [
        "\n",
        "processed  578\n",
        "skipped  5\n",
        "589513642\n",
        "original article tmp file "
       ]
      },
      {
       "output_type": "stream",
       "stream": "stdout",
       "text": [
        " /tmp/tmprs2oLg.html\n",
        "/tmp/tmpbSY6Ho.html\n",
        "/tmp/tmprs2oLg.html\n",
        "/tmp/tmprs2oLg.html\n",
        "Now open file:///tmp/tmpbSY6Ho.html in your web browser\n"
       ]
      },
      {
       "output_type": "stream",
       "stream": "stdout",
       "text": [
        "\n",
        "processed  579\n",
        "skipped  5\n",
        "589568015\n",
        "original article tmp file "
       ]
      },
      {
       "output_type": "stream",
       "stream": "stdout",
       "text": [
        " /tmp/tmpB0gbVh.html\n",
        "/tmp/tmpvaojl9.html\n",
        "/tmp/tmpB0gbVh.html\n",
        "/tmp/tmpB0gbVh.html\n",
        "Now open file:///tmp/tmpvaojl9.html in your web browser\n"
       ]
      },
      {
       "output_type": "stream",
       "stream": "stdout",
       "text": [
        "\n",
        "processed  580\n",
        "skipped  5\n",
        "589625611\n",
        "original article tmp file "
       ]
      },
      {
       "output_type": "stream",
       "stream": "stdout",
       "text": [
        " /tmp/tmpZutw8_.html\n",
        "/tmp/tmpc0MOCH.html\n",
        "/tmp/tmpZutw8_.html\n",
        "/tmp/tmpZutw8_.html\n",
        "Now open file:///tmp/tmpc0MOCH.html in your web browser\n"
       ]
      },
      {
       "output_type": "stream",
       "stream": "stdout",
       "text": [
        "\n",
        "processed  581\n",
        "skipped  5\n",
        "589655068\n",
        "original article tmp file "
       ]
      },
      {
       "output_type": "stream",
       "stream": "stdout",
       "text": [
        " /tmp/tmpZnqbTh.html\n",
        "/tmp/tmpHKovyb.html\n",
        "/tmp/tmpZnqbTh.html\n",
        "/tmp/tmpZnqbTh.html\n",
        "Now open file:///tmp/tmpHKovyb.html in your web browser\n"
       ]
      },
      {
       "output_type": "stream",
       "stream": "stdout",
       "text": [
        "\n",
        "processed "
       ]
      },
      {
       "output_type": "stream",
       "stream": "stdout",
       "text": [
        " 582\n",
        "skipped  5\n",
        "589674386\n",
        "original article tmp file "
       ]
      },
      {
       "output_type": "stream",
       "stream": "stdout",
       "text": [
        " /tmp/tmp2ckv5U.html\n",
        "/tmp/tmpPYQEl0.html\n",
        "/tmp/tmp2ckv5U.html\n",
        "/tmp/tmp2ckv5U.html\n",
        "Now open file:///tmp/tmpPYQEl0.html in your web browser\n"
       ]
      },
      {
       "output_type": "stream",
       "stream": "stdout",
       "text": [
        "\n",
        "processed  583\n",
        "skipped  5\n",
        "589683282\n",
        "original article tmp file "
       ]
      },
      {
       "output_type": "stream",
       "stream": "stdout",
       "text": [
        " /tmp/tmpvYgFKC.html\n",
        "/tmp/tmpCp7VUg.html\n",
        "/tmp/tmpvYgFKC.html\n",
        "/tmp/tmpvYgFKC.html\n",
        "Now open file:///tmp/tmpCp7VUg.html in your web browser\n"
       ]
      },
      {
       "output_type": "stream",
       "stream": "stdout",
       "text": [
        "\n",
        "processed  584\n",
        "skipped  5\n",
        "589686438\n",
        "original article tmp file "
       ]
      },
      {
       "output_type": "stream",
       "stream": "stdout",
       "text": [
        " /tmp/tmpp7UL4A.html\n",
        "/tmp/tmpVARV0H.html\n",
        "/tmp/tmpp7UL4A.html\n",
        "/tmp/tmpp7UL4A.html\n",
        "Now open file:///tmp/tmpVARV0H.html in your web browser\n"
       ]
      },
      {
       "output_type": "stream",
       "stream": "stdout",
       "text": [
        "\n",
        "processed "
       ]
      },
      {
       "output_type": "stream",
       "stream": "stdout",
       "text": [
        " 585\n",
        "skipped  5\n",
        "589754761\n",
        "original article tmp file "
       ]
      },
      {
       "output_type": "stream",
       "stream": "stdout",
       "text": [
        " /tmp/tmpCDpqsb.html\n",
        "/tmp/tmpBcvMAu.html\n",
        "/tmp/tmpCDpqsb.html\n",
        "/tmp/tmpCDpqsb.html\n",
        "Now open file:///tmp/tmpBcvMAu.html in your web browser\n"
       ]
      },
      {
       "output_type": "stream",
       "stream": "stdout",
       "text": [
        "\n",
        "processed  586\n",
        "skipped  5\n",
        "589755411\n",
        "original article tmp file "
       ]
      },
      {
       "output_type": "stream",
       "stream": "stdout",
       "text": [
        " /tmp/tmpSDW5dD.html\n",
        "/tmp/tmpMjFAMJ.html\n",
        "/tmp/tmpSDW5dD.html\n",
        "/tmp/tmpSDW5dD.html\n",
        "Now open file:///tmp/tmpMjFAMJ.html in your web browser\n"
       ]
      },
      {
       "output_type": "stream",
       "stream": "stdout",
       "text": [
        "\n",
        "processed  587\n",
        "skipped  5\n",
        "589755612\n",
        "original article tmp file "
       ]
      },
      {
       "output_type": "stream",
       "stream": "stdout",
       "text": [
        " /tmp/tmpwCnkSg.html\n",
        "/tmp/tmpLikLcl.html\n",
        "/tmp/tmpwCnkSg.html\n",
        "/tmp/tmpwCnkSg.html\n",
        "Now open file:///tmp/tmpLikLcl.html in your web browser\n"
       ]
      },
      {
       "output_type": "stream",
       "stream": "stdout",
       "text": [
        "\n",
        "processed  588\n",
        "skipped  5\n",
        "589758021\n",
        "original article tmp file "
       ]
      },
      {
       "output_type": "stream",
       "stream": "stdout",
       "text": [
        " /tmp/tmp4CCekq.html\n",
        "/tmp/tmpB4_ygO.html\n",
        "/tmp/tmp4CCekq.html\n",
        "/tmp/tmp4CCekq.html\n",
        "Now open file:///tmp/tmpB4_ygO.html in your web browser\n"
       ]
      },
      {
       "output_type": "stream",
       "stream": "stdout",
       "text": [
        "\n",
        "processed  589\n",
        "skipped  5\n",
        "589768387\n",
        "original article tmp file "
       ]
      },
      {
       "output_type": "stream",
       "stream": "stdout",
       "text": [
        " /tmp/tmpC4OGow.html\n",
        "/tmp/tmpPLz8I4.html\n",
        "/tmp/tmpC4OGow.html\n",
        "/tmp/tmpC4OGow.html\n",
        "Now open file:///tmp/tmpPLz8I4.html in your web browser\n"
       ]
      },
      {
       "output_type": "stream",
       "stream": "stdout",
       "text": [
        "\n",
        "processed "
       ]
      },
      {
       "output_type": "stream",
       "stream": "stdout",
       "text": [
        " 590\n",
        "skipped  5\n",
        "589786104\n",
        "original article tmp file "
       ]
      },
      {
       "output_type": "stream",
       "stream": "stdout",
       "text": [
        " /tmp/tmp1rN1L8.html\n",
        "/tmp/tmpttBjNo.html\n",
        "/tmp/tmp1rN1L8.html\n",
        "/tmp/tmp1rN1L8.html\n",
        "Now open file:///tmp/tmpttBjNo.html in your web browser\n"
       ]
      },
      {
       "output_type": "stream",
       "stream": "stdout",
       "text": [
        "\n",
        "processed "
       ]
      },
      {
       "output_type": "stream",
       "stream": "stdout",
       "text": [
        " 591\n",
        "skipped  5\n",
        "589786154\n",
        "original article tmp file "
       ]
      },
      {
       "output_type": "stream",
       "stream": "stdout",
       "text": [
        " /tmp/tmpbsykpn.html\n",
        "/tmp/tmpIw6cr4.html\n",
        "/tmp/tmpbsykpn.html\n",
        "/tmp/tmpbsykpn.html\n",
        "Now open file:///tmp/tmpIw6cr4.html in your web browser\n"
       ]
      },
      {
       "output_type": "stream",
       "stream": "stdout",
       "text": [
        "\n",
        "processed  592\n",
        "skipped  5\n",
        "589786414\n",
        "original article tmp file "
       ]
      },
      {
       "output_type": "stream",
       "stream": "stdout",
       "text": [
        " /tmp/tmpB9onhP.html\n",
        "/tmp/tmpM6LWyR.html\n",
        "/tmp/tmpB9onhP.html\n",
        "/tmp/tmpB9onhP.html\n",
        "Now open file:///tmp/tmpM6LWyR.html in your web browser\n"
       ]
      },
      {
       "output_type": "stream",
       "stream": "stdout",
       "text": [
        "\n",
        "processed "
       ]
      },
      {
       "output_type": "stream",
       "stream": "stdout",
       "text": [
        " 593\n",
        "skipped  5\n",
        "589862512\n",
        "original article tmp file "
       ]
      },
      {
       "output_type": "stream",
       "stream": "stdout",
       "text": [
        " /tmp/tmpFJ2WWH.html\n",
        "/tmp/tmpfpCfX_.html\n",
        "/tmp/tmpFJ2WWH.html\n",
        "/tmp/tmpFJ2WWH.html\n",
        "Now open file:///tmp/tmpfpCfX_.html in your web browser\n"
       ]
      },
      {
       "output_type": "stream",
       "stream": "stdout",
       "text": [
        "\n",
        "processed "
       ]
      },
      {
       "output_type": "stream",
       "stream": "stdout",
       "text": [
        " 594\n",
        "skipped  5\n",
        "589862834\n",
        "original article tmp file "
       ]
      },
      {
       "output_type": "stream",
       "stream": "stdout",
       "text": [
        " /tmp/tmpGIJXeL.html\n",
        "/tmp/tmp1D_O6b.html\n",
        "/tmp/tmpGIJXeL.html\n",
        "/tmp/tmpGIJXeL.html\n",
        "Now open file:///tmp/tmp1D_O6b.html in your web browser\n"
       ]
      },
      {
       "output_type": "stream",
       "stream": "stdout",
       "text": [
        "\n",
        "processed  595\n",
        "skipped  5\n",
        "589862835\n",
        "original article tmp file "
       ]
      },
      {
       "output_type": "stream",
       "stream": "stdout",
       "text": [
        " /tmp/tmpxuUMGG.html\n",
        "/tmp/tmpPMJaJ1.html\n",
        "/tmp/tmpxuUMGG.html\n",
        "/tmp/tmpxuUMGG.html\n",
        "Now open file:///tmp/tmpPMJaJ1.html in your web browser\n"
       ]
      },
      {
       "output_type": "stream",
       "stream": "stdout",
       "text": [
        "\n",
        "processed  596\n",
        "skipped  5\n",
        "589867651\n",
        "original article tmp file "
       ]
      },
      {
       "output_type": "stream",
       "stream": "stdout",
       "text": [
        " /tmp/tmpM3oIDr.html\n",
        "/tmp/tmpSYpE1j.html\n",
        "/tmp/tmpM3oIDr.html\n",
        "/tmp/tmpM3oIDr.html\n",
        "Now open file:///tmp/tmpSYpE1j.html in your web browser\n"
       ]
      },
      {
       "output_type": "stream",
       "stream": "stdout",
       "text": [
        "\n",
        "processed  597\n",
        "skipped  5\n",
        "589877044\n",
        "error on download589877044"
       ]
      },
      {
       "output_type": "stream",
       "stream": "stdout",
       "text": [
        "\n",
        "processed  597\n",
        "skipped  6\n",
        "589878988\n",
        "original article tmp file "
       ]
      },
      {
       "output_type": "stream",
       "stream": "stdout",
       "text": [
        " /tmp/tmp96bMHC.html\n",
        "/tmp/tmpcIhQiq.html\n",
        "/tmp/tmp96bMHC.html\n",
        "/tmp/tmp96bMHC.html\n",
        "Now open file:///tmp/tmpcIhQiq.html in your web browser\n"
       ]
      },
      {
       "output_type": "stream",
       "stream": "stdout",
       "text": [
        "\n",
        "processed "
       ]
      },
      {
       "output_type": "stream",
       "stream": "stdout",
       "text": [
        " 598\n",
        "skipped  6\n",
        "589902239\n",
        "original article tmp file "
       ]
      },
      {
       "output_type": "stream",
       "stream": "stdout",
       "text": [
        " /tmp/tmpnUByAF.html\n",
        "/tmp/tmpTgUZdG.html\n",
        "/tmp/tmpnUByAF.html\n",
        "/tmp/tmpnUByAF.html\n",
        "Now open file:///tmp/tmpTgUZdG.html in your web browser\n"
       ]
      },
      {
       "output_type": "stream",
       "stream": "stdout",
       "text": [
        "\n",
        "processed "
       ]
      },
      {
       "output_type": "stream",
       "stream": "stdout",
       "text": [
        " 599\n",
        "skipped  6\n",
        "589902589\n",
        "original article tmp file "
       ]
      },
      {
       "output_type": "stream",
       "stream": "stdout",
       "text": [
        " /tmp/tmpZcvwq5.html\n",
        "/tmp/tmpkywNim.html\n",
        "/tmp/tmpZcvwq5.html\n",
        "/tmp/tmpZcvwq5.html\n",
        "Now open file:///tmp/tmpkywNim.html in your web browser\n"
       ]
      },
      {
       "output_type": "stream",
       "stream": "stdout",
       "text": [
        "\n",
        "processed "
       ]
      },
      {
       "output_type": "stream",
       "stream": "stdout",
       "text": [
        " 600\n",
        "skipped  6\n",
        "589903803\n",
        "original article tmp file "
       ]
      },
      {
       "output_type": "stream",
       "stream": "stdout",
       "text": [
        " /tmp/tmpXybgQc.html\n",
        "/tmp/tmpLKhGQ3.html\n",
        "/tmp/tmpXybgQc.html\n",
        "/tmp/tmpXybgQc.html\n",
        "Now open file:///tmp/tmpLKhGQ3.html in your web browser\n"
       ]
      },
      {
       "output_type": "stream",
       "stream": "stdout",
       "text": [
        "\n",
        "processed  601\n",
        "skipped  6\n",
        "589912699\n",
        "original article tmp file "
       ]
      },
      {
       "output_type": "stream",
       "stream": "stdout",
       "text": [
        " /tmp/tmp6wa0oZ.html\n",
        "/tmp/tmpHPHVoG.html\n",
        "/tmp/tmp6wa0oZ.html\n",
        "/tmp/tmp6wa0oZ.html\n",
        "Now open file:///tmp/tmpHPHVoG.html in your web browser\n"
       ]
      },
      {
       "output_type": "stream",
       "stream": "stdout",
       "text": [
        "\n",
        "processed  602\n",
        "skipped  6\n",
        "589925438\n",
        "original article tmp file "
       ]
      },
      {
       "output_type": "stream",
       "stream": "stdout",
       "text": [
        " /tmp/tmp428j9u.html\n",
        "/tmp/tmpAGKaau.html\n",
        "/tmp/tmp428j9u.html\n",
        "/tmp/tmp428j9u.html\n",
        "Now open file:///tmp/tmpAGKaau.html in your web browser\n"
       ]
      },
      {
       "output_type": "stream",
       "stream": "stdout",
       "text": [
        "\n",
        "processed "
       ]
      },
      {
       "output_type": "stream",
       "stream": "stdout",
       "text": [
        " 603\n",
        "skipped  6\n",
        "589929254\n",
        "original article tmp file "
       ]
      },
      {
       "output_type": "stream",
       "stream": "stdout",
       "text": [
        " /tmp/tmpcAWGCu.html\n",
        "/tmp/tmpnwsesa.html\n",
        "/tmp/tmpcAWGCu.html\n",
        "/tmp/tmpcAWGCu.html\n",
        "Now open file:///tmp/tmpnwsesa.html in your web browser\n"
       ]
      },
      {
       "output_type": "stream",
       "stream": "stdout",
       "text": [
        "\n",
        "processed  604\n",
        "skipped  6\n",
        "589929573\n",
        "original article tmp file "
       ]
      },
      {
       "output_type": "stream",
       "stream": "stdout",
       "text": [
        " /tmp/tmpcc8SaR.html\n",
        "/tmp/tmpGPfvOk.html\n",
        "/tmp/tmpcc8SaR.html\n",
        "/tmp/tmpcc8SaR.html\n",
        "Now open file:///tmp/tmpGPfvOk.html in your web browser\n"
       ]
      },
      {
       "output_type": "stream",
       "stream": "stdout",
       "text": [
        "\n",
        "processed  605\n",
        "skipped  6\n",
        "589934787\n",
        "original article tmp file "
       ]
      },
      {
       "output_type": "stream",
       "stream": "stdout",
       "text": [
        " /tmp/tmp5mNULt.html\n",
        "/tmp/tmp1uoGuP.html\n",
        "/tmp/tmp5mNULt.html\n",
        "/tmp/tmp5mNULt.html\n",
        "Now open file:///tmp/tmp1uoGuP.html in your web browser\n"
       ]
      },
      {
       "output_type": "stream",
       "stream": "stdout",
       "text": [
        "\n",
        "processed  606\n",
        "skipped  6\n",
        "589938190\n",
        "original article tmp file "
       ]
      },
      {
       "output_type": "stream",
       "stream": "stdout",
       "text": [
        " /tmp/tmpB1DyoW.html\n",
        "/tmp/tmp8ZhXwM.html\n",
        "/tmp/tmpB1DyoW.html\n",
        "/tmp/tmpB1DyoW.html\n",
        "Now open file:///tmp/tmp8ZhXwM.html in your web browser\n"
       ]
      },
      {
       "output_type": "stream",
       "stream": "stdout",
       "text": [
        "\n",
        "processed  607\n",
        "skipped  6\n",
        "589945649\n",
        "original article tmp file "
       ]
      },
      {
       "output_type": "stream",
       "stream": "stdout",
       "text": [
        " /tmp/tmp5Nq8zI.html\n",
        "/tmp/tmpunAjdy.html\n",
        "/tmp/tmp5Nq8zI.html\n",
        "/tmp/tmp5Nq8zI.html\n",
        "Now open file:///tmp/tmpunAjdy.html in your web browser\n"
       ]
      },
      {
       "output_type": "stream",
       "stream": "stdout",
       "text": [
        "\n",
        "processed "
       ]
      },
      {
       "output_type": "stream",
       "stream": "stdout",
       "text": [
        " 608\n",
        "skipped  6\n",
        "589946203\n",
        "original article tmp file "
       ]
      },
      {
       "output_type": "stream",
       "stream": "stdout",
       "text": [
        " /tmp/tmphP546q.html\n",
        "/tmp/tmpcBrCKv.html\n",
        "/tmp/tmphP546q.html\n",
        "/tmp/tmphP546q.html\n",
        "Now open file:///tmp/tmpcBrCKv.html in your web browser\n"
       ]
      },
      {
       "output_type": "stream",
       "stream": "stdout",
       "text": [
        "\n",
        "processed  609\n",
        "skipped  6\n",
        "589956136\n",
        "original article tmp file "
       ]
      },
      {
       "output_type": "stream",
       "stream": "stdout",
       "text": [
        " /tmp/tmpVjv57h.html\n",
        "/tmp/tmp83F1qi.html\n",
        "/tmp/tmpVjv57h.html\n",
        "/tmp/tmpVjv57h.html\n",
        "Now open file:///tmp/tmp83F1qi.html in your web browser\n"
       ]
      },
      {
       "output_type": "stream",
       "stream": "stdout",
       "text": [
        "\n",
        "processed  610\n",
        "skipped  6\n",
        "589985214\n",
        "original article tmp file "
       ]
      },
      {
       "output_type": "stream",
       "stream": "stdout",
       "text": [
        " /tmp/tmpbDXjoW.html\n",
        "/tmp/tmpx1tIyu.html\n",
        "/tmp/tmpbDXjoW.html\n",
        "/tmp/tmpbDXjoW.html\n",
        "Now open file:///tmp/tmpx1tIyu.html in your web browser\n"
       ]
      },
      {
       "output_type": "stream",
       "stream": "stdout",
       "text": [
        "\n",
        "processed  611\n",
        "skipped  6\n",
        "589992578\n",
        "original article tmp file "
       ]
      },
      {
       "output_type": "stream",
       "stream": "stdout",
       "text": [
        " /tmp/tmppkF4lq.html\n",
        "/tmp/tmp0sqJ3f.html\n",
        "/tmp/tmppkF4lq.html\n",
        "/tmp/tmppkF4lq.html\n",
        "Now open file:///tmp/tmp0sqJ3f.html in your web browser\n"
       ]
      },
      {
       "output_type": "stream",
       "stream": "stdout",
       "text": [
        "\n",
        "processed  612\n",
        "skipped  6\n",
        "589992873\n",
        "original article tmp file "
       ]
      },
      {
       "output_type": "stream",
       "stream": "stdout",
       "text": [
        " /tmp/tmpDqPHNg.html\n",
        "/tmp/tmp1dU_kG.html\n",
        "/tmp/tmpDqPHNg.html\n",
        "/tmp/tmpDqPHNg.html\n",
        "Now open file:///tmp/tmp1dU_kG.html in your web browser\n"
       ]
      },
      {
       "output_type": "stream",
       "stream": "stdout",
       "text": [
        "\n",
        "processed "
       ]
      },
      {
       "output_type": "stream",
       "stream": "stdout",
       "text": [
        " 613\n",
        "skipped  6\n",
        "590003031\n",
        "original article tmp file "
       ]
      },
      {
       "output_type": "stream",
       "stream": "stdout",
       "text": [
        " /tmp/tmpuEAB6X.html\n",
        "/tmp/tmp0RdCOB.html\n",
        "/tmp/tmpuEAB6X.html\n",
        "/tmp/tmpuEAB6X.html\n",
        "Now open file:///tmp/tmp0RdCOB.html in your web browser\n"
       ]
      },
      {
       "output_type": "stream",
       "stream": "stdout",
       "text": [
        "\n",
        "processed  614\n",
        "skipped  6\n",
        "590003045\n",
        "original article tmp file "
       ]
      },
      {
       "output_type": "stream",
       "stream": "stdout",
       "text": [
        " /tmp/tmpFhZ0s1.html\n",
        "/tmp/tmp_ChfAv.html\n",
        "/tmp/tmpFhZ0s1.html\n",
        "/tmp/tmpFhZ0s1.html\n",
        "Now open file:///tmp/tmp_ChfAv.html in your web browser\n"
       ]
      },
      {
       "output_type": "stream",
       "stream": "stdout",
       "text": [
        "\n",
        "processed  615\n",
        "skipped  6\n",
        "590033845\n",
        "original article tmp file "
       ]
      },
      {
       "output_type": "stream",
       "stream": "stdout",
       "text": [
        " /tmp/tmpf3y50I.html\n",
        "/tmp/tmptZBnu8.html\n",
        "/tmp/tmpf3y50I.html\n",
        "/tmp/tmpf3y50I.html\n",
        "Now open file:///tmp/tmptZBnu8.html in your web browser\n"
       ]
      },
      {
       "output_type": "stream",
       "stream": "stdout",
       "text": [
        "\n",
        "processed  616\n",
        "skipped  6\n",
        "590033849\n",
        "original article tmp file "
       ]
      },
      {
       "output_type": "stream",
       "stream": "stdout",
       "text": [
        " /tmp/tmpdLDbrX.html\n",
        "/tmp/tmpJgSBGV.html\n",
        "/tmp/tmpdLDbrX.html\n",
        "/tmp/tmpdLDbrX.html\n",
        "Now open file:///tmp/tmpJgSBGV.html in your web browser\n"
       ]
      },
      {
       "output_type": "stream",
       "stream": "stdout",
       "text": [
        "\n",
        "processed  617\n",
        "skipped  6\n",
        "590033852\n",
        "original article tmp file "
       ]
      },
      {
       "output_type": "stream",
       "stream": "stdout",
       "text": [
        " /tmp/tmpG5yfbC.html\n",
        "/tmp/tmp25iPpH.html\n",
        "/tmp/tmpG5yfbC.html\n",
        "/tmp/tmpG5yfbC.html\n",
        "Now open file:///tmp/tmp25iPpH.html in your web browser\n"
       ]
      },
      {
       "output_type": "stream",
       "stream": "stdout",
       "text": [
        "\n",
        "processed  618\n",
        "skipped  6\n",
        "590057803\n",
        "original article tmp file "
       ]
      },
      {
       "output_type": "stream",
       "stream": "stdout",
       "text": [
        " /tmp/tmprzxHWl.html\n",
        "/tmp/tmpbDcjtB.html\n",
        "/tmp/tmprzxHWl.html\n",
        "/tmp/tmprzxHWl.html\n",
        "Now open file:///tmp/tmpbDcjtB.html in your web browser\n"
       ]
      },
      {
       "output_type": "stream",
       "stream": "stdout",
       "text": [
        "\n",
        "processed "
       ]
      },
      {
       "output_type": "stream",
       "stream": "stdout",
       "text": [
        " 619\n",
        "skipped  6\n",
        "590237580\n",
        "original article tmp file "
       ]
      },
      {
       "output_type": "stream",
       "stream": "stdout",
       "text": [
        " /tmp/tmp3VTjYE.html\n",
        "/tmp/tmplWGN86.html\n",
        "/tmp/tmp3VTjYE.html\n",
        "/tmp/tmp3VTjYE.html\n",
        "Now open file:///tmp/tmplWGN86.html in your web browser\n"
       ]
      },
      {
       "output_type": "stream",
       "stream": "stdout",
       "text": [
        "\n",
        "processed  620\n",
        "skipped  6\n",
        "590249522\n",
        "original article tmp file "
       ]
      },
      {
       "output_type": "stream",
       "stream": "stdout",
       "text": [
        " /tmp/tmpL2KFv8.html\n",
        "/tmp/tmpqWPOHF.html\n",
        "/tmp/tmpL2KFv8.html\n",
        "/tmp/tmpL2KFv8.html\n",
        "Now open file:///tmp/tmpqWPOHF.html in your web browser\n"
       ]
      },
      {
       "output_type": "stream",
       "stream": "stdout",
       "text": [
        "\n",
        "processed "
       ]
      },
      {
       "output_type": "stream",
       "stream": "stdout",
       "text": [
        " 621\n",
        "skipped  6\n",
        "590264671\n",
        "original article tmp file "
       ]
      },
      {
       "output_type": "stream",
       "stream": "stdout",
       "text": [
        " /tmp/tmp_854OW.html\n",
        "/tmp/tmpzZjLei.html\n",
        "/tmp/tmp_854OW.html\n",
        "/tmp/tmp_854OW.html\n",
        "Now open file:///tmp/tmpzZjLei.html in your web browser\n"
       ]
      },
      {
       "output_type": "stream",
       "stream": "stdout",
       "text": [
        "\n",
        "processed  622\n",
        "skipped  6\n",
        "590293497\n",
        "original article tmp file "
       ]
      },
      {
       "output_type": "stream",
       "stream": "stdout",
       "text": [
        " /tmp/tmpoQnYZe.html\n",
        "/tmp/tmphdZtdI.html\n",
        "/tmp/tmpoQnYZe.html\n",
        "/tmp/tmpoQnYZe.html\n",
        "Now open file:///tmp/tmphdZtdI.html in your web browser\n"
       ]
      },
      {
       "output_type": "stream",
       "stream": "stdout",
       "text": [
        "\n",
        "processed "
       ]
      },
      {
       "output_type": "stream",
       "stream": "stdout",
       "text": [
        " 623\n",
        "skipped  6\n",
        "590323886\n",
        "original article tmp file "
       ]
      },
      {
       "output_type": "stream",
       "stream": "stdout",
       "text": [
        " /tmp/tmpTRc0pg.html\n",
        "/tmp/tmpqy7Lbh.html\n",
        "/tmp/tmpTRc0pg.html\n",
        "/tmp/tmpTRc0pg.html\n",
        "Now open file:///tmp/tmpqy7Lbh.html in your web browser\n"
       ]
      },
      {
       "output_type": "stream",
       "stream": "stdout",
       "text": [
        "\n",
        "processed "
       ]
      },
      {
       "output_type": "stream",
       "stream": "stdout",
       "text": [
        " 624\n",
        "skipped  6\n",
        "590323913\n",
        "original article tmp file "
       ]
      },
      {
       "output_type": "stream",
       "stream": "stdout",
       "text": [
        " /tmp/tmpNwDvup.html\n",
        "/tmp/tmpny9X2u.html\n",
        "/tmp/tmpNwDvup.html\n",
        "/tmp/tmpNwDvup.html\n",
        "Now open file:///tmp/tmpny9X2u.html in your web browser\n"
       ]
      },
      {
       "output_type": "stream",
       "stream": "stdout",
       "text": [
        "\n",
        "processed  625\n",
        "skipped  6\n",
        "590324177\n",
        "original article tmp file "
       ]
      },
      {
       "output_type": "stream",
       "stream": "stdout",
       "text": [
        " /tmp/tmpObXMfu.html\n",
        "/tmp/tmpsyRMgp.html\n",
        "/tmp/tmpObXMfu.html\n",
        "/tmp/tmpObXMfu.html\n",
        "Now open file:///tmp/tmpsyRMgp.html in your web browser\n"
       ]
      },
      {
       "output_type": "stream",
       "stream": "stdout",
       "text": [
        "\n",
        "processed "
       ]
      },
      {
       "output_type": "stream",
       "stream": "stdout",
       "text": [
        " 626\n",
        "skipped  6\n",
        "590338530\n",
        "original article tmp file "
       ]
      },
      {
       "output_type": "stream",
       "stream": "stdout",
       "text": [
        " /tmp/tmpCgavkK.html\n",
        "/tmp/tmpPYVxbu.html\n",
        "/tmp/tmpCgavkK.html\n",
        "/tmp/tmpCgavkK.html\n",
        "Now open file:///tmp/tmpPYVxbu.html in your web browser\n"
       ]
      },
      {
       "output_type": "stream",
       "stream": "stdout",
       "text": [
        "\n",
        "processed  627\n",
        "skipped  6\n",
        "590339267\n",
        "original article tmp file "
       ]
      },
      {
       "output_type": "stream",
       "stream": "stdout",
       "text": [
        " /tmp/tmpTEQMZI.html\n",
        "/tmp/tmpaMtzfU.html\n",
        "/tmp/tmpTEQMZI.html\n",
        "/tmp/tmpTEQMZI.html\n",
        "Now open file:///tmp/tmpaMtzfU.html in your web browser\n"
       ]
      },
      {
       "output_type": "stream",
       "stream": "stdout",
       "text": [
        "\n",
        "processed "
       ]
      },
      {
       "output_type": "stream",
       "stream": "stdout",
       "text": [
        " 628\n",
        "skipped  6\n",
        "590340446\n",
        "original article tmp file "
       ]
      },
      {
       "output_type": "stream",
       "stream": "stdout",
       "text": [
        " /tmp/tmp7KkW_5.html\n",
        "/tmp/tmp_Imimf.html\n",
        "/tmp/tmp7KkW_5.html\n",
        "/tmp/tmp7KkW_5.html\n",
        "Now open file:///tmp/tmp_Imimf.html in your web browser\n"
       ]
      },
      {
       "output_type": "stream",
       "stream": "stdout",
       "text": [
        "\n",
        "processed  629\n",
        "skipped  6\n",
        "590351087\n",
        "original article tmp file "
       ]
      },
      {
       "output_type": "stream",
       "stream": "stdout",
       "text": [
        " /tmp/tmpOMAALO.html\n",
        "/tmp/tmpMzxbLm.html\n",
        "/tmp/tmpOMAALO.html\n",
        "/tmp/tmpOMAALO.html\n",
        "Now open file:///tmp/tmpMzxbLm.html in your web browser\n"
       ]
      },
      {
       "output_type": "stream",
       "stream": "stdout",
       "text": [
        "\n",
        "processed "
       ]
      },
      {
       "output_type": "stream",
       "stream": "stdout",
       "text": [
        " 630\n",
        "skipped  6\n",
        "590353661\n",
        "original article tmp file "
       ]
      },
      {
       "output_type": "stream",
       "stream": "stdout",
       "text": [
        " /tmp/tmpfR0VOS.html\n",
        "/tmp/tmpKL2J5q.html\n",
        "/tmp/tmpfR0VOS.html\n",
        "/tmp/tmpfR0VOS.html\n",
        "Now open file:///tmp/tmpKL2J5q.html in your web browser\n"
       ]
      },
      {
       "output_type": "stream",
       "stream": "stdout",
       "text": [
        "\n",
        "processed  631\n",
        "skipped  6\n",
        "590356585\n",
        "original article tmp file "
       ]
      },
      {
       "output_type": "stream",
       "stream": "stdout",
       "text": [
        " /tmp/tmphA36XO.html\n",
        "/tmp/tmpBb81Xb.html\n",
        "/tmp/tmphA36XO.html\n",
        "/tmp/tmphA36XO.html\n",
        "Now open file:///tmp/tmpBb81Xb.html in your web browser\n"
       ]
      },
      {
       "output_type": "stream",
       "stream": "stdout",
       "text": [
        "\n",
        "processed  632\n",
        "skipped  6\n",
        "590356597\n",
        "original article tmp file "
       ]
      },
      {
       "output_type": "stream",
       "stream": "stdout",
       "text": [
        " /tmp/tmp_YxP_9.html\n",
        "/tmp/tmppHtY6Q.html\n",
        "/tmp/tmp_YxP_9.html\n",
        "/tmp/tmp_YxP_9.html\n",
        "Now open file:///tmp/tmppHtY6Q.html in your web browser\n"
       ]
      },
      {
       "output_type": "stream",
       "stream": "stdout",
       "text": [
        "\n",
        "processed  633\n",
        "skipped  6\n",
        "590386215\n",
        "original article tmp file "
       ]
      },
      {
       "output_type": "stream",
       "stream": "stdout",
       "text": [
        " /tmp/tmptDYZ2K.html\n",
        "/tmp/tmpj9E061.html\n",
        "/tmp/tmptDYZ2K.html\n",
        "/tmp/tmptDYZ2K.html\n",
        "Now open file:///tmp/tmpj9E061.html in your web browser\n"
       ]
      },
      {
       "output_type": "stream",
       "stream": "stdout",
       "text": [
        "\n",
        "processed "
       ]
      },
      {
       "output_type": "stream",
       "stream": "stdout",
       "text": [
        " 634\n",
        "skipped  6\n",
        "590386218\n",
        "original article tmp file "
       ]
      },
      {
       "output_type": "stream",
       "stream": "stdout",
       "text": [
        " /tmp/tmpJENEpJ.html\n",
        "/tmp/tmpA8Rl4G.html\n",
        "/tmp/tmpJENEpJ.html\n",
        "/tmp/tmpJENEpJ.html\n",
        "Now open file:///tmp/tmpA8Rl4G.html in your web browser\n"
       ]
      },
      {
       "output_type": "stream",
       "stream": "stdout",
       "text": [
        "\n",
        "processed "
       ]
      },
      {
       "output_type": "stream",
       "stream": "stdout",
       "text": [
        " 635\n",
        "skipped  6\n",
        "590386225\n",
        "original article tmp file "
       ]
      },
      {
       "output_type": "stream",
       "stream": "stdout",
       "text": [
        " /tmp/tmpa4qBBC.html\n",
        "/tmp/tmpdYh1iP.html\n",
        "/tmp/tmpa4qBBC.html\n",
        "/tmp/tmpa4qBBC.html\n",
        "Now open file:///tmp/tmpdYh1iP.html in your web browser\n"
       ]
      },
      {
       "output_type": "stream",
       "stream": "stdout",
       "text": [
        "\n",
        "processed  636\n",
        "skipped  6\n",
        "590397660\n",
        "original article tmp file "
       ]
      },
      {
       "output_type": "stream",
       "stream": "stdout",
       "text": [
        " /tmp/tmpKjJfN3.html\n",
        "/tmp/tmpS0aN42.html\n",
        "/tmp/tmpKjJfN3.html\n",
        "/tmp/tmpKjJfN3.html\n",
        "Now open file:///tmp/tmpS0aN42.html in your web browser\n"
       ]
      },
      {
       "output_type": "stream",
       "stream": "stdout",
       "text": [
        "\n",
        "processed "
       ]
      },
      {
       "output_type": "stream",
       "stream": "stdout",
       "text": [
        " 637\n",
        "skipped  6\n",
        "590398422\n",
        "original article tmp file "
       ]
      },
      {
       "output_type": "stream",
       "stream": "stdout",
       "text": [
        " /tmp/tmph8WqRj.html\n",
        "/tmp/tmp5h8epY.html\n",
        "/tmp/tmph8WqRj.html\n",
        "/tmp/tmph8WqRj.html\n",
        "Now open file:///tmp/tmp5h8epY.html in your web browser\n"
       ]
      },
      {
       "output_type": "stream",
       "stream": "stdout",
       "text": [
        "\n",
        "processed  638\n",
        "skipped  6\n",
        "590399931\n",
        "original article tmp file "
       ]
      },
      {
       "output_type": "stream",
       "stream": "stdout",
       "text": [
        " /tmp/tmp7tRG4u.html\n",
        "/tmp/tmpqRZD2D.html\n",
        "/tmp/tmp7tRG4u.html\n",
        "/tmp/tmp7tRG4u.html\n",
        "Now open file:///tmp/tmpqRZD2D.html in your web browser\n"
       ]
      },
      {
       "output_type": "stream",
       "stream": "stdout",
       "text": [
        "\n",
        "processed  639\n",
        "skipped  6\n",
        "590411501\n",
        "original article tmp file "
       ]
      },
      {
       "output_type": "stream",
       "stream": "stdout",
       "text": [
        " /tmp/tmpkLAff9.html\n",
        "/tmp/tmpsTic68.html\n",
        "/tmp/tmpkLAff9.html\n",
        "/tmp/tmpkLAff9.html\n",
        "Now open file:///tmp/tmpsTic68.html in your web browser\n"
       ]
      },
      {
       "output_type": "stream",
       "stream": "stdout",
       "text": [
        "\n",
        "processed  640\n",
        "skipped  6\n",
        "590424369\n",
        "original article tmp file "
       ]
      },
      {
       "output_type": "stream",
       "stream": "stdout",
       "text": [
        " /tmp/tmpkhHn2G.html\n",
        "/tmp/tmpseI71f.html\n",
        "/tmp/tmpkhHn2G.html\n",
        "/tmp/tmpkhHn2G.html\n",
        "Now open file:///tmp/tmpseI71f.html in your web browser\n"
       ]
      },
      {
       "output_type": "stream",
       "stream": "stdout",
       "text": [
        "\n",
        "processed "
       ]
      },
      {
       "output_type": "stream",
       "stream": "stdout",
       "text": [
        " 641\n",
        "skipped  6\n",
        "590425749\n",
        "original article tmp file "
       ]
      },
      {
       "output_type": "stream",
       "stream": "stdout",
       "text": [
        " /tmp/tmpYtsfJG.html\n",
        "/tmp/tmpS7S2TS.html\n",
        "/tmp/tmpYtsfJG.html\n",
        "/tmp/tmpYtsfJG.html\n",
        "Now open file:///tmp/tmpS7S2TS.html in your web browser\n"
       ]
      },
      {
       "output_type": "stream",
       "stream": "stdout",
       "text": [
        "\n",
        "processed "
       ]
      },
      {
       "output_type": "stream",
       "stream": "stdout",
       "text": [
        " 642\n",
        "skipped  6\n",
        "590425776\n",
        "original article tmp file "
       ]
      },
      {
       "output_type": "stream",
       "stream": "stdout",
       "text": [
        " /tmp/tmpUTN0PC.html\n",
        "/tmp/tmp7EO5pq.html\n",
        "/tmp/tmpUTN0PC.html\n",
        "/tmp/tmpUTN0PC.html\n",
        "Now open file:///tmp/tmp7EO5pq.html in your web browser\n"
       ]
      },
      {
       "output_type": "stream",
       "stream": "stdout",
       "text": [
        "\n",
        "processed "
       ]
      },
      {
       "output_type": "stream",
       "stream": "stdout",
       "text": [
        " 643\n",
        "skipped  6\n",
        "590425824\n",
        "original article tmp file "
       ]
      },
      {
       "output_type": "stream",
       "stream": "stdout",
       "text": [
        " /tmp/tmpS9v87x.html\n",
        "/tmp/tmpYkS_IG.html\n",
        "/tmp/tmpS9v87x.html\n",
        "/tmp/tmpS9v87x.html\n",
        "Now open file:///tmp/tmpYkS_IG.html in your web browser\n"
       ]
      },
      {
       "output_type": "stream",
       "stream": "stdout",
       "text": [
        "\n",
        "processed "
       ]
      },
      {
       "output_type": "stream",
       "stream": "stdout",
       "text": [
        " 644\n",
        "skipped  6\n",
        "590437581\n",
        "original article tmp file "
       ]
      },
      {
       "output_type": "stream",
       "stream": "stdout",
       "text": [
        " /tmp/tmpSSPiL3.html\n",
        "/tmp/tmpM3viCZ.html\n",
        "/tmp/tmpSSPiL3.html\n",
        "/tmp/tmpSSPiL3.html\n",
        "Now open file:///tmp/tmpM3viCZ.html in your web browser\n"
       ]
      },
      {
       "output_type": "stream",
       "stream": "stdout",
       "text": [
        "\n",
        "processed  645\n",
        "skipped  6\n",
        "590441661\n",
        "original article tmp file "
       ]
      },
      {
       "output_type": "stream",
       "stream": "stdout",
       "text": [
        " /tmp/tmpR4KKM3.html\n",
        "/tmp/tmpzHYxDe.html\n",
        "/tmp/tmpR4KKM3.html\n",
        "/tmp/tmpR4KKM3.html\n",
        "Now open file:///tmp/tmpzHYxDe.html in your web browser\n"
       ]
      },
      {
       "output_type": "stream",
       "stream": "stdout",
       "text": [
        "\n",
        "processed "
       ]
      },
      {
       "output_type": "stream",
       "stream": "stdout",
       "text": [
        " 646\n",
        "skipped  6\n",
        "590441662\n",
        "original article tmp file "
       ]
      },
      {
       "output_type": "stream",
       "stream": "stdout",
       "text": [
        " /tmp/tmpGy4e1I.html\n",
        "/tmp/tmpwxmK5q.html\n",
        "/tmp/tmpGy4e1I.html\n",
        "/tmp/tmpGy4e1I.html\n",
        "Now open file:///tmp/tmpwxmK5q.html in your web browser\n"
       ]
      },
      {
       "output_type": "stream",
       "stream": "stdout",
       "text": [
        "\n",
        "processed "
       ]
      },
      {
       "output_type": "stream",
       "stream": "stdout",
       "text": [
        " 647\n",
        "skipped  6\n",
        "590460432\n",
        "original article tmp file "
       ]
      },
      {
       "output_type": "stream",
       "stream": "stdout",
       "text": [
        " /tmp/tmpJ_jiOS.html\n",
        "/tmp/tmpTfZufq.html\n",
        "/tmp/tmpJ_jiOS.html\n",
        "/tmp/tmpJ_jiOS.html\n",
        "Now open file:///tmp/tmpTfZufq.html in your web browser\n"
       ]
      },
      {
       "output_type": "stream",
       "stream": "stdout",
       "text": [
        "\n",
        "processed  648\n",
        "skipped  6\n",
        "590462467\n",
        "original article tmp file "
       ]
      },
      {
       "output_type": "stream",
       "stream": "stdout",
       "text": [
        " /tmp/tmp_wZNrQ.html\n",
        "/tmp/tmpmS3c4O.html\n",
        "/tmp/tmp_wZNrQ.html\n",
        "/tmp/tmp_wZNrQ.html\n",
        "Now open file:///tmp/tmpmS3c4O.html in your web browser\n"
       ]
      },
      {
       "output_type": "stream",
       "stream": "stdout",
       "text": [
        "\n",
        "processed "
       ]
      },
      {
       "output_type": "stream",
       "stream": "stdout",
       "text": [
        " 649\n",
        "skipped  6\n",
        "590512426\n",
        "original article tmp file "
       ]
      },
      {
       "output_type": "stream",
       "stream": "stdout",
       "text": [
        " /tmp/tmpaO2xd3.html\n",
        "/tmp/tmpPaDxt9.html\n",
        "/tmp/tmpaO2xd3.html\n",
        "/tmp/tmpaO2xd3.html\n",
        "Now open file:///tmp/tmpPaDxt9.html in your web browser\n"
       ]
      },
      {
       "output_type": "stream",
       "stream": "stdout",
       "text": [
        "\n",
        "processed  650\n",
        "skipped  6\n",
        "590514891\n",
        "original article tmp file "
       ]
      },
      {
       "output_type": "stream",
       "stream": "stdout",
       "text": [
        " /tmp/tmpbOim8X.html\n",
        "/tmp/tmpGM9Auq.html\n",
        "/tmp/tmpbOim8X.html\n",
        "/tmp/tmpbOim8X.html\n",
        "Now open file:///tmp/tmpGM9Auq.html in your web browser\n"
       ]
      },
      {
       "output_type": "stream",
       "stream": "stdout",
       "text": [
        "\n",
        "processed  651\n",
        "skipped  6\n",
        "590515180\n",
        "original article tmp file "
       ]
      },
      {
       "output_type": "stream",
       "stream": "stdout",
       "text": [
        " /tmp/tmpyLULFS.html\n",
        "/tmp/tmpUatlrl.html\n",
        "/tmp/tmpyLULFS.html\n",
        "/tmp/tmpyLULFS.html\n",
        "Now open file:///tmp/tmpUatlrl.html in your web browser\n"
       ]
      },
      {
       "output_type": "stream",
       "stream": "stdout",
       "text": [
        "\n",
        "processed  652\n",
        "skipped  6\n",
        "590529801\n",
        "original article tmp file "
       ]
      },
      {
       "output_type": "stream",
       "stream": "stdout",
       "text": [
        " /tmp/tmpUmvMg8.html\n",
        "/tmp/tmpHcegpW.html\n",
        "/tmp/tmpUmvMg8.html\n",
        "/tmp/tmpUmvMg8.html\n",
        "Now open file:///tmp/tmpHcegpW.html in your web browser\n"
       ]
      },
      {
       "output_type": "stream",
       "stream": "stdout",
       "text": [
        "\n",
        "processed "
       ]
      },
      {
       "output_type": "stream",
       "stream": "stdout",
       "text": [
        " 653\n",
        "skipped  6\n",
        "590531075\n",
        "original article tmp file "
       ]
      },
      {
       "output_type": "stream",
       "stream": "stdout",
       "text": [
        " /tmp/tmpZTvkrA.html\n",
        "/tmp/tmptyodY6.html\n",
        "/tmp/tmpZTvkrA.html\n",
        "/tmp/tmpZTvkrA.html\n",
        "Now open file:///tmp/tmptyodY6.html in your web browser\n"
       ]
      },
      {
       "output_type": "stream",
       "stream": "stdout",
       "text": [
        "\n",
        "processed  654\n",
        "skipped  6\n",
        "590542372\n",
        "original article tmp file "
       ]
      },
      {
       "output_type": "stream",
       "stream": "stdout",
       "text": [
        " /tmp/tmpPb8hiN.html\n",
        "/tmp/tmpF1l3Jk.html\n",
        "/tmp/tmpPb8hiN.html\n",
        "/tmp/tmpPb8hiN.html\n",
        "Now open file:///tmp/tmpF1l3Jk.html in your web browser\n"
       ]
      },
      {
       "output_type": "stream",
       "stream": "stdout",
       "text": [
        "\n",
        "processed  655\n",
        "skipped  6\n",
        "590542427\n",
        "original article tmp file "
       ]
      },
      {
       "output_type": "stream",
       "stream": "stdout",
       "text": [
        " /tmp/tmpRnemUg.html\n",
        "/tmp/tmpqQmrJK.html\n",
        "/tmp/tmpRnemUg.html\n",
        "/tmp/tmpRnemUg.html\n",
        "Now open file:///tmp/tmpqQmrJK.html in your web browser\n"
       ]
      },
      {
       "output_type": "stream",
       "stream": "stdout",
       "text": [
        "\n",
        "processed "
       ]
      },
      {
       "output_type": "stream",
       "stream": "stdout",
       "text": [
        " 656\n",
        "skipped  6\n",
        "590551407\n",
        "original article tmp file "
       ]
      },
      {
       "output_type": "stream",
       "stream": "stdout",
       "text": [
        " /tmp/tmpnjvmwW.html\n",
        "/tmp/tmpnJEg2d.html\n",
        "/tmp/tmpnjvmwW.html\n",
        "/tmp/tmpnjvmwW.html\n",
        "Now open file:///tmp/tmpnJEg2d.html in your web browser\n"
       ]
      },
      {
       "output_type": "stream",
       "stream": "stdout",
       "text": [
        "\n",
        "processed  657\n",
        "skipped  6\n",
        "590552268\n",
        "original article tmp file "
       ]
      },
      {
       "output_type": "stream",
       "stream": "stdout",
       "text": [
        " /tmp/tmp9ImZOV.html\n",
        "/tmp/tmpytj1a0.html\n",
        "/tmp/tmp9ImZOV.html\n",
        "/tmp/tmp9ImZOV.html\n",
        "Now open file:///tmp/tmpytj1a0.html in your web browser\n"
       ]
      },
      {
       "output_type": "stream",
       "stream": "stdout",
       "text": [
        "\n",
        "processed  658\n",
        "skipped  6\n",
        "590552363\n",
        "original article tmp file "
       ]
      },
      {
       "output_type": "stream",
       "stream": "stdout",
       "text": [
        " /tmp/tmpM_1ygD.html\n",
        "/tmp/tmpVb3AE_.html\n",
        "/tmp/tmpM_1ygD.html\n",
        "/tmp/tmpM_1ygD.html\n",
        "Now open file:///tmp/tmpVb3AE_.html in your web browser\n"
       ]
      },
      {
       "output_type": "stream",
       "stream": "stdout",
       "text": [
        "\n",
        "processed  659\n",
        "skipped  6\n",
        "590552784\n",
        "original article tmp file "
       ]
      },
      {
       "output_type": "stream",
       "stream": "stdout",
       "text": [
        " /tmp/tmpExytIR.html\n",
        "/tmp/tmpW19SqB.html\n",
        "/tmp/tmpExytIR.html\n",
        "/tmp/tmpExytIR.html\n",
        "Now open file:///tmp/tmpW19SqB.html in your web browser\n"
       ]
      },
      {
       "output_type": "stream",
       "stream": "stdout",
       "text": [
        "\n",
        "processed  660\n",
        "skipped  6\n",
        "590560741\n",
        "original article tmp file "
       ]
      },
      {
       "output_type": "stream",
       "stream": "stdout",
       "text": [
        " /tmp/tmpW2VmZf.html\n",
        "/tmp/tmpiO8Jbk.html\n",
        "/tmp/tmpW2VmZf.html\n",
        "/tmp/tmpW2VmZf.html\n",
        "Now open file:///tmp/tmpiO8Jbk.html in your web browser\n"
       ]
      },
      {
       "output_type": "stream",
       "stream": "stdout",
       "text": [
        "\n",
        "processed  661\n",
        "skipped  6\n",
        "590576816\n",
        "original article tmp file "
       ]
      },
      {
       "output_type": "stream",
       "stream": "stdout",
       "text": [
        " /tmp/tmpYpsx10.html\n",
        "/tmp/tmp7kQuVp.html\n",
        "/tmp/tmpYpsx10.html\n",
        "/tmp/tmpYpsx10.html\n",
        "Now open file:///tmp/tmp7kQuVp.html in your web browser\n"
       ]
      },
      {
       "output_type": "stream",
       "stream": "stdout",
       "text": [
        "\n",
        "processed  662\n",
        "skipped  6\n",
        "590585094\n",
        "original article tmp file "
       ]
      },
      {
       "output_type": "stream",
       "stream": "stdout",
       "text": [
        " /tmp/tmphPXnPs.html\n",
        "/tmp/tmpOaQABR.html\n",
        "/tmp/tmphPXnPs.html\n",
        "/tmp/tmphPXnPs.html\n",
        "Now open file:///tmp/tmpOaQABR.html in your web browser\n"
       ]
      },
      {
       "output_type": "stream",
       "stream": "stdout",
       "text": [
        "\n",
        "processed  663\n",
        "skipped  6\n",
        "590593066\n",
        "original article tmp file "
       ]
      },
      {
       "output_type": "stream",
       "stream": "stdout",
       "text": [
        " /tmp/tmp5eGk1q.html\n",
        "/tmp/tmpiasjkH.html\n",
        "/tmp/tmp5eGk1q.html\n",
        "/tmp/tmp5eGk1q.html\n",
        "Now open file:///tmp/tmpiasjkH.html in your web browser\n"
       ]
      },
      {
       "output_type": "stream",
       "stream": "stdout",
       "text": [
        "\n",
        "processed  664\n",
        "skipped  6\n",
        "590596271\n",
        "original article tmp file "
       ]
      },
      {
       "output_type": "stream",
       "stream": "stdout",
       "text": [
        " /tmp/tmpn9EevD.html\n",
        "/tmp/tmpxP4HCA.html\n",
        "/tmp/tmpn9EevD.html\n",
        "/tmp/tmpn9EevD.html\n",
        "Now open file:///tmp/tmpxP4HCA.html in your web browser\n"
       ]
      },
      {
       "output_type": "stream",
       "stream": "stdout",
       "text": [
        "\n",
        "processed  665\n",
        "skipped  6\n",
        "590605895\n",
        "original article tmp file "
       ]
      },
      {
       "output_type": "stream",
       "stream": "stdout",
       "text": [
        " /tmp/tmpMy6ioj.html\n",
        "/tmp/tmpMPHaZP.html\n",
        "/tmp/tmpMy6ioj.html\n",
        "/tmp/tmpMy6ioj.html\n",
        "Now open file:///tmp/tmpMPHaZP.html in your web browser\n"
       ]
      },
      {
       "output_type": "stream",
       "stream": "stdout",
       "text": [
        "\n",
        "processed  666\n",
        "skipped  6\n",
        "590620426\n",
        "original article tmp file "
       ]
      },
      {
       "output_type": "stream",
       "stream": "stdout",
       "text": [
        " /tmp/tmpjLZZ9E.html\n",
        "/tmp/tmpupsGoF.html\n",
        "/tmp/tmpjLZZ9E.html\n",
        "/tmp/tmpjLZZ9E.html\n",
        "Now open file:///tmp/tmpupsGoF.html in your web browser\n"
       ]
      },
      {
       "output_type": "stream",
       "stream": "stdout",
       "text": [
        "\n",
        "processed "
       ]
      },
      {
       "output_type": "stream",
       "stream": "stdout",
       "text": [
        " 667\n",
        "skipped  6\n",
        "590623508\n",
        "original article tmp file "
       ]
      },
      {
       "output_type": "stream",
       "stream": "stdout",
       "text": [
        " /tmp/tmpqnoV3b.html\n",
        "/tmp/tmpHpH5QB.html\n",
        "/tmp/tmpqnoV3b.html\n",
        "/tmp/tmpqnoV3b.html\n",
        "Now open file:///tmp/tmpHpH5QB.html in your web browser\n"
       ]
      },
      {
       "output_type": "stream",
       "stream": "stdout",
       "text": [
        "\n",
        "processed "
       ]
      },
      {
       "output_type": "stream",
       "stream": "stdout",
       "text": [
        " 668\n",
        "skipped  6\n",
        "590623511\n",
        "original article tmp file "
       ]
      },
      {
       "output_type": "stream",
       "stream": "stdout",
       "text": [
        " /tmp/tmpSZPOBk.html\n",
        "/tmp/tmpFGShgm.html\n",
        "/tmp/tmpSZPOBk.html\n",
        "/tmp/tmpSZPOBk.html\n",
        "Now open file:///tmp/tmpFGShgm.html in your web browser\n"
       ]
      },
      {
       "output_type": "stream",
       "stream": "stdout",
       "text": [
        "\n",
        "processed  669\n",
        "skipped  6\n",
        "590639137\n",
        "original article tmp file "
       ]
      },
      {
       "output_type": "stream",
       "stream": "stdout",
       "text": [
        " /tmp/tmp3yqIJU.html\n",
        "/tmp/tmpjBJtnn.html\n",
        "/tmp/tmp3yqIJU.html\n",
        "/tmp/tmp3yqIJU.html\n",
        "Now open file:///tmp/tmpjBJtnn.html in your web browser\n"
       ]
      },
      {
       "output_type": "stream",
       "stream": "stdout",
       "text": [
        "\n",
        "processed  670\n",
        "skipped  6\n",
        "590646856\n",
        "original article tmp file "
       ]
      },
      {
       "output_type": "stream",
       "stream": "stdout",
       "text": [
        " /tmp/tmpmifsi5.html\n",
        "/tmp/tmpGZVlRa.html\n",
        "/tmp/tmpmifsi5.html\n",
        "/tmp/tmpmifsi5.html\n",
        "Now open file:///tmp/tmpGZVlRa.html in your web browser\n"
       ]
      },
      {
       "output_type": "stream",
       "stream": "stdout",
       "text": [
        "\n",
        "processed "
       ]
      },
      {
       "output_type": "stream",
       "stream": "stdout",
       "text": [
        " 671\n",
        "skipped  6\n",
        "590647873\n",
        "original article tmp file "
       ]
      },
      {
       "output_type": "stream",
       "stream": "stdout",
       "text": [
        " /tmp/tmp55FEkY.html\n",
        "/tmp/tmp3JbRKY.html\n",
        "/tmp/tmp55FEkY.html\n",
        "/tmp/tmp55FEkY.html\n",
        "Now open file:///tmp/tmp3JbRKY.html in your web browser\n"
       ]
      },
      {
       "output_type": "stream",
       "stream": "stdout",
       "text": [
        "\n",
        "processed "
       ]
      },
      {
       "output_type": "stream",
       "stream": "stdout",
       "text": [
        " 672\n",
        "skipped  6\n",
        "590654819\n",
        "original article tmp file "
       ]
      },
      {
       "output_type": "stream",
       "stream": "stdout",
       "text": [
        " /tmp/tmpBFG7VO.html\n",
        "/tmp/tmpKutY8Y.html\n",
        "/tmp/tmpBFG7VO.html\n",
        "/tmp/tmpBFG7VO.html\n",
        "Now open file:///tmp/tmpKutY8Y.html in your web browser\n"
       ]
      },
      {
       "output_type": "stream",
       "stream": "stdout",
       "text": [
        "\n",
        "processed  673\n",
        "skipped  6\n",
        "590661408\n",
        "original article tmp file "
       ]
      },
      {
       "output_type": "stream",
       "stream": "stdout",
       "text": [
        " /tmp/tmpKPGgEN.html\n",
        "/tmp/tmpd3IQiV.html\n",
        "/tmp/tmpKPGgEN.html\n",
        "/tmp/tmpKPGgEN.html\n",
        "Now open file:///tmp/tmpd3IQiV.html in your web browser\n"
       ]
      },
      {
       "output_type": "stream",
       "stream": "stdout",
       "text": [
        "\n",
        "processed  674\n",
        "skipped  6\n",
        "590685837\n",
        "original article tmp file "
       ]
      },
      {
       "output_type": "stream",
       "stream": "stdout",
       "text": [
        " /tmp/tmpEiHsrm.html\n",
        "/tmp/tmpwkXQVs.html\n",
        "/tmp/tmpEiHsrm.html\n",
        "/tmp/tmpEiHsrm.html\n",
        "Now open file:///tmp/tmpwkXQVs.html in your web browser\n"
       ]
      },
      {
       "output_type": "stream",
       "stream": "stdout",
       "text": [
        "\n",
        "processed  675\n",
        "skipped  6\n",
        "590720858\n",
        "original article tmp file "
       ]
      },
      {
       "output_type": "stream",
       "stream": "stdout",
       "text": [
        " /tmp/tmppxe_HZ.html\n",
        "/tmp/tmpBWsv5H.html\n",
        "/tmp/tmppxe_HZ.html\n",
        "/tmp/tmppxe_HZ.html\n",
        "Now open file:///tmp/tmpBWsv5H.html in your web browser\n"
       ]
      },
      {
       "output_type": "stream",
       "stream": "stdout",
       "text": [
        "\n",
        "processed "
       ]
      },
      {
       "output_type": "stream",
       "stream": "stdout",
       "text": [
        " 676\n",
        "skipped  6\n",
        "590806668\n",
        "original article tmp file "
       ]
      },
      {
       "output_type": "stream",
       "stream": "stdout",
       "text": [
        " /tmp/tmp2JwScn.html\n",
        "/tmp/tmpWWlGpN.html\n",
        "/tmp/tmp2JwScn.html\n",
        "/tmp/tmp2JwScn.html\n",
        "Now open file:///tmp/tmpWWlGpN.html in your web browser\n"
       ]
      },
      {
       "output_type": "stream",
       "stream": "stdout",
       "text": [
        "\n",
        "processed  677\n",
        "skipped  6\n",
        "590841021\n",
        "original article tmp file "
       ]
      },
      {
       "output_type": "stream",
       "stream": "stdout",
       "text": [
        " /tmp/tmp50f9tH.html\n",
        "/tmp/tmpMKbXqt.html\n",
        "/tmp/tmp50f9tH.html\n",
        "/tmp/tmp50f9tH.html\n",
        "Now open file:///tmp/tmpMKbXqt.html in your web browser\n"
       ]
      },
      {
       "output_type": "stream",
       "stream": "stdout",
       "text": [
        "\n",
        "processed  678\n",
        "skipped  6\n",
        "590877233\n",
        "original article tmp file "
       ]
      },
      {
       "output_type": "stream",
       "stream": "stdout",
       "text": [
        " /tmp/tmp5tLx9h.html\n",
        "/tmp/tmpWPt5Vr.html\n",
        "/tmp/tmp5tLx9h.html\n",
        "/tmp/tmp5tLx9h.html\n",
        "Now open file:///tmp/tmpWPt5Vr.html in your web browser\n"
       ]
      },
      {
       "output_type": "stream",
       "stream": "stdout",
       "text": [
        "\n",
        "processed "
       ]
      },
      {
       "output_type": "stream",
       "stream": "stdout",
       "text": [
        " 679\n",
        "skipped  6\n",
        "590917078\n",
        "original article tmp file "
       ]
      },
      {
       "output_type": "stream",
       "stream": "stdout",
       "text": [
        " /tmp/tmp08QicS.html\n",
        "/tmp/tmpmii_nz.html\n",
        "/tmp/tmp08QicS.html\n",
        "/tmp/tmp08QicS.html\n",
        "Now open file:///tmp/tmpmii_nz.html in your web browser\n"
       ]
      },
      {
       "output_type": "stream",
       "stream": "stdout",
       "text": [
        "\n",
        "processed  680\n",
        "skipped  6\n",
        "590918616\n",
        "original article tmp file "
       ]
      },
      {
       "output_type": "stream",
       "stream": "stdout",
       "text": [
        " /tmp/tmpPf3isg.html\n",
        "/tmp/tmpmL82NB.html\n",
        "/tmp/tmpPf3isg.html\n",
        "/tmp/tmpPf3isg.html\n",
        "Now open file:///tmp/tmpmL82NB.html in your web browser\n"
       ]
      },
      {
       "output_type": "stream",
       "stream": "stdout",
       "text": [
        "\n",
        "processed "
       ]
      },
      {
       "output_type": "stream",
       "stream": "stdout",
       "text": [
        " 681\n",
        "skipped  6\n",
        "590918621\n",
        "original article tmp file "
       ]
      },
      {
       "output_type": "stream",
       "stream": "stdout",
       "text": [
        " /tmp/tmpZWwmY5.html\n",
        "/tmp/tmp54MfgY.html\n",
        "/tmp/tmpZWwmY5.html\n",
        "/tmp/tmpZWwmY5.html\n",
        "Now open file:///tmp/tmp54MfgY.html in your web browser\n"
       ]
      },
      {
       "output_type": "stream",
       "stream": "stdout",
       "text": [
        "\n",
        "processed  682\n",
        "skipped  6\n",
        "590929956\n",
        "original article tmp file "
       ]
      },
      {
       "output_type": "stream",
       "stream": "stdout",
       "text": [
        " /tmp/tmpGdemZV.html\n",
        "/tmp/tmp6iuu1p.html\n",
        "/tmp/tmpGdemZV.html\n",
        "/tmp/tmpGdemZV.html\n",
        "Now open file:///tmp/tmp6iuu1p.html in your web browser\n"
       ]
      },
      {
       "output_type": "stream",
       "stream": "stdout",
       "text": [
        "\n",
        "processed  683\n",
        "skipped  6\n",
        "590957300\n",
        "original article tmp file "
       ]
      },
      {
       "output_type": "stream",
       "stream": "stdout",
       "text": [
        " /tmp/tmplx2ZkA.html\n",
        "/tmp/tmp9so9N6.html\n",
        "/tmp/tmplx2ZkA.html\n",
        "/tmp/tmplx2ZkA.html\n",
        "Now open file:///tmp/tmp9so9N6.html in your web browser\n"
       ]
      },
      {
       "output_type": "stream",
       "stream": "stdout",
       "text": [
        "\n",
        "processed  684\n",
        "skipped  6\n",
        "590957745\n",
        "original article tmp file "
       ]
      },
      {
       "output_type": "stream",
       "stream": "stdout",
       "text": [
        " /tmp/tmpr1Elx3.html\n",
        "/tmp/tmpbwJtd_.html\n",
        "/tmp/tmpr1Elx3.html\n",
        "/tmp/tmpr1Elx3.html\n",
        "Now open file:///tmp/tmpbwJtd_.html in your web browser\n"
       ]
      },
      {
       "output_type": "stream",
       "stream": "stdout",
       "text": [
        "\n",
        "processed "
       ]
      },
      {
       "output_type": "stream",
       "stream": "stdout",
       "text": [
        " 685\n",
        "skipped  6\n",
        "590961196\n",
        "original article tmp file "
       ]
      },
      {
       "output_type": "stream",
       "stream": "stdout",
       "text": [
        " /tmp/tmpGIA_gb.html\n",
        "/tmp/tmpVDWySV.html\n",
        "/tmp/tmpGIA_gb.html\n",
        "/tmp/tmpGIA_gb.html\n",
        "Now open file:///tmp/tmpVDWySV.html in your web browser\n"
       ]
      },
      {
       "output_type": "stream",
       "stream": "stdout",
       "text": [
        "\n",
        "processed "
       ]
      },
      {
       "output_type": "stream",
       "stream": "stdout",
       "text": [
        " 686\n",
        "skipped  6\n",
        "590962451\n",
        "original article tmp file "
       ]
      },
      {
       "output_type": "stream",
       "stream": "stdout",
       "text": [
        " /tmp/tmpGaYOdD.html\n",
        "/tmp/tmpVZgRmo.html\n",
        "/tmp/tmpGaYOdD.html\n",
        "/tmp/tmpGaYOdD.html\n",
        "Now open file:///tmp/tmpVZgRmo.html in your web browser\n"
       ]
      },
      {
       "output_type": "stream",
       "stream": "stdout",
       "text": [
        "\n",
        "processed "
       ]
      },
      {
       "output_type": "stream",
       "stream": "stdout",
       "text": [
        " 687\n",
        "skipped  6\n",
        "590975183\n",
        "original article tmp file "
       ]
      },
      {
       "output_type": "stream",
       "stream": "stdout",
       "text": [
        " /tmp/tmpWfWfmw.html\n",
        "/tmp/tmpHwBiWY.html\n",
        "/tmp/tmpWfWfmw.html\n",
        "/tmp/tmpWfWfmw.html\n",
        "Now open file:///tmp/tmpHwBiWY.html in your web browser\n"
       ]
      },
      {
       "output_type": "stream",
       "stream": "stdout",
       "text": [
        "\n",
        "processed  688\n",
        "skipped  6\n",
        "590975515\n",
        "original article tmp file "
       ]
      },
      {
       "output_type": "stream",
       "stream": "stdout",
       "text": [
        " /tmp/tmpJe5igt.html\n",
        "/tmp/tmpw007nz.html\n",
        "/tmp/tmpJe5igt.html\n",
        "/tmp/tmpJe5igt.html\n",
        "Now open file:///tmp/tmpw007nz.html in your web browser\n"
       ]
      },
      {
       "output_type": "stream",
       "stream": "stdout",
       "text": [
        "\n",
        "processed  689\n",
        "skipped  6\n",
        "590975517\n",
        "original article tmp file "
       ]
      },
      {
       "output_type": "stream",
       "stream": "stdout",
       "text": [
        " /tmp/tmpFq5EtS.html\n",
        "/tmp/tmp89sVfQ.html\n",
        "/tmp/tmpFq5EtS.html\n",
        "/tmp/tmpFq5EtS.html\n",
        "Now open file:///tmp/tmp89sVfQ.html in your web browser\n"
       ]
      },
      {
       "output_type": "stream",
       "stream": "stdout",
       "text": [
        "\n",
        "processed  690\n",
        "skipped  6\n",
        "590976484\n",
        "original article tmp file "
       ]
      },
      {
       "output_type": "stream",
       "stream": "stdout",
       "text": [
        " /tmp/tmpbboVoy.html\n",
        "/tmp/tmp8NPeJb.html\n",
        "/tmp/tmpbboVoy.html\n",
        "/tmp/tmpbboVoy.html\n",
        "Now open file:///tmp/tmp8NPeJb.html in your web browser\n"
       ]
      },
      {
       "output_type": "stream",
       "stream": "stdout",
       "text": [
        "\n"
       ]
      }
     ],
     "prompt_number": 188
    },
    {
     "cell_type": "code",
     "collapsed": false,
     "input": [
      "def filter_by_media_tags_id( comps_downloads, media_tags_ids ):\n",
      "    media_ids_matching = set()\n",
      "    #print media_id_media_map\n",
      "    for media_id, media in media_id_media_map.iteritems():\n",
      "        if not media[ 'media_source_tags_ids'].isdisjoint( media_tags_ids ):\n",
      "            media_ids_matching.add( media_id )\n",
      "            \n",
      "    return  [cd for cd in comps_downloads if cd['media_id'] in media_ids_matching ]"
     ],
     "language": "python",
     "metadata": {},
     "outputs": [],
     "prompt_number": 189
    },
    {
     "cell_type": "code",
     "collapsed": false,
     "input": [
      "\n",
      "regional = { 2453107 }\n",
      "print \"region / pew knight sutdy / 245107 \"\n",
      "df = get_data_frame_from_comparision_objects( filter_by_media_tags_id( comps_downloads, regional ) )\n",
      "print_results_by_measurement_type( df )\n",
      "\n",
      "ap_english_us_top_25 = { 2453107 }\n",
      "print \"ap_english_us_top25 / 8875027 \"\n",
      "df = get_data_frame_from_comparision_objects( filter_by_media_tags_id( comps_downloads, regional ) )\n",
      "print_results_by_measurement_type( df )\n",
      "\n",
      "political_blogs = { 125 }\n",
      "print \"political blogs / 125\"\n",
      "df = get_data_frame_from_comparision_objects( filter_by_media_tags_id( comps_downloads, political_blogs ) )\n",
      "print_results_by_measurement_type( df )\n",
      "\n",
      "\n",
      "russian = { 7796878 }\n",
      "print 'russian'\n",
      "df = get_data_frame_from_comparision_objects( filter_by_media_tags_id( comps_downloads, russian ) )\n",
      "print_results_by_measurement_type( df )\n",
      "\n",
      "print 'brazil'\n",
      "df = get_data_frame_from_comparision_objects( filter_by_media_tags_id( comps_downloads, {8877968,  8877969, 8877973, 8877970 } ) )\n",
      "print_results_by_measurement_type( df )\n",
      "\n",
      "arabic = { 8878255 }\n",
      "print 'arabic'\n",
      "df = get_data_frame_from_comparision_objects( filter_by_media_tags_id( comps_downloads, arabic ) )\n",
      "print_results_by_measurement_type( df )\n",
      "                                             "
     ],
     "language": "python",
     "metadata": {},
     "outputs": [
      {
       "output_type": "stream",
       "stream": "stdout",
       "text": [
        "region / pew knight sutdy / 245107 \n",
        "       precision_boiler_pipe  precision_crf  precision_heur  \\\n",
        "count              99.000000      99.000000       99.000000   \n",
        "mean                0.784028       0.758038        0.775335   \n",
        "std                 0.265880       0.359197        0.210459   \n",
        "min                 0.022161       0.000000        0.103774   \n",
        "2%                  0.048742       0.000000        0.283567   \n",
        "5%                  0.174681       0.021983        0.334495   \n",
        "10%                 0.378678       0.047840        0.434835   \n",
        "50%                 0.906250       0.940379        0.845601   \n",
        "max                 0.998503       1.000000        1.000000   \n",
        "\n",
        "       precision_justext  precision_py_goose  precision_python_readibilty  \n",
        "count          99.000000           99.000000                    99.000000  \n",
        "mean            0.010101            0.906541                     0.926673  \n",
        "std             0.100504            0.211103                     0.138609  \n",
        "min             0.000000            0.168421                     0.143822  \n",
        "2%              0.000000            0.199097                     0.438315  \n",
        "5%              0.000000            0.341954                     0.614948  \n",
        "10%             0.000000            0.583747                     0.841220  \n",
        "50%             0.000000            0.998879                     0.968974  \n",
        "max             1.000000            1.000000                     1.000000  \n",
        "       recall_boiler_pipe  recall_crf  recall_heur  recall_justext  \\\n",
        "count           99.000000   99.000000    99.000000       99.000000   \n",
        "mean             0.894114    0.672322     0.883638        0.000439   \n",
        "std              0.212858    0.395491     0.118282        0.004364   \n",
        "min              0.066667    0.000000     0.119565        0.000000   \n",
        "2%               0.096834    0.000000     0.643265        0.000000   \n",
        "5%               0.300642    0.008215     0.705379        0.000000   \n",
        "10%              0.736682    0.013684     0.786406        0.000000   \n",
        "50%              0.965726    0.905983     0.911824        0.000000   \n",
        "max              1.000000    1.000000     0.993341        0.043421   \n",
        "\n",
        "       recall_py_goose  recall_python_readibilty  \n",
        "count        99.000000                 99.000000  \n",
        "mean          0.882764                  0.915441  \n",
        "std           0.182359                  0.128770  \n",
        "min           0.009485                  0.077586  \n",
        "2%            0.104133                  0.640930  \n",
        "5%            0.644290                  0.685469  \n",
        "10%           0.747826                  0.847998  \n",
        "50%           0.944882                  0.946387  \n",
        "max           1.000000                  1.000000  \n",
        "       f1_boiler_pipe     f1_crf    f1_heur  f1_justext  f1_py_goose  \\\n",
        "count       99.000000  99.000000  99.000000   99.000000    99.000000   \n",
        "mean         0.817554   0.673411   0.811916    0.000841     0.877355   \n",
        "std          0.233801   0.384847   0.168169    0.008365     0.199263   \n",
        "min          0.036739   0.000000   0.111111    0.000000     0.018717   \n",
        "2%           0.064660   0.000000   0.382075    0.000000     0.127751   \n",
        "5%           0.220870   0.010484   0.479951    0.000000     0.473974   \n",
        "10%          0.544272   0.021836   0.570644    0.000000     0.639255   \n",
        "50%          0.921590   0.920581   0.863579    0.000000     0.959322   \n",
        "max          0.999251   1.000000   0.994072    0.083228     1.000000   \n",
        "\n",
        "       f1_python_readibilty  \n",
        "count             99.000000  \n",
        "mean               0.908288  \n",
        "std                0.140196  \n",
        "min                0.136364  \n",
        "2%                 0.384693  \n",
        "5%                 0.715988  \n",
        "10%                0.794279  \n",
        "50%                0.950276  \n",
        "max                1.000000  \n",
        "ap_english_us_top25 / 8875027 \n",
        "       precision_boiler_pipe  precision_crf  precision_heur  \\\n",
        "count              99.000000      99.000000       99.000000   \n",
        "mean                0.784028       0.758038        0.775335   \n",
        "std                 0.265880       0.359197        0.210459   \n",
        "min                 0.022161       0.000000        0.103774   \n",
        "2%                  0.048742       0.000000        0.283567   \n",
        "5%                  0.174681       0.021983        0.334495   \n",
        "10%                 0.378678       0.047840        0.434835   \n",
        "50%                 0.906250       0.940379        0.845601   \n",
        "max                 0.998503       1.000000        1.000000   \n",
        "\n",
        "       precision_justext  precision_py_goose  precision_python_readibilty  \n",
        "count          99.000000           99.000000                    99.000000  \n",
        "mean            0.010101            0.906541                     0.926673  \n",
        "std             0.100504            0.211103                     0.138609  \n",
        "min             0.000000            0.168421                     0.143822  \n",
        "2%              0.000000            0.199097                     0.438315  \n",
        "5%              0.000000            0.341954                     0.614948  \n",
        "10%             0.000000            0.583747                     0.841220  \n",
        "50%             0.000000            0.998879                     0.968974  \n",
        "max             1.000000            1.000000                     1.000000  "
       ]
      },
      {
       "output_type": "stream",
       "stream": "stdout",
       "text": [
        "\n",
        "       recall_boiler_pipe  recall_crf  recall_heur  recall_justext  \\\n",
        "count           99.000000   99.000000    99.000000       99.000000   \n",
        "mean             0.894114    0.672322     0.883638        0.000439   \n",
        "std              0.212858    0.395491     0.118282        0.004364   \n",
        "min              0.066667    0.000000     0.119565        0.000000   \n",
        "2%               0.096834    0.000000     0.643265        0.000000   \n",
        "5%               0.300642    0.008215     0.705379        0.000000   \n",
        "10%              0.736682    0.013684     0.786406        0.000000   \n",
        "50%              0.965726    0.905983     0.911824        0.000000   \n",
        "max              1.000000    1.000000     0.993341        0.043421   \n",
        "\n",
        "       recall_py_goose  recall_python_readibilty  \n",
        "count        99.000000                 99.000000  \n",
        "mean          0.882764                  0.915441  \n",
        "std           0.182359                  0.128770  \n",
        "min           0.009485                  0.077586  \n",
        "2%            0.104133                  0.640930  \n",
        "5%            0.644290                  0.685469  \n",
        "10%           0.747826                  0.847998  \n",
        "50%           0.944882                  0.946387  \n",
        "max           1.000000                  1.000000  \n",
        "       f1_boiler_pipe     f1_crf    f1_heur  f1_justext  f1_py_goose  \\\n",
        "count       99.000000  99.000000  99.000000   99.000000    99.000000   \n",
        "mean         0.817554   0.673411   0.811916    0.000841     0.877355   \n",
        "std          0.233801   0.384847   0.168169    0.008365     0.199263   \n",
        "min          0.036739   0.000000   0.111111    0.000000     0.018717   \n",
        "2%           0.064660   0.000000   0.382075    0.000000     0.127751   \n",
        "5%           0.220870   0.010484   0.479951    0.000000     0.473974   \n",
        "10%          0.544272   0.021836   0.570644    0.000000     0.639255   \n",
        "50%          0.921590   0.920581   0.863579    0.000000     0.959322   \n",
        "max          0.999251   1.000000   0.994072    0.083228     1.000000   \n",
        "\n",
        "       f1_python_readibilty  \n",
        "count             99.000000  \n",
        "mean               0.908288  \n",
        "std                0.140196  \n",
        "min                0.136364  \n",
        "2%                 0.384693  \n",
        "5%                 0.715988  \n",
        "10%                0.794279  \n",
        "50%                0.950276  \n",
        "max                1.000000  \n",
        "political blogs / 125\n",
        "       precision_boiler_pipe  precision_crf  precision_heur  \\\n",
        "count             150.000000     150.000000      150.000000   \n",
        "mean                0.743028       0.703281        0.647218   \n",
        "std                 0.345849       0.395914        0.383299   \n",
        "min                 0.000000       0.000000        0.000000   \n",
        "2%                  0.000000       0.000000        0.000000   \n",
        "5%                  0.003266       0.000000        0.000000   \n",
        "10%                 0.009416       0.003908        0.001473   \n",
        "50%                 0.898243       0.952682        0.844254   \n",
        "max                 1.000000       1.000000        1.000000   \n",
        "\n",
        "       precision_justext  precision_py_goose  precision_python_readibilty  \n",
        "count                150          150.000000                   150.000000  \n",
        "mean                   0            0.851749                     0.875191  \n",
        "std                    0            0.284013                     0.250389  \n",
        "min                    0            0.000000                     0.013793  \n",
        "2%                     0            0.027380                     0.030579  \n",
        "5%                     0            0.113894                     0.076588  \n",
        "10%                    0            0.362987                     0.564904  \n",
        "50%                    0            0.991226                     0.985371  \n",
        "max                    0            1.000000                     1.000000  \n",
        "       recall_boiler_pipe  recall_crf  recall_heur  recall_justext  \\\n",
        "count          150.000000  150.000000   150.000000             150   \n",
        "mean             0.809645    0.635796     0.711805               0   \n",
        "std              0.294552    0.414077     0.356853               0   \n",
        "min              0.000000    0.000000     0.000000               0   \n",
        "2%               0.000000    0.000000     0.000000               0   \n",
        "5%               0.042455    0.000000     0.000000               0   \n",
        "10%              0.160951    0.013039     0.009473               0   \n",
        "50%              0.950062    0.868293     0.896673               0   \n",
        "max              0.997763    1.000000     1.000000               0   \n",
        "\n",
        "       recall_py_goose  recall_python_readibilty  \n",
        "count       150.000000                150.000000  \n",
        "mean          0.750323                  0.801669  \n",
        "std           0.305415                  0.318740  \n",
        "min           0.000000                  0.020690  \n",
        "2%            0.010192                  0.035595  \n",
        "5%            0.080057                  0.066377  \n",
        "10%           0.230769                  0.161111  \n",
        "50%           0.915775                  0.969975  \n",
        "max           1.000000                  1.000000  "
       ]
      },
      {
       "output_type": "stream",
       "stream": "stdout",
       "text": [
        "\n",
        "       f1_boiler_pipe      f1_crf     f1_heur  f1_justext  f1_py_goose  \\\n",
        "count      150.000000  150.000000  150.000000         150   150.000000   \n",
        "mean         0.755692    0.642402    0.648848           0     0.763425   \n",
        "std          0.336576    0.410614    0.369738           0     0.306178   \n",
        "min          0.000000    0.000000    0.000000           0     0.000000   \n",
        "2%           0.000000    0.000000    0.000000           0     0.020178   \n",
        "5%           0.006388    0.000000    0.000000           0     0.054391   \n",
        "10%          0.016950    0.007381    0.002750           0     0.278314   \n",
        "50%          0.918862    0.900253    0.850745           0     0.943533   \n",
        "max          0.994426    1.000000    1.000000           0     1.000000   \n",
        "\n",
        "       f1_python_readibilty  \n",
        "count            150.000000  \n",
        "mean               0.801962  \n",
        "std                0.310299  \n",
        "min                0.026549  \n",
        "2%                 0.034729  \n",
        "5%                 0.065303  \n",
        "10%                0.150998  \n",
        "50%                0.963556  \n",
        "max                1.000000  \n",
        "russian\n",
        "       precision_boiler_pipe  precision_crf  precision_heur  \\\n",
        "count             132.000000     132.000000      132.000000   \n",
        "mean                0.269171       0.765429        0.705631   \n",
        "std                 0.408329       0.342681        0.305893   \n",
        "min                 0.000000       0.000000        0.007236   \n",
        "2%                  0.000000       0.000000        0.105401   \n",
        "5%                  0.000000       0.000000        0.155484   \n",
        "10%                 0.003244       0.005783        0.262858   \n",
        "50%                 0.040237       0.916233        0.857627   \n",
        "max                 1.000000       1.000000        1.000000   \n",
        "\n",
        "       precision_justext  precision_py_goose  precision_python_readibilty  \n",
        "count                132          132.000000                   132.000000  \n",
        "mean                   0            0.847104                     0.946698  \n",
        "std                    0            0.200222                     0.139850  \n",
        "min                    0            0.000000                     0.018519  \n",
        "2%                     0            0.270000                     0.503566  \n",
        "5%                     0            0.413194                     0.842260  \n",
        "10%                    0            0.666667                     0.904014  \n",
        "50%                    0            0.870833                     0.980456  \n",
        "max                    0            1.000000                     1.000000  \n",
        "       recall_boiler_pipe  recall_crf  recall_heur  recall_justext  \\\n",
        "count          132.000000  132.000000   132.000000             132   \n",
        "mean             0.278917    0.669545     0.839645               0   \n",
        "std              0.397568    0.391909     0.214641               0   \n",
        "min              0.000000    0.000000     0.046729               0   \n",
        "2%               0.000000    0.000000     0.139112               0   \n",
        "5%               0.000000    0.000000     0.338316               0   \n",
        "10%              0.003318    0.010585     0.464697               0   \n",
        "50%              0.052051    0.901394     0.911665               0   \n",
        "max              1.000000    1.000000     1.000000               0   \n",
        "\n",
        "       recall_py_goose  recall_python_readibilty  \n",
        "count       132.000000                132.000000  \n",
        "mean          0.064287                  0.879390  \n",
        "std           0.092892                  0.194919  \n",
        "min           0.000000                  0.020725  \n",
        "2%            0.000655                  0.057854  \n",
        "5%            0.002284                  0.655007  \n",
        "10%           0.006494                  0.754755  \n",
        "50%           0.051879                  0.937048  \n",
        "max           0.984456                  1.000000  \n",
        "       f1_boiler_pipe      f1_crf     f1_heur  f1_justext  f1_py_goose  \\\n",
        "count      132.000000  132.000000  132.000000         132   132.000000   \n",
        "mean         0.266491    0.678140    0.711908           0     0.110514   \n",
        "std          0.395456    0.378465    0.244355           0     0.109340   \n",
        "min          0.000000    0.000000    0.012531           0     0.000000   \n",
        "2%           0.000000    0.000000    0.154611           0     0.001305   \n",
        "5%           0.000000    0.000000    0.232203           0     0.004549   \n",
        "10%          0.003280    0.010382    0.382348           0     0.012888   \n",
        "50%          0.043541    0.893730    0.772415           0     0.098124   \n",
        "max          1.000000    1.000000    0.995342           0     0.987013   \n",
        "\n",
        "       f1_python_readibilty  \n",
        "count            132.000000  \n",
        "mean               0.899856  \n",
        "std                0.184280  \n",
        "min                0.026781  \n",
        "2%                 0.098648  \n",
        "5%                 0.778182  \n",
        "10%                0.843508  \n",
        "50%                0.944767  \n",
        "max                0.998452  "
       ]
      },
      {
       "output_type": "stream",
       "stream": "stdout",
       "text": [
        "\n",
        "brazil\n",
        "       precision_boiler_pipe  precision_crf  precision_heur  \\\n",
        "count              68.000000      68.000000       68.000000   \n",
        "mean                0.738121       0.806028        0.773511   \n",
        "std                 0.225402       0.327433        0.259151   \n",
        "min                 0.026814       0.007904        0.012282   \n",
        "2%                  0.035758       0.053482        0.023565   \n",
        "5%                  0.162309       0.060823        0.203831   \n",
        "10%                 0.514742       0.119048        0.422877   \n",
        "50%                 0.779800       0.977858        0.876928   \n",
        "max                 0.985185       1.000000        1.000000   \n",
        "\n",
        "       precision_justext  precision_py_goose  precision_python_readibilty  \n",
        "count          68.000000           68.000000                    68.000000  \n",
        "mean            0.824943            0.922040                     0.933945  \n",
        "std             0.262413            0.221588                     0.196345  \n",
        "min             0.000000            0.000000                     0.025641  \n",
        "2%              0.083158            0.063504                     0.055792  \n",
        "5%              0.167644            0.349391                     0.762529  \n",
        "10%             0.422768            0.849259                     0.898384  \n",
        "50%             0.925042            1.000000                     0.992363  \n",
        "max             1.000000            1.000000                     1.000000  \n",
        "       recall_boiler_pipe  recall_crf  recall_heur  recall_justext  \\\n",
        "count           68.000000   68.000000    68.000000       68.000000   \n",
        "mean             0.835215    0.644613     0.909636        0.902005   \n",
        "std              0.226076    0.426597     0.193657        0.202827   \n",
        "min              0.018182    0.005300     0.011364        0.000000   \n",
        "2%               0.051205    0.008615     0.052758        0.023972   \n",
        "5%               0.201182    0.014083     0.771191        0.695833   \n",
        "10%              0.720135    0.026616     0.865360        0.784226   \n",
        "50%              0.859181    0.964305     0.958461        0.965498   \n",
        "max              1.000000    1.000000     1.000000        1.000000   \n",
        "\n",
        "       recall_py_goose  recall_python_readibilty  \n",
        "count        68.000000                 68.000000  \n",
        "mean          0.607518                  0.933066  \n",
        "std           0.371599                  0.195642  \n",
        "min           0.000000                  0.011364  \n",
        "2%            0.012158                  0.046229  \n",
        "5%            0.026560                  0.829076  \n",
        "10%           0.050315                  0.910169  \n",
        "50%           0.687500                  0.985078  \n",
        "max           1.000000                  1.000000  \n",
        "       f1_boiler_pipe     f1_crf    f1_heur  f1_justext  f1_py_goose  \\\n",
        "count       68.000000  68.000000  68.000000   68.000000    68.000000   \n",
        "mean         0.775892   0.663773   0.818896    0.843770     0.668861   \n",
        "std          0.222006   0.405073   0.227043    0.237362     0.346149   \n",
        "min          0.025932   0.010471   0.017513    0.000000     0.000000   \n",
        "2%           0.036298   0.013889   0.021787    0.037461     0.020621   \n",
        "5%           0.203813   0.018622   0.332815    0.262699     0.049322   \n",
        "10%          0.560181   0.039485   0.588313    0.588400     0.095804   \n",
        "50%          0.814688   0.940515   0.900178    0.933713     0.810567   \n",
        "max          0.991304   1.000000   0.991525    0.998405     1.000000   \n",
        "\n",
        "       f1_python_readibilty  \n",
        "count             68.000000  \n",
        "mean               0.931640  \n",
        "std                0.197473  \n",
        "min                0.017857  \n",
        "2%                 0.030716  \n",
        "5%                 0.858775  \n",
        "10%                0.914348  \n",
        "50%                0.982757  \n",
        "max                1.000000  \n",
        "arabic\n",
        "       precision_boiler_pipe  precision_crf  precision_heur  \\\n",
        "count             115.000000     115.000000      115.000000   \n",
        "mean                0.537255       0.715714        0.724547   \n",
        "std                 0.431023       0.355117        0.319529   \n",
        "min                 0.000000       0.000000        0.000000   \n",
        "2%                  0.000000       0.000000        0.000000   \n",
        "5%                  0.006739       0.008072        0.002855   \n",
        "10%                 0.022986       0.059318        0.202704   \n",
        "50%                 0.776119       0.917241        0.849315   \n",
        "max                 1.000000       1.000000        1.000000   \n",
        "\n",
        "       precision_justext  precision_py_goose  precision_python_readibilty  \n",
        "count                115          115.000000                   115.000000  \n",
        "mean                   0            0.891515                     0.922610  \n",
        "std                    0            0.262689                     0.153446  \n",
        "min                    0            0.000000                     0.166163  \n",
        "2%                     0            0.000000                     0.328704  \n",
        "5%                     0            0.000000                     0.596727  \n",
        "10%                    0            0.736364                     0.850014  \n",
        "50%                    0            1.000000                     0.980000  \n",
        "max                    0            1.000000                     1.000000  "
       ]
      },
      {
       "output_type": "stream",
       "stream": "stdout",
       "text": [
        "\n",
        "       recall_boiler_pipe  recall_crf  recall_heur  recall_justext  \\\n",
        "count          115.000000  115.000000   115.000000             115   \n",
        "mean             0.548636    0.747720     0.793631               0   \n",
        "std              0.434295    0.341361     0.264719               0   \n",
        "min              0.000000    0.000000     0.000000               0   \n",
        "2%               0.000000    0.000000     0.000000               0   \n",
        "5%               0.016255    0.006405     0.036413               0   \n",
        "10%              0.029240    0.103077     0.447289               0   \n",
        "50%              0.774648    0.928571     0.890909               0   \n",
        "max              1.000000    1.000000     1.000000               0   \n",
        "\n",
        "       recall_py_goose  recall_python_readibilty  \n",
        "count       115.000000                115.000000  \n",
        "mean          0.088980                  0.827518  \n",
        "std           0.147233                  0.257003  \n",
        "min           0.000000                  0.012255  \n",
        "2%            0.000000                  0.041202  \n",
        "5%            0.000000                  0.092583  \n",
        "10%           0.009557                  0.485242  \n",
        "50%           0.058824                  0.921569  \n",
        "max           1.000000                  1.000000  \n",
        "       f1_boiler_pipe      f1_crf     f1_heur  f1_justext  f1_py_goose  \\\n",
        "count      115.000000  115.000000  115.000000         115   115.000000   \n",
        "mean         0.531983    0.680103    0.728442           0     0.141716   \n",
        "std          0.425007    0.341073    0.284276           0     0.154684   \n",
        "min          0.000000    0.000000    0.000000           0     0.000000   \n",
        "2%           0.000000    0.000000    0.000000           0     0.000000   \n",
        "5%           0.010163    0.005877    0.005105           0     0.000000   \n",
        "10%          0.024127    0.080052    0.282520           0     0.018396   \n",
        "50%          0.784314    0.850608    0.848485           0     0.110236   \n",
        "max          1.000000    1.000000    1.000000           0     1.000000   \n",
        "\n",
        "       f1_python_readibilty  \n",
        "count            115.000000  \n",
        "mean               0.836737  \n",
        "std                0.242414  \n",
        "min                0.023585  \n",
        "2%                 0.078937  \n",
        "5%                 0.169412  \n",
        "10%                0.427273  \n",
        "50%                0.932476  \n",
        "max                1.000000  \n"
       ]
      }
     ],
     "prompt_number": 190
    },
    {
     "cell_type": "code",
     "collapsed": false,
     "input": [
      "df = get_data_frame_from_comparision_objects( comps_downloads )\n",
      "print_results_by_measurement_type( df )\n",
      "#df.describe()\n"
     ],
     "language": "python",
     "metadata": {},
     "outputs": [
      {
       "output_type": "stream",
       "stream": "stdout",
       "text": [
        "       precision_boiler_pipe  precision_crf  precision_heur  \\\n",
        "count             691.000000     691.000000      691.000000   \n",
        "mean                0.646929       0.719922        0.718759   \n",
        "std                 0.394887       0.377836        0.314831   \n",
        "min                 0.000000       0.000000        0.000000   \n",
        "2%                  0.000000       0.000000        0.000000   \n",
        "5%                  0.004325       0.000000        0.010950   \n",
        "10%                 0.019943       0.019380        0.164430   \n",
        "50%                 0.878453       0.942442        0.857422   \n",
        "max                 1.000000       1.000000        1.000000   \n",
        "\n",
        "       precision_justext  precision_py_goose  precision_python_readibilty  \n",
        "count         691.000000          691.000000                   691.000000  \n",
        "mean            0.110894            0.894848                     0.922171  \n",
        "std             0.297613            0.227541                     0.176728  \n",
        "min             0.000000            0.000000                     0.013793  \n",
        "2%              0.000000            0.032428                     0.118951  \n",
        "5%              0.000000            0.333333                     0.574257  \n",
        "10%             0.000000            0.630378                     0.846154  \n",
        "50%             0.000000            1.000000                     0.979167  \n",
        "max             1.000000            1.000000                     1.000000  \n",
        "       recall_boiler_pipe  recall_crf  recall_heur  recall_justext  \\\n",
        "count          691.000000  691.000000   691.000000      691.000000   \n",
        "mean             0.688405    0.668842     0.816064        0.121914   \n",
        "std              0.397559    0.394180     0.257200        0.317570   \n",
        "min              0.000000    0.000000     0.000000        0.000000   \n",
        "2%               0.000000    0.000000     0.000000        0.000000   \n",
        "5%               0.007074    0.000000     0.044140        0.000000   \n",
        "10%              0.030612    0.013667     0.434146        0.000000   \n",
        "50%              0.933628    0.904762     0.909483        0.000000   \n",
        "max              1.000000    1.000000     1.000000        1.000000   \n",
        "\n",
        "       recall_py_goose  recall_python_readibilty  \n",
        "count       691.000000                691.000000  \n",
        "mean          0.521661                  0.872764  \n",
        "std           0.417231                  0.227816  \n",
        "min           0.000000                  0.011364  \n",
        "2%            0.001766                  0.046848  \n",
        "5%            0.008816                  0.153509  \n",
        "10%           0.023438                  0.676289  \n",
        "50%           0.664032                  0.956364  \n",
        "max           1.000000                  1.000000  \n",
        "       f1_boiler_pipe      f1_crf     f1_heur  f1_justext  f1_py_goose  \\\n",
        "count      691.000000  691.000000  691.000000  691.000000   691.000000   \n",
        "mean         0.650829    0.650701    0.732240    0.111104     0.555485   \n",
        "std          0.393856    0.389474    0.285061    0.297067     0.405081   \n",
        "min          0.000000    0.000000    0.000000    0.000000     0.000000   \n",
        "2%           0.000000    0.000000    0.000000    0.000000     0.003524   \n",
        "5%           0.005576    0.000000    0.016755    0.000000     0.017140   \n",
        "10%          0.022195    0.016807    0.243661    0.000000     0.045714   \n",
        "50%          0.880000    0.890000    0.856423    0.000000     0.691358   \n",
        "max          1.000000    1.000000    1.000000    0.999634     1.000000   \n",
        "\n",
        "       f1_python_readibilty  \n",
        "count            691.000000  \n",
        "mean               0.877784  \n",
        "std                0.221022  \n",
        "min                0.017857  \n",
        "2%                 0.060375  \n",
        "5%                 0.179144  \n",
        "10%                0.710448  \n",
        "50%                0.953545  \n",
        "max                1.000000  \n"
       ]
      }
     ],
     "prompt_number": 191
    },
    {
     "cell_type": "code",
     "collapsed": false,
     "input": [
      "df.describe()"
     ],
     "language": "python",
     "metadata": {},
     "outputs": [
      {
       "html": [
        "<div style=\"max-height:1000px;max-width:1500px;overflow:auto;\">\n",
        "<table border=\"1\" class=\"dataframe\">\n",
        "  <thead>\n",
        "    <tr style=\"text-align: right;\">\n",
        "      <th></th>\n",
        "      <th>f1_boiler_pipe</th>\n",
        "      <th>f1_crf</th>\n",
        "      <th>f1_heur</th>\n",
        "      <th>f1_justext</th>\n",
        "      <th>f1_py_goose</th>\n",
        "      <th>f1_python_readibilty</th>\n",
        "      <th>precision_boiler_pipe</th>\n",
        "      <th>precision_crf</th>\n",
        "      <th>precision_heur</th>\n",
        "      <th>precision_justext</th>\n",
        "      <th>precision_py_goose</th>\n",
        "      <th>precision_python_readibilty</th>\n",
        "      <th>recall_boiler_pipe</th>\n",
        "      <th>recall_crf</th>\n",
        "      <th>recall_heur</th>\n",
        "      <th>recall_justext</th>\n",
        "      <th>recall_py_goose</th>\n",
        "      <th>recall_python_readibilty</th>\n",
        "    </tr>\n",
        "  </thead>\n",
        "  <tbody>\n",
        "    <tr>\n",
        "      <th>count</th>\n",
        "      <td> 691.000000</td>\n",
        "      <td> 691.000000</td>\n",
        "      <td> 691.000000</td>\n",
        "      <td> 691.000000</td>\n",
        "      <td> 691.000000</td>\n",
        "      <td> 691.000000</td>\n",
        "      <td> 691.000000</td>\n",
        "      <td> 691.000000</td>\n",
        "      <td> 691.000000</td>\n",
        "      <td> 691.000000</td>\n",
        "      <td> 691.000000</td>\n",
        "      <td> 691.000000</td>\n",
        "      <td> 691.000000</td>\n",
        "      <td> 691.000000</td>\n",
        "      <td> 691.000000</td>\n",
        "      <td> 691.000000</td>\n",
        "      <td> 691.000000</td>\n",
        "      <td> 691.000000</td>\n",
        "    </tr>\n",
        "    <tr>\n",
        "      <th>mean</th>\n",
        "      <td>   0.650829</td>\n",
        "      <td>   0.650701</td>\n",
        "      <td>   0.732240</td>\n",
        "      <td>   0.111104</td>\n",
        "      <td>   0.555485</td>\n",
        "      <td>   0.877784</td>\n",
        "      <td>   0.646929</td>\n",
        "      <td>   0.719922</td>\n",
        "      <td>   0.718759</td>\n",
        "      <td>   0.110894</td>\n",
        "      <td>   0.894848</td>\n",
        "      <td>   0.922171</td>\n",
        "      <td>   0.688405</td>\n",
        "      <td>   0.668842</td>\n",
        "      <td>   0.816064</td>\n",
        "      <td>   0.121914</td>\n",
        "      <td>   0.521661</td>\n",
        "      <td>   0.872764</td>\n",
        "    </tr>\n",
        "    <tr>\n",
        "      <th>std</th>\n",
        "      <td>   0.393856</td>\n",
        "      <td>   0.389474</td>\n",
        "      <td>   0.285061</td>\n",
        "      <td>   0.297067</td>\n",
        "      <td>   0.405081</td>\n",
        "      <td>   0.221022</td>\n",
        "      <td>   0.394887</td>\n",
        "      <td>   0.377836</td>\n",
        "      <td>   0.314831</td>\n",
        "      <td>   0.297613</td>\n",
        "      <td>   0.227541</td>\n",
        "      <td>   0.176728</td>\n",
        "      <td>   0.397559</td>\n",
        "      <td>   0.394180</td>\n",
        "      <td>   0.257200</td>\n",
        "      <td>   0.317570</td>\n",
        "      <td>   0.417231</td>\n",
        "      <td>   0.227816</td>\n",
        "    </tr>\n",
        "    <tr>\n",
        "      <th>min</th>\n",
        "      <td>   0.000000</td>\n",
        "      <td>   0.000000</td>\n",
        "      <td>   0.000000</td>\n",
        "      <td>   0.000000</td>\n",
        "      <td>   0.000000</td>\n",
        "      <td>   0.017857</td>\n",
        "      <td>   0.000000</td>\n",
        "      <td>   0.000000</td>\n",
        "      <td>   0.000000</td>\n",
        "      <td>   0.000000</td>\n",
        "      <td>   0.000000</td>\n",
        "      <td>   0.013793</td>\n",
        "      <td>   0.000000</td>\n",
        "      <td>   0.000000</td>\n",
        "      <td>   0.000000</td>\n",
        "      <td>   0.000000</td>\n",
        "      <td>   0.000000</td>\n",
        "      <td>   0.011364</td>\n",
        "    </tr>\n",
        "    <tr>\n",
        "      <th>25%</th>\n",
        "      <td>   0.119352</td>\n",
        "      <td>   0.241885</td>\n",
        "      <td>   0.608129</td>\n",
        "      <td>   0.000000</td>\n",
        "      <td>   0.113422</td>\n",
        "      <td>   0.908169</td>\n",
        "      <td>   0.109083</td>\n",
        "      <td>   0.490691</td>\n",
        "      <td>   0.505510</td>\n",
        "      <td>   0.000000</td>\n",
        "      <td>   0.937500</td>\n",
        "      <td>   0.936901</td>\n",
        "      <td>   0.149756</td>\n",
        "      <td>   0.189998</td>\n",
        "      <td>   0.829285</td>\n",
        "      <td>   0.000000</td>\n",
        "      <td>   0.061792</td>\n",
        "      <td>   0.892498</td>\n",
        "    </tr>\n",
        "    <tr>\n",
        "      <th>50%</th>\n",
        "      <td>   0.880000</td>\n",
        "      <td>   0.890000</td>\n",
        "      <td>   0.856423</td>\n",
        "      <td>   0.000000</td>\n",
        "      <td>   0.691358</td>\n",
        "      <td>   0.953545</td>\n",
        "      <td>   0.878453</td>\n",
        "      <td>   0.942442</td>\n",
        "      <td>   0.857422</td>\n",
        "      <td>   0.000000</td>\n",
        "      <td>   1.000000</td>\n",
        "      <td>   0.979167</td>\n",
        "      <td>   0.933628</td>\n",
        "      <td>   0.904762</td>\n",
        "      <td>   0.909483</td>\n",
        "      <td>   0.000000</td>\n",
        "      <td>   0.664032</td>\n",
        "      <td>   0.956364</td>\n",
        "    </tr>\n",
        "    <tr>\n",
        "      <th>75%</th>\n",
        "      <td>   0.963099</td>\n",
        "      <td>   0.966877</td>\n",
        "      <td>   0.936440</td>\n",
        "      <td>   0.000000</td>\n",
        "      <td>   0.963942</td>\n",
        "      <td>   0.983105</td>\n",
        "      <td>   0.961721</td>\n",
        "      <td>   1.000000</td>\n",
        "      <td>   0.972664</td>\n",
        "      <td>   0.000000</td>\n",
        "      <td>   1.000000</td>\n",
        "      <td>   1.000000</td>\n",
        "      <td>   0.979238</td>\n",
        "      <td>   0.974822</td>\n",
        "      <td>   0.956916</td>\n",
        "      <td>   0.000000</td>\n",
        "      <td>   0.948234</td>\n",
        "      <td>   0.985923</td>\n",
        "    </tr>\n",
        "    <tr>\n",
        "      <th>max</th>\n",
        "      <td>   1.000000</td>\n",
        "      <td>   1.000000</td>\n",
        "      <td>   1.000000</td>\n",
        "      <td>   0.999634</td>\n",
        "      <td>   1.000000</td>\n",
        "      <td>   1.000000</td>\n",
        "      <td>   1.000000</td>\n",
        "      <td>   1.000000</td>\n",
        "      <td>   1.000000</td>\n",
        "      <td>   1.000000</td>\n",
        "      <td>   1.000000</td>\n",
        "      <td>   1.000000</td>\n",
        "      <td>   1.000000</td>\n",
        "      <td>   1.000000</td>\n",
        "      <td>   1.000000</td>\n",
        "      <td>   1.000000</td>\n",
        "      <td>   1.000000</td>\n",
        "      <td>   1.000000</td>\n",
        "    </tr>\n",
        "  </tbody>\n",
        "</table>\n",
        "</div>"
       ],
       "metadata": {},
       "output_type": "pyout",
       "prompt_number": 192,
       "text": [
        "       f1_boiler_pipe      f1_crf     f1_heur  f1_justext  f1_py_goose  \\\n",
        "count      691.000000  691.000000  691.000000  691.000000   691.000000   \n",
        "mean         0.650829    0.650701    0.732240    0.111104     0.555485   \n",
        "std          0.393856    0.389474    0.285061    0.297067     0.405081   \n",
        "min          0.000000    0.000000    0.000000    0.000000     0.000000   \n",
        "25%          0.119352    0.241885    0.608129    0.000000     0.113422   \n",
        "50%          0.880000    0.890000    0.856423    0.000000     0.691358   \n",
        "75%          0.963099    0.966877    0.936440    0.000000     0.963942   \n",
        "max          1.000000    1.000000    1.000000    0.999634     1.000000   \n",
        "\n",
        "       f1_python_readibilty  precision_boiler_pipe  precision_crf  \\\n",
        "count            691.000000             691.000000     691.000000   \n",
        "mean               0.877784               0.646929       0.719922   \n",
        "std                0.221022               0.394887       0.377836   \n",
        "min                0.017857               0.000000       0.000000   \n",
        "25%                0.908169               0.109083       0.490691   \n",
        "50%                0.953545               0.878453       0.942442   \n",
        "75%                0.983105               0.961721       1.000000   \n",
        "max                1.000000               1.000000       1.000000   \n",
        "\n",
        "       precision_heur  precision_justext  precision_py_goose  \\\n",
        "count      691.000000         691.000000          691.000000   \n",
        "mean         0.718759           0.110894            0.894848   \n",
        "std          0.314831           0.297613            0.227541   \n",
        "min          0.000000           0.000000            0.000000   \n",
        "25%          0.505510           0.000000            0.937500   \n",
        "50%          0.857422           0.000000            1.000000   \n",
        "75%          0.972664           0.000000            1.000000   \n",
        "max          1.000000           1.000000            1.000000   \n",
        "\n",
        "       precision_python_readibilty  recall_boiler_pipe  recall_crf  \\\n",
        "count                   691.000000          691.000000  691.000000   \n",
        "mean                      0.922171            0.688405    0.668842   \n",
        "std                       0.176728            0.397559    0.394180   \n",
        "min                       0.013793            0.000000    0.000000   \n",
        "25%                       0.936901            0.149756    0.189998   \n",
        "50%                       0.979167            0.933628    0.904762   \n",
        "75%                       1.000000            0.979238    0.974822   \n",
        "max                       1.000000            1.000000    1.000000   \n",
        "\n",
        "       recall_heur  recall_justext  recall_py_goose  recall_python_readibilty  \n",
        "count   691.000000      691.000000       691.000000                691.000000  \n",
        "mean      0.816064        0.121914         0.521661                  0.872764  \n",
        "std       0.257200        0.317570         0.417231                  0.227816  \n",
        "min       0.000000        0.000000         0.000000                  0.011364  \n",
        "25%       0.829285        0.000000         0.061792                  0.892498  \n",
        "50%       0.909483        0.000000         0.664032                  0.956364  \n",
        "75%       0.956916        0.000000         0.948234                  0.985923  \n",
        "max       1.000000        1.000000         1.000000                  1.000000  "
       ]
      }
     ],
     "prompt_number": 192
    },
    {
     "cell_type": "code",
     "collapsed": false,
     "input": [
      "res = compare_extractors_for_download( 461179954 )\n",
      "res"
     ],
     "language": "python",
     "metadata": {},
     "outputs": [
      {
       "output_type": "stream",
       "stream": "stdout",
       "text": [
        "http://leonardoboff.wordpress.com/2014/01/23/os-rolezinhos-nos-acusam-somos-uma-sociedade-injusta-e-segregacionista/\n",
        "original article tmp file "
       ]
      },
      {
       "output_type": "stream",
       "stream": "stdout",
       "text": [
        " /tmp/tmpbME2DT.html\n",
        "/tmp/tmpteS1Ee.html\n",
        "/tmp/tmpbME2DT.html\n",
        "/tmp/tmpbME2DT.html\n",
        "Now open file:///tmp/tmpteS1Ee.html in your web browser\n"
       ]
      },
      {
       "output_type": "stream",
       "stream": "stdout",
       "text": [
        "\n"
       ]
      },
      {
       "metadata": {},
       "output_type": "pyout",
       "prompt_number": 193,
       "text": [
        "{'boiler_pipe': {'f1': 0.05381484592027909,\n",
        "  'precision': 0.027653288185107726,\n",
        "  'recall': 0.9976047904191617},\n",
        " 'crf': {'f1': 0.3154066985645933,\n",
        "  'precision': 0.1876993166287016,\n",
        "  'recall': 0.9868263473053892},\n",
        " 'downloads_id': 461179954,\n",
        " 'heur': {'f1': 0.9933694996986137,\n",
        "  'precision': 1.0,\n",
        "  'recall': 0.9868263473053892},\n",
        " 'justext': {'f1': 0.05956775742804918,\n",
        "  'precision': 0.030702726668144536,\n",
        "  'recall': 0.9952095808383233},\n",
        " 'media_id': 101927,\n",
        " 'py_goose': {'f1': 0.9951865222623345,\n",
        "  'precision': 1.0,\n",
        "  'recall': 0.9904191616766467},\n",
        " 'python_readibilty': {'f1': 0.2412060301507538,\n",
        "  'precision': 0.3010752688172043,\n",
        "  'recall': 0.20119760479041915}}"
       ]
      }
     ],
     "prompt_number": 193
    }
   ],
   "metadata": {}
  }
 ]
}