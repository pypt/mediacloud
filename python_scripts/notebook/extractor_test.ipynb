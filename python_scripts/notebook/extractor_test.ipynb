{
 "metadata": {
  "name": "",
  "signature": "sha256:e6196607dd61c04b365dcdf3394745636fe47d3eacdb8cc3057303b0c60176d3"
 },
 "nbformat": 3,
 "nbformat_minor": 0,
 "worksheets": [
  {
   "cells": [
    {
     "cell_type": "markdown",
     "metadata": {},
     "source": [
      "This notebook is intended enable testing and evaluation of various extractor methods such as:\n",
      "\n",
      "* Heuristic Extractor\n",
      "* CRF Extractor\n",
      "* boilerpipe\n"
     ]
    },
    {
     "cell_type": "code",
     "collapsed": false,
     "input": [
      "import cPickle\n",
      "import os.path\n",
      "\n",
      "api_key = cPickle.load( file( os.path.expanduser( '~/mediacloud_api_key.pickle' ), 'r' ) )"
     ],
     "language": "python",
     "metadata": {},
     "outputs": [],
     "prompt_number": 1
    },
    {
     "cell_type": "code",
     "collapsed": false,
     "input": [
      "import cPickle\n",
      "import os.path\n",
      "\n",
      "cPickle.dump( api_key, file( os.path.expanduser( '~/mediacloud_api_key.pickle' ), 'wb' ) )"
     ],
     "language": "python",
     "metadata": {},
     "outputs": [],
     "prompt_number": 2
    },
    {
     "cell_type": "code",
     "collapsed": false,
     "input": [
      "import sys\n",
      "sys.path.append('../../foreign_modules/python/')"
     ],
     "language": "python",
     "metadata": {},
     "outputs": [],
     "prompt_number": 3
    },
    {
     "cell_type": "code",
     "collapsed": false,
     "input": [
      "loc_key = 'f66a50230d54afaf18822808aed649f1d6ca72b08fb06d5efb6247afe9fbae52'"
     ],
     "language": "python",
     "metadata": {},
     "outputs": [],
     "prompt_number": 4
    },
    {
     "cell_type": "code",
     "collapsed": false,
     "input": [
      "import mediacloud, requests, csv, sys, os, json, cPickle\n",
      "\n",
      "def get_download( downloads_id ):\n",
      "    download = requests.get('https://api.mediacloud.org/api/v2/downloads/single/'+str(downloads_id)+'?key='+api_key)\n",
      "    return download.json()[0]\n",
      "\n",
      "def extract_story( preprocessed_lines, title, description, extractor_method ):\n",
      "    extract_params = {'key':loc_key, 'preprocessed_lines':preprocessed_lines, \n",
      "                           'story_title':title, 'story_description':description, 'extractor_method': extractor_method}\n",
      "    \n",
      "    extract_result = requests.put('http://0:3000/api/v2/extractlines/extract',data=json.dumps(extract_params), \n",
      "                                headers = {'Content-type': 'application/json'})\n",
      "    \n",
      "    extract_result.raise_for_status()\n",
      "    return extract_result.json()\n",
      "\n",
      "def get_story_lines( raw_content ):\n",
      "    story_lines_params = {'key':loc_key, 'body_html':raw_content }\n",
      "    headers = {'Content-type': 'application/json'}\n",
      "    story_lines = requests.put('http://0:3000/api/v2/extractlines/story_lines',data=json.dumps(story_lines_params), \n",
      "                               params={ 'key': loc_key },headers=headers)\n",
      "    \n",
      "    story_lines.raise_for_status()\n",
      "    \n",
      "    return story_lines"
     ],
     "language": "python",
     "metadata": {},
     "outputs": [],
     "prompt_number": 5
    },
    {
     "cell_type": "code",
     "collapsed": false,
     "input": [
      "import subprocess\n",
      "import tempfile\n",
      "import codecs\n",
      "import time\n",
      "from lxml import html\n",
      "\n",
      "#download = get_download( downloads_id )\n",
      "#raw_content = download[u'raw_content']\n",
      "\n",
      "def extract_with_boilerpipe( raw_content ):\n",
      "    with tempfile.NamedTemporaryFile( suffix='.html', delete=False ) as t:\n",
      "        #print t.name\n",
      "    \n",
      "        UTF8Writer = codecs.getwriter('utf8')\n",
      "        t.file = UTF8Writer(t.file)\n",
      "        t.file.write( raw_content )\n",
      "    \n",
      "        t.close()\n",
      "        time.sleep( 2 )\n",
      "        print \"original article tmp file \", t.name\n",
      "        \n",
      "        #input_file = '/tmp/416655019.htm'\n",
      "        input_file = t.name\n",
      "        \n",
      "        output_tmp = tempfile.NamedTemporaryFile( suffix='.html', delete=False )\n",
      "        \n",
      "        output_file = output_tmp.name\n",
      "        #output_file = '/tmp/highlighted.html'\n",
      "        print output_file\n",
      "        print subprocess.check_output(['java', '-jar',\n",
      "                               '/home/dlarochelle/dev_scratch/boilerpipe_test/out/artifacts/boilerpipe_test_jar/boilerpipe_test.jar',\n",
      "                               input_file, output_file ] )\n",
      "        f = open( output_file, 'rb' )\n",
      "        \n",
      "        annotated_file_str = f.read()\n",
      "        \n",
      "        #t.unlink( t.name )\n",
      "        output_tmp.close()\n",
      "        #output_tmp.unlink( output_tmp.name )\n",
      "        \n",
      "    return annotated_file_str\n",
      "\n"
     ],
     "language": "python",
     "metadata": {},
     "outputs": [],
     "prompt_number": 6
    },
    {
     "cell_type": "code",
     "collapsed": false,
     "input": [
      "import readability\n",
      "\n",
      "def extract_with_python_readability( raw_content ):\n",
      "    doc = readability.Document( raw_content )\n",
      "    \n",
      "    return [ doc.short_title(),\n",
      "             doc.summary() ]"
     ],
     "language": "python",
     "metadata": {},
     "outputs": [],
     "prompt_number": 7
    },
    {
     "cell_type": "code",
     "collapsed": false,
     "input": [
      "import operator\n",
      "\n",
      "def get_extractor_training_text( downloads_id, preprocessed_lines ):\n",
      "    extractor_training_lines_result = requests.get(\n",
      "                                                   'https://api.mediacloud.org/api/v2/extractlines/extractor_training_lines/' + str(downloads_id),\n",
      "                                               headers = {'Content-type': 'application/json'}\n",
      "                                               , params= {'key': api_key}\n",
      "                                               )\n",
      "\n",
      "    extractor_training_lines_result.raise_for_status()\n",
      "\n",
      "    extractor_training_lines_result = extractor_training_lines_result.json()\n",
      "    \n",
      "    line_numbers = [ x['line_number'] for x in extractor_training_lines_result ]\n",
      "    \n",
      "    line_numbers = sorted(line_numbers)\n",
      "    \n",
      "    line_numbers.sort()\n",
      "    \n",
      "    print line_numbers\n",
      "    \n",
      "    return operator.itemgetter( * line_numbers )( preprocessed_lines  )\n",
      "\n",
      "import operator\n",
      "\n",
      "def get_extracted_text( extractor_results ):\n",
      "    included_line_numbers = extractor_results['included_line_numbers']\n",
      "    print included_line_numbers\n",
      "    \n",
      "    dl = extractor_results['download_lines']\n",
      "   \n",
      "    if len( included_line_numbers ) == 0:\n",
      "        return []\n",
      "    else:    \n",
      "        return operator.itemgetter( * extractor_results['included_line_numbers']   )(dl)"
     ],
     "language": "python",
     "metadata": {},
     "outputs": [],
     "prompt_number": 8
    },
    {
     "cell_type": "code",
     "collapsed": false,
     "input": [
      "def html_strip( str ):\n",
      "    try:\n",
      "        return html.fromstring(str).text_content()    \n",
      "    except:\n",
      "        print \"Unexpected error on string '\" + str + \"'\" , sys.exc_info()[0]\n",
      "        #raise\n",
      "        return u''\n",
      "    \n",
      "    \n",
      "\n",
      "def clean_for_comparison( str ):\n",
      "    if len(str) > 0:\n",
      "        ret = html_strip( str )\n",
      "    else:\n",
      "        return str\n",
      "    \n",
      "    if len(ret) > 0:\n",
      "        ret = ret.strip()\n",
      "    \n",
      "    return ret    "
     ],
     "language": "python",
     "metadata": {},
     "outputs": [],
     "prompt_number": 9
    },
    {
     "cell_type": "code",
     "collapsed": false,
     "input": [
      "import Levenshtein\n",
      "\n",
      "def lines_to_comparable_text( lines ):\n",
      "    text = \" \".join([ clean_for_comparison(line) for line in lines ])\n",
      "    \n",
      "    if text == '':\n",
      "        text = u''\n",
      "        \n",
      "    return text\n",
      "\n",
      "def compare_accuracy( lines, lines_expected ):\n",
      "    return Levenshtein.distance( lines_to_comparable_text( lines ) , lines_to_comparable_text( lines_expected ) )"
     ],
     "language": "python",
     "metadata": {},
     "outputs": [],
     "prompt_number": 10
    },
    {
     "cell_type": "code",
     "collapsed": false,
     "input": [
      "def get_anncestors( element ):\n",
      "    anncestors = [ element ];\n",
      "    anncestor = element.getparent()\n",
      "    \n",
      "    while anncestor != None :\n",
      "        #print 'loop'\n",
      "        anncestors.append( anncestor )\n",
      "        anncestor = anncestor.getparent()\n",
      "        \n",
      "    return anncestors"
     ],
     "language": "python",
     "metadata": {},
     "outputs": [],
     "prompt_number": 115
    },
    {
     "cell_type": "code",
     "collapsed": false,
     "input": [
      "def text_from_lxml_object( obj):\n",
      "    if type(obj) is etree._ElementStringResult:\n",
      "        return str( obj)\n",
      "    else:\n",
      "        return etree.tostring( obj , method='text') "
     ],
     "language": "python",
     "metadata": {},
     "outputs": [],
     "prompt_number": 224
    },
    {
     "cell_type": "code",
     "collapsed": false,
     "input": [
      "from lxml import etree\n",
      "\n",
      "import xml.etree.ElementTree as ET\n",
      "\n",
      "downloads_id =  582817308 \n",
      "download = get_download( downloads_id )\n",
      "raw_content = download[ 'raw_content' ]"
     ],
     "language": "python",
     "metadata": {},
     "outputs": [],
     "prompt_number": 68
    },
    {
     "cell_type": "code",
     "collapsed": false,
     "input": [
      "with open( '/tmp/' + str(downloads_id) , 'wb' ) as f:\n",
      "    f.write( raw_content )\n",
      "\n",
      "htmlparser = etree.HTMLParser()\n",
      "root = etree.fromstring( raw_content, htmlparser )\n",
      "\n",
      "#annotation = {u'end_offset': 61, \n",
      "#             u'start_offset': 0,\n",
      "#             u'end_xpath':   u'/html[1]/body[1]/div[2]/div[4]/div[1]/div[3]/div[1]/h1[1]/text()[1]',\n",
      "#             u'start_xpath': u'/html[1]/body[1]/div[2]/div[4]/div[1]/div[3]/div[1]/h1[1]/text()[1]'}\n",
      "annotation = {u'end_offset': 28, u'end_xpath': u'/html[1]/body[1]/div[2]/div[4]/div[1]/div[3]/div[1]/div[1]/p[1]/span[3]/text()[1]', u'start_offset': 0, u'start_xpath': u'/html[1]/body[1]/div[2]/div[4]/div[1]/div[3]/div[1]/div[1]/p[1]/span[1]/text()[1]'}\n",
      "\n",
      "annotation = {u'end_offset': 26, u'end_xpath': u'/html[1]/body[1]/div[2]/div[4]/div[1]/div[3]/div[1]/span[1]/p[15]/text()[2]', u'start_offset': 1, u'start_xpath': u'/html[1]/body[1]/div[2]/div[4]/div[1]/div[3]/div[1]/span[1]/span[2]/p[1]/text()[1]'}\n",
      "#annotation = {u'end_offset': 272, u'end_xpath': u'/html[1]/body[1]/div[2]/div[4]/div[1]/div[3]/div[1]/span[1]/p[2]/text()[1]', u'start_offset': 0, u'start_xpath': u'/html[1]/body[1]/div[2]/div[4]/div[1]/div[3]/div[1]/span[1]/p[1]/text()[1]'}\n",
      "\n",
      "print annotation\n",
      "\n",
      "#print annotation[ 'start_xpath' ]\n",
      "\n",
      "start_container = root.xpath( annotation[ 'start_xpath' ] )[0]\n",
      "end_container   = root.xpath( annotation[ 'end_xpath' ] )[0]\n",
      "\n",
      "start_anncestors = get_anncestors( start_container )\n",
      "end_anncestors   = get_anncestors( end_container )\n",
      "\n",
      "print start_container\n",
      "print end_container\n",
      "print 'common'\n",
      "\n",
      "middle_contents = []\n",
      "\n",
      "p = start_container.getparent()\n",
      "prev_p = start_container\n",
      "\n",
      "if start_container.is_text:\n",
      "    # append the tail\n",
      "    texts = start_container.getparent().xpath('//text()')\n",
      "    if len( texts ) == 2:\n",
      "        middle_contents.append( texts[1] )\n",
      "                               \n",
      "\n",
      "while p not in end_anncestors:\n",
      "    #print \"parent:\", p, \"\\n\", etree.tostring( p )\n",
      "    assert p in start_anncestors\n",
      "    if prev_p != start_container:\n",
      "        child_index = p.index( prev_p )\n",
      "        if (child_index + 1) < len( list( p )):\n",
      "            el = list(p)[ child_index + 1]\n",
      "        else:\n",
      "            el = None\n",
      "            #print \"stripping previous parent is the last child of curparrent\"\n",
      "    else:\n",
      "        el = None\n",
      "\n",
      "    while (el not in end_anncestors) and (el != None) :\n",
      "        #print \"inner loop\"\n",
      "        #print el\n",
      "        #print etree.tostring( el )\n",
      "        middle_contents.append( el )\n",
      "        el = el.getnext()\n",
      "        \n",
      "    print \"end inner loop\"\n",
      "    prev_p = p\n",
      "    p = p.getparent()\n",
      "\n",
      "print \"end loop\"\n",
      "\n",
      "print p\n",
      "commonanncestors = list([ s for s in start_anncestors if s in end_anncestors ] )\n",
      "commonanncestor = commonanncestors[0]\n",
      "\n",
      "assert p == commonanncestor\n",
      "\n",
      "print \"commonacccestor\"\n",
      "print etree.tostring( commonanncestor )\n",
      "processed_child = [ c for c in list (commonanncestor) if c in start_anncestors ]\n",
      "assert( len( processed_child ) == 1 )\n",
      "processed_child = processed_child[ 0]\n",
      "\n",
      "el = processed_child.getnext()\n",
      "\n",
      "print \"start True\"\n",
      "while True:\n",
      "    \n",
      "        print 'outer loop:',  el, \"\\n\", etree.tostring( el )\n",
      "                \n",
      "        while (el not in end_anncestors):\n",
      "            print \"inner loop\"\n",
      "            #print el\n",
      "            #print etree.tostring( el )\n",
      "            middle_contents.append( el )\n",
      "            el = el.getnext()\n",
      "            \n",
      "        print 'end inner loop'\n",
      "        \n",
      "        if (len(list(el)) == 0 ):\n",
      "            break\n",
      "        \n",
      "        ## HACK bc/ lxml/etree doesn't have a real text node\n",
      "        \n",
      "        texts = el.xpath(\"//text()\")\n",
      "        \n",
      "        if len( texts) > 0:\n",
      "            if texts[0].is_text:\n",
      "                middle_contents.append(texts[0] );\n",
      "\n",
      "        el = el[0]\n",
      "        \n",
      "[ text_from_lxml_object( mc ) for mc in middle_contents ]"
     ],
     "language": "python",
     "metadata": {},
     "outputs": [
      {
       "output_type": "stream",
       "stream": "stdout",
       "text": [
        "{u'end_offset': 26, u'end_xpath': u'/html[1]/body[1]/div[2]/div[4]/div[1]/div[3]/div[1]/span[1]/p[15]/text()[2]', u'start_offset': 1, u'start_xpath': u'/html[1]/body[1]/div[2]/div[4]/div[1]/div[3]/div[1]/span[1]/span[2]/p[1]/text()[1]'}\n",
        " (Reuters) - High-ranking U.S. Senate Democrats have called on the Obama administration to reverse its new policy of detaining Central American immigrant families, warning it could be damaging to the young children being housed in the facilities.\n",
        "; Editing by Lisa Von Ahn)\n",
        "common\n",
        "end inner loop\n",
        "end inner loop\n",
        "end inner loop\n",
        "end loop\n",
        "<Element span at 0x7f6cfa6e4a50>\n",
        "commonacccestor\n",
        "<span id=\"articleText\">\n",
        "<span id=\"midArticle_start\"></span>\n",
        "\n",
        "<span class=\"focusParagraph\"><p><span class=\"articleLocation\">WASHINGTON</span> (Reuters) - High-ranking U.S. Senate Democrats have called on the Obama administration to reverse its new policy of detaining Central American immigrant families, warning it could be damaging to the young children being housed in the facilities.</p>\n",
        "</span><span id=\"midArticle_0\"></span><p>Senate Majority Leader Harry Reid of Nevada, Senate Judiciary Committee Chairman Patrick Leahy of Vermont and eight other Democrats wrote Department of Homeland Security Secretary Jeh Johnson on Thursday to complain about the detentions.</p><span id=\"midArticle_1\"></span><p>\"Mothers and their children who have fled violence in their home countries should not be treated like criminals,\" wrote the senators, who also included Democratic leadership members Dick Durbin of Illinois, Charles Schumer of New York and Patty Murray of Washington state.</p><span id=\"midArticle_2\"></span><p>The detention policy, which was initiated this past summer as tens of thousands of families and unaccompanied children rushed to the U.S. border, is part of a broader White House strategy of deterring another influx next year. [L2N0S51HW]</p><span id=\"midArticle_3\"></span><p>Many of the migrants are fleeing El Salvador, Honduras and Guatemala, where gang violence, drugs and human trafficking are rampant.</p><span id=\"midArticle_4\"></span><p>In 2009, the United States stopped housing newly arrived immigrant families in a troubled Texas detention facility. Instead, the Obama administration made less restrictive measures, such as ankle bracelets, telephone interviews and other monitoring programs the centerpiece of its policy for keeping tabs on migrants awaiting court determinations on their status. </p><span id=\"midArticle_5\"></span><p>But that changed a few months ago, as President Barack Obama was under intense pressure from Republicans in Congress to stop the record numbers of children and families seeking refuge in the United States and arriving without visas.</p><span id=\"midArticle_6\"></span><p>He responded by directing the opening of family detention centers, expediting immigration court cases, refusing bond for many of the migrants and working with Mexico to secure borders.</p><span id=\"midArticle_7\"></span><p>By year's end, the federal government will have the capacity to detain about 4,000 mothers and children at any one time in centers located in New Mexico, Texas and Pennsylvania.</p><span id=\"midArticle_8\"></span><p>Last month, the administration announced plans in coming months to open a second Texas facility, with 2,400 beds, to augment the three existing centers. Human rights and immigrant advocacy groups have criticized the move.</p><span id=\"midArticle_9\"></span><p>\"We are troubled by your apparent decision to make permanent and greatly expand the policy of family detention\" amid reports of problems caring for the detainees, the senators wrote.</p><span id=\"midArticle_10\"></span><p>In their letter, the senators also referred to problems detainees were having getting legal representation and the \"rushed nature\" of legal proceedings that could lead to the return of migrants to dangerous situations in their home countries.</p><span id=\"midArticle_11\"></span><p>Following the Nov. 4 congressional elections, Congress is expected to debate a budget bill that would contain funds for agencies tasked with handling the immigrant families. It was unclear whether the high-ranking Democratic senators will try to withhold future funding for the detention facilities.</p><span id=\"midArticle_12\"></span><p>Besides the controversial family detention centers, the government maintains more than 30,000 beds to detain adult immigrants awaiting decisions on whether they can stay in the United States.</p><span id=\"midArticle_13\"></span><p></p><span id=\"midArticle_14\"></span><p> (Reporting by <a href=\"http://blogs.reuters.com/search/journalist.php?edition=us&amp;n=richard.cowan&amp;\">Richard Cowan</a>; Editing by Lisa Von Ahn)</p><span id=\"midArticle_15\"></span></span>\n",
        "\n",
        "\n",
        "start True\n",
        "outer loop: <Element span at 0x7f6cfa7e8a50> \n",
        "<span id=\"midArticle_0\"></span>\n",
        "inner loop\n",
        "inner loop\n",
        "inner loop\n",
        "inner loop\n",
        "inner loop\n",
        "inner loop\n",
        "inner loop\n",
        "inner loop\n",
        "inner loop\n",
        "inner loop\n",
        "inner loop\n",
        "inner loop\n",
        "inner loop\n",
        "inner loop\n",
        "inner loop\n",
        "inner loop\n",
        "inner loop\n",
        "inner loop\n",
        "inner loop\n",
        "inner loop\n",
        "inner loop\n",
        "inner loop\n",
        "inner loop\n",
        "inner loop\n",
        "inner loop\n",
        "inner loop\n",
        "inner loop\n",
        "inner loop\n",
        "inner loop\n",
        "end inner loop\n",
        "outer loop: <Element a at 0x7f6cfa6e48c0> \n",
        "<a href=\"http://blogs.reuters.com/search/journalist.php?edition=us&amp;n=richard.cowan&amp;\">Richard Cowan</a>; Editing by Lisa Von Ahn)\n",
        "end inner loop\n"
       ]
      },
      {
       "metadata": {},
       "output_type": "pyout",
       "prompt_number": 227,
       "text": [
        "['',\n",
        " 'Senate Majority Leader Harry Reid of Nevada, Senate Judiciary Committee Chairman Patrick Leahy of Vermont and eight other Democrats wrote Department of Homeland Security Secretary Jeh Johnson on Thursday to complain about the detentions.',\n",
        " '',\n",
        " '\"Mothers and their children who have fled violence in their home countries should not be treated like criminals,\" wrote the senators, who also included Democratic leadership members Dick Durbin of Illinois, Charles Schumer of New York and Patty Murray of Washington state.',\n",
        " '',\n",
        " 'The detention policy, which was initiated this past summer as tens of thousands of families and unaccompanied children rushed to the U.S. border, is part of a broader White House strategy of deterring another influx next year. [L2N0S51HW]',\n",
        " '',\n",
        " 'Many of the migrants are fleeing El Salvador, Honduras and Guatemala, where gang violence, drugs and human trafficking are rampant.',\n",
        " '',\n",
        " 'In 2009, the United States stopped housing newly arrived immigrant families in a troubled Texas detention facility. Instead, the Obama administration made less restrictive measures, such as ankle bracelets, telephone interviews and other monitoring programs the centerpiece of its policy for keeping tabs on migrants awaiting court determinations on their status. ',\n",
        " '',\n",
        " 'But that changed a few months ago, as President Barack Obama was under intense pressure from Republicans in Congress to stop the record numbers of children and families seeking refuge in the United States and arriving without visas.',\n",
        " '',\n",
        " 'He responded by directing the opening of family detention centers, expediting immigration court cases, refusing bond for many of the migrants and working with Mexico to secure borders.',\n",
        " '',\n",
        " \"By year's end, the federal government will have the capacity to detain about 4,000 mothers and children at any one time in centers located in New Mexico, Texas and Pennsylvania.\",\n",
        " '',\n",
        " 'Last month, the administration announced plans in coming months to open a second Texas facility, with 2,400 beds, to augment the three existing centers. Human rights and immigrant advocacy groups have criticized the move.',\n",
        " '',\n",
        " '\"We are troubled by your apparent decision to make permanent and greatly expand the policy of family detention\" amid reports of problems caring for the detainees, the senators wrote.',\n",
        " '',\n",
        " 'In their letter, the senators also referred to problems detainees were having getting legal representation and the \"rushed nature\" of legal proceedings that could lead to the return of migrants to dangerous situations in their home countries.',\n",
        " '',\n",
        " 'Following the Nov. 4 congressional elections, Congress is expected to debate a budget bill that would contain funds for agencies tasked with handling the immigrant families. It was unclear whether the high-ranking Democratic senators will try to withhold future funding for the detention facilities.',\n",
        " '',\n",
        " 'Besides the controversial family detention centers, the government maintains more than 30,000 beds to detain adult immigrants awaiting decisions on whether they can stay in the United States.',\n",
        " '',\n",
        " '',\n",
        " '',\n",
        " '\\n']"
       ]
      }
     ],
     "prompt_number": 227
    },
    {
     "cell_type": "code",
     "collapsed": false,
     "input": [
      "\n",
      "\n",
      "print etree.tostring(el)\n",
      "\n",
      "print end_container.is_tail\n",
      "print end_container.is_text\n",
      "print \"escape while\"\n",
      "print list ( el.itertext() )\n",
      "print 'ca'\n",
      "#commonanncestor.text\n",
      "#type(el)\n",
      "type( end_container )\n",
      "\n",
      "start_text = start_container[annotation['start_offset'] - 1:]\n",
      "end_text = end_container[:annotation['end_offset'] - 1]\n",
      "target_text = [ start_text ]\n",
      "target_text.extend( [ text_from_lxml_object( mc ) for mc in middle_contents ] )\n",
      "target_text.append( end_text )\n",
      "\n",
      "target_text\n",
      "foo = \"ffff\"\n",
      "\n",
      "[ t for t in target_text if not t.isspace() and len(t) > 0  ]\n",
      "#commonanncestor.tail\n",
      "#print 'tail', commonanncestor.tail, 'd'\n",
      "#start_container.attrname\n",
      "#print el.tail\n",
      "#par = start_container.getparent()\n",
      "#gp = par.getparent()\n",
      "#start_container.is_text\n",
      "#el.tail.getparent()\n",
      "#list( par.itersiblings()  )\n",
      "#list(gp) \n",
      "#ell = el.getnext()\n",
      "\n",
      "#ell == None\n",
      "#el == None"
     ],
     "language": "python",
     "metadata": {},
     "outputs": [
      {
       "output_type": "stream",
       "stream": "stdout",
       "text": [
        "<a href=\"http://blogs.reuters.com/search/journalist.php?edition=us&amp;n=richard.cowan&amp;\">Richard Cowan</a>; Editing by Lisa Von Ahn)\n",
        "True\n",
        "False\n",
        "escape while\n",
        "['Richard Cowan']\n",
        "ca\n"
       ]
      },
      {
       "metadata": {},
       "output_type": "pyout",
       "prompt_number": 237,
       "text": [
        "[' (Reuters) - High-ranking U.S. Senate Democrats have called on the Obama administration to reverse its new policy of detaining Central American immigrant families, warning it could be damaging to the young children being housed in the facilities.',\n",
        " 'Senate Majority Leader Harry Reid of Nevada, Senate Judiciary Committee Chairman Patrick Leahy of Vermont and eight other Democrats wrote Department of Homeland Security Secretary Jeh Johnson on Thursday to complain about the detentions.',\n",
        " '\"Mothers and their children who have fled violence in their home countries should not be treated like criminals,\" wrote the senators, who also included Democratic leadership members Dick Durbin of Illinois, Charles Schumer of New York and Patty Murray of Washington state.',\n",
        " 'The detention policy, which was initiated this past summer as tens of thousands of families and unaccompanied children rushed to the U.S. border, is part of a broader White House strategy of deterring another influx next year. [L2N0S51HW]',\n",
        " 'Many of the migrants are fleeing El Salvador, Honduras and Guatemala, where gang violence, drugs and human trafficking are rampant.',\n",
        " 'In 2009, the United States stopped housing newly arrived immigrant families in a troubled Texas detention facility. Instead, the Obama administration made less restrictive measures, such as ankle bracelets, telephone interviews and other monitoring programs the centerpiece of its policy for keeping tabs on migrants awaiting court determinations on their status. ',\n",
        " 'But that changed a few months ago, as President Barack Obama was under intense pressure from Republicans in Congress to stop the record numbers of children and families seeking refuge in the United States and arriving without visas.',\n",
        " 'He responded by directing the opening of family detention centers, expediting immigration court cases, refusing bond for many of the migrants and working with Mexico to secure borders.',\n",
        " \"By year's end, the federal government will have the capacity to detain about 4,000 mothers and children at any one time in centers located in New Mexico, Texas and Pennsylvania.\",\n",
        " 'Last month, the administration announced plans in coming months to open a second Texas facility, with 2,400 beds, to augment the three existing centers. Human rights and immigrant advocacy groups have criticized the move.',\n",
        " '\"We are troubled by your apparent decision to make permanent and greatly expand the policy of family detention\" amid reports of problems caring for the detainees, the senators wrote.',\n",
        " 'In their letter, the senators also referred to problems detainees were having getting legal representation and the \"rushed nature\" of legal proceedings that could lead to the return of migrants to dangerous situations in their home countries.',\n",
        " 'Following the Nov. 4 congressional elections, Congress is expected to debate a budget bill that would contain funds for agencies tasked with handling the immigrant families. It was unclear whether the high-ranking Democratic senators will try to withhold future funding for the detention facilities.',\n",
        " 'Besides the controversial family detention centers, the government maintains more than 30,000 beds to detain adult immigrants awaiting decisions on whether they can stay in the United States.',\n",
        " '; Editing by Lisa Von Ahn']"
       ]
      }
     ],
     "prompt_number": 237
    },
    {
     "cell_type": "code",
     "collapsed": false,
     "input": [
      "#print 'end el'\n",
      "#print el\n",
      "#print etree.tostring( el )\n",
      "\n",
      "\n",
      "#print start_anncestors\n",
      "#print end_anncestors\n",
      "\n",
      "commonanncestors = list([ s for s in start_anncestors if s in end_anncestors ] )\n",
      "commonanncestor = commonanncestors[0]\n",
      "\n",
      "commonanncestor\n",
      "\n",
      "#print commonanncestor\n",
      "#print 'full dump'\n",
      "\n",
      "#print etree.tostring( commonanncestor )\n",
      "#parent = start_container.getparent()\n",
      "\n",
      "#parent.getnext()\n",
      "\n",
      "#parent.getnext().index( parent )\n",
      "#list(parent.itertext() )\n",
      "#list(parent)\n",
      "#.index( start_container )\n",
      "\n",
      "#root.xpath( '/html[1]/body[1]/div[2]/div[4]/div[1]/div[3]/div[1]/h1[1]/text()[1]'   )\n",
      "#root.xpath( '/html[1]/body[1]/div[2]/div[4]/div[1]/div[3]/div[1]/div[1]/p[1]/span[1]/text()[1]' )\n",
      "#res = root.xpath( '/html[1]/body[1]/div[2]/div[4]/div[1]/div[3]/div[1]/div[1]/p[1]/span[3]/text()[1]' )\n",
      "#res = root.xpath( '/html[1]/body[1]/div[2]/div[4]/div[1]/div[3]/div[1]/span[1]/span[2]/p[1]/text()[1]' )\n",
      "#res = root.xpath( '/html[1]/body[1]/div[2]/div[4]/div[1]/div[3]/div[1]/span[1]/p[15]/text()[2]' )\n",
      "#len ( res[0] )\n",
      "#res"
     ],
     "language": "python",
     "metadata": {},
     "outputs": []
    },
    {
     "cell_type": "code",
     "collapsed": false,
     "input": [
      "def compare_extractors_for_download( downloads_id ):\n",
      "    download = get_download( downloads_id )\n",
      "    \n",
      "    raw_content = download[u'raw_content']\n",
      "    stories_id = download[u'stories_id']\n",
      "    \n",
      "    story = requests.get('https://api.mediacloud.org/api/v2/stories/single/'+str(stories_id)+'?key='+api_key)\n",
      "    title = story.json()[0][u'title']\n",
      "    description = story.json()[0][u'description']\n",
      "    url = story.json()[0][u'url']\n",
      "    \n",
      "    story_lines = get_story_lines( raw_content )\n",
      "    #print story_lines.content\n",
      "    preprocessed_lines = story_lines.json()\n",
      "    \n",
      "    heur_extract = extract_story( preprocessed_lines, title, description, 'HeuristicExtractor')\n",
      "    crf_extract = extract_story( preprocessed_lines, title, description, 'CrfExtractor')\n",
      "    \n",
      "    heur_lines = get_extracted_text( heur_extract )\n",
      "    crf_lines  = get_extracted_text( crf_extract )\n",
      "    \n",
      "    python_readability_lines = extract_with_python_readability( raw_content )\n",
      "    \n",
      "    expected_lines = get_extractor_training_text( downloads_id, preprocessed_lines  )\n",
      "    \n",
      "    global glob_expected_lines\n",
      "    global glob_crf_lines\n",
      "    glob_expected_lines = expected_lines\n",
      "    glob_crf_lines      = crf_lines\n",
      "    \n",
      "    tree = html.fromstring( extract_with_boilerpipe( raw_content) )   \n",
      "    spans = tree.xpath('//span[@class=\"x-boilerpipe-mark1\"]')\n",
      "    boiler_pipe_lines = [ s.text for s in spans ]\n",
      "\n",
      "    #print \"expected_lines:\"\n",
      "    #print lines_to_comparable_text(expected_lines)\n",
      "    \n",
      "    #print \"boilerpipe lines\"\n",
      "    #print lines_to_comparable_text(boiler_pipe_lines)\n",
      "    \n",
      "    comp_results = {}\n",
      "    comp_results['heur'] = ratcliff_obershelp_compare( heur_lines, expected_lines )\n",
      "    comp_results['crf']  = ratcliff_obershelp_compare( crf_lines, expected_lines )\n",
      "    comp_results['boiler_pipe'] = ratcliff_obershelp_compare( boiler_pipe_lines, expected_lines )\n",
      "    comp_results['python_readibilty'] = ratcliff_obershelp_compare( python_readability_lines, expected_lines )\n",
      "    \n",
      "    comp_results['downloads_id'] = downloads_id\n",
      "    \n",
      "    #comp_results['expected']    = compare_accuracy( expected_lines, expected_lines )\n",
      "    return comp_results"
     ],
     "language": "python",
     "metadata": {},
     "outputs": [],
     "prompt_number": 288
    },
    {
     "cell_type": "code",
     "collapsed": false,
     "input": [
      "expec"
     ],
     "language": "python",
     "metadata": {},
     "outputs": []
    },
    {
     "cell_type": "code",
     "collapsed": false,
     "input": [
      "downloads_id = 416655019\n",
      "downloads_ids = [391881020,401370599,412896439,412952145,412977048,413024519,413657081,413835576,414040102,414257623,\n",
      "                 414377428,414480464,414818749,414983458,415185946,415186582,415197547,415424551,415978069,416026460,\n",
      "                 416026587,416047494,416047513,416210404,416263840,416306952,416426245,416655019,416730837,416802690,\n",
      "                 417347290,417347524,417368539,417389613,417477837,417653177,418489742,418544762,418574641,418648698,\n",
      "                 418661859,419404469,419440474,419483895,419873979,420430754,420599387,420666122,421520860,421834553,\n",
      "                 422181106,422280595,422910963,423318170,424080271,424369085,424796346,424840366,425206279,426405203,\n",
      "                 426560018,426632784,426709900,428449440,429607289,430363249,430995428,433457459,435624796,435659593,461175103,461175549,461176415,461176844,461177487,461178557,461178590,461179203,461179222,461179441,461179762,461179818,461179954,461179956,461180307,461181039,461181597,461186137,461186258,461186833,461187188,461187261,461187577,461188549,461189069,461190586,461193383]\n",
      "\n",
      "print len( downloads_ids )\n",
      "\n",
      "comps = []\n",
      "for downloads_id in downloads_ids:\n",
      "    print 'downloads_id:', downloads_id\n",
      "    res = compare_extractors_for_download( downloads_id )\n",
      "    print res\n",
      "    comps.append( res )\n",
      "    \n",
      "    \n",
      "comps"
     ],
     "language": "python",
     "metadata": {},
     "outputs": [
      {
       "output_type": "stream",
       "stream": "stdout",
       "text": [
        "97\n",
        "downloads_id: 391881020\n",
        "[31, 32, 87, 88, 89, 90]"
       ]
      },
      {
       "output_type": "stream",
       "stream": "stdout",
       "text": [
        "\n",
        "[29, 30, 31, 32]\n",
        "[30, 31]"
       ]
      },
      {
       "output_type": "stream",
       "stream": "stdout",
       "text": [
        "\n",
        "original article tmp file "
       ]
      },
      {
       "output_type": "stream",
       "stream": "stdout",
       "text": [
        " /tmp/tmpSadIsl.html\n",
        "/tmp/tmpyh2HW6.html\n",
        "/tmp/tmpSadIsl.html\n",
        "/tmp/tmpSadIsl.html\n",
        "Now open file:///tmp/tmpyh2HW6.html in your web browser\n"
       ]
      },
      {
       "output_type": "stream",
       "stream": "stdout",
       "text": [
        "\n",
        "{'heur': {'recall': 0.9744897959183674, 'precision': 0.834061135371179, 'f1': 0.8988235294117648}, 'boiler_pipe': {'recall': 0.8520408163265306, 'precision': 0.6139705882352942, 'f1': 0.7136752136752136}, 'downloads_id': 391881020, 'crf': {'recall': 1.0, 'precision': 0.7340823970037453, 'f1': 0.8466522678185745}, 'python_readibilty': {'recall': 0.9387755102040817, 'precision': 0.9435897435897436, 'f1': 0.9411764705882353}}\n",
        "downloads_id: 401370599\n",
        "[212, 303, 318, 333, 348, 404, 419, 420, 435, 436, 454, 554]"
       ]
      },
      {
       "output_type": "stream",
       "stream": "stdout",
       "text": [
        "\n",
        "[205, 212, 213]\n",
        "[202, 205, 212, 213]"
       ]
      },
      {
       "output_type": "stream",
       "stream": "stdout",
       "text": [
        "\n",
        "original article tmp file "
       ]
      },
      {
       "output_type": "stream",
       "stream": "stdout",
       "text": [
        " /tmp/tmpR6c8xG.html\n",
        "/tmp/tmptVqz6W.html\n",
        "/tmp/tmpR6c8xG.html\n",
        "/tmp/tmpR6c8xG.html\n",
        "Now open file:///tmp/tmptVqz6W.html in your web browser\n"
       ]
      },
      {
       "output_type": "stream",
       "stream": "stdout",
       "text": [
        "\n",
        "{'heur': {'recall': 0.8871794871794871, 'precision': 0.6975806451612904, 'f1': 0.7810383747178329}, 'boiler_pipe': {'recall': 0.9897435897435898, 'precision': 0.9796954314720813, 'f1': 0.9846938775510204}, 'downloads_id': 401370599, 'crf': {'recall': 0.9692307692307692, 'precision': 1.0, 'f1': 0.9843749999999999}, 'python_readibilty': {'recall': 1.0, 'precision': 0.9330143540669856, 'f1': 0.9653465346534654}}\n",
        "downloads_id: 412896439\n",
        "[265, 279, 281, 283, 285, 287, 289, 291, 293, 305, 307, 311, 313, 315]"
       ]
      },
      {
       "output_type": "stream",
       "stream": "stdout",
       "text": [
        "\n",
        "[265, 702]\n",
        "[265, 266, 267, 279, 281, 283, 285, 287, 289, 291, 293, 303, 305, 307, 309, 311, 313, 315, 702]"
       ]
      },
      {
       "output_type": "stream",
       "stream": "stdout",
       "text": [
        "\n",
        "original article tmp file "
       ]
      },
      {
       "output_type": "stream",
       "stream": "stdout",
       "text": [
        " /tmp/tmp5tHFMq.html\n",
        "/tmp/tmp1YOiDx.html\n",
        "/tmp/tmp5tHFMq.html\n",
        "/tmp/tmp5tHFMq.html\n",
        "Now open file:///tmp/tmp1YOiDx.html in your web browser\n"
       ]
      },
      {
       "output_type": "stream",
       "stream": "stdout",
       "text": [
        "\n",
        "{'heur': {'recall': 0.9464944649446494, 'precision': 1.0, 'f1': 0.9725118483412322}, 'boiler_pipe': {'recall': 0.8376383763837638, 'precision': 0.631432545201669, 'f1': 0.7200634417129262}, 'downloads_id': 412896439, 'crf': {'recall': 0.02214022140221402, 'precision': 1.0, 'f1': 0.04332129963898917}, 'python_readibilty': {'recall': 0.977859778597786, 'precision': 1.0, 'f1': 0.9888059701492538}}"
       ]
      },
      {
       "output_type": "stream",
       "stream": "stdout",
       "text": [
        "\n",
        "downloads_id: 412952145\n",
        "[422, 436, 440, 444, 448, 449, 450, 451, 455, 459, 466, 522, 546, 570, 618, 624, 642, 666, 690, 714, 738, 762, 768, 786, 792, 810, 834, 840, 864, 906, 930, 1223]"
       ]
      },
      {
       "output_type": "stream",
       "stream": "stdout",
       "text": [
        "\n",
        "[422, 436, 440, 444, 448, 449, 450, 451, 455, 459]\n",
        "[415, 422, 436, 440, 444, 448, 449, 450, 451, 455, 459]"
       ]
      },
      {
       "output_type": "stream",
       "stream": "stdout",
       "text": [
        "\n",
        "original article tmp file "
       ]
      },
      {
       "output_type": "stream",
       "stream": "stdout",
       "text": [
        " /tmp/tmpfoKF9V.html\n",
        "/tmp/tmplaOU5X.html\n",
        "/tmp/tmpfoKF9V.html\n",
        "/tmp/tmpfoKF9V.html\n",
        "Now open file:///tmp/tmplaOU5X.html in your web browser\n"
       ]
      },
      {
       "output_type": "stream",
       "stream": "stdout",
       "text": [
        "\n",
        "{'heur': {'recall': 0.9828080229226361, 'precision': 0.1819628647214854, 'f1': 0.30707251566696503}, 'boiler_pipe': {'recall': 0.09742120343839542, 'precision': 0.026813880126182965, 'f1': 0.042053184910327765}, 'downloads_id': 412952145, 'crf': {'recall': 0.9828080229226361, 'precision': 1.0, 'f1': 0.9913294797687862}, 'python_readibilty': {'recall': 0.9828080229226361, 'precision': 0.9913294797687862, 'f1': 0.9870503597122302}}"
       ]
      },
      {
       "output_type": "stream",
       "stream": "stdout",
       "text": [
        "\n",
        "downloads_id: 412977048\n",
        "[471, 505, 507]"
       ]
      },
      {
       "output_type": "stream",
       "stream": "stdout",
       "text": [
        "\n",
        "[471]\n",
        "[471, 474, 505, 507]"
       ]
      },
      {
       "output_type": "stream",
       "stream": "stdout",
       "text": [
        "\n",
        "original article tmp file "
       ]
      },
      {
       "output_type": "stream",
       "stream": "stdout",
       "text": [
        " /tmp/tmpcj203B.html\n",
        "/tmp/tmpOE1YLF.html\n",
        "/tmp/tmpcj203B.html\n",
        "/tmp/tmpcj203B.html\n",
        "Now open file:///tmp/tmpOE1YLF.html in your web browser\n"
       ]
      },
      {
       "output_type": "stream",
       "stream": "stdout",
       "text": [
        "\n",
        "Unexpected error on string ' ' <class 'lxml.etree.ParserError'>\n",
        "Unexpected error on string ' ' <class 'lxml.etree.ParserError'>\n",
        "Unexpected error on string ' ' <class 'lxml.etree.ParserError'>\n",
        "Unexpected error on string ' ' <class 'lxml.etree.ParserError'>\n",
        "Unexpected error on string ' ' <class 'lxml.etree.ParserError'>\n",
        "Unexpected error on string ' ' <class 'lxml.etree.ParserError'>\n",
        "Unexpected error on string ' ' <class 'lxml.etree.ParserError'>\n",
        "Unexpected error on string ' ' <class 'lxml.etree.ParserError'>\n",
        "Unexpected error on string ' ' <class 'lxml.etree.ParserError'>\n",
        "Unexpected error on string ' ' <class 'lxml.etree.ParserError'>\n",
        "Unexpected error on string ' ' <class 'lxml.etree.ParserError'>\n",
        "Unexpected error on string ' ' <class 'lxml.etree.ParserError'>\n",
        "Unexpected error on string ' ' <class 'lxml.etree.ParserError'>\n",
        "Unexpected error on string ' ' <class 'lxml.etree.ParserError'>\n",
        "Unexpected error on string ' ' <class 'lxml.etree.ParserError'>\n",
        "Unexpected error on string ' ' <class 'lxml.etree.ParserError'>\n",
        "Unexpected error on string '<' <class 'lxml.etree.ParserError'>\n",
        "Unexpected error on string ' ' <class 'lxml.etree.ParserError'>\n",
        "Unexpected error on string ' ' <class 'lxml.etree.ParserError'>\n",
        "Unexpected error on string ' ' <class 'lxml.etree.ParserError'>\n",
        "Unexpected error on string ' ' <class 'lxml.etree.ParserError'>\n",
        "Unexpected error on string ' ' <class 'lxml.etree.ParserError'>\n",
        "Unexpected error on string ' ' <class 'lxml.etree.ParserError'>\n",
        "Unexpected error on string '<' <class 'lxml.etree.ParserError'>\n",
        "{'heur': {'recall': 0.9491525423728814, 'precision': 1.0, 'f1': 0.9739130434782608}, 'boiler_pipe': {'recall': 0.9661016949152542, 'precision': 0.8976377952755905, 'f1': 0.9306122448979591}, 'downloads_id': 412977048, 'crf': {'recall': 0.03389830508474576, 'precision': 0.06060606060606061, 'f1': 0.04347826086956522}, 'python_readibilty': {'recall': 1.0, 'precision': 0.944, 'f1': 0.9711934156378601}}\n",
        "downloads_id: 413024519\n",
        "[606, 607, 694, 695, 696, 697, 989, 990, 1045, 1074, 1131, 1176, 1179, 1194]"
       ]
      },
      {
       "output_type": "stream",
       "stream": "stdout",
       "text": [
        "\n",
        "[606]\n",
        "[606, 607, 608, 692, 694, 695, 696, 697]"
       ]
      },
      {
       "output_type": "stream",
       "stream": "stdout",
       "text": [
        "\n",
        "original article tmp file "
       ]
      },
      {
       "output_type": "stream",
       "stream": "stdout",
       "text": [
        " /tmp/tmpWgYIul.html\n",
        "/tmp/tmpVRu5BQ.html\n",
        "/tmp/tmpWgYIul.html\n",
        "/tmp/tmpWgYIul.html\n",
        "Now open file:///tmp/tmpVRu5BQ.html in your web browser\n"
       ]
      },
      {
       "output_type": "stream",
       "stream": "stdout",
       "text": [
        "\n",
        "Unexpected error on string '\t' <class 'lxml.etree.ParserError'>\n",
        "Unexpected error on string '\t' <class 'lxml.etree.ParserError'>\n",
        "Unexpected error on string '\t' <class 'lxml.etree.ParserError'>\n",
        "Unexpected error on string '\t' <class 'lxml.etree.ParserError'>\n",
        "Unexpected error on string '\t' <class 'lxml.etree.ParserError'>\n",
        "Unexpected error on string '\t' <class 'lxml.etree.ParserError'>\n",
        "Unexpected error on string '\t' <class 'lxml.etree.ParserError'>\n",
        "Unexpected error on string '\t' <class 'lxml.etree.ParserError'>\n",
        "Unexpected error on string '\t' <class 'lxml.etree.ParserError'>\n",
        "Unexpected error on string '<' <class 'lxml.etree.ParserError'>\n",
        "Unexpected error on string ' ' <class 'lxml.etree.ParserError'>\n",
        "Unexpected error on string ' ' <class 'lxml.etree.ParserError'>\n",
        "Unexpected error on string ' ' <class 'lxml.etree.ParserError'>\n",
        "Unexpected error on string ' ' <class 'lxml.etree.ParserError'>\n",
        "Unexpected error on string ' ' <class 'lxml.etree.ParserError'>\n",
        "Unexpected error on string ' ' <class 'lxml.etree.ParserError'>\n",
        "Unexpected error on string ' ' <class 'lxml.etree.ParserError'>\n",
        "Unexpected error on string ' ' <class 'lxml.etree.ParserError'>\n",
        "Unexpected error on string ' ' <class 'lxml.etree.ParserError'>\n",
        "Unexpected error on string ' ' <class 'lxml.etree.ParserError'>\n",
        "Unexpected error on string '<' <class 'lxml.etree.ParserError'>\n",
        "{'heur': {'recall': 0.9203539823008849, 'precision': 0.6540880503144654, 'f1': 0.7647058823529412}, 'boiler_pipe': {'recall': 0.37168141592920356, 'precision': 0.717948717948718, 'f1': 0.4897959183673469}, 'downloads_id': 413024519, 'crf': {'recall': 0.03982300884955752, 'precision': 0.1323529411764706, 'f1': 0.061224489795918366}, 'python_readibilty': {'recall': 0.8805309734513275, 'precision': 0.995, 'f1': 0.9342723004694836}}\n",
        "downloads_id: 413657081\n",
        "[597, 609, 613, 616, 624, 627, 630, 644, 647, 650, 656, 662, 665, 710, 721, 842, 853, 864, 875, 886, 1279, 1284, 1410, 1414]"
       ]
      },
      {
       "output_type": "stream",
       "stream": "stdout",
       "text": [
        "\n",
        "[597, 613, 616]\n",
        "[597, 608, 613, 616, 624, 627, 630, 640, 644, 647, 650, 653, 656, 659, 662, 665]"
       ]
      },
      {
       "output_type": "stream",
       "stream": "stdout",
       "text": [
        "\n",
        "original article tmp file "
       ]
      },
      {
       "output_type": "stream",
       "stream": "stdout",
       "text": [
        " /tmp/tmphbcEHj.html\n",
        "/tmp/tmpqlrdQg.html\n",
        "/tmp/tmphbcEHj.html\n",
        "/tmp/tmphbcEHj.html\n",
        "Now open file:///tmp/tmpqlrdQg.html in your web browser\n"
       ]
      },
      {
       "output_type": "stream",
       "stream": "stdout",
       "text": [
        "\n",
        "{'heur': {'recall': 0.8743315508021391, 'precision': 0.8650793650793651, 'f1': 0.8696808510638298}, 'boiler_pipe': {'recall': 0.8235294117647058, 'precision': 0.7439613526570048, 'f1': 0.7817258883248731}, 'downloads_id': 413657081, 'crf': {'recall': 0.17914438502673796, 'precision': 1.0, 'f1': 0.3038548752834467}, 'python_readibilty': {'recall': 1.0, 'precision': 0.8926014319809069, 'f1': 0.9432534678436317}}\n",
        "downloads_id: 413835576\n",
        "[218, 284, 306, 337, 338, 339]"
       ]
      },
      {
       "output_type": "stream",
       "stream": "stdout",
       "text": [
        "\n",
        "[304, 305, 306]\n",
        "[283, 284, 304, 305, 306]"
       ]
      },
      {
       "output_type": "stream",
       "stream": "stdout",
       "text": [
        "\n",
        "original article tmp file "
       ]
      },
      {
       "output_type": "stream",
       "stream": "stdout",
       "text": [
        " /tmp/tmpR5jUIQ.html\n",
        "/tmp/tmplOEFUg.html\n",
        "/tmp/tmpR5jUIQ.html\n",
        "/tmp/tmpR5jUIQ.html\n",
        "Now open file:///tmp/tmplOEFUg.html in your web browser\n"
       ]
      },
      {
       "output_type": "stream",
       "stream": "stdout",
       "text": [
        "\n",
        "{'heur': {'recall': 0.9125364431486881, 'precision': 0.7262180974477959, 'f1': 0.8087855297157623}, 'boiler_pipe': {'recall': 0.8483965014577259, 'precision': 0.8765060240963856, 'f1': 0.8622222222222222}, 'downloads_id': 413835576, 'crf': {'recall': 0.9358600583090378, 'precision': 1.0, 'f1': 0.966867469879518}, 'python_readibilty': {'recall': 0.9708454810495627, 'precision': 1.0, 'f1': 0.985207100591716}}\n",
        "downloads_id: 414040102\n",
        "[3270, 3273, 3377, 3411, 3424, 3444, 3448, 3452, 3454, 3456, 3458, 3465, 3467, 3631, 3768, 3774, 3780, 3786, 3792, 3798, 3804, 3810, 3816, 3822, 3828, 3834, 3840, 3852, 3864, 3870, 3876, 3882, 3888]"
       ]
      },
      {
       "output_type": "stream",
       "stream": "stdout",
       "text": [
        "\n",
        "[178, 3270, 3273, 3439, 3444, 3448, 3450, 3452, 3454, 3456, 3458, 3533]\n",
        "[3270, 3273, 3377, 3439, 3444, 3448, 3450, 3452, 3454, 3456, 3458, 3460, 3462, 3464, 3465, 3467]"
       ]
      },
      {
       "output_type": "stream",
       "stream": "stdout",
       "text": [
        "\n",
        "original article tmp file "
       ]
      },
      {
       "output_type": "stream",
       "stream": "stdout",
       "text": [
        " /tmp/tmpdNCtq8.html\n",
        "/tmp/tmpncbl2U.html\n",
        "/tmp/tmpdNCtq8.html\n",
        "/tmp/tmpdNCtq8.html\n",
        "Now open file:///tmp/tmpncbl2U.html in your web browser\n"
       ]
      },
      {
       "output_type": "stream",
       "stream": "stdout",
       "text": [
        "\n",
        "{'heur': {'recall': 0.8726899383983573, 'precision': 0.7616487455197133, 'f1': 0.8133971291866029}, 'boiler_pipe': {'recall': 0.9917864476386037, 'precision': 0.9564356435643564, 'f1': 0.973790322580645}, 'downloads_id': 414040102, 'crf': {'recall': 0.7515400410677618, 'precision': 0.9838709677419355, 'f1': 0.8521536670547147}, 'python_readibilty': {'recall': 0.9219712525667351, 'precision': 1.0, 'f1': 0.9594017094017093}}"
       ]
      },
      {
       "output_type": "stream",
       "stream": "stdout",
       "text": [
        "\n",
        "downloads_id: 414257623\n",
        "[569, 580, 581, 582, 583, 584, 585, 586, 587, 588, 737, 985, 1360, 1390, 1420, 1450, 1484, 1514, 1544, 1574, 1608, 1638, 1668, 1698, 1732, 1762, 1792, 1822]"
       ]
      },
      {
       "output_type": "stream",
       "stream": "stdout",
       "text": [
        "\n",
        "[569, 579, 580, 581, 582, 583, 584, 585, 586, 587, 588, 674]\n",
        "[566, 569, 579, 580, 581, 582, 583, 584, 585, 586, 587, 588]"
       ]
      },
      {
       "output_type": "stream",
       "stream": "stdout",
       "text": [
        "\n",
        "original article tmp file "
       ]
      },
      {
       "output_type": "stream",
       "stream": "stdout",
       "text": [
        " /tmp/tmp_QoJ2n.html\n",
        "/tmp/tmpyKRB1i.html\n",
        "/tmp/tmp_QoJ2n.html\n",
        "/tmp/tmp_QoJ2n.html\n",
        "Now open file:///tmp/tmpyKRB1i.html in your web browser\n"
       ]
      },
      {
       "output_type": "stream",
       "stream": "stdout",
       "text": [
        "\n",
        "{'heur': {'recall': 0.9652173913043478, 'precision': 0.3867595818815331, 'f1': 0.5522388059701493}, 'boiler_pipe': {'recall': 0.9782608695652174, 'precision': 0.9533898305084746, 'f1': 0.9656652360515022}, 'downloads_id': 414257623, 'crf': {'recall': 0.9782608695652174, 'precision': 0.9615384615384616, 'f1': 0.9698275862068965}, 'python_readibilty': {'recall': 1.0, 'precision': 0.9623430962343096, 'f1': 0.9808102345415778}}\n",
        "downloads_id: 414377428\n",
        "[514, 515, 516, 518, 520, 522, 524, 526, 527, 529, 531, 533, 535, 536, 537, 540, 541, 542, 543, 544, 546, 547, 549, 550, 551, 552, 553, 554, 555, 556, 557, 558, 559, 561, 562, 564, 565, 567, 568, 570, 571, 572, 573, 574, 575, 576, 577, 579, 582, 583, 585, 587, 589, 591, 593, 595, 596, 637, 985, 986]"
       ]
      },
      {
       "output_type": "stream",
       "stream": "stdout",
       "text": [
        "\n",
        "[466, 526, 527, 528, 529, 530, 531, 532, 533, 534, 535, 536, 537, 538, 539, 540, 541, 542, 543, 544, 545, 546, 547, 548, 549, 550, 551, 552, 553, 554, 555, 556, 557, 558, 559, 560, 561, 562, 563, 564, 565, 566, 567, 568, 569, 570, 571, 572, 573, 574, 575, 576, 577, 578, 579]\n",
        "[466, 467, 483, 513, 514, 515, 516, 517, 518, 519, 520, 521, 522, 523, 524, 525, 526, 527, 528, 529, 530, 531, 532, 533, 534, 535, 536, 537, 538, 539, 540, 541, 542, 543, 544, 545, 546, 547, 548, 549, 550, 551, 552, 553, 554, 555, 556, 557, 558, 559, 560, 561, 562, 563, 564, 565, 566, 567, 568, 569, 570, 571, 572, 573, 574, 575, 576, 577, 578, 579, 580, 581, 582, 583, 584, 585, 586, 587, 588, 589, 590, 591, 592, 593, 594, 595]"
       ]
      },
      {
       "output_type": "stream",
       "stream": "stdout",
       "text": [
        "\n",
        "original article tmp file "
       ]
      },
      {
       "output_type": "stream",
       "stream": "stdout",
       "text": [
        " /tmp/tmpwUhiG1.html\n",
        "/tmp/tmpEWn8Bq.html\n",
        "/tmp/tmpwUhiG1.html\n",
        "/tmp/tmpwUhiG1.html\n",
        "Now open file:///tmp/tmpEWn8Bq.html in your web browser\n"
       ]
      },
      {
       "output_type": "stream",
       "stream": "stdout",
       "text": [
        "\n",
        "{'heur': {'recall': 0.9274092615769712, 'precision': 0.9834107498341075, 'f1': 0.9545893719806763}, 'boiler_pipe': {'recall': 0.9849812265331664, 'precision': 0.9565481616529931, 'f1': 0.9705564976106059}, 'downloads_id': 414377428, 'crf': {'recall': 0.518773466833542, 'precision': 1.0, 'f1': 0.6831479192418625}, 'python_readibilty': {'recall': 0.9887359198998749, 'precision': 0.9918392969240427, 'f1': 0.9902851770604826}}"
       ]
      },
      {
       "output_type": "stream",
       "stream": "stdout",
       "text": [
        "\n",
        "downloads_id: 414480464\n",
        "[364, 386, 402, 407, 425, 444, 456, 468, 733, 734, 735, 804]"
       ]
      },
      {
       "output_type": "stream",
       "stream": "stdout",
       "text": [
        "\n",
        "[364]\n",
        "[355, 364, 374, 386]"
       ]
      },
      {
       "output_type": "stream",
       "stream": "stdout",
       "text": [
        "\n",
        "original article tmp file "
       ]
      },
      {
       "output_type": "stream",
       "stream": "stdout",
       "text": [
        " /tmp/tmpE61IMZ.html\n",
        "/tmp/tmpv_2TJC.html\n",
        "/tmp/tmpE61IMZ.html\n",
        "/tmp/tmpE61IMZ.html\n",
        "Now open file:///tmp/tmpv_2TJC.html in your web browser\n"
       ]
      },
      {
       "output_type": "stream",
       "stream": "stdout",
       "text": [
        "\n",
        "Unexpected error on string ' ' <class 'lxml.etree.ParserError'>\n",
        "Unexpected error on string ' ' <class 'lxml.etree.ParserError'>\n",
        "Unexpected error on string ' ' <class 'lxml.etree.ParserError'>\n",
        "Unexpected error on string ' ' <class 'lxml.etree.ParserError'>\n",
        "Unexpected error on string ' ' <class 'lxml.etree.ParserError'>\n",
        "Unexpected error on string ' ' <class 'lxml.etree.ParserError'>\n",
        "Unexpected error on string ' ' <class 'lxml.etree.ParserError'>\n",
        "Unexpected error on string ' ' <class 'lxml.etree.ParserError'>\n",
        "Unexpected error on string ' ' <class 'lxml.etree.ParserError'>\n",
        "Unexpected error on string ' ' <class 'lxml.etree.ParserError'>\n",
        "Unexpected error on string ' ' <class 'lxml.etree.ParserError'>\n",
        "Unexpected error on string ' ' <class 'lxml.etree.ParserError'>\n",
        "Unexpected error on string ' ' <class 'lxml.etree.ParserError'>\n",
        "Unexpected error on string ' ' <class 'lxml.etree.ParserError'>\n",
        "Unexpected error on string ' ' <class 'lxml.etree.ParserError'>\n",
        "Unexpected error on string ' ' <class 'lxml.etree.ParserError'>\n",
        "Unexpected error on string ' ' <class 'lxml.etree.ParserError'>\n",
        "Unexpected error on string ' ' <class 'lxml.etree.ParserError'>\n",
        "Unexpected error on string ' ' <class 'lxml.etree.ParserError'>\n",
        "Unexpected error on string ' ' <class 'lxml.etree.ParserError'>\n",
        "Unexpected error on string ' ' <class 'lxml.etree.ParserError'>\n",
        "Unexpected error on string ' ' <class 'lxml.etree.ParserError'>\n",
        "Unexpected error on string ' ' <class 'lxml.etree.ParserError'>\n",
        "Unexpected error on string ' ' <class 'lxml.etree.ParserError'>\n",
        "Unexpected error on string ' ' <class 'lxml.etree.ParserError'>\n",
        "Unexpected error on string ' ' <class 'lxml.etree.ParserError'>\n",
        "Unexpected error on string ' ' <class 'lxml.etree.ParserError'>\n",
        "Unexpected error on string ' ' <class 'lxml.etree.ParserError'>\n",
        "Unexpected error on string ' ' <class 'lxml.etree.ParserError'>\n",
        "Unexpected error on string ' ' <class 'lxml.etree.ParserError'>\n",
        "Unexpected error on string ' ' <class 'lxml.etree.ParserError'>\n",
        "Unexpected error on string ' ' <class 'lxml.etree.ParserError'>\n",
        "Unexpected error on string ' ' <class 'lxml.etree.ParserError'>\n",
        "Unexpected error on string ' ' <class 'lxml.etree.ParserError'>\n",
        "Unexpected error on string ' ' <class 'lxml.etree.ParserError'>\n",
        "Unexpected error on string ' ' <class 'lxml.etree.ParserError'>\n",
        "Unexpected error on string '<' <class 'lxml.etree.ParserError'>\n",
        "{'heur': {'recall': 0.9947089947089947, 'precision': 0.7921348314606742, 'f1': 0.8819390148553558}, 'boiler_pipe': {'recall': 0.9841269841269841, 'precision': 0.8493150684931506, 'f1': 0.9117647058823529}, 'downloads_id': 414480464, 'crf': {'recall': 0.012345679012345678, 'precision': 0.1111111111111111, 'f1': 0.022222222222222223}, 'python_readibilty': {'recall': 0.9947089947089947, 'precision': 1.0, 'f1': 0.9973474801061007}}"
       ]
      },
      {
       "output_type": "stream",
       "stream": "stdout",
       "text": [
        "\n",
        "downloads_id: 414818749\n",
        "[1412, 1454, 1456, 1458, 1460, 1462, 1464, 1466, 1468, 1471, 1473, 1475, 1477, 1479, 1481, 1484, 1486, 1488, 1490, 1492, 1494, 1530, 1531, 1704, 1824]"
       ]
      },
      {
       "output_type": "stream",
       "stream": "stdout",
       "text": [
        "\n",
        "[1411, 1412]\n",
        "[1411, 1412, 1452, 1454, 1456, 1458, 1460, 1462, 1464, 1466, 1468, 1470, 1471, 1473, 1475, 1477, 1479, 1481, 1483, 1484, 1486, 1488, 1490, 1492, 1494, 1496]"
       ]
      },
      {
       "output_type": "stream",
       "stream": "stdout",
       "text": [
        "\n",
        "original article tmp file "
       ]
      },
      {
       "output_type": "stream",
       "stream": "stdout",
       "text": [
        " /tmp/tmpc10SpJ.html\n",
        "/tmp/tmpwhG2UR.html\n",
        "/tmp/tmpc10SpJ.html\n",
        "/tmp/tmpc10SpJ.html\n",
        "Now open file:///tmp/tmpwhG2UR.html in your web browser\n"
       ]
      },
      {
       "output_type": "stream",
       "stream": "stdout",
       "text": [
        "\n",
        "{'heur': {'recall': 0.9336043360433605, 'precision': 0.9582753824756607, 'f1': 0.9457789979409748}, 'boiler_pipe': {'recall': 0.8943089430894309, 'precision': 0.7058823529411765, 'f1': 0.7890017931858937}, 'downloads_id': 414818749, 'crf': {'recall': 0.051490514905149054, 'precision': 1.0, 'f1': 0.09793814432989692}, 'python_readibilty': {'recall': 0.9607046070460704, 'precision': 1.0, 'f1': 0.9799585348997926}}"
       ]
      },
      {
       "output_type": "stream",
       "stream": "stdout",
       "text": [
        "\n",
        "downloads_id: 414983458\n",
        "[408, 941, 960, 979, 998, 1017, 1048, 1067, 1086, 1105, 1124, 1155, 1174, 1193, 1212, 1231, 1410, 1411]"
       ]
      },
      {
       "output_type": "stream",
       "stream": "stdout",
       "text": [
        "\n",
        "[408, 518, 531, 544]\n",
        "[408]"
       ]
      },
      {
       "output_type": "stream",
       "stream": "stdout",
       "text": [
        "\n",
        "original article tmp file "
       ]
      },
      {
       "output_type": "stream",
       "stream": "stdout",
       "text": [
        " /tmp/tmpJsGbFQ.html\n",
        "/tmp/tmpAqRUBb.html\n",
        "/tmp/tmpJsGbFQ.html\n",
        "/tmp/tmpJsGbFQ.html\n",
        "Now open file:///tmp/tmpAqRUBb.html in your web browser\n"
       ]
      },
      {
       "output_type": "stream",
       "stream": "stdout",
       "text": [
        "\n",
        "Unexpected error on string ' ' <class 'lxml.etree.ParserError'>\n",
        "Unexpected error on string ' ' <class 'lxml.etree.ParserError'>\n",
        "Unexpected error on string ' ' <class 'lxml.etree.ParserError'>\n",
        "Unexpected error on string ' ' <class 'lxml.etree.ParserError'>\n",
        "Unexpected error on string ' ' <class 'lxml.etree.ParserError'>\n",
        "Unexpected error on string ' ' <class 'lxml.etree.ParserError'>\n",
        "Unexpected error on string ' ' <class 'lxml.etree.ParserError'>\n",
        "Unexpected error on string ' ' <class 'lxml.etree.ParserError'>\n",
        "Unexpected error on string ' ' <class 'lxml.etree.ParserError'>\n",
        "Unexpected error on string ' ' <class 'lxml.etree.ParserError'>\n",
        "Unexpected error on string ' ' <class 'lxml.etree.ParserError'>\n",
        "Unexpected error on string ' ' <class 'lxml.etree.ParserError'>\n",
        "Unexpected error on string '<' <class 'lxml.etree.ParserError'>\n",
        "Unexpected error on string ' ' <class 'lxml.etree.ParserError'>\n",
        "Unexpected error on string ' ' <class 'lxml.etree.ParserError'>\n",
        "Unexpected error on string ' ' <class 'lxml.etree.ParserError'>\n",
        "Unexpected error on string ' ' <class 'lxml.etree.ParserError'>\n",
        "Unexpected error on string ' ' <class 'lxml.etree.ParserError'>\n",
        "Unexpected error on string ' ' <class 'lxml.etree.ParserError'>\n",
        "Unexpected error on string ' ' <class 'lxml.etree.ParserError'>\n",
        "Unexpected error on string ' ' <class 'lxml.etree.ParserError'>\n",
        "Unexpected error on string '<' <class 'lxml.etree.ParserError'>\n",
        "Unexpected error on string ' ' <class 'lxml.etree.ParserError'>\n",
        "Unexpected error on string ' ' <class 'lxml.etree.ParserError'>\n",
        "Unexpected error on string ' ' <class 'lxml.etree.ParserError'>\n",
        "Unexpected error on string ' ' <class 'lxml.etree.ParserError'>\n",
        "Unexpected error on string ' ' <class 'lxml.etree.ParserError'>\n",
        "Unexpected error on string ' ' <class 'lxml.etree.ParserError'>\n",
        "Unexpected error on string ' ' <class 'lxml.etree.ParserError'>\n",
        "Unexpected error on string ' ' <class 'lxml.etree.ParserError'>\n",
        "Unexpected error on string ' ' <class 'lxml.etree.ParserError'>\n",
        "Unexpected error on string ' ' <class 'lxml.etree.ParserError'>\n",
        "Unexpected error on string ' ' <class 'lxml.etree.ParserError'>\n",
        "Unexpected error on string ' ' <class 'lxml.etree.ParserError'>\n",
        "Unexpected error on string '<' <class 'lxml.etree.ParserError'>\n",
        "Unexpected error on string ' ' <class 'lxml.etree.ParserError'>\n",
        "Unexpected error on string ' ' <class 'lxml.etree.ParserError'>\n",
        "Unexpected error on string ' ' <class 'lxml.etree.ParserError'>\n",
        "Unexpected error on string ' ' <class 'lxml.etree.ParserError'>\n",
        "Unexpected error on string ' ' <class 'lxml.etree.ParserError'>\n",
        "Unexpected error on string ' ' <class 'lxml.etree.ParserError'>\n",
        "Unexpected error on string ' ' <class 'lxml.etree.ParserError'>\n",
        "Unexpected error on string ' ' <class 'lxml.etree.ParserError'>\n",
        "Unexpected error on string '<' <class 'lxml.etree.ParserError'>\n",
        "Unexpected error on string ' ' <class 'lxml.etree.ParserError'>\n",
        "Unexpected error on string ' ' <class 'lxml.etree.ParserError'>\n",
        "Unexpected error on string ' ' <class 'lxml.etree.ParserError'>\n",
        "Unexpected error on string ' ' <class 'lxml.etree.ParserError'>\n",
        "Unexpected error on string ' ' <class 'lxml.etree.ParserError'>\n",
        "Unexpected error on string ' ' <class 'lxml.etree.ParserError'>\n",
        "Unexpected error on string ' ' <class 'lxml.etree.ParserError'>\n",
        "Unexpected error on string ' ' <class 'lxml.etree.ParserError'>\n",
        "Unexpected error on string ' ' <class 'lxml.etree.ParserError'>\n",
        "Unexpected error on string ' ' <class 'lxml.etree.ParserError'>\n",
        "Unexpected error on string ' ' <class 'lxml.etree.ParserError'>\n",
        "Unexpected error on string ' ' <class 'lxml.etree.ParserError'>\n",
        "Unexpected error on string '<' <class 'lxml.etree.ParserError'>\n",
        "Unexpected error on string ' ' <class 'lxml.etree.ParserError'>\n",
        "Unexpected error on string ' ' <class 'lxml.etree.ParserError'>\n",
        "Unexpected error on string ' ' <class 'lxml.etree.ParserError'>\n",
        "Unexpected error on string ' ' <class 'lxml.etree.ParserError'>\n",
        "Unexpected error on string ' ' <class 'lxml.etree.ParserError'>\n",
        "Unexpected error on string ' ' <class 'lxml.etree.ParserError'>\n",
        "Unexpected error on string ' ' <class 'lxml.etree.ParserError'>\n",
        "Unexpected error on string ' ' <class 'lxml.etree.ParserError'>\n",
        "Unexpected error on string '<' <class 'lxml.etree.ParserError'>\n",
        "Unexpected error on string ' ' <class 'lxml.etree.ParserError'>\n",
        "Unexpected error on string ' ' <class 'lxml.etree.ParserError'>\n",
        "Unexpected error on string ' ' <class 'lxml.etree.ParserError'>\n",
        "Unexpected error on string ' ' <class 'lxml.etree.ParserError'>\n",
        "Unexpected error on string ' ' <class 'lxml.etree.ParserError'>\n",
        "Unexpected error on string ' ' <class 'lxml.etree.ParserError'>\n",
        "Unexpected error on string ' ' <class 'lxml.etree.ParserError'>\n",
        "Unexpected error on string ' ' <class 'lxml.etree.ParserError'>\n",
        "Unexpected error on string ' ' <class 'lxml.etree.ParserError'>\n",
        "Unexpected error on string ' ' <class 'lxml.etree.ParserError'>\n",
        "Unexpected error on string ' ' <class 'lxml.etree.ParserError'>\n",
        "Unexpected error on string ' ' <class 'lxml.etree.ParserError'>\n",
        "Unexpected error on string '<' <class 'lxml.etree.ParserError'>\n",
        "Unexpected error on string ' ' <class 'lxml.etree.ParserError'>\n",
        "Unexpected error on string ' ' <class 'lxml.etree.ParserError'>\n",
        "Unexpected error on string ' ' <class 'lxml.etree.ParserError'>\n",
        "Unexpected error on string ' ' <class 'lxml.etree.ParserError'>\n",
        "Unexpected error on string ' ' <class 'lxml.etree.ParserError'>\n",
        "Unexpected error on string ' ' <class 'lxml.etree.ParserError'>\n",
        "Unexpected error on string ' ' <class 'lxml.etree.ParserError'>\n",
        "Unexpected error on string ' ' <class 'lxml.etree.ParserError'>\n",
        "Unexpected error on string '<' <class 'lxml.etree.ParserError'>\n",
        "{'heur': {'recall': 0.0410958904109589, 'precision': 0.016042780748663103, 'f1': 0.023076923076923078}, 'boiler_pipe': {'recall': 0.0273972602739726, 'precision': 0.0425531914893617, 'f1': 0.033333333333333326}, 'downloads_id': 414983458, 'crf': {'recall': 0.0273972602739726, 'precision': 0.05, 'f1': 0.035398230088495575}, 'python_readibilty': {'recall': 0.0136986301369863, 'precision': 0.02564102564102564, 'f1': 0.017857142857142856}}"
       ]
      },
      {
       "output_type": "stream",
       "stream": "stdout",
       "text": [
        "\n",
        "downloads_id: 415185946\n",
        "[569, 579, 580, 581, 582, 583, 584, 585, 734, 982, 1357, 1387, 1417, 1447, 1481, 1511, 1541, 1571, 1605, 1635, 1665, 1695, 1729, 1759, 1789, 1819]"
       ]
      },
      {
       "output_type": "stream",
       "stream": "stdout",
       "text": [
        "\n",
        "[569, 579, 580, 581, 582, 583, 584, 585, 671, 919]\n",
        "[569, 579, 580, 581, 582, 583, 584, 585]"
       ]
      },
      {
       "output_type": "stream",
       "stream": "stdout",
       "text": [
        "\n",
        "original article tmp file "
       ]
      },
      {
       "output_type": "stream",
       "stream": "stdout",
       "text": [
        " /tmp/tmpzVbeEK.html\n",
        "/tmp/tmprHkv5q.html\n",
        "/tmp/tmpzVbeEK.html\n",
        "/tmp/tmpzVbeEK.html\n",
        "Now open file:///tmp/tmprHkv5q.html in your web browser\n"
       ]
      },
      {
       "output_type": "stream",
       "stream": "stdout",
       "text": [
        "\n",
        "{'heur': {'recall': 1.0, 'precision': 0.453416149068323, 'f1': 0.6239316239316239}, 'boiler_pipe': {'recall': 1.0, 'precision': 0.948051948051948, 'f1': 0.9733333333333333}, 'downloads_id': 415185946, 'crf': {'recall': 1.0, 'precision': 0.9329073482428115, 'f1': 0.965289256198347}, 'python_readibilty': {'recall': 1.0, 'precision': 0.9419354838709677, 'f1': 0.9700996677740864}}\n",
        "downloads_id: 415186582\n",
        "[125, 166]"
       ]
      },
      {
       "output_type": "stream",
       "stream": "stdout",
       "text": [
        "\n",
        "[48, 125]\n",
        "[125, 126, 164, 166]"
       ]
      },
      {
       "output_type": "stream",
       "stream": "stdout",
       "text": [
        "\n",
        "original article tmp file "
       ]
      },
      {
       "output_type": "stream",
       "stream": "stdout",
       "text": [
        " /tmp/tmpQ0r5Q5.html\n",
        "/tmp/tmpGI6MC7.html\n",
        "/tmp/tmpQ0r5Q5.html\n",
        "/tmp/tmpQ0r5Q5.html\n",
        "Now open file:///tmp/tmpGI6MC7.html in your web browser\n"
       ]
      },
      {
       "output_type": "stream",
       "stream": "stdout",
       "text": [
        "\n",
        "{'heur': {'recall': 0.75, 'precision': 1.0, 'f1': 0.8571428571428571}, 'boiler_pipe': {'recall': 0.8214285714285714, 'precision': 0.42990654205607476, 'f1': 0.5644171779141104}, 'downloads_id': 415186582, 'crf': {'recall': 0.125, 'precision': 0.7777777777777778, 'f1': 0.2153846153846154}, 'python_readibilty': {'recall': 1.0, 'precision': 0.7272727272727273, 'f1': 0.8421052631578948}}\n",
        "downloads_id: 415197547\n",
        "[449, 452, 782]"
       ]
      },
      {
       "output_type": "stream",
       "stream": "stdout",
       "text": [
        "\n",
        "[420, 449, 452]\n",
        "[428, 449, 452]"
       ]
      },
      {
       "output_type": "stream",
       "stream": "stdout",
       "text": [
        "\n",
        "original article tmp file "
       ]
      },
      {
       "output_type": "stream",
       "stream": "stdout",
       "text": [
        " /tmp/tmpLeWH60.html\n",
        "/tmp/tmpeMqPVY.html\n",
        "/tmp/tmpLeWH60.html\n",
        "/tmp/tmpLeWH60.html\n",
        "Now open file:///tmp/tmpeMqPVY.html in your web browser\n"
       ]
      },
      {
       "output_type": "stream",
       "stream": "stdout",
       "text": [
        "\n",
        "{'heur': {'recall': 0.9881422924901185, 'precision': 0.9541984732824428, 'f1': 0.970873786407767}, 'boiler_pipe': {'recall': 0.841897233201581, 'precision': 0.797752808988764, 'f1': 0.8192307692307692}, 'downloads_id': 415197547, 'crf': {'recall': 0.9881422924901185, 'precision': 0.9652509652509652, 'f1': 0.9765625}, 'python_readibilty': {'recall': 0.9841897233201581, 'precision': 0.996, 'f1': 0.9900596421471173}}\n",
        "downloads_id: 415424551\n",
        "[231, 238, 239, 240, 241, 242, 244, 245]"
       ]
      },
      {
       "output_type": "stream",
       "stream": "stdout",
       "text": [
        "\n",
        "[231, 234, 238, 239, 240, 241, 242, 244, 245]\n",
        "[230, 231, 234, 236, 238, 239, 240, 241, 242, 244, 245]"
       ]
      },
      {
       "output_type": "stream",
       "stream": "stdout",
       "text": [
        "\n",
        "original article tmp file "
       ]
      },
      {
       "output_type": "stream",
       "stream": "stdout",
       "text": [
        " /tmp/tmpd80x2L.html\n",
        "/tmp/tmp15PmhG.html\n",
        "/tmp/tmpd80x2L.html\n",
        "/tmp/tmpd80x2L.html\n",
        "Now open file:///tmp/tmp15PmhG.html in your web browser\n"
       ]
      },
      {
       "output_type": "stream",
       "stream": "stdout",
       "text": [
        "\n",
        "{'heur': {'recall': 0.9471153846153846, 'precision': 1.0, 'f1': 0.9728395061728395}, 'boiler_pipe': {'recall': 0.969551282051282, 'precision': 0.9293394777265745, 'f1': 0.9490196078431373}, 'downloads_id': 415424551, 'crf': {'recall': 0.9871794871794872, 'precision': 1.0, 'f1': 0.9935483870967742}, 'python_readibilty': {'recall': 0.9951923076923077, 'precision': 0.968798751950078, 'f1': 0.9818181818181818}}\n",
        "downloads_id: 415978069\n",
        "[525]"
       ]
      },
      {
       "output_type": "stream",
       "stream": "stdout",
       "text": [
        "\n",
        "[503, 514, 516, 517, 525, 527, 530]\n",
        "[503, 514, 516, 517, 525]"
       ]
      },
      {
       "output_type": "stream",
       "stream": "stdout",
       "text": [
        "\n",
        "original article tmp file "
       ]
      },
      {
       "output_type": "stream",
       "stream": "stdout",
       "text": [
        " /tmp/tmpETrdcy.html\n",
        "/tmp/tmpE3K16m.html\n",
        "/tmp/tmpETrdcy.html\n",
        "/tmp/tmpETrdcy.html\n",
        "Now open file:///tmp/tmpE3K16m.html in your web browser\n"
       ]
      },
      {
       "output_type": "stream",
       "stream": "stdout",
       "text": [
        "\n",
        "Unexpected error on string '<' <class 'lxml.etree.ParserError'>\n",
        "Unexpected error on string ' ' <class 'lxml.etree.ParserError'>\n",
        "Unexpected error on string ' ' <class 'lxml.etree.ParserError'>\n",
        "Unexpected error on string ' ' <class 'lxml.etree.ParserError'>\n",
        "Unexpected error on string ' ' <class 'lxml.etree.ParserError'>\n",
        "Unexpected error on string ' ' <class 'lxml.etree.ParserError'>\n",
        "Unexpected error on string ' ' <class 'lxml.etree.ParserError'>\n",
        "Unexpected error on string ' ' <class 'lxml.etree.ParserError'>\n",
        "Unexpected error on string ' ' <class 'lxml.etree.ParserError'>\n",
        "Unexpected error on string ' ' <class 'lxml.etree.ParserError'>\n",
        "Unexpected error on string ' ' <class 'lxml.etree.ParserError'>\n",
        "Unexpected error on string ' ' <class 'lxml.etree.ParserError'>\n",
        "Unexpected error on string ' ' <class 'lxml.etree.ParserError'>\n",
        "Unexpected error on string ' ' <class 'lxml.etree.ParserError'>\n",
        "Unexpected error on string '<' <class 'lxml.etree.ParserError'>\n",
        "Unexpected error on string ' ' <class 'lxml.etree.ParserError'>\n",
        "Unexpected error on string ' ' <class 'lxml.etree.ParserError'>\n",
        "Unexpected error on string ' ' <class 'lxml.etree.ParserError'>\n",
        "Unexpected error on string ' ' <class 'lxml.etree.ParserError'>\n",
        "Unexpected error on string ' ' <class 'lxml.etree.ParserError'>\n",
        "Unexpected error on string ' ' <class 'lxml.etree.ParserError'>\n",
        "Unexpected error on string ' ' <class 'lxml.etree.ParserError'>\n",
        "Unexpected error on string ' ' <class 'lxml.etree.ParserError'>\n",
        "Unexpected error on string ' ' <class 'lxml.etree.ParserError'>\n",
        "Unexpected error on string ' ' <class 'lxml.etree.ParserError'>\n",
        "Unexpected error on string ' ' <class 'lxml.etree.ParserError'>\n",
        "Unexpected error on string ' ' <class 'lxml.etree.ParserError'>\n",
        "Unexpected error on string ' ' <class 'lxml.etree.ParserError'>\n",
        "Unexpected error on string ' ' <class 'lxml.etree.ParserError'>\n",
        "Unexpected error on string ' ' <class 'lxml.etree.ParserError'>\n",
        "Unexpected error on string ' ' <class 'lxml.etree.ParserError'>\n",
        "Unexpected error on string ' ' <class 'lxml.etree.ParserError'>\n",
        "Unexpected error on string ' ' <class 'lxml.etree.ParserError'>\n",
        "Unexpected error on string ' ' <class 'lxml.etree.ParserError'>\n",
        "Unexpected error on string ' ' <class 'lxml.etree.ParserError'>\n",
        "Unexpected error on string ' ' <class 'lxml.etree.ParserError'>\n",
        "Unexpected error on string ' ' <class 'lxml.etree.ParserError'>\n",
        "Unexpected error on string ' ' <class 'lxml.etree.ParserError'>\n",
        "Unexpected error on string ' ' <class 'lxml.etree.ParserError'>\n",
        "Unexpected error on string ' ' <class 'lxml.etree.ParserError'>\n",
        "Unexpected error on string ' ' <class 'lxml.etree.ParserError'>\n",
        "Unexpected error on string ' ' <class 'lxml.etree.ParserError'>\n",
        "Unexpected error on string ' ' <class 'lxml.etree.ParserError'>\n",
        "Unexpected error on string ' ' <class 'lxml.etree.ParserError'>\n",
        "Unexpected error on string ' ' <class 'lxml.etree.ParserError'>\n",
        "Unexpected error on string ' ' <class 'lxml.etree.ParserError'>\n",
        "Unexpected error on string ' ' <class 'lxml.etree.ParserError'>\n",
        "Unexpected error on string ' ' <class 'lxml.etree.ParserError'>\n",
        "Unexpected error on string ' ' <class 'lxml.etree.ParserError'>\n",
        "Unexpected error on string ' ' <class 'lxml.etree.ParserError'>\n",
        "Unexpected error on string '<' <class 'lxml.etree.ParserError'>\n",
        "Unexpected error on string ' ' <class 'lxml.etree.ParserError'>\n",
        "Unexpected error on string '<' <class 'lxml.etree.ParserError'>\n",
        "Unexpected error on string ' ' <class 'lxml.etree.ParserError'>\n",
        "Unexpected error on string ' ' <class 'lxml.etree.ParserError'>\n",
        "Unexpected error on string ' ' <class 'lxml.etree.ParserError'>\n",
        "Unexpected error on string ' ' <class 'lxml.etree.ParserError'>\n",
        "Unexpected error on string ' ' <class 'lxml.etree.ParserError'>\n",
        "Unexpected error on string ' ' <class 'lxml.etree.ParserError'>\n",
        "Unexpected error on string ' ' <class 'lxml.etree.ParserError'>\n",
        "Unexpected error on string ' ' <class 'lxml.etree.ParserError'>\n",
        "Unexpected error on string ' ' <class 'lxml.etree.ParserError'>\n",
        "Unexpected error on string ' ' <class 'lxml.etree.ParserError'>\n",
        "Unexpected error on string ' ' <class 'lxml.etree.ParserError'>\n",
        "Unexpected error on string ' ' <class 'lxml.etree.ParserError'>\n",
        "Unexpected error on string ' ' <class 'lxml.etree.ParserError'>\n",
        "Unexpected error on string ' ' <class 'lxml.etree.ParserError'>\n",
        "Unexpected error on string ' ' <class 'lxml.etree.ParserError'>\n",
        "Unexpected error on string ' ' <class 'lxml.etree.ParserError'>\n",
        "Unexpected error on string ' ' <class 'lxml.etree.ParserError'>\n",
        "Unexpected error on string ' ' <class 'lxml.etree.ParserError'>\n",
        "Unexpected error on string ' ' <class 'lxml.etree.ParserError'>\n",
        "Unexpected error on string ' ' <class 'lxml.etree.ParserError'>\n",
        "Unexpected error on string ' ' <class 'lxml.etree.ParserError'>\n",
        "Unexpected error on string ' ' <class 'lxml.etree.ParserError'>\n",
        "Unexpected error on string ' ' <class 'lxml.etree.ParserError'>\n",
        "Unexpected error on string ' ' <class 'lxml.etree.ParserError'>\n",
        "Unexpected error on string ' ' <class 'lxml.etree.ParserError'>\n",
        "Unexpected error on string ' ' <class 'lxml.etree.ParserError'>\n",
        "Unexpected error on string ' ' <class 'lxml.etree.ParserError'>\n",
        "Unexpected error on string ' ' <class 'lxml.etree.ParserError'>\n",
        "Unexpected error on string ' ' <class 'lxml.etree.ParserError'>\n",
        "Unexpected error on string ' ' <class 'lxml.etree.ParserError'>\n",
        "Unexpected error on string ' ' <class 'lxml.etree.ParserError'>\n",
        "Unexpected error on string ' ' <class 'lxml.etree.ParserError'>\n",
        "Unexpected error on string ' ' <class 'lxml.etree.ParserError'>\n",
        "Unexpected error on string ' ' <class 'lxml.etree.ParserError'>\n",
        "Unexpected error on string ' ' <class 'lxml.etree.ParserError'>\n",
        "Unexpected error on string ' ' <class 'lxml.etree.ParserError'>\n",
        "Unexpected error on string ' ' <class 'lxml.etree.ParserError'>\n",
        "Unexpected error on string ' ' <class 'lxml.etree.ParserError'>\n",
        "Unexpected error on string ' ' <class 'lxml.etree.ParserError'>\n",
        "Unexpected error on string ' ' <class 'lxml.etree.ParserError'>\n",
        "Unexpected error on string ' '"
       ]
      },
      {
       "output_type": "stream",
       "stream": "stdout",
       "text": [
        " <class 'lxml.etree.ParserError'>\n",
        "Unexpected error on string ' ' <class 'lxml.etree.ParserError'>\n",
        "Unexpected error on string ' ' <class 'lxml.etree.ParserError'>\n",
        "Unexpected error on string ' ' <class 'lxml.etree.ParserError'>\n",
        "Unexpected error on string ' ' <class 'lxml.etree.ParserError'>\n",
        "Unexpected error on string ' ' <class 'lxml.etree.ParserError'>\n",
        "Unexpected error on string ' ' <class 'lxml.etree.ParserError'>\n",
        "Unexpected error on string ' ' <class 'lxml.etree.ParserError'>\n",
        "Unexpected error on string ' ' <class 'lxml.etree.ParserError'>\n",
        "Unexpected error on string ' ' <class 'lxml.etree.ParserError'>\n",
        "Unexpected error on string ' ' <class 'lxml.etree.ParserError'>\n",
        "Unexpected error on string ' ' <class 'lxml.etree.ParserError'>\n",
        "Unexpected error on string ' ' <class 'lxml.etree.ParserError'>\n",
        "Unexpected error on string ' ' <class 'lxml.etree.ParserError'>\n",
        "Unexpected error on string ' ' <class 'lxml.etree.ParserError'>\n",
        "Unexpected error on string ' ' <class 'lxml.etree.ParserError'>\n",
        "Unexpected error on string ' ' <class 'lxml.etree.ParserError'>\n",
        "Unexpected error on string ' ' <class 'lxml.etree.ParserError'>\n",
        "Unexpected error on string ' ' <class 'lxml.etree.ParserError'>\n",
        "Unexpected error on string ' ' <class 'lxml.etree.ParserError'>\n",
        "Unexpected error on string ' ' <class 'lxml.etree.ParserError'>\n",
        "Unexpected error on string ' ' <class 'lxml.etree.ParserError'>\n",
        "Unexpected error on string ' ' <class 'lxml.etree.ParserError'>\n",
        "Unexpected error on string ' ' <class 'lxml.etree.ParserError'>\n",
        "Unexpected error on string ' ' <class 'lxml.etree.ParserError'>\n",
        "Unexpected error on string '<' <class 'lxml.etree.ParserError'>\n",
        "Unexpected error on string ' ' <class 'lxml.etree.ParserError'>\n",
        "Unexpected error on string '<' <class 'lxml.etree.ParserError'>\n",
        "Unexpected error on string ' ' <class 'lxml.etree.ParserError'>\n",
        "Unexpected error on string ' ' <class 'lxml.etree.ParserError'>\n",
        "Unexpected error on string ' ' <class 'lxml.etree.ParserError'>\n",
        "Unexpected error on string ' ' <class 'lxml.etree.ParserError'>\n",
        "Unexpected error on string ' ' <class 'lxml.etree.ParserError'>\n",
        "Unexpected error on string ' ' <class 'lxml.etree.ParserError'>\n",
        "Unexpected error on string ' ' <class 'lxml.etree.ParserError'>\n",
        "Unexpected error on string ' ' <class 'lxml.etree.ParserError'>\n",
        "Unexpected error on string ' ' <class 'lxml.etree.ParserError'>\n",
        "Unexpected error on string ' ' <class 'lxml.etree.ParserError'>\n",
        "Unexpected error on string ' ' <class 'lxml.etree.ParserError'>\n",
        "Unexpected error on string ' ' <class 'lxml.etree.ParserError'>\n",
        "Unexpected error on string ' ' <class 'lxml.etree.ParserError'>\n",
        "Unexpected error on string ' ' <class 'lxml.etree.ParserError'>\n",
        "Unexpected error on string ' ' <class 'lxml.etree.ParserError'>\n",
        "Unexpected error on string ' ' <class 'lxml.etree.ParserError'>\n",
        "Unexpected error on string ' ' <class 'lxml.etree.ParserError'>\n",
        "Unexpected error on string ' ' <class 'lxml.etree.ParserError'>\n",
        "Unexpected error on string ' ' <class 'lxml.etree.ParserError'>\n",
        "Unexpected error on string ' ' <class 'lxml.etree.ParserError'>\n",
        "Unexpected error on string ' ' <class 'lxml.etree.ParserError'>\n",
        "Unexpected error on string ' ' <class 'lxml.etree.ParserError'>\n",
        "Unexpected error on string ' ' <class 'lxml.etree.ParserError'>\n",
        "Unexpected error on string ' ' <class 'lxml.etree.ParserError'>\n",
        "Unexpected error on string ' ' <class 'lxml.etree.ParserError'>\n",
        "Unexpected error on string ' ' <class 'lxml.etree.ParserError'>\n",
        "Unexpected error on string ' ' <class 'lxml.etree.ParserError'>\n",
        "Unexpected error on string ' ' <class 'lxml.etree.ParserError'>\n",
        "Unexpected error on string ' ' <class 'lxml.etree.ParserError'>\n",
        "Unexpected error on string ' ' <class 'lxml.etree.ParserError'>\n",
        "Unexpected error on string ' ' <class 'lxml.etree.ParserError'>\n",
        "Unexpected error on string ' ' <class 'lxml.etree.ParserError'>\n",
        "Unexpected error on string ' ' <class 'lxml.etree.ParserError'>\n",
        "Unexpected error on string ' ' <class 'lxml.etree.ParserError'>\n",
        "Unexpected error on string ' ' <class 'lxml.etree.ParserError'>\n",
        "Unexpected error on string ' ' <class 'lxml.etree.ParserError'>\n",
        "Unexpected error on string ' ' <class 'lxml.etree.ParserError'>\n",
        "Unexpected error on string ' ' <class 'lxml.etree.ParserError'>\n",
        "Unexpected error on string ' ' <class 'lxml.etree.ParserError'>\n",
        "Unexpected error on string ' ' <class 'lxml.etree.ParserError'>\n",
        "Unexpected error on string ' ' <class 'lxml.etree.ParserError'>\n",
        "Unexpected error on string ' ' <class 'lxml.etree.ParserError'>\n",
        "Unexpected error on string ' ' <class 'lxml.etree.ParserError'>\n",
        "Unexpected error on string ' ' <class 'lxml.etree.ParserError'>\n",
        "Unexpected error on string ' ' <class 'lxml.etree.ParserError'>\n",
        "Unexpected error on string ' ' <class 'lxml.etree.ParserError'>\n",
        "Unexpected error on string ' ' <class 'lxml.etree.ParserError'>\n",
        "Unexpected error on string ' ' <class 'lxml.etree.ParserError'>\n",
        "Unexpected error on string ' ' <class 'lxml.etree.ParserError'>\n",
        "Unexpected error on string ' ' <class 'lxml.etree.ParserError'>\n",
        "Unexpected error on string ' ' <class 'lxml.etree.ParserError'>\n",
        "Unexpected error on string ' ' <class 'lxml.etree.ParserError'>\n",
        "Unexpected error on string ' ' <class 'lxml.etree.ParserError'>\n",
        "Unexpected error on string ' ' <class 'lxml.etree.ParserError'>\n",
        "Unexpected error on string ' ' <class 'lxml.etree.ParserError'>\n",
        "Unexpected error on string ' ' <class 'lxml.etree.ParserError'>\n",
        "Unexpected error on string ' ' <class 'lxml.etree.ParserError'>\n",
        "Unexpected error on string ' ' <class 'lxml.etree.ParserError'>\n",
        "Unexpected error on string ' ' <class 'lxml.etree.ParserError'>\n",
        "Unexpected error on string ' ' <class 'lxml.etree.ParserError'>\n",
        "Unexpected error on string ' ' <class 'lxml.etree.ParserError'>\n",
        "Unexpected error on string ' ' <class 'lxml.etree.ParserError'>\n",
        "Unexpected error on string ' ' <class 'lxml.etree.ParserError'>\n",
        "Unexpected error on string ' ' <class 'lxml.etree.ParserError'>\n",
        "Unexpected error on string ' ' <class 'lxml.etree.ParserError'>\n",
        "Unexpected error on string ' ' <class 'lxml.etree.ParserError'>\n",
        "Unexpected error on string ' ' <class 'lxml.etree.ParserError'>\n",
        "Unexpected error on string ' ' <class 'lxml.etree.ParserError'>\n",
        "Unexpected error on string ' ' <class 'lxml.etree.ParserError'>\n",
        "Unexpected error on string ' ' <class 'lxml.etree.ParserError'>\n",
        "Unexpected error on string '<' <class 'lxml.etree.ParserError'>\n",
        "Unexpected error on string ' ' <class 'lxml.etree.ParserError'>\n",
        "Unexpected error on string '<' <class 'lxml.etree.ParserError'>\n",
        "Unexpected error on string ' ' <class 'lxml.etree.ParserError'>\n",
        "Unexpected error on string ' ' <class 'lxml.etree.ParserError'>\n",
        "Unexpected error on string ' ' <class 'lxml.etree.ParserError'>\n",
        "Unexpected error on string ' ' <class 'lxml.etree.ParserError'>\n",
        "Unexpected error on string ' ' <class 'lxml.etree.ParserError'>\n",
        "Unexpected error on string ' ' <class 'lxml.etree.ParserError'>\n",
        "Unexpected error on string ' ' <class 'lxml.etree.ParserError'>\n",
        "Unexpected error on string ' ' <class 'lxml.etree.ParserError'>\n",
        "Unexpected error on string ' ' <class 'lxml.etree.ParserError'>\n",
        "Unexpected error on string ' ' <class 'lxml.etree.ParserError'>\n",
        "Unexpected error on string ' '"
       ]
      },
      {
       "output_type": "stream",
       "stream": "stdout",
       "text": [
        " <class 'lxml.etree.ParserError'>\n",
        "Unexpected error on string ' ' <class 'lxml.etree.ParserError'>\n",
        "Unexpected error on string ' ' <class 'lxml.etree.ParserError'>\n",
        "Unexpected error on string ' ' <class 'lxml.etree.ParserError'>\n",
        "Unexpected error on string ' ' <class 'lxml.etree.ParserError'>\n",
        "Unexpected error on string ' ' <class 'lxml.etree.ParserError'>\n",
        "Unexpected error on string ' ' <class 'lxml.etree.ParserError'>\n",
        "Unexpected error on string ' ' <class 'lxml.etree.ParserError'>\n",
        "Unexpected error on string ' ' <class 'lxml.etree.ParserError'>\n",
        "Unexpected error on string ' ' <class 'lxml.etree.ParserError'>\n",
        "Unexpected error on string ' ' <class 'lxml.etree.ParserError'>\n",
        "Unexpected error on string ' ' <class 'lxml.etree.ParserError'>\n",
        "Unexpected error on string ' ' <class 'lxml.etree.ParserError'>\n",
        "Unexpected error on string ' ' <class 'lxml.etree.ParserError'>\n",
        "Unexpected error on string ' ' <class 'lxml.etree.ParserError'>\n",
        "Unexpected error on string ' ' <class 'lxml.etree.ParserError'>\n",
        "Unexpected error on string ' ' <class 'lxml.etree.ParserError'>\n",
        "Unexpected error on string ' ' <class 'lxml.etree.ParserError'>\n",
        "Unexpected error on string ' ' <class 'lxml.etree.ParserError'>\n",
        "Unexpected error on string ' ' <class 'lxml.etree.ParserError'>\n",
        "Unexpected error on string ' ' <class 'lxml.etree.ParserError'>\n",
        "Unexpected error on string ' ' <class 'lxml.etree.ParserError'>\n",
        "Unexpected error on string ' ' <class 'lxml.etree.ParserError'>\n",
        "Unexpected error on string ' ' <class 'lxml.etree.ParserError'>\n",
        "Unexpected error on string ' ' <class 'lxml.etree.ParserError'>\n",
        "Unexpected error on string ' ' <class 'lxml.etree.ParserError'>\n",
        "Unexpected error on string ' ' <class 'lxml.etree.ParserError'>\n",
        "Unexpected error on string ' ' <class 'lxml.etree.ParserError'>\n",
        "Unexpected error on string ' ' <class 'lxml.etree.ParserError'>\n",
        "Unexpected error on string ' ' <class 'lxml.etree.ParserError'>\n",
        "Unexpected error on string ' ' <class 'lxml.etree.ParserError'>\n",
        "Unexpected error on string ' ' <class 'lxml.etree.ParserError'>\n",
        "Unexpected error on string ' ' <class 'lxml.etree.ParserError'>\n",
        "Unexpected error on string ' ' <class 'lxml.etree.ParserError'>\n",
        "Unexpected error on string ' ' <class 'lxml.etree.ParserError'>\n",
        "Unexpected error on string ' ' <class 'lxml.etree.ParserError'>\n",
        "Unexpected error on string ' ' <class 'lxml.etree.ParserError'>\n",
        "Unexpected error on string ' ' <class 'lxml.etree.ParserError'>\n",
        "Unexpected error on string '<' <class 'lxml.etree.ParserError'>\n",
        "Unexpected error on string ' ' <class 'lxml.etree.ParserError'>\n",
        "Unexpected error on string '<' <class 'lxml.etree.ParserError'>\n",
        "Unexpected error on string ' ' <class 'lxml.etree.ParserError'>\n",
        "Unexpected error on string ' ' <class 'lxml.etree.ParserError'>\n",
        "Unexpected error on string ' ' <class 'lxml.etree.ParserError'>\n",
        "Unexpected error on string ' ' <class 'lxml.etree.ParserError'>\n",
        "Unexpected error on string ' ' <class 'lxml.etree.ParserError'>\n",
        "Unexpected error on string ' ' <class 'lxml.etree.ParserError'>\n",
        "Unexpected error on string ' ' <class 'lxml.etree.ParserError'>\n",
        "Unexpected error on string ' ' <class 'lxml.etree.ParserError'>\n",
        "Unexpected error on string ' ' <class 'lxml.etree.ParserError'>\n",
        "Unexpected error on string ' ' <class 'lxml.etree.ParserError'>\n",
        "Unexpected error on string ' ' <class 'lxml.etree.ParserError'>\n",
        "Unexpected error on string ' ' <class 'lxml.etree.ParserError'>\n",
        "Unexpected error on string ' ' <class 'lxml.etree.ParserError'>\n",
        "Unexpected error on string ' ' <class 'lxml.etree.ParserError'>\n",
        "Unexpected error on string ' ' <class 'lxml.etree.ParserError'>\n",
        "Unexpected error on string ' ' <class 'lxml.etree.ParserError'>\n",
        "Unexpected error on string ' ' <class 'lxml.etree.ParserError'>\n",
        "Unexpected error on string ' ' <class 'lxml.etree.ParserError'>\n",
        "Unexpected error on string ' ' <class 'lxml.etree.ParserError'>\n",
        "Unexpected error on string ' ' <class 'lxml.etree.ParserError'>\n",
        "Unexpected error on string ' ' <class 'lxml.etree.ParserError'>\n",
        "Unexpected error on string ' ' <class 'lxml.etree.ParserError'>\n",
        "Unexpected error on string ' ' <class 'lxml.etree.ParserError'>\n",
        "Unexpected error on string ' ' <class 'lxml.etree.ParserError'>\n",
        "Unexpected error on string ' ' <class 'lxml.etree.ParserError'>\n",
        "Unexpected error on string ' ' <class 'lxml.etree.ParserError'>\n",
        "Unexpected error on string ' ' <class 'lxml.etree.ParserError'>\n",
        "Unexpected error on string ' ' <class 'lxml.etree.ParserError'>\n",
        "Unexpected error on string ' ' <class 'lxml.etree.ParserError'>\n",
        "Unexpected error on string ' ' <class 'lxml.etree.ParserError'>\n",
        "Unexpected error on string ' ' <class 'lxml.etree.ParserError'>\n",
        "Unexpected error on string ' ' <class 'lxml.etree.ParserError'>\n",
        "Unexpected error on string ' ' <class 'lxml.etree.ParserError'>\n",
        "Unexpected error on string ' ' <class 'lxml.etree.ParserError'>\n",
        "Unexpected error on string ' ' <class 'lxml.etree.ParserError'>\n",
        "Unexpected error on string ' ' <class 'lxml.etree.ParserError'>\n",
        "Unexpected error on string ' ' <class 'lxml.etree.ParserError'>\n",
        "Unexpected error on string ' ' <class 'lxml.etree.ParserError'>\n",
        "Unexpected error on string ' ' <class 'lxml.etree.ParserError'>\n",
        "Unexpected error on string ' ' <class 'lxml.etree.ParserError'>\n",
        "Unexpected error on string ' ' <class 'lxml.etree.ParserError'>\n",
        "Unexpected error on string ' ' <class 'lxml.etree.ParserError'>\n",
        "Unexpected error on string ' ' <class 'lxml.etree.ParserError'>\n",
        "Unexpected error on string ' ' <class 'lxml.etree.ParserError'>\n",
        "Unexpected error on string ' ' <class 'lxml.etree.ParserError'>\n",
        "Unexpected error on string ' ' <class 'lxml.etree.ParserError'>\n",
        "Unexpected error on string ' ' <class 'lxml.etree.ParserError'>\n",
        "Unexpected error on string ' ' <class 'lxml.etree.ParserError'>\n",
        "Unexpected error on string ' ' <class 'lxml.etree.ParserError'>\n",
        "Unexpected error on string ' ' <class 'lxml.etree.ParserError'>\n",
        "Unexpected error on string ' ' <class 'lxml.etree.ParserError'>\n",
        "Unexpected error on string ' ' <class 'lxml.etree.ParserError'>\n",
        "Unexpected error on string ' ' <class 'lxml.etree.ParserError'>\n",
        "Unexpected error on string ' ' <class 'lxml.etree.ParserError'>\n",
        "Unexpected error on string ' ' <class 'lxml.etree.ParserError'>\n",
        "Unexpected error on string ' ' <class 'lxml.etree.ParserError'>\n",
        "Unexpected error on string ' ' <class 'lxml.etree.ParserError'>\n",
        "Unexpected error on string '<' <class 'lxml.etree.ParserError'>\n",
        "Unexpected error on string ' ' <class 'lxml.etree.ParserError'>\n",
        "Unexpected error on string '<' <class 'lxml.etree.ParserError'>\n",
        "Unexpected error on string ' ' <class 'lxml.etree.ParserError'>\n",
        "Unexpected error on string ' ' <class 'lxml.etree.ParserError'>\n",
        "Unexpected error on string ' ' <class 'lxml.etree.ParserError'>\n",
        "Unexpected error on string ' ' <class 'lxml.etree.ParserError'>\n",
        "Unexpected error on string ' ' <class 'lxml.etree.ParserError'>\n",
        "Unexpected error on string ' ' <class 'lxml.etree.ParserError'>\n",
        "Unexpected error on string ' ' <class 'lxml.etree.ParserError'>\n",
        "Unexpected error on string ' ' <class 'lxml.etree.ParserError'>\n",
        "Unexpected error on string ' ' <class 'lxml.etree.ParserError'>\n",
        "Unexpected error on string ' ' <class 'lxml.etree.ParserError'>\n",
        "Unexpected error on string ' ' <class 'lxml.etree.ParserError'>\n",
        "Unexpected error on string ' ' <class 'lxml.etree.ParserError'>\n",
        "Unexpected error on string ' ' <class 'lxml.etree.ParserError'>\n",
        "Unexpected error on string ' ' <class 'lxml.etree.ParserError'>\n",
        "Unexpected error on string ' ' <class 'lxml.etree.ParserError'>\n",
        "Unexpected error on string ' ' <class 'lxml.etree.ParserError'>\n",
        "Unexpected error on string ' '"
       ]
      },
      {
       "output_type": "stream",
       "stream": "stdout",
       "text": [
        " <class 'lxml.etree.ParserError'>\n",
        "Unexpected error on string ' ' <class 'lxml.etree.ParserError'>\n",
        "Unexpected error on string ' ' <class 'lxml.etree.ParserError'>\n",
        "Unexpected error on string ' ' <class 'lxml.etree.ParserError'>\n",
        "Unexpected error on string ' ' <class 'lxml.etree.ParserError'>\n",
        "Unexpected error on string ' ' <class 'lxml.etree.ParserError'>\n",
        "Unexpected error on string ' ' <class 'lxml.etree.ParserError'>\n",
        "Unexpected error on string ' ' <class 'lxml.etree.ParserError'>\n",
        "Unexpected error on string ' ' <class 'lxml.etree.ParserError'>\n",
        "Unexpected error on string ' ' <class 'lxml.etree.ParserError'>\n",
        "Unexpected error on string ' ' <class 'lxml.etree.ParserError'>\n",
        "Unexpected error on string ' ' <class 'lxml.etree.ParserError'>\n",
        "Unexpected error on string ' ' <class 'lxml.etree.ParserError'>\n",
        "Unexpected error on string ' ' <class 'lxml.etree.ParserError'>\n",
        "Unexpected error on string ' ' <class 'lxml.etree.ParserError'>\n",
        "Unexpected error on string ' ' <class 'lxml.etree.ParserError'>\n",
        "Unexpected error on string ' ' <class 'lxml.etree.ParserError'>\n",
        "Unexpected error on string ' ' <class 'lxml.etree.ParserError'>\n",
        "Unexpected error on string ' ' <class 'lxml.etree.ParserError'>\n",
        "Unexpected error on string ' ' <class 'lxml.etree.ParserError'>\n",
        "Unexpected error on string ' ' <class 'lxml.etree.ParserError'>\n",
        "Unexpected error on string ' ' <class 'lxml.etree.ParserError'>\n",
        "Unexpected error on string ' ' <class 'lxml.etree.ParserError'>\n",
        "Unexpected error on string ' ' <class 'lxml.etree.ParserError'>\n",
        "Unexpected error on string ' ' <class 'lxml.etree.ParserError'>\n",
        "Unexpected error on string ' ' <class 'lxml.etree.ParserError'>\n",
        "Unexpected error on string ' ' <class 'lxml.etree.ParserError'>\n",
        "Unexpected error on string ' ' <class 'lxml.etree.ParserError'>\n",
        "Unexpected error on string ' ' <class 'lxml.etree.ParserError'>\n",
        "Unexpected error on string ' ' <class 'lxml.etree.ParserError'>\n",
        "Unexpected error on string ' ' <class 'lxml.etree.ParserError'>\n",
        "Unexpected error on string ' ' <class 'lxml.etree.ParserError'>\n",
        "Unexpected error on string ' ' <class 'lxml.etree.ParserError'>\n",
        "Unexpected error on string ' ' <class 'lxml.etree.ParserError'>\n",
        "Unexpected error on string ' ' <class 'lxml.etree.ParserError'>\n",
        "Unexpected error on string ' ' <class 'lxml.etree.ParserError'>\n",
        "Unexpected error on string ' ' <class 'lxml.etree.ParserError'>\n",
        "Unexpected error on string ' ' <class 'lxml.etree.ParserError'>\n",
        "Unexpected error on string ' ' <class 'lxml.etree.ParserError'>\n",
        "Unexpected error on string ' ' <class 'lxml.etree.ParserError'>\n",
        "Unexpected error on string ' ' <class 'lxml.etree.ParserError'>\n",
        "Unexpected error on string ' ' <class 'lxml.etree.ParserError'>\n",
        "Unexpected error on string ' ' <class 'lxml.etree.ParserError'>\n",
        "Unexpected error on string ' ' <class 'lxml.etree.ParserError'>\n",
        "Unexpected error on string ' ' <class 'lxml.etree.ParserError'>\n",
        "Unexpected error on string ' ' <class 'lxml.etree.ParserError'>\n",
        "Unexpected error on string ' ' <class 'lxml.etree.ParserError'>\n",
        "Unexpected error on string ' ' <class 'lxml.etree.ParserError'>\n",
        "Unexpected error on string ' ' <class 'lxml.etree.ParserError'>\n",
        "Unexpected error on string ' ' <class 'lxml.etree.ParserError'>\n",
        "Unexpected error on string ' ' <class 'lxml.etree.ParserError'>\n",
        "Unexpected error on string ' ' <class 'lxml.etree.ParserError'>\n",
        "Unexpected error on string ' ' <class 'lxml.etree.ParserError'>\n",
        "Unexpected error on string ' ' <class 'lxml.etree.ParserError'>\n",
        "Unexpected error on string ' ' <class 'lxml.etree.ParserError'>\n",
        "Unexpected error on string ' ' <class 'lxml.etree.ParserError'>\n",
        "Unexpected error on string ' ' <class 'lxml.etree.ParserError'>\n",
        "Unexpected error on string ' ' <class 'lxml.etree.ParserError'>\n",
        "Unexpected error on string ' ' <class 'lxml.etree.ParserError'>\n",
        "Unexpected error on string ' ' <class 'lxml.etree.ParserError'>\n",
        "Unexpected error on string ' ' <class 'lxml.etree.ParserError'>\n",
        "Unexpected error on string '<' <class 'lxml.etree.ParserError'>\n",
        "Unexpected error on string ' ' <class 'lxml.etree.ParserError'>\n",
        "Unexpected error on string '<' <class 'lxml.etree.ParserError'>\n",
        "Unexpected error on string ' ' <class 'lxml.etree.ParserError'>\n",
        "Unexpected error on string ' ' <class 'lxml.etree.ParserError'>\n",
        "Unexpected error on string ' ' <class 'lxml.etree.ParserError'>\n",
        "Unexpected error on string ' ' <class 'lxml.etree.ParserError'>\n",
        "Unexpected error on string ' ' <class 'lxml.etree.ParserError'>\n",
        "Unexpected error on string ' ' <class 'lxml.etree.ParserError'>\n",
        "Unexpected error on string ' ' <class 'lxml.etree.ParserError'>\n",
        "Unexpected error on string ' ' <class 'lxml.etree.ParserError'>\n",
        "Unexpected error on string ' ' <class 'lxml.etree.ParserError'>\n",
        "Unexpected error on string ' ' <class 'lxml.etree.ParserError'>\n",
        "Unexpected error on string ' ' <class 'lxml.etree.ParserError'>\n",
        "Unexpected error on string ' ' <class 'lxml.etree.ParserError'>\n",
        "Unexpected error on string ' ' <class 'lxml.etree.ParserError'>\n",
        "Unexpected error on string ' ' <class 'lxml.etree.ParserError'>\n",
        "Unexpected error on string ' ' <class 'lxml.etree.ParserError'>\n",
        "Unexpected error on string ' ' <class 'lxml.etree.ParserError'>\n",
        "Unexpected error on string ' ' <class 'lxml.etree.ParserError'>\n",
        "Unexpected error on string ' ' <class 'lxml.etree.ParserError'>\n",
        "Unexpected error on string ' ' <class 'lxml.etree.ParserError'>\n",
        "Unexpected error on string ' ' <class 'lxml.etree.ParserError'>\n",
        "Unexpected error on string ' ' <class 'lxml.etree.ParserError'>\n",
        "Unexpected error on string ' ' <class 'lxml.etree.ParserError'>\n",
        "Unexpected error on string ' ' <class 'lxml.etree.ParserError'>\n",
        "Unexpected error on string ' ' <class 'lxml.etree.ParserError'>\n",
        "Unexpected error on string ' ' <class 'lxml.etree.ParserError'>\n",
        "Unexpected error on string ' ' <class 'lxml.etree.ParserError'>\n",
        "Unexpected error on string ' ' <class 'lxml.etree.ParserError'>\n",
        "Unexpected error on string ' ' <class 'lxml.etree.ParserError'>\n",
        "Unexpected error on string ' ' <class 'lxml.etree.ParserError'>\n",
        "Unexpected error on string ' ' <class 'lxml.etree.ParserError'>\n",
        "Unexpected error on string ' ' <class 'lxml.etree.ParserError'>\n",
        "Unexpected error on string ' ' <class 'lxml.etree.ParserError'>\n",
        "Unexpected error on string ' ' <class 'lxml.etree.ParserError'>\n",
        "Unexpected error on string ' ' <class 'lxml.etree.ParserError'>\n",
        "Unexpected error on string ' ' <class 'lxml.etree.ParserError'>\n",
        "Unexpected error on string ' ' <class 'lxml.etree.ParserError'>\n",
        "Unexpected error on string ' ' <class 'lxml.etree.ParserError'>\n",
        "Unexpected error on string ' ' <class 'lxml.etree.ParserError'>\n",
        "Unexpected error on string ' ' <class 'lxml.etree.ParserError'>\n",
        "Unexpected error on string ' ' <class 'lxml.etree.ParserError'>\n",
        "Unexpected error on string ' ' <class 'lxml.etree.ParserError'>\n",
        "Unexpected error on string ' ' <class 'lxml.etree.ParserError'>\n",
        "Unexpected error on string ' ' <class 'lxml.etree.ParserError'>\n",
        "Unexpected error on string ' ' <class 'lxml.etree.ParserError'>\n",
        "Unexpected error on string ' ' <class 'lxml.etree.ParserError'>\n",
        "Unexpected error on string ' ' <class 'lxml.etree.ParserError'>\n",
        "Unexpected error on string ' ' <class 'lxml.etree.ParserError'>\n",
        "Unexpected error on string ' ' <class 'lxml.etree.ParserError'>\n",
        "Unexpected error on string ' ' <class 'lxml.etree.ParserError'>\n",
        "Unexpected error on string ' '"
       ]
      },
      {
       "output_type": "stream",
       "stream": "stdout",
       "text": [
        " <class 'lxml.etree.ParserError'>\n",
        "Unexpected error on string ' ' <class 'lxml.etree.ParserError'>\n",
        "Unexpected error on string ' ' <class 'lxml.etree.ParserError'>\n",
        "Unexpected error on string ' ' <class 'lxml.etree.ParserError'>\n",
        "Unexpected error on string ' ' <class 'lxml.etree.ParserError'>\n",
        "Unexpected error on string ' ' <class 'lxml.etree.ParserError'>\n",
        "Unexpected error on string ' ' <class 'lxml.etree.ParserError'>\n",
        "Unexpected error on string '<' <class 'lxml.etree.ParserError'>\n",
        "Unexpected error on string ' ' <class 'lxml.etree.ParserError'>\n",
        "Unexpected error on string '<' <class 'lxml.etree.ParserError'>\n",
        "Unexpected error on string ' ' <class 'lxml.etree.ParserError'>\n",
        "Unexpected error on string ' ' <class 'lxml.etree.ParserError'>\n",
        "Unexpected error on string ' ' <class 'lxml.etree.ParserError'>\n",
        "Unexpected error on string ' ' <class 'lxml.etree.ParserError'>\n",
        "Unexpected error on string ' ' <class 'lxml.etree.ParserError'>\n",
        "Unexpected error on string ' ' <class 'lxml.etree.ParserError'>\n",
        "Unexpected error on string ' ' <class 'lxml.etree.ParserError'>\n",
        "Unexpected error on string ' ' <class 'lxml.etree.ParserError'>\n",
        "Unexpected error on string ' ' <class 'lxml.etree.ParserError'>\n",
        "Unexpected error on string ' ' <class 'lxml.etree.ParserError'>\n",
        "Unexpected error on string ' ' <class 'lxml.etree.ParserError'>\n",
        "Unexpected error on string ' ' <class 'lxml.etree.ParserError'>\n",
        "Unexpected error on string ' ' <class 'lxml.etree.ParserError'>\n",
        "Unexpected error on string ' ' <class 'lxml.etree.ParserError'>\n",
        "Unexpected error on string ' ' <class 'lxml.etree.ParserError'>\n",
        "Unexpected error on string ' ' <class 'lxml.etree.ParserError'>\n",
        "Unexpected error on string ' ' <class 'lxml.etree.ParserError'>\n",
        "Unexpected error on string ' ' <class 'lxml.etree.ParserError'>\n",
        "Unexpected error on string ' ' <class 'lxml.etree.ParserError'>\n",
        "Unexpected error on string ' ' <class 'lxml.etree.ParserError'>\n",
        "Unexpected error on string ' ' <class 'lxml.etree.ParserError'>\n",
        "Unexpected error on string ' ' <class 'lxml.etree.ParserError'>\n",
        "Unexpected error on string ' ' <class 'lxml.etree.ParserError'>\n",
        "Unexpected error on string ' ' <class 'lxml.etree.ParserError'>\n",
        "Unexpected error on string ' ' <class 'lxml.etree.ParserError'>\n",
        "Unexpected error on string ' ' <class 'lxml.etree.ParserError'>\n",
        "Unexpected error on string ' ' <class 'lxml.etree.ParserError'>\n",
        "Unexpected error on string ' ' <class 'lxml.etree.ParserError'>\n",
        "Unexpected error on string ' ' <class 'lxml.etree.ParserError'>\n",
        "Unexpected error on string ' ' <class 'lxml.etree.ParserError'>\n",
        "Unexpected error on string ' ' <class 'lxml.etree.ParserError'>\n",
        "Unexpected error on string ' ' <class 'lxml.etree.ParserError'>\n",
        "Unexpected error on string ' ' <class 'lxml.etree.ParserError'>\n",
        "Unexpected error on string ' ' <class 'lxml.etree.ParserError'>\n",
        "Unexpected error on string ' ' <class 'lxml.etree.ParserError'>\n",
        "Unexpected error on string ' ' <class 'lxml.etree.ParserError'>\n",
        "Unexpected error on string ' ' <class 'lxml.etree.ParserError'>\n",
        "Unexpected error on string ' ' <class 'lxml.etree.ParserError'>\n",
        "Unexpected error on string ' ' <class 'lxml.etree.ParserError'>\n",
        "Unexpected error on string ' ' <class 'lxml.etree.ParserError'>\n",
        "Unexpected error on string ' ' <class 'lxml.etree.ParserError'>\n",
        "Unexpected error on string ' ' <class 'lxml.etree.ParserError'>\n",
        "Unexpected error on string ' ' <class 'lxml.etree.ParserError'>\n",
        "Unexpected error on string ' ' <class 'lxml.etree.ParserError'>\n",
        "Unexpected error on string ' ' <class 'lxml.etree.ParserError'>\n",
        "Unexpected error on string ' ' <class 'lxml.etree.ParserError'>\n",
        "Unexpected error on string ' ' <class 'lxml.etree.ParserError'>\n",
        "Unexpected error on string ' ' <class 'lxml.etree.ParserError'>\n",
        "Unexpected error on string ' ' <class 'lxml.etree.ParserError'>\n",
        "Unexpected error on string ' ' <class 'lxml.etree.ParserError'>\n",
        "Unexpected error on string ' ' <class 'lxml.etree.ParserError'>\n",
        "Unexpected error on string ' ' <class 'lxml.etree.ParserError'>\n",
        "Unexpected error on string ' ' <class 'lxml.etree.ParserError'>\n",
        "Unexpected error on string ' ' <class 'lxml.etree.ParserError'>\n",
        "Unexpected error on string ' ' <class 'lxml.etree.ParserError'>\n",
        "Unexpected error on string ' ' <class 'lxml.etree.ParserError'>\n",
        "Unexpected error on string ' ' <class 'lxml.etree.ParserError'>\n",
        "Unexpected error on string '<' <class 'lxml.etree.ParserError'>\n",
        "Unexpected error on string ' ' <class 'lxml.etree.ParserError'>\n",
        "Unexpected error on string '<' <class 'lxml.etree.ParserError'>\n",
        "Unexpected error on string ' ' <class 'lxml.etree.ParserError'>\n",
        "Unexpected error on string ' ' <class 'lxml.etree.ParserError'>\n",
        "Unexpected error on string ' ' <class 'lxml.etree.ParserError'>\n",
        "Unexpected error on string ' ' <class 'lxml.etree.ParserError'>\n",
        "Unexpected error on string ' ' <class 'lxml.etree.ParserError'>\n",
        "Unexpected error on string ' ' <class 'lxml.etree.ParserError'>\n",
        "Unexpected error on string ' ' <class 'lxml.etree.ParserError'>\n",
        "Unexpected error on string ' ' <class 'lxml.etree.ParserError'>\n",
        "Unexpected error on string ' ' <class 'lxml.etree.ParserError'>\n",
        "Unexpected error on string ' ' <class 'lxml.etree.ParserError'>\n",
        "Unexpected error on string ' ' <class 'lxml.etree.ParserError'>\n",
        "Unexpected error on string ' ' <class 'lxml.etree.ParserError'>\n",
        "Unexpected error on string ' ' <class 'lxml.etree.ParserError'>\n",
        "Unexpected error on string ' ' <class 'lxml.etree.ParserError'>\n",
        "Unexpected error on string ' ' <class 'lxml.etree.ParserError'>\n",
        "Unexpected error on string ' ' <class 'lxml.etree.ParserError'>\n",
        "Unexpected error on string ' ' <class 'lxml.etree.ParserError'>\n",
        "Unexpected error on string ' ' <class 'lxml.etree.ParserError'>\n",
        "Unexpected error on string ' ' <class 'lxml.etree.ParserError'>\n",
        "Unexpected error on string ' ' <class 'lxml.etree.ParserError'>\n",
        "Unexpected error on string ' ' <class 'lxml.etree.ParserError'>\n",
        "Unexpected error on string ' ' <class 'lxml.etree.ParserError'>\n",
        "Unexpected error on string ' ' <class 'lxml.etree.ParserError'>\n",
        "Unexpected error on string ' ' <class 'lxml.etree.ParserError'>\n",
        "Unexpected error on string ' ' <class 'lxml.etree.ParserError'>\n",
        "Unexpected error on string ' ' <class 'lxml.etree.ParserError'>\n",
        "Unexpected error on string ' ' <class 'lxml.etree.ParserError'>\n",
        "Unexpected error on string ' ' <class 'lxml.etree.ParserError'>\n",
        "Unexpected error on string ' ' <class 'lxml.etree.ParserError'>\n",
        "Unexpected error on string '<' <class 'lxml.etree.ParserError'>\n",
        "Unexpected error on string '<' <class 'lxml.etree.ParserError'>\n",
        "Unexpected error on string ' ' <class 'lxml.etree.ParserError'>\n",
        "Unexpected error on string ' ' <class 'lxml.etree.ParserError'>\n",
        "Unexpected error on string '<' <class 'lxml.etree.ParserError'>\n",
        "Unexpected error on string '<' <class 'lxml.etree.ParserError'>\n",
        "Unexpected error on string ' ' <class 'lxml.etree.ParserError'>\n",
        "Unexpected error on string ' '"
       ]
      },
      {
       "output_type": "stream",
       "stream": "stdout",
       "text": [
        " <class 'lxml.etree.ParserError'>\n",
        "Unexpected error on string '<' <class 'lxml.etree.ParserError'>\n",
        "Unexpected error on string '<' <class 'lxml.etree.ParserError'>\n",
        "Unexpected error on string '<' <class 'lxml.etree.ParserError'>\n",
        "Unexpected error on string ' ' <class 'lxml.etree.ParserError'>\n",
        "Unexpected error on string ' ' <class 'lxml.etree.ParserError'>\n",
        "{'heur': {'recall': 0.07539682539682539, 'precision': 0.012281835811247576, 'f1': 0.021122846025569762}, 'boiler_pipe': {'recall': 0.7956349206349206, 'precision': 0.7357798165137615, 'f1': 0.7645376549094376}, 'downloads_id': 415978069, 'crf': {'recall': 1.0, 'precision': 0.9545454545454546, 'f1': 0.9767441860465117}, 'python_readibilty': {'recall': 0.9801587301587301, 'precision': 0.9959677419354839, 'f1': 0.988}}"
       ]
      },
      {
       "output_type": "stream",
       "stream": "stdout",
       "text": [
        "\n",
        "downloads_id: 416026460\n",
        "[471, 505, 507]"
       ]
      },
      {
       "output_type": "stream",
       "stream": "stdout",
       "text": [
        "\n",
        "[471]\n",
        "[471, 474, 505, 507]"
       ]
      },
      {
       "output_type": "stream",
       "stream": "stdout",
       "text": [
        "\n",
        "original article tmp file "
       ]
      },
      {
       "output_type": "stream",
       "stream": "stdout",
       "text": [
        " /tmp/tmp47z_3j.html\n",
        "/tmp/tmpW2Soe8.html\n",
        "/tmp/tmp47z_3j.html\n",
        "/tmp/tmp47z_3j.html\n",
        "Now open file:///tmp/tmpW2Soe8.html in your web browser\n"
       ]
      },
      {
       "output_type": "stream",
       "stream": "stdout",
       "text": [
        "\n",
        "Unexpected error on string ' ' <class 'lxml.etree.ParserError'>\n",
        "Unexpected error on string ' ' <class 'lxml.etree.ParserError'>\n",
        "Unexpected error on string ' ' <class 'lxml.etree.ParserError'>\n",
        "Unexpected error on string ' ' <class 'lxml.etree.ParserError'>\n",
        "Unexpected error on string ' ' <class 'lxml.etree.ParserError'>\n",
        "Unexpected error on string ' ' <class 'lxml.etree.ParserError'>\n",
        "Unexpected error on string ' ' <class 'lxml.etree.ParserError'>\n",
        "Unexpected error on string ' ' <class 'lxml.etree.ParserError'>\n",
        "Unexpected error on string ' ' <class 'lxml.etree.ParserError'>\n",
        "Unexpected error on string ' ' <class 'lxml.etree.ParserError'>\n",
        "Unexpected error on string ' ' <class 'lxml.etree.ParserError'>\n",
        "Unexpected error on string ' ' <class 'lxml.etree.ParserError'>\n",
        "Unexpected error on string ' ' <class 'lxml.etree.ParserError'>\n",
        "Unexpected error on string ' ' <class 'lxml.etree.ParserError'>\n",
        "Unexpected error on string ' ' <class 'lxml.etree.ParserError'>\n",
        "Unexpected error on string ' ' <class 'lxml.etree.ParserError'>\n",
        "Unexpected error on string '<' <class 'lxml.etree.ParserError'>\n",
        "Unexpected error on string ' ' <class 'lxml.etree.ParserError'>\n",
        "Unexpected error on string ' ' <class 'lxml.etree.ParserError'>\n",
        "Unexpected error on string ' ' <class 'lxml.etree.ParserError'>\n",
        "Unexpected error on string ' ' <class 'lxml.etree.ParserError'>\n",
        "Unexpected error on string ' ' <class 'lxml.etree.ParserError'>\n",
        "Unexpected error on string ' ' <class 'lxml.etree.ParserError'>\n",
        "Unexpected error on string '<' <class 'lxml.etree.ParserError'>\n",
        "{'heur': {'recall': 0.9558823529411765, 'precision': 1.0, 'f1': 0.9774436090225563}, 'boiler_pipe': {'recall': 0.9558823529411765, 'precision': 0.8783783783783784, 'f1': 0.9154929577464789}, 'downloads_id': 416026460, 'crf': {'recall': 0.03676470588235294, 'precision': 0.060240963855421686, 'f1': 0.045662100456620995}, 'python_readibilty': {'recall': 1.0, 'precision': 0.951048951048951, 'f1': 0.974910394265233}}\n",
        "downloads_id: 416026587\n",
        "[767, 770, 773, 776, 779, 782, 785, 788, 791, 794, 1501, 1543, 1547]"
       ]
      },
      {
       "output_type": "stream",
       "stream": "stdout",
       "text": [
        "\n",
        "[690, 697, 767, 770, 773, 776, 779, 782, 785, 788, 791, 794]\n",
        "[690, 701, 767, 770, 773, 776, 779, 782, 785, 788, 791, 794]"
       ]
      },
      {
       "output_type": "stream",
       "stream": "stdout",
       "text": [
        "\n",
        "original article tmp file "
       ]
      },
      {
       "output_type": "stream",
       "stream": "stdout",
       "text": [
        " /tmp/tmpb0my5r.html\n",
        "/tmp/tmp8Ex4kZ.html\n",
        "/tmp/tmpb0my5r.html\n",
        "/tmp/tmpb0my5r.html\n",
        "Now open file:///tmp/tmp8Ex4kZ.html in your web browser\n"
       ]
      },
      {
       "output_type": "stream",
       "stream": "stdout",
       "text": [
        "\n",
        "{'heur': {'recall': 0.9538461538461539, 'precision': 0.9051094890510949, 'f1': 0.9288389513108616}, 'boiler_pipe': {'recall': 0.85, 'precision': 0.7864768683274022, 'f1': 0.8170055452865065}, 'downloads_id': 416026587, 'crf': {'recall': 0.9923076923076923, 'precision': 0.9885057471264368, 'f1': 0.9904030710172745}, 'python_readibilty': {'recall': 0.9923076923076923, 'precision': 1.0, 'f1': 0.9961389961389961}}\n",
        "downloads_id: 416047494\n",
        "[626, 627, 628, 642, 654, 666, 678, 691, 692, 693, 708, 709, 747, 748, 1537, 1538, 1593, 1622, 1679, 1724, 1727, 1742]"
       ]
      },
      {
       "output_type": "stream",
       "stream": "stdout",
       "text": [
        "\n",
        "[616, 626, 627, 628]\n",
        "[616, 619, 620, 626, 627, 628]"
       ]
      },
      {
       "output_type": "stream",
       "stream": "stdout",
       "text": [
        "\n",
        "original article tmp file "
       ]
      },
      {
       "output_type": "stream",
       "stream": "stdout",
       "text": [
        " /tmp/tmpICm6zn.html\n",
        "/tmp/tmpkF79db.html\n",
        "/tmp/tmpICm6zn.html\n",
        "/tmp/tmpICm6zn.html\n",
        "Now open file:///tmp/tmpkF79db.html in your web browser\n"
       ]
      },
      {
       "output_type": "stream",
       "stream": "stdout",
       "text": [
        "\n",
        "{'heur': {'recall': 0.9447513812154696, 'precision': 0.32142857142857145, 'f1': 0.4796633941093969}, 'boiler_pipe': {'recall': 0.9447513812154696, 'precision': 0.4052132701421801, 'f1': 0.5671641791044777}, 'downloads_id': 416047494, 'crf': {'recall': 0.9668508287292817, 'precision': 1.0, 'f1': 0.9831460674157304}, 'python_readibilty': {'recall': 0.9668508287292817, 'precision': 0.9776536312849162, 'f1': 0.9722222222222221}}\n",
        "downloads_id: 416047513\n",
        "[606, 607, 694, 695, 696, 697, 698, 699, 700, 992, 993, 1048, 1077, 1134, 1179, 1182, 1197]"
       ]
      },
      {
       "output_type": "stream",
       "stream": "stdout",
       "text": [
        "\n",
        "[606]\n",
        "[606, 607, 608, 692, 694, 696, 697, 698, 699, 700]"
       ]
      },
      {
       "output_type": "stream",
       "stream": "stdout",
       "text": [
        "\n",
        "original article tmp file "
       ]
      },
      {
       "output_type": "stream",
       "stream": "stdout",
       "text": [
        " /tmp/tmpebhGJ_.html\n",
        "/tmp/tmpxMKOsk.html\n",
        "/tmp/tmpebhGJ_.html\n",
        "/tmp/tmpebhGJ_.html\n",
        "Now open file:///tmp/tmpxMKOsk.html in your web browser\n"
       ]
      },
      {
       "output_type": "stream",
       "stream": "stdout",
       "text": [
        "\n",
        "Unexpected error on string '\t' <class 'lxml.etree.ParserError'>\n",
        "Unexpected error on string '\t' <class 'lxml.etree.ParserError'>\n",
        "Unexpected error on string '\t' <class 'lxml.etree.ParserError'>\n",
        "Unexpected error on string '\t' <class 'lxml.etree.ParserError'>\n",
        "Unexpected error on string '\t' <class 'lxml.etree.ParserError'>\n",
        "Unexpected error on string '\t' <class 'lxml.etree.ParserError'>\n",
        "Unexpected error on string '\t' <class 'lxml.etree.ParserError'>\n",
        "Unexpected error on string '\t' <class 'lxml.etree.ParserError'>\n",
        "Unexpected error on string '\t' <class 'lxml.etree.ParserError'>\n",
        "Unexpected error on string '<' <class 'lxml.etree.ParserError'>\n",
        "Unexpected error on string ' ' <class 'lxml.etree.ParserError'>\n",
        "Unexpected error on string ' ' <class 'lxml.etree.ParserError'>\n",
        "Unexpected error on string ' ' <class 'lxml.etree.ParserError'>\n",
        "Unexpected error on string ' ' <class 'lxml.etree.ParserError'>\n",
        "Unexpected error on string ' ' <class 'lxml.etree.ParserError'>\n",
        "Unexpected error on string ' ' <class 'lxml.etree.ParserError'>\n",
        "Unexpected error on string ' ' <class 'lxml.etree.ParserError'>\n",
        "Unexpected error on string ' ' <class 'lxml.etree.ParserError'>\n",
        "Unexpected error on string '<' <class 'lxml.etree.ParserError'>\n",
        "{'heur': {'recall': 0.9529085872576177, 'precision': 0.7049180327868853, 'f1': 0.8103651354534747}, 'boiler_pipe': {'recall': 0.6121883656509696, 'precision': 0.6696969696969697, 'f1': 0.6396526772793054}, 'downloads_id': 416047513, 'crf': {'recall': 0.008310249307479225, 'precision': 0.061224489795918366, 'f1': 0.014634146341463415}, 'python_readibilty': {'recall': 0.9307479224376731, 'precision': 0.9081081081081082, 'f1': 0.9192886456908346}}"
       ]
      },
      {
       "output_type": "stream",
       "stream": "stdout",
       "text": [
        "\n",
        "downloads_id: 416210404\n",
        "[239, 241, 253, 255, 257, 262, 265, 267, 269, 273, 277, 602]"
       ]
      },
      {
       "output_type": "stream",
       "stream": "stdout",
       "text": [
        "\n",
        "[232, 239, 241]\n",
        "[232, 239, 241, 253, 255, 257, 262, 265, 267, 269, 273, 277]"
       ]
      },
      {
       "output_type": "stream",
       "stream": "stdout",
       "text": [
        "\n",
        "original article tmp file "
       ]
      },
      {
       "output_type": "stream",
       "stream": "stdout",
       "text": [
        " /tmp/tmpMFD4HK.html\n",
        "/tmp/tmpfHuxe2.html\n",
        "/tmp/tmpMFD4HK.html\n",
        "/tmp/tmpMFD4HK.html\n",
        "Now open file:///tmp/tmpfHuxe2.html in your web browser\n"
       ]
      },
      {
       "output_type": "stream",
       "stream": "stdout",
       "text": [
        "\n",
        "{'heur': {'recall': 0.9791271347248577, 'precision': 0.9681050656660413, 'f1': 0.9735849056603773}, 'boiler_pipe': {'recall': 0.8083491461100569, 'precision': 0.5510996119016818, 'f1': 0.6553846153846153}, 'downloads_id': 416210404, 'crf': {'recall': 0.20872865275142316, 'precision': 1.0, 'f1': 0.34536891679748827}, 'python_readibilty': {'recall': 1.0, 'precision': 0.9669724770642202, 'f1': 0.9832089552238805}}"
       ]
      },
      {
       "output_type": "stream",
       "stream": "stdout",
       "text": [
        "\n",
        "downloads_id: 416263840\n",
        "[238, 239, 243, 492]"
       ]
      },
      {
       "output_type": "stream",
       "stream": "stdout",
       "text": [
        "\n",
        "[238, 239, 243]\n",
        "[238, 239, 243]"
       ]
      },
      {
       "output_type": "stream",
       "stream": "stdout",
       "text": [
        "\n",
        "original article tmp file "
       ]
      },
      {
       "output_type": "stream",
       "stream": "stdout",
       "text": [
        " /tmp/tmpgYo4ip.html\n",
        "/tmp/tmppGFGer.html\n",
        "/tmp/tmpgYo4ip.html\n",
        "/tmp/tmpgYo4ip.html\n",
        "Now open file:///tmp/tmppGFGer.html in your web browser\n"
       ]
      },
      {
       "output_type": "stream",
       "stream": "stdout",
       "text": [
        "\n",
        "{'heur': {'recall': 1.0, 'precision': 0.9299363057324841, 'f1': 0.9636963696369637}, 'boiler_pipe': {'recall': 0.9863013698630136, 'precision': 0.9632107023411371, 'f1': 0.9746192893401014}, 'downloads_id': 416263840, 'crf': {'recall': 1.0, 'precision': 1.0, 'f1': 1.0}, 'python_readibilty': {'recall': 0.9623287671232876, 'precision': 0.9894366197183099, 'f1': 0.9756944444444445}}\n",
        "downloads_id: 416306952\n",
        "[770, 773, 776, 779, 782, 785, 788, 791, 794, 797, 803, 806, 809, 812, 1608, 1650, 1654]"
       ]
      },
      {
       "output_type": "stream",
       "stream": "stdout",
       "text": [
        "\n",
        "[689, 770, 773, 776, 779, 782, 785, 788, 791, 794, 797, 800, 803, 806, 809, 812]\n",
        "[689, 693, 704, 770, 773, 776, 779, 782, 785, 788, 791, 794, 797, 800, 803, 806, 809, 812]"
       ]
      },
      {
       "output_type": "stream",
       "stream": "stdout",
       "text": [
        "\n",
        "original article tmp file "
       ]
      },
      {
       "output_type": "stream",
       "stream": "stdout",
       "text": [
        " /tmp/tmpUPAb4w.html\n",
        "/tmp/tmpo5bq4w.html\n",
        "/tmp/tmpUPAb4w.html\n",
        "/tmp/tmpUPAb4w.html\n",
        "Now open file:///tmp/tmpo5bq4w.html in your web browser\n"
       ]
      },
      {
       "output_type": "stream",
       "stream": "stdout",
       "text": [
        "\n",
        "{'heur': {'recall': 0.9678030303030303, 'precision': 0.9515828677839852, 'f1': 0.9596244131455398}, 'boiler_pipe': {'recall': 0.803030303030303, 'precision': 0.7285223367697594, 'f1': 0.763963963963964}, 'downloads_id': 416306952, 'crf': {'recall': 0.9924242424242424, 'precision': 1.0, 'f1': 0.9961977186311787}, 'python_readibilty': {'recall': 0.9924242424242424, 'precision': 1.0, 'f1': 0.9961977186311787}}\n",
        "downloads_id: 416426245\n",
        "[63, 64, 66, 67, 68, 69]"
       ]
      },
      {
       "output_type": "stream",
       "stream": "stdout",
       "text": [
        "\n",
        "[49, 50, 56, 62, 63, 64, 66, 67, 68, 69]\n",
        "[56, 57, 62, 63, 64, 66, 67, 68, 69]"
       ]
      },
      {
       "output_type": "stream",
       "stream": "stdout",
       "text": [
        "\n",
        "original article tmp file "
       ]
      },
      {
       "output_type": "stream",
       "stream": "stdout",
       "text": [
        " /tmp/tmppKlzkk.html\n",
        "/tmp/tmpFEhD4H.html\n",
        "/tmp/tmppKlzkk.html\n",
        "/tmp/tmppKlzkk.html\n",
        "Now open file:///tmp/tmpFEhD4H.html in your web browser\n"
       ]
      },
      {
       "output_type": "stream",
       "stream": "stdout",
       "text": [
        "\n",
        "{'heur': {'recall': 0.9514285714285714, 'precision': 1.0, 'f1': 0.9751098096632503}, 'boiler_pipe': {'recall': 0.9942857142857143, 'precision': 0.651685393258427, 'f1': 0.7873303167420814}, 'downloads_id': 416426245, 'crf': {'recall': 0.9742857142857143, 'precision': 0.96875, 'f1': 0.9715099715099716}, 'python_readibilty': {'recall': 0.9742857142857143, 'precision': 1.0, 'f1': 0.9869753979739508}}\n",
        "downloads_id: 416655019\n",
        "[3293, 3296, 3395, 3408, 3421, 3441, 3443, 3445, 3447, 3449, 3451, 3453, 3623]"
       ]
      },
      {
       "output_type": "stream",
       "stream": "stdout",
       "text": [
        "\n",
        "[185, 3293, 3296, 3525]\n",
        "[3293, 3296, 3433, 3441, 3443, 3445, 3447, 3449, 3451, 3453]"
       ]
      },
      {
       "output_type": "stream",
       "stream": "stdout",
       "text": [
        "\n",
        "original article tmp file "
       ]
      },
      {
       "output_type": "stream",
       "stream": "stdout",
       "text": [
        " /tmp/tmp7CTmrv.html\n",
        "/tmp/tmpeBnGH4.html\n",
        "/tmp/tmp7CTmrv.html\n",
        "/tmp/tmp7CTmrv.html\n",
        "Now open file:///tmp/tmpeBnGH4.html in your web browser\n"
       ]
      },
      {
       "output_type": "stream",
       "stream": "stdout",
       "text": [
        "\n",
        "{'heur': {'recall': 0.9875, 'precision': 0.9294117647058824, 'f1': 0.9575757575757576}, 'boiler_pipe': {'recall': 0.9975, 'precision': 0.9851851851851852, 'f1': 0.991304347826087}, 'downloads_id': 416655019, 'crf': {'recall': 0.065, 'precision': 0.8387096774193549, 'f1': 0.12064965197215777}, 'python_readibilty': {'recall': 0.965, 'precision': 0.9922879177377892, 'f1': 0.9784537389100126}}\n",
        "downloads_id: 416730837\n",
        "[364, 386, 411, 429, 448, 460, 472, 737, 738, 739, 808]"
       ]
      },
      {
       "output_type": "stream",
       "stream": "stdout",
       "text": [
        "\n",
        "[364]\n",
        "[355, 364, 374, 386]"
       ]
      },
      {
       "output_type": "stream",
       "stream": "stdout",
       "text": [
        "\n",
        "original article tmp file "
       ]
      },
      {
       "output_type": "stream",
       "stream": "stdout",
       "text": [
        " /tmp/tmpSKYstT.html\n",
        "/tmp/tmpFP1IDi.html\n",
        "/tmp/tmpSKYstT.html\n",
        "/tmp/tmpSKYstT.html\n",
        "Now open file:///tmp/tmpFP1IDi.html in your web browser\n"
       ]
      },
      {
       "output_type": "stream",
       "stream": "stdout",
       "text": [
        "\n",
        "Unexpected error on string ' ' <class 'lxml.etree.ParserError'>\n",
        "Unexpected error on string ' ' <class 'lxml.etree.ParserError'>\n",
        "Unexpected error on string ' ' <class 'lxml.etree.ParserError'>\n",
        "Unexpected error on string ' ' <class 'lxml.etree.ParserError'>\n",
        "Unexpected error on string ' ' <class 'lxml.etree.ParserError'>\n",
        "Unexpected error on string ' ' <class 'lxml.etree.ParserError'>\n",
        "Unexpected error on string ' ' <class 'lxml.etree.ParserError'>\n",
        "Unexpected error on string ' ' <class 'lxml.etree.ParserError'>\n",
        "Unexpected error on string ' ' <class 'lxml.etree.ParserError'>\n",
        "Unexpected error on string ' ' <class 'lxml.etree.ParserError'>\n",
        "Unexpected error on string ' ' <class 'lxml.etree.ParserError'>\n",
        "Unexpected error on string ' ' <class 'lxml.etree.ParserError'>\n",
        "Unexpected error on string ' ' <class 'lxml.etree.ParserError'>\n",
        "Unexpected error on string ' ' <class 'lxml.etree.ParserError'>\n",
        "Unexpected error on string ' ' <class 'lxml.etree.ParserError'>\n",
        "Unexpected error on string ' ' <class 'lxml.etree.ParserError'>\n",
        "Unexpected error on string ' ' <class 'lxml.etree.ParserError'>\n",
        "Unexpected error on string ' ' <class 'lxml.etree.ParserError'>\n",
        "Unexpected error on string ' ' <class 'lxml.etree.ParserError'>\n",
        "Unexpected error on string ' ' <class 'lxml.etree.ParserError'>\n",
        "Unexpected error on string ' ' <class 'lxml.etree.ParserError'>\n",
        "Unexpected error on string ' ' <class 'lxml.etree.ParserError'>\n",
        "Unexpected error on string ' ' <class 'lxml.etree.ParserError'>\n",
        "Unexpected error on string ' ' <class 'lxml.etree.ParserError'>\n",
        "Unexpected error on string ' ' <class 'lxml.etree.ParserError'>\n",
        "Unexpected error on string ' ' <class 'lxml.etree.ParserError'>\n",
        "Unexpected error on string ' ' <class 'lxml.etree.ParserError'>\n",
        "Unexpected error on string ' ' <class 'lxml.etree.ParserError'>\n",
        "Unexpected error on string ' ' <class 'lxml.etree.ParserError'>\n",
        "Unexpected error on string ' ' <class 'lxml.etree.ParserError'>\n",
        "Unexpected error on string ' ' <class 'lxml.etree.ParserError'>\n",
        "Unexpected error on string ' ' <class 'lxml.etree.ParserError'>\n",
        "Unexpected error on string ' ' <class 'lxml.etree.ParserError'>\n",
        "Unexpected error on string ' ' <class 'lxml.etree.ParserError'>\n",
        "Unexpected error on string ' ' <class 'lxml.etree.ParserError'>\n",
        "Unexpected error on string '<' <class 'lxml.etree.ParserError'>\n",
        "{'heur': {'recall': 0.987603305785124, 'precision': 0.6476964769647696, 'f1': 0.7823240589198035}, 'boiler_pipe': {'recall': 0.9834710743801653, 'precision': 0.7828947368421053, 'f1': 0.8717948717948718}, 'downloads_id': 416730837, 'crf': {'recall': 0.024793388429752067, 'precision': 0.12244897959183673, 'f1': 0.041237113402061855}, 'python_readibilty': {'recall': 0.987603305785124, 'precision': 1.0, 'f1': 0.9937629937629938}}"
       ]
      },
      {
       "output_type": "stream",
       "stream": "stdout",
       "text": [
        "\n",
        "downloads_id: 416802690\n",
        "[364, 386, 411, 429, 448, 460, 472, 737, 738, 739, 808]"
       ]
      },
      {
       "output_type": "stream",
       "stream": "stdout",
       "text": [
        "\n",
        "[364]\n",
        "[355, 364, 374, 386]"
       ]
      },
      {
       "output_type": "stream",
       "stream": "stdout",
       "text": [
        "\n",
        "original article tmp file "
       ]
      },
      {
       "output_type": "stream",
       "stream": "stdout",
       "text": [
        " /tmp/tmpDliu2k.html\n",
        "/tmp/tmp_jUwDR.html\n",
        "/tmp/tmpDliu2k.html\n",
        "/tmp/tmpDliu2k.html\n",
        "Now open file:///tmp/tmp_jUwDR.html in your web browser\n"
       ]
      },
      {
       "output_type": "stream",
       "stream": "stdout",
       "text": [
        "\n",
        "Unexpected error on string ' ' <class 'lxml.etree.ParserError'>\n",
        "Unexpected error on string ' ' <class 'lxml.etree.ParserError'>\n",
        "Unexpected error on string ' ' <class 'lxml.etree.ParserError'>\n",
        "Unexpected error on string ' ' <class 'lxml.etree.ParserError'>\n",
        "Unexpected error on string ' ' <class 'lxml.etree.ParserError'>\n",
        "Unexpected error on string ' ' <class 'lxml.etree.ParserError'>\n",
        "Unexpected error on string ' ' <class 'lxml.etree.ParserError'>\n",
        "Unexpected error on string ' ' <class 'lxml.etree.ParserError'>\n",
        "Unexpected error on string ' ' <class 'lxml.etree.ParserError'>\n",
        "Unexpected error on string ' ' <class 'lxml.etree.ParserError'>\n",
        "Unexpected error on string ' ' <class 'lxml.etree.ParserError'>\n",
        "Unexpected error on string ' ' <class 'lxml.etree.ParserError'>\n",
        "Unexpected error on string ' ' <class 'lxml.etree.ParserError'>\n",
        "Unexpected error on string ' ' <class 'lxml.etree.ParserError'>\n",
        "Unexpected error on string ' ' <class 'lxml.etree.ParserError'>\n",
        "Unexpected error on string ' ' <class 'lxml.etree.ParserError'>\n",
        "Unexpected error on string ' ' <class 'lxml.etree.ParserError'>\n",
        "Unexpected error on string ' ' <class 'lxml.etree.ParserError'>\n",
        "Unexpected error on string ' ' <class 'lxml.etree.ParserError'>\n",
        "Unexpected error on string ' ' <class 'lxml.etree.ParserError'>\n",
        "Unexpected error on string ' ' <class 'lxml.etree.ParserError'>\n",
        "Unexpected error on string ' ' <class 'lxml.etree.ParserError'>\n",
        "Unexpected error on string ' ' <class 'lxml.etree.ParserError'>\n",
        "Unexpected error on string ' ' <class 'lxml.etree.ParserError'>\n",
        "Unexpected error on string ' ' <class 'lxml.etree.ParserError'>\n",
        "Unexpected error on string ' ' <class 'lxml.etree.ParserError'>\n",
        "Unexpected error on string ' ' <class 'lxml.etree.ParserError'>\n",
        "Unexpected error on string ' ' <class 'lxml.etree.ParserError'>\n",
        "Unexpected error on string ' ' <class 'lxml.etree.ParserError'>\n",
        "Unexpected error on string ' ' <class 'lxml.etree.ParserError'>\n",
        "Unexpected error on string ' ' <class 'lxml.etree.ParserError'>\n",
        "Unexpected error on string ' ' <class 'lxml.etree.ParserError'>\n",
        "Unexpected error on string ' ' <class 'lxml.etree.ParserError'>\n",
        "Unexpected error on string ' ' <class 'lxml.etree.ParserError'>\n",
        "Unexpected error on string '<' <class 'lxml.etree.ParserError'>\n",
        "{'heur': {'recall': 0.9836956521739131, 'precision': 0.5727848101265823, 'f1': 0.7240000000000002}, 'boiler_pipe': {'recall': 0.9836956521739131, 'precision': 0.7357723577235772, 'f1': 0.8418604651162791}, 'downloads_id': 416802690, 'crf': {'recall': 0.04891304347826087, 'precision': 0.15517241379310345, 'f1': 0.0743801652892562}, 'python_readibilty': {'recall': 0.9836956521739131, 'precision': 1.0, 'f1': 0.9917808219178083}}\n",
        "downloads_id: 417347290\n",
        "[606, 607, 694, 695, 696, 697, 698, 701, 702, 703, 704, 705, 706, 707, 708, 709, 710, 711, 712, 713, 714, 715, 716, 717, 718, 719, 1011, 1012, 1067, 1096, 1153, 1198, 1201, 1216]"
       ]
      },
      {
       "output_type": "stream",
       "stream": "stdout",
       "text": [
        "\n",
        "[606, 607, 608, 696, 697, 698, 701, 702, 703, 704, 705, 706, 707, 708, 709, 710, 711, 712, 713, 714, 715, 716, 717, 718, 719]\n",
        "[606, 607, 608, 692, 694, 695, 696, 697, 698, 701, 702, 703, 704, 705, 706, 707, 708, 709, 710, 711, 712, 713, 714, 715, 716, 717, 718, 719]"
       ]
      },
      {
       "output_type": "stream",
       "stream": "stdout",
       "text": [
        "\n",
        "original article tmp file "
       ]
      },
      {
       "output_type": "stream",
       "stream": "stdout",
       "text": [
        " /tmp/tmpkNtUhO.html\n",
        "/tmp/tmpcoBjMw.html\n",
        "/tmp/tmpkNtUhO.html\n",
        "/tmp/tmpkNtUhO.html\n",
        "Now open file:///tmp/tmpcoBjMw.html in your web browser\n"
       ]
      },
      {
       "output_type": "stream",
       "stream": "stdout",
       "text": [
        "\n",
        "{'heur': {'recall': 0.9879828326180258, 'precision': 0.9127676447264076, 'f1': 0.9488870568837593}, 'boiler_pipe': {'recall': 0.8377682403433476, 'precision': 0.6834733893557423, 'f1': 0.7527959892016969}, 'downloads_id': 417347290, 'crf': {'recall': 0.8969957081545065, 'precision': 1.0, 'f1': 0.9457013574660633}, 'python_readibilty': {'recall': 0.9639484978540772, 'precision': 1.0, 'f1': 0.9816433566433566}}"
       ]
      },
      {
       "output_type": "stream",
       "stream": "stdout",
       "text": [
        "\n",
        "downloads_id: 417347524\n",
        "[220, 246, 564, 569, 578, 586, 595, 604, 612, 621, 865, 898, 919, 921, 1007]"
       ]
      },
      {
       "output_type": "stream",
       "stream": "stdout",
       "text": [
        "\n",
        "[564, 566, 569, 578, 586, 595, 604, 612, 621]\n",
        "[559, 563, 564, 566, 569, 586, 595, 612, 621]"
       ]
      },
      {
       "output_type": "stream",
       "stream": "stdout",
       "text": [
        "\n",
        "original article tmp file "
       ]
      },
      {
       "output_type": "stream",
       "stream": "stdout",
       "text": [
        " /tmp/tmpJbbvwp.html\n",
        "/tmp/tmpnIXAgQ.html\n",
        "/tmp/tmpJbbvwp.html\n",
        "/tmp/tmpJbbvwp.html\n",
        "Now open file:///tmp/tmpnIXAgQ.html in your web browser\n"
       ]
      },
      {
       "output_type": "stream",
       "stream": "stdout",
       "text": [
        "\n",
        "{'heur': {'recall': 0.9541108986615678, 'precision': 0.9139194139194139, 'f1': 0.9335827876520112}, 'boiler_pipe': {'recall': 0.8164435946462715, 'precision': 0.6297935103244838, 'f1': 0.7110741049125728}, 'downloads_id': 417347524, 'crf': {'recall': 0.9617590822179732, 'precision': 0.9921104536489151, 'f1': 0.9766990291262136}, 'python_readibilty': {'recall': 0.9464627151051626, 'precision': 0.9919839679358717, 'f1': 0.9686888454011743}}"
       ]
      },
      {
       "output_type": "stream",
       "stream": "stdout",
       "text": [
        "\n",
        "downloads_id: 417368539\n",
        "[521, 524, 529, 534, 577, 585, 590, 591, 615, 640, 641, 666, 684, 711, 712, 741, 749, 750, 751, 834, 837, 846, 849, 858, 861, 870, 873, 923, 928, 939, 944, 955, 960, 971, 976, 987, 992, 1003, 1008, 1024, 1467, 1501, 1504, 1515, 1518, 1529, 1532, 1543, 1546, 1557, 1560, 1571, 1574, 1585, 1588, 1599, 1602, 1613, 1616, 1627, 1630, 1641, 1644, 1655, 1658]"
       ]
      },
      {
       "output_type": "stream",
       "stream": "stdout",
       "text": [
        "\n",
        "[195, 521]\n",
        "[518, 521, 524, 684]"
       ]
      },
      {
       "output_type": "stream",
       "stream": "stdout",
       "text": [
        "\n",
        "original article tmp file "
       ]
      },
      {
       "output_type": "stream",
       "stream": "stdout",
       "text": [
        " /tmp/tmpKF2wJj.html\n",
        "/tmp/tmpN71kNF.html\n",
        "/tmp/tmpKF2wJj.html\n",
        "/tmp/tmpKF2wJj.html\n",
        "Now open file:///tmp/tmpN71kNF.html in your web browser\n"
       ]
      },
      {
       "output_type": "stream",
       "stream": "stdout",
       "text": [
        "\n",
        "{'heur': {'recall': 0.9964664310954063, 'precision': 0.752501667778519, 'f1': 0.8574686431014823}, 'boiler_pipe': {'recall': 0.8480565371024735, 'precision': 0.7798537774167343, 'f1': 0.8125264494286922}, 'downloads_id': 417368539, 'crf': {'recall': 0.00530035335689046, 'precision': 0.42857142857142855, 'f1': 0.010471204188481676}, 'python_readibilty': {'recall': 0.991166077738516, 'precision': 1.0, 'f1': 0.9955634427684118}}"
       ]
      },
      {
       "output_type": "stream",
       "stream": "stdout",
       "text": [
        "\n",
        "downloads_id: 417389613\n",
        "[286, 568]"
       ]
      },
      {
       "output_type": "stream",
       "stream": "stdout",
       "text": [
        "\n",
        "[198]\n",
        "[198]"
       ]
      },
      {
       "output_type": "stream",
       "stream": "stdout",
       "text": [
        "\n",
        "original article tmp file "
       ]
      },
      {
       "output_type": "stream",
       "stream": "stdout",
       "text": [
        " /tmp/tmp41B94X.html\n",
        "/tmp/tmpu4zq9D.html\n",
        "/tmp/tmp41B94X.html\n",
        "/tmp/tmp41B94X.html\n",
        "Now open file:///tmp/tmpu4zq9D.html in your web browser\n"
       ]
      },
      {
       "output_type": "stream",
       "stream": "stdout",
       "text": [
        "\n",
        "Unexpected error on string '\t' <class 'lxml.etree.ParserError'>\n",
        "Unexpected error on string '\t' <class 'lxml.etree.ParserError'>\n",
        "Unexpected error on string '<' <class 'lxml.etree.ParserError'>\n",
        "Unexpected error on string ' ' <class 'lxml.etree.ParserError'>\n",
        "Unexpected error on string ' ' <class 'lxml.etree.ParserError'>\n",
        "Unexpected error on string '<' <class 'lxml.etree.ParserError'>\n",
        "Unexpected error on string ' ' <class 'lxml.etree.ParserError'>\n",
        "Unexpected error on string ' ' <class 'lxml.etree.ParserError'>\n",
        "Unexpected error on string ' ' <class 'lxml.etree.ParserError'>\n",
        "Unexpected error on string '<' <class 'lxml.etree.ParserError'>\n",
        "Unexpected error on string ' ' <class 'lxml.etree.ParserError'>\n",
        "Unexpected error on string '<' <class 'lxml.etree.ParserError'>\n",
        "Unexpected error on string ' ' <class 'lxml.etree.ParserError'>\n",
        "Unexpected error on string ' ' <class 'lxml.etree.ParserError'>\n",
        "Unexpected error on string ' ' <class 'lxml.etree.ParserError'>\n",
        "Unexpected error on string ' ' <class 'lxml.etree.ParserError'>\n",
        "Unexpected error on string ' ' <class 'lxml.etree.ParserError'>\n",
        "Unexpected error on string '<' <class 'lxml.etree.ParserError'>\n",
        "Unexpected error on string ' ' <class 'lxml.etree.ParserError'>\n",
        "Unexpected error on string '<' <class 'lxml.etree.ParserError'>\n",
        "Unexpected error on string ' ' <class 'lxml.etree.ParserError'>\n",
        "Unexpected error on string ' ' <class 'lxml.etree.ParserError'>\n",
        "Unexpected error on string '<' <class 'lxml.etree.ParserError'>\n",
        "Unexpected error on string ' ' <class 'lxml.etree.ParserError'>\n",
        "Unexpected error on string '<' <class 'lxml.etree.ParserError'>\n",
        "Unexpected error on string ' ' <class 'lxml.etree.ParserError'>\n",
        "Unexpected error on string ' ' <class 'lxml.etree.ParserError'>\n",
        "Unexpected error on string ' ' <class 'lxml.etree.ParserError'>\n",
        "Unexpected error on string ' ' <class 'lxml.etree.ParserError'>\n",
        "Unexpected error on string ' ' <class 'lxml.etree.ParserError'>\n",
        "Unexpected error on string ' ' <class 'lxml.etree.ParserError'>\n",
        "Unexpected error on string ' ' <class 'lxml.etree.ParserError'>\n",
        "Unexpected error on string ' ' <class 'lxml.etree.ParserError'>\n",
        "Unexpected error on string ' ' <class 'lxml.etree.ParserError'>\n",
        "Unexpected error on string ' ' <class 'lxml.etree.ParserError'>\n",
        "Unexpected error on string ' ' <class 'lxml.etree.ParserError'>\n",
        "Unexpected error on string ' ' <class 'lxml.etree.ParserError'>\n",
        "Unexpected error on string '<' <class 'lxml.etree.ParserError'>\n",
        "Unexpected error on string '<' <class 'lxml.etree.ParserError'>\n",
        "Unexpected error on string ' ' <class 'lxml.etree.ParserError'>\n",
        "Unexpected error on string ' ' <class 'lxml.etree.ParserError'>\n",
        "Unexpected error on string ' ' <class 'lxml.etree.ParserError'>\n",
        "Unexpected error on string ' ' <class 'lxml.etree.ParserError'>\n",
        "Unexpected error on string ' ' <class 'lxml.etree.ParserError'>\n",
        "Unexpected error on string ' ' <class 'lxml.etree.ParserError'>\n",
        "Unexpected error on string ' ' <class 'lxml.etree.ParserError'>\n",
        "Unexpected error on string ' ' <class 'lxml.etree.ParserError'>\n",
        "Unexpected error on string ' ' <class 'lxml.etree.ParserError'>\n",
        "Unexpected error on string ' ' <class 'lxml.etree.ParserError'>\n",
        "Unexpected error on string ' ' <class 'lxml.etree.ParserError'>\n",
        "Unexpected error on string ' ' <class 'lxml.etree.ParserError'>\n",
        "Unexpected error on string ' ' <class 'lxml.etree.ParserError'>\n",
        "Unexpected error on string ' ' <class 'lxml.etree.ParserError'>\n",
        "Unexpected error on string ' ' <class 'lxml.etree.ParserError'>\n",
        "Unexpected error on string ' ' <class 'lxml.etree.ParserError'>\n",
        "Unexpected error on string ' ' <class 'lxml.etree.ParserError'>\n",
        "Unexpected error on string ' ' <class 'lxml.etree.ParserError'>\n",
        "Unexpected error on string ' ' <class 'lxml.etree.ParserError'>\n",
        "Unexpected error on string ' ' <class 'lxml.etree.ParserError'>\n",
        "Unexpected error on string ' ' <class 'lxml.etree.ParserError'>\n",
        "Unexpected error on string ' ' <class 'lxml.etree.ParserError'>\n",
        "Unexpected error on string ' ' <class 'lxml.etree.ParserError'>\n",
        "Unexpected error on string ' ' <class 'lxml.etree.ParserError'>\n",
        "Unexpected error on string ' ' <class 'lxml.etree.ParserError'>\n",
        "Unexpected error on string ' ' <class 'lxml.etree.ParserError'>\n",
        "Unexpected error on string ' ' <class 'lxml.etree.ParserError'>\n",
        "Unexpected error on string ' ' <class 'lxml.etree.ParserError'>\n",
        "Unexpected error on string '<' <class 'lxml.etree.ParserError'>\n",
        "Unexpected error on string ' ' <class 'lxml.etree.ParserError'>\n",
        "Unexpected error on string '\t'"
       ]
      },
      {
       "output_type": "stream",
       "stream": "stdout",
       "text": [
        " <class 'lxml.etree.ParserError'>\n",
        "Unexpected error on string '\t' <class 'lxml.etree.ParserError'>\n",
        "Unexpected error on string '<' <class 'lxml.etree.ParserError'>\n",
        "Unexpected error on string ' ' <class 'lxml.etree.ParserError'>\n",
        "Unexpected error on string ' ' <class 'lxml.etree.ParserError'>\n",
        "Unexpected error on string '<' <class 'lxml.etree.ParserError'>\n",
        "Unexpected error on string ' ' <class 'lxml.etree.ParserError'>\n",
        "Unexpected error on string ' ' <class 'lxml.etree.ParserError'>\n",
        "Unexpected error on string ' ' <class 'lxml.etree.ParserError'>\n",
        "Unexpected error on string '<' <class 'lxml.etree.ParserError'>\n",
        "Unexpected error on string ' ' <class 'lxml.etree.ParserError'>\n",
        "Unexpected error on string '<' <class 'lxml.etree.ParserError'>\n",
        "Unexpected error on string ' ' <class 'lxml.etree.ParserError'>\n",
        "Unexpected error on string ' ' <class 'lxml.etree.ParserError'>\n",
        "Unexpected error on string ' ' <class 'lxml.etree.ParserError'>\n",
        "Unexpected error on string ' ' <class 'lxml.etree.ParserError'>\n",
        "Unexpected error on string ' ' <class 'lxml.etree.ParserError'>\n",
        "Unexpected error on string '<' <class 'lxml.etree.ParserError'>\n",
        "Unexpected error on string ' ' <class 'lxml.etree.ParserError'>\n",
        "Unexpected error on string '<' <class 'lxml.etree.ParserError'>\n",
        "Unexpected error on string ' ' <class 'lxml.etree.ParserError'>\n",
        "Unexpected error on string ' ' <class 'lxml.etree.ParserError'>\n",
        "Unexpected error on string '<' <class 'lxml.etree.ParserError'>\n",
        "Unexpected error on string ' ' <class 'lxml.etree.ParserError'>\n",
        "Unexpected error on string '<' <class 'lxml.etree.ParserError'>\n",
        "Unexpected error on string ' ' <class 'lxml.etree.ParserError'>\n",
        "Unexpected error on string ' ' <class 'lxml.etree.ParserError'>\n",
        "Unexpected error on string ' ' <class 'lxml.etree.ParserError'>\n",
        "Unexpected error on string ' ' <class 'lxml.etree.ParserError'>\n",
        "Unexpected error on string ' ' <class 'lxml.etree.ParserError'>\n",
        "Unexpected error on string ' ' <class 'lxml.etree.ParserError'>\n",
        "Unexpected error on string ' ' <class 'lxml.etree.ParserError'>\n",
        "Unexpected error on string ' ' <class 'lxml.etree.ParserError'>\n",
        "Unexpected error on string ' ' <class 'lxml.etree.ParserError'>\n",
        "Unexpected error on string ' ' <class 'lxml.etree.ParserError'>\n",
        "Unexpected error on string ' ' <class 'lxml.etree.ParserError'>\n",
        "Unexpected error on string ' ' <class 'lxml.etree.ParserError'>\n",
        "Unexpected error on string '<' <class 'lxml.etree.ParserError'>\n",
        "Unexpected error on string '<' <class 'lxml.etree.ParserError'>\n",
        "Unexpected error on string ' ' <class 'lxml.etree.ParserError'>\n",
        "Unexpected error on string ' ' <class 'lxml.etree.ParserError'>\n",
        "Unexpected error on string ' ' <class 'lxml.etree.ParserError'>\n",
        "Unexpected error on string ' ' <class 'lxml.etree.ParserError'>\n",
        "Unexpected error on string ' ' <class 'lxml.etree.ParserError'>\n",
        "Unexpected error on string ' ' <class 'lxml.etree.ParserError'>\n",
        "Unexpected error on string ' ' <class 'lxml.etree.ParserError'>\n",
        "Unexpected error on string ' ' <class 'lxml.etree.ParserError'>\n",
        "Unexpected error on string ' ' <class 'lxml.etree.ParserError'>\n",
        "Unexpected error on string ' ' <class 'lxml.etree.ParserError'>\n",
        "Unexpected error on string ' ' <class 'lxml.etree.ParserError'>\n",
        "Unexpected error on string ' ' <class 'lxml.etree.ParserError'>\n",
        "Unexpected error on string ' ' <class 'lxml.etree.ParserError'>\n",
        "Unexpected error on string ' ' <class 'lxml.etree.ParserError'>\n",
        "Unexpected error on string ' ' <class 'lxml.etree.ParserError'>\n",
        "Unexpected error on string ' ' <class 'lxml.etree.ParserError'>\n",
        "Unexpected error on string ' ' <class 'lxml.etree.ParserError'>\n",
        "Unexpected error on string ' ' <class 'lxml.etree.ParserError'>\n",
        "Unexpected error on string ' ' <class 'lxml.etree.ParserError'>\n",
        "Unexpected error on string ' ' <class 'lxml.etree.ParserError'>\n",
        "Unexpected error on string ' ' <class 'lxml.etree.ParserError'>\n",
        "Unexpected error on string ' ' <class 'lxml.etree.ParserError'>\n",
        "Unexpected error on string ' ' <class 'lxml.etree.ParserError'>\n",
        "Unexpected error on string ' ' <class 'lxml.etree.ParserError'>\n",
        "Unexpected error on string ' ' <class 'lxml.etree.ParserError'>\n",
        "Unexpected error on string ' ' <class 'lxml.etree.ParserError'>\n",
        "Unexpected error on string ' ' <class 'lxml.etree.ParserError'>\n",
        "Unexpected error on string ' ' <class 'lxml.etree.ParserError'>\n",
        "Unexpected error on string '<' <class 'lxml.etree.ParserError'>\n",
        "Unexpected error on string ' ' <class 'lxml.etree.ParserError'>\n",
        "Unexpected error on string '\t' <class 'lxml.etree.ParserError'>\n",
        "Unexpected error on string '\t' <class 'lxml.etree.ParserError'>\n",
        "Unexpected error on string '<' <class 'lxml.etree.ParserError'>\n",
        "Unexpected error on string ' ' <class 'lxml.etree.ParserError'>\n",
        "Unexpected error on string ' ' <class 'lxml.etree.ParserError'>\n",
        "Unexpected error on string '<' <class 'lxml.etree.ParserError'>\n",
        "Unexpected error on string ' ' <class 'lxml.etree.ParserError'>\n",
        "Unexpected error on string ' ' <class 'lxml.etree.ParserError'>\n",
        "Unexpected error on string ' ' <class 'lxml.etree.ParserError'>\n",
        "Unexpected error on string '<' <class 'lxml.etree.ParserError'>\n",
        "Unexpected error on string ' ' <class 'lxml.etree.ParserError'>\n",
        "Unexpected error on string '<' <class 'lxml.etree.ParserError'>\n",
        "Unexpected error on string ' ' <class 'lxml.etree.ParserError'>\n",
        "Unexpected error on string ' ' <class 'lxml.etree.ParserError'>\n",
        "Unexpected error on string ' ' <class 'lxml.etree.ParserError'>\n",
        "Unexpected error on string ' ' <class 'lxml.etree.ParserError'>\n",
        "Unexpected error on string ' ' "
       ]
      },
      {
       "output_type": "stream",
       "stream": "stdout",
       "text": [
        "<class 'lxml.etree.ParserError'>\n",
        "Unexpected error on string '<' <class 'lxml.etree.ParserError'>\n",
        "Unexpected error on string ' ' <class 'lxml.etree.ParserError'>\n",
        "Unexpected error on string '<' <class 'lxml.etree.ParserError'>\n",
        "Unexpected error on string ' ' <class 'lxml.etree.ParserError'>\n",
        "Unexpected error on string ' ' <class 'lxml.etree.ParserError'>\n",
        "Unexpected error on string '<' <class 'lxml.etree.ParserError'>\n",
        "Unexpected error on string ' ' <class 'lxml.etree.ParserError'>\n",
        "Unexpected error on string '<' <class 'lxml.etree.ParserError'>\n",
        "Unexpected error on string ' ' <class 'lxml.etree.ParserError'>\n",
        "Unexpected error on string ' ' <class 'lxml.etree.ParserError'>\n",
        "Unexpected error on string ' ' <class 'lxml.etree.ParserError'>\n",
        "Unexpected error on string ' ' <class 'lxml.etree.ParserError'>\n",
        "Unexpected error on string ' ' <class 'lxml.etree.ParserError'>\n",
        "Unexpected error on string ' ' <class 'lxml.etree.ParserError'>\n",
        "Unexpected error on string ' ' <class 'lxml.etree.ParserError'>\n",
        "Unexpected error on string ' ' <class 'lxml.etree.ParserError'>\n",
        "Unexpected error on string ' ' <class 'lxml.etree.ParserError'>\n",
        "Unexpected error on string ' ' <class 'lxml.etree.ParserError'>\n",
        "Unexpected error on string ' ' <class 'lxml.etree.ParserError'>\n",
        "Unexpected error on string ' ' <class 'lxml.etree.ParserError'>\n",
        "Unexpected error on string '<' <class 'lxml.etree.ParserError'>\n",
        "Unexpected error on string '<' <class 'lxml.etree.ParserError'>\n",
        "Unexpected error on string ' ' <class 'lxml.etree.ParserError'>\n",
        "Unexpected error on string ' ' <class 'lxml.etree.ParserError'>\n",
        "Unexpected error on string ' ' <class 'lxml.etree.ParserError'>\n",
        "Unexpected error on string ' ' <class 'lxml.etree.ParserError'>\n",
        "Unexpected error on string ' ' <class 'lxml.etree.ParserError'>\n",
        "Unexpected error on string ' ' <class 'lxml.etree.ParserError'>\n",
        "Unexpected error on string ' ' <class 'lxml.etree.ParserError'>\n",
        "Unexpected error on string ' ' <class 'lxml.etree.ParserError'>\n",
        "Unexpected error on string ' ' <class 'lxml.etree.ParserError'>\n",
        "Unexpected error on string ' ' <class 'lxml.etree.ParserError'>\n",
        "Unexpected error on string ' ' <class 'lxml.etree.ParserError'>\n",
        "Unexpected error on string ' ' <class 'lxml.etree.ParserError'>\n",
        "Unexpected error on string ' ' <class 'lxml.etree.ParserError'>\n",
        "Unexpected error on string ' ' <class 'lxml.etree.ParserError'>\n",
        "Unexpected error on string ' ' <class 'lxml.etree.ParserError'>\n",
        "Unexpected error on string ' ' <class 'lxml.etree.ParserError'>\n",
        "Unexpected error on string ' ' <class 'lxml.etree.ParserError'>\n",
        "Unexpected error on string ' ' <class 'lxml.etree.ParserError'>\n",
        "Unexpected error on string ' ' <class 'lxml.etree.ParserError'>\n",
        "Unexpected error on string ' ' <class 'lxml.etree.ParserError'>\n",
        "Unexpected error on string ' ' <class 'lxml.etree.ParserError'>\n",
        "Unexpected error on string ' ' <class 'lxml.etree.ParserError'>\n",
        "Unexpected error on string ' ' <class 'lxml.etree.ParserError'>\n",
        "Unexpected error on string ' ' <class 'lxml.etree.ParserError'>\n",
        "Unexpected error on string ' ' <class 'lxml.etree.ParserError'>\n",
        "Unexpected error on string ' ' <class 'lxml.etree.ParserError'>\n",
        "Unexpected error on string ' ' <class 'lxml.etree.ParserError'>\n",
        "Unexpected error on string ' ' <class 'lxml.etree.ParserError'>\n",
        "Unexpected error on string '<' <class 'lxml.etree.ParserError'>\n",
        "Unexpected error on string ' ' <class 'lxml.etree.ParserError'>\n",
        "Unexpected error on string '\t' <class 'lxml.etree.ParserError'>\n",
        "Unexpected error on string '\t' <class 'lxml.etree.ParserError'>\n",
        "Unexpected error on string '<' <class 'lxml.etree.ParserError'>\n",
        "Unexpected error on string ' ' <class 'lxml.etree.ParserError'>\n",
        "Unexpected error on string ' ' <class 'lxml.etree.ParserError'>\n",
        "Unexpected error on string '<' <class 'lxml.etree.ParserError'>\n",
        "Unexpected error on string ' ' <class 'lxml.etree.ParserError'>\n",
        "Unexpected error on string ' ' <class 'lxml.etree.ParserError'>\n",
        "Unexpected error on string ' ' <class 'lxml.etree.ParserError'>\n",
        "Unexpected error on string '<' <class 'lxml.etree.ParserError'>\n",
        "Unexpected error on string ' ' <class 'lxml.etree.ParserError'>\n",
        "Unexpected error on string '<' <class 'lxml.etree.ParserError'>\n",
        "Unexpected error on string ' ' <class 'lxml.etree.ParserError'>\n",
        "Unexpected error on string ' ' <class 'lxml.etree.ParserError'>\n",
        "Unexpected error on string ' ' <class 'lxml.etree.ParserError'>\n",
        "Unexpected error on string ' ' <class 'lxml.etree.ParserError'>\n",
        "Unexpected error on string ' ' <class 'lxml.etree.ParserError'>\n",
        "Unexpected error on string '<' <class 'lxml.etree.ParserError'>\n",
        "Unexpected error on string ' ' <class 'lxml.etree.ParserError'>\n",
        "Unexpected error on string '<' <class 'lxml.etree.ParserError'>\n",
        "Unexpected error on string ' ' <class 'lxml.etree.ParserError'>\n",
        "Unexpected error on string ' ' <class 'lxml.etree.ParserError'>\n",
        "Unexpected error on string '<' <class 'lxml.etree.ParserError'>\n",
        "Unexpected error on string ' ' <class 'lxml.etree.ParserError'>\n",
        "Unexpected error on string '<' <class 'lxml.etree.ParserError'>\n",
        "Unexpected error on string ' ' <class 'lxml.etree.ParserError'>\n",
        "Unexpected error on string ' '"
       ]
      },
      {
       "output_type": "stream",
       "stream": "stdout",
       "text": [
        " <class 'lxml.etree.ParserError'>\n",
        "Unexpected error on string ' ' <class 'lxml.etree.ParserError'>\n",
        "Unexpected error on string ' ' <class 'lxml.etree.ParserError'>\n",
        "Unexpected error on string ' ' <class 'lxml.etree.ParserError'>\n",
        "Unexpected error on string ' ' <class 'lxml.etree.ParserError'>\n",
        "Unexpected error on string ' ' <class 'lxml.etree.ParserError'>\n",
        "Unexpected error on string ' ' <class 'lxml.etree.ParserError'>\n",
        "Unexpected error on string ' ' <class 'lxml.etree.ParserError'>\n",
        "Unexpected error on string ' ' <class 'lxml.etree.ParserError'>\n",
        "Unexpected error on string ' ' <class 'lxml.etree.ParserError'>\n",
        "Unexpected error on string ' ' <class 'lxml.etree.ParserError'>\n",
        "Unexpected error on string '<' <class 'lxml.etree.ParserError'>\n",
        "Unexpected error on string '<' <class 'lxml.etree.ParserError'>\n",
        "Unexpected error on string ' ' <class 'lxml.etree.ParserError'>\n",
        "Unexpected error on string ' ' <class 'lxml.etree.ParserError'>\n",
        "Unexpected error on string ' ' <class 'lxml.etree.ParserError'>\n",
        "Unexpected error on string ' ' <class 'lxml.etree.ParserError'>\n",
        "Unexpected error on string ' ' <class 'lxml.etree.ParserError'>\n",
        "Unexpected error on string ' ' <class 'lxml.etree.ParserError'>\n",
        "Unexpected error on string ' ' <class 'lxml.etree.ParserError'>\n",
        "Unexpected error on string ' ' <class 'lxml.etree.ParserError'>\n",
        "Unexpected error on string ' ' <class 'lxml.etree.ParserError'>\n",
        "Unexpected error on string ' ' <class 'lxml.etree.ParserError'>\n",
        "Unexpected error on string ' ' <class 'lxml.etree.ParserError'>\n",
        "Unexpected error on string ' ' <class 'lxml.etree.ParserError'>\n",
        "Unexpected error on string ' ' <class 'lxml.etree.ParserError'>\n",
        "Unexpected error on string ' ' <class 'lxml.etree.ParserError'>\n",
        "Unexpected error on string ' ' <class 'lxml.etree.ParserError'>\n",
        "Unexpected error on string ' ' <class 'lxml.etree.ParserError'>\n",
        "Unexpected error on string ' ' <class 'lxml.etree.ParserError'>\n",
        "Unexpected error on string ' ' <class 'lxml.etree.ParserError'>\n",
        "Unexpected error on string ' ' <class 'lxml.etree.ParserError'>\n",
        "Unexpected error on string ' ' <class 'lxml.etree.ParserError'>\n",
        "Unexpected error on string ' ' <class 'lxml.etree.ParserError'>\n",
        "Unexpected error on string ' ' <class 'lxml.etree.ParserError'>\n",
        "Unexpected error on string ' ' <class 'lxml.etree.ParserError'>\n",
        "Unexpected error on string ' ' <class 'lxml.etree.ParserError'>\n",
        "Unexpected error on string ' ' <class 'lxml.etree.ParserError'>\n",
        "Unexpected error on string ' ' <class 'lxml.etree.ParserError'>\n",
        "Unexpected error on string ' ' <class 'lxml.etree.ParserError'>\n",
        "Unexpected error on string ' ' <class 'lxml.etree.ParserError'>\n",
        "Unexpected error on string '<' <class 'lxml.etree.ParserError'>\n",
        "Unexpected error on string ' ' <class 'lxml.etree.ParserError'>\n",
        "Unexpected error on string '\t'"
       ]
      },
      {
       "output_type": "stream",
       "stream": "stdout",
       "text": [
        " <class 'lxml.etree.ParserError'>\n",
        "Unexpected error on string '\t' <class 'lxml.etree.ParserError'>\n",
        "Unexpected error on string '<' <class 'lxml.etree.ParserError'>\n",
        "Unexpected error on string ' ' <class 'lxml.etree.ParserError'>\n",
        "Unexpected error on string ' ' <class 'lxml.etree.ParserError'>\n",
        "Unexpected error on string '<' <class 'lxml.etree.ParserError'>\n",
        "Unexpected error on string ' ' <class 'lxml.etree.ParserError'>\n",
        "Unexpected error on string ' ' <class 'lxml.etree.ParserError'>\n",
        "Unexpected error on string ' ' <class 'lxml.etree.ParserError'>\n",
        "Unexpected error on string '<' <class 'lxml.etree.ParserError'>\n",
        "Unexpected error on string ' ' <class 'lxml.etree.ParserError'>\n",
        "Unexpected error on string '<' <class 'lxml.etree.ParserError'>\n",
        "Unexpected error on string ' ' <class 'lxml.etree.ParserError'>\n",
        "Unexpected error on string ' ' <class 'lxml.etree.ParserError'>\n",
        "Unexpected error on string ' ' <class 'lxml.etree.ParserError'>\n",
        "Unexpected error on string ' ' <class 'lxml.etree.ParserError'>\n",
        "Unexpected error on string ' ' <class 'lxml.etree.ParserError'>\n",
        "Unexpected error on string '<' <class 'lxml.etree.ParserError'>\n",
        "Unexpected error on string ' ' <class 'lxml.etree.ParserError'>\n",
        "Unexpected error on string '<' <class 'lxml.etree.ParserError'>\n",
        "Unexpected error on string ' ' <class 'lxml.etree.ParserError'>\n",
        "Unexpected error on string ' ' <class 'lxml.etree.ParserError'>\n",
        "Unexpected error on string '<' <class 'lxml.etree.ParserError'>\n",
        "Unexpected error on string ' ' <class 'lxml.etree.ParserError'>\n",
        "Unexpected error on string '<' <class 'lxml.etree.ParserError'>\n",
        "Unexpected error on string ' ' <class 'lxml.etree.ParserError'>\n",
        "Unexpected error on string ' ' <class 'lxml.etree.ParserError'>\n",
        "Unexpected error on string ' ' <class 'lxml.etree.ParserError'>\n",
        "Unexpected error on string ' ' <class 'lxml.etree.ParserError'>\n",
        "Unexpected error on string ' ' <class 'lxml.etree.ParserError'>\n",
        "Unexpected error on string ' ' <class 'lxml.etree.ParserError'>\n",
        "Unexpected error on string ' ' <class 'lxml.etree.ParserError'>\n",
        "Unexpected error on string ' ' <class 'lxml.etree.ParserError'>\n",
        "Unexpected error on string ' ' <class 'lxml.etree.ParserError'>\n",
        "Unexpected error on string ' ' <class 'lxml.etree.ParserError'>\n",
        "Unexpected error on string ' ' <class 'lxml.etree.ParserError'>\n",
        "Unexpected error on string ' ' <class 'lxml.etree.ParserError'>\n",
        "Unexpected error on string '<' <class 'lxml.etree.ParserError'>\n",
        "Unexpected error on string '<' <class 'lxml.etree.ParserError'>\n",
        "Unexpected error on string ' ' <class 'lxml.etree.ParserError'>\n",
        "Unexpected error on string ' ' <class 'lxml.etree.ParserError'>\n",
        "Unexpected error on string ' ' <class 'lxml.etree.ParserError'>\n",
        "Unexpected error on string ' ' <class 'lxml.etree.ParserError'>\n",
        "Unexpected error on string ' ' <class 'lxml.etree.ParserError'>\n",
        "Unexpected error on string ' ' <class 'lxml.etree.ParserError'>\n",
        "Unexpected error on string ' ' <class 'lxml.etree.ParserError'>\n",
        "Unexpected error on string ' ' <class 'lxml.etree.ParserError'>\n",
        "Unexpected error on string ' ' <class 'lxml.etree.ParserError'>\n",
        "Unexpected error on string ' ' <class 'lxml.etree.ParserError'>\n",
        "Unexpected error on string ' ' <class 'lxml.etree.ParserError'>\n",
        "Unexpected error on string ' ' <class 'lxml.etree.ParserError'>\n",
        "Unexpected error on string ' ' <class 'lxml.etree.ParserError'>\n",
        "Unexpected error on string ' ' <class 'lxml.etree.ParserError'>\n",
        "Unexpected error on string ' ' <class 'lxml.etree.ParserError'>\n",
        "Unexpected error on string ' ' <class 'lxml.etree.ParserError'>\n",
        "Unexpected error on string ' ' <class 'lxml.etree.ParserError'>\n",
        "Unexpected error on string ' ' <class 'lxml.etree.ParserError'>\n",
        "Unexpected error on string ' ' <class 'lxml.etree.ParserError'>\n",
        "Unexpected error on string ' ' <class 'lxml.etree.ParserError'>\n",
        "Unexpected error on string ' ' <class 'lxml.etree.ParserError'>\n",
        "Unexpected error on string ' ' <class 'lxml.etree.ParserError'>\n",
        "Unexpected error on string ' ' <class 'lxml.etree.ParserError'>\n",
        "Unexpected error on string ' ' <class 'lxml.etree.ParserError'>\n",
        "Unexpected error on string ' ' <class 'lxml.etree.ParserError'>\n",
        "Unexpected error on string ' ' <class 'lxml.etree.ParserError'>\n",
        "Unexpected error on string ' ' <class 'lxml.etree.ParserError'>\n",
        "Unexpected error on string ' ' <class 'lxml.etree.ParserError'>\n",
        "Unexpected error on string '<' <class 'lxml.etree.ParserError'>\n",
        "Unexpected error on string ' ' <class 'lxml.etree.ParserError'>\n",
        "{'heur': {'recall': 0.011363636363636364, 'precision': 0.03816793893129771, 'f1': 0.017513134851138357}, 'boiler_pipe': {'recall': 0.01818181818181818, 'precision': 0.04519774011299435, 'f1': 0.025931928687196105}, 'downloads_id': 417389613, 'crf': {'recall': 1.0, 'precision': 1.0, 'f1': 1.0}, 'python_readibilty': {'recall': 0.011363636363636364, 'precision': 0.1, 'f1': 0.020408163265306124}}"
       ]
      },
      {
       "output_type": "stream",
       "stream": "stdout",
       "text": [
        "\n",
        "downloads_id: 417477837\n",
        "[448, 451, 781]"
       ]
      },
      {
       "output_type": "stream",
       "stream": "stdout",
       "text": [
        "\n",
        "[448, 451]\n",
        "[441, 448, 451]"
       ]
      },
      {
       "output_type": "stream",
       "stream": "stdout",
       "text": [
        "\n",
        "original article tmp file "
       ]
      },
      {
       "output_type": "stream",
       "stream": "stdout",
       "text": [
        " /tmp/tmpfKV4C5.html\n",
        "/tmp/tmpxRMk1E.html\n",
        "/tmp/tmpfKV4C5.html\n",
        "/tmp/tmpfKV4C5.html\n",
        "Now open file:///tmp/tmpxRMk1E.html in your web browser\n"
       ]
      },
      {
       "output_type": "stream",
       "stream": "stdout",
       "text": [
        "\n",
        "{'heur': {'recall': 0.9964664310954063, 'precision': 0.9591836734693877, 'f1': 0.9774696707105719}, 'boiler_pipe': {'recall': 0.7985865724381626, 'precision': 0.7533333333333333, 'f1': 0.7753001715265866}, 'downloads_id': 417477837, 'crf': {'recall': 0.9964664310954063, 'precision': 1.0, 'f1': 0.9982300884955753}, 'python_readibilty': {'recall': 0.9929328621908127, 'precision': 0.9964539007092199, 'f1': 0.9946902654867257}}\n",
        "downloads_id: 417653177\n",
        "[563, 564, 569, 578, 586, 595, 707, 839, 872, 893, 895, 981]"
       ]
      },
      {
       "output_type": "stream",
       "stream": "stdout",
       "text": [
        "\n",
        "[563, 564, 707]\n",
        "[563, 564, 566, 569, 586, 595]"
       ]
      },
      {
       "output_type": "stream",
       "stream": "stdout",
       "text": [
        "\n",
        "original article tmp file "
       ]
      },
      {
       "output_type": "stream",
       "stream": "stdout",
       "text": [
        " /tmp/tmpofBR6H.html\n",
        "/tmp/tmpPKeVgp.html\n",
        "/tmp/tmpofBR6H.html\n",
        "/tmp/tmpofBR6H.html\n",
        "Now open file:///tmp/tmpPKeVgp.html in your web browser\n"
       ]
      },
      {
       "output_type": "stream",
       "stream": "stdout",
       "text": [
        "\n",
        "Unexpected error on string '</center>' <class 'lxml.etree.ParserError'>\n",
        "{'heur': {'recall': 0.988009592326139, 'precision': 0.8289738430583501, 'f1': 0.9015317286652078}, 'boiler_pipe': {'recall': 0.8585131894484412, 'precision': 0.8384074941451991, 'f1': 0.8483412322274881}, 'downloads_id': 417653177, 'crf': {'recall': 0.08872901678657075, 'precision': 0.49333333333333335, 'f1': 0.15040650406504066}, 'python_readibilty': {'recall': 0.9544364508393285, 'precision': 0.9900497512437811, 'f1': 0.9719169719169718}}\n",
        "downloads_id: 418489742\n",
        "[168, 169, 170, 171, 173, 174, 200]"
       ]
      },
      {
       "output_type": "stream",
       "stream": "stdout",
       "text": [
        "\n",
        "[162, 167, 168, 169, 170, 171, 173, 174, 175, 190]\n",
        "[162, 166, 167, 168, 169, 170, 171, 173, 174, 175]"
       ]
      },
      {
       "output_type": "stream",
       "stream": "stdout",
       "text": [
        "\n",
        "original article tmp file "
       ]
      },
      {
       "output_type": "stream",
       "stream": "stdout",
       "text": [
        " /tmp/tmpuzOd9Q.html\n",
        "/tmp/tmpyHqp5H.html\n",
        "/tmp/tmpuzOd9Q.html\n",
        "/tmp/tmpuzOd9Q.html\n",
        "Now open file:///tmp/tmpyHqp5H.html in your web browser\n"
       ]
      },
      {
       "output_type": "stream",
       "stream": "stdout",
       "text": [
        "\n",
        "{'heur': {'recall': 0.810546875, 'precision': 0.8792372881355932, 'f1': 0.8434959349593496}, 'boiler_pipe': {'recall': 0.9921875, 'precision': 0.9338235294117647, 'f1': 0.9621212121212122}, 'downloads_id': 418489742, 'crf': {'recall': 0.986328125, 'precision': 0.9805825242718447, 'f1': 0.9834469328140214}, 'python_readibilty': {'recall': 1.0, 'precision': 1.0, 'f1': 1.0}}\n",
        "downloads_id: 418544762\n",
        "[334, 346, 347, 348, 350, 352, 353, 355, 357, 358, 360, 362, 363, 365, 367, 374, 378, 379, 380, 381, 383, 384, 385, 386, 387, 388, 390, 471, 479, 487, 552, 558, 579, 585, 606, 612, 633, 639, 666, 711, 750, 754, 934, 937, 947]"
       ]
      },
      {
       "output_type": "stream",
       "stream": "stdout",
       "text": [
        "\n",
        "[74, 333, 334, 346, 347, 348, 350, 352, 353, 355, 357, 358, 360, 362, 363, 365, 367, 369, 370, 371, 373, 374, 376, 378, 379, 380, 381, 383, 384, 385, 386, 387, 388, 390]\n",
        "[316, 333, 334, 346, 347, 348, 350, 352, 353, 355, 357, 358, 360, 362, 363, 365, 367, 369, 370, 371, 373, 374, 376, 378, 379, 380, 381, 383, 384, 385, 386, 387, 388, 390]"
       ]
      },
      {
       "output_type": "stream",
       "stream": "stdout",
       "text": [
        "\n",
        "original article tmp file "
       ]
      },
      {
       "output_type": "stream",
       "stream": "stdout",
       "text": [
        " /tmp/tmpztggOS.html\n",
        "/tmp/tmpy7cYSh.html\n",
        "/tmp/tmpztggOS.html\n",
        "/tmp/tmpztggOS.html\n",
        "Now open file:///tmp/tmpy7cYSh.html in your web browser\n"
       ]
      },
      {
       "output_type": "stream",
       "stream": "stdout",
       "text": [
        "\n",
        "{'heur': {'recall': 0.9384236453201971, 'precision': 0.670774647887324, 'f1': 0.7823408624229979}, 'boiler_pipe': {'recall': 0.458128078817734, 'precision': 0.6888888888888889, 'f1': 0.5502958579881656}, 'downloads_id': 418544762, 'crf': {'recall': 0.9963054187192119, 'precision': 0.9963054187192119, 'f1': 0.9963054187192119}, 'python_readibilty': {'recall': 0.9778325123152709, 'precision': 1.0, 'f1': 0.9887920298879203}}"
       ]
      },
      {
       "output_type": "stream",
       "stream": "stdout",
       "text": [
        "\n",
        "downloads_id: 418574641\n",
        "[523, 526, 531, 536, 574, 582, 587, 588, 612, 637, 638, 663, 681, 708, 709, 738, 746, 747, 748, 858, 863, 874, 879, 890, 895, 906, 911, 922, 927, 938, 943, 959, 975, 1399, 1433, 1436, 1447, 1450, 1461, 1464, 1475, 1478, 1489, 1492, 1503, 1506, 1517, 1520, 1531, 1534, 1545, 1548, 1559, 1562, 1573, 1576, 1587, 1590]"
       ]
      },
      {
       "output_type": "stream",
       "stream": "stdout",
       "text": [
        "\n",
        "[197, 523, 1534, 1541]\n",
        "[523, 526, 681]"
       ]
      },
      {
       "output_type": "stream",
       "stream": "stdout",
       "text": [
        "\n",
        "original article tmp file "
       ]
      },
      {
       "output_type": "stream",
       "stream": "stdout",
       "text": [
        " /tmp/tmpcNnUSo.html\n",
        "/tmp/tmp1PWCaD.html\n",
        "/tmp/tmpcNnUSo.html\n",
        "/tmp/tmpcNnUSo.html\n",
        "Now open file:///tmp/tmp1PWCaD.html in your web browser\n"
       ]
      },
      {
       "output_type": "stream",
       "stream": "stdout",
       "text": [
        "\n",
        "{'heur': {'recall': 1.0, 'precision': 0.6947271045328399, 'f1': 0.8198689956331877}, 'boiler_pipe': {'recall': 0.8535286284953395, 'precision': 0.7741545893719807, 'f1': 0.811906269791007}, 'downloads_id': 418574641, 'crf': {'recall': 0.017310252996005325, 'precision': 0.48148148148148145, 'f1': 0.03341902313624679}, 'python_readibilty': {'recall': 0.9933422103861518, 'precision': 1.0, 'f1': 0.9966599866399466}}"
       ]
      },
      {
       "output_type": "stream",
       "stream": "stdout",
       "text": [
        "\n",
        "downloads_id: 418648698\n",
        "[760, 1027, 1038, 1049, 1669, 1711, 1715]"
       ]
      },
      {
       "output_type": "stream",
       "stream": "stdout",
       "text": [
        "\n",
        "[687, 760]\n",
        "[687, 760]"
       ]
      },
      {
       "output_type": "stream",
       "stream": "stdout",
       "text": [
        "\n",
        "original article tmp file "
       ]
      },
      {
       "output_type": "stream",
       "stream": "stdout",
       "text": [
        " /tmp/tmpIZzms_.html\n",
        "/tmp/tmpWq2vU6.html\n",
        "/tmp/tmpIZzms_.html\n",
        "/tmp/tmpIZzms_.html\n",
        "Now open file:///tmp/tmpWq2vU6.html in your web browser\n"
       ]
      },
      {
       "output_type": "stream",
       "stream": "stdout",
       "text": [
        "\n",
        "{'heur': {'recall': 0.8679245283018868, 'precision': 0.46938775510204084, 'f1': 0.609271523178808}, 'boiler_pipe': {'recall': 0.9056603773584906, 'precision': 0.8, 'f1': 0.8495575221238938}, 'downloads_id': 418648698, 'crf': {'recall': 1.0, 'precision': 1.0, 'f1': 1.0}, 'python_readibilty': {'recall': 1.0, 'precision': 1.0, 'f1': 1.0}}\n",
        "downloads_id: 418661859\n",
        "[415, 419, 423, 427, 485, 489, 493, 497, 501, 505, 509, 513, 517, 521, 525, 529, 533, 537, 541, 545, 549, 591, 595, 637, 641, 696, 697, 740, 742, 744, 746]"
       ]
      },
      {
       "output_type": "stream",
       "stream": "stdout",
       "text": [
        "\n",
        "[88, 394, 697, 740, 742, 744, 746]\n",
        "[697, 740, 742, 744, 746]"
       ]
      },
      {
       "output_type": "stream",
       "stream": "stdout",
       "text": [
        "\n",
        "original article tmp file "
       ]
      },
      {
       "output_type": "stream",
       "stream": "stdout",
       "text": [
        " /tmp/tmphj7vQe.html\n",
        "/tmp/tmpG15eFx.html\n",
        "/tmp/tmphj7vQe.html\n",
        "/tmp/tmphj7vQe.html\n",
        "Now open file:///tmp/tmpG15eFx.html in your web browser\n"
       ]
      },
      {
       "output_type": "stream",
       "stream": "stdout",
       "text": [
        "\n",
        "{'heur': {'recall': 1.0, 'precision': 0.7786069651741293, 'f1': 0.8755244755244754}, 'boiler_pipe': {'recall': 0.8626198083067093, 'precision': 0.7964601769911505, 'f1': 0.8282208588957055}, 'downloads_id': 418661859, 'crf': {'recall': 1.0, 'precision': 0.9690402476780186, 'f1': 0.9842767295597483}, 'python_readibilty': {'recall': 1.0, 'precision': 1.0, 'f1': 1.0}}\n",
        "downloads_id: 419404469\n",
        "[768, 771, 774, 777, 780, 783, 1563, 1605, 1609]"
       ]
      },
      {
       "output_type": "stream",
       "stream": "stdout",
       "text": [
        "\n",
        "[691, 698]\n",
        "[691, 702, 768, 771, 774, 777, 780, 783]"
       ]
      },
      {
       "output_type": "stream",
       "stream": "stdout",
       "text": [
        "\n",
        "original article tmp file "
       ]
      },
      {
       "output_type": "stream",
       "stream": "stdout",
       "text": [
        " /tmp/tmpudl07J.html\n",
        "/tmp/tmpAU2LpP.html\n",
        "/tmp/tmpudl07J.html\n",
        "/tmp/tmpudl07J.html\n",
        "Now open file:///tmp/tmpAU2LpP.html in your web browser\n"
       ]
      },
      {
       "output_type": "stream",
       "stream": "stdout",
       "text": [
        "\n",
        "{'heur': {'recall': 0.9417989417989417, 'precision': 0.8682926829268293, 'f1': 0.9035532994923857}, 'boiler_pipe': {'recall': 0.8465608465608465, 'precision': 0.7843137254901961, 'f1': 0.8142493638676844}, 'downloads_id': 419404469, 'crf': {'recall': 0.047619047619047616, 'precision': 0.75, 'f1': 0.08955223880597014}, 'python_readibilty': {'recall': 0.9894179894179894, 'precision': 1.0, 'f1': 0.9946808510638299}}\n",
        "downloads_id: 419440474\n",
        "[206, 240, 241, 242, 243, 244, 245, 246, 247, 248, 249, 250, 251, 252, 253, 468]"
       ]
      },
      {
       "output_type": "stream",
       "stream": "stdout",
       "text": [
        "\n",
        "[206, 240, 241, 242, 243, 244, 245, 246, 247, 248, 249, 250, 251, 252, 253]\n",
        "[205, 206, 237, 240, 241, 242, 243, 244, 245, 246, 247, 248, 249, 250, 251, 252, 253]"
       ]
      },
      {
       "output_type": "stream",
       "stream": "stdout",
       "text": [
        "\n",
        "original article tmp file "
       ]
      },
      {
       "output_type": "stream",
       "stream": "stdout",
       "text": [
        " /tmp/tmpPUhsFC.html\n",
        "/tmp/tmpvKoujO.html\n",
        "/tmp/tmpPUhsFC.html\n",
        "/tmp/tmpPUhsFC.html\n",
        "Now open file:///tmp/tmpvKoujO.html in your web browser\n"
       ]
      },
      {
       "output_type": "stream",
       "stream": "stdout",
       "text": [
        "\n",
        "{'heur': {'recall': 0.9747023809523809, 'precision': 0.9703703703703703, 'f1': 0.9725315515961396}, 'boiler_pipe': {'recall': 0.84375, 'precision': 0.8338235294117647, 'f1': 0.8387573964497042}, 'downloads_id': 419440474, 'crf': {'recall': 0.9747023809523809, 'precision': 1.0, 'f1': 0.987189148455162}, 'python_readibilty': {'recall': 0.9776785714285714, 'precision': 0.9954545454545455, 'f1': 0.9864864864864865}}\n",
        "downloads_id: 419483895\n",
        "[769, 772, 775, 778, 781, 784, 787, 790, 796, 799, 1579, 1621, 1625]"
       ]
      },
      {
       "output_type": "stream",
       "stream": "stdout",
       "text": [
        "\n",
        "[691, 769, 772, 775, 778, 781, 784, 787, 790]\n",
        "[691, 698, 703, 769, 772, 775, 778, 781, 784, 787, 790, 793, 796, 799]"
       ]
      },
      {
       "output_type": "stream",
       "stream": "stdout",
       "text": [
        "\n",
        "original article tmp file "
       ]
      },
      {
       "output_type": "stream",
       "stream": "stdout",
       "text": [
        " /tmp/tmpEsRycs.html\n",
        "/tmp/tmpONgVzF.html\n",
        "/tmp/tmpEsRycs.html\n",
        "/tmp/tmpEsRycs.html\n",
        "Now open file:///tmp/tmpONgVzF.html in your web browser\n"
       ]
      },
      {
       "output_type": "stream",
       "stream": "stdout",
       "text": [
        "\n",
        "{'heur': {'recall': 0.9498525073746312, 'precision': 0.9226361031518625, 'f1': 0.936046511627907}, 'boiler_pipe': {'recall': 0.8230088495575221, 'precision': 0.7560975609756098, 'f1': 0.788135593220339}, 'downloads_id': 419483895, 'crf': {'recall': 0.8289085545722714, 'precision': 1.0, 'f1': 0.9064516129032258}, 'python_readibilty': {'recall': 0.9852507374631269, 'precision': 1.0, 'f1': 0.9925705794947994}}\n",
        "downloads_id: 419873979\n",
        "[692, 696, 698, 699, 700, 701, 702, 703, 704, 705, 706, 707, 708, 709, 710, 711, 712, 713, 734, 793, 794]"
       ]
      },
      {
       "output_type": "stream",
       "stream": "stdout",
       "text": [
        "\n",
        "[692, 694, 696, 697, 698, 699, 700, 701, 702, 703, 704, 705, 706, 707, 708, 709, 710, 711, 712, 713, 734, 916]\n",
        "[692, 694, 696, 697, 698, 699, 700, 701, 702, 703, 704, 705, 706, 707, 708, 709, 710, 711, 712, 713]"
       ]
      },
      {
       "output_type": "stream",
       "stream": "stdout",
       "text": [
        "\n",
        "original article tmp file "
       ]
      },
      {
       "output_type": "stream",
       "stream": "stdout",
       "text": [
        " /tmp/tmp51VZEm.html\n",
        "/tmp/tmpW9KHHM.html\n",
        "/tmp/tmp51VZEm.html\n",
        "/tmp/tmp51VZEm.html\n",
        "Now open file:///tmp/tmpW9KHHM.html in your web browser\n"
       ]
      },
      {
       "output_type": "stream",
       "stream": "stdout",
       "text": [
        "\n",
        "{'heur': {'recall': 0.970856102003643, 'precision': 0.9111111111111111, 'f1': 0.9400352733686067}, 'boiler_pipe': {'recall': 0.970856102003643, 'precision': 0.9500891265597148, 'f1': 0.9603603603603604}, 'downloads_id': 419873979, 'crf': {'recall': 1.0, 'precision': 0.9751332149200711, 'f1': 0.9874100719424461}, 'python_readibilty': {'recall': 0.9908925318761385, 'precision': 0.8280060882800608, 'f1': 0.9021558872305141}}\n",
        "downloads_id: 420430754\n",
        "[284, 287, 296, 336, 345, 354, 415, 424, 482, 573, 582, 615, 666, 669, 688, 689, 690, 751]"
       ]
      },
      {
       "output_type": "stream",
       "stream": "stdout",
       "text": [
        "\n",
        "[284, 287, 669, 688, 689, 690]\n",
        "[669, 675, 686, 688, 689, 690]"
       ]
      },
      {
       "output_type": "stream",
       "stream": "stdout",
       "text": [
        "\n",
        "original article tmp file "
       ]
      },
      {
       "output_type": "stream",
       "stream": "stdout",
       "text": [
        " /tmp/tmpg2NWiU.html\n",
        "/tmp/tmpYy1w2h.html\n",
        "/tmp/tmpg2NWiU.html\n",
        "/tmp/tmpg2NWiU.html\n",
        "Now open file:///tmp/tmpYy1w2h.html in your web browser\n"
       ]
      },
      {
       "output_type": "stream",
       "stream": "stdout",
       "text": [
        "\n",
        "{'heur': {'recall': 0.9732142857142857, 'precision': 0.5396039603960396, 'f1': 0.694267515923567}, 'boiler_pipe': {'recall': 0.9910714285714286, 'precision': 0.8774703557312253, 'f1': 0.9308176100628931}, 'downloads_id': 420430754, 'crf': {'recall': 0.9732142857142857, 'precision': 0.9045643153526971, 'f1': 0.9376344086021505}, 'python_readibilty': {'recall': 1.0, 'precision': 0.9531914893617022, 'f1': 0.9760348583877996}}\n",
        "downloads_id: 420599387\n",
        "[244, 245, 256, 257, 258, 385, 393, 513, 518, 520]"
       ]
      },
      {
       "output_type": "stream",
       "stream": "stdout",
       "text": [
        "\n",
        "[244, 245, 255, 256, 257, 258]\n",
        "[244, 245, 255, 256, 257]"
       ]
      },
      {
       "output_type": "stream",
       "stream": "stdout",
       "text": [
        "\n",
        "original article tmp file "
       ]
      },
      {
       "output_type": "stream",
       "stream": "stdout",
       "text": [
        " /tmp/tmpbGyyWp.html\n",
        "/tmp/tmpDfUSTQ.html\n",
        "/tmp/tmpbGyyWp.html\n",
        "/tmp/tmpbGyyWp.html\n",
        "Now open file:///tmp/tmpDfUSTQ.html in your web browser\n"
       ]
      },
      {
       "output_type": "stream",
       "stream": "stdout",
       "text": [
        "\n",
        "{'heur': {'recall': 0.859375, 'precision': 0.24444444444444444, 'f1': 0.3806228373702422}, 'boiler_pipe': {'recall': 0.109375, 'precision': 0.03225806451612903, 'f1': 0.0498220640569395}, 'downloads_id': 420599387, 'crf': {'recall': 1.0, 'precision': 0.5925925925925926, 'f1': 0.7441860465116279}, 'python_readibilty': {'recall': 0.109375, 'precision': 0.0330188679245283, 'f1': 0.050724637681159424}}"
       ]
      },
      {
       "output_type": "stream",
       "stream": "stdout",
       "text": [
        "\n",
        "downloads_id: 420666122\n",
        "[287, 296, 298, 300, 302, 304, 307, 310, 317, 320, 323, 325]"
       ]
      },
      {
       "output_type": "stream",
       "stream": "stdout",
       "text": [
        "\n",
        "[254]\n",
        "[254, 255, 258, 283, 287, 296, 298, 300, 302, 304, 307, 310, 311, 312, 317, 320, 323, 325]"
       ]
      },
      {
       "output_type": "stream",
       "stream": "stdout",
       "text": [
        "\n",
        "original article tmp file "
       ]
      },
      {
       "output_type": "stream",
       "stream": "stdout",
       "text": [
        " /tmp/tmpOk77CI.html\n",
        "/tmp/tmptdPNRt.html\n",
        "/tmp/tmpOk77CI.html\n",
        "/tmp/tmpOk77CI.html\n",
        "Now open file:///tmp/tmptdPNRt.html in your web browser\n"
       ]
      },
      {
       "output_type": "stream",
       "stream": "stdout",
       "text": [
        "\n",
        "Unexpected error on string ' ' <class 'lxml.etree.ParserError'>\n",
        "Unexpected error on string ' ' <class 'lxml.etree.ParserError'>\n",
        "Unexpected error on string ' ' <class 'lxml.etree.ParserError'>\n",
        "Unexpected error on string ' ' <class 'lxml.etree.ParserError'>\n",
        "Unexpected error on string ' ' <class 'lxml.etree.ParserError'>\n",
        "Unexpected error on string ' ' <class 'lxml.etree.ParserError'>\n",
        "Unexpected error on string '<' <class 'lxml.etree.ParserError'>\n",
        "Unexpected error on string ' ' <class 'lxml.etree.ParserError'>\n",
        "Unexpected error on string '<' <class 'lxml.etree.ParserError'>\n",
        "Unexpected error on string ' ' <class 'lxml.etree.ParserError'>\n",
        "Unexpected error on string ' ' <class 'lxml.etree.ParserError'>\n",
        "Unexpected error on string ' ' <class 'lxml.etree.ParserError'>\n",
        "Unexpected error on string ' ' <class 'lxml.etree.ParserError'>\n",
        "Unexpected error on string ' ' <class 'lxml.etree.ParserError'>\n",
        "Unexpected error on string ' ' <class 'lxml.etree.ParserError'>\n",
        "Unexpected error on string '<' <class 'lxml.etree.ParserError'>\n",
        "Unexpected error on string '<' <class 'lxml.etree.ParserError'>\n",
        "{'heur': {'recall': 0.9228998849252014, 'precision': 1.0, 'f1': 0.959904248952723}, 'boiler_pipe': {'recall': 0.766398158803222, 'precision': 0.59094942324756, 'f1': 0.6673346693386774}, 'downloads_id': 420666122, 'crf': {'recall': 0.009205983889528193, 'precision': 0.08888888888888889, 'f1': 0.016684045881126174}, 'python_readibilty': {'recall': 0.9275028768699655, 'precision': 1.0, 'f1': 0.9623880597014924}}"
       ]
      },
      {
       "output_type": "stream",
       "stream": "stdout",
       "text": [
        "\n",
        "downloads_id: 421520860\n",
        "[446, 463, 473, 542, 549, 555, 556, 557, 667, 673, 679, 685, 691, 700, 706, 712, 718, 724, 733, 739, 745, 751, 757]"
       ]
      },
      {
       "output_type": "stream",
       "stream": "stdout",
       "text": [
        "\n",
        "[446, 448, 463, 473]\n",
        "[446, 448, 463, 473]"
       ]
      },
      {
       "output_type": "stream",
       "stream": "stdout",
       "text": [
        "\n",
        "original article tmp file "
       ]
      },
      {
       "output_type": "stream",
       "stream": "stdout",
       "text": [
        " /tmp/tmpNqar85.html\n",
        "/tmp/tmpku2P_0.html\n",
        "/tmp/tmpNqar85.html\n",
        "/tmp/tmpNqar85.html\n",
        "Now open file:///tmp/tmpku2P_0.html in your web browser\n"
       ]
      },
      {
       "output_type": "stream",
       "stream": "stdout",
       "text": [
        "\n",
        "{'heur': {'recall': 0.9876160990712074, 'precision': 0.6087786259541985, 'f1': 0.7532467532467533}, 'boiler_pipe': {'recall': 0.848297213622291, 'precision': 0.6357308584686775, 'f1': 0.726790450928382}, 'downloads_id': 421520860, 'crf': {'recall': 1.0, 'precision': 1.0, 'f1': 1.0}, 'python_readibilty': {'recall': 0.9442724458204335, 'precision': 1.0, 'f1': 0.9713375796178344}}\n",
        "downloads_id: 421834553\n",
        "[218, 284, 306]"
       ]
      },
      {
       "output_type": "stream",
       "stream": "stdout",
       "text": [
        "\n",
        "[306]\n",
        "[282, 283, 284, 304, 305, 306]"
       ]
      },
      {
       "output_type": "stream",
       "stream": "stdout",
       "text": [
        "\n",
        "original article tmp file "
       ]
      },
      {
       "output_type": "stream",
       "stream": "stdout",
       "text": [
        " /tmp/tmpQ_t0Br.html\n",
        "/tmp/tmpm8n70a.html\n",
        "/tmp/tmpQ_t0Br.html\n",
        "/tmp/tmpQ_t0Br.html\n",
        "Now open file:///tmp/tmpm8n70a.html in your web browser\n"
       ]
      },
      {
       "output_type": "stream",
       "stream": "stdout",
       "text": [
        "\n",
        "Unexpected error on string '<' <class 'lxml.etree.ParserError'>\n",
        "Unexpected error on string ' ' <class 'lxml.etree.ParserError'>\n",
        "Unexpected error on string ' ' <class 'lxml.etree.ParserError'>\n",
        "Unexpected error on string '<' <class 'lxml.etree.ParserError'>\n",
        "Unexpected error on string ' ' <class 'lxml.etree.ParserError'>\n",
        "Unexpected error on string '<' <class 'lxml.etree.ParserError'>\n",
        "Unexpected error on string ' ' <class 'lxml.etree.ParserError'>\n",
        "Unexpected error on string '<' <class 'lxml.etree.ParserError'>\n",
        "Unexpected error on string ' ' <class 'lxml.etree.ParserError'>\n",
        "Unexpected error on string ' ' <class 'lxml.etree.ParserError'>\n",
        "Unexpected error on string ' ' <class 'lxml.etree.ParserError'>\n",
        "Unexpected error on string ' ' <class 'lxml.etree.ParserError'>\n",
        "Unexpected error on string ' ' <class 'lxml.etree.ParserError'>\n",
        "Unexpected error on string ' ' <class 'lxml.etree.ParserError'>\n",
        "Unexpected error on string ' ' <class 'lxml.etree.ParserError'>\n",
        "Unexpected error on string ' ' <class 'lxml.etree.ParserError'>\n",
        "Unexpected error on string ' ' <class 'lxml.etree.ParserError'>\n",
        "Unexpected error on string ' ' <class 'lxml.etree.ParserError'>\n",
        "Unexpected error on string ' ' <class 'lxml.etree.ParserError'>\n",
        "Unexpected error on string ' ' <class 'lxml.etree.ParserError'>\n",
        "Unexpected error on string ' ' <class 'lxml.etree.ParserError'>\n",
        "Unexpected error on string ' ' <class 'lxml.etree.ParserError'>\n",
        "Unexpected error on string ' ' <class 'lxml.etree.ParserError'>\n",
        "Unexpected error on string ' ' <class 'lxml.etree.ParserError'>\n",
        "Unexpected error on string ' ' <class 'lxml.etree.ParserError'>\n",
        "Unexpected error on string ' ' <class 'lxml.etree.ParserError'>\n",
        "Unexpected error on string ' ' <class 'lxml.etree.ParserError'>\n",
        "Unexpected error on string ' ' <class 'lxml.etree.ParserError'>\n",
        "Unexpected error on string ' ' <class 'lxml.etree.ParserError'>\n",
        "Unexpected error on string ' ' <class 'lxml.etree.ParserError'>\n",
        "Unexpected error on string ' ' <class 'lxml.etree.ParserError'>\n",
        "Unexpected error on string ' ' <class 'lxml.etree.ParserError'>\n",
        "Unexpected error on string ' ' <class 'lxml.etree.ParserError'>\n",
        "Unexpected error on string ' ' <class 'lxml.etree.ParserError'>\n",
        "Unexpected error on string ' ' <class 'lxml.etree.ParserError'>\n",
        "Unexpected error on string ' ' <class 'lxml.etree.ParserError'>\n",
        "Unexpected error on string ' ' <class 'lxml.etree.ParserError'>\n",
        "Unexpected error on string ' ' <class 'lxml.etree.ParserError'>\n",
        "Unexpected error on string ' ' <class 'lxml.etree.ParserError'>\n",
        "Unexpected error on string ' ' <class 'lxml.etree.ParserError'>\n",
        "Unexpected error on string ' ' <class 'lxml.etree.ParserError'>\n",
        "Unexpected error on string ' '"
       ]
      },
      {
       "output_type": "stream",
       "stream": "stdout",
       "text": [
        " <class 'lxml.etree.ParserError'>\n",
        "Unexpected error on string '<' <class 'lxml.etree.ParserError'>\n",
        "Unexpected error on string ' ' <class 'lxml.etree.ParserError'>\n",
        "Unexpected error on string '<' <class 'lxml.etree.ParserError'>\n",
        "Unexpected error on string ' ' <class 'lxml.etree.ParserError'>\n",
        "Unexpected error on string ' ' <class 'lxml.etree.ParserError'>\n",
        "Unexpected error on string ' ' <class 'lxml.etree.ParserError'>\n",
        "Unexpected error on string ' ' <class 'lxml.etree.ParserError'>\n",
        "Unexpected error on string ' ' <class 'lxml.etree.ParserError'>\n",
        "Unexpected error on string ' ' <class 'lxml.etree.ParserError'>\n",
        "Unexpected error on string ' ' <class 'lxml.etree.ParserError'>\n",
        "Unexpected error on string ' ' <class 'lxml.etree.ParserError'>\n",
        "Unexpected error on string ' ' <class 'lxml.etree.ParserError'>\n",
        "Unexpected error on string ' ' <class 'lxml.etree.ParserError'>\n",
        "Unexpected error on string ' ' <class 'lxml.etree.ParserError'>\n",
        "Unexpected error on string ' ' <class 'lxml.etree.ParserError'>\n",
        "Unexpected error on string ' ' <class 'lxml.etree.ParserError'>\n",
        "Unexpected error on string ' ' <class 'lxml.etree.ParserError'>\n",
        "Unexpected error on string ' ' <class 'lxml.etree.ParserError'>\n",
        "Unexpected error on string ' ' <class 'lxml.etree.ParserError'>\n",
        "Unexpected error on string ' ' <class 'lxml.etree.ParserError'>\n",
        "Unexpected error on string ' ' <class 'lxml.etree.ParserError'>\n",
        "Unexpected error on string ' ' <class 'lxml.etree.ParserError'>\n",
        "Unexpected error on string ' ' <class 'lxml.etree.ParserError'>\n",
        "Unexpected error on string ' ' <class 'lxml.etree.ParserError'>\n",
        "Unexpected error on string ' ' <class 'lxml.etree.ParserError'>\n",
        "Unexpected error on string ' ' <class 'lxml.etree.ParserError'>\n",
        "Unexpected error on string ' ' <class 'lxml.etree.ParserError'>\n",
        "Unexpected error on string ' ' <class 'lxml.etree.ParserError'>\n",
        "Unexpected error on string ' ' <class 'lxml.etree.ParserError'>\n",
        "Unexpected error on string ' ' <class 'lxml.etree.ParserError'>\n",
        "Unexpected error on string ' ' <class 'lxml.etree.ParserError'>\n",
        "Unexpected error on string ' ' <class 'lxml.etree.ParserError'>\n",
        "Unexpected error on string ' ' <class 'lxml.etree.ParserError'>\n",
        "Unexpected error on string ' ' <class 'lxml.etree.ParserError'>\n",
        "Unexpected error on string ' ' <class 'lxml.etree.ParserError'>\n",
        "Unexpected error on string ' ' <class 'lxml.etree.ParserError'>\n",
        "Unexpected error on string ' ' <class 'lxml.etree.ParserError'>\n",
        "Unexpected error on string ' ' <class 'lxml.etree.ParserError'>\n",
        "Unexpected error on string ' ' <class 'lxml.etree.ParserError'>\n",
        "Unexpected error on string ' ' <class 'lxml.etree.ParserError'>\n",
        "Unexpected error on string ' ' <class 'lxml.etree.ParserError'>\n",
        "Unexpected error on string ' ' <class 'lxml.etree.ParserError'>\n",
        "Unexpected error on string ' ' <class 'lxml.etree.ParserError'>\n",
        "Unexpected error on string ' ' <class 'lxml.etree.ParserError'>\n",
        "Unexpected error on string ' ' <class 'lxml.etree.ParserError'>\n",
        "Unexpected error on string ' ' <class 'lxml.etree.ParserError'>\n",
        "Unexpected error on string ' ' <class 'lxml.etree.ParserError'>\n",
        "Unexpected error on string '<' <class 'lxml.etree.ParserError'>\n",
        "Unexpected error on string ' ' <class 'lxml.etree.ParserError'>\n",
        "Unexpected error on string '<' <class 'lxml.etree.ParserError'>\n",
        "Unexpected error on string ' ' <class 'lxml.etree.ParserError'>\n",
        "Unexpected error on string ' ' <class 'lxml.etree.ParserError'>\n",
        "Unexpected error on string ' ' <class 'lxml.etree.ParserError'>\n",
        "Unexpected error on string ' ' <class 'lxml.etree.ParserError'>\n",
        "Unexpected error on string ' ' <class 'lxml.etree.ParserError'>\n",
        "Unexpected error on string ' ' <class 'lxml.etree.ParserError'>\n",
        "Unexpected error on string ' ' <class 'lxml.etree.ParserError'>\n",
        "Unexpected error on string ' ' <class 'lxml.etree.ParserError'>\n",
        "Unexpected error on string ' ' <class 'lxml.etree.ParserError'>\n",
        "Unexpected error on string ' ' <class 'lxml.etree.ParserError'>\n",
        "Unexpected error on string ' ' <class 'lxml.etree.ParserError'>\n",
        "Unexpected error on string ' ' <class 'lxml.etree.ParserError'>\n",
        "Unexpected error on string ' ' <class 'lxml.etree.ParserError'>\n",
        "Unexpected error on string ' ' <class 'lxml.etree.ParserError'>\n",
        "Unexpected error on string ' ' <class 'lxml.etree.ParserError'>\n",
        "Unexpected error on string ' ' <class 'lxml.etree.ParserError'>\n",
        "Unexpected error on string ' ' <class 'lxml.etree.ParserError'>\n",
        "Unexpected error on string ' ' <class 'lxml.etree.ParserError'>\n",
        "Unexpected error on string ' ' <class 'lxml.etree.ParserError'>\n",
        "Unexpected error on string ' ' <class 'lxml.etree.ParserError'>\n",
        "Unexpected error on string ' '"
       ]
      },
      {
       "output_type": "stream",
       "stream": "stdout",
       "text": [
        " <class 'lxml.etree.ParserError'>\n",
        "Unexpected error on string ' ' <class 'lxml.etree.ParserError'>\n",
        "Unexpected error on string ' ' <class 'lxml.etree.ParserError'>\n",
        "Unexpected error on string ' ' <class 'lxml.etree.ParserError'>\n",
        "Unexpected error on string ' ' <class 'lxml.etree.ParserError'>\n",
        "Unexpected error on string ' ' <class 'lxml.etree.ParserError'>\n",
        "Unexpected error on string ' ' <class 'lxml.etree.ParserError'>\n",
        "Unexpected error on string ' ' <class 'lxml.etree.ParserError'>\n",
        "Unexpected error on string ' ' <class 'lxml.etree.ParserError'>\n",
        "Unexpected error on string ' ' <class 'lxml.etree.ParserError'>\n",
        "Unexpected error on string ' ' <class 'lxml.etree.ParserError'>\n",
        "Unexpected error on string ' ' <class 'lxml.etree.ParserError'>\n",
        "Unexpected error on string ' ' <class 'lxml.etree.ParserError'>\n",
        "Unexpected error on string ' ' <class 'lxml.etree.ParserError'>\n",
        "Unexpected error on string ' ' <class 'lxml.etree.ParserError'>\n",
        "Unexpected error on string ' ' <class 'lxml.etree.ParserError'>\n",
        "Unexpected error on string ' ' <class 'lxml.etree.ParserError'>\n",
        "Unexpected error on string ' ' <class 'lxml.etree.ParserError'>\n",
        "Unexpected error on string ' ' <class 'lxml.etree.ParserError'>\n",
        "Unexpected error on string ' ' <class 'lxml.etree.ParserError'>\n",
        "Unexpected error on string ' ' <class 'lxml.etree.ParserError'>\n",
        "Unexpected error on string ' ' <class 'lxml.etree.ParserError'>\n",
        "Unexpected error on string ' ' <class 'lxml.etree.ParserError'>\n",
        "Unexpected error on string ' ' <class 'lxml.etree.ParserError'>\n",
        "Unexpected error on string ' ' <class 'lxml.etree.ParserError'>\n",
        "Unexpected error on string ' ' <class 'lxml.etree.ParserError'>\n",
        "Unexpected error on string ' ' <class 'lxml.etree.ParserError'>\n",
        "Unexpected error on string ' ' <class 'lxml.etree.ParserError'>\n",
        "Unexpected error on string ' ' <class 'lxml.etree.ParserError'>\n",
        "Unexpected error on string ' ' <class 'lxml.etree.ParserError'>\n",
        "Unexpected error on string ' ' <class 'lxml.etree.ParserError'>\n",
        "Unexpected error on string ' ' <class 'lxml.etree.ParserError'>\n",
        "Unexpected error on string ' ' <class 'lxml.etree.ParserError'>\n",
        "Unexpected error on string ' ' <class 'lxml.etree.ParserError'>\n",
        "Unexpected error on string ' ' <class 'lxml.etree.ParserError'>\n",
        "Unexpected error on string ' ' <class 'lxml.etree.ParserError'>\n",
        "Unexpected error on string ' ' <class 'lxml.etree.ParserError'>\n",
        "Unexpected error on string ' ' <class 'lxml.etree.ParserError'>\n",
        "Unexpected error on string ' ' <class 'lxml.etree.ParserError'>\n",
        "Unexpected error on string ' ' <class 'lxml.etree.ParserError'>\n",
        "Unexpected error on string ' ' <class 'lxml.etree.ParserError'>\n",
        "Unexpected error on string ' ' <class 'lxml.etree.ParserError'>\n",
        "Unexpected error on string ' ' <class 'lxml.etree.ParserError'>\n",
        "Unexpected error on string ' ' <class 'lxml.etree.ParserError'>\n",
        "Unexpected error on string ' ' <class 'lxml.etree.ParserError'>\n",
        "Unexpected error on string ' ' <class 'lxml.etree.ParserError'>\n",
        "Unexpected error on string ' ' <class 'lxml.etree.ParserError'>\n",
        "Unexpected error on string ' ' <class 'lxml.etree.ParserError'>\n",
        "Unexpected error on string ' ' <class 'lxml.etree.ParserError'>\n",
        "Unexpected error on string ' ' <class 'lxml.etree.ParserError'>\n",
        "Unexpected error on string ' ' <class 'lxml.etree.ParserError'>\n",
        "Unexpected error on string ' ' <class 'lxml.etree.ParserError'>\n",
        "Unexpected error on string '<' <class 'lxml.etree.ParserError'>\n",
        "Unexpected error on string ' ' <class 'lxml.etree.ParserError'>\n",
        "Unexpected error on string '<' <class 'lxml.etree.ParserError'>\n",
        "Unexpected error on string ' ' <class 'lxml.etree.ParserError'>\n",
        "Unexpected error on string ' ' <class 'lxml.etree.ParserError'>\n",
        "Unexpected error on string ' ' <class 'lxml.etree.ParserError'>\n",
        "Unexpected error on string ' ' <class 'lxml.etree.ParserError'>\n",
        "Unexpected error on string ' ' <class 'lxml.etree.ParserError'>\n",
        "Unexpected error on string ' ' <class 'lxml.etree.ParserError'>\n",
        "Unexpected error on string ' ' <class 'lxml.etree.ParserError'>\n",
        "Unexpected error on string ' ' <class 'lxml.etree.ParserError'>\n",
        "Unexpected error on string ' ' <class 'lxml.etree.ParserError'>\n",
        "Unexpected error on string '<' <class 'lxml.etree.ParserError'>\n",
        "Unexpected error on string ' ' <class 'lxml.etree.ParserError'>\n",
        "Unexpected error on string '<' <class 'lxml.etree.ParserError'>\n",
        "Unexpected error on string ' ' <class 'lxml.etree.ParserError'>\n",
        "Unexpected error on string ' ' <class 'lxml.etree.ParserError'>\n",
        "Unexpected error on string ' ' <class 'lxml.etree.ParserError'>\n",
        "Unexpected error on string ' ' <class 'lxml.etree.ParserError'>\n",
        "Unexpected error on string ' ' <class 'lxml.etree.ParserError'>"
       ]
      },
      {
       "output_type": "stream",
       "stream": "stdout",
       "text": [
        "\n",
        "Unexpected error on string ' ' <class 'lxml.etree.ParserError'>\n",
        "Unexpected error on string ' ' <class 'lxml.etree.ParserError'>\n",
        "Unexpected error on string ' ' <class 'lxml.etree.ParserError'>\n",
        "Unexpected error on string ' ' <class 'lxml.etree.ParserError'>\n",
        "Unexpected error on string ' ' <class 'lxml.etree.ParserError'>\n",
        "Unexpected error on string '<' <class 'lxml.etree.ParserError'>\n",
        "Unexpected error on string ' ' <class 'lxml.etree.ParserError'>\n",
        "Unexpected error on string '<' <class 'lxml.etree.ParserError'>\n",
        "Unexpected error on string ' ' <class 'lxml.etree.ParserError'>\n",
        "Unexpected error on string ' ' <class 'lxml.etree.ParserError'>\n",
        "Unexpected error on string ' ' <class 'lxml.etree.ParserError'>\n",
        "Unexpected error on string ' ' <class 'lxml.etree.ParserError'>\n",
        "Unexpected error on string ' ' <class 'lxml.etree.ParserError'>\n",
        "Unexpected error on string ' ' <class 'lxml.etree.ParserError'>\n",
        "Unexpected error on string ' ' <class 'lxml.etree.ParserError'>\n",
        "Unexpected error on string ' ' <class 'lxml.etree.ParserError'>\n",
        "Unexpected error on string ' ' <class 'lxml.etree.ParserError'>\n",
        "Unexpected error on string '<' <class 'lxml.etree.ParserError'>\n",
        "Unexpected error on string ' ' <class 'lxml.etree.ParserError'>\n",
        "Unexpected error on string '<' <class 'lxml.etree.ParserError'>\n",
        "Unexpected error on string ' ' <class 'lxml.etree.ParserError'>\n",
        "Unexpected error on string ' ' <class 'lxml.etree.ParserError'>\n",
        "Unexpected error on string ' ' <class 'lxml.etree.ParserError'>\n",
        "Unexpected error on string ' ' <class 'lxml.etree.ParserError'>\n",
        "Unexpected error on string ' ' <class 'lxml.etree.ParserError'>\n",
        "Unexpected error on string ' ' <class 'lxml.etree.ParserError'>\n",
        "Unexpected error on string ' ' <class 'lxml.etree.ParserError'>\n",
        "Unexpected error on string ' ' <class 'lxml.etree.ParserError'>\n",
        "Unexpected error on string ' ' <class 'lxml.etree.ParserError'>\n",
        "Unexpected error on string ' ' <class 'lxml.etree.ParserError'>\n",
        "Unexpected error on string ' ' <class 'lxml.etree.ParserError'>\n",
        "Unexpected error on string '<' <class 'lxml.etree.ParserError'>\n",
        "Unexpected error on string ' ' <class 'lxml.etree.ParserError'>\n",
        "Unexpected error on string '<' <class 'lxml.etree.ParserError'>\n",
        "Unexpected error on string ' ' <class 'lxml.etree.ParserError'>\n",
        "Unexpected error on string ' ' <class 'lxml.etree.ParserError'>\n",
        "Unexpected error on string ' ' <class 'lxml.etree.ParserError'>\n",
        "Unexpected error on string ' ' <class 'lxml.etree.ParserError'>\n",
        "Unexpected error on string ' ' <class 'lxml.etree.ParserError'>\n",
        "Unexpected error on string ' ' <class 'lxml.etree.ParserError'>\n",
        "Unexpected error on string ' ' <class 'lxml.etree.ParserError'>\n",
        "Unexpected error on string ' ' <class 'lxml.etree.ParserError'>\n",
        "Unexpected error on string ' ' <class 'lxml.etree.ParserError'>\n",
        "Unexpected error on string ' ' <class 'lxml.etree.ParserError'>\n",
        "Unexpected error on string ' ' <class 'lxml.etree.ParserError'>\n",
        "Unexpected error on string ' ' <class 'lxml.etree.ParserError'>\n",
        "Unexpected error on string ' ' <class 'lxml.etree.ParserError'>\n",
        "Unexpected error on string ' ' <class 'lxml.etree.ParserError'>\n",
        "Unexpected error on string ' ' <class 'lxml.etree.ParserError'>\n",
        "Unexpected error on string ' ' <class 'lxml.etree.ParserError'>\n",
        "Unexpected error on string ' ' <class 'lxml.etree.ParserError'>\n",
        "Unexpected error on string ' ' <class 'lxml.etree.ParserError'>\n",
        "Unexpected error on string ' ' <class 'lxml.etree.ParserError'>\n",
        "Unexpected error on string ' ' <class 'lxml.etree.ParserError'>\n",
        "Unexpected error on string ' ' <class 'lxml.etree.ParserError'>\n",
        "Unexpected error on string ' ' <class 'lxml.etree.ParserError'>\n",
        "Unexpected error on string ' ' <class 'lxml.etree.ParserError'>\n",
        "Unexpected error on string ' ' <class 'lxml.etree.ParserError'>\n",
        "Unexpected error on string ' ' <class 'lxml.etree.ParserError'>\n",
        "Unexpected error on string ' ' <class 'lxml.etree.ParserError'>\n",
        "Unexpected error on string ' ' <class 'lxml.etree.ParserError'>\n",
        "Unexpected error on string ' ' <class 'lxml.etree.ParserError'>\n",
        "Unexpected error on string ' ' <class 'lxml.etree.ParserError'>\n",
        "Unexpected error on string ' ' <class 'lxml.etree.ParserError'>\n",
        "Unexpected error on string ' ' <class 'lxml.etree.ParserError'>\n",
        "Unexpected error on string ' ' <class 'lxml.etree.ParserError'>\n",
        "Unexpected error on string ' ' <class 'lxml.etree.ParserError'>\n",
        "Unexpected error on string ' ' <class 'lxml.etree.ParserError'>\n",
        "Unexpected error on string ' ' <class 'lxml.etree.ParserError'>\n",
        "Unexpected error on string ' ' <class 'lxml.etree.ParserError'>\n",
        "Unexpected error on string ' '"
       ]
      },
      {
       "output_type": "stream",
       "stream": "stdout",
       "text": [
        " <class 'lxml.etree.ParserError'>\n",
        "Unexpected error on string ' ' <class 'lxml.etree.ParserError'>\n",
        "Unexpected error on string ' ' <class 'lxml.etree.ParserError'>\n",
        "Unexpected error on string ' ' <class 'lxml.etree.ParserError'>\n",
        "Unexpected error on string ' ' <class 'lxml.etree.ParserError'>\n",
        "Unexpected error on string ' ' <class 'lxml.etree.ParserError'>\n",
        "Unexpected error on string ' ' <class 'lxml.etree.ParserError'>\n",
        "Unexpected error on string ' ' <class 'lxml.etree.ParserError'>\n",
        "Unexpected error on string ' ' <class 'lxml.etree.ParserError'>\n",
        "Unexpected error on string ' ' <class 'lxml.etree.ParserError'>\n",
        "Unexpected error on string ' ' <class 'lxml.etree.ParserError'>\n",
        "Unexpected error on string ' ' <class 'lxml.etree.ParserError'>\n",
        "Unexpected error on string ' ' <class 'lxml.etree.ParserError'>\n",
        "Unexpected error on string ' ' <class 'lxml.etree.ParserError'>\n",
        "Unexpected error on string ' ' <class 'lxml.etree.ParserError'>\n",
        "Unexpected error on string ' ' <class 'lxml.etree.ParserError'>\n",
        "Unexpected error on string ' ' <class 'lxml.etree.ParserError'>\n",
        "Unexpected error on string ' ' <class 'lxml.etree.ParserError'>\n",
        "Unexpected error on string ' ' <class 'lxml.etree.ParserError'>\n",
        "Unexpected error on string ' ' <class 'lxml.etree.ParserError'>\n",
        "Unexpected error on string ' ' <class 'lxml.etree.ParserError'>\n",
        "Unexpected error on string ' ' <class 'lxml.etree.ParserError'>\n",
        "Unexpected error on string ' ' <class 'lxml.etree.ParserError'>\n",
        "Unexpected error on string ' ' <class 'lxml.etree.ParserError'>\n",
        "Unexpected error on string ' ' <class 'lxml.etree.ParserError'>\n",
        "Unexpected error on string ' ' <class 'lxml.etree.ParserError'>\n",
        "Unexpected error on string ' ' <class 'lxml.etree.ParserError'>\n",
        "Unexpected error on string ' ' <class 'lxml.etree.ParserError'>\n",
        "Unexpected error on string ' ' <class 'lxml.etree.ParserError'>\n",
        "Unexpected error on string ' ' <class 'lxml.etree.ParserError'>\n",
        "Unexpected error on string ' ' <class 'lxml.etree.ParserError'>\n",
        "Unexpected error on string ' ' <class 'lxml.etree.ParserError'>\n",
        "Unexpected error on string ' ' <class 'lxml.etree.ParserError'>\n",
        "Unexpected error on string ' ' <class 'lxml.etree.ParserError'>\n",
        "Unexpected error on string ' ' <class 'lxml.etree.ParserError'>\n",
        "Unexpected error on string ' ' <class 'lxml.etree.ParserError'>\n",
        "Unexpected error on string ' ' <class 'lxml.etree.ParserError'>\n",
        "Unexpected error on string ' ' <class 'lxml.etree.ParserError'>\n",
        "Unexpected error on string ' ' <class 'lxml.etree.ParserError'>\n",
        "Unexpected error on string ' ' <class 'lxml.etree.ParserError'>\n",
        "Unexpected error on string ' ' <class 'lxml.etree.ParserError'>\n",
        "Unexpected error on string ' ' <class 'lxml.etree.ParserError'>\n",
        "Unexpected error on string ' ' <class 'lxml.etree.ParserError'>\n",
        "Unexpected error on string ' ' <class 'lxml.etree.ParserError'>\n",
        "Unexpected error on string ' ' <class 'lxml.etree.ParserError'>\n",
        "Unexpected error on string ' ' <class 'lxml.etree.ParserError'>\n",
        "Unexpected error on string ' ' <class 'lxml.etree.ParserError'>\n",
        "Unexpected error on string ' ' <class 'lxml.etree.ParserError'>\n",
        "Unexpected error on string ' ' <class 'lxml.etree.ParserError'>\n",
        "Unexpected error on string ' ' <class 'lxml.etree.ParserError'>\n",
        "Unexpected error on string ' ' <class 'lxml.etree.ParserError'>\n",
        "Unexpected error on string ' ' <class 'lxml.etree.ParserError'>\n",
        "Unexpected error on string ' ' <class 'lxml.etree.ParserError'>\n",
        "Unexpected error on string ' ' <class 'lxml.etree.ParserError'>\n",
        "Unexpected error on string ' ' <class 'lxml.etree.ParserError'>\n",
        "Unexpected error on string ' ' <class 'lxml.etree.ParserError'>\n",
        "Unexpected error on string ' ' <class 'lxml.etree.ParserError'>\n",
        "Unexpected error on string ' ' <class 'lxml.etree.ParserError'>\n",
        "Unexpected error on string ' ' <class 'lxml.etree.ParserError'>\n",
        "Unexpected error on string ' ' <class 'lxml.etree.ParserError'>\n",
        "Unexpected error on string ' ' <class 'lxml.etree.ParserError'>\n",
        "Unexpected error on string ' ' <class 'lxml.etree.ParserError'>\n",
        "Unexpected error on string ' '"
       ]
      },
      {
       "output_type": "stream",
       "stream": "stdout",
       "text": [
        " <class 'lxml.etree.ParserError'>\n",
        "Unexpected error on string '<' <class 'lxml.etree.ParserError'>\n",
        "Unexpected error on string ' ' <class 'lxml.etree.ParserError'>\n",
        "Unexpected error on string '<' <class 'lxml.etree.ParserError'>\n",
        "Unexpected error on string ' ' <class 'lxml.etree.ParserError'>\n",
        "Unexpected error on string ' ' <class 'lxml.etree.ParserError'>\n",
        "Unexpected error on string ' ' <class 'lxml.etree.ParserError'>\n",
        "Unexpected error on string ' ' <class 'lxml.etree.ParserError'>\n",
        "Unexpected error on string ' ' <class 'lxml.etree.ParserError'>\n",
        "Unexpected error on string ' ' <class 'lxml.etree.ParserError'>\n",
        "Unexpected error on string ' ' <class 'lxml.etree.ParserError'>\n",
        "Unexpected error on string ' ' <class 'lxml.etree.ParserError'>\n",
        "Unexpected error on string ' ' <class 'lxml.etree.ParserError'>\n",
        "Unexpected error on string ' ' <class 'lxml.etree.ParserError'>\n",
        "Unexpected error on string ' ' <class 'lxml.etree.ParserError'>\n",
        "Unexpected error on string ' ' <class 'lxml.etree.ParserError'>\n",
        "Unexpected error on string ' ' <class 'lxml.etree.ParserError'>\n",
        "Unexpected error on string ' ' <class 'lxml.etree.ParserError'>\n",
        "Unexpected error on string ' ' <class 'lxml.etree.ParserError'>\n",
        "Unexpected error on string ' ' <class 'lxml.etree.ParserError'>\n",
        "Unexpected error on string ' ' <class 'lxml.etree.ParserError'>\n",
        "Unexpected error on string ' ' <class 'lxml.etree.ParserError'>\n",
        "Unexpected error on string ' ' <class 'lxml.etree.ParserError'>\n",
        "Unexpected error on string ' ' <class 'lxml.etree.ParserError'>\n",
        "Unexpected error on string ' ' <class 'lxml.etree.ParserError'>\n",
        "Unexpected error on string ' ' <class 'lxml.etree.ParserError'>\n",
        "Unexpected error on string ' ' <class 'lxml.etree.ParserError'>\n",
        "Unexpected error on string ' ' <class 'lxml.etree.ParserError'>\n",
        "Unexpected error on string ' ' <class 'lxml.etree.ParserError'>\n",
        "Unexpected error on string ' ' <class 'lxml.etree.ParserError'>\n",
        "Unexpected error on string ' ' <class 'lxml.etree.ParserError'>\n",
        "Unexpected error on string ' ' <class 'lxml.etree.ParserError'>\n",
        "Unexpected error on string ' ' <class 'lxml.etree.ParserError'>\n",
        "Unexpected error on string ' ' <class 'lxml.etree.ParserError'>\n",
        "Unexpected error on string ' ' <class 'lxml.etree.ParserError'>\n",
        "Unexpected error on string ' ' <class 'lxml.etree.ParserError'>\n",
        "Unexpected error on string ' ' <class 'lxml.etree.ParserError'>\n",
        "Unexpected error on string ' ' <class 'lxml.etree.ParserError'>\n",
        "Unexpected error on string ' ' <class 'lxml.etree.ParserError'>\n",
        "Unexpected error on string ' ' <class 'lxml.etree.ParserError'>\n",
        "Unexpected error on string ' ' <class 'lxml.etree.ParserError'>\n",
        "Unexpected error on string ' ' <class 'lxml.etree.ParserError'>\n",
        "Unexpected error on string ' ' <class 'lxml.etree.ParserError'>\n",
        "Unexpected error on string ' ' <class 'lxml.etree.ParserError'>\n",
        "Unexpected error on string ' ' <class 'lxml.etree.ParserError'>\n",
        "Unexpected error on string ' ' <class 'lxml.etree.ParserError'>\n",
        "Unexpected error on string ' ' <class 'lxml.etree.ParserError'>\n",
        "Unexpected error on string ' ' <class 'lxml.etree.ParserError'>\n",
        "Unexpected error on string ' ' <class 'lxml.etree.ParserError'>\n",
        "Unexpected error on string ' ' <class 'lxml.etree.ParserError'>\n",
        "Unexpected error on string ' ' <class 'lxml.etree.ParserError'>\n",
        "Unexpected error on string ' ' <class 'lxml.etree.ParserError'>\n",
        "Unexpected error on string ' ' <class 'lxml.etree.ParserError'>\n",
        "Unexpected error on string ' ' <class 'lxml.etree.ParserError'>\n",
        "Unexpected error on string ' ' <class 'lxml.etree.ParserError'>\n",
        "Unexpected error on string ' ' <class 'lxml.etree.ParserError'>\n",
        "Unexpected error on string ' ' <class 'lxml.etree.ParserError'>\n",
        "Unexpected error on string ' ' <class 'lxml.etree.ParserError'>\n",
        "Unexpected error on string ' ' <class 'lxml.etree.ParserError'>\n",
        "Unexpected error on string ' ' <class 'lxml.etree.ParserError'>\n",
        "Unexpected error on string ' ' <class 'lxml.etree.ParserError'>\n",
        "Unexpected error on string ' ' <class 'lxml.etree.ParserError'>\n",
        "Unexpected error on string ' ' <class 'lxml.etree.ParserError'>\n",
        "Unexpected error on string ' ' <class 'lxml.etree.ParserError'>\n",
        "Unexpected error on string ' ' <class 'lxml.etree.ParserError'>\n",
        "Unexpected error on string ' ' <class 'lxml.etree.ParserError'>\n",
        "Unexpected error on string ' ' <class 'lxml.etree.ParserError'>\n",
        "Unexpected error on string ' ' <class 'lxml.etree.ParserError'>\n",
        "Unexpected error on string ' ' <class 'lxml.etree.ParserError'>\n",
        "Unexpected error on string ' '"
       ]
      },
      {
       "output_type": "stream",
       "stream": "stdout",
       "text": [
        " <class 'lxml.etree.ParserError'>\n",
        "Unexpected error on string ' ' <class 'lxml.etree.ParserError'>\n",
        "Unexpected error on string ' ' <class 'lxml.etree.ParserError'>\n",
        "Unexpected error on string ' ' <class 'lxml.etree.ParserError'>\n",
        "Unexpected error on string ' ' <class 'lxml.etree.ParserError'>\n",
        "Unexpected error on string ' ' <class 'lxml.etree.ParserError'>\n",
        "Unexpected error on string ' ' <class 'lxml.etree.ParserError'>\n",
        "Unexpected error on string ' ' <class 'lxml.etree.ParserError'>\n",
        "Unexpected error on string ' ' <class 'lxml.etree.ParserError'>\n",
        "Unexpected error on string ' ' <class 'lxml.etree.ParserError'>\n",
        "Unexpected error on string ' ' <class 'lxml.etree.ParserError'>\n",
        "Unexpected error on string ' ' <class 'lxml.etree.ParserError'>\n",
        "Unexpected error on string ' ' <class 'lxml.etree.ParserError'>\n",
        "Unexpected error on string ' ' <class 'lxml.etree.ParserError'>\n",
        "Unexpected error on string ' ' <class 'lxml.etree.ParserError'>\n",
        "Unexpected error on string '<' <class 'lxml.etree.ParserError'>\n",
        "Unexpected error on string ' ' <class 'lxml.etree.ParserError'>\n",
        "Unexpected error on string '<' <class 'lxml.etree.ParserError'>\n",
        "Unexpected error on string ' ' <class 'lxml.etree.ParserError'>\n",
        "Unexpected error on string ' ' <class 'lxml.etree.ParserError'>\n",
        "Unexpected error on string ' ' <class 'lxml.etree.ParserError'>\n",
        "Unexpected error on string ' ' <class 'lxml.etree.ParserError'>\n",
        "Unexpected error on string ' ' <class 'lxml.etree.ParserError'>\n",
        "Unexpected error on string ' ' <class 'lxml.etree.ParserError'>\n",
        "Unexpected error on string ' ' <class 'lxml.etree.ParserError'>\n",
        "Unexpected error on string ' ' <class 'lxml.etree.ParserError'>\n",
        "Unexpected error on string ' ' <class 'lxml.etree.ParserError'>\n",
        "Unexpected error on string ' ' <class 'lxml.etree.ParserError'>\n",
        "Unexpected error on string ' ' <class 'lxml.etree.ParserError'>\n",
        "Unexpected error on string ' ' <class 'lxml.etree.ParserError'>\n",
        "Unexpected error on string ' ' <class 'lxml.etree.ParserError'>\n",
        "Unexpected error on string ' ' <class 'lxml.etree.ParserError'>\n",
        "Unexpected error on string ' ' <class 'lxml.etree.ParserError'>\n",
        "Unexpected error on string ' ' <class 'lxml.etree.ParserError'>\n",
        "Unexpected error on string ' ' <class 'lxml.etree.ParserError'>\n",
        "Unexpected error on string ' ' <class 'lxml.etree.ParserError'>\n",
        "Unexpected error on string ' ' <class 'lxml.etree.ParserError'>\n",
        "Unexpected error on string ' ' <class 'lxml.etree.ParserError'>\n",
        "Unexpected error on string ' ' <class 'lxml.etree.ParserError'>\n",
        "Unexpected error on string ' ' <class 'lxml.etree.ParserError'>\n",
        "Unexpected error on string ' ' <class 'lxml.etree.ParserError'>\n",
        "Unexpected error on string ' ' <class 'lxml.etree.ParserError'>\n",
        "Unexpected error on string ' ' <class 'lxml.etree.ParserError'>\n",
        "Unexpected error on string ' ' <class 'lxml.etree.ParserError'>\n",
        "Unexpected error on string ' ' <class 'lxml.etree.ParserError'>\n",
        "Unexpected error on string ' ' <class 'lxml.etree.ParserError'>\n",
        "Unexpected error on string ' ' <class 'lxml.etree.ParserError'>\n",
        "Unexpected error on string ' ' <class 'lxml.etree.ParserError'>\n",
        "Unexpected error on string ' ' <class 'lxml.etree.ParserError'>\n",
        "Unexpected error on string ' ' <class 'lxml.etree.ParserError'>\n",
        "Unexpected error on string ' ' <class 'lxml.etree.ParserError'>\n",
        "Unexpected error on string ' ' <class 'lxml.etree.ParserError'>\n",
        "Unexpected error on string ' ' <class 'lxml.etree.ParserError'>\n",
        "Unexpected error on string ' ' <class 'lxml.etree.ParserError'>\n",
        "Unexpected error on string ' ' <class 'lxml.etree.ParserError'>\n",
        "Unexpected error on string ' ' <class 'lxml.etree.ParserError'>\n",
        "Unexpected error on string ' ' <class 'lxml.etree.ParserError'>\n",
        "Unexpected error on string ' ' <class 'lxml.etree.ParserError'>\n",
        "Unexpected error on string ' ' <class 'lxml.etree.ParserError'>\n",
        "Unexpected error on string ' ' <class 'lxml.etree.ParserError'>\n",
        "Unexpected error on string ' ' <class 'lxml.etree.ParserError'>\n",
        "Unexpected error on string ' ' <class 'lxml.etree.ParserError'>\n",
        "Unexpected error on string ' ' <class 'lxml.etree.ParserError'>\n",
        "Unexpected error on string ' ' <class 'lxml.etree.ParserError'>\n",
        "Unexpected error on string ' ' <class 'lxml.etree.ParserError'>\n",
        "Unexpected error on string ' ' <class 'lxml.etree.ParserError'>\n",
        "Unexpected error on string ' ' <class 'lxml.etree.ParserError'>\n",
        "Unexpected error on string ' ' <class 'lxml.etree.ParserError'>\n",
        "Unexpected error on string ' ' <class 'lxml.etree.ParserError'>\n",
        "Unexpected error on string ' ' <class 'lxml.etree.ParserError'>\n",
        "Unexpected error on string ' ' <class 'lxml.etree.ParserError'>\n",
        "Unexpected error on string ' '"
       ]
      },
      {
       "output_type": "stream",
       "stream": "stdout",
       "text": [
        " <class 'lxml.etree.ParserError'>\n",
        "Unexpected error on string ' ' <class 'lxml.etree.ParserError'>\n",
        "Unexpected error on string '<' <class 'lxml.etree.ParserError'>\n",
        "Unexpected error on string ' ' <class 'lxml.etree.ParserError'>\n",
        "Unexpected error on string '<' <class 'lxml.etree.ParserError'>\n",
        "Unexpected error on string ' ' <class 'lxml.etree.ParserError'>\n",
        "Unexpected error on string ' ' <class 'lxml.etree.ParserError'>\n",
        "Unexpected error on string ' ' <class 'lxml.etree.ParserError'>\n",
        "Unexpected error on string '<' <class 'lxml.etree.ParserError'>\n",
        "Unexpected error on string ' ' <class 'lxml.etree.ParserError'>\n",
        "Unexpected error on string '<' <class 'lxml.etree.ParserError'>\n",
        "Unexpected error on string ' ' <class 'lxml.etree.ParserError'>\n",
        "Unexpected error on string ' ' <class 'lxml.etree.ParserError'>\n",
        "Unexpected error on string ' ' <class 'lxml.etree.ParserError'>\n",
        "Unexpected error on string ' ' <class 'lxml.etree.ParserError'>\n",
        "Unexpected error on string ' ' <class 'lxml.etree.ParserError'>\n",
        "Unexpected error on string ' ' <class 'lxml.etree.ParserError'>\n",
        "Unexpected error on string ' ' <class 'lxml.etree.ParserError'>\n",
        "Unexpected error on string ' ' <class 'lxml.etree.ParserError'>\n",
        "Unexpected error on string ' ' <class 'lxml.etree.ParserError'>\n",
        "Unexpected error on string ' ' <class 'lxml.etree.ParserError'>\n",
        "Unexpected error on string ' ' <class 'lxml.etree.ParserError'>\n",
        "Unexpected error on string ' ' <class 'lxml.etree.ParserError'>\n",
        "Unexpected error on string ' ' <class 'lxml.etree.ParserError'>\n",
        "Unexpected error on string ' ' <class 'lxml.etree.ParserError'>\n",
        "Unexpected error on string ' ' <class 'lxml.etree.ParserError'>\n",
        "Unexpected error on string ' ' <class 'lxml.etree.ParserError'>\n",
        "Unexpected error on string ' ' <class 'lxml.etree.ParserError'>\n",
        "Unexpected error on string ' ' <class 'lxml.etree.ParserError'>\n",
        "Unexpected error on string ' ' <class 'lxml.etree.ParserError'>\n",
        "Unexpected error on string ' ' <class 'lxml.etree.ParserError'>\n",
        "Unexpected error on string ' ' <class 'lxml.etree.ParserError'>\n",
        "Unexpected error on string ' ' <class 'lxml.etree.ParserError'>\n",
        "Unexpected error on string ' ' <class 'lxml.etree.ParserError'>\n",
        "Unexpected error on string ' ' <class 'lxml.etree.ParserError'>\n",
        "Unexpected error on string ' ' <class 'lxml.etree.ParserError'>\n",
        "Unexpected error on string ' ' <class 'lxml.etree.ParserError'>\n",
        "Unexpected error on string ' ' <class 'lxml.etree.ParserError'>\n",
        "Unexpected error on string ' ' <class 'lxml.etree.ParserError'>\n",
        "Unexpected error on string ' ' <class 'lxml.etree.ParserError'>\n",
        "Unexpected error on string ' ' <class 'lxml.etree.ParserError'>\n",
        "Unexpected error on string ' ' <class 'lxml.etree.ParserError'>\n",
        "Unexpected error on string ' ' <class 'lxml.etree.ParserError'>\n",
        "Unexpected error on string ' ' <class 'lxml.etree.ParserError'>\n",
        "Unexpected error on string ' ' <class 'lxml.etree.ParserError'>\n",
        "Unexpected error on string ' ' <class 'lxml.etree.ParserError'>\n",
        "Unexpected error on string ' ' <class 'lxml.etree.ParserError'>\n",
        "Unexpected error on string ' ' <class 'lxml.etree.ParserError'>\n",
        "Unexpected error on string ' ' <class 'lxml.etree.ParserError'>\n",
        "Unexpected error on string ' ' <class 'lxml.etree.ParserError'>\n",
        "Unexpected error on string ' ' <class 'lxml.etree.ParserError'>\n",
        "Unexpected error on string ' ' <class 'lxml.etree.ParserError'>\n",
        "Unexpected error on string ' ' <class 'lxml.etree.ParserError'>\n",
        "Unexpected error on string ' ' <class 'lxml.etree.ParserError'>\n",
        "Unexpected error on string ' ' <class 'lxml.etree.ParserError'>\n",
        "Unexpected error on string ' ' <class 'lxml.etree.ParserError'>\n",
        "Unexpected error on string ' ' <class 'lxml.etree.ParserError'>\n",
        "Unexpected error on string ' ' <class 'lxml.etree.ParserError'>\n",
        "Unexpected error on string ' ' <class 'lxml.etree.ParserError'>\n",
        "Unexpected error on string ' ' <class 'lxml.etree.ParserError'>\n",
        "Unexpected error on string ' ' <class 'lxml.etree.ParserError'>\n",
        "Unexpected error on string ' ' <class 'lxml.etree.ParserError'>\n",
        "Unexpected error on string ' ' <class 'lxml.etree.ParserError'>\n",
        "Unexpected error on string ' ' <class 'lxml.etree.ParserError'>\n",
        "Unexpected error on string ' ' <class 'lxml.etree.ParserError'>\n",
        "Unexpected error on string ' ' <class 'lxml.etree.ParserError'>\n",
        "Unexpected error on string ' ' <class 'lxml.etree.ParserError'>\n",
        "Unexpected error on string ' ' <class 'lxml.etree.ParserError'>\n",
        "Unexpected error on string ' ' <class 'lxml.etree.ParserError'>\n",
        "Unexpected error on string ' ' <class 'lxml.etree.ParserError'>\n",
        "Unexpected error on string ' ' <class 'lxml.etree.ParserError'>\n",
        "Unexpected error on string ' ' <class 'lxml.etree.ParserError'>\n",
        "Unexpected error on string ' '"
       ]
      },
      {
       "output_type": "stream",
       "stream": "stdout",
       "text": [
        " <class 'lxml.etree.ParserError'>\n",
        "Unexpected error on string ' ' <class 'lxml.etree.ParserError'>\n",
        "Unexpected error on string ' ' <class 'lxml.etree.ParserError'>\n",
        "Unexpected error on string ' ' <class 'lxml.etree.ParserError'>\n",
        "Unexpected error on string ' ' <class 'lxml.etree.ParserError'>\n",
        "Unexpected error on string ' ' <class 'lxml.etree.ParserError'>\n",
        "Unexpected error on string ' ' <class 'lxml.etree.ParserError'>\n",
        "Unexpected error on string ' ' <class 'lxml.etree.ParserError'>\n",
        "Unexpected error on string ' ' <class 'lxml.etree.ParserError'>\n",
        "Unexpected error on string ' ' <class 'lxml.etree.ParserError'>\n",
        "Unexpected error on string ' ' <class 'lxml.etree.ParserError'>\n",
        "Unexpected error on string ' ' <class 'lxml.etree.ParserError'>\n",
        "Unexpected error on string ' ' <class 'lxml.etree.ParserError'>\n",
        "Unexpected error on string ' ' <class 'lxml.etree.ParserError'>\n",
        "Unexpected error on string ' ' <class 'lxml.etree.ParserError'>\n",
        "Unexpected error on string ' ' <class 'lxml.etree.ParserError'>\n",
        "Unexpected error on string ' ' <class 'lxml.etree.ParserError'>\n",
        "Unexpected error on string ' ' <class 'lxml.etree.ParserError'>\n",
        "Unexpected error on string ' ' <class 'lxml.etree.ParserError'>\n",
        "Unexpected error on string ' ' <class 'lxml.etree.ParserError'>\n",
        "Unexpected error on string ' ' <class 'lxml.etree.ParserError'>\n",
        "Unexpected error on string ' ' <class 'lxml.etree.ParserError'>\n",
        "Unexpected error on string ' ' <class 'lxml.etree.ParserError'>\n",
        "Unexpected error on string ' ' <class 'lxml.etree.ParserError'>\n",
        "Unexpected error on string ' ' <class 'lxml.etree.ParserError'>\n",
        "Unexpected error on string ' ' <class 'lxml.etree.ParserError'>\n",
        "Unexpected error on string ' ' <class 'lxml.etree.ParserError'>\n",
        "Unexpected error on string ' ' <class 'lxml.etree.ParserError'>\n",
        "Unexpected error on string ' ' <class 'lxml.etree.ParserError'>\n",
        "Unexpected error on string ' ' <class 'lxml.etree.ParserError'>\n",
        "Unexpected error on string ' ' <class 'lxml.etree.ParserError'>\n",
        "Unexpected error on string ' ' <class 'lxml.etree.ParserError'>\n",
        "Unexpected error on string ' ' <class 'lxml.etree.ParserError'>\n",
        "Unexpected error on string ' ' <class 'lxml.etree.ParserError'>\n",
        "Unexpected error on string '<' <class 'lxml.etree.ParserError'>\n",
        "Unexpected error on string ' ' <class 'lxml.etree.ParserError'>\n",
        "Unexpected error on string '<' <class 'lxml.etree.ParserError'>\n",
        "Unexpected error on string ' ' <class 'lxml.etree.ParserError'>\n",
        "Unexpected error on string '<' <class 'lxml.etree.ParserError'>\n",
        "Unexpected error on string ' ' <class 'lxml.etree.ParserError'>\n",
        "Unexpected error on string '<' <class 'lxml.etree.ParserError'>\n",
        "Unexpected error on string ' ' <class 'lxml.etree.ParserError'>\n",
        "Unexpected error on string ' ' <class 'lxml.etree.ParserError'>\n",
        "Unexpected error on string '<' <class 'lxml.etree.ParserError'>\n",
        "Unexpected error on string ' ' <class 'lxml.etree.ParserError'>\n",
        "Unexpected error on string ' ' <class 'lxml.etree.ParserError'>\n",
        "Unexpected error on string ' ' <class 'lxml.etree.ParserError'>\n",
        "Unexpected error on string ' ' <class 'lxml.etree.ParserError'>\n",
        "Unexpected error on string ' ' <class 'lxml.etree.ParserError'>\n",
        "Unexpected error on string ' ' <class 'lxml.etree.ParserError'>\n",
        "Unexpected error on string ' ' <class 'lxml.etree.ParserError'>\n",
        "Unexpected error on string ' ' <class 'lxml.etree.ParserError'>\n",
        "Unexpected error on string ' ' <class 'lxml.etree.ParserError'>\n",
        "Unexpected error on string ' ' <class 'lxml.etree.ParserError'>\n",
        "Unexpected error on string ' ' <class 'lxml.etree.ParserError'>\n",
        "Unexpected error on string ' ' <class 'lxml.etree.ParserError'>\n",
        "Unexpected error on string ' ' <class 'lxml.etree.ParserError'>\n",
        "Unexpected error on string ' ' <class 'lxml.etree.ParserError'>\n",
        "Unexpected error on string ' ' <class 'lxml.etree.ParserError'>\n",
        "Unexpected error on string ' ' <class 'lxml.etree.ParserError'>\n",
        "Unexpected error on string ' ' <class 'lxml.etree.ParserError'>\n",
        "Unexpected error on string ' ' <class 'lxml.etree.ParserError'>\n",
        "Unexpected error on string ' ' <class 'lxml.etree.ParserError'>\n",
        "Unexpected error on string ' ' <class 'lxml.etree.ParserError'>\n",
        "Unexpected error on string ' ' <class 'lxml.etree.ParserError'>\n",
        "Unexpected error on string ' ' <class 'lxml.etree.ParserError'>\n",
        "Unexpected error on string ' ' <class 'lxml.etree.ParserError'>\n",
        "Unexpected error on string ' ' <class 'lxml.etree.ParserError'>\n",
        "Unexpected error on string ' ' <class 'lxml.etree.ParserError'>\n",
        "Unexpected error on string ' ' <class 'lxml.etree.ParserError'>\n",
        "Unexpected error on string ' ' <class 'lxml.etree.ParserError'>\n",
        "Unexpected error on string ' ' <class 'lxml.etree.ParserError'>\n",
        "Unexpected error on string ' ' <class 'lxml.etree.ParserError'>\n",
        "Unexpected error on string ' '"
       ]
      },
      {
       "output_type": "stream",
       "stream": "stdout",
       "text": [
        " <class 'lxml.etree.ParserError'>\n",
        "Unexpected error on string ' ' <class 'lxml.etree.ParserError'>\n",
        "Unexpected error on string ' ' <class 'lxml.etree.ParserError'>\n",
        "Unexpected error on string ' ' <class 'lxml.etree.ParserError'>\n",
        "Unexpected error on string ' ' <class 'lxml.etree.ParserError'>\n",
        "Unexpected error on string ' ' <class 'lxml.etree.ParserError'>\n",
        "Unexpected error on string ' ' <class 'lxml.etree.ParserError'>\n",
        "Unexpected error on string ' ' <class 'lxml.etree.ParserError'>\n",
        "Unexpected error on string ' ' <class 'lxml.etree.ParserError'>\n",
        "Unexpected error on string ' ' <class 'lxml.etree.ParserError'>\n",
        "Unexpected error on string ' ' <class 'lxml.etree.ParserError'>\n",
        "Unexpected error on string ' ' <class 'lxml.etree.ParserError'>\n",
        "Unexpected error on string ' ' <class 'lxml.etree.ParserError'>\n",
        "Unexpected error on string ' ' <class 'lxml.etree.ParserError'>\n",
        "Unexpected error on string ' ' <class 'lxml.etree.ParserError'>\n",
        "Unexpected error on string ' ' <class 'lxml.etree.ParserError'>\n",
        "Unexpected error on string ' ' <class 'lxml.etree.ParserError'>\n",
        "Unexpected error on string ' ' <class 'lxml.etree.ParserError'>\n",
        "Unexpected error on string ' ' <class 'lxml.etree.ParserError'>\n",
        "Unexpected error on string ' ' <class 'lxml.etree.ParserError'>\n",
        "Unexpected error on string ' ' <class 'lxml.etree.ParserError'>\n",
        "Unexpected error on string ' ' <class 'lxml.etree.ParserError'>\n",
        "Unexpected error on string ' ' <class 'lxml.etree.ParserError'>\n",
        "Unexpected error on string ' ' <class 'lxml.etree.ParserError'>\n",
        "Unexpected error on string ' ' <class 'lxml.etree.ParserError'>\n",
        "Unexpected error on string ' ' <class 'lxml.etree.ParserError'>\n",
        "Unexpected error on string ' ' <class 'lxml.etree.ParserError'>\n",
        "Unexpected error on string ' ' <class 'lxml.etree.ParserError'>\n",
        "Unexpected error on string ' ' <class 'lxml.etree.ParserError'>\n",
        "Unexpected error on string ' ' <class 'lxml.etree.ParserError'>\n",
        "Unexpected error on string ' ' <class 'lxml.etree.ParserError'>\n",
        "Unexpected error on string ' ' <class 'lxml.etree.ParserError'>\n",
        "Unexpected error on string ' ' <class 'lxml.etree.ParserError'>\n",
        "Unexpected error on string ' ' <class 'lxml.etree.ParserError'>\n",
        "Unexpected error on string ' ' <class 'lxml.etree.ParserError'>\n",
        "Unexpected error on string ' ' <class 'lxml.etree.ParserError'>\n",
        "Unexpected error on string ' ' <class 'lxml.etree.ParserError'>\n",
        "Unexpected error on string ' ' <class 'lxml.etree.ParserError'>\n",
        "Unexpected error on string ' ' <class 'lxml.etree.ParserError'>\n",
        "Unexpected error on string ' ' <class 'lxml.etree.ParserError'>\n",
        "Unexpected error on string ' ' <class 'lxml.etree.ParserError'>\n",
        "Unexpected error on string ' ' <class 'lxml.etree.ParserError'>\n",
        "Unexpected error on string ' ' <class 'lxml.etree.ParserError'>\n",
        "Unexpected error on string ' ' <class 'lxml.etree.ParserError'>\n",
        "Unexpected error on string ' ' <class 'lxml.etree.ParserError'>\n",
        "Unexpected error on string ' ' <class 'lxml.etree.ParserError'>\n",
        "Unexpected error on string ' ' <class 'lxml.etree.ParserError'>\n",
        "Unexpected error on string ' ' <class 'lxml.etree.ParserError'>\n",
        "Unexpected error on string ' ' <class 'lxml.etree.ParserError'>\n",
        "Unexpected error on string ' ' <class 'lxml.etree.ParserError'>\n",
        "Unexpected error on string ' ' <class 'lxml.etree.ParserError'>\n",
        "Unexpected error on string ' ' <class 'lxml.etree.ParserError'>\n",
        "Unexpected error on string ' ' <class 'lxml.etree.ParserError'>\n",
        "Unexpected error on string ' ' <class 'lxml.etree.ParserError'>\n",
        "Unexpected error on string ' ' <class 'lxml.etree.ParserError'>\n",
        "Unexpected error on string ' ' <class 'lxml.etree.ParserError'>\n",
        "Unexpected error on string ' ' <class 'lxml.etree.ParserError'>\n",
        "Unexpected error on string ' ' <class 'lxml.etree.ParserError'>\n",
        "Unexpected error on string ' ' <class 'lxml.etree.ParserError'>\n",
        "Unexpected error on string ' ' <class 'lxml.etree.ParserError'>\n",
        "Unexpected error on string ' '"
       ]
      },
      {
       "output_type": "stream",
       "stream": "stdout",
       "text": [
        " <class 'lxml.etree.ParserError'>\n",
        "Unexpected error on string ' ' <class 'lxml.etree.ParserError'>\n",
        "Unexpected error on string ' ' <class 'lxml.etree.ParserError'>\n",
        "Unexpected error on string ' ' <class 'lxml.etree.ParserError'>\n",
        "Unexpected error on string ' ' <class 'lxml.etree.ParserError'>\n",
        "Unexpected error on string ' ' <class 'lxml.etree.ParserError'>\n",
        "Unexpected error on string ' ' <class 'lxml.etree.ParserError'>\n",
        "Unexpected error on string ' ' <class 'lxml.etree.ParserError'>\n",
        "Unexpected error on string ' ' <class 'lxml.etree.ParserError'>\n",
        "Unexpected error on string ' ' <class 'lxml.etree.ParserError'>\n",
        "Unexpected error on string ' ' <class 'lxml.etree.ParserError'>\n",
        "Unexpected error on string ' ' <class 'lxml.etree.ParserError'>\n",
        "Unexpected error on string ' ' <class 'lxml.etree.ParserError'>\n",
        "Unexpected error on string ' ' <class 'lxml.etree.ParserError'>\n",
        "Unexpected error on string ' ' <class 'lxml.etree.ParserError'>\n",
        "Unexpected error on string ' ' <class 'lxml.etree.ParserError'>\n",
        "Unexpected error on string ' ' <class 'lxml.etree.ParserError'>\n",
        "Unexpected error on string ' ' <class 'lxml.etree.ParserError'>\n",
        "Unexpected error on string ' ' <class 'lxml.etree.ParserError'>\n",
        "Unexpected error on string ' ' <class 'lxml.etree.ParserError'>\n",
        "Unexpected error on string ' ' <class 'lxml.etree.ParserError'>\n",
        "Unexpected error on string ' ' <class 'lxml.etree.ParserError'>\n",
        "Unexpected error on string ' ' <class 'lxml.etree.ParserError'>\n",
        "Unexpected error on string ' ' <class 'lxml.etree.ParserError'>\n",
        "Unexpected error on string ' ' <class 'lxml.etree.ParserError'>\n",
        "Unexpected error on string ' ' <class 'lxml.etree.ParserError'>\n",
        "Unexpected error on string ' ' <class 'lxml.etree.ParserError'>\n",
        "Unexpected error on string ' ' <class 'lxml.etree.ParserError'>\n",
        "Unexpected error on string ' ' <class 'lxml.etree.ParserError'>\n",
        "Unexpected error on string ' ' <class 'lxml.etree.ParserError'>\n",
        "Unexpected error on string ' ' <class 'lxml.etree.ParserError'>\n",
        "Unexpected error on string ' ' <class 'lxml.etree.ParserError'>\n",
        "Unexpected error on string ' ' <class 'lxml.etree.ParserError'>\n",
        "Unexpected error on string ' ' <class 'lxml.etree.ParserError'>\n",
        "Unexpected error on string ' ' <class 'lxml.etree.ParserError'>\n",
        "Unexpected error on string ' ' <class 'lxml.etree.ParserError'>\n",
        "Unexpected error on string ' ' <class 'lxml.etree.ParserError'>\n",
        "Unexpected error on string ' ' <class 'lxml.etree.ParserError'>\n",
        "Unexpected error on string ' ' <class 'lxml.etree.ParserError'>\n",
        "Unexpected error on string ' ' <class 'lxml.etree.ParserError'>\n",
        "Unexpected error on string ' ' <class 'lxml.etree.ParserError'>\n",
        "Unexpected error on string ' ' <class 'lxml.etree.ParserError'>\n",
        "Unexpected error on string ' ' <class 'lxml.etree.ParserError'>\n",
        "Unexpected error on string ' ' <class 'lxml.etree.ParserError'>\n",
        "Unexpected error on string ' ' <class 'lxml.etree.ParserError'>\n",
        "Unexpected error on string ' ' <class 'lxml.etree.ParserError'>\n",
        "Unexpected error on string ' ' <class 'lxml.etree.ParserError'>\n",
        "Unexpected error on string ' ' <class 'lxml.etree.ParserError'>\n",
        "Unexpected error on string ' ' <class 'lxml.etree.ParserError'>\n",
        "Unexpected error on string ' ' <class 'lxml.etree.ParserError'>\n",
        "Unexpected error on string ' ' <class 'lxml.etree.ParserError'>\n",
        "Unexpected error on string ' ' <class 'lxml.etree.ParserError'>\n",
        "Unexpected error on string ' ' <class 'lxml.etree.ParserError'>\n",
        "Unexpected error on string ' ' <class 'lxml.etree.ParserError'>\n",
        "Unexpected error on string ' ' <class 'lxml.etree.ParserError'>\n",
        "Unexpected error on string ' ' <class 'lxml.etree.ParserError'>\n",
        "Unexpected error on string ' ' <class 'lxml.etree.ParserError'>\n",
        "Unexpected error on string ' ' <class 'lxml.etree.ParserError'>\n",
        "Unexpected error on string ' ' <class 'lxml.etree.ParserError'>\n",
        "Unexpected error on string ' ' <class 'lxml.etree.ParserError'>\n",
        "Unexpected error on string ' ' <class 'lxml.etree.ParserError'>\n",
        "Unexpected error on string ' ' <class 'lxml.etree.ParserError'>\n",
        "Unexpected error on string ' ' <class 'lxml.etree.ParserError'>\n",
        "Unexpected error on string ' ' <class 'lxml.etree.ParserError'>\n",
        "Unexpected error on string ' ' <class 'lxml.etree.ParserError'>"
       ]
      },
      {
       "output_type": "stream",
       "stream": "stdout",
       "text": [
        "\n",
        "Unexpected error on string ' ' <class 'lxml.etree.ParserError'>\n",
        "Unexpected error on string ' ' <class 'lxml.etree.ParserError'>\n",
        "Unexpected error on string ' ' <class 'lxml.etree.ParserError'>\n",
        "Unexpected error on string ' ' <class 'lxml.etree.ParserError'>\n",
        "Unexpected error on string ' ' <class 'lxml.etree.ParserError'>\n",
        "Unexpected error on string ' ' <class 'lxml.etree.ParserError'>\n",
        "Unexpected error on string ' ' <class 'lxml.etree.ParserError'>\n",
        "Unexpected error on string ' ' <class 'lxml.etree.ParserError'>\n",
        "Unexpected error on string '<' <class 'lxml.etree.ParserError'>\n",
        "Unexpected error on string ' ' <class 'lxml.etree.ParserError'>\n",
        "Unexpected error on string '<' <class 'lxml.etree.ParserError'>\n",
        "Unexpected error on string ' ' <class 'lxml.etree.ParserError'>\n",
        "Unexpected error on string '<' <class 'lxml.etree.ParserError'>\n",
        "Unexpected error on string ' ' <class 'lxml.etree.ParserError'>\n",
        "Unexpected error on string '<' <class 'lxml.etree.ParserError'>\n",
        "Unexpected error on string ' ' <class 'lxml.etree.ParserError'>\n",
        "Unexpected error on string '<' <class 'lxml.etree.ParserError'>\n",
        "Unexpected error on string ' ' <class 'lxml.etree.ParserError'>\n",
        "Unexpected error on string ' ' <class 'lxml.etree.ParserError'>\n",
        "Unexpected error on string '<' <class 'lxml.etree.ParserError'>\n",
        "Unexpected error on string ' ' <class 'lxml.etree.ParserError'>\n",
        "Unexpected error on string ' ' <class 'lxml.etree.ParserError'>\n",
        "Unexpected error on string '<' <class 'lxml.etree.ParserError'>\n",
        "Unexpected error on string ' ' <class 'lxml.etree.ParserError'>\n",
        "Unexpected error on string ' ' <class 'lxml.etree.ParserError'>\n",
        "Unexpected error on string ' ' <class 'lxml.etree.ParserError'>\n",
        "Unexpected error on string '<' <class 'lxml.etree.ParserError'>\n",
        "Unexpected error on string '<' <class 'lxml.etree.ParserError'>\n",
        "Unexpected error on string '<' <class 'lxml.etree.ParserError'>\n",
        "Unexpected error on string ' ' <class 'lxml.etree.ParserError'>\n",
        "Unexpected error on string ' ' <class 'lxml.etree.ParserError'>\n",
        "Unexpected error on string ' ' <class 'lxml.etree.ParserError'>\n",
        "Unexpected error on string ' ' <class 'lxml.etree.ParserError'>\n",
        "Unexpected error on string ' ' <class 'lxml.etree.ParserError'>\n",
        "Unexpected error on string ' ' <class 'lxml.etree.ParserError'>\n",
        "Unexpected error on string ' ' <class 'lxml.etree.ParserError'>\n",
        "Unexpected error on string ' ' <class 'lxml.etree.ParserError'>\n",
        "Unexpected error on string '<' <class 'lxml.etree.ParserError'>\n",
        "Unexpected error on string ' ' <class 'lxml.etree.ParserError'>\n",
        "Unexpected error on string '<' <class 'lxml.etree.ParserError'>\n",
        "Unexpected error on string ' ' <class 'lxml.etree.ParserError'>\n",
        "Unexpected error on string '<' <class 'lxml.etree.ParserError'>\n",
        "Unexpected error on string ' ' <class 'lxml.etree.ParserError'>\n",
        "Unexpected error on string ' '"
       ]
      },
      {
       "output_type": "stream",
       "stream": "stdout",
       "text": [
        " <class 'lxml.etree.ParserError'>\n",
        "Unexpected error on string '<' <class 'lxml.etree.ParserError'>\n",
        "Unexpected error on string ' ' <class 'lxml.etree.ParserError'>\n",
        "Unexpected error on string ' ' <class 'lxml.etree.ParserError'>\n",
        "Unexpected error on string '<' <class 'lxml.etree.ParserError'>\n",
        "Unexpected error on string ' ' <class 'lxml.etree.ParserError'>\n",
        "Unexpected error on string '<' <class 'lxml.etree.ParserError'>\n",
        "Unexpected error on string '<' <class 'lxml.etree.ParserError'>\n",
        "Unexpected error on string '<' <class 'lxml.etree.ParserError'>\n",
        "Unexpected error on string ' ' <class 'lxml.etree.ParserError'>\n",
        "Unexpected error on string ' ' <class 'lxml.etree.ParserError'>\n",
        "Unexpected error on string ' ' <class 'lxml.etree.ParserError'>\n",
        "Unexpected error on string ' ' <class 'lxml.etree.ParserError'>\n",
        "Unexpected error on string ' ' <class 'lxml.etree.ParserError'>\n",
        "Unexpected error on string ' ' <class 'lxml.etree.ParserError'>\n",
        "Unexpected error on string ' ' <class 'lxml.etree.ParserError'>\n",
        "Unexpected error on string ' ' <class 'lxml.etree.ParserError'>\n",
        "Unexpected error on string ' ' <class 'lxml.etree.ParserError'>\n",
        "Unexpected error on string '<' <class 'lxml.etree.ParserError'>\n",
        "Unexpected error on string ' ' <class 'lxml.etree.ParserError'>\n",
        "Unexpected error on string '<' <class 'lxml.etree.ParserError'>\n",
        "Unexpected error on string ' ' <class 'lxml.etree.ParserError'>\n",
        "Unexpected error on string '<' <class 'lxml.etree.ParserError'>\n",
        "Unexpected error on string ' ' <class 'lxml.etree.ParserError'>\n",
        "Unexpected error on string ' ' <class 'lxml.etree.ParserError'>\n",
        "Unexpected error on string '<' <class 'lxml.etree.ParserError'>\n",
        "Unexpected error on string ' ' <class 'lxml.etree.ParserError'>\n",
        "Unexpected error on string ' ' <class 'lxml.etree.ParserError'>\n",
        "Unexpected error on string '<' <class 'lxml.etree.ParserError'>\n",
        "Unexpected error on string ' ' <class 'lxml.etree.ParserError'>\n",
        "Unexpected error on string ' ' <class 'lxml.etree.ParserError'>\n",
        "Unexpected error on string '<' <class 'lxml.etree.ParserError'>\n",
        "Unexpected error on string '<' <class 'lxml.etree.ParserError'>\n",
        "Unexpected error on string '<' <class 'lxml.etree.ParserError'>\n",
        "Unexpected error on string ' ' <class 'lxml.etree.ParserError'>\n",
        "Unexpected error on string ' ' <class 'lxml.etree.ParserError'>\n",
        "Unexpected error on string ' ' <class 'lxml.etree.ParserError'>\n",
        "Unexpected error on string ' ' <class 'lxml.etree.ParserError'>\n",
        "Unexpected error on string ' '"
       ]
      },
      {
       "output_type": "stream",
       "stream": "stdout",
       "text": [
        " <class 'lxml.etree.ParserError'>\n",
        "Unexpected error on string ' ' <class 'lxml.etree.ParserError'>\n",
        "Unexpected error on string ' ' <class 'lxml.etree.ParserError'>\n",
        "Unexpected error on string ' ' <class 'lxml.etree.ParserError'>\n",
        "Unexpected error on string '<' <class 'lxml.etree.ParserError'>\n",
        "{'heur': {'recall': 0.9615894039735099, 'precision': 0.9918032786885246, 'f1': 0.976462676529926}, 'boiler_pipe': {'recall': 0.8807947019867549, 'precision': 0.9609826589595376, 'f1': 0.9191430545957153}, 'downloads_id': 421834553, 'crf': {'recall': 0.046357615894039736, 'precision': 0.007904245709123759, 'f1': 0.013505691684352693}, 'python_readibilty': {'recall': 0.9894039735099338, 'precision': 1.0, 'f1': 0.9946737683089214}}"
       ]
      },
      {
       "output_type": "stream",
       "stream": "stdout",
       "text": [
        "\n",
        "downloads_id: 422181106\n",
        "[516, 523, 544, 1003, 1020, 1037, 1054, 1071, 1109, 1128, 1147, 1166, 1185, 1204, 1223, 1242, 1261, 1280, 1532, 1551, 1570, 1589, 1608, 1639, 1658, 1677, 1696, 1715, 1746, 1765, 1784, 1803, 1822, 2003, 2004, 2009]"
       ]
      },
      {
       "output_type": "stream",
       "stream": "stdout",
       "text": [
        "\n",
        "[544, 1109]\n",
        "[467, 516, 523, 544, 1109]"
       ]
      },
      {
       "output_type": "stream",
       "stream": "stdout",
       "text": [
        "\n",
        "original article tmp file "
       ]
      },
      {
       "output_type": "stream",
       "stream": "stdout",
       "text": [
        " /tmp/tmpSfZryK.html\n",
        "/tmp/tmpJ9QDq2.html\n",
        "/tmp/tmpSfZryK.html\n",
        "/tmp/tmpSfZryK.html\n",
        "Now open file:///tmp/tmpJ9QDq2.html in your web browser\n"
       ]
      },
      {
       "output_type": "stream",
       "stream": "stdout",
       "text": [
        "\n",
        "{'heur': {'recall': 0.9696969696969697, 'precision': 0.4383561643835616, 'f1': 0.6037735849056604}, 'boiler_pipe': {'recall': 0.8598484848484849, 'precision': 0.6776119402985075, 'f1': 0.7579298831385644}, 'downloads_id': 422181106, 'crf': {'recall': 0.6401515151515151, 'precision': 1.0, 'f1': 0.7806004618937644}, 'python_readibilty': {'recall': 0.9696969696969697, 'precision': 1.0, 'f1': 0.9846153846153847}}\n",
        "downloads_id: 422280595\n",
        "[202, 203, 208, 209, 210, 211, 212, 222]"
       ]
      },
      {
       "output_type": "stream",
       "stream": "stdout",
       "text": [
        "\n",
        "[202, 203, 208, 209, 210, 211, 222]\n",
        "[202, 205, 208, 209, 210, 211]"
       ]
      },
      {
       "output_type": "stream",
       "stream": "stdout",
       "text": [
        "\n",
        "original article tmp file "
       ]
      },
      {
       "output_type": "stream",
       "stream": "stdout",
       "text": [
        " /tmp/tmpdGOVKS.html\n",
        "/tmp/tmpxoMnmz.html\n",
        "/tmp/tmpdGOVKS.html\n",
        "/tmp/tmpdGOVKS.html\n",
        "Now open file:///tmp/tmpxoMnmz.html in your web browser\n"
       ]
      },
      {
       "output_type": "stream",
       "stream": "stdout",
       "text": [
        "\n",
        "{'heur': {'recall': 0.9798994974874372, 'precision': 0.8986175115207373, 'f1': 0.9374999999999999}, 'boiler_pipe': {'recall': 0.9798994974874372, 'precision': 0.8297872340425532, 'f1': 0.8986175115207373}, 'downloads_id': 422280595, 'crf': {'recall': 0.9798994974874372, 'precision': 0.9112149532710281, 'f1': 0.9443099273607749}, 'python_readibilty': {'recall': 0.9798994974874372, 'precision': 0.9848484848484849, 'f1': 0.9823677581863981}}\n",
        "downloads_id: 422910963\n",
        "[42, 43, 44, 54, 55, 56, 57, 58, 59, 60]"
       ]
      },
      {
       "output_type": "stream",
       "stream": "stdout",
       "text": [
        "\n",
        "[35, 36, 42, 43, 44]\n",
        "[35, 42, 43, 44]"
       ]
      },
      {
       "output_type": "stream",
       "stream": "stdout",
       "text": [
        "\n",
        "original article tmp file "
       ]
      },
      {
       "output_type": "stream",
       "stream": "stdout",
       "text": [
        " /tmp/tmpUCOPAS.html\n",
        "/tmp/tmpVNENva.html\n",
        "/tmp/tmpUCOPAS.html\n",
        "/tmp/tmpUCOPAS.html\n",
        "Now open file:///tmp/tmpVNENva.html in your web browser\n"
       ]
      },
      {
       "output_type": "stream",
       "stream": "stdout",
       "text": [
        "\n",
        "{'heur': {'recall': 0.9806517311608961, 'precision': 0.8949814126394052, 'f1': 0.935860058309038}, 'boiler_pipe': {'recall': 0.9663951120162932, 'precision': 0.8152920962199313, 'f1': 0.8844361602982292}, 'downloads_id': 422910963, 'crf': {'recall': 1.0, 'precision': 0.9989827060020345, 'f1': 0.9994910941475827}, 'python_readibilty': {'recall': 0.984725050916497, 'precision': 0.995880535530381, 'f1': 0.9902713773681516}}\n",
        "downloads_id: 423318170\n",
        "[239, 240, 241, 242, 243, 244, 245, 246, 247, 248, 249, 250, 251, 252, 253, 254, 255, 256]"
       ]
      },
      {
       "output_type": "stream",
       "stream": "stdout",
       "text": [
        "\n",
        "[232, 235, 248, 249, 250, 251, 252, 253, 254, 255, 256]\n",
        "[231, 232, 235, 237, 239, 240, 241, 242, 243, 244, 245, 246, 247, 248, 249, 250, 251, 252, 253, 254, 255, 256]"
       ]
      },
      {
       "output_type": "stream",
       "stream": "stdout",
       "text": [
        "\n",
        "original article tmp file "
       ]
      },
      {
       "output_type": "stream",
       "stream": "stdout",
       "text": [
        " /tmp/tmpPYkyvK.html\n",
        "/tmp/tmpvakg9J.html\n",
        "/tmp/tmpPYkyvK.html\n",
        "/tmp/tmpPYkyvK.html\n",
        "Now open file:///tmp/tmpvakg9J.html in your web browser\n"
       ]
      },
      {
       "output_type": "stream",
       "stream": "stdout",
       "text": [
        "\n",
        "{'heur': {'recall': 0.9668989547038328, 'precision': 1.0, 'f1': 0.983170947741364}, 'boiler_pipe': {'recall': 0.9590592334494773, 'precision': 0.8696682464454977, 'f1': 0.912178956089478}, 'downloads_id': 423318170, 'crf': {'recall': 0.4965156794425087, 'precision': 1.0, 'f1': 0.6635622817229336}, 'python_readibilty': {'recall': 0.9973867595818815, 'precision': 0.9887737478411054, 'f1': 0.9930615784908933}}"
       ]
      },
      {
       "output_type": "stream",
       "stream": "stdout",
       "text": [
        "\n",
        "downloads_id: 424080271\n",
        "[787, 790, 796, 802, 805, 808, 811, 1083, 1094, 1105, 1737, 1779, 1783]"
       ]
      },
      {
       "output_type": "stream",
       "stream": "stdout",
       "text": [
        "\n",
        "[787, 790]\n",
        "[709, 716, 721, 787, 790, 793, 796, 799, 802, 805, 808, 811]"
       ]
      },
      {
       "output_type": "stream",
       "stream": "stdout",
       "text": [
        "\n",
        "original article tmp file "
       ]
      },
      {
       "output_type": "stream",
       "stream": "stdout",
       "text": [
        " /tmp/tmpYAAmAH.html\n",
        "/tmp/tmpO4uQbj.html\n",
        "/tmp/tmpYAAmAH.html\n",
        "/tmp/tmpYAAmAH.html\n",
        "Now open file:///tmp/tmpO4uQbj.html in your web browser\n"
       ]
      },
      {
       "output_type": "stream",
       "stream": "stdout",
       "text": [
        "\n",
        "{'heur': {'recall': 0.9245283018867925, 'precision': 0.805921052631579, 'f1': 0.8611599297012302}, 'boiler_pipe': {'recall': 0.8150943396226416, 'precision': 0.7659574468085106, 'f1': 0.7897623400365631}, 'downloads_id': 424080271, 'crf': {'recall': 0.27547169811320754, 'precision': 1.0, 'f1': 0.4319526627218935}, 'python_readibilty': {'recall': 0.9849056603773585, 'precision': 1.0, 'f1': 0.9923954372623575}}\n",
        "downloads_id: 424369085\n",
        "[471, 505, 507, 509, 511, 513, 515, 517]"
       ]
      },
      {
       "output_type": "stream",
       "stream": "stdout",
       "text": [
        "\n",
        "[471, 505, 507, 509, 511, 513, 515, 517]\n",
        "[471, 474, 505, 507, 509, 511, 513, 515, 517]"
       ]
      },
      {
       "output_type": "stream",
       "stream": "stdout",
       "text": [
        "\n",
        "original article tmp file "
       ]
      },
      {
       "output_type": "stream",
       "stream": "stdout",
       "text": [
        " /tmp/tmpbfpqzt.html\n",
        "/tmp/tmptgEdhr.html\n",
        "/tmp/tmpbfpqzt.html\n",
        "/tmp/tmpbfpqzt.html\n",
        "Now open file:///tmp/tmptgEdhr.html in your web browser\n"
       ]
      },
      {
       "output_type": "stream",
       "stream": "stdout",
       "text": [
        "\n",
        "{'heur': {'recall': 0.9831932773109243, 'precision': 1.0, 'f1': 0.9915254237288135}, 'boiler_pipe': {'recall': 0.9943977591036415, 'precision': 0.9806629834254144, 'f1': 0.9874826147426982}, 'downloads_id': 424369085, 'crf': {'recall': 0.9831932773109243, 'precision': 1.0, 'f1': 0.9915254237288135}, 'python_readibilty': {'recall': 1.0, 'precision': 0.9727520435967303, 'f1': 0.9861878453038674}}\n",
        "downloads_id: 424796346\n",
        "[514, 521, 576, 577, 584, 585, 592, 593, 645, 646, 743, 744, 771, 823, 835, 847, 862, 874, 886, 1001]"
       ]
      },
      {
       "output_type": "stream",
       "stream": "stdout",
       "text": [
        "\n",
        "[474, 510, 514, 521, 802]\n",
        "[510, 514, 521]"
       ]
      },
      {
       "output_type": "stream",
       "stream": "stdout",
       "text": [
        "\n",
        "original article tmp file "
       ]
      },
      {
       "output_type": "stream",
       "stream": "stdout",
       "text": [
        " /tmp/tmpY5bSIE.html\n",
        "/tmp/tmpZHNQfw.html\n",
        "/tmp/tmpY5bSIE.html\n",
        "/tmp/tmpY5bSIE.html\n",
        "Now open file:///tmp/tmpZHNQfw.html in your web browser\n"
       ]
      },
      {
       "output_type": "stream",
       "stream": "stdout",
       "text": [
        "\n",
        "{'heur': {'recall': 0.9770773638968482, 'precision': 0.45285524568393093, 'f1': 0.6188747731397458}, 'boiler_pipe': {'recall': 0.833810888252149, 'precision': 0.7972602739726027, 'f1': 0.815126050420168}, 'downloads_id': 424796346, 'crf': {'recall': 1.0, 'precision': 0.9561643835616438, 'f1': 0.9775910364145658}, 'python_readibilty': {'recall': 0.9914040114613181, 'precision': 1.0, 'f1': 0.99568345323741}}\n",
        "downloads_id: 424840366\n",
        "[771, 774, 777, 780, 783, 802, 1544, 1586, 1590]"
       ]
      },
      {
       "output_type": "stream",
       "stream": "stdout",
       "text": [
        "\n",
        "[703, 771, 774, 777, 780, 783, 802]\n",
        "[703, 771, 774, 777, 780, 783, 802]"
       ]
      },
      {
       "output_type": "stream",
       "stream": "stdout",
       "text": [
        "\n",
        "original article tmp file "
       ]
      },
      {
       "output_type": "stream",
       "stream": "stdout",
       "text": [
        " /tmp/tmp8mXTPz.html\n",
        "/tmp/tmppJAgk0.html\n",
        "/tmp/tmp8mXTPz.html\n",
        "/tmp/tmp8mXTPz.html\n",
        "Now open file:///tmp/tmppJAgk0.html in your web browser\n"
       ]
      },
      {
       "output_type": "stream",
       "stream": "stdout",
       "text": [
        "\n",
        "{'heur': {'recall': 0.9863760217983651, 'precision': 0.9258312020460358, 'f1': 0.9551451187335093}, 'boiler_pipe': {'recall': 0.8392370572207084, 'precision': 0.779746835443038, 'f1': 0.8083989501312335}, 'downloads_id': 424840366, 'crf': {'recall': 1.0, 'precision': 1.0, 'f1': 1.0}, 'python_readibilty': {'recall': 0.888283378746594, 'precision': 1.0, 'f1': 0.9408369408369408}}\n",
        "downloads_id: 425206279\n",
        "[775, 776, 786, 832, 840, 1052, 1080, 1126, 1152, 1207]"
       ]
      },
      {
       "output_type": "stream",
       "stream": "stdout",
       "text": [
        "\n",
        "[377, 775, 776]\n",
        "[377, 775, 776, 786]"
       ]
      },
      {
       "output_type": "stream",
       "stream": "stdout",
       "text": [
        "\n",
        "original article tmp file "
       ]
      },
      {
       "output_type": "stream",
       "stream": "stdout",
       "text": [
        " /tmp/tmpvoGO13.html\n",
        "/tmp/tmpUPtP0W.html\n",
        "/tmp/tmpvoGO13.html\n",
        "/tmp/tmpvoGO13.html\n",
        "Now open file:///tmp/tmpUPtP0W.html in your web browser\n"
       ]
      },
      {
       "output_type": "stream",
       "stream": "stdout",
       "text": [
        "\n",
        "{'heur': {'recall': 0.9507042253521126, 'precision': 0.8490566037735849, 'f1': 0.8970099667774086}, 'boiler_pipe': {'recall': 0.7676056338028169, 'precision': 0.5561224489795918, 'f1': 0.6449704142011834}, 'downloads_id': 425206279, 'crf': {'recall': 0.15492957746478872, 'precision': 1.0, 'f1': 0.26829268292682923}, 'python_readibilty': {'recall': 0.9014084507042254, 'precision': 0.9846153846153847, 'f1': 0.9411764705882353}}\n",
        "downloads_id: 426405203\n",
        "[777, 780, 783, 789, 792, 798, 801, 807, 810, 1612, 1654, 1658]"
       ]
      },
      {
       "output_type": "stream",
       "stream": "stdout",
       "text": [
        "\n",
        "[698, 777, 780, 783, 786, 789, 792]\n",
        "[698, 777, 780, 783, 786, 789, 792, 795, 798, 801, 804, 807, 810]"
       ]
      },
      {
       "output_type": "stream",
       "stream": "stdout",
       "text": [
        "\n",
        "original article tmp file "
       ]
      },
      {
       "output_type": "stream",
       "stream": "stdout",
       "text": [
        " /tmp/tmpofsPT1.html\n",
        "/tmp/tmpnf51cr.html\n",
        "/tmp/tmpofsPT1.html\n",
        "/tmp/tmpofsPT1.html\n",
        "Now open file:///tmp/tmpnf51cr.html in your web browser\n"
       ]
      },
      {
       "output_type": "stream",
       "stream": "stdout",
       "text": [
        "\n",
        "{'heur': {'recall': 0.8508997429305912, 'precision': 0.9194444444444444, 'f1': 0.8838451268357811}, 'boiler_pipe': {'recall': 0.8380462724935732, 'precision': 0.7725118483412322, 'f1': 0.8039457459926016}, 'downloads_id': 426405203, 'crf': {'recall': 0.6272493573264781, 'precision': 1.0, 'f1': 0.7709320695102686}, 'python_readibilty': {'recall': 1.0, 'precision': 1.0, 'f1': 1.0}}\n",
        "downloads_id: 426560018\n",
        "[205, 206, 207, 208, 210, 211, 212, 213, 316, 320, 323, 324, 328, 373, 407, 437, 442, 447]"
       ]
      },
      {
       "output_type": "stream",
       "stream": "stdout",
       "text": [
        "\n",
        "[184, 205, 206, 207, 208]\n",
        "[181, 184, 202, 205, 206, 207, 208, 209, 210, 211, 212]"
       ]
      },
      {
       "output_type": "stream",
       "stream": "stdout",
       "text": [
        "\n",
        "original article tmp file "
       ]
      },
      {
       "output_type": "stream",
       "stream": "stdout",
       "text": [
        " /tmp/tmpbkPOC0.html\n",
        "/tmp/tmpiDPYXM.html\n",
        "/tmp/tmpbkPOC0.html\n",
        "/tmp/tmpbkPOC0.html\n",
        "Now open file:///tmp/tmpiDPYXM.html in your web browser\n"
       ]
      },
      {
       "output_type": "stream",
       "stream": "stdout",
       "text": [
        "\n",
        "{'heur': {'recall': 0.9405940594059405, 'precision': 0.8755760368663594, 'f1': 0.9069212410501193}, 'boiler_pipe': {'recall': 0.9925742574257426, 'precision': 0.9876847290640394, 'f1': 0.9901234567901234}, 'downloads_id': 426560018, 'crf': {'recall': 0.42326732673267325, 'precision': 1.0, 'f1': 0.5947826086956521}, 'python_readibilty': {'recall': 0.9653465346534653, 'precision': 0.9701492537313433, 'f1': 0.967741935483871}}\n",
        "downloads_id: 426632784\n",
        "[405, 407, 409, 411, 413, 415, 417, 419, 420, 423, 642, 643, 644, 645]"
       ]
      },
      {
       "output_type": "stream",
       "stream": "stdout",
       "text": [
        "\n",
        "[392, 405, 407, 409, 411, 413, 415, 417, 419, 420, 421, 423]\n",
        "[392, 398, 405, 407, 409, 411, 413, 415, 417, 419, 420, 421]"
       ]
      },
      {
       "output_type": "stream",
       "stream": "stdout",
       "text": [
        "\n",
        "original article tmp file "
       ]
      },
      {
       "output_type": "stream",
       "stream": "stdout",
       "text": [
        " /tmp/tmpXD9XXa.html\n",
        "/tmp/tmpV5zXQT.html\n",
        "/tmp/tmpXD9XXa.html\n",
        "/tmp/tmpXD9XXa.html\n",
        "Now open file:///tmp/tmpV5zXQT.html in your web browser\n"
       ]
      },
      {
       "output_type": "stream",
       "stream": "stdout",
       "text": [
        "\n",
        "Unexpected error on string '<' <class 'lxml.etree.ParserError'>\n",
        "{'heur': {'recall': 0.9851551956815114, 'precision': 0.874251497005988, 'f1': 0.9263959390862944}, 'boiler_pipe': {'recall': 0.8407557354925776, 'precision': 0.6180555555555556, 'f1': 0.7124070897655804}, 'downloads_id': 426632784, 'crf': {'recall': 0.9946018893387314, 'precision': 0.9735799207397622, 'f1': 0.9839786381842457}, 'python_readibilty': {'recall': 0.9946018893387314, 'precision': 0.9697368421052631, 'f1': 0.9820119920053298}}"
       ]
      },
      {
       "output_type": "stream",
       "stream": "stdout",
       "text": [
        "\n",
        "downloads_id: 426709900\n",
        "[110, 111, 112, 113, 114, 115, 116, 117, 118, 119, 120, 121, 122, 123, 124, 125, 126, 127, 128, 141, 142, 143, 144, 145, 146, 147]"
       ]
      },
      {
       "output_type": "stream",
       "stream": "stdout",
       "text": [
        "\n",
        "[97, 98, 99, 110, 111, 112, 113, 114, 115, 116, 117, 118, 119, 120, 121, 122, 123, 124, 125, 126, 127, 128, 136, 141, 142, 143, 144, 145, 146, 147]\n",
        "[97, 98, 99, 110, 111, 112, 113, 114, 115, 116, 117, 118, 119, 120, 121, 122, 123, 124, 125, 126, 127, 128, 136, 141, 142, 143, 144, 145, 146, 147]"
       ]
      },
      {
       "output_type": "stream",
       "stream": "stdout",
       "text": [
        "\n",
        "original article tmp file "
       ]
      },
      {
       "output_type": "stream",
       "stream": "stdout",
       "text": [
        " /tmp/tmpqkGFft.html\n",
        "/tmp/tmprfELjP.html\n",
        "/tmp/tmpqkGFft.html\n",
        "/tmp/tmpqkGFft.html\n",
        "Now open file:///tmp/tmprfELjP.html in your web browser\n"
       ]
      },
      {
       "output_type": "stream",
       "stream": "stdout",
       "text": [
        "\n",
        "Unexpected error on string '<'"
       ]
      },
      {
       "output_type": "stream",
       "stream": "stdout",
       "text": [
        " <class 'lxml.etree.ParserError'>\n",
        "{'heur': {'recall': 0.9788053949903661, 'precision': 1.0, 'f1': 0.9892891918208374}, 'boiler_pipe': {'recall': 0.968529222864483, 'precision': 0.9349039057656541, 'f1': 0.9514195583596216}, 'downloads_id': 426709900, 'crf': {'recall': 1.0, 'precision': 1.0, 'f1': 1.0}, 'python_readibilty': {'recall': 0.9929351316634554, 'precision': 0.9884910485933504, 'f1': 0.9907081063761615}}\n",
        "downloads_id: 428449440\n",
        "[154, 157, 196, 198, 199]"
       ]
      },
      {
       "output_type": "stream",
       "stream": "stdout",
       "text": [
        "\n",
        "[157, 196, 197, 198, 199, 429, 430, 483]\n",
        "[157, 161, 196, 198, 199]"
       ]
      },
      {
       "output_type": "stream",
       "stream": "stdout",
       "text": [
        "\n",
        "original article tmp file "
       ]
      },
      {
       "output_type": "stream",
       "stream": "stdout",
       "text": [
        " /tmp/tmpmBE2DK.html\n",
        "/tmp/tmpx5WiNJ.html\n",
        "/tmp/tmpmBE2DK.html\n",
        "/tmp/tmpmBE2DK.html\n",
        "Now open file:///tmp/tmpx5WiNJ.html in your web browser\n"
       ]
      },
      {
       "output_type": "stream",
       "stream": "stdout",
       "text": [
        "\n",
        "{'heur': {'recall': 0.9942528735632183, 'precision': 0.9057591623036649, 'f1': 0.947945205479452}, 'boiler_pipe': {'recall': 0.9655172413793104, 'precision': 0.7533632286995515, 'f1': 0.8463476070528966}, 'downloads_id': 428449440, 'crf': {'recall': 0.9942528735632183, 'precision': 0.7935779816513762, 'f1': 0.8826530612244897}, 'python_readibilty': {'recall': 0.9942528735632183, 'precision': 0.9251336898395722, 'f1': 0.9584487534626038}}\n",
        "downloads_id: 429607289\n",
        "[230, 231, 232, 233, 234, 235, 236, 237, 238, 239, 240, 241, 242, 243, 244, 245, 246, 247, 248, 249]"
       ]
      },
      {
       "output_type": "stream",
       "stream": "stdout",
       "text": [
        "\n",
        "[198, 230, 231, 232, 233, 234, 235, 236, 237, 238, 239, 240, 241, 242, 243, 244, 245, 246, 247, 248, 249, 670, 722]\n",
        "[198, 230, 231, 232, 233, 234, 235, 236, 237, 238, 239, 240, 241, 242, 243, 244, 245, 246, 247, 248, 249, 670, 722]"
       ]
      },
      {
       "output_type": "stream",
       "stream": "stdout",
       "text": [
        "\n",
        "original article tmp file "
       ]
      },
      {
       "output_type": "stream",
       "stream": "stdout",
       "text": [
        " /tmp/tmpOFqDCP.html\n",
        "/tmp/tmpOXZSEA.html\n",
        "/tmp/tmpOFqDCP.html\n",
        "/tmp/tmpOFqDCP.html\n",
        "Now open file:///tmp/tmpOXZSEA.html in your web browser\n"
       ]
      },
      {
       "output_type": "stream",
       "stream": "stdout",
       "text": [
        "\n",
        "{'heur': {'recall': 0.961038961038961, 'precision': 1.0, 'f1': 0.9801324503311257}, 'boiler_pipe': {'recall': 0.9907235621521335, 'precision': 0.37980085348506404, 'f1': 0.5491002570694088}, 'downloads_id': 429607289, 'crf': {'recall': 1.0, 'precision': 1.0, 'f1': 1.0}, 'python_readibilty': {'recall': 0.974025974025974, 'precision': 0.9924385633270322, 'f1': 0.9831460674157303}}"
       ]
      },
      {
       "output_type": "stream",
       "stream": "stdout",
       "text": [
        "\n",
        "downloads_id: 430363249\n",
        "[281, 282, 286, 303, 304, 305, 306, 307, 308, 309, 310, 428, 438, 443, 448, 457, 462, 467, 472, 477, 485, 490, 495, 500, 505, 567]"
       ]
      },
      {
       "output_type": "stream",
       "stream": "stdout",
       "text": [
        "\n",
        "[281, 282, 284, 286, 302, 303, 304, 305, 306, 307, 308, 309, 443]\n",
        "[281, 282, 284, 286, 302, 303, 304, 305, 306, 307, 308, 309]"
       ]
      },
      {
       "output_type": "stream",
       "stream": "stdout",
       "text": [
        "\n",
        "original article tmp file "
       ]
      },
      {
       "output_type": "stream",
       "stream": "stdout",
       "text": [
        " /tmp/tmpR63MoL.html\n",
        "/tmp/tmpPN5QYl.html\n",
        "/tmp/tmpR63MoL.html\n",
        "/tmp/tmpR63MoL.html\n",
        "Now open file:///tmp/tmpPN5QYl.html in your web browser\n"
       ]
      },
      {
       "output_type": "stream",
       "stream": "stdout",
       "text": [
        "\n",
        "{'heur': {'recall': 0.9316455696202531, 'precision': 0.6917293233082706, 'f1': 0.7939590075512406}, 'boiler_pipe': {'recall': 0.9924050632911392, 'precision': 0.9751243781094527, 'f1': 0.9836888331242157}, 'downloads_id': 430363249, 'crf': {'recall': 1.0, 'precision': 0.9705159705159705, 'f1': 0.9850374064837906}, 'python_readibilty': {'recall': 0.9139240506329114, 'precision': 0.967828418230563, 'f1': 0.9401041666666666}}\n",
        "downloads_id: 430995428\n",
        "[1059, 1094, 1095, 1096, 1101, 1143]"
       ]
      },
      {
       "output_type": "stream",
       "stream": "stdout",
       "text": [
        "\n",
        "[1059, 1094, 1095, 1096]\n",
        "[1059, 1062, 1092, 1094, 1095, 1096]"
       ]
      },
      {
       "output_type": "stream",
       "stream": "stdout",
       "text": [
        "\n",
        "original article tmp file "
       ]
      },
      {
       "output_type": "stream",
       "stream": "stdout",
       "text": [
        " /tmp/tmpC3Iaw8.html\n",
        "/tmp/tmpRyW_Cc.html\n",
        "/tmp/tmpC3Iaw8.html\n",
        "/tmp/tmpC3Iaw8.html\n",
        "Now open file:///tmp/tmpRyW_Cc.html in your web browser\n"
       ]
      },
      {
       "output_type": "stream",
       "stream": "stdout",
       "text": [
        "\n",
        "{'heur': {'recall': 0.875, 'precision': 0.8807947019867549, 'f1': 0.877887788778878}, 'boiler_pipe': {'recall': 0.8881578947368421, 'precision': 0.7219251336898396, 'f1': 0.7964601769911505}, 'downloads_id': 430995428, 'crf': {'recall': 0.875, 'precision': 1.0, 'f1': 0.9333333333333333}, 'python_readibilty': {'recall': 0.9473684210526315, 'precision': 0.8622754491017964, 'f1': 0.90282131661442}}\n",
        "downloads_id: 433457459\n",
        "[11041, 11042, 11045, 11046]"
       ]
      },
      {
       "output_type": "stream",
       "stream": "stdout",
       "text": [
        "\n",
        "[11041, 11042, 11043, 11044, 11045, 11046]\n",
        "[11021, 11024, 11041, 11042, 11045, 11046]"
       ]
      },
      {
       "output_type": "stream",
       "stream": "stdout",
       "text": [
        "\n",
        "original article tmp file "
       ]
      },
      {
       "output_type": "stream",
       "stream": "stdout",
       "text": [
        " /tmp/tmp9zt2u9.html\n",
        "/tmp/tmpvnOTj3.html\n",
        "/tmp/tmp9zt2u9.html\n",
        "/tmp/tmp9zt2u9.html\n",
        "Now open file:///tmp/tmpvnOTj3.html in your web browser\n"
       ]
      },
      {
       "output_type": "stream",
       "stream": "stdout",
       "text": [
        "\n",
        "{'heur': {'recall': 0.9433962264150944, 'precision': 1.0, 'f1': 0.970873786407767}, 'boiler_pipe': {'recall': 1.0, 'precision': 0.9177489177489178, 'f1': 0.9571106094808126}, 'downloads_id': 433457459, 'crf': {'recall': 0.9433962264150944, 'precision': 0.9433962264150944, 'f1': 0.9433962264150944}, 'python_readibilty': {'recall': 0.9858490566037735, 'precision': 0.9008620689655172, 'f1': 0.9414414414414414}}\n",
        "downloads_id: 435624796\n",
        "[3280, 3283, 3387, 3408, 3421, 3434, 3454, 3456, 3460, 3462, 3527, 3528, 3626]"
       ]
      },
      {
       "output_type": "stream",
       "stream": "stdout",
       "text": [
        "\n",
        "[186, 3280, 3283, 3528, 3895]\n",
        "[3280, 3283, 3387, 3446, 3454, 3456, 3458, 3460, 3462, 3528]"
       ]
      },
      {
       "output_type": "stream",
       "stream": "stdout",
       "text": [
        "\n",
        "original article tmp file "
       ]
      },
      {
       "output_type": "stream",
       "stream": "stdout",
       "text": [
        " /tmp/tmppLWhx7.html\n",
        "/tmp/tmpJWyr5N.html\n",
        "/tmp/tmppLWhx7.html\n",
        "/tmp/tmppLWhx7.html\n",
        "Now open file:///tmp/tmpJWyr5N.html in your web browser\n"
       ]
      },
      {
       "output_type": "stream",
       "stream": "stdout",
       "text": [
        "\n",
        "{'heur': {'recall': 0.9794520547945206, 'precision': 0.8746177370030581, 'f1': 0.9240710823909533}, 'boiler_pipe': {'recall': 0.9623287671232876, 'precision': 0.9461279461279462, 'f1': 0.9541595925297114}, 'downloads_id': 435624796, 'crf': {'recall': 0.14383561643835616, 'precision': 0.7924528301886793, 'f1': 0.2434782608695652}, 'python_readibilty': {'recall': 0.8013698630136986, 'precision': 1.0, 'f1': 0.8897338403041826}}\n",
        "downloads_id: 435659593\n",
        "[366, 367, 368, 369, 425, 432, 439, 463, 473, 503, 510, 527, 558, 568, 759]"
       ]
      },
      {
       "output_type": "stream",
       "stream": "stdout",
       "text": [
        "\n",
        "[363, 366, 367, 368, 369, 432]\n",
        "[362, 363, 366, 367, 368, 369]"
       ]
      },
      {
       "output_type": "stream",
       "stream": "stdout",
       "text": [
        "\n",
        "original article tmp file "
       ]
      },
      {
       "output_type": "stream",
       "stream": "stdout",
       "text": [
        " /tmp/tmpGvIJFD.html\n",
        "/tmp/tmpyCNMc3.html\n",
        "/tmp/tmpGvIJFD.html\n",
        "/tmp/tmpGvIJFD.html\n",
        "Now open file:///tmp/tmpyCNMc3.html in your web browser\n"
       ]
      },
      {
       "output_type": "stream",
       "stream": "stdout",
       "text": [
        "\n",
        "{'heur': {'recall': 0.923728813559322, 'precision': 0.6318840579710145, 'f1': 0.7504302925989674}, 'boiler_pipe': {'recall': 0.8559322033898306, 'precision': 0.6601307189542484, 'f1': 0.7453874538745388}, 'downloads_id': 435659593, 'crf': {'recall': 0.9745762711864406, 'precision': 0.9504132231404959, 'f1': 0.9623430962343097}, 'python_readibilty': {'recall': 1.0, 'precision': 0.9915966386554622, 'f1': 0.9957805907172996}}\n",
        "downloads_id: 461175103\n",
        "[168, 169, 170, 171, 172, 173, 174, 175, 176, 177, 178, 179, 180, 181, 182, 183, 184, 187, 258, 259, 260, 261, 262, 264, 265, 266]"
       ]
      },
      {
       "output_type": "stream",
       "stream": "stdout",
       "text": [
        "\n",
        "[164, 167, 168, 169, 170, 171, 172, 173, 174, 175, 176, 177, 178, 179, 180, 181, 182, 183, 184, 3904, 3905, 3906, 3907, 3908, 3909, 3910, 3911, 3912, 3913, 3914, 3915, 3916, 3917, 3918, 3919, 3920, 3921, 3922, 3923, 3924, 3925, 3926, 3927, 3928, 3929, 3930]\n",
        "[164, 167, 168, 169, 170, 171, 172, 173, 174, 175, 176, 177, 178, 179, 180, 181, 182, 183, 184]"
       ]
      },
      {
       "output_type": "stream",
       "stream": "stdout",
       "text": [
        "\n",
        "original article tmp file "
       ]
      },
      {
       "output_type": "stream",
       "stream": "stdout",
       "text": [
        " /tmp/tmpKnXS0h.html\n",
        "/tmp/tmpFpbQa1.html\n",
        "/tmp/tmpKnXS0h.html\n",
        "/tmp/tmpKnXS0h.html\n",
        "Now open file:///tmp/tmpFpbQa1.html in your web browser\n"
       ]
      },
      {
       "output_type": "stream",
       "stream": "stdout",
       "text": [
        "\n",
        "{'heur': {'recall': 0.903010033444816, 'precision': 0.7128712871287128, 'f1': 0.7967539653264477}, 'boiler_pipe': {'recall': 0.9289297658862876, 'precision': 0.8720565149136578, 'f1': 0.8995951417004049}, 'downloads_id': 461175103, 'crf': {'recall': 1.0, 'precision': 0.4791666666666667, 'f1': 0.647887323943662}, 'python_readibilty': {'recall': 0.955685618729097, 'precision': 0.5763993948562783, 'f1': 0.7190940547341931}}"
       ]
      },
      {
       "output_type": "stream",
       "stream": "stdout",
       "text": [
        "\n",
        "downloads_id: 461175549\n",
        "[]"
       ]
      },
      {
       "output_type": "stream",
       "stream": "stdout",
       "text": [
        "\n",
        "[]\n",
        "[38]"
       ]
      },
      {
       "output_type": "stream",
       "stream": "stdout",
       "text": [
        "\n",
        "original article tmp file "
       ]
      },
      {
       "output_type": "stream",
       "stream": "stdout",
       "text": [
        " /tmp/tmpYgm2K1.html\n",
        "/tmp/tmpEaglYC.html\n",
        "/tmp/tmpYgm2K1.html\n",
        "/tmp/tmpYgm2K1.html\n",
        "Now open file:///tmp/tmpEaglYC.html in your web browser\n"
       ]
      },
      {
       "ename": "ZeroDivisionError",
       "evalue": "float division by zero",
       "output_type": "pyerr",
       "traceback": [
        "\u001b[1;31m---------------------------------------------------------------------------\u001b[0m\n\u001b[1;31mZeroDivisionError\u001b[0m                         Traceback (most recent call last)",
        "\u001b[1;32m<ipython-input-313-5662aed97a0a>\u001b[0m in \u001b[0;36m<module>\u001b[1;34m()\u001b[0m\n\u001b[0;32m     13\u001b[0m \u001b[1;32mfor\u001b[0m \u001b[0mdownloads_id\u001b[0m \u001b[1;32min\u001b[0m \u001b[0mdownloads_ids\u001b[0m\u001b[1;33m:\u001b[0m\u001b[1;33m\u001b[0m\u001b[0m\n\u001b[0;32m     14\u001b[0m     \u001b[1;32mprint\u001b[0m \u001b[1;34m'downloads_id:'\u001b[0m\u001b[1;33m,\u001b[0m \u001b[0mdownloads_id\u001b[0m\u001b[1;33m\u001b[0m\u001b[0m\n\u001b[1;32m---> 15\u001b[1;33m     \u001b[0mres\u001b[0m \u001b[1;33m=\u001b[0m \u001b[0mcompare_extractors_for_download\u001b[0m\u001b[1;33m(\u001b[0m \u001b[0mdownloads_id\u001b[0m \u001b[1;33m)\u001b[0m\u001b[1;33m\u001b[0m\u001b[0m\n\u001b[0m\u001b[0;32m     16\u001b[0m     \u001b[1;32mprint\u001b[0m \u001b[0mres\u001b[0m\u001b[1;33m\u001b[0m\u001b[0m\n\u001b[0;32m     17\u001b[0m     \u001b[0mcomps\u001b[0m\u001b[1;33m.\u001b[0m\u001b[0mappend\u001b[0m\u001b[1;33m(\u001b[0m \u001b[0mres\u001b[0m \u001b[1;33m)\u001b[0m\u001b[1;33m\u001b[0m\u001b[0m\n",
        "\u001b[1;32m<ipython-input-288-939b100f7be3>\u001b[0m in \u001b[0;36mcompare_extractors_for_download\u001b[1;34m(downloads_id)\u001b[0m\n\u001b[0;32m     40\u001b[0m \u001b[1;33m\u001b[0m\u001b[0m\n\u001b[0;32m     41\u001b[0m     \u001b[0mcomp_results\u001b[0m \u001b[1;33m=\u001b[0m \u001b[1;33m{\u001b[0m\u001b[1;33m}\u001b[0m\u001b[1;33m\u001b[0m\u001b[0m\n\u001b[1;32m---> 42\u001b[1;33m     \u001b[0mcomp_results\u001b[0m\u001b[1;33m[\u001b[0m\u001b[1;34m'heur'\u001b[0m\u001b[1;33m]\u001b[0m \u001b[1;33m=\u001b[0m \u001b[0mratcliff_obershelp_compare\u001b[0m\u001b[1;33m(\u001b[0m \u001b[0mheur_lines\u001b[0m\u001b[1;33m,\u001b[0m \u001b[0mexpected_lines\u001b[0m \u001b[1;33m)\u001b[0m\u001b[1;33m\u001b[0m\u001b[0m\n\u001b[0m\u001b[0;32m     43\u001b[0m     \u001b[0mcomp_results\u001b[0m\u001b[1;33m[\u001b[0m\u001b[1;34m'crf'\u001b[0m\u001b[1;33m]\u001b[0m  \u001b[1;33m=\u001b[0m \u001b[0mratcliff_obershelp_compare\u001b[0m\u001b[1;33m(\u001b[0m \u001b[0mcrf_lines\u001b[0m\u001b[1;33m,\u001b[0m \u001b[0mexpected_lines\u001b[0m \u001b[1;33m)\u001b[0m\u001b[1;33m\u001b[0m\u001b[0m\n\u001b[0;32m     44\u001b[0m     \u001b[0mcomp_results\u001b[0m\u001b[1;33m[\u001b[0m\u001b[1;34m'boiler_pipe'\u001b[0m\u001b[1;33m]\u001b[0m \u001b[1;33m=\u001b[0m \u001b[0mratcliff_obershelp_compare\u001b[0m\u001b[1;33m(\u001b[0m \u001b[0mboiler_pipe_lines\u001b[0m\u001b[1;33m,\u001b[0m \u001b[0mexpected_lines\u001b[0m \u001b[1;33m)\u001b[0m\u001b[1;33m\u001b[0m\u001b[0m\n",
        "\u001b[1;32m<ipython-input-311-62a0e703f4ab>\u001b[0m in \u001b[0;36mratcliff_obershelp_compare\u001b[1;34m(actual_lines, expected_lines)\u001b[0m\n\u001b[0;32m     20\u001b[0m     \u001b[0mfn\u001b[0m \u001b[1;33m=\u001b[0m \u001b[0mcounts\u001b[0m\u001b[1;33m[\u001b[0m\u001b[1;34m'-'\u001b[0m\u001b[1;33m]\u001b[0m\u001b[1;33m\u001b[0m\u001b[0m\n\u001b[0;32m     21\u001b[0m \u001b[1;33m\u001b[0m\u001b[0m\n\u001b[1;32m---> 22\u001b[1;33m     \u001b[0mprecision\u001b[0m \u001b[1;33m=\u001b[0m \u001b[0mtp\u001b[0m\u001b[1;33m/\u001b[0m\u001b[0mfloat\u001b[0m\u001b[1;33m(\u001b[0m\u001b[0mtp\u001b[0m\u001b[1;33m+\u001b[0m\u001b[0mfp\u001b[0m\u001b[1;33m)\u001b[0m\u001b[1;33m\u001b[0m\u001b[0m\n\u001b[0m\u001b[0;32m     23\u001b[0m     \u001b[0mrecall\u001b[0m    \u001b[1;33m=\u001b[0m \u001b[0mtp\u001b[0m\u001b[1;33m/\u001b[0m\u001b[0mfloat\u001b[0m\u001b[1;33m(\u001b[0m \u001b[0mtp\u001b[0m \u001b[1;33m+\u001b[0m \u001b[0mfn\u001b[0m \u001b[1;33m)\u001b[0m\u001b[1;33m\u001b[0m\u001b[0m\n\u001b[0;32m     24\u001b[0m     \u001b[0mf1\u001b[0m \u001b[1;33m=\u001b[0m \u001b[1;36m2\u001b[0m\u001b[1;33m*\u001b[0m\u001b[1;33m(\u001b[0m\u001b[0mprecision\u001b[0m\u001b[1;33m*\u001b[0m\u001b[0mrecall\u001b[0m\u001b[1;33m)\u001b[0m\u001b[1;33m/\u001b[0m\u001b[1;33m(\u001b[0m \u001b[0mprecision\u001b[0m \u001b[1;33m+\u001b[0m \u001b[0mrecall\u001b[0m \u001b[1;33m)\u001b[0m\u001b[1;33m\u001b[0m\u001b[0m\n",
        "\u001b[1;31mZeroDivisionError\u001b[0m: float division by zero"
       ]
      },
      {
       "output_type": "stream",
       "stream": "stdout",
       "text": [
        "\n",
        "Unexpected error on string ' ' <class 'lxml.etree.ParserError'>\n",
        "Unexpected error on string ' ' <class 'lxml.etree.ParserError'>\n",
        "Unexpected error on string ' ' <class 'lxml.etree.ParserError'>\n",
        "Unexpected error on string ' ' <class 'lxml.etree.ParserError'>\n",
        "Unexpected error on string ' ' <class 'lxml.etree.ParserError'>\n",
        "Unexpected error on string ' ' <class 'lxml.etree.ParserError'>\n",
        "Unexpected error on string '<' <class 'lxml.etree.ParserError'>\n",
        "Unexpected error on string ' ' <class 'lxml.etree.ParserError'>\n",
        "Unexpected error on string ' ' <class 'lxml.etree.ParserError'>\n",
        "Unexpected error on string ' ' <class 'lxml.etree.ParserError'>\n",
        "Unexpected error on string ' ' <class 'lxml.etree.ParserError'>\n",
        "Unexpected error on string ' ' <class 'lxml.etree.ParserError'>\n",
        "Unexpected error on string ' ' <class 'lxml.etree.ParserError'>\n",
        "Unexpected error on string ' ' <class 'lxml.etree.ParserError'>\n",
        "Unexpected error on string ' ' <class 'lxml.etree.ParserError'>\n",
        "Unexpected error on string ' ' <class 'lxml.etree.ParserError'>\n",
        "Unexpected error on string ' ' <class 'lxml.etree.ParserError'>\n",
        "Unexpected error on string ' ' <class 'lxml.etree.ParserError'>\n",
        "Unexpected error on string ' ' <class 'lxml.etree.ParserError'>\n",
        "Unexpected error on string ' ' <class 'lxml.etree.ParserError'>\n",
        "Unexpected error on string ' ' <class 'lxml.etree.ParserError'>\n",
        "Unexpected error on string ' ' <class 'lxml.etree.ParserError'>\n",
        "Unexpected error on string ' ' <class 'lxml.etree.ParserError'>\n",
        "Unexpected error on string ' ' <class 'lxml.etree.ParserError'>\n",
        "Unexpected error on string ' ' <class 'lxml.etree.ParserError'>\n",
        "Unexpected error on string '<' <class 'lxml.etree.ParserError'>\n"
       ]
      }
     ],
     "prompt_number": 313
    },
    {
     "cell_type": "code",
     "collapsed": false,
     "input": [
      "download = get_download( 391881020 )\n",
      "download['raw_content']\n",
      "download['url']\n",
      "#None"
     ],
     "language": "python",
     "metadata": {},
     "outputs": [
      {
       "metadata": {},
       "output_type": "pyout",
       "prompt_number": 301,
       "text": [
        "u'http://virgula.uol.com.br/inacreditavel/bizarro/metro-tem-confusao-por-causa-de-encontro-em-shopping'"
       ]
      }
     ],
     "prompt_number": 301
    },
    {
     "cell_type": "code",
     "collapsed": false,
     "input": [
      "import difflib\n",
      "from IPython.display import HTML\n",
      "\n",
      "from collections import Counter\n",
      "\n",
      "def ratcliff_obershelp_compare( actual_lines, expected_lines ):\n",
      "    \n",
      "    words_expected = lines_to_comparable_text(expected_lines ).split()\n",
      "    words_crf      = lines_to_comparable_text(actual_lines ).split()\n",
      "    \n",
      "    differ = difflib.Differ( )\n",
      "    \n",
      "    #print words_crf[:10]\n",
      "    #print words_expected[:10]\n",
      "    list( differ.compare( words_crf , words_expected ) )\n",
      "    counts = Counter([ d[0] for d in differ.compare( words_expected, words_crf   ) ])\n",
      "    \n",
      "    tp = counts[' ']\n",
      "    fp = counts['+']\n",
      "    fn = counts['-']\n",
      "    \n",
      "    precision = tp/float(tp+fp)\n",
      "    recall    = tp/float( tp + fn )\n",
      "    f1 = 2*(precision*recall)/( precision + recall )\n",
      "    \n",
      "    ret = { 'precision': precision,\n",
      "        'recall': recall,\n",
      "        'f1': f1\n",
      "    }\n",
      "    \n",
      "    return ret\n",
      "\n",
      "ratcliff_obershelp_compare( words_crf, words_expected )"
     ],
     "language": "python",
     "metadata": {},
     "outputs": [
      {
       "metadata": {},
       "output_type": "pyout",
       "prompt_number": 311,
       "text": [
        "{'f1': 0.8466522678185745, 'precision': 0.7340823970037453, 'recall': 1.0}"
       ]
      }
     ],
     "prompt_number": 311
    },
    {
     "cell_type": "code",
     "collapsed": false,
     "input": [
      "print lines_to_comparable_text( extract_with_python_readability( download['raw_content' ] ) )"
     ],
     "language": "python",
     "metadata": {},
     "outputs": [
      {
       "output_type": "stream",
       "stream": "stdout",
       "text": [
        "Metr\u00f4 tem confus\u00e3o por causa de encontro em shopping; veja v\u00eddeo Era para ser um s\u00e1bado muvucado como todos aqueles que antecedem o Natal em mais um shopping de S\u00e3o Paulo. Mas foi muito mais do que isso. Milhares de jovens compareceram a um encontro promovido por uma p\u00e1gina\u00a0no Facebook para este s\u00e1bado (7), no segundo andar do Shopping Metr\u00f4 Itaquera, \u00e0s 17h. Mas o que aconteceu foi uma bagun\u00e7a total, com a chegada da pol\u00edcia e o fechamento do shopping duas horas antes que o previsto.Ningu\u00e9m sabe ao certo o que aconteceu, alguns dizem que foi arrast\u00e3o, mas os pr\u00f3prios lojistas negam. De acordo com um rapaz que registrou a movimenta\u00e7\u00e3o na sa\u00edda do metr\u00f4, algumas pessoas isoladamente tiveram itens furtados. Infelizmente, o celular do garoto era meio ruim, mas deu para ver a confus\u00e3o. Veja aqui o v\u00eddeo que ele fez.Como muita gente compareceu, houve a confus\u00e3o. O certo \u00e9 que j\u00e1 est\u00e1 marcado o terceiro encontro, que \u00e9 mais uma badala\u00e7\u00e3o entre a galera, ou melhor, como diz a pr\u00f3pria p\u00e1gina, \u00e9 s\u00f3 um Rol\u00eazinho Parte 3. Tudo come\u00e7ou na semana passado, no domingo (1), com o Vuuk no Shopping Itaquera.\n"
       ]
      }
     ],
     "prompt_number": 14
    },
    {
     "cell_type": "code",
     "collapsed": false,
     "input": [
      "import readability\n",
      "\n",
      "doc = readability.Document( download['raw_content'] )\n",
      "\n",
      "doc.content()\n",
      "\n",
      "print doc.short_title()\n",
      "print lines_to_comparable_text( [ doc.summary() ] )"
     ],
     "language": "python",
     "metadata": {},
     "outputs": [
      {
       "output_type": "stream",
       "stream": "stdout",
       "text": [
        "Metr\u00f4 tem confus\u00e3o por causa de encontro em shopping; veja v\u00eddeo\n",
        "Era para ser um s\u00e1bado muvucado como todos aqueles que antecedem o Natal em mais um shopping de S\u00e3o Paulo. Mas foi muito mais do que isso. Milhares de jovens compareceram a um encontro promovido por uma p\u00e1gina\u00a0no Facebook para este s\u00e1bado (7), no segundo andar do Shopping Metr\u00f4 Itaquera, \u00e0s 17h. Mas o que aconteceu foi uma bagun\u00e7a total, com a chegada da pol\u00edcia e o fechamento do shopping duas horas antes que o previsto.Ningu\u00e9m sabe ao certo o que aconteceu, alguns dizem que foi arrast\u00e3o, mas os pr\u00f3prios lojistas negam. De acordo com um rapaz que registrou a movimenta\u00e7\u00e3o na sa\u00edda do metr\u00f4, algumas pessoas isoladamente tiveram itens furtados. Infelizmente, o celular do garoto era meio ruim, mas deu para ver a confus\u00e3o. Veja aqui o v\u00eddeo que ele fez.Como muita gente compareceu, houve a confus\u00e3o. O certo \u00e9 que j\u00e1 est\u00e1 marcado o terceiro encontro, que \u00e9 mais uma badala\u00e7\u00e3o entre a galera, ou melhor, como diz a pr\u00f3pria p\u00e1gina, \u00e9 s\u00f3 um Rol\u00eazinho Parte 3. Tudo come\u00e7ou na semana passado, no domingo (1), com o Vuuk no Shopping Itaquera.\n"
       ]
      },
      {
       "output_type": "stream",
       "stream": "stderr",
       "text": [
        "/usr/local/lib/python2.7/dist-packages/readability/htmls.py:107: FutureWarning: The behavior of this method will change in future versions. Use specific 'len(elem)' or 'elem is not None' test instead.\n",
        "  raw_html = unicode(tostring(doc.body or doc))\n"
       ]
      }
     ],
     "prompt_number": 15
    },
    {
     "cell_type": "code",
     "collapsed": false,
     "input": [
      "import pandas as pd\n",
      "\n",
      "\n",
      "\n",
      "new_comps = []\n",
      "for comp in comps:\n",
      "    new_comp = {}\n",
      "    new_comp = { 'downloads_id': comp['downloads_id'] }\n",
      "    #del comp['downloads_id']\n",
      "    \n",
      "    extractor_types = [ k for k in comp.keys() if k != 'downloads_id' ]\n",
      "    \n",
      "    for extractor_type in extractor_types:\n",
      "        new_comp.update([ ( k + '_' + extractor_type , v) for k,v in comp[ extractor_type ].iteritems() ])\n",
      "        #new_comp[ k + 'boiler_pipe      \n",
      "\n",
      "    new_comps.append( new_comp )\n",
      "    \n",
      "new_comps\n",
      "df = pd.DataFrame( new_comps )\n",
      "df.set_index('downloads_id', inplace=True )\n",
      "df.describe(percentiles=[.5] )\n",
      "result_types = [ 'precision', 'recall', 'f1' ]\n",
      "for result_type in result_types:\n",
      "    res_columns = [ col for col in df.columns if col.startswith( result_type ) ]\n",
      "    #df.ix[:,['f1_boiler_pipe',\t'f1_crf',\t'f1_heur', 'f1_python_readibilty']].describe()\n",
      "    print df.ix[:,res_columns].describe( percentiles=[0.5])\n",
      "#df.describe()"
     ],
     "language": "python",
     "metadata": {},
     "outputs": [
      {
       "output_type": "stream",
       "stream": "stdout",
       "text": [
        "       precision_boiler_pipe  precision_crf  precision_heur  \\\n",
        "count              71.000000      71.000000       71.000000   \n",
        "mean                0.742080       0.806888        0.771774   \n",
        "std                 0.223402       0.324373        0.254690   \n",
        "min                 0.026814       0.007904        0.012282   \n",
        "50%                 0.779854       0.980583        0.874618   \n",
        "max                 0.987685       1.000000        1.000000   \n",
        "\n",
        "       precision_python_readibilty  \n",
        "count                    71.000000  \n",
        "mean                      0.930349  \n",
        "std                       0.196960  \n",
        "min                       0.025641  \n",
        "50%                       0.992288  \n",
        "max                       1.000000  \n",
        "       recall_boiler_pipe  recall_crf  recall_heur  recall_python_readibilty\n",
        "count           71.000000   71.000000    71.000000                 71.000000\n",
        "mean             0.838935    0.651506     0.911077                  0.933997\n",
        "std              0.222233    0.422428     0.189723                  0.191464\n",
        "min              0.018182    0.005300     0.011364                  0.011364\n",
        "50%              0.859848    0.966851     0.955882                  0.984725\n",
        "max              1.000000    1.000000     1.000000                  1.000000\n",
        "       f1_boiler_pipe     f1_crf    f1_heur  f1_python_readibilty\n",
        "count       71.000000  71.000000  71.000000             71.000000\n",
        "mean         0.779961   0.667313   0.818899              0.929714\n",
        "std          0.219241   0.398404   0.222527              0.194954\n",
        "min          0.025932   0.010471   0.017513              0.017857\n",
        "50%          0.815126   0.937634   0.898824              0.982012\n",
        "max          0.991304   1.000000   0.991525              1.000000\n"
       ]
      }
     ],
     "prompt_number": 335
    },
    {
     "cell_type": "code",
     "collapsed": false,
     "input": [
      "df.describe()"
     ],
     "language": "python",
     "metadata": {},
     "outputs": [
      {
       "html": [
        "<div style=\"max-height:1000px;max-width:1500px;overflow:auto;\">\n",
        "<table border=\"1\" class=\"dataframe\">\n",
        "  <thead>\n",
        "    <tr style=\"text-align: right;\">\n",
        "      <th></th>\n",
        "      <th>f1_boiler_pipe</th>\n",
        "      <th>f1_crf</th>\n",
        "      <th>f1_heur</th>\n",
        "      <th>f1_python_readibilty</th>\n",
        "      <th>precision_boiler_pipe</th>\n",
        "      <th>precision_crf</th>\n",
        "      <th>precision_heur</th>\n",
        "      <th>precision_python_readibilty</th>\n",
        "      <th>recall_boiler_pipe</th>\n",
        "      <th>recall_crf</th>\n",
        "      <th>recall_heur</th>\n",
        "      <th>recall_python_readibilty</th>\n",
        "    </tr>\n",
        "  </thead>\n",
        "  <tbody>\n",
        "    <tr>\n",
        "      <th>count</th>\n",
        "      <td> 71.000000</td>\n",
        "      <td> 71.000000</td>\n",
        "      <td> 71.000000</td>\n",
        "      <td> 71.000000</td>\n",
        "      <td> 71.000000</td>\n",
        "      <td> 71.000000</td>\n",
        "      <td> 71.000000</td>\n",
        "      <td> 71.000000</td>\n",
        "      <td> 71.000000</td>\n",
        "      <td> 71.000000</td>\n",
        "      <td> 71.000000</td>\n",
        "      <td> 71.000000</td>\n",
        "    </tr>\n",
        "    <tr>\n",
        "      <th>mean</th>\n",
        "      <td>  0.779961</td>\n",
        "      <td>  0.667313</td>\n",
        "      <td>  0.818899</td>\n",
        "      <td>  0.929714</td>\n",
        "      <td>  0.742080</td>\n",
        "      <td>  0.806888</td>\n",
        "      <td>  0.771774</td>\n",
        "      <td>  0.930349</td>\n",
        "      <td>  0.838935</td>\n",
        "      <td>  0.651506</td>\n",
        "      <td>  0.911077</td>\n",
        "      <td>  0.933997</td>\n",
        "    </tr>\n",
        "    <tr>\n",
        "      <th>std</th>\n",
        "      <td>  0.219241</td>\n",
        "      <td>  0.398404</td>\n",
        "      <td>  0.222527</td>\n",
        "      <td>  0.194954</td>\n",
        "      <td>  0.223402</td>\n",
        "      <td>  0.324373</td>\n",
        "      <td>  0.254690</td>\n",
        "      <td>  0.196960</td>\n",
        "      <td>  0.222233</td>\n",
        "      <td>  0.422428</td>\n",
        "      <td>  0.189723</td>\n",
        "      <td>  0.191464</td>\n",
        "    </tr>\n",
        "    <tr>\n",
        "      <th>min</th>\n",
        "      <td>  0.025932</td>\n",
        "      <td>  0.010471</td>\n",
        "      <td>  0.017513</td>\n",
        "      <td>  0.017857</td>\n",
        "      <td>  0.026814</td>\n",
        "      <td>  0.007904</td>\n",
        "      <td>  0.012282</td>\n",
        "      <td>  0.025641</td>\n",
        "      <td>  0.018182</td>\n",
        "      <td>  0.005300</td>\n",
        "      <td>  0.011364</td>\n",
        "      <td>  0.011364</td>\n",
        "    </tr>\n",
        "    <tr>\n",
        "      <th>25%</th>\n",
        "      <td>  0.736089</td>\n",
        "      <td>  0.229431</td>\n",
        "      <td>  0.782332</td>\n",
        "      <td>  0.960895</td>\n",
        "      <td>  0.673654</td>\n",
        "      <td>  0.785115</td>\n",
        "      <td>  0.681252</td>\n",
        "      <td>  0.964658</td>\n",
        "      <td>  0.828670</td>\n",
        "      <td>  0.134418</td>\n",
        "      <td>  0.925969</td>\n",
        "      <td>  0.961517</td>\n",
        "    </tr>\n",
        "    <tr>\n",
        "      <th>50%</th>\n",
        "      <td>  0.815126</td>\n",
        "      <td>  0.937634</td>\n",
        "      <td>  0.898824</td>\n",
        "      <td>  0.982012</td>\n",
        "      <td>  0.779854</td>\n",
        "      <td>  0.980583</td>\n",
        "      <td>  0.874618</td>\n",
        "      <td>  0.992288</td>\n",
        "      <td>  0.859848</td>\n",
        "      <td>  0.966851</td>\n",
        "      <td>  0.955882</td>\n",
        "      <td>  0.984725</td>\n",
        "    </tr>\n",
        "    <tr>\n",
        "      <th>75%</th>\n",
        "      <td>  0.924878</td>\n",
        "      <td>  0.984706</td>\n",
        "      <td>  0.958600</td>\n",
        "      <td>  0.992088</td>\n",
        "      <td>  0.888008</td>\n",
        "      <td>  1.000000</td>\n",
        "      <td>  0.956237</td>\n",
        "      <td>  1.000000</td>\n",
        "      <td>  0.979080</td>\n",
        "      <td>  0.996386</td>\n",
        "      <td>  0.983001</td>\n",
        "      <td>  0.994655</td>\n",
        "    </tr>\n",
        "    <tr>\n",
        "      <th>max</th>\n",
        "      <td>  0.991304</td>\n",
        "      <td>  1.000000</td>\n",
        "      <td>  0.991525</td>\n",
        "      <td>  1.000000</td>\n",
        "      <td>  0.987685</td>\n",
        "      <td>  1.000000</td>\n",
        "      <td>  1.000000</td>\n",
        "      <td>  1.000000</td>\n",
        "      <td>  1.000000</td>\n",
        "      <td>  1.000000</td>\n",
        "      <td>  1.000000</td>\n",
        "      <td>  1.000000</td>\n",
        "    </tr>\n",
        "  </tbody>\n",
        "</table>\n",
        "</div>"
       ],
       "metadata": {},
       "output_type": "pyout",
       "prompt_number": 317,
       "text": [
        "       f1_boiler_pipe     f1_crf    f1_heur  f1_python_readibilty  \\\n",
        "count       71.000000  71.000000  71.000000             71.000000   \n",
        "mean         0.779961   0.667313   0.818899              0.929714   \n",
        "std          0.219241   0.398404   0.222527              0.194954   \n",
        "min          0.025932   0.010471   0.017513              0.017857   \n",
        "25%          0.736089   0.229431   0.782332              0.960895   \n",
        "50%          0.815126   0.937634   0.898824              0.982012   \n",
        "75%          0.924878   0.984706   0.958600              0.992088   \n",
        "max          0.991304   1.000000   0.991525              1.000000   \n",
        "\n",
        "       precision_boiler_pipe  precision_crf  precision_heur  \\\n",
        "count              71.000000      71.000000       71.000000   \n",
        "mean                0.742080       0.806888        0.771774   \n",
        "std                 0.223402       0.324373        0.254690   \n",
        "min                 0.026814       0.007904        0.012282   \n",
        "25%                 0.673654       0.785115        0.681252   \n",
        "50%                 0.779854       0.980583        0.874618   \n",
        "75%                 0.888008       1.000000        0.956237   \n",
        "max                 0.987685       1.000000        1.000000   \n",
        "\n",
        "       precision_python_readibilty  recall_boiler_pipe  recall_crf  \\\n",
        "count                    71.000000           71.000000   71.000000   \n",
        "mean                      0.930349            0.838935    0.651506   \n",
        "std                       0.196960            0.222233    0.422428   \n",
        "min                       0.025641            0.018182    0.005300   \n",
        "25%                       0.964658            0.828670    0.134418   \n",
        "50%                       0.992288            0.859848    0.966851   \n",
        "75%                       1.000000            0.979080    0.996386   \n",
        "max                       1.000000            1.000000    1.000000   \n",
        "\n",
        "       recall_heur  recall_python_readibilty  \n",
        "count    71.000000                 71.000000  \n",
        "mean      0.911077                  0.933997  \n",
        "std       0.189723                  0.191464  \n",
        "min       0.011364                  0.011364  \n",
        "25%       0.925969                  0.961517  \n",
        "50%       0.955882                  0.984725  \n",
        "75%       0.983001                  0.994655  \n",
        "max       1.000000                  1.000000  "
       ]
      }
     ],
     "prompt_number": 317
    },
    {
     "cell_type": "code",
     "collapsed": false,
     "input": [
      "res = compare_extractors_for_download( 461179954 )\n",
      "res"
     ],
     "language": "python",
     "metadata": {},
     "outputs": [
      {
       "output_type": "stream",
       "stream": "stdout",
       "text": [
        "[190, 191, 192, 193, 194, 195, 196, 197]\n",
        "[190, 191, 192, 193, 194, 195, 196, 197, 953, 954, 955, 956, 957, 958, 959, 960, 961, 962, 1157, 1158, 1159, 1160, 1161, 1162, 1163, 1172, 1174, 1175, 1176, 1177, 1178, 1179, 1180, 1189, 1191, 1192, 1193, 1194, 1195, 1306, 1307, 1308, 1309, 1310, 1311, 1312, 1313, 1314, 1315, 2402, 2403, 2404, 2405, 2406, 2407, 2408, 2409, 2410, 2411, 2412, 2769, 2770, 2771, 2772, 2773, 2774, 2775, 2776, 2777, 2778, 2779, 2780, 2781, 2782, 2783, 2784, 2785, 3503, 3504, 3505, 3506, 3507, 3508, 3509, 3510, 3569, 3570, 3571, 3572, 3573]\n",
        "[181, 182, 190, 191, 192, 193, 194, 195, 196, 197]"
       ]
      },
      {
       "output_type": "stream",
       "stream": "stdout",
       "text": [
        "\n",
        "original article tmp file "
       ]
      },
      {
       "output_type": "stream",
       "stream": "stdout",
       "text": [
        " /tmp/tmpVExhfC.html\n",
        "/tmp/tmp_pe2pp.html\n",
        "/tmp/tmpVExhfC.html\n",
        "/tmp/tmpVExhfC.html\n",
        "Now open file:///tmp/tmp_pe2pp.html in your web browser\n"
       ]
      },
      {
       "output_type": "stream",
       "stream": "stdout",
       "text": [
        "\n"
       ]
      },
      {
       "metadata": {},
       "output_type": "pyout",
       "prompt_number": 18,
       "text": [
        "{'boiler_pipe': 173783,\n",
        " 'crf': 21819,\n",
        " 'downloads_id': 461179954,\n",
        " 'heur': 83,\n",
        " 'python_readibilty': 3973}"
       ]
      }
     ],
     "prompt_number": 18
    },
    {
     "cell_type": "code",
     "collapsed": false,
     "input": [
      "def gen_data(downloads_id, included_line_numbers):\n",
      "    \n",
      "    heuristic_training_ip = []\n",
      "    c_t_ip = []\n",
      "    h_t_ip = []\n",
      "    \n",
      "    try:\n",
      "        \n",
      "        #api_key = ''\n",
      "        loc_key = api_key\n",
      "    \n",
      "        download = requests.get('https://api.mediacloud.org/api/v2/downloads/single/'+str(downloads_id)+'?key='+api_key)\n",
      "        raw_content = download.json()[0][u'raw_content']\n",
      "        stories_id = download.json()[0][u'stories_id']\n",
      "    \n",
      "        story = requests.get('https://api.mediacloud.org/api/v2/stories/single/'+str(stories_id)+'?key='+api_key)\n",
      "        title = story.json()[0][u'title']\n",
      "        description = story.json()[0][u'description']\n",
      "        url = story.json()[0][u'url']\n",
      "\n",
      "        story_lines_params = {'key':loc_key, 'body_html':raw_content}\n",
      "        \n",
      "        headers = {'Content-type': 'application/json'}\n",
      "        story_lines = requests.put('https://api.mediacloud.org/api/v2/extractlines/story_lines',data=story_lines_params, headers=headers)\n",
      "\n",
      "        #story_lines = requests.get('https://api.mediacloud.org/api/v2/extractlines/story_lines',params=story_lines_params)\n",
      "        \n",
      "        preprocessed_lines = story_lines.text\n",
      "\n",
      "        heur_extract_params = {'key':loc_key, 'preprocessed_lines':preprocessed_lines, 'story_title':title, 'story_description':description, 'extractor_method':'HeuristicExtractor'}\n",
      "        heur_extract = requests.get('https://api.mediacloud.org/api/v2/extractlines/extract',params=heur_extract_params)\n",
      "\n",
      "        crf_extract_params = {'key':loc_key, 'preprocessed_lines':preprocessed_lines, 'story_title':title, 'story_description':description, 'extractor_method':'CrfExtractor'}\n",
      "        crf_extract = requests.get('https://api.mediacloud.org/api/v2/extractlines/extract',params=crf_extract_params)\n",
      "\n",
      "        for ln, hscore in enumerate(heur_extract.json()[u'scores']):\n",
      "\n",
      "            t = 1 if str(ln) in included_line_numbers else 0\n",
      "\n",
      "            if hscore[u'autoexcluded'] != 1:\n",
      "                h_t_ip.append( (t, hscore[u'include_probability']) )\n",
      "\n",
      "            cscore = crf_extract.json()[u'scores'][ln]\n",
      "            if u'autoexcluded' not in cscore:\n",
      "                c_t_ip.append( (t, cscore[u'include_probability']) ) \n",
      "    \n",
      "    except Exception as e:\n",
      "        \n",
      "        pass\n",
      "\n",
      "    return h_t_ip, c_t_ip"
     ],
     "language": "python",
     "metadata": {},
     "outputs": [],
     "prompt_number": 19
    },
    {
     "cell_type": "code",
     "collapsed": false,
     "input": [
      "import mediacloud, requests, csv, sys, os, json, cPickle\n",
      "from pyroc import *\n",
      "\n",
      "#extractor_training_lines_checked has the training lines for downloads for which the highest line listed as 'included' was less than the number of lines in the download (max(included_line_numbers) < len(story_lines.json()))\n",
      "f = open(\"extractor_training_lines_checked.json\").read()\n",
      "reader = json.loads(f)\n",
      "heur = []\n",
      "cPickle.dump(heur, open(\"heur.p\", \"wb\"))\n",
      "crf = []\n",
      "cPickle.dump(crf, open(\"crf.p\", \"wb\"))\n",
      "done = []\n",
      "cPickle.dump(done, open(\"done.p\", \"wb\"))\n",
      "\n",
      "for row in reader[:30]:\n",
      "    \n",
      "    did = row[u'downloads_id']\n",
      "    lns = row[u'included_line_numbers']\n",
      "    \n",
      "    curh, curc = gen_data(did, lns)\n",
      "    \n",
      "    heur+=curh\n",
      "    crf+=curc\n",
      "    done.append(did)\n",
      "    \n",
      "cPickle.dump(done, open(\"done.p\", \"wb\"))\n",
      "cPickle.dump(heur, open(\"heur.p\", \"wb\"))\n",
      "cPickle.dump(crf, open(\"crf.p\", \"wb\"))"
     ],
     "language": "python",
     "metadata": {},
     "outputs": [],
     "prompt_number": 20
    },
    {
     "cell_type": "code",
     "collapsed": false,
     "input": [
      "import cPickle\n",
      "from pyroc import *\n",
      "\n",
      "heur = cPickle.load(open(\"heur.p\",\"rb\"))\n",
      "crf = cPickle.load(open(\"crf.p\",\"rb\"))\n",
      "\n",
      "rocheur = ROCData(heur)\n",
      "roccrf = ROCData(crf)\n",
      "\n",
      "\n",
      "print rocheur.auc()\n",
      "\n",
      "plot_multiple_roc(rocList=(rocheur,roccrf), title='Extractor ROC Curve', labels=(\"heuristic curve\",\"crf curve\"))"
     ],
     "language": "python",
     "metadata": {},
     "outputs": [
      {
       "output_type": "stream",
       "stream": "stdout",
       "text": [
        "0.0\n"
       ]
      },
      {
       "metadata": {},
       "output_type": "display_data",
       "png": "[encoded data removed]",
       "text": [
        "<matplotlib.figure.Figure at 0x7f6cfabcb610>"
       ]
      }
     ],
     "prompt_number": 21
    }
   ],
   "metadata": {}
  }
 ]
}