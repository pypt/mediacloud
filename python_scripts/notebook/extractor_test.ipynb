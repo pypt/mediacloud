{
 "metadata": {
  "name": "",
  "signature": "sha256:385a693482374c03d1400f9b6b7922a2f7c702222cfe76e6c393fbfca777bdbf"
 },
 "nbformat": 3,
 "nbformat_minor": 0,
 "worksheets": [
  {
   "cells": [
    {
     "cell_type": "heading",
     "level": 1,
     "metadata": {},
     "source": [
      "Extractor evaluation"
     ]
    },
    {
     "cell_type": "markdown",
     "metadata": {},
     "source": [
      "This notebook evaluates both Media Cloud's internal extractors and third party FLOSS extractor libraries across a corpus of hand annotated articles.\n",
      "\n",
      "Readers may wish to skip to the results section at the end."
     ]
    },
    {
     "cell_type": "heading",
     "level": 2,
     "metadata": {},
     "source": [
      "Set up / Methods"
     ]
    },
    {
     "cell_type": "code",
     "collapsed": false,
     "input": [
      "import cPickle\n",
      "import os.path\n",
      "\n",
      "api_key = cPickle.load( file( os.path.expanduser( '~/mediacloud_api_key.pickle' ), 'r' ) )"
     ],
     "language": "python",
     "metadata": {},
     "outputs": [],
     "prompt_number": 1
    },
    {
     "cell_type": "code",
     "collapsed": false,
     "input": [
      "import cPickle\n",
      "import os.path\n",
      "\n",
      "cPickle.dump( api_key, file( os.path.expanduser( '~/mediacloud_api_key.pickle' ), 'wb' ) )"
     ],
     "language": "python",
     "metadata": {},
     "outputs": [],
     "prompt_number": 2
    },
    {
     "cell_type": "code",
     "collapsed": false,
     "input": [
      "import sys\n",
      "sys.path.append('../../foreign_modules/python/')"
     ],
     "language": "python",
     "metadata": {},
     "outputs": [],
     "prompt_number": 3
    },
    {
     "cell_type": "code",
     "collapsed": false,
     "input": [
      "loc_key = 'f66a50230d54afaf18822808aed649f1d6ca72b08fb06d5efb6247afe9fbae52'"
     ],
     "language": "python",
     "metadata": {},
     "outputs": [],
     "prompt_number": 4
    },
    {
     "cell_type": "code",
     "collapsed": false,
     "input": [
      "import mediacloud, requests, csv, sys, os, json, cPickle\n",
      "\n",
      "def get_download( downloads_id ):\n",
      "    download = requests.get('https://api.mediacloud.org/api/v2/downloads/single/'+str(downloads_id)+'?key='+api_key)\n",
      "    return download.json()[0]\n",
      "\n",
      "def extract_story( preprocessed_lines, title, description, extractor_method ):\n",
      "    extract_params = {'key':loc_key, 'preprocessed_lines':preprocessed_lines, \n",
      "                           'story_title':title, 'story_description':description, 'extractor_method': extractor_method}\n",
      "    \n",
      "    extract_result = requests.put('http://0:3000/api/v2/extractlines/extract',data=json.dumps(extract_params), \n",
      "                                headers = {'Content-type': 'application/json'})\n",
      "    \n",
      "    extract_result.raise_for_status()\n",
      "    return extract_result.json()\n",
      "\n",
      "def get_story_lines( raw_content ):\n",
      "    story_lines_params = {'key':loc_key, 'body_html':raw_content }\n",
      "    headers = {'Content-type': 'application/json'}\n",
      "    story_lines = requests.put('http://0:3000/api/v2/extractlines/story_lines',data=json.dumps(story_lines_params), \n",
      "                               params={ 'key': loc_key },headers=headers)\n",
      "    \n",
      "    story_lines.raise_for_status()\n",
      "    \n",
      "    return story_lines"
     ],
     "language": "python",
     "metadata": {},
     "outputs": [],
     "prompt_number": 5
    },
    {
     "cell_type": "code",
     "collapsed": false,
     "input": [
      "import subprocess\n",
      "import tempfile\n",
      "import codecs\n",
      "import time\n",
      "from lxml import html\n",
      "\n",
      "#download = get_download( downloads_id )\n",
      "#raw_content = download[u'raw_content']\n",
      "\n",
      "def extract_with_boilerpipe( raw_content ):\n",
      "    with tempfile.NamedTemporaryFile( suffix='.html', delete=False ) as t:\n",
      "        #print t.name\n",
      "    \n",
      "        UTF8Writer = codecs.getwriter('utf8')\n",
      "        t.file = UTF8Writer(t.file)\n",
      "        t.file.write( raw_content )\n",
      "    \n",
      "        t.close()\n",
      "        #time.sleep( 2 )\n",
      "        #print \"original article tmp file \", t.name\n",
      "        \n",
      "        #input_file = '/tmp/416655019.htm'\n",
      "        input_file = t.name\n",
      "        \n",
      "        output_tmp = tempfile.NamedTemporaryFile( suffix='.html', delete=False )\n",
      "        \n",
      "        output_file = output_tmp.name\n",
      "        #output_file = '/tmp/highlighted.html'\n",
      "        #print output_file\n",
      "        \n",
      "        subprocess.check_output(['java', '-jar',\n",
      "                               '/home/dlarochelle/dev_scratch/boilerpipe_test/out/artifacts/boilerpipe_test_jar/boilerpipe_test.jar',\n",
      "                               input_file, output_file ] )\n",
      "        f = open( output_file, 'rb' )\n",
      "        \n",
      "        annotated_file_str = f.read()\n",
      "        \n",
      "        #t.unlink( t.name )\n",
      "        output_tmp.close()\n",
      "        #output_tmp.unlink( output_tmp.name )\n",
      "\n",
      "    tree = html.fromstring( annotated_file_str )   \n",
      "    spans = tree.xpath('//span[@class=\"x-boilerpipe-mark1\"]')\n",
      "    boiler_pipe_lines = [ etree.tostring(s) for s in spans ]\n",
      "\n",
      "    ret = { 'extracted_html': boiler_pipe_lines }\n",
      "    return ret\n",
      "\n"
     ],
     "language": "python",
     "metadata": {},
     "outputs": [],
     "prompt_number": 6
    },
    {
     "cell_type": "code",
     "collapsed": false,
     "input": [
      "#f = open( '/tmp/tmp01CV6F.html' )\n",
      "#annotated_file_str = f.read()\n",
      "#tree = html.fromstring( annotated_file_str )   \n",
      "#spans = tree.xpath('//span[@class=\"x-boilerpipe-mark1\"]')\n",
      "#span = spans[0]\n",
      "#etree.tostring( span )"
     ],
     "language": "python",
     "metadata": {},
     "outputs": [],
     "prompt_number": 7
    },
    {
     "cell_type": "code",
     "collapsed": false,
     "input": [
      "import readability\n",
      "\n",
      "def extract_with_python_readability( raw_content ):\n",
      "    doc = readability.Document( raw_content )\n",
      "    \n",
      "    return [ doc.short_title(),\n",
      "             doc.summary() ]"
     ],
     "language": "python",
     "metadata": {},
     "outputs": [],
     "prompt_number": 8
    },
    {
     "cell_type": "code",
     "collapsed": true,
     "input": [
      "import goose\n",
      "\n",
      "def extract_with_python_goose( raw_content ):\n",
      "    g = goose.Goose()\n",
      "    \n",
      "    r = g.extract( raw_html=raw_content )\n",
      "    return [r.title, r.cleaned_text ]"
     ],
     "language": "python",
     "metadata": {},
     "outputs": [],
     "prompt_number": 9
    },
    {
     "cell_type": "code",
     "collapsed": false,
     "input": [
      "import justext\n",
      "\n",
      "def extract_with_justext( raw_content ):\n",
      "    ret = []\n",
      "    \n",
      "    paragraphs = justext.justext( raw_content, justext.get_stoplist('English') )\n",
      "    \n",
      "    #p = paragraphs[0]\n",
      "    for p in paragraphs:\n",
      "        if not p.is_boilerplate:\n",
      "            ret.append(p.text)\n",
      "            \n",
      "    return ret\n",
      "\n",
      "#extract_with_justext( raw_content )\n",
      "#raw_html\n",
      "\n",
      "#justext.get_stoplists()"
     ],
     "language": "python",
     "metadata": {},
     "outputs": [],
     "prompt_number": 10
    },
    {
     "cell_type": "code",
     "collapsed": false,
     "input": [
      "import operator\n",
      "\n",
      "def get_extractor_training_text( downloads_id, preprocessed_lines ):\n",
      "    extractor_training_lines_result = requests.get(\n",
      "                                                   'https://api.mediacloud.org/api/v2/extractlines/extractor_training_lines/' + str(downloads_id),\n",
      "                                               headers = {'Content-type': 'application/json'}\n",
      "                                               , params= {'key': api_key}\n",
      "                                               )\n",
      "\n",
      "    extractor_training_lines_result.raise_for_status()\n",
      "\n",
      "    extractor_training_lines_result = extractor_training_lines_result.json()\n",
      "    \n",
      "    line_numbers = [ x['line_number'] for x in extractor_training_lines_result ]\n",
      "    \n",
      "    line_numbers = sorted(line_numbers)\n",
      "    \n",
      "    line_numbers.sort()\n",
      "    \n",
      "    #print line_numbers\n",
      "    \n",
      "    return operator.itemgetter( * line_numbers )( preprocessed_lines  )\n",
      "\n",
      "import operator\n",
      "\n",
      "def get_extracted_text( extractor_results ):\n",
      "    included_line_numbers = extractor_results['included_line_numbers']\n",
      "    #print included_line_numbers\n",
      "    \n",
      "    dl = extractor_results['download_lines']\n",
      "   \n",
      "    if len( included_line_numbers ) == 0:\n",
      "        return []\n",
      "    else:    \n",
      "        return operator.itemgetter( * extractor_results['included_line_numbers']   )(dl)\n",
      "    \n"
     ],
     "language": "python",
     "metadata": {},
     "outputs": [],
     "prompt_number": 11
    },
    {
     "cell_type": "code",
     "collapsed": false,
     "input": [
      "#import Levenshtein\n",
      "\n",
      "def lines_to_comparable_text( lines ):\n",
      "    text = u\"\\n\\n\".join([ clean_for_comparison(line) for line in lines ])\n",
      "    \n",
      "    if text == '':\n",
      "        text = u''\n",
      "        \n",
      "    return text\n",
      "\n",
      "#def compare_accuracy( lines, lines_expected ):\n",
      "#    return Levenshtein.distance( lines_to_comparable_text( lines ) , lines_to_comparable_text( lines_expected ) )"
     ],
     "language": "python",
     "metadata": {},
     "outputs": [],
     "prompt_number": 12
    },
    {
     "cell_type": "code",
     "collapsed": false,
     "input": [
      "def get_anncestors( element ):\n",
      "    anncestors = [ element ];\n",
      "    anncestor = element.getparent()\n",
      "    \n",
      "    while anncestor != None :\n",
      "        #print 'loop'\n",
      "        anncestors.append( anncestor )\n",
      "        anncestor = anncestor.getparent()\n",
      "        \n",
      "    return anncestors"
     ],
     "language": "python",
     "metadata": {},
     "outputs": [],
     "prompt_number": 13
    },
    {
     "cell_type": "code",
     "collapsed": false,
     "input": [
      "def text_from_lxml_object( obj):\n",
      "    if type(obj) is etree._ElementStringResult:\n",
      "        return u'' + obj\n",
      "    if type(obj) ==  etree._ElementUnicodeResult:\n",
      "        return u'' + obj \n",
      "    else:\n",
      "        try:\n",
      "            return etree.tostring( obj , method='text', encoding=\"UTF-8\") \n",
      "        except:\n",
      "            print type(obj)\n",
      "            print obj\n",
      "            \n",
      "            raise ''"
     ],
     "language": "python",
     "metadata": {},
     "outputs": [],
     "prompt_number": 14
    },
    {
     "cell_type": "code",
     "collapsed": false,
     "input": [
      "from lxml import etree\n",
      "\n",
      "downloads_id =  582817308 \n",
      "download = get_download( downloads_id )\n",
      "raw_content = download[ 'raw_content' ]\n",
      "with open( '/tmp/' + str(downloads_id) , 'wb' ) as f:\n",
      "    f.write( raw_content )\n"
     ],
     "language": "python",
     "metadata": {},
     "outputs": [],
     "prompt_number": 15
    },
    {
     "cell_type": "code",
     "collapsed": false,
     "input": [
      "from nltk import tokenize\n",
      "\n",
      "def remove_duplicate_sentences( text_lines, story ):\n",
      "    comp_text = lines_to_comparable_text( text_lines )\n",
      "    sentences = [ sent.strip()  for sent in tokenize.sent_tokenize( comp_text ) ]\n",
      "    #print sentences\n",
      "    non_duplicate_sentences = [sentence for sentence in sentences if not sentence_is_duplicate( sentence, story ) ] \n",
      "    return u\"\\n\".join( non_duplicate_sentences )\n",
      " "
     ],
     "language": "python",
     "metadata": {},
     "outputs": [],
     "prompt_number": 16
    },
    {
     "cell_type": "code",
     "collapsed": false,
     "input": [
      "def text_children( element):\n",
      "    ret =  [ t for t in element.xpath(\"//text()\" ) if t.getparent() == element ]\n",
      "    assert len( ret ) <= 2\n",
      "    \n",
      "    if len( ret ) == 2:\n",
      "        assert ret[0].is_text\n",
      "        assert ret[1].is_tail\n",
      "    \n",
      "    for r in ret:\n",
      "        if r.is_text:\n",
      "            assert element.text == r\n",
      "        else:\n",
      "            assert r.is_tail\n",
      "            assert element.tail == r\n",
      "            \n",
      "    return ret"
     ],
     "language": "python",
     "metadata": {},
     "outputs": [],
     "prompt_number": 17
    },
    {
     "cell_type": "code",
     "collapsed": false,
     "input": [
      "def html_strip( str ):\n",
      "    if str.isspace() or str == '':\n",
      "        return u' '\n",
      "    \n",
      "    if str == '<':\n",
      "        return u' '        \n",
      "    \n",
      "    try:\n",
      "        return html.fromstring(str).text_content()    \n",
      "    except:\n",
      "        print \"Unexpected error on string '\" + str + \"'\" , sys.exc_info()[0]\n",
      "        #raise\n",
      "        return u''       \n",
      "\n",
      "def clean_for_comparison( str ):\n",
      "    if len(str) > 0:\n",
      "        ret = html_strip( str )\n",
      "    else:\n",
      "        return str\n",
      "    \n",
      "    return ret    "
     ],
     "language": "python",
     "metadata": {},
     "outputs": [],
     "prompt_number": 18
    },
    {
     "cell_type": "code",
     "collapsed": false,
     "input": [
      "def extract_with_mc_extractor( eto, method ):\n",
      "    story = eto['story']\n",
      "    preprocessed_lines = eto['preprocessed_lines']\n",
      "    title = story[u'title']\n",
      "    description = story[u'description']\n",
      "    \n",
      "    extract_result = extract_story( preprocessed_lines, title, description, 'HeuristicExtractor')\n",
      "    html_lines = get_extracted_text( extract_result )\n",
      "    \n",
      "    ret = {}\n",
      "    \n",
      "    ret['extracted_html'] = html_lines\n",
      "    \n",
      "    return ret\n",
      "\n",
      "def extract_with_heur( eto ):\n",
      "    return extract_with_mc_extractor( eto, 'HeuristicExtractor' )\n",
      "\n",
      "def extract_with_crf( eto ):\n",
      "    return extract_with_mc_extractor( eto, 'CrfExtractor' )"
     ],
     "language": "python",
     "metadata": {},
     "outputs": [],
     "prompt_number": 19
    },
    {
     "cell_type": "code",
     "collapsed": false,
     "input": [
      "import difflib\n",
      "from IPython.display import HTML\n",
      "\n",
      "from collections import Counter\n",
      "\n",
      "def ratcliff_obershelp_compare( actual_text, expected_text ):\n",
      "    \n",
      "    words_expected = actual_text.split()\n",
      "    words_crf      = expected_text.split()\n",
      "    \n",
      "    differ = difflib.Differ( )\n",
      "    \n",
      "    #print words_crf[:10]\n",
      "    #print words_expected[:10]\n",
      "    list( differ.compare( words_crf , words_expected ) )\n",
      "    counts = Counter([ d[0] for d in differ.compare( words_expected, words_crf   ) ])\n",
      "    \n",
      "    tp = counts[' ']\n",
      "    fp = counts['+']\n",
      "    fn = counts['-']\n",
      "    \n",
      "    if float(tp+fp) == 0:\n",
      "        precision = 0.0\n",
      "    else:\n",
      "        precision = tp/float(tp+fp)\n",
      "        \n",
      "    if float( tp + fn ) == 0:\n",
      "        recall = 0\n",
      "    else:\n",
      "        recall    = tp/float( tp + fn )\n",
      "    \n",
      "    if ( precision + recall ) > 0:\n",
      "        f1 = 2*(precision*recall)/( precision + recall )\n",
      "    else:\n",
      "        f1 = 0\n",
      "    \n",
      "    ret = { 'precision': precision,\n",
      "        'recall': recall,\n",
      "        'f1': f1\n",
      "    }\n",
      "    \n",
      "    return ret\n",
      "\n",
      "def compare_with_expected( extractor_name, actual_text, expected_text, story ):\n",
      "    #actual_text = lines_to_comparable_text( actual_lines )\n",
      "    #expected_text = lines_to_comparable_text( expected_lines )\n",
      "    ret = {}\n",
      "    ret[ extractor_name ] = ratcliff_obershelp_compare( actual_text, expected_text )\n",
      "    \n",
      "    #dedup_text = remove_duplicate_sentences( actual_lines, story )\n",
      "    \n",
      "    #ret[ extractor_name + \"_dedup\" ] = ratcliff_obershelp_compare( dedup_text, expected_text )\n",
      "    \n",
      "    return ret"
     ],
     "language": "python",
     "metadata": {},
     "outputs": [],
     "prompt_number": 20
    },
    {
     "cell_type": "code",
     "collapsed": false,
     "input": [
      "def get_extraction_results( eto ):\n",
      "\n",
      "    raw_content = eto[ 'raw_content' ]\n",
      "    \n",
      "    ret = {}\n",
      "    \n",
      "    ret['heur'] = extract_with_heur( eto )\n",
      "    ret['crf'] = extract_with_crf( eto )\n",
      "    ret['boiler_pipe'] =   extract_with_boilerpipe( raw_content)\n",
      "    ret['python_readibilty'] = { 'extracted_html': extract_with_python_readability( raw_content ) }\n",
      "    ret['py_goose']  = { 'extracted_html': extract_with_python_goose( raw_content ) }\n",
      "    ret['justext'] =  { 'extracted_html': extract_with_justext( raw_content ) }\n",
      "    \n",
      "    for method, result in ret.iteritems():\n",
      "        if 'extracted_text' not in result:\n",
      "            result['extracted_text'] = lines_to_comparable_text( result['extracted_html' ] )\n",
      "            \n",
      "    return ret"
     ],
     "language": "python",
     "metadata": {},
     "outputs": [],
     "prompt_number": 21
    },
    {
     "cell_type": "code",
     "collapsed": false,
     "input": [
      "def compare_extractors_for_download( downloads_id ):\n",
      "    \n",
      "    eto = create_extractor_training_object( downloads_id )\n",
      "    \n",
      "    return comp_extractors( eto )    \n",
      "    \n",
      "def comp_extractors( eto ):    \n",
      "    downloads_id = eto['downloads_id']\n",
      "    media_id     = eto['media_id' ]\n",
      "    story = eto['story']\n",
      "    raw_content = eto['raw_content']\n",
      "    preprocessed_lines = eto['preprocessed_lines']\n",
      "    expected_text = eto['expected_text']\n",
      "        \n",
      "    title = story[u'title']\n",
      "    description = story[u'description']\n",
      "    url = story[u'url']\n",
      "    \n",
      "    extraction_results = get_extraction_results( eto )\n",
      "    \n",
      "    comp_results = {}\n",
      "        \n",
      "    comp_results['downloads_id'] = downloads_id\n",
      "    \n",
      "    comp_results['media_id']  = media_id\n",
      "    \n",
      "    for name, value in extraction_results.iteritems():\n",
      "        #print name, value\n",
      "        comp_results.update (compare_with_expected( name, value['extracted_text'], expected_text, story ) )\n",
      "    \n",
      "    return comp_results"
     ],
     "language": "python",
     "metadata": {},
     "outputs": [],
     "prompt_number": 22
    },
    {
     "cell_type": "code",
     "collapsed": false,
     "input": [
      "def create_extractor_training_object( downloads_id, expected_text=None ):\n",
      "    download = get_download( downloads_id )\n",
      "    \n",
      "    raw_content = download[u'raw_content']\n",
      "    stories_id = download[u'stories_id']\n",
      "    \n",
      "    #print download['url']\n",
      "    \n",
      "    story = requests.get('https://api.mediacloud.org/api/v2/stories/single/'+str(stories_id)+'?key='+api_key)\n",
      "    \n",
      "    story = story.json()[0]\n",
      "    \n",
      "    story_lines = get_story_lines( raw_content )\n",
      "    #print story_lines.content\n",
      "    preprocessed_lines = story_lines.json()\n",
      "    \n",
      "    if not expected_text:\n",
      "        expected_lines = get_extractor_training_text( downloads_id, preprocessed_lines  )\n",
      "        expected_text  = lines_to_comparable_text( expected_lines )\n",
      "\n",
      "    ret = { 'downloads_id': downloads_id,\n",
      "           'raw_content': raw_content,\n",
      "           'media_id': story['media_id'],\n",
      "           'story': story,\n",
      "           'preprocessed_lines': preprocessed_lines,\n",
      "           'expected_text': expected_text\n",
      "           }\n",
      "    \n",
      "    return ret"
     ],
     "language": "python",
     "metadata": {},
     "outputs": [],
     "prompt_number": 23
    },
    {
     "cell_type": "code",
     "collapsed": false,
     "input": [
      "import sys\n",
      "\n",
      "sys.path.append('../')\n",
      "\n",
      "import mc_config\n",
      "\n",
      "def get_db_info():\n",
      "    config_file = mc_config.read_config()\n",
      "    \n",
      "    db_infos = config_file['database']\n",
      "    db_info = next (db_info for db_info in db_infos if db_info['port'] == '6000' )\n",
      "    return db_info\n",
      "\n",
      "import psycopg2\n",
      "#import solr_reimport\n",
      "import psycopg2.extras\n",
      "\n",
      "#db_info = get_db_info()\n",
      "\n",
      "#conn = psycopg2.connect( database=db_info['db'], user=db_info['user'], \n",
      "#                        password=db_info['pass'], host=db_info['host'], port=db_info['port'] )\n",
      "\n",
      "\n",
      "story_sentence_counts_cache = {}\n",
      "\n",
      "def get_sentence_counts( sentence, story ):\n",
      "\n",
      "    stories_id = story['stories_id']\n",
      "    \n",
      "    if not stories_id in story_sentence_counts_cache:\n",
      "        story_sentence_counts_cache[ stories_id ] = {}\n",
      "        \n",
      "    if sentence in story_sentence_counts_cache[ stories_id ]:\n",
      "        return story_sentence_counts_cache[stories_id ][sentence]\n",
      "        \n",
      "    cursor = conn.cursor(cursor_factory=psycopg2.extras.DictCursor)\n",
      "    query = '''               \n",
      "                   SELECT MIN( story_sentence_counts_id) AS story_sentence_counts_id, sentence_count, first_stories_id,\n",
      "                   sentence_md5\n",
      "            FROM story_sentence_counts\n",
      "            WHERE sentence_md5  = md5(%(sentence)s)\n",
      "              AND media_id = %(media_id)s\n",
      "              AND publish_week =  DATE_TRUNC( 'week', %(publish_date)s::date )\n",
      "            GROUP BY story_sentence_counts_id\n",
      "    '''\n",
      "    \n",
      "    #print sentence\n",
      "    #md5_sum = md5.new( sentence ).hexdigest()\n",
      "    \n",
      "    params = { 'sentence': sentence,\n",
      "                            'media_id': story['media_id'], \n",
      "                            'publish_date': story['publish_date']\n",
      "                            } \n",
      "    \n",
      "    #print params\n",
      "    \n",
      "    #print eto[ 'story'] ['stories_id' ]\n",
      "    cursor.execute( query, params )\n",
      "    \n",
      "    fetched = cursor.fetchall()\n",
      "    \n",
      "    if len( fetched ) == 0:\n",
      "        story_sentence_counts_cache[ stories_id ][sentence] = None\n",
      "    else:\n",
      "        story_sentence_counts_cache[ stories_id ][sentence] = dict(fetched[0])\n",
      "        \n",
      "    return story_sentence_counts_cache[stories_id ][sentence]\n",
      "    \n",
      "def sentence_is_duplicate( sentence, story ):\n",
      "    sentence_counts = get_sentence_counts( sentence, story )\n",
      "    \n",
      "    if sentence_counts != None:\n",
      "        if sentence_counts['sentence_count'] > 1:\n",
      "            #print \"duplicate sentence\", sentence\n",
      "            return True\n",
      "        elif sentence_counts['first_stories_id'] == story['stories_id']:\n",
      "            return True\n",
      "            #print \"duplicate sentence (diff first_stories_id) \", sentence\n",
      "            \n",
      "    else:\n",
      "        return False\n",
      "        pass\n",
      "        #print \"sentence not found \", sentence \n",
      "\n",
      "    "
     ],
     "language": "python",
     "metadata": {},
     "outputs": [],
     "prompt_number": 24
    },
    {
     "cell_type": "code",
     "collapsed": false,
     "input": [
      "def get_extractor_training_objects_legacy ( downloads_ids ):\n",
      "    print downloads_ids\n",
      "    extractor_training_objects = []\n",
      "    for downloads_id in downloads_ids[:]:\n",
      "        print 'downloads_id:', downloads_id\n",
      "        extractor_training_objects.append( create_extractor_training_object( downloads_id ) )\n",
      "        \n",
      "    return extractor_training_objects"
     ],
     "language": "python",
     "metadata": {},
     "outputs": [],
     "prompt_number": 25
    },
    {
     "cell_type": "code",
     "collapsed": false,
     "input": [
      "import sqlite3\n",
      "\n",
      "def get_extractor_training_objects_sqlite( db_file ):\n",
      "    \n",
      "    db = sqlite3.connect( db_file )\n",
      "    db.row_factory = sqlite3.Row\n",
      "    \n",
      "    cursor = db.cursor()\n",
      "    \n",
      "    cursor.execute( \"SELECT * from dlannotations  where selected_texts_json is not null order by downloads_id\" )\n",
      "    \n",
      "    extractor_training_objects = []\n",
      "    \n",
      "    skipped_downloads = 0\n",
      "    for row in list( cursor.fetchall() )[:]:\n",
      "        row =  dict([ (k, row[k]) for k in row.keys() ])\n",
      "        \n",
      "        #print row\n",
      "        \n",
      "        row['annotations'] = json.loads( row['annotations_json'] )\n",
      "        row['raw_content'] = u'' + row['raw_content']\n",
      "        row['selected_texts'] = json.loads( row['selected_texts_json'] )\n",
      "    \n",
      "        annotations = row['annotations']\n",
      "        download = get_download( row['downloads_id'] )\n",
      "    \n",
      "        assert row['selected_texts'] != None\n",
      "        assert row['selected_texts'] > 0\n",
      "        \n",
      "        eto = create_extractor_training_object( row['downloads_id'], expected_text=u\"\\n\".join(row['selected_texts']) )\n",
      "               \n",
      "        if eto['raw_content'] != row['raw_content']:\n",
      "            #TODO figure out why these may differ\n",
      "            pass\n",
      "        \n",
      "            #d = difflib.Differ()\n",
      "            #diff = d.compare(eto['raw_content'].splitlines(1), row['raw_content'].splitlines(1))\n",
      "            #print '\\n'.join(diff)\n",
      "        \n",
      "        extractor_training_objects.append( eto )\n",
      "    \n",
      "    \n",
      "    print \"skipped\", skipped_downloads\n",
      "    print \"processed\", len(extractor_training_objects)\n",
      "    \n",
      "    return extractor_training_objects"
     ],
     "language": "python",
     "metadata": {},
     "outputs": [],
     "prompt_number": 26
    },
    {
     "cell_type": "code",
     "collapsed": false,
     "input": [
      "import pandas as pd\n",
      "\n",
      "def get_data_frame_from_comparision_objects( comparison_objects ):\n",
      "    \n",
      "    new_comps = []\n",
      "    for comp in comparison_objects:\n",
      "        \n",
      "        new_comp = {}\n",
      "        new_comp = { 'downloads_id': comp['downloads_id'] }\n",
      "        \n",
      "        extractor_types = [ k for k in comp.keys() if k not in { 'downloads_id', 'media_id' }  ]\n",
      "        \n",
      "        for extractor_type in extractor_types:\n",
      "            new_comp.update([ ( k + '_' + extractor_type , v) for k,v in comp[ extractor_type ].iteritems() ])\n",
      "            \n",
      "        new_comps.append( new_comp )\n",
      "        \n",
      "    df = pd.DataFrame( new_comps )\n",
      "    df.set_index('downloads_id', inplace=True )\n",
      "    return df\n"
     ],
     "language": "python",
     "metadata": {},
     "outputs": [],
     "prompt_number": 27
    },
    {
     "cell_type": "code",
     "collapsed": false,
     "input": [
      "import boilerpipe.extract\n",
      "\n",
      "def extract_with_py_boilerpipe( raw_content ):\n",
      "    e = boilerpipe.extract.Extractor( extractor='ArticleExtractor', html=raw_content )\n",
      "    html = e.getHTML()\n",
      "\n",
      "    ret = { 'extracted_html': html }\n",
      "    return ret\n",
      "\n"
     ],
     "language": "python",
     "metadata": {},
     "outputs": [],
     "prompt_number": 28
    },
    {
     "cell_type": "code",
     "collapsed": false,
     "input": [
      "def print_results_by_measurement_type( df ):\n",
      "    df.describe(percentiles=[.5] )\n",
      "    result_types = [ 'precision', 'recall', 'f1' ]\n",
      "    for result_type in result_types:\n",
      "        res_columns = [ col for col in df.columns if col.startswith( result_type ) ]\n",
      "        #df.ix[:,['f1_boiler_pipe',\t'f1_crf',\t'f1_heur', 'f1_python_readibilty']].describe()\n",
      "        print df.ix[:,res_columns].describe( percentiles=[0.02, 0.05,.1,0.5])"
     ],
     "language": "python",
     "metadata": {},
     "outputs": [],
     "prompt_number": 29
    },
    {
     "cell_type": "heading",
     "level": 1,
     "metadata": {},
     "source": [
      "Flags"
     ]
    },
    {
     "cell_type": "code",
     "collapsed": false,
     "input": [
      "regenerate_extractor_training_objects = True\n",
      "regenerate_media_id_media_map         = True"
     ],
     "language": "python",
     "metadata": {},
     "outputs": [],
     "prompt_number": 30
    },
    {
     "cell_type": "heading",
     "level": 2,
     "metadata": {},
     "source": [
      "Constants"
     ]
    },
    {
     "cell_type": "code",
     "collapsed": false,
     "input": [
      "brazil_downloads_ids = [391881020,401370599,412896439,412952145,412977048,413024519,413657081,413835576,414040102, \n",
      "                        414257623,414377428,414480464,414818749,414983458,415185946,415186582,415197547,415424551,\n",
      "                        415978069,416026460,416026587,416047494,416047513,416210404,416263840,416306952,416426245,\n",
      "                        416655019,416730837,416802690,417347290,417347524,417368539,417389613,417477837,417653177,\n",
      "                        418489742,418544762,418574641,418648698,418661859,419404469,419440474,419483895,419873979,\n",
      "                        420430754,420599387,420666122,421520860,421834553,422181106,422280595,422910963,423318170,\n",
      "                        424080271,424369085,424796346,424840366,425206279,426405203,426560018,426632784,426709900,\n",
      "                        428449440,429607289,430363249,430995428,433457459,435624796,435659593,461175103,461175549,\n",
      "                        461176415,461176844,461177487,461178557,461178590,461179203,461179222,461179441,461179762,\n",
      "                        461179818,461179954,461179956,461180307,461181039,461181597,461186137,461186258,461186833,\n",
      "                        461187188,461187261,461187577,461188549,461189069,461190586,461193383]\n",
      "\n",
      "sqlite_db_file = 'extractor_train_dbs/dev_2014-11-20T11_04_07-0500.db'"
     ],
     "language": "python",
     "metadata": {},
     "outputs": [],
     "prompt_number": 31
    },
    {
     "cell_type": "heading",
     "level": 1,
     "metadata": {},
     "source": [
      "Data Analysis"
     ]
    },
    {
     "cell_type": "heading",
     "level": 2,
     "metadata": {},
     "source": [
      "Load Data"
     ]
    },
    {
     "cell_type": "code",
     "collapsed": false,
     "input": [
      "extractor_training_objects = []\n",
      "if regenerate_extractor_training_objects:\n",
      "    eto_brazil = get_extractor_training_objects_legacy( brazil_downloads_ids )\n",
      "    eto_sqlite = get_extractor_training_objects_sqlite( sqlite_db_file )\n",
      "    extractor_training_objects.extend( eto_brazil  )\n",
      "    extractor_training_objects.extend( eto_sqlite )\n",
      "    cPickle.dump( extractor_training_objects, open(\"extractor_traning_objects.pickle\", \"wb\"))"
     ],
     "language": "python",
     "metadata": {},
     "outputs": [
      {
       "output_type": "stream",
       "stream": "stdout",
       "text": [
        "[391881020, 401370599, 412896439, 412952145, 412977048, 413024519, 413657081, 413835576, 414040102, 414257623, 414377428, 414480464, 414818749, 414983458, 415185946, 415186582, 415197547, 415424551, 415978069, 416026460, 416026587, 416047494, 416047513, 416210404, 416263840, 416306952, 416426245, 416655019, 416730837, 416802690, 417347290, 417347524, 417368539, 417389613, 417477837, 417653177, 418489742, 418544762, 418574641, 418648698, 418661859, 419404469, 419440474, 419483895, 419873979, 420430754, 420599387, 420666122, 421520860, 421834553, 422181106, 422280595, 422910963, 423318170, 424080271, 424369085, 424796346, 424840366, 425206279, 426405203, 426560018, 426632784, 426709900, 428449440, 429607289, 430363249, 430995428, 433457459, 435624796, 435659593, 461175103, 461175549, 461176415, 461176844, 461177487, 461178557, 461178590, 461179203, 461179222, 461179441, 461179762, 461179818, 461179954, 461179956, 461180307, 461181039, 461181597, 461186137, 461186258, 461186833, 461187188, 461187261, 461187577, 461188549, 461189069, 461190586, 461193383]\n",
        "downloads_id: 391881020\n",
        "downloads_id:"
       ]
      },
      {
       "output_type": "stream",
       "stream": "stdout",
       "text": [
        " 401370599\n",
        "downloads_id:"
       ]
      },
      {
       "output_type": "stream",
       "stream": "stdout",
       "text": [
        " 412896439\n",
        "downloads_id:"
       ]
      },
      {
       "output_type": "stream",
       "stream": "stdout",
       "text": [
        " 412952145\n",
        "downloads_id:"
       ]
      },
      {
       "output_type": "stream",
       "stream": "stdout",
       "text": [
        " 412977048\n",
        "downloads_id:"
       ]
      },
      {
       "output_type": "stream",
       "stream": "stdout",
       "text": [
        " 413024519\n",
        "downloads_id:"
       ]
      },
      {
       "output_type": "stream",
       "stream": "stdout",
       "text": [
        " 413657081\n",
        "downloads_id:"
       ]
      },
      {
       "output_type": "stream",
       "stream": "stdout",
       "text": [
        " 413835576\n",
        "downloads_id:"
       ]
      },
      {
       "output_type": "stream",
       "stream": "stdout",
       "text": [
        " 414040102\n",
        "downloads_id:"
       ]
      },
      {
       "output_type": "stream",
       "stream": "stdout",
       "text": [
        " 414257623\n",
        "downloads_id:"
       ]
      },
      {
       "output_type": "stream",
       "stream": "stdout",
       "text": [
        " 414377428\n",
        "downloads_id:"
       ]
      },
      {
       "output_type": "stream",
       "stream": "stdout",
       "text": [
        " 414480464\n",
        "downloads_id:"
       ]
      },
      {
       "output_type": "stream",
       "stream": "stdout",
       "text": [
        " 414818749\n",
        "downloads_id:"
       ]
      },
      {
       "output_type": "stream",
       "stream": "stdout",
       "text": [
        " 414983458\n",
        "downloads_id:"
       ]
      },
      {
       "output_type": "stream",
       "stream": "stdout",
       "text": [
        " 415185946\n",
        "downloads_id:"
       ]
      },
      {
       "output_type": "stream",
       "stream": "stdout",
       "text": [
        " 415186582\n",
        "downloads_id:"
       ]
      },
      {
       "output_type": "stream",
       "stream": "stdout",
       "text": [
        " 415197547\n",
        "downloads_id:"
       ]
      },
      {
       "output_type": "stream",
       "stream": "stdout",
       "text": [
        " 415424551\n",
        "downloads_id:"
       ]
      },
      {
       "output_type": "stream",
       "stream": "stdout",
       "text": [
        " 415978069\n",
        "downloads_id:"
       ]
      },
      {
       "output_type": "stream",
       "stream": "stdout",
       "text": [
        " 416026460\n",
        "downloads_id:"
       ]
      },
      {
       "output_type": "stream",
       "stream": "stdout",
       "text": [
        " 416026587\n",
        "downloads_id:"
       ]
      },
      {
       "output_type": "stream",
       "stream": "stdout",
       "text": [
        " 416047494\n",
        "downloads_id:"
       ]
      },
      {
       "output_type": "stream",
       "stream": "stdout",
       "text": [
        " 416047513\n",
        "downloads_id:"
       ]
      },
      {
       "output_type": "stream",
       "stream": "stdout",
       "text": [
        " 416210404\n",
        "downloads_id:"
       ]
      },
      {
       "output_type": "stream",
       "stream": "stdout",
       "text": [
        " 416263840\n",
        "downloads_id:"
       ]
      },
      {
       "output_type": "stream",
       "stream": "stdout",
       "text": [
        " 416306952\n",
        "downloads_id:"
       ]
      },
      {
       "output_type": "stream",
       "stream": "stdout",
       "text": [
        " 416426245\n",
        "downloads_id:"
       ]
      },
      {
       "output_type": "stream",
       "stream": "stdout",
       "text": [
        " 416655019\n",
        "downloads_id:"
       ]
      },
      {
       "output_type": "stream",
       "stream": "stdout",
       "text": [
        " 416730837\n",
        "downloads_id:"
       ]
      },
      {
       "output_type": "stream",
       "stream": "stdout",
       "text": [
        " 416802690\n",
        "downloads_id:"
       ]
      },
      {
       "output_type": "stream",
       "stream": "stdout",
       "text": [
        " 417347290\n",
        "downloads_id:"
       ]
      },
      {
       "output_type": "stream",
       "stream": "stdout",
       "text": [
        " 417347524\n",
        "downloads_id:"
       ]
      },
      {
       "output_type": "stream",
       "stream": "stdout",
       "text": [
        " 417368539\n",
        "downloads_id:"
       ]
      },
      {
       "output_type": "stream",
       "stream": "stdout",
       "text": [
        " 417389613\n",
        "downloads_id:"
       ]
      },
      {
       "output_type": "stream",
       "stream": "stdout",
       "text": [
        " 417477837\n",
        "downloads_id:"
       ]
      },
      {
       "output_type": "stream",
       "stream": "stdout",
       "text": [
        " 417653177\n",
        "downloads_id:"
       ]
      },
      {
       "output_type": "stream",
       "stream": "stdout",
       "text": [
        " 418489742\n",
        "downloads_id:"
       ]
      },
      {
       "output_type": "stream",
       "stream": "stdout",
       "text": [
        " 418544762\n",
        "downloads_id:"
       ]
      },
      {
       "output_type": "stream",
       "stream": "stdout",
       "text": [
        " 418574641\n",
        "downloads_id:"
       ]
      },
      {
       "output_type": "stream",
       "stream": "stdout",
       "text": [
        " 418648698\n",
        "downloads_id:"
       ]
      },
      {
       "output_type": "stream",
       "stream": "stdout",
       "text": [
        " 418661859\n",
        "downloads_id:"
       ]
      },
      {
       "output_type": "stream",
       "stream": "stdout",
       "text": [
        " 419404469\n",
        "downloads_id:"
       ]
      },
      {
       "output_type": "stream",
       "stream": "stdout",
       "text": [
        " 419440474\n",
        "downloads_id:"
       ]
      },
      {
       "output_type": "stream",
       "stream": "stdout",
       "text": [
        " 419483895\n",
        "downloads_id:"
       ]
      },
      {
       "output_type": "stream",
       "stream": "stdout",
       "text": [
        " 419873979\n",
        "downloads_id:"
       ]
      },
      {
       "output_type": "stream",
       "stream": "stdout",
       "text": [
        " 420430754\n",
        "downloads_id:"
       ]
      },
      {
       "output_type": "stream",
       "stream": "stdout",
       "text": [
        " 420599387\n",
        "downloads_id:"
       ]
      },
      {
       "output_type": "stream",
       "stream": "stdout",
       "text": [
        " 420666122\n",
        "downloads_id:"
       ]
      },
      {
       "output_type": "stream",
       "stream": "stdout",
       "text": [
        " 421520860\n",
        "downloads_id:"
       ]
      },
      {
       "output_type": "stream",
       "stream": "stdout",
       "text": [
        " 421834553\n",
        "downloads_id:"
       ]
      },
      {
       "output_type": "stream",
       "stream": "stdout",
       "text": [
        " 422181106\n",
        "downloads_id:"
       ]
      },
      {
       "output_type": "stream",
       "stream": "stdout",
       "text": [
        " 422280595\n",
        "downloads_id:"
       ]
      },
      {
       "output_type": "stream",
       "stream": "stdout",
       "text": [
        " 422910963\n",
        "downloads_id:"
       ]
      },
      {
       "output_type": "stream",
       "stream": "stdout",
       "text": [
        " 423318170\n",
        "downloads_id:"
       ]
      },
      {
       "output_type": "stream",
       "stream": "stdout",
       "text": [
        " 424080271\n",
        "downloads_id:"
       ]
      },
      {
       "output_type": "stream",
       "stream": "stdout",
       "text": [
        " 424369085\n",
        "downloads_id:"
       ]
      },
      {
       "output_type": "stream",
       "stream": "stdout",
       "text": [
        " 424796346\n",
        "downloads_id:"
       ]
      },
      {
       "output_type": "stream",
       "stream": "stdout",
       "text": [
        " 424840366\n",
        "downloads_id:"
       ]
      },
      {
       "output_type": "stream",
       "stream": "stdout",
       "text": [
        " 425206279\n",
        "downloads_id:"
       ]
      },
      {
       "output_type": "stream",
       "stream": "stdout",
       "text": [
        " 426405203\n",
        "downloads_id:"
       ]
      },
      {
       "output_type": "stream",
       "stream": "stdout",
       "text": [
        " 426560018\n",
        "downloads_id:"
       ]
      },
      {
       "output_type": "stream",
       "stream": "stdout",
       "text": [
        " 426632784\n",
        "downloads_id:"
       ]
      },
      {
       "output_type": "stream",
       "stream": "stdout",
       "text": [
        " 426709900\n",
        "downloads_id:"
       ]
      },
      {
       "output_type": "stream",
       "stream": "stdout",
       "text": [
        " 428449440\n",
        "downloads_id:"
       ]
      },
      {
       "output_type": "stream",
       "stream": "stdout",
       "text": [
        " 429607289\n",
        "downloads_id:"
       ]
      },
      {
       "output_type": "stream",
       "stream": "stdout",
       "text": [
        " 430363249\n",
        "downloads_id:"
       ]
      },
      {
       "output_type": "stream",
       "stream": "stdout",
       "text": [
        " 430995428\n",
        "downloads_id:"
       ]
      },
      {
       "output_type": "stream",
       "stream": "stdout",
       "text": [
        " 433457459\n",
        "downloads_id:"
       ]
      },
      {
       "output_type": "stream",
       "stream": "stdout",
       "text": [
        " 435624796\n",
        "downloads_id:"
       ]
      },
      {
       "output_type": "stream",
       "stream": "stdout",
       "text": [
        " 435659593\n",
        "downloads_id:"
       ]
      },
      {
       "output_type": "stream",
       "stream": "stdout",
       "text": [
        " 461175103\n",
        "downloads_id:"
       ]
      },
      {
       "output_type": "stream",
       "stream": "stdout",
       "text": [
        " 461175549\n",
        "downloads_id:"
       ]
      },
      {
       "output_type": "stream",
       "stream": "stdout",
       "text": [
        " 461176415\n",
        "downloads_id:"
       ]
      },
      {
       "output_type": "stream",
       "stream": "stdout",
       "text": [
        " 461176844\n",
        "downloads_id:"
       ]
      },
      {
       "output_type": "stream",
       "stream": "stdout",
       "text": [
        " 461177487\n",
        "downloads_id:"
       ]
      },
      {
       "output_type": "stream",
       "stream": "stdout",
       "text": [
        " 461178557\n",
        "downloads_id:"
       ]
      },
      {
       "output_type": "stream",
       "stream": "stdout",
       "text": [
        " 461178590\n",
        "downloads_id:"
       ]
      },
      {
       "output_type": "stream",
       "stream": "stdout",
       "text": [
        " 461179203\n",
        "downloads_id:"
       ]
      },
      {
       "output_type": "stream",
       "stream": "stdout",
       "text": [
        " 461179222\n",
        "downloads_id:"
       ]
      },
      {
       "output_type": "stream",
       "stream": "stdout",
       "text": [
        " 461179441\n",
        "downloads_id:"
       ]
      },
      {
       "output_type": "stream",
       "stream": "stdout",
       "text": [
        " 461179762\n",
        "downloads_id:"
       ]
      },
      {
       "output_type": "stream",
       "stream": "stdout",
       "text": [
        " 461179818\n",
        "downloads_id:"
       ]
      },
      {
       "output_type": "stream",
       "stream": "stdout",
       "text": [
        " 461179954\n",
        "downloads_id:"
       ]
      },
      {
       "output_type": "stream",
       "stream": "stdout",
       "text": [
        " 461179956\n",
        "downloads_id:"
       ]
      },
      {
       "output_type": "stream",
       "stream": "stdout",
       "text": [
        " 461180307\n",
        "downloads_id:"
       ]
      },
      {
       "output_type": "stream",
       "stream": "stdout",
       "text": [
        " 461181039\n",
        "downloads_id:"
       ]
      },
      {
       "output_type": "stream",
       "stream": "stdout",
       "text": [
        " 461181597\n",
        "downloads_id:"
       ]
      },
      {
       "output_type": "stream",
       "stream": "stdout",
       "text": [
        " 461186137\n",
        "downloads_id:"
       ]
      },
      {
       "output_type": "stream",
       "stream": "stdout",
       "text": [
        " 461186258\n",
        "downloads_id:"
       ]
      },
      {
       "output_type": "stream",
       "stream": "stdout",
       "text": [
        " 461186833\n",
        "downloads_id:"
       ]
      },
      {
       "output_type": "stream",
       "stream": "stdout",
       "text": [
        " 461187188\n",
        "downloads_id:"
       ]
      },
      {
       "output_type": "stream",
       "stream": "stdout",
       "text": [
        " 461187261\n",
        "downloads_id:"
       ]
      },
      {
       "output_type": "stream",
       "stream": "stdout",
       "text": [
        " 461187577\n",
        "downloads_id:"
       ]
      },
      {
       "output_type": "stream",
       "stream": "stdout",
       "text": [
        " 461188549\n",
        "downloads_id:"
       ]
      },
      {
       "output_type": "stream",
       "stream": "stdout",
       "text": [
        " 461189069\n",
        "downloads_id:"
       ]
      },
      {
       "output_type": "stream",
       "stream": "stdout",
       "text": [
        " 461190586\n",
        "downloads_id:"
       ]
      },
      {
       "output_type": "stream",
       "stream": "stdout",
       "text": [
        " 461193383\n",
        "skipped"
       ]
      },
      {
       "output_type": "stream",
       "stream": "stdout",
       "text": [
        " 0\n",
        "processed 700\n"
       ]
      }
     ],
     "prompt_number": 32
    },
    {
     "cell_type": "code",
     "collapsed": false,
     "input": [
      "extractor_training_objects = cPickle.load( open( \"extractor_traning_objects.pickle\", \"rb\") )"
     ],
     "language": "python",
     "metadata": {},
     "outputs": [],
     "prompt_number": 33
    },
    {
     "cell_type": "heading",
     "level": 3,
     "metadata": {},
     "source": [
      "Look up Media Tags"
     ]
    },
    {
     "cell_type": "code",
     "collapsed": false,
     "input": [
      "import itertools\n",
      "from collections import Counter\n",
      "\n",
      "mc = mediacloud.api.MediaCloud(api_key)\n",
      "\n",
      "if regenerate_media_id_media_map:\n",
      "    media_id_media_map = {}\n",
      "    \n",
      "    media_ids = sorted(list(set([ eto['media_id'] for eto in extractor_training_objects ])))\n",
      "    \n",
      "    for media_id in list(media_ids)[:]:\n",
      "        media = mc.media( media_id )\n",
      "        media[ 'media_source_tags_ids' ] = set( [ media_source_tag['tags_id'] \n",
      "                                                 for media_source_tag in media['media_source_tags'] ] )\n",
      "        media_id_media_map[ media_id ] = media\n",
      "    \n",
      "    cPickle.dump( media_id_media_map, open(\"media_id_media_map.pickle\", \"wb\"))\n"
     ],
     "language": "python",
     "metadata": {},
     "outputs": [],
     "prompt_number": 40
    },
    {
     "cell_type": "code",
     "collapsed": false,
     "input": [
      "media_id_media_map = cPickle.load( open( \"media_id_media_map.pickle\", \"rb\") )    \n",
      "\n",
      "media_tag_counts = Counter(list ( itertools.chain.from_iterable( media_source['media_source_tags_ids'] for media_source in media_id_media_map.values() )) ) \n",
      "tags_id_to_media_tags_map = {}\n",
      "for media_tag in media_id_media_map.values():\n",
      "    source_tags = media_tag[ 'media_source_tags' ]\n",
      "    for source_tag in source_tags:\n",
      "        tags_id_to_media_tags_map[ source_tag[ 'tags_id' ] ] = source_tag"
     ],
     "language": "python",
     "metadata": {},
     "outputs": [],
     "prompt_number": 41
    },
    {
     "cell_type": "code",
     "collapsed": false,
     "input": [
      "[ (tags_id_to_media_tags_map[tag_id], count) for tag_id, count in media_tag_counts.most_common( 15 ) ]\n"
     ],
     "language": "python",
     "metadata": {},
     "outputs": [
      {
       "metadata": {},
       "output_type": "pyout",
       "prompt_number": 42,
       "text": [
        "[({u'description': None,\n",
        "   u'label': None,\n",
        "   u'show_on_media': 0,\n",
        "   u'show_on_stories': None,\n",
        "   u'tag': u'spidered',\n",
        "   u'tag_set': u'spidered',\n",
        "   u'tag_sets_id': 183,\n",
        "   u'tags_id': 8875452},\n",
        "  86),\n",
        " ({u'description': u'A site that is a mainstream media outlet, such as The New York Times and The Washington Post; an online-only news outlet, such as Slate, Salon, or the Huffington Post; or a citizen journalism or non-profit news outlet, such as Global Voices or ProPublica',\n",
        "   u'label': u'General News',\n",
        "   u'show_on_media': 1,\n",
        "   u'show_on_stories': None,\n",
        "   u'tag': u'General Online News Media',\n",
        "   u'tag_set': u'media_type',\n",
        "   u'tag_sets_id': 1099,\n",
        "   u'tags_id': 8878416},\n",
        "  61),\n",
        " ({u'description': None,\n",
        "   u'label': None,\n",
        "   u'show_on_media': 0,\n",
        "   u'show_on_stories': None,\n",
        "   u'tag': u'egypt_composite_dalia_20140425',\n",
        "   u'tag_set': u'collection',\n",
        "   u'tag_sets_id': 5,\n",
        "   u'tags_id': 8878255},\n",
        "  49),\n",
        " ({u'description': None,\n",
        "   u'label': None,\n",
        "   u'show_on_media': 0,\n",
        "   u'show_on_stories': None,\n",
        "   u'tag': u'brazil_20131009',\n",
        "   u'tag_set': u'collection',\n",
        "   u'tag_sets_id': 5,\n",
        "   u'tags_id': 8877968},\n",
        "  48),\n",
        " ({u'description': None,\n",
        "   u'label': None,\n",
        "   u'show_on_media': 0,\n",
        "   u'show_on_stories': None,\n",
        "   u'tag': u'news',\n",
        "   u'tag_set': u'egypt_media_type',\n",
        "   u'tag_sets_id': 986,\n",
        "   u'tags_id': 8878259},\n",
        "  44),\n",
        " ({u'description': u'List of sites related to U.S. politics, created for Yochai Benkler and Aaron Shaw\\'s paper \"A Tale of Two Blogospheres: Discursive Practices on the Left and Right\", published in 2010.\\r\\n',\n",
        "   u'label': u'U.S. Campaigns and Elections 2008',\n",
        "   u'show_on_media': 1,\n",
        "   u'show_on_stories': None,\n",
        "   u'tag': u'campaignsandelections_political_2008',\n",
        "   u'tag_set': u'collection',\n",
        "   u'tag_sets_id': 5,\n",
        "   u'tags_id': 125},\n",
        "  42),\n",
        " ({u'description': u'Large list of regional TC and newspapers sites, collected by Pew in 2010.',\n",
        "   u'label': u'U.S. Regional Mainstream Media',\n",
        "   u'show_on_media': 1,\n",
        "   u'show_on_stories': None,\n",
        "   u'tag': u'pew_knight_study',\n",
        "   u'tag_set': u'collection',\n",
        "   u'tag_sets_id': 5,\n",
        "   u'tags_id': 2453107},\n",
        "  41),\n",
        " ({u'description': None,\n",
        "   u'label': None,\n",
        "   u'show_on_media': 0,\n",
        "   u'show_on_stories': None,\n",
        "   u'tag': u'media outlet',\n",
        "   u'tag_set': u'portuguese_media_type',\n",
        "   u'tag_sets_id': 783,\n",
        "   u'tags_id': 8877969},\n",
        "  39),\n",
        " ({u'description': None,\n",
        "   u'label': None,\n",
        "   u'show_on_media': 0,\n",
        "   u'show_on_stories': None,\n",
        "   u'tag': u'largemetroarea',\n",
        "   u'tag_set': u'pkgeog-type',\n",
        "   u'tag_sets_id': 16,\n",
        "   u'tags_id': 2496423},\n",
        "  32),\n",
        " ({u'description': None,\n",
        "   u'label': None,\n",
        "   u'show_on_media': 0,\n",
        "   u'show_on_stories': None,\n",
        "   u'tag': u'alternative',\n",
        "   u'tag_set': u'egypt_valence',\n",
        "   u'tag_sets_id': 987,\n",
        "   u'tags_id': 8878263},\n",
        "  22),\n",
        " ({u'description': u'List of sites generated by clustering and manually sites discussion the 2012 U.S. presidential election.  This set includes only sources coded as clearly liberal.',\n",
        "   u'label': u'U.S. Partisan Sources 2012 - Liberal',\n",
        "   u'show_on_media': 1,\n",
        "   u'show_on_stories': None,\n",
        "   u'tag': u'partisan_2012_liberal',\n",
        "   u'tag_set': u'collection',\n",
        "   u'tag_sets_id': 5,\n",
        "   u'tags_id': 8878293},\n",
        "  22),\n",
        " ({u'description': u'List of all sources cited by Global Voices Online (http://globalvoicesonline.org) from 2010 - 2012.  Includes mostly politically, internationally focused blogs.  This is our main media set for broad coverage of international blogs.',\n",
        "   u'label': u'Global Voices Cited Sources',\n",
        "   u'show_on_media': 1,\n",
        "   u'show_on_stories': None,\n",
        "   u'tag': u'gv_blogs_20130329',\n",
        "   u'tag_set': u'collection',\n",
        "   u'tag_sets_id': 5,\n",
        "   u'tags_id': 8876987},\n",
        "  22),\n",
        " ({u'description': u\"Top U.S. mainstream media according Google Ad Planner's measure of unique monthly users.\",\n",
        "   u'label': u'U.S. Mainstream Media',\n",
        "   u'show_on_media': 1,\n",
        "   u'show_on_stories': None,\n",
        "   u'tag': u'ap_english_us_top25_20100110',\n",
        "   u'tag_set': u'collection',\n",
        "   u'tag_sets_id': 5,\n",
        "   u'tags_id': 8875027},\n",
        "  21),\n",
        " ({u'description': u'Large list of all sites collected by the Europe Media Monitor project (http://emm.newsbrief.eu).  Includes anywhere from five to dozens of sources from almost every country.  This is our main set for broad coverage of international mainstream media.',\n",
        "   u'label': u'Europe Media Monitor',\n",
        "   u'show_on_media': 1,\n",
        "   u'show_on_stories': None,\n",
        "   u'tag': u'europe_media_monitor_20121015',\n",
        "   u'tag_set': u'collection',\n",
        "   u'tag_sets_id': 5,\n",
        "   u'tags_id': 8876474},\n",
        "  19),\n",
        " ({u'description': None,\n",
        "   u'label': None,\n",
        "   u'show_on_media': 0,\n",
        "   u'show_on_stories': None,\n",
        "   u'tag': u'webnews',\n",
        "   u'tag_set': u'emm_type',\n",
        "   u'tag_sets_id': 554,\n",
        "   u'tags_id': 8876475},\n",
        "  18)]"
       ]
      }
     ],
     "prompt_number": 42
    },
    {
     "cell_type": "heading",
     "level": 2,
     "metadata": {},
     "source": [
      "Run extractors"
     ]
    },
    {
     "cell_type": "code",
     "collapsed": false,
     "input": [
      "import boilerpipe.extract\n",
      "\n",
      "e = boilerpipe.extract.Extractor( extractor='ArticleExtractor', html=raw_content )\n",
      "print e.getHTML()\n"
     ],
     "language": "python",
     "metadata": {},
     "outputs": [
      {
       "output_type": "stream",
       "stream": "stdout",
       "text": [
        "<HTML xmlns=\"http://www.w3.org/1999/xhtml\">\n",
        "<style type=\"text/css\">\n",
        "A:before { content:' '; } \n",
        "A:after { content:' '; } \n",
        "SPAN:before { content:' '; } \n",
        "SPAN:after { content:' '; } \n",
        "</style>\n",
        "<BODY><DIV id=\"content\"><DIV class=\"section main-content\"><DIV class=\"sectionContent\"><DIV class=\"sectionColumns\"><DIV class=\"column1 gridPanel grid8\"><H1>U.S. Senate Democrats blast Obama's migrant family detentions</H1><DIV id=\"articleInfo\"><P><SPAN class=\"location\">WASHINGTON</SPAN><SPAN class=\"timestamp\">Fri Oct 17, 2014 12:23pm EDT</SPAN></P></DIV><DIV class=\"columnLeft\"><DIV class=\"relatedRail gridPanel grid2\"><DIV id=\"relatedTopics\" class=\"module\"><DIV class=\"moduleBody\"><UL><LI><A href=\"/politics\">Politics \u00bb</A></LI></UL></DIV></DIV></DIV></DIV><SPAN id=\"articleText\"><SPAN class=\"focusParagraph\"><P><SPAN class=\"articleLocation\">WASHINGTON</SPAN> (Reuters) - High-ranking U.S. Senate Democrats have called on the Obama administration to reverse its new policy of detaining Central American immigrant families, warning it could be damaging to the young children being housed in the facilities.</P></SPAN><P>Senate Majority Leader Harry Reid of Nevada, Senate Judiciary Committee Chairman Patrick Leahy of Vermont and eight other Democrats wrote Department of Homeland Security Secretary Jeh Johnson on Thursday to complain about the detentions.</P><P>&quot;Mothers and their children who have fled violence in their home countries should not be treated like criminals,&quot; wrote the senators, who also included Democratic leadership members Dick Durbin of Illinois, Charles Schumer of New York and Patty Murray of Washington state.</P><P>The detention policy, which was initiated this past summer as tens of thousands of families and unaccompanied children rushed to the U.S. border, is part of a broader White House strategy of deterring another influx next year. [L2N0S51HW]</P><P>Many of the migrants are fleeing El Salvador, Honduras and Guatemala, where gang violence, drugs and human trafficking are rampant.</P><P>In 2009, the United States stopped housing newly arrived immigrant families in a troubled Texas detention facility. Instead, the Obama administration made less restrictive measures, such as ankle bracelets, telephone interviews and other monitoring programs the centerpiece of its policy for keeping tabs on migrants awaiting court determinations on their status. </P><P>But that changed a few months ago, as President Barack Obama was under intense pressure from Republicans in Congress to stop the record numbers of children and families seeking refuge in the United States and arriving without visas.</P><P>He responded by directing the opening of family detention centers, expediting immigration court cases, refusing bond for many of the migrants and working with Mexico to secure borders.</P><P>By year's end, the federal government will have the capacity to detain about 4,000 mothers and children at any one time in centers located in New Mexico, Texas and Pennsylvania.</P><P>Last month, the administration announced plans in coming months to open a second Texas facility, with 2,400 beds, to augment the three existing centers. Human rights and immigrant advocacy groups have criticized the move.</P><P>&quot;We are troubled by your apparent decision to make permanent and greatly expand the policy of family detention&quot; amid reports of problems caring for the detainees, the senators wrote.</P><P>In their letter, the senators also referred to problems detainees were having getting legal representation and the &quot;rushed nature&quot; of legal proceedings that could lead to the return of migrants to dangerous situations in their home countries.</P><P>Following the Nov. 4 congressional elections, Congress is expected to debate a budget bill that would contain funds for agencies tasked with handling the immigrant families. It was unclear whether the high-ranking Democratic senators will try to withhold future funding for the detention facilities.</P><P>Besides the controversial family detention centers, the government maintains more than 30,000 beds to detain adult immigrants awaiting decisions on whether they can stay in the United States.</P><P> (Reporting by <A href=\"http://blogs.reuters.com/search/journalist.php?edition=us&amp;n=richard.cowan&amp;\">Richard Cowan</A>; Editing by Lisa Von Ahn)</P></SPAN><DIV class=\"relatedTopicButtons\"><DIV class=\"file_under\">FILED UNDER: </DIV></DIV></DIV></DIV></DIV></DIV></DIV></BODY></HTML>\n"
       ]
      }
     ],
     "prompt_number": 44
    },
    {
     "cell_type": "code",
     "collapsed": false,
     "input": [
      "raw_content = eto['raw_content']\n",
      "with tempfile.NamedTemporaryFile( suffix='.html', delete=False ) as t:\n",
      "    #print t.name\n",
      "\n",
      "    UTF8Writer = codecs.getwriter('utf8')\n",
      "    t.file = UTF8Writer(t.file)\n",
      "    t.file.write( raw_content )\n",
      "\n",
      "    t.close()\n",
      "    #time.sleep( 2 )\n",
      "    #print \"original article tmp file \", t.name\n",
      "    \n",
      "    #input_file = '/tmp/416655019.htm'\n",
      "    input_file = t.name\n",
      "\n",
      "input_file"
     ],
     "language": "python",
     "metadata": {},
     "outputs": [
      {
       "metadata": {},
       "output_type": "pyout",
       "prompt_number": 45,
       "text": [
        "'/tmp/tmp5kEDaT.html'"
       ]
      }
     ],
     "prompt_number": 45
    },
    {
     "cell_type": "code",
     "collapsed": false,
     "input": [
      "#eto = extractor_training_objects[ 0 ]\n",
      "#eto.keys()\n",
      "#print eto['expected_text']\n",
      "#get_extraction_results( eto )\n",
      "#comp_extractors ( eto )\n",
      "\n",
      "extraction_results = []\n",
      "\n",
      "for eto in  extractor_training_objects[:2]:\n",
      "    er = dict( eto )\n",
      "    er[ 'extractor_results'] = get_extraction_results( eto )\n",
      "    \n",
      "    extraction_results.append( er )\n",
      "\n",
      "eto.keys()    \n",
      "#er.keys()"
     ],
     "language": "python",
     "metadata": {},
     "outputs": [
      {
       "metadata": {},
       "output_type": "pyout",
       "prompt_number": 46,
       "text": [
        "['story',\n",
        " 'preprocessed_lines',\n",
        " 'media_id',\n",
        " 'downloads_id',\n",
        " 'raw_content',\n",
        " 'expected_text']"
       ]
      }
     ],
     "prompt_number": 46
    },
    {
     "cell_type": "code",
     "collapsed": true,
     "input": [
      "comps_downloads = []\n",
      "processed = 0\n",
      "skipped = 0\n",
      "for extractor_training_object in extractor_training_objects[:]:\n",
      "    print 'processed ', processed\n",
      "    print 'skipped ', skipped\n",
      "    print extractor_training_object[ 'downloads_id']\n",
      "    try:\n",
      "        res = comp_extractors( extractor_training_object )\n",
      "        #print res\n",
      "        comps_downloads.append( res )\n",
      "        processed += 1\n",
      "    except Exception, e:\n",
      "        print \"error on download{}\".format( extractor_training_object[ 'downloads_id'] )\n",
      "        e = sys.exc_info()\n",
      "        \n",
      "        import traceback\n",
      "        \n",
      "        traceback.print_exc()\n",
      "        print e\n",
      "        #raise e\n",
      "        skipped += 1\n",
      "\n",
      "e\n",
      "#extractor_training_objects\n",
      "    "
     ],
     "language": "python",
     "metadata": {},
     "outputs": [
      {
       "output_type": "stream",
       "stream": "stdout",
       "text": [
        "processed  0\n",
        "skipped  0\n",
        "391881020\n",
        "processed "
       ]
      },
      {
       "output_type": "stream",
       "stream": "stdout",
       "text": [
        " 1\n",
        "skipped  0\n",
        "401370599\n",
        "processed "
       ]
      },
      {
       "output_type": "stream",
       "stream": "stdout",
       "text": [
        " 2\n",
        "skipped  0\n",
        "412896439\n",
        "processed "
       ]
      },
      {
       "output_type": "stream",
       "stream": "stdout",
       "text": [
        " 3\n",
        "skipped  0\n",
        "412952145\n",
        "processed "
       ]
      },
      {
       "output_type": "stream",
       "stream": "stdout",
       "text": [
        " 4\n",
        "skipped  0\n",
        "412977048\n",
        "processed "
       ]
      },
      {
       "output_type": "stream",
       "stream": "stdout",
       "text": [
        " 5\n",
        "skipped  0\n",
        "413024519\n",
        "processed "
       ]
      },
      {
       "output_type": "stream",
       "stream": "stdout",
       "text": [
        " 6\n",
        "skipped  0\n",
        "413657081\n",
        "processed "
       ]
      },
      {
       "output_type": "stream",
       "stream": "stdout",
       "text": [
        " 7\n",
        "skipped  0\n",
        "413835576\n",
        "processed "
       ]
      },
      {
       "output_type": "stream",
       "stream": "stdout",
       "text": [
        " 8\n",
        "skipped  0\n",
        "414040102\n",
        "processed "
       ]
      },
      {
       "output_type": "stream",
       "stream": "stdout",
       "text": [
        " 9\n",
        "skipped  0\n",
        "414257623\n",
        "processed "
       ]
      },
      {
       "output_type": "stream",
       "stream": "stdout",
       "text": [
        " 10\n",
        "skipped  0\n",
        "414377428\n",
        "processed "
       ]
      },
      {
       "output_type": "stream",
       "stream": "stdout",
       "text": [
        " 11\n",
        "skipped  0\n",
        "414480464\n",
        "processed "
       ]
      },
      {
       "output_type": "stream",
       "stream": "stdout",
       "text": [
        " 12\n",
        "skipped  0\n",
        "414818749\n",
        "processed "
       ]
      },
      {
       "output_type": "stream",
       "stream": "stdout",
       "text": [
        " 13\n",
        "skipped  0\n",
        "414983458\n",
        "processed "
       ]
      },
      {
       "output_type": "stream",
       "stream": "stdout",
       "text": [
        " 14\n",
        "skipped  0\n",
        "415185946\n",
        "processed "
       ]
      },
      {
       "output_type": "stream",
       "stream": "stdout",
       "text": [
        " 15\n",
        "skipped  0\n",
        "415186582\n",
        "processed "
       ]
      },
      {
       "output_type": "stream",
       "stream": "stdout",
       "text": [
        " 16\n",
        "skipped  0\n",
        "415197547\n",
        "processed "
       ]
      },
      {
       "output_type": "stream",
       "stream": "stdout",
       "text": [
        " 17\n",
        "skipped  0\n",
        "415424551\n",
        "processed "
       ]
      },
      {
       "output_type": "stream",
       "stream": "stdout",
       "text": [
        " 18\n",
        "skipped  0\n",
        "415978069\n",
        "processed "
       ]
      },
      {
       "output_type": "stream",
       "stream": "stdout",
       "text": [
        " 19\n",
        "skipped  0\n",
        "416026460\n",
        "processed "
       ]
      },
      {
       "output_type": "stream",
       "stream": "stdout",
       "text": [
        " 20\n",
        "skipped  0\n",
        "416026587\n",
        "processed "
       ]
      },
      {
       "output_type": "stream",
       "stream": "stdout",
       "text": [
        " 21\n",
        "skipped  0\n",
        "416047494\n",
        "processed "
       ]
      },
      {
       "output_type": "stream",
       "stream": "stdout",
       "text": [
        " 22\n",
        "skipped  0\n",
        "416047513\n",
        "processed "
       ]
      },
      {
       "output_type": "stream",
       "stream": "stdout",
       "text": [
        " 23\n",
        "skipped  0\n",
        "416210404\n",
        "processed "
       ]
      },
      {
       "output_type": "stream",
       "stream": "stdout",
       "text": [
        " 24\n",
        "skipped  0\n",
        "416263840\n",
        "processed "
       ]
      },
      {
       "output_type": "stream",
       "stream": "stdout",
       "text": [
        " 25\n",
        "skipped  0\n",
        "416306952\n",
        "processed "
       ]
      },
      {
       "output_type": "stream",
       "stream": "stdout",
       "text": [
        " 26\n",
        "skipped  0\n",
        "416426245\n",
        "processed "
       ]
      },
      {
       "output_type": "stream",
       "stream": "stdout",
       "text": [
        " 27\n",
        "skipped  0\n",
        "416655019\n",
        "processed "
       ]
      },
      {
       "output_type": "stream",
       "stream": "stdout",
       "text": [
        " 28\n",
        "skipped  0\n",
        "416730837\n",
        "processed "
       ]
      },
      {
       "output_type": "stream",
       "stream": "stdout",
       "text": [
        " 29\n",
        "skipped  0\n",
        "416802690\n",
        "processed "
       ]
      },
      {
       "output_type": "stream",
       "stream": "stdout",
       "text": [
        " 30\n",
        "skipped  0\n",
        "417347290\n",
        "processed "
       ]
      },
      {
       "output_type": "stream",
       "stream": "stdout",
       "text": [
        " 31\n",
        "skipped  0\n",
        "417347524\n",
        "processed "
       ]
      },
      {
       "output_type": "stream",
       "stream": "stdout",
       "text": [
        " 32\n",
        "skipped  0\n",
        "417368539\n",
        "processed "
       ]
      },
      {
       "output_type": "stream",
       "stream": "stdout",
       "text": [
        " 33\n",
        "skipped  0\n",
        "417389613\n",
        "processed "
       ]
      },
      {
       "output_type": "stream",
       "stream": "stdout",
       "text": [
        " 34\n",
        "skipped  0\n",
        "417477837\n",
        "processed "
       ]
      },
      {
       "output_type": "stream",
       "stream": "stdout",
       "text": [
        " 35\n",
        "skipped  0\n",
        "417653177\n",
        "processed "
       ]
      },
      {
       "output_type": "stream",
       "stream": "stdout",
       "text": [
        " 36\n",
        "skipped  0\n",
        "418489742\n",
        "processed "
       ]
      },
      {
       "output_type": "stream",
       "stream": "stdout",
       "text": [
        " 37\n",
        "skipped  0\n",
        "418544762\n",
        "processed "
       ]
      },
      {
       "output_type": "stream",
       "stream": "stdout",
       "text": [
        " 38\n",
        "skipped  0\n",
        "418574641\n",
        "processed "
       ]
      },
      {
       "output_type": "stream",
       "stream": "stdout",
       "text": [
        " 39\n",
        "skipped  0\n",
        "418648698\n",
        "processed "
       ]
      },
      {
       "output_type": "stream",
       "stream": "stdout",
       "text": [
        " 40\n",
        "skipped  0\n",
        "418661859\n",
        "processed "
       ]
      },
      {
       "output_type": "stream",
       "stream": "stdout",
       "text": [
        " 41\n",
        "skipped  0\n",
        "419404469\n",
        "processed "
       ]
      },
      {
       "output_type": "stream",
       "stream": "stdout",
       "text": [
        " 42\n",
        "skipped  0\n",
        "419440474\n",
        "processed "
       ]
      },
      {
       "output_type": "stream",
       "stream": "stdout",
       "text": [
        " 43\n",
        "skipped  0\n",
        "419483895\n",
        "processed "
       ]
      },
      {
       "output_type": "stream",
       "stream": "stdout",
       "text": [
        " 44\n",
        "skipped  0\n",
        "419873979\n",
        "processed "
       ]
      },
      {
       "output_type": "stream",
       "stream": "stdout",
       "text": [
        " 45\n",
        "skipped  0\n",
        "420430754\n",
        "processed "
       ]
      },
      {
       "output_type": "stream",
       "stream": "stdout",
       "text": [
        " 46\n",
        "skipped  0\n",
        "420599387\n",
        "processed "
       ]
      },
      {
       "output_type": "stream",
       "stream": "stdout",
       "text": [
        " 47\n",
        "skipped  0\n",
        "420666122\n",
        "processed "
       ]
      },
      {
       "output_type": "stream",
       "stream": "stdout",
       "text": [
        " 48\n",
        "skipped  0\n",
        "421520860\n",
        "error on download421520860"
       ]
      },
      {
       "output_type": "stream",
       "stream": "stdout",
       "text": [
        "\n",
        "(<type 'exceptions.IOError'>, IOError(\"Couldn't open file /usr/local/lib/python2.7/dist-packages/goose/resources/text/stopwords-po.txt\",), <traceback object at 0x7fcec3c25560>)\n",
        "processed  48\n",
        "skipped  1\n",
        "421834553\n",
        "processed "
       ]
      },
      {
       "output_type": "stream",
       "stream": "stdout",
       "text": [
        " 49\n",
        "skipped  1\n",
        "422181106\n",
        "processed "
       ]
      },
      {
       "output_type": "stream",
       "stream": "stdout",
       "text": [
        " 50\n",
        "skipped  1\n",
        "422280595\n",
        "processed "
       ]
      },
      {
       "output_type": "stream",
       "stream": "stdout",
       "text": [
        " 51\n",
        "skipped  1\n",
        "422910963\n",
        "processed "
       ]
      },
      {
       "output_type": "stream",
       "stream": "stdout",
       "text": [
        " 52\n",
        "skipped  1\n",
        "423318170\n",
        "processed "
       ]
      },
      {
       "output_type": "stream",
       "stream": "stdout",
       "text": [
        " 53\n",
        "skipped  1\n",
        "424080271\n",
        "processed "
       ]
      },
      {
       "output_type": "stream",
       "stream": "stdout",
       "text": [
        " 54\n",
        "skipped  1\n",
        "424369085\n",
        "processed "
       ]
      },
      {
       "output_type": "stream",
       "stream": "stdout",
       "text": [
        " 55\n",
        "skipped  1\n",
        "424796346\n",
        "processed "
       ]
      },
      {
       "output_type": "stream",
       "stream": "stdout",
       "text": [
        " 56\n",
        "skipped  1\n",
        "424840366\n",
        "processed "
       ]
      },
      {
       "output_type": "stream",
       "stream": "stdout",
       "text": [
        " 57\n",
        "skipped  1\n",
        "425206279\n",
        "processed "
       ]
      },
      {
       "output_type": "stream",
       "stream": "stdout",
       "text": [
        " 58\n",
        "skipped  1\n",
        "426405203\n",
        "processed "
       ]
      },
      {
       "output_type": "stream",
       "stream": "stdout",
       "text": [
        " 59\n",
        "skipped  1\n",
        "426560018\n",
        "error on download426560018"
       ]
      },
      {
       "output_type": "stream",
       "stream": "stderr",
       "text": [
        "Traceback (most recent call last):\n",
        "  File \"<ipython-input-54-b4d3e6c4c975>\", line 9, in <module>\n",
        "    res = comp_extractors( extractor_training_object )\n",
        "  File \"<ipython-input-22-92a8482cb560>\", line 19, in comp_extractors\n",
        "    extraction_results = get_extraction_results( eto )\n",
        "  File \"<ipython-input-21-50a4232286a4>\", line 11, in get_extraction_results\n",
        "    ret['py_goose']  = { 'extracted_html': extract_with_python_goose( raw_content ) }\n",
        "  File \"<ipython-input-9-4b4c353cffc7>\", line 6, in extract_with_python_goose\n",
        "    r = g.extract( raw_html=raw_content )\n",
        "  File \"/usr/local/lib/python2.7/dist-packages/goose/__init__.py\", line 56, in extract\n",
        "    return self.crawl(cc)\n",
        "  File \"/usr/local/lib/python2.7/dist-packages/goose/__init__.py\", line 63, in crawl\n",
        "    article = crawler.crawl(crawl_candiate)\n",
        "  File \"/usr/local/lib/python2.7/dist-packages/goose/crawler.py\", line 131, in crawl\n",
        "    self.article.cleaned_text = self.formatter.get_formatted_text()\n",
        "  File \"/usr/local/lib/python2.7/dist-packages/goose/outputformatters.py\", line 66, in get_formatted_text\n",
        "    self.remove_fewwords_paragraphs()\n",
        "  File \"/usr/local/lib/python2.7/dist-packages/goose/outputformatters.py\", line 123, in remove_fewwords_paragraphs\n",
        "    stop_words = self.stopwords_class(language=self.get_language()).get_stopword_count(text)\n",
        "  File \"/usr/local/lib/python2.7/dist-packages/goose/text.py\", line 98, in __init__\n",
        "    self._cached_stop_words[language] = set(FileHelper.loadResourceFile(path).splitlines())\n",
        "  File \"/usr/local/lib/python2.7/dist-packages/goose/utils/__init__.py\", line 79, in loadResourceFile\n",
        "    raise IOError(\"Couldn't open file %s\" % path)\n",
        "IOError: Couldn't open file /usr/local/lib/python2.7/dist-packages/goose/resources/text/stopwords-po.txt\n",
        "Traceback (most recent call last):\n"
       ]
      },
      {
       "output_type": "stream",
       "stream": "stdout",
       "text": [
        "\n",
        "(<type 'exceptions.IOError'>, IOError('cannot identify image file',), <traceback object at 0x7fcec3ce6ef0>)\n",
        "processed  59\n",
        "skipped  2\n",
        "426632784\n",
        "processed "
       ]
      },
      {
       "output_type": "stream",
       "stream": "stdout",
       "text": [
        " 60\n",
        "skipped  2\n",
        "426709900\n",
        "processed "
       ]
      },
      {
       "output_type": "stream",
       "stream": "stdout",
       "text": [
        " 61\n",
        "skipped  2\n",
        "428449440\n",
        "processed "
       ]
      },
      {
       "output_type": "stream",
       "stream": "stdout",
       "text": [
        " 62\n",
        "skipped  2\n",
        "429607289\n",
        "processed "
       ]
      },
      {
       "output_type": "stream",
       "stream": "stdout",
       "text": [
        " 63\n",
        "skipped  2\n",
        "430363249\n",
        "processed "
       ]
      },
      {
       "output_type": "stream",
       "stream": "stdout",
       "text": [
        " 64\n",
        "skipped  2\n",
        "430995428\n",
        "processed "
       ]
      },
      {
       "output_type": "stream",
       "stream": "stdout",
       "text": [
        " 65\n",
        "skipped  2\n",
        "433457459\n",
        "processed "
       ]
      },
      {
       "output_type": "stream",
       "stream": "stdout",
       "text": [
        " 66\n",
        "skipped  2\n",
        "435624796\n",
        "processed "
       ]
      },
      {
       "output_type": "stream",
       "stream": "stdout",
       "text": [
        " 67\n",
        "skipped  2\n",
        "435659593\n",
        "processed "
       ]
      },
      {
       "output_type": "stream",
       "stream": "stdout",
       "text": [
        " 68\n",
        "skipped  2\n",
        "461175103\n",
        "processed "
       ]
      },
      {
       "output_type": "stream",
       "stream": "stdout",
       "text": [
        " 69\n",
        "skipped  2\n",
        "461175549\n",
        "processed "
       ]
      },
      {
       "output_type": "stream",
       "stream": "stdout",
       "text": [
        " 70\n",
        "skipped  2\n",
        "461176415\n",
        "error on download461176415"
       ]
      },
      {
       "output_type": "stream",
       "stream": "stderr",
       "text": [
        "  File \"<ipython-input-54-b4d3e6c4c975>\", line 9, in <module>\n",
        "    res = comp_extractors( extractor_training_object )\n",
        "  File \"<ipython-input-22-92a8482cb560>\", line 19, in comp_extractors\n",
        "    extraction_results = get_extraction_results( eto )\n",
        "  File \"<ipython-input-21-50a4232286a4>\", line 11, in get_extraction_results\n",
        "    ret['py_goose']  = { 'extracted_html': extract_with_python_goose( raw_content ) }\n",
        "  File \"<ipython-input-9-4b4c353cffc7>\", line 6, in extract_with_python_goose\n",
        "    r = g.extract( raw_html=raw_content )\n",
        "  File \"/usr/local/lib/python2.7/dist-packages/goose/__init__.py\", line 56, in extract\n",
        "    return self.crawl(cc)\n",
        "  File \"/usr/local/lib/python2.7/dist-packages/goose/__init__.py\", line 63, in crawl\n",
        "    article = crawler.crawl(crawl_candiate)\n",
        "  File \"/usr/local/lib/python2.7/dist-packages/goose/crawler.py\", line 125, in crawl\n",
        "    self.get_image()\n",
        "  File \"/usr/local/lib/python2.7/dist-packages/goose/crawler.py\", line 147, in get_image\n",
        "    self.article.top_image = self.image_extractor.get_best_image(doc, top_node)\n",
        "  File \"/usr/local/lib/python2.7/dist-packages/goose/images/extractors.py\", line 92, in get_best_image\n",
        "    image = self.check_meta_tag()\n",
        "  File \"/usr/local/lib/python2.7/dist-packages/goose/images/extractors.py\", line 104, in check_meta_tag\n",
        "    image = self.check_opengraph_tag()\n",
        "  File \"/usr/local/lib/python2.7/dist-packages/goose/images/extractors.py\", line 336, in check_opengraph_tag\n",
        "    return self.get_image(item, src, extraction_type='opengraph')\n",
        "  File \"/usr/local/lib/python2.7/dist-packages/goose/images/extractors.py\", line 215, in get_image\n",
        "    local_image = self.get_local_image(image.src)\n",
        "  File \"/usr/local/lib/python2.7/dist-packages/goose/images/extractors.py\", line 344, in get_local_image\n",
        "    self.link_hash, src, self.config)\n",
        "  File \"/usr/local/lib/python2.7/dist-packages/goose/images/utils.py\", line 52, in store_image\n",
        "    image = self.read_localfile(link_hash, src, config)\n",
        "  File \"/usr/local/lib/python2.7/dist-packages/goose/images/utils.py\", line 81, in read_localfile\n",
        "    image_details = self.get_image_dimensions(identify, local_image_name)\n",
        "  File \"/usr/local/lib/python2.7/dist-packages/goose/images/utils.py\", line 36, in get_image_dimensions\n",
        "    image = Image.open(path)\n",
        "  File \"/usr/lib/python2.7/dist-packages/PIL/Image.py\", line 2028, in open\n",
        "    raise IOError(\"cannot identify image file\")\n",
        "IOError: cannot identify image file\n",
        "Traceback (most recent call last):\n"
       ]
      },
      {
       "output_type": "stream",
       "stream": "stdout",
       "text": [
        "\n",
        "(<type 'exceptions.IOError'>, IOError(\"Couldn't open file /usr/local/lib/python2.7/dist-packages/goose/resources/text/stopwords-po.txt\",), <traceback object at 0x7fcec3ba4ea8>)\n",
        "processed  70\n",
        "skipped  3\n",
        "461176844\n",
        "processed "
       ]
      },
      {
       "output_type": "stream",
       "stream": "stdout",
       "text": [
        " 71\n",
        "skipped  3\n",
        "461177487\n",
        "processed "
       ]
      },
      {
       "output_type": "stream",
       "stream": "stdout",
       "text": [
        " 72\n",
        "skipped  3\n",
        "461178557\n",
        "processed "
       ]
      },
      {
       "output_type": "stream",
       "stream": "stdout",
       "text": [
        " 73\n",
        "skipped  3\n",
        "461178590\n",
        "processed "
       ]
      },
      {
       "output_type": "stream",
       "stream": "stdout",
       "text": [
        " 74\n",
        "skipped  3\n",
        "461179203\n",
        "processed "
       ]
      },
      {
       "output_type": "stream",
       "stream": "stdout",
       "text": [
        " 75\n",
        "skipped  3\n",
        "461179222\n",
        "processed "
       ]
      },
      {
       "output_type": "stream",
       "stream": "stdout",
       "text": [
        " 76\n",
        "skipped  3\n",
        "461179441\n",
        "processed "
       ]
      },
      {
       "output_type": "stream",
       "stream": "stdout",
       "text": [
        " 77\n",
        "skipped  3\n",
        "461179762\n",
        "processed "
       ]
      },
      {
       "output_type": "stream",
       "stream": "stdout",
       "text": [
        " 78\n",
        "skipped  3\n",
        "461179818\n",
        "processed "
       ]
      },
      {
       "output_type": "stream",
       "stream": "stdout",
       "text": [
        " 79\n",
        "skipped  3\n",
        "461179954\n",
        "processed "
       ]
      },
      {
       "output_type": "stream",
       "stream": "stdout",
       "text": [
        " 80\n",
        "skipped  3\n",
        "461179956\n",
        "processed "
       ]
      },
      {
       "output_type": "stream",
       "stream": "stdout",
       "text": [
        " 81\n",
        "skipped  3\n",
        "461180307\n",
        "processed "
       ]
      },
      {
       "output_type": "stream",
       "stream": "stdout",
       "text": [
        " 82\n",
        "skipped  3\n",
        "461181039\n",
        "processed "
       ]
      },
      {
       "output_type": "stream",
       "stream": "stdout",
       "text": [
        " 83\n",
        "skipped  3\n",
        "461181597\n",
        "processed "
       ]
      },
      {
       "output_type": "stream",
       "stream": "stdout",
       "text": [
        " 84\n",
        "skipped  3\n",
        "461186137\n",
        "processed "
       ]
      },
      {
       "output_type": "stream",
       "stream": "stdout",
       "text": [
        " 85\n",
        "skipped  3\n",
        "461186258\n",
        "processed "
       ]
      },
      {
       "output_type": "stream",
       "stream": "stdout",
       "text": [
        " 86\n",
        "skipped  3\n",
        "461186833\n",
        "processed "
       ]
      },
      {
       "output_type": "stream",
       "stream": "stdout",
       "text": [
        " 87\n",
        "skipped  3\n",
        "461187188\n",
        "processed "
       ]
      },
      {
       "output_type": "stream",
       "stream": "stdout",
       "text": [
        " 88\n",
        "skipped  3\n",
        "461187261\n",
        "processed "
       ]
      },
      {
       "output_type": "stream",
       "stream": "stdout",
       "text": [
        " 89\n",
        "skipped  3\n",
        "461187577\n",
        "processed "
       ]
      },
      {
       "output_type": "stream",
       "stream": "stdout",
       "text": [
        " 90\n",
        "skipped  3\n",
        "461188549\n",
        "processed "
       ]
      },
      {
       "output_type": "stream",
       "stream": "stdout",
       "text": [
        " 91\n",
        "skipped  3\n",
        "461189069\n",
        "processed "
       ]
      },
      {
       "output_type": "stream",
       "stream": "stdout",
       "text": [
        " 92\n",
        "skipped  3\n",
        "461190586\n",
        "processed "
       ]
      },
      {
       "output_type": "stream",
       "stream": "stdout",
       "text": [
        " 93\n",
        "skipped  3\n",
        "461193383\n",
        "processed "
       ]
      },
      {
       "output_type": "stream",
       "stream": "stdout",
       "text": [
        " 94\n",
        "skipped  3\n",
        "406397565\n",
        "processed "
       ]
      },
      {
       "output_type": "stream",
       "stream": "stdout",
       "text": [
        " 95\n",
        "skipped  3\n",
        "406946308\n",
        "processed "
       ]
      },
      {
       "output_type": "stream",
       "stream": "stdout",
       "text": [
        " 96\n",
        "skipped  3\n",
        "407440556\n",
        "processed "
       ]
      },
      {
       "output_type": "stream",
       "stream": "stdout",
       "text": [
        " 97\n",
        "skipped  3\n",
        "408175125\n",
        "processed "
       ]
      },
      {
       "output_type": "stream",
       "stream": "stdout",
       "text": [
        " 98\n",
        "skipped  3\n",
        "408604940\n",
        "processed "
       ]
      },
      {
       "output_type": "stream",
       "stream": "stdout",
       "text": [
        " 99\n",
        "skipped  3\n",
        "408964569\n",
        "processed "
       ]
      },
      {
       "output_type": "stream",
       "stream": "stdout",
       "text": [
        " 100\n",
        "skipped  3\n",
        "409307571\n",
        "processed "
       ]
      },
      {
       "output_type": "stream",
       "stream": "stdout",
       "text": [
        " 101\n",
        "skipped  3\n",
        "409362014\n",
        "processed "
       ]
      },
      {
       "output_type": "stream",
       "stream": "stdout",
       "text": [
        " 102\n",
        "skipped  3\n",
        "410019932\n",
        "processed "
       ]
      },
      {
       "output_type": "stream",
       "stream": "stdout",
       "text": [
        " 103\n",
        "skipped  3\n",
        "410769033\n",
        "processed "
       ]
      },
      {
       "output_type": "stream",
       "stream": "stdout",
       "text": [
        " 104\n",
        "skipped  3\n",
        "410893054\n",
        "processed "
       ]
      },
      {
       "output_type": "stream",
       "stream": "stdout",
       "text": [
        " 105\n",
        "skipped  3\n",
        "411494070\n",
        "processed "
       ]
      },
      {
       "output_type": "stream",
       "stream": "stdout",
       "text": [
        " 106\n",
        "skipped  3\n",
        "412822633\n",
        "processed "
       ]
      },
      {
       "output_type": "stream",
       "stream": "stdout",
       "text": [
        " 107\n",
        "skipped  3\n",
        "412832327\n",
        "processed "
       ]
      },
      {
       "output_type": "stream",
       "stream": "stdout",
       "text": [
        " 108\n",
        "skipped  3\n",
        "413070223\n",
        "processed "
       ]
      },
      {
       "output_type": "stream",
       "stream": "stdout",
       "text": [
        " 109\n",
        "skipped  3\n",
        "413080625\n",
        "processed "
       ]
      },
      {
       "output_type": "stream",
       "stream": "stdout",
       "text": [
        " 110\n",
        "skipped  3\n",
        "413724188\n",
        "processed "
       ]
      },
      {
       "output_type": "stream",
       "stream": "stdout",
       "text": [
        " 111\n",
        "skipped  3\n",
        "413990063\n",
        "processed "
       ]
      },
      {
       "output_type": "stream",
       "stream": "stdout",
       "text": [
        " 112\n",
        "skipped  3\n",
        "414001946\n",
        "processed "
       ]
      },
      {
       "output_type": "stream",
       "stream": "stdout",
       "text": [
        " 113\n",
        "skipped  3\n",
        "414705852\n",
        "processed "
       ]
      },
      {
       "output_type": "stream",
       "stream": "stdout",
       "text": [
        " 114\n",
        "skipped  3\n",
        "414754369\n",
        "processed "
       ]
      },
      {
       "output_type": "stream",
       "stream": "stdout",
       "text": [
        " 115\n",
        "skipped  3\n",
        "414974366\n",
        "processed "
       ]
      },
      {
       "output_type": "stream",
       "stream": "stdout",
       "text": [
        " 116\n",
        "skipped  3\n",
        "415381471\n",
        "processed "
       ]
      },
      {
       "output_type": "stream",
       "stream": "stdout",
       "text": [
        " 117\n",
        "skipped  3\n",
        "415752815\n",
        "processed "
       ]
      },
      {
       "output_type": "stream",
       "stream": "stdout",
       "text": [
        " 118\n",
        "skipped  3\n",
        "415977284\n",
        "processed "
       ]
      },
      {
       "output_type": "stream",
       "stream": "stdout",
       "text": [
        " 119\n",
        "skipped  3\n",
        "416560140\n",
        "processed "
       ]
      },
      {
       "output_type": "stream",
       "stream": "stdout",
       "text": [
        " 120\n",
        "skipped  3\n",
        "416773947\n",
        "processed "
       ]
      },
      {
       "output_type": "stream",
       "stream": "stdout",
       "text": [
        " 121\n",
        "skipped  3\n",
        "416931217\n",
        "processed "
       ]
      },
      {
       "output_type": "stream",
       "stream": "stdout",
       "text": [
        " 122\n",
        "skipped  3\n",
        "417026931\n",
        "processed "
       ]
      },
      {
       "output_type": "stream",
       "stream": "stdout",
       "text": [
        " 123\n",
        "skipped  3\n",
        "417913575\n",
        "processed "
       ]
      },
      {
       "output_type": "stream",
       "stream": "stdout",
       "text": [
        " 124\n",
        "skipped  3\n",
        "418921816\n",
        "processed "
       ]
      },
      {
       "output_type": "stream",
       "stream": "stdout",
       "text": [
        " 125\n",
        "skipped  3\n",
        "419059149\n",
        "processed "
       ]
      },
      {
       "output_type": "stream",
       "stream": "stdout",
       "text": [
        " 126\n",
        "skipped  3\n",
        "419061380\n",
        "processed "
       ]
      },
      {
       "output_type": "stream",
       "stream": "stdout",
       "text": [
        " 127\n",
        "skipped  3\n",
        "419312194\n",
        "processed "
       ]
      },
      {
       "output_type": "stream",
       "stream": "stdout",
       "text": [
        " 128\n",
        "skipped  3\n",
        "419463576\n",
        "processed "
       ]
      },
      {
       "output_type": "stream",
       "stream": "stdout",
       "text": [
        " 129\n",
        "skipped  3\n",
        "419897309\n",
        "processed "
       ]
      },
      {
       "output_type": "stream",
       "stream": "stdout",
       "text": [
        " 130\n",
        "skipped  3\n",
        "420605489\n",
        "processed "
       ]
      },
      {
       "output_type": "stream",
       "stream": "stdout",
       "text": [
        " 131\n",
        "skipped  3\n",
        "420695976\n",
        "processed "
       ]
      },
      {
       "output_type": "stream",
       "stream": "stdout",
       "text": [
        " 132\n",
        "skipped  3\n",
        "420972612\n",
        "processed "
       ]
      },
      {
       "output_type": "stream",
       "stream": "stdout",
       "text": [
        " 133\n",
        "skipped  3\n",
        "421512071\n",
        "processed "
       ]
      },
      {
       "output_type": "stream",
       "stream": "stdout",
       "text": [
        " 134\n",
        "skipped  3\n",
        "421586812\n",
        "processed "
       ]
      },
      {
       "output_type": "stream",
       "stream": "stdout",
       "text": [
        " 135\n",
        "skipped  3\n",
        "421950008\n",
        "processed "
       ]
      },
      {
       "output_type": "stream",
       "stream": "stdout",
       "text": [
        " 136\n",
        "skipped  3\n",
        "422329395\n",
        "processed "
       ]
      },
      {
       "output_type": "stream",
       "stream": "stdout",
       "text": [
        " 137\n",
        "skipped  3\n",
        "423644184\n",
        "processed "
       ]
      },
      {
       "output_type": "stream",
       "stream": "stdout",
       "text": [
        " 138\n",
        "skipped  3\n",
        "423780415\n",
        "processed "
       ]
      },
      {
       "output_type": "stream",
       "stream": "stdout",
       "text": [
        " 139\n",
        "skipped  3\n",
        "423811752\n",
        "processed "
       ]
      },
      {
       "output_type": "stream",
       "stream": "stdout",
       "text": [
        " 140\n",
        "skipped  3\n",
        "423826345\n",
        "processed "
       ]
      },
      {
       "output_type": "stream",
       "stream": "stdout",
       "text": [
        " 141\n",
        "skipped  3\n",
        "426274790\n",
        "processed "
       ]
      },
      {
       "output_type": "stream",
       "stream": "stdout",
       "text": [
        " 142\n",
        "skipped  3\n",
        "426745030\n",
        "processed "
       ]
      },
      {
       "output_type": "stream",
       "stream": "stdout",
       "text": [
        " 143\n",
        "skipped  3\n",
        "426958717\n",
        "processed "
       ]
      },
      {
       "output_type": "stream",
       "stream": "stdout",
       "text": [
        " 144\n",
        "skipped  3\n",
        "427023406\n",
        "processed "
       ]
      },
      {
       "output_type": "stream",
       "stream": "stdout",
       "text": [
        " 145\n",
        "skipped  3\n",
        "427039192\n",
        "processed "
       ]
      },
      {
       "output_type": "stream",
       "stream": "stdout",
       "text": [
        " 146\n",
        "skipped  3\n",
        "427131787\n",
        "processed "
       ]
      },
      {
       "output_type": "stream",
       "stream": "stdout",
       "text": [
        " 147\n",
        "skipped  3\n",
        "427645929\n",
        "processed "
       ]
      },
      {
       "output_type": "stream",
       "stream": "stdout",
       "text": [
        " 148\n",
        "skipped  3\n",
        "427851499\n",
        "processed "
       ]
      },
      {
       "output_type": "stream",
       "stream": "stdout",
       "text": [
        " 149\n",
        "skipped  3\n",
        "428523804\n",
        "processed "
       ]
      },
      {
       "output_type": "stream",
       "stream": "stdout",
       "text": [
        " 150\n",
        "skipped  3\n",
        "429112619\n",
        "processed "
       ]
      },
      {
       "output_type": "stream",
       "stream": "stdout",
       "text": [
        " 151\n",
        "skipped  3\n",
        "429500447\n",
        "processed "
       ]
      },
      {
       "output_type": "stream",
       "stream": "stdout",
       "text": [
        " 152\n",
        "skipped  3\n",
        "429714766\n",
        "processed "
       ]
      },
      {
       "output_type": "stream",
       "stream": "stdout",
       "text": [
        " 153\n",
        "skipped  3\n",
        "429793967\n",
        "processed "
       ]
      },
      {
       "output_type": "stream",
       "stream": "stdout",
       "text": [
        " 154\n",
        "skipped  3\n",
        "430099220\n",
        "processed "
       ]
      },
      {
       "output_type": "stream",
       "stream": "stdout",
       "text": [
        " 155\n",
        "skipped  3\n",
        "430660615\n",
        "processed "
       ]
      },
      {
       "output_type": "stream",
       "stream": "stdout",
       "text": [
        " 156\n",
        "skipped  3\n",
        "431012388\n",
        "processed "
       ]
      },
      {
       "output_type": "stream",
       "stream": "stdout",
       "text": [
        " 157\n",
        "skipped  3\n",
        "431311136\n",
        "processed "
       ]
      },
      {
       "output_type": "stream",
       "stream": "stdout",
       "text": [
        " 158\n",
        "skipped  3\n",
        "431387007\n",
        "processed "
       ]
      },
      {
       "output_type": "stream",
       "stream": "stdout",
       "text": [
        " 159\n",
        "skipped  3\n",
        "431606529\n",
        "processed "
       ]
      },
      {
       "output_type": "stream",
       "stream": "stdout",
       "text": [
        " 160\n",
        "skipped  3\n",
        "431839510\n",
        "processed "
       ]
      },
      {
       "output_type": "stream",
       "stream": "stdout",
       "text": [
        " 161\n",
        "skipped  3\n",
        "431905299\n",
        "processed "
       ]
      },
      {
       "output_type": "stream",
       "stream": "stdout",
       "text": [
        " 162\n",
        "skipped  3\n",
        "432896524\n",
        "processed "
       ]
      },
      {
       "output_type": "stream",
       "stream": "stdout",
       "text": [
        " 163\n",
        "skipped  3\n",
        "432929604\n",
        "processed "
       ]
      },
      {
       "output_type": "stream",
       "stream": "stdout",
       "text": [
        " 164\n",
        "skipped  3\n",
        "433044130\n",
        "processed "
       ]
      },
      {
       "output_type": "stream",
       "stream": "stdout",
       "text": [
        " 165\n",
        "skipped  3\n",
        "434192180\n",
        "processed "
       ]
      },
      {
       "output_type": "stream",
       "stream": "stdout",
       "text": [
        " 166\n",
        "skipped  3\n",
        "434250046\n",
        "processed "
       ]
      },
      {
       "output_type": "stream",
       "stream": "stdout",
       "text": [
        " 167\n",
        "skipped  3\n",
        "434842660\n",
        "processed "
       ]
      },
      {
       "output_type": "stream",
       "stream": "stdout",
       "text": [
        " 168\n",
        "skipped  3\n",
        "435142187\n",
        "processed "
       ]
      },
      {
       "output_type": "stream",
       "stream": "stdout",
       "text": [
        " 169\n",
        "skipped  3\n",
        "435417572\n",
        "processed "
       ]
      },
      {
       "output_type": "stream",
       "stream": "stdout",
       "text": [
        " 170\n",
        "skipped  3\n",
        "435417726\n",
        "processed "
       ]
      },
      {
       "output_type": "stream",
       "stream": "stdout",
       "text": [
        " 171\n",
        "skipped  3\n",
        "435795096\n",
        "processed "
       ]
      },
      {
       "output_type": "stream",
       "stream": "stdout",
       "text": [
        " 172\n",
        "skipped  3\n",
        "436540640\n",
        "processed "
       ]
      },
      {
       "output_type": "stream",
       "stream": "stdout",
       "text": [
        " 173\n",
        "skipped  3\n",
        "436554531\n",
        "processed "
       ]
      },
      {
       "output_type": "stream",
       "stream": "stdout",
       "text": [
        " 174\n",
        "skipped  3\n",
        "437087573\n",
        "processed "
       ]
      },
      {
       "output_type": "stream",
       "stream": "stdout",
       "text": [
        " 175\n",
        "skipped  3\n",
        "437239472\n",
        "processed "
       ]
      },
      {
       "output_type": "stream",
       "stream": "stdout",
       "text": [
        " 176\n",
        "skipped  3\n",
        "437281074\n",
        "processed "
       ]
      },
      {
       "output_type": "stream",
       "stream": "stdout",
       "text": [
        " 177\n",
        "skipped  3\n",
        "437315186\n",
        "processed "
       ]
      },
      {
       "output_type": "stream",
       "stream": "stdout",
       "text": [
        " 178\n",
        "skipped  3\n",
        "437523403\n",
        "processed "
       ]
      },
      {
       "output_type": "stream",
       "stream": "stdout",
       "text": [
        " 179\n",
        "skipped  3\n",
        "437526788\n",
        "processed "
       ]
      },
      {
       "output_type": "stream",
       "stream": "stdout",
       "text": [
        " 180\n",
        "skipped  3\n",
        "438596131\n",
        "processed "
       ]
      },
      {
       "output_type": "stream",
       "stream": "stdout",
       "text": [
        " 181\n",
        "skipped  3\n",
        "438672710\n",
        "processed "
       ]
      },
      {
       "output_type": "stream",
       "stream": "stdout",
       "text": [
        " 182\n",
        "skipped  3\n",
        "439340014\n",
        "processed "
       ]
      },
      {
       "output_type": "stream",
       "stream": "stdout",
       "text": [
        " 183\n",
        "skipped  3\n",
        "439491986\n",
        "processed "
       ]
      },
      {
       "output_type": "stream",
       "stream": "stdout",
       "text": [
        " 184\n",
        "skipped  3\n",
        "439619864\n",
        "processed "
       ]
      },
      {
       "output_type": "stream",
       "stream": "stdout",
       "text": [
        " 185\n",
        "skipped  3\n",
        "439631363\n",
        "processed "
       ]
      },
      {
       "output_type": "stream",
       "stream": "stdout",
       "text": [
        " 186\n",
        "skipped  3\n",
        "440193709\n",
        "processed "
       ]
      },
      {
       "output_type": "stream",
       "stream": "stdout",
       "text": [
        " 187\n",
        "skipped  3\n",
        "440219216\n",
        "processed "
       ]
      },
      {
       "output_type": "stream",
       "stream": "stdout",
       "text": [
        " 188\n",
        "skipped  3\n",
        "440780462\n",
        "processed "
       ]
      },
      {
       "output_type": "stream",
       "stream": "stdout",
       "text": [
        " 189\n",
        "skipped  3\n",
        "441039343\n",
        "processed "
       ]
      },
      {
       "output_type": "stream",
       "stream": "stdout",
       "text": [
        " 190\n",
        "skipped  3\n",
        "441313630\n",
        "processed "
       ]
      },
      {
       "output_type": "stream",
       "stream": "stdout",
       "text": [
        " 191\n",
        "skipped  3\n",
        "441455864\n",
        "processed "
       ]
      },
      {
       "output_type": "stream",
       "stream": "stdout",
       "text": [
        " 192\n",
        "skipped  3\n",
        "441846112\n",
        "processed "
       ]
      },
      {
       "output_type": "stream",
       "stream": "stdout",
       "text": [
        " 193\n",
        "skipped  3\n",
        "442808951\n",
        "processed "
       ]
      },
      {
       "output_type": "stream",
       "stream": "stdout",
       "text": [
        " 194\n",
        "skipped  3\n",
        "442862362\n",
        "processed "
       ]
      },
      {
       "output_type": "stream",
       "stream": "stdout",
       "text": [
        " 195\n",
        "skipped  3\n",
        "443616755\n",
        "processed "
       ]
      },
      {
       "output_type": "stream",
       "stream": "stdout",
       "text": [
        " 196\n",
        "skipped  3\n",
        "444570682\n",
        "processed "
       ]
      },
      {
       "output_type": "stream",
       "stream": "stdout",
       "text": [
        " 197\n",
        "skipped  3\n",
        "444894095\n",
        "processed "
       ]
      },
      {
       "output_type": "stream",
       "stream": "stdout",
       "text": [
        " 198\n",
        "skipped  3\n",
        "445086933\n",
        "Unexpected error on string '<<'"
       ]
      },
      {
       "output_type": "stream",
       "stream": "stdout",
       "text": [
        " <class 'lxml.etree.ParserError'>\n",
        "Unexpected error on string '<<' <class 'lxml.etree.ParserError'>\n",
        "Unexpected error on string '<<' <class 'lxml.etree.ParserError'>\n",
        "Unexpected error on string '<<' <class 'lxml.etree.ParserError'>\n",
        "processed "
       ]
      },
      {
       "output_type": "stream",
       "stream": "stdout",
       "text": [
        " 199\n",
        "skipped  3\n",
        "445428584\n",
        "processed "
       ]
      },
      {
       "output_type": "stream",
       "stream": "stdout",
       "text": [
        " 200\n",
        "skipped  3\n",
        "445477281\n",
        "processed "
       ]
      },
      {
       "output_type": "stream",
       "stream": "stdout",
       "text": [
        " 201\n",
        "skipped  3\n",
        "446094222\n",
        "processed "
       ]
      },
      {
       "output_type": "stream",
       "stream": "stdout",
       "text": [
        " 202\n",
        "skipped  3\n",
        "446613221\n",
        "processed "
       ]
      },
      {
       "output_type": "stream",
       "stream": "stdout",
       "text": [
        " 203\n",
        "skipped  3\n",
        "447062817\n",
        "processed "
       ]
      },
      {
       "output_type": "stream",
       "stream": "stdout",
       "text": [
        " 204\n",
        "skipped  3\n",
        "447776250\n",
        "processed "
       ]
      },
      {
       "output_type": "stream",
       "stream": "stdout",
       "text": [
        " 205\n",
        "skipped  3\n",
        "448661284\n",
        "processed "
       ]
      },
      {
       "output_type": "stream",
       "stream": "stdout",
       "text": [
        " 206\n",
        "skipped  3\n",
        "448661534\n",
        "processed "
       ]
      },
      {
       "output_type": "stream",
       "stream": "stdout",
       "text": [
        " 207\n",
        "skipped  3\n",
        "448892156\n",
        "processed "
       ]
      },
      {
       "output_type": "stream",
       "stream": "stdout",
       "text": [
        " 208\n",
        "skipped  3\n",
        "448905892\n",
        "processed "
       ]
      },
      {
       "output_type": "stream",
       "stream": "stdout",
       "text": [
        " 209\n",
        "skipped  3\n",
        "449094788\n",
        "processed "
       ]
      },
      {
       "output_type": "stream",
       "stream": "stdout",
       "text": [
        " 210\n",
        "skipped  3\n",
        "449256732\n",
        "processed "
       ]
      },
      {
       "output_type": "stream",
       "stream": "stdout",
       "text": [
        " 211\n",
        "skipped  3\n",
        "450223351\n",
        "processed "
       ]
      },
      {
       "output_type": "stream",
       "stream": "stdout",
       "text": [
        " 212\n",
        "skipped  3\n",
        "450797637\n",
        "processed "
       ]
      },
      {
       "output_type": "stream",
       "stream": "stdout",
       "text": [
        " 213\n",
        "skipped  3\n",
        "452232437\n",
        "processed "
       ]
      },
      {
       "output_type": "stream",
       "stream": "stdout",
       "text": [
        " 214\n",
        "skipped  3\n",
        "453272806\n",
        "processed "
       ]
      },
      {
       "output_type": "stream",
       "stream": "stdout",
       "text": [
        " 215\n",
        "skipped  3\n",
        "454046798\n",
        "processed "
       ]
      },
      {
       "output_type": "stream",
       "stream": "stdout",
       "text": [
        " 216\n",
        "skipped  3\n",
        "454492602\n",
        "processed "
       ]
      },
      {
       "output_type": "stream",
       "stream": "stdout",
       "text": [
        " 217\n",
        "skipped  3\n",
        "455066382\n",
        "processed "
       ]
      },
      {
       "output_type": "stream",
       "stream": "stdout",
       "text": [
        " 218\n",
        "skipped  3\n",
        "455593030\n",
        "processed "
       ]
      },
      {
       "output_type": "stream",
       "stream": "stdout",
       "text": [
        " 219\n",
        "skipped  3\n",
        "456789442\n",
        "processed "
       ]
      },
      {
       "output_type": "stream",
       "stream": "stdout",
       "text": [
        " 220\n",
        "skipped  3\n",
        "457113351\n",
        "processed "
       ]
      },
      {
       "output_type": "stream",
       "stream": "stdout",
       "text": [
        " 221\n",
        "skipped  3\n",
        "457749321\n",
        "processed "
       ]
      },
      {
       "output_type": "stream",
       "stream": "stdout",
       "text": [
        " 222\n",
        "skipped  3\n",
        "457918791\n",
        "processed "
       ]
      },
      {
       "output_type": "stream",
       "stream": "stdout",
       "text": [
        " 223\n",
        "skipped  3\n",
        "457945604\n",
        "processed "
       ]
      },
      {
       "output_type": "stream",
       "stream": "stdout",
       "text": [
        " 224\n",
        "skipped  3\n",
        "458053172\n",
        "processed "
       ]
      },
      {
       "output_type": "stream",
       "stream": "stdout",
       "text": [
        " 225\n",
        "skipped  3\n",
        "458710845\n",
        "processed "
       ]
      },
      {
       "output_type": "stream",
       "stream": "stdout",
       "text": [
        " 226\n",
        "skipped  3\n",
        "459297373\n",
        "processed "
       ]
      },
      {
       "output_type": "stream",
       "stream": "stdout",
       "text": [
        " 227\n",
        "skipped  3\n",
        "459314297\n",
        "processed "
       ]
      },
      {
       "output_type": "stream",
       "stream": "stdout",
       "text": [
        " 228\n",
        "skipped  3\n",
        "459678712\n",
        "processed "
       ]
      },
      {
       "output_type": "stream",
       "stream": "stdout",
       "text": [
        " 229\n",
        "skipped  3\n",
        "459731765\n",
        "processed "
       ]
      },
      {
       "output_type": "stream",
       "stream": "stdout",
       "text": [
        " 230\n",
        "skipped  3\n",
        "461252885\n",
        "processed "
       ]
      },
      {
       "output_type": "stream",
       "stream": "stdout",
       "text": [
        " 231\n",
        "skipped  3\n",
        "462404061\n",
        "processed "
       ]
      },
      {
       "output_type": "stream",
       "stream": "stdout",
       "text": [
        " 232\n",
        "skipped  3\n",
        "462983422\n",
        "processed "
       ]
      },
      {
       "output_type": "stream",
       "stream": "stdout",
       "text": [
        " 233\n",
        "skipped  3\n",
        "463954045\n",
        "processed "
       ]
      },
      {
       "output_type": "stream",
       "stream": "stdout",
       "text": [
        " 234\n",
        "skipped  3\n",
        "464270345\n",
        "processed "
       ]
      },
      {
       "output_type": "stream",
       "stream": "stdout",
       "text": [
        " 235\n",
        "skipped  3\n",
        "465068895\n",
        "processed "
       ]
      },
      {
       "output_type": "stream",
       "stream": "stdout",
       "text": [
        " 236\n",
        "skipped  3\n",
        "465090983\n",
        "processed "
       ]
      },
      {
       "output_type": "stream",
       "stream": "stdout",
       "text": [
        " 237\n",
        "skipped  3\n",
        "466804114\n",
        "processed "
       ]
      },
      {
       "output_type": "stream",
       "stream": "stdout",
       "text": [
        " 238\n",
        "skipped  3\n",
        "467150362\n",
        "processed "
       ]
      },
      {
       "output_type": "stream",
       "stream": "stdout",
       "text": [
        " 239\n",
        "skipped  3\n",
        "468568475\n",
        "processed "
       ]
      },
      {
       "output_type": "stream",
       "stream": "stdout",
       "text": [
        " 240\n",
        "skipped  3\n",
        "468788039\n",
        "processed "
       ]
      },
      {
       "output_type": "stream",
       "stream": "stdout",
       "text": [
        " 241\n",
        "skipped  3\n",
        "468996262\n",
        "processed "
       ]
      },
      {
       "output_type": "stream",
       "stream": "stdout",
       "text": [
        " 242\n",
        "skipped  3\n",
        "469058922\n",
        "processed "
       ]
      },
      {
       "output_type": "stream",
       "stream": "stdout",
       "text": [
        " 243\n",
        "skipped  3\n",
        "470488107\n",
        "processed "
       ]
      },
      {
       "output_type": "stream",
       "stream": "stdout",
       "text": [
        " 244\n",
        "skipped  3\n",
        "473138193\n",
        "processed "
       ]
      },
      {
       "output_type": "stream",
       "stream": "stdout",
       "text": [
        " 245\n",
        "skipped  3\n",
        "474060840\n",
        "processed "
       ]
      },
      {
       "output_type": "stream",
       "stream": "stdout",
       "text": [
        " 246\n",
        "skipped  3\n",
        "474649098\n",
        "processed "
       ]
      },
      {
       "output_type": "stream",
       "stream": "stdout",
       "text": [
        " 247\n",
        "skipped  3\n",
        "474891663\n",
        "processed "
       ]
      },
      {
       "output_type": "stream",
       "stream": "stdout",
       "text": [
        " 248\n",
        "skipped  3\n",
        "475232740\n",
        "processed "
       ]
      },
      {
       "output_type": "stream",
       "stream": "stdout",
       "text": [
        " 249\n",
        "skipped  3\n",
        "475489411\n",
        "processed "
       ]
      },
      {
       "output_type": "stream",
       "stream": "stdout",
       "text": [
        " 250\n",
        "skipped  3\n",
        "475550192\n",
        "processed "
       ]
      },
      {
       "output_type": "stream",
       "stream": "stdout",
       "text": [
        " 251\n",
        "skipped  3\n",
        "475842962\n",
        "processed "
       ]
      },
      {
       "output_type": "stream",
       "stream": "stdout",
       "text": [
        " 252\n",
        "skipped  3\n",
        "476050916\n",
        "processed "
       ]
      },
      {
       "output_type": "stream",
       "stream": "stdout",
       "text": [
        " 253\n",
        "skipped  3\n",
        "476079482\n",
        "processed "
       ]
      },
      {
       "output_type": "stream",
       "stream": "stdout",
       "text": [
        " 254\n",
        "skipped  3\n",
        "476189164\n",
        "processed "
       ]
      },
      {
       "output_type": "stream",
       "stream": "stdout",
       "text": [
        " 255\n",
        "skipped  3\n",
        "476365487\n",
        "processed "
       ]
      },
      {
       "output_type": "stream",
       "stream": "stdout",
       "text": [
        " 256\n",
        "skipped  3\n",
        "476850484\n",
        "processed "
       ]
      },
      {
       "output_type": "stream",
       "stream": "stdout",
       "text": [
        " 257\n",
        "skipped  3\n",
        "476936059\n",
        "processed "
       ]
      },
      {
       "output_type": "stream",
       "stream": "stdout",
       "text": [
        " 258\n",
        "skipped  3\n",
        "476962103\n",
        "processed "
       ]
      },
      {
       "output_type": "stream",
       "stream": "stdout",
       "text": [
        " 259\n",
        "skipped  3\n",
        "477126381\n",
        "processed "
       ]
      },
      {
       "output_type": "stream",
       "stream": "stdout",
       "text": [
        " 260\n",
        "skipped  3\n",
        "477171081\n",
        "processed "
       ]
      },
      {
       "output_type": "stream",
       "stream": "stdout",
       "text": [
        " 261\n",
        "skipped  3\n",
        "477673129\n",
        "processed "
       ]
      },
      {
       "output_type": "stream",
       "stream": "stdout",
       "text": [
        " 262\n",
        "skipped  3\n",
        "477798748\n",
        "processed "
       ]
      },
      {
       "output_type": "stream",
       "stream": "stdout",
       "text": [
        " 263\n",
        "skipped  3\n",
        "477850182\n",
        "processed "
       ]
      },
      {
       "output_type": "stream",
       "stream": "stdout",
       "text": [
        " 264\n",
        "skipped  3\n",
        "478307074\n",
        "processed "
       ]
      },
      {
       "output_type": "stream",
       "stream": "stdout",
       "text": [
        " 265\n",
        "skipped  3\n",
        "478793359\n",
        "processed "
       ]
      },
      {
       "output_type": "stream",
       "stream": "stdout",
       "text": [
        " 266\n",
        "skipped  3\n",
        "479262110\n",
        "processed "
       ]
      },
      {
       "output_type": "stream",
       "stream": "stdout",
       "text": [
        " 267\n",
        "skipped  3\n",
        "479410656\n",
        "processed "
       ]
      },
      {
       "output_type": "stream",
       "stream": "stdout",
       "text": [
        " 268\n",
        "skipped  3\n",
        "480072496\n",
        "processed "
       ]
      },
      {
       "output_type": "stream",
       "stream": "stdout",
       "text": [
        " 269\n",
        "skipped  3\n",
        "480080971\n",
        "processed "
       ]
      },
      {
       "output_type": "stream",
       "stream": "stdout",
       "text": [
        " 270\n",
        "skipped  3\n",
        "480850060\n",
        "processed "
       ]
      },
      {
       "output_type": "stream",
       "stream": "stdout",
       "text": [
        " 271\n",
        "skipped  3\n",
        "480965210\n",
        "processed "
       ]
      },
      {
       "output_type": "stream",
       "stream": "stdout",
       "text": [
        " 272\n",
        "skipped  3\n",
        "481064362\n",
        "processed "
       ]
      },
      {
       "output_type": "stream",
       "stream": "stdout",
       "text": [
        " 273\n",
        "skipped  3\n",
        "481747325\n",
        "processed "
       ]
      },
      {
       "output_type": "stream",
       "stream": "stdout",
       "text": [
        " 274\n",
        "skipped  3\n",
        "481956983\n",
        "processed "
       ]
      },
      {
       "output_type": "stream",
       "stream": "stdout",
       "text": [
        " 275\n",
        "skipped  3\n",
        "481995599\n",
        "processed "
       ]
      },
      {
       "output_type": "stream",
       "stream": "stdout",
       "text": [
        " 276\n",
        "skipped  3\n",
        "482339280\n",
        "processed "
       ]
      },
      {
       "output_type": "stream",
       "stream": "stdout",
       "text": [
        " 277\n",
        "skipped  3\n",
        "482455316\n",
        "processed "
       ]
      },
      {
       "output_type": "stream",
       "stream": "stdout",
       "text": [
        " 278\n",
        "skipped  3\n",
        "482905957\n",
        "processed "
       ]
      },
      {
       "output_type": "stream",
       "stream": "stdout",
       "text": [
        " 279\n",
        "skipped  3\n",
        "483167965\n",
        "processed "
       ]
      },
      {
       "output_type": "stream",
       "stream": "stdout",
       "text": [
        " 280\n",
        "skipped  3\n",
        "483933348\n",
        "processed "
       ]
      },
      {
       "output_type": "stream",
       "stream": "stdout",
       "text": [
        " 281\n",
        "skipped  3\n",
        "484173730\n",
        "processed "
       ]
      },
      {
       "output_type": "stream",
       "stream": "stdout",
       "text": [
        " 282\n",
        "skipped  3\n",
        "484469651\n",
        "processed "
       ]
      },
      {
       "output_type": "stream",
       "stream": "stdout",
       "text": [
        " 283\n",
        "skipped  3\n",
        "485257678\n",
        "processed "
       ]
      },
      {
       "output_type": "stream",
       "stream": "stdout",
       "text": [
        " 284\n",
        "skipped  3\n",
        "485289153\n",
        "processed "
       ]
      },
      {
       "output_type": "stream",
       "stream": "stdout",
       "text": [
        " 285\n",
        "skipped  3\n",
        "485312050\n",
        "processed "
       ]
      },
      {
       "output_type": "stream",
       "stream": "stdout",
       "text": [
        " 286\n",
        "skipped  3\n",
        "485772601\n",
        "processed "
       ]
      },
      {
       "output_type": "stream",
       "stream": "stdout",
       "text": [
        " 287\n",
        "skipped  3\n",
        "485874387\n",
        "processed "
       ]
      },
      {
       "output_type": "stream",
       "stream": "stdout",
       "text": [
        " 288\n",
        "skipped  3\n",
        "486956929\n",
        "processed "
       ]
      },
      {
       "output_type": "stream",
       "stream": "stdout",
       "text": [
        " 289\n",
        "skipped  3\n",
        "486963918\n",
        "processed "
       ]
      },
      {
       "output_type": "stream",
       "stream": "stdout",
       "text": [
        " 290\n",
        "skipped  3\n",
        "486975782\n",
        "processed "
       ]
      },
      {
       "output_type": "stream",
       "stream": "stdout",
       "text": [
        " 291\n",
        "skipped  3\n",
        "487099193\n",
        "processed "
       ]
      },
      {
       "output_type": "stream",
       "stream": "stdout",
       "text": [
        " 292\n",
        "skipped  3\n",
        "487930345\n",
        "processed "
       ]
      },
      {
       "output_type": "stream",
       "stream": "stdout",
       "text": [
        " 293\n",
        "skipped  3\n",
        "487938684\n",
        "processed "
       ]
      },
      {
       "output_type": "stream",
       "stream": "stdout",
       "text": [
        " 294\n",
        "skipped  3\n",
        "488325235\n",
        "processed "
       ]
      },
      {
       "output_type": "stream",
       "stream": "stdout",
       "text": [
        " 295\n",
        "skipped  3\n",
        "489427373\n",
        "processed "
       ]
      },
      {
       "output_type": "stream",
       "stream": "stdout",
       "text": [
        " 296\n",
        "skipped  3\n",
        "489785301\n",
        "processed "
       ]
      },
      {
       "output_type": "stream",
       "stream": "stdout",
       "text": [
        " 297\n",
        "skipped  3\n",
        "490000422\n",
        "processed "
       ]
      },
      {
       "output_type": "stream",
       "stream": "stdout",
       "text": [
        " 298\n",
        "skipped  3\n",
        "491390357\n",
        "processed "
       ]
      },
      {
       "output_type": "stream",
       "stream": "stdout",
       "text": [
        " 299\n",
        "skipped  3\n",
        "491394627\n",
        "processed "
       ]
      },
      {
       "output_type": "stream",
       "stream": "stdout",
       "text": [
        " 300\n",
        "skipped  3\n",
        "491580307\n",
        "processed "
       ]
      },
      {
       "output_type": "stream",
       "stream": "stdout",
       "text": [
        " 301\n",
        "skipped  3\n",
        "491868589\n",
        "processed "
       ]
      },
      {
       "output_type": "stream",
       "stream": "stdout",
       "text": [
        " 302\n",
        "skipped  3\n",
        "492035281\n",
        "processed "
       ]
      },
      {
       "output_type": "stream",
       "stream": "stdout",
       "text": [
        " 303\n",
        "skipped  3\n",
        "492212969\n",
        "processed "
       ]
      },
      {
       "output_type": "stream",
       "stream": "stdout",
       "text": [
        " 304\n",
        "skipped  3\n",
        "492220330\n",
        "processed "
       ]
      },
      {
       "output_type": "stream",
       "stream": "stdout",
       "text": [
        " 305\n",
        "skipped  3\n",
        "492825637\n",
        "processed "
       ]
      },
      {
       "output_type": "stream",
       "stream": "stdout",
       "text": [
        " 306\n",
        "skipped  3\n",
        "492998487\n",
        "processed "
       ]
      },
      {
       "output_type": "stream",
       "stream": "stdout",
       "text": [
        " 307\n",
        "skipped  3\n",
        "493395197\n",
        "processed "
       ]
      },
      {
       "output_type": "stream",
       "stream": "stdout",
       "text": [
        " 308\n",
        "skipped  3\n",
        "493603632\n",
        "processed "
       ]
      },
      {
       "output_type": "stream",
       "stream": "stdout",
       "text": [
        " 309\n",
        "skipped  3\n",
        "494910637\n",
        "processed "
       ]
      },
      {
       "output_type": "stream",
       "stream": "stdout",
       "text": [
        " 310\n",
        "skipped  3\n",
        "495132412\n",
        "processed "
       ]
      },
      {
       "output_type": "stream",
       "stream": "stdout",
       "text": [
        " 311\n",
        "skipped  3\n",
        "495402183\n",
        "processed "
       ]
      },
      {
       "output_type": "stream",
       "stream": "stdout",
       "text": [
        " 312\n",
        "skipped  3\n",
        "495442862\n",
        "processed "
       ]
      },
      {
       "output_type": "stream",
       "stream": "stdout",
       "text": [
        " 313\n",
        "skipped  3\n",
        "495702037\n",
        "processed "
       ]
      },
      {
       "output_type": "stream",
       "stream": "stdout",
       "text": [
        " 314\n",
        "skipped  3\n",
        "495856120\n",
        "processed "
       ]
      },
      {
       "output_type": "stream",
       "stream": "stdout",
       "text": [
        " 315\n",
        "skipped  3\n",
        "496830079\n",
        "processed "
       ]
      },
      {
       "output_type": "stream",
       "stream": "stdout",
       "text": [
        " 316\n",
        "skipped  3\n",
        "496960779\n",
        "processed "
       ]
      },
      {
       "output_type": "stream",
       "stream": "stdout",
       "text": [
        " 317\n",
        "skipped  3\n",
        "497510792\n",
        "processed "
       ]
      },
      {
       "output_type": "stream",
       "stream": "stdout",
       "text": [
        " 318\n",
        "skipped  3\n",
        "497750204\n",
        "processed "
       ]
      },
      {
       "output_type": "stream",
       "stream": "stdout",
       "text": [
        " 319\n",
        "skipped  3\n",
        "498241896\n",
        "processed "
       ]
      },
      {
       "output_type": "stream",
       "stream": "stdout",
       "text": [
        " 320\n",
        "skipped  3\n",
        "498496981\n",
        "processed "
       ]
      },
      {
       "output_type": "stream",
       "stream": "stdout",
       "text": [
        " 321\n",
        "skipped  3\n",
        "498497707\n",
        "processed "
       ]
      },
      {
       "output_type": "stream",
       "stream": "stdout",
       "text": [
        " 322\n",
        "skipped  3\n",
        "499288413\n",
        "processed "
       ]
      },
      {
       "output_type": "stream",
       "stream": "stdout",
       "text": [
        " 323\n",
        "skipped  3\n",
        "499367463\n",
        "processed "
       ]
      },
      {
       "output_type": "stream",
       "stream": "stdout",
       "text": [
        " 324\n",
        "skipped  3\n",
        "499577868\n",
        "processed "
       ]
      },
      {
       "output_type": "stream",
       "stream": "stdout",
       "text": [
        " 325\n",
        "skipped  3\n",
        "499738311\n",
        "processed "
       ]
      },
      {
       "output_type": "stream",
       "stream": "stdout",
       "text": [
        " 326\n",
        "skipped  3\n",
        "499979607\n",
        "processed "
       ]
      },
      {
       "output_type": "stream",
       "stream": "stdout",
       "text": [
        " 327\n",
        "skipped  3\n",
        "500618275\n",
        "processed "
       ]
      },
      {
       "output_type": "stream",
       "stream": "stdout",
       "text": [
        " 328\n",
        "skipped  3\n",
        "501409722\n",
        "processed "
       ]
      },
      {
       "output_type": "stream",
       "stream": "stdout",
       "text": [
        " 329\n",
        "skipped  3\n",
        "501420351\n",
        "processed "
       ]
      },
      {
       "output_type": "stream",
       "stream": "stdout",
       "text": [
        " 330\n",
        "skipped  3\n",
        "501420884\n",
        "processed "
       ]
      },
      {
       "output_type": "stream",
       "stream": "stdout",
       "text": [
        " 331\n",
        "skipped  3\n",
        "501421014\n",
        "processed "
       ]
      },
      {
       "output_type": "stream",
       "stream": "stdout",
       "text": [
        " 332\n",
        "skipped  3\n",
        "501431149\n",
        "processed "
       ]
      },
      {
       "output_type": "stream",
       "stream": "stdout",
       "text": [
        " 333\n",
        "skipped  3\n",
        "501442658\n",
        "processed "
       ]
      },
      {
       "output_type": "stream",
       "stream": "stdout",
       "text": [
        " 334\n",
        "skipped  3\n",
        "501453175\n",
        "processed "
       ]
      },
      {
       "output_type": "stream",
       "stream": "stdout",
       "text": [
        " 335\n",
        "skipped  3\n",
        "501471473\n",
        "processed "
       ]
      },
      {
       "output_type": "stream",
       "stream": "stdout",
       "text": [
        " 336\n",
        "skipped  3\n",
        "502622175\n",
        "processed "
       ]
      },
      {
       "output_type": "stream",
       "stream": "stdout",
       "text": [
        " 337\n",
        "skipped  3\n",
        "502653177\n",
        "processed "
       ]
      },
      {
       "output_type": "stream",
       "stream": "stdout",
       "text": [
        " 338\n",
        "skipped  3\n",
        "502830407\n",
        "processed "
       ]
      },
      {
       "output_type": "stream",
       "stream": "stdout",
       "text": [
        " 339\n",
        "skipped  3\n",
        "503101426\n",
        "processed "
       ]
      },
      {
       "output_type": "stream",
       "stream": "stdout",
       "text": [
        " 340\n",
        "skipped  3\n",
        "503171821\n",
        "processed "
       ]
      },
      {
       "output_type": "stream",
       "stream": "stdout",
       "text": [
        " 341\n",
        "skipped  3\n",
        "503183518\n",
        "processed "
       ]
      },
      {
       "output_type": "stream",
       "stream": "stdout",
       "text": [
        " 342\n",
        "skipped  3\n",
        "503244112\n",
        "processed "
       ]
      },
      {
       "output_type": "stream",
       "stream": "stdout",
       "text": [
        " 343\n",
        "skipped  3\n",
        "503478903\n",
        "processed "
       ]
      },
      {
       "output_type": "stream",
       "stream": "stdout",
       "text": [
        " 344\n",
        "skipped  3\n",
        "504316681\n",
        "processed "
       ]
      },
      {
       "output_type": "stream",
       "stream": "stdout",
       "text": [
        " 345\n",
        "skipped  3\n",
        "504570818\n",
        "processed "
       ]
      },
      {
       "output_type": "stream",
       "stream": "stdout",
       "text": [
        " 346\n",
        "skipped  3\n",
        "504702541\n",
        "processed "
       ]
      },
      {
       "output_type": "stream",
       "stream": "stdout",
       "text": [
        " 347\n",
        "skipped  3\n",
        "505354116\n",
        "processed "
       ]
      },
      {
       "output_type": "stream",
       "stream": "stdout",
       "text": [
        " 348\n",
        "skipped  3\n",
        "505354986\n",
        "processed "
       ]
      },
      {
       "output_type": "stream",
       "stream": "stdout",
       "text": [
        " 349\n",
        "skipped  3\n",
        "505362351\n",
        "processed "
       ]
      },
      {
       "output_type": "stream",
       "stream": "stdout",
       "text": [
        " 350\n",
        "skipped  3\n",
        "505513151\n",
        "processed "
       ]
      },
      {
       "output_type": "stream",
       "stream": "stdout",
       "text": [
        " 351\n",
        "skipped  3\n",
        "505554845\n",
        "processed "
       ]
      },
      {
       "output_type": "stream",
       "stream": "stdout",
       "text": [
        " 352\n",
        "skipped  3\n",
        "505630012\n",
        "processed "
       ]
      },
      {
       "output_type": "stream",
       "stream": "stdout",
       "text": [
        " 353\n",
        "skipped  3\n",
        "505666313\n",
        "processed "
       ]
      },
      {
       "output_type": "stream",
       "stream": "stdout",
       "text": [
        " 354\n",
        "skipped  3\n",
        "505709237\n",
        "processed "
       ]
      },
      {
       "output_type": "stream",
       "stream": "stdout",
       "text": [
        " 355\n",
        "skipped  3\n",
        "505875260\n",
        "processed "
       ]
      },
      {
       "output_type": "stream",
       "stream": "stdout",
       "text": [
        " 356\n",
        "skipped  3\n",
        "505891713\n",
        "processed "
       ]
      },
      {
       "output_type": "stream",
       "stream": "stdout",
       "text": [
        " 357\n",
        "skipped  3\n",
        "505960251\n",
        "processed "
       ]
      },
      {
       "output_type": "stream",
       "stream": "stdout",
       "text": [
        " 358\n",
        "skipped  3\n",
        "506245926\n",
        "processed "
       ]
      },
      {
       "output_type": "stream",
       "stream": "stdout",
       "text": [
        " 359\n",
        "skipped  3\n",
        "506248868\n",
        "processed "
       ]
      },
      {
       "output_type": "stream",
       "stream": "stdout",
       "text": [
        " 360\n",
        "skipped  3\n",
        "506288913\n",
        "processed "
       ]
      },
      {
       "output_type": "stream",
       "stream": "stdout",
       "text": [
        " 361\n",
        "skipped  3\n",
        "506374300\n",
        "processed "
       ]
      },
      {
       "output_type": "stream",
       "stream": "stdout",
       "text": [
        " 362\n",
        "skipped  3\n",
        "506905377\n",
        "processed "
       ]
      },
      {
       "output_type": "stream",
       "stream": "stdout",
       "text": [
        " 363\n",
        "skipped  3\n",
        "508032017\n",
        "processed "
       ]
      },
      {
       "output_type": "stream",
       "stream": "stdout",
       "text": [
        " 364\n",
        "skipped  3\n",
        "508653746\n",
        "processed "
       ]
      },
      {
       "output_type": "stream",
       "stream": "stdout",
       "text": [
        " 365\n",
        "skipped  3\n",
        "509162462\n",
        "processed "
       ]
      },
      {
       "output_type": "stream",
       "stream": "stdout",
       "text": [
        " 366\n",
        "skipped  3\n",
        "509252393\n",
        "processed "
       ]
      },
      {
       "output_type": "stream",
       "stream": "stdout",
       "text": [
        " 367\n",
        "skipped  3\n",
        "509863893\n",
        "processed "
       ]
      },
      {
       "output_type": "stream",
       "stream": "stdout",
       "text": [
        " 368\n",
        "skipped  3\n",
        "510413590\n",
        "processed "
       ]
      },
      {
       "output_type": "stream",
       "stream": "stdout",
       "text": [
        " 369\n",
        "skipped  3\n",
        "510662547\n",
        "processed "
       ]
      },
      {
       "output_type": "stream",
       "stream": "stdout",
       "text": [
        " 370\n",
        "skipped  3\n",
        "510881596\n",
        "processed "
       ]
      },
      {
       "output_type": "stream",
       "stream": "stdout",
       "text": [
        " 371\n",
        "skipped  3\n",
        "510954456\n",
        "processed "
       ]
      },
      {
       "output_type": "stream",
       "stream": "stdout",
       "text": [
        " 372\n",
        "skipped  3\n",
        "510955330\n",
        "processed "
       ]
      },
      {
       "output_type": "stream",
       "stream": "stdout",
       "text": [
        " 373\n",
        "skipped  3\n",
        "511823889\n",
        "processed "
       ]
      },
      {
       "output_type": "stream",
       "stream": "stdout",
       "text": [
        " 374\n",
        "skipped  3\n",
        "512505124\n",
        "processed "
       ]
      },
      {
       "output_type": "stream",
       "stream": "stdout",
       "text": [
        " 375\n",
        "skipped  3\n",
        "512677517\n",
        "processed "
       ]
      },
      {
       "output_type": "stream",
       "stream": "stdout",
       "text": [
        " 376\n",
        "skipped  3\n",
        "512765019\n",
        "processed "
       ]
      },
      {
       "output_type": "stream",
       "stream": "stdout",
       "text": [
        " 377\n",
        "skipped  3\n",
        "514105704\n",
        "processed "
       ]
      },
      {
       "output_type": "stream",
       "stream": "stdout",
       "text": [
        " 378\n",
        "skipped  3\n",
        "514153344\n",
        "processed "
       ]
      },
      {
       "output_type": "stream",
       "stream": "stdout",
       "text": [
        " 379\n",
        "skipped  3\n",
        "514364011\n",
        "processed "
       ]
      },
      {
       "output_type": "stream",
       "stream": "stdout",
       "text": [
        " 380\n",
        "skipped  3\n",
        "514378750\n",
        "processed "
       ]
      },
      {
       "output_type": "stream",
       "stream": "stdout",
       "text": [
        " 381\n",
        "skipped  3\n",
        "514572763\n",
        "processed "
       ]
      },
      {
       "output_type": "stream",
       "stream": "stdout",
       "text": [
        " 382\n",
        "skipped  3\n",
        "514931592\n",
        "processed "
       ]
      },
      {
       "output_type": "stream",
       "stream": "stdout",
       "text": [
        " 383\n",
        "skipped  3\n",
        "515594059\n",
        "processed "
       ]
      },
      {
       "output_type": "stream",
       "stream": "stdout",
       "text": [
        " 384\n",
        "skipped  3\n",
        "515980414\n",
        "processed "
       ]
      },
      {
       "output_type": "stream",
       "stream": "stdout",
       "text": [
        " 385\n",
        "skipped  3\n",
        "516147422\n",
        "processed "
       ]
      },
      {
       "output_type": "stream",
       "stream": "stdout",
       "text": [
        " 386\n",
        "skipped  3\n",
        "516155213\n",
        "processed "
       ]
      },
      {
       "output_type": "stream",
       "stream": "stdout",
       "text": [
        " 387\n",
        "skipped  3\n",
        "516527178\n",
        "processed "
       ]
      },
      {
       "output_type": "stream",
       "stream": "stdout",
       "text": [
        " 388\n",
        "skipped  3\n",
        "517088904\n",
        "processed "
       ]
      },
      {
       "output_type": "stream",
       "stream": "stdout",
       "text": [
        " 389\n",
        "skipped  3\n",
        "517204863\n",
        "processed "
       ]
      },
      {
       "output_type": "stream",
       "stream": "stdout",
       "text": [
        " 390\n",
        "skipped  3\n",
        "517393170\n",
        "processed "
       ]
      },
      {
       "output_type": "stream",
       "stream": "stdout",
       "text": [
        " 391\n",
        "skipped  3\n",
        "518149302\n",
        "processed "
       ]
      },
      {
       "output_type": "stream",
       "stream": "stdout",
       "text": [
        " 392\n",
        "skipped  3\n",
        "518752724\n",
        "processed "
       ]
      },
      {
       "output_type": "stream",
       "stream": "stdout",
       "text": [
        " 393\n",
        "skipped  3\n",
        "518815044\n",
        "processed "
       ]
      },
      {
       "output_type": "stream",
       "stream": "stdout",
       "text": [
        " 394\n",
        "skipped  3\n",
        "518917973\n",
        "processed "
       ]
      },
      {
       "output_type": "stream",
       "stream": "stdout",
       "text": [
        " 395\n",
        "skipped  3\n",
        "519698497\n",
        "processed "
       ]
      },
      {
       "output_type": "stream",
       "stream": "stdout",
       "text": [
        " 396\n",
        "skipped  3\n",
        "519788971\n",
        "processed "
       ]
      },
      {
       "output_type": "stream",
       "stream": "stdout",
       "text": [
        " 397\n",
        "skipped  3\n",
        "519948923\n",
        "processed "
       ]
      },
      {
       "output_type": "stream",
       "stream": "stdout",
       "text": [
        " 398\n",
        "skipped  3\n",
        "520302517\n",
        "processed "
       ]
      },
      {
       "output_type": "stream",
       "stream": "stdout",
       "text": [
        " 399\n",
        "skipped  3\n",
        "520916358\n",
        "processed "
       ]
      },
      {
       "output_type": "stream",
       "stream": "stdout",
       "text": [
        " 400\n",
        "skipped  3\n",
        "521501901\n",
        "processed "
       ]
      },
      {
       "output_type": "stream",
       "stream": "stdout",
       "text": [
        " 401\n",
        "skipped  3\n",
        "521596942\n",
        "processed "
       ]
      },
      {
       "output_type": "stream",
       "stream": "stdout",
       "text": [
        " 402\n",
        "skipped  3\n",
        "524336614\n",
        "processed "
       ]
      },
      {
       "output_type": "stream",
       "stream": "stdout",
       "text": [
        " 403\n",
        "skipped  3\n",
        "524583342\n",
        "processed "
       ]
      },
      {
       "output_type": "stream",
       "stream": "stdout",
       "text": [
        " 404\n",
        "skipped  3\n",
        "524747370\n",
        "processed "
       ]
      },
      {
       "output_type": "stream",
       "stream": "stdout",
       "text": [
        " 405\n",
        "skipped  3\n",
        "525018299\n",
        "processed "
       ]
      },
      {
       "output_type": "stream",
       "stream": "stdout",
       "text": [
        " 406\n",
        "skipped  3\n",
        "525274342\n",
        "processed "
       ]
      },
      {
       "output_type": "stream",
       "stream": "stdout",
       "text": [
        " 407\n",
        "skipped  3\n",
        "525762267\n",
        "processed "
       ]
      },
      {
       "output_type": "stream",
       "stream": "stdout",
       "text": [
        " 408\n",
        "skipped  3\n",
        "526210669\n",
        "processed "
       ]
      },
      {
       "output_type": "stream",
       "stream": "stdout",
       "text": [
        " 409\n",
        "skipped  3\n",
        "526399492\n",
        "processed "
       ]
      },
      {
       "output_type": "stream",
       "stream": "stdout",
       "text": [
        " 410\n",
        "skipped  3\n",
        "526437284\n",
        "processed "
       ]
      },
      {
       "output_type": "stream",
       "stream": "stdout",
       "text": [
        " 411\n",
        "skipped  3\n",
        "526513004\n",
        "processed "
       ]
      },
      {
       "output_type": "stream",
       "stream": "stdout",
       "text": [
        " 412\n",
        "skipped  3\n",
        "526972862\n",
        "processed "
       ]
      },
      {
       "output_type": "stream",
       "stream": "stdout",
       "text": [
        " 413\n",
        "skipped  3\n",
        "527258084\n",
        "processed "
       ]
      },
      {
       "output_type": "stream",
       "stream": "stdout",
       "text": [
        " 414\n",
        "skipped  3\n",
        "528174162\n",
        "processed "
       ]
      },
      {
       "output_type": "stream",
       "stream": "stdout",
       "text": [
        " 415\n",
        "skipped  3\n",
        "528717265\n",
        "processed "
       ]
      },
      {
       "output_type": "stream",
       "stream": "stdout",
       "text": [
        " 416\n",
        "skipped  3\n",
        "529134306\n",
        "processed "
       ]
      },
      {
       "output_type": "stream",
       "stream": "stdout",
       "text": [
        " 417\n",
        "skipped  3\n",
        "529174292\n",
        "error on download529174292"
       ]
      },
      {
       "output_type": "stream",
       "stream": "stderr",
       "text": [
        "  File \"<ipython-input-54-b4d3e6c4c975>\", line 9, in <module>\n",
        "    res = comp_extractors( extractor_training_object )\n",
        "  File \"<ipython-input-22-92a8482cb560>\", line 19, in comp_extractors\n",
        "    extraction_results = get_extraction_results( eto )\n",
        "  File \"<ipython-input-21-50a4232286a4>\", line 11, in get_extraction_results\n",
        "    ret['py_goose']  = { 'extracted_html': extract_with_python_goose( raw_content ) }\n",
        "  File \"<ipython-input-9-4b4c353cffc7>\", line 6, in extract_with_python_goose\n",
        "    r = g.extract( raw_html=raw_content )\n",
        "  File \"/usr/local/lib/python2.7/dist-packages/goose/__init__.py\", line 56, in extract\n",
        "    return self.crawl(cc)\n",
        "  File \"/usr/local/lib/python2.7/dist-packages/goose/__init__.py\", line 63, in crawl\n",
        "    article = crawler.crawl(crawl_candiate)\n",
        "  File \"/usr/local/lib/python2.7/dist-packages/goose/crawler.py\", line 131, in crawl\n",
        "    self.article.cleaned_text = self.formatter.get_formatted_text()\n",
        "  File \"/usr/local/lib/python2.7/dist-packages/goose/outputformatters.py\", line 66, in get_formatted_text\n",
        "    self.remove_fewwords_paragraphs()\n",
        "  File \"/usr/local/lib/python2.7/dist-packages/goose/outputformatters.py\", line 123, in remove_fewwords_paragraphs\n",
        "    stop_words = self.stopwords_class(language=self.get_language()).get_stopword_count(text)\n",
        "  File \"/usr/local/lib/python2.7/dist-packages/goose/text.py\", line 98, in __init__\n",
        "    self._cached_stop_words[language] = set(FileHelper.loadResourceFile(path).splitlines())\n",
        "  File \"/usr/local/lib/python2.7/dist-packages/goose/utils/__init__.py\", line 79, in loadResourceFile\n",
        "    raise IOError(\"Couldn't open file %s\" % path)\n",
        "IOError: Couldn't open file /usr/local/lib/python2.7/dist-packages/goose/resources/text/stopwords-po.txt\n",
        "Traceback (most recent call last):\n"
       ]
      },
      {
       "output_type": "stream",
       "stream": "stdout",
       "text": [
        "\n",
        "(<type 'exceptions.IOError'>, IOError('cannot identify image file',), <traceback object at 0x7fcec3beda28>)\n",
        "processed  417\n",
        "skipped  4\n",
        "529318707\n",
        "processed "
       ]
      },
      {
       "output_type": "stream",
       "stream": "stdout",
       "text": [
        " 418\n",
        "skipped  4\n",
        "529350751\n",
        "processed "
       ]
      },
      {
       "output_type": "stream",
       "stream": "stdout",
       "text": [
        " 419\n",
        "skipped  4\n",
        "529500550\n",
        "processed "
       ]
      },
      {
       "output_type": "stream",
       "stream": "stdout",
       "text": [
        " 420\n",
        "skipped  4\n",
        "529638751\n",
        "processed "
       ]
      },
      {
       "output_type": "stream",
       "stream": "stdout",
       "text": [
        " 421\n",
        "skipped  4\n",
        "529645874\n",
        "processed "
       ]
      },
      {
       "output_type": "stream",
       "stream": "stdout",
       "text": [
        " 422\n",
        "skipped  4\n",
        "529645941\n",
        "processed "
       ]
      },
      {
       "output_type": "stream",
       "stream": "stdout",
       "text": [
        " 423\n",
        "skipped  4\n",
        "529698279\n",
        "processed "
       ]
      },
      {
       "output_type": "stream",
       "stream": "stdout",
       "text": [
        " 424\n",
        "skipped  4\n",
        "529792413\n",
        "processed "
       ]
      },
      {
       "output_type": "stream",
       "stream": "stdout",
       "text": [
        " 425\n",
        "skipped  4\n",
        "529835888\n",
        "processed "
       ]
      },
      {
       "output_type": "stream",
       "stream": "stdout",
       "text": [
        " 426\n",
        "skipped  4\n",
        "529849320\n",
        "processed "
       ]
      },
      {
       "output_type": "stream",
       "stream": "stdout",
       "text": [
        " 427\n",
        "skipped  4\n",
        "529860654\n",
        "processed "
       ]
      },
      {
       "output_type": "stream",
       "stream": "stdout",
       "text": [
        " 428\n",
        "skipped  4\n",
        "529872483\n",
        "processed "
       ]
      },
      {
       "output_type": "stream",
       "stream": "stdout",
       "text": [
        " 429\n",
        "skipped  4\n",
        "529878837\n",
        "error on download529878837"
       ]
      },
      {
       "output_type": "stream",
       "stream": "stderr",
       "text": [
        "  File \"<ipython-input-54-b4d3e6c4c975>\", line 9, in <module>\n",
        "    res = comp_extractors( extractor_training_object )\n",
        "  File \"<ipython-input-22-92a8482cb560>\", line 19, in comp_extractors\n",
        "    extraction_results = get_extraction_results( eto )\n",
        "  File \"<ipython-input-21-50a4232286a4>\", line 11, in get_extraction_results\n",
        "    ret['py_goose']  = { 'extracted_html': extract_with_python_goose( raw_content ) }\n",
        "  File \"<ipython-input-9-4b4c353cffc7>\", line 6, in extract_with_python_goose\n",
        "    r = g.extract( raw_html=raw_content )\n",
        "  File \"/usr/local/lib/python2.7/dist-packages/goose/__init__.py\", line 56, in extract\n",
        "    return self.crawl(cc)\n",
        "  File \"/usr/local/lib/python2.7/dist-packages/goose/__init__.py\", line 63, in crawl\n",
        "    article = crawler.crawl(crawl_candiate)\n",
        "  File \"/usr/local/lib/python2.7/dist-packages/goose/crawler.py\", line 125, in crawl\n",
        "    self.get_image()\n",
        "  File \"/usr/local/lib/python2.7/dist-packages/goose/crawler.py\", line 147, in get_image\n",
        "    self.article.top_image = self.image_extractor.get_best_image(doc, top_node)\n",
        "  File \"/usr/local/lib/python2.7/dist-packages/goose/images/extractors.py\", line 88, in get_best_image\n",
        "    image = self.check_large_images(topNode, 0, 0)\n",
        "  File \"/usr/local/lib/python2.7/dist-packages/goose/images/extractors.py\", line 141, in check_large_images\n",
        "    depth_obj.parent_depth, depth_obj.sibling_depth)\n",
        "  File \"/usr/local/lib/python2.7/dist-packages/goose/images/extractors.py\", line 141, in check_large_images\n",
        "    depth_obj.parent_depth, depth_obj.sibling_depth)\n",
        "  File \"/usr/local/lib/python2.7/dist-packages/goose/images/extractors.py\", line 141, in check_large_images\n",
        "    depth_obj.parent_depth, depth_obj.sibling_depth)\n",
        "  File \"/usr/local/lib/python2.7/dist-packages/goose/images/extractors.py\", line 141, in check_large_images\n",
        "    depth_obj.parent_depth, depth_obj.sibling_depth)\n",
        "  File \"/usr/local/lib/python2.7/dist-packages/goose/images/extractors.py\", line 141, in check_large_images\n",
        "    depth_obj.parent_depth, depth_obj.sibling_depth)\n",
        "  File \"/usr/local/lib/python2.7/dist-packages/goose/images/extractors.py\", line 122, in check_large_images\n",
        "    good_images = self.get_image_candidates(node)\n",
        "  File \"/usr/local/lib/python2.7/dist-packages/goose/images/extractors.py\", line 283, in get_image_candidates\n",
        "    good_images = self.get_images_bytesize_match(filtered_images)\n",
        "  File \"/usr/local/lib/python2.7/dist-packages/goose/images/extractors.py\", line 299, in get_images_bytesize_match\n",
        "    local_image = self.get_local_image(src)\n",
        "  File \"/usr/local/lib/python2.7/dist-packages/goose/images/extractors.py\", line 344, in get_local_image\n",
        "    self.link_hash, src, self.config)\n",
        "  File \"/usr/local/lib/python2.7/dist-packages/goose/images/utils.py\", line 52, in store_image\n",
        "    image = self.read_localfile(link_hash, src, config)\n",
        "  File \"/usr/local/lib/python2.7/dist-packages/goose/images/utils.py\", line 81, in read_localfile\n",
        "    image_details = self.get_image_dimensions(identify, local_image_name)\n",
        "  File \"/usr/local/lib/python2.7/dist-packages/goose/images/utils.py\", line 36, in get_image_dimensions\n",
        "    image = Image.open(path)\n",
        "  File \"/usr/lib/python2.7/dist-packages/PIL/Image.py\", line 2028, in open\n",
        "    raise IOError(\"cannot identify image file\")\n",
        "IOError: cannot identify image file\n",
        "Traceback (most recent call last):\n"
       ]
      },
      {
       "output_type": "stream",
       "stream": "stdout",
       "text": [
        "\n",
        "(<type 'exceptions.IOError'>, IOError('cannot identify image file',), <traceback object at 0x7fcec3b9e638>)\n",
        "processed  429\n",
        "skipped  5\n",
        "529887477\n",
        "processed "
       ]
      },
      {
       "output_type": "stream",
       "stream": "stdout",
       "text": [
        " 430\n",
        "skipped  5\n",
        "529897403\n",
        "processed "
       ]
      },
      {
       "output_type": "stream",
       "stream": "stdout",
       "text": [
        " 431\n",
        "skipped  5\n",
        "529897845\n",
        "processed "
       ]
      },
      {
       "output_type": "stream",
       "stream": "stdout",
       "text": [
        " 432\n",
        "skipped  5\n",
        "529985569\n",
        "processed "
       ]
      },
      {
       "output_type": "stream",
       "stream": "stdout",
       "text": [
        " 433\n",
        "skipped  5\n",
        "530078770\n",
        "processed "
       ]
      },
      {
       "output_type": "stream",
       "stream": "stdout",
       "text": [
        " 434\n",
        "skipped  5\n",
        "530528969\n",
        "processed "
       ]
      },
      {
       "output_type": "stream",
       "stream": "stdout",
       "text": [
        " 435\n",
        "skipped  5\n",
        "530758329\n",
        "processed "
       ]
      },
      {
       "output_type": "stream",
       "stream": "stdout",
       "text": [
        " 436\n",
        "skipped  5\n",
        "530760478\n",
        "processed "
       ]
      },
      {
       "output_type": "stream",
       "stream": "stdout",
       "text": [
        " 437\n",
        "skipped  5\n",
        "531116330\n",
        "processed "
       ]
      },
      {
       "output_type": "stream",
       "stream": "stdout",
       "text": [
        " 438\n",
        "skipped  5\n",
        "531271665\n",
        "processed "
       ]
      },
      {
       "output_type": "stream",
       "stream": "stdout",
       "text": [
        " 439\n",
        "skipped  5\n",
        "531541254\n",
        "processed "
       ]
      },
      {
       "output_type": "stream",
       "stream": "stdout",
       "text": [
        " 440\n",
        "skipped  5\n",
        "531805217\n",
        "processed "
       ]
      },
      {
       "output_type": "stream",
       "stream": "stdout",
       "text": [
        " 441\n",
        "skipped  5\n",
        "531997009\n",
        "processed "
       ]
      },
      {
       "output_type": "stream",
       "stream": "stdout",
       "text": [
        " 442\n",
        "skipped  5\n",
        "532554918\n",
        "processed "
       ]
      },
      {
       "output_type": "stream",
       "stream": "stdout",
       "text": [
        " 443\n",
        "skipped  5\n",
        "532672804\n",
        "processed "
       ]
      },
      {
       "output_type": "stream",
       "stream": "stdout",
       "text": [
        " 444\n",
        "skipped  5\n",
        "533194544\n",
        "processed "
       ]
      },
      {
       "output_type": "stream",
       "stream": "stdout",
       "text": [
        " 445\n",
        "skipped  5\n",
        "533730844\n",
        "processed "
       ]
      },
      {
       "output_type": "stream",
       "stream": "stdout",
       "text": [
        " 446\n",
        "skipped  5\n",
        "533889958\n",
        "processed "
       ]
      },
      {
       "output_type": "stream",
       "stream": "stdout",
       "text": [
        " 447\n",
        "skipped  5\n",
        "534093073\n",
        "processed "
       ]
      },
      {
       "output_type": "stream",
       "stream": "stdout",
       "text": [
        " 448\n",
        "skipped  5\n",
        "534505078\n",
        "processed "
       ]
      },
      {
       "output_type": "stream",
       "stream": "stdout",
       "text": [
        " 449\n",
        "skipped  5\n",
        "534718899\n",
        "processed "
       ]
      },
      {
       "output_type": "stream",
       "stream": "stdout",
       "text": [
        " 450\n",
        "skipped  5\n",
        "534742315\n",
        "processed "
       ]
      },
      {
       "output_type": "stream",
       "stream": "stdout",
       "text": [
        " 451\n",
        "skipped  5\n",
        "534981910\n",
        "processed "
       ]
      },
      {
       "output_type": "stream",
       "stream": "stdout",
       "text": [
        " 452\n",
        "skipped  5\n",
        "535201962\n",
        "processed "
       ]
      },
      {
       "output_type": "stream",
       "stream": "stdout",
       "text": [
        " 453\n",
        "skipped  5\n",
        "535469332\n",
        "processed "
       ]
      },
      {
       "output_type": "stream",
       "stream": "stdout",
       "text": [
        " 454\n",
        "skipped  5\n",
        "535880958\n",
        "processed "
       ]
      },
      {
       "output_type": "stream",
       "stream": "stdout",
       "text": [
        " 455\n",
        "skipped  5\n",
        "536622410\n",
        "processed "
       ]
      },
      {
       "output_type": "stream",
       "stream": "stdout",
       "text": [
        " 456\n",
        "skipped  5\n",
        "536622427\n",
        "processed "
       ]
      },
      {
       "output_type": "stream",
       "stream": "stdout",
       "text": [
        " 457\n",
        "skipped  5\n",
        "536670142\n",
        "processed "
       ]
      },
      {
       "output_type": "stream",
       "stream": "stdout",
       "text": [
        " 458\n",
        "skipped  5\n",
        "536689603\n",
        "processed "
       ]
      },
      {
       "output_type": "stream",
       "stream": "stdout",
       "text": [
        " 459\n",
        "skipped  5\n",
        "536720884\n",
        "processed "
       ]
      },
      {
       "output_type": "stream",
       "stream": "stdout",
       "text": [
        " 460\n",
        "skipped  5\n",
        "536817371\n",
        "processed "
       ]
      },
      {
       "output_type": "stream",
       "stream": "stdout",
       "text": [
        " 461\n",
        "skipped  5\n",
        "536828101\n",
        "processed "
       ]
      },
      {
       "output_type": "stream",
       "stream": "stdout",
       "text": [
        " 462\n",
        "skipped  5\n",
        "536833731\n",
        "processed "
       ]
      },
      {
       "output_type": "stream",
       "stream": "stdout",
       "text": [
        " 463\n",
        "skipped  5\n",
        "536870204\n",
        "processed "
       ]
      },
      {
       "output_type": "stream",
       "stream": "stdout",
       "text": [
        " 464\n",
        "skipped  5\n",
        "536977072\n",
        "processed "
       ]
      },
      {
       "output_type": "stream",
       "stream": "stdout",
       "text": [
        " 465\n",
        "skipped  5\n",
        "537231678\n",
        "processed "
       ]
      },
      {
       "output_type": "stream",
       "stream": "stdout",
       "text": [
        " 466\n",
        "skipped  5\n",
        "537256396\n",
        "processed "
       ]
      },
      {
       "output_type": "stream",
       "stream": "stdout",
       "text": [
        " 467\n",
        "skipped  5\n",
        "537501183\n",
        "processed "
       ]
      },
      {
       "output_type": "stream",
       "stream": "stdout",
       "text": [
        " 468\n",
        "skipped  5\n",
        "537704893\n",
        "processed "
       ]
      },
      {
       "output_type": "stream",
       "stream": "stdout",
       "text": [
        " 469\n",
        "skipped  5\n",
        "538721777\n",
        "processed "
       ]
      },
      {
       "output_type": "stream",
       "stream": "stdout",
       "text": [
        " 470\n",
        "skipped  5\n",
        "539056055\n",
        "processed "
       ]
      },
      {
       "output_type": "stream",
       "stream": "stdout",
       "text": [
        " 471\n",
        "skipped  5\n",
        "539126425\n",
        "processed "
       ]
      },
      {
       "output_type": "stream",
       "stream": "stdout",
       "text": [
        " 472\n",
        "skipped  5\n",
        "539382819\n",
        "processed "
       ]
      },
      {
       "output_type": "stream",
       "stream": "stdout",
       "text": [
        " 473\n",
        "skipped  5\n",
        "539387198\n",
        "processed "
       ]
      },
      {
       "output_type": "stream",
       "stream": "stdout",
       "text": [
        " 474\n",
        "skipped  5\n",
        "539389371\n",
        "processed "
       ]
      },
      {
       "output_type": "stream",
       "stream": "stdout",
       "text": [
        " 475\n",
        "skipped  5\n",
        "539392922\n",
        "processed "
       ]
      },
      {
       "output_type": "stream",
       "stream": "stdout",
       "text": [
        " 476\n",
        "skipped  5\n",
        "539411169\n",
        "processed "
       ]
      },
      {
       "output_type": "stream",
       "stream": "stdout",
       "text": [
        " 477\n",
        "skipped  5\n",
        "539415012\n",
        "processed "
       ]
      },
      {
       "output_type": "stream",
       "stream": "stdout",
       "text": [
        " 478\n",
        "skipped  5\n",
        "539423034\n",
        "processed "
       ]
      },
      {
       "output_type": "stream",
       "stream": "stdout",
       "text": [
        " 479\n",
        "skipped  5\n",
        "539444342\n",
        "processed "
       ]
      },
      {
       "output_type": "stream",
       "stream": "stdout",
       "text": [
        " 480\n",
        "skipped  5\n",
        "539444757\n",
        "processed "
       ]
      },
      {
       "output_type": "stream",
       "stream": "stdout",
       "text": [
        " 481\n",
        "skipped  5\n",
        "539445540\n",
        "processed "
       ]
      },
      {
       "output_type": "stream",
       "stream": "stdout",
       "text": [
        " 482\n",
        "skipped  5\n",
        "539453644\n",
        "processed "
       ]
      },
      {
       "output_type": "stream",
       "stream": "stdout",
       "text": [
        " 483\n",
        "skipped  5\n",
        "539482866\n",
        "processed "
       ]
      },
      {
       "output_type": "stream",
       "stream": "stdout",
       "text": [
        " 484\n",
        "skipped  5\n",
        "539483121\n",
        "processed "
       ]
      },
      {
       "output_type": "stream",
       "stream": "stdout",
       "text": [
        " 485\n",
        "skipped  5\n",
        "539535265\n",
        "processed "
       ]
      },
      {
       "output_type": "stream",
       "stream": "stdout",
       "text": [
        " 486\n",
        "skipped  5\n",
        "539535898\n",
        "processed "
       ]
      },
      {
       "output_type": "stream",
       "stream": "stdout",
       "text": [
        " 487\n",
        "skipped  5\n",
        "539693458\n",
        "processed "
       ]
      },
      {
       "output_type": "stream",
       "stream": "stdout",
       "text": [
        " 488\n",
        "skipped  5\n",
        "539699310\n",
        "processed "
       ]
      },
      {
       "output_type": "stream",
       "stream": "stdout",
       "text": [
        " 489\n",
        "skipped  5\n",
        "539784484\n",
        "processed "
       ]
      },
      {
       "output_type": "stream",
       "stream": "stdout",
       "text": [
        " 490\n",
        "skipped  5\n",
        "539855645\n",
        "processed "
       ]
      },
      {
       "output_type": "stream",
       "stream": "stdout",
       "text": [
        " 491\n",
        "skipped  5\n",
        "539862886\n",
        "processed "
       ]
      },
      {
       "output_type": "stream",
       "stream": "stdout",
       "text": [
        " 492\n",
        "skipped  5\n",
        "540049468\n",
        "processed "
       ]
      },
      {
       "output_type": "stream",
       "stream": "stdout",
       "text": [
        " 493\n",
        "skipped  5\n",
        "540072482\n",
        "processed "
       ]
      },
      {
       "output_type": "stream",
       "stream": "stdout",
       "text": [
        " 494\n",
        "skipped  5\n",
        "540219129\n",
        "processed "
       ]
      },
      {
       "output_type": "stream",
       "stream": "stdout",
       "text": [
        " 495\n",
        "skipped  5\n",
        "540246359\n",
        "processed "
       ]
      },
      {
       "output_type": "stream",
       "stream": "stdout",
       "text": [
        " 496\n",
        "skipped  5\n",
        "540729123\n",
        "processed "
       ]
      },
      {
       "output_type": "stream",
       "stream": "stdout",
       "text": [
        " 497\n",
        "skipped  5\n",
        "540938254\n",
        "processed "
       ]
      },
      {
       "output_type": "stream",
       "stream": "stdout",
       "text": [
        " 498\n",
        "skipped  5\n",
        "541044672\n",
        "processed "
       ]
      },
      {
       "output_type": "stream",
       "stream": "stdout",
       "text": [
        " 499\n",
        "skipped  5\n",
        "541380062\n",
        "processed "
       ]
      },
      {
       "output_type": "stream",
       "stream": "stdout",
       "text": [
        " 500\n",
        "skipped  5\n",
        "541787974\n",
        "processed "
       ]
      },
      {
       "output_type": "stream",
       "stream": "stdout",
       "text": [
        " 501\n",
        "skipped  5\n",
        "541944011\n",
        "processed "
       ]
      },
      {
       "output_type": "stream",
       "stream": "stdout",
       "text": [
        " 502\n",
        "skipped  5\n",
        "542151181\n",
        "processed "
       ]
      },
      {
       "output_type": "stream",
       "stream": "stdout",
       "text": [
        " 503\n",
        "skipped  5\n",
        "542292829\n",
        "processed "
       ]
      },
      {
       "output_type": "stream",
       "stream": "stdout",
       "text": [
        " 504\n",
        "skipped  5\n",
        "542601235\n",
        "processed "
       ]
      },
      {
       "output_type": "stream",
       "stream": "stdout",
       "text": [
        " 505\n",
        "skipped  5\n",
        "542607593\n",
        "processed "
       ]
      },
      {
       "output_type": "stream",
       "stream": "stdout",
       "text": [
        " 506\n",
        "skipped  5\n",
        "542722436\n",
        "processed "
       ]
      },
      {
       "output_type": "stream",
       "stream": "stdout",
       "text": [
        " 507\n",
        "skipped  5\n",
        "543002984\n",
        "processed "
       ]
      },
      {
       "output_type": "stream",
       "stream": "stdout",
       "text": [
        " 508\n",
        "skipped  5\n",
        "544804153\n",
        "processed "
       ]
      },
      {
       "output_type": "stream",
       "stream": "stdout",
       "text": [
        " 509\n",
        "skipped  5\n",
        "545408829\n",
        "processed "
       ]
      },
      {
       "output_type": "stream",
       "stream": "stdout",
       "text": [
        " 510\n",
        "skipped  5\n",
        "545490257\n",
        "processed "
       ]
      },
      {
       "output_type": "stream",
       "stream": "stdout",
       "text": [
        " 511\n",
        "skipped  5\n",
        "546226391\n",
        "processed "
       ]
      },
      {
       "output_type": "stream",
       "stream": "stdout",
       "text": [
        " 512\n",
        "skipped  5\n",
        "546447285\n",
        "processed "
       ]
      },
      {
       "output_type": "stream",
       "stream": "stdout",
       "text": [
        " 513\n",
        "skipped  5\n",
        "546452241\n",
        "processed "
       ]
      },
      {
       "output_type": "stream",
       "stream": "stdout",
       "text": [
        " 514\n",
        "skipped  5\n",
        "546475377\n",
        "processed "
       ]
      },
      {
       "output_type": "stream",
       "stream": "stdout",
       "text": [
        " 515\n",
        "skipped  5\n",
        "546744400\n",
        "processed "
       ]
      },
      {
       "output_type": "stream",
       "stream": "stdout",
       "text": [
        " 516\n",
        "skipped  5\n",
        "546865980\n",
        "processed "
       ]
      },
      {
       "output_type": "stream",
       "stream": "stdout",
       "text": [
        " 517\n",
        "skipped  5\n",
        "547134278\n",
        "processed "
       ]
      },
      {
       "output_type": "stream",
       "stream": "stdout",
       "text": [
        " 518\n",
        "skipped  5\n",
        "547947151\n",
        "processed "
       ]
      },
      {
       "output_type": "stream",
       "stream": "stdout",
       "text": [
        " 519\n",
        "skipped  5\n",
        "550077777\n",
        "processed "
       ]
      },
      {
       "output_type": "stream",
       "stream": "stdout",
       "text": [
        " 520\n",
        "skipped  5\n",
        "550220223\n",
        "processed "
       ]
      },
      {
       "output_type": "stream",
       "stream": "stdout",
       "text": [
        " 521\n",
        "skipped  5\n",
        "550246134\n",
        "processed "
       ]
      },
      {
       "output_type": "stream",
       "stream": "stdout",
       "text": [
        " 522\n",
        "skipped  5\n",
        "550918776\n",
        "processed "
       ]
      },
      {
       "output_type": "stream",
       "stream": "stdout",
       "text": [
        " 523\n",
        "skipped  5\n",
        "551714821\n",
        "processed "
       ]
      },
      {
       "output_type": "stream",
       "stream": "stdout",
       "text": [
        " 524\n",
        "skipped  5\n",
        "551991048\n",
        "processed "
       ]
      },
      {
       "output_type": "stream",
       "stream": "stdout",
       "text": [
        " 525\n",
        "skipped  5\n",
        "552179030\n",
        "processed "
       ]
      },
      {
       "output_type": "stream",
       "stream": "stdout",
       "text": [
        " 526\n",
        "skipped  5\n",
        "552285278\n",
        "processed "
       ]
      },
      {
       "output_type": "stream",
       "stream": "stdout",
       "text": [
        " 527\n",
        "skipped  5\n",
        "552343286\n",
        "processed "
       ]
      },
      {
       "output_type": "stream",
       "stream": "stdout",
       "text": [
        " 528\n",
        "skipped  5\n",
        "552450557\n",
        "processed "
       ]
      },
      {
       "output_type": "stream",
       "stream": "stdout",
       "text": [
        " 529\n",
        "skipped  5\n",
        "553165338\n",
        "processed "
       ]
      },
      {
       "output_type": "stream",
       "stream": "stdout",
       "text": [
        " 530\n",
        "skipped  5\n",
        "554883505\n",
        "processed "
       ]
      },
      {
       "output_type": "stream",
       "stream": "stdout",
       "text": [
        " 531\n",
        "skipped  5\n",
        "555372352\n",
        "processed "
       ]
      },
      {
       "output_type": "stream",
       "stream": "stdout",
       "text": [
        " 532\n",
        "skipped  5\n",
        "555689825\n",
        "processed "
       ]
      },
      {
       "output_type": "stream",
       "stream": "stdout",
       "text": [
        " 533\n",
        "skipped  5\n",
        "555843132\n",
        "processed "
       ]
      },
      {
       "output_type": "stream",
       "stream": "stdout",
       "text": [
        " 534\n",
        "skipped  5\n",
        "556645479\n",
        "processed "
       ]
      },
      {
       "output_type": "stream",
       "stream": "stdout",
       "text": [
        " 535\n",
        "skipped  5\n",
        "556934454\n",
        "processed "
       ]
      },
      {
       "output_type": "stream",
       "stream": "stdout",
       "text": [
        " 536\n",
        "skipped  5\n",
        "557152619\n",
        "processed "
       ]
      },
      {
       "output_type": "stream",
       "stream": "stdout",
       "text": [
        " 537\n",
        "skipped  5\n",
        "557237971\n",
        "processed "
       ]
      },
      {
       "output_type": "stream",
       "stream": "stdout",
       "text": [
        " 538\n",
        "skipped  5\n",
        "557521276\n",
        "processed "
       ]
      },
      {
       "output_type": "stream",
       "stream": "stdout",
       "text": [
        " 539\n",
        "skipped  5\n",
        "558095303\n",
        "processed "
       ]
      },
      {
       "output_type": "stream",
       "stream": "stdout",
       "text": [
        " 540\n",
        "skipped  5\n",
        "558197649\n",
        "processed "
       ]
      },
      {
       "output_type": "stream",
       "stream": "stdout",
       "text": [
        " 541\n",
        "skipped  5\n",
        "558655687\n",
        "processed "
       ]
      },
      {
       "output_type": "stream",
       "stream": "stdout",
       "text": [
        " 542\n",
        "skipped  5\n",
        "558851890\n",
        "processed "
       ]
      },
      {
       "output_type": "stream",
       "stream": "stdout",
       "text": [
        " 543\n",
        "skipped  5\n",
        "559736417\n",
        "processed "
       ]
      },
      {
       "output_type": "stream",
       "stream": "stdout",
       "text": [
        " 544\n",
        "skipped  5\n",
        "559785151\n",
        "processed "
       ]
      },
      {
       "output_type": "stream",
       "stream": "stdout",
       "text": [
        " 545\n",
        "skipped  5\n",
        "560048673\n",
        "processed "
       ]
      },
      {
       "output_type": "stream",
       "stream": "stdout",
       "text": [
        " 546\n",
        "skipped  5\n",
        "560090309\n",
        "processed "
       ]
      },
      {
       "output_type": "stream",
       "stream": "stdout",
       "text": [
        " 547\n",
        "skipped  5\n",
        "560127916\n",
        "processed "
       ]
      },
      {
       "output_type": "stream",
       "stream": "stdout",
       "text": [
        " 548\n",
        "skipped  5\n",
        "560262829\n",
        "error on download560262829"
       ]
      },
      {
       "output_type": "stream",
       "stream": "stderr",
       "text": [
        "  File \"<ipython-input-54-b4d3e6c4c975>\", line 9, in <module>\n",
        "    res = comp_extractors( extractor_training_object )\n",
        "  File \"<ipython-input-22-92a8482cb560>\", line 19, in comp_extractors\n",
        "    extraction_results = get_extraction_results( eto )\n",
        "  File \"<ipython-input-21-50a4232286a4>\", line 11, in get_extraction_results\n",
        "    ret['py_goose']  = { 'extracted_html': extract_with_python_goose( raw_content ) }\n",
        "  File \"<ipython-input-9-4b4c353cffc7>\", line 6, in extract_with_python_goose\n",
        "    r = g.extract( raw_html=raw_content )\n",
        "  File \"/usr/local/lib/python2.7/dist-packages/goose/__init__.py\", line 56, in extract\n",
        "    return self.crawl(cc)\n",
        "  File \"/usr/local/lib/python2.7/dist-packages/goose/__init__.py\", line 63, in crawl\n",
        "    article = crawler.crawl(crawl_candiate)\n",
        "  File \"/usr/local/lib/python2.7/dist-packages/goose/crawler.py\", line 125, in crawl\n",
        "    self.get_image()\n",
        "  File \"/usr/local/lib/python2.7/dist-packages/goose/crawler.py\", line 147, in get_image\n",
        "    self.article.top_image = self.image_extractor.get_best_image(doc, top_node)\n",
        "  File \"/usr/local/lib/python2.7/dist-packages/goose/images/extractors.py\", line 92, in get_best_image\n",
        "    image = self.check_meta_tag()\n",
        "  File \"/usr/local/lib/python2.7/dist-packages/goose/images/extractors.py\", line 99, in check_meta_tag\n",
        "    image = self.check_link_tag()\n",
        "  File \"/usr/local/lib/python2.7/dist-packages/goose/images/extractors.py\", line 323, in check_link_tag\n",
        "    return self.get_image(item, src, extraction_type='linktag')\n",
        "  File \"/usr/local/lib/python2.7/dist-packages/goose/images/extractors.py\", line 215, in get_image\n",
        "    local_image = self.get_local_image(image.src)\n",
        "  File \"/usr/local/lib/python2.7/dist-packages/goose/images/extractors.py\", line 344, in get_local_image\n",
        "    self.link_hash, src, self.config)\n",
        "  File \"/usr/local/lib/python2.7/dist-packages/goose/images/utils.py\", line 59, in store_image\n",
        "    image = self.write_localfile(data, link_hash, src, config)\n",
        "  File \"/usr/local/lib/python2.7/dist-packages/goose/images/utils.py\", line 101, in write_localfile\n",
        "    return self.read_localfile(link_hash, src, config)\n",
        "  File \"/usr/local/lib/python2.7/dist-packages/goose/images/utils.py\", line 81, in read_localfile\n",
        "    image_details = self.get_image_dimensions(identify, local_image_name)\n",
        "  File \"/usr/local/lib/python2.7/dist-packages/goose/images/utils.py\", line 36, in get_image_dimensions\n",
        "    image = Image.open(path)\n",
        "  File \"/usr/lib/python2.7/dist-packages/PIL/Image.py\", line 2028, in open\n",
        "    raise IOError(\"cannot identify image file\")\n",
        "IOError: cannot identify image file\n",
        "Traceback (most recent call last):\n"
       ]
      },
      {
       "output_type": "stream",
       "stream": "stderr",
       "text": [
        "  File \"<ipython-input-54-b4d3e6c4c975>\", line 9, in <module>\n",
        "    res = comp_extractors( extractor_training_object )\n",
        "  File \"<ipython-input-22-92a8482cb560>\", line 19, in comp_extractors\n",
        "    extraction_results = get_extraction_results( eto )\n",
        "  File \"<ipython-input-21-50a4232286a4>\", line 11, in get_extraction_results\n",
        "    ret['py_goose']  = { 'extracted_html': extract_with_python_goose( raw_content ) }\n",
        "  File \"<ipython-input-9-4b4c353cffc7>\", line 6, in extract_with_python_goose\n",
        "    r = g.extract( raw_html=raw_content )\n",
        "  File \"/usr/local/lib/python2.7/dist-packages/goose/__init__.py\", line 56, in extract\n",
        "    return self.crawl(cc)\n",
        "  File \"/usr/local/lib/python2.7/dist-packages/goose/__init__.py\", line 63, in crawl\n",
        "    article = crawler.crawl(crawl_candiate)\n",
        "  File \"/usr/local/lib/python2.7/dist-packages/goose/crawler.py\", line 90, in crawl\n",
        "    doc = self.get_document(raw_html)\n",
        "  File \"/usr/local/lib/python2.7/dist-packages/goose/crawler.py\", line 176, in get_document\n",
        "    doc = self.parser.fromstring(raw_html)\n",
        "  File \"/usr/local/lib/python2.7/dist-packages/goose/parsers.py\", line 54, in fromstring\n",
        "    self.doc = lxml.html.fromstring(html)\n",
        "  File \"/usr/local/lib/python2.7/dist-packages/lxml/html/__init__.py\", line 672, in fromstring\n",
        "    doc = document_fromstring(html, parser=parser, base_url=base_url, **kw)\n"
       ]
      },
      {
       "output_type": "stream",
       "stream": "stdout",
       "text": [
        "\n",
        "(<type 'exceptions.ValueError'>, ValueError(u'Unicode strings with encoding declaration are not supported. Please use bytes input or XML fragments without declaration.',), <traceback object at 0x7fcec3bbc3f8>)"
       ]
      },
      {
       "output_type": "stream",
       "stream": "stdout",
       "text": [
        "\n",
        "processed  548\n",
        "skipped  6\n",
        "560310961\n",
        "processed "
       ]
      },
      {
       "output_type": "stream",
       "stream": "stdout",
       "text": [
        " 549\n",
        "skipped  6\n",
        "560339085\n",
        "processed "
       ]
      },
      {
       "output_type": "stream",
       "stream": "stdout",
       "text": [
        " 550\n",
        "skipped  6\n",
        "560378287\n",
        "processed "
       ]
      },
      {
       "output_type": "stream",
       "stream": "stdout",
       "text": [
        " 551\n",
        "skipped  6\n",
        "560417790\n",
        "processed "
       ]
      },
      {
       "output_type": "stream",
       "stream": "stdout",
       "text": [
        " 552\n",
        "skipped  6\n",
        "560707952\n",
        "processed "
       ]
      },
      {
       "output_type": "stream",
       "stream": "stdout",
       "text": [
        " 553\n",
        "skipped  6\n",
        "560751009\n",
        "processed "
       ]
      },
      {
       "output_type": "stream",
       "stream": "stdout",
       "text": [
        " 554\n",
        "skipped  6\n",
        "560768548\n",
        "processed "
       ]
      },
      {
       "output_type": "stream",
       "stream": "stdout",
       "text": [
        " 555\n",
        "skipped  6\n",
        "560842330\n",
        "processed "
       ]
      },
      {
       "output_type": "stream",
       "stream": "stdout",
       "text": [
        " 556\n",
        "skipped  6\n",
        "561122957\n",
        "processed "
       ]
      },
      {
       "output_type": "stream",
       "stream": "stdout",
       "text": [
        " 557\n",
        "skipped  6\n",
        "561174738\n",
        "processed "
       ]
      },
      {
       "output_type": "stream",
       "stream": "stdout",
       "text": [
        " 558\n",
        "skipped  6\n",
        "561368626\n",
        "processed "
       ]
      },
      {
       "output_type": "stream",
       "stream": "stdout",
       "text": [
        " 559\n",
        "skipped  6\n",
        "561800981\n",
        "processed "
       ]
      },
      {
       "output_type": "stream",
       "stream": "stdout",
       "text": [
        " 560\n",
        "skipped  6\n",
        "562073055\n",
        "processed "
       ]
      },
      {
       "output_type": "stream",
       "stream": "stdout",
       "text": [
        " 561\n",
        "skipped  6\n",
        "562399059\n",
        "processed "
       ]
      },
      {
       "output_type": "stream",
       "stream": "stdout",
       "text": [
        " 562\n",
        "skipped  6\n",
        "562399486\n",
        "processed "
       ]
      },
      {
       "output_type": "stream",
       "stream": "stdout",
       "text": [
        " 563\n",
        "skipped  6\n",
        "562736854\n",
        "processed "
       ]
      },
      {
       "output_type": "stream",
       "stream": "stdout",
       "text": [
        " 564\n",
        "skipped  6\n",
        "562742684\n",
        "processed "
       ]
      },
      {
       "output_type": "stream",
       "stream": "stdout",
       "text": [
        " 565\n",
        "skipped  6\n",
        "562984785\n",
        "processed "
       ]
      },
      {
       "output_type": "stream",
       "stream": "stdout",
       "text": [
        " 566\n",
        "skipped  6\n",
        "563073521\n",
        "processed "
       ]
      },
      {
       "output_type": "stream",
       "stream": "stdout",
       "text": [
        " 567\n",
        "skipped  6\n",
        "563250031\n",
        "processed "
       ]
      },
      {
       "output_type": "stream",
       "stream": "stdout",
       "text": [
        " 568\n",
        "skipped  6\n",
        "563556588\n",
        "processed "
       ]
      },
      {
       "output_type": "stream",
       "stream": "stdout",
       "text": [
        " 569\n",
        "skipped  6\n",
        "563582892\n",
        "processed "
       ]
      },
      {
       "output_type": "stream",
       "stream": "stdout",
       "text": [
        " 570\n",
        "skipped  6\n",
        "563851373\n",
        "processed "
       ]
      },
      {
       "output_type": "stream",
       "stream": "stdout",
       "text": [
        " 571\n",
        "skipped  6\n",
        "564075589\n",
        "processed "
       ]
      },
      {
       "output_type": "stream",
       "stream": "stdout",
       "text": [
        " 572\n",
        "skipped  6\n",
        "564196161\n",
        "processed "
       ]
      },
      {
       "output_type": "stream",
       "stream": "stdout",
       "text": [
        " 573\n",
        "skipped  6\n",
        "564418488\n",
        "processed "
       ]
      },
      {
       "output_type": "stream",
       "stream": "stdout",
       "text": [
        " 574\n",
        "skipped  6\n",
        "564457008\n",
        "processed "
       ]
      },
      {
       "output_type": "stream",
       "stream": "stdout",
       "text": [
        " 575\n",
        "skipped  6\n",
        "565254169\n",
        "processed "
       ]
      },
      {
       "output_type": "stream",
       "stream": "stdout",
       "text": [
        " 576\n",
        "skipped  6\n",
        "565270689\n",
        "processed "
       ]
      },
      {
       "output_type": "stream",
       "stream": "stdout",
       "text": [
        " 577\n",
        "skipped  6\n",
        "565612572\n",
        "processed "
       ]
      },
      {
       "output_type": "stream",
       "stream": "stdout",
       "text": [
        " 578\n",
        "skipped  6\n",
        "565620132\n",
        "processed "
       ]
      },
      {
       "output_type": "stream",
       "stream": "stdout",
       "text": [
        " 579\n",
        "skipped  6\n",
        "565774715\n",
        "processed "
       ]
      },
      {
       "output_type": "stream",
       "stream": "stdout",
       "text": [
        " 580\n",
        "skipped  6\n",
        "565831221\n",
        "processed "
       ]
      },
      {
       "output_type": "stream",
       "stream": "stdout",
       "text": [
        " 581\n",
        "skipped  6\n",
        "566175982\n",
        "processed "
       ]
      },
      {
       "output_type": "stream",
       "stream": "stdout",
       "text": [
        " 582\n",
        "skipped  6\n",
        "566194155\n",
        "processed "
       ]
      },
      {
       "output_type": "stream",
       "stream": "stdout",
       "text": [
        " 583\n",
        "skipped  6\n",
        "566546448\n",
        "processed "
       ]
      },
      {
       "output_type": "stream",
       "stream": "stdout",
       "text": [
        " 584\n",
        "skipped  6\n",
        "566592645\n",
        "processed "
       ]
      },
      {
       "output_type": "stream",
       "stream": "stdout",
       "text": [
        " 585\n",
        "skipped  6\n",
        "566726127\n",
        "processed "
       ]
      },
      {
       "output_type": "stream",
       "stream": "stdout",
       "text": [
        " 586\n",
        "skipped  6\n",
        "567132910\n",
        "processed "
       ]
      },
      {
       "output_type": "stream",
       "stream": "stdout",
       "text": [
        " 587\n",
        "skipped  6\n",
        "567149912\n",
        "processed "
       ]
      },
      {
       "output_type": "stream",
       "stream": "stdout",
       "text": [
        " 588\n",
        "skipped  6\n",
        "567201539\n",
        "processed "
       ]
      },
      {
       "output_type": "stream",
       "stream": "stdout",
       "text": [
        " 589\n",
        "skipped  6\n",
        "567387189\n",
        "processed "
       ]
      },
      {
       "output_type": "stream",
       "stream": "stdout",
       "text": [
        " 590\n",
        "skipped  6\n",
        "567440968\n",
        "processed "
       ]
      },
      {
       "output_type": "stream",
       "stream": "stdout",
       "text": [
        " 591\n",
        "skipped  6\n",
        "567594230\n",
        "processed "
       ]
      },
      {
       "output_type": "stream",
       "stream": "stdout",
       "text": [
        " 592\n",
        "skipped  6\n",
        "567706084\n",
        "processed "
       ]
      },
      {
       "output_type": "stream",
       "stream": "stdout",
       "text": [
        " 593\n",
        "skipped  6\n",
        "567808993\n",
        "error on download567808993"
       ]
      },
      {
       "output_type": "stream",
       "stream": "stderr",
       "text": [
        "  File \"/usr/local/lib/python2.7/dist-packages/lxml/html/__init__.py\", line 568, in document_fromstring\n",
        "    value = etree.fromstring(html, parser, **kw)\n",
        "  File \"lxml.etree.pyx\", line 2997, in lxml.etree.fromstring (src/lxml/lxml.etree.c:63276)\n",
        "  File \"parser.pxi\", line 1607, in lxml.etree._parseMemoryDocument (src/lxml/lxml.etree.c:93592)\n",
        "ValueError: Unicode strings with encoding declaration are not supported. Please use bytes input or XML fragments without declaration.\n",
        "Traceback (most recent call last):\n"
       ]
      },
      {
       "output_type": "stream",
       "stream": "stdout",
       "text": [
        "\n",
        "(<type 'exceptions.IOError'>, IOError('cannot identify image file',), <traceback object at 0x7fcec3bb20e0>)\n",
        "processed  593\n",
        "skipped  7\n",
        "568058112\n",
        "processed "
       ]
      },
      {
       "output_type": "stream",
       "stream": "stdout",
       "text": [
        " 594\n",
        "skipped  7\n",
        "568220153\n",
        "processed "
       ]
      },
      {
       "output_type": "stream",
       "stream": "stdout",
       "text": [
        " 595\n",
        "skipped  7\n",
        "568278639\n",
        "processed "
       ]
      },
      {
       "output_type": "stream",
       "stream": "stdout",
       "text": [
        " 596\n",
        "skipped  7\n",
        "568314417\n",
        "processed "
       ]
      },
      {
       "output_type": "stream",
       "stream": "stdout",
       "text": [
        " 597\n",
        "skipped  7\n",
        "568405515\n",
        "processed "
       ]
      },
      {
       "output_type": "stream",
       "stream": "stdout",
       "text": [
        " 598\n",
        "skipped  7\n",
        "568873296\n",
        "processed "
       ]
      },
      {
       "output_type": "stream",
       "stream": "stdout",
       "text": [
        " 599\n",
        "skipped  7\n",
        "569385275\n",
        "processed "
       ]
      },
      {
       "output_type": "stream",
       "stream": "stdout",
       "text": [
        " 600\n",
        "skipped  7\n",
        "569400896\n",
        "processed "
       ]
      },
      {
       "output_type": "stream",
       "stream": "stdout",
       "text": [
        " 601\n",
        "skipped  7\n",
        "569440622\n",
        "processed "
       ]
      },
      {
       "output_type": "stream",
       "stream": "stdout",
       "text": [
        " 602\n",
        "skipped  7\n",
        "569448540\n",
        "processed "
       ]
      },
      {
       "output_type": "stream",
       "stream": "stdout",
       "text": [
        " 603\n",
        "skipped  7\n",
        "569458361\n",
        "processed "
       ]
      },
      {
       "output_type": "stream",
       "stream": "stdout",
       "text": [
        " 604\n",
        "skipped  7\n",
        "569473458\n",
        "processed "
       ]
      },
      {
       "output_type": "stream",
       "stream": "stdout",
       "text": [
        " 605\n",
        "skipped  7\n",
        "570126417\n",
        "processed "
       ]
      },
      {
       "output_type": "stream",
       "stream": "stdout",
       "text": [
        " 606\n",
        "skipped  7\n",
        "570281609\n",
        "processed "
       ]
      },
      {
       "output_type": "stream",
       "stream": "stdout",
       "text": [
        " 607\n",
        "skipped  7\n",
        "570420066\n",
        "processed "
       ]
      },
      {
       "output_type": "stream",
       "stream": "stdout",
       "text": [
        " 608\n",
        "skipped  7\n",
        "570820516\n",
        "processed "
       ]
      },
      {
       "output_type": "stream",
       "stream": "stdout",
       "text": [
        " 609\n",
        "skipped  7\n",
        "571250692\n",
        "processed "
       ]
      },
      {
       "output_type": "stream",
       "stream": "stdout",
       "text": [
        " 610\n",
        "skipped  7\n",
        "572427751\n",
        "processed "
       ]
      },
      {
       "output_type": "stream",
       "stream": "stdout",
       "text": [
        " 611\n",
        "skipped  7\n",
        "572497331\n",
        "processed "
       ]
      },
      {
       "output_type": "stream",
       "stream": "stdout",
       "text": [
        " 612\n",
        "skipped  7\n",
        "572595598\n",
        "processed "
       ]
      },
      {
       "output_type": "stream",
       "stream": "stdout",
       "text": [
        " 613\n",
        "skipped  7\n",
        "576800952\n",
        "processed "
       ]
      },
      {
       "output_type": "stream",
       "stream": "stdout",
       "text": [
        " 614\n",
        "skipped  7\n",
        "576826346\n",
        "processed "
       ]
      },
      {
       "output_type": "stream",
       "stream": "stdout",
       "text": [
        " 615\n",
        "skipped  7\n",
        "576906221\n",
        "processed "
       ]
      },
      {
       "output_type": "stream",
       "stream": "stdout",
       "text": [
        " 616\n",
        "skipped  7\n",
        "577070880\n",
        "processed "
       ]
      },
      {
       "output_type": "stream",
       "stream": "stdout",
       "text": [
        " 617\n",
        "skipped  7\n",
        "577076453\n",
        "processed "
       ]
      },
      {
       "output_type": "stream",
       "stream": "stdout",
       "text": [
        " 618\n",
        "skipped  7\n",
        "578103835\n",
        "processed "
       ]
      },
      {
       "output_type": "stream",
       "stream": "stdout",
       "text": [
        " 619\n",
        "skipped  7\n",
        "578124694\n",
        "processed "
       ]
      },
      {
       "output_type": "stream",
       "stream": "stdout",
       "text": [
        " 620\n",
        "skipped  7\n",
        "578153622\n",
        "processed "
       ]
      },
      {
       "output_type": "stream",
       "stream": "stdout",
       "text": [
        " 621\n",
        "skipped  7\n",
        "578156115\n",
        "processed "
       ]
      },
      {
       "output_type": "stream",
       "stream": "stdout",
       "text": [
        " 622\n",
        "skipped  7\n",
        "578156372\n",
        "processed "
       ]
      },
      {
       "output_type": "stream",
       "stream": "stdout",
       "text": [
        " 623\n",
        "skipped  7\n",
        "578156412\n",
        "processed "
       ]
      },
      {
       "output_type": "stream",
       "stream": "stdout",
       "text": [
        " 624\n",
        "skipped  7\n",
        "578167861\n",
        "processed "
       ]
      },
      {
       "output_type": "stream",
       "stream": "stdout",
       "text": [
        " 625\n",
        "skipped  7\n",
        "578210309\n",
        "processed "
       ]
      },
      {
       "output_type": "stream",
       "stream": "stdout",
       "text": [
        " 626\n",
        "skipped  7\n",
        "578210949\n",
        "error on download578210949"
       ]
      },
      {
       "output_type": "stream",
       "stream": "stderr",
       "text": [
        "  File \"<ipython-input-54-b4d3e6c4c975>\", line 9, in <module>\n",
        "    res = comp_extractors( extractor_training_object )\n",
        "  File \"<ipython-input-22-92a8482cb560>\", line 19, in comp_extractors\n",
        "    extraction_results = get_extraction_results( eto )\n",
        "  File \"<ipython-input-21-50a4232286a4>\", line 11, in get_extraction_results\n",
        "    ret['py_goose']  = { 'extracted_html': extract_with_python_goose( raw_content ) }\n",
        "  File \"<ipython-input-9-4b4c353cffc7>\", line 6, in extract_with_python_goose\n",
        "    r = g.extract( raw_html=raw_content )\n",
        "  File \"/usr/local/lib/python2.7/dist-packages/goose/__init__.py\", line 56, in extract\n",
        "    return self.crawl(cc)\n",
        "  File \"/usr/local/lib/python2.7/dist-packages/goose/__init__.py\", line 63, in crawl\n",
        "    article = crawler.crawl(crawl_candiate)\n",
        "  File \"/usr/local/lib/python2.7/dist-packages/goose/crawler.py\", line 125, in crawl\n",
        "    self.get_image()\n",
        "  File \"/usr/local/lib/python2.7/dist-packages/goose/crawler.py\", line 147, in get_image\n",
        "    self.article.top_image = self.image_extractor.get_best_image(doc, top_node)\n",
        "  File \"/usr/local/lib/python2.7/dist-packages/goose/images/extractors.py\", line 88, in get_best_image\n",
        "    image = self.check_large_images(topNode, 0, 0)\n",
        "  File \"/usr/local/lib/python2.7/dist-packages/goose/images/extractors.py\", line 141, in check_large_images\n",
        "    depth_obj.parent_depth, depth_obj.sibling_depth)\n",
        "  File \"/usr/local/lib/python2.7/dist-packages/goose/images/extractors.py\", line 141, in check_large_images\n",
        "    depth_obj.parent_depth, depth_obj.sibling_depth)\n",
        "  File \"/usr/local/lib/python2.7/dist-packages/goose/images/extractors.py\", line 141, in check_large_images\n",
        "    depth_obj.parent_depth, depth_obj.sibling_depth)\n",
        "  File \"/usr/local/lib/python2.7/dist-packages/goose/images/extractors.py\", line 141, in check_large_images\n",
        "    depth_obj.parent_depth, depth_obj.sibling_depth)\n",
        "  File \"/usr/local/lib/python2.7/dist-packages/goose/images/extractors.py\", line 141, in check_large_images\n",
        "    depth_obj.parent_depth, depth_obj.sibling_depth)\n",
        "  File \"/usr/local/lib/python2.7/dist-packages/goose/images/extractors.py\", line 122, in check_large_images\n",
        "    good_images = self.get_image_candidates(node)\n",
        "  File \"/usr/local/lib/python2.7/dist-packages/goose/images/extractors.py\", line 283, in get_image_candidates\n",
        "    good_images = self.get_images_bytesize_match(filtered_images)\n",
        "  File \"/usr/local/lib/python2.7/dist-packages/goose/images/extractors.py\", line 299, in get_images_bytesize_match\n",
        "    local_image = self.get_local_image(src)\n",
        "  File \"/usr/local/lib/python2.7/dist-packages/goose/images/extractors.py\", line 344, in get_local_image\n",
        "    self.link_hash, src, self.config)\n",
        "  File \"/usr/local/lib/python2.7/dist-packages/goose/images/utils.py\", line 52, in store_image\n",
        "    image = self.read_localfile(link_hash, src, config)\n",
        "  File \"/usr/local/lib/python2.7/dist-packages/goose/images/utils.py\", line 81, in read_localfile\n",
        "    image_details = self.get_image_dimensions(identify, local_image_name)\n",
        "  File \"/usr/local/lib/python2.7/dist-packages/goose/images/utils.py\", line 36, in get_image_dimensions\n",
        "    image = Image.open(path)\n",
        "  File \"/usr/lib/python2.7/dist-packages/PIL/Image.py\", line 2028, in open\n",
        "    raise IOError(\"cannot identify image file\")\n",
        "IOError: cannot identify image file\n",
        "Traceback (most recent call last):\n"
       ]
      },
      {
       "output_type": "stream",
       "stream": "stdout",
       "text": [
        "\n",
        "(<type 'exceptions.IOError'>, IOError(\"Couldn't open file /usr/local/lib/python2.7/dist-packages/goose/resources/text/stopwords-un.txt\",), <traceback object at 0x7fcea168fe60>)\n",
        "processed  626\n",
        "skipped  8\n",
        "578294304\n",
        "Unexpected error on string '<<'"
       ]
      },
      {
       "output_type": "stream",
       "stream": "stdout",
       "text": [
        " <class 'lxml.etree.ParserError'>\n",
        "processed "
       ]
      },
      {
       "output_type": "stream",
       "stream": "stdout",
       "text": [
        " 627\n",
        "skipped  8\n",
        "578364597\n",
        "processed "
       ]
      },
      {
       "output_type": "stream",
       "stream": "stdout",
       "text": [
        " 628\n",
        "skipped  8\n",
        "578371687\n",
        "processed "
       ]
      },
      {
       "output_type": "stream",
       "stream": "stdout",
       "text": [
        " 629\n",
        "skipped  8\n",
        "578520886\n",
        "processed "
       ]
      },
      {
       "output_type": "stream",
       "stream": "stdout",
       "text": [
        " 630\n",
        "skipped  8\n",
        "578653839\n",
        "processed "
       ]
      },
      {
       "output_type": "stream",
       "stream": "stdout",
       "text": [
        " 631\n",
        "skipped  8\n",
        "578713987\n",
        "processed "
       ]
      },
      {
       "output_type": "stream",
       "stream": "stdout",
       "text": [
        " 632\n",
        "skipped  8\n",
        "578974914\n",
        "processed "
       ]
      },
      {
       "output_type": "stream",
       "stream": "stdout",
       "text": [
        " 633\n",
        "skipped  8\n",
        "579044624\n",
        "processed "
       ]
      },
      {
       "output_type": "stream",
       "stream": "stdout",
       "text": [
        " 634\n",
        "skipped  8\n",
        "580296869\n",
        "processed "
       ]
      },
      {
       "output_type": "stream",
       "stream": "stdout",
       "text": [
        " 635\n",
        "skipped  8\n",
        "581963231\n",
        "processed "
       ]
      },
      {
       "output_type": "stream",
       "stream": "stdout",
       "text": [
        " 636\n",
        "skipped  8\n",
        "589072496\n",
        "processed "
       ]
      },
      {
       "output_type": "stream",
       "stream": "stdout",
       "text": [
        " 637\n",
        "skipped  8\n",
        "589074541\n",
        "processed "
       ]
      },
      {
       "output_type": "stream",
       "stream": "stdout",
       "text": [
        " 638\n",
        "skipped  8\n",
        "589074546\n",
        "processed "
       ]
      },
      {
       "output_type": "stream",
       "stream": "stdout",
       "text": [
        " 639\n",
        "skipped  8\n",
        "589088428\n",
        "processed "
       ]
      },
      {
       "output_type": "stream",
       "stream": "stdout",
       "text": [
        " 640\n",
        "skipped  8\n",
        "589089635\n",
        "processed "
       ]
      },
      {
       "output_type": "stream",
       "stream": "stdout",
       "text": [
        " 641\n",
        "skipped  8\n",
        "589090828\n",
        "processed "
       ]
      },
      {
       "output_type": "stream",
       "stream": "stdout",
       "text": [
        " 642\n",
        "skipped  8\n",
        "589116902\n",
        "processed "
       ]
      },
      {
       "output_type": "stream",
       "stream": "stdout",
       "text": [
        " 643\n",
        "skipped  8\n",
        "589116915\n",
        "processed "
       ]
      },
      {
       "output_type": "stream",
       "stream": "stdout",
       "text": [
        " 644\n",
        "skipped  8\n",
        "589129653\n",
        "processed "
       ]
      },
      {
       "output_type": "stream",
       "stream": "stdout",
       "text": [
        " 645\n",
        "skipped  8\n",
        "589153423\n",
        "processed "
       ]
      },
      {
       "output_type": "stream",
       "stream": "stdout",
       "text": [
        " 646\n",
        "skipped  8\n",
        "589156380\n",
        "processed "
       ]
      },
      {
       "output_type": "stream",
       "stream": "stdout",
       "text": [
        " 647\n",
        "skipped  8\n",
        "589208129\n",
        "processed "
       ]
      },
      {
       "output_type": "stream",
       "stream": "stdout",
       "text": [
        " 648\n",
        "skipped  8\n",
        "589213448\n",
        "processed "
       ]
      },
      {
       "output_type": "stream",
       "stream": "stdout",
       "text": [
        " 649\n",
        "skipped  8\n",
        "589213994\n",
        "processed "
       ]
      },
      {
       "output_type": "stream",
       "stream": "stdout",
       "text": [
        " 650\n",
        "skipped  8\n",
        "589224922\n",
        "processed "
       ]
      },
      {
       "output_type": "stream",
       "stream": "stdout",
       "text": [
        " 651\n",
        "skipped  8\n",
        "589225296\n",
        "processed "
       ]
      },
      {
       "output_type": "stream",
       "stream": "stdout",
       "text": [
        " 652\n",
        "skipped  8\n",
        "589239170\n",
        "processed "
       ]
      },
      {
       "output_type": "stream",
       "stream": "stdout",
       "text": [
        " 653\n",
        "skipped  8\n",
        "589240076\n",
        "processed "
       ]
      },
      {
       "output_type": "stream",
       "stream": "stdout",
       "text": [
        " 654\n",
        "skipped  8\n",
        "589261134\n",
        "processed "
       ]
      },
      {
       "output_type": "stream",
       "stream": "stdout",
       "text": [
        " 655\n",
        "skipped  8\n",
        "589261136\n",
        "processed "
       ]
      },
      {
       "output_type": "stream",
       "stream": "stdout",
       "text": [
        " 656\n",
        "skipped  8\n",
        "589273978\n",
        "processed "
       ]
      },
      {
       "output_type": "stream",
       "stream": "stdout",
       "text": [
        " 657\n",
        "skipped  8\n",
        "589285851\n",
        "processed "
       ]
      },
      {
       "output_type": "stream",
       "stream": "stdout",
       "text": [
        " 658\n",
        "skipped  8\n",
        "589285856\n",
        "processed "
       ]
      },
      {
       "output_type": "stream",
       "stream": "stdout",
       "text": [
        " 659\n",
        "skipped  8\n",
        "589298598\n",
        "processed "
       ]
      },
      {
       "output_type": "stream",
       "stream": "stdout",
       "text": [
        " 660\n",
        "skipped  8\n",
        "589305788\n",
        "processed "
       ]
      },
      {
       "output_type": "stream",
       "stream": "stdout",
       "text": [
        " 661\n",
        "skipped  8\n",
        "589310534\n",
        "processed "
       ]
      },
      {
       "output_type": "stream",
       "stream": "stdout",
       "text": [
        " 662\n",
        "skipped  8\n",
        "589316558\n",
        "processed "
       ]
      },
      {
       "output_type": "stream",
       "stream": "stdout",
       "text": [
        " 663\n",
        "skipped  8\n",
        "589324992\n",
        "processed "
       ]
      },
      {
       "output_type": "stream",
       "stream": "stdout",
       "text": [
        " 664\n",
        "skipped  8\n",
        "589326873\n",
        "processed "
       ]
      },
      {
       "output_type": "stream",
       "stream": "stdout",
       "text": [
        " 665\n",
        "skipped  8\n",
        "589335687\n",
        "processed "
       ]
      },
      {
       "output_type": "stream",
       "stream": "stdout",
       "text": [
        " 666\n",
        "skipped  8\n",
        "589355839\n",
        "processed "
       ]
      },
      {
       "output_type": "stream",
       "stream": "stdout",
       "text": [
        " 667\n",
        "skipped  8\n",
        "589368807\n",
        "processed "
       ]
      },
      {
       "output_type": "stream",
       "stream": "stdout",
       "text": [
        " 668\n",
        "skipped  8\n",
        "589371772\n",
        "processed "
       ]
      },
      {
       "output_type": "stream",
       "stream": "stdout",
       "text": [
        " 669\n",
        "skipped  8\n",
        "589377853\n",
        "processed "
       ]
      },
      {
       "output_type": "stream",
       "stream": "stdout",
       "text": [
        " 670\n",
        "skipped  8\n",
        "589384584\n",
        "processed "
       ]
      },
      {
       "output_type": "stream",
       "stream": "stdout",
       "text": [
        " 671\n",
        "skipped  8\n",
        "589440172\n",
        "processed "
       ]
      },
      {
       "output_type": "stream",
       "stream": "stdout",
       "text": [
        " 672\n",
        "skipped  8\n",
        "589502987\n",
        "processed "
       ]
      },
      {
       "output_type": "stream",
       "stream": "stdout",
       "text": [
        " 673\n",
        "skipped  8\n",
        "589513642\n",
        "processed "
       ]
      },
      {
       "output_type": "stream",
       "stream": "stdout",
       "text": [
        " 674\n",
        "skipped  8\n",
        "589568015\n",
        "processed "
       ]
      },
      {
       "output_type": "stream",
       "stream": "stdout",
       "text": [
        " 675\n",
        "skipped  8\n",
        "589625611\n",
        "processed "
       ]
      },
      {
       "output_type": "stream",
       "stream": "stdout",
       "text": [
        " 676\n",
        "skipped  8\n",
        "589655068\n",
        "processed "
       ]
      },
      {
       "output_type": "stream",
       "stream": "stdout",
       "text": [
        " 677\n",
        "skipped  8\n",
        "589674386\n",
        "processed "
       ]
      },
      {
       "output_type": "stream",
       "stream": "stdout",
       "text": [
        " 678\n",
        "skipped  8\n",
        "589683282\n",
        "processed "
       ]
      },
      {
       "output_type": "stream",
       "stream": "stdout",
       "text": [
        " 679\n",
        "skipped  8\n",
        "589686438\n",
        "processed "
       ]
      },
      {
       "output_type": "stream",
       "stream": "stdout",
       "text": [
        " 680\n",
        "skipped  8\n",
        "589754761\n",
        "processed "
       ]
      },
      {
       "output_type": "stream",
       "stream": "stdout",
       "text": [
        " 681\n",
        "skipped  8\n",
        "589755411\n",
        "processed "
       ]
      },
      {
       "output_type": "stream",
       "stream": "stdout",
       "text": [
        " 682\n",
        "skipped  8\n",
        "589755612\n",
        "processed "
       ]
      },
      {
       "output_type": "stream",
       "stream": "stdout",
       "text": [
        " 683\n",
        "skipped  8\n",
        "589758021\n",
        "processed "
       ]
      },
      {
       "output_type": "stream",
       "stream": "stdout",
       "text": [
        " 684\n",
        "skipped  8\n",
        "589768387\n",
        "processed "
       ]
      },
      {
       "output_type": "stream",
       "stream": "stdout",
       "text": [
        " 685\n",
        "skipped  8\n",
        "589786104\n",
        "processed "
       ]
      },
      {
       "output_type": "stream",
       "stream": "stdout",
       "text": [
        " 686\n",
        "skipped  8\n",
        "589786154\n",
        "processed "
       ]
      },
      {
       "output_type": "stream",
       "stream": "stdout",
       "text": [
        " 687\n",
        "skipped  8\n",
        "589786414\n",
        "processed "
       ]
      },
      {
       "output_type": "stream",
       "stream": "stdout",
       "text": [
        " 688\n",
        "skipped  8\n",
        "589862512\n",
        "processed "
       ]
      },
      {
       "output_type": "stream",
       "stream": "stdout",
       "text": [
        " 689\n",
        "skipped  8\n",
        "589862834\n",
        "processed "
       ]
      },
      {
       "output_type": "stream",
       "stream": "stdout",
       "text": [
        " 690\n",
        "skipped  8\n",
        "589862835\n",
        "processed "
       ]
      },
      {
       "output_type": "stream",
       "stream": "stdout",
       "text": [
        " 691\n",
        "skipped  8\n",
        "589867651\n",
        "processed "
       ]
      },
      {
       "output_type": "stream",
       "stream": "stdout",
       "text": [
        " 692\n",
        "skipped  8\n",
        "589877044\n",
        "error on download589877044"
       ]
      },
      {
       "output_type": "stream",
       "stream": "stderr",
       "text": [
        "  File \"<ipython-input-54-b4d3e6c4c975>\", line 9, in <module>\n",
        "    res = comp_extractors( extractor_training_object )\n",
        "  File \"<ipython-input-22-92a8482cb560>\", line 19, in comp_extractors\n",
        "    extraction_results = get_extraction_results( eto )\n",
        "  File \"<ipython-input-21-50a4232286a4>\", line 11, in get_extraction_results\n",
        "    ret['py_goose']  = { 'extracted_html': extract_with_python_goose( raw_content ) }\n",
        "  File \"<ipython-input-9-4b4c353cffc7>\", line 6, in extract_with_python_goose\n",
        "    r = g.extract( raw_html=raw_content )\n",
        "  File \"/usr/local/lib/python2.7/dist-packages/goose/__init__.py\", line 56, in extract\n",
        "    return self.crawl(cc)\n",
        "  File \"/usr/local/lib/python2.7/dist-packages/goose/__init__.py\", line 63, in crawl\n",
        "    article = crawler.crawl(crawl_candiate)\n",
        "  File \"/usr/local/lib/python2.7/dist-packages/goose/crawler.py\", line 131, in crawl\n",
        "    self.article.cleaned_text = self.formatter.get_formatted_text()\n",
        "  File \"/usr/local/lib/python2.7/dist-packages/goose/outputformatters.py\", line 66, in get_formatted_text\n",
        "    self.remove_fewwords_paragraphs()\n",
        "  File \"/usr/local/lib/python2.7/dist-packages/goose/outputformatters.py\", line 123, in remove_fewwords_paragraphs\n",
        "    stop_words = self.stopwords_class(language=self.get_language()).get_stopword_count(text)\n",
        "  File \"/usr/local/lib/python2.7/dist-packages/goose/text.py\", line 98, in __init__\n",
        "    self._cached_stop_words[language] = set(FileHelper.loadResourceFile(path).splitlines())\n",
        "  File \"/usr/local/lib/python2.7/dist-packages/goose/utils/__init__.py\", line 79, in loadResourceFile\n",
        "    raise IOError(\"Couldn't open file %s\" % path)\n",
        "IOError: Couldn't open file /usr/local/lib/python2.7/dist-packages/goose/resources/text/stopwords-un.txt\n",
        "Traceback (most recent call last):\n"
       ]
      },
      {
       "output_type": "stream",
       "stream": "stdout",
       "text": [
        "\n",
        "(<type 'exceptions.IOError'>, IOError('cannot identify image file',), <traceback object at 0x7fcec3b85758>)\n",
        "processed  692\n",
        "skipped  9\n",
        "589878988\n",
        "processed "
       ]
      },
      {
       "output_type": "stream",
       "stream": "stdout",
       "text": [
        " 693\n",
        "skipped  9\n",
        "589902239\n",
        "processed "
       ]
      },
      {
       "output_type": "stream",
       "stream": "stdout",
       "text": [
        " 694\n",
        "skipped  9\n",
        "589902589\n",
        "processed "
       ]
      },
      {
       "output_type": "stream",
       "stream": "stdout",
       "text": [
        " 695\n",
        "skipped  9\n",
        "589903803\n",
        "processed "
       ]
      },
      {
       "output_type": "stream",
       "stream": "stdout",
       "text": [
        " 696\n",
        "skipped  9\n",
        "589912699\n",
        "processed "
       ]
      },
      {
       "output_type": "stream",
       "stream": "stdout",
       "text": [
        " 697\n",
        "skipped  9\n",
        "589925438\n",
        "processed "
       ]
      },
      {
       "output_type": "stream",
       "stream": "stdout",
       "text": [
        " 698\n",
        "skipped  9\n",
        "589929254\n",
        "processed "
       ]
      },
      {
       "output_type": "stream",
       "stream": "stdout",
       "text": [
        " 699\n",
        "skipped  9\n",
        "589929573\n",
        "processed "
       ]
      },
      {
       "output_type": "stream",
       "stream": "stdout",
       "text": [
        " 700\n",
        "skipped  9\n",
        "589934787\n",
        "processed "
       ]
      },
      {
       "output_type": "stream",
       "stream": "stdout",
       "text": [
        " 701\n",
        "skipped  9\n",
        "589938190\n",
        "processed "
       ]
      },
      {
       "output_type": "stream",
       "stream": "stdout",
       "text": [
        " 702\n",
        "skipped  9\n",
        "589945649\n",
        "processed "
       ]
      },
      {
       "output_type": "stream",
       "stream": "stdout",
       "text": [
        " 703\n",
        "skipped  9\n",
        "589946203\n",
        "processed "
       ]
      },
      {
       "output_type": "stream",
       "stream": "stdout",
       "text": [
        " 704\n",
        "skipped  9\n",
        "589956136\n",
        "processed "
       ]
      },
      {
       "output_type": "stream",
       "stream": "stdout",
       "text": [
        " 705\n",
        "skipped  9\n",
        "589985214\n",
        "processed "
       ]
      },
      {
       "output_type": "stream",
       "stream": "stdout",
       "text": [
        " 706\n",
        "skipped  9\n",
        "589992578\n",
        "processed "
       ]
      },
      {
       "output_type": "stream",
       "stream": "stdout",
       "text": [
        " 707\n",
        "skipped  9\n",
        "589992873\n",
        "processed "
       ]
      },
      {
       "output_type": "stream",
       "stream": "stdout",
       "text": [
        " 708\n",
        "skipped  9\n",
        "590003031\n",
        "processed "
       ]
      },
      {
       "output_type": "stream",
       "stream": "stdout",
       "text": [
        " 709\n",
        "skipped  9\n",
        "590003045\n",
        "processed "
       ]
      },
      {
       "output_type": "stream",
       "stream": "stdout",
       "text": [
        " 710\n",
        "skipped  9\n",
        "590033845\n",
        "processed "
       ]
      },
      {
       "output_type": "stream",
       "stream": "stdout",
       "text": [
        " 711\n",
        "skipped  9\n",
        "590033849\n",
        "processed "
       ]
      },
      {
       "output_type": "stream",
       "stream": "stdout",
       "text": [
        " 712\n",
        "skipped  9\n",
        "590033852\n",
        "processed "
       ]
      },
      {
       "output_type": "stream",
       "stream": "stdout",
       "text": [
        " 713\n",
        "skipped  9\n",
        "590057803\n",
        "processed "
       ]
      },
      {
       "output_type": "stream",
       "stream": "stdout",
       "text": [
        " 714\n",
        "skipped  9\n",
        "590237580\n",
        "processed "
       ]
      },
      {
       "output_type": "stream",
       "stream": "stdout",
       "text": [
        " 715\n",
        "skipped  9\n",
        "590249522\n",
        "processed "
       ]
      },
      {
       "output_type": "stream",
       "stream": "stdout",
       "text": [
        " 716\n",
        "skipped  9\n",
        "590264671\n",
        "processed "
       ]
      },
      {
       "output_type": "stream",
       "stream": "stdout",
       "text": [
        " 717\n",
        "skipped  9\n",
        "590293497\n",
        "processed "
       ]
      },
      {
       "output_type": "stream",
       "stream": "stdout",
       "text": [
        " 718\n",
        "skipped  9\n",
        "590323886\n",
        "processed "
       ]
      },
      {
       "output_type": "stream",
       "stream": "stdout",
       "text": [
        " 719\n",
        "skipped  9\n",
        "590323913\n",
        "processed "
       ]
      },
      {
       "output_type": "stream",
       "stream": "stdout",
       "text": [
        " 720\n",
        "skipped  9\n",
        "590324177\n",
        "processed "
       ]
      },
      {
       "output_type": "stream",
       "stream": "stdout",
       "text": [
        " 721\n",
        "skipped  9\n",
        "590338530\n",
        "processed "
       ]
      },
      {
       "output_type": "stream",
       "stream": "stdout",
       "text": [
        " 722\n",
        "skipped  9\n",
        "590339267\n",
        "processed "
       ]
      },
      {
       "output_type": "stream",
       "stream": "stdout",
       "text": [
        " 723\n",
        "skipped  9\n",
        "590340446\n",
        "processed "
       ]
      },
      {
       "output_type": "stream",
       "stream": "stdout",
       "text": [
        " 724\n",
        "skipped  9\n",
        "590351087\n",
        "processed "
       ]
      },
      {
       "output_type": "stream",
       "stream": "stdout",
       "text": [
        " 725\n",
        "skipped  9\n",
        "590353661\n",
        "processed "
       ]
      },
      {
       "output_type": "stream",
       "stream": "stdout",
       "text": [
        " 726\n",
        "skipped  9\n",
        "590356585\n",
        "processed "
       ]
      },
      {
       "output_type": "stream",
       "stream": "stdout",
       "text": [
        " 727\n",
        "skipped  9\n",
        "590356597\n",
        "processed "
       ]
      },
      {
       "output_type": "stream",
       "stream": "stdout",
       "text": [
        " 728\n",
        "skipped  9\n",
        "590386215\n",
        "processed "
       ]
      },
      {
       "output_type": "stream",
       "stream": "stdout",
       "text": [
        " 729\n",
        "skipped  9\n",
        "590386218\n",
        "processed "
       ]
      },
      {
       "output_type": "stream",
       "stream": "stdout",
       "text": [
        " 730\n",
        "skipped  9\n",
        "590386225\n",
        "processed "
       ]
      },
      {
       "output_type": "stream",
       "stream": "stdout",
       "text": [
        " 731\n",
        "skipped  9\n",
        "590397660\n",
        "processed "
       ]
      },
      {
       "output_type": "stream",
       "stream": "stdout",
       "text": [
        " 732\n",
        "skipped  9\n",
        "590398422\n",
        "processed "
       ]
      },
      {
       "output_type": "stream",
       "stream": "stdout",
       "text": [
        " 733\n",
        "skipped  9\n",
        "590399931\n",
        "processed "
       ]
      },
      {
       "output_type": "stream",
       "stream": "stdout",
       "text": [
        " 734\n",
        "skipped  9\n",
        "590411501\n",
        "processed "
       ]
      },
      {
       "output_type": "stream",
       "stream": "stdout",
       "text": [
        " 735\n",
        "skipped  9\n",
        "590424369\n",
        "processed "
       ]
      },
      {
       "output_type": "stream",
       "stream": "stdout",
       "text": [
        " 736\n",
        "skipped  9\n",
        "590425749\n",
        "processed "
       ]
      },
      {
       "output_type": "stream",
       "stream": "stdout",
       "text": [
        " 737\n",
        "skipped  9\n",
        "590425776\n",
        "processed "
       ]
      },
      {
       "output_type": "stream",
       "stream": "stdout",
       "text": [
        " 738\n",
        "skipped  9\n",
        "590425824\n",
        "processed "
       ]
      },
      {
       "output_type": "stream",
       "stream": "stdout",
       "text": [
        " 739\n",
        "skipped  9\n",
        "590437581\n",
        "processed "
       ]
      },
      {
       "output_type": "stream",
       "stream": "stdout",
       "text": [
        " 740\n",
        "skipped  9\n",
        "590441661\n",
        "processed "
       ]
      },
      {
       "output_type": "stream",
       "stream": "stdout",
       "text": [
        " 741\n",
        "skipped  9\n",
        "590441662\n",
        "processed "
       ]
      },
      {
       "output_type": "stream",
       "stream": "stdout",
       "text": [
        " 742\n",
        "skipped  9\n",
        "590460432\n",
        "processed "
       ]
      },
      {
       "output_type": "stream",
       "stream": "stdout",
       "text": [
        " 743\n",
        "skipped  9\n",
        "590462467\n",
        "processed "
       ]
      },
      {
       "output_type": "stream",
       "stream": "stdout",
       "text": [
        " 744\n",
        "skipped  9\n",
        "590512426\n",
        "processed "
       ]
      },
      {
       "output_type": "stream",
       "stream": "stdout",
       "text": [
        " 745\n",
        "skipped  9\n",
        "590514891\n",
        "processed "
       ]
      },
      {
       "output_type": "stream",
       "stream": "stdout",
       "text": [
        " 746\n",
        "skipped  9\n",
        "590515180\n",
        "processed "
       ]
      },
      {
       "output_type": "stream",
       "stream": "stdout",
       "text": [
        " 747\n",
        "skipped  9\n",
        "590529801\n",
        "processed "
       ]
      },
      {
       "output_type": "stream",
       "stream": "stdout",
       "text": [
        " 748\n",
        "skipped  9\n",
        "590531075\n",
        "processed "
       ]
      },
      {
       "output_type": "stream",
       "stream": "stdout",
       "text": [
        " 749\n",
        "skipped  9\n",
        "590542372\n",
        "processed "
       ]
      },
      {
       "output_type": "stream",
       "stream": "stdout",
       "text": [
        " 750\n",
        "skipped  9\n",
        "590542427\n",
        "processed "
       ]
      },
      {
       "output_type": "stream",
       "stream": "stdout",
       "text": [
        " 751\n",
        "skipped  9\n",
        "590551407\n",
        "processed "
       ]
      },
      {
       "output_type": "stream",
       "stream": "stdout",
       "text": [
        " 752\n",
        "skipped  9\n",
        "590552268\n",
        "processed "
       ]
      },
      {
       "output_type": "stream",
       "stream": "stdout",
       "text": [
        " 753\n",
        "skipped  9\n",
        "590552363\n",
        "processed "
       ]
      },
      {
       "output_type": "stream",
       "stream": "stdout",
       "text": [
        " 754\n",
        "skipped  9\n",
        "590552784\n",
        "processed "
       ]
      },
      {
       "output_type": "stream",
       "stream": "stdout",
       "text": [
        " 755\n",
        "skipped  9\n",
        "590560741\n",
        "processed "
       ]
      },
      {
       "output_type": "stream",
       "stream": "stdout",
       "text": [
        " 756\n",
        "skipped  9\n",
        "590576816\n",
        "processed "
       ]
      },
      {
       "output_type": "stream",
       "stream": "stdout",
       "text": [
        " 757\n",
        "skipped  9\n",
        "590585094\n",
        "processed "
       ]
      },
      {
       "output_type": "stream",
       "stream": "stdout",
       "text": [
        " 758\n",
        "skipped  9\n",
        "590593066\n",
        "processed "
       ]
      },
      {
       "output_type": "stream",
       "stream": "stdout",
       "text": [
        " 759\n",
        "skipped  9\n",
        "590596271\n",
        "processed "
       ]
      },
      {
       "output_type": "stream",
       "stream": "stdout",
       "text": [
        " 760\n",
        "skipped  9\n",
        "590605895\n",
        "processed "
       ]
      },
      {
       "output_type": "stream",
       "stream": "stdout",
       "text": [
        " 761\n",
        "skipped  9\n",
        "590620426\n",
        "processed "
       ]
      },
      {
       "output_type": "stream",
       "stream": "stdout",
       "text": [
        " 762\n",
        "skipped  9\n",
        "590623508\n",
        "processed "
       ]
      },
      {
       "output_type": "stream",
       "stream": "stdout",
       "text": [
        " 763\n",
        "skipped  9\n",
        "590623511\n",
        "processed "
       ]
      },
      {
       "output_type": "stream",
       "stream": "stdout",
       "text": [
        " 764\n",
        "skipped  9\n",
        "590639137\n",
        "processed "
       ]
      },
      {
       "output_type": "stream",
       "stream": "stdout",
       "text": [
        " 765\n",
        "skipped  9\n",
        "590646856\n",
        "processed "
       ]
      },
      {
       "output_type": "stream",
       "stream": "stdout",
       "text": [
        " 766\n",
        "skipped  9\n",
        "590647873\n",
        "processed "
       ]
      },
      {
       "output_type": "stream",
       "stream": "stdout",
       "text": [
        " 767\n",
        "skipped  9\n",
        "590654819\n",
        "processed "
       ]
      },
      {
       "output_type": "stream",
       "stream": "stdout",
       "text": [
        " 768\n",
        "skipped  9\n",
        "590661408\n",
        "processed "
       ]
      },
      {
       "output_type": "stream",
       "stream": "stdout",
       "text": [
        " 769\n",
        "skipped  9\n",
        "590685837\n",
        "processed "
       ]
      },
      {
       "output_type": "stream",
       "stream": "stdout",
       "text": [
        " 770\n",
        "skipped  9\n",
        "590720858\n",
        "processed "
       ]
      },
      {
       "output_type": "stream",
       "stream": "stdout",
       "text": [
        " 771\n",
        "skipped  9\n",
        "590806668\n",
        "processed "
       ]
      },
      {
       "output_type": "stream",
       "stream": "stdout",
       "text": [
        " 772\n",
        "skipped  9\n",
        "590841021\n",
        "processed "
       ]
      },
      {
       "output_type": "stream",
       "stream": "stdout",
       "text": [
        " 773\n",
        "skipped  9\n",
        "590877233\n",
        "processed "
       ]
      },
      {
       "output_type": "stream",
       "stream": "stdout",
       "text": [
        " 774\n",
        "skipped  9\n",
        "590917078\n",
        "processed "
       ]
      },
      {
       "output_type": "stream",
       "stream": "stdout",
       "text": [
        " 775\n",
        "skipped  9\n",
        "590918616\n",
        "processed "
       ]
      },
      {
       "output_type": "stream",
       "stream": "stdout",
       "text": [
        " 776\n",
        "skipped  9\n",
        "590918621\n",
        "processed "
       ]
      },
      {
       "output_type": "stream",
       "stream": "stdout",
       "text": [
        " 777\n",
        "skipped  9\n",
        "590929956\n",
        "processed "
       ]
      },
      {
       "output_type": "stream",
       "stream": "stdout",
       "text": [
        " 778\n",
        "skipped  9\n",
        "590957300\n",
        "processed "
       ]
      },
      {
       "output_type": "stream",
       "stream": "stdout",
       "text": [
        " 779\n",
        "skipped  9\n",
        "590957745\n",
        "processed "
       ]
      },
      {
       "output_type": "stream",
       "stream": "stdout",
       "text": [
        " 780\n",
        "skipped  9\n",
        "590961196\n",
        "processed "
       ]
      },
      {
       "output_type": "stream",
       "stream": "stdout",
       "text": [
        " 781\n",
        "skipped  9\n",
        "590962451\n",
        "processed "
       ]
      },
      {
       "output_type": "stream",
       "stream": "stdout",
       "text": [
        " 782\n",
        "skipped  9\n",
        "590975183\n",
        "processed "
       ]
      },
      {
       "output_type": "stream",
       "stream": "stdout",
       "text": [
        " 783\n",
        "skipped  9\n",
        "590975515\n",
        "processed "
       ]
      },
      {
       "output_type": "stream",
       "stream": "stdout",
       "text": [
        " 784\n",
        "skipped  9\n",
        "590975517\n",
        "processed "
       ]
      },
      {
       "output_type": "stream",
       "stream": "stdout",
       "text": [
        " 785\n",
        "skipped  9\n",
        "590976484\n",
        "processed "
       ]
      },
      {
       "output_type": "stream",
       "stream": "stdout",
       "text": [
        " 786\n",
        "skipped  9\n",
        "591998702\n",
        "processed "
       ]
      },
      {
       "output_type": "stream",
       "stream": "stdout",
       "text": [
        " 787\n",
        "skipped  9\n",
        "591998982\n"
       ]
      },
      {
       "output_type": "stream",
       "stream": "stderr",
       "text": [
        "  File \"<ipython-input-54-b4d3e6c4c975>\", line 9, in <module>\n",
        "    res = comp_extractors( extractor_training_object )\n",
        "  File \"<ipython-input-22-92a8482cb560>\", line 19, in comp_extractors\n",
        "    extraction_results = get_extraction_results( eto )\n",
        "  File \"<ipython-input-21-50a4232286a4>\", line 11, in get_extraction_results\n",
        "    ret['py_goose']  = { 'extracted_html': extract_with_python_goose( raw_content ) }\n",
        "  File \"<ipython-input-9-4b4c353cffc7>\", line 6, in extract_with_python_goose\n",
        "    r = g.extract( raw_html=raw_content )\n",
        "  File \"/usr/local/lib/python2.7/dist-packages/goose/__init__.py\", line 56, in extract\n",
        "    return self.crawl(cc)\n",
        "  File \"/usr/local/lib/python2.7/dist-packages/goose/__init__.py\", line 63, in crawl\n",
        "    article = crawler.crawl(crawl_candiate)\n",
        "  File \"/usr/local/lib/python2.7/dist-packages/goose/crawler.py\", line 125, in crawl\n",
        "    self.get_image()\n",
        "  File \"/usr/local/lib/python2.7/dist-packages/goose/crawler.py\", line 147, in get_image\n",
        "    self.article.top_image = self.image_extractor.get_best_image(doc, top_node)\n",
        "  File \"/usr/local/lib/python2.7/dist-packages/goose/images/extractors.py\", line 88, in get_best_image\n",
        "    image = self.check_large_images(topNode, 0, 0)\n",
        "  File \"/usr/local/lib/python2.7/dist-packages/goose/images/extractors.py\", line 122, in check_large_images\n",
        "    good_images = self.get_image_candidates(node)\n",
        "  File \"/usr/local/lib/python2.7/dist-packages/goose/images/extractors.py\", line 283, in get_image_candidates\n",
        "    good_images = self.get_images_bytesize_match(filtered_images)\n",
        "  File \"/usr/local/lib/python2.7/dist-packages/goose/images/extractors.py\", line 299, in get_images_bytesize_match\n",
        "    local_image = self.get_local_image(src)\n",
        "  File \"/usr/local/lib/python2.7/dist-packages/goose/images/extractors.py\", line 344, in get_local_image\n",
        "    self.link_hash, src, self.config)\n",
        "  File \"/usr/local/lib/python2.7/dist-packages/goose/images/utils.py\", line 52, in store_image\n",
        "    image = self.read_localfile(link_hash, src, config)\n",
        "  File \"/usr/local/lib/python2.7/dist-packages/goose/images/utils.py\", line 81, in read_localfile\n",
        "    image_details = self.get_image_dimensions(identify, local_image_name)\n",
        "  File \"/usr/local/lib/python2.7/dist-packages/goose/images/utils.py\", line 36, in get_image_dimensions\n",
        "    image = Image.open(path)\n",
        "  File \"/usr/lib/python2.7/dist-packages/PIL/Image.py\", line 2028, in open\n",
        "    raise IOError(\"cannot identify image file\")\n",
        "IOError: cannot identify image file\n"
       ]
      },
      {
       "metadata": {},
       "output_type": "pyout",
       "prompt_number": 54,
       "text": [
        "(IOError, IOError('cannot identify image file'), <traceback at 0x7fcec3b85758>)"
       ]
      }
     ],
     "prompt_number": 54
    },
    {
     "cell_type": "code",
     "collapsed": false,
     "input": [
      "def filter_by_media_tags_id( comps_downloads, media_tags_ids ):\n",
      "    media_ids_matching = set()\n",
      "    #print media_id_media_map\n",
      "    for media_id, media in media_id_media_map.iteritems():\n",
      "        if not media[ 'media_source_tags_ids'].isdisjoint( media_tags_ids ):\n",
      "            media_ids_matching.add( media_id )\n",
      "            \n",
      "    return  [cd for cd in comps_downloads if cd['media_id'] in media_ids_matching ]"
     ],
     "language": "python",
     "metadata": {},
     "outputs": [],
     "prompt_number": 55
    },
    {
     "cell_type": "heading",
     "level": 1,
     "metadata": {},
     "source": [
      "Results"
     ]
    },
    {
     "cell_type": "heading",
     "level": 2,
     "metadata": {},
     "source": [
      "Results Overall"
     ]
    },
    {
     "cell_type": "code",
     "collapsed": false,
     "input": [
      "df = get_data_frame_from_comparision_objects( comps_downloads )\n",
      "print_results_by_measurement_type( df )\n",
      "#df.describe()\n"
     ],
     "language": "python",
     "metadata": {},
     "outputs": [
      {
       "output_type": "stream",
       "stream": "stdout",
       "text": [
        "       precision_boiler_pipe  precision_crf  precision_heur  \\\n",
        "count             788.000000     788.000000      788.000000   \n",
        "mean                0.710532       0.810288        0.810288   \n",
        "std                 0.386452       0.262627        0.262627   \n",
        "min                 0.000000       0.000000        0.000000   \n",
        "2%                  0.000000       0.000000        0.000000   \n",
        "5%                  0.012849       0.029162        0.029162   \n",
        "10%                 0.035588       0.421503        0.421503   \n",
        "50%                 0.942292       0.909580        0.909580   \n",
        "max                 1.000000       1.000000        1.000000   \n",
        "\n",
        "       precision_justext  precision_py_goose  precision_python_readibilty  \n",
        "count         788.000000          788.000000                   788.000000  \n",
        "mean            0.437063            0.550737                     0.870917  \n",
        "std             0.447028            0.415757                     0.237602  \n",
        "min             0.000000            0.000000                     0.009804  \n",
        "2%              0.000000            0.002208                     0.036693  \n",
        "5%              0.000000            0.009075                     0.100252  \n",
        "10%             0.000000            0.023438                     0.656981  \n",
        "50%             0.148148            0.752551                     0.959550  \n",
        "max             1.000000            1.000000                     1.000000  \n",
        "       recall_boiler_pipe  recall_crf  recall_heur  recall_justext  \\\n",
        "count          788.000000  788.000000   788.000000      788.000000   \n",
        "mean             0.664262    0.719434     0.719434        0.405563   \n",
        "std              0.385493    0.319217     0.319217        0.444718   \n",
        "min              0.000000    0.000000     0.000000        0.000000   \n",
        "2%               0.000000    0.000000     0.000000        0.000000   \n",
        "5%               0.004527    0.008000     0.008000        0.000000   \n",
        "10%              0.020346    0.138195     0.138195        0.000000   \n",
        "50%              0.882041    0.862643     0.862643        0.064896   \n",
        "max              1.000000    1.000000     1.000000        1.000000   \n",
        "\n",
        "       recall_py_goose  recall_python_readibilty  \n",
        "count       788.000000                788.000000  \n",
        "mean          0.894128                  0.914382  \n",
        "std           0.230115                  0.194481  \n",
        "min           0.000000                  0.007341  \n",
        "2%            0.026210                  0.073386  \n",
        "5%            0.330784                  0.434405  \n",
        "10%           0.614000                  0.827880  \n",
        "50%           1.000000                  0.978991  \n",
        "max           1.000000                  1.000000  \n",
        "       f1_boiler_pipe      f1_crf     f1_heur  f1_justext  f1_py_goose  \\\n",
        "count      788.000000  788.000000  788.000000  788.000000   788.000000   \n",
        "mean         0.668815    0.729466    0.729466    0.399996     0.584023   \n",
        "std          0.383752    0.289674    0.289674    0.429024     0.404133   \n",
        "min          0.000000    0.000000    0.000000    0.000000     0.000000   \n",
        "2%           0.000000    0.000000    0.000000    0.000000     0.004391   \n",
        "5%           0.007698    0.009702    0.009702    0.000000     0.016443   \n",
        "10%          0.023817    0.205575    0.205575    0.000000     0.044392   \n",
        "50%          0.888980    0.856150    0.856150    0.062982     0.813740   \n",
        "max          1.000000    1.000000    1.000000    1.000000     1.000000   \n",
        "\n",
        "       f1_python_readibilty  \n",
        "count            788.000000  \n",
        "mean               0.873436  \n",
        "std                0.233078  \n",
        "min                0.010996  \n",
        "2%                 0.040640  \n",
        "5%                 0.143345  \n",
        "10%                0.671090  \n",
        "50%                0.955089  \n",
        "max                1.000000  \n"
       ]
      }
     ],
     "prompt_number": 56
    },
    {
     "cell_type": "code",
     "collapsed": false,
     "input": [
      "df.describe()"
     ],
     "language": "python",
     "metadata": {},
     "outputs": [
      {
       "html": [
        "<div style=\"max-height:1000px;max-width:1500px;overflow:auto;\">\n",
        "<table border=\"1\" class=\"dataframe\">\n",
        "  <thead>\n",
        "    <tr style=\"text-align: right;\">\n",
        "      <th></th>\n",
        "      <th>f1_boiler_pipe</th>\n",
        "      <th>f1_crf</th>\n",
        "      <th>f1_heur</th>\n",
        "      <th>f1_justext</th>\n",
        "      <th>f1_py_goose</th>\n",
        "      <th>f1_python_readibilty</th>\n",
        "      <th>precision_boiler_pipe</th>\n",
        "      <th>precision_crf</th>\n",
        "      <th>precision_heur</th>\n",
        "      <th>precision_justext</th>\n",
        "      <th>precision_py_goose</th>\n",
        "      <th>precision_python_readibilty</th>\n",
        "      <th>recall_boiler_pipe</th>\n",
        "      <th>recall_crf</th>\n",
        "      <th>recall_heur</th>\n",
        "      <th>recall_justext</th>\n",
        "      <th>recall_py_goose</th>\n",
        "      <th>recall_python_readibilty</th>\n",
        "    </tr>\n",
        "  </thead>\n",
        "  <tbody>\n",
        "    <tr>\n",
        "      <th>count</th>\n",
        "      <td> 788.000000</td>\n",
        "      <td> 788.000000</td>\n",
        "      <td> 788.000000</td>\n",
        "      <td> 788.000000</td>\n",
        "      <td> 788.000000</td>\n",
        "      <td> 788.000000</td>\n",
        "      <td> 788.000000</td>\n",
        "      <td> 788.000000</td>\n",
        "      <td> 788.000000</td>\n",
        "      <td> 788.000000</td>\n",
        "      <td> 788.000000</td>\n",
        "      <td> 788.000000</td>\n",
        "      <td> 788.000000</td>\n",
        "      <td> 788.000000</td>\n",
        "      <td> 788.000000</td>\n",
        "      <td> 788.000000</td>\n",
        "      <td> 788.000000</td>\n",
        "      <td> 788.000000</td>\n",
        "    </tr>\n",
        "    <tr>\n",
        "      <th>mean</th>\n",
        "      <td>   0.668815</td>\n",
        "      <td>   0.729466</td>\n",
        "      <td>   0.729466</td>\n",
        "      <td>   0.399996</td>\n",
        "      <td>   0.584023</td>\n",
        "      <td>   0.873436</td>\n",
        "      <td>   0.710532</td>\n",
        "      <td>   0.810288</td>\n",
        "      <td>   0.810288</td>\n",
        "      <td>   0.437063</td>\n",
        "      <td>   0.550737</td>\n",
        "      <td>   0.870917</td>\n",
        "      <td>   0.664262</td>\n",
        "      <td>   0.719434</td>\n",
        "      <td>   0.719434</td>\n",
        "      <td>   0.405563</td>\n",
        "      <td>   0.894128</td>\n",
        "      <td>   0.914382</td>\n",
        "    </tr>\n",
        "    <tr>\n",
        "      <th>std</th>\n",
        "      <td>   0.383752</td>\n",
        "      <td>   0.289674</td>\n",
        "      <td>   0.289674</td>\n",
        "      <td>   0.429024</td>\n",
        "      <td>   0.404133</td>\n",
        "      <td>   0.233078</td>\n",
        "      <td>   0.386452</td>\n",
        "      <td>   0.262627</td>\n",
        "      <td>   0.262627</td>\n",
        "      <td>   0.447028</td>\n",
        "      <td>   0.415757</td>\n",
        "      <td>   0.237602</td>\n",
        "      <td>   0.385493</td>\n",
        "      <td>   0.319217</td>\n",
        "      <td>   0.319217</td>\n",
        "      <td>   0.444718</td>\n",
        "      <td>   0.230115</td>\n",
        "      <td>   0.194481</td>\n",
        "    </tr>\n",
        "    <tr>\n",
        "      <th>min</th>\n",
        "      <td>   0.000000</td>\n",
        "      <td>   0.000000</td>\n",
        "      <td>   0.000000</td>\n",
        "      <td>   0.000000</td>\n",
        "      <td>   0.000000</td>\n",
        "      <td>   0.010996</td>\n",
        "      <td>   0.000000</td>\n",
        "      <td>   0.000000</td>\n",
        "      <td>   0.000000</td>\n",
        "      <td>   0.000000</td>\n",
        "      <td>   0.000000</td>\n",
        "      <td>   0.009804</td>\n",
        "      <td>   0.000000</td>\n",
        "      <td>   0.000000</td>\n",
        "      <td>   0.000000</td>\n",
        "      <td>   0.000000</td>\n",
        "      <td>   0.000000</td>\n",
        "      <td>   0.007341</td>\n",
        "    </tr>\n",
        "    <tr>\n",
        "      <th>25%</th>\n",
        "      <td>   0.222540</td>\n",
        "      <td>   0.605215</td>\n",
        "      <td>   0.605215</td>\n",
        "      <td>   0.000000</td>\n",
        "      <td>   0.119977</td>\n",
        "      <td>   0.909426</td>\n",
        "      <td>   0.433874</td>\n",
        "      <td>   0.820770</td>\n",
        "      <td>   0.820770</td>\n",
        "      <td>   0.000000</td>\n",
        "      <td>   0.067545</td>\n",
        "      <td>   0.898404</td>\n",
        "      <td>   0.271176</td>\n",
        "      <td>   0.516098</td>\n",
        "      <td>   0.516098</td>\n",
        "      <td>   0.000000</td>\n",
        "      <td>   0.937500</td>\n",
        "      <td>   0.934946</td>\n",
        "    </tr>\n",
        "    <tr>\n",
        "      <th>50%</th>\n",
        "      <td>   0.888980</td>\n",
        "      <td>   0.856150</td>\n",
        "      <td>   0.856150</td>\n",
        "      <td>   0.062982</td>\n",
        "      <td>   0.813740</td>\n",
        "      <td>   0.955089</td>\n",
        "      <td>   0.942292</td>\n",
        "      <td>   0.909580</td>\n",
        "      <td>   0.909580</td>\n",
        "      <td>   0.148148</td>\n",
        "      <td>   0.752551</td>\n",
        "      <td>   0.959550</td>\n",
        "      <td>   0.882041</td>\n",
        "      <td>   0.862643</td>\n",
        "      <td>   0.862643</td>\n",
        "      <td>   0.064896</td>\n",
        "      <td>   1.000000</td>\n",
        "      <td>   0.978991</td>\n",
        "    </tr>\n",
        "    <tr>\n",
        "      <th>75%</th>\n",
        "      <td>   0.962963</td>\n",
        "      <td>   0.937751</td>\n",
        "      <td>   0.937751</td>\n",
        "      <td>   0.885071</td>\n",
        "      <td>   0.967816</td>\n",
        "      <td>   0.984303</td>\n",
        "      <td>   0.979498</td>\n",
        "      <td>   0.957318</td>\n",
        "      <td>   0.957318</td>\n",
        "      <td>   0.927273</td>\n",
        "      <td>   0.951766</td>\n",
        "      <td>   0.986663</td>\n",
        "      <td>   0.961558</td>\n",
        "      <td>   0.976776</td>\n",
        "      <td>   0.976776</td>\n",
        "      <td>   0.964900</td>\n",
        "      <td>   1.000000</td>\n",
        "      <td>   1.000000</td>\n",
        "    </tr>\n",
        "    <tr>\n",
        "      <th>max</th>\n",
        "      <td>   1.000000</td>\n",
        "      <td>   1.000000</td>\n",
        "      <td>   1.000000</td>\n",
        "      <td>   1.000000</td>\n",
        "      <td>   1.000000</td>\n",
        "      <td>   1.000000</td>\n",
        "      <td>   1.000000</td>\n",
        "      <td>   1.000000</td>\n",
        "      <td>   1.000000</td>\n",
        "      <td>   1.000000</td>\n",
        "      <td>   1.000000</td>\n",
        "      <td>   1.000000</td>\n",
        "      <td>   1.000000</td>\n",
        "      <td>   1.000000</td>\n",
        "      <td>   1.000000</td>\n",
        "      <td>   1.000000</td>\n",
        "      <td>   1.000000</td>\n",
        "      <td>   1.000000</td>\n",
        "    </tr>\n",
        "  </tbody>\n",
        "</table>\n",
        "</div>"
       ],
       "metadata": {},
       "output_type": "pyout",
       "prompt_number": 57,
       "text": [
        "       f1_boiler_pipe      f1_crf     f1_heur  f1_justext  f1_py_goose  \\\n",
        "count      788.000000  788.000000  788.000000  788.000000   788.000000   \n",
        "mean         0.668815    0.729466    0.729466    0.399996     0.584023   \n",
        "std          0.383752    0.289674    0.289674    0.429024     0.404133   \n",
        "min          0.000000    0.000000    0.000000    0.000000     0.000000   \n",
        "25%          0.222540    0.605215    0.605215    0.000000     0.119977   \n",
        "50%          0.888980    0.856150    0.856150    0.062982     0.813740   \n",
        "75%          0.962963    0.937751    0.937751    0.885071     0.967816   \n",
        "max          1.000000    1.000000    1.000000    1.000000     1.000000   \n",
        "\n",
        "       f1_python_readibilty  precision_boiler_pipe  precision_crf  \\\n",
        "count            788.000000             788.000000     788.000000   \n",
        "mean               0.873436               0.710532       0.810288   \n",
        "std                0.233078               0.386452       0.262627   \n",
        "min                0.010996               0.000000       0.000000   \n",
        "25%                0.909426               0.433874       0.820770   \n",
        "50%                0.955089               0.942292       0.909580   \n",
        "75%                0.984303               0.979498       0.957318   \n",
        "max                1.000000               1.000000       1.000000   \n",
        "\n",
        "       precision_heur  precision_justext  precision_py_goose  \\\n",
        "count      788.000000         788.000000          788.000000   \n",
        "mean         0.810288           0.437063            0.550737   \n",
        "std          0.262627           0.447028            0.415757   \n",
        "min          0.000000           0.000000            0.000000   \n",
        "25%          0.820770           0.000000            0.067545   \n",
        "50%          0.909580           0.148148            0.752551   \n",
        "75%          0.957318           0.927273            0.951766   \n",
        "max          1.000000           1.000000            1.000000   \n",
        "\n",
        "       precision_python_readibilty  recall_boiler_pipe  recall_crf  \\\n",
        "count                   788.000000          788.000000  788.000000   \n",
        "mean                      0.870917            0.664262    0.719434   \n",
        "std                       0.237602            0.385493    0.319217   \n",
        "min                       0.009804            0.000000    0.000000   \n",
        "25%                       0.898404            0.271176    0.516098   \n",
        "50%                       0.959550            0.882041    0.862643   \n",
        "75%                       0.986663            0.961558    0.976776   \n",
        "max                       1.000000            1.000000    1.000000   \n",
        "\n",
        "       recall_heur  recall_justext  recall_py_goose  recall_python_readibilty  \n",
        "count   788.000000      788.000000       788.000000                788.000000  \n",
        "mean      0.719434        0.405563         0.894128                  0.914382  \n",
        "std       0.319217        0.444718         0.230115                  0.194481  \n",
        "min       0.000000        0.000000         0.000000                  0.007341  \n",
        "25%       0.516098        0.000000         0.937500                  0.934946  \n",
        "50%       0.862643        0.064896         1.000000                  0.978991  \n",
        "75%       0.976776        0.964900         1.000000                  1.000000  \n",
        "max       1.000000        1.000000         1.000000                  1.000000  "
       ]
      }
     ],
     "prompt_number": 57
    },
    {
     "cell_type": "code",
     "collapsed": false,
     "input": [
      "df.describe()"
     ],
     "language": "python",
     "metadata": {},
     "outputs": [
      {
       "html": [
        "<div style=\"max-height:1000px;max-width:1500px;overflow:auto;\">\n",
        "<table border=\"1\" class=\"dataframe\">\n",
        "  <thead>\n",
        "    <tr style=\"text-align: right;\">\n",
        "      <th></th>\n",
        "      <th>f1_boiler_pipe</th>\n",
        "      <th>f1_crf</th>\n",
        "      <th>f1_heur</th>\n",
        "      <th>f1_justext</th>\n",
        "      <th>f1_py_goose</th>\n",
        "      <th>f1_python_readibilty</th>\n",
        "      <th>precision_boiler_pipe</th>\n",
        "      <th>precision_crf</th>\n",
        "      <th>precision_heur</th>\n",
        "      <th>precision_justext</th>\n",
        "      <th>precision_py_goose</th>\n",
        "      <th>precision_python_readibilty</th>\n",
        "      <th>recall_boiler_pipe</th>\n",
        "      <th>recall_crf</th>\n",
        "      <th>recall_heur</th>\n",
        "      <th>recall_justext</th>\n",
        "      <th>recall_py_goose</th>\n",
        "      <th>recall_python_readibilty</th>\n",
        "    </tr>\n",
        "  </thead>\n",
        "  <tbody>\n",
        "    <tr>\n",
        "      <th>count</th>\n",
        "      <td> 788.000000</td>\n",
        "      <td> 788.000000</td>\n",
        "      <td> 788.000000</td>\n",
        "      <td> 788.000000</td>\n",
        "      <td> 788.000000</td>\n",
        "      <td> 788.000000</td>\n",
        "      <td> 788.000000</td>\n",
        "      <td> 788.000000</td>\n",
        "      <td> 788.000000</td>\n",
        "      <td> 788.000000</td>\n",
        "      <td> 788.000000</td>\n",
        "      <td> 788.000000</td>\n",
        "      <td> 788.000000</td>\n",
        "      <td> 788.000000</td>\n",
        "      <td> 788.000000</td>\n",
        "      <td> 788.000000</td>\n",
        "      <td> 788.000000</td>\n",
        "      <td> 788.000000</td>\n",
        "    </tr>\n",
        "    <tr>\n",
        "      <th>mean</th>\n",
        "      <td>   0.668815</td>\n",
        "      <td>   0.729466</td>\n",
        "      <td>   0.729466</td>\n",
        "      <td>   0.399996</td>\n",
        "      <td>   0.584023</td>\n",
        "      <td>   0.873436</td>\n",
        "      <td>   0.710532</td>\n",
        "      <td>   0.810288</td>\n",
        "      <td>   0.810288</td>\n",
        "      <td>   0.437063</td>\n",
        "      <td>   0.550737</td>\n",
        "      <td>   0.870917</td>\n",
        "      <td>   0.664262</td>\n",
        "      <td>   0.719434</td>\n",
        "      <td>   0.719434</td>\n",
        "      <td>   0.405563</td>\n",
        "      <td>   0.894128</td>\n",
        "      <td>   0.914382</td>\n",
        "    </tr>\n",
        "    <tr>\n",
        "      <th>std</th>\n",
        "      <td>   0.383752</td>\n",
        "      <td>   0.289674</td>\n",
        "      <td>   0.289674</td>\n",
        "      <td>   0.429024</td>\n",
        "      <td>   0.404133</td>\n",
        "      <td>   0.233078</td>\n",
        "      <td>   0.386452</td>\n",
        "      <td>   0.262627</td>\n",
        "      <td>   0.262627</td>\n",
        "      <td>   0.447028</td>\n",
        "      <td>   0.415757</td>\n",
        "      <td>   0.237602</td>\n",
        "      <td>   0.385493</td>\n",
        "      <td>   0.319217</td>\n",
        "      <td>   0.319217</td>\n",
        "      <td>   0.444718</td>\n",
        "      <td>   0.230115</td>\n",
        "      <td>   0.194481</td>\n",
        "    </tr>\n",
        "    <tr>\n",
        "      <th>min</th>\n",
        "      <td>   0.000000</td>\n",
        "      <td>   0.000000</td>\n",
        "      <td>   0.000000</td>\n",
        "      <td>   0.000000</td>\n",
        "      <td>   0.000000</td>\n",
        "      <td>   0.010996</td>\n",
        "      <td>   0.000000</td>\n",
        "      <td>   0.000000</td>\n",
        "      <td>   0.000000</td>\n",
        "      <td>   0.000000</td>\n",
        "      <td>   0.000000</td>\n",
        "      <td>   0.009804</td>\n",
        "      <td>   0.000000</td>\n",
        "      <td>   0.000000</td>\n",
        "      <td>   0.000000</td>\n",
        "      <td>   0.000000</td>\n",
        "      <td>   0.000000</td>\n",
        "      <td>   0.007341</td>\n",
        "    </tr>\n",
        "    <tr>\n",
        "      <th>25%</th>\n",
        "      <td>   0.222540</td>\n",
        "      <td>   0.605215</td>\n",
        "      <td>   0.605215</td>\n",
        "      <td>   0.000000</td>\n",
        "      <td>   0.119977</td>\n",
        "      <td>   0.909426</td>\n",
        "      <td>   0.433874</td>\n",
        "      <td>   0.820770</td>\n",
        "      <td>   0.820770</td>\n",
        "      <td>   0.000000</td>\n",
        "      <td>   0.067545</td>\n",
        "      <td>   0.898404</td>\n",
        "      <td>   0.271176</td>\n",
        "      <td>   0.516098</td>\n",
        "      <td>   0.516098</td>\n",
        "      <td>   0.000000</td>\n",
        "      <td>   0.937500</td>\n",
        "      <td>   0.934946</td>\n",
        "    </tr>\n",
        "    <tr>\n",
        "      <th>50%</th>\n",
        "      <td>   0.888980</td>\n",
        "      <td>   0.856150</td>\n",
        "      <td>   0.856150</td>\n",
        "      <td>   0.062982</td>\n",
        "      <td>   0.813740</td>\n",
        "      <td>   0.955089</td>\n",
        "      <td>   0.942292</td>\n",
        "      <td>   0.909580</td>\n",
        "      <td>   0.909580</td>\n",
        "      <td>   0.148148</td>\n",
        "      <td>   0.752551</td>\n",
        "      <td>   0.959550</td>\n",
        "      <td>   0.882041</td>\n",
        "      <td>   0.862643</td>\n",
        "      <td>   0.862643</td>\n",
        "      <td>   0.064896</td>\n",
        "      <td>   1.000000</td>\n",
        "      <td>   0.978991</td>\n",
        "    </tr>\n",
        "    <tr>\n",
        "      <th>75%</th>\n",
        "      <td>   0.962963</td>\n",
        "      <td>   0.937751</td>\n",
        "      <td>   0.937751</td>\n",
        "      <td>   0.885071</td>\n",
        "      <td>   0.967816</td>\n",
        "      <td>   0.984303</td>\n",
        "      <td>   0.979498</td>\n",
        "      <td>   0.957318</td>\n",
        "      <td>   0.957318</td>\n",
        "      <td>   0.927273</td>\n",
        "      <td>   0.951766</td>\n",
        "      <td>   0.986663</td>\n",
        "      <td>   0.961558</td>\n",
        "      <td>   0.976776</td>\n",
        "      <td>   0.976776</td>\n",
        "      <td>   0.964900</td>\n",
        "      <td>   1.000000</td>\n",
        "      <td>   1.000000</td>\n",
        "    </tr>\n",
        "    <tr>\n",
        "      <th>max</th>\n",
        "      <td>   1.000000</td>\n",
        "      <td>   1.000000</td>\n",
        "      <td>   1.000000</td>\n",
        "      <td>   1.000000</td>\n",
        "      <td>   1.000000</td>\n",
        "      <td>   1.000000</td>\n",
        "      <td>   1.000000</td>\n",
        "      <td>   1.000000</td>\n",
        "      <td>   1.000000</td>\n",
        "      <td>   1.000000</td>\n",
        "      <td>   1.000000</td>\n",
        "      <td>   1.000000</td>\n",
        "      <td>   1.000000</td>\n",
        "      <td>   1.000000</td>\n",
        "      <td>   1.000000</td>\n",
        "      <td>   1.000000</td>\n",
        "      <td>   1.000000</td>\n",
        "      <td>   1.000000</td>\n",
        "    </tr>\n",
        "  </tbody>\n",
        "</table>\n",
        "</div>"
       ],
       "metadata": {},
       "output_type": "pyout",
       "prompt_number": 58,
       "text": [
        "       f1_boiler_pipe      f1_crf     f1_heur  f1_justext  f1_py_goose  \\\n",
        "count      788.000000  788.000000  788.000000  788.000000   788.000000   \n",
        "mean         0.668815    0.729466    0.729466    0.399996     0.584023   \n",
        "std          0.383752    0.289674    0.289674    0.429024     0.404133   \n",
        "min          0.000000    0.000000    0.000000    0.000000     0.000000   \n",
        "25%          0.222540    0.605215    0.605215    0.000000     0.119977   \n",
        "50%          0.888980    0.856150    0.856150    0.062982     0.813740   \n",
        "75%          0.962963    0.937751    0.937751    0.885071     0.967816   \n",
        "max          1.000000    1.000000    1.000000    1.000000     1.000000   \n",
        "\n",
        "       f1_python_readibilty  precision_boiler_pipe  precision_crf  \\\n",
        "count            788.000000             788.000000     788.000000   \n",
        "mean               0.873436               0.710532       0.810288   \n",
        "std                0.233078               0.386452       0.262627   \n",
        "min                0.010996               0.000000       0.000000   \n",
        "25%                0.909426               0.433874       0.820770   \n",
        "50%                0.955089               0.942292       0.909580   \n",
        "75%                0.984303               0.979498       0.957318   \n",
        "max                1.000000               1.000000       1.000000   \n",
        "\n",
        "       precision_heur  precision_justext  precision_py_goose  \\\n",
        "count      788.000000         788.000000          788.000000   \n",
        "mean         0.810288           0.437063            0.550737   \n",
        "std          0.262627           0.447028            0.415757   \n",
        "min          0.000000           0.000000            0.000000   \n",
        "25%          0.820770           0.000000            0.067545   \n",
        "50%          0.909580           0.148148            0.752551   \n",
        "75%          0.957318           0.927273            0.951766   \n",
        "max          1.000000           1.000000            1.000000   \n",
        "\n",
        "       precision_python_readibilty  recall_boiler_pipe  recall_crf  \\\n",
        "count                   788.000000          788.000000  788.000000   \n",
        "mean                      0.870917            0.664262    0.719434   \n",
        "std                       0.237602            0.385493    0.319217   \n",
        "min                       0.009804            0.000000    0.000000   \n",
        "25%                       0.898404            0.271176    0.516098   \n",
        "50%                       0.959550            0.882041    0.862643   \n",
        "75%                       0.986663            0.961558    0.976776   \n",
        "max                       1.000000            1.000000    1.000000   \n",
        "\n",
        "       recall_heur  recall_justext  recall_py_goose  recall_python_readibilty  \n",
        "count   788.000000      788.000000       788.000000                788.000000  \n",
        "mean      0.719434        0.405563         0.894128                  0.914382  \n",
        "std       0.319217        0.444718         0.230115                  0.194481  \n",
        "min       0.000000        0.000000         0.000000                  0.007341  \n",
        "25%       0.516098        0.000000         0.937500                  0.934946  \n",
        "50%       0.862643        0.064896         1.000000                  0.978991  \n",
        "75%       0.976776        0.964900         1.000000                  1.000000  \n",
        "max       1.000000        1.000000         1.000000                  1.000000  "
       ]
      }
     ],
     "prompt_number": 58
    },
    {
     "cell_type": "heading",
     "level": 2,
     "metadata": {},
     "source": [
      "Results by Subset"
     ]
    },
    {
     "cell_type": "code",
     "collapsed": false,
     "input": [
      "\n",
      "regional = { 2453107 }\n",
      "print \"region / pew knight sutdy / 245107 \"\n",
      "df = get_data_frame_from_comparision_objects( filter_by_media_tags_id( comps_downloads, regional ) )\n",
      "print_results_by_measurement_type( df )\n",
      "\n",
      "ap_english_us_top_25 = { 2453107 }\n",
      "print \"ap_english_us_top25 / 8875027 \"\n",
      "df = get_data_frame_from_comparision_objects( filter_by_media_tags_id( comps_downloads, regional ) )\n",
      "print_results_by_measurement_type( df )\n",
      "\n",
      "political_blogs = { 125 }\n",
      "print \"political blogs / 125\"\n",
      "df = get_data_frame_from_comparision_objects( filter_by_media_tags_id( comps_downloads, political_blogs ) )\n",
      "print_results_by_measurement_type( df )\n",
      "\n",
      "\n",
      "russian = { 7796878 }\n",
      "print 'russian'\n",
      "df = get_data_frame_from_comparision_objects( filter_by_media_tags_id( comps_downloads, russian ) )\n",
      "print_results_by_measurement_type( df )\n",
      "\n",
      "print 'brazil'\n",
      "df = get_data_frame_from_comparision_objects( filter_by_media_tags_id( comps_downloads, {8877968,  8877969, 8877973, 8877970 } ) )\n",
      "print_results_by_measurement_type( df )\n",
      "\n",
      "arabic = { 8878255 }\n",
      "print 'arabic'\n",
      "df = get_data_frame_from_comparision_objects( filter_by_media_tags_id( comps_downloads, arabic ) )\n",
      "print_results_by_measurement_type( df )\n",
      "                                             "
     ],
     "language": "python",
     "metadata": {},
     "outputs": [
      {
       "output_type": "stream",
       "stream": "stdout",
       "text": [
        "region / pew knight sutdy / 245107 \n",
        "       precision_boiler_pipe  precision_crf  precision_heur  \\\n",
        "count             100.000000     100.000000      100.000000   \n",
        "mean                0.895091       0.884535        0.884535   \n",
        "std                 0.211217       0.117238        0.117238   \n",
        "min                 0.055556       0.130435        0.130435   \n",
        "2%                  0.095327       0.648430        0.648430   \n",
        "5%                  0.308825       0.705884        0.705884   \n",
        "10%                 0.739628       0.789755        0.789755   \n",
        "50%                 0.966252       0.912267        0.912267   \n",
        "max                 1.000000       0.993341        0.993341   \n",
        "\n",
        "       precision_justext  precision_py_goose  precision_python_readibilty  \n",
        "count         100.000000          100.000000                   100.000000  \n",
        "mean            0.800514            0.883267                     0.916143  \n",
        "std             0.276266            0.181630                     0.128315  \n",
        "min             0.000000            0.009485                     0.077586  \n",
        "2%              0.006487            0.125489                     0.649232  \n",
        "5%              0.060334            0.653828                     0.685872  \n",
        "10%             0.335694            0.748913                     0.848106  \n",
        "50%             0.912167            0.945236                     0.946645  \n",
        "max             1.000000            1.000000                     1.000000  \n",
        "       recall_boiler_pipe  recall_crf  recall_heur  recall_justext  \\\n",
        "count          100.000000  100.000000   100.000000      100.000000   \n",
        "mean             0.785534    0.777392     0.777392        0.720508   \n",
        "std              0.265295    0.210007     0.210007        0.290631   \n",
        "min              0.030471    0.113208     0.113208        0.000000   \n",
        "2%               0.050930    0.286446     0.286446        0.016924   \n",
        "5%               0.177436    0.334837     0.334837        0.039278   \n",
        "10%              0.379041    0.436988     0.436988        0.276028   \n",
        "50%              0.908597    0.847801     0.847801        0.815379   \n",
        "max              0.998503    1.000000     1.000000        1.000000   \n",
        "\n",
        "       recall_py_goose  recall_python_readibilty  \n",
        "count       100.000000                100.000000  \n",
        "mean          0.907621                  0.927393  \n",
        "std           0.209739                  0.138098  \n",
        "min           0.161290                  0.143822  \n",
        "2%            0.200000                  0.439964  \n",
        "5%            0.342651                  0.616753  \n",
        "10%           0.588202                  0.846645  \n",
        "50%           0.999439                  0.968862  \n",
        "max           1.000000                  1.000000  \n",
        "       f1_boiler_pipe      f1_crf     f1_heur  f1_justext  f1_py_goose  \\\n",
        "count      100.000000  100.000000  100.000000  100.000000   100.000000   \n",
        "mean         0.818904    0.813568    0.813568    0.734969     0.878324   \n",
        "std          0.233222    0.167611    0.167611    0.271126     0.198288   \n",
        "min          0.048338    0.121212    0.121212    0.000000     0.018717   \n",
        "2%           0.053200    0.384954    0.384954    0.009374     0.153548   \n",
        "5%           0.224665    0.481682    0.481682    0.048252     0.474376   \n",
        "10%          0.544510    0.571314    0.571314    0.298753     0.640558   \n",
        "50%          0.922173    0.866975    0.866975    0.834074     0.959327   \n",
        "max          0.999251    0.994072    0.994072    1.000000     1.000000   \n",
        "\n",
        "       f1_python_readibilty  \n",
        "count            100.000000  \n",
        "mean               0.909126  \n",
        "std                0.139742  \n",
        "min                0.136364  \n",
        "2%                 0.387469  \n",
        "5%                 0.721728  \n",
        "10%                0.794575  \n",
        "50%                0.950276  \n",
        "max                1.000000  \n",
        "ap_english_us_top25 / 8875027 \n",
        "       precision_boiler_pipe  precision_crf  precision_heur  \\\n",
        "count             100.000000     100.000000      100.000000   \n",
        "mean                0.895091       0.884535        0.884535   \n",
        "std                 0.211217       0.117238        0.117238   \n",
        "min                 0.055556       0.130435        0.130435   \n",
        "2%                  0.095327       0.648430        0.648430   \n",
        "5%                  0.308825       0.705884        0.705884   \n",
        "10%                 0.739628       0.789755        0.789755   \n",
        "50%                 0.966252       0.912267        0.912267   \n",
        "max                 1.000000       0.993341        0.993341   \n",
        "\n",
        "       precision_justext  precision_py_goose  precision_python_readibilty  \n",
        "count         100.000000          100.000000                   100.000000  \n",
        "mean            0.800514            0.883267                     0.916143  \n",
        "std             0.276266            0.181630                     0.128315  \n",
        "min             0.000000            0.009485                     0.077586  \n",
        "2%              0.006487            0.125489                     0.649232  \n",
        "5%              0.060334            0.653828                     0.685872  \n",
        "10%             0.335694            0.748913                     0.848106  \n",
        "50%             0.912167            0.945236                     0.946645  \n",
        "max             1.000000            1.000000                     1.000000  "
       ]
      },
      {
       "output_type": "stream",
       "stream": "stdout",
       "text": [
        "\n",
        "       recall_boiler_pipe  recall_crf  recall_heur  recall_justext  \\\n",
        "count          100.000000  100.000000   100.000000      100.000000   \n",
        "mean             0.785534    0.777392     0.777392        0.720508   \n",
        "std              0.265295    0.210007     0.210007        0.290631   \n",
        "min              0.030471    0.113208     0.113208        0.000000   \n",
        "2%               0.050930    0.286446     0.286446        0.016924   \n",
        "5%               0.177436    0.334837     0.334837        0.039278   \n",
        "10%              0.379041    0.436988     0.436988        0.276028   \n",
        "50%              0.908597    0.847801     0.847801        0.815379   \n",
        "max              0.998503    1.000000     1.000000        1.000000   \n",
        "\n",
        "       recall_py_goose  recall_python_readibilty  \n",
        "count       100.000000                100.000000  \n",
        "mean          0.907621                  0.927393  \n",
        "std           0.209739                  0.138098  \n",
        "min           0.161290                  0.143822  \n",
        "2%            0.200000                  0.439964  \n",
        "5%            0.342651                  0.616753  \n",
        "10%           0.588202                  0.846645  \n",
        "50%           0.999439                  0.968862  \n",
        "max           1.000000                  1.000000  \n",
        "       f1_boiler_pipe      f1_crf     f1_heur  f1_justext  f1_py_goose  \\\n",
        "count      100.000000  100.000000  100.000000  100.000000   100.000000   \n",
        "mean         0.818904    0.813568    0.813568    0.734969     0.878324   \n",
        "std          0.233222    0.167611    0.167611    0.271126     0.198288   \n",
        "min          0.048338    0.121212    0.121212    0.000000     0.018717   \n",
        "2%           0.053200    0.384954    0.384954    0.009374     0.153548   \n",
        "5%           0.224665    0.481682    0.481682    0.048252     0.474376   \n",
        "10%          0.544510    0.571314    0.571314    0.298753     0.640558   \n",
        "50%          0.922173    0.866975    0.866975    0.834074     0.959327   \n",
        "max          0.999251    0.994072    0.994072    1.000000     1.000000   \n",
        "\n",
        "       f1_python_readibilty  \n",
        "count            100.000000  \n",
        "mean               0.909126  \n",
        "std                0.139742  \n",
        "min                0.136364  \n",
        "2%                 0.387469  \n",
        "5%                 0.721728  \n",
        "10%                0.794575  \n",
        "50%                0.950276  \n",
        "max                1.000000  \n",
        "political blogs / 125\n",
        "       precision_boiler_pipe  precision_crf  precision_heur  \\\n",
        "count             151.000000     151.000000      151.000000   \n",
        "mean                0.809792       0.718404        0.718404   \n",
        "std                 0.295826       0.352045        0.352045   \n",
        "min                 0.000000       0.000000        0.000000   \n",
        "2%                  0.000000       0.000000        0.000000   \n",
        "5%                  0.049043       0.000000        0.000000   \n",
        "10%                 0.133333       0.009709        0.009709   \n",
        "50%                 0.950125       0.898936        0.898936   \n",
        "max                 0.997763       1.000000        1.000000   \n",
        "\n",
        "       precision_justext  precision_py_goose  precision_python_readibilty  \n",
        "count         151.000000          151.000000                   151.000000  \n",
        "mean            0.723544            0.748807                     0.802606  \n",
        "std             0.351402            0.305326                     0.318670  \n",
        "min             0.000000            0.000000                     0.017241  \n",
        "2%              0.000000            0.010274                     0.026694  \n",
        "5%              0.000000            0.071799                     0.062339  \n",
        "10%             0.025641            0.230769                     0.162602  \n",
        "50%             0.910714            0.911765                     0.970149  \n",
        "max             1.000000            1.000000                     1.000000  \n",
        "       recall_boiler_pipe  recall_crf  recall_heur  recall_justext  \\\n",
        "count          151.000000  151.000000   151.000000      151.000000   \n",
        "mean             0.740287    0.649199     0.649199        0.618612   \n",
        "std              0.346082    0.382584     0.382584        0.403165   \n",
        "min              0.000000    0.000000     0.000000        0.000000   \n",
        "2%               0.000000    0.000000     0.000000        0.000000   \n",
        "5%               0.002257    0.000000     0.000000        0.000000   \n",
        "10%              0.009950    0.001578     0.001578        0.001574   \n",
        "50%              0.897260    0.847599     0.847599        0.830189   \n",
        "max              1.000000    1.000000     1.000000        1.000000   \n",
        "\n",
        "       recall_py_goose  recall_python_readibilty  \n",
        "count       151.000000                151.000000  \n",
        "mean          0.850315                  0.873971  \n",
        "std           0.285261                  0.249830  \n",
        "min           0.000000                  0.010406  \n",
        "2%            0.027523                  0.029718  \n",
        "5%            0.088889                  0.080451  \n",
        "10%           0.371429                  0.572115  \n",
        "50%           0.990265                  0.984277  \n",
        "max           1.000000                  1.000000  "
       ]
      },
      {
       "output_type": "stream",
       "stream": "stdout",
       "text": [
        "\n",
        "       f1_boiler_pipe      f1_crf     f1_heur  f1_justext  f1_py_goose  \\\n",
        "count      151.000000  151.000000  151.000000  151.000000   151.000000   \n",
        "mean         0.753919    0.650593    0.650593    0.633978     0.762979   \n",
        "std          0.335875    0.369238    0.369238    0.380408     0.305870   \n",
        "min          0.000000    0.000000    0.000000    0.000000     0.000000   \n",
        "2%           0.000000    0.000000    0.000000    0.000000     0.013941   \n",
        "5%           0.004356    0.000000    0.000000    0.000000     0.043548   \n",
        "10%          0.017699    0.002946    0.002946    0.003131     0.285714   \n",
        "50%          0.917991    0.851175    0.851175    0.816327     0.941860   \n",
        "max          0.994426    1.000000    1.000000    1.000000     1.000000   \n",
        "\n",
        "       f1_python_readibilty  \n",
        "count            151.000000  \n",
        "mean               0.802573  \n",
        "std                0.309993  \n",
        "min                0.013904  \n",
        "2%                 0.032441  \n",
        "5%                 0.063183  \n",
        "10%                0.151515  \n",
        "50%                0.963415  \n",
        "max                1.000000  \n",
        "russian\n",
        "       precision_boiler_pipe  precision_crf  precision_heur  \\\n",
        "count             132.000000     132.000000      132.000000   \n",
        "mean                0.278072       0.838923        0.838923   \n",
        "std                 0.397935       0.217353        0.217353   \n",
        "min                 0.000000       0.007335        0.007335   \n",
        "2%                  0.000000       0.138550        0.138550   \n",
        "5%                  0.000000       0.338316        0.338316   \n",
        "10%                 0.002134       0.464697        0.464697   \n",
        "50%                 0.052051       0.911665        0.911665   \n",
        "max                 1.000000       1.000000        1.000000   \n",
        "\n",
        "       precision_justext  precision_py_goose  precision_python_readibilty  \n",
        "count                132          132.000000                   132.000000  \n",
        "mean                   0            0.064287                     0.879261  \n",
        "std                    0            0.092892                     0.195573  \n",
        "min                    0            0.000000                     0.020725  \n",
        "2%                     0            0.000653                     0.057854  \n",
        "5%                     0            0.002284                     0.655007  \n",
        "10%                    0            0.006494                     0.754755  \n",
        "50%                    0            0.051879                     0.937048  \n",
        "max                    0            0.984456                     1.000000  \n",
        "       recall_boiler_pipe  recall_crf  recall_heur  recall_justext  \\\n",
        "count          132.000000  132.000000   132.000000             132   \n",
        "mean             0.267072    0.705435     0.705435               0   \n",
        "std              0.409156    0.306528     0.306528               0   \n",
        "min              0.000000    0.001149     0.001149               0   \n",
        "2%               0.000000    0.105401     0.105401               0   \n",
        "5%               0.000000    0.149981     0.149981               0   \n",
        "10%              0.001947    0.262858     0.262858               0   \n",
        "50%              0.032734    0.857627     0.857627               0   \n",
        "max              1.000000    1.000000     1.000000               0   \n",
        "\n",
        "       recall_py_goose  recall_python_readibilty  \n",
        "count       132.000000                132.000000  \n",
        "mean          0.847104                  0.946683  \n",
        "std           0.200222                  0.140679  \n",
        "min           0.000000                  0.017037  \n",
        "2%            0.270000                  0.498919  \n",
        "5%            0.413194                  0.842260  \n",
        "10%           0.666667                  0.904014  \n",
        "50%           0.870833                  0.980456  \n",
        "max           1.000000                  1.000000  \n",
        "       f1_boiler_pipe      f1_crf     f1_heur  f1_justext  f1_py_goose  \\\n",
        "count      132.000000  132.000000  132.000000         132   132.000000   \n",
        "mean         0.264332    0.711611    0.711611           0     0.110514   \n",
        "std          0.396163    0.245277    0.245277           0     0.109340   \n",
        "min          0.000000    0.001987    0.001987           0     0.000000   \n",
        "2%           0.000000    0.137740    0.137740           0     0.001302   \n",
        "5%           0.000000    0.232203    0.232203           0     0.004549   \n",
        "10%          0.002055    0.382348    0.382348           0     0.012888   \n",
        "50%          0.040569    0.772415    0.772415           0     0.098124   \n",
        "max          1.000000    0.995342    0.995342           0     0.987013   \n",
        "\n",
        "       f1_python_readibilty  \n",
        "count            132.000000  \n",
        "mean               0.899789  \n",
        "std                0.184928  \n",
        "min                0.024638  \n",
        "2%                 0.098648  \n",
        "5%                 0.778182  \n",
        "10%                0.843508  \n",
        "50%                0.944767  \n",
        "max                0.999427  "
       ]
      },
      {
       "output_type": "stream",
       "stream": "stdout",
       "text": [
        "\n",
        "brazil\n",
        "       precision_boiler_pipe  precision_crf  precision_heur  \\\n",
        "count              70.000000      70.000000       70.000000   \n",
        "mean                0.833561       0.898652        0.898652   \n",
        "std                 0.228085       0.213232        0.213232   \n",
        "min                 0.022727       0.011364        0.011364   \n",
        "2%                  0.034799       0.061299        0.061299   \n",
        "5%                  0.201927       0.390240        0.390240   \n",
        "10%                 0.699150       0.858527        0.858527   \n",
        "50%                 0.859181       0.954997        0.954997   \n",
        "max                 1.000000       1.000000        1.000000   \n",
        "\n",
        "       precision_justext  precision_py_goose  precision_python_readibilty  \n",
        "count          70.000000           70.000000                    70.000000  \n",
        "mean            0.000294            0.603217                     0.932444  \n",
        "std             0.002456            0.375254                     0.196832  \n",
        "min             0.000000            0.000000                     0.011364  \n",
        "2%              0.000000            0.006667                     0.026306  \n",
        "5%              0.000000            0.016551                     0.836992  \n",
        "10%             0.000000            0.046877                     0.911732  \n",
        "50%             0.000000            0.687500                     0.984815  \n",
        "max             0.020548            1.000000                     1.000000  \n",
        "       recall_boiler_pipe  recall_crf  recall_heur  recall_justext  \\\n",
        "count           70.000000   70.000000    70.000000       70.000000   \n",
        "mean             0.739793    0.765367     0.765367        0.001863   \n",
        "std              0.225163    0.270966     0.270966        0.015590   \n",
        "min              0.013825    0.012359     0.012359        0.000000   \n",
        "2%               0.026927    0.023442     0.023442        0.000000   \n",
        "5%               0.201344    0.102876     0.102876        0.000000   \n",
        "10%              0.538980    0.380226     0.380226        0.000000   \n",
        "50%              0.779800    0.877706     0.877706        0.000000   \n",
        "max              0.997326    1.000000     1.000000        0.130435   \n",
        "\n",
        "       recall_py_goose  recall_python_readibilty  \n",
        "count        70.000000                 70.000000  \n",
        "mean          0.912707                  0.934903  \n",
        "std           0.235310                  0.194935  \n",
        "min           0.000000                  0.014151  \n",
        "2%            0.065373                  0.053897  \n",
        "5%            0.234923                  0.772603  \n",
        "10%           0.726070                  0.900036  \n",
        "50%           1.000000                  0.992363  \n",
        "max           1.000000                  1.000000  \n",
        "       f1_boiler_pipe     f1_crf    f1_heur  f1_justext  f1_py_goose  \\\n",
        "count       70.000000  70.000000  70.000000   70.000000    70.000000   \n",
        "mean         0.776396   0.809686   0.809686    0.000507     0.663376   \n",
        "std          0.222012   0.242158   0.242158    0.004243     0.352166   \n",
        "min          0.021352   0.017513   0.017513    0.000000     0.000000   \n",
        "2%           0.029188   0.021616   0.021616    0.000000     0.012329   \n",
        "5%           0.238741   0.167798   0.167798    0.000000     0.029381   \n",
        "10%          0.563005   0.544981   0.544981    0.000000     0.089437   \n",
        "50%          0.814688   0.900178   0.900178    0.000000     0.810567   \n",
        "max          0.991304   0.991525   0.991525    0.035503     1.000000   \n",
        "\n",
        "       f1_python_readibilty  \n",
        "count             70.000000  \n",
        "mean               0.932020  \n",
        "std                0.196622  \n",
        "min                0.017857  \n",
        "2%                 0.020914  \n",
        "5%                 0.863538  \n",
        "10%                0.917642  \n",
        "50%                0.982757  \n",
        "max                1.000000  \n",
        "arabic\n",
        "       precision_boiler_pipe  precision_crf  precision_heur  \\\n",
        "count             116.000000     116.000000      116.000000   \n",
        "mean                0.553833       0.794679        0.794679   \n",
        "std                 0.432691       0.263774        0.263774   \n",
        "min                 0.000000       0.000000        0.000000   \n",
        "2%                  0.000000       0.000000        0.000000   \n",
        "5%                  0.016519       0.029503        0.029503   \n",
        "10%                 0.030067       0.447767        0.447767   \n",
        "50%                 0.789334       0.892572        0.892572   \n",
        "max                 1.000000       1.000000        1.000000   \n",
        "\n",
        "       precision_justext  precision_py_goose  precision_python_readibilty  \n",
        "count         116.000000          116.000000                   116.000000  \n",
        "mean            0.040876            0.095919                     0.829063  \n",
        "std             0.189950            0.167383                     0.256487  \n",
        "min             0.000000            0.000000                     0.009804  \n",
        "2%              0.000000            0.000000                     0.041437  \n",
        "5%              0.000000            0.000000                     0.093281  \n",
        "10%             0.000000            0.008738                     0.497461  \n",
        "50%             0.000000            0.058512                     0.921777  \n",
        "max             0.980072            1.000000                     1.000000  "
       ]
      },
      {
       "output_type": "stream",
       "stream": "stdout",
       "text": [
        "\n",
        "       recall_boiler_pipe  recall_crf  recall_heur  recall_justext  \\\n",
        "count          116.000000  116.000000   116.000000      116.000000   \n",
        "mean             0.550629    0.734430     0.734430        0.045484   \n",
        "std              0.431265    0.315693     0.315693        0.203607   \n",
        "min              0.000000    0.000000     0.000000        0.000000   \n",
        "2%               0.000000    0.000000     0.000000        0.000000   \n",
        "5%               0.006898    0.002635     0.002635        0.000000   \n",
        "10%              0.023077    0.296724     0.296724        0.000000   \n",
        "50%              0.798906    0.865946     0.865946        0.000000   \n",
        "max              1.000000    1.000000     1.000000        1.000000   \n",
        "\n",
        "       recall_py_goose  recall_python_readibilty  \n",
        "count       116.000000                116.000000  \n",
        "mean          0.889145                  0.930022  \n",
        "std           0.268818                  0.138267  \n",
        "min           0.000000                  0.241379  \n",
        "2%            0.000000                  0.411402  \n",
        "5%            0.000000                  0.663462  \n",
        "10%           0.738636                  0.856800  \n",
        "50%           1.000000                  0.981424  \n",
        "max           1.000000                  1.000000  \n",
        "       f1_boiler_pipe      f1_crf     f1_heur  f1_justext  f1_py_goose  \\\n",
        "count      116.000000  116.000000  116.000000  116.000000   116.000000   \n",
        "mean         0.542705    0.736237    0.736237    0.039088     0.147899   \n",
        "std          0.423985    0.280749    0.280749    0.183123     0.172753   \n",
        "min          0.000000    0.000000    0.000000    0.000000     0.000000   \n",
        "2%           0.000000    0.000000    0.000000    0.000000     0.000000   \n",
        "5%           0.010566    0.004704    0.004704    0.000000     0.000000   \n",
        "10%          0.024171    0.346209    0.346209    0.000000     0.016108   \n",
        "50%          0.787115    0.852425    0.852425    0.000000     0.109844   \n",
        "max          1.000000    1.000000    1.000000    0.986961     1.000000   \n",
        "\n",
        "       f1_python_readibilty  \n",
        "count            116.000000  \n",
        "mean               0.844351  \n",
        "std                0.236843  \n",
        "min                0.018868  \n",
        "2%                 0.079359  \n",
        "5%                 0.170588  \n",
        "10%                0.546222  \n",
        "50%                0.933921  \n",
        "max                1.000000  \n"
       ]
      }
     ],
     "prompt_number": 59
    },
    {
     "cell_type": "code",
     "collapsed": false,
     "input": [
      "df.keys()\n",
      "cols = [ column for column in df.columns if column.startswith('f1recall_' ) and not column.endswith('_dedup')]\n",
      "\n",
      "df.sort( ['f1_python_readibilty'], ascending=[1] ).loc[:, cols ].head( 10 )\n",
      "#comps_downloads[ 0] "
     ],
     "language": "python",
     "metadata": {},
     "outputs": [
      {
       "html": [
        "<div style=\"max-height:1000px;max-width:1500px;overflow:auto;\">\n",
        "<table border=\"1\" class=\"dataframe\">\n",
        "  <thead>\n",
        "    <tr style=\"text-align: right;\">\n",
        "      <th></th>\n",
        "    </tr>\n",
        "    <tr>\n",
        "      <th>downloads_id</th>\n",
        "    </tr>\n",
        "  </thead>\n",
        "  <tbody>\n",
        "    <tr>\n",
        "      <th>453272806</th>\n",
        "    </tr>\n",
        "    <tr>\n",
        "      <th>518917973</th>\n",
        "    </tr>\n",
        "    <tr>\n",
        "      <th>570126417</th>\n",
        "    </tr>\n",
        "    <tr>\n",
        "      <th>569458361</th>\n",
        "    </tr>\n",
        "    <tr>\n",
        "      <th>485772601</th>\n",
        "    </tr>\n",
        "    <tr>\n",
        "      <th>491394627</th>\n",
        "    </tr>\n",
        "    <tr>\n",
        "      <th>517393170</th>\n",
        "    </tr>\n",
        "    <tr>\n",
        "      <th>485289153</th>\n",
        "    </tr>\n",
        "    <tr>\n",
        "      <th>515980414</th>\n",
        "    </tr>\n",
        "    <tr>\n",
        "      <th>499288413</th>\n",
        "    </tr>\n",
        "  </tbody>\n",
        "</table>\n",
        "</div>"
       ],
       "metadata": {},
       "output_type": "pyout",
       "prompt_number": 60,
       "text": [
        "Empty DataFrame\n",
        "Columns: []\n",
        "Index: [453272806, 518917973, 570126417, 569458361, 485772601, 491394627, 517393170, 485289153, 515980414, 499288413]"
       ]
      }
     ],
     "prompt_number": 60
    },
    {
     "cell_type": "code",
     "collapsed": false,
     "input": [
      "[ cd for cd in comps_downloads if cd[ 'downloads_id' ] == 590441662  ]\n",
      "\n",
      "eto = [ extractor_training_object for extractor_training_object in extractor_training_objects  if extractor_training_object['downloads_id' ] == 590441662 ][0]\n",
      "\n",
      "print eto[ 'story']['url']\n",
      "print \"The problem is that this page has 2 articles on it. Readability zeros in on the second one instead of the first one\""
     ],
     "language": "python",
     "metadata": {},
     "outputs": [
      {
       "output_type": "stream",
       "stream": "stdout",
       "text": [
        "http://www.foreignpolicy.com/articles/2014/10/30/middle_east_meltdown_islamic_state_isis\n",
        "The problem is that this page has 2 articles on it. Readability zeros in on the second one instead of the first one\n"
       ]
      }
     ],
     "prompt_number": 61
    },
    {
     "cell_type": "code",
     "collapsed": false,
     "input": [
      "eto = [ extractor_training_object for extractor_training_object in extractor_training_objects  if extractor_training_object['downloads_id' ] == 420599387][0]\n",
      "\n",
      "print eto[ 'story']['url']\n",
      "#print eto.keys()\n",
      "print eto['expected_lines']\n",
      "extract_with_python_readability( eto['raw_content'] )"
     ],
     "language": "python",
     "metadata": {},
     "outputs": [
      {
       "ename": "KeyError",
       "evalue": "'expected_lines'",
       "output_type": "pyerr",
       "traceback": [
        "\u001b[1;31m---------------------------------------------------------------------------\u001b[0m\n\u001b[1;31mKeyError\u001b[0m                                  Traceback (most recent call last)",
        "\u001b[1;32m<ipython-input-62-fcb71effb368>\u001b[0m in \u001b[0;36m<module>\u001b[1;34m()\u001b[0m\n\u001b[0;32m      3\u001b[0m \u001b[1;32mprint\u001b[0m \u001b[0meto\u001b[0m\u001b[1;33m[\u001b[0m \u001b[1;34m'story'\u001b[0m\u001b[1;33m]\u001b[0m\u001b[1;33m[\u001b[0m\u001b[1;34m'url'\u001b[0m\u001b[1;33m]\u001b[0m\u001b[1;33m\u001b[0m\u001b[0m\n\u001b[0;32m      4\u001b[0m \u001b[1;31m#print eto.keys()\u001b[0m\u001b[1;33m\u001b[0m\u001b[1;33m\u001b[0m\u001b[0m\n\u001b[1;32m----> 5\u001b[1;33m \u001b[1;32mprint\u001b[0m \u001b[0meto\u001b[0m\u001b[1;33m[\u001b[0m\u001b[1;34m'expected_lines'\u001b[0m\u001b[1;33m]\u001b[0m\u001b[1;33m\u001b[0m\u001b[0m\n\u001b[0m\u001b[0;32m      6\u001b[0m \u001b[0mextract_with_python_readability\u001b[0m\u001b[1;33m(\u001b[0m \u001b[0meto\u001b[0m\u001b[1;33m[\u001b[0m\u001b[1;34m'raw_content'\u001b[0m\u001b[1;33m]\u001b[0m \u001b[1;33m)\u001b[0m\u001b[1;33m\u001b[0m\u001b[0m\n",
        "\u001b[1;31mKeyError\u001b[0m: 'expected_lines'"
       ]
      },
      {
       "output_type": "stream",
       "stream": "stdout",
       "text": [
        "http://www.radioevangelho.com.br/portal/norte/amazonas/2014/01/25/shoppings-de-manaus-aumentam-seguranca-para-evitar-rolezinhos.html\n"
       ]
      }
     ],
     "prompt_number": 62
    }
   ],
   "metadata": {}
  }
 ]
}