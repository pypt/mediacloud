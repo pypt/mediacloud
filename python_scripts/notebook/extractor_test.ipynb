{
 "metadata": {
  "name": "",
  "signature": "sha256:36251f9ed62793bb6a9235c94ba308e80fc18929f8acdae9fae37355d9f7553a"
 },
 "nbformat": 3,
 "nbformat_minor": 0,
 "worksheets": [
  {
   "cells": [
    {
     "cell_type": "heading",
     "level": 1,
     "metadata": {},
     "source": [
      "Extractor evaluation"
     ]
    },
    {
     "cell_type": "markdown",
     "metadata": {},
     "source": [
      "This notebook evaluates both Media Cloud's internal extractors and third party FLOSS extractor libraries across a corpus of hand annotated articles.\n",
      "\n",
      "Readers may wish to skip to the results section at the end."
     ]
    },
    {
     "cell_type": "heading",
     "level": 2,
     "metadata": {},
     "source": [
      "Set up / Methods"
     ]
    },
    {
     "cell_type": "code",
     "collapsed": false,
     "input": [
      "import cPickle\n",
      "import os.path\n",
      "\n",
      "api_key = cPickle.load( file( os.path.expanduser( '~/mediacloud_api_key.pickle' ), 'r' ) )"
     ],
     "language": "python",
     "metadata": {},
     "outputs": [],
     "prompt_number": 1
    },
    {
     "cell_type": "code",
     "collapsed": false,
     "input": [
      "import cPickle\n",
      "import os.path\n",
      "\n",
      "cPickle.dump( api_key, file( os.path.expanduser( '~/mediacloud_api_key.pickle' ), 'wb' ) )"
     ],
     "language": "python",
     "metadata": {},
     "outputs": [],
     "prompt_number": 2
    },
    {
     "cell_type": "code",
     "collapsed": false,
     "input": [
      "import sys\n",
      "sys.path.append('../../foreign_modules/python/')"
     ],
     "language": "python",
     "metadata": {},
     "outputs": [],
     "prompt_number": 3
    },
    {
     "cell_type": "code",
     "collapsed": false,
     "input": [
      "loc_key = 'f66a50230d54afaf18822808aed649f1d6ca72b08fb06d5efb6247afe9fbae52'"
     ],
     "language": "python",
     "metadata": {},
     "outputs": [],
     "prompt_number": 4
    },
    {
     "cell_type": "code",
     "collapsed": false,
     "input": [
      "import mediacloud, requests, csv, sys, os, json, cPickle\n",
      "\n",
      "def get_download( downloads_id ):\n",
      "    download = requests.get('https://api.mediacloud.org/api/v2/downloads/single/'+str(downloads_id)+'?key='+api_key)\n",
      "    return download.json()[0]\n",
      "\n",
      "def extract_story( preprocessed_lines, title, description, extractor_method ):\n",
      "    extract_params = {'key':loc_key, 'preprocessed_lines':preprocessed_lines, \n",
      "                           'story_title':title, 'story_description':description, 'extractor_method': extractor_method}\n",
      "    \n",
      "    extract_result = requests.put('http://0:3000/api/v2/extractlines/extract',data=json.dumps(extract_params), \n",
      "                                headers = {'Content-type': 'application/json'})\n",
      "    \n",
      "    extract_result.raise_for_status()\n",
      "    return extract_result.json()\n",
      "\n",
      "def get_story_lines( raw_content ):\n",
      "    story_lines_params = {'key':loc_key, 'body_html':raw_content }\n",
      "    headers = {'Content-type': 'application/json'}\n",
      "    story_lines = requests.put('http://0:3000/api/v2/extractlines/story_lines',data=json.dumps(story_lines_params), \n",
      "                               params={ 'key': loc_key },headers=headers)\n",
      "    \n",
      "    story_lines.raise_for_status()\n",
      "    \n",
      "    return story_lines"
     ],
     "language": "python",
     "metadata": {},
     "outputs": [],
     "prompt_number": 5
    },
    {
     "cell_type": "code",
     "collapsed": false,
     "input": [
      "import subprocess\n",
      "import tempfile\n",
      "import codecs\n",
      "import time\n",
      "from lxml import html\n",
      "\n",
      "#download = get_download( downloads_id )\n",
      "#raw_content = download[u'raw_content']\n",
      "\n",
      "def extract_with_boilerpipe( raw_content ):\n",
      "    with tempfile.NamedTemporaryFile( suffix='.html', delete=False ) as t:\n",
      "        #print t.name\n",
      "    \n",
      "        UTF8Writer = codecs.getwriter('utf8')\n",
      "        t.file = UTF8Writer(t.file)\n",
      "        t.file.write( raw_content )\n",
      "    \n",
      "        t.close()\n",
      "        #time.sleep( 2 )\n",
      "        #print \"original article tmp file \", t.name\n",
      "        \n",
      "        #input_file = '/tmp/416655019.htm'\n",
      "        input_file = t.name\n",
      "        \n",
      "        output_tmp = tempfile.NamedTemporaryFile( suffix='.html', delete=False )\n",
      "        \n",
      "        output_file = output_tmp.name\n",
      "        #output_file = '/tmp/highlighted.html'\n",
      "        #print output_file\n",
      "        \n",
      "        subprocess.check_output(['java', '-jar',\n",
      "                               '/home/dlarochelle/dev_scratch/boilerpipe_test/out/artifacts/boilerpipe_test_jar/boilerpipe_test.jar',\n",
      "                               input_file, output_file ] )\n",
      "        f = open( output_file, 'rb' )\n",
      "        \n",
      "        annotated_file_str = f.read()\n",
      "        \n",
      "        #t.unlink( t.name )\n",
      "        output_tmp.close()\n",
      "        #output_tmp.unlink( output_tmp.name )\n",
      "\n",
      "    tree = html.fromstring( annotated_file_str )   \n",
      "    spans = tree.xpath('//span[@class=\"x-boilerpipe-mark1\"]')\n",
      "    boiler_pipe_lines = [ etree.tostring(s) for s in spans ]\n",
      "\n",
      "    ret = { 'extracted_html': \"\\n\\n\".join(boiler_pipe_lines) }\n",
      "    return ret\n",
      "\n"
     ],
     "language": "python",
     "metadata": {},
     "outputs": [],
     "prompt_number": 6
    },
    {
     "cell_type": "code",
     "collapsed": false,
     "input": [
      "#f = open( '/tmp/tmp01CV6F.html' )\n",
      "#annotated_file_str = f.read()\n",
      "#tree = html.fromstring( annotated_file_str )   \n",
      "#spans = tree.xpath('//span[@class=\"x-boilerpipe-mark1\"]')\n",
      "#span = spans[0]\n",
      "#etree.tostring( span )"
     ],
     "language": "python",
     "metadata": {},
     "outputs": [],
     "prompt_number": 7
    },
    {
     "cell_type": "code",
     "collapsed": false,
     "input": [
      "import readability\n",
      "\n",
      "def extract_with_python_readability( raw_content ):\n",
      "    doc = readability.Document( raw_content )\n",
      "    \n",
      "    return doc.short_title() + \"\\n\\n\" + doc.summary()"
     ],
     "language": "python",
     "metadata": {},
     "outputs": [],
     "prompt_number": 8
    },
    {
     "cell_type": "code",
     "collapsed": true,
     "input": [
      "import goose\n",
      "\n",
      "def extract_with_python_goose( raw_content ):\n",
      "    g = goose.Goose()\n",
      "    \n",
      "    r = g.extract( raw_html=raw_content )\n",
      "    return r.title + \"\\n\\n\" +  r.cleaned_text"
     ],
     "language": "python",
     "metadata": {},
     "outputs": [],
     "prompt_number": 9
    },
    {
     "cell_type": "code",
     "collapsed": false,
     "input": [
      "import justext\n",
      "\n",
      "def extract_with_justext( raw_content ):\n",
      "    ret = []\n",
      "    \n",
      "    paragraphs = justext.justext( raw_content, justext.get_stoplist('English') )\n",
      "    \n",
      "    #p = paragraphs[0]\n",
      "    for p in paragraphs:\n",
      "        if not p.is_boilerplate:\n",
      "            ret.append(p.text)\n",
      "            \n",
      "    return \"\\n\\n\".join(ret)\n",
      "\n",
      "#extract_with_justext( raw_content )\n",
      "#raw_html\n",
      "\n",
      "#justext.get_stoplists()"
     ],
     "language": "python",
     "metadata": {},
     "outputs": [],
     "prompt_number": 10
    },
    {
     "cell_type": "code",
     "collapsed": false,
     "input": [
      "import operator\n",
      "\n",
      "def get_extractor_training_text( downloads_id, preprocessed_lines ):\n",
      "    extractor_training_lines_result = requests.get(\n",
      "                                                   'https://api.mediacloud.org/api/v2/extractlines/extractor_training_lines/' + str(downloads_id),\n",
      "                                               headers = {'Content-type': 'application/json'}\n",
      "                                               , params= {'key': api_key}\n",
      "                                               )\n",
      "\n",
      "    extractor_training_lines_result.raise_for_status()\n",
      "\n",
      "    extractor_training_lines_result = extractor_training_lines_result.json()\n",
      "    \n",
      "    line_numbers = [ x['line_number'] for x in extractor_training_lines_result ]\n",
      "    \n",
      "    line_numbers = sorted(line_numbers)\n",
      "    \n",
      "    line_numbers.sort()\n",
      "    \n",
      "    #print line_numbers\n",
      "    \n",
      "    return operator.itemgetter( * line_numbers )( preprocessed_lines  )\n",
      "\n",
      "import operator\n",
      "\n",
      "def get_extracted_text( extractor_results ):\n",
      "    included_line_numbers = extractor_results['included_line_numbers']\n",
      "    #print included_line_numbers\n",
      "    \n",
      "    dl = extractor_results['download_lines']\n",
      "   \n",
      "    if len( included_line_numbers ) == 0:\n",
      "        return []\n",
      "    else:    \n",
      "        return operator.itemgetter( * extractor_results['included_line_numbers']   )(dl)\n",
      "    \n"
     ],
     "language": "python",
     "metadata": {},
     "outputs": [],
     "prompt_number": 11
    },
    {
     "cell_type": "code",
     "collapsed": false,
     "input": [
      "#import Levenshtein\n",
      "\n",
      "def lines_to_comparable_text( lines ):\n",
      "    text = u\"\\n\\n\".join([ clean_for_comparison(line) for line in lines ])\n",
      "    \n",
      "    if text == '':\n",
      "        text = u''\n",
      "        \n",
      "    return text\n",
      "\n",
      "def html_to_comparable_text( html_text ):\n",
      "    text = clean_for_comparison( html_text )\n",
      "    \n",
      "    if text == '' or text == None:\n",
      "        text = u''\n",
      "        \n",
      "    return text\n",
      "    \n",
      "    \n",
      "#def compare_accuracy( lines, lines_expected ):\n",
      "#    return Levenshtein.distance( lines_to_comparable_text( lines ) , lines_to_comparable_text( lines_expected ) )"
     ],
     "language": "python",
     "metadata": {},
     "outputs": [],
     "prompt_number": 12
    },
    {
     "cell_type": "code",
     "collapsed": false,
     "input": [
      "def get_anncestors( element ):\n",
      "    anncestors = [ element ];\n",
      "    anncestor = element.getparent()\n",
      "    \n",
      "    while anncestor != None :\n",
      "        #print 'loop'\n",
      "        anncestors.append( anncestor )\n",
      "        anncestor = anncestor.getparent()\n",
      "        \n",
      "    return anncestors"
     ],
     "language": "python",
     "metadata": {},
     "outputs": [],
     "prompt_number": 13
    },
    {
     "cell_type": "code",
     "collapsed": false,
     "input": [
      "def text_from_lxml_object( obj):\n",
      "    if type(obj) is etree._ElementStringResult:\n",
      "        return u'' + obj\n",
      "    if type(obj) ==  etree._ElementUnicodeResult:\n",
      "        return u'' + obj \n",
      "    else:\n",
      "        try:\n",
      "            return etree.tostring( obj , method='text', encoding=\"UTF-8\") \n",
      "        except:\n",
      "            print type(obj)\n",
      "            print obj\n",
      "            \n",
      "            raise ''"
     ],
     "language": "python",
     "metadata": {},
     "outputs": [],
     "prompt_number": 14
    },
    {
     "cell_type": "code",
     "collapsed": false,
     "input": [
      "from lxml import etree\n",
      "\n",
      "downloads_id =  582817308 \n",
      "download = get_download( downloads_id )\n",
      "raw_content = download[ 'raw_content' ]\n",
      "with open( '/tmp/' + str(downloads_id) , 'wb' ) as f:\n",
      "    f.write( raw_content )\n"
     ],
     "language": "python",
     "metadata": {},
     "outputs": [],
     "prompt_number": 15
    },
    {
     "cell_type": "code",
     "collapsed": false,
     "input": [
      "from nltk import tokenize\n",
      "\n",
      "def remove_duplicate_sentences( article_html, story ):\n",
      "    #sentences_from_html\n",
      "    extract_params = {'key':loc_key, 'story_html': article_html }\n",
      "    \n",
      "    extract_result = requests.put('http://0:3000/api/v2/extractlines/sentences_from_html',data=json.dumps(extract_params), \n",
      "                                headers = {'Content-type': 'application/json'})\n",
      "    \n",
      "    #print \"article_html:\\n\", article_html\n",
      "    \n",
      "    extract_result.raise_for_status()\n",
      "    sentences = extract_result.json()\n",
      "    \n",
      "    #print \"sentences\", sentences\n",
      "    \n",
      "    #comp_text = lines_to_comparable_text( text_lines )\n",
      "    #sentences = [ sent.strip()  for sent in tokenize.sent_tokenize( comp_text ) ]\n",
      "    #print sentences\n",
      "    non_duplicate_sentences = [sentence for sentence in sentences if not sentence_is_duplicate( sentence, story ) ] \n",
      "    return u\"\\n\".join( non_duplicate_sentences )\n",
      " "
     ],
     "language": "python",
     "metadata": {},
     "outputs": [],
     "prompt_number": 16
    },
    {
     "cell_type": "code",
     "collapsed": false,
     "input": [
      "def text_children( element):\n",
      "    ret =  [ t for t in element.xpath(\"//text()\" ) if t.getparent() == element ]\n",
      "    assert len( ret ) <= 2\n",
      "    \n",
      "    if len( ret ) == 2:\n",
      "        assert ret[0].is_text\n",
      "        assert ret[1].is_tail\n",
      "    \n",
      "    for r in ret:\n",
      "        if r.is_text:\n",
      "            assert element.text == r\n",
      "        else:\n",
      "            assert r.is_tail\n",
      "            assert element.tail == r\n",
      "            \n",
      "    return ret"
     ],
     "language": "python",
     "metadata": {},
     "outputs": [],
     "prompt_number": 17
    },
    {
     "cell_type": "code",
     "collapsed": false,
     "input": [
      "def html_strip( str ):\n",
      "    if str.isspace() or str == '':\n",
      "        return u' '\n",
      "    \n",
      "    if str == '<':\n",
      "        return u' '        \n",
      "    \n",
      "    try:\n",
      "        return html.fromstring(str).text_content()    \n",
      "    except:\n",
      "        print \"Unexpected error on string '\" + str + \"'\" , sys.exc_info()[0]\n",
      "        #raise\n",
      "        return u''       \n",
      "\n",
      "def clean_for_comparison( str ):\n",
      "    if len(str) > 0:\n",
      "        ret = html_strip( str )\n",
      "    else:\n",
      "        return str\n",
      "    \n",
      "    return ret    "
     ],
     "language": "python",
     "metadata": {},
     "outputs": [],
     "prompt_number": 18
    },
    {
     "cell_type": "code",
     "collapsed": false,
     "input": [
      "def extract_with_mc_extractor( eto, method ):\n",
      "    story = eto['story']\n",
      "    preprocessed_lines = eto['preprocessed_lines']\n",
      "    title = story[u'title']\n",
      "    description = story[u'description']\n",
      "    \n",
      "    extract_result = extract_story( preprocessed_lines, title, description, 'HeuristicExtractor')\n",
      "    #html_lines = get_extracted_text( extract_result )\n",
      "    \n",
      "    ret = {}\n",
      "    \n",
      "    ret['extracted_html'] = extract_result[ 'extracted_html' ]\n",
      "    \n",
      "    return ret\n",
      "\n",
      "def extract_with_heur( eto ):\n",
      "    return extract_with_mc_extractor( eto, 'HeuristicExtractor' )\n",
      "\n",
      "def extract_with_crf( eto ):\n",
      "    return extract_with_mc_extractor( eto, 'CrfExtractor' )"
     ],
     "language": "python",
     "metadata": {},
     "outputs": [],
     "prompt_number": 19
    },
    {
     "cell_type": "code",
     "collapsed": false,
     "input": [
      "import difflib\n",
      "from IPython.display import HTML\n",
      "\n",
      "from collections import Counter\n",
      "\n",
      "def ratcliff_obershelp_compare( actual_text, expected_text ):\n",
      "    \n",
      "    words_expected = expected_text.split()\n",
      "    words_crf      = actual_text.split()\n",
      "    \n",
      "    differ = difflib.Differ( )\n",
      "    \n",
      "    #print words_crf[:10]\n",
      "    #print words_expected[:10]\n",
      "    list( differ.compare( words_crf , words_expected ) )\n",
      "    counts = Counter([ d[0] for d in differ.compare( words_expected, words_crf   ) ])\n",
      "    \n",
      "    tp = counts[' ']\n",
      "    fp = counts['+']\n",
      "    fn = counts['-']\n",
      "    \n",
      "    if float(tp+fp) == 0:\n",
      "        precision = 0.0\n",
      "    else:\n",
      "        precision = tp/float(tp+fp)\n",
      "        \n",
      "    if float( tp + fn ) == 0:\n",
      "        recall = 0\n",
      "    else:\n",
      "        recall    = tp/float( tp + fn )\n",
      "    \n",
      "    if ( precision + recall ) > 0:\n",
      "        f1 = 2*(precision*recall)/( precision + recall )\n",
      "    else:\n",
      "        f1 = 0\n",
      "    \n",
      "    ret = { 'precision': precision,\n",
      "        'recall': recall,\n",
      "        'f1': f1\n",
      "    }\n",
      "    \n",
      "    return ret\n",
      "\n",
      "def compare_with_expected( extractor_name, actual_text, actual_html, expected_text, story ):\n",
      "    #actual_text = lines_to_comparable_text( actual_lines )\n",
      "    #expected_text = lines_to_comparable_text( expected_lines )\n",
      "    ret = {}\n",
      "    ret[ extractor_name ] = ratcliff_obershelp_compare( actual_text, expected_text )\n",
      "    \n",
      "    dedup_text = remove_duplicate_sentences( actual_html, story )\n",
      "    \n",
      "    ret[ extractor_name + \"_dedup\" ] = ratcliff_obershelp_compare( dedup_text, expected_text )\n",
      "    \n",
      "    return ret"
     ],
     "language": "python",
     "metadata": {},
     "outputs": [],
     "prompt_number": 20
    },
    {
     "cell_type": "code",
     "collapsed": false,
     "input": [
      "ratcliff_obershelp_compare( actual_text='foo', expected_text='bar foo baz BAST')"
     ],
     "language": "python",
     "metadata": {},
     "outputs": [
      {
       "metadata": {},
       "output_type": "pyout",
       "prompt_number": 21,
       "text": [
        "{'f1': 0.4, 'precision': 1.0, 'recall': 0.25}"
       ]
      }
     ],
     "prompt_number": 21
    },
    {
     "cell_type": "code",
     "collapsed": false,
     "input": [
      "def get_extraction_results( eto ):\n",
      "\n",
      "    raw_content = eto[ 'raw_content' ]\n",
      "    \n",
      "    ret = {}\n",
      "    \n",
      "    ret['heur'] = extract_with_heur( eto )\n",
      "    ret['crf'] = extract_with_crf( eto )\n",
      "    ret['boiler_pipe'] =   extract_with_boilerpipe( raw_content)\n",
      "    ret['python_readibilty'] = { 'extracted_html': extract_with_python_readability( raw_content ) }\n",
      "    ret['py_goose']  = { 'extracted_html': extract_with_python_goose( raw_content ) }\n",
      "    ret['justext'] =  { 'extracted_html': extract_with_justext( raw_content ) }\n",
      "    \n",
      "    for method, result in ret.iteritems():\n",
      "        if 'extracted_text' not in result:\n",
      "            result['extracted_text'] = html_to_comparable_text( result['extracted_html' ] )\n",
      "            \n",
      "    return ret"
     ],
     "language": "python",
     "metadata": {},
     "outputs": [],
     "prompt_number": 22
    },
    {
     "cell_type": "code",
     "collapsed": false,
     "input": [
      "def compare_extractors_for_download( downloads_id ):\n",
      "    \n",
      "    eto = create_extractor_training_object( downloads_id )\n",
      "    \n",
      "    return comp_extractors( eto )    \n",
      "    \n",
      "def comp_extractors( eto ):    \n",
      "    downloads_id = eto['downloads_id']\n",
      "    media_id     = eto['media_id' ]\n",
      "    story = eto['story']\n",
      "    raw_content = eto['raw_content']\n",
      "    preprocessed_lines = eto['preprocessed_lines']\n",
      "    expected_text = eto['expected_text']\n",
      "        \n",
      "    title = story[u'title']\n",
      "    description = story[u'description']\n",
      "    url = story[u'url']\n",
      "    \n",
      "    extraction_results = get_extraction_results( eto )\n",
      "    \n",
      "    comp_results = {}\n",
      "        \n",
      "    comp_results['downloads_id'] = downloads_id\n",
      "    \n",
      "    comp_results['media_id']  = media_id\n",
      "    \n",
      "    comp_results['story_is_spidered'] = eto['story_is_spidered']\n",
      "    \n",
      "    for name, value in extraction_results.iteritems():\n",
      "        #print name, value\n",
      "        comp_results.update (compare_with_expected( name, value['extracted_text'], value['extracted_html'], expected_text, story ) )\n",
      "    \n",
      "    comp_results.update( compare_with_expected( 'gold', expected_text, expected_text, expected_text, story ) )\n",
      "    \n",
      "    return comp_results"
     ],
     "language": "python",
     "metadata": {},
     "outputs": [],
     "prompt_number": 23
    },
    {
     "cell_type": "code",
     "collapsed": false,
     "input": [
      "def create_extractor_training_object( downloads_id, expected_text=None ):\n",
      "    download = get_download( downloads_id )\n",
      "    \n",
      "    raw_content = download[u'raw_content']\n",
      "    stories_id = download[u'stories_id']\n",
      "    \n",
      "    #print download['url']\n",
      "    \n",
      "    story = requests.get('https://api.mediacloud.org/api/v2/stories/single/'+str(stories_id)+'?key='+api_key)\n",
      "    \n",
      "    story = story.json()[0]\n",
      "    \n",
      "    story_lines = get_story_lines( raw_content )\n",
      "    #print story_lines.content\n",
      "    preprocessed_lines = story_lines.json()\n",
      "    \n",
      "    if not expected_text:\n",
      "        expected_lines = get_extractor_training_text( downloads_id, preprocessed_lines  )\n",
      "        expected_text  = lines_to_comparable_text( expected_lines )\n",
      "\n",
      "    story_is_spidered_result =  story_is_spidered( story )\n",
      "    \n",
      "    ret = { 'downloads_id': downloads_id,\n",
      "           'raw_content': raw_content,\n",
      "           'media_id': story['media_id'],\n",
      "           'story': story,\n",
      "           'story_is_spidered': story_is_spidered_result,\n",
      "           'preprocessed_lines': preprocessed_lines,\n",
      "           'expected_text': expected_text\n",
      "           }\n",
      "    \n",
      "    return ret"
     ],
     "language": "python",
     "metadata": {},
     "outputs": [],
     "prompt_number": 24
    },
    {
     "cell_type": "code",
     "collapsed": false,
     "input": [
      "import sys\n",
      "\n",
      "sys.path.append('../')\n",
      "\n",
      "import mc_config\n",
      "\n",
      "def get_db_info():\n",
      "    config_file = mc_config.read_config()\n",
      "    \n",
      "    db_infos = config_file['database']\n",
      "    db_info = next (db_info for db_info in db_infos if db_info['port'] == '6000' )\n",
      "    return db_info\n",
      "\n",
      "import psycopg2\n",
      "#import solr_reimport\n",
      "import psycopg2.extras\n",
      "\n",
      "#db_info = get_db_info()\n",
      "\n",
      "#conn = psycopg2.connect( database=db_info['db'], user=db_info['user'], \n",
      "#                        password=db_info['pass'], host=db_info['host'], port=db_info['port'] )\n",
      "\n",
      "conn = None\n",
      "\n",
      "story_sentence_counts_cache = {}\n",
      "\n",
      "def get_sentence_counts( sentence, story ):\n",
      "\n",
      "    stories_id = story['stories_id']\n",
      "    \n",
      "    if not stories_id in story_sentence_counts_cache:\n",
      "        story_sentence_counts_cache[ stories_id ] = {}\n",
      "        \n",
      "    if sentence in story_sentence_counts_cache[ stories_id ]:\n",
      "        return story_sentence_counts_cache[stories_id ][sentence]\n",
      "\n",
      "    global conn \n",
      "    \n",
      "    if conn == None:        \n",
      "        db_info = get_db_info()\n",
      "        \n",
      "        conn = psycopg2.connect( database=db_info['db'], user=db_info['user'], \n",
      "                                password=db_info['pass'], host=db_info['host'], port=db_info['port'] )\n",
      "\n",
      "        \n",
      "    cursor = conn.cursor(cursor_factory=psycopg2.extras.DictCursor)\n",
      "    query = '''               \n",
      "                   SELECT MIN( story_sentence_counts_id) AS story_sentence_counts_id, sentence_count, first_stories_id,\n",
      "                   sentence_md5\n",
      "            FROM story_sentence_counts\n",
      "            WHERE sentence_md5  = md5(%(sentence)s)\n",
      "              AND media_id = %(media_id)s\n",
      "              AND publish_week =  DATE_TRUNC( 'week', %(publish_date)s::date )\n",
      "            GROUP BY story_sentence_counts_id\n",
      "    '''\n",
      "    \n",
      "    #print sentence\n",
      "    #md5_sum = md5.new( sentence ).hexdigest()\n",
      "    \n",
      "    params = { 'sentence': sentence,\n",
      "                            'media_id': story['media_id'], \n",
      "                            'publish_date': story['publish_date']\n",
      "                            } \n",
      "    \n",
      "    #print params\n",
      "    \n",
      "    #print eto[ 'story'] ['stories_id' ]\n",
      "    cursor.execute( query, params )\n",
      "    \n",
      "    fetched = cursor.fetchall()\n",
      "    \n",
      "    if len( fetched ) == 0:\n",
      "        story_sentence_counts_cache[ stories_id ][sentence] = None\n",
      "    else:\n",
      "        story_sentence_counts_cache[ stories_id ][sentence] = dict(fetched[0])\n",
      "        \n",
      "    return story_sentence_counts_cache[stories_id ][sentence]\n",
      "    \n",
      "def sentence_is_duplicate( sentence, story ):\n",
      "    sentence_counts = get_sentence_counts( sentence, story )\n",
      "    \n",
      "    if sentence_counts != None:\n",
      "        if sentence_counts['sentence_count'] > 1:\n",
      "            #print \"duplicate sentence\", sentence\n",
      "            return True\n",
      "        elif sentence_counts['first_stories_id'] == story['stories_id']:\n",
      "            return True\n",
      "            #print \"duplicate sentence (diff first_stories_id) \", sentence\n",
      "            \n",
      "    else:\n",
      "        return False\n",
      "        pass\n",
      "        #print \"sentence not found \", sentence \n",
      "\n",
      "    "
     ],
     "language": "python",
     "metadata": {},
     "outputs": [],
     "prompt_number": 25
    },
    {
     "cell_type": "code",
     "collapsed": false,
     "input": [
      "def get_extractor_training_objects_legacy ( downloads_ids ):\n",
      "    print downloads_ids\n",
      "    extractor_training_objects = []\n",
      "    for downloads_id in downloads_ids[:]:\n",
      "        print 'downloads_id:', downloads_id\n",
      "        extractor_training_objects.append( create_extractor_training_object( downloads_id ) )\n",
      "        \n",
      "    return extractor_training_objects"
     ],
     "language": "python",
     "metadata": {},
     "outputs": [],
     "prompt_number": 26
    },
    {
     "cell_type": "code",
     "collapsed": false,
     "input": [
      "import sqlite3\n",
      "\n",
      "def get_extractor_training_objects_sqlite( db_file ):\n",
      "    \n",
      "    db = sqlite3.connect( db_file )\n",
      "    db.row_factory = sqlite3.Row\n",
      "    \n",
      "    cursor = db.cursor()\n",
      "    \n",
      "    cursor.execute( \"SELECT * from dlannotations  where selected_texts_json is not null order by downloads_id\" )\n",
      "    \n",
      "    extractor_training_objects = []\n",
      "    \n",
      "    skipped_downloads = 0\n",
      "    for row in list( cursor.fetchall() )[:]:\n",
      "        row =  dict([ (k, row[k]) for k in row.keys() ])\n",
      "        \n",
      "        #print row\n",
      "        \n",
      "        row['annotations'] = json.loads( row['annotations_json'] )\n",
      "        row['raw_content'] = u'' + row['raw_content']\n",
      "        row['selected_texts'] = json.loads( row['selected_texts_json'] )\n",
      "    \n",
      "        annotations = row['annotations']\n",
      "        download = get_download( row['downloads_id'] )\n",
      "    \n",
      "        assert row['selected_texts'] != None\n",
      "        assert row['selected_texts'] > 0\n",
      "        \n",
      "        eto = create_extractor_training_object( row['downloads_id'], expected_text=u\"\\n\".join(row['selected_texts']) )\n",
      "               \n",
      "        if eto['raw_content'] != row['raw_content']:\n",
      "            #TODO figure out why these may differ\n",
      "            pass\n",
      "        \n",
      "            #d = difflib.Differ()\n",
      "            #diff = d.compare(eto['raw_content'].splitlines(1), row['raw_content'].splitlines(1))\n",
      "            #print '\\n'.join(diff)\n",
      "        \n",
      "        extractor_training_objects.append( eto )\n",
      "    \n",
      "    \n",
      "    print \"skipped\", skipped_downloads\n",
      "    print \"processed\", len(extractor_training_objects)\n",
      "    \n",
      "    return extractor_training_objects"
     ],
     "language": "python",
     "metadata": {},
     "outputs": [],
     "prompt_number": 27
    },
    {
     "cell_type": "code",
     "collapsed": false,
     "input": [
      "import pandas as pd\n",
      "\n",
      "def get_data_frame_from_comparision_objects( comparison_objects ):\n",
      "    \n",
      "    new_comps = []\n",
      "    for comp in comparison_objects:\n",
      "        \n",
      "        new_comp = {}\n",
      "        new_comp = { 'downloads_id': comp['downloads_id'] }\n",
      "        \n",
      "        extractor_types = [ k for k in comp.keys() if k not in { 'downloads_id', 'media_id', 'story_is_spidered' }  ]\n",
      "        \n",
      "        for extractor_type in extractor_types:\n",
      "            new_comp.update([ ( k + '_' + extractor_type , v) for k,v in comp[ extractor_type ].iteritems() ])\n",
      "            \n",
      "        new_comps.append( new_comp )\n",
      "        \n",
      "    df = pd.DataFrame( new_comps )\n",
      "    df.set_index('downloads_id', inplace=True )\n",
      "    return df\n"
     ],
     "language": "python",
     "metadata": {},
     "outputs": [],
     "prompt_number": 28
    },
    {
     "cell_type": "code",
     "collapsed": false,
     "input": [
      "import boilerpipe.extract\n",
      "\n",
      "def extract_with_py_boilerpipe( raw_content ):\n",
      "    e = boilerpipe.extract.Extractor( extractor='ArticleExtractor', html=raw_content )\n",
      "    html = e.getHTML()\n",
      "\n",
      "    ret = { 'extracted_html': html }\n",
      "    return ret\n",
      "\n"
     ],
     "language": "python",
     "metadata": {},
     "outputs": [],
     "prompt_number": 29
    },
    {
     "cell_type": "code",
     "collapsed": false,
     "input": [
      "def print_results_by_measurement_type( df ):\n",
      "    df.describe(percentiles=[.5] )\n",
      "    result_types = [ 'precision', 'recall', 'f1' ]\n",
      "    for result_type in result_types:\n",
      "        res_columns = [ col for col in df.columns if col.startswith( result_type ) ]\n",
      "        #df.ix[:,['f1_boiler_pipe',\t'f1_crf',\t'f1_heur', 'f1_python_readibilty']].describe()\n",
      "        print df.ix[:,res_columns].describe( percentiles=[0.02, 0.05,.1,0.5])"
     ],
     "language": "python",
     "metadata": {},
     "outputs": [],
     "prompt_number": 30
    },
    {
     "cell_type": "code",
     "collapsed": false,
     "input": [
      "def filter_by_media_tags_id( comps_downloads, media_tags_ids ):\n",
      "    media_ids_matching = set()\n",
      "    #print media_id_media_map\n",
      "    for media_id, media in media_id_media_map.iteritems():\n",
      "        if not media[ 'media_source_tags_ids'].isdisjoint( media_tags_ids ):\n",
      "            media_ids_matching.add( media_id )\n",
      "            \n",
      "    return  [cd for cd in comps_downloads if cd['media_id'] in media_ids_matching ]"
     ],
     "language": "python",
     "metadata": {},
     "outputs": [],
     "prompt_number": 31
    },
    {
     "cell_type": "code",
     "collapsed": false,
     "input": [
      "def remove_spidered_downloads( comps_downloads ):           \n",
      "    return  [cd for cd in comps_downloads if not cd['story_is_spidered'] ]\n",
      "\n",
      "def only_spidered_downloads( comps_downloads ):           \n",
      "    return  [cd for cd in comps_downloads if cd['story_is_spidered'] ]"
     ],
     "language": "python",
     "metadata": {},
     "outputs": [],
     "prompt_number": 45
    },
    {
     "cell_type": "code",
     "collapsed": false,
     "input": [
      "def story_is_spidered( story ):\n",
      "    for taginfo in story['story_tags']:\n",
      "        if taginfo['tag'] == 'spidered' and taginfo['tag_set'] == 'spidered':\n",
      "            return True\n",
      "    \n",
      "    return False"
     ],
     "language": "python",
     "metadata": {},
     "outputs": [],
     "prompt_number": 32
    },
    {
     "cell_type": "heading",
     "level": 1,
     "metadata": {},
     "source": [
      "Flags"
     ]
    },
    {
     "cell_type": "code",
     "collapsed": false,
     "input": [
      "regenerate_extractor_training_objects = True\n",
      "regenerate_media_id_media_map         = True"
     ],
     "language": "python",
     "metadata": {},
     "outputs": [],
     "prompt_number": 33
    },
    {
     "cell_type": "heading",
     "level": 2,
     "metadata": {},
     "source": [
      "Constants"
     ]
    },
    {
     "cell_type": "code",
     "collapsed": false,
     "input": [
      "brazil_downloads_ids = [391881020,401370599,412896439,412952145,412977048,413024519,413657081,413835576,414040102, \n",
      "                        414257623,414377428,414480464,414818749,414983458,415185946,415186582,415197547,415424551,\n",
      "                        415978069,416026460,416026587,416047494,416047513,416210404,416263840,416306952,416426245,\n",
      "                        416655019,416730837,416802690,417347290,417347524,417368539,417389613,417477837,417653177,\n",
      "                        418489742,418544762,418574641,418648698,418661859,419404469,419440474,419483895,419873979,\n",
      "                        420430754,420599387,420666122,421520860,421834553,422181106,422280595,422910963,423318170,\n",
      "                        424080271,424369085,424796346,424840366,425206279,426405203,426560018,426632784,426709900,\n",
      "                        428449440,429607289,430363249,430995428,433457459,435624796,435659593,461175103,461175549,\n",
      "                        461176415,461176844,461177487,461178557,461178590,461179203,461179222,461179441,461179762,\n",
      "                        461179818,461179954,461179956,461180307,461181039,461181597,461186137,461186258,461186833,\n",
      "                        461187188,461187261,461187577,461188549,461189069,461190586,461193383]\n",
      "\n",
      "sqlite_db_file = 'extractor_train_dbs/dev_2014-12-09T12_27_40-0500.db'"
     ],
     "language": "python",
     "metadata": {},
     "outputs": [],
     "prompt_number": 34
    },
    {
     "cell_type": "heading",
     "level": 1,
     "metadata": {},
     "source": [
      "Data Analysis"
     ]
    },
    {
     "cell_type": "heading",
     "level": 2,
     "metadata": {},
     "source": [
      "Load Data"
     ]
    },
    {
     "cell_type": "code",
     "collapsed": false,
     "input": [
      "extractor_training_objects = []\n",
      "if regenerate_extractor_training_objects:\n",
      "    eto_sqlite = get_extractor_training_objects_sqlite( sqlite_db_file )\n",
      "    eto_brazil = get_extractor_training_objects_legacy( brazil_downloads_ids )\n",
      "    extractor_training_objects.extend( eto_brazil  )\n",
      "    extractor_training_objects.extend( eto_sqlite )\n",
      "    cPickle.dump( extractor_training_objects, open(\"extractor_traning_objects.pickle\", \"wb\"))"
     ],
     "language": "python",
     "metadata": {},
     "outputs": [
      {
       "output_type": "stream",
       "stream": "stdout",
       "text": [
        "skipped 0\n",
        "processed 712\n",
        "[391881020, 401370599, 412896439, 412952145, 412977048, 413024519, 413657081, 413835576, 414040102, 414257623, 414377428, 414480464, 414818749, 414983458, 415185946, 415186582, 415197547, 415424551, 415978069, 416026460, 416026587, 416047494, 416047513, 416210404, 416263840, 416306952, 416426245, 416655019, 416730837, 416802690, 417347290, 417347524, 417368539, 417389613, 417477837, 417653177, 418489742, 418544762, 418574641, 418648698, 418661859, 419404469, 419440474, 419483895, 419873979, 420430754, 420599387, 420666122, 421520860, 421834553, 422181106, 422280595, 422910963, 423318170, 424080271, 424369085, 424796346, 424840366, 425206279, 426405203, 426560018, 426632784, 426709900, 428449440, 429607289, 430363249, 430995428, 433457459, 435624796, 435659593, 461175103, 461175549, 461176415, 461176844, 461177487, 461178557, 461178590, 461179203, 461179222, 461179441, 461179762, 461179818, 461179954, 461179956, 461180307, 461181039, 461181597, 461186137, 461186258, 461186833, 461187188, 461187261, 461187577, 461188549, 461189069, 461190586, 461193383]\n",
        "downloads_id: 391881020\n",
        "downloads_id:"
       ]
      },
      {
       "output_type": "stream",
       "stream": "stdout",
       "text": [
        " 401370599\n",
        "downloads_id:"
       ]
      },
      {
       "output_type": "stream",
       "stream": "stdout",
       "text": [
        " 412896439\n",
        "downloads_id:"
       ]
      },
      {
       "output_type": "stream",
       "stream": "stdout",
       "text": [
        " 412952145\n",
        "downloads_id:"
       ]
      },
      {
       "output_type": "stream",
       "stream": "stdout",
       "text": [
        " 412977048\n",
        "downloads_id:"
       ]
      },
      {
       "output_type": "stream",
       "stream": "stdout",
       "text": [
        " 413024519\n",
        "downloads_id:"
       ]
      },
      {
       "output_type": "stream",
       "stream": "stdout",
       "text": [
        " 413657081\n",
        "downloads_id:"
       ]
      },
      {
       "output_type": "stream",
       "stream": "stdout",
       "text": [
        " 413835576\n",
        "downloads_id:"
       ]
      },
      {
       "output_type": "stream",
       "stream": "stdout",
       "text": [
        " 414040102\n",
        "downloads_id:"
       ]
      },
      {
       "output_type": "stream",
       "stream": "stdout",
       "text": [
        " 414257623\n",
        "downloads_id:"
       ]
      },
      {
       "output_type": "stream",
       "stream": "stdout",
       "text": [
        " 414377428\n",
        "downloads_id:"
       ]
      },
      {
       "output_type": "stream",
       "stream": "stdout",
       "text": [
        " 414480464\n",
        "downloads_id:"
       ]
      },
      {
       "output_type": "stream",
       "stream": "stdout",
       "text": [
        " 414818749\n",
        "downloads_id:"
       ]
      },
      {
       "output_type": "stream",
       "stream": "stdout",
       "text": [
        " 414983458\n",
        "downloads_id:"
       ]
      },
      {
       "output_type": "stream",
       "stream": "stdout",
       "text": [
        " 415185946\n",
        "downloads_id:"
       ]
      },
      {
       "output_type": "stream",
       "stream": "stdout",
       "text": [
        " 415186582\n",
        "downloads_id:"
       ]
      },
      {
       "output_type": "stream",
       "stream": "stdout",
       "text": [
        " 415197547\n",
        "downloads_id:"
       ]
      },
      {
       "output_type": "stream",
       "stream": "stdout",
       "text": [
        " 415424551\n",
        "downloads_id:"
       ]
      },
      {
       "output_type": "stream",
       "stream": "stdout",
       "text": [
        " 415978069\n",
        "downloads_id:"
       ]
      },
      {
       "output_type": "stream",
       "stream": "stdout",
       "text": [
        " 416026460\n",
        "downloads_id:"
       ]
      },
      {
       "output_type": "stream",
       "stream": "stdout",
       "text": [
        " 416026587\n",
        "downloads_id:"
       ]
      },
      {
       "output_type": "stream",
       "stream": "stdout",
       "text": [
        " 416047494\n",
        "downloads_id:"
       ]
      },
      {
       "output_type": "stream",
       "stream": "stdout",
       "text": [
        " 416047513\n",
        "downloads_id:"
       ]
      },
      {
       "output_type": "stream",
       "stream": "stdout",
       "text": [
        " 416210404\n",
        "downloads_id:"
       ]
      },
      {
       "output_type": "stream",
       "stream": "stdout",
       "text": [
        " 416263840\n",
        "downloads_id:"
       ]
      },
      {
       "output_type": "stream",
       "stream": "stdout",
       "text": [
        " 416306952\n",
        "downloads_id:"
       ]
      },
      {
       "output_type": "stream",
       "stream": "stdout",
       "text": [
        " 416426245\n",
        "downloads_id:"
       ]
      },
      {
       "output_type": "stream",
       "stream": "stdout",
       "text": [
        " 416655019\n",
        "downloads_id:"
       ]
      },
      {
       "output_type": "stream",
       "stream": "stdout",
       "text": [
        " 416730837\n",
        "downloads_id:"
       ]
      },
      {
       "output_type": "stream",
       "stream": "stdout",
       "text": [
        " 416802690\n",
        "downloads_id:"
       ]
      },
      {
       "output_type": "stream",
       "stream": "stdout",
       "text": [
        " 417347290\n",
        "downloads_id:"
       ]
      },
      {
       "output_type": "stream",
       "stream": "stdout",
       "text": [
        " 417347524\n",
        "downloads_id:"
       ]
      },
      {
       "output_type": "stream",
       "stream": "stdout",
       "text": [
        " 417368539\n",
        "downloads_id:"
       ]
      },
      {
       "output_type": "stream",
       "stream": "stdout",
       "text": [
        " 417389613\n",
        "downloads_id:"
       ]
      },
      {
       "output_type": "stream",
       "stream": "stdout",
       "text": [
        " 417477837\n",
        "downloads_id:"
       ]
      },
      {
       "output_type": "stream",
       "stream": "stdout",
       "text": [
        " 417653177\n",
        "downloads_id:"
       ]
      },
      {
       "output_type": "stream",
       "stream": "stdout",
       "text": [
        " 418489742\n",
        "downloads_id:"
       ]
      },
      {
       "output_type": "stream",
       "stream": "stdout",
       "text": [
        " 418544762\n",
        "downloads_id:"
       ]
      },
      {
       "output_type": "stream",
       "stream": "stdout",
       "text": [
        " 418574641\n",
        "downloads_id:"
       ]
      },
      {
       "output_type": "stream",
       "stream": "stdout",
       "text": [
        " 418648698\n",
        "downloads_id:"
       ]
      },
      {
       "output_type": "stream",
       "stream": "stdout",
       "text": [
        " 418661859\n",
        "downloads_id:"
       ]
      },
      {
       "output_type": "stream",
       "stream": "stdout",
       "text": [
        " 419404469\n",
        "downloads_id:"
       ]
      },
      {
       "output_type": "stream",
       "stream": "stdout",
       "text": [
        " 419440474\n",
        "downloads_id:"
       ]
      },
      {
       "output_type": "stream",
       "stream": "stdout",
       "text": [
        " 419483895\n",
        "downloads_id:"
       ]
      },
      {
       "output_type": "stream",
       "stream": "stdout",
       "text": [
        " 419873979\n",
        "downloads_id:"
       ]
      },
      {
       "output_type": "stream",
       "stream": "stdout",
       "text": [
        " 420430754\n",
        "downloads_id:"
       ]
      },
      {
       "output_type": "stream",
       "stream": "stdout",
       "text": [
        " 420599387\n",
        "downloads_id:"
       ]
      },
      {
       "output_type": "stream",
       "stream": "stdout",
       "text": [
        " 420666122\n",
        "downloads_id:"
       ]
      },
      {
       "output_type": "stream",
       "stream": "stdout",
       "text": [
        " 421520860\n",
        "downloads_id:"
       ]
      },
      {
       "output_type": "stream",
       "stream": "stdout",
       "text": [
        " 421834553\n",
        "downloads_id:"
       ]
      },
      {
       "output_type": "stream",
       "stream": "stdout",
       "text": [
        " 422181106\n",
        "downloads_id:"
       ]
      },
      {
       "output_type": "stream",
       "stream": "stdout",
       "text": [
        " 422280595\n",
        "downloads_id:"
       ]
      },
      {
       "output_type": "stream",
       "stream": "stdout",
       "text": [
        " 422910963\n",
        "downloads_id:"
       ]
      },
      {
       "output_type": "stream",
       "stream": "stdout",
       "text": [
        " 423318170\n",
        "downloads_id:"
       ]
      },
      {
       "output_type": "stream",
       "stream": "stdout",
       "text": [
        " 424080271\n",
        "downloads_id:"
       ]
      },
      {
       "output_type": "stream",
       "stream": "stdout",
       "text": [
        " 424369085\n",
        "downloads_id:"
       ]
      },
      {
       "output_type": "stream",
       "stream": "stdout",
       "text": [
        " 424796346\n",
        "downloads_id:"
       ]
      },
      {
       "output_type": "stream",
       "stream": "stdout",
       "text": [
        " 424840366\n",
        "downloads_id:"
       ]
      },
      {
       "output_type": "stream",
       "stream": "stdout",
       "text": [
        " 425206279\n",
        "downloads_id:"
       ]
      },
      {
       "output_type": "stream",
       "stream": "stdout",
       "text": [
        " 426405203\n",
        "downloads_id:"
       ]
      },
      {
       "output_type": "stream",
       "stream": "stdout",
       "text": [
        " 426560018\n",
        "downloads_id:"
       ]
      },
      {
       "output_type": "stream",
       "stream": "stdout",
       "text": [
        " 426632784\n",
        "downloads_id:"
       ]
      },
      {
       "output_type": "stream",
       "stream": "stdout",
       "text": [
        " 426709900\n",
        "downloads_id:"
       ]
      },
      {
       "output_type": "stream",
       "stream": "stdout",
       "text": [
        " 428449440\n",
        "downloads_id:"
       ]
      },
      {
       "output_type": "stream",
       "stream": "stdout",
       "text": [
        " 429607289\n",
        "downloads_id:"
       ]
      },
      {
       "output_type": "stream",
       "stream": "stdout",
       "text": [
        " 430363249\n",
        "downloads_id:"
       ]
      },
      {
       "output_type": "stream",
       "stream": "stdout",
       "text": [
        " 430995428\n",
        "downloads_id:"
       ]
      },
      {
       "output_type": "stream",
       "stream": "stdout",
       "text": [
        " 433457459\n",
        "downloads_id:"
       ]
      },
      {
       "output_type": "stream",
       "stream": "stdout",
       "text": [
        " 435624796\n",
        "downloads_id:"
       ]
      },
      {
       "output_type": "stream",
       "stream": "stdout",
       "text": [
        " 435659593\n",
        "downloads_id:"
       ]
      },
      {
       "output_type": "stream",
       "stream": "stdout",
       "text": [
        " 461175103\n",
        "downloads_id:"
       ]
      },
      {
       "output_type": "stream",
       "stream": "stdout",
       "text": [
        " 461175549\n",
        "downloads_id:"
       ]
      },
      {
       "output_type": "stream",
       "stream": "stdout",
       "text": [
        " 461176415\n",
        "downloads_id:"
       ]
      },
      {
       "output_type": "stream",
       "stream": "stdout",
       "text": [
        " 461176844\n",
        "downloads_id:"
       ]
      },
      {
       "output_type": "stream",
       "stream": "stdout",
       "text": [
        " 461177487\n",
        "downloads_id:"
       ]
      },
      {
       "output_type": "stream",
       "stream": "stdout",
       "text": [
        " 461178557\n",
        "downloads_id:"
       ]
      },
      {
       "output_type": "stream",
       "stream": "stdout",
       "text": [
        " 461178590\n",
        "downloads_id:"
       ]
      },
      {
       "output_type": "stream",
       "stream": "stdout",
       "text": [
        " 461179203\n",
        "downloads_id:"
       ]
      },
      {
       "output_type": "stream",
       "stream": "stdout",
       "text": [
        " 461179222\n",
        "downloads_id:"
       ]
      },
      {
       "output_type": "stream",
       "stream": "stdout",
       "text": [
        " 461179441\n",
        "downloads_id:"
       ]
      },
      {
       "output_type": "stream",
       "stream": "stdout",
       "text": [
        " 461179762\n",
        "downloads_id:"
       ]
      },
      {
       "output_type": "stream",
       "stream": "stdout",
       "text": [
        " 461179818\n",
        "downloads_id:"
       ]
      },
      {
       "output_type": "stream",
       "stream": "stdout",
       "text": [
        " 461179954\n",
        "downloads_id:"
       ]
      },
      {
       "output_type": "stream",
       "stream": "stdout",
       "text": [
        " 461179956\n",
        "downloads_id:"
       ]
      },
      {
       "output_type": "stream",
       "stream": "stdout",
       "text": [
        " 461180307\n",
        "downloads_id:"
       ]
      },
      {
       "output_type": "stream",
       "stream": "stdout",
       "text": [
        " 461181039\n",
        "downloads_id:"
       ]
      },
      {
       "output_type": "stream",
       "stream": "stdout",
       "text": [
        " 461181597\n",
        "downloads_id:"
       ]
      },
      {
       "output_type": "stream",
       "stream": "stdout",
       "text": [
        " 461186137\n",
        "downloads_id:"
       ]
      },
      {
       "output_type": "stream",
       "stream": "stdout",
       "text": [
        " 461186258\n",
        "downloads_id:"
       ]
      },
      {
       "output_type": "stream",
       "stream": "stdout",
       "text": [
        " 461186833\n",
        "downloads_id:"
       ]
      },
      {
       "output_type": "stream",
       "stream": "stdout",
       "text": [
        " 461187188\n",
        "downloads_id:"
       ]
      },
      {
       "output_type": "stream",
       "stream": "stdout",
       "text": [
        " 461187261\n",
        "downloads_id:"
       ]
      },
      {
       "output_type": "stream",
       "stream": "stdout",
       "text": [
        " 461187577\n",
        "downloads_id:"
       ]
      },
      {
       "output_type": "stream",
       "stream": "stdout",
       "text": [
        " 461188549\n",
        "downloads_id:"
       ]
      },
      {
       "output_type": "stream",
       "stream": "stdout",
       "text": [
        " 461189069\n",
        "downloads_id:"
       ]
      },
      {
       "output_type": "stream",
       "stream": "stdout",
       "text": [
        " 461190586\n",
        "downloads_id:"
       ]
      },
      {
       "output_type": "stream",
       "stream": "stdout",
       "text": [
        " 461193383\n"
       ]
      }
     ],
     "prompt_number": 35
    },
    {
     "cell_type": "code",
     "collapsed": false,
     "input": [
      "extractor_training_objects = cPickle.load( open( \"extractor_traning_objects.pickle\", \"rb\") )"
     ],
     "language": "python",
     "metadata": {},
     "outputs": [],
     "prompt_number": 36
    },
    {
     "cell_type": "heading",
     "level": 3,
     "metadata": {},
     "source": [
      "Look up Media Tags"
     ]
    },
    {
     "cell_type": "code",
     "collapsed": false,
     "input": [
      "import itertools\n",
      "from collections import Counter\n",
      "\n",
      "mc = mediacloud.api.MediaCloud(api_key)\n",
      "\n",
      "if regenerate_media_id_media_map:\n",
      "    media_id_media_map = {}\n",
      "    \n",
      "    media_ids = sorted(list(set([ eto['media_id'] for eto in extractor_training_objects ])))\n",
      "    \n",
      "    for media_id in list(media_ids)[:10]:\n",
      "        media = mc.media( media_id )\n",
      "        media[ 'media_source_tags_ids' ] = set( [ media_source_tag['tags_id'] \n",
      "                                                 for media_source_tag in media['media_source_tags'] ] )\n",
      "        media_id_media_map[ media_id ] = media\n",
      "    \n",
      "    cPickle.dump( media_id_media_map, open(\"media_id_media_map.pickle\", \"wb\"))\n"
     ],
     "language": "python",
     "metadata": {},
     "outputs": [],
     "prompt_number": 37
    },
    {
     "cell_type": "code",
     "collapsed": false,
     "input": [
      "media_id_media_map = cPickle.load( open( \"media_id_media_map.pickle\", \"rb\") )    \n",
      "\n",
      "media_tag_counts = Counter(list ( itertools.chain.from_iterable( media_source['media_source_tags_ids'] for media_source in media_id_media_map.values() )) ) \n",
      "tags_id_to_media_tags_map = {}\n",
      "for media_tag in media_id_media_map.values():\n",
      "    source_tags = media_tag[ 'media_source_tags' ]\n",
      "    for source_tag in source_tags:\n",
      "        tags_id_to_media_tags_map[ source_tag[ 'tags_id' ] ] = source_tag"
     ],
     "language": "python",
     "metadata": {},
     "outputs": [],
     "prompt_number": 38
    },
    {
     "cell_type": "code",
     "collapsed": false,
     "input": [
      "[ (tags_id_to_media_tags_map[tag_id], count) for tag_id, count in media_tag_counts.most_common( 15 ) ]\n"
     ],
     "language": "python",
     "metadata": {},
     "outputs": [
      {
       "metadata": {},
       "output_type": "pyout",
       "prompt_number": 39,
       "text": [
        "[({u'description': u'A site that is a mainstream media outlet, such as The New York Times and The Washington Post; an online-only news outlet, such as Slate, Salon, or the Huffington Post; or a citizen journalism or non-profit news outlet, such as Global Voices or ProPublica',\n",
        "   u'label': u'General News',\n",
        "   u'show_on_media': 1,\n",
        "   u'show_on_stories': None,\n",
        "   u'tag': u'General Online News Media',\n",
        "   u'tag_set': u'media_type',\n",
        "   u'tag_sets_id': 1099,\n",
        "   u'tags_id': 8878416},\n",
        "  9),\n",
        " ({u'description': u\"Top U.S. mainstream media according Google Ad Planner's measure of unique monthly users.\",\n",
        "   u'label': u'U.S. Mainstream Media',\n",
        "   u'show_on_media': 1,\n",
        "   u'show_on_stories': None,\n",
        "   u'tag': u'ap_english_us_top25_20100110',\n",
        "   u'tag_set': u'collection',\n",
        "   u'tag_sets_id': 5,\n",
        "   u'tags_id': 8875027},\n",
        "  8),\n",
        " ({u'description': None,\n",
        "   u'label': None,\n",
        "   u'show_on_media': 0,\n",
        "   u'show_on_stories': None,\n",
        "   u'tag': u'include',\n",
        "   u'tag_set': u'word_cloud',\n",
        "   u'tag_sets_id': 17,\n",
        "   u'tags_id': 6071565},\n",
        "  5),\n",
        " ({u'description': None,\n",
        "   u'label': None,\n",
        "   u'show_on_media': 0,\n",
        "   u'show_on_stories': None,\n",
        "   u'tag': u'default',\n",
        "   u'tag_set': u'word_cloud',\n",
        "   u'tag_sets_id': 17,\n",
        "   u'tags_id': 6729599},\n",
        "  5),\n",
        " ({u'description': None,\n",
        "   u'label': None,\n",
        "   u'show_on_media': 0,\n",
        "   u'show_on_stories': None,\n",
        "   u'tag': u'pmcheck',\n",
        "   u'tag_set': u'workflow',\n",
        "   u'tag_sets_id': 4,\n",
        "   u'tags_id': 6},\n",
        "  4),\n",
        " ({u'description': None,\n",
        "   u'label': None,\n",
        "   u'show_on_media': 0,\n",
        "   u'show_on_stories': None,\n",
        "   u'tag': u'oped_project',\n",
        "   u'tag_set': u'collection',\n",
        "   u'tag_sets_id': 5,\n",
        "   u'tags_id': 8878390},\n",
        "  3),\n",
        " ({u'description': u'List of sites related to New York State politics.  Created by manually spidering related sites in 2012-10.',\n",
        "   u'label': u'New York State Politics (manual)',\n",
        "   u'show_on_media': 1,\n",
        "   u'show_on_stories': None,\n",
        "   u'tag': u'newyork_jessie_manualspidering_20121023',\n",
        "   u'tag_set': u'collection',\n",
        "   u'tag_sets_id': 5,\n",
        "   u'tags_id': 8875676},\n",
        "  2),\n",
        " ({u'description': None,\n",
        "   u'label': None,\n",
        "   u'show_on_media': 0,\n",
        "   u'show_on_stories': None,\n",
        "   u'tag': u'largemetroarea',\n",
        "   u'tag_set': u'pkgeog-type',\n",
        "   u'tag_sets_id': 16,\n",
        "   u'tags_id': 2496423},\n",
        "  2),\n",
        " ({u'description': u'Large collection of local California newspapers, collected from http://www.usnpl.com/canews.php in 2012-09.',\n",
        "   u'label': u'2012 California Newspapers',\n",
        "   u'show_on_media': 1,\n",
        "   u'show_on_stories': None,\n",
        "   u'tag': u'california_newspapers_20120914',\n",
        "   u'tag_set': u'collection',\n",
        "   u'tag_sets_id': 5,\n",
        "   u'tags_id': 8875460},\n",
        "  2),\n",
        " ({u'description': u'Large list of regional TC and newspapers sites, collected by Pew in 2010.',\n",
        "   u'label': u'U.S. Regional Mainstream Media',\n",
        "   u'show_on_media': 1,\n",
        "   u'show_on_stories': None,\n",
        "   u'tag': u'pew_knight_study',\n",
        "   u'tag_set': u'collection',\n",
        "   u'tag_sets_id': 5,\n",
        "   u'tags_id': 2453107},\n",
        "  2),\n",
        " ({u'description': None,\n",
        "   u'label': None,\n",
        "   u'show_on_media': 0,\n",
        "   u'show_on_stories': None,\n",
        "   u'tag': u'1',\n",
        "   u'tag_set': u'usnewspapercirculation',\n",
        "   u'tag_sets_id': 3,\n",
        "   u'tags_id': 5},\n",
        "  1),\n",
        " ({u'description': None,\n",
        "   u'label': None,\n",
        "   u'show_on_media': 0,\n",
        "   u'show_on_stories': None,\n",
        "   u'tag': u'hrcheck',\n",
        "   u'tag_set': u'workflow',\n",
        "   u'tag_sets_id': 4,\n",
        "   u'tags_id': 7},\n",
        "  1),\n",
        " ({u'description': None,\n",
        "   u'label': None,\n",
        "   u'show_on_media': 0,\n",
        "   u'show_on_stories': None,\n",
        "   u'tag': u'27',\n",
        "   u'tag_set': u'usnewspapercirculation',\n",
        "   u'tag_sets_id': 3,\n",
        "   u'tags_id': 11},\n",
        "  1),\n",
        " ({u'description': None,\n",
        "   u'label': None,\n",
        "   u'show_on_media': 0,\n",
        "   u'show_on_stories': None,\n",
        "   u'tag': u'4',\n",
        "   u'tag_set': u'usnewspapercirculation',\n",
        "   u'tag_sets_id': 3,\n",
        "   u'tags_id': 14},\n",
        "  1),\n",
        " ({u'description': None,\n",
        "   u'label': None,\n",
        "   u'show_on_media': 0,\n",
        "   u'show_on_stories': None,\n",
        "   u'tag': u'5',\n",
        "   u'tag_set': u'usnewspapercirculation',\n",
        "   u'tag_sets_id': 3,\n",
        "   u'tags_id': 16},\n",
        "  1)]"
       ]
      }
     ],
     "prompt_number": 39
    },
    {
     "cell_type": "heading",
     "level": 2,
     "metadata": {},
     "source": [
      "Run extractors"
     ]
    },
    {
     "cell_type": "code",
     "collapsed": false,
     "input": [
      "#eto = extractor_training_objects[ 0 ]\n",
      "#eto.keys()\n",
      "#print eto['expected_text']\n",
      "#get_extraction_results( eto )\n",
      "#comp_extractors ( eto )\n",
      "\n",
      "extraction_results = []\n",
      "\n",
      "for eto in  extractor_training_objects[:2]:\n",
      "    er = dict( eto )\n",
      "    er[ 'extractor_results'] = get_extraction_results( eto )\n",
      "    \n",
      "    extraction_results.append( er )\n",
      "\n",
      "eto.keys()    \n",
      "#er.keys()"
     ],
     "language": "python",
     "metadata": {},
     "outputs": [
      {
       "metadata": {},
       "output_type": "pyout",
       "prompt_number": 40,
       "text": [
        "['story',\n",
        " 'preprocessed_lines',\n",
        " 'media_id',\n",
        " 'downloads_id',\n",
        " 'raw_content',\n",
        " 'story_is_spidered',\n",
        " 'expected_text']"
       ]
      }
     ],
     "prompt_number": 40
    },
    {
     "cell_type": "code",
     "collapsed": false,
     "input": [
      "comps_downloads = []\n",
      "processed = 0\n",
      "skipped = 0\n",
      "\n",
      "e=None\n",
      "for extractor_training_object in extractor_training_objects[:]:\n",
      "    print 'processed ', processed\n",
      "    print 'skipped ', skipped\n",
      "    print extractor_training_object[ 'downloads_id']\n",
      "    try:\n",
      "        res = comp_extractors( extractor_training_object )\n",
      "        #print res\n",
      "        comps_downloads.append( res )\n",
      "        processed += 1\n",
      "    except Exception, e:\n",
      "        print \"error on download{}\".format( extractor_training_object[ 'downloads_id'] )\n",
      "        e = sys.exc_info()\n",
      "        \n",
      "        import traceback\n",
      "        \n",
      "        traceback.print_exc()\n",
      "        print e\n",
      "        #raise e\n",
      "        skipped += 1\n",
      "\n",
      "e\n",
      "#extractor_training_objects\n",
      "    "
     ],
     "language": "python",
     "metadata": {},
     "outputs": [
      {
       "output_type": "stream",
       "stream": "stdout",
       "text": [
        "processed  0\n",
        "skipped  0\n",
        "391881020\n",
        "processed "
       ]
      },
      {
       "output_type": "stream",
       "stream": "stdout",
       "text": [
        " 1\n",
        "skipped  0\n",
        "401370599\n",
        "processed "
       ]
      },
      {
       "output_type": "stream",
       "stream": "stdout",
       "text": [
        " 2\n",
        "skipped  0\n",
        "412896439\n",
        "processed "
       ]
      },
      {
       "output_type": "stream",
       "stream": "stdout",
       "text": [
        " 3\n",
        "skipped  0\n",
        "412952145\n",
        "processed "
       ]
      },
      {
       "output_type": "stream",
       "stream": "stdout",
       "text": [
        " 4\n",
        "skipped  0\n",
        "412977048\n",
        "processed "
       ]
      },
      {
       "output_type": "stream",
       "stream": "stdout",
       "text": [
        " 5\n",
        "skipped  0\n",
        "413024519\n",
        "processed "
       ]
      },
      {
       "output_type": "stream",
       "stream": "stdout",
       "text": [
        " 6\n",
        "skipped  0\n",
        "413657081\n",
        "processed "
       ]
      },
      {
       "output_type": "stream",
       "stream": "stdout",
       "text": [
        " 7\n",
        "skipped  0\n",
        "413835576\n",
        "processed "
       ]
      },
      {
       "output_type": "stream",
       "stream": "stdout",
       "text": [
        " 8\n",
        "skipped  0\n",
        "414040102\n",
        "processed "
       ]
      },
      {
       "output_type": "stream",
       "stream": "stdout",
       "text": [
        " 9\n",
        "skipped  0\n",
        "414257623\n",
        "processed "
       ]
      },
      {
       "output_type": "stream",
       "stream": "stdout",
       "text": [
        " 10\n",
        "skipped  0\n",
        "414377428\n",
        "processed "
       ]
      },
      {
       "output_type": "stream",
       "stream": "stdout",
       "text": [
        " 11\n",
        "skipped  0\n",
        "414480464\n",
        "processed "
       ]
      },
      {
       "output_type": "stream",
       "stream": "stdout",
       "text": [
        " 12\n",
        "skipped  0\n",
        "414818749\n",
        "processed "
       ]
      },
      {
       "output_type": "stream",
       "stream": "stdout",
       "text": [
        " 13\n",
        "skipped  0\n",
        "414983458\n",
        "processed "
       ]
      },
      {
       "output_type": "stream",
       "stream": "stdout",
       "text": [
        " 14\n",
        "skipped  0\n",
        "415185946\n",
        "processed "
       ]
      },
      {
       "output_type": "stream",
       "stream": "stdout",
       "text": [
        " 15\n",
        "skipped  0\n",
        "415186582\n",
        "processed "
       ]
      },
      {
       "output_type": "stream",
       "stream": "stdout",
       "text": [
        " 16\n",
        "skipped  0\n",
        "415197547\n",
        "processed "
       ]
      },
      {
       "output_type": "stream",
       "stream": "stdout",
       "text": [
        " 17\n",
        "skipped  0\n",
        "415424551\n",
        "processed "
       ]
      },
      {
       "output_type": "stream",
       "stream": "stdout",
       "text": [
        " 18\n",
        "skipped  0\n",
        "415978069\n",
        "processed "
       ]
      },
      {
       "output_type": "stream",
       "stream": "stdout",
       "text": [
        " 19\n",
        "skipped  0\n",
        "416026460\n",
        "processed "
       ]
      },
      {
       "output_type": "stream",
       "stream": "stdout",
       "text": [
        " 20\n",
        "skipped  0\n",
        "416026587\n",
        "processed "
       ]
      },
      {
       "output_type": "stream",
       "stream": "stdout",
       "text": [
        " 21\n",
        "skipped  0\n",
        "416047494\n",
        "processed "
       ]
      },
      {
       "output_type": "stream",
       "stream": "stdout",
       "text": [
        " 22\n",
        "skipped  0\n",
        "416047513\n",
        "processed "
       ]
      },
      {
       "output_type": "stream",
       "stream": "stdout",
       "text": [
        " 23\n",
        "skipped  0\n",
        "416210404\n",
        "processed "
       ]
      },
      {
       "output_type": "stream",
       "stream": "stdout",
       "text": [
        " 24\n",
        "skipped  0\n",
        "416263840\n",
        "processed "
       ]
      },
      {
       "output_type": "stream",
       "stream": "stdout",
       "text": [
        " 25\n",
        "skipped  0\n",
        "416306952\n",
        "processed "
       ]
      },
      {
       "output_type": "stream",
       "stream": "stdout",
       "text": [
        " 26\n",
        "skipped  0\n",
        "416426245\n",
        "processed "
       ]
      },
      {
       "output_type": "stream",
       "stream": "stdout",
       "text": [
        " 27\n",
        "skipped  0\n",
        "416655019\n",
        "processed "
       ]
      },
      {
       "output_type": "stream",
       "stream": "stdout",
       "text": [
        " 28\n",
        "skipped  0\n",
        "416730837\n",
        "processed "
       ]
      },
      {
       "output_type": "stream",
       "stream": "stdout",
       "text": [
        " 29\n",
        "skipped  0\n",
        "416802690\n",
        "processed "
       ]
      },
      {
       "output_type": "stream",
       "stream": "stdout",
       "text": [
        " 30\n",
        "skipped  0\n",
        "417347290\n",
        "processed "
       ]
      },
      {
       "output_type": "stream",
       "stream": "stdout",
       "text": [
        " 31\n",
        "skipped  0\n",
        "417347524\n",
        "processed "
       ]
      },
      {
       "output_type": "stream",
       "stream": "stdout",
       "text": [
        " 32\n",
        "skipped  0\n",
        "417368539\n",
        "processed "
       ]
      },
      {
       "output_type": "stream",
       "stream": "stdout",
       "text": [
        " 33\n",
        "skipped  0\n",
        "417389613\n",
        "processed "
       ]
      },
      {
       "output_type": "stream",
       "stream": "stdout",
       "text": [
        " 34\n",
        "skipped  0\n",
        "417477837\n",
        "processed "
       ]
      },
      {
       "output_type": "stream",
       "stream": "stdout",
       "text": [
        " 35\n",
        "skipped  0\n",
        "417653177\n",
        "processed "
       ]
      },
      {
       "output_type": "stream",
       "stream": "stdout",
       "text": [
        " 36\n",
        "skipped  0\n",
        "418489742\n",
        "processed "
       ]
      },
      {
       "output_type": "stream",
       "stream": "stdout",
       "text": [
        " 37\n",
        "skipped  0\n",
        "418544762\n",
        "processed "
       ]
      },
      {
       "output_type": "stream",
       "stream": "stdout",
       "text": [
        " 38\n",
        "skipped  0\n",
        "418574641\n",
        "processed "
       ]
      },
      {
       "output_type": "stream",
       "stream": "stdout",
       "text": [
        " 39\n",
        "skipped  0\n",
        "418648698\n",
        "processed "
       ]
      },
      {
       "output_type": "stream",
       "stream": "stdout",
       "text": [
        " 40\n",
        "skipped  0\n",
        "418661859\n",
        "processed "
       ]
      },
      {
       "output_type": "stream",
       "stream": "stdout",
       "text": [
        " 41\n",
        "skipped  0\n",
        "419404469\n",
        "processed "
       ]
      },
      {
       "output_type": "stream",
       "stream": "stdout",
       "text": [
        " 42\n",
        "skipped  0\n",
        "419440474\n",
        "processed "
       ]
      },
      {
       "output_type": "stream",
       "stream": "stdout",
       "text": [
        " 43\n",
        "skipped  0\n",
        "419483895\n",
        "processed "
       ]
      },
      {
       "output_type": "stream",
       "stream": "stdout",
       "text": [
        " 44\n",
        "skipped  0\n",
        "419873979\n",
        "processed "
       ]
      },
      {
       "output_type": "stream",
       "stream": "stdout",
       "text": [
        " 45\n",
        "skipped  0\n",
        "420430754\n",
        "processed "
       ]
      },
      {
       "output_type": "stream",
       "stream": "stdout",
       "text": [
        " 46\n",
        "skipped  0\n",
        "420599387\n",
        "processed "
       ]
      },
      {
       "output_type": "stream",
       "stream": "stdout",
       "text": [
        " 47\n",
        "skipped  0\n",
        "420666122\n",
        "processed "
       ]
      },
      {
       "output_type": "stream",
       "stream": "stdout",
       "text": [
        " 48\n",
        "skipped  0\n",
        "421520860\n",
        "error on download421520860"
       ]
      },
      {
       "output_type": "stream",
       "stream": "stdout",
       "text": [
        "\n",
        "(<type 'exceptions.IOError'>, IOError(\"Couldn't open file /usr/local/lib/python2.7/dist-packages/goose/resources/text/stopwords-po.txt\",), <traceback object at 0x7f564fc3a368>)\n",
        "processed  48\n",
        "skipped  1\n",
        "421834553\n",
        "processed "
       ]
      },
      {
       "output_type": "stream",
       "stream": "stdout",
       "text": [
        " 49\n",
        "skipped  1\n",
        "422181106\n",
        "processed "
       ]
      },
      {
       "output_type": "stream",
       "stream": "stdout",
       "text": [
        " 50\n",
        "skipped  1\n",
        "422280595\n",
        "processed "
       ]
      },
      {
       "output_type": "stream",
       "stream": "stdout",
       "text": [
        " 51\n",
        "skipped  1\n",
        "422910963\n",
        "processed "
       ]
      },
      {
       "output_type": "stream",
       "stream": "stdout",
       "text": [
        " 52\n",
        "skipped  1\n",
        "423318170\n",
        "processed "
       ]
      },
      {
       "output_type": "stream",
       "stream": "stdout",
       "text": [
        " 53\n",
        "skipped  1\n",
        "424080271\n",
        "processed "
       ]
      },
      {
       "output_type": "stream",
       "stream": "stdout",
       "text": [
        " 54\n",
        "skipped  1\n",
        "424369085\n",
        "processed "
       ]
      },
      {
       "output_type": "stream",
       "stream": "stdout",
       "text": [
        " 55\n",
        "skipped  1\n",
        "424796346\n",
        "processed "
       ]
      },
      {
       "output_type": "stream",
       "stream": "stdout",
       "text": [
        " 56\n",
        "skipped  1\n",
        "424840366\n",
        "processed "
       ]
      },
      {
       "output_type": "stream",
       "stream": "stdout",
       "text": [
        " 57\n",
        "skipped  1\n",
        "425206279\n",
        "processed "
       ]
      },
      {
       "output_type": "stream",
       "stream": "stdout",
       "text": [
        " 58\n",
        "skipped  1\n",
        "426405203\n",
        "processed "
       ]
      },
      {
       "output_type": "stream",
       "stream": "stdout",
       "text": [
        " 59\n",
        "skipped  1\n",
        "426560018\n",
        "error on download426560018"
       ]
      },
      {
       "output_type": "stream",
       "stream": "stderr",
       "text": [
        "Traceback (most recent call last):\n",
        "  File \"<ipython-input-41-0e1172e16ab4>\", line 11, in <module>\n",
        "    res = comp_extractors( extractor_training_object )\n",
        "  File \"<ipython-input-23-91249bf1c046>\", line 19, in comp_extractors\n",
        "    extraction_results = get_extraction_results( eto )\n",
        "  File \"<ipython-input-22-35bdc612153c>\", line 11, in get_extraction_results\n",
        "    ret['py_goose']  = { 'extracted_html': extract_with_python_goose( raw_content ) }\n",
        "  File \"<ipython-input-9-da7d07f83e6d>\", line 6, in extract_with_python_goose\n",
        "    r = g.extract( raw_html=raw_content )\n",
        "  File \"/usr/local/lib/python2.7/dist-packages/goose/__init__.py\", line 56, in extract\n",
        "    return self.crawl(cc)\n",
        "  File \"/usr/local/lib/python2.7/dist-packages/goose/__init__.py\", line 63, in crawl\n",
        "    article = crawler.crawl(crawl_candiate)\n",
        "  File \"/usr/local/lib/python2.7/dist-packages/goose/crawler.py\", line 131, in crawl\n",
        "    self.article.cleaned_text = self.formatter.get_formatted_text()\n",
        "  File \"/usr/local/lib/python2.7/dist-packages/goose/outputformatters.py\", line 66, in get_formatted_text\n",
        "    self.remove_fewwords_paragraphs()\n",
        "  File \"/usr/local/lib/python2.7/dist-packages/goose/outputformatters.py\", line 123, in remove_fewwords_paragraphs\n",
        "    stop_words = self.stopwords_class(language=self.get_language()).get_stopword_count(text)\n",
        "  File \"/usr/local/lib/python2.7/dist-packages/goose/text.py\", line 98, in __init__\n",
        "    self._cached_stop_words[language] = set(FileHelper.loadResourceFile(path).splitlines())\n",
        "  File \"/usr/local/lib/python2.7/dist-packages/goose/utils/__init__.py\", line 79, in loadResourceFile\n",
        "    raise IOError(\"Couldn't open file %s\" % path)\n",
        "IOError: Couldn't open file /usr/local/lib/python2.7/dist-packages/goose/resources/text/stopwords-po.txt\n",
        "Traceback (most recent call last):\n"
       ]
      },
      {
       "output_type": "stream",
       "stream": "stdout",
       "text": [
        "\n",
        "(<type 'exceptions.IOError'>, IOError('cannot identify image file',), <traceback object at 0x7f564fbfb320>)\n",
        "processed  59\n",
        "skipped  2\n",
        "426632784\n",
        "processed "
       ]
      },
      {
       "output_type": "stream",
       "stream": "stdout",
       "text": [
        " 60\n",
        "skipped  2\n",
        "426709900\n",
        "processed "
       ]
      },
      {
       "output_type": "stream",
       "stream": "stdout",
       "text": [
        " 61\n",
        "skipped  2\n",
        "428449440\n",
        "processed "
       ]
      },
      {
       "output_type": "stream",
       "stream": "stdout",
       "text": [
        " 62\n",
        "skipped  2\n",
        "429607289\n",
        "processed "
       ]
      },
      {
       "output_type": "stream",
       "stream": "stdout",
       "text": [
        " 63\n",
        "skipped  2\n",
        "430363249\n",
        "processed "
       ]
      },
      {
       "output_type": "stream",
       "stream": "stdout",
       "text": [
        " 64\n",
        "skipped  2\n",
        "430995428\n",
        "processed "
       ]
      },
      {
       "output_type": "stream",
       "stream": "stdout",
       "text": [
        " 65\n",
        "skipped  2\n",
        "433457459\n",
        "processed "
       ]
      },
      {
       "output_type": "stream",
       "stream": "stdout",
       "text": [
        " 66\n",
        "skipped  2\n",
        "435624796\n",
        "processed "
       ]
      },
      {
       "output_type": "stream",
       "stream": "stdout",
       "text": [
        " 67\n",
        "skipped  2\n",
        "435659593\n",
        "processed "
       ]
      },
      {
       "output_type": "stream",
       "stream": "stdout",
       "text": [
        " 68\n",
        "skipped  2\n",
        "461175103\n",
        "processed "
       ]
      },
      {
       "output_type": "stream",
       "stream": "stdout",
       "text": [
        " 69\n",
        "skipped  2\n",
        "461175549\n",
        "processed "
       ]
      },
      {
       "output_type": "stream",
       "stream": "stdout",
       "text": [
        " 70\n",
        "skipped  2\n",
        "461176415\n",
        "error on download461176415"
       ]
      },
      {
       "output_type": "stream",
       "stream": "stderr",
       "text": [
        "  File \"<ipython-input-41-0e1172e16ab4>\", line 11, in <module>\n",
        "    res = comp_extractors( extractor_training_object )\n",
        "  File \"<ipython-input-23-91249bf1c046>\", line 19, in comp_extractors\n",
        "    extraction_results = get_extraction_results( eto )\n",
        "  File \"<ipython-input-22-35bdc612153c>\", line 11, in get_extraction_results\n",
        "    ret['py_goose']  = { 'extracted_html': extract_with_python_goose( raw_content ) }\n",
        "  File \"<ipython-input-9-da7d07f83e6d>\", line 6, in extract_with_python_goose\n",
        "    r = g.extract( raw_html=raw_content )\n",
        "  File \"/usr/local/lib/python2.7/dist-packages/goose/__init__.py\", line 56, in extract\n",
        "    return self.crawl(cc)\n",
        "  File \"/usr/local/lib/python2.7/dist-packages/goose/__init__.py\", line 63, in crawl\n",
        "    article = crawler.crawl(crawl_candiate)\n",
        "  File \"/usr/local/lib/python2.7/dist-packages/goose/crawler.py\", line 125, in crawl\n",
        "    self.get_image()\n",
        "  File \"/usr/local/lib/python2.7/dist-packages/goose/crawler.py\", line 147, in get_image\n",
        "    self.article.top_image = self.image_extractor.get_best_image(doc, top_node)\n",
        "  File \"/usr/local/lib/python2.7/dist-packages/goose/images/extractors.py\", line 92, in get_best_image\n",
        "    image = self.check_meta_tag()\n",
        "  File \"/usr/local/lib/python2.7/dist-packages/goose/images/extractors.py\", line 104, in check_meta_tag\n",
        "    image = self.check_opengraph_tag()\n",
        "  File \"/usr/local/lib/python2.7/dist-packages/goose/images/extractors.py\", line 336, in check_opengraph_tag\n",
        "    return self.get_image(item, src, extraction_type='opengraph')\n",
        "  File \"/usr/local/lib/python2.7/dist-packages/goose/images/extractors.py\", line 215, in get_image\n",
        "    local_image = self.get_local_image(image.src)\n",
        "  File \"/usr/local/lib/python2.7/dist-packages/goose/images/extractors.py\", line 344, in get_local_image\n",
        "    self.link_hash, src, self.config)\n",
        "  File \"/usr/local/lib/python2.7/dist-packages/goose/images/utils.py\", line 52, in store_image\n",
        "    image = self.read_localfile(link_hash, src, config)\n",
        "  File \"/usr/local/lib/python2.7/dist-packages/goose/images/utils.py\", line 81, in read_localfile\n",
        "    image_details = self.get_image_dimensions(identify, local_image_name)\n",
        "  File \"/usr/local/lib/python2.7/dist-packages/goose/images/utils.py\", line 36, in get_image_dimensions\n",
        "    image = Image.open(path)\n",
        "  File \"/usr/lib/python2.7/dist-packages/PIL/Image.py\", line 2028, in open\n",
        "    raise IOError(\"cannot identify image file\")\n",
        "IOError: cannot identify image file\n",
        "Traceback (most recent call last):\n"
       ]
      },
      {
       "output_type": "stream",
       "stream": "stdout",
       "text": [
        "\n",
        "(<type 'exceptions.IOError'>, IOError(\"Couldn't open file /usr/local/lib/python2.7/dist-packages/goose/resources/text/stopwords-po.txt\",), <traceback object at 0x7f564f358dd0>)\n",
        "processed  70\n",
        "skipped  3\n",
        "461176844\n",
        "processed "
       ]
      },
      {
       "output_type": "stream",
       "stream": "stdout",
       "text": [
        " 71\n",
        "skipped  3\n",
        "461177487\n",
        "processed "
       ]
      },
      {
       "output_type": "stream",
       "stream": "stdout",
       "text": [
        " 72\n",
        "skipped  3\n",
        "461178557\n",
        "processed "
       ]
      },
      {
       "output_type": "stream",
       "stream": "stdout",
       "text": [
        " 73\n",
        "skipped  3\n",
        "461178590\n",
        "processed "
       ]
      },
      {
       "output_type": "stream",
       "stream": "stdout",
       "text": [
        " 74\n",
        "skipped  3\n",
        "461179203\n",
        "processed "
       ]
      },
      {
       "output_type": "stream",
       "stream": "stdout",
       "text": [
        " 75\n",
        "skipped  3\n",
        "461179222\n",
        "processed "
       ]
      },
      {
       "output_type": "stream",
       "stream": "stdout",
       "text": [
        " 76\n",
        "skipped  3\n",
        "461179441\n",
        "processed "
       ]
      },
      {
       "output_type": "stream",
       "stream": "stdout",
       "text": [
        " 77\n",
        "skipped  3\n",
        "461179762\n",
        "processed "
       ]
      },
      {
       "output_type": "stream",
       "stream": "stdout",
       "text": [
        " 78\n",
        "skipped  3\n",
        "461179818\n",
        "processed "
       ]
      },
      {
       "output_type": "stream",
       "stream": "stdout",
       "text": [
        " 79\n",
        "skipped  3\n",
        "461179954\n",
        "processed "
       ]
      },
      {
       "output_type": "stream",
       "stream": "stdout",
       "text": [
        " 80\n",
        "skipped  3\n",
        "461179956\n",
        "processed "
       ]
      },
      {
       "output_type": "stream",
       "stream": "stdout",
       "text": [
        " 81\n",
        "skipped  3\n",
        "461180307\n",
        "processed "
       ]
      },
      {
       "output_type": "stream",
       "stream": "stdout",
       "text": [
        " 82\n",
        "skipped  3\n",
        "461181039\n",
        "processed "
       ]
      },
      {
       "output_type": "stream",
       "stream": "stdout",
       "text": [
        " 83\n",
        "skipped  3\n",
        "461181597\n",
        "processed "
       ]
      },
      {
       "output_type": "stream",
       "stream": "stdout",
       "text": [
        " 84\n",
        "skipped  3\n",
        "461186137\n",
        "processed "
       ]
      },
      {
       "output_type": "stream",
       "stream": "stdout",
       "text": [
        " 85\n",
        "skipped  3\n",
        "461186258\n",
        "processed "
       ]
      },
      {
       "output_type": "stream",
       "stream": "stdout",
       "text": [
        " 86\n",
        "skipped  3\n",
        "461186833\n",
        "processed "
       ]
      },
      {
       "output_type": "stream",
       "stream": "stdout",
       "text": [
        " 87\n",
        "skipped  3\n",
        "461187188\n",
        "processed "
       ]
      },
      {
       "output_type": "stream",
       "stream": "stdout",
       "text": [
        " 88\n",
        "skipped  3\n",
        "461187261\n",
        "processed "
       ]
      },
      {
       "output_type": "stream",
       "stream": "stdout",
       "text": [
        " 89\n",
        "skipped  3\n",
        "461187577\n",
        "processed "
       ]
      },
      {
       "output_type": "stream",
       "stream": "stdout",
       "text": [
        " 90\n",
        "skipped  3\n",
        "461188549\n",
        "processed "
       ]
      },
      {
       "output_type": "stream",
       "stream": "stdout",
       "text": [
        " 91\n",
        "skipped  3\n",
        "461189069\n",
        "processed "
       ]
      },
      {
       "output_type": "stream",
       "stream": "stdout",
       "text": [
        " 92\n",
        "skipped  3\n",
        "461190586\n",
        "processed "
       ]
      },
      {
       "output_type": "stream",
       "stream": "stdout",
       "text": [
        " 93\n",
        "skipped  3\n",
        "461193383\n",
        "processed "
       ]
      },
      {
       "output_type": "stream",
       "stream": "stdout",
       "text": [
        " 94\n",
        "skipped  3\n",
        "406397565\n",
        "processed "
       ]
      },
      {
       "output_type": "stream",
       "stream": "stdout",
       "text": [
        " 95\n",
        "skipped  3\n",
        "406946308\n",
        "processed "
       ]
      },
      {
       "output_type": "stream",
       "stream": "stdout",
       "text": [
        " 96\n",
        "skipped  3\n",
        "407440556\n",
        "processed "
       ]
      },
      {
       "output_type": "stream",
       "stream": "stdout",
       "text": [
        " 97\n",
        "skipped  3\n",
        "408175125\n",
        "processed "
       ]
      },
      {
       "output_type": "stream",
       "stream": "stdout",
       "text": [
        " 98\n",
        "skipped  3\n",
        "408604940\n",
        "processed "
       ]
      },
      {
       "output_type": "stream",
       "stream": "stdout",
       "text": [
        " 99\n",
        "skipped  3\n",
        "408964569\n",
        "processed "
       ]
      },
      {
       "output_type": "stream",
       "stream": "stdout",
       "text": [
        " 100\n",
        "skipped  3\n",
        "409307571\n",
        "processed "
       ]
      },
      {
       "output_type": "stream",
       "stream": "stdout",
       "text": [
        " 101\n",
        "skipped  3\n",
        "409362014\n",
        "processed "
       ]
      },
      {
       "output_type": "stream",
       "stream": "stdout",
       "text": [
        " 102\n",
        "skipped  3\n",
        "410019932\n",
        "processed "
       ]
      },
      {
       "output_type": "stream",
       "stream": "stdout",
       "text": [
        " 103\n",
        "skipped  3\n",
        "410769033\n",
        "processed "
       ]
      },
      {
       "output_type": "stream",
       "stream": "stdout",
       "text": [
        " 104\n",
        "skipped  3\n",
        "410893054\n",
        "processed "
       ]
      },
      {
       "output_type": "stream",
       "stream": "stdout",
       "text": [
        " 105\n",
        "skipped  3\n",
        "411494070\n",
        "processed "
       ]
      },
      {
       "output_type": "stream",
       "stream": "stdout",
       "text": [
        " 106\n",
        "skipped  3\n",
        "412822633\n",
        "processed "
       ]
      },
      {
       "output_type": "stream",
       "stream": "stdout",
       "text": [
        " 107\n",
        "skipped  3\n",
        "412832327\n",
        "processed "
       ]
      },
      {
       "output_type": "stream",
       "stream": "stdout",
       "text": [
        " 108\n",
        "skipped  3\n",
        "413070223\n",
        "processed "
       ]
      },
      {
       "output_type": "stream",
       "stream": "stdout",
       "text": [
        " 109\n",
        "skipped  3\n",
        "413080625\n",
        "processed "
       ]
      },
      {
       "output_type": "stream",
       "stream": "stdout",
       "text": [
        " 110\n",
        "skipped  3\n",
        "413724188\n",
        "processed "
       ]
      },
      {
       "output_type": "stream",
       "stream": "stdout",
       "text": [
        " 111\n",
        "skipped  3\n",
        "413990063\n",
        "processed "
       ]
      },
      {
       "output_type": "stream",
       "stream": "stdout",
       "text": [
        " 112\n",
        "skipped  3\n",
        "414001946\n",
        "processed "
       ]
      },
      {
       "output_type": "stream",
       "stream": "stdout",
       "text": [
        " 113\n",
        "skipped  3\n",
        "414705852\n",
        "processed "
       ]
      },
      {
       "output_type": "stream",
       "stream": "stdout",
       "text": [
        " 114\n",
        "skipped  3\n",
        "414754369\n",
        "processed "
       ]
      },
      {
       "output_type": "stream",
       "stream": "stdout",
       "text": [
        " 115\n",
        "skipped  3\n",
        "414974366\n",
        "processed "
       ]
      },
      {
       "output_type": "stream",
       "stream": "stdout",
       "text": [
        " 116\n",
        "skipped  3\n",
        "415381471\n",
        "processed "
       ]
      },
      {
       "output_type": "stream",
       "stream": "stdout",
       "text": [
        " 117\n",
        "skipped  3\n",
        "415752815\n",
        "processed "
       ]
      },
      {
       "output_type": "stream",
       "stream": "stdout",
       "text": [
        " 118\n",
        "skipped  3\n",
        "415977284\n",
        "processed "
       ]
      },
      {
       "output_type": "stream",
       "stream": "stdout",
       "text": [
        " 119\n",
        "skipped  3\n",
        "416560140\n",
        "processed "
       ]
      },
      {
       "output_type": "stream",
       "stream": "stdout",
       "text": [
        " 120\n",
        "skipped  3\n",
        "416773947\n",
        "processed "
       ]
      },
      {
       "output_type": "stream",
       "stream": "stdout",
       "text": [
        " 121\n",
        "skipped  3\n",
        "416931217\n",
        "processed "
       ]
      },
      {
       "output_type": "stream",
       "stream": "stdout",
       "text": [
        " 122\n",
        "skipped  3\n",
        "417026931\n",
        "processed "
       ]
      },
      {
       "output_type": "stream",
       "stream": "stdout",
       "text": [
        " 123\n",
        "skipped  3\n",
        "417913575\n",
        "processed "
       ]
      },
      {
       "output_type": "stream",
       "stream": "stdout",
       "text": [
        " 124\n",
        "skipped  3\n",
        "418921816\n",
        "processed "
       ]
      },
      {
       "output_type": "stream",
       "stream": "stdout",
       "text": [
        " 125\n",
        "skipped  3\n",
        "419059149\n",
        "processed "
       ]
      },
      {
       "output_type": "stream",
       "stream": "stdout",
       "text": [
        " 126\n",
        "skipped  3\n",
        "419061380\n",
        "processed "
       ]
      },
      {
       "output_type": "stream",
       "stream": "stdout",
       "text": [
        " 127\n",
        "skipped  3\n",
        "419312194\n",
        "processed "
       ]
      },
      {
       "output_type": "stream",
       "stream": "stdout",
       "text": [
        " 128\n",
        "skipped  3\n",
        "419463576\n",
        "processed "
       ]
      },
      {
       "output_type": "stream",
       "stream": "stdout",
       "text": [
        " 129\n",
        "skipped  3\n",
        "419897309\n",
        "processed "
       ]
      },
      {
       "output_type": "stream",
       "stream": "stdout",
       "text": [
        " 130\n",
        "skipped  3\n",
        "420605489\n",
        "processed "
       ]
      },
      {
       "output_type": "stream",
       "stream": "stdout",
       "text": [
        " 131\n",
        "skipped  3\n",
        "420695976\n",
        "processed "
       ]
      },
      {
       "output_type": "stream",
       "stream": "stdout",
       "text": [
        " 132\n",
        "skipped  3\n",
        "420972612\n",
        "processed "
       ]
      },
      {
       "output_type": "stream",
       "stream": "stdout",
       "text": [
        " 133\n",
        "skipped  3\n",
        "421512071\n",
        "processed "
       ]
      },
      {
       "output_type": "stream",
       "stream": "stdout",
       "text": [
        " 134\n",
        "skipped  3\n",
        "421586812\n",
        "processed "
       ]
      },
      {
       "output_type": "stream",
       "stream": "stdout",
       "text": [
        " 135\n",
        "skipped  3\n",
        "421950008\n",
        "processed "
       ]
      },
      {
       "output_type": "stream",
       "stream": "stdout",
       "text": [
        " 136\n",
        "skipped  3\n",
        "422329395\n",
        "processed "
       ]
      },
      {
       "output_type": "stream",
       "stream": "stdout",
       "text": [
        " 137\n",
        "skipped  3\n",
        "423644184\n",
        "processed "
       ]
      },
      {
       "output_type": "stream",
       "stream": "stdout",
       "text": [
        " 138\n",
        "skipped  3\n",
        "423780415\n",
        "processed "
       ]
      },
      {
       "output_type": "stream",
       "stream": "stdout",
       "text": [
        " 139\n",
        "skipped  3\n",
        "423811752\n",
        "processed "
       ]
      },
      {
       "output_type": "stream",
       "stream": "stdout",
       "text": [
        " 140\n",
        "skipped  3\n",
        "423826345\n",
        "processed "
       ]
      },
      {
       "output_type": "stream",
       "stream": "stdout",
       "text": [
        " 141\n",
        "skipped  3\n",
        "426274790\n",
        "processed "
       ]
      },
      {
       "output_type": "stream",
       "stream": "stdout",
       "text": [
        " 142\n",
        "skipped  3\n",
        "426745030\n",
        "processed "
       ]
      },
      {
       "output_type": "stream",
       "stream": "stdout",
       "text": [
        " 143\n",
        "skipped  3\n",
        "426958717\n",
        "processed "
       ]
      },
      {
       "output_type": "stream",
       "stream": "stdout",
       "text": [
        " 144\n",
        "skipped  3\n",
        "427023406\n",
        "processed "
       ]
      },
      {
       "output_type": "stream",
       "stream": "stdout",
       "text": [
        " 145\n",
        "skipped  3\n",
        "427039192\n",
        "processed "
       ]
      },
      {
       "output_type": "stream",
       "stream": "stdout",
       "text": [
        " 146\n",
        "skipped  3\n",
        "427131787\n",
        "processed "
       ]
      },
      {
       "output_type": "stream",
       "stream": "stdout",
       "text": [
        " 147\n",
        "skipped  3\n",
        "427645929\n",
        "processed "
       ]
      },
      {
       "output_type": "stream",
       "stream": "stdout",
       "text": [
        " 148\n",
        "skipped  3\n",
        "427851499\n",
        "processed "
       ]
      },
      {
       "output_type": "stream",
       "stream": "stdout",
       "text": [
        " 149\n",
        "skipped  3\n",
        "428523804\n",
        "processed "
       ]
      },
      {
       "output_type": "stream",
       "stream": "stdout",
       "text": [
        " 150\n",
        "skipped  3\n",
        "429112619\n",
        "processed "
       ]
      },
      {
       "output_type": "stream",
       "stream": "stdout",
       "text": [
        " 151\n",
        "skipped  3\n",
        "429500447\n",
        "processed "
       ]
      },
      {
       "output_type": "stream",
       "stream": "stdout",
       "text": [
        " 152\n",
        "skipped  3\n",
        "429714766\n",
        "processed "
       ]
      },
      {
       "output_type": "stream",
       "stream": "stdout",
       "text": [
        " 153\n",
        "skipped  3\n",
        "429793967\n",
        "processed "
       ]
      },
      {
       "output_type": "stream",
       "stream": "stdout",
       "text": [
        " 154\n",
        "skipped  3\n",
        "430099220\n",
        "processed "
       ]
      },
      {
       "output_type": "stream",
       "stream": "stdout",
       "text": [
        " 155\n",
        "skipped  3\n",
        "430660615\n",
        "processed "
       ]
      },
      {
       "output_type": "stream",
       "stream": "stdout",
       "text": [
        " 156\n",
        "skipped  3\n",
        "431012388\n",
        "processed "
       ]
      },
      {
       "output_type": "stream",
       "stream": "stdout",
       "text": [
        " 157\n",
        "skipped  3\n",
        "431311136\n",
        "processed "
       ]
      },
      {
       "output_type": "stream",
       "stream": "stdout",
       "text": [
        " 158\n",
        "skipped  3\n",
        "431387007\n",
        "processed "
       ]
      },
      {
       "output_type": "stream",
       "stream": "stdout",
       "text": [
        " 159\n",
        "skipped  3\n",
        "431606529\n",
        "processed "
       ]
      },
      {
       "output_type": "stream",
       "stream": "stdout",
       "text": [
        " 160\n",
        "skipped  3\n",
        "431839510\n",
        "processed "
       ]
      },
      {
       "output_type": "stream",
       "stream": "stdout",
       "text": [
        " 161\n",
        "skipped  3\n",
        "431905299\n",
        "processed "
       ]
      },
      {
       "output_type": "stream",
       "stream": "stdout",
       "text": [
        " 162\n",
        "skipped  3\n",
        "432896524\n",
        "processed "
       ]
      },
      {
       "output_type": "stream",
       "stream": "stdout",
       "text": [
        " 163\n",
        "skipped  3\n",
        "432929604\n",
        "processed "
       ]
      },
      {
       "output_type": "stream",
       "stream": "stdout",
       "text": [
        " 164\n",
        "skipped  3\n",
        "433044130\n",
        "processed "
       ]
      },
      {
       "output_type": "stream",
       "stream": "stdout",
       "text": [
        " 165\n",
        "skipped  3\n",
        "434192180\n",
        "processed "
       ]
      },
      {
       "output_type": "stream",
       "stream": "stdout",
       "text": [
        " 166\n",
        "skipped  3\n",
        "434250046\n",
        "processed "
       ]
      },
      {
       "output_type": "stream",
       "stream": "stdout",
       "text": [
        " 167\n",
        "skipped  3\n",
        "434842660\n",
        "processed "
       ]
      },
      {
       "output_type": "stream",
       "stream": "stdout",
       "text": [
        " 168\n",
        "skipped  3\n",
        "435142187\n",
        "processed "
       ]
      },
      {
       "output_type": "stream",
       "stream": "stdout",
       "text": [
        " 169\n",
        "skipped  3\n",
        "435417572\n",
        "processed "
       ]
      },
      {
       "output_type": "stream",
       "stream": "stdout",
       "text": [
        " 170\n",
        "skipped  3\n",
        "435417726\n",
        "processed "
       ]
      },
      {
       "output_type": "stream",
       "stream": "stdout",
       "text": [
        " 171\n",
        "skipped  3\n",
        "435795096\n",
        "processed "
       ]
      },
      {
       "output_type": "stream",
       "stream": "stdout",
       "text": [
        " 172\n",
        "skipped  3\n",
        "436540640\n",
        "processed "
       ]
      },
      {
       "output_type": "stream",
       "stream": "stdout",
       "text": [
        " 173\n",
        "skipped  3\n",
        "436554531\n",
        "processed "
       ]
      },
      {
       "output_type": "stream",
       "stream": "stdout",
       "text": [
        " 174\n",
        "skipped  3\n",
        "437087573\n",
        "processed "
       ]
      },
      {
       "output_type": "stream",
       "stream": "stdout",
       "text": [
        " 175\n",
        "skipped  3\n",
        "437239472\n",
        "processed "
       ]
      },
      {
       "output_type": "stream",
       "stream": "stdout",
       "text": [
        " 176\n",
        "skipped  3\n",
        "437281074\n",
        "processed "
       ]
      },
      {
       "output_type": "stream",
       "stream": "stdout",
       "text": [
        " 177\n",
        "skipped  3\n",
        "437315186\n",
        "processed "
       ]
      },
      {
       "output_type": "stream",
       "stream": "stdout",
       "text": [
        " 178\n",
        "skipped  3\n",
        "437523403\n",
        "processed "
       ]
      },
      {
       "output_type": "stream",
       "stream": "stdout",
       "text": [
        " 179\n",
        "skipped  3\n",
        "437526788\n",
        "processed "
       ]
      },
      {
       "output_type": "stream",
       "stream": "stdout",
       "text": [
        " 180\n",
        "skipped  3\n",
        "438596131\n",
        "processed "
       ]
      },
      {
       "output_type": "stream",
       "stream": "stdout",
       "text": [
        " 181\n",
        "skipped  3\n",
        "438672710\n",
        "processed "
       ]
      },
      {
       "output_type": "stream",
       "stream": "stdout",
       "text": [
        " 182\n",
        "skipped  3\n",
        "439340014\n",
        "processed "
       ]
      },
      {
       "output_type": "stream",
       "stream": "stdout",
       "text": [
        " 183\n",
        "skipped  3\n",
        "439491986\n",
        "processed "
       ]
      },
      {
       "output_type": "stream",
       "stream": "stdout",
       "text": [
        " 184\n",
        "skipped  3\n",
        "439619864\n",
        "processed "
       ]
      },
      {
       "output_type": "stream",
       "stream": "stdout",
       "text": [
        " 185\n",
        "skipped  3\n",
        "439631363\n",
        "processed "
       ]
      },
      {
       "output_type": "stream",
       "stream": "stdout",
       "text": [
        " 186\n",
        "skipped  3\n",
        "440193709\n",
        "processed "
       ]
      },
      {
       "output_type": "stream",
       "stream": "stdout",
       "text": [
        " 187\n",
        "skipped  3\n",
        "440219216\n",
        "processed "
       ]
      },
      {
       "output_type": "stream",
       "stream": "stdout",
       "text": [
        " 188\n",
        "skipped  3\n",
        "440780462\n",
        "processed "
       ]
      },
      {
       "output_type": "stream",
       "stream": "stdout",
       "text": [
        " 189\n",
        "skipped  3\n",
        "441039343\n",
        "processed "
       ]
      },
      {
       "output_type": "stream",
       "stream": "stdout",
       "text": [
        " 190\n",
        "skipped  3\n",
        "441313630\n",
        "processed "
       ]
      },
      {
       "output_type": "stream",
       "stream": "stdout",
       "text": [
        " 191\n",
        "skipped  3\n",
        "441455864\n",
        "processed "
       ]
      },
      {
       "output_type": "stream",
       "stream": "stdout",
       "text": [
        " 192\n",
        "skipped  3\n",
        "441846112\n",
        "processed "
       ]
      },
      {
       "output_type": "stream",
       "stream": "stdout",
       "text": [
        " 193\n",
        "skipped  3\n",
        "442808951\n",
        "processed "
       ]
      },
      {
       "output_type": "stream",
       "stream": "stdout",
       "text": [
        " 194\n",
        "skipped  3\n",
        "442862362\n",
        "processed "
       ]
      },
      {
       "output_type": "stream",
       "stream": "stdout",
       "text": [
        " 195\n",
        "skipped  3\n",
        "443616755\n",
        "processed "
       ]
      },
      {
       "output_type": "stream",
       "stream": "stdout",
       "text": [
        " 196\n",
        "skipped  3\n",
        "444570682\n",
        "processed "
       ]
      },
      {
       "output_type": "stream",
       "stream": "stdout",
       "text": [
        " 197\n",
        "skipped  3\n",
        "444894095\n",
        "processed "
       ]
      },
      {
       "output_type": "stream",
       "stream": "stdout",
       "text": [
        " 198\n",
        "skipped  3\n",
        "445086933\n",
        "processed "
       ]
      },
      {
       "output_type": "stream",
       "stream": "stdout",
       "text": [
        " 199\n",
        "skipped  3\n",
        "445428584\n",
        "processed "
       ]
      },
      {
       "output_type": "stream",
       "stream": "stdout",
       "text": [
        " 200\n",
        "skipped  3\n",
        "445477281\n",
        "processed "
       ]
      },
      {
       "output_type": "stream",
       "stream": "stdout",
       "text": [
        " 201\n",
        "skipped  3\n",
        "446094222\n",
        "processed "
       ]
      },
      {
       "output_type": "stream",
       "stream": "stdout",
       "text": [
        " 202\n",
        "skipped  3\n",
        "446613221\n",
        "processed "
       ]
      },
      {
       "output_type": "stream",
       "stream": "stdout",
       "text": [
        " 203\n",
        "skipped  3\n",
        "447062817\n",
        "processed "
       ]
      },
      {
       "output_type": "stream",
       "stream": "stdout",
       "text": [
        " 204\n",
        "skipped  3\n",
        "447776250\n",
        "processed "
       ]
      },
      {
       "output_type": "stream",
       "stream": "stdout",
       "text": [
        " 205\n",
        "skipped  3\n",
        "448661284\n",
        "processed "
       ]
      },
      {
       "output_type": "stream",
       "stream": "stdout",
       "text": [
        " 206\n",
        "skipped  3\n",
        "448661534\n",
        "processed "
       ]
      },
      {
       "output_type": "stream",
       "stream": "stdout",
       "text": [
        " 207\n",
        "skipped  3\n",
        "448892156\n",
        "processed "
       ]
      },
      {
       "output_type": "stream",
       "stream": "stdout",
       "text": [
        " 208\n",
        "skipped  3\n",
        "448905892\n",
        "processed "
       ]
      },
      {
       "output_type": "stream",
       "stream": "stdout",
       "text": [
        " 209\n",
        "skipped  3\n",
        "449094788\n",
        "processed "
       ]
      },
      {
       "output_type": "stream",
       "stream": "stdout",
       "text": [
        " 210\n",
        "skipped  3\n",
        "449256732\n",
        "processed "
       ]
      },
      {
       "output_type": "stream",
       "stream": "stdout",
       "text": [
        " 211\n",
        "skipped  3\n",
        "450223351\n",
        "processed "
       ]
      },
      {
       "output_type": "stream",
       "stream": "stdout",
       "text": [
        " 212\n",
        "skipped  3\n",
        "450797637\n",
        "processed "
       ]
      },
      {
       "output_type": "stream",
       "stream": "stdout",
       "text": [
        " 213\n",
        "skipped  3\n",
        "452232437\n",
        "processed "
       ]
      },
      {
       "output_type": "stream",
       "stream": "stdout",
       "text": [
        " 214\n",
        "skipped  3\n",
        "453272806\n",
        "processed "
       ]
      },
      {
       "output_type": "stream",
       "stream": "stdout",
       "text": [
        " 215\n",
        "skipped  3\n",
        "454046798\n",
        "processed "
       ]
      },
      {
       "output_type": "stream",
       "stream": "stdout",
       "text": [
        " 216\n",
        "skipped  3\n",
        "454492602\n",
        "processed "
       ]
      },
      {
       "output_type": "stream",
       "stream": "stdout",
       "text": [
        " 217\n",
        "skipped  3\n",
        "455066382\n",
        "processed "
       ]
      },
      {
       "output_type": "stream",
       "stream": "stdout",
       "text": [
        " 218\n",
        "skipped  3\n",
        "455593030\n",
        "processed "
       ]
      },
      {
       "output_type": "stream",
       "stream": "stdout",
       "text": [
        " 219\n",
        "skipped  3\n",
        "456789442\n",
        "processed "
       ]
      },
      {
       "output_type": "stream",
       "stream": "stdout",
       "text": [
        " 220\n",
        "skipped  3\n",
        "457113351\n",
        "processed "
       ]
      },
      {
       "output_type": "stream",
       "stream": "stdout",
       "text": [
        " 221\n",
        "skipped  3\n",
        "457749321\n",
        "processed "
       ]
      },
      {
       "output_type": "stream",
       "stream": "stdout",
       "text": [
        " 222\n",
        "skipped  3\n",
        "457918791\n",
        "processed "
       ]
      },
      {
       "output_type": "stream",
       "stream": "stdout",
       "text": [
        " 223\n",
        "skipped  3\n",
        "457945604\n",
        "processed "
       ]
      },
      {
       "output_type": "stream",
       "stream": "stdout",
       "text": [
        " 224\n",
        "skipped  3\n",
        "458053172\n",
        "processed "
       ]
      },
      {
       "output_type": "stream",
       "stream": "stdout",
       "text": [
        " 225\n",
        "skipped  3\n",
        "458710845\n",
        "processed "
       ]
      },
      {
       "output_type": "stream",
       "stream": "stdout",
       "text": [
        " 226\n",
        "skipped  3\n",
        "459297373\n",
        "processed "
       ]
      },
      {
       "output_type": "stream",
       "stream": "stdout",
       "text": [
        " 227\n",
        "skipped  3\n",
        "459314297\n",
        "processed "
       ]
      },
      {
       "output_type": "stream",
       "stream": "stdout",
       "text": [
        " 228\n",
        "skipped  3\n",
        "459678712\n",
        "processed "
       ]
      },
      {
       "output_type": "stream",
       "stream": "stdout",
       "text": [
        " 229\n",
        "skipped  3\n",
        "459731765\n",
        "processed "
       ]
      },
      {
       "output_type": "stream",
       "stream": "stdout",
       "text": [
        " 230\n",
        "skipped  3\n",
        "461252885\n",
        "processed "
       ]
      },
      {
       "output_type": "stream",
       "stream": "stdout",
       "text": [
        " 231\n",
        "skipped  3\n",
        "462404061\n",
        "processed "
       ]
      },
      {
       "output_type": "stream",
       "stream": "stdout",
       "text": [
        " 232\n",
        "skipped  3\n",
        "462983422\n",
        "processed "
       ]
      },
      {
       "output_type": "stream",
       "stream": "stdout",
       "text": [
        " 233\n",
        "skipped  3\n",
        "463954045\n",
        "processed "
       ]
      },
      {
       "output_type": "stream",
       "stream": "stdout",
       "text": [
        " 234\n",
        "skipped  3\n",
        "464270345\n",
        "processed "
       ]
      },
      {
       "output_type": "stream",
       "stream": "stdout",
       "text": [
        " 235\n",
        "skipped  3\n",
        "465068895\n",
        "processed "
       ]
      },
      {
       "output_type": "stream",
       "stream": "stdout",
       "text": [
        " 236\n",
        "skipped  3\n",
        "465090983\n",
        "processed "
       ]
      },
      {
       "output_type": "stream",
       "stream": "stdout",
       "text": [
        " 237\n",
        "skipped  3\n",
        "466804114\n",
        "processed "
       ]
      },
      {
       "output_type": "stream",
       "stream": "stdout",
       "text": [
        " 238\n",
        "skipped  3\n",
        "467150362\n",
        "processed "
       ]
      },
      {
       "output_type": "stream",
       "stream": "stdout",
       "text": [
        " 239\n",
        "skipped  3\n",
        "468568475\n",
        "processed "
       ]
      },
      {
       "output_type": "stream",
       "stream": "stdout",
       "text": [
        " 240\n",
        "skipped  3\n",
        "468788039\n",
        "processed "
       ]
      },
      {
       "output_type": "stream",
       "stream": "stdout",
       "text": [
        " 241\n",
        "skipped  3\n",
        "468996262\n",
        "processed "
       ]
      },
      {
       "output_type": "stream",
       "stream": "stdout",
       "text": [
        " 242\n",
        "skipped  3\n",
        "469058922\n",
        "processed "
       ]
      },
      {
       "output_type": "stream",
       "stream": "stdout",
       "text": [
        " 243\n",
        "skipped  3\n",
        "470488107\n",
        "processed "
       ]
      },
      {
       "output_type": "stream",
       "stream": "stdout",
       "text": [
        " 244\n",
        "skipped  3\n",
        "473138193\n",
        "processed "
       ]
      },
      {
       "output_type": "stream",
       "stream": "stdout",
       "text": [
        " 245\n",
        "skipped  3\n",
        "474060840\n",
        "processed "
       ]
      },
      {
       "output_type": "stream",
       "stream": "stdout",
       "text": [
        " 246\n",
        "skipped  3\n",
        "474649098\n",
        "processed "
       ]
      },
      {
       "output_type": "stream",
       "stream": "stdout",
       "text": [
        " 247\n",
        "skipped  3\n",
        "474891663\n",
        "processed "
       ]
      },
      {
       "output_type": "stream",
       "stream": "stdout",
       "text": [
        " 248\n",
        "skipped  3\n",
        "475232740\n",
        "processed "
       ]
      },
      {
       "output_type": "stream",
       "stream": "stdout",
       "text": [
        " 249\n",
        "skipped  3\n",
        "475489411\n",
        "processed "
       ]
      },
      {
       "output_type": "stream",
       "stream": "stdout",
       "text": [
        " 250\n",
        "skipped  3\n",
        "475550192\n",
        "processed "
       ]
      },
      {
       "output_type": "stream",
       "stream": "stdout",
       "text": [
        " 251\n",
        "skipped  3\n",
        "475842962\n",
        "processed "
       ]
      },
      {
       "output_type": "stream",
       "stream": "stdout",
       "text": [
        " 252\n",
        "skipped  3\n",
        "476050916\n",
        "processed "
       ]
      },
      {
       "output_type": "stream",
       "stream": "stdout",
       "text": [
        " 253\n",
        "skipped  3\n",
        "476079482\n",
        "processed "
       ]
      },
      {
       "output_type": "stream",
       "stream": "stdout",
       "text": [
        " 254\n",
        "skipped  3\n",
        "476189164\n",
        "processed "
       ]
      },
      {
       "output_type": "stream",
       "stream": "stdout",
       "text": [
        " 255\n",
        "skipped  3\n",
        "476365487\n",
        "processed "
       ]
      },
      {
       "output_type": "stream",
       "stream": "stdout",
       "text": [
        " 256\n",
        "skipped  3\n",
        "476850484\n",
        "processed "
       ]
      },
      {
       "output_type": "stream",
       "stream": "stdout",
       "text": [
        " 257\n",
        "skipped  3\n",
        "476936059\n",
        "processed "
       ]
      },
      {
       "output_type": "stream",
       "stream": "stdout",
       "text": [
        " 258\n",
        "skipped  3\n",
        "476962103\n",
        "processed "
       ]
      },
      {
       "output_type": "stream",
       "stream": "stdout",
       "text": [
        " 259\n",
        "skipped  3\n",
        "477126381\n",
        "processed "
       ]
      },
      {
       "output_type": "stream",
       "stream": "stdout",
       "text": [
        " 260\n",
        "skipped  3\n",
        "477171081\n",
        "processed "
       ]
      },
      {
       "output_type": "stream",
       "stream": "stdout",
       "text": [
        " 261\n",
        "skipped  3\n",
        "477673129\n",
        "processed "
       ]
      },
      {
       "output_type": "stream",
       "stream": "stdout",
       "text": [
        " 262\n",
        "skipped  3\n",
        "477798748\n",
        "processed "
       ]
      },
      {
       "output_type": "stream",
       "stream": "stdout",
       "text": [
        " 263\n",
        "skipped  3\n",
        "477850182\n",
        "processed "
       ]
      },
      {
       "output_type": "stream",
       "stream": "stdout",
       "text": [
        " 264\n",
        "skipped  3\n",
        "478307074\n",
        "processed "
       ]
      },
      {
       "output_type": "stream",
       "stream": "stdout",
       "text": [
        " 265\n",
        "skipped  3\n",
        "478793359\n",
        "processed "
       ]
      },
      {
       "output_type": "stream",
       "stream": "stdout",
       "text": [
        " 266\n",
        "skipped  3\n",
        "479262110\n",
        "processed "
       ]
      },
      {
       "output_type": "stream",
       "stream": "stdout",
       "text": [
        " 267\n",
        "skipped  3\n",
        "479410656\n",
        "processed "
       ]
      },
      {
       "output_type": "stream",
       "stream": "stdout",
       "text": [
        " 268\n",
        "skipped  3\n",
        "480072496\n",
        "processed "
       ]
      },
      {
       "output_type": "stream",
       "stream": "stdout",
       "text": [
        " 269\n",
        "skipped  3\n",
        "480080971\n",
        "processed "
       ]
      },
      {
       "output_type": "stream",
       "stream": "stdout",
       "text": [
        " 270\n",
        "skipped  3\n",
        "480850060\n",
        "processed "
       ]
      },
      {
       "output_type": "stream",
       "stream": "stdout",
       "text": [
        " 271\n",
        "skipped  3\n",
        "480965210\n",
        "processed "
       ]
      },
      {
       "output_type": "stream",
       "stream": "stdout",
       "text": [
        " 272\n",
        "skipped  3\n",
        "481064362\n",
        "processed "
       ]
      },
      {
       "output_type": "stream",
       "stream": "stdout",
       "text": [
        " 273\n",
        "skipped  3\n",
        "481747325\n",
        "processed "
       ]
      },
      {
       "output_type": "stream",
       "stream": "stdout",
       "text": [
        " 274\n",
        "skipped  3\n",
        "481956983\n",
        "processed "
       ]
      },
      {
       "output_type": "stream",
       "stream": "stdout",
       "text": [
        " 275\n",
        "skipped  3\n",
        "481995599\n",
        "processed "
       ]
      },
      {
       "output_type": "stream",
       "stream": "stdout",
       "text": [
        " 276\n",
        "skipped  3\n",
        "482339280\n",
        "processed "
       ]
      },
      {
       "output_type": "stream",
       "stream": "stdout",
       "text": [
        " 277\n",
        "skipped  3\n",
        "482455316\n",
        "processed "
       ]
      },
      {
       "output_type": "stream",
       "stream": "stdout",
       "text": [
        " 278\n",
        "skipped  3\n",
        "482905957\n",
        "processed "
       ]
      },
      {
       "output_type": "stream",
       "stream": "stdout",
       "text": [
        " 279\n",
        "skipped  3\n",
        "483167965\n",
        "processed "
       ]
      },
      {
       "output_type": "stream",
       "stream": "stdout",
       "text": [
        " 280\n",
        "skipped  3\n",
        "483933348\n",
        "processed "
       ]
      },
      {
       "output_type": "stream",
       "stream": "stdout",
       "text": [
        " 281\n",
        "skipped  3\n",
        "484173730\n",
        "processed "
       ]
      },
      {
       "output_type": "stream",
       "stream": "stdout",
       "text": [
        " 282\n",
        "skipped  3\n",
        "484469651\n",
        "processed "
       ]
      },
      {
       "output_type": "stream",
       "stream": "stdout",
       "text": [
        " 283\n",
        "skipped  3\n",
        "485257678\n",
        "processed "
       ]
      },
      {
       "output_type": "stream",
       "stream": "stdout",
       "text": [
        " 284\n",
        "skipped  3\n",
        "485289153\n",
        "processed "
       ]
      },
      {
       "output_type": "stream",
       "stream": "stdout",
       "text": [
        " 285\n",
        "skipped  3\n",
        "485312050\n",
        "processed "
       ]
      },
      {
       "output_type": "stream",
       "stream": "stdout",
       "text": [
        " 286\n",
        "skipped  3\n",
        "485772601\n",
        "processed "
       ]
      },
      {
       "output_type": "stream",
       "stream": "stdout",
       "text": [
        " 287\n",
        "skipped  3\n",
        "485874387\n",
        "processed "
       ]
      },
      {
       "output_type": "stream",
       "stream": "stdout",
       "text": [
        " 288\n",
        "skipped  3\n",
        "486956929\n",
        "processed "
       ]
      },
      {
       "output_type": "stream",
       "stream": "stdout",
       "text": [
        " 289\n",
        "skipped  3\n",
        "486963918\n",
        "processed "
       ]
      },
      {
       "output_type": "stream",
       "stream": "stdout",
       "text": [
        " 290\n",
        "skipped  3\n",
        "486975782\n",
        "processed "
       ]
      },
      {
       "output_type": "stream",
       "stream": "stdout",
       "text": [
        " 291\n",
        "skipped  3\n",
        "487099193\n",
        "processed "
       ]
      },
      {
       "output_type": "stream",
       "stream": "stdout",
       "text": [
        " 292\n",
        "skipped  3\n",
        "487930345\n",
        "processed "
       ]
      },
      {
       "output_type": "stream",
       "stream": "stdout",
       "text": [
        " 293\n",
        "skipped  3\n",
        "487938684\n",
        "processed "
       ]
      },
      {
       "output_type": "stream",
       "stream": "stdout",
       "text": [
        " 294\n",
        "skipped  3\n",
        "488325235\n",
        "processed "
       ]
      },
      {
       "output_type": "stream",
       "stream": "stdout",
       "text": [
        " 295\n",
        "skipped  3\n",
        "489427373\n",
        "processed "
       ]
      },
      {
       "output_type": "stream",
       "stream": "stdout",
       "text": [
        " 296\n",
        "skipped  3\n",
        "489785301\n",
        "processed "
       ]
      },
      {
       "output_type": "stream",
       "stream": "stdout",
       "text": [
        " 297\n",
        "skipped  3\n",
        "490000422\n",
        "processed "
       ]
      },
      {
       "output_type": "stream",
       "stream": "stdout",
       "text": [
        " 298\n",
        "skipped  3\n",
        "491390357\n",
        "processed "
       ]
      },
      {
       "output_type": "stream",
       "stream": "stdout",
       "text": [
        " 299\n",
        "skipped  3\n",
        "491394627\n",
        "processed "
       ]
      },
      {
       "output_type": "stream",
       "stream": "stdout",
       "text": [
        " 300\n",
        "skipped  3\n",
        "491580307\n",
        "processed "
       ]
      },
      {
       "output_type": "stream",
       "stream": "stdout",
       "text": [
        " 301\n",
        "skipped  3\n",
        "491868589\n",
        "error on download491868589"
       ]
      },
      {
       "output_type": "stream",
       "stream": "stderr",
       "text": [
        "  File \"<ipython-input-41-0e1172e16ab4>\", line 11, in <module>\n",
        "    res = comp_extractors( extractor_training_object )\n",
        "  File \"<ipython-input-23-91249bf1c046>\", line 19, in comp_extractors\n",
        "    extraction_results = get_extraction_results( eto )\n",
        "  File \"<ipython-input-22-35bdc612153c>\", line 11, in get_extraction_results\n",
        "    ret['py_goose']  = { 'extracted_html': extract_with_python_goose( raw_content ) }\n",
        "  File \"<ipython-input-9-da7d07f83e6d>\", line 6, in extract_with_python_goose\n",
        "    r = g.extract( raw_html=raw_content )\n",
        "  File \"/usr/local/lib/python2.7/dist-packages/goose/__init__.py\", line 56, in extract\n",
        "    return self.crawl(cc)\n",
        "  File \"/usr/local/lib/python2.7/dist-packages/goose/__init__.py\", line 63, in crawl\n",
        "    article = crawler.crawl(crawl_candiate)\n",
        "  File \"/usr/local/lib/python2.7/dist-packages/goose/crawler.py\", line 131, in crawl\n",
        "    self.article.cleaned_text = self.formatter.get_formatted_text()\n",
        "  File \"/usr/local/lib/python2.7/dist-packages/goose/outputformatters.py\", line 66, in get_formatted_text\n",
        "    self.remove_fewwords_paragraphs()\n",
        "  File \"/usr/local/lib/python2.7/dist-packages/goose/outputformatters.py\", line 123, in remove_fewwords_paragraphs\n",
        "    stop_words = self.stopwords_class(language=self.get_language()).get_stopword_count(text)\n",
        "  File \"/usr/local/lib/python2.7/dist-packages/goose/text.py\", line 98, in __init__\n",
        "    self._cached_stop_words[language] = set(FileHelper.loadResourceFile(path).splitlines())\n",
        "  File \"/usr/local/lib/python2.7/dist-packages/goose/utils/__init__.py\", line 79, in loadResourceFile\n",
        "    raise IOError(\"Couldn't open file %s\" % path)\n",
        "IOError: Couldn't open file /usr/local/lib/python2.7/dist-packages/goose/resources/text/stopwords-po.txt\n",
        "Traceback (most recent call last):\n"
       ]
      },
      {
       "output_type": "stream",
       "stream": "stdout",
       "text": [
        "\n",
        "(<class 'lxml.etree.XMLSyntaxError'>, XMLSyntaxError(u'line 1092: htmlParseEntityRef: no name',), <traceback object at 0x7f564ececb90>)\n",
        "processed  301\n",
        "skipped  4\n",
        "492035281\n",
        "error on download492035281"
       ]
      },
      {
       "output_type": "stream",
       "stream": "stderr",
       "text": [
        "  File \"<ipython-input-41-0e1172e16ab4>\", line 11, in <module>\n",
        "    res = comp_extractors( extractor_training_object )\n",
        "  File \"<ipython-input-23-91249bf1c046>\", line 19, in comp_extractors\n",
        "    extraction_results = get_extraction_results( eto )\n",
        "  File \"<ipython-input-22-35bdc612153c>\", line 10, in get_extraction_results\n",
        "    ret['python_readibilty'] = { 'extracted_html': extract_with_python_readability( raw_content ) }\n",
        "  File \"<ipython-input-8-5916dff6f29a>\", line 6, in extract_with_python_readability\n",
        "    return doc.short_title() + \"\\n\\n\" + doc.summary()\n",
        "  File \"/usr/local/lib/python2.7/dist-packages/readability/readability.py\", line 139, in short_title\n",
        "    return shorten_title(self._html(True))\n",
        "  File \"/usr/local/lib/python2.7/dist-packages/readability/readability.py\", line 119, in _html\n",
        "    self.html = self._parse(self.input)\n",
        "  File \"/usr/local/lib/python2.7/dist-packages/readability/readability.py\", line 123, in _parse\n",
        "    doc, self.encoding = build_doc(input)\n",
        "  File \"/usr/local/lib/python2.7/dist-packages/readability/htmls.py\", line 17, in build_doc\n",
        "    doc = lxml.html.document_fromstring(page_unicode.encode('utf-8', 'replace'), parser=utf8_parser)\n",
        "  File \"/usr/local/lib/python2.7/dist-packages/lxml/html/__init__.py\", line 568, in document_fromstring\n",
        "    value = etree.fromstring(html, parser, **kw)\n",
        "  File \"lxml.etree.pyx\", line 2997, in lxml.etree.fromstring (src/lxml/lxml.etree.c:63276)\n",
        "  File \"parser.pxi\", line 1617, in lxml.etree._parseMemoryDocument (src/lxml/lxml.etree.c:93691)\n",
        "  File \"parser.pxi\", line 1495, in lxml.etree._parseDoc (src/lxml/lxml.etree.c:92490)\n",
        "  File \"parser.pxi\", line 1011, in lxml.etree._BaseParser._parseDoc (src/lxml/lxml.etree.c:89130)\n",
        "  File \"parser.pxi\", line 577, in lxml.etree._ParserContext._handleParseResultDoc (src/lxml/lxml.etree.c:84831)\n",
        "  File \"parser.pxi\", line 676, in lxml.etree._handleParseResult (src/lxml/lxml.etree.c:85936)\n",
        "  File \"parser.pxi\", line 625, in lxml.etree._raiseParseError (src/lxml/lxml.etree.c:85392)\n",
        "XMLSyntaxError: line 1092: htmlParseEntityRef: no name\n",
        "Traceback (most recent call last):\n"
       ]
      },
      {
       "output_type": "stream",
       "stream": "stdout",
       "text": [
        "\n",
        "(<class 'lxml.etree.XMLSyntaxError'>, XMLSyntaxError(u'line 1092: htmlParseEntityRef: no name',), <traceback object at 0x7f564ec9f950>)\n",
        "processed  301\n",
        "skipped  5\n",
        "492212969\n",
        "error on download492212969"
       ]
      },
      {
       "output_type": "stream",
       "stream": "stderr",
       "text": [
        "  File \"<ipython-input-41-0e1172e16ab4>\", line 11, in <module>\n",
        "    res = comp_extractors( extractor_training_object )\n",
        "  File \"<ipython-input-23-91249bf1c046>\", line 19, in comp_extractors\n",
        "    extraction_results = get_extraction_results( eto )\n",
        "  File \"<ipython-input-22-35bdc612153c>\", line 10, in get_extraction_results\n",
        "    ret['python_readibilty'] = { 'extracted_html': extract_with_python_readability( raw_content ) }\n",
        "  File \"<ipython-input-8-5916dff6f29a>\", line 6, in extract_with_python_readability\n",
        "    return doc.short_title() + \"\\n\\n\" + doc.summary()\n",
        "  File \"/usr/local/lib/python2.7/dist-packages/readability/readability.py\", line 139, in short_title\n",
        "    return shorten_title(self._html(True))\n",
        "  File \"/usr/local/lib/python2.7/dist-packages/readability/readability.py\", line 119, in _html\n",
        "    self.html = self._parse(self.input)\n",
        "  File \"/usr/local/lib/python2.7/dist-packages/readability/readability.py\", line 123, in _parse\n",
        "    doc, self.encoding = build_doc(input)\n",
        "  File \"/usr/local/lib/python2.7/dist-packages/readability/htmls.py\", line 17, in build_doc\n",
        "    doc = lxml.html.document_fromstring(page_unicode.encode('utf-8', 'replace'), parser=utf8_parser)\n",
        "  File \"/usr/local/lib/python2.7/dist-packages/lxml/html/__init__.py\", line 568, in document_fromstring\n",
        "    value = etree.fromstring(html, parser, **kw)\n",
        "  File \"lxml.etree.pyx\", line 2997, in lxml.etree.fromstring (src/lxml/lxml.etree.c:63276)\n",
        "  File \"parser.pxi\", line 1617, in lxml.etree._parseMemoryDocument (src/lxml/lxml.etree.c:93691)\n",
        "  File \"parser.pxi\", line 1495, in lxml.etree._parseDoc (src/lxml/lxml.etree.c:92490)\n",
        "  File \"parser.pxi\", line 1011, in lxml.etree._BaseParser._parseDoc (src/lxml/lxml.etree.c:89130)\n",
        "  File \"parser.pxi\", line 577, in lxml.etree._ParserContext._handleParseResultDoc (src/lxml/lxml.etree.c:84831)\n",
        "  File \"parser.pxi\", line 676, in lxml.etree._handleParseResult (src/lxml/lxml.etree.c:85936)\n",
        "  File \"parser.pxi\", line 625, in lxml.etree._raiseParseError (src/lxml/lxml.etree.c:85392)\n",
        "XMLSyntaxError: line 1092: htmlParseEntityRef: no name\n",
        "Traceback (most recent call last):\n"
       ]
      },
      {
       "output_type": "stream",
       "stream": "stdout",
       "text": [
        "\n",
        "(<class 'lxml.etree.XMLSyntaxError'>, XMLSyntaxError(u'line 1092: htmlParseEntityRef: no name',), <traceback object at 0x7f564ec9fdd0>)\n",
        "processed  301\n",
        "skipped  6\n",
        "492220330\n",
        "error on download492220330"
       ]
      },
      {
       "output_type": "stream",
       "stream": "stderr",
       "text": [
        "  File \"<ipython-input-41-0e1172e16ab4>\", line 11, in <module>\n",
        "    res = comp_extractors( extractor_training_object )\n",
        "  File \"<ipython-input-23-91249bf1c046>\", line 19, in comp_extractors\n",
        "    extraction_results = get_extraction_results( eto )\n",
        "  File \"<ipython-input-22-35bdc612153c>\", line 10, in get_extraction_results\n",
        "    ret['python_readibilty'] = { 'extracted_html': extract_with_python_readability( raw_content ) }\n",
        "  File \"<ipython-input-8-5916dff6f29a>\", line 6, in extract_with_python_readability\n",
        "    return doc.short_title() + \"\\n\\n\" + doc.summary()\n",
        "  File \"/usr/local/lib/python2.7/dist-packages/readability/readability.py\", line 139, in short_title\n",
        "    return shorten_title(self._html(True))\n",
        "  File \"/usr/local/lib/python2.7/dist-packages/readability/readability.py\", line 119, in _html\n",
        "    self.html = self._parse(self.input)\n",
        "  File \"/usr/local/lib/python2.7/dist-packages/readability/readability.py\", line 123, in _parse\n",
        "    doc, self.encoding = build_doc(input)\n",
        "  File \"/usr/local/lib/python2.7/dist-packages/readability/htmls.py\", line 17, in build_doc\n",
        "    doc = lxml.html.document_fromstring(page_unicode.encode('utf-8', 'replace'), parser=utf8_parser)\n",
        "  File \"/usr/local/lib/python2.7/dist-packages/lxml/html/__init__.py\", line 568, in document_fromstring\n",
        "    value = etree.fromstring(html, parser, **kw)\n",
        "  File \"lxml.etree.pyx\", line 2997, in lxml.etree.fromstring (src/lxml/lxml.etree.c:63276)\n",
        "  File \"parser.pxi\", line 1617, in lxml.etree._parseMemoryDocument (src/lxml/lxml.etree.c:93691)\n",
        "  File \"parser.pxi\", line 1495, in lxml.etree._parseDoc (src/lxml/lxml.etree.c:92490)\n",
        "  File \"parser.pxi\", line 1011, in lxml.etree._BaseParser._parseDoc (src/lxml/lxml.etree.c:89130)\n",
        "  File \"parser.pxi\", line 577, in lxml.etree._ParserContext._handleParseResultDoc (src/lxml/lxml.etree.c:84831)\n",
        "  File \"parser.pxi\", line 676, in lxml.etree._handleParseResult (src/lxml/lxml.etree.c:85936)\n",
        "  File \"parser.pxi\", line 625, in lxml.etree._raiseParseError (src/lxml/lxml.etree.c:85392)\n",
        "XMLSyntaxError: line 1092: htmlParseEntityRef: no name\n",
        "Traceback (most recent call last):\n"
       ]
      },
      {
       "output_type": "stream",
       "stream": "stdout",
       "text": [
        "\n",
        "(<class 'lxml.etree.XMLSyntaxError'>, XMLSyntaxError(u'line 1092: htmlParseEntityRef: no name',), <traceback object at 0x7f564ecac290>)\n",
        "processed  301\n",
        "skipped  7\n",
        "492825637\n",
        "error on download492825637"
       ]
      },
      {
       "output_type": "stream",
       "stream": "stderr",
       "text": [
        "  File \"<ipython-input-41-0e1172e16ab4>\", line 11, in <module>\n",
        "    res = comp_extractors( extractor_training_object )\n",
        "  File \"<ipython-input-23-91249bf1c046>\", line 19, in comp_extractors\n",
        "    extraction_results = get_extraction_results( eto )\n",
        "  File \"<ipython-input-22-35bdc612153c>\", line 10, in get_extraction_results\n",
        "    ret['python_readibilty'] = { 'extracted_html': extract_with_python_readability( raw_content ) }\n",
        "  File \"<ipython-input-8-5916dff6f29a>\", line 6, in extract_with_python_readability\n",
        "    return doc.short_title() + \"\\n\\n\" + doc.summary()\n",
        "  File \"/usr/local/lib/python2.7/dist-packages/readability/readability.py\", line 139, in short_title\n",
        "    return shorten_title(self._html(True))\n",
        "  File \"/usr/local/lib/python2.7/dist-packages/readability/readability.py\", line 119, in _html\n",
        "    self.html = self._parse(self.input)\n",
        "  File \"/usr/local/lib/python2.7/dist-packages/readability/readability.py\", line 123, in _parse\n",
        "    doc, self.encoding = build_doc(input)\n",
        "  File \"/usr/local/lib/python2.7/dist-packages/readability/htmls.py\", line 17, in build_doc\n",
        "    doc = lxml.html.document_fromstring(page_unicode.encode('utf-8', 'replace'), parser=utf8_parser)\n",
        "  File \"/usr/local/lib/python2.7/dist-packages/lxml/html/__init__.py\", line 568, in document_fromstring\n",
        "    value = etree.fromstring(html, parser, **kw)\n",
        "  File \"lxml.etree.pyx\", line 2997, in lxml.etree.fromstring (src/lxml/lxml.etree.c:63276)\n",
        "  File \"parser.pxi\", line 1617, in lxml.etree._parseMemoryDocument (src/lxml/lxml.etree.c:93691)\n",
        "  File \"parser.pxi\", line 1495, in lxml.etree._parseDoc (src/lxml/lxml.etree.c:92490)\n",
        "  File \"parser.pxi\", line 1011, in lxml.etree._BaseParser._parseDoc (src/lxml/lxml.etree.c:89130)\n",
        "  File \"parser.pxi\", line 577, in lxml.etree._ParserContext._handleParseResultDoc (src/lxml/lxml.etree.c:84831)\n",
        "  File \"parser.pxi\", line 676, in lxml.etree._handleParseResult (src/lxml/lxml.etree.c:85936)\n",
        "  File \"parser.pxi\", line 625, in lxml.etree._raiseParseError (src/lxml/lxml.etree.c:85392)\n",
        "XMLSyntaxError: line 1092: htmlParseEntityRef: no name\n",
        "Traceback (most recent call last):\n"
       ]
      },
      {
       "output_type": "stream",
       "stream": "stdout",
       "text": [
        "\n",
        "(<class 'lxml.etree.XMLSyntaxError'>, XMLSyntaxError(u'line 1092: htmlParseEntityRef: no name',), <traceback object at 0x7f564ecac710>)\n",
        "processed  301\n",
        "skipped  8\n",
        "492998487\n",
        "error on download492998487"
       ]
      },
      {
       "output_type": "stream",
       "stream": "stderr",
       "text": [
        "  File \"<ipython-input-41-0e1172e16ab4>\", line 11, in <module>\n",
        "    res = comp_extractors( extractor_training_object )\n",
        "  File \"<ipython-input-23-91249bf1c046>\", line 19, in comp_extractors\n",
        "    extraction_results = get_extraction_results( eto )\n",
        "  File \"<ipython-input-22-35bdc612153c>\", line 10, in get_extraction_results\n",
        "    ret['python_readibilty'] = { 'extracted_html': extract_with_python_readability( raw_content ) }\n",
        "  File \"<ipython-input-8-5916dff6f29a>\", line 6, in extract_with_python_readability\n",
        "    return doc.short_title() + \"\\n\\n\" + doc.summary()\n",
        "  File \"/usr/local/lib/python2.7/dist-packages/readability/readability.py\", line 139, in short_title\n",
        "    return shorten_title(self._html(True))\n",
        "  File \"/usr/local/lib/python2.7/dist-packages/readability/readability.py\", line 119, in _html\n",
        "    self.html = self._parse(self.input)\n",
        "  File \"/usr/local/lib/python2.7/dist-packages/readability/readability.py\", line 123, in _parse\n",
        "    doc, self.encoding = build_doc(input)\n",
        "  File \"/usr/local/lib/python2.7/dist-packages/readability/htmls.py\", line 17, in build_doc\n",
        "    doc = lxml.html.document_fromstring(page_unicode.encode('utf-8', 'replace'), parser=utf8_parser)\n",
        "  File \"/usr/local/lib/python2.7/dist-packages/lxml/html/__init__.py\", line 568, in document_fromstring\n",
        "    value = etree.fromstring(html, parser, **kw)\n",
        "  File \"lxml.etree.pyx\", line 2997, in lxml.etree.fromstring (src/lxml/lxml.etree.c:63276)\n",
        "  File \"parser.pxi\", line 1617, in lxml.etree._parseMemoryDocument (src/lxml/lxml.etree.c:93691)\n",
        "  File \"parser.pxi\", line 1495, in lxml.etree._parseDoc (src/lxml/lxml.etree.c:92490)\n",
        "  File \"parser.pxi\", line 1011, in lxml.etree._BaseParser._parseDoc (src/lxml/lxml.etree.c:89130)\n",
        "  File \"parser.pxi\", line 577, in lxml.etree._ParserContext._handleParseResultDoc (src/lxml/lxml.etree.c:84831)\n",
        "  File \"parser.pxi\", line 676, in lxml.etree._handleParseResult (src/lxml/lxml.etree.c:85936)\n",
        "  File \"parser.pxi\", line 625, in lxml.etree._raiseParseError (src/lxml/lxml.etree.c:85392)\n",
        "XMLSyntaxError: line 1092: htmlParseEntityRef: no name\n",
        "Traceback (most recent call last):\n"
       ]
      },
      {
       "output_type": "stream",
       "stream": "stdout",
       "text": [
        "\n",
        "(<class 'lxml.etree.XMLSyntaxError'>, XMLSyntaxError(u'line 1092: htmlParseEntityRef: no name',), <traceback object at 0x7f564ecacb90>)\n",
        "processed  301\n",
        "skipped  9\n",
        "493395197\n",
        "error on download493395197"
       ]
      },
      {
       "output_type": "stream",
       "stream": "stderr",
       "text": [
        "  File \"<ipython-input-41-0e1172e16ab4>\", line 11, in <module>\n",
        "    res = comp_extractors( extractor_training_object )\n",
        "  File \"<ipython-input-23-91249bf1c046>\", line 19, in comp_extractors\n",
        "    extraction_results = get_extraction_results( eto )\n",
        "  File \"<ipython-input-22-35bdc612153c>\", line 10, in get_extraction_results\n",
        "    ret['python_readibilty'] = { 'extracted_html': extract_with_python_readability( raw_content ) }\n",
        "  File \"<ipython-input-8-5916dff6f29a>\", line 6, in extract_with_python_readability\n",
        "    return doc.short_title() + \"\\n\\n\" + doc.summary()\n",
        "  File \"/usr/local/lib/python2.7/dist-packages/readability/readability.py\", line 139, in short_title\n",
        "    return shorten_title(self._html(True))\n",
        "  File \"/usr/local/lib/python2.7/dist-packages/readability/readability.py\", line 119, in _html\n",
        "    self.html = self._parse(self.input)\n",
        "  File \"/usr/local/lib/python2.7/dist-packages/readability/readability.py\", line 123, in _parse\n",
        "    doc, self.encoding = build_doc(input)\n",
        "  File \"/usr/local/lib/python2.7/dist-packages/readability/htmls.py\", line 17, in build_doc\n",
        "    doc = lxml.html.document_fromstring(page_unicode.encode('utf-8', 'replace'), parser=utf8_parser)\n",
        "  File \"/usr/local/lib/python2.7/dist-packages/lxml/html/__init__.py\", line 568, in document_fromstring\n",
        "    value = etree.fromstring(html, parser, **kw)\n",
        "  File \"lxml.etree.pyx\", line 2997, in lxml.etree.fromstring (src/lxml/lxml.etree.c:63276)\n",
        "  File \"parser.pxi\", line 1617, in lxml.etree._parseMemoryDocument (src/lxml/lxml.etree.c:93691)\n",
        "  File \"parser.pxi\", line 1495, in lxml.etree._parseDoc (src/lxml/lxml.etree.c:92490)\n",
        "  File \"parser.pxi\", line 1011, in lxml.etree._BaseParser._parseDoc (src/lxml/lxml.etree.c:89130)\n",
        "  File \"parser.pxi\", line 577, in lxml.etree._ParserContext._handleParseResultDoc (src/lxml/lxml.etree.c:84831)\n",
        "  File \"parser.pxi\", line 676, in lxml.etree._handleParseResult (src/lxml/lxml.etree.c:85936)\n",
        "  File \"parser.pxi\", line 625, in lxml.etree._raiseParseError (src/lxml/lxml.etree.c:85392)\n",
        "XMLSyntaxError: line 1092: htmlParseEntityRef: no name\n",
        "Traceback (most recent call last):\n"
       ]
      },
      {
       "output_type": "stream",
       "stream": "stdout",
       "text": [
        "\n",
        "(<class 'lxml.etree.XMLSyntaxError'>, XMLSyntaxError(u'line 1092: htmlParseEntityRef: no name',), <traceback object at 0x7f564ecaa050>)\n",
        "processed  301\n",
        "skipped  10\n",
        "493603632\n",
        "error on download493603632"
       ]
      },
      {
       "output_type": "stream",
       "stream": "stderr",
       "text": [
        "  File \"<ipython-input-41-0e1172e16ab4>\", line 11, in <module>\n",
        "    res = comp_extractors( extractor_training_object )\n",
        "  File \"<ipython-input-23-91249bf1c046>\", line 19, in comp_extractors\n",
        "    extraction_results = get_extraction_results( eto )\n",
        "  File \"<ipython-input-22-35bdc612153c>\", line 10, in get_extraction_results\n",
        "    ret['python_readibilty'] = { 'extracted_html': extract_with_python_readability( raw_content ) }\n",
        "  File \"<ipython-input-8-5916dff6f29a>\", line 6, in extract_with_python_readability\n",
        "    return doc.short_title() + \"\\n\\n\" + doc.summary()\n",
        "  File \"/usr/local/lib/python2.7/dist-packages/readability/readability.py\", line 139, in short_title\n",
        "    return shorten_title(self._html(True))\n",
        "  File \"/usr/local/lib/python2.7/dist-packages/readability/readability.py\", line 119, in _html\n",
        "    self.html = self._parse(self.input)\n",
        "  File \"/usr/local/lib/python2.7/dist-packages/readability/readability.py\", line 123, in _parse\n",
        "    doc, self.encoding = build_doc(input)\n",
        "  File \"/usr/local/lib/python2.7/dist-packages/readability/htmls.py\", line 17, in build_doc\n",
        "    doc = lxml.html.document_fromstring(page_unicode.encode('utf-8', 'replace'), parser=utf8_parser)\n",
        "  File \"/usr/local/lib/python2.7/dist-packages/lxml/html/__init__.py\", line 568, in document_fromstring\n",
        "    value = etree.fromstring(html, parser, **kw)\n",
        "  File \"lxml.etree.pyx\", line 2997, in lxml.etree.fromstring (src/lxml/lxml.etree.c:63276)\n",
        "  File \"parser.pxi\", line 1617, in lxml.etree._parseMemoryDocument (src/lxml/lxml.etree.c:93691)\n",
        "  File \"parser.pxi\", line 1495, in lxml.etree._parseDoc (src/lxml/lxml.etree.c:92490)\n",
        "  File \"parser.pxi\", line 1011, in lxml.etree._BaseParser._parseDoc (src/lxml/lxml.etree.c:89130)\n",
        "  File \"parser.pxi\", line 577, in lxml.etree._ParserContext._handleParseResultDoc (src/lxml/lxml.etree.c:84831)\n",
        "  File \"parser.pxi\", line 676, in lxml.etree._handleParseResult (src/lxml/lxml.etree.c:85936)\n",
        "  File \"parser.pxi\", line 625, in lxml.etree._raiseParseError (src/lxml/lxml.etree.c:85392)\n",
        "XMLSyntaxError: line 1092: htmlParseEntityRef: no name\n",
        "Traceback (most recent call last):\n"
       ]
      },
      {
       "output_type": "stream",
       "stream": "stdout",
       "text": [
        "\n",
        "(<class 'lxml.etree.XMLSyntaxError'>, XMLSyntaxError(u'line 1092: htmlParseEntityRef: no name',), <traceback object at 0x7f564ecaa488>)\n",
        "processed  301\n",
        "skipped  11\n",
        "494910637\n",
        "error on download494910637"
       ]
      },
      {
       "output_type": "stream",
       "stream": "stderr",
       "text": [
        "  File \"<ipython-input-41-0e1172e16ab4>\", line 11, in <module>\n",
        "    res = comp_extractors( extractor_training_object )\n",
        "  File \"<ipython-input-23-91249bf1c046>\", line 19, in comp_extractors\n",
        "    extraction_results = get_extraction_results( eto )\n",
        "  File \"<ipython-input-22-35bdc612153c>\", line 10, in get_extraction_results\n",
        "    ret['python_readibilty'] = { 'extracted_html': extract_with_python_readability( raw_content ) }\n",
        "  File \"<ipython-input-8-5916dff6f29a>\", line 6, in extract_with_python_readability\n",
        "    return doc.short_title() + \"\\n\\n\" + doc.summary()\n",
        "  File \"/usr/local/lib/python2.7/dist-packages/readability/readability.py\", line 139, in short_title\n",
        "    return shorten_title(self._html(True))\n",
        "  File \"/usr/local/lib/python2.7/dist-packages/readability/readability.py\", line 119, in _html\n",
        "    self.html = self._parse(self.input)\n",
        "  File \"/usr/local/lib/python2.7/dist-packages/readability/readability.py\", line 123, in _parse\n",
        "    doc, self.encoding = build_doc(input)\n",
        "  File \"/usr/local/lib/python2.7/dist-packages/readability/htmls.py\", line 17, in build_doc\n",
        "    doc = lxml.html.document_fromstring(page_unicode.encode('utf-8', 'replace'), parser=utf8_parser)\n",
        "  File \"/usr/local/lib/python2.7/dist-packages/lxml/html/__init__.py\", line 568, in document_fromstring\n",
        "    value = etree.fromstring(html, parser, **kw)\n",
        "  File \"lxml.etree.pyx\", line 2997, in lxml.etree.fromstring (src/lxml/lxml.etree.c:63276)\n",
        "  File \"parser.pxi\", line 1617, in lxml.etree._parseMemoryDocument (src/lxml/lxml.etree.c:93691)\n",
        "  File \"parser.pxi\", line 1495, in lxml.etree._parseDoc (src/lxml/lxml.etree.c:92490)\n",
        "  File \"parser.pxi\", line 1011, in lxml.etree._BaseParser._parseDoc (src/lxml/lxml.etree.c:89130)\n",
        "  File \"parser.pxi\", line 577, in lxml.etree._ParserContext._handleParseResultDoc (src/lxml/lxml.etree.c:84831)\n",
        "  File \"parser.pxi\", line 676, in lxml.etree._handleParseResult (src/lxml/lxml.etree.c:85936)\n",
        "  File \"parser.pxi\", line 625, in lxml.etree._raiseParseError (src/lxml/lxml.etree.c:85392)\n",
        "XMLSyntaxError: line 1092: htmlParseEntityRef: no name\n",
        "Traceback (most recent call last):\n"
       ]
      },
      {
       "output_type": "stream",
       "stream": "stdout",
       "text": [
        "\n",
        "(<class 'lxml.etree.XMLSyntaxError'>, XMLSyntaxError(u'line 1092: htmlParseEntityRef: no name',), <traceback object at 0x7f564ecaa908>)\n",
        "processed  301\n",
        "skipped  12\n",
        "495132412\n",
        "error on download495132412"
       ]
      },
      {
       "output_type": "stream",
       "stream": "stderr",
       "text": [
        "  File \"<ipython-input-41-0e1172e16ab4>\", line 11, in <module>\n",
        "    res = comp_extractors( extractor_training_object )\n",
        "  File \"<ipython-input-23-91249bf1c046>\", line 19, in comp_extractors\n",
        "    extraction_results = get_extraction_results( eto )\n",
        "  File \"<ipython-input-22-35bdc612153c>\", line 10, in get_extraction_results\n",
        "    ret['python_readibilty'] = { 'extracted_html': extract_with_python_readability( raw_content ) }\n",
        "  File \"<ipython-input-8-5916dff6f29a>\", line 6, in extract_with_python_readability\n",
        "    return doc.short_title() + \"\\n\\n\" + doc.summary()\n",
        "  File \"/usr/local/lib/python2.7/dist-packages/readability/readability.py\", line 139, in short_title\n",
        "    return shorten_title(self._html(True))\n",
        "  File \"/usr/local/lib/python2.7/dist-packages/readability/readability.py\", line 119, in _html\n",
        "    self.html = self._parse(self.input)\n",
        "  File \"/usr/local/lib/python2.7/dist-packages/readability/readability.py\", line 123, in _parse\n",
        "    doc, self.encoding = build_doc(input)\n",
        "  File \"/usr/local/lib/python2.7/dist-packages/readability/htmls.py\", line 17, in build_doc\n",
        "    doc = lxml.html.document_fromstring(page_unicode.encode('utf-8', 'replace'), parser=utf8_parser)\n",
        "  File \"/usr/local/lib/python2.7/dist-packages/lxml/html/__init__.py\", line 568, in document_fromstring\n",
        "    value = etree.fromstring(html, parser, **kw)\n",
        "  File \"lxml.etree.pyx\", line 2997, in lxml.etree.fromstring (src/lxml/lxml.etree.c:63276)\n",
        "  File \"parser.pxi\", line 1617, in lxml.etree._parseMemoryDocument (src/lxml/lxml.etree.c:93691)\n",
        "  File \"parser.pxi\", line 1495, in lxml.etree._parseDoc (src/lxml/lxml.etree.c:92490)\n",
        "  File \"parser.pxi\", line 1011, in lxml.etree._BaseParser._parseDoc (src/lxml/lxml.etree.c:89130)\n",
        "  File \"parser.pxi\", line 577, in lxml.etree._ParserContext._handleParseResultDoc (src/lxml/lxml.etree.c:84831)\n",
        "  File \"parser.pxi\", line 676, in lxml.etree._handleParseResult (src/lxml/lxml.etree.c:85936)\n",
        "  File \"parser.pxi\", line 625, in lxml.etree._raiseParseError (src/lxml/lxml.etree.c:85392)\n",
        "XMLSyntaxError: line 1092: htmlParseEntityRef: no name\n",
        "Traceback (most recent call last):\n"
       ]
      },
      {
       "output_type": "stream",
       "stream": "stdout",
       "text": [
        "\n",
        "(<class 'lxml.etree.XMLSyntaxError'>, XMLSyntaxError(u'line 1092: htmlParseEntityRef: no name',), <traceback object at 0x7f564ecaad88>)\n",
        "processed  301\n",
        "skipped  13\n",
        "495402183\n",
        "error on download495402183"
       ]
      },
      {
       "output_type": "stream",
       "stream": "stderr",
       "text": [
        "  File \"<ipython-input-41-0e1172e16ab4>\", line 11, in <module>\n",
        "    res = comp_extractors( extractor_training_object )\n",
        "  File \"<ipython-input-23-91249bf1c046>\", line 19, in comp_extractors\n",
        "    extraction_results = get_extraction_results( eto )\n",
        "  File \"<ipython-input-22-35bdc612153c>\", line 10, in get_extraction_results\n",
        "    ret['python_readibilty'] = { 'extracted_html': extract_with_python_readability( raw_content ) }\n",
        "  File \"<ipython-input-8-5916dff6f29a>\", line 6, in extract_with_python_readability\n",
        "    return doc.short_title() + \"\\n\\n\" + doc.summary()\n",
        "  File \"/usr/local/lib/python2.7/dist-packages/readability/readability.py\", line 139, in short_title\n",
        "    return shorten_title(self._html(True))\n",
        "  File \"/usr/local/lib/python2.7/dist-packages/readability/readability.py\", line 119, in _html\n",
        "    self.html = self._parse(self.input)\n",
        "  File \"/usr/local/lib/python2.7/dist-packages/readability/readability.py\", line 123, in _parse\n",
        "    doc, self.encoding = build_doc(input)\n",
        "  File \"/usr/local/lib/python2.7/dist-packages/readability/htmls.py\", line 17, in build_doc\n",
        "    doc = lxml.html.document_fromstring(page_unicode.encode('utf-8', 'replace'), parser=utf8_parser)\n",
        "  File \"/usr/local/lib/python2.7/dist-packages/lxml/html/__init__.py\", line 568, in document_fromstring\n",
        "    value = etree.fromstring(html, parser, **kw)\n",
        "  File \"lxml.etree.pyx\", line 2997, in lxml.etree.fromstring (src/lxml/lxml.etree.c:63276)\n",
        "  File \"parser.pxi\", line 1617, in lxml.etree._parseMemoryDocument (src/lxml/lxml.etree.c:93691)\n",
        "  File \"parser.pxi\", line 1495, in lxml.etree._parseDoc (src/lxml/lxml.etree.c:92490)\n",
        "  File \"parser.pxi\", line 1011, in lxml.etree._BaseParser._parseDoc (src/lxml/lxml.etree.c:89130)\n",
        "  File \"parser.pxi\", line 577, in lxml.etree._ParserContext._handleParseResultDoc (src/lxml/lxml.etree.c:84831)\n",
        "  File \"parser.pxi\", line 676, in lxml.etree._handleParseResult (src/lxml/lxml.etree.c:85936)\n",
        "  File \"parser.pxi\", line 625, in lxml.etree._raiseParseError (src/lxml/lxml.etree.c:85392)\n",
        "XMLSyntaxError: line 1092: htmlParseEntityRef: no name\n",
        "Traceback (most recent call last):\n"
       ]
      },
      {
       "output_type": "stream",
       "stream": "stdout",
       "text": [
        "\n",
        "(<class 'lxml.etree.XMLSyntaxError'>, XMLSyntaxError(u'line 1092: htmlParseEntityRef: no name',), <traceback object at 0x7f564ec8a248>)\n",
        "processed  301\n",
        "skipped  14\n",
        "495442862\n",
        "error on download495442862"
       ]
      },
      {
       "output_type": "stream",
       "stream": "stderr",
       "text": [
        "  File \"<ipython-input-41-0e1172e16ab4>\", line 11, in <module>\n",
        "    res = comp_extractors( extractor_training_object )\n",
        "  File \"<ipython-input-23-91249bf1c046>\", line 19, in comp_extractors\n",
        "    extraction_results = get_extraction_results( eto )\n",
        "  File \"<ipython-input-22-35bdc612153c>\", line 10, in get_extraction_results\n",
        "    ret['python_readibilty'] = { 'extracted_html': extract_with_python_readability( raw_content ) }\n",
        "  File \"<ipython-input-8-5916dff6f29a>\", line 6, in extract_with_python_readability\n",
        "    return doc.short_title() + \"\\n\\n\" + doc.summary()\n",
        "  File \"/usr/local/lib/python2.7/dist-packages/readability/readability.py\", line 139, in short_title\n",
        "    return shorten_title(self._html(True))\n",
        "  File \"/usr/local/lib/python2.7/dist-packages/readability/readability.py\", line 119, in _html\n",
        "    self.html = self._parse(self.input)\n",
        "  File \"/usr/local/lib/python2.7/dist-packages/readability/readability.py\", line 123, in _parse\n",
        "    doc, self.encoding = build_doc(input)\n",
        "  File \"/usr/local/lib/python2.7/dist-packages/readability/htmls.py\", line 17, in build_doc\n",
        "    doc = lxml.html.document_fromstring(page_unicode.encode('utf-8', 'replace'), parser=utf8_parser)\n",
        "  File \"/usr/local/lib/python2.7/dist-packages/lxml/html/__init__.py\", line 568, in document_fromstring\n",
        "    value = etree.fromstring(html, parser, **kw)\n",
        "  File \"lxml.etree.pyx\", line 2997, in lxml.etree.fromstring (src/lxml/lxml.etree.c:63276)\n",
        "  File \"parser.pxi\", line 1617, in lxml.etree._parseMemoryDocument (src/lxml/lxml.etree.c:93691)\n",
        "  File \"parser.pxi\", line 1495, in lxml.etree._parseDoc (src/lxml/lxml.etree.c:92490)\n",
        "  File \"parser.pxi\", line 1011, in lxml.etree._BaseParser._parseDoc (src/lxml/lxml.etree.c:89130)\n",
        "  File \"parser.pxi\", line 577, in lxml.etree._ParserContext._handleParseResultDoc (src/lxml/lxml.etree.c:84831)\n",
        "  File \"parser.pxi\", line 676, in lxml.etree._handleParseResult (src/lxml/lxml.etree.c:85936)\n",
        "  File \"parser.pxi\", line 625, in lxml.etree._raiseParseError (src/lxml/lxml.etree.c:85392)\n",
        "XMLSyntaxError: line 1092: htmlParseEntityRef: no name\n",
        "Traceback (most recent call last):\n"
       ]
      },
      {
       "output_type": "stream",
       "stream": "stdout",
       "text": [
        "\n",
        "(<class 'lxml.etree.XMLSyntaxError'>, XMLSyntaxError(u'line 1092: htmlParseEntityRef: no name',), <traceback object at 0x7f564ec8a6c8>)\n",
        "processed  301\n",
        "skipped  15\n",
        "495702037\n",
        "error on download495702037"
       ]
      },
      {
       "output_type": "stream",
       "stream": "stderr",
       "text": [
        "  File \"<ipython-input-41-0e1172e16ab4>\", line 11, in <module>\n",
        "    res = comp_extractors( extractor_training_object )\n",
        "  File \"<ipython-input-23-91249bf1c046>\", line 19, in comp_extractors\n",
        "    extraction_results = get_extraction_results( eto )\n",
        "  File \"<ipython-input-22-35bdc612153c>\", line 10, in get_extraction_results\n",
        "    ret['python_readibilty'] = { 'extracted_html': extract_with_python_readability( raw_content ) }\n",
        "  File \"<ipython-input-8-5916dff6f29a>\", line 6, in extract_with_python_readability\n",
        "    return doc.short_title() + \"\\n\\n\" + doc.summary()\n",
        "  File \"/usr/local/lib/python2.7/dist-packages/readability/readability.py\", line 139, in short_title\n",
        "    return shorten_title(self._html(True))\n",
        "  File \"/usr/local/lib/python2.7/dist-packages/readability/readability.py\", line 119, in _html\n",
        "    self.html = self._parse(self.input)\n",
        "  File \"/usr/local/lib/python2.7/dist-packages/readability/readability.py\", line 123, in _parse\n",
        "    doc, self.encoding = build_doc(input)\n",
        "  File \"/usr/local/lib/python2.7/dist-packages/readability/htmls.py\", line 17, in build_doc\n",
        "    doc = lxml.html.document_fromstring(page_unicode.encode('utf-8', 'replace'), parser=utf8_parser)\n",
        "  File \"/usr/local/lib/python2.7/dist-packages/lxml/html/__init__.py\", line 568, in document_fromstring\n",
        "    value = etree.fromstring(html, parser, **kw)\n",
        "  File \"lxml.etree.pyx\", line 2997, in lxml.etree.fromstring (src/lxml/lxml.etree.c:63276)\n",
        "  File \"parser.pxi\", line 1617, in lxml.etree._parseMemoryDocument (src/lxml/lxml.etree.c:93691)\n",
        "  File \"parser.pxi\", line 1495, in lxml.etree._parseDoc (src/lxml/lxml.etree.c:92490)\n",
        "  File \"parser.pxi\", line 1011, in lxml.etree._BaseParser._parseDoc (src/lxml/lxml.etree.c:89130)\n",
        "  File \"parser.pxi\", line 577, in lxml.etree._ParserContext._handleParseResultDoc (src/lxml/lxml.etree.c:84831)\n",
        "  File \"parser.pxi\", line 676, in lxml.etree._handleParseResult (src/lxml/lxml.etree.c:85936)\n",
        "  File \"parser.pxi\", line 625, in lxml.etree._raiseParseError (src/lxml/lxml.etree.c:85392)\n",
        "XMLSyntaxError: line 1092: htmlParseEntityRef: no name\n",
        "Traceback (most recent call last):\n"
       ]
      },
      {
       "output_type": "stream",
       "stream": "stdout",
       "text": [
        "\n",
        "(<class 'lxml.etree.XMLSyntaxError'>, XMLSyntaxError(u'line 1092: htmlParseEntityRef: no name',), <traceback object at 0x7f564ec8ab48>)\n",
        "processed  301\n",
        "skipped  16\n",
        "495856120\n",
        "error on download495856120"
       ]
      },
      {
       "output_type": "stream",
       "stream": "stderr",
       "text": [
        "  File \"<ipython-input-41-0e1172e16ab4>\", line 11, in <module>\n",
        "    res = comp_extractors( extractor_training_object )\n",
        "  File \"<ipython-input-23-91249bf1c046>\", line 19, in comp_extractors\n",
        "    extraction_results = get_extraction_results( eto )\n",
        "  File \"<ipython-input-22-35bdc612153c>\", line 10, in get_extraction_results\n",
        "    ret['python_readibilty'] = { 'extracted_html': extract_with_python_readability( raw_content ) }\n",
        "  File \"<ipython-input-8-5916dff6f29a>\", line 6, in extract_with_python_readability\n",
        "    return doc.short_title() + \"\\n\\n\" + doc.summary()\n",
        "  File \"/usr/local/lib/python2.7/dist-packages/readability/readability.py\", line 139, in short_title\n",
        "    return shorten_title(self._html(True))\n",
        "  File \"/usr/local/lib/python2.7/dist-packages/readability/readability.py\", line 119, in _html\n",
        "    self.html = self._parse(self.input)\n",
        "  File \"/usr/local/lib/python2.7/dist-packages/readability/readability.py\", line 123, in _parse\n",
        "    doc, self.encoding = build_doc(input)\n",
        "  File \"/usr/local/lib/python2.7/dist-packages/readability/htmls.py\", line 17, in build_doc\n",
        "    doc = lxml.html.document_fromstring(page_unicode.encode('utf-8', 'replace'), parser=utf8_parser)\n",
        "  File \"/usr/local/lib/python2.7/dist-packages/lxml/html/__init__.py\", line 568, in document_fromstring\n",
        "    value = etree.fromstring(html, parser, **kw)\n",
        "  File \"lxml.etree.pyx\", line 2997, in lxml.etree.fromstring (src/lxml/lxml.etree.c:63276)\n",
        "  File \"parser.pxi\", line 1617, in lxml.etree._parseMemoryDocument (src/lxml/lxml.etree.c:93691)\n",
        "  File \"parser.pxi\", line 1495, in lxml.etree._parseDoc (src/lxml/lxml.etree.c:92490)\n",
        "  File \"parser.pxi\", line 1011, in lxml.etree._BaseParser._parseDoc (src/lxml/lxml.etree.c:89130)\n",
        "  File \"parser.pxi\", line 577, in lxml.etree._ParserContext._handleParseResultDoc (src/lxml/lxml.etree.c:84831)\n",
        "  File \"parser.pxi\", line 676, in lxml.etree._handleParseResult (src/lxml/lxml.etree.c:85936)\n",
        "  File \"parser.pxi\", line 625, in lxml.etree._raiseParseError (src/lxml/lxml.etree.c:85392)\n",
        "XMLSyntaxError: line 1092: htmlParseEntityRef: no name\n",
        "Traceback (most recent call last):\n"
       ]
      },
      {
       "output_type": "stream",
       "stream": "stdout",
       "text": [
        "\n",
        "(<class 'lxml.etree.XMLSyntaxError'>, XMLSyntaxError(u'line 1092: htmlParseEntityRef: no name',), <traceback object at 0x7f564ec8afc8>)\n",
        "processed  301\n",
        "skipped  17\n",
        "496830079\n",
        "error on download496830079"
       ]
      },
      {
       "output_type": "stream",
       "stream": "stderr",
       "text": [
        "  File \"<ipython-input-41-0e1172e16ab4>\", line 11, in <module>\n",
        "    res = comp_extractors( extractor_training_object )\n",
        "  File \"<ipython-input-23-91249bf1c046>\", line 19, in comp_extractors\n",
        "    extraction_results = get_extraction_results( eto )\n",
        "  File \"<ipython-input-22-35bdc612153c>\", line 10, in get_extraction_results\n",
        "    ret['python_readibilty'] = { 'extracted_html': extract_with_python_readability( raw_content ) }\n",
        "  File \"<ipython-input-8-5916dff6f29a>\", line 6, in extract_with_python_readability\n",
        "    return doc.short_title() + \"\\n\\n\" + doc.summary()\n",
        "  File \"/usr/local/lib/python2.7/dist-packages/readability/readability.py\", line 139, in short_title\n",
        "    return shorten_title(self._html(True))\n",
        "  File \"/usr/local/lib/python2.7/dist-packages/readability/readability.py\", line 119, in _html\n",
        "    self.html = self._parse(self.input)\n",
        "  File \"/usr/local/lib/python2.7/dist-packages/readability/readability.py\", line 123, in _parse\n",
        "    doc, self.encoding = build_doc(input)\n",
        "  File \"/usr/local/lib/python2.7/dist-packages/readability/htmls.py\", line 17, in build_doc\n",
        "    doc = lxml.html.document_fromstring(page_unicode.encode('utf-8', 'replace'), parser=utf8_parser)\n",
        "  File \"/usr/local/lib/python2.7/dist-packages/lxml/html/__init__.py\", line 568, in document_fromstring\n",
        "    value = etree.fromstring(html, parser, **kw)\n",
        "  File \"lxml.etree.pyx\", line 2997, in lxml.etree.fromstring (src/lxml/lxml.etree.c:63276)\n",
        "  File \"parser.pxi\", line 1617, in lxml.etree._parseMemoryDocument (src/lxml/lxml.etree.c:93691)\n",
        "  File \"parser.pxi\", line 1495, in lxml.etree._parseDoc (src/lxml/lxml.etree.c:92490)\n",
        "  File \"parser.pxi\", line 1011, in lxml.etree._BaseParser._parseDoc (src/lxml/lxml.etree.c:89130)\n",
        "  File \"parser.pxi\", line 577, in lxml.etree._ParserContext._handleParseResultDoc (src/lxml/lxml.etree.c:84831)\n",
        "  File \"parser.pxi\", line 676, in lxml.etree._handleParseResult (src/lxml/lxml.etree.c:85936)\n",
        "  File \"parser.pxi\", line 625, in lxml.etree._raiseParseError (src/lxml/lxml.etree.c:85392)\n",
        "XMLSyntaxError: line 1092: htmlParseEntityRef: no name\n",
        "Traceback (most recent call last):\n"
       ]
      },
      {
       "output_type": "stream",
       "stream": "stdout",
       "text": [
        "\n",
        "(<class 'lxml.etree.XMLSyntaxError'>, XMLSyntaxError(u'line 1092: htmlParseEntityRef: no name',), <traceback object at 0x7f564ec9a488>)\n",
        "processed  301\n",
        "skipped  18\n",
        "496960779\n",
        "error on download496960779"
       ]
      },
      {
       "output_type": "stream",
       "stream": "stderr",
       "text": [
        "  File \"<ipython-input-41-0e1172e16ab4>\", line 11, in <module>\n",
        "    res = comp_extractors( extractor_training_object )\n",
        "  File \"<ipython-input-23-91249bf1c046>\", line 19, in comp_extractors\n",
        "    extraction_results = get_extraction_results( eto )\n",
        "  File \"<ipython-input-22-35bdc612153c>\", line 10, in get_extraction_results\n",
        "    ret['python_readibilty'] = { 'extracted_html': extract_with_python_readability( raw_content ) }\n",
        "  File \"<ipython-input-8-5916dff6f29a>\", line 6, in extract_with_python_readability\n",
        "    return doc.short_title() + \"\\n\\n\" + doc.summary()\n",
        "  File \"/usr/local/lib/python2.7/dist-packages/readability/readability.py\", line 139, in short_title\n",
        "    return shorten_title(self._html(True))\n",
        "  File \"/usr/local/lib/python2.7/dist-packages/readability/readability.py\", line 119, in _html\n",
        "    self.html = self._parse(self.input)\n",
        "  File \"/usr/local/lib/python2.7/dist-packages/readability/readability.py\", line 123, in _parse\n",
        "    doc, self.encoding = build_doc(input)\n",
        "  File \"/usr/local/lib/python2.7/dist-packages/readability/htmls.py\", line 17, in build_doc\n",
        "    doc = lxml.html.document_fromstring(page_unicode.encode('utf-8', 'replace'), parser=utf8_parser)\n",
        "  File \"/usr/local/lib/python2.7/dist-packages/lxml/html/__init__.py\", line 568, in document_fromstring\n",
        "    value = etree.fromstring(html, parser, **kw)\n",
        "  File \"lxml.etree.pyx\", line 2997, in lxml.etree.fromstring (src/lxml/lxml.etree.c:63276)\n",
        "  File \"parser.pxi\", line 1617, in lxml.etree._parseMemoryDocument (src/lxml/lxml.etree.c:93691)\n",
        "  File \"parser.pxi\", line 1495, in lxml.etree._parseDoc (src/lxml/lxml.etree.c:92490)\n",
        "  File \"parser.pxi\", line 1011, in lxml.etree._BaseParser._parseDoc (src/lxml/lxml.etree.c:89130)\n",
        "  File \"parser.pxi\", line 577, in lxml.etree._ParserContext._handleParseResultDoc (src/lxml/lxml.etree.c:84831)\n",
        "  File \"parser.pxi\", line 676, in lxml.etree._handleParseResult (src/lxml/lxml.etree.c:85936)\n",
        "  File \"parser.pxi\", line 625, in lxml.etree._raiseParseError (src/lxml/lxml.etree.c:85392)\n",
        "XMLSyntaxError: line 1092: htmlParseEntityRef: no name\n",
        "Traceback (most recent call last):\n"
       ]
      },
      {
       "output_type": "stream",
       "stream": "stdout",
       "text": [
        "\n",
        "(<class 'lxml.etree.XMLSyntaxError'>, XMLSyntaxError(u'line 1092: htmlParseEntityRef: no name',), <traceback object at 0x7f564ec9a908>)\n",
        "processed  301\n",
        "skipped  19\n",
        "497510792\n",
        "error on download497510792"
       ]
      },
      {
       "output_type": "stream",
       "stream": "stderr",
       "text": [
        "  File \"<ipython-input-41-0e1172e16ab4>\", line 11, in <module>\n",
        "    res = comp_extractors( extractor_training_object )\n",
        "  File \"<ipython-input-23-91249bf1c046>\", line 19, in comp_extractors\n",
        "    extraction_results = get_extraction_results( eto )\n",
        "  File \"<ipython-input-22-35bdc612153c>\", line 10, in get_extraction_results\n",
        "    ret['python_readibilty'] = { 'extracted_html': extract_with_python_readability( raw_content ) }\n",
        "  File \"<ipython-input-8-5916dff6f29a>\", line 6, in extract_with_python_readability\n",
        "    return doc.short_title() + \"\\n\\n\" + doc.summary()\n",
        "  File \"/usr/local/lib/python2.7/dist-packages/readability/readability.py\", line 139, in short_title\n",
        "    return shorten_title(self._html(True))\n",
        "  File \"/usr/local/lib/python2.7/dist-packages/readability/readability.py\", line 119, in _html\n",
        "    self.html = self._parse(self.input)\n",
        "  File \"/usr/local/lib/python2.7/dist-packages/readability/readability.py\", line 123, in _parse\n",
        "    doc, self.encoding = build_doc(input)\n",
        "  File \"/usr/local/lib/python2.7/dist-packages/readability/htmls.py\", line 17, in build_doc\n",
        "    doc = lxml.html.document_fromstring(page_unicode.encode('utf-8', 'replace'), parser=utf8_parser)\n",
        "  File \"/usr/local/lib/python2.7/dist-packages/lxml/html/__init__.py\", line 568, in document_fromstring\n",
        "    value = etree.fromstring(html, parser, **kw)\n",
        "  File \"lxml.etree.pyx\", line 2997, in lxml.etree.fromstring (src/lxml/lxml.etree.c:63276)\n",
        "  File \"parser.pxi\", line 1617, in lxml.etree._parseMemoryDocument (src/lxml/lxml.etree.c:93691)\n",
        "  File \"parser.pxi\", line 1495, in lxml.etree._parseDoc (src/lxml/lxml.etree.c:92490)\n",
        "  File \"parser.pxi\", line 1011, in lxml.etree._BaseParser._parseDoc (src/lxml/lxml.etree.c:89130)\n",
        "  File \"parser.pxi\", line 577, in lxml.etree._ParserContext._handleParseResultDoc (src/lxml/lxml.etree.c:84831)\n",
        "  File \"parser.pxi\", line 676, in lxml.etree._handleParseResult (src/lxml/lxml.etree.c:85936)\n",
        "  File \"parser.pxi\", line 625, in lxml.etree._raiseParseError (src/lxml/lxml.etree.c:85392)\n",
        "XMLSyntaxError: line 1092: htmlParseEntityRef: no name\n",
        "Traceback (most recent call last):\n"
       ]
      },
      {
       "output_type": "stream",
       "stream": "stdout",
       "text": [
        "\n",
        "(<class 'lxml.etree.XMLSyntaxError'>, XMLSyntaxError(u'line 1092: htmlParseEntityRef: no name',), <traceback object at 0x7f564ec9ad88>)\n",
        "processed  301\n",
        "skipped  20\n",
        "497750204\n",
        "error on download497750204"
       ]
      },
      {
       "output_type": "stream",
       "stream": "stderr",
       "text": [
        "  File \"<ipython-input-41-0e1172e16ab4>\", line 11, in <module>\n",
        "    res = comp_extractors( extractor_training_object )\n",
        "  File \"<ipython-input-23-91249bf1c046>\", line 19, in comp_extractors\n",
        "    extraction_results = get_extraction_results( eto )\n",
        "  File \"<ipython-input-22-35bdc612153c>\", line 10, in get_extraction_results\n",
        "    ret['python_readibilty'] = { 'extracted_html': extract_with_python_readability( raw_content ) }\n",
        "  File \"<ipython-input-8-5916dff6f29a>\", line 6, in extract_with_python_readability\n",
        "    return doc.short_title() + \"\\n\\n\" + doc.summary()\n",
        "  File \"/usr/local/lib/python2.7/dist-packages/readability/readability.py\", line 139, in short_title\n",
        "    return shorten_title(self._html(True))\n",
        "  File \"/usr/local/lib/python2.7/dist-packages/readability/readability.py\", line 119, in _html\n",
        "    self.html = self._parse(self.input)\n",
        "  File \"/usr/local/lib/python2.7/dist-packages/readability/readability.py\", line 123, in _parse\n",
        "    doc, self.encoding = build_doc(input)\n",
        "  File \"/usr/local/lib/python2.7/dist-packages/readability/htmls.py\", line 17, in build_doc\n",
        "    doc = lxml.html.document_fromstring(page_unicode.encode('utf-8', 'replace'), parser=utf8_parser)\n",
        "  File \"/usr/local/lib/python2.7/dist-packages/lxml/html/__init__.py\", line 568, in document_fromstring\n",
        "    value = etree.fromstring(html, parser, **kw)\n",
        "  File \"lxml.etree.pyx\", line 2997, in lxml.etree.fromstring (src/lxml/lxml.etree.c:63276)\n",
        "  File \"parser.pxi\", line 1617, in lxml.etree._parseMemoryDocument (src/lxml/lxml.etree.c:93691)\n",
        "  File \"parser.pxi\", line 1495, in lxml.etree._parseDoc (src/lxml/lxml.etree.c:92490)\n",
        "  File \"parser.pxi\", line 1011, in lxml.etree._BaseParser._parseDoc (src/lxml/lxml.etree.c:89130)\n",
        "  File \"parser.pxi\", line 577, in lxml.etree._ParserContext._handleParseResultDoc (src/lxml/lxml.etree.c:84831)\n",
        "  File \"parser.pxi\", line 676, in lxml.etree._handleParseResult (src/lxml/lxml.etree.c:85936)\n",
        "  File \"parser.pxi\", line 625, in lxml.etree._raiseParseError (src/lxml/lxml.etree.c:85392)\n",
        "XMLSyntaxError: line 1092: htmlParseEntityRef: no name\n",
        "Traceback (most recent call last):\n"
       ]
      },
      {
       "output_type": "stream",
       "stream": "stdout",
       "text": [
        "\n",
        "(<class 'lxml.etree.XMLSyntaxError'>, XMLSyntaxError(u'line 1092: htmlParseEntityRef: no name',), <traceback object at 0x7f564ec9c248>)\n",
        "processed  301\n",
        "skipped  21\n",
        "498241896\n",
        "error on download498241896"
       ]
      },
      {
       "output_type": "stream",
       "stream": "stderr",
       "text": [
        "  File \"<ipython-input-41-0e1172e16ab4>\", line 11, in <module>\n",
        "    res = comp_extractors( extractor_training_object )\n",
        "  File \"<ipython-input-23-91249bf1c046>\", line 19, in comp_extractors\n",
        "    extraction_results = get_extraction_results( eto )\n",
        "  File \"<ipython-input-22-35bdc612153c>\", line 10, in get_extraction_results\n",
        "    ret['python_readibilty'] = { 'extracted_html': extract_with_python_readability( raw_content ) }\n",
        "  File \"<ipython-input-8-5916dff6f29a>\", line 6, in extract_with_python_readability\n",
        "    return doc.short_title() + \"\\n\\n\" + doc.summary()\n",
        "  File \"/usr/local/lib/python2.7/dist-packages/readability/readability.py\", line 139, in short_title\n",
        "    return shorten_title(self._html(True))\n",
        "  File \"/usr/local/lib/python2.7/dist-packages/readability/readability.py\", line 119, in _html\n",
        "    self.html = self._parse(self.input)\n",
        "  File \"/usr/local/lib/python2.7/dist-packages/readability/readability.py\", line 123, in _parse\n",
        "    doc, self.encoding = build_doc(input)\n",
        "  File \"/usr/local/lib/python2.7/dist-packages/readability/htmls.py\", line 17, in build_doc\n",
        "    doc = lxml.html.document_fromstring(page_unicode.encode('utf-8', 'replace'), parser=utf8_parser)\n",
        "  File \"/usr/local/lib/python2.7/dist-packages/lxml/html/__init__.py\", line 568, in document_fromstring\n",
        "    value = etree.fromstring(html, parser, **kw)\n",
        "  File \"lxml.etree.pyx\", line 2997, in lxml.etree.fromstring (src/lxml/lxml.etree.c:63276)\n",
        "  File \"parser.pxi\", line 1617, in lxml.etree._parseMemoryDocument (src/lxml/lxml.etree.c:93691)\n",
        "  File \"parser.pxi\", line 1495, in lxml.etree._parseDoc (src/lxml/lxml.etree.c:92490)\n",
        "  File \"parser.pxi\", line 1011, in lxml.etree._BaseParser._parseDoc (src/lxml/lxml.etree.c:89130)\n",
        "  File \"parser.pxi\", line 577, in lxml.etree._ParserContext._handleParseResultDoc (src/lxml/lxml.etree.c:84831)\n",
        "  File \"parser.pxi\", line 676, in lxml.etree._handleParseResult (src/lxml/lxml.etree.c:85936)\n",
        "  File \"parser.pxi\", line 625, in lxml.etree._raiseParseError (src/lxml/lxml.etree.c:85392)\n",
        "XMLSyntaxError: line 1092: htmlParseEntityRef: no name\n",
        "Traceback (most recent call last):\n"
       ]
      },
      {
       "output_type": "stream",
       "stream": "stdout",
       "text": [
        "\n",
        "(<class 'lxml.etree.XMLSyntaxError'>, XMLSyntaxError(u'line 1092: htmlParseEntityRef: no name',), <traceback object at 0x7f564ec9c6c8>)\n",
        "processed  301\n",
        "skipped  22\n",
        "498496981\n",
        "error on download498496981"
       ]
      },
      {
       "output_type": "stream",
       "stream": "stderr",
       "text": [
        "  File \"<ipython-input-41-0e1172e16ab4>\", line 11, in <module>\n",
        "    res = comp_extractors( extractor_training_object )\n",
        "  File \"<ipython-input-23-91249bf1c046>\", line 19, in comp_extractors\n",
        "    extraction_results = get_extraction_results( eto )\n",
        "  File \"<ipython-input-22-35bdc612153c>\", line 10, in get_extraction_results\n",
        "    ret['python_readibilty'] = { 'extracted_html': extract_with_python_readability( raw_content ) }\n",
        "  File \"<ipython-input-8-5916dff6f29a>\", line 6, in extract_with_python_readability\n",
        "    return doc.short_title() + \"\\n\\n\" + doc.summary()\n",
        "  File \"/usr/local/lib/python2.7/dist-packages/readability/readability.py\", line 139, in short_title\n",
        "    return shorten_title(self._html(True))\n",
        "  File \"/usr/local/lib/python2.7/dist-packages/readability/readability.py\", line 119, in _html\n",
        "    self.html = self._parse(self.input)\n",
        "  File \"/usr/local/lib/python2.7/dist-packages/readability/readability.py\", line 123, in _parse\n",
        "    doc, self.encoding = build_doc(input)\n",
        "  File \"/usr/local/lib/python2.7/dist-packages/readability/htmls.py\", line 17, in build_doc\n",
        "    doc = lxml.html.document_fromstring(page_unicode.encode('utf-8', 'replace'), parser=utf8_parser)\n",
        "  File \"/usr/local/lib/python2.7/dist-packages/lxml/html/__init__.py\", line 568, in document_fromstring\n",
        "    value = etree.fromstring(html, parser, **kw)\n",
        "  File \"lxml.etree.pyx\", line 2997, in lxml.etree.fromstring (src/lxml/lxml.etree.c:63276)\n",
        "  File \"parser.pxi\", line 1617, in lxml.etree._parseMemoryDocument (src/lxml/lxml.etree.c:93691)\n",
        "  File \"parser.pxi\", line 1495, in lxml.etree._parseDoc (src/lxml/lxml.etree.c:92490)\n",
        "  File \"parser.pxi\", line 1011, in lxml.etree._BaseParser._parseDoc (src/lxml/lxml.etree.c:89130)\n",
        "  File \"parser.pxi\", line 577, in lxml.etree._ParserContext._handleParseResultDoc (src/lxml/lxml.etree.c:84831)\n",
        "  File \"parser.pxi\", line 676, in lxml.etree._handleParseResult (src/lxml/lxml.etree.c:85936)\n",
        "  File \"parser.pxi\", line 625, in lxml.etree._raiseParseError (src/lxml/lxml.etree.c:85392)\n",
        "XMLSyntaxError: line 1092: htmlParseEntityRef: no name\n",
        "Traceback (most recent call last):\n"
       ]
      },
      {
       "output_type": "stream",
       "stream": "stdout",
       "text": [
        "\n",
        "(<class 'lxml.etree.XMLSyntaxError'>, XMLSyntaxError(u'line 1092: htmlParseEntityRef: no name',), <traceback object at 0x7f564ec9cb00>)\n",
        "processed  301\n",
        "skipped  23\n",
        "498497707\n",
        "error on download498497707"
       ]
      },
      {
       "output_type": "stream",
       "stream": "stderr",
       "text": [
        "  File \"<ipython-input-41-0e1172e16ab4>\", line 11, in <module>\n",
        "    res = comp_extractors( extractor_training_object )\n",
        "  File \"<ipython-input-23-91249bf1c046>\", line 19, in comp_extractors\n",
        "    extraction_results = get_extraction_results( eto )\n",
        "  File \"<ipython-input-22-35bdc612153c>\", line 10, in get_extraction_results\n",
        "    ret['python_readibilty'] = { 'extracted_html': extract_with_python_readability( raw_content ) }\n",
        "  File \"<ipython-input-8-5916dff6f29a>\", line 6, in extract_with_python_readability\n",
        "    return doc.short_title() + \"\\n\\n\" + doc.summary()\n",
        "  File \"/usr/local/lib/python2.7/dist-packages/readability/readability.py\", line 139, in short_title\n",
        "    return shorten_title(self._html(True))\n",
        "  File \"/usr/local/lib/python2.7/dist-packages/readability/readability.py\", line 119, in _html\n",
        "    self.html = self._parse(self.input)\n",
        "  File \"/usr/local/lib/python2.7/dist-packages/readability/readability.py\", line 123, in _parse\n",
        "    doc, self.encoding = build_doc(input)\n",
        "  File \"/usr/local/lib/python2.7/dist-packages/readability/htmls.py\", line 17, in build_doc\n",
        "    doc = lxml.html.document_fromstring(page_unicode.encode('utf-8', 'replace'), parser=utf8_parser)\n",
        "  File \"/usr/local/lib/python2.7/dist-packages/lxml/html/__init__.py\", line 568, in document_fromstring\n",
        "    value = etree.fromstring(html, parser, **kw)\n",
        "  File \"lxml.etree.pyx\", line 2997, in lxml.etree.fromstring (src/lxml/lxml.etree.c:63276)\n",
        "  File \"parser.pxi\", line 1617, in lxml.etree._parseMemoryDocument (src/lxml/lxml.etree.c:93691)\n",
        "  File \"parser.pxi\", line 1495, in lxml.etree._parseDoc (src/lxml/lxml.etree.c:92490)\n",
        "  File \"parser.pxi\", line 1011, in lxml.etree._BaseParser._parseDoc (src/lxml/lxml.etree.c:89130)\n",
        "  File \"parser.pxi\", line 577, in lxml.etree._ParserContext._handleParseResultDoc (src/lxml/lxml.etree.c:84831)\n",
        "  File \"parser.pxi\", line 676, in lxml.etree._handleParseResult (src/lxml/lxml.etree.c:85936)\n",
        "  File \"parser.pxi\", line 625, in lxml.etree._raiseParseError (src/lxml/lxml.etree.c:85392)\n",
        "XMLSyntaxError: line 1092: htmlParseEntityRef: no name\n",
        "Traceback (most recent call last):\n"
       ]
      },
      {
       "output_type": "stream",
       "stream": "stdout",
       "text": [
        "\n",
        "(<class 'lxml.etree.XMLSyntaxError'>, XMLSyntaxError(u'line 1092: htmlParseEntityRef: no name',), <traceback object at 0x7f564ec9cf80>)\n",
        "processed  301\n",
        "skipped  24\n",
        "499288413\n",
        "error on download499288413"
       ]
      },
      {
       "output_type": "stream",
       "stream": "stderr",
       "text": [
        "  File \"<ipython-input-41-0e1172e16ab4>\", line 11, in <module>\n",
        "    res = comp_extractors( extractor_training_object )\n",
        "  File \"<ipython-input-23-91249bf1c046>\", line 19, in comp_extractors\n",
        "    extraction_results = get_extraction_results( eto )\n",
        "  File \"<ipython-input-22-35bdc612153c>\", line 10, in get_extraction_results\n",
        "    ret['python_readibilty'] = { 'extracted_html': extract_with_python_readability( raw_content ) }\n",
        "  File \"<ipython-input-8-5916dff6f29a>\", line 6, in extract_with_python_readability\n",
        "    return doc.short_title() + \"\\n\\n\" + doc.summary()\n",
        "  File \"/usr/local/lib/python2.7/dist-packages/readability/readability.py\", line 139, in short_title\n",
        "    return shorten_title(self._html(True))\n",
        "  File \"/usr/local/lib/python2.7/dist-packages/readability/readability.py\", line 119, in _html\n",
        "    self.html = self._parse(self.input)\n",
        "  File \"/usr/local/lib/python2.7/dist-packages/readability/readability.py\", line 123, in _parse\n",
        "    doc, self.encoding = build_doc(input)\n",
        "  File \"/usr/local/lib/python2.7/dist-packages/readability/htmls.py\", line 17, in build_doc\n",
        "    doc = lxml.html.document_fromstring(page_unicode.encode('utf-8', 'replace'), parser=utf8_parser)\n",
        "  File \"/usr/local/lib/python2.7/dist-packages/lxml/html/__init__.py\", line 568, in document_fromstring\n",
        "    value = etree.fromstring(html, parser, **kw)\n",
        "  File \"lxml.etree.pyx\", line 2997, in lxml.etree.fromstring (src/lxml/lxml.etree.c:63276)\n",
        "  File \"parser.pxi\", line 1617, in lxml.etree._parseMemoryDocument (src/lxml/lxml.etree.c:93691)\n",
        "  File \"parser.pxi\", line 1495, in lxml.etree._parseDoc (src/lxml/lxml.etree.c:92490)\n",
        "  File \"parser.pxi\", line 1011, in lxml.etree._BaseParser._parseDoc (src/lxml/lxml.etree.c:89130)\n",
        "  File \"parser.pxi\", line 577, in lxml.etree._ParserContext._handleParseResultDoc (src/lxml/lxml.etree.c:84831)\n",
        "  File \"parser.pxi\", line 676, in lxml.etree._handleParseResult (src/lxml/lxml.etree.c:85936)\n",
        "  File \"parser.pxi\", line 625, in lxml.etree._raiseParseError (src/lxml/lxml.etree.c:85392)\n",
        "XMLSyntaxError: line 1092: htmlParseEntityRef: no name\n",
        "Traceback (most recent call last):\n"
       ]
      },
      {
       "output_type": "stream",
       "stream": "stdout",
       "text": [
        "\n",
        "(<class 'lxml.etree.XMLSyntaxError'>, XMLSyntaxError(u'line 1092: htmlParseEntityRef: no name',), <traceback object at 0x7f564eca3440>)\n",
        "processed  301\n",
        "skipped  25\n",
        "499367463\n",
        "error on download499367463"
       ]
      },
      {
       "output_type": "stream",
       "stream": "stderr",
       "text": [
        "  File \"<ipython-input-41-0e1172e16ab4>\", line 11, in <module>\n",
        "    res = comp_extractors( extractor_training_object )\n",
        "  File \"<ipython-input-23-91249bf1c046>\", line 19, in comp_extractors\n",
        "    extraction_results = get_extraction_results( eto )\n",
        "  File \"<ipython-input-22-35bdc612153c>\", line 10, in get_extraction_results\n",
        "    ret['python_readibilty'] = { 'extracted_html': extract_with_python_readability( raw_content ) }\n",
        "  File \"<ipython-input-8-5916dff6f29a>\", line 6, in extract_with_python_readability\n",
        "    return doc.short_title() + \"\\n\\n\" + doc.summary()\n",
        "  File \"/usr/local/lib/python2.7/dist-packages/readability/readability.py\", line 139, in short_title\n",
        "    return shorten_title(self._html(True))\n",
        "  File \"/usr/local/lib/python2.7/dist-packages/readability/readability.py\", line 119, in _html\n",
        "    self.html = self._parse(self.input)\n",
        "  File \"/usr/local/lib/python2.7/dist-packages/readability/readability.py\", line 123, in _parse\n",
        "    doc, self.encoding = build_doc(input)\n",
        "  File \"/usr/local/lib/python2.7/dist-packages/readability/htmls.py\", line 17, in build_doc\n",
        "    doc = lxml.html.document_fromstring(page_unicode.encode('utf-8', 'replace'), parser=utf8_parser)\n",
        "  File \"/usr/local/lib/python2.7/dist-packages/lxml/html/__init__.py\", line 568, in document_fromstring\n",
        "    value = etree.fromstring(html, parser, **kw)\n",
        "  File \"lxml.etree.pyx\", line 2997, in lxml.etree.fromstring (src/lxml/lxml.etree.c:63276)\n",
        "  File \"parser.pxi\", line 1617, in lxml.etree._parseMemoryDocument (src/lxml/lxml.etree.c:93691)\n",
        "  File \"parser.pxi\", line 1495, in lxml.etree._parseDoc (src/lxml/lxml.etree.c:92490)\n",
        "  File \"parser.pxi\", line 1011, in lxml.etree._BaseParser._parseDoc (src/lxml/lxml.etree.c:89130)\n",
        "  File \"parser.pxi\", line 577, in lxml.etree._ParserContext._handleParseResultDoc (src/lxml/lxml.etree.c:84831)\n",
        "  File \"parser.pxi\", line 676, in lxml.etree._handleParseResult (src/lxml/lxml.etree.c:85936)\n",
        "  File \"parser.pxi\", line 625, in lxml.etree._raiseParseError (src/lxml/lxml.etree.c:85392)\n",
        "XMLSyntaxError: line 1092: htmlParseEntityRef: no name\n",
        "Traceback (most recent call last):\n"
       ]
      },
      {
       "output_type": "stream",
       "stream": "stdout",
       "text": [
        "\n",
        "(<class 'lxml.etree.XMLSyntaxError'>, XMLSyntaxError(u'line 1092: htmlParseEntityRef: no name',), <traceback object at 0x7f564eca38c0>)\n",
        "processed  301\n",
        "skipped  26\n",
        "499577868\n",
        "error on download499577868"
       ]
      },
      {
       "output_type": "stream",
       "stream": "stderr",
       "text": [
        "  File \"<ipython-input-41-0e1172e16ab4>\", line 11, in <module>\n",
        "    res = comp_extractors( extractor_training_object )\n",
        "  File \"<ipython-input-23-91249bf1c046>\", line 19, in comp_extractors\n",
        "    extraction_results = get_extraction_results( eto )\n",
        "  File \"<ipython-input-22-35bdc612153c>\", line 10, in get_extraction_results\n",
        "    ret['python_readibilty'] = { 'extracted_html': extract_with_python_readability( raw_content ) }\n",
        "  File \"<ipython-input-8-5916dff6f29a>\", line 6, in extract_with_python_readability\n",
        "    return doc.short_title() + \"\\n\\n\" + doc.summary()\n",
        "  File \"/usr/local/lib/python2.7/dist-packages/readability/readability.py\", line 139, in short_title\n",
        "    return shorten_title(self._html(True))\n",
        "  File \"/usr/local/lib/python2.7/dist-packages/readability/readability.py\", line 119, in _html\n",
        "    self.html = self._parse(self.input)\n",
        "  File \"/usr/local/lib/python2.7/dist-packages/readability/readability.py\", line 123, in _parse\n",
        "    doc, self.encoding = build_doc(input)\n",
        "  File \"/usr/local/lib/python2.7/dist-packages/readability/htmls.py\", line 17, in build_doc\n",
        "    doc = lxml.html.document_fromstring(page_unicode.encode('utf-8', 'replace'), parser=utf8_parser)\n",
        "  File \"/usr/local/lib/python2.7/dist-packages/lxml/html/__init__.py\", line 568, in document_fromstring\n",
        "    value = etree.fromstring(html, parser, **kw)\n",
        "  File \"lxml.etree.pyx\", line 2997, in lxml.etree.fromstring (src/lxml/lxml.etree.c:63276)\n",
        "  File \"parser.pxi\", line 1617, in lxml.etree._parseMemoryDocument (src/lxml/lxml.etree.c:93691)\n",
        "  File \"parser.pxi\", line 1495, in lxml.etree._parseDoc (src/lxml/lxml.etree.c:92490)\n",
        "  File \"parser.pxi\", line 1011, in lxml.etree._BaseParser._parseDoc (src/lxml/lxml.etree.c:89130)\n",
        "  File \"parser.pxi\", line 577, in lxml.etree._ParserContext._handleParseResultDoc (src/lxml/lxml.etree.c:84831)\n",
        "  File \"parser.pxi\", line 676, in lxml.etree._handleParseResult (src/lxml/lxml.etree.c:85936)\n",
        "  File \"parser.pxi\", line 625, in lxml.etree._raiseParseError (src/lxml/lxml.etree.c:85392)\n",
        "XMLSyntaxError: line 1092: htmlParseEntityRef: no name\n",
        "Traceback (most recent call last):\n"
       ]
      },
      {
       "output_type": "stream",
       "stream": "stdout",
       "text": [
        "\n",
        "(<class 'lxml.etree.XMLSyntaxError'>, XMLSyntaxError(u'line 1092: htmlParseEntityRef: no name',), <traceback object at 0x7f564eca3d40>)\n",
        "processed  301\n",
        "skipped  27\n",
        "499738311\n",
        "error on download499738311"
       ]
      },
      {
       "output_type": "stream",
       "stream": "stderr",
       "text": [
        "  File \"<ipython-input-41-0e1172e16ab4>\", line 11, in <module>\n",
        "    res = comp_extractors( extractor_training_object )\n",
        "  File \"<ipython-input-23-91249bf1c046>\", line 19, in comp_extractors\n",
        "    extraction_results = get_extraction_results( eto )\n",
        "  File \"<ipython-input-22-35bdc612153c>\", line 10, in get_extraction_results\n",
        "    ret['python_readibilty'] = { 'extracted_html': extract_with_python_readability( raw_content ) }\n",
        "  File \"<ipython-input-8-5916dff6f29a>\", line 6, in extract_with_python_readability\n",
        "    return doc.short_title() + \"\\n\\n\" + doc.summary()\n",
        "  File \"/usr/local/lib/python2.7/dist-packages/readability/readability.py\", line 139, in short_title\n",
        "    return shorten_title(self._html(True))\n",
        "  File \"/usr/local/lib/python2.7/dist-packages/readability/readability.py\", line 119, in _html\n",
        "    self.html = self._parse(self.input)\n",
        "  File \"/usr/local/lib/python2.7/dist-packages/readability/readability.py\", line 123, in _parse\n",
        "    doc, self.encoding = build_doc(input)\n",
        "  File \"/usr/local/lib/python2.7/dist-packages/readability/htmls.py\", line 17, in build_doc\n",
        "    doc = lxml.html.document_fromstring(page_unicode.encode('utf-8', 'replace'), parser=utf8_parser)\n",
        "  File \"/usr/local/lib/python2.7/dist-packages/lxml/html/__init__.py\", line 568, in document_fromstring\n",
        "    value = etree.fromstring(html, parser, **kw)\n",
        "  File \"lxml.etree.pyx\", line 2997, in lxml.etree.fromstring (src/lxml/lxml.etree.c:63276)\n",
        "  File \"parser.pxi\", line 1617, in lxml.etree._parseMemoryDocument (src/lxml/lxml.etree.c:93691)\n",
        "  File \"parser.pxi\", line 1495, in lxml.etree._parseDoc (src/lxml/lxml.etree.c:92490)\n",
        "  File \"parser.pxi\", line 1011, in lxml.etree._BaseParser._parseDoc (src/lxml/lxml.etree.c:89130)\n",
        "  File \"parser.pxi\", line 577, in lxml.etree._ParserContext._handleParseResultDoc (src/lxml/lxml.etree.c:84831)\n",
        "  File \"parser.pxi\", line 676, in lxml.etree._handleParseResult (src/lxml/lxml.etree.c:85936)\n",
        "  File \"parser.pxi\", line 625, in lxml.etree._raiseParseError (src/lxml/lxml.etree.c:85392)\n",
        "XMLSyntaxError: line 1092: htmlParseEntityRef: no name\n",
        "Traceback (most recent call last):\n"
       ]
      },
      {
       "output_type": "stream",
       "stream": "stdout",
       "text": [
        "\n",
        "(<class 'lxml.etree.XMLSyntaxError'>, XMLSyntaxError(u'line 1092: htmlParseEntityRef: no name',), <traceback object at 0x7f564ec8d200>)\n",
        "processed  301\n",
        "skipped  28\n",
        "499979607\n",
        "error on download499979607"
       ]
      },
      {
       "output_type": "stream",
       "stream": "stderr",
       "text": [
        "  File \"<ipython-input-41-0e1172e16ab4>\", line 11, in <module>\n",
        "    res = comp_extractors( extractor_training_object )\n",
        "  File \"<ipython-input-23-91249bf1c046>\", line 19, in comp_extractors\n",
        "    extraction_results = get_extraction_results( eto )\n",
        "  File \"<ipython-input-22-35bdc612153c>\", line 10, in get_extraction_results\n",
        "    ret['python_readibilty'] = { 'extracted_html': extract_with_python_readability( raw_content ) }\n",
        "  File \"<ipython-input-8-5916dff6f29a>\", line 6, in extract_with_python_readability\n",
        "    return doc.short_title() + \"\\n\\n\" + doc.summary()\n",
        "  File \"/usr/local/lib/python2.7/dist-packages/readability/readability.py\", line 139, in short_title\n",
        "    return shorten_title(self._html(True))\n",
        "  File \"/usr/local/lib/python2.7/dist-packages/readability/readability.py\", line 119, in _html\n",
        "    self.html = self._parse(self.input)\n",
        "  File \"/usr/local/lib/python2.7/dist-packages/readability/readability.py\", line 123, in _parse\n",
        "    doc, self.encoding = build_doc(input)\n",
        "  File \"/usr/local/lib/python2.7/dist-packages/readability/htmls.py\", line 17, in build_doc\n",
        "    doc = lxml.html.document_fromstring(page_unicode.encode('utf-8', 'replace'), parser=utf8_parser)\n",
        "  File \"/usr/local/lib/python2.7/dist-packages/lxml/html/__init__.py\", line 568, in document_fromstring\n",
        "    value = etree.fromstring(html, parser, **kw)\n",
        "  File \"lxml.etree.pyx\", line 2997, in lxml.etree.fromstring (src/lxml/lxml.etree.c:63276)\n",
        "  File \"parser.pxi\", line 1617, in lxml.etree._parseMemoryDocument (src/lxml/lxml.etree.c:93691)\n",
        "  File \"parser.pxi\", line 1495, in lxml.etree._parseDoc (src/lxml/lxml.etree.c:92490)\n",
        "  File \"parser.pxi\", line 1011, in lxml.etree._BaseParser._parseDoc (src/lxml/lxml.etree.c:89130)\n",
        "  File \"parser.pxi\", line 577, in lxml.etree._ParserContext._handleParseResultDoc (src/lxml/lxml.etree.c:84831)\n",
        "  File \"parser.pxi\", line 676, in lxml.etree._handleParseResult (src/lxml/lxml.etree.c:85936)\n",
        "  File \"parser.pxi\", line 625, in lxml.etree._raiseParseError (src/lxml/lxml.etree.c:85392)\n",
        "XMLSyntaxError: line 1092: htmlParseEntityRef: no name\n",
        "Traceback (most recent call last):\n"
       ]
      },
      {
       "output_type": "stream",
       "stream": "stdout",
       "text": [
        "\n",
        "(<class 'lxml.etree.XMLSyntaxError'>, XMLSyntaxError(u'line 1092: htmlParseEntityRef: no name',), <traceback object at 0x7f564ec8d680>)\n",
        "processed  301\n",
        "skipped  29\n",
        "500618275\n",
        "error on download500618275"
       ]
      },
      {
       "output_type": "stream",
       "stream": "stderr",
       "text": [
        "  File \"<ipython-input-41-0e1172e16ab4>\", line 11, in <module>\n",
        "    res = comp_extractors( extractor_training_object )\n",
        "  File \"<ipython-input-23-91249bf1c046>\", line 19, in comp_extractors\n",
        "    extraction_results = get_extraction_results( eto )\n",
        "  File \"<ipython-input-22-35bdc612153c>\", line 10, in get_extraction_results\n",
        "    ret['python_readibilty'] = { 'extracted_html': extract_with_python_readability( raw_content ) }\n",
        "  File \"<ipython-input-8-5916dff6f29a>\", line 6, in extract_with_python_readability\n",
        "    return doc.short_title() + \"\\n\\n\" + doc.summary()\n",
        "  File \"/usr/local/lib/python2.7/dist-packages/readability/readability.py\", line 139, in short_title\n",
        "    return shorten_title(self._html(True))\n",
        "  File \"/usr/local/lib/python2.7/dist-packages/readability/readability.py\", line 119, in _html\n",
        "    self.html = self._parse(self.input)\n",
        "  File \"/usr/local/lib/python2.7/dist-packages/readability/readability.py\", line 123, in _parse\n",
        "    doc, self.encoding = build_doc(input)\n",
        "  File \"/usr/local/lib/python2.7/dist-packages/readability/htmls.py\", line 17, in build_doc\n",
        "    doc = lxml.html.document_fromstring(page_unicode.encode('utf-8', 'replace'), parser=utf8_parser)\n",
        "  File \"/usr/local/lib/python2.7/dist-packages/lxml/html/__init__.py\", line 568, in document_fromstring\n",
        "    value = etree.fromstring(html, parser, **kw)\n",
        "  File \"lxml.etree.pyx\", line 2997, in lxml.etree.fromstring (src/lxml/lxml.etree.c:63276)\n",
        "  File \"parser.pxi\", line 1617, in lxml.etree._parseMemoryDocument (src/lxml/lxml.etree.c:93691)\n",
        "  File \"parser.pxi\", line 1495, in lxml.etree._parseDoc (src/lxml/lxml.etree.c:92490)\n",
        "  File \"parser.pxi\", line 1011, in lxml.etree._BaseParser._parseDoc (src/lxml/lxml.etree.c:89130)\n",
        "  File \"parser.pxi\", line 577, in lxml.etree._ParserContext._handleParseResultDoc (src/lxml/lxml.etree.c:84831)\n",
        "  File \"parser.pxi\", line 676, in lxml.etree._handleParseResult (src/lxml/lxml.etree.c:85936)\n",
        "  File \"parser.pxi\", line 625, in lxml.etree._raiseParseError (src/lxml/lxml.etree.c:85392)\n",
        "XMLSyntaxError: line 1092: htmlParseEntityRef: no name\n",
        "Traceback (most recent call last):\n"
       ]
      },
      {
       "output_type": "stream",
       "stream": "stdout",
       "text": [
        "\n",
        "(<class 'lxml.etree.XMLSyntaxError'>, XMLSyntaxError(u'line 1092: htmlParseEntityRef: no name',), <traceback object at 0x7f564ec8db00>)\n",
        "processed  301\n",
        "skipped  30\n",
        "501409722\n",
        "error on download501409722"
       ]
      },
      {
       "output_type": "stream",
       "stream": "stderr",
       "text": [
        "  File \"<ipython-input-41-0e1172e16ab4>\", line 11, in <module>\n",
        "    res = comp_extractors( extractor_training_object )\n",
        "  File \"<ipython-input-23-91249bf1c046>\", line 19, in comp_extractors\n",
        "    extraction_results = get_extraction_results( eto )\n",
        "  File \"<ipython-input-22-35bdc612153c>\", line 10, in get_extraction_results\n",
        "    ret['python_readibilty'] = { 'extracted_html': extract_with_python_readability( raw_content ) }\n",
        "  File \"<ipython-input-8-5916dff6f29a>\", line 6, in extract_with_python_readability\n",
        "    return doc.short_title() + \"\\n\\n\" + doc.summary()\n",
        "  File \"/usr/local/lib/python2.7/dist-packages/readability/readability.py\", line 139, in short_title\n",
        "    return shorten_title(self._html(True))\n",
        "  File \"/usr/local/lib/python2.7/dist-packages/readability/readability.py\", line 119, in _html\n",
        "    self.html = self._parse(self.input)\n",
        "  File \"/usr/local/lib/python2.7/dist-packages/readability/readability.py\", line 123, in _parse\n",
        "    doc, self.encoding = build_doc(input)\n",
        "  File \"/usr/local/lib/python2.7/dist-packages/readability/htmls.py\", line 17, in build_doc\n",
        "    doc = lxml.html.document_fromstring(page_unicode.encode('utf-8', 'replace'), parser=utf8_parser)\n",
        "  File \"/usr/local/lib/python2.7/dist-packages/lxml/html/__init__.py\", line 568, in document_fromstring\n",
        "    value = etree.fromstring(html, parser, **kw)\n",
        "  File \"lxml.etree.pyx\", line 2997, in lxml.etree.fromstring (src/lxml/lxml.etree.c:63276)\n",
        "  File \"parser.pxi\", line 1617, in lxml.etree._parseMemoryDocument (src/lxml/lxml.etree.c:93691)\n",
        "  File \"parser.pxi\", line 1495, in lxml.etree._parseDoc (src/lxml/lxml.etree.c:92490)\n",
        "  File \"parser.pxi\", line 1011, in lxml.etree._BaseParser._parseDoc (src/lxml/lxml.etree.c:89130)\n",
        "  File \"parser.pxi\", line 577, in lxml.etree._ParserContext._handleParseResultDoc (src/lxml/lxml.etree.c:84831)\n",
        "  File \"parser.pxi\", line 676, in lxml.etree._handleParseResult (src/lxml/lxml.etree.c:85936)\n",
        "  File \"parser.pxi\", line 625, in lxml.etree._raiseParseError (src/lxml/lxml.etree.c:85392)\n",
        "XMLSyntaxError: line 1092: htmlParseEntityRef: no name\n",
        "Traceback (most recent call last):\n"
       ]
      },
      {
       "output_type": "stream",
       "stream": "stdout",
       "text": [
        "\n",
        "(<class 'lxml.etree.XMLSyntaxError'>, XMLSyntaxError(u'line 1092: htmlParseEntityRef: no name',), <traceback object at 0x7f564ec8df80>)\n",
        "processed  301\n",
        "skipped  31\n",
        "501420351\n",
        "error on download501420351"
       ]
      },
      {
       "output_type": "stream",
       "stream": "stderr",
       "text": [
        "  File \"<ipython-input-41-0e1172e16ab4>\", line 11, in <module>\n",
        "    res = comp_extractors( extractor_training_object )\n",
        "  File \"<ipython-input-23-91249bf1c046>\", line 19, in comp_extractors\n",
        "    extraction_results = get_extraction_results( eto )\n",
        "  File \"<ipython-input-22-35bdc612153c>\", line 10, in get_extraction_results\n",
        "    ret['python_readibilty'] = { 'extracted_html': extract_with_python_readability( raw_content ) }\n",
        "  File \"<ipython-input-8-5916dff6f29a>\", line 6, in extract_with_python_readability\n",
        "    return doc.short_title() + \"\\n\\n\" + doc.summary()\n",
        "  File \"/usr/local/lib/python2.7/dist-packages/readability/readability.py\", line 139, in short_title\n",
        "    return shorten_title(self._html(True))\n",
        "  File \"/usr/local/lib/python2.7/dist-packages/readability/readability.py\", line 119, in _html\n",
        "    self.html = self._parse(self.input)\n",
        "  File \"/usr/local/lib/python2.7/dist-packages/readability/readability.py\", line 123, in _parse\n",
        "    doc, self.encoding = build_doc(input)\n",
        "  File \"/usr/local/lib/python2.7/dist-packages/readability/htmls.py\", line 17, in build_doc\n",
        "    doc = lxml.html.document_fromstring(page_unicode.encode('utf-8', 'replace'), parser=utf8_parser)\n",
        "  File \"/usr/local/lib/python2.7/dist-packages/lxml/html/__init__.py\", line 568, in document_fromstring\n",
        "    value = etree.fromstring(html, parser, **kw)\n",
        "  File \"lxml.etree.pyx\", line 2997, in lxml.etree.fromstring (src/lxml/lxml.etree.c:63276)\n",
        "  File \"parser.pxi\", line 1617, in lxml.etree._parseMemoryDocument (src/lxml/lxml.etree.c:93691)\n",
        "  File \"parser.pxi\", line 1495, in lxml.etree._parseDoc (src/lxml/lxml.etree.c:92490)\n",
        "  File \"parser.pxi\", line 1011, in lxml.etree._BaseParser._parseDoc (src/lxml/lxml.etree.c:89130)\n",
        "  File \"parser.pxi\", line 577, in lxml.etree._ParserContext._handleParseResultDoc (src/lxml/lxml.etree.c:84831)\n",
        "  File \"parser.pxi\", line 676, in lxml.etree._handleParseResult (src/lxml/lxml.etree.c:85936)\n",
        "  File \"parser.pxi\", line 625, in lxml.etree._raiseParseError (src/lxml/lxml.etree.c:85392)\n",
        "XMLSyntaxError: line 1092: htmlParseEntityRef: no name\n",
        "Traceback (most recent call last):\n"
       ]
      },
      {
       "output_type": "stream",
       "stream": "stdout",
       "text": [
        "\n",
        "(<class 'lxml.etree.XMLSyntaxError'>, XMLSyntaxError(u'line 1092: htmlParseEntityRef: no name',), <traceback object at 0x7f564ecb3440>)\n",
        "processed  301\n",
        "skipped  32\n",
        "501420884\n",
        "error on download501420884"
       ]
      },
      {
       "output_type": "stream",
       "stream": "stderr",
       "text": [
        "  File \"<ipython-input-41-0e1172e16ab4>\", line 11, in <module>\n",
        "    res = comp_extractors( extractor_training_object )\n",
        "  File \"<ipython-input-23-91249bf1c046>\", line 19, in comp_extractors\n",
        "    extraction_results = get_extraction_results( eto )\n",
        "  File \"<ipython-input-22-35bdc612153c>\", line 10, in get_extraction_results\n",
        "    ret['python_readibilty'] = { 'extracted_html': extract_with_python_readability( raw_content ) }\n",
        "  File \"<ipython-input-8-5916dff6f29a>\", line 6, in extract_with_python_readability\n",
        "    return doc.short_title() + \"\\n\\n\" + doc.summary()\n",
        "  File \"/usr/local/lib/python2.7/dist-packages/readability/readability.py\", line 139, in short_title\n",
        "    return shorten_title(self._html(True))\n",
        "  File \"/usr/local/lib/python2.7/dist-packages/readability/readability.py\", line 119, in _html\n",
        "    self.html = self._parse(self.input)\n",
        "  File \"/usr/local/lib/python2.7/dist-packages/readability/readability.py\", line 123, in _parse\n",
        "    doc, self.encoding = build_doc(input)\n",
        "  File \"/usr/local/lib/python2.7/dist-packages/readability/htmls.py\", line 17, in build_doc\n",
        "    doc = lxml.html.document_fromstring(page_unicode.encode('utf-8', 'replace'), parser=utf8_parser)\n",
        "  File \"/usr/local/lib/python2.7/dist-packages/lxml/html/__init__.py\", line 568, in document_fromstring\n",
        "    value = etree.fromstring(html, parser, **kw)\n",
        "  File \"lxml.etree.pyx\", line 2997, in lxml.etree.fromstring (src/lxml/lxml.etree.c:63276)\n",
        "  File \"parser.pxi\", line 1617, in lxml.etree._parseMemoryDocument (src/lxml/lxml.etree.c:93691)\n",
        "  File \"parser.pxi\", line 1495, in lxml.etree._parseDoc (src/lxml/lxml.etree.c:92490)\n",
        "  File \"parser.pxi\", line 1011, in lxml.etree._BaseParser._parseDoc (src/lxml/lxml.etree.c:89130)\n",
        "  File \"parser.pxi\", line 577, in lxml.etree._ParserContext._handleParseResultDoc (src/lxml/lxml.etree.c:84831)\n",
        "  File \"parser.pxi\", line 676, in lxml.etree._handleParseResult (src/lxml/lxml.etree.c:85936)\n",
        "  File \"parser.pxi\", line 625, in lxml.etree._raiseParseError (src/lxml/lxml.etree.c:85392)\n",
        "XMLSyntaxError: line 1092: htmlParseEntityRef: no name\n",
        "Traceback (most recent call last):\n"
       ]
      },
      {
       "output_type": "stream",
       "stream": "stdout",
       "text": [
        "\n",
        "(<class 'lxml.etree.XMLSyntaxError'>, XMLSyntaxError(u'line 1092: htmlParseEntityRef: no name',), <traceback object at 0x7f564ecb38c0>)\n",
        "processed  301\n",
        "skipped  33\n",
        "501421014\n",
        "error on download501421014"
       ]
      },
      {
       "output_type": "stream",
       "stream": "stderr",
       "text": [
        "  File \"<ipython-input-41-0e1172e16ab4>\", line 11, in <module>\n",
        "    res = comp_extractors( extractor_training_object )\n",
        "  File \"<ipython-input-23-91249bf1c046>\", line 19, in comp_extractors\n",
        "    extraction_results = get_extraction_results( eto )\n",
        "  File \"<ipython-input-22-35bdc612153c>\", line 10, in get_extraction_results\n",
        "    ret['python_readibilty'] = { 'extracted_html': extract_with_python_readability( raw_content ) }\n",
        "  File \"<ipython-input-8-5916dff6f29a>\", line 6, in extract_with_python_readability\n",
        "    return doc.short_title() + \"\\n\\n\" + doc.summary()\n",
        "  File \"/usr/local/lib/python2.7/dist-packages/readability/readability.py\", line 139, in short_title\n",
        "    return shorten_title(self._html(True))\n",
        "  File \"/usr/local/lib/python2.7/dist-packages/readability/readability.py\", line 119, in _html\n",
        "    self.html = self._parse(self.input)\n",
        "  File \"/usr/local/lib/python2.7/dist-packages/readability/readability.py\", line 123, in _parse\n",
        "    doc, self.encoding = build_doc(input)\n",
        "  File \"/usr/local/lib/python2.7/dist-packages/readability/htmls.py\", line 17, in build_doc\n",
        "    doc = lxml.html.document_fromstring(page_unicode.encode('utf-8', 'replace'), parser=utf8_parser)\n",
        "  File \"/usr/local/lib/python2.7/dist-packages/lxml/html/__init__.py\", line 568, in document_fromstring\n",
        "    value = etree.fromstring(html, parser, **kw)\n",
        "  File \"lxml.etree.pyx\", line 2997, in lxml.etree.fromstring (src/lxml/lxml.etree.c:63276)\n",
        "  File \"parser.pxi\", line 1617, in lxml.etree._parseMemoryDocument (src/lxml/lxml.etree.c:93691)\n",
        "  File \"parser.pxi\", line 1495, in lxml.etree._parseDoc (src/lxml/lxml.etree.c:92490)\n",
        "  File \"parser.pxi\", line 1011, in lxml.etree._BaseParser._parseDoc (src/lxml/lxml.etree.c:89130)\n",
        "  File \"parser.pxi\", line 577, in lxml.etree._ParserContext._handleParseResultDoc (src/lxml/lxml.etree.c:84831)\n",
        "  File \"parser.pxi\", line 676, in lxml.etree._handleParseResult (src/lxml/lxml.etree.c:85936)\n",
        "  File \"parser.pxi\", line 625, in lxml.etree._raiseParseError (src/lxml/lxml.etree.c:85392)\n",
        "XMLSyntaxError: line 1092: htmlParseEntityRef: no name\n",
        "Traceback (most recent call last):\n"
       ]
      },
      {
       "output_type": "stream",
       "stream": "stdout",
       "text": [
        "\n",
        "(<class 'lxml.etree.XMLSyntaxError'>, XMLSyntaxError(u'line 1092: htmlParseEntityRef: no name',), <traceback object at 0x7f564ecb3d40>)\n",
        "processed  301\n",
        "skipped  34\n",
        "501431149\n",
        "error on download501431149"
       ]
      },
      {
       "output_type": "stream",
       "stream": "stderr",
       "text": [
        "  File \"<ipython-input-41-0e1172e16ab4>\", line 11, in <module>\n",
        "    res = comp_extractors( extractor_training_object )\n",
        "  File \"<ipython-input-23-91249bf1c046>\", line 19, in comp_extractors\n",
        "    extraction_results = get_extraction_results( eto )\n",
        "  File \"<ipython-input-22-35bdc612153c>\", line 10, in get_extraction_results\n",
        "    ret['python_readibilty'] = { 'extracted_html': extract_with_python_readability( raw_content ) }\n",
        "  File \"<ipython-input-8-5916dff6f29a>\", line 6, in extract_with_python_readability\n",
        "    return doc.short_title() + \"\\n\\n\" + doc.summary()\n",
        "  File \"/usr/local/lib/python2.7/dist-packages/readability/readability.py\", line 139, in short_title\n",
        "    return shorten_title(self._html(True))\n",
        "  File \"/usr/local/lib/python2.7/dist-packages/readability/readability.py\", line 119, in _html\n",
        "    self.html = self._parse(self.input)\n",
        "  File \"/usr/local/lib/python2.7/dist-packages/readability/readability.py\", line 123, in _parse\n",
        "    doc, self.encoding = build_doc(input)\n",
        "  File \"/usr/local/lib/python2.7/dist-packages/readability/htmls.py\", line 17, in build_doc\n",
        "    doc = lxml.html.document_fromstring(page_unicode.encode('utf-8', 'replace'), parser=utf8_parser)\n",
        "  File \"/usr/local/lib/python2.7/dist-packages/lxml/html/__init__.py\", line 568, in document_fromstring\n",
        "    value = etree.fromstring(html, parser, **kw)\n",
        "  File \"lxml.etree.pyx\", line 2997, in lxml.etree.fromstring (src/lxml/lxml.etree.c:63276)\n",
        "  File \"parser.pxi\", line 1617, in lxml.etree._parseMemoryDocument (src/lxml/lxml.etree.c:93691)\n",
        "  File \"parser.pxi\", line 1495, in lxml.etree._parseDoc (src/lxml/lxml.etree.c:92490)\n",
        "  File \"parser.pxi\", line 1011, in lxml.etree._BaseParser._parseDoc (src/lxml/lxml.etree.c:89130)\n",
        "  File \"parser.pxi\", line 577, in lxml.etree._ParserContext._handleParseResultDoc (src/lxml/lxml.etree.c:84831)\n",
        "  File \"parser.pxi\", line 676, in lxml.etree._handleParseResult (src/lxml/lxml.etree.c:85936)\n",
        "  File \"parser.pxi\", line 625, in lxml.etree._raiseParseError (src/lxml/lxml.etree.c:85392)\n",
        "XMLSyntaxError: line 1092: htmlParseEntityRef: no name\n",
        "Traceback (most recent call last):\n"
       ]
      },
      {
       "output_type": "stream",
       "stream": "stdout",
       "text": [
        "\n",
        "(<class 'lxml.etree.XMLSyntaxError'>, XMLSyntaxError(u'line 1092: htmlParseEntityRef: no name',), <traceback object at 0x7f564ec98200>)\n",
        "processed  301\n",
        "skipped  35\n",
        "501442658\n",
        "error on download501442658"
       ]
      },
      {
       "output_type": "stream",
       "stream": "stderr",
       "text": [
        "  File \"<ipython-input-41-0e1172e16ab4>\", line 11, in <module>\n",
        "    res = comp_extractors( extractor_training_object )\n",
        "  File \"<ipython-input-23-91249bf1c046>\", line 19, in comp_extractors\n",
        "    extraction_results = get_extraction_results( eto )\n",
        "  File \"<ipython-input-22-35bdc612153c>\", line 10, in get_extraction_results\n",
        "    ret['python_readibilty'] = { 'extracted_html': extract_with_python_readability( raw_content ) }\n",
        "  File \"<ipython-input-8-5916dff6f29a>\", line 6, in extract_with_python_readability\n",
        "    return doc.short_title() + \"\\n\\n\" + doc.summary()\n",
        "  File \"/usr/local/lib/python2.7/dist-packages/readability/readability.py\", line 139, in short_title\n",
        "    return shorten_title(self._html(True))\n",
        "  File \"/usr/local/lib/python2.7/dist-packages/readability/readability.py\", line 119, in _html\n",
        "    self.html = self._parse(self.input)\n",
        "  File \"/usr/local/lib/python2.7/dist-packages/readability/readability.py\", line 123, in _parse\n",
        "    doc, self.encoding = build_doc(input)\n",
        "  File \"/usr/local/lib/python2.7/dist-packages/readability/htmls.py\", line 17, in build_doc\n",
        "    doc = lxml.html.document_fromstring(page_unicode.encode('utf-8', 'replace'), parser=utf8_parser)\n",
        "  File \"/usr/local/lib/python2.7/dist-packages/lxml/html/__init__.py\", line 568, in document_fromstring\n",
        "    value = etree.fromstring(html, parser, **kw)\n",
        "  File \"lxml.etree.pyx\", line 2997, in lxml.etree.fromstring (src/lxml/lxml.etree.c:63276)\n",
        "  File \"parser.pxi\", line 1617, in lxml.etree._parseMemoryDocument (src/lxml/lxml.etree.c:93691)\n",
        "  File \"parser.pxi\", line 1495, in lxml.etree._parseDoc (src/lxml/lxml.etree.c:92490)\n",
        "  File \"parser.pxi\", line 1011, in lxml.etree._BaseParser._parseDoc (src/lxml/lxml.etree.c:89130)\n",
        "  File \"parser.pxi\", line 577, in lxml.etree._ParserContext._handleParseResultDoc (src/lxml/lxml.etree.c:84831)\n",
        "  File \"parser.pxi\", line 676, in lxml.etree._handleParseResult (src/lxml/lxml.etree.c:85936)\n",
        "  File \"parser.pxi\", line 625, in lxml.etree._raiseParseError (src/lxml/lxml.etree.c:85392)\n",
        "XMLSyntaxError: line 1092: htmlParseEntityRef: no name\n",
        "Traceback (most recent call last):\n"
       ]
      },
      {
       "output_type": "stream",
       "stream": "stdout",
       "text": [
        "\n",
        "(<class 'lxml.etree.XMLSyntaxError'>, XMLSyntaxError(u'line 1092: htmlParseEntityRef: no name',), <traceback object at 0x7f564ec98680>)\n",
        "processed  301\n",
        "skipped  36\n",
        "501453175\n",
        "error on download501453175"
       ]
      },
      {
       "output_type": "stream",
       "stream": "stderr",
       "text": [
        "  File \"<ipython-input-41-0e1172e16ab4>\", line 11, in <module>\n",
        "    res = comp_extractors( extractor_training_object )\n",
        "  File \"<ipython-input-23-91249bf1c046>\", line 19, in comp_extractors\n",
        "    extraction_results = get_extraction_results( eto )\n",
        "  File \"<ipython-input-22-35bdc612153c>\", line 10, in get_extraction_results\n",
        "    ret['python_readibilty'] = { 'extracted_html': extract_with_python_readability( raw_content ) }\n",
        "  File \"<ipython-input-8-5916dff6f29a>\", line 6, in extract_with_python_readability\n",
        "    return doc.short_title() + \"\\n\\n\" + doc.summary()\n",
        "  File \"/usr/local/lib/python2.7/dist-packages/readability/readability.py\", line 139, in short_title\n",
        "    return shorten_title(self._html(True))\n",
        "  File \"/usr/local/lib/python2.7/dist-packages/readability/readability.py\", line 119, in _html\n",
        "    self.html = self._parse(self.input)\n",
        "  File \"/usr/local/lib/python2.7/dist-packages/readability/readability.py\", line 123, in _parse\n",
        "    doc, self.encoding = build_doc(input)\n",
        "  File \"/usr/local/lib/python2.7/dist-packages/readability/htmls.py\", line 17, in build_doc\n",
        "    doc = lxml.html.document_fromstring(page_unicode.encode('utf-8', 'replace'), parser=utf8_parser)\n",
        "  File \"/usr/local/lib/python2.7/dist-packages/lxml/html/__init__.py\", line 568, in document_fromstring\n",
        "    value = etree.fromstring(html, parser, **kw)\n",
        "  File \"lxml.etree.pyx\", line 2997, in lxml.etree.fromstring (src/lxml/lxml.etree.c:63276)\n",
        "  File \"parser.pxi\", line 1617, in lxml.etree._parseMemoryDocument (src/lxml/lxml.etree.c:93691)\n",
        "  File \"parser.pxi\", line 1495, in lxml.etree._parseDoc (src/lxml/lxml.etree.c:92490)\n",
        "  File \"parser.pxi\", line 1011, in lxml.etree._BaseParser._parseDoc (src/lxml/lxml.etree.c:89130)\n",
        "  File \"parser.pxi\", line 577, in lxml.etree._ParserContext._handleParseResultDoc (src/lxml/lxml.etree.c:84831)\n",
        "  File \"parser.pxi\", line 676, in lxml.etree._handleParseResult (src/lxml/lxml.etree.c:85936)\n",
        "  File \"parser.pxi\", line 625, in lxml.etree._raiseParseError (src/lxml/lxml.etree.c:85392)\n",
        "XMLSyntaxError: line 1092: htmlParseEntityRef: no name\n",
        "Traceback (most recent call last):\n"
       ]
      },
      {
       "output_type": "stream",
       "stream": "stdout",
       "text": [
        "\n",
        "(<class 'lxml.etree.XMLSyntaxError'>, XMLSyntaxError(u'line 1092: htmlParseEntityRef: no name',), <traceback object at 0x7f564ec98b00>)\n",
        "processed  301\n",
        "skipped  37\n",
        "501471473\n",
        "error on download501471473"
       ]
      },
      {
       "output_type": "stream",
       "stream": "stderr",
       "text": [
        "  File \"<ipython-input-41-0e1172e16ab4>\", line 11, in <module>\n",
        "    res = comp_extractors( extractor_training_object )\n",
        "  File \"<ipython-input-23-91249bf1c046>\", line 19, in comp_extractors\n",
        "    extraction_results = get_extraction_results( eto )\n",
        "  File \"<ipython-input-22-35bdc612153c>\", line 10, in get_extraction_results\n",
        "    ret['python_readibilty'] = { 'extracted_html': extract_with_python_readability( raw_content ) }\n",
        "  File \"<ipython-input-8-5916dff6f29a>\", line 6, in extract_with_python_readability\n",
        "    return doc.short_title() + \"\\n\\n\" + doc.summary()\n",
        "  File \"/usr/local/lib/python2.7/dist-packages/readability/readability.py\", line 139, in short_title\n",
        "    return shorten_title(self._html(True))\n",
        "  File \"/usr/local/lib/python2.7/dist-packages/readability/readability.py\", line 119, in _html\n",
        "    self.html = self._parse(self.input)\n",
        "  File \"/usr/local/lib/python2.7/dist-packages/readability/readability.py\", line 123, in _parse\n",
        "    doc, self.encoding = build_doc(input)\n",
        "  File \"/usr/local/lib/python2.7/dist-packages/readability/htmls.py\", line 17, in build_doc\n",
        "    doc = lxml.html.document_fromstring(page_unicode.encode('utf-8', 'replace'), parser=utf8_parser)\n",
        "  File \"/usr/local/lib/python2.7/dist-packages/lxml/html/__init__.py\", line 568, in document_fromstring\n",
        "    value = etree.fromstring(html, parser, **kw)\n",
        "  File \"lxml.etree.pyx\", line 2997, in lxml.etree.fromstring (src/lxml/lxml.etree.c:63276)\n",
        "  File \"parser.pxi\", line 1617, in lxml.etree._parseMemoryDocument (src/lxml/lxml.etree.c:93691)\n",
        "  File \"parser.pxi\", line 1495, in lxml.etree._parseDoc (src/lxml/lxml.etree.c:92490)\n",
        "  File \"parser.pxi\", line 1011, in lxml.etree._BaseParser._parseDoc (src/lxml/lxml.etree.c:89130)\n",
        "  File \"parser.pxi\", line 577, in lxml.etree._ParserContext._handleParseResultDoc (src/lxml/lxml.etree.c:84831)\n",
        "  File \"parser.pxi\", line 676, in lxml.etree._handleParseResult (src/lxml/lxml.etree.c:85936)\n",
        "  File \"parser.pxi\", line 625, in lxml.etree._raiseParseError (src/lxml/lxml.etree.c:85392)\n",
        "XMLSyntaxError: line 1092: htmlParseEntityRef: no name\n",
        "Traceback (most recent call last):\n"
       ]
      },
      {
       "output_type": "stream",
       "stream": "stdout",
       "text": [
        "\n",
        "(<class 'lxml.etree.XMLSyntaxError'>, XMLSyntaxError(u'line 1092: htmlParseEntityRef: no name',), <traceback object at 0x7f564ec98f80>)\n",
        "processed  301\n",
        "skipped  38\n",
        "502622175\n",
        "error on download502622175"
       ]
      },
      {
       "output_type": "stream",
       "stream": "stderr",
       "text": [
        "  File \"<ipython-input-41-0e1172e16ab4>\", line 11, in <module>\n",
        "    res = comp_extractors( extractor_training_object )\n",
        "  File \"<ipython-input-23-91249bf1c046>\", line 19, in comp_extractors\n",
        "    extraction_results = get_extraction_results( eto )\n",
        "  File \"<ipython-input-22-35bdc612153c>\", line 10, in get_extraction_results\n",
        "    ret['python_readibilty'] = { 'extracted_html': extract_with_python_readability( raw_content ) }\n",
        "  File \"<ipython-input-8-5916dff6f29a>\", line 6, in extract_with_python_readability\n",
        "    return doc.short_title() + \"\\n\\n\" + doc.summary()\n",
        "  File \"/usr/local/lib/python2.7/dist-packages/readability/readability.py\", line 139, in short_title\n",
        "    return shorten_title(self._html(True))\n",
        "  File \"/usr/local/lib/python2.7/dist-packages/readability/readability.py\", line 119, in _html\n",
        "    self.html = self._parse(self.input)\n",
        "  File \"/usr/local/lib/python2.7/dist-packages/readability/readability.py\", line 123, in _parse\n",
        "    doc, self.encoding = build_doc(input)\n",
        "  File \"/usr/local/lib/python2.7/dist-packages/readability/htmls.py\", line 17, in build_doc\n",
        "    doc = lxml.html.document_fromstring(page_unicode.encode('utf-8', 'replace'), parser=utf8_parser)\n",
        "  File \"/usr/local/lib/python2.7/dist-packages/lxml/html/__init__.py\", line 568, in document_fromstring\n",
        "    value = etree.fromstring(html, parser, **kw)\n",
        "  File \"lxml.etree.pyx\", line 2997, in lxml.etree.fromstring (src/lxml/lxml.etree.c:63276)\n",
        "  File \"parser.pxi\", line 1617, in lxml.etree._parseMemoryDocument (src/lxml/lxml.etree.c:93691)\n",
        "  File \"parser.pxi\", line 1495, in lxml.etree._parseDoc (src/lxml/lxml.etree.c:92490)\n",
        "  File \"parser.pxi\", line 1011, in lxml.etree._BaseParser._parseDoc (src/lxml/lxml.etree.c:89130)\n",
        "  File \"parser.pxi\", line 577, in lxml.etree._ParserContext._handleParseResultDoc (src/lxml/lxml.etree.c:84831)\n",
        "  File \"parser.pxi\", line 676, in lxml.etree._handleParseResult (src/lxml/lxml.etree.c:85936)\n",
        "  File \"parser.pxi\", line 625, in lxml.etree._raiseParseError (src/lxml/lxml.etree.c:85392)\n",
        "XMLSyntaxError: line 1092: htmlParseEntityRef: no name\n",
        "Traceback (most recent call last):\n"
       ]
      },
      {
       "output_type": "stream",
       "stream": "stdout",
       "text": [
        "\n",
        "(<class 'lxml.etree.XMLSyntaxError'>, XMLSyntaxError(u'line 1092: htmlParseEntityRef: no name',), <traceback object at 0x7f564ec8e440>)\n",
        "processed  301\n",
        "skipped  39\n",
        "502653177\n",
        "error on download502653177"
       ]
      },
      {
       "output_type": "stream",
       "stream": "stderr",
       "text": [
        "  File \"<ipython-input-41-0e1172e16ab4>\", line 11, in <module>\n",
        "    res = comp_extractors( extractor_training_object )\n",
        "  File \"<ipython-input-23-91249bf1c046>\", line 19, in comp_extractors\n",
        "    extraction_results = get_extraction_results( eto )\n",
        "  File \"<ipython-input-22-35bdc612153c>\", line 10, in get_extraction_results\n",
        "    ret['python_readibilty'] = { 'extracted_html': extract_with_python_readability( raw_content ) }\n",
        "  File \"<ipython-input-8-5916dff6f29a>\", line 6, in extract_with_python_readability\n",
        "    return doc.short_title() + \"\\n\\n\" + doc.summary()\n",
        "  File \"/usr/local/lib/python2.7/dist-packages/readability/readability.py\", line 139, in short_title\n",
        "    return shorten_title(self._html(True))\n",
        "  File \"/usr/local/lib/python2.7/dist-packages/readability/readability.py\", line 119, in _html\n",
        "    self.html = self._parse(self.input)\n",
        "  File \"/usr/local/lib/python2.7/dist-packages/readability/readability.py\", line 123, in _parse\n",
        "    doc, self.encoding = build_doc(input)\n",
        "  File \"/usr/local/lib/python2.7/dist-packages/readability/htmls.py\", line 17, in build_doc\n",
        "    doc = lxml.html.document_fromstring(page_unicode.encode('utf-8', 'replace'), parser=utf8_parser)\n",
        "  File \"/usr/local/lib/python2.7/dist-packages/lxml/html/__init__.py\", line 568, in document_fromstring\n",
        "    value = etree.fromstring(html, parser, **kw)\n",
        "  File \"lxml.etree.pyx\", line 2997, in lxml.etree.fromstring (src/lxml/lxml.etree.c:63276)\n",
        "  File \"parser.pxi\", line 1617, in lxml.etree._parseMemoryDocument (src/lxml/lxml.etree.c:93691)\n",
        "  File \"parser.pxi\", line 1495, in lxml.etree._parseDoc (src/lxml/lxml.etree.c:92490)\n",
        "  File \"parser.pxi\", line 1011, in lxml.etree._BaseParser._parseDoc (src/lxml/lxml.etree.c:89130)\n",
        "  File \"parser.pxi\", line 577, in lxml.etree._ParserContext._handleParseResultDoc (src/lxml/lxml.etree.c:84831)\n",
        "  File \"parser.pxi\", line 676, in lxml.etree._handleParseResult (src/lxml/lxml.etree.c:85936)\n",
        "  File \"parser.pxi\", line 625, in lxml.etree._raiseParseError (src/lxml/lxml.etree.c:85392)\n",
        "XMLSyntaxError: line 1092: htmlParseEntityRef: no name\n",
        "Traceback (most recent call last):\n"
       ]
      },
      {
       "output_type": "stream",
       "stream": "stdout",
       "text": [
        "\n",
        "(<class 'lxml.etree.XMLSyntaxError'>, XMLSyntaxError(u'line 1092: htmlParseEntityRef: no name',), <traceback object at 0x7f564ec8e8c0>)\n",
        "processed  301\n",
        "skipped  40\n",
        "502830407\n",
        "error on download502830407"
       ]
      },
      {
       "output_type": "stream",
       "stream": "stderr",
       "text": [
        "  File \"<ipython-input-41-0e1172e16ab4>\", line 11, in <module>\n",
        "    res = comp_extractors( extractor_training_object )\n",
        "  File \"<ipython-input-23-91249bf1c046>\", line 19, in comp_extractors\n",
        "    extraction_results = get_extraction_results( eto )\n",
        "  File \"<ipython-input-22-35bdc612153c>\", line 10, in get_extraction_results\n",
        "    ret['python_readibilty'] = { 'extracted_html': extract_with_python_readability( raw_content ) }\n",
        "  File \"<ipython-input-8-5916dff6f29a>\", line 6, in extract_with_python_readability\n",
        "    return doc.short_title() + \"\\n\\n\" + doc.summary()\n",
        "  File \"/usr/local/lib/python2.7/dist-packages/readability/readability.py\", line 139, in short_title\n",
        "    return shorten_title(self._html(True))\n",
        "  File \"/usr/local/lib/python2.7/dist-packages/readability/readability.py\", line 119, in _html\n",
        "    self.html = self._parse(self.input)\n",
        "  File \"/usr/local/lib/python2.7/dist-packages/readability/readability.py\", line 123, in _parse\n",
        "    doc, self.encoding = build_doc(input)\n",
        "  File \"/usr/local/lib/python2.7/dist-packages/readability/htmls.py\", line 17, in build_doc\n",
        "    doc = lxml.html.document_fromstring(page_unicode.encode('utf-8', 'replace'), parser=utf8_parser)\n",
        "  File \"/usr/local/lib/python2.7/dist-packages/lxml/html/__init__.py\", line 568, in document_fromstring\n",
        "    value = etree.fromstring(html, parser, **kw)\n",
        "  File \"lxml.etree.pyx\", line 2997, in lxml.etree.fromstring (src/lxml/lxml.etree.c:63276)\n",
        "  File \"parser.pxi\", line 1617, in lxml.etree._parseMemoryDocument (src/lxml/lxml.etree.c:93691)\n",
        "  File \"parser.pxi\", line 1495, in lxml.etree._parseDoc (src/lxml/lxml.etree.c:92490)\n",
        "  File \"parser.pxi\", line 1011, in lxml.etree._BaseParser._parseDoc (src/lxml/lxml.etree.c:89130)\n",
        "  File \"parser.pxi\", line 577, in lxml.etree._ParserContext._handleParseResultDoc (src/lxml/lxml.etree.c:84831)\n",
        "  File \"parser.pxi\", line 676, in lxml.etree._handleParseResult (src/lxml/lxml.etree.c:85936)\n",
        "  File \"parser.pxi\", line 625, in lxml.etree._raiseParseError (src/lxml/lxml.etree.c:85392)\n",
        "XMLSyntaxError: line 1092: htmlParseEntityRef: no name\n",
        "Traceback (most recent call last):\n"
       ]
      },
      {
       "output_type": "stream",
       "stream": "stdout",
       "text": [
        "\n",
        "(<class 'lxml.etree.XMLSyntaxError'>, XMLSyntaxError(u'line 1092: htmlParseEntityRef: no name',), <traceback object at 0x7f564ec98b00>)\n",
        "processed  301\n",
        "skipped  41\n",
        "503101426\n",
        "error on download503101426"
       ]
      },
      {
       "output_type": "stream",
       "stream": "stderr",
       "text": [
        "  File \"<ipython-input-41-0e1172e16ab4>\", line 11, in <module>\n",
        "    res = comp_extractors( extractor_training_object )\n",
        "  File \"<ipython-input-23-91249bf1c046>\", line 19, in comp_extractors\n",
        "    extraction_results = get_extraction_results( eto )\n",
        "  File \"<ipython-input-22-35bdc612153c>\", line 10, in get_extraction_results\n",
        "    ret['python_readibilty'] = { 'extracted_html': extract_with_python_readability( raw_content ) }\n",
        "  File \"<ipython-input-8-5916dff6f29a>\", line 6, in extract_with_python_readability\n",
        "    return doc.short_title() + \"\\n\\n\" + doc.summary()\n",
        "  File \"/usr/local/lib/python2.7/dist-packages/readability/readability.py\", line 139, in short_title\n",
        "    return shorten_title(self._html(True))\n",
        "  File \"/usr/local/lib/python2.7/dist-packages/readability/readability.py\", line 119, in _html\n",
        "    self.html = self._parse(self.input)\n",
        "  File \"/usr/local/lib/python2.7/dist-packages/readability/readability.py\", line 123, in _parse\n",
        "    doc, self.encoding = build_doc(input)\n",
        "  File \"/usr/local/lib/python2.7/dist-packages/readability/htmls.py\", line 17, in build_doc\n",
        "    doc = lxml.html.document_fromstring(page_unicode.encode('utf-8', 'replace'), parser=utf8_parser)\n",
        "  File \"/usr/local/lib/python2.7/dist-packages/lxml/html/__init__.py\", line 568, in document_fromstring\n",
        "    value = etree.fromstring(html, parser, **kw)\n",
        "  File \"lxml.etree.pyx\", line 2997, in lxml.etree.fromstring (src/lxml/lxml.etree.c:63276)\n",
        "  File \"parser.pxi\", line 1617, in lxml.etree._parseMemoryDocument (src/lxml/lxml.etree.c:93691)\n",
        "  File \"parser.pxi\", line 1495, in lxml.etree._parseDoc (src/lxml/lxml.etree.c:92490)\n",
        "  File \"parser.pxi\", line 1011, in lxml.etree._BaseParser._parseDoc (src/lxml/lxml.etree.c:89130)\n",
        "  File \"parser.pxi\", line 577, in lxml.etree._ParserContext._handleParseResultDoc (src/lxml/lxml.etree.c:84831)\n",
        "  File \"parser.pxi\", line 676, in lxml.etree._handleParseResult (src/lxml/lxml.etree.c:85936)\n",
        "  File \"parser.pxi\", line 625, in lxml.etree._raiseParseError (src/lxml/lxml.etree.c:85392)\n",
        "XMLSyntaxError: line 1092: htmlParseEntityRef: no name\n",
        "Traceback (most recent call last):\n"
       ]
      },
      {
       "output_type": "stream",
       "stream": "stdout",
       "text": [
        "\n",
        "(<class 'lxml.etree.XMLSyntaxError'>, XMLSyntaxError(u'line 1092: htmlParseEntityRef: no name',), <traceback object at 0x7f564ecb3bd8>)\n",
        "processed  301\n",
        "skipped  42\n",
        "503171821\n",
        "error on download503171821"
       ]
      },
      {
       "output_type": "stream",
       "stream": "stderr",
       "text": [
        "  File \"<ipython-input-41-0e1172e16ab4>\", line 11, in <module>\n",
        "    res = comp_extractors( extractor_training_object )\n",
        "  File \"<ipython-input-23-91249bf1c046>\", line 19, in comp_extractors\n",
        "    extraction_results = get_extraction_results( eto )\n",
        "  File \"<ipython-input-22-35bdc612153c>\", line 10, in get_extraction_results\n",
        "    ret['python_readibilty'] = { 'extracted_html': extract_with_python_readability( raw_content ) }\n",
        "  File \"<ipython-input-8-5916dff6f29a>\", line 6, in extract_with_python_readability\n",
        "    return doc.short_title() + \"\\n\\n\" + doc.summary()\n",
        "  File \"/usr/local/lib/python2.7/dist-packages/readability/readability.py\", line 139, in short_title\n",
        "    return shorten_title(self._html(True))\n",
        "  File \"/usr/local/lib/python2.7/dist-packages/readability/readability.py\", line 119, in _html\n",
        "    self.html = self._parse(self.input)\n",
        "  File \"/usr/local/lib/python2.7/dist-packages/readability/readability.py\", line 123, in _parse\n",
        "    doc, self.encoding = build_doc(input)\n",
        "  File \"/usr/local/lib/python2.7/dist-packages/readability/htmls.py\", line 17, in build_doc\n",
        "    doc = lxml.html.document_fromstring(page_unicode.encode('utf-8', 'replace'), parser=utf8_parser)\n",
        "  File \"/usr/local/lib/python2.7/dist-packages/lxml/html/__init__.py\", line 568, in document_fromstring\n",
        "    value = etree.fromstring(html, parser, **kw)\n",
        "  File \"lxml.etree.pyx\", line 2997, in lxml.etree.fromstring (src/lxml/lxml.etree.c:63276)\n",
        "  File \"parser.pxi\", line 1617, in lxml.etree._parseMemoryDocument (src/lxml/lxml.etree.c:93691)\n",
        "  File \"parser.pxi\", line 1495, in lxml.etree._parseDoc (src/lxml/lxml.etree.c:92490)\n",
        "  File \"parser.pxi\", line 1011, in lxml.etree._BaseParser._parseDoc (src/lxml/lxml.etree.c:89130)\n",
        "  File \"parser.pxi\", line 577, in lxml.etree._ParserContext._handleParseResultDoc (src/lxml/lxml.etree.c:84831)\n",
        "  File \"parser.pxi\", line 676, in lxml.etree._handleParseResult (src/lxml/lxml.etree.c:85936)\n",
        "  File \"parser.pxi\", line 625, in lxml.etree._raiseParseError (src/lxml/lxml.etree.c:85392)\n",
        "XMLSyntaxError: line 1092: htmlParseEntityRef: no name\n",
        "Traceback (most recent call last):\n"
       ]
      },
      {
       "output_type": "stream",
       "stream": "stdout",
       "text": [
        "\n",
        "(<class 'lxml.etree.XMLSyntaxError'>, XMLSyntaxError(u'line 1092: htmlParseEntityRef: no name',), <traceback object at 0x7f564ecb3e18>)\n",
        "processed  301\n",
        "skipped  43\n",
        "503183518\n",
        "error on download503183518"
       ]
      },
      {
       "output_type": "stream",
       "stream": "stderr",
       "text": [
        "  File \"<ipython-input-41-0e1172e16ab4>\", line 11, in <module>\n",
        "    res = comp_extractors( extractor_training_object )\n",
        "  File \"<ipython-input-23-91249bf1c046>\", line 19, in comp_extractors\n",
        "    extraction_results = get_extraction_results( eto )\n",
        "  File \"<ipython-input-22-35bdc612153c>\", line 10, in get_extraction_results\n",
        "    ret['python_readibilty'] = { 'extracted_html': extract_with_python_readability( raw_content ) }\n",
        "  File \"<ipython-input-8-5916dff6f29a>\", line 6, in extract_with_python_readability\n",
        "    return doc.short_title() + \"\\n\\n\" + doc.summary()\n",
        "  File \"/usr/local/lib/python2.7/dist-packages/readability/readability.py\", line 139, in short_title\n",
        "    return shorten_title(self._html(True))\n",
        "  File \"/usr/local/lib/python2.7/dist-packages/readability/readability.py\", line 119, in _html\n",
        "    self.html = self._parse(self.input)\n",
        "  File \"/usr/local/lib/python2.7/dist-packages/readability/readability.py\", line 123, in _parse\n",
        "    doc, self.encoding = build_doc(input)\n",
        "  File \"/usr/local/lib/python2.7/dist-packages/readability/htmls.py\", line 17, in build_doc\n",
        "    doc = lxml.html.document_fromstring(page_unicode.encode('utf-8', 'replace'), parser=utf8_parser)\n",
        "  File \"/usr/local/lib/python2.7/dist-packages/lxml/html/__init__.py\", line 568, in document_fromstring\n",
        "    value = etree.fromstring(html, parser, **kw)\n",
        "  File \"lxml.etree.pyx\", line 2997, in lxml.etree.fromstring (src/lxml/lxml.etree.c:63276)\n",
        "  File \"parser.pxi\", line 1617, in lxml.etree._parseMemoryDocument (src/lxml/lxml.etree.c:93691)\n",
        "  File \"parser.pxi\", line 1495, in lxml.etree._parseDoc (src/lxml/lxml.etree.c:92490)\n",
        "  File \"parser.pxi\", line 1011, in lxml.etree._BaseParser._parseDoc (src/lxml/lxml.etree.c:89130)\n",
        "  File \"parser.pxi\", line 577, in lxml.etree._ParserContext._handleParseResultDoc (src/lxml/lxml.etree.c:84831)\n",
        "  File \"parser.pxi\", line 676, in lxml.etree._handleParseResult (src/lxml/lxml.etree.c:85936)\n",
        "  File \"parser.pxi\", line 625, in lxml.etree._raiseParseError (src/lxml/lxml.etree.c:85392)\n",
        "XMLSyntaxError: line 1092: htmlParseEntityRef: no name\n",
        "Traceback (most recent call last):\n"
       ]
      },
      {
       "output_type": "stream",
       "stream": "stdout",
       "text": [
        "\n",
        "(<class 'lxml.etree.XMLSyntaxError'>, XMLSyntaxError(u'line 1092: htmlParseEntityRef: no name',), <traceback object at 0x7f564ecb32d8>)\n",
        "processed  301\n",
        "skipped  44\n",
        "503244112\n",
        "error on download503244112"
       ]
      },
      {
       "output_type": "stream",
       "stream": "stderr",
       "text": [
        "  File \"<ipython-input-41-0e1172e16ab4>\", line 11, in <module>\n",
        "    res = comp_extractors( extractor_training_object )\n",
        "  File \"<ipython-input-23-91249bf1c046>\", line 19, in comp_extractors\n",
        "    extraction_results = get_extraction_results( eto )\n",
        "  File \"<ipython-input-22-35bdc612153c>\", line 10, in get_extraction_results\n",
        "    ret['python_readibilty'] = { 'extracted_html': extract_with_python_readability( raw_content ) }\n",
        "  File \"<ipython-input-8-5916dff6f29a>\", line 6, in extract_with_python_readability\n",
        "    return doc.short_title() + \"\\n\\n\" + doc.summary()\n",
        "  File \"/usr/local/lib/python2.7/dist-packages/readability/readability.py\", line 139, in short_title\n",
        "    return shorten_title(self._html(True))\n",
        "  File \"/usr/local/lib/python2.7/dist-packages/readability/readability.py\", line 119, in _html\n",
        "    self.html = self._parse(self.input)\n",
        "  File \"/usr/local/lib/python2.7/dist-packages/readability/readability.py\", line 123, in _parse\n",
        "    doc, self.encoding = build_doc(input)\n",
        "  File \"/usr/local/lib/python2.7/dist-packages/readability/htmls.py\", line 17, in build_doc\n",
        "    doc = lxml.html.document_fromstring(page_unicode.encode('utf-8', 'replace'), parser=utf8_parser)\n",
        "  File \"/usr/local/lib/python2.7/dist-packages/lxml/html/__init__.py\", line 568, in document_fromstring\n",
        "    value = etree.fromstring(html, parser, **kw)\n",
        "  File \"lxml.etree.pyx\", line 2997, in lxml.etree.fromstring (src/lxml/lxml.etree.c:63276)\n",
        "  File \"parser.pxi\", line 1617, in lxml.etree._parseMemoryDocument (src/lxml/lxml.etree.c:93691)\n",
        "  File \"parser.pxi\", line 1495, in lxml.etree._parseDoc (src/lxml/lxml.etree.c:92490)\n",
        "  File \"parser.pxi\", line 1011, in lxml.etree._BaseParser._parseDoc (src/lxml/lxml.etree.c:89130)\n",
        "  File \"parser.pxi\", line 577, in lxml.etree._ParserContext._handleParseResultDoc (src/lxml/lxml.etree.c:84831)\n",
        "  File \"parser.pxi\", line 676, in lxml.etree._handleParseResult (src/lxml/lxml.etree.c:85936)\n",
        "  File \"parser.pxi\", line 625, in lxml.etree._raiseParseError (src/lxml/lxml.etree.c:85392)\n",
        "XMLSyntaxError: line 1092: htmlParseEntityRef: no name\n",
        "Traceback (most recent call last):\n"
       ]
      },
      {
       "output_type": "stream",
       "stream": "stdout",
       "text": [
        "\n",
        "(<class 'lxml.etree.XMLSyntaxError'>, XMLSyntaxError(u'line 1092: htmlParseEntityRef: no name',), <traceback object at 0x7f564ecb34d0>)\n",
        "processed  301\n",
        "skipped  45\n",
        "503478903\n",
        "error on download503478903"
       ]
      },
      {
       "output_type": "stream",
       "stream": "stderr",
       "text": [
        "  File \"<ipython-input-41-0e1172e16ab4>\", line 11, in <module>\n",
        "    res = comp_extractors( extractor_training_object )\n",
        "  File \"<ipython-input-23-91249bf1c046>\", line 19, in comp_extractors\n",
        "    extraction_results = get_extraction_results( eto )\n",
        "  File \"<ipython-input-22-35bdc612153c>\", line 10, in get_extraction_results\n",
        "    ret['python_readibilty'] = { 'extracted_html': extract_with_python_readability( raw_content ) }\n",
        "  File \"<ipython-input-8-5916dff6f29a>\", line 6, in extract_with_python_readability\n",
        "    return doc.short_title() + \"\\n\\n\" + doc.summary()\n",
        "  File \"/usr/local/lib/python2.7/dist-packages/readability/readability.py\", line 139, in short_title\n",
        "    return shorten_title(self._html(True))\n",
        "  File \"/usr/local/lib/python2.7/dist-packages/readability/readability.py\", line 119, in _html\n",
        "    self.html = self._parse(self.input)\n",
        "  File \"/usr/local/lib/python2.7/dist-packages/readability/readability.py\", line 123, in _parse\n",
        "    doc, self.encoding = build_doc(input)\n",
        "  File \"/usr/local/lib/python2.7/dist-packages/readability/htmls.py\", line 17, in build_doc\n",
        "    doc = lxml.html.document_fromstring(page_unicode.encode('utf-8', 'replace'), parser=utf8_parser)\n",
        "  File \"/usr/local/lib/python2.7/dist-packages/lxml/html/__init__.py\", line 568, in document_fromstring\n",
        "    value = etree.fromstring(html, parser, **kw)\n",
        "  File \"lxml.etree.pyx\", line 2997, in lxml.etree.fromstring (src/lxml/lxml.etree.c:63276)\n",
        "  File \"parser.pxi\", line 1617, in lxml.etree._parseMemoryDocument (src/lxml/lxml.etree.c:93691)\n",
        "  File \"parser.pxi\", line 1495, in lxml.etree._parseDoc (src/lxml/lxml.etree.c:92490)\n",
        "  File \"parser.pxi\", line 1011, in lxml.etree._BaseParser._parseDoc (src/lxml/lxml.etree.c:89130)\n",
        "  File \"parser.pxi\", line 577, in lxml.etree._ParserContext._handleParseResultDoc (src/lxml/lxml.etree.c:84831)\n",
        "  File \"parser.pxi\", line 676, in lxml.etree._handleParseResult (src/lxml/lxml.etree.c:85936)\n",
        "  File \"parser.pxi\", line 625, in lxml.etree._raiseParseError (src/lxml/lxml.etree.c:85392)\n",
        "XMLSyntaxError: line 1092: htmlParseEntityRef: no name\n",
        "Traceback (most recent call last):\n"
       ]
      },
      {
       "output_type": "stream",
       "stream": "stdout",
       "text": [
        "\n",
        "(<class 'lxml.etree.XMLSyntaxError'>, XMLSyntaxError(u'line 1092: htmlParseEntityRef: no name',), <traceback object at 0x7f564ec9ff80>)\n",
        "processed  301\n",
        "skipped  46\n",
        "504316681\n",
        "error on download504316681"
       ]
      },
      {
       "output_type": "stream",
       "stream": "stderr",
       "text": [
        "  File \"<ipython-input-41-0e1172e16ab4>\", line 11, in <module>\n",
        "    res = comp_extractors( extractor_training_object )\n",
        "  File \"<ipython-input-23-91249bf1c046>\", line 19, in comp_extractors\n",
        "    extraction_results = get_extraction_results( eto )\n",
        "  File \"<ipython-input-22-35bdc612153c>\", line 10, in get_extraction_results\n",
        "    ret['python_readibilty'] = { 'extracted_html': extract_with_python_readability( raw_content ) }\n",
        "  File \"<ipython-input-8-5916dff6f29a>\", line 6, in extract_with_python_readability\n",
        "    return doc.short_title() + \"\\n\\n\" + doc.summary()\n",
        "  File \"/usr/local/lib/python2.7/dist-packages/readability/readability.py\", line 139, in short_title\n",
        "    return shorten_title(self._html(True))\n",
        "  File \"/usr/local/lib/python2.7/dist-packages/readability/readability.py\", line 119, in _html\n",
        "    self.html = self._parse(self.input)\n",
        "  File \"/usr/local/lib/python2.7/dist-packages/readability/readability.py\", line 123, in _parse\n",
        "    doc, self.encoding = build_doc(input)\n",
        "  File \"/usr/local/lib/python2.7/dist-packages/readability/htmls.py\", line 17, in build_doc\n",
        "    doc = lxml.html.document_fromstring(page_unicode.encode('utf-8', 'replace'), parser=utf8_parser)\n",
        "  File \"/usr/local/lib/python2.7/dist-packages/lxml/html/__init__.py\", line 568, in document_fromstring\n",
        "    value = etree.fromstring(html, parser, **kw)\n",
        "  File \"lxml.etree.pyx\", line 2997, in lxml.etree.fromstring (src/lxml/lxml.etree.c:63276)\n",
        "  File \"parser.pxi\", line 1617, in lxml.etree._parseMemoryDocument (src/lxml/lxml.etree.c:93691)\n",
        "  File \"parser.pxi\", line 1495, in lxml.etree._parseDoc (src/lxml/lxml.etree.c:92490)\n",
        "  File \"parser.pxi\", line 1011, in lxml.etree._BaseParser._parseDoc (src/lxml/lxml.etree.c:89130)\n",
        "  File \"parser.pxi\", line 577, in lxml.etree._ParserContext._handleParseResultDoc (src/lxml/lxml.etree.c:84831)\n",
        "  File \"parser.pxi\", line 676, in lxml.etree._handleParseResult (src/lxml/lxml.etree.c:85936)\n",
        "  File \"parser.pxi\", line 625, in lxml.etree._raiseParseError (src/lxml/lxml.etree.c:85392)\n",
        "XMLSyntaxError: line 1092: htmlParseEntityRef: no name\n",
        "Traceback (most recent call last):\n"
       ]
      },
      {
       "output_type": "stream",
       "stream": "stdout",
       "text": [
        "\n",
        "(<class 'lxml.etree.XMLSyntaxError'>, XMLSyntaxError(u'line 1092: htmlParseEntityRef: no name',), <traceback object at 0x7f564ec9f518>)\n",
        "processed  301\n",
        "skipped  47\n",
        "504570818\n",
        "error on download504570818"
       ]
      },
      {
       "output_type": "stream",
       "stream": "stderr",
       "text": [
        "  File \"<ipython-input-41-0e1172e16ab4>\", line 11, in <module>\n",
        "    res = comp_extractors( extractor_training_object )\n",
        "  File \"<ipython-input-23-91249bf1c046>\", line 19, in comp_extractors\n",
        "    extraction_results = get_extraction_results( eto )\n",
        "  File \"<ipython-input-22-35bdc612153c>\", line 10, in get_extraction_results\n",
        "    ret['python_readibilty'] = { 'extracted_html': extract_with_python_readability( raw_content ) }\n",
        "  File \"<ipython-input-8-5916dff6f29a>\", line 6, in extract_with_python_readability\n",
        "    return doc.short_title() + \"\\n\\n\" + doc.summary()\n",
        "  File \"/usr/local/lib/python2.7/dist-packages/readability/readability.py\", line 139, in short_title\n",
        "    return shorten_title(self._html(True))\n",
        "  File \"/usr/local/lib/python2.7/dist-packages/readability/readability.py\", line 119, in _html\n",
        "    self.html = self._parse(self.input)\n",
        "  File \"/usr/local/lib/python2.7/dist-packages/readability/readability.py\", line 123, in _parse\n",
        "    doc, self.encoding = build_doc(input)\n",
        "  File \"/usr/local/lib/python2.7/dist-packages/readability/htmls.py\", line 17, in build_doc\n",
        "    doc = lxml.html.document_fromstring(page_unicode.encode('utf-8', 'replace'), parser=utf8_parser)\n",
        "  File \"/usr/local/lib/python2.7/dist-packages/lxml/html/__init__.py\", line 568, in document_fromstring\n",
        "    value = etree.fromstring(html, parser, **kw)\n",
        "  File \"lxml.etree.pyx\", line 2997, in lxml.etree.fromstring (src/lxml/lxml.etree.c:63276)\n",
        "  File \"parser.pxi\", line 1617, in lxml.etree._parseMemoryDocument (src/lxml/lxml.etree.c:93691)\n",
        "  File \"parser.pxi\", line 1495, in lxml.etree._parseDoc (src/lxml/lxml.etree.c:92490)\n",
        "  File \"parser.pxi\", line 1011, in lxml.etree._BaseParser._parseDoc (src/lxml/lxml.etree.c:89130)\n",
        "  File \"parser.pxi\", line 577, in lxml.etree._ParserContext._handleParseResultDoc (src/lxml/lxml.etree.c:84831)\n",
        "  File \"parser.pxi\", line 676, in lxml.etree._handleParseResult (src/lxml/lxml.etree.c:85936)\n",
        "  File \"parser.pxi\", line 625, in lxml.etree._raiseParseError (src/lxml/lxml.etree.c:85392)\n",
        "XMLSyntaxError: line 1092: htmlParseEntityRef: no name\n",
        "Traceback (most recent call last):\n"
       ]
      },
      {
       "output_type": "stream",
       "stream": "stdout",
       "text": [
        "\n",
        "(<class 'lxml.etree.XMLSyntaxError'>, XMLSyntaxError(u'line 1092: htmlParseEntityRef: no name',), <traceback object at 0x7f564ec9f320>)\n",
        "processed  301\n",
        "skipped  48\n",
        "504702541\n",
        "error on download504702541"
       ]
      },
      {
       "output_type": "stream",
       "stream": "stderr",
       "text": [
        "  File \"<ipython-input-41-0e1172e16ab4>\", line 11, in <module>\n",
        "    res = comp_extractors( extractor_training_object )\n",
        "  File \"<ipython-input-23-91249bf1c046>\", line 19, in comp_extractors\n",
        "    extraction_results = get_extraction_results( eto )\n",
        "  File \"<ipython-input-22-35bdc612153c>\", line 10, in get_extraction_results\n",
        "    ret['python_readibilty'] = { 'extracted_html': extract_with_python_readability( raw_content ) }\n",
        "  File \"<ipython-input-8-5916dff6f29a>\", line 6, in extract_with_python_readability\n",
        "    return doc.short_title() + \"\\n\\n\" + doc.summary()\n",
        "  File \"/usr/local/lib/python2.7/dist-packages/readability/readability.py\", line 139, in short_title\n",
        "    return shorten_title(self._html(True))\n",
        "  File \"/usr/local/lib/python2.7/dist-packages/readability/readability.py\", line 119, in _html\n",
        "    self.html = self._parse(self.input)\n",
        "  File \"/usr/local/lib/python2.7/dist-packages/readability/readability.py\", line 123, in _parse\n",
        "    doc, self.encoding = build_doc(input)\n",
        "  File \"/usr/local/lib/python2.7/dist-packages/readability/htmls.py\", line 17, in build_doc\n",
        "    doc = lxml.html.document_fromstring(page_unicode.encode('utf-8', 'replace'), parser=utf8_parser)\n",
        "  File \"/usr/local/lib/python2.7/dist-packages/lxml/html/__init__.py\", line 568, in document_fromstring\n",
        "    value = etree.fromstring(html, parser, **kw)\n",
        "  File \"lxml.etree.pyx\", line 2997, in lxml.etree.fromstring (src/lxml/lxml.etree.c:63276)\n",
        "  File \"parser.pxi\", line 1617, in lxml.etree._parseMemoryDocument (src/lxml/lxml.etree.c:93691)\n",
        "  File \"parser.pxi\", line 1495, in lxml.etree._parseDoc (src/lxml/lxml.etree.c:92490)\n",
        "  File \"parser.pxi\", line 1011, in lxml.etree._BaseParser._parseDoc (src/lxml/lxml.etree.c:89130)\n",
        "  File \"parser.pxi\", line 577, in lxml.etree._ParserContext._handleParseResultDoc (src/lxml/lxml.etree.c:84831)\n",
        "  File \"parser.pxi\", line 676, in lxml.etree._handleParseResult (src/lxml/lxml.etree.c:85936)\n",
        "  File \"parser.pxi\", line 625, in lxml.etree._raiseParseError (src/lxml/lxml.etree.c:85392)\n",
        "XMLSyntaxError: line 1092: htmlParseEntityRef: no name\n",
        "Traceback (most recent call last):\n"
       ]
      },
      {
       "output_type": "stream",
       "stream": "stdout",
       "text": [
        "\n",
        "(<class 'lxml.etree.XMLSyntaxError'>, XMLSyntaxError(u'line 1092: htmlParseEntityRef: no name',), <traceback object at 0x7f564ed26560>)\n",
        "processed  301\n",
        "skipped  49\n",
        "505354116\n",
        "error on download505354116"
       ]
      },
      {
       "output_type": "stream",
       "stream": "stderr",
       "text": [
        "  File \"<ipython-input-41-0e1172e16ab4>\", line 11, in <module>\n",
        "    res = comp_extractors( extractor_training_object )\n",
        "  File \"<ipython-input-23-91249bf1c046>\", line 19, in comp_extractors\n",
        "    extraction_results = get_extraction_results( eto )\n",
        "  File \"<ipython-input-22-35bdc612153c>\", line 10, in get_extraction_results\n",
        "    ret['python_readibilty'] = { 'extracted_html': extract_with_python_readability( raw_content ) }\n",
        "  File \"<ipython-input-8-5916dff6f29a>\", line 6, in extract_with_python_readability\n",
        "    return doc.short_title() + \"\\n\\n\" + doc.summary()\n",
        "  File \"/usr/local/lib/python2.7/dist-packages/readability/readability.py\", line 139, in short_title\n",
        "    return shorten_title(self._html(True))\n",
        "  File \"/usr/local/lib/python2.7/dist-packages/readability/readability.py\", line 119, in _html\n",
        "    self.html = self._parse(self.input)\n",
        "  File \"/usr/local/lib/python2.7/dist-packages/readability/readability.py\", line 123, in _parse\n",
        "    doc, self.encoding = build_doc(input)\n",
        "  File \"/usr/local/lib/python2.7/dist-packages/readability/htmls.py\", line 17, in build_doc\n",
        "    doc = lxml.html.document_fromstring(page_unicode.encode('utf-8', 'replace'), parser=utf8_parser)\n",
        "  File \"/usr/local/lib/python2.7/dist-packages/lxml/html/__init__.py\", line 568, in document_fromstring\n",
        "    value = etree.fromstring(html, parser, **kw)\n",
        "  File \"lxml.etree.pyx\", line 2997, in lxml.etree.fromstring (src/lxml/lxml.etree.c:63276)\n",
        "  File \"parser.pxi\", line 1617, in lxml.etree._parseMemoryDocument (src/lxml/lxml.etree.c:93691)\n",
        "  File \"parser.pxi\", line 1495, in lxml.etree._parseDoc (src/lxml/lxml.etree.c:92490)\n",
        "  File \"parser.pxi\", line 1011, in lxml.etree._BaseParser._parseDoc (src/lxml/lxml.etree.c:89130)\n",
        "  File \"parser.pxi\", line 577, in lxml.etree._ParserContext._handleParseResultDoc (src/lxml/lxml.etree.c:84831)\n",
        "  File \"parser.pxi\", line 676, in lxml.etree._handleParseResult (src/lxml/lxml.etree.c:85936)\n",
        "  File \"parser.pxi\", line 625, in lxml.etree._raiseParseError (src/lxml/lxml.etree.c:85392)\n",
        "XMLSyntaxError: line 1092: htmlParseEntityRef: no name\n",
        "Traceback (most recent call last):\n"
       ]
      },
      {
       "output_type": "stream",
       "stream": "stdout",
       "text": [
        "\n",
        "(<class 'lxml.etree.XMLSyntaxError'>, XMLSyntaxError(u'line 1092: htmlParseEntityRef: no name',), <traceback object at 0x7f564ea72680>)\n",
        "processed  301\n",
        "skipped  50\n",
        "505354986\n",
        "error on download505354986"
       ]
      },
      {
       "output_type": "stream",
       "stream": "stderr",
       "text": [
        "  File \"<ipython-input-41-0e1172e16ab4>\", line 11, in <module>\n",
        "    res = comp_extractors( extractor_training_object )\n",
        "  File \"<ipython-input-23-91249bf1c046>\", line 19, in comp_extractors\n",
        "    extraction_results = get_extraction_results( eto )\n",
        "  File \"<ipython-input-22-35bdc612153c>\", line 10, in get_extraction_results\n",
        "    ret['python_readibilty'] = { 'extracted_html': extract_with_python_readability( raw_content ) }\n",
        "  File \"<ipython-input-8-5916dff6f29a>\", line 6, in extract_with_python_readability\n",
        "    return doc.short_title() + \"\\n\\n\" + doc.summary()\n",
        "  File \"/usr/local/lib/python2.7/dist-packages/readability/readability.py\", line 139, in short_title\n",
        "    return shorten_title(self._html(True))\n",
        "  File \"/usr/local/lib/python2.7/dist-packages/readability/readability.py\", line 119, in _html\n",
        "    self.html = self._parse(self.input)\n",
        "  File \"/usr/local/lib/python2.7/dist-packages/readability/readability.py\", line 123, in _parse\n",
        "    doc, self.encoding = build_doc(input)\n",
        "  File \"/usr/local/lib/python2.7/dist-packages/readability/htmls.py\", line 17, in build_doc\n",
        "    doc = lxml.html.document_fromstring(page_unicode.encode('utf-8', 'replace'), parser=utf8_parser)\n",
        "  File \"/usr/local/lib/python2.7/dist-packages/lxml/html/__init__.py\", line 568, in document_fromstring\n",
        "    value = etree.fromstring(html, parser, **kw)\n",
        "  File \"lxml.etree.pyx\", line 2997, in lxml.etree.fromstring (src/lxml/lxml.etree.c:63276)\n",
        "  File \"parser.pxi\", line 1617, in lxml.etree._parseMemoryDocument (src/lxml/lxml.etree.c:93691)\n",
        "  File \"parser.pxi\", line 1495, in lxml.etree._parseDoc (src/lxml/lxml.etree.c:92490)\n",
        "  File \"parser.pxi\", line 1011, in lxml.etree._BaseParser._parseDoc (src/lxml/lxml.etree.c:89130)\n",
        "  File \"parser.pxi\", line 577, in lxml.etree._ParserContext._handleParseResultDoc (src/lxml/lxml.etree.c:84831)\n",
        "  File \"parser.pxi\", line 676, in lxml.etree._handleParseResult (src/lxml/lxml.etree.c:85936)\n",
        "  File \"parser.pxi\", line 625, in lxml.etree._raiseParseError (src/lxml/lxml.etree.c:85392)\n",
        "XMLSyntaxError: line 1092: htmlParseEntityRef: no name\n",
        "Traceback (most recent call last):\n"
       ]
      },
      {
       "output_type": "stream",
       "stream": "stdout",
       "text": [
        "\n",
        "(<class 'lxml.etree.XMLSyntaxError'>, XMLSyntaxError(u'line 1092: htmlParseEntityRef: no name',), <traceback object at 0x7f564ea72ea8>)\n",
        "processed  301\n",
        "skipped  51\n",
        "505362351\n",
        "error on download505362351"
       ]
      },
      {
       "output_type": "stream",
       "stream": "stderr",
       "text": [
        "  File \"<ipython-input-41-0e1172e16ab4>\", line 11, in <module>\n",
        "    res = comp_extractors( extractor_training_object )\n",
        "  File \"<ipython-input-23-91249bf1c046>\", line 19, in comp_extractors\n",
        "    extraction_results = get_extraction_results( eto )\n",
        "  File \"<ipython-input-22-35bdc612153c>\", line 10, in get_extraction_results\n",
        "    ret['python_readibilty'] = { 'extracted_html': extract_with_python_readability( raw_content ) }\n",
        "  File \"<ipython-input-8-5916dff6f29a>\", line 6, in extract_with_python_readability\n",
        "    return doc.short_title() + \"\\n\\n\" + doc.summary()\n",
        "  File \"/usr/local/lib/python2.7/dist-packages/readability/readability.py\", line 139, in short_title\n",
        "    return shorten_title(self._html(True))\n",
        "  File \"/usr/local/lib/python2.7/dist-packages/readability/readability.py\", line 119, in _html\n",
        "    self.html = self._parse(self.input)\n",
        "  File \"/usr/local/lib/python2.7/dist-packages/readability/readability.py\", line 123, in _parse\n",
        "    doc, self.encoding = build_doc(input)\n",
        "  File \"/usr/local/lib/python2.7/dist-packages/readability/htmls.py\", line 17, in build_doc\n",
        "    doc = lxml.html.document_fromstring(page_unicode.encode('utf-8', 'replace'), parser=utf8_parser)\n",
        "  File \"/usr/local/lib/python2.7/dist-packages/lxml/html/__init__.py\", line 568, in document_fromstring\n",
        "    value = etree.fromstring(html, parser, **kw)\n",
        "  File \"lxml.etree.pyx\", line 2997, in lxml.etree.fromstring (src/lxml/lxml.etree.c:63276)\n",
        "  File \"parser.pxi\", line 1617, in lxml.etree._parseMemoryDocument (src/lxml/lxml.etree.c:93691)\n",
        "  File \"parser.pxi\", line 1495, in lxml.etree._parseDoc (src/lxml/lxml.etree.c:92490)\n",
        "  File \"parser.pxi\", line 1011, in lxml.etree._BaseParser._parseDoc (src/lxml/lxml.etree.c:89130)\n",
        "  File \"parser.pxi\", line 577, in lxml.etree._ParserContext._handleParseResultDoc (src/lxml/lxml.etree.c:84831)\n",
        "  File \"parser.pxi\", line 676, in lxml.etree._handleParseResult (src/lxml/lxml.etree.c:85936)\n",
        "  File \"parser.pxi\", line 625, in lxml.etree._raiseParseError (src/lxml/lxml.etree.c:85392)\n",
        "XMLSyntaxError: line 1092: htmlParseEntityRef: no name\n",
        "Traceback (most recent call last):\n"
       ]
      },
      {
       "output_type": "stream",
       "stream": "stdout",
       "text": [
        "\n",
        "(<class 'lxml.etree.XMLSyntaxError'>, XMLSyntaxError(u'line 1092: htmlParseEntityRef: no name',), <traceback object at 0x7f564eb6d878>)\n",
        "processed  301\n",
        "skipped  52\n",
        "505513151\n",
        "error on download505513151"
       ]
      },
      {
       "output_type": "stream",
       "stream": "stderr",
       "text": [
        "  File \"<ipython-input-41-0e1172e16ab4>\", line 11, in <module>\n",
        "    res = comp_extractors( extractor_training_object )\n",
        "  File \"<ipython-input-23-91249bf1c046>\", line 19, in comp_extractors\n",
        "    extraction_results = get_extraction_results( eto )\n",
        "  File \"<ipython-input-22-35bdc612153c>\", line 10, in get_extraction_results\n",
        "    ret['python_readibilty'] = { 'extracted_html': extract_with_python_readability( raw_content ) }\n",
        "  File \"<ipython-input-8-5916dff6f29a>\", line 6, in extract_with_python_readability\n",
        "    return doc.short_title() + \"\\n\\n\" + doc.summary()\n",
        "  File \"/usr/local/lib/python2.7/dist-packages/readability/readability.py\", line 139, in short_title\n",
        "    return shorten_title(self._html(True))\n",
        "  File \"/usr/local/lib/python2.7/dist-packages/readability/readability.py\", line 119, in _html\n",
        "    self.html = self._parse(self.input)\n",
        "  File \"/usr/local/lib/python2.7/dist-packages/readability/readability.py\", line 123, in _parse\n",
        "    doc, self.encoding = build_doc(input)\n",
        "  File \"/usr/local/lib/python2.7/dist-packages/readability/htmls.py\", line 17, in build_doc\n",
        "    doc = lxml.html.document_fromstring(page_unicode.encode('utf-8', 'replace'), parser=utf8_parser)\n",
        "  File \"/usr/local/lib/python2.7/dist-packages/lxml/html/__init__.py\", line 568, in document_fromstring\n",
        "    value = etree.fromstring(html, parser, **kw)\n",
        "  File \"lxml.etree.pyx\", line 2997, in lxml.etree.fromstring (src/lxml/lxml.etree.c:63276)\n",
        "  File \"parser.pxi\", line 1617, in lxml.etree._parseMemoryDocument (src/lxml/lxml.etree.c:93691)\n",
        "  File \"parser.pxi\", line 1495, in lxml.etree._parseDoc (src/lxml/lxml.etree.c:92490)\n",
        "  File \"parser.pxi\", line 1011, in lxml.etree._BaseParser._parseDoc (src/lxml/lxml.etree.c:89130)\n",
        "  File \"parser.pxi\", line 577, in lxml.etree._ParserContext._handleParseResultDoc (src/lxml/lxml.etree.c:84831)\n",
        "  File \"parser.pxi\", line 676, in lxml.etree._handleParseResult (src/lxml/lxml.etree.c:85936)\n",
        "  File \"parser.pxi\", line 625, in lxml.etree._raiseParseError (src/lxml/lxml.etree.c:85392)\n",
        "XMLSyntaxError: line 1092: htmlParseEntityRef: no name\n",
        "Traceback (most recent call last):\n"
       ]
      },
      {
       "output_type": "stream",
       "stream": "stdout",
       "text": [
        "\n",
        "(<class 'lxml.etree.XMLSyntaxError'>, XMLSyntaxError(u'line 1092: htmlParseEntityRef: no name',), <traceback object at 0x7f564eb6d8c0>)\n",
        "processed  301\n",
        "skipped  53\n",
        "505554845\n",
        "error on download505554845"
       ]
      },
      {
       "output_type": "stream",
       "stream": "stderr",
       "text": [
        "  File \"<ipython-input-41-0e1172e16ab4>\", line 11, in <module>\n",
        "    res = comp_extractors( extractor_training_object )\n",
        "  File \"<ipython-input-23-91249bf1c046>\", line 19, in comp_extractors\n",
        "    extraction_results = get_extraction_results( eto )\n",
        "  File \"<ipython-input-22-35bdc612153c>\", line 10, in get_extraction_results\n",
        "    ret['python_readibilty'] = { 'extracted_html': extract_with_python_readability( raw_content ) }\n",
        "  File \"<ipython-input-8-5916dff6f29a>\", line 6, in extract_with_python_readability\n",
        "    return doc.short_title() + \"\\n\\n\" + doc.summary()\n",
        "  File \"/usr/local/lib/python2.7/dist-packages/readability/readability.py\", line 139, in short_title\n",
        "    return shorten_title(self._html(True))\n",
        "  File \"/usr/local/lib/python2.7/dist-packages/readability/readability.py\", line 119, in _html\n",
        "    self.html = self._parse(self.input)\n",
        "  File \"/usr/local/lib/python2.7/dist-packages/readability/readability.py\", line 123, in _parse\n",
        "    doc, self.encoding = build_doc(input)\n",
        "  File \"/usr/local/lib/python2.7/dist-packages/readability/htmls.py\", line 17, in build_doc\n",
        "    doc = lxml.html.document_fromstring(page_unicode.encode('utf-8', 'replace'), parser=utf8_parser)\n",
        "  File \"/usr/local/lib/python2.7/dist-packages/lxml/html/__init__.py\", line 568, in document_fromstring\n",
        "    value = etree.fromstring(html, parser, **kw)\n",
        "  File \"lxml.etree.pyx\", line 2997, in lxml.etree.fromstring (src/lxml/lxml.etree.c:63276)\n",
        "  File \"parser.pxi\", line 1617, in lxml.etree._parseMemoryDocument (src/lxml/lxml.etree.c:93691)\n",
        "  File \"parser.pxi\", line 1495, in lxml.etree._parseDoc (src/lxml/lxml.etree.c:92490)\n",
        "  File \"parser.pxi\", line 1011, in lxml.etree._BaseParser._parseDoc (src/lxml/lxml.etree.c:89130)\n",
        "  File \"parser.pxi\", line 577, in lxml.etree._ParserContext._handleParseResultDoc (src/lxml/lxml.etree.c:84831)\n",
        "  File \"parser.pxi\", line 676, in lxml.etree._handleParseResult (src/lxml/lxml.etree.c:85936)\n",
        "  File \"parser.pxi\", line 625, in lxml.etree._raiseParseError (src/lxml/lxml.etree.c:85392)\n",
        "XMLSyntaxError: line 1092: htmlParseEntityRef: no name\n",
        "Traceback (most recent call last):\n"
       ]
      },
      {
       "output_type": "stream",
       "stream": "stdout",
       "text": [
        "\n",
        "(<class 'lxml.etree.XMLSyntaxError'>, XMLSyntaxError(u'line 1092: htmlParseEntityRef: no name',), <traceback object at 0x7f564eb58320>)\n",
        "processed  301\n",
        "skipped  54\n",
        "505630012\n",
        "error on download505630012"
       ]
      },
      {
       "output_type": "stream",
       "stream": "stderr",
       "text": [
        "  File \"<ipython-input-41-0e1172e16ab4>\", line 11, in <module>\n",
        "    res = comp_extractors( extractor_training_object )\n",
        "  File \"<ipython-input-23-91249bf1c046>\", line 19, in comp_extractors\n",
        "    extraction_results = get_extraction_results( eto )\n",
        "  File \"<ipython-input-22-35bdc612153c>\", line 10, in get_extraction_results\n",
        "    ret['python_readibilty'] = { 'extracted_html': extract_with_python_readability( raw_content ) }\n",
        "  File \"<ipython-input-8-5916dff6f29a>\", line 6, in extract_with_python_readability\n",
        "    return doc.short_title() + \"\\n\\n\" + doc.summary()\n",
        "  File \"/usr/local/lib/python2.7/dist-packages/readability/readability.py\", line 139, in short_title\n",
        "    return shorten_title(self._html(True))\n",
        "  File \"/usr/local/lib/python2.7/dist-packages/readability/readability.py\", line 119, in _html\n",
        "    self.html = self._parse(self.input)\n",
        "  File \"/usr/local/lib/python2.7/dist-packages/readability/readability.py\", line 123, in _parse\n",
        "    doc, self.encoding = build_doc(input)\n",
        "  File \"/usr/local/lib/python2.7/dist-packages/readability/htmls.py\", line 17, in build_doc\n",
        "    doc = lxml.html.document_fromstring(page_unicode.encode('utf-8', 'replace'), parser=utf8_parser)\n",
        "  File \"/usr/local/lib/python2.7/dist-packages/lxml/html/__init__.py\", line 568, in document_fromstring\n",
        "    value = etree.fromstring(html, parser, **kw)\n",
        "  File \"lxml.etree.pyx\", line 2997, in lxml.etree.fromstring (src/lxml/lxml.etree.c:63276)\n",
        "  File \"parser.pxi\", line 1617, in lxml.etree._parseMemoryDocument (src/lxml/lxml.etree.c:93691)\n",
        "  File \"parser.pxi\", line 1495, in lxml.etree._parseDoc (src/lxml/lxml.etree.c:92490)\n",
        "  File \"parser.pxi\", line 1011, in lxml.etree._BaseParser._parseDoc (src/lxml/lxml.etree.c:89130)\n",
        "  File \"parser.pxi\", line 577, in lxml.etree._ParserContext._handleParseResultDoc (src/lxml/lxml.etree.c:84831)\n",
        "  File \"parser.pxi\", line 676, in lxml.etree._handleParseResult (src/lxml/lxml.etree.c:85936)\n",
        "  File \"parser.pxi\", line 625, in lxml.etree._raiseParseError (src/lxml/lxml.etree.c:85392)\n",
        "XMLSyntaxError: line 1092: htmlParseEntityRef: no name\n",
        "Traceback (most recent call last):\n"
       ]
      },
      {
       "output_type": "stream",
       "stream": "stdout",
       "text": [
        "\n",
        "(<class 'lxml.etree.XMLSyntaxError'>, XMLSyntaxError(u'line 1092: htmlParseEntityRef: no name',), <traceback object at 0x7f564eb58878>)\n",
        "processed  301\n",
        "skipped  55\n",
        "505666313\n",
        "error on download505666313"
       ]
      },
      {
       "output_type": "stream",
       "stream": "stderr",
       "text": [
        "  File \"<ipython-input-41-0e1172e16ab4>\", line 11, in <module>\n",
        "    res = comp_extractors( extractor_training_object )\n",
        "  File \"<ipython-input-23-91249bf1c046>\", line 19, in comp_extractors\n",
        "    extraction_results = get_extraction_results( eto )\n",
        "  File \"<ipython-input-22-35bdc612153c>\", line 10, in get_extraction_results\n",
        "    ret['python_readibilty'] = { 'extracted_html': extract_with_python_readability( raw_content ) }\n",
        "  File \"<ipython-input-8-5916dff6f29a>\", line 6, in extract_with_python_readability\n",
        "    return doc.short_title() + \"\\n\\n\" + doc.summary()\n",
        "  File \"/usr/local/lib/python2.7/dist-packages/readability/readability.py\", line 139, in short_title\n",
        "    return shorten_title(self._html(True))\n",
        "  File \"/usr/local/lib/python2.7/dist-packages/readability/readability.py\", line 119, in _html\n",
        "    self.html = self._parse(self.input)\n",
        "  File \"/usr/local/lib/python2.7/dist-packages/readability/readability.py\", line 123, in _parse\n",
        "    doc, self.encoding = build_doc(input)\n",
        "  File \"/usr/local/lib/python2.7/dist-packages/readability/htmls.py\", line 17, in build_doc\n",
        "    doc = lxml.html.document_fromstring(page_unicode.encode('utf-8', 'replace'), parser=utf8_parser)\n",
        "  File \"/usr/local/lib/python2.7/dist-packages/lxml/html/__init__.py\", line 568, in document_fromstring\n",
        "    value = etree.fromstring(html, parser, **kw)\n",
        "  File \"lxml.etree.pyx\", line 2997, in lxml.etree.fromstring (src/lxml/lxml.etree.c:63276)\n",
        "  File \"parser.pxi\", line 1617, in lxml.etree._parseMemoryDocument (src/lxml/lxml.etree.c:93691)\n",
        "  File \"parser.pxi\", line 1495, in lxml.etree._parseDoc (src/lxml/lxml.etree.c:92490)\n",
        "  File \"parser.pxi\", line 1011, in lxml.etree._BaseParser._parseDoc (src/lxml/lxml.etree.c:89130)\n",
        "  File \"parser.pxi\", line 577, in lxml.etree._ParserContext._handleParseResultDoc (src/lxml/lxml.etree.c:84831)\n",
        "  File \"parser.pxi\", line 676, in lxml.etree._handleParseResult (src/lxml/lxml.etree.c:85936)\n",
        "  File \"parser.pxi\", line 625, in lxml.etree._raiseParseError (src/lxml/lxml.etree.c:85392)\n",
        "XMLSyntaxError: line 1092: htmlParseEntityRef: no name\n",
        "Traceback (most recent call last):\n"
       ]
      },
      {
       "output_type": "stream",
       "stream": "stdout",
       "text": [
        "\n",
        "(<class 'lxml.etree.XMLSyntaxError'>, XMLSyntaxError(u'line 1092: htmlParseEntityRef: no name',), <traceback object at 0x7f564ec8e560>)\n",
        "processed  301\n",
        "skipped  56\n",
        "505709237\n",
        "error on download505709237"
       ]
      },
      {
       "output_type": "stream",
       "stream": "stderr",
       "text": [
        "  File \"<ipython-input-41-0e1172e16ab4>\", line 11, in <module>\n",
        "    res = comp_extractors( extractor_training_object )\n",
        "  File \"<ipython-input-23-91249bf1c046>\", line 19, in comp_extractors\n",
        "    extraction_results = get_extraction_results( eto )\n",
        "  File \"<ipython-input-22-35bdc612153c>\", line 10, in get_extraction_results\n",
        "    ret['python_readibilty'] = { 'extracted_html': extract_with_python_readability( raw_content ) }\n",
        "  File \"<ipython-input-8-5916dff6f29a>\", line 6, in extract_with_python_readability\n",
        "    return doc.short_title() + \"\\n\\n\" + doc.summary()\n",
        "  File \"/usr/local/lib/python2.7/dist-packages/readability/readability.py\", line 139, in short_title\n",
        "    return shorten_title(self._html(True))\n",
        "  File \"/usr/local/lib/python2.7/dist-packages/readability/readability.py\", line 119, in _html\n",
        "    self.html = self._parse(self.input)\n",
        "  File \"/usr/local/lib/python2.7/dist-packages/readability/readability.py\", line 123, in _parse\n",
        "    doc, self.encoding = build_doc(input)\n",
        "  File \"/usr/local/lib/python2.7/dist-packages/readability/htmls.py\", line 17, in build_doc\n",
        "    doc = lxml.html.document_fromstring(page_unicode.encode('utf-8', 'replace'), parser=utf8_parser)\n",
        "  File \"/usr/local/lib/python2.7/dist-packages/lxml/html/__init__.py\", line 568, in document_fromstring\n",
        "    value = etree.fromstring(html, parser, **kw)\n",
        "  File \"lxml.etree.pyx\", line 2997, in lxml.etree.fromstring (src/lxml/lxml.etree.c:63276)\n",
        "  File \"parser.pxi\", line 1617, in lxml.etree._parseMemoryDocument (src/lxml/lxml.etree.c:93691)\n",
        "  File \"parser.pxi\", line 1495, in lxml.etree._parseDoc (src/lxml/lxml.etree.c:92490)\n",
        "  File \"parser.pxi\", line 1011, in lxml.etree._BaseParser._parseDoc (src/lxml/lxml.etree.c:89130)\n",
        "  File \"parser.pxi\", line 577, in lxml.etree._ParserContext._handleParseResultDoc (src/lxml/lxml.etree.c:84831)\n",
        "  File \"parser.pxi\", line 676, in lxml.etree._handleParseResult (src/lxml/lxml.etree.c:85936)\n",
        "  File \"parser.pxi\", line 625, in lxml.etree._raiseParseError (src/lxml/lxml.etree.c:85392)\n",
        "XMLSyntaxError: line 1092: htmlParseEntityRef: no name\n",
        "Traceback (most recent call last):\n"
       ]
      },
      {
       "output_type": "stream",
       "stream": "stdout",
       "text": [
        "\n",
        "(<class 'lxml.etree.XMLSyntaxError'>, XMLSyntaxError(u'line 1092: htmlParseEntityRef: no name',), <traceback object at 0x7f564ec8e200>)\n",
        "processed  301\n",
        "skipped  57\n",
        "505875260\n",
        "error on download505875260"
       ]
      },
      {
       "output_type": "stream",
       "stream": "stderr",
       "text": [
        "  File \"<ipython-input-41-0e1172e16ab4>\", line 11, in <module>\n",
        "    res = comp_extractors( extractor_training_object )\n",
        "  File \"<ipython-input-23-91249bf1c046>\", line 19, in comp_extractors\n",
        "    extraction_results = get_extraction_results( eto )\n",
        "  File \"<ipython-input-22-35bdc612153c>\", line 10, in get_extraction_results\n",
        "    ret['python_readibilty'] = { 'extracted_html': extract_with_python_readability( raw_content ) }\n",
        "  File \"<ipython-input-8-5916dff6f29a>\", line 6, in extract_with_python_readability\n",
        "    return doc.short_title() + \"\\n\\n\" + doc.summary()\n",
        "  File \"/usr/local/lib/python2.7/dist-packages/readability/readability.py\", line 139, in short_title\n",
        "    return shorten_title(self._html(True))\n",
        "  File \"/usr/local/lib/python2.7/dist-packages/readability/readability.py\", line 119, in _html\n",
        "    self.html = self._parse(self.input)\n",
        "  File \"/usr/local/lib/python2.7/dist-packages/readability/readability.py\", line 123, in _parse\n",
        "    doc, self.encoding = build_doc(input)\n",
        "  File \"/usr/local/lib/python2.7/dist-packages/readability/htmls.py\", line 17, in build_doc\n",
        "    doc = lxml.html.document_fromstring(page_unicode.encode('utf-8', 'replace'), parser=utf8_parser)\n",
        "  File \"/usr/local/lib/python2.7/dist-packages/lxml/html/__init__.py\", line 568, in document_fromstring\n",
        "    value = etree.fromstring(html, parser, **kw)\n",
        "  File \"lxml.etree.pyx\", line 2997, in lxml.etree.fromstring (src/lxml/lxml.etree.c:63276)\n",
        "  File \"parser.pxi\", line 1617, in lxml.etree._parseMemoryDocument (src/lxml/lxml.etree.c:93691)\n",
        "  File \"parser.pxi\", line 1495, in lxml.etree._parseDoc (src/lxml/lxml.etree.c:92490)\n",
        "  File \"parser.pxi\", line 1011, in lxml.etree._BaseParser._parseDoc (src/lxml/lxml.etree.c:89130)\n",
        "  File \"parser.pxi\", line 577, in lxml.etree._ParserContext._handleParseResultDoc (src/lxml/lxml.etree.c:84831)\n",
        "  File \"parser.pxi\", line 676, in lxml.etree._handleParseResult (src/lxml/lxml.etree.c:85936)\n",
        "  File \"parser.pxi\", line 625, in lxml.etree._raiseParseError (src/lxml/lxml.etree.c:85392)\n",
        "XMLSyntaxError: line 1092: htmlParseEntityRef: no name\n",
        "Traceback (most recent call last):\n"
       ]
      },
      {
       "output_type": "stream",
       "stream": "stdout",
       "text": [
        "\n",
        "(<class 'lxml.etree.XMLSyntaxError'>, XMLSyntaxError(u'line 1092: htmlParseEntityRef: no name',), <traceback object at 0x7f564ec8ed40>)\n",
        "processed  301\n",
        "skipped  58\n",
        "505891713\n",
        "error on download505891713"
       ]
      },
      {
       "output_type": "stream",
       "stream": "stderr",
       "text": [
        "  File \"<ipython-input-41-0e1172e16ab4>\", line 11, in <module>\n",
        "    res = comp_extractors( extractor_training_object )\n",
        "  File \"<ipython-input-23-91249bf1c046>\", line 19, in comp_extractors\n",
        "    extraction_results = get_extraction_results( eto )\n",
        "  File \"<ipython-input-22-35bdc612153c>\", line 10, in get_extraction_results\n",
        "    ret['python_readibilty'] = { 'extracted_html': extract_with_python_readability( raw_content ) }\n",
        "  File \"<ipython-input-8-5916dff6f29a>\", line 6, in extract_with_python_readability\n",
        "    return doc.short_title() + \"\\n\\n\" + doc.summary()\n",
        "  File \"/usr/local/lib/python2.7/dist-packages/readability/readability.py\", line 139, in short_title\n",
        "    return shorten_title(self._html(True))\n",
        "  File \"/usr/local/lib/python2.7/dist-packages/readability/readability.py\", line 119, in _html\n",
        "    self.html = self._parse(self.input)\n",
        "  File \"/usr/local/lib/python2.7/dist-packages/readability/readability.py\", line 123, in _parse\n",
        "    doc, self.encoding = build_doc(input)\n",
        "  File \"/usr/local/lib/python2.7/dist-packages/readability/htmls.py\", line 17, in build_doc\n",
        "    doc = lxml.html.document_fromstring(page_unicode.encode('utf-8', 'replace'), parser=utf8_parser)\n",
        "  File \"/usr/local/lib/python2.7/dist-packages/lxml/html/__init__.py\", line 568, in document_fromstring\n",
        "    value = etree.fromstring(html, parser, **kw)\n",
        "  File \"lxml.etree.pyx\", line 2997, in lxml.etree.fromstring (src/lxml/lxml.etree.c:63276)\n",
        "  File \"parser.pxi\", line 1617, in lxml.etree._parseMemoryDocument (src/lxml/lxml.etree.c:93691)\n",
        "  File \"parser.pxi\", line 1495, in lxml.etree._parseDoc (src/lxml/lxml.etree.c:92490)\n",
        "  File \"parser.pxi\", line 1011, in lxml.etree._BaseParser._parseDoc (src/lxml/lxml.etree.c:89130)\n",
        "  File \"parser.pxi\", line 577, in lxml.etree._ParserContext._handleParseResultDoc (src/lxml/lxml.etree.c:84831)\n",
        "  File \"parser.pxi\", line 676, in lxml.etree._handleParseResult (src/lxml/lxml.etree.c:85936)\n",
        "  File \"parser.pxi\", line 625, in lxml.etree._raiseParseError (src/lxml/lxml.etree.c:85392)\n",
        "XMLSyntaxError: line 1092: htmlParseEntityRef: no name\n",
        "Traceback (most recent call last):\n"
       ]
      },
      {
       "output_type": "stream",
       "stream": "stdout",
       "text": [
        "\n",
        "(<class 'lxml.etree.XMLSyntaxError'>, XMLSyntaxError(u'line 1092: htmlParseEntityRef: no name',), <traceback object at 0x7f564eca3680>)\n",
        "processed  301\n",
        "skipped  59\n",
        "505960251\n",
        "error on download505960251"
       ]
      },
      {
       "output_type": "stream",
       "stream": "stderr",
       "text": [
        "  File \"<ipython-input-41-0e1172e16ab4>\", line 11, in <module>\n",
        "    res = comp_extractors( extractor_training_object )\n",
        "  File \"<ipython-input-23-91249bf1c046>\", line 19, in comp_extractors\n",
        "    extraction_results = get_extraction_results( eto )\n",
        "  File \"<ipython-input-22-35bdc612153c>\", line 10, in get_extraction_results\n",
        "    ret['python_readibilty'] = { 'extracted_html': extract_with_python_readability( raw_content ) }\n",
        "  File \"<ipython-input-8-5916dff6f29a>\", line 6, in extract_with_python_readability\n",
        "    return doc.short_title() + \"\\n\\n\" + doc.summary()\n",
        "  File \"/usr/local/lib/python2.7/dist-packages/readability/readability.py\", line 139, in short_title\n",
        "    return shorten_title(self._html(True))\n",
        "  File \"/usr/local/lib/python2.7/dist-packages/readability/readability.py\", line 119, in _html\n",
        "    self.html = self._parse(self.input)\n",
        "  File \"/usr/local/lib/python2.7/dist-packages/readability/readability.py\", line 123, in _parse\n",
        "    doc, self.encoding = build_doc(input)\n",
        "  File \"/usr/local/lib/python2.7/dist-packages/readability/htmls.py\", line 17, in build_doc\n",
        "    doc = lxml.html.document_fromstring(page_unicode.encode('utf-8', 'replace'), parser=utf8_parser)\n",
        "  File \"/usr/local/lib/python2.7/dist-packages/lxml/html/__init__.py\", line 568, in document_fromstring\n",
        "    value = etree.fromstring(html, parser, **kw)\n",
        "  File \"lxml.etree.pyx\", line 2997, in lxml.etree.fromstring (src/lxml/lxml.etree.c:63276)\n",
        "  File \"parser.pxi\", line 1617, in lxml.etree._parseMemoryDocument (src/lxml/lxml.etree.c:93691)\n",
        "  File \"parser.pxi\", line 1495, in lxml.etree._parseDoc (src/lxml/lxml.etree.c:92490)\n",
        "  File \"parser.pxi\", line 1011, in lxml.etree._BaseParser._parseDoc (src/lxml/lxml.etree.c:89130)\n",
        "  File \"parser.pxi\", line 577, in lxml.etree._ParserContext._handleParseResultDoc (src/lxml/lxml.etree.c:84831)\n",
        "  File \"parser.pxi\", line 676, in lxml.etree._handleParseResult (src/lxml/lxml.etree.c:85936)\n",
        "  File \"parser.pxi\", line 625, in lxml.etree._raiseParseError (src/lxml/lxml.etree.c:85392)\n",
        "XMLSyntaxError: line 1092: htmlParseEntityRef: no name\n",
        "Traceback (most recent call last):\n"
       ]
      },
      {
       "output_type": "stream",
       "stream": "stdout",
       "text": [
        "\n",
        "(<class 'lxml.etree.XMLSyntaxError'>, XMLSyntaxError(u'line 1092: htmlParseEntityRef: no name',), <traceback object at 0x7f564eca3368>)\n",
        "processed  301\n",
        "skipped  60\n",
        "506245926\n",
        "error on download506245926"
       ]
      },
      {
       "output_type": "stream",
       "stream": "stderr",
       "text": [
        "  File \"<ipython-input-41-0e1172e16ab4>\", line 11, in <module>\n",
        "    res = comp_extractors( extractor_training_object )\n",
        "  File \"<ipython-input-23-91249bf1c046>\", line 19, in comp_extractors\n",
        "    extraction_results = get_extraction_results( eto )\n",
        "  File \"<ipython-input-22-35bdc612153c>\", line 10, in get_extraction_results\n",
        "    ret['python_readibilty'] = { 'extracted_html': extract_with_python_readability( raw_content ) }\n",
        "  File \"<ipython-input-8-5916dff6f29a>\", line 6, in extract_with_python_readability\n",
        "    return doc.short_title() + \"\\n\\n\" + doc.summary()\n",
        "  File \"/usr/local/lib/python2.7/dist-packages/readability/readability.py\", line 139, in short_title\n",
        "    return shorten_title(self._html(True))\n",
        "  File \"/usr/local/lib/python2.7/dist-packages/readability/readability.py\", line 119, in _html\n",
        "    self.html = self._parse(self.input)\n",
        "  File \"/usr/local/lib/python2.7/dist-packages/readability/readability.py\", line 123, in _parse\n",
        "    doc, self.encoding = build_doc(input)\n",
        "  File \"/usr/local/lib/python2.7/dist-packages/readability/htmls.py\", line 17, in build_doc\n",
        "    doc = lxml.html.document_fromstring(page_unicode.encode('utf-8', 'replace'), parser=utf8_parser)\n",
        "  File \"/usr/local/lib/python2.7/dist-packages/lxml/html/__init__.py\", line 568, in document_fromstring\n",
        "    value = etree.fromstring(html, parser, **kw)\n",
        "  File \"lxml.etree.pyx\", line 2997, in lxml.etree.fromstring (src/lxml/lxml.etree.c:63276)\n",
        "  File \"parser.pxi\", line 1617, in lxml.etree._parseMemoryDocument (src/lxml/lxml.etree.c:93691)\n",
        "  File \"parser.pxi\", line 1495, in lxml.etree._parseDoc (src/lxml/lxml.etree.c:92490)\n",
        "  File \"parser.pxi\", line 1011, in lxml.etree._BaseParser._parseDoc (src/lxml/lxml.etree.c:89130)\n",
        "  File \"parser.pxi\", line 577, in lxml.etree._ParserContext._handleParseResultDoc (src/lxml/lxml.etree.c:84831)\n",
        "  File \"parser.pxi\", line 676, in lxml.etree._handleParseResult (src/lxml/lxml.etree.c:85936)\n",
        "  File \"parser.pxi\", line 625, in lxml.etree._raiseParseError (src/lxml/lxml.etree.c:85392)\n",
        "XMLSyntaxError: line 1092: htmlParseEntityRef: no name\n",
        "Traceback (most recent call last):\n"
       ]
      },
      {
       "output_type": "stream",
       "stream": "stdout",
       "text": [
        "\n",
        "(<class 'lxml.etree.XMLSyntaxError'>, XMLSyntaxError(u'line 1092: htmlParseEntityRef: no name',), <traceback object at 0x7f564eca3518>)\n",
        "processed  301\n",
        "skipped  61\n",
        "506248868\n",
        "error on download506248868"
       ]
      },
      {
       "output_type": "stream",
       "stream": "stderr",
       "text": [
        "  File \"<ipython-input-41-0e1172e16ab4>\", line 11, in <module>\n",
        "    res = comp_extractors( extractor_training_object )\n",
        "  File \"<ipython-input-23-91249bf1c046>\", line 19, in comp_extractors\n",
        "    extraction_results = get_extraction_results( eto )\n",
        "  File \"<ipython-input-22-35bdc612153c>\", line 10, in get_extraction_results\n",
        "    ret['python_readibilty'] = { 'extracted_html': extract_with_python_readability( raw_content ) }\n",
        "  File \"<ipython-input-8-5916dff6f29a>\", line 6, in extract_with_python_readability\n",
        "    return doc.short_title() + \"\\n\\n\" + doc.summary()\n",
        "  File \"/usr/local/lib/python2.7/dist-packages/readability/readability.py\", line 139, in short_title\n",
        "    return shorten_title(self._html(True))\n",
        "  File \"/usr/local/lib/python2.7/dist-packages/readability/readability.py\", line 119, in _html\n",
        "    self.html = self._parse(self.input)\n",
        "  File \"/usr/local/lib/python2.7/dist-packages/readability/readability.py\", line 123, in _parse\n",
        "    doc, self.encoding = build_doc(input)\n",
        "  File \"/usr/local/lib/python2.7/dist-packages/readability/htmls.py\", line 17, in build_doc\n",
        "    doc = lxml.html.document_fromstring(page_unicode.encode('utf-8', 'replace'), parser=utf8_parser)\n",
        "  File \"/usr/local/lib/python2.7/dist-packages/lxml/html/__init__.py\", line 568, in document_fromstring\n",
        "    value = etree.fromstring(html, parser, **kw)\n",
        "  File \"lxml.etree.pyx\", line 2997, in lxml.etree.fromstring (src/lxml/lxml.etree.c:63276)\n",
        "  File \"parser.pxi\", line 1617, in lxml.etree._parseMemoryDocument (src/lxml/lxml.etree.c:93691)\n",
        "  File \"parser.pxi\", line 1495, in lxml.etree._parseDoc (src/lxml/lxml.etree.c:92490)\n",
        "  File \"parser.pxi\", line 1011, in lxml.etree._BaseParser._parseDoc (src/lxml/lxml.etree.c:89130)\n",
        "  File \"parser.pxi\", line 577, in lxml.etree._ParserContext._handleParseResultDoc (src/lxml/lxml.etree.c:84831)\n",
        "  File \"parser.pxi\", line 676, in lxml.etree._handleParseResult (src/lxml/lxml.etree.c:85936)\n",
        "  File \"parser.pxi\", line 625, in lxml.etree._raiseParseError (src/lxml/lxml.etree.c:85392)\n",
        "XMLSyntaxError: line 1092: htmlParseEntityRef: no name\n",
        "Traceback (most recent call last):\n"
       ]
      },
      {
       "output_type": "stream",
       "stream": "stdout",
       "text": [
        "\n",
        "(<class 'lxml.etree.XMLSyntaxError'>, XMLSyntaxError(u'line 1092: htmlParseEntityRef: no name',), <traceback object at 0x7f564eca3128>)\n",
        "processed  301\n",
        "skipped  62\n",
        "506288913\n",
        "error on download506288913"
       ]
      },
      {
       "output_type": "stream",
       "stream": "stderr",
       "text": [
        "  File \"<ipython-input-41-0e1172e16ab4>\", line 11, in <module>\n",
        "    res = comp_extractors( extractor_training_object )\n",
        "  File \"<ipython-input-23-91249bf1c046>\", line 19, in comp_extractors\n",
        "    extraction_results = get_extraction_results( eto )\n",
        "  File \"<ipython-input-22-35bdc612153c>\", line 10, in get_extraction_results\n",
        "    ret['python_readibilty'] = { 'extracted_html': extract_with_python_readability( raw_content ) }\n",
        "  File \"<ipython-input-8-5916dff6f29a>\", line 6, in extract_with_python_readability\n",
        "    return doc.short_title() + \"\\n\\n\" + doc.summary()\n",
        "  File \"/usr/local/lib/python2.7/dist-packages/readability/readability.py\", line 139, in short_title\n",
        "    return shorten_title(self._html(True))\n",
        "  File \"/usr/local/lib/python2.7/dist-packages/readability/readability.py\", line 119, in _html\n",
        "    self.html = self._parse(self.input)\n",
        "  File \"/usr/local/lib/python2.7/dist-packages/readability/readability.py\", line 123, in _parse\n",
        "    doc, self.encoding = build_doc(input)\n",
        "  File \"/usr/local/lib/python2.7/dist-packages/readability/htmls.py\", line 17, in build_doc\n",
        "    doc = lxml.html.document_fromstring(page_unicode.encode('utf-8', 'replace'), parser=utf8_parser)\n",
        "  File \"/usr/local/lib/python2.7/dist-packages/lxml/html/__init__.py\", line 568, in document_fromstring\n",
        "    value = etree.fromstring(html, parser, **kw)\n",
        "  File \"lxml.etree.pyx\", line 2997, in lxml.etree.fromstring (src/lxml/lxml.etree.c:63276)\n",
        "  File \"parser.pxi\", line 1617, in lxml.etree._parseMemoryDocument (src/lxml/lxml.etree.c:93691)\n",
        "  File \"parser.pxi\", line 1495, in lxml.etree._parseDoc (src/lxml/lxml.etree.c:92490)\n",
        "  File \"parser.pxi\", line 1011, in lxml.etree._BaseParser._parseDoc (src/lxml/lxml.etree.c:89130)\n",
        "  File \"parser.pxi\", line 577, in lxml.etree._ParserContext._handleParseResultDoc (src/lxml/lxml.etree.c:84831)\n",
        "  File \"parser.pxi\", line 676, in lxml.etree._handleParseResult (src/lxml/lxml.etree.c:85936)\n",
        "  File \"parser.pxi\", line 625, in lxml.etree._raiseParseError (src/lxml/lxml.etree.c:85392)\n",
        "XMLSyntaxError: line 1092: htmlParseEntityRef: no name\n",
        "Traceback (most recent call last):\n"
       ]
      },
      {
       "output_type": "stream",
       "stream": "stdout",
       "text": [
        "\n",
        "(<class 'lxml.etree.XMLSyntaxError'>, XMLSyntaxError(u'line 1092: htmlParseEntityRef: no name',), <traceback object at 0x7f564ec8d5a8>)\n",
        "processed  301\n",
        "skipped  63\n",
        "506374300\n",
        "error on download506374300"
       ]
      },
      {
       "output_type": "stream",
       "stream": "stderr",
       "text": [
        "  File \"<ipython-input-41-0e1172e16ab4>\", line 11, in <module>\n",
        "    res = comp_extractors( extractor_training_object )\n",
        "  File \"<ipython-input-23-91249bf1c046>\", line 19, in comp_extractors\n",
        "    extraction_results = get_extraction_results( eto )\n",
        "  File \"<ipython-input-22-35bdc612153c>\", line 10, in get_extraction_results\n",
        "    ret['python_readibilty'] = { 'extracted_html': extract_with_python_readability( raw_content ) }\n",
        "  File \"<ipython-input-8-5916dff6f29a>\", line 6, in extract_with_python_readability\n",
        "    return doc.short_title() + \"\\n\\n\" + doc.summary()\n",
        "  File \"/usr/local/lib/python2.7/dist-packages/readability/readability.py\", line 139, in short_title\n",
        "    return shorten_title(self._html(True))\n",
        "  File \"/usr/local/lib/python2.7/dist-packages/readability/readability.py\", line 119, in _html\n",
        "    self.html = self._parse(self.input)\n",
        "  File \"/usr/local/lib/python2.7/dist-packages/readability/readability.py\", line 123, in _parse\n",
        "    doc, self.encoding = build_doc(input)\n",
        "  File \"/usr/local/lib/python2.7/dist-packages/readability/htmls.py\", line 17, in build_doc\n",
        "    doc = lxml.html.document_fromstring(page_unicode.encode('utf-8', 'replace'), parser=utf8_parser)\n",
        "  File \"/usr/local/lib/python2.7/dist-packages/lxml/html/__init__.py\", line 568, in document_fromstring\n",
        "    value = etree.fromstring(html, parser, **kw)\n",
        "  File \"lxml.etree.pyx\", line 2997, in lxml.etree.fromstring (src/lxml/lxml.etree.c:63276)\n",
        "  File \"parser.pxi\", line 1617, in lxml.etree._parseMemoryDocument (src/lxml/lxml.etree.c:93691)\n",
        "  File \"parser.pxi\", line 1495, in lxml.etree._parseDoc (src/lxml/lxml.etree.c:92490)\n",
        "  File \"parser.pxi\", line 1011, in lxml.etree._BaseParser._parseDoc (src/lxml/lxml.etree.c:89130)\n",
        "  File \"parser.pxi\", line 577, in lxml.etree._ParserContext._handleParseResultDoc (src/lxml/lxml.etree.c:84831)\n",
        "  File \"parser.pxi\", line 676, in lxml.etree._handleParseResult (src/lxml/lxml.etree.c:85936)\n",
        "  File \"parser.pxi\", line 625, in lxml.etree._raiseParseError (src/lxml/lxml.etree.c:85392)\n",
        "XMLSyntaxError: line 1092: htmlParseEntityRef: no name\n",
        "Traceback (most recent call last):\n"
       ]
      },
      {
       "output_type": "stream",
       "stream": "stdout",
       "text": [
        "\n",
        "(<class 'lxml.etree.XMLSyntaxError'>, XMLSyntaxError(u'line 1092: htmlParseEntityRef: no name',), <traceback object at 0x7f564ec8d1b8>)\n",
        "processed  301\n",
        "skipped  64\n",
        "506905377\n",
        "error on download506905377"
       ]
      },
      {
       "output_type": "stream",
       "stream": "stderr",
       "text": [
        "  File \"<ipython-input-41-0e1172e16ab4>\", line 11, in <module>\n",
        "    res = comp_extractors( extractor_training_object )\n",
        "  File \"<ipython-input-23-91249bf1c046>\", line 19, in comp_extractors\n",
        "    extraction_results = get_extraction_results( eto )\n",
        "  File \"<ipython-input-22-35bdc612153c>\", line 10, in get_extraction_results\n",
        "    ret['python_readibilty'] = { 'extracted_html': extract_with_python_readability( raw_content ) }\n",
        "  File \"<ipython-input-8-5916dff6f29a>\", line 6, in extract_with_python_readability\n",
        "    return doc.short_title() + \"\\n\\n\" + doc.summary()\n",
        "  File \"/usr/local/lib/python2.7/dist-packages/readability/readability.py\", line 139, in short_title\n",
        "    return shorten_title(self._html(True))\n",
        "  File \"/usr/local/lib/python2.7/dist-packages/readability/readability.py\", line 119, in _html\n",
        "    self.html = self._parse(self.input)\n",
        "  File \"/usr/local/lib/python2.7/dist-packages/readability/readability.py\", line 123, in _parse\n",
        "    doc, self.encoding = build_doc(input)\n",
        "  File \"/usr/local/lib/python2.7/dist-packages/readability/htmls.py\", line 17, in build_doc\n",
        "    doc = lxml.html.document_fromstring(page_unicode.encode('utf-8', 'replace'), parser=utf8_parser)\n",
        "  File \"/usr/local/lib/python2.7/dist-packages/lxml/html/__init__.py\", line 568, in document_fromstring\n",
        "    value = etree.fromstring(html, parser, **kw)\n",
        "  File \"lxml.etree.pyx\", line 2997, in lxml.etree.fromstring (src/lxml/lxml.etree.c:63276)\n",
        "  File \"parser.pxi\", line 1617, in lxml.etree._parseMemoryDocument (src/lxml/lxml.etree.c:93691)\n",
        "  File \"parser.pxi\", line 1495, in lxml.etree._parseDoc (src/lxml/lxml.etree.c:92490)\n",
        "  File \"parser.pxi\", line 1011, in lxml.etree._BaseParser._parseDoc (src/lxml/lxml.etree.c:89130)\n",
        "  File \"parser.pxi\", line 577, in lxml.etree._ParserContext._handleParseResultDoc (src/lxml/lxml.etree.c:84831)\n",
        "  File \"parser.pxi\", line 676, in lxml.etree._handleParseResult (src/lxml/lxml.etree.c:85936)\n",
        "  File \"parser.pxi\", line 625, in lxml.etree._raiseParseError (src/lxml/lxml.etree.c:85392)\n",
        "XMLSyntaxError: line 1092: htmlParseEntityRef: no name\n",
        "Traceback (most recent call last):\n"
       ]
      },
      {
       "output_type": "stream",
       "stream": "stdout",
       "text": [
        "\n",
        "(<class 'lxml.etree.XMLSyntaxError'>, XMLSyntaxError(u'line 1092: htmlParseEntityRef: no name',), <traceback object at 0x7f564ec8d200>)\n",
        "processed  301\n",
        "skipped  65\n",
        "508032017\n",
        "error on download508032017"
       ]
      },
      {
       "output_type": "stream",
       "stream": "stderr",
       "text": [
        "  File \"<ipython-input-41-0e1172e16ab4>\", line 11, in <module>\n",
        "    res = comp_extractors( extractor_training_object )\n",
        "  File \"<ipython-input-23-91249bf1c046>\", line 19, in comp_extractors\n",
        "    extraction_results = get_extraction_results( eto )\n",
        "  File \"<ipython-input-22-35bdc612153c>\", line 10, in get_extraction_results\n",
        "    ret['python_readibilty'] = { 'extracted_html': extract_with_python_readability( raw_content ) }\n",
        "  File \"<ipython-input-8-5916dff6f29a>\", line 6, in extract_with_python_readability\n",
        "    return doc.short_title() + \"\\n\\n\" + doc.summary()\n",
        "  File \"/usr/local/lib/python2.7/dist-packages/readability/readability.py\", line 139, in short_title\n",
        "    return shorten_title(self._html(True))\n",
        "  File \"/usr/local/lib/python2.7/dist-packages/readability/readability.py\", line 119, in _html\n",
        "    self.html = self._parse(self.input)\n",
        "  File \"/usr/local/lib/python2.7/dist-packages/readability/readability.py\", line 123, in _parse\n",
        "    doc, self.encoding = build_doc(input)\n",
        "  File \"/usr/local/lib/python2.7/dist-packages/readability/htmls.py\", line 17, in build_doc\n",
        "    doc = lxml.html.document_fromstring(page_unicode.encode('utf-8', 'replace'), parser=utf8_parser)\n",
        "  File \"/usr/local/lib/python2.7/dist-packages/lxml/html/__init__.py\", line 568, in document_fromstring\n",
        "    value = etree.fromstring(html, parser, **kw)\n",
        "  File \"lxml.etree.pyx\", line 2997, in lxml.etree.fromstring (src/lxml/lxml.etree.c:63276)\n",
        "  File \"parser.pxi\", line 1617, in lxml.etree._parseMemoryDocument (src/lxml/lxml.etree.c:93691)\n",
        "  File \"parser.pxi\", line 1495, in lxml.etree._parseDoc (src/lxml/lxml.etree.c:92490)\n",
        "  File \"parser.pxi\", line 1011, in lxml.etree._BaseParser._parseDoc (src/lxml/lxml.etree.c:89130)\n",
        "  File \"parser.pxi\", line 577, in lxml.etree._ParserContext._handleParseResultDoc (src/lxml/lxml.etree.c:84831)\n",
        "  File \"parser.pxi\", line 676, in lxml.etree._handleParseResult (src/lxml/lxml.etree.c:85936)\n",
        "  File \"parser.pxi\", line 625, in lxml.etree._raiseParseError (src/lxml/lxml.etree.c:85392)\n",
        "XMLSyntaxError: line 1092: htmlParseEntityRef: no name\n",
        "Traceback (most recent call last):\n"
       ]
      },
      {
       "output_type": "stream",
       "stream": "stdout",
       "text": [
        "\n",
        "(<class 'lxml.etree.XMLSyntaxError'>, XMLSyntaxError(u'line 1092: htmlParseEntityRef: no name',), <traceback object at 0x7f564ec9c878>)\n",
        "processed  301\n",
        "skipped  66\n",
        "508653746\n",
        "error on download508653746"
       ]
      },
      {
       "output_type": "stream",
       "stream": "stderr",
       "text": [
        "  File \"<ipython-input-41-0e1172e16ab4>\", line 11, in <module>\n",
        "    res = comp_extractors( extractor_training_object )\n",
        "  File \"<ipython-input-23-91249bf1c046>\", line 19, in comp_extractors\n",
        "    extraction_results = get_extraction_results( eto )\n",
        "  File \"<ipython-input-22-35bdc612153c>\", line 10, in get_extraction_results\n",
        "    ret['python_readibilty'] = { 'extracted_html': extract_with_python_readability( raw_content ) }\n",
        "  File \"<ipython-input-8-5916dff6f29a>\", line 6, in extract_with_python_readability\n",
        "    return doc.short_title() + \"\\n\\n\" + doc.summary()\n",
        "  File \"/usr/local/lib/python2.7/dist-packages/readability/readability.py\", line 139, in short_title\n",
        "    return shorten_title(self._html(True))\n",
        "  File \"/usr/local/lib/python2.7/dist-packages/readability/readability.py\", line 119, in _html\n",
        "    self.html = self._parse(self.input)\n",
        "  File \"/usr/local/lib/python2.7/dist-packages/readability/readability.py\", line 123, in _parse\n",
        "    doc, self.encoding = build_doc(input)\n",
        "  File \"/usr/local/lib/python2.7/dist-packages/readability/htmls.py\", line 17, in build_doc\n",
        "    doc = lxml.html.document_fromstring(page_unicode.encode('utf-8', 'replace'), parser=utf8_parser)\n",
        "  File \"/usr/local/lib/python2.7/dist-packages/lxml/html/__init__.py\", line 568, in document_fromstring\n",
        "    value = etree.fromstring(html, parser, **kw)\n",
        "  File \"lxml.etree.pyx\", line 2997, in lxml.etree.fromstring (src/lxml/lxml.etree.c:63276)\n",
        "  File \"parser.pxi\", line 1617, in lxml.etree._parseMemoryDocument (src/lxml/lxml.etree.c:93691)\n",
        "  File \"parser.pxi\", line 1495, in lxml.etree._parseDoc (src/lxml/lxml.etree.c:92490)\n",
        "  File \"parser.pxi\", line 1011, in lxml.etree._BaseParser._parseDoc (src/lxml/lxml.etree.c:89130)\n",
        "  File \"parser.pxi\", line 577, in lxml.etree._ParserContext._handleParseResultDoc (src/lxml/lxml.etree.c:84831)\n",
        "  File \"parser.pxi\", line 676, in lxml.etree._handleParseResult (src/lxml/lxml.etree.c:85936)\n",
        "  File \"parser.pxi\", line 625, in lxml.etree._raiseParseError (src/lxml/lxml.etree.c:85392)\n",
        "XMLSyntaxError: line 1092: htmlParseEntityRef: no name\n",
        "Traceback (most recent call last):\n"
       ]
      },
      {
       "output_type": "stream",
       "stream": "stdout",
       "text": [
        "\n",
        "(<class 'lxml.etree.XMLSyntaxError'>, XMLSyntaxError(u'line 1092: htmlParseEntityRef: no name',), <traceback object at 0x7f564ec9c8c0>)\n",
        "processed  301\n",
        "skipped  67\n",
        "509162462\n",
        "error on download509162462"
       ]
      },
      {
       "output_type": "stream",
       "stream": "stderr",
       "text": [
        "  File \"<ipython-input-41-0e1172e16ab4>\", line 11, in <module>\n",
        "    res = comp_extractors( extractor_training_object )\n",
        "  File \"<ipython-input-23-91249bf1c046>\", line 19, in comp_extractors\n",
        "    extraction_results = get_extraction_results( eto )\n",
        "  File \"<ipython-input-22-35bdc612153c>\", line 10, in get_extraction_results\n",
        "    ret['python_readibilty'] = { 'extracted_html': extract_with_python_readability( raw_content ) }\n",
        "  File \"<ipython-input-8-5916dff6f29a>\", line 6, in extract_with_python_readability\n",
        "    return doc.short_title() + \"\\n\\n\" + doc.summary()\n",
        "  File \"/usr/local/lib/python2.7/dist-packages/readability/readability.py\", line 139, in short_title\n",
        "    return shorten_title(self._html(True))\n",
        "  File \"/usr/local/lib/python2.7/dist-packages/readability/readability.py\", line 119, in _html\n",
        "    self.html = self._parse(self.input)\n",
        "  File \"/usr/local/lib/python2.7/dist-packages/readability/readability.py\", line 123, in _parse\n",
        "    doc, self.encoding = build_doc(input)\n",
        "  File \"/usr/local/lib/python2.7/dist-packages/readability/htmls.py\", line 17, in build_doc\n",
        "    doc = lxml.html.document_fromstring(page_unicode.encode('utf-8', 'replace'), parser=utf8_parser)\n",
        "  File \"/usr/local/lib/python2.7/dist-packages/lxml/html/__init__.py\", line 568, in document_fromstring\n",
        "    value = etree.fromstring(html, parser, **kw)\n",
        "  File \"lxml.etree.pyx\", line 2997, in lxml.etree.fromstring (src/lxml/lxml.etree.c:63276)\n",
        "  File \"parser.pxi\", line 1617, in lxml.etree._parseMemoryDocument (src/lxml/lxml.etree.c:93691)\n",
        "  File \"parser.pxi\", line 1495, in lxml.etree._parseDoc (src/lxml/lxml.etree.c:92490)\n",
        "  File \"parser.pxi\", line 1011, in lxml.etree._BaseParser._parseDoc (src/lxml/lxml.etree.c:89130)\n",
        "  File \"parser.pxi\", line 577, in lxml.etree._ParserContext._handleParseResultDoc (src/lxml/lxml.etree.c:84831)\n",
        "  File \"parser.pxi\", line 676, in lxml.etree._handleParseResult (src/lxml/lxml.etree.c:85936)\n",
        "  File \"parser.pxi\", line 625, in lxml.etree._raiseParseError (src/lxml/lxml.etree.c:85392)\n",
        "XMLSyntaxError: line 1092: htmlParseEntityRef: no name\n",
        "Traceback (most recent call last):\n"
       ]
      },
      {
       "output_type": "stream",
       "stream": "stdout",
       "text": [
        "\n",
        "(<class 'lxml.etree.XMLSyntaxError'>, XMLSyntaxError(u'line 1092: htmlParseEntityRef: no name',), <traceback object at 0x7f564ec9c950>)\n",
        "processed  301\n",
        "skipped  68\n",
        "509252393\n",
        "error on download509252393"
       ]
      },
      {
       "output_type": "stream",
       "stream": "stderr",
       "text": [
        "  File \"<ipython-input-41-0e1172e16ab4>\", line 11, in <module>\n",
        "    res = comp_extractors( extractor_training_object )\n",
        "  File \"<ipython-input-23-91249bf1c046>\", line 19, in comp_extractors\n",
        "    extraction_results = get_extraction_results( eto )\n",
        "  File \"<ipython-input-22-35bdc612153c>\", line 10, in get_extraction_results\n",
        "    ret['python_readibilty'] = { 'extracted_html': extract_with_python_readability( raw_content ) }\n",
        "  File \"<ipython-input-8-5916dff6f29a>\", line 6, in extract_with_python_readability\n",
        "    return doc.short_title() + \"\\n\\n\" + doc.summary()\n",
        "  File \"/usr/local/lib/python2.7/dist-packages/readability/readability.py\", line 139, in short_title\n",
        "    return shorten_title(self._html(True))\n",
        "  File \"/usr/local/lib/python2.7/dist-packages/readability/readability.py\", line 119, in _html\n",
        "    self.html = self._parse(self.input)\n",
        "  File \"/usr/local/lib/python2.7/dist-packages/readability/readability.py\", line 123, in _parse\n",
        "    doc, self.encoding = build_doc(input)\n",
        "  File \"/usr/local/lib/python2.7/dist-packages/readability/htmls.py\", line 17, in build_doc\n",
        "    doc = lxml.html.document_fromstring(page_unicode.encode('utf-8', 'replace'), parser=utf8_parser)\n",
        "  File \"/usr/local/lib/python2.7/dist-packages/lxml/html/__init__.py\", line 568, in document_fromstring\n",
        "    value = etree.fromstring(html, parser, **kw)\n",
        "  File \"lxml.etree.pyx\", line 2997, in lxml.etree.fromstring (src/lxml/lxml.etree.c:63276)\n",
        "  File \"parser.pxi\", line 1617, in lxml.etree._parseMemoryDocument (src/lxml/lxml.etree.c:93691)\n",
        "  File \"parser.pxi\", line 1495, in lxml.etree._parseDoc (src/lxml/lxml.etree.c:92490)\n",
        "  File \"parser.pxi\", line 1011, in lxml.etree._BaseParser._parseDoc (src/lxml/lxml.etree.c:89130)\n",
        "  File \"parser.pxi\", line 577, in lxml.etree._ParserContext._handleParseResultDoc (src/lxml/lxml.etree.c:84831)\n",
        "  File \"parser.pxi\", line 676, in lxml.etree._handleParseResult (src/lxml/lxml.etree.c:85936)\n",
        "  File \"parser.pxi\", line 625, in lxml.etree._raiseParseError (src/lxml/lxml.etree.c:85392)\n",
        "XMLSyntaxError: line 1092: htmlParseEntityRef: no name\n",
        "Traceback (most recent call last):\n"
       ]
      },
      {
       "output_type": "stream",
       "stream": "stdout",
       "text": [
        "\n",
        "(<class 'lxml.etree.XMLSyntaxError'>, XMLSyntaxError(u'line 1092: htmlParseEntityRef: no name',), <traceback object at 0x7f564ec9c128>)\n",
        "processed  301\n",
        "skipped  69\n",
        "509863893\n",
        "error on download509863893"
       ]
      },
      {
       "output_type": "stream",
       "stream": "stderr",
       "text": [
        "  File \"<ipython-input-41-0e1172e16ab4>\", line 11, in <module>\n",
        "    res = comp_extractors( extractor_training_object )\n",
        "  File \"<ipython-input-23-91249bf1c046>\", line 19, in comp_extractors\n",
        "    extraction_results = get_extraction_results( eto )\n",
        "  File \"<ipython-input-22-35bdc612153c>\", line 10, in get_extraction_results\n",
        "    ret['python_readibilty'] = { 'extracted_html': extract_with_python_readability( raw_content ) }\n",
        "  File \"<ipython-input-8-5916dff6f29a>\", line 6, in extract_with_python_readability\n",
        "    return doc.short_title() + \"\\n\\n\" + doc.summary()\n",
        "  File \"/usr/local/lib/python2.7/dist-packages/readability/readability.py\", line 139, in short_title\n",
        "    return shorten_title(self._html(True))\n",
        "  File \"/usr/local/lib/python2.7/dist-packages/readability/readability.py\", line 119, in _html\n",
        "    self.html = self._parse(self.input)\n",
        "  File \"/usr/local/lib/python2.7/dist-packages/readability/readability.py\", line 123, in _parse\n",
        "    doc, self.encoding = build_doc(input)\n",
        "  File \"/usr/local/lib/python2.7/dist-packages/readability/htmls.py\", line 17, in build_doc\n",
        "    doc = lxml.html.document_fromstring(page_unicode.encode('utf-8', 'replace'), parser=utf8_parser)\n",
        "  File \"/usr/local/lib/python2.7/dist-packages/lxml/html/__init__.py\", line 568, in document_fromstring\n",
        "    value = etree.fromstring(html, parser, **kw)\n",
        "  File \"lxml.etree.pyx\", line 2997, in lxml.etree.fromstring (src/lxml/lxml.etree.c:63276)\n",
        "  File \"parser.pxi\", line 1617, in lxml.etree._parseMemoryDocument (src/lxml/lxml.etree.c:93691)\n",
        "  File \"parser.pxi\", line 1495, in lxml.etree._parseDoc (src/lxml/lxml.etree.c:92490)\n",
        "  File \"parser.pxi\", line 1011, in lxml.etree._BaseParser._parseDoc (src/lxml/lxml.etree.c:89130)\n",
        "  File \"parser.pxi\", line 577, in lxml.etree._ParserContext._handleParseResultDoc (src/lxml/lxml.etree.c:84831)\n",
        "  File \"parser.pxi\", line 676, in lxml.etree._handleParseResult (src/lxml/lxml.etree.c:85936)\n",
        "  File \"parser.pxi\", line 625, in lxml.etree._raiseParseError (src/lxml/lxml.etree.c:85392)\n",
        "XMLSyntaxError: line 1092: htmlParseEntityRef: no name\n",
        "Traceback (most recent call last):\n"
       ]
      },
      {
       "output_type": "stream",
       "stream": "stdout",
       "text": [
        "\n",
        "(<class 'lxml.etree.XMLSyntaxError'>, XMLSyntaxError(u'line 1092: htmlParseEntityRef: no name',), <traceback object at 0x7f564ec9ac68>)\n",
        "processed  301\n",
        "skipped  70\n",
        "510413590\n",
        "error on download510413590"
       ]
      },
      {
       "output_type": "stream",
       "stream": "stderr",
       "text": [
        "  File \"<ipython-input-41-0e1172e16ab4>\", line 11, in <module>\n",
        "    res = comp_extractors( extractor_training_object )\n",
        "  File \"<ipython-input-23-91249bf1c046>\", line 19, in comp_extractors\n",
        "    extraction_results = get_extraction_results( eto )\n",
        "  File \"<ipython-input-22-35bdc612153c>\", line 10, in get_extraction_results\n",
        "    ret['python_readibilty'] = { 'extracted_html': extract_with_python_readability( raw_content ) }\n",
        "  File \"<ipython-input-8-5916dff6f29a>\", line 6, in extract_with_python_readability\n",
        "    return doc.short_title() + \"\\n\\n\" + doc.summary()\n",
        "  File \"/usr/local/lib/python2.7/dist-packages/readability/readability.py\", line 139, in short_title\n",
        "    return shorten_title(self._html(True))\n",
        "  File \"/usr/local/lib/python2.7/dist-packages/readability/readability.py\", line 119, in _html\n",
        "    self.html = self._parse(self.input)\n",
        "  File \"/usr/local/lib/python2.7/dist-packages/readability/readability.py\", line 123, in _parse\n",
        "    doc, self.encoding = build_doc(input)\n",
        "  File \"/usr/local/lib/python2.7/dist-packages/readability/htmls.py\", line 17, in build_doc\n",
        "    doc = lxml.html.document_fromstring(page_unicode.encode('utf-8', 'replace'), parser=utf8_parser)\n",
        "  File \"/usr/local/lib/python2.7/dist-packages/lxml/html/__init__.py\", line 568, in document_fromstring\n",
        "    value = etree.fromstring(html, parser, **kw)\n",
        "  File \"lxml.etree.pyx\", line 2997, in lxml.etree.fromstring (src/lxml/lxml.etree.c:63276)\n",
        "  File \"parser.pxi\", line 1617, in lxml.etree._parseMemoryDocument (src/lxml/lxml.etree.c:93691)\n",
        "  File \"parser.pxi\", line 1495, in lxml.etree._parseDoc (src/lxml/lxml.etree.c:92490)\n",
        "  File \"parser.pxi\", line 1011, in lxml.etree._BaseParser._parseDoc (src/lxml/lxml.etree.c:89130)\n",
        "  File \"parser.pxi\", line 577, in lxml.etree._ParserContext._handleParseResultDoc (src/lxml/lxml.etree.c:84831)\n",
        "  File \"parser.pxi\", line 676, in lxml.etree._handleParseResult (src/lxml/lxml.etree.c:85936)\n",
        "  File \"parser.pxi\", line 625, in lxml.etree._raiseParseError (src/lxml/lxml.etree.c:85392)\n",
        "XMLSyntaxError: line 1092: htmlParseEntityRef: no name\n",
        "Traceback (most recent call last):\n"
       ]
      },
      {
       "output_type": "stream",
       "stream": "stdout",
       "text": [
        "\n",
        "(<class 'lxml.etree.XMLSyntaxError'>, XMLSyntaxError(u'line 1092: htmlParseEntityRef: no name',), <traceback object at 0x7f564ec9a488>)\n",
        "processed  301\n",
        "skipped  71\n",
        "510662547\n",
        "error on download510662547"
       ]
      },
      {
       "output_type": "stream",
       "stream": "stderr",
       "text": [
        "  File \"<ipython-input-41-0e1172e16ab4>\", line 11, in <module>\n",
        "    res = comp_extractors( extractor_training_object )\n",
        "  File \"<ipython-input-23-91249bf1c046>\", line 19, in comp_extractors\n",
        "    extraction_results = get_extraction_results( eto )\n",
        "  File \"<ipython-input-22-35bdc612153c>\", line 10, in get_extraction_results\n",
        "    ret['python_readibilty'] = { 'extracted_html': extract_with_python_readability( raw_content ) }\n",
        "  File \"<ipython-input-8-5916dff6f29a>\", line 6, in extract_with_python_readability\n",
        "    return doc.short_title() + \"\\n\\n\" + doc.summary()\n",
        "  File \"/usr/local/lib/python2.7/dist-packages/readability/readability.py\", line 139, in short_title\n",
        "    return shorten_title(self._html(True))\n",
        "  File \"/usr/local/lib/python2.7/dist-packages/readability/readability.py\", line 119, in _html\n",
        "    self.html = self._parse(self.input)\n",
        "  File \"/usr/local/lib/python2.7/dist-packages/readability/readability.py\", line 123, in _parse\n",
        "    doc, self.encoding = build_doc(input)\n",
        "  File \"/usr/local/lib/python2.7/dist-packages/readability/htmls.py\", line 17, in build_doc\n",
        "    doc = lxml.html.document_fromstring(page_unicode.encode('utf-8', 'replace'), parser=utf8_parser)\n",
        "  File \"/usr/local/lib/python2.7/dist-packages/lxml/html/__init__.py\", line 568, in document_fromstring\n",
        "    value = etree.fromstring(html, parser, **kw)\n",
        "  File \"lxml.etree.pyx\", line 2997, in lxml.etree.fromstring (src/lxml/lxml.etree.c:63276)\n",
        "  File \"parser.pxi\", line 1617, in lxml.etree._parseMemoryDocument (src/lxml/lxml.etree.c:93691)\n",
        "  File \"parser.pxi\", line 1495, in lxml.etree._parseDoc (src/lxml/lxml.etree.c:92490)\n",
        "  File \"parser.pxi\", line 1011, in lxml.etree._BaseParser._parseDoc (src/lxml/lxml.etree.c:89130)\n",
        "  File \"parser.pxi\", line 577, in lxml.etree._ParserContext._handleParseResultDoc (src/lxml/lxml.etree.c:84831)\n",
        "  File \"parser.pxi\", line 676, in lxml.etree._handleParseResult (src/lxml/lxml.etree.c:85936)\n",
        "  File \"parser.pxi\", line 625, in lxml.etree._raiseParseError (src/lxml/lxml.etree.c:85392)\n",
        "XMLSyntaxError: line 1092: htmlParseEntityRef: no name\n",
        "Traceback (most recent call last):\n"
       ]
      },
      {
       "output_type": "stream",
       "stream": "stdout",
       "text": [
        "\n",
        "(<class 'lxml.etree.XMLSyntaxError'>, XMLSyntaxError(u'line 1092: htmlParseEntityRef: no name',), <traceback object at 0x7f564ec9a5f0>)\n",
        "processed  301\n",
        "skipped  72\n",
        "510881596\n",
        "error on download510881596"
       ]
      },
      {
       "output_type": "stream",
       "stream": "stderr",
       "text": [
        "  File \"<ipython-input-41-0e1172e16ab4>\", line 11, in <module>\n",
        "    res = comp_extractors( extractor_training_object )\n",
        "  File \"<ipython-input-23-91249bf1c046>\", line 19, in comp_extractors\n",
        "    extraction_results = get_extraction_results( eto )\n",
        "  File \"<ipython-input-22-35bdc612153c>\", line 10, in get_extraction_results\n",
        "    ret['python_readibilty'] = { 'extracted_html': extract_with_python_readability( raw_content ) }\n",
        "  File \"<ipython-input-8-5916dff6f29a>\", line 6, in extract_with_python_readability\n",
        "    return doc.short_title() + \"\\n\\n\" + doc.summary()\n",
        "  File \"/usr/local/lib/python2.7/dist-packages/readability/readability.py\", line 139, in short_title\n",
        "    return shorten_title(self._html(True))\n",
        "  File \"/usr/local/lib/python2.7/dist-packages/readability/readability.py\", line 119, in _html\n",
        "    self.html = self._parse(self.input)\n",
        "  File \"/usr/local/lib/python2.7/dist-packages/readability/readability.py\", line 123, in _parse\n",
        "    doc, self.encoding = build_doc(input)\n",
        "  File \"/usr/local/lib/python2.7/dist-packages/readability/htmls.py\", line 17, in build_doc\n",
        "    doc = lxml.html.document_fromstring(page_unicode.encode('utf-8', 'replace'), parser=utf8_parser)\n",
        "  File \"/usr/local/lib/python2.7/dist-packages/lxml/html/__init__.py\", line 568, in document_fromstring\n",
        "    value = etree.fromstring(html, parser, **kw)\n",
        "  File \"lxml.etree.pyx\", line 2997, in lxml.etree.fromstring (src/lxml/lxml.etree.c:63276)\n",
        "  File \"parser.pxi\", line 1617, in lxml.etree._parseMemoryDocument (src/lxml/lxml.etree.c:93691)\n",
        "  File \"parser.pxi\", line 1495, in lxml.etree._parseDoc (src/lxml/lxml.etree.c:92490)\n",
        "  File \"parser.pxi\", line 1011, in lxml.etree._BaseParser._parseDoc (src/lxml/lxml.etree.c:89130)\n",
        "  File \"parser.pxi\", line 577, in lxml.etree._ParserContext._handleParseResultDoc (src/lxml/lxml.etree.c:84831)\n",
        "  File \"parser.pxi\", line 676, in lxml.etree._handleParseResult (src/lxml/lxml.etree.c:85936)\n",
        "  File \"parser.pxi\", line 625, in lxml.etree._raiseParseError (src/lxml/lxml.etree.c:85392)\n",
        "XMLSyntaxError: line 1092: htmlParseEntityRef: no name\n",
        "Traceback (most recent call last):\n"
       ]
      },
      {
       "output_type": "stream",
       "stream": "stdout",
       "text": [
        "\n",
        "(<class 'lxml.etree.XMLSyntaxError'>, XMLSyntaxError(u'line 1092: htmlParseEntityRef: no name',), <traceback object at 0x7f564ec8aef0>)\n",
        "processed  301\n",
        "skipped  73\n",
        "510954456\n",
        "error on download510954456"
       ]
      },
      {
       "output_type": "stream",
       "stream": "stderr",
       "text": [
        "  File \"<ipython-input-41-0e1172e16ab4>\", line 11, in <module>\n",
        "    res = comp_extractors( extractor_training_object )\n",
        "  File \"<ipython-input-23-91249bf1c046>\", line 19, in comp_extractors\n",
        "    extraction_results = get_extraction_results( eto )\n",
        "  File \"<ipython-input-22-35bdc612153c>\", line 10, in get_extraction_results\n",
        "    ret['python_readibilty'] = { 'extracted_html': extract_with_python_readability( raw_content ) }\n",
        "  File \"<ipython-input-8-5916dff6f29a>\", line 6, in extract_with_python_readability\n",
        "    return doc.short_title() + \"\\n\\n\" + doc.summary()\n",
        "  File \"/usr/local/lib/python2.7/dist-packages/readability/readability.py\", line 139, in short_title\n",
        "    return shorten_title(self._html(True))\n",
        "  File \"/usr/local/lib/python2.7/dist-packages/readability/readability.py\", line 119, in _html\n",
        "    self.html = self._parse(self.input)\n",
        "  File \"/usr/local/lib/python2.7/dist-packages/readability/readability.py\", line 123, in _parse\n",
        "    doc, self.encoding = build_doc(input)\n",
        "  File \"/usr/local/lib/python2.7/dist-packages/readability/htmls.py\", line 17, in build_doc\n",
        "    doc = lxml.html.document_fromstring(page_unicode.encode('utf-8', 'replace'), parser=utf8_parser)\n",
        "  File \"/usr/local/lib/python2.7/dist-packages/lxml/html/__init__.py\", line 568, in document_fromstring\n",
        "    value = etree.fromstring(html, parser, **kw)\n",
        "  File \"lxml.etree.pyx\", line 2997, in lxml.etree.fromstring (src/lxml/lxml.etree.c:63276)\n",
        "  File \"parser.pxi\", line 1617, in lxml.etree._parseMemoryDocument (src/lxml/lxml.etree.c:93691)\n",
        "  File \"parser.pxi\", line 1495, in lxml.etree._parseDoc (src/lxml/lxml.etree.c:92490)\n",
        "  File \"parser.pxi\", line 1011, in lxml.etree._BaseParser._parseDoc (src/lxml/lxml.etree.c:89130)\n",
        "  File \"parser.pxi\", line 577, in lxml.etree._ParserContext._handleParseResultDoc (src/lxml/lxml.etree.c:84831)\n",
        "  File \"parser.pxi\", line 676, in lxml.etree._handleParseResult (src/lxml/lxml.etree.c:85936)\n",
        "  File \"parser.pxi\", line 625, in lxml.etree._raiseParseError (src/lxml/lxml.etree.c:85392)\n",
        "XMLSyntaxError: line 1092: htmlParseEntityRef: no name\n",
        "Traceback (most recent call last):\n"
       ]
      },
      {
       "output_type": "stream",
       "stream": "stdout",
       "text": [
        "\n",
        "(<class 'lxml.etree.XMLSyntaxError'>, XMLSyntaxError(u'line 1092: htmlParseEntityRef: no name',), <traceback object at 0x7f564ec8a128>)\n",
        "processed  301\n",
        "skipped  74\n",
        "510955330\n",
        "error on download510955330"
       ]
      },
      {
       "output_type": "stream",
       "stream": "stderr",
       "text": [
        "  File \"<ipython-input-41-0e1172e16ab4>\", line 11, in <module>\n",
        "    res = comp_extractors( extractor_training_object )\n",
        "  File \"<ipython-input-23-91249bf1c046>\", line 19, in comp_extractors\n",
        "    extraction_results = get_extraction_results( eto )\n",
        "  File \"<ipython-input-22-35bdc612153c>\", line 10, in get_extraction_results\n",
        "    ret['python_readibilty'] = { 'extracted_html': extract_with_python_readability( raw_content ) }\n",
        "  File \"<ipython-input-8-5916dff6f29a>\", line 6, in extract_with_python_readability\n",
        "    return doc.short_title() + \"\\n\\n\" + doc.summary()\n",
        "  File \"/usr/local/lib/python2.7/dist-packages/readability/readability.py\", line 139, in short_title\n",
        "    return shorten_title(self._html(True))\n",
        "  File \"/usr/local/lib/python2.7/dist-packages/readability/readability.py\", line 119, in _html\n",
        "    self.html = self._parse(self.input)\n",
        "  File \"/usr/local/lib/python2.7/dist-packages/readability/readability.py\", line 123, in _parse\n",
        "    doc, self.encoding = build_doc(input)\n",
        "  File \"/usr/local/lib/python2.7/dist-packages/readability/htmls.py\", line 17, in build_doc\n",
        "    doc = lxml.html.document_fromstring(page_unicode.encode('utf-8', 'replace'), parser=utf8_parser)\n",
        "  File \"/usr/local/lib/python2.7/dist-packages/lxml/html/__init__.py\", line 568, in document_fromstring\n",
        "    value = etree.fromstring(html, parser, **kw)\n",
        "  File \"lxml.etree.pyx\", line 2997, in lxml.etree.fromstring (src/lxml/lxml.etree.c:63276)\n",
        "  File \"parser.pxi\", line 1617, in lxml.etree._parseMemoryDocument (src/lxml/lxml.etree.c:93691)\n",
        "  File \"parser.pxi\", line 1495, in lxml.etree._parseDoc (src/lxml/lxml.etree.c:92490)\n",
        "  File \"parser.pxi\", line 1011, in lxml.etree._BaseParser._parseDoc (src/lxml/lxml.etree.c:89130)\n",
        "  File \"parser.pxi\", line 577, in lxml.etree._ParserContext._handleParseResultDoc (src/lxml/lxml.etree.c:84831)\n",
        "  File \"parser.pxi\", line 676, in lxml.etree._handleParseResult (src/lxml/lxml.etree.c:85936)\n",
        "  File \"parser.pxi\", line 625, in lxml.etree._raiseParseError (src/lxml/lxml.etree.c:85392)\n",
        "XMLSyntaxError: line 1092: htmlParseEntityRef: no name\n",
        "Traceback (most recent call last):\n"
       ]
      },
      {
       "output_type": "stream",
       "stream": "stdout",
       "text": [
        "\n",
        "(<class 'lxml.etree.XMLSyntaxError'>, XMLSyntaxError(u'line 1092: htmlParseEntityRef: no name',), <traceback object at 0x7f564ec8aab8>)\n",
        "processed  301\n",
        "skipped  75\n",
        "511823889\n",
        "error on download511823889"
       ]
      },
      {
       "output_type": "stream",
       "stream": "stderr",
       "text": [
        "  File \"<ipython-input-41-0e1172e16ab4>\", line 11, in <module>\n",
        "    res = comp_extractors( extractor_training_object )\n",
        "  File \"<ipython-input-23-91249bf1c046>\", line 19, in comp_extractors\n",
        "    extraction_results = get_extraction_results( eto )\n",
        "  File \"<ipython-input-22-35bdc612153c>\", line 10, in get_extraction_results\n",
        "    ret['python_readibilty'] = { 'extracted_html': extract_with_python_readability( raw_content ) }\n",
        "  File \"<ipython-input-8-5916dff6f29a>\", line 6, in extract_with_python_readability\n",
        "    return doc.short_title() + \"\\n\\n\" + doc.summary()\n",
        "  File \"/usr/local/lib/python2.7/dist-packages/readability/readability.py\", line 139, in short_title\n",
        "    return shorten_title(self._html(True))\n",
        "  File \"/usr/local/lib/python2.7/dist-packages/readability/readability.py\", line 119, in _html\n",
        "    self.html = self._parse(self.input)\n",
        "  File \"/usr/local/lib/python2.7/dist-packages/readability/readability.py\", line 123, in _parse\n",
        "    doc, self.encoding = build_doc(input)\n",
        "  File \"/usr/local/lib/python2.7/dist-packages/readability/htmls.py\", line 17, in build_doc\n",
        "    doc = lxml.html.document_fromstring(page_unicode.encode('utf-8', 'replace'), parser=utf8_parser)\n",
        "  File \"/usr/local/lib/python2.7/dist-packages/lxml/html/__init__.py\", line 568, in document_fromstring\n",
        "    value = etree.fromstring(html, parser, **kw)\n",
        "  File \"lxml.etree.pyx\", line 2997, in lxml.etree.fromstring (src/lxml/lxml.etree.c:63276)\n",
        "  File \"parser.pxi\", line 1617, in lxml.etree._parseMemoryDocument (src/lxml/lxml.etree.c:93691)\n",
        "  File \"parser.pxi\", line 1495, in lxml.etree._parseDoc (src/lxml/lxml.etree.c:92490)\n",
        "  File \"parser.pxi\", line 1011, in lxml.etree._BaseParser._parseDoc (src/lxml/lxml.etree.c:89130)\n",
        "  File \"parser.pxi\", line 577, in lxml.etree._ParserContext._handleParseResultDoc (src/lxml/lxml.etree.c:84831)\n",
        "  File \"parser.pxi\", line 676, in lxml.etree._handleParseResult (src/lxml/lxml.etree.c:85936)\n",
        "  File \"parser.pxi\", line 625, in lxml.etree._raiseParseError (src/lxml/lxml.etree.c:85392)\n",
        "XMLSyntaxError: line 1092: htmlParseEntityRef: no name\n",
        "Traceback (most recent call last):\n"
       ]
      },
      {
       "output_type": "stream",
       "stream": "stdout",
       "text": [
        "\n",
        "(<class 'lxml.etree.XMLSyntaxError'>, XMLSyntaxError(u'line 1092: htmlParseEntityRef: no name',), <traceback object at 0x7f564ec8a248>)\n",
        "processed  301\n",
        "skipped  76\n",
        "512505124\n",
        "error on download512505124"
       ]
      },
      {
       "output_type": "stream",
       "stream": "stderr",
       "text": [
        "  File \"<ipython-input-41-0e1172e16ab4>\", line 11, in <module>\n",
        "    res = comp_extractors( extractor_training_object )\n",
        "  File \"<ipython-input-23-91249bf1c046>\", line 19, in comp_extractors\n",
        "    extraction_results = get_extraction_results( eto )\n",
        "  File \"<ipython-input-22-35bdc612153c>\", line 10, in get_extraction_results\n",
        "    ret['python_readibilty'] = { 'extracted_html': extract_with_python_readability( raw_content ) }\n",
        "  File \"<ipython-input-8-5916dff6f29a>\", line 6, in extract_with_python_readability\n",
        "    return doc.short_title() + \"\\n\\n\" + doc.summary()\n",
        "  File \"/usr/local/lib/python2.7/dist-packages/readability/readability.py\", line 139, in short_title\n",
        "    return shorten_title(self._html(True))\n",
        "  File \"/usr/local/lib/python2.7/dist-packages/readability/readability.py\", line 119, in _html\n",
        "    self.html = self._parse(self.input)\n",
        "  File \"/usr/local/lib/python2.7/dist-packages/readability/readability.py\", line 123, in _parse\n",
        "    doc, self.encoding = build_doc(input)\n",
        "  File \"/usr/local/lib/python2.7/dist-packages/readability/htmls.py\", line 17, in build_doc\n",
        "    doc = lxml.html.document_fromstring(page_unicode.encode('utf-8', 'replace'), parser=utf8_parser)\n",
        "  File \"/usr/local/lib/python2.7/dist-packages/lxml/html/__init__.py\", line 568, in document_fromstring\n",
        "    value = etree.fromstring(html, parser, **kw)\n",
        "  File \"lxml.etree.pyx\", line 2997, in lxml.etree.fromstring (src/lxml/lxml.etree.c:63276)\n",
        "  File \"parser.pxi\", line 1617, in lxml.etree._parseMemoryDocument (src/lxml/lxml.etree.c:93691)\n",
        "  File \"parser.pxi\", line 1495, in lxml.etree._parseDoc (src/lxml/lxml.etree.c:92490)\n",
        "  File \"parser.pxi\", line 1011, in lxml.etree._BaseParser._parseDoc (src/lxml/lxml.etree.c:89130)\n",
        "  File \"parser.pxi\", line 577, in lxml.etree._ParserContext._handleParseResultDoc (src/lxml/lxml.etree.c:84831)\n",
        "  File \"parser.pxi\", line 676, in lxml.etree._handleParseResult (src/lxml/lxml.etree.c:85936)\n",
        "  File \"parser.pxi\", line 625, in lxml.etree._raiseParseError (src/lxml/lxml.etree.c:85392)\n",
        "XMLSyntaxError: line 1092: htmlParseEntityRef: no name\n",
        "Traceback (most recent call last):\n"
       ]
      },
      {
       "output_type": "stream",
       "stream": "stdout",
       "text": [
        "\n",
        "(<class 'lxml.etree.XMLSyntaxError'>, XMLSyntaxError(u'line 1092: htmlParseEntityRef: no name',), <traceback object at 0x7f564ecaaa70>)\n",
        "processed  301\n",
        "skipped  77\n",
        "512677517\n",
        "error on download512677517"
       ]
      },
      {
       "output_type": "stream",
       "stream": "stderr",
       "text": [
        "  File \"<ipython-input-41-0e1172e16ab4>\", line 11, in <module>\n",
        "    res = comp_extractors( extractor_training_object )\n",
        "  File \"<ipython-input-23-91249bf1c046>\", line 19, in comp_extractors\n",
        "    extraction_results = get_extraction_results( eto )\n",
        "  File \"<ipython-input-22-35bdc612153c>\", line 10, in get_extraction_results\n",
        "    ret['python_readibilty'] = { 'extracted_html': extract_with_python_readability( raw_content ) }\n",
        "  File \"<ipython-input-8-5916dff6f29a>\", line 6, in extract_with_python_readability\n",
        "    return doc.short_title() + \"\\n\\n\" + doc.summary()\n",
        "  File \"/usr/local/lib/python2.7/dist-packages/readability/readability.py\", line 139, in short_title\n",
        "    return shorten_title(self._html(True))\n",
        "  File \"/usr/local/lib/python2.7/dist-packages/readability/readability.py\", line 119, in _html\n",
        "    self.html = self._parse(self.input)\n",
        "  File \"/usr/local/lib/python2.7/dist-packages/readability/readability.py\", line 123, in _parse\n",
        "    doc, self.encoding = build_doc(input)\n",
        "  File \"/usr/local/lib/python2.7/dist-packages/readability/htmls.py\", line 17, in build_doc\n",
        "    doc = lxml.html.document_fromstring(page_unicode.encode('utf-8', 'replace'), parser=utf8_parser)\n",
        "  File \"/usr/local/lib/python2.7/dist-packages/lxml/html/__init__.py\", line 568, in document_fromstring\n",
        "    value = etree.fromstring(html, parser, **kw)\n",
        "  File \"lxml.etree.pyx\", line 2997, in lxml.etree.fromstring (src/lxml/lxml.etree.c:63276)\n",
        "  File \"parser.pxi\", line 1617, in lxml.etree._parseMemoryDocument (src/lxml/lxml.etree.c:93691)\n",
        "  File \"parser.pxi\", line 1495, in lxml.etree._parseDoc (src/lxml/lxml.etree.c:92490)\n",
        "  File \"parser.pxi\", line 1011, in lxml.etree._BaseParser._parseDoc (src/lxml/lxml.etree.c:89130)\n",
        "  File \"parser.pxi\", line 577, in lxml.etree._ParserContext._handleParseResultDoc (src/lxml/lxml.etree.c:84831)\n",
        "  File \"parser.pxi\", line 676, in lxml.etree._handleParseResult (src/lxml/lxml.etree.c:85936)\n",
        "  File \"parser.pxi\", line 625, in lxml.etree._raiseParseError (src/lxml/lxml.etree.c:85392)\n",
        "XMLSyntaxError: line 1092: htmlParseEntityRef: no name\n",
        "Traceback (most recent call last):\n"
       ]
      },
      {
       "output_type": "stream",
       "stream": "stdout",
       "text": [
        "\n",
        "(<class 'lxml.etree.XMLSyntaxError'>, XMLSyntaxError(u'line 1092: htmlParseEntityRef: no name',), <traceback object at 0x7f564ecaa488>)\n",
        "processed  301\n",
        "skipped  78\n",
        "512765019\n",
        "error on download512765019"
       ]
      },
      {
       "output_type": "stream",
       "stream": "stderr",
       "text": [
        "  File \"<ipython-input-41-0e1172e16ab4>\", line 11, in <module>\n",
        "    res = comp_extractors( extractor_training_object )\n",
        "  File \"<ipython-input-23-91249bf1c046>\", line 19, in comp_extractors\n",
        "    extraction_results = get_extraction_results( eto )\n",
        "  File \"<ipython-input-22-35bdc612153c>\", line 10, in get_extraction_results\n",
        "    ret['python_readibilty'] = { 'extracted_html': extract_with_python_readability( raw_content ) }\n",
        "  File \"<ipython-input-8-5916dff6f29a>\", line 6, in extract_with_python_readability\n",
        "    return doc.short_title() + \"\\n\\n\" + doc.summary()\n",
        "  File \"/usr/local/lib/python2.7/dist-packages/readability/readability.py\", line 139, in short_title\n",
        "    return shorten_title(self._html(True))\n",
        "  File \"/usr/local/lib/python2.7/dist-packages/readability/readability.py\", line 119, in _html\n",
        "    self.html = self._parse(self.input)\n",
        "  File \"/usr/local/lib/python2.7/dist-packages/readability/readability.py\", line 123, in _parse\n",
        "    doc, self.encoding = build_doc(input)\n",
        "  File \"/usr/local/lib/python2.7/dist-packages/readability/htmls.py\", line 17, in build_doc\n",
        "    doc = lxml.html.document_fromstring(page_unicode.encode('utf-8', 'replace'), parser=utf8_parser)\n",
        "  File \"/usr/local/lib/python2.7/dist-packages/lxml/html/__init__.py\", line 568, in document_fromstring\n",
        "    value = etree.fromstring(html, parser, **kw)\n",
        "  File \"lxml.etree.pyx\", line 2997, in lxml.etree.fromstring (src/lxml/lxml.etree.c:63276)\n",
        "  File \"parser.pxi\", line 1617, in lxml.etree._parseMemoryDocument (src/lxml/lxml.etree.c:93691)\n",
        "  File \"parser.pxi\", line 1495, in lxml.etree._parseDoc (src/lxml/lxml.etree.c:92490)\n",
        "  File \"parser.pxi\", line 1011, in lxml.etree._BaseParser._parseDoc (src/lxml/lxml.etree.c:89130)\n",
        "  File \"parser.pxi\", line 577, in lxml.etree._ParserContext._handleParseResultDoc (src/lxml/lxml.etree.c:84831)\n",
        "  File \"parser.pxi\", line 676, in lxml.etree._handleParseResult (src/lxml/lxml.etree.c:85936)\n",
        "  File \"parser.pxi\", line 625, in lxml.etree._raiseParseError (src/lxml/lxml.etree.c:85392)\n",
        "XMLSyntaxError: line 1092: htmlParseEntityRef: no name\n",
        "Traceback (most recent call last):\n"
       ]
      },
      {
       "output_type": "stream",
       "stream": "stdout",
       "text": [
        "\n",
        "(<class 'lxml.etree.XMLSyntaxError'>, XMLSyntaxError(u'line 1092: htmlParseEntityRef: no name',), <traceback object at 0x7f564ecaa5f0>)\n",
        "processed  301\n",
        "skipped  79\n",
        "514105704\n",
        "error on download514105704"
       ]
      },
      {
       "output_type": "stream",
       "stream": "stderr",
       "text": [
        "  File \"<ipython-input-41-0e1172e16ab4>\", line 11, in <module>\n",
        "    res = comp_extractors( extractor_training_object )\n",
        "  File \"<ipython-input-23-91249bf1c046>\", line 19, in comp_extractors\n",
        "    extraction_results = get_extraction_results( eto )\n",
        "  File \"<ipython-input-22-35bdc612153c>\", line 10, in get_extraction_results\n",
        "    ret['python_readibilty'] = { 'extracted_html': extract_with_python_readability( raw_content ) }\n",
        "  File \"<ipython-input-8-5916dff6f29a>\", line 6, in extract_with_python_readability\n",
        "    return doc.short_title() + \"\\n\\n\" + doc.summary()\n",
        "  File \"/usr/local/lib/python2.7/dist-packages/readability/readability.py\", line 139, in short_title\n",
        "    return shorten_title(self._html(True))\n",
        "  File \"/usr/local/lib/python2.7/dist-packages/readability/readability.py\", line 119, in _html\n",
        "    self.html = self._parse(self.input)\n",
        "  File \"/usr/local/lib/python2.7/dist-packages/readability/readability.py\", line 123, in _parse\n",
        "    doc, self.encoding = build_doc(input)\n",
        "  File \"/usr/local/lib/python2.7/dist-packages/readability/htmls.py\", line 17, in build_doc\n",
        "    doc = lxml.html.document_fromstring(page_unicode.encode('utf-8', 'replace'), parser=utf8_parser)\n",
        "  File \"/usr/local/lib/python2.7/dist-packages/lxml/html/__init__.py\", line 568, in document_fromstring\n",
        "    value = etree.fromstring(html, parser, **kw)\n",
        "  File \"lxml.etree.pyx\", line 2997, in lxml.etree.fromstring (src/lxml/lxml.etree.c:63276)\n",
        "  File \"parser.pxi\", line 1617, in lxml.etree._parseMemoryDocument (src/lxml/lxml.etree.c:93691)\n",
        "  File \"parser.pxi\", line 1495, in lxml.etree._parseDoc (src/lxml/lxml.etree.c:92490)\n",
        "  File \"parser.pxi\", line 1011, in lxml.etree._BaseParser._parseDoc (src/lxml/lxml.etree.c:89130)\n",
        "  File \"parser.pxi\", line 577, in lxml.etree._ParserContext._handleParseResultDoc (src/lxml/lxml.etree.c:84831)\n",
        "  File \"parser.pxi\", line 676, in lxml.etree._handleParseResult (src/lxml/lxml.etree.c:85936)\n",
        "  File \"parser.pxi\", line 625, in lxml.etree._raiseParseError (src/lxml/lxml.etree.c:85392)\n",
        "XMLSyntaxError: line 1092: htmlParseEntityRef: no name\n",
        "Traceback (most recent call last):\n"
       ]
      },
      {
       "output_type": "stream",
       "stream": "stdout",
       "text": [
        "\n",
        "(<class 'lxml.etree.XMLSyntaxError'>, XMLSyntaxError(u'line 1092: htmlParseEntityRef: no name',), <traceback object at 0x7f564eca4200>)\n",
        "processed  301\n",
        "skipped  80\n",
        "514153344\n",
        "error on download514153344"
       ]
      },
      {
       "output_type": "stream",
       "stream": "stderr",
       "text": [
        "  File \"<ipython-input-41-0e1172e16ab4>\", line 11, in <module>\n",
        "    res = comp_extractors( extractor_training_object )\n",
        "  File \"<ipython-input-23-91249bf1c046>\", line 19, in comp_extractors\n",
        "    extraction_results = get_extraction_results( eto )\n",
        "  File \"<ipython-input-22-35bdc612153c>\", line 10, in get_extraction_results\n",
        "    ret['python_readibilty'] = { 'extracted_html': extract_with_python_readability( raw_content ) }\n",
        "  File \"<ipython-input-8-5916dff6f29a>\", line 6, in extract_with_python_readability\n",
        "    return doc.short_title() + \"\\n\\n\" + doc.summary()\n",
        "  File \"/usr/local/lib/python2.7/dist-packages/readability/readability.py\", line 139, in short_title\n",
        "    return shorten_title(self._html(True))\n",
        "  File \"/usr/local/lib/python2.7/dist-packages/readability/readability.py\", line 119, in _html\n",
        "    self.html = self._parse(self.input)\n",
        "  File \"/usr/local/lib/python2.7/dist-packages/readability/readability.py\", line 123, in _parse\n",
        "    doc, self.encoding = build_doc(input)\n",
        "  File \"/usr/local/lib/python2.7/dist-packages/readability/htmls.py\", line 17, in build_doc\n",
        "    doc = lxml.html.document_fromstring(page_unicode.encode('utf-8', 'replace'), parser=utf8_parser)\n",
        "  File \"/usr/local/lib/python2.7/dist-packages/lxml/html/__init__.py\", line 568, in document_fromstring\n",
        "    value = etree.fromstring(html, parser, **kw)\n",
        "  File \"lxml.etree.pyx\", line 2997, in lxml.etree.fromstring (src/lxml/lxml.etree.c:63276)\n",
        "  File \"parser.pxi\", line 1617, in lxml.etree._parseMemoryDocument (src/lxml/lxml.etree.c:93691)\n",
        "  File \"parser.pxi\", line 1495, in lxml.etree._parseDoc (src/lxml/lxml.etree.c:92490)\n",
        "  File \"parser.pxi\", line 1011, in lxml.etree._BaseParser._parseDoc (src/lxml/lxml.etree.c:89130)\n",
        "  File \"parser.pxi\", line 577, in lxml.etree._ParserContext._handleParseResultDoc (src/lxml/lxml.etree.c:84831)\n",
        "  File \"parser.pxi\", line 676, in lxml.etree._handleParseResult (src/lxml/lxml.etree.c:85936)\n",
        "  File \"parser.pxi\", line 625, in lxml.etree._raiseParseError (src/lxml/lxml.etree.c:85392)\n",
        "XMLSyntaxError: line 1092: htmlParseEntityRef: no name\n",
        "Traceback (most recent call last):\n"
       ]
      },
      {
       "output_type": "stream",
       "stream": "stdout",
       "text": [
        "\n",
        "(<class 'lxml.etree.XMLSyntaxError'>, XMLSyntaxError(u'line 1092: htmlParseEntityRef: no name',), <traceback object at 0x7f564ecaabd8>)\n",
        "processed  301\n",
        "skipped  81\n",
        "514364011\n",
        "error on download514364011"
       ]
      },
      {
       "output_type": "stream",
       "stream": "stderr",
       "text": [
        "  File \"<ipython-input-41-0e1172e16ab4>\", line 11, in <module>\n",
        "    res = comp_extractors( extractor_training_object )\n",
        "  File \"<ipython-input-23-91249bf1c046>\", line 19, in comp_extractors\n",
        "    extraction_results = get_extraction_results( eto )\n",
        "  File \"<ipython-input-22-35bdc612153c>\", line 10, in get_extraction_results\n",
        "    ret['python_readibilty'] = { 'extracted_html': extract_with_python_readability( raw_content ) }\n",
        "  File \"<ipython-input-8-5916dff6f29a>\", line 6, in extract_with_python_readability\n",
        "    return doc.short_title() + \"\\n\\n\" + doc.summary()\n",
        "  File \"/usr/local/lib/python2.7/dist-packages/readability/readability.py\", line 139, in short_title\n",
        "    return shorten_title(self._html(True))\n",
        "  File \"/usr/local/lib/python2.7/dist-packages/readability/readability.py\", line 119, in _html\n",
        "    self.html = self._parse(self.input)\n",
        "  File \"/usr/local/lib/python2.7/dist-packages/readability/readability.py\", line 123, in _parse\n",
        "    doc, self.encoding = build_doc(input)\n",
        "  File \"/usr/local/lib/python2.7/dist-packages/readability/htmls.py\", line 17, in build_doc\n",
        "    doc = lxml.html.document_fromstring(page_unicode.encode('utf-8', 'replace'), parser=utf8_parser)\n",
        "  File \"/usr/local/lib/python2.7/dist-packages/lxml/html/__init__.py\", line 568, in document_fromstring\n",
        "    value = etree.fromstring(html, parser, **kw)\n",
        "  File \"lxml.etree.pyx\", line 2997, in lxml.etree.fromstring (src/lxml/lxml.etree.c:63276)\n",
        "  File \"parser.pxi\", line 1617, in lxml.etree._parseMemoryDocument (src/lxml/lxml.etree.c:93691)\n",
        "  File \"parser.pxi\", line 1495, in lxml.etree._parseDoc (src/lxml/lxml.etree.c:92490)\n",
        "  File \"parser.pxi\", line 1011, in lxml.etree._BaseParser._parseDoc (src/lxml/lxml.etree.c:89130)\n",
        "  File \"parser.pxi\", line 577, in lxml.etree._ParserContext._handleParseResultDoc (src/lxml/lxml.etree.c:84831)\n",
        "  File \"parser.pxi\", line 676, in lxml.etree._handleParseResult (src/lxml/lxml.etree.c:85936)\n",
        "  File \"parser.pxi\", line 625, in lxml.etree._raiseParseError (src/lxml/lxml.etree.c:85392)\n",
        "XMLSyntaxError: line 1092: htmlParseEntityRef: no name\n",
        "Traceback (most recent call last):\n"
       ]
      },
      {
       "output_type": "stream",
       "stream": "stdout",
       "text": [
        "\n",
        "(<class 'lxml.etree.XMLSyntaxError'>, XMLSyntaxError(u'line 1092: htmlParseEntityRef: no name',), <traceback object at 0x7f564ec8a098>)\n",
        "processed  301\n",
        "skipped  82\n",
        "514378750\n",
        "error on download514378750"
       ]
      },
      {
       "output_type": "stream",
       "stream": "stderr",
       "text": [
        "  File \"<ipython-input-41-0e1172e16ab4>\", line 11, in <module>\n",
        "    res = comp_extractors( extractor_training_object )\n",
        "  File \"<ipython-input-23-91249bf1c046>\", line 19, in comp_extractors\n",
        "    extraction_results = get_extraction_results( eto )\n",
        "  File \"<ipython-input-22-35bdc612153c>\", line 10, in get_extraction_results\n",
        "    ret['python_readibilty'] = { 'extracted_html': extract_with_python_readability( raw_content ) }\n",
        "  File \"<ipython-input-8-5916dff6f29a>\", line 6, in extract_with_python_readability\n",
        "    return doc.short_title() + \"\\n\\n\" + doc.summary()\n",
        "  File \"/usr/local/lib/python2.7/dist-packages/readability/readability.py\", line 139, in short_title\n",
        "    return shorten_title(self._html(True))\n",
        "  File \"/usr/local/lib/python2.7/dist-packages/readability/readability.py\", line 119, in _html\n",
        "    self.html = self._parse(self.input)\n",
        "  File \"/usr/local/lib/python2.7/dist-packages/readability/readability.py\", line 123, in _parse\n",
        "    doc, self.encoding = build_doc(input)\n",
        "  File \"/usr/local/lib/python2.7/dist-packages/readability/htmls.py\", line 17, in build_doc\n",
        "    doc = lxml.html.document_fromstring(page_unicode.encode('utf-8', 'replace'), parser=utf8_parser)\n",
        "  File \"/usr/local/lib/python2.7/dist-packages/lxml/html/__init__.py\", line 568, in document_fromstring\n",
        "    value = etree.fromstring(html, parser, **kw)\n",
        "  File \"lxml.etree.pyx\", line 2997, in lxml.etree.fromstring (src/lxml/lxml.etree.c:63276)\n",
        "  File \"parser.pxi\", line 1617, in lxml.etree._parseMemoryDocument (src/lxml/lxml.etree.c:93691)\n",
        "  File \"parser.pxi\", line 1495, in lxml.etree._parseDoc (src/lxml/lxml.etree.c:92490)\n",
        "  File \"parser.pxi\", line 1011, in lxml.etree._BaseParser._parseDoc (src/lxml/lxml.etree.c:89130)\n",
        "  File \"parser.pxi\", line 577, in lxml.etree._ParserContext._handleParseResultDoc (src/lxml/lxml.etree.c:84831)\n",
        "  File \"parser.pxi\", line 676, in lxml.etree._handleParseResult (src/lxml/lxml.etree.c:85936)\n",
        "  File \"parser.pxi\", line 625, in lxml.etree._raiseParseError (src/lxml/lxml.etree.c:85392)\n",
        "XMLSyntaxError: line 1092: htmlParseEntityRef: no name\n",
        "Traceback (most recent call last):\n"
       ]
      },
      {
       "output_type": "stream",
       "stream": "stdout",
       "text": [
        "\n",
        "(<class 'lxml.etree.XMLSyntaxError'>, XMLSyntaxError(u'line 1092: htmlParseEntityRef: no name',), <traceback object at 0x7f564ec8a170>)\n",
        "processed  301\n",
        "skipped  83\n",
        "514572763\n",
        "error on download514572763"
       ]
      },
      {
       "output_type": "stream",
       "stream": "stderr",
       "text": [
        "  File \"<ipython-input-41-0e1172e16ab4>\", line 11, in <module>\n",
        "    res = comp_extractors( extractor_training_object )\n",
        "  File \"<ipython-input-23-91249bf1c046>\", line 19, in comp_extractors\n",
        "    extraction_results = get_extraction_results( eto )\n",
        "  File \"<ipython-input-22-35bdc612153c>\", line 10, in get_extraction_results\n",
        "    ret['python_readibilty'] = { 'extracted_html': extract_with_python_readability( raw_content ) }\n",
        "  File \"<ipython-input-8-5916dff6f29a>\", line 6, in extract_with_python_readability\n",
        "    return doc.short_title() + \"\\n\\n\" + doc.summary()\n",
        "  File \"/usr/local/lib/python2.7/dist-packages/readability/readability.py\", line 139, in short_title\n",
        "    return shorten_title(self._html(True))\n",
        "  File \"/usr/local/lib/python2.7/dist-packages/readability/readability.py\", line 119, in _html\n",
        "    self.html = self._parse(self.input)\n",
        "  File \"/usr/local/lib/python2.7/dist-packages/readability/readability.py\", line 123, in _parse\n",
        "    doc, self.encoding = build_doc(input)\n",
        "  File \"/usr/local/lib/python2.7/dist-packages/readability/htmls.py\", line 17, in build_doc\n",
        "    doc = lxml.html.document_fromstring(page_unicode.encode('utf-8', 'replace'), parser=utf8_parser)\n",
        "  File \"/usr/local/lib/python2.7/dist-packages/lxml/html/__init__.py\", line 568, in document_fromstring\n",
        "    value = etree.fromstring(html, parser, **kw)\n",
        "  File \"lxml.etree.pyx\", line 2997, in lxml.etree.fromstring (src/lxml/lxml.etree.c:63276)\n",
        "  File \"parser.pxi\", line 1617, in lxml.etree._parseMemoryDocument (src/lxml/lxml.etree.c:93691)\n",
        "  File \"parser.pxi\", line 1495, in lxml.etree._parseDoc (src/lxml/lxml.etree.c:92490)\n",
        "  File \"parser.pxi\", line 1011, in lxml.etree._BaseParser._parseDoc (src/lxml/lxml.etree.c:89130)\n",
        "  File \"parser.pxi\", line 577, in lxml.etree._ParserContext._handleParseResultDoc (src/lxml/lxml.etree.c:84831)\n",
        "  File \"parser.pxi\", line 676, in lxml.etree._handleParseResult (src/lxml/lxml.etree.c:85936)\n",
        "  File \"parser.pxi\", line 625, in lxml.etree._raiseParseError (src/lxml/lxml.etree.c:85392)\n",
        "XMLSyntaxError: line 1092: htmlParseEntityRef: no name\n",
        "Traceback (most recent call last):\n"
       ]
      },
      {
       "output_type": "stream",
       "stream": "stdout",
       "text": [
        "\n",
        "(<class 'lxml.etree.XMLSyntaxError'>, XMLSyntaxError(u'line 1092: htmlParseEntityRef: no name',), <traceback object at 0x7f564ec8af38>)\n",
        "processed  301\n",
        "skipped  84\n",
        "514931592\n",
        "error on download514931592"
       ]
      },
      {
       "output_type": "stream",
       "stream": "stderr",
       "text": [
        "  File \"<ipython-input-41-0e1172e16ab4>\", line 11, in <module>\n",
        "    res = comp_extractors( extractor_training_object )\n",
        "  File \"<ipython-input-23-91249bf1c046>\", line 19, in comp_extractors\n",
        "    extraction_results = get_extraction_results( eto )\n",
        "  File \"<ipython-input-22-35bdc612153c>\", line 10, in get_extraction_results\n",
        "    ret['python_readibilty'] = { 'extracted_html': extract_with_python_readability( raw_content ) }\n",
        "  File \"<ipython-input-8-5916dff6f29a>\", line 6, in extract_with_python_readability\n",
        "    return doc.short_title() + \"\\n\\n\" + doc.summary()\n",
        "  File \"/usr/local/lib/python2.7/dist-packages/readability/readability.py\", line 139, in short_title\n",
        "    return shorten_title(self._html(True))\n",
        "  File \"/usr/local/lib/python2.7/dist-packages/readability/readability.py\", line 119, in _html\n",
        "    self.html = self._parse(self.input)\n",
        "  File \"/usr/local/lib/python2.7/dist-packages/readability/readability.py\", line 123, in _parse\n",
        "    doc, self.encoding = build_doc(input)\n",
        "  File \"/usr/local/lib/python2.7/dist-packages/readability/htmls.py\", line 17, in build_doc\n",
        "    doc = lxml.html.document_fromstring(page_unicode.encode('utf-8', 'replace'), parser=utf8_parser)\n",
        "  File \"/usr/local/lib/python2.7/dist-packages/lxml/html/__init__.py\", line 568, in document_fromstring\n",
        "    value = etree.fromstring(html, parser, **kw)\n",
        "  File \"lxml.etree.pyx\", line 2997, in lxml.etree.fromstring (src/lxml/lxml.etree.c:63276)\n",
        "  File \"parser.pxi\", line 1617, in lxml.etree._parseMemoryDocument (src/lxml/lxml.etree.c:93691)\n",
        "  File \"parser.pxi\", line 1495, in lxml.etree._parseDoc (src/lxml/lxml.etree.c:92490)\n",
        "  File \"parser.pxi\", line 1011, in lxml.etree._BaseParser._parseDoc (src/lxml/lxml.etree.c:89130)\n",
        "  File \"parser.pxi\", line 577, in lxml.etree._ParserContext._handleParseResultDoc (src/lxml/lxml.etree.c:84831)\n",
        "  File \"parser.pxi\", line 676, in lxml.etree._handleParseResult (src/lxml/lxml.etree.c:85936)\n",
        "  File \"parser.pxi\", line 625, in lxml.etree._raiseParseError (src/lxml/lxml.etree.c:85392)\n",
        "XMLSyntaxError: line 1092: htmlParseEntityRef: no name\n",
        "Traceback (most recent call last):\n"
       ]
      },
      {
       "output_type": "stream",
       "stream": "stdout",
       "text": [
        "\n",
        "(<class 'lxml.etree.XMLSyntaxError'>, XMLSyntaxError(u'line 1092: htmlParseEntityRef: no name',), <traceback object at 0x7f564ea77c20>)\n",
        "processed  301\n",
        "skipped  85\n",
        "515594059\n",
        "error on download515594059"
       ]
      },
      {
       "output_type": "stream",
       "stream": "stderr",
       "text": [
        "  File \"<ipython-input-41-0e1172e16ab4>\", line 11, in <module>\n",
        "    res = comp_extractors( extractor_training_object )\n",
        "  File \"<ipython-input-23-91249bf1c046>\", line 19, in comp_extractors\n",
        "    extraction_results = get_extraction_results( eto )\n",
        "  File \"<ipython-input-22-35bdc612153c>\", line 10, in get_extraction_results\n",
        "    ret['python_readibilty'] = { 'extracted_html': extract_with_python_readability( raw_content ) }\n",
        "  File \"<ipython-input-8-5916dff6f29a>\", line 6, in extract_with_python_readability\n",
        "    return doc.short_title() + \"\\n\\n\" + doc.summary()\n",
        "  File \"/usr/local/lib/python2.7/dist-packages/readability/readability.py\", line 139, in short_title\n",
        "    return shorten_title(self._html(True))\n",
        "  File \"/usr/local/lib/python2.7/dist-packages/readability/readability.py\", line 119, in _html\n",
        "    self.html = self._parse(self.input)\n",
        "  File \"/usr/local/lib/python2.7/dist-packages/readability/readability.py\", line 123, in _parse\n",
        "    doc, self.encoding = build_doc(input)\n",
        "  File \"/usr/local/lib/python2.7/dist-packages/readability/htmls.py\", line 17, in build_doc\n",
        "    doc = lxml.html.document_fromstring(page_unicode.encode('utf-8', 'replace'), parser=utf8_parser)\n",
        "  File \"/usr/local/lib/python2.7/dist-packages/lxml/html/__init__.py\", line 568, in document_fromstring\n",
        "    value = etree.fromstring(html, parser, **kw)\n",
        "  File \"lxml.etree.pyx\", line 2997, in lxml.etree.fromstring (src/lxml/lxml.etree.c:63276)\n",
        "  File \"parser.pxi\", line 1617, in lxml.etree._parseMemoryDocument (src/lxml/lxml.etree.c:93691)\n",
        "  File \"parser.pxi\", line 1495, in lxml.etree._parseDoc (src/lxml/lxml.etree.c:92490)\n",
        "  File \"parser.pxi\", line 1011, in lxml.etree._BaseParser._parseDoc (src/lxml/lxml.etree.c:89130)\n",
        "  File \"parser.pxi\", line 577, in lxml.etree._ParserContext._handleParseResultDoc (src/lxml/lxml.etree.c:84831)\n",
        "  File \"parser.pxi\", line 676, in lxml.etree._handleParseResult (src/lxml/lxml.etree.c:85936)\n",
        "  File \"parser.pxi\", line 625, in lxml.etree._raiseParseError (src/lxml/lxml.etree.c:85392)\n",
        "XMLSyntaxError: line 1092: htmlParseEntityRef: no name\n",
        "Traceback (most recent call last):\n"
       ]
      },
      {
       "output_type": "stream",
       "stream": "stdout",
       "text": [
        "\n",
        "(<class 'lxml.etree.XMLSyntaxError'>, XMLSyntaxError(u'line 1092: htmlParseEntityRef: no name',), <traceback object at 0x7f564eb58d40>)\n",
        "processed  301\n",
        "skipped  86\n",
        "515980414\n",
        "error on download515980414"
       ]
      },
      {
       "output_type": "stream",
       "stream": "stderr",
       "text": [
        "  File \"<ipython-input-41-0e1172e16ab4>\", line 11, in <module>\n",
        "    res = comp_extractors( extractor_training_object )\n",
        "  File \"<ipython-input-23-91249bf1c046>\", line 19, in comp_extractors\n",
        "    extraction_results = get_extraction_results( eto )\n",
        "  File \"<ipython-input-22-35bdc612153c>\", line 10, in get_extraction_results\n",
        "    ret['python_readibilty'] = { 'extracted_html': extract_with_python_readability( raw_content ) }\n",
        "  File \"<ipython-input-8-5916dff6f29a>\", line 6, in extract_with_python_readability\n",
        "    return doc.short_title() + \"\\n\\n\" + doc.summary()\n",
        "  File \"/usr/local/lib/python2.7/dist-packages/readability/readability.py\", line 139, in short_title\n",
        "    return shorten_title(self._html(True))\n",
        "  File \"/usr/local/lib/python2.7/dist-packages/readability/readability.py\", line 119, in _html\n",
        "    self.html = self._parse(self.input)\n",
        "  File \"/usr/local/lib/python2.7/dist-packages/readability/readability.py\", line 123, in _parse\n",
        "    doc, self.encoding = build_doc(input)\n",
        "  File \"/usr/local/lib/python2.7/dist-packages/readability/htmls.py\", line 17, in build_doc\n",
        "    doc = lxml.html.document_fromstring(page_unicode.encode('utf-8', 'replace'), parser=utf8_parser)\n",
        "  File \"/usr/local/lib/python2.7/dist-packages/lxml/html/__init__.py\", line 568, in document_fromstring\n",
        "    value = etree.fromstring(html, parser, **kw)\n",
        "  File \"lxml.etree.pyx\", line 2997, in lxml.etree.fromstring (src/lxml/lxml.etree.c:63276)\n",
        "  File \"parser.pxi\", line 1617, in lxml.etree._parseMemoryDocument (src/lxml/lxml.etree.c:93691)\n",
        "  File \"parser.pxi\", line 1495, in lxml.etree._parseDoc (src/lxml/lxml.etree.c:92490)\n",
        "  File \"parser.pxi\", line 1011, in lxml.etree._BaseParser._parseDoc (src/lxml/lxml.etree.c:89130)\n",
        "  File \"parser.pxi\", line 577, in lxml.etree._ParserContext._handleParseResultDoc (src/lxml/lxml.etree.c:84831)\n",
        "  File \"parser.pxi\", line 676, in lxml.etree._handleParseResult (src/lxml/lxml.etree.c:85936)\n",
        "  File \"parser.pxi\", line 625, in lxml.etree._raiseParseError (src/lxml/lxml.etree.c:85392)\n",
        "XMLSyntaxError: line 1092: htmlParseEntityRef: no name\n",
        "Traceback (most recent call last):\n"
       ]
      },
      {
       "output_type": "stream",
       "stream": "stdout",
       "text": [
        "\n",
        "(<class 'lxml.etree.XMLSyntaxError'>, XMLSyntaxError(u'line 1092: htmlParseEntityRef: no name',), <traceback object at 0x7f564ecec878>)\n",
        "processed  301\n",
        "skipped  87\n",
        "516147422\n",
        "error on download516147422"
       ]
      },
      {
       "output_type": "stream",
       "stream": "stderr",
       "text": [
        "  File \"<ipython-input-41-0e1172e16ab4>\", line 11, in <module>\n",
        "    res = comp_extractors( extractor_training_object )\n",
        "  File \"<ipython-input-23-91249bf1c046>\", line 19, in comp_extractors\n",
        "    extraction_results = get_extraction_results( eto )\n",
        "  File \"<ipython-input-22-35bdc612153c>\", line 10, in get_extraction_results\n",
        "    ret['python_readibilty'] = { 'extracted_html': extract_with_python_readability( raw_content ) }\n",
        "  File \"<ipython-input-8-5916dff6f29a>\", line 6, in extract_with_python_readability\n",
        "    return doc.short_title() + \"\\n\\n\" + doc.summary()\n",
        "  File \"/usr/local/lib/python2.7/dist-packages/readability/readability.py\", line 139, in short_title\n",
        "    return shorten_title(self._html(True))\n",
        "  File \"/usr/local/lib/python2.7/dist-packages/readability/readability.py\", line 119, in _html\n",
        "    self.html = self._parse(self.input)\n",
        "  File \"/usr/local/lib/python2.7/dist-packages/readability/readability.py\", line 123, in _parse\n",
        "    doc, self.encoding = build_doc(input)\n",
        "  File \"/usr/local/lib/python2.7/dist-packages/readability/htmls.py\", line 17, in build_doc\n",
        "    doc = lxml.html.document_fromstring(page_unicode.encode('utf-8', 'replace'), parser=utf8_parser)\n",
        "  File \"/usr/local/lib/python2.7/dist-packages/lxml/html/__init__.py\", line 568, in document_fromstring\n",
        "    value = etree.fromstring(html, parser, **kw)\n",
        "  File \"lxml.etree.pyx\", line 2997, in lxml.etree.fromstring (src/lxml/lxml.etree.c:63276)\n",
        "  File \"parser.pxi\", line 1617, in lxml.etree._parseMemoryDocument (src/lxml/lxml.etree.c:93691)\n",
        "  File \"parser.pxi\", line 1495, in lxml.etree._parseDoc (src/lxml/lxml.etree.c:92490)\n",
        "  File \"parser.pxi\", line 1011, in lxml.etree._BaseParser._parseDoc (src/lxml/lxml.etree.c:89130)\n",
        "  File \"parser.pxi\", line 577, in lxml.etree._ParserContext._handleParseResultDoc (src/lxml/lxml.etree.c:84831)\n",
        "  File \"parser.pxi\", line 676, in lxml.etree._handleParseResult (src/lxml/lxml.etree.c:85936)\n",
        "  File \"parser.pxi\", line 625, in lxml.etree._raiseParseError (src/lxml/lxml.etree.c:85392)\n",
        "XMLSyntaxError: line 1092: htmlParseEntityRef: no name\n",
        "Traceback (most recent call last):\n"
       ]
      },
      {
       "output_type": "stream",
       "stream": "stdout",
       "text": [
        "\n",
        "(<class 'lxml.etree.XMLSyntaxError'>, XMLSyntaxError(u'line 1092: htmlParseEntityRef: no name',), <traceback object at 0x7f564eb6d7a0>)\n",
        "processed  301\n",
        "skipped  88\n",
        "516155213\n",
        "error on download516155213"
       ]
      },
      {
       "output_type": "stream",
       "stream": "stderr",
       "text": [
        "  File \"<ipython-input-41-0e1172e16ab4>\", line 11, in <module>\n",
        "    res = comp_extractors( extractor_training_object )\n",
        "  File \"<ipython-input-23-91249bf1c046>\", line 19, in comp_extractors\n",
        "    extraction_results = get_extraction_results( eto )\n",
        "  File \"<ipython-input-22-35bdc612153c>\", line 10, in get_extraction_results\n",
        "    ret['python_readibilty'] = { 'extracted_html': extract_with_python_readability( raw_content ) }\n",
        "  File \"<ipython-input-8-5916dff6f29a>\", line 6, in extract_with_python_readability\n",
        "    return doc.short_title() + \"\\n\\n\" + doc.summary()\n",
        "  File \"/usr/local/lib/python2.7/dist-packages/readability/readability.py\", line 139, in short_title\n",
        "    return shorten_title(self._html(True))\n",
        "  File \"/usr/local/lib/python2.7/dist-packages/readability/readability.py\", line 119, in _html\n",
        "    self.html = self._parse(self.input)\n",
        "  File \"/usr/local/lib/python2.7/dist-packages/readability/readability.py\", line 123, in _parse\n",
        "    doc, self.encoding = build_doc(input)\n",
        "  File \"/usr/local/lib/python2.7/dist-packages/readability/htmls.py\", line 17, in build_doc\n",
        "    doc = lxml.html.document_fromstring(page_unicode.encode('utf-8', 'replace'), parser=utf8_parser)\n",
        "  File \"/usr/local/lib/python2.7/dist-packages/lxml/html/__init__.py\", line 568, in document_fromstring\n",
        "    value = etree.fromstring(html, parser, **kw)\n",
        "  File \"lxml.etree.pyx\", line 2997, in lxml.etree.fromstring (src/lxml/lxml.etree.c:63276)\n",
        "  File \"parser.pxi\", line 1617, in lxml.etree._parseMemoryDocument (src/lxml/lxml.etree.c:93691)\n",
        "  File \"parser.pxi\", line 1495, in lxml.etree._parseDoc (src/lxml/lxml.etree.c:92490)\n",
        "  File \"parser.pxi\", line 1011, in lxml.etree._BaseParser._parseDoc (src/lxml/lxml.etree.c:89130)\n",
        "  File \"parser.pxi\", line 577, in lxml.etree._ParserContext._handleParseResultDoc (src/lxml/lxml.etree.c:84831)\n",
        "  File \"parser.pxi\", line 676, in lxml.etree._handleParseResult (src/lxml/lxml.etree.c:85936)\n",
        "  File \"parser.pxi\", line 625, in lxml.etree._raiseParseError (src/lxml/lxml.etree.c:85392)\n",
        "XMLSyntaxError: line 1092: htmlParseEntityRef: no name\n",
        "Traceback (most recent call last):\n"
       ]
      },
      {
       "output_type": "stream",
       "stream": "stdout",
       "text": [
        "\n",
        "(<class 'lxml.etree.XMLSyntaxError'>, XMLSyntaxError(u'line 1092: htmlParseEntityRef: no name',), <traceback object at 0x7f564eb6dc20>)\n",
        "processed  301\n",
        "skipped  89\n",
        "516527178\n",
        "error on download516527178"
       ]
      },
      {
       "output_type": "stream",
       "stream": "stderr",
       "text": [
        "  File \"<ipython-input-41-0e1172e16ab4>\", line 11, in <module>\n",
        "    res = comp_extractors( extractor_training_object )\n",
        "  File \"<ipython-input-23-91249bf1c046>\", line 19, in comp_extractors\n",
        "    extraction_results = get_extraction_results( eto )\n",
        "  File \"<ipython-input-22-35bdc612153c>\", line 10, in get_extraction_results\n",
        "    ret['python_readibilty'] = { 'extracted_html': extract_with_python_readability( raw_content ) }\n",
        "  File \"<ipython-input-8-5916dff6f29a>\", line 6, in extract_with_python_readability\n",
        "    return doc.short_title() + \"\\n\\n\" + doc.summary()\n",
        "  File \"/usr/local/lib/python2.7/dist-packages/readability/readability.py\", line 139, in short_title\n",
        "    return shorten_title(self._html(True))\n",
        "  File \"/usr/local/lib/python2.7/dist-packages/readability/readability.py\", line 119, in _html\n",
        "    self.html = self._parse(self.input)\n",
        "  File \"/usr/local/lib/python2.7/dist-packages/readability/readability.py\", line 123, in _parse\n",
        "    doc, self.encoding = build_doc(input)\n",
        "  File \"/usr/local/lib/python2.7/dist-packages/readability/htmls.py\", line 17, in build_doc\n",
        "    doc = lxml.html.document_fromstring(page_unicode.encode('utf-8', 'replace'), parser=utf8_parser)\n",
        "  File \"/usr/local/lib/python2.7/dist-packages/lxml/html/__init__.py\", line 568, in document_fromstring\n",
        "    value = etree.fromstring(html, parser, **kw)\n",
        "  File \"lxml.etree.pyx\", line 2997, in lxml.etree.fromstring (src/lxml/lxml.etree.c:63276)\n",
        "  File \"parser.pxi\", line 1617, in lxml.etree._parseMemoryDocument (src/lxml/lxml.etree.c:93691)\n",
        "  File \"parser.pxi\", line 1495, in lxml.etree._parseDoc (src/lxml/lxml.etree.c:92490)\n",
        "  File \"parser.pxi\", line 1011, in lxml.etree._BaseParser._parseDoc (src/lxml/lxml.etree.c:89130)\n",
        "  File \"parser.pxi\", line 577, in lxml.etree._ParserContext._handleParseResultDoc (src/lxml/lxml.etree.c:84831)\n",
        "  File \"parser.pxi\", line 676, in lxml.etree._handleParseResult (src/lxml/lxml.etree.c:85936)\n",
        "  File \"parser.pxi\", line 625, in lxml.etree._raiseParseError (src/lxml/lxml.etree.c:85392)\n",
        "XMLSyntaxError: line 1092: htmlParseEntityRef: no name\n",
        "Traceback (most recent call last):\n"
       ]
      },
      {
       "output_type": "stream",
       "stream": "stdout",
       "text": [
        "\n",
        "(<class 'lxml.etree.XMLSyntaxError'>, XMLSyntaxError(u'line 1092: htmlParseEntityRef: no name',), <traceback object at 0x7f564eb88710>)\n",
        "processed  301\n",
        "skipped  90\n",
        "517088904\n",
        "error on download517088904"
       ]
      },
      {
       "output_type": "stream",
       "stream": "stderr",
       "text": [
        "  File \"<ipython-input-41-0e1172e16ab4>\", line 11, in <module>\n",
        "    res = comp_extractors( extractor_training_object )\n",
        "  File \"<ipython-input-23-91249bf1c046>\", line 19, in comp_extractors\n",
        "    extraction_results = get_extraction_results( eto )\n",
        "  File \"<ipython-input-22-35bdc612153c>\", line 10, in get_extraction_results\n",
        "    ret['python_readibilty'] = { 'extracted_html': extract_with_python_readability( raw_content ) }\n",
        "  File \"<ipython-input-8-5916dff6f29a>\", line 6, in extract_with_python_readability\n",
        "    return doc.short_title() + \"\\n\\n\" + doc.summary()\n",
        "  File \"/usr/local/lib/python2.7/dist-packages/readability/readability.py\", line 139, in short_title\n",
        "    return shorten_title(self._html(True))\n",
        "  File \"/usr/local/lib/python2.7/dist-packages/readability/readability.py\", line 119, in _html\n",
        "    self.html = self._parse(self.input)\n",
        "  File \"/usr/local/lib/python2.7/dist-packages/readability/readability.py\", line 123, in _parse\n",
        "    doc, self.encoding = build_doc(input)\n",
        "  File \"/usr/local/lib/python2.7/dist-packages/readability/htmls.py\", line 17, in build_doc\n",
        "    doc = lxml.html.document_fromstring(page_unicode.encode('utf-8', 'replace'), parser=utf8_parser)\n",
        "  File \"/usr/local/lib/python2.7/dist-packages/lxml/html/__init__.py\", line 568, in document_fromstring\n",
        "    value = etree.fromstring(html, parser, **kw)\n",
        "  File \"lxml.etree.pyx\", line 2997, in lxml.etree.fromstring (src/lxml/lxml.etree.c:63276)\n",
        "  File \"parser.pxi\", line 1617, in lxml.etree._parseMemoryDocument (src/lxml/lxml.etree.c:93691)\n",
        "  File \"parser.pxi\", line 1495, in lxml.etree._parseDoc (src/lxml/lxml.etree.c:92490)\n",
        "  File \"parser.pxi\", line 1011, in lxml.etree._BaseParser._parseDoc (src/lxml/lxml.etree.c:89130)\n",
        "  File \"parser.pxi\", line 577, in lxml.etree._ParserContext._handleParseResultDoc (src/lxml/lxml.etree.c:84831)\n",
        "  File \"parser.pxi\", line 676, in lxml.etree._handleParseResult (src/lxml/lxml.etree.c:85936)\n",
        "  File \"parser.pxi\", line 625, in lxml.etree._raiseParseError (src/lxml/lxml.etree.c:85392)\n",
        "XMLSyntaxError: line 1092: htmlParseEntityRef: no name\n",
        "Traceback (most recent call last):\n"
       ]
      },
      {
       "output_type": "stream",
       "stream": "stdout",
       "text": [
        "\n",
        "(<class 'lxml.etree.XMLSyntaxError'>, XMLSyntaxError(u'line 1092: htmlParseEntityRef: no name',), <traceback object at 0x7f564ec9f3f8>)\n",
        "processed  301\n",
        "skipped  91\n",
        "517204863\n",
        "error on download517204863"
       ]
      },
      {
       "output_type": "stream",
       "stream": "stderr",
       "text": [
        "  File \"<ipython-input-41-0e1172e16ab4>\", line 11, in <module>\n",
        "    res = comp_extractors( extractor_training_object )\n",
        "  File \"<ipython-input-23-91249bf1c046>\", line 19, in comp_extractors\n",
        "    extraction_results = get_extraction_results( eto )\n",
        "  File \"<ipython-input-22-35bdc612153c>\", line 10, in get_extraction_results\n",
        "    ret['python_readibilty'] = { 'extracted_html': extract_with_python_readability( raw_content ) }\n",
        "  File \"<ipython-input-8-5916dff6f29a>\", line 6, in extract_with_python_readability\n",
        "    return doc.short_title() + \"\\n\\n\" + doc.summary()\n",
        "  File \"/usr/local/lib/python2.7/dist-packages/readability/readability.py\", line 139, in short_title\n",
        "    return shorten_title(self._html(True))\n",
        "  File \"/usr/local/lib/python2.7/dist-packages/readability/readability.py\", line 119, in _html\n",
        "    self.html = self._parse(self.input)\n",
        "  File \"/usr/local/lib/python2.7/dist-packages/readability/readability.py\", line 123, in _parse\n",
        "    doc, self.encoding = build_doc(input)\n",
        "  File \"/usr/local/lib/python2.7/dist-packages/readability/htmls.py\", line 17, in build_doc\n",
        "    doc = lxml.html.document_fromstring(page_unicode.encode('utf-8', 'replace'), parser=utf8_parser)\n",
        "  File \"/usr/local/lib/python2.7/dist-packages/lxml/html/__init__.py\", line 568, in document_fromstring\n",
        "    value = etree.fromstring(html, parser, **kw)\n",
        "  File \"lxml.etree.pyx\", line 2997, in lxml.etree.fromstring (src/lxml/lxml.etree.c:63276)\n",
        "  File \"parser.pxi\", line 1617, in lxml.etree._parseMemoryDocument (src/lxml/lxml.etree.c:93691)\n",
        "  File \"parser.pxi\", line 1495, in lxml.etree._parseDoc (src/lxml/lxml.etree.c:92490)\n",
        "  File \"parser.pxi\", line 1011, in lxml.etree._BaseParser._parseDoc (src/lxml/lxml.etree.c:89130)\n",
        "  File \"parser.pxi\", line 577, in lxml.etree._ParserContext._handleParseResultDoc (src/lxml/lxml.etree.c:84831)\n",
        "  File \"parser.pxi\", line 676, in lxml.etree._handleParseResult (src/lxml/lxml.etree.c:85936)\n",
        "  File \"parser.pxi\", line 625, in lxml.etree._raiseParseError (src/lxml/lxml.etree.c:85392)\n",
        "XMLSyntaxError: line 1092: htmlParseEntityRef: no name\n",
        "Traceback (most recent call last):\n"
       ]
      },
      {
       "output_type": "stream",
       "stream": "stdout",
       "text": [
        "\n",
        "(<class 'lxml.etree.XMLSyntaxError'>, XMLSyntaxError(u'line 1092: htmlParseEntityRef: no name',), <traceback object at 0x7f564ec9f5a8>)\n",
        "processed  301\n",
        "skipped  92\n",
        "517393170\n",
        "error on download517393170"
       ]
      },
      {
       "output_type": "stream",
       "stream": "stderr",
       "text": [
        "  File \"<ipython-input-41-0e1172e16ab4>\", line 11, in <module>\n",
        "    res = comp_extractors( extractor_training_object )\n",
        "  File \"<ipython-input-23-91249bf1c046>\", line 19, in comp_extractors\n",
        "    extraction_results = get_extraction_results( eto )\n",
        "  File \"<ipython-input-22-35bdc612153c>\", line 10, in get_extraction_results\n",
        "    ret['python_readibilty'] = { 'extracted_html': extract_with_python_readability( raw_content ) }\n",
        "  File \"<ipython-input-8-5916dff6f29a>\", line 6, in extract_with_python_readability\n",
        "    return doc.short_title() + \"\\n\\n\" + doc.summary()\n",
        "  File \"/usr/local/lib/python2.7/dist-packages/readability/readability.py\", line 139, in short_title\n",
        "    return shorten_title(self._html(True))\n",
        "  File \"/usr/local/lib/python2.7/dist-packages/readability/readability.py\", line 119, in _html\n",
        "    self.html = self._parse(self.input)\n",
        "  File \"/usr/local/lib/python2.7/dist-packages/readability/readability.py\", line 123, in _parse\n",
        "    doc, self.encoding = build_doc(input)\n",
        "  File \"/usr/local/lib/python2.7/dist-packages/readability/htmls.py\", line 17, in build_doc\n",
        "    doc = lxml.html.document_fromstring(page_unicode.encode('utf-8', 'replace'), parser=utf8_parser)\n",
        "  File \"/usr/local/lib/python2.7/dist-packages/lxml/html/__init__.py\", line 568, in document_fromstring\n",
        "    value = etree.fromstring(html, parser, **kw)\n",
        "  File \"lxml.etree.pyx\", line 2997, in lxml.etree.fromstring (src/lxml/lxml.etree.c:63276)\n",
        "  File \"parser.pxi\", line 1617, in lxml.etree._parseMemoryDocument (src/lxml/lxml.etree.c:93691)\n",
        "  File \"parser.pxi\", line 1495, in lxml.etree._parseDoc (src/lxml/lxml.etree.c:92490)\n",
        "  File \"parser.pxi\", line 1011, in lxml.etree._BaseParser._parseDoc (src/lxml/lxml.etree.c:89130)\n",
        "  File \"parser.pxi\", line 577, in lxml.etree._ParserContext._handleParseResultDoc (src/lxml/lxml.etree.c:84831)\n",
        "  File \"parser.pxi\", line 676, in lxml.etree._handleParseResult (src/lxml/lxml.etree.c:85936)\n",
        "  File \"parser.pxi\", line 625, in lxml.etree._raiseParseError (src/lxml/lxml.etree.c:85392)\n",
        "XMLSyntaxError: line 1092: htmlParseEntityRef: no name\n",
        "Traceback (most recent call last):\n"
       ]
      },
      {
       "output_type": "stream",
       "stream": "stdout",
       "text": [
        "\n",
        "(<class 'lxml.etree.XMLSyntaxError'>, XMLSyntaxError(u'line 1092: htmlParseEntityRef: no name',), <traceback object at 0x7f564ec9f680>)\n",
        "processed  301\n",
        "skipped  93\n",
        "518149302\n",
        "error on download518149302"
       ]
      },
      {
       "output_type": "stream",
       "stream": "stderr",
       "text": [
        "  File \"<ipython-input-41-0e1172e16ab4>\", line 11, in <module>\n",
        "    res = comp_extractors( extractor_training_object )\n",
        "  File \"<ipython-input-23-91249bf1c046>\", line 19, in comp_extractors\n",
        "    extraction_results = get_extraction_results( eto )\n",
        "  File \"<ipython-input-22-35bdc612153c>\", line 10, in get_extraction_results\n",
        "    ret['python_readibilty'] = { 'extracted_html': extract_with_python_readability( raw_content ) }\n",
        "  File \"<ipython-input-8-5916dff6f29a>\", line 6, in extract_with_python_readability\n",
        "    return doc.short_title() + \"\\n\\n\" + doc.summary()\n",
        "  File \"/usr/local/lib/python2.7/dist-packages/readability/readability.py\", line 139, in short_title\n",
        "    return shorten_title(self._html(True))\n",
        "  File \"/usr/local/lib/python2.7/dist-packages/readability/readability.py\", line 119, in _html\n",
        "    self.html = self._parse(self.input)\n",
        "  File \"/usr/local/lib/python2.7/dist-packages/readability/readability.py\", line 123, in _parse\n",
        "    doc, self.encoding = build_doc(input)\n",
        "  File \"/usr/local/lib/python2.7/dist-packages/readability/htmls.py\", line 17, in build_doc\n",
        "    doc = lxml.html.document_fromstring(page_unicode.encode('utf-8', 'replace'), parser=utf8_parser)\n",
        "  File \"/usr/local/lib/python2.7/dist-packages/lxml/html/__init__.py\", line 568, in document_fromstring\n",
        "    value = etree.fromstring(html, parser, **kw)\n",
        "  File \"lxml.etree.pyx\", line 2997, in lxml.etree.fromstring (src/lxml/lxml.etree.c:63276)\n",
        "  File \"parser.pxi\", line 1617, in lxml.etree._parseMemoryDocument (src/lxml/lxml.etree.c:93691)\n",
        "  File \"parser.pxi\", line 1495, in lxml.etree._parseDoc (src/lxml/lxml.etree.c:92490)\n",
        "  File \"parser.pxi\", line 1011, in lxml.etree._BaseParser._parseDoc (src/lxml/lxml.etree.c:89130)\n",
        "  File \"parser.pxi\", line 577, in lxml.etree._ParserContext._handleParseResultDoc (src/lxml/lxml.etree.c:84831)\n",
        "  File \"parser.pxi\", line 676, in lxml.etree._handleParseResult (src/lxml/lxml.etree.c:85936)\n",
        "  File \"parser.pxi\", line 625, in lxml.etree._raiseParseError (src/lxml/lxml.etree.c:85392)\n",
        "XMLSyntaxError: line 1092: htmlParseEntityRef: no name\n",
        "Traceback (most recent call last):\n"
       ]
      },
      {
       "output_type": "stream",
       "stream": "stdout",
       "text": [
        "\n",
        "(<class 'lxml.etree.XMLSyntaxError'>, XMLSyntaxError(u'line 1092: htmlParseEntityRef: no name',), <traceback object at 0x7f564ec9fdd0>)\n",
        "processed  301\n",
        "skipped  94\n",
        "518752724\n",
        "error on download518752724"
       ]
      },
      {
       "output_type": "stream",
       "stream": "stderr",
       "text": [
        "  File \"<ipython-input-41-0e1172e16ab4>\", line 11, in <module>\n",
        "    res = comp_extractors( extractor_training_object )\n",
        "  File \"<ipython-input-23-91249bf1c046>\", line 19, in comp_extractors\n",
        "    extraction_results = get_extraction_results( eto )\n",
        "  File \"<ipython-input-22-35bdc612153c>\", line 10, in get_extraction_results\n",
        "    ret['python_readibilty'] = { 'extracted_html': extract_with_python_readability( raw_content ) }\n",
        "  File \"<ipython-input-8-5916dff6f29a>\", line 6, in extract_with_python_readability\n",
        "    return doc.short_title() + \"\\n\\n\" + doc.summary()\n",
        "  File \"/usr/local/lib/python2.7/dist-packages/readability/readability.py\", line 139, in short_title\n",
        "    return shorten_title(self._html(True))\n",
        "  File \"/usr/local/lib/python2.7/dist-packages/readability/readability.py\", line 119, in _html\n",
        "    self.html = self._parse(self.input)\n",
        "  File \"/usr/local/lib/python2.7/dist-packages/readability/readability.py\", line 123, in _parse\n",
        "    doc, self.encoding = build_doc(input)\n",
        "  File \"/usr/local/lib/python2.7/dist-packages/readability/htmls.py\", line 17, in build_doc\n",
        "    doc = lxml.html.document_fromstring(page_unicode.encode('utf-8', 'replace'), parser=utf8_parser)\n",
        "  File \"/usr/local/lib/python2.7/dist-packages/lxml/html/__init__.py\", line 568, in document_fromstring\n",
        "    value = etree.fromstring(html, parser, **kw)\n",
        "  File \"lxml.etree.pyx\", line 2997, in lxml.etree.fromstring (src/lxml/lxml.etree.c:63276)\n",
        "  File \"parser.pxi\", line 1617, in lxml.etree._parseMemoryDocument (src/lxml/lxml.etree.c:93691)\n",
        "  File \"parser.pxi\", line 1495, in lxml.etree._parseDoc (src/lxml/lxml.etree.c:92490)\n",
        "  File \"parser.pxi\", line 1011, in lxml.etree._BaseParser._parseDoc (src/lxml/lxml.etree.c:89130)\n",
        "  File \"parser.pxi\", line 577, in lxml.etree._ParserContext._handleParseResultDoc (src/lxml/lxml.etree.c:84831)\n",
        "  File \"parser.pxi\", line 676, in lxml.etree._handleParseResult (src/lxml/lxml.etree.c:85936)\n",
        "  File \"parser.pxi\", line 625, in lxml.etree._raiseParseError (src/lxml/lxml.etree.c:85392)\n",
        "XMLSyntaxError: line 1092: htmlParseEntityRef: no name\n",
        "Traceback (most recent call last):\n"
       ]
      },
      {
       "output_type": "stream",
       "stream": "stdout",
       "text": [
        "\n",
        "(<class 'lxml.etree.XMLSyntaxError'>, XMLSyntaxError(u'line 1092: htmlParseEntityRef: no name',), <traceback object at 0x7f564ec8e488>)\n",
        "processed  301\n",
        "skipped  95\n",
        "518815044\n",
        "error on download518815044"
       ]
      },
      {
       "output_type": "stream",
       "stream": "stderr",
       "text": [
        "  File \"<ipython-input-41-0e1172e16ab4>\", line 11, in <module>\n",
        "    res = comp_extractors( extractor_training_object )\n",
        "  File \"<ipython-input-23-91249bf1c046>\", line 19, in comp_extractors\n",
        "    extraction_results = get_extraction_results( eto )\n",
        "  File \"<ipython-input-22-35bdc612153c>\", line 10, in get_extraction_results\n",
        "    ret['python_readibilty'] = { 'extracted_html': extract_with_python_readability( raw_content ) }\n",
        "  File \"<ipython-input-8-5916dff6f29a>\", line 6, in extract_with_python_readability\n",
        "    return doc.short_title() + \"\\n\\n\" + doc.summary()\n",
        "  File \"/usr/local/lib/python2.7/dist-packages/readability/readability.py\", line 139, in short_title\n",
        "    return shorten_title(self._html(True))\n",
        "  File \"/usr/local/lib/python2.7/dist-packages/readability/readability.py\", line 119, in _html\n",
        "    self.html = self._parse(self.input)\n",
        "  File \"/usr/local/lib/python2.7/dist-packages/readability/readability.py\", line 123, in _parse\n",
        "    doc, self.encoding = build_doc(input)\n",
        "  File \"/usr/local/lib/python2.7/dist-packages/readability/htmls.py\", line 17, in build_doc\n",
        "    doc = lxml.html.document_fromstring(page_unicode.encode('utf-8', 'replace'), parser=utf8_parser)\n",
        "  File \"/usr/local/lib/python2.7/dist-packages/lxml/html/__init__.py\", line 568, in document_fromstring\n",
        "    value = etree.fromstring(html, parser, **kw)\n",
        "  File \"lxml.etree.pyx\", line 2997, in lxml.etree.fromstring (src/lxml/lxml.etree.c:63276)\n",
        "  File \"parser.pxi\", line 1617, in lxml.etree._parseMemoryDocument (src/lxml/lxml.etree.c:93691)\n",
        "  File \"parser.pxi\", line 1495, in lxml.etree._parseDoc (src/lxml/lxml.etree.c:92490)\n",
        "  File \"parser.pxi\", line 1011, in lxml.etree._BaseParser._parseDoc (src/lxml/lxml.etree.c:89130)\n",
        "  File \"parser.pxi\", line 577, in lxml.etree._ParserContext._handleParseResultDoc (src/lxml/lxml.etree.c:84831)\n",
        "  File \"parser.pxi\", line 676, in lxml.etree._handleParseResult (src/lxml/lxml.etree.c:85936)\n",
        "  File \"parser.pxi\", line 625, in lxml.etree._raiseParseError (src/lxml/lxml.etree.c:85392)\n",
        "XMLSyntaxError: line 1092: htmlParseEntityRef: no name\n",
        "Traceback (most recent call last):\n"
       ]
      },
      {
       "output_type": "stream",
       "stream": "stdout",
       "text": [
        "\n",
        "(<class 'lxml.etree.XMLSyntaxError'>, XMLSyntaxError(u'line 1092: htmlParseEntityRef: no name',), <traceback object at 0x7f564ec8e9e0>)\n",
        "processed  301\n",
        "skipped  96\n",
        "518917973\n",
        "error on download518917973"
       ]
      },
      {
       "output_type": "stream",
       "stream": "stderr",
       "text": [
        "  File \"<ipython-input-41-0e1172e16ab4>\", line 11, in <module>\n",
        "    res = comp_extractors( extractor_training_object )\n",
        "  File \"<ipython-input-23-91249bf1c046>\", line 19, in comp_extractors\n",
        "    extraction_results = get_extraction_results( eto )\n",
        "  File \"<ipython-input-22-35bdc612153c>\", line 10, in get_extraction_results\n",
        "    ret['python_readibilty'] = { 'extracted_html': extract_with_python_readability( raw_content ) }\n",
        "  File \"<ipython-input-8-5916dff6f29a>\", line 6, in extract_with_python_readability\n",
        "    return doc.short_title() + \"\\n\\n\" + doc.summary()\n",
        "  File \"/usr/local/lib/python2.7/dist-packages/readability/readability.py\", line 139, in short_title\n",
        "    return shorten_title(self._html(True))\n",
        "  File \"/usr/local/lib/python2.7/dist-packages/readability/readability.py\", line 119, in _html\n",
        "    self.html = self._parse(self.input)\n",
        "  File \"/usr/local/lib/python2.7/dist-packages/readability/readability.py\", line 123, in _parse\n",
        "    doc, self.encoding = build_doc(input)\n",
        "  File \"/usr/local/lib/python2.7/dist-packages/readability/htmls.py\", line 17, in build_doc\n",
        "    doc = lxml.html.document_fromstring(page_unicode.encode('utf-8', 'replace'), parser=utf8_parser)\n",
        "  File \"/usr/local/lib/python2.7/dist-packages/lxml/html/__init__.py\", line 568, in document_fromstring\n",
        "    value = etree.fromstring(html, parser, **kw)\n",
        "  File \"lxml.etree.pyx\", line 2997, in lxml.etree.fromstring (src/lxml/lxml.etree.c:63276)\n",
        "  File \"parser.pxi\", line 1617, in lxml.etree._parseMemoryDocument (src/lxml/lxml.etree.c:93691)\n",
        "  File \"parser.pxi\", line 1495, in lxml.etree._parseDoc (src/lxml/lxml.etree.c:92490)\n",
        "  File \"parser.pxi\", line 1011, in lxml.etree._BaseParser._parseDoc (src/lxml/lxml.etree.c:89130)\n",
        "  File \"parser.pxi\", line 577, in lxml.etree._ParserContext._handleParseResultDoc (src/lxml/lxml.etree.c:84831)\n",
        "  File \"parser.pxi\", line 676, in lxml.etree._handleParseResult (src/lxml/lxml.etree.c:85936)\n",
        "  File \"parser.pxi\", line 625, in lxml.etree._raiseParseError (src/lxml/lxml.etree.c:85392)\n",
        "XMLSyntaxError: line 1092: htmlParseEntityRef: no name\n",
        "Traceback (most recent call last):\n"
       ]
      },
      {
       "output_type": "stream",
       "stream": "stdout",
       "text": [
        "\n",
        "(<class 'lxml.etree.XMLSyntaxError'>, XMLSyntaxError(u'line 1092: htmlParseEntityRef: no name',), <traceback object at 0x7f564ec8e368>)\n",
        "processed  301\n",
        "skipped  97\n",
        "519698497\n",
        "error on download519698497"
       ]
      },
      {
       "output_type": "stream",
       "stream": "stderr",
       "text": [
        "  File \"<ipython-input-41-0e1172e16ab4>\", line 11, in <module>\n",
        "    res = comp_extractors( extractor_training_object )\n",
        "  File \"<ipython-input-23-91249bf1c046>\", line 19, in comp_extractors\n",
        "    extraction_results = get_extraction_results( eto )\n",
        "  File \"<ipython-input-22-35bdc612153c>\", line 10, in get_extraction_results\n",
        "    ret['python_readibilty'] = { 'extracted_html': extract_with_python_readability( raw_content ) }\n",
        "  File \"<ipython-input-8-5916dff6f29a>\", line 6, in extract_with_python_readability\n",
        "    return doc.short_title() + \"\\n\\n\" + doc.summary()\n",
        "  File \"/usr/local/lib/python2.7/dist-packages/readability/readability.py\", line 139, in short_title\n",
        "    return shorten_title(self._html(True))\n",
        "  File \"/usr/local/lib/python2.7/dist-packages/readability/readability.py\", line 119, in _html\n",
        "    self.html = self._parse(self.input)\n",
        "  File \"/usr/local/lib/python2.7/dist-packages/readability/readability.py\", line 123, in _parse\n",
        "    doc, self.encoding = build_doc(input)\n",
        "  File \"/usr/local/lib/python2.7/dist-packages/readability/htmls.py\", line 17, in build_doc\n",
        "    doc = lxml.html.document_fromstring(page_unicode.encode('utf-8', 'replace'), parser=utf8_parser)\n",
        "  File \"/usr/local/lib/python2.7/dist-packages/lxml/html/__init__.py\", line 568, in document_fromstring\n",
        "    value = etree.fromstring(html, parser, **kw)\n",
        "  File \"lxml.etree.pyx\", line 2997, in lxml.etree.fromstring (src/lxml/lxml.etree.c:63276)\n",
        "  File \"parser.pxi\", line 1617, in lxml.etree._parseMemoryDocument (src/lxml/lxml.etree.c:93691)\n",
        "  File \"parser.pxi\", line 1495, in lxml.etree._parseDoc (src/lxml/lxml.etree.c:92490)\n",
        "  File \"parser.pxi\", line 1011, in lxml.etree._BaseParser._parseDoc (src/lxml/lxml.etree.c:89130)\n",
        "  File \"parser.pxi\", line 577, in lxml.etree._ParserContext._handleParseResultDoc (src/lxml/lxml.etree.c:84831)\n",
        "  File \"parser.pxi\", line 676, in lxml.etree._handleParseResult (src/lxml/lxml.etree.c:85936)\n",
        "  File \"parser.pxi\", line 625, in lxml.etree._raiseParseError (src/lxml/lxml.etree.c:85392)\n",
        "XMLSyntaxError: line 1092: htmlParseEntityRef: no name\n",
        "Traceback (most recent call last):\n"
       ]
      },
      {
       "output_type": "stream",
       "stream": "stdout",
       "text": [
        "\n",
        "(<class 'lxml.etree.XMLSyntaxError'>, XMLSyntaxError(u'line 1092: htmlParseEntityRef: no name',), <traceback object at 0x7f564ea72710>)\n",
        "processed  301\n",
        "skipped  98\n",
        "519788971\n",
        "error on download519788971"
       ]
      },
      {
       "output_type": "stream",
       "stream": "stderr",
       "text": [
        "  File \"<ipython-input-41-0e1172e16ab4>\", line 11, in <module>\n",
        "    res = comp_extractors( extractor_training_object )\n",
        "  File \"<ipython-input-23-91249bf1c046>\", line 19, in comp_extractors\n",
        "    extraction_results = get_extraction_results( eto )\n",
        "  File \"<ipython-input-22-35bdc612153c>\", line 10, in get_extraction_results\n",
        "    ret['python_readibilty'] = { 'extracted_html': extract_with_python_readability( raw_content ) }\n",
        "  File \"<ipython-input-8-5916dff6f29a>\", line 6, in extract_with_python_readability\n",
        "    return doc.short_title() + \"\\n\\n\" + doc.summary()\n",
        "  File \"/usr/local/lib/python2.7/dist-packages/readability/readability.py\", line 139, in short_title\n",
        "    return shorten_title(self._html(True))\n",
        "  File \"/usr/local/lib/python2.7/dist-packages/readability/readability.py\", line 119, in _html\n",
        "    self.html = self._parse(self.input)\n",
        "  File \"/usr/local/lib/python2.7/dist-packages/readability/readability.py\", line 123, in _parse\n",
        "    doc, self.encoding = build_doc(input)\n",
        "  File \"/usr/local/lib/python2.7/dist-packages/readability/htmls.py\", line 17, in build_doc\n",
        "    doc = lxml.html.document_fromstring(page_unicode.encode('utf-8', 'replace'), parser=utf8_parser)\n",
        "  File \"/usr/local/lib/python2.7/dist-packages/lxml/html/__init__.py\", line 568, in document_fromstring\n",
        "    value = etree.fromstring(html, parser, **kw)\n",
        "  File \"lxml.etree.pyx\", line 2997, in lxml.etree.fromstring (src/lxml/lxml.etree.c:63276)\n",
        "  File \"parser.pxi\", line 1617, in lxml.etree._parseMemoryDocument (src/lxml/lxml.etree.c:93691)\n",
        "  File \"parser.pxi\", line 1495, in lxml.etree._parseDoc (src/lxml/lxml.etree.c:92490)\n",
        "  File \"parser.pxi\", line 1011, in lxml.etree._BaseParser._parseDoc (src/lxml/lxml.etree.c:89130)\n",
        "  File \"parser.pxi\", line 577, in lxml.etree._ParserContext._handleParseResultDoc (src/lxml/lxml.etree.c:84831)\n",
        "  File \"parser.pxi\", line 676, in lxml.etree._handleParseResult (src/lxml/lxml.etree.c:85936)\n",
        "  File \"parser.pxi\", line 625, in lxml.etree._raiseParseError (src/lxml/lxml.etree.c:85392)\n",
        "XMLSyntaxError: line 1092: htmlParseEntityRef: no name\n",
        "Traceback (most recent call last):\n"
       ]
      },
      {
       "output_type": "stream",
       "stream": "stdout",
       "text": [
        "\n",
        "(<class 'lxml.etree.XMLSyntaxError'>, XMLSyntaxError(u'line 1092: htmlParseEntityRef: no name',), <traceback object at 0x7f564ecb3878>)\n",
        "processed  301\n",
        "skipped  99\n",
        "519948923\n",
        "error on download519948923"
       ]
      },
      {
       "output_type": "stream",
       "stream": "stderr",
       "text": [
        "  File \"<ipython-input-41-0e1172e16ab4>\", line 11, in <module>\n",
        "    res = comp_extractors( extractor_training_object )\n",
        "  File \"<ipython-input-23-91249bf1c046>\", line 19, in comp_extractors\n",
        "    extraction_results = get_extraction_results( eto )\n",
        "  File \"<ipython-input-22-35bdc612153c>\", line 10, in get_extraction_results\n",
        "    ret['python_readibilty'] = { 'extracted_html': extract_with_python_readability( raw_content ) }\n",
        "  File \"<ipython-input-8-5916dff6f29a>\", line 6, in extract_with_python_readability\n",
        "    return doc.short_title() + \"\\n\\n\" + doc.summary()\n",
        "  File \"/usr/local/lib/python2.7/dist-packages/readability/readability.py\", line 139, in short_title\n",
        "    return shorten_title(self._html(True))\n",
        "  File \"/usr/local/lib/python2.7/dist-packages/readability/readability.py\", line 119, in _html\n",
        "    self.html = self._parse(self.input)\n",
        "  File \"/usr/local/lib/python2.7/dist-packages/readability/readability.py\", line 123, in _parse\n",
        "    doc, self.encoding = build_doc(input)\n",
        "  File \"/usr/local/lib/python2.7/dist-packages/readability/htmls.py\", line 17, in build_doc\n",
        "    doc = lxml.html.document_fromstring(page_unicode.encode('utf-8', 'replace'), parser=utf8_parser)\n",
        "  File \"/usr/local/lib/python2.7/dist-packages/lxml/html/__init__.py\", line 568, in document_fromstring\n",
        "    value = etree.fromstring(html, parser, **kw)\n",
        "  File \"lxml.etree.pyx\", line 2997, in lxml.etree.fromstring (src/lxml/lxml.etree.c:63276)\n",
        "  File \"parser.pxi\", line 1617, in lxml.etree._parseMemoryDocument (src/lxml/lxml.etree.c:93691)\n",
        "  File \"parser.pxi\", line 1495, in lxml.etree._parseDoc (src/lxml/lxml.etree.c:92490)\n",
        "  File \"parser.pxi\", line 1011, in lxml.etree._BaseParser._parseDoc (src/lxml/lxml.etree.c:89130)\n",
        "  File \"parser.pxi\", line 577, in lxml.etree._ParserContext._handleParseResultDoc (src/lxml/lxml.etree.c:84831)\n",
        "  File \"parser.pxi\", line 676, in lxml.etree._handleParseResult (src/lxml/lxml.etree.c:85936)\n",
        "  File \"parser.pxi\", line 625, in lxml.etree._raiseParseError (src/lxml/lxml.etree.c:85392)\n",
        "XMLSyntaxError: line 1092: htmlParseEntityRef: no name\n",
        "Traceback (most recent call last):\n"
       ]
      },
      {
       "output_type": "stream",
       "stream": "stdout",
       "text": [
        "\n",
        "(<class 'lxml.etree.XMLSyntaxError'>, XMLSyntaxError(u'line 1092: htmlParseEntityRef: no name',), <traceback object at 0x7f564ecb35f0>)\n",
        "processed  301\n",
        "skipped  100\n",
        "520302517\n",
        "error on download520302517"
       ]
      },
      {
       "output_type": "stream",
       "stream": "stderr",
       "text": [
        "  File \"<ipython-input-41-0e1172e16ab4>\", line 11, in <module>\n",
        "    res = comp_extractors( extractor_training_object )\n",
        "  File \"<ipython-input-23-91249bf1c046>\", line 19, in comp_extractors\n",
        "    extraction_results = get_extraction_results( eto )\n",
        "  File \"<ipython-input-22-35bdc612153c>\", line 10, in get_extraction_results\n",
        "    ret['python_readibilty'] = { 'extracted_html': extract_with_python_readability( raw_content ) }\n",
        "  File \"<ipython-input-8-5916dff6f29a>\", line 6, in extract_with_python_readability\n",
        "    return doc.short_title() + \"\\n\\n\" + doc.summary()\n",
        "  File \"/usr/local/lib/python2.7/dist-packages/readability/readability.py\", line 139, in short_title\n",
        "    return shorten_title(self._html(True))\n",
        "  File \"/usr/local/lib/python2.7/dist-packages/readability/readability.py\", line 119, in _html\n",
        "    self.html = self._parse(self.input)\n",
        "  File \"/usr/local/lib/python2.7/dist-packages/readability/readability.py\", line 123, in _parse\n",
        "    doc, self.encoding = build_doc(input)\n",
        "  File \"/usr/local/lib/python2.7/dist-packages/readability/htmls.py\", line 17, in build_doc\n",
        "    doc = lxml.html.document_fromstring(page_unicode.encode('utf-8', 'replace'), parser=utf8_parser)\n",
        "  File \"/usr/local/lib/python2.7/dist-packages/lxml/html/__init__.py\", line 568, in document_fromstring\n",
        "    value = etree.fromstring(html, parser, **kw)\n",
        "  File \"lxml.etree.pyx\", line 2997, in lxml.etree.fromstring (src/lxml/lxml.etree.c:63276)\n",
        "  File \"parser.pxi\", line 1617, in lxml.etree._parseMemoryDocument (src/lxml/lxml.etree.c:93691)\n",
        "  File \"parser.pxi\", line 1495, in lxml.etree._parseDoc (src/lxml/lxml.etree.c:92490)\n",
        "  File \"parser.pxi\", line 1011, in lxml.etree._BaseParser._parseDoc (src/lxml/lxml.etree.c:89130)\n",
        "  File \"parser.pxi\", line 577, in lxml.etree._ParserContext._handleParseResultDoc (src/lxml/lxml.etree.c:84831)\n",
        "  File \"parser.pxi\", line 676, in lxml.etree._handleParseResult (src/lxml/lxml.etree.c:85936)\n",
        "  File \"parser.pxi\", line 625, in lxml.etree._raiseParseError (src/lxml/lxml.etree.c:85392)\n",
        "XMLSyntaxError: line 1092: htmlParseEntityRef: no name\n",
        "Traceback (most recent call last):\n"
       ]
      },
      {
       "output_type": "stream",
       "stream": "stdout",
       "text": [
        "\n",
        "(<class 'lxml.etree.XMLSyntaxError'>, XMLSyntaxError(u'line 1092: htmlParseEntityRef: no name',), <traceback object at 0x7f564ecb3710>)\n",
        "processed  301\n",
        "skipped  101\n",
        "520916358\n",
        "error on download520916358"
       ]
      },
      {
       "output_type": "stream",
       "stream": "stderr",
       "text": [
        "  File \"<ipython-input-41-0e1172e16ab4>\", line 11, in <module>\n",
        "    res = comp_extractors( extractor_training_object )\n",
        "  File \"<ipython-input-23-91249bf1c046>\", line 19, in comp_extractors\n",
        "    extraction_results = get_extraction_results( eto )\n",
        "  File \"<ipython-input-22-35bdc612153c>\", line 10, in get_extraction_results\n",
        "    ret['python_readibilty'] = { 'extracted_html': extract_with_python_readability( raw_content ) }\n",
        "  File \"<ipython-input-8-5916dff6f29a>\", line 6, in extract_with_python_readability\n",
        "    return doc.short_title() + \"\\n\\n\" + doc.summary()\n",
        "  File \"/usr/local/lib/python2.7/dist-packages/readability/readability.py\", line 139, in short_title\n",
        "    return shorten_title(self._html(True))\n",
        "  File \"/usr/local/lib/python2.7/dist-packages/readability/readability.py\", line 119, in _html\n",
        "    self.html = self._parse(self.input)\n",
        "  File \"/usr/local/lib/python2.7/dist-packages/readability/readability.py\", line 123, in _parse\n",
        "    doc, self.encoding = build_doc(input)\n",
        "  File \"/usr/local/lib/python2.7/dist-packages/readability/htmls.py\", line 17, in build_doc\n",
        "    doc = lxml.html.document_fromstring(page_unicode.encode('utf-8', 'replace'), parser=utf8_parser)\n",
        "  File \"/usr/local/lib/python2.7/dist-packages/lxml/html/__init__.py\", line 568, in document_fromstring\n",
        "    value = etree.fromstring(html, parser, **kw)\n",
        "  File \"lxml.etree.pyx\", line 2997, in lxml.etree.fromstring (src/lxml/lxml.etree.c:63276)\n",
        "  File \"parser.pxi\", line 1617, in lxml.etree._parseMemoryDocument (src/lxml/lxml.etree.c:93691)\n",
        "  File \"parser.pxi\", line 1495, in lxml.etree._parseDoc (src/lxml/lxml.etree.c:92490)\n",
        "  File \"parser.pxi\", line 1011, in lxml.etree._BaseParser._parseDoc (src/lxml/lxml.etree.c:89130)\n",
        "  File \"parser.pxi\", line 577, in lxml.etree._ParserContext._handleParseResultDoc (src/lxml/lxml.etree.c:84831)\n",
        "  File \"parser.pxi\", line 676, in lxml.etree._handleParseResult (src/lxml/lxml.etree.c:85936)\n",
        "  File \"parser.pxi\", line 625, in lxml.etree._raiseParseError (src/lxml/lxml.etree.c:85392)\n",
        "XMLSyntaxError: line 1092: htmlParseEntityRef: no name\n",
        "Traceback (most recent call last):\n"
       ]
      },
      {
       "output_type": "stream",
       "stream": "stdout",
       "text": [
        "\n",
        "(<class 'lxml.etree.XMLSyntaxError'>, XMLSyntaxError(u'line 1092: htmlParseEntityRef: no name',), <traceback object at 0x7f564ecb3ef0>)\n",
        "processed  301\n",
        "skipped  102\n",
        "521501901\n",
        "error on download521501901"
       ]
      },
      {
       "output_type": "stream",
       "stream": "stderr",
       "text": [
        "  File \"<ipython-input-41-0e1172e16ab4>\", line 11, in <module>\n",
        "    res = comp_extractors( extractor_training_object )\n",
        "  File \"<ipython-input-23-91249bf1c046>\", line 19, in comp_extractors\n",
        "    extraction_results = get_extraction_results( eto )\n",
        "  File \"<ipython-input-22-35bdc612153c>\", line 10, in get_extraction_results\n",
        "    ret['python_readibilty'] = { 'extracted_html': extract_with_python_readability( raw_content ) }\n",
        "  File \"<ipython-input-8-5916dff6f29a>\", line 6, in extract_with_python_readability\n",
        "    return doc.short_title() + \"\\n\\n\" + doc.summary()\n",
        "  File \"/usr/local/lib/python2.7/dist-packages/readability/readability.py\", line 139, in short_title\n",
        "    return shorten_title(self._html(True))\n",
        "  File \"/usr/local/lib/python2.7/dist-packages/readability/readability.py\", line 119, in _html\n",
        "    self.html = self._parse(self.input)\n",
        "  File \"/usr/local/lib/python2.7/dist-packages/readability/readability.py\", line 123, in _parse\n",
        "    doc, self.encoding = build_doc(input)\n",
        "  File \"/usr/local/lib/python2.7/dist-packages/readability/htmls.py\", line 17, in build_doc\n",
        "    doc = lxml.html.document_fromstring(page_unicode.encode('utf-8', 'replace'), parser=utf8_parser)\n",
        "  File \"/usr/local/lib/python2.7/dist-packages/lxml/html/__init__.py\", line 568, in document_fromstring\n",
        "    value = etree.fromstring(html, parser, **kw)\n",
        "  File \"lxml.etree.pyx\", line 2997, in lxml.etree.fromstring (src/lxml/lxml.etree.c:63276)\n",
        "  File \"parser.pxi\", line 1617, in lxml.etree._parseMemoryDocument (src/lxml/lxml.etree.c:93691)\n",
        "  File \"parser.pxi\", line 1495, in lxml.etree._parseDoc (src/lxml/lxml.etree.c:92490)\n",
        "  File \"parser.pxi\", line 1011, in lxml.etree._BaseParser._parseDoc (src/lxml/lxml.etree.c:89130)\n",
        "  File \"parser.pxi\", line 577, in lxml.etree._ParserContext._handleParseResultDoc (src/lxml/lxml.etree.c:84831)\n",
        "  File \"parser.pxi\", line 676, in lxml.etree._handleParseResult (src/lxml/lxml.etree.c:85936)\n",
        "  File \"parser.pxi\", line 625, in lxml.etree._raiseParseError (src/lxml/lxml.etree.c:85392)\n",
        "XMLSyntaxError: line 1092: htmlParseEntityRef: no name\n",
        "Traceback (most recent call last):\n"
       ]
      },
      {
       "output_type": "stream",
       "stream": "stdout",
       "text": [
        "\n",
        "(<class 'lxml.etree.XMLSyntaxError'>, XMLSyntaxError(u'line 1092: htmlParseEntityRef: no name',), <traceback object at 0x7f564ec98368>)\n",
        "processed  301\n",
        "skipped  103\n",
        "521596942\n",
        "error on download521596942"
       ]
      },
      {
       "output_type": "stream",
       "stream": "stderr",
       "text": [
        "  File \"<ipython-input-41-0e1172e16ab4>\", line 11, in <module>\n",
        "    res = comp_extractors( extractor_training_object )\n",
        "  File \"<ipython-input-23-91249bf1c046>\", line 19, in comp_extractors\n",
        "    extraction_results = get_extraction_results( eto )\n",
        "  File \"<ipython-input-22-35bdc612153c>\", line 10, in get_extraction_results\n",
        "    ret['python_readibilty'] = { 'extracted_html': extract_with_python_readability( raw_content ) }\n",
        "  File \"<ipython-input-8-5916dff6f29a>\", line 6, in extract_with_python_readability\n",
        "    return doc.short_title() + \"\\n\\n\" + doc.summary()\n",
        "  File \"/usr/local/lib/python2.7/dist-packages/readability/readability.py\", line 139, in short_title\n",
        "    return shorten_title(self._html(True))\n",
        "  File \"/usr/local/lib/python2.7/dist-packages/readability/readability.py\", line 119, in _html\n",
        "    self.html = self._parse(self.input)\n",
        "  File \"/usr/local/lib/python2.7/dist-packages/readability/readability.py\", line 123, in _parse\n",
        "    doc, self.encoding = build_doc(input)\n",
        "  File \"/usr/local/lib/python2.7/dist-packages/readability/htmls.py\", line 17, in build_doc\n",
        "    doc = lxml.html.document_fromstring(page_unicode.encode('utf-8', 'replace'), parser=utf8_parser)\n",
        "  File \"/usr/local/lib/python2.7/dist-packages/lxml/html/__init__.py\", line 568, in document_fromstring\n",
        "    value = etree.fromstring(html, parser, **kw)\n",
        "  File \"lxml.etree.pyx\", line 2997, in lxml.etree.fromstring (src/lxml/lxml.etree.c:63276)\n",
        "  File \"parser.pxi\", line 1617, in lxml.etree._parseMemoryDocument (src/lxml/lxml.etree.c:93691)\n",
        "  File \"parser.pxi\", line 1495, in lxml.etree._parseDoc (src/lxml/lxml.etree.c:92490)\n",
        "  File \"parser.pxi\", line 1011, in lxml.etree._BaseParser._parseDoc (src/lxml/lxml.etree.c:89130)\n",
        "  File \"parser.pxi\", line 577, in lxml.etree._ParserContext._handleParseResultDoc (src/lxml/lxml.etree.c:84831)\n",
        "  File \"parser.pxi\", line 676, in lxml.etree._handleParseResult (src/lxml/lxml.etree.c:85936)\n",
        "  File \"parser.pxi\", line 625, in lxml.etree._raiseParseError (src/lxml/lxml.etree.c:85392)\n",
        "XMLSyntaxError: line 1092: htmlParseEntityRef: no name\n",
        "Traceback (most recent call last):\n"
       ]
      },
      {
       "output_type": "stream",
       "stream": "stdout",
       "text": [
        "\n",
        "(<class 'lxml.etree.XMLSyntaxError'>, XMLSyntaxError(u'line 1092: htmlParseEntityRef: no name',), <traceback object at 0x7f564ec98098>)\n",
        "processed  301\n",
        "skipped  104\n",
        "524336614\n",
        "error on download524336614"
       ]
      },
      {
       "output_type": "stream",
       "stream": "stderr",
       "text": [
        "  File \"<ipython-input-41-0e1172e16ab4>\", line 11, in <module>\n",
        "    res = comp_extractors( extractor_training_object )\n",
        "  File \"<ipython-input-23-91249bf1c046>\", line 19, in comp_extractors\n",
        "    extraction_results = get_extraction_results( eto )\n",
        "  File \"<ipython-input-22-35bdc612153c>\", line 10, in get_extraction_results\n",
        "    ret['python_readibilty'] = { 'extracted_html': extract_with_python_readability( raw_content ) }\n",
        "  File \"<ipython-input-8-5916dff6f29a>\", line 6, in extract_with_python_readability\n",
        "    return doc.short_title() + \"\\n\\n\" + doc.summary()\n",
        "  File \"/usr/local/lib/python2.7/dist-packages/readability/readability.py\", line 139, in short_title\n",
        "    return shorten_title(self._html(True))\n",
        "  File \"/usr/local/lib/python2.7/dist-packages/readability/readability.py\", line 119, in _html\n",
        "    self.html = self._parse(self.input)\n",
        "  File \"/usr/local/lib/python2.7/dist-packages/readability/readability.py\", line 123, in _parse\n",
        "    doc, self.encoding = build_doc(input)\n",
        "  File \"/usr/local/lib/python2.7/dist-packages/readability/htmls.py\", line 17, in build_doc\n",
        "    doc = lxml.html.document_fromstring(page_unicode.encode('utf-8', 'replace'), parser=utf8_parser)\n",
        "  File \"/usr/local/lib/python2.7/dist-packages/lxml/html/__init__.py\", line 568, in document_fromstring\n",
        "    value = etree.fromstring(html, parser, **kw)\n",
        "  File \"lxml.etree.pyx\", line 2997, in lxml.etree.fromstring (src/lxml/lxml.etree.c:63276)\n",
        "  File \"parser.pxi\", line 1617, in lxml.etree._parseMemoryDocument (src/lxml/lxml.etree.c:93691)\n",
        "  File \"parser.pxi\", line 1495, in lxml.etree._parseDoc (src/lxml/lxml.etree.c:92490)\n",
        "  File \"parser.pxi\", line 1011, in lxml.etree._BaseParser._parseDoc (src/lxml/lxml.etree.c:89130)\n",
        "  File \"parser.pxi\", line 577, in lxml.etree._ParserContext._handleParseResultDoc (src/lxml/lxml.etree.c:84831)\n",
        "  File \"parser.pxi\", line 676, in lxml.etree._handleParseResult (src/lxml/lxml.etree.c:85936)\n",
        "  File \"parser.pxi\", line 625, in lxml.etree._raiseParseError (src/lxml/lxml.etree.c:85392)\n",
        "XMLSyntaxError: line 1092: htmlParseEntityRef: no name\n",
        "Traceback (most recent call last):\n"
       ]
      },
      {
       "output_type": "stream",
       "stream": "stdout",
       "text": [
        "\n",
        "(<class 'lxml.etree.XMLSyntaxError'>, XMLSyntaxError(u'line 1092: htmlParseEntityRef: no name',), <traceback object at 0x7f564ec98b48>)\n",
        "processed  301\n",
        "skipped  105\n",
        "524583342\n",
        "error on download524583342"
       ]
      },
      {
       "output_type": "stream",
       "stream": "stderr",
       "text": [
        "  File \"<ipython-input-41-0e1172e16ab4>\", line 11, in <module>\n",
        "    res = comp_extractors( extractor_training_object )\n",
        "  File \"<ipython-input-23-91249bf1c046>\", line 19, in comp_extractors\n",
        "    extraction_results = get_extraction_results( eto )\n",
        "  File \"<ipython-input-22-35bdc612153c>\", line 10, in get_extraction_results\n",
        "    ret['python_readibilty'] = { 'extracted_html': extract_with_python_readability( raw_content ) }\n",
        "  File \"<ipython-input-8-5916dff6f29a>\", line 6, in extract_with_python_readability\n",
        "    return doc.short_title() + \"\\n\\n\" + doc.summary()\n",
        "  File \"/usr/local/lib/python2.7/dist-packages/readability/readability.py\", line 139, in short_title\n",
        "    return shorten_title(self._html(True))\n",
        "  File \"/usr/local/lib/python2.7/dist-packages/readability/readability.py\", line 119, in _html\n",
        "    self.html = self._parse(self.input)\n",
        "  File \"/usr/local/lib/python2.7/dist-packages/readability/readability.py\", line 123, in _parse\n",
        "    doc, self.encoding = build_doc(input)\n",
        "  File \"/usr/local/lib/python2.7/dist-packages/readability/htmls.py\", line 17, in build_doc\n",
        "    doc = lxml.html.document_fromstring(page_unicode.encode('utf-8', 'replace'), parser=utf8_parser)\n",
        "  File \"/usr/local/lib/python2.7/dist-packages/lxml/html/__init__.py\", line 568, in document_fromstring\n",
        "    value = etree.fromstring(html, parser, **kw)\n",
        "  File \"lxml.etree.pyx\", line 2997, in lxml.etree.fromstring (src/lxml/lxml.etree.c:63276)\n",
        "  File \"parser.pxi\", line 1617, in lxml.etree._parseMemoryDocument (src/lxml/lxml.etree.c:93691)\n",
        "  File \"parser.pxi\", line 1495, in lxml.etree._parseDoc (src/lxml/lxml.etree.c:92490)\n",
        "  File \"parser.pxi\", line 1011, in lxml.etree._BaseParser._parseDoc (src/lxml/lxml.etree.c:89130)\n",
        "  File \"parser.pxi\", line 577, in lxml.etree._ParserContext._handleParseResultDoc (src/lxml/lxml.etree.c:84831)\n",
        "  File \"parser.pxi\", line 676, in lxml.etree._handleParseResult (src/lxml/lxml.etree.c:85936)\n",
        "  File \"parser.pxi\", line 625, in lxml.etree._raiseParseError (src/lxml/lxml.etree.c:85392)\n",
        "XMLSyntaxError: line 1092: htmlParseEntityRef: no name\n",
        "Traceback (most recent call last):\n"
       ]
      },
      {
       "output_type": "stream",
       "stream": "stdout",
       "text": [
        "\n",
        "(<class 'lxml.etree.XMLSyntaxError'>, XMLSyntaxError(u'line 1092: htmlParseEntityRef: no name',), <traceback object at 0x7f564eca43b0>)\n",
        "processed  301\n",
        "skipped  106\n",
        "524747370\n",
        "error on download524747370"
       ]
      },
      {
       "output_type": "stream",
       "stream": "stderr",
       "text": [
        "  File \"<ipython-input-41-0e1172e16ab4>\", line 11, in <module>\n",
        "    res = comp_extractors( extractor_training_object )\n",
        "  File \"<ipython-input-23-91249bf1c046>\", line 19, in comp_extractors\n",
        "    extraction_results = get_extraction_results( eto )\n",
        "  File \"<ipython-input-22-35bdc612153c>\", line 10, in get_extraction_results\n",
        "    ret['python_readibilty'] = { 'extracted_html': extract_with_python_readability( raw_content ) }\n",
        "  File \"<ipython-input-8-5916dff6f29a>\", line 6, in extract_with_python_readability\n",
        "    return doc.short_title() + \"\\n\\n\" + doc.summary()\n",
        "  File \"/usr/local/lib/python2.7/dist-packages/readability/readability.py\", line 139, in short_title\n",
        "    return shorten_title(self._html(True))\n",
        "  File \"/usr/local/lib/python2.7/dist-packages/readability/readability.py\", line 119, in _html\n",
        "    self.html = self._parse(self.input)\n",
        "  File \"/usr/local/lib/python2.7/dist-packages/readability/readability.py\", line 123, in _parse\n",
        "    doc, self.encoding = build_doc(input)\n",
        "  File \"/usr/local/lib/python2.7/dist-packages/readability/htmls.py\", line 17, in build_doc\n",
        "    doc = lxml.html.document_fromstring(page_unicode.encode('utf-8', 'replace'), parser=utf8_parser)\n",
        "  File \"/usr/local/lib/python2.7/dist-packages/lxml/html/__init__.py\", line 568, in document_fromstring\n",
        "    value = etree.fromstring(html, parser, **kw)\n",
        "  File \"lxml.etree.pyx\", line 2997, in lxml.etree.fromstring (src/lxml/lxml.etree.c:63276)\n",
        "  File \"parser.pxi\", line 1617, in lxml.etree._parseMemoryDocument (src/lxml/lxml.etree.c:93691)\n",
        "  File \"parser.pxi\", line 1495, in lxml.etree._parseDoc (src/lxml/lxml.etree.c:92490)\n",
        "  File \"parser.pxi\", line 1011, in lxml.etree._BaseParser._parseDoc (src/lxml/lxml.etree.c:89130)\n",
        "  File \"parser.pxi\", line 577, in lxml.etree._ParserContext._handleParseResultDoc (src/lxml/lxml.etree.c:84831)\n",
        "  File \"parser.pxi\", line 676, in lxml.etree._handleParseResult (src/lxml/lxml.etree.c:85936)\n",
        "  File \"parser.pxi\", line 625, in lxml.etree._raiseParseError (src/lxml/lxml.etree.c:85392)\n",
        "XMLSyntaxError: line 1092: htmlParseEntityRef: no name\n",
        "Traceback (most recent call last):\n"
       ]
      },
      {
       "output_type": "stream",
       "stream": "stdout",
       "text": [
        "\n",
        "(<class 'lxml.etree.XMLSyntaxError'>, XMLSyntaxError(u'line 1092: htmlParseEntityRef: no name',), <traceback object at 0x7f564eca4878>)\n",
        "processed  301\n",
        "skipped  107\n",
        "525018299\n",
        "error on download525018299"
       ]
      },
      {
       "output_type": "stream",
       "stream": "stderr",
       "text": [
        "  File \"<ipython-input-41-0e1172e16ab4>\", line 11, in <module>\n",
        "    res = comp_extractors( extractor_training_object )\n",
        "  File \"<ipython-input-23-91249bf1c046>\", line 19, in comp_extractors\n",
        "    extraction_results = get_extraction_results( eto )\n",
        "  File \"<ipython-input-22-35bdc612153c>\", line 10, in get_extraction_results\n",
        "    ret['python_readibilty'] = { 'extracted_html': extract_with_python_readability( raw_content ) }\n",
        "  File \"<ipython-input-8-5916dff6f29a>\", line 6, in extract_with_python_readability\n",
        "    return doc.short_title() + \"\\n\\n\" + doc.summary()\n",
        "  File \"/usr/local/lib/python2.7/dist-packages/readability/readability.py\", line 139, in short_title\n",
        "    return shorten_title(self._html(True))\n",
        "  File \"/usr/local/lib/python2.7/dist-packages/readability/readability.py\", line 119, in _html\n",
        "    self.html = self._parse(self.input)\n",
        "  File \"/usr/local/lib/python2.7/dist-packages/readability/readability.py\", line 123, in _parse\n",
        "    doc, self.encoding = build_doc(input)\n",
        "  File \"/usr/local/lib/python2.7/dist-packages/readability/htmls.py\", line 17, in build_doc\n",
        "    doc = lxml.html.document_fromstring(page_unicode.encode('utf-8', 'replace'), parser=utf8_parser)\n",
        "  File \"/usr/local/lib/python2.7/dist-packages/lxml/html/__init__.py\", line 568, in document_fromstring\n",
        "    value = etree.fromstring(html, parser, **kw)\n",
        "  File \"lxml.etree.pyx\", line 2997, in lxml.etree.fromstring (src/lxml/lxml.etree.c:63276)\n",
        "  File \"parser.pxi\", line 1617, in lxml.etree._parseMemoryDocument (src/lxml/lxml.etree.c:93691)\n",
        "  File \"parser.pxi\", line 1495, in lxml.etree._parseDoc (src/lxml/lxml.etree.c:92490)\n",
        "  File \"parser.pxi\", line 1011, in lxml.etree._BaseParser._parseDoc (src/lxml/lxml.etree.c:89130)\n",
        "  File \"parser.pxi\", line 577, in lxml.etree._ParserContext._handleParseResultDoc (src/lxml/lxml.etree.c:84831)\n",
        "  File \"parser.pxi\", line 676, in lxml.etree._handleParseResult (src/lxml/lxml.etree.c:85936)\n",
        "  File \"parser.pxi\", line 625, in lxml.etree._raiseParseError (src/lxml/lxml.etree.c:85392)\n",
        "XMLSyntaxError: line 1092: htmlParseEntityRef: no name\n",
        "Traceback (most recent call last):\n"
       ]
      },
      {
       "output_type": "stream",
       "stream": "stdout",
       "text": [
        "\n",
        "(<class 'lxml.etree.XMLSyntaxError'>, XMLSyntaxError(u'line 1092: htmlParseEntityRef: no name',), <traceback object at 0x7f564eca4cf8>)\n",
        "processed  301\n",
        "skipped  108\n",
        "525274342\n",
        "error on download525274342"
       ]
      },
      {
       "output_type": "stream",
       "stream": "stderr",
       "text": [
        "  File \"<ipython-input-41-0e1172e16ab4>\", line 11, in <module>\n",
        "    res = comp_extractors( extractor_training_object )\n",
        "  File \"<ipython-input-23-91249bf1c046>\", line 19, in comp_extractors\n",
        "    extraction_results = get_extraction_results( eto )\n",
        "  File \"<ipython-input-22-35bdc612153c>\", line 10, in get_extraction_results\n",
        "    ret['python_readibilty'] = { 'extracted_html': extract_with_python_readability( raw_content ) }\n",
        "  File \"<ipython-input-8-5916dff6f29a>\", line 6, in extract_with_python_readability\n",
        "    return doc.short_title() + \"\\n\\n\" + doc.summary()\n",
        "  File \"/usr/local/lib/python2.7/dist-packages/readability/readability.py\", line 139, in short_title\n",
        "    return shorten_title(self._html(True))\n",
        "  File \"/usr/local/lib/python2.7/dist-packages/readability/readability.py\", line 119, in _html\n",
        "    self.html = self._parse(self.input)\n",
        "  File \"/usr/local/lib/python2.7/dist-packages/readability/readability.py\", line 123, in _parse\n",
        "    doc, self.encoding = build_doc(input)\n",
        "  File \"/usr/local/lib/python2.7/dist-packages/readability/htmls.py\", line 17, in build_doc\n",
        "    doc = lxml.html.document_fromstring(page_unicode.encode('utf-8', 'replace'), parser=utf8_parser)\n",
        "  File \"/usr/local/lib/python2.7/dist-packages/lxml/html/__init__.py\", line 568, in document_fromstring\n",
        "    value = etree.fromstring(html, parser, **kw)\n",
        "  File \"lxml.etree.pyx\", line 2997, in lxml.etree.fromstring (src/lxml/lxml.etree.c:63276)\n",
        "  File \"parser.pxi\", line 1617, in lxml.etree._parseMemoryDocument (src/lxml/lxml.etree.c:93691)\n",
        "  File \"parser.pxi\", line 1495, in lxml.etree._parseDoc (src/lxml/lxml.etree.c:92490)\n",
        "  File \"parser.pxi\", line 1011, in lxml.etree._BaseParser._parseDoc (src/lxml/lxml.etree.c:89130)\n",
        "  File \"parser.pxi\", line 577, in lxml.etree._ParserContext._handleParseResultDoc (src/lxml/lxml.etree.c:84831)\n",
        "  File \"parser.pxi\", line 676, in lxml.etree._handleParseResult (src/lxml/lxml.etree.c:85936)\n",
        "  File \"parser.pxi\", line 625, in lxml.etree._raiseParseError (src/lxml/lxml.etree.c:85392)\n",
        "XMLSyntaxError: line 1092: htmlParseEntityRef: no name\n",
        "Traceback (most recent call last):\n"
       ]
      },
      {
       "output_type": "stream",
       "stream": "stdout",
       "text": [
        "\n",
        "(<class 'lxml.etree.XMLSyntaxError'>, XMLSyntaxError(u'line 1092: htmlParseEntityRef: no name',), <traceback object at 0x7f564ec8d7e8>)\n",
        "processed  301\n",
        "skipped  109\n",
        "525762267\n",
        "error on download525762267"
       ]
      },
      {
       "output_type": "stream",
       "stream": "stderr",
       "text": [
        "  File \"<ipython-input-41-0e1172e16ab4>\", line 11, in <module>\n",
        "    res = comp_extractors( extractor_training_object )\n",
        "  File \"<ipython-input-23-91249bf1c046>\", line 19, in comp_extractors\n",
        "    extraction_results = get_extraction_results( eto )\n",
        "  File \"<ipython-input-22-35bdc612153c>\", line 10, in get_extraction_results\n",
        "    ret['python_readibilty'] = { 'extracted_html': extract_with_python_readability( raw_content ) }\n",
        "  File \"<ipython-input-8-5916dff6f29a>\", line 6, in extract_with_python_readability\n",
        "    return doc.short_title() + \"\\n\\n\" + doc.summary()\n",
        "  File \"/usr/local/lib/python2.7/dist-packages/readability/readability.py\", line 139, in short_title\n",
        "    return shorten_title(self._html(True))\n",
        "  File \"/usr/local/lib/python2.7/dist-packages/readability/readability.py\", line 119, in _html\n",
        "    self.html = self._parse(self.input)\n",
        "  File \"/usr/local/lib/python2.7/dist-packages/readability/readability.py\", line 123, in _parse\n",
        "    doc, self.encoding = build_doc(input)\n",
        "  File \"/usr/local/lib/python2.7/dist-packages/readability/htmls.py\", line 17, in build_doc\n",
        "    doc = lxml.html.document_fromstring(page_unicode.encode('utf-8', 'replace'), parser=utf8_parser)\n",
        "  File \"/usr/local/lib/python2.7/dist-packages/lxml/html/__init__.py\", line 568, in document_fromstring\n",
        "    value = etree.fromstring(html, parser, **kw)\n",
        "  File \"lxml.etree.pyx\", line 2997, in lxml.etree.fromstring (src/lxml/lxml.etree.c:63276)\n",
        "  File \"parser.pxi\", line 1617, in lxml.etree._parseMemoryDocument (src/lxml/lxml.etree.c:93691)\n",
        "  File \"parser.pxi\", line 1495, in lxml.etree._parseDoc (src/lxml/lxml.etree.c:92490)\n",
        "  File \"parser.pxi\", line 1011, in lxml.etree._BaseParser._parseDoc (src/lxml/lxml.etree.c:89130)\n",
        "  File \"parser.pxi\", line 577, in lxml.etree._ParserContext._handleParseResultDoc (src/lxml/lxml.etree.c:84831)\n",
        "  File \"parser.pxi\", line 676, in lxml.etree._handleParseResult (src/lxml/lxml.etree.c:85936)\n",
        "  File \"parser.pxi\", line 625, in lxml.etree._raiseParseError (src/lxml/lxml.etree.c:85392)\n",
        "XMLSyntaxError: line 1092: htmlParseEntityRef: no name\n",
        "Traceback (most recent call last):\n"
       ]
      },
      {
       "output_type": "stream",
       "stream": "stdout",
       "text": [
        "\n",
        "(<class 'lxml.etree.XMLSyntaxError'>, XMLSyntaxError(u'line 1092: htmlParseEntityRef: no name',), <traceback object at 0x7f564ec8d368>)\n",
        "processed  301\n",
        "skipped  110\n",
        "526210669\n",
        "error on download526210669"
       ]
      },
      {
       "output_type": "stream",
       "stream": "stderr",
       "text": [
        "  File \"<ipython-input-41-0e1172e16ab4>\", line 11, in <module>\n",
        "    res = comp_extractors( extractor_training_object )\n",
        "  File \"<ipython-input-23-91249bf1c046>\", line 19, in comp_extractors\n",
        "    extraction_results = get_extraction_results( eto )\n",
        "  File \"<ipython-input-22-35bdc612153c>\", line 10, in get_extraction_results\n",
        "    ret['python_readibilty'] = { 'extracted_html': extract_with_python_readability( raw_content ) }\n",
        "  File \"<ipython-input-8-5916dff6f29a>\", line 6, in extract_with_python_readability\n",
        "    return doc.short_title() + \"\\n\\n\" + doc.summary()\n",
        "  File \"/usr/local/lib/python2.7/dist-packages/readability/readability.py\", line 139, in short_title\n",
        "    return shorten_title(self._html(True))\n",
        "  File \"/usr/local/lib/python2.7/dist-packages/readability/readability.py\", line 119, in _html\n",
        "    self.html = self._parse(self.input)\n",
        "  File \"/usr/local/lib/python2.7/dist-packages/readability/readability.py\", line 123, in _parse\n",
        "    doc, self.encoding = build_doc(input)\n",
        "  File \"/usr/local/lib/python2.7/dist-packages/readability/htmls.py\", line 17, in build_doc\n",
        "    doc = lxml.html.document_fromstring(page_unicode.encode('utf-8', 'replace'), parser=utf8_parser)\n",
        "  File \"/usr/local/lib/python2.7/dist-packages/lxml/html/__init__.py\", line 568, in document_fromstring\n",
        "    value = etree.fromstring(html, parser, **kw)\n",
        "  File \"lxml.etree.pyx\", line 2997, in lxml.etree.fromstring (src/lxml/lxml.etree.c:63276)\n",
        "  File \"parser.pxi\", line 1617, in lxml.etree._parseMemoryDocument (src/lxml/lxml.etree.c:93691)\n",
        "  File \"parser.pxi\", line 1495, in lxml.etree._parseDoc (src/lxml/lxml.etree.c:92490)\n",
        "  File \"parser.pxi\", line 1011, in lxml.etree._BaseParser._parseDoc (src/lxml/lxml.etree.c:89130)\n",
        "  File \"parser.pxi\", line 577, in lxml.etree._ParserContext._handleParseResultDoc (src/lxml/lxml.etree.c:84831)\n",
        "  File \"parser.pxi\", line 676, in lxml.etree._handleParseResult (src/lxml/lxml.etree.c:85936)\n",
        "  File \"parser.pxi\", line 625, in lxml.etree._raiseParseError (src/lxml/lxml.etree.c:85392)\n",
        "XMLSyntaxError: line 1092: htmlParseEntityRef: no name\n",
        "Traceback (most recent call last):\n"
       ]
      },
      {
       "output_type": "stream",
       "stream": "stdout",
       "text": [
        "\n",
        "(<class 'lxml.etree.XMLSyntaxError'>, XMLSyntaxError(u'line 1092: htmlParseEntityRef: no name',), <traceback object at 0x7f564ec8d488>)\n",
        "processed  301\n",
        "skipped  111\n",
        "526399492\n",
        "error on download526399492"
       ]
      },
      {
       "output_type": "stream",
       "stream": "stderr",
       "text": [
        "  File \"<ipython-input-41-0e1172e16ab4>\", line 11, in <module>\n",
        "    res = comp_extractors( extractor_training_object )\n",
        "  File \"<ipython-input-23-91249bf1c046>\", line 19, in comp_extractors\n",
        "    extraction_results = get_extraction_results( eto )\n",
        "  File \"<ipython-input-22-35bdc612153c>\", line 10, in get_extraction_results\n",
        "    ret['python_readibilty'] = { 'extracted_html': extract_with_python_readability( raw_content ) }\n",
        "  File \"<ipython-input-8-5916dff6f29a>\", line 6, in extract_with_python_readability\n",
        "    return doc.short_title() + \"\\n\\n\" + doc.summary()\n",
        "  File \"/usr/local/lib/python2.7/dist-packages/readability/readability.py\", line 139, in short_title\n",
        "    return shorten_title(self._html(True))\n",
        "  File \"/usr/local/lib/python2.7/dist-packages/readability/readability.py\", line 119, in _html\n",
        "    self.html = self._parse(self.input)\n",
        "  File \"/usr/local/lib/python2.7/dist-packages/readability/readability.py\", line 123, in _parse\n",
        "    doc, self.encoding = build_doc(input)\n",
        "  File \"/usr/local/lib/python2.7/dist-packages/readability/htmls.py\", line 17, in build_doc\n",
        "    doc = lxml.html.document_fromstring(page_unicode.encode('utf-8', 'replace'), parser=utf8_parser)\n",
        "  File \"/usr/local/lib/python2.7/dist-packages/lxml/html/__init__.py\", line 568, in document_fromstring\n",
        "    value = etree.fromstring(html, parser, **kw)\n",
        "  File \"lxml.etree.pyx\", line 2997, in lxml.etree.fromstring (src/lxml/lxml.etree.c:63276)\n",
        "  File \"parser.pxi\", line 1617, in lxml.etree._parseMemoryDocument (src/lxml/lxml.etree.c:93691)\n",
        "  File \"parser.pxi\", line 1495, in lxml.etree._parseDoc (src/lxml/lxml.etree.c:92490)\n",
        "  File \"parser.pxi\", line 1011, in lxml.etree._BaseParser._parseDoc (src/lxml/lxml.etree.c:89130)\n",
        "  File \"parser.pxi\", line 577, in lxml.etree._ParserContext._handleParseResultDoc (src/lxml/lxml.etree.c:84831)\n",
        "  File \"parser.pxi\", line 676, in lxml.etree._handleParseResult (src/lxml/lxml.etree.c:85936)\n",
        "  File \"parser.pxi\", line 625, in lxml.etree._raiseParseError (src/lxml/lxml.etree.c:85392)\n",
        "XMLSyntaxError: line 1092: htmlParseEntityRef: no name\n",
        "Traceback (most recent call last):\n"
       ]
      },
      {
       "output_type": "stream",
       "stream": "stdout",
       "text": [
        "\n",
        "(<class 'lxml.etree.XMLSyntaxError'>, XMLSyntaxError(u'line 1092: htmlParseEntityRef: no name',), <traceback object at 0x7f564ec8dc68>)\n",
        "processed  301\n",
        "skipped  112\n",
        "526437284\n",
        "error on download526437284"
       ]
      },
      {
       "output_type": "stream",
       "stream": "stderr",
       "text": [
        "  File \"<ipython-input-41-0e1172e16ab4>\", line 11, in <module>\n",
        "    res = comp_extractors( extractor_training_object )\n",
        "  File \"<ipython-input-23-91249bf1c046>\", line 19, in comp_extractors\n",
        "    extraction_results = get_extraction_results( eto )\n",
        "  File \"<ipython-input-22-35bdc612153c>\", line 10, in get_extraction_results\n",
        "    ret['python_readibilty'] = { 'extracted_html': extract_with_python_readability( raw_content ) }\n",
        "  File \"<ipython-input-8-5916dff6f29a>\", line 6, in extract_with_python_readability\n",
        "    return doc.short_title() + \"\\n\\n\" + doc.summary()\n",
        "  File \"/usr/local/lib/python2.7/dist-packages/readability/readability.py\", line 139, in short_title\n",
        "    return shorten_title(self._html(True))\n",
        "  File \"/usr/local/lib/python2.7/dist-packages/readability/readability.py\", line 119, in _html\n",
        "    self.html = self._parse(self.input)\n",
        "  File \"/usr/local/lib/python2.7/dist-packages/readability/readability.py\", line 123, in _parse\n",
        "    doc, self.encoding = build_doc(input)\n",
        "  File \"/usr/local/lib/python2.7/dist-packages/readability/htmls.py\", line 17, in build_doc\n",
        "    doc = lxml.html.document_fromstring(page_unicode.encode('utf-8', 'replace'), parser=utf8_parser)\n",
        "  File \"/usr/local/lib/python2.7/dist-packages/lxml/html/__init__.py\", line 568, in document_fromstring\n",
        "    value = etree.fromstring(html, parser, **kw)\n",
        "  File \"lxml.etree.pyx\", line 2997, in lxml.etree.fromstring (src/lxml/lxml.etree.c:63276)\n",
        "  File \"parser.pxi\", line 1617, in lxml.etree._parseMemoryDocument (src/lxml/lxml.etree.c:93691)\n",
        "  File \"parser.pxi\", line 1495, in lxml.etree._parseDoc (src/lxml/lxml.etree.c:92490)\n",
        "  File \"parser.pxi\", line 1011, in lxml.etree._BaseParser._parseDoc (src/lxml/lxml.etree.c:89130)\n",
        "  File \"parser.pxi\", line 577, in lxml.etree._ParserContext._handleParseResultDoc (src/lxml/lxml.etree.c:84831)\n",
        "  File \"parser.pxi\", line 676, in lxml.etree._handleParseResult (src/lxml/lxml.etree.c:85936)\n",
        "  File \"parser.pxi\", line 625, in lxml.etree._raiseParseError (src/lxml/lxml.etree.c:85392)\n",
        "XMLSyntaxError: line 1092: htmlParseEntityRef: no name\n",
        "Traceback (most recent call last):\n"
       ]
      },
      {
       "output_type": "stream",
       "stream": "stdout",
       "text": [
        "\n",
        "(<class 'lxml.etree.XMLSyntaxError'>, XMLSyntaxError(u'line 1092: htmlParseEntityRef: no name',), <traceback object at 0x7f564ec9c1b8>)\n",
        "processed  301\n",
        "skipped  113\n",
        "526513004\n",
        "error on download526513004"
       ]
      },
      {
       "output_type": "stream",
       "stream": "stderr",
       "text": [
        "  File \"<ipython-input-41-0e1172e16ab4>\", line 11, in <module>\n",
        "    res = comp_extractors( extractor_training_object )\n",
        "  File \"<ipython-input-23-91249bf1c046>\", line 19, in comp_extractors\n",
        "    extraction_results = get_extraction_results( eto )\n",
        "  File \"<ipython-input-22-35bdc612153c>\", line 10, in get_extraction_results\n",
        "    ret['python_readibilty'] = { 'extracted_html': extract_with_python_readability( raw_content ) }\n",
        "  File \"<ipython-input-8-5916dff6f29a>\", line 6, in extract_with_python_readability\n",
        "    return doc.short_title() + \"\\n\\n\" + doc.summary()\n",
        "  File \"/usr/local/lib/python2.7/dist-packages/readability/readability.py\", line 139, in short_title\n",
        "    return shorten_title(self._html(True))\n",
        "  File \"/usr/local/lib/python2.7/dist-packages/readability/readability.py\", line 119, in _html\n",
        "    self.html = self._parse(self.input)\n",
        "  File \"/usr/local/lib/python2.7/dist-packages/readability/readability.py\", line 123, in _parse\n",
        "    doc, self.encoding = build_doc(input)\n",
        "  File \"/usr/local/lib/python2.7/dist-packages/readability/htmls.py\", line 17, in build_doc\n",
        "    doc = lxml.html.document_fromstring(page_unicode.encode('utf-8', 'replace'), parser=utf8_parser)\n",
        "  File \"/usr/local/lib/python2.7/dist-packages/lxml/html/__init__.py\", line 568, in document_fromstring\n",
        "    value = etree.fromstring(html, parser, **kw)\n",
        "  File \"lxml.etree.pyx\", line 2997, in lxml.etree.fromstring (src/lxml/lxml.etree.c:63276)\n",
        "  File \"parser.pxi\", line 1617, in lxml.etree._parseMemoryDocument (src/lxml/lxml.etree.c:93691)\n",
        "  File \"parser.pxi\", line 1495, in lxml.etree._parseDoc (src/lxml/lxml.etree.c:92490)\n",
        "  File \"parser.pxi\", line 1011, in lxml.etree._BaseParser._parseDoc (src/lxml/lxml.etree.c:89130)\n",
        "  File \"parser.pxi\", line 577, in lxml.etree._ParserContext._handleParseResultDoc (src/lxml/lxml.etree.c:84831)\n",
        "  File \"parser.pxi\", line 676, in lxml.etree._handleParseResult (src/lxml/lxml.etree.c:85936)\n",
        "  File \"parser.pxi\", line 625, in lxml.etree._raiseParseError (src/lxml/lxml.etree.c:85392)\n",
        "XMLSyntaxError: line 1092: htmlParseEntityRef: no name\n",
        "Traceback (most recent call last):\n"
       ]
      },
      {
       "output_type": "stream",
       "stream": "stdout",
       "text": [
        "\n",
        "(<class 'lxml.etree.XMLSyntaxError'>, XMLSyntaxError(u'line 1092: htmlParseEntityRef: no name',), <traceback object at 0x7f564ec9ca70>)\n",
        "processed  301\n",
        "skipped  114\n",
        "526972862\n",
        "error on download526972862"
       ]
      },
      {
       "output_type": "stream",
       "stream": "stderr",
       "text": [
        "  File \"<ipython-input-41-0e1172e16ab4>\", line 11, in <module>\n",
        "    res = comp_extractors( extractor_training_object )\n",
        "  File \"<ipython-input-23-91249bf1c046>\", line 19, in comp_extractors\n",
        "    extraction_results = get_extraction_results( eto )\n",
        "  File \"<ipython-input-22-35bdc612153c>\", line 10, in get_extraction_results\n",
        "    ret['python_readibilty'] = { 'extracted_html': extract_with_python_readability( raw_content ) }\n",
        "  File \"<ipython-input-8-5916dff6f29a>\", line 6, in extract_with_python_readability\n",
        "    return doc.short_title() + \"\\n\\n\" + doc.summary()\n",
        "  File \"/usr/local/lib/python2.7/dist-packages/readability/readability.py\", line 139, in short_title\n",
        "    return shorten_title(self._html(True))\n",
        "  File \"/usr/local/lib/python2.7/dist-packages/readability/readability.py\", line 119, in _html\n",
        "    self.html = self._parse(self.input)\n",
        "  File \"/usr/local/lib/python2.7/dist-packages/readability/readability.py\", line 123, in _parse\n",
        "    doc, self.encoding = build_doc(input)\n",
        "  File \"/usr/local/lib/python2.7/dist-packages/readability/htmls.py\", line 17, in build_doc\n",
        "    doc = lxml.html.document_fromstring(page_unicode.encode('utf-8', 'replace'), parser=utf8_parser)\n",
        "  File \"/usr/local/lib/python2.7/dist-packages/lxml/html/__init__.py\", line 568, in document_fromstring\n",
        "    value = etree.fromstring(html, parser, **kw)\n",
        "  File \"lxml.etree.pyx\", line 2997, in lxml.etree.fromstring (src/lxml/lxml.etree.c:63276)\n",
        "  File \"parser.pxi\", line 1617, in lxml.etree._parseMemoryDocument (src/lxml/lxml.etree.c:93691)\n",
        "  File \"parser.pxi\", line 1495, in lxml.etree._parseDoc (src/lxml/lxml.etree.c:92490)\n",
        "  File \"parser.pxi\", line 1011, in lxml.etree._BaseParser._parseDoc (src/lxml/lxml.etree.c:89130)\n",
        "  File \"parser.pxi\", line 577, in lxml.etree._ParserContext._handleParseResultDoc (src/lxml/lxml.etree.c:84831)\n",
        "  File \"parser.pxi\", line 676, in lxml.etree._handleParseResult (src/lxml/lxml.etree.c:85936)\n",
        "  File \"parser.pxi\", line 625, in lxml.etree._raiseParseError (src/lxml/lxml.etree.c:85392)\n",
        "XMLSyntaxError: line 1092: htmlParseEntityRef: no name\n",
        "Traceback (most recent call last):\n"
       ]
      },
      {
       "output_type": "stream",
       "stream": "stdout",
       "text": [
        "\n",
        "(<class 'lxml.etree.XMLSyntaxError'>, XMLSyntaxError(u'line 1092: htmlParseEntityRef: no name',), <traceback object at 0x7f564ec9c830>)\n",
        "processed  301\n",
        "skipped  115\n",
        "527258084\n",
        "error on download527258084"
       ]
      },
      {
       "output_type": "stream",
       "stream": "stderr",
       "text": [
        "  File \"<ipython-input-41-0e1172e16ab4>\", line 11, in <module>\n",
        "    res = comp_extractors( extractor_training_object )\n",
        "  File \"<ipython-input-23-91249bf1c046>\", line 19, in comp_extractors\n",
        "    extraction_results = get_extraction_results( eto )\n",
        "  File \"<ipython-input-22-35bdc612153c>\", line 10, in get_extraction_results\n",
        "    ret['python_readibilty'] = { 'extracted_html': extract_with_python_readability( raw_content ) }\n",
        "  File \"<ipython-input-8-5916dff6f29a>\", line 6, in extract_with_python_readability\n",
        "    return doc.short_title() + \"\\n\\n\" + doc.summary()\n",
        "  File \"/usr/local/lib/python2.7/dist-packages/readability/readability.py\", line 139, in short_title\n",
        "    return shorten_title(self._html(True))\n",
        "  File \"/usr/local/lib/python2.7/dist-packages/readability/readability.py\", line 119, in _html\n",
        "    self.html = self._parse(self.input)\n",
        "  File \"/usr/local/lib/python2.7/dist-packages/readability/readability.py\", line 123, in _parse\n",
        "    doc, self.encoding = build_doc(input)\n",
        "  File \"/usr/local/lib/python2.7/dist-packages/readability/htmls.py\", line 17, in build_doc\n",
        "    doc = lxml.html.document_fromstring(page_unicode.encode('utf-8', 'replace'), parser=utf8_parser)\n",
        "  File \"/usr/local/lib/python2.7/dist-packages/lxml/html/__init__.py\", line 568, in document_fromstring\n",
        "    value = etree.fromstring(html, parser, **kw)\n",
        "  File \"lxml.etree.pyx\", line 2997, in lxml.etree.fromstring (src/lxml/lxml.etree.c:63276)\n",
        "  File \"parser.pxi\", line 1617, in lxml.etree._parseMemoryDocument (src/lxml/lxml.etree.c:93691)\n",
        "  File \"parser.pxi\", line 1495, in lxml.etree._parseDoc (src/lxml/lxml.etree.c:92490)\n",
        "  File \"parser.pxi\", line 1011, in lxml.etree._BaseParser._parseDoc (src/lxml/lxml.etree.c:89130)\n",
        "  File \"parser.pxi\", line 577, in lxml.etree._ParserContext._handleParseResultDoc (src/lxml/lxml.etree.c:84831)\n",
        "  File \"parser.pxi\", line 676, in lxml.etree._handleParseResult (src/lxml/lxml.etree.c:85936)\n",
        "  File \"parser.pxi\", line 625, in lxml.etree._raiseParseError (src/lxml/lxml.etree.c:85392)\n",
        "XMLSyntaxError: line 1092: htmlParseEntityRef: no name\n",
        "Traceback (most recent call last):\n"
       ]
      },
      {
       "output_type": "stream",
       "stream": "stdout",
       "text": [
        "\n",
        "(<class 'lxml.etree.XMLSyntaxError'>, XMLSyntaxError(u'line 1092: htmlParseEntityRef: no name',), <traceback object at 0x7f564eca3290>)\n",
        "processed  301\n",
        "skipped  116\n",
        "528174162\n",
        "error on download528174162"
       ]
      },
      {
       "output_type": "stream",
       "stream": "stderr",
       "text": [
        "  File \"<ipython-input-41-0e1172e16ab4>\", line 11, in <module>\n",
        "    res = comp_extractors( extractor_training_object )\n",
        "  File \"<ipython-input-23-91249bf1c046>\", line 19, in comp_extractors\n",
        "    extraction_results = get_extraction_results( eto )\n",
        "  File \"<ipython-input-22-35bdc612153c>\", line 10, in get_extraction_results\n",
        "    ret['python_readibilty'] = { 'extracted_html': extract_with_python_readability( raw_content ) }\n",
        "  File \"<ipython-input-8-5916dff6f29a>\", line 6, in extract_with_python_readability\n",
        "    return doc.short_title() + \"\\n\\n\" + doc.summary()\n",
        "  File \"/usr/local/lib/python2.7/dist-packages/readability/readability.py\", line 139, in short_title\n",
        "    return shorten_title(self._html(True))\n",
        "  File \"/usr/local/lib/python2.7/dist-packages/readability/readability.py\", line 119, in _html\n",
        "    self.html = self._parse(self.input)\n",
        "  File \"/usr/local/lib/python2.7/dist-packages/readability/readability.py\", line 123, in _parse\n",
        "    doc, self.encoding = build_doc(input)\n",
        "  File \"/usr/local/lib/python2.7/dist-packages/readability/htmls.py\", line 17, in build_doc\n",
        "    doc = lxml.html.document_fromstring(page_unicode.encode('utf-8', 'replace'), parser=utf8_parser)\n",
        "  File \"/usr/local/lib/python2.7/dist-packages/lxml/html/__init__.py\", line 568, in document_fromstring\n",
        "    value = etree.fromstring(html, parser, **kw)\n",
        "  File \"lxml.etree.pyx\", line 2997, in lxml.etree.fromstring (src/lxml/lxml.etree.c:63276)\n",
        "  File \"parser.pxi\", line 1617, in lxml.etree._parseMemoryDocument (src/lxml/lxml.etree.c:93691)\n",
        "  File \"parser.pxi\", line 1495, in lxml.etree._parseDoc (src/lxml/lxml.etree.c:92490)\n",
        "  File \"parser.pxi\", line 1011, in lxml.etree._BaseParser._parseDoc (src/lxml/lxml.etree.c:89130)\n",
        "  File \"parser.pxi\", line 577, in lxml.etree._ParserContext._handleParseResultDoc (src/lxml/lxml.etree.c:84831)\n",
        "  File \"parser.pxi\", line 676, in lxml.etree._handleParseResult (src/lxml/lxml.etree.c:85936)\n",
        "  File \"parser.pxi\", line 625, in lxml.etree._raiseParseError (src/lxml/lxml.etree.c:85392)\n",
        "XMLSyntaxError: line 1092: htmlParseEntityRef: no name\n",
        "Traceback (most recent call last):\n"
       ]
      },
      {
       "output_type": "stream",
       "stream": "stdout",
       "text": [
        "\n",
        "(<class 'lxml.etree.XMLSyntaxError'>, XMLSyntaxError(u'line 1092: htmlParseEntityRef: no name',), <traceback object at 0x7f564eca3050>)\n",
        "processed  301\n",
        "skipped  117\n",
        "528717265\n",
        "error on download528717265"
       ]
      },
      {
       "output_type": "stream",
       "stream": "stderr",
       "text": [
        "  File \"<ipython-input-41-0e1172e16ab4>\", line 11, in <module>\n",
        "    res = comp_extractors( extractor_training_object )\n",
        "  File \"<ipython-input-23-91249bf1c046>\", line 19, in comp_extractors\n",
        "    extraction_results = get_extraction_results( eto )\n",
        "  File \"<ipython-input-22-35bdc612153c>\", line 10, in get_extraction_results\n",
        "    ret['python_readibilty'] = { 'extracted_html': extract_with_python_readability( raw_content ) }\n",
        "  File \"<ipython-input-8-5916dff6f29a>\", line 6, in extract_with_python_readability\n",
        "    return doc.short_title() + \"\\n\\n\" + doc.summary()\n",
        "  File \"/usr/local/lib/python2.7/dist-packages/readability/readability.py\", line 139, in short_title\n",
        "    return shorten_title(self._html(True))\n",
        "  File \"/usr/local/lib/python2.7/dist-packages/readability/readability.py\", line 119, in _html\n",
        "    self.html = self._parse(self.input)\n",
        "  File \"/usr/local/lib/python2.7/dist-packages/readability/readability.py\", line 123, in _parse\n",
        "    doc, self.encoding = build_doc(input)\n",
        "  File \"/usr/local/lib/python2.7/dist-packages/readability/htmls.py\", line 17, in build_doc\n",
        "    doc = lxml.html.document_fromstring(page_unicode.encode('utf-8', 'replace'), parser=utf8_parser)\n",
        "  File \"/usr/local/lib/python2.7/dist-packages/lxml/html/__init__.py\", line 568, in document_fromstring\n",
        "    value = etree.fromstring(html, parser, **kw)\n",
        "  File \"lxml.etree.pyx\", line 2997, in lxml.etree.fromstring (src/lxml/lxml.etree.c:63276)\n",
        "  File \"parser.pxi\", line 1617, in lxml.etree._parseMemoryDocument (src/lxml/lxml.etree.c:93691)\n",
        "  File \"parser.pxi\", line 1495, in lxml.etree._parseDoc (src/lxml/lxml.etree.c:92490)\n",
        "  File \"parser.pxi\", line 1011, in lxml.etree._BaseParser._parseDoc (src/lxml/lxml.etree.c:89130)\n",
        "  File \"parser.pxi\", line 577, in lxml.etree._ParserContext._handleParseResultDoc (src/lxml/lxml.etree.c:84831)\n",
        "  File \"parser.pxi\", line 676, in lxml.etree._handleParseResult (src/lxml/lxml.etree.c:85936)\n",
        "  File \"parser.pxi\", line 625, in lxml.etree._raiseParseError (src/lxml/lxml.etree.c:85392)\n",
        "XMLSyntaxError: line 1092: htmlParseEntityRef: no name\n",
        "Traceback (most recent call last):\n"
       ]
      },
      {
       "output_type": "stream",
       "stream": "stdout",
       "text": [
        "\n",
        "(<class 'lxml.etree.XMLSyntaxError'>, XMLSyntaxError(u'line 1092: htmlParseEntityRef: no name',), <traceback object at 0x7f564eca3c20>)\n",
        "processed  301\n",
        "skipped  118\n",
        "529134306\n",
        "error on download529134306"
       ]
      },
      {
       "output_type": "stream",
       "stream": "stderr",
       "text": [
        "  File \"<ipython-input-41-0e1172e16ab4>\", line 11, in <module>\n",
        "    res = comp_extractors( extractor_training_object )\n",
        "  File \"<ipython-input-23-91249bf1c046>\", line 19, in comp_extractors\n",
        "    extraction_results = get_extraction_results( eto )\n",
        "  File \"<ipython-input-22-35bdc612153c>\", line 10, in get_extraction_results\n",
        "    ret['python_readibilty'] = { 'extracted_html': extract_with_python_readability( raw_content ) }\n",
        "  File \"<ipython-input-8-5916dff6f29a>\", line 6, in extract_with_python_readability\n",
        "    return doc.short_title() + \"\\n\\n\" + doc.summary()\n",
        "  File \"/usr/local/lib/python2.7/dist-packages/readability/readability.py\", line 139, in short_title\n",
        "    return shorten_title(self._html(True))\n",
        "  File \"/usr/local/lib/python2.7/dist-packages/readability/readability.py\", line 119, in _html\n",
        "    self.html = self._parse(self.input)\n",
        "  File \"/usr/local/lib/python2.7/dist-packages/readability/readability.py\", line 123, in _parse\n",
        "    doc, self.encoding = build_doc(input)\n",
        "  File \"/usr/local/lib/python2.7/dist-packages/readability/htmls.py\", line 17, in build_doc\n",
        "    doc = lxml.html.document_fromstring(page_unicode.encode('utf-8', 'replace'), parser=utf8_parser)\n",
        "  File \"/usr/local/lib/python2.7/dist-packages/lxml/html/__init__.py\", line 568, in document_fromstring\n",
        "    value = etree.fromstring(html, parser, **kw)\n",
        "  File \"lxml.etree.pyx\", line 2997, in lxml.etree.fromstring (src/lxml/lxml.etree.c:63276)\n",
        "  File \"parser.pxi\", line 1617, in lxml.etree._parseMemoryDocument (src/lxml/lxml.etree.c:93691)\n",
        "  File \"parser.pxi\", line 1495, in lxml.etree._parseDoc (src/lxml/lxml.etree.c:92490)\n",
        "  File \"parser.pxi\", line 1011, in lxml.etree._BaseParser._parseDoc (src/lxml/lxml.etree.c:89130)\n",
        "  File \"parser.pxi\", line 577, in lxml.etree._ParserContext._handleParseResultDoc (src/lxml/lxml.etree.c:84831)\n",
        "  File \"parser.pxi\", line 676, in lxml.etree._handleParseResult (src/lxml/lxml.etree.c:85936)\n",
        "  File \"parser.pxi\", line 625, in lxml.etree._raiseParseError (src/lxml/lxml.etree.c:85392)\n",
        "XMLSyntaxError: line 1092: htmlParseEntityRef: no name\n",
        "Traceback (most recent call last):\n"
       ]
      },
      {
       "output_type": "stream",
       "stream": "stdout",
       "text": [
        "\n",
        "(<class 'lxml.etree.XMLSyntaxError'>, XMLSyntaxError(u'line 1092: htmlParseEntityRef: no name',), <traceback object at 0x7f564eca3f80>)\n",
        "processed  301\n",
        "skipped  119\n",
        "529174292\n",
        "error on download529174292"
       ]
      },
      {
       "output_type": "stream",
       "stream": "stderr",
       "text": [
        "  File \"<ipython-input-41-0e1172e16ab4>\", line 11, in <module>\n",
        "    res = comp_extractors( extractor_training_object )\n",
        "  File \"<ipython-input-23-91249bf1c046>\", line 19, in comp_extractors\n",
        "    extraction_results = get_extraction_results( eto )\n",
        "  File \"<ipython-input-22-35bdc612153c>\", line 10, in get_extraction_results\n",
        "    ret['python_readibilty'] = { 'extracted_html': extract_with_python_readability( raw_content ) }\n",
        "  File \"<ipython-input-8-5916dff6f29a>\", line 6, in extract_with_python_readability\n",
        "    return doc.short_title() + \"\\n\\n\" + doc.summary()\n",
        "  File \"/usr/local/lib/python2.7/dist-packages/readability/readability.py\", line 139, in short_title\n",
        "    return shorten_title(self._html(True))\n",
        "  File \"/usr/local/lib/python2.7/dist-packages/readability/readability.py\", line 119, in _html\n",
        "    self.html = self._parse(self.input)\n",
        "  File \"/usr/local/lib/python2.7/dist-packages/readability/readability.py\", line 123, in _parse\n",
        "    doc, self.encoding = build_doc(input)\n",
        "  File \"/usr/local/lib/python2.7/dist-packages/readability/htmls.py\", line 17, in build_doc\n",
        "    doc = lxml.html.document_fromstring(page_unicode.encode('utf-8', 'replace'), parser=utf8_parser)\n",
        "  File \"/usr/local/lib/python2.7/dist-packages/lxml/html/__init__.py\", line 568, in document_fromstring\n",
        "    value = etree.fromstring(html, parser, **kw)\n",
        "  File \"lxml.etree.pyx\", line 2997, in lxml.etree.fromstring (src/lxml/lxml.etree.c:63276)\n",
        "  File \"parser.pxi\", line 1617, in lxml.etree._parseMemoryDocument (src/lxml/lxml.etree.c:93691)\n",
        "  File \"parser.pxi\", line 1495, in lxml.etree._parseDoc (src/lxml/lxml.etree.c:92490)\n",
        "  File \"parser.pxi\", line 1011, in lxml.etree._BaseParser._parseDoc (src/lxml/lxml.etree.c:89130)\n",
        "  File \"parser.pxi\", line 577, in lxml.etree._ParserContext._handleParseResultDoc (src/lxml/lxml.etree.c:84831)\n",
        "  File \"parser.pxi\", line 676, in lxml.etree._handleParseResult (src/lxml/lxml.etree.c:85936)\n",
        "  File \"parser.pxi\", line 625, in lxml.etree._raiseParseError (src/lxml/lxml.etree.c:85392)\n",
        "XMLSyntaxError: line 1092: htmlParseEntityRef: no name\n",
        "Traceback (most recent call last):\n"
       ]
      },
      {
       "output_type": "stream",
       "stream": "stdout",
       "text": [
        "\n",
        "(<class 'lxml.etree.XMLSyntaxError'>, XMLSyntaxError(u'line 1092: htmlParseEntityRef: no name',), <traceback object at 0x7f564ec893f8>)\n",
        "processed  301\n",
        "skipped  120\n",
        "529318707\n",
        "error on download529318707"
       ]
      },
      {
       "output_type": "stream",
       "stream": "stderr",
       "text": [
        "  File \"<ipython-input-41-0e1172e16ab4>\", line 11, in <module>\n",
        "    res = comp_extractors( extractor_training_object )\n",
        "  File \"<ipython-input-23-91249bf1c046>\", line 19, in comp_extractors\n",
        "    extraction_results = get_extraction_results( eto )\n",
        "  File \"<ipython-input-22-35bdc612153c>\", line 10, in get_extraction_results\n",
        "    ret['python_readibilty'] = { 'extracted_html': extract_with_python_readability( raw_content ) }\n",
        "  File \"<ipython-input-8-5916dff6f29a>\", line 6, in extract_with_python_readability\n",
        "    return doc.short_title() + \"\\n\\n\" + doc.summary()\n",
        "  File \"/usr/local/lib/python2.7/dist-packages/readability/readability.py\", line 139, in short_title\n",
        "    return shorten_title(self._html(True))\n",
        "  File \"/usr/local/lib/python2.7/dist-packages/readability/readability.py\", line 119, in _html\n",
        "    self.html = self._parse(self.input)\n",
        "  File \"/usr/local/lib/python2.7/dist-packages/readability/readability.py\", line 123, in _parse\n",
        "    doc, self.encoding = build_doc(input)\n",
        "  File \"/usr/local/lib/python2.7/dist-packages/readability/htmls.py\", line 17, in build_doc\n",
        "    doc = lxml.html.document_fromstring(page_unicode.encode('utf-8', 'replace'), parser=utf8_parser)\n",
        "  File \"/usr/local/lib/python2.7/dist-packages/lxml/html/__init__.py\", line 568, in document_fromstring\n",
        "    value = etree.fromstring(html, parser, **kw)\n",
        "  File \"lxml.etree.pyx\", line 2997, in lxml.etree.fromstring (src/lxml/lxml.etree.c:63276)\n",
        "  File \"parser.pxi\", line 1617, in lxml.etree._parseMemoryDocument (src/lxml/lxml.etree.c:93691)\n",
        "  File \"parser.pxi\", line 1495, in lxml.etree._parseDoc (src/lxml/lxml.etree.c:92490)\n",
        "  File \"parser.pxi\", line 1011, in lxml.etree._BaseParser._parseDoc (src/lxml/lxml.etree.c:89130)\n",
        "  File \"parser.pxi\", line 577, in lxml.etree._ParserContext._handleParseResultDoc (src/lxml/lxml.etree.c:84831)\n",
        "  File \"parser.pxi\", line 676, in lxml.etree._handleParseResult (src/lxml/lxml.etree.c:85936)\n",
        "  File \"parser.pxi\", line 625, in lxml.etree._raiseParseError (src/lxml/lxml.etree.c:85392)\n",
        "XMLSyntaxError: line 1092: htmlParseEntityRef: no name\n",
        "Traceback (most recent call last):\n"
       ]
      },
      {
       "output_type": "stream",
       "stream": "stdout",
       "text": [
        "\n",
        "(<class 'lxml.etree.XMLSyntaxError'>, XMLSyntaxError(u'line 1092: htmlParseEntityRef: no name',), <traceback object at 0x7f564eca3b00>)\n",
        "processed  301\n",
        "skipped  121\n",
        "529350751\n",
        "error on download529350751"
       ]
      },
      {
       "output_type": "stream",
       "stream": "stderr",
       "text": [
        "  File \"<ipython-input-41-0e1172e16ab4>\", line 11, in <module>\n",
        "    res = comp_extractors( extractor_training_object )\n",
        "  File \"<ipython-input-23-91249bf1c046>\", line 19, in comp_extractors\n",
        "    extraction_results = get_extraction_results( eto )\n",
        "  File \"<ipython-input-22-35bdc612153c>\", line 10, in get_extraction_results\n",
        "    ret['python_readibilty'] = { 'extracted_html': extract_with_python_readability( raw_content ) }\n",
        "  File \"<ipython-input-8-5916dff6f29a>\", line 6, in extract_with_python_readability\n",
        "    return doc.short_title() + \"\\n\\n\" + doc.summary()\n",
        "  File \"/usr/local/lib/python2.7/dist-packages/readability/readability.py\", line 139, in short_title\n",
        "    return shorten_title(self._html(True))\n",
        "  File \"/usr/local/lib/python2.7/dist-packages/readability/readability.py\", line 119, in _html\n",
        "    self.html = self._parse(self.input)\n",
        "  File \"/usr/local/lib/python2.7/dist-packages/readability/readability.py\", line 123, in _parse\n",
        "    doc, self.encoding = build_doc(input)\n",
        "  File \"/usr/local/lib/python2.7/dist-packages/readability/htmls.py\", line 17, in build_doc\n",
        "    doc = lxml.html.document_fromstring(page_unicode.encode('utf-8', 'replace'), parser=utf8_parser)\n",
        "  File \"/usr/local/lib/python2.7/dist-packages/lxml/html/__init__.py\", line 568, in document_fromstring\n",
        "    value = etree.fromstring(html, parser, **kw)\n",
        "  File \"lxml.etree.pyx\", line 2997, in lxml.etree.fromstring (src/lxml/lxml.etree.c:63276)\n",
        "  File \"parser.pxi\", line 1617, in lxml.etree._parseMemoryDocument (src/lxml/lxml.etree.c:93691)\n",
        "  File \"parser.pxi\", line 1495, in lxml.etree._parseDoc (src/lxml/lxml.etree.c:92490)\n",
        "  File \"parser.pxi\", line 1011, in lxml.etree._BaseParser._parseDoc (src/lxml/lxml.etree.c:89130)\n",
        "  File \"parser.pxi\", line 577, in lxml.etree._ParserContext._handleParseResultDoc (src/lxml/lxml.etree.c:84831)\n",
        "  File \"parser.pxi\", line 676, in lxml.etree._handleParseResult (src/lxml/lxml.etree.c:85936)\n",
        "  File \"parser.pxi\", line 625, in lxml.etree._raiseParseError (src/lxml/lxml.etree.c:85392)\n",
        "XMLSyntaxError: line 1092: htmlParseEntityRef: no name\n",
        "Traceback (most recent call last):\n"
       ]
      },
      {
       "output_type": "stream",
       "stream": "stdout",
       "text": [
        "\n",
        "(<class 'lxml.etree.XMLSyntaxError'>, XMLSyntaxError(u'line 1092: htmlParseEntityRef: no name',), <traceback object at 0x7f564ec9c170>)\n",
        "processed  301\n",
        "skipped  122\n",
        "529500550\n",
        "error on download529500550"
       ]
      },
      {
       "output_type": "stream",
       "stream": "stderr",
       "text": [
        "  File \"<ipython-input-41-0e1172e16ab4>\", line 11, in <module>\n",
        "    res = comp_extractors( extractor_training_object )\n",
        "  File \"<ipython-input-23-91249bf1c046>\", line 19, in comp_extractors\n",
        "    extraction_results = get_extraction_results( eto )\n",
        "  File \"<ipython-input-22-35bdc612153c>\", line 10, in get_extraction_results\n",
        "    ret['python_readibilty'] = { 'extracted_html': extract_with_python_readability( raw_content ) }\n",
        "  File \"<ipython-input-8-5916dff6f29a>\", line 6, in extract_with_python_readability\n",
        "    return doc.short_title() + \"\\n\\n\" + doc.summary()\n",
        "  File \"/usr/local/lib/python2.7/dist-packages/readability/readability.py\", line 139, in short_title\n",
        "    return shorten_title(self._html(True))\n",
        "  File \"/usr/local/lib/python2.7/dist-packages/readability/readability.py\", line 119, in _html\n",
        "    self.html = self._parse(self.input)\n",
        "  File \"/usr/local/lib/python2.7/dist-packages/readability/readability.py\", line 123, in _parse\n",
        "    doc, self.encoding = build_doc(input)\n",
        "  File \"/usr/local/lib/python2.7/dist-packages/readability/htmls.py\", line 17, in build_doc\n",
        "    doc = lxml.html.document_fromstring(page_unicode.encode('utf-8', 'replace'), parser=utf8_parser)\n",
        "  File \"/usr/local/lib/python2.7/dist-packages/lxml/html/__init__.py\", line 568, in document_fromstring\n",
        "    value = etree.fromstring(html, parser, **kw)\n",
        "  File \"lxml.etree.pyx\", line 2997, in lxml.etree.fromstring (src/lxml/lxml.etree.c:63276)\n",
        "  File \"parser.pxi\", line 1617, in lxml.etree._parseMemoryDocument (src/lxml/lxml.etree.c:93691)\n",
        "  File \"parser.pxi\", line 1495, in lxml.etree._parseDoc (src/lxml/lxml.etree.c:92490)\n",
        "  File \"parser.pxi\", line 1011, in lxml.etree._BaseParser._parseDoc (src/lxml/lxml.etree.c:89130)\n",
        "  File \"parser.pxi\", line 577, in lxml.etree._ParserContext._handleParseResultDoc (src/lxml/lxml.etree.c:84831)\n",
        "  File \"parser.pxi\", line 676, in lxml.etree._handleParseResult (src/lxml/lxml.etree.c:85936)\n",
        "  File \"parser.pxi\", line 625, in lxml.etree._raiseParseError (src/lxml/lxml.etree.c:85392)\n",
        "XMLSyntaxError: line 1092: htmlParseEntityRef: no name\n",
        "Traceback (most recent call last):\n"
       ]
      },
      {
       "output_type": "stream",
       "stream": "stdout",
       "text": [
        "\n",
        "(<class 'lxml.etree.XMLSyntaxError'>, XMLSyntaxError(u'line 1092: htmlParseEntityRef: no name',), <traceback object at 0x7f564ec9c368>)\n",
        "processed  301\n",
        "skipped  123\n",
        "529638751\n",
        "error on download529638751"
       ]
      },
      {
       "output_type": "stream",
       "stream": "stderr",
       "text": [
        "  File \"<ipython-input-41-0e1172e16ab4>\", line 11, in <module>\n",
        "    res = comp_extractors( extractor_training_object )\n",
        "  File \"<ipython-input-23-91249bf1c046>\", line 19, in comp_extractors\n",
        "    extraction_results = get_extraction_results( eto )\n",
        "  File \"<ipython-input-22-35bdc612153c>\", line 10, in get_extraction_results\n",
        "    ret['python_readibilty'] = { 'extracted_html': extract_with_python_readability( raw_content ) }\n",
        "  File \"<ipython-input-8-5916dff6f29a>\", line 6, in extract_with_python_readability\n",
        "    return doc.short_title() + \"\\n\\n\" + doc.summary()\n",
        "  File \"/usr/local/lib/python2.7/dist-packages/readability/readability.py\", line 139, in short_title\n",
        "    return shorten_title(self._html(True))\n",
        "  File \"/usr/local/lib/python2.7/dist-packages/readability/readability.py\", line 119, in _html\n",
        "    self.html = self._parse(self.input)\n",
        "  File \"/usr/local/lib/python2.7/dist-packages/readability/readability.py\", line 123, in _parse\n",
        "    doc, self.encoding = build_doc(input)\n",
        "  File \"/usr/local/lib/python2.7/dist-packages/readability/htmls.py\", line 17, in build_doc\n",
        "    doc = lxml.html.document_fromstring(page_unicode.encode('utf-8', 'replace'), parser=utf8_parser)\n",
        "  File \"/usr/local/lib/python2.7/dist-packages/lxml/html/__init__.py\", line 568, in document_fromstring\n",
        "    value = etree.fromstring(html, parser, **kw)\n",
        "  File \"lxml.etree.pyx\", line 2997, in lxml.etree.fromstring (src/lxml/lxml.etree.c:63276)\n",
        "  File \"parser.pxi\", line 1617, in lxml.etree._parseMemoryDocument (src/lxml/lxml.etree.c:93691)\n",
        "  File \"parser.pxi\", line 1495, in lxml.etree._parseDoc (src/lxml/lxml.etree.c:92490)\n",
        "  File \"parser.pxi\", line 1011, in lxml.etree._BaseParser._parseDoc (src/lxml/lxml.etree.c:89130)\n",
        "  File \"parser.pxi\", line 577, in lxml.etree._ParserContext._handleParseResultDoc (src/lxml/lxml.etree.c:84831)\n",
        "  File \"parser.pxi\", line 676, in lxml.etree._handleParseResult (src/lxml/lxml.etree.c:85936)\n",
        "  File \"parser.pxi\", line 625, in lxml.etree._raiseParseError (src/lxml/lxml.etree.c:85392)\n",
        "XMLSyntaxError: line 1092: htmlParseEntityRef: no name\n",
        "Traceback (most recent call last):\n"
       ]
      },
      {
       "output_type": "stream",
       "stream": "stdout",
       "text": [
        "\n",
        "(<class 'lxml.etree.XMLSyntaxError'>, XMLSyntaxError(u'line 1092: htmlParseEntityRef: no name',), <traceback object at 0x7f564ec9c3b0>)\n",
        "processed  301\n",
        "skipped  124\n",
        "529645874\n",
        "error on download529645874"
       ]
      },
      {
       "output_type": "stream",
       "stream": "stderr",
       "text": [
        "  File \"<ipython-input-41-0e1172e16ab4>\", line 11, in <module>\n",
        "    res = comp_extractors( extractor_training_object )\n",
        "  File \"<ipython-input-23-91249bf1c046>\", line 19, in comp_extractors\n",
        "    extraction_results = get_extraction_results( eto )\n",
        "  File \"<ipython-input-22-35bdc612153c>\", line 10, in get_extraction_results\n",
        "    ret['python_readibilty'] = { 'extracted_html': extract_with_python_readability( raw_content ) }\n",
        "  File \"<ipython-input-8-5916dff6f29a>\", line 6, in extract_with_python_readability\n",
        "    return doc.short_title() + \"\\n\\n\" + doc.summary()\n",
        "  File \"/usr/local/lib/python2.7/dist-packages/readability/readability.py\", line 139, in short_title\n",
        "    return shorten_title(self._html(True))\n",
        "  File \"/usr/local/lib/python2.7/dist-packages/readability/readability.py\", line 119, in _html\n",
        "    self.html = self._parse(self.input)\n",
        "  File \"/usr/local/lib/python2.7/dist-packages/readability/readability.py\", line 123, in _parse\n",
        "    doc, self.encoding = build_doc(input)\n",
        "  File \"/usr/local/lib/python2.7/dist-packages/readability/htmls.py\", line 17, in build_doc\n",
        "    doc = lxml.html.document_fromstring(page_unicode.encode('utf-8', 'replace'), parser=utf8_parser)\n",
        "  File \"/usr/local/lib/python2.7/dist-packages/lxml/html/__init__.py\", line 568, in document_fromstring\n",
        "    value = etree.fromstring(html, parser, **kw)\n",
        "  File \"lxml.etree.pyx\", line 2997, in lxml.etree.fromstring (src/lxml/lxml.etree.c:63276)\n",
        "  File \"parser.pxi\", line 1617, in lxml.etree._parseMemoryDocument (src/lxml/lxml.etree.c:93691)\n",
        "  File \"parser.pxi\", line 1495, in lxml.etree._parseDoc (src/lxml/lxml.etree.c:92490)\n",
        "  File \"parser.pxi\", line 1011, in lxml.etree._BaseParser._parseDoc (src/lxml/lxml.etree.c:89130)\n",
        "  File \"parser.pxi\", line 577, in lxml.etree._ParserContext._handleParseResultDoc (src/lxml/lxml.etree.c:84831)\n",
        "  File \"parser.pxi\", line 676, in lxml.etree._handleParseResult (src/lxml/lxml.etree.c:85936)\n",
        "  File \"parser.pxi\", line 625, in lxml.etree._raiseParseError (src/lxml/lxml.etree.c:85392)\n",
        "XMLSyntaxError: line 1092: htmlParseEntityRef: no name\n",
        "Traceback (most recent call last):\n"
       ]
      },
      {
       "output_type": "stream",
       "stream": "stdout",
       "text": [
        "\n",
        "(<class 'lxml.etree.XMLSyntaxError'>, XMLSyntaxError(u'line 1092: htmlParseEntityRef: no name',), <traceback object at 0x7f564eca4cb0>)\n",
        "processed  301\n",
        "skipped  125\n",
        "529645941\n",
        "error on download529645941"
       ]
      },
      {
       "output_type": "stream",
       "stream": "stderr",
       "text": [
        "  File \"<ipython-input-41-0e1172e16ab4>\", line 11, in <module>\n",
        "    res = comp_extractors( extractor_training_object )\n",
        "  File \"<ipython-input-23-91249bf1c046>\", line 19, in comp_extractors\n",
        "    extraction_results = get_extraction_results( eto )\n",
        "  File \"<ipython-input-22-35bdc612153c>\", line 10, in get_extraction_results\n",
        "    ret['python_readibilty'] = { 'extracted_html': extract_with_python_readability( raw_content ) }\n",
        "  File \"<ipython-input-8-5916dff6f29a>\", line 6, in extract_with_python_readability\n",
        "    return doc.short_title() + \"\\n\\n\" + doc.summary()\n",
        "  File \"/usr/local/lib/python2.7/dist-packages/readability/readability.py\", line 139, in short_title\n",
        "    return shorten_title(self._html(True))\n",
        "  File \"/usr/local/lib/python2.7/dist-packages/readability/readability.py\", line 119, in _html\n",
        "    self.html = self._parse(self.input)\n",
        "  File \"/usr/local/lib/python2.7/dist-packages/readability/readability.py\", line 123, in _parse\n",
        "    doc, self.encoding = build_doc(input)\n",
        "  File \"/usr/local/lib/python2.7/dist-packages/readability/htmls.py\", line 17, in build_doc\n",
        "    doc = lxml.html.document_fromstring(page_unicode.encode('utf-8', 'replace'), parser=utf8_parser)\n",
        "  File \"/usr/local/lib/python2.7/dist-packages/lxml/html/__init__.py\", line 568, in document_fromstring\n",
        "    value = etree.fromstring(html, parser, **kw)\n",
        "  File \"lxml.etree.pyx\", line 2997, in lxml.etree.fromstring (src/lxml/lxml.etree.c:63276)\n",
        "  File \"parser.pxi\", line 1617, in lxml.etree._parseMemoryDocument (src/lxml/lxml.etree.c:93691)\n",
        "  File \"parser.pxi\", line 1495, in lxml.etree._parseDoc (src/lxml/lxml.etree.c:92490)\n",
        "  File \"parser.pxi\", line 1011, in lxml.etree._BaseParser._parseDoc (src/lxml/lxml.etree.c:89130)\n",
        "  File \"parser.pxi\", line 577, in lxml.etree._ParserContext._handleParseResultDoc (src/lxml/lxml.etree.c:84831)\n",
        "  File \"parser.pxi\", line 676, in lxml.etree._handleParseResult (src/lxml/lxml.etree.c:85936)\n",
        "  File \"parser.pxi\", line 625, in lxml.etree._raiseParseError (src/lxml/lxml.etree.c:85392)\n",
        "XMLSyntaxError: line 1092: htmlParseEntityRef: no name\n",
        "Traceback (most recent call last):\n"
       ]
      },
      {
       "output_type": "stream",
       "stream": "stdout",
       "text": [
        "\n",
        "(<class 'lxml.etree.XMLSyntaxError'>, XMLSyntaxError(u'line 1092: htmlParseEntityRef: no name',), <traceback object at 0x7f564eca4a70>)\n",
        "processed  301\n",
        "skipped  126\n",
        "529698279\n",
        "error on download529698279"
       ]
      },
      {
       "output_type": "stream",
       "stream": "stderr",
       "text": [
        "  File \"<ipython-input-41-0e1172e16ab4>\", line 11, in <module>\n",
        "    res = comp_extractors( extractor_training_object )\n",
        "  File \"<ipython-input-23-91249bf1c046>\", line 19, in comp_extractors\n",
        "    extraction_results = get_extraction_results( eto )\n",
        "  File \"<ipython-input-22-35bdc612153c>\", line 10, in get_extraction_results\n",
        "    ret['python_readibilty'] = { 'extracted_html': extract_with_python_readability( raw_content ) }\n",
        "  File \"<ipython-input-8-5916dff6f29a>\", line 6, in extract_with_python_readability\n",
        "    return doc.short_title() + \"\\n\\n\" + doc.summary()\n",
        "  File \"/usr/local/lib/python2.7/dist-packages/readability/readability.py\", line 139, in short_title\n",
        "    return shorten_title(self._html(True))\n",
        "  File \"/usr/local/lib/python2.7/dist-packages/readability/readability.py\", line 119, in _html\n",
        "    self.html = self._parse(self.input)\n",
        "  File \"/usr/local/lib/python2.7/dist-packages/readability/readability.py\", line 123, in _parse\n",
        "    doc, self.encoding = build_doc(input)\n",
        "  File \"/usr/local/lib/python2.7/dist-packages/readability/htmls.py\", line 17, in build_doc\n",
        "    doc = lxml.html.document_fromstring(page_unicode.encode('utf-8', 'replace'), parser=utf8_parser)\n",
        "  File \"/usr/local/lib/python2.7/dist-packages/lxml/html/__init__.py\", line 568, in document_fromstring\n",
        "    value = etree.fromstring(html, parser, **kw)\n",
        "  File \"lxml.etree.pyx\", line 2997, in lxml.etree.fromstring (src/lxml/lxml.etree.c:63276)\n",
        "  File \"parser.pxi\", line 1617, in lxml.etree._parseMemoryDocument (src/lxml/lxml.etree.c:93691)\n",
        "  File \"parser.pxi\", line 1495, in lxml.etree._parseDoc (src/lxml/lxml.etree.c:92490)\n",
        "  File \"parser.pxi\", line 1011, in lxml.etree._BaseParser._parseDoc (src/lxml/lxml.etree.c:89130)\n",
        "  File \"parser.pxi\", line 577, in lxml.etree._ParserContext._handleParseResultDoc (src/lxml/lxml.etree.c:84831)\n",
        "  File \"parser.pxi\", line 676, in lxml.etree._handleParseResult (src/lxml/lxml.etree.c:85936)\n",
        "  File \"parser.pxi\", line 625, in lxml.etree._raiseParseError (src/lxml/lxml.etree.c:85392)\n",
        "XMLSyntaxError: line 1092: htmlParseEntityRef: no name\n",
        "Traceback (most recent call last):\n"
       ]
      },
      {
       "output_type": "stream",
       "stream": "stdout",
       "text": [
        "\n",
        "(<class 'lxml.etree.XMLSyntaxError'>, XMLSyntaxError(u'line 1092: htmlParseEntityRef: no name',), <traceback object at 0x7f564eca4c68>)\n",
        "processed  301\n",
        "skipped  127\n",
        "529792413\n",
        "error on download529792413"
       ]
      },
      {
       "output_type": "stream",
       "stream": "stderr",
       "text": [
        "  File \"<ipython-input-41-0e1172e16ab4>\", line 11, in <module>\n",
        "    res = comp_extractors( extractor_training_object )\n",
        "  File \"<ipython-input-23-91249bf1c046>\", line 19, in comp_extractors\n",
        "    extraction_results = get_extraction_results( eto )\n",
        "  File \"<ipython-input-22-35bdc612153c>\", line 10, in get_extraction_results\n",
        "    ret['python_readibilty'] = { 'extracted_html': extract_with_python_readability( raw_content ) }\n",
        "  File \"<ipython-input-8-5916dff6f29a>\", line 6, in extract_with_python_readability\n",
        "    return doc.short_title() + \"\\n\\n\" + doc.summary()\n",
        "  File \"/usr/local/lib/python2.7/dist-packages/readability/readability.py\", line 139, in short_title\n",
        "    return shorten_title(self._html(True))\n",
        "  File \"/usr/local/lib/python2.7/dist-packages/readability/readability.py\", line 119, in _html\n",
        "    self.html = self._parse(self.input)\n",
        "  File \"/usr/local/lib/python2.7/dist-packages/readability/readability.py\", line 123, in _parse\n",
        "    doc, self.encoding = build_doc(input)\n",
        "  File \"/usr/local/lib/python2.7/dist-packages/readability/htmls.py\", line 17, in build_doc\n",
        "    doc = lxml.html.document_fromstring(page_unicode.encode('utf-8', 'replace'), parser=utf8_parser)\n",
        "  File \"/usr/local/lib/python2.7/dist-packages/lxml/html/__init__.py\", line 568, in document_fromstring\n",
        "    value = etree.fromstring(html, parser, **kw)\n",
        "  File \"lxml.etree.pyx\", line 2997, in lxml.etree.fromstring (src/lxml/lxml.etree.c:63276)\n",
        "  File \"parser.pxi\", line 1617, in lxml.etree._parseMemoryDocument (src/lxml/lxml.etree.c:93691)\n",
        "  File \"parser.pxi\", line 1495, in lxml.etree._parseDoc (src/lxml/lxml.etree.c:92490)\n",
        "  File \"parser.pxi\", line 1011, in lxml.etree._BaseParser._parseDoc (src/lxml/lxml.etree.c:89130)\n",
        "  File \"parser.pxi\", line 577, in lxml.etree._ParserContext._handleParseResultDoc (src/lxml/lxml.etree.c:84831)\n",
        "  File \"parser.pxi\", line 676, in lxml.etree._handleParseResult (src/lxml/lxml.etree.c:85936)\n",
        "  File \"parser.pxi\", line 625, in lxml.etree._raiseParseError (src/lxml/lxml.etree.c:85392)\n",
        "XMLSyntaxError: line 1092: htmlParseEntityRef: no name\n",
        "Traceback (most recent call last):\n"
       ]
      },
      {
       "output_type": "stream",
       "stream": "stdout",
       "text": [
        "\n",
        "(<class 'lxml.etree.XMLSyntaxError'>, XMLSyntaxError(u'line 1092: htmlParseEntityRef: no name',), <traceback object at 0x7f564eca4128>)\n",
        "processed  301\n",
        "skipped  128\n",
        "529835888\n",
        "error on download529835888"
       ]
      },
      {
       "output_type": "stream",
       "stream": "stderr",
       "text": [
        "  File \"<ipython-input-41-0e1172e16ab4>\", line 11, in <module>\n",
        "    res = comp_extractors( extractor_training_object )\n",
        "  File \"<ipython-input-23-91249bf1c046>\", line 19, in comp_extractors\n",
        "    extraction_results = get_extraction_results( eto )\n",
        "  File \"<ipython-input-22-35bdc612153c>\", line 10, in get_extraction_results\n",
        "    ret['python_readibilty'] = { 'extracted_html': extract_with_python_readability( raw_content ) }\n",
        "  File \"<ipython-input-8-5916dff6f29a>\", line 6, in extract_with_python_readability\n",
        "    return doc.short_title() + \"\\n\\n\" + doc.summary()\n",
        "  File \"/usr/local/lib/python2.7/dist-packages/readability/readability.py\", line 139, in short_title\n",
        "    return shorten_title(self._html(True))\n",
        "  File \"/usr/local/lib/python2.7/dist-packages/readability/readability.py\", line 119, in _html\n",
        "    self.html = self._parse(self.input)\n",
        "  File \"/usr/local/lib/python2.7/dist-packages/readability/readability.py\", line 123, in _parse\n",
        "    doc, self.encoding = build_doc(input)\n",
        "  File \"/usr/local/lib/python2.7/dist-packages/readability/htmls.py\", line 17, in build_doc\n",
        "    doc = lxml.html.document_fromstring(page_unicode.encode('utf-8', 'replace'), parser=utf8_parser)\n",
        "  File \"/usr/local/lib/python2.7/dist-packages/lxml/html/__init__.py\", line 568, in document_fromstring\n",
        "    value = etree.fromstring(html, parser, **kw)\n",
        "  File \"lxml.etree.pyx\", line 2997, in lxml.etree.fromstring (src/lxml/lxml.etree.c:63276)\n",
        "  File \"parser.pxi\", line 1617, in lxml.etree._parseMemoryDocument (src/lxml/lxml.etree.c:93691)\n",
        "  File \"parser.pxi\", line 1495, in lxml.etree._parseDoc (src/lxml/lxml.etree.c:92490)\n",
        "  File \"parser.pxi\", line 1011, in lxml.etree._BaseParser._parseDoc (src/lxml/lxml.etree.c:89130)\n",
        "  File \"parser.pxi\", line 577, in lxml.etree._ParserContext._handleParseResultDoc (src/lxml/lxml.etree.c:84831)\n",
        "  File \"parser.pxi\", line 676, in lxml.etree._handleParseResult (src/lxml/lxml.etree.c:85936)\n",
        "  File \"parser.pxi\", line 625, in lxml.etree._raiseParseError (src/lxml/lxml.etree.c:85392)\n",
        "XMLSyntaxError: line 1092: htmlParseEntityRef: no name\n",
        "Traceback (most recent call last):\n"
       ]
      },
      {
       "output_type": "stream",
       "stream": "stdout",
       "text": [
        "\n",
        "(<class 'lxml.etree.XMLSyntaxError'>, XMLSyntaxError(u'line 1092: htmlParseEntityRef: no name',), <traceback object at 0x7f564ecb3d88>)\n",
        "processed  301\n",
        "skipped  129\n",
        "529849320\n",
        "error on download529849320"
       ]
      },
      {
       "output_type": "stream",
       "stream": "stderr",
       "text": [
        "  File \"<ipython-input-41-0e1172e16ab4>\", line 11, in <module>\n",
        "    res = comp_extractors( extractor_training_object )\n",
        "  File \"<ipython-input-23-91249bf1c046>\", line 19, in comp_extractors\n",
        "    extraction_results = get_extraction_results( eto )\n",
        "  File \"<ipython-input-22-35bdc612153c>\", line 10, in get_extraction_results\n",
        "    ret['python_readibilty'] = { 'extracted_html': extract_with_python_readability( raw_content ) }\n",
        "  File \"<ipython-input-8-5916dff6f29a>\", line 6, in extract_with_python_readability\n",
        "    return doc.short_title() + \"\\n\\n\" + doc.summary()\n",
        "  File \"/usr/local/lib/python2.7/dist-packages/readability/readability.py\", line 139, in short_title\n",
        "    return shorten_title(self._html(True))\n",
        "  File \"/usr/local/lib/python2.7/dist-packages/readability/readability.py\", line 119, in _html\n",
        "    self.html = self._parse(self.input)\n",
        "  File \"/usr/local/lib/python2.7/dist-packages/readability/readability.py\", line 123, in _parse\n",
        "    doc, self.encoding = build_doc(input)\n",
        "  File \"/usr/local/lib/python2.7/dist-packages/readability/htmls.py\", line 17, in build_doc\n",
        "    doc = lxml.html.document_fromstring(page_unicode.encode('utf-8', 'replace'), parser=utf8_parser)\n",
        "  File \"/usr/local/lib/python2.7/dist-packages/lxml/html/__init__.py\", line 568, in document_fromstring\n",
        "    value = etree.fromstring(html, parser, **kw)\n",
        "  File \"lxml.etree.pyx\", line 2997, in lxml.etree.fromstring (src/lxml/lxml.etree.c:63276)\n",
        "  File \"parser.pxi\", line 1617, in lxml.etree._parseMemoryDocument (src/lxml/lxml.etree.c:93691)\n",
        "  File \"parser.pxi\", line 1495, in lxml.etree._parseDoc (src/lxml/lxml.etree.c:92490)\n",
        "  File \"parser.pxi\", line 1011, in lxml.etree._BaseParser._parseDoc (src/lxml/lxml.etree.c:89130)\n",
        "  File \"parser.pxi\", line 577, in lxml.etree._ParserContext._handleParseResultDoc (src/lxml/lxml.etree.c:84831)\n",
        "  File \"parser.pxi\", line 676, in lxml.etree._handleParseResult (src/lxml/lxml.etree.c:85936)\n",
        "  File \"parser.pxi\", line 625, in lxml.etree._raiseParseError (src/lxml/lxml.etree.c:85392)\n",
        "XMLSyntaxError: line 1092: htmlParseEntityRef: no name\n",
        "Traceback (most recent call last):\n"
       ]
      },
      {
       "output_type": "stream",
       "stream": "stdout",
       "text": [
        "\n",
        "(<class 'lxml.etree.XMLSyntaxError'>, XMLSyntaxError(u'line 1092: htmlParseEntityRef: no name',), <traceback object at 0x7f564ecb3710>)\n",
        "processed  301\n",
        "skipped  130\n",
        "529860654\n",
        "error on download529860654"
       ]
      },
      {
       "output_type": "stream",
       "stream": "stderr",
       "text": [
        "  File \"<ipython-input-41-0e1172e16ab4>\", line 11, in <module>\n",
        "    res = comp_extractors( extractor_training_object )\n",
        "  File \"<ipython-input-23-91249bf1c046>\", line 19, in comp_extractors\n",
        "    extraction_results = get_extraction_results( eto )\n",
        "  File \"<ipython-input-22-35bdc612153c>\", line 10, in get_extraction_results\n",
        "    ret['python_readibilty'] = { 'extracted_html': extract_with_python_readability( raw_content ) }\n",
        "  File \"<ipython-input-8-5916dff6f29a>\", line 6, in extract_with_python_readability\n",
        "    return doc.short_title() + \"\\n\\n\" + doc.summary()\n",
        "  File \"/usr/local/lib/python2.7/dist-packages/readability/readability.py\", line 139, in short_title\n",
        "    return shorten_title(self._html(True))\n",
        "  File \"/usr/local/lib/python2.7/dist-packages/readability/readability.py\", line 119, in _html\n",
        "    self.html = self._parse(self.input)\n",
        "  File \"/usr/local/lib/python2.7/dist-packages/readability/readability.py\", line 123, in _parse\n",
        "    doc, self.encoding = build_doc(input)\n",
        "  File \"/usr/local/lib/python2.7/dist-packages/readability/htmls.py\", line 17, in build_doc\n",
        "    doc = lxml.html.document_fromstring(page_unicode.encode('utf-8', 'replace'), parser=utf8_parser)\n",
        "  File \"/usr/local/lib/python2.7/dist-packages/lxml/html/__init__.py\", line 568, in document_fromstring\n",
        "    value = etree.fromstring(html, parser, **kw)\n",
        "  File \"lxml.etree.pyx\", line 2997, in lxml.etree.fromstring (src/lxml/lxml.etree.c:63276)\n",
        "  File \"parser.pxi\", line 1617, in lxml.etree._parseMemoryDocument (src/lxml/lxml.etree.c:93691)\n",
        "  File \"parser.pxi\", line 1495, in lxml.etree._parseDoc (src/lxml/lxml.etree.c:92490)\n",
        "  File \"parser.pxi\", line 1011, in lxml.etree._BaseParser._parseDoc (src/lxml/lxml.etree.c:89130)\n",
        "  File \"parser.pxi\", line 577, in lxml.etree._ParserContext._handleParseResultDoc (src/lxml/lxml.etree.c:84831)\n",
        "  File \"parser.pxi\", line 676, in lxml.etree._handleParseResult (src/lxml/lxml.etree.c:85936)\n",
        "  File \"parser.pxi\", line 625, in lxml.etree._raiseParseError (src/lxml/lxml.etree.c:85392)\n",
        "XMLSyntaxError: line 1092: htmlParseEntityRef: no name\n",
        "Traceback (most recent call last):\n"
       ]
      },
      {
       "output_type": "stream",
       "stream": "stdout",
       "text": [
        "\n",
        "(<class 'lxml.etree.XMLSyntaxError'>, XMLSyntaxError(u'line 1092: htmlParseEntityRef: no name',), <traceback object at 0x7f564ecb3b90>)\n",
        "processed  301\n",
        "skipped  131\n",
        "529872483\n",
        "error on download529872483"
       ]
      },
      {
       "output_type": "stream",
       "stream": "stderr",
       "text": [
        "  File \"<ipython-input-41-0e1172e16ab4>\", line 11, in <module>\n",
        "    res = comp_extractors( extractor_training_object )\n",
        "  File \"<ipython-input-23-91249bf1c046>\", line 19, in comp_extractors\n",
        "    extraction_results = get_extraction_results( eto )\n",
        "  File \"<ipython-input-22-35bdc612153c>\", line 10, in get_extraction_results\n",
        "    ret['python_readibilty'] = { 'extracted_html': extract_with_python_readability( raw_content ) }\n",
        "  File \"<ipython-input-8-5916dff6f29a>\", line 6, in extract_with_python_readability\n",
        "    return doc.short_title() + \"\\n\\n\" + doc.summary()\n",
        "  File \"/usr/local/lib/python2.7/dist-packages/readability/readability.py\", line 139, in short_title\n",
        "    return shorten_title(self._html(True))\n",
        "  File \"/usr/local/lib/python2.7/dist-packages/readability/readability.py\", line 119, in _html\n",
        "    self.html = self._parse(self.input)\n",
        "  File \"/usr/local/lib/python2.7/dist-packages/readability/readability.py\", line 123, in _parse\n",
        "    doc, self.encoding = build_doc(input)\n",
        "  File \"/usr/local/lib/python2.7/dist-packages/readability/htmls.py\", line 17, in build_doc\n",
        "    doc = lxml.html.document_fromstring(page_unicode.encode('utf-8', 'replace'), parser=utf8_parser)\n",
        "  File \"/usr/local/lib/python2.7/dist-packages/lxml/html/__init__.py\", line 568, in document_fromstring\n",
        "    value = etree.fromstring(html, parser, **kw)\n",
        "  File \"lxml.etree.pyx\", line 2997, in lxml.etree.fromstring (src/lxml/lxml.etree.c:63276)\n",
        "  File \"parser.pxi\", line 1617, in lxml.etree._parseMemoryDocument (src/lxml/lxml.etree.c:93691)\n",
        "  File \"parser.pxi\", line 1495, in lxml.etree._parseDoc (src/lxml/lxml.etree.c:92490)\n",
        "  File \"parser.pxi\", line 1011, in lxml.etree._BaseParser._parseDoc (src/lxml/lxml.etree.c:89130)\n",
        "  File \"parser.pxi\", line 577, in lxml.etree._ParserContext._handleParseResultDoc (src/lxml/lxml.etree.c:84831)\n",
        "  File \"parser.pxi\", line 676, in lxml.etree._handleParseResult (src/lxml/lxml.etree.c:85936)\n",
        "  File \"parser.pxi\", line 625, in lxml.etree._raiseParseError (src/lxml/lxml.etree.c:85392)\n",
        "XMLSyntaxError: line 1092: htmlParseEntityRef: no name\n",
        "Traceback (most recent call last):\n"
       ]
      },
      {
       "output_type": "stream",
       "stream": "stdout",
       "text": [
        "\n",
        "(<class 'lxml.etree.XMLSyntaxError'>, XMLSyntaxError(u'line 1092: htmlParseEntityRef: no name',), <traceback object at 0x7f564ea72ab8>)\n",
        "processed  301\n",
        "skipped  132\n",
        "529878837\n",
        "error on download529878837"
       ]
      },
      {
       "output_type": "stream",
       "stream": "stderr",
       "text": [
        "  File \"<ipython-input-41-0e1172e16ab4>\", line 11, in <module>\n",
        "    res = comp_extractors( extractor_training_object )\n",
        "  File \"<ipython-input-23-91249bf1c046>\", line 19, in comp_extractors\n",
        "    extraction_results = get_extraction_results( eto )\n",
        "  File \"<ipython-input-22-35bdc612153c>\", line 10, in get_extraction_results\n",
        "    ret['python_readibilty'] = { 'extracted_html': extract_with_python_readability( raw_content ) }\n",
        "  File \"<ipython-input-8-5916dff6f29a>\", line 6, in extract_with_python_readability\n",
        "    return doc.short_title() + \"\\n\\n\" + doc.summary()\n",
        "  File \"/usr/local/lib/python2.7/dist-packages/readability/readability.py\", line 139, in short_title\n",
        "    return shorten_title(self._html(True))\n",
        "  File \"/usr/local/lib/python2.7/dist-packages/readability/readability.py\", line 119, in _html\n",
        "    self.html = self._parse(self.input)\n",
        "  File \"/usr/local/lib/python2.7/dist-packages/readability/readability.py\", line 123, in _parse\n",
        "    doc, self.encoding = build_doc(input)\n",
        "  File \"/usr/local/lib/python2.7/dist-packages/readability/htmls.py\", line 17, in build_doc\n",
        "    doc = lxml.html.document_fromstring(page_unicode.encode('utf-8', 'replace'), parser=utf8_parser)\n",
        "  File \"/usr/local/lib/python2.7/dist-packages/lxml/html/__init__.py\", line 568, in document_fromstring\n",
        "    value = etree.fromstring(html, parser, **kw)\n",
        "  File \"lxml.etree.pyx\", line 2997, in lxml.etree.fromstring (src/lxml/lxml.etree.c:63276)\n",
        "  File \"parser.pxi\", line 1617, in lxml.etree._parseMemoryDocument (src/lxml/lxml.etree.c:93691)\n",
        "  File \"parser.pxi\", line 1495, in lxml.etree._parseDoc (src/lxml/lxml.etree.c:92490)\n",
        "  File \"parser.pxi\", line 1011, in lxml.etree._BaseParser._parseDoc (src/lxml/lxml.etree.c:89130)\n",
        "  File \"parser.pxi\", line 577, in lxml.etree._ParserContext._handleParseResultDoc (src/lxml/lxml.etree.c:84831)\n",
        "  File \"parser.pxi\", line 676, in lxml.etree._handleParseResult (src/lxml/lxml.etree.c:85936)\n",
        "  File \"parser.pxi\", line 625, in lxml.etree._raiseParseError (src/lxml/lxml.etree.c:85392)\n",
        "XMLSyntaxError: line 1092: htmlParseEntityRef: no name\n",
        "Traceback (most recent call last):\n"
       ]
      },
      {
       "output_type": "stream",
       "stream": "stdout",
       "text": [
        "\n",
        "(<class 'lxml.etree.XMLSyntaxError'>, XMLSyntaxError(u'line 1092: htmlParseEntityRef: no name',), <traceback object at 0x7f564ea72320>)\n",
        "processed  301\n",
        "skipped  133\n",
        "529887477\n",
        "error on download529887477"
       ]
      },
      {
       "output_type": "stream",
       "stream": "stderr",
       "text": [
        "  File \"<ipython-input-41-0e1172e16ab4>\", line 11, in <module>\n",
        "    res = comp_extractors( extractor_training_object )\n",
        "  File \"<ipython-input-23-91249bf1c046>\", line 19, in comp_extractors\n",
        "    extraction_results = get_extraction_results( eto )\n",
        "  File \"<ipython-input-22-35bdc612153c>\", line 10, in get_extraction_results\n",
        "    ret['python_readibilty'] = { 'extracted_html': extract_with_python_readability( raw_content ) }\n",
        "  File \"<ipython-input-8-5916dff6f29a>\", line 6, in extract_with_python_readability\n",
        "    return doc.short_title() + \"\\n\\n\" + doc.summary()\n",
        "  File \"/usr/local/lib/python2.7/dist-packages/readability/readability.py\", line 139, in short_title\n",
        "    return shorten_title(self._html(True))\n",
        "  File \"/usr/local/lib/python2.7/dist-packages/readability/readability.py\", line 119, in _html\n",
        "    self.html = self._parse(self.input)\n",
        "  File \"/usr/local/lib/python2.7/dist-packages/readability/readability.py\", line 123, in _parse\n",
        "    doc, self.encoding = build_doc(input)\n",
        "  File \"/usr/local/lib/python2.7/dist-packages/readability/htmls.py\", line 17, in build_doc\n",
        "    doc = lxml.html.document_fromstring(page_unicode.encode('utf-8', 'replace'), parser=utf8_parser)\n",
        "  File \"/usr/local/lib/python2.7/dist-packages/lxml/html/__init__.py\", line 568, in document_fromstring\n",
        "    value = etree.fromstring(html, parser, **kw)\n",
        "  File \"lxml.etree.pyx\", line 2997, in lxml.etree.fromstring (src/lxml/lxml.etree.c:63276)\n",
        "  File \"parser.pxi\", line 1617, in lxml.etree._parseMemoryDocument (src/lxml/lxml.etree.c:93691)\n",
        "  File \"parser.pxi\", line 1495, in lxml.etree._parseDoc (src/lxml/lxml.etree.c:92490)\n",
        "  File \"parser.pxi\", line 1011, in lxml.etree._BaseParser._parseDoc (src/lxml/lxml.etree.c:89130)\n",
        "  File \"parser.pxi\", line 577, in lxml.etree._ParserContext._handleParseResultDoc (src/lxml/lxml.etree.c:84831)\n",
        "  File \"parser.pxi\", line 676, in lxml.etree._handleParseResult (src/lxml/lxml.etree.c:85936)\n",
        "  File \"parser.pxi\", line 625, in lxml.etree._raiseParseError (src/lxml/lxml.etree.c:85392)\n",
        "XMLSyntaxError: line 1092: htmlParseEntityRef: no name\n",
        "Traceback (most recent call last):\n"
       ]
      },
      {
       "output_type": "stream",
       "stream": "stdout",
       "text": [
        "\n",
        "(<class 'lxml.etree.XMLSyntaxError'>, XMLSyntaxError(u'line 1092: htmlParseEntityRef: no name',), <traceback object at 0x7f564ee2dc20>)\n",
        "processed  301\n",
        "skipped  134\n",
        "529897403\n",
        "error on download529897403"
       ]
      },
      {
       "output_type": "stream",
       "stream": "stderr",
       "text": [
        "  File \"<ipython-input-41-0e1172e16ab4>\", line 11, in <module>\n",
        "    res = comp_extractors( extractor_training_object )\n",
        "  File \"<ipython-input-23-91249bf1c046>\", line 19, in comp_extractors\n",
        "    extraction_results = get_extraction_results( eto )\n",
        "  File \"<ipython-input-22-35bdc612153c>\", line 10, in get_extraction_results\n",
        "    ret['python_readibilty'] = { 'extracted_html': extract_with_python_readability( raw_content ) }\n",
        "  File \"<ipython-input-8-5916dff6f29a>\", line 6, in extract_with_python_readability\n",
        "    return doc.short_title() + \"\\n\\n\" + doc.summary()\n",
        "  File \"/usr/local/lib/python2.7/dist-packages/readability/readability.py\", line 139, in short_title\n",
        "    return shorten_title(self._html(True))\n",
        "  File \"/usr/local/lib/python2.7/dist-packages/readability/readability.py\", line 119, in _html\n",
        "    self.html = self._parse(self.input)\n",
        "  File \"/usr/local/lib/python2.7/dist-packages/readability/readability.py\", line 123, in _parse\n",
        "    doc, self.encoding = build_doc(input)\n",
        "  File \"/usr/local/lib/python2.7/dist-packages/readability/htmls.py\", line 17, in build_doc\n",
        "    doc = lxml.html.document_fromstring(page_unicode.encode('utf-8', 'replace'), parser=utf8_parser)\n",
        "  File \"/usr/local/lib/python2.7/dist-packages/lxml/html/__init__.py\", line 568, in document_fromstring\n",
        "    value = etree.fromstring(html, parser, **kw)\n",
        "  File \"lxml.etree.pyx\", line 2997, in lxml.etree.fromstring (src/lxml/lxml.etree.c:63276)\n",
        "  File \"parser.pxi\", line 1617, in lxml.etree._parseMemoryDocument (src/lxml/lxml.etree.c:93691)\n",
        "  File \"parser.pxi\", line 1495, in lxml.etree._parseDoc (src/lxml/lxml.etree.c:92490)\n",
        "  File \"parser.pxi\", line 1011, in lxml.etree._BaseParser._parseDoc (src/lxml/lxml.etree.c:89130)\n",
        "  File \"parser.pxi\", line 577, in lxml.etree._ParserContext._handleParseResultDoc (src/lxml/lxml.etree.c:84831)\n",
        "  File \"parser.pxi\", line 676, in lxml.etree._handleParseResult (src/lxml/lxml.etree.c:85936)\n",
        "  File \"parser.pxi\", line 625, in lxml.etree._raiseParseError (src/lxml/lxml.etree.c:85392)\n",
        "XMLSyntaxError: line 1092: htmlParseEntityRef: no name\n",
        "Traceback (most recent call last):\n"
       ]
      },
      {
       "output_type": "stream",
       "stream": "stdout",
       "text": [
        "\n",
        "(<class 'lxml.etree.XMLSyntaxError'>, XMLSyntaxError(u'line 1092: htmlParseEntityRef: no name',), <traceback object at 0x7f564eb6d710>)\n",
        "processed  301\n",
        "skipped  135\n",
        "529897845\n",
        "error on download529897845"
       ]
      },
      {
       "output_type": "stream",
       "stream": "stderr",
       "text": [
        "  File \"<ipython-input-41-0e1172e16ab4>\", line 11, in <module>\n",
        "    res = comp_extractors( extractor_training_object )\n",
        "  File \"<ipython-input-23-91249bf1c046>\", line 19, in comp_extractors\n",
        "    extraction_results = get_extraction_results( eto )\n",
        "  File \"<ipython-input-22-35bdc612153c>\", line 10, in get_extraction_results\n",
        "    ret['python_readibilty'] = { 'extracted_html': extract_with_python_readability( raw_content ) }\n",
        "  File \"<ipython-input-8-5916dff6f29a>\", line 6, in extract_with_python_readability\n",
        "    return doc.short_title() + \"\\n\\n\" + doc.summary()\n",
        "  File \"/usr/local/lib/python2.7/dist-packages/readability/readability.py\", line 139, in short_title\n",
        "    return shorten_title(self._html(True))\n",
        "  File \"/usr/local/lib/python2.7/dist-packages/readability/readability.py\", line 119, in _html\n",
        "    self.html = self._parse(self.input)\n",
        "  File \"/usr/local/lib/python2.7/dist-packages/readability/readability.py\", line 123, in _parse\n",
        "    doc, self.encoding = build_doc(input)\n",
        "  File \"/usr/local/lib/python2.7/dist-packages/readability/htmls.py\", line 17, in build_doc\n",
        "    doc = lxml.html.document_fromstring(page_unicode.encode('utf-8', 'replace'), parser=utf8_parser)\n",
        "  File \"/usr/local/lib/python2.7/dist-packages/lxml/html/__init__.py\", line 568, in document_fromstring\n",
        "    value = etree.fromstring(html, parser, **kw)\n",
        "  File \"lxml.etree.pyx\", line 2997, in lxml.etree.fromstring (src/lxml/lxml.etree.c:63276)\n",
        "  File \"parser.pxi\", line 1617, in lxml.etree._parseMemoryDocument (src/lxml/lxml.etree.c:93691)\n",
        "  File \"parser.pxi\", line 1495, in lxml.etree._parseDoc (src/lxml/lxml.etree.c:92490)\n",
        "  File \"parser.pxi\", line 1011, in lxml.etree._BaseParser._parseDoc (src/lxml/lxml.etree.c:89130)\n",
        "  File \"parser.pxi\", line 577, in lxml.etree._ParserContext._handleParseResultDoc (src/lxml/lxml.etree.c:84831)\n",
        "  File \"parser.pxi\", line 676, in lxml.etree._handleParseResult (src/lxml/lxml.etree.c:85936)\n",
        "  File \"parser.pxi\", line 625, in lxml.etree._raiseParseError (src/lxml/lxml.etree.c:85392)\n",
        "XMLSyntaxError: line 1092: htmlParseEntityRef: no name\n",
        "Traceback (most recent call last):\n"
       ]
      },
      {
       "output_type": "stream",
       "stream": "stdout",
       "text": [
        "\n",
        "(<class 'lxml.etree.XMLSyntaxError'>, XMLSyntaxError(u'line 1092: htmlParseEntityRef: no name',), <traceback object at 0x7f564eb6dc68>)\n",
        "processed  301\n",
        "skipped  136\n",
        "529985569\n",
        "error on download529985569"
       ]
      },
      {
       "output_type": "stream",
       "stream": "stderr",
       "text": [
        "  File \"<ipython-input-41-0e1172e16ab4>\", line 11, in <module>\n",
        "    res = comp_extractors( extractor_training_object )\n",
        "  File \"<ipython-input-23-91249bf1c046>\", line 19, in comp_extractors\n",
        "    extraction_results = get_extraction_results( eto )\n",
        "  File \"<ipython-input-22-35bdc612153c>\", line 10, in get_extraction_results\n",
        "    ret['python_readibilty'] = { 'extracted_html': extract_with_python_readability( raw_content ) }\n",
        "  File \"<ipython-input-8-5916dff6f29a>\", line 6, in extract_with_python_readability\n",
        "    return doc.short_title() + \"\\n\\n\" + doc.summary()\n",
        "  File \"/usr/local/lib/python2.7/dist-packages/readability/readability.py\", line 139, in short_title\n",
        "    return shorten_title(self._html(True))\n",
        "  File \"/usr/local/lib/python2.7/dist-packages/readability/readability.py\", line 119, in _html\n",
        "    self.html = self._parse(self.input)\n",
        "  File \"/usr/local/lib/python2.7/dist-packages/readability/readability.py\", line 123, in _parse\n",
        "    doc, self.encoding = build_doc(input)\n",
        "  File \"/usr/local/lib/python2.7/dist-packages/readability/htmls.py\", line 17, in build_doc\n",
        "    doc = lxml.html.document_fromstring(page_unicode.encode('utf-8', 'replace'), parser=utf8_parser)\n",
        "  File \"/usr/local/lib/python2.7/dist-packages/lxml/html/__init__.py\", line 568, in document_fromstring\n",
        "    value = etree.fromstring(html, parser, **kw)\n",
        "  File \"lxml.etree.pyx\", line 2997, in lxml.etree.fromstring (src/lxml/lxml.etree.c:63276)\n",
        "  File \"parser.pxi\", line 1617, in lxml.etree._parseMemoryDocument (src/lxml/lxml.etree.c:93691)\n",
        "  File \"parser.pxi\", line 1495, in lxml.etree._parseDoc (src/lxml/lxml.etree.c:92490)\n",
        "  File \"parser.pxi\", line 1011, in lxml.etree._BaseParser._parseDoc (src/lxml/lxml.etree.c:89130)\n",
        "  File \"parser.pxi\", line 577, in lxml.etree._ParserContext._handleParseResultDoc (src/lxml/lxml.etree.c:84831)\n",
        "  File \"parser.pxi\", line 676, in lxml.etree._handleParseResult (src/lxml/lxml.etree.c:85936)\n",
        "  File \"parser.pxi\", line 625, in lxml.etree._raiseParseError (src/lxml/lxml.etree.c:85392)\n",
        "XMLSyntaxError: line 1092: htmlParseEntityRef: no name\n",
        "Traceback (most recent call last):\n"
       ]
      },
      {
       "output_type": "stream",
       "stream": "stdout",
       "text": [
        "\n",
        "(<class 'lxml.etree.XMLSyntaxError'>, XMLSyntaxError(u'line 1092: htmlParseEntityRef: no name',), <traceback object at 0x7f564ec98a28>)\n",
        "processed  301\n",
        "skipped  137\n",
        "530078770\n",
        "error on download530078770"
       ]
      },
      {
       "output_type": "stream",
       "stream": "stderr",
       "text": [
        "  File \"<ipython-input-41-0e1172e16ab4>\", line 11, in <module>\n",
        "    res = comp_extractors( extractor_training_object )\n",
        "  File \"<ipython-input-23-91249bf1c046>\", line 19, in comp_extractors\n",
        "    extraction_results = get_extraction_results( eto )\n",
        "  File \"<ipython-input-22-35bdc612153c>\", line 10, in get_extraction_results\n",
        "    ret['python_readibilty'] = { 'extracted_html': extract_with_python_readability( raw_content ) }\n",
        "  File \"<ipython-input-8-5916dff6f29a>\", line 6, in extract_with_python_readability\n",
        "    return doc.short_title() + \"\\n\\n\" + doc.summary()\n",
        "  File \"/usr/local/lib/python2.7/dist-packages/readability/readability.py\", line 139, in short_title\n",
        "    return shorten_title(self._html(True))\n",
        "  File \"/usr/local/lib/python2.7/dist-packages/readability/readability.py\", line 119, in _html\n",
        "    self.html = self._parse(self.input)\n",
        "  File \"/usr/local/lib/python2.7/dist-packages/readability/readability.py\", line 123, in _parse\n",
        "    doc, self.encoding = build_doc(input)\n",
        "  File \"/usr/local/lib/python2.7/dist-packages/readability/htmls.py\", line 17, in build_doc\n",
        "    doc = lxml.html.document_fromstring(page_unicode.encode('utf-8', 'replace'), parser=utf8_parser)\n",
        "  File \"/usr/local/lib/python2.7/dist-packages/lxml/html/__init__.py\", line 568, in document_fromstring\n",
        "    value = etree.fromstring(html, parser, **kw)\n",
        "  File \"lxml.etree.pyx\", line 2997, in lxml.etree.fromstring (src/lxml/lxml.etree.c:63276)\n",
        "  File \"parser.pxi\", line 1617, in lxml.etree._parseMemoryDocument (src/lxml/lxml.etree.c:93691)\n",
        "  File \"parser.pxi\", line 1495, in lxml.etree._parseDoc (src/lxml/lxml.etree.c:92490)\n",
        "  File \"parser.pxi\", line 1011, in lxml.etree._BaseParser._parseDoc (src/lxml/lxml.etree.c:89130)\n",
        "  File \"parser.pxi\", line 577, in lxml.etree._ParserContext._handleParseResultDoc (src/lxml/lxml.etree.c:84831)\n",
        "  File \"parser.pxi\", line 676, in lxml.etree._handleParseResult (src/lxml/lxml.etree.c:85936)\n",
        "  File \"parser.pxi\", line 625, in lxml.etree._raiseParseError (src/lxml/lxml.etree.c:85392)\n",
        "XMLSyntaxError: line 1092: htmlParseEntityRef: no name\n",
        "Traceback (most recent call last):\n"
       ]
      },
      {
       "output_type": "stream",
       "stream": "stdout",
       "text": [
        "\n",
        "(<class 'lxml.etree.XMLSyntaxError'>, XMLSyntaxError(u'line 1092: htmlParseEntityRef: no name',), <traceback object at 0x7f564ec981b8>)\n",
        "processed  301\n",
        "skipped  138\n",
        "530528969\n",
        "error on download530528969"
       ]
      },
      {
       "output_type": "stream",
       "stream": "stderr",
       "text": [
        "  File \"<ipython-input-41-0e1172e16ab4>\", line 11, in <module>\n",
        "    res = comp_extractors( extractor_training_object )\n",
        "  File \"<ipython-input-23-91249bf1c046>\", line 19, in comp_extractors\n",
        "    extraction_results = get_extraction_results( eto )\n",
        "  File \"<ipython-input-22-35bdc612153c>\", line 10, in get_extraction_results\n",
        "    ret['python_readibilty'] = { 'extracted_html': extract_with_python_readability( raw_content ) }\n",
        "  File \"<ipython-input-8-5916dff6f29a>\", line 6, in extract_with_python_readability\n",
        "    return doc.short_title() + \"\\n\\n\" + doc.summary()\n",
        "  File \"/usr/local/lib/python2.7/dist-packages/readability/readability.py\", line 139, in short_title\n",
        "    return shorten_title(self._html(True))\n",
        "  File \"/usr/local/lib/python2.7/dist-packages/readability/readability.py\", line 119, in _html\n",
        "    self.html = self._parse(self.input)\n",
        "  File \"/usr/local/lib/python2.7/dist-packages/readability/readability.py\", line 123, in _parse\n",
        "    doc, self.encoding = build_doc(input)\n",
        "  File \"/usr/local/lib/python2.7/dist-packages/readability/htmls.py\", line 17, in build_doc\n",
        "    doc = lxml.html.document_fromstring(page_unicode.encode('utf-8', 'replace'), parser=utf8_parser)\n",
        "  File \"/usr/local/lib/python2.7/dist-packages/lxml/html/__init__.py\", line 568, in document_fromstring\n",
        "    value = etree.fromstring(html, parser, **kw)\n",
        "  File \"lxml.etree.pyx\", line 2997, in lxml.etree.fromstring (src/lxml/lxml.etree.c:63276)\n",
        "  File \"parser.pxi\", line 1617, in lxml.etree._parseMemoryDocument (src/lxml/lxml.etree.c:93691)\n",
        "  File \"parser.pxi\", line 1495, in lxml.etree._parseDoc (src/lxml/lxml.etree.c:92490)\n",
        "  File \"parser.pxi\", line 1011, in lxml.etree._BaseParser._parseDoc (src/lxml/lxml.etree.c:89130)\n",
        "  File \"parser.pxi\", line 577, in lxml.etree._ParserContext._handleParseResultDoc (src/lxml/lxml.etree.c:84831)\n",
        "  File \"parser.pxi\", line 676, in lxml.etree._handleParseResult (src/lxml/lxml.etree.c:85936)\n",
        "  File \"parser.pxi\", line 625, in lxml.etree._raiseParseError (src/lxml/lxml.etree.c:85392)\n",
        "XMLSyntaxError: line 1092: htmlParseEntityRef: no name\n",
        "Traceback (most recent call last):\n"
       ]
      },
      {
       "output_type": "stream",
       "stream": "stdout",
       "text": [
        "\n",
        "(<class 'lxml.etree.XMLSyntaxError'>, XMLSyntaxError(u'line 1092: htmlParseEntityRef: no name',), <traceback object at 0x7f564ec98320>)\n",
        "processed  301\n",
        "skipped  139\n",
        "530758329\n",
        "error on download530758329"
       ]
      },
      {
       "output_type": "stream",
       "stream": "stderr",
       "text": [
        "  File \"<ipython-input-41-0e1172e16ab4>\", line 11, in <module>\n",
        "    res = comp_extractors( extractor_training_object )\n",
        "  File \"<ipython-input-23-91249bf1c046>\", line 19, in comp_extractors\n",
        "    extraction_results = get_extraction_results( eto )\n",
        "  File \"<ipython-input-22-35bdc612153c>\", line 10, in get_extraction_results\n",
        "    ret['python_readibilty'] = { 'extracted_html': extract_with_python_readability( raw_content ) }\n",
        "  File \"<ipython-input-8-5916dff6f29a>\", line 6, in extract_with_python_readability\n",
        "    return doc.short_title() + \"\\n\\n\" + doc.summary()\n",
        "  File \"/usr/local/lib/python2.7/dist-packages/readability/readability.py\", line 139, in short_title\n",
        "    return shorten_title(self._html(True))\n",
        "  File \"/usr/local/lib/python2.7/dist-packages/readability/readability.py\", line 119, in _html\n",
        "    self.html = self._parse(self.input)\n",
        "  File \"/usr/local/lib/python2.7/dist-packages/readability/readability.py\", line 123, in _parse\n",
        "    doc, self.encoding = build_doc(input)\n",
        "  File \"/usr/local/lib/python2.7/dist-packages/readability/htmls.py\", line 17, in build_doc\n",
        "    doc = lxml.html.document_fromstring(page_unicode.encode('utf-8', 'replace'), parser=utf8_parser)\n",
        "  File \"/usr/local/lib/python2.7/dist-packages/lxml/html/__init__.py\", line 568, in document_fromstring\n",
        "    value = etree.fromstring(html, parser, **kw)\n",
        "  File \"lxml.etree.pyx\", line 2997, in lxml.etree.fromstring (src/lxml/lxml.etree.c:63276)\n",
        "  File \"parser.pxi\", line 1617, in lxml.etree._parseMemoryDocument (src/lxml/lxml.etree.c:93691)\n",
        "  File \"parser.pxi\", line 1495, in lxml.etree._parseDoc (src/lxml/lxml.etree.c:92490)\n",
        "  File \"parser.pxi\", line 1011, in lxml.etree._BaseParser._parseDoc (src/lxml/lxml.etree.c:89130)\n",
        "  File \"parser.pxi\", line 577, in lxml.etree._ParserContext._handleParseResultDoc (src/lxml/lxml.etree.c:84831)\n",
        "  File \"parser.pxi\", line 676, in lxml.etree._handleParseResult (src/lxml/lxml.etree.c:85936)\n",
        "  File \"parser.pxi\", line 625, in lxml.etree._raiseParseError (src/lxml/lxml.etree.c:85392)\n",
        "XMLSyntaxError: line 1092: htmlParseEntityRef: no name\n",
        "Traceback (most recent call last):\n"
       ]
      },
      {
       "output_type": "stream",
       "stream": "stdout",
       "text": [
        "\n",
        "(<class 'lxml.etree.XMLSyntaxError'>, XMLSyntaxError(u'line 1092: htmlParseEntityRef: no name',), <traceback object at 0x7f564ec8aef0>)\n",
        "processed  301\n",
        "skipped  140\n",
        "530760478\n",
        "error on download530760478"
       ]
      },
      {
       "output_type": "stream",
       "stream": "stderr",
       "text": [
        "  File \"<ipython-input-41-0e1172e16ab4>\", line 11, in <module>\n",
        "    res = comp_extractors( extractor_training_object )\n",
        "  File \"<ipython-input-23-91249bf1c046>\", line 19, in comp_extractors\n",
        "    extraction_results = get_extraction_results( eto )\n",
        "  File \"<ipython-input-22-35bdc612153c>\", line 10, in get_extraction_results\n",
        "    ret['python_readibilty'] = { 'extracted_html': extract_with_python_readability( raw_content ) }\n",
        "  File \"<ipython-input-8-5916dff6f29a>\", line 6, in extract_with_python_readability\n",
        "    return doc.short_title() + \"\\n\\n\" + doc.summary()\n",
        "  File \"/usr/local/lib/python2.7/dist-packages/readability/readability.py\", line 139, in short_title\n",
        "    return shorten_title(self._html(True))\n",
        "  File \"/usr/local/lib/python2.7/dist-packages/readability/readability.py\", line 119, in _html\n",
        "    self.html = self._parse(self.input)\n",
        "  File \"/usr/local/lib/python2.7/dist-packages/readability/readability.py\", line 123, in _parse\n",
        "    doc, self.encoding = build_doc(input)\n",
        "  File \"/usr/local/lib/python2.7/dist-packages/readability/htmls.py\", line 17, in build_doc\n",
        "    doc = lxml.html.document_fromstring(page_unicode.encode('utf-8', 'replace'), parser=utf8_parser)\n",
        "  File \"/usr/local/lib/python2.7/dist-packages/lxml/html/__init__.py\", line 568, in document_fromstring\n",
        "    value = etree.fromstring(html, parser, **kw)\n",
        "  File \"lxml.etree.pyx\", line 2997, in lxml.etree.fromstring (src/lxml/lxml.etree.c:63276)\n",
        "  File \"parser.pxi\", line 1617, in lxml.etree._parseMemoryDocument (src/lxml/lxml.etree.c:93691)\n",
        "  File \"parser.pxi\", line 1495, in lxml.etree._parseDoc (src/lxml/lxml.etree.c:92490)\n",
        "  File \"parser.pxi\", line 1011, in lxml.etree._BaseParser._parseDoc (src/lxml/lxml.etree.c:89130)\n",
        "  File \"parser.pxi\", line 577, in lxml.etree._ParserContext._handleParseResultDoc (src/lxml/lxml.etree.c:84831)\n",
        "  File \"parser.pxi\", line 676, in lxml.etree._handleParseResult (src/lxml/lxml.etree.c:85936)\n",
        "  File \"parser.pxi\", line 625, in lxml.etree._raiseParseError (src/lxml/lxml.etree.c:85392)\n",
        "XMLSyntaxError: line 1092: htmlParseEntityRef: no name\n",
        "Traceback (most recent call last):\n"
       ]
      },
      {
       "output_type": "stream",
       "stream": "stdout",
       "text": [
        "\n",
        "(<class 'lxml.etree.XMLSyntaxError'>, XMLSyntaxError(u'line 1092: htmlParseEntityRef: no name',), <traceback object at 0x7f564ec8acf8>)\n",
        "processed  301\n",
        "skipped  141\n",
        "531116330\n",
        "error on download531116330"
       ]
      },
      {
       "output_type": "stream",
       "stream": "stderr",
       "text": [
        "  File \"<ipython-input-41-0e1172e16ab4>\", line 11, in <module>\n",
        "    res = comp_extractors( extractor_training_object )\n",
        "  File \"<ipython-input-23-91249bf1c046>\", line 19, in comp_extractors\n",
        "    extraction_results = get_extraction_results( eto )\n",
        "  File \"<ipython-input-22-35bdc612153c>\", line 10, in get_extraction_results\n",
        "    ret['python_readibilty'] = { 'extracted_html': extract_with_python_readability( raw_content ) }\n",
        "  File \"<ipython-input-8-5916dff6f29a>\", line 6, in extract_with_python_readability\n",
        "    return doc.short_title() + \"\\n\\n\" + doc.summary()\n",
        "  File \"/usr/local/lib/python2.7/dist-packages/readability/readability.py\", line 139, in short_title\n",
        "    return shorten_title(self._html(True))\n",
        "  File \"/usr/local/lib/python2.7/dist-packages/readability/readability.py\", line 119, in _html\n",
        "    self.html = self._parse(self.input)\n",
        "  File \"/usr/local/lib/python2.7/dist-packages/readability/readability.py\", line 123, in _parse\n",
        "    doc, self.encoding = build_doc(input)\n",
        "  File \"/usr/local/lib/python2.7/dist-packages/readability/htmls.py\", line 17, in build_doc\n",
        "    doc = lxml.html.document_fromstring(page_unicode.encode('utf-8', 'replace'), parser=utf8_parser)\n",
        "  File \"/usr/local/lib/python2.7/dist-packages/lxml/html/__init__.py\", line 568, in document_fromstring\n",
        "    value = etree.fromstring(html, parser, **kw)\n",
        "  File \"lxml.etree.pyx\", line 2997, in lxml.etree.fromstring (src/lxml/lxml.etree.c:63276)\n",
        "  File \"parser.pxi\", line 1617, in lxml.etree._parseMemoryDocument (src/lxml/lxml.etree.c:93691)\n",
        "  File \"parser.pxi\", line 1495, in lxml.etree._parseDoc (src/lxml/lxml.etree.c:92490)\n",
        "  File \"parser.pxi\", line 1011, in lxml.etree._BaseParser._parseDoc (src/lxml/lxml.etree.c:89130)\n",
        "  File \"parser.pxi\", line 577, in lxml.etree._ParserContext._handleParseResultDoc (src/lxml/lxml.etree.c:84831)\n",
        "  File \"parser.pxi\", line 676, in lxml.etree._handleParseResult (src/lxml/lxml.etree.c:85936)\n",
        "  File \"parser.pxi\", line 625, in lxml.etree._raiseParseError (src/lxml/lxml.etree.c:85392)\n",
        "XMLSyntaxError: line 1092: htmlParseEntityRef: no name\n",
        "Traceback (most recent call last):\n"
       ]
      },
      {
       "output_type": "stream",
       "stream": "stdout",
       "text": [
        "\n",
        "(<class 'lxml.etree.XMLSyntaxError'>, XMLSyntaxError(u'line 1092: htmlParseEntityRef: no name',), <traceback object at 0x7f564ec8a050>)\n",
        "processed  301\n",
        "skipped  142\n",
        "531271665\n",
        "error on download531271665"
       ]
      },
      {
       "output_type": "stream",
       "stream": "stderr",
       "text": [
        "  File \"<ipython-input-41-0e1172e16ab4>\", line 11, in <module>\n",
        "    res = comp_extractors( extractor_training_object )\n",
        "  File \"<ipython-input-23-91249bf1c046>\", line 19, in comp_extractors\n",
        "    extraction_results = get_extraction_results( eto )\n",
        "  File \"<ipython-input-22-35bdc612153c>\", line 10, in get_extraction_results\n",
        "    ret['python_readibilty'] = { 'extracted_html': extract_with_python_readability( raw_content ) }\n",
        "  File \"<ipython-input-8-5916dff6f29a>\", line 6, in extract_with_python_readability\n",
        "    return doc.short_title() + \"\\n\\n\" + doc.summary()\n",
        "  File \"/usr/local/lib/python2.7/dist-packages/readability/readability.py\", line 139, in short_title\n",
        "    return shorten_title(self._html(True))\n",
        "  File \"/usr/local/lib/python2.7/dist-packages/readability/readability.py\", line 119, in _html\n",
        "    self.html = self._parse(self.input)\n",
        "  File \"/usr/local/lib/python2.7/dist-packages/readability/readability.py\", line 123, in _parse\n",
        "    doc, self.encoding = build_doc(input)\n",
        "  File \"/usr/local/lib/python2.7/dist-packages/readability/htmls.py\", line 17, in build_doc\n",
        "    doc = lxml.html.document_fromstring(page_unicode.encode('utf-8', 'replace'), parser=utf8_parser)\n",
        "  File \"/usr/local/lib/python2.7/dist-packages/lxml/html/__init__.py\", line 568, in document_fromstring\n",
        "    value = etree.fromstring(html, parser, **kw)\n",
        "  File \"lxml.etree.pyx\", line 2997, in lxml.etree.fromstring (src/lxml/lxml.etree.c:63276)\n",
        "  File \"parser.pxi\", line 1617, in lxml.etree._parseMemoryDocument (src/lxml/lxml.etree.c:93691)\n",
        "  File \"parser.pxi\", line 1495, in lxml.etree._parseDoc (src/lxml/lxml.etree.c:92490)\n",
        "  File \"parser.pxi\", line 1011, in lxml.etree._BaseParser._parseDoc (src/lxml/lxml.etree.c:89130)\n",
        "  File \"parser.pxi\", line 577, in lxml.etree._ParserContext._handleParseResultDoc (src/lxml/lxml.etree.c:84831)\n",
        "  File \"parser.pxi\", line 676, in lxml.etree._handleParseResult (src/lxml/lxml.etree.c:85936)\n",
        "  File \"parser.pxi\", line 625, in lxml.etree._raiseParseError (src/lxml/lxml.etree.c:85392)\n",
        "XMLSyntaxError: line 1092: htmlParseEntityRef: no name\n",
        "Traceback (most recent call last):\n"
       ]
      },
      {
       "output_type": "stream",
       "stream": "stdout",
       "text": [
        "\n",
        "(<class 'lxml.etree.XMLSyntaxError'>, XMLSyntaxError(u'line 1092: htmlParseEntityRef: no name',), <traceback object at 0x7f564ec8ab90>)\n",
        "processed  301\n",
        "skipped  143\n",
        "531541254\n",
        "error on download531541254"
       ]
      },
      {
       "output_type": "stream",
       "stream": "stderr",
       "text": [
        "  File \"<ipython-input-41-0e1172e16ab4>\", line 11, in <module>\n",
        "    res = comp_extractors( extractor_training_object )\n",
        "  File \"<ipython-input-23-91249bf1c046>\", line 19, in comp_extractors\n",
        "    extraction_results = get_extraction_results( eto )\n",
        "  File \"<ipython-input-22-35bdc612153c>\", line 10, in get_extraction_results\n",
        "    ret['python_readibilty'] = { 'extracted_html': extract_with_python_readability( raw_content ) }\n",
        "  File \"<ipython-input-8-5916dff6f29a>\", line 6, in extract_with_python_readability\n",
        "    return doc.short_title() + \"\\n\\n\" + doc.summary()\n",
        "  File \"/usr/local/lib/python2.7/dist-packages/readability/readability.py\", line 139, in short_title\n",
        "    return shorten_title(self._html(True))\n",
        "  File \"/usr/local/lib/python2.7/dist-packages/readability/readability.py\", line 119, in _html\n",
        "    self.html = self._parse(self.input)\n",
        "  File \"/usr/local/lib/python2.7/dist-packages/readability/readability.py\", line 123, in _parse\n",
        "    doc, self.encoding = build_doc(input)\n",
        "  File \"/usr/local/lib/python2.7/dist-packages/readability/htmls.py\", line 17, in build_doc\n",
        "    doc = lxml.html.document_fromstring(page_unicode.encode('utf-8', 'replace'), parser=utf8_parser)\n",
        "  File \"/usr/local/lib/python2.7/dist-packages/lxml/html/__init__.py\", line 568, in document_fromstring\n",
        "    value = etree.fromstring(html, parser, **kw)\n",
        "  File \"lxml.etree.pyx\", line 2997, in lxml.etree.fromstring (src/lxml/lxml.etree.c:63276)\n",
        "  File \"parser.pxi\", line 1617, in lxml.etree._parseMemoryDocument (src/lxml/lxml.etree.c:93691)\n",
        "  File \"parser.pxi\", line 1495, in lxml.etree._parseDoc (src/lxml/lxml.etree.c:92490)\n",
        "  File \"parser.pxi\", line 1011, in lxml.etree._BaseParser._parseDoc (src/lxml/lxml.etree.c:89130)\n",
        "  File \"parser.pxi\", line 577, in lxml.etree._ParserContext._handleParseResultDoc (src/lxml/lxml.etree.c:84831)\n",
        "  File \"parser.pxi\", line 676, in lxml.etree._handleParseResult (src/lxml/lxml.etree.c:85936)\n",
        "  File \"parser.pxi\", line 625, in lxml.etree._raiseParseError (src/lxml/lxml.etree.c:85392)\n",
        "XMLSyntaxError: line 1092: htmlParseEntityRef: no name\n",
        "Traceback (most recent call last):\n"
       ]
      },
      {
       "output_type": "stream",
       "stream": "stdout",
       "text": [
        "\n",
        "(<class 'lxml.etree.XMLSyntaxError'>, XMLSyntaxError(u'line 1092: htmlParseEntityRef: no name',), <traceback object at 0x7f564eb58b00>)\n",
        "processed  301\n",
        "skipped  144\n",
        "531805217\n",
        "error on download531805217"
       ]
      },
      {
       "output_type": "stream",
       "stream": "stderr",
       "text": [
        "  File \"<ipython-input-41-0e1172e16ab4>\", line 11, in <module>\n",
        "    res = comp_extractors( extractor_training_object )\n",
        "  File \"<ipython-input-23-91249bf1c046>\", line 19, in comp_extractors\n",
        "    extraction_results = get_extraction_results( eto )\n",
        "  File \"<ipython-input-22-35bdc612153c>\", line 10, in get_extraction_results\n",
        "    ret['python_readibilty'] = { 'extracted_html': extract_with_python_readability( raw_content ) }\n",
        "  File \"<ipython-input-8-5916dff6f29a>\", line 6, in extract_with_python_readability\n",
        "    return doc.short_title() + \"\\n\\n\" + doc.summary()\n",
        "  File \"/usr/local/lib/python2.7/dist-packages/readability/readability.py\", line 139, in short_title\n",
        "    return shorten_title(self._html(True))\n",
        "  File \"/usr/local/lib/python2.7/dist-packages/readability/readability.py\", line 119, in _html\n",
        "    self.html = self._parse(self.input)\n",
        "  File \"/usr/local/lib/python2.7/dist-packages/readability/readability.py\", line 123, in _parse\n",
        "    doc, self.encoding = build_doc(input)\n",
        "  File \"/usr/local/lib/python2.7/dist-packages/readability/htmls.py\", line 17, in build_doc\n",
        "    doc = lxml.html.document_fromstring(page_unicode.encode('utf-8', 'replace'), parser=utf8_parser)\n",
        "  File \"/usr/local/lib/python2.7/dist-packages/lxml/html/__init__.py\", line 568, in document_fromstring\n",
        "    value = etree.fromstring(html, parser, **kw)\n",
        "  File \"lxml.etree.pyx\", line 2997, in lxml.etree.fromstring (src/lxml/lxml.etree.c:63276)\n",
        "  File \"parser.pxi\", line 1617, in lxml.etree._parseMemoryDocument (src/lxml/lxml.etree.c:93691)\n",
        "  File \"parser.pxi\", line 1495, in lxml.etree._parseDoc (src/lxml/lxml.etree.c:92490)\n",
        "  File \"parser.pxi\", line 1011, in lxml.etree._BaseParser._parseDoc (src/lxml/lxml.etree.c:89130)\n",
        "  File \"parser.pxi\", line 577, in lxml.etree._ParserContext._handleParseResultDoc (src/lxml/lxml.etree.c:84831)\n",
        "  File \"parser.pxi\", line 676, in lxml.etree._handleParseResult (src/lxml/lxml.etree.c:85936)\n",
        "  File \"parser.pxi\", line 625, in lxml.etree._raiseParseError (src/lxml/lxml.etree.c:85392)\n",
        "XMLSyntaxError: line 1092: htmlParseEntityRef: no name\n",
        "Traceback (most recent call last):\n"
       ]
      },
      {
       "output_type": "stream",
       "stream": "stdout",
       "text": [
        "\n",
        "(<class 'lxml.etree.XMLSyntaxError'>, XMLSyntaxError(u'line 1092: htmlParseEntityRef: no name',), <traceback object at 0x7f564eb58c20>)\n",
        "processed  301\n",
        "skipped  145\n",
        "531997009\n",
        "error on download531997009"
       ]
      },
      {
       "output_type": "stream",
       "stream": "stderr",
       "text": [
        "  File \"<ipython-input-41-0e1172e16ab4>\", line 11, in <module>\n",
        "    res = comp_extractors( extractor_training_object )\n",
        "  File \"<ipython-input-23-91249bf1c046>\", line 19, in comp_extractors\n",
        "    extraction_results = get_extraction_results( eto )\n",
        "  File \"<ipython-input-22-35bdc612153c>\", line 10, in get_extraction_results\n",
        "    ret['python_readibilty'] = { 'extracted_html': extract_with_python_readability( raw_content ) }\n",
        "  File \"<ipython-input-8-5916dff6f29a>\", line 6, in extract_with_python_readability\n",
        "    return doc.short_title() + \"\\n\\n\" + doc.summary()\n",
        "  File \"/usr/local/lib/python2.7/dist-packages/readability/readability.py\", line 139, in short_title\n",
        "    return shorten_title(self._html(True))\n",
        "  File \"/usr/local/lib/python2.7/dist-packages/readability/readability.py\", line 119, in _html\n",
        "    self.html = self._parse(self.input)\n",
        "  File \"/usr/local/lib/python2.7/dist-packages/readability/readability.py\", line 123, in _parse\n",
        "    doc, self.encoding = build_doc(input)\n",
        "  File \"/usr/local/lib/python2.7/dist-packages/readability/htmls.py\", line 17, in build_doc\n",
        "    doc = lxml.html.document_fromstring(page_unicode.encode('utf-8', 'replace'), parser=utf8_parser)\n",
        "  File \"/usr/local/lib/python2.7/dist-packages/lxml/html/__init__.py\", line 568, in document_fromstring\n",
        "    value = etree.fromstring(html, parser, **kw)\n",
        "  File \"lxml.etree.pyx\", line 2997, in lxml.etree.fromstring (src/lxml/lxml.etree.c:63276)\n",
        "  File \"parser.pxi\", line 1617, in lxml.etree._parseMemoryDocument (src/lxml/lxml.etree.c:93691)\n",
        "  File \"parser.pxi\", line 1495, in lxml.etree._parseDoc (src/lxml/lxml.etree.c:92490)\n",
        "  File \"parser.pxi\", line 1011, in lxml.etree._BaseParser._parseDoc (src/lxml/lxml.etree.c:89130)\n",
        "  File \"parser.pxi\", line 577, in lxml.etree._ParserContext._handleParseResultDoc (src/lxml/lxml.etree.c:84831)\n",
        "  File \"parser.pxi\", line 676, in lxml.etree._handleParseResult (src/lxml/lxml.etree.c:85936)\n",
        "  File \"parser.pxi\", line 625, in lxml.etree._raiseParseError (src/lxml/lxml.etree.c:85392)\n",
        "XMLSyntaxError: line 1092: htmlParseEntityRef: no name\n",
        "Traceback (most recent call last):\n"
       ]
      },
      {
       "output_type": "stream",
       "stream": "stdout",
       "text": [
        "\n",
        "(<class 'lxml.etree.XMLSyntaxError'>, XMLSyntaxError(u'line 1092: htmlParseEntityRef: no name',), <traceback object at 0x7f564ec8e098>)\n",
        "processed  301\n",
        "skipped  146\n",
        "532554918\n",
        "error on download532554918"
       ]
      },
      {
       "output_type": "stream",
       "stream": "stderr",
       "text": [
        "  File \"<ipython-input-41-0e1172e16ab4>\", line 11, in <module>\n",
        "    res = comp_extractors( extractor_training_object )\n",
        "  File \"<ipython-input-23-91249bf1c046>\", line 19, in comp_extractors\n",
        "    extraction_results = get_extraction_results( eto )\n",
        "  File \"<ipython-input-22-35bdc612153c>\", line 10, in get_extraction_results\n",
        "    ret['python_readibilty'] = { 'extracted_html': extract_with_python_readability( raw_content ) }\n",
        "  File \"<ipython-input-8-5916dff6f29a>\", line 6, in extract_with_python_readability\n",
        "    return doc.short_title() + \"\\n\\n\" + doc.summary()\n",
        "  File \"/usr/local/lib/python2.7/dist-packages/readability/readability.py\", line 139, in short_title\n",
        "    return shorten_title(self._html(True))\n",
        "  File \"/usr/local/lib/python2.7/dist-packages/readability/readability.py\", line 119, in _html\n",
        "    self.html = self._parse(self.input)\n",
        "  File \"/usr/local/lib/python2.7/dist-packages/readability/readability.py\", line 123, in _parse\n",
        "    doc, self.encoding = build_doc(input)\n",
        "  File \"/usr/local/lib/python2.7/dist-packages/readability/htmls.py\", line 17, in build_doc\n",
        "    doc = lxml.html.document_fromstring(page_unicode.encode('utf-8', 'replace'), parser=utf8_parser)\n",
        "  File \"/usr/local/lib/python2.7/dist-packages/lxml/html/__init__.py\", line 568, in document_fromstring\n",
        "    value = etree.fromstring(html, parser, **kw)\n",
        "  File \"lxml.etree.pyx\", line 2997, in lxml.etree.fromstring (src/lxml/lxml.etree.c:63276)\n",
        "  File \"parser.pxi\", line 1617, in lxml.etree._parseMemoryDocument (src/lxml/lxml.etree.c:93691)\n",
        "  File \"parser.pxi\", line 1495, in lxml.etree._parseDoc (src/lxml/lxml.etree.c:92490)\n",
        "  File \"parser.pxi\", line 1011, in lxml.etree._BaseParser._parseDoc (src/lxml/lxml.etree.c:89130)\n",
        "  File \"parser.pxi\", line 577, in lxml.etree._ParserContext._handleParseResultDoc (src/lxml/lxml.etree.c:84831)\n",
        "  File \"parser.pxi\", line 676, in lxml.etree._handleParseResult (src/lxml/lxml.etree.c:85936)\n",
        "  File \"parser.pxi\", line 625, in lxml.etree._raiseParseError (src/lxml/lxml.etree.c:85392)\n",
        "XMLSyntaxError: line 1092: htmlParseEntityRef: no name\n",
        "Traceback (most recent call last):\n"
       ]
      },
      {
       "output_type": "stream",
       "stream": "stdout",
       "text": [
        "\n",
        "(<class 'lxml.etree.XMLSyntaxError'>, XMLSyntaxError(u'line 1092: htmlParseEntityRef: no name',), <traceback object at 0x7f564ec8e1b8>)\n",
        "processed  301\n",
        "skipped  147\n",
        "532672804\n",
        "error on download532672804"
       ]
      },
      {
       "output_type": "stream",
       "stream": "stderr",
       "text": [
        "  File \"<ipython-input-41-0e1172e16ab4>\", line 11, in <module>\n",
        "    res = comp_extractors( extractor_training_object )\n",
        "  File \"<ipython-input-23-91249bf1c046>\", line 19, in comp_extractors\n",
        "    extraction_results = get_extraction_results( eto )\n",
        "  File \"<ipython-input-22-35bdc612153c>\", line 10, in get_extraction_results\n",
        "    ret['python_readibilty'] = { 'extracted_html': extract_with_python_readability( raw_content ) }\n",
        "  File \"<ipython-input-8-5916dff6f29a>\", line 6, in extract_with_python_readability\n",
        "    return doc.short_title() + \"\\n\\n\" + doc.summary()\n",
        "  File \"/usr/local/lib/python2.7/dist-packages/readability/readability.py\", line 139, in short_title\n",
        "    return shorten_title(self._html(True))\n",
        "  File \"/usr/local/lib/python2.7/dist-packages/readability/readability.py\", line 119, in _html\n",
        "    self.html = self._parse(self.input)\n",
        "  File \"/usr/local/lib/python2.7/dist-packages/readability/readability.py\", line 123, in _parse\n",
        "    doc, self.encoding = build_doc(input)\n",
        "  File \"/usr/local/lib/python2.7/dist-packages/readability/htmls.py\", line 17, in build_doc\n",
        "    doc = lxml.html.document_fromstring(page_unicode.encode('utf-8', 'replace'), parser=utf8_parser)\n",
        "  File \"/usr/local/lib/python2.7/dist-packages/lxml/html/__init__.py\", line 568, in document_fromstring\n",
        "    value = etree.fromstring(html, parser, **kw)\n",
        "  File \"lxml.etree.pyx\", line 2997, in lxml.etree.fromstring (src/lxml/lxml.etree.c:63276)\n",
        "  File \"parser.pxi\", line 1617, in lxml.etree._parseMemoryDocument (src/lxml/lxml.etree.c:93691)\n",
        "  File \"parser.pxi\", line 1495, in lxml.etree._parseDoc (src/lxml/lxml.etree.c:92490)\n",
        "  File \"parser.pxi\", line 1011, in lxml.etree._BaseParser._parseDoc (src/lxml/lxml.etree.c:89130)\n",
        "  File \"parser.pxi\", line 577, in lxml.etree._ParserContext._handleParseResultDoc (src/lxml/lxml.etree.c:84831)\n",
        "  File \"parser.pxi\", line 676, in lxml.etree._handleParseResult (src/lxml/lxml.etree.c:85936)\n",
        "  File \"parser.pxi\", line 625, in lxml.etree._raiseParseError (src/lxml/lxml.etree.c:85392)\n",
        "XMLSyntaxError: line 1092: htmlParseEntityRef: no name\n",
        "Traceback (most recent call last):\n"
       ]
      },
      {
       "output_type": "stream",
       "stream": "stdout",
       "text": [
        "\n",
        "(<class 'lxml.etree.XMLSyntaxError'>, XMLSyntaxError(u'line 1092: htmlParseEntityRef: no name',), <traceback object at 0x7f564ec8e8c0>)\n",
        "processed  301\n",
        "skipped  148\n",
        "533194544\n",
        "error on download533194544"
       ]
      },
      {
       "output_type": "stream",
       "stream": "stderr",
       "text": [
        "  File \"<ipython-input-41-0e1172e16ab4>\", line 11, in <module>\n",
        "    res = comp_extractors( extractor_training_object )\n",
        "  File \"<ipython-input-23-91249bf1c046>\", line 19, in comp_extractors\n",
        "    extraction_results = get_extraction_results( eto )\n",
        "  File \"<ipython-input-22-35bdc612153c>\", line 10, in get_extraction_results\n",
        "    ret['python_readibilty'] = { 'extracted_html': extract_with_python_readability( raw_content ) }\n",
        "  File \"<ipython-input-8-5916dff6f29a>\", line 6, in extract_with_python_readability\n",
        "    return doc.short_title() + \"\\n\\n\" + doc.summary()\n",
        "  File \"/usr/local/lib/python2.7/dist-packages/readability/readability.py\", line 139, in short_title\n",
        "    return shorten_title(self._html(True))\n",
        "  File \"/usr/local/lib/python2.7/dist-packages/readability/readability.py\", line 119, in _html\n",
        "    self.html = self._parse(self.input)\n",
        "  File \"/usr/local/lib/python2.7/dist-packages/readability/readability.py\", line 123, in _parse\n",
        "    doc, self.encoding = build_doc(input)\n",
        "  File \"/usr/local/lib/python2.7/dist-packages/readability/htmls.py\", line 17, in build_doc\n",
        "    doc = lxml.html.document_fromstring(page_unicode.encode('utf-8', 'replace'), parser=utf8_parser)\n",
        "  File \"/usr/local/lib/python2.7/dist-packages/lxml/html/__init__.py\", line 568, in document_fromstring\n",
        "    value = etree.fromstring(html, parser, **kw)\n",
        "  File \"lxml.etree.pyx\", line 2997, in lxml.etree.fromstring (src/lxml/lxml.etree.c:63276)\n",
        "  File \"parser.pxi\", line 1617, in lxml.etree._parseMemoryDocument (src/lxml/lxml.etree.c:93691)\n",
        "  File \"parser.pxi\", line 1495, in lxml.etree._parseDoc (src/lxml/lxml.etree.c:92490)\n",
        "  File \"parser.pxi\", line 1011, in lxml.etree._BaseParser._parseDoc (src/lxml/lxml.etree.c:89130)\n",
        "  File \"parser.pxi\", line 577, in lxml.etree._ParserContext._handleParseResultDoc (src/lxml/lxml.etree.c:84831)\n",
        "  File \"parser.pxi\", line 676, in lxml.etree._handleParseResult (src/lxml/lxml.etree.c:85936)\n",
        "  File \"parser.pxi\", line 625, in lxml.etree._raiseParseError (src/lxml/lxml.etree.c:85392)\n",
        "XMLSyntaxError: line 1092: htmlParseEntityRef: no name\n",
        "Traceback (most recent call last):\n"
       ]
      },
      {
       "output_type": "stream",
       "stream": "stdout",
       "text": [
        "\n",
        "(<class 'lxml.etree.XMLSyntaxError'>, XMLSyntaxError(u'line 1092: htmlParseEntityRef: no name',), <traceback object at 0x7f564ec9f950>)\n",
        "processed  301\n",
        "skipped  149\n",
        "533730844\n",
        "error on download533730844"
       ]
      },
      {
       "output_type": "stream",
       "stream": "stderr",
       "text": [
        "  File \"<ipython-input-41-0e1172e16ab4>\", line 11, in <module>\n",
        "    res = comp_extractors( extractor_training_object )\n",
        "  File \"<ipython-input-23-91249bf1c046>\", line 19, in comp_extractors\n",
        "    extraction_results = get_extraction_results( eto )\n",
        "  File \"<ipython-input-22-35bdc612153c>\", line 10, in get_extraction_results\n",
        "    ret['python_readibilty'] = { 'extracted_html': extract_with_python_readability( raw_content ) }\n",
        "  File \"<ipython-input-8-5916dff6f29a>\", line 6, in extract_with_python_readability\n",
        "    return doc.short_title() + \"\\n\\n\" + doc.summary()\n",
        "  File \"/usr/local/lib/python2.7/dist-packages/readability/readability.py\", line 139, in short_title\n",
        "    return shorten_title(self._html(True))\n",
        "  File \"/usr/local/lib/python2.7/dist-packages/readability/readability.py\", line 119, in _html\n",
        "    self.html = self._parse(self.input)\n",
        "  File \"/usr/local/lib/python2.7/dist-packages/readability/readability.py\", line 123, in _parse\n",
        "    doc, self.encoding = build_doc(input)\n",
        "  File \"/usr/local/lib/python2.7/dist-packages/readability/htmls.py\", line 17, in build_doc\n",
        "    doc = lxml.html.document_fromstring(page_unicode.encode('utf-8', 'replace'), parser=utf8_parser)\n",
        "  File \"/usr/local/lib/python2.7/dist-packages/lxml/html/__init__.py\", line 568, in document_fromstring\n",
        "    value = etree.fromstring(html, parser, **kw)\n",
        "  File \"lxml.etree.pyx\", line 2997, in lxml.etree.fromstring (src/lxml/lxml.etree.c:63276)\n",
        "  File \"parser.pxi\", line 1617, in lxml.etree._parseMemoryDocument (src/lxml/lxml.etree.c:93691)\n",
        "  File \"parser.pxi\", line 1495, in lxml.etree._parseDoc (src/lxml/lxml.etree.c:92490)\n",
        "  File \"parser.pxi\", line 1011, in lxml.etree._BaseParser._parseDoc (src/lxml/lxml.etree.c:89130)\n",
        "  File \"parser.pxi\", line 577, in lxml.etree._ParserContext._handleParseResultDoc (src/lxml/lxml.etree.c:84831)\n",
        "  File \"parser.pxi\", line 676, in lxml.etree._handleParseResult (src/lxml/lxml.etree.c:85936)\n",
        "  File \"parser.pxi\", line 625, in lxml.etree._raiseParseError (src/lxml/lxml.etree.c:85392)\n",
        "XMLSyntaxError: line 1092: htmlParseEntityRef: no name\n",
        "Traceback (most recent call last):\n"
       ]
      },
      {
       "output_type": "stream",
       "stream": "stdout",
       "text": [
        "\n",
        "(<class 'lxml.etree.XMLSyntaxError'>, XMLSyntaxError(u'line 1092: htmlParseEntityRef: no name',), <traceback object at 0x7f564ec9f5a8>)\n",
        "processed  301\n",
        "skipped  150\n",
        "533889958\n",
        "error on download533889958"
       ]
      },
      {
       "output_type": "stream",
       "stream": "stderr",
       "text": [
        "  File \"<ipython-input-41-0e1172e16ab4>\", line 11, in <module>\n",
        "    res = comp_extractors( extractor_training_object )\n",
        "  File \"<ipython-input-23-91249bf1c046>\", line 19, in comp_extractors\n",
        "    extraction_results = get_extraction_results( eto )\n",
        "  File \"<ipython-input-22-35bdc612153c>\", line 10, in get_extraction_results\n",
        "    ret['python_readibilty'] = { 'extracted_html': extract_with_python_readability( raw_content ) }\n",
        "  File \"<ipython-input-8-5916dff6f29a>\", line 6, in extract_with_python_readability\n",
        "    return doc.short_title() + \"\\n\\n\" + doc.summary()\n",
        "  File \"/usr/local/lib/python2.7/dist-packages/readability/readability.py\", line 139, in short_title\n",
        "    return shorten_title(self._html(True))\n",
        "  File \"/usr/local/lib/python2.7/dist-packages/readability/readability.py\", line 119, in _html\n",
        "    self.html = self._parse(self.input)\n",
        "  File \"/usr/local/lib/python2.7/dist-packages/readability/readability.py\", line 123, in _parse\n",
        "    doc, self.encoding = build_doc(input)\n",
        "  File \"/usr/local/lib/python2.7/dist-packages/readability/htmls.py\", line 17, in build_doc\n",
        "    doc = lxml.html.document_fromstring(page_unicode.encode('utf-8', 'replace'), parser=utf8_parser)\n",
        "  File \"/usr/local/lib/python2.7/dist-packages/lxml/html/__init__.py\", line 568, in document_fromstring\n",
        "    value = etree.fromstring(html, parser, **kw)\n",
        "  File \"lxml.etree.pyx\", line 2997, in lxml.etree.fromstring (src/lxml/lxml.etree.c:63276)\n",
        "  File \"parser.pxi\", line 1617, in lxml.etree._parseMemoryDocument (src/lxml/lxml.etree.c:93691)\n",
        "  File \"parser.pxi\", line 1495, in lxml.etree._parseDoc (src/lxml/lxml.etree.c:92490)\n",
        "  File \"parser.pxi\", line 1011, in lxml.etree._BaseParser._parseDoc (src/lxml/lxml.etree.c:89130)\n",
        "  File \"parser.pxi\", line 577, in lxml.etree._ParserContext._handleParseResultDoc (src/lxml/lxml.etree.c:84831)\n",
        "  File \"parser.pxi\", line 676, in lxml.etree._handleParseResult (src/lxml/lxml.etree.c:85936)\n",
        "  File \"parser.pxi\", line 625, in lxml.etree._raiseParseError (src/lxml/lxml.etree.c:85392)\n",
        "XMLSyntaxError: line 1092: htmlParseEntityRef: no name\n",
        "Traceback (most recent call last):\n"
       ]
      },
      {
       "output_type": "stream",
       "stream": "stdout",
       "text": [
        "\n",
        "(<class 'lxml.etree.XMLSyntaxError'>, XMLSyntaxError(u'line 1092: htmlParseEntityRef: no name',), <traceback object at 0x7f564ec9f368>)\n",
        "processed  301\n",
        "skipped  151\n",
        "534093073\n",
        "error on download534093073"
       ]
      },
      {
       "output_type": "stream",
       "stream": "stderr",
       "text": [
        "  File \"<ipython-input-41-0e1172e16ab4>\", line 11, in <module>\n",
        "    res = comp_extractors( extractor_training_object )\n",
        "  File \"<ipython-input-23-91249bf1c046>\", line 19, in comp_extractors\n",
        "    extraction_results = get_extraction_results( eto )\n",
        "  File \"<ipython-input-22-35bdc612153c>\", line 10, in get_extraction_results\n",
        "    ret['python_readibilty'] = { 'extracted_html': extract_with_python_readability( raw_content ) }\n",
        "  File \"<ipython-input-8-5916dff6f29a>\", line 6, in extract_with_python_readability\n",
        "    return doc.short_title() + \"\\n\\n\" + doc.summary()\n",
        "  File \"/usr/local/lib/python2.7/dist-packages/readability/readability.py\", line 139, in short_title\n",
        "    return shorten_title(self._html(True))\n",
        "  File \"/usr/local/lib/python2.7/dist-packages/readability/readability.py\", line 119, in _html\n",
        "    self.html = self._parse(self.input)\n",
        "  File \"/usr/local/lib/python2.7/dist-packages/readability/readability.py\", line 123, in _parse\n",
        "    doc, self.encoding = build_doc(input)\n",
        "  File \"/usr/local/lib/python2.7/dist-packages/readability/htmls.py\", line 17, in build_doc\n",
        "    doc = lxml.html.document_fromstring(page_unicode.encode('utf-8', 'replace'), parser=utf8_parser)\n",
        "  File \"/usr/local/lib/python2.7/dist-packages/lxml/html/__init__.py\", line 568, in document_fromstring\n",
        "    value = etree.fromstring(html, parser, **kw)\n",
        "  File \"lxml.etree.pyx\", line 2997, in lxml.etree.fromstring (src/lxml/lxml.etree.c:63276)\n",
        "  File \"parser.pxi\", line 1617, in lxml.etree._parseMemoryDocument (src/lxml/lxml.etree.c:93691)\n",
        "  File \"parser.pxi\", line 1495, in lxml.etree._parseDoc (src/lxml/lxml.etree.c:92490)\n",
        "  File \"parser.pxi\", line 1011, in lxml.etree._BaseParser._parseDoc (src/lxml/lxml.etree.c:89130)\n",
        "  File \"parser.pxi\", line 577, in lxml.etree._ParserContext._handleParseResultDoc (src/lxml/lxml.etree.c:84831)\n",
        "  File \"parser.pxi\", line 676, in lxml.etree._handleParseResult (src/lxml/lxml.etree.c:85936)\n",
        "  File \"parser.pxi\", line 625, in lxml.etree._raiseParseError (src/lxml/lxml.etree.c:85392)\n",
        "XMLSyntaxError: line 1092: htmlParseEntityRef: no name\n",
        "Traceback (most recent call last):\n"
       ]
      },
      {
       "output_type": "stream",
       "stream": "stdout",
       "text": [
        "\n",
        "(<class 'lxml.etree.XMLSyntaxError'>, XMLSyntaxError(u'line 1092: htmlParseEntityRef: no name',), <traceback object at 0x7f564ecec5f0>)\n",
        "processed  301\n",
        "skipped  152\n",
        "534505078\n",
        "error on download534505078"
       ]
      },
      {
       "output_type": "stream",
       "stream": "stderr",
       "text": [
        "  File \"<ipython-input-41-0e1172e16ab4>\", line 11, in <module>\n",
        "    res = comp_extractors( extractor_training_object )\n",
        "  File \"<ipython-input-23-91249bf1c046>\", line 19, in comp_extractors\n",
        "    extraction_results = get_extraction_results( eto )\n",
        "  File \"<ipython-input-22-35bdc612153c>\", line 10, in get_extraction_results\n",
        "    ret['python_readibilty'] = { 'extracted_html': extract_with_python_readability( raw_content ) }\n",
        "  File \"<ipython-input-8-5916dff6f29a>\", line 6, in extract_with_python_readability\n",
        "    return doc.short_title() + \"\\n\\n\" + doc.summary()\n",
        "  File \"/usr/local/lib/python2.7/dist-packages/readability/readability.py\", line 139, in short_title\n",
        "    return shorten_title(self._html(True))\n",
        "  File \"/usr/local/lib/python2.7/dist-packages/readability/readability.py\", line 119, in _html\n",
        "    self.html = self._parse(self.input)\n",
        "  File \"/usr/local/lib/python2.7/dist-packages/readability/readability.py\", line 123, in _parse\n",
        "    doc, self.encoding = build_doc(input)\n",
        "  File \"/usr/local/lib/python2.7/dist-packages/readability/htmls.py\", line 17, in build_doc\n",
        "    doc = lxml.html.document_fromstring(page_unicode.encode('utf-8', 'replace'), parser=utf8_parser)\n",
        "  File \"/usr/local/lib/python2.7/dist-packages/lxml/html/__init__.py\", line 568, in document_fromstring\n",
        "    value = etree.fromstring(html, parser, **kw)\n",
        "  File \"lxml.etree.pyx\", line 2997, in lxml.etree.fromstring (src/lxml/lxml.etree.c:63276)\n",
        "  File \"parser.pxi\", line 1617, in lxml.etree._parseMemoryDocument (src/lxml/lxml.etree.c:93691)\n",
        "  File \"parser.pxi\", line 1495, in lxml.etree._parseDoc (src/lxml/lxml.etree.c:92490)\n",
        "  File \"parser.pxi\", line 1011, in lxml.etree._BaseParser._parseDoc (src/lxml/lxml.etree.c:89130)\n",
        "  File \"parser.pxi\", line 577, in lxml.etree._ParserContext._handleParseResultDoc (src/lxml/lxml.etree.c:84831)\n",
        "  File \"parser.pxi\", line 676, in lxml.etree._handleParseResult (src/lxml/lxml.etree.c:85936)\n",
        "  File \"parser.pxi\", line 625, in lxml.etree._raiseParseError (src/lxml/lxml.etree.c:85392)\n",
        "XMLSyntaxError: line 1092: htmlParseEntityRef: no name\n",
        "Traceback (most recent call last):\n"
       ]
      },
      {
       "output_type": "stream",
       "stream": "stdout",
       "text": [
        "\n",
        "(<class 'lxml.etree.XMLSyntaxError'>, XMLSyntaxError(u'line 1092: htmlParseEntityRef: no name',), <traceback object at 0x7f564ecaa200>)\n",
        "processed  301\n",
        "skipped  153\n",
        "534718899\n",
        "error on download534718899"
       ]
      },
      {
       "output_type": "stream",
       "stream": "stderr",
       "text": [
        "  File \"<ipython-input-41-0e1172e16ab4>\", line 11, in <module>\n",
        "    res = comp_extractors( extractor_training_object )\n",
        "  File \"<ipython-input-23-91249bf1c046>\", line 19, in comp_extractors\n",
        "    extraction_results = get_extraction_results( eto )\n",
        "  File \"<ipython-input-22-35bdc612153c>\", line 10, in get_extraction_results\n",
        "    ret['python_readibilty'] = { 'extracted_html': extract_with_python_readability( raw_content ) }\n",
        "  File \"<ipython-input-8-5916dff6f29a>\", line 6, in extract_with_python_readability\n",
        "    return doc.short_title() + \"\\n\\n\" + doc.summary()\n",
        "  File \"/usr/local/lib/python2.7/dist-packages/readability/readability.py\", line 139, in short_title\n",
        "    return shorten_title(self._html(True))\n",
        "  File \"/usr/local/lib/python2.7/dist-packages/readability/readability.py\", line 119, in _html\n",
        "    self.html = self._parse(self.input)\n",
        "  File \"/usr/local/lib/python2.7/dist-packages/readability/readability.py\", line 123, in _parse\n",
        "    doc, self.encoding = build_doc(input)\n",
        "  File \"/usr/local/lib/python2.7/dist-packages/readability/htmls.py\", line 17, in build_doc\n",
        "    doc = lxml.html.document_fromstring(page_unicode.encode('utf-8', 'replace'), parser=utf8_parser)\n",
        "  File \"/usr/local/lib/python2.7/dist-packages/lxml/html/__init__.py\", line 568, in document_fromstring\n",
        "    value = etree.fromstring(html, parser, **kw)\n",
        "  File \"lxml.etree.pyx\", line 2997, in lxml.etree.fromstring (src/lxml/lxml.etree.c:63276)\n",
        "  File \"parser.pxi\", line 1617, in lxml.etree._parseMemoryDocument (src/lxml/lxml.etree.c:93691)\n",
        "  File \"parser.pxi\", line 1495, in lxml.etree._parseDoc (src/lxml/lxml.etree.c:92490)\n",
        "  File \"parser.pxi\", line 1011, in lxml.etree._BaseParser._parseDoc (src/lxml/lxml.etree.c:89130)\n",
        "  File \"parser.pxi\", line 577, in lxml.etree._ParserContext._handleParseResultDoc (src/lxml/lxml.etree.c:84831)\n",
        "  File \"parser.pxi\", line 676, in lxml.etree._handleParseResult (src/lxml/lxml.etree.c:85936)\n",
        "  File \"parser.pxi\", line 625, in lxml.etree._raiseParseError (src/lxml/lxml.etree.c:85392)\n",
        "XMLSyntaxError: line 1092: htmlParseEntityRef: no name\n",
        "Traceback (most recent call last):\n"
       ]
      },
      {
       "output_type": "stream",
       "stream": "stdout",
       "text": [
        "\n",
        "(<class 'lxml.etree.XMLSyntaxError'>, XMLSyntaxError(u'line 1092: htmlParseEntityRef: no name',), <traceback object at 0x7f564ecaa440>)\n",
        "processed  301\n",
        "skipped  154\n",
        "534742315\n",
        "error on download534742315"
       ]
      },
      {
       "output_type": "stream",
       "stream": "stderr",
       "text": [
        "  File \"<ipython-input-41-0e1172e16ab4>\", line 11, in <module>\n",
        "    res = comp_extractors( extractor_training_object )\n",
        "  File \"<ipython-input-23-91249bf1c046>\", line 19, in comp_extractors\n",
        "    extraction_results = get_extraction_results( eto )\n",
        "  File \"<ipython-input-22-35bdc612153c>\", line 10, in get_extraction_results\n",
        "    ret['python_readibilty'] = { 'extracted_html': extract_with_python_readability( raw_content ) }\n",
        "  File \"<ipython-input-8-5916dff6f29a>\", line 6, in extract_with_python_readability\n",
        "    return doc.short_title() + \"\\n\\n\" + doc.summary()\n",
        "  File \"/usr/local/lib/python2.7/dist-packages/readability/readability.py\", line 139, in short_title\n",
        "    return shorten_title(self._html(True))\n",
        "  File \"/usr/local/lib/python2.7/dist-packages/readability/readability.py\", line 119, in _html\n",
        "    self.html = self._parse(self.input)\n",
        "  File \"/usr/local/lib/python2.7/dist-packages/readability/readability.py\", line 123, in _parse\n",
        "    doc, self.encoding = build_doc(input)\n",
        "  File \"/usr/local/lib/python2.7/dist-packages/readability/htmls.py\", line 17, in build_doc\n",
        "    doc = lxml.html.document_fromstring(page_unicode.encode('utf-8', 'replace'), parser=utf8_parser)\n",
        "  File \"/usr/local/lib/python2.7/dist-packages/lxml/html/__init__.py\", line 568, in document_fromstring\n",
        "    value = etree.fromstring(html, parser, **kw)\n",
        "  File \"lxml.etree.pyx\", line 2997, in lxml.etree.fromstring (src/lxml/lxml.etree.c:63276)\n",
        "  File \"parser.pxi\", line 1617, in lxml.etree._parseMemoryDocument (src/lxml/lxml.etree.c:93691)\n",
        "  File \"parser.pxi\", line 1495, in lxml.etree._parseDoc (src/lxml/lxml.etree.c:92490)\n",
        "  File \"parser.pxi\", line 1011, in lxml.etree._BaseParser._parseDoc (src/lxml/lxml.etree.c:89130)\n",
        "  File \"parser.pxi\", line 577, in lxml.etree._ParserContext._handleParseResultDoc (src/lxml/lxml.etree.c:84831)\n",
        "  File \"parser.pxi\", line 676, in lxml.etree._handleParseResult (src/lxml/lxml.etree.c:85936)\n",
        "  File \"parser.pxi\", line 625, in lxml.etree._raiseParseError (src/lxml/lxml.etree.c:85392)\n",
        "XMLSyntaxError: line 1092: htmlParseEntityRef: no name\n",
        "Traceback (most recent call last):\n"
       ]
      },
      {
       "output_type": "stream",
       "stream": "stdout",
       "text": [
        "\n",
        "(<class 'lxml.etree.XMLSyntaxError'>, XMLSyntaxError(u'line 1092: htmlParseEntityRef: no name',), <traceback object at 0x7f564ecaa5a8>)\n",
        "processed  301\n",
        "skipped  155\n",
        "534981910\n",
        "error on download534981910"
       ]
      },
      {
       "output_type": "stream",
       "stream": "stderr",
       "text": [
        "  File \"<ipython-input-41-0e1172e16ab4>\", line 11, in <module>\n",
        "    res = comp_extractors( extractor_training_object )\n",
        "  File \"<ipython-input-23-91249bf1c046>\", line 19, in comp_extractors\n",
        "    extraction_results = get_extraction_results( eto )\n",
        "  File \"<ipython-input-22-35bdc612153c>\", line 10, in get_extraction_results\n",
        "    ret['python_readibilty'] = { 'extracted_html': extract_with_python_readability( raw_content ) }\n",
        "  File \"<ipython-input-8-5916dff6f29a>\", line 6, in extract_with_python_readability\n",
        "    return doc.short_title() + \"\\n\\n\" + doc.summary()\n",
        "  File \"/usr/local/lib/python2.7/dist-packages/readability/readability.py\", line 139, in short_title\n",
        "    return shorten_title(self._html(True))\n",
        "  File \"/usr/local/lib/python2.7/dist-packages/readability/readability.py\", line 119, in _html\n",
        "    self.html = self._parse(self.input)\n",
        "  File \"/usr/local/lib/python2.7/dist-packages/readability/readability.py\", line 123, in _parse\n",
        "    doc, self.encoding = build_doc(input)\n",
        "  File \"/usr/local/lib/python2.7/dist-packages/readability/htmls.py\", line 17, in build_doc\n",
        "    doc = lxml.html.document_fromstring(page_unicode.encode('utf-8', 'replace'), parser=utf8_parser)\n",
        "  File \"/usr/local/lib/python2.7/dist-packages/lxml/html/__init__.py\", line 568, in document_fromstring\n",
        "    value = etree.fromstring(html, parser, **kw)\n",
        "  File \"lxml.etree.pyx\", line 2997, in lxml.etree.fromstring (src/lxml/lxml.etree.c:63276)\n",
        "  File \"parser.pxi\", line 1617, in lxml.etree._parseMemoryDocument (src/lxml/lxml.etree.c:93691)\n",
        "  File \"parser.pxi\", line 1495, in lxml.etree._parseDoc (src/lxml/lxml.etree.c:92490)\n",
        "  File \"parser.pxi\", line 1011, in lxml.etree._BaseParser._parseDoc (src/lxml/lxml.etree.c:89130)\n",
        "  File \"parser.pxi\", line 577, in lxml.etree._ParserContext._handleParseResultDoc (src/lxml/lxml.etree.c:84831)\n",
        "  File \"parser.pxi\", line 676, in lxml.etree._handleParseResult (src/lxml/lxml.etree.c:85936)\n",
        "  File \"parser.pxi\", line 625, in lxml.etree._raiseParseError (src/lxml/lxml.etree.c:85392)\n",
        "XMLSyntaxError: line 1092: htmlParseEntityRef: no name\n",
        "Traceback (most recent call last):\n"
       ]
      },
      {
       "output_type": "stream",
       "stream": "stdout",
       "text": [
        "\n",
        "(<class 'lxml.etree.XMLSyntaxError'>, XMLSyntaxError(u'line 1092: htmlParseEntityRef: no name',), <traceback object at 0x7f564ec89128>)\n",
        "processed  301\n",
        "skipped  156\n",
        "535201962\n",
        "error on download535201962"
       ]
      },
      {
       "output_type": "stream",
       "stream": "stderr",
       "text": [
        "  File \"<ipython-input-41-0e1172e16ab4>\", line 11, in <module>\n",
        "    res = comp_extractors( extractor_training_object )\n",
        "  File \"<ipython-input-23-91249bf1c046>\", line 19, in comp_extractors\n",
        "    extraction_results = get_extraction_results( eto )\n",
        "  File \"<ipython-input-22-35bdc612153c>\", line 10, in get_extraction_results\n",
        "    ret['python_readibilty'] = { 'extracted_html': extract_with_python_readability( raw_content ) }\n",
        "  File \"<ipython-input-8-5916dff6f29a>\", line 6, in extract_with_python_readability\n",
        "    return doc.short_title() + \"\\n\\n\" + doc.summary()\n",
        "  File \"/usr/local/lib/python2.7/dist-packages/readability/readability.py\", line 139, in short_title\n",
        "    return shorten_title(self._html(True))\n",
        "  File \"/usr/local/lib/python2.7/dist-packages/readability/readability.py\", line 119, in _html\n",
        "    self.html = self._parse(self.input)\n",
        "  File \"/usr/local/lib/python2.7/dist-packages/readability/readability.py\", line 123, in _parse\n",
        "    doc, self.encoding = build_doc(input)\n",
        "  File \"/usr/local/lib/python2.7/dist-packages/readability/htmls.py\", line 17, in build_doc\n",
        "    doc = lxml.html.document_fromstring(page_unicode.encode('utf-8', 'replace'), parser=utf8_parser)\n",
        "  File \"/usr/local/lib/python2.7/dist-packages/lxml/html/__init__.py\", line 568, in document_fromstring\n",
        "    value = etree.fromstring(html, parser, **kw)\n",
        "  File \"lxml.etree.pyx\", line 2997, in lxml.etree.fromstring (src/lxml/lxml.etree.c:63276)\n",
        "  File \"parser.pxi\", line 1617, in lxml.etree._parseMemoryDocument (src/lxml/lxml.etree.c:93691)\n",
        "  File \"parser.pxi\", line 1495, in lxml.etree._parseDoc (src/lxml/lxml.etree.c:92490)\n",
        "  File \"parser.pxi\", line 1011, in lxml.etree._BaseParser._parseDoc (src/lxml/lxml.etree.c:89130)\n",
        "  File \"parser.pxi\", line 577, in lxml.etree._ParserContext._handleParseResultDoc (src/lxml/lxml.etree.c:84831)\n",
        "  File \"parser.pxi\", line 676, in lxml.etree._handleParseResult (src/lxml/lxml.etree.c:85936)\n",
        "  File \"parser.pxi\", line 625, in lxml.etree._raiseParseError (src/lxml/lxml.etree.c:85392)\n",
        "XMLSyntaxError: line 1092: htmlParseEntityRef: no name\n",
        "Traceback (most recent call last):\n"
       ]
      },
      {
       "output_type": "stream",
       "stream": "stdout",
       "text": [
        "\n",
        "(<class 'lxml.etree.XMLSyntaxError'>, XMLSyntaxError(u'line 1092: htmlParseEntityRef: no name',), <traceback object at 0x7f564ec89830>)\n",
        "processed  301\n",
        "skipped  157\n",
        "535469332\n",
        "error on download535469332"
       ]
      },
      {
       "output_type": "stream",
       "stream": "stderr",
       "text": [
        "  File \"<ipython-input-41-0e1172e16ab4>\", line 11, in <module>\n",
        "    res = comp_extractors( extractor_training_object )\n",
        "  File \"<ipython-input-23-91249bf1c046>\", line 19, in comp_extractors\n",
        "    extraction_results = get_extraction_results( eto )\n",
        "  File \"<ipython-input-22-35bdc612153c>\", line 10, in get_extraction_results\n",
        "    ret['python_readibilty'] = { 'extracted_html': extract_with_python_readability( raw_content ) }\n",
        "  File \"<ipython-input-8-5916dff6f29a>\", line 6, in extract_with_python_readability\n",
        "    return doc.short_title() + \"\\n\\n\" + doc.summary()\n",
        "  File \"/usr/local/lib/python2.7/dist-packages/readability/readability.py\", line 139, in short_title\n",
        "    return shorten_title(self._html(True))\n",
        "  File \"/usr/local/lib/python2.7/dist-packages/readability/readability.py\", line 119, in _html\n",
        "    self.html = self._parse(self.input)\n",
        "  File \"/usr/local/lib/python2.7/dist-packages/readability/readability.py\", line 123, in _parse\n",
        "    doc, self.encoding = build_doc(input)\n",
        "  File \"/usr/local/lib/python2.7/dist-packages/readability/htmls.py\", line 17, in build_doc\n",
        "    doc = lxml.html.document_fromstring(page_unicode.encode('utf-8', 'replace'), parser=utf8_parser)\n",
        "  File \"/usr/local/lib/python2.7/dist-packages/lxml/html/__init__.py\", line 568, in document_fromstring\n",
        "    value = etree.fromstring(html, parser, **kw)\n",
        "  File \"lxml.etree.pyx\", line 2997, in lxml.etree.fromstring (src/lxml/lxml.etree.c:63276)\n",
        "  File \"parser.pxi\", line 1617, in lxml.etree._parseMemoryDocument (src/lxml/lxml.etree.c:93691)\n",
        "  File \"parser.pxi\", line 1495, in lxml.etree._parseDoc (src/lxml/lxml.etree.c:92490)\n",
        "  File \"parser.pxi\", line 1011, in lxml.etree._BaseParser._parseDoc (src/lxml/lxml.etree.c:89130)\n",
        "  File \"parser.pxi\", line 577, in lxml.etree._ParserContext._handleParseResultDoc (src/lxml/lxml.etree.c:84831)\n",
        "  File \"parser.pxi\", line 676, in lxml.etree._handleParseResult (src/lxml/lxml.etree.c:85936)\n",
        "  File \"parser.pxi\", line 625, in lxml.etree._raiseParseError (src/lxml/lxml.etree.c:85392)\n",
        "XMLSyntaxError: line 1092: htmlParseEntityRef: no name\n",
        "Traceback (most recent call last):\n"
       ]
      },
      {
       "output_type": "stream",
       "stream": "stdout",
       "text": [
        "\n",
        "(<class 'lxml.etree.XMLSyntaxError'>, XMLSyntaxError(u'line 1092: htmlParseEntityRef: no name',), <traceback object at 0x7f564ec89cb0>)\n",
        "processed  301\n",
        "skipped  158\n",
        "535880958\n",
        "processed "
       ]
      },
      {
       "output_type": "stream",
       "stream": "stdout",
       "text": [
        " 302\n",
        "skipped  158\n",
        "536622410\n",
        "processed "
       ]
      },
      {
       "output_type": "stream",
       "stream": "stdout",
       "text": [
        " 303\n",
        "skipped  158\n",
        "536622427\n",
        "processed "
       ]
      },
      {
       "output_type": "stream",
       "stream": "stdout",
       "text": [
        " 304\n",
        "skipped  158\n",
        "536670142\n",
        "processed "
       ]
      },
      {
       "output_type": "stream",
       "stream": "stdout",
       "text": [
        " 305\n",
        "skipped  158\n",
        "536689603\n",
        "processed "
       ]
      },
      {
       "output_type": "stream",
       "stream": "stdout",
       "text": [
        " 306\n",
        "skipped  158\n",
        "536697475\n",
        "processed "
       ]
      },
      {
       "output_type": "stream",
       "stream": "stdout",
       "text": [
        " 307\n",
        "skipped  158\n",
        "536720884\n",
        "processed "
       ]
      },
      {
       "output_type": "stream",
       "stream": "stdout",
       "text": [
        " 308\n",
        "skipped  158\n",
        "536817371\n",
        "processed "
       ]
      },
      {
       "output_type": "stream",
       "stream": "stdout",
       "text": [
        " 309\n",
        "skipped  158\n",
        "536828101\n",
        "processed "
       ]
      },
      {
       "output_type": "stream",
       "stream": "stdout",
       "text": [
        " 310\n",
        "skipped  158\n",
        "536833731\n",
        "processed "
       ]
      },
      {
       "output_type": "stream",
       "stream": "stdout",
       "text": [
        " 311\n",
        "skipped  158\n",
        "536870204\n",
        "processed "
       ]
      },
      {
       "output_type": "stream",
       "stream": "stdout",
       "text": [
        " 312\n",
        "skipped  158\n",
        "536977072\n",
        "processed "
       ]
      },
      {
       "output_type": "stream",
       "stream": "stdout",
       "text": [
        " 313\n",
        "skipped  158\n",
        "537231678\n",
        "processed "
       ]
      },
      {
       "output_type": "stream",
       "stream": "stdout",
       "text": [
        " 314\n",
        "skipped  158\n",
        "537256396\n",
        "processed "
       ]
      },
      {
       "output_type": "stream",
       "stream": "stdout",
       "text": [
        " 315\n",
        "skipped  158\n",
        "537501183\n",
        "processed "
       ]
      },
      {
       "output_type": "stream",
       "stream": "stdout",
       "text": [
        " 316\n",
        "skipped  158\n",
        "537704893\n",
        "processed "
       ]
      },
      {
       "output_type": "stream",
       "stream": "stdout",
       "text": [
        " 317\n",
        "skipped  158\n",
        "538721777\n",
        "processed "
       ]
      },
      {
       "output_type": "stream",
       "stream": "stdout",
       "text": [
        " 318\n",
        "skipped  158\n",
        "539056055\n",
        "processed "
       ]
      },
      {
       "output_type": "stream",
       "stream": "stdout",
       "text": [
        " 319\n",
        "skipped  158\n",
        "539126425\n",
        "processed "
       ]
      },
      {
       "output_type": "stream",
       "stream": "stdout",
       "text": [
        " 320\n",
        "skipped  158\n",
        "539382819\n",
        "processed "
       ]
      },
      {
       "output_type": "stream",
       "stream": "stdout",
       "text": [
        " 321\n",
        "skipped  158\n",
        "539387198\n",
        "processed "
       ]
      },
      {
       "output_type": "stream",
       "stream": "stdout",
       "text": [
        " 322\n",
        "skipped  158\n",
        "539389371\n",
        "processed "
       ]
      },
      {
       "output_type": "stream",
       "stream": "stdout",
       "text": [
        " 323\n",
        "skipped  158\n",
        "539392922\n",
        "processed "
       ]
      },
      {
       "output_type": "stream",
       "stream": "stdout",
       "text": [
        " 324\n",
        "skipped  158\n",
        "539411169\n",
        "processed "
       ]
      },
      {
       "output_type": "stream",
       "stream": "stdout",
       "text": [
        " 325\n",
        "skipped  158\n",
        "539415012\n",
        "processed "
       ]
      },
      {
       "output_type": "stream",
       "stream": "stdout",
       "text": [
        " 326\n",
        "skipped  158\n",
        "539423034\n",
        "processed "
       ]
      },
      {
       "output_type": "stream",
       "stream": "stdout",
       "text": [
        " 327\n",
        "skipped  158\n",
        "539444342\n",
        "processed "
       ]
      },
      {
       "output_type": "stream",
       "stream": "stdout",
       "text": [
        " 328\n",
        "skipped  158\n",
        "539444757\n",
        "processed "
       ]
      },
      {
       "output_type": "stream",
       "stream": "stdout",
       "text": [
        " 329\n",
        "skipped  158\n",
        "539445540\n",
        "processed "
       ]
      },
      {
       "output_type": "stream",
       "stream": "stdout",
       "text": [
        " 330\n",
        "skipped  158\n",
        "539453644\n",
        "processed "
       ]
      },
      {
       "output_type": "stream",
       "stream": "stdout",
       "text": [
        " 331\n",
        "skipped  158\n",
        "539482866\n",
        "processed "
       ]
      },
      {
       "output_type": "stream",
       "stream": "stdout",
       "text": [
        " 332\n",
        "skipped  158\n",
        "539483121\n",
        "processed "
       ]
      },
      {
       "output_type": "stream",
       "stream": "stdout",
       "text": [
        " 333\n",
        "skipped  158\n",
        "539535265\n",
        "processed "
       ]
      },
      {
       "output_type": "stream",
       "stream": "stdout",
       "text": [
        " 334\n",
        "skipped  158\n",
        "539535898\n",
        "processed "
       ]
      },
      {
       "output_type": "stream",
       "stream": "stdout",
       "text": [
        " 335\n",
        "skipped  158\n",
        "539639827\n",
        "processed "
       ]
      },
      {
       "output_type": "stream",
       "stream": "stdout",
       "text": [
        " 336\n",
        "skipped  158\n",
        "539693458\n",
        "processed "
       ]
      },
      {
       "output_type": "stream",
       "stream": "stdout",
       "text": [
        " 337\n",
        "skipped  158\n",
        "539699310\n",
        "processed "
       ]
      },
      {
       "output_type": "stream",
       "stream": "stdout",
       "text": [
        " 338\n",
        "skipped  158\n",
        "539784484\n",
        "processed "
       ]
      },
      {
       "output_type": "stream",
       "stream": "stdout",
       "text": [
        " 339\n",
        "skipped  158\n",
        "539855645\n",
        "processed "
       ]
      },
      {
       "output_type": "stream",
       "stream": "stdout",
       "text": [
        " 340\n",
        "skipped  158\n",
        "539862886\n",
        "processed "
       ]
      },
      {
       "output_type": "stream",
       "stream": "stdout",
       "text": [
        " 341\n",
        "skipped  158\n",
        "540049468\n",
        "processed "
       ]
      },
      {
       "output_type": "stream",
       "stream": "stdout",
       "text": [
        " 342\n",
        "skipped  158\n",
        "540072482\n",
        "processed "
       ]
      },
      {
       "output_type": "stream",
       "stream": "stdout",
       "text": [
        " 343\n",
        "skipped  158\n",
        "540124060\n",
        "processed "
       ]
      },
      {
       "output_type": "stream",
       "stream": "stdout",
       "text": [
        " 344\n",
        "skipped  158\n",
        "540219129\n",
        "processed "
       ]
      },
      {
       "output_type": "stream",
       "stream": "stdout",
       "text": [
        " 345\n",
        "skipped  158\n",
        "540246359\n",
        "processed "
       ]
      },
      {
       "output_type": "stream",
       "stream": "stdout",
       "text": [
        " 346\n",
        "skipped  158\n",
        "540356681\n",
        "processed "
       ]
      },
      {
       "output_type": "stream",
       "stream": "stdout",
       "text": [
        " 347\n",
        "skipped  158\n",
        "540448548\n",
        "processed "
       ]
      },
      {
       "output_type": "stream",
       "stream": "stdout",
       "text": [
        " 348\n",
        "skipped  158\n",
        "540628443\n",
        "processed "
       ]
      },
      {
       "output_type": "stream",
       "stream": "stdout",
       "text": [
        " 349\n",
        "skipped  158\n",
        "540729123\n",
        "processed "
       ]
      },
      {
       "output_type": "stream",
       "stream": "stdout",
       "text": [
        " 350\n",
        "skipped  158\n",
        "540938254\n",
        "processed "
       ]
      },
      {
       "output_type": "stream",
       "stream": "stdout",
       "text": [
        " 351\n",
        "skipped  158\n",
        "541044672\n",
        "processed "
       ]
      },
      {
       "output_type": "stream",
       "stream": "stdout",
       "text": [
        " 352\n",
        "skipped  158\n",
        "541380062\n",
        "processed "
       ]
      },
      {
       "output_type": "stream",
       "stream": "stdout",
       "text": [
        " 353\n",
        "skipped  158\n",
        "541787974\n",
        "processed "
       ]
      },
      {
       "output_type": "stream",
       "stream": "stdout",
       "text": [
        " 354\n",
        "skipped  158\n",
        "541944011\n",
        "processed "
       ]
      },
      {
       "output_type": "stream",
       "stream": "stdout",
       "text": [
        " 355\n",
        "skipped  158\n",
        "542151181\n",
        "processed "
       ]
      },
      {
       "output_type": "stream",
       "stream": "stdout",
       "text": [
        " 356\n",
        "skipped  158\n",
        "542292829\n",
        "processed "
       ]
      },
      {
       "output_type": "stream",
       "stream": "stdout",
       "text": [
        " 357\n",
        "skipped  158\n",
        "542601235\n",
        "processed "
       ]
      },
      {
       "output_type": "stream",
       "stream": "stdout",
       "text": [
        " 358\n",
        "skipped  158\n",
        "542607593\n",
        "processed "
       ]
      },
      {
       "output_type": "stream",
       "stream": "stdout",
       "text": [
        " 359\n",
        "skipped  158\n",
        "542722436\n",
        "processed "
       ]
      },
      {
       "output_type": "stream",
       "stream": "stdout",
       "text": [
        " 360\n",
        "skipped  158\n",
        "543002984\n",
        "processed "
       ]
      },
      {
       "output_type": "stream",
       "stream": "stdout",
       "text": [
        " 361\n",
        "skipped  158\n",
        "544804153\n",
        "processed "
       ]
      },
      {
       "output_type": "stream",
       "stream": "stdout",
       "text": [
        " 362\n",
        "skipped  158\n",
        "545408829\n",
        "processed "
       ]
      },
      {
       "output_type": "stream",
       "stream": "stdout",
       "text": [
        " 363\n",
        "skipped  158\n",
        "545490257\n",
        "processed "
       ]
      },
      {
       "output_type": "stream",
       "stream": "stdout",
       "text": [
        " 364\n",
        "skipped  158\n",
        "546226391\n",
        "processed "
       ]
      },
      {
       "output_type": "stream",
       "stream": "stdout",
       "text": [
        " 365\n",
        "skipped  158\n",
        "546447285\n",
        "processed "
       ]
      },
      {
       "output_type": "stream",
       "stream": "stdout",
       "text": [
        " 366\n",
        "skipped  158\n",
        "546452241\n",
        "processed "
       ]
      },
      {
       "output_type": "stream",
       "stream": "stdout",
       "text": [
        " 367\n",
        "skipped  158\n",
        "546475377\n",
        "processed "
       ]
      },
      {
       "output_type": "stream",
       "stream": "stdout",
       "text": [
        " 368\n",
        "skipped  158\n",
        "546744400\n",
        "processed "
       ]
      },
      {
       "output_type": "stream",
       "stream": "stdout",
       "text": [
        " 369\n",
        "skipped  158\n",
        "546865980\n",
        "processed "
       ]
      },
      {
       "output_type": "stream",
       "stream": "stdout",
       "text": [
        " 370\n",
        "skipped  158\n",
        "547134278\n",
        "processed "
       ]
      },
      {
       "output_type": "stream",
       "stream": "stdout",
       "text": [
        " 371\n",
        "skipped  158\n",
        "547947151\n",
        "processed "
       ]
      },
      {
       "output_type": "stream",
       "stream": "stdout",
       "text": [
        " 372\n",
        "skipped  158\n",
        "550077777\n",
        "processed "
       ]
      },
      {
       "output_type": "stream",
       "stream": "stdout",
       "text": [
        " 373\n",
        "skipped  158\n",
        "550220223\n",
        "processed "
       ]
      },
      {
       "output_type": "stream",
       "stream": "stdout",
       "text": [
        " 374\n",
        "skipped  158\n",
        "550246134\n",
        "processed "
       ]
      },
      {
       "output_type": "stream",
       "stream": "stdout",
       "text": [
        " 375\n",
        "skipped  158\n",
        "550918776\n",
        "processed "
       ]
      },
      {
       "output_type": "stream",
       "stream": "stdout",
       "text": [
        " 376\n",
        "skipped  158\n",
        "551714821\n",
        "processed "
       ]
      },
      {
       "output_type": "stream",
       "stream": "stdout",
       "text": [
        " 377\n",
        "skipped  158\n",
        "551991048\n",
        "processed "
       ]
      },
      {
       "output_type": "stream",
       "stream": "stdout",
       "text": [
        " 378\n",
        "skipped  158\n",
        "552179030\n",
        "processed "
       ]
      },
      {
       "output_type": "stream",
       "stream": "stdout",
       "text": [
        " 379\n",
        "skipped  158\n",
        "552285278\n",
        "processed "
       ]
      },
      {
       "output_type": "stream",
       "stream": "stdout",
       "text": [
        " 380\n",
        "skipped  158\n",
        "552343286\n",
        "processed "
       ]
      },
      {
       "output_type": "stream",
       "stream": "stdout",
       "text": [
        " 381\n",
        "skipped  158\n",
        "552450557\n",
        "processed "
       ]
      },
      {
       "output_type": "stream",
       "stream": "stdout",
       "text": [
        " 382\n",
        "skipped  158\n",
        "553165338\n",
        "processed "
       ]
      },
      {
       "output_type": "stream",
       "stream": "stdout",
       "text": [
        " 383\n",
        "skipped  158\n",
        "554883505\n",
        "processed "
       ]
      },
      {
       "output_type": "stream",
       "stream": "stdout",
       "text": [
        " 384\n",
        "skipped  158\n",
        "555372352\n",
        "processed "
       ]
      },
      {
       "output_type": "stream",
       "stream": "stdout",
       "text": [
        " 385\n",
        "skipped  158\n",
        "555689825\n",
        "processed "
       ]
      },
      {
       "output_type": "stream",
       "stream": "stdout",
       "text": [
        " 386\n",
        "skipped  158\n",
        "555843132\n",
        "processed "
       ]
      },
      {
       "output_type": "stream",
       "stream": "stdout",
       "text": [
        " 387\n",
        "skipped  158\n",
        "556645479\n",
        "processed "
       ]
      },
      {
       "output_type": "stream",
       "stream": "stdout",
       "text": [
        " 388\n",
        "skipped  158\n",
        "556934454\n",
        "processed "
       ]
      },
      {
       "output_type": "stream",
       "stream": "stdout",
       "text": [
        " 389\n",
        "skipped  158\n",
        "557152619\n",
        "processed "
       ]
      },
      {
       "output_type": "stream",
       "stream": "stdout",
       "text": [
        " 390\n",
        "skipped  158\n",
        "557237971\n",
        "processed "
       ]
      },
      {
       "output_type": "stream",
       "stream": "stdout",
       "text": [
        " 391\n",
        "skipped  158\n",
        "557521276\n",
        "processed "
       ]
      },
      {
       "output_type": "stream",
       "stream": "stdout",
       "text": [
        " 392\n",
        "skipped  158\n",
        "558095303\n",
        "processed "
       ]
      },
      {
       "output_type": "stream",
       "stream": "stdout",
       "text": [
        " 393\n",
        "skipped  158\n",
        "558197649\n",
        "processed "
       ]
      },
      {
       "output_type": "stream",
       "stream": "stdout",
       "text": [
        " 394\n",
        "skipped  158\n",
        "558655687\n",
        "processed "
       ]
      },
      {
       "output_type": "stream",
       "stream": "stdout",
       "text": [
        " 395\n",
        "skipped  158\n",
        "558851890\n",
        "processed "
       ]
      },
      {
       "output_type": "stream",
       "stream": "stdout",
       "text": [
        " 396\n",
        "skipped  158\n",
        "559736417\n",
        "processed "
       ]
      },
      {
       "output_type": "stream",
       "stream": "stdout",
       "text": [
        " 397\n",
        "skipped  158\n",
        "559785151\n",
        "processed "
       ]
      },
      {
       "output_type": "stream",
       "stream": "stdout",
       "text": [
        " 398\n",
        "skipped  158\n",
        "560048673\n",
        "processed "
       ]
      },
      {
       "output_type": "stream",
       "stream": "stdout",
       "text": [
        " 399\n",
        "skipped  158\n",
        "560090309\n",
        "processed "
       ]
      },
      {
       "output_type": "stream",
       "stream": "stdout",
       "text": [
        " 400\n",
        "skipped  158\n",
        "560127916\n",
        "processed "
       ]
      },
      {
       "output_type": "stream",
       "stream": "stdout",
       "text": [
        " 401\n",
        "skipped  158\n",
        "560262829\n",
        "error on download560262829"
       ]
      },
      {
       "output_type": "stream",
       "stream": "stderr",
       "text": [
        "  File \"<ipython-input-41-0e1172e16ab4>\", line 11, in <module>\n",
        "    res = comp_extractors( extractor_training_object )\n",
        "  File \"<ipython-input-23-91249bf1c046>\", line 19, in comp_extractors\n",
        "    extraction_results = get_extraction_results( eto )\n",
        "  File \"<ipython-input-22-35bdc612153c>\", line 10, in get_extraction_results\n",
        "    ret['python_readibilty'] = { 'extracted_html': extract_with_python_readability( raw_content ) }\n",
        "  File \"<ipython-input-8-5916dff6f29a>\", line 6, in extract_with_python_readability\n",
        "    return doc.short_title() + \"\\n\\n\" + doc.summary()\n",
        "  File \"/usr/local/lib/python2.7/dist-packages/readability/readability.py\", line 139, in short_title\n",
        "    return shorten_title(self._html(True))\n",
        "  File \"/usr/local/lib/python2.7/dist-packages/readability/readability.py\", line 119, in _html\n",
        "    self.html = self._parse(self.input)\n",
        "  File \"/usr/local/lib/python2.7/dist-packages/readability/readability.py\", line 123, in _parse\n",
        "    doc, self.encoding = build_doc(input)\n",
        "  File \"/usr/local/lib/python2.7/dist-packages/readability/htmls.py\", line 17, in build_doc\n",
        "    doc = lxml.html.document_fromstring(page_unicode.encode('utf-8', 'replace'), parser=utf8_parser)\n",
        "  File \"/usr/local/lib/python2.7/dist-packages/lxml/html/__init__.py\", line 568, in document_fromstring\n",
        "    value = etree.fromstring(html, parser, **kw)\n",
        "  File \"lxml.etree.pyx\", line 2997, in lxml.etree.fromstring (src/lxml/lxml.etree.c:63276)\n",
        "  File \"parser.pxi\", line 1617, in lxml.etree._parseMemoryDocument (src/lxml/lxml.etree.c:93691)\n",
        "  File \"parser.pxi\", line 1495, in lxml.etree._parseDoc (src/lxml/lxml.etree.c:92490)\n",
        "  File \"parser.pxi\", line 1011, in lxml.etree._BaseParser._parseDoc (src/lxml/lxml.etree.c:89130)\n",
        "  File \"parser.pxi\", line 577, in lxml.etree._ParserContext._handleParseResultDoc (src/lxml/lxml.etree.c:84831)\n",
        "  File \"parser.pxi\", line 676, in lxml.etree._handleParseResult (src/lxml/lxml.etree.c:85936)\n",
        "  File \"parser.pxi\", line 625, in lxml.etree._raiseParseError (src/lxml/lxml.etree.c:85392)\n",
        "XMLSyntaxError: line 1092: htmlParseEntityRef: no name\n",
        "Traceback (most recent call last):\n"
       ]
      },
      {
       "output_type": "stream",
       "stream": "stdout",
       "text": [
        "\n",
        "(<type 'exceptions.ValueError'>, ValueError(u'Unicode strings with encoding declaration are not supported. Please use bytes input or XML fragments without declaration.',), <traceback object at 0x7f564e78ff80>)\n",
        "processed  401\n",
        "skipped  159\n",
        "560310961\n",
        "processed "
       ]
      },
      {
       "output_type": "stream",
       "stream": "stdout",
       "text": [
        " 402\n",
        "skipped  159\n",
        "560339085\n",
        "processed "
       ]
      },
      {
       "output_type": "stream",
       "stream": "stdout",
       "text": [
        " 403\n",
        "skipped  159\n",
        "560351631\n",
        "processed "
       ]
      },
      {
       "output_type": "stream",
       "stream": "stdout",
       "text": [
        " 404\n",
        "skipped  159\n",
        "560378287\n",
        "processed "
       ]
      },
      {
       "output_type": "stream",
       "stream": "stdout",
       "text": [
        " 405\n",
        "skipped  159\n",
        "560417790\n",
        "processed "
       ]
      },
      {
       "output_type": "stream",
       "stream": "stdout",
       "text": [
        " 406\n",
        "skipped  159\n",
        "560535896\n",
        "processed "
       ]
      },
      {
       "output_type": "stream",
       "stream": "stdout",
       "text": [
        " 407\n",
        "skipped  159\n",
        "560707952\n",
        "processed "
       ]
      },
      {
       "output_type": "stream",
       "stream": "stdout",
       "text": [
        " 408\n",
        "skipped  159\n",
        "560751009\n",
        "processed "
       ]
      },
      {
       "output_type": "stream",
       "stream": "stdout",
       "text": [
        " 409\n",
        "skipped  159\n",
        "560768548\n",
        "processed "
       ]
      },
      {
       "output_type": "stream",
       "stream": "stdout",
       "text": [
        " 410\n",
        "skipped  159\n",
        "560842330\n",
        "processed "
       ]
      },
      {
       "output_type": "stream",
       "stream": "stdout",
       "text": [
        " 411\n",
        "skipped  159\n",
        "561122957\n",
        "processed "
       ]
      },
      {
       "output_type": "stream",
       "stream": "stdout",
       "text": [
        " 412\n",
        "skipped  159\n",
        "561174738\n",
        "processed "
       ]
      },
      {
       "output_type": "stream",
       "stream": "stdout",
       "text": [
        " 413\n",
        "skipped  159\n",
        "561368626\n",
        "processed "
       ]
      },
      {
       "output_type": "stream",
       "stream": "stdout",
       "text": [
        " 414\n",
        "skipped  159\n",
        "561800981\n",
        "processed "
       ]
      },
      {
       "output_type": "stream",
       "stream": "stdout",
       "text": [
        " 415\n",
        "skipped  159\n",
        "562073055\n",
        "processed "
       ]
      },
      {
       "output_type": "stream",
       "stream": "stdout",
       "text": [
        " 416\n",
        "skipped  159\n",
        "562399059\n",
        "processed "
       ]
      },
      {
       "output_type": "stream",
       "stream": "stdout",
       "text": [
        " 417\n",
        "skipped  159\n",
        "562399486\n",
        "processed "
       ]
      },
      {
       "output_type": "stream",
       "stream": "stdout",
       "text": [
        " 418\n",
        "skipped  159\n",
        "562736854\n",
        "processed "
       ]
      },
      {
       "output_type": "stream",
       "stream": "stdout",
       "text": [
        " 419\n",
        "skipped  159\n",
        "562742684\n",
        "processed "
       ]
      },
      {
       "output_type": "stream",
       "stream": "stdout",
       "text": [
        " 420\n",
        "skipped  159\n",
        "562984785\n",
        "processed "
       ]
      },
      {
       "output_type": "stream",
       "stream": "stdout",
       "text": [
        " 421\n",
        "skipped  159\n",
        "563073521\n",
        "processed "
       ]
      },
      {
       "output_type": "stream",
       "stream": "stdout",
       "text": [
        " 422\n",
        "skipped  159\n",
        "563250031\n",
        "processed "
       ]
      },
      {
       "output_type": "stream",
       "stream": "stdout",
       "text": [
        " 423\n",
        "skipped  159\n",
        "563556588\n",
        "processed "
       ]
      },
      {
       "output_type": "stream",
       "stream": "stdout",
       "text": [
        " 424\n",
        "skipped  159\n",
        "563582892\n",
        "processed "
       ]
      },
      {
       "output_type": "stream",
       "stream": "stdout",
       "text": [
        " 425\n",
        "skipped  159\n",
        "563851373\n",
        "processed "
       ]
      },
      {
       "output_type": "stream",
       "stream": "stdout",
       "text": [
        " 426\n",
        "skipped  159\n",
        "564075589\n",
        "processed "
       ]
      },
      {
       "output_type": "stream",
       "stream": "stdout",
       "text": [
        " 427\n",
        "skipped  159\n",
        "564196161\n",
        "processed "
       ]
      },
      {
       "output_type": "stream",
       "stream": "stdout",
       "text": [
        " 428\n",
        "skipped  159\n",
        "564418488\n",
        "processed "
       ]
      },
      {
       "output_type": "stream",
       "stream": "stdout",
       "text": [
        " 429\n",
        "skipped  159\n",
        "564457008\n",
        "processed "
       ]
      },
      {
       "output_type": "stream",
       "stream": "stdout",
       "text": [
        " 430\n",
        "skipped  159\n",
        "565254169\n",
        "processed "
       ]
      },
      {
       "output_type": "stream",
       "stream": "stdout",
       "text": [
        " 431\n",
        "skipped  159\n",
        "565270689\n",
        "processed "
       ]
      },
      {
       "output_type": "stream",
       "stream": "stdout",
       "text": [
        " 432\n",
        "skipped  159\n",
        "565612572\n",
        "processed "
       ]
      },
      {
       "output_type": "stream",
       "stream": "stdout",
       "text": [
        " 433\n",
        "skipped  159\n",
        "565620132\n",
        "processed "
       ]
      },
      {
       "output_type": "stream",
       "stream": "stdout",
       "text": [
        " 434\n",
        "skipped  159\n",
        "565774715\n",
        "processed "
       ]
      },
      {
       "output_type": "stream",
       "stream": "stdout",
       "text": [
        " 435\n",
        "skipped  159\n",
        "565831221\n",
        "processed "
       ]
      },
      {
       "output_type": "stream",
       "stream": "stdout",
       "text": [
        " 436\n",
        "skipped  159\n",
        "566175982\n",
        "processed "
       ]
      },
      {
       "output_type": "stream",
       "stream": "stdout",
       "text": [
        " 437\n",
        "skipped  159\n",
        "566194155\n",
        "processed "
       ]
      },
      {
       "output_type": "stream",
       "stream": "stdout",
       "text": [
        " 438\n",
        "skipped  159\n",
        "566220098\n",
        "processed "
       ]
      },
      {
       "output_type": "stream",
       "stream": "stdout",
       "text": [
        " 439\n",
        "skipped  159\n",
        "566546448\n",
        "processed "
       ]
      },
      {
       "output_type": "stream",
       "stream": "stdout",
       "text": [
        " 440\n",
        "skipped  159\n",
        "566592645\n",
        "processed "
       ]
      },
      {
       "output_type": "stream",
       "stream": "stdout",
       "text": [
        " 441\n",
        "skipped  159\n",
        "566726127\n",
        "processed "
       ]
      },
      {
       "output_type": "stream",
       "stream": "stdout",
       "text": [
        " 442\n",
        "skipped  159\n",
        "567132910\n",
        "processed "
       ]
      },
      {
       "output_type": "stream",
       "stream": "stdout",
       "text": [
        " 443\n",
        "skipped  159\n",
        "567149912\n",
        "processed "
       ]
      },
      {
       "output_type": "stream",
       "stream": "stdout",
       "text": [
        " 444\n",
        "skipped  159\n",
        "567150914\n",
        "processed "
       ]
      },
      {
       "output_type": "stream",
       "stream": "stdout",
       "text": [
        " 445\n",
        "skipped  159\n",
        "567201539\n",
        "processed "
       ]
      },
      {
       "output_type": "stream",
       "stream": "stdout",
       "text": [
        " 446\n",
        "skipped  159\n",
        "567387189\n",
        "processed "
       ]
      },
      {
       "output_type": "stream",
       "stream": "stdout",
       "text": [
        " 447\n",
        "skipped  159\n",
        "567440968\n",
        "processed "
       ]
      },
      {
       "output_type": "stream",
       "stream": "stdout",
       "text": [
        " 448\n",
        "skipped  159\n",
        "567594230\n",
        "processed "
       ]
      },
      {
       "output_type": "stream",
       "stream": "stdout",
       "text": [
        " 449\n",
        "skipped  159\n",
        "567706084\n",
        "processed "
       ]
      },
      {
       "output_type": "stream",
       "stream": "stdout",
       "text": [
        " 450\n",
        "skipped  159\n",
        "567808993\n",
        "error on download567808993"
       ]
      },
      {
       "output_type": "stream",
       "stream": "stderr",
       "text": [
        "  File \"<ipython-input-41-0e1172e16ab4>\", line 11, in <module>\n",
        "    res = comp_extractors( extractor_training_object )\n",
        "  File \"<ipython-input-23-91249bf1c046>\", line 19, in comp_extractors\n",
        "    extraction_results = get_extraction_results( eto )\n",
        "  File \"<ipython-input-22-35bdc612153c>\", line 11, in get_extraction_results\n",
        "    ret['py_goose']  = { 'extracted_html': extract_with_python_goose( raw_content ) }\n",
        "  File \"<ipython-input-9-da7d07f83e6d>\", line 6, in extract_with_python_goose\n",
        "    r = g.extract( raw_html=raw_content )\n",
        "  File \"/usr/local/lib/python2.7/dist-packages/goose/__init__.py\", line 56, in extract\n",
        "    return self.crawl(cc)\n",
        "  File \"/usr/local/lib/python2.7/dist-packages/goose/__init__.py\", line 63, in crawl\n",
        "    article = crawler.crawl(crawl_candiate)\n",
        "  File \"/usr/local/lib/python2.7/dist-packages/goose/crawler.py\", line 90, in crawl\n",
        "    doc = self.get_document(raw_html)\n",
        "  File \"/usr/local/lib/python2.7/dist-packages/goose/crawler.py\", line 176, in get_document\n",
        "    doc = self.parser.fromstring(raw_html)\n",
        "  File \"/usr/local/lib/python2.7/dist-packages/goose/parsers.py\", line 54, in fromstring\n",
        "    self.doc = lxml.html.fromstring(html)\n",
        "  File \"/usr/local/lib/python2.7/dist-packages/lxml/html/__init__.py\", line 672, in fromstring\n",
        "    doc = document_fromstring(html, parser=parser, base_url=base_url, **kw)\n",
        "  File \"/usr/local/lib/python2.7/dist-packages/lxml/html/__init__.py\", line 568, in document_fromstring\n",
        "    value = etree.fromstring(html, parser, **kw)\n",
        "  File \"lxml.etree.pyx\", line 2997, in lxml.etree.fromstring (src/lxml/lxml.etree.c:63276)\n",
        "  File \"parser.pxi\", line 1607, in lxml.etree._parseMemoryDocument (src/lxml/lxml.etree.c:93592)\n",
        "ValueError: Unicode strings with encoding declaration are not supported. Please use bytes input or XML fragments without declaration.\n",
        "Traceback (most recent call last):\n"
       ]
      },
      {
       "output_type": "stream",
       "stream": "stdout",
       "text": [
        "\n",
        "(<type 'exceptions.IOError'>, IOError('cannot identify image file',), <traceback object at 0x7f564e3ba950>)\n",
        "processed  450\n",
        "skipped  160\n",
        "568058112\n",
        "processed "
       ]
      },
      {
       "output_type": "stream",
       "stream": "stdout",
       "text": [
        " 451\n",
        "skipped  160\n",
        "568220153\n",
        "processed "
       ]
      },
      {
       "output_type": "stream",
       "stream": "stdout",
       "text": [
        " 452\n",
        "skipped  160\n",
        "568278639\n",
        "processed "
       ]
      },
      {
       "output_type": "stream",
       "stream": "stdout",
       "text": [
        " 453\n",
        "skipped  160\n",
        "568314417\n",
        "processed "
       ]
      },
      {
       "output_type": "stream",
       "stream": "stdout",
       "text": [
        " 454\n",
        "skipped  160\n",
        "568405515\n",
        "processed "
       ]
      },
      {
       "output_type": "stream",
       "stream": "stdout",
       "text": [
        " 455\n",
        "skipped  160\n",
        "568873296\n",
        "processed "
       ]
      },
      {
       "output_type": "stream",
       "stream": "stdout",
       "text": [
        " 456\n",
        "skipped  160\n",
        "569385275\n",
        "processed "
       ]
      },
      {
       "output_type": "stream",
       "stream": "stdout",
       "text": [
        " 457\n",
        "skipped  160\n",
        "569400896\n",
        "processed "
       ]
      },
      {
       "output_type": "stream",
       "stream": "stdout",
       "text": [
        " 458\n",
        "skipped  160\n",
        "569440622\n",
        "processed "
       ]
      },
      {
       "output_type": "stream",
       "stream": "stdout",
       "text": [
        " 459\n",
        "skipped  160\n",
        "569448540\n",
        "processed "
       ]
      },
      {
       "output_type": "stream",
       "stream": "stdout",
       "text": [
        " 460\n",
        "skipped  160\n",
        "569458361\n",
        "processed "
       ]
      },
      {
       "output_type": "stream",
       "stream": "stdout",
       "text": [
        " 461\n",
        "skipped  160\n",
        "569473458\n",
        "processed "
       ]
      },
      {
       "output_type": "stream",
       "stream": "stdout",
       "text": [
        " 462\n",
        "skipped  160\n",
        "570126417\n",
        "processed "
       ]
      },
      {
       "output_type": "stream",
       "stream": "stdout",
       "text": [
        " 463\n",
        "skipped  160\n",
        "570281609\n",
        "processed "
       ]
      },
      {
       "output_type": "stream",
       "stream": "stdout",
       "text": [
        " 464\n",
        "skipped  160\n",
        "570420066\n",
        "processed "
       ]
      },
      {
       "output_type": "stream",
       "stream": "stdout",
       "text": [
        " 465\n",
        "skipped  160\n",
        "570820516\n",
        "processed "
       ]
      },
      {
       "output_type": "stream",
       "stream": "stdout",
       "text": [
        " 466\n",
        "skipped  160\n",
        "571250692\n",
        "processed "
       ]
      },
      {
       "output_type": "stream",
       "stream": "stdout",
       "text": [
        " 467\n",
        "skipped  160\n",
        "572427751\n",
        "processed "
       ]
      },
      {
       "output_type": "stream",
       "stream": "stdout",
       "text": [
        " 468\n",
        "skipped  160\n",
        "572497331\n",
        "processed "
       ]
      },
      {
       "output_type": "stream",
       "stream": "stdout",
       "text": [
        " 469\n",
        "skipped  160\n",
        "572595598\n",
        "processed "
       ]
      },
      {
       "output_type": "stream",
       "stream": "stdout",
       "text": [
        " 470\n",
        "skipped  160\n",
        "576800952\n",
        "processed "
       ]
      },
      {
       "output_type": "stream",
       "stream": "stdout",
       "text": [
        " 471\n",
        "skipped  160\n",
        "576826346\n",
        "processed "
       ]
      },
      {
       "output_type": "stream",
       "stream": "stdout",
       "text": [
        " 472\n",
        "skipped  160\n",
        "576906221\n",
        "processed "
       ]
      },
      {
       "output_type": "stream",
       "stream": "stdout",
       "text": [
        " 473\n",
        "skipped  160\n",
        "577070880\n",
        "processed "
       ]
      },
      {
       "output_type": "stream",
       "stream": "stdout",
       "text": [
        " 474\n",
        "skipped  160\n",
        "577076453\n",
        "processed "
       ]
      },
      {
       "output_type": "stream",
       "stream": "stdout",
       "text": [
        " 475\n",
        "skipped  160\n",
        "577226126\n",
        "processed "
       ]
      },
      {
       "output_type": "stream",
       "stream": "stdout",
       "text": [
        " 476\n",
        "skipped  160\n",
        "578103835\n",
        "processed "
       ]
      },
      {
       "output_type": "stream",
       "stream": "stdout",
       "text": [
        " 477\n",
        "skipped  160\n",
        "578124694\n",
        "processed "
       ]
      },
      {
       "output_type": "stream",
       "stream": "stdout",
       "text": [
        " 478\n",
        "skipped  160\n",
        "578153622\n",
        "processed "
       ]
      },
      {
       "output_type": "stream",
       "stream": "stdout",
       "text": [
        " 479\n",
        "skipped  160\n",
        "578156115\n",
        "processed "
       ]
      },
      {
       "output_type": "stream",
       "stream": "stdout",
       "text": [
        " 480\n",
        "skipped  160\n",
        "578156372\n",
        "processed "
       ]
      },
      {
       "output_type": "stream",
       "stream": "stdout",
       "text": [
        " 481\n",
        "skipped  160\n",
        "578156412\n",
        "processed "
       ]
      },
      {
       "output_type": "stream",
       "stream": "stdout",
       "text": [
        " 482\n",
        "skipped  160\n",
        "578167861\n",
        "processed "
       ]
      },
      {
       "output_type": "stream",
       "stream": "stdout",
       "text": [
        " 483\n",
        "skipped  160\n",
        "578210309\n",
        "processed "
       ]
      },
      {
       "output_type": "stream",
       "stream": "stdout",
       "text": [
        " 484\n",
        "skipped  160\n",
        "578210949\n",
        "error on download578210949"
       ]
      },
      {
       "output_type": "stream",
       "stream": "stderr",
       "text": [
        "  File \"<ipython-input-41-0e1172e16ab4>\", line 11, in <module>\n",
        "    res = comp_extractors( extractor_training_object )\n",
        "  File \"<ipython-input-23-91249bf1c046>\", line 19, in comp_extractors\n",
        "    extraction_results = get_extraction_results( eto )\n",
        "  File \"<ipython-input-22-35bdc612153c>\", line 11, in get_extraction_results\n",
        "    ret['py_goose']  = { 'extracted_html': extract_with_python_goose( raw_content ) }\n",
        "  File \"<ipython-input-9-da7d07f83e6d>\", line 6, in extract_with_python_goose\n",
        "    r = g.extract( raw_html=raw_content )\n",
        "  File \"/usr/local/lib/python2.7/dist-packages/goose/__init__.py\", line 56, in extract\n",
        "    return self.crawl(cc)\n",
        "  File \"/usr/local/lib/python2.7/dist-packages/goose/__init__.py\", line 63, in crawl\n",
        "    article = crawler.crawl(crawl_candiate)\n",
        "  File \"/usr/local/lib/python2.7/dist-packages/goose/crawler.py\", line 125, in crawl\n",
        "    self.get_image()\n",
        "  File \"/usr/local/lib/python2.7/dist-packages/goose/crawler.py\", line 147, in get_image\n",
        "    self.article.top_image = self.image_extractor.get_best_image(doc, top_node)\n",
        "  File \"/usr/local/lib/python2.7/dist-packages/goose/images/extractors.py\", line 88, in get_best_image\n",
        "    image = self.check_large_images(topNode, 0, 0)\n",
        "  File \"/usr/local/lib/python2.7/dist-packages/goose/images/extractors.py\", line 141, in check_large_images\n",
        "    depth_obj.parent_depth, depth_obj.sibling_depth)\n",
        "  File \"/usr/local/lib/python2.7/dist-packages/goose/images/extractors.py\", line 141, in check_large_images\n",
        "    depth_obj.parent_depth, depth_obj.sibling_depth)\n",
        "  File \"/usr/local/lib/python2.7/dist-packages/goose/images/extractors.py\", line 141, in check_large_images\n",
        "    depth_obj.parent_depth, depth_obj.sibling_depth)\n",
        "  File \"/usr/local/lib/python2.7/dist-packages/goose/images/extractors.py\", line 141, in check_large_images\n",
        "    depth_obj.parent_depth, depth_obj.sibling_depth)\n",
        "  File \"/usr/local/lib/python2.7/dist-packages/goose/images/extractors.py\", line 141, in check_large_images\n",
        "    depth_obj.parent_depth, depth_obj.sibling_depth)\n",
        "  File \"/usr/local/lib/python2.7/dist-packages/goose/images/extractors.py\", line 122, in check_large_images\n",
        "    good_images = self.get_image_candidates(node)\n",
        "  File \"/usr/local/lib/python2.7/dist-packages/goose/images/extractors.py\", line 283, in get_image_candidates\n",
        "    good_images = self.get_images_bytesize_match(filtered_images)\n",
        "  File \"/usr/local/lib/python2.7/dist-packages/goose/images/extractors.py\", line 299, in get_images_bytesize_match\n",
        "    local_image = self.get_local_image(src)\n",
        "  File \"/usr/local/lib/python2.7/dist-packages/goose/images/extractors.py\", line 344, in get_local_image\n",
        "    self.link_hash, src, self.config)\n",
        "  File \"/usr/local/lib/python2.7/dist-packages/goose/images/utils.py\", line 52, in store_image\n",
        "    image = self.read_localfile(link_hash, src, config)\n",
        "  File \"/usr/local/lib/python2.7/dist-packages/goose/images/utils.py\", line 81, in read_localfile\n",
        "    image_details = self.get_image_dimensions(identify, local_image_name)\n",
        "  File \"/usr/local/lib/python2.7/dist-packages/goose/images/utils.py\", line 36, in get_image_dimensions\n",
        "    image = Image.open(path)\n",
        "  File \"/usr/lib/python2.7/dist-packages/PIL/Image.py\", line 2028, in open\n",
        "    raise IOError(\"cannot identify image file\")\n",
        "IOError: cannot identify image file\n",
        "Traceback (most recent call last):\n"
       ]
      },
      {
       "output_type": "stream",
       "stream": "stdout",
       "text": [
        "\n",
        "(<type 'exceptions.IOError'>, IOError(\"Couldn't open file /usr/local/lib/python2.7/dist-packages/goose/resources/text/stopwords-un.txt\",), <traceback object at 0x7f564e403440>)\n",
        "processed  484\n",
        "skipped  161\n",
        "578294304\n",
        "processed "
       ]
      },
      {
       "output_type": "stream",
       "stream": "stdout",
       "text": [
        " 485\n",
        "skipped  161\n",
        "578364597\n",
        "processed "
       ]
      },
      {
       "output_type": "stream",
       "stream": "stdout",
       "text": [
        " 486\n",
        "skipped  161\n",
        "578371687\n",
        "processed "
       ]
      },
      {
       "output_type": "stream",
       "stream": "stdout",
       "text": [
        " 487\n",
        "skipped  161\n",
        "578520886\n",
        "processed "
       ]
      },
      {
       "output_type": "stream",
       "stream": "stdout",
       "text": [
        " 488\n",
        "skipped  161\n",
        "578636827\n",
        "processed "
       ]
      },
      {
       "output_type": "stream",
       "stream": "stdout",
       "text": [
        " 489\n",
        "skipped  161\n",
        "578653839\n",
        "processed "
       ]
      },
      {
       "output_type": "stream",
       "stream": "stdout",
       "text": [
        " 490\n",
        "skipped  161\n",
        "578713987\n",
        "processed "
       ]
      },
      {
       "output_type": "stream",
       "stream": "stdout",
       "text": [
        " 491\n",
        "skipped  161\n",
        "578974914\n",
        "processed "
       ]
      },
      {
       "output_type": "stream",
       "stream": "stdout",
       "text": [
        " 492\n",
        "skipped  161\n",
        "579044624\n",
        "processed "
       ]
      },
      {
       "output_type": "stream",
       "stream": "stdout",
       "text": [
        " 493\n",
        "skipped  161\n",
        "580296869\n",
        "processed "
       ]
      },
      {
       "output_type": "stream",
       "stream": "stdout",
       "text": [
        " 494\n",
        "skipped  161\n",
        "581963231\n",
        "processed "
       ]
      },
      {
       "output_type": "stream",
       "stream": "stdout",
       "text": [
        " 495\n",
        "skipped  161\n",
        "589072496\n",
        "processed "
       ]
      },
      {
       "output_type": "stream",
       "stream": "stdout",
       "text": [
        " 496\n",
        "skipped  161\n",
        "589074541\n",
        "processed "
       ]
      },
      {
       "output_type": "stream",
       "stream": "stdout",
       "text": [
        " 497\n",
        "skipped  161\n",
        "589074546\n",
        "processed "
       ]
      },
      {
       "output_type": "stream",
       "stream": "stdout",
       "text": [
        " 498\n",
        "skipped  161\n",
        "589088428\n",
        "processed "
       ]
      },
      {
       "output_type": "stream",
       "stream": "stdout",
       "text": [
        " 499\n",
        "skipped  161\n",
        "589089635\n",
        "processed "
       ]
      },
      {
       "output_type": "stream",
       "stream": "stdout",
       "text": [
        " 500\n",
        "skipped  161\n",
        "589090828\n",
        "processed "
       ]
      },
      {
       "output_type": "stream",
       "stream": "stdout",
       "text": [
        " 501\n",
        "skipped  161\n",
        "589116902\n",
        "processed "
       ]
      },
      {
       "output_type": "stream",
       "stream": "stdout",
       "text": [
        " 502\n",
        "skipped  161\n",
        "589116915\n",
        "processed "
       ]
      },
      {
       "output_type": "stream",
       "stream": "stdout",
       "text": [
        " 503\n",
        "skipped  161\n",
        "589129653\n",
        "processed "
       ]
      },
      {
       "output_type": "stream",
       "stream": "stdout",
       "text": [
        " 504\n",
        "skipped  161\n",
        "589153423\n",
        "processed "
       ]
      },
      {
       "output_type": "stream",
       "stream": "stdout",
       "text": [
        " 505\n",
        "skipped  161\n",
        "589156380\n",
        "processed "
       ]
      },
      {
       "output_type": "stream",
       "stream": "stdout",
       "text": [
        " 506\n",
        "skipped  161\n",
        "589208129\n",
        "processed "
       ]
      },
      {
       "output_type": "stream",
       "stream": "stdout",
       "text": [
        " 507\n",
        "skipped  161\n",
        "589213448\n",
        "processed "
       ]
      },
      {
       "output_type": "stream",
       "stream": "stdout",
       "text": [
        " 508\n",
        "skipped  161\n",
        "589213994\n",
        "processed "
       ]
      },
      {
       "output_type": "stream",
       "stream": "stdout",
       "text": [
        " 509\n",
        "skipped  161\n",
        "589224922\n",
        "processed "
       ]
      },
      {
       "output_type": "stream",
       "stream": "stdout",
       "text": [
        " 510\n",
        "skipped  161\n",
        "589225296\n",
        "processed "
       ]
      },
      {
       "output_type": "stream",
       "stream": "stdout",
       "text": [
        " 511\n",
        "skipped  161\n",
        "589239170\n",
        "processed "
       ]
      },
      {
       "output_type": "stream",
       "stream": "stdout",
       "text": [
        " 512\n",
        "skipped  161\n",
        "589240076\n",
        "processed "
       ]
      },
      {
       "output_type": "stream",
       "stream": "stdout",
       "text": [
        " 513\n",
        "skipped  161\n",
        "589261134\n",
        "processed "
       ]
      },
      {
       "output_type": "stream",
       "stream": "stdout",
       "text": [
        " 514\n",
        "skipped  161\n",
        "589261136\n",
        "processed "
       ]
      },
      {
       "output_type": "stream",
       "stream": "stdout",
       "text": [
        " 515\n",
        "skipped  161\n",
        "589273978\n",
        "processed "
       ]
      },
      {
       "output_type": "stream",
       "stream": "stdout",
       "text": [
        " 516\n",
        "skipped  161\n",
        "589285851\n",
        "processed "
       ]
      },
      {
       "output_type": "stream",
       "stream": "stdout",
       "text": [
        " 517\n",
        "skipped  161\n",
        "589285856\n",
        "processed "
       ]
      },
      {
       "output_type": "stream",
       "stream": "stdout",
       "text": [
        " 518\n",
        "skipped  161\n",
        "589298598\n",
        "processed "
       ]
      },
      {
       "output_type": "stream",
       "stream": "stdout",
       "text": [
        " 519\n",
        "skipped  161\n",
        "589305788\n",
        "processed "
       ]
      },
      {
       "output_type": "stream",
       "stream": "stdout",
       "text": [
        " 520\n",
        "skipped  161\n",
        "589310534\n",
        "processed "
       ]
      },
      {
       "output_type": "stream",
       "stream": "stdout",
       "text": [
        " 521\n",
        "skipped  161\n",
        "589316558\n",
        "processed "
       ]
      },
      {
       "output_type": "stream",
       "stream": "stdout",
       "text": [
        " 522\n",
        "skipped  161\n",
        "589324992\n",
        "processed "
       ]
      },
      {
       "output_type": "stream",
       "stream": "stdout",
       "text": [
        " 523\n",
        "skipped  161\n",
        "589326873\n",
        "processed "
       ]
      },
      {
       "output_type": "stream",
       "stream": "stdout",
       "text": [
        " 524\n",
        "skipped  161\n",
        "589335687\n",
        "processed "
       ]
      },
      {
       "output_type": "stream",
       "stream": "stdout",
       "text": [
        " 525\n",
        "skipped  161\n",
        "589355839\n",
        "processed "
       ]
      },
      {
       "output_type": "stream",
       "stream": "stdout",
       "text": [
        " 526\n",
        "skipped  161\n",
        "589368807\n",
        "processed "
       ]
      },
      {
       "output_type": "stream",
       "stream": "stdout",
       "text": [
        " 527\n",
        "skipped  161\n",
        "589371772\n",
        "processed "
       ]
      },
      {
       "output_type": "stream",
       "stream": "stdout",
       "text": [
        " 528\n",
        "skipped  161\n",
        "589377853\n",
        "processed "
       ]
      },
      {
       "output_type": "stream",
       "stream": "stdout",
       "text": [
        " 529\n",
        "skipped  161\n",
        "589384584\n",
        "processed "
       ]
      },
      {
       "output_type": "stream",
       "stream": "stdout",
       "text": [
        " 530\n",
        "skipped  161\n",
        "589440172\n",
        "processed "
       ]
      },
      {
       "output_type": "stream",
       "stream": "stdout",
       "text": [
        " 531\n",
        "skipped  161\n",
        "589502987\n",
        "processed "
       ]
      },
      {
       "output_type": "stream",
       "stream": "stdout",
       "text": [
        " 532\n",
        "skipped  161\n",
        "589513642\n",
        "processed "
       ]
      },
      {
       "output_type": "stream",
       "stream": "stdout",
       "text": [
        " 533\n",
        "skipped  161\n",
        "589568015\n",
        "processed "
       ]
      },
      {
       "output_type": "stream",
       "stream": "stdout",
       "text": [
        " 534\n",
        "skipped  161\n",
        "589625611\n",
        "processed "
       ]
      },
      {
       "output_type": "stream",
       "stream": "stdout",
       "text": [
        " 535\n",
        "skipped  161\n",
        "589655068\n",
        "processed "
       ]
      },
      {
       "output_type": "stream",
       "stream": "stdout",
       "text": [
        " 536\n",
        "skipped  161\n",
        "589674386\n",
        "processed "
       ]
      },
      {
       "output_type": "stream",
       "stream": "stdout",
       "text": [
        " 537\n",
        "skipped  161\n",
        "589683282\n",
        "processed "
       ]
      },
      {
       "output_type": "stream",
       "stream": "stdout",
       "text": [
        " 538\n",
        "skipped  161\n",
        "589686438\n",
        "processed "
       ]
      },
      {
       "output_type": "stream",
       "stream": "stdout",
       "text": [
        " 539\n",
        "skipped  161\n",
        "589754761\n",
        "processed "
       ]
      },
      {
       "output_type": "stream",
       "stream": "stdout",
       "text": [
        " 540\n",
        "skipped  161\n",
        "589755411\n",
        "processed "
       ]
      },
      {
       "output_type": "stream",
       "stream": "stdout",
       "text": [
        " 541\n",
        "skipped  161\n",
        "589755612\n",
        "processed "
       ]
      },
      {
       "output_type": "stream",
       "stream": "stdout",
       "text": [
        " 542\n",
        "skipped  161\n",
        "589758021\n",
        "processed "
       ]
      },
      {
       "output_type": "stream",
       "stream": "stdout",
       "text": [
        " 543\n",
        "skipped  161\n",
        "589768387\n",
        "processed "
       ]
      },
      {
       "output_type": "stream",
       "stream": "stdout",
       "text": [
        " 544\n",
        "skipped  161\n",
        "589786104\n",
        "processed "
       ]
      },
      {
       "output_type": "stream",
       "stream": "stdout",
       "text": [
        " 545\n",
        "skipped  161\n",
        "589786154\n",
        "processed "
       ]
      },
      {
       "output_type": "stream",
       "stream": "stdout",
       "text": [
        " 546\n",
        "skipped  161\n",
        "589786414\n",
        "processed "
       ]
      },
      {
       "output_type": "stream",
       "stream": "stdout",
       "text": [
        " 547\n",
        "skipped  161\n",
        "589862512\n",
        "processed "
       ]
      },
      {
       "output_type": "stream",
       "stream": "stdout",
       "text": [
        " 548\n",
        "skipped  161\n",
        "589862834\n",
        "processed "
       ]
      },
      {
       "output_type": "stream",
       "stream": "stdout",
       "text": [
        " 549\n",
        "skipped  161\n",
        "589862835\n",
        "processed "
       ]
      },
      {
       "output_type": "stream",
       "stream": "stdout",
       "text": [
        " 550\n",
        "skipped  161\n",
        "589867651\n",
        "processed "
       ]
      },
      {
       "output_type": "stream",
       "stream": "stdout",
       "text": [
        " 551\n",
        "skipped  161\n",
        "589877044\n",
        "error on download589877044"
       ]
      },
      {
       "output_type": "stream",
       "stream": "stderr",
       "text": [
        "  File \"<ipython-input-41-0e1172e16ab4>\", line 11, in <module>\n",
        "    res = comp_extractors( extractor_training_object )\n",
        "  File \"<ipython-input-23-91249bf1c046>\", line 19, in comp_extractors\n",
        "    extraction_results = get_extraction_results( eto )\n",
        "  File \"<ipython-input-22-35bdc612153c>\", line 11, in get_extraction_results\n",
        "    ret['py_goose']  = { 'extracted_html': extract_with_python_goose( raw_content ) }\n",
        "  File \"<ipython-input-9-da7d07f83e6d>\", line 6, in extract_with_python_goose\n",
        "    r = g.extract( raw_html=raw_content )\n",
        "  File \"/usr/local/lib/python2.7/dist-packages/goose/__init__.py\", line 56, in extract\n",
        "    return self.crawl(cc)\n",
        "  File \"/usr/local/lib/python2.7/dist-packages/goose/__init__.py\", line 63, in crawl\n",
        "    article = crawler.crawl(crawl_candiate)\n",
        "  File \"/usr/local/lib/python2.7/dist-packages/goose/crawler.py\", line 131, in crawl\n",
        "    self.article.cleaned_text = self.formatter.get_formatted_text()\n",
        "  File \"/usr/local/lib/python2.7/dist-packages/goose/outputformatters.py\", line 66, in get_formatted_text\n",
        "    self.remove_fewwords_paragraphs()\n",
        "  File \"/usr/local/lib/python2.7/dist-packages/goose/outputformatters.py\", line 123, in remove_fewwords_paragraphs\n",
        "    stop_words = self.stopwords_class(language=self.get_language()).get_stopword_count(text)\n",
        "  File \"/usr/local/lib/python2.7/dist-packages/goose/text.py\", line 98, in __init__\n",
        "    self._cached_stop_words[language] = set(FileHelper.loadResourceFile(path).splitlines())\n",
        "  File \"/usr/local/lib/python2.7/dist-packages/goose/utils/__init__.py\", line 79, in loadResourceFile\n",
        "    raise IOError(\"Couldn't open file %s\" % path)\n",
        "IOError: Couldn't open file /usr/local/lib/python2.7/dist-packages/goose/resources/text/stopwords-un.txt\n",
        "Traceback (most recent call last):\n"
       ]
      },
      {
       "output_type": "stream",
       "stream": "stdout",
       "text": [
        "\n",
        "(<type 'exceptions.IOError'>, IOError('cannot identify image file',), <traceback object at 0x7f564e04fb00>)\n",
        "processed  551\n",
        "skipped  162\n",
        "589878988\n",
        "processed "
       ]
      },
      {
       "output_type": "stream",
       "stream": "stdout",
       "text": [
        " 552\n",
        "skipped  162\n",
        "589902239\n",
        "processed "
       ]
      },
      {
       "output_type": "stream",
       "stream": "stdout",
       "text": [
        " 553\n",
        "skipped  162\n",
        "589902589\n",
        "processed "
       ]
      },
      {
       "output_type": "stream",
       "stream": "stdout",
       "text": [
        " 554\n",
        "skipped  162\n",
        "589903803\n",
        "processed "
       ]
      },
      {
       "output_type": "stream",
       "stream": "stdout",
       "text": [
        " 555\n",
        "skipped  162\n",
        "589912699\n",
        "processed "
       ]
      },
      {
       "output_type": "stream",
       "stream": "stdout",
       "text": [
        " 556\n",
        "skipped  162\n",
        "589925438\n",
        "processed "
       ]
      },
      {
       "output_type": "stream",
       "stream": "stdout",
       "text": [
        " 557\n",
        "skipped  162\n",
        "589929254\n",
        "processed "
       ]
      },
      {
       "output_type": "stream",
       "stream": "stdout",
       "text": [
        " 558\n",
        "skipped  162\n",
        "589929573\n",
        "processed "
       ]
      },
      {
       "output_type": "stream",
       "stream": "stdout",
       "text": [
        " 559\n",
        "skipped  162\n",
        "589934787\n",
        "processed "
       ]
      },
      {
       "output_type": "stream",
       "stream": "stdout",
       "text": [
        " 560\n",
        "skipped  162\n",
        "589938190\n",
        "processed "
       ]
      },
      {
       "output_type": "stream",
       "stream": "stdout",
       "text": [
        " 561\n",
        "skipped  162\n",
        "589945649\n",
        "processed "
       ]
      },
      {
       "output_type": "stream",
       "stream": "stdout",
       "text": [
        " 562\n",
        "skipped  162\n",
        "589946203\n",
        "processed "
       ]
      },
      {
       "output_type": "stream",
       "stream": "stdout",
       "text": [
        " 563\n",
        "skipped  162\n",
        "589956136\n",
        "processed "
       ]
      },
      {
       "output_type": "stream",
       "stream": "stdout",
       "text": [
        " 564\n",
        "skipped  162\n",
        "589985214\n",
        "processed "
       ]
      },
      {
       "output_type": "stream",
       "stream": "stdout",
       "text": [
        " 565\n",
        "skipped  162\n",
        "589992578\n",
        "processed "
       ]
      },
      {
       "output_type": "stream",
       "stream": "stdout",
       "text": [
        " 566\n",
        "skipped  162\n",
        "589992873\n",
        "processed "
       ]
      },
      {
       "output_type": "stream",
       "stream": "stdout",
       "text": [
        " 567\n",
        "skipped  162\n",
        "590003031\n",
        "processed "
       ]
      },
      {
       "output_type": "stream",
       "stream": "stdout",
       "text": [
        " 568\n",
        "skipped  162\n",
        "590003045\n",
        "processed "
       ]
      },
      {
       "output_type": "stream",
       "stream": "stdout",
       "text": [
        " 569\n",
        "skipped  162\n",
        "590033845\n",
        "error on download590033845"
       ]
      },
      {
       "output_type": "stream",
       "stream": "stderr",
       "text": [
        "  File \"<ipython-input-41-0e1172e16ab4>\", line 11, in <module>\n",
        "    res = comp_extractors( extractor_training_object )\n",
        "  File \"<ipython-input-23-91249bf1c046>\", line 19, in comp_extractors\n",
        "    extraction_results = get_extraction_results( eto )\n",
        "  File \"<ipython-input-22-35bdc612153c>\", line 11, in get_extraction_results\n",
        "    ret['py_goose']  = { 'extracted_html': extract_with_python_goose( raw_content ) }\n",
        "  File \"<ipython-input-9-da7d07f83e6d>\", line 6, in extract_with_python_goose\n",
        "    r = g.extract( raw_html=raw_content )\n",
        "  File \"/usr/local/lib/python2.7/dist-packages/goose/__init__.py\", line 56, in extract\n",
        "    return self.crawl(cc)\n",
        "  File \"/usr/local/lib/python2.7/dist-packages/goose/__init__.py\", line 63, in crawl\n",
        "    article = crawler.crawl(crawl_candiate)\n",
        "  File \"/usr/local/lib/python2.7/dist-packages/goose/crawler.py\", line 125, in crawl\n",
        "    self.get_image()\n",
        "  File \"/usr/local/lib/python2.7/dist-packages/goose/crawler.py\", line 147, in get_image\n",
        "    self.article.top_image = self.image_extractor.get_best_image(doc, top_node)\n",
        "  File \"/usr/local/lib/python2.7/dist-packages/goose/images/extractors.py\", line 88, in get_best_image\n",
        "    image = self.check_large_images(topNode, 0, 0)\n",
        "  File \"/usr/local/lib/python2.7/dist-packages/goose/images/extractors.py\", line 122, in check_large_images\n",
        "    good_images = self.get_image_candidates(node)\n",
        "  File \"/usr/local/lib/python2.7/dist-packages/goose/images/extractors.py\", line 283, in get_image_candidates\n",
        "    good_images = self.get_images_bytesize_match(filtered_images)\n",
        "  File \"/usr/local/lib/python2.7/dist-packages/goose/images/extractors.py\", line 299, in get_images_bytesize_match\n",
        "    local_image = self.get_local_image(src)\n",
        "  File \"/usr/local/lib/python2.7/dist-packages/goose/images/extractors.py\", line 344, in get_local_image\n",
        "    self.link_hash, src, self.config)\n",
        "  File \"/usr/local/lib/python2.7/dist-packages/goose/images/utils.py\", line 52, in store_image\n",
        "    image = self.read_localfile(link_hash, src, config)\n",
        "  File \"/usr/local/lib/python2.7/dist-packages/goose/images/utils.py\", line 81, in read_localfile\n",
        "    image_details = self.get_image_dimensions(identify, local_image_name)\n",
        "  File \"/usr/local/lib/python2.7/dist-packages/goose/images/utils.py\", line 36, in get_image_dimensions\n",
        "    image = Image.open(path)\n",
        "  File \"/usr/lib/python2.7/dist-packages/PIL/Image.py\", line 2028, in open\n",
        "    raise IOError(\"cannot identify image file\")\n",
        "IOError: cannot identify image file\n",
        "Traceback (most recent call last):\n"
       ]
      },
      {
       "output_type": "stream",
       "stream": "stdout",
       "text": [
        "\n",
        "(<type 'exceptions.IOError'>, IOError('cannot identify image file',), <traceback object at 0x7f564e16dc20>)\n",
        "processed  569\n",
        "skipped  163\n",
        "590033849\n",
        "error on download590033849"
       ]
      },
      {
       "output_type": "stream",
       "stream": "stderr",
       "text": [
        "  File \"<ipython-input-41-0e1172e16ab4>\", line 11, in <module>\n",
        "    res = comp_extractors( extractor_training_object )\n",
        "  File \"<ipython-input-23-91249bf1c046>\", line 19, in comp_extractors\n",
        "    extraction_results = get_extraction_results( eto )\n",
        "  File \"<ipython-input-22-35bdc612153c>\", line 11, in get_extraction_results\n",
        "    ret['py_goose']  = { 'extracted_html': extract_with_python_goose( raw_content ) }\n",
        "  File \"<ipython-input-9-da7d07f83e6d>\", line 6, in extract_with_python_goose\n",
        "    r = g.extract( raw_html=raw_content )\n",
        "  File \"/usr/local/lib/python2.7/dist-packages/goose/__init__.py\", line 56, in extract\n",
        "    return self.crawl(cc)\n",
        "  File \"/usr/local/lib/python2.7/dist-packages/goose/__init__.py\", line 63, in crawl\n",
        "    article = crawler.crawl(crawl_candiate)\n",
        "  File \"/usr/local/lib/python2.7/dist-packages/goose/crawler.py\", line 125, in crawl\n",
        "    self.get_image()\n",
        "  File \"/usr/local/lib/python2.7/dist-packages/goose/crawler.py\", line 147, in get_image\n",
        "    self.article.top_image = self.image_extractor.get_best_image(doc, top_node)\n",
        "  File \"/usr/local/lib/python2.7/dist-packages/goose/images/extractors.py\", line 88, in get_best_image\n",
        "    image = self.check_large_images(topNode, 0, 0)\n",
        "  File \"/usr/local/lib/python2.7/dist-packages/goose/images/extractors.py\", line 141, in check_large_images\n",
        "    depth_obj.parent_depth, depth_obj.sibling_depth)\n",
        "  File \"/usr/local/lib/python2.7/dist-packages/goose/images/extractors.py\", line 141, in check_large_images\n",
        "    depth_obj.parent_depth, depth_obj.sibling_depth)\n",
        "  File \"/usr/local/lib/python2.7/dist-packages/goose/images/extractors.py\", line 141, in check_large_images\n",
        "    depth_obj.parent_depth, depth_obj.sibling_depth)\n",
        "  File \"/usr/local/lib/python2.7/dist-packages/goose/images/extractors.py\", line 141, in check_large_images\n",
        "    depth_obj.parent_depth, depth_obj.sibling_depth)\n",
        "  File \"/usr/local/lib/python2.7/dist-packages/goose/images/extractors.py\", line 141, in check_large_images\n",
        "    depth_obj.parent_depth, depth_obj.sibling_depth)\n",
        "  File \"/usr/local/lib/python2.7/dist-packages/goose/images/extractors.py\", line 122, in check_large_images\n",
        "    good_images = self.get_image_candidates(node)\n",
        "  File \"/usr/local/lib/python2.7/dist-packages/goose/images/extractors.py\", line 283, in get_image_candidates\n",
        "    good_images = self.get_images_bytesize_match(filtered_images)\n",
        "  File \"/usr/local/lib/python2.7/dist-packages/goose/images/extractors.py\", line 299, in get_images_bytesize_match\n",
        "    local_image = self.get_local_image(src)\n",
        "  File \"/usr/local/lib/python2.7/dist-packages/goose/images/extractors.py\", line 344, in get_local_image\n",
        "    self.link_hash, src, self.config)\n",
        "  File \"/usr/local/lib/python2.7/dist-packages/goose/images/utils.py\", line 52, in store_image\n",
        "    image = self.read_localfile(link_hash, src, config)\n",
        "  File \"/usr/local/lib/python2.7/dist-packages/goose/images/utils.py\", line 81, in read_localfile\n",
        "    image_details = self.get_image_dimensions(identify, local_image_name)\n",
        "  File \"/usr/local/lib/python2.7/dist-packages/goose/images/utils.py\", line 36, in get_image_dimensions\n",
        "    image = Image.open(path)\n",
        "  File \"/usr/lib/python2.7/dist-packages/PIL/Image.py\", line 2028, in open\n",
        "    raise IOError(\"cannot identify image file\")\n",
        "IOError: cannot identify image file\n",
        "Traceback (most recent call last):\n"
       ]
      },
      {
       "output_type": "stream",
       "stream": "stdout",
       "text": [
        "\n",
        "(<type 'exceptions.IOError'>, IOError('cannot identify image file',), <traceback object at 0x7f564dca5518>)\n",
        "processed  569\n",
        "skipped  164\n",
        "590033852\n",
        "error on download590033852"
       ]
      },
      {
       "output_type": "stream",
       "stream": "stderr",
       "text": [
        "  File \"<ipython-input-41-0e1172e16ab4>\", line 11, in <module>\n",
        "    res = comp_extractors( extractor_training_object )\n",
        "  File \"<ipython-input-23-91249bf1c046>\", line 19, in comp_extractors\n",
        "    extraction_results = get_extraction_results( eto )\n",
        "  File \"<ipython-input-22-35bdc612153c>\", line 11, in get_extraction_results\n",
        "    ret['py_goose']  = { 'extracted_html': extract_with_python_goose( raw_content ) }\n",
        "  File \"<ipython-input-9-da7d07f83e6d>\", line 6, in extract_with_python_goose\n",
        "    r = g.extract( raw_html=raw_content )\n",
        "  File \"/usr/local/lib/python2.7/dist-packages/goose/__init__.py\", line 56, in extract\n",
        "    return self.crawl(cc)\n",
        "  File \"/usr/local/lib/python2.7/dist-packages/goose/__init__.py\", line 63, in crawl\n",
        "    article = crawler.crawl(crawl_candiate)\n",
        "  File \"/usr/local/lib/python2.7/dist-packages/goose/crawler.py\", line 125, in crawl\n",
        "    self.get_image()\n",
        "  File \"/usr/local/lib/python2.7/dist-packages/goose/crawler.py\", line 147, in get_image\n",
        "    self.article.top_image = self.image_extractor.get_best_image(doc, top_node)\n",
        "  File \"/usr/local/lib/python2.7/dist-packages/goose/images/extractors.py\", line 88, in get_best_image\n",
        "    image = self.check_large_images(topNode, 0, 0)\n",
        "  File \"/usr/local/lib/python2.7/dist-packages/goose/images/extractors.py\", line 141, in check_large_images\n",
        "    depth_obj.parent_depth, depth_obj.sibling_depth)\n",
        "  File \"/usr/local/lib/python2.7/dist-packages/goose/images/extractors.py\", line 141, in check_large_images\n",
        "    depth_obj.parent_depth, depth_obj.sibling_depth)\n",
        "  File \"/usr/local/lib/python2.7/dist-packages/goose/images/extractors.py\", line 141, in check_large_images\n",
        "    depth_obj.parent_depth, depth_obj.sibling_depth)\n",
        "  File \"/usr/local/lib/python2.7/dist-packages/goose/images/extractors.py\", line 141, in check_large_images\n",
        "    depth_obj.parent_depth, depth_obj.sibling_depth)\n",
        "  File \"/usr/local/lib/python2.7/dist-packages/goose/images/extractors.py\", line 141, in check_large_images\n",
        "    depth_obj.parent_depth, depth_obj.sibling_depth)\n",
        "  File \"/usr/local/lib/python2.7/dist-packages/goose/images/extractors.py\", line 122, in check_large_images\n",
        "    good_images = self.get_image_candidates(node)\n",
        "  File \"/usr/local/lib/python2.7/dist-packages/goose/images/extractors.py\", line 283, in get_image_candidates\n",
        "    good_images = self.get_images_bytesize_match(filtered_images)\n",
        "  File \"/usr/local/lib/python2.7/dist-packages/goose/images/extractors.py\", line 299, in get_images_bytesize_match\n",
        "    local_image = self.get_local_image(src)\n",
        "  File \"/usr/local/lib/python2.7/dist-packages/goose/images/extractors.py\", line 344, in get_local_image\n",
        "    self.link_hash, src, self.config)\n",
        "  File \"/usr/local/lib/python2.7/dist-packages/goose/images/utils.py\", line 52, in store_image\n",
        "    image = self.read_localfile(link_hash, src, config)\n",
        "  File \"/usr/local/lib/python2.7/dist-packages/goose/images/utils.py\", line 81, in read_localfile\n",
        "    image_details = self.get_image_dimensions(identify, local_image_name)\n",
        "  File \"/usr/local/lib/python2.7/dist-packages/goose/images/utils.py\", line 36, in get_image_dimensions\n",
        "    image = Image.open(path)\n",
        "  File \"/usr/lib/python2.7/dist-packages/PIL/Image.py\", line 2028, in open\n",
        "    raise IOError(\"cannot identify image file\")\n",
        "IOError: cannot identify image file\n",
        "Traceback (most recent call last):\n"
       ]
      },
      {
       "output_type": "stream",
       "stream": "stdout",
       "text": [
        "\n",
        "(<type 'exceptions.IOError'>, IOError('cannot identify image file',), <traceback object at 0x7f564dc9fea8>)\n",
        "processed  569\n",
        "skipped  165\n",
        "590057803\n",
        "processed "
       ]
      },
      {
       "output_type": "stream",
       "stream": "stdout",
       "text": [
        " 570\n",
        "skipped  165\n",
        "590237580\n",
        "processed "
       ]
      },
      {
       "output_type": "stream",
       "stream": "stdout",
       "text": [
        " 571\n",
        "skipped  165\n",
        "590249522\n",
        "processed "
       ]
      },
      {
       "output_type": "stream",
       "stream": "stdout",
       "text": [
        " 572\n",
        "skipped  165\n",
        "590264671\n",
        "processed "
       ]
      },
      {
       "output_type": "stream",
       "stream": "stdout",
       "text": [
        " 573\n",
        "skipped  165\n",
        "590293497\n",
        "processed "
       ]
      },
      {
       "output_type": "stream",
       "stream": "stdout",
       "text": [
        " 574\n",
        "skipped  165\n",
        "590323886\n",
        "processed "
       ]
      },
      {
       "output_type": "stream",
       "stream": "stdout",
       "text": [
        " 575\n",
        "skipped  165\n",
        "590323913\n",
        "processed "
       ]
      },
      {
       "output_type": "stream",
       "stream": "stdout",
       "text": [
        " 576\n",
        "skipped  165\n",
        "590324177\n",
        "processed "
       ]
      },
      {
       "output_type": "stream",
       "stream": "stdout",
       "text": [
        " 577\n",
        "skipped  165\n",
        "590338530\n",
        "processed "
       ]
      },
      {
       "output_type": "stream",
       "stream": "stdout",
       "text": [
        " 578\n",
        "skipped  165\n",
        "590339267\n",
        "processed "
       ]
      },
      {
       "output_type": "stream",
       "stream": "stdout",
       "text": [
        " 579\n",
        "skipped  165\n",
        "590340446\n",
        "processed "
       ]
      },
      {
       "output_type": "stream",
       "stream": "stdout",
       "text": [
        " 580\n",
        "skipped  165\n",
        "590351087\n",
        "processed "
       ]
      },
      {
       "output_type": "stream",
       "stream": "stdout",
       "text": [
        " 581\n",
        "skipped  165\n",
        "590353661\n",
        "processed "
       ]
      },
      {
       "output_type": "stream",
       "stream": "stdout",
       "text": [
        " 582\n",
        "skipped  165\n",
        "590356585\n",
        "processed "
       ]
      },
      {
       "output_type": "stream",
       "stream": "stdout",
       "text": [
        " 583\n",
        "skipped  165\n",
        "590356597\n",
        "processed "
       ]
      },
      {
       "output_type": "stream",
       "stream": "stdout",
       "text": [
        " 584\n",
        "skipped  165\n",
        "590386215\n",
        "processed "
       ]
      },
      {
       "output_type": "stream",
       "stream": "stdout",
       "text": [
        " 585\n",
        "skipped  165\n",
        "590386218\n",
        "processed "
       ]
      },
      {
       "output_type": "stream",
       "stream": "stdout",
       "text": [
        " 586\n",
        "skipped  165\n",
        "590386225\n",
        "processed "
       ]
      },
      {
       "output_type": "stream",
       "stream": "stdout",
       "text": [
        " 587\n",
        "skipped  165\n",
        "590397660\n",
        "processed "
       ]
      },
      {
       "output_type": "stream",
       "stream": "stdout",
       "text": [
        " 588\n",
        "skipped  165\n",
        "590398422\n",
        "processed "
       ]
      },
      {
       "output_type": "stream",
       "stream": "stdout",
       "text": [
        " 589\n",
        "skipped  165\n",
        "590399931\n",
        "processed "
       ]
      },
      {
       "output_type": "stream",
       "stream": "stdout",
       "text": [
        " 590\n",
        "skipped  165\n",
        "590411501\n",
        "processed "
       ]
      },
      {
       "output_type": "stream",
       "stream": "stdout",
       "text": [
        " 591\n",
        "skipped  165\n",
        "590424369\n",
        "processed "
       ]
      },
      {
       "output_type": "stream",
       "stream": "stdout",
       "text": [
        " 592\n",
        "skipped  165\n",
        "590425749\n",
        "processed "
       ]
      },
      {
       "output_type": "stream",
       "stream": "stdout",
       "text": [
        " 593\n",
        "skipped  165\n",
        "590425776\n",
        "processed "
       ]
      },
      {
       "output_type": "stream",
       "stream": "stdout",
       "text": [
        " 594\n",
        "skipped  165\n",
        "590425824\n",
        "processed "
       ]
      },
      {
       "output_type": "stream",
       "stream": "stdout",
       "text": [
        " 595\n",
        "skipped  165\n",
        "590437581\n",
        "processed "
       ]
      },
      {
       "output_type": "stream",
       "stream": "stdout",
       "text": [
        " 596\n",
        "skipped  165\n",
        "590441661\n",
        "processed "
       ]
      },
      {
       "output_type": "stream",
       "stream": "stdout",
       "text": [
        " 597\n",
        "skipped  165\n",
        "590441662\n",
        "processed "
       ]
      },
      {
       "output_type": "stream",
       "stream": "stdout",
       "text": [
        " 598\n",
        "skipped  165\n",
        "590460432\n",
        "processed "
       ]
      },
      {
       "output_type": "stream",
       "stream": "stdout",
       "text": [
        " 599\n",
        "skipped  165\n",
        "590462467\n",
        "processed "
       ]
      },
      {
       "output_type": "stream",
       "stream": "stdout",
       "text": [
        " 600\n",
        "skipped  165\n",
        "590512426\n",
        "processed "
       ]
      },
      {
       "output_type": "stream",
       "stream": "stdout",
       "text": [
        " 601\n",
        "skipped  165\n",
        "590514891\n",
        "processed "
       ]
      },
      {
       "output_type": "stream",
       "stream": "stdout",
       "text": [
        " 602\n",
        "skipped  165\n",
        "590515180\n",
        "processed "
       ]
      },
      {
       "output_type": "stream",
       "stream": "stdout",
       "text": [
        " 603\n",
        "skipped  165\n",
        "590529801\n",
        "processed "
       ]
      },
      {
       "output_type": "stream",
       "stream": "stdout",
       "text": [
        " 604\n",
        "skipped  165\n",
        "590531075\n",
        "processed "
       ]
      },
      {
       "output_type": "stream",
       "stream": "stdout",
       "text": [
        " 605\n",
        "skipped  165\n",
        "590542372\n",
        "processed "
       ]
      },
      {
       "output_type": "stream",
       "stream": "stdout",
       "text": [
        " 606\n",
        "skipped  165\n",
        "590542427\n",
        "processed "
       ]
      },
      {
       "output_type": "stream",
       "stream": "stdout",
       "text": [
        " 607\n",
        "skipped  165\n",
        "590551407\n",
        "processed "
       ]
      },
      {
       "output_type": "stream",
       "stream": "stdout",
       "text": [
        " 608\n",
        "skipped  165\n",
        "590552268\n",
        "processed "
       ]
      },
      {
       "output_type": "stream",
       "stream": "stdout",
       "text": [
        " 609\n",
        "skipped  165\n",
        "590552363\n",
        "processed "
       ]
      },
      {
       "output_type": "stream",
       "stream": "stdout",
       "text": [
        " 610\n",
        "skipped  165\n",
        "590552784\n",
        "processed "
       ]
      },
      {
       "output_type": "stream",
       "stream": "stdout",
       "text": [
        " 611\n",
        "skipped  165\n",
        "590560741\n",
        "processed "
       ]
      },
      {
       "output_type": "stream",
       "stream": "stdout",
       "text": [
        " 612\n",
        "skipped  165\n",
        "590576816\n",
        "processed "
       ]
      },
      {
       "output_type": "stream",
       "stream": "stdout",
       "text": [
        " 613\n",
        "skipped  165\n",
        "590585094\n",
        "processed "
       ]
      },
      {
       "output_type": "stream",
       "stream": "stdout",
       "text": [
        " 614\n",
        "skipped  165\n",
        "590593066\n",
        "processed "
       ]
      },
      {
       "output_type": "stream",
       "stream": "stdout",
       "text": [
        " 615\n",
        "skipped  165\n",
        "590596271\n",
        "processed "
       ]
      },
      {
       "output_type": "stream",
       "stream": "stdout",
       "text": [
        " 616\n",
        "skipped  165\n",
        "590605895\n",
        "processed "
       ]
      },
      {
       "output_type": "stream",
       "stream": "stdout",
       "text": [
        " 617\n",
        "skipped  165\n",
        "590620426\n",
        "processed "
       ]
      },
      {
       "output_type": "stream",
       "stream": "stdout",
       "text": [
        " 618\n",
        "skipped  165\n",
        "590623508\n",
        "processed "
       ]
      },
      {
       "output_type": "stream",
       "stream": "stdout",
       "text": [
        " 619\n",
        "skipped  165\n",
        "590623511\n",
        "processed "
       ]
      },
      {
       "output_type": "stream",
       "stream": "stdout",
       "text": [
        " 620\n",
        "skipped  165\n",
        "590639137\n",
        "processed "
       ]
      },
      {
       "output_type": "stream",
       "stream": "stdout",
       "text": [
        " 621\n",
        "skipped  165\n",
        "590646856\n",
        "processed "
       ]
      },
      {
       "output_type": "stream",
       "stream": "stdout",
       "text": [
        " 622\n",
        "skipped  165\n",
        "590647873\n",
        "processed "
       ]
      },
      {
       "output_type": "stream",
       "stream": "stdout",
       "text": [
        " 623\n",
        "skipped  165\n",
        "590654819\n",
        "processed "
       ]
      },
      {
       "output_type": "stream",
       "stream": "stdout",
       "text": [
        " 624\n",
        "skipped  165\n",
        "590661408\n",
        "processed "
       ]
      },
      {
       "output_type": "stream",
       "stream": "stdout",
       "text": [
        " 625\n",
        "skipped  165\n",
        "590685837\n",
        "processed "
       ]
      },
      {
       "output_type": "stream",
       "stream": "stdout",
       "text": [
        " 626\n",
        "skipped  165\n",
        "590720858\n",
        "processed "
       ]
      },
      {
       "output_type": "stream",
       "stream": "stdout",
       "text": [
        " 627\n",
        "skipped  165\n",
        "590806668\n",
        "processed "
       ]
      },
      {
       "output_type": "stream",
       "stream": "stdout",
       "text": [
        " 628\n",
        "skipped  165\n",
        "590841021\n",
        "processed "
       ]
      },
      {
       "output_type": "stream",
       "stream": "stdout",
       "text": [
        " 629\n",
        "skipped  165\n",
        "590877233\n",
        "processed "
       ]
      },
      {
       "output_type": "stream",
       "stream": "stdout",
       "text": [
        " 630\n",
        "skipped  165\n",
        "590917078\n",
        "processed "
       ]
      },
      {
       "output_type": "stream",
       "stream": "stdout",
       "text": [
        " 631\n",
        "skipped  165\n",
        "590918616\n",
        "processed "
       ]
      },
      {
       "output_type": "stream",
       "stream": "stdout",
       "text": [
        " 632\n",
        "skipped  165\n",
        "590918621\n",
        "processed "
       ]
      },
      {
       "output_type": "stream",
       "stream": "stdout",
       "text": [
        " 633\n",
        "skipped  165\n",
        "590929956\n",
        "processed "
       ]
      },
      {
       "output_type": "stream",
       "stream": "stdout",
       "text": [
        " 634\n",
        "skipped  165\n",
        "590957300\n",
        "processed "
       ]
      },
      {
       "output_type": "stream",
       "stream": "stdout",
       "text": [
        " 635\n",
        "skipped  165\n",
        "590957745\n",
        "processed "
       ]
      },
      {
       "output_type": "stream",
       "stream": "stdout",
       "text": [
        " 636\n",
        "skipped  165\n",
        "590961196\n",
        "processed "
       ]
      },
      {
       "output_type": "stream",
       "stream": "stdout",
       "text": [
        " 637\n",
        "skipped  165\n",
        "590962451\n",
        "processed "
       ]
      },
      {
       "output_type": "stream",
       "stream": "stdout",
       "text": [
        " 638\n",
        "skipped  165\n",
        "590975183\n",
        "processed "
       ]
      },
      {
       "output_type": "stream",
       "stream": "stdout",
       "text": [
        " 639\n",
        "skipped  165\n",
        "590975515\n",
        "processed "
       ]
      },
      {
       "output_type": "stream",
       "stream": "stdout",
       "text": [
        " 640\n",
        "skipped  165\n",
        "590975517\n",
        "processed "
       ]
      },
      {
       "output_type": "stream",
       "stream": "stdout",
       "text": [
        " 641\n",
        "skipped  165\n",
        "590976484\n",
        "processed "
       ]
      },
      {
       "output_type": "stream",
       "stream": "stdout",
       "text": [
        " 642\n",
        "skipped  165\n",
        "591998702\n",
        "processed "
       ]
      },
      {
       "output_type": "stream",
       "stream": "stdout",
       "text": [
        " 643\n",
        "skipped  165\n",
        "591998982\n"
       ]
      },
      {
       "output_type": "stream",
       "stream": "stderr",
       "text": [
        "  File \"<ipython-input-41-0e1172e16ab4>\", line 11, in <module>\n",
        "    res = comp_extractors( extractor_training_object )\n",
        "  File \"<ipython-input-23-91249bf1c046>\", line 19, in comp_extractors\n",
        "    extraction_results = get_extraction_results( eto )\n",
        "  File \"<ipython-input-22-35bdc612153c>\", line 11, in get_extraction_results\n",
        "    ret['py_goose']  = { 'extracted_html': extract_with_python_goose( raw_content ) }\n",
        "  File \"<ipython-input-9-da7d07f83e6d>\", line 6, in extract_with_python_goose\n",
        "    r = g.extract( raw_html=raw_content )\n",
        "  File \"/usr/local/lib/python2.7/dist-packages/goose/__init__.py\", line 56, in extract\n",
        "    return self.crawl(cc)\n",
        "  File \"/usr/local/lib/python2.7/dist-packages/goose/__init__.py\", line 63, in crawl\n",
        "    article = crawler.crawl(crawl_candiate)\n",
        "  File \"/usr/local/lib/python2.7/dist-packages/goose/crawler.py\", line 125, in crawl\n",
        "    self.get_image()\n",
        "  File \"/usr/local/lib/python2.7/dist-packages/goose/crawler.py\", line 147, in get_image\n",
        "    self.article.top_image = self.image_extractor.get_best_image(doc, top_node)\n",
        "  File \"/usr/local/lib/python2.7/dist-packages/goose/images/extractors.py\", line 88, in get_best_image\n",
        "    image = self.check_large_images(topNode, 0, 0)\n",
        "  File \"/usr/local/lib/python2.7/dist-packages/goose/images/extractors.py\", line 141, in check_large_images\n",
        "    depth_obj.parent_depth, depth_obj.sibling_depth)\n",
        "  File \"/usr/local/lib/python2.7/dist-packages/goose/images/extractors.py\", line 141, in check_large_images\n",
        "    depth_obj.parent_depth, depth_obj.sibling_depth)\n",
        "  File \"/usr/local/lib/python2.7/dist-packages/goose/images/extractors.py\", line 141, in check_large_images\n",
        "    depth_obj.parent_depth, depth_obj.sibling_depth)\n",
        "  File \"/usr/local/lib/python2.7/dist-packages/goose/images/extractors.py\", line 141, in check_large_images\n",
        "    depth_obj.parent_depth, depth_obj.sibling_depth)\n",
        "  File \"/usr/local/lib/python2.7/dist-packages/goose/images/extractors.py\", line 141, in check_large_images\n",
        "    depth_obj.parent_depth, depth_obj.sibling_depth)\n",
        "  File \"/usr/local/lib/python2.7/dist-packages/goose/images/extractors.py\", line 122, in check_large_images\n",
        "    good_images = self.get_image_candidates(node)\n",
        "  File \"/usr/local/lib/python2.7/dist-packages/goose/images/extractors.py\", line 283, in get_image_candidates\n",
        "    good_images = self.get_images_bytesize_match(filtered_images)\n",
        "  File \"/usr/local/lib/python2.7/dist-packages/goose/images/extractors.py\", line 299, in get_images_bytesize_match\n",
        "    local_image = self.get_local_image(src)\n",
        "  File \"/usr/local/lib/python2.7/dist-packages/goose/images/extractors.py\", line 344, in get_local_image\n",
        "    self.link_hash, src, self.config)\n",
        "  File \"/usr/local/lib/python2.7/dist-packages/goose/images/utils.py\", line 52, in store_image\n",
        "    image = self.read_localfile(link_hash, src, config)\n",
        "  File \"/usr/local/lib/python2.7/dist-packages/goose/images/utils.py\", line 81, in read_localfile\n",
        "    image_details = self.get_image_dimensions(identify, local_image_name)\n",
        "  File \"/usr/local/lib/python2.7/dist-packages/goose/images/utils.py\", line 36, in get_image_dimensions\n",
        "    image = Image.open(path)\n",
        "  File \"/usr/lib/python2.7/dist-packages/PIL/Image.py\", line 2028, in open\n",
        "    raise IOError(\"cannot identify image file\")\n",
        "IOError: cannot identify image file\n"
       ]
      },
      {
       "metadata": {},
       "output_type": "pyout",
       "prompt_number": 41,
       "text": [
        "(IOError, IOError('cannot identify image file'), <traceback at 0x7f564dc9fea8>)"
       ]
      }
     ],
     "prompt_number": 41
    },
    {
     "cell_type": "heading",
     "level": 1,
     "metadata": {},
     "source": [
      "Results"
     ]
    },
    {
     "cell_type": "heading",
     "level": 2,
     "metadata": {},
     "source": [
      "Results Overall"
     ]
    },
    {
     "cell_type": "code",
     "collapsed": false,
     "input": [
      "comps_downloads[0]"
     ],
     "language": "python",
     "metadata": {},
     "outputs": [
      {
       "metadata": {},
       "output_type": "pyout",
       "prompt_number": 42,
       "text": [
        "{'boiler_pipe': {'f1': 0.7136752136752136,\n",
        "  'precision': 0.6139705882352942,\n",
        "  'recall': 0.8520408163265306},\n",
        " 'boiler_pipe_dedup': {'f1': 0.7109207708779444,\n",
        "  'precision': 0.6125461254612546,\n",
        "  'recall': 0.8469387755102041},\n",
        " 'crf': {'f1': 0.8988235294117648,\n",
        "  'precision': 0.834061135371179,\n",
        "  'recall': 0.9744897959183674},\n",
        " 'crf_dedup': {'f1': 0.8985507246376812,\n",
        "  'precision': 0.8532110091743119,\n",
        "  'recall': 0.9489795918367347},\n",
        " 'downloads_id': 391881020,\n",
        " 'gold': {'f1': 1.0, 'precision': 1.0, 'recall': 1.0},\n",
        " 'gold_dedup': {'f1': 0.9821882951653944,\n",
        "  'precision': 0.9796954314720813,\n",
        "  'recall': 0.9846938775510204},\n",
        " 'heur': {'f1': 0.8988235294117648,\n",
        "  'precision': 0.834061135371179,\n",
        "  'recall': 0.9744897959183674},\n",
        " 'heur_dedup': {'f1': 0.8985507246376812,\n",
        "  'precision': 0.8532110091743119,\n",
        "  'recall': 0.9489795918367347},\n",
        " 'justext': {'f1': 0, 'precision': 0.0, 'recall': 0.0},\n",
        " 'justext_dedup': {'f1': 0, 'precision': 0.0, 'recall': 0.0},\n",
        " 'media_id': 83371,\n",
        " 'py_goose': {'f1': 0.926208651399491,\n",
        "  'precision': 0.9238578680203046,\n",
        "  'recall': 0.9285714285714286},\n",
        " 'py_goose_dedup': {'f1': 0.926208651399491,\n",
        "  'precision': 0.9238578680203046,\n",
        "  'recall': 0.9285714285714286},\n",
        " 'python_readibilty': {'f1': 0.9411764705882353,\n",
        "  'precision': 0.9435897435897436,\n",
        "  'recall': 0.9387755102040817},\n",
        " 'python_readibilty_dedup': {'f1': 0.9187817258883249,\n",
        "  'precision': 0.9141414141414141,\n",
        "  'recall': 0.923469387755102},\n",
        " 'story_is_spidered': False}"
       ]
      }
     ],
     "prompt_number": 42
    },
    {
     "cell_type": "code",
     "collapsed": false,
     "input": [
      "df = get_data_frame_from_comparision_objects( comps_downloads )\n",
      "print_results_by_measurement_type( df )\n"
     ],
     "language": "python",
     "metadata": {},
     "outputs": [
      {
       "output_type": "stream",
       "stream": "stdout",
       "text": [
        "       precision_boiler_pipe  precision_boiler_pipe_dedup  precision_crf  \\\n",
        "count             644.000000                   644.000000     644.000000   \n",
        "mean                0.673146                     0.675358       0.748868   \n",
        "std                 0.377755                     0.376360       0.297527   \n",
        "min                 0.000000                     0.000000       0.000000   \n",
        "2%                  0.000000                     0.000000       0.000000   \n",
        "5%                  0.004954                     0.005719       0.082641   \n",
        "10%                 0.022343                     0.023343       0.251831   \n",
        "50%                 0.882041                     0.878578       0.881513   \n",
        "max                 1.000000                     1.000000       1.000000   \n",
        "\n",
        "       precision_crf_dedup  precision_gold  precision_gold_dedup  \\\n",
        "count           644.000000             644            644.000000   \n",
        "mean              0.804301               1              0.997567   \n",
        "std               0.311642               0              0.008295   \n",
        "min               0.000000               1              0.909091   \n",
        "2%                0.000000               1              0.977524   \n",
        "5%                0.000000               1              0.984289   \n",
        "10%               0.198751               1              0.992714   \n",
        "50%               0.966172               1              1.000000   \n",
        "max               1.000000               1              1.000000   \n",
        "\n",
        "       precision_heur  precision_heur_dedup  precision_justext  \\\n",
        "count      644.000000            644.000000         644.000000   \n",
        "mean         0.748868              0.804301           0.415551   \n",
        "std          0.297527              0.311642           0.444839   \n",
        "min          0.000000              0.000000           0.000000   \n",
        "2%           0.000000              0.000000           0.000000   \n",
        "5%           0.082641              0.000000           0.000000   \n",
        "10%          0.251831              0.198751           0.000000   \n",
        "50%          0.881513              0.966172           0.141032   \n",
        "max          1.000000              1.000000           1.000000   \n",
        "\n",
        "       precision_justext_dedup  precision_py_goose  precision_py_goose_dedup  \\\n",
        "count               644.000000          644.000000                644.000000   \n",
        "mean                  0.421475            0.890629                  0.858846   \n",
        "std                   0.450568            0.235992                  0.281457   \n",
        "min                   0.000000            0.000000                  0.000000   \n",
        "2%                    0.000000            0.040846                  0.000000   \n",
        "5%                    0.000000            0.312500                  0.023970   \n",
        "10%                   0.000000            0.500000                  0.384198   \n",
        "50%                   0.135243            0.998836                  0.995829   \n",
        "max                   1.000000            1.000000                  1.000000   \n",
        "\n",
        "       precision_python_readibilty  precision_python_readibilty_dedup  \n",
        "count                   644.000000                         644.000000  \n",
        "mean                      0.903364                           0.896494  \n",
        "std                       0.213072                           0.222137  \n",
        "min                       0.008499                           0.000000  \n",
        "2%                        0.051373                           0.030111  \n",
        "5%                        0.314462                           0.297013  \n",
        "10%                       0.750000                           0.702025  \n",
        "50%                       0.977971                           0.981174  \n",
        "max                       1.000000                           1.000000  \n",
        "       recall_boiler_pipe  recall_boiler_pipe_dedup  recall_crf  \\\n",
        "count          644.000000                644.000000  644.000000   \n",
        "mean             0.726914                  0.684892    0.824376   \n",
        "std              0.374434                  0.376018    0.239798   \n",
        "min              0.000000                  0.000000    0.000000   \n",
        "2%               0.000000                  0.000000    0.000000   \n",
        "5%               0.018198                  0.018198    0.166667   \n",
        "10%              0.040000                  0.039773    0.466211   \n",
        "50%              0.943349                  0.903600    0.915143   \n",
        "max              1.000000                  1.000000    1.000000   \n",
        "\n",
        "       recall_crf_dedup  recall_gold  recall_gold_dedup  recall_heur  \\\n",
        "count        644.000000          644         644.000000   644.000000   \n",
        "mean           0.743098            1           0.924960     0.824376   \n",
        "std            0.315359            0           0.199021     0.239798   \n",
        "min            0.000000            1           0.021583     0.000000   \n",
        "2%             0.000000            1           0.111819     0.000000   \n",
        "5%             0.000000            1           0.403178     0.166667   \n",
        "10%            0.056685            1           0.757895     0.466211   \n",
        "50%            0.894517            1           1.000000     0.915143   \n",
        "max            1.000000            1           1.000000     1.000000   \n",
        "\n",
        "       recall_heur_dedup  recall_justext  recall_justext_dedup  \\\n",
        "count         644.000000      644.000000            644.000000   \n",
        "mean            0.743098        0.452075              0.408899   \n",
        "std             0.315359        0.445453              0.429813   \n",
        "min             0.000000        0.000000              0.000000   \n",
        "2%              0.000000        0.000000              0.000000   \n",
        "5%              0.000000        0.000000              0.000000   \n",
        "10%             0.056685        0.000000              0.000000   \n",
        "50%             0.894517        0.338979              0.161884   \n",
        "max             1.000000        1.000000              1.000000   \n",
        "\n",
        "       recall_py_goose  recall_py_goose_dedup  recall_python_readibilty  \\\n",
        "count       644.000000             644.000000                644.000000   \n",
        "mean          0.576674               0.526721                  0.863263   \n",
        "std           0.408982               0.408359                  0.253866   \n",
        "min           0.000000               0.000000                  0.002874   \n",
        "2%            0.003655               0.000000                  0.035259   \n",
        "5%            0.010523               0.002412                  0.082882   \n",
        "10%           0.024552               0.014510                  0.579457   \n",
        "50%           0.793689               0.647658                  0.960937   \n",
        "max           1.000000               1.000000                  1.000000   \n",
        "\n",
        "       recall_python_readibilty_dedup  \n",
        "count                      644.000000  \n",
        "mean                         0.795957  \n",
        "std                          0.310906  \n",
        "min                          0.000000  \n",
        "2%                           0.013497  \n",
        "5%                           0.032396  \n",
        "10%                          0.114791  \n",
        "50%                          0.949153  \n",
        "max                          1.000000  \n",
        "       f1_boiler_pipe  f1_boiler_pipe_dedup      f1_crf  f1_crf_dedup  \\\n",
        "count      644.000000            644.000000  644.000000    644.000000   \n",
        "mean         0.677385              0.653520    0.748647      0.740478   \n",
        "std          0.375707              0.374177    0.270094      0.315791   \n",
        "min          0.000000              0.000000    0.000000      0.000000   \n",
        "2%           0.000000              0.000000    0.000000      0.000000   \n",
        "5%           0.008285              0.008306    0.103632      0.000000   \n",
        "10%          0.025495              0.026259    0.292901      0.093874   \n",
        "50%          0.887676              0.838040    0.864991      0.895367   \n",
        "max          1.000000              1.000000    1.000000      1.000000   \n",
        "\n",
        "       f1_gold  f1_gold_dedup     f1_heur  f1_heur_dedup  f1_justext  \\\n",
        "count      644     644.000000  644.000000     644.000000  644.000000   \n",
        "mean         1       0.942635    0.748647       0.740478    0.406961   \n",
        "std          0       0.169775    0.270094       0.315791    0.426200   \n",
        "min          1       0.042254    0.000000       0.000000    0.000000   \n",
        "2%           1       0.201146    0.000000       0.000000    0.000000   \n",
        "5%           1       0.561269    0.103632       0.000000    0.000000   \n",
        "10%          1       0.857520    0.292901       0.093874    0.000000   \n",
        "50%          1       1.000000    0.864991       0.895367    0.200358   \n",
        "max          1       1.000000    1.000000       1.000000    1.000000   \n",
        "\n",
        "       f1_justext_dedup  f1_py_goose  f1_py_goose_dedup  f1_python_readibilty  \\\n",
        "count        644.000000   644.000000         644.000000            644.000000   \n",
        "mean           0.386846     0.605757           0.563397              0.861178   \n",
        "std            0.420299     0.398192           0.402577              0.253648   \n",
        "min            0.000000     0.000000           0.000000              0.005525   \n",
        "2%             0.000000     0.007274           0.000000              0.035096   \n",
        "5%             0.000000     0.020292           0.004808              0.085328   \n",
        "10%            0.000000     0.045969           0.026535              0.533585   \n",
        "50%            0.111429     0.839000           0.734851              0.957090   \n",
        "max            1.000000     1.000000           1.000000              1.000000   \n",
        "\n",
        "       f1_python_readibilty_dedup  \n",
        "count                  644.000000  \n",
        "mean                     0.808616  \n",
        "std                      0.300368  \n",
        "min                      0.000000  \n",
        "2%                       0.020957  \n",
        "5%                       0.042998  \n",
        "10%                      0.156222  \n",
        "50%                      0.951220  \n",
        "max                      1.000000  "
       ]
      },
      {
       "output_type": "stream",
       "stream": "stdout",
       "text": [
        "\n"
       ]
      }
     ],
     "prompt_number": 47
    },
    {
     "cell_type": "code",
     "collapsed": false,
     "input": [
      "print \"spidered\"\n",
      "df = get_data_frame_from_comparision_objects( only_spidered_downloads( comps_downloads ) )\n",
      "print_results_by_measurement_type( df )\n"
     ],
     "language": "python",
     "metadata": {},
     "outputs": [
      {
       "output_type": "stream",
       "stream": "stdout",
       "text": [
        "spidered\n",
        "       precision_boiler_pipe  precision_boiler_pipe_dedup  precision_crf  \\\n",
        "count             115.000000                   115.000000     115.000000   \n",
        "mean                0.759524                     0.760001       0.728986   \n",
        "std                 0.310086                     0.310471       0.345630   \n",
        "min                 0.000000                     0.000000       0.000000   \n",
        "2%                  0.006306                     0.012074       0.000000   \n",
        "5%                  0.025225                     0.025225       0.000154   \n",
        "10%                 0.111641                     0.085428       0.105578   \n",
        "50%                 0.901591                     0.904762       0.941392   \n",
        "max                 1.000000                     1.000000       1.000000   \n",
        "\n",
        "       precision_crf_dedup  precision_gold  precision_gold_dedup  \\\n",
        "count           115.000000             115            115.000000   \n",
        "mean              0.721599               1              0.998975   \n",
        "std               0.372825               0              0.002797   \n",
        "min               0.000000               1              0.983015   \n",
        "2%                0.000000               1              0.989518   \n",
        "5%                0.000000               1              0.994159   \n",
        "10%               0.000000               1              0.996115   \n",
        "50%               0.956772               1              1.000000   \n",
        "max               1.000000               1              1.000000   \n",
        "\n",
        "       precision_heur  precision_heur_dedup  precision_justext  \\\n",
        "count      115.000000            115.000000         115.000000   \n",
        "mean         0.728986              0.721599           0.502603   \n",
        "std          0.345630              0.372825           0.443725   \n",
        "min          0.000000              0.000000           0.000000   \n",
        "2%           0.000000              0.000000           0.000000   \n",
        "5%           0.000154              0.000000           0.000000   \n",
        "10%          0.105578              0.000000           0.000000   \n",
        "50%          0.941392              0.956772           0.468547   \n",
        "max          1.000000              1.000000           1.000000   \n",
        "\n",
        "       precision_justext_dedup  precision_py_goose  precision_py_goose_dedup  \\\n",
        "count               115.000000          115.000000                115.000000   \n",
        "mean                  0.513274            0.879815                  0.883859   \n",
        "std                   0.446751            0.260398                  0.258326   \n",
        "min                   0.000000            0.007173                  0.007173   \n",
        "2%                    0.000000            0.033548                  0.035865   \n",
        "5%                    0.000000            0.166667                  0.166667   \n",
        "10%                   0.000000            0.442045                  0.442045   \n",
        "50%                   0.468547            0.995851                  0.995349   \n",
        "max                   1.000000            1.000000                  1.000000   \n",
        "\n",
        "       precision_python_readibilty  precision_python_readibilty_dedup  \n",
        "count                   115.000000                         115.000000  \n",
        "mean                      0.832070                           0.822126  \n",
        "std                       0.301095                           0.304594  \n",
        "min                       0.008499                           0.007067  \n",
        "2%                        0.030500                           0.023559  \n",
        "5%                        0.081429                           0.086565  \n",
        "10%                       0.223742                           0.193379  \n",
        "50%                       0.977679                           0.972727  \n",
        "max                       1.000000                           1.000000  \n",
        "       recall_boiler_pipe  recall_boiler_pipe_dedup  recall_crf  \\\n",
        "count          115.000000                115.000000  115.000000   \n",
        "mean             0.826639                  0.775159    0.727501   \n",
        "std              0.275779                  0.292861    0.321322   \n",
        "min              0.000000                  0.000000    0.000000   \n",
        "2%               0.075197                  0.075197    0.000000   \n",
        "5%               0.082956                  0.082956    0.005018   \n",
        "10%              0.296784                  0.239981    0.117013   \n",
        "50%              0.956081                  0.936053    0.889344   \n",
        "max              1.000000                  1.000000    1.000000   \n",
        "\n",
        "       recall_crf_dedup  recall_gold  recall_gold_dedup  recall_heur  \\\n",
        "count        115.000000          115         115.000000   115.000000   \n",
        "mean           0.644234            1           0.917858     0.727501   \n",
        "std            0.370118            0           0.220640     0.321322   \n",
        "min            0.000000            1           0.059172     0.000000   \n",
        "2%             0.000000            1           0.147813     0.000000   \n",
        "5%             0.000000            1           0.294415     0.005018   \n",
        "10%            0.000000            1           0.686249     0.117013   \n",
        "50%            0.829710            1           1.000000     0.889344   \n",
        "max            1.000000            1           1.000000     1.000000   \n",
        "\n",
        "       recall_heur_dedup  recall_justext  recall_justext_dedup  \\\n",
        "count         115.000000      115.000000            115.000000   \n",
        "mean            0.644234        0.580008              0.523605   \n",
        "std             0.370118        0.430435              0.423792   \n",
        "min             0.000000        0.000000              0.000000   \n",
        "2%              0.000000        0.000000              0.000000   \n",
        "5%              0.000000        0.000000              0.000000   \n",
        "10%             0.000000        0.000000              0.000000   \n",
        "50%             0.829710        0.838407              0.747788   \n",
        "max             1.000000        1.000000              1.000000   \n",
        "\n",
        "       recall_py_goose  recall_py_goose_dedup  recall_python_readibilty  \\\n",
        "count       115.000000             115.000000                115.000000   \n",
        "mean          0.682953               0.625534                  0.835127   \n",
        "std           0.378934               0.392403                  0.317199   \n",
        "min           0.002874               0.002874                  0.002874   \n",
        "2%            0.005576               0.005576                  0.017247   \n",
        "5%            0.014152               0.008901                  0.033962   \n",
        "10%           0.026731               0.024740                  0.089791   \n",
        "50%           0.908081               0.864865                  0.976285   \n",
        "max           1.000000               1.000000                  1.000000   \n",
        "\n",
        "       recall_python_readibilty_dedup  \n",
        "count                      115.000000  \n",
        "mean                         0.768521  \n",
        "std                          0.362741  \n",
        "min                          0.004310  \n",
        "2%                           0.007016  \n",
        "5%                           0.011913  \n",
        "10%                          0.042088  \n",
        "50%                          0.969555  \n",
        "max                          1.000000  "
       ]
      },
      {
       "output_type": "stream",
       "stream": "stdout",
       "text": [
        "\n",
        "       f1_boiler_pipe  f1_boiler_pipe_dedup      f1_crf  f1_crf_dedup  \\\n",
        "count      115.000000            115.000000  115.000000    115.000000   \n",
        "mean         0.743924              0.720247    0.681098      0.638833   \n",
        "std          0.308386              0.310287    0.330442      0.369206   \n",
        "min          0.000000              0.000000    0.000000      0.000000   \n",
        "2%           0.011767              0.021945    0.000000      0.000000   \n",
        "5%           0.038741              0.038741    0.000307      0.000000   \n",
        "10%          0.148844              0.120862    0.064914      0.000000   \n",
        "50%          0.895199              0.851391    0.826990      0.799078   \n",
        "max          1.000000              0.996663    0.998779      0.999504   \n",
        "\n",
        "       f1_gold  f1_gold_dedup     f1_heur  f1_heur_dedup  f1_justext  \\\n",
        "count      115     115.000000  115.000000     115.000000  115.000000   \n",
        "mean         1       0.935951    0.681098       0.638833    0.477664   \n",
        "std          0       0.183827    0.330442       0.369206    0.409128   \n",
        "min          1       0.111732    0.000000       0.000000    0.000000   \n",
        "2%           1       0.256728    0.000000       0.000000    0.000000   \n",
        "5%           1       0.454631    0.000307       0.000000    0.000000   \n",
        "10%          1       0.813788    0.064914       0.000000    0.000000   \n",
        "50%          1       1.000000    0.826990       0.799078    0.485185   \n",
        "max          1       1.000000    0.998779       0.999504    1.000000   \n",
        "\n",
        "       f1_justext_dedup  f1_py_goose  f1_py_goose_dedup  f1_python_readibilty  \\\n",
        "count        115.000000   115.000000         115.000000            115.000000   \n",
        "mean           0.455847     0.704697           0.655273              0.800922   \n",
        "std            0.400042     0.373744           0.384180              0.330705   \n",
        "min            0.000000     0.005698           0.005698              0.005525   \n",
        "2%             0.000000     0.010997           0.010802              0.018968   \n",
        "5%             0.000000     0.015531           0.014115              0.038364   \n",
        "10%            0.000000     0.041221           0.041409              0.081796   \n",
        "50%            0.436764     0.926154           0.895636              0.966102   \n",
        "max            1.000000     1.000000           1.000000              1.000000   \n",
        "\n",
        "       f1_python_readibilty_dedup  \n",
        "count                  115.000000  \n",
        "mean                     0.746244  \n",
        "std                      0.361362  \n",
        "min                      0.008264  \n",
        "2%                       0.011768  \n",
        "5%                       0.016233  \n",
        "10%                      0.049514  \n",
        "50%                      0.957265  \n",
        "max                      0.997980  \n"
       ]
      }
     ],
     "prompt_number": 46
    },
    {
     "cell_type": "heading",
     "level": 2,
     "metadata": {},
     "source": [
      "Results by Subset"
     ]
    },
    {
     "cell_type": "code",
     "collapsed": false,
     "input": [
      "regional = { 2453107 }\n",
      "print \"region / pew knight sutdy / 245107 \"\n",
      "df = get_data_frame_from_comparision_objects( filter_by_media_tags_id( comps_downloads, regional ) )\n",
      "print_results_by_measurement_type( df )\n",
      "\n",
      "ap_english_us_top_25 = { 2453107 }\n",
      "print \"ap_english_us_top25 / 8875027 \"\n",
      "df = get_data_frame_from_comparision_objects( filter_by_media_tags_id( comps_downloads, ap ) )\n",
      "print_results_by_measurement_type( df )\n",
      "\n",
      "political_blogs = { 125 }\n",
      "print \"political blogs / 125\"\n",
      "df = get_data_frame_from_comparision_objects( filter_by_media_tags_id( comps_downloads, political_blogs ) )\n",
      "print_results_by_measurement_type( df )\n",
      "\n",
      "\n",
      "russian = { 7796878 }\n",
      "print 'russian'\n",
      "df = get_data_frame_from_comparision_objects( filter_by_media_tags_id( comps_downloads, russian ) )\n",
      "print_results_by_measurement_type( df )\n",
      "\n",
      "print 'brazil'\n",
      "df = get_data_frame_from_comparision_objects( filter_by_media_tags_id( comps_downloads, {8877968,  8877969, 8877973, 8877970 } ) )\n",
      "print_results_by_measurement_type( df )\n",
      "\n",
      "arabic = { 8878255 }\n",
      "print 'arabic'\n",
      "df = get_data_frame_from_comparision_objects( filter_by_media_tags_id( comps_downloads, arabic ) )\n",
      "print_results_by_measurement_type( df )\n",
      "                                          "
     ],
     "language": "python",
     "metadata": {},
     "outputs": [
      {
       "output_type": "stream",
       "stream": "stdout",
       "text": [
        "region / pew knight sutdy / 245107 \n",
        "       precision_boiler_pipe  precision_boiler_pipe_dedup  precision_crf  \\\n",
        "count              16.000000                    16.000000      16.000000   \n",
        "mean                0.725938                     0.736816       0.638475   \n",
        "std                 0.302335                     0.297586       0.224373   \n",
        "min                 0.045918                     0.046154       0.301170   \n",
        "2%                  0.145964                     0.137417       0.311373   \n",
        "5%                  0.296032                     0.274312       0.326677   \n",
        "10%                 0.384241                     0.373789       0.337376   \n",
        "50%                 0.860206                     0.845775       0.686694   \n",
        "max                 0.991114                     1.000000       0.941935   \n",
        "\n",
        "       precision_crf_dedup  precision_gold  precision_gold_dedup  \\\n",
        "count            16.000000              16             16.000000   \n",
        "mean              0.758878               1              0.999633   \n",
        "std               0.242286               0              0.001204   \n",
        "min               0.323615               1              0.995241   \n",
        "2%                0.334289               1              0.996335   \n",
        "5%                0.350300               1              0.997977   \n",
        "10%               0.369875               1              0.999444   \n",
        "50%               0.825397               1              1.000000   \n",
        "max               1.000000               1              1.000000   \n",
        "\n",
        "       precision_heur  precision_heur_dedup  precision_justext  \\\n",
        "count       16.000000             16.000000          16.000000   \n",
        "mean         0.638475              0.758878           0.537627   \n",
        "std          0.224373              0.242286           0.338963   \n",
        "min          0.301170              0.323615           0.020161   \n",
        "2%           0.311373              0.334289           0.023989   \n",
        "5%           0.326677              0.350300           0.029732   \n",
        "10%          0.337376              0.369875           0.036285   \n",
        "50%          0.686694              0.825397           0.683204   \n",
        "max          0.941935              1.000000           0.995455   \n",
        "\n",
        "       precision_justext_dedup  precision_py_goose  precision_py_goose_dedup  \\\n",
        "count                16.000000           16.000000                 16.000000   \n",
        "mean                  0.587437            0.992751                  0.991805   \n",
        "std                   0.366665            0.008386                  0.008850   \n",
        "min                   0.021552            0.975000                  0.975000   \n",
        "2%                    0.024963            0.977143                  0.975523   \n",
        "5%                    0.030079            0.980357                  0.976308   \n",
        "10%                   0.045873            0.982222                  0.979523   \n",
        "50%                   0.715038            0.997057                  0.995598   \n",
        "max                   0.995455            1.000000                  1.000000   \n",
        "\n",
        "       precision_python_readibilty  precision_python_readibilty_dedup  \n",
        "count                    16.000000                          16.000000  \n",
        "mean                      0.970112                           0.994401  \n",
        "std                       0.026198                           0.009272  \n",
        "min                       0.884058                           0.974194  \n",
        "2%                        0.904597                           0.974979  \n",
        "5%                        0.935406                           0.976157  \n",
        "10%                       0.957743                           0.978202  \n",
        "50%                       0.974920                           1.000000  \n",
        "max                       1.000000                           1.000000  \n",
        "       recall_boiler_pipe  recall_boiler_pipe_dedup  recall_crf  \\\n",
        "count           16.000000                 16.000000   16.000000   \n",
        "mean             0.918452                  0.832067    0.916917   \n",
        "std              0.228239                  0.225957    0.054466   \n",
        "min              0.066667                  0.066667    0.793103   \n",
        "2%               0.322098                  0.257621    0.807622   \n",
        "5%               0.705244                  0.544052    0.829400   \n",
        "10%              0.928135                  0.703571    0.850819   \n",
        "50%              0.976690                  0.923678    0.933668   \n",
        "max              1.000000                  0.993341    0.993341   \n",
        "\n",
        "       recall_crf_dedup  recall_gold  recall_gold_dedup  recall_heur  \\\n",
        "count         16.000000           16          16.000000    16.000000   \n",
        "mean           0.859778            1           0.929605     0.916917   \n",
        "std            0.118175            0           0.096666     0.054466   \n",
        "min            0.630742            1           0.710247     0.793103   \n",
        "2%             0.649212            1           0.729341     0.807622   \n",
        "5%             0.676916            1           0.757981     0.829400   \n",
        "10%            0.707825            1           0.792075     0.850819   \n",
        "50%            0.881066            1           0.985154     0.933668   \n",
        "max            0.998934            1           1.000000     0.993341   \n",
        "\n",
        "       recall_heur_dedup  recall_justext  recall_justext_dedup  \\\n",
        "count          16.000000       16.000000             16.000000   \n",
        "mean            0.859778        0.793756              0.709709   \n",
        "std             0.118175        0.368278              0.342666   \n",
        "min             0.630742        0.034483              0.034483   \n",
        "2%              0.649212        0.043019              0.034627   \n",
        "5%              0.676916        0.055823              0.034844   \n",
        "10%             0.707825        0.065657              0.051671   \n",
        "50%             0.881066        0.964091              0.822389   \n",
        "max             0.998934        1.000000              0.993341   \n",
        "\n",
        "       recall_py_goose  recall_py_goose_dedup  recall_python_readibilty  \\\n",
        "count        16.000000              16.000000                 16.000000   \n",
        "mean          0.959655               0.865618                  0.930970   \n",
        "std           0.040620               0.112344                  0.047700   \n",
        "min           0.866667               0.643110                  0.827586   \n",
        "2%            0.868571               0.650177                  0.832731   \n",
        "5%            0.871429               0.660777                  0.840449   \n",
        "10%           0.905473               0.685315                  0.870644   \n",
        "50%           0.974939               0.902299                  0.944134   \n",
        "max           1.000000               0.986681                  1.000000   \n",
        "\n",
        "       recall_python_readibilty_dedup  \n",
        "count                       16.000000  \n",
        "mean                         0.885925  \n",
        "std                          0.099482  \n",
        "min                          0.699647  \n",
        "2%                           0.700941  \n",
        "5%                           0.702884  \n",
        "10%                          0.732934  \n",
        "50%                          0.916769  \n",
        "max                          0.988901  "
       ]
      },
      {
       "output_type": "stream",
       "stream": "stdout",
       "text": [
        "\n",
        "       f1_boiler_pipe  f1_boiler_pipe_dedup     f1_crf  f1_crf_dedup  f1_gold  \\\n",
        "count       16.000000             16.000000  16.000000     16.000000       16   \n",
        "mean         0.789421              0.758594   0.733554      0.776456        1   \n",
        "std          0.263828              0.245140   0.176351      0.161895        0   \n",
        "min          0.054381              0.054545   0.448802      0.482609        1   \n",
        "2%           0.201491              0.182182   0.460532      0.493106        1   \n",
        "5%           0.422155              0.373636   0.478128      0.508851        1   \n",
        "10%          0.550422              0.522178   0.488653      0.530086        1   \n",
        "50%          0.910472              0.855466   0.792578      0.815749        1   \n",
        "max          0.991870              0.992790   0.941176      0.978228        1   \n",
        "\n",
        "       f1_gold_dedup    f1_heur  f1_heur_dedup  f1_justext  f1_justext_dedup  \\\n",
        "count      16.000000  16.000000      16.000000   16.000000         16.000000   \n",
        "mean        0.960756   0.733554       0.776456    0.615955          0.611985   \n",
        "std         0.054902   0.176351       0.161895    0.349292          0.349589   \n",
        "min         0.830579   0.448802       0.482609    0.025445          0.026525   \n",
        "2%          0.843166   0.460532       0.493106    0.031145          0.031726   \n",
        "5%          0.862047   0.478128       0.508851    0.039695          0.039526   \n",
        "10%         0.883860   0.488653       0.530086    0.046547          0.044152   \n",
        "50%         0.992521   0.792578       0.815749    0.805163          0.789394   \n",
        "max         1.000000   0.941176       0.978228    0.976000          0.963696   \n",
        "\n",
        "       f1_py_goose  f1_py_goose_dedup  f1_python_readibilty  \\\n",
        "count    16.000000          16.000000             16.000000   \n",
        "mean      0.975627           0.920619              0.949469   \n",
        "std       0.024955           0.068276              0.030260   \n",
        "min       0.917647           0.781116              0.895105   \n",
        "2%        0.919664           0.784517              0.895193   \n",
        "5%        0.922689           0.789619              0.895324   \n",
        "10%       0.942750           0.809359              0.909820   \n",
        "50%       0.986642           0.942581              0.951892   \n",
        "max       1.000000           0.992187              1.000000   \n",
        "\n",
        "       f1_python_readibilty_dedup  \n",
        "count                   16.000000  \n",
        "mean                     0.934173  \n",
        "std                      0.058683  \n",
        "min                      0.823285  \n",
        "2%                       0.824179  \n",
        "5%                       0.825520  \n",
        "10%                      0.841704  \n",
        "50%                      0.951215  \n",
        "max                      0.993865  \n",
        "ap_english_us_top25 / 8875027 \n",
        "       precision_boiler_pipe  precision_boiler_pipe_dedup  precision_crf  \\\n",
        "count              16.000000                    16.000000      16.000000   \n",
        "mean                0.725938                     0.736816       0.638475   \n",
        "std                 0.302335                     0.297586       0.224373   \n",
        "min                 0.045918                     0.046154       0.301170   \n",
        "2%                  0.145964                     0.137417       0.311373   \n",
        "5%                  0.296032                     0.274312       0.326677   \n",
        "10%                 0.384241                     0.373789       0.337376   \n",
        "50%                 0.860206                     0.845775       0.686694   \n",
        "max                 0.991114                     1.000000       0.941935   \n",
        "\n",
        "       precision_crf_dedup  precision_gold  precision_gold_dedup  \\\n",
        "count            16.000000              16             16.000000   \n",
        "mean              0.758878               1              0.999633   \n",
        "std               0.242286               0              0.001204   \n",
        "min               0.323615               1              0.995241   \n",
        "2%                0.334289               1              0.996335   \n",
        "5%                0.350300               1              0.997977   \n",
        "10%               0.369875               1              0.999444   \n",
        "50%               0.825397               1              1.000000   \n",
        "max               1.000000               1              1.000000   \n",
        "\n",
        "       precision_heur  precision_heur_dedup  precision_justext  \\\n",
        "count       16.000000             16.000000          16.000000   \n",
        "mean         0.638475              0.758878           0.537627   \n",
        "std          0.224373              0.242286           0.338963   \n",
        "min          0.301170              0.323615           0.020161   \n",
        "2%           0.311373              0.334289           0.023989   \n",
        "5%           0.326677              0.350300           0.029732   \n",
        "10%          0.337376              0.369875           0.036285   \n",
        "50%          0.686694              0.825397           0.683204   \n",
        "max          0.941935              1.000000           0.995455   \n",
        "\n",
        "       precision_justext_dedup  precision_py_goose  precision_py_goose_dedup  \\\n",
        "count                16.000000           16.000000                 16.000000   \n",
        "mean                  0.587437            0.992751                  0.991805   \n",
        "std                   0.366665            0.008386                  0.008850   \n",
        "min                   0.021552            0.975000                  0.975000   \n",
        "2%                    0.024963            0.977143                  0.975523   \n",
        "5%                    0.030079            0.980357                  0.976308   \n",
        "10%                   0.045873            0.982222                  0.979523   \n",
        "50%                   0.715038            0.997057                  0.995598   \n",
        "max                   0.995455            1.000000                  1.000000   \n",
        "\n",
        "       precision_python_readibilty  precision_python_readibilty_dedup  \n",
        "count                    16.000000                          16.000000  \n",
        "mean                      0.970112                           0.994401  \n",
        "std                       0.026198                           0.009272  \n",
        "min                       0.884058                           0.974194  \n",
        "2%                        0.904597                           0.974979  \n",
        "5%                        0.935406                           0.976157  \n",
        "10%                       0.957743                           0.978202  \n",
        "50%                       0.974920                           1.000000  \n",
        "max                       1.000000                           1.000000  "
       ]
      },
      {
       "ename": "KeyError",
       "evalue": "'downloads_id'",
       "output_type": "pyerr",
       "traceback": [
        "\u001b[1;31m---------------------------------------------------------------------------\u001b[0m\n\u001b[1;31mKeyError\u001b[0m                                  Traceback (most recent call last)",
        "\u001b[1;32m<ipython-input-44-0ba637806dcb>\u001b[0m in \u001b[0;36m<module>\u001b[1;34m()\u001b[0m\n\u001b[0;32m     11\u001b[0m \u001b[0mpolitical_blogs\u001b[0m \u001b[1;33m=\u001b[0m \u001b[1;33m{\u001b[0m \u001b[1;36m125\u001b[0m \u001b[1;33m}\u001b[0m\u001b[1;33m\u001b[0m\u001b[0m\n\u001b[0;32m     12\u001b[0m \u001b[1;32mprint\u001b[0m \u001b[1;34m\"political blogs / 125\"\u001b[0m\u001b[1;33m\u001b[0m\u001b[0m\n\u001b[1;32m---> 13\u001b[1;33m \u001b[0mdf\u001b[0m \u001b[1;33m=\u001b[0m \u001b[0mget_data_frame_from_comparision_objects\u001b[0m\u001b[1;33m(\u001b[0m \u001b[0mfilter_by_media_tags_id\u001b[0m\u001b[1;33m(\u001b[0m \u001b[0mcomps_downloads\u001b[0m\u001b[1;33m,\u001b[0m \u001b[0mpolitical_blogs\u001b[0m \u001b[1;33m)\u001b[0m \u001b[1;33m)\u001b[0m\u001b[1;33m\u001b[0m\u001b[0m\n\u001b[0m\u001b[0;32m     14\u001b[0m \u001b[0mprint_results_by_measurement_type\u001b[0m\u001b[1;33m(\u001b[0m \u001b[0mdf\u001b[0m \u001b[1;33m)\u001b[0m\u001b[1;33m\u001b[0m\u001b[0m\n\u001b[0;32m     15\u001b[0m \u001b[1;33m\u001b[0m\u001b[0m\n",
        "\u001b[1;32m<ipython-input-28-559f93b9e424>\u001b[0m in \u001b[0;36mget_data_frame_from_comparision_objects\u001b[1;34m(comparison_objects)\u001b[0m\n\u001b[0;32m     17\u001b[0m \u001b[1;33m\u001b[0m\u001b[0m\n\u001b[0;32m     18\u001b[0m     \u001b[0mdf\u001b[0m \u001b[1;33m=\u001b[0m \u001b[0mpd\u001b[0m\u001b[1;33m.\u001b[0m\u001b[0mDataFrame\u001b[0m\u001b[1;33m(\u001b[0m \u001b[0mnew_comps\u001b[0m \u001b[1;33m)\u001b[0m\u001b[1;33m\u001b[0m\u001b[0m\n\u001b[1;32m---> 19\u001b[1;33m     \u001b[0mdf\u001b[0m\u001b[1;33m.\u001b[0m\u001b[0mset_index\u001b[0m\u001b[1;33m(\u001b[0m\u001b[1;34m'downloads_id'\u001b[0m\u001b[1;33m,\u001b[0m \u001b[0minplace\u001b[0m\u001b[1;33m=\u001b[0m\u001b[0mTrue\u001b[0m \u001b[1;33m)\u001b[0m\u001b[1;33m\u001b[0m\u001b[0m\n\u001b[0m\u001b[0;32m     20\u001b[0m     \u001b[1;32mreturn\u001b[0m \u001b[0mdf\u001b[0m\u001b[1;33m\u001b[0m\u001b[0m\n",
        "\u001b[1;32m/usr/local/lib/python2.7/dist-packages/pandas/core/frame.pyc\u001b[0m in \u001b[0;36mset_index\u001b[1;34m(self, keys, drop, append, inplace, verify_integrity)\u001b[0m\n\u001b[0;32m   2370\u001b[0m                 \u001b[0mnames\u001b[0m\u001b[1;33m.\u001b[0m\u001b[0mappend\u001b[0m\u001b[1;33m(\u001b[0m\u001b[0mNone\u001b[0m\u001b[1;33m)\u001b[0m\u001b[1;33m\u001b[0m\u001b[0m\n\u001b[0;32m   2371\u001b[0m             \u001b[1;32melse\u001b[0m\u001b[1;33m:\u001b[0m\u001b[1;33m\u001b[0m\u001b[0m\n\u001b[1;32m-> 2372\u001b[1;33m                 \u001b[0mlevel\u001b[0m \u001b[1;33m=\u001b[0m \u001b[0mframe\u001b[0m\u001b[1;33m[\u001b[0m\u001b[0mcol\u001b[0m\u001b[1;33m]\u001b[0m\u001b[1;33m.\u001b[0m\u001b[0mvalues\u001b[0m\u001b[1;33m\u001b[0m\u001b[0m\n\u001b[0m\u001b[0;32m   2373\u001b[0m                 \u001b[0mnames\u001b[0m\u001b[1;33m.\u001b[0m\u001b[0mappend\u001b[0m\u001b[1;33m(\u001b[0m\u001b[0mcol\u001b[0m\u001b[1;33m)\u001b[0m\u001b[1;33m\u001b[0m\u001b[0m\n\u001b[0;32m   2374\u001b[0m                 \u001b[1;32mif\u001b[0m \u001b[0mdrop\u001b[0m\u001b[1;33m:\u001b[0m\u001b[1;33m\u001b[0m\u001b[0m\n",
        "\u001b[1;32m/usr/local/lib/python2.7/dist-packages/pandas/core/frame.pyc\u001b[0m in \u001b[0;36m__getitem__\u001b[1;34m(self, key)\u001b[0m\n\u001b[0;32m   1676\u001b[0m             \u001b[1;32mreturn\u001b[0m \u001b[0mself\u001b[0m\u001b[1;33m.\u001b[0m\u001b[0m_getitem_multilevel\u001b[0m\u001b[1;33m(\u001b[0m\u001b[0mkey\u001b[0m\u001b[1;33m)\u001b[0m\u001b[1;33m\u001b[0m\u001b[0m\n\u001b[0;32m   1677\u001b[0m         \u001b[1;32melse\u001b[0m\u001b[1;33m:\u001b[0m\u001b[1;33m\u001b[0m\u001b[0m\n\u001b[1;32m-> 1678\u001b[1;33m             \u001b[1;32mreturn\u001b[0m \u001b[0mself\u001b[0m\u001b[1;33m.\u001b[0m\u001b[0m_getitem_column\u001b[0m\u001b[1;33m(\u001b[0m\u001b[0mkey\u001b[0m\u001b[1;33m)\u001b[0m\u001b[1;33m\u001b[0m\u001b[0m\n\u001b[0m\u001b[0;32m   1679\u001b[0m \u001b[1;33m\u001b[0m\u001b[0m\n\u001b[0;32m   1680\u001b[0m     \u001b[1;32mdef\u001b[0m \u001b[0m_getitem_column\u001b[0m\u001b[1;33m(\u001b[0m\u001b[0mself\u001b[0m\u001b[1;33m,\u001b[0m \u001b[0mkey\u001b[0m\u001b[1;33m)\u001b[0m\u001b[1;33m:\u001b[0m\u001b[1;33m\u001b[0m\u001b[0m\n",
        "\u001b[1;32m/usr/local/lib/python2.7/dist-packages/pandas/core/frame.pyc\u001b[0m in \u001b[0;36m_getitem_column\u001b[1;34m(self, key)\u001b[0m\n\u001b[0;32m   1683\u001b[0m         \u001b[1;31m# get column\u001b[0m\u001b[1;33m\u001b[0m\u001b[1;33m\u001b[0m\u001b[0m\n\u001b[0;32m   1684\u001b[0m         \u001b[1;32mif\u001b[0m \u001b[0mself\u001b[0m\u001b[1;33m.\u001b[0m\u001b[0mcolumns\u001b[0m\u001b[1;33m.\u001b[0m\u001b[0mis_unique\u001b[0m\u001b[1;33m:\u001b[0m\u001b[1;33m\u001b[0m\u001b[0m\n\u001b[1;32m-> 1685\u001b[1;33m             \u001b[1;32mreturn\u001b[0m \u001b[0mself\u001b[0m\u001b[1;33m.\u001b[0m\u001b[0m_get_item_cache\u001b[0m\u001b[1;33m(\u001b[0m\u001b[0mkey\u001b[0m\u001b[1;33m)\u001b[0m\u001b[1;33m\u001b[0m\u001b[0m\n\u001b[0m\u001b[0;32m   1686\u001b[0m \u001b[1;33m\u001b[0m\u001b[0m\n\u001b[0;32m   1687\u001b[0m         \u001b[1;31m# duplicate columns & possible reduce dimensionaility\u001b[0m\u001b[1;33m\u001b[0m\u001b[1;33m\u001b[0m\u001b[0m\n",
        "\u001b[1;32m/usr/local/lib/python2.7/dist-packages/pandas/core/generic.pyc\u001b[0m in \u001b[0;36m_get_item_cache\u001b[1;34m(self, item)\u001b[0m\n\u001b[0;32m   1050\u001b[0m         \u001b[0mres\u001b[0m \u001b[1;33m=\u001b[0m \u001b[0mcache\u001b[0m\u001b[1;33m.\u001b[0m\u001b[0mget\u001b[0m\u001b[1;33m(\u001b[0m\u001b[0mitem\u001b[0m\u001b[1;33m)\u001b[0m\u001b[1;33m\u001b[0m\u001b[0m\n\u001b[0;32m   1051\u001b[0m         \u001b[1;32mif\u001b[0m \u001b[0mres\u001b[0m \u001b[1;32mis\u001b[0m \u001b[0mNone\u001b[0m\u001b[1;33m:\u001b[0m\u001b[1;33m\u001b[0m\u001b[0m\n\u001b[1;32m-> 1052\u001b[1;33m             \u001b[0mvalues\u001b[0m \u001b[1;33m=\u001b[0m \u001b[0mself\u001b[0m\u001b[1;33m.\u001b[0m\u001b[0m_data\u001b[0m\u001b[1;33m.\u001b[0m\u001b[0mget\u001b[0m\u001b[1;33m(\u001b[0m\u001b[0mitem\u001b[0m\u001b[1;33m)\u001b[0m\u001b[1;33m\u001b[0m\u001b[0m\n\u001b[0m\u001b[0;32m   1053\u001b[0m             \u001b[0mres\u001b[0m \u001b[1;33m=\u001b[0m \u001b[0mself\u001b[0m\u001b[1;33m.\u001b[0m\u001b[0m_box_item_values\u001b[0m\u001b[1;33m(\u001b[0m\u001b[0mitem\u001b[0m\u001b[1;33m,\u001b[0m \u001b[0mvalues\u001b[0m\u001b[1;33m)\u001b[0m\u001b[1;33m\u001b[0m\u001b[0m\n\u001b[0;32m   1054\u001b[0m             \u001b[0mcache\u001b[0m\u001b[1;33m[\u001b[0m\u001b[0mitem\u001b[0m\u001b[1;33m]\u001b[0m \u001b[1;33m=\u001b[0m \u001b[0mres\u001b[0m\u001b[1;33m\u001b[0m\u001b[0m\n",
        "\u001b[1;32m/usr/local/lib/python2.7/dist-packages/pandas/core/internals.pyc\u001b[0m in \u001b[0;36mget\u001b[1;34m(self, item, fastpath)\u001b[0m\n\u001b[0;32m   2563\u001b[0m \u001b[1;33m\u001b[0m\u001b[0m\n\u001b[0;32m   2564\u001b[0m             \u001b[1;32mif\u001b[0m \u001b[1;32mnot\u001b[0m \u001b[0misnull\u001b[0m\u001b[1;33m(\u001b[0m\u001b[0mitem\u001b[0m\u001b[1;33m)\u001b[0m\u001b[1;33m:\u001b[0m\u001b[1;33m\u001b[0m\u001b[0m\n\u001b[1;32m-> 2565\u001b[1;33m                 \u001b[0mloc\u001b[0m \u001b[1;33m=\u001b[0m \u001b[0mself\u001b[0m\u001b[1;33m.\u001b[0m\u001b[0mitems\u001b[0m\u001b[1;33m.\u001b[0m\u001b[0mget_loc\u001b[0m\u001b[1;33m(\u001b[0m\u001b[0mitem\u001b[0m\u001b[1;33m)\u001b[0m\u001b[1;33m\u001b[0m\u001b[0m\n\u001b[0m\u001b[0;32m   2566\u001b[0m             \u001b[1;32melse\u001b[0m\u001b[1;33m:\u001b[0m\u001b[1;33m\u001b[0m\u001b[0m\n\u001b[0;32m   2567\u001b[0m                 \u001b[0mindexer\u001b[0m \u001b[1;33m=\u001b[0m \u001b[0mnp\u001b[0m\u001b[1;33m.\u001b[0m\u001b[0marange\u001b[0m\u001b[1;33m(\u001b[0m\u001b[0mlen\u001b[0m\u001b[1;33m(\u001b[0m\u001b[0mself\u001b[0m\u001b[1;33m.\u001b[0m\u001b[0mitems\u001b[0m\u001b[1;33m)\u001b[0m\u001b[1;33m)\u001b[0m\u001b[1;33m[\u001b[0m\u001b[0misnull\u001b[0m\u001b[1;33m(\u001b[0m\u001b[0mself\u001b[0m\u001b[1;33m.\u001b[0m\u001b[0mitems\u001b[0m\u001b[1;33m)\u001b[0m\u001b[1;33m]\u001b[0m\u001b[1;33m\u001b[0m\u001b[0m\n",
        "\u001b[1;32m/usr/local/lib/python2.7/dist-packages/pandas/core/index.pyc\u001b[0m in \u001b[0;36mget_loc\u001b[1;34m(self, key)\u001b[0m\n\u001b[0;32m   1179\u001b[0m         \u001b[0mloc\u001b[0m \u001b[1;33m:\u001b[0m \u001b[0mint\u001b[0m \u001b[1;32mif\u001b[0m \u001b[0munique\u001b[0m \u001b[0mindex\u001b[0m\u001b[1;33m,\u001b[0m \u001b[0mpossibly\u001b[0m \u001b[0mslice\u001b[0m \u001b[1;32mor\u001b[0m \u001b[0mmask\u001b[0m \u001b[1;32mif\u001b[0m \u001b[1;32mnot\u001b[0m\u001b[1;33m\u001b[0m\u001b[0m\n\u001b[0;32m   1180\u001b[0m         \"\"\"\n\u001b[1;32m-> 1181\u001b[1;33m         \u001b[1;32mreturn\u001b[0m \u001b[0mself\u001b[0m\u001b[1;33m.\u001b[0m\u001b[0m_engine\u001b[0m\u001b[1;33m.\u001b[0m\u001b[0mget_loc\u001b[0m\u001b[1;33m(\u001b[0m\u001b[0m_values_from_object\u001b[0m\u001b[1;33m(\u001b[0m\u001b[0mkey\u001b[0m\u001b[1;33m)\u001b[0m\u001b[1;33m)\u001b[0m\u001b[1;33m\u001b[0m\u001b[0m\n\u001b[0m\u001b[0;32m   1182\u001b[0m \u001b[1;33m\u001b[0m\u001b[0m\n\u001b[0;32m   1183\u001b[0m     \u001b[1;32mdef\u001b[0m \u001b[0mget_value\u001b[0m\u001b[1;33m(\u001b[0m\u001b[0mself\u001b[0m\u001b[1;33m,\u001b[0m \u001b[0mseries\u001b[0m\u001b[1;33m,\u001b[0m \u001b[0mkey\u001b[0m\u001b[1;33m)\u001b[0m\u001b[1;33m:\u001b[0m\u001b[1;33m\u001b[0m\u001b[0m\n",
        "\u001b[1;32m/usr/local/lib/python2.7/dist-packages/pandas/index.so\u001b[0m in \u001b[0;36mpandas.index.IndexEngine.get_loc (pandas/index.c:3354)\u001b[1;34m()\u001b[0m\n",
        "\u001b[1;32m/usr/local/lib/python2.7/dist-packages/pandas/index.so\u001b[0m in \u001b[0;36mpandas.index.IndexEngine.get_loc (pandas/index.c:3289)\u001b[1;34m()\u001b[0m\n",
        "\u001b[1;31mKeyError\u001b[0m: 'downloads_id'"
       ]
      },
      {
       "output_type": "stream",
       "stream": "stdout",
       "text": [
        "\n",
        "       recall_boiler_pipe  recall_boiler_pipe_dedup  recall_crf  \\\n",
        "count           16.000000                 16.000000   16.000000   \n",
        "mean             0.918452                  0.832067    0.916917   \n",
        "std              0.228239                  0.225957    0.054466   \n",
        "min              0.066667                  0.066667    0.793103   \n",
        "2%               0.322098                  0.257621    0.807622   \n",
        "5%               0.705244                  0.544052    0.829400   \n",
        "10%              0.928135                  0.703571    0.850819   \n",
        "50%              0.976690                  0.923678    0.933668   \n",
        "max              1.000000                  0.993341    0.993341   \n",
        "\n",
        "       recall_crf_dedup  recall_gold  recall_gold_dedup  recall_heur  \\\n",
        "count         16.000000           16          16.000000    16.000000   \n",
        "mean           0.859778            1           0.929605     0.916917   \n",
        "std            0.118175            0           0.096666     0.054466   \n",
        "min            0.630742            1           0.710247     0.793103   \n",
        "2%             0.649212            1           0.729341     0.807622   \n",
        "5%             0.676916            1           0.757981     0.829400   \n",
        "10%            0.707825            1           0.792075     0.850819   \n",
        "50%            0.881066            1           0.985154     0.933668   \n",
        "max            0.998934            1           1.000000     0.993341   \n",
        "\n",
        "       recall_heur_dedup  recall_justext  recall_justext_dedup  \\\n",
        "count          16.000000       16.000000             16.000000   \n",
        "mean            0.859778        0.793756              0.709709   \n",
        "std             0.118175        0.368278              0.342666   \n",
        "min             0.630742        0.034483              0.034483   \n",
        "2%              0.649212        0.043019              0.034627   \n",
        "5%              0.676916        0.055823              0.034844   \n",
        "10%             0.707825        0.065657              0.051671   \n",
        "50%             0.881066        0.964091              0.822389   \n",
        "max             0.998934        1.000000              0.993341   \n",
        "\n",
        "       recall_py_goose  recall_py_goose_dedup  recall_python_readibilty  \\\n",
        "count        16.000000              16.000000                 16.000000   \n",
        "mean          0.959655               0.865618                  0.930970   \n",
        "std           0.040620               0.112344                  0.047700   \n",
        "min           0.866667               0.643110                  0.827586   \n",
        "2%            0.868571               0.650177                  0.832731   \n",
        "5%            0.871429               0.660777                  0.840449   \n",
        "10%           0.905473               0.685315                  0.870644   \n",
        "50%           0.974939               0.902299                  0.944134   \n",
        "max           1.000000               0.986681                  1.000000   \n",
        "\n",
        "       recall_python_readibilty_dedup  \n",
        "count                       16.000000  \n",
        "mean                         0.885925  \n",
        "std                          0.099482  \n",
        "min                          0.699647  \n",
        "2%                           0.700941  \n",
        "5%                           0.702884  \n",
        "10%                          0.732934  \n",
        "50%                          0.916769  \n",
        "max                          0.988901  \n",
        "       f1_boiler_pipe  f1_boiler_pipe_dedup     f1_crf  f1_crf_dedup  f1_gold  \\\n",
        "count       16.000000             16.000000  16.000000     16.000000       16   \n",
        "mean         0.789421              0.758594   0.733554      0.776456        1   \n",
        "std          0.263828              0.245140   0.176351      0.161895        0   \n",
        "min          0.054381              0.054545   0.448802      0.482609        1   \n",
        "2%           0.201491              0.182182   0.460532      0.493106        1   \n",
        "5%           0.422155              0.373636   0.478128      0.508851        1   \n",
        "10%          0.550422              0.522178   0.488653      0.530086        1   \n",
        "50%          0.910472              0.855466   0.792578      0.815749        1   \n",
        "max          0.991870              0.992790   0.941176      0.978228        1   \n",
        "\n",
        "       f1_gold_dedup    f1_heur  f1_heur_dedup  f1_justext  f1_justext_dedup  \\\n",
        "count      16.000000  16.000000      16.000000   16.000000         16.000000   \n",
        "mean        0.960756   0.733554       0.776456    0.615955          0.611985   \n",
        "std         0.054902   0.176351       0.161895    0.349292          0.349589   \n",
        "min         0.830579   0.448802       0.482609    0.025445          0.026525   \n",
        "2%          0.843166   0.460532       0.493106    0.031145          0.031726   \n",
        "5%          0.862047   0.478128       0.508851    0.039695          0.039526   \n",
        "10%         0.883860   0.488653       0.530086    0.046547          0.044152   \n",
        "50%         0.992521   0.792578       0.815749    0.805163          0.789394   \n",
        "max         1.000000   0.941176       0.978228    0.976000          0.963696   \n",
        "\n",
        "       f1_py_goose  f1_py_goose_dedup  f1_python_readibilty  \\\n",
        "count    16.000000          16.000000             16.000000   \n",
        "mean      0.975627           0.920619              0.949469   \n",
        "std       0.024955           0.068276              0.030260   \n",
        "min       0.917647           0.781116              0.895105   \n",
        "2%        0.919664           0.784517              0.895193   \n",
        "5%        0.922689           0.789619              0.895324   \n",
        "10%       0.942750           0.809359              0.909820   \n",
        "50%       0.986642           0.942581              0.951892   \n",
        "max       1.000000           0.992187              1.000000   \n",
        "\n",
        "       f1_python_readibilty_dedup  \n",
        "count                   16.000000  \n",
        "mean                     0.934173  \n",
        "std                      0.058683  \n",
        "min                      0.823285  \n",
        "2%                       0.824179  \n",
        "5%                       0.825520  \n",
        "10%                      0.841704  \n",
        "50%                      0.951215  \n",
        "max                      0.993865  \n",
        "political blogs / 125\n"
       ]
      }
     ],
     "prompt_number": 44
    }
   ],
   "metadata": {}
  }
 ]
}