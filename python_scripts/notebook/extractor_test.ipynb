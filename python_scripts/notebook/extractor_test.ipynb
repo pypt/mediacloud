{
 "metadata": {
  "name": "",
  "signature": "sha256:e6196607dd61c04b365dcdf3394745636fe47d3eacdb8cc3057303b0c60176d3"
 },
 "nbformat": 3,
 "nbformat_minor": 0,
 "worksheets": [
  {
   "cells": [
    {
     "cell_type": "heading",
     "level": 1,
     "metadata": {},
     "source": [
      "Extractor evaluation"
     ]
    },
    {
     "cell_type": "markdown",
     "metadata": {},
     "source": [
      "This notebook evaluates both Media Cloud's internal extractors and third party FLOSS extractor libraries across a corpus of hand annotated articles.\n",
      "\n",
      "Readers may wish to skip to the results section at the end."
     ]
    },
    {
     "cell_type": "heading",
     "level": 2,
     "metadata": {},
     "source": [
      "Set up / Methods"
     ]
    },
    {
     "cell_type": "code",
     "collapsed": false,
     "input": [
      "import cPickle\n",
      "import os.path\n",
      "\n",
      "api_key = cPickle.load( file( os.path.expanduser( '~/mediacloud_api_key.pickle' ), 'r' ) )"
     ],
     "language": "python",
     "metadata": {},
     "outputs": [],
     "prompt_number": 1
    },
    {
     "cell_type": "code",
     "collapsed": false,
     "input": [
      "import cPickle\n",
      "import os.path\n",
      "\n",
      "cPickle.dump( api_key, file( os.path.expanduser( '~/mediacloud_api_key.pickle' ), 'wb' ) )"
     ],
     "language": "python",
     "metadata": {},
     "outputs": [],
     "prompt_number": 2
    },
    {
     "cell_type": "code",
     "collapsed": false,
     "input": [
      "import sys\n",
      "sys.path.append('../../foreign_modules/python/')"
     ],
     "language": "python",
     "metadata": {},
     "outputs": [],
     "prompt_number": 3
    },
    {
     "cell_type": "code",
     "collapsed": false,
     "input": [
      "loc_key = 'f66a50230d54afaf18822808aed649f1d6ca72b08fb06d5efb6247afe9fbae52'"
     ],
     "language": "python",
     "metadata": {},
     "outputs": [],
     "prompt_number": 4
    },
    {
     "cell_type": "code",
     "collapsed": false,
     "input": [
      "import mediacloud, requests, csv, sys, os, json, cPickle\n",
      "\n",
      "def get_download( downloads_id ):\n",
      "    download = requests.get('https://api.mediacloud.org/api/v2/downloads/single/'+str(downloads_id)+'?key='+api_key)\n",
      "    return download.json()[0]\n",
      "\n",
      "def extract_story( preprocessed_lines, title, description, extractor_method ):\n",
      "    extract_params = {'key':loc_key, 'preprocessed_lines':preprocessed_lines, \n",
      "                           'story_title':title, 'story_description':description, 'extractor_method': extractor_method}\n",
      "    \n",
      "    extract_result = requests.put('http://0:3000/api/v2/extractlines/extract',data=json.dumps(extract_params), \n",
      "                                headers = {'Content-type': 'application/json'})\n",
      "    \n",
      "    extract_result.raise_for_status()\n",
      "    return extract_result.json()\n",
      "\n",
      "def get_story_lines( raw_content ):\n",
      "    story_lines_params = {'key':loc_key, 'body_html':raw_content }\n",
      "    headers = {'Content-type': 'application/json'}\n",
      "    story_lines = requests.put('http://0:3000/api/v2/extractlines/story_lines',data=json.dumps(story_lines_params), \n",
      "                               params={ 'key': loc_key },headers=headers)\n",
      "    \n",
      "    story_lines.raise_for_status()\n",
      "    \n",
      "    return story_lines"
     ],
     "language": "python",
     "metadata": {},
     "outputs": [],
     "prompt_number": 5
    },
    {
     "cell_type": "code",
     "collapsed": false,
     "input": [
      "import subprocess\n",
      "import tempfile\n",
      "import codecs\n",
      "import time\n",
      "from lxml import html\n",
      "\n",
      "#download = get_download( downloads_id )\n",
      "#raw_content = download[u'raw_content']\n",
      "\n",
      "def extract_with_boilerpipe( raw_content ):\n",
      "    with tempfile.NamedTemporaryFile( suffix='.html', delete=False ) as t:\n",
      "        #print t.name\n",
      "    \n",
      "        UTF8Writer = codecs.getwriter('utf8')\n",
      "        t.file = UTF8Writer(t.file)\n",
      "        t.file.write( raw_content )\n",
      "    \n",
      "        t.close()\n",
      "        #time.sleep( 2 )\n",
      "        print \"original article tmp file \", t.name\n",
      "        \n",
      "        #input_file = '/tmp/416655019.htm'\n",
      "        input_file = t.name\n",
      "        \n",
      "        output_tmp = tempfile.NamedTemporaryFile( suffix='.html', delete=False )\n",
      "        \n",
      "        output_file = output_tmp.name\n",
      "        #output_file = '/tmp/highlighted.html'\n",
      "        print output_file\n",
      "        print subprocess.check_output(['java', '-jar',\n",
      "                               '/home/dlarochelle/dev_scratch/boilerpipe_test/out/artifacts/boilerpipe_test_jar/boilerpipe_test.jar',\n",
      "                               input_file, output_file ] )\n",
      "        f = open( output_file, 'rb' )\n",
      "        \n",
      "        annotated_file_str = f.read()\n",
      "        \n",
      "        #t.unlink( t.name )\n",
      "        output_tmp.close()\n",
      "        #output_tmp.unlink( output_tmp.name )\n",
      "\n",
      "    tree = html.fromstring( annotated_file_str )   \n",
      "    spans = tree.xpath('//span[@class=\"x-boilerpipe-mark1\"]')\n",
      "    boiler_pipe_lines = [ s.text for s in spans ]\n",
      "\n",
      "    return boiler_pipe_lines\n",
      "\n"
     ],
     "language": "python",
     "metadata": {},
     "outputs": [],
     "prompt_number": 6
    },
    {
     "cell_type": "code",
     "collapsed": false,
     "input": [
      "import readability\n",
      "\n",
      "def extract_with_python_readability( raw_content ):\n",
      "    doc = readability.Document( raw_content )\n",
      "    \n",
      "    return [ doc.short_title(),\n",
      "             doc.summary() ]"
     ],
     "language": "python",
     "metadata": {},
     "outputs": [],
     "prompt_number": 7
    },
    {
     "cell_type": "code",
     "collapsed": true,
     "input": [
      "import goose\n",
      "\n",
      "def extract_with_python_goose( raw_content ):\n",
      "    g = goose.Goose()\n",
      "    \n",
      "    r = g.extract( raw_html=raw_content )\n",
      "    return [r.title, r.cleaned_text ]"
     ],
     "language": "python",
     "metadata": {},
     "outputs": [],
     "prompt_number": 8
    },
    {
     "cell_type": "code",
     "collapsed": false,
     "input": [
      "import justext\n",
      "\n",
      "def extract_with_justext( raw_content ):\n",
      "    ret = []\n",
      "    \n",
      "    paragraphs = justext.justext( raw_content, justext.get_stoplist('Portuguese') )\n",
      "    \n",
      "    #p = paragraphs[0]\n",
      "    for p in paragraphs:\n",
      "        if not p.is_boilerplate:\n",
      "            ret.append(p.text)\n",
      "            \n",
      "    return ret\n",
      "\n",
      "#extract_with_justext( raw_content )\n",
      "#raw_html\n",
      "\n",
      "#justext.get_stoplists()"
     ],
     "language": "python",
     "metadata": {},
     "outputs": [],
     "prompt_number": 9
    },
    {
     "cell_type": "code",
     "collapsed": false,
     "input": [
      "import operator\n",
      "\n",
      "def get_extractor_training_text( downloads_id, preprocessed_lines ):\n",
      "    extractor_training_lines_result = requests.get(\n",
      "                                                   'https://api.mediacloud.org/api/v2/extractlines/extractor_training_lines/' + str(downloads_id),\n",
      "                                               headers = {'Content-type': 'application/json'}\n",
      "                                               , params= {'key': api_key}\n",
      "                                               )\n",
      "\n",
      "    extractor_training_lines_result.raise_for_status()\n",
      "\n",
      "    extractor_training_lines_result = extractor_training_lines_result.json()\n",
      "    \n",
      "    line_numbers = [ x['line_number'] for x in extractor_training_lines_result ]\n",
      "    \n",
      "    line_numbers = sorted(line_numbers)\n",
      "    \n",
      "    line_numbers.sort()\n",
      "    \n",
      "    #print line_numbers\n",
      "    \n",
      "    return operator.itemgetter( * line_numbers )( preprocessed_lines  )\n",
      "\n",
      "import operator\n",
      "\n",
      "def get_extracted_text( extractor_results ):\n",
      "    included_line_numbers = extractor_results['included_line_numbers']\n",
      "    #print included_line_numbers\n",
      "    \n",
      "    dl = extractor_results['download_lines']\n",
      "   \n",
      "    if len( included_line_numbers ) == 0:\n",
      "        return []\n",
      "    else:    \n",
      "        return operator.itemgetter( * extractor_results['included_line_numbers']   )(dl)"
     ],
     "language": "python",
     "metadata": {},
     "outputs": [],
     "prompt_number": 10
    },
    {
     "cell_type": "code",
     "collapsed": false,
     "input": [
      "def html_strip( str ):\n",
      "    if str.isspace() or str == '':\n",
      "        return u' '\n",
      "    \n",
      "    if str == '<':\n",
      "        return u' '        \n",
      "    \n",
      "    try:\n",
      "        return html.fromstring(str).text_content()    \n",
      "    except:\n",
      "        print \"Unexpected error on string '\" + str + \"'\" , sys.exc_info()[0]\n",
      "        #raise\n",
      "        return u''       \n",
      "\n",
      "def clean_for_comparison( str ):\n",
      "    if len(str) > 0:\n",
      "        ret = html_strip( str )\n",
      "    else:\n",
      "        return str\n",
      "    \n",
      "    if len(ret) > 0:\n",
      "        ret = ret.strip()\n",
      "    \n",
      "    return ret    "
     ],
     "language": "python",
     "metadata": {},
     "outputs": [],
     "prompt_number": 11
    },
    {
     "cell_type": "code",
     "collapsed": false,
     "input": [
      "import Levenshtein\n",
      "\n",
      "def lines_to_comparable_text( lines ):\n",
      "    text = u\"\\n\\n\".join([ clean_for_comparison(line) for line in lines ])\n",
      "    \n",
      "    if text == '':\n",
      "        text = u''\n",
      "        \n",
      "    return text\n",
      "\n",
      "def compare_accuracy( lines, lines_expected ):\n",
      "    return Levenshtein.distance( lines_to_comparable_text( lines ) , lines_to_comparable_text( lines_expected ) )"
     ],
     "language": "python",
     "metadata": {},
     "outputs": [],
     "prompt_number": 12
    },
    {
     "cell_type": "code",
     "collapsed": false,
     "input": [
      "def get_anncestors( element ):\n",
      "    anncestors = [ element ];\n",
      "    anncestor = element.getparent()\n",
      "    \n",
      "    while anncestor != None :\n",
      "        #print 'loop'\n",
      "        anncestors.append( anncestor )\n",
      "        anncestor = anncestor.getparent()\n",
      "        \n",
      "    return anncestors"
     ],
     "language": "python",
     "metadata": {},
     "outputs": [],
     "prompt_number": 13
    },
    {
     "cell_type": "code",
     "collapsed": false,
     "input": [
      "def text_from_lxml_object( obj):\n",
      "    if type(obj) is etree._ElementStringResult:\n",
      "        return u'' + obj\n",
      "    if type(obj) ==  etree._ElementUnicodeResult:\n",
      "        return u'' + obj \n",
      "    else:\n",
      "        try:\n",
      "            return etree.tostring( obj , method='text', encoding=\"UTF-8\") \n",
      "        except:\n",
      "            print type(obj)\n",
      "            print obj\n",
      "            \n",
      "            raise ''"
     ],
     "language": "python",
     "metadata": {},
     "outputs": [],
     "prompt_number": 14
    },
    {
     "cell_type": "code",
     "collapsed": false,
     "input": [
      "from lxml import etree\n",
      "\n",
      "downloads_id =  582817308 \n",
      "download = get_download( downloads_id )\n",
      "raw_content = download[ 'raw_content' ]\n",
      "with open( '/tmp/' + str(downloads_id) , 'wb' ) as f:\n",
      "    f.write( raw_content )\n"
     ],
     "language": "python",
     "metadata": {},
     "outputs": [],
     "prompt_number": 15
    },
    {
     "cell_type": "code",
     "collapsed": false,
     "input": [
      "from nltk import tokenize\n",
      "\n",
      "def remove_duplicate_sentences( text_lines, story ):\n",
      "    comp_text = lines_to_comparable_text( text_lines )\n",
      "    sentences = [ sent.strip()  for sent in tokenize.sent_tokenize( comp_text ) ]\n",
      "    #print sentences\n",
      "    non_duplicate_sentences = [sentence for sentence in sentences if not sentence_is_duplicate( sentence, story ) ] \n",
      "    return u\"\\n\".join( non_duplicate_sentences )\n",
      " "
     ],
     "language": "python",
     "metadata": {},
     "outputs": [],
     "prompt_number": 16
    },
    {
     "cell_type": "code",
     "collapsed": false,
     "input": [
      "def text_children( element):\n",
      "    ret =  [ t for t in element.xpath(\"//text()\" ) if t.getparent() == element ]\n",
      "    assert len( ret ) <= 2\n",
      "    \n",
      "    if len( ret ) == 2:\n",
      "        assert ret[0].is_text\n",
      "        assert ret[1].is_tail\n",
      "    \n",
      "    for r in ret:\n",
      "        if r.is_text:\n",
      "            assert element.text == r\n",
      "        else:\n",
      "            assert r.is_tail\n",
      "            assert element.tail == r\n",
      "            \n",
      "    return ret"
     ],
     "language": "python",
     "metadata": {},
     "outputs": [],
     "prompt_number": 17
    },
    {
     "cell_type": "code",
     "collapsed": false,
     "input": [
      "def create_extractor_training_object( downloads_id, expected_lines=None ):\n",
      "    download = get_download( downloads_id )\n",
      "    \n",
      "    raw_content = download[u'raw_content']\n",
      "    stories_id = download[u'stories_id']\n",
      "    \n",
      "    #print download['url']\n",
      "    \n",
      "    story = requests.get('https://api.mediacloud.org/api/v2/stories/single/'+str(stories_id)+'?key='+api_key)\n",
      "    \n",
      "    story = story.json()[0]\n",
      "    \n",
      "    story_lines = get_story_lines( raw_content )\n",
      "    #print story_lines.content\n",
      "    preprocessed_lines = story_lines.json()\n",
      "    \n",
      "    if not expected_lines:\n",
      "        expected_lines = get_extractor_training_text( downloads_id, preprocessed_lines  )\n",
      "\n",
      "    ret = { 'downloads_id': downloads_id,\n",
      "           'raw_content': raw_content,\n",
      "           'media_id': story['media_id'],\n",
      "           'story': story,\n",
      "           'preprocessed_lines': preprocessed_lines,\n",
      "           'expected_lines': expected_lines\n",
      "           }\n",
      "    \n",
      "    return ret"
     ],
     "language": "python",
     "metadata": {},
     "outputs": [],
     "prompt_number": 19
    },
    {
     "cell_type": "code",
     "collapsed": false,
     "input": [
      "import difflib\n",
      "from IPython.display import HTML\n",
      "\n",
      "from collections import Counter\n",
      "\n",
      "def ratcliff_obershelp_compare( actual_text, expected_text ):\n",
      "    \n",
      "    words_expected = actual_text.split()\n",
      "    words_crf      = expected_text.split()\n",
      "    \n",
      "    differ = difflib.Differ( )\n",
      "    \n",
      "    #print words_crf[:10]\n",
      "    #print words_expected[:10]\n",
      "    list( differ.compare( words_crf , words_expected ) )\n",
      "    counts = Counter([ d[0] for d in differ.compare( words_expected, words_crf   ) ])\n",
      "    \n",
      "    tp = counts[' ']\n",
      "    fp = counts['+']\n",
      "    fn = counts['-']\n",
      "    \n",
      "    if float(tp+fp) == 0:\n",
      "        precision = 0.0\n",
      "    else:\n",
      "        precision = tp/float(tp+fp)\n",
      "        \n",
      "    if float( tp + fn ) == 0:\n",
      "        recall = 0\n",
      "    else:\n",
      "        recall    = tp/float( tp + fn )\n",
      "    \n",
      "    if ( precision + recall ) > 0:\n",
      "        f1 = 2*(precision*recall)/( precision + recall )\n",
      "    else:\n",
      "        f1 = 0\n",
      "    \n",
      "    ret = { 'precision': precision,\n",
      "        'recall': recall,\n",
      "        'f1': f1\n",
      "    }\n",
      "    \n",
      "    return ret\n",
      "\n",
      "def compare_with_expected( extractor_name, actual_lines, expected_lines, story ):\n",
      "    actual_text = lines_to_comparable_text( actual_lines )\n",
      "    expected_text = lines_to_comparable_text( expected_lines )\n",
      "    ret = {}\n",
      "    ret[ extractor_name ] = ratcliff_obershelp_compare( actual_text, expected_text )\n",
      "    \n",
      "    dedup_text = remove_duplicate_sentences( actual_lines, story )\n",
      "    \n",
      "    ret[ extractor_name + \"_dedup\" ] = ratcliff_obershelp_compare( dedup_text, expected_text )\n",
      "    \n",
      "    return ret"
     ],
     "language": "python",
     "metadata": {},
     "outputs": [],
     "prompt_number": 20
    },
    {
     "cell_type": "code",
     "collapsed": false,
     "input": [
      "def compare_extractors_for_download( downloads_id ):\n",
      "    \n",
      "    eto = create_extractor_training_object( downloads_id )\n",
      "    \n",
      "    return comp_extractors( eto )    \n",
      "    \n",
      "def comp_extractors( eto ):    \n",
      "    downloads_id = eto['downloads_id']\n",
      "    media_id     = eto['media_id' ]\n",
      "    story = eto['story']\n",
      "    raw_content = eto['raw_content']\n",
      "    preprocessed_lines = eto['preprocessed_lines']\n",
      "    expected_lines = eto['expected_lines']\n",
      "        \n",
      "    title = story[u'title']\n",
      "    description = story[u'description']\n",
      "    url = story[u'url']\n",
      "    \n",
      "    heur_extract = extract_story( preprocessed_lines, title, description, 'HeuristicExtractor')\n",
      "    crf_extract = extract_story( preprocessed_lines, title, description, 'CrfExtractor')\n",
      "    \n",
      "    heur_lines = get_extracted_text( heur_extract )\n",
      "    crf_lines  = get_extracted_text( crf_extract )\n",
      "    \n",
      "    python_readability_lines = extract_with_python_readability( raw_content )\n",
      "    \n",
      "    py_goose_lines = extract_with_python_goose( raw_content )\n",
      "    justext_lines  = extract_with_justext( raw_content )\n",
      "    global glob_expected_lines\n",
      "    global glob_python_readability_lines\n",
      "    glob_expected_lines = expected_lines\n",
      "    glob_python_readability_lines = python_readability_lines\n",
      "    \n",
      "    #tree = html.fromstring( extract_with_boilerpipe( raw_content) )   \n",
      "    #spans = tree.xpath('//span[@class=\"x-boilerpipe-mark1\"]')\n",
      "    boiler_pipe_lines = extract_with_boilerpipe( raw_content) \n",
      "    \n",
      "    #[ s.text for s in spans ]\n",
      "\n",
      "    #print \"expected_lines:\"\n",
      "    #print lines_to_comparable_text(expected_lines)\n",
      "    \n",
      "    #print \"boilerpipe lines\"\n",
      "    #print lines_to_comparable_text(boiler_pipe_lines)\n",
      "    \n",
      "    comp_results = {}\n",
      "    \n",
      "    extractors = [\n",
      "     ('heur', heur_lines),\n",
      "     ('crf', crf_lines),\n",
      "     ('boiler_pipe', boiler_pipe_lines),\n",
      "     ('python_readibilty', python_readability_lines),\n",
      "     ('py_goose', py_goose_lines ),\n",
      "     ('justext', justext_lines )\n",
      "     ]\n",
      "    \n",
      "    for extractor in extractors:\n",
      "        comp_results.update (compare_with_expected( extractor[0], extractor[1], expected_lines, story ) )\n",
      "        \n",
      "    #comp_results.update(compare_with_expected( 'crf', crf_lines, expected_lines, story ) )\n",
      "    #comp_results.update( compare_with_expected( 'boiler_pipe', boiler_pipe_lines, expected_lines, story ) )\n",
      "    #comp_results.update( compare_with_expected('python_readibilty', python_readability_lines, expected_lines )\n",
      "    #comp_results['py_goose'] = compare_with_expected( py_goose_lines, expected_lines )\n",
      "    #comp_results['justext']  = compare_with_expected( justext_lines, expected_lines )\n",
      "    \n",
      "    comp_results['downloads_id'] = downloads_id\n",
      "    \n",
      "    comp_results['media_id']  = media_id\n",
      "    \n",
      "    #comp_results['expected']    = compare_accuracy( expected_lines, expected_lines )\n",
      "    return comp_results"
     ],
     "language": "python",
     "metadata": {},
     "outputs": [],
     "prompt_number": 21
    },
    {
     "cell_type": "code",
     "collapsed": false,
     "input": [
      "import sys\n",
      "\n",
      "sys.path.append('../')\n",
      "\n",
      "import mc_config\n",
      "\n",
      "def get_db_info():\n",
      "    config_file = mc_config.read_config()\n",
      "    \n",
      "    db_infos = config_file['database']\n",
      "    db_info = next (db_info for db_info in db_infos if db_info['port'] == '6000' )\n",
      "    return db_info\n",
      "\n",
      "import psycopg2\n",
      "#import solr_reimport\n",
      "import psycopg2.extras\n",
      "\n",
      "db_info = get_db_info()\n",
      "\n",
      "conn = psycopg2.connect( database=db_info['db'], user=db_info['user'], \n",
      "                        password=db_info['pass'], host=db_info['host'], port=db_info['port'] )\n",
      "\n",
      "\n",
      "story_sentence_counts_cache = {}\n",
      "\n",
      "def get_sentence_counts( sentence, story ):\n",
      "\n",
      "    stories_id = story['stories_id']\n",
      "    \n",
      "    if not stories_id in story_sentence_counts_cache:\n",
      "        story_sentence_counts_cache[ stories_id ] = {}\n",
      "        \n",
      "    if sentence in story_sentence_counts_cache[ stories_id ]:\n",
      "        return story_sentence_counts_cache[stories_id ][sentence]\n",
      "        \n",
      "    cursor = conn.cursor(cursor_factory=psycopg2.extras.DictCursor)\n",
      "    query = '''               \n",
      "                   SELECT MIN( story_sentence_counts_id) AS story_sentence_counts_id, sentence_count, first_stories_id,\n",
      "                   sentence_md5\n",
      "            FROM story_sentence_counts\n",
      "            WHERE sentence_md5  = md5(%(sentence)s)\n",
      "              AND media_id = %(media_id)s\n",
      "              AND publish_week =  DATE_TRUNC( 'week', %(publish_date)s::date )\n",
      "            GROUP BY story_sentence_counts_id\n",
      "    '''\n",
      "    \n",
      "    #print sentence\n",
      "    #md5_sum = md5.new( sentence ).hexdigest()\n",
      "    \n",
      "    params = { 'sentence': sentence,\n",
      "                            'media_id': story['media_id'], \n",
      "                            'publish_date': story['publish_date']\n",
      "                            } \n",
      "    \n",
      "    #print params\n",
      "    \n",
      "    #print eto[ 'story'] ['stories_id' ]\n",
      "    cursor.execute( query, params )\n",
      "    \n",
      "    fetched = cursor.fetchall()\n",
      "    \n",
      "    if len( fetched ) == 0:\n",
      "        story_sentence_counts_cache[ stories_id ][sentence] = None\n",
      "    else:\n",
      "        story_sentence_counts_cache[ stories_id ][sentence] = dict(fetched[0])\n",
      "        \n",
      "    return story_sentence_counts_cache[stories_id ][sentence]\n",
      "    \n",
      "def sentence_is_duplicate( sentence, story ):\n",
      "    sentence_counts = get_sentence_counts( sentence, story )\n",
      "    \n",
      "    if sentence_counts != None:\n",
      "        if sentence_counts['sentence_count'] > 1:\n",
      "            #print \"duplicate sentence\", sentence\n",
      "            return True\n",
      "        elif sentence_counts['first_stories_id'] == story['stories_id']:\n",
      "            return True\n",
      "            #print \"duplicate sentence (diff first_stories_id) \", sentence\n",
      "            \n",
      "    else:\n",
      "        return False\n",
      "        pass\n",
      "        #print \"sentence not found \", sentence \n",
      "\n",
      "    "
     ],
     "language": "python",
     "metadata": {},
     "outputs": [],
     "prompt_number": 22
    },
    {
     "cell_type": "code",
     "collapsed": false,
     "input": [
      "def get_extractor_training_objects_legacy ( downloads_ids ):\n",
      "    print downloads_ids\n",
      "    extractor_training_objects = []\n",
      "    for downloads_id in downloads_ids[:]:\n",
      "        print 'downloads_id:', downloads_id\n",
      "        extractor_training_objects.append( create_extractor_training_object( downloads_id ) )\n",
      "        \n",
      "    return extractor_training_objects"
     ],
     "language": "python",
     "metadata": {},
     "outputs": [],
     "prompt_number": 24
    },
    {
     "cell_type": "code",
     "collapsed": false,
     "input": [
      "import sqlite3\n",
      "\n",
      "def get_extractor_training_objects_sqlite( db_file ):\n",
      "    \n",
      "    db = sqlite3.connect( db_file )\n",
      "    db.row_factory = sqlite3.Row\n",
      "    \n",
      "    cursor = db.cursor()\n",
      "    \n",
      "    cursor.execute( \"SELECT * from dlannotations  where selected_texts_json is not null order by downloads_id\" )\n",
      "    \n",
      "    extractor_training_objects = []\n",
      "    \n",
      "    skipped_downloads = 0\n",
      "    for row in list( cursor.fetchall() )[:]:\n",
      "        row =  dict([ (k, row[k]) for k in row.keys() ])\n",
      "        \n",
      "        #print row\n",
      "        \n",
      "        row['annotations'] = json.loads( row['annotations_json'] )\n",
      "        row['raw_content'] = u'' + row['raw_content']\n",
      "        row['selected_texts'] = json.loads( row['selected_texts_json'] )\n",
      "    \n",
      "        annotations = row['annotations']\n",
      "        download = get_download( row['downloads_id'] )\n",
      "    \n",
      "        assert row['selected_texts'] != None\n",
      "        assert row['selected_texts'] > 0\n",
      "        \n",
      "        eto = create_extractor_training_object( row['downloads_id'], expected_lines=row['selected_texts'] )\n",
      "               \n",
      "        if eto['raw_content'] != row['raw_content']:\n",
      "            #TODO figure out why these may differ\n",
      "            pass\n",
      "        \n",
      "            #d = difflib.Differ()\n",
      "            #diff = d.compare(eto['raw_content'].splitlines(1), row['raw_content'].splitlines(1))\n",
      "            #print '\\n'.join(diff)\n",
      "        \n",
      "        extractor_training_objects.append( eto )\n",
      "    \n",
      "    \n",
      "    print \"skipped\", skipped_downloads\n",
      "    print \"processed\", len(extractor_training_objects)\n",
      "    \n",
      "    return extractor_training_objects"
     ],
     "language": "python",
     "metadata": {},
     "outputs": [],
     "prompt_number": 25
    },
    {
     "cell_type": "code",
     "collapsed": false,
     "input": [
      "import pandas as pd\n",
      "\n",
      "def get_data_frame_from_comparision_objects( comparison_objects ):\n",
      "    \n",
      "    new_comps = []\n",
      "    for comp in comparison_objects:\n",
      "        \n",
      "        new_comp = {}\n",
      "        new_comp = { 'downloads_id': comp['downloads_id'] }\n",
      "        \n",
      "        extractor_types = [ k for k in comp.keys() if k not in { 'downloads_id', 'media_id' }  ]\n",
      "        \n",
      "        for extractor_type in extractor_types:\n",
      "            new_comp.update([ ( k + '_' + extractor_type , v) for k,v in comp[ extractor_type ].iteritems() ])\n",
      "            \n",
      "        new_comps.append( new_comp )\n",
      "        \n",
      "    df = pd.DataFrame( new_comps )\n",
      "    df.set_index('downloads_id', inplace=True )\n",
      "    return df\n"
     ],
     "language": "python",
     "metadata": {},
     "outputs": [],
     "prompt_number": 26
    },
    {
     "cell_type": "code",
     "collapsed": false,
     "input": [
      "def print_results_by_measurement_type( df ):\n",
      "    df.describe(percentiles=[.5] )\n",
      "    result_types = [ 'precision', 'recall', 'f1' ]\n",
      "    for result_type in result_types:\n",
      "        res_columns = [ col for col in df.columns if col.startswith( result_type ) ]\n",
      "        #df.ix[:,['f1_boiler_pipe',\t'f1_crf',\t'f1_heur', 'f1_python_readibilty']].describe()\n",
      "        print df.ix[:,res_columns].describe( percentiles=[0.02, 0.05,.1,0.5])"
     ],
     "language": "python",
     "metadata": {},
     "outputs": [],
     "prompt_number": 27
    },
    {
     "cell_type": "heading",
     "level": 1,
     "metadata": {},
     "source": [
      "Flags"
     ]
    },
    {
     "cell_type": "code",
     "collapsed": false,
     "input": [
      "regenerate_extractor_training_objects = False\n",
      "regenerate_media_id_media_map         = False"
     ],
     "language": "python",
     "metadata": {},
     "outputs": [],
     "prompt_number": 28
    },
    {
     "cell_type": "heading",
     "level": 2,
     "metadata": {},
     "source": [
      "Constants"
     ]
    },
    {
     "cell_type": "code",
     "collapsed": false,
     "input": [
      "brazil_downloads_ids = [391881020,401370599,412896439,412952145,412977048,413024519,413657081,413835576,414040102, \n",
      "                        414257623,414377428,414480464,414818749,414983458,415185946,415186582,415197547,415424551,\n",
      "                        415978069,416026460,416026587,416047494,416047513,416210404,416263840,416306952,416426245,\n",
      "                        416655019,416730837,416802690,417347290,417347524,417368539,417389613,417477837,417653177,\n",
      "                        418489742,418544762,418574641,418648698,418661859,419404469,419440474,419483895,419873979,\n",
      "                        420430754,420599387,420666122,421520860,421834553,422181106,422280595,422910963,423318170,\n",
      "                        424080271,424369085,424796346,424840366,425206279,426405203,426560018,426632784,426709900,\n",
      "                        428449440,429607289,430363249,430995428,433457459,435624796,435659593,461175103,461175549,\n",
      "                        461176415,461176844,461177487,461178557,461178590,461179203,461179222,461179441,461179762,\n",
      "                        461179818,461179954,461179956,461180307,461181039,461181597,461186137,461186258,461186833,\n",
      "                        461187188,461187261,461187577,461188549,461189069,461190586,461193383]\n",
      "\n",
      "sqlite_db_file = 'extractor_train_dbs/dev_2014-11-06T10_18_57-0500.db'"
     ],
     "language": "python",
     "metadata": {},
     "outputs": [],
     "prompt_number": 29
    },
    {
     "cell_type": "heading",
     "level": 1,
     "metadata": {},
     "source": [
      "Data Analysis"
     ]
    },
    {
     "cell_type": "heading",
     "level": 2,
     "metadata": {},
     "source": [
      "Load Data"
     ]
    },
    {
     "cell_type": "code",
     "collapsed": false,
     "input": [
      "extractor_training_objects = []\n",
      "if regenerate_extractor_training_objects:\n",
      "    eto_brazil = get_extractor_training_objects_legacy( brazil_downloads_ids )\n",
      "    eto_sqlite = get_extractor_training_objects_sqlite( sqlite_db_file )\n",
      "    extractor_training_objects.extend( eto_brazil  )\n",
      "    extractor_training_objects.extend( eto_sqlite )\n",
      "    cPickle.dump( extractor_training_objects, open(\"extractor_traning_objects.pickle\", \"wb\"))"
     ],
     "language": "python",
     "metadata": {},
     "outputs": [],
     "prompt_number": 30
    },
    {
     "cell_type": "code",
     "collapsed": false,
     "input": [
      "extractor_training_objects = cPickle.load( open( \"extractor_traning_objects.pickle\", \"rb\") )"
     ],
     "language": "python",
     "metadata": {},
     "outputs": [],
     "prompt_number": 31
    },
    {
     "cell_type": "heading",
     "level": 3,
     "metadata": {},
     "source": [
      "Look up Media Tags"
     ]
    },
    {
     "cell_type": "code",
     "collapsed": false,
     "input": [
      "import itertools\n",
      "from collections import Counter\n",
      "\n",
      "mc = mediacloud.api.MediaCloud(api_key)\n",
      "\n",
      "if regenerate_media_id_media_map:\n",
      "    media_id_media_map = {}\n",
      "    \n",
      "    for media_id in list(media_ids)[:]:\n",
      "        media = mc.media( media_id )\n",
      "        media[ 'media_source_tags_ids' ] = set( [ media_source_tag['tags_id'] \n",
      "                                                 for media_source_tag in media['media_source_tags'] ] )\n",
      "        media_id_media_map[ media_id ] = media\n",
      "    \n",
      "    cPickle.dump( media_id_media_map, open(\"media_id_media_map.pickle\", \"wb\"))\n"
     ],
     "language": "python",
     "metadata": {},
     "outputs": [],
     "prompt_number": 33
    },
    {
     "cell_type": "code",
     "collapsed": false,
     "input": [
      "media_id_media_map = cPickle.load( open( \"media_id_media_map.pickle\", \"rb\") )    \n",
      "\n",
      "media_tag_counts = Counter(list ( itertools.chain.from_iterable( media_source['media_source_tags_ids'] for media_source in media_id_media_map.values() )) ) \n",
      "tags_id_to_media_tags_map = {}\n",
      "for media_tag in media_id_media_map.values():\n",
      "    source_tags = media_tag[ 'media_source_tags' ]\n",
      "    for source_tag in source_tags:\n",
      "        tags_id_to_media_tags_map[ source_tag[ 'tags_id' ] ] = source_tag"
     ],
     "language": "python",
     "metadata": {},
     "outputs": [],
     "prompt_number": 34
    },
    {
     "cell_type": "code",
     "collapsed": false,
     "input": [
      "[ (tags_id_to_media_tags_map[tag_id], count) for tag_id, count in media_tag_counts.most_common( 15 ) ]\n"
     ],
     "language": "python",
     "metadata": {},
     "outputs": [
      {
       "metadata": {},
       "output_type": "pyout",
       "prompt_number": 35,
       "text": [
        "[({u'description': None,\n",
        "   u'label': None,\n",
        "   u'show_on_media': 0,\n",
        "   u'show_on_stories': None,\n",
        "   u'tag': u'egypt_composite_dalia_20140425',\n",
        "   u'tag_set': u'collection',\n",
        "   u'tag_sets_id': 5,\n",
        "   u'tags_id': 8878255},\n",
        "  48),\n",
        " ({u'description': None,\n",
        "   u'label': None,\n",
        "   u'show_on_media': 0,\n",
        "   u'show_on_stories': None,\n",
        "   u'tag': u'brazil_20131009',\n",
        "   u'tag_set': u'collection',\n",
        "   u'tag_sets_id': 5,\n",
        "   u'tags_id': 8877968},\n",
        "  46),\n",
        " ({u'description': None,\n",
        "   u'label': None,\n",
        "   u'show_on_media': 0,\n",
        "   u'show_on_stories': None,\n",
        "   u'tag': u'news',\n",
        "   u'tag_set': u'egypt_media_type',\n",
        "   u'tag_sets_id': 986,\n",
        "   u'tags_id': 8878259},\n",
        "  43),\n",
        " ({u'description': u'List of sites related to U.S. politics, created for Yochai Benkler and Aaron Shaw\\'s paper \"A Tale of Two Blogospheres: Discursive Practices on the Left and Right\", published in 2010.\\r\\n',\n",
        "   u'label': u'U.S. Campaigns and Elections 2008',\n",
        "   u'show_on_media': 1,\n",
        "   u'show_on_stories': None,\n",
        "   u'tag': u'campaignsandelections_political_2008',\n",
        "   u'tag_set': u'collection',\n",
        "   u'tag_sets_id': 5,\n",
        "   u'tags_id': 125},\n",
        "  42),\n",
        " ({u'description': u'Large list of regional TC and newspapers sites, collected by Pew in 2010.',\n",
        "   u'label': u'U.S. Regional Mainstream Media',\n",
        "   u'show_on_media': 1,\n",
        "   u'show_on_stories': None,\n",
        "   u'tag': u'pew_knight_study',\n",
        "   u'tag_set': u'collection',\n",
        "   u'tag_sets_id': 5,\n",
        "   u'tags_id': 2453107},\n",
        "  40),\n",
        " ({u'description': u'A site that is a mainstream media outlet, such as The New York Times and The Washington Post; an online-only news outlet, such as Slate, Salon, or the Huffington Post; or a citizen journalism or non-profit news outlet, such as Global Voices or ProPublica',\n",
        "   u'label': u'General News',\n",
        "   u'show_on_media': 1,\n",
        "   u'show_on_stories': None,\n",
        "   u'tag': u'General Online News Media',\n",
        "   u'tag_set': u'media_type',\n",
        "   u'tag_sets_id': 1099,\n",
        "   u'tags_id': 8878416},\n",
        "  37),\n",
        " ({u'description': None,\n",
        "   u'label': None,\n",
        "   u'show_on_media': 0,\n",
        "   u'show_on_stories': None,\n",
        "   u'tag': u'media outlet',\n",
        "   u'tag_set': u'portuguese_media_type',\n",
        "   u'tag_sets_id': 783,\n",
        "   u'tags_id': 8877969},\n",
        "  37),\n",
        " ({u'description': None,\n",
        "   u'label': None,\n",
        "   u'show_on_media': 0,\n",
        "   u'show_on_stories': None,\n",
        "   u'tag': u'largemetroarea',\n",
        "   u'tag_set': u'pkgeog-type',\n",
        "   u'tag_sets_id': 16,\n",
        "   u'tags_id': 2496423},\n",
        "  31),\n",
        " ({u'description': None,\n",
        "   u'label': None,\n",
        "   u'show_on_media': 0,\n",
        "   u'show_on_stories': None,\n",
        "   u'tag': u'alternative',\n",
        "   u'tag_set': u'egypt_valence',\n",
        "   u'tag_sets_id': 987,\n",
        "   u'tags_id': 8878263},\n",
        "  22),\n",
        " ({u'description': u\"Top U.S. mainstream media according Google Ad Planner's measure of unique monthly users.\",\n",
        "   u'label': u'U.S. Mainstream Media',\n",
        "   u'show_on_media': 1,\n",
        "   u'show_on_stories': None,\n",
        "   u'tag': u'ap_english_us_top25_20100110',\n",
        "   u'tag_set': u'collection',\n",
        "   u'tag_sets_id': 5,\n",
        "   u'tags_id': 8875027},\n",
        "  20),\n",
        " ({u'description': None,\n",
        "   u'label': None,\n",
        "   u'show_on_media': 0,\n",
        "   u'show_on_stories': None,\n",
        "   u'tag': u'spidered',\n",
        "   u'tag_set': u'spidered',\n",
        "   u'tag_sets_id': 183,\n",
        "   u'tags_id': 8875452},\n",
        "  20),\n",
        " ({u'description': None,\n",
        "   u'label': None,\n",
        "   u'show_on_media': 0,\n",
        "   u'show_on_stories': None,\n",
        "   u'tag': u'dallas_ftworth',\n",
        "   u'tag_set': u'pklocation',\n",
        "   u'tag_sets_id': 15,\n",
        "   u'tags_id': 2497397},\n",
        "  17),\n",
        " ({u'description': None,\n",
        "   u'label': None,\n",
        "   u'show_on_media': 0,\n",
        "   u'show_on_stories': None,\n",
        "   u'tag': u'general_news',\n",
        "   u'tag_set': u'emm_subject',\n",
        "   u'tag_sets_id': 555,\n",
        "   u'tags_id': 8876476},\n",
        "  16),\n",
        " ({u'description': u'List of sites generated by clustering and manually sites discussion the 2012 U.S. presidential election.  This set includes only sources coded as clearly liberal.',\n",
        "   u'label': u'U.S. Partisan Sources 2012 - Liberal',\n",
        "   u'show_on_media': 1,\n",
        "   u'show_on_stories': None,\n",
        "   u'tag': u'partisan_2012_liberal',\n",
        "   u'tag_set': u'collection',\n",
        "   u'tag_sets_id': 5,\n",
        "   u'tags_id': 8878293},\n",
        "  16),\n",
        " ({u'description': None,\n",
        "   u'label': None,\n",
        "   u'show_on_media': 0,\n",
        "   u'show_on_stories': None,\n",
        "   u'tag': u'regional and local media',\n",
        "   u'tag_set': u'portuguese_topic',\n",
        "   u'tag_sets_id': 784,\n",
        "   u'tags_id': 8877973},\n",
        "  16)]"
       ]
      }
     ],
     "prompt_number": 35
    },
    {
     "cell_type": "heading",
     "level": 2,
     "metadata": {},
     "source": [
      "Run extractors"
     ]
    },
    {
     "cell_type": "code",
     "collapsed": false,
     "input": [
      "comps_downloads = []\n",
      "processed = 0\n",
      "skipped = 0\n",
      "for extractor_training_object in extractor_training_objects[:]:\n",
      "    print 'processed ', processed\n",
      "    print 'skipped ', skipped\n",
      "    print extractor_training_object[ 'downloads_id']\n",
      "    try:\n",
      "        res = comp_extractors( extractor_training_object )\n",
      "        #print res\n",
      "        comps_downloads.append( res )\n",
      "        processed += 1\n",
      "    except:\n",
      "        print \"error on download{}\".format( extractor_training_object[ 'downloads_id'] )\n",
      "        skipped += 1\n",
      "\n",
      "#extractor_training_objects\n",
      "    "
     ],
     "language": "python",
     "metadata": {},
     "outputs": [
      {
       "output_type": "stream",
       "stream": "stdout",
       "text": [
        "processed  0\n",
        "skipped  0\n",
        "391881020\n",
        "original article tmp file "
       ]
      },
      {
       "output_type": "stream",
       "stream": "stdout",
       "text": [
        " /tmp/tmpfvYNqq.html\n",
        "/tmp/tmpxtIlnR.html\n",
        "/tmp/tmpfvYNqq.html\n",
        "/tmp/tmpfvYNqq.html\n",
        "Now open file:///tmp/tmpxtIlnR.html in your web browser\n"
       ]
      },
      {
       "output_type": "stream",
       "stream": "stdout",
       "text": [
        "\n",
        "processed "
       ]
      },
      {
       "output_type": "stream",
       "stream": "stdout",
       "text": [
        " 1\n",
        "skipped  0\n",
        "401370599\n",
        "original article tmp file "
       ]
      },
      {
       "output_type": "stream",
       "stream": "stdout",
       "text": [
        " /tmp/tmpci3hiR.html\n",
        "/tmp/tmp31pMGU.html\n",
        "/tmp/tmpci3hiR.html\n",
        "/tmp/tmpci3hiR.html\n",
        "Now open file:///tmp/tmp31pMGU.html in your web browser\n"
       ]
      },
      {
       "output_type": "stream",
       "stream": "stdout",
       "text": [
        "\n",
        "processed  2\n",
        "skipped  0\n",
        "412896439\n",
        "original article tmp file "
       ]
      },
      {
       "output_type": "stream",
       "stream": "stdout",
       "text": [
        " /tmp/tmpiVWyWD.html\n",
        "/tmp/tmpyBVGu5.html\n",
        "/tmp/tmpiVWyWD.html\n",
        "/tmp/tmpiVWyWD.html\n",
        "Now open file:///tmp/tmpyBVGu5.html in your web browser\n"
       ]
      },
      {
       "output_type": "stream",
       "stream": "stdout",
       "text": [
        "\n",
        "processed "
       ]
      },
      {
       "output_type": "stream",
       "stream": "stdout",
       "text": [
        " 3\n",
        "skipped  0\n",
        "412952145\n",
        "original article tmp file "
       ]
      },
      {
       "output_type": "stream",
       "stream": "stdout",
       "text": [
        " /tmp/tmpU7jFaW.html\n",
        "/tmp/tmpRGT2CL.html\n",
        "error on download412952145"
       ]
      },
      {
       "output_type": "stream",
       "stream": "stdout",
       "text": [
        "\n",
        "processed  3\n",
        "skipped  1\n",
        "412977048\n",
        "original article tmp file "
       ]
      },
      {
       "output_type": "stream",
       "stream": "stdout",
       "text": [
        " /tmp/tmpCXjwSf.html\n",
        "/tmp/tmpCpWLi3.html\n",
        "/tmp/tmpCXjwSf.html\n",
        "/tmp/tmpCXjwSf.html\n",
        "Now open file:///tmp/tmpCpWLi3.html in your web browser\n"
       ]
      },
      {
       "output_type": "stream",
       "stream": "stdout",
       "text": [
        "\n",
        "processed  4\n",
        "skipped  1\n",
        "413024519\n",
        "original article tmp file "
       ]
      },
      {
       "output_type": "stream",
       "stream": "stdout",
       "text": [
        " /tmp/tmpWBr1ZE.html\n",
        "/tmp/tmpZt8koX.html\n",
        "/tmp/tmpWBr1ZE.html\n",
        "/tmp/tmpWBr1ZE.html\n",
        "Now open file:///tmp/tmpZt8koX.html in your web browser\n"
       ]
      },
      {
       "output_type": "stream",
       "stream": "stdout",
       "text": [
        "\n",
        "processed "
       ]
      },
      {
       "output_type": "stream",
       "stream": "stdout",
       "text": [
        " 5\n",
        "skipped  1\n",
        "413657081\n",
        "original article tmp file "
       ]
      },
      {
       "output_type": "stream",
       "stream": "stdout",
       "text": [
        " /tmp/tmpldmNiM.html\n",
        "/tmp/tmps_Avpc.html\n",
        "/tmp/tmpldmNiM.html\n",
        "/tmp/tmpldmNiM.html\n",
        "Now open file:///tmp/tmps_Avpc.html in your web browser\n"
       ]
      },
      {
       "output_type": "stream",
       "stream": "stdout",
       "text": [
        "\n",
        "processed "
       ]
      },
      {
       "output_type": "stream",
       "stream": "stdout",
       "text": [
        " 6\n",
        "skipped  1\n",
        "413835576\n",
        "original article tmp file "
       ]
      },
      {
       "output_type": "stream",
       "stream": "stdout",
       "text": [
        " /tmp/tmpZILoDc.html\n",
        "/tmp/tmpernET5.html\n",
        "/tmp/tmpZILoDc.html\n",
        "/tmp/tmpZILoDc.html\n",
        "Now open file:///tmp/tmpernET5.html in your web browser\n"
       ]
      },
      {
       "output_type": "stream",
       "stream": "stdout",
       "text": [
        "\n",
        "processed "
       ]
      },
      {
       "output_type": "stream",
       "stream": "stdout",
       "text": [
        " 7\n",
        "skipped  1\n",
        "414040102\n",
        "original article tmp file "
       ]
      },
      {
       "output_type": "stream",
       "stream": "stdout",
       "text": [
        " /tmp/tmplrmRgV.html\n",
        "/tmp/tmpvOCxp0.html\n",
        "/tmp/tmplrmRgV.html\n",
        "/tmp/tmplrmRgV.html\n",
        "Now open file:///tmp/tmpvOCxp0.html in your web browser\n"
       ]
      },
      {
       "output_type": "stream",
       "stream": "stdout",
       "text": [
        "\n",
        "processed "
       ]
      },
      {
       "output_type": "stream",
       "stream": "stdout",
       "text": [
        " 8\n",
        "skipped  1\n",
        "414257623\n",
        "original article tmp file "
       ]
      },
      {
       "output_type": "stream",
       "stream": "stdout",
       "text": [
        " /tmp/tmpbA0YZm.html\n",
        "/tmp/tmpGRYgJh.html\n",
        "/tmp/tmpbA0YZm.html\n",
        "/tmp/tmpbA0YZm.html\n",
        "Now open file:///tmp/tmpGRYgJh.html in your web browser\n"
       ]
      },
      {
       "output_type": "stream",
       "stream": "stdout",
       "text": [
        "\n",
        "processed  9\n",
        "skipped  1\n",
        "414377428\n",
        "original article tmp file "
       ]
      },
      {
       "output_type": "stream",
       "stream": "stdout",
       "text": [
        " /tmp/tmpj3IKcL.html\n",
        "/tmp/tmpOB_dhq.html\n",
        "/tmp/tmpj3IKcL.html\n",
        "/tmp/tmpj3IKcL.html\n",
        "Now open file:///tmp/tmpOB_dhq.html in your web browser\n"
       ]
      },
      {
       "output_type": "stream",
       "stream": "stdout",
       "text": [
        "\n",
        "processed "
       ]
      },
      {
       "output_type": "stream",
       "stream": "stdout",
       "text": [
        " 10\n",
        "skipped  1\n",
        "414480464\n",
        "original article tmp file "
       ]
      },
      {
       "output_type": "stream",
       "stream": "stdout",
       "text": [
        " /tmp/tmpahOe3T.html\n",
        "/tmp/tmpEOfJw2.html\n",
        "/tmp/tmpahOe3T.html\n",
        "/tmp/tmpahOe3T.html\n",
        "Now open file:///tmp/tmpEOfJw2.html in your web browser\n"
       ]
      },
      {
       "output_type": "stream",
       "stream": "stdout",
       "text": [
        "\n",
        "processed "
       ]
      },
      {
       "output_type": "stream",
       "stream": "stdout",
       "text": [
        " 11\n",
        "skipped  1\n",
        "414818749\n",
        "original article tmp file "
       ]
      },
      {
       "output_type": "stream",
       "stream": "stdout",
       "text": [
        " /tmp/tmp7TLygR.html\n",
        "/tmp/tmpby1vdO.html\n",
        "/tmp/tmp7TLygR.html\n",
        "/tmp/tmp7TLygR.html\n",
        "Now open file:///tmp/tmpby1vdO.html in your web browser\n"
       ]
      },
      {
       "output_type": "stream",
       "stream": "stdout",
       "text": [
        "\n",
        "processed "
       ]
      },
      {
       "output_type": "stream",
       "stream": "stdout",
       "text": [
        " 12\n",
        "skipped  1\n",
        "414983458\n",
        "original article tmp file "
       ]
      },
      {
       "output_type": "stream",
       "stream": "stdout",
       "text": [
        " /tmp/tmpoH5FLB.html\n",
        "/tmp/tmpTSdeGk.html\n",
        "/tmp/tmpoH5FLB.html\n",
        "/tmp/tmpoH5FLB.html\n",
        "Now open file:///tmp/tmpTSdeGk.html in your web browser\n"
       ]
      },
      {
       "output_type": "stream",
       "stream": "stdout",
       "text": [
        "\n",
        "processed "
       ]
      },
      {
       "output_type": "stream",
       "stream": "stdout",
       "text": [
        " 13\n",
        "skipped  1\n",
        "415185946\n",
        "original article tmp file "
       ]
      },
      {
       "output_type": "stream",
       "stream": "stdout",
       "text": [
        " /tmp/tmpY10WvJ.html\n",
        "/tmp/tmpydqBSt.html\n",
        "/tmp/tmpY10WvJ.html\n",
        "/tmp/tmpY10WvJ.html\n",
        "Now open file:///tmp/tmpydqBSt.html in your web browser\n"
       ]
      },
      {
       "output_type": "stream",
       "stream": "stdout",
       "text": [
        "\n",
        "processed  14\n",
        "skipped  1\n",
        "415186582\n",
        "original article tmp file "
       ]
      },
      {
       "output_type": "stream",
       "stream": "stdout",
       "text": [
        " /tmp/tmpLFifOC.html\n",
        "/tmp/tmpjh3ZJj.html\n",
        "/tmp/tmpLFifOC.html\n",
        "/tmp/tmpLFifOC.html\n",
        "Now open file:///tmp/tmpjh3ZJj.html in your web browser\n"
       ]
      },
      {
       "output_type": "stream",
       "stream": "stdout",
       "text": [
        "\n",
        "processed  15\n",
        "skipped  1\n",
        "415197547\n",
        "original article tmp file "
       ]
      },
      {
       "output_type": "stream",
       "stream": "stdout",
       "text": [
        " /tmp/tmpovrpt7.html\n",
        "/tmp/tmpzyPGpM.html\n",
        "/tmp/tmpovrpt7.html\n",
        "/tmp/tmpovrpt7.html\n",
        "Now open file:///tmp/tmpzyPGpM.html in your web browser\n"
       ]
      },
      {
       "output_type": "stream",
       "stream": "stdout",
       "text": [
        "\n",
        "processed  16\n",
        "skipped  1\n",
        "415424551\n",
        "original article tmp file "
       ]
      },
      {
       "output_type": "stream",
       "stream": "stdout",
       "text": [
        " /tmp/tmpbGW6RP.html\n",
        "/tmp/tmp5SWkXG.html\n",
        "/tmp/tmpbGW6RP.html\n",
        "/tmp/tmpbGW6RP.html\n",
        "Now open file:///tmp/tmp5SWkXG.html in your web browser\n"
       ]
      },
      {
       "output_type": "stream",
       "stream": "stdout",
       "text": [
        "\n",
        "processed "
       ]
      },
      {
       "output_type": "stream",
       "stream": "stdout",
       "text": [
        " 17\n",
        "skipped  1\n",
        "415978069\n",
        "original article tmp file "
       ]
      },
      {
       "output_type": "stream",
       "stream": "stdout",
       "text": [
        " /tmp/tmpcJ5bub.html\n",
        "/tmp/tmpObJuUv.html\n",
        "/tmp/tmpcJ5bub.html\n",
        "/tmp/tmpcJ5bub.html\n",
        "Now open file:///tmp/tmpObJuUv.html in your web browser\n"
       ]
      },
      {
       "output_type": "stream",
       "stream": "stdout",
       "text": [
        "\n",
        "processed "
       ]
      },
      {
       "output_type": "stream",
       "stream": "stdout",
       "text": [
        " 18\n",
        "skipped  1\n",
        "416026460\n",
        "original article tmp file "
       ]
      },
      {
       "output_type": "stream",
       "stream": "stdout",
       "text": [
        " /tmp/tmp40RZTW.html\n",
        "/tmp/tmpsSZ22t.html\n",
        "/tmp/tmp40RZTW.html\n",
        "/tmp/tmp40RZTW.html\n",
        "Now open file:///tmp/tmpsSZ22t.html in your web browser\n"
       ]
      },
      {
       "output_type": "stream",
       "stream": "stdout",
       "text": [
        "\n",
        "processed "
       ]
      },
      {
       "output_type": "stream",
       "stream": "stdout",
       "text": [
        " 19\n",
        "skipped  1\n",
        "416026587\n",
        "original article tmp file "
       ]
      },
      {
       "output_type": "stream",
       "stream": "stdout",
       "text": [
        " /tmp/tmpbTlYF5.html\n",
        "/tmp/tmplH01l0.html\n",
        "/tmp/tmpbTlYF5.html\n",
        "/tmp/tmpbTlYF5.html\n",
        "Now open file:///tmp/tmplH01l0.html in your web browser\n"
       ]
      },
      {
       "output_type": "stream",
       "stream": "stdout",
       "text": [
        "\n",
        "processed "
       ]
      },
      {
       "output_type": "stream",
       "stream": "stdout",
       "text": [
        " 20\n",
        "skipped  1\n",
        "416047494\n",
        "original article tmp file "
       ]
      },
      {
       "output_type": "stream",
       "stream": "stdout",
       "text": [
        " /tmp/tmpQUL7yL.html\n",
        "/tmp/tmpKEepCN.html\n",
        "/tmp/tmpQUL7yL.html\n",
        "/tmp/tmpQUL7yL.html\n",
        "Now open file:///tmp/tmpKEepCN.html in your web browser\n"
       ]
      },
      {
       "output_type": "stream",
       "stream": "stdout",
       "text": [
        "\n",
        "processed "
       ]
      },
      {
       "output_type": "stream",
       "stream": "stdout",
       "text": [
        " 21\n",
        "skipped  1\n",
        "416047513\n",
        "original article tmp file "
       ]
      },
      {
       "output_type": "stream",
       "stream": "stdout",
       "text": [
        " /tmp/tmpxGbnm1.html\n",
        "/tmp/tmpGdGON0.html\n",
        "/tmp/tmpxGbnm1.html\n",
        "/tmp/tmpxGbnm1.html\n",
        "Now open file:///tmp/tmpGdGON0.html in your web browser\n"
       ]
      },
      {
       "output_type": "stream",
       "stream": "stdout",
       "text": [
        "\n",
        "processed "
       ]
      },
      {
       "output_type": "stream",
       "stream": "stdout",
       "text": [
        " 22\n",
        "skipped  1\n",
        "416210404\n",
        "original article tmp file "
       ]
      },
      {
       "output_type": "stream",
       "stream": "stdout",
       "text": [
        " /tmp/tmpgdSTLu.html\n",
        "/tmp/tmpLn4ACY.html\n",
        "/tmp/tmpgdSTLu.html\n",
        "/tmp/tmpgdSTLu.html\n",
        "Now open file:///tmp/tmpLn4ACY.html in your web browser\n"
       ]
      },
      {
       "output_type": "stream",
       "stream": "stdout",
       "text": [
        "\n",
        "processed "
       ]
      },
      {
       "output_type": "stream",
       "stream": "stdout",
       "text": [
        " 23\n",
        "skipped  1\n",
        "416263840\n",
        "original article tmp file "
       ]
      },
      {
       "output_type": "stream",
       "stream": "stdout",
       "text": [
        " /tmp/tmpRapynm.html\n",
        "/tmp/tmptTVSOq.html\n",
        "/tmp/tmpRapynm.html\n",
        "/tmp/tmpRapynm.html\n",
        "Now open file:///tmp/tmptTVSOq.html in your web browser\n"
       ]
      },
      {
       "output_type": "stream",
       "stream": "stdout",
       "text": [
        "\n",
        "processed "
       ]
      },
      {
       "output_type": "stream",
       "stream": "stdout",
       "text": [
        " 24\n",
        "skipped  1\n",
        "416306952\n",
        "original article tmp file "
       ]
      },
      {
       "output_type": "stream",
       "stream": "stdout",
       "text": [
        " /tmp/tmpBcl8xs.html\n",
        "/tmp/tmpfh9LRz.html\n",
        "/tmp/tmpBcl8xs.html\n",
        "/tmp/tmpBcl8xs.html\n",
        "Now open file:///tmp/tmpfh9LRz.html in your web browser\n"
       ]
      },
      {
       "output_type": "stream",
       "stream": "stdout",
       "text": [
        "\n",
        "processed "
       ]
      },
      {
       "output_type": "stream",
       "stream": "stdout",
       "text": [
        " 25\n",
        "skipped  1\n",
        "416426245\n",
        "original article tmp file "
       ]
      },
      {
       "output_type": "stream",
       "stream": "stdout",
       "text": [
        " /tmp/tmp4u9CRP.html\n",
        "/tmp/tmptnrm0L.html\n",
        "/tmp/tmp4u9CRP.html\n",
        "/tmp/tmp4u9CRP.html\n",
        "Now open file:///tmp/tmptnrm0L.html in your web browser\n"
       ]
      },
      {
       "output_type": "stream",
       "stream": "stdout",
       "text": [
        "\n",
        "processed "
       ]
      },
      {
       "output_type": "stream",
       "stream": "stdout",
       "text": [
        " 26\n",
        "skipped  1\n",
        "416655019\n",
        "original article tmp file "
       ]
      },
      {
       "output_type": "stream",
       "stream": "stdout",
       "text": [
        " /tmp/tmp942Y9L.html\n",
        "/tmp/tmpHmoUPy.html\n",
        "/tmp/tmp942Y9L.html\n",
        "/tmp/tmp942Y9L.html\n",
        "Now open file:///tmp/tmpHmoUPy.html in your web browser\n"
       ]
      },
      {
       "output_type": "stream",
       "stream": "stdout",
       "text": [
        "\n",
        "processed "
       ]
      },
      {
       "output_type": "stream",
       "stream": "stdout",
       "text": [
        " 27\n",
        "skipped  1\n",
        "416730837\n",
        "original article tmp file "
       ]
      },
      {
       "output_type": "stream",
       "stream": "stdout",
       "text": [
        " /tmp/tmpdgEDhK.html\n",
        "/tmp/tmpml7wMc.html\n",
        "/tmp/tmpdgEDhK.html\n",
        "/tmp/tmpdgEDhK.html\n",
        "Now open file:///tmp/tmpml7wMc.html in your web browser\n"
       ]
      },
      {
       "output_type": "stream",
       "stream": "stdout",
       "text": [
        "\n",
        "processed "
       ]
      },
      {
       "output_type": "stream",
       "stream": "stdout",
       "text": [
        " 28\n",
        "skipped  1\n",
        "416802690\n",
        "original article tmp file "
       ]
      },
      {
       "output_type": "stream",
       "stream": "stdout",
       "text": [
        " /tmp/tmpCO62CL.html\n",
        "/tmp/tmpcveqQH.html\n",
        "/tmp/tmpCO62CL.html\n",
        "/tmp/tmpCO62CL.html\n",
        "Now open file:///tmp/tmpcveqQH.html in your web browser\n"
       ]
      },
      {
       "output_type": "stream",
       "stream": "stdout",
       "text": [
        "\n",
        "processed "
       ]
      },
      {
       "output_type": "stream",
       "stream": "stdout",
       "text": [
        " 29\n",
        "skipped  1\n",
        "417347290\n",
        "error on download417347290"
       ]
      },
      {
       "output_type": "stream",
       "stream": "stdout",
       "text": [
        "\n",
        "processed  29\n",
        "skipped  2\n",
        "417347524\n",
        "original article tmp file "
       ]
      },
      {
       "output_type": "stream",
       "stream": "stdout",
       "text": [
        " /tmp/tmpeSTtSr.html\n",
        "/tmp/tmpsHThMh.html\n",
        "/tmp/tmpeSTtSr.html\n",
        "/tmp/tmpeSTtSr.html\n",
        "Now open file:///tmp/tmpsHThMh.html in your web browser\n"
       ]
      },
      {
       "output_type": "stream",
       "stream": "stdout",
       "text": [
        "\n",
        "processed "
       ]
      },
      {
       "output_type": "stream",
       "stream": "stdout",
       "text": [
        " 30\n",
        "skipped  2\n",
        "417368539\n",
        "error on download417368539"
       ]
      },
      {
       "output_type": "stream",
       "stream": "stdout",
       "text": [
        "\n",
        "processed  30\n",
        "skipped  3\n",
        "417389613\n",
        "error on download417389613"
       ]
      },
      {
       "output_type": "stream",
       "stream": "stdout",
       "text": [
        "\n",
        "processed  30\n",
        "skipped  4\n",
        "417477837\n",
        "original article tmp file "
       ]
      },
      {
       "output_type": "stream",
       "stream": "stdout",
       "text": [
        " /tmp/tmpnB55gy.html\n",
        "/tmp/tmpuokPQY.html\n",
        "/tmp/tmpnB55gy.html\n",
        "/tmp/tmpnB55gy.html\n",
        "Now open file:///tmp/tmpuokPQY.html in your web browser\n"
       ]
      },
      {
       "output_type": "stream",
       "stream": "stdout",
       "text": [
        "\n",
        "processed "
       ]
      },
      {
       "output_type": "stream",
       "stream": "stdout",
       "text": [
        " 31\n",
        "skipped  4\n",
        "417653177\n",
        "original article tmp file "
       ]
      },
      {
       "output_type": "stream",
       "stream": "stdout",
       "text": [
        " /tmp/tmp_p8LiD.html\n",
        "/tmp/tmptjY2ll.html\n",
        "/tmp/tmp_p8LiD.html\n",
        "/tmp/tmp_p8LiD.html\n",
        "Now open file:///tmp/tmptjY2ll.html in your web browser\n"
       ]
      },
      {
       "output_type": "stream",
       "stream": "stdout",
       "text": [
        "\n",
        "Unexpected error on string '</center>'"
       ]
      },
      {
       "output_type": "stream",
       "stream": "stdout",
       "text": [
        " <class 'lxml.etree.ParserError'>\n",
        "Unexpected error on string '</center>' <class 'lxml.etree.ParserError'>\n",
        "processed "
       ]
      },
      {
       "output_type": "stream",
       "stream": "stdout",
       "text": [
        " 32\n",
        "skipped  4\n",
        "418489742\n",
        "original article tmp file "
       ]
      },
      {
       "output_type": "stream",
       "stream": "stdout",
       "text": [
        " /tmp/tmp0X1u_O.html\n",
        "/tmp/tmpLDA0_y.html\n",
        "/tmp/tmp0X1u_O.html\n",
        "/tmp/tmp0X1u_O.html\n",
        "Now open file:///tmp/tmpLDA0_y.html in your web browser\n"
       ]
      },
      {
       "output_type": "stream",
       "stream": "stdout",
       "text": [
        "\n",
        "processed "
       ]
      },
      {
       "output_type": "stream",
       "stream": "stdout",
       "text": [
        " 33\n",
        "skipped  4\n",
        "418544762\n",
        "original article tmp file "
       ]
      },
      {
       "output_type": "stream",
       "stream": "stdout",
       "text": [
        " /tmp/tmp65AdR8.html\n",
        "/tmp/tmpZA39he.html\n",
        "/tmp/tmp65AdR8.html\n",
        "/tmp/tmp65AdR8.html\n",
        "Now open file:///tmp/tmpZA39he.html in your web browser\n"
       ]
      },
      {
       "output_type": "stream",
       "stream": "stdout",
       "text": [
        "\n",
        "processed "
       ]
      },
      {
       "output_type": "stream",
       "stream": "stdout",
       "text": [
        " 34\n",
        "skipped  4\n",
        "418574641\n",
        "original article tmp file "
       ]
      },
      {
       "output_type": "stream",
       "stream": "stdout",
       "text": [
        " /tmp/tmpn_vaBD.html\n",
        "/tmp/tmplThQII.html\n",
        "/tmp/tmpn_vaBD.html\n",
        "/tmp/tmpn_vaBD.html\n",
        "Now open file:///tmp/tmplThQII.html in your web browser\n"
       ]
      },
      {
       "output_type": "stream",
       "stream": "stdout",
       "text": [
        "\n",
        "processed "
       ]
      },
      {
       "output_type": "stream",
       "stream": "stdout",
       "text": [
        " 35\n",
        "skipped  4\n",
        "418648698\n",
        "original article tmp file "
       ]
      },
      {
       "output_type": "stream",
       "stream": "stdout",
       "text": [
        " /tmp/tmpsfq1I1.html\n",
        "/tmp/tmp1Kw9P8.html\n",
        "/tmp/tmpsfq1I1.html\n",
        "/tmp/tmpsfq1I1.html\n",
        "Now open file:///tmp/tmp1Kw9P8.html in your web browser\n"
       ]
      },
      {
       "output_type": "stream",
       "stream": "stdout",
       "text": [
        "\n",
        "processed "
       ]
      },
      {
       "output_type": "stream",
       "stream": "stdout",
       "text": [
        " 36\n",
        "skipped  4\n",
        "418661859\n",
        "original article tmp file "
       ]
      },
      {
       "output_type": "stream",
       "stream": "stdout",
       "text": [
        " /tmp/tmpYeDiNz.html\n",
        "/tmp/tmpaoGKnI.html\n",
        "/tmp/tmpYeDiNz.html\n",
        "/tmp/tmpYeDiNz.html\n",
        "Now open file:///tmp/tmpaoGKnI.html in your web browser\n"
       ]
      },
      {
       "output_type": "stream",
       "stream": "stdout",
       "text": [
        "\n",
        "processed "
       ]
      },
      {
       "output_type": "stream",
       "stream": "stdout",
       "text": [
        " 37\n",
        "skipped  4\n",
        "419404469\n",
        "original article tmp file "
       ]
      },
      {
       "output_type": "stream",
       "stream": "stdout",
       "text": [
        " /tmp/tmp9S7V73.html\n",
        "/tmp/tmp3E4i8I.html\n",
        "/tmp/tmp9S7V73.html\n",
        "/tmp/tmp9S7V73.html\n",
        "Now open file:///tmp/tmp3E4i8I.html in your web browser\n"
       ]
      },
      {
       "output_type": "stream",
       "stream": "stdout",
       "text": [
        "\n",
        "processed "
       ]
      },
      {
       "output_type": "stream",
       "stream": "stdout",
       "text": [
        " 38\n",
        "skipped  4\n",
        "419440474\n",
        "original article tmp file "
       ]
      },
      {
       "output_type": "stream",
       "stream": "stdout",
       "text": [
        " /tmp/tmp8JCbPI.html\n",
        "/tmp/tmpGmJi5J.html\n",
        "/tmp/tmp8JCbPI.html\n",
        "/tmp/tmp8JCbPI.html\n",
        "Now open file:///tmp/tmpGmJi5J.html in your web browser\n"
       ]
      },
      {
       "output_type": "stream",
       "stream": "stdout",
       "text": [
        "\n",
        "processed "
       ]
      },
      {
       "output_type": "stream",
       "stream": "stdout",
       "text": [
        " 39\n",
        "skipped  4\n",
        "419483895\n",
        "original article tmp file "
       ]
      },
      {
       "output_type": "stream",
       "stream": "stdout",
       "text": [
        " /tmp/tmpScT_8h.html\n",
        "/tmp/tmp81Y4Nx.html\n",
        "/tmp/tmpScT_8h.html\n",
        "/tmp/tmpScT_8h.html\n",
        "Now open file:///tmp/tmp81Y4Nx.html in your web browser\n"
       ]
      },
      {
       "output_type": "stream",
       "stream": "stdout",
       "text": [
        "\n",
        "processed "
       ]
      },
      {
       "output_type": "stream",
       "stream": "stdout",
       "text": [
        " 40\n",
        "skipped  4\n",
        "419873979\n",
        "original article tmp file "
       ]
      },
      {
       "output_type": "stream",
       "stream": "stdout",
       "text": [
        " /tmp/tmpctfgEY.html\n",
        "/tmp/tmpygE1wn.html\n",
        "/tmp/tmpctfgEY.html\n",
        "/tmp/tmpctfgEY.html\n",
        "Now open file:///tmp/tmpygE1wn.html in your web browser\n"
       ]
      },
      {
       "output_type": "stream",
       "stream": "stdout",
       "text": [
        "\n",
        "processed "
       ]
      },
      {
       "output_type": "stream",
       "stream": "stdout",
       "text": [
        " 41\n",
        "skipped  4\n",
        "420430754\n",
        "original article tmp file "
       ]
      },
      {
       "output_type": "stream",
       "stream": "stdout",
       "text": [
        " /tmp/tmpRZTkVc.html\n",
        "/tmp/tmpSQiJdt.html\n",
        "/tmp/tmpRZTkVc.html\n",
        "/tmp/tmpRZTkVc.html\n",
        "Now open file:///tmp/tmpSQiJdt.html in your web browser\n"
       ]
      },
      {
       "output_type": "stream",
       "stream": "stdout",
       "text": [
        "\n",
        "processed "
       ]
      },
      {
       "output_type": "stream",
       "stream": "stdout",
       "text": [
        " 42\n",
        "skipped  4\n",
        "420599387\n",
        "original article tmp file "
       ]
      },
      {
       "output_type": "stream",
       "stream": "stdout",
       "text": [
        " /tmp/tmpGksl9Y.html\n",
        "/tmp/tmpYVxRJM.html\n",
        "/tmp/tmpGksl9Y.html\n",
        "/tmp/tmpGksl9Y.html\n",
        "Now open file:///tmp/tmpYVxRJM.html in your web browser\n"
       ]
      },
      {
       "output_type": "stream",
       "stream": "stdout",
       "text": [
        "\n",
        "processed "
       ]
      },
      {
       "output_type": "stream",
       "stream": "stdout",
       "text": [
        " 43\n",
        "skipped  4\n",
        "420666122\n",
        "original article tmp file "
       ]
      },
      {
       "output_type": "stream",
       "stream": "stdout",
       "text": [
        " /tmp/tmpXaaYwG.html\n",
        "/tmp/tmptUIXRn.html\n",
        "/tmp/tmpXaaYwG.html\n",
        "/tmp/tmpXaaYwG.html\n",
        "Now open file:///tmp/tmptUIXRn.html in your web browser\n"
       ]
      },
      {
       "output_type": "stream",
       "stream": "stdout",
       "text": [
        "\n",
        "processed "
       ]
      },
      {
       "output_type": "stream",
       "stream": "stdout",
       "text": [
        " 44\n",
        "skipped  4\n",
        "421520860\n",
        "error on download421520860"
       ]
      },
      {
       "output_type": "stream",
       "stream": "stdout",
       "text": [
        "\n",
        "processed  44\n",
        "skipped  5\n",
        "421834553\n",
        "original article tmp file "
       ]
      },
      {
       "output_type": "stream",
       "stream": "stdout",
       "text": [
        " /tmp/tmpC125RU.html\n",
        "/tmp/tmpuiofYD.html\n",
        "/tmp/tmpC125RU.html\n",
        "/tmp/tmpC125RU.html\n",
        "Now open file:///tmp/tmpuiofYD.html in your web browser\n"
       ]
      },
      {
       "output_type": "stream",
       "stream": "stdout",
       "text": [
        "\n",
        "processed "
       ]
      },
      {
       "output_type": "stream",
       "stream": "stdout",
       "text": [
        " 45\n",
        "skipped  5\n",
        "422181106\n",
        "original article tmp file "
       ]
      },
      {
       "output_type": "stream",
       "stream": "stdout",
       "text": [
        " /tmp/tmpLcTuay.html\n",
        "/tmp/tmp1sVHfM.html\n",
        "/tmp/tmpLcTuay.html\n",
        "/tmp/tmpLcTuay.html\n",
        "Now open file:///tmp/tmp1sVHfM.html in your web browser\n"
       ]
      },
      {
       "output_type": "stream",
       "stream": "stdout",
       "text": [
        "\n",
        "processed "
       ]
      },
      {
       "output_type": "stream",
       "stream": "stdout",
       "text": [
        " 46\n",
        "skipped  5\n",
        "422280595\n",
        "original article tmp file "
       ]
      },
      {
       "output_type": "stream",
       "stream": "stdout",
       "text": [
        " /tmp/tmpP_mSIj.html\n",
        "/tmp/tmp_H8ZuB.html\n",
        "/tmp/tmpP_mSIj.html\n",
        "/tmp/tmpP_mSIj.html\n",
        "Now open file:///tmp/tmp_H8ZuB.html in your web browser\n"
       ]
      },
      {
       "output_type": "stream",
       "stream": "stdout",
       "text": [
        "\n",
        "processed "
       ]
      },
      {
       "output_type": "stream",
       "stream": "stdout",
       "text": [
        " 47\n",
        "skipped  5\n",
        "422910963\n",
        "original article tmp file "
       ]
      },
      {
       "output_type": "stream",
       "stream": "stdout",
       "text": [
        " /tmp/tmpiqAKrw.html\n",
        "/tmp/tmpXI24YB.html\n",
        "/tmp/tmpiqAKrw.html\n",
        "/tmp/tmpiqAKrw.html\n",
        "Now open file:///tmp/tmpXI24YB.html in your web browser\n"
       ]
      },
      {
       "output_type": "stream",
       "stream": "stdout",
       "text": [
        "\n",
        "processed "
       ]
      },
      {
       "output_type": "stream",
       "stream": "stdout",
       "text": [
        " 48\n",
        "skipped  5\n",
        "423318170\n",
        "original article tmp file "
       ]
      },
      {
       "output_type": "stream",
       "stream": "stdout",
       "text": [
        " /tmp/tmpVg_MBD.html\n",
        "/tmp/tmpseorlM.html\n",
        "/tmp/tmpVg_MBD.html\n",
        "/tmp/tmpVg_MBD.html\n",
        "Now open file:///tmp/tmpseorlM.html in your web browser\n"
       ]
      },
      {
       "output_type": "stream",
       "stream": "stdout",
       "text": [
        "\n",
        "processed "
       ]
      },
      {
       "output_type": "stream",
       "stream": "stdout",
       "text": [
        " 49\n",
        "skipped  5\n",
        "424080271\n",
        "original article tmp file "
       ]
      },
      {
       "output_type": "stream",
       "stream": "stdout",
       "text": [
        " /tmp/tmpx2EOUY.html\n",
        "/tmp/tmpaRSslr.html\n",
        "/tmp/tmpx2EOUY.html\n",
        "/tmp/tmpx2EOUY.html\n",
        "Now open file:///tmp/tmpaRSslr.html in your web browser\n"
       ]
      },
      {
       "output_type": "stream",
       "stream": "stdout",
       "text": [
        "\n",
        "processed "
       ]
      },
      {
       "output_type": "stream",
       "stream": "stdout",
       "text": [
        " 50\n",
        "skipped  5\n",
        "424369085\n",
        "original article tmp file "
       ]
      },
      {
       "output_type": "stream",
       "stream": "stdout",
       "text": [
        " /tmp/tmpaSirZC.html\n",
        "/tmp/tmpMgeF8b.html\n",
        "/tmp/tmpaSirZC.html\n",
        "/tmp/tmpaSirZC.html\n",
        "Now open file:///tmp/tmpMgeF8b.html in your web browser\n"
       ]
      },
      {
       "output_type": "stream",
       "stream": "stdout",
       "text": [
        "\n",
        "processed "
       ]
      },
      {
       "output_type": "stream",
       "stream": "stdout",
       "text": [
        " 51\n",
        "skipped  5\n",
        "424796346\n",
        "original article tmp file "
       ]
      },
      {
       "output_type": "stream",
       "stream": "stdout",
       "text": [
        " /tmp/tmp9qa3Bz.html\n",
        "/tmp/tmpzGtNMk.html\n",
        "/tmp/tmp9qa3Bz.html\n",
        "/tmp/tmp9qa3Bz.html\n",
        "Now open file:///tmp/tmpzGtNMk.html in your web browser\n"
       ]
      },
      {
       "output_type": "stream",
       "stream": "stdout",
       "text": [
        "\n",
        "processed "
       ]
      },
      {
       "output_type": "stream",
       "stream": "stdout",
       "text": [
        " 52\n",
        "skipped  5\n",
        "424840366\n",
        "original article tmp file "
       ]
      },
      {
       "output_type": "stream",
       "stream": "stdout",
       "text": [
        " /tmp/tmpKDQesc.html\n",
        "/tmp/tmp_xRdKJ.html\n",
        "/tmp/tmpKDQesc.html\n",
        "/tmp/tmpKDQesc.html\n",
        "Now open file:///tmp/tmp_xRdKJ.html in your web browser\n"
       ]
      },
      {
       "output_type": "stream",
       "stream": "stdout",
       "text": [
        "\n",
        "processed "
       ]
      },
      {
       "output_type": "stream",
       "stream": "stdout",
       "text": [
        " 53\n",
        "skipped  5\n",
        "425206279\n",
        "original article tmp file "
       ]
      },
      {
       "output_type": "stream",
       "stream": "stdout",
       "text": [
        " /tmp/tmpbRInSo.html\n",
        "/tmp/tmpRmIDBE.html\n",
        "/tmp/tmpbRInSo.html\n",
        "/tmp/tmpbRInSo.html\n",
        "Now open file:///tmp/tmpRmIDBE.html in your web browser\n"
       ]
      },
      {
       "output_type": "stream",
       "stream": "stdout",
       "text": [
        "\n",
        "processed "
       ]
      },
      {
       "output_type": "stream",
       "stream": "stdout",
       "text": [
        " 54\n",
        "skipped  5\n",
        "426405203\n",
        "original article tmp file "
       ]
      },
      {
       "output_type": "stream",
       "stream": "stdout",
       "text": [
        " /tmp/tmph3spio.html\n",
        "/tmp/tmp2E_3if.html\n",
        "/tmp/tmph3spio.html\n",
        "/tmp/tmph3spio.html\n",
        "Now open file:///tmp/tmp2E_3if.html in your web browser\n"
       ]
      },
      {
       "output_type": "stream",
       "stream": "stdout",
       "text": [
        "\n",
        "processed "
       ]
      },
      {
       "output_type": "stream",
       "stream": "stdout",
       "text": [
        " 55\n",
        "skipped  5\n",
        "426560018\n",
        "error on download426560018"
       ]
      },
      {
       "output_type": "stream",
       "stream": "stdout",
       "text": [
        "\n",
        "processed  55\n",
        "skipped  6\n",
        "426632784\n",
        "original article tmp file "
       ]
      },
      {
       "output_type": "stream",
       "stream": "stdout",
       "text": [
        " /tmp/tmpu_XOCv.html\n",
        "/tmp/tmpZ6UOhq.html\n",
        "/tmp/tmpu_XOCv.html\n",
        "/tmp/tmpu_XOCv.html\n",
        "Now open file:///tmp/tmpZ6UOhq.html in your web browser\n"
       ]
      },
      {
       "output_type": "stream",
       "stream": "stdout",
       "text": [
        "\n",
        "processed "
       ]
      },
      {
       "output_type": "stream",
       "stream": "stdout",
       "text": [
        " 56\n",
        "skipped  6\n",
        "426709900\n",
        "original article tmp file "
       ]
      },
      {
       "output_type": "stream",
       "stream": "stdout",
       "text": [
        " /tmp/tmpcYrUrv.html\n",
        "/tmp/tmprxckU6.html\n",
        "/tmp/tmpcYrUrv.html\n",
        "/tmp/tmpcYrUrv.html\n",
        "Now open file:///tmp/tmprxckU6.html in your web browser\n"
       ]
      },
      {
       "output_type": "stream",
       "stream": "stdout",
       "text": [
        "\n",
        "processed "
       ]
      },
      {
       "output_type": "stream",
       "stream": "stdout",
       "text": [
        " 57\n",
        "skipped  6\n",
        "428449440\n",
        "original article tmp file "
       ]
      },
      {
       "output_type": "stream",
       "stream": "stdout",
       "text": [
        " /tmp/tmphKgI7n.html\n",
        "/tmp/tmpUSyCSJ.html\n",
        "/tmp/tmphKgI7n.html\n",
        "/tmp/tmphKgI7n.html\n",
        "Now open file:///tmp/tmpUSyCSJ.html in your web browser\n"
       ]
      },
      {
       "output_type": "stream",
       "stream": "stdout",
       "text": [
        "\n",
        "processed "
       ]
      },
      {
       "output_type": "stream",
       "stream": "stdout",
       "text": [
        " 58\n",
        "skipped  6\n",
        "429607289\n",
        "original article tmp file "
       ]
      },
      {
       "output_type": "stream",
       "stream": "stdout",
       "text": [
        " /tmp/tmpMlrpTN.html\n",
        "/tmp/tmpcNxVf2.html\n",
        "/tmp/tmpMlrpTN.html\n",
        "/tmp/tmpMlrpTN.html\n",
        "Now open file:///tmp/tmpcNxVf2.html in your web browser\n"
       ]
      },
      {
       "output_type": "stream",
       "stream": "stdout",
       "text": [
        "\n",
        "processed "
       ]
      },
      {
       "output_type": "stream",
       "stream": "stdout",
       "text": [
        " 59\n",
        "skipped  6\n",
        "430363249\n",
        "original article tmp file "
       ]
      },
      {
       "output_type": "stream",
       "stream": "stdout",
       "text": [
        " /tmp/tmpCM_LWm.html\n",
        "/tmp/tmpcDIX2O.html\n",
        "/tmp/tmpCM_LWm.html\n",
        "/tmp/tmpCM_LWm.html\n",
        "Now open file:///tmp/tmpcDIX2O.html in your web browser\n"
       ]
      },
      {
       "output_type": "stream",
       "stream": "stdout",
       "text": [
        "\n",
        "processed "
       ]
      },
      {
       "output_type": "stream",
       "stream": "stdout",
       "text": [
        " 60\n",
        "skipped  6\n",
        "430995428\n",
        "original article tmp file "
       ]
      },
      {
       "output_type": "stream",
       "stream": "stdout",
       "text": [
        " /tmp/tmpCawEsK.html\n",
        "/tmp/tmp1Hytin.html\n",
        "/tmp/tmpCawEsK.html\n",
        "/tmp/tmpCawEsK.html\n",
        "Now open file:///tmp/tmp1Hytin.html in your web browser\n"
       ]
      },
      {
       "output_type": "stream",
       "stream": "stdout",
       "text": [
        "\n",
        "processed "
       ]
      },
      {
       "output_type": "stream",
       "stream": "stdout",
       "text": [
        " 61\n",
        "skipped  6\n",
        "433457459\n",
        "original article tmp file "
       ]
      },
      {
       "output_type": "stream",
       "stream": "stdout",
       "text": [
        " /tmp/tmpCgMdLm.html\n",
        "/tmp/tmpRJ70Tg.html\n",
        "/tmp/tmpCgMdLm.html\n",
        "/tmp/tmpCgMdLm.html\n",
        "Now open file:///tmp/tmpRJ70Tg.html in your web browser\n"
       ]
      },
      {
       "output_type": "stream",
       "stream": "stdout",
       "text": [
        "\n",
        "processed "
       ]
      },
      {
       "output_type": "stream",
       "stream": "stdout",
       "text": [
        " 62\n",
        "skipped  6\n",
        "435624796\n",
        "original article tmp file "
       ]
      },
      {
       "output_type": "stream",
       "stream": "stdout",
       "text": [
        " /tmp/tmpPgwPXc.html\n",
        "/tmp/tmp5m1w2F.html\n",
        "/tmp/tmpPgwPXc.html\n",
        "/tmp/tmpPgwPXc.html\n",
        "Now open file:///tmp/tmp5m1w2F.html in your web browser\n"
       ]
      },
      {
       "output_type": "stream",
       "stream": "stdout",
       "text": [
        "\n",
        "processed "
       ]
      },
      {
       "output_type": "stream",
       "stream": "stdout",
       "text": [
        " 63\n",
        "skipped  6\n",
        "435659593\n",
        "original article tmp file "
       ]
      },
      {
       "output_type": "stream",
       "stream": "stdout",
       "text": [
        " /tmp/tmpy4Oczs.html\n",
        "/tmp/tmpflyvGp.html\n",
        "/tmp/tmpy4Oczs.html\n",
        "/tmp/tmpy4Oczs.html\n",
        "Now open file:///tmp/tmpflyvGp.html in your web browser\n"
       ]
      },
      {
       "output_type": "stream",
       "stream": "stdout",
       "text": [
        "\n",
        "processed "
       ]
      },
      {
       "output_type": "stream",
       "stream": "stdout",
       "text": [
        " 64\n",
        "skipped  6\n",
        "461175103\n",
        "original article tmp file "
       ]
      },
      {
       "output_type": "stream",
       "stream": "stdout",
       "text": [
        " /tmp/tmp1DCNkv.html\n",
        "/tmp/tmphfTfuI.html\n",
        "/tmp/tmp1DCNkv.html\n",
        "/tmp/tmp1DCNkv.html\n",
        "Now open file:///tmp/tmphfTfuI.html in your web browser\n"
       ]
      },
      {
       "output_type": "stream",
       "stream": "stdout",
       "text": [
        "\n",
        "processed "
       ]
      },
      {
       "output_type": "stream",
       "stream": "stdout",
       "text": [
        " 65\n",
        "skipped  6\n",
        "461175549\n",
        "original article tmp file "
       ]
      },
      {
       "output_type": "stream",
       "stream": "stdout",
       "text": [
        " /tmp/tmpnqPsBY.html\n",
        "/tmp/tmpLbVPDu.html\n",
        "/tmp/tmpnqPsBY.html\n",
        "/tmp/tmpnqPsBY.html\n",
        "Now open file:///tmp/tmpLbVPDu.html in your web browser\n"
       ]
      },
      {
       "output_type": "stream",
       "stream": "stdout",
       "text": [
        "\n",
        "processed "
       ]
      },
      {
       "output_type": "stream",
       "stream": "stdout",
       "text": [
        " 66\n",
        "skipped  6\n",
        "461176415\n",
        "error on download461176415"
       ]
      },
      {
       "output_type": "stream",
       "stream": "stdout",
       "text": [
        "\n",
        "processed  66\n",
        "skipped  7\n",
        "461176844\n",
        "original article tmp file "
       ]
      },
      {
       "output_type": "stream",
       "stream": "stdout",
       "text": [
        " /tmp/tmp2J8Yq_.html\n",
        "/tmp/tmpSBitXu.html\n",
        "/tmp/tmp2J8Yq_.html\n",
        "/tmp/tmp2J8Yq_.html\n",
        "Now open file:///tmp/tmpSBitXu.html in your web browser\n"
       ]
      },
      {
       "output_type": "stream",
       "stream": "stdout",
       "text": [
        "\n",
        "processed "
       ]
      },
      {
       "output_type": "stream",
       "stream": "stdout",
       "text": [
        " 67\n",
        "skipped  7\n",
        "461177487\n",
        "original article tmp file "
       ]
      },
      {
       "output_type": "stream",
       "stream": "stdout",
       "text": [
        " /tmp/tmp8pL6Gb.html\n",
        "/tmp/tmp3_M7ph.html\n",
        "/tmp/tmp8pL6Gb.html\n",
        "/tmp/tmp8pL6Gb.html\n",
        "Now open file:///tmp/tmp3_M7ph.html in your web browser\n"
       ]
      },
      {
       "output_type": "stream",
       "stream": "stdout",
       "text": [
        "\n",
        "processed "
       ]
      },
      {
       "output_type": "stream",
       "stream": "stdout",
       "text": [
        " 68\n",
        "skipped  7\n",
        "461178557\n",
        "original article tmp file "
       ]
      },
      {
       "output_type": "stream",
       "stream": "stdout",
       "text": [
        " /tmp/tmpBg2D25.html\n",
        "/tmp/tmphk0lOK.html\n",
        "/tmp/tmpBg2D25.html\n",
        "/tmp/tmpBg2D25.html\n",
        "Now open file:///tmp/tmphk0lOK.html in your web browser\n"
       ]
      },
      {
       "output_type": "stream",
       "stream": "stdout",
       "text": [
        "\n",
        "processed  69\n",
        "skipped  7\n",
        "461178590\n",
        "original article tmp file "
       ]
      },
      {
       "output_type": "stream",
       "stream": "stdout",
       "text": [
        " /tmp/tmp0uuwGh.html\n",
        "/tmp/tmpWDEzBg.html\n",
        "/tmp/tmp0uuwGh.html\n",
        "/tmp/tmp0uuwGh.html\n",
        "Now open file:///tmp/tmpWDEzBg.html in your web browser\n"
       ]
      },
      {
       "output_type": "stream",
       "stream": "stdout",
       "text": [
        "\n",
        "processed "
       ]
      },
      {
       "output_type": "stream",
       "stream": "stdout",
       "text": [
        " 70\n",
        "skipped  7\n",
        "461179203\n",
        "original article tmp file "
       ]
      },
      {
       "output_type": "stream",
       "stream": "stdout",
       "text": [
        " /tmp/tmpxYBQol.html\n",
        "/tmp/tmprIlKRs.html\n",
        "/tmp/tmpxYBQol.html\n",
        "/tmp/tmpxYBQol.html\n",
        "Now open file:///tmp/tmprIlKRs.html in your web browser\n"
       ]
      },
      {
       "output_type": "stream",
       "stream": "stdout",
       "text": [
        "\n",
        "processed "
       ]
      },
      {
       "output_type": "stream",
       "stream": "stdout",
       "text": [
        " 71\n",
        "skipped  7\n",
        "461179222\n",
        "original article tmp file "
       ]
      },
      {
       "output_type": "stream",
       "stream": "stdout",
       "text": [
        " /tmp/tmp52NDkZ.html\n",
        "/tmp/tmp2Ss5rK.html\n",
        "/tmp/tmp52NDkZ.html\n",
        "/tmp/tmp52NDkZ.html\n",
        "Now open file:///tmp/tmp2Ss5rK.html in your web browser\n"
       ]
      },
      {
       "output_type": "stream",
       "stream": "stdout",
       "text": [
        "\n",
        "processed "
       ]
      },
      {
       "output_type": "stream",
       "stream": "stdout",
       "text": [
        " 72\n",
        "skipped  7\n",
        "461179441\n",
        "original article tmp file "
       ]
      },
      {
       "output_type": "stream",
       "stream": "stdout",
       "text": [
        " /tmp/tmpfwLNYz.html\n",
        "/tmp/tmpwuXZVA.html\n",
        "/tmp/tmpfwLNYz.html\n",
        "/tmp/tmpfwLNYz.html\n",
        "Now open file:///tmp/tmpwuXZVA.html in your web browser\n"
       ]
      },
      {
       "output_type": "stream",
       "stream": "stdout",
       "text": [
        "\n",
        "processed "
       ]
      },
      {
       "output_type": "stream",
       "stream": "stdout",
       "text": [
        " 73\n",
        "skipped  7\n",
        "461179762\n",
        "original article tmp file "
       ]
      },
      {
       "output_type": "stream",
       "stream": "stdout",
       "text": [
        " /tmp/tmp6PlsvW.html\n",
        "/tmp/tmpv6Tvz4.html\n",
        "/tmp/tmp6PlsvW.html\n",
        "/tmp/tmp6PlsvW.html\n",
        "Now open file:///tmp/tmpv6Tvz4.html in your web browser\n"
       ]
      },
      {
       "output_type": "stream",
       "stream": "stdout",
       "text": [
        "\n",
        "processed "
       ]
      },
      {
       "output_type": "stream",
       "stream": "stdout",
       "text": [
        " 74\n",
        "skipped  7\n",
        "461179818\n",
        "original article tmp file "
       ]
      },
      {
       "output_type": "stream",
       "stream": "stdout",
       "text": [
        " /tmp/tmpamQ7Wp.html\n",
        "/tmp/tmpliHTQ3.html\n",
        "/tmp/tmpamQ7Wp.html\n",
        "/tmp/tmpamQ7Wp.html\n",
        "Now open file:///tmp/tmpliHTQ3.html in your web browser\n"
       ]
      },
      {
       "output_type": "stream",
       "stream": "stdout",
       "text": [
        "\n",
        "processed "
       ]
      },
      {
       "output_type": "stream",
       "stream": "stdout",
       "text": [
        " 75\n",
        "skipped  7\n",
        "461179954\n",
        "original article tmp file "
       ]
      },
      {
       "output_type": "stream",
       "stream": "stdout",
       "text": [
        " /tmp/tmpGWnnTD.html\n",
        "/tmp/tmpfDndo8.html\n",
        "/tmp/tmpGWnnTD.html\n",
        "/tmp/tmpGWnnTD.html\n",
        "Now open file:///tmp/tmpfDndo8.html in your web browser\n"
       ]
      },
      {
       "output_type": "stream",
       "stream": "stdout",
       "text": [
        "\n",
        "processed "
       ]
      },
      {
       "output_type": "stream",
       "stream": "stdout",
       "text": [
        " 76\n",
        "skipped  7\n",
        "461179956\n",
        "original article tmp file "
       ]
      },
      {
       "output_type": "stream",
       "stream": "stdout",
       "text": [
        " /tmp/tmpkjm4Vo.html\n",
        "/tmp/tmpMV8bhU.html\n",
        "/tmp/tmpkjm4Vo.html\n",
        "/tmp/tmpkjm4Vo.html\n",
        "Now open file:///tmp/tmpMV8bhU.html in your web browser\n"
       ]
      },
      {
       "output_type": "stream",
       "stream": "stdout",
       "text": [
        "\n",
        "processed "
       ]
      },
      {
       "output_type": "stream",
       "stream": "stdout",
       "text": [
        " 77\n",
        "skipped  7\n",
        "461180307\n",
        "original article tmp file "
       ]
      },
      {
       "output_type": "stream",
       "stream": "stdout",
       "text": [
        " /tmp/tmpPZCGpM.html\n",
        "/tmp/tmpuYf8l8.html\n",
        "/tmp/tmpPZCGpM.html\n",
        "/tmp/tmpPZCGpM.html\n",
        "Now open file:///tmp/tmpuYf8l8.html in your web browser\n"
       ]
      },
      {
       "output_type": "stream",
       "stream": "stdout",
       "text": [
        "\n",
        "processed "
       ]
      },
      {
       "output_type": "stream",
       "stream": "stdout",
       "text": [
        " 78\n",
        "skipped  7\n",
        "461181039\n",
        "original article tmp file "
       ]
      },
      {
       "output_type": "stream",
       "stream": "stdout",
       "text": [
        " /tmp/tmpphpWXs.html\n",
        "/tmp/tmpm8B1Gq.html\n",
        "/tmp/tmpphpWXs.html\n",
        "/tmp/tmpphpWXs.html\n",
        "Now open file:///tmp/tmpm8B1Gq.html in your web browser\n"
       ]
      },
      {
       "output_type": "stream",
       "stream": "stdout",
       "text": [
        "\n",
        "processed "
       ]
      },
      {
       "output_type": "stream",
       "stream": "stdout",
       "text": [
        " 79\n",
        "skipped  7\n",
        "461181597\n",
        "original article tmp file "
       ]
      },
      {
       "output_type": "stream",
       "stream": "stdout",
       "text": [
        " /tmp/tmpyFg35w.html\n",
        "/tmp/tmpc1GD9E.html\n",
        "/tmp/tmpyFg35w.html\n",
        "/tmp/tmpyFg35w.html\n",
        "Now open file:///tmp/tmpc1GD9E.html in your web browser\n"
       ]
      },
      {
       "output_type": "stream",
       "stream": "stdout",
       "text": [
        "\n",
        "processed "
       ]
      },
      {
       "output_type": "stream",
       "stream": "stdout",
       "text": [
        " 80\n",
        "skipped  7\n",
        "461186137\n",
        "original article tmp file "
       ]
      },
      {
       "output_type": "stream",
       "stream": "stdout",
       "text": [
        " /tmp/tmpcra2cE.html\n",
        "/tmp/tmpMAOH89.html\n",
        "/tmp/tmpcra2cE.html\n",
        "/tmp/tmpcra2cE.html\n",
        "Now open file:///tmp/tmpMAOH89.html in your web browser\n"
       ]
      },
      {
       "output_type": "stream",
       "stream": "stdout",
       "text": [
        "\n",
        "processed "
       ]
      },
      {
       "output_type": "stream",
       "stream": "stdout",
       "text": [
        " 81\n",
        "skipped  7\n",
        "461186258\n",
        "original article tmp file "
       ]
      },
      {
       "output_type": "stream",
       "stream": "stdout",
       "text": [
        " /tmp/tmpL0XMdF.html\n",
        "/tmp/tmpxLT9RV.html\n",
        "/tmp/tmpL0XMdF.html\n",
        "/tmp/tmpL0XMdF.html\n",
        "Now open file:///tmp/tmpxLT9RV.html in your web browser\n"
       ]
      },
      {
       "output_type": "stream",
       "stream": "stdout",
       "text": [
        "\n",
        "processed "
       ]
      },
      {
       "output_type": "stream",
       "stream": "stdout",
       "text": [
        " 82\n",
        "skipped  7\n",
        "461186833\n",
        "original article tmp file "
       ]
      },
      {
       "output_type": "stream",
       "stream": "stdout",
       "text": [
        " /tmp/tmpl9ecDW.html\n",
        "/tmp/tmpfIWhbr.html\n",
        "/tmp/tmpl9ecDW.html\n",
        "/tmp/tmpl9ecDW.html\n",
        "Now open file:///tmp/tmpfIWhbr.html in your web browser\n"
       ]
      },
      {
       "output_type": "stream",
       "stream": "stdout",
       "text": [
        "\n",
        "processed "
       ]
      },
      {
       "output_type": "stream",
       "stream": "stdout",
       "text": [
        " 83\n",
        "skipped  7\n",
        "461187188\n",
        "original article tmp file "
       ]
      },
      {
       "output_type": "stream",
       "stream": "stdout",
       "text": [
        " /tmp/tmpd_mS1E.html\n",
        "/tmp/tmp3oYVGM.html\n",
        "/tmp/tmpd_mS1E.html\n",
        "/tmp/tmpd_mS1E.html\n",
        "Now open file:///tmp/tmp3oYVGM.html in your web browser\n"
       ]
      },
      {
       "output_type": "stream",
       "stream": "stdout",
       "text": [
        "\n",
        "processed "
       ]
      },
      {
       "output_type": "stream",
       "stream": "stdout",
       "text": [
        " 84\n",
        "skipped  7\n",
        "461187261\n",
        "original article tmp file "
       ]
      },
      {
       "output_type": "stream",
       "stream": "stdout",
       "text": [
        " /tmp/tmpODrV76.html\n",
        "/tmp/tmpfOiXfZ.html\n",
        "/tmp/tmpODrV76.html\n",
        "/tmp/tmpODrV76.html\n",
        "Now open file:///tmp/tmpfOiXfZ.html in your web browser\n"
       ]
      },
      {
       "output_type": "stream",
       "stream": "stdout",
       "text": [
        "\n",
        "processed "
       ]
      },
      {
       "output_type": "stream",
       "stream": "stdout",
       "text": [
        " 85\n",
        "skipped  7\n",
        "461187577\n",
        "original article tmp file "
       ]
      },
      {
       "output_type": "stream",
       "stream": "stdout",
       "text": [
        " /tmp/tmpBq3Mwb.html\n",
        "/tmp/tmp_goxfk.html\n",
        "/tmp/tmpBq3Mwb.html\n",
        "/tmp/tmpBq3Mwb.html\n",
        "Now open file:///tmp/tmp_goxfk.html in your web browser\n"
       ]
      },
      {
       "output_type": "stream",
       "stream": "stdout",
       "text": [
        "\n",
        "processed "
       ]
      },
      {
       "output_type": "stream",
       "stream": "stdout",
       "text": [
        " 86\n",
        "skipped  7\n",
        "461188549\n",
        "original article tmp file "
       ]
      },
      {
       "output_type": "stream",
       "stream": "stdout",
       "text": [
        " /tmp/tmpdV5TM8.html\n",
        "/tmp/tmpCCwqjM.html\n",
        "/tmp/tmpdV5TM8.html\n",
        "/tmp/tmpdV5TM8.html\n",
        "Now open file:///tmp/tmpCCwqjM.html in your web browser\n"
       ]
      },
      {
       "output_type": "stream",
       "stream": "stdout",
       "text": [
        "\n",
        "processed "
       ]
      },
      {
       "output_type": "stream",
       "stream": "stdout",
       "text": [
        " 87\n",
        "skipped  7\n",
        "461189069\n",
        "original article tmp file "
       ]
      },
      {
       "output_type": "stream",
       "stream": "stdout",
       "text": [
        " /tmp/tmpHh20VX.html\n",
        "/tmp/tmpHZPohS.html\n",
        "/tmp/tmpHh20VX.html\n",
        "/tmp/tmpHh20VX.html\n",
        "Now open file:///tmp/tmpHZPohS.html in your web browser\n"
       ]
      },
      {
       "output_type": "stream",
       "stream": "stdout",
       "text": [
        "\n",
        "processed "
       ]
      },
      {
       "output_type": "stream",
       "stream": "stdout",
       "text": [
        " 88\n",
        "skipped  7\n",
        "461190586\n",
        "original article tmp file "
       ]
      },
      {
       "output_type": "stream",
       "stream": "stdout",
       "text": [
        " /tmp/tmp_Z7uYG.html\n",
        "/tmp/tmpSCQBTf.html\n",
        "/tmp/tmp_Z7uYG.html\n",
        "/tmp/tmp_Z7uYG.html\n",
        "Now open file:///tmp/tmpSCQBTf.html in your web browser\n"
       ]
      },
      {
       "output_type": "stream",
       "stream": "stdout",
       "text": [
        "\n",
        "processed "
       ]
      },
      {
       "output_type": "stream",
       "stream": "stdout",
       "text": [
        " 89\n",
        "skipped  7\n",
        "461193383\n",
        "original article tmp file "
       ]
      },
      {
       "output_type": "stream",
       "stream": "stdout",
       "text": [
        " /tmp/tmphsaDy3.html\n",
        "/tmp/tmpBtrejh.html\n",
        "/tmp/tmphsaDy3.html\n",
        "/tmp/tmphsaDy3.html\n",
        "Now open file:///tmp/tmpBtrejh.html in your web browser\n"
       ]
      },
      {
       "output_type": "stream",
       "stream": "stdout",
       "text": [
        "\n",
        "processed "
       ]
      },
      {
       "output_type": "stream",
       "stream": "stdout",
       "text": [
        " 90\n",
        "skipped  7\n",
        "406397565\n",
        "original article tmp file "
       ]
      },
      {
       "output_type": "stream",
       "stream": "stdout",
       "text": [
        " /tmp/tmpVI2bUX.html\n",
        "/tmp/tmpv9ECrv.html\n",
        "/tmp/tmpVI2bUX.html\n",
        "/tmp/tmpVI2bUX.html\n",
        "Now open file:///tmp/tmpv9ECrv.html in your web browser\n"
       ]
      },
      {
       "output_type": "stream",
       "stream": "stdout",
       "text": [
        "\n",
        "processed "
       ]
      },
      {
       "output_type": "stream",
       "stream": "stdout",
       "text": [
        " 91\n",
        "skipped  7\n",
        "406946308\n",
        "original article tmp file "
       ]
      },
      {
       "output_type": "stream",
       "stream": "stdout",
       "text": [
        " /tmp/tmp27wTv3.html\n",
        "/tmp/tmpiT2tsu.html\n",
        "/tmp/tmp27wTv3.html\n",
        "/tmp/tmp27wTv3.html\n",
        "Now open file:///tmp/tmpiT2tsu.html in your web browser\n"
       ]
      },
      {
       "output_type": "stream",
       "stream": "stdout",
       "text": [
        "\n",
        "processed "
       ]
      },
      {
       "output_type": "stream",
       "stream": "stdout",
       "text": [
        " 92\n",
        "skipped  7\n",
        "407440556\n",
        "original article tmp file "
       ]
      },
      {
       "output_type": "stream",
       "stream": "stdout",
       "text": [
        " /tmp/tmphRzMjS.html\n",
        "/tmp/tmp8Xt5XY.html\n",
        "/tmp/tmphRzMjS.html\n",
        "/tmp/tmphRzMjS.html\n",
        "Now open file:///tmp/tmp8Xt5XY.html in your web browser\n"
       ]
      },
      {
       "output_type": "stream",
       "stream": "stdout",
       "text": [
        "\n",
        "processed "
       ]
      },
      {
       "output_type": "stream",
       "stream": "stdout",
       "text": [
        " 93\n",
        "skipped  7\n",
        "408175125\n",
        "original article tmp file "
       ]
      },
      {
       "output_type": "stream",
       "stream": "stdout",
       "text": [
        " /tmp/tmpf_zlK9.html\n",
        "/tmp/tmp1eUMYc.html\n",
        "/tmp/tmpf_zlK9.html\n",
        "/tmp/tmpf_zlK9.html\n",
        "Now open file:///tmp/tmp1eUMYc.html in your web browser\n"
       ]
      },
      {
       "output_type": "stream",
       "stream": "stdout",
       "text": [
        "\n",
        "processed "
       ]
      },
      {
       "output_type": "stream",
       "stream": "stdout",
       "text": [
        " 94\n",
        "skipped  7\n",
        "408604940\n",
        "original article tmp file "
       ]
      },
      {
       "output_type": "stream",
       "stream": "stdout",
       "text": [
        " /tmp/tmpunA4Bj.html\n",
        "/tmp/tmpXw5un7.html\n",
        "/tmp/tmpunA4Bj.html\n",
        "/tmp/tmpunA4Bj.html\n",
        "Now open file:///tmp/tmpXw5un7.html in your web browser\n"
       ]
      },
      {
       "output_type": "stream",
       "stream": "stdout",
       "text": [
        "\n",
        "processed "
       ]
      },
      {
       "output_type": "stream",
       "stream": "stdout",
       "text": [
        " 95\n",
        "skipped  7\n",
        "408964569\n",
        "original article tmp file "
       ]
      },
      {
       "output_type": "stream",
       "stream": "stdout",
       "text": [
        " /tmp/tmpQyuurY.html\n",
        "/tmp/tmpkbi6Hn.html\n",
        "/tmp/tmpQyuurY.html\n",
        "/tmp/tmpQyuurY.html\n",
        "Now open file:///tmp/tmpkbi6Hn.html in your web browser\n"
       ]
      },
      {
       "output_type": "stream",
       "stream": "stdout",
       "text": [
        "\n",
        "processed "
       ]
      },
      {
       "output_type": "stream",
       "stream": "stdout",
       "text": [
        " 96\n",
        "skipped  7\n",
        "409307571\n",
        "original article tmp file "
       ]
      },
      {
       "output_type": "stream",
       "stream": "stdout",
       "text": [
        " /tmp/tmppg7_4i.html\n",
        "/tmp/tmp7YdCIW.html\n",
        "/tmp/tmppg7_4i.html\n",
        "/tmp/tmppg7_4i.html\n",
        "Now open file:///tmp/tmp7YdCIW.html in your web browser\n"
       ]
      },
      {
       "output_type": "stream",
       "stream": "stdout",
       "text": [
        "\n",
        "processed "
       ]
      },
      {
       "output_type": "stream",
       "stream": "stdout",
       "text": [
        " 97\n",
        "skipped  7\n",
        "409362014\n",
        "original article tmp file "
       ]
      },
      {
       "output_type": "stream",
       "stream": "stdout",
       "text": [
        " /tmp/tmpVdPkgZ.html\n",
        "/tmp/tmpO0IatF.html\n",
        "/tmp/tmpVdPkgZ.html\n",
        "/tmp/tmpVdPkgZ.html\n",
        "Now open file:///tmp/tmpO0IatF.html in your web browser\n"
       ]
      },
      {
       "output_type": "stream",
       "stream": "stdout",
       "text": [
        "\n",
        "processed "
       ]
      },
      {
       "output_type": "stream",
       "stream": "stdout",
       "text": [
        " 98\n",
        "skipped  7\n",
        "410019932\n",
        "original article tmp file "
       ]
      },
      {
       "output_type": "stream",
       "stream": "stdout",
       "text": [
        " /tmp/tmpT8Ol4T.html\n",
        "/tmp/tmpvddmAD.html\n",
        "/tmp/tmpT8Ol4T.html\n",
        "/tmp/tmpT8Ol4T.html\n",
        "Now open file:///tmp/tmpvddmAD.html in your web browser\n"
       ]
      },
      {
       "output_type": "stream",
       "stream": "stdout",
       "text": [
        "\n",
        "processed "
       ]
      },
      {
       "output_type": "stream",
       "stream": "stdout",
       "text": [
        " 99\n",
        "skipped  7\n",
        "410769033\n",
        "original article tmp file "
       ]
      },
      {
       "output_type": "stream",
       "stream": "stdout",
       "text": [
        " /tmp/tmpU_c0cu.html\n",
        "/tmp/tmp7TR39m.html\n",
        "/tmp/tmpU_c0cu.html\n",
        "/tmp/tmpU_c0cu.html\n",
        "Now open file:///tmp/tmp7TR39m.html in your web browser\n"
       ]
      },
      {
       "output_type": "stream",
       "stream": "stdout",
       "text": [
        "\n",
        "processed "
       ]
      },
      {
       "output_type": "stream",
       "stream": "stdout",
       "text": [
        " 100\n",
        "skipped  7\n",
        "410893054\n",
        "original article tmp file "
       ]
      },
      {
       "output_type": "stream",
       "stream": "stdout",
       "text": [
        " /tmp/tmpowTFUc.html\n",
        "/tmp/tmpEvl7dt.html\n",
        "/tmp/tmpowTFUc.html\n",
        "/tmp/tmpowTFUc.html\n",
        "Now open file:///tmp/tmpEvl7dt.html in your web browser\n"
       ]
      },
      {
       "output_type": "stream",
       "stream": "stdout",
       "text": [
        "\n",
        "processed "
       ]
      },
      {
       "output_type": "stream",
       "stream": "stdout",
       "text": [
        " 101\n",
        "skipped  7\n",
        "411494070\n",
        "original article tmp file "
       ]
      },
      {
       "output_type": "stream",
       "stream": "stdout",
       "text": [
        " /tmp/tmpiMK7mZ.html\n",
        "/tmp/tmp0aUPIo.html\n",
        "/tmp/tmpiMK7mZ.html\n",
        "/tmp/tmpiMK7mZ.html\n",
        "Now open file:///tmp/tmp0aUPIo.html in your web browser\n"
       ]
      },
      {
       "output_type": "stream",
       "stream": "stdout",
       "text": [
        "\n",
        "processed "
       ]
      },
      {
       "output_type": "stream",
       "stream": "stdout",
       "text": [
        " 102\n",
        "skipped  7\n",
        "412822633\n",
        "original article tmp file "
       ]
      },
      {
       "output_type": "stream",
       "stream": "stdout",
       "text": [
        " /tmp/tmpkJfn19.html\n",
        "/tmp/tmp9LlBJD.html\n",
        "/tmp/tmpkJfn19.html\n",
        "/tmp/tmpkJfn19.html\n",
        "Now open file:///tmp/tmp9LlBJD.html in your web browser\n"
       ]
      },
      {
       "output_type": "stream",
       "stream": "stdout",
       "text": [
        "\n",
        "processed "
       ]
      },
      {
       "output_type": "stream",
       "stream": "stdout",
       "text": [
        " 103\n",
        "skipped  7\n",
        "412832327\n",
        "original article tmp file "
       ]
      },
      {
       "output_type": "stream",
       "stream": "stdout",
       "text": [
        " /tmp/tmpyE01XA.html\n",
        "/tmp/tmpNbvdbD.html\n",
        "/tmp/tmpyE01XA.html\n",
        "/tmp/tmpyE01XA.html\n",
        "Now open file:///tmp/tmpNbvdbD.html in your web browser\n"
       ]
      },
      {
       "output_type": "stream",
       "stream": "stdout",
       "text": [
        "\n",
        "processed "
       ]
      },
      {
       "output_type": "stream",
       "stream": "stdout",
       "text": [
        " 104\n",
        "skipped  7\n",
        "413070223\n",
        "original article tmp file "
       ]
      },
      {
       "output_type": "stream",
       "stream": "stdout",
       "text": [
        " /tmp/tmpCFJu60.html\n",
        "/tmp/tmphHvEuH.html\n",
        "/tmp/tmpCFJu60.html\n",
        "/tmp/tmpCFJu60.html\n",
        "Now open file:///tmp/tmphHvEuH.html in your web browser\n"
       ]
      },
      {
       "output_type": "stream",
       "stream": "stdout",
       "text": [
        "\n",
        "processed "
       ]
      },
      {
       "output_type": "stream",
       "stream": "stdout",
       "text": [
        " 105\n",
        "skipped  7\n",
        "413080625\n",
        "original article tmp file "
       ]
      },
      {
       "output_type": "stream",
       "stream": "stdout",
       "text": [
        " /tmp/tmpTxinVI.html\n",
        "/tmp/tmptX_eSP.html\n",
        "/tmp/tmpTxinVI.html\n",
        "/tmp/tmpTxinVI.html\n",
        "Now open file:///tmp/tmptX_eSP.html in your web browser\n"
       ]
      },
      {
       "output_type": "stream",
       "stream": "stdout",
       "text": [
        "\n",
        "processed "
       ]
      },
      {
       "output_type": "stream",
       "stream": "stdout",
       "text": [
        " 106\n",
        "skipped  7\n",
        "413724188\n",
        "original article tmp file "
       ]
      },
      {
       "output_type": "stream",
       "stream": "stdout",
       "text": [
        " /tmp/tmpzqB4hD.html\n",
        "/tmp/tmpO9wByN.html\n",
        "/tmp/tmpzqB4hD.html\n",
        "/tmp/tmpzqB4hD.html\n",
        "Now open file:///tmp/tmpO9wByN.html in your web browser\n"
       ]
      },
      {
       "output_type": "stream",
       "stream": "stdout",
       "text": [
        "\n",
        "processed "
       ]
      },
      {
       "output_type": "stream",
       "stream": "stdout",
       "text": [
        " 107\n",
        "skipped  7\n",
        "413990063\n",
        "original article tmp file "
       ]
      },
      {
       "output_type": "stream",
       "stream": "stdout",
       "text": [
        " /tmp/tmpZ3Vxky.html\n",
        "/tmp/tmpjnKn_X.html\n",
        "/tmp/tmpZ3Vxky.html\n",
        "/tmp/tmpZ3Vxky.html\n",
        "Now open file:///tmp/tmpjnKn_X.html in your web browser\n"
       ]
      },
      {
       "output_type": "stream",
       "stream": "stdout",
       "text": [
        "\n",
        "processed "
       ]
      },
      {
       "output_type": "stream",
       "stream": "stdout",
       "text": [
        " 108\n",
        "skipped  7\n",
        "414001946\n",
        "original article tmp file "
       ]
      },
      {
       "output_type": "stream",
       "stream": "stdout",
       "text": [
        " /tmp/tmpAArILp.html\n",
        "/tmp/tmpVrwS9b.html\n",
        "/tmp/tmpAArILp.html\n",
        "/tmp/tmpAArILp.html\n",
        "Now open file:///tmp/tmpVrwS9b.html in your web browser\n"
       ]
      },
      {
       "output_type": "stream",
       "stream": "stdout",
       "text": [
        "\n",
        "processed "
       ]
      },
      {
       "output_type": "stream",
       "stream": "stdout",
       "text": [
        " 109\n",
        "skipped  7\n",
        "414705852\n",
        "original article tmp file "
       ]
      },
      {
       "output_type": "stream",
       "stream": "stdout",
       "text": [
        " /tmp/tmpqKquzG.html\n",
        "/tmp/tmpZbpUcd.html\n",
        "/tmp/tmpqKquzG.html\n",
        "/tmp/tmpqKquzG.html\n",
        "Now open file:///tmp/tmpZbpUcd.html in your web browser\n"
       ]
      },
      {
       "output_type": "stream",
       "stream": "stdout",
       "text": [
        "\n",
        "processed "
       ]
      },
      {
       "output_type": "stream",
       "stream": "stdout",
       "text": [
        " 110\n",
        "skipped  7\n",
        "414754369\n",
        "original article tmp file "
       ]
      },
      {
       "output_type": "stream",
       "stream": "stdout",
       "text": [
        " /tmp/tmpie6avb.html\n",
        "/tmp/tmp9LMNEe.html\n",
        "/tmp/tmpie6avb.html\n",
        "/tmp/tmpie6avb.html\n",
        "Now open file:///tmp/tmp9LMNEe.html in your web browser\n"
       ]
      },
      {
       "output_type": "stream",
       "stream": "stdout",
       "text": [
        "\n",
        "processed "
       ]
      },
      {
       "output_type": "stream",
       "stream": "stdout",
       "text": [
        " 111\n",
        "skipped  7\n",
        "414974366\n",
        "original article tmp file "
       ]
      },
      {
       "output_type": "stream",
       "stream": "stdout",
       "text": [
        " /tmp/tmp4_aAVq.html\n",
        "/tmp/tmppraseW.html\n",
        "/tmp/tmp4_aAVq.html\n",
        "/tmp/tmp4_aAVq.html\n",
        "Now open file:///tmp/tmppraseW.html in your web browser\n"
       ]
      },
      {
       "output_type": "stream",
       "stream": "stdout",
       "text": [
        "\n",
        "processed "
       ]
      },
      {
       "output_type": "stream",
       "stream": "stdout",
       "text": [
        " 112\n",
        "skipped  7\n",
        "415381471\n",
        "original article tmp file "
       ]
      },
      {
       "output_type": "stream",
       "stream": "stdout",
       "text": [
        " /tmp/tmpgP4U3i.html\n",
        "/tmp/tmpg9Ci0u.html\n",
        "/tmp/tmpgP4U3i.html\n",
        "/tmp/tmpgP4U3i.html\n",
        "Now open file:///tmp/tmpg9Ci0u.html in your web browser\n"
       ]
      },
      {
       "output_type": "stream",
       "stream": "stdout",
       "text": [
        "\n",
        "processed "
       ]
      },
      {
       "output_type": "stream",
       "stream": "stdout",
       "text": [
        " 113\n",
        "skipped  7\n",
        "415752815\n",
        "original article tmp file "
       ]
      },
      {
       "output_type": "stream",
       "stream": "stdout",
       "text": [
        " /tmp/tmpVwU1cz.html\n",
        "/tmp/tmpSNLphz.html\n",
        "/tmp/tmpVwU1cz.html\n",
        "/tmp/tmpVwU1cz.html\n",
        "Now open file:///tmp/tmpSNLphz.html in your web browser\n"
       ]
      },
      {
       "output_type": "stream",
       "stream": "stdout",
       "text": [
        "\n",
        "processed "
       ]
      },
      {
       "output_type": "stream",
       "stream": "stdout",
       "text": [
        " 114\n",
        "skipped  7\n",
        "415977284\n",
        "original article tmp file "
       ]
      },
      {
       "output_type": "stream",
       "stream": "stdout",
       "text": [
        " /tmp/tmp6cFIxA.html\n",
        "/tmp/tmpGpn5wp.html\n",
        "/tmp/tmp6cFIxA.html\n",
        "/tmp/tmp6cFIxA.html\n",
        "Now open file:///tmp/tmpGpn5wp.html in your web browser\n"
       ]
      },
      {
       "output_type": "stream",
       "stream": "stdout",
       "text": [
        "\n",
        "processed "
       ]
      },
      {
       "output_type": "stream",
       "stream": "stdout",
       "text": [
        " 115\n",
        "skipped  7\n",
        "416560140\n",
        "original article tmp file "
       ]
      },
      {
       "output_type": "stream",
       "stream": "stdout",
       "text": [
        " /tmp/tmp2d0LBl.html\n",
        "/tmp/tmp6j4QpV.html\n",
        "/tmp/tmp2d0LBl.html\n",
        "/tmp/tmp2d0LBl.html\n",
        "Now open file:///tmp/tmp6j4QpV.html in your web browser\n"
       ]
      },
      {
       "output_type": "stream",
       "stream": "stdout",
       "text": [
        "\n",
        "processed "
       ]
      },
      {
       "output_type": "stream",
       "stream": "stdout",
       "text": [
        " 116\n",
        "skipped  7\n",
        "416773947\n",
        "original article tmp file "
       ]
      },
      {
       "output_type": "stream",
       "stream": "stdout",
       "text": [
        " /tmp/tmpcd1bA2.html\n",
        "/tmp/tmpQTSBxX.html\n",
        "/tmp/tmpcd1bA2.html\n",
        "/tmp/tmpcd1bA2.html\n",
        "Now open file:///tmp/tmpQTSBxX.html in your web browser\n"
       ]
      },
      {
       "output_type": "stream",
       "stream": "stdout",
       "text": [
        "\n",
        "processed "
       ]
      },
      {
       "output_type": "stream",
       "stream": "stdout",
       "text": [
        " 117\n",
        "skipped  7\n",
        "416931217\n",
        "original article tmp file "
       ]
      },
      {
       "output_type": "stream",
       "stream": "stdout",
       "text": [
        " /tmp/tmp21jTro.html\n",
        "/tmp/tmpqHJzTZ.html\n",
        "/tmp/tmp21jTro.html\n",
        "/tmp/tmp21jTro.html\n",
        "Now open file:///tmp/tmpqHJzTZ.html in your web browser\n"
       ]
      },
      {
       "output_type": "stream",
       "stream": "stdout",
       "text": [
        "\n",
        "processed "
       ]
      },
      {
       "output_type": "stream",
       "stream": "stdout",
       "text": [
        " 118\n",
        "skipped  7\n",
        "417026931\n",
        "original article tmp file "
       ]
      },
      {
       "output_type": "stream",
       "stream": "stdout",
       "text": [
        " /tmp/tmp7BY5mW.html\n",
        "/tmp/tmphSzHi9.html\n",
        "/tmp/tmp7BY5mW.html\n",
        "/tmp/tmp7BY5mW.html\n",
        "Now open file:///tmp/tmphSzHi9.html in your web browser\n"
       ]
      },
      {
       "output_type": "stream",
       "stream": "stdout",
       "text": [
        "\n",
        "processed "
       ]
      },
      {
       "output_type": "stream",
       "stream": "stdout",
       "text": [
        " 119\n",
        "skipped  7\n",
        "417913575\n",
        "original article tmp file "
       ]
      },
      {
       "output_type": "stream",
       "stream": "stdout",
       "text": [
        " /tmp/tmp6I2Cq7.html\n",
        "/tmp/tmpJhoBuy.html\n",
        "/tmp/tmp6I2Cq7.html\n",
        "/tmp/tmp6I2Cq7.html\n",
        "Now open file:///tmp/tmpJhoBuy.html in your web browser\n"
       ]
      },
      {
       "output_type": "stream",
       "stream": "stdout",
       "text": [
        "\n",
        "processed "
       ]
      },
      {
       "output_type": "stream",
       "stream": "stdout",
       "text": [
        " 120\n",
        "skipped  7\n",
        "418921816\n",
        "original article tmp file "
       ]
      },
      {
       "output_type": "stream",
       "stream": "stdout",
       "text": [
        " /tmp/tmp30pNpy.html\n",
        "/tmp/tmp_4AszD.html\n",
        "/tmp/tmp30pNpy.html\n",
        "/tmp/tmp30pNpy.html\n",
        "Now open file:///tmp/tmp_4AszD.html in your web browser\n"
       ]
      },
      {
       "output_type": "stream",
       "stream": "stdout",
       "text": [
        "\n",
        "processed "
       ]
      },
      {
       "output_type": "stream",
       "stream": "stdout",
       "text": [
        " 121\n",
        "skipped  7\n",
        "419059149\n",
        "original article tmp file "
       ]
      },
      {
       "output_type": "stream",
       "stream": "stdout",
       "text": [
        " /tmp/tmpEMWSq7.html\n",
        "/tmp/tmp8MwTxY.html\n",
        "/tmp/tmpEMWSq7.html\n",
        "/tmp/tmpEMWSq7.html\n",
        "Now open file:///tmp/tmp8MwTxY.html in your web browser\n"
       ]
      },
      {
       "output_type": "stream",
       "stream": "stdout",
       "text": [
        "\n",
        "processed "
       ]
      },
      {
       "output_type": "stream",
       "stream": "stdout",
       "text": [
        " 122\n",
        "skipped  7\n",
        "419061380\n",
        "original article tmp file "
       ]
      },
      {
       "output_type": "stream",
       "stream": "stdout",
       "text": [
        " /tmp/tmpZaCdQJ.html\n",
        "/tmp/tmpUOClSp.html\n",
        "/tmp/tmpZaCdQJ.html\n",
        "/tmp/tmpZaCdQJ.html\n",
        "Now open file:///tmp/tmpUOClSp.html in your web browser\n"
       ]
      },
      {
       "output_type": "stream",
       "stream": "stdout",
       "text": [
        "\n",
        "Unexpected error on string '</a>\n",
        "'"
       ]
      },
      {
       "output_type": "stream",
       "stream": "stdout",
       "text": [
        " <class 'lxml.etree.ParserError'>\n",
        "Unexpected error on string '</p>\n",
        "' <class 'lxml.etree.ParserError'>\n",
        "Unexpected error on string '</div>\n",
        "' <class 'lxml.etree.ParserError'>\n",
        "Unexpected error on string '</a>\n",
        "' <class 'lxml.etree.ParserError'>\n",
        "Unexpected error on string '</a>' <class 'lxml.etree.ParserError'>\n",
        "Unexpected error on string '</h2>\n",
        "' <class 'lxml.etree.ParserError'>\n",
        "Unexpected error on string '</a>' <class 'lxml.etree.ParserError'>\n",
        "Unexpected error on string '</p>\n",
        "' <class 'lxml.etree.ParserError'>\n",
        "Unexpected error on string '</a>' <class 'lxml.etree.ParserError'>\n",
        "Unexpected error on string '</p>\n",
        "' <class 'lxml.etree.ParserError'>\n",
        "Unexpected error on string '</div>\n",
        "' <class 'lxml.etree.ParserError'>\n",
        "Unexpected error on string '</div>\n",
        "' <class 'lxml.etree.ParserError'>\n",
        "Unexpected error on string '</div>\n",
        "' <class 'lxml.etree.ParserError'>\n",
        "Unexpected error on string '</a>\n",
        "' <class 'lxml.etree.ParserError'>\n",
        "Unexpected error on string '</p>\n",
        "' <class 'lxml.etree.ParserError'>\n",
        "Unexpected error on string '</div>\n",
        "' <class 'lxml.etree.ParserError'>\n",
        "Unexpected error on string '</a>\n",
        "' <class 'lxml.etree.ParserError'>\n",
        "Unexpected error on string '</a>' <class 'lxml.etree.ParserError'>\n",
        "Unexpected error on string '</h2>\n",
        "' <class 'lxml.etree.ParserError'>\n",
        "Unexpected error on string '</a>' <class 'lxml.etree.ParserError'>\n",
        "Unexpected error on string '</p>\n",
        "' <class 'lxml.etree.ParserError'>\n",
        "Unexpected error on string '</a>' <class 'lxml.etree.ParserError'>\n",
        "Unexpected error on string '</p>\n",
        "' <class 'lxml.etree.ParserError'>\n",
        "Unexpected error on string '</div>\n",
        "' <class 'lxml.etree.ParserError'>\n",
        "Unexpected error on string '</div>\n",
        "' <class 'lxml.etree.ParserError'>\n",
        "Unexpected error on string '</div>\n",
        "' <class 'lxml.etree.ParserError'>\n",
        "processed "
       ]
      },
      {
       "output_type": "stream",
       "stream": "stdout",
       "text": [
        " 123\n",
        "skipped  7\n",
        "419312194\n",
        "original article tmp file "
       ]
      },
      {
       "output_type": "stream",
       "stream": "stdout",
       "text": [
        " /tmp/tmpP1MX7n.html\n",
        "/tmp/tmpxsmhOb.html\n",
        "/tmp/tmpP1MX7n.html\n",
        "/tmp/tmpP1MX7n.html\n",
        "Now open file:///tmp/tmpxsmhOb.html in your web browser\n"
       ]
      },
      {
       "output_type": "stream",
       "stream": "stdout",
       "text": [
        "\n",
        "processed "
       ]
      },
      {
       "output_type": "stream",
       "stream": "stdout",
       "text": [
        " 124\n",
        "skipped  7\n",
        "419463576\n",
        "original article tmp file "
       ]
      },
      {
       "output_type": "stream",
       "stream": "stdout",
       "text": [
        " /tmp/tmpdezg5E.html\n",
        "/tmp/tmpMefG1N.html\n",
        "/tmp/tmpdezg5E.html\n",
        "/tmp/tmpdezg5E.html\n",
        "Now open file:///tmp/tmpMefG1N.html in your web browser\n"
       ]
      },
      {
       "output_type": "stream",
       "stream": "stdout",
       "text": [
        "\n",
        "processed "
       ]
      },
      {
       "output_type": "stream",
       "stream": "stdout",
       "text": [
        " 125\n",
        "skipped  7\n",
        "419897309\n",
        "original article tmp file "
       ]
      },
      {
       "output_type": "stream",
       "stream": "stdout",
       "text": [
        " /tmp/tmp47z7t5.html\n",
        "/tmp/tmpuIs8RI.html\n",
        "/tmp/tmp47z7t5.html\n",
        "/tmp/tmp47z7t5.html\n",
        "Now open file:///tmp/tmpuIs8RI.html in your web browser\n"
       ]
      },
      {
       "output_type": "stream",
       "stream": "stdout",
       "text": [
        "\n",
        "processed "
       ]
      },
      {
       "output_type": "stream",
       "stream": "stdout",
       "text": [
        " 126\n",
        "skipped  7\n",
        "420605489\n",
        "original article tmp file "
       ]
      },
      {
       "output_type": "stream",
       "stream": "stdout",
       "text": [
        " /tmp/tmpGVG948.html\n",
        "/tmp/tmp2j3rpw.html\n",
        "/tmp/tmpGVG948.html\n",
        "/tmp/tmpGVG948.html\n",
        "Now open file:///tmp/tmp2j3rpw.html in your web browser\n"
       ]
      },
      {
       "output_type": "stream",
       "stream": "stdout",
       "text": [
        "\n",
        "processed "
       ]
      },
      {
       "output_type": "stream",
       "stream": "stdout",
       "text": [
        " 127\n",
        "skipped  7\n",
        "420695976\n",
        "original article tmp file "
       ]
      },
      {
       "output_type": "stream",
       "stream": "stdout",
       "text": [
        " /tmp/tmpdmUaZo.html\n",
        "/tmp/tmpDL81uE.html\n",
        "/tmp/tmpdmUaZo.html\n",
        "/tmp/tmpdmUaZo.html\n",
        "Now open file:///tmp/tmpDL81uE.html in your web browser\n"
       ]
      },
      {
       "output_type": "stream",
       "stream": "stdout",
       "text": [
        "\n",
        "processed "
       ]
      },
      {
       "output_type": "stream",
       "stream": "stdout",
       "text": [
        " 128\n",
        "skipped  7\n",
        "420972612\n",
        "original article tmp file "
       ]
      },
      {
       "output_type": "stream",
       "stream": "stdout",
       "text": [
        " /tmp/tmp5FFSBQ.html\n",
        "/tmp/tmp2Ak5MS.html\n",
        "/tmp/tmp5FFSBQ.html\n",
        "/tmp/tmp5FFSBQ.html\n",
        "Now open file:///tmp/tmp2Ak5MS.html in your web browser\n"
       ]
      },
      {
       "output_type": "stream",
       "stream": "stdout",
       "text": [
        "\n",
        "processed "
       ]
      },
      {
       "output_type": "stream",
       "stream": "stdout",
       "text": [
        " 129\n",
        "skipped  7\n",
        "421512071\n",
        "original article tmp file "
       ]
      },
      {
       "output_type": "stream",
       "stream": "stdout",
       "text": [
        " /tmp/tmp4e7Vgx.html\n",
        "/tmp/tmpVwakka.html\n",
        "/tmp/tmp4e7Vgx.html\n",
        "/tmp/tmp4e7Vgx.html\n",
        "Now open file:///tmp/tmpVwakka.html in your web browser\n"
       ]
      },
      {
       "output_type": "stream",
       "stream": "stdout",
       "text": [
        "\n",
        "processed "
       ]
      },
      {
       "output_type": "stream",
       "stream": "stdout",
       "text": [
        " 130\n",
        "skipped  7\n",
        "421586812\n",
        "original article tmp file "
       ]
      },
      {
       "output_type": "stream",
       "stream": "stdout",
       "text": [
        " /tmp/tmpEYx7_4.html\n",
        "/tmp/tmpk4LcmU.html\n",
        "/tmp/tmpEYx7_4.html\n",
        "/tmp/tmpEYx7_4.html\n",
        "Now open file:///tmp/tmpk4LcmU.html in your web browser\n"
       ]
      },
      {
       "output_type": "stream",
       "stream": "stdout",
       "text": [
        "\n",
        "processed "
       ]
      },
      {
       "output_type": "stream",
       "stream": "stdout",
       "text": [
        " 131\n",
        "skipped  7\n",
        "421950008\n",
        "original article tmp file "
       ]
      },
      {
       "output_type": "stream",
       "stream": "stdout",
       "text": [
        " /tmp/tmpUw_U6t.html\n",
        "/tmp/tmpPfmjKS.html\n",
        "/tmp/tmpUw_U6t.html\n",
        "/tmp/tmpUw_U6t.html\n",
        "Now open file:///tmp/tmpPfmjKS.html in your web browser\n"
       ]
      },
      {
       "output_type": "stream",
       "stream": "stdout",
       "text": [
        "\n",
        "processed "
       ]
      },
      {
       "output_type": "stream",
       "stream": "stdout",
       "text": [
        " 132\n",
        "skipped  7\n",
        "422329395\n",
        "original article tmp file "
       ]
      },
      {
       "output_type": "stream",
       "stream": "stdout",
       "text": [
        " /tmp/tmpdKiDS3.html\n",
        "/tmp/tmp45Y4wG.html\n",
        "/tmp/tmpdKiDS3.html\n",
        "/tmp/tmpdKiDS3.html\n",
        "Now open file:///tmp/tmp45Y4wG.html in your web browser\n"
       ]
      },
      {
       "output_type": "stream",
       "stream": "stdout",
       "text": [
        "\n",
        "processed "
       ]
      },
      {
       "output_type": "stream",
       "stream": "stdout",
       "text": [
        " 133\n",
        "skipped  7\n",
        "423644184\n",
        "original article tmp file "
       ]
      },
      {
       "output_type": "stream",
       "stream": "stdout",
       "text": [
        " /tmp/tmpBudxx8.html\n",
        "/tmp/tmpXnKwmZ.html\n",
        "/tmp/tmpBudxx8.html\n",
        "/tmp/tmpBudxx8.html\n",
        "Now open file:///tmp/tmpXnKwmZ.html in your web browser\n"
       ]
      },
      {
       "output_type": "stream",
       "stream": "stdout",
       "text": [
        "\n",
        "processed "
       ]
      },
      {
       "output_type": "stream",
       "stream": "stdout",
       "text": [
        " 134\n",
        "skipped  7\n",
        "423780415\n",
        "original article tmp file "
       ]
      },
      {
       "output_type": "stream",
       "stream": "stdout",
       "text": [
        " /tmp/tmpAOeTIN.html\n",
        "/tmp/tmp5MMzTP.html\n",
        "/tmp/tmpAOeTIN.html\n",
        "/tmp/tmpAOeTIN.html\n",
        "Now open file:///tmp/tmp5MMzTP.html in your web browser\n"
       ]
      },
      {
       "output_type": "stream",
       "stream": "stdout",
       "text": [
        "\n",
        "processed "
       ]
      },
      {
       "output_type": "stream",
       "stream": "stdout",
       "text": [
        " 135\n",
        "skipped  7\n",
        "423811752\n",
        "original article tmp file "
       ]
      },
      {
       "output_type": "stream",
       "stream": "stdout",
       "text": [
        " /tmp/tmpwn9rk1.html\n",
        "/tmp/tmp5pCxoz.html\n",
        "/tmp/tmpwn9rk1.html\n",
        "/tmp/tmpwn9rk1.html\n",
        "Now open file:///tmp/tmp5pCxoz.html in your web browser\n"
       ]
      },
      {
       "output_type": "stream",
       "stream": "stdout",
       "text": [
        "\n",
        "processed "
       ]
      },
      {
       "output_type": "stream",
       "stream": "stdout",
       "text": [
        " 136\n",
        "skipped  7\n",
        "423826345\n",
        "original article tmp file "
       ]
      },
      {
       "output_type": "stream",
       "stream": "stdout",
       "text": [
        " /tmp/tmpY_xttb.html\n",
        "/tmp/tmpt4QtSm.html\n",
        "/tmp/tmpY_xttb.html\n",
        "/tmp/tmpY_xttb.html\n",
        "Now open file:///tmp/tmpt4QtSm.html in your web browser\n"
       ]
      },
      {
       "output_type": "stream",
       "stream": "stdout",
       "text": [
        "\n",
        "processed "
       ]
      },
      {
       "output_type": "stream",
       "stream": "stdout",
       "text": [
        " 137\n",
        "skipped  7\n",
        "426274790\n",
        "original article tmp file "
       ]
      },
      {
       "output_type": "stream",
       "stream": "stdout",
       "text": [
        " /tmp/tmpEHZ2Qz.html\n",
        "/tmp/tmpjUJVZB.html\n",
        "/tmp/tmpEHZ2Qz.html\n",
        "/tmp/tmpEHZ2Qz.html\n",
        "Now open file:///tmp/tmpjUJVZB.html in your web browser\n"
       ]
      },
      {
       "output_type": "stream",
       "stream": "stdout",
       "text": [
        "\n",
        "processed "
       ]
      },
      {
       "output_type": "stream",
       "stream": "stdout",
       "text": [
        " 138\n",
        "skipped  7\n",
        "426745030\n",
        "original article tmp file "
       ]
      },
      {
       "output_type": "stream",
       "stream": "stdout",
       "text": [
        " /tmp/tmpNxngrh.html\n",
        "/tmp/tmp0FMLmE.html\n",
        "/tmp/tmpNxngrh.html\n",
        "/tmp/tmpNxngrh.html\n",
        "Now open file:///tmp/tmp0FMLmE.html in your web browser\n"
       ]
      },
      {
       "output_type": "stream",
       "stream": "stdout",
       "text": [
        "\n",
        "processed "
       ]
      },
      {
       "output_type": "stream",
       "stream": "stdout",
       "text": [
        " 139\n",
        "skipped  7\n",
        "426958717\n",
        "original article tmp file "
       ]
      },
      {
       "output_type": "stream",
       "stream": "stdout",
       "text": [
        " /tmp/tmpzqvt23.html\n",
        "/tmp/tmpRq_QJi.html\n",
        "/tmp/tmpzqvt23.html\n",
        "/tmp/tmpzqvt23.html\n",
        "Now open file:///tmp/tmpRq_QJi.html in your web browser\n"
       ]
      },
      {
       "output_type": "stream",
       "stream": "stdout",
       "text": [
        "\n",
        "processed "
       ]
      },
      {
       "output_type": "stream",
       "stream": "stdout",
       "text": [
        " 140\n",
        "skipped  7\n",
        "427023406\n",
        "original article tmp file "
       ]
      },
      {
       "output_type": "stream",
       "stream": "stdout",
       "text": [
        " /tmp/tmpqqSz1g.html\n",
        "/tmp/tmpz4DWE9.html\n",
        "/tmp/tmpqqSz1g.html\n",
        "/tmp/tmpqqSz1g.html\n",
        "Now open file:///tmp/tmpz4DWE9.html in your web browser\n"
       ]
      },
      {
       "output_type": "stream",
       "stream": "stdout",
       "text": [
        "\n",
        "processed "
       ]
      },
      {
       "output_type": "stream",
       "stream": "stdout",
       "text": [
        " 141\n",
        "skipped  7\n",
        "427039192\n",
        "original article tmp file "
       ]
      },
      {
       "output_type": "stream",
       "stream": "stdout",
       "text": [
        " /tmp/tmpwgnd0U.html\n",
        "/tmp/tmpsqFFT2.html\n",
        "/tmp/tmpwgnd0U.html\n",
        "/tmp/tmpwgnd0U.html\n",
        "Now open file:///tmp/tmpsqFFT2.html in your web browser\n"
       ]
      },
      {
       "output_type": "stream",
       "stream": "stdout",
       "text": [
        "\n",
        "processed "
       ]
      },
      {
       "output_type": "stream",
       "stream": "stdout",
       "text": [
        " 142\n",
        "skipped  7\n",
        "427131787\n",
        "original article tmp file "
       ]
      },
      {
       "output_type": "stream",
       "stream": "stdout",
       "text": [
        " /tmp/tmpyikXzA.html\n",
        "/tmp/tmpSOhqUM.html\n",
        "/tmp/tmpyikXzA.html\n",
        "/tmp/tmpyikXzA.html\n",
        "Now open file:///tmp/tmpSOhqUM.html in your web browser\n"
       ]
      },
      {
       "output_type": "stream",
       "stream": "stdout",
       "text": [
        "\n",
        "processed "
       ]
      },
      {
       "output_type": "stream",
       "stream": "stdout",
       "text": [
        " 143\n",
        "skipped  7\n",
        "427645929\n",
        "original article tmp file "
       ]
      },
      {
       "output_type": "stream",
       "stream": "stdout",
       "text": [
        " /tmp/tmpZF7uMd.html\n",
        "/tmp/tmpXhxomt.html\n",
        "/tmp/tmpZF7uMd.html\n",
        "/tmp/tmpZF7uMd.html\n",
        "Now open file:///tmp/tmpXhxomt.html in your web browser\n"
       ]
      },
      {
       "output_type": "stream",
       "stream": "stdout",
       "text": [
        "\n",
        "processed "
       ]
      },
      {
       "output_type": "stream",
       "stream": "stdout",
       "text": [
        " 144\n",
        "skipped  7\n",
        "427851499\n",
        "original article tmp file "
       ]
      },
      {
       "output_type": "stream",
       "stream": "stdout",
       "text": [
        " /tmp/tmpqhEftR.html\n",
        "/tmp/tmpXQnaHY.html\n",
        "/tmp/tmpqhEftR.html\n",
        "/tmp/tmpqhEftR.html\n",
        "Now open file:///tmp/tmpXQnaHY.html in your web browser\n"
       ]
      },
      {
       "output_type": "stream",
       "stream": "stdout",
       "text": [
        "\n",
        "processed "
       ]
      },
      {
       "output_type": "stream",
       "stream": "stdout",
       "text": [
        " 145\n",
        "skipped  7\n",
        "428523804\n",
        "original article tmp file "
       ]
      },
      {
       "output_type": "stream",
       "stream": "stdout",
       "text": [
        " /tmp/tmpODqrEB.html\n",
        "/tmp/tmpJnMWLd.html\n",
        "/tmp/tmpODqrEB.html\n",
        "/tmp/tmpODqrEB.html\n",
        "Now open file:///tmp/tmpJnMWLd.html in your web browser\n"
       ]
      },
      {
       "output_type": "stream",
       "stream": "stdout",
       "text": [
        "\n",
        "processed "
       ]
      },
      {
       "output_type": "stream",
       "stream": "stdout",
       "text": [
        " 146\n",
        "skipped  7\n",
        "429112619\n",
        "original article tmp file "
       ]
      },
      {
       "output_type": "stream",
       "stream": "stdout",
       "text": [
        " /tmp/tmp3Q1yQD.html\n",
        "/tmp/tmpH3uxEf.html\n",
        "/tmp/tmp3Q1yQD.html\n",
        "/tmp/tmp3Q1yQD.html\n",
        "Now open file:///tmp/tmpH3uxEf.html in your web browser\n"
       ]
      },
      {
       "output_type": "stream",
       "stream": "stdout",
       "text": [
        "\n",
        "processed "
       ]
      },
      {
       "output_type": "stream",
       "stream": "stdout",
       "text": [
        " 147\n",
        "skipped  7\n",
        "429500447\n",
        "original article tmp file "
       ]
      },
      {
       "output_type": "stream",
       "stream": "stdout",
       "text": [
        " /tmp/tmpmw1u4m.html\n",
        "/tmp/tmptH3vql.html\n",
        "/tmp/tmpmw1u4m.html\n",
        "/tmp/tmpmw1u4m.html\n",
        "Now open file:///tmp/tmptH3vql.html in your web browser\n"
       ]
      },
      {
       "output_type": "stream",
       "stream": "stdout",
       "text": [
        "\n",
        "processed "
       ]
      },
      {
       "output_type": "stream",
       "stream": "stdout",
       "text": [
        " 148\n",
        "skipped  7\n",
        "429714766\n",
        "original article tmp file "
       ]
      },
      {
       "output_type": "stream",
       "stream": "stdout",
       "text": [
        " /tmp/tmpLRvHkW.html\n",
        "/tmp/tmpTmEyxl.html\n",
        "/tmp/tmpLRvHkW.html\n",
        "/tmp/tmpLRvHkW.html\n",
        "Now open file:///tmp/tmpTmEyxl.html in your web browser\n"
       ]
      },
      {
       "output_type": "stream",
       "stream": "stdout",
       "text": [
        "\n",
        "processed "
       ]
      },
      {
       "output_type": "stream",
       "stream": "stdout",
       "text": [
        " 149\n",
        "skipped  7\n",
        "429793967\n",
        "original article tmp file "
       ]
      },
      {
       "output_type": "stream",
       "stream": "stdout",
       "text": [
        " /tmp/tmpfKNsJ9.html\n",
        "/tmp/tmpzlT4pn.html\n",
        "/tmp/tmpfKNsJ9.html\n",
        "/tmp/tmpfKNsJ9.html\n",
        "Now open file:///tmp/tmpzlT4pn.html in your web browser\n"
       ]
      },
      {
       "output_type": "stream",
       "stream": "stdout",
       "text": [
        "\n",
        "processed "
       ]
      },
      {
       "output_type": "stream",
       "stream": "stdout",
       "text": [
        " 150\n",
        "skipped  7\n",
        "430099220\n",
        "original article tmp file "
       ]
      },
      {
       "output_type": "stream",
       "stream": "stdout",
       "text": [
        " /tmp/tmpkXljrr.html\n",
        "/tmp/tmpcRJ9AU.html\n",
        "/tmp/tmpkXljrr.html\n",
        "/tmp/tmpkXljrr.html\n",
        "Now open file:///tmp/tmpcRJ9AU.html in your web browser\n"
       ]
      },
      {
       "output_type": "stream",
       "stream": "stdout",
       "text": [
        "\n",
        "processed "
       ]
      },
      {
       "output_type": "stream",
       "stream": "stdout",
       "text": [
        " 151\n",
        "skipped  7\n",
        "430660615\n",
        "original article tmp file "
       ]
      },
      {
       "output_type": "stream",
       "stream": "stdout",
       "text": [
        " /tmp/tmp6iGEl7.html\n",
        "/tmp/tmp63xWWd.html\n",
        "/tmp/tmp6iGEl7.html\n",
        "/tmp/tmp6iGEl7.html\n",
        "Now open file:///tmp/tmp63xWWd.html in your web browser\n"
       ]
      },
      {
       "output_type": "stream",
       "stream": "stdout",
       "text": [
        "\n",
        "processed "
       ]
      },
      {
       "output_type": "stream",
       "stream": "stdout",
       "text": [
        " 152\n",
        "skipped  7\n",
        "431012388\n",
        "original article tmp file "
       ]
      },
      {
       "output_type": "stream",
       "stream": "stdout",
       "text": [
        " /tmp/tmpvU355D.html\n",
        "/tmp/tmpV8Q4aa.html\n",
        "/tmp/tmpvU355D.html\n",
        "/tmp/tmpvU355D.html\n",
        "Now open file:///tmp/tmpV8Q4aa.html in your web browser\n"
       ]
      },
      {
       "output_type": "stream",
       "stream": "stdout",
       "text": [
        "\n",
        "processed "
       ]
      },
      {
       "output_type": "stream",
       "stream": "stdout",
       "text": [
        " 153\n",
        "skipped  7\n",
        "431311136\n",
        "original article tmp file "
       ]
      },
      {
       "output_type": "stream",
       "stream": "stdout",
       "text": [
        " /tmp/tmpGB5I5j.html\n",
        "/tmp/tmpBL5uQV.html\n",
        "/tmp/tmpGB5I5j.html\n",
        "/tmp/tmpGB5I5j.html\n",
        "Now open file:///tmp/tmpBL5uQV.html in your web browser\n"
       ]
      },
      {
       "output_type": "stream",
       "stream": "stdout",
       "text": [
        "\n",
        "processed "
       ]
      },
      {
       "output_type": "stream",
       "stream": "stdout",
       "text": [
        " 154\n",
        "skipped  7\n",
        "431387007\n",
        "original article tmp file "
       ]
      },
      {
       "output_type": "stream",
       "stream": "stdout",
       "text": [
        " /tmp/tmplMoRv9.html\n",
        "/tmp/tmp16WdZe.html\n",
        "/tmp/tmplMoRv9.html\n",
        "/tmp/tmplMoRv9.html\n",
        "Now open file:///tmp/tmp16WdZe.html in your web browser\n"
       ]
      },
      {
       "output_type": "stream",
       "stream": "stdout",
       "text": [
        "\n",
        "processed "
       ]
      },
      {
       "output_type": "stream",
       "stream": "stdout",
       "text": [
        " 155\n",
        "skipped  7\n",
        "431606529\n",
        "original article tmp file "
       ]
      },
      {
       "output_type": "stream",
       "stream": "stdout",
       "text": [
        " /tmp/tmpehYHCQ.html\n",
        "/tmp/tmpmsnfAg.html\n",
        "/tmp/tmpehYHCQ.html\n",
        "/tmp/tmpehYHCQ.html\n",
        "Now open file:///tmp/tmpmsnfAg.html in your web browser\n"
       ]
      },
      {
       "output_type": "stream",
       "stream": "stdout",
       "text": [
        "\n",
        "processed "
       ]
      },
      {
       "output_type": "stream",
       "stream": "stdout",
       "text": [
        " 156\n",
        "skipped  7\n",
        "431839510\n",
        "original article tmp file "
       ]
      },
      {
       "output_type": "stream",
       "stream": "stdout",
       "text": [
        " /tmp/tmpc2BIeJ.html\n",
        "/tmp/tmpNwZnoV.html\n",
        "/tmp/tmpc2BIeJ.html\n",
        "/tmp/tmpc2BIeJ.html\n",
        "Now open file:///tmp/tmpNwZnoV.html in your web browser\n"
       ]
      },
      {
       "output_type": "stream",
       "stream": "stdout",
       "text": [
        "\n",
        "processed "
       ]
      },
      {
       "output_type": "stream",
       "stream": "stdout",
       "text": [
        " 157\n",
        "skipped  7\n",
        "431905299\n",
        "original article tmp file "
       ]
      },
      {
       "output_type": "stream",
       "stream": "stdout",
       "text": [
        " /tmp/tmpWkFOoP.html\n",
        "/tmp/tmpSn19vK.html\n",
        "/tmp/tmpWkFOoP.html\n",
        "/tmp/tmpWkFOoP.html\n",
        "Now open file:///tmp/tmpSn19vK.html in your web browser\n"
       ]
      },
      {
       "output_type": "stream",
       "stream": "stdout",
       "text": [
        "\n",
        "processed "
       ]
      },
      {
       "output_type": "stream",
       "stream": "stdout",
       "text": [
        " 158\n",
        "skipped  7\n",
        "432896524\n",
        "original article tmp file "
       ]
      },
      {
       "output_type": "stream",
       "stream": "stdout",
       "text": [
        " /tmp/tmpJvYrt0.html\n",
        "/tmp/tmp55dZBs.html\n",
        "/tmp/tmpJvYrt0.html\n",
        "/tmp/tmpJvYrt0.html\n",
        "Now open file:///tmp/tmp55dZBs.html in your web browser\n"
       ]
      },
      {
       "output_type": "stream",
       "stream": "stdout",
       "text": [
        "\n",
        "processed "
       ]
      },
      {
       "output_type": "stream",
       "stream": "stdout",
       "text": [
        " 159\n",
        "skipped  7\n",
        "432929604\n",
        "original article tmp file "
       ]
      },
      {
       "output_type": "stream",
       "stream": "stdout",
       "text": [
        " /tmp/tmpkmA36N.html\n",
        "/tmp/tmpEm3MqL.html\n",
        "/tmp/tmpkmA36N.html\n",
        "/tmp/tmpkmA36N.html\n",
        "Now open file:///tmp/tmpEm3MqL.html in your web browser\n"
       ]
      },
      {
       "output_type": "stream",
       "stream": "stdout",
       "text": [
        "\n",
        "processed "
       ]
      },
      {
       "output_type": "stream",
       "stream": "stdout",
       "text": [
        " 160\n",
        "skipped  7\n",
        "433044130\n",
        "original article tmp file "
       ]
      },
      {
       "output_type": "stream",
       "stream": "stdout",
       "text": [
        " /tmp/tmpDBvH1v.html\n",
        "/tmp/tmpUacuFY.html\n",
        "/tmp/tmpDBvH1v.html\n",
        "/tmp/tmpDBvH1v.html\n",
        "Now open file:///tmp/tmpUacuFY.html in your web browser\n"
       ]
      },
      {
       "output_type": "stream",
       "stream": "stdout",
       "text": [
        "\n",
        "processed "
       ]
      },
      {
       "output_type": "stream",
       "stream": "stdout",
       "text": [
        " 161\n",
        "skipped  7\n",
        "434192180\n",
        "original article tmp file "
       ]
      },
      {
       "output_type": "stream",
       "stream": "stdout",
       "text": [
        " /tmp/tmpgObVMX.html\n",
        "/tmp/tmpCEnZX1.html\n",
        "/tmp/tmpgObVMX.html\n",
        "/tmp/tmpgObVMX.html\n",
        "Now open file:///tmp/tmpCEnZX1.html in your web browser\n"
       ]
      },
      {
       "output_type": "stream",
       "stream": "stdout",
       "text": [
        "\n",
        "processed "
       ]
      },
      {
       "output_type": "stream",
       "stream": "stdout",
       "text": [
        " 162\n",
        "skipped  7\n",
        "434250046\n",
        "original article tmp file "
       ]
      },
      {
       "output_type": "stream",
       "stream": "stdout",
       "text": [
        " /tmp/tmpbkGU7J.html\n",
        "/tmp/tmpQ6Kam9.html\n",
        "/tmp/tmpbkGU7J.html\n",
        "/tmp/tmpbkGU7J.html\n",
        "Now open file:///tmp/tmpQ6Kam9.html in your web browser\n"
       ]
      },
      {
       "output_type": "stream",
       "stream": "stdout",
       "text": [
        "\n",
        "processed "
       ]
      },
      {
       "output_type": "stream",
       "stream": "stdout",
       "text": [
        " 163\n",
        "skipped  7\n",
        "434842660\n",
        "original article tmp file "
       ]
      },
      {
       "output_type": "stream",
       "stream": "stdout",
       "text": [
        " /tmp/tmpTUuibE.html\n",
        "/tmp/tmpL8tvsd.html\n",
        "/tmp/tmpTUuibE.html\n",
        "/tmp/tmpTUuibE.html\n",
        "Now open file:///tmp/tmpL8tvsd.html in your web browser\n"
       ]
      },
      {
       "output_type": "stream",
       "stream": "stdout",
       "text": [
        "\n",
        "processed "
       ]
      },
      {
       "output_type": "stream",
       "stream": "stdout",
       "text": [
        " 164\n",
        "skipped  7\n",
        "435142187\n",
        "original article tmp file "
       ]
      },
      {
       "output_type": "stream",
       "stream": "stdout",
       "text": [
        " /tmp/tmpnfmeuF.html\n",
        "/tmp/tmpaQZDuc.html\n",
        "/tmp/tmpnfmeuF.html\n",
        "/tmp/tmpnfmeuF.html\n",
        "Now open file:///tmp/tmpaQZDuc.html in your web browser\n"
       ]
      },
      {
       "output_type": "stream",
       "stream": "stdout",
       "text": [
        "\n",
        "processed "
       ]
      },
      {
       "output_type": "stream",
       "stream": "stdout",
       "text": [
        " 165\n",
        "skipped  7\n",
        "435417572\n",
        "original article tmp file "
       ]
      },
      {
       "output_type": "stream",
       "stream": "stdout",
       "text": [
        " /tmp/tmpJwSRUe.html\n",
        "/tmp/tmpMeP8uN.html\n",
        "/tmp/tmpJwSRUe.html\n",
        "/tmp/tmpJwSRUe.html\n",
        "Now open file:///tmp/tmpMeP8uN.html in your web browser\n"
       ]
      },
      {
       "output_type": "stream",
       "stream": "stdout",
       "text": [
        "\n",
        "processed "
       ]
      },
      {
       "output_type": "stream",
       "stream": "stdout",
       "text": [
        " 166\n",
        "skipped  7\n",
        "435417726\n",
        "original article tmp file "
       ]
      },
      {
       "output_type": "stream",
       "stream": "stdout",
       "text": [
        " /tmp/tmpDNNv6v.html\n",
        "/tmp/tmpS_SO_t.html\n",
        "/tmp/tmpDNNv6v.html\n",
        "/tmp/tmpDNNv6v.html\n",
        "Now open file:///tmp/tmpS_SO_t.html in your web browser\n"
       ]
      },
      {
       "output_type": "stream",
       "stream": "stdout",
       "text": [
        "\n",
        "processed "
       ]
      },
      {
       "output_type": "stream",
       "stream": "stdout",
       "text": [
        " 167\n",
        "skipped  7\n",
        "435795096\n",
        "original article tmp file "
       ]
      },
      {
       "output_type": "stream",
       "stream": "stdout",
       "text": [
        " /tmp/tmppdnI8f.html\n",
        "/tmp/tmpdIzIfh.html\n",
        "/tmp/tmppdnI8f.html\n",
        "/tmp/tmppdnI8f.html\n",
        "Now open file:///tmp/tmpdIzIfh.html in your web browser\n"
       ]
      },
      {
       "output_type": "stream",
       "stream": "stdout",
       "text": [
        "\n",
        "processed "
       ]
      },
      {
       "output_type": "stream",
       "stream": "stdout",
       "text": [
        " 168\n",
        "skipped  7\n",
        "436540640\n",
        "original article tmp file "
       ]
      },
      {
       "output_type": "stream",
       "stream": "stdout",
       "text": [
        " /tmp/tmpSSY0H5.html\n",
        "/tmp/tmp5kBoOz.html\n",
        "/tmp/tmpSSY0H5.html\n",
        "/tmp/tmpSSY0H5.html\n",
        "Now open file:///tmp/tmp5kBoOz.html in your web browser\n"
       ]
      },
      {
       "output_type": "stream",
       "stream": "stdout",
       "text": [
        "\n",
        "processed "
       ]
      },
      {
       "output_type": "stream",
       "stream": "stdout",
       "text": [
        " 169\n",
        "skipped  7\n",
        "436554531\n",
        "original article tmp file "
       ]
      },
      {
       "output_type": "stream",
       "stream": "stdout",
       "text": [
        " /tmp/tmpGpryLR.html\n",
        "/tmp/tmpzneqSe.html\n",
        "/tmp/tmpGpryLR.html\n",
        "/tmp/tmpGpryLR.html\n",
        "Now open file:///tmp/tmpzneqSe.html in your web browser\n"
       ]
      },
      {
       "output_type": "stream",
       "stream": "stdout",
       "text": [
        "\n",
        "processed "
       ]
      },
      {
       "output_type": "stream",
       "stream": "stdout",
       "text": [
        " 170\n",
        "skipped  7\n",
        "437087573\n",
        "original article tmp file "
       ]
      },
      {
       "output_type": "stream",
       "stream": "stdout",
       "text": [
        " /tmp/tmpnKU6IZ.html\n",
        "/tmp/tmpbCa5dD.html\n",
        "/tmp/tmpnKU6IZ.html\n",
        "/tmp/tmpnKU6IZ.html\n",
        "Now open file:///tmp/tmpbCa5dD.html in your web browser\n"
       ]
      },
      {
       "output_type": "stream",
       "stream": "stdout",
       "text": [
        "\n",
        "processed "
       ]
      },
      {
       "output_type": "stream",
       "stream": "stdout",
       "text": [
        " 171\n",
        "skipped  7\n",
        "437239472\n",
        "original article tmp file "
       ]
      },
      {
       "output_type": "stream",
       "stream": "stdout",
       "text": [
        " /tmp/tmp_GGHPY.html\n",
        "/tmp/tmplDdy2e.html\n",
        "/tmp/tmp_GGHPY.html\n",
        "/tmp/tmp_GGHPY.html\n",
        "Now open file:///tmp/tmplDdy2e.html in your web browser\n"
       ]
      },
      {
       "output_type": "stream",
       "stream": "stdout",
       "text": [
        "\n",
        "processed "
       ]
      },
      {
       "output_type": "stream",
       "stream": "stdout",
       "text": [
        " 172\n",
        "skipped  7\n",
        "437281074\n",
        "original article tmp file "
       ]
      },
      {
       "output_type": "stream",
       "stream": "stdout",
       "text": [
        " /tmp/tmprieY_x.html\n",
        "/tmp/tmpiREW2k.html\n",
        "/tmp/tmprieY_x.html\n",
        "/tmp/tmprieY_x.html\n",
        "Now open file:///tmp/tmpiREW2k.html in your web browser\n"
       ]
      },
      {
       "output_type": "stream",
       "stream": "stdout",
       "text": [
        "\n",
        "processed "
       ]
      },
      {
       "output_type": "stream",
       "stream": "stdout",
       "text": [
        " 173\n",
        "skipped  7\n",
        "437315186\n",
        "original article tmp file "
       ]
      },
      {
       "output_type": "stream",
       "stream": "stdout",
       "text": [
        " /tmp/tmpx4jMvA.html\n",
        "/tmp/tmp6XIE2r.html\n",
        "/tmp/tmpx4jMvA.html\n",
        "/tmp/tmpx4jMvA.html\n",
        "Now open file:///tmp/tmp6XIE2r.html in your web browser\n"
       ]
      },
      {
       "output_type": "stream",
       "stream": "stdout",
       "text": [
        "\n",
        "processed "
       ]
      },
      {
       "output_type": "stream",
       "stream": "stdout",
       "text": [
        " 174\n",
        "skipped  7\n",
        "437523403\n",
        "original article tmp file "
       ]
      },
      {
       "output_type": "stream",
       "stream": "stdout",
       "text": [
        " /tmp/tmpRyA9e0.html\n",
        "/tmp/tmpack51L.html\n",
        "/tmp/tmpRyA9e0.html\n",
        "/tmp/tmpRyA9e0.html\n",
        "Now open file:///tmp/tmpack51L.html in your web browser\n"
       ]
      },
      {
       "output_type": "stream",
       "stream": "stdout",
       "text": [
        "\n",
        "processed "
       ]
      },
      {
       "output_type": "stream",
       "stream": "stdout",
       "text": [
        " 175\n",
        "skipped  7\n",
        "437526788\n",
        "original article tmp file "
       ]
      },
      {
       "output_type": "stream",
       "stream": "stdout",
       "text": [
        " /tmp/tmpTjrub9.html\n",
        "/tmp/tmpcg_oZl.html\n",
        "/tmp/tmpTjrub9.html\n",
        "/tmp/tmpTjrub9.html\n",
        "Now open file:///tmp/tmpcg_oZl.html in your web browser\n"
       ]
      },
      {
       "output_type": "stream",
       "stream": "stdout",
       "text": [
        "\n",
        "processed "
       ]
      },
      {
       "output_type": "stream",
       "stream": "stdout",
       "text": [
        " 176\n",
        "skipped  7\n",
        "438596131\n",
        "original article tmp file "
       ]
      },
      {
       "output_type": "stream",
       "stream": "stdout",
       "text": [
        " /tmp/tmp3YV8x4.html\n",
        "/tmp/tmps_5qb2.html\n",
        "/tmp/tmp3YV8x4.html\n",
        "/tmp/tmp3YV8x4.html\n",
        "Now open file:///tmp/tmps_5qb2.html in your web browser\n"
       ]
      },
      {
       "output_type": "stream",
       "stream": "stdout",
       "text": [
        "\n",
        "processed "
       ]
      },
      {
       "output_type": "stream",
       "stream": "stdout",
       "text": [
        " 177\n",
        "skipped  7\n",
        "438672710\n",
        "original article tmp file "
       ]
      },
      {
       "output_type": "stream",
       "stream": "stdout",
       "text": [
        " /tmp/tmpS1z5MH.html\n",
        "/tmp/tmpDvPxDP.html\n",
        "/tmp/tmpS1z5MH.html\n",
        "/tmp/tmpS1z5MH.html\n",
        "Now open file:///tmp/tmpDvPxDP.html in your web browser\n"
       ]
      },
      {
       "output_type": "stream",
       "stream": "stdout",
       "text": [
        "\n",
        "processed "
       ]
      },
      {
       "output_type": "stream",
       "stream": "stdout",
       "text": [
        " 178\n",
        "skipped  7\n",
        "439340014\n",
        "original article tmp file "
       ]
      },
      {
       "output_type": "stream",
       "stream": "stdout",
       "text": [
        " /tmp/tmp2dzCsW.html\n",
        "/tmp/tmppGFh41.html\n",
        "/tmp/tmp2dzCsW.html\n",
        "/tmp/tmp2dzCsW.html\n",
        "Now open file:///tmp/tmppGFh41.html in your web browser\n"
       ]
      },
      {
       "output_type": "stream",
       "stream": "stdout",
       "text": [
        "\n",
        "processed "
       ]
      },
      {
       "output_type": "stream",
       "stream": "stdout",
       "text": [
        " 179\n",
        "skipped  7\n",
        "439491986\n",
        "original article tmp file "
       ]
      },
      {
       "output_type": "stream",
       "stream": "stdout",
       "text": [
        " /tmp/tmpvBIx27.html\n",
        "/tmp/tmpguCayG.html\n",
        "/tmp/tmpvBIx27.html\n",
        "/tmp/tmpvBIx27.html\n",
        "Now open file:///tmp/tmpguCayG.html in your web browser\n"
       ]
      },
      {
       "output_type": "stream",
       "stream": "stdout",
       "text": [
        "\n",
        "processed "
       ]
      },
      {
       "output_type": "stream",
       "stream": "stdout",
       "text": [
        " 180\n",
        "skipped  7\n",
        "439619864\n",
        "original article tmp file "
       ]
      },
      {
       "output_type": "stream",
       "stream": "stdout",
       "text": [
        " /tmp/tmpBUfuYS.html\n",
        "/tmp/tmpQcUq3r.html\n",
        "/tmp/tmpBUfuYS.html\n",
        "/tmp/tmpBUfuYS.html\n",
        "Now open file:///tmp/tmpQcUq3r.html in your web browser\n"
       ]
      },
      {
       "output_type": "stream",
       "stream": "stdout",
       "text": [
        "\n",
        "processed "
       ]
      },
      {
       "output_type": "stream",
       "stream": "stdout",
       "text": [
        " 181\n",
        "skipped  7\n",
        "439631363\n",
        "original article tmp file "
       ]
      },
      {
       "output_type": "stream",
       "stream": "stdout",
       "text": [
        " /tmp/tmpX37Nsm.html\n",
        "/tmp/tmp2pz7dr.html\n",
        "/tmp/tmpX37Nsm.html\n",
        "/tmp/tmpX37Nsm.html\n",
        "Now open file:///tmp/tmp2pz7dr.html in your web browser\n"
       ]
      },
      {
       "output_type": "stream",
       "stream": "stdout",
       "text": [
        "\n",
        "processed "
       ]
      },
      {
       "output_type": "stream",
       "stream": "stdout",
       "text": [
        " 182\n",
        "skipped  7\n",
        "440193709\n",
        "original article tmp file "
       ]
      },
      {
       "output_type": "stream",
       "stream": "stdout",
       "text": [
        " /tmp/tmployUss.html\n",
        "/tmp/tmpE_ouJJ.html\n",
        "/tmp/tmployUss.html\n",
        "/tmp/tmployUss.html\n",
        "Now open file:///tmp/tmpE_ouJJ.html in your web browser\n"
       ]
      },
      {
       "output_type": "stream",
       "stream": "stdout",
       "text": [
        "\n",
        "processed "
       ]
      },
      {
       "output_type": "stream",
       "stream": "stdout",
       "text": [
        " 183\n",
        "skipped  7\n",
        "440219216\n",
        "original article tmp file "
       ]
      },
      {
       "output_type": "stream",
       "stream": "stdout",
       "text": [
        " /tmp/tmp0Q5dEk.html\n",
        "/tmp/tmpb33Zkr.html\n",
        "/tmp/tmp0Q5dEk.html\n",
        "/tmp/tmp0Q5dEk.html\n",
        "Now open file:///tmp/tmpb33Zkr.html in your web browser\n"
       ]
      },
      {
       "output_type": "stream",
       "stream": "stdout",
       "text": [
        "\n",
        "processed "
       ]
      },
      {
       "output_type": "stream",
       "stream": "stdout",
       "text": [
        " 184\n",
        "skipped  7\n",
        "440780462\n",
        "original article tmp file "
       ]
      },
      {
       "output_type": "stream",
       "stream": "stdout",
       "text": [
        " /tmp/tmpFbRrPV.html\n",
        "/tmp/tmpMZTOz7.html\n",
        "/tmp/tmpFbRrPV.html\n",
        "/tmp/tmpFbRrPV.html\n",
        "Now open file:///tmp/tmpMZTOz7.html in your web browser\n"
       ]
      },
      {
       "output_type": "stream",
       "stream": "stdout",
       "text": [
        "\n",
        "processed "
       ]
      },
      {
       "output_type": "stream",
       "stream": "stdout",
       "text": [
        " 185\n",
        "skipped  7\n",
        "441039343\n",
        "original article tmp file "
       ]
      },
      {
       "output_type": "stream",
       "stream": "stdout",
       "text": [
        " /tmp/tmpFDYp8U.html\n",
        "/tmp/tmpTEmx67.html\n",
        "/tmp/tmpFDYp8U.html\n",
        "/tmp/tmpFDYp8U.html\n",
        "Now open file:///tmp/tmpTEmx67.html in your web browser\n"
       ]
      },
      {
       "output_type": "stream",
       "stream": "stdout",
       "text": [
        "\n",
        "processed "
       ]
      },
      {
       "output_type": "stream",
       "stream": "stdout",
       "text": [
        " 186\n",
        "skipped  7\n",
        "441313630\n",
        "original article tmp file "
       ]
      },
      {
       "output_type": "stream",
       "stream": "stdout",
       "text": [
        " /tmp/tmpJ64_ec.html\n",
        "/tmp/tmprmu8J5.html\n",
        "/tmp/tmpJ64_ec.html\n",
        "/tmp/tmpJ64_ec.html\n",
        "Now open file:///tmp/tmprmu8J5.html in your web browser\n"
       ]
      },
      {
       "output_type": "stream",
       "stream": "stdout",
       "text": [
        "\n",
        "processed "
       ]
      },
      {
       "output_type": "stream",
       "stream": "stdout",
       "text": [
        " 187\n",
        "skipped  7\n",
        "441455864\n",
        "original article tmp file "
       ]
      },
      {
       "output_type": "stream",
       "stream": "stdout",
       "text": [
        " /tmp/tmpNXq31P.html\n",
        "/tmp/tmpBqv1l6.html\n",
        "/tmp/tmpNXq31P.html\n",
        "/tmp/tmpNXq31P.html\n",
        "Now open file:///tmp/tmpBqv1l6.html in your web browser\n"
       ]
      },
      {
       "output_type": "stream",
       "stream": "stdout",
       "text": [
        "\n",
        "processed "
       ]
      },
      {
       "output_type": "stream",
       "stream": "stdout",
       "text": [
        " 188\n",
        "skipped  7\n",
        "441846112\n",
        "original article tmp file "
       ]
      },
      {
       "output_type": "stream",
       "stream": "stdout",
       "text": [
        " /tmp/tmpY9wndf.html\n",
        "/tmp/tmpbwpsPU.html\n",
        "/tmp/tmpY9wndf.html\n",
        "/tmp/tmpY9wndf.html\n",
        "Now open file:///tmp/tmpbwpsPU.html in your web browser\n"
       ]
      },
      {
       "output_type": "stream",
       "stream": "stdout",
       "text": [
        "\n",
        "processed "
       ]
      },
      {
       "output_type": "stream",
       "stream": "stdout",
       "text": [
        " 189\n",
        "skipped  7\n",
        "442808951\n",
        "original article tmp file "
       ]
      },
      {
       "output_type": "stream",
       "stream": "stdout",
       "text": [
        " /tmp/tmpJ8qboY.html\n",
        "/tmp/tmpndVlUk.html\n",
        "/tmp/tmpJ8qboY.html\n",
        "/tmp/tmpJ8qboY.html\n",
        "Now open file:///tmp/tmpndVlUk.html in your web browser\n"
       ]
      },
      {
       "output_type": "stream",
       "stream": "stdout",
       "text": [
        "\n",
        "processed "
       ]
      },
      {
       "output_type": "stream",
       "stream": "stdout",
       "text": [
        " 190\n",
        "skipped  7\n",
        "442862362\n",
        "original article tmp file "
       ]
      },
      {
       "output_type": "stream",
       "stream": "stdout",
       "text": [
        " /tmp/tmpdX76j8.html\n",
        "/tmp/tmpy356Xz.html\n",
        "/tmp/tmpdX76j8.html\n",
        "/tmp/tmpdX76j8.html\n",
        "Now open file:///tmp/tmpy356Xz.html in your web browser\n"
       ]
      },
      {
       "output_type": "stream",
       "stream": "stdout",
       "text": [
        "\n",
        "processed "
       ]
      },
      {
       "output_type": "stream",
       "stream": "stdout",
       "text": [
        " 191\n",
        "skipped  7\n",
        "443616755\n",
        "original article tmp file "
       ]
      },
      {
       "output_type": "stream",
       "stream": "stdout",
       "text": [
        " /tmp/tmpyjLyVc.html\n",
        "/tmp/tmpoMbicw.html\n",
        "/tmp/tmpyjLyVc.html\n",
        "/tmp/tmpyjLyVc.html\n",
        "Now open file:///tmp/tmpoMbicw.html in your web browser\n"
       ]
      },
      {
       "output_type": "stream",
       "stream": "stdout",
       "text": [
        "\n",
        "processed "
       ]
      },
      {
       "output_type": "stream",
       "stream": "stdout",
       "text": [
        " 192\n",
        "skipped  7\n",
        "444570682\n",
        "original article tmp file "
       ]
      },
      {
       "output_type": "stream",
       "stream": "stdout",
       "text": [
        " /tmp/tmpSbT4Lu.html\n",
        "/tmp/tmp_iu1Vm.html\n",
        "/tmp/tmpSbT4Lu.html\n",
        "/tmp/tmpSbT4Lu.html\n",
        "Now open file:///tmp/tmp_iu1Vm.html in your web browser\n"
       ]
      },
      {
       "output_type": "stream",
       "stream": "stdout",
       "text": [
        "\n",
        "Unexpected error on string '</a>\n",
        "'"
       ]
      },
      {
       "output_type": "stream",
       "stream": "stdout",
       "text": [
        " <class 'lxml.etree.ParserError'>\n",
        "Unexpected error on string '</p>\n",
        "' <class 'lxml.etree.ParserError'>\n",
        "Unexpected error on string '</div>\n",
        "' <class 'lxml.etree.ParserError'>\n",
        "Unexpected error on string '</a>\n",
        "' <class 'lxml.etree.ParserError'>\n",
        "Unexpected error on string '</a>' <class 'lxml.etree.ParserError'>\n",
        "Unexpected error on string '</h2>\n",
        "' <class 'lxml.etree.ParserError'>\n",
        "Unexpected error on string '</a>' <class 'lxml.etree.ParserError'>\n",
        "Unexpected error on string '</p>\n",
        "' <class 'lxml.etree.ParserError'>\n",
        "Unexpected error on string '</a>' <class 'lxml.etree.ParserError'>\n",
        "Unexpected error on string '</p>\n",
        "' <class 'lxml.etree.ParserError'>\n",
        "Unexpected error on string '</div>\n",
        "' <class 'lxml.etree.ParserError'>\n",
        "Unexpected error on string '</div>\n",
        "' <class 'lxml.etree.ParserError'>\n",
        "Unexpected error on string '</div>\n",
        "' <class 'lxml.etree.ParserError'>\n",
        "Unexpected error on string '</a>\n",
        "'"
       ]
      },
      {
       "output_type": "stream",
       "stream": "stdout",
       "text": [
        " <class 'lxml.etree.ParserError'>\n",
        "Unexpected error on string '</p>\n",
        "' <class 'lxml.etree.ParserError'>\n",
        "Unexpected error on string '</div>\n",
        "' <class 'lxml.etree.ParserError'>\n",
        "Unexpected error on string '</a>\n",
        "' <class 'lxml.etree.ParserError'>\n",
        "Unexpected error on string '</a>' <class 'lxml.etree.ParserError'>\n",
        "Unexpected error on string '</h2>\n",
        "' <class 'lxml.etree.ParserError'>\n",
        "Unexpected error on string '</a>' <class 'lxml.etree.ParserError'>\n",
        "Unexpected error on string '</p>\n",
        "' <class 'lxml.etree.ParserError'>\n",
        "Unexpected error on string '</a>' <class 'lxml.etree.ParserError'>\n",
        "Unexpected error on string '</p>\n",
        "' <class 'lxml.etree.ParserError'>\n",
        "Unexpected error on string '</div>\n",
        "' <class 'lxml.etree.ParserError'>\n",
        "Unexpected error on string '</div>\n",
        "' <class 'lxml.etree.ParserError'>\n",
        "Unexpected error on string '</div>\n",
        "' <class 'lxml.etree.ParserError'>\n",
        "processed "
       ]
      },
      {
       "output_type": "stream",
       "stream": "stdout",
       "text": [
        " 193\n",
        "skipped  7\n",
        "444894095\n",
        "original article tmp file "
       ]
      },
      {
       "output_type": "stream",
       "stream": "stdout",
       "text": [
        " /tmp/tmpDZQF0G.html\n",
        "/tmp/tmpdInyAh.html\n",
        "/tmp/tmpDZQF0G.html\n",
        "/tmp/tmpDZQF0G.html\n",
        "Now open file:///tmp/tmpdInyAh.html in your web browser\n"
       ]
      },
      {
       "output_type": "stream",
       "stream": "stdout",
       "text": [
        "\n",
        "processed "
       ]
      },
      {
       "output_type": "stream",
       "stream": "stdout",
       "text": [
        " 194\n",
        "skipped  7\n",
        "445086933\n",
        "original article tmp file "
       ]
      },
      {
       "output_type": "stream",
       "stream": "stdout",
       "text": [
        " /tmp/tmp3V_KHA.html\n",
        "/tmp/tmpqi7Vk8.html\n",
        "/tmp/tmp3V_KHA.html\n",
        "/tmp/tmp3V_KHA.html\n",
        "Now open file:///tmp/tmpqi7Vk8.html in your web browser\n"
       ]
      },
      {
       "output_type": "stream",
       "stream": "stdout",
       "text": [
        "\n",
        "processed "
       ]
      },
      {
       "output_type": "stream",
       "stream": "stdout",
       "text": [
        " 195\n",
        "skipped  7\n",
        "445428584\n",
        "original article tmp file "
       ]
      },
      {
       "output_type": "stream",
       "stream": "stdout",
       "text": [
        " /tmp/tmpMq41vD.html\n",
        "/tmp/tmp0r4sYw.html\n",
        "/tmp/tmpMq41vD.html\n",
        "/tmp/tmpMq41vD.html\n",
        "Now open file:///tmp/tmp0r4sYw.html in your web browser\n"
       ]
      },
      {
       "output_type": "stream",
       "stream": "stdout",
       "text": [
        "\n",
        "processed "
       ]
      },
      {
       "output_type": "stream",
       "stream": "stdout",
       "text": [
        " 196\n",
        "skipped  7\n",
        "445477281\n",
        "original article tmp file "
       ]
      },
      {
       "output_type": "stream",
       "stream": "stdout",
       "text": [
        " /tmp/tmpFcyeBg.html\n",
        "/tmp/tmppi1FXM.html\n",
        "/tmp/tmpFcyeBg.html\n",
        "/tmp/tmpFcyeBg.html\n",
        "Now open file:///tmp/tmppi1FXM.html in your web browser\n"
       ]
      },
      {
       "output_type": "stream",
       "stream": "stdout",
       "text": [
        "\n",
        "processed "
       ]
      },
      {
       "output_type": "stream",
       "stream": "stdout",
       "text": [
        " 197\n",
        "skipped  7\n",
        "446094222\n",
        "original article tmp file "
       ]
      },
      {
       "output_type": "stream",
       "stream": "stdout",
       "text": [
        " /tmp/tmpW9JnM0.html\n",
        "/tmp/tmpXHR08d.html\n",
        "/tmp/tmpW9JnM0.html\n",
        "/tmp/tmpW9JnM0.html\n",
        "Now open file:///tmp/tmpXHR08d.html in your web browser\n"
       ]
      },
      {
       "output_type": "stream",
       "stream": "stdout",
       "text": [
        "\n",
        "processed "
       ]
      },
      {
       "output_type": "stream",
       "stream": "stdout",
       "text": [
        " 198\n",
        "skipped  7\n",
        "446613221\n",
        "original article tmp file "
       ]
      },
      {
       "output_type": "stream",
       "stream": "stdout",
       "text": [
        " /tmp/tmpG6kIu0.html\n",
        "/tmp/tmpMX5EA4.html\n",
        "/tmp/tmpG6kIu0.html\n",
        "/tmp/tmpG6kIu0.html\n",
        "Now open file:///tmp/tmpMX5EA4.html in your web browser\n"
       ]
      },
      {
       "output_type": "stream",
       "stream": "stdout",
       "text": [
        "\n",
        "processed "
       ]
      },
      {
       "output_type": "stream",
       "stream": "stdout",
       "text": [
        " 199\n",
        "skipped  7\n",
        "447062817\n",
        "original article tmp file "
       ]
      },
      {
       "output_type": "stream",
       "stream": "stdout",
       "text": [
        " /tmp/tmpLbW6f7.html\n",
        "/tmp/tmpjbFFdD.html\n",
        "/tmp/tmpLbW6f7.html\n",
        "/tmp/tmpLbW6f7.html\n",
        "Now open file:///tmp/tmpjbFFdD.html in your web browser\n"
       ]
      },
      {
       "output_type": "stream",
       "stream": "stdout",
       "text": [
        "\n",
        "processed "
       ]
      },
      {
       "output_type": "stream",
       "stream": "stdout",
       "text": [
        " 200\n",
        "skipped  7\n",
        "447776250\n",
        "original article tmp file "
       ]
      },
      {
       "output_type": "stream",
       "stream": "stdout",
       "text": [
        " /tmp/tmpLX4t9b.html\n",
        "/tmp/tmpAvSzFS.html\n",
        "/tmp/tmpLX4t9b.html\n",
        "/tmp/tmpLX4t9b.html\n",
        "Now open file:///tmp/tmpAvSzFS.html in your web browser\n"
       ]
      },
      {
       "output_type": "stream",
       "stream": "stdout",
       "text": [
        "\n",
        "processed "
       ]
      },
      {
       "output_type": "stream",
       "stream": "stdout",
       "text": [
        " 201\n",
        "skipped  7\n",
        "448661284\n",
        "original article tmp file "
       ]
      },
      {
       "output_type": "stream",
       "stream": "stdout",
       "text": [
        " /tmp/tmpX4Agir.html\n",
        "/tmp/tmpfIchp_.html\n",
        "/tmp/tmpX4Agir.html\n",
        "/tmp/tmpX4Agir.html\n",
        "Now open file:///tmp/tmpfIchp_.html in your web browser\n"
       ]
      },
      {
       "output_type": "stream",
       "stream": "stdout",
       "text": [
        "\n",
        "processed "
       ]
      },
      {
       "output_type": "stream",
       "stream": "stdout",
       "text": [
        " 202\n",
        "skipped  7\n",
        "448661534\n",
        "original article tmp file "
       ]
      },
      {
       "output_type": "stream",
       "stream": "stdout",
       "text": [
        " /tmp/tmpt1zvbp.html\n",
        "/tmp/tmpUf3IWM.html\n",
        "/tmp/tmpt1zvbp.html\n",
        "/tmp/tmpt1zvbp.html\n",
        "Now open file:///tmp/tmpUf3IWM.html in your web browser\n"
       ]
      },
      {
       "output_type": "stream",
       "stream": "stdout",
       "text": [
        "\n",
        "processed "
       ]
      },
      {
       "output_type": "stream",
       "stream": "stdout",
       "text": [
        " 203\n",
        "skipped  7\n",
        "448892156\n",
        "original article tmp file "
       ]
      },
      {
       "output_type": "stream",
       "stream": "stdout",
       "text": [
        " /tmp/tmp7j3sVh.html\n",
        "/tmp/tmpDeg_ut.html\n",
        "/tmp/tmp7j3sVh.html\n",
        "/tmp/tmp7j3sVh.html\n",
        "Now open file:///tmp/tmpDeg_ut.html in your web browser\n"
       ]
      },
      {
       "output_type": "stream",
       "stream": "stdout",
       "text": [
        "\n",
        "processed "
       ]
      },
      {
       "output_type": "stream",
       "stream": "stdout",
       "text": [
        " 204\n",
        "skipped  7\n",
        "448905892\n",
        "original article tmp file "
       ]
      },
      {
       "output_type": "stream",
       "stream": "stdout",
       "text": [
        " /tmp/tmp_Ks7eM.html\n",
        "/tmp/tmpPJCYvY.html\n",
        "/tmp/tmp_Ks7eM.html\n",
        "/tmp/tmp_Ks7eM.html\n",
        "Now open file:///tmp/tmpPJCYvY.html in your web browser\n"
       ]
      },
      {
       "output_type": "stream",
       "stream": "stdout",
       "text": [
        "\n",
        "processed "
       ]
      },
      {
       "output_type": "stream",
       "stream": "stdout",
       "text": [
        " 205\n",
        "skipped  7\n",
        "449094788\n",
        "original article tmp file "
       ]
      },
      {
       "output_type": "stream",
       "stream": "stdout",
       "text": [
        " /tmp/tmpfkuiOH.html\n",
        "/tmp/tmpx48EaZ.html\n",
        "/tmp/tmpfkuiOH.html\n",
        "/tmp/tmpfkuiOH.html\n",
        "Now open file:///tmp/tmpx48EaZ.html in your web browser\n"
       ]
      },
      {
       "output_type": "stream",
       "stream": "stdout",
       "text": [
        "\n",
        "processed "
       ]
      },
      {
       "output_type": "stream",
       "stream": "stdout",
       "text": [
        " 206\n",
        "skipped  7\n",
        "449256732\n",
        "original article tmp file "
       ]
      },
      {
       "output_type": "stream",
       "stream": "stdout",
       "text": [
        " /tmp/tmpqxLouT.html\n",
        "/tmp/tmpqLLM0V.html\n",
        "/tmp/tmpqxLouT.html\n",
        "/tmp/tmpqxLouT.html\n",
        "Now open file:///tmp/tmpqLLM0V.html in your web browser\n"
       ]
      },
      {
       "output_type": "stream",
       "stream": "stdout",
       "text": [
        "\n",
        "processed "
       ]
      },
      {
       "output_type": "stream",
       "stream": "stdout",
       "text": [
        " 207\n",
        "skipped  7\n",
        "450223351\n",
        "original article tmp file "
       ]
      },
      {
       "output_type": "stream",
       "stream": "stdout",
       "text": [
        " /tmp/tmp3KKQDM.html\n",
        "/tmp/tmpuILNmh.html\n",
        "/tmp/tmp3KKQDM.html\n",
        "/tmp/tmp3KKQDM.html\n",
        "Now open file:///tmp/tmpuILNmh.html in your web browser\n"
       ]
      },
      {
       "output_type": "stream",
       "stream": "stdout",
       "text": [
        "\n",
        "processed "
       ]
      },
      {
       "output_type": "stream",
       "stream": "stdout",
       "text": [
        " 208\n",
        "skipped  7\n",
        "450797637\n",
        "original article tmp file "
       ]
      },
      {
       "output_type": "stream",
       "stream": "stdout",
       "text": [
        " /tmp/tmp1UHIE5.html\n",
        "/tmp/tmpvkaOob.html\n",
        "/tmp/tmp1UHIE5.html\n",
        "/tmp/tmp1UHIE5.html\n",
        "Now open file:///tmp/tmpvkaOob.html in your web browser\n"
       ]
      },
      {
       "output_type": "stream",
       "stream": "stdout",
       "text": [
        "\n",
        "processed "
       ]
      },
      {
       "output_type": "stream",
       "stream": "stdout",
       "text": [
        " 209\n",
        "skipped  7\n",
        "452232437\n",
        "original article tmp file "
       ]
      },
      {
       "output_type": "stream",
       "stream": "stdout",
       "text": [
        " /tmp/tmpsIc0l5.html\n",
        "/tmp/tmpJlfCi5.html\n",
        "/tmp/tmpsIc0l5.html\n",
        "/tmp/tmpsIc0l5.html\n",
        "Now open file:///tmp/tmpJlfCi5.html in your web browser\n"
       ]
      },
      {
       "output_type": "stream",
       "stream": "stdout",
       "text": [
        "\n",
        "processed "
       ]
      },
      {
       "output_type": "stream",
       "stream": "stdout",
       "text": [
        " 210\n",
        "skipped  7\n",
        "453272806\n",
        "original article tmp file "
       ]
      },
      {
       "output_type": "stream",
       "stream": "stdout",
       "text": [
        " /tmp/tmp5_p9dT.html\n",
        "/tmp/tmpzA0PKq.html\n",
        "/tmp/tmp5_p9dT.html\n",
        "/tmp/tmp5_p9dT.html\n",
        "Now open file:///tmp/tmpzA0PKq.html in your web browser\n"
       ]
      },
      {
       "output_type": "stream",
       "stream": "stdout",
       "text": [
        "\n",
        "processed "
       ]
      },
      {
       "output_type": "stream",
       "stream": "stdout",
       "text": [
        " 211\n",
        "skipped  7\n",
        "454046798\n",
        "original article tmp file "
       ]
      },
      {
       "output_type": "stream",
       "stream": "stdout",
       "text": [
        " /tmp/tmpyiX2wA.html\n",
        "/tmp/tmpewtmbJ.html\n",
        "/tmp/tmpyiX2wA.html\n",
        "/tmp/tmpyiX2wA.html\n",
        "Now open file:///tmp/tmpewtmbJ.html in your web browser\n"
       ]
      },
      {
       "output_type": "stream",
       "stream": "stdout",
       "text": [
        "\n",
        "processed "
       ]
      },
      {
       "output_type": "stream",
       "stream": "stdout",
       "text": [
        " 212\n",
        "skipped  7\n",
        "454492602\n",
        "original article tmp file "
       ]
      },
      {
       "output_type": "stream",
       "stream": "stdout",
       "text": [
        " /tmp/tmpS4MCE4.html\n",
        "/tmp/tmpBRSMnq.html\n",
        "/tmp/tmpS4MCE4.html\n",
        "/tmp/tmpS4MCE4.html\n",
        "Now open file:///tmp/tmpBRSMnq.html in your web browser\n"
       ]
      },
      {
       "output_type": "stream",
       "stream": "stdout",
       "text": [
        "\n",
        "Unexpected error on string '</a>\n",
        "'"
       ]
      },
      {
       "output_type": "stream",
       "stream": "stdout",
       "text": [
        " <class 'lxml.etree.ParserError'>\n",
        "Unexpected error on string '</p>\n",
        "' <class 'lxml.etree.ParserError'>\n",
        "Unexpected error on string '</div>\n",
        "' <class 'lxml.etree.ParserError'>\n",
        "Unexpected error on string '</a>\n",
        "' <class 'lxml.etree.ParserError'>\n",
        "Unexpected error on string '</a>' <class 'lxml.etree.ParserError'>\n",
        "Unexpected error on string '</h2>\n",
        "' <class 'lxml.etree.ParserError'>\n",
        "Unexpected error on string '</a>' <class 'lxml.etree.ParserError'>\n",
        "Unexpected error on string '</p>\n",
        "' <class 'lxml.etree.ParserError'>\n",
        "Unexpected error on string '</a>' <class 'lxml.etree.ParserError'>\n",
        "Unexpected error on string '</p>\n",
        "' <class 'lxml.etree.ParserError'>\n",
        "Unexpected error on string '</div>\n",
        "' <class 'lxml.etree.ParserError'>\n",
        "Unexpected error on string '</div>\n",
        "' <class 'lxml.etree.ParserError'>\n",
        "Unexpected error on string '</div>\n",
        "' <class 'lxml.etree.ParserError'>\n",
        "Unexpected error on string '</a>\n",
        "'"
       ]
      },
      {
       "output_type": "stream",
       "stream": "stdout",
       "text": [
        " <class 'lxml.etree.ParserError'>\n",
        "Unexpected error on string '</p>\n",
        "' <class 'lxml.etree.ParserError'>\n",
        "Unexpected error on string '</div>\n",
        "' <class 'lxml.etree.ParserError'>\n",
        "Unexpected error on string '</a>\n",
        "' <class 'lxml.etree.ParserError'>\n",
        "Unexpected error on string '</a>' <class 'lxml.etree.ParserError'>\n",
        "Unexpected error on string '</h2>\n",
        "' <class 'lxml.etree.ParserError'>\n",
        "Unexpected error on string '</a>' <class 'lxml.etree.ParserError'>\n",
        "Unexpected error on string '</p>\n",
        "' <class 'lxml.etree.ParserError'>\n",
        "Unexpected error on string '</a>' <class 'lxml.etree.ParserError'>\n",
        "Unexpected error on string '</p>\n",
        "' <class 'lxml.etree.ParserError'>\n",
        "Unexpected error on string '</div>\n",
        "' <class 'lxml.etree.ParserError'>\n",
        "Unexpected error on string '</div>\n",
        "' <class 'lxml.etree.ParserError'>\n",
        "Unexpected error on string '</div>\n",
        "' <class 'lxml.etree.ParserError'>\n",
        "processed "
       ]
      },
      {
       "output_type": "stream",
       "stream": "stdout",
       "text": [
        " 213\n",
        "skipped  7\n",
        "455066382\n",
        "original article tmp file "
       ]
      },
      {
       "output_type": "stream",
       "stream": "stdout",
       "text": [
        " /tmp/tmpiMlgjn.html\n",
        "/tmp/tmpGXce96.html\n",
        "/tmp/tmpiMlgjn.html\n",
        "/tmp/tmpiMlgjn.html\n",
        "Now open file:///tmp/tmpGXce96.html in your web browser\n"
       ]
      },
      {
       "output_type": "stream",
       "stream": "stdout",
       "text": [
        "\n",
        "processed "
       ]
      },
      {
       "output_type": "stream",
       "stream": "stdout",
       "text": [
        " 214\n",
        "skipped  7\n",
        "455593030\n",
        "original article tmp file "
       ]
      },
      {
       "output_type": "stream",
       "stream": "stdout",
       "text": [
        " /tmp/tmpFHbRA6.html\n",
        "/tmp/tmp1XEcvb.html\n",
        "/tmp/tmpFHbRA6.html\n",
        "/tmp/tmpFHbRA6.html\n",
        "Now open file:///tmp/tmp1XEcvb.html in your web browser\n"
       ]
      },
      {
       "output_type": "stream",
       "stream": "stdout",
       "text": [
        "\n",
        "processed "
       ]
      },
      {
       "output_type": "stream",
       "stream": "stdout",
       "text": [
        " 215\n",
        "skipped  7\n",
        "456789442\n",
        "original article tmp file "
       ]
      },
      {
       "output_type": "stream",
       "stream": "stdout",
       "text": [
        " /tmp/tmpyGovlZ.html\n",
        "/tmp/tmp1uzsmF.html\n",
        "/tmp/tmpyGovlZ.html\n",
        "/tmp/tmpyGovlZ.html\n",
        "Now open file:///tmp/tmp1uzsmF.html in your web browser\n"
       ]
      },
      {
       "output_type": "stream",
       "stream": "stdout",
       "text": [
        "\n",
        "processed "
       ]
      },
      {
       "output_type": "stream",
       "stream": "stdout",
       "text": [
        " 216\n",
        "skipped  7\n",
        "457113351\n",
        "original article tmp file "
       ]
      },
      {
       "output_type": "stream",
       "stream": "stdout",
       "text": [
        " /tmp/tmpFSNuBP.html\n",
        "/tmp/tmpwnbFQJ.html\n",
        "/tmp/tmpFSNuBP.html\n",
        "/tmp/tmpFSNuBP.html\n",
        "Now open file:///tmp/tmpwnbFQJ.html in your web browser\n"
       ]
      },
      {
       "output_type": "stream",
       "stream": "stdout",
       "text": [
        "\n",
        "processed "
       ]
      },
      {
       "output_type": "stream",
       "stream": "stdout",
       "text": [
        " 217\n",
        "skipped  7\n",
        "457749321\n",
        "original article tmp file "
       ]
      },
      {
       "output_type": "stream",
       "stream": "stdout",
       "text": [
        " /tmp/tmpzcW90A.html\n",
        "/tmp/tmp2ZAk0J.html\n",
        "/tmp/tmpzcW90A.html\n",
        "/tmp/tmpzcW90A.html\n",
        "Now open file:///tmp/tmp2ZAk0J.html in your web browser\n"
       ]
      },
      {
       "output_type": "stream",
       "stream": "stdout",
       "text": [
        "\n",
        "processed "
       ]
      },
      {
       "output_type": "stream",
       "stream": "stdout",
       "text": [
        " 218\n",
        "skipped  7\n",
        "457918791\n",
        "original article tmp file "
       ]
      },
      {
       "output_type": "stream",
       "stream": "stdout",
       "text": [
        " /tmp/tmpdEpFed.html\n",
        "/tmp/tmpB19LY_.html\n",
        "/tmp/tmpdEpFed.html\n",
        "/tmp/tmpdEpFed.html\n",
        "Now open file:///tmp/tmpB19LY_.html in your web browser\n"
       ]
      },
      {
       "output_type": "stream",
       "stream": "stdout",
       "text": [
        "\n",
        "processed "
       ]
      },
      {
       "output_type": "stream",
       "stream": "stdout",
       "text": [
        " 219\n",
        "skipped  7\n",
        "457945604\n",
        "original article tmp file "
       ]
      },
      {
       "output_type": "stream",
       "stream": "stdout",
       "text": [
        " /tmp/tmpXLrrxv.html\n",
        "/tmp/tmp6Ld2u_.html\n",
        "/tmp/tmpXLrrxv.html\n",
        "/tmp/tmpXLrrxv.html\n",
        "Now open file:///tmp/tmp6Ld2u_.html in your web browser\n"
       ]
      },
      {
       "output_type": "stream",
       "stream": "stdout",
       "text": [
        "\n",
        "processed "
       ]
      },
      {
       "output_type": "stream",
       "stream": "stdout",
       "text": [
        " 220\n",
        "skipped  7\n",
        "458053172\n",
        "original article tmp file "
       ]
      },
      {
       "output_type": "stream",
       "stream": "stdout",
       "text": [
        " /tmp/tmpzRKowV.html\n",
        "/tmp/tmph_damB.html\n",
        "/tmp/tmpzRKowV.html\n",
        "/tmp/tmpzRKowV.html\n",
        "Now open file:///tmp/tmph_damB.html in your web browser\n"
       ]
      },
      {
       "output_type": "stream",
       "stream": "stdout",
       "text": [
        "\n",
        "processed "
       ]
      },
      {
       "output_type": "stream",
       "stream": "stdout",
       "text": [
        " 221\n",
        "skipped  7\n",
        "458710845\n",
        "original article tmp file "
       ]
      },
      {
       "output_type": "stream",
       "stream": "stdout",
       "text": [
        " /tmp/tmpUr9u6o.html\n",
        "/tmp/tmpOutFfH.html\n",
        "/tmp/tmpUr9u6o.html\n",
        "/tmp/tmpUr9u6o.html\n",
        "Now open file:///tmp/tmpOutFfH.html in your web browser\n"
       ]
      },
      {
       "output_type": "stream",
       "stream": "stdout",
       "text": [
        "\n",
        "processed "
       ]
      },
      {
       "output_type": "stream",
       "stream": "stdout",
       "text": [
        " 222\n",
        "skipped  7\n",
        "459297373\n",
        "original article tmp file "
       ]
      },
      {
       "output_type": "stream",
       "stream": "stdout",
       "text": [
        " /tmp/tmpHlyGyR.html\n",
        "/tmp/tmpYeFELp.html\n",
        "/tmp/tmpHlyGyR.html\n",
        "/tmp/tmpHlyGyR.html\n",
        "Now open file:///tmp/tmpYeFELp.html in your web browser\n"
       ]
      },
      {
       "output_type": "stream",
       "stream": "stdout",
       "text": [
        "\n",
        "processed "
       ]
      },
      {
       "output_type": "stream",
       "stream": "stdout",
       "text": [
        " 223\n",
        "skipped  7\n",
        "459314297\n",
        "original article tmp file "
       ]
      },
      {
       "output_type": "stream",
       "stream": "stdout",
       "text": [
        " /tmp/tmpK69_4U.html\n",
        "/tmp/tmpg2ts1Z.html\n",
        "/tmp/tmpK69_4U.html\n",
        "/tmp/tmpK69_4U.html\n",
        "Now open file:///tmp/tmpg2ts1Z.html in your web browser\n"
       ]
      },
      {
       "output_type": "stream",
       "stream": "stdout",
       "text": [
        "\n",
        "processed "
       ]
      },
      {
       "output_type": "stream",
       "stream": "stdout",
       "text": [
        " 224\n",
        "skipped  7\n",
        "459678712\n",
        "original article tmp file "
       ]
      },
      {
       "output_type": "stream",
       "stream": "stdout",
       "text": [
        " /tmp/tmp2V0RqB.html\n",
        "/tmp/tmp4GdaDv.html\n",
        "/tmp/tmp2V0RqB.html\n",
        "/tmp/tmp2V0RqB.html\n",
        "Now open file:///tmp/tmp4GdaDv.html in your web browser\n"
       ]
      },
      {
       "output_type": "stream",
       "stream": "stdout",
       "text": [
        "\n",
        "processed "
       ]
      },
      {
       "output_type": "stream",
       "stream": "stdout",
       "text": [
        " 225\n",
        "skipped  7\n",
        "459731765\n",
        "original article tmp file "
       ]
      },
      {
       "output_type": "stream",
       "stream": "stdout",
       "text": [
        " /tmp/tmpyPOL0s.html\n",
        "/tmp/tmp62Dr5t.html\n",
        "/tmp/tmpyPOL0s.html\n",
        "/tmp/tmpyPOL0s.html\n",
        "Now open file:///tmp/tmp62Dr5t.html in your web browser\n"
       ]
      },
      {
       "output_type": "stream",
       "stream": "stdout",
       "text": [
        "\n",
        "processed "
       ]
      },
      {
       "output_type": "stream",
       "stream": "stdout",
       "text": [
        " 226\n",
        "skipped  7\n",
        "461252885\n",
        "original article tmp file "
       ]
      },
      {
       "output_type": "stream",
       "stream": "stdout",
       "text": [
        " /tmp/tmpMbiBzl.html\n",
        "/tmp/tmpO144aR.html\n",
        "/tmp/tmpMbiBzl.html\n",
        "/tmp/tmpMbiBzl.html\n",
        "Now open file:///tmp/tmpO144aR.html in your web browser\n"
       ]
      },
      {
       "output_type": "stream",
       "stream": "stdout",
       "text": [
        "\n",
        "processed "
       ]
      },
      {
       "output_type": "stream",
       "stream": "stdout",
       "text": [
        " 227\n",
        "skipped  7\n",
        "462404061\n",
        "original article tmp file "
       ]
      },
      {
       "output_type": "stream",
       "stream": "stdout",
       "text": [
        " /tmp/tmpiZAiIE.html\n",
        "/tmp/tmpWVExCU.html\n",
        "/tmp/tmpiZAiIE.html\n",
        "/tmp/tmpiZAiIE.html\n",
        "Now open file:///tmp/tmpWVExCU.html in your web browser\n"
       ]
      },
      {
       "output_type": "stream",
       "stream": "stdout",
       "text": [
        "\n",
        "processed "
       ]
      },
      {
       "output_type": "stream",
       "stream": "stdout",
       "text": [
        " 228\n",
        "skipped  7\n",
        "462983422\n",
        "original article tmp file "
       ]
      },
      {
       "output_type": "stream",
       "stream": "stdout",
       "text": [
        " /tmp/tmpHYO6_O.html\n",
        "/tmp/tmppMXC9U.html\n",
        "/tmp/tmpHYO6_O.html\n",
        "/tmp/tmpHYO6_O.html\n",
        "Now open file:///tmp/tmppMXC9U.html in your web browser\n"
       ]
      },
      {
       "output_type": "stream",
       "stream": "stdout",
       "text": [
        "\n",
        "processed "
       ]
      },
      {
       "output_type": "stream",
       "stream": "stdout",
       "text": [
        " 229\n",
        "skipped  7\n",
        "463954045\n",
        "original article tmp file "
       ]
      },
      {
       "output_type": "stream",
       "stream": "stdout",
       "text": [
        " /tmp/tmpeKvuU8.html\n",
        "/tmp/tmpgEhtQb.html\n",
        "/tmp/tmpeKvuU8.html\n",
        "/tmp/tmpeKvuU8.html\n",
        "Now open file:///tmp/tmpgEhtQb.html in your web browser\n"
       ]
      },
      {
       "output_type": "stream",
       "stream": "stdout",
       "text": [
        "\n",
        "processed "
       ]
      },
      {
       "output_type": "stream",
       "stream": "stdout",
       "text": [
        " 230\n",
        "skipped  7\n",
        "464270345\n",
        "original article tmp file "
       ]
      },
      {
       "output_type": "stream",
       "stream": "stdout",
       "text": [
        " /tmp/tmpEX8cvh.html\n",
        "/tmp/tmp8SoSAM.html\n",
        "/tmp/tmpEX8cvh.html\n",
        "/tmp/tmpEX8cvh.html\n",
        "Now open file:///tmp/tmp8SoSAM.html in your web browser\n"
       ]
      },
      {
       "output_type": "stream",
       "stream": "stdout",
       "text": [
        "\n",
        "processed "
       ]
      },
      {
       "output_type": "stream",
       "stream": "stdout",
       "text": [
        " 231\n",
        "skipped  7\n",
        "465068895\n",
        "original article tmp file "
       ]
      },
      {
       "output_type": "stream",
       "stream": "stdout",
       "text": [
        " /tmp/tmpCFJqul.html\n",
        "/tmp/tmpGb5dbY.html\n",
        "/tmp/tmpCFJqul.html\n",
        "/tmp/tmpCFJqul.html\n",
        "Now open file:///tmp/tmpGb5dbY.html in your web browser\n"
       ]
      },
      {
       "output_type": "stream",
       "stream": "stdout",
       "text": [
        "\n",
        "Unexpected error on string '</a>\n",
        "'"
       ]
      },
      {
       "output_type": "stream",
       "stream": "stdout",
       "text": [
        " <class 'lxml.etree.ParserError'>\n",
        "Unexpected error on string '</p>\n",
        "' <class 'lxml.etree.ParserError'>\n",
        "Unexpected error on string '</div>\n",
        "' <class 'lxml.etree.ParserError'>\n",
        "Unexpected error on string '</a>\n",
        "' <class 'lxml.etree.ParserError'>\n",
        "Unexpected error on string '</a>' <class 'lxml.etree.ParserError'>\n",
        "Unexpected error on string '</h2>\n",
        "' <class 'lxml.etree.ParserError'>\n",
        "Unexpected error on string '</a>' <class 'lxml.etree.ParserError'>\n",
        "Unexpected error on string '</p>\n",
        "' <class 'lxml.etree.ParserError'>\n",
        "Unexpected error on string '</a>' <class 'lxml.etree.ParserError'>\n",
        "Unexpected error on string '</p>\n",
        "' <class 'lxml.etree.ParserError'>\n",
        "Unexpected error on string '</div>\n",
        "' <class 'lxml.etree.ParserError'>\n",
        "Unexpected error on string '</div>\n",
        "' <class 'lxml.etree.ParserError'>\n",
        "Unexpected error on string '</div>\n",
        "' <class 'lxml.etree.ParserError'>\n",
        "Unexpected error on string '</a>\n",
        "' <class 'lxml.etree.ParserError'>\n",
        "Unexpected error on string '</p>\n",
        "' <class 'lxml.etree.ParserError'>\n",
        "Unexpected error on string '</div>\n",
        "' <class 'lxml.etree.ParserError'>\n",
        "Unexpected error on string '</a>\n",
        "' <class 'lxml.etree.ParserError'>\n",
        "Unexpected error on string '</a>' <class 'lxml.etree.ParserError'>\n",
        "Unexpected error on string '</h2>\n",
        "' <class 'lxml.etree.ParserError'>\n",
        "Unexpected error on string '</a>' <class 'lxml.etree.ParserError'>\n",
        "Unexpected error on string '</p>\n",
        "' <class 'lxml.etree.ParserError'>\n",
        "Unexpected error on string '</a>' <class 'lxml.etree.ParserError'>\n",
        "Unexpected error on string '</p>\n",
        "' <class 'lxml.etree.ParserError'>\n",
        "Unexpected error on string '</div>\n",
        "' <class 'lxml.etree.ParserError'>\n",
        "Unexpected error on string '</div>\n",
        "' <class 'lxml.etree.ParserError'>\n",
        "Unexpected error on string '</div>\n",
        "' <class 'lxml.etree.ParserError'>\n",
        "processed "
       ]
      },
      {
       "output_type": "stream",
       "stream": "stdout",
       "text": [
        " 232\n",
        "skipped  7\n",
        "465090983\n",
        "original article tmp file "
       ]
      },
      {
       "output_type": "stream",
       "stream": "stdout",
       "text": [
        " /tmp/tmpK9gLFm.html\n",
        "/tmp/tmp79Beop.html\n",
        "/tmp/tmpK9gLFm.html\n",
        "/tmp/tmpK9gLFm.html\n",
        "Now open file:///tmp/tmp79Beop.html in your web browser\n"
       ]
      },
      {
       "output_type": "stream",
       "stream": "stdout",
       "text": [
        "\n",
        "processed "
       ]
      },
      {
       "output_type": "stream",
       "stream": "stdout",
       "text": [
        " 233\n",
        "skipped  7\n",
        "466804114\n",
        "original article tmp file "
       ]
      },
      {
       "output_type": "stream",
       "stream": "stdout",
       "text": [
        " /tmp/tmpskzFvt.html\n",
        "/tmp/tmpRMULaT.html\n",
        "/tmp/tmpskzFvt.html\n",
        "/tmp/tmpskzFvt.html\n",
        "Now open file:///tmp/tmpRMULaT.html in your web browser\n"
       ]
      },
      {
       "output_type": "stream",
       "stream": "stdout",
       "text": [
        "\n",
        "processed "
       ]
      },
      {
       "output_type": "stream",
       "stream": "stdout",
       "text": [
        " 234\n",
        "skipped  7\n",
        "467150362\n",
        "original article tmp file "
       ]
      },
      {
       "output_type": "stream",
       "stream": "stdout",
       "text": [
        " /tmp/tmpYW2ydq.html\n",
        "/tmp/tmpx3MPKR.html\n",
        "/tmp/tmpYW2ydq.html\n",
        "/tmp/tmpYW2ydq.html\n",
        "Now open file:///tmp/tmpx3MPKR.html in your web browser\n"
       ]
      },
      {
       "output_type": "stream",
       "stream": "stdout",
       "text": [
        "\n",
        "processed "
       ]
      },
      {
       "output_type": "stream",
       "stream": "stdout",
       "text": [
        " 235\n",
        "skipped  7\n",
        "468568475\n",
        "original article tmp file "
       ]
      },
      {
       "output_type": "stream",
       "stream": "stdout",
       "text": [
        " /tmp/tmpnjzGs3.html\n",
        "/tmp/tmpHfq1V4.html\n",
        "/tmp/tmpnjzGs3.html\n",
        "/tmp/tmpnjzGs3.html\n",
        "Now open file:///tmp/tmpHfq1V4.html in your web browser\n"
       ]
      },
      {
       "output_type": "stream",
       "stream": "stdout",
       "text": [
        "\n",
        "processed "
       ]
      },
      {
       "output_type": "stream",
       "stream": "stdout",
       "text": [
        " 236\n",
        "skipped  7\n",
        "468788039\n",
        "original article tmp file "
       ]
      },
      {
       "output_type": "stream",
       "stream": "stdout",
       "text": [
        " /tmp/tmplPQPz1.html\n",
        "/tmp/tmpjhSiCx.html\n",
        "/tmp/tmplPQPz1.html\n",
        "/tmp/tmplPQPz1.html\n",
        "Now open file:///tmp/tmpjhSiCx.html in your web browser\n"
       ]
      },
      {
       "output_type": "stream",
       "stream": "stdout",
       "text": [
        "\n",
        "processed "
       ]
      },
      {
       "output_type": "stream",
       "stream": "stdout",
       "text": [
        " 237\n",
        "skipped  7\n",
        "468996262\n",
        "original article tmp file "
       ]
      },
      {
       "output_type": "stream",
       "stream": "stdout",
       "text": [
        " /tmp/tmpLFnhOA.html\n",
        "/tmp/tmpVXEEaZ.html\n",
        "/tmp/tmpLFnhOA.html\n",
        "/tmp/tmpLFnhOA.html\n",
        "Now open file:///tmp/tmpVXEEaZ.html in your web browser\n"
       ]
      },
      {
       "output_type": "stream",
       "stream": "stdout",
       "text": [
        "\n",
        "processed "
       ]
      },
      {
       "output_type": "stream",
       "stream": "stdout",
       "text": [
        " 238\n",
        "skipped  7\n",
        "469058922\n",
        "original article tmp file "
       ]
      },
      {
       "output_type": "stream",
       "stream": "stdout",
       "text": [
        " /tmp/tmpA2r5aN.html\n",
        "/tmp/tmppjL3ig.html\n",
        "/tmp/tmpA2r5aN.html\n",
        "/tmp/tmpA2r5aN.html\n",
        "Now open file:///tmp/tmppjL3ig.html in your web browser\n"
       ]
      },
      {
       "output_type": "stream",
       "stream": "stdout",
       "text": [
        "\n",
        "processed "
       ]
      },
      {
       "output_type": "stream",
       "stream": "stdout",
       "text": [
        " 239\n",
        "skipped  7\n",
        "470488107\n",
        "original article tmp file "
       ]
      },
      {
       "output_type": "stream",
       "stream": "stdout",
       "text": [
        " /tmp/tmpWPRMbv.html\n",
        "/tmp/tmpeG0aPF.html\n",
        "/tmp/tmpWPRMbv.html\n",
        "/tmp/tmpWPRMbv.html\n",
        "Now open file:///tmp/tmpeG0aPF.html in your web browser\n"
       ]
      },
      {
       "output_type": "stream",
       "stream": "stdout",
       "text": [
        "\n",
        "processed "
       ]
      },
      {
       "output_type": "stream",
       "stream": "stdout",
       "text": [
        " 240\n",
        "skipped  7\n",
        "473138193\n",
        "original article tmp file "
       ]
      },
      {
       "output_type": "stream",
       "stream": "stdout",
       "text": [
        " /tmp/tmpYIZIVp.html\n",
        "/tmp/tmpthYSIY.html\n",
        "/tmp/tmpYIZIVp.html\n",
        "/tmp/tmpYIZIVp.html\n",
        "Now open file:///tmp/tmpthYSIY.html in your web browser\n"
       ]
      },
      {
       "output_type": "stream",
       "stream": "stdout",
       "text": [
        "\n",
        "processed "
       ]
      },
      {
       "output_type": "stream",
       "stream": "stdout",
       "text": [
        " 241\n",
        "skipped  7\n",
        "474060840\n",
        "original article tmp file "
       ]
      },
      {
       "output_type": "stream",
       "stream": "stdout",
       "text": [
        " /tmp/tmpHIxmXs.html\n",
        "/tmp/tmpeX4AYK.html\n",
        "/tmp/tmpHIxmXs.html\n",
        "/tmp/tmpHIxmXs.html\n",
        "Now open file:///tmp/tmpeX4AYK.html in your web browser\n"
       ]
      },
      {
       "output_type": "stream",
       "stream": "stdout",
       "text": [
        "\n",
        "processed "
       ]
      },
      {
       "output_type": "stream",
       "stream": "stdout",
       "text": [
        " 242\n",
        "skipped  7\n",
        "474649098\n",
        "original article tmp file "
       ]
      },
      {
       "output_type": "stream",
       "stream": "stdout",
       "text": [
        " /tmp/tmpXts4Ec.html\n",
        "/tmp/tmpplKc4P.html\n",
        "/tmp/tmpXts4Ec.html\n",
        "/tmp/tmpXts4Ec.html\n",
        "Now open file:///tmp/tmpplKc4P.html in your web browser\n"
       ]
      },
      {
       "output_type": "stream",
       "stream": "stdout",
       "text": [
        "\n",
        "processed "
       ]
      },
      {
       "output_type": "stream",
       "stream": "stdout",
       "text": [
        " 243\n",
        "skipped  7\n",
        "474891663\n",
        "original article tmp file "
       ]
      },
      {
       "output_type": "stream",
       "stream": "stdout",
       "text": [
        " /tmp/tmpUGeWxx.html\n",
        "/tmp/tmpvFtCFz.html\n",
        "/tmp/tmpUGeWxx.html\n",
        "/tmp/tmpUGeWxx.html\n",
        "Now open file:///tmp/tmpvFtCFz.html in your web browser\n"
       ]
      },
      {
       "output_type": "stream",
       "stream": "stdout",
       "text": [
        "\n",
        "processed "
       ]
      },
      {
       "output_type": "stream",
       "stream": "stdout",
       "text": [
        " 244\n",
        "skipped  7\n",
        "475232740\n",
        "original article tmp file "
       ]
      },
      {
       "output_type": "stream",
       "stream": "stdout",
       "text": [
        " /tmp/tmpxzwkYi.html\n",
        "/tmp/tmpFO4chl.html\n",
        "/tmp/tmpxzwkYi.html\n",
        "/tmp/tmpxzwkYi.html\n",
        "Now open file:///tmp/tmpFO4chl.html in your web browser\n"
       ]
      },
      {
       "output_type": "stream",
       "stream": "stdout",
       "text": [
        "\n",
        "processed "
       ]
      },
      {
       "output_type": "stream",
       "stream": "stdout",
       "text": [
        " 245\n",
        "skipped  7\n",
        "475489411\n",
        "original article tmp file "
       ]
      },
      {
       "output_type": "stream",
       "stream": "stdout",
       "text": [
        " /tmp/tmptYxbD4.html\n",
        "/tmp/tmpPqAasW.html\n",
        "/tmp/tmptYxbD4.html\n",
        "/tmp/tmptYxbD4.html\n",
        "Now open file:///tmp/tmpPqAasW.html in your web browser\n"
       ]
      },
      {
       "output_type": "stream",
       "stream": "stdout",
       "text": [
        "\n",
        "processed "
       ]
      },
      {
       "output_type": "stream",
       "stream": "stdout",
       "text": [
        " 246\n",
        "skipped  7\n",
        "475550192\n",
        "original article tmp file "
       ]
      },
      {
       "output_type": "stream",
       "stream": "stdout",
       "text": [
        " /tmp/tmpyZyce2.html\n",
        "/tmp/tmpBsH6vh.html\n",
        "/tmp/tmpyZyce2.html\n",
        "/tmp/tmpyZyce2.html\n",
        "Now open file:///tmp/tmpBsH6vh.html in your web browser\n"
       ]
      },
      {
       "output_type": "stream",
       "stream": "stdout",
       "text": [
        "\n",
        "processed "
       ]
      },
      {
       "output_type": "stream",
       "stream": "stdout",
       "text": [
        " 247\n",
        "skipped  7\n",
        "475842962\n",
        "original article tmp file "
       ]
      },
      {
       "output_type": "stream",
       "stream": "stdout",
       "text": [
        " /tmp/tmpsoDYiE.html\n",
        "/tmp/tmpPOpzwT.html\n",
        "/tmp/tmpsoDYiE.html\n",
        "/tmp/tmpsoDYiE.html\n",
        "Now open file:///tmp/tmpPOpzwT.html in your web browser\n"
       ]
      },
      {
       "output_type": "stream",
       "stream": "stdout",
       "text": [
        "\n",
        "processed "
       ]
      },
      {
       "output_type": "stream",
       "stream": "stdout",
       "text": [
        " 248\n",
        "skipped  7\n",
        "476050916\n",
        "original article tmp file "
       ]
      },
      {
       "output_type": "stream",
       "stream": "stdout",
       "text": [
        " /tmp/tmpTnhqwk.html\n",
        "/tmp/tmpRN8thI.html\n",
        "/tmp/tmpTnhqwk.html\n",
        "/tmp/tmpTnhqwk.html\n",
        "Now open file:///tmp/tmpRN8thI.html in your web browser\n"
       ]
      },
      {
       "output_type": "stream",
       "stream": "stdout",
       "text": [
        "\n",
        "processed "
       ]
      },
      {
       "output_type": "stream",
       "stream": "stdout",
       "text": [
        " 249\n",
        "skipped  7\n",
        "476079482\n",
        "original article tmp file "
       ]
      },
      {
       "output_type": "stream",
       "stream": "stdout",
       "text": [
        " /tmp/tmprr5yGU.html\n",
        "/tmp/tmpvrbPpF.html\n",
        "/tmp/tmprr5yGU.html\n",
        "/tmp/tmprr5yGU.html\n",
        "Now open file:///tmp/tmpvrbPpF.html in your web browser\n"
       ]
      },
      {
       "output_type": "stream",
       "stream": "stdout",
       "text": [
        "\n",
        "processed "
       ]
      },
      {
       "output_type": "stream",
       "stream": "stdout",
       "text": [
        " 250\n",
        "skipped  7\n",
        "476189164\n",
        "original article tmp file "
       ]
      },
      {
       "output_type": "stream",
       "stream": "stdout",
       "text": [
        " /tmp/tmpor_0bN.html\n",
        "/tmp/tmp185sGt.html\n",
        "/tmp/tmpor_0bN.html\n",
        "/tmp/tmpor_0bN.html\n",
        "Now open file:///tmp/tmp185sGt.html in your web browser\n"
       ]
      },
      {
       "output_type": "stream",
       "stream": "stdout",
       "text": [
        "\n",
        "processed "
       ]
      },
      {
       "output_type": "stream",
       "stream": "stdout",
       "text": [
        " 251\n",
        "skipped  7\n",
        "476365487\n",
        "original article tmp file "
       ]
      },
      {
       "output_type": "stream",
       "stream": "stdout",
       "text": [
        " /tmp/tmpaqxmEm.html\n",
        "/tmp/tmpiUiuYv.html\n",
        "/tmp/tmpaqxmEm.html\n",
        "/tmp/tmpaqxmEm.html\n",
        "Now open file:///tmp/tmpiUiuYv.html in your web browser\n"
       ]
      },
      {
       "output_type": "stream",
       "stream": "stdout",
       "text": [
        "\n",
        "processed "
       ]
      },
      {
       "output_type": "stream",
       "stream": "stdout",
       "text": [
        " 252\n",
        "skipped  7\n",
        "476850484\n",
        "original article tmp file "
       ]
      },
      {
       "output_type": "stream",
       "stream": "stdout",
       "text": [
        " /tmp/tmpDHsB0l.html\n",
        "/tmp/tmp73PKeQ.html\n",
        "/tmp/tmpDHsB0l.html\n",
        "/tmp/tmpDHsB0l.html\n",
        "Now open file:///tmp/tmp73PKeQ.html in your web browser\n"
       ]
      },
      {
       "output_type": "stream",
       "stream": "stdout",
       "text": [
        "\n",
        "processed "
       ]
      },
      {
       "output_type": "stream",
       "stream": "stdout",
       "text": [
        " 253\n",
        "skipped  7\n",
        "476936059\n",
        "original article tmp file "
       ]
      },
      {
       "output_type": "stream",
       "stream": "stdout",
       "text": [
        " /tmp/tmpAisjwJ.html\n",
        "/tmp/tmpfhIkfN.html\n",
        "/tmp/tmpAisjwJ.html\n",
        "/tmp/tmpAisjwJ.html\n",
        "Now open file:///tmp/tmpfhIkfN.html in your web browser\n"
       ]
      },
      {
       "output_type": "stream",
       "stream": "stdout",
       "text": [
        "\n",
        "processed "
       ]
      },
      {
       "output_type": "stream",
       "stream": "stdout",
       "text": [
        " 254\n",
        "skipped  7\n",
        "476962103\n",
        "original article tmp file "
       ]
      },
      {
       "output_type": "stream",
       "stream": "stdout",
       "text": [
        " /tmp/tmpRnqLSo.html\n",
        "/tmp/tmpHqf9l_.html\n",
        "/tmp/tmpRnqLSo.html\n",
        "/tmp/tmpRnqLSo.html\n",
        "Now open file:///tmp/tmpHqf9l_.html in your web browser\n"
       ]
      },
      {
       "output_type": "stream",
       "stream": "stdout",
       "text": [
        "\n",
        "processed "
       ]
      },
      {
       "output_type": "stream",
       "stream": "stdout",
       "text": [
        " 255\n",
        "skipped  7\n",
        "477126381\n",
        "original article tmp file "
       ]
      },
      {
       "output_type": "stream",
       "stream": "stdout",
       "text": [
        " /tmp/tmpYDBXvW.html\n",
        "/tmp/tmpGVzpZO.html\n",
        "/tmp/tmpYDBXvW.html\n",
        "/tmp/tmpYDBXvW.html\n",
        "Now open file:///tmp/tmpGVzpZO.html in your web browser\n"
       ]
      },
      {
       "output_type": "stream",
       "stream": "stdout",
       "text": [
        "\n",
        "processed "
       ]
      },
      {
       "output_type": "stream",
       "stream": "stdout",
       "text": [
        " 256\n",
        "skipped  7\n",
        "477171081\n",
        "original article tmp file "
       ]
      },
      {
       "output_type": "stream",
       "stream": "stdout",
       "text": [
        " /tmp/tmpJ5XJYZ.html\n",
        "/tmp/tmpfbj2Mp.html\n",
        "/tmp/tmpJ5XJYZ.html\n",
        "/tmp/tmpJ5XJYZ.html\n",
        "Now open file:///tmp/tmpfbj2Mp.html in your web browser\n"
       ]
      },
      {
       "output_type": "stream",
       "stream": "stdout",
       "text": [
        "\n",
        "processed "
       ]
      },
      {
       "output_type": "stream",
       "stream": "stdout",
       "text": [
        " 257\n",
        "skipped  7\n",
        "477673129\n",
        "original article tmp file "
       ]
      },
      {
       "output_type": "stream",
       "stream": "stdout",
       "text": [
        " /tmp/tmpRKRG6W.html\n",
        "/tmp/tmpTmvoGp.html\n",
        "/tmp/tmpRKRG6W.html\n",
        "/tmp/tmpRKRG6W.html\n",
        "Now open file:///tmp/tmpTmvoGp.html in your web browser\n"
       ]
      },
      {
       "output_type": "stream",
       "stream": "stdout",
       "text": [
        "\n",
        "processed "
       ]
      },
      {
       "output_type": "stream",
       "stream": "stdout",
       "text": [
        " 258\n",
        "skipped  7\n",
        "477798748\n",
        "original article tmp file "
       ]
      },
      {
       "output_type": "stream",
       "stream": "stdout",
       "text": [
        " /tmp/tmpGbxFU1.html\n",
        "/tmp/tmpvnHKve.html\n",
        "/tmp/tmpGbxFU1.html\n",
        "/tmp/tmpGbxFU1.html\n",
        "Now open file:///tmp/tmpvnHKve.html in your web browser\n"
       ]
      },
      {
       "output_type": "stream",
       "stream": "stdout",
       "text": [
        "\n",
        "processed "
       ]
      },
      {
       "output_type": "stream",
       "stream": "stdout",
       "text": [
        " 259\n",
        "skipped  7\n",
        "477850182\n",
        "original article tmp file "
       ]
      },
      {
       "output_type": "stream",
       "stream": "stdout",
       "text": [
        " /tmp/tmpIOLwN4.html\n",
        "/tmp/tmp04UkPw.html\n",
        "/tmp/tmpIOLwN4.html\n",
        "/tmp/tmpIOLwN4.html\n",
        "Now open file:///tmp/tmp04UkPw.html in your web browser\n"
       ]
      },
      {
       "output_type": "stream",
       "stream": "stdout",
       "text": [
        "\n",
        "processed "
       ]
      },
      {
       "output_type": "stream",
       "stream": "stdout",
       "text": [
        " 260\n",
        "skipped  7\n",
        "478307074\n",
        "original article tmp file "
       ]
      },
      {
       "output_type": "stream",
       "stream": "stdout",
       "text": [
        " /tmp/tmpz_5m7t.html\n",
        "/tmp/tmpqPAkha.html\n",
        "/tmp/tmpz_5m7t.html\n",
        "/tmp/tmpz_5m7t.html\n",
        "Now open file:///tmp/tmpqPAkha.html in your web browser\n"
       ]
      },
      {
       "output_type": "stream",
       "stream": "stdout",
       "text": [
        "\n",
        "processed "
       ]
      },
      {
       "output_type": "stream",
       "stream": "stdout",
       "text": [
        " 261\n",
        "skipped  7\n",
        "478793359\n",
        "original article tmp file "
       ]
      },
      {
       "output_type": "stream",
       "stream": "stdout",
       "text": [
        " /tmp/tmp8CyIwb.html\n",
        "/tmp/tmpJh0o7d.html\n",
        "/tmp/tmp8CyIwb.html\n",
        "/tmp/tmp8CyIwb.html\n",
        "Now open file:///tmp/tmpJh0o7d.html in your web browser\n"
       ]
      },
      {
       "output_type": "stream",
       "stream": "stdout",
       "text": [
        "\n",
        "processed "
       ]
      },
      {
       "output_type": "stream",
       "stream": "stdout",
       "text": [
        " 262\n",
        "skipped  7\n",
        "479262110\n",
        "original article tmp file "
       ]
      },
      {
       "output_type": "stream",
       "stream": "stdout",
       "text": [
        " /tmp/tmp9ZCdIc.html\n",
        "/tmp/tmp_46mil.html\n",
        "/tmp/tmp9ZCdIc.html\n",
        "/tmp/tmp9ZCdIc.html\n",
        "Now open file:///tmp/tmp_46mil.html in your web browser\n"
       ]
      },
      {
       "output_type": "stream",
       "stream": "stdout",
       "text": [
        "\n",
        "processed "
       ]
      },
      {
       "output_type": "stream",
       "stream": "stdout",
       "text": [
        " 263\n",
        "skipped  7\n",
        "479410656\n",
        "original article tmp file "
       ]
      },
      {
       "output_type": "stream",
       "stream": "stdout",
       "text": [
        " /tmp/tmp5i3VI9.html\n",
        "/tmp/tmpA0tpEi.html\n",
        "/tmp/tmp5i3VI9.html\n",
        "/tmp/tmp5i3VI9.html\n",
        "Now open file:///tmp/tmpA0tpEi.html in your web browser\n"
       ]
      },
      {
       "output_type": "stream",
       "stream": "stdout",
       "text": [
        "\n",
        "processed "
       ]
      },
      {
       "output_type": "stream",
       "stream": "stdout",
       "text": [
        " 264\n",
        "skipped  7\n",
        "480072496\n",
        "original article tmp file "
       ]
      },
      {
       "output_type": "stream",
       "stream": "stdout",
       "text": [
        " /tmp/tmpRoPZu4.html\n",
        "/tmp/tmp8pKm10.html\n",
        "/tmp/tmpRoPZu4.html\n",
        "/tmp/tmpRoPZu4.html\n",
        "Now open file:///tmp/tmp8pKm10.html in your web browser\n"
       ]
      },
      {
       "output_type": "stream",
       "stream": "stdout",
       "text": [
        "\n",
        "processed "
       ]
      },
      {
       "output_type": "stream",
       "stream": "stdout",
       "text": [
        " 265\n",
        "skipped  7\n",
        "480080971\n",
        "original article tmp file "
       ]
      },
      {
       "output_type": "stream",
       "stream": "stdout",
       "text": [
        " /tmp/tmp960zz8.html\n",
        "/tmp/tmpssWwWw.html\n",
        "/tmp/tmp960zz8.html\n",
        "/tmp/tmp960zz8.html\n",
        "Now open file:///tmp/tmpssWwWw.html in your web browser\n"
       ]
      },
      {
       "output_type": "stream",
       "stream": "stdout",
       "text": [
        "\n",
        "processed "
       ]
      },
      {
       "output_type": "stream",
       "stream": "stdout",
       "text": [
        " 266\n",
        "skipped  7\n",
        "480850060\n",
        "original article tmp file "
       ]
      },
      {
       "output_type": "stream",
       "stream": "stdout",
       "text": [
        " /tmp/tmpHJBimd.html\n",
        "/tmp/tmpFyXVDG.html\n",
        "/tmp/tmpHJBimd.html\n",
        "/tmp/tmpHJBimd.html\n",
        "Now open file:///tmp/tmpFyXVDG.html in your web browser\n"
       ]
      },
      {
       "output_type": "stream",
       "stream": "stdout",
       "text": [
        "\n",
        "processed "
       ]
      },
      {
       "output_type": "stream",
       "stream": "stdout",
       "text": [
        " 267\n",
        "skipped  7\n",
        "480965210\n",
        "original article tmp file "
       ]
      },
      {
       "output_type": "stream",
       "stream": "stdout",
       "text": [
        " /tmp/tmpbVZY3B.html\n",
        "/tmp/tmp1fI4et.html\n",
        "/tmp/tmpbVZY3B.html\n",
        "/tmp/tmpbVZY3B.html\n",
        "Now open file:///tmp/tmp1fI4et.html in your web browser\n"
       ]
      },
      {
       "output_type": "stream",
       "stream": "stdout",
       "text": [
        "\n",
        "processed "
       ]
      },
      {
       "output_type": "stream",
       "stream": "stdout",
       "text": [
        " 268\n",
        "skipped  7\n",
        "481064362\n",
        "original article tmp file "
       ]
      },
      {
       "output_type": "stream",
       "stream": "stdout",
       "text": [
        " /tmp/tmpLHL3Yy.html\n",
        "/tmp/tmpD5NCo4.html\n",
        "/tmp/tmpLHL3Yy.html\n",
        "/tmp/tmpLHL3Yy.html\n",
        "Now open file:///tmp/tmpD5NCo4.html in your web browser\n"
       ]
      },
      {
       "output_type": "stream",
       "stream": "stdout",
       "text": [
        "\n",
        "processed "
       ]
      },
      {
       "output_type": "stream",
       "stream": "stdout",
       "text": [
        " 269\n",
        "skipped  7\n",
        "481747325\n",
        "original article tmp file "
       ]
      },
      {
       "output_type": "stream",
       "stream": "stdout",
       "text": [
        " /tmp/tmpbT0ZsJ.html\n",
        "/tmp/tmprpvyDo.html\n",
        "/tmp/tmpbT0ZsJ.html\n",
        "/tmp/tmpbT0ZsJ.html\n",
        "Now open file:///tmp/tmprpvyDo.html in your web browser\n"
       ]
      },
      {
       "output_type": "stream",
       "stream": "stdout",
       "text": [
        "\n",
        "processed "
       ]
      },
      {
       "output_type": "stream",
       "stream": "stdout",
       "text": [
        " 270\n",
        "skipped  7\n",
        "481956983\n",
        "original article tmp file "
       ]
      },
      {
       "output_type": "stream",
       "stream": "stdout",
       "text": [
        " /tmp/tmpMaEZjY.html\n",
        "/tmp/tmpJ9C2Ej.html\n",
        "/tmp/tmpMaEZjY.html\n",
        "/tmp/tmpMaEZjY.html\n",
        "Now open file:///tmp/tmpJ9C2Ej.html in your web browser\n"
       ]
      },
      {
       "output_type": "stream",
       "stream": "stdout",
       "text": [
        "\n",
        "processed "
       ]
      },
      {
       "output_type": "stream",
       "stream": "stdout",
       "text": [
        " 271\n",
        "skipped  7\n",
        "481995599\n",
        "original article tmp file "
       ]
      },
      {
       "output_type": "stream",
       "stream": "stdout",
       "text": [
        " /tmp/tmp2I6iR7.html\n",
        "/tmp/tmpxnrsx7.html\n",
        "/tmp/tmp2I6iR7.html\n",
        "/tmp/tmp2I6iR7.html\n",
        "Now open file:///tmp/tmpxnrsx7.html in your web browser\n"
       ]
      },
      {
       "output_type": "stream",
       "stream": "stdout",
       "text": [
        "\n",
        "processed "
       ]
      },
      {
       "output_type": "stream",
       "stream": "stdout",
       "text": [
        " 272\n",
        "skipped  7\n",
        "482339280\n",
        "original article tmp file "
       ]
      },
      {
       "output_type": "stream",
       "stream": "stdout",
       "text": [
        " /tmp/tmpgSKZ7A.html\n",
        "/tmp/tmpo4xZpf.html\n",
        "/tmp/tmpgSKZ7A.html\n",
        "/tmp/tmpgSKZ7A.html\n",
        "Now open file:///tmp/tmpo4xZpf.html in your web browser\n"
       ]
      },
      {
       "output_type": "stream",
       "stream": "stdout",
       "text": [
        "\n",
        "processed "
       ]
      },
      {
       "output_type": "stream",
       "stream": "stdout",
       "text": [
        " 273\n",
        "skipped  7\n",
        "482455316\n",
        "original article tmp file "
       ]
      },
      {
       "output_type": "stream",
       "stream": "stdout",
       "text": [
        " /tmp/tmpsGC6og.html\n",
        "/tmp/tmpFy_IPN.html\n",
        "/tmp/tmpsGC6og.html\n",
        "/tmp/tmpsGC6og.html\n",
        "Now open file:///tmp/tmpFy_IPN.html in your web browser\n"
       ]
      },
      {
       "output_type": "stream",
       "stream": "stdout",
       "text": [
        "\n",
        "processed "
       ]
      },
      {
       "output_type": "stream",
       "stream": "stdout",
       "text": [
        " 274\n",
        "skipped  7\n",
        "482905957\n",
        "original article tmp file "
       ]
      },
      {
       "output_type": "stream",
       "stream": "stdout",
       "text": [
        " /tmp/tmpcji4Xk.html\n",
        "/tmp/tmpv6DT_E.html\n",
        "/tmp/tmpcji4Xk.html\n",
        "/tmp/tmpcji4Xk.html\n",
        "Now open file:///tmp/tmpv6DT_E.html in your web browser\n"
       ]
      },
      {
       "output_type": "stream",
       "stream": "stdout",
       "text": [
        "\n",
        "processed "
       ]
      },
      {
       "output_type": "stream",
       "stream": "stdout",
       "text": [
        " 275\n",
        "skipped  7\n",
        "483167965\n",
        "original article tmp file "
       ]
      },
      {
       "output_type": "stream",
       "stream": "stdout",
       "text": [
        " /tmp/tmpQKB60v.html\n",
        "/tmp/tmpDQNfkT.html\n",
        "/tmp/tmpQKB60v.html\n",
        "/tmp/tmpQKB60v.html\n",
        "Now open file:///tmp/tmpDQNfkT.html in your web browser\n"
       ]
      },
      {
       "output_type": "stream",
       "stream": "stdout",
       "text": [
        "\n",
        "processed "
       ]
      },
      {
       "output_type": "stream",
       "stream": "stdout",
       "text": [
        " 276\n",
        "skipped  7\n",
        "483933348\n",
        "original article tmp file "
       ]
      },
      {
       "output_type": "stream",
       "stream": "stdout",
       "text": [
        " /tmp/tmp9EPdsG.html\n",
        "/tmp/tmpVxqE89.html\n",
        "/tmp/tmp9EPdsG.html\n",
        "/tmp/tmp9EPdsG.html\n",
        "Now open file:///tmp/tmpVxqE89.html in your web browser\n"
       ]
      },
      {
       "output_type": "stream",
       "stream": "stdout",
       "text": [
        "\n",
        "processed "
       ]
      },
      {
       "output_type": "stream",
       "stream": "stdout",
       "text": [
        " 277\n",
        "skipped  7\n",
        "484173730\n",
        "original article tmp file "
       ]
      },
      {
       "output_type": "stream",
       "stream": "stdout",
       "text": [
        " /tmp/tmpWKsbgZ.html\n",
        "/tmp/tmpqufU08.html\n",
        "/tmp/tmpWKsbgZ.html\n",
        "/tmp/tmpWKsbgZ.html\n",
        "Now open file:///tmp/tmpqufU08.html in your web browser\n"
       ]
      },
      {
       "output_type": "stream",
       "stream": "stdout",
       "text": [
        "\n",
        "processed "
       ]
      },
      {
       "output_type": "stream",
       "stream": "stdout",
       "text": [
        " 278\n",
        "skipped  7\n",
        "484469651\n",
        "original article tmp file "
       ]
      },
      {
       "output_type": "stream",
       "stream": "stdout",
       "text": [
        " /tmp/tmpUBEzN_.html\n",
        "/tmp/tmpTgiO8z.html\n",
        "/tmp/tmpUBEzN_.html\n",
        "/tmp/tmpUBEzN_.html\n",
        "Now open file:///tmp/tmpTgiO8z.html in your web browser\n"
       ]
      },
      {
       "output_type": "stream",
       "stream": "stdout",
       "text": [
        "\n",
        "processed "
       ]
      },
      {
       "output_type": "stream",
       "stream": "stdout",
       "text": [
        " 279\n",
        "skipped  7\n",
        "485257678\n",
        "original article tmp file "
       ]
      },
      {
       "output_type": "stream",
       "stream": "stdout",
       "text": [
        " /tmp/tmpZWKkU5.html\n",
        "/tmp/tmpgXs_a6.html\n",
        "/tmp/tmpZWKkU5.html\n",
        "/tmp/tmpZWKkU5.html\n",
        "Now open file:///tmp/tmpgXs_a6.html in your web browser\n"
       ]
      },
      {
       "output_type": "stream",
       "stream": "stdout",
       "text": [
        "\n",
        "processed "
       ]
      },
      {
       "output_type": "stream",
       "stream": "stdout",
       "text": [
        " 280\n",
        "skipped  7\n",
        "485289153\n",
        "original article tmp file "
       ]
      },
      {
       "output_type": "stream",
       "stream": "stdout",
       "text": [
        " /tmp/tmp6nvKGq.html\n",
        "/tmp/tmp5PIdjK.html\n",
        "/tmp/tmp6nvKGq.html\n",
        "/tmp/tmp6nvKGq.html\n",
        "Now open file:///tmp/tmp5PIdjK.html in your web browser\n"
       ]
      },
      {
       "output_type": "stream",
       "stream": "stdout",
       "text": [
        "\n",
        "processed "
       ]
      },
      {
       "output_type": "stream",
       "stream": "stdout",
       "text": [
        " 281\n",
        "skipped  7\n",
        "485312050\n",
        "original article tmp file "
       ]
      },
      {
       "output_type": "stream",
       "stream": "stdout",
       "text": [
        " /tmp/tmpET8pfZ.html\n",
        "/tmp/tmpzBFVg4.html\n",
        "/tmp/tmpET8pfZ.html\n",
        "/tmp/tmpET8pfZ.html\n",
        "Now open file:///tmp/tmpzBFVg4.html in your web browser\n"
       ]
      },
      {
       "output_type": "stream",
       "stream": "stdout",
       "text": [
        "\n",
        "processed "
       ]
      },
      {
       "output_type": "stream",
       "stream": "stdout",
       "text": [
        " 282\n",
        "skipped  7\n",
        "485772601\n",
        "original article tmp file "
       ]
      },
      {
       "output_type": "stream",
       "stream": "stdout",
       "text": [
        " /tmp/tmpsFJAQN.html\n",
        "/tmp/tmpdNtFpR.html\n",
        "/tmp/tmpsFJAQN.html\n",
        "/tmp/tmpsFJAQN.html\n",
        "Now open file:///tmp/tmpdNtFpR.html in your web browser\n"
       ]
      },
      {
       "output_type": "stream",
       "stream": "stdout",
       "text": [
        "\n",
        "processed "
       ]
      },
      {
       "output_type": "stream",
       "stream": "stdout",
       "text": [
        " 283\n",
        "skipped  7\n",
        "485874387\n",
        "original article tmp file "
       ]
      },
      {
       "output_type": "stream",
       "stream": "stdout",
       "text": [
        " /tmp/tmpTgNpuZ.html\n",
        "/tmp/tmpy8k0Uz.html\n",
        "/tmp/tmpTgNpuZ.html\n",
        "/tmp/tmpTgNpuZ.html\n",
        "Now open file:///tmp/tmpy8k0Uz.html in your web browser\n"
       ]
      },
      {
       "output_type": "stream",
       "stream": "stdout",
       "text": [
        "\n",
        "processed "
       ]
      },
      {
       "output_type": "stream",
       "stream": "stdout",
       "text": [
        " 284\n",
        "skipped  7\n",
        "486956929\n",
        "original article tmp file "
       ]
      },
      {
       "output_type": "stream",
       "stream": "stdout",
       "text": [
        " /tmp/tmp8bKAcL.html\n",
        "/tmp/tmpaBFWjl.html\n",
        "/tmp/tmp8bKAcL.html\n",
        "/tmp/tmp8bKAcL.html\n",
        "Now open file:///tmp/tmpaBFWjl.html in your web browser\n"
       ]
      },
      {
       "output_type": "stream",
       "stream": "stdout",
       "text": [
        "\n",
        "processed  285\n",
        "skipped  7\n",
        "486963918\n",
        "original article tmp file "
       ]
      },
      {
       "output_type": "stream",
       "stream": "stdout",
       "text": [
        " /tmp/tmpW3f5Ls.html\n",
        "/tmp/tmpyIqr1j.html\n",
        "/tmp/tmpW3f5Ls.html\n",
        "/tmp/tmpW3f5Ls.html\n",
        "Now open file:///tmp/tmpyIqr1j.html in your web browser\n"
       ]
      },
      {
       "output_type": "stream",
       "stream": "stdout",
       "text": [
        "\n",
        "processed "
       ]
      },
      {
       "output_type": "stream",
       "stream": "stdout",
       "text": [
        " 286\n",
        "skipped  7\n",
        "486975782\n",
        "original article tmp file "
       ]
      },
      {
       "output_type": "stream",
       "stream": "stdout",
       "text": [
        " /tmp/tmpQdcv_Q.html\n",
        "/tmp/tmpd1Swv8.html\n",
        "/tmp/tmpQdcv_Q.html\n",
        "/tmp/tmpQdcv_Q.html\n",
        "Now open file:///tmp/tmpd1Swv8.html in your web browser\n"
       ]
      },
      {
       "output_type": "stream",
       "stream": "stdout",
       "text": [
        "\n",
        "Unexpected error on string '</a>\n",
        "'"
       ]
      },
      {
       "output_type": "stream",
       "stream": "stdout",
       "text": [
        " <class 'lxml.etree.ParserError'>\n",
        "Unexpected error on string '</p>\n",
        "' <class 'lxml.etree.ParserError'>\n",
        "Unexpected error on string '</div>\n",
        "' <class 'lxml.etree.ParserError'>\n",
        "Unexpected error on string '</a>\n",
        "' <class 'lxml.etree.ParserError'>\n",
        "Unexpected error on string '</a>' <class 'lxml.etree.ParserError'>\n",
        "Unexpected error on string '</h2>\n",
        "' <class 'lxml.etree.ParserError'>\n",
        "Unexpected error on string '</a>' <class 'lxml.etree.ParserError'>\n",
        "Unexpected error on string '</p>\n",
        "' <class 'lxml.etree.ParserError'>\n",
        "Unexpected error on string '</a>' <class 'lxml.etree.ParserError'>\n",
        "Unexpected error on string '</p>\n",
        "' <class 'lxml.etree.ParserError'>\n",
        "Unexpected error on string '</div>\n",
        "' <class 'lxml.etree.ParserError'>\n",
        "Unexpected error on string '</div>\n",
        "' <class 'lxml.etree.ParserError'>\n",
        "Unexpected error on string '</div>\n",
        "' <class 'lxml.etree.ParserError'>\n",
        "Unexpected error on string '</a>\n",
        "'"
       ]
      },
      {
       "output_type": "stream",
       "stream": "stdout",
       "text": [
        " <class 'lxml.etree.ParserError'>\n",
        "Unexpected error on string '</p>\n",
        "' <class 'lxml.etree.ParserError'>\n",
        "Unexpected error on string '</div>\n",
        "' <class 'lxml.etree.ParserError'>\n",
        "Unexpected error on string '</a>\n",
        "' <class 'lxml.etree.ParserError'>\n",
        "Unexpected error on string '</a>' <class 'lxml.etree.ParserError'>\n",
        "Unexpected error on string '</h2>\n",
        "' <class 'lxml.etree.ParserError'>\n",
        "Unexpected error on string '</a>' <class 'lxml.etree.ParserError'>\n",
        "Unexpected error on string '</p>\n",
        "' <class 'lxml.etree.ParserError'>\n",
        "Unexpected error on string '</a>' <class 'lxml.etree.ParserError'>\n",
        "Unexpected error on string '</p>\n",
        "' <class 'lxml.etree.ParserError'>\n",
        "Unexpected error on string '</div>\n",
        "' <class 'lxml.etree.ParserError'>\n",
        "Unexpected error on string '</div>\n",
        "' <class 'lxml.etree.ParserError'>\n",
        "Unexpected error on string '</div>\n",
        "' <class 'lxml.etree.ParserError'>\n",
        "processed "
       ]
      },
      {
       "output_type": "stream",
       "stream": "stdout",
       "text": [
        " 287\n",
        "skipped  7\n",
        "487099193\n",
        "original article tmp file "
       ]
      },
      {
       "output_type": "stream",
       "stream": "stdout",
       "text": [
        " /tmp/tmpUwkXod.html\n",
        "/tmp/tmp0z4PPD.html\n",
        "/tmp/tmpUwkXod.html\n",
        "/tmp/tmpUwkXod.html\n",
        "Now open file:///tmp/tmp0z4PPD.html in your web browser\n"
       ]
      },
      {
       "output_type": "stream",
       "stream": "stdout",
       "text": [
        "\n",
        "processed "
       ]
      },
      {
       "output_type": "stream",
       "stream": "stdout",
       "text": [
        " 288\n",
        "skipped  7\n",
        "487930345\n",
        "original article tmp file "
       ]
      },
      {
       "output_type": "stream",
       "stream": "stdout",
       "text": [
        " /tmp/tmpiZQGHq.html\n",
        "/tmp/tmpzjeGbG.html\n",
        "/tmp/tmpiZQGHq.html\n",
        "/tmp/tmpiZQGHq.html\n",
        "Now open file:///tmp/tmpzjeGbG.html in your web browser\n"
       ]
      },
      {
       "output_type": "stream",
       "stream": "stdout",
       "text": [
        "\n",
        "processed "
       ]
      },
      {
       "output_type": "stream",
       "stream": "stdout",
       "text": [
        " 289\n",
        "skipped  7\n",
        "487938684\n",
        "original article tmp file "
       ]
      },
      {
       "output_type": "stream",
       "stream": "stdout",
       "text": [
        " /tmp/tmpWtCc7P.html\n",
        "/tmp/tmpmlxo1e.html\n",
        "/tmp/tmpWtCc7P.html\n",
        "/tmp/tmpWtCc7P.html\n",
        "Now open file:///tmp/tmpmlxo1e.html in your web browser\n"
       ]
      },
      {
       "output_type": "stream",
       "stream": "stdout",
       "text": [
        "\n",
        "processed "
       ]
      },
      {
       "output_type": "stream",
       "stream": "stdout",
       "text": [
        " 290\n",
        "skipped  7\n",
        "488325235\n",
        "original article tmp file "
       ]
      },
      {
       "output_type": "stream",
       "stream": "stdout",
       "text": [
        " /tmp/tmpVFV_Pa.html\n",
        "/tmp/tmpM6lTa_.html\n",
        "/tmp/tmpVFV_Pa.html\n",
        "/tmp/tmpVFV_Pa.html\n",
        "Now open file:///tmp/tmpM6lTa_.html in your web browser\n"
       ]
      },
      {
       "output_type": "stream",
       "stream": "stdout",
       "text": [
        "\n",
        "processed "
       ]
      },
      {
       "output_type": "stream",
       "stream": "stdout",
       "text": [
        " 291\n",
        "skipped  7\n",
        "489427373\n",
        "original article tmp file "
       ]
      },
      {
       "output_type": "stream",
       "stream": "stdout",
       "text": [
        " /tmp/tmpHxdgp8.html\n",
        "/tmp/tmpg8Vya7.html\n",
        "/tmp/tmpHxdgp8.html\n",
        "/tmp/tmpHxdgp8.html\n",
        "Now open file:///tmp/tmpg8Vya7.html in your web browser\n"
       ]
      },
      {
       "output_type": "stream",
       "stream": "stdout",
       "text": [
        "\n",
        "processed "
       ]
      },
      {
       "output_type": "stream",
       "stream": "stdout",
       "text": [
        " 292\n",
        "skipped  7\n",
        "489785301\n",
        "original article tmp file "
       ]
      },
      {
       "output_type": "stream",
       "stream": "stdout",
       "text": [
        " /tmp/tmppEFpEr.html\n",
        "/tmp/tmpYBHEPg.html\n",
        "/tmp/tmppEFpEr.html\n",
        "/tmp/tmppEFpEr.html\n",
        "Now open file:///tmp/tmpYBHEPg.html in your web browser\n"
       ]
      },
      {
       "output_type": "stream",
       "stream": "stdout",
       "text": [
        "\n",
        "processed "
       ]
      },
      {
       "output_type": "stream",
       "stream": "stdout",
       "text": [
        " 293\n",
        "skipped  7\n",
        "490000422\n",
        "original article tmp file "
       ]
      },
      {
       "output_type": "stream",
       "stream": "stdout",
       "text": [
        " /tmp/tmptllmPf.html\n",
        "/tmp/tmpDwEey7.html\n",
        "/tmp/tmptllmPf.html\n",
        "/tmp/tmptllmPf.html\n",
        "Now open file:///tmp/tmpDwEey7.html in your web browser\n"
       ]
      },
      {
       "output_type": "stream",
       "stream": "stdout",
       "text": [
        "\n",
        "processed "
       ]
      },
      {
       "output_type": "stream",
       "stream": "stdout",
       "text": [
        " 294\n",
        "skipped  7\n",
        "491390357\n",
        "original article tmp file "
       ]
      },
      {
       "output_type": "stream",
       "stream": "stdout",
       "text": [
        " /tmp/tmpTi7BAz.html\n",
        "/tmp/tmpoKAp0F.html\n",
        "/tmp/tmpTi7BAz.html\n",
        "/tmp/tmpTi7BAz.html\n",
        "Now open file:///tmp/tmpoKAp0F.html in your web browser\n"
       ]
      },
      {
       "output_type": "stream",
       "stream": "stdout",
       "text": [
        "\n",
        "processed "
       ]
      },
      {
       "output_type": "stream",
       "stream": "stdout",
       "text": [
        " 295\n",
        "skipped  7\n",
        "491394627\n",
        "original article tmp file "
       ]
      },
      {
       "output_type": "stream",
       "stream": "stdout",
       "text": [
        " /tmp/tmpsZtnij.html\n",
        "/tmp/tmprge0Ca.html\n",
        "/tmp/tmpsZtnij.html\n",
        "/tmp/tmpsZtnij.html\n",
        "Now open file:///tmp/tmprge0Ca.html in your web browser\n"
       ]
      },
      {
       "output_type": "stream",
       "stream": "stdout",
       "text": [
        "\n",
        "processed "
       ]
      },
      {
       "output_type": "stream",
       "stream": "stdout",
       "text": [
        " 296\n",
        "skipped  7\n",
        "491580307\n",
        "original article tmp file "
       ]
      },
      {
       "output_type": "stream",
       "stream": "stdout",
       "text": [
        " /tmp/tmpDwtvxB.html\n",
        "/tmp/tmpiUwib2.html\n",
        "/tmp/tmpDwtvxB.html\n",
        "/tmp/tmpDwtvxB.html\n",
        "Now open file:///tmp/tmpiUwib2.html in your web browser\n"
       ]
      },
      {
       "output_type": "stream",
       "stream": "stdout",
       "text": [
        "\n",
        "processed "
       ]
      },
      {
       "output_type": "stream",
       "stream": "stdout",
       "text": [
        " 297\n",
        "skipped  7\n",
        "491868589\n",
        "original article tmp file "
       ]
      },
      {
       "output_type": "stream",
       "stream": "stdout",
       "text": [
        " /tmp/tmpSATnkz.html\n",
        "/tmp/tmpYX5bwM.html\n",
        "/tmp/tmpSATnkz.html\n",
        "/tmp/tmpSATnkz.html\n",
        "Now open file:///tmp/tmpYX5bwM.html in your web browser\n"
       ]
      },
      {
       "output_type": "stream",
       "stream": "stdout",
       "text": [
        "\n",
        "processed "
       ]
      },
      {
       "output_type": "stream",
       "stream": "stdout",
       "text": [
        " 298\n",
        "skipped  7\n",
        "492035281\n",
        "original article tmp file "
       ]
      },
      {
       "output_type": "stream",
       "stream": "stdout",
       "text": [
        " /tmp/tmpRgVi13.html\n",
        "/tmp/tmpttZRVE.html\n",
        "/tmp/tmpRgVi13.html\n",
        "/tmp/tmpRgVi13.html\n",
        "Now open file:///tmp/tmpttZRVE.html in your web browser\n"
       ]
      },
      {
       "output_type": "stream",
       "stream": "stdout",
       "text": [
        "\n",
        "processed "
       ]
      },
      {
       "output_type": "stream",
       "stream": "stdout",
       "text": [
        " 299\n",
        "skipped  7\n",
        "492212969\n",
        "original article tmp file "
       ]
      },
      {
       "output_type": "stream",
       "stream": "stdout",
       "text": [
        " /tmp/tmpwaJJKz.html\n",
        "/tmp/tmpkCCWVf.html\n",
        "/tmp/tmpwaJJKz.html\n",
        "/tmp/tmpwaJJKz.html\n",
        "Now open file:///tmp/tmpkCCWVf.html in your web browser\n"
       ]
      },
      {
       "output_type": "stream",
       "stream": "stdout",
       "text": [
        "\n",
        "processed "
       ]
      },
      {
       "output_type": "stream",
       "stream": "stdout",
       "text": [
        " 300\n",
        "skipped  7\n",
        "492220330\n",
        "original article tmp file "
       ]
      },
      {
       "output_type": "stream",
       "stream": "stdout",
       "text": [
        " /tmp/tmpsTqDhi.html\n",
        "/tmp/tmp5Ej3Z2.html\n",
        "/tmp/tmpsTqDhi.html\n",
        "/tmp/tmpsTqDhi.html\n",
        "Now open file:///tmp/tmp5Ej3Z2.html in your web browser\n"
       ]
      },
      {
       "output_type": "stream",
       "stream": "stdout",
       "text": [
        "\n",
        "processed "
       ]
      },
      {
       "output_type": "stream",
       "stream": "stdout",
       "text": [
        " 301\n",
        "skipped  7\n",
        "492825637\n",
        "original article tmp file "
       ]
      },
      {
       "output_type": "stream",
       "stream": "stdout",
       "text": [
        " /tmp/tmp1jN770.html\n",
        "/tmp/tmp4AEM4T.html\n",
        "/tmp/tmp1jN770.html\n",
        "/tmp/tmp1jN770.html\n",
        "Now open file:///tmp/tmp4AEM4T.html in your web browser\n"
       ]
      },
      {
       "output_type": "stream",
       "stream": "stdout",
       "text": [
        "\n",
        "processed "
       ]
      },
      {
       "output_type": "stream",
       "stream": "stdout",
       "text": [
        " 302\n",
        "skipped  7\n",
        "492998487\n",
        "original article tmp file "
       ]
      },
      {
       "output_type": "stream",
       "stream": "stdout",
       "text": [
        " /tmp/tmprob1Hk.html\n",
        "/tmp/tmpYP6uNZ.html\n",
        "/tmp/tmprob1Hk.html\n",
        "/tmp/tmprob1Hk.html\n",
        "Now open file:///tmp/tmpYP6uNZ.html in your web browser\n"
       ]
      },
      {
       "output_type": "stream",
       "stream": "stdout",
       "text": [
        "\n",
        "Unexpected error on string '</a>\n",
        "'"
       ]
      },
      {
       "output_type": "stream",
       "stream": "stdout",
       "text": [
        " <class 'lxml.etree.ParserError'>\n",
        "Unexpected error on string '</p>\n",
        "' <class 'lxml.etree.ParserError'>\n",
        "Unexpected error on string '</div>\n",
        "' <class 'lxml.etree.ParserError'>\n",
        "Unexpected error on string '</a>\n",
        "' <class 'lxml.etree.ParserError'>\n",
        "Unexpected error on string '</a>' <class 'lxml.etree.ParserError'>\n",
        "Unexpected error on string '</h2>\n",
        "' <class 'lxml.etree.ParserError'>\n",
        "Unexpected error on string '</a>' <class 'lxml.etree.ParserError'>\n",
        "Unexpected error on string '</p>\n",
        "' <class 'lxml.etree.ParserError'>\n",
        "Unexpected error on string '</a>' <class 'lxml.etree.ParserError'>\n",
        "Unexpected error on string '</p>\n",
        "' <class 'lxml.etree.ParserError'>\n",
        "Unexpected error on string '</div>\n",
        "' <class 'lxml.etree.ParserError'>\n",
        "Unexpected error on string '</div>\n",
        "' <class 'lxml.etree.ParserError'>\n",
        "Unexpected error on string '</div>\n",
        "' <class 'lxml.etree.ParserError'>\n",
        "Unexpected error on string '</a>\n",
        "' <class 'lxml.etree.ParserError'>\n",
        "Unexpected error on string '</p>\n",
        "' <class 'lxml.etree.ParserError'>\n",
        "Unexpected error on string '</div>\n",
        "' <class 'lxml.etree.ParserError'>\n",
        "Unexpected error on string '</a>\n",
        "' <class 'lxml.etree.ParserError'>\n",
        "Unexpected error on string '</a>' <class 'lxml.etree.ParserError'>\n",
        "Unexpected error on string '</h2>\n",
        "' <class 'lxml.etree.ParserError'>\n",
        "Unexpected error on string '</a>' <class 'lxml.etree.ParserError'>\n",
        "Unexpected error on string '</p>\n",
        "' <class 'lxml.etree.ParserError'>\n",
        "Unexpected error on string '</a>' <class 'lxml.etree.ParserError'>\n",
        "Unexpected error on string '</p>\n",
        "' <class 'lxml.etree.ParserError'>\n",
        "Unexpected error on string '</div>\n",
        "' <class 'lxml.etree.ParserError'>\n",
        "Unexpected error on string '</div>\n",
        "' <class 'lxml.etree.ParserError'>\n",
        "Unexpected error on string '</div>\n",
        "' <class 'lxml.etree.ParserError'>\n",
        "processed "
       ]
      },
      {
       "output_type": "stream",
       "stream": "stdout",
       "text": [
        " 303\n",
        "skipped  7\n",
        "493395197\n",
        "original article tmp file "
       ]
      },
      {
       "output_type": "stream",
       "stream": "stdout",
       "text": [
        " /tmp/tmpRtT_xm.html\n",
        "/tmp/tmpNvIJ9P.html\n",
        "/tmp/tmpRtT_xm.html\n",
        "/tmp/tmpRtT_xm.html\n",
        "Now open file:///tmp/tmpNvIJ9P.html in your web browser\n"
       ]
      },
      {
       "output_type": "stream",
       "stream": "stdout",
       "text": [
        "\n",
        "processed "
       ]
      },
      {
       "output_type": "stream",
       "stream": "stdout",
       "text": [
        " 304\n",
        "skipped  7\n",
        "493603632\n",
        "original article tmp file "
       ]
      },
      {
       "output_type": "stream",
       "stream": "stdout",
       "text": [
        " /tmp/tmpyNJUgV.html\n",
        "/tmp/tmpRMPMtH.html\n",
        "/tmp/tmpyNJUgV.html\n",
        "/tmp/tmpyNJUgV.html\n",
        "Now open file:///tmp/tmpRMPMtH.html in your web browser\n"
       ]
      },
      {
       "output_type": "stream",
       "stream": "stdout",
       "text": [
        "\n",
        "Unexpected error on string '</a>\n",
        "'"
       ]
      },
      {
       "output_type": "stream",
       "stream": "stdout",
       "text": [
        " <class 'lxml.etree.ParserError'>\n",
        "Unexpected error on string '</p>\n",
        "' <class 'lxml.etree.ParserError'>\n",
        "Unexpected error on string '</div>\n",
        "' <class 'lxml.etree.ParserError'>\n",
        "Unexpected error on string '</a>\n",
        "' <class 'lxml.etree.ParserError'>\n",
        "Unexpected error on string '</a>' <class 'lxml.etree.ParserError'>\n",
        "Unexpected error on string '</h2>\n",
        "' <class 'lxml.etree.ParserError'>\n",
        "Unexpected error on string '</a>' <class 'lxml.etree.ParserError'>\n",
        "Unexpected error on string '</p>\n",
        "' <class 'lxml.etree.ParserError'>\n",
        "Unexpected error on string '</a>' <class 'lxml.etree.ParserError'>\n",
        "Unexpected error on string '</p>\n",
        "' <class 'lxml.etree.ParserError'>\n",
        "Unexpected error on string '</div>\n",
        "' <class 'lxml.etree.ParserError'>\n",
        "Unexpected error on string '</div>\n",
        "' <class 'lxml.etree.ParserError'>\n",
        "Unexpected error on string '</div>\n",
        "' <class 'lxml.etree.ParserError'>\n",
        "Unexpected error on string '</a>\n",
        "' <class 'lxml.etree.ParserError'>\n",
        "Unexpected error on string '</p>\n",
        "' <class 'lxml.etree.ParserError'>\n",
        "Unexpected error on string '</div>\n",
        "' <class 'lxml.etree.ParserError'>\n",
        "Unexpected error on string '</a>\n",
        "' <class 'lxml.etree.ParserError'>\n",
        "Unexpected error on string '</a>' <class 'lxml.etree.ParserError'>\n",
        "Unexpected error on string '</h2>\n",
        "' <class 'lxml.etree.ParserError'>\n",
        "Unexpected error on string '</a>' <class 'lxml.etree.ParserError'>\n",
        "Unexpected error on string '</p>\n",
        "' <class 'lxml.etree.ParserError'>\n",
        "Unexpected error on string '</a>' <class 'lxml.etree.ParserError'>\n",
        "Unexpected error on string '</p>\n",
        "' <class 'lxml.etree.ParserError'>\n",
        "Unexpected error on string '</div>\n",
        "' <class 'lxml.etree.ParserError'>\n",
        "Unexpected error on string '</div>\n",
        "' <class 'lxml.etree.ParserError'>\n",
        "Unexpected error on string '</div>\n",
        "' <class 'lxml.etree.ParserError'>\n",
        "processed "
       ]
      },
      {
       "output_type": "stream",
       "stream": "stdout",
       "text": [
        " 305\n",
        "skipped  7\n",
        "494910637\n",
        "original article tmp file "
       ]
      },
      {
       "output_type": "stream",
       "stream": "stdout",
       "text": [
        " /tmp/tmpffqEK0.html\n",
        "/tmp/tmpahkT_j.html\n",
        "/tmp/tmpffqEK0.html\n",
        "/tmp/tmpffqEK0.html\n",
        "Now open file:///tmp/tmpahkT_j.html in your web browser\n"
       ]
      },
      {
       "output_type": "stream",
       "stream": "stdout",
       "text": [
        "\n",
        "processed "
       ]
      },
      {
       "output_type": "stream",
       "stream": "stdout",
       "text": [
        " 306\n",
        "skipped  7\n",
        "495132412\n",
        "original article tmp file "
       ]
      },
      {
       "output_type": "stream",
       "stream": "stdout",
       "text": [
        " /tmp/tmpJSoe9T.html\n",
        "/tmp/tmp68tzgd.html\n",
        "/tmp/tmpJSoe9T.html\n",
        "/tmp/tmpJSoe9T.html\n",
        "Now open file:///tmp/tmp68tzgd.html in your web browser\n"
       ]
      },
      {
       "output_type": "stream",
       "stream": "stdout",
       "text": [
        "\n",
        "processed "
       ]
      },
      {
       "output_type": "stream",
       "stream": "stdout",
       "text": [
        " 307\n",
        "skipped  7\n",
        "495402183\n",
        "original article tmp file "
       ]
      },
      {
       "output_type": "stream",
       "stream": "stdout",
       "text": [
        " /tmp/tmp4V7ora.html\n",
        "/tmp/tmpSs0Gsq.html\n",
        "/tmp/tmp4V7ora.html\n",
        "/tmp/tmp4V7ora.html\n",
        "Now open file:///tmp/tmpSs0Gsq.html in your web browser\n"
       ]
      },
      {
       "output_type": "stream",
       "stream": "stdout",
       "text": [
        "\n",
        "processed "
       ]
      },
      {
       "output_type": "stream",
       "stream": "stdout",
       "text": [
        " 308\n",
        "skipped  7\n",
        "495442862\n",
        "original article tmp file "
       ]
      },
      {
       "output_type": "stream",
       "stream": "stdout",
       "text": [
        " /tmp/tmpDIKPNf.html\n",
        "/tmp/tmph26Kiz.html\n",
        "/tmp/tmpDIKPNf.html\n",
        "/tmp/tmpDIKPNf.html\n",
        "Now open file:///tmp/tmph26Kiz.html in your web browser\n"
       ]
      },
      {
       "output_type": "stream",
       "stream": "stdout",
       "text": [
        "\n",
        "processed "
       ]
      },
      {
       "output_type": "stream",
       "stream": "stdout",
       "text": [
        " 309\n",
        "skipped  7\n",
        "495702037\n",
        "original article tmp file "
       ]
      },
      {
       "output_type": "stream",
       "stream": "stdout",
       "text": [
        " /tmp/tmpp34JWd.html\n",
        "/tmp/tmpR67TMK.html\n",
        "/tmp/tmpp34JWd.html\n",
        "/tmp/tmpp34JWd.html\n",
        "Now open file:///tmp/tmpR67TMK.html in your web browser\n"
       ]
      },
      {
       "output_type": "stream",
       "stream": "stdout",
       "text": [
        "\n",
        "processed "
       ]
      },
      {
       "output_type": "stream",
       "stream": "stdout",
       "text": [
        " 310\n",
        "skipped  7\n",
        "495856120\n",
        "original article tmp file "
       ]
      },
      {
       "output_type": "stream",
       "stream": "stdout",
       "text": [
        " /tmp/tmpEWrlRT.html\n",
        "/tmp/tmpVl0RJh.html\n",
        "/tmp/tmpEWrlRT.html\n",
        "/tmp/tmpEWrlRT.html\n",
        "Now open file:///tmp/tmpVl0RJh.html in your web browser\n"
       ]
      },
      {
       "output_type": "stream",
       "stream": "stdout",
       "text": [
        "\n",
        "processed "
       ]
      },
      {
       "output_type": "stream",
       "stream": "stdout",
       "text": [
        " 311\n",
        "skipped  7\n",
        "496830079\n",
        "original article tmp file "
       ]
      },
      {
       "output_type": "stream",
       "stream": "stdout",
       "text": [
        " /tmp/tmpyHPt1L.html\n",
        "/tmp/tmptNtxSc.html\n",
        "/tmp/tmpyHPt1L.html\n",
        "/tmp/tmpyHPt1L.html\n",
        "Now open file:///tmp/tmptNtxSc.html in your web browser\n"
       ]
      },
      {
       "output_type": "stream",
       "stream": "stdout",
       "text": [
        "\n",
        "processed "
       ]
      },
      {
       "output_type": "stream",
       "stream": "stdout",
       "text": [
        " 312\n",
        "skipped  7\n",
        "496960779\n",
        "original article tmp file "
       ]
      },
      {
       "output_type": "stream",
       "stream": "stdout",
       "text": [
        " /tmp/tmpffPJOt.html\n",
        "/tmp/tmpBNTJkU.html\n",
        "/tmp/tmpffPJOt.html\n",
        "/tmp/tmpffPJOt.html\n",
        "Now open file:///tmp/tmpBNTJkU.html in your web browser\n"
       ]
      },
      {
       "output_type": "stream",
       "stream": "stdout",
       "text": [
        "\n",
        "processed "
       ]
      },
      {
       "output_type": "stream",
       "stream": "stdout",
       "text": [
        " 313\n",
        "skipped  7\n",
        "497510792\n",
        "original article tmp file "
       ]
      },
      {
       "output_type": "stream",
       "stream": "stdout",
       "text": [
        " /tmp/tmp8VNBgq.html\n",
        "/tmp/tmpqu040t.html\n",
        "/tmp/tmp8VNBgq.html\n",
        "/tmp/tmp8VNBgq.html\n",
        "Now open file:///tmp/tmpqu040t.html in your web browser\n"
       ]
      },
      {
       "output_type": "stream",
       "stream": "stdout",
       "text": [
        "\n",
        "processed "
       ]
      },
      {
       "output_type": "stream",
       "stream": "stdout",
       "text": [
        " 314\n",
        "skipped  7\n",
        "497750204\n",
        "original article tmp file "
       ]
      },
      {
       "output_type": "stream",
       "stream": "stdout",
       "text": [
        " /tmp/tmpsK25US.html\n",
        "/tmp/tmpwRWPPa.html\n",
        "/tmp/tmpsK25US.html\n",
        "/tmp/tmpsK25US.html\n",
        "Now open file:///tmp/tmpwRWPPa.html in your web browser\n"
       ]
      },
      {
       "output_type": "stream",
       "stream": "stdout",
       "text": [
        "\n",
        "processed "
       ]
      },
      {
       "output_type": "stream",
       "stream": "stdout",
       "text": [
        " 315\n",
        "skipped  7\n",
        "498241896\n",
        "original article tmp file "
       ]
      },
      {
       "output_type": "stream",
       "stream": "stdout",
       "text": [
        " /tmp/tmpJfFO6P.html\n",
        "/tmp/tmpg3rxOG.html\n",
        "/tmp/tmpJfFO6P.html\n",
        "/tmp/tmpJfFO6P.html\n",
        "Now open file:///tmp/tmpg3rxOG.html in your web browser\n"
       ]
      },
      {
       "output_type": "stream",
       "stream": "stdout",
       "text": [
        "\n",
        "processed "
       ]
      },
      {
       "output_type": "stream",
       "stream": "stdout",
       "text": [
        " 316\n",
        "skipped  7\n",
        "498496981\n",
        "original article tmp file "
       ]
      },
      {
       "output_type": "stream",
       "stream": "stdout",
       "text": [
        " /tmp/tmp9sBJr0.html\n",
        "/tmp/tmpX3PQeI.html\n",
        "/tmp/tmp9sBJr0.html\n",
        "/tmp/tmp9sBJr0.html\n",
        "Now open file:///tmp/tmpX3PQeI.html in your web browser\n"
       ]
      },
      {
       "output_type": "stream",
       "stream": "stdout",
       "text": [
        "\n",
        "processed "
       ]
      },
      {
       "output_type": "stream",
       "stream": "stdout",
       "text": [
        " 317\n",
        "skipped  7\n",
        "498497707\n",
        "original article tmp file "
       ]
      },
      {
       "output_type": "stream",
       "stream": "stdout",
       "text": [
        " /tmp/tmpPnUxKC.html\n",
        "/tmp/tmpEY814e.html\n",
        "/tmp/tmpPnUxKC.html\n",
        "/tmp/tmpPnUxKC.html\n",
        "Now open file:///tmp/tmpEY814e.html in your web browser\n"
       ]
      },
      {
       "output_type": "stream",
       "stream": "stdout",
       "text": [
        "\n",
        "processed "
       ]
      },
      {
       "output_type": "stream",
       "stream": "stdout",
       "text": [
        " 318\n",
        "skipped  7\n",
        "499288413\n",
        "original article tmp file "
       ]
      },
      {
       "output_type": "stream",
       "stream": "stdout",
       "text": [
        " /tmp/tmpdMrWUW.html\n",
        "/tmp/tmpPOdPLN.html\n",
        "/tmp/tmpdMrWUW.html\n",
        "/tmp/tmpdMrWUW.html\n",
        "Now open file:///tmp/tmpPOdPLN.html in your web browser\n"
       ]
      },
      {
       "output_type": "stream",
       "stream": "stdout",
       "text": [
        "\n",
        "processed "
       ]
      },
      {
       "output_type": "stream",
       "stream": "stdout",
       "text": [
        " 319\n",
        "skipped  7\n",
        "499367463\n",
        "original article tmp file "
       ]
      },
      {
       "output_type": "stream",
       "stream": "stdout",
       "text": [
        " /tmp/tmpANNCHr.html\n",
        "/tmp/tmpPhhBXT.html\n",
        "/tmp/tmpANNCHr.html\n",
        "/tmp/tmpANNCHr.html\n",
        "Now open file:///tmp/tmpPhhBXT.html in your web browser\n"
       ]
      },
      {
       "output_type": "stream",
       "stream": "stdout",
       "text": [
        "\n",
        "processed "
       ]
      },
      {
       "output_type": "stream",
       "stream": "stdout",
       "text": [
        " 320\n",
        "skipped  7\n",
        "499577868\n",
        "original article tmp file "
       ]
      },
      {
       "output_type": "stream",
       "stream": "stdout",
       "text": [
        " /tmp/tmpzGC69z.html\n",
        "/tmp/tmp7SllXf.html\n",
        "/tmp/tmpzGC69z.html\n",
        "/tmp/tmpzGC69z.html\n",
        "Now open file:///tmp/tmp7SllXf.html in your web browser\n"
       ]
      },
      {
       "output_type": "stream",
       "stream": "stdout",
       "text": [
        "\n",
        "processed "
       ]
      },
      {
       "output_type": "stream",
       "stream": "stdout",
       "text": [
        " 321\n",
        "skipped  7\n",
        "499738311\n",
        "original article tmp file "
       ]
      },
      {
       "output_type": "stream",
       "stream": "stdout",
       "text": [
        " /tmp/tmpv5PQj7.html\n",
        "/tmp/tmpDF9hz5.html\n",
        "/tmp/tmpv5PQj7.html\n",
        "/tmp/tmpv5PQj7.html\n",
        "Now open file:///tmp/tmpDF9hz5.html in your web browser\n"
       ]
      },
      {
       "output_type": "stream",
       "stream": "stdout",
       "text": [
        "\n",
        "processed "
       ]
      },
      {
       "output_type": "stream",
       "stream": "stdout",
       "text": [
        " 322\n",
        "skipped  7\n",
        "499979607\n",
        "original article tmp file "
       ]
      },
      {
       "output_type": "stream",
       "stream": "stdout",
       "text": [
        " /tmp/tmp1GbeuE.html\n",
        "/tmp/tmpwGJYk8.html\n",
        "/tmp/tmp1GbeuE.html\n",
        "/tmp/tmp1GbeuE.html\n",
        "Now open file:///tmp/tmpwGJYk8.html in your web browser\n"
       ]
      },
      {
       "output_type": "stream",
       "stream": "stdout",
       "text": [
        "\n",
        "processed "
       ]
      },
      {
       "output_type": "stream",
       "stream": "stdout",
       "text": [
        " 323\n",
        "skipped  7\n",
        "500618275\n",
        "original article tmp file "
       ]
      },
      {
       "output_type": "stream",
       "stream": "stdout",
       "text": [
        " /tmp/tmplZdOdg.html\n",
        "/tmp/tmpq3Rj1V.html\n",
        "/tmp/tmplZdOdg.html\n",
        "/tmp/tmplZdOdg.html\n",
        "Now open file:///tmp/tmpq3Rj1V.html in your web browser\n"
       ]
      },
      {
       "output_type": "stream",
       "stream": "stdout",
       "text": [
        "\n",
        "processed "
       ]
      },
      {
       "output_type": "stream",
       "stream": "stdout",
       "text": [
        " 324\n",
        "skipped  7\n",
        "502830407\n",
        "original article tmp file "
       ]
      },
      {
       "output_type": "stream",
       "stream": "stdout",
       "text": [
        " /tmp/tmpSoCdjn.html\n",
        "/tmp/tmpYqpFWw.html\n",
        "/tmp/tmpSoCdjn.html\n",
        "/tmp/tmpSoCdjn.html\n",
        "Now open file:///tmp/tmpYqpFWw.html in your web browser\n"
       ]
      },
      {
       "output_type": "stream",
       "stream": "stdout",
       "text": [
        "\n",
        "processed "
       ]
      },
      {
       "output_type": "stream",
       "stream": "stdout",
       "text": [
        " 325\n",
        "skipped  7\n",
        "503101426\n",
        "original article tmp file "
       ]
      },
      {
       "output_type": "stream",
       "stream": "stdout",
       "text": [
        " /tmp/tmppautA4.html\n",
        "/tmp/tmpL0a_St.html\n",
        "/tmp/tmppautA4.html\n",
        "/tmp/tmppautA4.html\n",
        "Now open file:///tmp/tmpL0a_St.html in your web browser\n"
       ]
      },
      {
       "output_type": "stream",
       "stream": "stdout",
       "text": [
        "\n",
        "processed "
       ]
      },
      {
       "output_type": "stream",
       "stream": "stdout",
       "text": [
        " 326\n",
        "skipped  7\n",
        "503171821\n",
        "original article tmp file "
       ]
      },
      {
       "output_type": "stream",
       "stream": "stdout",
       "text": [
        " /tmp/tmpezdzmf.html\n",
        "/tmp/tmpgA_FKw.html\n",
        "/tmp/tmpezdzmf.html\n",
        "/tmp/tmpezdzmf.html\n",
        "Now open file:///tmp/tmpgA_FKw.html in your web browser\n"
       ]
      },
      {
       "output_type": "stream",
       "stream": "stdout",
       "text": [
        "\n",
        "processed "
       ]
      },
      {
       "output_type": "stream",
       "stream": "stdout",
       "text": [
        " 327\n",
        "skipped  7\n",
        "503183518\n",
        "original article tmp file "
       ]
      },
      {
       "output_type": "stream",
       "stream": "stdout",
       "text": [
        " /tmp/tmphN36mp.html\n",
        "/tmp/tmptnnscr.html\n",
        "/tmp/tmphN36mp.html\n",
        "/tmp/tmphN36mp.html\n",
        "Now open file:///tmp/tmptnnscr.html in your web browser\n"
       ]
      },
      {
       "output_type": "stream",
       "stream": "stdout",
       "text": [
        "\n",
        "processed "
       ]
      },
      {
       "output_type": "stream",
       "stream": "stdout",
       "text": [
        " 328\n",
        "skipped  7\n",
        "503244112\n",
        "original article tmp file "
       ]
      },
      {
       "output_type": "stream",
       "stream": "stdout",
       "text": [
        " /tmp/tmpYK825I.html\n",
        "/tmp/tmp7liaJz.html\n",
        "/tmp/tmpYK825I.html\n",
        "/tmp/tmpYK825I.html\n",
        "Now open file:///tmp/tmp7liaJz.html in your web browser\n"
       ]
      },
      {
       "output_type": "stream",
       "stream": "stdout",
       "text": [
        "\n",
        "processed "
       ]
      },
      {
       "output_type": "stream",
       "stream": "stdout",
       "text": [
        " 329\n",
        "skipped  7\n",
        "503478903\n",
        "original article tmp file "
       ]
      },
      {
       "output_type": "stream",
       "stream": "stdout",
       "text": [
        " /tmp/tmpdGeLKg.html\n",
        "/tmp/tmpL61DC5.html\n",
        "/tmp/tmpdGeLKg.html\n",
        "/tmp/tmpdGeLKg.html\n",
        "Now open file:///tmp/tmpL61DC5.html in your web browser\n"
       ]
      },
      {
       "output_type": "stream",
       "stream": "stdout",
       "text": [
        "\n",
        "processed "
       ]
      },
      {
       "output_type": "stream",
       "stream": "stdout",
       "text": [
        " 330\n",
        "skipped  7\n",
        "504316681\n",
        "original article tmp file "
       ]
      },
      {
       "output_type": "stream",
       "stream": "stdout",
       "text": [
        " /tmp/tmpMrW9tz.html\n",
        "/tmp/tmpXy8c0v.html\n",
        "/tmp/tmpMrW9tz.html\n",
        "/tmp/tmpMrW9tz.html\n",
        "Now open file:///tmp/tmpXy8c0v.html in your web browser\n"
       ]
      },
      {
       "output_type": "stream",
       "stream": "stdout",
       "text": [
        "\n",
        "processed "
       ]
      },
      {
       "output_type": "stream",
       "stream": "stdout",
       "text": [
        " 331\n",
        "skipped  7\n",
        "504570818\n",
        "original article tmp file "
       ]
      },
      {
       "output_type": "stream",
       "stream": "stdout",
       "text": [
        " /tmp/tmpsPfg0j.html\n",
        "/tmp/tmpEKw6Uu.html\n",
        "/tmp/tmpsPfg0j.html\n",
        "/tmp/tmpsPfg0j.html\n",
        "Now open file:///tmp/tmpEKw6Uu.html in your web browser\n"
       ]
      },
      {
       "output_type": "stream",
       "stream": "stdout",
       "text": [
        "\n",
        "processed "
       ]
      },
      {
       "output_type": "stream",
       "stream": "stdout",
       "text": [
        " 332\n",
        "skipped  7\n",
        "504702541\n",
        "original article tmp file "
       ]
      },
      {
       "output_type": "stream",
       "stream": "stdout",
       "text": [
        " /tmp/tmpbZz1Fv.html\n",
        "/tmp/tmpl1OjlB.html\n",
        "/tmp/tmpbZz1Fv.html\n",
        "/tmp/tmpbZz1Fv.html\n",
        "Now open file:///tmp/tmpl1OjlB.html in your web browser\n"
       ]
      },
      {
       "output_type": "stream",
       "stream": "stdout",
       "text": [
        "\n",
        "processed "
       ]
      },
      {
       "output_type": "stream",
       "stream": "stdout",
       "text": [
        " 333\n",
        "skipped  7\n",
        "505354116\n",
        "original article tmp file "
       ]
      },
      {
       "output_type": "stream",
       "stream": "stdout",
       "text": [
        " /tmp/tmpQFGV2N.html\n",
        "/tmp/tmpAdsXaA.html\n",
        "/tmp/tmpQFGV2N.html\n",
        "/tmp/tmpQFGV2N.html\n",
        "Now open file:///tmp/tmpAdsXaA.html in your web browser\n"
       ]
      },
      {
       "output_type": "stream",
       "stream": "stdout",
       "text": [
        "\n",
        "processed "
       ]
      },
      {
       "output_type": "stream",
       "stream": "stdout",
       "text": [
        " 334\n",
        "skipped  7\n",
        "505354986\n",
        "original article tmp file "
       ]
      },
      {
       "output_type": "stream",
       "stream": "stdout",
       "text": [
        " /tmp/tmpLYcgWg.html\n",
        "/tmp/tmpWMQZ_l.html\n",
        "/tmp/tmpLYcgWg.html\n",
        "/tmp/tmpLYcgWg.html\n",
        "Now open file:///tmp/tmpWMQZ_l.html in your web browser\n"
       ]
      },
      {
       "output_type": "stream",
       "stream": "stdout",
       "text": [
        "\n",
        "processed "
       ]
      },
      {
       "output_type": "stream",
       "stream": "stdout",
       "text": [
        " 335\n",
        "skipped  7\n",
        "505362351\n",
        "original article tmp file "
       ]
      },
      {
       "output_type": "stream",
       "stream": "stdout",
       "text": [
        " /tmp/tmpDakbnD.html\n",
        "/tmp/tmpM5CiOj.html\n",
        "/tmp/tmpDakbnD.html\n",
        "/tmp/tmpDakbnD.html\n",
        "Now open file:///tmp/tmpM5CiOj.html in your web browser\n"
       ]
      },
      {
       "output_type": "stream",
       "stream": "stdout",
       "text": [
        "\n",
        "processed "
       ]
      },
      {
       "output_type": "stream",
       "stream": "stdout",
       "text": [
        " 336\n",
        "skipped  7\n",
        "505513151\n",
        "original article tmp file "
       ]
      },
      {
       "output_type": "stream",
       "stream": "stdout",
       "text": [
        " /tmp/tmpJw4hlZ.html\n",
        "/tmp/tmpYIUe4w.html\n",
        "/tmp/tmpJw4hlZ.html\n",
        "/tmp/tmpJw4hlZ.html\n",
        "Now open file:///tmp/tmpYIUe4w.html in your web browser\n"
       ]
      },
      {
       "output_type": "stream",
       "stream": "stdout",
       "text": [
        "\n",
        "processed "
       ]
      },
      {
       "output_type": "stream",
       "stream": "stdout",
       "text": [
        " 337\n",
        "skipped  7\n",
        "505554845\n",
        "original article tmp file "
       ]
      },
      {
       "output_type": "stream",
       "stream": "stdout",
       "text": [
        " /tmp/tmpi_ofgG.html\n",
        "/tmp/tmpQRikJ1.html\n",
        "/tmp/tmpi_ofgG.html\n",
        "/tmp/tmpi_ofgG.html\n",
        "Now open file:///tmp/tmpQRikJ1.html in your web browser\n"
       ]
      },
      {
       "output_type": "stream",
       "stream": "stdout",
       "text": [
        "\n",
        "processed "
       ]
      },
      {
       "output_type": "stream",
       "stream": "stdout",
       "text": [
        " 338\n",
        "skipped  7\n",
        "505630012\n",
        "original article tmp file "
       ]
      },
      {
       "output_type": "stream",
       "stream": "stdout",
       "text": [
        " /tmp/tmpXhikOb.html\n",
        "/tmp/tmpjXUSq7.html\n",
        "/tmp/tmpXhikOb.html\n",
        "/tmp/tmpXhikOb.html\n",
        "Now open file:///tmp/tmpjXUSq7.html in your web browser\n"
       ]
      },
      {
       "output_type": "stream",
       "stream": "stdout",
       "text": [
        "\n",
        "processed "
       ]
      },
      {
       "output_type": "stream",
       "stream": "stdout",
       "text": [
        " 339\n",
        "skipped  7\n",
        "505666313\n",
        "original article tmp file "
       ]
      },
      {
       "output_type": "stream",
       "stream": "stdout",
       "text": [
        " /tmp/tmpneWTMf.html\n",
        "/tmp/tmpB_eF2N.html\n",
        "/tmp/tmpneWTMf.html\n",
        "/tmp/tmpneWTMf.html\n",
        "Now open file:///tmp/tmpB_eF2N.html in your web browser\n"
       ]
      },
      {
       "output_type": "stream",
       "stream": "stdout",
       "text": [
        "\n",
        "processed "
       ]
      },
      {
       "output_type": "stream",
       "stream": "stdout",
       "text": [
        " 340\n",
        "skipped  7\n",
        "505709237\n",
        "original article tmp file "
       ]
      },
      {
       "output_type": "stream",
       "stream": "stdout",
       "text": [
        " /tmp/tmpQuECmz.html\n",
        "/tmp/tmpGiiP4K.html\n",
        "/tmp/tmpQuECmz.html\n",
        "/tmp/tmpQuECmz.html\n",
        "Now open file:///tmp/tmpGiiP4K.html in your web browser\n"
       ]
      },
      {
       "output_type": "stream",
       "stream": "stdout",
       "text": [
        "\n",
        "processed "
       ]
      },
      {
       "output_type": "stream",
       "stream": "stdout",
       "text": [
        " 341\n",
        "skipped  7\n",
        "505875260\n",
        "original article tmp file "
       ]
      },
      {
       "output_type": "stream",
       "stream": "stdout",
       "text": [
        " /tmp/tmpc9tY08.html\n",
        "/tmp/tmp7f5DQC.html\n",
        "/tmp/tmpc9tY08.html\n",
        "/tmp/tmpc9tY08.html\n",
        "Now open file:///tmp/tmp7f5DQC.html in your web browser\n"
       ]
      },
      {
       "output_type": "stream",
       "stream": "stdout",
       "text": [
        "\n",
        "processed "
       ]
      },
      {
       "output_type": "stream",
       "stream": "stdout",
       "text": [
        " 342\n",
        "skipped  7\n",
        "505891713\n",
        "original article tmp file "
       ]
      },
      {
       "output_type": "stream",
       "stream": "stdout",
       "text": [
        " /tmp/tmp21RPGb.html\n",
        "/tmp/tmpnyg3DB.html\n",
        "/tmp/tmp21RPGb.html\n",
        "/tmp/tmp21RPGb.html\n",
        "Now open file:///tmp/tmpnyg3DB.html in your web browser\n"
       ]
      },
      {
       "output_type": "stream",
       "stream": "stdout",
       "text": [
        "\n",
        "processed "
       ]
      },
      {
       "output_type": "stream",
       "stream": "stdout",
       "text": [
        " 343\n",
        "skipped  7\n",
        "505960251\n",
        "original article tmp file "
       ]
      },
      {
       "output_type": "stream",
       "stream": "stdout",
       "text": [
        " /tmp/tmpcuf9zq.html\n",
        "/tmp/tmp7mP3bT.html\n",
        "/tmp/tmpcuf9zq.html\n",
        "/tmp/tmpcuf9zq.html\n",
        "Now open file:///tmp/tmp7mP3bT.html in your web browser\n"
       ]
      },
      {
       "output_type": "stream",
       "stream": "stdout",
       "text": [
        "\n",
        "processed "
       ]
      },
      {
       "output_type": "stream",
       "stream": "stdout",
       "text": [
        " 344\n",
        "skipped  7\n",
        "506245926\n",
        "original article tmp file "
       ]
      },
      {
       "output_type": "stream",
       "stream": "stdout",
       "text": [
        " /tmp/tmp2Evomy.html\n",
        "/tmp/tmpIGU6ue.html\n",
        "/tmp/tmp2Evomy.html\n",
        "/tmp/tmp2Evomy.html\n",
        "Now open file:///tmp/tmpIGU6ue.html in your web browser\n"
       ]
      },
      {
       "output_type": "stream",
       "stream": "stdout",
       "text": [
        "\n",
        "processed "
       ]
      },
      {
       "output_type": "stream",
       "stream": "stdout",
       "text": [
        " 345\n",
        "skipped  7\n",
        "506248868\n",
        "original article tmp file "
       ]
      },
      {
       "output_type": "stream",
       "stream": "stdout",
       "text": [
        " /tmp/tmpE7IyVw.html\n",
        "/tmp/tmpvsv7Um.html\n",
        "/tmp/tmpE7IyVw.html\n",
        "/tmp/tmpE7IyVw.html\n",
        "Now open file:///tmp/tmpvsv7Um.html in your web browser\n"
       ]
      },
      {
       "output_type": "stream",
       "stream": "stdout",
       "text": [
        "\n",
        "processed "
       ]
      },
      {
       "output_type": "stream",
       "stream": "stdout",
       "text": [
        " 346\n",
        "skipped  7\n",
        "506288913\n",
        "original article tmp file "
       ]
      },
      {
       "output_type": "stream",
       "stream": "stdout",
       "text": [
        " /tmp/tmp9O0c7w.html\n",
        "/tmp/tmpLLAeNT.html\n",
        "/tmp/tmp9O0c7w.html\n",
        "/tmp/tmp9O0c7w.html\n",
        "Now open file:///tmp/tmpLLAeNT.html in your web browser\n"
       ]
      },
      {
       "output_type": "stream",
       "stream": "stdout",
       "text": [
        "\n",
        "processed "
       ]
      },
      {
       "output_type": "stream",
       "stream": "stdout",
       "text": [
        " 347\n",
        "skipped  7\n",
        "506374300\n",
        "original article tmp file "
       ]
      },
      {
       "output_type": "stream",
       "stream": "stdout",
       "text": [
        " /tmp/tmpiL3F8j.html\n",
        "/tmp/tmpVjdxZM.html\n",
        "/tmp/tmpiL3F8j.html\n",
        "/tmp/tmpiL3F8j.html\n",
        "Now open file:///tmp/tmpVjdxZM.html in your web browser\n"
       ]
      },
      {
       "output_type": "stream",
       "stream": "stdout",
       "text": [
        "\n",
        "processed "
       ]
      },
      {
       "output_type": "stream",
       "stream": "stdout",
       "text": [
        " 348\n",
        "skipped  7\n",
        "506905377\n",
        "original article tmp file "
       ]
      },
      {
       "output_type": "stream",
       "stream": "stdout",
       "text": [
        " /tmp/tmpsjuQNy.html\n",
        "/tmp/tmpJhdkj7.html\n",
        "/tmp/tmpsjuQNy.html\n",
        "/tmp/tmpsjuQNy.html\n",
        "Now open file:///tmp/tmpJhdkj7.html in your web browser\n"
       ]
      },
      {
       "output_type": "stream",
       "stream": "stdout",
       "text": [
        "\n",
        "processed "
       ]
      },
      {
       "output_type": "stream",
       "stream": "stdout",
       "text": [
        " 349\n",
        "skipped  7\n",
        "508032017\n",
        "original article tmp file "
       ]
      },
      {
       "output_type": "stream",
       "stream": "stdout",
       "text": [
        " /tmp/tmp8RkVC8.html\n",
        "/tmp/tmpUe8wsn.html\n",
        "/tmp/tmp8RkVC8.html\n",
        "/tmp/tmp8RkVC8.html\n",
        "Now open file:///tmp/tmpUe8wsn.html in your web browser\n"
       ]
      },
      {
       "output_type": "stream",
       "stream": "stdout",
       "text": [
        "\n",
        "processed "
       ]
      },
      {
       "output_type": "stream",
       "stream": "stdout",
       "text": [
        " 350\n",
        "skipped  7\n",
        "508653746\n",
        "original article tmp file "
       ]
      },
      {
       "output_type": "stream",
       "stream": "stdout",
       "text": [
        " /tmp/tmpnCHhQ1.html\n",
        "/tmp/tmp0vgfzr.html\n",
        "/tmp/tmpnCHhQ1.html\n",
        "/tmp/tmpnCHhQ1.html\n",
        "Now open file:///tmp/tmp0vgfzr.html in your web browser\n"
       ]
      },
      {
       "output_type": "stream",
       "stream": "stdout",
       "text": [
        "\n",
        "processed "
       ]
      },
      {
       "output_type": "stream",
       "stream": "stdout",
       "text": [
        " 351\n",
        "skipped  7\n",
        "509162462\n",
        "original article tmp file "
       ]
      },
      {
       "output_type": "stream",
       "stream": "stdout",
       "text": [
        " /tmp/tmpzgY06Z.html\n",
        "/tmp/tmprfO9Nm.html\n",
        "/tmp/tmpzgY06Z.html\n",
        "/tmp/tmpzgY06Z.html\n",
        "Now open file:///tmp/tmprfO9Nm.html in your web browser\n"
       ]
      },
      {
       "output_type": "stream",
       "stream": "stdout",
       "text": [
        "\n",
        "processed "
       ]
      },
      {
       "output_type": "stream",
       "stream": "stdout",
       "text": [
        " 352\n",
        "skipped  7\n",
        "509252393\n",
        "original article tmp file "
       ]
      },
      {
       "output_type": "stream",
       "stream": "stdout",
       "text": [
        " /tmp/tmpcQJGl8.html\n",
        "/tmp/tmpGPY9NR.html\n",
        "/tmp/tmpcQJGl8.html\n",
        "/tmp/tmpcQJGl8.html\n",
        "Now open file:///tmp/tmpGPY9NR.html in your web browser\n"
       ]
      },
      {
       "output_type": "stream",
       "stream": "stdout",
       "text": [
        "\n",
        "processed "
       ]
      },
      {
       "output_type": "stream",
       "stream": "stdout",
       "text": [
        " 353\n",
        "skipped  7\n",
        "509863893\n",
        "original article tmp file "
       ]
      },
      {
       "output_type": "stream",
       "stream": "stdout",
       "text": [
        " /tmp/tmpd5WoG5.html\n",
        "/tmp/tmpAtTuPM.html\n",
        "/tmp/tmpd5WoG5.html\n",
        "/tmp/tmpd5WoG5.html\n",
        "Now open file:///tmp/tmpAtTuPM.html in your web browser\n"
       ]
      },
      {
       "output_type": "stream",
       "stream": "stdout",
       "text": [
        "\n",
        "processed "
       ]
      },
      {
       "output_type": "stream",
       "stream": "stdout",
       "text": [
        " 354\n",
        "skipped  7\n",
        "510413590\n",
        "original article tmp file "
       ]
      },
      {
       "output_type": "stream",
       "stream": "stdout",
       "text": [
        " /tmp/tmp3dtWYD.html\n",
        "/tmp/tmp_9rT7s.html\n",
        "/tmp/tmp3dtWYD.html\n",
        "/tmp/tmp3dtWYD.html\n",
        "Now open file:///tmp/tmp_9rT7s.html in your web browser\n"
       ]
      },
      {
       "output_type": "stream",
       "stream": "stdout",
       "text": [
        "\n",
        "processed "
       ]
      },
      {
       "output_type": "stream",
       "stream": "stdout",
       "text": [
        " 355\n",
        "skipped  7\n",
        "510662547\n",
        "original article tmp file "
       ]
      },
      {
       "output_type": "stream",
       "stream": "stdout",
       "text": [
        " /tmp/tmpWFQ6ai.html\n",
        "/tmp/tmpP1bCUl.html\n",
        "/tmp/tmpWFQ6ai.html\n",
        "/tmp/tmpWFQ6ai.html\n",
        "Now open file:///tmp/tmpP1bCUl.html in your web browser\n"
       ]
      },
      {
       "output_type": "stream",
       "stream": "stdout",
       "text": [
        "\n",
        "processed "
       ]
      },
      {
       "output_type": "stream",
       "stream": "stdout",
       "text": [
        " 356\n",
        "skipped  7\n",
        "510881596\n",
        "original article tmp file "
       ]
      },
      {
       "output_type": "stream",
       "stream": "stdout",
       "text": [
        " /tmp/tmpViT2Sm.html\n",
        "/tmp/tmpho2kfK.html\n",
        "/tmp/tmpViT2Sm.html\n",
        "/tmp/tmpViT2Sm.html\n",
        "Now open file:///tmp/tmpho2kfK.html in your web browser\n"
       ]
      },
      {
       "output_type": "stream",
       "stream": "stdout",
       "text": [
        "\n",
        "processed "
       ]
      },
      {
       "output_type": "stream",
       "stream": "stdout",
       "text": [
        " 357\n",
        "skipped  7\n",
        "511823889\n",
        "original article tmp file "
       ]
      },
      {
       "output_type": "stream",
       "stream": "stdout",
       "text": [
        " /tmp/tmpy1Zdr4.html\n",
        "/tmp/tmpoRUzOz.html\n",
        "/tmp/tmpy1Zdr4.html\n",
        "/tmp/tmpy1Zdr4.html\n",
        "Now open file:///tmp/tmpoRUzOz.html in your web browser\n"
       ]
      },
      {
       "output_type": "stream",
       "stream": "stdout",
       "text": [
        "\n",
        "processed "
       ]
      },
      {
       "output_type": "stream",
       "stream": "stdout",
       "text": [
        " 358\n",
        "skipped  7\n",
        "512505124\n",
        "original article tmp file "
       ]
      },
      {
       "output_type": "stream",
       "stream": "stdout",
       "text": [
        " /tmp/tmpAnb4ka.html\n",
        "/tmp/tmpSJ4LxA.html\n",
        "/tmp/tmpAnb4ka.html\n",
        "/tmp/tmpAnb4ka.html\n",
        "Now open file:///tmp/tmpSJ4LxA.html in your web browser\n"
       ]
      },
      {
       "output_type": "stream",
       "stream": "stdout",
       "text": [
        "\n",
        "processed "
       ]
      },
      {
       "output_type": "stream",
       "stream": "stdout",
       "text": [
        " 359\n",
        "skipped  7\n",
        "512677517\n",
        "original article tmp file "
       ]
      },
      {
       "output_type": "stream",
       "stream": "stdout",
       "text": [
        " /tmp/tmpLvZTC7.html\n",
        "/tmp/tmpFXuHYX.html\n",
        "/tmp/tmpLvZTC7.html\n",
        "/tmp/tmpLvZTC7.html\n",
        "Now open file:///tmp/tmpFXuHYX.html in your web browser\n"
       ]
      },
      {
       "output_type": "stream",
       "stream": "stdout",
       "text": [
        "\n",
        "processed "
       ]
      },
      {
       "output_type": "stream",
       "stream": "stdout",
       "text": [
        " 360\n",
        "skipped  7\n",
        "512765019\n",
        "original article tmp file "
       ]
      },
      {
       "output_type": "stream",
       "stream": "stdout",
       "text": [
        " /tmp/tmpOtPKer.html\n",
        "/tmp/tmpNsbEvU.html\n",
        "/tmp/tmpOtPKer.html\n",
        "/tmp/tmpOtPKer.html\n",
        "Now open file:///tmp/tmpNsbEvU.html in your web browser\n"
       ]
      },
      {
       "output_type": "stream",
       "stream": "stdout",
       "text": [
        "\n",
        "processed "
       ]
      },
      {
       "output_type": "stream",
       "stream": "stdout",
       "text": [
        " 361\n",
        "skipped  7\n",
        "514105704\n",
        "original article tmp file "
       ]
      },
      {
       "output_type": "stream",
       "stream": "stdout",
       "text": [
        " /tmp/tmpq2Z6cW.html\n",
        "/tmp/tmprdMmV9.html\n",
        "/tmp/tmpq2Z6cW.html\n",
        "/tmp/tmpq2Z6cW.html\n",
        "Now open file:///tmp/tmprdMmV9.html in your web browser\n"
       ]
      },
      {
       "output_type": "stream",
       "stream": "stdout",
       "text": [
        "\n",
        "processed "
       ]
      },
      {
       "output_type": "stream",
       "stream": "stdout",
       "text": [
        " 362\n",
        "skipped  7\n",
        "514153344\n",
        "original article tmp file "
       ]
      },
      {
       "output_type": "stream",
       "stream": "stdout",
       "text": [
        " /tmp/tmphxvJpO.html\n",
        "/tmp/tmp0lnoWM.html\n",
        "/tmp/tmphxvJpO.html\n",
        "/tmp/tmphxvJpO.html\n",
        "Now open file:///tmp/tmp0lnoWM.html in your web browser\n"
       ]
      },
      {
       "output_type": "stream",
       "stream": "stdout",
       "text": [
        "\n",
        "processed "
       ]
      },
      {
       "output_type": "stream",
       "stream": "stdout",
       "text": [
        " 363\n",
        "skipped  7\n",
        "514364011\n",
        "original article tmp file "
       ]
      },
      {
       "output_type": "stream",
       "stream": "stdout",
       "text": [
        " /tmp/tmpIPdk4x.html\n",
        "/tmp/tmpIKhCEJ.html\n",
        "/tmp/tmpIPdk4x.html\n",
        "/tmp/tmpIPdk4x.html\n",
        "Now open file:///tmp/tmpIKhCEJ.html in your web browser\n"
       ]
      },
      {
       "output_type": "stream",
       "stream": "stdout",
       "text": [
        "\n",
        "processed "
       ]
      },
      {
       "output_type": "stream",
       "stream": "stdout",
       "text": [
        " 364\n",
        "skipped  7\n",
        "514378750\n",
        "original article tmp file "
       ]
      },
      {
       "output_type": "stream",
       "stream": "stdout",
       "text": [
        " /tmp/tmpPh5qpO.html\n",
        "/tmp/tmpS46084.html\n",
        "/tmp/tmpPh5qpO.html\n",
        "/tmp/tmpPh5qpO.html\n",
        "Now open file:///tmp/tmpS46084.html in your web browser\n"
       ]
      },
      {
       "output_type": "stream",
       "stream": "stdout",
       "text": [
        "\n",
        "processed "
       ]
      },
      {
       "output_type": "stream",
       "stream": "stdout",
       "text": [
        " 365\n",
        "skipped  7\n",
        "514572763\n",
        "original article tmp file "
       ]
      },
      {
       "output_type": "stream",
       "stream": "stdout",
       "text": [
        " /tmp/tmpwj0Kli.html\n",
        "/tmp/tmpy_KH3Y.html\n",
        "/tmp/tmpwj0Kli.html\n",
        "/tmp/tmpwj0Kli.html\n",
        "Now open file:///tmp/tmpy_KH3Y.html in your web browser\n"
       ]
      },
      {
       "output_type": "stream",
       "stream": "stdout",
       "text": [
        "\n",
        "processed "
       ]
      },
      {
       "output_type": "stream",
       "stream": "stdout",
       "text": [
        " 366\n",
        "skipped  7\n",
        "514931592\n",
        "original article tmp file "
       ]
      },
      {
       "output_type": "stream",
       "stream": "stdout",
       "text": [
        " /tmp/tmppCq7L7.html\n",
        "/tmp/tmpdD7ioT.html\n",
        "/tmp/tmppCq7L7.html\n",
        "/tmp/tmppCq7L7.html\n",
        "Now open file:///tmp/tmpdD7ioT.html in your web browser\n"
       ]
      },
      {
       "output_type": "stream",
       "stream": "stdout",
       "text": [
        "\n",
        "processed "
       ]
      },
      {
       "output_type": "stream",
       "stream": "stdout",
       "text": [
        " 367\n",
        "skipped  7\n",
        "515594059\n",
        "original article tmp file "
       ]
      },
      {
       "output_type": "stream",
       "stream": "stdout",
       "text": [
        " /tmp/tmp83__Pp.html\n",
        "/tmp/tmpMYrDB1.html\n",
        "/tmp/tmp83__Pp.html\n",
        "/tmp/tmp83__Pp.html\n",
        "Now open file:///tmp/tmpMYrDB1.html in your web browser\n"
       ]
      },
      {
       "output_type": "stream",
       "stream": "stdout",
       "text": [
        "\n",
        "processed "
       ]
      },
      {
       "output_type": "stream",
       "stream": "stdout",
       "text": [
        " 368\n",
        "skipped  7\n",
        "515980414\n",
        "original article tmp file "
       ]
      },
      {
       "output_type": "stream",
       "stream": "stdout",
       "text": [
        " /tmp/tmpK7K06g.html\n",
        "/tmp/tmpsDEhe3.html\n",
        "/tmp/tmpK7K06g.html\n",
        "/tmp/tmpK7K06g.html\n",
        "Now open file:///tmp/tmpsDEhe3.html in your web browser\n"
       ]
      },
      {
       "output_type": "stream",
       "stream": "stdout",
       "text": [
        "\n",
        "processed "
       ]
      },
      {
       "output_type": "stream",
       "stream": "stdout",
       "text": [
        " 369\n",
        "skipped  7\n",
        "516147422\n",
        "original article tmp file "
       ]
      },
      {
       "output_type": "stream",
       "stream": "stdout",
       "text": [
        " /tmp/tmp6gRIFa.html\n",
        "/tmp/tmpQnt6kb.html\n",
        "/tmp/tmp6gRIFa.html\n",
        "/tmp/tmp6gRIFa.html\n",
        "Now open file:///tmp/tmpQnt6kb.html in your web browser\n"
       ]
      },
      {
       "output_type": "stream",
       "stream": "stdout",
       "text": [
        "\n",
        "processed "
       ]
      },
      {
       "output_type": "stream",
       "stream": "stdout",
       "text": [
        " 370\n",
        "skipped  7\n",
        "516155213\n",
        "original article tmp file "
       ]
      },
      {
       "output_type": "stream",
       "stream": "stdout",
       "text": [
        " /tmp/tmpTQPd_Z.html\n",
        "/tmp/tmp2kC_jG.html\n",
        "/tmp/tmpTQPd_Z.html\n",
        "/tmp/tmpTQPd_Z.html\n",
        "Now open file:///tmp/tmp2kC_jG.html in your web browser\n"
       ]
      },
      {
       "output_type": "stream",
       "stream": "stdout",
       "text": [
        "\n",
        "processed "
       ]
      },
      {
       "output_type": "stream",
       "stream": "stdout",
       "text": [
        " 371\n",
        "skipped  7\n",
        "516527178\n",
        "original article tmp file "
       ]
      },
      {
       "output_type": "stream",
       "stream": "stdout",
       "text": [
        " /tmp/tmpTw1dNj.html\n",
        "/tmp/tmprzpi3G.html\n",
        "/tmp/tmpTw1dNj.html\n",
        "/tmp/tmpTw1dNj.html\n",
        "Now open file:///tmp/tmprzpi3G.html in your web browser\n"
       ]
      },
      {
       "output_type": "stream",
       "stream": "stdout",
       "text": [
        "\n",
        "processed "
       ]
      },
      {
       "output_type": "stream",
       "stream": "stdout",
       "text": [
        " 372\n",
        "skipped  7\n",
        "517088904\n",
        "original article tmp file "
       ]
      },
      {
       "output_type": "stream",
       "stream": "stdout",
       "text": [
        " /tmp/tmpJ3gwry.html\n",
        "/tmp/tmp_IT4u3.html\n",
        "/tmp/tmpJ3gwry.html\n",
        "/tmp/tmpJ3gwry.html\n",
        "Now open file:///tmp/tmp_IT4u3.html in your web browser\n"
       ]
      },
      {
       "output_type": "stream",
       "stream": "stdout",
       "text": [
        "\n",
        "processed "
       ]
      },
      {
       "output_type": "stream",
       "stream": "stdout",
       "text": [
        " 373\n",
        "skipped  7\n",
        "517204863\n",
        "original article tmp file "
       ]
      },
      {
       "output_type": "stream",
       "stream": "stdout",
       "text": [
        " /tmp/tmpoJ8C9T.html\n",
        "/tmp/tmpLeHzWm.html\n",
        "/tmp/tmpoJ8C9T.html\n",
        "/tmp/tmpoJ8C9T.html\n",
        "Now open file:///tmp/tmpLeHzWm.html in your web browser\n"
       ]
      },
      {
       "output_type": "stream",
       "stream": "stdout",
       "text": [
        "\n",
        "processed "
       ]
      },
      {
       "output_type": "stream",
       "stream": "stdout",
       "text": [
        " 374\n",
        "skipped  7\n",
        "517393170\n",
        "original article tmp file "
       ]
      },
      {
       "output_type": "stream",
       "stream": "stdout",
       "text": [
        " /tmp/tmp7xVgQo.html\n",
        "/tmp/tmpwauR3y.html\n",
        "/tmp/tmp7xVgQo.html\n",
        "/tmp/tmp7xVgQo.html\n",
        "Now open file:///tmp/tmpwauR3y.html in your web browser\n"
       ]
      },
      {
       "output_type": "stream",
       "stream": "stdout",
       "text": [
        "\n",
        "processed "
       ]
      },
      {
       "output_type": "stream",
       "stream": "stdout",
       "text": [
        " 375\n",
        "skipped  7\n",
        "518149302\n",
        "original article tmp file "
       ]
      },
      {
       "output_type": "stream",
       "stream": "stdout",
       "text": [
        " /tmp/tmps0lKm9.html\n",
        "/tmp/tmpEd7LOA.html\n",
        "/tmp/tmps0lKm9.html\n",
        "/tmp/tmps0lKm9.html\n",
        "Now open file:///tmp/tmpEd7LOA.html in your web browser\n"
       ]
      },
      {
       "output_type": "stream",
       "stream": "stdout",
       "text": [
        "\n",
        "processed "
       ]
      },
      {
       "output_type": "stream",
       "stream": "stdout",
       "text": [
        " 376\n",
        "skipped  7\n",
        "518752724\n",
        "original article tmp file "
       ]
      },
      {
       "output_type": "stream",
       "stream": "stdout",
       "text": [
        " /tmp/tmpIOfnPX.html\n",
        "/tmp/tmp2qJdtK.html\n",
        "/tmp/tmpIOfnPX.html\n",
        "/tmp/tmpIOfnPX.html\n",
        "Now open file:///tmp/tmp2qJdtK.html in your web browser\n"
       ]
      },
      {
       "output_type": "stream",
       "stream": "stdout",
       "text": [
        "\n",
        "processed "
       ]
      },
      {
       "output_type": "stream",
       "stream": "stdout",
       "text": [
        " 377\n",
        "skipped  7\n",
        "518815044\n",
        "original article tmp file "
       ]
      },
      {
       "output_type": "stream",
       "stream": "stdout",
       "text": [
        " /tmp/tmpbcnHAw.html\n",
        "/tmp/tmpz4bwcA.html\n",
        "/tmp/tmpbcnHAw.html\n",
        "/tmp/tmpbcnHAw.html\n",
        "Now open file:///tmp/tmpz4bwcA.html in your web browser\n"
       ]
      },
      {
       "output_type": "stream",
       "stream": "stdout",
       "text": [
        "\n",
        "processed "
       ]
      },
      {
       "output_type": "stream",
       "stream": "stdout",
       "text": [
        " 378\n",
        "skipped  7\n",
        "518917973\n",
        "original article tmp file "
       ]
      },
      {
       "output_type": "stream",
       "stream": "stdout",
       "text": [
        " /tmp/tmpRpV4Em.html\n",
        "/tmp/tmpqppX9p.html\n",
        "/tmp/tmpRpV4Em.html\n",
        "/tmp/tmpRpV4Em.html\n",
        "Now open file:///tmp/tmpqppX9p.html in your web browser\n"
       ]
      },
      {
       "output_type": "stream",
       "stream": "stdout",
       "text": [
        "\n",
        "processed "
       ]
      },
      {
       "output_type": "stream",
       "stream": "stdout",
       "text": [
        " 379\n",
        "skipped  7\n",
        "519698497\n",
        "original article tmp file "
       ]
      },
      {
       "output_type": "stream",
       "stream": "stdout",
       "text": [
        " /tmp/tmppRN2yt.html\n",
        "/tmp/tmpEg6Sho.html\n",
        "/tmp/tmppRN2yt.html\n",
        "/tmp/tmppRN2yt.html\n",
        "Now open file:///tmp/tmpEg6Sho.html in your web browser\n"
       ]
      },
      {
       "output_type": "stream",
       "stream": "stdout",
       "text": [
        "\n",
        "processed "
       ]
      },
      {
       "output_type": "stream",
       "stream": "stdout",
       "text": [
        " 380\n",
        "skipped  7\n",
        "519788971\n",
        "original article tmp file "
       ]
      },
      {
       "output_type": "stream",
       "stream": "stdout",
       "text": [
        " /tmp/tmpLWAkIE.html\n",
        "/tmp/tmpUm20jr.html\n",
        "/tmp/tmpLWAkIE.html\n",
        "/tmp/tmpLWAkIE.html\n",
        "Now open file:///tmp/tmpUm20jr.html in your web browser\n"
       ]
      },
      {
       "output_type": "stream",
       "stream": "stdout",
       "text": [
        "\n",
        "processed "
       ]
      },
      {
       "output_type": "stream",
       "stream": "stdout",
       "text": [
        " 381\n",
        "skipped  7\n",
        "519948923\n",
        "original article tmp file "
       ]
      },
      {
       "output_type": "stream",
       "stream": "stdout",
       "text": [
        " /tmp/tmp28L_z8.html\n",
        "/tmp/tmpRraWu7.html\n",
        "/tmp/tmp28L_z8.html\n",
        "/tmp/tmp28L_z8.html\n",
        "Now open file:///tmp/tmpRraWu7.html in your web browser\n"
       ]
      },
      {
       "output_type": "stream",
       "stream": "stdout",
       "text": [
        "\n",
        "processed "
       ]
      },
      {
       "output_type": "stream",
       "stream": "stdout",
       "text": [
        " 382\n",
        "skipped  7\n",
        "520302517\n",
        "original article tmp file "
       ]
      },
      {
       "output_type": "stream",
       "stream": "stdout",
       "text": [
        " /tmp/tmpDJ31Vj.html\n",
        "/tmp/tmpTBL2Fd.html\n",
        "/tmp/tmpDJ31Vj.html\n",
        "/tmp/tmpDJ31Vj.html\n",
        "Now open file:///tmp/tmpTBL2Fd.html in your web browser\n"
       ]
      },
      {
       "output_type": "stream",
       "stream": "stdout",
       "text": [
        "\n",
        "processed "
       ]
      },
      {
       "output_type": "stream",
       "stream": "stdout",
       "text": [
        " 383\n",
        "skipped  7\n",
        "520916358\n",
        "original article tmp file "
       ]
      },
      {
       "output_type": "stream",
       "stream": "stdout",
       "text": [
        " /tmp/tmpFFShd0.html\n",
        "/tmp/tmph9o7aX.html\n",
        "/tmp/tmpFFShd0.html\n",
        "/tmp/tmpFFShd0.html\n",
        "Now open file:///tmp/tmph9o7aX.html in your web browser\n"
       ]
      },
      {
       "output_type": "stream",
       "stream": "stdout",
       "text": [
        "\n",
        "processed "
       ]
      },
      {
       "output_type": "stream",
       "stream": "stdout",
       "text": [
        " 384\n",
        "skipped  7\n",
        "521501901\n",
        "original article tmp file "
       ]
      },
      {
       "output_type": "stream",
       "stream": "stdout",
       "text": [
        " /tmp/tmpSRvkm7.html\n",
        "/tmp/tmpO2qYI7.html\n",
        "/tmp/tmpSRvkm7.html\n",
        "/tmp/tmpSRvkm7.html\n",
        "Now open file:///tmp/tmpO2qYI7.html in your web browser\n"
       ]
      },
      {
       "output_type": "stream",
       "stream": "stdout",
       "text": [
        "\n",
        "processed "
       ]
      },
      {
       "output_type": "stream",
       "stream": "stdout",
       "text": [
        " 385\n",
        "skipped  7\n",
        "521596942\n",
        "original article tmp file "
       ]
      },
      {
       "output_type": "stream",
       "stream": "stdout",
       "text": [
        " /tmp/tmpK5Qumh.html\n",
        "/tmp/tmpqNe_JB.html\n",
        "/tmp/tmpK5Qumh.html\n",
        "/tmp/tmpK5Qumh.html\n",
        "Now open file:///tmp/tmpqNe_JB.html in your web browser\n"
       ]
      },
      {
       "output_type": "stream",
       "stream": "stdout",
       "text": [
        "\n",
        "processed "
       ]
      },
      {
       "output_type": "stream",
       "stream": "stdout",
       "text": [
        " 386\n",
        "skipped  7\n",
        "524336614\n",
        "original article tmp file "
       ]
      },
      {
       "output_type": "stream",
       "stream": "stdout",
       "text": [
        " /tmp/tmp3TXVLN.html\n",
        "/tmp/tmpOdSTKz.html\n",
        "/tmp/tmp3TXVLN.html\n",
        "/tmp/tmp3TXVLN.html\n",
        "Now open file:///tmp/tmpOdSTKz.html in your web browser\n"
       ]
      },
      {
       "output_type": "stream",
       "stream": "stdout",
       "text": [
        "\n",
        "processed "
       ]
      },
      {
       "output_type": "stream",
       "stream": "stdout",
       "text": [
        " 387\n",
        "skipped  7\n",
        "524583342\n",
        "original article tmp file "
       ]
      },
      {
       "output_type": "stream",
       "stream": "stdout",
       "text": [
        " /tmp/tmp3DlP2h.html\n",
        "/tmp/tmpHY5hMR.html\n",
        "/tmp/tmp3DlP2h.html\n",
        "/tmp/tmp3DlP2h.html\n",
        "Now open file:///tmp/tmpHY5hMR.html in your web browser\n"
       ]
      },
      {
       "output_type": "stream",
       "stream": "stdout",
       "text": [
        "\n",
        "processed "
       ]
      },
      {
       "output_type": "stream",
       "stream": "stdout",
       "text": [
        " 388\n",
        "skipped  7\n",
        "524747370\n",
        "original article tmp file "
       ]
      },
      {
       "output_type": "stream",
       "stream": "stdout",
       "text": [
        " /tmp/tmpBfLzBB.html\n",
        "/tmp/tmpNvdRc_.html\n",
        "/tmp/tmpBfLzBB.html\n",
        "/tmp/tmpBfLzBB.html\n",
        "Now open file:///tmp/tmpNvdRc_.html in your web browser\n"
       ]
      },
      {
       "output_type": "stream",
       "stream": "stdout",
       "text": [
        "\n",
        "processed "
       ]
      },
      {
       "output_type": "stream",
       "stream": "stdout",
       "text": [
        " 389\n",
        "skipped  7\n",
        "525018299\n",
        "original article tmp file "
       ]
      },
      {
       "output_type": "stream",
       "stream": "stdout",
       "text": [
        " /tmp/tmpB4L0wR.html\n",
        "/tmp/tmpWETG_f.html\n",
        "/tmp/tmpB4L0wR.html\n",
        "/tmp/tmpB4L0wR.html\n",
        "Now open file:///tmp/tmpWETG_f.html in your web browser\n"
       ]
      },
      {
       "output_type": "stream",
       "stream": "stdout",
       "text": [
        "\n",
        "processed "
       ]
      },
      {
       "output_type": "stream",
       "stream": "stdout",
       "text": [
        " 390\n",
        "skipped  7\n",
        "525274342\n",
        "original article tmp file "
       ]
      },
      {
       "output_type": "stream",
       "stream": "stdout",
       "text": [
        " /tmp/tmpksUt3U.html\n",
        "/tmp/tmpK2mIkg.html\n",
        "/tmp/tmpksUt3U.html\n",
        "/tmp/tmpksUt3U.html\n",
        "Now open file:///tmp/tmpK2mIkg.html in your web browser\n"
       ]
      },
      {
       "output_type": "stream",
       "stream": "stdout",
       "text": [
        "\n",
        "processed "
       ]
      },
      {
       "output_type": "stream",
       "stream": "stdout",
       "text": [
        " 391\n",
        "skipped  7\n",
        "525762267\n",
        "original article tmp file "
       ]
      },
      {
       "output_type": "stream",
       "stream": "stdout",
       "text": [
        " /tmp/tmppNVuSX.html\n",
        "/tmp/tmptF34C3.html\n",
        "/tmp/tmppNVuSX.html\n",
        "/tmp/tmppNVuSX.html\n",
        "Now open file:///tmp/tmptF34C3.html in your web browser\n"
       ]
      },
      {
       "output_type": "stream",
       "stream": "stdout",
       "text": [
        "\n",
        "processed "
       ]
      },
      {
       "output_type": "stream",
       "stream": "stdout",
       "text": [
        " 392\n",
        "skipped  7\n",
        "526210669\n",
        "original article tmp file "
       ]
      },
      {
       "output_type": "stream",
       "stream": "stdout",
       "text": [
        " /tmp/tmpI8cfcA.html\n",
        "/tmp/tmpV5Res9.html\n",
        "/tmp/tmpI8cfcA.html\n",
        "/tmp/tmpI8cfcA.html\n",
        "Now open file:///tmp/tmpV5Res9.html in your web browser\n"
       ]
      },
      {
       "output_type": "stream",
       "stream": "stdout",
       "text": [
        "\n",
        "processed "
       ]
      },
      {
       "output_type": "stream",
       "stream": "stdout",
       "text": [
        " 393\n",
        "skipped  7\n",
        "526399492\n",
        "original article tmp file "
       ]
      },
      {
       "output_type": "stream",
       "stream": "stdout",
       "text": [
        " /tmp/tmpdDzFU1.html\n",
        "/tmp/tmpc3WOTP.html\n",
        "/tmp/tmpdDzFU1.html\n",
        "/tmp/tmpdDzFU1.html\n",
        "Now open file:///tmp/tmpc3WOTP.html in your web browser\n"
       ]
      },
      {
       "output_type": "stream",
       "stream": "stdout",
       "text": [
        "\n",
        "processed "
       ]
      },
      {
       "output_type": "stream",
       "stream": "stdout",
       "text": [
        " 394\n",
        "skipped  7\n",
        "526437284\n",
        "original article tmp file "
       ]
      },
      {
       "output_type": "stream",
       "stream": "stdout",
       "text": [
        " /tmp/tmpRY0eCq.html\n",
        "/tmp/tmpZyB7vk.html\n",
        "/tmp/tmpRY0eCq.html\n",
        "/tmp/tmpRY0eCq.html\n",
        "Now open file:///tmp/tmpZyB7vk.html in your web browser\n"
       ]
      },
      {
       "output_type": "stream",
       "stream": "stdout",
       "text": [
        "\n",
        "processed "
       ]
      },
      {
       "output_type": "stream",
       "stream": "stdout",
       "text": [
        " 395\n",
        "skipped  7\n",
        "526513004\n",
        "original article tmp file "
       ]
      },
      {
       "output_type": "stream",
       "stream": "stdout",
       "text": [
        " /tmp/tmpnfgyov.html\n",
        "/tmp/tmpaKyU3s.html\n",
        "/tmp/tmpnfgyov.html\n",
        "/tmp/tmpnfgyov.html\n",
        "Now open file:///tmp/tmpaKyU3s.html in your web browser\n"
       ]
      },
      {
       "output_type": "stream",
       "stream": "stdout",
       "text": [
        "\n",
        "processed "
       ]
      },
      {
       "output_type": "stream",
       "stream": "stdout",
       "text": [
        " 396\n",
        "skipped  7\n",
        "526972862\n",
        "original article tmp file "
       ]
      },
      {
       "output_type": "stream",
       "stream": "stdout",
       "text": [
        " /tmp/tmp5LiPr8.html\n",
        "/tmp/tmpHEAnrF.html\n",
        "/tmp/tmp5LiPr8.html\n",
        "/tmp/tmp5LiPr8.html\n",
        "Now open file:///tmp/tmpHEAnrF.html in your web browser\n"
       ]
      },
      {
       "output_type": "stream",
       "stream": "stdout",
       "text": [
        "\n",
        "processed "
       ]
      },
      {
       "output_type": "stream",
       "stream": "stdout",
       "text": [
        " 397\n",
        "skipped  7\n",
        "527258084\n",
        "original article tmp file "
       ]
      },
      {
       "output_type": "stream",
       "stream": "stdout",
       "text": [
        " /tmp/tmpzIRKI7.html\n",
        "/tmp/tmpzT4rZM.html\n",
        "/tmp/tmpzIRKI7.html\n",
        "/tmp/tmpzIRKI7.html\n",
        "Now open file:///tmp/tmpzT4rZM.html in your web browser\n"
       ]
      },
      {
       "output_type": "stream",
       "stream": "stdout",
       "text": [
        "\n",
        "processed "
       ]
      },
      {
       "output_type": "stream",
       "stream": "stdout",
       "text": [
        " 398\n",
        "skipped  7\n",
        "528174162\n",
        "original article tmp file "
       ]
      },
      {
       "output_type": "stream",
       "stream": "stdout",
       "text": [
        " /tmp/tmpLJsb9B.html\n",
        "/tmp/tmpJeW1Qm.html\n",
        "/tmp/tmpLJsb9B.html\n",
        "/tmp/tmpLJsb9B.html\n",
        "Now open file:///tmp/tmpJeW1Qm.html in your web browser\n"
       ]
      },
      {
       "output_type": "stream",
       "stream": "stdout",
       "text": [
        "\n",
        "processed "
       ]
      },
      {
       "output_type": "stream",
       "stream": "stdout",
       "text": [
        " 399\n",
        "skipped  7\n",
        "528717265\n",
        "original article tmp file "
       ]
      },
      {
       "output_type": "stream",
       "stream": "stdout",
       "text": [
        " /tmp/tmpaRGa4Z.html\n",
        "/tmp/tmpOcNW9D.html\n",
        "/tmp/tmpaRGa4Z.html\n",
        "/tmp/tmpaRGa4Z.html\n",
        "Now open file:///tmp/tmpOcNW9D.html in your web browser\n"
       ]
      },
      {
       "output_type": "stream",
       "stream": "stdout",
       "text": [
        "\n",
        "processed "
       ]
      },
      {
       "output_type": "stream",
       "stream": "stdout",
       "text": [
        " 400\n",
        "skipped  7\n",
        "529134306\n",
        "original article tmp file "
       ]
      },
      {
       "output_type": "stream",
       "stream": "stdout",
       "text": [
        " /tmp/tmpSTabiW.html\n",
        "/tmp/tmp7LGgmo.html\n",
        "/tmp/tmpSTabiW.html\n",
        "/tmp/tmpSTabiW.html\n",
        "Now open file:///tmp/tmp7LGgmo.html in your web browser\n"
       ]
      },
      {
       "output_type": "stream",
       "stream": "stdout",
       "text": [
        "\n",
        "processed "
       ]
      },
      {
       "output_type": "stream",
       "stream": "stdout",
       "text": [
        " 401\n",
        "skipped  7\n",
        "529174292\n",
        "error on download529174292"
       ]
      },
      {
       "output_type": "stream",
       "stream": "stdout",
       "text": [
        "\n",
        "processed  401\n",
        "skipped  8\n",
        "529318707\n",
        "original article tmp file "
       ]
      },
      {
       "output_type": "stream",
       "stream": "stdout",
       "text": [
        " /tmp/tmpfVryHr.html\n",
        "/tmp/tmpEmkEgq.html\n",
        "/tmp/tmpfVryHr.html\n",
        "/tmp/tmpfVryHr.html\n",
        "Now open file:///tmp/tmpEmkEgq.html in your web browser\n"
       ]
      },
      {
       "output_type": "stream",
       "stream": "stdout",
       "text": [
        "\n",
        "processed "
       ]
      },
      {
       "output_type": "stream",
       "stream": "stdout",
       "text": [
        " 402\n",
        "skipped  8\n",
        "529350751\n",
        "original article tmp file "
       ]
      },
      {
       "output_type": "stream",
       "stream": "stdout",
       "text": [
        " /tmp/tmpExKGFB.html\n",
        "/tmp/tmpwiplV_.html\n",
        "/tmp/tmpExKGFB.html\n",
        "/tmp/tmpExKGFB.html\n",
        "Now open file:///tmp/tmpwiplV_.html in your web browser\n"
       ]
      },
      {
       "output_type": "stream",
       "stream": "stdout",
       "text": [
        "\n",
        "processed "
       ]
      },
      {
       "output_type": "stream",
       "stream": "stdout",
       "text": [
        " 403\n",
        "skipped  8\n",
        "529500550\n",
        "original article tmp file "
       ]
      },
      {
       "output_type": "stream",
       "stream": "stdout",
       "text": [
        " /tmp/tmpSQjMJR.html\n",
        "/tmp/tmpxeEm3I.html\n",
        "/tmp/tmpSQjMJR.html\n",
        "/tmp/tmpSQjMJR.html\n",
        "Now open file:///tmp/tmpxeEm3I.html in your web browser\n"
       ]
      },
      {
       "output_type": "stream",
       "stream": "stdout",
       "text": [
        "\n",
        "processed "
       ]
      },
      {
       "output_type": "stream",
       "stream": "stdout",
       "text": [
        " 404\n",
        "skipped  8\n",
        "529638751\n",
        "original article tmp file "
       ]
      },
      {
       "output_type": "stream",
       "stream": "stdout",
       "text": [
        " /tmp/tmpuixQVe.html\n",
        "/tmp/tmpSIdcCi.html\n",
        "/tmp/tmpuixQVe.html\n",
        "/tmp/tmpuixQVe.html\n",
        "Now open file:///tmp/tmpSIdcCi.html in your web browser\n"
       ]
      },
      {
       "output_type": "stream",
       "stream": "stdout",
       "text": [
        "\n",
        "processed "
       ]
      },
      {
       "output_type": "stream",
       "stream": "stdout",
       "text": [
        " 405\n",
        "skipped  8\n",
        "529835888\n",
        "original article tmp file "
       ]
      },
      {
       "output_type": "stream",
       "stream": "stdout",
       "text": [
        " /tmp/tmp75f6Su.html\n",
        "/tmp/tmp0pIihm.html\n",
        "/tmp/tmp75f6Su.html\n",
        "/tmp/tmp75f6Su.html\n",
        "Now open file:///tmp/tmp0pIihm.html in your web browser\n"
       ]
      },
      {
       "output_type": "stream",
       "stream": "stdout",
       "text": [
        "\n",
        "processed  406\n",
        "skipped  8\n",
        "529849320\n",
        "original article tmp file "
       ]
      },
      {
       "output_type": "stream",
       "stream": "stdout",
       "text": [
        " /tmp/tmp00giMR.html\n",
        "/tmp/tmpjorHOf.html\n",
        "/tmp/tmp00giMR.html\n",
        "/tmp/tmp00giMR.html\n",
        "Now open file:///tmp/tmpjorHOf.html in your web browser\n"
       ]
      },
      {
       "output_type": "stream",
       "stream": "stdout",
       "text": [
        "\n",
        "processed "
       ]
      },
      {
       "output_type": "stream",
       "stream": "stdout",
       "text": [
        " 407\n",
        "skipped  8\n",
        "529872483\n",
        "original article tmp file "
       ]
      },
      {
       "output_type": "stream",
       "stream": "stdout",
       "text": [
        " /tmp/tmpV7XAf0.html\n",
        "/tmp/tmpsArVHb.html\n",
        "/tmp/tmpV7XAf0.html\n",
        "/tmp/tmpV7XAf0.html\n",
        "Now open file:///tmp/tmpsArVHb.html in your web browser\n"
       ]
      },
      {
       "output_type": "stream",
       "stream": "stdout",
       "text": [
        "\n",
        "Unexpected error on string '</a>\n",
        "'"
       ]
      },
      {
       "output_type": "stream",
       "stream": "stdout",
       "text": [
        " <class 'lxml.etree.ParserError'>\n",
        "Unexpected error on string '</p>\n",
        "' <class 'lxml.etree.ParserError'>\n",
        "Unexpected error on string '</div>\n",
        "' <class 'lxml.etree.ParserError'>\n",
        "Unexpected error on string '</a>\n",
        "' <class 'lxml.etree.ParserError'>\n",
        "Unexpected error on string '</a>' <class 'lxml.etree.ParserError'>\n",
        "Unexpected error on string '</h2>\n",
        "' <class 'lxml.etree.ParserError'>\n",
        "Unexpected error on string '</a>' <class 'lxml.etree.ParserError'>\n",
        "Unexpected error on string '</p>\n",
        "' <class 'lxml.etree.ParserError'>\n",
        "Unexpected error on string '</a>' <class 'lxml.etree.ParserError'>\n",
        "Unexpected error on string '</p>\n",
        "' <class 'lxml.etree.ParserError'>\n",
        "Unexpected error on string '</div>\n",
        "' <class 'lxml.etree.ParserError'>\n",
        "Unexpected error on string '</div>\n",
        "' <class 'lxml.etree.ParserError'>\n",
        "Unexpected error on string '</div>\n",
        "' <class 'lxml.etree.ParserError'>\n",
        "Unexpected error on string '</a>\n",
        "'"
       ]
      },
      {
       "output_type": "stream",
       "stream": "stdout",
       "text": [
        " <class 'lxml.etree.ParserError'>\n",
        "Unexpected error on string '</p>\n",
        "' <class 'lxml.etree.ParserError'>\n",
        "Unexpected error on string '</div>\n",
        "' <class 'lxml.etree.ParserError'>\n",
        "Unexpected error on string '</a>\n",
        "' <class 'lxml.etree.ParserError'>\n",
        "Unexpected error on string '</a>' <class 'lxml.etree.ParserError'>\n",
        "Unexpected error on string '</h2>\n",
        "' <class 'lxml.etree.ParserError'>\n",
        "Unexpected error on string '</a>' <class 'lxml.etree.ParserError'>\n",
        "Unexpected error on string '</p>\n",
        "' <class 'lxml.etree.ParserError'>\n",
        "Unexpected error on string '</a>' <class 'lxml.etree.ParserError'>\n",
        "Unexpected error on string '</p>\n",
        "' <class 'lxml.etree.ParserError'>\n",
        "Unexpected error on string '</div>\n",
        "' <class 'lxml.etree.ParserError'>\n",
        "Unexpected error on string '</div>\n",
        "' <class 'lxml.etree.ParserError'>\n",
        "Unexpected error on string '</div>\n",
        "' <class 'lxml.etree.ParserError'>\n",
        "processed "
       ]
      },
      {
       "output_type": "stream",
       "stream": "stdout",
       "text": [
        " 408\n",
        "skipped  8\n",
        "529887477\n",
        "original article tmp file "
       ]
      },
      {
       "output_type": "stream",
       "stream": "stdout",
       "text": [
        " /tmp/tmpA8eBpA.html\n",
        "/tmp/tmpbr4IHw.html\n",
        "/tmp/tmpA8eBpA.html\n",
        "/tmp/tmpA8eBpA.html\n",
        "Now open file:///tmp/tmpbr4IHw.html in your web browser\n"
       ]
      },
      {
       "output_type": "stream",
       "stream": "stdout",
       "text": [
        "\n",
        "Unexpected error on string '</a>\n",
        "'"
       ]
      },
      {
       "output_type": "stream",
       "stream": "stdout",
       "text": [
        " <class 'lxml.etree.ParserError'>\n",
        "Unexpected error on string '</p>\n",
        "' <class 'lxml.etree.ParserError'>\n",
        "Unexpected error on string '</div>\n",
        "' <class 'lxml.etree.ParserError'>\n",
        "Unexpected error on string '</a>\n",
        "' <class 'lxml.etree.ParserError'>\n",
        "Unexpected error on string '</a>' <class 'lxml.etree.ParserError'>\n",
        "Unexpected error on string '</h2>\n",
        "' <class 'lxml.etree.ParserError'>\n",
        "Unexpected error on string '</a>' <class 'lxml.etree.ParserError'>\n",
        "Unexpected error on string '</p>\n",
        "' <class 'lxml.etree.ParserError'>\n",
        "Unexpected error on string '</a>' <class 'lxml.etree.ParserError'>\n",
        "Unexpected error on string '</p>\n",
        "' <class 'lxml.etree.ParserError'>\n",
        "Unexpected error on string '</div>\n",
        "' <class 'lxml.etree.ParserError'>\n",
        "Unexpected error on string '</div>\n",
        "' <class 'lxml.etree.ParserError'>\n",
        "Unexpected error on string '</div>\n",
        "' <class 'lxml.etree.ParserError'>\n",
        "Unexpected error on string '</a>\n",
        "'"
       ]
      },
      {
       "output_type": "stream",
       "stream": "stdout",
       "text": [
        " <class 'lxml.etree.ParserError'>\n",
        "Unexpected error on string '</p>\n",
        "' <class 'lxml.etree.ParserError'>\n",
        "Unexpected error on string '</div>\n",
        "' <class 'lxml.etree.ParserError'>\n",
        "Unexpected error on string '</a>\n",
        "' <class 'lxml.etree.ParserError'>\n",
        "Unexpected error on string '</a>' <class 'lxml.etree.ParserError'>\n",
        "Unexpected error on string '</h2>\n",
        "' <class 'lxml.etree.ParserError'>\n",
        "Unexpected error on string '</a>' <class 'lxml.etree.ParserError'>\n",
        "Unexpected error on string '</p>\n",
        "' <class 'lxml.etree.ParserError'>\n",
        "Unexpected error on string '</a>' <class 'lxml.etree.ParserError'>\n",
        "Unexpected error on string '</p>\n",
        "' <class 'lxml.etree.ParserError'>\n",
        "Unexpected error on string '</div>\n",
        "' <class 'lxml.etree.ParserError'>\n",
        "Unexpected error on string '</div>\n",
        "' <class 'lxml.etree.ParserError'>\n",
        "Unexpected error on string '</div>\n",
        "' <class 'lxml.etree.ParserError'>\n",
        "processed "
       ]
      },
      {
       "output_type": "stream",
       "stream": "stdout",
       "text": [
        " 409\n",
        "skipped  8\n",
        "530078770\n",
        "original article tmp file "
       ]
      },
      {
       "output_type": "stream",
       "stream": "stdout",
       "text": [
        " /tmp/tmpHOHPvm.html\n",
        "/tmp/tmp9hqQ7H.html\n",
        "/tmp/tmpHOHPvm.html\n",
        "/tmp/tmpHOHPvm.html\n",
        "Now open file:///tmp/tmp9hqQ7H.html in your web browser\n"
       ]
      },
      {
       "output_type": "stream",
       "stream": "stdout",
       "text": [
        "\n",
        "Unexpected error on string '</a>\n",
        "'"
       ]
      },
      {
       "output_type": "stream",
       "stream": "stdout",
       "text": [
        " <class 'lxml.etree.ParserError'>\n",
        "Unexpected error on string '</p>\n",
        "' <class 'lxml.etree.ParserError'>\n",
        "Unexpected error on string '</div>\n",
        "' <class 'lxml.etree.ParserError'>\n",
        "Unexpected error on string '</a>\n",
        "' <class 'lxml.etree.ParserError'>\n",
        "Unexpected error on string '</a>' <class 'lxml.etree.ParserError'>\n",
        "Unexpected error on string '</h2>\n",
        "' <class 'lxml.etree.ParserError'>\n",
        "Unexpected error on string '</a>' <class 'lxml.etree.ParserError'>\n",
        "Unexpected error on string '</p>\n",
        "' <class 'lxml.etree.ParserError'>\n",
        "Unexpected error on string '</a>' <class 'lxml.etree.ParserError'>\n",
        "Unexpected error on string '</p>\n",
        "' <class 'lxml.etree.ParserError'>\n",
        "Unexpected error on string '</div>\n",
        "' <class 'lxml.etree.ParserError'>\n",
        "Unexpected error on string '</div>\n",
        "' <class 'lxml.etree.ParserError'>\n",
        "Unexpected error on string '</div>\n",
        "' <class 'lxml.etree.ParserError'>\n",
        "Unexpected error on string '</a>\n",
        "' <class 'lxml.etree.ParserError'>\n",
        "Unexpected error on string '</p>\n",
        "' <class 'lxml.etree.ParserError'>\n",
        "Unexpected error on string '</div>\n",
        "' <class 'lxml.etree.ParserError'>\n",
        "Unexpected error on string '</a>\n",
        "' <class 'lxml.etree.ParserError'>\n",
        "Unexpected error on string '</a>' <class 'lxml.etree.ParserError'>\n",
        "Unexpected error on string '</h2>\n",
        "' <class 'lxml.etree.ParserError'>\n",
        "Unexpected error on string '</a>' <class 'lxml.etree.ParserError'>\n",
        "Unexpected error on string '</p>\n",
        "' <class 'lxml.etree.ParserError'>\n",
        "Unexpected error on string '</a>' <class 'lxml.etree.ParserError'>\n",
        "Unexpected error on string '</p>\n",
        "' <class 'lxml.etree.ParserError'>\n",
        "Unexpected error on string '</div>\n",
        "' <class 'lxml.etree.ParserError'>\n",
        "Unexpected error on string '</div>\n",
        "' <class 'lxml.etree.ParserError'>\n",
        "Unexpected error on string '</div>\n",
        "' <class 'lxml.etree.ParserError'>\n",
        "processed "
       ]
      },
      {
       "output_type": "stream",
       "stream": "stdout",
       "text": [
        " 410\n",
        "skipped  8\n",
        "530528969\n",
        "original article tmp file "
       ]
      },
      {
       "output_type": "stream",
       "stream": "stdout",
       "text": [
        " /tmp/tmpFV65gf.html\n",
        "/tmp/tmp3me23W.html\n",
        "/tmp/tmpFV65gf.html\n",
        "/tmp/tmpFV65gf.html\n",
        "Now open file:///tmp/tmp3me23W.html in your web browser\n"
       ]
      },
      {
       "output_type": "stream",
       "stream": "stdout",
       "text": [
        "\n",
        "processed "
       ]
      },
      {
       "output_type": "stream",
       "stream": "stdout",
       "text": [
        " 411\n",
        "skipped  8\n",
        "530758329\n",
        "original article tmp file "
       ]
      },
      {
       "output_type": "stream",
       "stream": "stdout",
       "text": [
        " /tmp/tmpcuhTU5.html\n",
        "/tmp/tmpK20NBE.html\n",
        "/tmp/tmpcuhTU5.html\n",
        "/tmp/tmpcuhTU5.html\n",
        "Now open file:///tmp/tmpK20NBE.html in your web browser\n"
       ]
      },
      {
       "output_type": "stream",
       "stream": "stdout",
       "text": [
        "\n",
        "processed "
       ]
      },
      {
       "output_type": "stream",
       "stream": "stdout",
       "text": [
        " 412\n",
        "skipped  8\n",
        "530760478\n",
        "original article tmp file "
       ]
      },
      {
       "output_type": "stream",
       "stream": "stdout",
       "text": [
        " /tmp/tmpIzuscV.html\n",
        "/tmp/tmpNzUDQ9.html\n",
        "/tmp/tmpIzuscV.html\n",
        "/tmp/tmpIzuscV.html\n",
        "Now open file:///tmp/tmpNzUDQ9.html in your web browser\n"
       ]
      },
      {
       "output_type": "stream",
       "stream": "stdout",
       "text": [
        "\n",
        "processed "
       ]
      },
      {
       "output_type": "stream",
       "stream": "stdout",
       "text": [
        " 413\n",
        "skipped  8\n",
        "531116330\n",
        "original article tmp file "
       ]
      },
      {
       "output_type": "stream",
       "stream": "stdout",
       "text": [
        " /tmp/tmpbAOLlw.html\n",
        "/tmp/tmpX3yoyZ.html\n",
        "/tmp/tmpbAOLlw.html\n",
        "/tmp/tmpbAOLlw.html\n",
        "Now open file:///tmp/tmpX3yoyZ.html in your web browser\n"
       ]
      },
      {
       "output_type": "stream",
       "stream": "stdout",
       "text": [
        "\n",
        "processed "
       ]
      },
      {
       "output_type": "stream",
       "stream": "stdout",
       "text": [
        " 414\n",
        "skipped  8\n",
        "531271665\n",
        "original article tmp file "
       ]
      },
      {
       "output_type": "stream",
       "stream": "stdout",
       "text": [
        " /tmp/tmpbp9zmO.html\n",
        "/tmp/tmpjdXaJ2.html\n",
        "/tmp/tmpbp9zmO.html\n",
        "/tmp/tmpbp9zmO.html\n",
        "Now open file:///tmp/tmpjdXaJ2.html in your web browser\n"
       ]
      },
      {
       "output_type": "stream",
       "stream": "stdout",
       "text": [
        "\n",
        "processed "
       ]
      },
      {
       "output_type": "stream",
       "stream": "stdout",
       "text": [
        " 415\n",
        "skipped  8\n",
        "531541254\n",
        "original article tmp file "
       ]
      },
      {
       "output_type": "stream",
       "stream": "stdout",
       "text": [
        " /tmp/tmp2a1wFW.html\n",
        "/tmp/tmpiLgQ7I.html\n",
        "/tmp/tmp2a1wFW.html\n",
        "/tmp/tmp2a1wFW.html\n",
        "Now open file:///tmp/tmpiLgQ7I.html in your web browser\n"
       ]
      },
      {
       "output_type": "stream",
       "stream": "stdout",
       "text": [
        "\n",
        "processed "
       ]
      },
      {
       "output_type": "stream",
       "stream": "stdout",
       "text": [
        " 416\n",
        "skipped  8\n",
        "531805217\n",
        "original article tmp file "
       ]
      },
      {
       "output_type": "stream",
       "stream": "stdout",
       "text": [
        " /tmp/tmphjXXFQ.html\n",
        "/tmp/tmpapivTR.html\n",
        "/tmp/tmphjXXFQ.html\n",
        "/tmp/tmphjXXFQ.html\n",
        "Now open file:///tmp/tmpapivTR.html in your web browser\n"
       ]
      },
      {
       "output_type": "stream",
       "stream": "stdout",
       "text": [
        "\n",
        "Unexpected error on string '</a>'"
       ]
      },
      {
       "output_type": "stream",
       "stream": "stdout",
       "text": [
        " <class 'lxml.etree.ParserError'>\n",
        "Unexpected error on string '</div>' <class 'lxml.etree.ParserError'>\n",
        "Unexpected error on string '</a>' <class 'lxml.etree.ParserError'>\n",
        "Unexpected error on string '</h1>' <class 'lxml.etree.ParserError'>\n",
        "Unexpected error on string '<!-- \u0420\u040e\u0420\u0455\u0420\u0406\u0420\u00b5\u0421\u201a: \u0420\u0452\u0420\u0405\u0420\u0455\u0420\u0405\u0421\u0403 \u0420\u0406\u0421\u2039\u0421\u20ac\u0420\u00b5 \u0420\u0458\u0420\u0455\u0420\u00b6\u0420\u0405\u0420\u0455 \u0420\u0457\u0420\u0455\u0420\u0458\u0420\u00b5\u0420\u0405\u0421\u040f\u0421\u201a\u0421\u040a \u0420\u0405\u0420\u00b0 \u0421\u2020\u0420\u0451\u0421\u201a\u0420\u00b0\u0421\u201a\u0421\u0453 \u0420\u0451\u0420\u00b7 \u0421\u201a\u0420\u00b5\u0420\u0454\u0421\u0403\u0421\u201a\u0420\u00b0 -->' <class 'lxml.etree.ParserError'>\n",
        "Unexpected error on string '</a>' <class 'lxml.etree.ParserError'>\n",
        "Unexpected error on string '</span>' <class 'lxml.etree.ParserError'>\n",
        "Unexpected error on string '</td>' <class 'lxml.etree.ParserError'>\n",
        "Unexpected error on string '</tr>' <class 'lxml.etree.ParserError'>\n",
        "Unexpected error on string '</table>' <class 'lxml.etree.ParserError'>\n",
        "Unexpected error on string '</td>' <class 'lxml.etree.ParserError'>\n",
        "Unexpected error on string '</tr>' <class 'lxml.etree.ParserError'>\n",
        "Unexpected error on string '</table>\n",
        "' <class 'lxml.etree.ParserError'>\n",
        "Unexpected error on string '</a>'"
       ]
      },
      {
       "output_type": "stream",
       "stream": "stdout",
       "text": [
        " <class 'lxml.etree.ParserError'>\n",
        "Unexpected error on string '</div>' <class 'lxml.etree.ParserError'>\n",
        "Unexpected error on string '</a>' <class 'lxml.etree.ParserError'>\n",
        "Unexpected error on string '</h1>' <class 'lxml.etree.ParserError'>\n",
        "Unexpected error on string '<!-- \u0420\u040e\u0420\u0455\u0420\u0406\u0420\u00b5\u0421\u201a: \u0420\u0452\u0420\u0405\u0420\u0455\u0420\u0405\u0421\u0403 \u0420\u0406\u0421\u2039\u0421\u20ac\u0420\u00b5 \u0420\u0458\u0420\u0455\u0420\u00b6\u0420\u0405\u0420\u0455 \u0420\u0457\u0420\u0455\u0420\u0458\u0420\u00b5\u0420\u0405\u0421\u040f\u0421\u201a\u0421\u040a \u0420\u0405\u0420\u00b0 \u0421\u2020\u0420\u0451\u0421\u201a\u0420\u00b0\u0421\u201a\u0421\u0453 \u0420\u0451\u0420\u00b7 \u0421\u201a\u0420\u00b5\u0420\u0454\u0421\u0403\u0421\u201a\u0420\u00b0 -->' <class 'lxml.etree.ParserError'>\n",
        "Unexpected error on string '</a>' <class 'lxml.etree.ParserError'>\n",
        "Unexpected error on string '</span>' <class 'lxml.etree.ParserError'>\n",
        "Unexpected error on string '</td>' <class 'lxml.etree.ParserError'>\n",
        "Unexpected error on string '</tr>' <class 'lxml.etree.ParserError'>\n",
        "Unexpected error on string '</table>' <class 'lxml.etree.ParserError'>\n",
        "Unexpected error on string '</td>' <class 'lxml.etree.ParserError'>\n",
        "Unexpected error on string '</tr>' <class 'lxml.etree.ParserError'>\n",
        "Unexpected error on string '</table>\n",
        "' <class 'lxml.etree.ParserError'>\n",
        "processed "
       ]
      },
      {
       "output_type": "stream",
       "stream": "stdout",
       "text": [
        " 417\n",
        "skipped  8\n",
        "531997009\n",
        "original article tmp file "
       ]
      },
      {
       "output_type": "stream",
       "stream": "stdout",
       "text": [
        " /tmp/tmpqt2Lrl.html\n",
        "/tmp/tmpsqH2iA.html\n",
        "/tmp/tmpqt2Lrl.html\n",
        "/tmp/tmpqt2Lrl.html\n",
        "Now open file:///tmp/tmpsqH2iA.html in your web browser\n"
       ]
      },
      {
       "output_type": "stream",
       "stream": "stdout",
       "text": [
        "\n",
        "processed "
       ]
      },
      {
       "output_type": "stream",
       "stream": "stdout",
       "text": [
        " 418\n",
        "skipped  8\n",
        "532554918\n",
        "original article tmp file "
       ]
      },
      {
       "output_type": "stream",
       "stream": "stdout",
       "text": [
        " /tmp/tmpxcXxtk.html\n",
        "/tmp/tmpMXaUuR.html\n",
        "/tmp/tmpxcXxtk.html\n",
        "/tmp/tmpxcXxtk.html\n",
        "Now open file:///tmp/tmpMXaUuR.html in your web browser\n"
       ]
      },
      {
       "output_type": "stream",
       "stream": "stdout",
       "text": [
        "\n",
        "processed "
       ]
      },
      {
       "output_type": "stream",
       "stream": "stdout",
       "text": [
        " 419\n",
        "skipped  8\n",
        "532672804\n",
        "original article tmp file "
       ]
      },
      {
       "output_type": "stream",
       "stream": "stdout",
       "text": [
        " /tmp/tmpWzOdwk.html\n",
        "/tmp/tmp4H2qXz.html\n",
        "/tmp/tmpWzOdwk.html\n",
        "/tmp/tmpWzOdwk.html\n",
        "Now open file:///tmp/tmp4H2qXz.html in your web browser\n"
       ]
      },
      {
       "output_type": "stream",
       "stream": "stdout",
       "text": [
        "\n",
        "processed "
       ]
      },
      {
       "output_type": "stream",
       "stream": "stdout",
       "text": [
        " 420\n",
        "skipped  8\n",
        "533194544\n",
        "original article tmp file "
       ]
      },
      {
       "output_type": "stream",
       "stream": "stdout",
       "text": [
        " /tmp/tmpMfquYK.html\n",
        "/tmp/tmpHwewd0.html\n",
        "/tmp/tmpMfquYK.html\n",
        "/tmp/tmpMfquYK.html\n",
        "Now open file:///tmp/tmpHwewd0.html in your web browser\n"
       ]
      },
      {
       "output_type": "stream",
       "stream": "stdout",
       "text": [
        "\n",
        "processed "
       ]
      },
      {
       "output_type": "stream",
       "stream": "stdout",
       "text": [
        " 421\n",
        "skipped  8\n",
        "533730844\n",
        "original article tmp file "
       ]
      },
      {
       "output_type": "stream",
       "stream": "stdout",
       "text": [
        " /tmp/tmpKfcYkR.html\n",
        "/tmp/tmpW_eiZH.html\n",
        "/tmp/tmpKfcYkR.html\n",
        "/tmp/tmpKfcYkR.html\n",
        "Now open file:///tmp/tmpW_eiZH.html in your web browser\n"
       ]
      },
      {
       "output_type": "stream",
       "stream": "stdout",
       "text": [
        "\n",
        "processed "
       ]
      },
      {
       "output_type": "stream",
       "stream": "stdout",
       "text": [
        " 422\n",
        "skipped  8\n",
        "533889958\n",
        "original article tmp file "
       ]
      },
      {
       "output_type": "stream",
       "stream": "stdout",
       "text": [
        " /tmp/tmpCD2uZB.html\n",
        "/tmp/tmpSXo0qu.html\n",
        "/tmp/tmpCD2uZB.html\n",
        "/tmp/tmpCD2uZB.html\n",
        "Now open file:///tmp/tmpSXo0qu.html in your web browser\n"
       ]
      },
      {
       "output_type": "stream",
       "stream": "stdout",
       "text": [
        "\n",
        "processed "
       ]
      },
      {
       "output_type": "stream",
       "stream": "stdout",
       "text": [
        " 423\n",
        "skipped  8\n",
        "534093073\n",
        "original article tmp file "
       ]
      },
      {
       "output_type": "stream",
       "stream": "stdout",
       "text": [
        " /tmp/tmpwHKhSC.html\n",
        "/tmp/tmpNHfGbP.html\n",
        "/tmp/tmpwHKhSC.html\n",
        "/tmp/tmpwHKhSC.html\n",
        "Now open file:///tmp/tmpNHfGbP.html in your web browser\n"
       ]
      },
      {
       "output_type": "stream",
       "stream": "stdout",
       "text": [
        "\n",
        "processed "
       ]
      },
      {
       "output_type": "stream",
       "stream": "stdout",
       "text": [
        " 424\n",
        "skipped  8\n",
        "534505078\n",
        "original article tmp file "
       ]
      },
      {
       "output_type": "stream",
       "stream": "stdout",
       "text": [
        " /tmp/tmp0VAOLy.html\n",
        "/tmp/tmpixgnOG.html\n",
        "/tmp/tmp0VAOLy.html\n",
        "/tmp/tmp0VAOLy.html\n",
        "Now open file:///tmp/tmpixgnOG.html in your web browser\n"
       ]
      },
      {
       "output_type": "stream",
       "stream": "stdout",
       "text": [
        "\n",
        "processed "
       ]
      },
      {
       "output_type": "stream",
       "stream": "stdout",
       "text": [
        " 425\n",
        "skipped  8\n",
        "534718899\n",
        "original article tmp file "
       ]
      },
      {
       "output_type": "stream",
       "stream": "stdout",
       "text": [
        " /tmp/tmpVnRbo5.html\n",
        "/tmp/tmp84DMDz.html\n",
        "/tmp/tmpVnRbo5.html\n",
        "/tmp/tmpVnRbo5.html\n",
        "Now open file:///tmp/tmp84DMDz.html in your web browser\n"
       ]
      },
      {
       "output_type": "stream",
       "stream": "stdout",
       "text": [
        "\n",
        "Unexpected error on string '</a>\n",
        "'"
       ]
      },
      {
       "output_type": "stream",
       "stream": "stdout",
       "text": [
        " <class 'lxml.etree.ParserError'>\n",
        "Unexpected error on string '</p>\n",
        "' <class 'lxml.etree.ParserError'>\n",
        "Unexpected error on string '</div>\n",
        "' <class 'lxml.etree.ParserError'>\n",
        "Unexpected error on string '</a>\n",
        "' <class 'lxml.etree.ParserError'>\n",
        "Unexpected error on string '</a>' <class 'lxml.etree.ParserError'>\n",
        "Unexpected error on string '</h2>\n",
        "' <class 'lxml.etree.ParserError'>\n",
        "Unexpected error on string '</a>' <class 'lxml.etree.ParserError'>\n",
        "Unexpected error on string '</p>\n",
        "' <class 'lxml.etree.ParserError'>\n",
        "Unexpected error on string '</a>' <class 'lxml.etree.ParserError'>\n",
        "Unexpected error on string '</p>\n",
        "' <class 'lxml.etree.ParserError'>\n",
        "Unexpected error on string '</div>\n",
        "' <class 'lxml.etree.ParserError'>\n",
        "Unexpected error on string '</div>\n",
        "' <class 'lxml.etree.ParserError'>\n",
        "Unexpected error on string '</div>\n",
        "' <class 'lxml.etree.ParserError'>\n",
        "Unexpected error on string '</a>\n",
        "'"
       ]
      },
      {
       "output_type": "stream",
       "stream": "stdout",
       "text": [
        " <class 'lxml.etree.ParserError'>\n",
        "Unexpected error on string '</p>\n",
        "' <class 'lxml.etree.ParserError'>\n",
        "Unexpected error on string '</div>\n",
        "' <class 'lxml.etree.ParserError'>\n",
        "Unexpected error on string '</a>\n",
        "' <class 'lxml.etree.ParserError'>\n",
        "Unexpected error on string '</a>' <class 'lxml.etree.ParserError'>\n",
        "Unexpected error on string '</h2>\n",
        "' <class 'lxml.etree.ParserError'>\n",
        "Unexpected error on string '</a>' <class 'lxml.etree.ParserError'>\n",
        "Unexpected error on string '</p>\n",
        "' <class 'lxml.etree.ParserError'>\n",
        "Unexpected error on string '</a>' <class 'lxml.etree.ParserError'>\n",
        "Unexpected error on string '</p>\n",
        "' <class 'lxml.etree.ParserError'>\n",
        "Unexpected error on string '</div>\n",
        "' <class 'lxml.etree.ParserError'>\n",
        "Unexpected error on string '</div>\n",
        "' <class 'lxml.etree.ParserError'>\n",
        "Unexpected error on string '</div>\n",
        "' <class 'lxml.etree.ParserError'>\n",
        "processed "
       ]
      },
      {
       "output_type": "stream",
       "stream": "stdout",
       "text": [
        " 426\n",
        "skipped  8\n",
        "534742315\n",
        "original article tmp file "
       ]
      },
      {
       "output_type": "stream",
       "stream": "stdout",
       "text": [
        " /tmp/tmpfo6CGb.html\n",
        "/tmp/tmpmQ2UHV.html\n",
        "/tmp/tmpfo6CGb.html\n",
        "/tmp/tmpfo6CGb.html\n",
        "Now open file:///tmp/tmpmQ2UHV.html in your web browser\n"
       ]
      },
      {
       "output_type": "stream",
       "stream": "stdout",
       "text": [
        "\n",
        "processed "
       ]
      },
      {
       "output_type": "stream",
       "stream": "stdout",
       "text": [
        " 427\n",
        "skipped  8\n",
        "534981910\n",
        "original article tmp file "
       ]
      },
      {
       "output_type": "stream",
       "stream": "stdout",
       "text": [
        " /tmp/tmprl89Oi.html\n",
        "/tmp/tmp0IKjG8.html\n",
        "/tmp/tmprl89Oi.html\n",
        "/tmp/tmprl89Oi.html\n",
        "Now open file:///tmp/tmp0IKjG8.html in your web browser\n"
       ]
      },
      {
       "output_type": "stream",
       "stream": "stdout",
       "text": [
        "\n",
        "Unexpected error on string '</a>\n",
        "'"
       ]
      },
      {
       "output_type": "stream",
       "stream": "stdout",
       "text": [
        " <class 'lxml.etree.ParserError'>\n",
        "Unexpected error on string '</p>\n",
        "' <class 'lxml.etree.ParserError'>\n",
        "Unexpected error on string '</div>\n",
        "' <class 'lxml.etree.ParserError'>\n",
        "Unexpected error on string '</a>\n",
        "' <class 'lxml.etree.ParserError'>\n",
        "Unexpected error on string '</a>' <class 'lxml.etree.ParserError'>\n",
        "Unexpected error on string '</h2>\n",
        "' <class 'lxml.etree.ParserError'>\n",
        "Unexpected error on string '</a>' <class 'lxml.etree.ParserError'>\n",
        "Unexpected error on string '</p>\n",
        "' <class 'lxml.etree.ParserError'>\n",
        "Unexpected error on string '</a>' <class 'lxml.etree.ParserError'>\n",
        "Unexpected error on string '</p>\n",
        "' <class 'lxml.etree.ParserError'>\n",
        "Unexpected error on string '</div>\n",
        "' <class 'lxml.etree.ParserError'>\n",
        "Unexpected error on string '</div>\n",
        "' <class 'lxml.etree.ParserError'>\n",
        "Unexpected error on string '</div>\n",
        "' <class 'lxml.etree.ParserError'>\n",
        "Unexpected error on string '</a>\n",
        "'"
       ]
      },
      {
       "output_type": "stream",
       "stream": "stdout",
       "text": [
        " <class 'lxml.etree.ParserError'>\n",
        "Unexpected error on string '</p>\n",
        "' <class 'lxml.etree.ParserError'>\n",
        "Unexpected error on string '</div>\n",
        "' <class 'lxml.etree.ParserError'>\n",
        "Unexpected error on string '</a>\n",
        "' <class 'lxml.etree.ParserError'>\n",
        "Unexpected error on string '</a>' <class 'lxml.etree.ParserError'>\n",
        "Unexpected error on string '</h2>\n",
        "' <class 'lxml.etree.ParserError'>\n",
        "Unexpected error on string '</a>' <class 'lxml.etree.ParserError'>\n",
        "Unexpected error on string '</p>\n",
        "' <class 'lxml.etree.ParserError'>\n",
        "Unexpected error on string '</a>' <class 'lxml.etree.ParserError'>\n",
        "Unexpected error on string '</p>\n",
        "' <class 'lxml.etree.ParserError'>\n",
        "Unexpected error on string '</div>\n",
        "' <class 'lxml.etree.ParserError'>\n",
        "Unexpected error on string '</div>\n",
        "' <class 'lxml.etree.ParserError'>\n",
        "Unexpected error on string '</div>\n",
        "' <class 'lxml.etree.ParserError'>\n",
        "processed "
       ]
      },
      {
       "output_type": "stream",
       "stream": "stdout",
       "text": [
        " 428\n",
        "skipped  8\n",
        "535201962\n",
        "original article tmp file "
       ]
      },
      {
       "output_type": "stream",
       "stream": "stdout",
       "text": [
        " /tmp/tmpSxO26d.html\n",
        "/tmp/tmpl5t8xT.html\n",
        "/tmp/tmpSxO26d.html\n",
        "/tmp/tmpSxO26d.html\n",
        "Now open file:///tmp/tmpl5t8xT.html in your web browser\n"
       ]
      },
      {
       "output_type": "stream",
       "stream": "stdout",
       "text": [
        "\n",
        "processed "
       ]
      },
      {
       "output_type": "stream",
       "stream": "stdout",
       "text": [
        " 429\n",
        "skipped  8\n",
        "535469332\n",
        "original article tmp file "
       ]
      },
      {
       "output_type": "stream",
       "stream": "stdout",
       "text": [
        " /tmp/tmptieGgC.html\n",
        "/tmp/tmp5PgTKV.html\n",
        "/tmp/tmptieGgC.html\n",
        "/tmp/tmptieGgC.html\n",
        "Now open file:///tmp/tmp5PgTKV.html in your web browser\n"
       ]
      },
      {
       "output_type": "stream",
       "stream": "stdout",
       "text": [
        "\n",
        "processed "
       ]
      },
      {
       "output_type": "stream",
       "stream": "stdout",
       "text": [
        " 430\n",
        "skipped  8\n",
        "535880958\n",
        "original article tmp file "
       ]
      },
      {
       "output_type": "stream",
       "stream": "stdout",
       "text": [
        " /tmp/tmpFneM4w.html\n",
        "/tmp/tmpsjIovv.html\n",
        "/tmp/tmpFneM4w.html\n",
        "/tmp/tmpFneM4w.html\n",
        "Now open file:///tmp/tmpsjIovv.html in your web browser\n"
       ]
      },
      {
       "output_type": "stream",
       "stream": "stdout",
       "text": [
        "\n",
        "processed "
       ]
      },
      {
       "output_type": "stream",
       "stream": "stdout",
       "text": [
        " 431\n",
        "skipped  8\n",
        "536870204\n",
        "original article tmp file "
       ]
      },
      {
       "output_type": "stream",
       "stream": "stdout",
       "text": [
        " /tmp/tmpefqW9M.html\n",
        "/tmp/tmpsRgOE9.html\n",
        "/tmp/tmpefqW9M.html\n",
        "/tmp/tmpefqW9M.html\n",
        "Now open file:///tmp/tmpsRgOE9.html in your web browser\n"
       ]
      },
      {
       "output_type": "stream",
       "stream": "stdout",
       "text": [
        "\n",
        "processed "
       ]
      },
      {
       "output_type": "stream",
       "stream": "stdout",
       "text": [
        " 432\n",
        "skipped  8\n",
        "536977072\n",
        "original article tmp file "
       ]
      },
      {
       "output_type": "stream",
       "stream": "stdout",
       "text": [
        " /tmp/tmpkxp1CR.html\n",
        "/tmp/tmpT8Kdgi.html\n",
        "/tmp/tmpkxp1CR.html\n",
        "/tmp/tmpkxp1CR.html\n",
        "Now open file:///tmp/tmpT8Kdgi.html in your web browser\n"
       ]
      },
      {
       "output_type": "stream",
       "stream": "stdout",
       "text": [
        "\n",
        "processed "
       ]
      },
      {
       "output_type": "stream",
       "stream": "stdout",
       "text": [
        " 433\n",
        "skipped  8\n",
        "537231678\n",
        "original article tmp file "
       ]
      },
      {
       "output_type": "stream",
       "stream": "stdout",
       "text": [
        " /tmp/tmph_n3dt.html\n",
        "/tmp/tmp9nNEDz.html\n",
        "/tmp/tmph_n3dt.html\n",
        "/tmp/tmph_n3dt.html\n",
        "Now open file:///tmp/tmp9nNEDz.html in your web browser\n"
       ]
      },
      {
       "output_type": "stream",
       "stream": "stdout",
       "text": [
        "\n",
        "processed "
       ]
      },
      {
       "output_type": "stream",
       "stream": "stdout",
       "text": [
        " 434\n",
        "skipped  8\n",
        "537256396\n",
        "original article tmp file "
       ]
      },
      {
       "output_type": "stream",
       "stream": "stdout",
       "text": [
        " /tmp/tmpJvF5RS.html\n",
        "/tmp/tmpVPqdIW.html\n",
        "/tmp/tmpJvF5RS.html\n",
        "/tmp/tmpJvF5RS.html\n",
        "Now open file:///tmp/tmpVPqdIW.html in your web browser\n"
       ]
      },
      {
       "output_type": "stream",
       "stream": "stdout",
       "text": [
        "\n",
        "processed "
       ]
      },
      {
       "output_type": "stream",
       "stream": "stdout",
       "text": [
        " 435\n",
        "skipped  8\n",
        "537704893\n",
        "original article tmp file "
       ]
      },
      {
       "output_type": "stream",
       "stream": "stdout",
       "text": [
        " /tmp/tmpLwVVn7.html\n",
        "/tmp/tmpulPAa0.html\n",
        "/tmp/tmpLwVVn7.html\n",
        "/tmp/tmpLwVVn7.html\n",
        "Now open file:///tmp/tmpulPAa0.html in your web browser\n"
       ]
      },
      {
       "output_type": "stream",
       "stream": "stdout",
       "text": [
        "\n",
        "processed "
       ]
      },
      {
       "output_type": "stream",
       "stream": "stdout",
       "text": [
        " 436\n",
        "skipped  8\n",
        "538721777\n",
        "original article tmp file "
       ]
      },
      {
       "output_type": "stream",
       "stream": "stdout",
       "text": [
        " /tmp/tmpuyIYso.html\n",
        "/tmp/tmpxFEZcA.html\n",
        "/tmp/tmpuyIYso.html\n",
        "/tmp/tmpuyIYso.html\n",
        "Now open file:///tmp/tmpxFEZcA.html in your web browser\n"
       ]
      },
      {
       "output_type": "stream",
       "stream": "stdout",
       "text": [
        "\n",
        "processed "
       ]
      },
      {
       "output_type": "stream",
       "stream": "stdout",
       "text": [
        " 437\n",
        "skipped  8\n",
        "539056055\n",
        "original article tmp file "
       ]
      },
      {
       "output_type": "stream",
       "stream": "stdout",
       "text": [
        " /tmp/tmpXQ7iFd.html\n",
        "/tmp/tmp5pZbyf.html\n",
        "/tmp/tmpXQ7iFd.html\n",
        "/tmp/tmpXQ7iFd.html\n",
        "Now open file:///tmp/tmp5pZbyf.html in your web browser\n"
       ]
      },
      {
       "output_type": "stream",
       "stream": "stdout",
       "text": [
        "\n",
        "processed "
       ]
      },
      {
       "output_type": "stream",
       "stream": "stdout",
       "text": [
        " 438\n",
        "skipped  8\n",
        "539126425\n",
        "original article tmp file "
       ]
      },
      {
       "output_type": "stream",
       "stream": "stdout",
       "text": [
        " /tmp/tmpZq0Fhb.html\n",
        "/tmp/tmpHUq1xd.html\n",
        "/tmp/tmpZq0Fhb.html\n",
        "/tmp/tmpZq0Fhb.html\n",
        "Now open file:///tmp/tmpHUq1xd.html in your web browser\n"
       ]
      },
      {
       "output_type": "stream",
       "stream": "stdout",
       "text": [
        "\n",
        "processed "
       ]
      },
      {
       "output_type": "stream",
       "stream": "stdout",
       "text": [
        " 439\n",
        "skipped  8\n",
        "539389371\n",
        "original article tmp file "
       ]
      },
      {
       "output_type": "stream",
       "stream": "stdout",
       "text": [
        " /tmp/tmpeteWQg.html\n",
        "/tmp/tmpGJzr_s.html\n",
        "/tmp/tmpeteWQg.html\n",
        "/tmp/tmpeteWQg.html\n",
        "Now open file:///tmp/tmpGJzr_s.html in your web browser\n"
       ]
      },
      {
       "output_type": "stream",
       "stream": "stdout",
       "text": [
        "\n",
        "processed "
       ]
      },
      {
       "output_type": "stream",
       "stream": "stdout",
       "text": [
        " 440\n",
        "skipped  8\n",
        "539862886\n",
        "original article tmp file "
       ]
      },
      {
       "output_type": "stream",
       "stream": "stdout",
       "text": [
        " /tmp/tmpGsg_4f.html\n",
        "/tmp/tmp2oEg4o.html\n",
        "/tmp/tmpGsg_4f.html\n",
        "/tmp/tmpGsg_4f.html\n",
        "Now open file:///tmp/tmp2oEg4o.html in your web browser\n"
       ]
      },
      {
       "output_type": "stream",
       "stream": "stdout",
       "text": [
        "\n",
        "processed "
       ]
      },
      {
       "output_type": "stream",
       "stream": "stdout",
       "text": [
        " 441\n",
        "skipped  8\n",
        "540049468\n",
        "original article tmp file "
       ]
      },
      {
       "output_type": "stream",
       "stream": "stdout",
       "text": [
        " /tmp/tmp75UHyw.html\n",
        "/tmp/tmp1CTmuP.html\n",
        "/tmp/tmp75UHyw.html\n",
        "/tmp/tmp75UHyw.html\n",
        "Now open file:///tmp/tmp1CTmuP.html in your web browser\n"
       ]
      },
      {
       "output_type": "stream",
       "stream": "stdout",
       "text": [
        "\n",
        "processed "
       ]
      },
      {
       "output_type": "stream",
       "stream": "stdout",
       "text": [
        " 442\n",
        "skipped  8\n",
        "540072482\n",
        "original article tmp file "
       ]
      },
      {
       "output_type": "stream",
       "stream": "stdout",
       "text": [
        " /tmp/tmpU8YQRb.html\n",
        "/tmp/tmpCqxsFT.html\n",
        "/tmp/tmpU8YQRb.html\n",
        "/tmp/tmpU8YQRb.html\n",
        "Now open file:///tmp/tmpCqxsFT.html in your web browser\n"
       ]
      },
      {
       "output_type": "stream",
       "stream": "stdout",
       "text": [
        "\n",
        "processed "
       ]
      },
      {
       "output_type": "stream",
       "stream": "stdout",
       "text": [
        " 443\n",
        "skipped  8\n",
        "540219129\n",
        "original article tmp file "
       ]
      },
      {
       "output_type": "stream",
       "stream": "stdout",
       "text": [
        " /tmp/tmpzFV3R8.html\n",
        "/tmp/tmpqP2CVl.html\n",
        "/tmp/tmpzFV3R8.html\n",
        "/tmp/tmpzFV3R8.html\n",
        "Now open file:///tmp/tmpqP2CVl.html in your web browser\n"
       ]
      },
      {
       "output_type": "stream",
       "stream": "stdout",
       "text": [
        "\n",
        "processed "
       ]
      },
      {
       "output_type": "stream",
       "stream": "stdout",
       "text": [
        " 444\n",
        "skipped  8\n",
        "540729123\n",
        "original article tmp file "
       ]
      },
      {
       "output_type": "stream",
       "stream": "stdout",
       "text": [
        " /tmp/tmpulIp1c.html\n",
        "/tmp/tmpLMCyuS.html\n",
        "/tmp/tmpulIp1c.html\n",
        "/tmp/tmpulIp1c.html\n",
        "Now open file:///tmp/tmpLMCyuS.html in your web browser\n"
       ]
      },
      {
       "output_type": "stream",
       "stream": "stdout",
       "text": [
        "\n",
        "processed "
       ]
      },
      {
       "output_type": "stream",
       "stream": "stdout",
       "text": [
        " 445\n",
        "skipped  8\n",
        "540938254\n",
        "original article tmp file "
       ]
      },
      {
       "output_type": "stream",
       "stream": "stdout",
       "text": [
        " /tmp/tmpSNpl5i.html\n",
        "/tmp/tmpQHyuOl.html\n",
        "/tmp/tmpSNpl5i.html\n",
        "/tmp/tmpSNpl5i.html\n",
        "Now open file:///tmp/tmpQHyuOl.html in your web browser\n"
       ]
      },
      {
       "output_type": "stream",
       "stream": "stdout",
       "text": [
        "\n",
        "processed "
       ]
      },
      {
       "output_type": "stream",
       "stream": "stdout",
       "text": [
        " 446\n",
        "skipped  8\n",
        "541044672\n",
        "original article tmp file "
       ]
      },
      {
       "output_type": "stream",
       "stream": "stdout",
       "text": [
        " /tmp/tmpYs7hh3.html\n",
        "/tmp/tmpCky1Qn.html\n",
        "/tmp/tmpYs7hh3.html\n",
        "/tmp/tmpYs7hh3.html\n",
        "Now open file:///tmp/tmpCky1Qn.html in your web browser\n"
       ]
      },
      {
       "output_type": "stream",
       "stream": "stdout",
       "text": [
        "\n",
        "processed "
       ]
      },
      {
       "output_type": "stream",
       "stream": "stdout",
       "text": [
        " 447\n",
        "skipped  8\n",
        "541380062\n",
        "original article tmp file "
       ]
      },
      {
       "output_type": "stream",
       "stream": "stdout",
       "text": [
        " /tmp/tmpKvBx1o.html\n",
        "/tmp/tmpuTti_p.html\n",
        "/tmp/tmpKvBx1o.html\n",
        "/tmp/tmpKvBx1o.html\n",
        "Now open file:///tmp/tmpuTti_p.html in your web browser\n"
       ]
      },
      {
       "output_type": "stream",
       "stream": "stdout",
       "text": [
        "\n",
        "processed "
       ]
      },
      {
       "output_type": "stream",
       "stream": "stdout",
       "text": [
        " 448\n",
        "skipped  8\n",
        "541787974\n",
        "original article tmp file "
       ]
      },
      {
       "output_type": "stream",
       "stream": "stdout",
       "text": [
        " /tmp/tmpr7FWmu.html\n",
        "/tmp/tmpQQBizx.html\n",
        "/tmp/tmpr7FWmu.html\n",
        "/tmp/tmpr7FWmu.html\n",
        "Now open file:///tmp/tmpQQBizx.html in your web browser\n"
       ]
      },
      {
       "output_type": "stream",
       "stream": "stdout",
       "text": [
        "\n",
        "processed "
       ]
      },
      {
       "output_type": "stream",
       "stream": "stdout",
       "text": [
        " 449\n",
        "skipped  8\n",
        "541944011\n",
        "original article tmp file "
       ]
      },
      {
       "output_type": "stream",
       "stream": "stdout",
       "text": [
        " /tmp/tmpGEgpQU.html\n",
        "/tmp/tmp8u9Nej.html\n",
        "/tmp/tmpGEgpQU.html\n",
        "/tmp/tmpGEgpQU.html\n",
        "Now open file:///tmp/tmp8u9Nej.html in your web browser\n"
       ]
      },
      {
       "output_type": "stream",
       "stream": "stdout",
       "text": [
        "\n",
        "processed "
       ]
      },
      {
       "output_type": "stream",
       "stream": "stdout",
       "text": [
        " 450\n",
        "skipped  8\n",
        "542151181\n",
        "original article tmp file "
       ]
      },
      {
       "output_type": "stream",
       "stream": "stdout",
       "text": [
        " /tmp/tmp53pbAx.html\n",
        "/tmp/tmpDcwrMo.html\n",
        "/tmp/tmp53pbAx.html\n",
        "/tmp/tmp53pbAx.html\n",
        "Now open file:///tmp/tmpDcwrMo.html in your web browser\n"
       ]
      },
      {
       "output_type": "stream",
       "stream": "stdout",
       "text": [
        "\n",
        "processed "
       ]
      },
      {
       "output_type": "stream",
       "stream": "stdout",
       "text": [
        " 451\n",
        "skipped  8\n",
        "542292829\n",
        "original article tmp file "
       ]
      },
      {
       "output_type": "stream",
       "stream": "stdout",
       "text": [
        " /tmp/tmplo5FvQ.html\n",
        "/tmp/tmprkgD2_.html\n",
        "/tmp/tmplo5FvQ.html\n",
        "/tmp/tmplo5FvQ.html\n",
        "Now open file:///tmp/tmprkgD2_.html in your web browser\n"
       ]
      },
      {
       "output_type": "stream",
       "stream": "stdout",
       "text": [
        "\n",
        "processed "
       ]
      },
      {
       "output_type": "stream",
       "stream": "stdout",
       "text": [
        " 452\n",
        "skipped  8\n",
        "542601235\n",
        "original article tmp file "
       ]
      },
      {
       "output_type": "stream",
       "stream": "stdout",
       "text": [
        " /tmp/tmplAByeP.html\n",
        "/tmp/tmpn2vhx8.html\n",
        "/tmp/tmplAByeP.html\n",
        "/tmp/tmplAByeP.html\n",
        "Now open file:///tmp/tmpn2vhx8.html in your web browser\n"
       ]
      },
      {
       "output_type": "stream",
       "stream": "stdout",
       "text": [
        "\n",
        "processed "
       ]
      },
      {
       "output_type": "stream",
       "stream": "stdout",
       "text": [
        " 453\n",
        "skipped  8\n",
        "542607593\n",
        "original article tmp file "
       ]
      },
      {
       "output_type": "stream",
       "stream": "stdout",
       "text": [
        " /tmp/tmpk67iaB.html\n",
        "/tmp/tmpTj0jHk.html\n",
        "/tmp/tmpk67iaB.html\n",
        "/tmp/tmpk67iaB.html\n",
        "Now open file:///tmp/tmpTj0jHk.html in your web browser\n"
       ]
      },
      {
       "output_type": "stream",
       "stream": "stdout",
       "text": [
        "\n",
        "processed "
       ]
      },
      {
       "output_type": "stream",
       "stream": "stdout",
       "text": [
        " 454\n",
        "skipped  8\n",
        "542722436\n",
        "original article tmp file "
       ]
      },
      {
       "output_type": "stream",
       "stream": "stdout",
       "text": [
        " /tmp/tmpv5s8ie.html\n",
        "/tmp/tmpeeCESS.html\n",
        "/tmp/tmpv5s8ie.html\n",
        "/tmp/tmpv5s8ie.html\n",
        "Now open file:///tmp/tmpeeCESS.html in your web browser\n"
       ]
      },
      {
       "output_type": "stream",
       "stream": "stdout",
       "text": [
        "\n",
        "processed "
       ]
      },
      {
       "output_type": "stream",
       "stream": "stdout",
       "text": [
        " 455\n",
        "skipped  8\n",
        "543002984\n",
        "original article tmp file "
       ]
      },
      {
       "output_type": "stream",
       "stream": "stdout",
       "text": [
        " /tmp/tmpnmMrBw.html\n",
        "/tmp/tmp9uw5jj.html\n",
        "/tmp/tmpnmMrBw.html\n",
        "/tmp/tmpnmMrBw.html\n",
        "Now open file:///tmp/tmp9uw5jj.html in your web browser\n"
       ]
      },
      {
       "output_type": "stream",
       "stream": "stdout",
       "text": [
        "\n",
        "processed "
       ]
      },
      {
       "output_type": "stream",
       "stream": "stdout",
       "text": [
        " 456\n",
        "skipped  8\n",
        "544804153\n",
        "original article tmp file "
       ]
      },
      {
       "output_type": "stream",
       "stream": "stdout",
       "text": [
        " /tmp/tmpTVyobX.html\n",
        "/tmp/tmp_NpcTz.html\n",
        "/tmp/tmpTVyobX.html\n",
        "/tmp/tmpTVyobX.html\n",
        "Now open file:///tmp/tmp_NpcTz.html in your web browser\n"
       ]
      },
      {
       "output_type": "stream",
       "stream": "stdout",
       "text": [
        "\n",
        "processed "
       ]
      },
      {
       "output_type": "stream",
       "stream": "stdout",
       "text": [
        " 457\n",
        "skipped  8\n",
        "545408829\n",
        "original article tmp file "
       ]
      },
      {
       "output_type": "stream",
       "stream": "stdout",
       "text": [
        " /tmp/tmpe2lQWi.html\n",
        "/tmp/tmpp3lKlN.html\n",
        "/tmp/tmpe2lQWi.html\n",
        "/tmp/tmpe2lQWi.html\n",
        "Now open file:///tmp/tmpp3lKlN.html in your web browser\n"
       ]
      },
      {
       "output_type": "stream",
       "stream": "stdout",
       "text": [
        "\n",
        "processed "
       ]
      },
      {
       "output_type": "stream",
       "stream": "stdout",
       "text": [
        " 458\n",
        "skipped  8\n",
        "545490257\n",
        "original article tmp file "
       ]
      },
      {
       "output_type": "stream",
       "stream": "stdout",
       "text": [
        " /tmp/tmpB01Dup.html\n",
        "/tmp/tmpNkhM4s.html\n",
        "/tmp/tmpB01Dup.html\n",
        "/tmp/tmpB01Dup.html\n",
        "Now open file:///tmp/tmpNkhM4s.html in your web browser\n"
       ]
      },
      {
       "output_type": "stream",
       "stream": "stdout",
       "text": [
        "\n",
        "processed "
       ]
      },
      {
       "output_type": "stream",
       "stream": "stdout",
       "text": [
        " 459\n",
        "skipped  8\n",
        "546226391\n",
        "original article tmp file "
       ]
      },
      {
       "output_type": "stream",
       "stream": "stdout",
       "text": [
        " /tmp/tmp3PO7pb.html\n",
        "/tmp/tmpVckJR1.html\n",
        "/tmp/tmp3PO7pb.html\n",
        "/tmp/tmp3PO7pb.html\n",
        "Now open file:///tmp/tmpVckJR1.html in your web browser\n"
       ]
      },
      {
       "output_type": "stream",
       "stream": "stdout",
       "text": [
        "\n",
        "processed "
       ]
      },
      {
       "output_type": "stream",
       "stream": "stdout",
       "text": [
        " 460\n",
        "skipped  8\n",
        "546447285\n",
        "original article tmp file "
       ]
      },
      {
       "output_type": "stream",
       "stream": "stdout",
       "text": [
        " /tmp/tmpyC4eYB.html\n",
        "/tmp/tmpUDqCUs.html\n",
        "/tmp/tmpyC4eYB.html\n",
        "/tmp/tmpyC4eYB.html\n",
        "Now open file:///tmp/tmpUDqCUs.html in your web browser\n"
       ]
      },
      {
       "output_type": "stream",
       "stream": "stdout",
       "text": [
        "\n",
        "processed "
       ]
      },
      {
       "output_type": "stream",
       "stream": "stdout",
       "text": [
        " 461\n",
        "skipped  8\n",
        "546452241\n",
        "original article tmp file "
       ]
      },
      {
       "output_type": "stream",
       "stream": "stdout",
       "text": [
        " /tmp/tmpB1rM7M.html\n",
        "/tmp/tmpGtmusW.html\n",
        "/tmp/tmpB1rM7M.html\n",
        "/tmp/tmpB1rM7M.html\n",
        "Now open file:///tmp/tmpGtmusW.html in your web browser\n"
       ]
      },
      {
       "output_type": "stream",
       "stream": "stdout",
       "text": [
        "\n",
        "Unexpected error on string '</a>'"
       ]
      },
      {
       "output_type": "stream",
       "stream": "stdout",
       "text": [
        " <class 'lxml.etree.ParserError'>\n",
        "Unexpected error on string '</div>' <class 'lxml.etree.ParserError'>\n",
        "Unexpected error on string '</a>' <class 'lxml.etree.ParserError'>\n",
        "Unexpected error on string '</h1>' <class 'lxml.etree.ParserError'>\n",
        "Unexpected error on string '<!-- \u0420\u040e\u0420\u0455\u0420\u0406\u0420\u00b5\u0421\u201a: \u0420\u0452\u0420\u0405\u0420\u0455\u0420\u0405\u0421\u0403 \u0420\u0406\u0421\u2039\u0421\u20ac\u0420\u00b5 \u0420\u0458\u0420\u0455\u0420\u00b6\u0420\u0405\u0420\u0455 \u0420\u0457\u0420\u0455\u0420\u0458\u0420\u00b5\u0420\u0405\u0421\u040f\u0421\u201a\u0421\u040a \u0420\u0405\u0420\u00b0 \u0421\u2020\u0420\u0451\u0421\u201a\u0420\u00b0\u0421\u201a\u0421\u0453 \u0420\u0451\u0420\u00b7 \u0421\u201a\u0420\u00b5\u0420\u0454\u0421\u0403\u0421\u201a\u0420\u00b0 -->' <class 'lxml.etree.ParserError'>\n",
        "Unexpected error on string '</a>' <class 'lxml.etree.ParserError'>\n",
        "Unexpected error on string '</span>' <class 'lxml.etree.ParserError'>\n",
        "Unexpected error on string '</td>' <class 'lxml.etree.ParserError'>\n",
        "Unexpected error on string '</tr>' <class 'lxml.etree.ParserError'>\n",
        "Unexpected error on string '</table>' <class 'lxml.etree.ParserError'>\n",
        "Unexpected error on string '</td>' <class 'lxml.etree.ParserError'>\n",
        "Unexpected error on string '</tr>' <class 'lxml.etree.ParserError'>\n",
        "Unexpected error on string '</table>\n",
        "' <class 'lxml.etree.ParserError'>\n",
        "Unexpected error on string '</a>' <class 'lxml.etree.ParserError'>\n",
        "Unexpected error on string '</div>' <class 'lxml.etree.ParserError'>\n",
        "Unexpected error on string '</a>' <class 'lxml.etree.ParserError'>\n",
        "Unexpected error on string '</h1>' <class 'lxml.etree.ParserError'>\n",
        "Unexpected error on string '<!-- \u0420\u040e\u0420\u0455\u0420\u0406\u0420\u00b5\u0421\u201a: \u0420\u0452\u0420\u0405\u0420\u0455\u0420\u0405\u0421\u0403 \u0420\u0406\u0421\u2039\u0421\u20ac\u0420\u00b5 \u0420\u0458\u0420\u0455\u0420\u00b6\u0420\u0405\u0420\u0455 \u0420\u0457\u0420\u0455\u0420\u0458\u0420\u00b5\u0420\u0405\u0421\u040f\u0421\u201a\u0421\u040a \u0420\u0405\u0420\u00b0 \u0421\u2020\u0420\u0451\u0421\u201a\u0420\u00b0\u0421\u201a\u0421\u0453 \u0420\u0451\u0420\u00b7 \u0421\u201a\u0420\u00b5\u0420\u0454\u0421\u0403\u0421\u201a\u0420\u00b0 -->' <class 'lxml.etree.ParserError'>\n",
        "Unexpected error on string '</a>' <class 'lxml.etree.ParserError'>\n",
        "Unexpected error on string '</span>' <class 'lxml.etree.ParserError'>\n",
        "Unexpected error on string '</td>' <class 'lxml.etree.ParserError'>\n",
        "Unexpected error on string '</tr>' <class 'lxml.etree.ParserError'>\n",
        "Unexpected error on string '</table>' <class 'lxml.etree.ParserError'>\n",
        "Unexpected error on string '</td>' <class 'lxml.etree.ParserError'>\n",
        "Unexpected error on string '</tr>' <class 'lxml.etree.ParserError'>\n",
        "Unexpected error on string '</table>\n",
        "' <class 'lxml.etree.ParserError'>\n",
        "processed "
       ]
      },
      {
       "output_type": "stream",
       "stream": "stdout",
       "text": [
        " 462\n",
        "skipped  8\n",
        "546475377\n",
        "original article tmp file "
       ]
      },
      {
       "output_type": "stream",
       "stream": "stdout",
       "text": [
        " /tmp/tmpSfCoEz.html\n",
        "/tmp/tmpy8SKMd.html\n",
        "/tmp/tmpSfCoEz.html\n",
        "/tmp/tmpSfCoEz.html\n",
        "Now open file:///tmp/tmpy8SKMd.html in your web browser\n"
       ]
      },
      {
       "output_type": "stream",
       "stream": "stdout",
       "text": [
        "\n",
        "processed "
       ]
      },
      {
       "output_type": "stream",
       "stream": "stdout",
       "text": [
        " 463\n",
        "skipped  8\n",
        "546744400\n",
        "original article tmp file "
       ]
      },
      {
       "output_type": "stream",
       "stream": "stdout",
       "text": [
        " /tmp/tmpRaR2uF.html\n",
        "/tmp/tmp04DFDS.html\n",
        "/tmp/tmpRaR2uF.html\n",
        "/tmp/tmpRaR2uF.html\n",
        "Now open file:///tmp/tmp04DFDS.html in your web browser\n"
       ]
      },
      {
       "output_type": "stream",
       "stream": "stdout",
       "text": [
        "\n",
        "processed "
       ]
      },
      {
       "output_type": "stream",
       "stream": "stdout",
       "text": [
        " 464\n",
        "skipped  8\n",
        "546865980\n",
        "original article tmp file "
       ]
      },
      {
       "output_type": "stream",
       "stream": "stdout",
       "text": [
        " /tmp/tmpRM5245.html\n",
        "/tmp/tmpOqRzSg.html\n",
        "/tmp/tmpRM5245.html\n",
        "/tmp/tmpRM5245.html\n",
        "Now open file:///tmp/tmpOqRzSg.html in your web browser\n"
       ]
      },
      {
       "output_type": "stream",
       "stream": "stdout",
       "text": [
        "\n",
        "processed "
       ]
      },
      {
       "output_type": "stream",
       "stream": "stdout",
       "text": [
        " 465\n",
        "skipped  8\n",
        "547134278\n",
        "original article tmp file "
       ]
      },
      {
       "output_type": "stream",
       "stream": "stdout",
       "text": [
        " /tmp/tmpfLEYTR.html\n",
        "/tmp/tmpAY1Ke6.html\n",
        "/tmp/tmpfLEYTR.html\n",
        "/tmp/tmpfLEYTR.html\n",
        "Now open file:///tmp/tmpAY1Ke6.html in your web browser\n"
       ]
      },
      {
       "output_type": "stream",
       "stream": "stdout",
       "text": [
        "\n",
        "processed "
       ]
      },
      {
       "output_type": "stream",
       "stream": "stdout",
       "text": [
        " 466\n",
        "skipped  8\n",
        "547947151\n",
        "original article tmp file "
       ]
      },
      {
       "output_type": "stream",
       "stream": "stdout",
       "text": [
        " /tmp/tmpIzEqV1.html\n",
        "/tmp/tmpUv0ARB.html\n",
        "/tmp/tmpIzEqV1.html\n",
        "/tmp/tmpIzEqV1.html\n",
        "Now open file:///tmp/tmpUv0ARB.html in your web browser\n"
       ]
      },
      {
       "output_type": "stream",
       "stream": "stdout",
       "text": [
        "\n",
        "processed "
       ]
      },
      {
       "output_type": "stream",
       "stream": "stdout",
       "text": [
        " 467\n",
        "skipped  8\n",
        "550077777\n",
        "original article tmp file "
       ]
      },
      {
       "output_type": "stream",
       "stream": "stdout",
       "text": [
        " /tmp/tmpnlYMks.html\n",
        "/tmp/tmplbipst.html\n",
        "/tmp/tmpnlYMks.html\n",
        "/tmp/tmpnlYMks.html\n",
        "Now open file:///tmp/tmplbipst.html in your web browser\n"
       ]
      },
      {
       "output_type": "stream",
       "stream": "stdout",
       "text": [
        "\n",
        "processed "
       ]
      },
      {
       "output_type": "stream",
       "stream": "stdout",
       "text": [
        " 468\n",
        "skipped  8\n",
        "550220223\n",
        "original article tmp file "
       ]
      },
      {
       "output_type": "stream",
       "stream": "stdout",
       "text": [
        " /tmp/tmpOgipUS.html\n",
        "/tmp/tmpm1YASV.html\n",
        "/tmp/tmpOgipUS.html\n",
        "/tmp/tmpOgipUS.html\n",
        "Now open file:///tmp/tmpm1YASV.html in your web browser\n"
       ]
      },
      {
       "output_type": "stream",
       "stream": "stdout",
       "text": [
        "\n",
        "processed "
       ]
      },
      {
       "output_type": "stream",
       "stream": "stdout",
       "text": [
        " 469\n",
        "skipped  8\n",
        "550246134\n",
        "original article tmp file "
       ]
      },
      {
       "output_type": "stream",
       "stream": "stdout",
       "text": [
        " /tmp/tmpfnJ4LZ.html\n",
        "/tmp/tmpgIcByd.html\n",
        "/tmp/tmpfnJ4LZ.html\n",
        "/tmp/tmpfnJ4LZ.html\n",
        "Now open file:///tmp/tmpgIcByd.html in your web browser\n"
       ]
      },
      {
       "output_type": "stream",
       "stream": "stdout",
       "text": [
        "\n",
        "processed "
       ]
      },
      {
       "output_type": "stream",
       "stream": "stdout",
       "text": [
        " 470\n",
        "skipped  8\n",
        "550918776\n",
        "original article tmp file "
       ]
      },
      {
       "output_type": "stream",
       "stream": "stdout",
       "text": [
        " /tmp/tmp5zUIIT.html\n",
        "/tmp/tmpU1uuuX.html\n",
        "/tmp/tmp5zUIIT.html\n",
        "/tmp/tmp5zUIIT.html\n",
        "Now open file:///tmp/tmpU1uuuX.html in your web browser\n"
       ]
      },
      {
       "output_type": "stream",
       "stream": "stdout",
       "text": [
        "\n",
        "processed "
       ]
      },
      {
       "output_type": "stream",
       "stream": "stdout",
       "text": [
        " 471\n",
        "skipped  8\n",
        "551714821\n",
        "original article tmp file "
       ]
      },
      {
       "output_type": "stream",
       "stream": "stdout",
       "text": [
        " /tmp/tmpGCCf6q.html\n",
        "/tmp/tmphqFFtT.html\n",
        "/tmp/tmpGCCf6q.html\n",
        "/tmp/tmpGCCf6q.html\n",
        "Now open file:///tmp/tmphqFFtT.html in your web browser\n"
       ]
      },
      {
       "output_type": "stream",
       "stream": "stdout",
       "text": [
        "\n",
        "processed "
       ]
      },
      {
       "output_type": "stream",
       "stream": "stdout",
       "text": [
        " 472\n",
        "skipped  8\n",
        "551991048\n",
        "original article tmp file "
       ]
      },
      {
       "output_type": "stream",
       "stream": "stdout",
       "text": [
        " /tmp/tmp2IO8cf.html\n",
        "/tmp/tmpipFuzN.html\n",
        "/tmp/tmp2IO8cf.html\n",
        "/tmp/tmp2IO8cf.html\n",
        "Now open file:///tmp/tmpipFuzN.html in your web browser\n"
       ]
      },
      {
       "output_type": "stream",
       "stream": "stdout",
       "text": [
        "\n",
        "processed "
       ]
      },
      {
       "output_type": "stream",
       "stream": "stdout",
       "text": [
        " 473\n",
        "skipped  8\n",
        "552179030\n",
        "original article tmp file "
       ]
      },
      {
       "output_type": "stream",
       "stream": "stdout",
       "text": [
        " /tmp/tmpJBuPyi.html\n",
        "/tmp/tmpWkNmwQ.html\n",
        "/tmp/tmpJBuPyi.html\n",
        "/tmp/tmpJBuPyi.html\n",
        "Now open file:///tmp/tmpWkNmwQ.html in your web browser\n"
       ]
      },
      {
       "output_type": "stream",
       "stream": "stdout",
       "text": [
        "\n",
        "processed "
       ]
      },
      {
       "output_type": "stream",
       "stream": "stdout",
       "text": [
        " 474\n",
        "skipped  8\n",
        "552285278\n",
        "original article tmp file "
       ]
      },
      {
       "output_type": "stream",
       "stream": "stdout",
       "text": [
        " /tmp/tmpCSRf4O.html\n",
        "/tmp/tmpfWX8em.html\n",
        "/tmp/tmpCSRf4O.html\n",
        "/tmp/tmpCSRf4O.html\n",
        "Now open file:///tmp/tmpfWX8em.html in your web browser\n"
       ]
      },
      {
       "output_type": "stream",
       "stream": "stdout",
       "text": [
        "\n",
        "processed "
       ]
      },
      {
       "output_type": "stream",
       "stream": "stdout",
       "text": [
        " 475\n",
        "skipped  8\n",
        "552343286\n",
        "original article tmp file "
       ]
      },
      {
       "output_type": "stream",
       "stream": "stdout",
       "text": [
        " /tmp/tmpGs810k.html\n",
        "/tmp/tmpWNYg2x.html\n",
        "/tmp/tmpGs810k.html\n",
        "/tmp/tmpGs810k.html\n",
        "Now open file:///tmp/tmpWNYg2x.html in your web browser\n"
       ]
      },
      {
       "output_type": "stream",
       "stream": "stdout",
       "text": [
        "\n",
        "Unexpected error on string '</a>\n",
        "'"
       ]
      },
      {
       "output_type": "stream",
       "stream": "stdout",
       "text": [
        " <class 'lxml.etree.ParserError'>\n",
        "Unexpected error on string '</p>\n",
        "' <class 'lxml.etree.ParserError'>\n",
        "Unexpected error on string '</div>\n",
        "' <class 'lxml.etree.ParserError'>\n",
        "Unexpected error on string '</a>\n",
        "' <class 'lxml.etree.ParserError'>\n",
        "Unexpected error on string '</a>' <class 'lxml.etree.ParserError'>\n",
        "Unexpected error on string '</h2>\n",
        "' <class 'lxml.etree.ParserError'>\n",
        "Unexpected error on string '</a>' <class 'lxml.etree.ParserError'>\n",
        "Unexpected error on string '</p>\n",
        "' <class 'lxml.etree.ParserError'>\n",
        "Unexpected error on string '</a>' <class 'lxml.etree.ParserError'>\n",
        "Unexpected error on string '</p>\n",
        "' <class 'lxml.etree.ParserError'>\n",
        "Unexpected error on string '</div>\n",
        "' <class 'lxml.etree.ParserError'>\n",
        "Unexpected error on string '</div>\n",
        "' <class 'lxml.etree.ParserError'>\n",
        "Unexpected error on string '</div>\n",
        "' <class 'lxml.etree.ParserError'>\n",
        "Unexpected error on string '</a>\n",
        "'"
       ]
      },
      {
       "output_type": "stream",
       "stream": "stdout",
       "text": [
        " <class 'lxml.etree.ParserError'>\n",
        "Unexpected error on string '</p>\n",
        "' <class 'lxml.etree.ParserError'>\n",
        "Unexpected error on string '</div>\n",
        "' <class 'lxml.etree.ParserError'>\n",
        "Unexpected error on string '</a>\n",
        "' <class 'lxml.etree.ParserError'>\n",
        "Unexpected error on string '</a>' <class 'lxml.etree.ParserError'>\n",
        "Unexpected error on string '</h2>\n",
        "' <class 'lxml.etree.ParserError'>\n",
        "Unexpected error on string '</a>' <class 'lxml.etree.ParserError'>\n",
        "Unexpected error on string '</p>\n",
        "' <class 'lxml.etree.ParserError'>\n",
        "Unexpected error on string '</a>' <class 'lxml.etree.ParserError'>\n",
        "Unexpected error on string '</p>\n",
        "' <class 'lxml.etree.ParserError'>\n",
        "Unexpected error on string '</div>\n",
        "' <class 'lxml.etree.ParserError'>\n",
        "Unexpected error on string '</div>\n",
        "' <class 'lxml.etree.ParserError'>\n",
        "Unexpected error on string '</div>\n",
        "' <class 'lxml.etree.ParserError'>\n",
        "processed "
       ]
      },
      {
       "output_type": "stream",
       "stream": "stdout",
       "text": [
        " 476\n",
        "skipped  8\n",
        "552450557\n",
        "original article tmp file "
       ]
      },
      {
       "output_type": "stream",
       "stream": "stdout",
       "text": [
        " /tmp/tmpytK4XW.html\n",
        "/tmp/tmpq8hJv2.html\n",
        "/tmp/tmpytK4XW.html\n",
        "/tmp/tmpytK4XW.html\n",
        "Now open file:///tmp/tmpq8hJv2.html in your web browser\n"
       ]
      },
      {
       "output_type": "stream",
       "stream": "stdout",
       "text": [
        "\n",
        "Unexpected error on string '</a>'"
       ]
      },
      {
       "output_type": "stream",
       "stream": "stdout",
       "text": [
        " <class 'lxml.etree.ParserError'>\n",
        "Unexpected error on string '</div>' <class 'lxml.etree.ParserError'>\n",
        "Unexpected error on string '</a>' <class 'lxml.etree.ParserError'>\n",
        "Unexpected error on string '</h1>' <class 'lxml.etree.ParserError'>\n",
        "Unexpected error on string '<!-- \u0420\u040e\u0420\u0455\u0420\u0406\u0420\u00b5\u0421\u201a: \u0420\u0452\u0420\u0405\u0420\u0455\u0420\u0405\u0421\u0403 \u0420\u0406\u0421\u2039\u0421\u20ac\u0420\u00b5 \u0420\u0458\u0420\u0455\u0420\u00b6\u0420\u0405\u0420\u0455 \u0420\u0457\u0420\u0455\u0420\u0458\u0420\u00b5\u0420\u0405\u0421\u040f\u0421\u201a\u0421\u040a \u0420\u0405\u0420\u00b0 \u0421\u2020\u0420\u0451\u0421\u201a\u0420\u00b0\u0421\u201a\u0421\u0453 \u0420\u0451\u0420\u00b7 \u0421\u201a\u0420\u00b5\u0420\u0454\u0421\u0403\u0421\u201a\u0420\u00b0 -->' <class 'lxml.etree.ParserError'>\n",
        "Unexpected error on string '</a>' <class 'lxml.etree.ParserError'>\n",
        "Unexpected error on string '</span>' <class 'lxml.etree.ParserError'>\n",
        "Unexpected error on string '</td>' <class 'lxml.etree.ParserError'>\n",
        "Unexpected error on string '</a>' <class 'lxml.etree.ParserError'>\n",
        "Unexpected error on string '</td>' <class 'lxml.etree.ParserError'>\n",
        "Unexpected error on string '</tr>' <class 'lxml.etree.ParserError'>\n",
        "Unexpected error on string '</table>' <class 'lxml.etree.ParserError'>\n",
        "Unexpected error on string '</td>' <class 'lxml.etree.ParserError'>\n",
        "Unexpected error on string '</tr>' <class 'lxml.etree.ParserError'>\n",
        "Unexpected error on string '</table>\n",
        "' <class 'lxml.etree.ParserError'>\n",
        "Unexpected error on string '</a>'"
       ]
      },
      {
       "output_type": "stream",
       "stream": "stdout",
       "text": [
        " <class 'lxml.etree.ParserError'>\n",
        "Unexpected error on string '</div>' <class 'lxml.etree.ParserError'>\n",
        "Unexpected error on string '</a>' <class 'lxml.etree.ParserError'>\n",
        "Unexpected error on string '</h1>' <class 'lxml.etree.ParserError'>\n",
        "Unexpected error on string '<!-- \u0420\u040e\u0420\u0455\u0420\u0406\u0420\u00b5\u0421\u201a: \u0420\u0452\u0420\u0405\u0420\u0455\u0420\u0405\u0421\u0403 \u0420\u0406\u0421\u2039\u0421\u20ac\u0420\u00b5 \u0420\u0458\u0420\u0455\u0420\u00b6\u0420\u0405\u0420\u0455 \u0420\u0457\u0420\u0455\u0420\u0458\u0420\u00b5\u0420\u0405\u0421\u040f\u0421\u201a\u0421\u040a \u0420\u0405\u0420\u00b0 \u0421\u2020\u0420\u0451\u0421\u201a\u0420\u00b0\u0421\u201a\u0421\u0453 \u0420\u0451\u0420\u00b7 \u0421\u201a\u0420\u00b5\u0420\u0454\u0421\u0403\u0421\u201a\u0420\u00b0 -->' <class 'lxml.etree.ParserError'>\n",
        "Unexpected error on string '</a>' <class 'lxml.etree.ParserError'>\n",
        "Unexpected error on string '</span>' <class 'lxml.etree.ParserError'>\n",
        "Unexpected error on string '</td>' <class 'lxml.etree.ParserError'>\n",
        "Unexpected error on string '</a>' <class 'lxml.etree.ParserError'>\n",
        "Unexpected error on string '</td>' <class 'lxml.etree.ParserError'>\n",
        "Unexpected error on string '</tr>' <class 'lxml.etree.ParserError'>\n",
        "Unexpected error on string '</table>' <class 'lxml.etree.ParserError'>\n",
        "Unexpected error on string '</td>' <class 'lxml.etree.ParserError'>\n",
        "Unexpected error on string '</tr>' <class 'lxml.etree.ParserError'>\n",
        "Unexpected error on string '</table>\n",
        "' <class 'lxml.etree.ParserError'>\n",
        "processed "
       ]
      },
      {
       "output_type": "stream",
       "stream": "stdout",
       "text": [
        " 477\n",
        "skipped  8\n",
        "553165338\n",
        "original article tmp file "
       ]
      },
      {
       "output_type": "stream",
       "stream": "stdout",
       "text": [
        " /tmp/tmpR1hKZ8.html\n",
        "/tmp/tmp_hEiiO.html\n",
        "/tmp/tmpR1hKZ8.html\n",
        "/tmp/tmpR1hKZ8.html\n",
        "Now open file:///tmp/tmp_hEiiO.html in your web browser\n"
       ]
      },
      {
       "output_type": "stream",
       "stream": "stdout",
       "text": [
        "\n",
        "processed "
       ]
      },
      {
       "output_type": "stream",
       "stream": "stdout",
       "text": [
        " 478\n",
        "skipped  8\n",
        "554883505\n",
        "original article tmp file "
       ]
      },
      {
       "output_type": "stream",
       "stream": "stdout",
       "text": [
        " /tmp/tmpYZSn2m.html\n",
        "/tmp/tmpbZzBzo.html\n",
        "/tmp/tmpYZSn2m.html\n",
        "/tmp/tmpYZSn2m.html\n",
        "Now open file:///tmp/tmpbZzBzo.html in your web browser\n"
       ]
      },
      {
       "output_type": "stream",
       "stream": "stdout",
       "text": [
        "\n",
        "processed "
       ]
      },
      {
       "output_type": "stream",
       "stream": "stdout",
       "text": [
        " 479\n",
        "skipped  8\n",
        "555372352\n",
        "original article tmp file "
       ]
      },
      {
       "output_type": "stream",
       "stream": "stdout",
       "text": [
        " /tmp/tmpxKf9_I.html\n",
        "/tmp/tmpAbm0AN.html\n",
        "/tmp/tmpxKf9_I.html\n",
        "/tmp/tmpxKf9_I.html\n",
        "Now open file:///tmp/tmpAbm0AN.html in your web browser\n"
       ]
      },
      {
       "output_type": "stream",
       "stream": "stdout",
       "text": [
        "\n",
        "processed "
       ]
      },
      {
       "output_type": "stream",
       "stream": "stdout",
       "text": [
        " 480\n",
        "skipped  8\n",
        "555689825\n",
        "original article tmp file "
       ]
      },
      {
       "output_type": "stream",
       "stream": "stdout",
       "text": [
        " /tmp/tmpIDyxZu.html\n",
        "/tmp/tmpFf37wA.html\n",
        "/tmp/tmpIDyxZu.html\n",
        "/tmp/tmpIDyxZu.html\n",
        "Now open file:///tmp/tmpFf37wA.html in your web browser\n"
       ]
      },
      {
       "output_type": "stream",
       "stream": "stdout",
       "text": [
        "\n",
        "processed "
       ]
      },
      {
       "output_type": "stream",
       "stream": "stdout",
       "text": [
        " 481\n",
        "skipped  8\n",
        "555843132\n",
        "original article tmp file "
       ]
      },
      {
       "output_type": "stream",
       "stream": "stdout",
       "text": [
        " /tmp/tmpFEmHap.html\n",
        "/tmp/tmpyUtMMB.html\n",
        "/tmp/tmpFEmHap.html\n",
        "/tmp/tmpFEmHap.html\n",
        "Now open file:///tmp/tmpyUtMMB.html in your web browser\n"
       ]
      },
      {
       "output_type": "stream",
       "stream": "stdout",
       "text": [
        "\n",
        "processed "
       ]
      },
      {
       "output_type": "stream",
       "stream": "stdout",
       "text": [
        " 482\n",
        "skipped  8\n",
        "556645479\n",
        "original article tmp file "
       ]
      },
      {
       "output_type": "stream",
       "stream": "stdout",
       "text": [
        " /tmp/tmpUDj6Zu.html\n",
        "/tmp/tmpk6zpa6.html\n",
        "/tmp/tmpUDj6Zu.html\n",
        "/tmp/tmpUDj6Zu.html\n",
        "Now open file:///tmp/tmpk6zpa6.html in your web browser\n"
       ]
      },
      {
       "output_type": "stream",
       "stream": "stdout",
       "text": [
        "\n",
        "processed "
       ]
      },
      {
       "output_type": "stream",
       "stream": "stdout",
       "text": [
        " 483\n",
        "skipped  8\n",
        "556934454\n",
        "original article tmp file "
       ]
      },
      {
       "output_type": "stream",
       "stream": "stdout",
       "text": [
        " /tmp/tmpkr89ea.html\n",
        "/tmp/tmpl9e4_v.html\n",
        "/tmp/tmpkr89ea.html\n",
        "/tmp/tmpkr89ea.html\n",
        "Now open file:///tmp/tmpl9e4_v.html in your web browser\n"
       ]
      },
      {
       "output_type": "stream",
       "stream": "stdout",
       "text": [
        "\n",
        "processed "
       ]
      },
      {
       "output_type": "stream",
       "stream": "stdout",
       "text": [
        " 484\n",
        "skipped  8\n",
        "557152619\n",
        "original article tmp file "
       ]
      },
      {
       "output_type": "stream",
       "stream": "stdout",
       "text": [
        " /tmp/tmp9BaAYZ.html\n",
        "/tmp/tmp3wZXzm.html\n",
        "/tmp/tmp9BaAYZ.html\n",
        "/tmp/tmp9BaAYZ.html\n",
        "Now open file:///tmp/tmp3wZXzm.html in your web browser\n"
       ]
      },
      {
       "output_type": "stream",
       "stream": "stdout",
       "text": [
        "\n",
        "processed "
       ]
      },
      {
       "output_type": "stream",
       "stream": "stdout",
       "text": [
        " 485\n",
        "skipped  8\n",
        "557237971\n",
        "original article tmp file "
       ]
      },
      {
       "output_type": "stream",
       "stream": "stdout",
       "text": [
        " /tmp/tmpuqHvUh.html\n",
        "/tmp/tmpw8IFDS.html\n",
        "/tmp/tmpuqHvUh.html\n",
        "/tmp/tmpuqHvUh.html\n",
        "Now open file:///tmp/tmpw8IFDS.html in your web browser\n"
       ]
      },
      {
       "output_type": "stream",
       "stream": "stdout",
       "text": [
        "\n",
        "processed "
       ]
      },
      {
       "output_type": "stream",
       "stream": "stdout",
       "text": [
        " 486\n",
        "skipped  8\n",
        "557521276\n",
        "original article tmp file "
       ]
      },
      {
       "output_type": "stream",
       "stream": "stdout",
       "text": [
        " /tmp/tmptValzv.html\n",
        "/tmp/tmpOOrjaA.html\n",
        "/tmp/tmptValzv.html\n",
        "/tmp/tmptValzv.html\n",
        "Now open file:///tmp/tmpOOrjaA.html in your web browser\n"
       ]
      },
      {
       "output_type": "stream",
       "stream": "stdout",
       "text": [
        "\n",
        "processed "
       ]
      },
      {
       "output_type": "stream",
       "stream": "stdout",
       "text": [
        " 487\n",
        "skipped  8\n",
        "558095303\n",
        "original article tmp file "
       ]
      },
      {
       "output_type": "stream",
       "stream": "stdout",
       "text": [
        " /tmp/tmpAwu3k9.html\n",
        "/tmp/tmpD2cnig.html\n",
        "/tmp/tmpAwu3k9.html\n",
        "/tmp/tmpAwu3k9.html\n",
        "Now open file:///tmp/tmpD2cnig.html in your web browser\n"
       ]
      },
      {
       "output_type": "stream",
       "stream": "stdout",
       "text": [
        "\n",
        "processed "
       ]
      },
      {
       "output_type": "stream",
       "stream": "stdout",
       "text": [
        " 488\n",
        "skipped  8\n",
        "558197649\n",
        "original article tmp file "
       ]
      },
      {
       "output_type": "stream",
       "stream": "stdout",
       "text": [
        " /tmp/tmpfUC9j7.html\n",
        "/tmp/tmpSQKyVp.html\n",
        "/tmp/tmpfUC9j7.html\n",
        "/tmp/tmpfUC9j7.html\n",
        "Now open file:///tmp/tmpSQKyVp.html in your web browser\n"
       ]
      },
      {
       "output_type": "stream",
       "stream": "stdout",
       "text": [
        "\n",
        "processed "
       ]
      },
      {
       "output_type": "stream",
       "stream": "stdout",
       "text": [
        " 489\n",
        "skipped  8\n",
        "558655687\n",
        "original article tmp file "
       ]
      },
      {
       "output_type": "stream",
       "stream": "stdout",
       "text": [
        " /tmp/tmpoy4KeN.html\n",
        "/tmp/tmpMzIwNT.html\n",
        "/tmp/tmpoy4KeN.html\n",
        "/tmp/tmpoy4KeN.html\n",
        "Now open file:///tmp/tmpMzIwNT.html in your web browser\n"
       ]
      },
      {
       "output_type": "stream",
       "stream": "stdout",
       "text": [
        "\n",
        "processed "
       ]
      },
      {
       "output_type": "stream",
       "stream": "stdout",
       "text": [
        " 490\n",
        "skipped  8\n",
        "558851890\n",
        "original article tmp file "
       ]
      },
      {
       "output_type": "stream",
       "stream": "stdout",
       "text": [
        " /tmp/tmpa3epgm.html\n",
        "/tmp/tmplwaHlK.html\n",
        "/tmp/tmpa3epgm.html\n",
        "/tmp/tmpa3epgm.html\n",
        "Now open file:///tmp/tmplwaHlK.html in your web browser\n"
       ]
      },
      {
       "output_type": "stream",
       "stream": "stdout",
       "text": [
        "\n",
        "processed "
       ]
      },
      {
       "output_type": "stream",
       "stream": "stdout",
       "text": [
        " 491\n",
        "skipped  8\n",
        "559736417\n",
        "original article tmp file "
       ]
      },
      {
       "output_type": "stream",
       "stream": "stdout",
       "text": [
        " /tmp/tmp8ru8vq.html\n",
        "/tmp/tmpOIULix.html\n",
        "/tmp/tmp8ru8vq.html\n",
        "/tmp/tmp8ru8vq.html\n",
        "Now open file:///tmp/tmpOIULix.html in your web browser\n"
       ]
      },
      {
       "output_type": "stream",
       "stream": "stdout",
       "text": [
        "\n",
        "processed "
       ]
      },
      {
       "output_type": "stream",
       "stream": "stdout",
       "text": [
        " 492\n",
        "skipped  8\n",
        "559785151\n",
        "original article tmp file "
       ]
      },
      {
       "output_type": "stream",
       "stream": "stdout",
       "text": [
        " /tmp/tmpoxExqU.html\n",
        "/tmp/tmpGyPM5A.html\n",
        "/tmp/tmpoxExqU.html\n",
        "/tmp/tmpoxExqU.html\n",
        "Now open file:///tmp/tmpGyPM5A.html in your web browser\n"
       ]
      },
      {
       "output_type": "stream",
       "stream": "stdout",
       "text": [
        "\n",
        "processed "
       ]
      },
      {
       "output_type": "stream",
       "stream": "stdout",
       "text": [
        " 493\n",
        "skipped  8\n",
        "560048673\n",
        "original article tmp file "
       ]
      },
      {
       "output_type": "stream",
       "stream": "stdout",
       "text": [
        " /tmp/tmpNDccbP.html\n",
        "/tmp/tmpMYqW21.html\n",
        "/tmp/tmpNDccbP.html\n",
        "/tmp/tmpNDccbP.html\n",
        "Now open file:///tmp/tmpMYqW21.html in your web browser\n"
       ]
      },
      {
       "output_type": "stream",
       "stream": "stdout",
       "text": [
        "\n",
        "processed "
       ]
      },
      {
       "output_type": "stream",
       "stream": "stdout",
       "text": [
        " 494\n",
        "skipped  8\n",
        "560090309\n",
        "original article tmp file "
       ]
      },
      {
       "output_type": "stream",
       "stream": "stdout",
       "text": [
        " /tmp/tmpTxuONc.html\n",
        "/tmp/tmpVJ5Tb7.html\n",
        "/tmp/tmpTxuONc.html\n",
        "/tmp/tmpTxuONc.html\n",
        "Now open file:///tmp/tmpVJ5Tb7.html in your web browser\n"
       ]
      },
      {
       "output_type": "stream",
       "stream": "stdout",
       "text": [
        "\n",
        "processed "
       ]
      },
      {
       "output_type": "stream",
       "stream": "stdout",
       "text": [
        " 495\n",
        "skipped  8\n",
        "560127916\n",
        "original article tmp file "
       ]
      },
      {
       "output_type": "stream",
       "stream": "stdout",
       "text": [
        " /tmp/tmptvZ9AW.html\n",
        "/tmp/tmpOChZhT.html\n",
        "/tmp/tmptvZ9AW.html\n",
        "/tmp/tmptvZ9AW.html\n",
        "Now open file:///tmp/tmpOChZhT.html in your web browser\n"
       ]
      },
      {
       "output_type": "stream",
       "stream": "stdout",
       "text": [
        "\n",
        "processed "
       ]
      },
      {
       "output_type": "stream",
       "stream": "stdout",
       "text": [
        " 496\n",
        "skipped  8\n",
        "561368626\n",
        "original article tmp file "
       ]
      },
      {
       "output_type": "stream",
       "stream": "stdout",
       "text": [
        " /tmp/tmpVpkjMM.html\n",
        "/tmp/tmphXSE6w.html\n",
        "/tmp/tmpVpkjMM.html\n",
        "/tmp/tmpVpkjMM.html\n",
        "Now open file:///tmp/tmphXSE6w.html in your web browser\n"
       ]
      },
      {
       "output_type": "stream",
       "stream": "stdout",
       "text": [
        "\n",
        "processed "
       ]
      },
      {
       "output_type": "stream",
       "stream": "stdout",
       "text": [
        " 497\n",
        "skipped  8\n",
        "561800981\n",
        "original article tmp file "
       ]
      },
      {
       "output_type": "stream",
       "stream": "stdout",
       "text": [
        " /tmp/tmpccAgf3.html\n",
        "/tmp/tmpqmR28e.html\n",
        "/tmp/tmpccAgf3.html\n",
        "/tmp/tmpccAgf3.html\n",
        "Now open file:///tmp/tmpqmR28e.html in your web browser\n"
       ]
      },
      {
       "output_type": "stream",
       "stream": "stdout",
       "text": [
        "\n",
        "processed "
       ]
      },
      {
       "output_type": "stream",
       "stream": "stdout",
       "text": [
        " 498\n",
        "skipped  8\n",
        "562073055\n",
        "original article tmp file "
       ]
      },
      {
       "output_type": "stream",
       "stream": "stdout",
       "text": [
        " /tmp/tmpJrve4S.html\n",
        "/tmp/tmpJgTVEC.html\n",
        "/tmp/tmpJrve4S.html\n",
        "/tmp/tmpJrve4S.html\n",
        "Now open file:///tmp/tmpJgTVEC.html in your web browser\n"
       ]
      },
      {
       "output_type": "stream",
       "stream": "stdout",
       "text": [
        "\n",
        "processed "
       ]
      },
      {
       "output_type": "stream",
       "stream": "stdout",
       "text": [
        " 499\n",
        "skipped  8\n",
        "562399059\n",
        "original article tmp file "
       ]
      },
      {
       "output_type": "stream",
       "stream": "stdout",
       "text": [
        " /tmp/tmpXx8uiV.html\n",
        "/tmp/tmpcuEUcL.html\n",
        "/tmp/tmpXx8uiV.html\n",
        "/tmp/tmpXx8uiV.html\n",
        "Now open file:///tmp/tmpcuEUcL.html in your web browser\n"
       ]
      },
      {
       "output_type": "stream",
       "stream": "stdout",
       "text": [
        "\n",
        "Unexpected error on string '</a>\n",
        "'"
       ]
      },
      {
       "output_type": "stream",
       "stream": "stdout",
       "text": [
        " <class 'lxml.etree.ParserError'>\n",
        "Unexpected error on string '</p>\n",
        "' <class 'lxml.etree.ParserError'>\n",
        "Unexpected error on string '</div>\n",
        "' <class 'lxml.etree.ParserError'>\n",
        "Unexpected error on string '</a>\n",
        "' <class 'lxml.etree.ParserError'>\n",
        "Unexpected error on string '</a>' <class 'lxml.etree.ParserError'>\n",
        "Unexpected error on string '</h2>\n",
        "' <class 'lxml.etree.ParserError'>\n",
        "Unexpected error on string '</a>' <class 'lxml.etree.ParserError'>\n",
        "Unexpected error on string '</p>\n",
        "' <class 'lxml.etree.ParserError'>\n",
        "Unexpected error on string '</a>' <class 'lxml.etree.ParserError'>\n",
        "Unexpected error on string '</p>\n",
        "' <class 'lxml.etree.ParserError'>\n",
        "Unexpected error on string '</div>\n",
        "' <class 'lxml.etree.ParserError'>\n",
        "Unexpected error on string '</div>\n",
        "' <class 'lxml.etree.ParserError'>\n",
        "Unexpected error on string '</div>\n",
        "' <class 'lxml.etree.ParserError'>\n",
        "Unexpected error on string '</a>\n",
        "' <class 'lxml.etree.ParserError'>\n",
        "Unexpected error on string '</p>\n",
        "' <class 'lxml.etree.ParserError'>\n",
        "Unexpected error on string '</div>\n",
        "' <class 'lxml.etree.ParserError'>\n",
        "Unexpected error on string '</a>\n",
        "' <class 'lxml.etree.ParserError'>\n",
        "Unexpected error on string '</a>' <class 'lxml.etree.ParserError'>\n",
        "Unexpected error on string '</h2>\n",
        "' <class 'lxml.etree.ParserError'>\n",
        "Unexpected error on string '</a>' <class 'lxml.etree.ParserError'>\n",
        "Unexpected error on string '</p>\n",
        "'"
       ]
      },
      {
       "output_type": "stream",
       "stream": "stdout",
       "text": [
        " <class 'lxml.etree.ParserError'>\n",
        "Unexpected error on string '</a>' <class 'lxml.etree.ParserError'>\n",
        "Unexpected error on string '</p>\n",
        "' <class 'lxml.etree.ParserError'>\n",
        "Unexpected error on string '</div>\n",
        "' <class 'lxml.etree.ParserError'>\n",
        "Unexpected error on string '</div>\n",
        "' <class 'lxml.etree.ParserError'>\n",
        "Unexpected error on string '</div>\n",
        "' <class 'lxml.etree.ParserError'>\n",
        "processed "
       ]
      },
      {
       "output_type": "stream",
       "stream": "stdout",
       "text": [
        " 500\n",
        "skipped  8\n",
        "562399486\n",
        "original article tmp file "
       ]
      },
      {
       "output_type": "stream",
       "stream": "stdout",
       "text": [
        " /tmp/tmp3CD73r.html\n",
        "/tmp/tmpqcMEcI.html\n",
        "/tmp/tmp3CD73r.html\n",
        "/tmp/tmp3CD73r.html\n",
        "Now open file:///tmp/tmpqcMEcI.html in your web browser\n"
       ]
      },
      {
       "output_type": "stream",
       "stream": "stdout",
       "text": [
        "\n",
        "processed "
       ]
      },
      {
       "output_type": "stream",
       "stream": "stdout",
       "text": [
        " 501\n",
        "skipped  8\n",
        "562984785\n",
        "original article tmp file "
       ]
      },
      {
       "output_type": "stream",
       "stream": "stdout",
       "text": [
        " /tmp/tmpNdhLQW.html\n",
        "/tmp/tmp40jAZc.html\n",
        "/tmp/tmpNdhLQW.html\n",
        "/tmp/tmpNdhLQW.html\n",
        "Now open file:///tmp/tmp40jAZc.html in your web browser\n"
       ]
      },
      {
       "output_type": "stream",
       "stream": "stdout",
       "text": [
        "\n",
        "processed "
       ]
      },
      {
       "output_type": "stream",
       "stream": "stdout",
       "text": [
        " 502\n",
        "skipped  8\n",
        "563073521\n",
        "original article tmp file "
       ]
      },
      {
       "output_type": "stream",
       "stream": "stdout",
       "text": [
        " /tmp/tmpU98aXr.html\n",
        "/tmp/tmps5i4cD.html\n",
        "/tmp/tmpU98aXr.html\n",
        "/tmp/tmpU98aXr.html\n",
        "Now open file:///tmp/tmps5i4cD.html in your web browser\n"
       ]
      },
      {
       "output_type": "stream",
       "stream": "stdout",
       "text": [
        "\n",
        "processed "
       ]
      },
      {
       "output_type": "stream",
       "stream": "stdout",
       "text": [
        " 503\n",
        "skipped  8\n",
        "563250031\n",
        "original article tmp file "
       ]
      },
      {
       "output_type": "stream",
       "stream": "stdout",
       "text": [
        " /tmp/tmpTGFPHF.html\n",
        "/tmp/tmpeyQ55Z.html\n",
        "/tmp/tmpTGFPHF.html\n",
        "/tmp/tmpTGFPHF.html\n",
        "Now open file:///tmp/tmpeyQ55Z.html in your web browser\n"
       ]
      },
      {
       "output_type": "stream",
       "stream": "stdout",
       "text": [
        "\n",
        "processed "
       ]
      },
      {
       "output_type": "stream",
       "stream": "stdout",
       "text": [
        " 504\n",
        "skipped  8\n",
        "563556588\n",
        "original article tmp file "
       ]
      },
      {
       "output_type": "stream",
       "stream": "stdout",
       "text": [
        " /tmp/tmpZfWGIK.html\n",
        "/tmp/tmpTty4s1.html\n",
        "/tmp/tmpZfWGIK.html\n",
        "/tmp/tmpZfWGIK.html\n",
        "Now open file:///tmp/tmpTty4s1.html in your web browser\n"
       ]
      },
      {
       "output_type": "stream",
       "stream": "stdout",
       "text": [
        "\n",
        "processed "
       ]
      },
      {
       "output_type": "stream",
       "stream": "stdout",
       "text": [
        " 505\n",
        "skipped  8\n",
        "563582892\n",
        "original article tmp file "
       ]
      },
      {
       "output_type": "stream",
       "stream": "stdout",
       "text": [
        " /tmp/tmpecr3Hk.html\n",
        "/tmp/tmpN6Ewga.html\n",
        "/tmp/tmpecr3Hk.html\n",
        "/tmp/tmpecr3Hk.html\n",
        "Now open file:///tmp/tmpN6Ewga.html in your web browser\n"
       ]
      },
      {
       "output_type": "stream",
       "stream": "stdout",
       "text": [
        "\n",
        "processed "
       ]
      },
      {
       "output_type": "stream",
       "stream": "stdout",
       "text": [
        " 506\n",
        "skipped  8\n",
        "563851373\n",
        "original article tmp file "
       ]
      },
      {
       "output_type": "stream",
       "stream": "stdout",
       "text": [
        " /tmp/tmpcZDexd.html\n",
        "/tmp/tmplyFcSN.html\n",
        "/tmp/tmpcZDexd.html\n",
        "/tmp/tmpcZDexd.html\n",
        "Now open file:///tmp/tmplyFcSN.html in your web browser\n"
       ]
      },
      {
       "output_type": "stream",
       "stream": "stdout",
       "text": [
        "\n",
        "processed "
       ]
      },
      {
       "output_type": "stream",
       "stream": "stdout",
       "text": [
        " 507\n",
        "skipped  8\n",
        "564075589\n",
        "original article tmp file "
       ]
      },
      {
       "output_type": "stream",
       "stream": "stdout",
       "text": [
        " /tmp/tmpiUatEQ.html\n",
        "/tmp/tmpbmIuAh.html\n",
        "/tmp/tmpiUatEQ.html\n",
        "/tmp/tmpiUatEQ.html\n",
        "Now open file:///tmp/tmpbmIuAh.html in your web browser\n"
       ]
      },
      {
       "output_type": "stream",
       "stream": "stdout",
       "text": [
        "\n",
        "processed "
       ]
      },
      {
       "output_type": "stream",
       "stream": "stdout",
       "text": [
        " 508\n",
        "skipped  8\n",
        "564196161\n",
        "original article tmp file "
       ]
      },
      {
       "output_type": "stream",
       "stream": "stdout",
       "text": [
        " /tmp/tmpBQlw1K.html\n",
        "/tmp/tmpJwqgAM.html\n",
        "/tmp/tmpBQlw1K.html\n",
        "/tmp/tmpBQlw1K.html\n",
        "Now open file:///tmp/tmpJwqgAM.html in your web browser\n"
       ]
      },
      {
       "output_type": "stream",
       "stream": "stdout",
       "text": [
        "\n",
        "Unexpected error on string '</a>\n",
        "' <class 'lxml.etree.ParserError'>\n",
        "Unexpected error on string '</p>\n",
        "' <class 'lxml.etree.ParserError'>\n",
        "Unexpected error on string '</div>\n",
        "' <class 'lxml.etree.ParserError'>\n",
        "Unexpected error on string '</a>\n",
        "' <class 'lxml.etree.ParserError'>\n",
        "Unexpected error on string '</a>' <class 'lxml.etree.ParserError'>\n",
        "Unexpected error on string '</h2>\n",
        "' <class 'lxml.etree.ParserError'>\n",
        "Unexpected error on string '</a>' <class 'lxml.etree.ParserError'>\n",
        "Unexpected error on string '</p>\n",
        "' <class 'lxml.etree.ParserError'>\n",
        "Unexpected error on string '</a>' <class 'lxml.etree.ParserError'>\n",
        "Unexpected error on string '</p>\n",
        "' <class 'lxml.etree.ParserError'>\n",
        "Unexpected error on string '</div>\n",
        "' <class 'lxml.etree.ParserError'>\n",
        "Unexpected error on string '</div>\n",
        "' <class 'lxml.etree.ParserError'>\n",
        "Unexpected error on string '</div>\n",
        "' <class 'lxml.etree.ParserError'>\n",
        "Unexpected error on string '</a>\n",
        "'"
       ]
      },
      {
       "output_type": "stream",
       "stream": "stdout",
       "text": [
        " <class 'lxml.etree.ParserError'>\n",
        "Unexpected error on string '</p>\n",
        "' <class 'lxml.etree.ParserError'>\n",
        "Unexpected error on string '</div>\n",
        "' <class 'lxml.etree.ParserError'>\n",
        "Unexpected error on string '</a>\n",
        "' <class 'lxml.etree.ParserError'>\n",
        "Unexpected error on string '</a>' <class 'lxml.etree.ParserError'>\n",
        "Unexpected error on string '</h2>\n",
        "' <class 'lxml.etree.ParserError'>\n",
        "Unexpected error on string '</a>' <class 'lxml.etree.ParserError'>\n",
        "Unexpected error on string '</p>\n",
        "' <class 'lxml.etree.ParserError'>\n",
        "Unexpected error on string '</a>' <class 'lxml.etree.ParserError'>\n",
        "Unexpected error on string '</p>\n",
        "' <class 'lxml.etree.ParserError'>\n",
        "Unexpected error on string '</div>\n",
        "' <class 'lxml.etree.ParserError'>\n",
        "Unexpected error on string '</div>\n",
        "' <class 'lxml.etree.ParserError'>\n",
        "Unexpected error on string '</div>\n",
        "' <class 'lxml.etree.ParserError'>\n",
        "processed "
       ]
      },
      {
       "output_type": "stream",
       "stream": "stdout",
       "text": [
        " 509\n",
        "skipped  8\n",
        "564418488\n",
        "original article tmp file "
       ]
      },
      {
       "output_type": "stream",
       "stream": "stdout",
       "text": [
        " /tmp/tmpERWSSV.html\n",
        "/tmp/tmpILeXok.html\n",
        "/tmp/tmpERWSSV.html\n",
        "/tmp/tmpERWSSV.html\n",
        "Now open file:///tmp/tmpILeXok.html in your web browser\n"
       ]
      },
      {
       "output_type": "stream",
       "stream": "stdout",
       "text": [
        "\n",
        "processed "
       ]
      },
      {
       "output_type": "stream",
       "stream": "stdout",
       "text": [
        " 510\n",
        "skipped  8\n",
        "564457008\n",
        "original article tmp file "
       ]
      },
      {
       "output_type": "stream",
       "stream": "stdout",
       "text": [
        " /tmp/tmpG5SznT.html\n",
        "/tmp/tmpGeMNPR.html\n",
        "/tmp/tmpG5SznT.html\n",
        "/tmp/tmpG5SznT.html\n",
        "Now open file:///tmp/tmpGeMNPR.html in your web browser\n"
       ]
      },
      {
       "output_type": "stream",
       "stream": "stdout",
       "text": [
        "\n",
        "processed "
       ]
      },
      {
       "output_type": "stream",
       "stream": "stdout",
       "text": [
        " 511\n",
        "skipped  8\n",
        "565254169\n",
        "original article tmp file "
       ]
      },
      {
       "output_type": "stream",
       "stream": "stdout",
       "text": [
        " /tmp/tmpiGk1hs.html\n",
        "/tmp/tmpFr8G1B.html\n",
        "/tmp/tmpiGk1hs.html\n",
        "/tmp/tmpiGk1hs.html\n",
        "Now open file:///tmp/tmpFr8G1B.html in your web browser\n"
       ]
      },
      {
       "output_type": "stream",
       "stream": "stdout",
       "text": [
        "\n",
        "processed "
       ]
      },
      {
       "output_type": "stream",
       "stream": "stdout",
       "text": [
        " 512\n",
        "skipped  8\n",
        "565270689\n",
        "original article tmp file "
       ]
      },
      {
       "output_type": "stream",
       "stream": "stdout",
       "text": [
        " /tmp/tmpX7EBsk.html\n",
        "/tmp/tmpLuXTSh.html\n",
        "/tmp/tmpX7EBsk.html\n",
        "/tmp/tmpX7EBsk.html\n",
        "Now open file:///tmp/tmpLuXTSh.html in your web browser\n"
       ]
      },
      {
       "output_type": "stream",
       "stream": "stdout",
       "text": [
        "\n",
        "processed "
       ]
      },
      {
       "output_type": "stream",
       "stream": "stdout",
       "text": [
        " 513\n",
        "skipped  8\n",
        "565612572\n",
        "original article tmp file "
       ]
      },
      {
       "output_type": "stream",
       "stream": "stdout",
       "text": [
        " /tmp/tmp9En2Nh.html\n",
        "/tmp/tmpXxnL44.html\n",
        "/tmp/tmp9En2Nh.html\n",
        "/tmp/tmp9En2Nh.html\n",
        "Now open file:///tmp/tmpXxnL44.html in your web browser\n"
       ]
      },
      {
       "output_type": "stream",
       "stream": "stdout",
       "text": [
        "\n",
        "processed "
       ]
      },
      {
       "output_type": "stream",
       "stream": "stdout",
       "text": [
        " 514\n",
        "skipped  8\n",
        "565831221\n",
        "original article tmp file "
       ]
      },
      {
       "output_type": "stream",
       "stream": "stdout",
       "text": [
        " /tmp/tmpqfdkkJ.html\n",
        "/tmp/tmp6NUKqa.html\n",
        "/tmp/tmpqfdkkJ.html\n",
        "/tmp/tmpqfdkkJ.html\n",
        "Now open file:///tmp/tmp6NUKqa.html in your web browser\n"
       ]
      },
      {
       "output_type": "stream",
       "stream": "stdout",
       "text": [
        "\n",
        "processed "
       ]
      },
      {
       "output_type": "stream",
       "stream": "stdout",
       "text": [
        " 515\n",
        "skipped  8\n",
        "567201539\n",
        "original article tmp file "
       ]
      },
      {
       "output_type": "stream",
       "stream": "stdout",
       "text": [
        " /tmp/tmpXgOc2H.html\n",
        "/tmp/tmpOGmS41.html\n",
        "/tmp/tmpXgOc2H.html\n",
        "/tmp/tmpXgOc2H.html\n",
        "Now open file:///tmp/tmpOGmS41.html in your web browser\n"
       ]
      },
      {
       "output_type": "stream",
       "stream": "stdout",
       "text": [
        "\n",
        "processed "
       ]
      },
      {
       "output_type": "stream",
       "stream": "stdout",
       "text": [
        " 516\n",
        "skipped  8\n",
        "567440968\n",
        "original article tmp file "
       ]
      },
      {
       "output_type": "stream",
       "stream": "stdout",
       "text": [
        " /tmp/tmpl3IR9Q.html\n",
        "/tmp/tmp7zypXH.html\n",
        "/tmp/tmpl3IR9Q.html\n",
        "/tmp/tmpl3IR9Q.html\n",
        "Now open file:///tmp/tmp7zypXH.html in your web browser\n"
       ]
      },
      {
       "output_type": "stream",
       "stream": "stdout",
       "text": [
        "\n",
        "processed "
       ]
      },
      {
       "output_type": "stream",
       "stream": "stdout",
       "text": [
        " 517\n",
        "skipped  8\n",
        "567706084\n",
        "original article tmp file "
       ]
      },
      {
       "output_type": "stream",
       "stream": "stdout",
       "text": [
        " /tmp/tmpZa2WN_.html\n",
        "/tmp/tmp3Ta1Yr.html\n",
        "/tmp/tmpZa2WN_.html\n",
        "/tmp/tmpZa2WN_.html\n",
        "Now open file:///tmp/tmp3Ta1Yr.html in your web browser\n"
       ]
      },
      {
       "output_type": "stream",
       "stream": "stdout",
       "text": [
        "\n",
        "processed "
       ]
      },
      {
       "output_type": "stream",
       "stream": "stdout",
       "text": [
        " 518\n",
        "skipped  8\n",
        "567808993\n",
        "error on download567808993"
       ]
      },
      {
       "output_type": "stream",
       "stream": "stdout",
       "text": [
        "\n",
        "processed  518\n",
        "skipped  9\n",
        "568058112\n",
        "original article tmp file "
       ]
      },
      {
       "output_type": "stream",
       "stream": "stdout",
       "text": [
        " /tmp/tmpciyrEg.html\n",
        "/tmp/tmp9DB4_s.html\n",
        "/tmp/tmpciyrEg.html\n",
        "/tmp/tmpciyrEg.html\n",
        "Now open file:///tmp/tmp9DB4_s.html in your web browser\n"
       ]
      },
      {
       "output_type": "stream",
       "stream": "stdout",
       "text": [
        "\n",
        "processed "
       ]
      },
      {
       "output_type": "stream",
       "stream": "stdout",
       "text": [
        " 519\n",
        "skipped  9\n",
        "568220153\n",
        "original article tmp file "
       ]
      },
      {
       "output_type": "stream",
       "stream": "stdout",
       "text": [
        " /tmp/tmpyp4Pcz.html\n",
        "/tmp/tmpGoko0m.html\n",
        "/tmp/tmpyp4Pcz.html\n",
        "/tmp/tmpyp4Pcz.html\n",
        "Now open file:///tmp/tmpGoko0m.html in your web browser\n"
       ]
      },
      {
       "output_type": "stream",
       "stream": "stdout",
       "text": [
        "\n",
        "processed "
       ]
      },
      {
       "output_type": "stream",
       "stream": "stdout",
       "text": [
        " 520\n",
        "skipped  9\n",
        "568278639\n",
        "original article tmp file "
       ]
      },
      {
       "output_type": "stream",
       "stream": "stdout",
       "text": [
        " /tmp/tmpl6PVwP.html\n",
        "/tmp/tmpqdYvIx.html\n",
        "/tmp/tmpl6PVwP.html\n",
        "/tmp/tmpl6PVwP.html\n",
        "Now open file:///tmp/tmpqdYvIx.html in your web browser\n"
       ]
      },
      {
       "output_type": "stream",
       "stream": "stdout",
       "text": [
        "\n",
        "processed "
       ]
      },
      {
       "output_type": "stream",
       "stream": "stdout",
       "text": [
        " 521\n",
        "skipped  9\n",
        "568405515\n",
        "original article tmp file "
       ]
      },
      {
       "output_type": "stream",
       "stream": "stdout",
       "text": [
        " /tmp/tmpdxA8s_.html\n",
        "/tmp/tmpJ9qAW4.html\n",
        "/tmp/tmpdxA8s_.html\n",
        "/tmp/tmpdxA8s_.html\n",
        "Now open file:///tmp/tmpJ9qAW4.html in your web browser\n"
       ]
      },
      {
       "output_type": "stream",
       "stream": "stdout",
       "text": [
        "\n",
        "processed "
       ]
      },
      {
       "output_type": "stream",
       "stream": "stdout",
       "text": [
        " 522\n",
        "skipped  9\n",
        "568873296\n",
        "original article tmp file "
       ]
      },
      {
       "output_type": "stream",
       "stream": "stdout",
       "text": [
        " /tmp/tmp6CuRpH.html\n",
        "/tmp/tmpSq1dDn.html\n",
        "/tmp/tmp6CuRpH.html\n",
        "/tmp/tmp6CuRpH.html\n",
        "Now open file:///tmp/tmpSq1dDn.html in your web browser\n"
       ]
      },
      {
       "output_type": "stream",
       "stream": "stdout",
       "text": [
        "\n",
        "processed "
       ]
      },
      {
       "output_type": "stream",
       "stream": "stdout",
       "text": [
        " 523\n",
        "skipped  9\n",
        "569385275\n",
        "original article tmp file "
       ]
      },
      {
       "output_type": "stream",
       "stream": "stdout",
       "text": [
        " /tmp/tmpSmdl40.html\n",
        "/tmp/tmpW0Izse.html\n",
        "/tmp/tmpSmdl40.html\n",
        "/tmp/tmpSmdl40.html\n",
        "Now open file:///tmp/tmpW0Izse.html in your web browser\n"
       ]
      },
      {
       "output_type": "stream",
       "stream": "stdout",
       "text": [
        "\n",
        "processed "
       ]
      },
      {
       "output_type": "stream",
       "stream": "stdout",
       "text": [
        " 524\n",
        "skipped  9\n",
        "569400896\n",
        "original article tmp file "
       ]
      },
      {
       "output_type": "stream",
       "stream": "stdout",
       "text": [
        " /tmp/tmpuZrHGY.html\n",
        "/tmp/tmpk08eKn.html\n",
        "/tmp/tmpuZrHGY.html\n",
        "/tmp/tmpuZrHGY.html\n",
        "Now open file:///tmp/tmpk08eKn.html in your web browser\n"
       ]
      },
      {
       "output_type": "stream",
       "stream": "stdout",
       "text": [
        "\n",
        "processed "
       ]
      },
      {
       "output_type": "stream",
       "stream": "stdout",
       "text": [
        " 525\n",
        "skipped  9\n",
        "569440622\n",
        "original article tmp file "
       ]
      },
      {
       "output_type": "stream",
       "stream": "stdout",
       "text": [
        " /tmp/tmpGF9oZ5.html\n",
        "/tmp/tmpq9whcY.html\n",
        "/tmp/tmpGF9oZ5.html\n",
        "/tmp/tmpGF9oZ5.html\n",
        "Now open file:///tmp/tmpq9whcY.html in your web browser\n"
       ]
      },
      {
       "output_type": "stream",
       "stream": "stdout",
       "text": [
        "\n",
        "processed "
       ]
      },
      {
       "output_type": "stream",
       "stream": "stdout",
       "text": [
        " 526\n",
        "skipped  9\n",
        "569448540\n",
        "original article tmp file "
       ]
      },
      {
       "output_type": "stream",
       "stream": "stdout",
       "text": [
        " /tmp/tmpcSoX16.html\n",
        "/tmp/tmpdhvCjC.html\n",
        "/tmp/tmpcSoX16.html\n",
        "/tmp/tmpcSoX16.html\n",
        "Now open file:///tmp/tmpdhvCjC.html in your web browser\n"
       ]
      },
      {
       "output_type": "stream",
       "stream": "stdout",
       "text": [
        "\n",
        "processed "
       ]
      },
      {
       "output_type": "stream",
       "stream": "stdout",
       "text": [
        " 527\n",
        "skipped  9\n",
        "569458361\n",
        "original article tmp file "
       ]
      },
      {
       "output_type": "stream",
       "stream": "stdout",
       "text": [
        " /tmp/tmpPuenAT.html\n",
        "/tmp/tmpIA0rM5.html\n",
        "/tmp/tmpPuenAT.html\n",
        "/tmp/tmpPuenAT.html\n",
        "Now open file:///tmp/tmpIA0rM5.html in your web browser\n"
       ]
      },
      {
       "output_type": "stream",
       "stream": "stdout",
       "text": [
        "\n",
        "processed "
       ]
      },
      {
       "output_type": "stream",
       "stream": "stdout",
       "text": [
        " 528\n",
        "skipped  9\n",
        "569473458\n",
        "original article tmp file "
       ]
      },
      {
       "output_type": "stream",
       "stream": "stdout",
       "text": [
        " /tmp/tmpsQ260X.html\n",
        "/tmp/tmpGbZv6T.html\n",
        "/tmp/tmpsQ260X.html\n",
        "/tmp/tmpsQ260X.html\n",
        "Now open file:///tmp/tmpGbZv6T.html in your web browser\n"
       ]
      },
      {
       "output_type": "stream",
       "stream": "stdout",
       "text": [
        "\n",
        "processed "
       ]
      },
      {
       "output_type": "stream",
       "stream": "stdout",
       "text": [
        " 529\n",
        "skipped  9\n",
        "570126417\n",
        "original article tmp file "
       ]
      },
      {
       "output_type": "stream",
       "stream": "stdout",
       "text": [
        " /tmp/tmpKGgLH0.html\n",
        "/tmp/tmpm9wUpk.html\n",
        "/tmp/tmpKGgLH0.html\n",
        "/tmp/tmpKGgLH0.html\n",
        "Now open file:///tmp/tmpm9wUpk.html in your web browser\n"
       ]
      },
      {
       "output_type": "stream",
       "stream": "stdout",
       "text": [
        "\n",
        "processed "
       ]
      },
      {
       "output_type": "stream",
       "stream": "stdout",
       "text": [
        " 530\n",
        "skipped  9\n",
        "570281609\n",
        "original article tmp file "
       ]
      },
      {
       "output_type": "stream",
       "stream": "stdout",
       "text": [
        " /tmp/tmpejxoPi.html\n",
        "/tmp/tmp7AgX3C.html\n",
        "/tmp/tmpejxoPi.html\n",
        "/tmp/tmpejxoPi.html\n",
        "Now open file:///tmp/tmp7AgX3C.html in your web browser\n"
       ]
      },
      {
       "output_type": "stream",
       "stream": "stdout",
       "text": [
        "\n",
        "processed "
       ]
      },
      {
       "output_type": "stream",
       "stream": "stdout",
       "text": [
        " 531\n",
        "skipped  9\n",
        "570420066\n",
        "original article tmp file "
       ]
      },
      {
       "output_type": "stream",
       "stream": "stdout",
       "text": [
        " /tmp/tmp4ssN4i.html\n",
        "/tmp/tmpbjNPUD.html\n",
        "/tmp/tmp4ssN4i.html\n",
        "/tmp/tmp4ssN4i.html\n",
        "Now open file:///tmp/tmpbjNPUD.html in your web browser\n"
       ]
      },
      {
       "output_type": "stream",
       "stream": "stdout",
       "text": [
        "\n",
        "Unexpected error on string '</a>\n",
        "'"
       ]
      },
      {
       "output_type": "stream",
       "stream": "stdout",
       "text": [
        " <class 'lxml.etree.ParserError'>\n",
        "Unexpected error on string '</p>\n",
        "' <class 'lxml.etree.ParserError'>\n",
        "Unexpected error on string '</div>\n",
        "' <class 'lxml.etree.ParserError'>\n",
        "Unexpected error on string '</a>\n",
        "' <class 'lxml.etree.ParserError'>\n",
        "Unexpected error on string '</a>' <class 'lxml.etree.ParserError'>\n",
        "Unexpected error on string '</h2>\n",
        "' <class 'lxml.etree.ParserError'>\n",
        "Unexpected error on string '</a>' <class 'lxml.etree.ParserError'>\n",
        "Unexpected error on string '</p>\n",
        "' <class 'lxml.etree.ParserError'>\n",
        "Unexpected error on string '</a>' <class 'lxml.etree.ParserError'>\n",
        "Unexpected error on string '</p>\n",
        "' <class 'lxml.etree.ParserError'>\n",
        "Unexpected error on string '</div>\n",
        "' <class 'lxml.etree.ParserError'>\n",
        "Unexpected error on string '</div>\n",
        "' <class 'lxml.etree.ParserError'>\n",
        "Unexpected error on string '</div>\n",
        "' <class 'lxml.etree.ParserError'>\n",
        "Unexpected error on string '</a>\n",
        "' <class 'lxml.etree.ParserError'>\n",
        "Unexpected error on string '</p>\n",
        "' <class 'lxml.etree.ParserError'>\n",
        "Unexpected error on string '</div>\n",
        "' <class 'lxml.etree.ParserError'>\n",
        "Unexpected error on string '</a>\n",
        "' <class 'lxml.etree.ParserError'>\n",
        "Unexpected error on string '</a>' <class 'lxml.etree.ParserError'>\n",
        "Unexpected error on string '</h2>\n",
        "' <class 'lxml.etree.ParserError'>\n",
        "Unexpected error on string '</a>' <class 'lxml.etree.ParserError'>\n",
        "Unexpected error on string '</p>\n",
        "' <class 'lxml.etree.ParserError'>\n",
        "Unexpected error on string '</a>' <class 'lxml.etree.ParserError'>\n",
        "Unexpected error on string '</p>\n",
        "' <class 'lxml.etree.ParserError'>\n",
        "Unexpected error on string '</div>\n",
        "' <class 'lxml.etree.ParserError'>\n",
        "Unexpected error on string '</div>\n",
        "' <class 'lxml.etree.ParserError'>\n",
        "Unexpected error on string '</div>\n",
        "' <class 'lxml.etree.ParserError'>\n",
        "processed "
       ]
      },
      {
       "output_type": "stream",
       "stream": "stdout",
       "text": [
        " 532\n",
        "skipped  9\n",
        "570820516\n",
        "original article tmp file "
       ]
      },
      {
       "output_type": "stream",
       "stream": "stdout",
       "text": [
        " /tmp/tmpiRRkna.html\n",
        "/tmp/tmpRcoVpB.html\n",
        "/tmp/tmpiRRkna.html\n",
        "/tmp/tmpiRRkna.html\n",
        "Now open file:///tmp/tmpRcoVpB.html in your web browser\n"
       ]
      },
      {
       "output_type": "stream",
       "stream": "stdout",
       "text": [
        "\n",
        "processed "
       ]
      },
      {
       "output_type": "stream",
       "stream": "stdout",
       "text": [
        " 533\n",
        "skipped  9\n",
        "571250692\n",
        "original article tmp file "
       ]
      },
      {
       "output_type": "stream",
       "stream": "stdout",
       "text": [
        " /tmp/tmpQXTLx4.html\n",
        "/tmp/tmpde4dbq.html\n",
        "/tmp/tmpQXTLx4.html\n",
        "/tmp/tmpQXTLx4.html\n",
        "Now open file:///tmp/tmpde4dbq.html in your web browser\n"
       ]
      },
      {
       "output_type": "stream",
       "stream": "stdout",
       "text": [
        "\n",
        "processed "
       ]
      },
      {
       "output_type": "stream",
       "stream": "stdout",
       "text": [
        " 534\n",
        "skipped  9\n",
        "572427751\n",
        "original article tmp file "
       ]
      },
      {
       "output_type": "stream",
       "stream": "stdout",
       "text": [
        " /tmp/tmpNEJf46.html\n",
        "/tmp/tmpqdqDPU.html\n",
        "/tmp/tmpNEJf46.html\n",
        "/tmp/tmpNEJf46.html\n",
        "Now open file:///tmp/tmpqdqDPU.html in your web browser\n"
       ]
      },
      {
       "output_type": "stream",
       "stream": "stdout",
       "text": [
        "\n",
        "processed "
       ]
      },
      {
       "output_type": "stream",
       "stream": "stdout",
       "text": [
        " 535\n",
        "skipped  9\n",
        "572497331\n",
        "original article tmp file "
       ]
      },
      {
       "output_type": "stream",
       "stream": "stdout",
       "text": [
        " /tmp/tmpKOzo5Q.html\n",
        "/tmp/tmpsHfnoU.html\n",
        "/tmp/tmpKOzo5Q.html\n",
        "/tmp/tmpKOzo5Q.html\n",
        "Now open file:///tmp/tmpsHfnoU.html in your web browser\n"
       ]
      },
      {
       "output_type": "stream",
       "stream": "stdout",
       "text": [
        "\n",
        "processed "
       ]
      },
      {
       "output_type": "stream",
       "stream": "stdout",
       "text": [
        " 536\n",
        "skipped  9\n",
        "572595598\n",
        "original article tmp file "
       ]
      },
      {
       "output_type": "stream",
       "stream": "stdout",
       "text": [
        " /tmp/tmpCZ58J6.html\n",
        "/tmp/tmpTd8vhK.html\n",
        "/tmp/tmpCZ58J6.html\n",
        "/tmp/tmpCZ58J6.html\n",
        "Now open file:///tmp/tmpTd8vhK.html in your web browser\n"
       ]
      },
      {
       "output_type": "stream",
       "stream": "stdout",
       "text": [
        "\n",
        "processed "
       ]
      },
      {
       "output_type": "stream",
       "stream": "stdout",
       "text": [
        " 537\n",
        "skipped  9\n",
        "589072496\n",
        "original article tmp file "
       ]
      },
      {
       "output_type": "stream",
       "stream": "stdout",
       "text": [
        " /tmp/tmpI3Lbz5.html\n",
        "/tmp/tmp9ZKYal.html\n",
        "/tmp/tmpI3Lbz5.html\n",
        "/tmp/tmpI3Lbz5.html\n",
        "Now open file:///tmp/tmp9ZKYal.html in your web browser\n"
       ]
      },
      {
       "output_type": "stream",
       "stream": "stdout",
       "text": [
        "\n",
        "processed "
       ]
      },
      {
       "output_type": "stream",
       "stream": "stdout",
       "text": [
        " 538\n",
        "skipped  9\n",
        "589074541\n",
        "original article tmp file "
       ]
      },
      {
       "output_type": "stream",
       "stream": "stdout",
       "text": [
        " /tmp/tmpd3nGeu.html\n",
        "/tmp/tmp4Fjo9I.html\n",
        "/tmp/tmpd3nGeu.html\n",
        "/tmp/tmpd3nGeu.html\n",
        "Now open file:///tmp/tmp4Fjo9I.html in your web browser\n"
       ]
      },
      {
       "output_type": "stream",
       "stream": "stdout",
       "text": [
        "\n",
        "processed "
       ]
      },
      {
       "output_type": "stream",
       "stream": "stdout",
       "text": [
        " 539\n",
        "skipped  9\n",
        "589074546\n",
        "original article tmp file "
       ]
      },
      {
       "output_type": "stream",
       "stream": "stdout",
       "text": [
        " /tmp/tmpy5xhY0.html\n",
        "/tmp/tmp5w0NWn.html\n",
        "/tmp/tmpy5xhY0.html\n",
        "/tmp/tmpy5xhY0.html\n",
        "Now open file:///tmp/tmp5w0NWn.html in your web browser\n"
       ]
      },
      {
       "output_type": "stream",
       "stream": "stdout",
       "text": [
        "\n",
        "processed "
       ]
      },
      {
       "output_type": "stream",
       "stream": "stdout",
       "text": [
        " 540\n",
        "skipped  9\n",
        "589088428\n",
        "original article tmp file "
       ]
      },
      {
       "output_type": "stream",
       "stream": "stdout",
       "text": [
        " /tmp/tmpPhTSbN.html\n",
        "/tmp/tmpzgByn6.html\n",
        "/tmp/tmpPhTSbN.html\n",
        "/tmp/tmpPhTSbN.html\n",
        "Now open file:///tmp/tmpzgByn6.html in your web browser\n"
       ]
      },
      {
       "output_type": "stream",
       "stream": "stdout",
       "text": [
        "\n",
        "processed "
       ]
      },
      {
       "output_type": "stream",
       "stream": "stdout",
       "text": [
        " 541\n",
        "skipped  9\n",
        "589089635\n",
        "original article tmp file "
       ]
      },
      {
       "output_type": "stream",
       "stream": "stdout",
       "text": [
        " /tmp/tmpNv1mLB.html\n",
        "/tmp/tmpMmoHS3.html\n",
        "/tmp/tmpNv1mLB.html\n",
        "/tmp/tmpNv1mLB.html\n",
        "Now open file:///tmp/tmpMmoHS3.html in your web browser\n"
       ]
      },
      {
       "output_type": "stream",
       "stream": "stdout",
       "text": [
        "\n",
        "processed "
       ]
      },
      {
       "output_type": "stream",
       "stream": "stdout",
       "text": [
        " 542\n",
        "skipped  9\n",
        "589090828\n",
        "original article tmp file "
       ]
      },
      {
       "output_type": "stream",
       "stream": "stdout",
       "text": [
        " /tmp/tmp1Vz1FQ.html\n",
        "/tmp/tmpIIddhN.html\n",
        "/tmp/tmp1Vz1FQ.html\n",
        "/tmp/tmp1Vz1FQ.html\n",
        "Now open file:///tmp/tmpIIddhN.html in your web browser\n"
       ]
      },
      {
       "output_type": "stream",
       "stream": "stdout",
       "text": [
        "\n",
        "processed "
       ]
      },
      {
       "output_type": "stream",
       "stream": "stdout",
       "text": [
        " 543\n",
        "skipped  9\n",
        "589116902\n",
        "original article tmp file "
       ]
      },
      {
       "output_type": "stream",
       "stream": "stdout",
       "text": [
        " /tmp/tmpNCqMMR.html\n",
        "/tmp/tmpkuBdxl.html\n",
        "/tmp/tmpNCqMMR.html\n",
        "/tmp/tmpNCqMMR.html\n",
        "Now open file:///tmp/tmpkuBdxl.html in your web browser\n"
       ]
      },
      {
       "output_type": "stream",
       "stream": "stdout",
       "text": [
        "\n",
        "processed "
       ]
      },
      {
       "output_type": "stream",
       "stream": "stdout",
       "text": [
        " 544\n",
        "skipped  9\n",
        "589116915\n",
        "original article tmp file "
       ]
      },
      {
       "output_type": "stream",
       "stream": "stdout",
       "text": [
        " /tmp/tmpWqEXfc.html\n",
        "/tmp/tmpSzt47m.html\n",
        "/tmp/tmpWqEXfc.html\n",
        "/tmp/tmpWqEXfc.html\n",
        "Now open file:///tmp/tmpSzt47m.html in your web browser\n"
       ]
      },
      {
       "output_type": "stream",
       "stream": "stdout",
       "text": [
        "\n",
        "processed "
       ]
      },
      {
       "output_type": "stream",
       "stream": "stdout",
       "text": [
        " 545\n",
        "skipped  9\n",
        "589129653\n",
        "original article tmp file "
       ]
      },
      {
       "output_type": "stream",
       "stream": "stdout",
       "text": [
        " /tmp/tmpDU1nRJ.html\n",
        "/tmp/tmpcaig3g.html\n",
        "/tmp/tmpDU1nRJ.html\n",
        "/tmp/tmpDU1nRJ.html\n",
        "Now open file:///tmp/tmpcaig3g.html in your web browser\n"
       ]
      },
      {
       "output_type": "stream",
       "stream": "stdout",
       "text": [
        "\n",
        "processed "
       ]
      },
      {
       "output_type": "stream",
       "stream": "stdout",
       "text": [
        " 546\n",
        "skipped  9\n",
        "589153423\n",
        "original article tmp file "
       ]
      },
      {
       "output_type": "stream",
       "stream": "stdout",
       "text": [
        " /tmp/tmpOmrth0.html\n",
        "/tmp/tmpdXraOU.html\n",
        "/tmp/tmpOmrth0.html\n",
        "/tmp/tmpOmrth0.html\n",
        "Now open file:///tmp/tmpdXraOU.html in your web browser\n"
       ]
      },
      {
       "output_type": "stream",
       "stream": "stdout",
       "text": [
        "\n",
        "processed "
       ]
      },
      {
       "output_type": "stream",
       "stream": "stdout",
       "text": [
        " 547\n",
        "skipped  9\n",
        "589156380\n",
        "original article tmp file "
       ]
      },
      {
       "output_type": "stream",
       "stream": "stdout",
       "text": [
        " /tmp/tmpf7ke7Z.html\n",
        "/tmp/tmppb_R8F.html\n",
        "/tmp/tmpf7ke7Z.html\n",
        "/tmp/tmpf7ke7Z.html\n",
        "Now open file:///tmp/tmppb_R8F.html in your web browser\n"
       ]
      },
      {
       "output_type": "stream",
       "stream": "stdout",
       "text": [
        "\n",
        "processed "
       ]
      },
      {
       "output_type": "stream",
       "stream": "stdout",
       "text": [
        " 548\n",
        "skipped  9\n",
        "589208129\n",
        "original article tmp file "
       ]
      },
      {
       "output_type": "stream",
       "stream": "stdout",
       "text": [
        " /tmp/tmpHcr7hZ.html\n",
        "/tmp/tmpVpolHU.html\n",
        "/tmp/tmpHcr7hZ.html\n",
        "/tmp/tmpHcr7hZ.html\n",
        "Now open file:///tmp/tmpVpolHU.html in your web browser\n"
       ]
      },
      {
       "output_type": "stream",
       "stream": "stdout",
       "text": [
        "\n",
        "processed "
       ]
      },
      {
       "output_type": "stream",
       "stream": "stdout",
       "text": [
        " 549\n",
        "skipped  9\n",
        "589213448\n",
        "original article tmp file "
       ]
      },
      {
       "output_type": "stream",
       "stream": "stdout",
       "text": [
        " /tmp/tmpa4Dq0G.html\n",
        "/tmp/tmp1n0dX_.html\n",
        "/tmp/tmpa4Dq0G.html\n",
        "/tmp/tmpa4Dq0G.html\n",
        "Now open file:///tmp/tmp1n0dX_.html in your web browser\n"
       ]
      },
      {
       "output_type": "stream",
       "stream": "stdout",
       "text": [
        "\n",
        "processed "
       ]
      },
      {
       "output_type": "stream",
       "stream": "stdout",
       "text": [
        " 550\n",
        "skipped  9\n",
        "589213994\n",
        "original article tmp file "
       ]
      },
      {
       "output_type": "stream",
       "stream": "stdout",
       "text": [
        " /tmp/tmpx4G9rT.html\n",
        "/tmp/tmpm8hst3.html\n",
        "/tmp/tmpx4G9rT.html\n",
        "/tmp/tmpx4G9rT.html\n",
        "Now open file:///tmp/tmpm8hst3.html in your web browser\n"
       ]
      },
      {
       "output_type": "stream",
       "stream": "stdout",
       "text": [
        "\n",
        "processed "
       ]
      },
      {
       "output_type": "stream",
       "stream": "stdout",
       "text": [
        " 551\n",
        "skipped  9\n",
        "589224922\n",
        "original article tmp file "
       ]
      },
      {
       "output_type": "stream",
       "stream": "stdout",
       "text": [
        " /tmp/tmpBFfBUO.html\n",
        "/tmp/tmpuXMOMs.html\n",
        "/tmp/tmpBFfBUO.html\n",
        "/tmp/tmpBFfBUO.html\n",
        "Now open file:///tmp/tmpuXMOMs.html in your web browser\n"
       ]
      },
      {
       "output_type": "stream",
       "stream": "stdout",
       "text": [
        "\n",
        "processed "
       ]
      },
      {
       "output_type": "stream",
       "stream": "stdout",
       "text": [
        " 552\n",
        "skipped  9\n",
        "589225296\n",
        "original article tmp file "
       ]
      },
      {
       "output_type": "stream",
       "stream": "stdout",
       "text": [
        " /tmp/tmphGrYMf.html\n",
        "/tmp/tmpl4MxTt.html\n",
        "/tmp/tmphGrYMf.html\n",
        "/tmp/tmphGrYMf.html\n",
        "Now open file:///tmp/tmpl4MxTt.html in your web browser\n"
       ]
      },
      {
       "output_type": "stream",
       "stream": "stdout",
       "text": [
        "\n",
        "processed "
       ]
      },
      {
       "output_type": "stream",
       "stream": "stdout",
       "text": [
        " 553\n",
        "skipped  9\n",
        "589239170\n",
        "original article tmp file "
       ]
      },
      {
       "output_type": "stream",
       "stream": "stdout",
       "text": [
        " /tmp/tmpm_xbNu.html\n",
        "/tmp/tmptyf9qJ.html\n",
        "/tmp/tmpm_xbNu.html\n",
        "/tmp/tmpm_xbNu.html\n",
        "Now open file:///tmp/tmptyf9qJ.html in your web browser\n"
       ]
      },
      {
       "output_type": "stream",
       "stream": "stdout",
       "text": [
        "\n",
        "processed "
       ]
      },
      {
       "output_type": "stream",
       "stream": "stdout",
       "text": [
        " 554\n",
        "skipped  9\n",
        "589240076\n",
        "original article tmp file "
       ]
      },
      {
       "output_type": "stream",
       "stream": "stdout",
       "text": [
        " /tmp/tmpZiyZGT.html\n",
        "/tmp/tmpII7knO.html\n",
        "/tmp/tmpZiyZGT.html\n",
        "/tmp/tmpZiyZGT.html\n",
        "Now open file:///tmp/tmpII7knO.html in your web browser\n"
       ]
      },
      {
       "output_type": "stream",
       "stream": "stdout",
       "text": [
        "\n",
        "processed "
       ]
      },
      {
       "output_type": "stream",
       "stream": "stdout",
       "text": [
        " 555\n",
        "skipped  9\n",
        "589261134\n",
        "original article tmp file "
       ]
      },
      {
       "output_type": "stream",
       "stream": "stdout",
       "text": [
        " /tmp/tmpxTMXZf.html\n",
        "/tmp/tmpgTmW34.html\n",
        "/tmp/tmpxTMXZf.html\n",
        "/tmp/tmpxTMXZf.html\n",
        "Now open file:///tmp/tmpgTmW34.html in your web browser\n"
       ]
      },
      {
       "output_type": "stream",
       "stream": "stdout",
       "text": [
        "\n",
        "processed "
       ]
      },
      {
       "output_type": "stream",
       "stream": "stdout",
       "text": [
        " 556\n",
        "skipped  9\n",
        "589261136\n",
        "original article tmp file "
       ]
      },
      {
       "output_type": "stream",
       "stream": "stdout",
       "text": [
        " /tmp/tmpIEIXkE.html\n",
        "/tmp/tmp2WNOOx.html\n",
        "/tmp/tmpIEIXkE.html\n",
        "/tmp/tmpIEIXkE.html\n",
        "Now open file:///tmp/tmp2WNOOx.html in your web browser\n"
       ]
      },
      {
       "output_type": "stream",
       "stream": "stdout",
       "text": [
        "\n",
        "processed "
       ]
      },
      {
       "output_type": "stream",
       "stream": "stdout",
       "text": [
        " 557\n",
        "skipped  9\n",
        "589273978\n",
        "original article tmp file "
       ]
      },
      {
       "output_type": "stream",
       "stream": "stdout",
       "text": [
        " /tmp/tmpTCBNum.html\n",
        "/tmp/tmpNStNe6.html\n",
        "/tmp/tmpTCBNum.html\n",
        "/tmp/tmpTCBNum.html\n",
        "Now open file:///tmp/tmpNStNe6.html in your web browser\n"
       ]
      },
      {
       "output_type": "stream",
       "stream": "stdout",
       "text": [
        "\n",
        "processed "
       ]
      },
      {
       "output_type": "stream",
       "stream": "stdout",
       "text": [
        " 558\n",
        "skipped  9\n",
        "589285851\n",
        "original article tmp file "
       ]
      },
      {
       "output_type": "stream",
       "stream": "stdout",
       "text": [
        " /tmp/tmpSd1fZn.html\n",
        "/tmp/tmpeXMRhf.html\n",
        "/tmp/tmpSd1fZn.html\n",
        "/tmp/tmpSd1fZn.html\n",
        "Now open file:///tmp/tmpeXMRhf.html in your web browser\n"
       ]
      },
      {
       "output_type": "stream",
       "stream": "stdout",
       "text": [
        "\n",
        "processed "
       ]
      },
      {
       "output_type": "stream",
       "stream": "stdout",
       "text": [
        " 559\n",
        "skipped  9\n",
        "589285856\n",
        "original article tmp file "
       ]
      },
      {
       "output_type": "stream",
       "stream": "stdout",
       "text": [
        " /tmp/tmpdOEfi8.html\n",
        "/tmp/tmphYBwNc.html\n",
        "/tmp/tmpdOEfi8.html\n",
        "/tmp/tmpdOEfi8.html\n",
        "Now open file:///tmp/tmphYBwNc.html in your web browser\n"
       ]
      },
      {
       "output_type": "stream",
       "stream": "stdout",
       "text": [
        "\n",
        "processed "
       ]
      },
      {
       "output_type": "stream",
       "stream": "stdout",
       "text": [
        " 560\n",
        "skipped  9\n",
        "589298598\n",
        "original article tmp file "
       ]
      },
      {
       "output_type": "stream",
       "stream": "stdout",
       "text": [
        " /tmp/tmpi1egcO.html\n",
        "/tmp/tmp_B9MxQ.html\n",
        "/tmp/tmpi1egcO.html\n",
        "/tmp/tmpi1egcO.html\n",
        "Now open file:///tmp/tmp_B9MxQ.html in your web browser\n"
       ]
      },
      {
       "output_type": "stream",
       "stream": "stdout",
       "text": [
        "\n",
        "processed "
       ]
      },
      {
       "output_type": "stream",
       "stream": "stdout",
       "text": [
        " 561\n",
        "skipped  9\n",
        "589305788\n",
        "original article tmp file "
       ]
      },
      {
       "output_type": "stream",
       "stream": "stdout",
       "text": [
        " /tmp/tmpS7TvTJ.html\n",
        "/tmp/tmpowarcA.html\n",
        "/tmp/tmpS7TvTJ.html\n",
        "/tmp/tmpS7TvTJ.html\n",
        "Now open file:///tmp/tmpowarcA.html in your web browser\n"
       ]
      },
      {
       "output_type": "stream",
       "stream": "stdout",
       "text": [
        "\n",
        "processed "
       ]
      },
      {
       "output_type": "stream",
       "stream": "stdout",
       "text": [
        " 562\n",
        "skipped  9\n",
        "589310534\n",
        "original article tmp file "
       ]
      },
      {
       "output_type": "stream",
       "stream": "stdout",
       "text": [
        " /tmp/tmpjpuZYA.html\n",
        "/tmp/tmpqGaBL0.html\n",
        "/tmp/tmpjpuZYA.html\n",
        "/tmp/tmpjpuZYA.html\n",
        "Now open file:///tmp/tmpqGaBL0.html in your web browser\n"
       ]
      },
      {
       "output_type": "stream",
       "stream": "stdout",
       "text": [
        "\n",
        "processed "
       ]
      },
      {
       "output_type": "stream",
       "stream": "stdout",
       "text": [
        " 563\n",
        "skipped  9\n",
        "589316558\n",
        "original article tmp file "
       ]
      },
      {
       "output_type": "stream",
       "stream": "stdout",
       "text": [
        " /tmp/tmpwBQEqx.html\n",
        "/tmp/tmpkc45Ts.html\n",
        "/tmp/tmpwBQEqx.html\n",
        "/tmp/tmpwBQEqx.html\n",
        "Now open file:///tmp/tmpkc45Ts.html in your web browser\n"
       ]
      },
      {
       "output_type": "stream",
       "stream": "stdout",
       "text": [
        "\n",
        "processed "
       ]
      },
      {
       "output_type": "stream",
       "stream": "stdout",
       "text": [
        " 564\n",
        "skipped  9\n",
        "589324992\n",
        "original article tmp file "
       ]
      },
      {
       "output_type": "stream",
       "stream": "stdout",
       "text": [
        " /tmp/tmpXOXPXD.html\n",
        "/tmp/tmpH5Nd3W.html\n",
        "/tmp/tmpXOXPXD.html\n",
        "/tmp/tmpXOXPXD.html\n",
        "Now open file:///tmp/tmpH5Nd3W.html in your web browser\n"
       ]
      },
      {
       "output_type": "stream",
       "stream": "stdout",
       "text": [
        "\n",
        "processed "
       ]
      },
      {
       "output_type": "stream",
       "stream": "stdout",
       "text": [
        " 565\n",
        "skipped  9\n",
        "589326873\n",
        "original article tmp file "
       ]
      },
      {
       "output_type": "stream",
       "stream": "stdout",
       "text": [
        " /tmp/tmpGoIQ5y.html\n",
        "/tmp/tmpFeK0eP.html\n",
        "/tmp/tmpGoIQ5y.html\n",
        "/tmp/tmpGoIQ5y.html\n",
        "Now open file:///tmp/tmpFeK0eP.html in your web browser\n"
       ]
      },
      {
       "output_type": "stream",
       "stream": "stdout",
       "text": [
        "\n",
        "processed "
       ]
      },
      {
       "output_type": "stream",
       "stream": "stdout",
       "text": [
        " 566\n",
        "skipped  9\n",
        "589335687\n",
        "original article tmp file "
       ]
      },
      {
       "output_type": "stream",
       "stream": "stdout",
       "text": [
        " /tmp/tmpmhdamR.html\n",
        "/tmp/tmpsllLT_.html\n",
        "/tmp/tmpmhdamR.html\n",
        "/tmp/tmpmhdamR.html\n",
        "Now open file:///tmp/tmpsllLT_.html in your web browser\n"
       ]
      },
      {
       "output_type": "stream",
       "stream": "stdout",
       "text": [
        "\n",
        "processed "
       ]
      },
      {
       "output_type": "stream",
       "stream": "stdout",
       "text": [
        " 567\n",
        "skipped  9\n",
        "589355839\n",
        "original article tmp file "
       ]
      },
      {
       "output_type": "stream",
       "stream": "stdout",
       "text": [
        " /tmp/tmp1YpOtf.html\n",
        "/tmp/tmph0lOYT.html\n",
        "/tmp/tmp1YpOtf.html\n",
        "/tmp/tmp1YpOtf.html\n",
        "Now open file:///tmp/tmph0lOYT.html in your web browser\n"
       ]
      },
      {
       "output_type": "stream",
       "stream": "stdout",
       "text": [
        "\n",
        "processed "
       ]
      },
      {
       "output_type": "stream",
       "stream": "stdout",
       "text": [
        " 568\n",
        "skipped  9\n",
        "589368807\n",
        "original article tmp file "
       ]
      },
      {
       "output_type": "stream",
       "stream": "stdout",
       "text": [
        " /tmp/tmpK5ykgx.html\n",
        "/tmp/tmpbQSRCy.html\n",
        "/tmp/tmpK5ykgx.html\n",
        "/tmp/tmpK5ykgx.html\n",
        "Now open file:///tmp/tmpbQSRCy.html in your web browser\n"
       ]
      },
      {
       "output_type": "stream",
       "stream": "stdout",
       "text": [
        "\n",
        "processed "
       ]
      },
      {
       "output_type": "stream",
       "stream": "stdout",
       "text": [
        " 569\n",
        "skipped  9\n",
        "589371772\n",
        "original article tmp file "
       ]
      },
      {
       "output_type": "stream",
       "stream": "stdout",
       "text": [
        " /tmp/tmpferOGe.html\n",
        "/tmp/tmp_hrBLx.html\n",
        "/tmp/tmpferOGe.html\n",
        "/tmp/tmpferOGe.html\n",
        "Now open file:///tmp/tmp_hrBLx.html in your web browser\n"
       ]
      },
      {
       "output_type": "stream",
       "stream": "stdout",
       "text": [
        "\n",
        "processed "
       ]
      },
      {
       "output_type": "stream",
       "stream": "stdout",
       "text": [
        " 570\n",
        "skipped  9\n",
        "589377853\n",
        "original article tmp file "
       ]
      },
      {
       "output_type": "stream",
       "stream": "stdout",
       "text": [
        " /tmp/tmpEgXAF1.html\n",
        "/tmp/tmpnPseDD.html\n",
        "/tmp/tmpEgXAF1.html\n",
        "/tmp/tmpEgXAF1.html\n",
        "Now open file:///tmp/tmpnPseDD.html in your web browser\n"
       ]
      },
      {
       "output_type": "stream",
       "stream": "stdout",
       "text": [
        "\n",
        "processed "
       ]
      },
      {
       "output_type": "stream",
       "stream": "stdout",
       "text": [
        " 571\n",
        "skipped  9\n",
        "589384584\n",
        "original article tmp file "
       ]
      },
      {
       "output_type": "stream",
       "stream": "stdout",
       "text": [
        " /tmp/tmp3pfH5L.html\n",
        "/tmp/tmpURPf_M.html\n",
        "/tmp/tmp3pfH5L.html\n",
        "/tmp/tmp3pfH5L.html\n",
        "Now open file:///tmp/tmpURPf_M.html in your web browser\n"
       ]
      },
      {
       "output_type": "stream",
       "stream": "stdout",
       "text": [
        "\n",
        "processed "
       ]
      },
      {
       "output_type": "stream",
       "stream": "stdout",
       "text": [
        " 572\n",
        "skipped  9\n",
        "589440172\n",
        "original article tmp file "
       ]
      },
      {
       "output_type": "stream",
       "stream": "stdout",
       "text": [
        " /tmp/tmp5Lwp49.html\n",
        "/tmp/tmpkLLggo.html\n",
        "/tmp/tmp5Lwp49.html\n",
        "/tmp/tmp5Lwp49.html\n",
        "Now open file:///tmp/tmpkLLggo.html in your web browser\n"
       ]
      },
      {
       "output_type": "stream",
       "stream": "stdout",
       "text": [
        "\n",
        "processed "
       ]
      },
      {
       "output_type": "stream",
       "stream": "stdout",
       "text": [
        " 573\n",
        "skipped  9\n",
        "589502987\n",
        "original article tmp file "
       ]
      },
      {
       "output_type": "stream",
       "stream": "stdout",
       "text": [
        " /tmp/tmpgJYAmq.html\n",
        "/tmp/tmp8NwhI_.html\n",
        "/tmp/tmpgJYAmq.html\n",
        "/tmp/tmpgJYAmq.html\n",
        "Now open file:///tmp/tmp8NwhI_.html in your web browser\n"
       ]
      },
      {
       "output_type": "stream",
       "stream": "stdout",
       "text": [
        "\n",
        "processed "
       ]
      },
      {
       "output_type": "stream",
       "stream": "stdout",
       "text": [
        " 574\n",
        "skipped  9\n",
        "589513642\n",
        "original article tmp file "
       ]
      },
      {
       "output_type": "stream",
       "stream": "stdout",
       "text": [
        " /tmp/tmpzKk_gj.html\n",
        "/tmp/tmpZ6Cd_P.html\n",
        "/tmp/tmpzKk_gj.html\n",
        "/tmp/tmpzKk_gj.html\n",
        "Now open file:///tmp/tmpZ6Cd_P.html in your web browser\n"
       ]
      },
      {
       "output_type": "stream",
       "stream": "stdout",
       "text": [
        "\n",
        "processed "
       ]
      },
      {
       "output_type": "stream",
       "stream": "stdout",
       "text": [
        " 575\n",
        "skipped  9\n",
        "589568015\n",
        "original article tmp file "
       ]
      },
      {
       "output_type": "stream",
       "stream": "stdout",
       "text": [
        " /tmp/tmpXrzJrh.html\n",
        "/tmp/tmpyQOLMn.html\n",
        "/tmp/tmpXrzJrh.html\n",
        "/tmp/tmpXrzJrh.html\n",
        "Now open file:///tmp/tmpyQOLMn.html in your web browser\n"
       ]
      },
      {
       "output_type": "stream",
       "stream": "stdout",
       "text": [
        "\n",
        "processed "
       ]
      },
      {
       "output_type": "stream",
       "stream": "stdout",
       "text": [
        " 576\n",
        "skipped  9\n",
        "589625611\n",
        "original article tmp file "
       ]
      },
      {
       "output_type": "stream",
       "stream": "stdout",
       "text": [
        " /tmp/tmpFhx5pq.html\n",
        "/tmp/tmpGY5uSJ.html\n",
        "/tmp/tmpFhx5pq.html\n",
        "/tmp/tmpFhx5pq.html\n",
        "Now open file:///tmp/tmpGY5uSJ.html in your web browser\n"
       ]
      },
      {
       "output_type": "stream",
       "stream": "stdout",
       "text": [
        "\n",
        "processed "
       ]
      },
      {
       "output_type": "stream",
       "stream": "stdout",
       "text": [
        " 577\n",
        "skipped  9\n",
        "589655068\n",
        "original article tmp file "
       ]
      },
      {
       "output_type": "stream",
       "stream": "stdout",
       "text": [
        " /tmp/tmpTz5Pgw.html\n",
        "/tmp/tmp93YeNE.html\n",
        "/tmp/tmpTz5Pgw.html\n",
        "/tmp/tmpTz5Pgw.html\n",
        "Now open file:///tmp/tmp93YeNE.html in your web browser\n"
       ]
      },
      {
       "output_type": "stream",
       "stream": "stdout",
       "text": [
        "\n",
        "processed "
       ]
      },
      {
       "output_type": "stream",
       "stream": "stdout",
       "text": [
        " 578\n",
        "skipped  9\n",
        "589674386\n",
        "original article tmp file "
       ]
      },
      {
       "output_type": "stream",
       "stream": "stdout",
       "text": [
        " /tmp/tmpVdDi9O.html\n",
        "/tmp/tmpIsEbRP.html\n",
        "/tmp/tmpVdDi9O.html\n",
        "/tmp/tmpVdDi9O.html\n",
        "Now open file:///tmp/tmpIsEbRP.html in your web browser\n"
       ]
      },
      {
       "output_type": "stream",
       "stream": "stdout",
       "text": [
        "\n",
        "processed "
       ]
      },
      {
       "output_type": "stream",
       "stream": "stdout",
       "text": [
        " 579\n",
        "skipped  9\n",
        "589683282\n",
        "original article tmp file "
       ]
      },
      {
       "output_type": "stream",
       "stream": "stdout",
       "text": [
        " /tmp/tmpGR65Ut.html\n",
        "/tmp/tmpuk4ekl.html\n",
        "/tmp/tmpGR65Ut.html\n",
        "/tmp/tmpGR65Ut.html\n",
        "Now open file:///tmp/tmpuk4ekl.html in your web browser\n"
       ]
      },
      {
       "output_type": "stream",
       "stream": "stdout",
       "text": [
        "\n",
        "processed "
       ]
      },
      {
       "output_type": "stream",
       "stream": "stdout",
       "text": [
        " 580\n",
        "skipped  9\n",
        "589686438\n",
        "original article tmp file "
       ]
      },
      {
       "output_type": "stream",
       "stream": "stdout",
       "text": [
        " /tmp/tmpSSsxSm.html\n",
        "/tmp/tmpfuOoSa.html\n",
        "/tmp/tmpSSsxSm.html\n",
        "/tmp/tmpSSsxSm.html\n",
        "Now open file:///tmp/tmpfuOoSa.html in your web browser\n"
       ]
      },
      {
       "output_type": "stream",
       "stream": "stdout",
       "text": [
        "\n",
        "processed "
       ]
      },
      {
       "output_type": "stream",
       "stream": "stdout",
       "text": [
        " 581\n",
        "skipped  9\n",
        "589754761\n",
        "original article tmp file "
       ]
      },
      {
       "output_type": "stream",
       "stream": "stdout",
       "text": [
        " /tmp/tmpcNEVGu.html\n",
        "/tmp/tmpoPD3aX.html\n",
        "/tmp/tmpcNEVGu.html\n",
        "/tmp/tmpcNEVGu.html\n",
        "Now open file:///tmp/tmpoPD3aX.html in your web browser\n"
       ]
      },
      {
       "output_type": "stream",
       "stream": "stdout",
       "text": [
        "\n",
        "processed "
       ]
      },
      {
       "output_type": "stream",
       "stream": "stdout",
       "text": [
        " 582\n",
        "skipped  9\n",
        "589755411\n",
        "original article tmp file "
       ]
      },
      {
       "output_type": "stream",
       "stream": "stdout",
       "text": [
        " /tmp/tmp0_CDnQ.html\n",
        "/tmp/tmpgmIhuE.html\n",
        "/tmp/tmp0_CDnQ.html\n",
        "/tmp/tmp0_CDnQ.html\n",
        "Now open file:///tmp/tmpgmIhuE.html in your web browser\n"
       ]
      },
      {
       "output_type": "stream",
       "stream": "stdout",
       "text": [
        "\n",
        "processed "
       ]
      },
      {
       "output_type": "stream",
       "stream": "stdout",
       "text": [
        " 583\n",
        "skipped  9\n",
        "589755612\n",
        "original article tmp file "
       ]
      },
      {
       "output_type": "stream",
       "stream": "stdout",
       "text": [
        " /tmp/tmpgT7YyA.html\n",
        "/tmp/tmpiFrY1r.html\n",
        "/tmp/tmpgT7YyA.html\n",
        "/tmp/tmpgT7YyA.html\n",
        "Now open file:///tmp/tmpiFrY1r.html in your web browser\n"
       ]
      },
      {
       "output_type": "stream",
       "stream": "stdout",
       "text": [
        "\n",
        "processed "
       ]
      },
      {
       "output_type": "stream",
       "stream": "stdout",
       "text": [
        " 584\n",
        "skipped  9\n",
        "589758021\n",
        "original article tmp file "
       ]
      },
      {
       "output_type": "stream",
       "stream": "stdout",
       "text": [
        " /tmp/tmpM_eDYx.html\n",
        "/tmp/tmpDLsBU3.html\n",
        "/tmp/tmpM_eDYx.html\n",
        "/tmp/tmpM_eDYx.html\n",
        "Now open file:///tmp/tmpDLsBU3.html in your web browser\n"
       ]
      },
      {
       "output_type": "stream",
       "stream": "stdout",
       "text": [
        "\n",
        "processed "
       ]
      },
      {
       "output_type": "stream",
       "stream": "stdout",
       "text": [
        " 585\n",
        "skipped  9\n",
        "589768387\n",
        "original article tmp file "
       ]
      },
      {
       "output_type": "stream",
       "stream": "stdout",
       "text": [
        " /tmp/tmp80kzvT.html\n",
        "/tmp/tmpbfhA0U.html\n",
        "/tmp/tmp80kzvT.html\n",
        "/tmp/tmp80kzvT.html\n",
        "Now open file:///tmp/tmpbfhA0U.html in your web browser\n"
       ]
      },
      {
       "output_type": "stream",
       "stream": "stdout",
       "text": [
        "\n",
        "processed "
       ]
      },
      {
       "output_type": "stream",
       "stream": "stdout",
       "text": [
        " 586\n",
        "skipped  9\n",
        "589786104\n",
        "original article tmp file "
       ]
      },
      {
       "output_type": "stream",
       "stream": "stdout",
       "text": [
        " /tmp/tmpc6LF21.html\n",
        "/tmp/tmpG4Mfug.html\n",
        "/tmp/tmpc6LF21.html\n",
        "/tmp/tmpc6LF21.html\n",
        "Now open file:///tmp/tmpG4Mfug.html in your web browser\n"
       ]
      },
      {
       "output_type": "stream",
       "stream": "stdout",
       "text": [
        "\n",
        "processed "
       ]
      },
      {
       "output_type": "stream",
       "stream": "stdout",
       "text": [
        " 587\n",
        "skipped  9\n",
        "589786154\n",
        "original article tmp file "
       ]
      },
      {
       "output_type": "stream",
       "stream": "stdout",
       "text": [
        " /tmp/tmpT2RU7p.html\n",
        "/tmp/tmpXFXRQM.html\n",
        "/tmp/tmpT2RU7p.html\n",
        "/tmp/tmpT2RU7p.html\n",
        "Now open file:///tmp/tmpXFXRQM.html in your web browser\n"
       ]
      },
      {
       "output_type": "stream",
       "stream": "stdout",
       "text": [
        "\n",
        "processed "
       ]
      },
      {
       "output_type": "stream",
       "stream": "stdout",
       "text": [
        " 588\n",
        "skipped  9\n",
        "589786414\n",
        "original article tmp file "
       ]
      },
      {
       "output_type": "stream",
       "stream": "stdout",
       "text": [
        " /tmp/tmpLODLli.html\n",
        "/tmp/tmpJoyOe2.html\n",
        "/tmp/tmpLODLli.html\n",
        "/tmp/tmpLODLli.html\n",
        "Now open file:///tmp/tmpJoyOe2.html in your web browser\n"
       ]
      },
      {
       "output_type": "stream",
       "stream": "stdout",
       "text": [
        "\n",
        "processed "
       ]
      },
      {
       "output_type": "stream",
       "stream": "stdout",
       "text": [
        " 589\n",
        "skipped  9\n",
        "589862512\n",
        "original article tmp file "
       ]
      },
      {
       "output_type": "stream",
       "stream": "stdout",
       "text": [
        " /tmp/tmpJ6w98q.html\n",
        "/tmp/tmpXJDjvK.html\n",
        "/tmp/tmpJ6w98q.html\n",
        "/tmp/tmpJ6w98q.html\n",
        "Now open file:///tmp/tmpXJDjvK.html in your web browser\n"
       ]
      },
      {
       "output_type": "stream",
       "stream": "stdout",
       "text": [
        "\n",
        "processed "
       ]
      },
      {
       "output_type": "stream",
       "stream": "stdout",
       "text": [
        " 590\n",
        "skipped  9\n",
        "589862834\n",
        "original article tmp file "
       ]
      },
      {
       "output_type": "stream",
       "stream": "stdout",
       "text": [
        " /tmp/tmpiz9a8S.html\n",
        "/tmp/tmpTIY38Q.html\n",
        "/tmp/tmpiz9a8S.html\n",
        "/tmp/tmpiz9a8S.html\n",
        "Now open file:///tmp/tmpTIY38Q.html in your web browser\n"
       ]
      },
      {
       "output_type": "stream",
       "stream": "stdout",
       "text": [
        "\n",
        "processed "
       ]
      },
      {
       "output_type": "stream",
       "stream": "stdout",
       "text": [
        " 591\n",
        "skipped  9\n",
        "589862835\n",
        "original article tmp file "
       ]
      },
      {
       "output_type": "stream",
       "stream": "stdout",
       "text": [
        " /tmp/tmpBxXvXN.html\n",
        "/tmp/tmpuRfp9l.html\n",
        "/tmp/tmpBxXvXN.html\n",
        "/tmp/tmpBxXvXN.html\n",
        "Now open file:///tmp/tmpuRfp9l.html in your web browser\n"
       ]
      },
      {
       "output_type": "stream",
       "stream": "stdout",
       "text": [
        "\n",
        "processed "
       ]
      },
      {
       "output_type": "stream",
       "stream": "stdout",
       "text": [
        " 592\n",
        "skipped  9\n",
        "589867651\n",
        "original article tmp file "
       ]
      },
      {
       "output_type": "stream",
       "stream": "stdout",
       "text": [
        " /tmp/tmpCg9aiA.html\n",
        "/tmp/tmpkQhfmd.html\n",
        "/tmp/tmpCg9aiA.html\n",
        "/tmp/tmpCg9aiA.html\n",
        "Now open file:///tmp/tmpkQhfmd.html in your web browser\n"
       ]
      },
      {
       "output_type": "stream",
       "stream": "stdout",
       "text": [
        "\n",
        "processed "
       ]
      },
      {
       "output_type": "stream",
       "stream": "stdout",
       "text": [
        " 593\n",
        "skipped  9\n",
        "589877044\n",
        "error on download589877044"
       ]
      },
      {
       "output_type": "stream",
       "stream": "stdout",
       "text": [
        "\n",
        "processed  593\n",
        "skipped  10\n",
        "589878988\n",
        "original article tmp file "
       ]
      },
      {
       "output_type": "stream",
       "stream": "stdout",
       "text": [
        " /tmp/tmpv_WaQQ.html\n",
        "/tmp/tmpzbE3jM.html\n",
        "/tmp/tmpv_WaQQ.html\n",
        "/tmp/tmpv_WaQQ.html\n",
        "Now open file:///tmp/tmpzbE3jM.html in your web browser\n"
       ]
      },
      {
       "output_type": "stream",
       "stream": "stdout",
       "text": [
        "\n",
        "processed "
       ]
      },
      {
       "output_type": "stream",
       "stream": "stdout",
       "text": [
        " 594\n",
        "skipped  10\n",
        "589902239\n",
        "original article tmp file "
       ]
      },
      {
       "output_type": "stream",
       "stream": "stdout",
       "text": [
        " /tmp/tmpYGDcTp.html\n",
        "/tmp/tmpPmUWwN.html\n",
        "/tmp/tmpYGDcTp.html\n",
        "/tmp/tmpYGDcTp.html\n",
        "Now open file:///tmp/tmpPmUWwN.html in your web browser\n"
       ]
      },
      {
       "output_type": "stream",
       "stream": "stdout",
       "text": [
        "\n",
        "processed "
       ]
      },
      {
       "output_type": "stream",
       "stream": "stdout",
       "text": [
        " 595\n",
        "skipped  10\n",
        "589902589\n",
        "original article tmp file "
       ]
      },
      {
       "output_type": "stream",
       "stream": "stdout",
       "text": [
        " /tmp/tmpgd6Qmw.html\n",
        "/tmp/tmpwfbf5Z.html\n",
        "/tmp/tmpgd6Qmw.html\n",
        "/tmp/tmpgd6Qmw.html\n",
        "Now open file:///tmp/tmpwfbf5Z.html in your web browser\n"
       ]
      },
      {
       "output_type": "stream",
       "stream": "stdout",
       "text": [
        "\n",
        "processed "
       ]
      },
      {
       "output_type": "stream",
       "stream": "stdout",
       "text": [
        " 596\n",
        "skipped  10\n",
        "589903803\n",
        "original article tmp file "
       ]
      },
      {
       "output_type": "stream",
       "stream": "stdout",
       "text": [
        " /tmp/tmpA_rfh1.html\n",
        "/tmp/tmpbQRIX8.html\n",
        "/tmp/tmpA_rfh1.html\n",
        "/tmp/tmpA_rfh1.html\n",
        "Now open file:///tmp/tmpbQRIX8.html in your web browser\n"
       ]
      },
      {
       "output_type": "stream",
       "stream": "stdout",
       "text": [
        "\n",
        "processed "
       ]
      },
      {
       "output_type": "stream",
       "stream": "stdout",
       "text": [
        " 597\n",
        "skipped  10\n",
        "589912699\n",
        "original article tmp file "
       ]
      },
      {
       "output_type": "stream",
       "stream": "stdout",
       "text": [
        " /tmp/tmpTQSLMt.html\n",
        "/tmp/tmp_qK956.html\n",
        "/tmp/tmpTQSLMt.html\n",
        "/tmp/tmpTQSLMt.html\n",
        "Now open file:///tmp/tmp_qK956.html in your web browser\n"
       ]
      },
      {
       "output_type": "stream",
       "stream": "stdout",
       "text": [
        "\n",
        "processed "
       ]
      },
      {
       "output_type": "stream",
       "stream": "stdout",
       "text": [
        " 598\n",
        "skipped  10\n",
        "589925438\n",
        "original article tmp file "
       ]
      },
      {
       "output_type": "stream",
       "stream": "stdout",
       "text": [
        " /tmp/tmpzJCxRB.html\n",
        "/tmp/tmpq9tvXK.html\n",
        "/tmp/tmpzJCxRB.html\n",
        "/tmp/tmpzJCxRB.html\n",
        "Now open file:///tmp/tmpq9tvXK.html in your web browser\n"
       ]
      },
      {
       "output_type": "stream",
       "stream": "stdout",
       "text": [
        "\n",
        "processed "
       ]
      },
      {
       "output_type": "stream",
       "stream": "stdout",
       "text": [
        " 599\n",
        "skipped  10\n",
        "589929254\n",
        "original article tmp file "
       ]
      },
      {
       "output_type": "stream",
       "stream": "stdout",
       "text": [
        " /tmp/tmplho6pB.html\n",
        "/tmp/tmpCTKXIx.html\n",
        "/tmp/tmplho6pB.html\n",
        "/tmp/tmplho6pB.html\n",
        "Now open file:///tmp/tmpCTKXIx.html in your web browser\n"
       ]
      },
      {
       "output_type": "stream",
       "stream": "stdout",
       "text": [
        "\n",
        "processed "
       ]
      },
      {
       "output_type": "stream",
       "stream": "stdout",
       "text": [
        " 600\n",
        "skipped  10\n",
        "589929573\n",
        "original article tmp file "
       ]
      },
      {
       "output_type": "stream",
       "stream": "stdout",
       "text": [
        " /tmp/tmpBjC6kv.html\n",
        "/tmp/tmp_yoA20.html\n",
        "/tmp/tmpBjC6kv.html\n",
        "/tmp/tmpBjC6kv.html\n",
        "Now open file:///tmp/tmp_yoA20.html in your web browser\n"
       ]
      },
      {
       "output_type": "stream",
       "stream": "stdout",
       "text": [
        "\n",
        "processed "
       ]
      },
      {
       "output_type": "stream",
       "stream": "stdout",
       "text": [
        " 601\n",
        "skipped  10\n",
        "589934787\n",
        "original article tmp file "
       ]
      },
      {
       "output_type": "stream",
       "stream": "stdout",
       "text": [
        " /tmp/tmpCzjhtk.html\n",
        "/tmp/tmpNhq_JP.html\n",
        "/tmp/tmpCzjhtk.html\n",
        "/tmp/tmpCzjhtk.html\n",
        "Now open file:///tmp/tmpNhq_JP.html in your web browser\n"
       ]
      },
      {
       "output_type": "stream",
       "stream": "stdout",
       "text": [
        "\n",
        "processed "
       ]
      },
      {
       "output_type": "stream",
       "stream": "stdout",
       "text": [
        " 602\n",
        "skipped  10\n",
        "589938190\n",
        "original article tmp file "
       ]
      },
      {
       "output_type": "stream",
       "stream": "stdout",
       "text": [
        " /tmp/tmpHWInVv.html\n",
        "/tmp/tmpYmEYGY.html\n",
        "/tmp/tmpHWInVv.html\n",
        "/tmp/tmpHWInVv.html\n",
        "Now open file:///tmp/tmpYmEYGY.html in your web browser\n"
       ]
      },
      {
       "output_type": "stream",
       "stream": "stdout",
       "text": [
        "\n",
        "processed "
       ]
      },
      {
       "output_type": "stream",
       "stream": "stdout",
       "text": [
        " 603\n",
        "skipped  10\n",
        "589945649\n",
        "original article tmp file "
       ]
      },
      {
       "output_type": "stream",
       "stream": "stdout",
       "text": [
        " /tmp/tmp5Uwwll.html\n",
        "/tmp/tmp6H8dot.html\n",
        "/tmp/tmp5Uwwll.html\n",
        "/tmp/tmp5Uwwll.html\n",
        "Now open file:///tmp/tmp6H8dot.html in your web browser\n"
       ]
      },
      {
       "output_type": "stream",
       "stream": "stdout",
       "text": [
        "\n",
        "processed "
       ]
      },
      {
       "output_type": "stream",
       "stream": "stdout",
       "text": [
        " 604\n",
        "skipped  10\n",
        "589946203\n",
        "original article tmp file "
       ]
      },
      {
       "output_type": "stream",
       "stream": "stdout",
       "text": [
        " /tmp/tmp3FUjlA.html\n",
        "/tmp/tmpKcEIj_.html\n",
        "/tmp/tmp3FUjlA.html\n",
        "/tmp/tmp3FUjlA.html\n",
        "Now open file:///tmp/tmpKcEIj_.html in your web browser\n"
       ]
      },
      {
       "output_type": "stream",
       "stream": "stdout",
       "text": [
        "\n",
        "processed "
       ]
      },
      {
       "output_type": "stream",
       "stream": "stdout",
       "text": [
        " 605\n",
        "skipped  10\n",
        "589956136\n",
        "original article tmp file "
       ]
      },
      {
       "output_type": "stream",
       "stream": "stdout",
       "text": [
        " /tmp/tmpeOY1oS.html\n",
        "/tmp/tmpuOVr29.html\n",
        "/tmp/tmpeOY1oS.html\n",
        "/tmp/tmpeOY1oS.html\n",
        "Now open file:///tmp/tmpuOVr29.html in your web browser\n"
       ]
      },
      {
       "output_type": "stream",
       "stream": "stdout",
       "text": [
        "\n",
        "processed "
       ]
      },
      {
       "output_type": "stream",
       "stream": "stdout",
       "text": [
        " 606\n",
        "skipped  10\n",
        "589985214\n",
        "original article tmp file "
       ]
      },
      {
       "output_type": "stream",
       "stream": "stdout",
       "text": [
        " /tmp/tmp79wvPl.html\n",
        "/tmp/tmpb74lQ2.html\n",
        "/tmp/tmp79wvPl.html\n",
        "/tmp/tmp79wvPl.html\n",
        "Now open file:///tmp/tmpb74lQ2.html in your web browser\n"
       ]
      },
      {
       "output_type": "stream",
       "stream": "stdout",
       "text": [
        "\n",
        "processed "
       ]
      },
      {
       "output_type": "stream",
       "stream": "stdout",
       "text": [
        " 607\n",
        "skipped  10\n",
        "589992578\n",
        "original article tmp file "
       ]
      },
      {
       "output_type": "stream",
       "stream": "stdout",
       "text": [
        " /tmp/tmpcG40h2.html\n",
        "/tmp/tmph4HcbM.html\n",
        "/tmp/tmpcG40h2.html\n",
        "/tmp/tmpcG40h2.html\n",
        "Now open file:///tmp/tmph4HcbM.html in your web browser\n"
       ]
      },
      {
       "output_type": "stream",
       "stream": "stdout",
       "text": [
        "\n",
        "processed "
       ]
      },
      {
       "output_type": "stream",
       "stream": "stdout",
       "text": [
        " 608\n",
        "skipped  10\n",
        "589992873\n",
        "original article tmp file "
       ]
      },
      {
       "output_type": "stream",
       "stream": "stdout",
       "text": [
        " /tmp/tmpeaqhKk.html\n",
        "/tmp/tmp1GMKej.html\n",
        "/tmp/tmpeaqhKk.html\n",
        "/tmp/tmpeaqhKk.html\n",
        "Now open file:///tmp/tmp1GMKej.html in your web browser\n"
       ]
      },
      {
       "output_type": "stream",
       "stream": "stdout",
       "text": [
        "\n",
        "processed "
       ]
      },
      {
       "output_type": "stream",
       "stream": "stdout",
       "text": [
        " 609\n",
        "skipped  10\n",
        "590003031\n",
        "original article tmp file "
       ]
      },
      {
       "output_type": "stream",
       "stream": "stdout",
       "text": [
        " /tmp/tmp28UbDA.html\n",
        "/tmp/tmpn6ayFb.html\n",
        "/tmp/tmp28UbDA.html\n",
        "/tmp/tmp28UbDA.html\n",
        "Now open file:///tmp/tmpn6ayFb.html in your web browser\n"
       ]
      },
      {
       "output_type": "stream",
       "stream": "stdout",
       "text": [
        "\n",
        "processed "
       ]
      },
      {
       "output_type": "stream",
       "stream": "stdout",
       "text": [
        " 610\n",
        "skipped  10\n",
        "590003045\n",
        "original article tmp file "
       ]
      },
      {
       "output_type": "stream",
       "stream": "stdout",
       "text": [
        " /tmp/tmp7viovn.html\n",
        "/tmp/tmp8B8v35.html\n",
        "/tmp/tmp7viovn.html\n",
        "/tmp/tmp7viovn.html\n",
        "Now open file:///tmp/tmp8B8v35.html in your web browser\n"
       ]
      },
      {
       "output_type": "stream",
       "stream": "stdout",
       "text": [
        "\n",
        "processed "
       ]
      },
      {
       "output_type": "stream",
       "stream": "stdout",
       "text": [
        " 611\n",
        "skipped  10\n",
        "590033845\n",
        "original article tmp file "
       ]
      },
      {
       "output_type": "stream",
       "stream": "stdout",
       "text": [
        " /tmp/tmpR3n14c.html\n",
        "/tmp/tmpWCge8K.html\n",
        "/tmp/tmpR3n14c.html\n",
        "/tmp/tmpR3n14c.html\n",
        "Now open file:///tmp/tmpWCge8K.html in your web browser\n"
       ]
      },
      {
       "output_type": "stream",
       "stream": "stdout",
       "text": [
        "\n",
        "processed "
       ]
      },
      {
       "output_type": "stream",
       "stream": "stdout",
       "text": [
        " 612\n",
        "skipped  10\n",
        "590033849\n",
        "original article tmp file "
       ]
      },
      {
       "output_type": "stream",
       "stream": "stdout",
       "text": [
        " /tmp/tmpuNs_PF.html\n",
        "/tmp/tmpboiI0D.html\n",
        "/tmp/tmpuNs_PF.html\n",
        "/tmp/tmpuNs_PF.html\n",
        "Now open file:///tmp/tmpboiI0D.html in your web browser\n"
       ]
      },
      {
       "output_type": "stream",
       "stream": "stdout",
       "text": [
        "\n",
        "processed "
       ]
      },
      {
       "output_type": "stream",
       "stream": "stdout",
       "text": [
        " 613\n",
        "skipped  10\n",
        "590033852\n",
        "original article tmp file "
       ]
      },
      {
       "output_type": "stream",
       "stream": "stdout",
       "text": [
        " /tmp/tmpZ5_uL7.html\n",
        "/tmp/tmpp7Ve_r.html\n",
        "/tmp/tmpZ5_uL7.html\n",
        "/tmp/tmpZ5_uL7.html\n",
        "Now open file:///tmp/tmpp7Ve_r.html in your web browser\n"
       ]
      },
      {
       "output_type": "stream",
       "stream": "stdout",
       "text": [
        "\n",
        "processed "
       ]
      },
      {
       "output_type": "stream",
       "stream": "stdout",
       "text": [
        " 614\n",
        "skipped  10\n",
        "590057803\n",
        "original article tmp file "
       ]
      },
      {
       "output_type": "stream",
       "stream": "stdout",
       "text": [
        " /tmp/tmpkWTSW7.html\n",
        "/tmp/tmp1hbYMZ.html\n",
        "/tmp/tmpkWTSW7.html\n",
        "/tmp/tmpkWTSW7.html\n",
        "Now open file:///tmp/tmp1hbYMZ.html in your web browser\n"
       ]
      },
      {
       "output_type": "stream",
       "stream": "stdout",
       "text": [
        "\n",
        "processed "
       ]
      },
      {
       "output_type": "stream",
       "stream": "stdout",
       "text": [
        " 615\n",
        "skipped  10\n",
        "590237580\n",
        "original article tmp file "
       ]
      },
      {
       "output_type": "stream",
       "stream": "stdout",
       "text": [
        " /tmp/tmpLDOqkT.html\n",
        "/tmp/tmpwUdlvD.html\n",
        "/tmp/tmpLDOqkT.html\n",
        "/tmp/tmpLDOqkT.html\n",
        "Now open file:///tmp/tmpwUdlvD.html in your web browser\n"
       ]
      },
      {
       "output_type": "stream",
       "stream": "stdout",
       "text": [
        "\n",
        "processed "
       ]
      },
      {
       "output_type": "stream",
       "stream": "stdout",
       "text": [
        " 616\n",
        "skipped  10\n",
        "590249522\n",
        "original article tmp file "
       ]
      },
      {
       "output_type": "stream",
       "stream": "stdout",
       "text": [
        " /tmp/tmppN8O4U.html\n",
        "/tmp/tmpQeqN2a.html\n",
        "/tmp/tmppN8O4U.html\n",
        "/tmp/tmppN8O4U.html\n",
        "Now open file:///tmp/tmpQeqN2a.html in your web browser\n"
       ]
      },
      {
       "output_type": "stream",
       "stream": "stdout",
       "text": [
        "\n",
        "processed "
       ]
      },
      {
       "output_type": "stream",
       "stream": "stdout",
       "text": [
        " 617\n",
        "skipped  10\n",
        "590264671\n",
        "original article tmp file "
       ]
      },
      {
       "output_type": "stream",
       "stream": "stdout",
       "text": [
        " /tmp/tmpD_ezVA.html\n",
        "/tmp/tmpwOubdk.html\n",
        "/tmp/tmpD_ezVA.html\n",
        "/tmp/tmpD_ezVA.html\n",
        "Now open file:///tmp/tmpwOubdk.html in your web browser\n"
       ]
      },
      {
       "output_type": "stream",
       "stream": "stdout",
       "text": [
        "\n",
        "processed "
       ]
      },
      {
       "output_type": "stream",
       "stream": "stdout",
       "text": [
        " 618\n",
        "skipped  10\n",
        "590293497\n",
        "original article tmp file "
       ]
      },
      {
       "output_type": "stream",
       "stream": "stdout",
       "text": [
        " /tmp/tmplovN2Y.html\n",
        "/tmp/tmpX5T1Ro.html\n",
        "/tmp/tmplovN2Y.html\n",
        "/tmp/tmplovN2Y.html\n",
        "Now open file:///tmp/tmpX5T1Ro.html in your web browser\n"
       ]
      },
      {
       "output_type": "stream",
       "stream": "stdout",
       "text": [
        "\n",
        "processed "
       ]
      },
      {
       "output_type": "stream",
       "stream": "stdout",
       "text": [
        " 619\n",
        "skipped  10\n",
        "590323886\n",
        "original article tmp file "
       ]
      },
      {
       "output_type": "stream",
       "stream": "stdout",
       "text": [
        " /tmp/tmp2_bR43.html\n",
        "/tmp/tmpLL8uYU.html\n",
        "/tmp/tmp2_bR43.html\n",
        "/tmp/tmp2_bR43.html\n",
        "Now open file:///tmp/tmpLL8uYU.html in your web browser\n"
       ]
      },
      {
       "output_type": "stream",
       "stream": "stdout",
       "text": [
        "\n",
        "processed "
       ]
      },
      {
       "output_type": "stream",
       "stream": "stdout",
       "text": [
        " 620\n",
        "skipped  10\n",
        "590323913\n",
        "original article tmp file "
       ]
      },
      {
       "output_type": "stream",
       "stream": "stdout",
       "text": [
        " /tmp/tmp5nA28K.html\n",
        "/tmp/tmpkI1rof.html\n",
        "/tmp/tmp5nA28K.html\n",
        "/tmp/tmp5nA28K.html\n",
        "Now open file:///tmp/tmpkI1rof.html in your web browser\n"
       ]
      },
      {
       "output_type": "stream",
       "stream": "stdout",
       "text": [
        "\n",
        "processed "
       ]
      },
      {
       "output_type": "stream",
       "stream": "stdout",
       "text": [
        " 621\n",
        "skipped  10\n",
        "590324177\n",
        "original article tmp file "
       ]
      },
      {
       "output_type": "stream",
       "stream": "stdout",
       "text": [
        " /tmp/tmpOriqBI.html\n",
        "/tmp/tmpYFvaZU.html\n",
        "/tmp/tmpOriqBI.html\n",
        "/tmp/tmpOriqBI.html\n",
        "Now open file:///tmp/tmpYFvaZU.html in your web browser\n"
       ]
      },
      {
       "output_type": "stream",
       "stream": "stdout",
       "text": [
        "\n",
        "processed "
       ]
      },
      {
       "output_type": "stream",
       "stream": "stdout",
       "text": [
        " 622\n",
        "skipped  10\n",
        "590338530\n",
        "original article tmp file "
       ]
      },
      {
       "output_type": "stream",
       "stream": "stdout",
       "text": [
        " /tmp/tmpfIle96.html\n",
        "/tmp/tmpghNLZr.html\n",
        "/tmp/tmpfIle96.html\n",
        "/tmp/tmpfIle96.html\n",
        "Now open file:///tmp/tmpghNLZr.html in your web browser\n"
       ]
      },
      {
       "output_type": "stream",
       "stream": "stdout",
       "text": [
        "\n",
        "processed "
       ]
      },
      {
       "output_type": "stream",
       "stream": "stdout",
       "text": [
        " 623\n",
        "skipped  10\n",
        "590339267\n",
        "original article tmp file "
       ]
      },
      {
       "output_type": "stream",
       "stream": "stdout",
       "text": [
        " /tmp/tmpCKWKN7.html\n",
        "/tmp/tmpCxa998.html\n",
        "/tmp/tmpCKWKN7.html\n",
        "/tmp/tmpCKWKN7.html\n",
        "Now open file:///tmp/tmpCxa998.html in your web browser\n"
       ]
      },
      {
       "output_type": "stream",
       "stream": "stdout",
       "text": [
        "\n",
        "processed "
       ]
      },
      {
       "output_type": "stream",
       "stream": "stdout",
       "text": [
        " 624\n",
        "skipped  10\n",
        "590340446\n",
        "original article tmp file "
       ]
      },
      {
       "output_type": "stream",
       "stream": "stdout",
       "text": [
        " /tmp/tmpykRXrU.html\n",
        "/tmp/tmppuaJBr.html\n",
        "/tmp/tmpykRXrU.html\n",
        "/tmp/tmpykRXrU.html\n",
        "Now open file:///tmp/tmppuaJBr.html in your web browser\n"
       ]
      },
      {
       "output_type": "stream",
       "stream": "stdout",
       "text": [
        "\n",
        "processed "
       ]
      },
      {
       "output_type": "stream",
       "stream": "stdout",
       "text": [
        " 625\n",
        "skipped  10\n",
        "590351087\n",
        "original article tmp file "
       ]
      },
      {
       "output_type": "stream",
       "stream": "stdout",
       "text": [
        " /tmp/tmpQLXknp.html\n",
        "/tmp/tmpt3G4r5.html\n",
        "/tmp/tmpQLXknp.html\n",
        "/tmp/tmpQLXknp.html\n",
        "Now open file:///tmp/tmpt3G4r5.html in your web browser\n"
       ]
      },
      {
       "output_type": "stream",
       "stream": "stdout",
       "text": [
        "\n",
        "processed "
       ]
      },
      {
       "output_type": "stream",
       "stream": "stdout",
       "text": [
        " 626\n",
        "skipped  10\n",
        "590353661\n",
        "original article tmp file "
       ]
      },
      {
       "output_type": "stream",
       "stream": "stdout",
       "text": [
        " /tmp/tmpg93zvu.html\n",
        "/tmp/tmpOcCBuA.html\n",
        "/tmp/tmpg93zvu.html\n",
        "/tmp/tmpg93zvu.html\n",
        "Now open file:///tmp/tmpOcCBuA.html in your web browser\n"
       ]
      },
      {
       "output_type": "stream",
       "stream": "stdout",
       "text": [
        "\n",
        "processed "
       ]
      },
      {
       "output_type": "stream",
       "stream": "stdout",
       "text": [
        " 627\n",
        "skipped  10\n",
        "590356585\n",
        "original article tmp file "
       ]
      },
      {
       "output_type": "stream",
       "stream": "stdout",
       "text": [
        " /tmp/tmp7symJx.html\n",
        "/tmp/tmpN3onsz.html\n",
        "/tmp/tmp7symJx.html\n",
        "/tmp/tmp7symJx.html\n",
        "Now open file:///tmp/tmpN3onsz.html in your web browser\n"
       ]
      },
      {
       "output_type": "stream",
       "stream": "stdout",
       "text": [
        "\n",
        "processed "
       ]
      },
      {
       "output_type": "stream",
       "stream": "stdout",
       "text": [
        " 628\n",
        "skipped  10\n",
        "590356597\n",
        "original article tmp file "
       ]
      },
      {
       "output_type": "stream",
       "stream": "stdout",
       "text": [
        " /tmp/tmpdUMJaD.html\n",
        "/tmp/tmpQ8fpQg.html\n",
        "/tmp/tmpdUMJaD.html\n",
        "/tmp/tmpdUMJaD.html\n",
        "Now open file:///tmp/tmpQ8fpQg.html in your web browser\n"
       ]
      },
      {
       "output_type": "stream",
       "stream": "stdout",
       "text": [
        "\n",
        "processed "
       ]
      },
      {
       "output_type": "stream",
       "stream": "stdout",
       "text": [
        " 629\n",
        "skipped  10\n",
        "590386215\n",
        "original article tmp file "
       ]
      },
      {
       "output_type": "stream",
       "stream": "stdout",
       "text": [
        " /tmp/tmpjDuCA8.html\n",
        "/tmp/tmp7E5jg6.html\n",
        "/tmp/tmpjDuCA8.html\n",
        "/tmp/tmpjDuCA8.html\n",
        "Now open file:///tmp/tmp7E5jg6.html in your web browser\n"
       ]
      },
      {
       "output_type": "stream",
       "stream": "stdout",
       "text": [
        "\n",
        "processed "
       ]
      },
      {
       "output_type": "stream",
       "stream": "stdout",
       "text": [
        " 630\n",
        "skipped  10\n",
        "590386218\n",
        "original article tmp file "
       ]
      },
      {
       "output_type": "stream",
       "stream": "stdout",
       "text": [
        " /tmp/tmpFGSTvW.html\n",
        "/tmp/tmpxKuIa1.html\n",
        "/tmp/tmpFGSTvW.html\n",
        "/tmp/tmpFGSTvW.html\n",
        "Now open file:///tmp/tmpxKuIa1.html in your web browser\n"
       ]
      },
      {
       "output_type": "stream",
       "stream": "stdout",
       "text": [
        "\n",
        "processed "
       ]
      },
      {
       "output_type": "stream",
       "stream": "stdout",
       "text": [
        " 631\n",
        "skipped  10\n",
        "590386225\n",
        "original article tmp file "
       ]
      },
      {
       "output_type": "stream",
       "stream": "stdout",
       "text": [
        " /tmp/tmp95Ga5x.html\n",
        "/tmp/tmpYvuvZT.html\n",
        "/tmp/tmp95Ga5x.html\n",
        "/tmp/tmp95Ga5x.html\n",
        "Now open file:///tmp/tmpYvuvZT.html in your web browser\n"
       ]
      },
      {
       "output_type": "stream",
       "stream": "stdout",
       "text": [
        "\n",
        "processed "
       ]
      },
      {
       "output_type": "stream",
       "stream": "stdout",
       "text": [
        " 632\n",
        "skipped  10\n",
        "590397660\n",
        "original article tmp file "
       ]
      },
      {
       "output_type": "stream",
       "stream": "stdout",
       "text": [
        " /tmp/tmpzih99i.html\n",
        "/tmp/tmpS_zUeh.html\n",
        "/tmp/tmpzih99i.html\n",
        "/tmp/tmpzih99i.html\n",
        "Now open file:///tmp/tmpS_zUeh.html in your web browser\n"
       ]
      },
      {
       "output_type": "stream",
       "stream": "stdout",
       "text": [
        "\n",
        "processed "
       ]
      },
      {
       "output_type": "stream",
       "stream": "stdout",
       "text": [
        " 633\n",
        "skipped  10\n",
        "590398422\n",
        "original article tmp file "
       ]
      },
      {
       "output_type": "stream",
       "stream": "stdout",
       "text": [
        " /tmp/tmpnu4K45.html\n",
        "/tmp/tmpNeG5RJ.html\n",
        "/tmp/tmpnu4K45.html\n",
        "/tmp/tmpnu4K45.html\n",
        "Now open file:///tmp/tmpNeG5RJ.html in your web browser\n"
       ]
      },
      {
       "output_type": "stream",
       "stream": "stdout",
       "text": [
        "\n",
        "processed "
       ]
      },
      {
       "output_type": "stream",
       "stream": "stdout",
       "text": [
        " 634\n",
        "skipped  10\n",
        "590399931\n",
        "original article tmp file "
       ]
      },
      {
       "output_type": "stream",
       "stream": "stdout",
       "text": [
        " /tmp/tmpMEq8aT.html\n",
        "/tmp/tmpvbNIWo.html\n",
        "/tmp/tmpMEq8aT.html\n",
        "/tmp/tmpMEq8aT.html\n",
        "Now open file:///tmp/tmpvbNIWo.html in your web browser\n"
       ]
      },
      {
       "output_type": "stream",
       "stream": "stdout",
       "text": [
        "\n",
        "processed "
       ]
      },
      {
       "output_type": "stream",
       "stream": "stdout",
       "text": [
        " 635\n",
        "skipped  10\n",
        "590411501\n",
        "original article tmp file "
       ]
      },
      {
       "output_type": "stream",
       "stream": "stdout",
       "text": [
        " /tmp/tmphHqiOr.html\n",
        "/tmp/tmpqoRQSh.html\n",
        "/tmp/tmphHqiOr.html\n",
        "/tmp/tmphHqiOr.html\n",
        "Now open file:///tmp/tmpqoRQSh.html in your web browser\n"
       ]
      },
      {
       "output_type": "stream",
       "stream": "stdout",
       "text": [
        "\n",
        "processed "
       ]
      },
      {
       "output_type": "stream",
       "stream": "stdout",
       "text": [
        " 636\n",
        "skipped  10\n",
        "590424369\n",
        "original article tmp file "
       ]
      },
      {
       "output_type": "stream",
       "stream": "stdout",
       "text": [
        " /tmp/tmpxXmaYg.html\n",
        "/tmp/tmpw64I1P.html\n",
        "/tmp/tmpxXmaYg.html\n",
        "/tmp/tmpxXmaYg.html\n",
        "Now open file:///tmp/tmpw64I1P.html in your web browser\n"
       ]
      },
      {
       "output_type": "stream",
       "stream": "stdout",
       "text": [
        "\n",
        "processed "
       ]
      },
      {
       "output_type": "stream",
       "stream": "stdout",
       "text": [
        " 637\n",
        "skipped  10\n",
        "590425749\n",
        "original article tmp file "
       ]
      },
      {
       "output_type": "stream",
       "stream": "stdout",
       "text": [
        " /tmp/tmpN8iYex.html\n",
        "/tmp/tmpl1tY4u.html\n",
        "/tmp/tmpN8iYex.html\n",
        "/tmp/tmpN8iYex.html\n",
        "Now open file:///tmp/tmpl1tY4u.html in your web browser\n"
       ]
      },
      {
       "output_type": "stream",
       "stream": "stdout",
       "text": [
        "\n",
        "processed "
       ]
      },
      {
       "output_type": "stream",
       "stream": "stdout",
       "text": [
        " 638\n",
        "skipped  10\n",
        "590425776\n",
        "original article tmp file "
       ]
      },
      {
       "output_type": "stream",
       "stream": "stdout",
       "text": [
        " /tmp/tmpmpxc6f.html\n",
        "/tmp/tmpiWYhij.html\n",
        "/tmp/tmpmpxc6f.html\n",
        "/tmp/tmpmpxc6f.html\n",
        "Now open file:///tmp/tmpiWYhij.html in your web browser\n"
       ]
      },
      {
       "output_type": "stream",
       "stream": "stdout",
       "text": [
        "\n",
        "processed "
       ]
      },
      {
       "output_type": "stream",
       "stream": "stdout",
       "text": [
        " 639\n",
        "skipped  10\n",
        "590425824\n",
        "original article tmp file "
       ]
      },
      {
       "output_type": "stream",
       "stream": "stdout",
       "text": [
        " /tmp/tmpEjdUEl.html\n",
        "/tmp/tmp3EVuyQ.html\n",
        "/tmp/tmpEjdUEl.html\n",
        "/tmp/tmpEjdUEl.html\n",
        "Now open file:///tmp/tmp3EVuyQ.html in your web browser\n"
       ]
      },
      {
       "output_type": "stream",
       "stream": "stdout",
       "text": [
        "\n",
        "processed "
       ]
      },
      {
       "output_type": "stream",
       "stream": "stdout",
       "text": [
        " 640\n",
        "skipped  10\n",
        "590437581\n",
        "original article tmp file "
       ]
      },
      {
       "output_type": "stream",
       "stream": "stdout",
       "text": [
        " /tmp/tmpyMaKaa.html\n",
        "/tmp/tmp0pqlwD.html\n",
        "/tmp/tmpyMaKaa.html\n",
        "/tmp/tmpyMaKaa.html\n",
        "Now open file:///tmp/tmp0pqlwD.html in your web browser\n"
       ]
      },
      {
       "output_type": "stream",
       "stream": "stdout",
       "text": [
        "\n",
        "processed "
       ]
      },
      {
       "output_type": "stream",
       "stream": "stdout",
       "text": [
        " 641\n",
        "skipped  10\n",
        "590441661\n",
        "original article tmp file "
       ]
      },
      {
       "output_type": "stream",
       "stream": "stdout",
       "text": [
        " /tmp/tmp9YctvL.html\n",
        "/tmp/tmp_kp8YG.html\n",
        "/tmp/tmp9YctvL.html\n",
        "/tmp/tmp9YctvL.html\n",
        "Now open file:///tmp/tmp_kp8YG.html in your web browser\n"
       ]
      },
      {
       "output_type": "stream",
       "stream": "stdout",
       "text": [
        "\n",
        "processed "
       ]
      },
      {
       "output_type": "stream",
       "stream": "stdout",
       "text": [
        " 642\n",
        "skipped  10\n",
        "590441662\n",
        "original article tmp file "
       ]
      },
      {
       "output_type": "stream",
       "stream": "stdout",
       "text": [
        " /tmp/tmpgEmuyX.html\n",
        "/tmp/tmpk5RDxR.html\n",
        "/tmp/tmpgEmuyX.html\n",
        "/tmp/tmpgEmuyX.html\n",
        "Now open file:///tmp/tmpk5RDxR.html in your web browser\n"
       ]
      },
      {
       "output_type": "stream",
       "stream": "stdout",
       "text": [
        "\n",
        "processed "
       ]
      },
      {
       "output_type": "stream",
       "stream": "stdout",
       "text": [
        " 643\n",
        "skipped  10\n",
        "590460432\n",
        "original article tmp file "
       ]
      },
      {
       "output_type": "stream",
       "stream": "stdout",
       "text": [
        " /tmp/tmpW3MohE.html\n",
        "/tmp/tmp3V2pQG.html\n",
        "/tmp/tmpW3MohE.html\n",
        "/tmp/tmpW3MohE.html\n",
        "Now open file:///tmp/tmp3V2pQG.html in your web browser\n"
       ]
      },
      {
       "output_type": "stream",
       "stream": "stdout",
       "text": [
        "\n",
        "processed "
       ]
      },
      {
       "output_type": "stream",
       "stream": "stdout",
       "text": [
        " 644\n",
        "skipped  10\n",
        "590462467\n",
        "original article tmp file "
       ]
      },
      {
       "output_type": "stream",
       "stream": "stdout",
       "text": [
        " /tmp/tmp21_hTo.html\n",
        "/tmp/tmprT_Du_.html\n",
        "/tmp/tmp21_hTo.html\n",
        "/tmp/tmp21_hTo.html\n",
        "Now open file:///tmp/tmprT_Du_.html in your web browser\n"
       ]
      },
      {
       "output_type": "stream",
       "stream": "stdout",
       "text": [
        "\n",
        "processed "
       ]
      },
      {
       "output_type": "stream",
       "stream": "stdout",
       "text": [
        " 645\n",
        "skipped  10\n",
        "590512426\n",
        "original article tmp file "
       ]
      },
      {
       "output_type": "stream",
       "stream": "stdout",
       "text": [
        " /tmp/tmpxSeaK_.html\n",
        "/tmp/tmpoj6ktX.html\n",
        "/tmp/tmpxSeaK_.html\n",
        "/tmp/tmpxSeaK_.html\n",
        "Now open file:///tmp/tmpoj6ktX.html in your web browser\n"
       ]
      },
      {
       "output_type": "stream",
       "stream": "stdout",
       "text": [
        "\n",
        "processed "
       ]
      },
      {
       "output_type": "stream",
       "stream": "stdout",
       "text": [
        " 646\n",
        "skipped  10\n",
        "590514891\n",
        "original article tmp file "
       ]
      },
      {
       "output_type": "stream",
       "stream": "stdout",
       "text": [
        " /tmp/tmpTBCGDR.html\n",
        "/tmp/tmpn58JxX.html\n",
        "/tmp/tmpTBCGDR.html\n",
        "/tmp/tmpTBCGDR.html\n",
        "Now open file:///tmp/tmpn58JxX.html in your web browser\n"
       ]
      },
      {
       "output_type": "stream",
       "stream": "stdout",
       "text": [
        "\n",
        "processed "
       ]
      },
      {
       "output_type": "stream",
       "stream": "stdout",
       "text": [
        " 647\n",
        "skipped  10\n",
        "590515180\n",
        "original article tmp file "
       ]
      },
      {
       "output_type": "stream",
       "stream": "stdout",
       "text": [
        " /tmp/tmphuGD13.html\n",
        "/tmp/tmp58Ju7U.html\n",
        "/tmp/tmphuGD13.html\n",
        "/tmp/tmphuGD13.html\n",
        "Now open file:///tmp/tmp58Ju7U.html in your web browser\n"
       ]
      },
      {
       "output_type": "stream",
       "stream": "stdout",
       "text": [
        "\n",
        "processed "
       ]
      },
      {
       "output_type": "stream",
       "stream": "stdout",
       "text": [
        " 648\n",
        "skipped  10\n",
        "590529801\n",
        "original article tmp file "
       ]
      },
      {
       "output_type": "stream",
       "stream": "stdout",
       "text": [
        " /tmp/tmp462SaW.html\n",
        "/tmp/tmpFSC6Sr.html\n",
        "/tmp/tmp462SaW.html\n",
        "/tmp/tmp462SaW.html\n",
        "Now open file:///tmp/tmpFSC6Sr.html in your web browser\n"
       ]
      },
      {
       "output_type": "stream",
       "stream": "stdout",
       "text": [
        "\n",
        "processed "
       ]
      },
      {
       "output_type": "stream",
       "stream": "stdout",
       "text": [
        " 649\n",
        "skipped  10\n",
        "590531075\n",
        "original article tmp file "
       ]
      },
      {
       "output_type": "stream",
       "stream": "stdout",
       "text": [
        " /tmp/tmpCyvmvC.html\n",
        "/tmp/tmpRJYoMO.html\n",
        "/tmp/tmpCyvmvC.html\n",
        "/tmp/tmpCyvmvC.html\n",
        "Now open file:///tmp/tmpRJYoMO.html in your web browser\n"
       ]
      },
      {
       "output_type": "stream",
       "stream": "stdout",
       "text": [
        "\n",
        "processed "
       ]
      },
      {
       "output_type": "stream",
       "stream": "stdout",
       "text": [
        " 650\n",
        "skipped  10\n",
        "590542372\n",
        "original article tmp file "
       ]
      },
      {
       "output_type": "stream",
       "stream": "stdout",
       "text": [
        " /tmp/tmpKcVB9a.html\n",
        "/tmp/tmpH1M3ZW.html\n",
        "/tmp/tmpKcVB9a.html\n",
        "/tmp/tmpKcVB9a.html\n",
        "Now open file:///tmp/tmpH1M3ZW.html in your web browser\n"
       ]
      },
      {
       "output_type": "stream",
       "stream": "stdout",
       "text": [
        "\n",
        "processed  651\n",
        "skipped  10\n",
        "590542427\n",
        "original article tmp file "
       ]
      },
      {
       "output_type": "stream",
       "stream": "stdout",
       "text": [
        " /tmp/tmpGSzuTV.html\n",
        "/tmp/tmpPRHKaU.html\n",
        "/tmp/tmpGSzuTV.html\n",
        "/tmp/tmpGSzuTV.html\n",
        "Now open file:///tmp/tmpPRHKaU.html in your web browser\n"
       ]
      },
      {
       "output_type": "stream",
       "stream": "stdout",
       "text": [
        "\n",
        "processed "
       ]
      },
      {
       "output_type": "stream",
       "stream": "stdout",
       "text": [
        " 652\n",
        "skipped  10\n",
        "590551407\n",
        "original article tmp file "
       ]
      },
      {
       "output_type": "stream",
       "stream": "stdout",
       "text": [
        " /tmp/tmpNeuPXU.html\n",
        "/tmp/tmp93jNah.html\n",
        "/tmp/tmpNeuPXU.html\n",
        "/tmp/tmpNeuPXU.html\n",
        "Now open file:///tmp/tmp93jNah.html in your web browser\n"
       ]
      },
      {
       "output_type": "stream",
       "stream": "stdout",
       "text": [
        "\n",
        "processed "
       ]
      },
      {
       "output_type": "stream",
       "stream": "stdout",
       "text": [
        " 653\n",
        "skipped  10\n",
        "590552268\n",
        "original article tmp file "
       ]
      },
      {
       "output_type": "stream",
       "stream": "stdout",
       "text": [
        " /tmp/tmpfeV3J7.html\n",
        "/tmp/tmpuOnW7D.html\n",
        "/tmp/tmpfeV3J7.html\n",
        "/tmp/tmpfeV3J7.html\n",
        "Now open file:///tmp/tmpuOnW7D.html in your web browser\n"
       ]
      },
      {
       "output_type": "stream",
       "stream": "stdout",
       "text": [
        "\n",
        "processed "
       ]
      },
      {
       "output_type": "stream",
       "stream": "stdout",
       "text": [
        " 654\n",
        "skipped  10\n",
        "590552363\n",
        "original article tmp file "
       ]
      },
      {
       "output_type": "stream",
       "stream": "stdout",
       "text": [
        " /tmp/tmpyUs2O7.html\n",
        "/tmp/tmpY_bPZT.html\n",
        "/tmp/tmpyUs2O7.html\n",
        "/tmp/tmpyUs2O7.html\n",
        "Now open file:///tmp/tmpY_bPZT.html in your web browser\n"
       ]
      },
      {
       "output_type": "stream",
       "stream": "stdout",
       "text": [
        "\n",
        "processed "
       ]
      },
      {
       "output_type": "stream",
       "stream": "stdout",
       "text": [
        " 655\n",
        "skipped  10\n",
        "590552784\n",
        "original article tmp file "
       ]
      },
      {
       "output_type": "stream",
       "stream": "stdout",
       "text": [
        " /tmp/tmpgfc8Za.html\n",
        "/tmp/tmpDpH3Pf.html\n",
        "/tmp/tmpgfc8Za.html\n",
        "/tmp/tmpgfc8Za.html\n",
        "Now open file:///tmp/tmpDpH3Pf.html in your web browser\n"
       ]
      },
      {
       "output_type": "stream",
       "stream": "stdout",
       "text": [
        "\n",
        "processed "
       ]
      },
      {
       "output_type": "stream",
       "stream": "stdout",
       "text": [
        " 656\n",
        "skipped  10\n",
        "590560741\n",
        "original article tmp file "
       ]
      },
      {
       "output_type": "stream",
       "stream": "stdout",
       "text": [
        " /tmp/tmpUlcJEF.html\n",
        "/tmp/tmpDsSMnW.html\n",
        "/tmp/tmpUlcJEF.html\n",
        "/tmp/tmpUlcJEF.html\n",
        "Now open file:///tmp/tmpDsSMnW.html in your web browser\n"
       ]
      },
      {
       "output_type": "stream",
       "stream": "stdout",
       "text": [
        "\n",
        "processed  657\n",
        "skipped  10\n",
        "590576816\n",
        "original article tmp file "
       ]
      },
      {
       "output_type": "stream",
       "stream": "stdout",
       "text": [
        " /tmp/tmpQxvUYj.html\n",
        "/tmp/tmpsXnIbm.html\n",
        "/tmp/tmpQxvUYj.html\n",
        "/tmp/tmpQxvUYj.html\n",
        "Now open file:///tmp/tmpsXnIbm.html in your web browser\n"
       ]
      },
      {
       "output_type": "stream",
       "stream": "stdout",
       "text": [
        "\n",
        "processed "
       ]
      },
      {
       "output_type": "stream",
       "stream": "stdout",
       "text": [
        " 658\n",
        "skipped  10\n",
        "590585094\n",
        "original article tmp file "
       ]
      },
      {
       "output_type": "stream",
       "stream": "stdout",
       "text": [
        " /tmp/tmpGbrsgx.html\n",
        "/tmp/tmpDiU_5x.html\n",
        "/tmp/tmpGbrsgx.html\n",
        "/tmp/tmpGbrsgx.html\n",
        "Now open file:///tmp/tmpDiU_5x.html in your web browser\n"
       ]
      },
      {
       "output_type": "stream",
       "stream": "stdout",
       "text": [
        "\n",
        "processed "
       ]
      },
      {
       "output_type": "stream",
       "stream": "stdout",
       "text": [
        " 659\n",
        "skipped  10\n",
        "590593066\n",
        "original article tmp file "
       ]
      },
      {
       "output_type": "stream",
       "stream": "stdout",
       "text": [
        " /tmp/tmpjoAUnq.html\n",
        "/tmp/tmpAEMCAj.html\n",
        "/tmp/tmpjoAUnq.html\n",
        "/tmp/tmpjoAUnq.html\n",
        "Now open file:///tmp/tmpAEMCAj.html in your web browser\n"
       ]
      },
      {
       "output_type": "stream",
       "stream": "stdout",
       "text": [
        "\n",
        "processed "
       ]
      },
      {
       "output_type": "stream",
       "stream": "stdout",
       "text": [
        " 660\n",
        "skipped  10\n",
        "590596271\n",
        "original article tmp file "
       ]
      },
      {
       "output_type": "stream",
       "stream": "stdout",
       "text": [
        " /tmp/tmpGNuq4x.html\n",
        "/tmp/tmpzDoQgA.html\n",
        "/tmp/tmpGNuq4x.html\n",
        "/tmp/tmpGNuq4x.html\n",
        "Now open file:///tmp/tmpzDoQgA.html in your web browser\n"
       ]
      },
      {
       "output_type": "stream",
       "stream": "stdout",
       "text": [
        "\n",
        "processed "
       ]
      },
      {
       "output_type": "stream",
       "stream": "stdout",
       "text": [
        " 661\n",
        "skipped  10\n",
        "590605895\n",
        "original article tmp file "
       ]
      },
      {
       "output_type": "stream",
       "stream": "stdout",
       "text": [
        " /tmp/tmp5B12Zr.html\n",
        "/tmp/tmpZ34VaG.html\n",
        "/tmp/tmp5B12Zr.html\n",
        "/tmp/tmp5B12Zr.html\n",
        "Now open file:///tmp/tmpZ34VaG.html in your web browser\n"
       ]
      },
      {
       "output_type": "stream",
       "stream": "stdout",
       "text": [
        "\n",
        "processed "
       ]
      },
      {
       "output_type": "stream",
       "stream": "stdout",
       "text": [
        " 662\n",
        "skipped  10\n",
        "590620426\n",
        "original article tmp file "
       ]
      },
      {
       "output_type": "stream",
       "stream": "stdout",
       "text": [
        " /tmp/tmpLrALK9.html\n",
        "/tmp/tmphg7A58.html\n",
        "/tmp/tmpLrALK9.html\n",
        "/tmp/tmpLrALK9.html\n",
        "Now open file:///tmp/tmphg7A58.html in your web browser\n"
       ]
      },
      {
       "output_type": "stream",
       "stream": "stdout",
       "text": [
        "\n",
        "processed "
       ]
      },
      {
       "output_type": "stream",
       "stream": "stdout",
       "text": [
        " 663\n",
        "skipped  10\n",
        "590623508\n",
        "original article tmp file "
       ]
      },
      {
       "output_type": "stream",
       "stream": "stdout",
       "text": [
        " /tmp/tmpozipZ8.html\n",
        "/tmp/tmp7gqfT4.html\n",
        "/tmp/tmpozipZ8.html\n",
        "/tmp/tmpozipZ8.html\n",
        "Now open file:///tmp/tmp7gqfT4.html in your web browser\n"
       ]
      },
      {
       "output_type": "stream",
       "stream": "stdout",
       "text": [
        "\n",
        "processed "
       ]
      },
      {
       "output_type": "stream",
       "stream": "stdout",
       "text": [
        " 664\n",
        "skipped  10\n",
        "590623511\n",
        "original article tmp file "
       ]
      },
      {
       "output_type": "stream",
       "stream": "stdout",
       "text": [
        " /tmp/tmpYJdGT4.html\n",
        "/tmp/tmpDnWBFd.html\n",
        "/tmp/tmpYJdGT4.html\n",
        "/tmp/tmpYJdGT4.html\n",
        "Now open file:///tmp/tmpDnWBFd.html in your web browser\n"
       ]
      },
      {
       "output_type": "stream",
       "stream": "stdout",
       "text": [
        "\n",
        "processed "
       ]
      },
      {
       "output_type": "stream",
       "stream": "stdout",
       "text": [
        " 665\n",
        "skipped  10\n",
        "590639137\n",
        "original article tmp file "
       ]
      },
      {
       "output_type": "stream",
       "stream": "stdout",
       "text": [
        " /tmp/tmpPVVpOh.html\n",
        "/tmp/tmpDlRXRN.html\n",
        "/tmp/tmpPVVpOh.html\n",
        "/tmp/tmpPVVpOh.html\n",
        "Now open file:///tmp/tmpDlRXRN.html in your web browser\n"
       ]
      },
      {
       "output_type": "stream",
       "stream": "stdout",
       "text": [
        "\n",
        "processed  666\n",
        "skipped  10\n",
        "590646856\n",
        "original article tmp file "
       ]
      },
      {
       "output_type": "stream",
       "stream": "stdout",
       "text": [
        " /tmp/tmp1vLHMO.html\n",
        "/tmp/tmp2RCjBc.html\n",
        "/tmp/tmp1vLHMO.html\n",
        "/tmp/tmp1vLHMO.html\n",
        "Now open file:///tmp/tmp2RCjBc.html in your web browser\n"
       ]
      },
      {
       "output_type": "stream",
       "stream": "stdout",
       "text": [
        "\n",
        "processed "
       ]
      },
      {
       "output_type": "stream",
       "stream": "stdout",
       "text": [
        " 667\n",
        "skipped  10\n",
        "590647873\n",
        "original article tmp file "
       ]
      },
      {
       "output_type": "stream",
       "stream": "stdout",
       "text": [
        " /tmp/tmp787ia9.html\n",
        "/tmp/tmpuAx7G_.html\n",
        "/tmp/tmp787ia9.html\n",
        "/tmp/tmp787ia9.html\n",
        "Now open file:///tmp/tmpuAx7G_.html in your web browser\n"
       ]
      },
      {
       "output_type": "stream",
       "stream": "stdout",
       "text": [
        "\n",
        "processed "
       ]
      },
      {
       "output_type": "stream",
       "stream": "stdout",
       "text": [
        " 668\n",
        "skipped  10\n",
        "590654819\n",
        "original article tmp file "
       ]
      },
      {
       "output_type": "stream",
       "stream": "stdout",
       "text": [
        " /tmp/tmpCArjqa.html\n",
        "/tmp/tmpt3jEMM.html\n",
        "/tmp/tmpCArjqa.html\n",
        "/tmp/tmpCArjqa.html\n",
        "Now open file:///tmp/tmpt3jEMM.html in your web browser\n"
       ]
      },
      {
       "output_type": "stream",
       "stream": "stdout",
       "text": [
        "\n",
        "processed "
       ]
      },
      {
       "output_type": "stream",
       "stream": "stdout",
       "text": [
        " 669\n",
        "skipped  10\n",
        "590661408\n",
        "original article tmp file "
       ]
      },
      {
       "output_type": "stream",
       "stream": "stdout",
       "text": [
        " /tmp/tmp7oPuDf.html\n",
        "/tmp/tmpJD5nmY.html\n",
        "/tmp/tmp7oPuDf.html\n",
        "/tmp/tmp7oPuDf.html\n",
        "Now open file:///tmp/tmpJD5nmY.html in your web browser\n"
       ]
      },
      {
       "output_type": "stream",
       "stream": "stdout",
       "text": [
        "\n",
        "processed "
       ]
      },
      {
       "output_type": "stream",
       "stream": "stdout",
       "text": [
        " 670\n",
        "skipped  10\n",
        "590685837\n",
        "original article tmp file "
       ]
      },
      {
       "output_type": "stream",
       "stream": "stdout",
       "text": [
        " /tmp/tmpKpq4zy.html\n",
        "/tmp/tmprLFvP8.html\n",
        "/tmp/tmpKpq4zy.html\n",
        "/tmp/tmpKpq4zy.html\n",
        "Now open file:///tmp/tmprLFvP8.html in your web browser\n"
       ]
      },
      {
       "output_type": "stream",
       "stream": "stdout",
       "text": [
        "\n",
        "processed "
       ]
      },
      {
       "output_type": "stream",
       "stream": "stdout",
       "text": [
        " 671\n",
        "skipped  10\n",
        "590720858\n",
        "original article tmp file "
       ]
      },
      {
       "output_type": "stream",
       "stream": "stdout",
       "text": [
        " /tmp/tmp72uIKv.html\n",
        "/tmp/tmpg1uE6O.html\n",
        "/tmp/tmp72uIKv.html\n",
        "/tmp/tmp72uIKv.html\n",
        "Now open file:///tmp/tmpg1uE6O.html in your web browser\n"
       ]
      },
      {
       "output_type": "stream",
       "stream": "stdout",
       "text": [
        "\n",
        "processed "
       ]
      },
      {
       "output_type": "stream",
       "stream": "stdout",
       "text": [
        " 672\n",
        "skipped  10\n",
        "590806668\n",
        "original article tmp file "
       ]
      },
      {
       "output_type": "stream",
       "stream": "stdout",
       "text": [
        " /tmp/tmp74voLC.html\n",
        "/tmp/tmpEZPgAB.html\n",
        "/tmp/tmp74voLC.html\n",
        "/tmp/tmp74voLC.html\n",
        "Now open file:///tmp/tmpEZPgAB.html in your web browser\n"
       ]
      },
      {
       "output_type": "stream",
       "stream": "stdout",
       "text": [
        "\n",
        "processed "
       ]
      },
      {
       "output_type": "stream",
       "stream": "stdout",
       "text": [
        " 673\n",
        "skipped  10\n",
        "590841021\n",
        "original article tmp file "
       ]
      },
      {
       "output_type": "stream",
       "stream": "stdout",
       "text": [
        " /tmp/tmpwUCMZT.html\n",
        "/tmp/tmpTa9hkp.html\n",
        "/tmp/tmpwUCMZT.html\n",
        "/tmp/tmpwUCMZT.html\n",
        "Now open file:///tmp/tmpTa9hkp.html in your web browser\n"
       ]
      },
      {
       "output_type": "stream",
       "stream": "stdout",
       "text": [
        "\n",
        "processed "
       ]
      },
      {
       "output_type": "stream",
       "stream": "stdout",
       "text": [
        " 674\n",
        "skipped  10\n",
        "590877233\n",
        "original article tmp file "
       ]
      },
      {
       "output_type": "stream",
       "stream": "stdout",
       "text": [
        " /tmp/tmpPGpmBh.html\n",
        "/tmp/tmpRqHfGr.html\n",
        "/tmp/tmpPGpmBh.html\n",
        "/tmp/tmpPGpmBh.html\n",
        "Now open file:///tmp/tmpRqHfGr.html in your web browser\n"
       ]
      },
      {
       "output_type": "stream",
       "stream": "stdout",
       "text": [
        "\n",
        "processed "
       ]
      },
      {
       "output_type": "stream",
       "stream": "stdout",
       "text": [
        " 675\n",
        "skipped  10\n",
        "590917078\n",
        "original article tmp file "
       ]
      },
      {
       "output_type": "stream",
       "stream": "stdout",
       "text": [
        " /tmp/tmpZLe9qW.html\n",
        "/tmp/tmpoeRC1f.html\n",
        "/tmp/tmpZLe9qW.html\n",
        "/tmp/tmpZLe9qW.html\n",
        "Now open file:///tmp/tmpoeRC1f.html in your web browser\n"
       ]
      },
      {
       "output_type": "stream",
       "stream": "stdout",
       "text": [
        "\n",
        "processed "
       ]
      },
      {
       "output_type": "stream",
       "stream": "stdout",
       "text": [
        " 676\n",
        "skipped  10\n",
        "590918616\n",
        "original article tmp file "
       ]
      },
      {
       "output_type": "stream",
       "stream": "stdout",
       "text": [
        " /tmp/tmpu_WeQo.html\n",
        "/tmp/tmptSAg72.html\n",
        "/tmp/tmpu_WeQo.html\n",
        "/tmp/tmpu_WeQo.html\n",
        "Now open file:///tmp/tmptSAg72.html in your web browser\n"
       ]
      },
      {
       "output_type": "stream",
       "stream": "stdout",
       "text": [
        "\n",
        "processed "
       ]
      },
      {
       "output_type": "stream",
       "stream": "stdout",
       "text": [
        " 677\n",
        "skipped  10\n",
        "590918621\n",
        "original article tmp file "
       ]
      },
      {
       "output_type": "stream",
       "stream": "stdout",
       "text": [
        " /tmp/tmpi5qCKb.html\n",
        "/tmp/tmp831Wq4.html\n",
        "/tmp/tmpi5qCKb.html\n",
        "/tmp/tmpi5qCKb.html\n",
        "Now open file:///tmp/tmp831Wq4.html in your web browser\n"
       ]
      },
      {
       "output_type": "stream",
       "stream": "stdout",
       "text": [
        "\n",
        "processed "
       ]
      },
      {
       "output_type": "stream",
       "stream": "stdout",
       "text": [
        " 678\n",
        "skipped  10\n",
        "590929956\n",
        "original article tmp file "
       ]
      },
      {
       "output_type": "stream",
       "stream": "stdout",
       "text": [
        " /tmp/tmp1vnXMk.html\n",
        "/tmp/tmpGGM9q8.html\n",
        "/tmp/tmp1vnXMk.html\n",
        "/tmp/tmp1vnXMk.html\n",
        "Now open file:///tmp/tmpGGM9q8.html in your web browser\n"
       ]
      },
      {
       "output_type": "stream",
       "stream": "stdout",
       "text": [
        "\n",
        "processed "
       ]
      },
      {
       "output_type": "stream",
       "stream": "stdout",
       "text": [
        " 679\n",
        "skipped  10\n",
        "590957300\n",
        "original article tmp file "
       ]
      },
      {
       "output_type": "stream",
       "stream": "stdout",
       "text": [
        " /tmp/tmplMeiq9.html\n",
        "/tmp/tmpe3TWXB.html\n",
        "/tmp/tmplMeiq9.html\n",
        "/tmp/tmplMeiq9.html\n",
        "Now open file:///tmp/tmpe3TWXB.html in your web browser\n"
       ]
      },
      {
       "output_type": "stream",
       "stream": "stdout",
       "text": [
        "\n",
        "processed "
       ]
      },
      {
       "output_type": "stream",
       "stream": "stdout",
       "text": [
        " 680\n",
        "skipped  10\n",
        "590957745\n",
        "original article tmp file "
       ]
      },
      {
       "output_type": "stream",
       "stream": "stdout",
       "text": [
        " /tmp/tmp43tHIR.html\n",
        "/tmp/tmpVAI0dz.html\n",
        "/tmp/tmp43tHIR.html\n",
        "/tmp/tmp43tHIR.html\n",
        "Now open file:///tmp/tmpVAI0dz.html in your web browser\n"
       ]
      },
      {
       "output_type": "stream",
       "stream": "stdout",
       "text": [
        "\n",
        "processed "
       ]
      },
      {
       "output_type": "stream",
       "stream": "stdout",
       "text": [
        " 681\n",
        "skipped  10\n",
        "590961196\n",
        "original article tmp file "
       ]
      },
      {
       "output_type": "stream",
       "stream": "stdout",
       "text": [
        " /tmp/tmpBZuf_i.html\n",
        "/tmp/tmp2MuEGd.html\n",
        "/tmp/tmpBZuf_i.html\n",
        "/tmp/tmpBZuf_i.html\n",
        "Now open file:///tmp/tmp2MuEGd.html in your web browser\n"
       ]
      },
      {
       "output_type": "stream",
       "stream": "stdout",
       "text": [
        "\n",
        "processed "
       ]
      },
      {
       "output_type": "stream",
       "stream": "stdout",
       "text": [
        " 682\n",
        "skipped  10\n",
        "590962451\n",
        "original article tmp file "
       ]
      },
      {
       "output_type": "stream",
       "stream": "stdout",
       "text": [
        " /tmp/tmpQlPXAm.html\n",
        "/tmp/tmp3M9qh1.html\n",
        "/tmp/tmpQlPXAm.html\n",
        "/tmp/tmpQlPXAm.html\n",
        "Now open file:///tmp/tmp3M9qh1.html in your web browser\n"
       ]
      },
      {
       "output_type": "stream",
       "stream": "stdout",
       "text": [
        "\n",
        "processed "
       ]
      },
      {
       "output_type": "stream",
       "stream": "stdout",
       "text": [
        " 683\n",
        "skipped  10\n",
        "590975183\n",
        "original article tmp file "
       ]
      },
      {
       "output_type": "stream",
       "stream": "stdout",
       "text": [
        " /tmp/tmp5uDQez.html\n",
        "/tmp/tmp1fpJam.html\n",
        "/tmp/tmp5uDQez.html\n",
        "/tmp/tmp5uDQez.html\n",
        "Now open file:///tmp/tmp1fpJam.html in your web browser\n"
       ]
      },
      {
       "output_type": "stream",
       "stream": "stdout",
       "text": [
        "\n",
        "processed "
       ]
      },
      {
       "output_type": "stream",
       "stream": "stdout",
       "text": [
        " 684\n",
        "skipped  10\n",
        "590975515\n",
        "original article tmp file "
       ]
      },
      {
       "output_type": "stream",
       "stream": "stdout",
       "text": [
        " /tmp/tmpxr9Yxb.html\n",
        "/tmp/tmptQ8qWZ.html\n",
        "/tmp/tmpxr9Yxb.html\n",
        "/tmp/tmpxr9Yxb.html\n",
        "Now open file:///tmp/tmptQ8qWZ.html in your web browser\n"
       ]
      },
      {
       "output_type": "stream",
       "stream": "stdout",
       "text": [
        "\n",
        "processed "
       ]
      },
      {
       "output_type": "stream",
       "stream": "stdout",
       "text": [
        " 685\n",
        "skipped  10\n",
        "590975517\n",
        "original article tmp file "
       ]
      },
      {
       "output_type": "stream",
       "stream": "stdout",
       "text": [
        " /tmp/tmpM9Pq19.html\n",
        "/tmp/tmpZjv0g0.html\n",
        "/tmp/tmpM9Pq19.html\n",
        "/tmp/tmpM9Pq19.html\n",
        "Now open file:///tmp/tmpZjv0g0.html in your web browser\n"
       ]
      },
      {
       "output_type": "stream",
       "stream": "stdout",
       "text": [
        "\n",
        "processed "
       ]
      },
      {
       "output_type": "stream",
       "stream": "stdout",
       "text": [
        " 686\n",
        "skipped  10\n",
        "590976484\n",
        "original article tmp file "
       ]
      },
      {
       "output_type": "stream",
       "stream": "stdout",
       "text": [
        " /tmp/tmpfoJzra.html\n",
        "/tmp/tmpn1z64f.html\n",
        "/tmp/tmpfoJzra.html\n",
        "/tmp/tmpfoJzra.html\n",
        "Now open file:///tmp/tmpn1z64f.html in your web browser\n"
       ]
      },
      {
       "output_type": "stream",
       "stream": "stdout",
       "text": [
        "\n"
       ]
      }
     ],
     "prompt_number": 40
    },
    {
     "cell_type": "code",
     "collapsed": false,
     "input": [
      "def filter_by_media_tags_id( comps_downloads, media_tags_ids ):\n",
      "    media_ids_matching = set()\n",
      "    #print media_id_media_map\n",
      "    for media_id, media in media_id_media_map.iteritems():\n",
      "        if not media[ 'media_source_tags_ids'].isdisjoint( media_tags_ids ):\n",
      "            media_ids_matching.add( media_id )\n",
      "            \n",
      "    return  [cd for cd in comps_downloads if cd['media_id'] in media_ids_matching ]"
     ],
     "language": "python",
     "metadata": {},
     "outputs": [],
     "prompt_number": 41
    },
    {
     "cell_type": "heading",
     "level": 1,
     "metadata": {},
     "source": [
      "Results"
     ]
    },
    {
     "cell_type": "heading",
     "level": 2,
     "metadata": {},
     "source": [
      "Results by Subset"
     ]
    },
    {
     "cell_type": "code",
     "collapsed": false,
     "input": [
      "\n",
      "regional = { 2453107 }\n",
      "print \"region / pew knight sutdy / 245107 \"\n",
      "df = get_data_frame_from_comparision_objects( filter_by_media_tags_id( comps_downloads, regional ) )\n",
      "print_results_by_measurement_type( df )\n",
      "\n",
      "ap_english_us_top_25 = { 2453107 }\n",
      "print \"ap_english_us_top25 / 8875027 \"\n",
      "df = get_data_frame_from_comparision_objects( filter_by_media_tags_id( comps_downloads, regional ) )\n",
      "print_results_by_measurement_type( df )\n",
      "\n",
      "political_blogs = { 125 }\n",
      "print \"political blogs / 125\"\n",
      "df = get_data_frame_from_comparision_objects( filter_by_media_tags_id( comps_downloads, political_blogs ) )\n",
      "print_results_by_measurement_type( df )\n",
      "\n",
      "\n",
      "russian = { 7796878 }\n",
      "print 'russian'\n",
      "df = get_data_frame_from_comparision_objects( filter_by_media_tags_id( comps_downloads, russian ) )\n",
      "print_results_by_measurement_type( df )\n",
      "\n",
      "print 'brazil'\n",
      "df = get_data_frame_from_comparision_objects( filter_by_media_tags_id( comps_downloads, {8877968,  8877969, 8877973, 8877970 } ) )\n",
      "print_results_by_measurement_type( df )\n",
      "\n",
      "arabic = { 8878255 }\n",
      "print 'arabic'\n",
      "df = get_data_frame_from_comparision_objects( filter_by_media_tags_id( comps_downloads, arabic ) )\n",
      "print_results_by_measurement_type( df )\n",
      "                                             "
     ],
     "language": "python",
     "metadata": {},
     "outputs": [
      {
       "output_type": "stream",
       "stream": "stdout",
       "text": [
        "region / pew knight sutdy / 245107 \n",
        "       precision_boiler_pipe  precision_boiler_pipe_dedup  precision_crf  \\\n",
        "count              99.000000                    99.000000      99.000000   \n",
        "mean                0.894334                     0.840783       0.672370   \n",
        "std                 0.212156                     0.237201       0.395382   \n",
        "min                 0.055556                     0.043210       0.000000   \n",
        "2%                  0.094591                     0.094591       0.000000   \n",
        "5%                  0.300342                     0.170534       0.008215   \n",
        "10%                 0.736682                     0.525184       0.013684   \n",
        "50%                 0.965726                     0.953678       0.905983   \n",
        "max                 1.000000                     1.000000       1.000000   \n",
        "\n",
        "       precision_crf_dedup  precision_heur  precision_heur_dedup  \\\n",
        "count            99.000000       99.000000             99.000000   \n",
        "mean              0.621795        0.883748              0.819180   \n",
        "std               0.394933        0.117568              0.208837   \n",
        "min               0.000000        0.130435              0.000000   \n",
        "2%                0.000000        0.643265              0.125217   \n",
        "5%                0.008215        0.705379              0.353708   \n",
        "10%               0.013684        0.786406              0.528713   \n",
        "50%               0.877049        0.911824              0.892857   \n",
        "max               1.000000        0.993341              0.986854   \n",
        "\n",
        "       precision_justext  precision_justext_dedup  precision_py_goose  \\\n",
        "count          99.000000                99.000000           99.000000   \n",
        "mean            0.000439                 0.000439            0.882638   \n",
        "std             0.004364                 0.004364            0.182445   \n",
        "min             0.000000                 0.000000            0.009485   \n",
        "2%              0.000000                 0.000000            0.123462   \n",
        "5%              0.000000                 0.000000            0.644290   \n",
        "10%             0.000000                 0.000000            0.747826   \n",
        "50%             0.000000                 0.000000            0.944882   \n",
        "max             0.043421                 0.043421            1.000000   \n",
        "\n",
        "       precision_py_goose_dedup  precision_python_readibilty  \\\n",
        "count                 99.000000                    99.000000   \n",
        "mean                   0.798177                     0.915429   \n",
        "std                    0.243542                     0.128768   \n",
        "min                    0.009485                     0.077586   \n",
        "2%                     0.123462                     0.640930   \n",
        "5%                     0.264297                     0.685469   \n",
        "10%                    0.372442                     0.847998   \n",
        "50%                    0.904018                     0.946387   \n",
        "max                    1.000000                     1.000000   \n",
        "\n",
        "       precision_python_readibilty_dedup  \n",
        "count                          99.000000  \n",
        "mean                            0.859242  \n",
        "std                             0.184126  \n",
        "min                             0.077586  \n",
        "2%                              0.241159  \n",
        "5%                              0.374847  \n",
        "10%                             0.652586  \n",
        "50%                             0.918699  \n",
        "max                             1.000000  "
       ]
      },
      {
       "output_type": "stream",
       "stream": "stdout",
       "text": [
        "\n",
        "       recall_boiler_pipe  recall_boiler_pipe_dedup  recall_crf  \\\n",
        "count           99.000000                 99.000000   99.000000   \n",
        "mean             0.783945                  0.779857    0.758122   \n",
        "std              0.266169                  0.263707    0.358991   \n",
        "min              0.030471                  0.032258    0.000000   \n",
        "2%               0.050724                  0.058299    0.000000   \n",
        "5%               0.171538                  0.108069    0.021983   \n",
        "10%              0.378678                  0.377022    0.047840   \n",
        "50%              0.906250                  0.899489    0.940379   \n",
        "max              0.998503                  0.995516    1.000000   \n",
        "\n",
        "       recall_crf_dedup  recall_heur  recall_heur_dedup  recall_justext  \\\n",
        "count         99.000000    99.000000          99.000000       99.000000   \n",
        "mean           0.753114     0.775431           0.814759        0.010101   \n",
        "std            0.360944     0.210153           0.226508        0.100504   \n",
        "min            0.000000     0.113208           0.000000        0.000000   \n",
        "2%             0.000000     0.283567           0.108679        0.000000   \n",
        "5%             0.021983     0.334495           0.328284        0.000000   \n",
        "10%            0.047840     0.434835           0.535722        0.000000   \n",
        "50%            0.940361     0.845601           0.888350        0.000000   \n",
        "max            1.000000     1.000000           1.000000        1.000000   \n",
        "\n",
        "       recall_justext_dedup  recall_py_goose  recall_py_goose_dedup  \\\n",
        "count             99.000000        99.000000              99.000000   \n",
        "mean               0.010101         0.906688               0.906722   \n",
        "std                0.100504         0.210598               0.202581   \n",
        "min                0.000000         0.161290               0.161290   \n",
        "2%                 0.000000         0.200000               0.222588   \n",
        "5%                 0.000000         0.341954               0.374451   \n",
        "10%                0.000000         0.583747               0.604817   \n",
        "50%                0.000000         0.998879               0.992467   \n",
        "max                1.000000         1.000000               1.000000   \n",
        "\n",
        "       recall_python_readibilty  recall_python_readibilty_dedup  \n",
        "count                 99.000000                       99.000000  \n",
        "mean                   0.926660                        0.929967  \n",
        "std                    0.138605                        0.129058  \n",
        "min                    0.143822                        0.143822  \n",
        "2%                     0.438315                        0.425079  \n",
        "5%                     0.614948                        0.721695  \n",
        "10%                    0.841220                        0.872326  \n",
        "50%                    0.968750                        0.966102  \n",
        "max                    1.000000                        1.000000  \n",
        "       f1_boiler_pipe  f1_boiler_pipe_dedup     f1_crf  f1_crf_dedup  \\\n",
        "count       99.000000             99.000000  99.000000     99.000000   \n",
        "mean         0.817513              0.787621   0.673473      0.636699   \n",
        "std          0.233986              0.238455   0.384711      0.383667   \n",
        "min          0.048338              0.048338   0.000000      0.000000   \n",
        "2%           0.053145              0.059309   0.000000      0.000000   \n",
        "5%           0.216936              0.128451   0.010484      0.010484   \n",
        "10%          0.544272              0.521438   0.021981      0.021981   \n",
        "50%          0.921590              0.884668   0.920581      0.867257   \n",
        "max          0.999251              0.997006   1.000000      1.000000   \n",
        "\n",
        "         f1_heur  f1_heur_dedup  f1_justext  f1_justext_dedup  f1_py_goose  \\\n",
        "count  99.000000      99.000000   99.000000         99.000000    99.000000   \n",
        "mean    0.812018       0.796261    0.000841          0.000841     0.877377   \n",
        "std     0.167742       0.206603    0.008365          0.008365     0.199070   \n",
        "min     0.121212       0.000000    0.000000          0.000000     0.018717   \n",
        "2%      0.382075       0.116364    0.000000          0.000000     0.151358   \n",
        "5%      0.479951       0.440688    0.000000          0.000000     0.473974   \n",
        "10%     0.570644       0.498710    0.000000          0.000000     0.639255   \n",
        "50%     0.863579       0.870370    0.000000          0.000000     0.959322   \n",
        "max     0.994072       0.992026    0.083228          0.083228     1.000000   \n",
        "\n",
        "       f1_py_goose_dedup  f1_python_readibilty  f1_python_readibilty_dedup  \n",
        "count          99.000000             99.000000                   99.000000  \n",
        "mean            0.825981              0.908275                    0.875887  \n",
        "std             0.229822              0.140192                    0.169551  \n",
        "min             0.018717              0.136364                    0.136364  \n",
        "2%              0.157747              0.384693                    0.332559  \n",
        "5%              0.327204              0.715988                    0.448127  \n",
        "10%             0.487735              0.794279                    0.702041  \n",
        "50%             0.935593              0.950276                    0.935209  \n",
        "max             1.000000              1.000000                    0.995231  \n",
        "ap_english_us_top25 / 8875027 \n",
        "       precision_boiler_pipe  precision_boiler_pipe_dedup  precision_crf  \\\n",
        "count              99.000000                    99.000000      99.000000   \n",
        "mean                0.894334                     0.840783       0.672370   \n",
        "std                 0.212156                     0.237201       0.395382   \n",
        "min                 0.055556                     0.043210       0.000000   \n",
        "2%                  0.094591                     0.094591       0.000000   \n",
        "5%                  0.300342                     0.170534       0.008215   \n",
        "10%                 0.736682                     0.525184       0.013684   \n",
        "50%                 0.965726                     0.953678       0.905983   \n",
        "max                 1.000000                     1.000000       1.000000   \n",
        "\n",
        "       precision_crf_dedup  precision_heur  precision_heur_dedup  \\\n",
        "count            99.000000       99.000000             99.000000   \n",
        "mean              0.621795        0.883748              0.819180   \n",
        "std               0.394933        0.117568              0.208837   \n",
        "min               0.000000        0.130435              0.000000   \n",
        "2%                0.000000        0.643265              0.125217   \n",
        "5%                0.008215        0.705379              0.353708   \n",
        "10%               0.013684        0.786406              0.528713   \n",
        "50%               0.877049        0.911824              0.892857   \n",
        "max               1.000000        0.993341              0.986854   \n",
        "\n",
        "       precision_justext  precision_justext_dedup  precision_py_goose  \\\n",
        "count          99.000000                99.000000           99.000000   \n",
        "mean            0.000439                 0.000439            0.882638   \n",
        "std             0.004364                 0.004364            0.182445   \n",
        "min             0.000000                 0.000000            0.009485   \n",
        "2%              0.000000                 0.000000            0.123462   \n",
        "5%              0.000000                 0.000000            0.644290   \n",
        "10%             0.000000                 0.000000            0.747826   \n",
        "50%             0.000000                 0.000000            0.944882   \n",
        "max             0.043421                 0.043421            1.000000   \n",
        "\n",
        "       precision_py_goose_dedup  precision_python_readibilty  \\\n",
        "count                 99.000000                    99.000000   \n",
        "mean                   0.798177                     0.915429   \n",
        "std                    0.243542                     0.128768   \n",
        "min                    0.009485                     0.077586   \n",
        "2%                     0.123462                     0.640930   \n",
        "5%                     0.264297                     0.685469   \n",
        "10%                    0.372442                     0.847998   \n",
        "50%                    0.904018                     0.946387   \n",
        "max                    1.000000                     1.000000   \n",
        "\n",
        "       precision_python_readibilty_dedup  \n",
        "count                          99.000000  \n",
        "mean                            0.859242  \n",
        "std                             0.184126  \n",
        "min                             0.077586  \n",
        "2%                              0.241159  \n",
        "5%                              0.374847  \n",
        "10%                             0.652586  \n",
        "50%                             0.918699  \n",
        "max                             1.000000  "
       ]
      },
      {
       "output_type": "stream",
       "stream": "stdout",
       "text": [
        "\n",
        "       recall_boiler_pipe  recall_boiler_pipe_dedup  recall_crf  \\\n",
        "count           99.000000                 99.000000   99.000000   \n",
        "mean             0.783945                  0.779857    0.758122   \n",
        "std              0.266169                  0.263707    0.358991   \n",
        "min              0.030471                  0.032258    0.000000   \n",
        "2%               0.050724                  0.058299    0.000000   \n",
        "5%               0.171538                  0.108069    0.021983   \n",
        "10%              0.378678                  0.377022    0.047840   \n",
        "50%              0.906250                  0.899489    0.940379   \n",
        "max              0.998503                  0.995516    1.000000   \n",
        "\n",
        "       recall_crf_dedup  recall_heur  recall_heur_dedup  recall_justext  \\\n",
        "count         99.000000    99.000000          99.000000       99.000000   \n",
        "mean           0.753114     0.775431           0.814759        0.010101   \n",
        "std            0.360944     0.210153           0.226508        0.100504   \n",
        "min            0.000000     0.113208           0.000000        0.000000   \n",
        "2%             0.000000     0.283567           0.108679        0.000000   \n",
        "5%             0.021983     0.334495           0.328284        0.000000   \n",
        "10%            0.047840     0.434835           0.535722        0.000000   \n",
        "50%            0.940361     0.845601           0.888350        0.000000   \n",
        "max            1.000000     1.000000           1.000000        1.000000   \n",
        "\n",
        "       recall_justext_dedup  recall_py_goose  recall_py_goose_dedup  \\\n",
        "count             99.000000        99.000000              99.000000   \n",
        "mean               0.010101         0.906688               0.906722   \n",
        "std                0.100504         0.210598               0.202581   \n",
        "min                0.000000         0.161290               0.161290   \n",
        "2%                 0.000000         0.200000               0.222588   \n",
        "5%                 0.000000         0.341954               0.374451   \n",
        "10%                0.000000         0.583747               0.604817   \n",
        "50%                0.000000         0.998879               0.992467   \n",
        "max                1.000000         1.000000               1.000000   \n",
        "\n",
        "       recall_python_readibilty  recall_python_readibilty_dedup  \n",
        "count                 99.000000                       99.000000  \n",
        "mean                   0.926660                        0.929967  \n",
        "std                    0.138605                        0.129058  \n",
        "min                    0.143822                        0.143822  \n",
        "2%                     0.438315                        0.425079  \n",
        "5%                     0.614948                        0.721695  \n",
        "10%                    0.841220                        0.872326  \n",
        "50%                    0.968750                        0.966102  \n",
        "max                    1.000000                        1.000000  \n",
        "       f1_boiler_pipe  f1_boiler_pipe_dedup     f1_crf  f1_crf_dedup  \\\n",
        "count       99.000000             99.000000  99.000000     99.000000   \n",
        "mean         0.817513              0.787621   0.673473      0.636699   \n",
        "std          0.233986              0.238455   0.384711      0.383667   \n",
        "min          0.048338              0.048338   0.000000      0.000000   \n",
        "2%           0.053145              0.059309   0.000000      0.000000   \n",
        "5%           0.216936              0.128451   0.010484      0.010484   \n",
        "10%          0.544272              0.521438   0.021981      0.021981   \n",
        "50%          0.921590              0.884668   0.920581      0.867257   \n",
        "max          0.999251              0.997006   1.000000      1.000000   \n",
        "\n",
        "         f1_heur  f1_heur_dedup  f1_justext  f1_justext_dedup  f1_py_goose  \\\n",
        "count  99.000000      99.000000   99.000000         99.000000    99.000000   \n",
        "mean    0.812018       0.796261    0.000841          0.000841     0.877377   \n",
        "std     0.167742       0.206603    0.008365          0.008365     0.199070   \n",
        "min     0.121212       0.000000    0.000000          0.000000     0.018717   \n",
        "2%      0.382075       0.116364    0.000000          0.000000     0.151358   \n",
        "5%      0.479951       0.440688    0.000000          0.000000     0.473974   \n",
        "10%     0.570644       0.498710    0.000000          0.000000     0.639255   \n",
        "50%     0.863579       0.870370    0.000000          0.000000     0.959322   \n",
        "max     0.994072       0.992026    0.083228          0.083228     1.000000   \n",
        "\n",
        "       f1_py_goose_dedup  f1_python_readibilty  f1_python_readibilty_dedup  \n",
        "count          99.000000             99.000000                   99.000000  \n",
        "mean            0.825981              0.908275                    0.875887  \n",
        "std             0.229822              0.140192                    0.169551  \n",
        "min             0.018717              0.136364                    0.136364  \n",
        "2%              0.157747              0.384693                    0.332559  \n",
        "5%              0.327204              0.715988                    0.448127  \n",
        "10%             0.487735              0.794279                    0.702041  \n",
        "50%             0.935593              0.950276                    0.935209  \n",
        "max             1.000000              1.000000                    0.995231  \n",
        "political blogs / 125\n",
        "       precision_boiler_pipe  precision_boiler_pipe_dedup  precision_crf  \\\n",
        "count             150.000000                   150.000000     150.000000   \n",
        "mean                0.808630                     0.795844       0.641381   \n",
        "std                 0.296470                     0.298210       0.412493   \n",
        "min                 0.000000                     0.000000       0.000000   \n",
        "2%                  0.000000                     0.000000       0.000000   \n",
        "5%                  0.048684                     0.048684       0.000000   \n",
        "10%                 0.132903                     0.132903       0.009487   \n",
        "50%                 0.950062                     0.944378       0.874353   \n",
        "max                 0.997763                     0.997763       1.000000   \n",
        "\n",
        "       precision_crf_dedup  precision_heur  precision_heur_dedup  \\\n",
        "count           150.000000      150.000000            150.000000   \n",
        "mean              0.625772        0.717614              0.693932   \n",
        "std               0.413535        0.353090              0.358703   \n",
        "min               0.000000        0.000000              0.000000   \n",
        "2%                0.000000        0.000000              0.000000   \n",
        "5%                0.000000        0.000000              0.000000   \n",
        "10%               0.009487        0.009473              0.009473   \n",
        "50%               0.860201        0.899850              0.881442   \n",
        "max               1.000000        1.000000              1.000000   \n",
        "\n",
        "       precision_justext  precision_justext_dedup  precision_py_goose  \\\n",
        "count                150                      150          150.000000   \n",
        "mean                   0                        0            0.749869   \n",
        "std                    0                        0            0.306069   \n",
        "min                    0                        0            0.000000   \n",
        "2%                     0                        0            0.010151   \n",
        "5%                     0                        0            0.067140   \n",
        "10%                    0                        0            0.230209   \n",
        "50%                    0                        0            0.915775   \n",
        "max                    0                        0            1.000000   \n",
        "\n",
        "       precision_py_goose_dedup  precision_python_readibilty  \\\n",
        "count                150.000000                   150.000000   \n",
        "mean                   0.720901                     0.801395   \n",
        "std                    0.312832                     0.319389   \n",
        "min                    0.000000                     0.017241   \n",
        "2%                     0.010151                     0.026627   \n",
        "5%                     0.067140                     0.061987   \n",
        "10%                    0.229547                     0.157453   \n",
        "50%                    0.899271                     0.969975   \n",
        "max                    1.000000                     1.000000   \n",
        "\n",
        "       precision_python_readibilty_dedup  \n",
        "count                         150.000000  \n",
        "mean                            0.777637  \n",
        "std                             0.328316  \n",
        "min                             0.017241  \n",
        "2%                              0.025621  \n",
        "5%                              0.061987  \n",
        "10%                             0.157453  \n",
        "50%                             0.962845  \n",
        "max                             1.000000  "
       ]
      },
      {
       "output_type": "stream",
       "stream": "stdout",
       "text": [
        "\n",
        "       recall_boiler_pipe  recall_boiler_pipe_dedup  recall_crf  \\\n",
        "count          150.000000                150.000000  150.000000   \n",
        "mean             0.743134                  0.745082    0.708894   \n",
        "std              0.345463                  0.344873    0.393091   \n",
        "min              0.000000                  0.000000    0.000000   \n",
        "2%               0.000000                  0.000000    0.000000   \n",
        "5%               0.002235                  0.002235    0.000000   \n",
        "10%              0.009894                  0.010458    0.003908   \n",
        "50%              0.898243                  0.899259    0.952682   \n",
        "max              1.000000                  1.000000    1.000000   \n",
        "\n",
        "       recall_crf_dedup  recall_heur  recall_heur_dedup  recall_justext  \\\n",
        "count        150.000000   150.000000         150.000000             150   \n",
        "mean           0.706941     0.653424           0.664825               0   \n",
        "std            0.392424     0.380315           0.381558               0   \n",
        "min            0.000000     0.000000           0.000000               0   \n",
        "2%             0.000000     0.000000           0.000000               0   \n",
        "5%             0.000000     0.000000           0.000000               0   \n",
        "10%            0.003908     0.001473           0.001473               0   \n",
        "50%            0.949971     0.848754           0.867250               0   \n",
        "max            1.000000     1.000000           1.000000               0   \n",
        "\n",
        "       recall_justext_dedup  recall_py_goose  recall_py_goose_dedup  \\\n",
        "count                   150       150.000000             150.000000   \n",
        "mean                      0         0.849317               0.846862   \n",
        "std                       0         0.285952               0.284880   \n",
        "min                       0         0.000000               0.000000   \n",
        "2%                        0         0.027181               0.027006   \n",
        "5%                        0         0.088333               0.087198   \n",
        "10%                       0         0.370649               0.370649   \n",
        "50%                       0         0.989842               0.985538   \n",
        "max                       0         1.000000               1.000000   \n",
        "\n",
        "       recall_python_readibilty  recall_python_readibilty_dedup  \n",
        "count                150.000000                      150.000000  \n",
        "mean                   0.873464                        0.871895  \n",
        "std                    0.250492                        0.250153  \n",
        "min                    0.010406                        0.010406  \n",
        "2%                     0.029510                        0.029245  \n",
        "5%                     0.079549                        0.077441  \n",
        "10%                    0.564904                        0.564904  \n",
        "50%                    0.984074                        0.981563  \n",
        "max                    1.000000                        1.000000  \n",
        "       f1_boiler_pipe  f1_boiler_pipe_dedup      f1_crf  f1_crf_dedup  \\\n",
        "count      150.000000            150.000000  150.000000    150.000000   \n",
        "mean         0.755777              0.749765    0.648074      0.634619   \n",
        "std          0.336221              0.335680    0.408734      0.408497   \n",
        "min          0.000000              0.000000    0.000000      0.000000   \n",
        "2%           0.000000              0.000000    0.000000      0.000000   \n",
        "5%           0.004307              0.004307    0.000000      0.000000   \n",
        "10%          0.017684              0.018569    0.005550      0.005550   \n",
        "50%          0.918862              0.917011    0.901912      0.891819   \n",
        "max          0.994426              0.994426    1.000000      1.000000   \n",
        "\n",
        "          f1_heur  f1_heur_dedup  f1_justext  f1_justext_dedup  f1_py_goose  \\\n",
        "count  150.000000     150.000000         150               150   150.000000   \n",
        "mean     0.654728       0.644060           0                 0     0.763121   \n",
        "std      0.366951       0.366618           0                 0     0.306890   \n",
        "min      0.000000       0.000000           0                 0     0.000000   \n",
        "2%       0.000000       0.000000           0                 0     0.013826   \n",
        "5%       0.000000       0.000000           0                 0     0.043065   \n",
        "10%      0.002750       0.002750           0                 0     0.278314   \n",
        "50%      0.852283       0.847609           0                 0     0.943533   \n",
        "max      1.000000       1.000000           0                 0     1.000000   \n",
        "\n",
        "       f1_py_goose_dedup  f1_python_readibilty  f1_python_readibilty_dedup  \n",
        "count         150.000000            150.000000                  150.000000  \n",
        "mean            0.740813              0.801491                    0.783491  \n",
        "std             0.307510              0.310723                    0.314038  \n",
        "min             0.000000              0.013904                    0.013904  \n",
        "2%              0.016571              0.032323                    0.031808  \n",
        "5%              0.042890              0.062628                    0.062628  \n",
        "10%             0.278314              0.150998                    0.150998  \n",
        "50%             0.927018              0.962204                    0.957592  \n",
        "max             1.000000              1.000000                    1.000000  \n",
        "russian\n",
        "       precision_boiler_pipe  precision_boiler_pipe_dedup  precision_crf  \\\n",
        "count             132.000000                   132.000000     132.000000   \n",
        "mean                0.278163                     0.266661       0.669119   \n",
        "std                 0.398039                     0.385640       0.392449   \n",
        "min                 0.000000                     0.000000       0.000000   \n",
        "2%                  0.000000                     0.000000       0.000000   \n",
        "5%                  0.000000                     0.000000       0.000000   \n",
        "10%                 0.002137                     0.002137       0.013402   \n",
        "50%                 0.052051                     0.052051       0.901394   \n",
        "max                 1.000000                     1.000000       1.000000   \n",
        "\n",
        "       precision_crf_dedup  precision_heur  precision_heur_dedup  \\\n",
        "count           132.000000      132.000000            132.000000   \n",
        "mean              0.654930        0.838899              0.823536   \n",
        "std               0.385353        0.217333              0.217793   \n",
        "min               0.000000        0.007335              0.007335   \n",
        "2%                0.000000        0.138550              0.133039   \n",
        "5%                0.000000        0.338316              0.338316   \n",
        "10%               0.013402        0.464697              0.464697   \n",
        "50%               0.871645        0.911665              0.905084   \n",
        "max               1.000000        1.000000              1.000000   \n",
        "\n",
        "       precision_justext  precision_justext_dedup  precision_py_goose  \\\n",
        "count                132                      132          132.000000   \n",
        "mean                   0                        0            0.064287   \n",
        "std                    0                        0            0.092892   \n",
        "min                    0                        0            0.000000   \n",
        "2%                     0                        0            0.000655   \n",
        "5%                     0                        0            0.002284   \n",
        "10%                    0                        0            0.006494   \n",
        "50%                    0                        0            0.051879   \n",
        "max                    0                        0            0.984456   \n",
        "\n",
        "       precision_py_goose_dedup  precision_python_readibilty  \\\n",
        "count                132.000000                   132.000000   \n",
        "mean                   0.056804                     0.879228   \n",
        "std                    0.092485                     0.195558   \n",
        "min                    0.000000                     0.020725   \n",
        "2%                     0.000000                     0.057854   \n",
        "5%                     0.000000                     0.655007   \n",
        "10%                    0.000046                     0.754755   \n",
        "50%                    0.044782                     0.937048   \n",
        "max                    0.984456                     1.000000   \n",
        "\n",
        "       precision_python_readibilty_dedup  \n",
        "count                         132.000000  \n",
        "mean                            0.861651  \n",
        "std                             0.198893  \n",
        "min                             0.000000  \n",
        "2%                              0.049784  \n",
        "5%                              0.655007  \n",
        "10%                             0.707516  \n",
        "50%                             0.919873  \n",
        "max                             1.000000  "
       ]
      },
      {
       "output_type": "stream",
       "stream": "stdout",
       "text": [
        "\n",
        "       recall_boiler_pipe  recall_boiler_pipe_dedup  recall_crf  \\\n",
        "count          132.000000                132.000000  132.000000   \n",
        "mean             0.268581                  0.267980    0.765570   \n",
        "std              0.408680                  0.407316    0.341782   \n",
        "min              0.000000                  0.000000    0.000000   \n",
        "2%               0.000000                  0.000000    0.000000   \n",
        "5%               0.000000                  0.000000    0.000000   \n",
        "10%              0.001951                  0.001950    0.005567   \n",
        "50%              0.037483                  0.037483    0.916233   \n",
        "max              1.000000                  1.000000    1.000000   \n",
        "\n",
        "       recall_crf_dedup  recall_heur  recall_heur_dedup  recall_justext  \\\n",
        "count        132.000000   132.000000         132.000000             132   \n",
        "mean           0.771600     0.705341           0.739550               0   \n",
        "std            0.343368     0.306463           0.293626               0   \n",
        "min            0.000000     0.001149           0.001149               0   \n",
        "2%             0.000000     0.105401           0.108120               0   \n",
        "5%             0.000000     0.149981           0.183419               0   \n",
        "10%            0.005567     0.262858           0.288643               0   \n",
        "50%            0.922963     0.857627           0.891561               0   \n",
        "max            1.000000     1.000000           1.000000               0   \n",
        "\n",
        "       recall_justext_dedup  recall_py_goose  recall_py_goose_dedup  \\\n",
        "count                   132       132.000000             132.000000   \n",
        "mean                      0         0.847104               0.756195   \n",
        "std                       0         0.200222               0.308793   \n",
        "min                       0         0.000000               0.000000   \n",
        "2%                        0         0.270000               0.000000   \n",
        "5%                        0         0.413194               0.000000   \n",
        "10%                       0         0.666667               0.016667   \n",
        "50%                       0         0.870833               0.833333   \n",
        "max                       0         1.000000               1.000000   \n",
        "\n",
        "       recall_python_readibilty  recall_python_readibilty_dedup  \n",
        "count                132.000000                      132.000000  \n",
        "mean                   0.946567                        0.938458  \n",
        "std                    0.140640                        0.160348  \n",
        "min                    0.017037                        0.000000  \n",
        "2%                     0.498919                        0.148179  \n",
        "5%                     0.842260                        0.833039  \n",
        "10%                    0.904014                        0.896755  \n",
        "50%                    0.980456                        0.979779  \n",
        "max                    1.000000                        1.000000  \n",
        "       f1_boiler_pipe  f1_boiler_pipe_dedup      f1_crf  f1_crf_dedup  \\\n",
        "count      132.000000            132.000000  132.000000    132.000000   \n",
        "mean         0.265824              0.257528    0.678198      0.673650   \n",
        "std          0.395857              0.385881    0.378236      0.375024   \n",
        "min          0.000000              0.000000    0.000000      0.000000   \n",
        "2%           0.000000              0.000000    0.000000      0.000000   \n",
        "5%           0.000000              0.000000    0.000000      0.000000   \n",
        "10%          0.002058              0.002058    0.009988      0.009988   \n",
        "50%          0.043216              0.043216    0.893730      0.869827   \n",
        "max          1.000000              1.000000    1.000000      1.000000   \n",
        "\n",
        "          f1_heur  f1_heur_dedup  f1_justext  f1_justext_dedup  f1_py_goose  \\\n",
        "count  132.000000     132.000000         132               132   132.000000   \n",
        "mean     0.711559       0.728540           0                 0     0.110514   \n",
        "std      0.245246       0.233600           0                 0     0.109340   \n",
        "min      0.001987       0.001987           0                 0     0.000000   \n",
        "2%       0.137740       0.141627           0                 0     0.001305   \n",
        "5%       0.232203       0.256608           0                 0     0.004549   \n",
        "10%      0.382348       0.417289           0                 0     0.012888   \n",
        "50%      0.772415       0.787691           0                 0     0.098124   \n",
        "max      0.995342       0.995342           0                 0     0.987013   \n",
        "\n",
        "       f1_py_goose_dedup  f1_python_readibilty  f1_python_readibilty_dedup  \n",
        "count         132.000000            132.000000                  132.000000  \n",
        "mean            0.097229              0.899713                    0.888805  \n",
        "std             0.108745              0.184892                    0.187648  \n",
        "min             0.000000              0.024638                    0.000000  \n",
        "2%              0.000000              0.098648                    0.064059  \n",
        "5%              0.000000              0.778182                    0.777179  \n",
        "10%             0.000092              0.843508                    0.813917  \n",
        "50%             0.083835              0.944767                    0.935317  \n",
        "max             0.987013              0.998452                    0.998452  \n",
        "brazil\n",
        "       precision_boiler_pipe  precision_boiler_pipe_dedup  precision_crf  \\\n",
        "count              64.000000                    64.000000      64.000000   \n",
        "mean                0.858234                     0.844494       0.640801   \n",
        "std                 0.189901                     0.194394       0.425484   \n",
        "min                 0.027397                     0.027397       0.008310   \n",
        "2%                  0.131325                     0.119762       0.011818   \n",
        "5%                  0.481237                     0.475850       0.019811   \n",
        "10%                 0.776014                     0.698669       0.029095   \n",
        "50%                 0.871707                     0.854730       0.964305   \n",
        "max                 1.000000                     1.000000       1.000000   \n",
        "\n",
        "       precision_crf_dedup  precision_heur  precision_heur_dedup  \\\n",
        "count            64.000000       64.000000             64.000000   \n",
        "mean              0.627662        0.921082              0.881775   \n",
        "std               0.421795        0.157339              0.200319   \n",
        "min               0.008310        0.091270              0.082192   \n",
        "2%                0.011818        0.265959              0.113811   \n",
        "5%                0.019811        0.818260              0.415593   \n",
        "10%               0.029095        0.869354              0.723673   \n",
        "50%               0.939628        0.954997              0.952169   \n",
        "max               1.000000        1.000000              1.000000   \n",
        "\n",
        "       precision_justext  precision_justext_dedup  precision_py_goose  \\\n",
        "count          64.000000                64.000000           64.000000   \n",
        "mean            0.913867                 0.860021            0.623366   \n",
        "std             0.175369                 0.239834            0.364785   \n",
        "min             0.000000                 0.000000            0.000000   \n",
        "2%              0.209812                 0.082750            0.015346   \n",
        "5%              0.750332                 0.192147            0.034207   \n",
        "10%             0.799850                 0.672917            0.055043   \n",
        "50%             0.966233                 0.959452            0.723609   \n",
        "max             1.000000                 1.000000            1.000000   \n",
        "\n",
        "       precision_py_goose_dedup  precision_python_readibilty  \\\n",
        "count                 64.000000                    64.000000   \n",
        "mean                   0.592061                     0.944323   \n",
        "std                    0.371735                     0.169354   \n",
        "min                    0.000000                     0.013699   \n",
        "2%                     0.015346                     0.243044   \n",
        "5%                     0.034207                     0.881694   \n",
        "10%                    0.055043                     0.916338   \n",
        "50%                    0.681495                     0.985550   \n",
        "max                    1.000000                     1.000000   \n",
        "\n",
        "       precision_python_readibilty_dedup  \n",
        "count                          64.000000  \n",
        "mean                            0.908226  \n",
        "std                             0.205315  \n",
        "min                             0.013699  \n",
        "2%                              0.082617  \n",
        "5%                              0.446197  \n",
        "10%                             0.807448  \n",
        "50%                             0.978789  \n",
        "max                             1.000000  "
       ]
      },
      {
       "output_type": "stream",
       "stream": "stdout",
       "text": [
        "\n",
        "       recall_boiler_pipe  recall_boiler_pipe_dedup  recall_crf  \\\n",
        "count           64.000000                 64.000000   64.000000   \n",
        "mean             0.759954                  0.760211    0.804152   \n",
        "std              0.195588                  0.195876    0.328439   \n",
        "min              0.013825                  0.009615    0.013776   \n",
        "2%               0.129868                  0.129868    0.052758   \n",
        "5%               0.408917                  0.408103    0.065276   \n",
        "10%              0.566571                  0.566256    0.117283   \n",
        "50%              0.783604                  0.785395    0.974357   \n",
        "max              0.985185                  0.985185    1.000000   \n",
        "\n",
        "       recall_crf_dedup  recall_heur  recall_heur_dedup  recall_justext  \\\n",
        "count         64.000000    64.000000          64.000000       64.000000   \n",
        "mean           0.801989     0.792804           0.809035        0.842832   \n",
        "std            0.329053     0.236708           0.242169        0.233907   \n",
        "min            0.013776     0.014867           0.014867        0.000000   \n",
        "2%             0.052758     0.091256           0.081499        0.155950   \n",
        "5%             0.065276     0.331228           0.336259        0.250139   \n",
        "10%            0.117283     0.453024           0.432378        0.536287   \n",
        "50%            0.975939     0.881075           0.907299        0.925042   \n",
        "max            1.000000     1.000000           1.000000        1.000000   \n",
        "\n",
        "       recall_justext_dedup  recall_py_goose  recall_py_goose_dedup  \\\n",
        "count             64.000000        64.000000              64.000000   \n",
        "mean               0.865951         0.930970               0.932529   \n",
        "std                0.233473         0.204581               0.197790   \n",
        "min                0.000000         0.000000               0.000000   \n",
        "2%                 0.157187         0.097638               0.132738   \n",
        "5%                 0.249883         0.513809               0.513809   \n",
        "10%                0.559345         0.908234               0.908234   \n",
        "50%                0.976033         1.000000               1.000000   \n",
        "max                1.000000         1.000000               1.000000   \n",
        "\n",
        "       recall_python_readibilty  recall_python_readibilty_dedup  \n",
        "count                 64.000000                       64.000000  \n",
        "mean                   0.943719                        0.939651  \n",
        "std                    0.173831                        0.174749  \n",
        "min                    0.014151                        0.009852  \n",
        "2%                     0.208065                        0.208065  \n",
        "5%                     0.833146                        0.804341  \n",
        "10%                    0.903036                        0.884827  \n",
        "50%                    0.992363                        0.991912  \n",
        "max                    1.000000                        1.000000  \n",
        "       f1_boiler_pipe  f1_boiler_pipe_dedup     f1_crf  f1_crf_dedup  \\\n",
        "count       64.000000             64.000000  64.000000     64.000000   \n",
        "mean         0.798388              0.791648   0.659953      0.651538   \n",
        "std          0.187298              0.187892   0.402521      0.400905   \n",
        "min          0.021352              0.014706   0.014634      0.014634   \n",
        "2%           0.152014              0.152014   0.020009      0.020009   \n",
        "5%           0.547532              0.547532   0.031459      0.031459   \n",
        "10%          0.588911              0.588253   0.041568      0.041568   \n",
        "50%          0.818118              0.812821   0.935484      0.919892   \n",
        "max          0.991304              0.991304   1.000000      1.000000   \n",
        "\n",
        "         f1_heur  f1_heur_dedup  f1_justext  f1_justext_dedup  f1_py_goose  \\\n",
        "count  64.000000      64.000000   64.000000         64.000000    64.000000   \n",
        "mean    0.837363       0.825230    0.861291          0.834980     0.684902   \n",
        "std     0.197378       0.215872    0.208155          0.240727     0.337290   \n",
        "min     0.025570       0.025570    0.000000          0.000000     0.000000   \n",
        "2%      0.138808       0.114955    0.122182          0.122182     0.025959   \n",
        "5%      0.490550       0.329506    0.354667          0.303643     0.060943   \n",
        "10%     0.612152       0.566691    0.674313          0.389407     0.104293   \n",
        "50%     0.902543       0.898736    0.933713          0.926327     0.834843   \n",
        "max     0.991525       1.000000    0.998405          1.000000     1.000000   \n",
        "\n",
        "       f1_py_goose_dedup  f1_python_readibilty  f1_python_readibilty_dedup  \n",
        "count          64.000000             64.000000                   64.000000  \n",
        "mean            0.655808              0.942780                    0.918334  \n",
        "std             0.344247              0.169812                    0.191364  \n",
        "min             0.000000              0.017857                    0.014981  \n",
        "2%              0.025959              0.235034                    0.105583  \n",
        "5%              0.063205              0.891597                    0.594856  \n",
        "10%             0.104293              0.923784                    0.855390  \n",
        "50%             0.799386              0.982757                    0.980384  \n",
        "max             1.000000              1.000000                    1.000000  \n",
        "arabic\n",
        "       precision_boiler_pipe  precision_boiler_pipe_dedup  precision_crf  \\\n",
        "count             115.000000                   115.000000     115.000000   \n",
        "mean                0.550382                     0.534060       0.748113   \n",
        "std                 0.432885                     0.431223       0.340768   \n",
        "min                 0.000000                     0.000000       0.000000   \n",
        "2%                  0.000000                     0.000000       0.000000   \n",
        "5%                  0.015721                     0.015721       0.005757   \n",
        "10%                 0.029879                     0.029879       0.108205   \n",
        "50%                 0.774648                     0.666667       0.928571   \n",
        "max                 1.000000                     1.000000       1.000000   \n",
        "\n",
        "       precision_crf_dedup  precision_heur  precision_heur_dedup  \\\n",
        "count           115.000000      115.000000            115.000000   \n",
        "mean              0.722024        0.793925              0.768945   \n",
        "std               0.346109        0.264704              0.277668   \n",
        "min               0.000000        0.000000              0.000000   \n",
        "2%                0.000000        0.000000              0.000000   \n",
        "5%                0.005757        0.029004              0.029004   \n",
        "10%               0.108205        0.447289              0.349116   \n",
        "50%               0.920705        0.890909              0.887500   \n",
        "max               1.000000        1.000000              1.000000   \n",
        "\n",
        "       precision_justext  precision_justext_dedup  precision_py_goose  \\\n",
        "count                115                      115          115.000000   \n",
        "mean                   0                        0            0.088912   \n",
        "std                    0                        0            0.147271   \n",
        "min                    0                        0            0.000000   \n",
        "2%                     0                        0            0.000000   \n",
        "5%                     0                        0            0.000000   \n",
        "10%                    0                        0            0.008700   \n",
        "50%                    0                        0            0.058824   \n",
        "max                    0                        0            1.000000   \n",
        "\n",
        "       precision_py_goose_dedup  precision_python_readibilty  \\\n",
        "count                115.000000                   115.000000   \n",
        "mean                   0.071739                     0.827497   \n",
        "std                    0.121659                     0.257071   \n",
        "min                    0.000000                     0.009804   \n",
        "2%                     0.000000                     0.041202   \n",
        "5%                     0.000000                     0.092583   \n",
        "10%                    0.000000                     0.485242   \n",
        "50%                    0.052356                     0.921569   \n",
        "max                    0.966667                     1.000000   \n",
        "\n",
        "       precision_python_readibilty_dedup  \n",
        "count                         115.000000  \n",
        "mean                            0.803256  \n",
        "std                             0.277085  \n",
        "min                             0.000000  \n",
        "2%                              0.002745  \n",
        "5%                              0.046153  \n",
        "10%                             0.335902  \n",
        "50%                             0.908046  \n",
        "max                             1.000000  "
       ]
      },
      {
       "output_type": "stream",
       "stream": "stdout",
       "text": [
        "\n",
        "       recall_boiler_pipe  recall_boiler_pipe_dedup  recall_crf  \\\n",
        "count          115.000000                115.000000  115.000000   \n",
        "mean             0.542324                  0.539248    0.717619   \n",
        "std              0.432057                  0.430224    0.355887   \n",
        "min              0.000000                  0.000000    0.000000   \n",
        "2%               0.000000                  0.000000    0.000000   \n",
        "5%               0.006739                  0.006739    0.007671   \n",
        "10%              0.022986                  0.022986    0.061818   \n",
        "50%              0.788889                  0.750000    0.917241   \n",
        "max              1.000000                  1.000000    1.000000   \n",
        "\n",
        "       recall_crf_dedup  recall_heur  recall_heur_dedup  recall_justext  \\\n",
        "count        115.000000   115.000000         115.000000             115   \n",
        "mean           0.717286     0.725388           0.732798               0   \n",
        "std            0.355735     0.319840           0.322966               0   \n",
        "min            0.000000     0.000000           0.000000               0   \n",
        "2%             0.000000     0.000000           0.000000               0   \n",
        "5%             0.007748     0.002547           0.002547               0   \n",
        "10%            0.061818     0.202704           0.202704               0   \n",
        "50%            0.898551     0.853659           0.873937               0   \n",
        "max            1.000000     1.000000           1.000000               0   \n",
        "\n",
        "       recall_justext_dedup  recall_py_goose  recall_py_goose_dedup  \\\n",
        "count                   115       115.000000             115.000000   \n",
        "mean                      0         0.888254               0.783906   \n",
        "std                       0         0.269822               0.378890   \n",
        "min                       0         0.000000               0.000000   \n",
        "2%                        0         0.000000               0.000000   \n",
        "5%                        0         0.000000               0.000000   \n",
        "10%                       0         0.736364               0.000000   \n",
        "50%                       0         1.000000               1.000000   \n",
        "max                       0         1.000000               1.000000   \n",
        "\n",
        "       recall_python_readibilty  recall_python_readibilty_dedup  \n",
        "count                115.000000                      115.000000  \n",
        "mean                   0.922066                        0.894928  \n",
        "std                    0.155720                        0.213951  \n",
        "min                    0.166163                        0.000000  \n",
        "2%                     0.283704                        0.046526  \n",
        "5%                     0.596727                        0.334259  \n",
        "10%                    0.850014                        0.697761  \n",
        "50%                    0.980000                        0.975758  \n",
        "max                    1.000000                        1.000000  \n",
        "       f1_boiler_pipe  f1_boiler_pipe_dedup      f1_crf  f1_crf_dedup  \\\n",
        "count      115.000000            115.000000  115.000000    115.000000   \n",
        "mean         0.534564              0.521010    0.680689      0.661893   \n",
        "std          0.423614              0.420172    0.340513      0.338044   \n",
        "min          0.000000              0.000000    0.000000      0.000000   \n",
        "2%           0.000000              0.000000    0.000000      0.000000   \n",
        "5%           0.010163              0.010163    0.003317      0.003317   \n",
        "10%          0.024127              0.024127    0.083413      0.083413   \n",
        "50%          0.784314              0.697436    0.850608      0.802508   \n",
        "max          1.000000              1.000000    1.000000      1.000000   \n",
        "\n",
        "          f1_heur  f1_heur_dedup  f1_justext  f1_justext_dedup  f1_py_goose  \\\n",
        "count  115.000000     115.000000         115               115   115.000000   \n",
        "mean     0.728949       0.713090           0                 0     0.141582   \n",
        "std      0.283942       0.284085           0                 0     0.154797   \n",
        "min      0.000000       0.000000           0                 0     0.000000   \n",
        "2%       0.000000       0.000000           0                 0     0.000000   \n",
        "5%       0.004565       0.004565           0                 0     0.000000   \n",
        "10%      0.282105       0.288369           0                 0     0.015940   \n",
        "50%      0.848485       0.833333           0                 0     0.110236   \n",
        "max      1.000000       1.000000           0                 0     1.000000   \n",
        "\n",
        "       f1_py_goose_dedup  f1_python_readibilty  f1_python_readibilty_dedup  \n",
        "count         115.000000            115.000000                  115.000000  \n",
        "mean            0.117526              0.836696                    0.815847  \n",
        "std             0.136394              0.242553                    0.263405  \n",
        "min             0.000000              0.018868                    0.000000  \n",
        "2%              0.000000              0.078937                    0.005283  \n",
        "5%              0.000000              0.169412                    0.087792  \n",
        "10%             0.000000              0.427273                    0.410297  \n",
        "50%             0.099502              0.932476                    0.930320  \n",
        "max             0.929487              1.000000                    1.000000  \n"
       ]
      }
     ],
     "prompt_number": 42
    },
    {
     "cell_type": "heading",
     "level": 2,
     "metadata": {},
     "source": [
      "Results Overall"
     ]
    },
    {
     "cell_type": "code",
     "collapsed": false,
     "input": [
      "df = get_data_frame_from_comparision_objects( comps_downloads )\n",
      "print_results_by_measurement_type( df )\n",
      "#df.describe()\n"
     ],
     "language": "python",
     "metadata": {},
     "outputs": [
      {
       "output_type": "stream",
       "stream": "stdout",
       "text": [
        "       precision_boiler_pipe  precision_boiler_pipe_dedup  precision_crf  \\\n",
        "count             687.000000                   687.000000     687.000000   \n",
        "mean                0.689635                     0.665431       0.669761   \n",
        "std                 0.397412                     0.393682       0.393491   \n",
        "min                 0.000000                     0.000000       0.000000   \n",
        "2%                  0.000000                     0.000000       0.000000   \n",
        "5%                  0.005448                     0.005448       0.000000   \n",
        "10%                 0.030255                     0.030255       0.014857   \n",
        "50%                 0.935294                     0.904762       0.905759   \n",
        "max                 1.000000                     1.000000       1.000000   \n",
        "\n",
        "       precision_crf_dedup  precision_heur  precision_heur_dedup  \\\n",
        "count           687.000000      687.000000            687.000000   \n",
        "mean              0.644502        0.817700              0.784613   \n",
        "std               0.391241        0.254347              0.272083   \n",
        "min               0.000000        0.000000              0.000000   \n",
        "2%                0.000000        0.000000              0.000000   \n",
        "5%                0.000000        0.040371              0.033472   \n",
        "10%               0.014857        0.442017              0.317092   \n",
        "50%               0.877049        0.909483              0.897119   \n",
        "max               1.000000        1.000000              1.000000   \n",
        "\n",
        "       precision_justext  precision_justext_dedup  precision_py_goose  \\\n",
        "count         687.000000               687.000000          687.000000   \n",
        "mean            0.118473                 0.111151            0.522507   \n",
        "std             0.313716                 0.301473            0.417263   \n",
        "min             0.000000                 0.000000            0.000000   \n",
        "2%              0.000000                 0.000000            0.001667   \n",
        "5%              0.000000                 0.000000            0.008614   \n",
        "10%             0.000000                 0.000000            0.023419   \n",
        "50%             0.000000                 0.000000            0.675489   \n",
        "max             1.000000                 1.000000            1.000000   \n",
        "\n",
        "       precision_py_goose_dedup  precision_python_readibilty  \\\n",
        "count                687.000000                   687.000000   \n",
        "mean                   0.486315                     0.873355   \n",
        "std                    0.408867                     0.226674   \n",
        "min                    0.000000                     0.009804   \n",
        "2%                     0.000000                     0.046206   \n",
        "5%                     0.000000                     0.163821   \n",
        "10%                    0.010534                     0.676398   \n",
        "50%                    0.464539                     0.956164   \n",
        "max                    1.000000                     1.000000   \n",
        "\n",
        "       precision_python_readibilty_dedup  \n",
        "count                         687.000000  \n",
        "mean                            0.841981  \n",
        "std                             0.245887  \n",
        "min                             0.000000  \n",
        "2%                              0.035418  \n",
        "5%                              0.163821  \n",
        "10%                             0.430795  \n",
        "50%                             0.939645  \n",
        "max                             1.000000  \n",
        "       recall_boiler_pipe  recall_boiler_pipe_dedup  recall_crf  \\\n",
        "count          687.000000                687.000000  687.000000   \n",
        "mean             0.649079                  0.647208    0.720667   \n",
        "std              0.394750                  0.393313    0.377198   \n",
        "min              0.000000                  0.000000    0.000000   \n",
        "2%               0.000000                  0.000000    0.000000   \n",
        "5%               0.003329                  0.003329    0.000000   \n",
        "10%              0.019274                  0.019274    0.017140   \n",
        "50%              0.879121                  0.876506    0.941880   \n",
        "max              1.000000                  1.000000    1.000000   \n",
        "\n",
        "       recall_crf_dedup  recall_heur  recall_heur_dedup  recall_justext  \\\n",
        "count        687.000000   687.000000         687.000000      687.000000   \n",
        "mean           0.719961     0.721670           0.739013        0.108403   \n",
        "std            0.377738     0.312904           0.314666        0.294657   \n",
        "min            0.000000     0.000000           0.000000        0.000000   \n",
        "2%             0.000000     0.000000           0.000000        0.000000   \n",
        "5%             0.000000     0.010624           0.006405        0.000000   \n",
        "10%            0.016458     0.165214           0.177042        0.000000   \n",
        "50%            0.944444     0.858434           0.888350        0.000000   \n",
        "max            1.000000     1.000000           1.000000        1.000000   \n",
        "\n",
        "       recall_justext_dedup  recall_py_goose  recall_py_goose_dedup  \\\n",
        "count            687.000000       687.000000             687.000000   \n",
        "mean               0.108560         0.894465               0.854837   \n",
        "std                0.297437         0.228182               0.282309   \n",
        "min                0.000000         0.000000               0.000000   \n",
        "2%                 0.000000         0.028476               0.000000   \n",
        "5%                 0.000000         0.333333               0.000000   \n",
        "10%                0.000000         0.639121               0.377256   \n",
        "50%                0.000000         1.000000               0.991826   \n",
        "max                1.000000         1.000000               1.000000   \n",
        "\n",
        "       recall_python_readibilty  recall_python_readibilty_dedup  \n",
        "count                687.000000                      687.000000  \n",
        "mean                   0.922502                        0.915542  \n",
        "std                    0.175154                        0.187990  \n",
        "min                    0.010406                        0.000000  \n",
        "2%                     0.118531                        0.064418  \n",
        "5%                     0.578222                        0.502143  \n",
        "10%                    0.844415                        0.836963  \n",
        "50%                    0.978705                        0.977444  \n",
        "max                    1.000000                        1.000000  \n",
        "       f1_boiler_pipe  f1_boiler_pipe_dedup      f1_crf  f1_crf_dedup  \\\n",
        "count      687.000000            687.000000  687.000000    687.000000   \n",
        "mean         0.652484              0.637384    0.651574      0.634757   \n",
        "std          0.393399              0.389051    0.388567      0.385617   \n",
        "min          0.000000              0.000000    0.000000      0.000000   \n",
        "2%           0.000000              0.000000    0.000000      0.000000   \n",
        "5%           0.004018              0.004018    0.000000      0.000000   \n",
        "10%          0.021375              0.021345    0.016484      0.016000   \n",
        "50%          0.884436              0.838757    0.890000      0.856201   \n",
        "max          1.000000              1.000000    1.000000      1.000000   \n",
        "\n",
        "          f1_heur  f1_heur_dedup  f1_justext  f1_justext_dedup  f1_py_goose  \\\n",
        "count  687.000000     687.000000  687.000000        687.000000   687.000000   \n",
        "mean     0.734740       0.724557    0.108470          0.104978     0.556233   \n",
        "std      0.282770       0.287170    0.294155          0.288886     0.405170   \n",
        "min      0.000000       0.000000    0.000000          0.000000     0.000000   \n",
        "2%       0.000000       0.000000    0.000000          0.000000     0.003325   \n",
        "5%       0.016655       0.010862    0.000000          0.000000     0.015302   \n",
        "10%      0.257099       0.242150    0.000000          0.000000     0.045547   \n",
        "50%      0.857143       0.848372    0.000000          0.000000     0.691622   \n",
        "max      1.000000       1.000000    0.999634          1.000000     1.000000   \n",
        "\n",
        "       f1_py_goose_dedup  f1_python_readibilty  f1_python_readibilty_dedup  \n",
        "count         687.000000            687.000000                  687.000000  \n",
        "mean            0.526198              0.878356                    0.856935  \n",
        "std             0.401875              0.219600                    0.232579  \n",
        "min             0.000000              0.013904                    0.000000  \n",
        "2%              0.000000              0.065623                    0.042903  \n",
        "5%              0.000000              0.186532                    0.157059  \n",
        "10%             0.020443              0.711379                    0.547838  \n",
        "50%             0.550661              0.953445                    0.944444  \n",
        "max             1.000000              1.000000                    1.000000  \n"
       ]
      }
     ],
     "prompt_number": 43
    },
    {
     "cell_type": "code",
     "collapsed": false,
     "input": [
      "df.describe()"
     ],
     "language": "python",
     "metadata": {},
     "outputs": [
      {
       "html": [
        "<div style=\"max-height:1000px;max-width:1500px;overflow:auto;\">\n",
        "<table border=\"1\" class=\"dataframe\">\n",
        "  <thead>\n",
        "    <tr style=\"text-align: right;\">\n",
        "      <th></th>\n",
        "      <th>f1_boiler_pipe</th>\n",
        "      <th>f1_boiler_pipe_dedup</th>\n",
        "      <th>f1_crf</th>\n",
        "      <th>f1_crf_dedup</th>\n",
        "      <th>f1_heur</th>\n",
        "      <th>f1_heur_dedup</th>\n",
        "      <th>f1_justext</th>\n",
        "      <th>f1_justext_dedup</th>\n",
        "      <th>f1_py_goose</th>\n",
        "      <th>f1_py_goose_dedup</th>\n",
        "      <th>...</th>\n",
        "      <th>recall_crf</th>\n",
        "      <th>recall_crf_dedup</th>\n",
        "      <th>recall_heur</th>\n",
        "      <th>recall_heur_dedup</th>\n",
        "      <th>recall_justext</th>\n",
        "      <th>recall_justext_dedup</th>\n",
        "      <th>recall_py_goose</th>\n",
        "      <th>recall_py_goose_dedup</th>\n",
        "      <th>recall_python_readibilty</th>\n",
        "      <th>recall_python_readibilty_dedup</th>\n",
        "    </tr>\n",
        "  </thead>\n",
        "  <tbody>\n",
        "    <tr>\n",
        "      <th>count</th>\n",
        "      <td> 687.000000</td>\n",
        "      <td> 687.000000</td>\n",
        "      <td> 687.000000</td>\n",
        "      <td> 687.000000</td>\n",
        "      <td> 687.000000</td>\n",
        "      <td> 687.000000</td>\n",
        "      <td> 687.000000</td>\n",
        "      <td> 687.000000</td>\n",
        "      <td> 687.000000</td>\n",
        "      <td> 687.000000</td>\n",
        "      <td>...</td>\n",
        "      <td> 687.000000</td>\n",
        "      <td> 687.000000</td>\n",
        "      <td> 687.000000</td>\n",
        "      <td> 687.000000</td>\n",
        "      <td> 687.000000</td>\n",
        "      <td> 687.000000</td>\n",
        "      <td> 687.000000</td>\n",
        "      <td> 687.000000</td>\n",
        "      <td> 687.000000</td>\n",
        "      <td> 687.000000</td>\n",
        "    </tr>\n",
        "    <tr>\n",
        "      <th>mean</th>\n",
        "      <td>   0.652484</td>\n",
        "      <td>   0.637384</td>\n",
        "      <td>   0.651574</td>\n",
        "      <td>   0.634757</td>\n",
        "      <td>   0.734740</td>\n",
        "      <td>   0.724557</td>\n",
        "      <td>   0.108470</td>\n",
        "      <td>   0.104978</td>\n",
        "      <td>   0.556233</td>\n",
        "      <td>   0.526198</td>\n",
        "      <td>...</td>\n",
        "      <td>   0.720667</td>\n",
        "      <td>   0.719961</td>\n",
        "      <td>   0.721670</td>\n",
        "      <td>   0.739013</td>\n",
        "      <td>   0.108403</td>\n",
        "      <td>   0.108560</td>\n",
        "      <td>   0.894465</td>\n",
        "      <td>   0.854837</td>\n",
        "      <td>   0.922502</td>\n",
        "      <td>   0.915542</td>\n",
        "    </tr>\n",
        "    <tr>\n",
        "      <th>std</th>\n",
        "      <td>   0.393399</td>\n",
        "      <td>   0.389051</td>\n",
        "      <td>   0.388567</td>\n",
        "      <td>   0.385617</td>\n",
        "      <td>   0.282770</td>\n",
        "      <td>   0.287170</td>\n",
        "      <td>   0.294155</td>\n",
        "      <td>   0.288886</td>\n",
        "      <td>   0.405170</td>\n",
        "      <td>   0.401875</td>\n",
        "      <td>...</td>\n",
        "      <td>   0.377198</td>\n",
        "      <td>   0.377738</td>\n",
        "      <td>   0.312904</td>\n",
        "      <td>   0.314666</td>\n",
        "      <td>   0.294657</td>\n",
        "      <td>   0.297437</td>\n",
        "      <td>   0.228182</td>\n",
        "      <td>   0.282309</td>\n",
        "      <td>   0.175154</td>\n",
        "      <td>   0.187990</td>\n",
        "    </tr>\n",
        "    <tr>\n",
        "      <th>min</th>\n",
        "      <td>   0.000000</td>\n",
        "      <td>   0.000000</td>\n",
        "      <td>   0.000000</td>\n",
        "      <td>   0.000000</td>\n",
        "      <td>   0.000000</td>\n",
        "      <td>   0.000000</td>\n",
        "      <td>   0.000000</td>\n",
        "      <td>   0.000000</td>\n",
        "      <td>   0.000000</td>\n",
        "      <td>   0.000000</td>\n",
        "      <td>...</td>\n",
        "      <td>   0.000000</td>\n",
        "      <td>   0.000000</td>\n",
        "      <td>   0.000000</td>\n",
        "      <td>   0.000000</td>\n",
        "      <td>   0.000000</td>\n",
        "      <td>   0.000000</td>\n",
        "      <td>   0.000000</td>\n",
        "      <td>   0.000000</td>\n",
        "      <td>   0.010406</td>\n",
        "      <td>   0.000000</td>\n",
        "    </tr>\n",
        "    <tr>\n",
        "      <th>25%</th>\n",
        "      <td>   0.132269</td>\n",
        "      <td>   0.131812</td>\n",
        "      <td>   0.240433</td>\n",
        "      <td>   0.231375</td>\n",
        "      <td>   0.610730</td>\n",
        "      <td>   0.587820</td>\n",
        "      <td>   0.000000</td>\n",
        "      <td>   0.000000</td>\n",
        "      <td>   0.113780</td>\n",
        "      <td>   0.103935</td>\n",
        "      <td>...</td>\n",
        "      <td>   0.491909</td>\n",
        "      <td>   0.473873</td>\n",
        "      <td>   0.517667</td>\n",
        "      <td>   0.555136</td>\n",
        "      <td>   0.000000</td>\n",
        "      <td>   0.000000</td>\n",
        "      <td>   0.935749</td>\n",
        "      <td>   0.857143</td>\n",
        "      <td>   0.936718</td>\n",
        "      <td>   0.932358</td>\n",
        "    </tr>\n",
        "    <tr>\n",
        "      <th>50%</th>\n",
        "      <td>   0.884436</td>\n",
        "      <td>   0.838757</td>\n",
        "      <td>   0.890000</td>\n",
        "      <td>   0.856201</td>\n",
        "      <td>   0.857143</td>\n",
        "      <td>   0.848372</td>\n",
        "      <td>   0.000000</td>\n",
        "      <td>   0.000000</td>\n",
        "      <td>   0.691622</td>\n",
        "      <td>   0.550661</td>\n",
        "      <td>...</td>\n",
        "      <td>   0.941880</td>\n",
        "      <td>   0.944444</td>\n",
        "      <td>   0.858434</td>\n",
        "      <td>   0.888350</td>\n",
        "      <td>   0.000000</td>\n",
        "      <td>   0.000000</td>\n",
        "      <td>   1.000000</td>\n",
        "      <td>   0.991826</td>\n",
        "      <td>   0.978705</td>\n",
        "      <td>   0.977444</td>\n",
        "    </tr>\n",
        "    <tr>\n",
        "      <th>75%</th>\n",
        "      <td>   0.963293</td>\n",
        "      <td>   0.958494</td>\n",
        "      <td>   0.966551</td>\n",
        "      <td>   0.961617</td>\n",
        "      <td>   0.936440</td>\n",
        "      <td>   0.936108</td>\n",
        "      <td>   0.000000</td>\n",
        "      <td>   0.000000</td>\n",
        "      <td>   0.963942</td>\n",
        "      <td>   0.954102</td>\n",
        "      <td>...</td>\n",
        "      <td>   1.000000</td>\n",
        "      <td>   0.997598</td>\n",
        "      <td>   0.972862</td>\n",
        "      <td>   0.990056</td>\n",
        "      <td>   0.000000</td>\n",
        "      <td>   0.000000</td>\n",
        "      <td>   1.000000</td>\n",
        "      <td>   1.000000</td>\n",
        "      <td>   1.000000</td>\n",
        "      <td>   0.997279</td>\n",
        "    </tr>\n",
        "    <tr>\n",
        "      <th>max</th>\n",
        "      <td>   1.000000</td>\n",
        "      <td>   1.000000</td>\n",
        "      <td>   1.000000</td>\n",
        "      <td>   1.000000</td>\n",
        "      <td>   1.000000</td>\n",
        "      <td>   1.000000</td>\n",
        "      <td>   0.999634</td>\n",
        "      <td>   1.000000</td>\n",
        "      <td>   1.000000</td>\n",
        "      <td>   1.000000</td>\n",
        "      <td>...</td>\n",
        "      <td>   1.000000</td>\n",
        "      <td>   1.000000</td>\n",
        "      <td>   1.000000</td>\n",
        "      <td>   1.000000</td>\n",
        "      <td>   1.000000</td>\n",
        "      <td>   1.000000</td>\n",
        "      <td>   1.000000</td>\n",
        "      <td>   1.000000</td>\n",
        "      <td>   1.000000</td>\n",
        "      <td>   1.000000</td>\n",
        "    </tr>\n",
        "  </tbody>\n",
        "</table>\n",
        "<p>8 rows \u00d7 36 columns</p>\n",
        "</div>"
       ],
       "metadata": {},
       "output_type": "pyout",
       "prompt_number": 44,
       "text": [
        "       f1_boiler_pipe  f1_boiler_pipe_dedup      f1_crf  f1_crf_dedup  \\\n",
        "count      687.000000            687.000000  687.000000    687.000000   \n",
        "mean         0.652484              0.637384    0.651574      0.634757   \n",
        "std          0.393399              0.389051    0.388567      0.385617   \n",
        "min          0.000000              0.000000    0.000000      0.000000   \n",
        "25%          0.132269              0.131812    0.240433      0.231375   \n",
        "50%          0.884436              0.838757    0.890000      0.856201   \n",
        "75%          0.963293              0.958494    0.966551      0.961617   \n",
        "max          1.000000              1.000000    1.000000      1.000000   \n",
        "\n",
        "          f1_heur  f1_heur_dedup  f1_justext  f1_justext_dedup  f1_py_goose  \\\n",
        "count  687.000000     687.000000  687.000000        687.000000   687.000000   \n",
        "mean     0.734740       0.724557    0.108470          0.104978     0.556233   \n",
        "std      0.282770       0.287170    0.294155          0.288886     0.405170   \n",
        "min      0.000000       0.000000    0.000000          0.000000     0.000000   \n",
        "25%      0.610730       0.587820    0.000000          0.000000     0.113780   \n",
        "50%      0.857143       0.848372    0.000000          0.000000     0.691622   \n",
        "75%      0.936440       0.936108    0.000000          0.000000     0.963942   \n",
        "max      1.000000       1.000000    0.999634          1.000000     1.000000   \n",
        "\n",
        "       f1_py_goose_dedup        ...          recall_crf  recall_crf_dedup  \\\n",
        "count         687.000000        ...          687.000000        687.000000   \n",
        "mean            0.526198        ...            0.720667          0.719961   \n",
        "std             0.401875        ...            0.377198          0.377738   \n",
        "min             0.000000        ...            0.000000          0.000000   \n",
        "25%             0.103935        ...            0.491909          0.473873   \n",
        "50%             0.550661        ...            0.941880          0.944444   \n",
        "75%             0.954102        ...            1.000000          0.997598   \n",
        "max             1.000000        ...            1.000000          1.000000   \n",
        "\n",
        "       recall_heur  recall_heur_dedup  recall_justext  recall_justext_dedup  \\\n",
        "count   687.000000         687.000000      687.000000            687.000000   \n",
        "mean      0.721670           0.739013        0.108403              0.108560   \n",
        "std       0.312904           0.314666        0.294657              0.297437   \n",
        "min       0.000000           0.000000        0.000000              0.000000   \n",
        "25%       0.517667           0.555136        0.000000              0.000000   \n",
        "50%       0.858434           0.888350        0.000000              0.000000   \n",
        "75%       0.972862           0.990056        0.000000              0.000000   \n",
        "max       1.000000           1.000000        1.000000              1.000000   \n",
        "\n",
        "       recall_py_goose  recall_py_goose_dedup  recall_python_readibilty  \\\n",
        "count       687.000000             687.000000                687.000000   \n",
        "mean          0.894465               0.854837                  0.922502   \n",
        "std           0.228182               0.282309                  0.175154   \n",
        "min           0.000000               0.000000                  0.010406   \n",
        "25%           0.935749               0.857143                  0.936718   \n",
        "50%           1.000000               0.991826                  0.978705   \n",
        "75%           1.000000               1.000000                  1.000000   \n",
        "max           1.000000               1.000000                  1.000000   \n",
        "\n",
        "       recall_python_readibilty_dedup  \n",
        "count                      687.000000  \n",
        "mean                         0.915542  \n",
        "std                          0.187990  \n",
        "min                          0.000000  \n",
        "25%                          0.932358  \n",
        "50%                          0.977444  \n",
        "75%                          0.997279  \n",
        "max                          1.000000  \n",
        "\n",
        "[8 rows x 36 columns]"
       ]
      }
     ],
     "prompt_number": 44
    }
   ],
   "metadata": {}
  }
 ]
}