{
 "metadata": {
  "name": "",
  "signature": "sha256:e6196607dd61c04b365dcdf3394745636fe47d3eacdb8cc3057303b0c60176d3"
 },
 "nbformat": 3,
 "nbformat_minor": 0,
 "worksheets": [
  {
   "cells": [
    {
     "cell_type": "markdown",
     "metadata": {},
     "source": [
      "This notebook is intended enable testing and evaluation of various extractor methods such as:\n",
      "\n",
      "* Heuristic Extractor\n",
      "* CRF Extractor\n",
      "* boilerpipe\n"
     ]
    },
    {
     "cell_type": "code",
     "collapsed": false,
     "input": [
      "import cPickle\n",
      "import os.path\n",
      "\n",
      "api_key = cPickle.load( file( os.path.expanduser( '~/mediacloud_api_key.pickle' ), 'r' ) )"
     ],
     "language": "python",
     "metadata": {},
     "outputs": [],
     "prompt_number": 1
    },
    {
     "cell_type": "code",
     "collapsed": false,
     "input": [
      "import cPickle\n",
      "import os.path\n",
      "\n",
      "cPickle.dump( api_key, file( os.path.expanduser( '~/mediacloud_api_key.pickle' ), 'wb' ) )"
     ],
     "language": "python",
     "metadata": {},
     "outputs": [],
     "prompt_number": 2
    },
    {
     "cell_type": "code",
     "collapsed": false,
     "input": [
      "import sys\n",
      "sys.path.append('../../foreign_modules/python/')"
     ],
     "language": "python",
     "metadata": {},
     "outputs": [],
     "prompt_number": 3
    },
    {
     "cell_type": "code",
     "collapsed": false,
     "input": [
      "loc_key = 'f66a50230d54afaf18822808aed649f1d6ca72b08fb06d5efb6247afe9fbae52'"
     ],
     "language": "python",
     "metadata": {},
     "outputs": [],
     "prompt_number": 4
    },
    {
     "cell_type": "code",
     "collapsed": false,
     "input": [
      "import mediacloud, requests, csv, sys, os, json, cPickle\n",
      "\n",
      "def get_download( downloads_id ):\n",
      "    download = requests.get('https://api.mediacloud.org/api/v2/downloads/single/'+str(downloads_id)+'?key='+api_key)\n",
      "    return download.json()[0]\n",
      "\n",
      "def extract_story( preprocessed_lines, title, description, extractor_method ):\n",
      "    extract_params = {'key':loc_key, 'preprocessed_lines':preprocessed_lines, \n",
      "                           'story_title':title, 'story_description':description, 'extractor_method': extractor_method}\n",
      "    \n",
      "    extract_result = requests.put('http://0:3000/api/v2/extractlines/extract',data=json.dumps(extract_params), \n",
      "                                headers = {'Content-type': 'application/json'})\n",
      "    \n",
      "    extract_result.raise_for_status()\n",
      "    return extract_result.json()\n",
      "\n",
      "def get_story_lines( raw_content ):\n",
      "    story_lines_params = {'key':loc_key, 'body_html':raw_content }\n",
      "    headers = {'Content-type': 'application/json'}\n",
      "    story_lines = requests.put('http://0:3000/api/v2/extractlines/story_lines',data=json.dumps(story_lines_params), \n",
      "                               params={ 'key': loc_key },headers=headers)\n",
      "    \n",
      "    story_lines.raise_for_status()\n",
      "    \n",
      "    return story_lines"
     ],
     "language": "python",
     "metadata": {},
     "outputs": [],
     "prompt_number": 5
    },
    {
     "cell_type": "code",
     "collapsed": false,
     "input": [
      "import subprocess\n",
      "import tempfile\n",
      "import codecs\n",
      "import time\n",
      "from lxml import html\n",
      "\n",
      "#download = get_download( downloads_id )\n",
      "#raw_content = download[u'raw_content']\n",
      "\n",
      "def extract_with_boilerpipe( raw_content ):\n",
      "    with tempfile.NamedTemporaryFile( suffix='.html', delete=False ) as t:\n",
      "        #print t.name\n",
      "    \n",
      "        UTF8Writer = codecs.getwriter('utf8')\n",
      "        t.file = UTF8Writer(t.file)\n",
      "        t.file.write( raw_content )\n",
      "    \n",
      "        t.close()\n",
      "        time.sleep( 2 )\n",
      "        print \"original article tmp file \", t.name\n",
      "        \n",
      "        #input_file = '/tmp/416655019.htm'\n",
      "        input_file = t.name\n",
      "        \n",
      "        output_tmp = tempfile.NamedTemporaryFile( suffix='.html', delete=False )\n",
      "        \n",
      "        output_file = output_tmp.name\n",
      "        #output_file = '/tmp/highlighted.html'\n",
      "        print output_file\n",
      "        print subprocess.check_output(['java', '-jar',\n",
      "                               '/home/dlarochelle/dev_scratch/boilerpipe_test/out/artifacts/boilerpipe_test_jar/boilerpipe_test.jar',\n",
      "                               input_file, output_file ] )\n",
      "        f = open( output_file, 'rb' )\n",
      "        \n",
      "        annotated_file_str = f.read()\n",
      "        \n",
      "        #t.unlink( t.name )\n",
      "        output_tmp.close()\n",
      "        #output_tmp.unlink( output_tmp.name )\n",
      "        \n",
      "    return annotated_file_str\n",
      "\n"
     ],
     "language": "python",
     "metadata": {},
     "outputs": [],
     "prompt_number": 26
    },
    {
     "cell_type": "code",
     "collapsed": false,
     "input": [
      "import operator\n",
      "\n",
      "def get_extractor_training_text( downloads_id, preprocessed_lines ):\n",
      "    extractor_training_lines_result = requests.get(\n",
      "                                                   'https://api.mediacloud.org/api/v2/extractlines/extractor_training_lines/' + str(downloads_id),\n",
      "                                               headers = {'Content-type': 'application/json'}\n",
      "                                               , params= {'key': api_key}\n",
      "                                               )\n",
      "\n",
      "    extractor_training_lines_result.raise_for_status()\n",
      "\n",
      "    extractor_training_lines_result = extractor_training_lines_result.json()\n",
      "    \n",
      "    line_numbers = [ x['line_number'] for x in extractor_training_lines_result ]\n",
      "    \n",
      "    line_numbers = sorted(line_numbers)\n",
      "    \n",
      "    line_numbers.sort()\n",
      "    \n",
      "    print line_numbers\n",
      "    \n",
      "    return operator.itemgetter( * line_numbers )( preprocessed_lines  )\n",
      "\n",
      "import operator\n",
      "\n",
      "def get_extracted_text( extractor_results ):\n",
      "    included_line_numbers = extractor_results['included_line_numbers']\n",
      "    print included_line_numbers\n",
      "    \n",
      "    dl = extractor_results['download_lines']\n",
      "   \n",
      "    if len( included_line_numbers ) == 0:\n",
      "        return []\n",
      "    else:    \n",
      "        return operator.itemgetter( * extractor_results['included_line_numbers']   )(dl)"
     ],
     "language": "python",
     "metadata": {},
     "outputs": [],
     "prompt_number": 7
    },
    {
     "cell_type": "code",
     "collapsed": false,
     "input": [
      "def html_strip( str ):\n",
      "    try:\n",
      "        return html.fromstring(str).text_content()    \n",
      "    except:\n",
      "        print \"Unexpected error on string '\" + str + \"'\" , sys.exc_info()[0]\n",
      "        #raise\n",
      "        return u''\n",
      "    \n",
      "    \n",
      "\n",
      "def clean_for_comparison( str ):\n",
      "    if len(str) > 0:\n",
      "        ret = html_strip( str )\n",
      "    else:\n",
      "        return str\n",
      "    \n",
      "    if len(ret) > 0:\n",
      "        ret = ret.strip()\n",
      "    \n",
      "    return ret    "
     ],
     "language": "python",
     "metadata": {},
     "outputs": [],
     "prompt_number": 8
    },
    {
     "cell_type": "code",
     "collapsed": false,
     "input": [
      "import Levenshtein\n",
      "\n",
      "def lines_to_comparable_text( lines ):\n",
      "    text = \" \".join([ clean_for_comparison(line) for line in lines ])\n",
      "    \n",
      "    if text == '':\n",
      "        text = u''\n",
      "        \n",
      "    return text\n",
      "\n",
      "def compare_accuracy( lines, lines_expected ):\n",
      "    return Levenshtein.distance( lines_to_comparable_text( lines ) , lines_to_comparable_text( lines_expected ) )"
     ],
     "language": "python",
     "metadata": {},
     "outputs": [],
     "prompt_number": 9
    },
    {
     "cell_type": "code",
     "collapsed": false,
     "input": [
      "def compare_extractors_for_download( downloads_id ):\n",
      "    download = get_download( downloads_id )\n",
      "    \n",
      "    raw_content = download[u'raw_content']\n",
      "    stories_id = download[u'stories_id']\n",
      "    \n",
      "    story = requests.get('https://api.mediacloud.org/api/v2/stories/single/'+str(stories_id)+'?key='+api_key)\n",
      "    title = story.json()[0][u'title']\n",
      "    description = story.json()[0][u'description']\n",
      "    url = story.json()[0][u'url']\n",
      "    \n",
      "    story_lines = get_story_lines( raw_content )\n",
      "    #print story_lines.content\n",
      "    preprocessed_lines = story_lines.json()\n",
      "    \n",
      "    heur_extract = extract_story( preprocessed_lines, title, description, 'HeuristicExtractor')\n",
      "    crf_extract = extract_story( preprocessed_lines, title, description, 'CrfExtractor')\n",
      "    \n",
      "    heur_lines = get_extracted_text( heur_extract )\n",
      "    crf_lines  = get_extracted_text( crf_extract )\n",
      "    expected_lines = get_extractor_training_text( downloads_id, preprocessed_lines  )\n",
      "    \n",
      "    tree = html.fromstring( extract_with_boilerpipe( raw_content) )   \n",
      "    spans = tree.xpath('//span[@class=\"x-boilerpipe-mark1\"]')\n",
      "    boiler_pipe_lines = [ s.text for s in spans ]\n",
      "\n",
      "    print \"expected_lines:\"\n",
      "    print lines_to_comparable_text(expected_lines)\n",
      "    \n",
      "    print \"boilerpipe lines\"\n",
      "    print lines_to_comparable_text(boiler_pipe_lines)\n",
      "    \n",
      "    comp_results = {}\n",
      "    comp_results['heur'] = compare_accuracy( heur_lines, expected_lines )\n",
      "    comp_results['crf']  = compare_accuracy( crf_lines, expected_lines )\n",
      "    comp_results['boiler_pipe'] = compare_accuracy( boiler_pipe_lines, expected_lines )\n",
      "    comp_results['downloads_id'] = downloads_id\n",
      "    \n",
      "    #comp_results['expected']    = compare_accuracy( expected_lines, expected_lines )\n",
      "    return comp_results"
     ],
     "language": "python",
     "metadata": {},
     "outputs": [],
     "prompt_number": 24
    },
    {
     "cell_type": "code",
     "collapsed": false,
     "input": [
      "downloads_id = 416655019\n",
      "downloads_ids = [391881020,401370599,412896439,412952145,412977048,413024519,413657081,413835576,414040102,414257623,\n",
      "                 414377428,414480464,414818749,414983458,415185946,415186582,415197547,415424551,415978069,416026460,\n",
      "                 416026587,416047494,416047513,416210404,416263840,416306952,416426245,416655019,416730837,416802690,\n",
      "                 417347290,417347524,417368539,417389613,417477837,417653177,418489742,418544762,418574641,418648698,\n",
      "                 418661859,419404469,419440474,419483895,419873979,420430754,420599387,420666122,421520860,421834553,\n",
      "                 422181106,422280595,422910963,423318170,424080271,424369085,424796346,424840366,425206279,426405203,\n",
      "                 426560018,426632784,426709900,428449440,429607289,430363249,430995428,433457459,435624796,435659593,461175103,461175549,461176415,461176844,461177487,461178557,461178590,461179203,461179222,461179441,461179762,461179818,461179954,461179956,461180307,461181039,461181597,461186137,461186258,461186833,461187188,461187261,461187577,461188549,461189069,461190586,461193383]\n",
      "\n",
      "print len( downloads_ids )\n",
      "\n",
      "comps = []\n",
      "for downloads_id in downloads_ids[:]:\n",
      "    print 'downloads_id:', downloads_id\n",
      "    res = compare_extractors_for_download( downloads_id )\n",
      "    print res\n",
      "    comps.append( res )\n",
      "    \n",
      "    \n",
      "comps"
     ],
     "language": "python",
     "metadata": {},
     "outputs": [
      {
       "output_type": "stream",
       "stream": "stdout",
       "text": [
        "97\n",
        "downloads_id: 391881020\n",
        "[31, 32, 87, 88, 89, 90]"
       ]
      },
      {
       "output_type": "stream",
       "stream": "stdout",
       "text": [
        "\n",
        "[29, 30, 31, 32]\n",
        "[30, 31]"
       ]
      },
      {
       "output_type": "stream",
       "stream": "stdout",
       "text": [
        "\n",
        "original article tmp file "
       ]
      },
      {
       "output_type": "stream",
       "stream": "stdout",
       "text": [
        " /tmp/tmpV6tknj.html\n",
        "/tmp/tmpWOrgPH.html\n",
        "/tmp/tmpV6tknj.html\n",
        "/tmp/tmpV6tknj.html\n",
        "Now open file:///tmp/tmpWOrgPH.html in your web browser\n"
       ]
      },
      {
       "output_type": "stream",
       "stream": "stdout",
       "text": [
        "\n",
        "{'heur': 309, 'boiler_pipe': 183, 'crf': 1014, 'downloads_id': 391881020}\n",
        "downloads_id: 401370599\n",
        "[212, 303, 318, 333, 348, 404, 419, 420, 435, 436, 454, 554]"
       ]
      },
      {
       "output_type": "stream",
       "stream": "stdout",
       "text": [
        "\n",
        "[205, 212, 213]\n",
        "[202, 205, 212, 213]"
       ]
      },
      {
       "output_type": "stream",
       "stream": "stdout",
       "text": [
        "\n",
        "original article tmp file "
       ]
      },
      {
       "output_type": "stream",
       "stream": "stdout",
       "text": [
        " /tmp/tmp8fZZhF.html\n",
        "/tmp/tmpm_2wZd.html\n",
        "/tmp/tmp8fZZhF.html\n",
        "/tmp/tmp8fZZhF.html\n",
        "Now open file:///tmp/tmpm_2wZd.html in your web browser\n"
       ]
      },
      {
       "output_type": "stream",
       "stream": "stdout",
       "text": [
        "\n",
        "{'heur': 540, 'boiler_pipe': 2, 'crf': 30, 'downloads_id': 401370599}\n",
        "downloads_id: 412896439\n",
        "[265, 279, 281, 283, 285, 287, 289, 291, 293, 305, 307, 311, 313, 315]"
       ]
      },
      {
       "output_type": "stream",
       "stream": "stdout",
       "text": [
        "\n",
        "[265, 702]\n",
        "[265, 266, 267, 279, 281, 283, 285, 287, 289, 291, 293, 303, 305, 307, 309, 311, 313, 315, 702]"
       ]
      },
      {
       "output_type": "stream",
       "stream": "stdout",
       "text": [
        "\n",
        "original article tmp file "
       ]
      },
      {
       "output_type": "stream",
       "stream": "stdout",
       "text": [
        " /tmp/tmpnmNWFT.html\n",
        "/tmp/tmpqweXYq.html\n",
        "/tmp/tmpnmNWFT.html\n",
        "/tmp/tmpnmNWFT.html\n",
        "Now open file:///tmp/tmpqweXYq.html in your web browser\n"
       ]
      },
      {
       "output_type": "stream",
       "stream": "stdout",
       "text": [
        "\n",
        "{'heur': 183, 'boiler_pipe': 329, 'crf': 3259, 'downloads_id': 412896439}"
       ]
      },
      {
       "output_type": "stream",
       "stream": "stdout",
       "text": [
        "\n",
        "downloads_id: 412952145\n",
        "[422, 436, 440, 444, 448, 449, 450, 451, 455, 459, 466, 522, 546, 570, 618, 624, 642, 666, 690, 714, 738, 762, 768, 786, 792, 810, 834, 840, 864, 906, 930, 1223]"
       ]
      },
      {
       "output_type": "stream",
       "stream": "stdout",
       "text": [
        "\n",
        "[422, 436, 440, 444, 448, 449, 450, 451, 455, 459]\n",
        "[415, 422, 436, 440, 444, 448, 449, 450, 451, 455, 459]"
       ]
      },
      {
       "output_type": "stream",
       "stream": "stdout",
       "text": [
        "\n",
        "original article tmp file "
       ]
      },
      {
       "output_type": "stream",
       "stream": "stdout",
       "text": [
        " /tmp/tmpwPMLGc.html\n",
        "/tmp/tmpgh3h0r.html\n",
        "/tmp/tmpwPMLGc.html\n",
        "/tmp/tmpwPMLGc.html\n",
        "Now open file:///tmp/tmpgh3h0r.html in your web browser\n"
       ]
      },
      {
       "output_type": "stream",
       "stream": "stdout",
       "text": [
        "\n",
        "{'heur': 9280, 'boiler_pipe': 6041, 'crf': 37, 'downloads_id': 412952145}"
       ]
      },
      {
       "output_type": "stream",
       "stream": "stdout",
       "text": [
        "\n",
        "downloads_id: 412977048\n",
        "[471, 505, 507]"
       ]
      },
      {
       "output_type": "stream",
       "stream": "stdout",
       "text": [
        "\n",
        "[471]\n",
        "[471, 474, 505, 507]"
       ]
      },
      {
       "output_type": "stream",
       "stream": "stdout",
       "text": [
        "\n",
        "original article tmp file "
       ]
      },
      {
       "output_type": "stream",
       "stream": "stdout",
       "text": [
        " /tmp/tmp9ztunJ.html\n",
        "/tmp/tmp9kgiAn.html\n",
        "/tmp/tmp9ztunJ.html\n",
        "/tmp/tmp9ztunJ.html\n",
        "Now open file:///tmp/tmp9kgiAn.html in your web browser\n"
       ]
      },
      {
       "output_type": "stream",
       "stream": "stdout",
       "text": [
        "\n",
        "Unexpected error on string ' ' <class 'lxml.etree.ParserError'>\n",
        "Unexpected error on string ' ' <class 'lxml.etree.ParserError'>\n",
        "Unexpected error on string ' ' <class 'lxml.etree.ParserError'>\n",
        "Unexpected error on string ' ' <class 'lxml.etree.ParserError'>\n",
        "Unexpected error on string ' ' <class 'lxml.etree.ParserError'>\n",
        "Unexpected error on string ' ' <class 'lxml.etree.ParserError'>\n",
        "Unexpected error on string ' ' <class 'lxml.etree.ParserError'>\n",
        "Unexpected error on string ' ' <class 'lxml.etree.ParserError'>\n",
        "Unexpected error on string ' ' <class 'lxml.etree.ParserError'>\n",
        "Unexpected error on string ' ' <class 'lxml.etree.ParserError'>\n",
        "Unexpected error on string ' ' <class 'lxml.etree.ParserError'>\n",
        "Unexpected error on string ' ' <class 'lxml.etree.ParserError'>\n",
        "Unexpected error on string ' ' <class 'lxml.etree.ParserError'>\n",
        "Unexpected error on string ' ' <class 'lxml.etree.ParserError'>\n",
        "Unexpected error on string ' ' <class 'lxml.etree.ParserError'>\n",
        "Unexpected error on string ' ' <class 'lxml.etree.ParserError'>\n",
        "Unexpected error on string '<' <class 'lxml.etree.ParserError'>\n",
        "Unexpected error on string ' ' <class 'lxml.etree.ParserError'>\n",
        "Unexpected error on string ' ' <class 'lxml.etree.ParserError'>\n",
        "Unexpected error on string ' ' <class 'lxml.etree.ParserError'>\n",
        "Unexpected error on string ' ' <class 'lxml.etree.ParserError'>\n",
        "Unexpected error on string ' ' <class 'lxml.etree.ParserError'>\n",
        "Unexpected error on string ' ' <class 'lxml.etree.ParserError'>\n",
        "Unexpected error on string '<' <class 'lxml.etree.ParserError'>\n",
        "{'heur': 38, 'boiler_pipe': 33, 'crf': 595, 'downloads_id': 412977048}\n",
        "downloads_id: 413024519\n",
        "[606, 607, 694, 695, 696, 697, 989, 990, 1045, 1074, 1131, 1176, 1179, 1194]"
       ]
      },
      {
       "output_type": "stream",
       "stream": "stdout",
       "text": [
        "\n",
        "[606]\n",
        "[606, 607, 608, 692, 694, 695, 696, 697]"
       ]
      },
      {
       "output_type": "stream",
       "stream": "stdout",
       "text": [
        "\n",
        "original article tmp file "
       ]
      },
      {
       "output_type": "stream",
       "stream": "stdout",
       "text": [
        " /tmp/tmpljVpR7.html\n",
        "/tmp/tmpmpcQS0.html\n",
        "/tmp/tmpljVpR7.html\n",
        "/tmp/tmpljVpR7.html\n",
        "Now open file:///tmp/tmpmpcQS0.html in your web browser\n"
       ]
      },
      {
       "output_type": "stream",
       "stream": "stdout",
       "text": [
        "\n",
        "Unexpected error on string '\t' <class 'lxml.etree.ParserError'>\n",
        "Unexpected error on string '\t' <class 'lxml.etree.ParserError'>\n",
        "Unexpected error on string '\t' <class 'lxml.etree.ParserError'>\n",
        "Unexpected error on string '\t' <class 'lxml.etree.ParserError'>\n",
        "Unexpected error on string '\t' <class 'lxml.etree.ParserError'>\n",
        "Unexpected error on string '\t' <class 'lxml.etree.ParserError'>\n",
        "Unexpected error on string '\t' <class 'lxml.etree.ParserError'>\n",
        "Unexpected error on string '\t' <class 'lxml.etree.ParserError'>\n",
        "Unexpected error on string '\t' <class 'lxml.etree.ParserError'>\n",
        "Unexpected error on string '<' <class 'lxml.etree.ParserError'>\n",
        "Unexpected error on string ' ' <class 'lxml.etree.ParserError'>\n",
        "Unexpected error on string ' ' <class 'lxml.etree.ParserError'>\n",
        "Unexpected error on string ' ' <class 'lxml.etree.ParserError'>\n",
        "Unexpected error on string ' ' <class 'lxml.etree.ParserError'>\n",
        "Unexpected error on string ' ' <class 'lxml.etree.ParserError'>\n",
        "Unexpected error on string ' ' <class 'lxml.etree.ParserError'>\n",
        "Unexpected error on string ' ' <class 'lxml.etree.ParserError'>\n",
        "Unexpected error on string ' ' <class 'lxml.etree.ParserError'>\n",
        "Unexpected error on string ' ' <class 'lxml.etree.ParserError'>\n",
        "Unexpected error on string ' ' <class 'lxml.etree.ParserError'>\n",
        "Unexpected error on string '<' <class 'lxml.etree.ParserError'>\n",
        "{'heur': 733, 'boiler_pipe': 876, 'crf': 1282, 'downloads_id': 413024519}\n",
        "downloads_id: 413657081\n",
        "[597, 609, 613, 616, 624, 627, 630, 644, 647, 650, 656, 662, 665, 710, 721, 842, 853, 864, 875, 886, 1279, 1284, 1410, 1414]"
       ]
      },
      {
       "output_type": "stream",
       "stream": "stdout",
       "text": [
        "\n",
        "[597, 613, 616]\n",
        "[597, 608, 613, 616, 624, 627, 630, 640, 644, 647, 650, 653, 656, 659, 662, 665]"
       ]
      },
      {
       "output_type": "stream",
       "stream": "stdout",
       "text": [
        "\n",
        "original article tmp file "
       ]
      },
      {
       "output_type": "stream",
       "stream": "stdout",
       "text": [
        " /tmp/tmpHoGw0d.html\n",
        "/tmp/tmpiSrPL9.html\n",
        "/tmp/tmpHoGw0d.html\n",
        "/tmp/tmpHoGw0d.html\n",
        "Now open file:///tmp/tmpiSrPL9.html in your web browser\n"
       ]
      },
      {
       "output_type": "stream",
       "stream": "stdout",
       "text": [
        "\n",
        "{'heur': 597, 'boiler_pipe': 280, 'crf': 1978, 'downloads_id': 413657081}\n",
        "downloads_id: 413835576\n",
        "[218, 284, 306, 337, 338, 339]"
       ]
      },
      {
       "output_type": "stream",
       "stream": "stdout",
       "text": [
        "\n",
        "[304, 305, 306]\n",
        "[283, 284, 304, 305, 306]"
       ]
      },
      {
       "output_type": "stream",
       "stream": "stdout",
       "text": [
        "\n",
        "original article tmp file "
       ]
      },
      {
       "output_type": "stream",
       "stream": "stdout",
       "text": [
        " /tmp/tmp_GK6xT.html\n",
        "/tmp/tmpXnwLcZ.html\n",
        "/tmp/tmp_GK6xT.html\n",
        "/tmp/tmp_GK6xT.html\n",
        "Now open file:///tmp/tmpXnwLcZ.html in your web browser\n"
       ]
      },
      {
       "output_type": "stream",
       "stream": "stdout",
       "text": [
        "\n",
        "{'heur': 959, 'boiler_pipe': 235, 'crf': 119, 'downloads_id': 413835576}\n",
        "downloads_id: 414040102\n",
        "[3270, 3273, 3377, 3411, 3424, 3444, 3448, 3452, 3454, 3456, 3458, 3465, 3467, 3631, 3768, 3774, 3780, 3786, 3792, 3798, 3804, 3810, 3816, 3822, 3828, 3834, 3840, 3852, 3864, 3870, 3876, 3882, 3888]"
       ]
      },
      {
       "output_type": "stream",
       "stream": "stdout",
       "text": [
        "\n",
        "[178, 3270, 3273, 3439, 3444, 3448, 3450, 3452, 3454, 3456, 3458, 3533]\n",
        "[3270, 3273, 3377, 3439, 3444, 3448, 3450, 3452, 3454, 3456, 3458, 3460, 3462, 3464, 3465, 3467]"
       ]
      },
      {
       "output_type": "stream",
       "stream": "stdout",
       "text": [
        "\n",
        "original article tmp file "
       ]
      },
      {
       "output_type": "stream",
       "stream": "stdout",
       "text": [
        " /tmp/tmpZXbxKl.html\n",
        "/tmp/tmpH6BbIw.html\n",
        "/tmp/tmpZXbxKl.html\n",
        "/tmp/tmpZXbxKl.html\n",
        "Now open file:///tmp/tmpH6BbIw.html in your web browser\n"
       ]
      },
      {
       "output_type": "stream",
       "stream": "stdout",
       "text": [
        "\n",
        "{'heur': 1090, 'boiler_pipe': 86, 'crf': 760, 'downloads_id': 414040102}"
       ]
      },
      {
       "output_type": "stream",
       "stream": "stdout",
       "text": [
        "\n",
        "downloads_id: 414257623\n",
        "[569, 580, 581, 582, 583, 584, 585, 586, 587, 588, 737, 985, 1360, 1390, 1420, 1450, 1484, 1514, 1544, 1574, 1608, 1638, 1668, 1698, 1732, 1762, 1792, 1822]"
       ]
      },
      {
       "output_type": "stream",
       "stream": "stdout",
       "text": [
        "\n",
        "[569, 579, 580, 581, 582, 583, 584, 585, 586, 587, 588, 674]\n",
        "[566, 569, 579, 580, 581, 582, 583, 584, 585, 586, 587, 588]"
       ]
      },
      {
       "output_type": "stream",
       "stream": "stdout",
       "text": [
        "\n",
        "original article tmp file "
       ]
      },
      {
       "output_type": "stream",
       "stream": "stdout",
       "text": [
        " /tmp/tmpFEl33i.html\n",
        "/tmp/tmpKigY4A.html\n",
        "/tmp/tmpFEl33i.html\n",
        "/tmp/tmpFEl33i.html\n",
        "Now open file:///tmp/tmpKigY4A.html in your web browser\n"
       ]
      },
      {
       "output_type": "stream",
       "stream": "stdout",
       "text": [
        "\n",
        "{'heur': 2178, 'boiler_pipe': 78, 'crf': 76, 'downloads_id': 414257623}\n",
        "downloads_id: 414377428\n",
        "[514, 515, 516, 518, 520, 522, 524, 526, 527, 529, 531, 533, 535, 536, 537, 540, 541, 542, 543, 544, 546, 547, 549, 550, 551, 552, 553, 554, 555, 556, 557, 558, 559, 561, 562, 564, 565, 567, 568, 570, 571, 572, 573, 574, 575, 576, 577, 579, 582, 583, 585, 587, 589, 591, 593, 595, 596, 637, 985, 986]"
       ]
      },
      {
       "output_type": "stream",
       "stream": "stdout",
       "text": [
        "\n",
        "[466, 526, 527, 528, 529, 530, 531, 532, 533, 534, 535, 536, 537, 538, 539, 540, 541, 542, 543, 544, 545, 546, 547, 548, 549, 550, 551, 552, 553, 554, 555, 556, 557, 558, 559, 560, 561, 562, 563, 564, 565, 566, 567, 568, 569, 570, 571, 572, 573, 574, 575, 576, 577, 578, 579]\n",
        "[466, 467, 483, 513, 514, 515, 516, 517, 518, 519, 520, 521, 522, 523, 524, 525, 526, 527, 528, 529, 530, 531, 532, 533, 534, 535, 536, 537, 538, 539, 540, 541, 542, 543, 544, 545, 546, 547, 548, 549, 550, 551, 552, 553, 554, 555, 556, 557, 558, 559, 560, 561, 562, 563, 564, 565, 566, 567, 568, 569, 570, 571, 572, 573, 574, 575, 576, 577, 578, 579, 580, 581, 582, 583, 584, 585, 586, 587, 588, 589, 590, 591, 592, 593, 594, 595]"
       ]
      },
      {
       "output_type": "stream",
       "stream": "stdout",
       "text": [
        "\n",
        "original article tmp file "
       ]
      },
      {
       "output_type": "stream",
       "stream": "stdout",
       "text": [
        " /tmp/tmpupkj5G.html\n",
        "/tmp/tmpfIp_qH.html\n",
        "/tmp/tmpupkj5G.html\n",
        "/tmp/tmpupkj5G.html\n",
        "Now open file:///tmp/tmpfIp_qH.html in your web browser\n"
       ]
      },
      {
       "output_type": "stream",
       "stream": "stdout",
       "text": [
        "\n",
        "{'heur': 1678, 'boiler_pipe': 251, 'crf': 9533, 'downloads_id': 414377428}"
       ]
      },
      {
       "output_type": "stream",
       "stream": "stdout",
       "text": [
        "\n",
        "downloads_id: 414480464\n",
        "[364, 386, 402, 407, 425, 444, 456, 468, 733, 734, 735, 804]"
       ]
      },
      {
       "output_type": "stream",
       "stream": "stdout",
       "text": [
        "\n",
        "[364]\n",
        "[355, 364, 374, 386]"
       ]
      },
      {
       "output_type": "stream",
       "stream": "stdout",
       "text": [
        "\n",
        "original article tmp file "
       ]
      },
      {
       "output_type": "stream",
       "stream": "stdout",
       "text": [
        " /tmp/tmpkpkBZa.html\n",
        "/tmp/tmpOE4YeA.html\n",
        "/tmp/tmpkpkBZa.html\n",
        "/tmp/tmpkpkBZa.html\n",
        "Now open file:///tmp/tmpOE4YeA.html in your web browser\n"
       ]
      },
      {
       "output_type": "stream",
       "stream": "stdout",
       "text": [
        "\n",
        "Unexpected error on string ' ' <class 'lxml.etree.ParserError'>\n",
        "Unexpected error on string ' ' <class 'lxml.etree.ParserError'>\n",
        "Unexpected error on string ' ' <class 'lxml.etree.ParserError'>\n",
        "Unexpected error on string ' ' <class 'lxml.etree.ParserError'>\n",
        "Unexpected error on string ' ' <class 'lxml.etree.ParserError'>\n",
        "Unexpected error on string ' ' <class 'lxml.etree.ParserError'>\n",
        "Unexpected error on string ' ' <class 'lxml.etree.ParserError'>\n",
        "Unexpected error on string ' ' <class 'lxml.etree.ParserError'>\n",
        "Unexpected error on string ' ' <class 'lxml.etree.ParserError'>\n",
        "Unexpected error on string ' ' <class 'lxml.etree.ParserError'>\n",
        "Unexpected error on string ' ' <class 'lxml.etree.ParserError'>\n",
        "Unexpected error on string ' ' <class 'lxml.etree.ParserError'>\n",
        "Unexpected error on string ' ' <class 'lxml.etree.ParserError'>\n",
        "Unexpected error on string ' ' <class 'lxml.etree.ParserError'>\n",
        "Unexpected error on string ' ' <class 'lxml.etree.ParserError'>\n",
        "Unexpected error on string ' ' <class 'lxml.etree.ParserError'>\n",
        "Unexpected error on string ' ' <class 'lxml.etree.ParserError'>\n",
        "Unexpected error on string ' ' <class 'lxml.etree.ParserError'>\n",
        "Unexpected error on string ' ' <class 'lxml.etree.ParserError'>\n",
        "Unexpected error on string ' ' <class 'lxml.etree.ParserError'>\n",
        "Unexpected error on string ' ' <class 'lxml.etree.ParserError'>\n",
        "Unexpected error on string ' ' <class 'lxml.etree.ParserError'>\n",
        "Unexpected error on string ' ' <class 'lxml.etree.ParserError'>\n",
        "Unexpected error on string ' ' <class 'lxml.etree.ParserError'>\n",
        "Unexpected error on string ' ' <class 'lxml.etree.ParserError'>\n",
        "Unexpected error on string ' ' <class 'lxml.etree.ParserError'>\n",
        "Unexpected error on string ' ' <class 'lxml.etree.ParserError'>\n",
        "Unexpected error on string ' ' <class 'lxml.etree.ParserError'>\n",
        "Unexpected error on string ' ' <class 'lxml.etree.ParserError'>\n",
        "Unexpected error on string ' ' <class 'lxml.etree.ParserError'>\n",
        "Unexpected error on string ' ' <class 'lxml.etree.ParserError'>\n",
        "Unexpected error on string ' ' <class 'lxml.etree.ParserError'>\n",
        "Unexpected error on string ' ' <class 'lxml.etree.ParserError'>\n",
        "Unexpected error on string ' ' <class 'lxml.etree.ParserError'>\n",
        "Unexpected error on string ' ' <class 'lxml.etree.ParserError'>\n",
        "Unexpected error on string ' ' <class 'lxml.etree.ParserError'>\n",
        "Unexpected error on string '<' <class 'lxml.etree.ParserError'>\n",
        "{'heur': 1014, 'boiler_pipe': 533, 'crf': 3472, 'downloads_id': 414480464}"
       ]
      },
      {
       "output_type": "stream",
       "stream": "stdout",
       "text": [
        "\n",
        "downloads_id: 414818749\n",
        "[1412, 1454, 1456, 1458, 1460, 1462, 1464, 1466, 1468, 1471, 1473, 1475, 1477, 1479, 1481, 1484, 1486, 1488, 1490, 1492, 1494, 1530, 1531, 1704, 1824]"
       ]
      },
      {
       "output_type": "stream",
       "stream": "stdout",
       "text": [
        "\n",
        "[1411, 1412]\n",
        "[1411, 1412, 1452, 1454, 1456, 1458, 1460, 1462, 1464, 1466, 1468, 1470, 1471, 1473, 1475, 1477, 1479, 1481, 1483, 1484, 1486, 1488, 1490, 1492, 1494, 1496]"
       ]
      },
      {
       "output_type": "stream",
       "stream": "stdout",
       "text": [
        "\n",
        "original article tmp file "
       ]
      },
      {
       "output_type": "stream",
       "stream": "stdout",
       "text": [
        " /tmp/tmply2y68.html\n",
        "/tmp/tmpd3Wkd8.html\n",
        "/tmp/tmply2y68.html\n",
        "/tmp/tmply2y68.html\n",
        "Now open file:///tmp/tmpd3Wkd8.html in your web browser\n"
       ]
      },
      {
       "output_type": "stream",
       "stream": "stdout",
       "text": [
        "\n",
        "{'heur': 309, 'boiler_pipe': 429, 'crf': 4262, 'downloads_id': 414818749}"
       ]
      },
      {
       "output_type": "stream",
       "stream": "stdout",
       "text": [
        "\n",
        "downloads_id: 414983458\n",
        "[408, 941, 960, 979, 998, 1017, 1048, 1067, 1086, 1105, 1124, 1155, 1174, 1193, 1212, 1231, 1410, 1411]"
       ]
      },
      {
       "output_type": "stream",
       "stream": "stdout",
       "text": [
        "\n",
        "[408, 518, 531, 544]\n",
        "[408]"
       ]
      },
      {
       "output_type": "stream",
       "stream": "stdout",
       "text": [
        "\n",
        "original article tmp file "
       ]
      },
      {
       "output_type": "stream",
       "stream": "stdout",
       "text": [
        " /tmp/tmp1Ft3z8.html\n",
        "/tmp/tmpkzDgeo.html\n",
        "/tmp/tmp1Ft3z8.html\n",
        "/tmp/tmp1Ft3z8.html\n",
        "Now open file:///tmp/tmpkzDgeo.html in your web browser\n"
       ]
      },
      {
       "output_type": "stream",
       "stream": "stdout",
       "text": [
        "\n",
        "Unexpected error on string ' ' <class 'lxml.etree.ParserError'>\n",
        "Unexpected error on string ' ' <class 'lxml.etree.ParserError'>\n",
        "Unexpected error on string ' ' <class 'lxml.etree.ParserError'>\n",
        "Unexpected error on string ' ' <class 'lxml.etree.ParserError'>\n",
        "Unexpected error on string ' ' <class 'lxml.etree.ParserError'>\n",
        "Unexpected error on string ' ' <class 'lxml.etree.ParserError'>\n",
        "Unexpected error on string ' ' <class 'lxml.etree.ParserError'>\n",
        "Unexpected error on string ' ' <class 'lxml.etree.ParserError'>\n",
        "Unexpected error on string ' ' <class 'lxml.etree.ParserError'>\n",
        "Unexpected error on string ' ' <class 'lxml.etree.ParserError'>\n",
        "Unexpected error on string ' ' <class 'lxml.etree.ParserError'>\n",
        "Unexpected error on string ' ' <class 'lxml.etree.ParserError'>\n",
        "Unexpected error on string '<' <class 'lxml.etree.ParserError'>\n",
        "Unexpected error on string ' ' <class 'lxml.etree.ParserError'>\n",
        "Unexpected error on string ' ' <class 'lxml.etree.ParserError'>\n",
        "Unexpected error on string ' ' <class 'lxml.etree.ParserError'>\n",
        "Unexpected error on string ' ' <class 'lxml.etree.ParserError'>\n",
        "Unexpected error on string ' ' <class 'lxml.etree.ParserError'>\n",
        "Unexpected error on string ' ' <class 'lxml.etree.ParserError'>\n",
        "Unexpected error on string ' ' <class 'lxml.etree.ParserError'>\n",
        "Unexpected error on string ' ' <class 'lxml.etree.ParserError'>\n",
        "Unexpected error on string '<' <class 'lxml.etree.ParserError'>\n",
        "Unexpected error on string ' ' <class 'lxml.etree.ParserError'>\n",
        "Unexpected error on string ' ' <class 'lxml.etree.ParserError'>\n",
        "Unexpected error on string ' ' <class 'lxml.etree.ParserError'>\n",
        "Unexpected error on string ' ' <class 'lxml.etree.ParserError'>\n",
        "Unexpected error on string ' ' <class 'lxml.etree.ParserError'>\n",
        "Unexpected error on string ' ' <class 'lxml.etree.ParserError'>\n",
        "Unexpected error on string ' ' <class 'lxml.etree.ParserError'>\n",
        "Unexpected error on string ' ' <class 'lxml.etree.ParserError'>\n",
        "Unexpected error on string ' ' <class 'lxml.etree.ParserError'>\n",
        "Unexpected error on string ' ' <class 'lxml.etree.ParserError'>\n",
        "Unexpected error on string ' ' <class 'lxml.etree.ParserError'>\n",
        "Unexpected error on string ' ' <class 'lxml.etree.ParserError'>\n",
        "Unexpected error on string '<' <class 'lxml.etree.ParserError'>\n",
        "Unexpected error on string ' ' <class 'lxml.etree.ParserError'>\n",
        "Unexpected error on string ' ' <class 'lxml.etree.ParserError'>\n",
        "Unexpected error on string ' ' <class 'lxml.etree.ParserError'>\n",
        "Unexpected error on string ' ' <class 'lxml.etree.ParserError'>\n",
        "Unexpected error on string ' ' <class 'lxml.etree.ParserError'>\n",
        "Unexpected error on string ' ' <class 'lxml.etree.ParserError'>\n",
        "Unexpected error on string ' ' <class 'lxml.etree.ParserError'>\n",
        "Unexpected error on string ' ' <class 'lxml.etree.ParserError'>\n",
        "Unexpected error on string '<' <class 'lxml.etree.ParserError'>\n",
        "Unexpected error on string ' ' <class 'lxml.etree.ParserError'>\n",
        "Unexpected error on string ' ' <class 'lxml.etree.ParserError'>\n",
        "Unexpected error on string ' ' <class 'lxml.etree.ParserError'>\n",
        "Unexpected error on string ' ' <class 'lxml.etree.ParserError'>\n",
        "Unexpected error on string ' ' <class 'lxml.etree.ParserError'>\n",
        "Unexpected error on string ' ' <class 'lxml.etree.ParserError'>\n",
        "Unexpected error on string ' ' <class 'lxml.etree.ParserError'>\n",
        "Unexpected error on string ' ' <class 'lxml.etree.ParserError'>\n",
        "Unexpected error on string ' ' <class 'lxml.etree.ParserError'>\n",
        "Unexpected error on string ' ' <class 'lxml.etree.ParserError'>\n",
        "Unexpected error on string ' ' <class 'lxml.etree.ParserError'>\n",
        "Unexpected error on string ' ' <class 'lxml.etree.ParserError'>\n",
        "Unexpected error on string '<' <class 'lxml.etree.ParserError'>\n",
        "Unexpected error on string ' ' <class 'lxml.etree.ParserError'>\n",
        "Unexpected error on string ' ' <class 'lxml.etree.ParserError'>\n",
        "Unexpected error on string ' ' <class 'lxml.etree.ParserError'>\n",
        "Unexpected error on string ' ' <class 'lxml.etree.ParserError'>\n",
        "Unexpected error on string ' ' <class 'lxml.etree.ParserError'>\n",
        "Unexpected error on string ' ' <class 'lxml.etree.ParserError'>\n",
        "Unexpected error on string ' ' <class 'lxml.etree.ParserError'>\n",
        "Unexpected error on string ' ' <class 'lxml.etree.ParserError'>\n",
        "Unexpected error on string '<' <class 'lxml.etree.ParserError'>\n",
        "{'heur': 979, 'boiler_pipe': 192, 'crf': 162, 'downloads_id': 414983458}\n",
        "downloads_id: 415185946\n",
        "[569, 579, 580, 581, 582, 583, 584, 585, 734, 982, 1357, 1387, 1417, 1447, 1481, 1511, 1541, 1571, 1605, 1635, 1665, 1695, 1729, 1759, 1789, 1819]"
       ]
      },
      {
       "output_type": "stream",
       "stream": "stdout",
       "text": [
        "\n",
        "[569, 579, 580, 581, 582, 583, 584, 585, 671, 919]\n",
        "[569, 579, 580, 581, 582, 583, 584, 585]"
       ]
      },
      {
       "output_type": "stream",
       "stream": "stdout",
       "text": [
        "\n",
        "original article tmp file "
       ]
      },
      {
       "output_type": "stream",
       "stream": "stdout",
       "text": [
        " /tmp/tmpcVXbhG.html\n",
        "/tmp/tmpbSqHVn.html\n",
        "/tmp/tmpcVXbhG.html\n",
        "/tmp/tmpcVXbhG.html\n",
        "Now open file:///tmp/tmpbSqHVn.html in your web browser\n"
       ]
      },
      {
       "output_type": "stream",
       "stream": "stdout",
       "text": [
        "\n",
        "{'heur': 2133, 'boiler_pipe': 78, 'crf': 140, 'downloads_id': 415185946}\n",
        "downloads_id: 415186582\n",
        "[125, 166]"
       ]
      },
      {
       "output_type": "stream",
       "stream": "stdout",
       "text": [
        "\n",
        "[48, 125]\n",
        "[125, 126, 164, 166]"
       ]
      },
      {
       "output_type": "stream",
       "stream": "stdout",
       "text": [
        "\n",
        "original article tmp file "
       ]
      },
      {
       "output_type": "stream",
       "stream": "stdout",
       "text": [
        " /tmp/tmpIpVq6L.html\n",
        "/tmp/tmp5YpSYQ.html\n",
        "/tmp/tmpIpVq6L.html\n",
        "/tmp/tmpIpVq6L.html\n",
        "Now open file:///tmp/tmp5YpSYQ.html in your web browser\n"
       ]
      },
      {
       "output_type": "stream",
       "stream": "stdout",
       "text": [
        "\n",
        "{'heur': 86, 'boiler_pipe': 183, 'crf': 305, 'downloads_id': 415186582}\n",
        "downloads_id: 415197547\n",
        "[449, 452, 782]"
       ]
      },
      {
       "output_type": "stream",
       "stream": "stdout",
       "text": [
        "\n",
        "[420, 449, 452]\n",
        "[428, 449, 452]"
       ]
      },
      {
       "output_type": "stream",
       "stream": "stdout",
       "text": [
        "\n",
        "original article tmp file "
       ]
      },
      {
       "output_type": "stream",
       "stream": "stdout",
       "text": [
        " /tmp/tmpToyzaP.html\n",
        "/tmp/tmpSf059z.html\n",
        "/tmp/tmpToyzaP.html\n",
        "/tmp/tmpToyzaP.html\n",
        "Now open file:///tmp/tmpSf059z.html in your web browser\n"
       ]
      },
      {
       "output_type": "stream",
       "stream": "stdout",
       "text": [
        "\n",
        "{'heur': 83, 'boiler_pipe': 169, 'crf': 63, 'downloads_id': 415197547}\n",
        "downloads_id: 415424551\n",
        "[231, 238, 239, 240, 241, 242, 244, 245]"
       ]
      },
      {
       "output_type": "stream",
       "stream": "stdout",
       "text": [
        "\n",
        "[231, 234, 238, 239, 240, 241, 242, 244, 245]\n",
        "[230, 231, 234, 236, 238, 239, 240, 241, 242, 244, 245]"
       ]
      },
      {
       "output_type": "stream",
       "stream": "stdout",
       "text": [
        "\n",
        "original article tmp file "
       ]
      },
      {
       "output_type": "stream",
       "stream": "stdout",
       "text": [
        " /tmp/tmpPV1JTv.html\n",
        "/tmp/tmpKZ5DKK.html\n",
        "/tmp/tmpPV1JTv.html\n",
        "/tmp/tmpPV1JTv.html\n",
        "Now open file:///tmp/tmpKZ5DKK.html in your web browser\n"
       ]
      },
      {
       "output_type": "stream",
       "stream": "stdout",
       "text": [
        "\n",
        "{'heur': 187, 'boiler_pipe': 32, 'crf': 39, 'downloads_id': 415424551}\n",
        "downloads_id: 415978069\n",
        "[525]"
       ]
      },
      {
       "output_type": "stream",
       "stream": "stdout",
       "text": [
        "\n",
        "[503, 514, 516, 517, 525, 527, 530]\n",
        "[503, 514, 516, 517, 525]"
       ]
      },
      {
       "output_type": "stream",
       "stream": "stdout",
       "text": [
        "\n",
        "original article tmp file "
       ]
      },
      {
       "output_type": "stream",
       "stream": "stdout",
       "text": [
        " /tmp/tmpGIZSEl.html\n",
        "/tmp/tmpHyH35t.html\n",
        "/tmp/tmpGIZSEl.html\n",
        "/tmp/tmpGIZSEl.html\n",
        "Now open file:///tmp/tmpHyH35t.html in your web browser\n"
       ]
      },
      {
       "output_type": "stream",
       "stream": "stdout",
       "text": [
        "\n",
        "Unexpected error on string '<' <class 'lxml.etree.ParserError'>\n",
        "Unexpected error on string ' ' <class 'lxml.etree.ParserError'>\n",
        "Unexpected error on string ' ' <class 'lxml.etree.ParserError'>\n",
        "Unexpected error on string ' ' <class 'lxml.etree.ParserError'>\n",
        "Unexpected error on string ' ' <class 'lxml.etree.ParserError'>\n",
        "Unexpected error on string ' ' <class 'lxml.etree.ParserError'>\n",
        "Unexpected error on string ' ' <class 'lxml.etree.ParserError'>\n",
        "Unexpected error on string ' ' <class 'lxml.etree.ParserError'>\n",
        "Unexpected error on string ' ' <class 'lxml.etree.ParserError'>\n",
        "Unexpected error on string ' ' <class 'lxml.etree.ParserError'>\n",
        "Unexpected error on string ' ' <class 'lxml.etree.ParserError'>\n",
        "Unexpected error on string ' ' <class 'lxml.etree.ParserError'>\n",
        "Unexpected error on string ' ' <class 'lxml.etree.ParserError'>\n",
        "Unexpected error on string ' ' <class 'lxml.etree.ParserError'>\n",
        "Unexpected error on string '<' <class 'lxml.etree.ParserError'>\n",
        "Unexpected error on string ' ' <class 'lxml.etree.ParserError'>\n",
        "Unexpected error on string ' ' <class 'lxml.etree.ParserError'>\n",
        "Unexpected error on string ' ' <class 'lxml.etree.ParserError'>\n",
        "Unexpected error on string ' ' <class 'lxml.etree.ParserError'>\n",
        "Unexpected error on string ' ' <class 'lxml.etree.ParserError'>\n",
        "Unexpected error on string ' ' <class 'lxml.etree.ParserError'>\n",
        "Unexpected error on string ' ' <class 'lxml.etree.ParserError'>\n",
        "Unexpected error on string ' ' <class 'lxml.etree.ParserError'>\n",
        "Unexpected error on string ' ' <class 'lxml.etree.ParserError'>\n",
        "Unexpected error on string ' ' <class 'lxml.etree.ParserError'>\n",
        "Unexpected error on string ' ' <class 'lxml.etree.ParserError'>\n",
        "Unexpected error on string ' ' <class 'lxml.etree.ParserError'>\n",
        "Unexpected error on string ' ' <class 'lxml.etree.ParserError'>\n",
        "Unexpected error on string ' ' <class 'lxml.etree.ParserError'>\n",
        "Unexpected error on string ' ' <class 'lxml.etree.ParserError'>\n",
        "Unexpected error on string ' ' <class 'lxml.etree.ParserError'>\n",
        "Unexpected error on string ' ' <class 'lxml.etree.ParserError'>\n",
        "Unexpected error on string ' ' <class 'lxml.etree.ParserError'>\n",
        "Unexpected error on string ' ' <class 'lxml.etree.ParserError'>\n",
        "Unexpected error on string ' ' <class 'lxml.etree.ParserError'>\n",
        "Unexpected error on string ' ' <class 'lxml.etree.ParserError'>\n",
        "Unexpected error on string ' ' <class 'lxml.etree.ParserError'>\n",
        "Unexpected error on string ' ' <class 'lxml.etree.ParserError'>\n",
        "Unexpected error on string ' ' <class 'lxml.etree.ParserError'>\n",
        "Unexpected error on string ' ' <class 'lxml.etree.ParserError'>\n",
        "Unexpected error on string ' ' <class 'lxml.etree.ParserError'>\n",
        "Unexpected error on string ' ' <class 'lxml.etree.ParserError'>\n",
        "Unexpected error on string ' ' <class 'lxml.etree.ParserError'>\n",
        "Unexpected error on string ' ' <class 'lxml.etree.ParserError'>\n",
        "Unexpected error on string ' ' <class 'lxml.etree.ParserError'>\n",
        "Unexpected error on string ' ' <class 'lxml.etree.ParserError'>\n",
        "Unexpected error on string ' ' <class 'lxml.etree.ParserError'>\n",
        "Unexpected error on string ' ' <class 'lxml.etree.ParserError'>\n",
        "Unexpected error on string ' ' <class 'lxml.etree.ParserError'>\n",
        "Unexpected error on string ' ' <class 'lxml.etree.ParserError'>\n",
        "Unexpected error on string '<' <class 'lxml.etree.ParserError'>\n",
        "Unexpected error on string ' ' <class 'lxml.etree.ParserError'>\n",
        "Unexpected error on string '<' <class 'lxml.etree.ParserError'>\n",
        "Unexpected error on string ' ' <class 'lxml.etree.ParserError'>\n",
        "Unexpected error on string ' ' <class 'lxml.etree.ParserError'>\n",
        "Unexpected error on string ' ' <class 'lxml.etree.ParserError'>\n",
        "Unexpected error on string ' ' <class 'lxml.etree.ParserError'>\n",
        "Unexpected error on string ' ' <class 'lxml.etree.ParserError'>\n",
        "Unexpected error on string ' ' <class 'lxml.etree.ParserError'>\n",
        "Unexpected error on string ' ' <class 'lxml.etree.ParserError'>\n",
        "Unexpected error on string ' ' <class 'lxml.etree.ParserError'>\n",
        "Unexpected error on string ' ' <class 'lxml.etree.ParserError'>\n",
        "Unexpected error on string ' ' <class 'lxml.etree.ParserError'>\n",
        "Unexpected error on string ' ' <class 'lxml.etree.ParserError'>\n",
        "Unexpected error on string ' ' <class 'lxml.etree.ParserError'>\n",
        "Unexpected error on string ' ' <class 'lxml.etree.ParserError'>\n",
        "Unexpected error on string ' ' <class 'lxml.etree.ParserError'>\n",
        "Unexpected error on string ' ' <class 'lxml.etree.ParserError'>\n",
        "Unexpected error on string ' ' <class 'lxml.etree.ParserError'>\n",
        "Unexpected error on string ' ' <class 'lxml.etree.ParserError'>\n",
        "Unexpected error on string ' ' <class 'lxml.etree.ParserError'>\n",
        "Unexpected error on string ' ' <class 'lxml.etree.ParserError'>\n",
        "Unexpected error on string ' ' <class 'lxml.etree.ParserError'>\n",
        "Unexpected error on string ' ' <class 'lxml.etree.ParserError'>\n",
        "Unexpected error on string ' ' <class 'lxml.etree.ParserError'>\n",
        "Unexpected error on string ' ' <class 'lxml.etree.ParserError'>\n",
        "Unexpected error on string ' ' <class 'lxml.etree.ParserError'>\n",
        "Unexpected error on string ' ' <class 'lxml.etree.ParserError'>\n",
        "Unexpected error on string ' ' <class 'lxml.etree.ParserError'>\n",
        "Unexpected error on string ' ' <class 'lxml.etree.ParserError'>\n",
        "Unexpected error on string ' ' <class 'lxml.etree.ParserError'>\n",
        "Unexpected error on string ' ' <class 'lxml.etree.ParserError'>\n",
        "Unexpected error on string ' ' <class 'lxml.etree.ParserError'>\n",
        "Unexpected error on string ' ' <class 'lxml.etree.ParserError'>\n",
        "Unexpected error on string ' ' <class 'lxml.etree.ParserError'>\n",
        "Unexpected error on string ' ' <class 'lxml.etree.ParserError'>\n",
        "Unexpected error on string ' ' <class 'lxml.etree.ParserError'>\n",
        "Unexpected error on string ' ' <class 'lxml.etree.ParserError'>\n",
        "Unexpected error on string ' ' <class 'lxml.etree.ParserError'>\n",
        "Unexpected error on string ' ' <class 'lxml.etree.ParserError'>\n",
        "Unexpected error on string ' ' <class 'lxml.etree.ParserError'>\n",
        "Unexpected error on string ' ' <class 'lxml.etree.ParserError'>\n",
        "Unexpected error on string ' ' <class 'lxml.etree.ParserError'>\n",
        "Unexpected error on string ' ' <class 'lxml.etree.ParserError'>\n",
        "Unexpected error on string ' ' <class 'lxml.etree.ParserError'>\n",
        "Unexpected error on string ' ' <class 'lxml.etree.ParserError'>\n",
        "Unexpected error on string ' ' <class 'lxml.etree.ParserError'>\n",
        "Unexpected error on string ' '"
       ]
      },
      {
       "output_type": "stream",
       "stream": "stdout",
       "text": [
        " <class 'lxml.etree.ParserError'>\n",
        "Unexpected error on string ' ' <class 'lxml.etree.ParserError'>\n",
        "Unexpected error on string ' ' <class 'lxml.etree.ParserError'>\n",
        "Unexpected error on string ' ' <class 'lxml.etree.ParserError'>\n",
        "Unexpected error on string ' ' <class 'lxml.etree.ParserError'>\n",
        "Unexpected error on string ' ' <class 'lxml.etree.ParserError'>\n",
        "Unexpected error on string ' ' <class 'lxml.etree.ParserError'>\n",
        "Unexpected error on string ' ' <class 'lxml.etree.ParserError'>\n",
        "Unexpected error on string ' ' <class 'lxml.etree.ParserError'>\n",
        "Unexpected error on string ' ' <class 'lxml.etree.ParserError'>\n",
        "Unexpected error on string ' ' <class 'lxml.etree.ParserError'>\n",
        "Unexpected error on string ' ' <class 'lxml.etree.ParserError'>\n",
        "Unexpected error on string ' ' <class 'lxml.etree.ParserError'>\n",
        "Unexpected error on string ' ' <class 'lxml.etree.ParserError'>\n",
        "Unexpected error on string ' ' <class 'lxml.etree.ParserError'>\n",
        "Unexpected error on string ' ' <class 'lxml.etree.ParserError'>\n",
        "Unexpected error on string ' ' <class 'lxml.etree.ParserError'>\n",
        "Unexpected error on string ' ' <class 'lxml.etree.ParserError'>\n",
        "Unexpected error on string ' ' <class 'lxml.etree.ParserError'>\n",
        "Unexpected error on string ' ' <class 'lxml.etree.ParserError'>\n",
        "Unexpected error on string ' ' <class 'lxml.etree.ParserError'>\n",
        "Unexpected error on string '<' <class 'lxml.etree.ParserError'>\n",
        "Unexpected error on string ' ' <class 'lxml.etree.ParserError'>\n",
        "Unexpected error on string '<' <class 'lxml.etree.ParserError'>\n",
        "Unexpected error on string ' ' <class 'lxml.etree.ParserError'>\n",
        "Unexpected error on string ' ' <class 'lxml.etree.ParserError'>\n",
        "Unexpected error on string ' ' <class 'lxml.etree.ParserError'>\n",
        "Unexpected error on string ' ' <class 'lxml.etree.ParserError'>\n",
        "Unexpected error on string ' ' <class 'lxml.etree.ParserError'>\n",
        "Unexpected error on string ' ' <class 'lxml.etree.ParserError'>\n",
        "Unexpected error on string ' ' <class 'lxml.etree.ParserError'>\n",
        "Unexpected error on string ' ' <class 'lxml.etree.ParserError'>\n",
        "Unexpected error on string ' ' <class 'lxml.etree.ParserError'>\n",
        "Unexpected error on string ' ' <class 'lxml.etree.ParserError'>\n",
        "Unexpected error on string ' ' <class 'lxml.etree.ParserError'>\n",
        "Unexpected error on string ' ' <class 'lxml.etree.ParserError'>\n",
        "Unexpected error on string ' ' <class 'lxml.etree.ParserError'>\n",
        "Unexpected error on string ' ' <class 'lxml.etree.ParserError'>\n",
        "Unexpected error on string ' ' <class 'lxml.etree.ParserError'>\n",
        "Unexpected error on string ' ' <class 'lxml.etree.ParserError'>\n",
        "Unexpected error on string ' ' <class 'lxml.etree.ParserError'>\n",
        "Unexpected error on string ' ' <class 'lxml.etree.ParserError'>\n",
        "Unexpected error on string ' ' <class 'lxml.etree.ParserError'>\n",
        "Unexpected error on string ' ' <class 'lxml.etree.ParserError'>\n",
        "Unexpected error on string ' ' <class 'lxml.etree.ParserError'>\n",
        "Unexpected error on string ' ' <class 'lxml.etree.ParserError'>\n",
        "Unexpected error on string ' ' <class 'lxml.etree.ParserError'>\n",
        "Unexpected error on string ' ' <class 'lxml.etree.ParserError'>\n",
        "Unexpected error on string ' ' <class 'lxml.etree.ParserError'>\n",
        "Unexpected error on string ' ' <class 'lxml.etree.ParserError'>\n",
        "Unexpected error on string ' ' <class 'lxml.etree.ParserError'>\n",
        "Unexpected error on string ' ' <class 'lxml.etree.ParserError'>\n",
        "Unexpected error on string ' ' <class 'lxml.etree.ParserError'>\n",
        "Unexpected error on string ' ' <class 'lxml.etree.ParserError'>\n",
        "Unexpected error on string ' ' <class 'lxml.etree.ParserError'>\n",
        "Unexpected error on string ' ' <class 'lxml.etree.ParserError'>\n",
        "Unexpected error on string ' ' <class 'lxml.etree.ParserError'>\n",
        "Unexpected error on string ' ' <class 'lxml.etree.ParserError'>\n",
        "Unexpected error on string ' ' <class 'lxml.etree.ParserError'>\n",
        "Unexpected error on string ' ' <class 'lxml.etree.ParserError'>\n",
        "Unexpected error on string ' ' <class 'lxml.etree.ParserError'>\n",
        "Unexpected error on string ' ' <class 'lxml.etree.ParserError'>\n",
        "Unexpected error on string ' ' <class 'lxml.etree.ParserError'>\n",
        "Unexpected error on string ' ' <class 'lxml.etree.ParserError'>\n",
        "Unexpected error on string ' ' <class 'lxml.etree.ParserError'>\n",
        "Unexpected error on string ' ' <class 'lxml.etree.ParserError'>\n",
        "Unexpected error on string ' ' <class 'lxml.etree.ParserError'>\n",
        "Unexpected error on string ' ' <class 'lxml.etree.ParserError'>\n",
        "Unexpected error on string ' ' <class 'lxml.etree.ParserError'>\n",
        "Unexpected error on string ' ' <class 'lxml.etree.ParserError'>\n",
        "Unexpected error on string ' ' <class 'lxml.etree.ParserError'>\n",
        "Unexpected error on string ' ' <class 'lxml.etree.ParserError'>\n",
        "Unexpected error on string ' ' <class 'lxml.etree.ParserError'>\n",
        "Unexpected error on string ' ' <class 'lxml.etree.ParserError'>\n",
        "Unexpected error on string ' ' <class 'lxml.etree.ParserError'>\n",
        "Unexpected error on string ' ' <class 'lxml.etree.ParserError'>\n",
        "Unexpected error on string ' ' <class 'lxml.etree.ParserError'>\n",
        "Unexpected error on string ' ' <class 'lxml.etree.ParserError'>\n",
        "Unexpected error on string ' ' <class 'lxml.etree.ParserError'>\n",
        "Unexpected error on string ' ' <class 'lxml.etree.ParserError'>\n",
        "Unexpected error on string ' ' <class 'lxml.etree.ParserError'>\n",
        "Unexpected error on string ' ' <class 'lxml.etree.ParserError'>\n",
        "Unexpected error on string ' ' <class 'lxml.etree.ParserError'>\n",
        "Unexpected error on string ' ' <class 'lxml.etree.ParserError'>\n",
        "Unexpected error on string ' ' <class 'lxml.etree.ParserError'>\n",
        "Unexpected error on string ' ' <class 'lxml.etree.ParserError'>\n",
        "Unexpected error on string ' ' <class 'lxml.etree.ParserError'>\n",
        "Unexpected error on string ' ' <class 'lxml.etree.ParserError'>\n",
        "Unexpected error on string ' ' <class 'lxml.etree.ParserError'>\n",
        "Unexpected error on string ' ' <class 'lxml.etree.ParserError'>\n",
        "Unexpected error on string ' ' <class 'lxml.etree.ParserError'>\n",
        "Unexpected error on string ' ' <class 'lxml.etree.ParserError'>\n",
        "Unexpected error on string ' ' <class 'lxml.etree.ParserError'>\n",
        "Unexpected error on string ' ' <class 'lxml.etree.ParserError'>\n",
        "Unexpected error on string '<' <class 'lxml.etree.ParserError'>\n",
        "Unexpected error on string ' ' <class 'lxml.etree.ParserError'>\n",
        "Unexpected error on string '<' <class 'lxml.etree.ParserError'>\n",
        "Unexpected error on string ' ' <class 'lxml.etree.ParserError'>\n",
        "Unexpected error on string ' ' <class 'lxml.etree.ParserError'>\n",
        "Unexpected error on string ' ' <class 'lxml.etree.ParserError'>\n",
        "Unexpected error on string ' ' <class 'lxml.etree.ParserError'>\n",
        "Unexpected error on string ' ' <class 'lxml.etree.ParserError'>\n",
        "Unexpected error on string ' ' <class 'lxml.etree.ParserError'>\n",
        "Unexpected error on string ' ' <class 'lxml.etree.ParserError'>\n",
        "Unexpected error on string ' ' <class 'lxml.etree.ParserError'>\n",
        "Unexpected error on string ' ' <class 'lxml.etree.ParserError'>\n",
        "Unexpected error on string ' ' <class 'lxml.etree.ParserError'>\n",
        "Unexpected error on string ' ' <class 'lxml.etree.ParserError'>\n",
        "Unexpected error on string ' ' <class 'lxml.etree.ParserError'>\n",
        "Unexpected error on string ' ' <class 'lxml.etree.ParserError'>\n",
        "Unexpected error on string ' ' <class 'lxml.etree.ParserError'>\n",
        "Unexpected error on string ' ' <class 'lxml.etree.ParserError'>\n",
        "Unexpected error on string ' ' <class 'lxml.etree.ParserError'>\n",
        "Unexpected error on string ' ' <class 'lxml.etree.ParserError'>\n",
        "Unexpected error on string ' ' <class 'lxml.etree.ParserError'>\n",
        "Unexpected error on string ' ' <class 'lxml.etree.ParserError'>\n",
        "Unexpected error on string ' '"
       ]
      },
      {
       "output_type": "stream",
       "stream": "stdout",
       "text": [
        " <class 'lxml.etree.ParserError'>\n",
        "Unexpected error on string ' ' <class 'lxml.etree.ParserError'>\n",
        "Unexpected error on string ' ' <class 'lxml.etree.ParserError'>\n",
        "Unexpected error on string ' ' <class 'lxml.etree.ParserError'>\n",
        "Unexpected error on string ' ' <class 'lxml.etree.ParserError'>\n",
        "Unexpected error on string ' ' <class 'lxml.etree.ParserError'>\n",
        "Unexpected error on string ' ' <class 'lxml.etree.ParserError'>\n",
        "Unexpected error on string ' ' <class 'lxml.etree.ParserError'>\n",
        "Unexpected error on string ' ' <class 'lxml.etree.ParserError'>\n",
        "Unexpected error on string ' ' <class 'lxml.etree.ParserError'>\n",
        "Unexpected error on string ' ' <class 'lxml.etree.ParserError'>\n",
        "Unexpected error on string ' ' <class 'lxml.etree.ParserError'>\n",
        "Unexpected error on string ' ' <class 'lxml.etree.ParserError'>\n",
        "Unexpected error on string ' ' <class 'lxml.etree.ParserError'>\n",
        "Unexpected error on string ' ' <class 'lxml.etree.ParserError'>\n",
        "Unexpected error on string ' ' <class 'lxml.etree.ParserError'>\n",
        "Unexpected error on string ' ' <class 'lxml.etree.ParserError'>\n",
        "Unexpected error on string ' ' <class 'lxml.etree.ParserError'>\n",
        "Unexpected error on string ' ' <class 'lxml.etree.ParserError'>\n",
        "Unexpected error on string ' ' <class 'lxml.etree.ParserError'>\n",
        "Unexpected error on string ' ' <class 'lxml.etree.ParserError'>\n",
        "Unexpected error on string ' ' <class 'lxml.etree.ParserError'>\n",
        "Unexpected error on string ' ' <class 'lxml.etree.ParserError'>\n",
        "Unexpected error on string ' ' <class 'lxml.etree.ParserError'>\n",
        "Unexpected error on string ' ' <class 'lxml.etree.ParserError'>\n",
        "Unexpected error on string ' ' <class 'lxml.etree.ParserError'>\n",
        "Unexpected error on string ' ' <class 'lxml.etree.ParserError'>\n",
        "Unexpected error on string ' ' <class 'lxml.etree.ParserError'>\n",
        "Unexpected error on string ' ' <class 'lxml.etree.ParserError'>\n",
        "Unexpected error on string '<' <class 'lxml.etree.ParserError'>\n",
        "Unexpected error on string ' ' <class 'lxml.etree.ParserError'>\n",
        "Unexpected error on string '<' <class 'lxml.etree.ParserError'>\n",
        "Unexpected error on string ' ' <class 'lxml.etree.ParserError'>\n",
        "Unexpected error on string ' ' <class 'lxml.etree.ParserError'>\n",
        "Unexpected error on string ' ' <class 'lxml.etree.ParserError'>\n",
        "Unexpected error on string ' ' <class 'lxml.etree.ParserError'>\n",
        "Unexpected error on string ' ' <class 'lxml.etree.ParserError'>\n",
        "Unexpected error on string ' ' <class 'lxml.etree.ParserError'>\n",
        "Unexpected error on string ' ' <class 'lxml.etree.ParserError'>\n",
        "Unexpected error on string ' ' <class 'lxml.etree.ParserError'>\n",
        "Unexpected error on string ' ' <class 'lxml.etree.ParserError'>\n",
        "Unexpected error on string ' ' <class 'lxml.etree.ParserError'>\n",
        "Unexpected error on string ' ' <class 'lxml.etree.ParserError'>\n",
        "Unexpected error on string ' ' <class 'lxml.etree.ParserError'>\n",
        "Unexpected error on string ' ' <class 'lxml.etree.ParserError'>\n",
        "Unexpected error on string ' ' <class 'lxml.etree.ParserError'>\n",
        "Unexpected error on string ' ' <class 'lxml.etree.ParserError'>\n",
        "Unexpected error on string ' ' <class 'lxml.etree.ParserError'>\n",
        "Unexpected error on string ' ' <class 'lxml.etree.ParserError'>\n",
        "Unexpected error on string ' ' <class 'lxml.etree.ParserError'>\n",
        "Unexpected error on string ' ' <class 'lxml.etree.ParserError'>\n",
        "Unexpected error on string ' ' <class 'lxml.etree.ParserError'>\n",
        "Unexpected error on string ' ' <class 'lxml.etree.ParserError'>\n",
        "Unexpected error on string ' ' <class 'lxml.etree.ParserError'>\n",
        "Unexpected error on string ' ' <class 'lxml.etree.ParserError'>\n",
        "Unexpected error on string ' ' <class 'lxml.etree.ParserError'>\n",
        "Unexpected error on string ' ' <class 'lxml.etree.ParserError'>\n",
        "Unexpected error on string ' ' <class 'lxml.etree.ParserError'>\n",
        "Unexpected error on string ' ' <class 'lxml.etree.ParserError'>\n",
        "Unexpected error on string ' ' <class 'lxml.etree.ParserError'>\n",
        "Unexpected error on string ' ' <class 'lxml.etree.ParserError'>\n",
        "Unexpected error on string ' ' <class 'lxml.etree.ParserError'>\n",
        "Unexpected error on string ' ' <class 'lxml.etree.ParserError'>\n",
        "Unexpected error on string ' ' <class 'lxml.etree.ParserError'>\n",
        "Unexpected error on string ' ' <class 'lxml.etree.ParserError'>\n",
        "Unexpected error on string ' ' <class 'lxml.etree.ParserError'>\n",
        "Unexpected error on string ' ' <class 'lxml.etree.ParserError'>\n",
        "Unexpected error on string ' ' <class 'lxml.etree.ParserError'>\n",
        "Unexpected error on string ' ' <class 'lxml.etree.ParserError'>\n",
        "Unexpected error on string ' ' <class 'lxml.etree.ParserError'>\n",
        "Unexpected error on string ' ' <class 'lxml.etree.ParserError'>\n",
        "Unexpected error on string ' ' <class 'lxml.etree.ParserError'>\n",
        "Unexpected error on string ' ' <class 'lxml.etree.ParserError'>\n",
        "Unexpected error on string ' ' <class 'lxml.etree.ParserError'>\n",
        "Unexpected error on string ' ' <class 'lxml.etree.ParserError'>\n",
        "Unexpected error on string ' ' <class 'lxml.etree.ParserError'>\n",
        "Unexpected error on string ' ' <class 'lxml.etree.ParserError'>\n",
        "Unexpected error on string ' ' <class 'lxml.etree.ParserError'>\n",
        "Unexpected error on string ' ' <class 'lxml.etree.ParserError'>\n",
        "Unexpected error on string ' ' <class 'lxml.etree.ParserError'>\n",
        "Unexpected error on string ' ' <class 'lxml.etree.ParserError'>\n",
        "Unexpected error on string ' ' <class 'lxml.etree.ParserError'>\n",
        "Unexpected error on string ' ' <class 'lxml.etree.ParserError'>\n",
        "Unexpected error on string ' ' <class 'lxml.etree.ParserError'>\n",
        "Unexpected error on string ' ' <class 'lxml.etree.ParserError'>\n",
        "Unexpected error on string ' ' <class 'lxml.etree.ParserError'>\n",
        "Unexpected error on string ' ' <class 'lxml.etree.ParserError'>\n",
        "Unexpected error on string ' ' <class 'lxml.etree.ParserError'>\n",
        "Unexpected error on string ' ' <class 'lxml.etree.ParserError'>\n",
        "Unexpected error on string '<' <class 'lxml.etree.ParserError'>\n",
        "Unexpected error on string ' ' <class 'lxml.etree.ParserError'>\n",
        "Unexpected error on string '<' <class 'lxml.etree.ParserError'>\n",
        "Unexpected error on string ' ' <class 'lxml.etree.ParserError'>\n",
        "Unexpected error on string ' ' <class 'lxml.etree.ParserError'>\n",
        "Unexpected error on string ' ' <class 'lxml.etree.ParserError'>\n",
        "Unexpected error on string ' ' <class 'lxml.etree.ParserError'>\n",
        "Unexpected error on string ' ' <class 'lxml.etree.ParserError'>\n",
        "Unexpected error on string ' ' <class 'lxml.etree.ParserError'>\n",
        "Unexpected error on string ' ' <class 'lxml.etree.ParserError'>\n",
        "Unexpected error on string ' ' <class 'lxml.etree.ParserError'>\n",
        "Unexpected error on string ' ' <class 'lxml.etree.ParserError'>\n",
        "Unexpected error on string ' ' <class 'lxml.etree.ParserError'>\n",
        "Unexpected error on string ' ' <class 'lxml.etree.ParserError'>\n",
        "Unexpected error on string ' ' <class 'lxml.etree.ParserError'>\n",
        "Unexpected error on string ' ' <class 'lxml.etree.ParserError'>\n",
        "Unexpected error on string ' ' <class 'lxml.etree.ParserError'>\n",
        "Unexpected error on string ' ' <class 'lxml.etree.ParserError'>\n",
        "Unexpected error on string ' ' <class 'lxml.etree.ParserError'>\n",
        "Unexpected error on string ' ' <class 'lxml.etree.ParserError'>\n",
        "Unexpected error on string ' ' <class 'lxml.etree.ParserError'>\n",
        "Unexpected error on string ' ' <class 'lxml.etree.ParserError'>\n",
        "Unexpected error on string ' ' <class 'lxml.etree.ParserError'>\n",
        "Unexpected error on string ' ' <class 'lxml.etree.ParserError'>\n",
        "Unexpected error on string ' ' <class 'lxml.etree.ParserError'>\n",
        "Unexpected error on string ' ' <class 'lxml.etree.ParserError'>\n",
        "Unexpected error on string ' ' <class 'lxml.etree.ParserError'>\n",
        "Unexpected error on string ' ' <class 'lxml.etree.ParserError'>\n",
        "Unexpected error on string ' ' <class 'lxml.etree.ParserError'>\n",
        "Unexpected error on string ' ' <class 'lxml.etree.ParserError'>\n",
        "Unexpected error on string ' ' <class 'lxml.etree.ParserError'>\n",
        "Unexpected error on string ' ' <class 'lxml.etree.ParserError'>\n",
        "Unexpected error on string ' ' <class 'lxml.etree.ParserError'>\n",
        "Unexpected error on string ' '"
       ]
      },
      {
       "output_type": "stream",
       "stream": "stdout",
       "text": [
        " <class 'lxml.etree.ParserError'>\n",
        "Unexpected error on string ' ' <class 'lxml.etree.ParserError'>\n",
        "Unexpected error on string ' ' <class 'lxml.etree.ParserError'>\n",
        "Unexpected error on string ' ' <class 'lxml.etree.ParserError'>\n",
        "Unexpected error on string ' ' <class 'lxml.etree.ParserError'>\n",
        "Unexpected error on string ' ' <class 'lxml.etree.ParserError'>\n",
        "Unexpected error on string ' ' <class 'lxml.etree.ParserError'>\n",
        "Unexpected error on string ' ' <class 'lxml.etree.ParserError'>\n",
        "Unexpected error on string ' ' <class 'lxml.etree.ParserError'>\n",
        "Unexpected error on string ' ' <class 'lxml.etree.ParserError'>\n",
        "Unexpected error on string ' ' <class 'lxml.etree.ParserError'>\n",
        "Unexpected error on string ' ' <class 'lxml.etree.ParserError'>\n",
        "Unexpected error on string ' ' <class 'lxml.etree.ParserError'>\n",
        "Unexpected error on string ' ' <class 'lxml.etree.ParserError'>\n",
        "Unexpected error on string ' ' <class 'lxml.etree.ParserError'>\n",
        "Unexpected error on string ' ' <class 'lxml.etree.ParserError'>\n",
        "Unexpected error on string ' ' <class 'lxml.etree.ParserError'>\n",
        "Unexpected error on string ' ' <class 'lxml.etree.ParserError'>\n",
        "Unexpected error on string ' ' <class 'lxml.etree.ParserError'>\n",
        "Unexpected error on string ' ' <class 'lxml.etree.ParserError'>\n",
        "Unexpected error on string ' ' <class 'lxml.etree.ParserError'>\n",
        "Unexpected error on string ' ' <class 'lxml.etree.ParserError'>\n",
        "Unexpected error on string ' ' <class 'lxml.etree.ParserError'>\n",
        "Unexpected error on string ' ' <class 'lxml.etree.ParserError'>\n",
        "Unexpected error on string ' ' <class 'lxml.etree.ParserError'>\n",
        "Unexpected error on string ' ' <class 'lxml.etree.ParserError'>\n",
        "Unexpected error on string ' ' <class 'lxml.etree.ParserError'>\n",
        "Unexpected error on string ' ' <class 'lxml.etree.ParserError'>\n",
        "Unexpected error on string ' ' <class 'lxml.etree.ParserError'>\n",
        "Unexpected error on string ' ' <class 'lxml.etree.ParserError'>\n",
        "Unexpected error on string ' ' <class 'lxml.etree.ParserError'>\n",
        "Unexpected error on string ' ' <class 'lxml.etree.ParserError'>\n",
        "Unexpected error on string ' ' <class 'lxml.etree.ParserError'>\n",
        "Unexpected error on string ' ' <class 'lxml.etree.ParserError'>\n",
        "Unexpected error on string ' ' <class 'lxml.etree.ParserError'>\n",
        "Unexpected error on string ' ' <class 'lxml.etree.ParserError'>\n",
        "Unexpected error on string ' ' <class 'lxml.etree.ParserError'>\n",
        "Unexpected error on string ' ' <class 'lxml.etree.ParserError'>\n",
        "Unexpected error on string ' ' <class 'lxml.etree.ParserError'>\n",
        "Unexpected error on string ' ' <class 'lxml.etree.ParserError'>\n",
        "Unexpected error on string ' ' <class 'lxml.etree.ParserError'>\n",
        "Unexpected error on string ' ' <class 'lxml.etree.ParserError'>\n",
        "Unexpected error on string ' ' <class 'lxml.etree.ParserError'>\n",
        "Unexpected error on string ' ' <class 'lxml.etree.ParserError'>\n",
        "Unexpected error on string ' ' <class 'lxml.etree.ParserError'>\n",
        "Unexpected error on string ' ' <class 'lxml.etree.ParserError'>\n",
        "Unexpected error on string ' ' <class 'lxml.etree.ParserError'>\n",
        "Unexpected error on string '<' <class 'lxml.etree.ParserError'>\n",
        "Unexpected error on string ' ' <class 'lxml.etree.ParserError'>\n",
        "Unexpected error on string '<' <class 'lxml.etree.ParserError'>\n",
        "Unexpected error on string ' ' <class 'lxml.etree.ParserError'>\n",
        "Unexpected error on string ' ' <class 'lxml.etree.ParserError'>\n",
        "Unexpected error on string ' ' <class 'lxml.etree.ParserError'>\n",
        "Unexpected error on string ' ' <class 'lxml.etree.ParserError'>\n",
        "Unexpected error on string ' ' <class 'lxml.etree.ParserError'>\n",
        "Unexpected error on string ' ' <class 'lxml.etree.ParserError'>\n",
        "Unexpected error on string ' ' <class 'lxml.etree.ParserError'>\n",
        "Unexpected error on string ' ' <class 'lxml.etree.ParserError'>\n",
        "Unexpected error on string ' ' <class 'lxml.etree.ParserError'>\n",
        "Unexpected error on string ' ' <class 'lxml.etree.ParserError'>\n",
        "Unexpected error on string ' ' <class 'lxml.etree.ParserError'>\n",
        "Unexpected error on string ' ' <class 'lxml.etree.ParserError'>\n",
        "Unexpected error on string ' ' <class 'lxml.etree.ParserError'>\n",
        "Unexpected error on string ' ' <class 'lxml.etree.ParserError'>\n",
        "Unexpected error on string ' ' <class 'lxml.etree.ParserError'>\n",
        "Unexpected error on string ' ' <class 'lxml.etree.ParserError'>\n",
        "Unexpected error on string ' ' <class 'lxml.etree.ParserError'>\n",
        "Unexpected error on string ' ' <class 'lxml.etree.ParserError'>\n",
        "Unexpected error on string ' ' <class 'lxml.etree.ParserError'>\n",
        "Unexpected error on string ' ' <class 'lxml.etree.ParserError'>\n",
        "Unexpected error on string ' ' <class 'lxml.etree.ParserError'>\n",
        "Unexpected error on string ' ' <class 'lxml.etree.ParserError'>\n",
        "Unexpected error on string ' ' <class 'lxml.etree.ParserError'>\n",
        "Unexpected error on string ' ' <class 'lxml.etree.ParserError'>\n",
        "Unexpected error on string ' ' <class 'lxml.etree.ParserError'>\n",
        "Unexpected error on string ' ' <class 'lxml.etree.ParserError'>\n",
        "Unexpected error on string ' ' <class 'lxml.etree.ParserError'>\n",
        "Unexpected error on string ' ' <class 'lxml.etree.ParserError'>\n",
        "Unexpected error on string ' ' <class 'lxml.etree.ParserError'>\n",
        "Unexpected error on string ' ' <class 'lxml.etree.ParserError'>\n",
        "Unexpected error on string ' ' <class 'lxml.etree.ParserError'>\n",
        "Unexpected error on string ' ' <class 'lxml.etree.ParserError'>\n",
        "Unexpected error on string ' ' <class 'lxml.etree.ParserError'>\n",
        "Unexpected error on string ' ' <class 'lxml.etree.ParserError'>\n",
        "Unexpected error on string ' ' <class 'lxml.etree.ParserError'>\n",
        "Unexpected error on string ' ' <class 'lxml.etree.ParserError'>\n",
        "Unexpected error on string ' ' <class 'lxml.etree.ParserError'>\n",
        "Unexpected error on string ' ' <class 'lxml.etree.ParserError'>\n",
        "Unexpected error on string ' ' <class 'lxml.etree.ParserError'>\n",
        "Unexpected error on string ' ' <class 'lxml.etree.ParserError'>\n",
        "Unexpected error on string ' ' <class 'lxml.etree.ParserError'>\n",
        "Unexpected error on string ' ' <class 'lxml.etree.ParserError'>\n",
        "Unexpected error on string ' ' <class 'lxml.etree.ParserError'>\n",
        "Unexpected error on string ' ' <class 'lxml.etree.ParserError'>\n",
        "Unexpected error on string ' ' <class 'lxml.etree.ParserError'>\n",
        "Unexpected error on string ' ' <class 'lxml.etree.ParserError'>\n",
        "Unexpected error on string ' ' <class 'lxml.etree.ParserError'>\n",
        "Unexpected error on string ' ' <class 'lxml.etree.ParserError'>\n",
        "Unexpected error on string ' ' <class 'lxml.etree.ParserError'>\n",
        "Unexpected error on string ' ' <class 'lxml.etree.ParserError'>\n",
        "Unexpected error on string ' ' <class 'lxml.etree.ParserError'>\n",
        "Unexpected error on string ' ' <class 'lxml.etree.ParserError'>\n",
        "Unexpected error on string ' ' <class 'lxml.etree.ParserError'>\n",
        "Unexpected error on string ' ' <class 'lxml.etree.ParserError'>\n",
        "Unexpected error on string ' ' <class 'lxml.etree.ParserError'>\n",
        "Unexpected error on string ' ' <class 'lxml.etree.ParserError'>\n",
        "Unexpected error on string '<' <class 'lxml.etree.ParserError'>\n",
        "Unexpected error on string ' ' <class 'lxml.etree.ParserError'>\n",
        "Unexpected error on string '<' <class 'lxml.etree.ParserError'>\n",
        "Unexpected error on string ' ' <class 'lxml.etree.ParserError'>\n",
        "Unexpected error on string ' ' <class 'lxml.etree.ParserError'>\n",
        "Unexpected error on string ' '"
       ]
      },
      {
       "output_type": "stream",
       "stream": "stdout",
       "text": [
        " <class 'lxml.etree.ParserError'>\n",
        "Unexpected error on string ' ' <class 'lxml.etree.ParserError'>\n",
        "Unexpected error on string ' ' <class 'lxml.etree.ParserError'>\n",
        "Unexpected error on string ' ' <class 'lxml.etree.ParserError'>\n",
        "Unexpected error on string ' ' <class 'lxml.etree.ParserError'>\n",
        "Unexpected error on string ' ' <class 'lxml.etree.ParserError'>\n",
        "Unexpected error on string ' ' <class 'lxml.etree.ParserError'>\n",
        "Unexpected error on string ' ' <class 'lxml.etree.ParserError'>\n",
        "Unexpected error on string ' ' <class 'lxml.etree.ParserError'>\n",
        "Unexpected error on string ' ' <class 'lxml.etree.ParserError'>\n",
        "Unexpected error on string ' ' <class 'lxml.etree.ParserError'>\n",
        "Unexpected error on string ' ' <class 'lxml.etree.ParserError'>\n",
        "Unexpected error on string ' ' <class 'lxml.etree.ParserError'>\n",
        "Unexpected error on string ' ' <class 'lxml.etree.ParserError'>\n",
        "Unexpected error on string ' ' <class 'lxml.etree.ParserError'>\n",
        "Unexpected error on string ' ' <class 'lxml.etree.ParserError'>\n",
        "Unexpected error on string ' ' <class 'lxml.etree.ParserError'>\n",
        "Unexpected error on string ' ' <class 'lxml.etree.ParserError'>\n",
        "Unexpected error on string ' ' <class 'lxml.etree.ParserError'>\n",
        "Unexpected error on string ' ' <class 'lxml.etree.ParserError'>\n",
        "Unexpected error on string ' ' <class 'lxml.etree.ParserError'>\n",
        "Unexpected error on string ' ' <class 'lxml.etree.ParserError'>\n",
        "Unexpected error on string ' ' <class 'lxml.etree.ParserError'>\n",
        "Unexpected error on string ' ' <class 'lxml.etree.ParserError'>\n",
        "Unexpected error on string ' ' <class 'lxml.etree.ParserError'>\n",
        "Unexpected error on string ' ' <class 'lxml.etree.ParserError'>\n",
        "Unexpected error on string ' ' <class 'lxml.etree.ParserError'>\n",
        "Unexpected error on string ' ' <class 'lxml.etree.ParserError'>\n",
        "Unexpected error on string ' ' <class 'lxml.etree.ParserError'>\n",
        "Unexpected error on string ' ' <class 'lxml.etree.ParserError'>\n",
        "Unexpected error on string ' ' <class 'lxml.etree.ParserError'>\n",
        "Unexpected error on string ' ' <class 'lxml.etree.ParserError'>\n",
        "Unexpected error on string ' ' <class 'lxml.etree.ParserError'>\n",
        "Unexpected error on string ' ' <class 'lxml.etree.ParserError'>\n",
        "Unexpected error on string ' ' <class 'lxml.etree.ParserError'>\n",
        "Unexpected error on string ' ' <class 'lxml.etree.ParserError'>\n",
        "Unexpected error on string ' ' <class 'lxml.etree.ParserError'>\n",
        "Unexpected error on string ' ' <class 'lxml.etree.ParserError'>\n",
        "Unexpected error on string ' ' <class 'lxml.etree.ParserError'>\n",
        "Unexpected error on string ' ' <class 'lxml.etree.ParserError'>\n",
        "Unexpected error on string ' ' <class 'lxml.etree.ParserError'>\n",
        "Unexpected error on string ' ' <class 'lxml.etree.ParserError'>\n",
        "Unexpected error on string ' ' <class 'lxml.etree.ParserError'>\n",
        "Unexpected error on string ' ' <class 'lxml.etree.ParserError'>\n",
        "Unexpected error on string ' ' <class 'lxml.etree.ParserError'>\n",
        "Unexpected error on string ' ' <class 'lxml.etree.ParserError'>\n",
        "Unexpected error on string ' ' <class 'lxml.etree.ParserError'>\n",
        "Unexpected error on string ' ' <class 'lxml.etree.ParserError'>\n",
        "Unexpected error on string ' ' <class 'lxml.etree.ParserError'>\n",
        "Unexpected error on string ' ' <class 'lxml.etree.ParserError'>\n",
        "Unexpected error on string ' ' <class 'lxml.etree.ParserError'>\n",
        "Unexpected error on string ' ' <class 'lxml.etree.ParserError'>\n",
        "Unexpected error on string ' ' <class 'lxml.etree.ParserError'>\n",
        "Unexpected error on string ' ' <class 'lxml.etree.ParserError'>\n",
        "Unexpected error on string ' ' <class 'lxml.etree.ParserError'>\n",
        "Unexpected error on string '<' <class 'lxml.etree.ParserError'>\n",
        "Unexpected error on string ' ' <class 'lxml.etree.ParserError'>\n",
        "Unexpected error on string '<' <class 'lxml.etree.ParserError'>\n",
        "Unexpected error on string ' ' <class 'lxml.etree.ParserError'>\n",
        "Unexpected error on string ' ' <class 'lxml.etree.ParserError'>\n",
        "Unexpected error on string ' ' <class 'lxml.etree.ParserError'>\n",
        "Unexpected error on string ' ' <class 'lxml.etree.ParserError'>\n",
        "Unexpected error on string ' ' <class 'lxml.etree.ParserError'>\n",
        "Unexpected error on string ' ' <class 'lxml.etree.ParserError'>\n",
        "Unexpected error on string ' ' <class 'lxml.etree.ParserError'>\n",
        "Unexpected error on string ' ' <class 'lxml.etree.ParserError'>\n",
        "Unexpected error on string ' ' <class 'lxml.etree.ParserError'>\n",
        "Unexpected error on string ' ' <class 'lxml.etree.ParserError'>\n",
        "Unexpected error on string ' ' <class 'lxml.etree.ParserError'>\n",
        "Unexpected error on string ' ' <class 'lxml.etree.ParserError'>\n",
        "Unexpected error on string ' ' <class 'lxml.etree.ParserError'>\n",
        "Unexpected error on string ' ' <class 'lxml.etree.ParserError'>\n",
        "Unexpected error on string ' ' <class 'lxml.etree.ParserError'>\n",
        "Unexpected error on string ' ' <class 'lxml.etree.ParserError'>\n",
        "Unexpected error on string ' ' <class 'lxml.etree.ParserError'>\n",
        "Unexpected error on string ' ' <class 'lxml.etree.ParserError'>\n",
        "Unexpected error on string ' ' <class 'lxml.etree.ParserError'>\n",
        "Unexpected error on string ' ' <class 'lxml.etree.ParserError'>\n",
        "Unexpected error on string ' ' <class 'lxml.etree.ParserError'>\n",
        "Unexpected error on string ' ' <class 'lxml.etree.ParserError'>\n",
        "Unexpected error on string ' ' <class 'lxml.etree.ParserError'>\n",
        "Unexpected error on string ' ' <class 'lxml.etree.ParserError'>\n",
        "Unexpected error on string ' ' <class 'lxml.etree.ParserError'>\n",
        "Unexpected error on string ' ' <class 'lxml.etree.ParserError'>\n",
        "Unexpected error on string ' ' <class 'lxml.etree.ParserError'>\n",
        "Unexpected error on string ' ' <class 'lxml.etree.ParserError'>\n",
        "Unexpected error on string ' ' <class 'lxml.etree.ParserError'>\n",
        "Unexpected error on string '<' <class 'lxml.etree.ParserError'>\n",
        "Unexpected error on string '<' <class 'lxml.etree.ParserError'>\n",
        "Unexpected error on string ' ' <class 'lxml.etree.ParserError'>\n",
        "Unexpected error on string ' ' <class 'lxml.etree.ParserError'>\n",
        "Unexpected error on string '<' <class 'lxml.etree.ParserError'>\n",
        "Unexpected error on string '<' <class 'lxml.etree.ParserError'>\n",
        "Unexpected error on string ' ' <class 'lxml.etree.ParserError'>\n",
        "Unexpected error on string ' ' <class 'lxml.etree.ParserError'>\n",
        "Unexpected error on string '<' <class 'lxml.etree.ParserError'>\n",
        "Unexpected error on string '<' <class 'lxml.etree.ParserError'>\n",
        "Unexpected error on string '<' <class 'lxml.etree.ParserError'>\n",
        "Unexpected error on string ' ' <class 'lxml.etree.ParserError'>\n",
        "Unexpected error on string ' '"
       ]
      },
      {
       "output_type": "stream",
       "stream": "stdout",
       "text": [
        " <class 'lxml.etree.ParserError'>\n",
        "{'heur': 3664, 'boiler_pipe': 236, 'crf': 154, 'downloads_id': 415978069}"
       ]
      },
      {
       "output_type": "stream",
       "stream": "stdout",
       "text": [
        "\n",
        "downloads_id: 416026460\n",
        "[471, 505, 507]"
       ]
      },
      {
       "output_type": "stream",
       "stream": "stdout",
       "text": [
        "\n",
        "[471]\n",
        "[471, 474, 505, 507]\n",
        "original article tmp file "
       ]
      },
      {
       "output_type": "stream",
       "stream": "stdout",
       "text": [
        " /tmp/tmpbuago3.html\n",
        "/tmp/tmpkpCBU2.html\n",
        "/tmp/tmpbuago3.html\n",
        "/tmp/tmpbuago3.html\n",
        "Now open file:///tmp/tmpkpCBU2.html in your web browser\n"
       ]
      },
      {
       "output_type": "stream",
       "stream": "stdout",
       "text": [
        "\n",
        "Unexpected error on string ' ' <class 'lxml.etree.ParserError'>\n",
        "Unexpected error on string ' ' <class 'lxml.etree.ParserError'>\n",
        "Unexpected error on string ' ' <class 'lxml.etree.ParserError'>\n",
        "Unexpected error on string ' ' <class 'lxml.etree.ParserError'>\n",
        "Unexpected error on string ' ' <class 'lxml.etree.ParserError'>\n",
        "Unexpected error on string ' ' <class 'lxml.etree.ParserError'>\n",
        "Unexpected error on string ' ' <class 'lxml.etree.ParserError'>\n",
        "Unexpected error on string ' ' <class 'lxml.etree.ParserError'>\n",
        "Unexpected error on string ' ' <class 'lxml.etree.ParserError'>\n",
        "Unexpected error on string ' ' <class 'lxml.etree.ParserError'>\n",
        "Unexpected error on string ' ' <class 'lxml.etree.ParserError'>\n",
        "Unexpected error on string ' ' <class 'lxml.etree.ParserError'>\n",
        "Unexpected error on string ' ' <class 'lxml.etree.ParserError'>\n",
        "Unexpected error on string ' ' <class 'lxml.etree.ParserError'>\n",
        "Unexpected error on string ' ' <class 'lxml.etree.ParserError'>\n",
        "Unexpected error on string ' ' <class 'lxml.etree.ParserError'>\n",
        "Unexpected error on string '<' <class 'lxml.etree.ParserError'>\n",
        "Unexpected error on string ' ' <class 'lxml.etree.ParserError'>\n",
        "Unexpected error on string ' ' <class 'lxml.etree.ParserError'>\n",
        "Unexpected error on string ' ' <class 'lxml.etree.ParserError'>\n",
        "Unexpected error on string ' ' <class 'lxml.etree.ParserError'>\n",
        "Unexpected error on string ' ' <class 'lxml.etree.ParserError'>\n",
        "Unexpected error on string ' ' <class 'lxml.etree.ParserError'>\n",
        "Unexpected error on string '<' <class 'lxml.etree.ParserError'>\n",
        "{'heur': 38, 'boiler_pipe': 36, 'crf': 749, 'downloads_id': 416026460}\n",
        "downloads_id: 416026587\n",
        "[767, 770, 773, 776, 779, 782, 785, 788, 791, 794, 1501, 1543, 1547]"
       ]
      },
      {
       "output_type": "stream",
       "stream": "stdout",
       "text": [
        "\n",
        "[690, 697, 767, 770, 773, 776, 779, 782, 785, 788, 791, 794]\n",
        "[690, 701, 767, 770, 773, 776, 779, 782, 785, 788, 791, 794]"
       ]
      },
      {
       "output_type": "stream",
       "stream": "stdout",
       "text": [
        "\n",
        "original article tmp file "
       ]
      },
      {
       "output_type": "stream",
       "stream": "stdout",
       "text": [
        " /tmp/tmpitIUa_.html\n",
        "/tmp/tmpTi9izs.html\n",
        "/tmp/tmpitIUa_.html\n",
        "/tmp/tmpitIUa_.html\n",
        "Now open file:///tmp/tmpTi9izs.html in your web browser\n"
       ]
      },
      {
       "output_type": "stream",
       "stream": "stdout",
       "text": [
        "\n",
        "{'heur': 237, 'boiler_pipe': 124, 'crf': 16, 'downloads_id': 416026587}\n",
        "downloads_id: 416047494\n",
        "[626, 627, 628, 642, 654, 666, 678, 691, 692, 693, 708, 709, 747, 748, 1537, 1538, 1593, 1622, 1679, 1724, 1727, 1742]"
       ]
      },
      {
       "output_type": "stream",
       "stream": "stdout",
       "text": [
        "\n",
        "[616, 626, 627, 628]\n",
        "[616, 619, 620, 626, 627, 628]\n",
        "original article tmp file "
       ]
      },
      {
       "output_type": "stream",
       "stream": "stdout",
       "text": [
        " /tmp/tmpLVQe4W.html\n",
        "/tmp/tmpbHtgTX.html\n",
        "/tmp/tmpLVQe4W.html\n",
        "/tmp/tmpLVQe4W.html\n",
        "Now open file:///tmp/tmpbHtgTX.html in your web browser\n"
       ]
      },
      {
       "output_type": "stream",
       "stream": "stdout",
       "text": [
        "\n",
        "{'heur': 2164, 'boiler_pipe': 1440, 'crf': 27, 'downloads_id': 416047494}\n",
        "downloads_id: 416047513\n",
        "[606, 607, 694, 695, 696, 697, 698, 699, 700, 992, 993, 1048, 1077, 1134, 1179, 1182, 1197]"
       ]
      },
      {
       "output_type": "stream",
       "stream": "stdout",
       "text": [
        "\n",
        "[606]\n",
        "[606, 607, 608, 692, 694, 696, 697, 698, 699, 700]"
       ]
      },
      {
       "output_type": "stream",
       "stream": "stdout",
       "text": [
        "\n",
        "original article tmp file "
       ]
      },
      {
       "output_type": "stream",
       "stream": "stdout",
       "text": [
        " /tmp/tmpx_Jrcz.html\n",
        "/tmp/tmpws9461.html\n",
        "/tmp/tmpx_Jrcz.html\n",
        "/tmp/tmpx_Jrcz.html\n",
        "Now open file:///tmp/tmpws9461.html in your web browser\n"
       ]
      },
      {
       "output_type": "stream",
       "stream": "stdout",
       "text": [
        "\n",
        "Unexpected error on string '\t' <class 'lxml.etree.ParserError'>\n",
        "Unexpected error on string '\t' <class 'lxml.etree.ParserError'>\n",
        "Unexpected error on string '\t' <class 'lxml.etree.ParserError'>\n",
        "Unexpected error on string '\t' <class 'lxml.etree.ParserError'>\n",
        "Unexpected error on string '\t' <class 'lxml.etree.ParserError'>\n",
        "Unexpected error on string '\t' <class 'lxml.etree.ParserError'>\n",
        "Unexpected error on string '\t' <class 'lxml.etree.ParserError'>\n",
        "Unexpected error on string '\t' <class 'lxml.etree.ParserError'>\n",
        "Unexpected error on string '\t' <class 'lxml.etree.ParserError'>\n",
        "Unexpected error on string '<' <class 'lxml.etree.ParserError'>\n",
        "Unexpected error on string ' ' <class 'lxml.etree.ParserError'>\n",
        "Unexpected error on string ' ' <class 'lxml.etree.ParserError'>\n",
        "Unexpected error on string ' ' <class 'lxml.etree.ParserError'>\n",
        "Unexpected error on string ' ' <class 'lxml.etree.ParserError'>\n",
        "Unexpected error on string ' ' <class 'lxml.etree.ParserError'>\n",
        "Unexpected error on string ' ' <class 'lxml.etree.ParserError'>\n",
        "Unexpected error on string ' ' <class 'lxml.etree.ParserError'>\n",
        "Unexpected error on string ' ' <class 'lxml.etree.ParserError'>\n",
        "Unexpected error on string '<' <class 'lxml.etree.ParserError'>\n",
        "{'heur': 984, 'boiler_pipe': 679, 'crf': 2111, 'downloads_id': 416047513}\n",
        "downloads_id: 416210404\n",
        "[239, 241, 253, 255, 257, 262, 265, 267, 269, 273, 277, 602]"
       ]
      },
      {
       "output_type": "stream",
       "stream": "stdout",
       "text": [
        "\n",
        "[232, 239, 241]\n",
        "[232, 239, 241, 253, 255, 257, 262, 265, 267, 269, 273, 277]\n",
        "original article tmp file "
       ]
      },
      {
       "output_type": "stream",
       "stream": "stdout",
       "text": [
        " /tmp/tmpj9MAHN.html\n",
        "/tmp/tmpsikJf6.html\n",
        "/tmp/tmpj9MAHN.html\n",
        "/tmp/tmpj9MAHN.html\n",
        "Now open file:///tmp/tmpsikJf6.html in your web browser\n"
       ]
      },
      {
       "output_type": "stream",
       "stream": "stdout",
       "text": [
        "\n",
        "{'heur': 165, 'boiler_pipe': 419, 'crf': 2603, 'downloads_id': 416210404}"
       ]
      },
      {
       "output_type": "stream",
       "stream": "stdout",
       "text": [
        "\n",
        "downloads_id: 416263840\n",
        "[238, 239, 243, 492]"
       ]
      },
      {
       "output_type": "stream",
       "stream": "stdout",
       "text": [
        "\n",
        "[238, 239, 243]\n",
        "[238, 239, 243]\n",
        "original article tmp file "
       ]
      },
      {
       "output_type": "stream",
       "stream": "stdout",
       "text": [
        " /tmp/tmpz_PrPF.html\n",
        "/tmp/tmp_cQr1C.html\n",
        "/tmp/tmpz_PrPF.html\n",
        "/tmp/tmpz_PrPF.html\n",
        "Now open file:///tmp/tmp_cQr1C.html in your web browser\n"
       ]
      },
      {
       "output_type": "stream",
       "stream": "stdout",
       "text": [
        "\n",
        "{'heur': 105, 'boiler_pipe': 26, 'crf': 0, 'downloads_id': 416263840}\n",
        "downloads_id: 416306952\n",
        "[770, 773, 776, 779, 782, 785, 788, 791, 794, 797, 803, 806, 809, 812, 1608, 1650, 1654]"
       ]
      },
      {
       "output_type": "stream",
       "stream": "stdout",
       "text": [
        "\n",
        "[689, 770, 773, 776, 779, 782, 785, 788, 791, 794, 797, 800, 803, 806, 809, 812]\n",
        "[689, 693, 704, 770, 773, 776, 779, 782, 785, 788, 791, 794, 797, 800, 803, 806, 809, 812]"
       ]
      },
      {
       "output_type": "stream",
       "stream": "stdout",
       "text": [
        "\n",
        "original article tmp file "
       ]
      },
      {
       "output_type": "stream",
       "stream": "stdout",
       "text": [
        " /tmp/tmpaXYHON.html\n",
        "/tmp/tmpauFgAk.html\n",
        "/tmp/tmpaXYHON.html\n",
        "/tmp/tmpaXYHON.html\n",
        "Now open file:///tmp/tmpauFgAk.html in your web browser\n"
       ]
      },
      {
       "output_type": "stream",
       "stream": "stdout",
       "text": [
        "\n",
        "{'heur': 258, 'boiler_pipe': 278, 'crf': 31, 'downloads_id': 416306952}"
       ]
      },
      {
       "output_type": "stream",
       "stream": "stdout",
       "text": [
        "\n",
        "downloads_id: 416426245\n",
        "[63, 64, 66, 67, 68, 69]"
       ]
      },
      {
       "output_type": "stream",
       "stream": "stdout",
       "text": [
        "\n",
        "[49, 50, 56, 62, 63, 64, 66, 67, 68, 69]\n",
        "[56, 57, 62, 63, 64, 66, 67, 68, 69]"
       ]
      },
      {
       "output_type": "stream",
       "stream": "stdout",
       "text": [
        "\n",
        "original article tmp file "
       ]
      },
      {
       "output_type": "stream",
       "stream": "stdout",
       "text": [
        " /tmp/tmpOB1auE.html\n",
        "/tmp/tmp3buDez.html\n",
        "/tmp/tmpOB1auE.html\n",
        "/tmp/tmpOB1auE.html\n",
        "Now open file:///tmp/tmp3buDez.html in your web browser\n"
       ]
      },
      {
       "output_type": "stream",
       "stream": "stdout",
       "text": [
        "\n",
        "{'heur': 93, 'boiler_pipe': 1002, 'crf': 65, 'downloads_id': 416426245}\n",
        "downloads_id: 416655019\n",
        "[3293, 3296, 3395, 3408, 3421, 3441, 3443, 3445, 3447, 3449, 3451, 3453, 3623]"
       ]
      },
      {
       "output_type": "stream",
       "stream": "stdout",
       "text": [
        "\n",
        "[185, 3293, 3296, 3525]\n",
        "[3293, 3296, 3433, 3441, 3443, 3445, 3447, 3449, 3451, 3453]"
       ]
      },
      {
       "output_type": "stream",
       "stream": "stdout",
       "text": [
        "\n",
        "original article tmp file "
       ]
      },
      {
       "output_type": "stream",
       "stream": "stdout",
       "text": [
        " /tmp/tmpSc4Jop.html\n",
        "/tmp/tmplJARbk.html\n",
        "/tmp/tmpSc4Jop.html\n",
        "/tmp/tmpSc4Jop.html\n",
        "Now open file:///tmp/tmplJARbk.html in your web browser\n"
       ]
      },
      {
       "output_type": "stream",
       "stream": "stdout",
       "text": [
        "\n",
        "{'heur': 191, 'boiler_pipe': 44, 'crf': 2266, 'downloads_id': 416655019}\n",
        "downloads_id: 416730837\n",
        "[364, 386, 411, 429, 448, 460, 472, 737, 738, 739, 808]"
       ]
      },
      {
       "output_type": "stream",
       "stream": "stdout",
       "text": [
        "\n",
        "[364]\n",
        "[355, 364, 374, 386]"
       ]
      },
      {
       "output_type": "stream",
       "stream": "stdout",
       "text": [
        "\n",
        "original article tmp file "
       ]
      },
      {
       "output_type": "stream",
       "stream": "stdout",
       "text": [
        " /tmp/tmppC5s9Q.html\n",
        "/tmp/tmpGasjTG.html\n",
        "/tmp/tmppC5s9Q.html\n",
        "/tmp/tmppC5s9Q.html\n",
        "Now open file:///tmp/tmpGasjTG.html in your web browser\n"
       ]
      },
      {
       "output_type": "stream",
       "stream": "stdout",
       "text": [
        "\n",
        "Unexpected error on string ' ' <class 'lxml.etree.ParserError'>\n",
        "Unexpected error on string ' ' <class 'lxml.etree.ParserError'>\n",
        "Unexpected error on string ' ' <class 'lxml.etree.ParserError'>\n",
        "Unexpected error on string ' ' <class 'lxml.etree.ParserError'>\n",
        "Unexpected error on string ' ' <class 'lxml.etree.ParserError'>\n",
        "Unexpected error on string ' ' <class 'lxml.etree.ParserError'>\n",
        "Unexpected error on string ' ' <class 'lxml.etree.ParserError'>\n",
        "Unexpected error on string ' ' <class 'lxml.etree.ParserError'>\n",
        "Unexpected error on string ' ' <class 'lxml.etree.ParserError'>\n",
        "Unexpected error on string ' ' <class 'lxml.etree.ParserError'>\n",
        "Unexpected error on string ' ' <class 'lxml.etree.ParserError'>\n",
        "Unexpected error on string ' ' <class 'lxml.etree.ParserError'>\n",
        "Unexpected error on string ' ' <class 'lxml.etree.ParserError'>\n",
        "Unexpected error on string ' ' <class 'lxml.etree.ParserError'>\n",
        "Unexpected error on string ' ' <class 'lxml.etree.ParserError'>\n",
        "Unexpected error on string ' ' <class 'lxml.etree.ParserError'>\n",
        "Unexpected error on string ' ' <class 'lxml.etree.ParserError'>\n",
        "Unexpected error on string ' ' <class 'lxml.etree.ParserError'>\n",
        "Unexpected error on string ' ' <class 'lxml.etree.ParserError'>\n",
        "Unexpected error on string ' ' <class 'lxml.etree.ParserError'>\n",
        "Unexpected error on string ' ' <class 'lxml.etree.ParserError'>\n",
        "Unexpected error on string ' ' <class 'lxml.etree.ParserError'>\n",
        "Unexpected error on string ' ' <class 'lxml.etree.ParserError'>\n",
        "Unexpected error on string ' ' <class 'lxml.etree.ParserError'>\n",
        "Unexpected error on string ' ' <class 'lxml.etree.ParserError'>\n",
        "Unexpected error on string ' ' <class 'lxml.etree.ParserError'>\n",
        "Unexpected error on string ' ' <class 'lxml.etree.ParserError'>\n",
        "Unexpected error on string ' ' <class 'lxml.etree.ParserError'>\n",
        "Unexpected error on string ' ' <class 'lxml.etree.ParserError'>\n",
        "Unexpected error on string ' ' <class 'lxml.etree.ParserError'>\n",
        "Unexpected error on string ' ' <class 'lxml.etree.ParserError'>\n",
        "Unexpected error on string ' ' <class 'lxml.etree.ParserError'>\n",
        "Unexpected error on string ' ' <class 'lxml.etree.ParserError'>\n",
        "Unexpected error on string ' ' <class 'lxml.etree.ParserError'>\n",
        "Unexpected error on string ' ' <class 'lxml.etree.ParserError'>\n",
        "Unexpected error on string '<' <class 'lxml.etree.ParserError'>\n",
        "{'heur': 909, 'boiler_pipe': 394, 'crf': 1338, 'downloads_id': 416730837}\n",
        "downloads_id: 416802690\n",
        "[364, 386, 411, 429, 448, 460, 472, 737, 738, 739, 808]"
       ]
      },
      {
       "output_type": "stream",
       "stream": "stdout",
       "text": [
        "\n",
        "[364]\n",
        "[355, 364, 374, 386]\n",
        "original article tmp file "
       ]
      },
      {
       "output_type": "stream",
       "stream": "stdout",
       "text": [
        " /tmp/tmpybd3oA.html\n",
        "/tmp/tmpPcYIsL.html\n",
        "/tmp/tmpybd3oA.html\n",
        "/tmp/tmpybd3oA.html\n",
        "Now open file:///tmp/tmpPcYIsL.html in your web browser\n"
       ]
      },
      {
       "output_type": "stream",
       "stream": "stdout",
       "text": [
        "\n",
        "Unexpected error on string ' ' <class 'lxml.etree.ParserError'>\n",
        "Unexpected error on string ' ' <class 'lxml.etree.ParserError'>\n",
        "Unexpected error on string ' ' <class 'lxml.etree.ParserError'>\n",
        "Unexpected error on string ' ' <class 'lxml.etree.ParserError'>\n",
        "Unexpected error on string ' ' <class 'lxml.etree.ParserError'>\n",
        "Unexpected error on string ' ' <class 'lxml.etree.ParserError'>\n",
        "Unexpected error on string ' ' <class 'lxml.etree.ParserError'>\n",
        "Unexpected error on string ' ' <class 'lxml.etree.ParserError'>\n",
        "Unexpected error on string ' ' <class 'lxml.etree.ParserError'>\n",
        "Unexpected error on string ' ' <class 'lxml.etree.ParserError'>\n",
        "Unexpected error on string ' ' <class 'lxml.etree.ParserError'>\n",
        "Unexpected error on string ' ' <class 'lxml.etree.ParserError'>\n",
        "Unexpected error on string ' ' <class 'lxml.etree.ParserError'>\n",
        "Unexpected error on string ' ' <class 'lxml.etree.ParserError'>\n",
        "Unexpected error on string ' ' <class 'lxml.etree.ParserError'>\n",
        "Unexpected error on string ' ' <class 'lxml.etree.ParserError'>\n",
        "Unexpected error on string ' ' <class 'lxml.etree.ParserError'>\n",
        "Unexpected error on string ' ' <class 'lxml.etree.ParserError'>\n",
        "Unexpected error on string ' ' <class 'lxml.etree.ParserError'>\n",
        "Unexpected error on string ' ' <class 'lxml.etree.ParserError'>\n",
        "Unexpected error on string ' ' <class 'lxml.etree.ParserError'>\n",
        "Unexpected error on string ' ' <class 'lxml.etree.ParserError'>\n",
        "Unexpected error on string ' ' <class 'lxml.etree.ParserError'>\n",
        "Unexpected error on string ' ' <class 'lxml.etree.ParserError'>\n",
        "Unexpected error on string ' ' <class 'lxml.etree.ParserError'>\n",
        "Unexpected error on string ' ' <class 'lxml.etree.ParserError'>\n",
        "Unexpected error on string ' ' <class 'lxml.etree.ParserError'>\n",
        "Unexpected error on string ' ' <class 'lxml.etree.ParserError'>\n",
        "Unexpected error on string ' ' <class 'lxml.etree.ParserError'>\n",
        "Unexpected error on string ' ' <class 'lxml.etree.ParserError'>\n",
        "Unexpected error on string ' ' <class 'lxml.etree.ParserError'>\n",
        "Unexpected error on string ' ' <class 'lxml.etree.ParserError'>\n",
        "Unexpected error on string ' ' <class 'lxml.etree.ParserError'>\n",
        "Unexpected error on string ' ' <class 'lxml.etree.ParserError'>\n",
        "Unexpected error on string '<' <class 'lxml.etree.ParserError'>\n",
        "{'heur': 935, 'boiler_pipe': 395, 'crf': 1051, 'downloads_id': 416802690}\n",
        "downloads_id: 417347290\n",
        "[606, 607, 694, 695, 696, 697, 698, 701, 702, 703, 704, 705, 706, 707, 708, 709, 710, 711, 712, 713, 714, 715, 716, 717, 718, 719, 1011, 1012, 1067, 1096, 1153, 1198, 1201, 1216]"
       ]
      },
      {
       "output_type": "stream",
       "stream": "stdout",
       "text": [
        "\n",
        "[606, 607, 608, 696, 697, 698, 701, 702, 703, 704, 705, 706, 707, 708, 709, 710, 711, 712, 713, 714, 715, 716, 717, 718, 719]\n",
        "[606, 607, 608, 692, 694, 695, 696, 697, 698, 701, 702, 703, 704, 705, 706, 707, 708, 709, 710, 711, 712, 713, 714, 715, 716, 717, 718, 719]"
       ]
      },
      {
       "output_type": "stream",
       "stream": "stdout",
       "text": [
        "\n",
        "original article tmp file "
       ]
      },
      {
       "output_type": "stream",
       "stream": "stdout",
       "text": [
        " /tmp/tmp1om6WH.html\n",
        "/tmp/tmpPEdWLV.html\n",
        "/tmp/tmp1om6WH.html\n",
        "/tmp/tmp1om6WH.html\n",
        "Now open file:///tmp/tmpPEdWLV.html in your web browser\n"
       ]
      },
      {
       "output_type": "stream",
       "stream": "stdout",
       "text": [
        "\n",
        "{'heur': 719, 'boiler_pipe': 629, 'crf': 817, 'downloads_id': 417347290}"
       ]
      },
      {
       "output_type": "stream",
       "stream": "stdout",
       "text": [
        "\n",
        "downloads_id: 417347524\n",
        "[220, 246, 564, 569, 578, 586, 595, 604, 612, 621, 865, 898, 919, 921, 1007]"
       ]
      },
      {
       "output_type": "stream",
       "stream": "stdout",
       "text": [
        "\n",
        "[564, 566, 569, 578, 586, 595, 604, 612, 621]\n",
        "[559, 563, 564, 566, 569, 586, 595, 612, 621]"
       ]
      },
      {
       "output_type": "stream",
       "stream": "stdout",
       "text": [
        "\n",
        "original article tmp file "
       ]
      },
      {
       "output_type": "stream",
       "stream": "stdout",
       "text": [
        " /tmp/tmpTviWSn.html\n",
        "/tmp/tmpz_hCsC.html\n",
        "/tmp/tmpTviWSn.html\n",
        "/tmp/tmpTviWSn.html\n",
        "Now open file:///tmp/tmpz_hCsC.html in your web browser\n"
       ]
      },
      {
       "output_type": "stream",
       "stream": "stdout",
       "text": [
        "\n",
        "{'heur': 415, 'boiler_pipe': 298, 'crf': 183, 'downloads_id': 417347524}"
       ]
      },
      {
       "output_type": "stream",
       "stream": "stdout",
       "text": [
        "\n",
        "downloads_id: 417368539\n",
        "[521, 524, 529, 534, 577, 585, 590, 591, 615, 640, 641, 666, 684, 711, 712, 741, 749, 750, 751, 834, 837, 846, 849, 858, 861, 870, 873, 923, 928, 939, 944, 955, 960, 971, 976, 987, 992, 1003, 1008, 1024, 1467, 1501, 1504, 1515, 1518, 1529, 1532, 1543, 1546, 1557, 1560, 1571, 1574, 1585, 1588, 1599, 1602, 1613, 1616, 1627, 1630, 1641, 1644, 1655, 1658]"
       ]
      },
      {
       "output_type": "stream",
       "stream": "stdout",
       "text": [
        "\n",
        "[195, 521]\n",
        "[518, 521, 524, 684]\n",
        "original article tmp file "
       ]
      },
      {
       "output_type": "stream",
       "stream": "stdout",
       "text": [
        " /tmp/tmpPeZITv.html\n",
        "/tmp/tmpRxehey.html\n",
        "/tmp/tmpPeZITv.html\n",
        "/tmp/tmpPeZITv.html\n",
        "Now open file:///tmp/tmpRxehey.html in your web browser\n"
       ]
      },
      {
       "output_type": "stream",
       "stream": "stdout",
       "text": [
        "\n",
        "{'heur': 2382, 'boiler_pipe': 944, 'crf': 6613, 'downloads_id': 417368539}"
       ]
      },
      {
       "output_type": "stream",
       "stream": "stdout",
       "text": [
        "\n",
        "downloads_id: 417389613\n",
        "[286, 568]"
       ]
      },
      {
       "output_type": "stream",
       "stream": "stdout",
       "text": [
        "\n",
        "[198]\n",
        "[198]"
       ]
      },
      {
       "output_type": "stream",
       "stream": "stdout",
       "text": [
        "\n",
        "original article tmp file "
       ]
      },
      {
       "output_type": "stream",
       "stream": "stdout",
       "text": [
        " /tmp/tmp8o0C93.html\n",
        "/tmp/tmpWajM1N.html\n",
        "/tmp/tmp8o0C93.html\n",
        "/tmp/tmp8o0C93.html\n",
        "Now open file:///tmp/tmpWajM1N.html in your web browser\n"
       ]
      },
      {
       "output_type": "stream",
       "stream": "stdout",
       "text": [
        "\n",
        "Unexpected error on string '\t' <class 'lxml.etree.ParserError'>\n",
        "Unexpected error on string '\t' <class 'lxml.etree.ParserError'>\n",
        "Unexpected error on string '<' <class 'lxml.etree.ParserError'>\n",
        "Unexpected error on string ' ' <class 'lxml.etree.ParserError'>\n",
        "Unexpected error on string ' ' <class 'lxml.etree.ParserError'>\n",
        "Unexpected error on string '<' <class 'lxml.etree.ParserError'>\n",
        "Unexpected error on string ' ' <class 'lxml.etree.ParserError'>\n",
        "Unexpected error on string ' ' <class 'lxml.etree.ParserError'>\n",
        "Unexpected error on string ' ' <class 'lxml.etree.ParserError'>\n",
        "Unexpected error on string '<' <class 'lxml.etree.ParserError'>\n",
        "Unexpected error on string ' ' <class 'lxml.etree.ParserError'>\n",
        "Unexpected error on string '<' <class 'lxml.etree.ParserError'>\n",
        "Unexpected error on string ' ' <class 'lxml.etree.ParserError'>\n",
        "Unexpected error on string ' ' <class 'lxml.etree.ParserError'>\n",
        "Unexpected error on string ' ' <class 'lxml.etree.ParserError'>\n",
        "Unexpected error on string ' ' <class 'lxml.etree.ParserError'>\n",
        "Unexpected error on string ' ' <class 'lxml.etree.ParserError'>\n",
        "Unexpected error on string '<' <class 'lxml.etree.ParserError'>\n",
        "Unexpected error on string ' ' <class 'lxml.etree.ParserError'>\n",
        "Unexpected error on string '<' <class 'lxml.etree.ParserError'>\n",
        "Unexpected error on string ' ' <class 'lxml.etree.ParserError'>\n",
        "Unexpected error on string ' ' <class 'lxml.etree.ParserError'>\n",
        "Unexpected error on string '<' <class 'lxml.etree.ParserError'>\n",
        "Unexpected error on string ' ' <class 'lxml.etree.ParserError'>\n",
        "Unexpected error on string '<' <class 'lxml.etree.ParserError'>\n",
        "Unexpected error on string ' ' <class 'lxml.etree.ParserError'>\n",
        "Unexpected error on string ' ' <class 'lxml.etree.ParserError'>\n",
        "Unexpected error on string ' ' <class 'lxml.etree.ParserError'>\n",
        "Unexpected error on string ' ' <class 'lxml.etree.ParserError'>\n",
        "Unexpected error on string ' ' <class 'lxml.etree.ParserError'>\n",
        "Unexpected error on string ' ' <class 'lxml.etree.ParserError'>\n",
        "Unexpected error on string ' ' <class 'lxml.etree.ParserError'>\n",
        "Unexpected error on string ' ' <class 'lxml.etree.ParserError'>\n",
        "Unexpected error on string ' ' <class 'lxml.etree.ParserError'>\n",
        "Unexpected error on string ' ' <class 'lxml.etree.ParserError'>\n",
        "Unexpected error on string ' ' <class 'lxml.etree.ParserError'>\n",
        "Unexpected error on string ' ' <class 'lxml.etree.ParserError'>\n",
        "Unexpected error on string '<' <class 'lxml.etree.ParserError'>\n",
        "Unexpected error on string '<' <class 'lxml.etree.ParserError'>\n",
        "Unexpected error on string ' ' <class 'lxml.etree.ParserError'>\n",
        "Unexpected error on string ' ' <class 'lxml.etree.ParserError'>\n",
        "Unexpected error on string ' ' <class 'lxml.etree.ParserError'>\n",
        "Unexpected error on string ' ' <class 'lxml.etree.ParserError'>\n",
        "Unexpected error on string ' ' <class 'lxml.etree.ParserError'>\n",
        "Unexpected error on string ' ' <class 'lxml.etree.ParserError'>\n",
        "Unexpected error on string ' ' <class 'lxml.etree.ParserError'>\n",
        "Unexpected error on string ' ' <class 'lxml.etree.ParserError'>\n",
        "Unexpected error on string ' ' <class 'lxml.etree.ParserError'>\n",
        "Unexpected error on string ' ' <class 'lxml.etree.ParserError'>\n",
        "Unexpected error on string ' ' <class 'lxml.etree.ParserError'>\n",
        "Unexpected error on string ' ' <class 'lxml.etree.ParserError'>\n",
        "Unexpected error on string ' ' <class 'lxml.etree.ParserError'>\n",
        "Unexpected error on string ' ' <class 'lxml.etree.ParserError'>\n",
        "Unexpected error on string ' ' <class 'lxml.etree.ParserError'>\n",
        "Unexpected error on string ' ' <class 'lxml.etree.ParserError'>\n",
        "Unexpected error on string ' ' <class 'lxml.etree.ParserError'>\n",
        "Unexpected error on string ' ' <class 'lxml.etree.ParserError'>\n",
        "Unexpected error on string ' ' <class 'lxml.etree.ParserError'>\n",
        "Unexpected error on string ' ' <class 'lxml.etree.ParserError'>\n",
        "Unexpected error on string ' ' <class 'lxml.etree.ParserError'>\n",
        "Unexpected error on string ' ' <class 'lxml.etree.ParserError'>\n",
        "Unexpected error on string ' ' <class 'lxml.etree.ParserError'>\n",
        "Unexpected error on string ' ' <class 'lxml.etree.ParserError'>\n",
        "Unexpected error on string ' ' <class 'lxml.etree.ParserError'>\n",
        "Unexpected error on string ' ' <class 'lxml.etree.ParserError'>\n",
        "Unexpected error on string ' ' <class 'lxml.etree.ParserError'>\n",
        "Unexpected error on string ' ' <class 'lxml.etree.ParserError'>\n",
        "Unexpected error on string '<' <class 'lxml.etree.ParserError'>\n",
        "Unexpected error on string ' ' <class 'lxml.etree.ParserError'>\n",
        "Unexpected error on string '\t' <class 'lxml.etree.ParserError'>\n",
        "Unexpected error on string '\t' <class 'lxml.etree.ParserError'>\n",
        "Unexpected error on string '<' <class 'lxml.etree.ParserError'>\n",
        "Unexpected error on string ' ' <class 'lxml.etree.ParserError'>\n",
        "Unexpected error on string ' ' <class 'lxml.etree.ParserError'>\n",
        "Unexpected error on string '<' <class 'lxml.etree.ParserError'>\n",
        "Unexpected error on string ' ' <class 'lxml.etree.ParserError'>\n",
        "Unexpected error on string ' ' <class 'lxml.etree.ParserError'>\n",
        "Unexpected error on string ' ' <class 'lxml.etree.ParserError'>\n",
        "Unexpected error on string '<'"
       ]
      },
      {
       "output_type": "stream",
       "stream": "stdout",
       "text": [
        " <class 'lxml.etree.ParserError'>\n",
        "Unexpected error on string ' ' <class 'lxml.etree.ParserError'>\n",
        "Unexpected error on string '<' <class 'lxml.etree.ParserError'>\n",
        "Unexpected error on string ' ' <class 'lxml.etree.ParserError'>\n",
        "Unexpected error on string ' ' <class 'lxml.etree.ParserError'>\n",
        "Unexpected error on string ' ' <class 'lxml.etree.ParserError'>\n",
        "Unexpected error on string ' ' <class 'lxml.etree.ParserError'>\n",
        "Unexpected error on string ' ' <class 'lxml.etree.ParserError'>\n",
        "Unexpected error on string '<' <class 'lxml.etree.ParserError'>\n",
        "Unexpected error on string ' ' <class 'lxml.etree.ParserError'>\n",
        "Unexpected error on string '<' <class 'lxml.etree.ParserError'>\n",
        "Unexpected error on string ' ' <class 'lxml.etree.ParserError'>\n",
        "Unexpected error on string ' ' <class 'lxml.etree.ParserError'>\n",
        "Unexpected error on string '<' <class 'lxml.etree.ParserError'>\n",
        "Unexpected error on string ' ' <class 'lxml.etree.ParserError'>\n",
        "Unexpected error on string '<' <class 'lxml.etree.ParserError'>\n",
        "Unexpected error on string ' ' <class 'lxml.etree.ParserError'>\n",
        "Unexpected error on string ' ' <class 'lxml.etree.ParserError'>\n",
        "Unexpected error on string ' ' <class 'lxml.etree.ParserError'>\n",
        "Unexpected error on string ' ' <class 'lxml.etree.ParserError'>\n",
        "Unexpected error on string ' ' <class 'lxml.etree.ParserError'>\n",
        "Unexpected error on string ' ' <class 'lxml.etree.ParserError'>\n",
        "Unexpected error on string ' ' <class 'lxml.etree.ParserError'>\n",
        "Unexpected error on string ' ' <class 'lxml.etree.ParserError'>\n",
        "Unexpected error on string ' ' <class 'lxml.etree.ParserError'>\n",
        "Unexpected error on string ' ' <class 'lxml.etree.ParserError'>\n",
        "Unexpected error on string ' ' <class 'lxml.etree.ParserError'>\n",
        "Unexpected error on string ' ' <class 'lxml.etree.ParserError'>\n",
        "Unexpected error on string '<' <class 'lxml.etree.ParserError'>\n",
        "Unexpected error on string '<' <class 'lxml.etree.ParserError'>\n",
        "Unexpected error on string ' ' <class 'lxml.etree.ParserError'>\n",
        "Unexpected error on string ' ' <class 'lxml.etree.ParserError'>\n",
        "Unexpected error on string ' ' <class 'lxml.etree.ParserError'>\n",
        "Unexpected error on string ' ' <class 'lxml.etree.ParserError'>\n",
        "Unexpected error on string ' ' <class 'lxml.etree.ParserError'>\n",
        "Unexpected error on string ' ' <class 'lxml.etree.ParserError'>\n",
        "Unexpected error on string ' ' <class 'lxml.etree.ParserError'>\n",
        "Unexpected error on string ' ' <class 'lxml.etree.ParserError'>\n",
        "Unexpected error on string ' ' <class 'lxml.etree.ParserError'>\n",
        "Unexpected error on string ' ' <class 'lxml.etree.ParserError'>\n",
        "Unexpected error on string ' ' <class 'lxml.etree.ParserError'>\n",
        "Unexpected error on string ' ' <class 'lxml.etree.ParserError'>\n",
        "Unexpected error on string ' ' <class 'lxml.etree.ParserError'>\n",
        "Unexpected error on string ' ' <class 'lxml.etree.ParserError'>\n",
        "Unexpected error on string ' ' <class 'lxml.etree.ParserError'>\n",
        "Unexpected error on string ' ' <class 'lxml.etree.ParserError'>\n",
        "Unexpected error on string ' ' <class 'lxml.etree.ParserError'>\n",
        "Unexpected error on string ' ' <class 'lxml.etree.ParserError'>\n",
        "Unexpected error on string ' ' <class 'lxml.etree.ParserError'>\n",
        "Unexpected error on string ' ' <class 'lxml.etree.ParserError'>\n",
        "Unexpected error on string ' ' <class 'lxml.etree.ParserError'>\n",
        "Unexpected error on string ' ' <class 'lxml.etree.ParserError'>\n",
        "Unexpected error on string ' ' <class 'lxml.etree.ParserError'>\n",
        "Unexpected error on string ' ' <class 'lxml.etree.ParserError'>\n",
        "Unexpected error on string ' ' <class 'lxml.etree.ParserError'>\n",
        "Unexpected error on string ' ' <class 'lxml.etree.ParserError'>\n",
        "Unexpected error on string ' ' <class 'lxml.etree.ParserError'>\n",
        "Unexpected error on string ' ' <class 'lxml.etree.ParserError'>\n",
        "Unexpected error on string '<' <class 'lxml.etree.ParserError'>\n",
        "Unexpected error on string ' ' <class 'lxml.etree.ParserError'>\n",
        "Unexpected error on string '\t' <class 'lxml.etree.ParserError'>\n",
        "Unexpected error on string '\t' <class 'lxml.etree.ParserError'>\n",
        "Unexpected error on string '<' <class 'lxml.etree.ParserError'>\n",
        "Unexpected error on string ' ' <class 'lxml.etree.ParserError'>\n",
        "Unexpected error on string ' ' <class 'lxml.etree.ParserError'>\n",
        "Unexpected error on string '<' <class 'lxml.etree.ParserError'>\n",
        "Unexpected error on string ' ' <class 'lxml.etree.ParserError'>\n",
        "Unexpected error on string ' ' <class 'lxml.etree.ParserError'>\n",
        "Unexpected error on string ' ' <class 'lxml.etree.ParserError'>\n",
        "Unexpected error on string '<' <class 'lxml.etree.ParserError'>\n",
        "Unexpected error on string ' ' <class 'lxml.etree.ParserError'>\n",
        "Unexpected error on string '<' <class 'lxml.etree.ParserError'>\n",
        "Unexpected error on string ' ' <class 'lxml.etree.ParserError'>\n",
        "Unexpected error on string ' ' <class 'lxml.etree.ParserError'>\n",
        "Unexpected error on string ' ' <class 'lxml.etree.ParserError'>\n",
        "Unexpected error on string ' ' <class 'lxml.etree.ParserError'>\n",
        "Unexpected error on string ' ' <class 'lxml.etree.ParserError'>\n",
        "Unexpected error on string '<' <class 'lxml.etree.ParserError'>\n",
        "Unexpected error on string ' ' <class 'lxml.etree.ParserError'>\n",
        "Unexpected error on string '<' <class 'lxml.etree.ParserError'>\n",
        "Unexpected error on string ' ' <class 'lxml.etree.ParserError'>\n",
        "Unexpected error on string ' ' <class 'lxml.etree.ParserError'>\n",
        "Unexpected error on string '<' <class 'lxml.etree.ParserError'>\n",
        "Unexpected error on string ' ' <class 'lxml.etree.ParserError'>\n",
        "Unexpected error on string '<' <class 'lxml.etree.ParserError'>\n",
        "Unexpected error on string ' ' <class 'lxml.etree.ParserError'>\n",
        "Unexpected error on string ' '"
       ]
      },
      {
       "output_type": "stream",
       "stream": "stdout",
       "text": [
        " <class 'lxml.etree.ParserError'>\n",
        "Unexpected error on string ' ' <class 'lxml.etree.ParserError'>\n",
        "Unexpected error on string ' ' <class 'lxml.etree.ParserError'>\n",
        "Unexpected error on string ' ' <class 'lxml.etree.ParserError'>\n",
        "Unexpected error on string ' ' <class 'lxml.etree.ParserError'>\n",
        "Unexpected error on string ' ' <class 'lxml.etree.ParserError'>\n",
        "Unexpected error on string ' ' <class 'lxml.etree.ParserError'>\n",
        "Unexpected error on string ' ' <class 'lxml.etree.ParserError'>\n",
        "Unexpected error on string ' ' <class 'lxml.etree.ParserError'>\n",
        "Unexpected error on string ' ' <class 'lxml.etree.ParserError'>\n",
        "Unexpected error on string ' ' <class 'lxml.etree.ParserError'>\n",
        "Unexpected error on string '<' <class 'lxml.etree.ParserError'>\n",
        "Unexpected error on string '<' <class 'lxml.etree.ParserError'>\n",
        "Unexpected error on string ' ' <class 'lxml.etree.ParserError'>\n",
        "Unexpected error on string ' ' <class 'lxml.etree.ParserError'>\n",
        "Unexpected error on string ' ' <class 'lxml.etree.ParserError'>\n",
        "Unexpected error on string ' ' <class 'lxml.etree.ParserError'>\n",
        "Unexpected error on string ' ' <class 'lxml.etree.ParserError'>\n",
        "Unexpected error on string ' ' <class 'lxml.etree.ParserError'>\n",
        "Unexpected error on string ' ' <class 'lxml.etree.ParserError'>\n",
        "Unexpected error on string ' ' <class 'lxml.etree.ParserError'>\n",
        "Unexpected error on string ' ' <class 'lxml.etree.ParserError'>\n",
        "Unexpected error on string ' ' <class 'lxml.etree.ParserError'>\n",
        "Unexpected error on string ' ' <class 'lxml.etree.ParserError'>\n",
        "Unexpected error on string ' ' <class 'lxml.etree.ParserError'>\n",
        "Unexpected error on string ' ' <class 'lxml.etree.ParserError'>\n",
        "Unexpected error on string ' ' <class 'lxml.etree.ParserError'>\n",
        "Unexpected error on string ' ' <class 'lxml.etree.ParserError'>\n",
        "Unexpected error on string ' ' <class 'lxml.etree.ParserError'>\n",
        "Unexpected error on string ' ' <class 'lxml.etree.ParserError'>\n",
        "Unexpected error on string ' ' <class 'lxml.etree.ParserError'>\n",
        "Unexpected error on string ' ' <class 'lxml.etree.ParserError'>\n",
        "Unexpected error on string ' ' <class 'lxml.etree.ParserError'>\n",
        "Unexpected error on string ' ' <class 'lxml.etree.ParserError'>\n",
        "Unexpected error on string ' ' <class 'lxml.etree.ParserError'>\n",
        "Unexpected error on string ' ' <class 'lxml.etree.ParserError'>\n",
        "Unexpected error on string ' ' <class 'lxml.etree.ParserError'>\n",
        "Unexpected error on string ' ' <class 'lxml.etree.ParserError'>\n",
        "Unexpected error on string ' ' <class 'lxml.etree.ParserError'>\n",
        "Unexpected error on string ' ' <class 'lxml.etree.ParserError'>\n",
        "Unexpected error on string ' ' <class 'lxml.etree.ParserError'>\n",
        "Unexpected error on string '<' <class 'lxml.etree.ParserError'>\n",
        "Unexpected error on string ' ' <class 'lxml.etree.ParserError'>\n",
        "Unexpected error on string '\t' <class 'lxml.etree.ParserError'>\n",
        "Unexpected error on string '\t' <class 'lxml.etree.ParserError'>\n",
        "Unexpected error on string '<' <class 'lxml.etree.ParserError'>\n",
        "Unexpected error on string ' ' <class 'lxml.etree.ParserError'>\n",
        "Unexpected error on string ' ' <class 'lxml.etree.ParserError'>\n",
        "Unexpected error on string '<' <class 'lxml.etree.ParserError'>\n",
        "Unexpected error on string ' ' <class 'lxml.etree.ParserError'>\n",
        "Unexpected error on string ' ' <class 'lxml.etree.ParserError'>\n",
        "Unexpected error on string ' ' <class 'lxml.etree.ParserError'>\n",
        "Unexpected error on string '<' <class 'lxml.etree.ParserError'>\n",
        "Unexpected error on string ' ' <class 'lxml.etree.ParserError'>\n",
        "Unexpected error on string '<' <class 'lxml.etree.ParserError'>\n",
        "Unexpected error on string ' ' <class 'lxml.etree.ParserError'>\n",
        "Unexpected error on string ' ' <class 'lxml.etree.ParserError'>\n",
        "Unexpected error on string ' ' <class 'lxml.etree.ParserError'>\n",
        "Unexpected error on string ' ' <class 'lxml.etree.ParserError'>\n",
        "Unexpected error on string ' ' <class 'lxml.etree.ParserError'>\n",
        "Unexpected error on string '<' <class 'lxml.etree.ParserError'>\n",
        "Unexpected error on string ' ' <class 'lxml.etree.ParserError'>\n",
        "Unexpected error on string '<' <class 'lxml.etree.ParserError'>\n",
        "Unexpected error on string ' ' <class 'lxml.etree.ParserError'>\n",
        "Unexpected error on string ' ' <class 'lxml.etree.ParserError'>\n",
        "Unexpected error on string '<' <class 'lxml.etree.ParserError'>\n",
        "Unexpected error on string ' ' <class 'lxml.etree.ParserError'>\n",
        "Unexpected error on string '<' <class 'lxml.etree.ParserError'>\n",
        "Unexpected error on string ' ' <class 'lxml.etree.ParserError'>\n",
        "Unexpected error on string ' ' <class 'lxml.etree.ParserError'>\n",
        "Unexpected error on string ' ' <class 'lxml.etree.ParserError'>\n",
        "Unexpected error on string ' ' <class 'lxml.etree.ParserError'>\n",
        "Unexpected error on string ' ' <class 'lxml.etree.ParserError'>\n",
        "Unexpected error on string ' ' <class 'lxml.etree.ParserError'>\n",
        "Unexpected error on string ' ' <class 'lxml.etree.ParserError'>\n",
        "Unexpected error on string ' ' <class 'lxml.etree.ParserError'>\n",
        "Unexpected error on string ' ' <class 'lxml.etree.ParserError'>\n",
        "Unexpected error on string ' ' <class 'lxml.etree.ParserError'>\n",
        "Unexpected error on string ' ' <class 'lxml.etree.ParserError'>\n",
        "Unexpected error on string ' ' <class 'lxml.etree.ParserError'>\n",
        "Unexpected error on string '<' <class 'lxml.etree.ParserError'>\n",
        "Unexpected error on string '<' <class 'lxml.etree.ParserError'>\n",
        "Unexpected error on string ' ' <class 'lxml.etree.ParserError'>\n",
        "Unexpected error on string ' ' <class 'lxml.etree.ParserError'>\n",
        "Unexpected error on string ' ' <class 'lxml.etree.ParserError'>\n",
        "Unexpected error on string ' ' <class 'lxml.etree.ParserError'>\n",
        "Unexpected error on string ' ' <class 'lxml.etree.ParserError'>\n",
        "Unexpected error on string ' ' <class 'lxml.etree.ParserError'>\n",
        "Unexpected error on string ' ' <class 'lxml.etree.ParserError'>\n",
        "Unexpected error on string ' ' <class 'lxml.etree.ParserError'>\n",
        "Unexpected error on string ' ' <class 'lxml.etree.ParserError'>\n",
        "Unexpected error on string ' ' <class 'lxml.etree.ParserError'>\n",
        "Unexpected error on string ' ' <class 'lxml.etree.ParserError'>\n",
        "Unexpected error on string ' ' <class 'lxml.etree.ParserError'>\n",
        "Unexpected error on string ' ' <class 'lxml.etree.ParserError'>\n",
        "Unexpected error on string ' ' <class 'lxml.etree.ParserError'>\n",
        "Unexpected error on string ' ' <class 'lxml.etree.ParserError'>\n",
        "Unexpected error on string ' ' <class 'lxml.etree.ParserError'>\n",
        "Unexpected error on string ' ' <class 'lxml.etree.ParserError'>\n",
        "Unexpected error on string ' ' <class 'lxml.etree.ParserError'>\n",
        "Unexpected error on string ' ' <class 'lxml.etree.ParserError'>\n",
        "Unexpected error on string ' ' <class 'lxml.etree.ParserError'>\n",
        "Unexpected error on string ' ' <class 'lxml.etree.ParserError'>\n",
        "Unexpected error on string ' ' <class 'lxml.etree.ParserError'>\n",
        "Unexpected error on string ' ' <class 'lxml.etree.ParserError'>\n",
        "Unexpected error on string ' ' <class 'lxml.etree.ParserError'>\n",
        "Unexpected error on string ' ' <class 'lxml.etree.ParserError'>\n",
        "Unexpected error on string ' ' <class 'lxml.etree.ParserError'>\n",
        "Unexpected error on string ' ' <class 'lxml.etree.ParserError'>\n",
        "Unexpected error on string ' ' <class 'lxml.etree.ParserError'>\n",
        "Unexpected error on string '<' <class 'lxml.etree.ParserError'>\n",
        "Unexpected error on string ' ' <class 'lxml.etree.ParserError'>\n",
        "{'heur': 740, 'boiler_pipe': 847, 'crf': 0, 'downloads_id': 417389613}\n",
        "downloads_id: 417477837\n",
        "[448, 451, 781]"
       ]
      },
      {
       "output_type": "stream",
       "stream": "stdout",
       "text": [
        "\n",
        "[448, 451]\n",
        "[441, 448, 451]"
       ]
      },
      {
       "output_type": "stream",
       "stream": "stdout",
       "text": [
        "\n",
        "original article tmp file "
       ]
      },
      {
       "output_type": "stream",
       "stream": "stdout",
       "text": [
        " /tmp/tmpByPvnC.html\n",
        "/tmp/tmp2FTV8O.html\n",
        "/tmp/tmpByPvnC.html\n",
        "/tmp/tmpByPvnC.html\n",
        "Now open file:///tmp/tmp2FTV8O.html in your web browser\n"
       ]
      },
      {
       "output_type": "stream",
       "stream": "stdout",
       "text": [
        "\n",
        "{'heur': 69, 'boiler_pipe': 189, 'crf': 6, 'downloads_id': 417477837}\n",
        "downloads_id: 417653177\n",
        "[563, 564, 569, 578, 586, 595, 707, 839, 872, 893, 895, 981]"
       ]
      },
      {
       "output_type": "stream",
       "stream": "stdout",
       "text": [
        "\n",
        "[563, 564, 707]\n",
        "[563, 564, 566, 569, 586, 595]"
       ]
      },
      {
       "output_type": "stream",
       "stream": "stdout",
       "text": [
        "\n",
        "original article tmp file "
       ]
      },
      {
       "output_type": "stream",
       "stream": "stdout",
       "text": [
        " /tmp/tmpkusWNA.html\n",
        "/tmp/tmpKXWAH_.html\n",
        "/tmp/tmpkusWNA.html\n",
        "/tmp/tmpkusWNA.html\n",
        "Now open file:///tmp/tmpKXWAH_.html in your web browser\n"
       ]
      },
      {
       "output_type": "stream",
       "stream": "stdout",
       "text": [
        "\n",
        "Unexpected error on string '</center>' <class 'lxml.etree.ParserError'>\n",
        "{'heur': 605, 'boiler_pipe': 205, 'crf': 2251, 'downloads_id': 417653177}\n",
        "downloads_id: 418489742\n",
        "[168, 169, 170, 171, 173, 174, 200]"
       ]
      },
      {
       "output_type": "stream",
       "stream": "stdout",
       "text": [
        "\n",
        "[162, 167, 168, 169, 170, 171, 173, 174, 175, 190]\n",
        "[162, 166, 167, 168, 169, 170, 171, 173, 174, 175]"
       ]
      },
      {
       "output_type": "stream",
       "stream": "stdout",
       "text": [
        "\n",
        "original article tmp file "
       ]
      },
      {
       "output_type": "stream",
       "stream": "stdout",
       "text": [
        " /tmp/tmpnFZIZw.html\n",
        "/tmp/tmp2OKitK.html\n",
        "/tmp/tmpnFZIZw.html\n",
        "/tmp/tmpnFZIZw.html\n",
        "Now open file:///tmp/tmp2OKitK.html in your web browser\n"
       ]
      },
      {
       "output_type": "stream",
       "stream": "stdout",
       "text": [
        "\n",
        "{'heur': 804, 'boiler_pipe': 149, 'crf': 81, 'downloads_id': 418489742}"
       ]
      },
      {
       "output_type": "stream",
       "stream": "stdout",
       "text": [
        "\n",
        "downloads_id: 418544762\n",
        "[334, 346, 347, 348, 350, 352, 353, 355, 357, 358, 360, 362, 363, 365, 367, 374, 378, 379, 380, 381, 383, 384, 385, 386, 387, 388, 390, 471, 479, 487, 552, 558, 579, 585, 606, 612, 633, 639, 666, 711, 750, 754, 934, 937, 947]"
       ]
      },
      {
       "output_type": "stream",
       "stream": "stdout",
       "text": [
        "\n",
        "[74, 333, 334, 346, 347, 348, 350, 352, 353, 355, 357, 358, 360, 362, 363, 365, 367, 369, 370, 371, 373, 374, 376, 378, 379, 380, 381, 383, 384, 385, 386, 387, 388, 390]\n",
        "[316, 333, 334, 346, 347, 348, 350, 352, 353, 355, 357, 358, 360, 362, 363, 365, 367, 369, 370, 371, 373, 374, 376, 378, 379, 380, 381, 383, 384, 385, 386, 387, 388, 390]"
       ]
      },
      {
       "output_type": "stream",
       "stream": "stdout",
       "text": [
        "\n",
        "original article tmp file "
       ]
      },
      {
       "output_type": "stream",
       "stream": "stdout",
       "text": [
        " /tmp/tmpecliaP.html\n",
        "/tmp/tmpHSgIPd.html\n",
        "/tmp/tmpecliaP.html\n",
        "/tmp/tmpecliaP.html\n",
        "Now open file:///tmp/tmpHSgIPd.html in your web browser\n"
       ]
      },
      {
       "output_type": "stream",
       "stream": "stdout",
       "text": [
        "\n",
        "{'heur': 2292, 'boiler_pipe': 2404, 'crf': 16, 'downloads_id': 418544762}"
       ]
      },
      {
       "output_type": "stream",
       "stream": "stdout",
       "text": [
        "\n",
        "downloads_id: 418574641\n",
        "[523, 526, 531, 536, 574, 582, 587, 588, 612, 637, 638, 663, 681, 708, 709, 738, 746, 747, 748, 858, 863, 874, 879, 890, 895, 906, 911, 922, 927, 938, 943, 959, 975, 1399, 1433, 1436, 1447, 1450, 1461, 1464, 1475, 1478, 1489, 1492, 1503, 1506, 1517, 1520, 1531, 1534, 1545, 1548, 1559, 1562, 1573, 1576, 1587, 1590]"
       ]
      },
      {
       "output_type": "stream",
       "stream": "stdout",
       "text": [
        "\n",
        "[197, 523, 1534, 1541]\n",
        "[523, 526, 681]"
       ]
      },
      {
       "output_type": "stream",
       "stream": "stdout",
       "text": [
        "\n",
        "original article tmp file "
       ]
      },
      {
       "output_type": "stream",
       "stream": "stdout",
       "text": [
        " /tmp/tmpH1QZQH.html\n",
        "/tmp/tmpc7S5d4.html\n",
        "/tmp/tmpH1QZQH.html\n",
        "/tmp/tmpH1QZQH.html\n",
        "Now open file:///tmp/tmpc7S5d4.html in your web browser\n"
       ]
      },
      {
       "output_type": "stream",
       "stream": "stdout",
       "text": [
        "\n",
        "{'heur': 2034, 'boiler_pipe': 670, 'crf': 4363, 'downloads_id': 418574641}"
       ]
      },
      {
       "output_type": "stream",
       "stream": "stdout",
       "text": [
        "\n",
        "downloads_id: 418648698\n",
        "[760, 1027, 1038, 1049, 1669, 1711, 1715]"
       ]
      },
      {
       "output_type": "stream",
       "stream": "stdout",
       "text": [
        "\n",
        "[687, 760]\n",
        "[687, 760]"
       ]
      },
      {
       "output_type": "stream",
       "stream": "stdout",
       "text": [
        "\n",
        "original article tmp file "
       ]
      },
      {
       "output_type": "stream",
       "stream": "stdout",
       "text": [
        " /tmp/tmpr1Hk5C.html\n",
        "/tmp/tmpzp5gPw.html\n",
        "/tmp/tmpr1Hk5C.html\n",
        "/tmp/tmpr1Hk5C.html\n",
        "Now open file:///tmp/tmpzp5gPw.html in your web browser\n"
       ]
      },
      {
       "output_type": "stream",
       "stream": "stdout",
       "text": [
        "\n",
        "{'heur': 349, 'boiler_pipe': 44, 'crf': 0, 'downloads_id': 418648698}\n",
        "downloads_id: 418661859\n",
        "[415, 419, 423, 427, 485, 489, 493, 497, 501, 505, 509, 513, 517, 521, 525, 529, 533, 537, 541, 545, 549, 591, 595, 637, 641, 696, 697, 740, 742, 744, 746]"
       ]
      },
      {
       "output_type": "stream",
       "stream": "stdout",
       "text": [
        "\n",
        "[88, 394, 697, 740, 742, 744, 746]\n",
        "[697, 740, 742, 744, 746]"
       ]
      },
      {
       "output_type": "stream",
       "stream": "stdout",
       "text": [
        "\n",
        "original article tmp file "
       ]
      },
      {
       "output_type": "stream",
       "stream": "stdout",
       "text": [
        " /tmp/tmpIQSpAy.html\n",
        "/tmp/tmpfDktiW.html\n",
        "/tmp/tmpIQSpAy.html\n",
        "/tmp/tmpIQSpAy.html\n",
        "Now open file:///tmp/tmpfDktiW.html in your web browser\n"
       ]
      },
      {
       "output_type": "stream",
       "stream": "stdout",
       "text": [
        "\n",
        "{'heur': 444, 'boiler_pipe': 269, 'crf': 62, 'downloads_id': 418661859}\n",
        "downloads_id: 419404469\n",
        "[768, 771, 774, 777, 780, 783, 1563, 1605, 1609]"
       ]
      },
      {
       "output_type": "stream",
       "stream": "stdout",
       "text": [
        "\n",
        "[691, 698]\n",
        "[691, 702, 768, 771, 774, 777, 780, 783]"
       ]
      },
      {
       "output_type": "stream",
       "stream": "stdout",
       "text": [
        "\n",
        "original article tmp file "
       ]
      },
      {
       "output_type": "stream",
       "stream": "stdout",
       "text": [
        " /tmp/tmp0KzkxH.html\n",
        "/tmp/tmppo3M1g.html\n",
        "/tmp/tmp0KzkxH.html\n",
        "/tmp/tmp0KzkxH.html\n",
        "Now open file:///tmp/tmppo3M1g.html in your web browser\n"
       ]
      },
      {
       "output_type": "stream",
       "stream": "stdout",
       "text": [
        "\n",
        "{'heur': 229, 'boiler_pipe': 91, 'crf': 1135, 'downloads_id': 419404469}\n",
        "downloads_id: 419440474\n",
        "[206, 240, 241, 242, 243, 244, 245, 246, 247, 248, 249, 250, 251, 252, 253, 468]"
       ]
      },
      {
       "output_type": "stream",
       "stream": "stdout",
       "text": [
        "\n",
        "[206, 240, 241, 242, 243, 244, 245, 246, 247, 248, 249, 250, 251, 252, 253]\n",
        "[205, 206, 237, 240, 241, 242, 243, 244, 245, 246, 247, 248, 249, 250, 251, 252, 253]"
       ]
      },
      {
       "output_type": "stream",
       "stream": "stdout",
       "text": [
        "\n",
        "original article tmp file "
       ]
      },
      {
       "output_type": "stream",
       "stream": "stdout",
       "text": [
        " /tmp/tmpRBrIXW.html\n",
        "/tmp/tmpSnmoxS.html\n",
        "/tmp/tmpRBrIXW.html\n",
        "/tmp/tmpRBrIXW.html\n",
        "Now open file:///tmp/tmpSnmoxS.html in your web browser\n"
       ]
      },
      {
       "output_type": "stream",
       "stream": "stdout",
       "text": [
        "\n",
        "{'heur': 232, 'boiler_pipe': 287, 'crf': 102, 'downloads_id': 419440474}"
       ]
      },
      {
       "output_type": "stream",
       "stream": "stdout",
       "text": [
        "\n",
        "downloads_id: 419483895\n",
        "[769, 772, 775, 778, 781, 784, 787, 790, 796, 799, 1579, 1621, 1625]"
       ]
      },
      {
       "output_type": "stream",
       "stream": "stdout",
       "text": [
        "\n",
        "[691, 769, 772, 775, 778, 781, 784, 787, 790]\n",
        "[691, 698, 703, 769, 772, 775, 778, 781, 784, 787, 790, 793, 796, 799]"
       ]
      },
      {
       "output_type": "stream",
       "stream": "stdout",
       "text": [
        "\n",
        "original article tmp file "
       ]
      },
      {
       "output_type": "stream",
       "stream": "stdout",
       "text": [
        " /tmp/tmphpAQ2l.html\n",
        "/tmp/tmptqydZ8.html\n",
        "/tmp/tmphpAQ2l.html\n",
        "/tmp/tmphpAQ2l.html\n",
        "Now open file:///tmp/tmptqydZ8.html in your web browser\n"
       ]
      },
      {
       "output_type": "stream",
       "stream": "stdout",
       "text": [
        "\n",
        "{'heur': 260, 'boiler_pipe': 135, 'crf': 368, 'downloads_id': 419483895}\n",
        "downloads_id: 419873979\n",
        "[692, 696, 698, 699, 700, 701, 702, 703, 704, 705, 706, 707, 708, 709, 710, 711, 712, 713, 734, 793, 794]"
       ]
      },
      {
       "output_type": "stream",
       "stream": "stdout",
       "text": [
        "\n",
        "[692, 694, 696, 697, 698, 699, 700, 701, 702, 703, 704, 705, 706, 707, 708, 709, 710, 711, 712, 713, 734, 916]\n",
        "[692, 694, 696, 697, 698, 699, 700, 701, 702, 703, 704, 705, 706, 707, 708, 709, 710, 711, 712, 713]"
       ]
      },
      {
       "output_type": "stream",
       "stream": "stdout",
       "text": [
        "\n",
        "original article tmp file "
       ]
      },
      {
       "output_type": "stream",
       "stream": "stdout",
       "text": [
        " /tmp/tmpHYlb_3.html\n",
        "/tmp/tmpPxjyHW.html\n",
        "/tmp/tmpHYlb_3.html\n",
        "/tmp/tmpHYlb_3.html\n",
        "Now open file:///tmp/tmpPxjyHW.html in your web browser\n"
       ]
      },
      {
       "output_type": "stream",
       "stream": "stdout",
       "text": [
        "\n",
        "{'heur': 462, 'boiler_pipe': 56, 'crf': 118, 'downloads_id': 419873979}"
       ]
      },
      {
       "output_type": "stream",
       "stream": "stdout",
       "text": [
        "\n",
        "downloads_id: 420430754\n",
        "[284, 287, 296, 336, 345, 354, 415, 424, 482, 573, 582, 615, 666, 669, 688, 689, 690, 751]"
       ]
      },
      {
       "output_type": "stream",
       "stream": "stdout",
       "text": [
        "\n",
        "[284, 287, 669, 688, 689, 690]\n",
        "[669, 675, 686, 688, 689, 690]"
       ]
      },
      {
       "output_type": "stream",
       "stream": "stdout",
       "text": [
        "\n",
        "original article tmp file "
       ]
      },
      {
       "output_type": "stream",
       "stream": "stdout",
       "text": [
        " /tmp/tmpbjZo3I.html\n",
        "/tmp/tmpf0zYsz.html\n",
        "/tmp/tmpbjZo3I.html\n",
        "/tmp/tmpbjZo3I.html\n",
        "Now open file:///tmp/tmpf0zYsz.html in your web browser\n"
       ]
      },
      {
       "output_type": "stream",
       "stream": "stdout",
       "text": [
        "\n",
        "{'heur': 1182, 'boiler_pipe': 170, 'crf': 149, 'downloads_id': 420430754}\n",
        "downloads_id: 420599387\n",
        "[244, 245, 256, 257, 258, 385, 393, 513, 518, 520]"
       ]
      },
      {
       "output_type": "stream",
       "stream": "stdout",
       "text": [
        "\n",
        "[244, 245, 255, 256, 257, 258]\n",
        "[244, 245, 255, 256, 257]"
       ]
      },
      {
       "output_type": "stream",
       "stream": "stdout",
       "text": [
        "\n",
        "original article tmp file "
       ]
      },
      {
       "output_type": "stream",
       "stream": "stdout",
       "text": [
        " /tmp/tmpOgg42k.html\n",
        "/tmp/tmpHCXydV.html\n",
        "/tmp/tmpOgg42k.html\n",
        "/tmp/tmpOgg42k.html\n",
        "Now open file:///tmp/tmpHCXydV.html in your web browser\n"
       ]
      },
      {
       "output_type": "stream",
       "stream": "stdout",
       "text": [
        "\n",
        "{'heur': 1100, 'boiler_pipe': 1099, 'crf': 259, 'downloads_id': 420599387}\n",
        "downloads_id: 420666122\n",
        "[287, 296, 298, 300, 302, 304, 307, 310, 317, 320, 323, 325]"
       ]
      },
      {
       "output_type": "stream",
       "stream": "stdout",
       "text": [
        "\n",
        "[254]\n",
        "[254, 255, 258, 283, 287, 296, 298, 300, 302, 304, 307, 310, 311, 312, 317, 320, 323, 325]"
       ]
      },
      {
       "output_type": "stream",
       "stream": "stdout",
       "text": [
        "\n",
        "original article tmp file "
       ]
      },
      {
       "output_type": "stream",
       "stream": "stdout",
       "text": [
        " /tmp/tmpIcZxkJ.html\n",
        "/tmp/tmpFwXRdb.html\n",
        "/tmp/tmpIcZxkJ.html\n",
        "/tmp/tmpIcZxkJ.html\n",
        "Now open file:///tmp/tmpFwXRdb.html in your web browser\n"
       ]
      },
      {
       "output_type": "stream",
       "stream": "stdout",
       "text": [
        "\n",
        "Unexpected error on string ' ' <class 'lxml.etree.ParserError'>\n",
        "Unexpected error on string ' ' <class 'lxml.etree.ParserError'>\n",
        "Unexpected error on string ' ' <class 'lxml.etree.ParserError'>\n",
        "Unexpected error on string ' ' <class 'lxml.etree.ParserError'>\n",
        "Unexpected error on string ' ' <class 'lxml.etree.ParserError'>\n",
        "Unexpected error on string ' ' <class 'lxml.etree.ParserError'>\n",
        "Unexpected error on string '<' <class 'lxml.etree.ParserError'>\n",
        "Unexpected error on string ' ' <class 'lxml.etree.ParserError'>\n",
        "Unexpected error on string '<' <class 'lxml.etree.ParserError'>\n",
        "Unexpected error on string ' ' <class 'lxml.etree.ParserError'>\n",
        "Unexpected error on string ' ' <class 'lxml.etree.ParserError'>\n",
        "Unexpected error on string ' ' <class 'lxml.etree.ParserError'>\n",
        "Unexpected error on string ' ' <class 'lxml.etree.ParserError'>\n",
        "Unexpected error on string ' ' <class 'lxml.etree.ParserError'>\n",
        "Unexpected error on string ' ' <class 'lxml.etree.ParserError'>\n",
        "Unexpected error on string '<' <class 'lxml.etree.ParserError'>\n",
        "Unexpected error on string '<' <class 'lxml.etree.ParserError'>\n",
        "{'heur': 536, 'boiler_pipe': 807, 'crf': 5533, 'downloads_id': 420666122}"
       ]
      },
      {
       "output_type": "stream",
       "stream": "stdout",
       "text": [
        "\n",
        "downloads_id: 421520860\n",
        "[446, 463, 473, 542, 549, 555, 556, 557, 667, 673, 679, 685, 691, 700, 706, 712, 718, 724, 733, 739, 745, 751, 757]"
       ]
      },
      {
       "output_type": "stream",
       "stream": "stdout",
       "text": [
        "\n",
        "[446, 448, 463, 473]\n",
        "[446, 448, 463, 473]"
       ]
      },
      {
       "output_type": "stream",
       "stream": "stdout",
       "text": [
        "\n",
        "original article tmp file "
       ]
      },
      {
       "output_type": "stream",
       "stream": "stdout",
       "text": [
        " /tmp/tmpJ30CqR.html\n",
        "/tmp/tmpqe9im2.html\n",
        "/tmp/tmpJ30CqR.html\n",
        "/tmp/tmpJ30CqR.html\n",
        "Now open file:///tmp/tmpqe9im2.html in your web browser\n"
       ]
      },
      {
       "output_type": "stream",
       "stream": "stdout",
       "text": [
        "\n",
        "{'heur': 1379, 'boiler_pipe': 140, 'crf': 0, 'downloads_id': 421520860}"
       ]
      },
      {
       "output_type": "stream",
       "stream": "stdout",
       "text": [
        "\n",
        "downloads_id: 421834553\n",
        "[218, 284, 306]"
       ]
      },
      {
       "output_type": "stream",
       "stream": "stdout",
       "text": [
        "\n",
        "[306]\n",
        "[282, 283, 284, 304, 305, 306]"
       ]
      },
      {
       "output_type": "stream",
       "stream": "stdout",
       "text": [
        "\n",
        "original article tmp file "
       ]
      },
      {
       "output_type": "stream",
       "stream": "stdout",
       "text": [
        " /tmp/tmpALGH9o.html\n",
        "/tmp/tmpYWHNHv.html\n",
        "/tmp/tmpALGH9o.html\n",
        "/tmp/tmpALGH9o.html\n",
        "Now open file:///tmp/tmpYWHNHv.html in your web browser\n"
       ]
      },
      {
       "output_type": "stream",
       "stream": "stdout",
       "text": [
        "\n",
        "Unexpected error on string '<' <class 'lxml.etree.ParserError'>\n",
        "Unexpected error on string ' ' <class 'lxml.etree.ParserError'>\n",
        "Unexpected error on string ' ' <class 'lxml.etree.ParserError'>\n",
        "Unexpected error on string '<' <class 'lxml.etree.ParserError'>\n",
        "Unexpected error on string ' ' <class 'lxml.etree.ParserError'>\n",
        "Unexpected error on string '<' <class 'lxml.etree.ParserError'>\n",
        "Unexpected error on string ' ' <class 'lxml.etree.ParserError'>\n",
        "Unexpected error on string '<' <class 'lxml.etree.ParserError'>\n",
        "Unexpected error on string ' ' <class 'lxml.etree.ParserError'>\n",
        "Unexpected error on string ' ' <class 'lxml.etree.ParserError'>\n",
        "Unexpected error on string ' ' <class 'lxml.etree.ParserError'>\n",
        "Unexpected error on string ' ' <class 'lxml.etree.ParserError'>\n",
        "Unexpected error on string ' ' <class 'lxml.etree.ParserError'>\n",
        "Unexpected error on string ' ' <class 'lxml.etree.ParserError'>\n",
        "Unexpected error on string ' ' <class 'lxml.etree.ParserError'>\n",
        "Unexpected error on string ' ' <class 'lxml.etree.ParserError'>\n",
        "Unexpected error on string ' ' <class 'lxml.etree.ParserError'>\n",
        "Unexpected error on string ' ' <class 'lxml.etree.ParserError'>\n",
        "Unexpected error on string ' ' <class 'lxml.etree.ParserError'>\n",
        "Unexpected error on string ' ' <class 'lxml.etree.ParserError'>\n",
        "Unexpected error on string ' ' <class 'lxml.etree.ParserError'>\n",
        "Unexpected error on string ' ' <class 'lxml.etree.ParserError'>\n",
        "Unexpected error on string ' ' <class 'lxml.etree.ParserError'>\n",
        "Unexpected error on string ' ' <class 'lxml.etree.ParserError'>\n",
        "Unexpected error on string ' ' <class 'lxml.etree.ParserError'>\n",
        "Unexpected error on string ' ' <class 'lxml.etree.ParserError'>\n",
        "Unexpected error on string ' ' <class 'lxml.etree.ParserError'>\n",
        "Unexpected error on string ' ' <class 'lxml.etree.ParserError'>\n",
        "Unexpected error on string ' ' <class 'lxml.etree.ParserError'>\n",
        "Unexpected error on string ' ' <class 'lxml.etree.ParserError'>\n",
        "Unexpected error on string ' ' <class 'lxml.etree.ParserError'>\n",
        "Unexpected error on string ' ' <class 'lxml.etree.ParserError'>\n",
        "Unexpected error on string ' ' <class 'lxml.etree.ParserError'>\n",
        "Unexpected error on string ' ' <class 'lxml.etree.ParserError'>\n",
        "Unexpected error on string ' ' <class 'lxml.etree.ParserError'>\n",
        "Unexpected error on string ' ' <class 'lxml.etree.ParserError'>\n",
        "Unexpected error on string ' ' <class 'lxml.etree.ParserError'>\n",
        "Unexpected error on string ' ' <class 'lxml.etree.ParserError'>\n",
        "Unexpected error on string ' ' <class 'lxml.etree.ParserError'>\n",
        "Unexpected error on string ' ' <class 'lxml.etree.ParserError'>\n",
        "Unexpected error on string ' ' <class 'lxml.etree.ParserError'>\n",
        "Unexpected error on string ' ' <class 'lxml.etree.ParserError'>\n",
        "Unexpected error on string '<' <class 'lxml.etree.ParserError'>\n",
        "Unexpected error on string ' ' <class 'lxml.etree.ParserError'>\n",
        "Unexpected error on string '<' <class 'lxml.etree.ParserError'>\n",
        "Unexpected error on string ' ' <class 'lxml.etree.ParserError'>\n",
        "Unexpected error on string ' ' <class 'lxml.etree.ParserError'>\n",
        "Unexpected error on string ' ' <class 'lxml.etree.ParserError'>\n",
        "Unexpected error on string ' ' <class 'lxml.etree.ParserError'>\n",
        "Unexpected error on string ' ' <class 'lxml.etree.ParserError'>\n",
        "Unexpected error on string ' ' <class 'lxml.etree.ParserError'>\n",
        "Unexpected error on string ' ' <class 'lxml.etree.ParserError'>\n",
        "Unexpected error on string ' ' <class 'lxml.etree.ParserError'>\n",
        "Unexpected error on string ' ' <class 'lxml.etree.ParserError'>\n",
        "Unexpected error on string ' ' <class 'lxml.etree.ParserError'>\n",
        "Unexpected error on string ' ' <class 'lxml.etree.ParserError'>\n",
        "Unexpected error on string ' ' <class 'lxml.etree.ParserError'>\n",
        "Unexpected error on string ' ' <class 'lxml.etree.ParserError'>\n",
        "Unexpected error on string ' ' <class 'lxml.etree.ParserError'>\n",
        "Unexpected error on string ' ' <class 'lxml.etree.ParserError'>\n",
        "Unexpected error on string ' ' <class 'lxml.etree.ParserError'>\n",
        "Unexpected error on string ' ' <class 'lxml.etree.ParserError'>\n",
        "Unexpected error on string ' ' <class 'lxml.etree.ParserError'>\n",
        "Unexpected error on string ' ' <class 'lxml.etree.ParserError'>\n",
        "Unexpected error on string ' ' <class 'lxml.etree.ParserError'>\n",
        "Unexpected error on string ' ' <class 'lxml.etree.ParserError'>\n",
        "Unexpected error on string ' ' <class 'lxml.etree.ParserError'>\n",
        "Unexpected error on string ' ' <class 'lxml.etree.ParserError'>\n",
        "Unexpected error on string ' ' <class 'lxml.etree.ParserError'>\n",
        "Unexpected error on string ' ' <class 'lxml.etree.ParserError'>\n",
        "Unexpected error on string ' ' <class 'lxml.etree.ParserError'>\n",
        "Unexpected error on string ' ' <class 'lxml.etree.ParserError'>\n",
        "Unexpected error on string ' ' <class 'lxml.etree.ParserError'>\n",
        "Unexpected error on string ' ' <class 'lxml.etree.ParserError'>\n",
        "Unexpected error on string ' ' <class 'lxml.etree.ParserError'>\n",
        "Unexpected error on string ' ' <class 'lxml.etree.ParserError'>\n",
        "Unexpected error on string ' ' <class 'lxml.etree.ParserError'>\n",
        "Unexpected error on string ' ' <class 'lxml.etree.ParserError'>\n",
        "Unexpected error on string ' ' <class 'lxml.etree.ParserError'>\n",
        "Unexpected error on string ' ' <class 'lxml.etree.ParserError'>\n",
        "Unexpected error on string ' ' <class 'lxml.etree.ParserError'>\n",
        "Unexpected error on string ' ' <class 'lxml.etree.ParserError'>\n",
        "Unexpected error on string ' ' <class 'lxml.etree.ParserError'>\n",
        "Unexpected error on string ' ' <class 'lxml.etree.ParserError'>\n",
        "Unexpected error on string ' ' <class 'lxml.etree.ParserError'>\n",
        "Unexpected error on string ' ' <class 'lxml.etree.ParserError'>\n",
        "Unexpected error on string ' ' <class 'lxml.etree.ParserError'>\n",
        "Unexpected error on string ' ' <class 'lxml.etree.ParserError'>\n",
        "Unexpected error on string ' ' <class 'lxml.etree.ParserError'>\n",
        "Unexpected error on string '<' <class 'lxml.etree.ParserError'>\n",
        "Unexpected error on string ' ' <class 'lxml.etree.ParserError'>\n",
        "Unexpected error on string '<' <class 'lxml.etree.ParserError'>\n",
        "Unexpected error on string ' ' <class 'lxml.etree.ParserError'>\n",
        "Unexpected error on string ' ' <class 'lxml.etree.ParserError'>\n",
        "Unexpected error on string ' ' <class 'lxml.etree.ParserError'>\n",
        "Unexpected error on string ' ' <class 'lxml.etree.ParserError'>\n",
        "Unexpected error on string ' ' <class 'lxml.etree.ParserError'>\n",
        "Unexpected error on string ' ' <class 'lxml.etree.ParserError'>\n",
        "Unexpected error on string ' ' <class 'lxml.etree.ParserError'>\n",
        "Unexpected error on string ' ' <class 'lxml.etree.ParserError'>\n",
        "Unexpected error on string ' ' <class 'lxml.etree.ParserError'>\n",
        "Unexpected error on string ' ' <class 'lxml.etree.ParserError'>\n",
        "Unexpected error on string ' ' <class 'lxml.etree.ParserError'>\n",
        "Unexpected error on string ' ' <class 'lxml.etree.ParserError'>\n",
        "Unexpected error on string ' ' <class 'lxml.etree.ParserError'>\n",
        "Unexpected error on string ' ' <class 'lxml.etree.ParserError'>\n",
        "Unexpected error on string ' ' <class 'lxml.etree.ParserError'>\n",
        "Unexpected error on string ' ' <class 'lxml.etree.ParserError'>\n",
        "Unexpected error on string ' ' <class 'lxml.etree.ParserError'>\n",
        "Unexpected error on string ' ' <class 'lxml.etree.ParserError'>\n",
        "Unexpected error on string ' '"
       ]
      },
      {
       "output_type": "stream",
       "stream": "stdout",
       "text": [
        " <class 'lxml.etree.ParserError'>\n",
        "Unexpected error on string ' ' <class 'lxml.etree.ParserError'>\n",
        "Unexpected error on string ' ' <class 'lxml.etree.ParserError'>\n",
        "Unexpected error on string ' ' <class 'lxml.etree.ParserError'>\n",
        "Unexpected error on string ' ' <class 'lxml.etree.ParserError'>\n",
        "Unexpected error on string ' ' <class 'lxml.etree.ParserError'>\n",
        "Unexpected error on string ' ' <class 'lxml.etree.ParserError'>\n",
        "Unexpected error on string ' ' <class 'lxml.etree.ParserError'>\n",
        "Unexpected error on string ' ' <class 'lxml.etree.ParserError'>\n",
        "Unexpected error on string ' ' <class 'lxml.etree.ParserError'>\n",
        "Unexpected error on string ' ' <class 'lxml.etree.ParserError'>\n",
        "Unexpected error on string ' ' <class 'lxml.etree.ParserError'>\n",
        "Unexpected error on string ' ' <class 'lxml.etree.ParserError'>\n",
        "Unexpected error on string ' ' <class 'lxml.etree.ParserError'>\n",
        "Unexpected error on string ' ' <class 'lxml.etree.ParserError'>\n",
        "Unexpected error on string ' ' <class 'lxml.etree.ParserError'>\n",
        "Unexpected error on string ' ' <class 'lxml.etree.ParserError'>\n",
        "Unexpected error on string ' ' <class 'lxml.etree.ParserError'>\n",
        "Unexpected error on string ' ' <class 'lxml.etree.ParserError'>\n",
        "Unexpected error on string ' ' <class 'lxml.etree.ParserError'>\n",
        "Unexpected error on string ' ' <class 'lxml.etree.ParserError'>\n",
        "Unexpected error on string ' ' <class 'lxml.etree.ParserError'>\n",
        "Unexpected error on string ' ' <class 'lxml.etree.ParserError'>\n",
        "Unexpected error on string ' ' <class 'lxml.etree.ParserError'>\n",
        "Unexpected error on string ' ' <class 'lxml.etree.ParserError'>\n",
        "Unexpected error on string ' ' <class 'lxml.etree.ParserError'>\n",
        "Unexpected error on string ' ' <class 'lxml.etree.ParserError'>\n",
        "Unexpected error on string ' ' <class 'lxml.etree.ParserError'>\n",
        "Unexpected error on string ' ' <class 'lxml.etree.ParserError'>\n",
        "Unexpected error on string ' ' <class 'lxml.etree.ParserError'>\n",
        "Unexpected error on string ' ' <class 'lxml.etree.ParserError'>\n",
        "Unexpected error on string ' ' <class 'lxml.etree.ParserError'>\n",
        "Unexpected error on string ' ' <class 'lxml.etree.ParserError'>\n",
        "Unexpected error on string ' ' <class 'lxml.etree.ParserError'>\n",
        "Unexpected error on string ' ' <class 'lxml.etree.ParserError'>\n",
        "Unexpected error on string ' ' <class 'lxml.etree.ParserError'>\n",
        "Unexpected error on string ' ' <class 'lxml.etree.ParserError'>\n",
        "Unexpected error on string ' ' <class 'lxml.etree.ParserError'>\n",
        "Unexpected error on string ' ' <class 'lxml.etree.ParserError'>\n",
        "Unexpected error on string ' ' <class 'lxml.etree.ParserError'>\n",
        "Unexpected error on string ' ' <class 'lxml.etree.ParserError'>\n",
        "Unexpected error on string ' ' <class 'lxml.etree.ParserError'>\n",
        "Unexpected error on string ' ' <class 'lxml.etree.ParserError'>\n",
        "Unexpected error on string ' ' <class 'lxml.etree.ParserError'>\n",
        "Unexpected error on string ' ' <class 'lxml.etree.ParserError'>\n",
        "Unexpected error on string ' ' <class 'lxml.etree.ParserError'>\n",
        "Unexpected error on string ' ' <class 'lxml.etree.ParserError'>\n",
        "Unexpected error on string ' ' <class 'lxml.etree.ParserError'>\n",
        "Unexpected error on string ' ' <class 'lxml.etree.ParserError'>\n",
        "Unexpected error on string ' ' <class 'lxml.etree.ParserError'>\n",
        "Unexpected error on string ' ' <class 'lxml.etree.ParserError'>\n",
        "Unexpected error on string ' ' <class 'lxml.etree.ParserError'>\n",
        "Unexpected error on string ' ' <class 'lxml.etree.ParserError'>\n",
        "Unexpected error on string ' ' <class 'lxml.etree.ParserError'>\n",
        "Unexpected error on string '<' <class 'lxml.etree.ParserError'>\n",
        "Unexpected error on string ' ' <class 'lxml.etree.ParserError'>\n",
        "Unexpected error on string '<' <class 'lxml.etree.ParserError'>\n",
        "Unexpected error on string ' ' <class 'lxml.etree.ParserError'>\n",
        "Unexpected error on string ' ' <class 'lxml.etree.ParserError'>\n",
        "Unexpected error on string ' ' <class 'lxml.etree.ParserError'>\n",
        "Unexpected error on string ' ' <class 'lxml.etree.ParserError'>\n",
        "Unexpected error on string ' ' <class 'lxml.etree.ParserError'>\n",
        "Unexpected error on string ' ' <class 'lxml.etree.ParserError'>\n",
        "Unexpected error on string ' ' <class 'lxml.etree.ParserError'>\n",
        "Unexpected error on string ' ' <class 'lxml.etree.ParserError'>\n",
        "Unexpected error on string ' ' <class 'lxml.etree.ParserError'>\n",
        "Unexpected error on string '<' <class 'lxml.etree.ParserError'>\n",
        "Unexpected error on string ' ' <class 'lxml.etree.ParserError'>\n",
        "Unexpected error on string '<' <class 'lxml.etree.ParserError'>\n",
        "Unexpected error on string ' ' <class 'lxml.etree.ParserError'>\n",
        "Unexpected error on string ' ' <class 'lxml.etree.ParserError'>\n",
        "Unexpected error on string ' ' <class 'lxml.etree.ParserError'>\n",
        "Unexpected error on string ' ' <class 'lxml.etree.ParserError'>\n",
        "Unexpected error on string ' ' <class 'lxml.etree.ParserError'>\n",
        "Unexpected error on string ' ' <class 'lxml.etree.ParserError'>\n",
        "Unexpected error on string ' ' <class 'lxml.etree.ParserError'>\n",
        "Unexpected error on string ' ' <class 'lxml.etree.ParserError'>\n",
        "Unexpected error on string ' ' <class 'lxml.etree.ParserError'>\n",
        "Unexpected error on string ' ' <class 'lxml.etree.ParserError'>\n",
        "Unexpected error on string '<' <class 'lxml.etree.ParserError'>\n",
        "Unexpected error on string ' ' <class 'lxml.etree.ParserError'>\n",
        "Unexpected error on string '<' <class 'lxml.etree.ParserError'>\n",
        "Unexpected error on string ' ' <class 'lxml.etree.ParserError'>\n",
        "Unexpected error on string ' ' <class 'lxml.etree.ParserError'>\n",
        "Unexpected error on string ' ' <class 'lxml.etree.ParserError'>\n",
        "Unexpected error on string ' ' <class 'lxml.etree.ParserError'>\n",
        "Unexpected error on string ' ' <class 'lxml.etree.ParserError'>\n",
        "Unexpected error on string ' ' <class 'lxml.etree.ParserError'>\n",
        "Unexpected error on string ' ' <class 'lxml.etree.ParserError'>\n",
        "Unexpected error on string ' ' <class 'lxml.etree.ParserError'>\n",
        "Unexpected error on string ' ' <class 'lxml.etree.ParserError'>\n",
        "Unexpected error on string '<' <class 'lxml.etree.ParserError'>\n",
        "Unexpected error on string ' ' <class 'lxml.etree.ParserError'>\n",
        "Unexpected error on string '<' <class 'lxml.etree.ParserError'>\n",
        "Unexpected error on string ' ' <class 'lxml.etree.ParserError'>\n",
        "Unexpected error on string ' ' <class 'lxml.etree.ParserError'>\n",
        "Unexpected error on string ' ' <class 'lxml.etree.ParserError'>\n",
        "Unexpected error on string ' ' <class 'lxml.etree.ParserError'>\n",
        "Unexpected error on string ' ' <class 'lxml.etree.ParserError'>\n",
        "Unexpected error on string ' ' <class 'lxml.etree.ParserError'>\n",
        "Unexpected error on string ' ' <class 'lxml.etree.ParserError'>\n",
        "Unexpected error on string ' ' <class 'lxml.etree.ParserError'>\n",
        "Unexpected error on string ' ' <class 'lxml.etree.ParserError'>\n",
        "Unexpected error on string ' ' <class 'lxml.etree.ParserError'>\n",
        "Unexpected error on string ' ' <class 'lxml.etree.ParserError'>\n",
        "Unexpected error on string '<' <class 'lxml.etree.ParserError'>\n",
        "Unexpected error on string ' ' <class 'lxml.etree.ParserError'>\n",
        "Unexpected error on string '<' <class 'lxml.etree.ParserError'>\n",
        "Unexpected error on string ' ' <class 'lxml.etree.ParserError'>\n",
        "Unexpected error on string ' ' <class 'lxml.etree.ParserError'>\n",
        "Unexpected error on string ' ' <class 'lxml.etree.ParserError'>\n",
        "Unexpected error on string ' ' <class 'lxml.etree.ParserError'>\n",
        "Unexpected error on string ' ' <class 'lxml.etree.ParserError'>\n",
        "Unexpected error on string ' ' <class 'lxml.etree.ParserError'>\n",
        "Unexpected error on string ' ' <class 'lxml.etree.ParserError'>\n",
        "Unexpected error on string ' ' <class 'lxml.etree.ParserError'>\n",
        "Unexpected error on string ' ' <class 'lxml.etree.ParserError'>\n",
        "Unexpected error on string ' ' <class 'lxml.etree.ParserError'>\n",
        "Unexpected error on string ' ' <class 'lxml.etree.ParserError'>\n",
        "Unexpected error on string ' ' <class 'lxml.etree.ParserError'>\n",
        "Unexpected error on string ' ' <class 'lxml.etree.ParserError'>\n",
        "Unexpected error on string ' ' <class 'lxml.etree.ParserError'>\n",
        "Unexpected error on string ' ' <class 'lxml.etree.ParserError'>\n",
        "Unexpected error on string ' ' <class 'lxml.etree.ParserError'>\n",
        "Unexpected error on string ' ' <class 'lxml.etree.ParserError'>\n",
        "Unexpected error on string ' ' <class 'lxml.etree.ParserError'>\n",
        "Unexpected error on string ' ' <class 'lxml.etree.ParserError'>\n",
        "Unexpected error on string ' ' <class 'lxml.etree.ParserError'>\n",
        "Unexpected error on string ' ' <class 'lxml.etree.ParserError'>\n",
        "Unexpected error on string ' ' <class 'lxml.etree.ParserError'>\n",
        "Unexpected error on string ' ' <class 'lxml.etree.ParserError'>\n",
        "Unexpected error on string ' '"
       ]
      },
      {
       "output_type": "stream",
       "stream": "stdout",
       "text": [
        " <class 'lxml.etree.ParserError'>\n",
        "Unexpected error on string ' ' <class 'lxml.etree.ParserError'>\n",
        "Unexpected error on string ' ' <class 'lxml.etree.ParserError'>\n",
        "Unexpected error on string ' ' <class 'lxml.etree.ParserError'>\n",
        "Unexpected error on string ' ' <class 'lxml.etree.ParserError'>\n",
        "Unexpected error on string ' ' <class 'lxml.etree.ParserError'>\n",
        "Unexpected error on string ' ' <class 'lxml.etree.ParserError'>\n",
        "Unexpected error on string ' ' <class 'lxml.etree.ParserError'>\n",
        "Unexpected error on string ' ' <class 'lxml.etree.ParserError'>\n",
        "Unexpected error on string ' ' <class 'lxml.etree.ParserError'>\n",
        "Unexpected error on string ' ' <class 'lxml.etree.ParserError'>\n",
        "Unexpected error on string ' ' <class 'lxml.etree.ParserError'>\n",
        "Unexpected error on string ' ' <class 'lxml.etree.ParserError'>\n",
        "Unexpected error on string ' ' <class 'lxml.etree.ParserError'>\n",
        "Unexpected error on string ' ' <class 'lxml.etree.ParserError'>\n",
        "Unexpected error on string ' ' <class 'lxml.etree.ParserError'>\n",
        "Unexpected error on string ' ' <class 'lxml.etree.ParserError'>\n",
        "Unexpected error on string ' ' <class 'lxml.etree.ParserError'>\n",
        "Unexpected error on string ' ' <class 'lxml.etree.ParserError'>\n",
        "Unexpected error on string ' ' <class 'lxml.etree.ParserError'>\n",
        "Unexpected error on string ' ' <class 'lxml.etree.ParserError'>\n",
        "Unexpected error on string ' ' <class 'lxml.etree.ParserError'>\n",
        "Unexpected error on string ' ' <class 'lxml.etree.ParserError'>\n",
        "Unexpected error on string ' ' <class 'lxml.etree.ParserError'>\n",
        "Unexpected error on string ' ' <class 'lxml.etree.ParserError'>\n",
        "Unexpected error on string ' ' <class 'lxml.etree.ParserError'>\n",
        "Unexpected error on string ' ' <class 'lxml.etree.ParserError'>\n",
        "Unexpected error on string ' ' <class 'lxml.etree.ParserError'>\n",
        "Unexpected error on string ' ' <class 'lxml.etree.ParserError'>\n",
        "Unexpected error on string ' ' <class 'lxml.etree.ParserError'>\n",
        "Unexpected error on string ' ' <class 'lxml.etree.ParserError'>\n",
        "Unexpected error on string ' ' <class 'lxml.etree.ParserError'>\n",
        "Unexpected error on string ' ' <class 'lxml.etree.ParserError'>\n",
        "Unexpected error on string ' ' <class 'lxml.etree.ParserError'>\n",
        "Unexpected error on string ' ' <class 'lxml.etree.ParserError'>\n",
        "Unexpected error on string ' ' <class 'lxml.etree.ParserError'>\n",
        "Unexpected error on string ' ' <class 'lxml.etree.ParserError'>\n",
        "Unexpected error on string ' ' <class 'lxml.etree.ParserError'>\n",
        "Unexpected error on string ' ' <class 'lxml.etree.ParserError'>\n",
        "Unexpected error on string ' ' <class 'lxml.etree.ParserError'>\n",
        "Unexpected error on string ' ' <class 'lxml.etree.ParserError'>\n",
        "Unexpected error on string ' ' <class 'lxml.etree.ParserError'>\n",
        "Unexpected error on string ' ' <class 'lxml.etree.ParserError'>\n",
        "Unexpected error on string ' ' <class 'lxml.etree.ParserError'>\n",
        "Unexpected error on string ' ' <class 'lxml.etree.ParserError'>\n",
        "Unexpected error on string ' ' <class 'lxml.etree.ParserError'>\n",
        "Unexpected error on string ' ' <class 'lxml.etree.ParserError'>\n",
        "Unexpected error on string ' ' <class 'lxml.etree.ParserError'>\n",
        "Unexpected error on string ' ' <class 'lxml.etree.ParserError'>\n",
        "Unexpected error on string ' ' <class 'lxml.etree.ParserError'>\n",
        "Unexpected error on string ' ' <class 'lxml.etree.ParserError'>\n",
        "Unexpected error on string ' ' <class 'lxml.etree.ParserError'>\n",
        "Unexpected error on string ' ' <class 'lxml.etree.ParserError'>\n",
        "Unexpected error on string ' ' <class 'lxml.etree.ParserError'>\n",
        "Unexpected error on string ' ' <class 'lxml.etree.ParserError'>\n",
        "Unexpected error on string ' ' <class 'lxml.etree.ParserError'>\n",
        "Unexpected error on string ' ' <class 'lxml.etree.ParserError'>\n",
        "Unexpected error on string ' ' <class 'lxml.etree.ParserError'>\n",
        "Unexpected error on string ' ' <class 'lxml.etree.ParserError'>\n",
        "Unexpected error on string ' ' <class 'lxml.etree.ParserError'>\n",
        "Unexpected error on string ' ' <class 'lxml.etree.ParserError'>\n",
        "Unexpected error on string ' ' <class 'lxml.etree.ParserError'>\n",
        "Unexpected error on string ' ' <class 'lxml.etree.ParserError'>\n",
        "Unexpected error on string ' ' <class 'lxml.etree.ParserError'>\n",
        "Unexpected error on string ' ' <class 'lxml.etree.ParserError'>\n",
        "Unexpected error on string ' ' <class 'lxml.etree.ParserError'>\n",
        "Unexpected error on string ' ' <class 'lxml.etree.ParserError'>\n",
        "Unexpected error on string ' ' <class 'lxml.etree.ParserError'>\n",
        "Unexpected error on string ' ' <class 'lxml.etree.ParserError'>\n",
        "Unexpected error on string ' ' <class 'lxml.etree.ParserError'>\n",
        "Unexpected error on string ' ' <class 'lxml.etree.ParserError'>\n",
        "Unexpected error on string ' ' <class 'lxml.etree.ParserError'>\n",
        "Unexpected error on string ' ' <class 'lxml.etree.ParserError'>\n",
        "Unexpected error on string ' ' <class 'lxml.etree.ParserError'>\n",
        "Unexpected error on string ' ' <class 'lxml.etree.ParserError'>\n",
        "Unexpected error on string ' ' <class 'lxml.etree.ParserError'>\n",
        "Unexpected error on string '<' <class 'lxml.etree.ParserError'>\n",
        "Unexpected error on string ' ' <class 'lxml.etree.ParserError'>\n",
        "Unexpected error on string '<' <class 'lxml.etree.ParserError'>\n",
        "Unexpected error on string ' ' <class 'lxml.etree.ParserError'>\n",
        "Unexpected error on string ' ' <class 'lxml.etree.ParserError'>\n",
        "Unexpected error on string ' ' <class 'lxml.etree.ParserError'>\n",
        "Unexpected error on string ' ' <class 'lxml.etree.ParserError'>\n",
        "Unexpected error on string ' ' <class 'lxml.etree.ParserError'>\n",
        "Unexpected error on string ' ' <class 'lxml.etree.ParserError'>\n",
        "Unexpected error on string ' ' <class 'lxml.etree.ParserError'>\n",
        "Unexpected error on string ' ' <class 'lxml.etree.ParserError'>\n",
        "Unexpected error on string ' ' <class 'lxml.etree.ParserError'>\n",
        "Unexpected error on string ' ' <class 'lxml.etree.ParserError'>\n",
        "Unexpected error on string ' ' <class 'lxml.etree.ParserError'>\n",
        "Unexpected error on string ' ' <class 'lxml.etree.ParserError'>\n",
        "Unexpected error on string ' ' <class 'lxml.etree.ParserError'>\n",
        "Unexpected error on string ' ' <class 'lxml.etree.ParserError'>\n",
        "Unexpected error on string ' ' <class 'lxml.etree.ParserError'>\n",
        "Unexpected error on string ' ' <class 'lxml.etree.ParserError'>\n",
        "Unexpected error on string ' ' <class 'lxml.etree.ParserError'>\n",
        "Unexpected error on string ' ' <class 'lxml.etree.ParserError'>\n",
        "Unexpected error on string ' ' <class 'lxml.etree.ParserError'>\n",
        "Unexpected error on string ' ' <class 'lxml.etree.ParserError'>\n",
        "Unexpected error on string ' ' <class 'lxml.etree.ParserError'>\n",
        "Unexpected error on string ' ' <class 'lxml.etree.ParserError'>\n",
        "Unexpected error on string ' ' <class 'lxml.etree.ParserError'>\n",
        "Unexpected error on string ' ' <class 'lxml.etree.ParserError'>\n",
        "Unexpected error on string ' ' <class 'lxml.etree.ParserError'>\n",
        "Unexpected error on string ' ' <class 'lxml.etree.ParserError'>\n",
        "Unexpected error on string ' ' <class 'lxml.etree.ParserError'>\n",
        "Unexpected error on string ' ' <class 'lxml.etree.ParserError'>\n",
        "Unexpected error on string ' ' <class 'lxml.etree.ParserError'>\n",
        "Unexpected error on string ' ' <class 'lxml.etree.ParserError'>\n",
        "Unexpected error on string ' ' <class 'lxml.etree.ParserError'>\n",
        "Unexpected error on string ' ' <class 'lxml.etree.ParserError'>\n",
        "Unexpected error on string ' ' <class 'lxml.etree.ParserError'>\n",
        "Unexpected error on string ' ' <class 'lxml.etree.ParserError'>\n",
        "Unexpected error on string ' ' <class 'lxml.etree.ParserError'>\n",
        "Unexpected error on string ' ' <class 'lxml.etree.ParserError'>\n",
        "Unexpected error on string ' ' <class 'lxml.etree.ParserError'>\n",
        "Unexpected error on string ' ' <class 'lxml.etree.ParserError'>\n",
        "Unexpected error on string ' ' <class 'lxml.etree.ParserError'>\n",
        "Unexpected error on string ' ' <class 'lxml.etree.ParserError'>\n",
        "Unexpected error on string ' ' <class 'lxml.etree.ParserError'>\n",
        "Unexpected error on string ' '"
       ]
      },
      {
       "output_type": "stream",
       "stream": "stdout",
       "text": [
        " <class 'lxml.etree.ParserError'>\n",
        "Unexpected error on string ' ' <class 'lxml.etree.ParserError'>\n",
        "Unexpected error on string ' ' <class 'lxml.etree.ParserError'>\n",
        "Unexpected error on string ' ' <class 'lxml.etree.ParserError'>\n",
        "Unexpected error on string ' ' <class 'lxml.etree.ParserError'>\n",
        "Unexpected error on string ' ' <class 'lxml.etree.ParserError'>\n",
        "Unexpected error on string ' ' <class 'lxml.etree.ParserError'>\n",
        "Unexpected error on string ' ' <class 'lxml.etree.ParserError'>\n",
        "Unexpected error on string ' ' <class 'lxml.etree.ParserError'>\n",
        "Unexpected error on string ' ' <class 'lxml.etree.ParserError'>\n",
        "Unexpected error on string ' ' <class 'lxml.etree.ParserError'>\n",
        "Unexpected error on string ' ' <class 'lxml.etree.ParserError'>\n",
        "Unexpected error on string ' ' <class 'lxml.etree.ParserError'>\n",
        "Unexpected error on string ' ' <class 'lxml.etree.ParserError'>\n",
        "Unexpected error on string ' ' <class 'lxml.etree.ParserError'>\n",
        "Unexpected error on string ' ' <class 'lxml.etree.ParserError'>\n",
        "Unexpected error on string ' ' <class 'lxml.etree.ParserError'>\n",
        "Unexpected error on string ' ' <class 'lxml.etree.ParserError'>\n",
        "Unexpected error on string ' ' <class 'lxml.etree.ParserError'>\n",
        "Unexpected error on string ' ' <class 'lxml.etree.ParserError'>\n",
        "Unexpected error on string ' ' <class 'lxml.etree.ParserError'>\n",
        "Unexpected error on string ' ' <class 'lxml.etree.ParserError'>\n",
        "Unexpected error on string ' ' <class 'lxml.etree.ParserError'>\n",
        "Unexpected error on string ' ' <class 'lxml.etree.ParserError'>\n",
        "Unexpected error on string ' ' <class 'lxml.etree.ParserError'>\n",
        "Unexpected error on string ' ' <class 'lxml.etree.ParserError'>\n",
        "Unexpected error on string ' ' <class 'lxml.etree.ParserError'>\n",
        "Unexpected error on string ' ' <class 'lxml.etree.ParserError'>\n",
        "Unexpected error on string ' ' <class 'lxml.etree.ParserError'>\n",
        "Unexpected error on string ' ' <class 'lxml.etree.ParserError'>\n",
        "Unexpected error on string ' ' <class 'lxml.etree.ParserError'>\n",
        "Unexpected error on string ' ' <class 'lxml.etree.ParserError'>\n",
        "Unexpected error on string ' ' <class 'lxml.etree.ParserError'>\n",
        "Unexpected error on string ' ' <class 'lxml.etree.ParserError'>\n",
        "Unexpected error on string ' ' <class 'lxml.etree.ParserError'>\n",
        "Unexpected error on string ' ' <class 'lxml.etree.ParserError'>\n",
        "Unexpected error on string ' ' <class 'lxml.etree.ParserError'>\n",
        "Unexpected error on string ' ' <class 'lxml.etree.ParserError'>\n",
        "Unexpected error on string ' ' <class 'lxml.etree.ParserError'>\n",
        "Unexpected error on string '<' <class 'lxml.etree.ParserError'>\n",
        "Unexpected error on string ' ' <class 'lxml.etree.ParserError'>\n",
        "Unexpected error on string '<' <class 'lxml.etree.ParserError'>\n",
        "Unexpected error on string ' ' <class 'lxml.etree.ParserError'>\n",
        "Unexpected error on string ' ' <class 'lxml.etree.ParserError'>\n",
        "Unexpected error on string ' ' <class 'lxml.etree.ParserError'>\n",
        "Unexpected error on string ' ' <class 'lxml.etree.ParserError'>\n",
        "Unexpected error on string ' ' <class 'lxml.etree.ParserError'>\n",
        "Unexpected error on string ' ' <class 'lxml.etree.ParserError'>\n",
        "Unexpected error on string ' ' <class 'lxml.etree.ParserError'>\n",
        "Unexpected error on string ' ' <class 'lxml.etree.ParserError'>\n",
        "Unexpected error on string ' ' <class 'lxml.etree.ParserError'>\n",
        "Unexpected error on string ' ' <class 'lxml.etree.ParserError'>\n",
        "Unexpected error on string ' ' <class 'lxml.etree.ParserError'>\n",
        "Unexpected error on string ' ' <class 'lxml.etree.ParserError'>\n",
        "Unexpected error on string ' ' <class 'lxml.etree.ParserError'>\n",
        "Unexpected error on string ' ' <class 'lxml.etree.ParserError'>\n",
        "Unexpected error on string ' ' <class 'lxml.etree.ParserError'>\n",
        "Unexpected error on string ' ' <class 'lxml.etree.ParserError'>\n",
        "Unexpected error on string ' ' <class 'lxml.etree.ParserError'>\n",
        "Unexpected error on string ' ' <class 'lxml.etree.ParserError'>\n",
        "Unexpected error on string ' ' <class 'lxml.etree.ParserError'>\n",
        "Unexpected error on string ' ' <class 'lxml.etree.ParserError'>\n",
        "Unexpected error on string ' ' <class 'lxml.etree.ParserError'>\n",
        "Unexpected error on string ' ' <class 'lxml.etree.ParserError'>\n",
        "Unexpected error on string ' ' <class 'lxml.etree.ParserError'>\n",
        "Unexpected error on string ' ' <class 'lxml.etree.ParserError'>\n",
        "Unexpected error on string ' ' <class 'lxml.etree.ParserError'>\n",
        "Unexpected error on string ' ' <class 'lxml.etree.ParserError'>\n",
        "Unexpected error on string ' ' <class 'lxml.etree.ParserError'>\n",
        "Unexpected error on string ' ' <class 'lxml.etree.ParserError'>\n",
        "Unexpected error on string ' ' <class 'lxml.etree.ParserError'>\n",
        "Unexpected error on string ' ' <class 'lxml.etree.ParserError'>\n",
        "Unexpected error on string ' ' <class 'lxml.etree.ParserError'>\n",
        "Unexpected error on string ' ' <class 'lxml.etree.ParserError'>\n",
        "Unexpected error on string ' ' <class 'lxml.etree.ParserError'>\n",
        "Unexpected error on string ' ' <class 'lxml.etree.ParserError'>\n",
        "Unexpected error on string ' ' <class 'lxml.etree.ParserError'>\n",
        "Unexpected error on string ' ' <class 'lxml.etree.ParserError'>\n",
        "Unexpected error on string ' ' <class 'lxml.etree.ParserError'>\n",
        "Unexpected error on string ' ' <class 'lxml.etree.ParserError'>\n",
        "Unexpected error on string ' ' <class 'lxml.etree.ParserError'>\n",
        "Unexpected error on string ' ' <class 'lxml.etree.ParserError'>\n",
        "Unexpected error on string ' ' <class 'lxml.etree.ParserError'>\n",
        "Unexpected error on string ' ' <class 'lxml.etree.ParserError'>\n",
        "Unexpected error on string ' ' <class 'lxml.etree.ParserError'>\n",
        "Unexpected error on string ' ' <class 'lxml.etree.ParserError'>\n",
        "Unexpected error on string ' ' <class 'lxml.etree.ParserError'>\n",
        "Unexpected error on string ' ' <class 'lxml.etree.ParserError'>\n",
        "Unexpected error on string ' ' <class 'lxml.etree.ParserError'>\n",
        "Unexpected error on string ' ' <class 'lxml.etree.ParserError'>\n",
        "Unexpected error on string ' ' <class 'lxml.etree.ParserError'>\n",
        "Unexpected error on string ' ' <class 'lxml.etree.ParserError'>\n",
        "Unexpected error on string ' ' <class 'lxml.etree.ParserError'>\n",
        "Unexpected error on string ' ' <class 'lxml.etree.ParserError'>\n",
        "Unexpected error on string ' ' <class 'lxml.etree.ParserError'>\n",
        "Unexpected error on string ' ' <class 'lxml.etree.ParserError'>\n",
        "Unexpected error on string ' ' <class 'lxml.etree.ParserError'>\n",
        "Unexpected error on string '<' <class 'lxml.etree.ParserError'>\n",
        "Unexpected error on string ' ' <class 'lxml.etree.ParserError'>\n",
        "Unexpected error on string '<' <class 'lxml.etree.ParserError'>\n",
        "Unexpected error on string ' ' <class 'lxml.etree.ParserError'>\n",
        "Unexpected error on string ' ' <class 'lxml.etree.ParserError'>\n",
        "Unexpected error on string ' ' <class 'lxml.etree.ParserError'>\n",
        "Unexpected error on string '<' <class 'lxml.etree.ParserError'>\n",
        "Unexpected error on string ' ' <class 'lxml.etree.ParserError'>\n",
        "Unexpected error on string '<' <class 'lxml.etree.ParserError'>\n",
        "Unexpected error on string ' ' <class 'lxml.etree.ParserError'>\n",
        "Unexpected error on string ' ' <class 'lxml.etree.ParserError'>\n",
        "Unexpected error on string ' ' <class 'lxml.etree.ParserError'>\n",
        "Unexpected error on string ' ' <class 'lxml.etree.ParserError'>\n",
        "Unexpected error on string ' ' <class 'lxml.etree.ParserError'>\n",
        "Unexpected error on string ' ' <class 'lxml.etree.ParserError'>\n",
        "Unexpected error on string ' ' <class 'lxml.etree.ParserError'>\n",
        "Unexpected error on string ' ' <class 'lxml.etree.ParserError'>\n",
        "Unexpected error on string ' ' <class 'lxml.etree.ParserError'>\n",
        "Unexpected error on string ' ' <class 'lxml.etree.ParserError'>\n",
        "Unexpected error on string ' ' <class 'lxml.etree.ParserError'>\n",
        "Unexpected error on string ' ' <class 'lxml.etree.ParserError'>\n",
        "Unexpected error on string ' ' <class 'lxml.etree.ParserError'>\n",
        "Unexpected error on string ' ' <class 'lxml.etree.ParserError'>\n",
        "Unexpected error on string ' ' <class 'lxml.etree.ParserError'>\n",
        "Unexpected error on string ' ' <class 'lxml.etree.ParserError'>\n",
        "Unexpected error on string ' '"
       ]
      },
      {
       "output_type": "stream",
       "stream": "stdout",
       "text": [
        " <class 'lxml.etree.ParserError'>\n",
        "Unexpected error on string ' ' <class 'lxml.etree.ParserError'>\n",
        "Unexpected error on string ' ' <class 'lxml.etree.ParserError'>\n",
        "Unexpected error on string ' ' <class 'lxml.etree.ParserError'>\n",
        "Unexpected error on string ' ' <class 'lxml.etree.ParserError'>\n",
        "Unexpected error on string ' ' <class 'lxml.etree.ParserError'>\n",
        "Unexpected error on string ' ' <class 'lxml.etree.ParserError'>\n",
        "Unexpected error on string ' ' <class 'lxml.etree.ParserError'>\n",
        "Unexpected error on string ' ' <class 'lxml.etree.ParserError'>\n",
        "Unexpected error on string ' ' <class 'lxml.etree.ParserError'>\n",
        "Unexpected error on string ' ' <class 'lxml.etree.ParserError'>\n",
        "Unexpected error on string ' ' <class 'lxml.etree.ParserError'>\n",
        "Unexpected error on string ' ' <class 'lxml.etree.ParserError'>\n",
        "Unexpected error on string ' ' <class 'lxml.etree.ParserError'>\n",
        "Unexpected error on string ' ' <class 'lxml.etree.ParserError'>\n",
        "Unexpected error on string ' ' <class 'lxml.etree.ParserError'>\n",
        "Unexpected error on string ' ' <class 'lxml.etree.ParserError'>\n",
        "Unexpected error on string ' ' <class 'lxml.etree.ParserError'>\n",
        "Unexpected error on string ' ' <class 'lxml.etree.ParserError'>\n",
        "Unexpected error on string ' ' <class 'lxml.etree.ParserError'>\n",
        "Unexpected error on string ' ' <class 'lxml.etree.ParserError'>\n",
        "Unexpected error on string ' ' <class 'lxml.etree.ParserError'>\n",
        "Unexpected error on string ' ' <class 'lxml.etree.ParserError'>\n",
        "Unexpected error on string ' ' <class 'lxml.etree.ParserError'>\n",
        "Unexpected error on string ' ' <class 'lxml.etree.ParserError'>\n",
        "Unexpected error on string ' ' <class 'lxml.etree.ParserError'>\n",
        "Unexpected error on string ' ' <class 'lxml.etree.ParserError'>\n",
        "Unexpected error on string ' ' <class 'lxml.etree.ParserError'>\n",
        "Unexpected error on string ' ' <class 'lxml.etree.ParserError'>\n",
        "Unexpected error on string ' ' <class 'lxml.etree.ParserError'>\n",
        "Unexpected error on string ' ' <class 'lxml.etree.ParserError'>\n",
        "Unexpected error on string ' ' <class 'lxml.etree.ParserError'>\n",
        "Unexpected error on string ' ' <class 'lxml.etree.ParserError'>\n",
        "Unexpected error on string ' ' <class 'lxml.etree.ParserError'>\n",
        "Unexpected error on string ' ' <class 'lxml.etree.ParserError'>\n",
        "Unexpected error on string ' ' <class 'lxml.etree.ParserError'>\n",
        "Unexpected error on string ' ' <class 'lxml.etree.ParserError'>\n",
        "Unexpected error on string ' ' <class 'lxml.etree.ParserError'>\n",
        "Unexpected error on string ' ' <class 'lxml.etree.ParserError'>\n",
        "Unexpected error on string ' ' <class 'lxml.etree.ParserError'>\n",
        "Unexpected error on string ' ' <class 'lxml.etree.ParserError'>\n",
        "Unexpected error on string ' ' <class 'lxml.etree.ParserError'>\n",
        "Unexpected error on string ' ' <class 'lxml.etree.ParserError'>\n",
        "Unexpected error on string ' ' <class 'lxml.etree.ParserError'>\n",
        "Unexpected error on string ' ' <class 'lxml.etree.ParserError'>\n",
        "Unexpected error on string ' ' <class 'lxml.etree.ParserError'>\n",
        "Unexpected error on string ' ' <class 'lxml.etree.ParserError'>\n",
        "Unexpected error on string ' ' <class 'lxml.etree.ParserError'>\n",
        "Unexpected error on string ' ' <class 'lxml.etree.ParserError'>\n",
        "Unexpected error on string ' ' <class 'lxml.etree.ParserError'>\n",
        "Unexpected error on string ' ' <class 'lxml.etree.ParserError'>\n",
        "Unexpected error on string ' ' <class 'lxml.etree.ParserError'>\n",
        "Unexpected error on string ' ' <class 'lxml.etree.ParserError'>\n",
        "Unexpected error on string ' ' <class 'lxml.etree.ParserError'>\n",
        "Unexpected error on string ' ' <class 'lxml.etree.ParserError'>\n",
        "Unexpected error on string ' ' <class 'lxml.etree.ParserError'>\n",
        "Unexpected error on string ' ' <class 'lxml.etree.ParserError'>\n",
        "Unexpected error on string ' ' <class 'lxml.etree.ParserError'>\n",
        "Unexpected error on string ' ' <class 'lxml.etree.ParserError'>\n",
        "Unexpected error on string ' ' <class 'lxml.etree.ParserError'>\n",
        "Unexpected error on string ' ' <class 'lxml.etree.ParserError'>\n",
        "Unexpected error on string ' ' <class 'lxml.etree.ParserError'>\n",
        "Unexpected error on string ' ' <class 'lxml.etree.ParserError'>\n",
        "Unexpected error on string ' ' <class 'lxml.etree.ParserError'>\n",
        "Unexpected error on string ' ' <class 'lxml.etree.ParserError'>\n",
        "Unexpected error on string ' ' <class 'lxml.etree.ParserError'>\n",
        "Unexpected error on string ' ' <class 'lxml.etree.ParserError'>\n",
        "Unexpected error on string ' ' <class 'lxml.etree.ParserError'>\n",
        "Unexpected error on string ' ' <class 'lxml.etree.ParserError'>\n",
        "Unexpected error on string ' ' <class 'lxml.etree.ParserError'>\n",
        "Unexpected error on string ' ' <class 'lxml.etree.ParserError'>\n",
        "Unexpected error on string ' ' <class 'lxml.etree.ParserError'>\n",
        "Unexpected error on string ' ' <class 'lxml.etree.ParserError'>\n",
        "Unexpected error on string ' ' <class 'lxml.etree.ParserError'>\n",
        "Unexpected error on string ' ' <class 'lxml.etree.ParserError'>\n",
        "Unexpected error on string ' ' <class 'lxml.etree.ParserError'>\n",
        "Unexpected error on string ' ' <class 'lxml.etree.ParserError'>\n",
        "Unexpected error on string ' ' <class 'lxml.etree.ParserError'>\n",
        "Unexpected error on string ' ' <class 'lxml.etree.ParserError'>\n",
        "Unexpected error on string '<' <class 'lxml.etree.ParserError'>\n",
        "Unexpected error on string ' ' <class 'lxml.etree.ParserError'>\n",
        "Unexpected error on string '<' <class 'lxml.etree.ParserError'>\n",
        "Unexpected error on string ' ' <class 'lxml.etree.ParserError'>\n",
        "Unexpected error on string '<' <class 'lxml.etree.ParserError'>\n",
        "Unexpected error on string ' ' <class 'lxml.etree.ParserError'>\n",
        "Unexpected error on string '<' <class 'lxml.etree.ParserError'>\n",
        "Unexpected error on string ' ' <class 'lxml.etree.ParserError'>\n",
        "Unexpected error on string ' ' <class 'lxml.etree.ParserError'>\n",
        "Unexpected error on string '<' <class 'lxml.etree.ParserError'>\n",
        "Unexpected error on string ' ' <class 'lxml.etree.ParserError'>\n",
        "Unexpected error on string ' ' <class 'lxml.etree.ParserError'>\n",
        "Unexpected error on string ' ' <class 'lxml.etree.ParserError'>\n",
        "Unexpected error on string ' ' <class 'lxml.etree.ParserError'>\n",
        "Unexpected error on string ' ' <class 'lxml.etree.ParserError'>\n",
        "Unexpected error on string ' ' <class 'lxml.etree.ParserError'>\n",
        "Unexpected error on string ' ' <class 'lxml.etree.ParserError'>\n",
        "Unexpected error on string ' ' <class 'lxml.etree.ParserError'>\n",
        "Unexpected error on string ' ' <class 'lxml.etree.ParserError'>\n",
        "Unexpected error on string ' ' <class 'lxml.etree.ParserError'>\n",
        "Unexpected error on string ' ' <class 'lxml.etree.ParserError'>\n",
        "Unexpected error on string ' ' <class 'lxml.etree.ParserError'>\n",
        "Unexpected error on string ' ' <class 'lxml.etree.ParserError'>\n",
        "Unexpected error on string ' ' <class 'lxml.etree.ParserError'>\n",
        "Unexpected error on string ' ' <class 'lxml.etree.ParserError'>\n",
        "Unexpected error on string ' ' <class 'lxml.etree.ParserError'>\n",
        "Unexpected error on string ' ' <class 'lxml.etree.ParserError'>\n",
        "Unexpected error on string ' ' <class 'lxml.etree.ParserError'>\n",
        "Unexpected error on string ' ' <class 'lxml.etree.ParserError'>\n",
        "Unexpected error on string ' ' <class 'lxml.etree.ParserError'>\n",
        "Unexpected error on string ' ' <class 'lxml.etree.ParserError'>\n",
        "Unexpected error on string ' ' <class 'lxml.etree.ParserError'>\n",
        "Unexpected error on string ' ' <class 'lxml.etree.ParserError'>\n",
        "Unexpected error on string ' ' <class 'lxml.etree.ParserError'>\n",
        "Unexpected error on string ' ' <class 'lxml.etree.ParserError'>\n",
        "Unexpected error on string ' ' <class 'lxml.etree.ParserError'>\n",
        "Unexpected error on string ' ' <class 'lxml.etree.ParserError'>\n",
        "Unexpected error on string ' ' <class 'lxml.etree.ParserError'>\n",
        "Unexpected error on string ' ' <class 'lxml.etree.ParserError'>\n",
        "Unexpected error on string ' ' <class 'lxml.etree.ParserError'>\n",
        "Unexpected error on string ' ' <class 'lxml.etree.ParserError'>\n",
        "Unexpected error on string ' ' <class 'lxml.etree.ParserError'>\n",
        "Unexpected error on string ' ' <class 'lxml.etree.ParserError'>\n",
        "Unexpected error on string ' ' <class 'lxml.etree.ParserError'>\n",
        "Unexpected error on string ' ' <class 'lxml.etree.ParserError'>\n",
        "Unexpected error on string ' ' <class 'lxml.etree.ParserError'>\n",
        "Unexpected error on string ' '"
       ]
      },
      {
       "output_type": "stream",
       "stream": "stdout",
       "text": [
        " <class 'lxml.etree.ParserError'>\n",
        "Unexpected error on string ' ' <class 'lxml.etree.ParserError'>\n",
        "Unexpected error on string ' ' <class 'lxml.etree.ParserError'>\n",
        "Unexpected error on string ' ' <class 'lxml.etree.ParserError'>\n",
        "Unexpected error on string ' ' <class 'lxml.etree.ParserError'>\n",
        "Unexpected error on string ' ' <class 'lxml.etree.ParserError'>\n",
        "Unexpected error on string ' ' <class 'lxml.etree.ParserError'>\n",
        "Unexpected error on string ' ' <class 'lxml.etree.ParserError'>\n",
        "Unexpected error on string ' ' <class 'lxml.etree.ParserError'>\n",
        "Unexpected error on string ' ' <class 'lxml.etree.ParserError'>\n",
        "Unexpected error on string ' ' <class 'lxml.etree.ParserError'>\n",
        "Unexpected error on string ' ' <class 'lxml.etree.ParserError'>\n",
        "Unexpected error on string ' ' <class 'lxml.etree.ParserError'>\n",
        "Unexpected error on string ' ' <class 'lxml.etree.ParserError'>\n",
        "Unexpected error on string ' ' <class 'lxml.etree.ParserError'>\n",
        "Unexpected error on string ' ' <class 'lxml.etree.ParserError'>\n",
        "Unexpected error on string ' ' <class 'lxml.etree.ParserError'>\n",
        "Unexpected error on string ' ' <class 'lxml.etree.ParserError'>\n",
        "Unexpected error on string ' ' <class 'lxml.etree.ParserError'>\n",
        "Unexpected error on string ' ' <class 'lxml.etree.ParserError'>\n",
        "Unexpected error on string ' ' <class 'lxml.etree.ParserError'>\n",
        "Unexpected error on string ' ' <class 'lxml.etree.ParserError'>\n",
        "Unexpected error on string ' ' <class 'lxml.etree.ParserError'>\n",
        "Unexpected error on string ' ' <class 'lxml.etree.ParserError'>\n",
        "Unexpected error on string ' ' <class 'lxml.etree.ParserError'>\n",
        "Unexpected error on string ' ' <class 'lxml.etree.ParserError'>\n",
        "Unexpected error on string ' ' <class 'lxml.etree.ParserError'>\n",
        "Unexpected error on string ' ' <class 'lxml.etree.ParserError'>\n",
        "Unexpected error on string ' ' <class 'lxml.etree.ParserError'>\n",
        "Unexpected error on string ' ' <class 'lxml.etree.ParserError'>\n",
        "Unexpected error on string ' ' <class 'lxml.etree.ParserError'>\n",
        "Unexpected error on string ' ' <class 'lxml.etree.ParserError'>\n",
        "Unexpected error on string ' ' <class 'lxml.etree.ParserError'>\n",
        "Unexpected error on string ' ' <class 'lxml.etree.ParserError'>\n",
        "Unexpected error on string ' ' <class 'lxml.etree.ParserError'>\n",
        "Unexpected error on string ' ' <class 'lxml.etree.ParserError'>\n",
        "Unexpected error on string ' ' <class 'lxml.etree.ParserError'>\n",
        "Unexpected error on string ' ' <class 'lxml.etree.ParserError'>\n",
        "Unexpected error on string ' ' <class 'lxml.etree.ParserError'>\n",
        "Unexpected error on string ' ' <class 'lxml.etree.ParserError'>\n",
        "Unexpected error on string ' ' <class 'lxml.etree.ParserError'>\n",
        "Unexpected error on string ' ' <class 'lxml.etree.ParserError'>\n",
        "Unexpected error on string ' ' <class 'lxml.etree.ParserError'>\n",
        "Unexpected error on string ' ' <class 'lxml.etree.ParserError'>\n",
        "Unexpected error on string ' ' <class 'lxml.etree.ParserError'>\n",
        "Unexpected error on string ' ' <class 'lxml.etree.ParserError'>\n",
        "Unexpected error on string ' ' <class 'lxml.etree.ParserError'>\n",
        "Unexpected error on string ' ' <class 'lxml.etree.ParserError'>\n",
        "Unexpected error on string ' ' <class 'lxml.etree.ParserError'>\n",
        "Unexpected error on string ' ' <class 'lxml.etree.ParserError'>\n",
        "Unexpected error on string ' ' <class 'lxml.etree.ParserError'>\n",
        "Unexpected error on string ' ' <class 'lxml.etree.ParserError'>\n",
        "Unexpected error on string ' ' <class 'lxml.etree.ParserError'>\n",
        "Unexpected error on string ' ' <class 'lxml.etree.ParserError'>\n",
        "Unexpected error on string ' ' <class 'lxml.etree.ParserError'>\n",
        "Unexpected error on string ' ' <class 'lxml.etree.ParserError'>\n",
        "Unexpected error on string ' ' <class 'lxml.etree.ParserError'>\n",
        "Unexpected error on string ' ' <class 'lxml.etree.ParserError'>\n",
        "Unexpected error on string ' ' <class 'lxml.etree.ParserError'>\n",
        "Unexpected error on string ' ' <class 'lxml.etree.ParserError'>\n",
        "Unexpected error on string ' ' <class 'lxml.etree.ParserError'>\n",
        "Unexpected error on string ' ' <class 'lxml.etree.ParserError'>\n",
        "Unexpected error on string ' ' <class 'lxml.etree.ParserError'>\n",
        "Unexpected error on string ' ' <class 'lxml.etree.ParserError'>\n",
        "Unexpected error on string ' ' <class 'lxml.etree.ParserError'>\n",
        "Unexpected error on string ' ' <class 'lxml.etree.ParserError'>\n",
        "Unexpected error on string ' ' <class 'lxml.etree.ParserError'>\n",
        "Unexpected error on string ' ' <class 'lxml.etree.ParserError'>\n",
        "Unexpected error on string ' ' <class 'lxml.etree.ParserError'>\n",
        "Unexpected error on string ' ' <class 'lxml.etree.ParserError'>\n",
        "Unexpected error on string ' ' <class 'lxml.etree.ParserError'>\n",
        "Unexpected error on string ' ' <class 'lxml.etree.ParserError'>\n",
        "Unexpected error on string ' ' <class 'lxml.etree.ParserError'>\n",
        "Unexpected error on string ' ' <class 'lxml.etree.ParserError'>\n",
        "Unexpected error on string ' ' <class 'lxml.etree.ParserError'>\n",
        "Unexpected error on string ' ' <class 'lxml.etree.ParserError'>\n",
        "Unexpected error on string ' ' <class 'lxml.etree.ParserError'>\n",
        "Unexpected error on string ' ' <class 'lxml.etree.ParserError'>\n",
        "Unexpected error on string ' ' <class 'lxml.etree.ParserError'>\n",
        "Unexpected error on string ' ' <class 'lxml.etree.ParserError'>\n",
        "Unexpected error on string ' ' <class 'lxml.etree.ParserError'>\n",
        "Unexpected error on string ' ' <class 'lxml.etree.ParserError'>\n",
        "Unexpected error on string ' ' <class 'lxml.etree.ParserError'>\n",
        "Unexpected error on string ' ' <class 'lxml.etree.ParserError'>\n",
        "Unexpected error on string ' ' <class 'lxml.etree.ParserError'>\n",
        "Unexpected error on string ' ' <class 'lxml.etree.ParserError'>\n",
        "Unexpected error on string ' ' <class 'lxml.etree.ParserError'>\n",
        "Unexpected error on string ' ' <class 'lxml.etree.ParserError'>\n",
        "Unexpected error on string ' ' <class 'lxml.etree.ParserError'>\n",
        "Unexpected error on string ' ' <class 'lxml.etree.ParserError'>\n",
        "Unexpected error on string ' ' <class 'lxml.etree.ParserError'>\n",
        "Unexpected error on string ' ' <class 'lxml.etree.ParserError'>\n",
        "Unexpected error on string ' ' <class 'lxml.etree.ParserError'>\n",
        "Unexpected error on string ' ' <class 'lxml.etree.ParserError'>\n",
        "Unexpected error on string ' ' <class 'lxml.etree.ParserError'>\n",
        "Unexpected error on string ' ' <class 'lxml.etree.ParserError'>\n",
        "Unexpected error on string ' ' <class 'lxml.etree.ParserError'>\n",
        "Unexpected error on string ' ' <class 'lxml.etree.ParserError'>\n",
        "Unexpected error on string ' ' <class 'lxml.etree.ParserError'>\n",
        "Unexpected error on string ' ' <class 'lxml.etree.ParserError'>\n",
        "Unexpected error on string ' ' <class 'lxml.etree.ParserError'>\n",
        "Unexpected error on string ' ' <class 'lxml.etree.ParserError'>\n",
        "Unexpected error on string ' ' <class 'lxml.etree.ParserError'>\n",
        "Unexpected error on string ' ' <class 'lxml.etree.ParserError'>\n",
        "Unexpected error on string ' ' <class 'lxml.etree.ParserError'>\n",
        "Unexpected error on string ' ' <class 'lxml.etree.ParserError'>\n",
        "Unexpected error on string ' ' <class 'lxml.etree.ParserError'>\n",
        "Unexpected error on string ' ' <class 'lxml.etree.ParserError'>\n",
        "Unexpected error on string ' ' <class 'lxml.etree.ParserError'>\n",
        "Unexpected error on string ' ' <class 'lxml.etree.ParserError'>\n",
        "Unexpected error on string ' ' <class 'lxml.etree.ParserError'>\n",
        "Unexpected error on string ' ' <class 'lxml.etree.ParserError'>\n",
        "Unexpected error on string ' ' <class 'lxml.etree.ParserError'>\n",
        "Unexpected error on string ' ' <class 'lxml.etree.ParserError'>\n",
        "Unexpected error on string ' ' <class 'lxml.etree.ParserError'>\n",
        "Unexpected error on string ' ' <class 'lxml.etree.ParserError'>\n",
        "Unexpected error on string ' '"
       ]
      },
      {
       "output_type": "stream",
       "stream": "stdout",
       "text": [
        " <class 'lxml.etree.ParserError'>\n",
        "Unexpected error on string ' ' <class 'lxml.etree.ParserError'>\n",
        "Unexpected error on string ' ' <class 'lxml.etree.ParserError'>\n",
        "Unexpected error on string ' ' <class 'lxml.etree.ParserError'>\n",
        "Unexpected error on string ' ' <class 'lxml.etree.ParserError'>\n",
        "Unexpected error on string ' ' <class 'lxml.etree.ParserError'>\n",
        "Unexpected error on string ' ' <class 'lxml.etree.ParserError'>\n",
        "Unexpected error on string ' ' <class 'lxml.etree.ParserError'>\n",
        "Unexpected error on string ' ' <class 'lxml.etree.ParserError'>\n",
        "Unexpected error on string ' ' <class 'lxml.etree.ParserError'>\n",
        "Unexpected error on string '<' <class 'lxml.etree.ParserError'>\n",
        "Unexpected error on string ' ' <class 'lxml.etree.ParserError'>\n",
        "Unexpected error on string '<' <class 'lxml.etree.ParserError'>\n",
        "Unexpected error on string ' ' <class 'lxml.etree.ParserError'>\n",
        "Unexpected error on string '<' <class 'lxml.etree.ParserError'>\n",
        "Unexpected error on string ' ' <class 'lxml.etree.ParserError'>\n",
        "Unexpected error on string '<' <class 'lxml.etree.ParserError'>\n",
        "Unexpected error on string ' ' <class 'lxml.etree.ParserError'>\n",
        "Unexpected error on string '<' <class 'lxml.etree.ParserError'>\n",
        "Unexpected error on string ' ' <class 'lxml.etree.ParserError'>\n",
        "Unexpected error on string ' ' <class 'lxml.etree.ParserError'>\n",
        "Unexpected error on string '<' <class 'lxml.etree.ParserError'>\n",
        "Unexpected error on string ' ' <class 'lxml.etree.ParserError'>\n",
        "Unexpected error on string ' ' <class 'lxml.etree.ParserError'>\n",
        "Unexpected error on string '<' <class 'lxml.etree.ParserError'>\n",
        "Unexpected error on string ' ' <class 'lxml.etree.ParserError'>\n",
        "Unexpected error on string ' ' <class 'lxml.etree.ParserError'>\n",
        "Unexpected error on string ' ' <class 'lxml.etree.ParserError'>\n",
        "Unexpected error on string '<' <class 'lxml.etree.ParserError'>\n",
        "Unexpected error on string '<' <class 'lxml.etree.ParserError'>\n",
        "Unexpected error on string '<' <class 'lxml.etree.ParserError'>\n",
        "Unexpected error on string ' ' <class 'lxml.etree.ParserError'>\n",
        "Unexpected error on string ' ' <class 'lxml.etree.ParserError'>\n",
        "Unexpected error on string ' ' <class 'lxml.etree.ParserError'>\n",
        "Unexpected error on string ' ' <class 'lxml.etree.ParserError'>\n",
        "Unexpected error on string ' ' <class 'lxml.etree.ParserError'>\n",
        "Unexpected error on string ' ' <class 'lxml.etree.ParserError'>\n",
        "Unexpected error on string ' ' <class 'lxml.etree.ParserError'>\n",
        "Unexpected error on string ' ' <class 'lxml.etree.ParserError'>\n",
        "Unexpected error on string '<' <class 'lxml.etree.ParserError'>\n",
        "Unexpected error on string ' ' <class 'lxml.etree.ParserError'>\n",
        "Unexpected error on string '<' <class 'lxml.etree.ParserError'>\n",
        "Unexpected error on string ' ' <class 'lxml.etree.ParserError'>\n",
        "Unexpected error on string '<' <class 'lxml.etree.ParserError'>\n",
        "Unexpected error on string ' ' <class 'lxml.etree.ParserError'>\n",
        "Unexpected error on string ' ' <class 'lxml.etree.ParserError'>\n",
        "Unexpected error on string '<' <class 'lxml.etree.ParserError'>\n",
        "Unexpected error on string ' ' <class 'lxml.etree.ParserError'>\n",
        "Unexpected error on string ' ' <class 'lxml.etree.ParserError'>\n",
        "Unexpected error on string '<' <class 'lxml.etree.ParserError'>\n",
        "Unexpected error on string ' ' <class 'lxml.etree.ParserError'>\n",
        "Unexpected error on string '<' <class 'lxml.etree.ParserError'>\n",
        "Unexpected error on string '<' <class 'lxml.etree.ParserError'>\n",
        "Unexpected error on string '<' <class 'lxml.etree.ParserError'>\n",
        "Unexpected error on string ' ' <class 'lxml.etree.ParserError'>\n",
        "Unexpected error on string ' ' <class 'lxml.etree.ParserError'>\n",
        "Unexpected error on string ' ' <class 'lxml.etree.ParserError'>\n",
        "Unexpected error on string ' ' <class 'lxml.etree.ParserError'>\n",
        "Unexpected error on string ' ' <class 'lxml.etree.ParserError'>\n",
        "Unexpected error on string ' ' <class 'lxml.etree.ParserError'>\n",
        "Unexpected error on string ' ' <class 'lxml.etree.ParserError'>\n",
        "Unexpected error on string ' ' <class 'lxml.etree.ParserError'>\n",
        "Unexpected error on string ' ' <class 'lxml.etree.ParserError'>\n",
        "Unexpected error on string '<' <class 'lxml.etree.ParserError'>\n",
        "Unexpected error on string ' ' <class 'lxml.etree.ParserError'>\n",
        "Unexpected error on string '<' <class 'lxml.etree.ParserError'>\n",
        "Unexpected error on string ' ' <class 'lxml.etree.ParserError'>\n",
        "Unexpected error on string '<' <class 'lxml.etree.ParserError'>\n",
        "Unexpected error on string ' ' <class 'lxml.etree.ParserError'>\n",
        "Unexpected error on string ' '"
       ]
      },
      {
       "output_type": "stream",
       "stream": "stdout",
       "text": [
        " <class 'lxml.etree.ParserError'>\n",
        "Unexpected error on string '<' <class 'lxml.etree.ParserError'>\n",
        "Unexpected error on string ' ' <class 'lxml.etree.ParserError'>\n",
        "Unexpected error on string ' ' <class 'lxml.etree.ParserError'>\n",
        "Unexpected error on string '<' <class 'lxml.etree.ParserError'>\n",
        "Unexpected error on string ' ' <class 'lxml.etree.ParserError'>\n",
        "Unexpected error on string ' ' <class 'lxml.etree.ParserError'>\n",
        "Unexpected error on string '<' <class 'lxml.etree.ParserError'>\n",
        "Unexpected error on string '<' <class 'lxml.etree.ParserError'>\n",
        "Unexpected error on string '<' <class 'lxml.etree.ParserError'>\n",
        "Unexpected error on string ' ' <class 'lxml.etree.ParserError'>\n",
        "Unexpected error on string ' ' <class 'lxml.etree.ParserError'>\n",
        "Unexpected error on string ' ' <class 'lxml.etree.ParserError'>\n",
        "Unexpected error on string ' ' <class 'lxml.etree.ParserError'>\n",
        "Unexpected error on string ' ' <class 'lxml.etree.ParserError'>\n",
        "Unexpected error on string ' ' <class 'lxml.etree.ParserError'>\n",
        "Unexpected error on string ' ' <class 'lxml.etree.ParserError'>\n",
        "Unexpected error on string ' ' <class 'lxml.etree.ParserError'>\n",
        "Unexpected error on string '<' <class 'lxml.etree.ParserError'>\n",
        "{'heur': 171, 'boiler_pipe': 463, 'crf': 5437, 'downloads_id': 421834553}"
       ]
      },
      {
       "output_type": "stream",
       "stream": "stdout",
       "text": [
        "\n",
        "downloads_id: 422181106\n",
        "[516, 523, 544, 1003, 1020, 1037, 1054, 1071, 1109, 1128, 1147, 1166, 1185, 1204, 1223, 1242, 1261, 1280, 1532, 1551, 1570, 1589, 1608, 1639, 1658, 1677, 1696, 1715, 1746, 1765, 1784, 1803, 1822, 2003, 2004, 2009]"
       ]
      },
      {
       "output_type": "stream",
       "stream": "stdout",
       "text": [
        "\n",
        "[544, 1109]\n",
        "[467, 516, 523, 544, 1109]"
       ]
      },
      {
       "output_type": "stream",
       "stream": "stdout",
       "text": [
        "\n",
        "original article tmp file "
       ]
      },
      {
       "output_type": "stream",
       "stream": "stdout",
       "text": [
        " /tmp/tmpmOhPFw.html\n",
        "/tmp/tmpzGPlQR.html\n",
        "/tmp/tmpmOhPFw.html\n",
        "/tmp/tmpmOhPFw.html\n",
        "Now open file:///tmp/tmpzGPlQR.html in your web browser\n"
       ]
      },
      {
       "output_type": "stream",
       "stream": "stdout",
       "text": [
        "\n",
        "{'heur': 2014, 'boiler_pipe': 230, 'crf': 609, 'downloads_id': 422181106}\n",
        "downloads_id: 422280595\n",
        "[202, 203, 208, 209, 210, 211, 212, 222]"
       ]
      },
      {
       "output_type": "stream",
       "stream": "stdout",
       "text": [
        "\n",
        "[202, 203, 208, 209, 210, 211, 222]\n",
        "[202, 205, 208, 209, 210, 211]"
       ]
      },
      {
       "output_type": "stream",
       "stream": "stdout",
       "text": [
        "\n",
        "original article tmp file "
       ]
      },
      {
       "output_type": "stream",
       "stream": "stdout",
       "text": [
        " /tmp/tmpVaWJ2k.html\n",
        "/tmp/tmpH9maWo.html\n",
        "/tmp/tmpVaWJ2k.html\n",
        "/tmp/tmpVaWJ2k.html\n",
        "Now open file:///tmp/tmpH9maWo.html in your web browser\n"
       ]
      },
      {
       "output_type": "stream",
       "stream": "stdout",
       "text": [
        "\n",
        "{'heur': 148, 'boiler_pipe': 207, 'crf': 120, 'downloads_id': 422280595}\n",
        "downloads_id: 422910963\n",
        "[42, 43, 44, 54, 55, 56, 57, 58, 59, 60]"
       ]
      },
      {
       "output_type": "stream",
       "stream": "stdout",
       "text": [
        "\n",
        "[35, 36, 42, 43, 44]\n",
        "[35, 42, 43, 44]"
       ]
      },
      {
       "output_type": "stream",
       "stream": "stdout",
       "text": [
        "\n",
        "original article tmp file "
       ]
      },
      {
       "output_type": "stream",
       "stream": "stdout",
       "text": [
        " /tmp/tmpk4FIPF.html\n",
        "/tmp/tmp7xHtmi.html\n",
        "/tmp/tmpk4FIPF.html\n",
        "/tmp/tmpk4FIPF.html\n",
        "Now open file:///tmp/tmp7xHtmi.html in your web browser\n"
       ]
      },
      {
       "output_type": "stream",
       "stream": "stdout",
       "text": [
        "\n",
        "{'heur': 933, 'boiler_pipe': 1215, 'crf': 9, 'downloads_id': 422910963}"
       ]
      },
      {
       "output_type": "stream",
       "stream": "stdout",
       "text": [
        "\n",
        "downloads_id: 423318170\n",
        "[239, 240, 241, 242, 243, 244, 245, 246, 247, 248, 249, 250, 251, 252, 253, 254, 255, 256]"
       ]
      },
      {
       "output_type": "stream",
       "stream": "stdout",
       "text": [
        "\n",
        "[232, 235, 248, 249, 250, 251, 252, 253, 254, 255, 256]\n",
        "[231, 232, 235, 237, 239, 240, 241, 242, 243, 244, 245, 246, 247, 248, 249, 250, 251, 252, 253, 254, 255, 256]"
       ]
      },
      {
       "output_type": "stream",
       "stream": "stdout",
       "text": [
        "\n",
        "original article tmp file "
       ]
      },
      {
       "output_type": "stream",
       "stream": "stdout",
       "text": [
        " /tmp/tmpyqz2vK.html\n",
        "/tmp/tmpMP5_0S.html\n",
        "/tmp/tmpyqz2vK.html\n",
        "/tmp/tmpyqz2vK.html\n",
        "Now open file:///tmp/tmpMP5_0S.html in your web browser\n"
       ]
      },
      {
       "output_type": "stream",
       "stream": "stdout",
       "text": [
        "\n",
        "{'heur': 244, 'boiler_pipe': 340, 'crf': 3509, 'downloads_id': 423318170}"
       ]
      },
      {
       "output_type": "stream",
       "stream": "stdout",
       "text": [
        "\n",
        "downloads_id: 424080271\n",
        "[787, 790, 796, 802, 805, 808, 811, 1083, 1094, 1105, 1737, 1779, 1783]"
       ]
      },
      {
       "output_type": "stream",
       "stream": "stdout",
       "text": [
        "\n",
        "[787, 790]\n",
        "[709, 716, 721, 787, 790, 793, 796, 799, 802, 805, 808, 811]"
       ]
      },
      {
       "output_type": "stream",
       "stream": "stdout",
       "text": [
        "\n",
        "original article tmp file "
       ]
      },
      {
       "output_type": "stream",
       "stream": "stdout",
       "text": [
        " /tmp/tmpknIrd8.html\n",
        "/tmp/tmpDonP0_.html\n",
        "/tmp/tmpknIrd8.html\n",
        "/tmp/tmpknIrd8.html\n",
        "Now open file:///tmp/tmpDonP0_.html in your web browser\n"
       ]
      },
      {
       "output_type": "stream",
       "stream": "stdout",
       "text": [
        "\n",
        "{'heur': 455, 'boiler_pipe': 124, 'crf': 1184, 'downloads_id': 424080271}\n",
        "downloads_id: 424369085\n",
        "[471, 505, 507, 509, 511, 513, 515, 517]"
       ]
      },
      {
       "output_type": "stream",
       "stream": "stdout",
       "text": [
        "\n",
        "[471, 505, 507, 509, 511, 513, 515, 517]\n",
        "[471, 474, 505, 507, 509, 511, 513, 515, 517]"
       ]
      },
      {
       "output_type": "stream",
       "stream": "stdout",
       "text": [
        "\n",
        "original article tmp file "
       ]
      },
      {
       "output_type": "stream",
       "stream": "stdout",
       "text": [
        " /tmp/tmpzScTLW.html\n",
        "/tmp/tmpZUENEJ.html\n",
        "/tmp/tmpzScTLW.html\n",
        "/tmp/tmpzScTLW.html\n",
        "Now open file:///tmp/tmpZUENEJ.html in your web browser\n"
       ]
      },
      {
       "output_type": "stream",
       "stream": "stdout",
       "text": [
        "\n",
        "{'heur': 38, 'boiler_pipe': 29, 'crf': 38, 'downloads_id': 424369085}\n",
        "downloads_id: 424796346\n",
        "[514, 521, 576, 577, 584, 585, 592, 593, 645, 646, 743, 744, 771, 823, 835, 847, 862, 874, 886, 1001]"
       ]
      },
      {
       "output_type": "stream",
       "stream": "stdout",
       "text": [
        "\n",
        "[474, 510, 514, 521, 802]\n",
        "[510, 514, 521]"
       ]
      },
      {
       "output_type": "stream",
       "stream": "stdout",
       "text": [
        "\n",
        "original article tmp file "
       ]
      },
      {
       "output_type": "stream",
       "stream": "stdout",
       "text": [
        " /tmp/tmpbhdiAE.html\n",
        "/tmp/tmpBRD0gF.html\n",
        "/tmp/tmpbhdiAE.html\n",
        "/tmp/tmpbhdiAE.html\n",
        "Now open file:///tmp/tmpBRD0gF.html in your web browser\n"
       ]
      },
      {
       "output_type": "stream",
       "stream": "stdout",
       "text": [
        "\n",
        "{'heur': 2570, 'boiler_pipe': 239, 'crf': 127, 'downloads_id': 424796346}"
       ]
      },
      {
       "output_type": "stream",
       "stream": "stdout",
       "text": [
        "\n",
        "downloads_id: 424840366\n",
        "[771, 774, 777, 780, 783, 802, 1544, 1586, 1590]"
       ]
      },
      {
       "output_type": "stream",
       "stream": "stdout",
       "text": [
        "\n",
        "[703, 771, 774, 777, 780, 783, 802]\n",
        "[703, 771, 774, 777, 780, 783, 802]"
       ]
      },
      {
       "output_type": "stream",
       "stream": "stdout",
       "text": [
        "\n",
        "original article tmp file "
       ]
      },
      {
       "output_type": "stream",
       "stream": "stdout",
       "text": [
        " /tmp/tmpx4Ks0q.html\n",
        "/tmp/tmpOphOFF.html\n",
        "/tmp/tmpx4Ks0q.html\n",
        "/tmp/tmpx4Ks0q.html\n",
        "Now open file:///tmp/tmpOphOFF.html in your web browser\n"
       ]
      },
      {
       "output_type": "stream",
       "stream": "stdout",
       "text": [
        "\n",
        "{'heur': 168, 'boiler_pipe': 139, 'crf': 0, 'downloads_id': 424840366}\n",
        "downloads_id: 425206279\n",
        "[775, 776, 786, 832, 840, 1052, 1080, 1126, 1152, 1207]"
       ]
      },
      {
       "output_type": "stream",
       "stream": "stdout",
       "text": [
        "\n",
        "[377, 775, 776]\n",
        "[377, 775, 776, 786]"
       ]
      },
      {
       "output_type": "stream",
       "stream": "stdout",
       "text": [
        "\n",
        "original article tmp file "
       ]
      },
      {
       "output_type": "stream",
       "stream": "stdout",
       "text": [
        " /tmp/tmpmLUlQF.html\n",
        "/tmp/tmpVc0HKT.html\n",
        "/tmp/tmpmLUlQF.html\n",
        "/tmp/tmpmLUlQF.html\n",
        "Now open file:///tmp/tmpVc0HKT.html in your web browser\n"
       ]
      },
      {
       "output_type": "stream",
       "stream": "stdout",
       "text": [
        "\n",
        "{'heur': 219, 'boiler_pipe': 111, 'crf': 838, 'downloads_id': 425206279}\n",
        "downloads_id: 426405203\n",
        "[777, 780, 783, 789, 792, 798, 801, 807, 810, 1612, 1654, 1658]"
       ]
      },
      {
       "output_type": "stream",
       "stream": "stdout",
       "text": [
        "\n",
        "[698, 777, 780, 783, 786, 789, 792]\n",
        "[698, 777, 780, 783, 786, 789, 792, 795, 798, 801, 804, 807, 810]"
       ]
      },
      {
       "output_type": "stream",
       "stream": "stdout",
       "text": [
        "\n",
        "original article tmp file "
       ]
      },
      {
       "output_type": "stream",
       "stream": "stdout",
       "text": [
        " /tmp/tmpXnr1sI.html\n",
        "/tmp/tmppr52Xz.html\n",
        "/tmp/tmpXnr1sI.html\n",
        "/tmp/tmpXnr1sI.html\n",
        "Now open file:///tmp/tmppr52Xz.html in your web browser\n"
       ]
      },
      {
       "output_type": "stream",
       "stream": "stdout",
       "text": [
        "\n",
        "{'heur': 502, 'boiler_pipe': 172, 'crf': 967, 'downloads_id': 426405203}\n",
        "downloads_id: 426560018\n",
        "[205, 206, 207, 208, 210, 211, 212, 213, 316, 320, 323, 324, 328, 373, 407, 437, 442, 447]"
       ]
      },
      {
       "output_type": "stream",
       "stream": "stdout",
       "text": [
        "\n",
        "[184, 205, 206, 207, 208]\n",
        "[181, 184, 202, 205, 206, 207, 208, 209, 210, 211, 212]"
       ]
      },
      {
       "output_type": "stream",
       "stream": "stdout",
       "text": [
        "\n",
        "original article tmp file "
       ]
      },
      {
       "output_type": "stream",
       "stream": "stdout",
       "text": [
        " /tmp/tmpNSOOZq.html\n",
        "/tmp/tmpvd_k0E.html\n",
        "/tmp/tmpNSOOZq.html\n",
        "/tmp/tmpNSOOZq.html\n",
        "Now open file:///tmp/tmpvd_k0E.html in your web browser\n"
       ]
      },
      {
       "output_type": "stream",
       "stream": "stdout",
       "text": [
        "\n",
        "{'heur': 540, 'boiler_pipe': 59, 'crf': 1486, 'downloads_id': 426560018}"
       ]
      },
      {
       "output_type": "stream",
       "stream": "stdout",
       "text": [
        "\n",
        "downloads_id: 426632784\n",
        "[405, 407, 409, 411, 413, 415, 417, 419, 420, 423, 642, 643, 644, 645]"
       ]
      },
      {
       "output_type": "stream",
       "stream": "stdout",
       "text": [
        "\n",
        "[392, 405, 407, 409, 411, 413, 415, 417, 419, 420, 421, 423]\n",
        "[392, 398, 405, 407, 409, 411, 413, 415, 417, 419, 420, 421]"
       ]
      },
      {
       "output_type": "stream",
       "stream": "stdout",
       "text": [
        "\n",
        "original article tmp file "
       ]
      },
      {
       "output_type": "stream",
       "stream": "stdout",
       "text": [
        " /tmp/tmpTfKXQe.html\n",
        "/tmp/tmpiFx0Bb.html\n",
        "/tmp/tmpTfKXQe.html\n",
        "/tmp/tmpTfKXQe.html\n",
        "Now open file:///tmp/tmpiFx0Bb.html in your web browser\n"
       ]
      },
      {
       "output_type": "stream",
       "stream": "stdout",
       "text": [
        "\n",
        "Unexpected error on string '<'"
       ]
      },
      {
       "output_type": "stream",
       "stream": "stdout",
       "text": [
        " <class 'lxml.etree.ParserError'>\n",
        "{'heur': 823, 'boiler_pipe': 559, 'crf': 303, 'downloads_id': 426632784}\n",
        "downloads_id: 426709900\n",
        "[110, 111, 112, 113, 114, 115, 116, 117, 118, 119, 120, 121, 122, 123, 124, 125, 126, 127, 128, 141, 142, 143, 144, 145, 146, 147]"
       ]
      },
      {
       "output_type": "stream",
       "stream": "stdout",
       "text": [
        "\n",
        "[97, 98, 99, 110, 111, 112, 113, 114, 115, 116, 117, 118, 119, 120, 121, 122, 123, 124, 125, 126, 127, 128, 136, 141, 142, 143, 144, 145, 146, 147]\n",
        "[97, 98, 99, 110, 111, 112, 113, 114, 115, 116, 117, 118, 119, 120, 121, 122, 123, 124, 125, 126, 127, 128, 136, 141, 142, 143, 144, 145, 146, 147]"
       ]
      },
      {
       "output_type": "stream",
       "stream": "stdout",
       "text": [
        "\n",
        "original article tmp file "
       ]
      },
      {
       "output_type": "stream",
       "stream": "stdout",
       "text": [
        " /tmp/tmpgSXDms.html\n",
        "/tmp/tmpJyzvQ5.html\n",
        "/tmp/tmpgSXDms.html\n",
        "/tmp/tmpgSXDms.html\n",
        "Now open file:///tmp/tmpJyzvQ5.html in your web browser\n"
       ]
      },
      {
       "output_type": "stream",
       "stream": "stdout",
       "text": [
        "\n",
        "Unexpected error on string '<'"
       ]
      },
      {
       "output_type": "stream",
       "stream": "stdout",
       "text": [
        " <class 'lxml.etree.ParserError'>\n",
        "{'heur': 197, 'boiler_pipe': 416, 'crf': 0, 'downloads_id': 426709900}"
       ]
      },
      {
       "output_type": "stream",
       "stream": "stdout",
       "text": [
        "\n",
        "downloads_id: 428449440\n",
        "[154, 157, 196, 198, 199]"
       ]
      },
      {
       "output_type": "stream",
       "stream": "stdout",
       "text": [
        "\n",
        "[157, 196, 197, 198, 199, 429, 430, 483]\n",
        "[157, 161, 196, 198, 199]"
       ]
      },
      {
       "output_type": "stream",
       "stream": "stdout",
       "text": [
        "\n",
        "original article tmp file "
       ]
      },
      {
       "output_type": "stream",
       "stream": "stdout",
       "text": [
        " /tmp/tmpl9DJOZ.html\n",
        "/tmp/tmpfMPsZb.html\n",
        "/tmp/tmpl9DJOZ.html\n",
        "/tmp/tmpl9DJOZ.html\n",
        "Now open file:///tmp/tmpfMPsZb.html in your web browser\n"
       ]
      },
      {
       "output_type": "stream",
       "stream": "stdout",
       "text": [
        "\n",
        "{'heur': 93, 'boiler_pipe': 251, 'crf': 287, 'downloads_id': 428449440}\n",
        "downloads_id: 429607289\n",
        "[230, 231, 232, 233, 234, 235, 236, 237, 238, 239, 240, 241, 242, 243, 244, 245, 246, 247, 248, 249]"
       ]
      },
      {
       "output_type": "stream",
       "stream": "stdout",
       "text": [
        "\n",
        "[198, 230, 231, 232, 233, 234, 235, 236, 237, 238, 239, 240, 241, 242, 243, 244, 245, 246, 247, 248, 249, 670, 722]\n",
        "[198, 230, 231, 232, 233, 234, 235, 236, 237, 238, 239, 240, 241, 242, 243, 244, 245, 246, 247, 248, 249, 670, 722]"
       ]
      },
      {
       "output_type": "stream",
       "stream": "stdout",
       "text": [
        "\n",
        "original article tmp file "
       ]
      },
      {
       "output_type": "stream",
       "stream": "stdout",
       "text": [
        " /tmp/tmpGl5NsL.html\n",
        "/tmp/tmpcyd8PA.html\n",
        "/tmp/tmpGl5NsL.html\n",
        "/tmp/tmpGl5NsL.html\n",
        "Now open file:///tmp/tmpcyd8PA.html in your web browser\n"
       ]
      },
      {
       "output_type": "stream",
       "stream": "stdout",
       "text": [
        "\n",
        "{'heur': 129, 'boiler_pipe': 5096, 'crf': 0, 'downloads_id': 429607289}"
       ]
      },
      {
       "output_type": "stream",
       "stream": "stdout",
       "text": [
        "\n",
        "downloads_id: 430363249\n",
        "[281, 282, 286, 303, 304, 305, 306, 307, 308, 309, 310, 428, 438, 443, 448, 457, 462, 467, 472, 477, 485, 490, 495, 500, 505, 567]"
       ]
      },
      {
       "output_type": "stream",
       "stream": "stdout",
       "text": [
        "\n",
        "[281, 282, 284, 286, 302, 303, 304, 305, 306, 307, 308, 309, 443]\n",
        "[281, 282, 284, 286, 302, 303, 304, 305, 306, 307, 308, 309]"
       ]
      },
      {
       "output_type": "stream",
       "stream": "stdout",
       "text": [
        "\n",
        "original article tmp file "
       ]
      },
      {
       "output_type": "stream",
       "stream": "stdout",
       "text": [
        " /tmp/tmpjIVZM4.html\n",
        "/tmp/tmpsujIrO.html\n",
        "/tmp/tmpjIVZM4.html\n",
        "/tmp/tmpjIVZM4.html\n",
        "Now open file:///tmp/tmpsujIrO.html in your web browser\n"
       ]
      },
      {
       "output_type": "stream",
       "stream": "stdout",
       "text": [
        "\n",
        "{'heur': 1208, 'boiler_pipe': 22, 'crf': 76, 'downloads_id': 430363249}\n",
        "downloads_id: 430995428\n",
        "[1059, 1094, 1095, 1096, 1101, 1143]"
       ]
      },
      {
       "output_type": "stream",
       "stream": "stdout",
       "text": [
        "\n",
        "[1059, 1094, 1095, 1096]\n",
        "[1059, 1062, 1092, 1094, 1095, 1096]"
       ]
      },
      {
       "output_type": "stream",
       "stream": "stdout",
       "text": [
        "\n",
        "original article tmp file "
       ]
      },
      {
       "output_type": "stream",
       "stream": "stdout",
       "text": [
        " /tmp/tmpdKx4Zk.html\n",
        "/tmp/tmpvGXDmw.html\n",
        "/tmp/tmpdKx4Zk.html\n",
        "/tmp/tmpdKx4Zk.html\n",
        "Now open file:///tmp/tmpvGXDmw.html in your web browser\n"
       ]
      },
      {
       "output_type": "stream",
       "stream": "stdout",
       "text": [
        "\n",
        "{'heur': 250, 'boiler_pipe': 161, 'crf': 136, 'downloads_id': 430995428}\n",
        "downloads_id: 433457459\n",
        "[11041, 11042, 11045, 11046]"
       ]
      },
      {
       "output_type": "stream",
       "stream": "stdout",
       "text": [
        "\n",
        "[11041, 11042, 11043, 11044, 11045, 11046]\n",
        "[11021, 11024, 11041, 11042, 11045, 11046]"
       ]
      },
      {
       "output_type": "stream",
       "stream": "stdout",
       "text": [
        "\n",
        "original article tmp file "
       ]
      },
      {
       "output_type": "stream",
       "stream": "stdout",
       "text": [
        " /tmp/tmp381Q2Y.html\n",
        "/tmp/tmpGoEXAd.html\n",
        "/tmp/tmp381Q2Y.html\n",
        "/tmp/tmp381Q2Y.html\n",
        "Now open file:///tmp/tmpGoEXAd.html in your web browser\n"
       ]
      },
      {
       "output_type": "stream",
       "stream": "stdout",
       "text": [
        "\n",
        "{'heur': 79, 'boiler_pipe': 93, 'crf': 141, 'downloads_id': 433457459}\n",
        "downloads_id: 435624796\n",
        "[3280, 3283, 3387, 3408, 3421, 3434, 3454, 3456, 3460, 3462, 3527, 3528, 3626]"
       ]
      },
      {
       "output_type": "stream",
       "stream": "stdout",
       "text": [
        "\n",
        "[186, 3280, 3283, 3528, 3895]\n",
        "[3280, 3283, 3387, 3446, 3454, 3456, 3458, 3460, 3462, 3528]"
       ]
      },
      {
       "output_type": "stream",
       "stream": "stdout",
       "text": [
        "\n",
        "original article tmp file "
       ]
      },
      {
       "output_type": "stream",
       "stream": "stdout",
       "text": [
        " /tmp/tmp0V03Lb.html\n",
        "/tmp/tmptAoaN2.html\n",
        "/tmp/tmp0V03Lb.html\n",
        "/tmp/tmp0V03Lb.html\n",
        "Now open file:///tmp/tmptAoaN2.html in your web browser\n"
       ]
      },
      {
       "output_type": "stream",
       "stream": "stdout",
       "text": [
        "\n",
        "{'heur': 249, 'boiler_pipe': 96, 'crf': 1577, 'downloads_id': 435624796}\n",
        "downloads_id: 435659593\n",
        "[366, 367, 368, 369, 425, 432, 439, 463, 473, 503, 510, 527, 558, 568, 759]"
       ]
      },
      {
       "output_type": "stream",
       "stream": "stdout",
       "text": [
        "\n",
        "[363, 366, 367, 368, 369, 432]\n",
        "[362, 363, 366, 367, 368, 369]"
       ]
      },
      {
       "output_type": "stream",
       "stream": "stdout",
       "text": [
        "\n",
        "original article tmp file "
       ]
      },
      {
       "output_type": "stream",
       "stream": "stdout",
       "text": [
        " /tmp/tmpXzqbzV.html\n",
        "/tmp/tmpdoNrMP.html\n",
        "/tmp/tmpXzqbzV.html\n",
        "/tmp/tmpXzqbzV.html\n",
        "Now open file:///tmp/tmpdoNrMP.html in your web browser\n"
       ]
      },
      {
       "output_type": "stream",
       "stream": "stdout",
       "text": [
        "\n",
        "{'heur': 898, 'boiler_pipe': 98, 'crf': 104, 'downloads_id': 435659593}\n",
        "downloads_id: 461175103\n",
        "[168, 169, 170, 171, 172, 173, 174, 175, 176, 177, 178, 179, 180, 181, 182, 183, 184, 187, 258, 259, 260, 261, 262, 264, 265, 266]"
       ]
      },
      {
       "output_type": "stream",
       "stream": "stdout",
       "text": [
        "\n",
        "[164, 167, 168, 169, 170, 171, 172, 173, 174, 175, 176, 177, 178, 179, 180, 181, 182, 183, 184, 3904, 3905, 3906, 3907, 3908, 3909, 3910, 3911, 3912, 3913, 3914, 3915, 3916, 3917, 3918, 3919, 3920, 3921, 3922, 3923, 3924, 3925, 3926, 3927, 3928, 3929, 3930]\n",
        "[164, 167, 168, 169, 170, 171, 172, 173, 174, 175, 176, 177, 178, 179, 180, 181, 182, 183, 184]"
       ]
      },
      {
       "output_type": "stream",
       "stream": "stdout",
       "text": [
        "\n",
        "original article tmp file "
       ]
      },
      {
       "output_type": "stream",
       "stream": "stdout",
       "text": [
        " /tmp/tmpGvTiST.html\n",
        "/tmp/tmpS4rZX0.html\n",
        "/tmp/tmpGvTiST.html\n",
        "/tmp/tmpGvTiST.html\n",
        "Now open file:///tmp/tmpS4rZX0.html in your web browser\n"
       ]
      },
      {
       "output_type": "stream",
       "stream": "stdout",
       "text": [
        "\n",
        "{'heur': 3407, 'boiler_pipe': 861, 'crf': 7723, 'downloads_id': 461175103}"
       ]
      },
      {
       "output_type": "stream",
       "stream": "stdout",
       "text": [
        "\n",
        "downloads_id: 461175549\n",
        "[]"
       ]
      },
      {
       "output_type": "stream",
       "stream": "stdout",
       "text": [
        "\n",
        "[]\n",
        "[38]"
       ]
      },
      {
       "output_type": "stream",
       "stream": "stdout",
       "text": [
        "\n",
        "original article tmp file "
       ]
      },
      {
       "output_type": "stream",
       "stream": "stdout",
       "text": [
        " /tmp/tmpJgylzl.html\n",
        "/tmp/tmpJyH2kG.html\n",
        "/tmp/tmpJgylzl.html\n",
        "/tmp/tmpJgylzl.html\n",
        "Now open file:///tmp/tmpJyH2kG.html in your web browser\n"
       ]
      },
      {
       "output_type": "stream",
       "stream": "stdout",
       "text": [
        "\n",
        "Unexpected error on string ' ' <class 'lxml.etree.ParserError'>\n",
        "Unexpected error on string ' ' <class 'lxml.etree.ParserError'>\n",
        "Unexpected error on string ' ' <class 'lxml.etree.ParserError'>\n",
        "Unexpected error on string ' ' <class 'lxml.etree.ParserError'>\n",
        "Unexpected error on string ' ' <class 'lxml.etree.ParserError'>\n",
        "Unexpected error on string ' ' <class 'lxml.etree.ParserError'>\n",
        "Unexpected error on string '<' <class 'lxml.etree.ParserError'>\n",
        "Unexpected error on string ' ' <class 'lxml.etree.ParserError'>\n",
        "Unexpected error on string ' ' <class 'lxml.etree.ParserError'>\n",
        "Unexpected error on string ' ' <class 'lxml.etree.ParserError'>\n",
        "Unexpected error on string ' ' <class 'lxml.etree.ParserError'>\n",
        "Unexpected error on string ' ' <class 'lxml.etree.ParserError'>\n",
        "Unexpected error on string ' ' <class 'lxml.etree.ParserError'>\n",
        "Unexpected error on string ' ' <class 'lxml.etree.ParserError'>\n",
        "Unexpected error on string ' ' <class 'lxml.etree.ParserError'>\n",
        "Unexpected error on string ' ' <class 'lxml.etree.ParserError'>\n",
        "Unexpected error on string ' ' <class 'lxml.etree.ParserError'>\n",
        "Unexpected error on string ' ' <class 'lxml.etree.ParserError'>\n",
        "Unexpected error on string ' ' <class 'lxml.etree.ParserError'>\n",
        "Unexpected error on string ' ' <class 'lxml.etree.ParserError'>\n",
        "Unexpected error on string ' ' <class 'lxml.etree.ParserError'>\n",
        "Unexpected error on string ' ' <class 'lxml.etree.ParserError'>\n",
        "Unexpected error on string ' ' <class 'lxml.etree.ParserError'>\n",
        "Unexpected error on string ' ' <class 'lxml.etree.ParserError'>\n",
        "Unexpected error on string ' ' <class 'lxml.etree.ParserError'>\n",
        "Unexpected error on string '<' <class 'lxml.etree.ParserError'>\n",
        "Unexpected error on string ' ' <class 'lxml.etree.ParserError'>\n",
        "Unexpected error on string ' ' <class 'lxml.etree.ParserError'>\n",
        "Unexpected error on string ' ' <class 'lxml.etree.ParserError'>\n",
        "Unexpected error on string ' ' <class 'lxml.etree.ParserError'>\n",
        "Unexpected error on string ' ' <class 'lxml.etree.ParserError'>\n",
        "Unexpected error on string ' ' <class 'lxml.etree.ParserError'>\n",
        "Unexpected error on string '<' <class 'lxml.etree.ParserError'>\n",
        "Unexpected error on string ' ' <class 'lxml.etree.ParserError'>\n",
        "Unexpected error on string ' ' <class 'lxml.etree.ParserError'>\n",
        "Unexpected error on string ' ' <class 'lxml.etree.ParserError'>\n",
        "Unexpected error on string ' ' <class 'lxml.etree.ParserError'>\n",
        "Unexpected error on string ' ' <class 'lxml.etree.ParserError'>\n",
        "Unexpected error on string ' ' <class 'lxml.etree.ParserError'>\n",
        "Unexpected error on string ' ' <class 'lxml.etree.ParserError'>\n",
        "Unexpected error on string ' ' <class 'lxml.etree.ParserError'>\n",
        "Unexpected error on string ' ' <class 'lxml.etree.ParserError'>\n",
        "Unexpected error on string ' ' <class 'lxml.etree.ParserError'>\n",
        "Unexpected error on string ' ' <class 'lxml.etree.ParserError'>\n",
        "Unexpected error on string ' ' <class 'lxml.etree.ParserError'>\n",
        "Unexpected error on string ' ' <class 'lxml.etree.ParserError'>\n",
        "Unexpected error on string ' ' <class 'lxml.etree.ParserError'>\n",
        "Unexpected error on string ' ' <class 'lxml.etree.ParserError'>\n",
        "Unexpected error on string ' ' <class 'lxml.etree.ParserError'>\n",
        "Unexpected error on string ' ' <class 'lxml.etree.ParserError'>\n",
        "Unexpected error on string ' ' <class 'lxml.etree.ParserError'>\n",
        "Unexpected error on string '<' <class 'lxml.etree.ParserError'>\n",
        "Unexpected error on string ' ' <class 'lxml.etree.ParserError'>\n",
        "Unexpected error on string ' ' <class 'lxml.etree.ParserError'>\n",
        "Unexpected error on string ' ' <class 'lxml.etree.ParserError'>\n",
        "Unexpected error on string ' ' <class 'lxml.etree.ParserError'>\n",
        "Unexpected error on string ' ' <class 'lxml.etree.ParserError'>\n",
        "Unexpected error on string ' ' <class 'lxml.etree.ParserError'>\n",
        "Unexpected error on string '<' <class 'lxml.etree.ParserError'>\n",
        "Unexpected error on string ' ' <class 'lxml.etree.ParserError'>\n",
        "Unexpected error on string ' ' <class 'lxml.etree.ParserError'>\n",
        "Unexpected error on string ' ' <class 'lxml.etree.ParserError'>\n",
        "Unexpected error on string ' ' <class 'lxml.etree.ParserError'>\n",
        "Unexpected error on string ' ' <class 'lxml.etree.ParserError'>\n",
        "Unexpected error on string ' ' <class 'lxml.etree.ParserError'>\n",
        "Unexpected error on string ' ' <class 'lxml.etree.ParserError'>\n",
        "Unexpected error on string ' ' <class 'lxml.etree.ParserError'>\n",
        "Unexpected error on string ' ' <class 'lxml.etree.ParserError'>\n",
        "Unexpected error on string ' ' <class 'lxml.etree.ParserError'>\n",
        "Unexpected error on string ' ' <class 'lxml.etree.ParserError'>\n",
        "Unexpected error on string ' ' <class 'lxml.etree.ParserError'>\n",
        "Unexpected error on string ' ' <class 'lxml.etree.ParserError'>\n",
        "Unexpected error on string ' ' <class 'lxml.etree.ParserError'>\n",
        "Unexpected error on string ' ' <class 'lxml.etree.ParserError'>\n",
        "Unexpected error on string ' ' <class 'lxml.etree.ParserError'>\n",
        "Unexpected error on string ' ' <class 'lxml.etree.ParserError'>\n",
        "Unexpected error on string ' ' <class 'lxml.etree.ParserError'>\n",
        "Unexpected error on string '<' <class 'lxml.etree.ParserError'>\n",
        "{'heur': 249, 'boiler_pipe': 249, 'crf': 249, 'downloads_id': 461175549}\n",
        "downloads_id: 461176415\n",
        "[447, 480, 562, 569, 575, 576, 577, 687, 693, 699, 705, 711, 720, 726, 732, 738, 744, 753, 759, 765, 771, 777, 896]"
       ]
      },
      {
       "output_type": "stream",
       "stream": "stdout",
       "text": [
        "\n",
        "[447, 449, 480]\n",
        "[447, 449, 451, 464, 470, 480]"
       ]
      },
      {
       "output_type": "stream",
       "stream": "stdout",
       "text": [
        "\n",
        "original article tmp file "
       ]
      },
      {
       "output_type": "stream",
       "stream": "stdout",
       "text": [
        " /tmp/tmpr389SN.html\n",
        "/tmp/tmpKjP477.html\n",
        "/tmp/tmpr389SN.html\n",
        "/tmp/tmpr389SN.html\n",
        "Now open file:///tmp/tmpKjP477.html in your web browser\n"
       ]
      },
      {
       "output_type": "stream",
       "stream": "stdout",
       "text": [
        "\n",
        "{'heur': 1753, 'boiler_pipe': 241, 'crf': 335, 'downloads_id': 461176415}"
       ]
      },
      {
       "output_type": "stream",
       "stream": "stdout",
       "text": [
        "\n",
        "downloads_id: 461176844\n",
        "[595, 598, 599, 600, 601, 602, 603, 604, 605, 606, 607, 608, 609, 610, 611, 679, 739]"
       ]
      },
      {
       "output_type": "stream",
       "stream": "stdout",
       "text": [
        "\n",
        "[371, 595, 598, 599, 600, 601, 602, 603, 604, 605, 606, 607, 608, 609, 610, 611, 613]\n",
        "[595, 598, 599, 600, 601, 602, 603, 604, 605, 606, 607, 608, 609, 610, 611]"
       ]
      },
      {
       "output_type": "stream",
       "stream": "stdout",
       "text": [
        "\n",
        "original article tmp file "
       ]
      },
      {
       "output_type": "stream",
       "stream": "stdout",
       "text": [
        " /tmp/tmpzNUYLa.html\n",
        "/tmp/tmpkdvnU4.html\n",
        "/tmp/tmpzNUYLa.html\n",
        "/tmp/tmpzNUYLa.html\n",
        "Now open file:///tmp/tmpkdvnU4.html in your web browser\n"
       ]
      },
      {
       "output_type": "stream",
       "stream": "stdout",
       "text": [
        "\n",
        "{'heur': 421, 'boiler_pipe': 95, 'crf': 757, 'downloads_id': 461176844}"
       ]
      },
      {
       "output_type": "stream",
       "stream": "stdout",
       "text": [
        "\n",
        "downloads_id: 461177487\n",
        "[714, 722, 723, 724, 725, 998, 1051, 1056, 1077, 1098, 1119, 1140, 1161]"
       ]
      },
      {
       "output_type": "stream",
       "stream": "stdout",
       "text": [
        "\n",
        "[612]\n",
        "[704, 714, 722, 723, 724, 725]"
       ]
      },
      {
       "output_type": "stream",
       "stream": "stdout",
       "text": [
        "\n",
        "original article tmp file "
       ]
      },
      {
       "output_type": "stream",
       "stream": "stdout",
       "text": [
        " /tmp/tmpRKer4h.html\n",
        "/tmp/tmpiRQjoi.html\n",
        "/tmp/tmpRKer4h.html\n",
        "/tmp/tmpRKer4h.html\n",
        "Now open file:///tmp/tmpiRQjoi.html in your web browser\n"
       ]
      },
      {
       "output_type": "stream",
       "stream": "stdout",
       "text": [
        "\n",
        "Unexpected error on string '<' <class 'lxml.etree.ParserError'>\n",
        "Unexpected error on string ' ' <class 'lxml.etree.ParserError'>\n",
        "Unexpected error on string '<' <class 'lxml.etree.ParserError'>\n",
        "Unexpected error on string ' ' <class 'lxml.etree.ParserError'>\n",
        "Unexpected error on string ' ' <class 'lxml.etree.ParserError'>\n",
        "Unexpected error on string ' ' <class 'lxml.etree.ParserError'>\n",
        "Unexpected error on string '<' <class 'lxml.etree.ParserError'>\n",
        "Unexpected error on string '<' <class 'lxml.etree.ParserError'>\n",
        "{'heur': 967, 'boiler_pipe': 12, 'crf': 949, 'downloads_id': 461177487}\n",
        "downloads_id: 461178557\n",
        "[837, 838, 1159, 1185, 1211, 1237, 1263, 1291, 1317, 1343, 1369, 1395]"
       ]
      },
      {
       "output_type": "stream",
       "stream": "stdout",
       "text": [
        "\n",
        "[]\n",
        "[836, 837, 838]"
       ]
      },
      {
       "output_type": "stream",
       "stream": "stdout",
       "text": [
        "\n",
        "original article tmp file "
       ]
      },
      {
       "output_type": "stream",
       "stream": "stdout",
       "text": [
        " /tmp/tmpYF0LE7.html\n",
        "/tmp/tmpLIZveB.html\n",
        "/tmp/tmpYF0LE7.html\n",
        "/tmp/tmpYF0LE7.html\n",
        "Now open file:///tmp/tmpLIZveB.html in your web browser\n"
       ]
      },
      {
       "output_type": "stream",
       "stream": "stdout",
       "text": [
        "\n",
        "{'heur': 300, 'boiler_pipe': 8, 'crf': 271, 'downloads_id': 461178557}\n",
        "downloads_id: 461178590\n",
        "[608, 695, 696, 697, 698, 699, 700, 701, 702, 977, 978, 979, 980, 993, 997, 1085, 1138, 1230, 1297, 1299, 1328]"
       ]
      },
      {
       "output_type": "stream",
       "stream": "stdout",
       "text": [
        "\n",
        "[]\n",
        "[607, 608, 609, 693, 695, 696, 697, 698, 699, 700, 701, 702]"
       ]
      },
      {
       "output_type": "stream",
       "stream": "stdout",
       "text": [
        "\n",
        "original article tmp file "
       ]
      },
      {
       "output_type": "stream",
       "stream": "stdout",
       "text": [
        " /tmp/tmpfPRDdr.html\n",
        "/tmp/tmpV4utbj.html\n",
        "/tmp/tmpfPRDdr.html\n",
        "/tmp/tmpfPRDdr.html\n",
        "Now open file:///tmp/tmpV4utbj.html in your web browser\n"
       ]
      },
      {
       "output_type": "stream",
       "stream": "stdout",
       "text": [
        "\n",
        "{'heur': 896, 'boiler_pipe': 1244, 'crf': 3167, 'downloads_id': 461178590}"
       ]
      },
      {
       "output_type": "stream",
       "stream": "stdout",
       "text": [
        "\n",
        "downloads_id: 461179203\n",
        "[761, 767, 990, 1012, 1034, 1826]"
       ]
      },
      {
       "output_type": "stream",
       "stream": "stdout",
       "text": [
        "\n",
        "[]\n",
        "[738, 748, 752, 753, 755, 757, 759, 761, 763, 765, 767, 769, 771, 773, 775, 777, 779]"
       ]
      },
      {
       "output_type": "stream",
       "stream": "stdout",
       "text": [
        "\n",
        "original article tmp file "
       ]
      },
      {
       "output_type": "stream",
       "stream": "stdout",
       "text": [
        " /tmp/tmpkCl54V.html\n",
        "/tmp/tmpGRBS9y.html\n",
        "/tmp/tmpkCl54V.html\n",
        "/tmp/tmpkCl54V.html\n",
        "Now open file:///tmp/tmpGRBS9y.html in your web browser\n"
       ]
      },
      {
       "output_type": "stream",
       "stream": "stdout",
       "text": [
        "\n",
        "{'heur': 3680, 'boiler_pipe': 68, 'crf': 5198, 'downloads_id': 461179203}"
       ]
      },
      {
       "output_type": "stream",
       "stream": "stdout",
       "text": [
        "\n",
        "downloads_id: 461179222\n",
        "[1083, 1210, 1428]"
       ]
      },
      {
       "output_type": "stream",
       "stream": "stdout",
       "text": [
        "\n",
        "[]\n",
        "[1174, 1181, 1189, 1195, 1199, 1203, 1206, 1210, 1214, 1218]"
       ]
      },
      {
       "output_type": "stream",
       "stream": "stdout",
       "text": [
        "\n",
        "original article tmp file "
       ]
      },
      {
       "output_type": "stream",
       "stream": "stdout",
       "text": [
        " /tmp/tmpA2y0l5.html\n",
        "/tmp/tmpjcCr8R.html\n",
        "/tmp/tmpA2y0l5.html\n",
        "/tmp/tmpA2y0l5.html\n",
        "Now open file:///tmp/tmpjcCr8R.html in your web browser\n"
       ]
      },
      {
       "output_type": "stream",
       "stream": "stdout",
       "text": [
        "\n",
        "{'heur': 1112, 'boiler_pipe': 63, 'crf': 1552, 'downloads_id': 461179222}\n",
        "downloads_id: 461179441\n",
        "[787, 790, 793, 800, 804, 808, 812, 816, 820, 1666, 1708, 1712]"
       ]
      },
      {
       "output_type": "stream",
       "stream": "stdout",
       "text": [
        "\n",
        "[]\n",
        "[709, 716, 721, 787, 790, 793, 796, 799, 800, 803, 804, 807, 808, 811, 812, 815, 816, 819, 820]"
       ]
      },
      {
       "output_type": "stream",
       "stream": "stdout",
       "text": [
        "\n",
        "original article tmp file "
       ]
      },
      {
       "output_type": "stream",
       "stream": "stdout",
       "text": [
        " /tmp/tmpblFaUZ.html\n",
        "/tmp/tmpBlHzZR.html\n",
        "/tmp/tmpblFaUZ.html\n",
        "/tmp/tmpblFaUZ.html\n",
        "Now open file:///tmp/tmpBlHzZR.html in your web browser\n"
       ]
      },
      {
       "output_type": "stream",
       "stream": "stdout",
       "text": [
        "\n",
        "{'heur': 528, 'boiler_pipe': 319, 'crf': 2481, 'downloads_id': 461179441}\n",
        "downloads_id: 461179762\n",
        "[153, 154, 155, 157, 160, 161, 162, 163, 166, 167, 168, 169, 170, 171, 172, 239, 256]"
       ]
      },
      {
       "output_type": "stream",
       "stream": "stdout",
       "text": [
        "\n",
        "[142, 144, 149, 151, 153, 154, 155, 157, 158, 160, 161, 162, 163, 164, 166, 167, 168, 169, 170, 171, 172, 225]\n",
        "[142, 144, 149, 151, 153, 154, 155, 157, 160, 161, 162, 163, 164, 166, 167, 168, 169, 170, 171, 172]"
       ]
      },
      {
       "output_type": "stream",
       "stream": "stdout",
       "text": [
        "\n",
        "original article tmp file "
       ]
      },
      {
       "output_type": "stream",
       "stream": "stdout",
       "text": [
        " /tmp/tmpfsNwmD.html\n",
        "/tmp/tmpnIkWUn.html\n",
        "/tmp/tmpfsNwmD.html\n",
        "/tmp/tmpfsNwmD.html\n",
        "Now open file:///tmp/tmpnIkWUn.html in your web browser\n"
       ]
      },
      {
       "output_type": "stream",
       "stream": "stdout",
       "text": [
        "\n",
        "{'heur': 5640, 'boiler_pipe': 110, 'crf': 159, 'downloads_id': 461179762}"
       ]
      },
      {
       "output_type": "stream",
       "stream": "stdout",
       "text": [
        "\n",
        "downloads_id: 461179818\n",
        "[246, 264, 266, 267, 268, 269, 270, 271, 272, 273, 274, 275, 276, 277, 278, 279, 280, 281, 282, 283, 284, 285, 286, 287, 288, 289, 290, 291, 292, 293, 294, 295, 296, 297, 298, 299, 300, 301, 302, 303, 304, 305, 306, 307, 308, 309, 310, 311, 312, 313, 314, 315, 316, 317, 318, 319, 320, 321, 322, 323, 324, 325, 326, 328, 329, 330, 331, 332, 333, 334, 335, 336, 337, 338, 339, 340, 342, 343, 344, 345, 346]"
       ]
      },
      {
       "output_type": "stream",
       "stream": "stdout",
       "text": [
        "\n",
        "[246, 264, 265, 266, 267, 268, 269, 270, 271, 272, 273, 274, 275, 276, 277, 278, 279, 280, 281, 282, 283, 284, 285, 286, 287, 288, 289, 290, 291, 292, 293, 294, 295, 296, 297, 298, 299, 300, 301, 302, 303, 304, 305, 306, 307, 308, 309, 310, 311, 312, 313, 314, 315, 316, 317, 318, 319, 320, 321, 322, 323, 324, 325, 326, 327, 328, 329, 330, 331, 332, 333, 334, 335, 336, 337, 338, 339, 340, 341, 342, 343, 344, 345, 346]\n",
        "[246, 264, 265, 266, 267, 268, 269, 270, 271, 272, 273, 274, 275, 276, 277, 278, 279, 280, 281, 282, 283, 284, 285, 286, 287, 288, 289, 290, 291, 292, 293, 294, 295, 296, 297, 298, 299, 300, 301, 302, 303, 304, 305, 306, 307, 308, 309, 310, 311, 312, 313, 314, 315, 316, 317, 318, 319, 320, 321, 322, 323, 324, 325, 326, 327, 328, 329, 330, 331, 332, 333, 334, 335, 336, 337, 338, 339, 340, 341, 342, 343, 344, 345, 346]"
       ]
      },
      {
       "output_type": "stream",
       "stream": "stdout",
       "text": [
        "\n",
        "original article tmp file "
       ]
      },
      {
       "output_type": "stream",
       "stream": "stdout",
       "text": [
        " /tmp/tmpHux9kZ.html\n",
        "/tmp/tmpN5ODWa.html\n",
        "/tmp/tmpHux9kZ.html\n",
        "/tmp/tmpHux9kZ.html\n",
        "Now open file:///tmp/tmpN5ODWa.html in your web browser\n"
       ]
      },
      {
       "output_type": "stream",
       "stream": "stdout",
       "text": [
        "\n",
        "{'heur': 107, 'boiler_pipe': 135, 'crf': 0, 'downloads_id': 461179818}"
       ]
      },
      {
       "output_type": "stream",
       "stream": "stdout",
       "text": [
        "\n",
        "downloads_id: 461179954\n",
        "[190, 191, 192, 193, 194, 195, 196, 197]"
       ]
      },
      {
       "output_type": "stream",
       "stream": "stdout",
       "text": [
        "\n",
        "[190, 191, 192, 193, 194, 195, 196, 197, 953, 954, 955, 956, 957, 958, 959, 960, 961, 962, 1157, 1158, 1159, 1160, 1161, 1162, 1163, 1172, 1174, 1175, 1176, 1177, 1178, 1179, 1180, 1189, 1191, 1192, 1193, 1194, 1195, 1306, 1307, 1308, 1309, 1310, 1311, 1312, 1313, 1314, 1315, 2402, 2403, 2404, 2405, 2406, 2407, 2408, 2409, 2410, 2411, 2412, 2769, 2770, 2771, 2772, 2773, 2774, 2775, 2776, 2777, 2778, 2779, 2780, 2781, 2782, 2783, 2784, 2785, 3503, 3504, 3505, 3506, 3507, 3508, 3509, 3510, 3569, 3570, 3571, 3572, 3573]\n",
        "[181, 182, 190, 191, 192, 193, 194, 195, 196, 197]"
       ]
      },
      {
       "output_type": "stream",
       "stream": "stdout",
       "text": [
        "\n",
        "original article tmp file "
       ]
      },
      {
       "output_type": "stream",
       "stream": "stdout",
       "text": [
        " /tmp/tmpdqDoXI.html\n",
        "/tmp/tmpLUk5TS.html\n",
        "/tmp/tmpdqDoXI.html\n",
        "/tmp/tmpdqDoXI.html\n",
        "Now open file:///tmp/tmpLUk5TS.html in your web browser\n"
       ]
      },
      {
       "output_type": "stream",
       "stream": "stdout",
       "text": [
        "\n",
        "{'heur': 83, 'boiler_pipe': 173783, 'crf': 21819, 'downloads_id': 461179954}"
       ]
      },
      {
       "output_type": "stream",
       "stream": "stdout",
       "text": [
        "\n",
        "downloads_id: 461179956\n",
        "[575, 578, 584, 587, 590, 593, 596, 599, 602, 605, 608, 611, 614, 617, 620, 626, 629, 632, 635, 638, 641, 1172, 1368, 1372]"
       ]
      },
      {
       "output_type": "stream",
       "stream": "stdout",
       "text": [
        "\n",
        "[]\n",
        "[573, 575, 578, 580, 584, 587, 590, 593, 596, 599, 602, 605, 608, 611, 614, 617, 620, 623, 626, 629, 632, 635, 638, 641]\n",
        "original article tmp file "
       ]
      },
      {
       "output_type": "stream",
       "stream": "stdout",
       "text": [
        " /tmp/tmpeJrX1a.html\n",
        "/tmp/tmpG46NZQ.html\n",
        "/tmp/tmpeJrX1a.html\n",
        "/tmp/tmpeJrX1a.html\n",
        "Now open file:///tmp/tmpG46NZQ.html in your web browser\n"
       ]
      },
      {
       "output_type": "stream",
       "stream": "stdout",
       "text": [
        "\n",
        "{'heur': 257, 'boiler_pipe': 240, 'crf': 3412, 'downloads_id': 461179956}"
       ]
      },
      {
       "output_type": "stream",
       "stream": "stdout",
       "text": [
        "\n",
        "downloads_id: 461180307\n",
        "[173, 174, 176, 177, 178, 180, 181, 182]"
       ]
      },
      {
       "output_type": "stream",
       "stream": "stdout",
       "text": [
        "\n",
        "[]\n",
        "[172, 173, 174, 175, 176, 177, 178, 179, 180, 181, 182]"
       ]
      },
      {
       "output_type": "stream",
       "stream": "stdout",
       "text": [
        "\n",
        "original article tmp file "
       ]
      },
      {
       "output_type": "stream",
       "stream": "stdout",
       "text": [
        " /tmp/tmpUqTLG6.html\n",
        "/tmp/tmpK5nGoK.html\n",
        "/tmp/tmpUqTLG6.html\n",
        "/tmp/tmpUqTLG6.html\n",
        "Now open file:///tmp/tmpK5nGoK.html in your web browser\n"
       ]
      },
      {
       "output_type": "stream",
       "stream": "stdout",
       "text": [
        "\n",
        "{'heur': 793, 'boiler_pipe': 116, 'crf': 3594, 'downloads_id': 461180307}\n",
        "downloads_id: 461181039\n",
        "[135, 136, 149, 150, 151, 152, 153, 157, 158, 159, 160, 161, 162, 163, 164, 167, 169, 170]"
       ]
      },
      {
       "output_type": "stream",
       "stream": "stdout",
       "text": [
        "\n",
        "[122]\n",
        "[122, 124, 133, 134, 135, 136, 149, 150, 151, 152, 153, 154, 155, 156, 157, 158, 159, 160, 161, 162, 163, 164, 165, 166, 167, 168, 169, 170]"
       ]
      },
      {
       "output_type": "stream",
       "stream": "stdout",
       "text": [
        "\n",
        "original article tmp file "
       ]
      },
      {
       "output_type": "stream",
       "stream": "stdout",
       "text": [
        " /tmp/tmpMN3phA.html\n",
        "/tmp/tmpaWDrg2.html\n",
        "/tmp/tmpMN3phA.html\n",
        "/tmp/tmpMN3phA.html\n",
        "Now open file:///tmp/tmpaWDrg2.html in your web browser\n"
       ]
      },
      {
       "output_type": "stream",
       "stream": "stdout",
       "text": [
        "\n",
        "Unexpected error on string '\t' <class 'lxml.etree.ParserError'>\n",
        "Unexpected error on string '\t' <class 'lxml.etree.ParserError'>\n",
        "Unexpected error on string '\t' <class 'lxml.etree.ParserError'>\n",
        "Unexpected error on string '\t' <class 'lxml.etree.ParserError'>\n",
        "Unexpected error on string '\t' <class 'lxml.etree.ParserError'>\n",
        "Unexpected error on string '\t' <class 'lxml.etree.ParserError'>\n",
        "Unexpected error on string '\t' <class 'lxml.etree.ParserError'>\n",
        "Unexpected error on string '\t' <class 'lxml.etree.ParserError'>\n",
        "Unexpected error on string '\t' <class 'lxml.etree.ParserError'>\n",
        "Unexpected error on string '<' <class 'lxml.etree.ParserError'>\n",
        "Unexpected error on string ' ' <class 'lxml.etree.ParserError'>\n",
        "Unexpected error on string ' ' <class 'lxml.etree.ParserError'>\n",
        "Unexpected error on string ' ' <class 'lxml.etree.ParserError'>\n",
        "Unexpected error on string ' ' <class 'lxml.etree.ParserError'>\n",
        "Unexpected error on string ' ' <class 'lxml.etree.ParserError'>\n",
        "Unexpected error on string ' ' <class 'lxml.etree.ParserError'>\n",
        "Unexpected error on string '<' <class 'lxml.etree.ParserError'>\n",
        "{'heur': 598, 'boiler_pipe': 177, 'crf': 3243, 'downloads_id': 461181039}"
       ]
      },
      {
       "output_type": "stream",
       "stream": "stdout",
       "text": [
        "\n",
        "downloads_id: 461181597\n",
        "[302, 303, 304, 305, 306, 307, 308]"
       ]
      },
      {
       "output_type": "stream",
       "stream": "stdout",
       "text": [
        "\n",
        "[]\n",
        "[245, 300, 301, 302, 303, 304, 305, 306, 307, 308]"
       ]
      },
      {
       "output_type": "stream",
       "stream": "stdout",
       "text": [
        "\n",
        "original article tmp file "
       ]
      },
      {
       "output_type": "stream",
       "stream": "stdout",
       "text": [
        " /tmp/tmpXiGBBu.html\n",
        "/tmp/tmp_FTixV.html\n",
        "/tmp/tmpXiGBBu.html\n",
        "/tmp/tmpXiGBBu.html\n",
        "Now open file:///tmp/tmp_FTixV.html in your web browser\n"
       ]
      },
      {
       "output_type": "stream",
       "stream": "stdout",
       "text": [
        "\n",
        "{'heur': 51, 'boiler_pipe': 14, 'crf': 721, 'downloads_id': 461181597}\n",
        "downloads_id: 461186137\n",
        "[293, 295, 297, 299, 301, 306, 308, 310, 312, 314, 316, 318, 323, 325, 327, 329, 396]"
       ]
      },
      {
       "output_type": "stream",
       "stream": "stdout",
       "text": [
        "\n",
        "[291, 293, 295, 297, 299, 301, 304, 306, 308, 310, 312, 314, 316, 318, 321, 323, 325, 327, 329]\n",
        "[268, 269, 272, 291, 293, 295, 297, 299, 301, 304, 306, 308, 310, 312, 314, 316, 318, 321, 323, 325, 327, 329]"
       ]
      },
      {
       "output_type": "stream",
       "stream": "stdout",
       "text": [
        "\n",
        "original article tmp file "
       ]
      },
      {
       "output_type": "stream",
       "stream": "stdout",
       "text": [
        " /tmp/tmpL6GlDT.html\n",
        "/tmp/tmp23lD2D.html\n",
        "/tmp/tmpL6GlDT.html\n",
        "/tmp/tmpL6GlDT.html\n",
        "Now open file:///tmp/tmp23lD2D.html in your web browser\n"
       ]
      },
      {
       "output_type": "stream",
       "stream": "stdout",
       "text": [
        "\n",
        "{'heur': 658, 'boiler_pipe': 384, 'crf': 167, 'downloads_id': 461186137}"
       ]
      },
      {
       "output_type": "stream",
       "stream": "stdout",
       "text": [
        "\n",
        "downloads_id: 461186258\n",
        "[246, 263, 264, 265, 266, 267, 268, 269, 272, 273, 274, 275, 276, 277, 278, 279, 280, 281, 282, 283, 284, 285, 286, 287, 288, 289, 292, 293, 294, 295, 297, 298, 299, 300, 302, 303, 304, 305, 306, 307, 308, 309, 310, 312, 313, 314, 315, 316, 318, 319, 320, 321, 322, 323, 324, 325, 326, 327, 329, 330, 331, 332, 333, 334, 335, 336, 337, 338, 339, 343, 348, 350, 352, 356, 358, 362, 364, 366, 370, 372, 374, 376, 378, 380, 382, 384]"
       ]
      },
      {
       "output_type": "stream",
       "stream": "stdout",
       "text": [
        "\n",
        "[246, 254, 255, 256, 257, 258, 259, 260, 261, 262, 263, 264, 265, 266, 267, 268, 269, 270, 271, 272, 273, 274, 275, 276, 277, 278, 279, 280, 281, 282, 283, 284, 285, 286, 287, 288, 289, 290, 291, 292, 293, 294, 295, 296, 297, 298, 299, 300, 301, 302, 303, 304, 305, 306, 307, 308, 309, 310, 311, 312, 313, 314, 315, 316, 317, 318, 319, 320, 321, 322, 323, 324, 325, 326, 327, 328, 329, 330, 331, 332, 333, 334, 335, 336, 337, 338, 339, 340, 341, 342, 343, 344, 345, 346, 347, 348, 349, 350, 351, 352, 353, 354, 355, 356, 357, 358, 359, 360, 361, 362, 363, 364, 365, 366, 367, 368, 369, 370, 371, 372]\n",
        "[246, 256, 257, 259, 260, 261, 262, 263, 264, 265, 266, 267, 268, 269, 270, 271, 272, 273, 274, 275, 276, 277, 278, 279, 280, 281, 282, 283, 284, 285, 286, 287, 288, 289, 290, 291, 292, 293, 294, 295, 296, 297, 298, 299, 300, 301, 302, 303, 304, 305, 306, 307, 308, 309, 310, 311, 312, 313, 314, 315, 316, 317, 318, 319, 320, 321, 322, 323, 324, 325, 326, 327, 328, 329, 330, 331, 332, 333, 334, 335, 336, 337, 338, 339, 340, 341, 342, 343, 344, 345, 346, 347, 348, 349, 350, 351, 352, 353, 354, 355, 356, 357, 358, 359, 360, 361, 362, 363, 364, 365, 366, 367, 368, 369, 370, 371, 372, 373, 374, 375, 376, 377, 378, 379, 380, 381, 382, 383, 384]"
       ]
      },
      {
       "output_type": "stream",
       "stream": "stdout",
       "text": [
        "\n",
        "original article tmp file "
       ]
      },
      {
       "output_type": "stream",
       "stream": "stdout",
       "text": [
        " /tmp/tmpUkme8D.html\n",
        "/tmp/tmppijJdA.html\n",
        "/tmp/tmpUkme8D.html\n",
        "/tmp/tmpUkme8D.html\n",
        "Now open file:///tmp/tmppijJdA.html in your web browser\n"
       ]
      },
      {
       "output_type": "stream",
       "stream": "stdout",
       "text": [
        "\n",
        "{'heur': 3010, 'boiler_pipe': 573, 'crf': 2570, 'downloads_id': 461186258}"
       ]
      },
      {
       "output_type": "stream",
       "stream": "stdout",
       "text": [
        "\n",
        "downloads_id: 461186833\n",
        "[104, 122, 140, 183, 254, 255, 267, 273, 274, 375, 382]"
       ]
      },
      {
       "output_type": "stream",
       "stream": "stdout",
       "text": [
        "\n",
        "[269, 273, 274, 382]\n",
        "[248, 249, 254, 255, 267, 273, 274]"
       ]
      },
      {
       "output_type": "stream",
       "stream": "stdout",
       "text": [
        "\n",
        "original article tmp file "
       ]
      },
      {
       "output_type": "stream",
       "stream": "stdout",
       "text": [
        " /tmp/tmpwIe1UA.html\n",
        "/tmp/tmprLW_zS.html\n",
        "/tmp/tmpwIe1UA.html\n",
        "/tmp/tmpwIe1UA.html\n",
        "Now open file:///tmp/tmprLW_zS.html in your web browser\n"
       ]
      },
      {
       "output_type": "stream",
       "stream": "stdout",
       "text": [
        "\n",
        "{'heur': 190, 'boiler_pipe': 210, 'crf': 510, 'downloads_id': 461186833}"
       ]
      },
      {
       "output_type": "stream",
       "stream": "stdout",
       "text": [
        "\n",
        "downloads_id: 461187188\n",
        "[783, 786, 789, 802, 805, 808, 811, 814, 823, 826, 829, 832, 835, 838, 841, 844, 850, 856, 859, 1702, 1744, 1748]"
       ]
      },
      {
       "output_type": "stream",
       "stream": "stdout",
       "text": [
        "\n",
        "[]\n",
        "[704, 711, 712, 717, 783, 786, 789, 802, 805, 808, 811, 814, 820, 823, 826, 829, 832, 835, 838, 841, 844, 850, 853, 856, 859]\n",
        "original article tmp file "
       ]
      },
      {
       "output_type": "stream",
       "stream": "stdout",
       "text": [
        " /tmp/tmpS7N1r9.html\n",
        "/tmp/tmp6oIXho.html\n",
        "/tmp/tmpS7N1r9.html\n",
        "/tmp/tmpS7N1r9.html\n",
        "Now open file:///tmp/tmp6oIXho.html in your web browser\n"
       ]
      },
      {
       "output_type": "stream",
       "stream": "stdout",
       "text": [
        "\n",
        "{'heur': 282, 'boiler_pipe': 265, 'crf': 3080, 'downloads_id': 461187188}"
       ]
      },
      {
       "output_type": "stream",
       "stream": "stdout",
       "text": [
        "\n",
        "downloads_id: 461187261\n",
        "[154, 172, 173, 191, 209, 210, 211, 342]"
       ]
      },
      {
       "output_type": "stream",
       "stream": "stdout",
       "text": [
        "\n",
        "[154]\n",
        "[154, 155, 171, 172, 173, 191, 209, 210, 211]"
       ]
      },
      {
       "output_type": "stream",
       "stream": "stdout",
       "text": [
        "\n",
        "original article tmp file "
       ]
      },
      {
       "output_type": "stream",
       "stream": "stdout",
       "text": [
        " /tmp/tmptH3chS.html\n",
        "/tmp/tmpCromFo.html\n",
        "/tmp/tmptH3chS.html\n",
        "/tmp/tmptH3chS.html\n",
        "Now open file:///tmp/tmpCromFo.html in your web browser\n"
       ]
      },
      {
       "output_type": "stream",
       "stream": "stdout",
       "text": [
        "\n",
        "Unexpected error on string '<' <class 'lxml.etree.ParserError'>\n",
        "Unexpected error on string ' ' <class 'lxml.etree.ParserError'>\n",
        "Unexpected error on string ' ' <class 'lxml.etree.ParserError'>\n",
        "Unexpected error on string ' ' <class 'lxml.etree.ParserError'>\n",
        "Unexpected error on string ' ' <class 'lxml.etree.ParserError'>\n",
        "Unexpected error on string ' ' <class 'lxml.etree.ParserError'>\n",
        "Unexpected error on string ' ' <class 'lxml.etree.ParserError'>\n",
        "Unexpected error on string ' ' <class 'lxml.etree.ParserError'>\n",
        "Unexpected error on string ' ' <class 'lxml.etree.ParserError'>\n",
        "Unexpected error on string ' ' <class 'lxml.etree.ParserError'>\n",
        "Unexpected error on string ' ' <class 'lxml.etree.ParserError'>\n",
        "Unexpected error on string ' ' <class 'lxml.etree.ParserError'>\n",
        "Unexpected error on string ' ' <class 'lxml.etree.ParserError'>\n",
        "Unexpected error on string ' ' <class 'lxml.etree.ParserError'>\n",
        "Unexpected error on string ' ' <class 'lxml.etree.ParserError'>\n",
        "Unexpected error on string ' ' <class 'lxml.etree.ParserError'>\n",
        "Unexpected error on string ' ' <class 'lxml.etree.ParserError'>\n",
        "Unexpected error on string ' ' <class 'lxml.etree.ParserError'>\n",
        "Unexpected error on string '<' <class 'lxml.etree.ParserError'>\n",
        "{'heur': 91, 'boiler_pipe': 993, 'crf': 2333, 'downloads_id': 461187261}\n",
        "downloads_id: 461187577\n",
        "[270, 272, 273, 275, 276, 277, 278, 279, 280, 281, 282, 283, 285, 286, 287, 288, 343, 420, 425, 430]"
       ]
      },
      {
       "output_type": "stream",
       "stream": "stdout",
       "text": [
        "\n",
        "[259]\n",
        "[256, 259, 270, 272, 273, 275, 276, 277, 278, 279, 280, 281, 282, 283, 285, 286, 287, 288]"
       ]
      },
      {
       "output_type": "stream",
       "stream": "stdout",
       "text": [
        "\n",
        "original article tmp file "
       ]
      },
      {
       "output_type": "stream",
       "stream": "stdout",
       "text": [
        " /tmp/tmpQOPoF_.html\n",
        "/tmp/tmppbQxbR.html\n",
        "/tmp/tmpQOPoF_.html\n",
        "/tmp/tmpQOPoF_.html\n",
        "Now open file:///tmp/tmppbQxbR.html in your web browser\n"
       ]
      },
      {
       "output_type": "stream",
       "stream": "stdout",
       "text": [
        "\n",
        "Unexpected error on string '\t'"
       ]
      },
      {
       "output_type": "stream",
       "stream": "stdout",
       "text": [
        " <class 'lxml.etree.ParserError'>\n",
        "Unexpected error on string '\t' <class 'lxml.etree.ParserError'>\n",
        "Unexpected error on string '\t' <class 'lxml.etree.ParserError'>\n",
        "Unexpected error on string '\t' <class 'lxml.etree.ParserError'>\n",
        "Unexpected error on string '\t' <class 'lxml.etree.ParserError'>\n",
        "Unexpected error on string '\t' <class 'lxml.etree.ParserError'>\n",
        "Unexpected error on string '\t' <class 'lxml.etree.ParserError'>\n",
        "Unexpected error on string '<' <class 'lxml.etree.ParserError'>\n",
        "Unexpected error on string '<' <class 'lxml.etree.ParserError'>\n",
        "Unexpected error on string ' ' <class 'lxml.etree.ParserError'>\n",
        "Unexpected error on string ' ' <class 'lxml.etree.ParserError'>\n",
        "Unexpected error on string ' ' <class 'lxml.etree.ParserError'>\n",
        "Unexpected error on string ' ' <class 'lxml.etree.ParserError'>\n",
        "Unexpected error on string ' ' <class 'lxml.etree.ParserError'>\n",
        "Unexpected error on string ' ' <class 'lxml.etree.ParserError'>\n",
        "Unexpected error on string ' ' <class 'lxml.etree.ParserError'>\n",
        "Unexpected error on string ' ' <class 'lxml.etree.ParserError'>\n",
        "Unexpected error on string ' ' <class 'lxml.etree.ParserError'>\n",
        "Unexpected error on string ' ' <class 'lxml.etree.ParserError'>\n",
        "Unexpected error on string ' ' <class 'lxml.etree.ParserError'>\n",
        "Unexpected error on string ' ' <class 'lxml.etree.ParserError'>\n",
        "Unexpected error on string '<' <class 'lxml.etree.ParserError'>\n",
        "Unexpected error on string '<' <class 'lxml.etree.ParserError'>\n",
        "{'heur': 308, 'boiler_pipe': 82, 'crf': 5435, 'downloads_id': 461187577}"
       ]
      },
      {
       "output_type": "stream",
       "stream": "stdout",
       "text": [
        "\n",
        "downloads_id: 461188549\n",
        "[1083, 1210, 1428]"
       ]
      },
      {
       "output_type": "stream",
       "stream": "stdout",
       "text": [
        "\n",
        "[]\n",
        "[1174, 1181, 1189, 1195, 1199, 1203, 1206, 1210, 1214, 1218]"
       ]
      },
      {
       "output_type": "stream",
       "stream": "stdout",
       "text": [
        "\n",
        "original article tmp file "
       ]
      },
      {
       "output_type": "stream",
       "stream": "stdout",
       "text": [
        " /tmp/tmpmFn4c5.html\n",
        "/tmp/tmpue923i.html\n",
        "/tmp/tmpmFn4c5.html\n",
        "/tmp/tmpmFn4c5.html\n",
        "Now open file:///tmp/tmpue923i.html in your web browser\n"
       ]
      },
      {
       "output_type": "stream",
       "stream": "stdout",
       "text": [
        "\n",
        "{'heur': 1112, 'boiler_pipe': 63, 'crf': 1552, 'downloads_id': 461188549}\n",
        "downloads_id: 461189069\n",
        "[254, 293, 295, 307, 309, 609]"
       ]
      },
      {
       "output_type": "stream",
       "stream": "stdout",
       "text": [
        "\n",
        "[253]\n",
        "[253, 289, 291, 293, 295, 297, 299, 301, 303, 305, 307, 309]\n",
        "original article tmp file "
       ]
      },
      {
       "output_type": "stream",
       "stream": "stdout",
       "text": [
        " /tmp/tmpQSVxaG.html\n",
        "/tmp/tmpCpt3uK.html\n",
        "/tmp/tmpQSVxaG.html\n",
        "/tmp/tmpQSVxaG.html\n",
        "Now open file:///tmp/tmpCpt3uK.html in your web browser\n"
       ]
      },
      {
       "output_type": "stream",
       "stream": "stdout",
       "text": [
        "\n",
        "Unexpected error on string ' ' <class 'lxml.etree.ParserError'>\n",
        "Unexpected error on string ' ' <class 'lxml.etree.ParserError'>\n",
        "Unexpected error on string ' ' <class 'lxml.etree.ParserError'>\n",
        "Unexpected error on string ' ' <class 'lxml.etree.ParserError'>\n",
        "Unexpected error on string ' ' <class 'lxml.etree.ParserError'>\n",
        "Unexpected error on string ' ' <class 'lxml.etree.ParserError'>\n",
        "Unexpected error on string ' ' <class 'lxml.etree.ParserError'>\n",
        "Unexpected error on string ' ' <class 'lxml.etree.ParserError'>\n",
        "Unexpected error on string '<' <class 'lxml.etree.ParserError'>\n",
        "Unexpected error on string ' ' <class 'lxml.etree.ParserError'>\n",
        "Unexpected error on string ' ' <class 'lxml.etree.ParserError'>\n",
        "Unexpected error on string ' ' <class 'lxml.etree.ParserError'>\n",
        "Unexpected error on string ' ' <class 'lxml.etree.ParserError'>\n",
        "Unexpected error on string ' ' <class 'lxml.etree.ParserError'>\n",
        "Unexpected error on string ' ' <class 'lxml.etree.ParserError'>\n",
        "Unexpected error on string ' ' <class 'lxml.etree.ParserError'>\n",
        "Unexpected error on string '<' <class 'lxml.etree.ParserError'>\n",
        "{'heur': 965, 'boiler_pipe': 683, 'crf': 2358, 'downloads_id': 461189069}"
       ]
      },
      {
       "output_type": "stream",
       "stream": "stdout",
       "text": [
        "\n",
        "downloads_id: 461190586\n",
        "[174, 180, 184, 190, 194, 195, 196, 205, 207, 212, 213, 216, 218, 222, 224, 226, 228, 230, 232, 236, 239, 241, 243, 245, 247, 249, 253]"
       ]
      },
      {
       "output_type": "stream",
       "stream": "stdout",
       "text": [
        "\n",
        "[164, 167, 168, 170, 174, 176, 180, 184, 188, 190, 194, 195, 196, 201, 203, 205, 207, 209, 212, 213, 216, 218, 220, 222, 224, 226, 228, 230, 232, 236, 239, 241, 243, 245, 247, 249, 253, 258]\n",
        "[164, 167, 168, 170, 174, 176, 180, 184, 188, 190, 194, 195, 196, 201, 203, 205, 207, 209, 212, 213, 216, 218, 220, 222, 224, 226, 228, 230, 232, 236, 239, 241, 243, 245, 247, 249, 253, 258]"
       ]
      },
      {
       "output_type": "stream",
       "stream": "stdout",
       "text": [
        "\n",
        "original article tmp file "
       ]
      },
      {
       "output_type": "stream",
       "stream": "stdout",
       "text": [
        " /tmp/tmpD6OpKc.html\n",
        "/tmp/tmpLgREpK.html\n",
        "/tmp/tmpD6OpKc.html\n",
        "/tmp/tmpD6OpKc.html\n",
        "Now open file:///tmp/tmpLgREpK.html in your web browser\n"
       ]
      },
      {
       "output_type": "stream",
       "stream": "stdout",
       "text": [
        "\n",
        "{'heur': 2601, 'boiler_pipe': 1306, 'crf': 0, 'downloads_id': 461190586}"
       ]
      },
      {
       "output_type": "stream",
       "stream": "stdout",
       "text": [
        "\n",
        "downloads_id: 461193383\n",
        "[96, 106, 108, 109, 111, 112, 114, 116, 117, 118, 119, 120, 121, 158, 190]"
       ]
      },
      {
       "output_type": "stream",
       "stream": "stdout",
       "text": [
        "\n",
        "[96]\n",
        "[80, 93, 96, 106, 108, 109, 111, 112, 114, 116, 117, 118, 119, 120, 121]"
       ]
      },
      {
       "output_type": "stream",
       "stream": "stdout",
       "text": [
        "\n",
        "original article tmp file "
       ]
      },
      {
       "output_type": "stream",
       "stream": "stdout",
       "text": [
        " /tmp/tmpmnoElW.html\n",
        "/tmp/tmpDFXdlf.html\n",
        "/tmp/tmpmnoElW.html\n",
        "/tmp/tmpmnoElW.html\n",
        "Now open file:///tmp/tmpDFXdlf.html in your web browser\n"
       ]
      },
      {
       "output_type": "stream",
       "stream": "stdout",
       "text": [
        "\n",
        "Unexpected error on string '\t' <class 'lxml.etree.ParserError'>\n",
        "Unexpected error on string '\t' <class 'lxml.etree.ParserError'>\n",
        "Unexpected error on string '\t' <class 'lxml.etree.ParserError'>\n",
        "Unexpected error on string '<' <class 'lxml.etree.ParserError'>\n",
        "Unexpected error on string '<' <class 'lxml.etree.ParserError'>\n",
        "Unexpected error on string ' ' <class 'lxml.etree.ParserError'>\n",
        "Unexpected error on string ' ' <class 'lxml.etree.ParserError'>\n",
        "Unexpected error on string ' ' <class 'lxml.etree.ParserError'>\n",
        "Unexpected error on string ' ' <class 'lxml.etree.ParserError'>\n",
        "Unexpected error on string ' ' <class 'lxml.etree.ParserError'>\n",
        "Unexpected error on string ' ' <class 'lxml.etree.ParserError'>\n",
        "Unexpected error on string ' ' <class 'lxml.etree.ParserError'>\n",
        "Unexpected error on string ' ' <class 'lxml.etree.ParserError'>\n",
        "Unexpected error on string ' ' <class 'lxml.etree.ParserError'>\n",
        "Unexpected error on string ' ' <class 'lxml.etree.ParserError'>\n",
        "Unexpected error on string ' ' <class 'lxml.etree.ParserError'>\n",
        "Unexpected error on string ' ' <class 'lxml.etree.ParserError'>\n",
        "Unexpected error on string ' ' <class 'lxml.etree.ParserError'>\n",
        "Unexpected error on string ' ' <class 'lxml.etree.ParserError'>\n",
        "Unexpected error on string ' ' <class 'lxml.etree.ParserError'>\n",
        "Unexpected error on string ' ' <class 'lxml.etree.ParserError'>\n",
        "Unexpected error on string ' ' <class 'lxml.etree.ParserError'>\n",
        "Unexpected error on string ' ' <class 'lxml.etree.ParserError'>\n",
        "Unexpected error on string ' ' <class 'lxml.etree.ParserError'>\n",
        "Unexpected error on string ' ' <class 'lxml.etree.ParserError'>\n",
        "Unexpected error on string '<' <class 'lxml.etree.ParserError'>\n",
        "Unexpected error on string '<' <class 'lxml.etree.ParserError'>\n",
        "{'heur': 477, 'boiler_pipe': 56, 'crf': 1368, 'downloads_id': 461193383}"
       ]
      },
      {
       "output_type": "stream",
       "stream": "stdout",
       "text": [
        "\n"
       ]
      },
      {
       "metadata": {},
       "output_type": "pyout",
       "prompt_number": 18,
       "text": [
        "[{'boiler_pipe': 183, 'crf': 1014, 'downloads_id': 391881020, 'heur': 309},\n",
        " {'boiler_pipe': 2, 'crf': 30, 'downloads_id': 401370599, 'heur': 540},\n",
        " {'boiler_pipe': 329, 'crf': 3259, 'downloads_id': 412896439, 'heur': 183},\n",
        " {'boiler_pipe': 6041, 'crf': 37, 'downloads_id': 412952145, 'heur': 9280},\n",
        " {'boiler_pipe': 33, 'crf': 595, 'downloads_id': 412977048, 'heur': 38},\n",
        " {'boiler_pipe': 876, 'crf': 1282, 'downloads_id': 413024519, 'heur': 733},\n",
        " {'boiler_pipe': 280, 'crf': 1978, 'downloads_id': 413657081, 'heur': 597},\n",
        " {'boiler_pipe': 235, 'crf': 119, 'downloads_id': 413835576, 'heur': 959},\n",
        " {'boiler_pipe': 86, 'crf': 760, 'downloads_id': 414040102, 'heur': 1090},\n",
        " {'boiler_pipe': 78, 'crf': 76, 'downloads_id': 414257623, 'heur': 2178},\n",
        " {'boiler_pipe': 251, 'crf': 9533, 'downloads_id': 414377428, 'heur': 1678},\n",
        " {'boiler_pipe': 533, 'crf': 3472, 'downloads_id': 414480464, 'heur': 1014},\n",
        " {'boiler_pipe': 429, 'crf': 4262, 'downloads_id': 414818749, 'heur': 309},\n",
        " {'boiler_pipe': 192, 'crf': 162, 'downloads_id': 414983458, 'heur': 979},\n",
        " {'boiler_pipe': 78, 'crf': 140, 'downloads_id': 415185946, 'heur': 2133},\n",
        " {'boiler_pipe': 183, 'crf': 305, 'downloads_id': 415186582, 'heur': 86},\n",
        " {'boiler_pipe': 169, 'crf': 63, 'downloads_id': 415197547, 'heur': 83},\n",
        " {'boiler_pipe': 32, 'crf': 39, 'downloads_id': 415424551, 'heur': 187},\n",
        " {'boiler_pipe': 236, 'crf': 154, 'downloads_id': 415978069, 'heur': 3664},\n",
        " {'boiler_pipe': 36, 'crf': 749, 'downloads_id': 416026460, 'heur': 38},\n",
        " {'boiler_pipe': 124, 'crf': 16, 'downloads_id': 416026587, 'heur': 237},\n",
        " {'boiler_pipe': 1440, 'crf': 27, 'downloads_id': 416047494, 'heur': 2164},\n",
        " {'boiler_pipe': 679, 'crf': 2111, 'downloads_id': 416047513, 'heur': 984},\n",
        " {'boiler_pipe': 419, 'crf': 2603, 'downloads_id': 416210404, 'heur': 165},\n",
        " {'boiler_pipe': 26, 'crf': 0, 'downloads_id': 416263840, 'heur': 105},\n",
        " {'boiler_pipe': 278, 'crf': 31, 'downloads_id': 416306952, 'heur': 258},\n",
        " {'boiler_pipe': 1002, 'crf': 65, 'downloads_id': 416426245, 'heur': 93},\n",
        " {'boiler_pipe': 44, 'crf': 2266, 'downloads_id': 416655019, 'heur': 191},\n",
        " {'boiler_pipe': 394, 'crf': 1338, 'downloads_id': 416730837, 'heur': 909},\n",
        " {'boiler_pipe': 395, 'crf': 1051, 'downloads_id': 416802690, 'heur': 935},\n",
        " {'boiler_pipe': 629, 'crf': 817, 'downloads_id': 417347290, 'heur': 719},\n",
        " {'boiler_pipe': 298, 'crf': 183, 'downloads_id': 417347524, 'heur': 415},\n",
        " {'boiler_pipe': 944, 'crf': 6613, 'downloads_id': 417368539, 'heur': 2382},\n",
        " {'boiler_pipe': 847, 'crf': 0, 'downloads_id': 417389613, 'heur': 740},\n",
        " {'boiler_pipe': 189, 'crf': 6, 'downloads_id': 417477837, 'heur': 69},\n",
        " {'boiler_pipe': 205, 'crf': 2251, 'downloads_id': 417653177, 'heur': 605},\n",
        " {'boiler_pipe': 149, 'crf': 81, 'downloads_id': 418489742, 'heur': 804},\n",
        " {'boiler_pipe': 2404, 'crf': 16, 'downloads_id': 418544762, 'heur': 2292},\n",
        " {'boiler_pipe': 670, 'crf': 4363, 'downloads_id': 418574641, 'heur': 2034},\n",
        " {'boiler_pipe': 44, 'crf': 0, 'downloads_id': 418648698, 'heur': 349},\n",
        " {'boiler_pipe': 269, 'crf': 62, 'downloads_id': 418661859, 'heur': 444},\n",
        " {'boiler_pipe': 91, 'crf': 1135, 'downloads_id': 419404469, 'heur': 229},\n",
        " {'boiler_pipe': 287, 'crf': 102, 'downloads_id': 419440474, 'heur': 232},\n",
        " {'boiler_pipe': 135, 'crf': 368, 'downloads_id': 419483895, 'heur': 260},\n",
        " {'boiler_pipe': 56, 'crf': 118, 'downloads_id': 419873979, 'heur': 462},\n",
        " {'boiler_pipe': 170, 'crf': 149, 'downloads_id': 420430754, 'heur': 1182},\n",
        " {'boiler_pipe': 1099, 'crf': 259, 'downloads_id': 420599387, 'heur': 1100},\n",
        " {'boiler_pipe': 807, 'crf': 5533, 'downloads_id': 420666122, 'heur': 536},\n",
        " {'boiler_pipe': 140, 'crf': 0, 'downloads_id': 421520860, 'heur': 1379},\n",
        " {'boiler_pipe': 463, 'crf': 5437, 'downloads_id': 421834553, 'heur': 171},\n",
        " {'boiler_pipe': 230, 'crf': 609, 'downloads_id': 422181106, 'heur': 2014},\n",
        " {'boiler_pipe': 207, 'crf': 120, 'downloads_id': 422280595, 'heur': 148},\n",
        " {'boiler_pipe': 1215, 'crf': 9, 'downloads_id': 422910963, 'heur': 933},\n",
        " {'boiler_pipe': 340, 'crf': 3509, 'downloads_id': 423318170, 'heur': 244},\n",
        " {'boiler_pipe': 124, 'crf': 1184, 'downloads_id': 424080271, 'heur': 455},\n",
        " {'boiler_pipe': 29, 'crf': 38, 'downloads_id': 424369085, 'heur': 38},\n",
        " {'boiler_pipe': 239, 'crf': 127, 'downloads_id': 424796346, 'heur': 2570},\n",
        " {'boiler_pipe': 139, 'crf': 0, 'downloads_id': 424840366, 'heur': 168},\n",
        " {'boiler_pipe': 111, 'crf': 838, 'downloads_id': 425206279, 'heur': 219},\n",
        " {'boiler_pipe': 172, 'crf': 967, 'downloads_id': 426405203, 'heur': 502},\n",
        " {'boiler_pipe': 59, 'crf': 1486, 'downloads_id': 426560018, 'heur': 540},\n",
        " {'boiler_pipe': 559, 'crf': 303, 'downloads_id': 426632784, 'heur': 823},\n",
        " {'boiler_pipe': 416, 'crf': 0, 'downloads_id': 426709900, 'heur': 197},\n",
        " {'boiler_pipe': 251, 'crf': 287, 'downloads_id': 428449440, 'heur': 93},\n",
        " {'boiler_pipe': 5096, 'crf': 0, 'downloads_id': 429607289, 'heur': 129},\n",
        " {'boiler_pipe': 22, 'crf': 76, 'downloads_id': 430363249, 'heur': 1208},\n",
        " {'boiler_pipe': 161, 'crf': 136, 'downloads_id': 430995428, 'heur': 250},\n",
        " {'boiler_pipe': 93, 'crf': 141, 'downloads_id': 433457459, 'heur': 79},\n",
        " {'boiler_pipe': 96, 'crf': 1577, 'downloads_id': 435624796, 'heur': 249},\n",
        " {'boiler_pipe': 98, 'crf': 104, 'downloads_id': 435659593, 'heur': 898},\n",
        " {'boiler_pipe': 861, 'crf': 7723, 'downloads_id': 461175103, 'heur': 3407},\n",
        " {'boiler_pipe': 249, 'crf': 249, 'downloads_id': 461175549, 'heur': 249},\n",
        " {'boiler_pipe': 241, 'crf': 335, 'downloads_id': 461176415, 'heur': 1753},\n",
        " {'boiler_pipe': 95, 'crf': 757, 'downloads_id': 461176844, 'heur': 421},\n",
        " {'boiler_pipe': 12, 'crf': 949, 'downloads_id': 461177487, 'heur': 967},\n",
        " {'boiler_pipe': 8, 'crf': 271, 'downloads_id': 461178557, 'heur': 300},\n",
        " {'boiler_pipe': 1244, 'crf': 3167, 'downloads_id': 461178590, 'heur': 896},\n",
        " {'boiler_pipe': 68, 'crf': 5198, 'downloads_id': 461179203, 'heur': 3680},\n",
        " {'boiler_pipe': 63, 'crf': 1552, 'downloads_id': 461179222, 'heur': 1112},\n",
        " {'boiler_pipe': 319, 'crf': 2481, 'downloads_id': 461179441, 'heur': 528},\n",
        " {'boiler_pipe': 110, 'crf': 159, 'downloads_id': 461179762, 'heur': 5640},\n",
        " {'boiler_pipe': 135, 'crf': 0, 'downloads_id': 461179818, 'heur': 107},\n",
        " {'boiler_pipe': 173783, 'crf': 21819, 'downloads_id': 461179954, 'heur': 83},\n",
        " {'boiler_pipe': 240, 'crf': 3412, 'downloads_id': 461179956, 'heur': 257},\n",
        " {'boiler_pipe': 116, 'crf': 3594, 'downloads_id': 461180307, 'heur': 793},\n",
        " {'boiler_pipe': 177, 'crf': 3243, 'downloads_id': 461181039, 'heur': 598},\n",
        " {'boiler_pipe': 14, 'crf': 721, 'downloads_id': 461181597, 'heur': 51},\n",
        " {'boiler_pipe': 384, 'crf': 167, 'downloads_id': 461186137, 'heur': 658},\n",
        " {'boiler_pipe': 573, 'crf': 2570, 'downloads_id': 461186258, 'heur': 3010},\n",
        " {'boiler_pipe': 210, 'crf': 510, 'downloads_id': 461186833, 'heur': 190},\n",
        " {'boiler_pipe': 265, 'crf': 3080, 'downloads_id': 461187188, 'heur': 282},\n",
        " {'boiler_pipe': 993, 'crf': 2333, 'downloads_id': 461187261, 'heur': 91},\n",
        " {'boiler_pipe': 82, 'crf': 5435, 'downloads_id': 461187577, 'heur': 308},\n",
        " {'boiler_pipe': 63, 'crf': 1552, 'downloads_id': 461188549, 'heur': 1112},\n",
        " {'boiler_pipe': 683, 'crf': 2358, 'downloads_id': 461189069, 'heur': 965},\n",
        " {'boiler_pipe': 1306, 'crf': 0, 'downloads_id': 461190586, 'heur': 2601},\n",
        " {'boiler_pipe': 56, 'crf': 1368, 'downloads_id': 461193383, 'heur': 477}]"
       ]
      }
     ],
     "prompt_number": 18
    },
    {
     "cell_type": "code",
     "collapsed": false,
     "input": [
      "import pandas as pd\n",
      "\n",
      "df = pd.DataFrame( comps )\n",
      "df.set_index('downloads_id', inplace=True )\n",
      "#df.describe(percentiles=[.1,.2,.3,.4,.5,.6,.7,.8,.9,.95,.98,.99,.999] )\n",
      "df"
     ],
     "language": "python",
     "metadata": {},
     "outputs": [
      {
       "html": [
        "<div style=\"max-height:1000px;max-width:1500px;overflow:auto;\">\n",
        "<table border=\"1\" class=\"dataframe\">\n",
        "  <thead>\n",
        "    <tr style=\"text-align: right;\">\n",
        "      <th></th>\n",
        "      <th>boiler_pipe</th>\n",
        "      <th>crf</th>\n",
        "      <th>heur</th>\n",
        "    </tr>\n",
        "    <tr>\n",
        "      <th>downloads_id</th>\n",
        "      <th></th>\n",
        "      <th></th>\n",
        "      <th></th>\n",
        "    </tr>\n",
        "  </thead>\n",
        "  <tbody>\n",
        "    <tr>\n",
        "      <th>391881020</th>\n",
        "      <td>    183</td>\n",
        "      <td>  1014</td>\n",
        "      <td>  309</td>\n",
        "    </tr>\n",
        "    <tr>\n",
        "      <th>401370599</th>\n",
        "      <td>      2</td>\n",
        "      <td>    30</td>\n",
        "      <td>  540</td>\n",
        "    </tr>\n",
        "    <tr>\n",
        "      <th>412896439</th>\n",
        "      <td>    329</td>\n",
        "      <td>  3259</td>\n",
        "      <td>  183</td>\n",
        "    </tr>\n",
        "    <tr>\n",
        "      <th>412952145</th>\n",
        "      <td>   6041</td>\n",
        "      <td>    37</td>\n",
        "      <td> 9280</td>\n",
        "    </tr>\n",
        "    <tr>\n",
        "      <th>412977048</th>\n",
        "      <td>     33</td>\n",
        "      <td>   595</td>\n",
        "      <td>   38</td>\n",
        "    </tr>\n",
        "    <tr>\n",
        "      <th>413024519</th>\n",
        "      <td>    876</td>\n",
        "      <td>  1282</td>\n",
        "      <td>  733</td>\n",
        "    </tr>\n",
        "    <tr>\n",
        "      <th>413657081</th>\n",
        "      <td>    280</td>\n",
        "      <td>  1978</td>\n",
        "      <td>  597</td>\n",
        "    </tr>\n",
        "    <tr>\n",
        "      <th>413835576</th>\n",
        "      <td>    235</td>\n",
        "      <td>   119</td>\n",
        "      <td>  959</td>\n",
        "    </tr>\n",
        "    <tr>\n",
        "      <th>414040102</th>\n",
        "      <td>     86</td>\n",
        "      <td>   760</td>\n",
        "      <td> 1090</td>\n",
        "    </tr>\n",
        "    <tr>\n",
        "      <th>414257623</th>\n",
        "      <td>     78</td>\n",
        "      <td>    76</td>\n",
        "      <td> 2178</td>\n",
        "    </tr>\n",
        "    <tr>\n",
        "      <th>414377428</th>\n",
        "      <td>    251</td>\n",
        "      <td>  9533</td>\n",
        "      <td> 1678</td>\n",
        "    </tr>\n",
        "    <tr>\n",
        "      <th>414480464</th>\n",
        "      <td>    533</td>\n",
        "      <td>  3472</td>\n",
        "      <td> 1014</td>\n",
        "    </tr>\n",
        "    <tr>\n",
        "      <th>414818749</th>\n",
        "      <td>    429</td>\n",
        "      <td>  4262</td>\n",
        "      <td>  309</td>\n",
        "    </tr>\n",
        "    <tr>\n",
        "      <th>414983458</th>\n",
        "      <td>    192</td>\n",
        "      <td>   162</td>\n",
        "      <td>  979</td>\n",
        "    </tr>\n",
        "    <tr>\n",
        "      <th>415185946</th>\n",
        "      <td>     78</td>\n",
        "      <td>   140</td>\n",
        "      <td> 2133</td>\n",
        "    </tr>\n",
        "    <tr>\n",
        "      <th>415186582</th>\n",
        "      <td>    183</td>\n",
        "      <td>   305</td>\n",
        "      <td>   86</td>\n",
        "    </tr>\n",
        "    <tr>\n",
        "      <th>415197547</th>\n",
        "      <td>    169</td>\n",
        "      <td>    63</td>\n",
        "      <td>   83</td>\n",
        "    </tr>\n",
        "    <tr>\n",
        "      <th>415424551</th>\n",
        "      <td>     32</td>\n",
        "      <td>    39</td>\n",
        "      <td>  187</td>\n",
        "    </tr>\n",
        "    <tr>\n",
        "      <th>415978069</th>\n",
        "      <td>    236</td>\n",
        "      <td>   154</td>\n",
        "      <td> 3664</td>\n",
        "    </tr>\n",
        "    <tr>\n",
        "      <th>416026460</th>\n",
        "      <td>     36</td>\n",
        "      <td>   749</td>\n",
        "      <td>   38</td>\n",
        "    </tr>\n",
        "    <tr>\n",
        "      <th>416026587</th>\n",
        "      <td>    124</td>\n",
        "      <td>    16</td>\n",
        "      <td>  237</td>\n",
        "    </tr>\n",
        "    <tr>\n",
        "      <th>416047494</th>\n",
        "      <td>   1440</td>\n",
        "      <td>    27</td>\n",
        "      <td> 2164</td>\n",
        "    </tr>\n",
        "    <tr>\n",
        "      <th>416047513</th>\n",
        "      <td>    679</td>\n",
        "      <td>  2111</td>\n",
        "      <td>  984</td>\n",
        "    </tr>\n",
        "    <tr>\n",
        "      <th>416210404</th>\n",
        "      <td>    419</td>\n",
        "      <td>  2603</td>\n",
        "      <td>  165</td>\n",
        "    </tr>\n",
        "    <tr>\n",
        "      <th>416263840</th>\n",
        "      <td>     26</td>\n",
        "      <td>     0</td>\n",
        "      <td>  105</td>\n",
        "    </tr>\n",
        "    <tr>\n",
        "      <th>416306952</th>\n",
        "      <td>    278</td>\n",
        "      <td>    31</td>\n",
        "      <td>  258</td>\n",
        "    </tr>\n",
        "    <tr>\n",
        "      <th>416426245</th>\n",
        "      <td>   1002</td>\n",
        "      <td>    65</td>\n",
        "      <td>   93</td>\n",
        "    </tr>\n",
        "    <tr>\n",
        "      <th>416655019</th>\n",
        "      <td>     44</td>\n",
        "      <td>  2266</td>\n",
        "      <td>  191</td>\n",
        "    </tr>\n",
        "    <tr>\n",
        "      <th>416730837</th>\n",
        "      <td>    394</td>\n",
        "      <td>  1338</td>\n",
        "      <td>  909</td>\n",
        "    </tr>\n",
        "    <tr>\n",
        "      <th>416802690</th>\n",
        "      <td>    395</td>\n",
        "      <td>  1051</td>\n",
        "      <td>  935</td>\n",
        "    </tr>\n",
        "    <tr>\n",
        "      <th>...</th>\n",
        "      <td>...</td>\n",
        "      <td>...</td>\n",
        "      <td>...</td>\n",
        "    </tr>\n",
        "    <tr>\n",
        "      <th>433457459</th>\n",
        "      <td>     93</td>\n",
        "      <td>   141</td>\n",
        "      <td>   79</td>\n",
        "    </tr>\n",
        "    <tr>\n",
        "      <th>435624796</th>\n",
        "      <td>     96</td>\n",
        "      <td>  1577</td>\n",
        "      <td>  249</td>\n",
        "    </tr>\n",
        "    <tr>\n",
        "      <th>435659593</th>\n",
        "      <td>     98</td>\n",
        "      <td>   104</td>\n",
        "      <td>  898</td>\n",
        "    </tr>\n",
        "    <tr>\n",
        "      <th>461175103</th>\n",
        "      <td>    861</td>\n",
        "      <td>  7723</td>\n",
        "      <td> 3407</td>\n",
        "    </tr>\n",
        "    <tr>\n",
        "      <th>461175549</th>\n",
        "      <td>    249</td>\n",
        "      <td>   249</td>\n",
        "      <td>  249</td>\n",
        "    </tr>\n",
        "    <tr>\n",
        "      <th>461176415</th>\n",
        "      <td>    241</td>\n",
        "      <td>   335</td>\n",
        "      <td> 1753</td>\n",
        "    </tr>\n",
        "    <tr>\n",
        "      <th>461176844</th>\n",
        "      <td>     95</td>\n",
        "      <td>   757</td>\n",
        "      <td>  421</td>\n",
        "    </tr>\n",
        "    <tr>\n",
        "      <th>461177487</th>\n",
        "      <td>     12</td>\n",
        "      <td>   949</td>\n",
        "      <td>  967</td>\n",
        "    </tr>\n",
        "    <tr>\n",
        "      <th>461178557</th>\n",
        "      <td>      8</td>\n",
        "      <td>   271</td>\n",
        "      <td>  300</td>\n",
        "    </tr>\n",
        "    <tr>\n",
        "      <th>461178590</th>\n",
        "      <td>   1244</td>\n",
        "      <td>  3167</td>\n",
        "      <td>  896</td>\n",
        "    </tr>\n",
        "    <tr>\n",
        "      <th>461179203</th>\n",
        "      <td>     68</td>\n",
        "      <td>  5198</td>\n",
        "      <td> 3680</td>\n",
        "    </tr>\n",
        "    <tr>\n",
        "      <th>461179222</th>\n",
        "      <td>     63</td>\n",
        "      <td>  1552</td>\n",
        "      <td> 1112</td>\n",
        "    </tr>\n",
        "    <tr>\n",
        "      <th>461179441</th>\n",
        "      <td>    319</td>\n",
        "      <td>  2481</td>\n",
        "      <td>  528</td>\n",
        "    </tr>\n",
        "    <tr>\n",
        "      <th>461179762</th>\n",
        "      <td>    110</td>\n",
        "      <td>   159</td>\n",
        "      <td> 5640</td>\n",
        "    </tr>\n",
        "    <tr>\n",
        "      <th>461179818</th>\n",
        "      <td>    135</td>\n",
        "      <td>     0</td>\n",
        "      <td>  107</td>\n",
        "    </tr>\n",
        "    <tr>\n",
        "      <th>461179954</th>\n",
        "      <td> 173783</td>\n",
        "      <td> 21819</td>\n",
        "      <td>   83</td>\n",
        "    </tr>\n",
        "    <tr>\n",
        "      <th>461179956</th>\n",
        "      <td>    240</td>\n",
        "      <td>  3412</td>\n",
        "      <td>  257</td>\n",
        "    </tr>\n",
        "    <tr>\n",
        "      <th>461180307</th>\n",
        "      <td>    116</td>\n",
        "      <td>  3594</td>\n",
        "      <td>  793</td>\n",
        "    </tr>\n",
        "    <tr>\n",
        "      <th>461181039</th>\n",
        "      <td>    177</td>\n",
        "      <td>  3243</td>\n",
        "      <td>  598</td>\n",
        "    </tr>\n",
        "    <tr>\n",
        "      <th>461181597</th>\n",
        "      <td>     14</td>\n",
        "      <td>   721</td>\n",
        "      <td>   51</td>\n",
        "    </tr>\n",
        "    <tr>\n",
        "      <th>461186137</th>\n",
        "      <td>    384</td>\n",
        "      <td>   167</td>\n",
        "      <td>  658</td>\n",
        "    </tr>\n",
        "    <tr>\n",
        "      <th>461186258</th>\n",
        "      <td>    573</td>\n",
        "      <td>  2570</td>\n",
        "      <td> 3010</td>\n",
        "    </tr>\n",
        "    <tr>\n",
        "      <th>461186833</th>\n",
        "      <td>    210</td>\n",
        "      <td>   510</td>\n",
        "      <td>  190</td>\n",
        "    </tr>\n",
        "    <tr>\n",
        "      <th>461187188</th>\n",
        "      <td>    265</td>\n",
        "      <td>  3080</td>\n",
        "      <td>  282</td>\n",
        "    </tr>\n",
        "    <tr>\n",
        "      <th>461187261</th>\n",
        "      <td>    993</td>\n",
        "      <td>  2333</td>\n",
        "      <td>   91</td>\n",
        "    </tr>\n",
        "    <tr>\n",
        "      <th>461187577</th>\n",
        "      <td>     82</td>\n",
        "      <td>  5435</td>\n",
        "      <td>  308</td>\n",
        "    </tr>\n",
        "    <tr>\n",
        "      <th>461188549</th>\n",
        "      <td>     63</td>\n",
        "      <td>  1552</td>\n",
        "      <td> 1112</td>\n",
        "    </tr>\n",
        "    <tr>\n",
        "      <th>461189069</th>\n",
        "      <td>    683</td>\n",
        "      <td>  2358</td>\n",
        "      <td>  965</td>\n",
        "    </tr>\n",
        "    <tr>\n",
        "      <th>461190586</th>\n",
        "      <td>   1306</td>\n",
        "      <td>     0</td>\n",
        "      <td> 2601</td>\n",
        "    </tr>\n",
        "    <tr>\n",
        "      <th>461193383</th>\n",
        "      <td>     56</td>\n",
        "      <td>  1368</td>\n",
        "      <td>  477</td>\n",
        "    </tr>\n",
        "  </tbody>\n",
        "</table>\n",
        "<p>97 rows \u00d7 3 columns</p>\n",
        "</div>"
       ],
       "metadata": {},
       "output_type": "pyout",
       "prompt_number": 19,
       "text": [
        "              boiler_pipe    crf  heur\n",
        "downloads_id                          \n",
        "391881020             183   1014   309\n",
        "401370599               2     30   540\n",
        "412896439             329   3259   183\n",
        "412952145            6041     37  9280\n",
        "412977048              33    595    38\n",
        "413024519             876   1282   733\n",
        "413657081             280   1978   597\n",
        "413835576             235    119   959\n",
        "414040102              86    760  1090\n",
        "414257623              78     76  2178\n",
        "414377428             251   9533  1678\n",
        "414480464             533   3472  1014\n",
        "414818749             429   4262   309\n",
        "414983458             192    162   979\n",
        "415185946              78    140  2133\n",
        "415186582             183    305    86\n",
        "415197547             169     63    83\n",
        "415424551              32     39   187\n",
        "415978069             236    154  3664\n",
        "416026460              36    749    38\n",
        "416026587             124     16   237\n",
        "416047494            1440     27  2164\n",
        "416047513             679   2111   984\n",
        "416210404             419   2603   165\n",
        "416263840              26      0   105\n",
        "416306952             278     31   258\n",
        "416426245            1002     65    93\n",
        "416655019              44   2266   191\n",
        "416730837             394   1338   909\n",
        "416802690             395   1051   935\n",
        "...                   ...    ...   ...\n",
        "433457459              93    141    79\n",
        "435624796              96   1577   249\n",
        "435659593              98    104   898\n",
        "461175103             861   7723  3407\n",
        "461175549             249    249   249\n",
        "461176415             241    335  1753\n",
        "461176844              95    757   421\n",
        "461177487              12    949   967\n",
        "461178557               8    271   300\n",
        "461178590            1244   3167   896\n",
        "461179203              68   5198  3680\n",
        "461179222              63   1552  1112\n",
        "461179441             319   2481   528\n",
        "461179762             110    159  5640\n",
        "461179818             135      0   107\n",
        "461179954          173783  21819    83\n",
        "461179956             240   3412   257\n",
        "461180307             116   3594   793\n",
        "461181039             177   3243   598\n",
        "461181597              14    721    51\n",
        "461186137             384    167   658\n",
        "461186258             573   2570  3010\n",
        "461186833             210    510   190\n",
        "461187188             265   3080   282\n",
        "461187261             993   2333    91\n",
        "461187577              82   5435   308\n",
        "461188549              63   1552  1112\n",
        "461189069             683   2358   965\n",
        "461190586            1306      0  2601\n",
        "461193383              56   1368   477\n",
        "\n",
        "[97 rows x 3 columns]"
       ]
      }
     ],
     "prompt_number": 19
    },
    {
     "cell_type": "code",
     "collapsed": false,
     "input": [
      "res = compare_extractors_for_download( 461179954 )\n",
      "res"
     ],
     "language": "python",
     "metadata": {},
     "outputs": [
      {
       "output_type": "stream",
       "stream": "stdout",
       "text": [
        "[190, 191, 192, 193, 194, 195, 196, 197]\n",
        "[190, 191, 192, 193, 194, 195, 196, 197, 953, 954, 955, 956, 957, 958, 959, 960, 961, 962, 1157, 1158, 1159, 1160, 1161, 1162, 1163, 1172, 1174, 1175, 1176, 1177, 1178, 1179, 1180, 1189, 1191, 1192, 1193, 1194, 1195, 1306, 1307, 1308, 1309, 1310, 1311, 1312, 1313, 1314, 1315, 2402, 2403, 2404, 2405, 2406, 2407, 2408, 2409, 2410, 2411, 2412, 2769, 2770, 2771, 2772, 2773, 2774, 2775, 2776, 2777, 2778, 2779, 2780, 2781, 2782, 2783, 2784, 2785, 3503, 3504, 3505, 3506, 3507, 3508, 3509, 3510, 3569, 3570, 3571, 3572, 3573]\n",
        "[181, 182, 190, 191, 192, 193, 194, 195, 196, 197]"
       ]
      },
      {
       "output_type": "stream",
       "stream": "stdout",
       "text": [
        "\n",
        "original article tmp file "
       ]
      },
      {
       "output_type": "stream",
       "stream": "stdout",
       "text": [
        " /tmp/tmpEs93tG.html\n",
        "/tmp/tmpvxnSyu.html\n",
        "/tmp/tmpEs93tG.html\n",
        "/tmp/tmpEs93tG.html\n",
        "Now open file:///tmp/tmpvxnSyu.html in your web browser\n"
       ]
      },
      {
       "output_type": "stream",
       "stream": "stdout",
       "text": [
        "\n",
        "expected_lines:\n",
        "Os rolezinhos nos acusam: somos uma sociedade injusta e\u00a0segregacionista 23/01/2014 O fen\u00f4meno dos centenas de rolezinhos que ocuparam shoppings centers no Rio e em\u00a0 S\u00e3o Paulo suscitou as mais disparatadas interpreta\u00e7\u00f5es. Algumas, dos ac\u00f3litos da sociedade neoliberal do consumo que identificam cidadania com capacidade de consumir, geralmente nos jornal\u00f5es da m\u00eddia comercial, nem merecem considera\u00e7\u00e3o. S\u00e3o de uma indig\u00eancia anal\u00edtica de fazer vergonha. Mas houve outras an\u00e1lises que foram ao cerne da quest\u00e3o como a do jornalista Mauro Santayana do JB on-line e as de tr\u00eas\u00a0 especialistas que avaliaram a irrup\u00e7\u00e3o dos rol\u00eas na visibilidade p\u00fablica e o elemento explosivo que cont\u00e9m. Refiro-me \u00e0 Valqu\u00edria Padilha, professora de sociologia na USP de Ribeir\u00e3o Preto:\u201dShopping Center: a catedral das mercadorias\u201d(Boitempo 2006), ao soci\u00f3logo da Universidade Federal de Juiz de Fora, Jess\u00e9 Souza,\u201dRal\u00e9 brasileira: quem \u00e9 e como vive (UFMG 2009) e\u00a0 de Rosa Pinheiro Machado, cientista social com um artigo\u201dEtnografia do Rolezinho\u201dno Zero Hora de 18/1/2014. Os tr\u00eas deram entrevistas esclarecedoras. Eu por minha parte interpreto da seguinte forma tal irrup\u00e7\u00e3o: Em primeiro lugar, s\u00e3o jovens pobres, das grandes periferias,\u00a0 sem espa\u00e7os de lazer e de cultura, penalizados por servi\u00e7os p\u00fablicos ausentes ou muito ruins como sa\u00fade, escola, infra-estrutura sanit\u00e1ria, transporte, lazer e seguran\u00e7a. Veem televis\u00e3o cujas propagandas os seduzem para um consumo que nunca v\u00e3o poder realizar. E sabem manejar computadores e entrar nas redes sociais para articular encontros. Seria rid\u00edculo exigir deles que teoricamente tematizem sua insatisfa\u00e7\u00e3o. Mas sentem na pele o quanto nossa sociedade \u00e9 malvada porque exclui, despreza e mant\u00e9m os filhos e filhas da pobreza na invisibilidade for\u00e7ada. O que se esconde por tr\u00e1s de sua irrup\u00e7\u00e3o? O fato de n\u00e3o serem incluidos no contrato social. N\u00e3o adianta termos uma \u201cconstitui\u00e7\u00e3o cidad\u00e3\u201d que neste aspecto \u00e9 apenas ret\u00f3rica, pois\u00a0 implementou muito pouco do que prometeu em vista da inclus\u00e3o social. Eles est\u00e3o fora, n\u00e3o contam, nem sequer servem de carv\u00e3o\u00a0 para o consumo de nossa f\u00e1brica social (Darcy Ribeiro). Estar inclu\u00eddo no contrato social significa ver garantidos os servi\u00e7os b\u00e1sicos: sa\u00fade, educa\u00e7\u00e3o, moradia, transporte, cultura, lazer e seguran\u00e7a. Quase nada disso funciona nas periferias. O que eles est\u00e3o dizendo com suas penetra\u00e7\u00f5es nos bunkers do consumo? \u201cOia n\u00f3is na fita\u201d; \u201cnois n\u00e3o tamo parado\u201d;\u201dn\u00f3is tamo aqui para zoar\u201d(incomodar). Eles est\u00e3o com seu comportamento rompendo as barreiras do aparheid social. \u00c9 uma den\u00fancia de um pa\u00eds altamente injusto (eticamente), dos mais desiguais do mundo (socialmente), organizado sobre um grave pecado social pois contradiz o\u00a0 projeto de Deus (teologicamente). Nossa sociedade \u00e9 conservadora e nossas elites altamente insens\u00edveis\u00a0 \u00e0 paix\u00e3o de seus semelhantes e por isso c\u00ednicas. Continuamos uma Bel\u00edndia: uma B\u00e9lgica rica dentro de uma India pobre. Tudo isso os rolezinhos denunciam, por atos e menos por palavras. Em segundo lugar,\u00a0 eles denunciam a nossa maior chaga: a desigualdade social cujo verdadeiro nome \u00e9 injusti\u00e7a hist\u00f3rica e social. Releva, no entanto, constatar que com as pol\u00edticas sociais do governo do PT a desigualdade diminiui, pois segundo o IPEA os 10% mais pobres tiveram entre 2001-2011 um crescimento de renda acumulado de 91,2% enquanto a parte mais rica cresceu 16,6%. Mas esta diferen\u00e7a n\u00e3o atingiu a ra\u00edz do problema pois o que supera a desigualdade \u00e9 uma infraestrutura social de sa\u00fade, escola, transporte, cultura e lazer que funcione e acess\u00edvel a todos. N\u00e3o \u00e9 suficiente transferir renda; tem que criar oportunidades e oferecer servi\u00e7os, coisa que n\u00e3o foi o foco principal no Minist\u00e9rio de Desenvolvimento Social. O \u201cAtlas da Exclus\u00e3o Social\u201d de M\u00e1rcio Poschmann (Cortez 2004) nos mostra que h\u00e1 cerca de 60 milh\u00f5es de fam\u00edlias,\u00a0 das quais cinco mil fam\u00edlias extensas det\u00e9m 45% da riqueza nacional. Democracia sem igualdade, que \u00e9 seu pressupsto, \u00e9 farsa e ret\u00f3rica. Os rolezinhos denunciam essa contradi\u00e7\u00e3o. Eles entram no \u201cpara\u00edso das mercadorias\u201d vistas virtualmente na TV para ve-las realmente e senti-las nas m\u00e3os. Eis o sacril\u00e9gio insuport\u00e1vel pelos donos do shoppings. Eles n\u00e3o sabem dialogar, chamam logo a pol\u00edcia para bater e fecham as portas a esses b\u00e1rbaros. Sim, bem o viu T.Todorov em seu livro \u201cOs novos b\u00e1rbaros\u201d: os marginalizados do mundo inteiro est\u00e3o saindo da margem e indo rumo ao centro para suscitar a m\u00e1 consci\u00eancia dos \u201cconsumidores felizes\u201d e lhes dizer: esta ordem \u00e9 ordem na desordem. Ela os faz frustrados e infelizes, tomados de medo, medo dos pr\u00f3prios semelhantes que somos n\u00f3s. Por fim, os rolezinhos n\u00e3o querem apenas consumir. N\u00e3o s\u00e3o animaizinhos famintos. Eles tem fome sim, mas fome de reconhecimento, de acolhida na sociedade, de lazer, de cultura e de mostrar o que sabem: cantar, dan\u00e7ar, criar poemas cr\u00edticos, celebrar a conviv\u00eancia humana. E querem trabalhar para ganhar sua vida. Tudo isso lhes \u00e9 negado, porque, por serem pobres, negros, mesti\u00e7os sem olhos azuis e cabelos loiros, s\u00e3o desperezados e mantidos longe, na margem. Esse tipo de sociedade pode ser chamada ainda de humana e civilizada? Ou \u00e9 uma forma travestida de barb\u00e1rie? Esta \u00faltima lhe convem mais. Os rolezinhos mexeram numa pedra que come\u00e7ou a rolar. S\u00f3 parar\u00e1 se houver mudan\u00e7as. Artigo escrito primeiramente para o JB on-line\n",
        "boilerpipe lines\n",
        "Os rolezinhos nos acusam: somos uma sociedade injusta e  segregacionista 23/01/2014 O fen\u00f4meno dos centena s de rolezinhos que ocuparam shoppings centers no Rio e em\u00a0 S\u00e3o Paulo suscitou as mais disparatadas interpreta\u00e7\u00f5es. Algumas, dos ac\u00f3litos da sociedade neoliberal do consumo que identificam cidadania com capacidade de consumir, geralmente nos jornal\u00f5es da m\u00eddia comercial, nem merecem considera\u00e7\u00e3o. S\u00e3o de uma indig\u00eancia anal\u00edtica de fazer vergonha. Mas houve outras an\u00e1lises que foram ao cerne da quest\u00e3o como a do jornalista Mauro Santayana do JB on-line e as de tr\u00eas\u00a0 especialistas que avaliaram a irrup\u00e7\u00e3o dos rol\u00eas na visibilidade p\u00fablica e o elemento explosivo que cont\u00e9m. Refiro-me \u00e0 Valqu\u00edria Padilha, professora de sociologia na USP de Ribeir\u00e3o Preto:\u201dShopping Center: a catedral das mercadorias\u201d(Boitempo 2006), ao soci\u00f3logo da Universidade Federal de Juiz de Fora, Jess\u00e9 Souza,\u201dRal\u00e9 brasileira: quem \u00e9 e como vive (UFMG 2009) e\u00a0 de Rosa Pinheiro Machado, cientista social com um artigo\u201dEtnografia do Rolezinho\u201dno Zero Hora de 18/1/2014. Os tr\u00eas deram entrevistas esclarecedoras. Eu por minha parte interpreto da seguinte forma tal irrup\u00e7\u00e3o: Em primeiro lugar, s\u00e3o jovens pobres, das grandes periferias,\u00a0 sem espa\u00e7os de lazer e de cultura, penalizados por servi\u00e7os p\u00fablicos ausentes ou muito ruins como sa\u00fade, escola, infra-estrutura sanit\u00e1ria, transporte, lazer e seguran\u00e7a. Veem televis\u00e3o cujas propagandas os seduzem para um consumo que nunca v\u00e3o poder realizar. E sabem manejar computadores e entrar nas redes sociais para articular encontros. Seria rid\u00edculo exigir deles que teoricamente tematizem sua insatisfa\u00e7\u00e3o. Mas sentem na pele o quanto nossa sociedade \u00e9 malvada porque exclui, despreza e mant\u00e9m os filhos e filhas da pobreza na invisibilidade for\u00e7ada. O que se esconde por tr\u00e1s de sua irrup\u00e7\u00e3o? O fato de n\u00e3o serem incluidos no contrato social. N\u00e3o adianta termos uma \u201cconstitui\u00e7\u00e3o cidad\u00e3\u201d que neste aspecto \u00e9 apenas ret\u00f3rica, pois\u00a0 implementou muito pouco do que prometeu em vista da inclus\u00e3o social. Eles est\u00e3o fora, n\u00e3o contam, nem sequer servem de carv\u00e3o\u00a0 para o consumo de nossa f\u00e1brica social (Darcy Ribeiro). Estar inclu\u00eddo no contrato social significa ver garantidos os servi\u00e7os b\u00e1sicos: sa\u00fade, educa\u00e7\u00e3o, moradia, transporte, cultura, lazer e seguran\u00e7a. Quase nada disso funciona nas periferias. O que eles est\u00e3o dizendo com suas penetra\u00e7\u00f5es nos bunkers do consumo? \u201cOia n\u00f3is na fita\u201d; \u201cnois n\u00e3o tamo parado\u201d;\u201dn\u00f3is tamo aqui para zoar\u201d(incomodar). Eles est\u00e3o com seu comportamento rompendo as barreiras do aparheid social. \u00c9 uma den\u00fancia de um pa\u00eds altamente injusto (eticamente), dos mais desiguais do mundo (socialmente), organizado sobre um grave pecado social pois contradiz o\u00a0 projeto de Deus (teologicamente). Nossa sociedade \u00e9 conservadora e nossas elites altamente insens\u00edveis\u00a0 \u00e0 paix\u00e3o de seus semelhantes e por isso c\u00ednicas. Continuamos uma Bel\u00edndia: uma B\u00e9lgica rica dentro de uma India pobre. Tudo isso os rolezinhos denunciam, por atos e menos por palavras. Em segundo lugar,\u00a0 eles denunciam a nossa maior chaga: a desigualdade social cujo verdadeiro nome \u00e9 injusti\u00e7a hist\u00f3rica e social. Releva, no entanto, constatar que com as pol\u00edticas sociais do governo do PT a desigualdade diminiui, pois segundo o IPEA os 10% mais pobres tiveram entre 2001-2011 um crescimento de renda acumulado de 91,2% enquanto a parte mais rica cresceu 16,6%. Mas esta diferen\u00e7a n\u00e3o atingiu a ra\u00edz do problema pois o que supera a desigualdade \u00e9 uma infraestrutura social de sa\u00fade, escola, transporte, cultura e lazer que funcione e acess\u00edvel a todos. N\u00e3o \u00e9 suficiente transferir renda; tem que criar oportunidades e oferecer servi\u00e7os, coisa que n\u00e3o foi o foco principal no Minist\u00e9rio de Desenvolvimento Social. O \u201cAtlas da Exclus\u00e3o Social\u201d de M\u00e1rcio Poschmann (Cortez 2004) nos mostra que h\u00e1 cerca de 60 milh\u00f5es de fam\u00edlias,\u00a0 das quais cinco mil fam\u00edlias extensas det\u00e9m 45% da riqueza nacional. Democracia sem igualdade, que \u00e9 seu pressupsto, \u00e9 farsa e ret\u00f3rica. Os rolezinhos denunciam essa contradi\u00e7\u00e3o. Eles entram no \u201cpara\u00edso das mercadorias\u201d vistas virtualmente na TV para ve-las realmente e senti-las nas m\u00e3os. Eis o sac ril\u00e9gio insuport\u00e1vel pelos donos do shoppings. Eles n\u00e3o sabem dialogar, chamam logo a pol\u00edcia para bater e fecham as portas a esses b\u00e1rbaros. Sim, bem o viu T.Todorov em seu livro \u201cOs novos b\u00e1rbaros\u201d: os marginalizados do mundo inteiro est\u00e3o saindo da margem e indo rumo ao centro para suscitar a m\u00e1 consci\u00eancia dos \u201cconsumidores felizes\u201d e lhes dizer: esta ordem \u00e9 ordem na desordem. Ela os faz frustrados e infelizes, tomados de medo, medo dos pr\u00f3prios semelhantes que somos n\u00f3s. Por fim, os rolezinhos n\u00e3o querem apenas consumir. N\u00e3o s\u00e3o animaizinhos famintos. Eles tem fome sim, mas fome de reconhecimento, de acolhida na sociedade, de lazer, de cultura e de mostrar o que sabem: cantar, dan\u00e7ar, criar poemas cr\u00edticos, celebrar a conviv\u00eancia humana. E querem trabalhar para ganhar sua vida. Tudo isso lhes \u00e9 negado, porque, por serem pobres, negros, mesti\u00e7os sem olhos azuis e cabelos loiros, s\u00e3o desperezados e mantidos longe, na margem. Esse tipo de sociedade pode ser chamada ainda de humana e civilizada? Ou \u00e9 uma forma travestida de barb\u00e1rie? Esta \u00faltima lhe convem mais. Os rolezinhos mexeram numa pedra que come\u00e7ou a rolar. S\u00f3 parar\u00e1 se houver mudan\u00e7as. Artigo escrito primeiramente para o JB on-line Republicou isso em Empreender e Teologar e comentado: Necessitados ampliar a vis\u00e3o sobre o \u201c rolezinho no shopping \u201d , a fim de tentar enxergar o que est\u00e1 por tr\u00e1s das palavras. Boa an\u00e1lise! Marlene Link Permanente 23/01/2014 11:57 A transfer\u00eancia de renda foi uma das in\u00fameras medidas que entend\u00edamos como necess\u00e1ria, enquanto as mudan\u00e7as de base fossem realizadas \u2026 .passaram-se 12 anos e muito pouco foi feito \u2026 poderia ter sido mais! Um milh\u00e3o de pessoas saem as ruas e \u00e9 desqualificado pelo PT \u2026 ..milhares de pessoas nos rolezinhos \u2026 \u2026 .o PT desqualifica \u2026 \u2026 .N\u00e3o vamos esquecer quem est\u00e1 no poder \u00e9 este partido que traiu os ideais socialistas!!! Por que sempre minimizam a responsabilidade deste partido nestas quest\u00f5es? Question\u00e1-lo \u00e9 n\u00e3o ser politicamente correto? \u00c9 ser considerado de direita e coxinha? Ent\u00e3o vamos continuar dizendo que o povo reclama porque ficou mais rico nos \u00faltimos ano s e agora quer mais e mais \u2026 \u2026 Paulo Roberto Link Permanente 28/01/2014 7:35 Concordo plenamente com a resposta de Marlene, acima, nunca devemos nos esquecer que sempre houveram pobres em nosso pa\u00eds, por\u00e9m nesse \u00faltimos 30 anos os governos que sucessivamente cuidaram desse pa\u00eds, nunca souberam lidar com as necessidades b\u00e1sicas, educa\u00e7\u00e3o, sa\u00fade e seguran\u00e7a. Acho que nem \u00e9 necess\u00e1rio ser muito inteligente para desconfiar que nos pr\u00f3ximos anos tudo isso pode piorar muito,  chegando a n\u00edveis insuport\u00e1veis . M\u00f4nica Link Permanente 23/01/2014 12:05 Os rolezinhos do RJ s\u00e3o um fen\u00f4meno nov\u00edssimo de menos de 2 semanas, ao contr\u00e1rio de SP, comuns. Aqui e l\u00e1 tomaram um car\u00e1ter MAIS pol\u00edtico e menos de divers\u00e3o. Andr\u00e9a Barranqueiros Link Permanente 23/01/2014 12:18 Perfeito sua coloca\u00e7\u00e3o \u2026 Infe lizmente a classe mais abastada s\u00f3 ter\u00e1 uma vis\u00e3o clara e total da situa\u00e7\u00e3o quando o \u201c lixo \u201d produzido pelo sistema capitalista bater em suas portas e por locais onde consomem \u2026 Mas como quem est\u00e1 por cima n\u00e3o quer perder seu status, e, na verdade, ele s\u00f3 est\u00e1 por cima porque existem os de \u201c baixo \u201d para situ\u00e1-los numa posi\u00e7\u00e3o, a reflex\u00e3o ser\u00e1 muito lenta, principalmente com organismos operando com a vis\u00e3o distorcida e alienante dos fatos..Falo da m\u00eddia e de seu corruptor.. o Estado com suas figuras representativas. Fabio Link Permanente 23/01/2014 12:18 Ta bom bonit\u00e3o, eles tem direitos que o desgoverno e a roubalheira do PT n\u00e3o lhes d\u00e1, mas tamb\u00e9m tem deveres. Um deles \u00e9 respeitar o direito dos outros, do pr\u00f3ximo, como te\u00f3logos e soci\u00f3logos gostam de falar e isto n\u00e3o acontece quando invadem propriedades PARTICULARES para zuar e se aproveitando disto instalar o caos e roubar lojas e pessoas que frequentam estes lugares. N\u00e3o gosto de shopping e evito ir at\u00e9 eles, mas estes rolezinhos n\u00e3o passam de uma palha\u00e7ada. Vai fazer rolezinho em busca de trabalho, nos hemocentros, nos pres\u00eddios, nos asilos, nas creches ou algo parecido e que traga algum benef\u00edcio para a sociedade. V\u00e3o produzir algo, fazer o bem para algu\u00e9m. Chega de FALSO MORALISMO!!! MARIA DAS GRA\u00c7AS Link Permanente 24/01/2014 7:39 Rodrigo Link Permanente 24/01/2014 8:52 Perfeito amigo. Rolezinho em biblioteca ningu\u00e9m quer dar. O foco dessa quest\u00e3o n\u00e3o \u00e9 o preconceito, a pobreza, a classe social, a esquerda marxista, a direita elitista, nada disso. O foco \u00e9 simples: BADERNA fora de contexto, em local inapropriado, simples assim. Aroldo de Paula Link Permanente 25/01/2014 23:16 Rodrigo, a sua coloca\u00e7\u00e3o \u00e9 de extremo mau gosto, para concordar com a sua fala, no m\u00ednimo eu teria que ser um porco nazista. Eduardo Link Permanente 11/03/2014 20:31 Totalmente de acordo Rodrigo. O fato \u00e9 se que se pessoas como o Aroldo de Paula fossem logistas ou estivessem presentes em um dos rolezinhos, como o que ocorreu no shopping de Guarulhos \u2013 onde esses baderneiros, correndo, \u201c zuando \u201d e cantando \u201c m\u00fasicas \u201d relacionadas a sexo expl\u00edcito, crime e ostenta\u00e7\u00e3o, causaram desespero e medo nas pessoas que estavam no local (inclusive muitas crian\u00e7as e m\u00e3es com crian\u00e7as de colo) \u2013 ele concordaria conosco. Vivien Link Permanente 24/01/2014 9:46 Tamb\u00e9m concordo com esta an\u00e1lise acho que n\u00e3o \u00e9 culpa do governo \u00e9 da sociedade que fica colocando filho no mundo se a \u00fanica educa\u00e7\u00e3o descente que podem dar \u00e9 coloca-los na frente das TVs e computadores n\u00e3o tem base familiar este \u00e9 o PROBLEMA cad\u00ea o pai e m\u00e3e de cada um desses para impedir de sair de casa e fazer essas barbaries!!! Juliano Link Permanente 24/01/2014 14:27 \u00c9 incr\u00edvel como a classe m\u00e9dia e alta gostam de falar de deveres, mas antes de uma pessoa ter qualquer dever ela tem que ter direitos. Sentado no seu sofazinho confort\u00e1vel deve ser dif\u00edcil enxergar a realidade que se passa com os desafortunados e exclu\u00eddos. Voc\u00ea falou em \u201c busca de trabalho \u201d para quem n\u00e3o tem oportunidade? Com a educa\u00e7\u00e3o que temos neste pa\u00eds que tipo de trabalho esses jovens v\u00e3o ter? Falso moralismo existe quando voc\u00ea ataca os desfavorecidos e defende a burguesia dona de lojas e shopping \u2019 s centers. Claramente o texto n\u00e3o defende os \u201c rolezinhos \u201d , mas denunciam uma realidade social, perpetuada h\u00e1 anos, e esclarece um fen\u00f4meno de rea\u00e7\u00e3o a uma situa\u00e7\u00e3o inaceit\u00e1vel como a desigualdade. Carlos Alan Link Permanente 24/01/2014 23:24 Juliano concordo a exposi\u00e7\u00e3o de F\u00e1bio,sou de classe baixa,filho de pedreiro e lavadeira,meus pais soube me criar,mesmo diante de tantas dificuldades e necessidades,mim ensinaram meus direitos e meus deveres.N\u00e3o \u00e9 porque uma pessoa \u00e9 desfavorecido que deve se comportar como \u201c animaizinhos \u201d .Hoje tenho curso superior,sou professor e militar.Tenho uma vida humilde ,por\u00e9m digna e com necessidades b\u00e1sicas atendidas.Ensino todos que est\u00e3o ao meu redor aquilo que meus pais me ensinaram,que independente das adversidade e do sistema opressor,podemos conquistar algo melhor.Ent\u00e3o pare com esse discurso socialista acad\u00eamico que n\u00e3o ajuda ningu\u00e9m e v\u00e1 ao campo ensinar as pessoas a serem cidad\u00e3os melhores! Paulo Link Permanente 26/01/2014 0:31 N\u00e3o \u00e9 dif\u00edcil enxergar a realidade, nobre Juliano, \u00e9 t\u00e3o imposs\u00edvel, como o \u00e9 para um cego de nascen\u00e7a, entender a beleza das cores do arco-\u00edris! Parab\u00e9ns pelo l\u00facido coment\u00e1rio! Diego Link Permanente 26/01/2014 11:00 Emprego n\u00e3o falta no mercado, e o PT se gaba disso ano ap\u00f3s ano, divulgando nas m\u00eddias as menores taxas de desemprego da hist\u00f3ria. Devemos observar que burguesia no Brasil n\u00e3o vem de ber\u00e7o, somos um pa\u00eds pobre desde a \u00e9poca da escravatura, fomos constru\u00eddos com essa base, portanto o burgu\u00eas de hoje foi o pobre de ontem. O lojista que era pobre e deu duro na vida, conseguiu abrir uma loja no shopping e agora \u00e9 roubado pelos seus pares. Outro dado importante, \u00e9 que o governo considera classe m\u00e9dia (C) pessoas que tem renda per capta de (R$ 291,00) a (R$ 1.019,00) por m\u00eas. Natanielle Link Permanente 09/02/2014 13:40 Muito bem colocado. Tal qual ocorreram nas manifesta\u00e7\u00f5es de junho do ano passado, exitem aqueles que lutam por uma causa e aqueles que se aproveitam dela para fazer coisas inescrupulosas. Os rolezinhos est\u00e3o sendo, sim, visto como uma forma de \u201c bandidagem \u201d , mas essa \u00e9 a minoria que a m\u00eddia mostra como sendo a regra. Gilberto Medeiros Link Permanente 05/02/2014 17:59 Desculpe colega, mas as institui\u00e7\u00f5es citadas s\u00e3o todas da al\u00e7ada do governo, se tem empregados de menos, \u00e9 cu lpa deles, n\u00e3o dos desempregados. Ademais, a hist\u00f3ria sempre denunciou esse tipo de fato: toda vez que algu\u00e9m \u00e9 esquecido, ele desenvolve uma forma de chamar a aten\u00e7\u00e3o: essa \u00e9 uma das formas em foco no Brasil no memento. Vin\u00edcius de Oliveira Bessi Link Permanente 23/01/2014 12:23 Vou na mesma linha de interpreta\u00e7\u00e3o deste fen\u00f4meno social e acontecimento hist\u00f3rico Boff. A grande mudan\u00e7a social e pol\u00edtica dada em 2002, aos moldes eleitorais da pseudo Democracia (que na verdade \u00e9 uma terra de oligarquias financeiras, ou seja, uma Plutocracia) veio de um acordo entre o Partido dos Trabalhadores e as elites pol\u00edticas e econ\u00f4micas do pa\u00eds, que distinta das elites sociais dadas nas classes m\u00e9dias, branca, crist\u00e3 e conservadora, permitiu com que o Partido fizesse seus programas sociais desde que estes n\u00e3o incomodassem a l\u00f3gica estrutural do sistema. A maneira com que o PT conseguiu resolver esta equa\u00e7\u00e3o foi aproveitar o boom das commodities pela procura a peso de ouro da Chin a por esse tipo de mercadoria, o que ampliou a produtividade e o or\u00e7amento do pa\u00eds consideravelmente, substituindo a d\u00edvida externa do FMI para uma d\u00edvida interna na especula\u00e7\u00e3o dos juros dos t\u00edtulos da d\u00edvida p\u00fablica nacional e fazendo com que a sobra fosse para o social, como o bolo \u00e9 maior o peda\u00e7o da sociedade acabou sendo maior que anteriormente tamb\u00e9m, apesar que comparando proporcionalmente ao novo tamanho do bolo, acabou n\u00e3o sendo uma diferen\u00e7a percentual relevante. Ent\u00e3o o esquema foi bem montado, a base do governo se elege com o financiamento privado de campanha e todo o suporte corporativo e do sistema financeiro, depois de se empossar dos seus cargos pagam as suas d\u00edvidas contra\u00eddas com seus financiadores nas campanhas instrumentalizando a m\u00e1quina burocr\u00e1tica do aparelho estatal os sustentando com os juros e separando uma parte para os programas sociais que mais inclu\u00edram os exclu\u00eddos a l\u00f3gica capitalista do trabalho e mercado do que \u201c melhorou \u201d de fato a vida destes. Agora os antes mortos de fome, desempregados, sem casa, luz, \u00e1gua ou eletrodom\u00e9sticos b\u00e1sicos conseguiram entrar no mundo do trabalho e do mercado de consumo. Agora j\u00e1 est\u00e3o tendo sua for\u00e7a de trabalho explorada e com o troco que ganham, a facilita\u00e7\u00e3o do cr\u00e9dito e o fetiche estimulado pela propaganda e a ind\u00fastria cultural fizeram com que esses exclu\u00eddos emergissem de alma e corpo para o mundo da inclus\u00e3o l\u00f3gica do sistema. O problema \u00e9 que os segmentos conservadores da sociedade n\u00e3o os aceitam, nasceram e cresceram sob o desejo da distin\u00e7\u00e3o social pelo status dos seus espa\u00e7os e pr\u00e1ticas exclusivas, a chegada dos pobres ao seu mundo e fazendo o que eles sempre fizeram, os abalaram. Antes eram as elites sociais conservadoras da classe m\u00e9dia que se apropriava da cultura marginal para elitiz\u00e1-la e torn\u00e1-la parte dos seus s\u00edmbolos de status como fizeram com o Rock, o Jazz, o Soul, o Samba, o Rap e o Hip Hop, agora eles est\u00e3o provando do mesmo rem\u00e9dio com os pobres no funk da ostenta\u00e7\u00e3o, agora \u00e9 a cultura da elite que est\u00e1 sendo tr ansformada em cultura marginal, cultura de periferia. Talvez essa seja a grande ofensa ao meu ver que esses jovens estejam fazendo na cabe\u00e7a das elites. Ao lutar pela sua aceita\u00e7\u00e3o nos centros de legitimidade social como eles s\u00e3o e mostrando que eles j\u00e1 tem o poder para pegar de volta a sua cultura popular que fora sequestrada para a elitiza\u00e7\u00e3o e industrializa\u00e7\u00e3o. Reblogged this on Franz Frajick and commented: Daqueles que n\u00e3o precisam de maiores explica\u00e7\u00f5es \u2026 Dilson Link Permanente 23/01/2014 12:39 A rea\u00e7\u00e3o estava demorando. Estavam tranquilos enquanto as vagas universit\u00e1rias p\u00fablicas eram exclusivas, quando o bolsa fam\u00edlia mantinha calmas as pessoas menos favorecidas e quando as pessoas se restringiam a seus guetos. Nem mesmo o direito de desmbarcar pr\u00f3ximo a seus patr\u00f5es tiveram (Metro no Morumbi). Manes, Tecel, Fares. damari s r santos Link Permanente 02/02/2014 21:23 rolezinho no  shoppings nada a ver eu nunca vi um pobre ser espulso do shoppings por ser pobre  e so trabalhar receber e ir as compras  em rela\u00e7ao as pra\u00e7as eu sou contra porq eles se reuni pra usar drogas embebedar meninas e drogar quem quer se diverti o mundo e grande tem muito laser o ibirapuera museus em fim depois ninguen e obrigada ficar ouvindo essas mucicassem sentido vai dart um rolezinho na escola pra estudar que o governo da material de grassa  se formar ficar rico pra ir as compras a desingalkdade quem fas e nos mesmo eu sou pobre mas sou culta rolezinho que indiota so rebaixa mais os pobres Emanuel Scariot Link Permanente 23/01/2014 12:42 Quando Bla bla bla Marxista, todo mundo tem acesso livre no shopping basta saber se comportar e ter um m\u00ednimo de respeito, mesmo pobres, qualquer um que se esforce, que tenha vontade de trabalhar e n\u00e3o tenha pregui\u00e7a de estudar consegue seu lugar ao sol. A vida n\u00e3o pode ser igual pra todos, cada um ganha conforme seu merecimento. Com esse discurso s\u00f3 v\u00e3o criar uma gera\u00e7\u00e3o de coitadinhos que se acham menos que os demais porque s\u00e3o pobres. Isso n\u00e3o esta certo. Coitadinho \u00e9 aquele que pensa que os rolezinhos s\u00e3o coitadinhos. lboff Helio Link Permanente 23/01/2014 23:11 Manoel, concordo com vc e diria muito mais, se o \u201c cerne \u201d de tanta explica\u00e7\u00e3o marxista leninista n\u00e3o fosse o caso aqui. Esses s\u00e3o os que eram tidos como inimigos do estado na ditadura,,,,,,como se ve, nem todos morreram!!!!! 24/01/2014 23:19 Helio, A ignor\u00e2ncia n\u00e3o ajuda a ninguem e muito menos a vc. O artigo n\u00e3 o tem nada de marxismo leninismo.Vc vive em esquemas passados, na verdade em espantalhos que lhe meteram na cabe\u00e7a. lboff Repolho Link Permanente 24/01/2014 9:53 Mas que bosta de resposta ,ein Boff?! Como \u00e9 med\u00edocre ver um velho se dizer socialista. \u00c9 como ver uma crian\u00e7a que nunca saiu das fraldas! \u201c nem sequer servem de carv\u00e3o  para o consumo de nossa f\u00e1brica social \u201d - Como voc\u00ea explica o fato das maiores redes de shopping do Brasil terem se voltado para o p\u00fablico da classe C/D? \u201c Eles est\u00e3o com seu comportamento rompendo as barreiras do apartheid social \u201d - Quanta demagogia! Romper barreiras sociais \u00e9 promover o caos em espa\u00e7os privados, atrapalhando o bem estar de quem n\u00e3o tem nada a ver com um problema gerado, em grande parte, pela m\u00e1 administra\u00e7\u00e3o p\u00fablica? \u201c N\u00e3o \u00e9 suficiente transferir renda; tem que criar oportunidades e oferecer servi\u00e7os \u201d - A constata\u00e7\u00e3o do \u00f3bvio! Falta investimento na educa\u00e7\u00e3o de base, que \u00e9, de fato, uma das maiores causas do abismo cultural entre classes, e a raz\u00e3o pela qual \u201c movimentos \u201d como o \u201c rolezinho \u201d existem. \u201c Esse tipo de sociedade pode ser chamada ainda de humana e civilizada? \u201d - Como \u00e9 poss\u00edvel entrar no disc urso da civilidade, defendendo um movimento que nada mais \u00e9 que a express\u00e3o da falta de respeito pela ordem?! Esse \u00e9 o tipo de discurso fajuto feito para alimentar os pseudo-intelectuais de esquerda. Soci\u00f3logos de araque, que ao inv\u00e9s de criticarem a forma como as coisas s\u00e3o feitas, apresentando solu\u00e7\u00f5es concretas, criticam apenas os resultados, como um problema gerado unicamente pelo sistema econ\u00f4mico vigente. 24/01/2014 22:52 Repolho Seu nickname j\u00e1 diz tudo. Vc \u00e9 um legitimo representante da pequena burguesia rancosa que so pensa em seu umbigo e n\u00e3o tem misericordia para com os que sofrem. Gente como vc n\u00e3 ajuda a construir um outro Brasil mas manter este que o beneficia privadamente. lboff Luiz Carlos Hummel Manzione Link Permanente 29/01/2014 15:36 Sr. Boff Ler seu artigo \u00e9 coisa t\u00e3o antiquada e fora de prop\u00f3sito quanto ler um editorial do Politiburo Sovietico dos anos 30 depois da tomada do poder pelo Comissario Chefe Stalin . 29/01/2014 17:09 Luiz Carlos ve-se que vc \u00e9 formado pela imprensa mais reacion\u00e1ria que existe.Meus parabens, vc. pertence a um dos infinitos identificados por Einstein. Seguramente vc nem tinha nascido quando o Politburo escreveu um editorial. Entao est\u00e1 inventando ou esteve presente l\u00e1 e guarda com saudades na memoria boff Maria Jos\u00e9 Link Permanente 23/01/2014 23:30 As oportunidades n\u00e3o s\u00e3o iguais para todos e as informa\u00e7\u00f5es necess\u00e1rias ao crescimento social n\u00e3o bate em todas as portas. Luiz Carlos Hummel Manzione Link Permanente 30/01/2014 10:40 Eu tamb\u00e9m n\u00e3o estive presente na Firenze do final do s\u00e9culo XV , o que n\u00e3o me impede de conhecer algumas particularidades do Rinascimento. Sua presun\u00e7\u00e3o e certeza de ser um farol para a sociedade \u00e9 uma prova irrefut\u00e1vel de sua  estupidez . damaris r santos Link Permanente 02/02/2014 21:33 o governo nuca postou na educa\u00e7ao como agora bons livros boa alimenta\u00e7ao so que ninguem quer estudar vai pra escola espancar os prof e diretores isso quando vao  nao estamos se tratando de crian\u00e7as que querem se diverti mas de jovens que queren faser baderna usar drogas Maur\u00edcio MP Link Permanente 23/01/2014 23:39 Interessante coloca\u00e7\u00e3o do Emanuel , que tem muita raz\u00e3o: com tanto emprego nesse pa\u00eds (placa de \u201c Precisa-se \u201d pra todo lado!) e faculdade barata, fica muito dif\u00edcil dizer que n\u00e3o conseguem estudar e ter um futuro decente. N\u00e3o estamos mais nos anos 90. Mas vejo v\u00e1rios pontos cruciais que ningu\u00e9m viu e est\u00e1 ausente, ou n\u00e3o tem \u00eanfase no texto: 1. o rolezinho nada mais \u00e9 que uma tentativa inconsciente da popula\u00e7\u00e3o de retomar o espa\u00e7o p\u00fablico privatizado. Denuncia uma cidade que s\u00f3 sabe construir shopping center, e pior, de luxo. 2. Este espa\u00e7o foi privatizado de forma muito elitista: antes tinha o shopping de classe m\u00e9dia e os pobres n\u00e3o tinham nada. Depois fizeram o de classe m\u00e9dia alta (1a. reforma do Iguatemi) e shopping de pobre. Hoje temos v\u00e1rios shoppings de luxo (classe A), de milion\u00e1rios (AA) onde se chega apenas de carro, e uma explos\u00e3o de shoppings populares e/ou pobres. \u00c9 um apartheid comercial. Basta dizer que o shopping Villa Lobos sequer tem liga\u00e7\u00e3o terrestre com o Parque Villa Lobos, MESMO sendo um baita parque super chique frequentado por todo mundo \u2026 pois esse \u00e9 o problema: a avers\u00e3o dos shoppings \u00e0 TODO MUNDO. Precisa uma reforma aqui: demolir metade dos shoppings e no lugar deles criarmos pra\u00e7as, bibliotecas, clubes populares com piscinas, enfim lugares de conviv\u00eancia saud\u00e1vel. Maur\u00edcio MP Link Permanente 23/01/2014 23:46 Esqueci e acrescento: no shopping Villa Lobos se priorizou tanto o carro, \u00e9 T\u00c3O elitizado, que pra vc entrar \u00e0 p\u00e9 \u00e9 obrigado a passar por uma estreita cal\u00e7ada e disputar espa\u00e7o com os carros em alta velocidade na marginal \u2026 o que carrega um profundo simbolismo, afinal quem vai \u00e0 p\u00e9 \u00e9 literalmente MARGINALIZADO! A tal ponto que ano passado, ao voltar do shopping \u00e0 p\u00e9 pela marginal (para chegarem ao seu carro, que elas e n\u00f3s do bairro estacionamos numa pra\u00e7a para fugir dos pre\u00e7os absurdos do estacionamento!!), uma m\u00e3e e uma filha foram brutalmente assassinadas ao serem atingidas por um ve\u00edculo em alta velocidade, \u00e0s 10h da noite, porque o shopping FOI INCAPAZ DE FAZER SEQUER UMA PASSARELA para que os pedestres alcancem seu templo. Que tipo de dem\u00eancia capitalista faz um shopping fazer isso? Ent\u00e3o por esse lado, entendo e ap\u00f3io os rolezinhos. Por mais chance de estudar que eles tenham, \u00e9 injustific\u00e1vel tal elitiza\u00e7\u00e3o do espa\u00e7o p\u00fablico. 24/01/2014 6:26 \u00c9, Emmanuel, \u201c Todo mundo tem o seu lugar ao sol \u201d . Deve ser por isso que os filhos do Eike Batista que gostam de dizer que nunca trabalharam nem leram um livro, andam por a\u00ed com seus carros importados, pq todos s\u00e3o iguais!!! Juliano Link Permanente 24/01/2014 14:43 Eu recomendo a voc\u00ea que v\u00e1 ler um pouco mais e se informe, para que, quem sabe um dia, consiga se livrar deste pensamento enraizado que colocaram na sua cabe\u00e7a, o famoso pensamento burgu\u00eas de que o trabalho que enaltece o homem. A vida talvez n\u00e3o seja igual para todos, mas as oportunidades devem ser. \u201c Saber se comportar \u2026 \u201d ? O burgu\u00eas s\u00f3 enxerga a pobreza quando ela invade seu espa\u00e7o. Os shopping \u2019 s s\u00f3 foram o primeiro lugar. Pare de falar besteira por a\u00ed, voc\u00ea deve se ach ar merecedor por aquilo que tem n\u00e9? Mas n\u00e3o se esque\u00e7a que para o resto das pessoas a vida n\u00e3o foi f\u00e1cil como a sua. Deveria ter vergonha desse seu discurso. simone sarmento lima Link Permanente 23/01/2014 12:49 Primeiramente, um senhor 2014 de muita sa\u00fade e paz! O texto \u00e9 muito bom. Mas \u2026 apesar das explica\u00e7\u00f5es bem abalizadas, n\u00e3o poderemos faz\u00ea-las justificativas. Se os jovens almejam o que veem, precisam correr atr\u00e1s estudando. Com estudo, aprende-se a lutar e a chegar l\u00e1.N\u00e3o foram \u00e0s ruas fazer as reivindica\u00e7\u00f5es? E, ent\u00e3o? Quando se quer, se faz, mesmo com muito sacrif\u00edcio, mesmo com as poucas oportunidades de emprego, mesmo xingando, mesmo revoltados! Mas n\u00e3o podemos invadir o espa\u00e7o alheio, invadir as fronteiras. Se as fronteiras do poder est\u00e3o fechadas, se s\u00e3o preconceituosas, se s\u00e3o debochadas, se continuam as mesmas. Algo est\u00e1 errado. E, esse errado, s\u00e3o essas pessoas que votamos e que n\u00e3o nos representam. A problem\u00e1tica hoje, \u00e9 querer tudo f\u00e1cil. a maioria de todos n\u00f3s J\u00e1 escutei uma crian\u00e7a de seis anos dizer que n\u00e3o quer ser nada quando crescer, diz que n\u00e3o gosto de estudar e que a m\u00e3e dela vai dar as coisas, porque ela n\u00e3o pediu pra nascer. Fiquei pasma! Como uma crian\u00e7a com essa idade diz isso? Uma crian\u00e7a falando assim!!!!!!!!!!!!! Isso n\u00e3o \u00e9 fala de crian\u00e7a! ??????????????????? Estamos numa \u00e9poca de perigos permitidos, consentidos pelas fam\u00edlias, pela sociedade, pelo poder que nos governa. De fato, essa sociedade n\u00e3o \u00e9 humana e muito menos, civilizada. \u00c9 oportunista. E se insistirmos com essa fala, com esse pensar, somos chamados de retr\u00f3grados, intransigentes,desumanos e contra os desfavorecidos. Vivemos uma crise, estamos sem referenciais, sem l\u00edderes. Claro que buscamos oportunidades, s\u00f3 que, com responsabilidades. Vejo os rolezinhos como viol\u00eancia!! Fernanda Link Permanente 24/01/2014 14:58 Perfeito coment\u00e1rio \u2026 as vezes me cansa discutir esse fenomeno social com a esquerda caviar ou os militantes partidarios que so sabem \u201c se defender \u201d nos acusando de conservadoras, coxinhas de direita. Sao criancas que tem realmente restricoes de acesso a lazer, educacao e saude, mas que nao almejam nada maior, pois isso significaria consciencia social e muito esforco. Sandra Maria Zanello de Aguiar Link Permanente 23/01/2014 12:50 Aprendemos (heran\u00e7a cultural), a n\u00e3o conviv\u00eancia com pessoas de classe social inferior. Somente as reconhecemos e nos aproximamos  na condi\u00e7\u00e3o de servilid\u00e3o, ou quando o nosso interesse volta-se a investiga\u00e7\u00e3o de fen\u00f4menos sociais originados dessa camada da popula\u00e7\u00e3o invis\u00edvel. Aoleabe Dalamaria Link Permanente 23/01/2014 12:50 Muito interessante seu texto, muito mesmo! At\u00e9 t\u00e3o pouco tempo n\u00e3o tinha visto um argumento baseado na ess\u00eancia do problema, visto que o que a m\u00eddia faz \u00e9 desviar os fatos para n\u00e3o acordar o povo. Mais pessoas deveriam de pensar sobre isso e ent\u00e3o uma grande parte da massa estar ciente de qual o verda deiro motivo disso tudo. Gra\u00e7as a Deus a internet ainda serve para muitas coisas boas, uma que \u00e9 exatamente onde o senso cr\u00edtico de algumas pessoas capacitadas possam estar servindo de \u201d meio \u201d para a abertura de uma nova vis\u00e3o pol\u00edtica, pois se depender dos nossos governantes, continuaremos sempre burros. joao marcos silva de miranda Link Permanente 23/01/2014 12:59 A sociedade  \u00e9 injusta n\u00e3o resta duvidas,mas achar que esses jovens protestam da forma   certa ai j\u00e1 acho um absurdo!..todo mundo \u00e9 reprimido de alguma forma..e ser uma pessoa boa pro mundo significa superar essas defici\u00eancias pois somos todos culpados pela sociedade que temos,..dizer que um grupo de pessoas que est\u00e3o no poder s\u00e3o os \u00fanicos respons\u00e1veis por todas injusti\u00e7as sociais que existem \u00e9 negar o fato de que todos n\u00f3s somos partes das estruturas sociais desde pol\u00edticos ,funcion\u00e1rios p\u00fablicos ate os pr\u00f3prios indiv\u00edduos das periferias.. Carmen Lucia Ramos Correa Link Permanente 27/01/2014 9:07 Concordo . Venho lendo desde o primeiro depoimento e vi tantas coisas com as quais n\u00e3o pude concordar. Mas foi bom saber como cada um pensa a respeito para poder tamb\u00e9m tirar minhas conclus\u00f5es. Thiago H P Link Permanente 23/01/2014 13:23 Boa tarde, gostaria de tirar uma d\u00favida: Sempre estudei em escolas p\u00fablicas, e nesse per\u00edodo, ainda trabalhei. Todos os dias eu acordava as 5 da manha para poder estudar e s\u00f3 ia dormir \u00e0s 2 da manha. Foi dif\u00edcil? Claro! Mas n\u00e3o me via como um coitadinho. Eu poderia ter ido em muitos \u201c rolezinhos \u201d , mas preferi investir em \u201c outras coisas \u201d . Hoje tenho um padr\u00e3o de vida superior a da popula\u00e7\u00e3o brasileira, e n\u00e3o me vejo como um burguesinho classe m\u00e9dia. Eu lutei  muito para conseguir realizar meu sonho, e a quest\u00e3o financeira \u00e9 um b\u00f4nus. Desculpe se sou um leigo no assunto, mas voc\u00eas n\u00e3o est\u00e3o tentando criar um modelo de sociedade que enaltece o \u201c coitadinho \u201d ? Espero que n\u00e3o me entendam mal, fui podre ao ponto de nem dividindo em 50x, conseguiria comprar uma camiseta de \u201c marca \u201d . A quest\u00e3o \u00e9 que vejo muitas pessoas tentando criar a ideia do pobre-favelado que quer ser enxergue pela sociedade, mas que em momento algum, d\u00e3o o parecer sobre esses jovens buscarem educa\u00e7\u00e3o. As ideias de Nietzsche se encaixam bem no assunto, Ent\u00e3o a pergunta \u00e9: Eu estou errado em falar que esse jovens, na verdade, deveriam \u00e9 estar preocupados com outros assuntos? Sabendo claro que todos temos o direito \u201c ao lazer \u201d , Desculpe se ofendi algu\u00e9m, ou se n\u00e3o tenho muito conhecimento do assunto. Apenas acho que alguns profissionais se esquecem de que a vida n\u00e3o \u00e9 f\u00e1cil para ningu\u00e9m, e ficar passando a m\u00e3o na cabe\u00e7a, talvez n\u00e3o seja o melhor caminho. Bryan Ferreira Nunes de S\u00e1 Link Permanente 24/01/2014 1:39 Hey, cara, tamb\u00e9m j\u00e1 pensei assim, depois de um tempo mudei, e lendo isso, acho que pode te fazer refletir um pouco, olha: http://diegoquinteiro.com/o-que-aprendi-na-escola-publica/ se quiser, conte o que acha!!! Winston de Andrade Link Permanente 25/01/2014 0:46 Gostei do  que escreveu o Thiago H P. J\u00e1 vimos neste nosso pa\u00eds muitos pseudo-intelectuais conduzindo o povo para determinados caminhos ruins \u2026 .e vendendo seus livros. Muitos artistas que lucraram \u201c combatendo \u201d a ditadura militar com vida burguesa \u2026 Cada um vendendo o seu produto ! Acho que voce, Thiago, n\u00e3o deve ficar pedindo desculpas por achar que n\u00e3o entende o que intelectuais ficam dizendo \u2026 porque voce de fato, \u00e9 um dos brasileiros que na verdade mais entendem de como se deve levar a vida \u2026 Lutando, estudando, trabalhando e sobretudo respeitando os outros, respeitando os bens dos outros \u2026 ..At\u00e9 porque h\u00e1 a\u00ed um respeito \u00e1 \u00e9tica que nos foi apresentada. Do que menos gosto no nosso pa\u00eds \u00e9 desses intelectuais que ficam em masturba\u00e7\u00f5es mentais, querendo ditar regras equivocadas, como se os Homens fossem todos iguais e, consequentemente, merecedores iguais de tudo o que pode haver de bom \u2026 . Todos deviamos sim, ter acesso aos meios para nos desenvolvermos de acordo com nossas escolhas \u2026 mas isso n\u00e3o justifica o desrespeito ao bem alheio, muitas vezes conseguido com \u00e1rduo trabalho de muitos anos. No Brasil de minha \u00e9poca de menino, conseguiamos estudar nas boas Escolas p\u00fablicas de que dispunha-mos. E hoje, n\u00e3o conhe\u00e7o ningu\u00e9m que queira realmente estudar ou trabalhar, que n\u00e3o possa faz\u00ea-lo. Quando se quer \u2026 se faz ! Com toda a dificuldade que pode haver e h\u00e1 \u2026 O resto \u2026 .\u00e9 bl\u00e1 bl\u00e1 bl\u00e1 \u2026 dos intelectuais que temos, que, no fundo, no fundo \u2026 .tamb\u00e9m est\u00e3o exercendo o marketing de seus produtos \u2026 \u2026 os artigos que escrevem e que lhes rendem dividendos \u2026 . Conterr\u00e2neos \u2026 .vamos estudar e trabalhar \u2026 .e conseguir o acesso ao que desejamos, de uma forma honesta e legal, respeitando o que outros conquistaram \u2026 .como nos foi ensinado por outros tantos brasileiros mais velhos e ilustres pelo exemplo que nos deram. Quem desres peita os direitos alheios deve ser punido exemplarmente, antes de mais nada \u2026 . Montez Link Permanente 26/01/2014 19:38 Parab\u00e9ns, Winston, \u00e9 por a\u00ed mesmo. Esses pseudo-intelectuais podem dizer foda-se a quem ralou a vida inteira, mas esses mesmos intelectuais nunca passaram necessidades, mesmo inteligentes, tiveram acesso \u00e0s melhores escolas e universidades, inclusive no exterior, enquanto eu e voc\u00ea e o resto da popula\u00e7\u00e3o m\u00e9dia temos uma educa\u00e7\u00e3o mais ou menos, somos assaltados todos os dias a m\u00e3o armada por \u201c di menor \u201d , e ainda lhes passam a m\u00e3o na cabe\u00e7a, pois eles n\u00e3o tem culpa, culpa temos n\u00f3s, Winston, que n\u00e3o fazemos rolezinho, que n\u00e3o somos sem da tal \u201c burguesia \u201d , nem da comunidade do funk. Adriano Tardoque Link Permanente 23/01/2014 13:37 Repreender, proibir e destruir jamais colaborar\u00e1 para a compreens\u00e3o e assimila\u00e7\u00e3o de qualquer tipo de manifesta\u00e7\u00e3o popular. E recusar o di\u00e1logo \u00e9 fazer sempre incorrer nas solu\u00e7\u00f5es antidemocr\u00e1ticas, segregacionistas, excludentes e violentas. 23/01/2014 13:40 Po ucas vezes na minha vida tive o desprazer de ler tanta asneira. O \u201c rolezinho \u201d pode at\u00e9 ser um fen\u00f4meno social que estamos ainda aprendendo a lidar, mas DUVIDO que na escola p\u00fablica dos pequenos bandidinhos, que v\u00e3o aos shoppings para cometer furtos ( E ISSO \u00c9 UM CRIME ), n\u00e3o tenha livros a t\u00edtulo de empr\u00e9stimos, um laborat\u00f3rio, ainda que mal equipado, com alguma estrutura para se fazer algum estudo de biologia, qu\u00edmica e/ou f\u00edsica. Professores serem escassos na rede p\u00fablica, concorde que faltam sim em diversas disciplinas, mas e as que tem? E por que n\u00e3o dar um \u201c rolezinho \u201d na biblioteca? Nas institui\u00e7\u00f5es que oferecem ensino profissionalizante gratuito aos jovens como \u00e9 o caso da ETEC no estado de S\u00e3o Paulo, do CENTEC no estado do Cear\u00e1 e diversos outros centros estaduais de ensino p\u00fablico e gratuito? Nas \u00e1reas de extens\u00e3o das universidades p\u00fablicas que os alunos tem de oferecer \u201c mini-cursos \u201d , ou ir estagiar em salas de aulas,  nas \u00e1reas como Letras, Matem\u00e1tica, Geografia, Hist\u00f3ria, Biologia e tantas outras? Por que esse imenso desinteresse pelo conhecimento? Queres ser odiado pelos seus colegas de trabalho? \u2013 Chegue no hor\u00e1rio, vista-se adequadamente, tenha um linguajar limpo, estude o ramo de atua\u00e7\u00e3o da empresa e se especialize no que faz. ( Quem faz isso \u00e9 ridicularizado pelos colegas de trabalho porque o brasileiro sofre da \u201d S\u00edndrome do Vara-Lata \u201c , como diria Nelson Rodrigues ). \u201d ( \u2026 ) segundo o IPEA os 10% mais pobres tiveram entre 2001-2011 um crescimento de renda acumulado de 91,2% enquanto a parte mais rica cresceu 16,6% ( \u2026 ) \u201d MENTIRAAAA, quem \u00e9 que consegue viver verdadeiramente com dignidade com R$ 80 por m\u00eas? Os pobres, principalmente no Nordeste, viraram um bando de vagabundos. Se qualquer um que estiver lendo esse texto agora chegar a uma pessoa que receba uma bolsa qualquer coisa do governo federal e oferecer R$ 50 para que essa pessoa fa\u00e7a uma faxina numa casa de 4 c\u00f4modos, a probabilidade de ouvir u m sonoro N\u00c3O \u00e9 de mais de 90%, porque a pessoa acha o ganho pouco para muito trabalho. O mesmo se chamares algu\u00e9m para ir carpir um terreno por R$ 80 o dia. Essas pessoas se acomodaram a receber sem trabalhar uma \u201c ajuda social \u201d do governo que, aos meus olhos, \u00e9 uma compra de votos institucionalizada, pois ajuda tem de ser transit\u00f3ria se n\u00e3o vira parasitismo como \u00e9 a olhos vistos no Nordeste. A nossa economia j\u00e1 est\u00e1 de l\u00edngua de fora e, como esse \u00e9 o ano das grandes mentiras, ir\u00e1 colocar o resto. O governo esp\u00fario que ai est\u00e1, artificializou o crescimento do pa\u00eds com o Minha Casa Minha Vida, que fez com que grandes somas de dinheiro fossem injetadas na economia, s\u00f3 n\u00e3o se calculou que essas fam\u00edlias ficariam endividadas pelos pr\u00f3ximos, no m\u00ednimo, 20 anos, se n\u00e3o 30 anos, pagando a t\u00e3o sonhada casa pr\u00f3pria. Com esse endividamento, n\u00e3o tem quem consuma, n\u00e3o h\u00e1 mais no pa\u00eds, gente suficiente e economicamente com dinheiro, para fazer a nossa economia girar. O que o Brasil precisa \u00e9 que os brasileiros tomem vergonha na cara e cada um tome para si a responsabilidade de ler, se informar, procurar cursos gratuitos de aperfei\u00e7oamento profissional e assim serem cidad\u00e3os capazes de se sustentarem com a \u00e1gua benta que verte da sua pr\u00f3pria testa e n\u00e3o da Bolsa Fam\u00edlia do governo. Meu nome \u00e9 Caio Lu\u00e3 Lacerda de Figueiredo, tenho 25 anos, estudei todo o meu ensino fundamental e m\u00e9dio em escola p\u00fablica, fa\u00e7o hoje um curso t\u00e9cnico DE \u201c GRA\u00c7A \u201d na ETEC \u2013 S\u00e3o Jos\u00e9 dos Campos-SP, cidade que moro a 5 anos, na \u00e1rea de Transa\u00e7\u00f5es Imobili\u00e1rias. 23/01/2014 22:53 Caio Lamento que sendo t\u00e3o jovem seja t\u00e3o alienado como seu texto mostra. O sistema capitalista precisa de gente submissa e acr\u00edtica como vc para poder funcionar. Olhe em volta,leia alguma literatura critica sobe a situa\u00e7\u00e3o social de nosso pais para vc se dar conta do sofrimento de milh\u00f5es de brasileiros condenados a viver na exclus\u00e3o. Passei a minha vida com um p\u00e9 na mis\u00e9ria e outro na faculdade. Conhe\u00e7o a pobreza mais dura, trabalhando por 17 anos nos lix\u00f5es de Petr\u00f3polis. Vc precisa se humanizar e ter um m\u00ednimo de solidariedade para com aqueles que n\u00e3o tiveram a chance que vc tem.Se n\u00e3o que vale a vida? Ganhar dinheiro,se fartar e depois? lboff Maria Abadia Barcelos Link Permanente 23/01/2014 23:36 \u00c9 extremamente f\u00e1cil criticar e julgar sem vivenciar o sofrimento e exclus\u00e3o do outro.Assim j\u00e1 vi muitos coment\u00e1rios de famosos,do tipo \u201d Copa do mundo n\u00e3o se faz com hospitais \u201d e por a\u00ed se segue.Claro vivem em um mundo capitalista e n\u00e3o sabem o que \u00e9 n\u00e3o ter dinheiro suficiente para ter acesso \u00e0s infraestruturas b\u00e1sicas sociais,que n\u00e3o s\u00e3o oferecidas em sua plenitude pelo servi\u00e7o p\u00fablico,apesar do Brasil ter os maiores impostos do mundo.Enfim,sou professora de rede p\u00fablica sei e vivencio o quanto os jovens se sentem marginalizados e sem oportunidades.Muitos realmente se sobressaem,mais nem todos possuem a mesma garra e for\u00e7a,muitos se entregam. Realmente o Caio tem uma vis\u00e3o muito restrita,uma cosmovis\u00e3o muito obsoleta e pobre,vive em seu \u201c mundinho \u201d . O ser humano nasceu para evoluir,evoluir espiritualmente,sen\u00e3o a vida n\u00e3o tem sentido algum \u2026 . Admiro-te extremamente L.Boff 24/01/2014 23:13 Maria, Seu testemunho \u00e9 valioso.Vcvem da realidade vivida e sofrida. Gostaria que muitos criticos nest blog pudessem ler seu comentario. lboff Rosi Link Permanente 23/01/2014 23:56 Grande Boff, sem entrar no m\u00e9rito que literatura imparcial indicaria? Que n\u00e3o tenha sido escrito por militantes petistas ou afins? Marcos Alexandre Link Permanente 24/01/2014 1:06 Novamente outro coment\u00e1rio infeliz do senhor, meu caro Boff. O sistema capitalista precisa de gente submissa como o Caio? N\u00e3o, o Universo precisa de pessoas trabalhadoras e dedicadas como ele, que n\u00e3o aceitam o assistencialismo do governo, tanto de esquerda como de direita! E literatura cr\u00edtica seria algum dos seus 60 livros? Interessante que as pessoas que n\u00e3o apoiam sua opini\u00e3o sejam t\u00e3o humilhadas na sua r\u00e9plica. \u00c9 isso que o senhor aprendeu em todos os seus anos de celibato?? N\u00e3o sei se o senhor conhece Carlos Casta\u00f1eda e seu livro \u201c A erva do Diabo \u201d (o nome n\u00e3o tem qualquer rela\u00e7\u00e3o com drogas il\u00edcitas, s\u00f3 menciona as experi\u00eancias e viv\u00eancias do autor com o \u201c brujo \u201d Dom Juan. Acredito que seja uma leitura v\u00e1lida para algu\u00e9m que acredita no eucumismo) onde ele fala dos quatro inimigos do homem na busca de conhecimento! Trago um trecho parafraseado que apresentei em minha Universidade \u2013 que por sinal, \u00e9 cat\u00f3lica, se diz filantr\u00f3pica e tem as mensalidades mais caras do Distrito Federal. \u201c Ao iniciar o processo de aprendizagem o indiv\u00edduo al\u00e9m de n\u00e3o possuir crit\u00e9rios para basear a defini\u00e7\u00e3o dos seus objetivos, desconhece as dificuldades que ser\u00e3o enfrentadas ao longo do caminho. Por\u00e9m, ele come\u00e7a a aprender lentamente e com o tempo as por\u00e7\u00f5es tendem a crescerem. \u00c0 medida que adquire o saber, o indiv\u00edduo enfrenta o MEDO \u2013 de fracassar, de n\u00e3o estar devidamente capacitado para determinada situa\u00e7\u00e3o e v\u00e1rias outras ideias pessimistas. Mas \u00e9 preciso desafiar o medo e avan\u00e7ar para o est\u00e1gio seguinte, e o seguinte, e o seguinte. N\u00e3o deve abandonar por completo o medo, mas n\u00e3o deve parar! E a partir do momento que passa a se sentir seguro de si, seu prop\u00f3sito estar\u00e1 definido. A CLAREZA obtida com a supera\u00e7\u00e3o do medo permitir\u00e1 ao homem antecipar o desenvolvimento do processo de aprendizagem, pois j\u00e1 conhecer\u00e1 seus desejos/necessidades e saber\u00e1 o que deve fazer para satisfaz\u00ea-los. Essa mesma clareza pode cegar, quando o indiv\u00edduo passa a nunca duvidar de si, tornando-se um corajoso inconsequente que se precipita quando deveria ser paciente ou que \u00e9 paciente quando deveria se precipitar. Para encontrar o equil\u00edbrio desse sistema \u00e9 necess\u00e1ria a realiza\u00e7\u00e3o de um processo similar \u00e0 supera\u00e7\u00e3o do medo: desafiar a clareza e usa-la somente para ver, esperando com paci\u00eancia e medindo seus passos antes mesmo que eles sejam dados. E finalmente, compreender\u00e1 que a clareza \u00e9 quase um erro, sendo apenas um ponto diante de sua vista. Ao vencer a clareza, o homem est\u00e1 em uma posi\u00e7\u00e3o que nada mais poder\u00e1 prejudica-lo, que suas a\u00e7\u00f5es n\u00e3o ser\u00e3o mais um engano por que ele v\u00ea tudo a sua volta. Este \u00e9 o PODER, o mais forte de todos os inimigos no caminho do conhecimento e naturalmente \u00e9 o mais f\u00e1cil de ser vencido, afinal o homem \u00e9 realmente invenc\u00edvel quando deseja. E novamente ser\u00e1 necess\u00e1rio o enfretamento de um estado de esp\u00edrito para a supera\u00e7\u00e3o do mesmo, controlando-se em todas as ocasi\u00f5es, com cuidado e lealdade a tudo que aprendeu. Dever\u00e1 entender que a clareza e o poder \u2013 quando n\u00e3o s\u00e3o controlados \u2013 s\u00e3o piores do que os erros e sendo assim, ir\u00e1 se encontrar no final da jornada para tornar-se um homem de conhecimento. Quase sem perceber, chegar\u00e1 o \u00faltimo obst\u00e1culo: a VELHICE! E este \u00e9 o mais cruel de todos, pois n\u00e3o pode ser derrotado completamente, mas apenas afastado. \u00c9 o momento que o homem n\u00e3o tem mais receios/impaci\u00eancias e todo seu poder est\u00e1 controlado, mas tamb\u00e9m \u00e9 o momento que ele sente necessidade de descansar. Mas se ele ceder ao desejo, se afundando na fadiga, ter\u00e1 sido derrotado no \u00faltimo round, tornando-se uma criatura velha e d\u00e9bil. Se ao inv\u00e9s de entregar-se, viver o seu destino completamente, poder\u00e1 ser chamado de um homem de conhecimento, nem que seja no breve instante da supera\u00e7\u00e3o de seu \u00faltimo obst\u00e1culo at\u00e9 a sua morte. \u201d (N\u00e3o encontrei a vers\u00e3o final, s\u00f3 o rascunho do trabalho) Mas enfim, percebo que o senhor ainda est\u00e1 perdido no seu terceiro inimigo.. Faltando-lhe humildade em usar o poder que o conhecimento lhe trouxe! 24/01/2014 23:07 Marcos Alexandre Acho que vc deve ser bem mais velho do que eu (tenho 75)para se arrogar a dar tantos e t\u00e3o s\u00e1bios conselhos. lboff Ana Mello Link Permanente 24/01/2014 8:16 A quest\u00e3o, \u00e9 que essa consci\u00eancia \u2018 e interpretacao da elite e nao dos agentes no \u201c rolezinho \u201d , eles apenas \u201c vao \u201d , mas nem sabem bem o porque. Fazendo um movimento no fundo vazio, sem sentido concreto. Marcio Medina Cortez Link Permanente 24/01/2014 8:20 Boff, poderia me indicar algumas literaturas criticas sobre a situa\u00e7\u00e3o social de nosso pais confi\u00e1veis? Um grande abra\u00e7o ! 24/01/2014 22:57 Marcio, Leia o Boletim Carta Maior. Ai escrevem os melhores analistas brasileiros. \u00c9 so buscar no Google,preencher os dados e recebe no e-mail diariamente de gra\u00e7a lboff Claudia Link Permanente 24/01/2014 11:12 Senhor Leonardo: a mInha fam\u00edlia \u00e9 de origem pobre. MInha m\u00e3e sempre dizia, \u201c n\u00e3o pe\u00e7a tal coisa porque mam\u00e3e n\u00e3o pode comprar \u201d . Nunca tive roupas ou t\u00eanis de marca, e meus amigos tinham. Nem por isso me achei no direito de \u201c zoar \u201d ou botar o terror em propriedade alheia ou querer roubar do outro o que eu quero ou acho que tenho direito. Sempre estudei e trabalhei para conseguir minhas coisas, isso foi o que me ensinaram. Acho que fomentar a luta de classes \u00e9 s\u00f3 uma das estrat\u00e9gia do governo, como \u00e9 feito faz s\u00e9culos, para dividir e enfraquecer o povo, para melhor domin\u00e1-lo. Coisa que o PT est\u00e1 fazendo com maestria. Os rolezinhos nunca tiveram esse cunho de reivindica\u00e7\u00e3o como alguns querem nos fazer acreditar. O nosso sistema capitalista \u00e9 falho? Com certeza! Mas n\u00e3o \u00e9 o socialismo que vai salvar o povo da mis\u00e9ria e da exclus\u00e3o social. Primeiro porque o poder fica TODO nas m\u00e3os do governo e nenhum servi\u00e7o p\u00fablico presta hoje, porque prestaria se tudo fosse estatizado? Continuar\u00edamos com uma classe privilegiada, que seriam as pessoas do governo e os setores ligados  a ele, o resto permaneceria na mis\u00e9ria, Como ocorre na Cor\u00e9ia do Norte, Cuba e etc. \u00c9 o ego\u00edsmo e a gan\u00e2ncia desenfreada das pessoas que impedem uma sociedade justa e isso independe de ser capitalismo, socialismo, etc. Caio Figueiredo Link Permanente 24/01/2014 14:43 Eu sou cearense, vim da terra que critiquei, vi com os meus olhos a desgra\u00e7a que o assistencialismo provocou no meu povo iletrado e inculto. Quanto a suas origens, tirando a parte de trabalhar no lix\u00e3o, a minha foi igual como o \u00e9 at\u00e9 hoje. Minha m\u00e3e foi faxineira da escola p\u00fablica que estudei e ai de mim se tirasse notas baixas, respondesse com mal cria\u00e7\u00e3o aos meus professores. Fui impelido por ela, a minha m\u00e3e, a estudar, a buscar as oportunidades que essa p\u00e1tria p\u00fatrida e desgra\u00e7ada m\u00e9 d\u00e1 at\u00e9 hoje. H\u00e1, estou esperando o senhor ou qualquer esquerdista me desmentir no que falei quanto a educa\u00e7\u00e3o: Faltam livros sob empr\u00e9stimos nas escolas p\u00fablicas? O que os impede de estudar? O que os impede de ir buscar os cursos t\u00e9cnic os de alta qualidade ofertados pelo SENAI pa\u00eds a fora e conseguir um bom trabalho fruto de sua qualifica\u00e7\u00e3o? Em muitas escolas p\u00fablicas estaduais de S\u00e3o Paulo, tem, DE GRA\u00c7A, cursos de l\u00edngua estrangeira ofertado aos estudantes e TODOS OS ANOS \u00e9 um parto para se conseguir formar turmas por causa do baixo interesse dos alunos, por que os \u201c estudantes \u201d , os coitadinhos marginalizados pelo sistema que ai est\u00e1, preferi ir para uma pracinha que tem pr\u00f3ximo a escola fumar maconha, pedra, e conversar sobre com quantas meninas est\u00e3o ficando. O senhor deveria sair da sua sala de estudos e ir as escolas p\u00fablicas das periferias, conversas com os professores dessas escolas antes de sai publicando essas asneiras. Sei dessas coisas porque a minha sala de aula, onde fa\u00e7o o meu curso t\u00e9cnico DE \u201c GRA\u00c7A \u201d , fica dentro de uma escola da rede estadual de ensino e eu conversos com os professores de l\u00e1, vejo as bombas que jogam dentro da escola, os vidros das janelas, as lou\u00e7as sanit\u00e1rias, as tomadas, as portas, que os \u201c coitadinhos \u201d quebram. Aceite: NENHUM sistema socialista deu certo por querer igualar as pessoas, por essas serem desiguais na ess\u00eancia, ningu\u00e9m \u00e9 igual a ningu\u00e9m e lidamos com o mesmo tipo de oportunidades de forma diferente. #Aceitaquedoimenos. Caio Figueiredo Link Permanente 25/01/2014 10:59 Maria Abadia, \u00e9s professora de onde? Em que momento viste em meus coment\u00e1rios defender a falta de hospitais? Em dizer que sou rico e abastado? Cara senhora, tenho de sobreviver como muitos cidad\u00e3os bandeirantes e brasileiros: com o pouco. Mas esse pouco \u00e9 fruto de uma economia que n\u00e3o cresce por causa da vagabundagem do povo em n\u00e3o querer se qualificar. A cima, esqueci no momento que digitei o texto, em dizer que os cursos t\u00e9cnicos do SENAI que mencionei s\u00e3o de GRA\u00c7A. Voc\u00eas, esquerda p\u00fatrida est\u00e3o acostumados a m\u00e3o estendida, ao \u00f3bulo, ao \u201d \u2013 Me ajuda, tio?! \u201d \u2013 e o \u201c tio \u201d muitas vezes \u00e9 o vereador, o prefeito, o deputado, as pessoas que s\u00e3o respons\u00e1veis em gerar o crescimento do pa\u00eds. Mas como se o povo n\u00e3o se quer qualificar? Como fazer isso se os vagabundos se contentam com R$ 80 por m\u00eas? N\u00e3o sou contra as bolsas, ao contr\u00e1rio do que parece, mas eles tem de ser vinculadas a educa\u00e7\u00e3o de toda sorte. Os pais tem de ser obrigados a colocar e acompanhar o filho nas escola, obrigados a levar os filhos para as campanhas de vacina\u00e7\u00e3o, obrigados a ir fazer um dos DIVERSOS cursos gratuitos e de qualidade para que o SINE o encaminhe para uma vaga de trabalho. Isso EXISTE, mas os \u201c coitadinhos \u201d n\u00e3o querem. Os R$ 80 s\u00e3o o suficiente para garantir o garrafa de cacha\u00e7a, o arroz, feij\u00e3o e a \u201c mistura \u201d ? \u2013 S\u00e3o. Ent\u00e3o deixa o pau quebrar que quando chegar as contas de \u00e1gua e luz, vamos pedir ao prefeito, ao vereador, ao pol\u00edtico da cidade que pague e nas pr\u00f3ximas elei\u00e7\u00f5es, votamos neles de novo. ME DESMINTAM, ESQUERDISTAS DE UMA FIGA Caio Figueiredo Link Permanente 25/01/2014 11:35 Marcos Alexandre, o senhor Boff e seus correligion\u00e1rios da esquerda, n\u00e3o responderam a nenhuma das minhas perguntas at\u00e9 agora, s\u00f3 me atacaram e isso muito me alegra, pelo simples FATO que falei VERDADES e que eles n\u00e3o s\u00e3o capazes de rebater. Pessoas como essas s\u00e3o revoltados existenciais e que deveriam procurar o ambulat\u00f3rio de psicologia das universidades que tem esse curso, e se tratarem de gra\u00e7a ( olha que legal, n\u00e3o v\u00e3o precisar pedir o Bolsa Psic\u00f3logo, mas v\u00e3o pedir o Bolsa Transporte ). Numa das minhas fala, mencionei de modo alto e claro que TODOS os seres humanos s\u00e3o diferentes e n\u00e3o queremos ser iguais uns aos outros e lidamos de modo diferente com as oportunidades que nos \u00e9 apresentada pela vida, e \u00e9 por isso que TODO o sistema ditatorial de esquerda, de tentar igualar os desiguais, FRACASSARAM. E \u00e9 isso que todos os esquerdistas s\u00e3o: FRACASSADOS. 25/01/2014 11:57 Caio O que vc afirma \u00e9 t\u00e3o palmar e \u00f3bvio que n\u00e3o precisa de resposta. Todos entendem e at\u00e9 te aprovam.Nao pretenda ser mais do que aquilo que vc \u00e9. lboff Montez Link Permanente 26/01/2014 18:25 Marcos Alexandre, sou sua f\u00e3. Agora mais do que sou do Mestre Bof, pois n\u00e3o basta ter 90 anos de idade e querer impor sua opini\u00e3o \u00e0 for\u00e7a e desrespeitar a dos outros. Ab\u00e7 Mar cos Alexandre Link Permanente 28/01/2014 17:04 Nossa Boff, tirei um print desse seu coment\u00e1rio, imprimi e mandei emoldurar parar ficar na frente da minha cama para que eu todo dia me lembre que mesmo com pouco mais de um ter\u00e7o da sua idade, j\u00e1 possuo tanta sabedoria! Imagine como serei ao 75? Com certeza nada arrogante como vc! Pelo seu tom, posso perceber que vc realmente n\u00e3o chegou no terceiro inimigo, vc foi derrotado pelo terceiro! E s\u00f3 pra mencionar, \u00e9 at\u00e9 c\u00f4mico ver uma pessoa que se diz crist\u00e3o, evocar a idade para se sentir superior, visto que em diversos momentos, na B\u00edblia, Jesus Cristo mostrou mais sabedoria que os anci\u00f5es de sua \u00e9poca! Seja feliz meu querido. Eu fiquei muito com seu coment\u00e1rio! (= Por favor, nao me envie mais e-mail, senhor! Agrade\u00e7o sua aten\u00e7ao! Marcos Alexandre Link Permanente 01/02/2014 18:34 Ironia? Eu falei s\u00e9rio! Gostaria que fosse poss\u00edvel anexar arquivos de imagem a esses coment\u00e1rios para que vc comprovasse o quadro! (= Maur\u00edcio MP Link Permanente 24/01/2014 0:01 Hahahah \u2026 Caio vc trabalharia um dia todo por R$ 50? Sabe qual \u00e9 o valor de mercado de uma faxineira na zona oeste de S\u00e3o Paulo? \u00c9 R$ 100. E quer saber? \u00c9 pouco! D\u00e1 R$ 2 mil por m\u00eas numa conta r\u00e1pida. O Bolsa fam\u00edlia foi o grande impulsionador do desenvolvimento e consumo do pa\u00eds. J\u00e1 li diversas mat\u00e9rias e relat\u00f3rios, at\u00e9 elogio da ONU, dizendo que o Bolsa Fam\u00edlia funcionou horrores e \u00e9 um exemplo para o mundo. A Europa consultou o Brasil pra fazer o mesmo. Vc tem 25 anos, j\u00e1 imaginava. Isso significa que vc nunca viveu: 1. infla\u00e7\u00e3o, 2. hiperinfla\u00e7\u00e3o, 3. desemprego em massa, 4. crises econ\u00f4micas uma ap\u00f3s a outra, 5. pa\u00eds falido, ridicularizado perante FMI e o mundo. Eu tenho 40 anos. Vc n\u00e3o conhece o Brasil, n\u00e3o tem ideia do que era isso. A mis\u00e9ria era tal em 1995, que quando voltei de viagem vi uma explos\u00e3o de barracas de venda e caf\u00e9s pelas ruas. N\u00c3O EXISTIA EMPREGO. Pleno emprego, crescimento, viagem pro exterior? Era motivo de piada. Carro novo? S\u00f3 se fosse de brinquedo. Ent\u00e3o seja um pouco mais grato e reconhe\u00e7a os bons governantes. Afinal se vc n\u00e3o sabe a diferen\u00e7a entre pol\u00edtico bom e pol\u00edtico ruim, que direito tem de reclamar deles? abs 25/01/2014 11:12 Quanto o Brasil crescia \u00e0 \u00e9poca da chamada Ditadura Militar? ( 12% ao ano, 15% ao ano ). Certo que esse dinheiro n\u00e3o era bem repartido, mas, ent\u00e3o, de onde viria o dinheiro para a constru\u00e7\u00e3o de Itaipu? Das BR\u00b4s que rasgaram o Brasil? Os Portos? Aeroportos? Linhas de Transmiss\u00e3o de energia el\u00e9trica? Angra I e II? Das Universidades federais que se multiplicaram pa\u00eds a fora? Diversos centros de pesquisa cient\u00edfica? O senhor, a altura dos seus 40 anos, foi proibido de estudar? De entrar numa livraria e comprar um livro? De escolher onde trabalhar? De ter o direito de ir e vir? De andar nas madrugas da sua cidade voltando de algum baile num clube local? Minha mainha n\u00e3o foi e adorava uma festa. Diversas vezes voltou para casa, como me contava a minha av\u00f3, de madrugada e a minha mainha n\u00e3o era molestada por quem quer que fosse. Hoje, saia a noite. N\u00e3o temos mais seguran\u00e7a. Que tipo de progresso veio com a famigerada democracia? Perguntei, e eu mesmo respondo: Dinheiro na meia, na mala, na cueca, mensal\u00e3o em MG e DF e no pr\u00f3prio congresso. A imoralidade tomou conta de todos n\u00f3s e se Rui Barbosa Estivesse vivo, haveria de dizer que estamos cansados, constrangidos de ter vergonha. H\u00e1, quanto a exist\u00eancia de empregos: Certamente n\u00e3o veio para a cidade de S\u00e3o Jos\u00e9 dos Campos-SP e outras do estado de S\u00e3o Paulo como S\u00e3o Bernardo do Campo-SP que viviam em situa\u00e7\u00e3o de pleno emprego e os bons funcion\u00e1rios, os qualificados, SEMPRE ganharam acima do piso salarial da \u00e9poca, tendo ganhos reais acima da infla\u00e7\u00e3o. Estudei a hist\u00f3ria como um todo. Livre da podrid\u00e3o esquerdista que s\u00f3 me fazia ver o A.I 5, as torturas, s\u00f3 o lado ruim da ditadura, o bom, NENHUM professor me contou. Os livros se encarregaram de fazer. 26/01/2014 17:48 Caio Que saudade m\u00f3rbida \u00e9 essa da ditadura porque fizeram subir o dinheiro no Brasil \u00e0 custa de torturas, assassinatos e o sequestro da liberdade de todos n\u00f3s? Admiro-me demais de que haja ainda pessoas que n\u00e3o aprendem nada da hist\u00f3ria do sofrimento e da viol\u00eancia impostos a toda uma na\u00e7\u00e3o. lboff Caio Figueiredo Link Permanente 27/01/2014 9:27 Tire a repress\u00e3o, que \u00e9 sim, um ponto negativ\u00edssimo na ditadura, o que fica? O crescimento, a vergonha na cara, a seguran\u00e7a p\u00fablica, a economia que crescia como um pa\u00eds do futuro. O senhor n\u00e3o me respondeu se foi proibido de estudar, de entrar numa livraria e comprar um livro, de escolher onde trabalhar, de ter o direito de ir e vir na \u00e9poca dos militares no poder. O senhor deixou que o sofrimento que o senhor passou na inf\u00e2ncia o cegasse e o senhor tem medo que outros passem pelo que o senhor passou e eu entendo isso. De todo modo, senhor Boff, tem pessoas que N\u00c3O QUEREM SER AJUDADAS. que n\u00e3o querem crescer, querem apenas o parasitismos de uma bolsa que n\u00e3o h\u00e1 de tira-las da mis\u00e9ria. A esse tipo de pessoas, s\u00f3 restam uma sa\u00edda: aprender pela dor da fome, da mis\u00e9ria. Estela Link Permanente 24/01/2014 23:25 Caio \u2026 \u201c O que os impede de ir buscar os cursos t\u00e9cnicos de alta qualidade ofertados pelo SENAI pa\u00eds a fora e conseguir um bom trabalho fruto de sua qualifica\u00e7\u00e3o? \u201d Falta dinheiro (porque o SENAI \u00e9 pago) e vagas. E voc\u00ea ainda acha que isso \u00e9 falta de oportunidade? Eu fui procurar um curso para o meu filho no SENAI e, h\u00e1 dois anos atr\u00e1s, o custo era de R$ 1.080,00. Caio Figueiredo Link Permanente 27/01/2014 9:10 Cara senhora, os S\u00b4s tem diversos curso de gra\u00e7a e pagos, pois n\u00e3o s\u00e3o institui\u00e7\u00f5es p\u00fablicas mas sim, privadas. TEM SIM cursos de el\u00e9trica e outros que s\u00e3o sim gratuitos por parcerias com o governo. Vagas? Insinuas que n\u00e3o a vagas no SENAI?! Sua burra, que pega uma situa\u00e7\u00e3o e a distorce para t e-la como \u201c verdade \u201d , v\u00e1 ao SENAI e pesquise, pergunte sobre o servi\u00e7o como um todo, n\u00e3o s\u00f3 uma parte. Vais se surpreender. Ignorante esquerdistas de uma figa. Eu fiz 3 cursos de gra\u00e7a no SENAI: El\u00e9trica residencial, B\u00e1sica e Opera\u00e7\u00e3o de M\u00e1quina Injetora. 28/01/2014 1:26 Caio Vc pode se informar e estudar a vida inteira sem nunca se educar.Ve se incorpora esta dimens\u00e3o, a mais verdadeira, nas suas posturas. lboff Jucine i Link Permanente 25/01/2014 3:47 Acredito que o Caio Figueiredo n\u00e3o est\u00e1 errado, pois h\u00e1 sim nas escolas oportunidades para esses adolescentes lerem, estudarem, se aperfei\u00e7oarem \u2026 Caso n\u00e3o tenha, ai sim haveria um bom motivo para fazer protestos \u2026 Ir ao Shopping \u00e9 legal para eles, pois \u00e9 um lugar que n\u00e3o h\u00e1, normalmente, nas periferias ou bairros de classe baixa; Os \u201c eventos \u201d realizados por eles seria uma boa oportunidade para entretenimento, cultura e lazer. Entretanto, depredar patrim\u00f4nios, roubar, fazer \u201c baderna \u201d , s\u00e3o atos que n\u00e3o podem ser apoiados \u2026 Muitos s\u00e3o exclu\u00eddos? Sim! Muitos s\u00e3o ridicularizados pelo capitalismo? Sim! Mas se reunirem em um Shopping para expor seus gostos e Hobbies n\u00e3o vai mudar essa situa\u00e7\u00e3o. Uma boa op\u00e7\u00e3o seria cobrar dos pol\u00edticos espa\u00e7os para que sejam realizados esses eventos e n\u00e3o invadir uma propriedade particular e fazer o que bem entender \u2026 (Se eu fosse propriet\u00e1rio de um desses estabelecimentos, n\u00e3o aceitaria que fizessem o que fizeram, pois atrapalharia meu neg\u00f3cio, e n\u00e3o s\u00f3 o dono seria prejudicado com isso, mas muitos funcion\u00e1rios dependem disso para sobreviver). Os projetos do PT foram bons, sim. No entanto, seria interessante oferecer empregos em algumas \u00e1reas tamb\u00e9m, para que o povo n\u00e3o seja como um filho mimado pela m\u00e3e que ganha seu brinquedo sem merecimento algum. Tenho certeza que com oportunidades muitas pessoas se sentiriam inclu\u00eddas e \u00fateis nesse mundo capitalista. Vamos conseguir mudar o mundo? N\u00e3o! Mas uma coisa \u00e9 certa, podemos mudar o nosso mundo. (Assisti uma mat\u00e9ria sobre esses \u201c rolezinhos \u201d e na maioria das entrevistas percebi jovens alienados, se ser inclu\u00eddo \u00e9 ir \u00e0 Shopping cantar funk, ficar, beijar, badernar, comprar, mostrar roupas, etc \u2026 Acredito que temos que rever nossos conceitos. Todavia, se for expressar opini\u00f5es, cultura, ideias para  a sociedade, vamos l\u00e1!!! Vamos mudar o mundo!) Caio Figueiredo Link Permanente 27/01/2014 9:19 \u201d nois \u00e9 a praga que o sistema cri\u00f4 \u201d \u2013 disse um pequeno retardado de 14 anos cantando um funk \u201c ostenta\u00e7\u00e3o \u201d ( do que N\u00c3O TEM ). Os exclu\u00eddos querem ser inclu\u00eddos para depois excluir os outros, jogar-lhes na cara o que o dinheiro \u00e9 capaz de oferecer. Esse trecho eu ouvi numa mat\u00e9ria do Fant\u00e1stico do dia 19 \u00faltimo. Os esquerdistas p\u00fatridos vem aqui posarem de coitadinhos, de oprimidos, de tudo mais, s\u00f3 que ningu\u00e9m \u00e9 privado da vergonha na cara, ningu\u00e9m NUNCA fui privado nessa na\u00e7\u00e3o de estudar, de entrar numa livraria e comprar um livro, de escolher onde trabalhar, de ter o direito de ir e vir, mas  estudar n\u00e3o interessa a esquerda, porque eles est\u00e3o acostumados ao \u00f3bulo, a m\u00e3o estendida, ao \u201d mim ajuda, tio?! \u201d . ESTOU ESPERANDO SER DESMENTIDO PELOS ESQUERDISTAS. Jucinei Link Permanente 25/01/2014 3:59 Acredito que o Caio Figueiredo n\u00e3o est\u00e1 errado, pois h\u00e1 sim nas escolas oportunidades para esses adolescentes lerem, estudarem, se aperfei\u00e7oarem \u2026 Caso n\u00e3o tenha, ai sim haveria um bom motivo para fazer protestos \u2026 Ir ao Shopping \u00e9 legal para eles, pois \u00e9 um lugar que n\u00e3o h\u00e1, normalmente, nas periferias ou bairros de classe baixa; Os \u201c eventos \u201d realizados por eles seria uma boa oportunidade para entretenimento, cultura e lazer. Entretanto, depredar patrim\u00f4nios, roubar, fazer \u201c baderna \u201d , s\u00e3o atos que n\u00e3o podem ser apoiados \u2026 Muitos s\u00e3o exclu\u00eddos? Sim! Muitos s\u00e3o ridicularizados pelo capitalismo? Sim! Mas se reunirem em um Shopping para expor seus gostos e Hobbies n\u00e3o vai mudar essa situa\u00e7\u00e3o. Uma boa op\u00e7\u00e3o seria cobrar dos pol\u00edticos espa\u00e7os para que sejam realizados esses eventos e n\u00e3o invadir uma propriedade particular e fazer o que bem entender \u2026 (Se eu fosse propriet\u00e1rio de um desses estabelecimentos, n\u00e3o aceitaria que fizessem o que fizeram, pois atrapalharia meu neg\u00f3cio, e n\u00e3o s\u00f3 o dono seria prejudicado com isso, mas muitos funcion\u00e1rios dependem disso par a sobreviver). Os projetos do PT foram bons, sim. No entanto, seria interessante oferecer empregos em algumas \u00e1reas tamb\u00e9m, para que o povo n\u00e3o seja como um filho mimado pela m\u00e3e que ganha seu brinquedo sem merecimento algum. Tenho certeza que com oportunidades muitas pessoas se sentiriam inclu\u00eddas e \u00fateis nesse mundo capitalista. Vamos conseguir mudar o mundo? N\u00e3o! Mas uma coisa \u00e9 certa, podemos mudar o nosso mundo. (Assisti uma mat\u00e9ria sobre esses \u201c rolezinhos \u201d e na maioria das entrevistas percebi jovens consumistas, alienados, se ser inclu\u00eddo \u00e9 ir \u00e0 Shopping cantar funk, ficar, beijar, badernar, comprar, mostrar roupas de marca, etc \u2026 Acredito que temos que rever nossos conceitos. Todavia, se for expressar opini\u00f5es, cultura, ideias para  a sociedade, vamos l\u00e1!!! Vamos mudar o mundo!) geovanio Link Permanente 25/01/2014 13:39 Voce precisa ler um pouco mais e acreditar menos no que te falam, fica a dica seu ALIENADO, PRECONCEITUOSO e ETNOC\u00caNTRICO. Guido Goulart Link Permanente 25/01/2014 16:19 J\u00e1 comecei a rezar por vc, Sr. Caio Figueiredo, pois vejo por suas linhas que a sua arrog\u00e2ncia, ao ignorar a exclus\u00e3o social, \u00e9 proporcional \u00e0 sua ignor\u00e2ncia. J\u00e1 que o Sr. vive t\u00e3o empertigado por debaixo dessa camisa engomada, o que pressup\u00f5e um bom padr\u00e3o social de vida, sugiro que entre para algum curso onde possa aprender certas no\u00e7\u00f5es de Ci\u00eancia Pol\u00edtica. Caio Figueiredo Link Permanente 27/01/2014 9:34 A minha indument\u00e1ria \u00e9 por causa do meu trabalho como corretor de im\u00f3veis que por sinal, est\u00e1 parado por causa da economia que est\u00e1 se encaminhando para o barranco. \u201d Arrog\u00e2ncia \u201d \u2013 desde quando dizer verdades \u00e9 ser arrogante? Em que ponto das minhas falas disse algo de mentiroso, falso, enganoso? O que vou aprender em Ci\u00eancias Pol\u00edticas? \u2013 A ser um esquerdista acostumado ao \u00f3cio? Muito obrigado. Prefiro continuar acordando as 6h e indo dormir as 1h. A minha dignidade, a minha vergonha na cara me leva a isso. Caio Figueiredo Link Permanente 27/01/2014 9:35 H\u00e1, ao contr\u00e1rio de voc\u00ea, n\u00e3o tenho medo de mostrar a cara, n\u00e3o me escondo em um perfil falso, sem foto. Esquerdista de uma figa. Tem uma frase no texto que diz:  querem trabalhar para ganhar sua vida. Discordo pois se quisessem trabalhar, deveriam estar estudando ou procurando trabalho. Mas n\u00e3o \u00e9 isto que est\u00e3o fazendo ao promover estes rolezinhos. marcio carlos Link Permanente 23/01/2014 14:07 Concordo com o Boff quando diz que a nossa sociedade \u00e9 injusta. E \u00e9 mesmo. Uns com muito e muita gente sem nada. S\u00e3o os extratos da sociedade e, n\u00e3o \u00e9 s\u00f3 aqui. Em todos os lugares do mundo existe a separa\u00e7\u00e3o por renda, por instru\u00e7\u00e3o, por ideologia, etc. Somos chamados a criticar o pre\u00e7o das coisas. Por que custa o absurdo que custa? A educa\u00e7\u00e3o que n\u00e3o ensina, a sa\u00fade que n\u00e3o atende, as a\u00e7\u00f5es do governo que contrariam a vontade popular, a impunidade de parlamentares e funcion\u00e1rios do governo e, por ai vai. E olhe que temos um governo socialista. Ainda assim estamos longe da justi\u00e7a social. Rosilene Silva Link Permanente 23/01/2014 14:09 Achei bem interessante e bem escrito dentro da pura realidade mas, o texto esqueceu de mencionar, que a falta de justi\u00e7a social e politica, est\u00e1 revoltando a popula\u00e7\u00e3o (n\u00e3o s\u00f3 esses de classe pobre). A liberdade e a falta de \u00edndoles e mesmo falta de no\u00e7\u00e3o do que \u00e9 certo e errado e at\u00e9 mesmo de amor pr\u00f3prio e \u00e0s pessoas, est\u00e1 dando a esses jovens uma viol\u00eancia que \u00e9 peculiar nesse tipo de comunidade. E, amigos, as sociedades, dentro de shoppings, lojas e qualquer outro estabelecimento, s\u00e3o compostas de pessoas que tambem vivem do medo que as antigas manifesta\u00e7\u00f5es causaram, que sem nenhuma ideologia politica, s\u00f3 fizeram colocar suas revoltas (estas colocadas no texto acima que s\u00e3o reais), destruindo propriedades privadas sem nehum bom senso.  As pessoas ainda n\u00e3o s\u00e3o movidas \u00e0 telepatias, pr\u00e1 se ter id\u00e9ia do real interesse desses rolezinhos. N\u00e3o d\u00e1 tempo de pensar em direitos sociais, quando voc\u00ea se depara com v\u00e1rios jovens , vestido com roupas que lhe s\u00e3o pecualiares, bon\u00e9s e cia. vindo em tua dire\u00e7\u00e3o, principalmente por esses rolezinhos terem vindos das redes sociais e estarem emparelhados com as manifesta\u00e7\u00f5es que est\u00e3o pra estourar ai. Muitas lojas  no Pa\u00eds j\u00e1 foram destruidas, muitos foram os preju\u00edzos irressarc\u00edveis. Sinto muito mais n\u00e3o creio que a rea\u00e7\u00e3o das pessoas nesse shopping ou em locais sociais, tenham a ver com preconceitos , de forma alguma. Isso foi uma forma das classes mais baixas virem novamente se fazerem de vitimas sociais, sem nem sequer se preocuparem em serem seres sociais. Eles s\u00f3 querem, querem e querem, e uma vis\u00e3o anal\u00edtica da situa\u00e7\u00e3o jamais \u00e9 feita. \u00c9 mais f\u00e1cil se dizer que s\u00e3o vitimas de preconceito do que aprenderem e aceitarem a viver em sociedade. Eles querem ser aceitos na sociedade desde que a sociedade aceite as regras deles \u2026 e isso, vai ser um tanto quanto dificil. Existem regras sociais que n\u00e3o tem necessidade de serem quebradas e elas acessiveis pra qualquer classe social. As principais est\u00e3o vinculadas a VALORES \u00e9ticos e morais. Carmen Lucia Ramos Correa Link Permanente 27/01/2014 9:40 Concordo,principalmente quando disse: \u201d Eles querem ser aceitos na sociedade desde que a sociedade aceite as regras deles \u201d Verdade. 29/01/2014 17:16 Emanoel Eu nunca lhe enviei nada. Se nao quiser ler o blog delete tudo e fique feliz. Vc nao \u00e9 obrigado a nada, lboff Fabiano Ferraro de Oliveira Link Permanente 23/01/2 014 14:27 \u201c Em primeiro lugar, s\u00e3o jovens pobres, das grandes periferias,  sem espa\u00e7os de lazer e de cultura, penalizados por servi\u00e7os p\u00fablicos ausentes ou muito ruins como sa\u00fade, escola, infra-estrutura sanit\u00e1ria, transporte, lazer e seguran\u00e7a. \u201d \u2013 E os poucos espa\u00e7os que eles t\u00eam, eles destroem \u2026 assim como os SHOPPINGS \u2026 O senhor n\u00e3o anda nas periferias??? Alguns espa\u00e7os pr\u00e9-existentes est\u00e3o abandonados, descaso dos \u00f3rg\u00e3os p\u00fablicos. Aqueles que ficam \u201c na invisibilidade for\u00e7ada \u201d e, inclusive, n\u00e3o assistem TV e adjascentes \u2026 estudam, trabalham, e em suas proje\u00e7\u00f5es futuras, tornam-se cidad\u00e3os de bem. \u201c Releva, no entanto, constatar que com as pol\u00edticas sociais do governo do PT a desigualdade diminiui, pois segundo o IPEA os 10% mais pobres tiveram entre 2001-2011 um crescimento de renda acumulado de 91,2% enquanto a parte mais rica cresceu 16,6%. \u201d \u2013 Aumento de renda gra\u00e7as ao BOLSA FAM\u00cdLIA, diga-se de passagem, criado pelo PSDB  e no princ\u00edpio, combatido pelo maior criminoso desse pa\u00eds \u2013 Sr. LULA. Brincadeira, n\u00e9? Se o desemprego \u00e9 da ordem dos 6%, por que 20% da popula\u00e7\u00e3o depende de \u201c BOLSAS \u201d . Esse \u00e9 um exemplo da desiforma\u00e7\u00e3o, assim como a mentira das URNAS ELETR\u00d3NICAS. Acreditam que \u00e9 de \u201c ESQUERDA \u201d se \u00e9 que isso existe realmente. \u201c Por fim, os rolezinhos n\u00e3o querem apenas consumir. N\u00e3o s\u00e3o animaizinhos famintosi(!!!!!! \u00f3bvio que vc n\u00e3o interagiu com nenhum). Eles tem fome sim, mas fome de reconhecimento, de acolhida na sociedade, de lazer, de cultura e de mostrar o que sabem: cantar (O QUE??? O FUNK OSTENTA\u00c7\u00c3O), dan\u00e7ar(O QUE???????? CONTINUO NO FUNK), criar poemas cr\u00edticos(O QUE??????????????????? COMO O MC DALESTE QUE FALAVA QUE POLICIAL \u201c VERME \u201d BOM \u00c9 POLICIAL MORTO), celebrar a conviv\u00eancia humana (de forma altamente destrutiva, DIGA-SE DE PASSAGEM). E querem trabalhar para ganhar sua vida (Ent\u00e3o, por que n\u00e3o come\u00e7am???). Tudo isso lhes \u00e9 negado, porque, por serem pob res, negros, mesti\u00e7os sem olhos azuis e cabelos loiros, s\u00e3o desperezados e mantidos longe, na margem \u201d . \u2013 Ja pensou se \u201c TODAS \u201d as pessoas pobres, negras, mesti\u00e7as sem olhos azuis e cabelos loiros estivessem junto com esses grupos??? J\u00e1 estariamos vivendo numa guerra civ\u00edl \u2026 . Mas, com certeza, ja vivemos um COLAPSO SOCIAL \u2026 eat\u00e9 em suas palavras, o Sr segrega, afinal, ninguem escolheu nascer \u201c com olhos azuis e cabelos loiros \u201d , certo? Alguns exemplos como JOSEF STALIN (Humanit\u00e1rio), MAO-TS\u00c9-TUNG (Caridoso), CHE GUEVARA (Um cara queque n\u00e3o tinha preconceito nenhum \u2026 ), FIDEL CASTRO (Por que sua m\u00e3e iria abandon\u00e1-lo???) e dos GRANDES \u00daLTIMOS \u2013 KIM II-SUNG E DE SEU FILHO KIM JONG-IL (Que tem a familia acima de tudo!!!!), l\u00edderes de uma revolu\u00e7\u00e3o pelo povo e para o povo. At\u00e9 o ponto que lhes era conveniente \u2026 E que nossa recep\u00e7\u00e3o seja CALOROSA e com honras de CHEFES DE ESTADO ao guerrilheiros das FARC \u2026 pois eles est\u00e3o em nosso p\u00e1tria para trabalho HUMANIT\u00c1RIO e CARIDOSO. Pensadores Brasileiros \u2026 por que com toda a sua \u201c PROPRIEDADE \u201d nas palavras, n\u00e3o querem dar a \u201c cara a tapa \u201d ??? E o medo agora n\u00e3o \u00e9 s\u00f3 dos militares, n\u00e9? Os pensadores que deveriam falar sobre MORAL e VALORES, dar \u201c VERDADEIROS EXEMPLOS DE CIDADANIA \u201d pensam somente em seu posicionamento POL\u00cdTICO e no PODER que podem adquirir, seja de DIREITA e ESQUERA \u2026 nossos pensadores s\u00e3o respons\u00e1veis pelo aumento da LAMA. E veja bem, eu n\u00e3o fomento o \u00f3dio: a dign\u00edssima MARILENA SOUZA CHAUI faz isso por todos n\u00f3s \u2026 VERGONHA DOS BRASILEIROS E DE SER BRASILEIRO! 23/01/2014 22:45 Fabiano Em vez de bancar o rid\u00edculo vc deveria pensar mais sobre o destino de nosso povo e que Brasil queremos construir. Com cinismo e ironias f\u00e1ceis n\u00e3o se d\u00e1 nenhum passo em dire\u00e7\u00e3o nenhuma. Vc est\u00e1 perdendo tempo ao inv\u00e9s de dar alguma contribui\u00e7\u00e3o, mesmo que seja s\u00f3 de penamento construtivo. lboff Marcos Alexandre Link Permanente 24/01/2014 0:04 Interessante Boff,  vc est\u00e1 perdendo tempo ao inv\u00e9s de dar alguma contribui\u00e7\u00e3o, mesmo que seja s\u00f3 de penamento (sic) construtivo. Marcelo Salgado Link Permanente 26/01/2014 12:57 Voc\u00ea menciona \u201c cinismo \u201d e \u201c ironia \u201d , mas come\u00e7a seu texto detonando qualquer um que se oponha \u00e0 sua vis\u00e3o (esquerdista) do mundo: \u201d ( \u2026 ) ac\u00f3litos da sociedade neoliberal do consumo que identificam cidadania com capacidade de consumir, geralmente nos jornal\u00f5es da m\u00eddia comercial, nem merecem considera\u00e7\u00e3o \u201d . O interessante \u00e9 que a \u201c liberdade de express\u00e3o \u201d , pra esquerda, \u00e9 isso mesmo: \u201c concorde comigo ou cala a boca \u201d ; \u201c ou est\u00e1 conosco, ou est\u00e1 contra n\u00f3s \u201d . Esquerdistas s\u00e3o, acima de tudo, ide\u00f3logos que partem de narrativas e racioc\u00ednios simplistas pr\u00e9-concebidos (luta de classes; opressores e oprimidos; minorias e vitimiza\u00e7\u00e3o; se um ganha, o outro perde). E olham o mundo e os fatos atrav\u00e9s desta lente. Sempre. Sem considera\u00e7\u00f5es racionais profundas. Mas \u00e9 como Horkheimer disse: \u201c l\u00f3gica n\u00e3o \u00e9 independente de conte\u00fado \u201d . Francamente \u2026 Imposs\u00edvel levar a s\u00e9rio. Montez Link Permanente 26/01/2014 18:33 Marcos Alexandre, agora eu n\u00e3o sou mais s\u00f3 f\u00e3 sua: sou tamb\u00e9m do Fabiano Ferraro e, claro, do Mestre Boff. maria jose oliveira Link Permanente 23/01/2014 14:41 A classe pobre teve um crescimento, a rica continua rica e a classe m\u00e9dia ficando pobre e invis\u00edvel. Andre Luiz Cozzi Link Permanente 23/01/2014 14:45 Tenho muito respeito por seu trabalho e orienta\u00e7\u00f5es, ainda assim me arrisco a question\u00e1-lo em rela\u00e7\u00e3o ao fen\u00f4meno do \u201c rol\u00ea \u201d . Tudo bem em compreender tais eventos como uma forma organizada de protesto pol\u00edtico contra a segrega\u00e7\u00e3o econ\u00f4mica a que s\u00e3o submetidos os grupos dos \u201c rol\u00eas \u201d , mas da\u00ed a entend\u00ea-los como causa por \u201c n\u00e3o serem inclu\u00eddos no contrato social \u201d \u00e9 algo a meu ver tendencioso, pois a sociedade como um todo \u00e9 exclu\u00edda, mesmo os que n\u00e3o moram na periferia ou s\u00e3o rotulados pelo Estado como pobres. A grande maioria da popula\u00e7\u00e3o (profissionais liberais, funcion\u00e1rios p\u00fablicos, aut\u00f4nomos) estaria de fora do contrato social, pois paga aluguel, plano de sa\u00fade, escola, \u00e1reas para lazer, juros altos, seguran\u00e7a particular (porteiros, vigias ) e ainda recolhe os impostos para custear os servi\u00e7os estatais sem, por\u00e9m, fazer uso destes servi\u00e7os. Neste respeito, os rol\u00eas seriam mais uma manifesta\u00e7\u00e3o de contracultura (contra o modelo de consumo desenhado pelas elites) que propriamente um \u201c grito dos exclu\u00eddos \u201d , uma forma de reivindicar seu status quo cultural, de poder se identificar nos trajes postos sobre os manequins nas vitrines das lojas. Talvez a rea\u00e7\u00e3o dos propriet\u00e1rios destes espa\u00e7os de consumo e do poder p\u00fablico \u00e9 que seja question\u00e1vel e reprov\u00e1vel do ponto de vista dos direitos fundamentais, n\u00e3o o liberalismo enquanto paradigma para a sociedade, pois os rol\u00eas tamb\u00e9m s\u00e3o liberais, diria at\u00e9 liberais capitalistas, pois tamb\u00e9m querem possuir, tamb\u00e9m querem acumular e ostentar. Eu digo n\u00e3o a este rol\u00ea capitalista e sim ao rol\u00ea social nas pra\u00e7as, bibliotecas e demais espa\u00e7os p\u00fablicos. Ricardo Augusto Rocha Link Permanente 23/01/2014 22:57 Andre, sua cr\u00edtica ou questionamento s\u00e3o v\u00e1lidos \u2026 Mas acho que h\u00e1 um ponto central na an\u00e1lise do Boff que me parece n\u00e3o teres captado. Seria realmente \u00f3timo se os rolezinhos fossem em outros espa\u00e7os p\u00fablicos (e n\u00e3o utilizarei mais aspas no termo rolezinhos) \u2026 A n\u00e3o ser pelo fato de que, ainda que isso lhe incomode (e a mim tamb\u00e9m de certa forma), a ocupa\u00e7\u00e3o massiva de espa\u00e7os de consumo \u00e9 justamente uma resposta ao que essa sociedade do consumo produz. N\u00e3o \u00e9 nas bibliotecas, ou em outros lugares n\u00e3o t\u00e3o povoados, em que reside o simbolismo do capitalismo (\u00e0 moda brasileira, para ser mais exato). E onde \u00e9? Certamente o shopping \u00e9 um destes locais. N\u00f3s, estudantes acad\u00eamicos, pequenos burgueses, parte da classe m\u00e9dia, com nossa interpreta\u00e7\u00e3o burguesa de mundo, julgamos a presen\u00e7a dos rolezeiros em centros comerciais, desejando, como iluminados, de que os protestos fossem realmente nobres, em espa\u00e7os culturais e outros que carreguem valores que se identifiquem com uma resist\u00eancia capitalista. No entanto, tamb\u00e9m \u00e9 interessante pensarmos que toda esta mis\u00e9ria humana que nos incomoda seja trazida \u00e0 tona, bem ou mal, justamente num movimento que a revela e esfrega em nossa cara. Andre Luiz Cozzi Link Permanente 24/01/2014 15:30 Sim Ricardo, por certo o incomodo revela nossas pr\u00f3prias mazelas. Eu, que tenho em S\u00e3o Francisco um exemplo, almejo por uma sociedade que venere menos o consumo, mas como pat\u00edcipe dessa sociedade sei como isso \u00e9 dif\u00edcil. A senhora pobreza realmente nos incomoda e os rolezinhos s\u00e3o a manifesta\u00e7\u00e3o disso. Repudiamos qualquer uni\u00e3o com a senhora Paupertas: n\u00f3s pequenos burgueses e os jovens dos rolezinhos. S\u00f3 tenho a agradecer por Leonardo nos instigar \u00e0 reflex\u00e3o. Rosi Link Permanente 24/01/2014 0:01 Aprecio seu ponto de vista Ricardo e acrescento: que fa\u00e7amos sim revolu\u00e7\u00e3o: apol\u00edtica, pensando no melhor a todos e n\u00e3o a esta ou aquela classe, isso sim gera ainda mais disc\u00f3rdia \u2026 que exista uma revolu\u00e7\u00e3o baseada na educa\u00e7\u00e3o, que exista um protesta baseado no absten\u00e7\u00e3o do consumo \u2026 isso sim gera efeitos r\u00e1pidos numa sociedade como a nossa \u2026 o que disso passar corre o risco de representar massa de manobra de uma \u201c elite pensante \u201d , que se esfor\u00e7a em disseminar seus \u201c preceitos \u201d \u2026 . 23/01/2014 14:53 Concordo quase que totalmente. S\u00f3 faltou dizer que a renda dos 10% mais pobres aumentou 91% e a dos 10% mais ricos 16%, as custas de quem est\u00e1 no meio = sempre a classe m\u00e9dia, que assim \u00e9 usada ora para fazer justi\u00e7a social na distribui\u00e7\u00e3o de renda, ora como bode expiat\u00f3rio e culpada pelas mazelas causadas pela elite a\u00e9tica e ego\u00edsta. franciisco Link Permanente 23/01/2014 14:56 \u00c9 isso , s\u00e3o v\u00edtimas desse sistema que pouco est\u00e1 se lixando , eles querem mais \u00e9 se d\u00e1 bem , consumam BBB,  CBF , Audi, Camaro, etc . Rossetto Link Permanente 23/01/2014 15:02 N\u00e3o existe justificativa para as pessoas que n\u00e3o sabem se comportar!! Sou de origem modesta e de periferia nunca me comportei desta forma. N\u00e3o se justifica o injustific\u00e1vel Ricardo Augusto Rocha Link Permanente 23/01/2014 22:58 Marcos Alexandre Link Permanente 24/01/2014 1:25 Vc acha mesmo que a ocupa\u00e7\u00e3o de seis mil pessoas em um shopping \u00e9 saber se comportar? Correr e gritar letras de funk OSTENTA\u00c7\u00c3O e PROIBID\u00c3O (que s\u00e3o os que falam de produtos caros, palavr\u00f5es, banaliza\u00e7\u00e3o da mulher e ridiculariza\u00e7\u00e3o da pol\u00edcia)  \u00e9 saber se comportar? \u00ac\u00ac 23/01/2014 15:28 Esse artigo \u00e9 maravilhoso! A civiliza\u00e7\u00e3o pressup\u00f5e a conviv\u00eancia m\u00fatua entre os semelhantes pela priva\u00e7\u00e3o de nossos instintos. Quando deixaremos de lado nossa gula pelo consumo para nos afastarmos de vez da barb\u00e1rie? Luiz do Nascimento Pereira Junior Link Permanente 23/01/2014 15:35 Para um paulistano de 58 anos, a primeira sensa\u00e7\u00e3o de invas\u00e3o foi diante do crescimento absurdo de n\u00famero de shoppings na cidade \u2026 Acho que a id\u00e9ia era de provocar o desejo de inclus\u00e3o e de consumo nas pesssoas funcionou por algum tempo, mas agora esbarra em uma gera\u00e7\u00e3o que n\u00e3o fica contente somente vendo as vitrines \u2026 . Samuel Araujo Link Permanente 23/01/2014 15:51 S\u00e1bias palavras!!! Como professor tamb\u00e9m sinto que nossa sociedade come\u00e7ou a se movimentar e a inquieta\u00e7\u00e3o popular \u00e9 a semente das mudan\u00e7as necess\u00e1rias para a constru\u00e7\u00e3o de uma sociedade justa. muito critico esse poema (Aiai \u2026 ): TO NA MODA _ MC Chaveirinho Trajado de oakley e town & country, \u00c1rea vip eu sempre estou. Com dinheiro no bolso chama at\u00e9 de meu amor (2x) Pode falar que voc\u00ea tem conceito, que conhece o brasil inteiro Mais no final das conta ela ainda fala que eu sou feio Cart\u00e3o de varios banco limite aumentado e dinheiro sobrando \u00c9 melhor eu de camarote, porque s\u00e3o varios me invejando Vem comigo novinha, ve com todo respeito Todo elegante dinheiro no bolso quero ver falar que \u00e9 feio Novinha me escuta, e ve se tu se toca Eu sou feio mas to na moda, eu sou feio mas to na moda Roberto Ribeiro Link Permanente 23/01/2014 16:14 Segundo as mudan\u00e7as que parar\u00e3o a pedra que rola, elas acontecer\u00e3o mas n\u00e3o pelas m\u00e3os do povo como sempre tem sido. \u201d Fa\u00e7amos n\u00f3s a revolu\u00e7\u00e3o antes que o povo a fa\u00e7a. Ordem e progresso! ou progresso sem revolu\u00e7\u00e3o social. fatima ribeiro Link Permanente 23/01/2014 16:16 foi dado uma esmola para seus pais, mas faltou emprego e escolas de qualidade, ai est\u00e1 o retorno, e vai piorar. Ricardo Augusto Rocha Link Permanente 23/01/2014 23:02 Desde quando ver a cara e sentir o cheiro das pessoas em um espa\u00e7o coletivo \u00e9 mau sinal? A n\u00e3o ser que conviver com o pr\u00f3ximo seja algo que incomode \u2026 A\u00ed, realmente \u2018 vai piorar \u2019 ! E tomara que \u2018 continue piorando \u2019 ! Wellington Link Permanente 23/01/2014 16:47 Para quem pensa que os ricos s\u00e3o os vil\u00f5es da hist\u00f3ria no caso dos \u201c rolezinhos \u201d nada mais do que a realidade para mostrar que isso \u00e9 falso: \u201c Segundo pesquisa Datafolha, publicada hoje na Folha, nada menos de 82% dos paulistanos s\u00e3o contra os rolezinhos, impopulares at\u00e9 entre os jovens \u2014 Reprovam as manifesta\u00e7\u00f5es 70% das pessoas entre 16 e 24 anos e 85% dos que est\u00e3o entre 25 e 34. Alguns vigaristas sustentavam que os rolezinhos s\u00e3o o grito dos pobres. Ser\u00e1? S\u00e3o contra esses eventos 80% dos que ganham at\u00e9 2 sal\u00e1rios m\u00ednimos. Entre os que recebem de 2 a 5, a reprova\u00e7\u00e3o chega a 87%. A aceita\u00e7\u00e3o cresce um pouquinho entre os mais endinheirados, mas o \u201cn\u00e3o\u201d \u00e9 ainda esmagador: 71% \u201d A mat\u00e9ria continua em: http://veja.abril.com.br/blog/reinaldo/geral/o-datafolha-e-os-subintelectuais-decepcionados-com-o-povo-82-dos-paulistanos-sao-contra-rolezinhos-e-73-a-favor-da-acao-da-policia-larga-maioria-de-negros-e-pardos-nao-ve-discriminacao/ Ricardo Augusto Rocha Link Permanente 23/01/2014 23:04 O povo da minha terra, os paulistas, elegem Alckmin \u2026 Deles, tudo pode se esperar. Ah, e foi o Azevedo que publicou? Ok. K\u00e1ssia Soares Link Permanente 24/01/2014 11:00 Acho que os rolezinhos n\u00e3o devem ser analisados pela \u00f3tica da discrimina\u00e7\u00e3o racial e sim da discrimina\u00e7\u00e3o social. Ricos n\u00e3o s\u00e3o vil\u00f5es, voc\u00ea n\u00e3o pode ser julgado por ter mais que outra pessoa, como tamb\u00e9m n\u00e3o pode ser julgado por ter menos. E infelizmente, a maioria massiva da popula\u00e7\u00e3o analisa (se \u00e9 que chega a isso) o fen\u00f4meno de forma superficial. Eles v\u00eaem alguma coisa na TV, l\u00eaem uma manchete no jornal e j\u00e1 formam uma opini\u00e3o. Literalmente um pr\u00e9-conceito. tonicesa badu Link Permanente 23/01/2014 16:50 n\u00e3o s\u00e3o os donos das lojas, cinemas, teatros, lanchonetes e restaurantes, nem as pessoas que v\u00e3o ao shopping para consumir que tem que pagar pela politica social financeira nociva e injusta que o governo do brasil pratica. todos n\u00f3s estamos no mesmo barco e a verdadeira inclus\u00e3o social, a possibilidade dos pobres terem acesso aos bens de consumo da classe m\u00e9dia e da classe rica, n\u00e3o pode nem deve acontecer por meio de desordem, sob pena do barco naufragar. pessoas como leonardo boff e outras que tem acesso ao governo pt podem fazer inger\u00eancias e press\u00f5es mais contundentes junto ao lula e dilma para que provid\u00eancias sejam tomadas. \u00e9 f\u00e1cil fazer esse discurso socialista e pol\u00edticamente correto, mas na pratica a teoria \u00e9 outra. essa garotada precisa de aprender bons modos e de ir a luta n\u00e3o s\u00f3 por divers\u00e3o, mas tb por trabalho e cidadania. ser\u00e1 que \u00eales tem uma consci\u00eancia da realidade pol\u00edtica do pa\u00eds? ser\u00e1 que \u00eales sabem escolher candidatos que o represent em? o buraco \u00e9 mais embaixo senhor boff \u2026 Iatir de Castro Vieira Link Permanente 23/01/2014 17:34 Leonardo Boff \u00e9 um presente de Deus. Liberto de estruturas que amarram a intelig\u00eancia humana, analisa com clarivid\u00eancia a movimenta\u00e7\u00e3o de grupos sociais face a falta de servi\u00e7os b\u00e1sicos garantidos pela Constitui\u00e7\u00e3o, mas que, injustamente, n\u00e3o s\u00e3o entregues aos despossu\u00eddos. Importante neste ilustre intelectual \u00e9 a op\u00e7\u00e3o pelos exclu\u00eddos da sociedade. Como sempre, muito assertivo em suas coloca\u00e7\u00f5es, EXCELENTE texto!!!!!!!! Dilmara Andrade Alessandro Cruz Link Permanente 23/01/2014 17:46 \u00c9 uma analise coerente, realmente, existe essa segmenta\u00e7\u00e3o , por\u00e9m  o governo atual nunca teve inten\u00e7\u00e3o e cada vez mais se afastar\u00e1 da igualdade ou tentativa de aproximar as classes o Governo do Pt assim como o pr\u00f3prio partido se considera acima de tudo inclusive da lei . Ser pobre \u00e9 a condi\u00e7\u00e3o principal para se filiar e continuar a dar mais poder a essa elite partid\u00e1ria que conseguiu alcan\u00e7ar o topo para infelicidade g eral da na\u00e7\u00e3o. Os Rolezinhos ou qualquer outra  manifesta\u00e7\u00e3o vai sensibilizar esse governo, eles n\u00e3o conhecem essa palavra: sensibilidade \u2026 Elza Pereira Link Permanente 23/01/2014 17:46 Enquanto estes velhos faladores e agitadores existirem existir\u00e3o tamb\u00e9m estas velhas frases de efeito. Justificam tudo com esta fala\u00e7\u00e3o antiquada. Sempre fui pobre no meu tempo de jovem e continuo. Morava em Vaz-Lobo (perto de Madureira) e ia estudar na Tijuca e de bonde e trem. Telefone eu tinha que pedir ao portugu\u00eas da padaria para usar e pagar. Agora todos eles se comunicam na Internet para combinar  suas arrua\u00e7as. N\u00e3o tinham estes locais sofisticados e caros. T\u00ednhamos a Quinta da Boa Vista e o Jardim Zool\u00f3gico. Para chegar l\u00e1 t\u00ednhamos que pegar trem e bonde. Nunca me rebelei, n\u00e3o quebrei vitrines da Mesbla e Sears (o que tinha de melhor na \u00e9poca). O que est\u00e1 faltando \u00e9 pais respons\u00e1veis, av\u00f3s e tios. (quem cuida destes jovens). Falta LIMITES, RE SPEITO,EDUCA\u00c7\u00c3O no LAR e Na SOCIEDADE. Sa\u00fade eram poucos postos e hospitais. Um posto em Madureira e um Hospital que era o Get\u00falio Vargas na Penha. Parem de colocar justificativas. Na \u00c1frica aquele povo que passa fome e usa sapatos feitos de Pet de refrigerante tamb\u00e9m agem assim?  Tem um bando de antigos falastr\u00f5es como voc\u00eas aqui? Meus cabelos s\u00e3o brancos e castanhos e meus olhos s\u00e3o castanhos. A minha descend\u00eancia \u00e9 mesti\u00e7a do interior das Alagoas. Ricardo Augusto Rocha Link Permanente 23/01/2014 23:06 23/01/2014 17:48 Infelizmente essa \u00e9 a realidade monstruosa de nossa sociedade. A minha modesta opini\u00e3o sobre o assunto resume-se a pensar que a \u00fanica solu\u00e7\u00e3o \u00e9 o despertar dos menos favorecidos. Esse despertar se far\u00e1 mediante o reconhecimento da import\u00e2ncia da educa\u00e7\u00e3o \u2013 que continua sendo uma forma de ascens\u00e3o social, cultural e financeira. Enquanto a popula\u00e7\u00e3o menos favorecida continuar indo para as escolas (em grande parte) apenas para garantir a frequ\u00eancia do Bolsa Fam\u00edlia \u2013 sem qualquer comprometimento de aprendizado real \u2013 e sem medidas governamentais que valorizem realmente a carreira do professorado, continuaremos caminhando a passos largos guerra civil. RomeroMarcius Link Permanente 23/01/2014 17:48 O pior \u00e9 que parece que tem gente se infiltrando nos rolezinhos, para incitar baderna, visando desestabiliza\u00e7\u00e3o do Governo Dilma! No princ\u00edpio tratava-se o rolezinho de um inocente \u201c rol\u00e9 \u201d de jovens, mas pode estar virando outra coisa! Se esta onda pega, com o incitamento da galera da baderna, justamente em Ano de Copa do Mundo no Brasil \u2026 Sei n\u00e3o, meu prezado Leonardo Boff! Isto n\u00e3o est\u00e1 me cheirando bem! 23/01/2014 18:18 Absurda suas dedu\u00e7\u00f5es, das quais discordo frontalmente. Muita teoria, muita bajula\u00e7\u00e3o e pouca indica\u00e7\u00e3o de solu\u00e7\u00e3o. Criticar quem gera emprego, em apoio a desordem, ao crime, a depreda\u00e7\u00e3o, quando se beneficia dos resultados catastr\u00f3ficos dessa desordem, \u00e9 simplesmente inaceit\u00e1vel. Alegar que essa turva n\u00e3o tem onde se \u201c divertir \u201d ? Chega a ser c\u00f4mico se tr\u00e1gico n\u00e3o fosse. Ent\u00e3o pode-se considerar que os saqueadores e depredadores tamb\u00e9m n\u00e3o tem onde de \u201c divertirem \u201d ? A defesa de criminosos acaba gerando resultados onde 92% dos crimes n\u00e3o s\u00e3o resolvidos, pois os efeitos sociais d\u00e3o margem e argumentos para que essas situa\u00e7\u00f5es encontrem ecos de defesa em nome de um falso socialismo, onde os benef\u00edcios aos defensores, deixa para tr\u00e1s os verdadeiros necessitados, e se ganha apoio das massas desinformadas, ou formadas na ilus\u00e3o de doutrinas falidas, que s\u00f3 e apenas se tornam massa de manobra formadora de falsas opini\u00f5es. Vemos essa defesa nos palanques recebendo um sandu\u00edche de mortadela vencida e um gura vita mais 20 pratas para gritarem a favor do que nem sequer imaginam. Aplaudam os rol\u00e9zinhos numa fila de hospital de madrugada, numa fila de emprego, num trem lotado quebrado numa linha f\u00e9rrea, tentando voltar para casa depois de passarem pelos efeitos desse mesmo rol\u00e9zinho. Ou numa fila de UPA, com um filho pequeno tentando um atendimento de emerg\u00eancia, que tal os locais para defender os rol\u00e9zinhos para desocupados desordeiros, que acabam somando na corrente de 92% de crimes n\u00e3o resolvidos, ou at\u00e9 nos mais de 50.000 pessoas que perdem avida todos os anos v\u00edtimas dessa mesma viol\u00eancia aqu i defendida com aplausos ao desgoverno que reina em nosso Pa\u00eds ? Vai minha sugest\u00e3o de defesa aos que realmente necessitam, como os aposentados que tiveram suas aposentadorias h\u00e1 mais de 7 anos, onde muitos morreram sem terem sido respeitados seus direitos (caso Varig) ou os que s\u00e3o exclu\u00eddos na transposi\u00e7\u00e3o criminosa do S\u00e3o Francisco, que promoveu um aumento nos efeitos da seca no Nordeste, onde brasileiros morrem de sede, perdem seu gado, sucumbem ao descaso desse mesmo governo que falsamente \u00e9 defendido por um pseudo aumento de noventa e tantos por cento, numa pseudo m\u00e9dia de renda, ilus\u00f3ria diga-se de passagem, e que n\u00e3o s\u00e3o os rolezeiros defendidos aqui como n\u00e3o tendo onde se divertir \u2026 ! Li que se reclama da falta de di\u00e1logo \u2026 Que di\u00e1logo ? Esses mesmos criticados geram empregos ! Arrecadam impostos ! Pagam sal\u00e1rios ! Para muitos at\u00e9 que s\u00e3o pais desses desocupados que vandalizam a cidade, n\u00e3o s\u00f3 os shoppings. Queimam \u00f4nibus para protestarem ? E ficam sem o transporte de cada dia ? Prejudicam os que ainda fazem alguma coisa pelos mais carentes, como emprego e dignidade ? Ou dignidade \u00e9 ser sustentado pelo estado, sem nada fazerem, apenas se divertirem ? \u00c9 errado se conquistar bens materiais com esfor\u00e7o e trabalho ? Quando outros desocupados querem as mesmas conquistas sem nada fazerem ? Essa \u00e9 a igualdade sugerida ? Dignidade se conquista com trabalho honesto, sem parasitas ou falsos apoiadores de ordens question\u00e1veis. Apoio a desordem sugere interesses n\u00e3o aplic\u00e1veis as reais necessidades de quem precisa. \u00c9 totalmente incompat\u00edvel a defesa aqui exposta com o real problema ! \u00c9 totalmente inaceit\u00e1vel ! 24/01/2014 1:46 E assim falou o todo poderoso Leonardo Boff! Todo s\u00e1bio se acha tolo e todo tolo \u2026 Vc j\u00e1 sabe! Fico impressionado como vc s\u00f3 responde quem \u00e9 contr\u00e1rio \u00e0s suas opini\u00f5es! E todo coment\u00e1rio ainda aguarda modera\u00e7\u00e3o,, Pq? Medo do que podem falar? S\u00f3 permite os coment\u00e1rios contr\u00e1rios quando j\u00e1 possui uma r\u00e9plica que inferioriza o autor do coment\u00e1rio?? Interessante o seu sistema meu caro.. 24/01/2014 23:03 Marcos, Respondo \u00e0queles que argumentam. Quem insulta e se mostra incivilizado ou mando para onde deve ir, ao lixo, ou lhe tento lhe dar uma li\u00e7\u00e3o. lboff Marco Aur\u00e9lio Carvalho Link Permanente 24/01/2014 22:04 Prezado lboff, fa\u00e7a o seguinte: pergunte qual \u00e9 a ideologia destes \u201c rolezeiros \u201d . Pergunte pr\u00e1 eles, qual a diferen\u00e7a entre democracia e comunismo. Qual a diferen\u00e7a entre capitalismo e socialismo. Mas n\u00e3o pergunte aos rolezeiros de 12, 13 ou 14 anos, que estes n\u00e3o sabem nem o nome do presidente do Congresso Nacional apesar de saberem todos os cantores de funk \u2026 .pergunte aos que t\u00eam 17, 18, 19 ou  mais anos \u2026 . Se encontrar algo a mais que 5% que respondam a qualquer uma das perguntas solicitadas eu dou a minha m\u00e3o \u00e0 sua palmat\u00f3ria. Nossa juventude est\u00e1 vazia de sentimentos patri\u00f3ticos, vazia de amor ao pr\u00f3ximo, vazia de educa\u00e7\u00e3o. Participo de um grupo de ajuda material e religioso a pessoas de uma comunidade carente da minha cidade. Sabe o que mais me d\u00f3i? A indol\u00eancia de todos da comunidade com rela\u00e7\u00e3o ao bem comunit\u00e1rio. Tudo que \u00e9 da comunidade ou que poderia vir a beneficiar a comunidade \u00e9 desprezado, n\u00e3o se encontram volunt\u00e1rios, n\u00e3o se encontram participantes para tarefas elementares como ajudar a recolher o lixo que eles pr\u00f3prios geraram nas reuni\u00f5es de distribui\u00e7\u00e3o de cestas b\u00e1sicas. Ao lado da nossa institui\u00e7\u00e3o h\u00e1 uma quadra de esportes que outrora era o sonho da comunidade. Em menos de 10 anos, depois que foi entregue para a comunidade, n\u00e3o h\u00e1 uma tabela de basquete \u2026 n\u00e3o h\u00e1 um \u00fanico banco de concreto, n\u00e3o h\u00e1 um \u00fanico metro de tela ao redor da quadra que era pr\u00e1 ser da COMUNIDADE \u2026 e n\u00e3o foi degrada\u00e7\u00e3o pelo tempo \u2026 As sarjetas imundas, bueiros entupidos na frente das casas, que depois s\u00e3o inundadas pela \u00e1gua que n\u00e3o encontrou o caminho que deveria, e NINGU\u00c9M faz nada \u2026 indol\u00eancia da ignor\u00e2ncia. E nenhum sistema s\u00f3cio-pol\u00edtico (de esquerda, de direita, de centro, de cima ou de baixo) deste mundo ser\u00e1 capaz de reverter este quadro enquanto o ser humano n\u00e3o se conscientizar de que ele n\u00e3o est\u00e1 sozinho e que o coletivo deve ter prioridade sobre o individual. H\u00e1 muito fil\u00f3sofo para pouca filosofia. Obs.-Estou com 64 anos,trabalho desde os 12 anos, meu pai era barbeiro e tinha apenas o 2\u00ba ano prim\u00e1rio; estudei em escolas particulares com bolsas de estudos obtidas pelo meu pr\u00f3prio esfor\u00e7o, fui professor durante 23 anos e graduado em Ci\u00eancias e Matem\u00e1tica e n\u00e3o me constranjo em lavar os banheiros e varrer o sal\u00e3o da Institui\u00e7\u00e3o da qual eu sou volunt\u00e1rio. Recolho 3 vezes por semana o lixo que eventualmente jogam no jardim da pra\u00e7a em frente \u00e0 minha casa e limpo as bocas-de-lobo. Aceito um \u201c rolezinho \u201d para me ajudar nisso. Abra\u00e7os Dodi Link Permanente 23/01/2014 23:33 Muito bem colocado. Acho inaceit\u00e1vel a suposta inclus\u00e3o sem realmente existir uma cultura inclusiva. N\u00e3o adianta pol\u00edtica inclusiva. Isso n\u00e3o muda n ada. A cultura inclusiva muda tudo. J\u00e1 disse e repito: O brasil \u00e9 um pa\u00eds perigoso \u2026 em todos os sentidos. Evitem o brasil quem puder. 23/01/2014 18:26 Revmo. Frei, Os ricos, que det\u00e9m os 45% da riqueza nacional,  deveriam financiar tudo que fosse necess\u00e1rio para desativar essa bomba rel\u00f3gio, que poder\u00e1 explodir num conflito sangrento.  A Constitui\u00e7\u00e3o prev\u00ea o imposto sobre grandes fortunas. N\u00e3o entendo o porqu\u00ea de sua lei complementar n\u00e3o ter sido editada at\u00e9 hoje. O assunto nunca foi discutido a s\u00e9ri o. Os projetos apresentados s\u00e3o natimortos, sempre embutindo um motivo legal para serem arquivados. Conhecendo-se os valores que resultaram no c\u00e1lculo do percentual, acima referido, seria f\u00e1cil estabelecer um patamar, acima do qual incidiria a al\u00edquota. Esta, por sua vez, seria calculada em fun\u00e7\u00e3o das necessidades de financiamento para a constru\u00e7\u00e3o de hospitais, principalmente no interior, forma\u00e7\u00e3o de m\u00e9dicos para clinicar naqueles hospitais, a desapropria\u00e7\u00e3o de terras para assentamentos de hortigranjeiros e de  pequenos pecuaristas, a constru\u00e7\u00e3o de mais centros educacionais do tipo CIEPs, de centros de forma\u00e7\u00e3o t\u00e9cnica (est\u00e1 faltando m\u00e3o de obra qualificada) etc, etc.  Tamb\u00e9m n\u00e3o entendo o porqu\u00ea dos estudiosos n\u00e3o colocarem esta quest\u00e3o em discuss\u00e3o e com a prioridade requerida  O tema poderia ser bandeira de um dos candidatos, pelo menos. O imposto sobre as grandes fortunas est\u00e1 previsto na Constitui\u00e7\u00e3o e \u00e9 plenamente constitucional lutar pela sua cobran\u00e7a, uma luta para tentar  melhorar a condi\u00e7\u00e3o dos que n\u00e3o tiveram as mesmas nossas oportunidades. Cristina Coluccini Link Permanente 23/01/2014 18:30 Roseli Aparecida Piazza Rose Link Permanente 23/01/2014 18:37 Nada a ver. Simplesmente inventaram uma maneira de se conhecerem pessoalmente , marcando pelas redes sociais um encontro. e o lugar escolhido foi o shopping. S\u00f3 isso. simples assim. O duro q sempre h\u00e1 alguem q se aproveita para vandalizar. Nunca ninguem foi proibido de entrar em shopping algum. O problema agora \u00e9 entrar em bando, parecendo enxame de abelhas. Clarissa Moura Quintanilha Link Permanente 23/01/2014 18:39 \u00d3timas reflex\u00f5es!!! \u201c Eles est\u00e3o fora, n\u00e3o contam, nem sequer servem de carv\u00e3o  para o consumo de nossa f\u00e1brica social (Darcy Ribeiro). \u201d MALVINA ARALY ZAMPRONIO Link Permanente 23/01/2014 19:04 CONCORDO COM TUDO E MAIS UM POUCO, ACHO QUE ESTAMOS COME\u00c7ANDO A COLHER TUDO O QUE OS GOVERNOS PLANTARAM AO LONGO DO TEMPO, EU TENHO DITO QUE SE ALGU\u00c9M TENTASSE FAZER DEUS SORRIR COMO NO FILME A ARCA DE NO\u00c9, ASSOVIANDO E DAN\u00c7ANDO, N\u00c3O EXISTIRIA NINGU\u00c9M QUE CONSEGUISSE FAZER ISSO HOJE, TODOS AINDA EST\u00c3O MASCARADOS NUMA SOCIEDADE REALMENTE FALSA QUE NEM O PR\u00d3PRIO DEUS RECONHECERIA, COM CERTEZA DESTA VEZ SE DEPENDER DISSO, O MUNDO ACABA. Jefferson Lobo Link Permanente 23/01/2014 19:49 Bem eu acho que todos os argumentos do Boff s\u00e3o validos \u2026 o problema \u00e9 que como todo evento midiatico que esse pa\u00eds produz os rolezinhos entraram na mente dos mal intencionados que veem nisso uma oportunudade para cometer crimes \u2026 Eu sou de classe baixa e tamb\u00e9m sofro com assaltos e tudo mais \u2026 Pois os ladr\u00f5es n\u00e3o lhe livram prq voc\u00ea \u00e9 da comunidade ou coisa do tipo..Pelo contr\u00e1rio \u2026 Para eles o que vier \u00e9 lucro \u2026 Para mim \u00f3 \u201c Rolezinho \u00e9 mais uma mazela produzida pela sociedade que aproveita uma situa\u00e7\u00e3o social para criar midia destrutiva que s\u00f3 ofende a popula\u00e7\u00e3o de um modo geral \u2026 Elizabeth Matos Carneiro. Link Permanente 23/01/2014 19:52 Concordo com Boff, grande soci\u00f3logo deste pa\u00eds, a quem admiro profundamente. Entretanto, qualquer forma de protesto n\u00e3o pode estar caracterizada com baderna e deve ser contida, independentemente da classe social dos seus participantes. Depredar lojas, furtar, etc n\u00e3o pode ser considerado como \u201c protesto \u201d leg\u00edtimo. Afinal, pessoas correm riscos nos Shopping, onde circulam crian\u00e7as, idosos. Todos tem o direito de se manifestar, mas com disciplina e respeito. Beth Lucas Link Permanente 24/01/2014 1:11 E eu concordo plenamente com suas palavras Elizabeth Carneiro, pois quando se reunem 2000 pessoas para um \u2018 rolezinho \u2019 num shopping, fatalmente alguma desordem ir\u00e1 acontecer. Seria melhor que fizessem tais encontros em pra\u00e7as p\u00fablicas. N\u00e3o sei de nenhum pa\u00eds civilizado que permitiria tal evento. Antonio Jos\u00e9 Hable Foit Link Permanente 23/01/2014 20:47 Concordo em partes com o que est\u00e1 sendo descrito, onde a grande massa populacional sofre de um desprezo pelas classes governamentais, esse desprezo vem a ser inaceit\u00e1vel se levarmos em conta impostos e tributos que s\u00e3o pagos para serem destinados as coisas mais b\u00e1sicas que o ser humano necessita. Mas tratar essa nova modinha que est\u00e1 surgindo como uma forma de revolta por n\u00e3o serem aceitos na sociedade acho errado, pois certamente a metade n\u00e3o sabe o que est\u00e1 indo fazer, porque est\u00e1 indo ou at\u00e9 mesmo o que \u00e9 um \u201c rolezinho \u201d , fato esse que \u00e9 rid\u00edculo, pois fazem para ter status em redes sociais ou algo do g\u00eanero. Al\u00e9m do mais estes eventos somente mostram como n\u00e3o se tem uma organiza\u00e7\u00e3o boa, onde s\u00e3o feitas de forma r\u00e1pida e de qualquer jeito, simplesmente para existir. Certamente devem ser proibidas pois n\u00e3o \u00e9 passear em shoppings que a popula\u00e7\u00e3o precisa, e sim investimentos pesados na edu ca\u00e7\u00e3o, mas uma educa\u00e7\u00e3o com um \u00f3timo planejamento de ensino, com professores motivados a ensinarem pois esses professores precisam de reconhecimentos pelo que fazem, para poderem formar uma classe estudantil pensante que levantara este pa\u00eds doente. Com toda a popula\u00e7\u00e3o incentivada a fazer a sua parte n\u00e3o existira motivos para se preocupar com desigualdade social se ela for extinta, mas para que isto aconte\u00e7a precisamos voltar a pressionar os governos, novas manifesta\u00e7\u00f5es feitas, precisamos mostrar o quanto estamos insatisfeitos com a forma que est\u00e3o nos tratando. E tudo isso deve ser feito de maneira civilizada, pois assim n\u00f3s estar\u00edamos mostrando que s\u00f3 precisamos de apoio e considera\u00e7\u00e3o para provar nossas qualidades. Se continuarmos aceitando modinhas, n\u00e3o vamos ter como controlar mais, precisamos  mostrar a todos novos m\u00e9todos, criados para beneficiar a popula\u00e7\u00e3o e implantar de alguma forma na cabe\u00e7a da popula\u00e7\u00e3o que existe sim uma chance de mudar essa situa\u00e7\u00e3o. Acredito ainda que o que precisamos \u00e9 uma reforma na constitui\u00e7\u00e3o brasileira, que o trabalho feito pelos 3 poderes n\u00e3o seja remunerado e sim torne se voluntario, e que todas as a\u00e7\u00f5es sejam divulgadas para a popula\u00e7\u00e3o. E ainda que exista a possibilidade da popula\u00e7\u00e3o em si criar e aprovar leis. Esta \u00e9 minha opini\u00e3o resumida sobre este assunto posso ter sa\u00eddo um pouco do tema, mas creio que seja uma teia onde existe uma conex\u00e3o entre tudo. N\u00e3o estou criticando a opini\u00e3o de forma algum de quem escreveu este artigo pois respeito seu trabalho fortemente justificado com pesquisas, mas queria expressar minha opini\u00e3o. \u00e9di prado Link Permanente 23/01/2014 20:57 Quando desentocarem pedra maior que sustenta o espelho das vaidades, o morro vem abaixo. E a\u00ed \u2026 os morros ruidosos ser\u00e3o ouvidos at\u00e9 onde n\u00e3o existem morros f\u00edsicos, at\u00e9 na plan\u00edcie onde tudo \u00e9 plano. Eluiz Link Permanente 23/01/2014 21:26 Elucidativo em alguns pontos, mas o q fica marcado \u00e9 o quanto nosso Estado trata com desdem quem o elege. Investimento s\u00e9rio em educa\u00e7\u00e3o urgente. N\u00e3o precisa mais nada. Paulo Cesar Link Permanente 23/01/2014 22:06 Bem a principio acredito no jovem, e eles est\u00e3o  repletos de energias para criar modismos, movimentos, e o rolezinho esta neste contexto de suas vidas, com objetivo de criar encontro, bate papos, fazer amizades, oferecer suas proprias ideias e culturas como troca , nesses momentos, o que nao pode e confundir, porque algumas pessoas de mente maldosas aproveitam da massa popular e fazer arrast\u00f5es e etc \u2026 rolezinho e sim boa a\u00e7\u00e3o de jovem, agora \u2026 .se tem outro objetivo, que nao o dos bom encontro, foge a regra de quem deseja viver vem sociedade organizada. Maria Regina Cortez Link Permanente 23/01/2014 22:54 Fico inconformada com pessoas que ap\u00f3s ler esse maravilhoso texto, ainda ficam no coment\u00e1rio simplista de ser contra ou a favor \u2026 . o importante \u00e9 entendermos esse fenomeno muito bem abordado por Boff \u2026 \u201d Os rolezinhos no acusam \u201d \u00e9 isso que devemos refletir. Marcos Alexandre Link Permanente 24/01/2014 1:52 Nos acusam mesmo Maria Regina, de aceitar qualquer asneira dita sobre um evento que n\u00e3o poderia ser mais rid\u00edculo e infundado! Paulo Roberto Link Permanente 25/01/2014 13:01 Acho interessante que muitos desses jovens tem centenas de milhares de seguidores em suas p\u00e1ginas de redes sociais \u2026 Coisa que a esmagadora maioria dos pseudo-burguesinhos cr\u00edticos de qualquer coisa como o Marco Alexandre gostariam de ter com todo o seu \u201c conhecimento \u201d e n\u00e3o conseguem \u2026 rsrs. Mas falando dos rolesinhos, esses tamb\u00e9m causam muita intriga aos play boys de classe social mais abastardas \u2026 Como eles conseguem reunir tanta gente e n\u00f3s com nossos sistemas de marketing multi n\u00edvel (Que ensina trabalho duro para quem quer crescer financeiramente)rs e reuni\u00f5es diversas atra\u00edmos t\u00e3o pouco contingente \u2026 ?rs. Vamos as estat\u00edsticas de furtos durante esses eventos \u2026 Em duas semanas de rolesinhos foram dado queixa de um \u00fanico furto. E olha que seria o momento maravilhoso para o shopping informar realmente a quantidade de furtos que acontecem nos shoppings e culpar o rolesinhos por todos os outros que acontecem e s\u00e3o resolvidos por l\u00e1 mesmo sem nenhuma not\u00edcia midi\u00e1tica para n\u00e3o transmitir inseguran\u00e7a aos seus clientes visitantes \u2026 E claro que quando acontecem esses roubos e ou furtos quando n\u00e3o est\u00e3o presentes classes mais baixas da sociedade, geralmente diagnosticam como um cleptoman\u00edaco \u2026 rs e resolvem tudo com um aperto de m\u00e3o \u2026 Mas vou parar por aqui, pois com certeza somos os falsos moralistas em falar desse \u201c fen\u00f4meno \u201d de forma a encontrar igualdade nas desigualdades da nossa sociedade que muda de nome cada coisinha que seja feita em nome de ricos e pobres para distanci\u00e1-los em todos os eventos \u2026 Vi em um coment \u00e1rio que um cantor diz em sua m\u00fasica que policial bom \u00e9 policial morto e isso escandaliza \u2026 . Por\u00e9m dizer que ladr\u00e3o bom \u00e9 ladr\u00e3o morto n\u00e3o escandaliza \u2026 (haja cemit\u00e9rio pra tanto rico, pol\u00edtico, policial e outros ladr\u00f5es que existem em nosso pa\u00eds e que mesmo n\u00e3o generalizando est\u00e3o presentes em todos os \u00e2mbitos da sociedade). A quest\u00e3o n\u00e3o \u00e9 um ou outro e sim o tratamento que se d\u00e1 a pobres e ricos nessas situa\u00e7\u00f5es \u2026 Ser ladr\u00e3o, mas andar em carro oficial e trafegar nos shoppings comprando e alimentando o sistema burgu\u00eas \u00e9 descente. Agora fazer rolesinho j\u00e1 \u00e9 sacanagem \u2026 Esse \u00e9 o Brasil dos verdadeiros moralistas, onde a imagem \u00e9 o que importa \u2026 rs K\u00e1ssia Soares Link Permanente 24/01/2014 11:08 Concordo com voc\u00ea, Maria Regina. \u00c9 muita opini\u00e3o rasa, sem an\u00e1lise. A maioria das pessoas parece n\u00e3o se d\u00e1 ao trabalho de pensar antes de escrever. marcilene gregorio Link Permanente 24/01/2014 11:42 Sem d\u00favida \u201c os rolezinhos nos acusam \u201d . Entretanto, devemos pensar tamb\u00e9m que a maneira mais eficaz de se combater a desigualdade social, ainda \u00e9 a educa\u00e7\u00e3o. Ouvimos constantemente o discurso que \u201c n\u00e3o temos uma educa\u00e7\u00e3o de qualidade \u201d . Mas o que \u00e9 uma educa\u00e7\u00e3o de qualidade? Os governos responsabilizam os professores para justificar os baixos sal\u00e1rios pagos \u00e0 eles. O que n\u00e3o temos, na verdade, \u00e9 infraestrutura para que a qualidade aconte\u00e7a, \u00e9 fornecido o acesso mas n\u00e3o a perman\u00eancia. No entanto, este ainda n\u00e3o \u00e9 o cerne da quest\u00e3o, o fato \u00e9 que ser \u201c pobres, negros, mesti\u00e7os sem olhos azuis e cabelos loiros \u201d , n\u00e3o justifica atitudes como estas. Sou da opini\u00e3o de que as escolas n\u00e3o deveriam ter muros, aqueles que entram \u00e9 porque querem ser melhores, querem aprender, querem vencer, por meio do estudo, do trabalho e do esfor\u00e7o pessoal. Mas n\u00e3o \u00e9 isto que vemos destes \u2026 \u201c pobres frustrados e infelizes, tomados de medo, medo dos pr\u00f3prios semelhantes \u2026 Sentimos na pele (literalmente),o medo, todos os anos quando encaramos esta revolta nas salas de aula. Acolhemos, ouvimos tentamos ser amigos, mostrar um caminho, mas \u2026 n\u00e3o, n\u00e3o a tudo o que exija deles esfor\u00e7o pessoal. Montez Link Permanente 26/01/2014 18:50 Ficam acusando quem tem opini\u00e3o contr\u00e1ria ao texto de terem se embasado na m\u00eddia, por\u00e9m tamb\u00e9m o que se fala em favor dos rolezinhos \u00e9 o mesmo mimimi homologado pelo nome de intelectuais com doutorado em Munich, Paris, etc \u2026 A\u00ed os tais mestres, doutores podem falar: mas eu estudei, eu me empenhei, se estou aqui \u00e9 porque eu corri atr\u00e1s \u2026 Ok, ent\u00e3o cai por terra o argumento de que esses jovens que fazem rolezinho n\u00e3o correm atr\u00e1s porque n\u00e3o tem oportunidade. Porque quem vai a Munich fazer doutorado tem que ter o m\u00ednimo de condi\u00e7\u00e3o (ou seja, ser da burguesia), ou ent\u00e3o ter mesmo corrido muito atr\u00e1s e ter ido pra fora estudar com apoio de alguma institui\u00e7\u00e3o porque mereceu (o que n\u00e3o \u00e9 poss\u00edvel, n\u00e9, de acordo com o que eu li aqui dos que apoiam o texto, pois h\u00e1 zero oportunidades para esses jovens), e que conseguir algo na vida s\u00f3 quem \u00e9 mesmo da burguesia. Marta Link Permanente 23/01/2014 23:06 \u201c Desqualifica\u00e7\u00e3o da ordem e exalta\u00e7\u00e3o da bagun\u00e7a \u201d . Meu pai e seu irm\u00e3o (meu tio), depois de serem abandonados pelo pai deles, passaram fome, necessidades e assim cresceram trabalhando, dando valor ao pouco que tinham e ajudando \u00e0 m\u00e3e deles. N\u00e3o conseguiram estudar, mas conseguiram o respeito de todos pela luta com honestidade, humildade. E mais, conseguiram vencer na vida e muito bem. Pessoas honestas, de bom car\u00e1ter e nunca deram preju\u00edzo a ningu\u00e9m. N\u00e3o precisaram prejudicar a quem quer que seja para chegar onde chegaram. Os valores s\u00e3o outros, infelizmente. Dodi Link Permanente 23/01/2014 23:25 Muito bem escrito, muito bem analisado, mas n\u00e3o diz nada e n\u00e3o vai mudar nada. O Brasil n\u00e3o vai mudar. A elite n\u00e3o vai mudar. A sociedade n\u00e3o vai mudar. Urge que se mude, mas mais de 500 anos n\u00e3o se alteram da noite para o dia. Muitas e muitas gera\u00e7\u00f5es passar\u00e3o at\u00e9 que algo tenha real mudan\u00e7a. N\u00e3o acredito mais nesse pa\u00eds. As an\u00e1lises n\u00e3o s\u00e3o realistas, s\u00e3o uma tentativa de equalizar um pa\u00eds miser\u00e1vel, elitista e perigoso, com receitas tamb\u00e9m elitistas, mas que fizeram sucesso e geraram a capacidade que esses analistas t\u00eam de criticar. Todos leram muito e s\u00e3o elite. Tire isso tudo deles e veja o que sobra! N\u00e3o fossem os elitistas europeus, que seria do Brasil! 24/01/2014 23:16 Dodi, Precisa-se de um sonho, de uma vontade de mudan\u00e7a. Sem isso nada mudar\u00e1. Os conservadores e as elites opulentas querem exatamente um pensamento assim. Ai continuar\u00e3o tranquilas. As coisas n\u00e3o caem do c\u00e9u nem acontecem por acaso. Mas pela determina\u00e7\u00e3o de pessoas que se recusam aceiar um mundo t\u00e3o mavado como temos. lboff paula Link Permanente 23/01/2014 23:30 N\u00e3o come\u00e7ou pedra nenhuma rolar !! n\u00e3o imaginam o que \u00e9 uma guerra civil por que s\u00f3  incitam  a viol\u00eancia nesse pais?, tudo \u00e9 uma baixaria, um debate, um problema e j\u00e1 est\u00e3o falando em guerra .tenho nojo de se humana !!! preferia ser um verme s\u00e3o mais unidos .em rela\u00e7\u00e3o a vadiagem que chamam de rolezinhos sou totalmente contra,sou negra sou pobre mas n\u00e3o sou burra  como figem que est\u00e3o do lado da classe criando mais polemica  e tirando todos do verdadeiro foco !! gente ser\u00e1 que ningu\u00e9m enxerga que justamente isso que querem fortalecer  uma desigualdade que vem enfraquecida ! estamos em que s\u00e9culo ? Eug\u00eanio Esp\u00edndula Borgo Link Permanente 26/01/2014 12:05 Concordo plenamente contigo, Paula. Sou um pouco diferente de voc\u00ea porque sou branco e classe m\u00e9dia, mas tamb\u00e9m n\u00e3o me julgo t\u00e3o burro a ponto de ficar cego para o incentivo \u00e0 luta de classes que os oportunistas de uma ideologia fracassada desejam ver eclodir neste pa\u00eds. Meus pais foram pobres e s\u00f3 puderam dar uma condi\u00e7\u00e3o melhor aos seus filhos porque estudaram e trabalharam HONESTAMENTE para isso. Ali\u00e1s, estudaram em escolas p\u00fablicas, que antigamente, quase 70 anos atr\u00e1s, antes desses governos socialistas, procuravam ensinar o que realmente \u00e9 v\u00e1lido para o progresso dos alunos. Bernardo Brito Link Permanente 23/01/2014 23:40 Triste que para a periferia reste apenas depredar para se fazer evidente. Acontecem tamb\u00e9m furtos, mostrando que a eles, em seu n\u00edvel de educa\u00e7\u00e3o moral, o artigo de consumo ttamb\u00e9m \u00e9 mais importante que a discuss\u00e3o das id\u00e9ias. Eles n\u00e3o invadem dialogando, e os lojistas tamb\u00e9m n\u00e3o tem como se proteger dialogando \u2026 o mais evidente \u00e9 que h\u00e1 uma placidez do governo federal que nem protege o marginalizado, nem protege a propriedade privada. Escolhe encastelar-se na ilha da fantasia, sob o cume de 1,3 trilh\u00f5es de impostos. Seu indice de sucesso \u00e9 dizer que melhorou o consumo. E a educa\u00e7\u00e3o? Um dia diremos tamb\u00e9m: adieu ancien r\u00e8gime. Irene Margarida Lajos Kemp Link Permanente 24/01/2014 0:43 Que rido Leonardo, tenho quase sua idade, e partilho do que pensa e nos ensina. Assumi a teologia da liberta\u00e7\u00e3o e me alegro ao ver que Papa Francisco retoma a linha de compaix\u00e3o pelos pobres. atuais realidades, mal interpretadas, n\u00e3o v\u00eam que \u00e9 fruto do capitalismo selvagem. N\u00e3o adianta repulsa. Cada um de n\u00f3s temos responsabilidades na transforma\u00e7\u00e3o dessa realidade. Como Boff devemos assumir, denunciar, nunca nos calar. Irene Margarida Lajos Kemp Beth Lucas Link Permanente 24/01/2014 1:18 Entendo o enfoque que o Professor Leonardo Boff quis dar a este movimento com  a utiliza\u00e7\u00e3o dos referidos shoppings, pois \u00e9 l\u00e1 que reside o cerne de toda a quest\u00e3o social que atinge hoje este nosso mundo moderno \u2013 o consumo exacerbado, galopante. Ora, se um jovem come\u00e7a a fazer sua m\u00fasica funk e ganhar dinheiro com o grande nicho que se interessa por este tipo de som, fatalmente ir\u00e1 querer comprar o que sonha e v\u00ea pelas m\u00eddias, e seus sonhos est\u00e3o nas marcas internacionais, num carro de luxo, numa gargantilha de ouro da H.Stern e out ras coisas mais, pois n\u00e3o t\u00eam perspectivas de futuro, n\u00e3o t\u00eam a base de tudo que \u00e9 a educa\u00e7\u00e3o e uma fam\u00edlia. Coisa que nossos governantes n\u00e3o se importam nem um pouco, pelo contr\u00e1rio, desejam que continuem neste limbo cultural para que possam manej\u00e1-los como sempre foi. O fato interessante, e que iguala em comportamento de consumo duas classes neste pa\u00eds atualmente,  \u00e9 que uma, a emergente,  sonha e compra uma bolsa Louis Vuitton e desfila pelas ruas de um pa\u00eds de ruas sujas e violento, e a outra,  uma classe que vem revelando os mesmos interesses, s\u00f3 que come\u00e7ando por um bon\u00e9 de marca na faixa de 200 reais. Como bem disse o leitor Ricardo Augusto Rocha acima: \u201c No entanto, tamb\u00e9m \u00e9 interessante pensarmos que toda esta mis\u00e9ria humana que nos incomoda seja trazida \u00e0 tona, bem ou mal, justamente num movimento que a revela e esfrega em nossa cara. \u201d Ahh e pra terminar quero dizer que admiro muito suas coloca\u00e7\u00f5es e seus livros Boff e j\u00e1 cumprimentei-o pessoalmente numa padaria l\u00e1 em Itaipava, sou sua f\u00e3, embora n\u00e3o curta o PT. um abra\u00e7o. Marcos Alexandre L ink Permanente 24/01/2014 1:52 O jovem no Brasil nunca \u00e9 levado a s\u00e9rio pq n\u00e3o age como um indiv\u00edduo s\u00e9rio perante a sociedade!! Acha que vida de m\u00fasica de Racionais e \u201c Mc alguma coisa \u201d que \u00e9 boa?? Gingar e falar g\u00edria, g\u00edria n\u00e3o, dialeto, vai te fazer ser respeitado?? Ok, liberdade de cada um agir e falar como \u00e9! Mas defini\u00e7\u00e3o de insanidade \u00e9 ter as mesmas atitudes esperando resultados diferentes!! E quer fazer diferente? Vota direito, ajude o pr\u00f3ximo, seja uma pessoa de bem e eduque bem os seus filhos! \u00c9 assim que vc muda o mundo, fazendo a SUA parte! For\u00e7ar pra que te respeitem, s\u00f3 faz de vc um oprimido que agora \u00e9 opressor!! Keyth de Moraes Link Permanente 29/01/2014 12:27 Caro Marcos Alexandre! Como seu coment\u00e1rio \u00e9 carregado de hipocrisia: \u201c cada um por si e Deus por todos \u201d ?. Voc\u00ea realmente n\u00e3o percebe a sociedade, n\u00e9. Tente olhar al\u00e9m do seu mundo e ver\u00e1s que o jovem no Brasil n\u00e3o \u00e9 levado a s\u00e9rio, desde o momento que na sce, principalmente esses jovens que moram na periferia, escondidos, exclu\u00eddos e esquecidos em todos os seus direitos sociais. Al\u00e9m disso, votar direito \u00e9 algo muito complicado enquanto vivermos em uma sociedade com esse modo de produ\u00e7\u00e3o, voc\u00ea n\u00e3o acha? Ou temos \u00f3timos op\u00e7\u00f5es de candidatos e partidos? N\u00f3s mudamos o mundo unindo nossas indigna\u00e7\u00f5es e buscando uma sociedade mais justa e igualit\u00e1ria, com iguais oportunidades. Se todos tiv\u00e9ssemos isso at\u00e9 entenderia sua revolta nos textos comentados, mas n\u00e3o \u00e9 isso que temos, n\u00e9.? Luiza Link Permanente 24/01/2014 7:32 Excelente reflex\u00e3o!!!Um alento em meio a tanta estupidez que vem sendo reproduzida pelo senso comum dos setores mais conservadores. Cesar Link Permanente 24/01/2014 7:37 Com todo o respeito \u2013 que de fato o senhor merece \u2013 o movimento dos garotos est\u00e1 relacionado com o individualismo, n\u00e3o como algo ego\u00edsta, mas como dignidade. O Shopping representa a liberta\u00e7\u00e3o da coletividade. \u00c9 muito mais um ato ato em desagravo ao shopping e ao que ele representa: s\u00e3o adolescentes declarando amor ao Shopping Center, \u00e0 independ\u00eancia financeira, \u00e0 conquista individual e ao empreendedorismo. Deus cuida das pessoas individualmente. N\u00e3o coletivamente. Deus liberta o homem do Estado. O homem de Deus \u00e9 um indiv\u00edduo aut\u00eantico. Deus \u00e9 outra natureza, prezado Sr. Boff, com outras leis. E o homem convertido \u00e9 aquele que vivencia a natureza divina. E \u00e9 desta viv\u00eancia a origem da filosofia na verdadeira concep\u00e7\u00e3o do termo. E \u00e9 justamente por isso que os socialistas s\u00e3o inimigos do cristianismo. Eles pretendem aprisionar as pessoas em seu estado coletivista e transferir para o Grande Estado as raz\u00f5es da exist\u00eancia destas pessoas. 24/01/2014 22:55 Ciro Vc deu um belo testemunho que seria uma resposta de fechar a boca de tantos criticos ao artigp que escrevi. Ali\u00e1s nem criticam, insultam porque na verdade percebem que foram atingidos nos seus privilegios feitos \u00e0 custa da imensas maiorias excluidas. lboff Keyth de Moraes Link Permanente 24/01/2014 9:39 Adorei a an\u00e1lise, s\u00f3 me entristece esse pessoal que se preocupam tanto com partidos e n\u00e3o compreendem que isso \u00e9 resultado do modo de produ\u00e7\u00e3o de nossa sociedade. Gilnei N Nepomuceno Link Permanente 24/01/2014 10:04 Fazer rolezinho na Biblioteca n\u00e3o querem. Essa hist\u00f3ria de segrega\u00e7\u00e3o social e exclus\u00e3o n\u00e3o justifica nada. Sempre have r\u00e3o pobres, tanto material como espiritualmente. Ser pobre n\u00e3o justifica invadir espa\u00e7os e disseminar o desrespeito. Os rol\u00e9s (passeios) sempre existiram. N\u00e3o \u00e9 \u00e0 toa que existe a express\u00e3o: VAMOS D\u00c1 UM ROL\u00c9 POR A\u00cd! \u00c9 muito importante a troca de informa\u00e7\u00f5es, sem d\u00favidas, mas, o mais importante, \u00e9 que essas informa\u00e7\u00f5es sejam salutares e possam agir de alguma forma para a forma\u00e7\u00e3o \u00e9tica e moral dessa juventude. Daniel Augusto de Almeida Link Permanente 24/01/2014 10:12 Cabe esclarecer que o sentido de \u201c manifesta\u00e7\u00e3o \u201d \u00e9 colocado apenas pela m\u00eddia e pelos menos informados a respeito do tema, pois os jovens presentes nestes encontros tem como objetivos \u201c beber \u201d , \u201c beijar \u201d e \u201c zoar \u201d , palavras dos mesmos nas mais diversas entrevistas. Shoppings Center s\u00e3o centros de compras. E n\u00e3o vivemos em um pa\u00eds socialista. Portanto, n\u00e3o se deve estabelecer o pensamento invejoso de que se reunir aos centenas ou milhares em um dest es centros \u00e9 justificado pela \u201c agress\u00e3o \u201d \u00e0 sociedade com melhores condi\u00e7\u00f5es para, desta forma, chamar sua aten\u00e7\u00e3o para as diferen\u00e7as sociais. Pa\u00edses capitalistas sempre ter\u00e3o diferen\u00e7as sociais. E mesmo nos socialistas isso ocorre. Devemos compreender que tal encontro com tamanha dimens\u00e3o acaba por limitar direitos de empres\u00e1rios, lojistas e seus clientes e colaboradores quando limita ou at\u00e9 mesmo impede o exerc\u00edcio de suas atividades ou interesses. Dizer que n\u00e3o h\u00e1 outras op\u00e7\u00f5es como local dos encontros \u00e9 outra incoer\u00eancia, pois as cidades onde aconteceram os \u201c maiores \u201d \u201c rolezinhos \u201d t\u00eam parques e pra\u00e7as p\u00fablicos onde o  encontro poderia ter acontecido. Compreendo a tem\u00e1tica do texto, mas modestamente, n\u00e3o aceito como justificativa para o \u201c fen\u00f4meno \u201d , pois quem n\u00e3o tinha consci\u00eancia de que existia tanta diferen\u00e7a social e precisou ver estes encontros para tomar ci\u00eancia, n\u00e3o vivia neste pa\u00eds. Enfim, \u00e9 preciso menos \u201c arrog\u00e2ncia social \u201d . \u00c9 preciso acabar com a cultura do \u201c coitado \u201d . Hoje os \u201c pobres \u201d t\u00eam acesso a muitas coisas que n\u00e3o tinham no passado. Ocorre que a garra para lutar e conquistar seus objetivos est\u00e1 pregui\u00e7osa pelas pol\u00edticas atuais que preferem dar \u201c de m\u00e3o beijada \u201d a motivar a luta pela conquista. \u201c Se o governo n\u00e3o me d\u00e1, ent\u00e3o vou l\u00e1 incomodar quem pode ter. \u201d Ora, e quem foi que disse que os frequentadores de Shoppings Center, que l\u00e1 v\u00e3o para fazer compras, se alimentar ou passear com sua fam\u00edlia s\u00e3o cidad\u00e3os que ganharam estas condi\u00e7\u00f5es do governo? Com toda a certeza, muitos s\u00e3o trabalhadores, que ralam por todo um m\u00eas para ent\u00e3o \u201c tirar um dia \u201d para isso. Ent\u00e3o seu direito pode ser reprimido por uma multid\u00e3o que n\u00e3o concorda com sua condi\u00e7\u00e3o social? E os que l\u00e1 est\u00e3o para ganhar o seu \u201c p\u00e3o de cada \u201d dia? Estes que acordam cedo, ficam talvez at\u00e9 horas dentro de um \u00f4nibus lotado para chegar ao seu local de trabalho e, como no caso de muitos vendedores, que ficam horas em p\u00e9 e dependem das vendas para encorpar seus vencimentos, podem ter seu direito ao trabalho reprimido por estes jovens? Mas, opa! Muitos destes que reclamam de suas condi\u00e7\u00f5es sociais est\u00e3o l\u00e1 nos \u201c rolezinhos \u201d vestindo t\u00eanis, roupas e acess\u00f3rios importados, alguns com belos cord\u00f5es de prata nos pesco\u00e7os al\u00e9m de portar smartphones e at\u00e9 iPads e iPhones trocando mensagens e atualizando seus perfis nas redes sociais. Sim, amigos. N\u00e3o \u00e9 simplesmente uma quest\u00e3o social. \u00c9 uma quest\u00e3o comportamental. Leonardo Boff, parab\u00e9ns pelo texto. \u00c9 elucidador em v\u00e1rios pontos e com estes concordo. Mas me senti na obriga\u00e7\u00e3o de expor estas quest\u00f5es acima, muitas vezes esquecidas ou ignoradas por aqueles que tratam do tema. Fraterno abra\u00e7o! Jairo Galv\u00e3o Link Permanente 24/01/2014 10:39 Acredito que est\u00e1 perto das pessoas entenderem o que est\u00e1 acontecendo, sobretudo a maioria, que pela elite \u00e9 v ista como coisa pouca e f\u00e1cil de ser conduzida como foi ao longo da historia \u2026 na porrada! \u2026 (luta de classes) \u2026 De fato ainda s\u00e3o b\u00e1rbaros, que v\u00ea a injusti\u00e7a e n\u00e3o s\u00e3o capazes de se indignar, e interpretam como normais.. \u201d somos camaradas, irm\u00e3os \u201d ? \u2026 A raiva do Bolsa Fam\u00edlia e dos programas sociais, clareiam na minha mente a certeza que a elite burguesa tem de que \u201c j\u00e1 era! \u201d \u201c perdeu playboy! \u201d Deram dinheiro e os guerrilheiros se armaram \u2026 guerrilheiros sim, sem generais ou comando central \u2026 (talvez) \u2026 e armas sim, eletr\u00f4nicas, pra acessar uma muni\u00e7\u00e3o chamada internet, e uma bomba at\u00f4mica chamada rede social \u2026 (mais uma vez perderam o controle do Trem \u2026 ) O resultado \u00e9 o \u00f3bvio, uma curva na historia..e estamos vivendo ela..um novo ordenamento das coisas, e aos poucos vamos deixando a forma barbara tradicional pra alcan\u00e7ar uma outra, a final somos humanos, e a transforma\u00e7\u00e3o \u00e9 tamb\u00e9m Darwiniana \u2026 (adapte-se, pois!) vivemos uma revolu\u00e7\u00e3o como nos livros de historia, s\u00f3 que agora com multi vers\u00f5es e todas dentro da sua verdade \u2026 caminhamos hoje a passos largos pra um nivelamento e como n\u00e3o podia deixar de ser..traum\u00e1tico e por vezes involunt\u00e1rio \u2026 e certamente inevit\u00e1vel, como j\u00e1 disseram \u2026 N\u00e3o tem mais volta! josefilosofo Link Permanente 24/01/2014 11:14 Bom \u2026 achei at\u00e9 interessante a an\u00e1lise de Boff, mas n\u00e3o concordo com a conclus\u00e3o tirada desses \u201c rolezinhos \u201d , n\u00e3o! Para mim isso \u00e9 apenas um mecanismo de fuga encontrado pelos jovens, para fugir \u00e0 realidade e \u00e0s exig\u00eancias que ela imp\u00f5e a eles. N\u00e3o \u00e9 a sociedade que esta doente, s\u00e3o as fam\u00edlias que est\u00e3o doentes devido \u00e0 falta de estrutura familiar. Jogar a culpa na sociedade ou no sistema pol\u00edtico capitalista? A maioria desses jovens nem sabem o que \u00e9 isso, infelizmente. Na verdade s\u00e3o jovens revoltados e tentando mostrar sua revolta com a vida e com tudo o mais com o que eles n\u00e3o concordam, porque n\u00e3o s\u00e3o preparados para viver no mundo de hoje, a realidade do mundo de hoje, cada vez mais complexa, cada vez mais e mais competitiva. Desigualdades sociais sempre haver\u00e1 em todas as sociedades seja qual seja o sistema pol\u00edtico existente, porque o homem \u00e9 comumente competitivo e esta sempre em busca de privil\u00e9gios, seja por sua capacidade intelectual, seja por suas habilidades \u2026 etc. O capitalismo pode n\u00e3o ser a melhor forma de governo, mas \u00e9 a que esta a\u00ed e precisamos aprender a viver e a conviver nela, pelo menos at\u00e9 que se encontre uma forma de governo que seja melhor que essa, a qual eu ainda desconhe\u00e7o. Porque o comunismo j\u00e1 demonstrou ser invi\u00e1vel \u2026 sem mais detalhes. Basta ver a hist\u00f3ria dele na R\u00fassia e a sua busca de sair desse sistema invi\u00e1vel. Voltando ao assunto da falta de estrutura familiar, causa dessa revolta dos jovens que usam esses mecanismos de fuga \u00e0 realidade \u2013 como esses rolezinhos, que felizmente ainda tem sido menos grav e que a bebida, \u00e1lcool, drogas \u2026 e a viol\u00eancia, que vem se tornando uma epidemia no Brasil \u2013 enquanto n\u00e3o houver uma reestrutura\u00e7\u00e3o das fam\u00edlias, n\u00e3o vamos ter uma sociedade mais justa, fraterna e equilibrada. Um bom exemplo de qu\u00e3o importante \u00e9 a estrutura familiar s\u00e3o esses jovens que hoje vemos sair de ambientes extremamente violentos, como de algumas favelas do Rio, antes dominadas por traficantes, como vi em reportagem recente, estarem hoje procurando fazer uma faculdade e serem pessoas do bem, generosas, trabalhadoras, altru\u00edstas etc. N\u00e3o s\u00e3o os extremamente pobres, os mais sofridos, os que usam esses mecanismos de fuga, como rolezinho, pois esses, geralmente nem sabem bem o que seja um shoping. O que eu chamo de boa estrutura familiar \u00e9 um lar onde os pais sejam presentes na vida e na educa\u00e7\u00e3o dos filhos, que os devem criar com respeito, amor, carinho, aten\u00e7\u00e3o, mas tamb\u00e9m impondo limites e cobrando responsabilidades deles e isso \u00e9 o b\u00e1sico. E uma fam\u00edlia onde Deus n\u00e3o entra o inimigo faz a festa! E n\u00e3o h\u00e1 forma\u00e7\u00e3o que seja capaz de suprir a aus\u00eancia de Deus! Pois s\u00f3 uma pessoa capaz de compreender a raz\u00e3o de seu existir, que n\u00e3o se deixe levar pelas fugacidades do mundo, do cotidiano; das ilus\u00f5es de uma felicidade f\u00e1cil, f\u00fatil, passageira e irrespons\u00e1vel que a m\u00eddia apregoa como o o\u00e1sis para a vida do homem \u2026 apenas com intuito de nos fazer consumir seus produtos, vamos continuar a viver num mundo cada vez mais hostil, mais desumano e mais desigual! \u2026 Sussu Sayuri Link Permanente 24/01/2014 11:29 Os rolezinhos \u00e9 um modo desses jovens dizerem: \u201c Ei parem, olhem, para n\u00f3s somos a maioria, queremos e merecemos um pa\u00eds melhor, mais justo, sa\u00fade p\u00fablica, educa\u00e7\u00e3o, uma pol\u00edtica verdadeira, que faz e acontece, e n\u00e3o Est\u00e1dios, o direito de ir e vir, de todo cidad\u00e3o livre(nem t\u00e3o livre assim), o sentimento que fica \u00e9 somente a vergonha de viver num pa\u00eds de coron\u00e9is ainda, infelizmente, e que eu saiba a falta de recursos materiais, a cor, a profiss\u00e3o, n\u00e3o te classifica como bandido ou n\u00e3o, isso se chama PRECONCEITO, e engra\u00e7ado os donos de shoppings fecharem as portas e chamarem a pol\u00edcia, os maiores bandidos que temos visto ultimamente, s\u00e3o os do alto escal\u00e3o da pol\u00edtica, s\u00f3 andam em carr\u00f5es, usam ternos e gravatas, falam bonito e  s\u00e3o CORRUPTOS, isso \u00e9 o Brasil, infelizmente, me pergunto que pa\u00eds \u00e9 este, que a justi\u00e7a s\u00f3 fuciona pra uma minoria, tudo fuciona somente a base do QI(Quem Indica), do tal do jeitinho, ah que horror!!!!!! Rolezinhos Eu sei, os adolescentes n\u00e3o s\u00e3o f\u00e1ceis, mas \u2026 \u00c9 muito f\u00e1cil responsabilizar sociedade,governo capitalista, escolas e fam\u00edlia por tudo aquilo que os adolescentes fazem ou deixam de fazer. E muito mais f\u00e1cil atacar os adolescentes. Tenho algumas perguntas sobre os rolezinhos. 1\u00aa Quantos adolescentes est\u00e3o neste momento, planejando rolezinhos para desviar verbas destinadas a educa\u00e7\u00e3o, sa\u00fade e seguran\u00e7a? 2\u00aa Quantos adolescentes, est\u00e3o no comando de tr\u00e1ficos de drogas, destruindo a vida de milhares de crian\u00e7as, adolescentes e fam\u00edlias inteiras? 3\u00aa Quantos adolescentes, est\u00e3o traficando crian\u00e7as e mulheres para explora\u00e7ao sexual ? 4\u00aa Quantos adolescentes est\u00e3o tirando a oportunidade de milhares de crian\u00e7as e adolescentes de terem uma escola em seus bairros com qualidade e em tempo integral? 5- Quantos adolescentes promovem bailes funks, regados de todos os tipos de drogas(proibidas para menores)? 6\u00aa Quantos adolescentes fabricam roupas e cal\u00e7ados sensuais para o p\u00fablico infantil e adolescente. 7\u00aa Quantos adolescentes apresentam ou dirigem programas de baixo n\u00edvel na televis\u00e3o em canais abertos? 8\u00aa Quantos adolescentes incentivam o consumismo desenfreado, fazendo com que os adolescentes e crian\u00e7as tornem-se cada dia mais consumistas, e passam a n\u00e3o se interessar pelo valor do objeto desejado e como v\u00e3o conseguir. Eles querem o celular da hora, o tablet da hora, a roupa da hora. Como v\u00e3o conseguir n\u00e3o importa. 9\u00aa Quantas bibliotecas tem em cada cidade, quantas escolas, quantos parques ecol\u00f3gicos, quantos teatros, quantas salas de cinema, quantos museus, quantas quadras de esportes e lazer para nossas crian\u00e7as e adolescentes? 10\u00aa Quem s\u00e3o os respons\u00e1veis pela educa\u00e7\u00e3o, sa\u00fade e seguran\u00e7as de uma cidade, estado e pa\u00eds, s\u00e3o os adolescentes? 11-Se os adultos n\u00e3o tem compet\u00eancia para administrar a educa\u00e7\u00e3o, sa\u00fade e seguran\u00e7a, s\u00e3o os adolescentes os respons\u00e1veis pelas rebeldias do mundo? 12-Os adultos que hoje comandam o mundo, um dia foram adolescentes, conseguem lembrar o que pensavam do mundo, quais as oportunidades que tiveram? 13-Quais as refer\u00eancias que os adolescentes tem, em quais autoridades brasileiras eles podem se inspirarem? Maria do Carmo Santana Link Permanente 24/01/2014 12:09 Os sangsugas podem fazer seu \u201c rolezinho \u201d em Paris, curtindo sua boa gastronomia, show de rock. J\u00e1 pensaram este rolezinho na Central do Brasil? Marcos Teruo Ouchi Link Permanente 24/01/2014 13:29 Acho a desigualdade social uma coisa muito ruim mas n\u00e3o \u00e9 poss\u00edvel deixar de constatar que a riqueza n\u00e3o para nas m\u00e3os desta parcela \u201c injusti\u00e7ada \u201d da popula\u00e7\u00e3o boa parte por responsabilidade deles mesmos. Como posso afirmar isso? No m\u00eas passado 66% da popula\u00e7\u00e3o tinha d\u00edvidas de consumo vencidas e n\u00e3o pagas e, destes, cerca de 25% impag\u00e1veis. Uma das entrevistadas dos \u201c rolezinhos \u201d afirmou que pagou mais de R$400,00 em um t\u00eanis exclusivamente para dar o passeio e que a m\u00e3e quer comprar um apartamento mas a garota n\u00e3o deixa. Outro rapaz que participa disse ganhar R$800,00 e gastar R$700,00 em roupas todos os meses. Um outro diz ter pago mais de R$1000,00 em um t\u00eanis. Nos programas de TV onde h\u00e1 \u201c reformas \u201d de casa \u00e9 praticamente imposs\u00edvel deixar de notar que a casa est\u00e1 caindo, est\u00e3o passando fome mas a TV LED de 32 ou 40 pol. est\u00e1 l\u00e1 tinindo num dos cantos da casa. Ah, claro, o smartphone est\u00e1 l\u00e1 tamb\u00e9m. Prolifera aqui no FB um post de um cara que diz que \u00e9 melhor gastar todo seu sal\u00e1rio se divertindo a poupar para a velhice. Concordo quando ele diz que a solu\u00e7\u00e3o n\u00e3o \u00e9 apenas a distribui\u00e7\u00e3o de renda. Na minha opini\u00e3o passa pela educa\u00e7\u00e3o. E, pelo que tenho visto, a galerinha est\u00e1 longe de querer fazer seus rol\u00e9zinhos nos aparelhos culturais e educacionais existentes. Parabens. Retrata bem a insensibilidade pequeno-burguesa de muitos de nossa sociedade. lboff marco waller Link Permanente 25/01/2014 14:28 Cuidado Leonardo. Para eles, voce tamb\u00e9m faz parte da burguesia, pois qualquer um que ter 50 reais na carteira \u00e9 rico e elitizado. \u00c9 assim que me sinto quando tenho que ir comprar algo num shopping mesmo ganhando 3 sal\u00b4rios minimos e com 3 filhos pra sustentar. Muitos desses vagabundos protegidos tem mais do que eu e se dizem injusti\u00e7ados. Nelma Rozsa Link Permanente 24/01/2014 14:04 Sou filha de um taxista e uma dona de casa. Cresci ouvindo dos meus pais que se eu quisesse comer algo al\u00e9m do p\u00e3o com manteiga (pouca para durar), no meu caf\u00e9 da manh\u00e3, eu deveria estudar e trabalhar muito. Passei todo o vestibular com a mesma cal\u00e7a jeans, pois era a \u00fanica que eu tinha. A sand\u00e1lia gasta, herdei da minha irm\u00e3 mais velha. Enquanto sonhava com as coisas que eu n\u00e3o podia ter, estudava e estudava. Fiz duas faculdades e hoje vivo muito bem. Adoro viajar e apesar de n\u00e3o ser uma pessoa consumista, gosto de viver com conforto. Conforto esse, que conquistei com muito esfor\u00e7o e dedica\u00e7\u00e3o ao meu trabalho. S\u00f3 para lembrar, a \u00fanica coisa que cai do c\u00e9u na nossa cabe\u00e7a, \u00e9 chuva. Essa verdade foi ontem, \u00e9 hoje, e ser\u00e1 amanh\u00e3. lucas Link Permanente 24/01/2014 16:03 Uhuuuuu \u2026 sou do rolesinho, vou ao shop, fa\u00e7o estrago, aterroriso patricinhas, pego uns bagulho  e ainda sou protejido!!! Bom D++++++++++++ Manooooooooooooooooooo!!!!!!!!!!!!!!!!!! PoR IssU Amu Meu Brazilllllll auauauuauauauauuauauauauauauau Paulo Menezes Link Permanente 24/01/2014 16:30 \u00c9 um absurdo querer associar racismo ou discrimina\u00e7\u00e3o social \u00e0 repress\u00e3o \u00e0 esses chamados \u201c rolezinhos \u201d , jovens de todas cores e classes sociais sempre lotaram os shoppings, principalmente nos finais de semana, sem qualquer problema. Qualquer um que frequente shoppings com alguma regularidade sabe do que estou falando. Tentar associar a rejei\u00e7\u00e3o aos \u201c rolezinhos \u201d a racismo ou qualquer tipo de discrimina\u00e7\u00e3o s\u00f3 pode ser com a inten\u00e7\u00e3o de obter algum poss\u00edvel ganho pol\u00edtico ou uma imensa ignor\u00e2ncia. Por favor pensem um pouco, \u00e9 \u00f3bvio que um shopping center n\u00e3o \u00e9 lugar para se combinar encontros de grandes grupos  de jovens como se fosse uma torcida organizada, \u00e9 evidente que isso d\u00e1  problema, principalmente porque alguns se excedem mesmo, sem contar alguns mau intensionados que se infiltram nestes grupos para cometer delitos, e n\u00e3o sejamos hip\u00f3critas, sabemos que isso acontece. Jovens e adolencentes s\u00e3o normalmente agitados e rebeldes e tais caracter\u00edsticas s\u00e3o potencializadas quando estes est\u00e3o organizados em grandes grupos. Por isso esses encontros s\u00f3 podem funcionar bem em grandes \u00e1reas p\u00fablicas, feitas para tal, como acontecem nos est\u00e1dios, pra\u00e7as e parques para eventos como shows de m\u00fasica ou algo do tipo. \u00c9 \u00f3bvio que shoppings centers, frequentados por fam\u00edlias inteiras, crian\u00e7as e velhos para fazer compras e se divertir de forma tranquila e sossegada requerem um ambiente seguro, organizado e pacato e o respeito de todos \u00e0 certas regras de conviv\u00eancia, o que \u00e9 imposs\u00edvel onde ocorrem esses tais \u201c rolezinhos \u201d . Ruim Olinto Link Permanente 24/01/2014 16:48 Shoppings me deixam angustiado e muitas das vezes deprimido. Deixo me levar pela falsa ideia de que vou a shopping para me distrair, o que na realidade, estou em busca de um posi\u00e7\u00e3o na sociedade, onde sou ignorado, comprando roupas de marcas para ostentar status que n\u00e3o possuo, o que n\u00e3o agregou nenhum valor ao meu conhecimento, perdi meu precioso tempo. Isto que fa\u00e7o comigo \u00e9 cruel, sei disso. Tenho um pouco de conhecimento, cultura e forma\u00e7\u00e3o superior. Tenho que mudar isto. Uma revolu\u00e7\u00e3o, talvez se faz necess\u00e1ria. Come\u00e7arei por mim mesmo. Esta \u00e9 a unica chance que tenho, aos 60 anos, para dar inicio a esta revolu\u00e7\u00e3o. N\u00e3o fa\u00e7o mais rol\u00e9 em shoppings. Anderson Link Permanente 24/01/2014 17:33 \u201c Quando a cor da pele for mais importante do que a cor dos olhos n\u00e3o haver\u00e1 mais guerra. \u201d Bob Marley. Michel Link Permanente 24/01/2014 17:49 N\u00e3o concordo, em minha opini\u00e3o o texto traz uma reflex\u00e3o interessante sobre desigualdade social mas os rolezinhos n\u00e3o tem nada a ver com isso. Essa molecada n\u00e3o \u00e9 engajada politicamente e pode muito bem ir ao Shopping e comprar roupas de marca, o que eles querem nos rolezinhos \u00e9 o reconhecimento deles mesmos entre eles \u2013 curtir e paquerar onde outras pessoas com os mesmos interesses v\u00e3o estar. Pra eles, o mais importante \u00e9 ganhar moral entre eles, ostentando suas roupas e acess\u00f3rios e suas habilidades de dan\u00e7ar e de xavecar. Bas ta participar de um desses rolezinhos que voc\u00ea vai ver que l\u00e1 ningu\u00e9m quer saber de pol\u00edtica ou de quest\u00f5es sociais, ningu\u00e9m vai estar reclamando da vida ou da falta de espa\u00e7os culturais, e se tiver uma biblioteca e um espa\u00e7o recreativo do lado de um shopping, o shopping vai encher de gente e a biblioteca e o espa\u00e7o recreativo v\u00e3o continuar vazios. Os rolezinhos s\u00e3o o jeito que eles preferem se divertir, n\u00e3o o \u00fanico jeito que eles tem de se divertir. Luiz Carlos Hummel Manzione Link Permanente 31/01/2014 15:42 Michel Suas palavras s\u00e3o precisas , claras , simples e atuais . Voc\u00ea define muito bem o que os rolezeiros pensam e querem e como est\u00e3o distantes de qualquer manifesta\u00e7\u00e3o que possa ser chamada de social e reivindicat\u00f3rias . Parab\u00e9ns . Joaquim Bomfim Link Permanente 24/01/2014 18:07 Meu caro Leonardo Boff, em muito me estranha suas coloca\u00e7\u00f5es. Validar a turma do rolezinho por estarem sendo seduzidos por propagandas televisivas de um consumo que n\u00e3o poder\u00e3o realizar \u00e9 validar a cobi\u00e7a, estimular a gula contra a temperan\u00e7a, a ira contra a paci\u00eancia. O grande problema hoje \u00e9 o Estado que deveria ter mais compaix\u00e3o, reduzindo impostos ou ent\u00e3o revertendo em servi\u00e7os a alta carga tribut\u00e1ria j\u00e1 existente. Terezinha Fernandes Link Permanente 24/01/2014 18:18 Parab\u00e9ns pela an\u00e1lise professor, precisamos de muita leitura e estudos para compreender este fen\u00f4meno. Obrigada pela contribui\u00e7\u00e3o!!! Emilio Matos Link Permanente 24/01/2014 18:42 Tem coisa por traz disso. N\u00e3o \u00e9 nada de inconformismo com a situa\u00e7\u00e3o. Se for inconformismo mesmo, tirem essa PeTralhada do poder. Pior do que est\u00e1 n\u00e3o pode ficar. Nasci pobre, hoje sou remediado e nunca prec isei de montar turbas para exigir meus direitos. O que estamos vendo n~\u00b4ao \u00e9 o que essa esquerda falida quer nos mostrar. O que estamos vendo \u00e9 essa esquerda falida tentar  usar a rapaziada como massa da manobras. \u00c9 s\u00f3 ver as declara\u00e7\u00f5es dos governistas e seus apoiadores. Meus filhos foram criados com o sacrif\u00edcio meu e da minha esposa. Um se formou outro est\u00e1 cursando faculdade, sem que eu precise ficar mendigando bolsa isso ou bolsa aqui. Isso sim \u00e9 vergonhoso, a coopta\u00e7\u00e3o dos miser\u00e1veis atrav\u00e9s de esmolas federais. Chega de hipocrisia. 24/01/2014 18:42 Revmo. Frei, Acho que o pessoal de Davos, vem tendo a mesma percep\u00e7\u00e3o. Implantar o imposto sobre grandes fortunas j\u00e1 seria um bom come\u00e7o, para diminuir, de imediato, as preocupantes disparidades. A elite est\u00e1 temerosa, mas \u00e9 dif\u00edcil crer que estariam dispostos a fazer contribui\u00e7\u00f5es impositivas. At\u00e9 agora s\u00f3 t\u00eam constatado o \u00f3bvio e pouco feito, sen\u00e3o apen as recomendar aos governos liberalistas que deem bolsas para os miser\u00e1veis, Solu\u00e7\u00f5es paliativas, s\u00f3! Extra\u00ed do jornal de hoje, o absurdo da disparidade: \u201c O encontro foi aberto com v\u00e1rias pesquisas que confirmam o aumento do fosso entre ricos e pobres no planeta. Pesquisa da Oxfam, por exemplo, chamou a aten\u00e7\u00e3o ao revelar que as 85 pessoas mais ricas do mundo t\u00eam, juntas, um patrim\u00f4nio de US$ 1,7 trilh\u00e3o, o que equivale aos recursos de 3,5 bilh\u00f5es de pessoas. Cresceu a percep\u00e7\u00e3o entre boa parte da elite reunida em Davos de que um fracasso na redu\u00e7\u00e3o da desigualdade poder\u00e1 afetar a demanda por bens e servi\u00e7os, amea\u00e7ando bancos e grandes empresas. Mas n\u00e3o s\u00f3. A situa\u00e7\u00e3o tamb\u00e9m \u00e9 um estopim para crises sociais que podem gerar retrocessos pol\u00edticos e ampliar medidas protecionistas dos governos, caso os eleitores se rebelem diante de apertos da renda. \u201d Paulo Link Permanente 25/01/2014 0:13 e voc\u00ea acha que rico gosta de pagar 37,5 % de imposto de renda??? acho que pela isonomia de valores os pobres tamb\u00e9m deveriam ter 37,5 % de imposto de renda sobre o sal\u00e1rio m\u00ednimo n\u00e3o acha, j\u00e1 que somos todos iguais perante a lei e deus???? Selma Link Permanente 24/01/2014 20:20 A rea\u00e7\u00e3o j\u00e1 est\u00e1 demonstrando que est\u00e1 na hora do governo entender que os jov\u00e9ns do rolezinho quer ser inclu\u00eddo na sociedade com sa\u00fade e educa\u00e7\u00e3o com as mesmas referencias de uma Copa do Mundo. elvis Link Permanente 24/01/2014 20:20 Eu acho que o professor Boff tamb\u00e9m entrou no cerne da quest\u00e3o, o assunto muito me interessa, pois minha tese \u00e9 sobre \u201c jovens da periferia como realizam seu lazer nos centros urbanos \u201d . Acho que muitas discuss\u00f5es giram ao redor dos valores, de gostar ou n\u00e3o gostar do estilo, do comportamento e das a\u00e7\u00f5es que um outro grupo juvenil pr\u00e1tica, mais precisamente jovens funkeiros. Eu tamb\u00e9m n\u00e3o sou obrigado a gostar do comportamento deles, ou da m\u00fasica, at\u00e9 porque se n\u00e3o quiser basta virar as costas e ir embora, mas isso n\u00e3o me d\u00e1 o direito de segregar. Mas a quest\u00e3o central \u00e9: Por que isso isso incomoda socialmente e por que a cidade deve segregar espa\u00e7os para intera\u00e7\u00f5es sociais desse ou daquele grupo? H\u00e1 estudos sobre shopping centers que demonstram por meio de observa\u00e7\u00f5es e entrevistas que h\u00e1 segrega\u00e7\u00e3o social e espacial, seguran\u00e7as e sistemas de monitoramento para certos \u201c tipos desviantes do padr\u00e3o \u201d . O contradit\u00f3rio disso tudo \u00e9 que o \u201d funk de ostenta\u00e7\u00e3o \u201d vai ao encontro do que o mercado quer, os jovens dessa cultura se diferenciam pela busca do consumo de marcas de roupa e acess\u00f3rios que transmitem o sentido de sucesso, de atualiza\u00e7\u00e3o e modernidade, \u00e9 mais um modo de ser jovem. Mas quando os mesmo jovens resolvem eles mesmos criarem suas pr\u00e1ticas, e de alguma forma se aproximam das camadas sociais mais influentes e se tornam vis\u00edveis ent\u00e3o \u00e0s coisas mudam. A\u00ed \u00e9 pobre, n\u00e3o estuda, desrespeita os outros e \u00e9 imediatista. Ora, tamb\u00e9m sou professor da rede p\u00fablica, conhe\u00e7o estes jovens, conhe\u00e7o jovem que \u00e9 religioso, jovem que t roca o tempo livre pelo estudo, jovens de diferentes culturas juvenis, s\u00f3 que na minha pr\u00e1tica e experi\u00eancia de magist\u00e9rio nada determina que sua prefer\u00eancia cultural seja em si uma condi\u00e7\u00e3o para seu sucesso na vida. Respondendo a pergunta, o shopping \u00e9 uma empresa privada, mas de esfera p\u00fablica, no momento que abre as portas ao p\u00fablico, est\u00e1 se condicionando a aceitar a cidade em toda sua diversidade. N\u00e3o acredito que estes jovens s\u00e3o \u201c coitadinhos \u201d ou mere\u00e7am exclusividade, mas devemos nos perguntar o quanto nossa sociedade faz das diferen\u00e7as uma quest\u00e3o de apartheid.  Afinal o que est\u00e1 em jogo \u00e9 saber o quanto nossa sociedade est\u00e1 disposta a conviver na diversidade e encontrar maneiras de conviver e negociar com as diferen\u00e7as. Nazare Link Permanente 24/01/2014 20:45 Meus pais n\u00e3o tiveram oportunidade de frequentar escola e trabalharam muito para conquistar o feij\u00e3o nosso de cada dia e formar 9 filhos. Aprendi com eles que responsabilidade, compromisso, trabalho, limite e respeito nos faz sentir gente, nos faz melhor.  Bom \u2026 na minha casa n\u00e3o tinha TV para nos provocar mas tinha enxada, vassoura e muitas outras oportunidades. Todos n\u00f3s estudamos em escola p\u00fablica e somente um n\u00e3o deu conta encarar a dura realidade da vida. QUERER \u00e9 palavra chave. Bora fazer um \u201crolezinho\u201d pra limpar a sujeira deixada pela chuva ou cuidar dos irm\u00e3ozinhos? MOISES VIEIRA DA SILVA PACHECO Link Permanente 24/01/2014 22:48 discordo em v\u00e1rios coment\u00e1rios dele: \u201c s\u00e3o jovens pobres, sem cultura q n\u00e3o tem espa\u00e7o de lazer \u201d \u2026 em nenhum momento antes da existencia dos \u2018 rol\u00eas \u2019 eles foram proibidos de entrarem dentro dos shoppings, essa desculpa de rol\u00eas \u00e9 s\u00f3 pra facilitar os furtos e causarem uma desordem dizendo \u201d \u00f3 nois aki, roubando na cara de pau v6 e v6 num podi fazer nada pq vai ser PRECUNCEITO con nois favelados \u201d \u2026 N\u00c3O D\u00c1 PRA AJUDAR PESSOAS QUE N\u00c3O QUEREM SER AJUDADAS, N\u00c3O D\u00c1 PRA TIRAR DO BURACO QUEM JOGA-SE COM TODO O COMODISMO DIZENDO \u201c n\u00e3o tem jeito, o governo n\u00e3o ajuda_nos \u201d . N\u00c3O S OU RICO, N\u00c3O NASCI RICO \u2026 MAS A CADA DIA QUE O SOL NASCE PROCURO MEU LUGAR NO MUNDO E BATALHO PRA CONSEGUIR O MELHOR PRA MIM \u2026 E VC? O Q FAZ PRA DIMINUIR ESSE CONTRASTE SOCIAL? P \u2026 NENHUMA \u2026 APENAS, IMITANDO OS POL\u00cdTICOS, ARRANJA MOTIVOS E DESCULPAS PRA TENTAR ESCLARECER UM FATO DE UM MODO FILOS\u00d3FICO E CULTO E SOCIAL E \u2026 QUE N\u00c3O \u00c9 A PURA VERDADE. Cibele Nunes Link Permanente 24/01/2014 22:54 Mestre, concordo com quase tudo o que voc\u00ea diz,  mas sabe, assim como a Nazar\u00e9, \u00e9 dif\u00edcil n\u00e3o fazer uma an\u00e1lise um pouco mais subjetiva, ainda mais porque voc\u00ea tocou numa \u201c ferida \u201d imposs\u00edvel de cicatrizar. Sou loira, de olhos verdes, hoje tenho 56 anos, mas agrade\u00e7o a Deus pela apar\u00eancia que tive e ainda tenho. Meu pai foi motorista de taxi e funcion\u00e1rio p\u00fablico, minha m\u00e3e recepcionista. Comecei a trabalhar aos 15 anos, fiz curso superior e mestrado, bem antes do Governo do PT e hoje trabalho como atendente de telemarketing. Que eu me lembre, nunca ganhei mais que 05 ou 06 sal\u00e1rios m\u00ednimos. E por isso me sinto meio \u201c exclu\u00edda dos exclu\u00eddos \u201d quando voc\u00ea fala \u201c Tudo isso lhes \u00e9 negado, porque, por serem pobres, negros, mesti\u00e7os sem olhos azuis e cabelos loiros \u201d . Mesmo que fosse verdade \u2013 o que definitivamente n\u00e3o \u00e9 \u2013 que um branco s\u00f3 \u00e9 pobre se for muito burro ou se fizer op\u00e7\u00e3o, nos dois casos o burro ou o \u201c franciscano \u201d tamb\u00e9m merece viver com dignidade e ser reconhecido e respeitado pelos seus iguais. Nisso admiro Jo\u00e3o Pedro Stedile e o MST: foi o \u00fanico lugar onde eu vi falar, do nordestino, do preto e do branco pobre. Sonia Paiva Link Permanente 25/01/2014 10:55 Aff \u2026 quanta gente burra \u2026 quanta gente ignorante \u2026 quantas coloca\u00e7\u00f5es bizarras e desproporcionais ao que foi dito. Quando se analisa uma quest\u00e3o desta magnitude nao se esta defendendo nem apoiando diretamente o ato; n\u00e3o se est\u00e1 dizendo que n\u00e3o existem pessoas de olhos azuis na pobreza, etc \u2026 Sr. Leonardo Boff a falta que a educa\u00e7\u00e3o faz neste pais nos deixa muito sem sa\u00edda. Mas temo que a falta de amor ao pr\u00f3ximo seja ainda mais danosa.  Nao desistir em tentar. Obrigada pelo texto. 26/01/2014 17:57 Sonia agrade\u00e7o seu senso de medida e sua capacidade de discernir a critica construtiva da pura distor\u00e7\u00e3o. lboff Cibele Link Permanente 28/01/2014 18:23 Sonia, se houve burrice no que escrevi, pelo menos houve mais coer\u00eancia do que no seu coment\u00e1rio. Em nenhum momento critiquei a an\u00e1lise sobre os rolezinhos, mas me senti no direito de apontar para um lugar comum nas an\u00e1lises cr\u00edticas da sociedade capitalista que n\u00e3o minha opini\u00e3o n\u00e3o contribui para a forma\u00e7\u00e3o de uma consci\u00eancia coletiva solid\u00e1ria entre os pobres. Lamento Mestre, me envergonho at\u00e9 de discordar do senhor, pode ser at\u00e9 que meus sentimentos tenham criado confus\u00e3o sim, mas quando leio coment\u00e1rios assim, me lembro os judeus expulsos mortos e segregados em sua terra na Europa e hoje matam, segregam e expulsam os palestinos. Porque os judeus n\u00e3o se identificam com a condi\u00e7\u00e3o dos palestino, mas se dif erenciam pela sua religi\u00e3o, pela sua etnia. Perdoe-me mais uma vez se distorci o que o senhor disse. marco waller Link Permanente 25/01/2014 14:05 Estava admirando seu coment\u00e1rio e a verdade contida nele, por\u00e9m foi um chute no estomago seu apoio ao MST que ao meu ver,  perante as denuncias e imagens confirmadas n\u00e3o passa de aproveitadores lucrando com a ignorancia alheia.. marco waller Link Permanente 26/01/2014 20:29 Sonia. Seria contradi\u00e7\u00e3o ou um paradoxo no seu coment\u00e1rio. Ora. Se existisse educa\u00e7\u00e3o de verdade voc\u00ea n\u00e3o entraria aqui para chamar algu\u00e9m de burro e sinceramente talvez nem \u201c Rolezinhos \u201d existiriam n\u00e3o \u00e9 verdade? Tudo que acontece nesse \u201c Brasilz\u00e3o \u201d que envolve \u201c pobres \u201d , dizemos que \u00e9 injusti\u00e7a social, ent\u00e3o, a maioria dos coment\u00e1rios tem fundamento. Laura Link Permanente 24/01/2014 23:55 Gostei muito dos argumentos do texto mas discordo em certas partes. Acredito que ainda que os \u201c rolezinhos \u201d inicialmente tenham um fundament o social, no caso, chamar a aten\u00e7\u00e3o do poder pol\u00edtico para as in\u00fameras demandas da sociedade (que n\u00e3o se resumem apenas \u00e0 desigualdade de renda), na pr\u00e1tica acabaram por adquirir outro car\u00e1ter pela maneira como acontecem. N\u00e3o se exige mudan\u00e7a (mesmo que a exig\u00eancia de mudan\u00e7a seja direito pol\u00edtico) valendo-se de assaltos, bagun\u00e7a e ostenta\u00e7\u00e3o em espa\u00e7os p\u00fablico de ampla conviv\u00eancia. \u00c9 muito bacana ver jovens vestindo a camisa da cidadania para questionar o descaso dos chefes governamentais em determinadas \u00e1reas, entretanto, deve-se ter muito cuidado em como essa camisa \u00e9 idolatrada. Muitos dizem que os \u201c rolezinhos \u201d s\u00e3o uma continua\u00e7\u00e3o dos movimentos de junho de 2013, pode ser que sim, mas se continuarem da forma como est\u00e3o vai acontecer o que ocorreu em alguns protestos de 2013: viol\u00eancia de quem atacou e viol\u00eancia de quem reprimiu, se j\u00e1 n\u00e3o \u00e9 o que est\u00e1 acontecendo. Em vez de rolezinhos, vamos dar \u00e9 um passeio adequado e cauteloso pelo Brasil e perceber que se o gigante acordou, n\u00e3o tem mais porque o desejo de um pa\u00eds melhor ficar s\u00f3 no plano on\u00edrico. Ah, e sem jogar tudo nas costas do PT, afinal, \u201c algu\u00e9ns \u201d colocou ele l\u00e1. Paulo Link Permanente 25/01/2014 0:06 engra\u00e7ado defenderem a anarquia, acham que a 30 ou 40 anos atr\u00e1s isso n\u00e3o acontecia? a m\u00eddia digital favorece a informa\u00e7\u00e3o de forma irrevers\u00edvel, mas dizer que s\u00e3o pobres e exclu\u00eddos.. \u00f3 coitadinhos, minha inf\u00e2ncia e juventude n\u00e3o foi diferente das de muitos dos jovens que hoje tem acesso \u00e0 m\u00eddia, com 9 anos comecei a entregar jornal para ter como ajudar em casa, com 13 j\u00e1 tinha meu primeiro registro em carteira, nem por isso deixei de estudar e manter h\u00e1bitos EDUCADOS, essa fal\u00e1cia de exclu\u00eddos \u00e9 no m\u00ednimo ridicularizar a intelig\u00eancia que cada um recebe e faz dela o uso que quer, a culpa \u00e9 parte sim e principal desses alienados que s\u00f3 pensam em tirar proveito dos outros, trabalhava  e estudava, se eu consegui com meu pr\u00f3prio esfor\u00e7o sair da pobreza, mesmo estudando em escolas p\u00fablicas, n\u00e3o \u00e9 culpa dos outros a pregui\u00e7a alheia, no pa\u00eds da esperteza , ot\u00e1rio \u00e9 o trabalhador mesmo \u2026 . Davidson Link Permanente 25/01/2014 9:47 Pois \u00e9, \u00e9 somente invers\u00e3o de valores. H\u00e1 que se educar em todos os sentidos e mais ainda para as coisas perenes, os valores que a tra\u00e7a no come que ao meu ver o primeiro \u00e9 saber que \u201c ser \u201d \u00e9 mais importante que \u201c ter \u201d . De posse destes valores espirituais a inclus\u00e3o social j\u00e1 \u00e9 autom\u00e1tica. Quantos sa\u00edram da favela e subiram na vida por seus valores morais. Quando as pessoas s\u00e3o espiritualizadas , humanizadas as portas a eles se abrem. Quando vemos um pobre em mat\u00e9ria mas com um cora\u00e7\u00e3o misericordioso e manso, ajudamos automaticamente. Vejo ai o caminho, \u201c Educar \u201d no seu mais vasto sentido! Fernando Alves Lucena Link Permanente 25/01/2014 11:07 Professor, acompanho sua produ\u00e7\u00e3o intelectual com muito interesse, desde a \u00e9poca da gradua\u00e7\u00e3o, tendo o senhor e outros brilhantes intelectuais como referenciais na constru\u00e7\u00e3o da minha forma de ver e interpretar o real. Lendo seus texto (na minha opini\u00e3o, uma an\u00e1lise perfeita da quest\u00e3o) pude perceber nos coment\u00e1rios de grande parte dos leitores duas caracter\u00edsticas bem interessantes: primeiro um grupo que parece n\u00e3o ter conseguido compreender absolutamente nada do que foi escrito, distorcendo quase todos os dados e recorrendo a argumentos rasteiros para contrapor \u00e1s ideias apresentadas no texto. Coisas do tipo: todos vencemos quando trabalhamos, existem enxadas e carrinhos de picol\u00e9 para os \u201c desocupados \u201d , meu exemplo particular \u2026 enfim. Em segundo lugar e a\u00ed, acredito eu, est\u00e1 um problema bastante complexo, aqueles que, claramente, reproduzem um discurso de direita que lhes \u00e9 bombardeado a todo momento pela grande m\u00eddia. Leitores da VEJA, iSTO \u00c9, telespectadores do Jornal Nacional e seus concorrentes t\u00e3o ruins quanto, enfim, cidad\u00e3os medianos que absorvem um discurso moldado, pronto e de f\u00e1cil digest\u00e3o intelectual e saem reproduzindo sem, ao menos, a capacidade m\u00ednima de discernir ou aplicar qualquer ju\u00edzo de valor permeado por um n\u00edvel maior de criticidade. Teria chegado o tempo preconizado por Pulitzer, em que uma imprensa corrupta e demagoga forjara um p\u00fablico t\u00e3o vil quanto ela mesma? Eu, sinceramente, perdi as esperan\u00e7as numa sociedade melhor. Estou abandonando a sala de aula, onde lecionei por alguns poucos anos e mudando de profiss\u00e3o. Abandonei a milit\u00e2ncia nos movimentos sociais, que me acompanha desde a adolesc\u00eancia. Na minha opini\u00e3o, eles venceram e n\u00e3o h\u00e1 mais nenhuma corda na qual possamos nos segurar para frear a descida social rumo \u00e0 completa barb\u00e1rie. Por isso, vendo seus coment\u00e1rios pacientes e sempre repletos de sobriedade, respondendo a muitos coment\u00e1rios que beiram a mediocridade, eu realmente o admiro mais ainda como pessoa e como intelectual. Queria ter essa capacidade de ainda acreditar, mas perdi. Parafraseando o grande Belchiort,  hoje, \u201c minha alucina\u00e7\u00e3o \u00e9 suportar o dia a dia \u201d . Abra\u00e7o. Esther Link Perma nente 25/01/2014 17:24 Vai ficar pior \u2026 \u2026 .Soweto \u2026 ..Africa do Sul \u2026 .apartheid crescendo \u2026 .distancia aumentando \u2026 \u2026 populacao crescendo \u2026 .nao tem mais jeito \u2026 .os ricos com muros cercados de seguranca para proteger seus luxos \u2026 .os pobres trabalhando tudo misturado aos criminosos \u2026 .. Thiago Link Permanente 25/01/2014 17:44 Eu tamb\u00e9m cresci em uma comunidade pobre e nunca fui discriminado por isso, assim como muitos e muitos outros amigos e conhecidos meus. E creio que muitos e muitos outros de outras comunidades pobres tamb\u00e9m. Sempre frequentei shoppings (n\u00e3o com tanta frequ\u00eancia, devido \u00e0 minha condi\u00e7\u00e3o) e nunca fui discriminado. O que desencadeou essa m\u00e1 fama desses \u201c rolezinhos \u201d foram as a\u00e7\u00f5es desses infelizes que v\u00e3o apenas para roubar e perturbar a paz do local. A quest\u00e3o aqui n\u00e3o \u00e9 a classe desses garotos, mas o comportamento dos mesmos. Ou ser\u00e1 que as pessoas s\u00e3o obrigadas \u00e1 aturar um monte de pessoas gritando no meio do shopping, com celulares tocando m\u00fasicas nojentas que fazem apologia ao crime e \u00e0 viol\u00eancia e depredando as instala\u00e7\u00f5es das lojas ( cito esse exemplo porque presenciei tudo isso ) ? As pessoas s\u00e3o obrigadas \u00e0 \u201c respeitar \u201d esse tipo de comportamento s\u00f3 porque s\u00e3o pobres e \u201c exclu\u00eddos \u201d ? COISA NENHUMA!! Como j\u00e1 disse, vim de fam\u00edlia pobre tamb\u00e9m, mas ao inv\u00e9s de me fazer de coitado e vagabundear pela rua, ficava estudando. Perdi a conta de quantos livros eu li, que foram achados na rua ou que minha m\u00e3e (que era empregada dom\u00e9stica ) recebia de doa\u00e7\u00e3o de sua patroa. Consegui bolsas de estudo em v\u00e1rias institui\u00e7\u00f5es, inclusive de ensino superior. E eu sou melhor que esses moleques baderneiros? CLARO QUE N\u00c3O! Fui penalizado pelas mesmas condi\u00e7\u00f5es sociais prec\u00e1rias, mas com muito esfor\u00e7o me livrei delas. E qualquer um deles pode, mas vai l\u00e1 perguntar se algu\u00e9m quer estudar alguma coisa. Que algu\u00e9m v\u00e1 l\u00e1 perguntar o que esses jovens pensam em ser da vida, que profiss\u00e3o desejam seguir, garanto que a grande maioria vai gaguejar e ficar com cara de quem n\u00e3o entendeu a pergunta. Uma regra b\u00e1sica para viver em sociedade \u00e9 respeitar o pr\u00f3ximo, e esse pessoal n\u00e3o sabe o que \u00e9 isso. Valores como esse, escola nenhuma ensina. Defender esses moleques, \u00e9 a mesma coisa do pai que acoberta as a\u00e7\u00f5es erradas do filho. O que esses vagabundos precisam, \u00e9 tomar vergonha na cara, estudar e trabalhar. Usar menos a internet para marcar esses encontros de baderna, e us\u00e1-la mais para adquirir conhecimento. lara Link Permanente 25/01/2014 17:48 Minha gnt governo corrupto sempre houve e nem por isso existia rolezinho! N\u00e3o se pode querer explicar essa barbaridade como se essas pessoas que fazem isso fossem os pobres coitados, que isso \u00e9 reflexo de uma pol\u00edtica ruim e bla bla bla \u2026 Isso \u00e9 falta de um pai e uma m\u00e3e q n\u00e3o sabem educar seus filhos, \u00e9 culpa deles q n\u00e3o incentivam seus filhos a estudar, que n\u00e3o cobram deles o q eles aprendem na escola, e n\u00e3o me venham falar que os pais n\u00e3o podem cobrar pq tb n\u00e3o foram cobrados, pq s\u00e3o leigos, a maioria dos nossos pais n\u00e3o tiveram estudo suficiente e nem por isso deixaram de cobrar da gente! Isso \u00e9 falta de vergonha, falta de uns bons serm\u00f5es de pai e m\u00e3e! #Soacho Isabel da Fontoura Pinho Link Permanente 25/01/2014 18:38 Achei important\u00edssima sua coloca\u00e7\u00e3o. Entretanto, falar do consumo e, bater a sua porta?. N\u00e3o seria melhor visitarem os senhores legisladores, afinal,esses  apresesentam-se como sendo trabalhadores da Casa do Povo. Acho que, quando se quer algo, busca-se o di\u00e1logo e, este tem que ser em ambiente harmonioso.No Brasil impera a paran\u00f3ia, longe est\u00e1 do que canta a Aquarela do Brasil. Um abra\u00e7o, Isabel. Orbenon Orbenon Link Permanente 25/01/2014 22:05 A pol\u00eamica envolvendo os rolezinhos deixaram exposto o segregacionismo que existe no pa\u00eds, por\u00e9m h\u00e1 outros fatores que devem ser considerados. Escrevi um texto que n\u00e3o cabe na barra de coment\u00e1rios. 26/01/2014 0:54 \u201cO que eu n\u00e3o desejo ao meu filho, eu n\u00e3o desejo \u00e0 sociedade\u201d. Apesar de ainda n\u00e3o ter filho, apesar da sociedade injusta, segregacionista, consumista, que despreza seus filhos, os exclui. Mesmo se eu fosse da periferia e n\u00e3o tivesse os servi\u00e7os b\u00e1sicos: sa\u00fade, educa\u00e7\u00e3o, moradia, transporte, cultura, lazer e seguran\u00e7a. Lembrando que o conhecimento abre portas, Machado de Assis foi um grande intelectual, brasileiro, de fam\u00edlia pobre, ficou \u00f3rf\u00e3o de m\u00e3e muito cedo, ou seja, n\u00e3o teve muitas oportunidades na vida e que sofreu muitos preconceitos. Mas, ele foi al\u00e9m e venceu. Crian\u00e7as e jovens bem instru\u00eddos pela fam\u00edlia e pela comunidade j\u00e1 saber\u00e3o como funciona a m\u00eddia cujas propagandas seduzem para um consumo e que um dia poder\u00e3o, sim, realizar. Por que n\u00e3o? Quem sabe haver\u00e1 um(ns) anjo(s) na fam\u00edlia, na escola, na web para informar como funcio nam os meios de comunica\u00e7\u00e3o social de massa, para ensinar como lidar com o dinheiro, para ser quem eles quiserem segundo os seus sonhos, conforme seus planos para o futuro. Portanto, saber\u00e3o pensar, criticar, agir, entrar nas redes sociais para articular encontros de forma saud\u00e1vel, sem perigos de arrast\u00f5es porque haver\u00e1 paz, harmonia, respeito, entre outros. A sociedade s\u00f3 mudar\u00e1 se cada um, se cada fam\u00edlia fizer a sua parte em orientar as nossas crian\u00e7as, nossos jovens para a vida, para a cidadania, tanto na teoria quanto na pr\u00e1tica. Resposta: SOLUCIONAR. Wagner Link Permanente 26/01/2014 2:17 Com uma rede de corrup\u00e7\u00e3o formatada e funcionando muito bem, obrigado, entre elites, autoridades, m\u00eddias, PSDB, DEM, PMDB, PT, STF, STJ e PQP, vivas ao genoc\u00eddio social. Elite fascista, cambada de FDP !!! Wagner Link Permanente 26/01/2014 2:22 Isso de rolezinho n\u00e3o \u00e9 o in\u00edcio nem o fim, \u00e9 apenas um meio de toda a trag\u00e9dia ainda a ser vivida. Espera \u2026 Sandra Link Permanente 26/01/2014 8:29 Acho exagerado esse discurso do rolezinho. A ques t\u00e3o n\u00e3o \u00e9 a entrada de exclu\u00eddos nos shoppings, mas aglomera\u00e7\u00e3o. Poderia ser uma aglomera\u00e7\u00e3o de burgueses eu seria contra tamb\u00e9m. Espa\u00e7os fechados ocupados por grupos de at\u00e9 4.000 pessoas, onde n\u00e3o comportam \u2026 n\u00e3o se pode garantir a integridde f\u00edsica dos ocupantes, nessas condi\u00e7\u00f5es \u2026 .voc\u00eas n\u00e3o viram as escadas dos shoppings?? As pessoas eram empurradas!!! \u00c9 muito arriscado!!! Quando houver um pisoteamento com mortes, igual acontece nos rodeios \u2026 a\u00ed esse discurso marxista vai pro ralo \u2026 Dirk Hesseling Link Permanente 26/01/2014 11:49 O artigo de Leonardo Boff merece ser discutido, justamente por dizer a VERDADE que n\u00e3o \u00e9 aceita por pessoas que se consideram de antem\u00e3o donas da VERDADE. Um Brasil mais socialista s\u00f3 pode nascer com um mundo inteiro mais socialista. Portanto, Leonardo Boff tem toda a raz\u00e3o quando transmite esta vontade/paix\u00e3o de lutar por um MUNDO MELHOR! \u00c9 \u00f3bvio que sempre haver\u00e1 pessoas que rotulam o socialismo como um incentivo da bandidagem e do terrorismo! Respeito as pessoas reacion\u00e1rias , mas, convenhamos, \u00e9 dif\u00edcil dialogar com gente que sabe TUDO! P.S. Velho pode participar deste debate? Eu j\u00e1 tenho 81 anos. Montez Link Permanente 26/01/2014 17:36 Bom, n\u00e3o me considero uma intelectual, mas acho que algo poderia, tamb\u00e9m, ser levado em considera\u00e7\u00e3o: o p\u00fablico que frequenta shoppings s\u00e3o, a meu ver, na sua grande maioria, de classe menos favorecidas (as que n\u00e3o se enquadram da dita \u201c burguesia \u201d ). Posso estar equivocada, mas aqui no Rio posso dizer que at\u00e9 os shoppings ditos da \u201c burguesia \u201d classe m\u00e9dia alta tem uma grande parcela de frequentadores da classe m\u00e9dia baixa (Barra Shopping, Rio Sul, at\u00e9 mesmo Fashion Mall), com a devida exce\u00e7\u00e3o do Shopping Leblon (que atualmente vem sendo mais frequentado por classes menos favorecidas) e Rio Design. O fato de ser filha de professora (que me criou sozinha), ter frequentado escola p\u00fablica, ter morado em sub\u00farbio a vida inteira, ter vivenciado viol\u00eancia e abusos por parte da pol\u00edcia e de criminosos de comunidades de perto e d e longe de onde eu vivi, de nunca ter contado com ningu\u00e9m para me dar apoio (a n\u00e3o ser a mim mesma) n\u00e3o me impediu de estudar, de ter educa\u00e7\u00e3o (essa que a gente recebe em casa, sabe? n\u00e3o a que a gente recebe na escola, porque esse, sem d\u00favida, \u00e9 um problema grave no Brasil, e eu vivi isso). Sem querer ser hip\u00f3crita: eu mal tinha dinheiro para pegar \u00f4nibus, mas quando dava, eu reservava um dia da semana e fazia um tour: CCBB (via as sess\u00f5es de cinema e exposi\u00e7\u00f5es), CC dos Correios, MNBA. Isso me entretinha e eu era feliz. L\u00f3gico que eu n\u00e3o posso esperar que todos tenham que gostar de coisas \u201cchatas\u201d como essas. Sabe, era raro eu ter amigos que me acompanhassem e que gostassem dessas coisas (como at\u00e9 hoje, mesmo dentro do meu c\u00edrculo profissional). Honestamente e sem querer dar uma de coitadinha (coisa que n\u00e3o sou e que nunca achei que fosse) eu \u2013 que passei por poucas e boas na vida (teve at\u00e9 uma \u00e9poca \u2013 curta, gra\u00e7as a deus \u2013 que eu s\u00f3 comia arroz e feij\u00e3o puros, pois minha m\u00e3e n\u00e3o podia comprar nada al\u00e9m disso) \u2013 juro que n\u00e3o entendo (embora respeite) o fato de pessoas que nunca passaram pelo que eu passei, que sempre tiveram de tudo e que \u00e0s vezes at\u00e9 tenham vindo de fam\u00edlias ditas da \u201c burguesia \u201d , apoiarem esse tipo de movimento. Talvez haja uma explica\u00e7\u00e3o sociol\u00f3gica, antropol\u00f3gica, que me fuja pela falta de aprofundamento ou conhecimento nessa \u00e1rea. \u00c9 o primeiro desabafo que fa\u00e7o em rela\u00e7\u00e3o a isso, mas me sinto at\u00e9 um pouco desrespeitada \u00e0s vezes. Defender esse tipo de movimento me soa como uma anula\u00e7\u00e3o de tudo o que eu e outras pessoas como eu conseguimos construir at\u00e9 hoje com Que tiveram uma vida verdadeiramente dif\u00edcil, mas que n\u00e3o sa\u00edram por a\u00ed assustando (qui\u00e7\u00e1 pondo em risco, em termos de espa\u00e7o f\u00edsico) os outros, inclusive crian\u00e7as e idosos, gritando, subindo em mesas e cadeiras. N\u00e3o nego que existam classes desfavorecidas, que existam pessoas que passam in\u00fameras necessidades, que os problemas do Brasil s\u00e3o incont\u00e1veis, n\u00e3o temos o b\u00e1sico: sa \u00fade, educa\u00e7\u00e3o de qualidade(nem dentro de casa!) bla bla bla, que precisamos gritar e que precisamos tamb\u00e9m que nos ou\u00e7am, inclusive acho que a manifesta\u00e7\u00e3o por melhorias e igualdade \u00e9 v\u00e1lida, s\u00f3 que, na minha humilde opini\u00e3o, o local e o alvo est\u00e3o equivocados. Acho que as classes mais altas est\u00e3o, sim, se incomodando. Por\u00e9m tenho a convic\u00e7\u00e3o de que as outras classes que n\u00e3o est\u00e3o inclu\u00eddas no conceito \u201cburguesia\u201d, s\u00e3o as mais incomodadas. E qual a culpa deles? Ser\u00e1 que esse \u00e9 um meio leg\u00edtimo de protestar ou est\u00e1 apenas ganhando antipatia da maioria. Todos tem o direito a discordar, mas esse \u00e9 meu ponto de vista. Montez Link Permanente 26/01/2014 17:55 Tem mais: acho que os culpados n\u00e3o est\u00e3o na \u201c burguesia \u201d , na qual acho que eu (que n\u00e3o sou rica) e o senhor estamos enquadrados (pois pelo que entendi, \u00e9 considerado burgu\u00eas at\u00e9 quem tem o m\u00ednimo de conforto). Se fossem, ent\u00e3o ser\u00edamos tamb\u00e9m culpados por n\u00e3o distribuirmos nosso dinheiro por a\u00ed, por pesar e culpa pelos que n\u00e3o tem. Acho que todo esse discurso de \u201c rolez inho \u201d desvia totalmente a aten\u00e7\u00e3o daqueles que s\u00e3o os reais culpados. E quem s\u00e3o eles mesmo, hein? Montez Link Permanente 26/01/2014 18:07 S\u00f3 mais uma observa\u00e7\u00e3o: eu poderia chamar de \u201c burro \u201d e \u201c ignorante \u201d quem n\u00e3o concorda comigo, mas a educa\u00e7\u00e3o e o respeito que tenho pelas opini\u00f5es alheias considero que sejam caracter\u00edstica de civilidade, civilidade essa que alguns coment\u00e1rios tentam \u201c empurrar goela abaixo \u201d dos outros com palavras baixas e xingamentos. 26/01/2014 19:04 Estou repetindo o coment\u00e1rio para testar sua coragem para publicar uma opini\u00e3o divergente. Concordo com o t\u00edtulo, em parte. N\u00e3o a sociedade, n\u00e3o me sinto culpado por \u201c ter \u201d alguns bens materiais, isso \u00e9 reflexo do meu esfor\u00e7o, que n\u00e3o foi e n\u00e3o \u00e9 pouco, trabalho, e, trabalho muito, n\u00e3o vivo de bolsas-esmola \u00e0s espensas do Estado, pelo contr\u00e1rio, pago muito imposto para que essa corja de pol\u00ed ticos ladr\u00f5es mantenham esses vagabundos na mis\u00e9ria, trocando votos por bolsa qualquer coisa. Me permita, Frei Leonardo Boff, mas, uma indig\u00eancia anal\u00edtica de fazer vergonha \u00e9 o que vc escreve aqui. Esses jornalistas, soci\u00f3logos e professores citados por vc, s\u00e3o todos \u201c militontos \u201d do PT. Sem cr\u00e9dito. N\u00e3o aceito ser culpado pela vagabundagem, pelo car\u00e1ter amoral, anti-\u00e9tico, do brasileiro, que mais importa levar vantagem em tudo. N\u00e3o \u201c s\u00e3o jovens pobres, das grandes periferias, sem espa\u00e7o \u2026 \u201d se vc assistir as entrevistas desses \u201c malandros \u201d ver\u00e1s que est\u00e3o a fim mesmo de desordem. Quanto a \u201c estar inclu\u00eddo no contrato social significa ver garantidos os servi\u00e7os b\u00e1sicos: sa\u00fade, educa\u00e7\u00e3o, moradia, transporte, cultura, lazer e seguran\u00e7a. \u201d Essa parte fica por conta de um desgoverno hip\u00f3crita, ladr\u00e3o, comunista, do qual o l\u00edder maior \u00e9 o Lula que tem vc como guru. Como vc mesmo se denuncia a seguir ao falar \u201c dazelites \u201d : nossa sociedade \u00e9 conservadora e nossas elites altamente insens\u00edveis \u00e0 paix\u00e3o de seus semelhantes e por isso c\u00ednicas. \u201d C\u00ednica, Frei, \u00e9 sua presidente, n\u00e3o preciso, descrever aqui as falcatruas do seu desgoverno. Se, de alguma forma eu fa\u00e7o parte da B\u00e9lgica dentro dessa \u00cdndia, muito mais belgas s\u00e3o os PTRALHAS defendidos aqui por vc. E, esses sim, \u00e0s custas da manuten\u00e7\u00e3o da mis\u00e9ria do povo, \u00e0s custas de muito roubo, ou vc tem como explicar a riqueza do Lulinha, que em pouco tempo passou de catador de fezes de elefante para dono de um patrim\u00f4nio de alguns BILH\u00d5ES de reais? O que dizer da fortuna do Lula, um b\u00eabado pregui\u00e7oso! E Dilma? Faliu uma empresa de R$ 1,99 e agora ela e a filha s\u00e3o milion\u00e1rias. \u201c N\u00e3o adianta termos uma \u201cconstitui\u00e7\u00e3o cidad\u00e3\u201d que neste aspecto \u00e9 apenas ret\u00f3rica, pois  implementou muito pouco do que prometeu em vista da inclus\u00e3o social. \u201d Voc\u00ea acha que treze anos de desgoverno PTRALHA n\u00e3o seriam suficientes para ter melhorado, verdadeiramente a vida desses brasi leiros \u201c invis\u00edveis \u201d ? E a \u201c constitui\u00e7\u00e6o cidad\u00e3 \u201d \u00e9 constantemente ultrajada e vilipendiada por esse mesmo PT que vc defende. \u201c Releva, no entanto, constatar que com as pol\u00edticas sociais do governo do PT a desigualdade diminiui. \u201d Diminuiu mesmo, Frei, diminuiu para os desgovernantes, ou vc \u00e9 cego? N\u00e3o ver a roubalheira que grassa hoje no pa\u00eds? Me fala de uma grande obra do PT? A transposi\u00e7\u00e3o do Rio S\u00e3o Francisco? Doze milh\u00f5es de nordestinos morrendo de fome e sede! No entanto se gastam fortunas com uma copa. Para quem a copa?? Nosso dinheiro reformando porto, aeroporto e estradas em Cuba! M\u00e9dicos-escravos para sustentar o comunismo de Fidel. D\u00edvidas perdoadas de pa\u00edses comunistas na \u00c1frica! Vc s\u00f3 acerta quando diz: \u201c Mas esta diferen\u00e7a n\u00e3o atingiu a raiz do problema pois o que supera a desigualdade \u00e9 uma infraestrutura social de sa\u00fade, escola, transporte, cultura e lazer que funcione e acess\u00edvel a todos. N\u00e3o \u00e9 suficiente transferir renda; tem que criar oportunidades e oferecer servi\u00e7os, coisa que n\u00e3o foi o foco principal no Minist\u00e9rio de Desenvolvimento Social. \u201d Essa sua contradi\u00e7\u00e3o, quando reconhece a culpa do desgoverno PTRALHA, refor\u00e7a a minha tese de que as elites, n\u00e3o s\u00e3o respons\u00e1veis por essa situa\u00e7\u00e3o de mis\u00e9ria em que o povo se encontra. Ademais, com \u201c transfer\u00eancia de renda \u201d , ou seja, tirando de quem produz para sustentar parasitas, s\u00f3 faz criar uma casta de vagabundos, que n\u00e3o procuram, nem querem emprego. Como dialogar? Deixe de hipocrisia, ou achas que pedindo por favor eles ir\u00e3o se comportar, ou se retirar e deixar em paz quem quer trabalhar? Mais uma vez, Frei, vc est\u00e1 fazendo o jogo PTRALHA  ao citar cinicamente que \u201c por serem pobres, negros, mesti\u00e7os sem olhos azuis e cabelos loiros, s\u00e3o desperezados e mantidos longe, na margem. \u201d Veja as imagens desses idiotas \u00fateis, todos bem vestidos, com toda miscigena\u00e7\u00e3o que \u00e9 a ra\u00e7a brasileira. Mas vc, Frei, est\u00e1 instigando a luta de classes, e, com certeza \u201c s\u00f3 parar\u00e1 se houver mudan\u00e7as. \u201d Para come\u00e7ar, que tal mudarmos esse desgoverno PTRALHA?? Caro LB, Continuo com minhas posi\u00e7\u00f5es. Sou a favor da honestidade, e, cobro muito a honestidade pol\u00edtica, que nos falta, ou melhor nunca tivemos. Luto por um mundo melhor, n\u00e3o sou burgu\u00eas, pelo menos n\u00e3o me sinto assim, defendo a meritocracia, como defendo educa\u00e7\u00e3o de qualidade para todos, CONTROLE de natalidade, e mais \u2026 Para que possamos ter um pa\u00eds melhor daqui a algumas gera\u00e7\u00f5es. N\u00e3o posso aceitar que dentro desse quadro de desgoverno, corrup\u00e7\u00e3o, banditismo o PT seja laureado como tendo diminu\u00eddo a desigualdade! Ab\u00e7s. Vanderley Link Permanente 26/01/2014 21:09 Indiscut\u00edvel, a intelig\u00eancia, cultura e sabedoria de Leonardo Boff, que se tornou conhecido d epois da obra \u201c Teoria da Liberta\u00e7\u00e3o \u201d , por\u00e9m, for\u00e7oso \u00e9 convir, que a premissa ideol\u00f3gica, briga a puridade com a conclus\u00e3o, em seu artigo \u2026 Rachel Damasceno Link Permanente 26/01/2014 21:39 Por algum tempo acompanhei em sil\u00eancio a quest\u00e3o dos \u201c rolezinhos \u201d . Pois bem, o inc\u00f4modo \u00e9 t\u00e3o insuport\u00e1vel que tenho que escrever. Escrever alivia. Pelos outros posts percebia algo recorrente, e de fato \u00e9  uma quest\u00e3o crucial: Todas as pr\u00e1ticas sociais s\u00e3o constru\u00eddas historicamente, e pelo coletivo. No estado do Rio existem algumas como choque de ordem por exemplo. Uma pr\u00e1tica da Idade M\u00e9dia que certamente n\u00e3o tinha o mesmo nome, mas  tinha o mesmo objetivo, fazer  circular os ditos \u201c vagabundos \u201d , uma pr\u00e1tica higienista, e o que precisa higienizar: aquilo que incomoda, que espanta, os que n\u00e3o trabalham. Pois bem isto agrada a quem? ou melhor, serve a quem? Se o sistema gerou tanta desigualdade e incongru\u00eancia social, tem que se ater com suas mazelas, e para isto lan\u00e7a m\u00e3o da coer\u00e7\u00e3o pra punir, al\u00e9m disso pra aumentar a trag\u00e9dia, as  camadas ditas mais \u201c civilizadas \u201d da terra brasilis aplaude tal repress\u00e3o. Pensaram que seria f\u00e1cil sugar at\u00e9 a \u00faltima gota de suor , sangue e l\u00e1grimas a ral\u00e9 brasileira? N\u00e3o! ela grita, e sai pra rua. Grita e incomoda! Grita em alto e bom som, pra quem quiser ouvir, mesmo que cheio de pudor hip\u00f3crita,  eles gritaram: \u201c TOMY no cu burguesia \u201d (refer\u00eancia a uma marca Tommy Hilfiger).  Como diria o poeta Cazuza: \u201c T\u00f4 cansado de tanta babaquice, tanta caretice,dessa eterna falta do que falar \u201d ,  parem se ater ao ano de 2014, h\u00e1 um abismo social gigante povo! N\u00e3o percebem que h\u00e1 algo errado? Porque tanto discurso vazio em rela\u00e7\u00e3o aquilo que emerge? Ao inv\u00e9s disso perguntem que educa\u00e7\u00e3o p\u00fablica \u00e9 oferecida, qual \u00e9 o plano pedag\u00f3gico. Temos escolas sucateadas. Vamos parar com esse mimimi de que a quest\u00e3o \u00e9 de m\u00e9rito e esfor\u00e7o. Muitos que postaram aqui, que estudaram em escola p\u00fablica, se tivessem a oportunidade de estudar em escolas tradicionais como S\u00e3o Bento, Santo In\u00e1cio, ou Santo Agostinho, n\u00e3o pensariam em meio segundo em poder usufruir de tal b\u00ean\u00e7\u00e3o!!! Agora vamos a fatos, mimimi n\u00e3o \u00e9 agrad\u00e1vel, \u00e9 preciso embasamento, coragem, vergonha na cara e dec\u00eancia, nem que seja pra assumir o seguinte: \u201c Nossa por quanto tempo eu por comodismo repetia feito papaguaio de pirata os ditames do sistema! \u201d Temos que despertar! \u2013 O buraco \u00e9 mais em baixo:  Qual constru\u00e7\u00e3o social  temos sobre o Outro (pobre ou n\u00e3o), voc\u00ea julga as coisas segundo uma \u201c hierarquia das ra\u00e7as \u201d ? Sobre educa\u00e7\u00e3o e seu m\u00e9rito \u2013 Qual m\u00e9rito? Na Idade Antiga e M\u00e9dia, a escola \u00e9 considerada como espa\u00e7o de \u00f3cio em que, determinadas classes, por n\u00e3o precisar trabalhar, poderiam se dedicar ao enriquecimento cultural, enquanto a outra grande parcela da popula\u00e7\u00e3o obtinha sua educa\u00e7\u00e3o a partir do pr\u00f3prio processo de trabalho. Perceberam algum dualismo? At\u00e9 ent\u00e3o, a e scola seria um espa\u00e7o com o acesso estabelecido pelo car\u00e1ter de direito natural, isto \u00e9, local privilegiado para a classe dominante. No entanto, na sociedade moderna, com a mudan\u00e7a do paradigma econ\u00f4mico, houve a necessidade da difus\u00e3o da ideologia liberalista, pautada no direito positivo, assim como conhecimentos relacionados \u00e0s atividades de produ\u00e7\u00e3o industrial, e a escola se torna instrumento de generaliza\u00e7\u00e3o e conforma\u00e7\u00e3o da popula\u00e7\u00e3o \u00e0 nova ordem social vigente. A t\u00edtulo de contextualiza\u00e7\u00e3o das bases ideol\u00f3gicas da pol\u00edtica educacional no Brasil, ao retomar o per\u00edodo colonial percebe-se o preconceito assentado nas bases educacionais de forma\u00e7\u00e3o profissional de \u00edndios, africanos e escravos. J\u00e1 neste per\u00edodo, a educa\u00e7\u00e3o profissional estava dirigida a este p\u00fablico, pautada no preconceito \u00e9tnico e do \u201ctrabalho manual\u201d.  A partir desta concep\u00e7\u00e3o, \u00e9 descrito as primeiras iniciativas brasileiras de se oferecer a educa\u00e7\u00e3o profissional de cunho salvacionista das \u201cquest\u00f5es sociais\u201d. Nesse sentido, a expans\u00e3o da educa\u00e7\u00e3o, at\u00e9 os dias atuais, assume o papel de reprodu\u00e7\u00e3o das classes sociais, manifestando contradi\u00e7\u00f5es intr\u00ednsecas como a valoriza\u00e7\u00e3o do seu acesso e a desvaloriza\u00e7\u00e3o da qualidade do ensino, assim como a pr\u00f3pria luta de classes. Oi? Agora eu pergunto se desde o in\u00edcio h\u00e1 um diferencia\u00e7\u00e3o entre educa\u00e7\u00e3o/trabalho para pobres e ricos qual ideologia \u00e9 poss\u00edvel para os praticantes do \u201c rolezinho \u201d ? Talvez o espa\u00e7o seja errado, n\u00e3o saberia responder a isto.Qual espa\u00e7o seria melhor? Talvez \u2026 talvez \u2026 e de talvez em talvez iremos preferir que n\u00e3o se manifestem e que saiam todos de branco pela paz mundial. Pelo amor de Deus! N\u00e3o se trata de defend\u00ea-los ou acus\u00e1-los, mas de repensar certas pr\u00e1ticas sociais, e a postura de certas camadas sociais, se n\u00e3o seremos levados a certos eng\u00f4dos por falta de informa\u00e7\u00e3o, ou at\u00e9 muita informa\u00e7\u00e3o e prefer\u00eancia pelo individualismo e meritocracia. O \u00fanico perigo \u00e9  a op\u00e7\u00e3o pelos pensamentos mesquinhos, rasos e tacanhos,  nada embasados. Parece at\u00e9 que o m undo come\u00e7ou ontem. O foco \u00e9 outro minha gente, n\u00e3o fiquem chafurdando na lama da hipocrisia. A realidade \u00e9 dura, mas precisa ser olhada no front. Parab\u00e9ns Leonardo Boff pelo excelente texto. \u00c9 preciso estranhamento do que se v\u00ea. \u00c9 preciso racionalidade, e tamb\u00e9m cora\u00e7\u00e3o. \u00c9 preciso sair da zona de conforto! 26/01/2014 23:17 Rachel, Felicito-a pela pertin\u00eancia de seu texto,contextualizado na hist\u00f3ria. E n\u00e3o se esconde atr\u00e1s de frases feitas e imputa\u00e7\u00f5es aos penalizados pela sua pr\u00f3pria sorte de miser\u00e1veis, aumentando ainda mais seu sofrimento. Vc trouxe um pensamento que ajuda a entender o horizonte maior a partir do qual se entende o fen\u00f4meno do rolezinhos. Lamento que nas rea\u00e7\u00f5es ao meu texto se verifica uma indig\u00eancia muito grande de capacidade de ler e entender o que se escreve e de contraargumentar.\u00c9 mais f\u00e1cil o insulto e as express\u00f5e s de pessoas mal-educadas, esses sim s\u00e3o os rolezinnhos da pequena burguesia \u201c feliz \u201d por poder andar nos shoppings e sentir-se no paraiso, porque o mundo dos conflitos, da vida dura de trabalho e de transporte quase animal ficou  l\u00e1 fora. Meus parab\u00e9ns 29/01/2014 10:44 Oi Mestre \u2013 Por favor n\u00e3o publique! Gostaria de ter a oportunidade de poder encontr\u00e1-lo um dia. Sou mestranda da Fiocruz, E poder ouvi-lo seria um b\u00e1lsamo em meio a tanta produ\u00e7\u00e3o de ang\u00fastia contempor\u00e2nea. N\u00e3o que a ang\u00fastia seja algo ruim, n\u00e3o, acredito que seja um mal necess\u00e1rio, pois ela nos move. Bom, imagino que esteja sempre muito ocupado, mas gostaria que me concedesse a honra de p oder ouvi-lo. Moro no Rio de janeiro. Ab\u00e7, RD regina Link Permanente 27/01/2014 2:25 Obrigada pela participacao de todos aqui. A posicao do Leonardo e uma boa interpretacao. Na analise dele nao existe a questao partidaria. Somente a constatacao de que ha uma desigualdade bruta no nosso Pais. Nos de esquerda ou direita podemos concordar em algumas coisas \u2013 por exemplo : Queremos um Brasil honesto, com educacao, saude, seguranca (sem fome/ moradia), lazer. Precisamos conversar. Desculpem a falta de acentuacao. Roberto Link Permanente 27/01/2014 3:50 Sou Professor, tenho 55 anos, jamais teria prazer de estar num local de rolezinho, mas parabenizo o Boff pela incita\u00e7\u00e3o a reflex\u00e3o. S\u00f3 assim  podemos ver os dois lados sem hipocrisia e n\u00e3o marginalizar uma classe. Francisco Trajano Link Permanente 27/01/2014 13:52 Rolezinhos? Cassete nesse bando de trombadinhas mal criados. Tem que bater com um gato morto at\u00e9 o gato miar! Eu quero meu direito de ir e vir. E deixe de baboseiras de botar a culpa em partido A ou B. N\u00e3o sou simpatizante nem filiado a nenhum. At\u00e9 porque, TODO e qualquer partido que chegar ao poder, por mais que tenha tido conversas bonitas, trair\u00e1 os \u201c ideais socialistas \u201d ou ideais MENTIRISTAS que um bando de alienados acreditam. Acorda lezeira voc\u00eas est\u00e3o no Brasil e esse CABAR\u00c9 \u00e9 isso mesmo e pronto! Quem est\u00e1 por cima goza e quem t\u00e1 por baixo se F \u2026 e pronto. Eu estou exagerando? Me mostra um pol\u00edtico honesto que durou um mandato inteiro. Isso \u00e9 um BORDEL! Um pa\u00eds onde um helic\u00f3ptero de coca\u00edna \u00e9 preso e a culpa \u00e9 apenas do piloto. Onde bandidos passa a vida sugando do povo e depois esse povo BURRO faz cota pra pagar a multa do bandido que o roubou. POVO BURRO, IDIOTA! Pais onde bandidos de 16 anos podem realizar quebra quebra sem medo pois n\u00e3o podem ser presos, mas podem escolher os bandidos que v\u00e3o lhes representar. Tem santa paci\u00eancia! V\u00e3o pra PQP com suas l\u00f3gicas imbec\u00eds! PRONTO, T\u00c1 FALADO. Keyth de Moraes Link Permanente 29/01/2014 12:34 Andr\u00e9 Lacerda Link Permanente 27/01/2014 18:57 \u00c9 \u00f3bvio que a quest\u00e3o passa pelo longo e penoso processo de segrega\u00e7\u00e3o, e que cada vez mais se acentua. Isso porque, desde muito tempo, somos vistos, tanto pelo estado brasileiro quanto pela elite econ\u00f4mica, n\u00e3o como cidad\u00e3os, mas como consumidores. E desse tratamento cruel e indiferente, uma miopia generalizada se imp\u00f4s, se alastrando para toda a sociedade, fazendo crer \u00e0s pessoas valores outros que negam a solidariedade, o respeito e a dignidade. Penso que o problema \u00e9 bastante complexo, por\u00e9m, acho que o come\u00e7o da reviravolta tem que ser atrav\u00e9s da constru\u00e7\u00e3o de um estado de bem estar social, onde os direitos essenciais de moradia, alimenta\u00e7\u00e3o, educa\u00e7\u00e3o, sa\u00fade, e outros mais sejam garantidos minimamente pelo estado \u2026 e sem empreiteiras e terceiriza\u00e7\u00f5es para mediar, porque estas s\u00f3 querem tirar vantagens. Luiz Carlos Hummel Manzione Link Permanente 31/01/2014 15:07 03/02/2014 14:47 Luiz, O que eu posso dizer \u00e9 que, no m\u00ednimo, sua pergunta est\u00e1 mal formulada e n\u00e3o alimenta o debate. Mas posso lhe adiantar que o estado de bem estar social n\u00e3o \u00e9 um luxo, e sim uma necessidade, pois quando Keynes sugeriu a media\u00e7\u00e3o do estado \u2013 e acho que ele n\u00e3o estava em outro mundo e nem tampouco sendo altru\u00edsta \u2013 a estupidez da guerra j\u00e1 se anunciava. Por isso, penso eu, que deixar o mercado se auto-regular \u00e9 suic\u00eddio, da mesma forma que promover uma revolu\u00e7\u00e3o a f\u00f3rceps, pois a vis\u00e3o dualista sempre foi incapaz de contemplar a realidade (a vida em sociedade vai al\u00e9m da ci\u00eancia econ\u00f4mica e da luta de classes). Em contrapartida, acredito sim, face \u00e0s nossas urg\u00eancias, na necessidade de um trabalho racional, sens\u00edvel e intenso, capaz de nos revelar como seres humanos. Como fazer isso? Ora, isso faz parte do debate. E para deixar claro, eu n\u00e3o acredito na viol\u00eancia!!! Guilherme Belmont Costa Link Permanente 28/01/2014 20:09 Enquanto na universidades p\u00fablicas vejo os alunos oriundos de bons col\u00e9gios se trajando como patropis, a galera do rolezinho acha maneira camisa de marca \u2026 Guilherme Belmont Costa Link Permanente 28/01/2014 20:17 Quem estuda quer ser m\u00e9dico, engenheiro, advogado; quem n\u00e3o, quer t\u00eanis de marca, pulseira de ouro, carro importado \u2026 Marcus Vinicius Afonso Pereira Link Permanente 30/01/2014 17:52 Totalmente pertinente o texto escrito pelo grande Leonardo Boff, pessoa a quem admiro desde minha adolesc\u00eancia. \u201c Nosso sistema \u201d \u00e9 demasiadamente voltado ao consumismo e como os exclu\u00eddos sociais de nosso pa\u00eds na grande maioria das vezes n\u00e3o tem acesso a quase nenhum lazer, recorrem ent\u00e3o ao televisor para terem um m\u00ednimo de distra\u00e7\u00e3o, sendo esse o momento cr\u00edtico. Infelizmente dispomos de programa\u00e7\u00f5es pobres, que quase nada acrescentam e ainda h\u00e1 de ser ressaltado que incentivam a futilidade e a gana por consumir, sendo que no caso desse \u00faltimo, aqueles de baixa renda tamb\u00e9m s\u00e3o incitados a faz\u00ea-lo e como n\u00e3o tem condi\u00e7\u00f5es, gera-se um sentimento de frustra\u00e7\u00e3o e impot\u00eancia. Da\u00ed, ao meu ver, come\u00e7am a destoar suas inten\u00e7\u00f5es para a\u00e7\u00f5es que ser\u00e3o il\u00edcitas. O rol ezinho \u00e9 direito de quem o quer frequentar, pois, conforme nossa C.F/88 temos o direito de ir e vir. O grande problema \u00e9 que em detrimento do desejo exacerbado pela \u201c ostenta\u00e7\u00e3o \u201d e ainda pela exclus\u00e3o aos servi\u00e7os b\u00e1sicos que deveriam ser prestados por um pa\u00eds, alguns dos participantes desse evento, creio que a grande minoria, cometem delitos e por estarem em um s\u00edmbolo da riqueza e do capitalismo, s\u00e3o condenados imediatamente sem que nem mesmo haja uma analise das condi\u00e7\u00f5es de vida que culminaram nesse tr\u00e1gico comportamento. Por\u00e9m, todos temos conhecimento do que \u00e9 certo ou errado e os atos de vandalismo n\u00e3o podem ser explicados apenas pelo fato dessas pessoas serem exclu\u00eddas. Ao meu ver o simples fato de acesso \u00e0 Educa\u00e7\u00e3o, de qualidade, por parte dessas pessoas, sanaria QUASE que na sua totalidade esses comportamentos. Espero n\u00e3o ter escrito nada torpe ou que n\u00e3o seja um m\u00ednimo sensato. Teo Halfen Link Permanente 30/01/2014 21:28 O governo d\u00e1 escol a de gra\u00e7a, livro de gra\u00e7a, professor muitas vezes com p\u00f3s-gradua\u00e7\u00e3o nas escolas p\u00fablicas \u2026 Mas quem quer estudar? Sair da pobreza n\u00e3o \u00e9 dif\u00edcil, \u00e9 s\u00f3 estudar, trabalhar, dedicar-se, procurar oportunidades honestamente. Pode levar algumas gera\u00e7\u00f5es, mas a prosperidade v\u00eam \u2026 Mas quantas fam\u00edlia conversam sobre a escola ou de fato se importam com o desempenho escolar de seus filhos? Pior: muitos acham bonito atrapalhar as aulas (inclusive pais) e tirar o direito de estudar dos outros. Depois, v\u00e3o fazer cara de \u201c exclu\u00eddos \u201d sociais e \u201c exigir \u201d serem sustentados pelo governo \u2026 . E pior, acham que todos tem que gostar de funk e de m\u00e1 educa\u00e7\u00e3o de adolescentes em espa\u00e7os privados, como shoppings? Shoppings agora pertencem a essa esquerda ladra, autorit\u00e1ria e desonesta, criadora de mendigos dependentes desse governo vagabundo? 03/02/2014 16:42 Prezado Dr. Leonardo Boff; Estou organizando um livro multidisciplinar com abordagens na \u00e1rea do direito, psicologia e sociologia sobre os \u201c rolezinhos \u201d . Este livro far\u00e1 parte da cole\u00e7\u00e3o DI\u00c1LOGOS IMPERTINENTES do Instituto Mem\u00f3ria (www.institutomemoria.com.br) e gostaria de sua autoriza\u00e7\u00e3o para publicar o artigo acima. Se autorizado, enviarei 1 exemplar para o controle do senhor. O livro ser\u00e1 lan\u00e7ado no pr\u00f3ximo dia 25/02/14. Grato, Anthony Leahy \u2013 editora@institutomemoria.com.br \u2014 - ANTHONY LEAHY \u2013 Editor Doutor Honoris Causa \u2013 Mem bro do Instituto Hist\u00f3rico e Geogr\u00e1fico do Paran\u00e1 \u2013 Membro da Academia de Cultura de Curitiba \u2013 Conselheiro da Academia Brasileira de Arte, Cultura e Hist\u00f3ria. Cidad\u00e3o Honor\u00e1rio de Curitiba; Mo\u00e7\u00e3o Honrosa pela Assembleia Legislativa do Paran\u00e1; Comenda Bravos Cavaleiros de S\u00e3o Paulo; Medalha Simon Bol\u00edvar de M\u00e9rito Cultural e Colar Rui Barbosa de Realizador Cultural. Autor de 12 livros sobre Forma\u00e7\u00e3o da Identidade Cultural Curitiba e Palestrante sobre \u201cIdentidade Nacional e Cultura Regional\u201d. \u2014 \u2014 INSTITUTO MEM\u00d3RIA EDITORA & PROJETOS CULTURAIS 10 anos de atua\u00e7\u00e3o nacional, j\u00e1 tendo publicado mais de 350 obras por todo territ\u00f3rio nacional. Detentor, dentre outros 20 pr\u00eamios, das Comendas \u201c Editora Destaque Nacional \u201d e \u201c Pr\u00eamio Qualidade Editorial \u201d pela C\u00e2mara Brasileira de Cultura. \u2014 \u2014 \u2013 osvaldir Link Permanente 03/02/2014 23:21 Dr. Boff- admiro de longa data sua escalada \u2026 mas te confesso- os jovens de hoje em dia n\u00e3o t\u00eam a mesma cultura de outrora \u2026 qui\u00e7\u00e1 acreditar que estes meninos subjulgados por videogames queiram mudar a sociedade- para eles \u00e9 quebra-quebra por pura divers\u00e3o e nada de consci\u00eancia pol\u00edtica ou mudan\u00e7as \u2026 infelizmente \u00e9 o que vejo, nos meus 51 anos de vida- j\u00e1 passou a \u00e9poca dos cara-pintadas- hoje s\u00e3o mascarados em busca de extravasar sua busca por bandalheira- uma pena \u2026 mas \u00e9 a realidade. Gilberto Medeiros Link Permanente 05/02/2014 18:12 Ol\u00e1, Boff, acabei de reler seu texto, j\u00e1 que tinha feito isso nas aulas do Cefep semana passada. Respeito muito seu pensamento, pois venho acompanhando-o a muito tempo. Mas confesso que estou triste com muitas das respostas ao seu trabalho, de fato o q vc disse \u00e8 verdade: as barb\u00e1ries do mundo parecem permanecer (inferi do texto, n\u00e3o est\u00e1 com essa palavras). Pessoas que n\u00e3o tem a capacidade de refletir e atacam que a tem sem cerim\u00f4nia.Coo \u00e9 dif\u00edcil ser humano no Brasil atual, o v\u00edrus do capitalismo e a Mosca azul fazem seu sucesso t\u00e3o bem que nem mesmo os maiores pensadores conseguem se livra de sua virul\u00eancia. Fico mais triste quando percebo que os coment\u00e1rios mais ferozes ao seu texto v\u00eam de pessoas que parecem nunca term estudado na vida. Boa sorte em seu mundo de lutas. Parab\u00e9ns pelo seu trabalho. maria vitoria arantes portugal Link Permanente 26/02/2014 22:16 An\u00e1lise muito bem feita da sociedade contempor\u00e2nea. O que fazer? N\u00e3o sabemos \u2026 Infelizmente n\u00e3o temos lideran\u00e7as pol\u00edticas capazes de pensar! \u2026 Pensar e agir \u2026 Entender que a solu\u00e7\u00e3o para uma sociedade mais justa e mais humana est\u00e1 no investimento maci\u00e7o na educa\u00e7\u00e3o e n\u00e3o no protecionismo, ou melhor, no paternalismo que n\u00e3o leva a nenhuma mudan\u00e7a profunda do ser humano e da sociedade como um todo."
       ]
      },
      {
       "output_type": "stream",
       "stream": "stdout",
       "text": [
        "\n"
       ]
      },
      {
       "metadata": {},
       "output_type": "pyout",
       "prompt_number": 27,
       "text": [
        "{'boiler_pipe': 173783, 'crf': 21819, 'downloads_id': 461179954, 'heur': 83}"
       ]
      }
     ],
     "prompt_number": 27
    },
    {
     "cell_type": "code",
     "collapsed": false,
     "input": [
      "def gen_data(downloads_id, included_line_numbers):\n",
      "    \n",
      "    heuristic_training_ip = []\n",
      "    c_t_ip = []\n",
      "    h_t_ip = []\n",
      "    \n",
      "    try:\n",
      "        \n",
      "        #api_key = ''\n",
      "        loc_key = api_key\n",
      "    \n",
      "        download = requests.get('https://api.mediacloud.org/api/v2/downloads/single/'+str(downloads_id)+'?key='+api_key)\n",
      "        raw_content = download.json()[0][u'raw_content']\n",
      "        stories_id = download.json()[0][u'stories_id']\n",
      "    \n",
      "        story = requests.get('https://api.mediacloud.org/api/v2/stories/single/'+str(stories_id)+'?key='+api_key)\n",
      "        title = story.json()[0][u'title']\n",
      "        description = story.json()[0][u'description']\n",
      "        url = story.json()[0][u'url']\n",
      "\n",
      "        story_lines_params = {'key':loc_key, 'body_html':raw_content}\n",
      "        \n",
      "        headers = {'Content-type': 'application/json'}\n",
      "        story_lines = requests.put('https://api.mediacloud.org/api/v2/extractlines/story_lines',data=story_lines_params, headers=headers)\n",
      "\n",
      "        #story_lines = requests.get('https://api.mediacloud.org/api/v2/extractlines/story_lines',params=story_lines_params)\n",
      "        \n",
      "        preprocessed_lines = story_lines.text\n",
      "\n",
      "        heur_extract_params = {'key':loc_key, 'preprocessed_lines':preprocessed_lines, 'story_title':title, 'story_description':description, 'extractor_method':'HeuristicExtractor'}\n",
      "        heur_extract = requests.get('https://api.mediacloud.org/api/v2/extractlines/extract',params=heur_extract_params)\n",
      "\n",
      "        crf_extract_params = {'key':loc_key, 'preprocessed_lines':preprocessed_lines, 'story_title':title, 'story_description':description, 'extractor_method':'CrfExtractor'}\n",
      "        crf_extract = requests.get('https://api.mediacloud.org/api/v2/extractlines/extract',params=crf_extract_params)\n",
      "\n",
      "        for ln, hscore in enumerate(heur_extract.json()[u'scores']):\n",
      "\n",
      "            t = 1 if str(ln) in included_line_numbers else 0\n",
      "\n",
      "            if hscore[u'autoexcluded'] != 1:\n",
      "                h_t_ip.append( (t, hscore[u'include_probability']) )\n",
      "\n",
      "            cscore = crf_extract.json()[u'scores'][ln]\n",
      "            if u'autoexcluded' not in cscore:\n",
      "                c_t_ip.append( (t, cscore[u'include_probability']) ) \n",
      "    \n",
      "    except Exception as e:\n",
      "        \n",
      "        pass\n",
      "\n",
      "    return h_t_ip, c_t_ip"
     ],
     "language": "python",
     "metadata": {},
     "outputs": [],
     "prompt_number": 13
    },
    {
     "cell_type": "code",
     "collapsed": false,
     "input": [
      "import mediacloud, requests, csv, sys, os, json, cPickle\n",
      "from pyroc import *\n",
      "\n",
      "#extractor_training_lines_checked has the training lines for downloads for which the highest line listed as 'included' was less than the number of lines in the download (max(included_line_numbers) < len(story_lines.json()))\n",
      "f = open(\"extractor_training_lines_checked.json\").read()\n",
      "reader = json.loads(f)\n",
      "heur = []\n",
      "cPickle.dump(heur, open(\"heur.p\", \"wb\"))\n",
      "crf = []\n",
      "cPickle.dump(crf, open(\"crf.p\", \"wb\"))\n",
      "done = []\n",
      "cPickle.dump(done, open(\"done.p\", \"wb\"))\n",
      "\n",
      "for row in reader[:30]:\n",
      "    \n",
      "    did = row[u'downloads_id']\n",
      "    lns = row[u'included_line_numbers']\n",
      "    \n",
      "    curh, curc = gen_data(did, lns)\n",
      "    \n",
      "    heur+=curh\n",
      "    crf+=curc\n",
      "    done.append(did)\n",
      "    \n",
      "cPickle.dump(done, open(\"done.p\", \"wb\"))\n",
      "cPickle.dump(heur, open(\"heur.p\", \"wb\"))\n",
      "cPickle.dump(crf, open(\"crf.p\", \"wb\"))"
     ],
     "language": "python",
     "metadata": {},
     "outputs": [],
     "prompt_number": 14
    },
    {
     "cell_type": "code",
     "collapsed": false,
     "input": [
      "import cPickle\n",
      "from pyroc import *\n",
      "\n",
      "heur = cPickle.load(open(\"heur.p\",\"rb\"))\n",
      "crf = cPickle.load(open(\"crf.p\",\"rb\"))\n",
      "\n",
      "rocheur = ROCData(heur)\n",
      "roccrf = ROCData(crf)\n",
      "\n",
      "\n",
      "print rocheur.auc()\n",
      "\n",
      "plot_multiple_roc(rocList=(rocheur,roccrf), title='Extractor ROC Curve', labels=(\"heuristic curve\",\"crf curve\"))"
     ],
     "language": "python",
     "metadata": {},
     "outputs": [
      {
       "output_type": "stream",
       "stream": "stdout",
       "text": [
        "0.0\n"
       ]
      },
      {
       "metadata": {},
       "output_type": "display_data",
       "png": "[encoded data removed]",
       "text": [
        "<matplotlib.figure.Figure at 0x7f1977abfbd0>"
       ]
      }
     ],
     "prompt_number": 15
    }
   ],
   "metadata": {}
  }
 ]
}