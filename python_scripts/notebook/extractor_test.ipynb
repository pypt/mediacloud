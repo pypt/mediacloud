{
 "metadata": {
  "name": "",
  "signature": "sha256:e6196607dd61c04b365dcdf3394745636fe47d3eacdb8cc3057303b0c60176d3"
 },
 "nbformat": 3,
 "nbformat_minor": 0,
 "worksheets": [
  {
   "cells": [
    {
     "cell_type": "markdown",
     "metadata": {},
     "source": [
      "This notebook is intended enable testing and evaluation of various extractor methods such as:\n",
      "\n",
      "* Heuristic Extractor\n",
      "* CRF Extractor\n",
      "* boilerpipe\n"
     ]
    },
    {
     "cell_type": "code",
     "collapsed": false,
     "input": [
      "import cPickle\n",
      "import os.path\n",
      "\n",
      "api_key = cPickle.load( file( os.path.expanduser( '~/mediacloud_api_key.pickle' ), 'r' ) )"
     ],
     "language": "python",
     "metadata": {},
     "outputs": [],
     "prompt_number": 1
    },
    {
     "cell_type": "code",
     "collapsed": false,
     "input": [
      "import cPickle\n",
      "import os.path\n",
      "\n",
      "cPickle.dump( api_key, file( os.path.expanduser( '~/mediacloud_api_key.pickle' ), 'wb' ) )"
     ],
     "language": "python",
     "metadata": {},
     "outputs": [],
     "prompt_number": 2
    },
    {
     "cell_type": "code",
     "collapsed": false,
     "input": [
      "import sys\n",
      "sys.path.append('../../foreign_modules/python/')"
     ],
     "language": "python",
     "metadata": {},
     "outputs": [],
     "prompt_number": 3
    },
    {
     "cell_type": "code",
     "collapsed": false,
     "input": [
      "loc_key = 'f66a50230d54afaf18822808aed649f1d6ca72b08fb06d5efb6247afe9fbae52'"
     ],
     "language": "python",
     "metadata": {},
     "outputs": [],
     "prompt_number": 4
    },
    {
     "cell_type": "code",
     "collapsed": false,
     "input": [
      "import mediacloud, requests, csv, sys, os, json, cPickle\n",
      "\n",
      "def get_download( downloads_id ):\n",
      "    download = requests.get('https://api.mediacloud.org/api/v2/downloads/single/'+str(downloads_id)+'?key='+api_key)\n",
      "    return download.json()[0]\n",
      "\n",
      "def extract_story( preprocessed_lines, title, description, extractor_method ):\n",
      "    extract_params = {'key':loc_key, 'preprocessed_lines':preprocessed_lines, \n",
      "                           'story_title':title, 'story_description':description, 'extractor_method': extractor_method}\n",
      "    \n",
      "    extract_result = requests.put('http://0:3000/api/v2/extractlines/extract',data=json.dumps(extract_params), \n",
      "                                headers = {'Content-type': 'application/json'})\n",
      "    \n",
      "    extract_result.raise_for_status()\n",
      "    return extract_result.json()\n",
      "\n",
      "def get_story_lines( raw_content ):\n",
      "    story_lines_params = {'key':loc_key, 'body_html':raw_content }\n",
      "    headers = {'Content-type': 'application/json'}\n",
      "    story_lines = requests.put('http://0:3000/api/v2/extractlines/story_lines',data=json.dumps(story_lines_params), \n",
      "                               params={ 'key': loc_key },headers=headers)\n",
      "    \n",
      "    story_lines.raise_for_status()\n",
      "    \n",
      "    return story_lines"
     ],
     "language": "python",
     "metadata": {},
     "outputs": [],
     "prompt_number": 5
    },
    {
     "cell_type": "code",
     "collapsed": false,
     "input": [
      "import subprocess\n",
      "import tempfile\n",
      "import codecs\n",
      "import time\n",
      "from lxml import html\n",
      "\n",
      "#download = get_download( downloads_id )\n",
      "#raw_content = download[u'raw_content']\n",
      "\n",
      "def extract_with_boilerpipe( raw_content ):\n",
      "    with tempfile.NamedTemporaryFile( suffix='.html', delete=False ) as t:\n",
      "        #print t.name\n",
      "    \n",
      "        UTF8Writer = codecs.getwriter('utf8')\n",
      "        t.file = UTF8Writer(t.file)\n",
      "        t.file.write( raw_content )\n",
      "    \n",
      "        t.close()\n",
      "        time.sleep( 2 )\n",
      "        print \"original article tmp file \", t.name\n",
      "        \n",
      "        #input_file = '/tmp/416655019.htm'\n",
      "        input_file = t.name\n",
      "        \n",
      "        output_tmp = tempfile.NamedTemporaryFile( suffix='.html', delete=False )\n",
      "        \n",
      "        output_file = output_tmp.name\n",
      "        #output_file = '/tmp/highlighted.html'\n",
      "        print output_file\n",
      "        print subprocess.check_output(['java', '-jar',\n",
      "                               '/home/dlarochelle/dev_scratch/boilerpipe_test/out/artifacts/boilerpipe_test_jar/boilerpipe_test.jar',\n",
      "                               input_file, output_file ] )\n",
      "        f = open( output_file, 'rb' )\n",
      "        \n",
      "        annotated_file_str = f.read()\n",
      "        \n",
      "        #t.unlink( t.name )\n",
      "        output_tmp.close()\n",
      "        #output_tmp.unlink( output_tmp.name )\n",
      "        \n",
      "    return annotated_file_str\n",
      "\n"
     ],
     "language": "python",
     "metadata": {},
     "outputs": [],
     "prompt_number": 6
    },
    {
     "cell_type": "code",
     "collapsed": false,
     "input": [
      "import readability\n",
      "\n",
      "def extract_with_python_readability( raw_content ):\n",
      "    doc = readability.Document( raw_content )\n",
      "    \n",
      "    return [ doc.short_title(),\n",
      "             doc.summary() ]"
     ],
     "language": "python",
     "metadata": {},
     "outputs": [],
     "prompt_number": 7
    },
    {
     "cell_type": "code",
     "collapsed": false,
     "input": [
      "import operator\n",
      "\n",
      "def get_extractor_training_text( downloads_id, preprocessed_lines ):\n",
      "    extractor_training_lines_result = requests.get(\n",
      "                                                   'https://api.mediacloud.org/api/v2/extractlines/extractor_training_lines/' + str(downloads_id),\n",
      "                                               headers = {'Content-type': 'application/json'}\n",
      "                                               , params= {'key': api_key}\n",
      "                                               )\n",
      "\n",
      "    extractor_training_lines_result.raise_for_status()\n",
      "\n",
      "    extractor_training_lines_result = extractor_training_lines_result.json()\n",
      "    \n",
      "    line_numbers = [ x['line_number'] for x in extractor_training_lines_result ]\n",
      "    \n",
      "    line_numbers = sorted(line_numbers)\n",
      "    \n",
      "    line_numbers.sort()\n",
      "    \n",
      "    print line_numbers\n",
      "    \n",
      "    return operator.itemgetter( * line_numbers )( preprocessed_lines  )\n",
      "\n",
      "import operator\n",
      "\n",
      "def get_extracted_text( extractor_results ):\n",
      "    included_line_numbers = extractor_results['included_line_numbers']\n",
      "    print included_line_numbers\n",
      "    \n",
      "    dl = extractor_results['download_lines']\n",
      "   \n",
      "    if len( included_line_numbers ) == 0:\n",
      "        return []\n",
      "    else:    \n",
      "        return operator.itemgetter( * extractor_results['included_line_numbers']   )(dl)"
     ],
     "language": "python",
     "metadata": {},
     "outputs": [],
     "prompt_number": 8
    },
    {
     "cell_type": "code",
     "collapsed": false,
     "input": [
      "def html_strip( str ):\n",
      "    try:\n",
      "        return html.fromstring(str).text_content()    \n",
      "    except:\n",
      "        print \"Unexpected error on string '\" + str + \"'\" , sys.exc_info()[0]\n",
      "        #raise\n",
      "        return u''\n",
      "    \n",
      "    \n",
      "\n",
      "def clean_for_comparison( str ):\n",
      "    if len(str) > 0:\n",
      "        ret = html_strip( str )\n",
      "    else:\n",
      "        return str\n",
      "    \n",
      "    if len(ret) > 0:\n",
      "        ret = ret.strip()\n",
      "    \n",
      "    return ret    "
     ],
     "language": "python",
     "metadata": {},
     "outputs": [],
     "prompt_number": 9
    },
    {
     "cell_type": "code",
     "collapsed": false,
     "input": [
      "import Levenshtein\n",
      "\n",
      "def lines_to_comparable_text( lines ):\n",
      "    text = \" \".join([ clean_for_comparison(line) for line in lines ])\n",
      "    \n",
      "    if text == '':\n",
      "        text = u''\n",
      "        \n",
      "    return text\n",
      "\n",
      "def compare_accuracy( lines, lines_expected ):\n",
      "    return Levenshtein.distance( lines_to_comparable_text( lines ) , lines_to_comparable_text( lines_expected ) )"
     ],
     "language": "python",
     "metadata": {},
     "outputs": [],
     "prompt_number": 10
    },
    {
     "cell_type": "code",
     "collapsed": false,
     "input": [],
     "language": "python",
     "metadata": {},
     "outputs": []
    },
    {
     "cell_type": "code",
     "collapsed": false,
     "input": [
      "def compare_extractors_for_download( downloads_id ):\n",
      "    download = get_download( downloads_id )\n",
      "    \n",
      "    raw_content = download[u'raw_content']\n",
      "    stories_id = download[u'stories_id']\n",
      "    \n",
      "    story = requests.get('https://api.mediacloud.org/api/v2/stories/single/'+str(stories_id)+'?key='+api_key)\n",
      "    title = story.json()[0][u'title']\n",
      "    description = story.json()[0][u'description']\n",
      "    url = story.json()[0][u'url']\n",
      "    \n",
      "    story_lines = get_story_lines( raw_content )\n",
      "    #print story_lines.content\n",
      "    preprocessed_lines = story_lines.json()\n",
      "    \n",
      "    heur_extract = extract_story( preprocessed_lines, title, description, 'HeuristicExtractor')\n",
      "    crf_extract = extract_story( preprocessed_lines, title, description, 'CrfExtractor')\n",
      "    \n",
      "    heur_lines = get_extracted_text( heur_extract )\n",
      "    crf_lines  = get_extracted_text( crf_extract )\n",
      "    \n",
      "    python_readability_lines = extract_with_python_readability( raw_content )\n",
      "    \n",
      "    expected_lines = get_extractor_training_text( downloads_id, preprocessed_lines  )\n",
      "    \n",
      "    tree = html.fromstring( extract_with_boilerpipe( raw_content) )   \n",
      "    spans = tree.xpath('//span[@class=\"x-boilerpipe-mark1\"]')\n",
      "    boiler_pipe_lines = [ s.text for s in spans ]\n",
      "\n",
      "    #print \"expected_lines:\"\n",
      "    #print lines_to_comparable_text(expected_lines)\n",
      "    \n",
      "    #print \"boilerpipe lines\"\n",
      "    #print lines_to_comparable_text(boiler_pipe_lines)\n",
      "    \n",
      "    comp_results = {}\n",
      "    comp_results['heur'] = compare_accuracy( heur_lines, expected_lines )\n",
      "    comp_results['crf']  = compare_accuracy( crf_lines, expected_lines )\n",
      "    comp_results['boiler_pipe'] = compare_accuracy( boiler_pipe_lines, expected_lines )\n",
      "    comp_results['python_readibilty'] = compare_accuracy( python_readability_lines, expected_lines )\n",
      "    \n",
      "    comp_results['downloads_id'] = downloads_id\n",
      "    \n",
      "    #comp_results['expected']    = compare_accuracy( expected_lines, expected_lines )\n",
      "    return comp_results"
     ],
     "language": "python",
     "metadata": {},
     "outputs": [],
     "prompt_number": 11
    },
    {
     "cell_type": "code",
     "collapsed": false,
     "input": [
      "downloads_id = 416655019\n",
      "downloads_ids = [391881020,401370599,412896439,412952145,412977048,413024519,413657081,413835576,414040102,414257623,\n",
      "                 414377428,414480464,414818749,414983458,415185946,415186582,415197547,415424551,415978069,416026460,\n",
      "                 416026587,416047494,416047513,416210404,416263840,416306952,416426245,416655019,416730837,416802690,\n",
      "                 417347290,417347524,417368539,417389613,417477837,417653177,418489742,418544762,418574641,418648698,\n",
      "                 418661859,419404469,419440474,419483895,419873979,420430754,420599387,420666122,421520860,421834553,\n",
      "                 422181106,422280595,422910963,423318170,424080271,424369085,424796346,424840366,425206279,426405203,\n",
      "                 426560018,426632784,426709900,428449440,429607289,430363249,430995428,433457459,435624796,435659593,461175103,461175549,461176415,461176844,461177487,461178557,461178590,461179203,461179222,461179441,461179762,461179818,461179954,461179956,461180307,461181039,461181597,461186137,461186258,461186833,461187188,461187261,461187577,461188549,461189069,461190586,461193383]\n",
      "\n",
      "print len( downloads_ids )\n",
      "\n",
      "comps = []\n",
      "for downloads_id in downloads_ids[:]:\n",
      "    print 'downloads_id:', downloads_id\n",
      "    res = compare_extractors_for_download( downloads_id )\n",
      "    print res\n",
      "    comps.append( res )\n",
      "    \n",
      "    \n",
      "comps"
     ],
     "language": "python",
     "metadata": {},
     "outputs": [
      {
       "output_type": "stream",
       "stream": "stdout",
       "text": [
        "97\n",
        "downloads_id: 391881020\n",
        "[31, 32, 87, 88, 89, 90]"
       ]
      },
      {
       "output_type": "stream",
       "stream": "stdout",
       "text": [
        "\n",
        "[29, 30, 31, 32]\n",
        "[30, 31]"
       ]
      },
      {
       "output_type": "stream",
       "stream": "stdout",
       "text": [
        "\n",
        "original article tmp file "
       ]
      },
      {
       "output_type": "stream",
       "stream": "stdout",
       "text": [
        " /tmp/tmpB3zSLt.html\n",
        "/tmp/tmpjGzX9o.html\n",
        "/tmp/tmpB3zSLt.html\n",
        "/tmp/tmpB3zSLt.html\n",
        "Now open file:///tmp/tmpjGzX9o.html in your web browser\n"
       ]
      },
      {
       "output_type": "stream",
       "stream": "stdout",
       "text": [
        "\n",
        "{'heur': 309, 'boiler_pipe': 183, 'downloads_id': 391881020, 'crf': 1014, 'python_readibilty': 80}\n",
        "downloads_id: 401370599\n",
        "[212, 303, 318, 333, 348, 404, 419, 420, 435, 436, 454, 554]"
       ]
      },
      {
       "output_type": "stream",
       "stream": "stdout",
       "text": [
        "\n",
        "[205, 212, 213]\n",
        "[202, 205, 212, 213]"
       ]
      },
      {
       "output_type": "stream",
       "stream": "stdout",
       "text": [
        "\n",
        "original article tmp file "
       ]
      },
      {
       "output_type": "stream",
       "stream": "stdout",
       "text": [
        " /tmp/tmp3BQRwM.html\n",
        "/tmp/tmpkCJd2u.html\n",
        "/tmp/tmp3BQRwM.html\n",
        "/tmp/tmp3BQRwM.html\n",
        "Now open file:///tmp/tmpkCJd2u.html in your web browser\n"
       ]
      },
      {
       "output_type": "stream",
       "stream": "stdout",
       "text": [
        "\n",
        "{'heur': 540, 'boiler_pipe': 2, 'downloads_id': 401370599, 'crf': 30, 'python_readibilty': 162}\n",
        "downloads_id: 412896439\n",
        "[265, 279, 281, 283, 285, 287, 289, 291, 293, 305, 307, 311, 313, 315]"
       ]
      },
      {
       "output_type": "stream",
       "stream": "stdout",
       "text": [
        "\n",
        "[265, 702]\n",
        "[265, 266, 267, 279, 281, 283, 285, 287, 289, 291, 293, 303, 305, 307, 309, 311, 313, 315, 702]"
       ]
      },
      {
       "output_type": "stream",
       "stream": "stdout",
       "text": [
        "\n",
        "original article tmp file "
       ]
      },
      {
       "output_type": "stream",
       "stream": "stdout",
       "text": [
        " /tmp/tmpjKAPA9.html\n",
        "/tmp/tmpXTO76L.html\n",
        "/tmp/tmpjKAPA9.html\n",
        "/tmp/tmpjKAPA9.html\n",
        "Now open file:///tmp/tmpXTO76L.html in your web browser\n"
       ]
      },
      {
       "output_type": "stream",
       "stream": "stdout",
       "text": [
        "\n",
        "{'heur': 183, 'boiler_pipe': 329, 'downloads_id': 412896439, 'crf': 3259, 'python_readibilty': 165}"
       ]
      },
      {
       "output_type": "stream",
       "stream": "stdout",
       "text": [
        "\n",
        "downloads_id: 412952145\n",
        "[422, 436, 440, 444, 448, 449, 450, 451, 455, 459, 466, 522, 546, 570, 618, 624, 642, 666, 690, 714, 738, 762, 768, 786, 792, 810, 834, 840, 864, 906, 930, 1223]"
       ]
      },
      {
       "output_type": "stream",
       "stream": "stdout",
       "text": [
        "\n",
        "[422, 436, 440, 444, 448, 449, 450, 451, 455, 459]\n",
        "[415, 422, 436, 440, 444, 448, 449, 450, 451, 455, 459]"
       ]
      },
      {
       "output_type": "stream",
       "stream": "stdout",
       "text": [
        "\n",
        "original article tmp file "
       ]
      },
      {
       "output_type": "stream",
       "stream": "stdout",
       "text": [
        " /tmp/tmpCSUkGn.html\n",
        "/tmp/tmp42fWOe.html\n",
        "/tmp/tmpCSUkGn.html\n",
        "/tmp/tmpCSUkGn.html\n",
        "Now open file:///tmp/tmp42fWOe.html in your web browser\n"
       ]
      },
      {
       "output_type": "stream",
       "stream": "stdout",
       "text": [
        "\n",
        "{'heur': 9280, 'boiler_pipe': 6041, 'downloads_id': 412952145, 'crf': 37, 'python_readibilty': 56}"
       ]
      },
      {
       "output_type": "stream",
       "stream": "stdout",
       "text": [
        "\n",
        "downloads_id: 412977048\n",
        "[471, 505, 507]"
       ]
      },
      {
       "output_type": "stream",
       "stream": "stdout",
       "text": [
        "\n",
        "[471]\n",
        "[471, 474, 505, 507]"
       ]
      },
      {
       "output_type": "stream",
       "stream": "stdout",
       "text": [
        "\n",
        "original article tmp file "
       ]
      },
      {
       "output_type": "stream",
       "stream": "stdout",
       "text": [
        " /tmp/tmp5vVrch.html\n",
        "/tmp/tmpHpGZT7.html\n",
        "/tmp/tmp5vVrch.html\n",
        "/tmp/tmp5vVrch.html\n",
        "Now open file:///tmp/tmpHpGZT7.html in your web browser\n"
       ]
      },
      {
       "output_type": "stream",
       "stream": "stdout",
       "text": [
        "\n",
        "Unexpected error on string ' ' <class 'lxml.etree.ParserError'>\n",
        "Unexpected error on string ' ' <class 'lxml.etree.ParserError'>\n",
        "Unexpected error on string ' ' <class 'lxml.etree.ParserError'>\n",
        "Unexpected error on string ' ' <class 'lxml.etree.ParserError'>\n",
        "Unexpected error on string ' ' <class 'lxml.etree.ParserError'>\n",
        "Unexpected error on string ' ' <class 'lxml.etree.ParserError'>\n",
        "Unexpected error on string ' ' <class 'lxml.etree.ParserError'>\n",
        "Unexpected error on string ' ' <class 'lxml.etree.ParserError'>\n",
        "Unexpected error on string ' ' <class 'lxml.etree.ParserError'>\n",
        "Unexpected error on string ' ' <class 'lxml.etree.ParserError'>\n",
        "Unexpected error on string ' ' <class 'lxml.etree.ParserError'>\n",
        "Unexpected error on string ' ' <class 'lxml.etree.ParserError'>\n",
        "Unexpected error on string ' ' <class 'lxml.etree.ParserError'>\n",
        "Unexpected error on string ' ' <class 'lxml.etree.ParserError'>\n",
        "Unexpected error on string ' ' <class 'lxml.etree.ParserError'>\n",
        "Unexpected error on string ' ' <class 'lxml.etree.ParserError'>\n",
        "Unexpected error on string '<' <class 'lxml.etree.ParserError'>\n",
        "Unexpected error on string ' ' <class 'lxml.etree.ParserError'>\n",
        "Unexpected error on string ' ' <class 'lxml.etree.ParserError'>\n",
        "Unexpected error on string ' ' <class 'lxml.etree.ParserError'>\n",
        "Unexpected error on string ' ' <class 'lxml.etree.ParserError'>\n",
        "Unexpected error on string ' ' <class 'lxml.etree.ParserError'>\n",
        "Unexpected error on string ' ' <class 'lxml.etree.ParserError'>\n",
        "Unexpected error on string '<' <class 'lxml.etree.ParserError'>\n",
        "{'heur': 38, 'boiler_pipe': 33, 'downloads_id': 412977048, 'crf': 595, 'python_readibilty': 213}\n",
        "downloads_id: 413024519\n",
        "[606, 607, 694, 695, 696, 697, 989, 990, 1045, 1074, 1131, 1176, 1179, 1194]"
       ]
      },
      {
       "output_type": "stream",
       "stream": "stdout",
       "text": [
        "\n",
        "[606]\n",
        "[606, 607, 608, 692, 694, 695, 696, 697]"
       ]
      },
      {
       "output_type": "stream",
       "stream": "stdout",
       "text": [
        "\n",
        "original article tmp file "
       ]
      },
      {
       "output_type": "stream",
       "stream": "stdout",
       "text": [
        " /tmp/tmp2ZHgsu.html\n",
        "/tmp/tmpMog0TW.html\n",
        "/tmp/tmp2ZHgsu.html\n",
        "/tmp/tmp2ZHgsu.html\n",
        "Now open file:///tmp/tmpMog0TW.html in your web browser\n"
       ]
      },
      {
       "output_type": "stream",
       "stream": "stdout",
       "text": [
        "\n",
        "Unexpected error on string '\t' <class 'lxml.etree.ParserError'>\n",
        "Unexpected error on string '\t' <class 'lxml.etree.ParserError'>\n",
        "Unexpected error on string '\t' <class 'lxml.etree.ParserError'>\n",
        "Unexpected error on string '\t' <class 'lxml.etree.ParserError'>\n",
        "Unexpected error on string '\t' <class 'lxml.etree.ParserError'>\n",
        "Unexpected error on string '\t' <class 'lxml.etree.ParserError'>\n",
        "Unexpected error on string '\t' <class 'lxml.etree.ParserError'>\n",
        "Unexpected error on string '\t' <class 'lxml.etree.ParserError'>\n",
        "Unexpected error on string '\t' <class 'lxml.etree.ParserError'>\n",
        "Unexpected error on string '<' <class 'lxml.etree.ParserError'>\n",
        "Unexpected error on string ' ' <class 'lxml.etree.ParserError'>\n",
        "Unexpected error on string ' ' <class 'lxml.etree.ParserError'>\n",
        "Unexpected error on string ' ' <class 'lxml.etree.ParserError'>\n",
        "Unexpected error on string ' ' <class 'lxml.etree.ParserError'>\n",
        "Unexpected error on string ' ' <class 'lxml.etree.ParserError'>\n",
        "Unexpected error on string ' ' <class 'lxml.etree.ParserError'>\n",
        "Unexpected error on string ' ' <class 'lxml.etree.ParserError'>\n",
        "Unexpected error on string ' ' <class 'lxml.etree.ParserError'>\n",
        "Unexpected error on string ' ' <class 'lxml.etree.ParserError'>\n",
        "Unexpected error on string ' ' <class 'lxml.etree.ParserError'>\n",
        "Unexpected error on string '<' <class 'lxml.etree.ParserError'>\n",
        "{'heur': 733, 'boiler_pipe': 876, 'downloads_id': 413024519, 'crf': 1282, 'python_readibilty': 252}\n",
        "downloads_id: 413657081\n",
        "[597, 609, 613, 616, 624, 627, 630, 644, 647, 650, 656, 662, 665, 710, 721, 842, 853, 864, 875, 886, 1279, 1284, 1410, 1414]"
       ]
      },
      {
       "output_type": "stream",
       "stream": "stdout",
       "text": [
        "\n",
        "[597, 613, 616]\n",
        "[597, 608, 613, 616, 624, 627, 630, 640, 644, 647, 650, 653, 656, 659, 662, 665]"
       ]
      },
      {
       "output_type": "stream",
       "stream": "stdout",
       "text": [
        "\n",
        "original article tmp file "
       ]
      },
      {
       "output_type": "stream",
       "stream": "stdout",
       "text": [
        " /tmp/tmpRfauBI.html\n",
        "/tmp/tmpnZjP9g.html\n",
        "/tmp/tmpRfauBI.html\n",
        "/tmp/tmpRfauBI.html\n",
        "Now open file:///tmp/tmpnZjP9g.html in your web browser\n"
       ]
      },
      {
       "output_type": "stream",
       "stream": "stdout",
       "text": [
        "\n",
        "{'heur': 597, 'boiler_pipe': 280, 'downloads_id': 413657081, 'crf': 1978, 'python_readibilty': 426}"
       ]
      },
      {
       "output_type": "stream",
       "stream": "stdout",
       "text": [
        "\n",
        "downloads_id: 413835576\n",
        "[218, 284, 306, 337, 338, 339]"
       ]
      },
      {
       "output_type": "stream",
       "stream": "stdout",
       "text": [
        "\n",
        "[304, 305, 306]\n",
        "[283, 284, 304, 305, 306]"
       ]
      },
      {
       "output_type": "stream",
       "stream": "stdout",
       "text": [
        "\n",
        "original article tmp file "
       ]
      },
      {
       "output_type": "stream",
       "stream": "stdout",
       "text": [
        " /tmp/tmp94MxRP.html\n",
        "/tmp/tmp8h_ttU.html\n",
        "/tmp/tmp94MxRP.html\n",
        "/tmp/tmp94MxRP.html\n",
        "Now open file:///tmp/tmp8h_ttU.html in your web browser\n"
       ]
      },
      {
       "output_type": "stream",
       "stream": "stdout",
       "text": [
        "\n",
        "{'heur': 959, 'boiler_pipe': 235, 'downloads_id': 413835576, 'crf': 119, 'python_readibilty': 89}\n",
        "downloads_id: 414040102\n",
        "[3270, 3273, 3377, 3411, 3424, 3444, 3448, 3452, 3454, 3456, 3458, 3465, 3467, 3631, 3768, 3774, 3780, 3786, 3792, 3798, 3804, 3810, 3816, 3822, 3828, 3834, 3840, 3852, 3864, 3870, 3876, 3882, 3888]"
       ]
      },
      {
       "output_type": "stream",
       "stream": "stdout",
       "text": [
        "\n",
        "[178, 3270, 3273, 3439, 3444, 3448, 3450, 3452, 3454, 3456, 3458, 3533]\n",
        "[3270, 3273, 3377, 3439, 3444, 3448, 3450, 3452, 3454, 3456, 3458, 3460, 3462, 3464, 3465, 3467]"
       ]
      },
      {
       "output_type": "stream",
       "stream": "stdout",
       "text": [
        "\n",
        "original article tmp file "
       ]
      },
      {
       "output_type": "stream",
       "stream": "stdout",
       "text": [
        " /tmp/tmpj9Qv1S.html\n",
        "/tmp/tmpnoUrxp.html\n",
        "/tmp/tmpj9Qv1S.html\n",
        "/tmp/tmpj9Qv1S.html\n",
        "Now open file:///tmp/tmpnoUrxp.html in your web browser\n"
       ]
      },
      {
       "output_type": "stream",
       "stream": "stdout",
       "text": [
        "\n",
        "{'heur': 1090, 'boiler_pipe': 86, 'downloads_id': 414040102, 'crf': 760, 'python_readibilty': 308}"
       ]
      },
      {
       "output_type": "stream",
       "stream": "stdout",
       "text": [
        "\n",
        "downloads_id: 414257623\n",
        "[569, 580, 581, 582, 583, 584, 585, 586, 587, 588, 737, 985, 1360, 1390, 1420, 1450, 1484, 1514, 1544, 1574, 1608, 1638, 1668, 1698, 1732, 1762, 1792, 1822]"
       ]
      },
      {
       "output_type": "stream",
       "stream": "stdout",
       "text": [
        "\n",
        "[569, 579, 580, 581, 582, 583, 584, 585, 586, 587, 588, 674]\n",
        "[566, 569, 579, 580, 581, 582, 583, 584, 585, 586, 587, 588]"
       ]
      },
      {
       "output_type": "stream",
       "stream": "stdout",
       "text": [
        "\n",
        "original article tmp file "
       ]
      },
      {
       "output_type": "stream",
       "stream": "stdout",
       "text": [
        " /tmp/tmpWZ6_06.html\n",
        "/tmp/tmpWAB4ce.html\n",
        "/tmp/tmpWZ6_06.html\n",
        "/tmp/tmpWZ6_06.html\n",
        "Now open file:///tmp/tmpWAB4ce.html in your web browser\n"
       ]
      },
      {
       "output_type": "stream",
       "stream": "stdout",
       "text": [
        "\n",
        "{'heur': 2178, 'boiler_pipe': 78, 'downloads_id': 414257623, 'crf': 76, 'python_readibilty': 252}\n",
        "downloads_id: 414377428\n",
        "[514, 515, 516, 518, 520, 522, 524, 526, 527, 529, 531, 533, 535, 536, 537, 540, 541, 542, 543, 544, 546, 547, 549, 550, 551, 552, 553, 554, 555, 556, 557, 558, 559, 561, 562, 564, 565, 567, 568, 570, 571, 572, 573, 574, 575, 576, 577, 579, 582, 583, 585, 587, 589, 591, 593, 595, 596, 637, 985, 986]"
       ]
      },
      {
       "output_type": "stream",
       "stream": "stdout",
       "text": [
        "\n",
        "[466, 526, 527, 528, 529, 530, 531, 532, 533, 534, 535, 536, 537, 538, 539, 540, 541, 542, 543, 544, 545, 546, 547, 548, 549, 550, 551, 552, 553, 554, 555, 556, 557, 558, 559, 560, 561, 562, 563, 564, 565, 566, 567, 568, 569, 570, 571, 572, 573, 574, 575, 576, 577, 578, 579]\n",
        "[466, 467, 483, 513, 514, 515, 516, 517, 518, 519, 520, 521, 522, 523, 524, 525, 526, 527, 528, 529, 530, 531, 532, 533, 534, 535, 536, 537, 538, 539, 540, 541, 542, 543, 544, 545, 546, 547, 548, 549, 550, 551, 552, 553, 554, 555, 556, 557, 558, 559, 560, 561, 562, 563, 564, 565, 566, 567, 568, 569, 570, 571, 572, 573, 574, 575, 576, 577, 578, 579, 580, 581, 582, 583, 584, 585, 586, 587, 588, 589, 590, 591, 592, 593, 594, 595]"
       ]
      },
      {
       "output_type": "stream",
       "stream": "stdout",
       "text": [
        "\n",
        "original article tmp file "
       ]
      },
      {
       "output_type": "stream",
       "stream": "stdout",
       "text": [
        " /tmp/tmpI6wcnA.html\n",
        "/tmp/tmpj5Fq2R.html\n",
        "/tmp/tmpI6wcnA.html\n",
        "/tmp/tmpI6wcnA.html\n",
        "Now open file:///tmp/tmpj5Fq2R.html in your web browser\n"
       ]
      },
      {
       "output_type": "stream",
       "stream": "stdout",
       "text": [
        "\n",
        "{'heur': 1678, 'boiler_pipe': 251, 'downloads_id': 414377428, 'crf': 9533, 'python_readibilty': 464}"
       ]
      },
      {
       "output_type": "stream",
       "stream": "stdout",
       "text": [
        "\n",
        "downloads_id: 414480464\n",
        "[364, 386, 402, 407, 425, 444, 456, 468, 733, 734, 735, 804]"
       ]
      },
      {
       "output_type": "stream",
       "stream": "stdout",
       "text": [
        "\n",
        "[364]\n",
        "[355, 364, 374, 386]"
       ]
      },
      {
       "output_type": "stream",
       "stream": "stdout",
       "text": [
        "\n",
        "original article tmp file "
       ]
      },
      {
       "output_type": "stream",
       "stream": "stdout",
       "text": [
        " /tmp/tmpxbehjT.html\n",
        "/tmp/tmpIDvatV.html\n",
        "/tmp/tmpxbehjT.html\n",
        "/tmp/tmpxbehjT.html\n",
        "Now open file:///tmp/tmpIDvatV.html in your web browser\n"
       ]
      },
      {
       "output_type": "stream",
       "stream": "stdout",
       "text": [
        "\n",
        "Unexpected error on string ' ' <class 'lxml.etree.ParserError'>\n",
        "Unexpected error on string ' ' <class 'lxml.etree.ParserError'>\n",
        "Unexpected error on string ' ' <class 'lxml.etree.ParserError'>\n",
        "Unexpected error on string ' ' <class 'lxml.etree.ParserError'>\n",
        "Unexpected error on string ' ' <class 'lxml.etree.ParserError'>\n",
        "Unexpected error on string ' ' <class 'lxml.etree.ParserError'>\n",
        "Unexpected error on string ' ' <class 'lxml.etree.ParserError'>\n",
        "Unexpected error on string ' ' <class 'lxml.etree.ParserError'>\n",
        "Unexpected error on string ' ' <class 'lxml.etree.ParserError'>\n",
        "Unexpected error on string ' ' <class 'lxml.etree.ParserError'>\n",
        "Unexpected error on string ' ' <class 'lxml.etree.ParserError'>\n",
        "Unexpected error on string ' ' <class 'lxml.etree.ParserError'>\n",
        "Unexpected error on string ' ' <class 'lxml.etree.ParserError'>\n",
        "Unexpected error on string ' ' <class 'lxml.etree.ParserError'>\n",
        "Unexpected error on string ' ' <class 'lxml.etree.ParserError'>\n",
        "Unexpected error on string ' ' <class 'lxml.etree.ParserError'>\n",
        "Unexpected error on string ' ' <class 'lxml.etree.ParserError'>\n",
        "Unexpected error on string ' ' <class 'lxml.etree.ParserError'>\n",
        "Unexpected error on string ' ' <class 'lxml.etree.ParserError'>\n",
        "Unexpected error on string ' ' <class 'lxml.etree.ParserError'>\n",
        "Unexpected error on string ' ' <class 'lxml.etree.ParserError'>\n",
        "Unexpected error on string ' ' <class 'lxml.etree.ParserError'>\n",
        "Unexpected error on string ' ' <class 'lxml.etree.ParserError'>\n",
        "Unexpected error on string ' ' <class 'lxml.etree.ParserError'>\n",
        "Unexpected error on string ' ' <class 'lxml.etree.ParserError'>\n",
        "Unexpected error on string ' ' <class 'lxml.etree.ParserError'>\n",
        "Unexpected error on string ' ' <class 'lxml.etree.ParserError'>\n",
        "Unexpected error on string ' ' <class 'lxml.etree.ParserError'>\n",
        "Unexpected error on string ' ' <class 'lxml.etree.ParserError'>\n",
        "Unexpected error on string ' ' <class 'lxml.etree.ParserError'>\n",
        "Unexpected error on string ' ' <class 'lxml.etree.ParserError'>\n",
        "Unexpected error on string ' ' <class 'lxml.etree.ParserError'>\n",
        "Unexpected error on string ' ' <class 'lxml.etree.ParserError'>\n",
        "Unexpected error on string ' ' <class 'lxml.etree.ParserError'>\n",
        "Unexpected error on string ' ' <class 'lxml.etree.ParserError'>\n",
        "Unexpected error on string ' ' <class 'lxml.etree.ParserError'>\n",
        "Unexpected error on string '<' <class 'lxml.etree.ParserError'>\n",
        "{'heur': 1014, 'boiler_pipe': 533, 'downloads_id': 414480464, 'crf': 3472, 'python_readibilty': 25}"
       ]
      },
      {
       "output_type": "stream",
       "stream": "stdout",
       "text": [
        "\n",
        "downloads_id: 414818749\n",
        "[1412, 1454, 1456, 1458, 1460, 1462, 1464, 1466, 1468, 1471, 1473, 1475, 1477, 1479, 1481, 1484, 1486, 1488, 1490, 1492, 1494, 1530, 1531, 1704, 1824]"
       ]
      },
      {
       "output_type": "stream",
       "stream": "stdout",
       "text": [
        "\n",
        "[1411, 1412]\n",
        "[1411, 1412, 1452, 1454, 1456, 1458, 1460, 1462, 1464, 1466, 1468, 1470, 1471, 1473, 1475, 1477, 1479, 1481, 1483, 1484, 1486, 1488, 1490, 1492, 1494, 1496]"
       ]
      },
      {
       "output_type": "stream",
       "stream": "stdout",
       "text": [
        "\n",
        "original article tmp file "
       ]
      },
      {
       "output_type": "stream",
       "stream": "stdout",
       "text": [
        " /tmp/tmpi2HmlW.html\n",
        "/tmp/tmpkIQ_9Y.html\n",
        "/tmp/tmpi2HmlW.html\n",
        "/tmp/tmpi2HmlW.html\n",
        "Now open file:///tmp/tmpkIQ_9Y.html in your web browser\n"
       ]
      },
      {
       "output_type": "stream",
       "stream": "stdout",
       "text": [
        "\n",
        "{'heur': 309, 'boiler_pipe': 429, 'downloads_id': 414818749, 'crf': 4262, 'python_readibilty': 250}"
       ]
      },
      {
       "output_type": "stream",
       "stream": "stdout",
       "text": [
        "\n",
        "downloads_id: 414983458\n",
        "[408, 941, 960, 979, 998, 1017, 1048, 1067, 1086, 1105, 1124, 1155, 1174, 1193, 1212, 1231, 1410, 1411]"
       ]
      },
      {
       "output_type": "stream",
       "stream": "stdout",
       "text": [
        "\n",
        "[408, 518, 531, 544]\n",
        "[408]"
       ]
      },
      {
       "output_type": "stream",
       "stream": "stdout",
       "text": [
        "\n",
        "original article tmp file "
       ]
      },
      {
       "output_type": "stream",
       "stream": "stdout",
       "text": [
        " /tmp/tmpWNBIst.html\n",
        "/tmp/tmpWfLFyt.html\n",
        "/tmp/tmpWNBIst.html\n",
        "/tmp/tmpWNBIst.html\n",
        "Now open file:///tmp/tmpWfLFyt.html in your web browser\n"
       ]
      },
      {
       "output_type": "stream",
       "stream": "stdout",
       "text": [
        "\n",
        "Unexpected error on string ' ' <class 'lxml.etree.ParserError'>\n",
        "Unexpected error on string ' ' <class 'lxml.etree.ParserError'>\n",
        "Unexpected error on string ' ' <class 'lxml.etree.ParserError'>\n",
        "Unexpected error on string ' ' <class 'lxml.etree.ParserError'>\n",
        "Unexpected error on string ' ' <class 'lxml.etree.ParserError'>\n",
        "Unexpected error on string ' ' <class 'lxml.etree.ParserError'>\n",
        "Unexpected error on string ' ' <class 'lxml.etree.ParserError'>\n",
        "Unexpected error on string ' ' <class 'lxml.etree.ParserError'>\n",
        "Unexpected error on string ' ' <class 'lxml.etree.ParserError'>\n",
        "Unexpected error on string ' ' <class 'lxml.etree.ParserError'>\n",
        "Unexpected error on string ' ' <class 'lxml.etree.ParserError'>\n",
        "Unexpected error on string ' ' <class 'lxml.etree.ParserError'>\n",
        "Unexpected error on string '<' <class 'lxml.etree.ParserError'>\n",
        "Unexpected error on string ' ' <class 'lxml.etree.ParserError'>\n",
        "Unexpected error on string ' ' <class 'lxml.etree.ParserError'>\n",
        "Unexpected error on string ' ' <class 'lxml.etree.ParserError'>\n",
        "Unexpected error on string ' ' <class 'lxml.etree.ParserError'>\n",
        "Unexpected error on string ' ' <class 'lxml.etree.ParserError'>\n",
        "Unexpected error on string ' ' <class 'lxml.etree.ParserError'>\n",
        "Unexpected error on string ' ' <class 'lxml.etree.ParserError'>\n",
        "Unexpected error on string ' ' <class 'lxml.etree.ParserError'>\n",
        "Unexpected error on string '<' <class 'lxml.etree.ParserError'>\n",
        "Unexpected error on string ' ' <class 'lxml.etree.ParserError'>\n",
        "Unexpected error on string ' ' <class 'lxml.etree.ParserError'>\n",
        "Unexpected error on string ' ' <class 'lxml.etree.ParserError'>\n",
        "Unexpected error on string ' ' <class 'lxml.etree.ParserError'>\n",
        "Unexpected error on string ' ' <class 'lxml.etree.ParserError'>\n",
        "Unexpected error on string ' ' <class 'lxml.etree.ParserError'>\n",
        "Unexpected error on string ' ' <class 'lxml.etree.ParserError'>\n",
        "Unexpected error on string ' ' <class 'lxml.etree.ParserError'>\n",
        "Unexpected error on string ' ' <class 'lxml.etree.ParserError'>\n",
        "Unexpected error on string ' ' <class 'lxml.etree.ParserError'>\n",
        "Unexpected error on string ' ' <class 'lxml.etree.ParserError'>\n",
        "Unexpected error on string ' ' <class 'lxml.etree.ParserError'>\n",
        "Unexpected error on string '<' <class 'lxml.etree.ParserError'>\n",
        "Unexpected error on string ' ' <class 'lxml.etree.ParserError'>\n",
        "Unexpected error on string ' ' <class 'lxml.etree.ParserError'>\n",
        "Unexpected error on string ' ' <class 'lxml.etree.ParserError'>\n",
        "Unexpected error on string ' ' <class 'lxml.etree.ParserError'>\n",
        "Unexpected error on string ' ' <class 'lxml.etree.ParserError'>\n",
        "Unexpected error on string ' ' <class 'lxml.etree.ParserError'>\n",
        "Unexpected error on string ' ' <class 'lxml.etree.ParserError'>\n",
        "Unexpected error on string ' ' <class 'lxml.etree.ParserError'>\n",
        "Unexpected error on string '<' <class 'lxml.etree.ParserError'>\n",
        "Unexpected error on string ' ' <class 'lxml.etree.ParserError'>\n",
        "Unexpected error on string ' ' <class 'lxml.etree.ParserError'>\n",
        "Unexpected error on string ' ' <class 'lxml.etree.ParserError'>\n",
        "Unexpected error on string ' ' <class 'lxml.etree.ParserError'>\n",
        "Unexpected error on string ' ' <class 'lxml.etree.ParserError'>\n",
        "Unexpected error on string ' ' <class 'lxml.etree.ParserError'>\n",
        "Unexpected error on string ' ' <class 'lxml.etree.ParserError'>\n",
        "Unexpected error on string ' ' <class 'lxml.etree.ParserError'>\n",
        "Unexpected error on string ' ' <class 'lxml.etree.ParserError'>\n",
        "Unexpected error on string ' ' <class 'lxml.etree.ParserError'>\n",
        "Unexpected error on string ' ' <class 'lxml.etree.ParserError'>\n",
        "Unexpected error on string ' ' <class 'lxml.etree.ParserError'>\n",
        "Unexpected error on string '<' <class 'lxml.etree.ParserError'>\n",
        "Unexpected error on string ' ' <class 'lxml.etree.ParserError'>\n",
        "Unexpected error on string ' ' <class 'lxml.etree.ParserError'>\n",
        "Unexpected error on string ' ' <class 'lxml.etree.ParserError'>\n",
        "Unexpected error on string ' ' <class 'lxml.etree.ParserError'>\n",
        "Unexpected error on string ' ' <class 'lxml.etree.ParserError'>\n",
        "Unexpected error on string ' ' <class 'lxml.etree.ParserError'>\n",
        "Unexpected error on string ' ' <class 'lxml.etree.ParserError'>\n",
        "Unexpected error on string ' ' <class 'lxml.etree.ParserError'>\n",
        "Unexpected error on string '<' <class 'lxml.etree.ParserError'>\n",
        "Unexpected error on string ' ' <class 'lxml.etree.ParserError'>\n",
        "Unexpected error on string ' ' <class 'lxml.etree.ParserError'>\n",
        "Unexpected error on string ' ' <class 'lxml.etree.ParserError'>\n",
        "Unexpected error on string ' ' <class 'lxml.etree.ParserError'>\n",
        "Unexpected error on string ' ' <class 'lxml.etree.ParserError'>\n",
        "Unexpected error on string ' ' <class 'lxml.etree.ParserError'>\n",
        "Unexpected error on string ' ' <class 'lxml.etree.ParserError'>\n",
        "Unexpected error on string ' ' <class 'lxml.etree.ParserError'>\n",
        "Unexpected error on string ' ' <class 'lxml.etree.ParserError'>\n",
        "Unexpected error on string ' ' <class 'lxml.etree.ParserError'>\n",
        "Unexpected error on string ' ' <class 'lxml.etree.ParserError'>\n",
        "Unexpected error on string ' ' <class 'lxml.etree.ParserError'>\n",
        "Unexpected error on string '<' <class 'lxml.etree.ParserError'>\n",
        "Unexpected error on string ' ' <class 'lxml.etree.ParserError'>\n",
        "Unexpected error on string ' ' <class 'lxml.etree.ParserError'>\n",
        "Unexpected error on string ' ' <class 'lxml.etree.ParserError'>\n",
        "Unexpected error on string ' ' <class 'lxml.etree.ParserError'>\n",
        "Unexpected error on string ' ' <class 'lxml.etree.ParserError'>\n",
        "Unexpected error on string ' ' <class 'lxml.etree.ParserError'>\n",
        "Unexpected error on string ' ' <class 'lxml.etree.ParserError'>\n",
        "Unexpected error on string ' ' <class 'lxml.etree.ParserError'>\n",
        "Unexpected error on string '<' <class 'lxml.etree.ParserError'>\n",
        "{'heur': 979, 'boiler_pipe': 192, 'downloads_id': 414983458, 'crf': 162, 'python_readibilty': 224}\n",
        "downloads_id: 415185946\n",
        "[569, 579, 580, 581, 582, 583, 584, 585, 734, 982, 1357, 1387, 1417, 1447, 1481, 1511, 1541, 1571, 1605, 1635, 1665, 1695, 1729, 1759, 1789, 1819]"
       ]
      },
      {
       "output_type": "stream",
       "stream": "stdout",
       "text": [
        "\n",
        "[569, 579, 580, 581, 582, 583, 584, 585, 671, 919]\n",
        "[569, 579, 580, 581, 582, 583, 584, 585]"
       ]
      },
      {
       "output_type": "stream",
       "stream": "stdout",
       "text": [
        "\n",
        "original article tmp file "
       ]
      },
      {
       "output_type": "stream",
       "stream": "stdout",
       "text": [
        " /tmp/tmpZ_f6N8.html\n",
        "/tmp/tmpjQFLjk.html\n",
        "/tmp/tmpZ_f6N8.html\n",
        "/tmp/tmpZ_f6N8.html\n",
        "Now open file:///tmp/tmpjQFLjk.html in your web browser\n"
       ]
      },
      {
       "output_type": "stream",
       "stream": "stdout",
       "text": [
        "\n",
        "{'heur': 2133, 'boiler_pipe': 78, 'downloads_id': 415185946, 'crf': 140, 'python_readibilty': 302}\n",
        "downloads_id: 415186582\n",
        "[125, 166]"
       ]
      },
      {
       "output_type": "stream",
       "stream": "stdout",
       "text": [
        "\n",
        "[48, 125]\n",
        "[125, 126, 164, 166]"
       ]
      },
      {
       "output_type": "stream",
       "stream": "stdout",
       "text": [
        "\n",
        "original article tmp file "
       ]
      },
      {
       "output_type": "stream",
       "stream": "stdout",
       "text": [
        " /tmp/tmpidEOFW.html\n",
        "/tmp/tmpYNdZHb.html\n",
        "/tmp/tmpidEOFW.html\n",
        "/tmp/tmpidEOFW.html\n",
        "Now open file:///tmp/tmpYNdZHb.html in your web browser\n"
       ]
      },
      {
       "output_type": "stream",
       "stream": "stdout",
       "text": [
        "\n",
        "{'heur': 86, 'boiler_pipe': 183, 'downloads_id': 415186582, 'crf': 305, 'python_readibilty': 287}\n",
        "downloads_id: 415197547\n",
        "[449, 452, 782]"
       ]
      },
      {
       "output_type": "stream",
       "stream": "stdout",
       "text": [
        "\n",
        "[420, 449, 452]\n",
        "[428, 449, 452]"
       ]
      },
      {
       "output_type": "stream",
       "stream": "stdout",
       "text": [
        "\n",
        "original article tmp file "
       ]
      },
      {
       "output_type": "stream",
       "stream": "stdout",
       "text": [
        " /tmp/tmphdEnNL.html\n",
        "/tmp/tmpvCOwNh.html\n",
        "/tmp/tmphdEnNL.html\n",
        "/tmp/tmphdEnNL.html\n",
        "Now open file:///tmp/tmpvCOwNh.html in your web browser\n"
       ]
      },
      {
       "output_type": "stream",
       "stream": "stdout",
       "text": [
        "\n",
        "{'heur': 83, 'boiler_pipe': 169, 'downloads_id': 415197547, 'crf': 63, 'python_readibilty': 22}\n",
        "downloads_id: 415424551\n",
        "[231, 238, 239, 240, 241, 242, 244, 245]"
       ]
      },
      {
       "output_type": "stream",
       "stream": "stdout",
       "text": [
        "\n",
        "[231, 234, 238, 239, 240, 241, 242, 244, 245]\n",
        "[230, 231, 234, 236, 238, 239, 240, 241, 242, 244, 245]"
       ]
      },
      {
       "output_type": "stream",
       "stream": "stdout",
       "text": [
        "\n",
        "original article tmp file "
       ]
      },
      {
       "output_type": "stream",
       "stream": "stdout",
       "text": [
        " /tmp/tmpRHcJwL.html\n",
        "/tmp/tmpX3GNDa.html\n",
        "/tmp/tmpRHcJwL.html\n",
        "/tmp/tmpRHcJwL.html\n",
        "Now open file:///tmp/tmpX3GNDa.html in your web browser\n"
       ]
      },
      {
       "output_type": "stream",
       "stream": "stdout",
       "text": [
        "\n",
        "{'heur': 187, 'boiler_pipe': 32, 'downloads_id': 415424551, 'crf': 39, 'python_readibilty': 260}"
       ]
      },
      {
       "output_type": "stream",
       "stream": "stdout",
       "text": [
        "\n",
        "downloads_id: 415978069\n",
        "[525]"
       ]
      },
      {
       "output_type": "stream",
       "stream": "stdout",
       "text": [
        "\n",
        "[503, 514, 516, 517, 525, 527, 530]\n",
        "[503, 514, 516, 517, 525]"
       ]
      },
      {
       "output_type": "stream",
       "stream": "stdout",
       "text": [
        "\n",
        "original article tmp file "
       ]
      },
      {
       "output_type": "stream",
       "stream": "stdout",
       "text": [
        " /tmp/tmp5AdIjh.html\n",
        "/tmp/tmplDtdTo.html\n",
        "/tmp/tmp5AdIjh.html\n",
        "/tmp/tmp5AdIjh.html\n",
        "Now open file:///tmp/tmplDtdTo.html in your web browser\n"
       ]
      },
      {
       "output_type": "stream",
       "stream": "stdout",
       "text": [
        "\n",
        "Unexpected error on string '<' <class 'lxml.etree.ParserError'>\n",
        "Unexpected error on string ' ' <class 'lxml.etree.ParserError'>\n",
        "Unexpected error on string ' ' <class 'lxml.etree.ParserError'>\n",
        "Unexpected error on string ' ' <class 'lxml.etree.ParserError'>\n",
        "Unexpected error on string ' ' <class 'lxml.etree.ParserError'>\n",
        "Unexpected error on string ' ' <class 'lxml.etree.ParserError'>\n",
        "Unexpected error on string ' ' <class 'lxml.etree.ParserError'>\n",
        "Unexpected error on string ' ' <class 'lxml.etree.ParserError'>\n",
        "Unexpected error on string ' ' <class 'lxml.etree.ParserError'>\n",
        "Unexpected error on string ' ' <class 'lxml.etree.ParserError'>\n",
        "Unexpected error on string ' ' <class 'lxml.etree.ParserError'>\n",
        "Unexpected error on string ' ' <class 'lxml.etree.ParserError'>\n",
        "Unexpected error on string ' ' <class 'lxml.etree.ParserError'>\n",
        "Unexpected error on string ' ' <class 'lxml.etree.ParserError'>\n",
        "Unexpected error on string '<' <class 'lxml.etree.ParserError'>\n",
        "Unexpected error on string ' ' <class 'lxml.etree.ParserError'>\n",
        "Unexpected error on string ' ' <class 'lxml.etree.ParserError'>\n",
        "Unexpected error on string ' ' <class 'lxml.etree.ParserError'>\n",
        "Unexpected error on string ' ' <class 'lxml.etree.ParserError'>\n",
        "Unexpected error on string ' ' <class 'lxml.etree.ParserError'>\n",
        "Unexpected error on string ' ' <class 'lxml.etree.ParserError'>\n",
        "Unexpected error on string ' ' <class 'lxml.etree.ParserError'>\n",
        "Unexpected error on string ' ' <class 'lxml.etree.ParserError'>\n",
        "Unexpected error on string ' ' <class 'lxml.etree.ParserError'>\n",
        "Unexpected error on string ' ' <class 'lxml.etree.ParserError'>\n",
        "Unexpected error on string ' ' <class 'lxml.etree.ParserError'>\n",
        "Unexpected error on string ' ' <class 'lxml.etree.ParserError'>\n",
        "Unexpected error on string ' ' <class 'lxml.etree.ParserError'>\n",
        "Unexpected error on string ' ' <class 'lxml.etree.ParserError'>\n",
        "Unexpected error on string ' ' <class 'lxml.etree.ParserError'>\n",
        "Unexpected error on string ' ' <class 'lxml.etree.ParserError'>\n",
        "Unexpected error on string ' ' <class 'lxml.etree.ParserError'>\n",
        "Unexpected error on string ' ' <class 'lxml.etree.ParserError'>\n",
        "Unexpected error on string ' ' <class 'lxml.etree.ParserError'>\n",
        "Unexpected error on string ' ' <class 'lxml.etree.ParserError'>\n",
        "Unexpected error on string ' ' <class 'lxml.etree.ParserError'>\n",
        "Unexpected error on string ' ' <class 'lxml.etree.ParserError'>\n",
        "Unexpected error on string ' ' <class 'lxml.etree.ParserError'>\n",
        "Unexpected error on string ' ' <class 'lxml.etree.ParserError'>\n",
        "Unexpected error on string ' ' <class 'lxml.etree.ParserError'>\n",
        "Unexpected error on string ' ' <class 'lxml.etree.ParserError'>\n",
        "Unexpected error on string ' ' <class 'lxml.etree.ParserError'>\n",
        "Unexpected error on string ' ' <class 'lxml.etree.ParserError'>\n",
        "Unexpected error on string ' ' <class 'lxml.etree.ParserError'>\n",
        "Unexpected error on string ' ' <class 'lxml.etree.ParserError'>\n",
        "Unexpected error on string ' ' <class 'lxml.etree.ParserError'>\n",
        "Unexpected error on string ' ' <class 'lxml.etree.ParserError'>\n",
        "Unexpected error on string ' ' <class 'lxml.etree.ParserError'>\n",
        "Unexpected error on string ' ' <class 'lxml.etree.ParserError'>\n",
        "Unexpected error on string ' ' <class 'lxml.etree.ParserError'>\n",
        "Unexpected error on string '<' <class 'lxml.etree.ParserError'>\n",
        "Unexpected error on string ' ' <class 'lxml.etree.ParserError'>\n",
        "Unexpected error on string '<' <class 'lxml.etree.ParserError'>\n",
        "Unexpected error on string ' ' <class 'lxml.etree.ParserError'>\n",
        "Unexpected error on string ' ' <class 'lxml.etree.ParserError'>\n",
        "Unexpected error on string ' ' <class 'lxml.etree.ParserError'>\n",
        "Unexpected error on string ' ' <class 'lxml.etree.ParserError'>\n",
        "Unexpected error on string ' ' <class 'lxml.etree.ParserError'>\n",
        "Unexpected error on string ' ' <class 'lxml.etree.ParserError'>\n",
        "Unexpected error on string ' ' <class 'lxml.etree.ParserError'>\n",
        "Unexpected error on string ' ' <class 'lxml.etree.ParserError'>\n",
        "Unexpected error on string ' ' <class 'lxml.etree.ParserError'>\n",
        "Unexpected error on string ' ' <class 'lxml.etree.ParserError'>\n",
        "Unexpected error on string ' ' <class 'lxml.etree.ParserError'>\n",
        "Unexpected error on string ' ' <class 'lxml.etree.ParserError'>\n",
        "Unexpected error on string ' ' <class 'lxml.etree.ParserError'>\n",
        "Unexpected error on string ' ' <class 'lxml.etree.ParserError'>\n",
        "Unexpected error on string ' ' <class 'lxml.etree.ParserError'>\n",
        "Unexpected error on string ' ' <class 'lxml.etree.ParserError'>\n",
        "Unexpected error on string ' ' <class 'lxml.etree.ParserError'>\n",
        "Unexpected error on string ' ' <class 'lxml.etree.ParserError'>\n",
        "Unexpected error on string ' ' <class 'lxml.etree.ParserError'>\n",
        "Unexpected error on string ' ' <class 'lxml.etree.ParserError'>\n",
        "Unexpected error on string ' ' <class 'lxml.etree.ParserError'>\n",
        "Unexpected error on string ' ' <class 'lxml.etree.ParserError'>\n",
        "Unexpected error on string ' ' <class 'lxml.etree.ParserError'>\n",
        "Unexpected error on string ' ' <class 'lxml.etree.ParserError'>\n",
        "Unexpected error on string ' ' <class 'lxml.etree.ParserError'>\n",
        "Unexpected error on string ' ' <class 'lxml.etree.ParserError'>\n",
        "Unexpected error on string ' ' <class 'lxml.etree.ParserError'>\n",
        "Unexpected error on string ' ' <class 'lxml.etree.ParserError'>\n",
        "Unexpected error on string ' ' <class 'lxml.etree.ParserError'>\n",
        "Unexpected error on string ' ' <class 'lxml.etree.ParserError'>\n",
        "Unexpected error on string ' ' <class 'lxml.etree.ParserError'>\n",
        "Unexpected error on string ' ' <class 'lxml.etree.ParserError'>\n",
        "Unexpected error on string ' ' <class 'lxml.etree.ParserError'>\n",
        "Unexpected error on string ' ' <class 'lxml.etree.ParserError'>\n",
        "Unexpected error on string ' ' <class 'lxml.etree.ParserError'>\n",
        "Unexpected error on string ' ' <class 'lxml.etree.ParserError'>\n",
        "Unexpected error on string ' ' <class 'lxml.etree.ParserError'>\n",
        "Unexpected error on string ' ' <class 'lxml.etree.ParserError'>\n",
        "Unexpected error on string ' ' <class 'lxml.etree.ParserError'>\n",
        "Unexpected error on string ' ' <class 'lxml.etree.ParserError'>\n",
        "Unexpected error on string ' ' <class 'lxml.etree.ParserError'>\n",
        "Unexpected error on string ' ' <class 'lxml.etree.ParserError'>\n",
        "Unexpected error on string ' ' <class 'lxml.etree.ParserError'>\n",
        "Unexpected error on string ' '"
       ]
      },
      {
       "output_type": "stream",
       "stream": "stdout",
       "text": [
        " <class 'lxml.etree.ParserError'>\n",
        "Unexpected error on string ' ' <class 'lxml.etree.ParserError'>\n",
        "Unexpected error on string ' ' <class 'lxml.etree.ParserError'>\n",
        "Unexpected error on string ' ' <class 'lxml.etree.ParserError'>\n",
        "Unexpected error on string ' ' <class 'lxml.etree.ParserError'>\n",
        "Unexpected error on string ' ' <class 'lxml.etree.ParserError'>\n",
        "Unexpected error on string ' ' <class 'lxml.etree.ParserError'>\n",
        "Unexpected error on string ' ' <class 'lxml.etree.ParserError'>\n",
        "Unexpected error on string ' ' <class 'lxml.etree.ParserError'>\n",
        "Unexpected error on string ' ' <class 'lxml.etree.ParserError'>\n",
        "Unexpected error on string ' ' <class 'lxml.etree.ParserError'>\n",
        "Unexpected error on string ' ' <class 'lxml.etree.ParserError'>\n",
        "Unexpected error on string ' ' <class 'lxml.etree.ParserError'>\n",
        "Unexpected error on string ' ' <class 'lxml.etree.ParserError'>\n",
        "Unexpected error on string ' ' <class 'lxml.etree.ParserError'>\n",
        "Unexpected error on string ' ' <class 'lxml.etree.ParserError'>\n",
        "Unexpected error on string ' ' <class 'lxml.etree.ParserError'>\n",
        "Unexpected error on string ' ' <class 'lxml.etree.ParserError'>\n",
        "Unexpected error on string ' ' <class 'lxml.etree.ParserError'>\n",
        "Unexpected error on string ' ' <class 'lxml.etree.ParserError'>\n",
        "Unexpected error on string ' ' <class 'lxml.etree.ParserError'>\n",
        "Unexpected error on string ' ' <class 'lxml.etree.ParserError'>\n",
        "Unexpected error on string '<' <class 'lxml.etree.ParserError'>\n",
        "Unexpected error on string ' ' <class 'lxml.etree.ParserError'>\n",
        "Unexpected error on string '<' <class 'lxml.etree.ParserError'>\n",
        "Unexpected error on string ' ' <class 'lxml.etree.ParserError'>\n",
        "Unexpected error on string ' ' <class 'lxml.etree.ParserError'>\n",
        "Unexpected error on string ' ' <class 'lxml.etree.ParserError'>\n",
        "Unexpected error on string ' ' <class 'lxml.etree.ParserError'>\n",
        "Unexpected error on string ' ' <class 'lxml.etree.ParserError'>\n",
        "Unexpected error on string ' ' <class 'lxml.etree.ParserError'>\n",
        "Unexpected error on string ' ' <class 'lxml.etree.ParserError'>\n",
        "Unexpected error on string ' ' <class 'lxml.etree.ParserError'>\n",
        "Unexpected error on string ' ' <class 'lxml.etree.ParserError'>\n",
        "Unexpected error on string ' ' <class 'lxml.etree.ParserError'>\n",
        "Unexpected error on string ' ' <class 'lxml.etree.ParserError'>\n",
        "Unexpected error on string ' ' <class 'lxml.etree.ParserError'>\n",
        "Unexpected error on string ' ' <class 'lxml.etree.ParserError'>\n",
        "Unexpected error on string ' ' <class 'lxml.etree.ParserError'>\n",
        "Unexpected error on string ' ' <class 'lxml.etree.ParserError'>\n",
        "Unexpected error on string ' ' <class 'lxml.etree.ParserError'>\n",
        "Unexpected error on string ' ' <class 'lxml.etree.ParserError'>\n",
        "Unexpected error on string ' ' <class 'lxml.etree.ParserError'>\n",
        "Unexpected error on string ' ' <class 'lxml.etree.ParserError'>\n",
        "Unexpected error on string ' ' <class 'lxml.etree.ParserError'>\n",
        "Unexpected error on string ' ' <class 'lxml.etree.ParserError'>\n",
        "Unexpected error on string ' ' <class 'lxml.etree.ParserError'>\n",
        "Unexpected error on string ' ' <class 'lxml.etree.ParserError'>\n",
        "Unexpected error on string ' ' <class 'lxml.etree.ParserError'>\n",
        "Unexpected error on string ' ' <class 'lxml.etree.ParserError'>\n",
        "Unexpected error on string ' ' <class 'lxml.etree.ParserError'>\n",
        "Unexpected error on string ' ' <class 'lxml.etree.ParserError'>\n",
        "Unexpected error on string ' ' <class 'lxml.etree.ParserError'>\n",
        "Unexpected error on string ' ' <class 'lxml.etree.ParserError'>\n",
        "Unexpected error on string ' ' <class 'lxml.etree.ParserError'>\n",
        "Unexpected error on string ' ' <class 'lxml.etree.ParserError'>\n",
        "Unexpected error on string ' ' <class 'lxml.etree.ParserError'>\n",
        "Unexpected error on string ' ' <class 'lxml.etree.ParserError'>\n",
        "Unexpected error on string ' ' <class 'lxml.etree.ParserError'>\n",
        "Unexpected error on string ' ' <class 'lxml.etree.ParserError'>\n",
        "Unexpected error on string ' ' <class 'lxml.etree.ParserError'>\n",
        "Unexpected error on string ' ' <class 'lxml.etree.ParserError'>\n",
        "Unexpected error on string ' ' <class 'lxml.etree.ParserError'>\n",
        "Unexpected error on string ' ' <class 'lxml.etree.ParserError'>\n",
        "Unexpected error on string ' ' <class 'lxml.etree.ParserError'>\n",
        "Unexpected error on string ' ' <class 'lxml.etree.ParserError'>\n",
        "Unexpected error on string ' ' <class 'lxml.etree.ParserError'>\n",
        "Unexpected error on string ' ' <class 'lxml.etree.ParserError'>\n",
        "Unexpected error on string ' ' <class 'lxml.etree.ParserError'>\n",
        "Unexpected error on string ' ' <class 'lxml.etree.ParserError'>\n",
        "Unexpected error on string ' ' <class 'lxml.etree.ParserError'>\n",
        "Unexpected error on string ' ' <class 'lxml.etree.ParserError'>\n",
        "Unexpected error on string ' ' <class 'lxml.etree.ParserError'>\n",
        "Unexpected error on string ' ' <class 'lxml.etree.ParserError'>\n",
        "Unexpected error on string ' ' <class 'lxml.etree.ParserError'>\n",
        "Unexpected error on string ' ' <class 'lxml.etree.ParserError'>\n",
        "Unexpected error on string ' ' <class 'lxml.etree.ParserError'>\n",
        "Unexpected error on string ' ' <class 'lxml.etree.ParserError'>\n",
        "Unexpected error on string ' ' <class 'lxml.etree.ParserError'>\n",
        "Unexpected error on string ' ' <class 'lxml.etree.ParserError'>\n",
        "Unexpected error on string ' ' <class 'lxml.etree.ParserError'>\n",
        "Unexpected error on string ' ' <class 'lxml.etree.ParserError'>\n",
        "Unexpected error on string ' ' <class 'lxml.etree.ParserError'>\n",
        "Unexpected error on string ' ' <class 'lxml.etree.ParserError'>\n",
        "Unexpected error on string ' ' <class 'lxml.etree.ParserError'>\n",
        "Unexpected error on string ' ' <class 'lxml.etree.ParserError'>\n",
        "Unexpected error on string ' ' <class 'lxml.etree.ParserError'>\n",
        "Unexpected error on string ' ' <class 'lxml.etree.ParserError'>\n",
        "Unexpected error on string ' ' <class 'lxml.etree.ParserError'>\n",
        "Unexpected error on string ' ' <class 'lxml.etree.ParserError'>\n",
        "Unexpected error on string ' ' <class 'lxml.etree.ParserError'>\n",
        "Unexpected error on string ' ' <class 'lxml.etree.ParserError'>\n",
        "Unexpected error on string ' ' <class 'lxml.etree.ParserError'>\n",
        "Unexpected error on string ' ' <class 'lxml.etree.ParserError'>\n",
        "Unexpected error on string ' ' <class 'lxml.etree.ParserError'>\n",
        "Unexpected error on string '<' <class 'lxml.etree.ParserError'>\n",
        "Unexpected error on string ' ' <class 'lxml.etree.ParserError'>\n",
        "Unexpected error on string '<' <class 'lxml.etree.ParserError'>\n",
        "Unexpected error on string ' ' <class 'lxml.etree.ParserError'>\n",
        "Unexpected error on string ' ' <class 'lxml.etree.ParserError'>\n",
        "Unexpected error on string ' ' <class 'lxml.etree.ParserError'>\n",
        "Unexpected error on string ' ' <class 'lxml.etree.ParserError'>\n",
        "Unexpected error on string ' ' <class 'lxml.etree.ParserError'>\n",
        "Unexpected error on string ' ' <class 'lxml.etree.ParserError'>\n",
        "Unexpected error on string ' ' <class 'lxml.etree.ParserError'>\n",
        "Unexpected error on string ' ' <class 'lxml.etree.ParserError'>\n",
        "Unexpected error on string ' ' <class 'lxml.etree.ParserError'>\n",
        "Unexpected error on string ' ' <class 'lxml.etree.ParserError'>\n",
        "Unexpected error on string ' '"
       ]
      },
      {
       "output_type": "stream",
       "stream": "stdout",
       "text": [
        " <class 'lxml.etree.ParserError'>\n",
        "Unexpected error on string ' ' <class 'lxml.etree.ParserError'>\n",
        "Unexpected error on string ' ' <class 'lxml.etree.ParserError'>\n",
        "Unexpected error on string ' ' <class 'lxml.etree.ParserError'>\n",
        "Unexpected error on string ' ' <class 'lxml.etree.ParserError'>\n",
        "Unexpected error on string ' ' <class 'lxml.etree.ParserError'>\n",
        "Unexpected error on string ' ' <class 'lxml.etree.ParserError'>\n",
        "Unexpected error on string ' ' <class 'lxml.etree.ParserError'>\n",
        "Unexpected error on string ' ' <class 'lxml.etree.ParserError'>\n",
        "Unexpected error on string ' ' <class 'lxml.etree.ParserError'>\n",
        "Unexpected error on string ' ' <class 'lxml.etree.ParserError'>\n",
        "Unexpected error on string ' ' <class 'lxml.etree.ParserError'>\n",
        "Unexpected error on string ' ' <class 'lxml.etree.ParserError'>\n",
        "Unexpected error on string ' ' <class 'lxml.etree.ParserError'>\n",
        "Unexpected error on string ' ' <class 'lxml.etree.ParserError'>\n",
        "Unexpected error on string ' ' <class 'lxml.etree.ParserError'>\n",
        "Unexpected error on string ' ' <class 'lxml.etree.ParserError'>\n",
        "Unexpected error on string ' ' <class 'lxml.etree.ParserError'>\n",
        "Unexpected error on string ' ' <class 'lxml.etree.ParserError'>\n",
        "Unexpected error on string ' ' <class 'lxml.etree.ParserError'>\n",
        "Unexpected error on string ' ' <class 'lxml.etree.ParserError'>\n",
        "Unexpected error on string ' ' <class 'lxml.etree.ParserError'>\n",
        "Unexpected error on string ' ' <class 'lxml.etree.ParserError'>\n",
        "Unexpected error on string ' ' <class 'lxml.etree.ParserError'>\n",
        "Unexpected error on string ' ' <class 'lxml.etree.ParserError'>\n",
        "Unexpected error on string ' ' <class 'lxml.etree.ParserError'>\n",
        "Unexpected error on string ' ' <class 'lxml.etree.ParserError'>\n",
        "Unexpected error on string ' ' <class 'lxml.etree.ParserError'>\n",
        "Unexpected error on string ' ' <class 'lxml.etree.ParserError'>\n",
        "Unexpected error on string ' ' <class 'lxml.etree.ParserError'>\n",
        "Unexpected error on string ' ' <class 'lxml.etree.ParserError'>\n",
        "Unexpected error on string ' ' <class 'lxml.etree.ParserError'>\n",
        "Unexpected error on string ' ' <class 'lxml.etree.ParserError'>\n",
        "Unexpected error on string ' ' <class 'lxml.etree.ParserError'>\n",
        "Unexpected error on string ' ' <class 'lxml.etree.ParserError'>\n",
        "Unexpected error on string ' ' <class 'lxml.etree.ParserError'>\n",
        "Unexpected error on string ' ' <class 'lxml.etree.ParserError'>\n",
        "Unexpected error on string ' ' <class 'lxml.etree.ParserError'>\n",
        "Unexpected error on string '<' <class 'lxml.etree.ParserError'>\n",
        "Unexpected error on string ' ' <class 'lxml.etree.ParserError'>\n",
        "Unexpected error on string '<' <class 'lxml.etree.ParserError'>\n",
        "Unexpected error on string ' ' <class 'lxml.etree.ParserError'>\n",
        "Unexpected error on string ' ' <class 'lxml.etree.ParserError'>\n",
        "Unexpected error on string ' ' <class 'lxml.etree.ParserError'>\n",
        "Unexpected error on string ' ' <class 'lxml.etree.ParserError'>\n",
        "Unexpected error on string ' ' <class 'lxml.etree.ParserError'>\n",
        "Unexpected error on string ' ' <class 'lxml.etree.ParserError'>\n",
        "Unexpected error on string ' ' <class 'lxml.etree.ParserError'>\n",
        "Unexpected error on string ' ' <class 'lxml.etree.ParserError'>\n",
        "Unexpected error on string ' ' <class 'lxml.etree.ParserError'>\n",
        "Unexpected error on string ' ' <class 'lxml.etree.ParserError'>\n",
        "Unexpected error on string ' ' <class 'lxml.etree.ParserError'>\n",
        "Unexpected error on string ' ' <class 'lxml.etree.ParserError'>\n",
        "Unexpected error on string ' ' <class 'lxml.etree.ParserError'>\n",
        "Unexpected error on string ' ' <class 'lxml.etree.ParserError'>\n",
        "Unexpected error on string ' ' <class 'lxml.etree.ParserError'>\n",
        "Unexpected error on string ' ' <class 'lxml.etree.ParserError'>\n",
        "Unexpected error on string ' ' <class 'lxml.etree.ParserError'>\n",
        "Unexpected error on string ' ' <class 'lxml.etree.ParserError'>\n",
        "Unexpected error on string ' ' <class 'lxml.etree.ParserError'>\n",
        "Unexpected error on string ' ' <class 'lxml.etree.ParserError'>\n",
        "Unexpected error on string ' ' <class 'lxml.etree.ParserError'>\n",
        "Unexpected error on string ' ' <class 'lxml.etree.ParserError'>\n",
        "Unexpected error on string ' ' <class 'lxml.etree.ParserError'>\n",
        "Unexpected error on string ' ' <class 'lxml.etree.ParserError'>\n",
        "Unexpected error on string ' ' <class 'lxml.etree.ParserError'>\n",
        "Unexpected error on string ' ' <class 'lxml.etree.ParserError'>\n",
        "Unexpected error on string ' ' <class 'lxml.etree.ParserError'>\n",
        "Unexpected error on string ' ' <class 'lxml.etree.ParserError'>\n",
        "Unexpected error on string ' ' <class 'lxml.etree.ParserError'>\n",
        "Unexpected error on string ' ' <class 'lxml.etree.ParserError'>\n",
        "Unexpected error on string ' ' <class 'lxml.etree.ParserError'>\n",
        "Unexpected error on string ' ' <class 'lxml.etree.ParserError'>\n",
        "Unexpected error on string ' ' <class 'lxml.etree.ParserError'>\n",
        "Unexpected error on string ' ' <class 'lxml.etree.ParserError'>\n",
        "Unexpected error on string ' ' <class 'lxml.etree.ParserError'>\n",
        "Unexpected error on string ' ' <class 'lxml.etree.ParserError'>\n",
        "Unexpected error on string ' ' <class 'lxml.etree.ParserError'>\n",
        "Unexpected error on string ' ' <class 'lxml.etree.ParserError'>\n",
        "Unexpected error on string ' ' <class 'lxml.etree.ParserError'>\n",
        "Unexpected error on string ' ' <class 'lxml.etree.ParserError'>\n",
        "Unexpected error on string ' ' <class 'lxml.etree.ParserError'>\n",
        "Unexpected error on string ' ' <class 'lxml.etree.ParserError'>\n",
        "Unexpected error on string ' ' <class 'lxml.etree.ParserError'>\n",
        "Unexpected error on string ' ' <class 'lxml.etree.ParserError'>\n",
        "Unexpected error on string ' ' <class 'lxml.etree.ParserError'>\n",
        "Unexpected error on string ' ' <class 'lxml.etree.ParserError'>\n",
        "Unexpected error on string ' ' <class 'lxml.etree.ParserError'>\n",
        "Unexpected error on string ' ' <class 'lxml.etree.ParserError'>\n",
        "Unexpected error on string ' ' <class 'lxml.etree.ParserError'>\n",
        "Unexpected error on string ' ' <class 'lxml.etree.ParserError'>\n",
        "Unexpected error on string ' ' <class 'lxml.etree.ParserError'>\n",
        "Unexpected error on string ' ' <class 'lxml.etree.ParserError'>\n",
        "Unexpected error on string ' ' <class 'lxml.etree.ParserError'>\n",
        "Unexpected error on string ' ' <class 'lxml.etree.ParserError'>\n",
        "Unexpected error on string ' ' <class 'lxml.etree.ParserError'>\n",
        "Unexpected error on string ' ' <class 'lxml.etree.ParserError'>\n",
        "Unexpected error on string ' ' <class 'lxml.etree.ParserError'>\n",
        "Unexpected error on string '<' <class 'lxml.etree.ParserError'>\n",
        "Unexpected error on string ' ' <class 'lxml.etree.ParserError'>\n",
        "Unexpected error on string '<' <class 'lxml.etree.ParserError'>\n",
        "Unexpected error on string ' ' <class 'lxml.etree.ParserError'>\n",
        "Unexpected error on string ' ' <class 'lxml.etree.ParserError'>\n",
        "Unexpected error on string ' ' <class 'lxml.etree.ParserError'>\n",
        "Unexpected error on string ' ' <class 'lxml.etree.ParserError'>\n",
        "Unexpected error on string ' ' <class 'lxml.etree.ParserError'>\n",
        "Unexpected error on string ' ' <class 'lxml.etree.ParserError'>\n",
        "Unexpected error on string ' ' <class 'lxml.etree.ParserError'>\n",
        "Unexpected error on string ' ' <class 'lxml.etree.ParserError'>\n",
        "Unexpected error on string ' ' <class 'lxml.etree.ParserError'>\n",
        "Unexpected error on string ' ' <class 'lxml.etree.ParserError'>\n",
        "Unexpected error on string ' ' <class 'lxml.etree.ParserError'>\n",
        "Unexpected error on string ' ' <class 'lxml.etree.ParserError'>\n",
        "Unexpected error on string ' ' <class 'lxml.etree.ParserError'>\n",
        "Unexpected error on string ' ' <class 'lxml.etree.ParserError'>\n",
        "Unexpected error on string ' ' "
       ]
      },
      {
       "output_type": "stream",
       "stream": "stdout",
       "text": [
        "<class 'lxml.etree.ParserError'>\n",
        "Unexpected error on string ' ' <class 'lxml.etree.ParserError'>\n",
        "Unexpected error on string ' ' <class 'lxml.etree.ParserError'>\n",
        "Unexpected error on string ' ' <class 'lxml.etree.ParserError'>\n",
        "Unexpected error on string ' ' <class 'lxml.etree.ParserError'>\n",
        "Unexpected error on string ' ' <class 'lxml.etree.ParserError'>\n",
        "Unexpected error on string ' ' <class 'lxml.etree.ParserError'>\n",
        "Unexpected error on string ' ' <class 'lxml.etree.ParserError'>\n",
        "Unexpected error on string ' ' <class 'lxml.etree.ParserError'>\n",
        "Unexpected error on string ' ' <class 'lxml.etree.ParserError'>\n",
        "Unexpected error on string ' ' <class 'lxml.etree.ParserError'>\n",
        "Unexpected error on string ' ' <class 'lxml.etree.ParserError'>\n",
        "Unexpected error on string ' ' <class 'lxml.etree.ParserError'>\n",
        "Unexpected error on string ' ' <class 'lxml.etree.ParserError'>\n",
        "Unexpected error on string ' ' <class 'lxml.etree.ParserError'>\n",
        "Unexpected error on string ' ' <class 'lxml.etree.ParserError'>\n",
        "Unexpected error on string ' ' <class 'lxml.etree.ParserError'>\n",
        "Unexpected error on string ' ' <class 'lxml.etree.ParserError'>\n",
        "Unexpected error on string ' ' <class 'lxml.etree.ParserError'>\n",
        "Unexpected error on string ' ' <class 'lxml.etree.ParserError'>\n",
        "Unexpected error on string ' ' <class 'lxml.etree.ParserError'>\n",
        "Unexpected error on string ' ' <class 'lxml.etree.ParserError'>\n",
        "Unexpected error on string ' ' <class 'lxml.etree.ParserError'>\n",
        "Unexpected error on string ' ' <class 'lxml.etree.ParserError'>\n",
        "Unexpected error on string ' ' <class 'lxml.etree.ParserError'>\n",
        "Unexpected error on string ' ' <class 'lxml.etree.ParserError'>\n",
        "Unexpected error on string ' ' <class 'lxml.etree.ParserError'>\n",
        "Unexpected error on string ' ' <class 'lxml.etree.ParserError'>\n",
        "Unexpected error on string ' ' <class 'lxml.etree.ParserError'>\n",
        "Unexpected error on string ' ' <class 'lxml.etree.ParserError'>\n",
        "Unexpected error on string ' ' <class 'lxml.etree.ParserError'>\n",
        "Unexpected error on string ' ' <class 'lxml.etree.ParserError'>\n",
        "Unexpected error on string ' ' <class 'lxml.etree.ParserError'>\n",
        "Unexpected error on string ' ' <class 'lxml.etree.ParserError'>\n",
        "Unexpected error on string ' ' <class 'lxml.etree.ParserError'>\n",
        "Unexpected error on string ' ' <class 'lxml.etree.ParserError'>\n",
        "Unexpected error on string ' ' <class 'lxml.etree.ParserError'>\n",
        "Unexpected error on string ' ' <class 'lxml.etree.ParserError'>\n",
        "Unexpected error on string ' ' <class 'lxml.etree.ParserError'>\n",
        "Unexpected error on string ' ' <class 'lxml.etree.ParserError'>\n",
        "Unexpected error on string ' ' <class 'lxml.etree.ParserError'>\n",
        "Unexpected error on string ' ' <class 'lxml.etree.ParserError'>\n",
        "Unexpected error on string ' ' <class 'lxml.etree.ParserError'>\n",
        "Unexpected error on string ' ' <class 'lxml.etree.ParserError'>\n",
        "Unexpected error on string ' ' <class 'lxml.etree.ParserError'>\n",
        "Unexpected error on string ' ' <class 'lxml.etree.ParserError'>\n",
        "Unexpected error on string ' ' <class 'lxml.etree.ParserError'>\n",
        "Unexpected error on string ' ' <class 'lxml.etree.ParserError'>\n",
        "Unexpected error on string ' ' <class 'lxml.etree.ParserError'>\n",
        "Unexpected error on string ' ' <class 'lxml.etree.ParserError'>\n",
        "Unexpected error on string ' ' <class 'lxml.etree.ParserError'>\n",
        "Unexpected error on string ' ' <class 'lxml.etree.ParserError'>\n",
        "Unexpected error on string ' ' <class 'lxml.etree.ParserError'>\n",
        "Unexpected error on string ' ' <class 'lxml.etree.ParserError'>\n",
        "Unexpected error on string ' ' <class 'lxml.etree.ParserError'>\n",
        "Unexpected error on string ' ' <class 'lxml.etree.ParserError'>\n",
        "Unexpected error on string ' ' <class 'lxml.etree.ParserError'>\n",
        "Unexpected error on string ' ' <class 'lxml.etree.ParserError'>\n",
        "Unexpected error on string ' ' <class 'lxml.etree.ParserError'>\n",
        "Unexpected error on string ' ' <class 'lxml.etree.ParserError'>\n",
        "Unexpected error on string ' ' <class 'lxml.etree.ParserError'>\n",
        "Unexpected error on string ' ' <class 'lxml.etree.ParserError'>\n",
        "Unexpected error on string ' ' <class 'lxml.etree.ParserError'>\n",
        "Unexpected error on string '<' <class 'lxml.etree.ParserError'>\n",
        "Unexpected error on string ' ' <class 'lxml.etree.ParserError'>\n",
        "Unexpected error on string '<' <class 'lxml.etree.ParserError'>\n",
        "Unexpected error on string ' ' <class 'lxml.etree.ParserError'>\n",
        "Unexpected error on string ' ' <class 'lxml.etree.ParserError'>\n",
        "Unexpected error on string ' ' <class 'lxml.etree.ParserError'>\n",
        "Unexpected error on string ' ' <class 'lxml.etree.ParserError'>\n",
        "Unexpected error on string ' ' <class 'lxml.etree.ParserError'>\n",
        "Unexpected error on string ' ' <class 'lxml.etree.ParserError'>\n",
        "Unexpected error on string ' ' <class 'lxml.etree.ParserError'>\n",
        "Unexpected error on string ' ' <class 'lxml.etree.ParserError'>\n",
        "Unexpected error on string ' ' <class 'lxml.etree.ParserError'>\n",
        "Unexpected error on string ' ' <class 'lxml.etree.ParserError'>\n",
        "Unexpected error on string ' ' <class 'lxml.etree.ParserError'>\n",
        "Unexpected error on string ' ' <class 'lxml.etree.ParserError'>\n",
        "Unexpected error on string ' ' <class 'lxml.etree.ParserError'>\n",
        "Unexpected error on string ' ' <class 'lxml.etree.ParserError'>\n",
        "Unexpected error on string ' ' <class 'lxml.etree.ParserError'>\n",
        "Unexpected error on string ' ' <class 'lxml.etree.ParserError'>\n",
        "Unexpected error on string ' ' <class 'lxml.etree.ParserError'>\n",
        "Unexpected error on string ' ' <class 'lxml.etree.ParserError'>\n",
        "Unexpected error on string ' ' <class 'lxml.etree.ParserError'>\n",
        "Unexpected error on string ' ' <class 'lxml.etree.ParserError'>\n",
        "Unexpected error on string ' ' <class 'lxml.etree.ParserError'>\n",
        "Unexpected error on string ' ' <class 'lxml.etree.ParserError'>\n",
        "Unexpected error on string ' ' <class 'lxml.etree.ParserError'>\n",
        "Unexpected error on string ' ' <class 'lxml.etree.ParserError'>\n",
        "Unexpected error on string ' ' <class 'lxml.etree.ParserError'>\n",
        "Unexpected error on string ' ' <class 'lxml.etree.ParserError'>\n",
        "Unexpected error on string ' ' <class 'lxml.etree.ParserError'>\n",
        "Unexpected error on string ' ' <class 'lxml.etree.ParserError'>\n",
        "Unexpected error on string ' ' <class 'lxml.etree.ParserError'>\n",
        "Unexpected error on string ' ' <class 'lxml.etree.ParserError'>\n",
        "Unexpected error on string ' ' <class 'lxml.etree.ParserError'>\n",
        "Unexpected error on string ' ' <class 'lxml.etree.ParserError'>\n",
        "Unexpected error on string ' ' <class 'lxml.etree.ParserError'>\n",
        "Unexpected error on string ' ' <class 'lxml.etree.ParserError'>\n",
        "Unexpected error on string ' ' <class 'lxml.etree.ParserError'>\n",
        "Unexpected error on string ' ' <class 'lxml.etree.ParserError'>\n",
        "Unexpected error on string ' ' <class 'lxml.etree.ParserError'>\n",
        "Unexpected error on string ' ' <class 'lxml.etree.ParserError'>\n",
        "Unexpected error on string ' ' <class 'lxml.etree.ParserError'>\n",
        "Unexpected error on string ' ' <class 'lxml.etree.ParserError'>\n",
        "Unexpected error on string ' ' <class 'lxml.etree.ParserError'>\n",
        "Unexpected error on string ' ' <class 'lxml.etree.ParserError'>\n",
        "Unexpected error on string ' ' <class 'lxml.etree.ParserError'>\n",
        "Unexpected error on string ' ' <class 'lxml.etree.ParserError'>\n",
        "Unexpected error on string ' ' <class 'lxml.etree.ParserError'>\n",
        "Unexpected error on string ' ' <class 'lxml.etree.ParserError'>\n",
        "Unexpected error on string ' ' <class 'lxml.etree.ParserError'>\n",
        "Unexpected error on string ' ' <class 'lxml.etree.ParserError'>\n",
        "Unexpected error on string ' '"
       ]
      },
      {
       "output_type": "stream",
       "stream": "stdout",
       "text": [
        " <class 'lxml.etree.ParserError'>\n",
        "Unexpected error on string ' ' <class 'lxml.etree.ParserError'>\n",
        "Unexpected error on string ' ' <class 'lxml.etree.ParserError'>\n",
        "Unexpected error on string ' ' <class 'lxml.etree.ParserError'>\n",
        "Unexpected error on string ' ' <class 'lxml.etree.ParserError'>\n",
        "Unexpected error on string ' ' <class 'lxml.etree.ParserError'>\n",
        "Unexpected error on string ' ' <class 'lxml.etree.ParserError'>\n",
        "Unexpected error on string ' ' <class 'lxml.etree.ParserError'>\n",
        "Unexpected error on string '<' <class 'lxml.etree.ParserError'>\n",
        "Unexpected error on string ' ' <class 'lxml.etree.ParserError'>\n",
        "Unexpected error on string '<' <class 'lxml.etree.ParserError'>\n",
        "Unexpected error on string ' ' <class 'lxml.etree.ParserError'>\n",
        "Unexpected error on string ' ' <class 'lxml.etree.ParserError'>\n",
        "Unexpected error on string ' ' <class 'lxml.etree.ParserError'>\n",
        "Unexpected error on string ' ' <class 'lxml.etree.ParserError'>\n",
        "Unexpected error on string ' ' <class 'lxml.etree.ParserError'>\n",
        "Unexpected error on string ' ' <class 'lxml.etree.ParserError'>\n",
        "Unexpected error on string ' ' <class 'lxml.etree.ParserError'>\n",
        "Unexpected error on string ' ' <class 'lxml.etree.ParserError'>\n",
        "Unexpected error on string ' ' <class 'lxml.etree.ParserError'>\n",
        "Unexpected error on string ' ' <class 'lxml.etree.ParserError'>\n",
        "Unexpected error on string ' ' <class 'lxml.etree.ParserError'>\n",
        "Unexpected error on string ' ' <class 'lxml.etree.ParserError'>\n",
        "Unexpected error on string ' ' <class 'lxml.etree.ParserError'>\n",
        "Unexpected error on string ' ' <class 'lxml.etree.ParserError'>\n",
        "Unexpected error on string ' ' <class 'lxml.etree.ParserError'>\n",
        "Unexpected error on string ' ' <class 'lxml.etree.ParserError'>\n",
        "Unexpected error on string ' ' <class 'lxml.etree.ParserError'>\n",
        "Unexpected error on string ' ' <class 'lxml.etree.ParserError'>\n",
        "Unexpected error on string ' ' <class 'lxml.etree.ParserError'>\n",
        "Unexpected error on string ' ' <class 'lxml.etree.ParserError'>\n",
        "Unexpected error on string ' ' <class 'lxml.etree.ParserError'>\n",
        "Unexpected error on string ' ' <class 'lxml.etree.ParserError'>\n",
        "Unexpected error on string ' ' <class 'lxml.etree.ParserError'>\n",
        "Unexpected error on string ' ' <class 'lxml.etree.ParserError'>\n",
        "Unexpected error on string ' ' <class 'lxml.etree.ParserError'>\n",
        "Unexpected error on string ' ' <class 'lxml.etree.ParserError'>\n",
        "Unexpected error on string ' ' <class 'lxml.etree.ParserError'>\n",
        "Unexpected error on string ' ' <class 'lxml.etree.ParserError'>\n",
        "Unexpected error on string ' ' <class 'lxml.etree.ParserError'>\n",
        "Unexpected error on string ' ' <class 'lxml.etree.ParserError'>\n",
        "Unexpected error on string ' ' <class 'lxml.etree.ParserError'>\n",
        "Unexpected error on string ' ' <class 'lxml.etree.ParserError'>\n",
        "Unexpected error on string ' ' <class 'lxml.etree.ParserError'>\n",
        "Unexpected error on string ' ' <class 'lxml.etree.ParserError'>\n",
        "Unexpected error on string ' ' <class 'lxml.etree.ParserError'>\n",
        "Unexpected error on string ' ' <class 'lxml.etree.ParserError'>\n",
        "Unexpected error on string ' ' <class 'lxml.etree.ParserError'>\n",
        "Unexpected error on string ' ' <class 'lxml.etree.ParserError'>\n",
        "Unexpected error on string ' ' <class 'lxml.etree.ParserError'>\n",
        "Unexpected error on string ' ' <class 'lxml.etree.ParserError'>\n",
        "Unexpected error on string ' ' <class 'lxml.etree.ParserError'>\n",
        "Unexpected error on string ' ' <class 'lxml.etree.ParserError'>\n",
        "Unexpected error on string ' ' <class 'lxml.etree.ParserError'>\n",
        "Unexpected error on string ' ' <class 'lxml.etree.ParserError'>\n",
        "Unexpected error on string ' ' <class 'lxml.etree.ParserError'>\n",
        "Unexpected error on string ' ' <class 'lxml.etree.ParserError'>\n",
        "Unexpected error on string ' ' <class 'lxml.etree.ParserError'>\n",
        "Unexpected error on string ' ' <class 'lxml.etree.ParserError'>\n",
        "Unexpected error on string ' ' <class 'lxml.etree.ParserError'>\n",
        "Unexpected error on string ' ' <class 'lxml.etree.ParserError'>\n",
        "Unexpected error on string ' ' <class 'lxml.etree.ParserError'>\n",
        "Unexpected error on string ' ' <class 'lxml.etree.ParserError'>\n",
        "Unexpected error on string ' ' <class 'lxml.etree.ParserError'>\n",
        "Unexpected error on string ' ' <class 'lxml.etree.ParserError'>\n",
        "Unexpected error on string ' ' <class 'lxml.etree.ParserError'>\n",
        "Unexpected error on string ' ' <class 'lxml.etree.ParserError'>\n",
        "Unexpected error on string ' ' <class 'lxml.etree.ParserError'>\n",
        "Unexpected error on string '<' <class 'lxml.etree.ParserError'>\n",
        "Unexpected error on string ' ' <class 'lxml.etree.ParserError'>\n",
        "Unexpected error on string '<' <class 'lxml.etree.ParserError'>\n",
        "Unexpected error on string ' ' <class 'lxml.etree.ParserError'>\n",
        "Unexpected error on string ' ' <class 'lxml.etree.ParserError'>\n",
        "Unexpected error on string ' ' <class 'lxml.etree.ParserError'>\n",
        "Unexpected error on string ' ' <class 'lxml.etree.ParserError'>\n",
        "Unexpected error on string ' ' <class 'lxml.etree.ParserError'>\n",
        "Unexpected error on string ' ' <class 'lxml.etree.ParserError'>\n",
        "Unexpected error on string ' ' <class 'lxml.etree.ParserError'>\n",
        "Unexpected error on string ' ' <class 'lxml.etree.ParserError'>\n",
        "Unexpected error on string ' ' <class 'lxml.etree.ParserError'>\n",
        "Unexpected error on string ' ' <class 'lxml.etree.ParserError'>\n",
        "Unexpected error on string ' ' <class 'lxml.etree.ParserError'>\n",
        "Unexpected error on string ' ' <class 'lxml.etree.ParserError'>\n",
        "Unexpected error on string ' ' <class 'lxml.etree.ParserError'>\n",
        "Unexpected error on string ' ' <class 'lxml.etree.ParserError'>\n",
        "Unexpected error on string ' ' <class 'lxml.etree.ParserError'>\n",
        "Unexpected error on string ' ' <class 'lxml.etree.ParserError'>\n",
        "Unexpected error on string ' ' <class 'lxml.etree.ParserError'>\n",
        "Unexpected error on string ' ' <class 'lxml.etree.ParserError'>\n",
        "Unexpected error on string ' ' <class 'lxml.etree.ParserError'>\n",
        "Unexpected error on string ' ' <class 'lxml.etree.ParserError'>\n",
        "Unexpected error on string ' ' <class 'lxml.etree.ParserError'>\n",
        "Unexpected error on string ' ' <class 'lxml.etree.ParserError'>\n",
        "Unexpected error on string ' ' <class 'lxml.etree.ParserError'>\n",
        "Unexpected error on string ' ' <class 'lxml.etree.ParserError'>\n",
        "Unexpected error on string ' ' <class 'lxml.etree.ParserError'>\n",
        "Unexpected error on string ' ' <class 'lxml.etree.ParserError'>\n",
        "Unexpected error on string ' ' <class 'lxml.etree.ParserError'>\n",
        "Unexpected error on string ' ' <class 'lxml.etree.ParserError'>\n",
        "Unexpected error on string ' ' <class 'lxml.etree.ParserError'>\n",
        "Unexpected error on string '<' <class 'lxml.etree.ParserError'>\n",
        "Unexpected error on string '<' <class 'lxml.etree.ParserError'>\n",
        "Unexpected error on string ' ' <class 'lxml.etree.ParserError'>\n",
        "Unexpected error on string ' '"
       ]
      },
      {
       "output_type": "stream",
       "stream": "stdout",
       "text": [
        " <class 'lxml.etree.ParserError'>\n",
        "Unexpected error on string '<' <class 'lxml.etree.ParserError'>\n",
        "Unexpected error on string '<' <class 'lxml.etree.ParserError'>\n",
        "Unexpected error on string ' ' <class 'lxml.etree.ParserError'>\n",
        "Unexpected error on string ' ' <class 'lxml.etree.ParserError'>\n",
        "Unexpected error on string '<' <class 'lxml.etree.ParserError'>\n",
        "Unexpected error on string '<' <class 'lxml.etree.ParserError'>\n",
        "Unexpected error on string '<' <class 'lxml.etree.ParserError'>\n",
        "Unexpected error on string ' ' <class 'lxml.etree.ParserError'>\n",
        "Unexpected error on string ' ' <class 'lxml.etree.ParserError'>\n",
        "{'heur': 3664, 'boiler_pipe': 236, 'downloads_id': 415978069, 'crf': 154, 'python_readibilty': 93}"
       ]
      },
      {
       "output_type": "stream",
       "stream": "stdout",
       "text": [
        "\n",
        "downloads_id: 416026460\n",
        "[471, 505, 507]"
       ]
      },
      {
       "output_type": "stream",
       "stream": "stdout",
       "text": [
        "\n",
        "[471]\n",
        "[471, 474, 505, 507]"
       ]
      },
      {
       "output_type": "stream",
       "stream": "stdout",
       "text": [
        "\n",
        "original article tmp file "
       ]
      },
      {
       "output_type": "stream",
       "stream": "stdout",
       "text": [
        " /tmp/tmpqCgFt4.html\n",
        "/tmp/tmplYFLwY.html\n",
        "/tmp/tmpqCgFt4.html\n",
        "/tmp/tmpqCgFt4.html\n",
        "Now open file:///tmp/tmplYFLwY.html in your web browser\n"
       ]
      },
      {
       "output_type": "stream",
       "stream": "stdout",
       "text": [
        "\n",
        "Unexpected error on string ' ' <class 'lxml.etree.ParserError'>\n",
        "Unexpected error on string ' ' <class 'lxml.etree.ParserError'>\n",
        "Unexpected error on string ' ' <class 'lxml.etree.ParserError'>\n",
        "Unexpected error on string ' ' <class 'lxml.etree.ParserError'>\n",
        "Unexpected error on string ' ' <class 'lxml.etree.ParserError'>\n",
        "Unexpected error on string ' ' <class 'lxml.etree.ParserError'>\n",
        "Unexpected error on string ' ' <class 'lxml.etree.ParserError'>\n",
        "Unexpected error on string ' ' <class 'lxml.etree.ParserError'>\n",
        "Unexpected error on string ' ' <class 'lxml.etree.ParserError'>\n",
        "Unexpected error on string ' ' <class 'lxml.etree.ParserError'>\n",
        "Unexpected error on string ' ' <class 'lxml.etree.ParserError'>\n",
        "Unexpected error on string ' ' <class 'lxml.etree.ParserError'>\n",
        "Unexpected error on string ' ' <class 'lxml.etree.ParserError'>\n",
        "Unexpected error on string ' ' <class 'lxml.etree.ParserError'>\n",
        "Unexpected error on string ' ' <class 'lxml.etree.ParserError'>\n",
        "Unexpected error on string ' ' <class 'lxml.etree.ParserError'>\n",
        "Unexpected error on string '<' <class 'lxml.etree.ParserError'>\n",
        "Unexpected error on string ' ' <class 'lxml.etree.ParserError'>\n",
        "Unexpected error on string ' ' <class 'lxml.etree.ParserError'>\n",
        "Unexpected error on string ' ' <class 'lxml.etree.ParserError'>\n",
        "Unexpected error on string ' ' <class 'lxml.etree.ParserError'>\n",
        "Unexpected error on string ' ' <class 'lxml.etree.ParserError'>\n",
        "Unexpected error on string ' ' <class 'lxml.etree.ParserError'>\n",
        "Unexpected error on string '<' <class 'lxml.etree.ParserError'>\n",
        "{'heur': 38, 'boiler_pipe': 36, 'downloads_id': 416026460, 'crf': 749, 'python_readibilty': 215}\n",
        "downloads_id: 416026587\n",
        "[767, 770, 773, 776, 779, 782, 785, 788, 791, 794, 1501, 1543, 1547]"
       ]
      },
      {
       "output_type": "stream",
       "stream": "stdout",
       "text": [
        "\n",
        "[690, 697, 767, 770, 773, 776, 779, 782, 785, 788, 791, 794]\n",
        "[690, 701, 767, 770, 773, 776, 779, 782, 785, 788, 791, 794]"
       ]
      },
      {
       "output_type": "stream",
       "stream": "stdout",
       "text": [
        "\n",
        "original article tmp file "
       ]
      },
      {
       "output_type": "stream",
       "stream": "stdout",
       "text": [
        " /tmp/tmpSjGij8.html\n",
        "/tmp/tmpNPyZZC.html\n",
        "/tmp/tmpSjGij8.html\n",
        "/tmp/tmpSjGij8.html\n",
        "Now open file:///tmp/tmpNPyZZC.html in your web browser\n"
       ]
      },
      {
       "output_type": "stream",
       "stream": "stdout",
       "text": [
        "\n",
        "{'heur': 237, 'boiler_pipe': 124, 'downloads_id': 416026587, 'crf': 16, 'python_readibilty': 54}\n",
        "downloads_id: 416047494\n",
        "[626, 627, 628, 642, 654, 666, 678, 691, 692, 693, 708, 709, 747, 748, 1537, 1538, 1593, 1622, 1679, 1724, 1727, 1742]"
       ]
      },
      {
       "output_type": "stream",
       "stream": "stdout",
       "text": [
        "\n",
        "[616, 626, 627, 628]\n",
        "[616, 619, 620, 626, 627, 628]"
       ]
      },
      {
       "output_type": "stream",
       "stream": "stdout",
       "text": [
        "\n",
        "original article tmp file "
       ]
      },
      {
       "output_type": "stream",
       "stream": "stdout",
       "text": [
        " /tmp/tmpMq0tOW.html\n",
        "/tmp/tmpwCYFkI.html\n",
        "/tmp/tmpMq0tOW.html\n",
        "/tmp/tmpMq0tOW.html\n",
        "Now open file:///tmp/tmpwCYFkI.html in your web browser\n"
       ]
      },
      {
       "output_type": "stream",
       "stream": "stdout",
       "text": [
        "\n",
        "{'heur': 2164, 'boiler_pipe': 1440, 'downloads_id': 416047494, 'crf': 27, 'python_readibilty': 36}\n",
        "downloads_id: 416047513\n",
        "[606, 607, 694, 695, 696, 697, 698, 699, 700, 992, 993, 1048, 1077, 1134, 1179, 1182, 1197]"
       ]
      },
      {
       "output_type": "stream",
       "stream": "stdout",
       "text": [
        "\n",
        "[606]\n",
        "[606, 607, 608, 692, 694, 696, 697, 698, 699, 700]"
       ]
      },
      {
       "output_type": "stream",
       "stream": "stdout",
       "text": [
        "\n",
        "original article tmp file "
       ]
      },
      {
       "output_type": "stream",
       "stream": "stdout",
       "text": [
        " /tmp/tmpUDhZOr.html\n",
        "/tmp/tmpL3OVG_.html\n",
        "/tmp/tmpUDhZOr.html\n",
        "/tmp/tmpUDhZOr.html\n",
        "Now open file:///tmp/tmpL3OVG_.html in your web browser\n"
       ]
      },
      {
       "output_type": "stream",
       "stream": "stdout",
       "text": [
        "\n",
        "Unexpected error on string '\t' <class 'lxml.etree.ParserError'>\n",
        "Unexpected error on string '\t' <class 'lxml.etree.ParserError'>\n",
        "Unexpected error on string '\t' <class 'lxml.etree.ParserError'>\n",
        "Unexpected error on string '\t' <class 'lxml.etree.ParserError'>\n",
        "Unexpected error on string '\t' <class 'lxml.etree.ParserError'>\n",
        "Unexpected error on string '\t' <class 'lxml.etree.ParserError'>\n",
        "Unexpected error on string '\t' <class 'lxml.etree.ParserError'>\n",
        "Unexpected error on string '\t' <class 'lxml.etree.ParserError'>\n",
        "Unexpected error on string '\t' <class 'lxml.etree.ParserError'>\n",
        "Unexpected error on string '<' <class 'lxml.etree.ParserError'>\n",
        "Unexpected error on string ' ' <class 'lxml.etree.ParserError'>\n",
        "Unexpected error on string ' ' <class 'lxml.etree.ParserError'>\n",
        "Unexpected error on string ' ' <class 'lxml.etree.ParserError'>\n",
        "Unexpected error on string ' ' <class 'lxml.etree.ParserError'>\n",
        "Unexpected error on string ' ' <class 'lxml.etree.ParserError'>\n",
        "Unexpected error on string ' ' <class 'lxml.etree.ParserError'>\n",
        "Unexpected error on string ' ' <class 'lxml.etree.ParserError'>\n",
        "Unexpected error on string ' ' <class 'lxml.etree.ParserError'>\n",
        "Unexpected error on string '<' <class 'lxml.etree.ParserError'>\n",
        "{'heur': 984, 'boiler_pipe': 679, 'downloads_id': 416047513, 'crf': 2111, 'python_readibilty': 429}"
       ]
      },
      {
       "output_type": "stream",
       "stream": "stdout",
       "text": [
        "\n",
        "downloads_id: 416210404\n",
        "[239, 241, 253, 255, 257, 262, 265, 267, 269, 273, 277, 602]"
       ]
      },
      {
       "output_type": "stream",
       "stream": "stdout",
       "text": [
        "\n",
        "[232, 239, 241]\n",
        "[232, 239, 241, 253, 255, 257, 262, 265, 267, 269, 273, 277]"
       ]
      },
      {
       "output_type": "stream",
       "stream": "stdout",
       "text": [
        "\n",
        "original article tmp file "
       ]
      },
      {
       "output_type": "stream",
       "stream": "stdout",
       "text": [
        " /tmp/tmpvxN4fn.html\n",
        "/tmp/tmp6Yse1l.html\n",
        "/tmp/tmpvxN4fn.html\n",
        "/tmp/tmpvxN4fn.html\n",
        "Now open file:///tmp/tmp6Yse1l.html in your web browser\n"
       ]
      },
      {
       "output_type": "stream",
       "stream": "stdout",
       "text": [
        "\n",
        "{'heur': 165, 'boiler_pipe': 419, 'downloads_id': 416210404, 'crf': 2603, 'python_readibilty': 179}"
       ]
      },
      {
       "output_type": "stream",
       "stream": "stdout",
       "text": [
        "\n",
        "downloads_id: 416263840\n",
        "[238, 239, 243, 492]"
       ]
      },
      {
       "output_type": "stream",
       "stream": "stdout",
       "text": [
        "\n",
        "[238, 239, 243]\n",
        "[238, 239, 243]"
       ]
      },
      {
       "output_type": "stream",
       "stream": "stdout",
       "text": [
        "\n",
        "original article tmp file "
       ]
      },
      {
       "output_type": "stream",
       "stream": "stdout",
       "text": [
        " /tmp/tmpbly6t6.html\n",
        "/tmp/tmpMeqpaO.html\n",
        "/tmp/tmpbly6t6.html\n",
        "/tmp/tmpbly6t6.html\n",
        "Now open file:///tmp/tmpMeqpaO.html in your web browser\n"
       ]
      },
      {
       "output_type": "stream",
       "stream": "stdout",
       "text": [
        "\n",
        "{'heur': 105, 'boiler_pipe': 26, 'downloads_id': 416263840, 'crf': 0, 'python_readibilty': 124}\n",
        "downloads_id: 416306952\n",
        "[770, 773, 776, 779, 782, 785, 788, 791, 794, 797, 803, 806, 809, 812, 1608, 1650, 1654]"
       ]
      },
      {
       "output_type": "stream",
       "stream": "stdout",
       "text": [
        "\n",
        "[689, 770, 773, 776, 779, 782, 785, 788, 791, 794, 797, 800, 803, 806, 809, 812]\n",
        "[689, 693, 704, 770, 773, 776, 779, 782, 785, 788, 791, 794, 797, 800, 803, 806, 809, 812]"
       ]
      },
      {
       "output_type": "stream",
       "stream": "stdout",
       "text": [
        "\n",
        "original article tmp file "
       ]
      },
      {
       "output_type": "stream",
       "stream": "stdout",
       "text": [
        " /tmp/tmpKXEO98.html\n",
        "/tmp/tmpoq5RZH.html\n",
        "/tmp/tmpKXEO98.html\n",
        "/tmp/tmpKXEO98.html\n",
        "Now open file:///tmp/tmpoq5RZH.html in your web browser\n"
       ]
      },
      {
       "output_type": "stream",
       "stream": "stdout",
       "text": [
        "\n",
        "{'heur': 258, 'boiler_pipe': 278, 'downloads_id': 416306952, 'crf': 31, 'python_readibilty': 87}"
       ]
      },
      {
       "output_type": "stream",
       "stream": "stdout",
       "text": [
        "\n",
        "downloads_id: 416426245\n",
        "[63, 64, 66, 67, 68, 69]"
       ]
      },
      {
       "output_type": "stream",
       "stream": "stdout",
       "text": [
        "\n",
        "[49, 50, 56, 62, 63, 64, 66, 67, 68, 69]\n",
        "[56, 57, 62, 63, 64, 66, 67, 68, 69]"
       ]
      },
      {
       "output_type": "stream",
       "stream": "stdout",
       "text": [
        "\n",
        "original article tmp file "
       ]
      },
      {
       "output_type": "stream",
       "stream": "stdout",
       "text": [
        " /tmp/tmp0YQJUR.html\n",
        "/tmp/tmpiB5dzS.html\n",
        "/tmp/tmp0YQJUR.html\n",
        "/tmp/tmp0YQJUR.html\n",
        "Now open file:///tmp/tmpiB5dzS.html in your web browser\n"
       ]
      },
      {
       "output_type": "stream",
       "stream": "stdout",
       "text": [
        "\n",
        "{'heur': 93, 'boiler_pipe': 1002, 'downloads_id': 416426245, 'crf': 65, 'python_readibilty': 49}\n",
        "downloads_id: 416655019\n",
        "[3293, 3296, 3395, 3408, 3421, 3441, 3443, 3445, 3447, 3449, 3451, 3453, 3623]"
       ]
      },
      {
       "output_type": "stream",
       "stream": "stdout",
       "text": [
        "\n",
        "[185, 3293, 3296, 3525]\n",
        "[3293, 3296, 3433, 3441, 3443, 3445, 3447, 3449, 3451, 3453]"
       ]
      },
      {
       "output_type": "stream",
       "stream": "stdout",
       "text": [
        "\n",
        "original article tmp file "
       ]
      },
      {
       "output_type": "stream",
       "stream": "stdout",
       "text": [
        " /tmp/tmpkrhfLu.html\n",
        "/tmp/tmpJy3MHA.html\n",
        "/tmp/tmpkrhfLu.html\n",
        "/tmp/tmpkrhfLu.html\n",
        "Now open file:///tmp/tmpJy3MHA.html in your web browser\n"
       ]
      },
      {
       "output_type": "stream",
       "stream": "stdout",
       "text": [
        "\n",
        "{'heur': 191, 'boiler_pipe': 44, 'downloads_id': 416655019, 'crf': 2266, 'python_readibilty': 144}"
       ]
      },
      {
       "output_type": "stream",
       "stream": "stdout",
       "text": [
        "\n",
        "downloads_id: 416730837\n",
        "[364, 386, 411, 429, 448, 460, 472, 737, 738, 739, 808]"
       ]
      },
      {
       "output_type": "stream",
       "stream": "stdout",
       "text": [
        "\n",
        "[364]\n",
        "[355, 364, 374, 386]"
       ]
      },
      {
       "output_type": "stream",
       "stream": "stdout",
       "text": [
        "\n",
        "original article tmp file "
       ]
      },
      {
       "output_type": "stream",
       "stream": "stdout",
       "text": [
        " /tmp/tmpwsLpqM.html\n",
        "/tmp/tmpTu76SV.html\n",
        "/tmp/tmpwsLpqM.html\n",
        "/tmp/tmpwsLpqM.html\n",
        "Now open file:///tmp/tmpTu76SV.html in your web browser\n"
       ]
      },
      {
       "output_type": "stream",
       "stream": "stdout",
       "text": [
        "\n",
        "Unexpected error on string ' ' <class 'lxml.etree.ParserError'>\n",
        "Unexpected error on string ' ' <class 'lxml.etree.ParserError'>\n",
        "Unexpected error on string ' ' <class 'lxml.etree.ParserError'>\n",
        "Unexpected error on string ' ' <class 'lxml.etree.ParserError'>\n",
        "Unexpected error on string ' ' <class 'lxml.etree.ParserError'>\n",
        "Unexpected error on string ' ' <class 'lxml.etree.ParserError'>\n",
        "Unexpected error on string ' ' <class 'lxml.etree.ParserError'>\n",
        "Unexpected error on string ' ' <class 'lxml.etree.ParserError'>\n",
        "Unexpected error on string ' ' <class 'lxml.etree.ParserError'>\n",
        "Unexpected error on string ' ' <class 'lxml.etree.ParserError'>\n",
        "Unexpected error on string ' ' <class 'lxml.etree.ParserError'>\n",
        "Unexpected error on string ' ' <class 'lxml.etree.ParserError'>\n",
        "Unexpected error on string ' ' <class 'lxml.etree.ParserError'>\n",
        "Unexpected error on string ' ' <class 'lxml.etree.ParserError'>\n",
        "Unexpected error on string ' ' <class 'lxml.etree.ParserError'>\n",
        "Unexpected error on string ' ' <class 'lxml.etree.ParserError'>\n",
        "Unexpected error on string ' ' <class 'lxml.etree.ParserError'>\n",
        "Unexpected error on string ' ' <class 'lxml.etree.ParserError'>\n",
        "Unexpected error on string ' ' <class 'lxml.etree.ParserError'>\n",
        "Unexpected error on string ' ' <class 'lxml.etree.ParserError'>\n",
        "Unexpected error on string ' ' <class 'lxml.etree.ParserError'>\n",
        "Unexpected error on string ' ' <class 'lxml.etree.ParserError'>\n",
        "Unexpected error on string ' ' <class 'lxml.etree.ParserError'>\n",
        "Unexpected error on string ' ' <class 'lxml.etree.ParserError'>\n",
        "Unexpected error on string ' ' <class 'lxml.etree.ParserError'>\n",
        "Unexpected error on string ' ' <class 'lxml.etree.ParserError'>\n",
        "Unexpected error on string ' ' <class 'lxml.etree.ParserError'>\n",
        "Unexpected error on string ' ' <class 'lxml.etree.ParserError'>\n",
        "Unexpected error on string ' ' <class 'lxml.etree.ParserError'>\n",
        "Unexpected error on string ' ' <class 'lxml.etree.ParserError'>\n",
        "Unexpected error on string ' ' <class 'lxml.etree.ParserError'>\n",
        "Unexpected error on string ' ' <class 'lxml.etree.ParserError'>\n",
        "Unexpected error on string ' ' <class 'lxml.etree.ParserError'>\n",
        "Unexpected error on string ' ' <class 'lxml.etree.ParserError'>\n",
        "Unexpected error on string ' ' <class 'lxml.etree.ParserError'>\n",
        "Unexpected error on string '<' <class 'lxml.etree.ParserError'>\n",
        "{'heur': 909, 'boiler_pipe': 394, 'downloads_id': 416730837, 'crf': 1338, 'python_readibilty': 25}\n",
        "downloads_id: 416802690\n",
        "[364, 386, 411, 429, 448, 460, 472, 737, 738, 739, 808]"
       ]
      },
      {
       "output_type": "stream",
       "stream": "stdout",
       "text": [
        "\n",
        "[364]\n",
        "[355, 364, 374, 386]"
       ]
      },
      {
       "output_type": "stream",
       "stream": "stdout",
       "text": [
        "\n",
        "original article tmp file "
       ]
      },
      {
       "output_type": "stream",
       "stream": "stdout",
       "text": [
        " /tmp/tmp8euK_n.html\n",
        "/tmp/tmpILg37X.html\n",
        "/tmp/tmp8euK_n.html\n",
        "/tmp/tmp8euK_n.html\n",
        "Now open file:///tmp/tmpILg37X.html in your web browser\n"
       ]
      },
      {
       "output_type": "stream",
       "stream": "stdout",
       "text": [
        "\n",
        "Unexpected error on string ' ' <class 'lxml.etree.ParserError'>\n",
        "Unexpected error on string ' ' <class 'lxml.etree.ParserError'>\n",
        "Unexpected error on string ' ' <class 'lxml.etree.ParserError'>\n",
        "Unexpected error on string ' ' <class 'lxml.etree.ParserError'>\n",
        "Unexpected error on string ' ' <class 'lxml.etree.ParserError'>\n",
        "Unexpected error on string ' ' <class 'lxml.etree.ParserError'>\n",
        "Unexpected error on string ' ' <class 'lxml.etree.ParserError'>\n",
        "Unexpected error on string ' ' <class 'lxml.etree.ParserError'>\n",
        "Unexpected error on string ' ' <class 'lxml.etree.ParserError'>\n",
        "Unexpected error on string ' ' <class 'lxml.etree.ParserError'>\n",
        "Unexpected error on string ' ' <class 'lxml.etree.ParserError'>\n",
        "Unexpected error on string ' ' <class 'lxml.etree.ParserError'>\n",
        "Unexpected error on string ' ' <class 'lxml.etree.ParserError'>\n",
        "Unexpected error on string ' ' <class 'lxml.etree.ParserError'>\n",
        "Unexpected error on string ' ' <class 'lxml.etree.ParserError'>\n",
        "Unexpected error on string ' ' <class 'lxml.etree.ParserError'>\n",
        "Unexpected error on string ' ' <class 'lxml.etree.ParserError'>\n",
        "Unexpected error on string ' ' <class 'lxml.etree.ParserError'>\n",
        "Unexpected error on string ' ' <class 'lxml.etree.ParserError'>\n",
        "Unexpected error on string ' ' <class 'lxml.etree.ParserError'>\n",
        "Unexpected error on string ' ' <class 'lxml.etree.ParserError'>\n",
        "Unexpected error on string ' ' <class 'lxml.etree.ParserError'>\n",
        "Unexpected error on string ' ' <class 'lxml.etree.ParserError'>\n",
        "Unexpected error on string ' ' <class 'lxml.etree.ParserError'>\n",
        "Unexpected error on string ' ' <class 'lxml.etree.ParserError'>\n",
        "Unexpected error on string ' ' <class 'lxml.etree.ParserError'>\n",
        "Unexpected error on string ' ' <class 'lxml.etree.ParserError'>\n",
        "Unexpected error on string ' ' <class 'lxml.etree.ParserError'>\n",
        "Unexpected error on string ' ' <class 'lxml.etree.ParserError'>\n",
        "Unexpected error on string ' ' <class 'lxml.etree.ParserError'>\n",
        "Unexpected error on string ' ' <class 'lxml.etree.ParserError'>\n",
        "Unexpected error on string ' ' <class 'lxml.etree.ParserError'>\n",
        "Unexpected error on string ' ' <class 'lxml.etree.ParserError'>\n",
        "Unexpected error on string ' ' <class 'lxml.etree.ParserError'>\n",
        "Unexpected error on string '<' <class 'lxml.etree.ParserError'>\n",
        "{'heur': 935, 'boiler_pipe': 395, 'downloads_id': 416802690, 'crf': 1051, 'python_readibilty': 25}\n",
        "downloads_id: 417347290\n",
        "[606, 607, 694, 695, 696, 697, 698, 701, 702, 703, 704, 705, 706, 707, 708, 709, 710, 711, 712, 713, 714, 715, 716, 717, 718, 719, 1011, 1012, 1067, 1096, 1153, 1198, 1201, 1216]"
       ]
      },
      {
       "output_type": "stream",
       "stream": "stdout",
       "text": [
        "\n",
        "[606, 607, 608, 696, 697, 698, 701, 702, 703, 704, 705, 706, 707, 708, 709, 710, 711, 712, 713, 714, 715, 716, 717, 718, 719]\n",
        "[606, 607, 608, 692, 694, 695, 696, 697, 698, 701, 702, 703, 704, 705, 706, 707, 708, 709, 710, 711, 712, 713, 714, 715, 716, 717, 718, 719]"
       ]
      },
      {
       "output_type": "stream",
       "stream": "stdout",
       "text": [
        "\n",
        "original article tmp file "
       ]
      },
      {
       "output_type": "stream",
       "stream": "stdout",
       "text": [
        " /tmp/tmpfylhAK.html\n",
        "/tmp/tmp_NYy5v.html\n",
        "/tmp/tmpfylhAK.html\n",
        "/tmp/tmpfylhAK.html\n",
        "Now open file:///tmp/tmp_NYy5v.html in your web browser\n"
       ]
      },
      {
       "output_type": "stream",
       "stream": "stdout",
       "text": [
        "\n",
        "{'heur': 719, 'boiler_pipe': 629, 'downloads_id': 417347290, 'crf': 817, 'python_readibilty': 270}"
       ]
      },
      {
       "output_type": "stream",
       "stream": "stdout",
       "text": [
        "\n",
        "downloads_id: 417347524\n",
        "[220, 246, 564, 569, 578, 586, 595, 604, 612, 621, 865, 898, 919, 921, 1007]"
       ]
      },
      {
       "output_type": "stream",
       "stream": "stdout",
       "text": [
        "\n",
        "[564, 566, 569, 578, 586, 595, 604, 612, 621]\n",
        "[559, 563, 564, 566, 569, 586, 595, 612, 621]"
       ]
      },
      {
       "output_type": "stream",
       "stream": "stdout",
       "text": [
        "\n",
        "original article tmp file "
       ]
      },
      {
       "output_type": "stream",
       "stream": "stdout",
       "text": [
        " /tmp/tmpXLGbXP.html\n",
        "/tmp/tmpOuXIdy.html\n",
        "/tmp/tmpXLGbXP.html\n",
        "/tmp/tmpXLGbXP.html\n",
        "Now open file:///tmp/tmpOuXIdy.html in your web browser\n"
       ]
      },
      {
       "output_type": "stream",
       "stream": "stdout",
       "text": [
        "\n",
        "{'heur': 415, 'boiler_pipe': 298, 'downloads_id': 417347524, 'crf': 183, 'python_readibilty': 1117}"
       ]
      },
      {
       "output_type": "stream",
       "stream": "stdout",
       "text": [
        "\n",
        "downloads_id: 417368539\n",
        "[521, 524, 529, 534, 577, 585, 590, 591, 615, 640, 641, 666, 684, 711, 712, 741, 749, 750, 751, 834, 837, 846, 849, 858, 861, 870, 873, 923, 928, 939, 944, 955, 960, 971, 976, 987, 992, 1003, 1008, 1024, 1467, 1501, 1504, 1515, 1518, 1529, 1532, 1543, 1546, 1557, 1560, 1571, 1574, 1585, 1588, 1599, 1602, 1613, 1616, 1627, 1630, 1641, 1644, 1655, 1658]"
       ]
      },
      {
       "output_type": "stream",
       "stream": "stdout",
       "text": [
        "\n",
        "[195, 521]\n",
        "[518, 521, 524, 684]"
       ]
      },
      {
       "output_type": "stream",
       "stream": "stdout",
       "text": [
        "\n",
        "original article tmp file "
       ]
      },
      {
       "output_type": "stream",
       "stream": "stdout",
       "text": [
        " /tmp/tmp7uq9__.html\n",
        "/tmp/tmpoSQcmY.html\n",
        "/tmp/tmp7uq9__.html\n",
        "/tmp/tmp7uq9__.html\n",
        "Now open file:///tmp/tmpoSQcmY.html in your web browser\n"
       ]
      },
      {
       "output_type": "stream",
       "stream": "stdout",
       "text": [
        "\n",
        "{'heur': 2382, 'boiler_pipe': 944, 'downloads_id': 417368539, 'crf': 6613, 'python_readibilty': 57}"
       ]
      },
      {
       "output_type": "stream",
       "stream": "stdout",
       "text": [
        "\n",
        "downloads_id: 417389613\n",
        "[286, 568]"
       ]
      },
      {
       "output_type": "stream",
       "stream": "stdout",
       "text": [
        "\n",
        "[198]\n",
        "[198]"
       ]
      },
      {
       "output_type": "stream",
       "stream": "stdout",
       "text": [
        "\n",
        "original article tmp file "
       ]
      },
      {
       "output_type": "stream",
       "stream": "stdout",
       "text": [
        " /tmp/tmpIz6855.html\n",
        "/tmp/tmpkR8WQk.html\n",
        "/tmp/tmpIz6855.html\n",
        "/tmp/tmpIz6855.html\n",
        "Now open file:///tmp/tmpkR8WQk.html in your web browser\n"
       ]
      },
      {
       "output_type": "stream",
       "stream": "stdout",
       "text": [
        "\n",
        "Unexpected error on string '\t' <class 'lxml.etree.ParserError'>\n",
        "Unexpected error on string '\t' <class 'lxml.etree.ParserError'>\n",
        "Unexpected error on string '<' <class 'lxml.etree.ParserError'>\n",
        "Unexpected error on string ' ' <class 'lxml.etree.ParserError'>\n",
        "Unexpected error on string ' ' <class 'lxml.etree.ParserError'>\n",
        "Unexpected error on string '<' <class 'lxml.etree.ParserError'>\n",
        "Unexpected error on string ' ' <class 'lxml.etree.ParserError'>\n",
        "Unexpected error on string ' ' <class 'lxml.etree.ParserError'>\n",
        "Unexpected error on string ' ' <class 'lxml.etree.ParserError'>\n",
        "Unexpected error on string '<' <class 'lxml.etree.ParserError'>\n",
        "Unexpected error on string ' ' <class 'lxml.etree.ParserError'>\n",
        "Unexpected error on string '<' <class 'lxml.etree.ParserError'>\n",
        "Unexpected error on string ' ' <class 'lxml.etree.ParserError'>\n",
        "Unexpected error on string ' ' <class 'lxml.etree.ParserError'>\n",
        "Unexpected error on string ' ' <class 'lxml.etree.ParserError'>\n",
        "Unexpected error on string ' ' <class 'lxml.etree.ParserError'>\n",
        "Unexpected error on string ' ' <class 'lxml.etree.ParserError'>\n",
        "Unexpected error on string '<' <class 'lxml.etree.ParserError'>\n",
        "Unexpected error on string ' ' <class 'lxml.etree.ParserError'>\n",
        "Unexpected error on string '<' <class 'lxml.etree.ParserError'>\n",
        "Unexpected error on string ' ' <class 'lxml.etree.ParserError'>\n",
        "Unexpected error on string ' ' <class 'lxml.etree.ParserError'>\n",
        "Unexpected error on string '<' <class 'lxml.etree.ParserError'>\n",
        "Unexpected error on string ' ' <class 'lxml.etree.ParserError'>\n",
        "Unexpected error on string '<' <class 'lxml.etree.ParserError'>\n",
        "Unexpected error on string ' ' <class 'lxml.etree.ParserError'>\n",
        "Unexpected error on string ' ' <class 'lxml.etree.ParserError'>\n",
        "Unexpected error on string ' ' <class 'lxml.etree.ParserError'>\n",
        "Unexpected error on string ' ' <class 'lxml.etree.ParserError'>\n",
        "Unexpected error on string ' ' <class 'lxml.etree.ParserError'>\n",
        "Unexpected error on string ' ' <class 'lxml.etree.ParserError'>\n",
        "Unexpected error on string ' ' <class 'lxml.etree.ParserError'>\n",
        "Unexpected error on string ' ' <class 'lxml.etree.ParserError'>\n",
        "Unexpected error on string ' ' <class 'lxml.etree.ParserError'>\n",
        "Unexpected error on string ' ' <class 'lxml.etree.ParserError'>\n",
        "Unexpected error on string ' ' <class 'lxml.etree.ParserError'>\n",
        "Unexpected error on string ' ' <class 'lxml.etree.ParserError'>\n",
        "Unexpected error on string '<' <class 'lxml.etree.ParserError'>\n",
        "Unexpected error on string '<' <class 'lxml.etree.ParserError'>\n",
        "Unexpected error on string ' ' <class 'lxml.etree.ParserError'>\n",
        "Unexpected error on string ' ' <class 'lxml.etree.ParserError'>\n",
        "Unexpected error on string ' ' <class 'lxml.etree.ParserError'>\n",
        "Unexpected error on string ' ' <class 'lxml.etree.ParserError'>\n",
        "Unexpected error on string ' ' <class 'lxml.etree.ParserError'>\n",
        "Unexpected error on string ' ' <class 'lxml.etree.ParserError'>\n",
        "Unexpected error on string ' ' <class 'lxml.etree.ParserError'>\n",
        "Unexpected error on string ' ' <class 'lxml.etree.ParserError'>\n",
        "Unexpected error on string ' ' <class 'lxml.etree.ParserError'>\n",
        "Unexpected error on string ' ' <class 'lxml.etree.ParserError'>\n",
        "Unexpected error on string ' ' <class 'lxml.etree.ParserError'>\n",
        "Unexpected error on string ' ' <class 'lxml.etree.ParserError'>\n",
        "Unexpected error on string ' ' <class 'lxml.etree.ParserError'>\n",
        "Unexpected error on string ' ' <class 'lxml.etree.ParserError'>\n",
        "Unexpected error on string ' ' <class 'lxml.etree.ParserError'>\n",
        "Unexpected error on string ' ' <class 'lxml.etree.ParserError'>\n",
        "Unexpected error on string ' ' <class 'lxml.etree.ParserError'>\n",
        "Unexpected error on string ' ' <class 'lxml.etree.ParserError'>\n",
        "Unexpected error on string ' ' <class 'lxml.etree.ParserError'>\n",
        "Unexpected error on string ' ' <class 'lxml.etree.ParserError'>\n",
        "Unexpected error on string ' ' <class 'lxml.etree.ParserError'>\n",
        "Unexpected error on string ' ' <class 'lxml.etree.ParserError'>\n",
        "Unexpected error on string ' ' <class 'lxml.etree.ParserError'>\n",
        "Unexpected error on string ' ' <class 'lxml.etree.ParserError'>\n",
        "Unexpected error on string ' ' <class 'lxml.etree.ParserError'>\n",
        "Unexpected error on string ' ' <class 'lxml.etree.ParserError'>\n",
        "Unexpected error on string ' ' <class 'lxml.etree.ParserError'>\n",
        "Unexpected error on string ' ' <class 'lxml.etree.ParserError'>\n",
        "Unexpected error on string '<' <class 'lxml.etree.ParserError'>\n",
        "Unexpected error on string ' ' <class 'lxml.etree.ParserError'>\n",
        "Unexpected error on string '\t' <class 'lxml.etree.ParserError'>\n",
        "Unexpected error on string '\t' <class 'lxml.etree.ParserError'>\n",
        "Unexpected error on string '<' <class 'lxml.etree.ParserError'>\n",
        "Unexpected error on string ' ' <class 'lxml.etree.ParserError'>\n",
        "Unexpected error on string ' ' <class 'lxml.etree.ParserError'>\n",
        "Unexpected error on string '<' <class 'lxml.etree.ParserError'>\n",
        "Unexpected error on string ' ' <class 'lxml.etree.ParserError'>\n",
        "Unexpected error on string ' '"
       ]
      },
      {
       "output_type": "stream",
       "stream": "stdout",
       "text": [
        " <class 'lxml.etree.ParserError'>\n",
        "Unexpected error on string ' ' <class 'lxml.etree.ParserError'>\n",
        "Unexpected error on string '<' <class 'lxml.etree.ParserError'>\n",
        "Unexpected error on string ' ' <class 'lxml.etree.ParserError'>\n",
        "Unexpected error on string '<' <class 'lxml.etree.ParserError'>\n",
        "Unexpected error on string ' ' <class 'lxml.etree.ParserError'>\n",
        "Unexpected error on string ' ' <class 'lxml.etree.ParserError'>\n",
        "Unexpected error on string ' ' <class 'lxml.etree.ParserError'>\n",
        "Unexpected error on string ' ' <class 'lxml.etree.ParserError'>\n",
        "Unexpected error on string ' ' <class 'lxml.etree.ParserError'>\n",
        "Unexpected error on string '<' <class 'lxml.etree.ParserError'>\n",
        "Unexpected error on string ' ' <class 'lxml.etree.ParserError'>\n",
        "Unexpected error on string '<' <class 'lxml.etree.ParserError'>\n",
        "Unexpected error on string ' ' <class 'lxml.etree.ParserError'>\n",
        "Unexpected error on string ' ' <class 'lxml.etree.ParserError'>\n",
        "Unexpected error on string '<' <class 'lxml.etree.ParserError'>\n",
        "Unexpected error on string ' ' <class 'lxml.etree.ParserError'>\n",
        "Unexpected error on string '<' <class 'lxml.etree.ParserError'>\n",
        "Unexpected error on string ' ' <class 'lxml.etree.ParserError'>\n",
        "Unexpected error on string ' ' <class 'lxml.etree.ParserError'>\n",
        "Unexpected error on string ' ' <class 'lxml.etree.ParserError'>\n",
        "Unexpected error on string ' ' <class 'lxml.etree.ParserError'>\n",
        "Unexpected error on string ' ' <class 'lxml.etree.ParserError'>\n",
        "Unexpected error on string ' ' <class 'lxml.etree.ParserError'>\n",
        "Unexpected error on string ' ' <class 'lxml.etree.ParserError'>\n",
        "Unexpected error on string ' ' <class 'lxml.etree.ParserError'>\n",
        "Unexpected error on string ' ' <class 'lxml.etree.ParserError'>\n",
        "Unexpected error on string ' ' <class 'lxml.etree.ParserError'>\n",
        "Unexpected error on string ' ' <class 'lxml.etree.ParserError'>\n",
        "Unexpected error on string ' ' <class 'lxml.etree.ParserError'>\n",
        "Unexpected error on string '<' <class 'lxml.etree.ParserError'>\n",
        "Unexpected error on string '<' <class 'lxml.etree.ParserError'>\n",
        "Unexpected error on string ' ' <class 'lxml.etree.ParserError'>\n",
        "Unexpected error on string ' ' <class 'lxml.etree.ParserError'>\n",
        "Unexpected error on string ' ' <class 'lxml.etree.ParserError'>\n",
        "Unexpected error on string ' ' <class 'lxml.etree.ParserError'>\n",
        "Unexpected error on string ' ' <class 'lxml.etree.ParserError'>\n",
        "Unexpected error on string ' ' <class 'lxml.etree.ParserError'>\n",
        "Unexpected error on string ' ' <class 'lxml.etree.ParserError'>\n",
        "Unexpected error on string ' ' <class 'lxml.etree.ParserError'>\n",
        "Unexpected error on string ' ' <class 'lxml.etree.ParserError'>\n",
        "Unexpected error on string ' ' <class 'lxml.etree.ParserError'>\n",
        "Unexpected error on string ' ' <class 'lxml.etree.ParserError'>\n",
        "Unexpected error on string ' ' <class 'lxml.etree.ParserError'>\n",
        "Unexpected error on string ' ' <class 'lxml.etree.ParserError'>\n",
        "Unexpected error on string ' ' <class 'lxml.etree.ParserError'>\n",
        "Unexpected error on string ' ' <class 'lxml.etree.ParserError'>\n",
        "Unexpected error on string ' ' <class 'lxml.etree.ParserError'>\n",
        "Unexpected error on string ' ' <class 'lxml.etree.ParserError'>\n",
        "Unexpected error on string ' ' <class 'lxml.etree.ParserError'>\n",
        "Unexpected error on string ' ' <class 'lxml.etree.ParserError'>\n",
        "Unexpected error on string ' ' <class 'lxml.etree.ParserError'>\n",
        "Unexpected error on string ' ' <class 'lxml.etree.ParserError'>\n",
        "Unexpected error on string ' ' <class 'lxml.etree.ParserError'>\n",
        "Unexpected error on string ' ' <class 'lxml.etree.ParserError'>\n",
        "Unexpected error on string ' ' <class 'lxml.etree.ParserError'>\n",
        "Unexpected error on string ' ' <class 'lxml.etree.ParserError'>\n",
        "Unexpected error on string ' ' <class 'lxml.etree.ParserError'>\n",
        "Unexpected error on string ' ' <class 'lxml.etree.ParserError'>\n",
        "Unexpected error on string ' ' <class 'lxml.etree.ParserError'>\n",
        "Unexpected error on string '<' <class 'lxml.etree.ParserError'>\n",
        "Unexpected error on string ' ' <class 'lxml.etree.ParserError'>\n",
        "Unexpected error on string '\t' <class 'lxml.etree.ParserError'>\n",
        "Unexpected error on string '\t' <class 'lxml.etree.ParserError'>\n",
        "Unexpected error on string '<' <class 'lxml.etree.ParserError'>\n",
        "Unexpected error on string ' ' <class 'lxml.etree.ParserError'>\n",
        "Unexpected error on string ' ' <class 'lxml.etree.ParserError'>\n",
        "Unexpected error on string '<' <class 'lxml.etree.ParserError'>\n",
        "Unexpected error on string ' ' <class 'lxml.etree.ParserError'>\n",
        "Unexpected error on string ' ' <class 'lxml.etree.ParserError'>\n",
        "Unexpected error on string ' ' <class 'lxml.etree.ParserError'>\n",
        "Unexpected error on string '<' <class 'lxml.etree.ParserError'>\n",
        "Unexpected error on string ' ' <class 'lxml.etree.ParserError'>\n",
        "Unexpected error on string '<' <class 'lxml.etree.ParserError'>\n",
        "Unexpected error on string ' ' <class 'lxml.etree.ParserError'>\n",
        "Unexpected error on string ' ' <class 'lxml.etree.ParserError'>\n",
        "Unexpected error on string ' ' <class 'lxml.etree.ParserError'>\n",
        "Unexpected error on string ' ' <class 'lxml.etree.ParserError'>\n",
        "Unexpected error on string ' ' <class 'lxml.etree.ParserError'>\n",
        "Unexpected error on string '<' <class 'lxml.etree.ParserError'>\n",
        "Unexpected error on string ' ' <class 'lxml.etree.ParserError'>\n",
        "Unexpected error on string '<' <class 'lxml.etree.ParserError'>\n",
        "Unexpected error on string ' ' <class 'lxml.etree.ParserError'>\n",
        "Unexpected error on string ' ' <class 'lxml.etree.ParserError'>\n",
        "Unexpected error on string '<' <class 'lxml.etree.ParserError'>\n",
        "Unexpected error on string ' ' <class 'lxml.etree.ParserError'>\n",
        "Unexpected error on string '<' <class 'lxml.etree.ParserError'>\n",
        "Unexpected error on string ' ' <class 'lxml.etree.ParserError'>\n",
        "Unexpected error on string ' '"
       ]
      },
      {
       "output_type": "stream",
       "stream": "stdout",
       "text": [
        " <class 'lxml.etree.ParserError'>\n",
        "Unexpected error on string ' ' <class 'lxml.etree.ParserError'>\n",
        "Unexpected error on string ' ' <class 'lxml.etree.ParserError'>\n",
        "Unexpected error on string ' ' <class 'lxml.etree.ParserError'>\n",
        "Unexpected error on string ' ' <class 'lxml.etree.ParserError'>\n",
        "Unexpected error on string ' ' <class 'lxml.etree.ParserError'>\n",
        "Unexpected error on string ' ' <class 'lxml.etree.ParserError'>\n",
        "Unexpected error on string ' ' <class 'lxml.etree.ParserError'>\n",
        "Unexpected error on string ' ' <class 'lxml.etree.ParserError'>\n",
        "Unexpected error on string ' ' <class 'lxml.etree.ParserError'>\n",
        "Unexpected error on string ' ' <class 'lxml.etree.ParserError'>\n",
        "Unexpected error on string '<' <class 'lxml.etree.ParserError'>\n",
        "Unexpected error on string '<' <class 'lxml.etree.ParserError'>\n",
        "Unexpected error on string ' ' <class 'lxml.etree.ParserError'>\n",
        "Unexpected error on string ' ' <class 'lxml.etree.ParserError'>\n",
        "Unexpected error on string ' ' <class 'lxml.etree.ParserError'>\n",
        "Unexpected error on string ' ' <class 'lxml.etree.ParserError'>\n",
        "Unexpected error on string ' ' <class 'lxml.etree.ParserError'>\n",
        "Unexpected error on string ' ' <class 'lxml.etree.ParserError'>\n",
        "Unexpected error on string ' ' <class 'lxml.etree.ParserError'>\n",
        "Unexpected error on string ' ' <class 'lxml.etree.ParserError'>\n",
        "Unexpected error on string ' ' <class 'lxml.etree.ParserError'>\n",
        "Unexpected error on string ' ' <class 'lxml.etree.ParserError'>\n",
        "Unexpected error on string ' ' <class 'lxml.etree.ParserError'>\n",
        "Unexpected error on string ' ' <class 'lxml.etree.ParserError'>\n",
        "Unexpected error on string ' ' <class 'lxml.etree.ParserError'>\n",
        "Unexpected error on string ' ' <class 'lxml.etree.ParserError'>\n",
        "Unexpected error on string ' ' <class 'lxml.etree.ParserError'>\n",
        "Unexpected error on string ' ' <class 'lxml.etree.ParserError'>\n",
        "Unexpected error on string ' ' <class 'lxml.etree.ParserError'>\n",
        "Unexpected error on string ' ' <class 'lxml.etree.ParserError'>\n",
        "Unexpected error on string ' ' <class 'lxml.etree.ParserError'>\n",
        "Unexpected error on string ' ' <class 'lxml.etree.ParserError'>\n",
        "Unexpected error on string ' ' <class 'lxml.etree.ParserError'>\n",
        "Unexpected error on string ' ' <class 'lxml.etree.ParserError'>\n",
        "Unexpected error on string ' ' <class 'lxml.etree.ParserError'>\n",
        "Unexpected error on string ' ' <class 'lxml.etree.ParserError'>\n",
        "Unexpected error on string ' ' <class 'lxml.etree.ParserError'>\n",
        "Unexpected error on string ' ' <class 'lxml.etree.ParserError'>\n",
        "Unexpected error on string ' ' <class 'lxml.etree.ParserError'>\n",
        "Unexpected error on string ' ' <class 'lxml.etree.ParserError'>\n",
        "Unexpected error on string '<' <class 'lxml.etree.ParserError'>\n",
        "Unexpected error on string ' ' <class 'lxml.etree.ParserError'>\n",
        "Unexpected error on string '\t' <class 'lxml.etree.ParserError'>\n",
        "Unexpected error on string '\t' <class 'lxml.etree.ParserError'>\n",
        "Unexpected error on string '<' <class 'lxml.etree.ParserError'>\n",
        "Unexpected error on string ' ' <class 'lxml.etree.ParserError'>\n",
        "Unexpected error on string ' ' <class 'lxml.etree.ParserError'>\n",
        "Unexpected error on string '<' <class 'lxml.etree.ParserError'>\n",
        "Unexpected error on string ' ' <class 'lxml.etree.ParserError'>\n",
        "Unexpected error on string ' ' <class 'lxml.etree.ParserError'>\n",
        "Unexpected error on string ' ' <class 'lxml.etree.ParserError'>\n",
        "Unexpected error on string '<' <class 'lxml.etree.ParserError'>\n",
        "Unexpected error on string ' ' <class 'lxml.etree.ParserError'>\n",
        "Unexpected error on string '<' <class 'lxml.etree.ParserError'>\n",
        "Unexpected error on string ' ' <class 'lxml.etree.ParserError'>\n",
        "Unexpected error on string ' ' <class 'lxml.etree.ParserError'>\n",
        "Unexpected error on string ' ' <class 'lxml.etree.ParserError'>\n",
        "Unexpected error on string ' ' <class 'lxml.etree.ParserError'>\n",
        "Unexpected error on string ' ' <class 'lxml.etree.ParserError'>\n",
        "Unexpected error on string '<' <class 'lxml.etree.ParserError'>\n",
        "Unexpected error on string ' ' <class 'lxml.etree.ParserError'>\n",
        "Unexpected error on string '<' <class 'lxml.etree.ParserError'>\n",
        "Unexpected error on string ' ' <class 'lxml.etree.ParserError'>\n",
        "Unexpected error on string ' ' <class 'lxml.etree.ParserError'>\n",
        "Unexpected error on string '<' <class 'lxml.etree.ParserError'>\n",
        "Unexpected error on string ' ' <class 'lxml.etree.ParserError'>\n",
        "Unexpected error on string '<' <class 'lxml.etree.ParserError'>\n",
        "Unexpected error on string ' ' <class 'lxml.etree.ParserError'>\n",
        "Unexpected error on string ' ' <class 'lxml.etree.ParserError'>\n",
        "Unexpected error on string ' ' <class 'lxml.etree.ParserError'>\n",
        "Unexpected error on string ' ' <class 'lxml.etree.ParserError'>\n",
        "Unexpected error on string ' ' <class 'lxml.etree.ParserError'>\n",
        "Unexpected error on string ' ' <class 'lxml.etree.ParserError'>\n",
        "Unexpected error on string ' ' <class 'lxml.etree.ParserError'>\n",
        "Unexpected error on string ' ' <class 'lxml.etree.ParserError'>\n",
        "Unexpected error on string ' ' <class 'lxml.etree.ParserError'>\n",
        "Unexpected error on string ' ' <class 'lxml.etree.ParserError'>\n",
        "Unexpected error on string ' ' <class 'lxml.etree.ParserError'>\n",
        "Unexpected error on string ' ' <class 'lxml.etree.ParserError'>\n",
        "Unexpected error on string '<' <class 'lxml.etree.ParserError'>\n",
        "Unexpected error on string '<' <class 'lxml.etree.ParserError'>\n",
        "Unexpected error on string ' ' <class 'lxml.etree.ParserError'>\n",
        "Unexpected error on string ' ' <class 'lxml.etree.ParserError'>\n",
        "Unexpected error on string ' ' <class 'lxml.etree.ParserError'>\n",
        "Unexpected error on string ' ' <class 'lxml.etree.ParserError'>\n",
        "Unexpected error on string ' ' <class 'lxml.etree.ParserError'>\n",
        "Unexpected error on string ' ' <class 'lxml.etree.ParserError'>\n",
        "Unexpected error on string ' ' <class 'lxml.etree.ParserError'>\n",
        "Unexpected error on string ' ' <class 'lxml.etree.ParserError'>\n",
        "Unexpected error on string ' ' <class 'lxml.etree.ParserError'>\n",
        "Unexpected error on string ' ' <class 'lxml.etree.ParserError'>\n",
        "Unexpected error on string ' ' <class 'lxml.etree.ParserError'>\n",
        "Unexpected error on string ' ' <class 'lxml.etree.ParserError'>\n",
        "Unexpected error on string ' ' <class 'lxml.etree.ParserError'>\n",
        "Unexpected error on string ' ' <class 'lxml.etree.ParserError'>\n",
        "Unexpected error on string ' ' <class 'lxml.etree.ParserError'>\n",
        "Unexpected error on string ' ' <class 'lxml.etree.ParserError'>\n",
        "Unexpected error on string ' ' <class 'lxml.etree.ParserError'>\n",
        "Unexpected error on string ' ' <class 'lxml.etree.ParserError'>\n",
        "Unexpected error on string ' ' <class 'lxml.etree.ParserError'>\n",
        "Unexpected error on string ' ' <class 'lxml.etree.ParserError'>\n",
        "Unexpected error on string ' ' <class 'lxml.etree.ParserError'>\n",
        "Unexpected error on string ' ' <class 'lxml.etree.ParserError'>\n",
        "Unexpected error on string ' ' <class 'lxml.etree.ParserError'>\n",
        "Unexpected error on string ' ' <class 'lxml.etree.ParserError'>\n",
        "Unexpected error on string ' ' <class 'lxml.etree.ParserError'>\n",
        "Unexpected error on string ' ' <class 'lxml.etree.ParserError'>\n",
        "Unexpected error on string ' ' <class 'lxml.etree.ParserError'>\n",
        "Unexpected error on string ' ' <class 'lxml.etree.ParserError'>\n",
        "Unexpected error on string '<' <class 'lxml.etree.ParserError'>\n",
        "Unexpected error on string ' ' <class 'lxml.etree.ParserError'>\n",
        "Unexpected error on string '\t' <class 'lxml.etree.ParserError'>\n",
        "Unexpected error on string '\t' <class 'lxml.etree.ParserError'>\n",
        "Unexpected error on string '<' <class 'lxml.etree.ParserError'>\n",
        "Unexpected error on string ' ' <class 'lxml.etree.ParserError'>\n",
        "Unexpected error on string ' ' <class 'lxml.etree.ParserError'>\n",
        "Unexpected error on string '<'"
       ]
      },
      {
       "output_type": "stream",
       "stream": "stdout",
       "text": [
        " <class 'lxml.etree.ParserError'>\n",
        "Unexpected error on string ' ' <class 'lxml.etree.ParserError'>\n",
        "Unexpected error on string ' ' <class 'lxml.etree.ParserError'>\n",
        "Unexpected error on string ' ' <class 'lxml.etree.ParserError'>\n",
        "Unexpected error on string '<' <class 'lxml.etree.ParserError'>\n",
        "Unexpected error on string ' ' <class 'lxml.etree.ParserError'>\n",
        "Unexpected error on string '<' <class 'lxml.etree.ParserError'>\n",
        "Unexpected error on string ' ' <class 'lxml.etree.ParserError'>\n",
        "Unexpected error on string ' ' <class 'lxml.etree.ParserError'>\n",
        "Unexpected error on string ' ' <class 'lxml.etree.ParserError'>\n",
        "Unexpected error on string ' ' <class 'lxml.etree.ParserError'>\n",
        "Unexpected error on string ' ' <class 'lxml.etree.ParserError'>\n",
        "Unexpected error on string '<' <class 'lxml.etree.ParserError'>\n",
        "Unexpected error on string ' ' <class 'lxml.etree.ParserError'>\n",
        "Unexpected error on string '<' <class 'lxml.etree.ParserError'>\n",
        "Unexpected error on string ' ' <class 'lxml.etree.ParserError'>\n",
        "Unexpected error on string ' ' <class 'lxml.etree.ParserError'>\n",
        "Unexpected error on string '<' <class 'lxml.etree.ParserError'>\n",
        "Unexpected error on string ' ' <class 'lxml.etree.ParserError'>\n",
        "Unexpected error on string '<' <class 'lxml.etree.ParserError'>\n",
        "Unexpected error on string ' ' <class 'lxml.etree.ParserError'>\n",
        "Unexpected error on string ' ' <class 'lxml.etree.ParserError'>\n",
        "Unexpected error on string ' ' <class 'lxml.etree.ParserError'>\n",
        "Unexpected error on string ' ' <class 'lxml.etree.ParserError'>\n",
        "Unexpected error on string ' ' <class 'lxml.etree.ParserError'>\n",
        "Unexpected error on string ' ' <class 'lxml.etree.ParserError'>\n",
        "Unexpected error on string ' ' <class 'lxml.etree.ParserError'>\n",
        "Unexpected error on string ' ' <class 'lxml.etree.ParserError'>\n",
        "Unexpected error on string ' ' <class 'lxml.etree.ParserError'>\n",
        "Unexpected error on string ' ' <class 'lxml.etree.ParserError'>\n",
        "Unexpected error on string ' ' <class 'lxml.etree.ParserError'>\n",
        "Unexpected error on string ' ' <class 'lxml.etree.ParserError'>\n",
        "Unexpected error on string '<' <class 'lxml.etree.ParserError'>\n",
        "Unexpected error on string '<' <class 'lxml.etree.ParserError'>\n",
        "Unexpected error on string ' ' <class 'lxml.etree.ParserError'>\n",
        "Unexpected error on string ' ' <class 'lxml.etree.ParserError'>\n",
        "Unexpected error on string ' ' <class 'lxml.etree.ParserError'>\n",
        "Unexpected error on string ' ' <class 'lxml.etree.ParserError'>\n",
        "Unexpected error on string ' ' <class 'lxml.etree.ParserError'>\n",
        "Unexpected error on string ' ' <class 'lxml.etree.ParserError'>\n",
        "Unexpected error on string ' ' <class 'lxml.etree.ParserError'>\n",
        "Unexpected error on string ' ' <class 'lxml.etree.ParserError'>\n",
        "Unexpected error on string ' ' <class 'lxml.etree.ParserError'>\n",
        "Unexpected error on string ' ' <class 'lxml.etree.ParserError'>\n",
        "Unexpected error on string ' ' <class 'lxml.etree.ParserError'>\n",
        "Unexpected error on string ' ' <class 'lxml.etree.ParserError'>\n",
        "Unexpected error on string ' ' <class 'lxml.etree.ParserError'>\n",
        "Unexpected error on string ' ' <class 'lxml.etree.ParserError'>\n",
        "Unexpected error on string ' ' <class 'lxml.etree.ParserError'>\n",
        "Unexpected error on string ' ' <class 'lxml.etree.ParserError'>\n",
        "Unexpected error on string ' ' <class 'lxml.etree.ParserError'>\n",
        "Unexpected error on string ' ' <class 'lxml.etree.ParserError'>\n",
        "Unexpected error on string ' ' <class 'lxml.etree.ParserError'>\n",
        "Unexpected error on string ' ' <class 'lxml.etree.ParserError'>\n",
        "Unexpected error on string ' ' <class 'lxml.etree.ParserError'>\n",
        "Unexpected error on string ' ' <class 'lxml.etree.ParserError'>\n",
        "Unexpected error on string ' ' <class 'lxml.etree.ParserError'>\n",
        "Unexpected error on string ' ' <class 'lxml.etree.ParserError'>\n",
        "Unexpected error on string ' ' <class 'lxml.etree.ParserError'>\n",
        "Unexpected error on string ' ' <class 'lxml.etree.ParserError'>\n",
        "Unexpected error on string ' ' <class 'lxml.etree.ParserError'>\n",
        "Unexpected error on string ' ' <class 'lxml.etree.ParserError'>\n",
        "Unexpected error on string '<' <class 'lxml.etree.ParserError'>\n",
        "Unexpected error on string ' ' <class 'lxml.etree.ParserError'>\n",
        "{'heur': 740, 'boiler_pipe': 847, 'downloads_id': 417389613, 'crf': 0, 'python_readibilty': 807}\n",
        "downloads_id: 417477837\n",
        "[448, 451, 781]"
       ]
      },
      {
       "output_type": "stream",
       "stream": "stdout",
       "text": [
        "\n",
        "[448, 451]\n",
        "[441, 448, 451]"
       ]
      },
      {
       "output_type": "stream",
       "stream": "stdout",
       "text": [
        "\n",
        "original article tmp file "
       ]
      },
      {
       "output_type": "stream",
       "stream": "stdout",
       "text": [
        " /tmp/tmpFMqjgc.html\n",
        "/tmp/tmpP_nSp3.html\n",
        "/tmp/tmpFMqjgc.html\n",
        "/tmp/tmpFMqjgc.html\n",
        "Now open file:///tmp/tmpP_nSp3.html in your web browser\n"
       ]
      },
      {
       "output_type": "stream",
       "stream": "stdout",
       "text": [
        "\n",
        "{'heur': 69, 'boiler_pipe': 189, 'downloads_id': 417477837, 'crf': 6, 'python_readibilty': 8}\n",
        "downloads_id: 417653177\n",
        "[563, 564, 569, 578, 586, 595, 707, 839, 872, 893, 895, 981]"
       ]
      },
      {
       "output_type": "stream",
       "stream": "stdout",
       "text": [
        "\n",
        "[563, 564, 707]\n",
        "[563, 564, 566, 569, 586, 595]"
       ]
      },
      {
       "output_type": "stream",
       "stream": "stdout",
       "text": [
        "\n",
        "original article tmp file "
       ]
      },
      {
       "output_type": "stream",
       "stream": "stdout",
       "text": [
        " /tmp/tmpYAQqNA.html\n",
        "/tmp/tmpZgMyKW.html\n",
        "/tmp/tmpYAQqNA.html\n",
        "/tmp/tmpYAQqNA.html\n",
        "Now open file:///tmp/tmpZgMyKW.html in your web browser\n"
       ]
      },
      {
       "output_type": "stream",
       "stream": "stdout",
       "text": [
        "\n",
        "Unexpected error on string '</center>' <class 'lxml.etree.ParserError'>\n",
        "{'heur': 605, 'boiler_pipe': 205, 'downloads_id': 417653177, 'crf': 2251, 'python_readibilty': 610}\n",
        "downloads_id: 418489742\n",
        "[168, 169, 170, 171, 173, 174, 200]"
       ]
      },
      {
       "output_type": "stream",
       "stream": "stdout",
       "text": [
        "\n",
        "[162, 167, 168, 169, 170, 171, 173, 174, 175, 190]\n",
        "[162, 166, 167, 168, 169, 170, 171, 173, 174, 175]"
       ]
      },
      {
       "output_type": "stream",
       "stream": "stdout",
       "text": [
        "\n",
        "original article tmp file "
       ]
      },
      {
       "output_type": "stream",
       "stream": "stdout",
       "text": [
        " /tmp/tmpx2y4G4.html\n",
        "/tmp/tmpXzeeTf.html\n",
        "/tmp/tmpx2y4G4.html\n",
        "/tmp/tmpx2y4G4.html\n",
        "Now open file:///tmp/tmpXzeeTf.html in your web browser\n"
       ]
      },
      {
       "output_type": "stream",
       "stream": "stdout",
       "text": [
        "\n",
        "{'heur': 804, 'boiler_pipe': 149, 'downloads_id': 418489742, 'crf': 81, 'python_readibilty': 9}"
       ]
      },
      {
       "output_type": "stream",
       "stream": "stdout",
       "text": [
        "\n",
        "downloads_id: 418544762\n",
        "[334, 346, 347, 348, 350, 352, 353, 355, 357, 358, 360, 362, 363, 365, 367, 374, 378, 379, 380, 381, 383, 384, 385, 386, 387, 388, 390, 471, 479, 487, 552, 558, 579, 585, 606, 612, 633, 639, 666, 711, 750, 754, 934, 937, 947]"
       ]
      },
      {
       "output_type": "stream",
       "stream": "stdout",
       "text": [
        "\n",
        "[74, 333, 334, 346, 347, 348, 350, 352, 353, 355, 357, 358, 360, 362, 363, 365, 367, 369, 370, 371, 373, 374, 376, 378, 379, 380, 381, 383, 384, 385, 386, 387, 388, 390]\n",
        "[316, 333, 334, 346, 347, 348, 350, 352, 353, 355, 357, 358, 360, 362, 363, 365, 367, 369, 370, 371, 373, 374, 376, 378, 379, 380, 381, 383, 384, 385, 386, 387, 388, 390]"
       ]
      },
      {
       "output_type": "stream",
       "stream": "stdout",
       "text": [
        "\n",
        "original article tmp file "
       ]
      },
      {
       "output_type": "stream",
       "stream": "stdout",
       "text": [
        " /tmp/tmpTf_Fmu.html\n",
        "/tmp/tmpZUNRWg.html\n",
        "/tmp/tmpTf_Fmu.html\n",
        "/tmp/tmpTf_Fmu.html\n",
        "Now open file:///tmp/tmpZUNRWg.html in your web browser\n"
       ]
      },
      {
       "output_type": "stream",
       "stream": "stdout",
       "text": [
        "\n",
        "{'heur': 2292, 'boiler_pipe': 2404, 'downloads_id': 418544762, 'crf': 16, 'python_readibilty': 238}"
       ]
      },
      {
       "output_type": "stream",
       "stream": "stdout",
       "text": [
        "\n",
        "downloads_id: 418574641\n",
        "[523, 526, 531, 536, 574, 582, 587, 588, 612, 637, 638, 663, 681, 708, 709, 738, 746, 747, 748, 858, 863, 874, 879, 890, 895, 906, 911, 922, 927, 938, 943, 959, 975, 1399, 1433, 1436, 1447, 1450, 1461, 1464, 1475, 1478, 1489, 1492, 1503, 1506, 1517, 1520, 1531, 1534, 1545, 1548, 1559, 1562, 1573, 1576, 1587, 1590]"
       ]
      },
      {
       "output_type": "stream",
       "stream": "stdout",
       "text": [
        "\n",
        "[197, 523, 1534, 1541]\n",
        "[523, 526, 681]"
       ]
      },
      {
       "output_type": "stream",
       "stream": "stdout",
       "text": [
        "\n",
        "original article tmp file "
       ]
      },
      {
       "output_type": "stream",
       "stream": "stdout",
       "text": [
        " /tmp/tmpY8awe4.html\n",
        "/tmp/tmpmtqqbZ.html\n",
        "/tmp/tmpY8awe4.html\n",
        "/tmp/tmpY8awe4.html\n",
        "Now open file:///tmp/tmpmtqqbZ.html in your web browser\n"
       ]
      },
      {
       "output_type": "stream",
       "stream": "stdout",
       "text": [
        "\n",
        "{'heur': 2034, 'boiler_pipe': 670, 'downloads_id': 418574641, 'crf': 4363, 'python_readibilty': 33}"
       ]
      },
      {
       "output_type": "stream",
       "stream": "stdout",
       "text": [
        "\n",
        "downloads_id: 418648698\n",
        "[760, 1027, 1038, 1049, 1669, 1711, 1715]"
       ]
      },
      {
       "output_type": "stream",
       "stream": "stdout",
       "text": [
        "\n",
        "[687, 760]\n",
        "[687, 760]"
       ]
      },
      {
       "output_type": "stream",
       "stream": "stdout",
       "text": [
        "\n",
        "original article tmp file "
       ]
      },
      {
       "output_type": "stream",
       "stream": "stdout",
       "text": [
        " /tmp/tmprpOTNU.html\n",
        "/tmp/tmpemo0dE.html\n",
        "/tmp/tmprpOTNU.html\n",
        "/tmp/tmprpOTNU.html\n",
        "Now open file:///tmp/tmpemo0dE.html in your web browser\n"
       ]
      },
      {
       "output_type": "stream",
       "stream": "stdout",
       "text": [
        "\n",
        "{'heur': 349, 'boiler_pipe': 44, 'downloads_id': 418648698, 'crf': 0, 'python_readibilty': 0}\n",
        "downloads_id: 418661859\n",
        "[415, 419, 423, 427, 485, 489, 493, 497, 501, 505, 509, 513, 517, 521, 525, 529, 533, 537, 541, 545, 549, 591, 595, 637, 641, 696, 697, 740, 742, 744, 746]"
       ]
      },
      {
       "output_type": "stream",
       "stream": "stdout",
       "text": [
        "\n",
        "[88, 394, 697, 740, 742, 744, 746]\n",
        "[697, 740, 742, 744, 746]"
       ]
      },
      {
       "output_type": "stream",
       "stream": "stdout",
       "text": [
        "\n",
        "original article tmp file "
       ]
      },
      {
       "output_type": "stream",
       "stream": "stdout",
       "text": [
        " /tmp/tmpz6X5hp.html\n",
        "/tmp/tmp6sSfry.html\n",
        "/tmp/tmpz6X5hp.html\n",
        "/tmp/tmpz6X5hp.html\n",
        "Now open file:///tmp/tmp6sSfry.html in your web browser\n"
       ]
      },
      {
       "output_type": "stream",
       "stream": "stdout",
       "text": [
        "\n",
        "{'heur': 444, 'boiler_pipe': 269, 'downloads_id': 418661859, 'crf': 62, 'python_readibilty': 18}\n",
        "downloads_id: 419404469\n",
        "[768, 771, 774, 777, 780, 783, 1563, 1605, 1609]"
       ]
      },
      {
       "output_type": "stream",
       "stream": "stdout",
       "text": [
        "\n",
        "[691, 698]\n",
        "[691, 702, 768, 771, 774, 777, 780, 783]"
       ]
      },
      {
       "output_type": "stream",
       "stream": "stdout",
       "text": [
        "\n",
        "original article tmp file "
       ]
      },
      {
       "output_type": "stream",
       "stream": "stdout",
       "text": [
        " /tmp/tmpdqGKDT.html\n",
        "/tmp/tmph5eBs4.html\n",
        "/tmp/tmpdqGKDT.html\n",
        "/tmp/tmpdqGKDT.html\n",
        "Now open file:///tmp/tmph5eBs4.html in your web browser\n"
       ]
      },
      {
       "output_type": "stream",
       "stream": "stdout",
       "text": [
        "\n",
        "{'heur': 229, 'boiler_pipe': 91, 'downloads_id': 419404469, 'crf': 1135, 'python_readibilty': 38}\n",
        "downloads_id: 419440474\n",
        "[206, 240, 241, 242, 243, 244, 245, 246, 247, 248, 249, 250, 251, 252, 253, 468]"
       ]
      },
      {
       "output_type": "stream",
       "stream": "stdout",
       "text": [
        "\n",
        "[206, 240, 241, 242, 243, 244, 245, 246, 247, 248, 249, 250, 251, 252, 253]\n",
        "[205, 206, 237, 240, 241, 242, 243, 244, 245, 246, 247, 248, 249, 250, 251, 252, 253]"
       ]
      },
      {
       "output_type": "stream",
       "stream": "stdout",
       "text": [
        "\n",
        "original article tmp file "
       ]
      },
      {
       "output_type": "stream",
       "stream": "stdout",
       "text": [
        " /tmp/tmpVN8r5T.html\n",
        "/tmp/tmp6yMxes.html\n",
        "/tmp/tmpVN8r5T.html\n",
        "/tmp/tmpVN8r5T.html\n",
        "Now open file:///tmp/tmp6yMxes.html in your web browser\n"
       ]
      },
      {
       "output_type": "stream",
       "stream": "stdout",
       "text": [
        "\n",
        "{'heur': 232, 'boiler_pipe': 287, 'downloads_id': 419440474, 'crf': 102, 'python_readibilty': 113}"
       ]
      },
      {
       "output_type": "stream",
       "stream": "stdout",
       "text": [
        "\n",
        "downloads_id: 419483895\n",
        "[769, 772, 775, 778, 781, 784, 787, 790, 796, 799, 1579, 1621, 1625]"
       ]
      },
      {
       "output_type": "stream",
       "stream": "stdout",
       "text": [
        "\n",
        "[691, 769, 772, 775, 778, 781, 784, 787, 790]\n",
        "[691, 698, 703, 769, 772, 775, 778, 781, 784, 787, 790, 793, 796, 799]"
       ]
      },
      {
       "output_type": "stream",
       "stream": "stdout",
       "text": [
        "\n",
        "original article tmp file "
       ]
      },
      {
       "output_type": "stream",
       "stream": "stdout",
       "text": [
        " /tmp/tmplAWPBA.html\n",
        "/tmp/tmp0PfvnJ.html\n",
        "/tmp/tmplAWPBA.html\n",
        "/tmp/tmplAWPBA.html\n",
        "Now open file:///tmp/tmp0PfvnJ.html in your web browser\n"
       ]
      },
      {
       "output_type": "stream",
       "stream": "stdout",
       "text": [
        "\n",
        "{'heur': 260, 'boiler_pipe': 135, 'downloads_id': 419483895, 'crf': 368, 'python_readibilty': 76}"
       ]
      },
      {
       "output_type": "stream",
       "stream": "stdout",
       "text": [
        "\n",
        "downloads_id: 419873979\n",
        "[692, 696, 698, 699, 700, 701, 702, 703, 704, 705, 706, 707, 708, 709, 710, 711, 712, 713, 734, 793, 794]"
       ]
      },
      {
       "output_type": "stream",
       "stream": "stdout",
       "text": [
        "\n",
        "[692, 694, 696, 697, 698, 699, 700, 701, 702, 703, 704, 705, 706, 707, 708, 709, 710, 711, 712, 713, 734, 916]\n",
        "[692, 694, 696, 697, 698, 699, 700, 701, 702, 703, 704, 705, 706, 707, 708, 709, 710, 711, 712, 713]"
       ]
      },
      {
       "output_type": "stream",
       "stream": "stdout",
       "text": [
        "\n",
        "original article tmp file "
       ]
      },
      {
       "output_type": "stream",
       "stream": "stdout",
       "text": [
        " /tmp/tmp2wmZ7y.html\n",
        "/tmp/tmp1CMof1.html\n",
        "/tmp/tmp2wmZ7y.html\n",
        "/tmp/tmp2wmZ7y.html\n",
        "Now open file:///tmp/tmp1CMof1.html in your web browser\n"
       ]
      },
      {
       "output_type": "stream",
       "stream": "stdout",
       "text": [
        "\n",
        "{'heur': 462, 'boiler_pipe': 56, 'downloads_id': 419873979, 'crf': 118, 'python_readibilty': 958}"
       ]
      },
      {
       "output_type": "stream",
       "stream": "stdout",
       "text": [
        "\n",
        "downloads_id: 420430754\n",
        "[284, 287, 296, 336, 345, 354, 415, 424, 482, 573, 582, 615, 666, 669, 688, 689, 690, 751]"
       ]
      },
      {
       "output_type": "stream",
       "stream": "stdout",
       "text": [
        "\n",
        "[284, 287, 669, 688, 689, 690]\n",
        "[669, 675, 686, 688, 689, 690]"
       ]
      },
      {
       "output_type": "stream",
       "stream": "stdout",
       "text": [
        "\n",
        "original article tmp file "
       ]
      },
      {
       "output_type": "stream",
       "stream": "stdout",
       "text": [
        " /tmp/tmpqD7wgo.html\n",
        "/tmp/tmpbS1CUZ.html\n",
        "/tmp/tmpqD7wgo.html\n",
        "/tmp/tmpqD7wgo.html\n",
        "Now open file:///tmp/tmpbS1CUZ.html in your web browser\n"
       ]
      },
      {
       "output_type": "stream",
       "stream": "stdout",
       "text": [
        "\n",
        "{'heur': 1182, 'boiler_pipe': 170, 'downloads_id': 420430754, 'crf': 149, 'python_readibilty': 148}\n",
        "downloads_id: 420599387\n",
        "[244, 245, 256, 257, 258, 385, 393, 513, 518, 520]"
       ]
      },
      {
       "output_type": "stream",
       "stream": "stdout",
       "text": [
        "\n",
        "[244, 245, 255, 256, 257, 258]\n",
        "[244, 245, 255, 256, 257]"
       ]
      },
      {
       "output_type": "stream",
       "stream": "stdout",
       "text": [
        "\n",
        "original article tmp file "
       ]
      },
      {
       "output_type": "stream",
       "stream": "stdout",
       "text": [
        " /tmp/tmpQpCzQN.html\n",
        "/tmp/tmpEzXFBL.html\n",
        "/tmp/tmpQpCzQN.html\n",
        "/tmp/tmpQpCzQN.html\n",
        "Now open file:///tmp/tmpEzXFBL.html in your web browser\n"
       ]
      },
      {
       "output_type": "stream",
       "stream": "stdout",
       "text": [
        "\n",
        "{'heur': 1100, 'boiler_pipe': 1099, 'downloads_id': 420599387, 'crf': 259, 'python_readibilty': 1132}\n",
        "downloads_id: 420666122\n",
        "[287, 296, 298, 300, 302, 304, 307, 310, 317, 320, 323, 325]"
       ]
      },
      {
       "output_type": "stream",
       "stream": "stdout",
       "text": [
        "\n",
        "[254]\n",
        "[254, 255, 258, 283, 287, 296, 298, 300, 302, 304, 307, 310, 311, 312, 317, 320, 323, 325]"
       ]
      },
      {
       "output_type": "stream",
       "stream": "stdout",
       "text": [
        "\n",
        "original article tmp file "
       ]
      },
      {
       "output_type": "stream",
       "stream": "stdout",
       "text": [
        " /tmp/tmpSnABJK.html\n",
        "/tmp/tmpJUJ1cI.html\n",
        "/tmp/tmpSnABJK.html\n",
        "/tmp/tmpSnABJK.html\n",
        "Now open file:///tmp/tmpJUJ1cI.html in your web browser\n"
       ]
      },
      {
       "output_type": "stream",
       "stream": "stdout",
       "text": [
        "\n",
        "Unexpected error on string ' ' <class 'lxml.etree.ParserError'>\n",
        "Unexpected error on string ' ' <class 'lxml.etree.ParserError'>\n",
        "Unexpected error on string ' ' <class 'lxml.etree.ParserError'>\n",
        "Unexpected error on string ' ' <class 'lxml.etree.ParserError'>\n",
        "Unexpected error on string ' ' <class 'lxml.etree.ParserError'>\n",
        "Unexpected error on string ' ' <class 'lxml.etree.ParserError'>\n",
        "Unexpected error on string '<' <class 'lxml.etree.ParserError'>\n",
        "Unexpected error on string ' ' <class 'lxml.etree.ParserError'>\n",
        "Unexpected error on string '<' <class 'lxml.etree.ParserError'>\n",
        "Unexpected error on string ' ' <class 'lxml.etree.ParserError'>\n",
        "Unexpected error on string ' ' <class 'lxml.etree.ParserError'>\n",
        "Unexpected error on string ' ' <class 'lxml.etree.ParserError'>\n",
        "Unexpected error on string ' ' <class 'lxml.etree.ParserError'>\n",
        "Unexpected error on string ' ' <class 'lxml.etree.ParserError'>\n",
        "Unexpected error on string ' ' <class 'lxml.etree.ParserError'>\n",
        "Unexpected error on string '<' <class 'lxml.etree.ParserError'>\n",
        "Unexpected error on string '<' <class 'lxml.etree.ParserError'>\n",
        "{'heur': 536, 'boiler_pipe': 807, 'downloads_id': 420666122, 'crf': 5533, 'python_readibilty': 605}"
       ]
      },
      {
       "output_type": "stream",
       "stream": "stdout",
       "text": [
        "\n",
        "downloads_id: 421520860\n",
        "[446, 463, 473, 542, 549, 555, 556, 557, 667, 673, 679, 685, 691, 700, 706, 712, 718, 724, 733, 739, 745, 751, 757]"
       ]
      },
      {
       "output_type": "stream",
       "stream": "stdout",
       "text": [
        "\n",
        "[446, 448, 463, 473]\n",
        "[446, 448, 463, 473]"
       ]
      },
      {
       "output_type": "stream",
       "stream": "stdout",
       "text": [
        "\n",
        "original article tmp file "
       ]
      },
      {
       "output_type": "stream",
       "stream": "stdout",
       "text": [
        " /tmp/tmpZmbaat.html\n",
        "/tmp/tmp6jjoFs.html\n",
        "/tmp/tmpZmbaat.html\n",
        "/tmp/tmpZmbaat.html\n",
        "Now open file:///tmp/tmp6jjoFs.html in your web browser\n"
       ]
      },
      {
       "output_type": "stream",
       "stream": "stdout",
       "text": [
        "\n",
        "{'heur': 1379, 'boiler_pipe': 140, 'downloads_id': 421520860, 'crf': 0, 'python_readibilty': 104}\n",
        "downloads_id: 421834553\n",
        "[218, 284, 306]"
       ]
      },
      {
       "output_type": "stream",
       "stream": "stdout",
       "text": [
        "\n",
        "[306]\n",
        "[282, 283, 284, 304, 305, 306]"
       ]
      },
      {
       "output_type": "stream",
       "stream": "stdout",
       "text": [
        "\n",
        "original article tmp file "
       ]
      },
      {
       "output_type": "stream",
       "stream": "stdout",
       "text": [
        " /tmp/tmpKKNwfh.html\n",
        "/tmp/tmpyHdyFk.html\n",
        "/tmp/tmpKKNwfh.html\n",
        "/tmp/tmpKKNwfh.html\n",
        "Now open file:///tmp/tmpyHdyFk.html in your web browser\n"
       ]
      },
      {
       "output_type": "stream",
       "stream": "stdout",
       "text": [
        "\n",
        "Unexpected error on string '<' <class 'lxml.etree.ParserError'>\n",
        "Unexpected error on string ' ' <class 'lxml.etree.ParserError'>\n",
        "Unexpected error on string ' ' <class 'lxml.etree.ParserError'>\n",
        "Unexpected error on string '<' <class 'lxml.etree.ParserError'>\n",
        "Unexpected error on string ' ' <class 'lxml.etree.ParserError'>\n",
        "Unexpected error on string '<' <class 'lxml.etree.ParserError'>\n",
        "Unexpected error on string ' ' <class 'lxml.etree.ParserError'>\n",
        "Unexpected error on string '<' <class 'lxml.etree.ParserError'>\n",
        "Unexpected error on string ' ' <class 'lxml.etree.ParserError'>\n",
        "Unexpected error on string ' ' <class 'lxml.etree.ParserError'>\n",
        "Unexpected error on string ' ' <class 'lxml.etree.ParserError'>\n",
        "Unexpected error on string ' ' <class 'lxml.etree.ParserError'>\n",
        "Unexpected error on string ' ' <class 'lxml.etree.ParserError'>\n",
        "Unexpected error on string ' ' <class 'lxml.etree.ParserError'>\n",
        "Unexpected error on string ' ' <class 'lxml.etree.ParserError'>\n",
        "Unexpected error on string ' ' <class 'lxml.etree.ParserError'>\n",
        "Unexpected error on string ' ' <class 'lxml.etree.ParserError'>\n",
        "Unexpected error on string ' ' <class 'lxml.etree.ParserError'>\n",
        "Unexpected error on string ' ' <class 'lxml.etree.ParserError'>\n",
        "Unexpected error on string ' ' <class 'lxml.etree.ParserError'>\n",
        "Unexpected error on string ' ' <class 'lxml.etree.ParserError'>\n",
        "Unexpected error on string ' ' <class 'lxml.etree.ParserError'>\n",
        "Unexpected error on string ' ' <class 'lxml.etree.ParserError'>\n",
        "Unexpected error on string ' ' <class 'lxml.etree.ParserError'>\n",
        "Unexpected error on string ' ' <class 'lxml.etree.ParserError'>\n",
        "Unexpected error on string ' ' <class 'lxml.etree.ParserError'>\n",
        "Unexpected error on string ' ' <class 'lxml.etree.ParserError'>\n",
        "Unexpected error on string ' ' <class 'lxml.etree.ParserError'>\n",
        "Unexpected error on string ' ' <class 'lxml.etree.ParserError'>\n",
        "Unexpected error on string ' ' <class 'lxml.etree.ParserError'>\n",
        "Unexpected error on string ' ' <class 'lxml.etree.ParserError'>\n",
        "Unexpected error on string ' ' <class 'lxml.etree.ParserError'>\n",
        "Unexpected error on string ' ' <class 'lxml.etree.ParserError'>\n",
        "Unexpected error on string ' ' <class 'lxml.etree.ParserError'>\n",
        "Unexpected error on string ' ' <class 'lxml.etree.ParserError'>\n",
        "Unexpected error on string ' ' <class 'lxml.etree.ParserError'>\n",
        "Unexpected error on string ' ' <class 'lxml.etree.ParserError'>\n",
        "Unexpected error on string ' ' <class 'lxml.etree.ParserError'>\n",
        "Unexpected error on string ' ' <class 'lxml.etree.ParserError'>\n",
        "Unexpected error on string ' ' <class 'lxml.etree.ParserError'>\n",
        "Unexpected error on string ' ' <class 'lxml.etree.ParserError'>\n",
        "Unexpected error on string ' ' <class 'lxml.etree.ParserError'>\n",
        "Unexpected error on string '<' <class 'lxml.etree.ParserError'>\n",
        "Unexpected error on string ' ' <class 'lxml.etree.ParserError'>\n",
        "Unexpected error on string '<' <class 'lxml.etree.ParserError'>\n",
        "Unexpected error on string ' ' <class 'lxml.etree.ParserError'>\n",
        "Unexpected error on string ' ' <class 'lxml.etree.ParserError'>\n",
        "Unexpected error on string ' ' <class 'lxml.etree.ParserError'>\n",
        "Unexpected error on string ' ' <class 'lxml.etree.ParserError'>\n",
        "Unexpected error on string ' ' <class 'lxml.etree.ParserError'>\n",
        "Unexpected error on string ' ' <class 'lxml.etree.ParserError'>\n",
        "Unexpected error on string ' ' <class 'lxml.etree.ParserError'>\n",
        "Unexpected error on string ' ' <class 'lxml.etree.ParserError'>\n",
        "Unexpected error on string ' ' <class 'lxml.etree.ParserError'>\n",
        "Unexpected error on string ' ' <class 'lxml.etree.ParserError'>\n",
        "Unexpected error on string ' ' <class 'lxml.etree.ParserError'>\n",
        "Unexpected error on string ' ' <class 'lxml.etree.ParserError'>\n",
        "Unexpected error on string ' ' <class 'lxml.etree.ParserError'>\n",
        "Unexpected error on string ' ' <class 'lxml.etree.ParserError'>\n",
        "Unexpected error on string ' ' <class 'lxml.etree.ParserError'>\n",
        "Unexpected error on string ' ' <class 'lxml.etree.ParserError'>\n",
        "Unexpected error on string ' ' <class 'lxml.etree.ParserError'>\n",
        "Unexpected error on string ' ' <class 'lxml.etree.ParserError'>\n",
        "Unexpected error on string ' ' <class 'lxml.etree.ParserError'>\n",
        "Unexpected error on string ' ' <class 'lxml.etree.ParserError'>\n",
        "Unexpected error on string ' ' <class 'lxml.etree.ParserError'>\n",
        "Unexpected error on string ' ' <class 'lxml.etree.ParserError'>\n",
        "Unexpected error on string ' ' <class 'lxml.etree.ParserError'>\n",
        "Unexpected error on string ' ' <class 'lxml.etree.ParserError'>\n",
        "Unexpected error on string ' ' <class 'lxml.etree.ParserError'>\n",
        "Unexpected error on string ' ' <class 'lxml.etree.ParserError'>\n",
        "Unexpected error on string ' ' <class 'lxml.etree.ParserError'>\n",
        "Unexpected error on string ' ' <class 'lxml.etree.ParserError'>\n",
        "Unexpected error on string ' ' <class 'lxml.etree.ParserError'>\n",
        "Unexpected error on string ' ' <class 'lxml.etree.ParserError'>\n",
        "Unexpected error on string ' ' <class 'lxml.etree.ParserError'>\n",
        "Unexpected error on string ' ' <class 'lxml.etree.ParserError'>\n",
        "Unexpected error on string ' ' <class 'lxml.etree.ParserError'>\n",
        "Unexpected error on string ' ' <class 'lxml.etree.ParserError'>\n",
        "Unexpected error on string ' ' <class 'lxml.etree.ParserError'>\n",
        "Unexpected error on string ' ' <class 'lxml.etree.ParserError'>\n",
        "Unexpected error on string ' ' <class 'lxml.etree.ParserError'>\n",
        "Unexpected error on string ' ' <class 'lxml.etree.ParserError'>\n",
        "Unexpected error on string ' ' <class 'lxml.etree.ParserError'>\n",
        "Unexpected error on string ' ' <class 'lxml.etree.ParserError'>\n",
        "Unexpected error on string ' ' <class 'lxml.etree.ParserError'>\n",
        "Unexpected error on string ' ' <class 'lxml.etree.ParserError'>\n",
        "Unexpected error on string ' ' <class 'lxml.etree.ParserError'>\n",
        "Unexpected error on string ' ' <class 'lxml.etree.ParserError'>\n",
        "Unexpected error on string '<' <class 'lxml.etree.ParserError'>\n",
        "Unexpected error on string ' ' <class 'lxml.etree.ParserError'>\n",
        "Unexpected error on string '<' <class 'lxml.etree.ParserError'>\n",
        "Unexpected error on string ' ' <class 'lxml.etree.ParserError'>\n",
        "Unexpected error on string ' ' <class 'lxml.etree.ParserError'>\n",
        "Unexpected error on string ' ' <class 'lxml.etree.ParserError'>\n",
        "Unexpected error on string ' ' <class 'lxml.etree.ParserError'>\n",
        "Unexpected error on string ' ' <class 'lxml.etree.ParserError'>\n",
        "Unexpected error on string ' ' <class 'lxml.etree.ParserError'>\n",
        "Unexpected error on string ' ' <class 'lxml.etree.ParserError'>\n",
        "Unexpected error on string ' ' <class 'lxml.etree.ParserError'>\n",
        "Unexpected error on string ' ' <class 'lxml.etree.ParserError'>\n",
        "Unexpected error on string ' ' <class 'lxml.etree.ParserError'>\n",
        "Unexpected error on string ' ' <class 'lxml.etree.ParserError'>\n",
        "Unexpected error on string ' ' <class 'lxml.etree.ParserError'>\n",
        "Unexpected error on string ' ' <class 'lxml.etree.ParserError'>\n",
        "Unexpected error on string ' ' <class 'lxml.etree.ParserError'>\n",
        "Unexpected error on string ' ' <class 'lxml.etree.ParserError'>\n",
        "Unexpected error on string ' ' <class 'lxml.etree.ParserError'>\n",
        "Unexpected error on string ' ' <class 'lxml.etree.ParserError'>\n",
        "Unexpected error on string ' ' <class 'lxml.etree.ParserError'>\n",
        "Unexpected error on string ' '"
       ]
      },
      {
       "output_type": "stream",
       "stream": "stdout",
       "text": [
        " <class 'lxml.etree.ParserError'>\n",
        "Unexpected error on string ' ' <class 'lxml.etree.ParserError'>\n",
        "Unexpected error on string ' ' <class 'lxml.etree.ParserError'>\n",
        "Unexpected error on string ' ' <class 'lxml.etree.ParserError'>\n",
        "Unexpected error on string ' ' <class 'lxml.etree.ParserError'>\n",
        "Unexpected error on string ' ' <class 'lxml.etree.ParserError'>\n",
        "Unexpected error on string ' ' <class 'lxml.etree.ParserError'>\n",
        "Unexpected error on string ' ' <class 'lxml.etree.ParserError'>\n",
        "Unexpected error on string ' ' <class 'lxml.etree.ParserError'>\n",
        "Unexpected error on string ' ' <class 'lxml.etree.ParserError'>\n",
        "Unexpected error on string ' ' <class 'lxml.etree.ParserError'>\n",
        "Unexpected error on string ' ' <class 'lxml.etree.ParserError'>\n",
        "Unexpected error on string ' ' <class 'lxml.etree.ParserError'>\n",
        "Unexpected error on string ' ' <class 'lxml.etree.ParserError'>\n",
        "Unexpected error on string ' ' <class 'lxml.etree.ParserError'>\n",
        "Unexpected error on string ' ' <class 'lxml.etree.ParserError'>\n",
        "Unexpected error on string ' ' <class 'lxml.etree.ParserError'>\n",
        "Unexpected error on string ' ' <class 'lxml.etree.ParserError'>\n",
        "Unexpected error on string ' ' <class 'lxml.etree.ParserError'>\n",
        "Unexpected error on string ' ' <class 'lxml.etree.ParserError'>\n",
        "Unexpected error on string ' ' <class 'lxml.etree.ParserError'>\n",
        "Unexpected error on string ' ' <class 'lxml.etree.ParserError'>\n",
        "Unexpected error on string ' ' <class 'lxml.etree.ParserError'>\n",
        "Unexpected error on string ' ' <class 'lxml.etree.ParserError'>\n",
        "Unexpected error on string ' ' <class 'lxml.etree.ParserError'>\n",
        "Unexpected error on string ' ' <class 'lxml.etree.ParserError'>\n",
        "Unexpected error on string ' ' <class 'lxml.etree.ParserError'>\n",
        "Unexpected error on string ' ' <class 'lxml.etree.ParserError'>\n",
        "Unexpected error on string ' ' <class 'lxml.etree.ParserError'>\n",
        "Unexpected error on string ' ' <class 'lxml.etree.ParserError'>\n",
        "Unexpected error on string ' ' <class 'lxml.etree.ParserError'>\n",
        "Unexpected error on string ' ' <class 'lxml.etree.ParserError'>\n",
        "Unexpected error on string ' ' <class 'lxml.etree.ParserError'>\n",
        "Unexpected error on string ' ' <class 'lxml.etree.ParserError'>\n",
        "Unexpected error on string ' ' <class 'lxml.etree.ParserError'>\n",
        "Unexpected error on string ' ' <class 'lxml.etree.ParserError'>\n",
        "Unexpected error on string ' ' <class 'lxml.etree.ParserError'>\n",
        "Unexpected error on string ' ' <class 'lxml.etree.ParserError'>\n",
        "Unexpected error on string ' ' <class 'lxml.etree.ParserError'>\n",
        "Unexpected error on string ' ' <class 'lxml.etree.ParserError'>\n",
        "Unexpected error on string ' ' <class 'lxml.etree.ParserError'>\n",
        "Unexpected error on string ' ' <class 'lxml.etree.ParserError'>\n",
        "Unexpected error on string ' ' <class 'lxml.etree.ParserError'>\n",
        "Unexpected error on string ' ' <class 'lxml.etree.ParserError'>\n",
        "Unexpected error on string ' ' <class 'lxml.etree.ParserError'>\n",
        "Unexpected error on string ' ' <class 'lxml.etree.ParserError'>\n",
        "Unexpected error on string ' ' <class 'lxml.etree.ParserError'>\n",
        "Unexpected error on string ' ' <class 'lxml.etree.ParserError'>\n",
        "Unexpected error on string ' ' <class 'lxml.etree.ParserError'>\n",
        "Unexpected error on string ' ' <class 'lxml.etree.ParserError'>\n",
        "Unexpected error on string ' ' <class 'lxml.etree.ParserError'>\n",
        "Unexpected error on string ' ' <class 'lxml.etree.ParserError'>\n",
        "Unexpected error on string ' ' <class 'lxml.etree.ParserError'>\n",
        "Unexpected error on string ' ' <class 'lxml.etree.ParserError'>\n",
        "Unexpected error on string '<' <class 'lxml.etree.ParserError'>\n",
        "Unexpected error on string ' ' <class 'lxml.etree.ParserError'>\n",
        "Unexpected error on string '<' <class 'lxml.etree.ParserError'>\n",
        "Unexpected error on string ' ' <class 'lxml.etree.ParserError'>\n",
        "Unexpected error on string ' ' <class 'lxml.etree.ParserError'>\n",
        "Unexpected error on string ' ' <class 'lxml.etree.ParserError'>\n",
        "Unexpected error on string ' ' <class 'lxml.etree.ParserError'>\n",
        "Unexpected error on string ' ' <class 'lxml.etree.ParserError'>\n",
        "Unexpected error on string ' ' <class 'lxml.etree.ParserError'>\n",
        "Unexpected error on string ' ' <class 'lxml.etree.ParserError'>\n",
        "Unexpected error on string ' ' <class 'lxml.etree.ParserError'>\n",
        "Unexpected error on string ' ' <class 'lxml.etree.ParserError'>\n",
        "Unexpected error on string '<' <class 'lxml.etree.ParserError'>\n",
        "Unexpected error on string ' ' <class 'lxml.etree.ParserError'>\n",
        "Unexpected error on string '<' <class 'lxml.etree.ParserError'>\n",
        "Unexpected error on string ' ' <class 'lxml.etree.ParserError'>\n",
        "Unexpected error on string ' ' <class 'lxml.etree.ParserError'>\n",
        "Unexpected error on string ' ' <class 'lxml.etree.ParserError'>\n",
        "Unexpected error on string ' ' <class 'lxml.etree.ParserError'>\n",
        "Unexpected error on string ' ' <class 'lxml.etree.ParserError'>\n",
        "Unexpected error on string ' ' <class 'lxml.etree.ParserError'>\n",
        "Unexpected error on string ' ' <class 'lxml.etree.ParserError'>\n",
        "Unexpected error on string ' ' <class 'lxml.etree.ParserError'>\n",
        "Unexpected error on string ' ' <class 'lxml.etree.ParserError'>\n",
        "Unexpected error on string ' ' <class 'lxml.etree.ParserError'>\n",
        "Unexpected error on string '<' <class 'lxml.etree.ParserError'>\n",
        "Unexpected error on string ' ' <class 'lxml.etree.ParserError'>\n",
        "Unexpected error on string '<' <class 'lxml.etree.ParserError'>\n",
        "Unexpected error on string ' ' <class 'lxml.etree.ParserError'>\n",
        "Unexpected error on string ' ' <class 'lxml.etree.ParserError'>\n",
        "Unexpected error on string ' ' <class 'lxml.etree.ParserError'>\n",
        "Unexpected error on string ' ' <class 'lxml.etree.ParserError'>\n",
        "Unexpected error on string ' ' <class 'lxml.etree.ParserError'>\n",
        "Unexpected error on string ' ' <class 'lxml.etree.ParserError'>\n",
        "Unexpected error on string ' ' <class 'lxml.etree.ParserError'>\n",
        "Unexpected error on string ' ' <class 'lxml.etree.ParserError'>\n",
        "Unexpected error on string ' ' <class 'lxml.etree.ParserError'>\n",
        "Unexpected error on string '<' <class 'lxml.etree.ParserError'>\n",
        "Unexpected error on string ' ' <class 'lxml.etree.ParserError'>\n",
        "Unexpected error on string '<' <class 'lxml.etree.ParserError'>\n",
        "Unexpected error on string ' ' <class 'lxml.etree.ParserError'>\n",
        "Unexpected error on string ' ' <class 'lxml.etree.ParserError'>\n",
        "Unexpected error on string ' ' <class 'lxml.etree.ParserError'>\n",
        "Unexpected error on string ' ' <class 'lxml.etree.ParserError'>\n",
        "Unexpected error on string ' ' <class 'lxml.etree.ParserError'>\n",
        "Unexpected error on string ' ' <class 'lxml.etree.ParserError'>\n",
        "Unexpected error on string ' ' <class 'lxml.etree.ParserError'>\n",
        "Unexpected error on string ' ' <class 'lxml.etree.ParserError'>\n",
        "Unexpected error on string ' ' <class 'lxml.etree.ParserError'>\n",
        "Unexpected error on string ' ' <class 'lxml.etree.ParserError'>\n",
        "Unexpected error on string ' ' <class 'lxml.etree.ParserError'>\n",
        "Unexpected error on string '<' <class 'lxml.etree.ParserError'>\n",
        "Unexpected error on string ' ' <class 'lxml.etree.ParserError'>\n",
        "Unexpected error on string '<' <class 'lxml.etree.ParserError'>\n",
        "Unexpected error on string ' ' <class 'lxml.etree.ParserError'>\n",
        "Unexpected error on string ' ' <class 'lxml.etree.ParserError'>\n",
        "Unexpected error on string ' ' <class 'lxml.etree.ParserError'>\n",
        "Unexpected error on string ' ' <class 'lxml.etree.ParserError'>\n",
        "Unexpected error on string ' ' <class 'lxml.etree.ParserError'>\n",
        "Unexpected error on string ' ' <class 'lxml.etree.ParserError'>\n",
        "Unexpected error on string ' ' <class 'lxml.etree.ParserError'>\n",
        "Unexpected error on string ' ' <class 'lxml.etree.ParserError'>\n",
        "Unexpected error on string ' ' <class 'lxml.etree.ParserError'>\n",
        "Unexpected error on string ' ' <class 'lxml.etree.ParserError'>\n",
        "Unexpected error on string ' ' <class 'lxml.etree.ParserError'>\n",
        "Unexpected error on string ' ' <class 'lxml.etree.ParserError'>\n",
        "Unexpected error on string ' ' <class 'lxml.etree.ParserError'>\n",
        "Unexpected error on string ' ' <class 'lxml.etree.ParserError'>\n",
        "Unexpected error on string ' ' <class 'lxml.etree.ParserError'>\n",
        "Unexpected error on string ' ' <class 'lxml.etree.ParserError'>\n",
        "Unexpected error on string ' ' <class 'lxml.etree.ParserError'>\n",
        "Unexpected error on string ' ' <class 'lxml.etree.ParserError'>\n",
        "Unexpected error on string ' ' <class 'lxml.etree.ParserError'>\n",
        "Unexpected error on string ' ' <class 'lxml.etree.ParserError'>\n",
        "Unexpected error on string ' ' <class 'lxml.etree.ParserError'>\n",
        "Unexpected error on string ' ' <class 'lxml.etree.ParserError'>\n",
        "Unexpected error on string ' '"
       ]
      },
      {
       "output_type": "stream",
       "stream": "stdout",
       "text": [
        " <class 'lxml.etree.ParserError'>\n",
        "Unexpected error on string ' ' <class 'lxml.etree.ParserError'>\n",
        "Unexpected error on string ' ' <class 'lxml.etree.ParserError'>\n",
        "Unexpected error on string ' ' <class 'lxml.etree.ParserError'>\n",
        "Unexpected error on string ' ' <class 'lxml.etree.ParserError'>\n",
        "Unexpected error on string ' ' <class 'lxml.etree.ParserError'>\n",
        "Unexpected error on string ' ' <class 'lxml.etree.ParserError'>\n",
        "Unexpected error on string ' ' <class 'lxml.etree.ParserError'>\n",
        "Unexpected error on string ' ' <class 'lxml.etree.ParserError'>\n",
        "Unexpected error on string ' ' <class 'lxml.etree.ParserError'>\n",
        "Unexpected error on string ' ' <class 'lxml.etree.ParserError'>\n",
        "Unexpected error on string ' ' <class 'lxml.etree.ParserError'>\n",
        "Unexpected error on string ' ' <class 'lxml.etree.ParserError'>\n",
        "Unexpected error on string ' ' <class 'lxml.etree.ParserError'>\n",
        "Unexpected error on string ' ' <class 'lxml.etree.ParserError'>\n",
        "Unexpected error on string ' ' <class 'lxml.etree.ParserError'>\n",
        "Unexpected error on string ' ' <class 'lxml.etree.ParserError'>\n",
        "Unexpected error on string ' ' <class 'lxml.etree.ParserError'>\n",
        "Unexpected error on string ' ' <class 'lxml.etree.ParserError'>\n",
        "Unexpected error on string ' ' <class 'lxml.etree.ParserError'>\n",
        "Unexpected error on string ' ' <class 'lxml.etree.ParserError'>\n",
        "Unexpected error on string ' ' <class 'lxml.etree.ParserError'>\n",
        "Unexpected error on string ' ' <class 'lxml.etree.ParserError'>\n",
        "Unexpected error on string ' ' <class 'lxml.etree.ParserError'>\n",
        "Unexpected error on string ' ' <class 'lxml.etree.ParserError'>\n",
        "Unexpected error on string ' ' <class 'lxml.etree.ParserError'>\n",
        "Unexpected error on string ' ' <class 'lxml.etree.ParserError'>\n",
        "Unexpected error on string ' ' <class 'lxml.etree.ParserError'>\n",
        "Unexpected error on string ' ' <class 'lxml.etree.ParserError'>\n",
        "Unexpected error on string ' ' <class 'lxml.etree.ParserError'>\n",
        "Unexpected error on string ' ' <class 'lxml.etree.ParserError'>\n",
        "Unexpected error on string ' ' <class 'lxml.etree.ParserError'>\n",
        "Unexpected error on string ' ' <class 'lxml.etree.ParserError'>\n",
        "Unexpected error on string ' ' <class 'lxml.etree.ParserError'>\n",
        "Unexpected error on string ' ' <class 'lxml.etree.ParserError'>\n",
        "Unexpected error on string ' ' <class 'lxml.etree.ParserError'>\n",
        "Unexpected error on string ' ' <class 'lxml.etree.ParserError'>\n",
        "Unexpected error on string ' ' <class 'lxml.etree.ParserError'>\n",
        "Unexpected error on string ' ' <class 'lxml.etree.ParserError'>\n",
        "Unexpected error on string ' ' <class 'lxml.etree.ParserError'>\n",
        "Unexpected error on string ' ' <class 'lxml.etree.ParserError'>\n",
        "Unexpected error on string ' ' <class 'lxml.etree.ParserError'>\n",
        "Unexpected error on string ' ' <class 'lxml.etree.ParserError'>\n",
        "Unexpected error on string ' ' <class 'lxml.etree.ParserError'>\n",
        "Unexpected error on string ' ' <class 'lxml.etree.ParserError'>\n",
        "Unexpected error on string ' ' <class 'lxml.etree.ParserError'>\n",
        "Unexpected error on string ' ' <class 'lxml.etree.ParserError'>\n",
        "Unexpected error on string ' ' <class 'lxml.etree.ParserError'>\n",
        "Unexpected error on string ' ' <class 'lxml.etree.ParserError'>\n",
        "Unexpected error on string ' ' <class 'lxml.etree.ParserError'>\n",
        "Unexpected error on string ' ' <class 'lxml.etree.ParserError'>\n",
        "Unexpected error on string ' ' <class 'lxml.etree.ParserError'>\n",
        "Unexpected error on string ' ' <class 'lxml.etree.ParserError'>\n",
        "Unexpected error on string ' ' <class 'lxml.etree.ParserError'>\n",
        "Unexpected error on string ' ' <class 'lxml.etree.ParserError'>\n",
        "Unexpected error on string ' ' <class 'lxml.etree.ParserError'>\n",
        "Unexpected error on string ' ' <class 'lxml.etree.ParserError'>\n",
        "Unexpected error on string ' ' <class 'lxml.etree.ParserError'>\n",
        "Unexpected error on string ' ' <class 'lxml.etree.ParserError'>\n",
        "Unexpected error on string ' ' <class 'lxml.etree.ParserError'>\n",
        "Unexpected error on string ' ' <class 'lxml.etree.ParserError'>\n",
        "Unexpected error on string ' ' <class 'lxml.etree.ParserError'>\n",
        "Unexpected error on string ' ' <class 'lxml.etree.ParserError'>\n",
        "Unexpected error on string ' ' <class 'lxml.etree.ParserError'>\n",
        "Unexpected error on string ' ' <class 'lxml.etree.ParserError'>\n",
        "Unexpected error on string ' ' <class 'lxml.etree.ParserError'>\n",
        "Unexpected error on string ' ' <class 'lxml.etree.ParserError'>\n",
        "Unexpected error on string ' ' <class 'lxml.etree.ParserError'>\n",
        "Unexpected error on string ' ' <class 'lxml.etree.ParserError'>\n",
        "Unexpected error on string ' ' <class 'lxml.etree.ParserError'>\n",
        "Unexpected error on string ' ' <class 'lxml.etree.ParserError'>\n",
        "Unexpected error on string ' ' <class 'lxml.etree.ParserError'>\n",
        "Unexpected error on string ' ' <class 'lxml.etree.ParserError'>\n",
        "Unexpected error on string ' ' <class 'lxml.etree.ParserError'>\n",
        "Unexpected error on string ' ' <class 'lxml.etree.ParserError'>\n",
        "Unexpected error on string ' ' <class 'lxml.etree.ParserError'>\n",
        "Unexpected error on string ' ' <class 'lxml.etree.ParserError'>\n",
        "Unexpected error on string '<' <class 'lxml.etree.ParserError'>\n",
        "Unexpected error on string ' ' <class 'lxml.etree.ParserError'>\n",
        "Unexpected error on string '<' <class 'lxml.etree.ParserError'>\n",
        "Unexpected error on string ' ' <class 'lxml.etree.ParserError'>\n",
        "Unexpected error on string ' ' <class 'lxml.etree.ParserError'>\n",
        "Unexpected error on string ' ' <class 'lxml.etree.ParserError'>\n",
        "Unexpected error on string ' ' <class 'lxml.etree.ParserError'>\n",
        "Unexpected error on string ' ' <class 'lxml.etree.ParserError'>\n",
        "Unexpected error on string ' ' <class 'lxml.etree.ParserError'>\n",
        "Unexpected error on string ' ' <class 'lxml.etree.ParserError'>\n",
        "Unexpected error on string ' ' <class 'lxml.etree.ParserError'>\n",
        "Unexpected error on string ' ' <class 'lxml.etree.ParserError'>\n",
        "Unexpected error on string ' ' <class 'lxml.etree.ParserError'>\n",
        "Unexpected error on string ' ' <class 'lxml.etree.ParserError'>\n",
        "Unexpected error on string ' ' <class 'lxml.etree.ParserError'>\n",
        "Unexpected error on string ' ' <class 'lxml.etree.ParserError'>\n",
        "Unexpected error on string ' ' <class 'lxml.etree.ParserError'>\n",
        "Unexpected error on string ' ' <class 'lxml.etree.ParserError'>\n",
        "Unexpected error on string ' ' <class 'lxml.etree.ParserError'>\n",
        "Unexpected error on string ' ' <class 'lxml.etree.ParserError'>\n",
        "Unexpected error on string ' ' <class 'lxml.etree.ParserError'>\n",
        "Unexpected error on string ' ' <class 'lxml.etree.ParserError'>\n",
        "Unexpected error on string ' ' <class 'lxml.etree.ParserError'>\n",
        "Unexpected error on string ' ' <class 'lxml.etree.ParserError'>\n",
        "Unexpected error on string ' ' <class 'lxml.etree.ParserError'>\n",
        "Unexpected error on string ' ' <class 'lxml.etree.ParserError'>\n",
        "Unexpected error on string ' ' <class 'lxml.etree.ParserError'>\n",
        "Unexpected error on string ' ' <class 'lxml.etree.ParserError'>\n",
        "Unexpected error on string ' ' <class 'lxml.etree.ParserError'>\n",
        "Unexpected error on string ' ' <class 'lxml.etree.ParserError'>\n",
        "Unexpected error on string ' ' <class 'lxml.etree.ParserError'>\n",
        "Unexpected error on string ' ' <class 'lxml.etree.ParserError'>\n",
        "Unexpected error on string ' ' <class 'lxml.etree.ParserError'>\n",
        "Unexpected error on string ' ' <class 'lxml.etree.ParserError'>\n",
        "Unexpected error on string ' ' <class 'lxml.etree.ParserError'>\n",
        "Unexpected error on string ' ' <class 'lxml.etree.ParserError'>\n",
        "Unexpected error on string ' ' <class 'lxml.etree.ParserError'>\n",
        "Unexpected error on string ' ' <class 'lxml.etree.ParserError'>\n",
        "Unexpected error on string ' ' <class 'lxml.etree.ParserError'>\n",
        "Unexpected error on string ' ' <class 'lxml.etree.ParserError'>\n",
        "Unexpected error on string ' ' <class 'lxml.etree.ParserError'>\n",
        "Unexpected error on string ' ' <class 'lxml.etree.ParserError'>\n",
        "Unexpected error on string ' '"
       ]
      },
      {
       "output_type": "stream",
       "stream": "stdout",
       "text": [
        " <class 'lxml.etree.ParserError'>\n",
        "Unexpected error on string ' ' <class 'lxml.etree.ParserError'>\n",
        "Unexpected error on string ' ' <class 'lxml.etree.ParserError'>\n",
        "Unexpected error on string ' ' <class 'lxml.etree.ParserError'>\n",
        "Unexpected error on string ' ' <class 'lxml.etree.ParserError'>\n",
        "Unexpected error on string ' ' <class 'lxml.etree.ParserError'>\n",
        "Unexpected error on string ' ' <class 'lxml.etree.ParserError'>\n",
        "Unexpected error on string ' ' <class 'lxml.etree.ParserError'>\n",
        "Unexpected error on string ' ' <class 'lxml.etree.ParserError'>\n",
        "Unexpected error on string ' ' <class 'lxml.etree.ParserError'>\n",
        "Unexpected error on string ' ' <class 'lxml.etree.ParserError'>\n",
        "Unexpected error on string ' ' <class 'lxml.etree.ParserError'>\n",
        "Unexpected error on string ' ' <class 'lxml.etree.ParserError'>\n",
        "Unexpected error on string ' ' <class 'lxml.etree.ParserError'>\n",
        "Unexpected error on string ' ' <class 'lxml.etree.ParserError'>\n",
        "Unexpected error on string ' ' <class 'lxml.etree.ParserError'>\n",
        "Unexpected error on string ' ' <class 'lxml.etree.ParserError'>\n",
        "Unexpected error on string ' ' <class 'lxml.etree.ParserError'>\n",
        "Unexpected error on string ' ' <class 'lxml.etree.ParserError'>\n",
        "Unexpected error on string ' ' <class 'lxml.etree.ParserError'>\n",
        "Unexpected error on string ' ' <class 'lxml.etree.ParserError'>\n",
        "Unexpected error on string ' ' <class 'lxml.etree.ParserError'>\n",
        "Unexpected error on string ' ' <class 'lxml.etree.ParserError'>\n",
        "Unexpected error on string ' ' <class 'lxml.etree.ParserError'>\n",
        "Unexpected error on string ' ' <class 'lxml.etree.ParserError'>\n",
        "Unexpected error on string ' ' <class 'lxml.etree.ParserError'>\n",
        "Unexpected error on string ' ' <class 'lxml.etree.ParserError'>\n",
        "Unexpected error on string ' ' <class 'lxml.etree.ParserError'>\n",
        "Unexpected error on string ' ' <class 'lxml.etree.ParserError'>\n",
        "Unexpected error on string ' ' <class 'lxml.etree.ParserError'>\n",
        "Unexpected error on string ' ' <class 'lxml.etree.ParserError'>\n",
        "Unexpected error on string ' ' <class 'lxml.etree.ParserError'>\n",
        "Unexpected error on string ' ' <class 'lxml.etree.ParserError'>\n",
        "Unexpected error on string ' ' <class 'lxml.etree.ParserError'>\n",
        "Unexpected error on string ' ' <class 'lxml.etree.ParserError'>\n",
        "Unexpected error on string ' ' <class 'lxml.etree.ParserError'>\n",
        "Unexpected error on string ' ' <class 'lxml.etree.ParserError'>\n",
        "Unexpected error on string ' ' <class 'lxml.etree.ParserError'>\n",
        "Unexpected error on string ' ' <class 'lxml.etree.ParserError'>\n",
        "Unexpected error on string ' ' <class 'lxml.etree.ParserError'>\n",
        "Unexpected error on string ' ' <class 'lxml.etree.ParserError'>\n",
        "Unexpected error on string '<' <class 'lxml.etree.ParserError'>\n",
        "Unexpected error on string ' ' <class 'lxml.etree.ParserError'>\n",
        "Unexpected error on string '<' <class 'lxml.etree.ParserError'>\n",
        "Unexpected error on string ' ' <class 'lxml.etree.ParserError'>\n",
        "Unexpected error on string ' ' <class 'lxml.etree.ParserError'>\n",
        "Unexpected error on string ' ' <class 'lxml.etree.ParserError'>\n",
        "Unexpected error on string ' ' <class 'lxml.etree.ParserError'>\n",
        "Unexpected error on string ' ' <class 'lxml.etree.ParserError'>\n",
        "Unexpected error on string ' ' <class 'lxml.etree.ParserError'>\n",
        "Unexpected error on string ' ' <class 'lxml.etree.ParserError'>\n",
        "Unexpected error on string ' ' <class 'lxml.etree.ParserError'>\n",
        "Unexpected error on string ' ' <class 'lxml.etree.ParserError'>\n",
        "Unexpected error on string ' ' <class 'lxml.etree.ParserError'>\n",
        "Unexpected error on string ' ' <class 'lxml.etree.ParserError'>\n",
        "Unexpected error on string ' ' <class 'lxml.etree.ParserError'>\n",
        "Unexpected error on string ' ' <class 'lxml.etree.ParserError'>\n",
        "Unexpected error on string ' ' <class 'lxml.etree.ParserError'>\n",
        "Unexpected error on string ' ' <class 'lxml.etree.ParserError'>\n",
        "Unexpected error on string ' ' <class 'lxml.etree.ParserError'>\n",
        "Unexpected error on string ' ' <class 'lxml.etree.ParserError'>\n",
        "Unexpected error on string ' ' <class 'lxml.etree.ParserError'>\n",
        "Unexpected error on string ' ' <class 'lxml.etree.ParserError'>\n",
        "Unexpected error on string ' ' <class 'lxml.etree.ParserError'>\n",
        "Unexpected error on string ' ' <class 'lxml.etree.ParserError'>\n",
        "Unexpected error on string ' ' <class 'lxml.etree.ParserError'>\n",
        "Unexpected error on string ' ' <class 'lxml.etree.ParserError'>\n",
        "Unexpected error on string ' ' <class 'lxml.etree.ParserError'>\n",
        "Unexpected error on string ' ' <class 'lxml.etree.ParserError'>\n",
        "Unexpected error on string ' ' <class 'lxml.etree.ParserError'>\n",
        "Unexpected error on string ' ' <class 'lxml.etree.ParserError'>\n",
        "Unexpected error on string ' ' <class 'lxml.etree.ParserError'>\n",
        "Unexpected error on string ' ' <class 'lxml.etree.ParserError'>\n",
        "Unexpected error on string ' ' <class 'lxml.etree.ParserError'>\n",
        "Unexpected error on string ' ' <class 'lxml.etree.ParserError'>\n",
        "Unexpected error on string ' ' <class 'lxml.etree.ParserError'>\n",
        "Unexpected error on string ' ' <class 'lxml.etree.ParserError'>\n",
        "Unexpected error on string ' ' <class 'lxml.etree.ParserError'>\n",
        "Unexpected error on string ' ' <class 'lxml.etree.ParserError'>\n",
        "Unexpected error on string ' ' <class 'lxml.etree.ParserError'>\n",
        "Unexpected error on string ' ' <class 'lxml.etree.ParserError'>\n",
        "Unexpected error on string ' ' <class 'lxml.etree.ParserError'>\n",
        "Unexpected error on string ' ' <class 'lxml.etree.ParserError'>\n",
        "Unexpected error on string ' ' <class 'lxml.etree.ParserError'>\n",
        "Unexpected error on string ' ' <class 'lxml.etree.ParserError'>\n",
        "Unexpected error on string ' ' <class 'lxml.etree.ParserError'>\n",
        "Unexpected error on string ' ' <class 'lxml.etree.ParserError'>\n",
        "Unexpected error on string ' ' <class 'lxml.etree.ParserError'>\n",
        "Unexpected error on string ' ' <class 'lxml.etree.ParserError'>\n",
        "Unexpected error on string ' ' <class 'lxml.etree.ParserError'>\n",
        "Unexpected error on string ' ' <class 'lxml.etree.ParserError'>\n",
        "Unexpected error on string ' ' <class 'lxml.etree.ParserError'>\n",
        "Unexpected error on string ' ' <class 'lxml.etree.ParserError'>\n",
        "Unexpected error on string ' ' <class 'lxml.etree.ParserError'>\n",
        "Unexpected error on string ' ' <class 'lxml.etree.ParserError'>\n",
        "Unexpected error on string ' ' <class 'lxml.etree.ParserError'>\n",
        "Unexpected error on string ' ' <class 'lxml.etree.ParserError'>\n",
        "Unexpected error on string ' ' <class 'lxml.etree.ParserError'>\n",
        "Unexpected error on string ' ' <class 'lxml.etree.ParserError'>\n",
        "Unexpected error on string '<' <class 'lxml.etree.ParserError'>\n",
        "Unexpected error on string ' ' <class 'lxml.etree.ParserError'>\n",
        "Unexpected error on string '<' <class 'lxml.etree.ParserError'>\n",
        "Unexpected error on string ' ' <class 'lxml.etree.ParserError'>\n",
        "Unexpected error on string ' ' <class 'lxml.etree.ParserError'>\n",
        "Unexpected error on string ' ' <class 'lxml.etree.ParserError'>\n",
        "Unexpected error on string '<' <class 'lxml.etree.ParserError'>\n",
        "Unexpected error on string ' ' <class 'lxml.etree.ParserError'>\n",
        "Unexpected error on string '<' <class 'lxml.etree.ParserError'>\n",
        "Unexpected error on string ' ' <class 'lxml.etree.ParserError'>\n",
        "Unexpected error on string ' ' <class 'lxml.etree.ParserError'>\n",
        "Unexpected error on string ' '"
       ]
      },
      {
       "output_type": "stream",
       "stream": "stdout",
       "text": [
        " <class 'lxml.etree.ParserError'>\n",
        "Unexpected error on string ' ' <class 'lxml.etree.ParserError'>\n",
        "Unexpected error on string ' ' <class 'lxml.etree.ParserError'>\n",
        "Unexpected error on string ' ' <class 'lxml.etree.ParserError'>\n",
        "Unexpected error on string ' ' <class 'lxml.etree.ParserError'>\n",
        "Unexpected error on string ' ' <class 'lxml.etree.ParserError'>\n",
        "Unexpected error on string ' ' <class 'lxml.etree.ParserError'>\n",
        "Unexpected error on string ' ' <class 'lxml.etree.ParserError'>\n",
        "Unexpected error on string ' ' <class 'lxml.etree.ParserError'>\n",
        "Unexpected error on string ' ' <class 'lxml.etree.ParserError'>\n",
        "Unexpected error on string ' ' <class 'lxml.etree.ParserError'>\n",
        "Unexpected error on string ' ' <class 'lxml.etree.ParserError'>\n",
        "Unexpected error on string ' ' <class 'lxml.etree.ParserError'>\n",
        "Unexpected error on string ' ' <class 'lxml.etree.ParserError'>\n",
        "Unexpected error on string ' ' <class 'lxml.etree.ParserError'>\n",
        "Unexpected error on string ' ' <class 'lxml.etree.ParserError'>\n",
        "Unexpected error on string ' ' <class 'lxml.etree.ParserError'>\n",
        "Unexpected error on string ' ' <class 'lxml.etree.ParserError'>\n",
        "Unexpected error on string ' ' <class 'lxml.etree.ParserError'>\n",
        "Unexpected error on string ' ' <class 'lxml.etree.ParserError'>\n",
        "Unexpected error on string ' ' <class 'lxml.etree.ParserError'>\n",
        "Unexpected error on string ' ' <class 'lxml.etree.ParserError'>\n",
        "Unexpected error on string ' ' <class 'lxml.etree.ParserError'>\n",
        "Unexpected error on string ' ' <class 'lxml.etree.ParserError'>\n",
        "Unexpected error on string ' ' <class 'lxml.etree.ParserError'>\n",
        "Unexpected error on string ' ' <class 'lxml.etree.ParserError'>\n",
        "Unexpected error on string ' ' <class 'lxml.etree.ParserError'>\n",
        "Unexpected error on string ' ' <class 'lxml.etree.ParserError'>\n",
        "Unexpected error on string ' ' <class 'lxml.etree.ParserError'>\n",
        "Unexpected error on string ' ' <class 'lxml.etree.ParserError'>\n",
        "Unexpected error on string ' ' <class 'lxml.etree.ParserError'>\n",
        "Unexpected error on string ' ' <class 'lxml.etree.ParserError'>\n",
        "Unexpected error on string ' ' <class 'lxml.etree.ParserError'>\n",
        "Unexpected error on string ' ' <class 'lxml.etree.ParserError'>\n",
        "Unexpected error on string ' ' <class 'lxml.etree.ParserError'>\n",
        "Unexpected error on string ' ' <class 'lxml.etree.ParserError'>\n",
        "Unexpected error on string ' ' <class 'lxml.etree.ParserError'>\n",
        "Unexpected error on string ' ' <class 'lxml.etree.ParserError'>\n",
        "Unexpected error on string ' ' <class 'lxml.etree.ParserError'>\n",
        "Unexpected error on string ' ' <class 'lxml.etree.ParserError'>\n",
        "Unexpected error on string ' ' <class 'lxml.etree.ParserError'>\n",
        "Unexpected error on string ' ' <class 'lxml.etree.ParserError'>\n",
        "Unexpected error on string ' ' <class 'lxml.etree.ParserError'>\n",
        "Unexpected error on string ' ' <class 'lxml.etree.ParserError'>\n",
        "Unexpected error on string ' ' <class 'lxml.etree.ParserError'>\n",
        "Unexpected error on string ' ' <class 'lxml.etree.ParserError'>\n",
        "Unexpected error on string ' ' <class 'lxml.etree.ParserError'>\n",
        "Unexpected error on string ' ' <class 'lxml.etree.ParserError'>\n",
        "Unexpected error on string ' ' <class 'lxml.etree.ParserError'>\n",
        "Unexpected error on string ' ' <class 'lxml.etree.ParserError'>\n",
        "Unexpected error on string ' ' <class 'lxml.etree.ParserError'>\n",
        "Unexpected error on string ' ' <class 'lxml.etree.ParserError'>\n",
        "Unexpected error on string ' ' <class 'lxml.etree.ParserError'>\n",
        "Unexpected error on string ' ' <class 'lxml.etree.ParserError'>\n",
        "Unexpected error on string ' ' <class 'lxml.etree.ParserError'>\n",
        "Unexpected error on string ' ' <class 'lxml.etree.ParserError'>\n",
        "Unexpected error on string ' ' <class 'lxml.etree.ParserError'>\n",
        "Unexpected error on string ' ' <class 'lxml.etree.ParserError'>\n",
        "Unexpected error on string ' ' <class 'lxml.etree.ParserError'>\n",
        "Unexpected error on string ' ' <class 'lxml.etree.ParserError'>\n",
        "Unexpected error on string ' ' <class 'lxml.etree.ParserError'>\n",
        "Unexpected error on string ' ' <class 'lxml.etree.ParserError'>\n",
        "Unexpected error on string ' ' <class 'lxml.etree.ParserError'>\n",
        "Unexpected error on string ' ' <class 'lxml.etree.ParserError'>\n",
        "Unexpected error on string ' ' <class 'lxml.etree.ParserError'>\n",
        "Unexpected error on string ' ' <class 'lxml.etree.ParserError'>\n",
        "Unexpected error on string ' ' <class 'lxml.etree.ParserError'>\n",
        "Unexpected error on string ' ' <class 'lxml.etree.ParserError'>\n",
        "Unexpected error on string ' ' <class 'lxml.etree.ParserError'>\n",
        "Unexpected error on string ' ' <class 'lxml.etree.ParserError'>\n",
        "Unexpected error on string ' ' <class 'lxml.etree.ParserError'>\n",
        "Unexpected error on string ' ' <class 'lxml.etree.ParserError'>\n",
        "Unexpected error on string ' ' <class 'lxml.etree.ParserError'>\n",
        "Unexpected error on string ' ' <class 'lxml.etree.ParserError'>\n",
        "Unexpected error on string ' ' <class 'lxml.etree.ParserError'>\n",
        "Unexpected error on string ' ' <class 'lxml.etree.ParserError'>\n",
        "Unexpected error on string ' ' <class 'lxml.etree.ParserError'>\n",
        "Unexpected error on string ' ' <class 'lxml.etree.ParserError'>\n",
        "Unexpected error on string ' ' <class 'lxml.etree.ParserError'>\n",
        "Unexpected error on string ' ' <class 'lxml.etree.ParserError'>\n",
        "Unexpected error on string ' ' <class 'lxml.etree.ParserError'>\n",
        "Unexpected error on string ' ' <class 'lxml.etree.ParserError'>\n",
        "Unexpected error on string ' ' <class 'lxml.etree.ParserError'>\n",
        "Unexpected error on string ' ' <class 'lxml.etree.ParserError'>\n",
        "Unexpected error on string ' ' <class 'lxml.etree.ParserError'>\n",
        "Unexpected error on string ' ' <class 'lxml.etree.ParserError'>\n",
        "Unexpected error on string ' ' <class 'lxml.etree.ParserError'>\n",
        "Unexpected error on string ' ' <class 'lxml.etree.ParserError'>\n",
        "Unexpected error on string ' ' <class 'lxml.etree.ParserError'>\n",
        "Unexpected error on string ' ' <class 'lxml.etree.ParserError'>\n",
        "Unexpected error on string ' ' <class 'lxml.etree.ParserError'>\n",
        "Unexpected error on string ' ' <class 'lxml.etree.ParserError'>\n",
        "Unexpected error on string ' ' <class 'lxml.etree.ParserError'>\n",
        "Unexpected error on string '<' <class 'lxml.etree.ParserError'>\n",
        "Unexpected error on string ' ' <class 'lxml.etree.ParserError'>\n",
        "Unexpected error on string '<' <class 'lxml.etree.ParserError'>\n",
        "Unexpected error on string ' ' <class 'lxml.etree.ParserError'>\n",
        "Unexpected error on string '<' <class 'lxml.etree.ParserError'>\n",
        "Unexpected error on string ' ' <class 'lxml.etree.ParserError'>\n",
        "Unexpected error on string '<' <class 'lxml.etree.ParserError'>\n",
        "Unexpected error on string ' ' <class 'lxml.etree.ParserError'>\n",
        "Unexpected error on string ' ' <class 'lxml.etree.ParserError'>\n",
        "Unexpected error on string '<' <class 'lxml.etree.ParserError'>\n",
        "Unexpected error on string ' ' <class 'lxml.etree.ParserError'>\n",
        "Unexpected error on string ' ' <class 'lxml.etree.ParserError'>\n",
        "Unexpected error on string ' ' <class 'lxml.etree.ParserError'>\n",
        "Unexpected error on string ' ' <class 'lxml.etree.ParserError'>\n",
        "Unexpected error on string ' ' <class 'lxml.etree.ParserError'>\n",
        "Unexpected error on string ' ' <class 'lxml.etree.ParserError'>\n",
        "Unexpected error on string ' ' <class 'lxml.etree.ParserError'>\n",
        "Unexpected error on string ' ' <class 'lxml.etree.ParserError'>\n",
        "Unexpected error on string ' ' <class 'lxml.etree.ParserError'>\n",
        "Unexpected error on string ' ' <class 'lxml.etree.ParserError'>\n",
        "Unexpected error on string ' ' <class 'lxml.etree.ParserError'>\n",
        "Unexpected error on string ' ' <class 'lxml.etree.ParserError'>\n",
        "Unexpected error on string ' ' <class 'lxml.etree.ParserError'>\n",
        "Unexpected error on string ' ' <class 'lxml.etree.ParserError'>\n",
        "Unexpected error on string ' ' <class 'lxml.etree.ParserError'>\n",
        "Unexpected error on string ' ' <class 'lxml.etree.ParserError'>\n",
        "Unexpected error on string ' ' <class 'lxml.etree.ParserError'>\n",
        "Unexpected error on string ' ' <class 'lxml.etree.ParserError'>\n",
        "Unexpected error on string ' ' <class 'lxml.etree.ParserError'>\n",
        "Unexpected error on string ' ' <class 'lxml.etree.ParserError'>\n",
        "Unexpected error on string ' ' <class 'lxml.etree.ParserError'>\n",
        "Unexpected error on string ' ' <class 'lxml.etree.ParserError'>\n",
        "Unexpected error on string ' ' <class 'lxml.etree.ParserError'>\n",
        "Unexpected error on string ' ' <class 'lxml.etree.ParserError'>\n",
        "Unexpected error on string ' '"
       ]
      },
      {
       "output_type": "stream",
       "stream": "stdout",
       "text": [
        " <class 'lxml.etree.ParserError'>\n",
        "Unexpected error on string ' ' <class 'lxml.etree.ParserError'>\n",
        "Unexpected error on string ' ' <class 'lxml.etree.ParserError'>\n",
        "Unexpected error on string ' ' <class 'lxml.etree.ParserError'>\n",
        "Unexpected error on string ' ' <class 'lxml.etree.ParserError'>\n",
        "Unexpected error on string ' ' <class 'lxml.etree.ParserError'>\n",
        "Unexpected error on string ' ' <class 'lxml.etree.ParserError'>\n",
        "Unexpected error on string ' ' <class 'lxml.etree.ParserError'>\n",
        "Unexpected error on string ' ' <class 'lxml.etree.ParserError'>\n",
        "Unexpected error on string ' ' <class 'lxml.etree.ParserError'>\n",
        "Unexpected error on string ' ' <class 'lxml.etree.ParserError'>\n",
        "Unexpected error on string ' ' <class 'lxml.etree.ParserError'>\n",
        "Unexpected error on string ' ' <class 'lxml.etree.ParserError'>\n",
        "Unexpected error on string ' ' <class 'lxml.etree.ParserError'>\n",
        "Unexpected error on string ' ' <class 'lxml.etree.ParserError'>\n",
        "Unexpected error on string ' ' <class 'lxml.etree.ParserError'>\n",
        "Unexpected error on string ' ' <class 'lxml.etree.ParserError'>\n",
        "Unexpected error on string ' ' <class 'lxml.etree.ParserError'>\n",
        "Unexpected error on string ' ' <class 'lxml.etree.ParserError'>\n",
        "Unexpected error on string ' ' <class 'lxml.etree.ParserError'>\n",
        "Unexpected error on string ' ' <class 'lxml.etree.ParserError'>\n",
        "Unexpected error on string ' ' <class 'lxml.etree.ParserError'>\n",
        "Unexpected error on string ' ' <class 'lxml.etree.ParserError'>\n",
        "Unexpected error on string ' ' <class 'lxml.etree.ParserError'>\n",
        "Unexpected error on string ' ' <class 'lxml.etree.ParserError'>\n",
        "Unexpected error on string ' ' <class 'lxml.etree.ParserError'>\n",
        "Unexpected error on string ' ' <class 'lxml.etree.ParserError'>\n",
        "Unexpected error on string ' ' <class 'lxml.etree.ParserError'>\n",
        "Unexpected error on string ' ' <class 'lxml.etree.ParserError'>\n",
        "Unexpected error on string ' ' <class 'lxml.etree.ParserError'>\n",
        "Unexpected error on string ' ' <class 'lxml.etree.ParserError'>\n",
        "Unexpected error on string ' ' <class 'lxml.etree.ParserError'>\n",
        "Unexpected error on string ' ' <class 'lxml.etree.ParserError'>\n",
        "Unexpected error on string ' ' <class 'lxml.etree.ParserError'>\n",
        "Unexpected error on string ' ' <class 'lxml.etree.ParserError'>\n",
        "Unexpected error on string ' ' <class 'lxml.etree.ParserError'>\n",
        "Unexpected error on string ' ' <class 'lxml.etree.ParserError'>\n",
        "Unexpected error on string ' ' <class 'lxml.etree.ParserError'>\n",
        "Unexpected error on string ' ' <class 'lxml.etree.ParserError'>\n",
        "Unexpected error on string ' ' <class 'lxml.etree.ParserError'>\n",
        "Unexpected error on string ' ' <class 'lxml.etree.ParserError'>\n",
        "Unexpected error on string ' ' <class 'lxml.etree.ParserError'>\n",
        "Unexpected error on string ' ' <class 'lxml.etree.ParserError'>\n",
        "Unexpected error on string ' ' <class 'lxml.etree.ParserError'>\n",
        "Unexpected error on string ' ' <class 'lxml.etree.ParserError'>\n",
        "Unexpected error on string ' ' <class 'lxml.etree.ParserError'>\n",
        "Unexpected error on string ' ' <class 'lxml.etree.ParserError'>\n",
        "Unexpected error on string ' ' <class 'lxml.etree.ParserError'>\n",
        "Unexpected error on string ' ' <class 'lxml.etree.ParserError'>\n",
        "Unexpected error on string ' ' <class 'lxml.etree.ParserError'>\n",
        "Unexpected error on string ' ' <class 'lxml.etree.ParserError'>\n",
        "Unexpected error on string ' ' <class 'lxml.etree.ParserError'>\n",
        "Unexpected error on string ' ' <class 'lxml.etree.ParserError'>\n",
        "Unexpected error on string ' ' <class 'lxml.etree.ParserError'>\n",
        "Unexpected error on string ' ' <class 'lxml.etree.ParserError'>\n",
        "Unexpected error on string ' ' <class 'lxml.etree.ParserError'>\n",
        "Unexpected error on string ' ' <class 'lxml.etree.ParserError'>\n",
        "Unexpected error on string ' ' <class 'lxml.etree.ParserError'>\n",
        "Unexpected error on string ' ' <class 'lxml.etree.ParserError'>\n",
        "Unexpected error on string ' ' <class 'lxml.etree.ParserError'>\n",
        "Unexpected error on string ' ' <class 'lxml.etree.ParserError'>\n",
        "Unexpected error on string ' ' <class 'lxml.etree.ParserError'>\n",
        "Unexpected error on string ' ' <class 'lxml.etree.ParserError'>\n",
        "Unexpected error on string ' ' <class 'lxml.etree.ParserError'>\n",
        "Unexpected error on string ' ' <class 'lxml.etree.ParserError'>\n",
        "Unexpected error on string ' ' <class 'lxml.etree.ParserError'>\n",
        "Unexpected error on string ' ' <class 'lxml.etree.ParserError'>\n",
        "Unexpected error on string ' ' <class 'lxml.etree.ParserError'>\n",
        "Unexpected error on string ' ' <class 'lxml.etree.ParserError'>\n",
        "Unexpected error on string ' ' <class 'lxml.etree.ParserError'>\n",
        "Unexpected error on string ' ' <class 'lxml.etree.ParserError'>\n",
        "Unexpected error on string ' ' <class 'lxml.etree.ParserError'>\n",
        "Unexpected error on string ' ' <class 'lxml.etree.ParserError'>\n",
        "Unexpected error on string ' ' <class 'lxml.etree.ParserError'>\n",
        "Unexpected error on string ' ' <class 'lxml.etree.ParserError'>\n",
        "Unexpected error on string ' ' <class 'lxml.etree.ParserError'>\n",
        "Unexpected error on string ' ' <class 'lxml.etree.ParserError'>\n",
        "Unexpected error on string ' ' <class 'lxml.etree.ParserError'>\n",
        "Unexpected error on string ' ' <class 'lxml.etree.ParserError'>\n",
        "Unexpected error on string ' ' <class 'lxml.etree.ParserError'>\n",
        "Unexpected error on string ' ' <class 'lxml.etree.ParserError'>\n",
        "Unexpected error on string ' ' <class 'lxml.etree.ParserError'>\n",
        "Unexpected error on string ' ' <class 'lxml.etree.ParserError'>\n",
        "Unexpected error on string ' ' <class 'lxml.etree.ParserError'>\n",
        "Unexpected error on string ' ' <class 'lxml.etree.ParserError'>\n",
        "Unexpected error on string ' ' <class 'lxml.etree.ParserError'>\n",
        "Unexpected error on string ' ' <class 'lxml.etree.ParserError'>\n",
        "Unexpected error on string ' ' <class 'lxml.etree.ParserError'>\n",
        "Unexpected error on string ' ' <class 'lxml.etree.ParserError'>\n",
        "Unexpected error on string ' ' <class 'lxml.etree.ParserError'>\n",
        "Unexpected error on string ' ' <class 'lxml.etree.ParserError'>\n",
        "Unexpected error on string ' ' <class 'lxml.etree.ParserError'>\n",
        "Unexpected error on string ' ' <class 'lxml.etree.ParserError'>\n",
        "Unexpected error on string ' ' <class 'lxml.etree.ParserError'>\n",
        "Unexpected error on string ' ' <class 'lxml.etree.ParserError'>\n",
        "Unexpected error on string ' ' <class 'lxml.etree.ParserError'>\n",
        "Unexpected error on string ' ' <class 'lxml.etree.ParserError'>\n",
        "Unexpected error on string ' ' <class 'lxml.etree.ParserError'>\n",
        "Unexpected error on string ' ' <class 'lxml.etree.ParserError'>\n",
        "Unexpected error on string ' ' <class 'lxml.etree.ParserError'>\n",
        "Unexpected error on string ' ' <class 'lxml.etree.ParserError'>\n",
        "Unexpected error on string ' ' <class 'lxml.etree.ParserError'>\n",
        "Unexpected error on string ' ' <class 'lxml.etree.ParserError'>\n",
        "Unexpected error on string ' ' <class 'lxml.etree.ParserError'>\n",
        "Unexpected error on string ' ' <class 'lxml.etree.ParserError'>\n",
        "Unexpected error on string ' ' <class 'lxml.etree.ParserError'>\n",
        "Unexpected error on string ' ' <class 'lxml.etree.ParserError'>\n",
        "Unexpected error on string ' ' <class 'lxml.etree.ParserError'>\n",
        "Unexpected error on string ' ' <class 'lxml.etree.ParserError'>\n",
        "Unexpected error on string ' ' <class 'lxml.etree.ParserError'>\n",
        "Unexpected error on string ' ' <class 'lxml.etree.ParserError'>\n",
        "Unexpected error on string ' ' <class 'lxml.etree.ParserError'>\n",
        "Unexpected error on string ' ' <class 'lxml.etree.ParserError'>\n",
        "Unexpected error on string ' ' <class 'lxml.etree.ParserError'>\n",
        "Unexpected error on string ' '"
       ]
      },
      {
       "output_type": "stream",
       "stream": "stdout",
       "text": [
        " <class 'lxml.etree.ParserError'>\n",
        "Unexpected error on string ' ' <class 'lxml.etree.ParserError'>\n",
        "Unexpected error on string ' ' <class 'lxml.etree.ParserError'>\n",
        "Unexpected error on string ' ' <class 'lxml.etree.ParserError'>\n",
        "Unexpected error on string ' ' <class 'lxml.etree.ParserError'>\n",
        "Unexpected error on string ' ' <class 'lxml.etree.ParserError'>\n",
        "Unexpected error on string ' ' <class 'lxml.etree.ParserError'>\n",
        "Unexpected error on string ' ' <class 'lxml.etree.ParserError'>\n",
        "Unexpected error on string ' ' <class 'lxml.etree.ParserError'>\n",
        "Unexpected error on string ' ' <class 'lxml.etree.ParserError'>\n",
        "Unexpected error on string ' ' <class 'lxml.etree.ParserError'>\n",
        "Unexpected error on string ' ' <class 'lxml.etree.ParserError'>\n",
        "Unexpected error on string ' ' <class 'lxml.etree.ParserError'>\n",
        "Unexpected error on string ' ' <class 'lxml.etree.ParserError'>\n",
        "Unexpected error on string ' ' <class 'lxml.etree.ParserError'>\n",
        "Unexpected error on string ' ' <class 'lxml.etree.ParserError'>\n",
        "Unexpected error on string ' ' <class 'lxml.etree.ParserError'>\n",
        "Unexpected error on string ' ' <class 'lxml.etree.ParserError'>\n",
        "Unexpected error on string ' ' <class 'lxml.etree.ParserError'>\n",
        "Unexpected error on string ' ' <class 'lxml.etree.ParserError'>\n",
        "Unexpected error on string ' ' <class 'lxml.etree.ParserError'>\n",
        "Unexpected error on string ' ' <class 'lxml.etree.ParserError'>\n",
        "Unexpected error on string ' ' <class 'lxml.etree.ParserError'>\n",
        "Unexpected error on string ' ' <class 'lxml.etree.ParserError'>\n",
        "Unexpected error on string '<' <class 'lxml.etree.ParserError'>\n",
        "Unexpected error on string ' ' <class 'lxml.etree.ParserError'>\n",
        "Unexpected error on string '<' <class 'lxml.etree.ParserError'>\n",
        "Unexpected error on string ' ' <class 'lxml.etree.ParserError'>\n",
        "Unexpected error on string '<' <class 'lxml.etree.ParserError'>\n",
        "Unexpected error on string ' ' <class 'lxml.etree.ParserError'>\n",
        "Unexpected error on string '<' <class 'lxml.etree.ParserError'>\n",
        "Unexpected error on string ' ' <class 'lxml.etree.ParserError'>\n",
        "Unexpected error on string '<' <class 'lxml.etree.ParserError'>\n",
        "Unexpected error on string ' ' <class 'lxml.etree.ParserError'>\n",
        "Unexpected error on string ' ' <class 'lxml.etree.ParserError'>\n",
        "Unexpected error on string '<' <class 'lxml.etree.ParserError'>\n",
        "Unexpected error on string ' ' <class 'lxml.etree.ParserError'>\n",
        "Unexpected error on string ' ' <class 'lxml.etree.ParserError'>\n",
        "Unexpected error on string '<' <class 'lxml.etree.ParserError'>\n",
        "Unexpected error on string ' ' <class 'lxml.etree.ParserError'>\n",
        "Unexpected error on string ' ' <class 'lxml.etree.ParserError'>\n",
        "Unexpected error on string ' ' <class 'lxml.etree.ParserError'>\n",
        "Unexpected error on string '<' <class 'lxml.etree.ParserError'>\n",
        "Unexpected error on string '<' <class 'lxml.etree.ParserError'>\n",
        "Unexpected error on string '<' <class 'lxml.etree.ParserError'>\n",
        "Unexpected error on string ' ' <class 'lxml.etree.ParserError'>\n",
        "Unexpected error on string ' ' <class 'lxml.etree.ParserError'>\n",
        "Unexpected error on string ' ' <class 'lxml.etree.ParserError'>\n",
        "Unexpected error on string ' ' <class 'lxml.etree.ParserError'>\n",
        "Unexpected error on string ' ' <class 'lxml.etree.ParserError'>\n",
        "Unexpected error on string ' ' <class 'lxml.etree.ParserError'>\n",
        "Unexpected error on string ' ' <class 'lxml.etree.ParserError'>\n",
        "Unexpected error on string ' ' <class 'lxml.etree.ParserError'>\n",
        "Unexpected error on string '<' <class 'lxml.etree.ParserError'>\n",
        "Unexpected error on string ' ' <class 'lxml.etree.ParserError'>\n",
        "Unexpected error on string '<' <class 'lxml.etree.ParserError'>\n",
        "Unexpected error on string ' ' <class 'lxml.etree.ParserError'>\n",
        "Unexpected error on string '<' <class 'lxml.etree.ParserError'>\n",
        "Unexpected error on string ' ' <class 'lxml.etree.ParserError'>\n",
        "Unexpected error on string ' ' <class 'lxml.etree.ParserError'>\n",
        "Unexpected error on string '<' <class 'lxml.etree.ParserError'>\n",
        "Unexpected error on string ' ' <class 'lxml.etree.ParserError'>\n",
        "Unexpected error on string ' ' <class 'lxml.etree.ParserError'>\n",
        "Unexpected error on string '<' <class 'lxml.etree.ParserError'>\n",
        "Unexpected error on string ' ' <class 'lxml.etree.ParserError'>\n",
        "Unexpected error on string '<' <class 'lxml.etree.ParserError'>\n",
        "Unexpected error on string '<' <class 'lxml.etree.ParserError'>\n",
        "Unexpected error on string '<' <class 'lxml.etree.ParserError'>\n",
        "Unexpected error on string ' ' <class 'lxml.etree.ParserError'>\n",
        "Unexpected error on string ' ' <class 'lxml.etree.ParserError'>\n",
        "Unexpected error on string ' ' <class 'lxml.etree.ParserError'>\n",
        "Unexpected error on string ' ' <class 'lxml.etree.ParserError'>\n",
        "Unexpected error on string ' ' <class 'lxml.etree.ParserError'>\n",
        "Unexpected error on string ' ' <class 'lxml.etree.ParserError'>\n",
        "Unexpected error on string ' ' <class 'lxml.etree.ParserError'>\n",
        "Unexpected error on string ' '"
       ]
      },
      {
       "output_type": "stream",
       "stream": "stdout",
       "text": [
        " <class 'lxml.etree.ParserError'>\n",
        "Unexpected error on string ' ' <class 'lxml.etree.ParserError'>\n",
        "Unexpected error on string '<' <class 'lxml.etree.ParserError'>\n",
        "Unexpected error on string ' ' <class 'lxml.etree.ParserError'>\n",
        "Unexpected error on string '<' <class 'lxml.etree.ParserError'>\n",
        "Unexpected error on string ' ' <class 'lxml.etree.ParserError'>\n",
        "Unexpected error on string '<' <class 'lxml.etree.ParserError'>\n",
        "Unexpected error on string ' ' <class 'lxml.etree.ParserError'>\n",
        "Unexpected error on string ' ' <class 'lxml.etree.ParserError'>\n",
        "Unexpected error on string '<' <class 'lxml.etree.ParserError'>\n",
        "Unexpected error on string ' ' <class 'lxml.etree.ParserError'>\n",
        "Unexpected error on string ' ' <class 'lxml.etree.ParserError'>\n",
        "Unexpected error on string '<' <class 'lxml.etree.ParserError'>\n",
        "Unexpected error on string ' ' <class 'lxml.etree.ParserError'>\n",
        "Unexpected error on string ' ' <class 'lxml.etree.ParserError'>\n",
        "Unexpected error on string '<' <class 'lxml.etree.ParserError'>\n",
        "Unexpected error on string '<' <class 'lxml.etree.ParserError'>\n",
        "Unexpected error on string '<' <class 'lxml.etree.ParserError'>\n",
        "Unexpected error on string ' ' <class 'lxml.etree.ParserError'>\n",
        "Unexpected error on string ' ' <class 'lxml.etree.ParserError'>\n",
        "Unexpected error on string ' ' <class 'lxml.etree.ParserError'>\n",
        "Unexpected error on string ' ' <class 'lxml.etree.ParserError'>\n",
        "Unexpected error on string ' ' <class 'lxml.etree.ParserError'>\n",
        "Unexpected error on string ' ' <class 'lxml.etree.ParserError'>\n",
        "Unexpected error on string ' ' <class 'lxml.etree.ParserError'>\n",
        "Unexpected error on string ' ' <class 'lxml.etree.ParserError'>\n",
        "Unexpected error on string '<' <class 'lxml.etree.ParserError'>\n",
        "{'heur': 171, 'boiler_pipe': 463, 'downloads_id': 421834553, 'crf': 5437, 'python_readibilty': 92}"
       ]
      },
      {
       "output_type": "stream",
       "stream": "stdout",
       "text": [
        "\n",
        "downloads_id: 422181106\n",
        "[516, 523, 544, 1003, 1020, 1037, 1054, 1071, 1109, 1128, 1147, 1166, 1185, 1204, 1223, 1242, 1261, 1280, 1532, 1551, 1570, 1589, 1608, 1639, 1658, 1677, 1696, 1715, 1746, 1765, 1784, 1803, 1822, 2003, 2004, 2009]"
       ]
      },
      {
       "output_type": "stream",
       "stream": "stdout",
       "text": [
        "\n",
        "[544, 1109]\n",
        "[467, 516, 523, 544, 1109]"
       ]
      },
      {
       "output_type": "stream",
       "stream": "stdout",
       "text": [
        "\n",
        "original article tmp file "
       ]
      },
      {
       "output_type": "stream",
       "stream": "stdout",
       "text": [
        " /tmp/tmpzSkbXk.html\n",
        "/tmp/tmpDqMUEi.html\n",
        "/tmp/tmpzSkbXk.html\n",
        "/tmp/tmpzSkbXk.html\n",
        "Now open file:///tmp/tmpDqMUEi.html in your web browser\n"
       ]
      },
      {
       "output_type": "stream",
       "stream": "stdout",
       "text": [
        "\n",
        "{'heur': 2014, 'boiler_pipe': 230, 'downloads_id': 422181106, 'crf': 609, 'python_readibilty': 151}\n",
        "downloads_id: 422280595\n",
        "[202, 203, 208, 209, 210, 211, 212, 222]"
       ]
      },
      {
       "output_type": "stream",
       "stream": "stdout",
       "text": [
        "\n",
        "[202, 203, 208, 209, 210, 211, 222]\n",
        "[202, 205, 208, 209, 210, 211]"
       ]
      },
      {
       "output_type": "stream",
       "stream": "stdout",
       "text": [
        "\n",
        "original article tmp file "
       ]
      },
      {
       "output_type": "stream",
       "stream": "stdout",
       "text": [
        " /tmp/tmpIydZQH.html\n",
        "/tmp/tmpAUNxgg.html\n",
        "/tmp/tmpIydZQH.html\n",
        "/tmp/tmpIydZQH.html\n",
        "Now open file:///tmp/tmpAUNxgg.html in your web browser\n"
       ]
      },
      {
       "output_type": "stream",
       "stream": "stdout",
       "text": [
        "\n",
        "{'heur': 148, 'boiler_pipe': 207, 'downloads_id': 422280595, 'crf': 120, 'python_readibilty': 50}\n",
        "downloads_id: 422910963\n",
        "[42, 43, 44, 54, 55, 56, 57, 58, 59, 60]"
       ]
      },
      {
       "output_type": "stream",
       "stream": "stdout",
       "text": [
        "\n",
        "[35, 36, 42, 43, 44]\n",
        "[35, 42, 43, 44]"
       ]
      },
      {
       "output_type": "stream",
       "stream": "stdout",
       "text": [
        "\n",
        "original article tmp file "
       ]
      },
      {
       "output_type": "stream",
       "stream": "stdout",
       "text": [
        " /tmp/tmpsq6Rkd.html\n",
        "/tmp/tmpsbdoKW.html\n",
        "/tmp/tmpsq6Rkd.html\n",
        "/tmp/tmpsq6Rkd.html\n",
        "Now open file:///tmp/tmpsbdoKW.html in your web browser\n"
       ]
      },
      {
       "output_type": "stream",
       "stream": "stdout",
       "text": [
        "\n",
        "{'heur': 933, 'boiler_pipe': 1215, 'downloads_id': 422910963, 'crf': 9, 'python_readibilty': 96}"
       ]
      },
      {
       "output_type": "stream",
       "stream": "stdout",
       "text": [
        "\n",
        "downloads_id: 423318170\n",
        "[239, 240, 241, 242, 243, 244, 245, 246, 247, 248, 249, 250, 251, 252, 253, 254, 255, 256]"
       ]
      },
      {
       "output_type": "stream",
       "stream": "stdout",
       "text": [
        "\n",
        "[232, 235, 248, 249, 250, 251, 252, 253, 254, 255, 256]\n",
        "[231, 232, 235, 237, 239, 240, 241, 242, 243, 244, 245, 246, 247, 248, 249, 250, 251, 252, 253, 254, 255, 256]"
       ]
      },
      {
       "output_type": "stream",
       "stream": "stdout",
       "text": [
        "\n",
        "original article tmp file "
       ]
      },
      {
       "output_type": "stream",
       "stream": "stdout",
       "text": [
        " /tmp/tmp4vQkVB.html\n",
        "/tmp/tmpJNVBBe.html\n",
        "/tmp/tmp4vQkVB.html\n",
        "/tmp/tmp4vQkVB.html\n",
        "Now open file:///tmp/tmpJNVBBe.html in your web browser\n"
       ]
      },
      {
       "output_type": "stream",
       "stream": "stdout",
       "text": [
        "\n",
        "{'heur': 244, 'boiler_pipe': 340, 'downloads_id': 423318170, 'crf': 3509, 'python_readibilty': 213}"
       ]
      },
      {
       "output_type": "stream",
       "stream": "stdout",
       "text": [
        "\n",
        "downloads_id: 424080271\n",
        "[787, 790, 796, 802, 805, 808, 811, 1083, 1094, 1105, 1737, 1779, 1783]"
       ]
      },
      {
       "output_type": "stream",
       "stream": "stdout",
       "text": [
        "\n",
        "[787, 790]\n",
        "[709, 716, 721, 787, 790, 793, 796, 799, 802, 805, 808, 811]"
       ]
      },
      {
       "output_type": "stream",
       "stream": "stdout",
       "text": [
        "\n",
        "original article tmp file "
       ]
      },
      {
       "output_type": "stream",
       "stream": "stdout",
       "text": [
        " /tmp/tmpu_Rqcu.html\n",
        "/tmp/tmp1LDdBi.html\n",
        "/tmp/tmpu_Rqcu.html\n",
        "/tmp/tmpu_Rqcu.html\n",
        "Now open file:///tmp/tmp1LDdBi.html in your web browser\n"
       ]
      },
      {
       "output_type": "stream",
       "stream": "stdout",
       "text": [
        "\n",
        "{'heur': 455, 'boiler_pipe': 124, 'downloads_id': 424080271, 'crf': 1184, 'python_readibilty': 63}\n",
        "downloads_id: 424369085\n",
        "[471, 505, 507, 509, 511, 513, 515, 517]"
       ]
      },
      {
       "output_type": "stream",
       "stream": "stdout",
       "text": [
        "\n",
        "[471, 505, 507, 509, 511, 513, 515, 517]\n",
        "[471, 474, 505, 507, 509, 511, 513, 515, 517]"
       ]
      },
      {
       "output_type": "stream",
       "stream": "stdout",
       "text": [
        "\n",
        "original article tmp file "
       ]
      },
      {
       "output_type": "stream",
       "stream": "stdout",
       "text": [
        " /tmp/tmp6Q_rkZ.html\n",
        "/tmp/tmpZMs6rk.html\n",
        "/tmp/tmp6Q_rkZ.html\n",
        "/tmp/tmp6Q_rkZ.html\n",
        "Now open file:///tmp/tmpZMs6rk.html in your web browser\n"
       ]
      },
      {
       "output_type": "stream",
       "stream": "stdout",
       "text": [
        "\n",
        "{'heur': 38, 'boiler_pipe': 29, 'downloads_id': 424369085, 'crf': 38, 'python_readibilty': 225}\n",
        "downloads_id: 424796346\n",
        "[514, 521, 576, 577, 584, 585, 592, 593, 645, 646, 743, 744, 771, 823, 835, 847, 862, 874, 886, 1001]"
       ]
      },
      {
       "output_type": "stream",
       "stream": "stdout",
       "text": [
        "\n",
        "[474, 510, 514, 521, 802]\n",
        "[510, 514, 521]"
       ]
      },
      {
       "output_type": "stream",
       "stream": "stdout",
       "text": [
        "\n",
        "original article tmp file "
       ]
      },
      {
       "output_type": "stream",
       "stream": "stdout",
       "text": [
        " /tmp/tmpXcnc_i.html\n",
        "/tmp/tmplnH16s.html\n",
        "/tmp/tmpXcnc_i.html\n",
        "/tmp/tmpXcnc_i.html\n",
        "Now open file:///tmp/tmplnH16s.html in your web browser\n"
       ]
      },
      {
       "output_type": "stream",
       "stream": "stdout",
       "text": [
        "\n",
        "{'heur': 2570, 'boiler_pipe': 239, 'downloads_id': 424796346, 'crf': 127, 'python_readibilty': 20}"
       ]
      },
      {
       "output_type": "stream",
       "stream": "stdout",
       "text": [
        "\n",
        "downloads_id: 424840366\n",
        "[771, 774, 777, 780, 783, 802, 1544, 1586, 1590]"
       ]
      },
      {
       "output_type": "stream",
       "stream": "stdout",
       "text": [
        "\n",
        "[703, 771, 774, 777, 780, 783, 802]\n",
        "[703, 771, 774, 777, 780, 783, 802]"
       ]
      },
      {
       "output_type": "stream",
       "stream": "stdout",
       "text": [
        "\n",
        "original article tmp file "
       ]
      },
      {
       "output_type": "stream",
       "stream": "stdout",
       "text": [
        " /tmp/tmp4qhz68.html\n",
        "/tmp/tmp9j7hOj.html\n",
        "/tmp/tmp4qhz68.html\n",
        "/tmp/tmp4qhz68.html\n",
        "Now open file:///tmp/tmp9j7hOj.html in your web browser\n"
       ]
      },
      {
       "output_type": "stream",
       "stream": "stdout",
       "text": [
        "\n",
        "{'heur': 168, 'boiler_pipe': 139, 'downloads_id': 424840366, 'crf': 0, 'python_readibilty': 290}\n",
        "downloads_id: 425206279\n",
        "[775, 776, 786, 832, 840, 1052, 1080, 1126, 1152, 1207]"
       ]
      },
      {
       "output_type": "stream",
       "stream": "stdout",
       "text": [
        "\n",
        "[377, 775, 776]\n",
        "[377, 775, 776, 786]"
       ]
      },
      {
       "output_type": "stream",
       "stream": "stdout",
       "text": [
        "\n",
        "original article tmp file "
       ]
      },
      {
       "output_type": "stream",
       "stream": "stdout",
       "text": [
        " /tmp/tmphMXaZE.html\n",
        "/tmp/tmp1SoahL.html\n",
        "/tmp/tmphMXaZE.html\n",
        "/tmp/tmphMXaZE.html\n",
        "Now open file:///tmp/tmp1SoahL.html in your web browser\n"
       ]
      },
      {
       "output_type": "stream",
       "stream": "stdout",
       "text": [
        "\n",
        "{'heur': 219, 'boiler_pipe': 111, 'downloads_id': 425206279, 'crf': 838, 'python_readibilty': 98}\n",
        "downloads_id: 426405203\n",
        "[777, 780, 783, 789, 792, 798, 801, 807, 810, 1612, 1654, 1658]"
       ]
      },
      {
       "output_type": "stream",
       "stream": "stdout",
       "text": [
        "\n",
        "[698, 777, 780, 783, 786, 789, 792]\n",
        "[698, 777, 780, 783, 786, 789, 792, 795, 798, 801, 804, 807, 810]"
       ]
      },
      {
       "output_type": "stream",
       "stream": "stdout",
       "text": [
        "\n",
        "original article tmp file "
       ]
      },
      {
       "output_type": "stream",
       "stream": "stdout",
       "text": [
        " /tmp/tmpefN37j.html\n",
        "/tmp/tmpESeJCQ.html\n",
        "/tmp/tmpefN37j.html\n",
        "/tmp/tmpefN37j.html\n",
        "Now open file:///tmp/tmpESeJCQ.html in your web browser\n"
       ]
      },
      {
       "output_type": "stream",
       "stream": "stdout",
       "text": [
        "\n",
        "{'heur': 502, 'boiler_pipe': 172, 'downloads_id': 426405203, 'crf': 967, 'python_readibilty': 44}"
       ]
      },
      {
       "output_type": "stream",
       "stream": "stdout",
       "text": [
        "\n",
        "downloads_id: 426560018\n",
        "[205, 206, 207, 208, 210, 211, 212, 213, 316, 320, 323, 324, 328, 373, 407, 437, 442, 447]"
       ]
      },
      {
       "output_type": "stream",
       "stream": "stdout",
       "text": [
        "\n",
        "[184, 205, 206, 207, 208]\n",
        "[181, 184, 202, 205, 206, 207, 208, 209, 210, 211, 212]"
       ]
      },
      {
       "output_type": "stream",
       "stream": "stdout",
       "text": [
        "\n",
        "original article tmp file "
       ]
      },
      {
       "output_type": "stream",
       "stream": "stdout",
       "text": [
        " /tmp/tmpunkLmn.html\n",
        "/tmp/tmp_nz_j4.html\n",
        "/tmp/tmpunkLmn.html\n",
        "/tmp/tmpunkLmn.html\n",
        "Now open file:///tmp/tmp_nz_j4.html in your web browser\n"
       ]
      },
      {
       "output_type": "stream",
       "stream": "stdout",
       "text": [
        "\n",
        "{'heur': 540, 'boiler_pipe': 59, 'downloads_id': 426560018, 'crf': 1486, 'python_readibilty': 170}"
       ]
      },
      {
       "output_type": "stream",
       "stream": "stdout",
       "text": [
        "\n",
        "downloads_id: 426632784\n",
        "[405, 407, 409, 411, 413, 415, 417, 419, 420, 423, 642, 643, 644, 645]"
       ]
      },
      {
       "output_type": "stream",
       "stream": "stdout",
       "text": [
        "\n",
        "[392, 405, 407, 409, 411, 413, 415, 417, 419, 420, 421, 423]\n",
        "[392, 398, 405, 407, 409, 411, 413, 415, 417, 419, 420, 421]"
       ]
      },
      {
       "output_type": "stream",
       "stream": "stdout",
       "text": [
        "\n",
        "original article tmp file "
       ]
      },
      {
       "output_type": "stream",
       "stream": "stdout",
       "text": [
        " /tmp/tmpUGeqyh.html\n",
        "/tmp/tmp0naCRC.html\n",
        "/tmp/tmpUGeqyh.html\n",
        "/tmp/tmpUGeqyh.html\n",
        "Now open file:///tmp/tmp0naCRC.html in your web browser\n"
       ]
      },
      {
       "output_type": "stream",
       "stream": "stdout",
       "text": [
        "\n",
        "Unexpected error on string '<'"
       ]
      },
      {
       "output_type": "stream",
       "stream": "stdout",
       "text": [
        " <class 'lxml.etree.ParserError'>\n",
        "{'heur': 823, 'boiler_pipe': 559, 'downloads_id': 426632784, 'crf': 303, 'python_readibilty': 360}"
       ]
      },
      {
       "output_type": "stream",
       "stream": "stdout",
       "text": [
        "\n",
        "downloads_id: 426709900\n",
        "[110, 111, 112, 113, 114, 115, 116, 117, 118, 119, 120, 121, 122, 123, 124, 125, 126, 127, 128, 141, 142, 143, 144, 145, 146, 147]"
       ]
      },
      {
       "output_type": "stream",
       "stream": "stdout",
       "text": [
        "\n",
        "[97, 98, 99, 110, 111, 112, 113, 114, 115, 116, 117, 118, 119, 120, 121, 122, 123, 124, 125, 126, 127, 128, 136, 141, 142, 143, 144, 145, 146, 147]\n",
        "[97, 98, 99, 110, 111, 112, 113, 114, 115, 116, 117, 118, 119, 120, 121, 122, 123, 124, 125, 126, 127, 128, 136, 141, 142, 143, 144, 145, 146, 147]"
       ]
      },
      {
       "output_type": "stream",
       "stream": "stdout",
       "text": [
        "\n",
        "original article tmp file "
       ]
      },
      {
       "output_type": "stream",
       "stream": "stdout",
       "text": [
        " /tmp/tmpiJR9hX.html\n",
        "/tmp/tmpHTB2Co.html\n",
        "/tmp/tmpiJR9hX.html\n",
        "/tmp/tmpiJR9hX.html\n",
        "Now open file:///tmp/tmpHTB2Co.html in your web browser\n"
       ]
      },
      {
       "output_type": "stream",
       "stream": "stdout",
       "text": [
        "\n",
        "Unexpected error on string '<'"
       ]
      },
      {
       "output_type": "stream",
       "stream": "stdout",
       "text": [
        " <class 'lxml.etree.ParserError'>\n",
        "{'heur': 197, 'boiler_pipe': 416, 'downloads_id': 426709900, 'crf': 0, 'python_readibilty': 247}"
       ]
      },
      {
       "output_type": "stream",
       "stream": "stdout",
       "text": [
        "\n",
        "downloads_id: 428449440\n",
        "[154, 157, 196, 198, 199]"
       ]
      },
      {
       "output_type": "stream",
       "stream": "stdout",
       "text": [
        "\n",
        "[157, 196, 197, 198, 199, 429, 430, 483]\n",
        "[157, 161, 196, 198, 199]"
       ]
      },
      {
       "output_type": "stream",
       "stream": "stdout",
       "text": [
        "\n",
        "original article tmp file "
       ]
      },
      {
       "output_type": "stream",
       "stream": "stdout",
       "text": [
        " /tmp/tmpyPU1pL.html\n",
        "/tmp/tmpQdHZh_.html\n",
        "/tmp/tmpyPU1pL.html\n",
        "/tmp/tmpyPU1pL.html\n",
        "Now open file:///tmp/tmpQdHZh_.html in your web browser\n"
       ]
      },
      {
       "output_type": "stream",
       "stream": "stdout",
       "text": [
        "\n",
        "{'heur': 93, 'boiler_pipe': 251, 'downloads_id': 428449440, 'crf': 287, 'python_readibilty': 97}\n",
        "downloads_id: 429607289\n",
        "[230, 231, 232, 233, 234, 235, 236, 237, 238, 239, 240, 241, 242, 243, 244, 245, 246, 247, 248, 249]"
       ]
      },
      {
       "output_type": "stream",
       "stream": "stdout",
       "text": [
        "\n",
        "[198, 230, 231, 232, 233, 234, 235, 236, 237, 238, 239, 240, 241, 242, 243, 244, 245, 246, 247, 248, 249, 670, 722]\n",
        "[198, 230, 231, 232, 233, 234, 235, 236, 237, 238, 239, 240, 241, 242, 243, 244, 245, 246, 247, 248, 249, 670, 722]"
       ]
      },
      {
       "output_type": "stream",
       "stream": "stdout",
       "text": [
        "\n",
        "original article tmp file "
       ]
      },
      {
       "output_type": "stream",
       "stream": "stdout",
       "text": [
        " /tmp/tmp9yoceY.html\n",
        "/tmp/tmpdF4wMX.html\n",
        "/tmp/tmp9yoceY.html\n",
        "/tmp/tmp9yoceY.html\n",
        "Now open file:///tmp/tmpdF4wMX.html in your web browser\n"
       ]
      },
      {
       "output_type": "stream",
       "stream": "stdout",
       "text": [
        "\n",
        "{'heur': 129, 'boiler_pipe': 5096, 'downloads_id': 429607289, 'crf': 0, 'python_readibilty': 134}"
       ]
      },
      {
       "output_type": "stream",
       "stream": "stdout",
       "text": [
        "\n",
        "downloads_id: 430363249\n",
        "[281, 282, 286, 303, 304, 305, 306, 307, 308, 309, 310, 428, 438, 443, 448, 457, 462, 467, 472, 477, 485, 490, 495, 500, 505, 567]"
       ]
      },
      {
       "output_type": "stream",
       "stream": "stdout",
       "text": [
        "\n",
        "[281, 282, 284, 286, 302, 303, 304, 305, 306, 307, 308, 309, 443]\n",
        "[281, 282, 284, 286, 302, 303, 304, 305, 306, 307, 308, 309]"
       ]
      },
      {
       "output_type": "stream",
       "stream": "stdout",
       "text": [
        "\n",
        "original article tmp file "
       ]
      },
      {
       "output_type": "stream",
       "stream": "stdout",
       "text": [
        " /tmp/tmpw7VKwb.html\n",
        "/tmp/tmpy1HQqt.html\n",
        "/tmp/tmpw7VKwb.html\n",
        "/tmp/tmpw7VKwb.html\n",
        "Now open file:///tmp/tmpy1HQqt.html in your web browser\n"
       ]
      },
      {
       "output_type": "stream",
       "stream": "stdout",
       "text": [
        "\n",
        "{'heur': 1208, 'boiler_pipe': 22, 'downloads_id': 430363249, 'crf': 76, 'python_readibilty': 260}\n",
        "downloads_id: 430995428\n",
        "[1059, 1094, 1095, 1096, 1101, 1143]"
       ]
      },
      {
       "output_type": "stream",
       "stream": "stdout",
       "text": [
        "\n",
        "[1059, 1094, 1095, 1096]\n",
        "[1059, 1062, 1092, 1094, 1095, 1096]"
       ]
      },
      {
       "output_type": "stream",
       "stream": "stdout",
       "text": [
        "\n",
        "original article tmp file "
       ]
      },
      {
       "output_type": "stream",
       "stream": "stdout",
       "text": [
        " /tmp/tmpYSZPpr.html\n",
        "/tmp/tmplXkY6I.html\n",
        "/tmp/tmpYSZPpr.html\n",
        "/tmp/tmpYSZPpr.html\n",
        "Now open file:///tmp/tmplXkY6I.html in your web browser\n"
       ]
      },
      {
       "output_type": "stream",
       "stream": "stdout",
       "text": [
        "\n",
        "{'heur': 250, 'boiler_pipe': 161, 'downloads_id': 430995428, 'crf': 136, 'python_readibilty': 189}\n",
        "downloads_id: 433457459\n",
        "[11041, 11042, 11045, 11046]"
       ]
      },
      {
       "output_type": "stream",
       "stream": "stdout",
       "text": [
        "\n",
        "[11041, 11042, 11043, 11044, 11045, 11046]\n",
        "[11021, 11024, 11041, 11042, 11045, 11046]"
       ]
      },
      {
       "output_type": "stream",
       "stream": "stdout",
       "text": [
        "\n",
        "original article tmp file "
       ]
      },
      {
       "output_type": "stream",
       "stream": "stdout",
       "text": [
        " /tmp/tmpZkLSl4.html\n",
        "/tmp/tmpKivQGe.html\n",
        "/tmp/tmpZkLSl4.html\n",
        "/tmp/tmpZkLSl4.html\n",
        "Now open file:///tmp/tmpKivQGe.html in your web browser\n"
       ]
      },
      {
       "output_type": "stream",
       "stream": "stdout",
       "text": [
        "\n",
        "{'heur': 79, 'boiler_pipe': 93, 'downloads_id': 433457459, 'crf': 141, 'python_readibilty': 116}\n",
        "downloads_id: 435624796\n",
        "[3280, 3283, 3387, 3408, 3421, 3434, 3454, 3456, 3460, 3462, 3527, 3528, 3626]"
       ]
      },
      {
       "output_type": "stream",
       "stream": "stdout",
       "text": [
        "\n",
        "[186, 3280, 3283, 3528, 3895]\n",
        "[3280, 3283, 3387, 3446, 3454, 3456, 3458, 3460, 3462, 3528]"
       ]
      },
      {
       "output_type": "stream",
       "stream": "stdout",
       "text": [
        "\n",
        "original article tmp file "
       ]
      },
      {
       "output_type": "stream",
       "stream": "stdout",
       "text": [
        " /tmp/tmpn9yWkK.html\n",
        "/tmp/tmpw8dwoC.html\n",
        "/tmp/tmpn9yWkK.html\n",
        "/tmp/tmpn9yWkK.html\n",
        "Now open file:///tmp/tmpw8dwoC.html in your web browser\n"
       ]
      },
      {
       "output_type": "stream",
       "stream": "stdout",
       "text": [
        "\n",
        "{'heur': 249, 'boiler_pipe': 96, 'downloads_id': 435624796, 'crf': 1577, 'python_readibilty': 405}\n",
        "downloads_id: 435659593\n",
        "[366, 367, 368, 369, 425, 432, 439, 463, 473, 503, 510, 527, 558, 568, 759]"
       ]
      },
      {
       "output_type": "stream",
       "stream": "stdout",
       "text": [
        "\n",
        "[363, 366, 367, 368, 369, 432]\n",
        "[362, 363, 366, 367, 368, 369]"
       ]
      },
      {
       "output_type": "stream",
       "stream": "stdout",
       "text": [
        "\n",
        "original article tmp file "
       ]
      },
      {
       "output_type": "stream",
       "stream": "stdout",
       "text": [
        " /tmp/tmpgoNDgW.html\n",
        "/tmp/tmpcJJRWx.html\n",
        "/tmp/tmpgoNDgW.html\n",
        "/tmp/tmpgoNDgW.html\n",
        "Now open file:///tmp/tmpcJJRWx.html in your web browser\n"
       ]
      },
      {
       "output_type": "stream",
       "stream": "stdout",
       "text": [
        "\n",
        "{'heur': 898, 'boiler_pipe': 98, 'downloads_id': 435659593, 'crf': 104, 'python_readibilty': 29}\n",
        "downloads_id: 461175103\n",
        "[168, 169, 170, 171, 172, 173, 174, 175, 176, 177, 178, 179, 180, 181, 182, 183, 184, 187, 258, 259, 260, 261, 262, 264, 265, 266]"
       ]
      },
      {
       "output_type": "stream",
       "stream": "stdout",
       "text": [
        "\n",
        "[164, 167, 168, 169, 170, 171, 172, 173, 174, 175, 176, 177, 178, 179, 180, 181, 182, 183, 184, 3904, 3905, 3906, 3907, 3908, 3909, 3910, 3911, 3912, 3913, 3914, 3915, 3916, 3917, 3918, 3919, 3920, 3921, 3922, 3923, 3924, 3925, 3926, 3927, 3928, 3929, 3930]\n",
        "[164, 167, 168, 169, 170, 171, 172, 173, 174, 175, 176, 177, 178, 179, 180, 181, 182, 183, 184]"
       ]
      },
      {
       "output_type": "stream",
       "stream": "stdout",
       "text": [
        "\n",
        "original article tmp file "
       ]
      },
      {
       "output_type": "stream",
       "stream": "stdout",
       "text": [
        " /tmp/tmpHWEVhV.html\n",
        "/tmp/tmp39oAqP.html\n",
        "/tmp/tmpHWEVhV.html\n",
        "/tmp/tmpHWEVhV.html\n",
        "Now open file:///tmp/tmp39oAqP.html in your web browser\n"
       ]
      },
      {
       "output_type": "stream",
       "stream": "stdout",
       "text": [
        "\n",
        "{'heur': 3407, 'boiler_pipe': 861, 'downloads_id': 461175103, 'crf': 7723, 'python_readibilty': 4758}"
       ]
      },
      {
       "output_type": "stream",
       "stream": "stdout",
       "text": [
        "\n",
        "downloads_id: 461175549\n",
        "[]"
       ]
      },
      {
       "output_type": "stream",
       "stream": "stdout",
       "text": [
        "\n",
        "[]\n",
        "[38]"
       ]
      },
      {
       "output_type": "stream",
       "stream": "stdout",
       "text": [
        "\n",
        "original article tmp file "
       ]
      },
      {
       "output_type": "stream",
       "stream": "stdout",
       "text": [
        " /tmp/tmp3JW1Lh.html\n",
        "/tmp/tmpdFZWVw.html\n",
        "/tmp/tmp3JW1Lh.html\n",
        "/tmp/tmp3JW1Lh.html\n",
        "Now open file:///tmp/tmpdFZWVw.html in your web browser\n"
       ]
      },
      {
       "output_type": "stream",
       "stream": "stdout",
       "text": [
        "\n",
        "Unexpected error on string ' ' <class 'lxml.etree.ParserError'>\n",
        "Unexpected error on string ' ' <class 'lxml.etree.ParserError'>\n",
        "Unexpected error on string ' ' <class 'lxml.etree.ParserError'>\n",
        "Unexpected error on string ' ' <class 'lxml.etree.ParserError'>\n",
        "Unexpected error on string ' ' <class 'lxml.etree.ParserError'>\n",
        "Unexpected error on string ' ' <class 'lxml.etree.ParserError'>\n",
        "Unexpected error on string '<' <class 'lxml.etree.ParserError'>\n",
        "Unexpected error on string ' ' <class 'lxml.etree.ParserError'>\n",
        "Unexpected error on string ' ' <class 'lxml.etree.ParserError'>\n",
        "Unexpected error on string ' ' <class 'lxml.etree.ParserError'>\n",
        "Unexpected error on string ' ' <class 'lxml.etree.ParserError'>\n",
        "Unexpected error on string ' ' <class 'lxml.etree.ParserError'>\n",
        "Unexpected error on string ' ' <class 'lxml.etree.ParserError'>\n",
        "Unexpected error on string ' ' <class 'lxml.etree.ParserError'>\n",
        "Unexpected error on string ' ' <class 'lxml.etree.ParserError'>\n",
        "Unexpected error on string ' ' <class 'lxml.etree.ParserError'>\n",
        "Unexpected error on string ' ' <class 'lxml.etree.ParserError'>\n",
        "Unexpected error on string ' ' <class 'lxml.etree.ParserError'>\n",
        "Unexpected error on string ' ' <class 'lxml.etree.ParserError'>\n",
        "Unexpected error on string ' ' <class 'lxml.etree.ParserError'>\n",
        "Unexpected error on string ' ' <class 'lxml.etree.ParserError'>\n",
        "Unexpected error on string ' ' <class 'lxml.etree.ParserError'>\n",
        "Unexpected error on string ' ' <class 'lxml.etree.ParserError'>\n",
        "Unexpected error on string ' ' <class 'lxml.etree.ParserError'>\n",
        "Unexpected error on string ' ' <class 'lxml.etree.ParserError'>\n",
        "Unexpected error on string '<' <class 'lxml.etree.ParserError'>\n",
        "Unexpected error on string ' ' <class 'lxml.etree.ParserError'>\n",
        "Unexpected error on string ' ' <class 'lxml.etree.ParserError'>\n",
        "Unexpected error on string ' ' <class 'lxml.etree.ParserError'>\n",
        "Unexpected error on string ' ' <class 'lxml.etree.ParserError'>\n",
        "Unexpected error on string ' ' <class 'lxml.etree.ParserError'>\n",
        "Unexpected error on string ' ' <class 'lxml.etree.ParserError'>\n",
        "Unexpected error on string '<' <class 'lxml.etree.ParserError'>\n",
        "Unexpected error on string ' ' <class 'lxml.etree.ParserError'>\n",
        "Unexpected error on string ' ' <class 'lxml.etree.ParserError'>\n",
        "Unexpected error on string ' ' <class 'lxml.etree.ParserError'>\n",
        "Unexpected error on string ' ' <class 'lxml.etree.ParserError'>\n",
        "Unexpected error on string ' ' <class 'lxml.etree.ParserError'>\n",
        "Unexpected error on string ' ' <class 'lxml.etree.ParserError'>\n",
        "Unexpected error on string ' ' <class 'lxml.etree.ParserError'>\n",
        "Unexpected error on string ' ' <class 'lxml.etree.ParserError'>\n",
        "Unexpected error on string ' ' <class 'lxml.etree.ParserError'>\n",
        "Unexpected error on string ' ' <class 'lxml.etree.ParserError'>\n",
        "Unexpected error on string ' ' <class 'lxml.etree.ParserError'>\n",
        "Unexpected error on string ' ' <class 'lxml.etree.ParserError'>\n",
        "Unexpected error on string ' ' <class 'lxml.etree.ParserError'>\n",
        "Unexpected error on string ' ' <class 'lxml.etree.ParserError'>\n",
        "Unexpected error on string ' ' <class 'lxml.etree.ParserError'>\n",
        "Unexpected error on string ' ' <class 'lxml.etree.ParserError'>\n",
        "Unexpected error on string ' ' <class 'lxml.etree.ParserError'>\n",
        "Unexpected error on string ' ' <class 'lxml.etree.ParserError'>\n",
        "Unexpected error on string '<' <class 'lxml.etree.ParserError'>\n",
        "Unexpected error on string ' ' <class 'lxml.etree.ParserError'>\n",
        "Unexpected error on string ' ' <class 'lxml.etree.ParserError'>\n",
        "Unexpected error on string ' ' <class 'lxml.etree.ParserError'>\n",
        "Unexpected error on string ' ' <class 'lxml.etree.ParserError'>\n",
        "Unexpected error on string ' ' <class 'lxml.etree.ParserError'>\n",
        "Unexpected error on string ' ' <class 'lxml.etree.ParserError'>\n",
        "Unexpected error on string '<' <class 'lxml.etree.ParserError'>\n",
        "Unexpected error on string ' ' <class 'lxml.etree.ParserError'>\n",
        "Unexpected error on string ' ' <class 'lxml.etree.ParserError'>\n",
        "Unexpected error on string ' ' <class 'lxml.etree.ParserError'>\n",
        "Unexpected error on string ' ' <class 'lxml.etree.ParserError'>\n",
        "Unexpected error on string ' ' <class 'lxml.etree.ParserError'>\n",
        "Unexpected error on string ' ' <class 'lxml.etree.ParserError'>\n",
        "Unexpected error on string ' ' <class 'lxml.etree.ParserError'>\n",
        "Unexpected error on string ' ' <class 'lxml.etree.ParserError'>\n",
        "Unexpected error on string ' ' <class 'lxml.etree.ParserError'>\n",
        "Unexpected error on string ' ' <class 'lxml.etree.ParserError'>\n",
        "Unexpected error on string ' ' <class 'lxml.etree.ParserError'>\n",
        "Unexpected error on string ' ' <class 'lxml.etree.ParserError'>\n",
        "Unexpected error on string ' ' <class 'lxml.etree.ParserError'>\n",
        "Unexpected error on string ' ' <class 'lxml.etree.ParserError'>\n",
        "Unexpected error on string ' ' <class 'lxml.etree.ParserError'>\n",
        "Unexpected error on string ' ' <class 'lxml.etree.ParserError'>\n",
        "Unexpected error on string ' ' <class 'lxml.etree.ParserError'>\n",
        "Unexpected error on string ' ' <class 'lxml.etree.ParserError'>\n",
        "Unexpected error on string '<' <class 'lxml.etree.ParserError'>\n",
        "Unexpected error on string ' ' <class 'lxml.etree.ParserError'>\n",
        "Unexpected error on string ' ' <class 'lxml.etree.ParserError'>\n",
        "Unexpected error on string ' ' <class 'lxml.etree.ParserError'>\n",
        "Unexpected error on string ' ' <class 'lxml.etree.ParserError'>\n",
        "Unexpected error on string ' ' <class 'lxml.etree.ParserError'>\n",
        "Unexpected error on string ' ' <class 'lxml.etree.ParserError'>\n",
        "Unexpected error on string '<' <class 'lxml.etree.ParserError'>\n",
        "Unexpected error on string ' ' <class 'lxml.etree.ParserError'>\n",
        "Unexpected error on string ' ' <class 'lxml.etree.ParserError'>\n",
        "Unexpected error on string ' ' <class 'lxml.etree.ParserError'>\n",
        "Unexpected error on string ' ' <class 'lxml.etree.ParserError'>\n",
        "Unexpected error on string ' ' <class 'lxml.etree.ParserError'>\n",
        "Unexpected error on string ' ' <class 'lxml.etree.ParserError'>\n",
        "Unexpected error on string ' ' <class 'lxml.etree.ParserError'>\n",
        "Unexpected error on string ' ' <class 'lxml.etree.ParserError'>\n",
        "Unexpected error on string ' ' <class 'lxml.etree.ParserError'>\n",
        "Unexpected error on string ' ' <class 'lxml.etree.ParserError'>\n",
        "Unexpected error on string ' ' <class 'lxml.etree.ParserError'>\n",
        "Unexpected error on string ' ' <class 'lxml.etree.ParserError'>\n",
        "Unexpected error on string ' ' <class 'lxml.etree.ParserError'>\n",
        "Unexpected error on string ' ' <class 'lxml.etree.ParserError'>\n",
        "Unexpected error on string ' ' <class 'lxml.etree.ParserError'>\n",
        "Unexpected error on string ' ' <class 'lxml.etree.ParserError'>\n",
        "Unexpected error on string ' ' <class 'lxml.etree.ParserError'>\n",
        "Unexpected error on string ' ' <class 'lxml.etree.ParserError'>\n",
        "Unexpected error on string '<' <class 'lxml.etree.ParserError'>\n",
        "{'heur': 249, 'boiler_pipe': 249, 'downloads_id': 461175549, 'crf': 249, 'python_readibilty': 161}\n",
        "downloads_id: 461176415\n",
        "[447, 480, 562, 569, 575, 576, 577, 687, 693, 699, 705, 711, 720, 726, 732, 738, 744, 753, 759, 765, 771, 777, 896]"
       ]
      },
      {
       "output_type": "stream",
       "stream": "stdout",
       "text": [
        "\n",
        "[447, 449, 480]\n",
        "[447, 449, 451, 464, 470, 480]"
       ]
      },
      {
       "output_type": "stream",
       "stream": "stdout",
       "text": [
        "\n",
        "original article tmp file "
       ]
      },
      {
       "output_type": "stream",
       "stream": "stdout",
       "text": [
        " /tmp/tmpg_5ofo.html\n",
        "/tmp/tmpgR8q4z.html\n",
        "/tmp/tmpg_5ofo.html\n",
        "/tmp/tmpg_5ofo.html\n",
        "Now open file:///tmp/tmpgR8q4z.html in your web browser\n"
       ]
      },
      {
       "output_type": "stream",
       "stream": "stdout",
       "text": [
        "\n",
        "{'heur': 1753, 'boiler_pipe': 241, 'downloads_id': 461176415, 'crf': 335, 'python_readibilty': 349}"
       ]
      },
      {
       "output_type": "stream",
       "stream": "stdout",
       "text": [
        "\n",
        "downloads_id: 461176844\n",
        "[595, 598, 599, 600, 601, 602, 603, 604, 605, 606, 607, 608, 609, 610, 611, 679, 739]"
       ]
      },
      {
       "output_type": "stream",
       "stream": "stdout",
       "text": [
        "\n",
        "[371, 595, 598, 599, 600, 601, 602, 603, 604, 605, 606, 607, 608, 609, 610, 611, 613]\n",
        "[595, 598, 599, 600, 601, 602, 603, 604, 605, 606, 607, 608, 609, 610, 611]"
       ]
      },
      {
       "output_type": "stream",
       "stream": "stdout",
       "text": [
        "\n",
        "original article tmp file "
       ]
      },
      {
       "output_type": "stream",
       "stream": "stdout",
       "text": [
        " /tmp/tmpKhVe4_.html\n",
        "/tmp/tmpwsS6a3.html\n",
        "/tmp/tmpKhVe4_.html\n",
        "/tmp/tmpKhVe4_.html\n",
        "Now open file:///tmp/tmpwsS6a3.html in your web browser\n"
       ]
      },
      {
       "output_type": "stream",
       "stream": "stdout",
       "text": [
        "\n",
        "{'heur': 421, 'boiler_pipe': 95, 'downloads_id': 461176844, 'crf': 757, 'python_readibilty': 160}"
       ]
      },
      {
       "output_type": "stream",
       "stream": "stdout",
       "text": [
        "\n",
        "downloads_id: 461177487\n",
        "[714, 722, 723, 724, 725, 998, 1051, 1056, 1077, 1098, 1119, 1140, 1161]"
       ]
      },
      {
       "output_type": "stream",
       "stream": "stdout",
       "text": [
        "\n",
        "[612]\n",
        "[704, 714, 722, 723, 724, 725]"
       ]
      },
      {
       "output_type": "stream",
       "stream": "stdout",
       "text": [
        "\n",
        "original article tmp file "
       ]
      },
      {
       "output_type": "stream",
       "stream": "stdout",
       "text": [
        " /tmp/tmpqn9YDy.html\n",
        "/tmp/tmprrliDg.html\n",
        "/tmp/tmpqn9YDy.html\n",
        "/tmp/tmpqn9YDy.html\n",
        "Now open file:///tmp/tmprrliDg.html in your web browser\n"
       ]
      },
      {
       "output_type": "stream",
       "stream": "stdout",
       "text": [
        "\n",
        "Unexpected error on string '<' <class 'lxml.etree.ParserError'>\n",
        "Unexpected error on string ' ' <class 'lxml.etree.ParserError'>\n",
        "Unexpected error on string '<' <class 'lxml.etree.ParserError'>\n",
        "Unexpected error on string ' ' <class 'lxml.etree.ParserError'>\n",
        "Unexpected error on string ' ' <class 'lxml.etree.ParserError'>\n",
        "Unexpected error on string ' ' <class 'lxml.etree.ParserError'>\n",
        "Unexpected error on string '<' <class 'lxml.etree.ParserError'>\n",
        "Unexpected error on string '<' <class 'lxml.etree.ParserError'>\n",
        "{'heur': 967, 'boiler_pipe': 12, 'downloads_id': 461177487, 'crf': 949, 'python_readibilty': 34}\n",
        "downloads_id: 461178557\n",
        "[837, 838, 1159, 1185, 1211, 1237, 1263, 1291, 1317, 1343, 1369, 1395]"
       ]
      },
      {
       "output_type": "stream",
       "stream": "stdout",
       "text": [
        "\n",
        "[]\n",
        "[836, 837, 838]"
       ]
      },
      {
       "output_type": "stream",
       "stream": "stdout",
       "text": [
        "\n",
        "original article tmp file "
       ]
      },
      {
       "output_type": "stream",
       "stream": "stdout",
       "text": [
        " /tmp/tmpOxBoJr.html\n",
        "/tmp/tmpi4mbqU.html\n",
        "/tmp/tmpOxBoJr.html\n",
        "/tmp/tmpOxBoJr.html\n",
        "Now open file:///tmp/tmpi4mbqU.html in your web browser\n"
       ]
      },
      {
       "output_type": "stream",
       "stream": "stdout",
       "text": [
        "\n",
        "{'heur': 300, 'boiler_pipe': 8, 'downloads_id': 461178557, 'crf': 271, 'python_readibilty': 1736}\n",
        "downloads_id: 461178590\n",
        "[608, 695, 696, 697, 698, 699, 700, 701, 702, 977, 978, 979, 980, 993, 997, 1085, 1138, 1230, 1297, 1299, 1328]"
       ]
      },
      {
       "output_type": "stream",
       "stream": "stdout",
       "text": [
        "\n",
        "[]\n",
        "[607, 608, 609, 693, 695, 696, 697, 698, 699, 700, 701, 702]"
       ]
      },
      {
       "output_type": "stream",
       "stream": "stdout",
       "text": [
        "\n",
        "original article tmp file "
       ]
      },
      {
       "output_type": "stream",
       "stream": "stdout",
       "text": [
        " /tmp/tmpbJNmcz.html\n",
        "/tmp/tmpep9Cn7.html\n",
        "/tmp/tmpbJNmcz.html\n",
        "/tmp/tmpbJNmcz.html\n",
        "Now open file:///tmp/tmpep9Cn7.html in your web browser\n"
       ]
      },
      {
       "output_type": "stream",
       "stream": "stdout",
       "text": [
        "\n",
        "{'heur': 896, 'boiler_pipe': 1244, 'downloads_id': 461178590, 'crf': 3167, 'python_readibilty': 215}"
       ]
      },
      {
       "output_type": "stream",
       "stream": "stdout",
       "text": [
        "\n",
        "downloads_id: 461179203\n",
        "[761, 767, 990, 1012, 1034, 1826]"
       ]
      },
      {
       "output_type": "stream",
       "stream": "stdout",
       "text": [
        "\n",
        "[]\n",
        "[738, 748, 752, 753, 755, 757, 759, 761, 763, 765, 767, 769, 771, 773, 775, 777, 779]"
       ]
      },
      {
       "output_type": "stream",
       "stream": "stdout",
       "text": [
        "\n",
        "original article tmp file "
       ]
      },
      {
       "output_type": "stream",
       "stream": "stdout",
       "text": [
        " /tmp/tmpPulHmb.html\n",
        "/tmp/tmp48XBkw.html\n",
        "/tmp/tmpPulHmb.html\n",
        "/tmp/tmpPulHmb.html\n",
        "Now open file:///tmp/tmp48XBkw.html in your web browser\n"
       ]
      },
      {
       "output_type": "stream",
       "stream": "stdout",
       "text": [
        "\n",
        "{'heur': 3680, 'boiler_pipe': 68, 'downloads_id': 461179203, 'crf': 5198, 'python_readibilty': 530}"
       ]
      },
      {
       "output_type": "stream",
       "stream": "stdout",
       "text": [
        "\n",
        "downloads_id: 461179222\n",
        "[1083, 1210, 1428]"
       ]
      },
      {
       "output_type": "stream",
       "stream": "stdout",
       "text": [
        "\n",
        "[]\n",
        "[1174, 1181, 1189, 1195, 1199, 1203, 1206, 1210, 1214, 1218]"
       ]
      },
      {
       "output_type": "stream",
       "stream": "stdout",
       "text": [
        "\n",
        "original article tmp file "
       ]
      },
      {
       "output_type": "stream",
       "stream": "stdout",
       "text": [
        " /tmp/tmpkpTPlw.html\n",
        "/tmp/tmpyq2HDB.html\n",
        "/tmp/tmpkpTPlw.html\n",
        "/tmp/tmpkpTPlw.html\n",
        "Now open file:///tmp/tmpyq2HDB.html in your web browser\n"
       ]
      },
      {
       "output_type": "stream",
       "stream": "stdout",
       "text": [
        "\n",
        "{'heur': 1112, 'boiler_pipe': 63, 'downloads_id': 461179222, 'crf': 1552, 'python_readibilty': 57}\n",
        "downloads_id: 461179441\n",
        "[787, 790, 793, 800, 804, 808, 812, 816, 820, 1666, 1708, 1712]"
       ]
      },
      {
       "output_type": "stream",
       "stream": "stdout",
       "text": [
        "\n",
        "[]\n",
        "[709, 716, 721, 787, 790, 793, 796, 799, 800, 803, 804, 807, 808, 811, 812, 815, 816, 819, 820]"
       ]
      },
      {
       "output_type": "stream",
       "stream": "stdout",
       "text": [
        "\n",
        "original article tmp file "
       ]
      },
      {
       "output_type": "stream",
       "stream": "stdout",
       "text": [
        " /tmp/tmphMFxOS.html\n",
        "/tmp/tmpHkunQR.html\n",
        "/tmp/tmphMFxOS.html\n",
        "/tmp/tmphMFxOS.html\n",
        "Now open file:///tmp/tmpHkunQR.html in your web browser\n"
       ]
      },
      {
       "output_type": "stream",
       "stream": "stdout",
       "text": [
        "\n",
        "{'heur': 528, 'boiler_pipe': 319, 'downloads_id': 461179441, 'crf': 2481, 'python_readibilty': 203}"
       ]
      },
      {
       "output_type": "stream",
       "stream": "stdout",
       "text": [
        "\n",
        "downloads_id: 461179762\n",
        "[153, 154, 155, 157, 160, 161, 162, 163, 166, 167, 168, 169, 170, 171, 172, 239, 256]"
       ]
      },
      {
       "output_type": "stream",
       "stream": "stdout",
       "text": [
        "\n",
        "[142, 144, 149, 151, 153, 154, 155, 157, 158, 160, 161, 162, 163, 164, 166, 167, 168, 169, 170, 171, 172, 225]\n",
        "[142, 144, 149, 151, 153, 154, 155, 157, 160, 161, 162, 163, 164, 166, 167, 168, 169, 170, 171, 172]"
       ]
      },
      {
       "output_type": "stream",
       "stream": "stdout",
       "text": [
        "\n",
        "original article tmp file "
       ]
      },
      {
       "output_type": "stream",
       "stream": "stdout",
       "text": [
        " /tmp/tmpiK7ced.html\n",
        "/tmp/tmpIcAmyx.html\n",
        "/tmp/tmpiK7ced.html\n",
        "/tmp/tmpiK7ced.html\n",
        "Now open file:///tmp/tmpIcAmyx.html in your web browser\n"
       ]
      },
      {
       "output_type": "stream",
       "stream": "stdout",
       "text": [
        "\n",
        "{'heur': 5640, 'boiler_pipe': 110, 'downloads_id': 461179762, 'crf': 159, 'python_readibilty': 66}"
       ]
      },
      {
       "output_type": "stream",
       "stream": "stdout",
       "text": [
        "\n",
        "downloads_id: 461179818\n",
        "[246, 264, 266, 267, 268, 269, 270, 271, 272, 273, 274, 275, 276, 277, 278, 279, 280, 281, 282, 283, 284, 285, 286, 287, 288, 289, 290, 291, 292, 293, 294, 295, 296, 297, 298, 299, 300, 301, 302, 303, 304, 305, 306, 307, 308, 309, 310, 311, 312, 313, 314, 315, 316, 317, 318, 319, 320, 321, 322, 323, 324, 325, 326, 328, 329, 330, 331, 332, 333, 334, 335, 336, 337, 338, 339, 340, 342, 343, 344, 345, 346]"
       ]
      },
      {
       "output_type": "stream",
       "stream": "stdout",
       "text": [
        "\n",
        "[246, 264, 265, 266, 267, 268, 269, 270, 271, 272, 273, 274, 275, 276, 277, 278, 279, 280, 281, 282, 283, 284, 285, 286, 287, 288, 289, 290, 291, 292, 293, 294, 295, 296, 297, 298, 299, 300, 301, 302, 303, 304, 305, 306, 307, 308, 309, 310, 311, 312, 313, 314, 315, 316, 317, 318, 319, 320, 321, 322, 323, 324, 325, 326, 327, 328, 329, 330, 331, 332, 333, 334, 335, 336, 337, 338, 339, 340, 341, 342, 343, 344, 345, 346]\n",
        "[246, 264, 265, 266, 267, 268, 269, 270, 271, 272, 273, 274, 275, 276, 277, 278, 279, 280, 281, 282, 283, 284, 285, 286, 287, 288, 289, 290, 291, 292, 293, 294, 295, 296, 297, 298, 299, 300, 301, 302, 303, 304, 305, 306, 307, 308, 309, 310, 311, 312, 313, 314, 315, 316, 317, 318, 319, 320, 321, 322, 323, 324, 325, 326, 327, 328, 329, 330, 331, 332, 333, 334, 335, 336, 337, 338, 339, 340, 341, 342, 343, 344, 345, 346]"
       ]
      },
      {
       "output_type": "stream",
       "stream": "stdout",
       "text": [
        "\n",
        "original article tmp file "
       ]
      },
      {
       "output_type": "stream",
       "stream": "stdout",
       "text": [
        " /tmp/tmpAZPHyp.html\n",
        "/tmp/tmpvvGDq1.html\n",
        "/tmp/tmpAZPHyp.html\n",
        "/tmp/tmpAZPHyp.html\n",
        "Now open file:///tmp/tmpvvGDq1.html in your web browser\n"
       ]
      },
      {
       "output_type": "stream",
       "stream": "stdout",
       "text": [
        "\n",
        "{'heur': 107, 'boiler_pipe': 135, 'downloads_id': 461179818, 'crf': 0, 'python_readibilty': 164}"
       ]
      },
      {
       "output_type": "stream",
       "stream": "stdout",
       "text": [
        "\n",
        "downloads_id: 461179954\n",
        "[190, 191, 192, 193, 194, 195, 196, 197]"
       ]
      },
      {
       "output_type": "stream",
       "stream": "stdout",
       "text": [
        "\n",
        "[190, 191, 192, 193, 194, 195, 196, 197, 953, 954, 955, 956, 957, 958, 959, 960, 961, 962, 1157, 1158, 1159, 1160, 1161, 1162, 1163, 1172, 1174, 1175, 1176, 1177, 1178, 1179, 1180, 1189, 1191, 1192, 1193, 1194, 1195, 1306, 1307, 1308, 1309, 1310, 1311, 1312, 1313, 1314, 1315, 2402, 2403, 2404, 2405, 2406, 2407, 2408, 2409, 2410, 2411, 2412, 2769, 2770, 2771, 2772, 2773, 2774, 2775, 2776, 2777, 2778, 2779, 2780, 2781, 2782, 2783, 2784, 2785, 3503, 3504, 3505, 3506, 3507, 3508, 3509, 3510, 3569, 3570, 3571, 3572, 3573]\n",
        "[181, 182, 190, 191, 192, 193, 194, 195, 196, 197]"
       ]
      },
      {
       "output_type": "stream",
       "stream": "stdout",
       "text": [
        "\n",
        "original article tmp file "
       ]
      },
      {
       "output_type": "stream",
       "stream": "stdout",
       "text": [
        " /tmp/tmpxb1P6N.html\n",
        "/tmp/tmpJKIVuf.html\n",
        "/tmp/tmpxb1P6N.html\n",
        "/tmp/tmpxb1P6N.html\n",
        "Now open file:///tmp/tmpJKIVuf.html in your web browser\n"
       ]
      },
      {
       "output_type": "stream",
       "stream": "stdout",
       "text": [
        "\n",
        "{'heur': 83, 'boiler_pipe': 173783, 'downloads_id': 461179954, 'crf': 21819, 'python_readibilty': 3973}"
       ]
      },
      {
       "output_type": "stream",
       "stream": "stdout",
       "text": [
        "\n",
        "downloads_id: 461179956\n",
        "[575, 578, 584, 587, 590, 593, 596, 599, 602, 605, 608, 611, 614, 617, 620, 626, 629, 632, 635, 638, 641, 1172, 1368, 1372]"
       ]
      },
      {
       "output_type": "stream",
       "stream": "stdout",
       "text": [
        "\n",
        "[]\n",
        "[573, 575, 578, 580, 584, 587, 590, 593, 596, 599, 602, 605, 608, 611, 614, 617, 620, 623, 626, 629, 632, 635, 638, 641]"
       ]
      },
      {
       "output_type": "stream",
       "stream": "stdout",
       "text": [
        "\n",
        "original article tmp file "
       ]
      },
      {
       "output_type": "stream",
       "stream": "stdout",
       "text": [
        " /tmp/tmpQmXYJS.html\n",
        "/tmp/tmpUQhMFD.html\n",
        "/tmp/tmpQmXYJS.html\n",
        "/tmp/tmpQmXYJS.html\n",
        "Now open file:///tmp/tmpUQhMFD.html in your web browser\n"
       ]
      },
      {
       "output_type": "stream",
       "stream": "stdout",
       "text": [
        "\n",
        "{'heur': 257, 'boiler_pipe': 240, 'downloads_id': 461179956, 'crf': 3412, 'python_readibilty': 185}"
       ]
      },
      {
       "output_type": "stream",
       "stream": "stdout",
       "text": [
        "\n",
        "downloads_id: 461180307\n",
        "[173, 174, 176, 177, 178, 180, 181, 182]"
       ]
      },
      {
       "output_type": "stream",
       "stream": "stdout",
       "text": [
        "\n",
        "[]\n",
        "[172, 173, 174, 175, 176, 177, 178, 179, 180, 181, 182]"
       ]
      },
      {
       "output_type": "stream",
       "stream": "stdout",
       "text": [
        "\n",
        "original article tmp file "
       ]
      },
      {
       "output_type": "stream",
       "stream": "stdout",
       "text": [
        " /tmp/tmpAyRXCT.html\n",
        "/tmp/tmpv03bAJ.html\n",
        "/tmp/tmpAyRXCT.html\n",
        "/tmp/tmpAyRXCT.html\n",
        "Now open file:///tmp/tmpv03bAJ.html in your web browser\n"
       ]
      },
      {
       "output_type": "stream",
       "stream": "stdout",
       "text": [
        "\n",
        "{'heur': 793, 'boiler_pipe': 116, 'downloads_id': 461180307, 'crf': 3594, 'python_readibilty': 16}"
       ]
      },
      {
       "output_type": "stream",
       "stream": "stdout",
       "text": [
        "\n",
        "downloads_id: 461181039\n",
        "[135, 136, 149, 150, 151, 152, 153, 157, 158, 159, 160, 161, 162, 163, 164, 167, 169, 170]"
       ]
      },
      {
       "output_type": "stream",
       "stream": "stdout",
       "text": [
        "\n",
        "[122]\n",
        "[122, 124, 133, 134, 135, 136, 149, 150, 151, 152, 153, 154, 155, 156, 157, 158, 159, 160, 161, 162, 163, 164, 165, 166, 167, 168, 169, 170]"
       ]
      },
      {
       "output_type": "stream",
       "stream": "stdout",
       "text": [
        "\n",
        "original article tmp file "
       ]
      },
      {
       "output_type": "stream",
       "stream": "stdout",
       "text": [
        " /tmp/tmpKeLUBt.html\n",
        "/tmp/tmpfaMaS3.html\n",
        "/tmp/tmpKeLUBt.html\n",
        "/tmp/tmpKeLUBt.html\n",
        "Now open file:///tmp/tmpfaMaS3.html in your web browser\n"
       ]
      },
      {
       "output_type": "stream",
       "stream": "stdout",
       "text": [
        "\n",
        "Unexpected error on string '\t' <class 'lxml.etree.ParserError'>\n",
        "Unexpected error on string '\t' <class 'lxml.etree.ParserError'>\n",
        "Unexpected error on string '\t' <class 'lxml.etree.ParserError'>\n",
        "Unexpected error on string '\t' <class 'lxml.etree.ParserError'>\n",
        "Unexpected error on string '\t' <class 'lxml.etree.ParserError'>\n",
        "Unexpected error on string '\t' <class 'lxml.etree.ParserError'>\n",
        "Unexpected error on string '\t' <class 'lxml.etree.ParserError'>\n",
        "Unexpected error on string '\t' <class 'lxml.etree.ParserError'>\n",
        "Unexpected error on string '\t' <class 'lxml.etree.ParserError'>\n",
        "Unexpected error on string '<' <class 'lxml.etree.ParserError'>\n",
        "Unexpected error on string ' ' <class 'lxml.etree.ParserError'>\n",
        "Unexpected error on string ' ' <class 'lxml.etree.ParserError'>\n",
        "Unexpected error on string ' ' <class 'lxml.etree.ParserError'>\n",
        "Unexpected error on string ' ' <class 'lxml.etree.ParserError'>\n",
        "Unexpected error on string ' ' <class 'lxml.etree.ParserError'>\n",
        "Unexpected error on string ' ' <class 'lxml.etree.ParserError'>\n",
        "Unexpected error on string '<' <class 'lxml.etree.ParserError'>\n",
        "{'heur': 598, 'boiler_pipe': 177, 'downloads_id': 461181039, 'crf': 3243, 'python_readibilty': 206}"
       ]
      },
      {
       "output_type": "stream",
       "stream": "stdout",
       "text": [
        "\n",
        "downloads_id: 461181597\n",
        "[302, 303, 304, 305, 306, 307, 308]"
       ]
      },
      {
       "output_type": "stream",
       "stream": "stdout",
       "text": [
        "\n",
        "[]\n",
        "[245, 300, 301, 302, 303, 304, 305, 306, 307, 308]"
       ]
      },
      {
       "output_type": "stream",
       "stream": "stdout",
       "text": [
        "\n",
        "original article tmp file "
       ]
      },
      {
       "output_type": "stream",
       "stream": "stdout",
       "text": [
        " /tmp/tmpT4aFl2.html\n",
        "/tmp/tmpomHgDw.html\n",
        "/tmp/tmpT4aFl2.html\n",
        "/tmp/tmpT4aFl2.html\n",
        "Now open file:///tmp/tmpomHgDw.html in your web browser\n"
       ]
      },
      {
       "output_type": "stream",
       "stream": "stdout",
       "text": [
        "\n",
        "{'heur': 51, 'boiler_pipe': 14, 'downloads_id': 461181597, 'crf': 721, 'python_readibilty': 129}\n",
        "downloads_id: 461186137\n",
        "[293, 295, 297, 299, 301, 306, 308, 310, 312, 314, 316, 318, 323, 325, 327, 329, 396]"
       ]
      },
      {
       "output_type": "stream",
       "stream": "stdout",
       "text": [
        "\n",
        "[291, 293, 295, 297, 299, 301, 304, 306, 308, 310, 312, 314, 316, 318, 321, 323, 325, 327, 329]\n",
        "[268, 269, 272, 291, 293, 295, 297, 299, 301, 304, 306, 308, 310, 312, 314, 316, 318, 321, 323, 325, 327, 329]"
       ]
      },
      {
       "output_type": "stream",
       "stream": "stdout",
       "text": [
        "\n",
        "original article tmp file "
       ]
      },
      {
       "output_type": "stream",
       "stream": "stdout",
       "text": [
        " /tmp/tmpByX6HY.html\n",
        "/tmp/tmpSs56VQ.html\n",
        "/tmp/tmpByX6HY.html\n",
        "/tmp/tmpByX6HY.html\n",
        "Now open file:///tmp/tmpSs56VQ.html in your web browser\n"
       ]
      },
      {
       "output_type": "stream",
       "stream": "stdout",
       "text": [
        "\n",
        "{'heur': 658, 'boiler_pipe': 384, 'downloads_id': 461186137, 'crf': 167, 'python_readibilty': 237}"
       ]
      },
      {
       "output_type": "stream",
       "stream": "stdout",
       "text": [
        "\n",
        "downloads_id: 461186258\n",
        "[246, 263, 264, 265, 266, 267, 268, 269, 272, 273, 274, 275, 276, 277, 278, 279, 280, 281, 282, 283, 284, 285, 286, 287, 288, 289, 292, 293, 294, 295, 297, 298, 299, 300, 302, 303, 304, 305, 306, 307, 308, 309, 310, 312, 313, 314, 315, 316, 318, 319, 320, 321, 322, 323, 324, 325, 326, 327, 329, 330, 331, 332, 333, 334, 335, 336, 337, 338, 339, 343, 348, 350, 352, 356, 358, 362, 364, 366, 370, 372, 374, 376, 378, 380, 382, 384]"
       ]
      },
      {
       "output_type": "stream",
       "stream": "stdout",
       "text": [
        "\n",
        "[246, 254, 255, 256, 257, 258, 259, 260, 261, 262, 263, 264, 265, 266, 267, 268, 269, 270, 271, 272, 273, 274, 275, 276, 277, 278, 279, 280, 281, 282, 283, 284, 285, 286, 287, 288, 289, 290, 291, 292, 293, 294, 295, 296, 297, 298, 299, 300, 301, 302, 303, 304, 305, 306, 307, 308, 309, 310, 311, 312, 313, 314, 315, 316, 317, 318, 319, 320, 321, 322, 323, 324, 325, 326, 327, 328, 329, 330, 331, 332, 333, 334, 335, 336, 337, 338, 339, 340, 341, 342, 343, 344, 345, 346, 347, 348, 349, 350, 351, 352, 353, 354, 355, 356, 357, 358, 359, 360, 361, 362, 363, 364, 365, 366, 367, 368, 369, 370, 371, 372]\n",
        "[246, 256, 257, 259, 260, 261, 262, 263, 264, 265, 266, 267, 268, 269, 270, 271, 272, 273, 274, 275, 276, 277, 278, 279, 280, 281, 282, 283, 284, 285, 286, 287, 288, 289, 290, 291, 292, 293, 294, 295, 296, 297, 298, 299, 300, 301, 302, 303, 304, 305, 306, 307, 308, 309, 310, 311, 312, 313, 314, 315, 316, 317, 318, 319, 320, 321, 322, 323, 324, 325, 326, 327, 328, 329, 330, 331, 332, 333, 334, 335, 336, 337, 338, 339, 340, 341, 342, 343, 344, 345, 346, 347, 348, 349, 350, 351, 352, 353, 354, 355, 356, 357, 358, 359, 360, 361, 362, 363, 364, 365, 366, 367, 368, 369, 370, 371, 372, 373, 374, 375, 376, 377, 378, 379, 380, 381, 382, 383, 384]"
       ]
      },
      {
       "output_type": "stream",
       "stream": "stdout",
       "text": [
        "\n",
        "original article tmp file "
       ]
      },
      {
       "output_type": "stream",
       "stream": "stdout",
       "text": [
        " /tmp/tmp3LnABw.html\n",
        "/tmp/tmpWKmLVU.html\n",
        "/tmp/tmp3LnABw.html\n",
        "/tmp/tmp3LnABw.html\n",
        "Now open file:///tmp/tmpWKmLVU.html in your web browser\n"
       ]
      },
      {
       "output_type": "stream",
       "stream": "stdout",
       "text": [
        "\n",
        "{'heur': 3010, 'boiler_pipe': 573, 'downloads_id': 461186258, 'crf': 2570, 'python_readibilty': 645}"
       ]
      },
      {
       "output_type": "stream",
       "stream": "stdout",
       "text": [
        "\n",
        "downloads_id: 461186833\n",
        "[104, 122, 140, 183, 254, 255, 267, 273, 274, 375, 382]"
       ]
      },
      {
       "output_type": "stream",
       "stream": "stdout",
       "text": [
        "\n",
        "[269, 273, 274, 382]\n",
        "[248, 249, 254, 255, 267, 273, 274]"
       ]
      },
      {
       "output_type": "stream",
       "stream": "stdout",
       "text": [
        "\n",
        "original article tmp file "
       ]
      },
      {
       "output_type": "stream",
       "stream": "stdout",
       "text": [
        " /tmp/tmpwctpT1.html\n",
        "/tmp/tmp9Qti02.html\n",
        "/tmp/tmpwctpT1.html\n",
        "/tmp/tmpwctpT1.html\n",
        "Now open file:///tmp/tmp9Qti02.html in your web browser\n"
       ]
      },
      {
       "output_type": "stream",
       "stream": "stdout",
       "text": [
        "\n",
        "{'heur': 190, 'boiler_pipe': 210, 'downloads_id': 461186833, 'crf': 510, 'python_readibilty': 452}"
       ]
      },
      {
       "output_type": "stream",
       "stream": "stdout",
       "text": [
        "\n",
        "downloads_id: 461187188\n",
        "[783, 786, 789, 802, 805, 808, 811, 814, 823, 826, 829, 832, 835, 838, 841, 844, 850, 856, 859, 1702, 1744, 1748]"
       ]
      },
      {
       "output_type": "stream",
       "stream": "stdout",
       "text": [
        "\n",
        "[]\n",
        "[704, 711, 712, 717, 783, 786, 789, 802, 805, 808, 811, 814, 820, 823, 826, 829, 832, 835, 838, 841, 844, 850, 853, 856, 859]"
       ]
      },
      {
       "output_type": "stream",
       "stream": "stdout",
       "text": [
        "\n",
        "original article tmp file "
       ]
      },
      {
       "output_type": "stream",
       "stream": "stdout",
       "text": [
        " /tmp/tmpHVaQe_.html\n",
        "/tmp/tmpK0vZpN.html\n",
        "/tmp/tmpHVaQe_.html\n",
        "/tmp/tmpHVaQe_.html\n",
        "Now open file:///tmp/tmpK0vZpN.html in your web browser\n"
       ]
      },
      {
       "output_type": "stream",
       "stream": "stdout",
       "text": [
        "\n",
        "{'heur': 282, 'boiler_pipe': 265, 'downloads_id': 461187188, 'crf': 3080, 'python_readibilty': 190}"
       ]
      },
      {
       "output_type": "stream",
       "stream": "stdout",
       "text": [
        "\n",
        "downloads_id: 461187261\n",
        "[154, 172, 173, 191, 209, 210, 211, 342]"
       ]
      },
      {
       "output_type": "stream",
       "stream": "stdout",
       "text": [
        "\n",
        "[154]\n",
        "[154, 155, 171, 172, 173, 191, 209, 210, 211]"
       ]
      },
      {
       "output_type": "stream",
       "stream": "stdout",
       "text": [
        "\n",
        "original article tmp file "
       ]
      },
      {
       "output_type": "stream",
       "stream": "stdout",
       "text": [
        " /tmp/tmpk4Z8kS.html\n",
        "/tmp/tmp_TZVaE.html\n",
        "/tmp/tmpk4Z8kS.html\n",
        "/tmp/tmpk4Z8kS.html\n",
        "Now open file:///tmp/tmp_TZVaE.html in your web browser\n"
       ]
      },
      {
       "output_type": "stream",
       "stream": "stdout",
       "text": [
        "\n",
        "Unexpected error on string '<' <class 'lxml.etree.ParserError'>\n",
        "Unexpected error on string ' ' <class 'lxml.etree.ParserError'>\n",
        "Unexpected error on string ' ' <class 'lxml.etree.ParserError'>\n",
        "Unexpected error on string ' ' <class 'lxml.etree.ParserError'>\n",
        "Unexpected error on string ' ' <class 'lxml.etree.ParserError'>\n",
        "Unexpected error on string ' ' <class 'lxml.etree.ParserError'>\n",
        "Unexpected error on string ' ' <class 'lxml.etree.ParserError'>\n",
        "Unexpected error on string ' ' <class 'lxml.etree.ParserError'>\n",
        "Unexpected error on string ' ' <class 'lxml.etree.ParserError'>\n",
        "Unexpected error on string ' ' <class 'lxml.etree.ParserError'>\n",
        "Unexpected error on string ' ' <class 'lxml.etree.ParserError'>\n",
        "Unexpected error on string ' ' <class 'lxml.etree.ParserError'>\n",
        "Unexpected error on string ' ' <class 'lxml.etree.ParserError'>\n",
        "Unexpected error on string ' ' <class 'lxml.etree.ParserError'>\n",
        "Unexpected error on string ' ' <class 'lxml.etree.ParserError'>\n",
        "Unexpected error on string ' ' <class 'lxml.etree.ParserError'>\n",
        "Unexpected error on string ' ' <class 'lxml.etree.ParserError'>\n",
        "Unexpected error on string ' ' <class 'lxml.etree.ParserError'>\n",
        "Unexpected error on string '<' <class 'lxml.etree.ParserError'>\n",
        "{'heur': 91, 'boiler_pipe': 993, 'downloads_id': 461187261, 'crf': 2333, 'python_readibilty': 154}"
       ]
      },
      {
       "output_type": "stream",
       "stream": "stdout",
       "text": [
        "\n",
        "downloads_id: 461187577\n",
        "[270, 272, 273, 275, 276, 277, 278, 279, 280, 281, 282, 283, 285, 286, 287, 288, 343, 420, 425, 430]"
       ]
      },
      {
       "output_type": "stream",
       "stream": "stdout",
       "text": [
        "\n",
        "[259]\n",
        "[256, 259, 270, 272, 273, 275, 276, 277, 278, 279, 280, 281, 282, 283, 285, 286, 287, 288]"
       ]
      },
      {
       "output_type": "stream",
       "stream": "stdout",
       "text": [
        "\n",
        "original article tmp file "
       ]
      },
      {
       "output_type": "stream",
       "stream": "stdout",
       "text": [
        " /tmp/tmpJ5NnoQ.html\n",
        "/tmp/tmpWzyvkI.html\n",
        "/tmp/tmpJ5NnoQ.html\n",
        "/tmp/tmpJ5NnoQ.html\n",
        "Now open file:///tmp/tmpWzyvkI.html in your web browser\n"
       ]
      },
      {
       "output_type": "stream",
       "stream": "stdout",
       "text": [
        "\n",
        "Unexpected error on string '\t'"
       ]
      },
      {
       "output_type": "stream",
       "stream": "stdout",
       "text": [
        " <class 'lxml.etree.ParserError'>\n",
        "Unexpected error on string '\t' <class 'lxml.etree.ParserError'>\n",
        "Unexpected error on string '\t' <class 'lxml.etree.ParserError'>\n",
        "Unexpected error on string '\t' <class 'lxml.etree.ParserError'>\n",
        "Unexpected error on string '\t' <class 'lxml.etree.ParserError'>\n",
        "Unexpected error on string '\t' <class 'lxml.etree.ParserError'>\n",
        "Unexpected error on string '\t' <class 'lxml.etree.ParserError'>\n",
        "Unexpected error on string '<' <class 'lxml.etree.ParserError'>\n",
        "Unexpected error on string '<' <class 'lxml.etree.ParserError'>\n",
        "Unexpected error on string ' ' <class 'lxml.etree.ParserError'>\n",
        "Unexpected error on string ' ' <class 'lxml.etree.ParserError'>\n",
        "Unexpected error on string ' ' <class 'lxml.etree.ParserError'>\n",
        "Unexpected error on string ' ' <class 'lxml.etree.ParserError'>\n",
        "Unexpected error on string ' ' <class 'lxml.etree.ParserError'>\n",
        "Unexpected error on string ' ' <class 'lxml.etree.ParserError'>\n",
        "Unexpected error on string ' ' <class 'lxml.etree.ParserError'>\n",
        "Unexpected error on string ' ' <class 'lxml.etree.ParserError'>\n",
        "Unexpected error on string ' ' <class 'lxml.etree.ParserError'>\n",
        "Unexpected error on string ' ' <class 'lxml.etree.ParserError'>\n",
        "Unexpected error on string ' ' <class 'lxml.etree.ParserError'>\n",
        "Unexpected error on string ' ' <class 'lxml.etree.ParserError'>\n",
        "Unexpected error on string '<' <class 'lxml.etree.ParserError'>\n",
        "Unexpected error on string '<' <class 'lxml.etree.ParserError'>\n",
        "{'heur': 308, 'boiler_pipe': 82, 'downloads_id': 461187577, 'crf': 5435, 'python_readibilty': 195}"
       ]
      },
      {
       "output_type": "stream",
       "stream": "stdout",
       "text": [
        "\n",
        "downloads_id: 461188549\n",
        "[1083, 1210, 1428]"
       ]
      },
      {
       "output_type": "stream",
       "stream": "stdout",
       "text": [
        "\n",
        "[]\n",
        "[1174, 1181, 1189, 1195, 1199, 1203, 1206, 1210, 1214, 1218]"
       ]
      },
      {
       "output_type": "stream",
       "stream": "stdout",
       "text": [
        "\n",
        "original article tmp file "
       ]
      },
      {
       "output_type": "stream",
       "stream": "stdout",
       "text": [
        " /tmp/tmpKaaoeJ.html\n",
        "/tmp/tmp9yCG34.html\n",
        "/tmp/tmpKaaoeJ.html\n",
        "/tmp/tmpKaaoeJ.html\n",
        "Now open file:///tmp/tmp9yCG34.html in your web browser\n"
       ]
      },
      {
       "output_type": "stream",
       "stream": "stdout",
       "text": [
        "\n",
        "{'heur': 1112, 'boiler_pipe': 63, 'downloads_id': 461188549, 'crf': 1552, 'python_readibilty': 57}\n",
        "downloads_id: 461189069\n",
        "[254, 293, 295, 307, 309, 609]"
       ]
      },
      {
       "output_type": "stream",
       "stream": "stdout",
       "text": [
        "\n",
        "[253]\n",
        "[253, 289, 291, 293, 295, 297, 299, 301, 303, 305, 307, 309]"
       ]
      },
      {
       "output_type": "stream",
       "stream": "stdout",
       "text": [
        "\n",
        "original article tmp file "
       ]
      },
      {
       "output_type": "stream",
       "stream": "stdout",
       "text": [
        " /tmp/tmp7atbSk.html\n",
        "/tmp/tmpkoNt9H.html\n",
        "/tmp/tmp7atbSk.html\n",
        "/tmp/tmp7atbSk.html\n",
        "Now open file:///tmp/tmpkoNt9H.html in your web browser\n"
       ]
      },
      {
       "output_type": "stream",
       "stream": "stdout",
       "text": [
        "\n",
        "Unexpected error on string ' ' <class 'lxml.etree.ParserError'>\n",
        "Unexpected error on string ' ' <class 'lxml.etree.ParserError'>\n",
        "Unexpected error on string ' ' <class 'lxml.etree.ParserError'>\n",
        "Unexpected error on string ' ' <class 'lxml.etree.ParserError'>\n",
        "Unexpected error on string ' ' <class 'lxml.etree.ParserError'>\n",
        "Unexpected error on string ' ' <class 'lxml.etree.ParserError'>\n",
        "Unexpected error on string ' ' <class 'lxml.etree.ParserError'>\n",
        "Unexpected error on string ' ' <class 'lxml.etree.ParserError'>\n",
        "Unexpected error on string '<' <class 'lxml.etree.ParserError'>\n",
        "Unexpected error on string ' ' <class 'lxml.etree.ParserError'>\n",
        "Unexpected error on string ' ' <class 'lxml.etree.ParserError'>\n",
        "Unexpected error on string ' ' <class 'lxml.etree.ParserError'>\n",
        "Unexpected error on string ' ' <class 'lxml.etree.ParserError'>\n",
        "Unexpected error on string ' ' <class 'lxml.etree.ParserError'>\n",
        "Unexpected error on string ' ' <class 'lxml.etree.ParserError'>\n",
        "Unexpected error on string ' ' <class 'lxml.etree.ParserError'>\n",
        "Unexpected error on string '<' <class 'lxml.etree.ParserError'>\n",
        "{'heur': 965, 'boiler_pipe': 683, 'downloads_id': 461189069, 'crf': 2358, 'python_readibilty': 114}"
       ]
      },
      {
       "output_type": "stream",
       "stream": "stdout",
       "text": [
        "\n",
        "downloads_id: 461190586\n",
        "[174, 180, 184, 190, 194, 195, 196, 205, 207, 212, 213, 216, 218, 222, 224, 226, 228, 230, 232, 236, 239, 241, 243, 245, 247, 249, 253]"
       ]
      },
      {
       "output_type": "stream",
       "stream": "stdout",
       "text": [
        "\n",
        "[164, 167, 168, 170, 174, 176, 180, 184, 188, 190, 194, 195, 196, 201, 203, 205, 207, 209, 212, 213, 216, 218, 220, 222, 224, 226, 228, 230, 232, 236, 239, 241, 243, 245, 247, 249, 253, 258]\n",
        "[164, 167, 168, 170, 174, 176, 180, 184, 188, 190, 194, 195, 196, 201, 203, 205, 207, 209, 212, 213, 216, 218, 220, 222, 224, 226, 228, 230, 232, 236, 239, 241, 243, 245, 247, 249, 253, 258]"
       ]
      },
      {
       "output_type": "stream",
       "stream": "stdout",
       "text": [
        "\n",
        "original article tmp file "
       ]
      },
      {
       "output_type": "stream",
       "stream": "stdout",
       "text": [
        " /tmp/tmp7ompGV.html\n",
        "/tmp/tmpYxt1am.html\n",
        "/tmp/tmp7ompGV.html\n",
        "/tmp/tmp7ompGV.html\n",
        "Now open file:///tmp/tmpYxt1am.html in your web browser\n"
       ]
      },
      {
       "output_type": "stream",
       "stream": "stdout",
       "text": [
        "\n",
        "{'heur': 2601, 'boiler_pipe': 1306, 'downloads_id': 461190586, 'crf': 0, 'python_readibilty': 4277}"
       ]
      },
      {
       "output_type": "stream",
       "stream": "stdout",
       "text": [
        "\n",
        "downloads_id: 461193383\n",
        "[96, 106, 108, 109, 111, 112, 114, 116, 117, 118, 119, 120, 121, 158, 190]"
       ]
      },
      {
       "output_type": "stream",
       "stream": "stdout",
       "text": [
        "\n",
        "[96]\n",
        "[80, 93, 96, 106, 108, 109, 111, 112, 114, 116, 117, 118, 119, 120, 121]"
       ]
      },
      {
       "output_type": "stream",
       "stream": "stdout",
       "text": [
        "\n",
        "original article tmp file "
       ]
      },
      {
       "output_type": "stream",
       "stream": "stdout",
       "text": [
        " /tmp/tmp7RYCGu.html\n",
        "/tmp/tmp7o2za3.html\n",
        "/tmp/tmp7RYCGu.html\n",
        "/tmp/tmp7RYCGu.html\n",
        "Now open file:///tmp/tmp7o2za3.html in your web browser\n"
       ]
      },
      {
       "output_type": "stream",
       "stream": "stdout",
       "text": [
        "\n",
        "Unexpected error on string '\t' <class 'lxml.etree.ParserError'>\n",
        "Unexpected error on string '\t' <class 'lxml.etree.ParserError'>\n",
        "Unexpected error on string '\t' <class 'lxml.etree.ParserError'>\n",
        "Unexpected error on string '<' <class 'lxml.etree.ParserError'>\n",
        "Unexpected error on string '<' <class 'lxml.etree.ParserError'>\n",
        "Unexpected error on string ' ' <class 'lxml.etree.ParserError'>\n",
        "Unexpected error on string ' ' <class 'lxml.etree.ParserError'>\n",
        "Unexpected error on string ' ' <class 'lxml.etree.ParserError'>\n",
        "Unexpected error on string ' ' <class 'lxml.etree.ParserError'>\n",
        "Unexpected error on string ' ' <class 'lxml.etree.ParserError'>\n",
        "Unexpected error on string ' ' <class 'lxml.etree.ParserError'>\n",
        "Unexpected error on string ' ' <class 'lxml.etree.ParserError'>\n",
        "Unexpected error on string ' ' <class 'lxml.etree.ParserError'>\n",
        "Unexpected error on string ' ' <class 'lxml.etree.ParserError'>\n",
        "Unexpected error on string ' ' <class 'lxml.etree.ParserError'>\n",
        "Unexpected error on string ' ' <class 'lxml.etree.ParserError'>\n",
        "Unexpected error on string ' ' <class 'lxml.etree.ParserError'>\n",
        "Unexpected error on string ' ' <class 'lxml.etree.ParserError'>\n",
        "Unexpected error on string ' ' <class 'lxml.etree.ParserError'>\n",
        "Unexpected error on string ' ' <class 'lxml.etree.ParserError'>\n",
        "Unexpected error on string ' ' <class 'lxml.etree.ParserError'>\n",
        "Unexpected error on string ' ' <class 'lxml.etree.ParserError'>\n",
        "Unexpected error on string ' ' <class 'lxml.etree.ParserError'>\n",
        "Unexpected error on string ' ' <class 'lxml.etree.ParserError'>\n",
        "Unexpected error on string ' ' <class 'lxml.etree.ParserError'>\n",
        "Unexpected error on string '<' <class 'lxml.etree.ParserError'>\n",
        "Unexpected error on string '<' <class 'lxml.etree.ParserError'>\n",
        "{'heur': 477, 'boiler_pipe': 56, 'downloads_id': 461193383, 'crf': 1368, 'python_readibilty': 62}"
       ]
      },
      {
       "output_type": "stream",
       "stream": "stdout",
       "text": [
        "\n"
       ]
      },
      {
       "metadata": {},
       "output_type": "pyout",
       "prompt_number": 12,
       "text": [
        "[{'boiler_pipe': 183,\n",
        "  'crf': 1014,\n",
        "  'downloads_id': 391881020,\n",
        "  'heur': 309,\n",
        "  'python_readibilty': 80},\n",
        " {'boiler_pipe': 2,\n",
        "  'crf': 30,\n",
        "  'downloads_id': 401370599,\n",
        "  'heur': 540,\n",
        "  'python_readibilty': 162},\n",
        " {'boiler_pipe': 329,\n",
        "  'crf': 3259,\n",
        "  'downloads_id': 412896439,\n",
        "  'heur': 183,\n",
        "  'python_readibilty': 165},\n",
        " {'boiler_pipe': 6041,\n",
        "  'crf': 37,\n",
        "  'downloads_id': 412952145,\n",
        "  'heur': 9280,\n",
        "  'python_readibilty': 56},\n",
        " {'boiler_pipe': 33,\n",
        "  'crf': 595,\n",
        "  'downloads_id': 412977048,\n",
        "  'heur': 38,\n",
        "  'python_readibilty': 213},\n",
        " {'boiler_pipe': 876,\n",
        "  'crf': 1282,\n",
        "  'downloads_id': 413024519,\n",
        "  'heur': 733,\n",
        "  'python_readibilty': 252},\n",
        " {'boiler_pipe': 280,\n",
        "  'crf': 1978,\n",
        "  'downloads_id': 413657081,\n",
        "  'heur': 597,\n",
        "  'python_readibilty': 426},\n",
        " {'boiler_pipe': 235,\n",
        "  'crf': 119,\n",
        "  'downloads_id': 413835576,\n",
        "  'heur': 959,\n",
        "  'python_readibilty': 89},\n",
        " {'boiler_pipe': 86,\n",
        "  'crf': 760,\n",
        "  'downloads_id': 414040102,\n",
        "  'heur': 1090,\n",
        "  'python_readibilty': 308},\n",
        " {'boiler_pipe': 78,\n",
        "  'crf': 76,\n",
        "  'downloads_id': 414257623,\n",
        "  'heur': 2178,\n",
        "  'python_readibilty': 252},\n",
        " {'boiler_pipe': 251,\n",
        "  'crf': 9533,\n",
        "  'downloads_id': 414377428,\n",
        "  'heur': 1678,\n",
        "  'python_readibilty': 464},\n",
        " {'boiler_pipe': 533,\n",
        "  'crf': 3472,\n",
        "  'downloads_id': 414480464,\n",
        "  'heur': 1014,\n",
        "  'python_readibilty': 25},\n",
        " {'boiler_pipe': 429,\n",
        "  'crf': 4262,\n",
        "  'downloads_id': 414818749,\n",
        "  'heur': 309,\n",
        "  'python_readibilty': 250},\n",
        " {'boiler_pipe': 192,\n",
        "  'crf': 162,\n",
        "  'downloads_id': 414983458,\n",
        "  'heur': 979,\n",
        "  'python_readibilty': 224},\n",
        " {'boiler_pipe': 78,\n",
        "  'crf': 140,\n",
        "  'downloads_id': 415185946,\n",
        "  'heur': 2133,\n",
        "  'python_readibilty': 302},\n",
        " {'boiler_pipe': 183,\n",
        "  'crf': 305,\n",
        "  'downloads_id': 415186582,\n",
        "  'heur': 86,\n",
        "  'python_readibilty': 287},\n",
        " {'boiler_pipe': 169,\n",
        "  'crf': 63,\n",
        "  'downloads_id': 415197547,\n",
        "  'heur': 83,\n",
        "  'python_readibilty': 22},\n",
        " {'boiler_pipe': 32,\n",
        "  'crf': 39,\n",
        "  'downloads_id': 415424551,\n",
        "  'heur': 187,\n",
        "  'python_readibilty': 260},\n",
        " {'boiler_pipe': 236,\n",
        "  'crf': 154,\n",
        "  'downloads_id': 415978069,\n",
        "  'heur': 3664,\n",
        "  'python_readibilty': 93},\n",
        " {'boiler_pipe': 36,\n",
        "  'crf': 749,\n",
        "  'downloads_id': 416026460,\n",
        "  'heur': 38,\n",
        "  'python_readibilty': 215},\n",
        " {'boiler_pipe': 124,\n",
        "  'crf': 16,\n",
        "  'downloads_id': 416026587,\n",
        "  'heur': 237,\n",
        "  'python_readibilty': 54},\n",
        " {'boiler_pipe': 1440,\n",
        "  'crf': 27,\n",
        "  'downloads_id': 416047494,\n",
        "  'heur': 2164,\n",
        "  'python_readibilty': 36},\n",
        " {'boiler_pipe': 679,\n",
        "  'crf': 2111,\n",
        "  'downloads_id': 416047513,\n",
        "  'heur': 984,\n",
        "  'python_readibilty': 429},\n",
        " {'boiler_pipe': 419,\n",
        "  'crf': 2603,\n",
        "  'downloads_id': 416210404,\n",
        "  'heur': 165,\n",
        "  'python_readibilty': 179},\n",
        " {'boiler_pipe': 26,\n",
        "  'crf': 0,\n",
        "  'downloads_id': 416263840,\n",
        "  'heur': 105,\n",
        "  'python_readibilty': 124},\n",
        " {'boiler_pipe': 278,\n",
        "  'crf': 31,\n",
        "  'downloads_id': 416306952,\n",
        "  'heur': 258,\n",
        "  'python_readibilty': 87},\n",
        " {'boiler_pipe': 1002,\n",
        "  'crf': 65,\n",
        "  'downloads_id': 416426245,\n",
        "  'heur': 93,\n",
        "  'python_readibilty': 49},\n",
        " {'boiler_pipe': 44,\n",
        "  'crf': 2266,\n",
        "  'downloads_id': 416655019,\n",
        "  'heur': 191,\n",
        "  'python_readibilty': 144},\n",
        " {'boiler_pipe': 394,\n",
        "  'crf': 1338,\n",
        "  'downloads_id': 416730837,\n",
        "  'heur': 909,\n",
        "  'python_readibilty': 25},\n",
        " {'boiler_pipe': 395,\n",
        "  'crf': 1051,\n",
        "  'downloads_id': 416802690,\n",
        "  'heur': 935,\n",
        "  'python_readibilty': 25},\n",
        " {'boiler_pipe': 629,\n",
        "  'crf': 817,\n",
        "  'downloads_id': 417347290,\n",
        "  'heur': 719,\n",
        "  'python_readibilty': 270},\n",
        " {'boiler_pipe': 298,\n",
        "  'crf': 183,\n",
        "  'downloads_id': 417347524,\n",
        "  'heur': 415,\n",
        "  'python_readibilty': 1117},\n",
        " {'boiler_pipe': 944,\n",
        "  'crf': 6613,\n",
        "  'downloads_id': 417368539,\n",
        "  'heur': 2382,\n",
        "  'python_readibilty': 57},\n",
        " {'boiler_pipe': 847,\n",
        "  'crf': 0,\n",
        "  'downloads_id': 417389613,\n",
        "  'heur': 740,\n",
        "  'python_readibilty': 807},\n",
        " {'boiler_pipe': 189,\n",
        "  'crf': 6,\n",
        "  'downloads_id': 417477837,\n",
        "  'heur': 69,\n",
        "  'python_readibilty': 8},\n",
        " {'boiler_pipe': 205,\n",
        "  'crf': 2251,\n",
        "  'downloads_id': 417653177,\n",
        "  'heur': 605,\n",
        "  'python_readibilty': 610},\n",
        " {'boiler_pipe': 149,\n",
        "  'crf': 81,\n",
        "  'downloads_id': 418489742,\n",
        "  'heur': 804,\n",
        "  'python_readibilty': 9},\n",
        " {'boiler_pipe': 2404,\n",
        "  'crf': 16,\n",
        "  'downloads_id': 418544762,\n",
        "  'heur': 2292,\n",
        "  'python_readibilty': 238},\n",
        " {'boiler_pipe': 670,\n",
        "  'crf': 4363,\n",
        "  'downloads_id': 418574641,\n",
        "  'heur': 2034,\n",
        "  'python_readibilty': 33},\n",
        " {'boiler_pipe': 44,\n",
        "  'crf': 0,\n",
        "  'downloads_id': 418648698,\n",
        "  'heur': 349,\n",
        "  'python_readibilty': 0},\n",
        " {'boiler_pipe': 269,\n",
        "  'crf': 62,\n",
        "  'downloads_id': 418661859,\n",
        "  'heur': 444,\n",
        "  'python_readibilty': 18},\n",
        " {'boiler_pipe': 91,\n",
        "  'crf': 1135,\n",
        "  'downloads_id': 419404469,\n",
        "  'heur': 229,\n",
        "  'python_readibilty': 38},\n",
        " {'boiler_pipe': 287,\n",
        "  'crf': 102,\n",
        "  'downloads_id': 419440474,\n",
        "  'heur': 232,\n",
        "  'python_readibilty': 113},\n",
        " {'boiler_pipe': 135,\n",
        "  'crf': 368,\n",
        "  'downloads_id': 419483895,\n",
        "  'heur': 260,\n",
        "  'python_readibilty': 76},\n",
        " {'boiler_pipe': 56,\n",
        "  'crf': 118,\n",
        "  'downloads_id': 419873979,\n",
        "  'heur': 462,\n",
        "  'python_readibilty': 958},\n",
        " {'boiler_pipe': 170,\n",
        "  'crf': 149,\n",
        "  'downloads_id': 420430754,\n",
        "  'heur': 1182,\n",
        "  'python_readibilty': 148},\n",
        " {'boiler_pipe': 1099,\n",
        "  'crf': 259,\n",
        "  'downloads_id': 420599387,\n",
        "  'heur': 1100,\n",
        "  'python_readibilty': 1132},\n",
        " {'boiler_pipe': 807,\n",
        "  'crf': 5533,\n",
        "  'downloads_id': 420666122,\n",
        "  'heur': 536,\n",
        "  'python_readibilty': 605},\n",
        " {'boiler_pipe': 140,\n",
        "  'crf': 0,\n",
        "  'downloads_id': 421520860,\n",
        "  'heur': 1379,\n",
        "  'python_readibilty': 104},\n",
        " {'boiler_pipe': 463,\n",
        "  'crf': 5437,\n",
        "  'downloads_id': 421834553,\n",
        "  'heur': 171,\n",
        "  'python_readibilty': 92},\n",
        " {'boiler_pipe': 230,\n",
        "  'crf': 609,\n",
        "  'downloads_id': 422181106,\n",
        "  'heur': 2014,\n",
        "  'python_readibilty': 151},\n",
        " {'boiler_pipe': 207,\n",
        "  'crf': 120,\n",
        "  'downloads_id': 422280595,\n",
        "  'heur': 148,\n",
        "  'python_readibilty': 50},\n",
        " {'boiler_pipe': 1215,\n",
        "  'crf': 9,\n",
        "  'downloads_id': 422910963,\n",
        "  'heur': 933,\n",
        "  'python_readibilty': 96},\n",
        " {'boiler_pipe': 340,\n",
        "  'crf': 3509,\n",
        "  'downloads_id': 423318170,\n",
        "  'heur': 244,\n",
        "  'python_readibilty': 213},\n",
        " {'boiler_pipe': 124,\n",
        "  'crf': 1184,\n",
        "  'downloads_id': 424080271,\n",
        "  'heur': 455,\n",
        "  'python_readibilty': 63},\n",
        " {'boiler_pipe': 29,\n",
        "  'crf': 38,\n",
        "  'downloads_id': 424369085,\n",
        "  'heur': 38,\n",
        "  'python_readibilty': 225},\n",
        " {'boiler_pipe': 239,\n",
        "  'crf': 127,\n",
        "  'downloads_id': 424796346,\n",
        "  'heur': 2570,\n",
        "  'python_readibilty': 20},\n",
        " {'boiler_pipe': 139,\n",
        "  'crf': 0,\n",
        "  'downloads_id': 424840366,\n",
        "  'heur': 168,\n",
        "  'python_readibilty': 290},\n",
        " {'boiler_pipe': 111,\n",
        "  'crf': 838,\n",
        "  'downloads_id': 425206279,\n",
        "  'heur': 219,\n",
        "  'python_readibilty': 98},\n",
        " {'boiler_pipe': 172,\n",
        "  'crf': 967,\n",
        "  'downloads_id': 426405203,\n",
        "  'heur': 502,\n",
        "  'python_readibilty': 44},\n",
        " {'boiler_pipe': 59,\n",
        "  'crf': 1486,\n",
        "  'downloads_id': 426560018,\n",
        "  'heur': 540,\n",
        "  'python_readibilty': 170},\n",
        " {'boiler_pipe': 559,\n",
        "  'crf': 303,\n",
        "  'downloads_id': 426632784,\n",
        "  'heur': 823,\n",
        "  'python_readibilty': 360},\n",
        " {'boiler_pipe': 416,\n",
        "  'crf': 0,\n",
        "  'downloads_id': 426709900,\n",
        "  'heur': 197,\n",
        "  'python_readibilty': 247},\n",
        " {'boiler_pipe': 251,\n",
        "  'crf': 287,\n",
        "  'downloads_id': 428449440,\n",
        "  'heur': 93,\n",
        "  'python_readibilty': 97},\n",
        " {'boiler_pipe': 5096,\n",
        "  'crf': 0,\n",
        "  'downloads_id': 429607289,\n",
        "  'heur': 129,\n",
        "  'python_readibilty': 134},\n",
        " {'boiler_pipe': 22,\n",
        "  'crf': 76,\n",
        "  'downloads_id': 430363249,\n",
        "  'heur': 1208,\n",
        "  'python_readibilty': 260},\n",
        " {'boiler_pipe': 161,\n",
        "  'crf': 136,\n",
        "  'downloads_id': 430995428,\n",
        "  'heur': 250,\n",
        "  'python_readibilty': 189},\n",
        " {'boiler_pipe': 93,\n",
        "  'crf': 141,\n",
        "  'downloads_id': 433457459,\n",
        "  'heur': 79,\n",
        "  'python_readibilty': 116},\n",
        " {'boiler_pipe': 96,\n",
        "  'crf': 1577,\n",
        "  'downloads_id': 435624796,\n",
        "  'heur': 249,\n",
        "  'python_readibilty': 405},\n",
        " {'boiler_pipe': 98,\n",
        "  'crf': 104,\n",
        "  'downloads_id': 435659593,\n",
        "  'heur': 898,\n",
        "  'python_readibilty': 29},\n",
        " {'boiler_pipe': 861,\n",
        "  'crf': 7723,\n",
        "  'downloads_id': 461175103,\n",
        "  'heur': 3407,\n",
        "  'python_readibilty': 4758},\n",
        " {'boiler_pipe': 249,\n",
        "  'crf': 249,\n",
        "  'downloads_id': 461175549,\n",
        "  'heur': 249,\n",
        "  'python_readibilty': 161},\n",
        " {'boiler_pipe': 241,\n",
        "  'crf': 335,\n",
        "  'downloads_id': 461176415,\n",
        "  'heur': 1753,\n",
        "  'python_readibilty': 349},\n",
        " {'boiler_pipe': 95,\n",
        "  'crf': 757,\n",
        "  'downloads_id': 461176844,\n",
        "  'heur': 421,\n",
        "  'python_readibilty': 160},\n",
        " {'boiler_pipe': 12,\n",
        "  'crf': 949,\n",
        "  'downloads_id': 461177487,\n",
        "  'heur': 967,\n",
        "  'python_readibilty': 34},\n",
        " {'boiler_pipe': 8,\n",
        "  'crf': 271,\n",
        "  'downloads_id': 461178557,\n",
        "  'heur': 300,\n",
        "  'python_readibilty': 1736},\n",
        " {'boiler_pipe': 1244,\n",
        "  'crf': 3167,\n",
        "  'downloads_id': 461178590,\n",
        "  'heur': 896,\n",
        "  'python_readibilty': 215},\n",
        " {'boiler_pipe': 68,\n",
        "  'crf': 5198,\n",
        "  'downloads_id': 461179203,\n",
        "  'heur': 3680,\n",
        "  'python_readibilty': 530},\n",
        " {'boiler_pipe': 63,\n",
        "  'crf': 1552,\n",
        "  'downloads_id': 461179222,\n",
        "  'heur': 1112,\n",
        "  'python_readibilty': 57},\n",
        " {'boiler_pipe': 319,\n",
        "  'crf': 2481,\n",
        "  'downloads_id': 461179441,\n",
        "  'heur': 528,\n",
        "  'python_readibilty': 203},\n",
        " {'boiler_pipe': 110,\n",
        "  'crf': 159,\n",
        "  'downloads_id': 461179762,\n",
        "  'heur': 5640,\n",
        "  'python_readibilty': 66},\n",
        " {'boiler_pipe': 135,\n",
        "  'crf': 0,\n",
        "  'downloads_id': 461179818,\n",
        "  'heur': 107,\n",
        "  'python_readibilty': 164},\n",
        " {'boiler_pipe': 173783,\n",
        "  'crf': 21819,\n",
        "  'downloads_id': 461179954,\n",
        "  'heur': 83,\n",
        "  'python_readibilty': 3973},\n",
        " {'boiler_pipe': 240,\n",
        "  'crf': 3412,\n",
        "  'downloads_id': 461179956,\n",
        "  'heur': 257,\n",
        "  'python_readibilty': 185},\n",
        " {'boiler_pipe': 116,\n",
        "  'crf': 3594,\n",
        "  'downloads_id': 461180307,\n",
        "  'heur': 793,\n",
        "  'python_readibilty': 16},\n",
        " {'boiler_pipe': 177,\n",
        "  'crf': 3243,\n",
        "  'downloads_id': 461181039,\n",
        "  'heur': 598,\n",
        "  'python_readibilty': 206},\n",
        " {'boiler_pipe': 14,\n",
        "  'crf': 721,\n",
        "  'downloads_id': 461181597,\n",
        "  'heur': 51,\n",
        "  'python_readibilty': 129},\n",
        " {'boiler_pipe': 384,\n",
        "  'crf': 167,\n",
        "  'downloads_id': 461186137,\n",
        "  'heur': 658,\n",
        "  'python_readibilty': 237},\n",
        " {'boiler_pipe': 573,\n",
        "  'crf': 2570,\n",
        "  'downloads_id': 461186258,\n",
        "  'heur': 3010,\n",
        "  'python_readibilty': 645},\n",
        " {'boiler_pipe': 210,\n",
        "  'crf': 510,\n",
        "  'downloads_id': 461186833,\n",
        "  'heur': 190,\n",
        "  'python_readibilty': 452},\n",
        " {'boiler_pipe': 265,\n",
        "  'crf': 3080,\n",
        "  'downloads_id': 461187188,\n",
        "  'heur': 282,\n",
        "  'python_readibilty': 190},\n",
        " {'boiler_pipe': 993,\n",
        "  'crf': 2333,\n",
        "  'downloads_id': 461187261,\n",
        "  'heur': 91,\n",
        "  'python_readibilty': 154},\n",
        " {'boiler_pipe': 82,\n",
        "  'crf': 5435,\n",
        "  'downloads_id': 461187577,\n",
        "  'heur': 308,\n",
        "  'python_readibilty': 195},\n",
        " {'boiler_pipe': 63,\n",
        "  'crf': 1552,\n",
        "  'downloads_id': 461188549,\n",
        "  'heur': 1112,\n",
        "  'python_readibilty': 57},\n",
        " {'boiler_pipe': 683,\n",
        "  'crf': 2358,\n",
        "  'downloads_id': 461189069,\n",
        "  'heur': 965,\n",
        "  'python_readibilty': 114},\n",
        " {'boiler_pipe': 1306,\n",
        "  'crf': 0,\n",
        "  'downloads_id': 461190586,\n",
        "  'heur': 2601,\n",
        "  'python_readibilty': 4277},\n",
        " {'boiler_pipe': 56,\n",
        "  'crf': 1368,\n",
        "  'downloads_id': 461193383,\n",
        "  'heur': 477,\n",
        "  'python_readibilty': 62}]"
       ]
      }
     ],
     "prompt_number": 12
    },
    {
     "cell_type": "code",
     "collapsed": false,
     "input": [
      "download = get_download( 391881020 )\n",
      "download['raw_content']\n",
      "download['url']\n",
      "#None"
     ],
     "language": "python",
     "metadata": {},
     "outputs": [
      {
       "metadata": {},
       "output_type": "pyout",
       "prompt_number": 13,
       "text": [
        "u'http://virgula.uol.com.br/inacreditavel/bizarro/metro-tem-confusao-por-causa-de-encontro-em-shopping'"
       ]
      }
     ],
     "prompt_number": 13
    },
    {
     "cell_type": "code",
     "collapsed": false,
     "input": [
      "print lines_to_comparable_text( extract_with_python_readability( download['raw_content' ] ) )"
     ],
     "language": "python",
     "metadata": {},
     "outputs": [
      {
       "output_type": "stream",
       "stream": "stdout",
       "text": [
        "Metr\u00f4 tem confus\u00e3o por causa de encontro em shopping; veja v\u00eddeo Era para ser um s\u00e1bado muvucado como todos aqueles que antecedem o Natal em mais um shopping de S\u00e3o Paulo. Mas foi muito mais do que isso. Milhares de jovens compareceram a um encontro promovido por uma p\u00e1gina\u00a0no Facebook para este s\u00e1bado (7), no segundo andar do Shopping Metr\u00f4 Itaquera, \u00e0s 17h. Mas o que aconteceu foi uma bagun\u00e7a total, com a chegada da pol\u00edcia e o fechamento do shopping duas horas antes que o previsto.Ningu\u00e9m sabe ao certo o que aconteceu, alguns dizem que foi arrast\u00e3o, mas os pr\u00f3prios lojistas negam. De acordo com um rapaz que registrou a movimenta\u00e7\u00e3o na sa\u00edda do metr\u00f4, algumas pessoas isoladamente tiveram itens furtados. Infelizmente, o celular do garoto era meio ruim, mas deu para ver a confus\u00e3o. Veja aqui o v\u00eddeo que ele fez.Como muita gente compareceu, houve a confus\u00e3o. O certo \u00e9 que j\u00e1 est\u00e1 marcado o terceiro encontro, que \u00e9 mais uma badala\u00e7\u00e3o entre a galera, ou melhor, como diz a pr\u00f3pria p\u00e1gina, \u00e9 s\u00f3 um Rol\u00eazinho Parte 3. Tudo come\u00e7ou na semana passado, no domingo (1), com o Vuuk no Shopping Itaquera.\n"
       ]
      }
     ],
     "prompt_number": 14
    },
    {
     "cell_type": "code",
     "collapsed": false,
     "input": [
      "import readability\n",
      "\n",
      "doc = readability.Document( download['raw_content'] )\n",
      "\n",
      "doc.content()\n",
      "\n",
      "print doc.short_title()\n",
      "print lines_to_comparable_text( [ doc.summary() ] )"
     ],
     "language": "python",
     "metadata": {},
     "outputs": [
      {
       "output_type": "stream",
       "stream": "stdout",
       "text": [
        "Metr\u00f4 tem confus\u00e3o por causa de encontro em shopping; veja v\u00eddeo\n",
        "Era para ser um s\u00e1bado muvucado como todos aqueles que antecedem o Natal em mais um shopping de S\u00e3o Paulo. Mas foi muito mais do que isso. Milhares de jovens compareceram a um encontro promovido por uma p\u00e1gina\u00a0no Facebook para este s\u00e1bado (7), no segundo andar do Shopping Metr\u00f4 Itaquera, \u00e0s 17h. Mas o que aconteceu foi uma bagun\u00e7a total, com a chegada da pol\u00edcia e o fechamento do shopping duas horas antes que o previsto.Ningu\u00e9m sabe ao certo o que aconteceu, alguns dizem que foi arrast\u00e3o, mas os pr\u00f3prios lojistas negam. De acordo com um rapaz que registrou a movimenta\u00e7\u00e3o na sa\u00edda do metr\u00f4, algumas pessoas isoladamente tiveram itens furtados. Infelizmente, o celular do garoto era meio ruim, mas deu para ver a confus\u00e3o. Veja aqui o v\u00eddeo que ele fez.Como muita gente compareceu, houve a confus\u00e3o. O certo \u00e9 que j\u00e1 est\u00e1 marcado o terceiro encontro, que \u00e9 mais uma badala\u00e7\u00e3o entre a galera, ou melhor, como diz a pr\u00f3pria p\u00e1gina, \u00e9 s\u00f3 um Rol\u00eazinho Parte 3. Tudo come\u00e7ou na semana passado, no domingo (1), com o Vuuk no Shopping Itaquera.\n"
       ]
      },
      {
       "output_type": "stream",
       "stream": "stderr",
       "text": [
        "/usr/local/lib/python2.7/dist-packages/readability/htmls.py:107: FutureWarning: The behavior of this method will change in future versions. Use specific 'len(elem)' or 'elem is not None' test instead.\n",
        "  raw_html = unicode(tostring(doc.body or doc))\n"
       ]
      }
     ],
     "prompt_number": 15
    },
    {
     "cell_type": "code",
     "collapsed": false,
     "input": [
      "import pandas as pd\n",
      "\n",
      "df = pd.DataFrame( comps )\n",
      "df.set_index('downloads_id', inplace=True )\n",
      "#df.describe(percentiles=[.1,.2,.3,.4,.5,.6,.7,.8,.9,.95,.98,.99,.999] )\n",
      "df"
     ],
     "language": "python",
     "metadata": {},
     "outputs": [
      {
       "html": [
        "<div style=\"max-height:1000px;max-width:1500px;overflow:auto;\">\n",
        "<table border=\"1\" class=\"dataframe\">\n",
        "  <thead>\n",
        "    <tr style=\"text-align: right;\">\n",
        "      <th></th>\n",
        "      <th>boiler_pipe</th>\n",
        "      <th>crf</th>\n",
        "      <th>heur</th>\n",
        "      <th>python_readibilty</th>\n",
        "    </tr>\n",
        "    <tr>\n",
        "      <th>downloads_id</th>\n",
        "      <th></th>\n",
        "      <th></th>\n",
        "      <th></th>\n",
        "      <th></th>\n",
        "    </tr>\n",
        "  </thead>\n",
        "  <tbody>\n",
        "    <tr>\n",
        "      <th>391881020</th>\n",
        "      <td>    183</td>\n",
        "      <td>  1014</td>\n",
        "      <td>  309</td>\n",
        "      <td>   80</td>\n",
        "    </tr>\n",
        "    <tr>\n",
        "      <th>401370599</th>\n",
        "      <td>      2</td>\n",
        "      <td>    30</td>\n",
        "      <td>  540</td>\n",
        "      <td>  162</td>\n",
        "    </tr>\n",
        "    <tr>\n",
        "      <th>412896439</th>\n",
        "      <td>    329</td>\n",
        "      <td>  3259</td>\n",
        "      <td>  183</td>\n",
        "      <td>  165</td>\n",
        "    </tr>\n",
        "    <tr>\n",
        "      <th>412952145</th>\n",
        "      <td>   6041</td>\n",
        "      <td>    37</td>\n",
        "      <td> 9280</td>\n",
        "      <td>   56</td>\n",
        "    </tr>\n",
        "    <tr>\n",
        "      <th>412977048</th>\n",
        "      <td>     33</td>\n",
        "      <td>   595</td>\n",
        "      <td>   38</td>\n",
        "      <td>  213</td>\n",
        "    </tr>\n",
        "    <tr>\n",
        "      <th>413024519</th>\n",
        "      <td>    876</td>\n",
        "      <td>  1282</td>\n",
        "      <td>  733</td>\n",
        "      <td>  252</td>\n",
        "    </tr>\n",
        "    <tr>\n",
        "      <th>413657081</th>\n",
        "      <td>    280</td>\n",
        "      <td>  1978</td>\n",
        "      <td>  597</td>\n",
        "      <td>  426</td>\n",
        "    </tr>\n",
        "    <tr>\n",
        "      <th>413835576</th>\n",
        "      <td>    235</td>\n",
        "      <td>   119</td>\n",
        "      <td>  959</td>\n",
        "      <td>   89</td>\n",
        "    </tr>\n",
        "    <tr>\n",
        "      <th>414040102</th>\n",
        "      <td>     86</td>\n",
        "      <td>   760</td>\n",
        "      <td> 1090</td>\n",
        "      <td>  308</td>\n",
        "    </tr>\n",
        "    <tr>\n",
        "      <th>414257623</th>\n",
        "      <td>     78</td>\n",
        "      <td>    76</td>\n",
        "      <td> 2178</td>\n",
        "      <td>  252</td>\n",
        "    </tr>\n",
        "    <tr>\n",
        "      <th>414377428</th>\n",
        "      <td>    251</td>\n",
        "      <td>  9533</td>\n",
        "      <td> 1678</td>\n",
        "      <td>  464</td>\n",
        "    </tr>\n",
        "    <tr>\n",
        "      <th>414480464</th>\n",
        "      <td>    533</td>\n",
        "      <td>  3472</td>\n",
        "      <td> 1014</td>\n",
        "      <td>   25</td>\n",
        "    </tr>\n",
        "    <tr>\n",
        "      <th>414818749</th>\n",
        "      <td>    429</td>\n",
        "      <td>  4262</td>\n",
        "      <td>  309</td>\n",
        "      <td>  250</td>\n",
        "    </tr>\n",
        "    <tr>\n",
        "      <th>414983458</th>\n",
        "      <td>    192</td>\n",
        "      <td>   162</td>\n",
        "      <td>  979</td>\n",
        "      <td>  224</td>\n",
        "    </tr>\n",
        "    <tr>\n",
        "      <th>415185946</th>\n",
        "      <td>     78</td>\n",
        "      <td>   140</td>\n",
        "      <td> 2133</td>\n",
        "      <td>  302</td>\n",
        "    </tr>\n",
        "    <tr>\n",
        "      <th>415186582</th>\n",
        "      <td>    183</td>\n",
        "      <td>   305</td>\n",
        "      <td>   86</td>\n",
        "      <td>  287</td>\n",
        "    </tr>\n",
        "    <tr>\n",
        "      <th>415197547</th>\n",
        "      <td>    169</td>\n",
        "      <td>    63</td>\n",
        "      <td>   83</td>\n",
        "      <td>   22</td>\n",
        "    </tr>\n",
        "    <tr>\n",
        "      <th>415424551</th>\n",
        "      <td>     32</td>\n",
        "      <td>    39</td>\n",
        "      <td>  187</td>\n",
        "      <td>  260</td>\n",
        "    </tr>\n",
        "    <tr>\n",
        "      <th>415978069</th>\n",
        "      <td>    236</td>\n",
        "      <td>   154</td>\n",
        "      <td> 3664</td>\n",
        "      <td>   93</td>\n",
        "    </tr>\n",
        "    <tr>\n",
        "      <th>416026460</th>\n",
        "      <td>     36</td>\n",
        "      <td>   749</td>\n",
        "      <td>   38</td>\n",
        "      <td>  215</td>\n",
        "    </tr>\n",
        "    <tr>\n",
        "      <th>416026587</th>\n",
        "      <td>    124</td>\n",
        "      <td>    16</td>\n",
        "      <td>  237</td>\n",
        "      <td>   54</td>\n",
        "    </tr>\n",
        "    <tr>\n",
        "      <th>416047494</th>\n",
        "      <td>   1440</td>\n",
        "      <td>    27</td>\n",
        "      <td> 2164</td>\n",
        "      <td>   36</td>\n",
        "    </tr>\n",
        "    <tr>\n",
        "      <th>416047513</th>\n",
        "      <td>    679</td>\n",
        "      <td>  2111</td>\n",
        "      <td>  984</td>\n",
        "      <td>  429</td>\n",
        "    </tr>\n",
        "    <tr>\n",
        "      <th>416210404</th>\n",
        "      <td>    419</td>\n",
        "      <td>  2603</td>\n",
        "      <td>  165</td>\n",
        "      <td>  179</td>\n",
        "    </tr>\n",
        "    <tr>\n",
        "      <th>416263840</th>\n",
        "      <td>     26</td>\n",
        "      <td>     0</td>\n",
        "      <td>  105</td>\n",
        "      <td>  124</td>\n",
        "    </tr>\n",
        "    <tr>\n",
        "      <th>416306952</th>\n",
        "      <td>    278</td>\n",
        "      <td>    31</td>\n",
        "      <td>  258</td>\n",
        "      <td>   87</td>\n",
        "    </tr>\n",
        "    <tr>\n",
        "      <th>416426245</th>\n",
        "      <td>   1002</td>\n",
        "      <td>    65</td>\n",
        "      <td>   93</td>\n",
        "      <td>   49</td>\n",
        "    </tr>\n",
        "    <tr>\n",
        "      <th>416655019</th>\n",
        "      <td>     44</td>\n",
        "      <td>  2266</td>\n",
        "      <td>  191</td>\n",
        "      <td>  144</td>\n",
        "    </tr>\n",
        "    <tr>\n",
        "      <th>416730837</th>\n",
        "      <td>    394</td>\n",
        "      <td>  1338</td>\n",
        "      <td>  909</td>\n",
        "      <td>   25</td>\n",
        "    </tr>\n",
        "    <tr>\n",
        "      <th>416802690</th>\n",
        "      <td>    395</td>\n",
        "      <td>  1051</td>\n",
        "      <td>  935</td>\n",
        "      <td>   25</td>\n",
        "    </tr>\n",
        "    <tr>\n",
        "      <th>...</th>\n",
        "      <td>...</td>\n",
        "      <td>...</td>\n",
        "      <td>...</td>\n",
        "      <td>...</td>\n",
        "    </tr>\n",
        "    <tr>\n",
        "      <th>433457459</th>\n",
        "      <td>     93</td>\n",
        "      <td>   141</td>\n",
        "      <td>   79</td>\n",
        "      <td>  116</td>\n",
        "    </tr>\n",
        "    <tr>\n",
        "      <th>435624796</th>\n",
        "      <td>     96</td>\n",
        "      <td>  1577</td>\n",
        "      <td>  249</td>\n",
        "      <td>  405</td>\n",
        "    </tr>\n",
        "    <tr>\n",
        "      <th>435659593</th>\n",
        "      <td>     98</td>\n",
        "      <td>   104</td>\n",
        "      <td>  898</td>\n",
        "      <td>   29</td>\n",
        "    </tr>\n",
        "    <tr>\n",
        "      <th>461175103</th>\n",
        "      <td>    861</td>\n",
        "      <td>  7723</td>\n",
        "      <td> 3407</td>\n",
        "      <td> 4758</td>\n",
        "    </tr>\n",
        "    <tr>\n",
        "      <th>461175549</th>\n",
        "      <td>    249</td>\n",
        "      <td>   249</td>\n",
        "      <td>  249</td>\n",
        "      <td>  161</td>\n",
        "    </tr>\n",
        "    <tr>\n",
        "      <th>461176415</th>\n",
        "      <td>    241</td>\n",
        "      <td>   335</td>\n",
        "      <td> 1753</td>\n",
        "      <td>  349</td>\n",
        "    </tr>\n",
        "    <tr>\n",
        "      <th>461176844</th>\n",
        "      <td>     95</td>\n",
        "      <td>   757</td>\n",
        "      <td>  421</td>\n",
        "      <td>  160</td>\n",
        "    </tr>\n",
        "    <tr>\n",
        "      <th>461177487</th>\n",
        "      <td>     12</td>\n",
        "      <td>   949</td>\n",
        "      <td>  967</td>\n",
        "      <td>   34</td>\n",
        "    </tr>\n",
        "    <tr>\n",
        "      <th>461178557</th>\n",
        "      <td>      8</td>\n",
        "      <td>   271</td>\n",
        "      <td>  300</td>\n",
        "      <td> 1736</td>\n",
        "    </tr>\n",
        "    <tr>\n",
        "      <th>461178590</th>\n",
        "      <td>   1244</td>\n",
        "      <td>  3167</td>\n",
        "      <td>  896</td>\n",
        "      <td>  215</td>\n",
        "    </tr>\n",
        "    <tr>\n",
        "      <th>461179203</th>\n",
        "      <td>     68</td>\n",
        "      <td>  5198</td>\n",
        "      <td> 3680</td>\n",
        "      <td>  530</td>\n",
        "    </tr>\n",
        "    <tr>\n",
        "      <th>461179222</th>\n",
        "      <td>     63</td>\n",
        "      <td>  1552</td>\n",
        "      <td> 1112</td>\n",
        "      <td>   57</td>\n",
        "    </tr>\n",
        "    <tr>\n",
        "      <th>461179441</th>\n",
        "      <td>    319</td>\n",
        "      <td>  2481</td>\n",
        "      <td>  528</td>\n",
        "      <td>  203</td>\n",
        "    </tr>\n",
        "    <tr>\n",
        "      <th>461179762</th>\n",
        "      <td>    110</td>\n",
        "      <td>   159</td>\n",
        "      <td> 5640</td>\n",
        "      <td>   66</td>\n",
        "    </tr>\n",
        "    <tr>\n",
        "      <th>461179818</th>\n",
        "      <td>    135</td>\n",
        "      <td>     0</td>\n",
        "      <td>  107</td>\n",
        "      <td>  164</td>\n",
        "    </tr>\n",
        "    <tr>\n",
        "      <th>461179954</th>\n",
        "      <td> 173783</td>\n",
        "      <td> 21819</td>\n",
        "      <td>   83</td>\n",
        "      <td> 3973</td>\n",
        "    </tr>\n",
        "    <tr>\n",
        "      <th>461179956</th>\n",
        "      <td>    240</td>\n",
        "      <td>  3412</td>\n",
        "      <td>  257</td>\n",
        "      <td>  185</td>\n",
        "    </tr>\n",
        "    <tr>\n",
        "      <th>461180307</th>\n",
        "      <td>    116</td>\n",
        "      <td>  3594</td>\n",
        "      <td>  793</td>\n",
        "      <td>   16</td>\n",
        "    </tr>\n",
        "    <tr>\n",
        "      <th>461181039</th>\n",
        "      <td>    177</td>\n",
        "      <td>  3243</td>\n",
        "      <td>  598</td>\n",
        "      <td>  206</td>\n",
        "    </tr>\n",
        "    <tr>\n",
        "      <th>461181597</th>\n",
        "      <td>     14</td>\n",
        "      <td>   721</td>\n",
        "      <td>   51</td>\n",
        "      <td>  129</td>\n",
        "    </tr>\n",
        "    <tr>\n",
        "      <th>461186137</th>\n",
        "      <td>    384</td>\n",
        "      <td>   167</td>\n",
        "      <td>  658</td>\n",
        "      <td>  237</td>\n",
        "    </tr>\n",
        "    <tr>\n",
        "      <th>461186258</th>\n",
        "      <td>    573</td>\n",
        "      <td>  2570</td>\n",
        "      <td> 3010</td>\n",
        "      <td>  645</td>\n",
        "    </tr>\n",
        "    <tr>\n",
        "      <th>461186833</th>\n",
        "      <td>    210</td>\n",
        "      <td>   510</td>\n",
        "      <td>  190</td>\n",
        "      <td>  452</td>\n",
        "    </tr>\n",
        "    <tr>\n",
        "      <th>461187188</th>\n",
        "      <td>    265</td>\n",
        "      <td>  3080</td>\n",
        "      <td>  282</td>\n",
        "      <td>  190</td>\n",
        "    </tr>\n",
        "    <tr>\n",
        "      <th>461187261</th>\n",
        "      <td>    993</td>\n",
        "      <td>  2333</td>\n",
        "      <td>   91</td>\n",
        "      <td>  154</td>\n",
        "    </tr>\n",
        "    <tr>\n",
        "      <th>461187577</th>\n",
        "      <td>     82</td>\n",
        "      <td>  5435</td>\n",
        "      <td>  308</td>\n",
        "      <td>  195</td>\n",
        "    </tr>\n",
        "    <tr>\n",
        "      <th>461188549</th>\n",
        "      <td>     63</td>\n",
        "      <td>  1552</td>\n",
        "      <td> 1112</td>\n",
        "      <td>   57</td>\n",
        "    </tr>\n",
        "    <tr>\n",
        "      <th>461189069</th>\n",
        "      <td>    683</td>\n",
        "      <td>  2358</td>\n",
        "      <td>  965</td>\n",
        "      <td>  114</td>\n",
        "    </tr>\n",
        "    <tr>\n",
        "      <th>461190586</th>\n",
        "      <td>   1306</td>\n",
        "      <td>     0</td>\n",
        "      <td> 2601</td>\n",
        "      <td> 4277</td>\n",
        "    </tr>\n",
        "    <tr>\n",
        "      <th>461193383</th>\n",
        "      <td>     56</td>\n",
        "      <td>  1368</td>\n",
        "      <td>  477</td>\n",
        "      <td>   62</td>\n",
        "    </tr>\n",
        "  </tbody>\n",
        "</table>\n",
        "<p>97 rows \u00d7 4 columns</p>\n",
        "</div>"
       ],
       "metadata": {},
       "output_type": "pyout",
       "prompt_number": 16,
       "text": [
        "              boiler_pipe    crf  heur  python_readibilty\n",
        "downloads_id                                             \n",
        "391881020             183   1014   309                 80\n",
        "401370599               2     30   540                162\n",
        "412896439             329   3259   183                165\n",
        "412952145            6041     37  9280                 56\n",
        "412977048              33    595    38                213\n",
        "413024519             876   1282   733                252\n",
        "413657081             280   1978   597                426\n",
        "413835576             235    119   959                 89\n",
        "414040102              86    760  1090                308\n",
        "414257623              78     76  2178                252\n",
        "414377428             251   9533  1678                464\n",
        "414480464             533   3472  1014                 25\n",
        "414818749             429   4262   309                250\n",
        "414983458             192    162   979                224\n",
        "415185946              78    140  2133                302\n",
        "415186582             183    305    86                287\n",
        "415197547             169     63    83                 22\n",
        "415424551              32     39   187                260\n",
        "415978069             236    154  3664                 93\n",
        "416026460              36    749    38                215\n",
        "416026587             124     16   237                 54\n",
        "416047494            1440     27  2164                 36\n",
        "416047513             679   2111   984                429\n",
        "416210404             419   2603   165                179\n",
        "416263840              26      0   105                124\n",
        "416306952             278     31   258                 87\n",
        "416426245            1002     65    93                 49\n",
        "416655019              44   2266   191                144\n",
        "416730837             394   1338   909                 25\n",
        "416802690             395   1051   935                 25\n",
        "...                   ...    ...   ...                ...\n",
        "433457459              93    141    79                116\n",
        "435624796              96   1577   249                405\n",
        "435659593              98    104   898                 29\n",
        "461175103             861   7723  3407               4758\n",
        "461175549             249    249   249                161\n",
        "461176415             241    335  1753                349\n",
        "461176844              95    757   421                160\n",
        "461177487              12    949   967                 34\n",
        "461178557               8    271   300               1736\n",
        "461178590            1244   3167   896                215\n",
        "461179203              68   5198  3680                530\n",
        "461179222              63   1552  1112                 57\n",
        "461179441             319   2481   528                203\n",
        "461179762             110    159  5640                 66\n",
        "461179818             135      0   107                164\n",
        "461179954          173783  21819    83               3973\n",
        "461179956             240   3412   257                185\n",
        "461180307             116   3594   793                 16\n",
        "461181039             177   3243   598                206\n",
        "461181597              14    721    51                129\n",
        "461186137             384    167   658                237\n",
        "461186258             573   2570  3010                645\n",
        "461186833             210    510   190                452\n",
        "461187188             265   3080   282                190\n",
        "461187261             993   2333    91                154\n",
        "461187577              82   5435   308                195\n",
        "461188549              63   1552  1112                 57\n",
        "461189069             683   2358   965                114\n",
        "461190586            1306      0  2601               4277\n",
        "461193383              56   1368   477                 62\n",
        "\n",
        "[97 rows x 4 columns]"
       ]
      }
     ],
     "prompt_number": 16
    },
    {
     "cell_type": "code",
     "collapsed": false,
     "input": [
      "df.describe()"
     ],
     "language": "python",
     "metadata": {},
     "outputs": [
      {
       "html": [
        "<div style=\"max-height:1000px;max-width:1500px;overflow:auto;\">\n",
        "<table border=\"1\" class=\"dataframe\">\n",
        "  <thead>\n",
        "    <tr style=\"text-align: right;\">\n",
        "      <th></th>\n",
        "      <th>boiler_pipe</th>\n",
        "      <th>crf</th>\n",
        "      <th>heur</th>\n",
        "      <th>python_readibilty</th>\n",
        "    </tr>\n",
        "  </thead>\n",
        "  <tbody>\n",
        "    <tr>\n",
        "      <th>count</th>\n",
        "      <td>     97.000000</td>\n",
        "      <td>    97.000000</td>\n",
        "      <td>   97.000000</td>\n",
        "      <td>   97.000000</td>\n",
        "    </tr>\n",
        "    <tr>\n",
        "      <th>mean</th>\n",
        "      <td>   2236.969072</td>\n",
        "      <td>  1562.309278</td>\n",
        "      <td>  936.247423</td>\n",
        "      <td>  353.731959</td>\n",
        "    </tr>\n",
        "    <tr>\n",
        "      <th>std</th>\n",
        "      <td>  17619.548820</td>\n",
        "      <td>  2801.233420</td>\n",
        "      <td> 1297.955500</td>\n",
        "      <td>  765.540217</td>\n",
        "    </tr>\n",
        "    <tr>\n",
        "      <th>min</th>\n",
        "      <td>      2.000000</td>\n",
        "      <td>     0.000000</td>\n",
        "      <td>   38.000000</td>\n",
        "      <td>    0.000000</td>\n",
        "    </tr>\n",
        "    <tr>\n",
        "      <th>25%</th>\n",
        "      <td>     95.000000</td>\n",
        "      <td>    81.000000</td>\n",
        "      <td>  219.000000</td>\n",
        "      <td>   63.000000</td>\n",
        "    </tr>\n",
        "    <tr>\n",
        "      <th>50%</th>\n",
        "      <td>    210.000000</td>\n",
        "      <td>   510.000000</td>\n",
        "      <td>  528.000000</td>\n",
        "      <td>  162.000000</td>\n",
        "    </tr>\n",
        "    <tr>\n",
        "      <th>75%</th>\n",
        "      <td>    429.000000</td>\n",
        "      <td>  2251.000000</td>\n",
        "      <td> 1014.000000</td>\n",
        "      <td>  260.000000</td>\n",
        "    </tr>\n",
        "    <tr>\n",
        "      <th>max</th>\n",
        "      <td> 173783.000000</td>\n",
        "      <td> 21819.000000</td>\n",
        "      <td> 9280.000000</td>\n",
        "      <td> 4758.000000</td>\n",
        "    </tr>\n",
        "  </tbody>\n",
        "</table>\n",
        "</div>"
       ],
       "metadata": {},
       "output_type": "pyout",
       "prompt_number": 21,
       "text": [
        "         boiler_pipe           crf         heur  python_readibilty\n",
        "count      97.000000     97.000000    97.000000          97.000000\n",
        "mean     2236.969072   1562.309278   936.247423         353.731959\n",
        "std     17619.548820   2801.233420  1297.955500         765.540217\n",
        "min         2.000000      0.000000    38.000000           0.000000\n",
        "25%        95.000000     81.000000   219.000000          63.000000\n",
        "50%       210.000000    510.000000   528.000000         162.000000\n",
        "75%       429.000000   2251.000000  1014.000000         260.000000\n",
        "max    173783.000000  21819.000000  9280.000000        4758.000000"
       ]
      }
     ],
     "prompt_number": 21
    },
    {
     "cell_type": "code",
     "collapsed": false,
     "input": [
      "res = compare_extractors_for_download( 461179954 )\n",
      "res"
     ],
     "language": "python",
     "metadata": {},
     "outputs": [
      {
       "output_type": "stream",
       "stream": "stdout",
       "text": [
        "[190, 191, 192, 193, 194, 195, 196, 197]\n",
        "[190, 191, 192, 193, 194, 195, 196, 197, 953, 954, 955, 956, 957, 958, 959, 960, 961, 962, 1157, 1158, 1159, 1160, 1161, 1162, 1163, 1172, 1174, 1175, 1176, 1177, 1178, 1179, 1180, 1189, 1191, 1192, 1193, 1194, 1195, 1306, 1307, 1308, 1309, 1310, 1311, 1312, 1313, 1314, 1315, 2402, 2403, 2404, 2405, 2406, 2407, 2408, 2409, 2410, 2411, 2412, 2769, 2770, 2771, 2772, 2773, 2774, 2775, 2776, 2777, 2778, 2779, 2780, 2781, 2782, 2783, 2784, 2785, 3503, 3504, 3505, 3506, 3507, 3508, 3509, 3510, 3569, 3570, 3571, 3572, 3573]\n",
        "[181, 182, 190, 191, 192, 193, 194, 195, 196, 197]"
       ]
      },
      {
       "output_type": "stream",
       "stream": "stdout",
       "text": [
        "\n",
        "original article tmp file "
       ]
      },
      {
       "output_type": "stream",
       "stream": "stdout",
       "text": [
        " /tmp/tmp83sPIz.html\n",
        "/tmp/tmpeth4eT.html\n",
        "/tmp/tmp83sPIz.html\n",
        "/tmp/tmp83sPIz.html\n",
        "Now open file:///tmp/tmpeth4eT.html in your web browser\n"
       ]
      },
      {
       "output_type": "stream",
       "stream": "stdout",
       "text": [
        "\n"
       ]
      },
      {
       "metadata": {},
       "output_type": "pyout",
       "prompt_number": 17,
       "text": [
        "{'boiler_pipe': 173783,\n",
        " 'crf': 21819,\n",
        " 'downloads_id': 461179954,\n",
        " 'heur': 83,\n",
        " 'python_readibilty': 3973}"
       ]
      }
     ],
     "prompt_number": 17
    },
    {
     "cell_type": "code",
     "collapsed": false,
     "input": [
      "def gen_data(downloads_id, included_line_numbers):\n",
      "    \n",
      "    heuristic_training_ip = []\n",
      "    c_t_ip = []\n",
      "    h_t_ip = []\n",
      "    \n",
      "    try:\n",
      "        \n",
      "        #api_key = ''\n",
      "        loc_key = api_key\n",
      "    \n",
      "        download = requests.get('https://api.mediacloud.org/api/v2/downloads/single/'+str(downloads_id)+'?key='+api_key)\n",
      "        raw_content = download.json()[0][u'raw_content']\n",
      "        stories_id = download.json()[0][u'stories_id']\n",
      "    \n",
      "        story = requests.get('https://api.mediacloud.org/api/v2/stories/single/'+str(stories_id)+'?key='+api_key)\n",
      "        title = story.json()[0][u'title']\n",
      "        description = story.json()[0][u'description']\n",
      "        url = story.json()[0][u'url']\n",
      "\n",
      "        story_lines_params = {'key':loc_key, 'body_html':raw_content}\n",
      "        \n",
      "        headers = {'Content-type': 'application/json'}\n",
      "        story_lines = requests.put('https://api.mediacloud.org/api/v2/extractlines/story_lines',data=story_lines_params, headers=headers)\n",
      "\n",
      "        #story_lines = requests.get('https://api.mediacloud.org/api/v2/extractlines/story_lines',params=story_lines_params)\n",
      "        \n",
      "        preprocessed_lines = story_lines.text\n",
      "\n",
      "        heur_extract_params = {'key':loc_key, 'preprocessed_lines':preprocessed_lines, 'story_title':title, 'story_description':description, 'extractor_method':'HeuristicExtractor'}\n",
      "        heur_extract = requests.get('https://api.mediacloud.org/api/v2/extractlines/extract',params=heur_extract_params)\n",
      "\n",
      "        crf_extract_params = {'key':loc_key, 'preprocessed_lines':preprocessed_lines, 'story_title':title, 'story_description':description, 'extractor_method':'CrfExtractor'}\n",
      "        crf_extract = requests.get('https://api.mediacloud.org/api/v2/extractlines/extract',params=crf_extract_params)\n",
      "\n",
      "        for ln, hscore in enumerate(heur_extract.json()[u'scores']):\n",
      "\n",
      "            t = 1 if str(ln) in included_line_numbers else 0\n",
      "\n",
      "            if hscore[u'autoexcluded'] != 1:\n",
      "                h_t_ip.append( (t, hscore[u'include_probability']) )\n",
      "\n",
      "            cscore = crf_extract.json()[u'scores'][ln]\n",
      "            if u'autoexcluded' not in cscore:\n",
      "                c_t_ip.append( (t, cscore[u'include_probability']) ) \n",
      "    \n",
      "    except Exception as e:\n",
      "        \n",
      "        pass\n",
      "\n",
      "    return h_t_ip, c_t_ip"
     ],
     "language": "python",
     "metadata": {},
     "outputs": [],
     "prompt_number": 18
    },
    {
     "cell_type": "code",
     "collapsed": false,
     "input": [
      "import mediacloud, requests, csv, sys, os, json, cPickle\n",
      "from pyroc import *\n",
      "\n",
      "#extractor_training_lines_checked has the training lines for downloads for which the highest line listed as 'included' was less than the number of lines in the download (max(included_line_numbers) < len(story_lines.json()))\n",
      "f = open(\"extractor_training_lines_checked.json\").read()\n",
      "reader = json.loads(f)\n",
      "heur = []\n",
      "cPickle.dump(heur, open(\"heur.p\", \"wb\"))\n",
      "crf = []\n",
      "cPickle.dump(crf, open(\"crf.p\", \"wb\"))\n",
      "done = []\n",
      "cPickle.dump(done, open(\"done.p\", \"wb\"))\n",
      "\n",
      "for row in reader[:30]:\n",
      "    \n",
      "    did = row[u'downloads_id']\n",
      "    lns = row[u'included_line_numbers']\n",
      "    \n",
      "    curh, curc = gen_data(did, lns)\n",
      "    \n",
      "    heur+=curh\n",
      "    crf+=curc\n",
      "    done.append(did)\n",
      "    \n",
      "cPickle.dump(done, open(\"done.p\", \"wb\"))\n",
      "cPickle.dump(heur, open(\"heur.p\", \"wb\"))\n",
      "cPickle.dump(crf, open(\"crf.p\", \"wb\"))"
     ],
     "language": "python",
     "metadata": {},
     "outputs": [],
     "prompt_number": 19
    },
    {
     "cell_type": "code",
     "collapsed": false,
     "input": [
      "import cPickle\n",
      "from pyroc import *\n",
      "\n",
      "heur = cPickle.load(open(\"heur.p\",\"rb\"))\n",
      "crf = cPickle.load(open(\"crf.p\",\"rb\"))\n",
      "\n",
      "rocheur = ROCData(heur)\n",
      "roccrf = ROCData(crf)\n",
      "\n",
      "\n",
      "print rocheur.auc()\n",
      "\n",
      "plot_multiple_roc(rocList=(rocheur,roccrf), title='Extractor ROC Curve', labels=(\"heuristic curve\",\"crf curve\"))"
     ],
     "language": "python",
     "metadata": {},
     "outputs": [
      {
       "output_type": "stream",
       "stream": "stdout",
       "text": [
        "0.0\n"
       ]
      },
      {
       "metadata": {},
       "output_type": "display_data",
       "png": "[encoded data removed]",
       "text": [
        "<matplotlib.figure.Figure at 0x7fda4b763890>"
       ]
      }
     ],
     "prompt_number": 20
    }
   ],
   "metadata": {}
  }
 ]
}