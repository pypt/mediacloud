{
 "metadata": {
  "name": "",
  "signature": "sha256:e6196607dd61c04b365dcdf3394745636fe47d3eacdb8cc3057303b0c60176d3"
 },
 "nbformat": 3,
 "nbformat_minor": 0,
 "worksheets": [
  {
   "cells": [
    {
     "cell_type": "markdown",
     "metadata": {},
     "source": [
      "This notebook is intended enable testing and evaluation of various extractor methods such as:\n",
      "\n",
      "* Heuristic Extractor\n",
      "* CRF Extractor\n",
      "* boilerpipe\n"
     ]
    },
    {
     "cell_type": "code",
     "collapsed": false,
     "input": [
      "import cPickle\n",
      "import os.path\n",
      "\n",
      "api_key = cPickle.load( file( os.path.expanduser( '~/mediacloud_api_key.pickle' ), 'r' ) )"
     ],
     "language": "python",
     "metadata": {},
     "outputs": [],
     "prompt_number": 1
    },
    {
     "cell_type": "code",
     "collapsed": false,
     "input": [
      "import cPickle\n",
      "import os.path\n",
      "\n",
      "cPickle.dump( api_key, file( os.path.expanduser( '~/mediacloud_api_key.pickle' ), 'wb' ) )"
     ],
     "language": "python",
     "metadata": {},
     "outputs": [],
     "prompt_number": 2
    },
    {
     "cell_type": "code",
     "collapsed": false,
     "input": [
      "import sys\n",
      "sys.path.append('../../foreign_modules/python/')"
     ],
     "language": "python",
     "metadata": {},
     "outputs": [],
     "prompt_number": 3
    },
    {
     "cell_type": "code",
     "collapsed": false,
     "input": [
      "loc_key = 'f66a50230d54afaf18822808aed649f1d6ca72b08fb06d5efb6247afe9fbae52'"
     ],
     "language": "python",
     "metadata": {},
     "outputs": [],
     "prompt_number": 4
    },
    {
     "cell_type": "code",
     "collapsed": false,
     "input": [
      "import mediacloud, requests, csv, sys, os, json, cPickle\n",
      "\n",
      "def get_download( downloads_id ):\n",
      "    download = requests.get('https://api.mediacloud.org/api/v2/downloads/single/'+str(downloads_id)+'?key='+api_key)\n",
      "    return download.json()[0]\n",
      "\n",
      "def extract_story( preprocessed_lines, title, description, extractor_method ):\n",
      "    extract_params = {'key':loc_key, 'preprocessed_lines':preprocessed_lines, \n",
      "                           'story_title':title, 'story_description':description, 'extractor_method': extractor_method}\n",
      "    \n",
      "    extract_result = requests.put('http://0:3000/api/v2/extractlines/extract',data=json.dumps(extract_params), \n",
      "                                headers = {'Content-type': 'application/json'})\n",
      "    \n",
      "    extract_result.raise_for_status()\n",
      "    return extract_result.json()\n",
      "\n",
      "def get_story_lines( raw_content ):\n",
      "    story_lines_params = {'key':loc_key, 'body_html':raw_content }\n",
      "    headers = {'Content-type': 'application/json'}\n",
      "    story_lines = requests.put('http://0:3000/api/v2/extractlines/story_lines',data=json.dumps(story_lines_params), \n",
      "                               params={ 'key': loc_key },headers=headers)\n",
      "    \n",
      "    story_lines.raise_for_status()\n",
      "    \n",
      "    return story_lines"
     ],
     "language": "python",
     "metadata": {},
     "outputs": [],
     "prompt_number": 5
    },
    {
     "cell_type": "code",
     "collapsed": false,
     "input": [
      "import subprocess\n",
      "import tempfile\n",
      "import codecs\n",
      "import time\n",
      "from lxml import html\n",
      "\n",
      "#download = get_download( downloads_id )\n",
      "#raw_content = download[u'raw_content']\n",
      "\n",
      "def extract_with_boilerpipe( raw_content ):\n",
      "    with tempfile.NamedTemporaryFile( suffix='.html', delete=False ) as t:\n",
      "        #print t.name\n",
      "    \n",
      "        UTF8Writer = codecs.getwriter('utf8')\n",
      "        t.file = UTF8Writer(t.file)\n",
      "        t.file.write( raw_content )\n",
      "    \n",
      "        t.close()\n",
      "        #time.sleep( 2 )\n",
      "        print \"original article tmp file \", t.name\n",
      "        \n",
      "        #input_file = '/tmp/416655019.htm'\n",
      "        input_file = t.name\n",
      "        \n",
      "        output_tmp = tempfile.NamedTemporaryFile( suffix='.html', delete=False )\n",
      "        \n",
      "        output_file = output_tmp.name\n",
      "        #output_file = '/tmp/highlighted.html'\n",
      "        print output_file\n",
      "        print subprocess.check_output(['java', '-jar',\n",
      "                               '/home/dlarochelle/dev_scratch/boilerpipe_test/out/artifacts/boilerpipe_test_jar/boilerpipe_test.jar',\n",
      "                               input_file, output_file ] )\n",
      "        f = open( output_file, 'rb' )\n",
      "        \n",
      "        annotated_file_str = f.read()\n",
      "        \n",
      "        #t.unlink( t.name )\n",
      "        output_tmp.close()\n",
      "        #output_tmp.unlink( output_tmp.name )\n",
      "        \n",
      "    return annotated_file_str\n",
      "\n"
     ],
     "language": "python",
     "metadata": {},
     "outputs": [],
     "prompt_number": 6
    },
    {
     "cell_type": "code",
     "collapsed": false,
     "input": [
      "import readability\n",
      "\n",
      "def extract_with_python_readability( raw_content ):\n",
      "    doc = readability.Document( raw_content )\n",
      "    \n",
      "    return [ doc.short_title(),\n",
      "             doc.summary() ]"
     ],
     "language": "python",
     "metadata": {},
     "outputs": [],
     "prompt_number": 7
    },
    {
     "cell_type": "code",
     "collapsed": true,
     "input": [
      "import goose\n",
      "\n",
      "def extract_with_python_goose( raw_content ):\n",
      "    g = goose.Goose()\n",
      "    \n",
      "    r = g.extract( raw_html=raw_content )\n",
      "    return [r.title, r.cleaned_text ]"
     ],
     "language": "python",
     "metadata": {},
     "outputs": [],
     "prompt_number": 8
    },
    {
     "cell_type": "code",
     "collapsed": false,
     "input": [
      "import justext\n",
      "\n",
      "def extract_with_justext( raw_content ):\n",
      "    ret = []\n",
      "    \n",
      "    paragraphs = justext.justext( raw_content, justext.get_stoplist('Portuguese') )\n",
      "    \n",
      "    #p = paragraphs[0]\n",
      "    for p in paragraphs:\n",
      "        if not p.is_boilerplate:\n",
      "            ret.append(p.text)\n",
      "            \n",
      "    return ret\n",
      "\n",
      "#extract_with_justext( raw_content )\n",
      "#raw_html\n",
      "\n",
      "#justext.get_stoplists()"
     ],
     "language": "python",
     "metadata": {},
     "outputs": [],
     "prompt_number": 10
    },
    {
     "cell_type": "code",
     "collapsed": false,
     "input": [
      "import operator\n",
      "\n",
      "def get_extractor_training_text( downloads_id, preprocessed_lines ):\n",
      "    extractor_training_lines_result = requests.get(\n",
      "                                                   'https://api.mediacloud.org/api/v2/extractlines/extractor_training_lines/' + str(downloads_id),\n",
      "                                               headers = {'Content-type': 'application/json'}\n",
      "                                               , params= {'key': api_key}\n",
      "                                               )\n",
      "\n",
      "    extractor_training_lines_result.raise_for_status()\n",
      "\n",
      "    extractor_training_lines_result = extractor_training_lines_result.json()\n",
      "    \n",
      "    line_numbers = [ x['line_number'] for x in extractor_training_lines_result ]\n",
      "    \n",
      "    line_numbers = sorted(line_numbers)\n",
      "    \n",
      "    line_numbers.sort()\n",
      "    \n",
      "    #print line_numbers\n",
      "    \n",
      "    return operator.itemgetter( * line_numbers )( preprocessed_lines  )\n",
      "\n",
      "import operator\n",
      "\n",
      "def get_extracted_text( extractor_results ):\n",
      "    included_line_numbers = extractor_results['included_line_numbers']\n",
      "    #print included_line_numbers\n",
      "    \n",
      "    dl = extractor_results['download_lines']\n",
      "   \n",
      "    if len( included_line_numbers ) == 0:\n",
      "        return []\n",
      "    else:    \n",
      "        return operator.itemgetter( * extractor_results['included_line_numbers']   )(dl)"
     ],
     "language": "python",
     "metadata": {},
     "outputs": [],
     "prompt_number": 11
    },
    {
     "cell_type": "code",
     "collapsed": false,
     "input": [
      "def html_strip( str ):\n",
      "    if str.isspace() or str == '':\n",
      "        return u' '\n",
      "    \n",
      "    if str == '<':\n",
      "        return u' '        \n",
      "    \n",
      "    try:\n",
      "        return html.fromstring(str).text_content()    \n",
      "    except:\n",
      "        print \"Unexpected error on string '\" + str + \"'\" , sys.exc_info()[0]\n",
      "        #raise\n",
      "        return u''\n",
      "    \n",
      "    \n",
      "\n",
      "def clean_for_comparison( str ):\n",
      "    if len(str) > 0:\n",
      "        ret = html_strip( str )\n",
      "    else:\n",
      "        return str\n",
      "    \n",
      "    if len(ret) > 0:\n",
      "        ret = ret.strip()\n",
      "    \n",
      "    return ret    "
     ],
     "language": "python",
     "metadata": {},
     "outputs": [],
     "prompt_number": 12
    },
    {
     "cell_type": "code",
     "collapsed": false,
     "input": [
      "import Levenshtein\n",
      "\n",
      "def lines_to_comparable_text( lines ):\n",
      "    text = \" \".join([ clean_for_comparison(line) for line in lines ])\n",
      "    \n",
      "    if text == '':\n",
      "        text = u''\n",
      "        \n",
      "    return text\n",
      "\n",
      "def compare_accuracy( lines, lines_expected ):\n",
      "    return Levenshtein.distance( lines_to_comparable_text( lines ) , lines_to_comparable_text( lines_expected ) )"
     ],
     "language": "python",
     "metadata": {},
     "outputs": [],
     "prompt_number": 13
    },
    {
     "cell_type": "code",
     "collapsed": false,
     "input": [
      "def get_anncestors( element ):\n",
      "    anncestors = [ element ];\n",
      "    anncestor = element.getparent()\n",
      "    \n",
      "    while anncestor != None :\n",
      "        #print 'loop'\n",
      "        anncestors.append( anncestor )\n",
      "        anncestor = anncestor.getparent()\n",
      "        \n",
      "    return anncestors"
     ],
     "language": "python",
     "metadata": {},
     "outputs": [],
     "prompt_number": 14
    },
    {
     "cell_type": "code",
     "collapsed": false,
     "input": [
      "def text_from_lxml_object( obj):\n",
      "    if type(obj) is etree._ElementStringResult:\n",
      "        return u'' + obj\n",
      "    if type(obj) ==  etree._ElementUnicodeResult:\n",
      "        return u'' + obj \n",
      "    else:\n",
      "        try:\n",
      "            return etree.tostring( obj , method='text', encoding=\"UTF-8\") \n",
      "        except:\n",
      "            print type(obj)\n",
      "            print obj\n",
      "            \n",
      "            raise ''"
     ],
     "language": "python",
     "metadata": {},
     "outputs": [],
     "prompt_number": 15
    },
    {
     "cell_type": "code",
     "collapsed": false,
     "input": [
      "from lxml import etree\n",
      "\n",
      "downloads_id =  582817308 \n",
      "download = get_download( downloads_id )\n",
      "raw_content = download[ 'raw_content' ]\n",
      "with open( '/tmp/' + str(downloads_id) , 'wb' ) as f:\n",
      "    f.write( raw_content )\n"
     ],
     "language": "python",
     "metadata": {},
     "outputs": [],
     "prompt_number": 16
    },
    {
     "cell_type": "code",
     "collapsed": false,
     "input": [
      "def text_children( element):\n",
      "    ret =  [ t for t in element.xpath(\"//text()\" ) if t.getparent() == element ]\n",
      "    assert len( ret ) <= 2\n",
      "    \n",
      "    if len( ret ) == 2:\n",
      "        assert ret[0].is_text\n",
      "        assert ret[1].is_tail\n",
      "    \n",
      "    for r in ret:\n",
      "        if r.is_text:\n",
      "            assert element.text == r\n",
      "        else:\n",
      "            assert r.is_tail\n",
      "            assert element.tail == r\n",
      "            \n",
      "    return ret"
     ],
     "language": "python",
     "metadata": {},
     "outputs": [],
     "prompt_number": 17
    },
    {
     "cell_type": "code",
     "collapsed": false,
     "input": [
      "#start_container[ annotation['start_offset']: annotation['end_offset'] + 1 ]"
     ],
     "language": "python",
     "metadata": {},
     "outputs": [],
     "prompt_number": 17
    },
    {
     "cell_type": "code",
     "collapsed": false,
     "input": [
      "def get_annotated_text( raw_content, annotation):\n",
      "\n",
      "    htmlparser = etree.HTMLParser()\n",
      "    root = etree.fromstring( raw_content, htmlparser )\n",
      "    \n",
      "    #print annotation[ 'start_xpath' ]\n",
      "    \n",
      "    start_container = get_element_from_xpath(root, annotation[ 'start_xpath' ] )\n",
      "    end_container   = get_element_from_xpath( root, annotation[ 'end_xpath' ] )\n",
      "    \n",
      "    if ( start_container == end_container ):\n",
      "        return [start_container[ annotation['start_offset']: annotation['end_offset'] + 1 ]]\n",
      "    \n",
      "        \n",
      "    if start_container.getparent() == end_container.getparent():\n",
      "        common_parent = start_container.getparent()\n",
      "        assert start_container.is_text\n",
      "        assert end_container.is_tail\n",
      "        assert common_parent.text == start_container\n",
      "        assert common_parent.tail == end_container\n",
      "        \n",
      "        return [start_container[ annotation['start_offset']:], end_container[ : annotation['end_offset'] + 1 ]]\n",
      "\n",
      "    \n",
      "    start_anncestors = get_anncestors( start_container )\n",
      "    end_anncestors   = get_anncestors( end_container )\n",
      "    \n",
      "    print 'sc', start_container\n",
      "    print 'ec', end_container\n",
      "    print 'common'\n",
      "    \n",
      "    middle_contents = []\n",
      "    \n",
      "    p = start_container.getparent()\n",
      "    prev_p = start_container\n",
      "    \n",
      "    if start_container.is_text:\n",
      "        # append the tail\n",
      "        texts = text_children( start_container.getparent() )\n",
      "        if len( texts ) == 2:\n",
      "            assert texts[1].is_tail\n",
      "            middle_contents.append( texts[1] )\n",
      "                                   \n",
      "    \n",
      "    while p not in end_anncestors:\n",
      "        #print \"parent:\", p, \"\\n\", etree.tostring( p )\n",
      "        assert p in start_anncestors\n",
      "        if prev_p != start_container:\n",
      "            child_index = p.index( prev_p )\n",
      "            if (child_index + 1) < len( list( p )):\n",
      "                el = list(p)[ child_index + 1]\n",
      "            else:\n",
      "                el = None\n",
      "                #print \"stripping previous parent is the last child of curparrent\"\n",
      "        else:\n",
      "            el = None\n",
      "    \n",
      "        while (el not in end_anncestors) and (el != None) :\n",
      "            #print \"inner loop\"\n",
      "            #print el\n",
      "            #print etree.tostring( el )\n",
      "            middle_contents.append( el )\n",
      "            print el\n",
      "            el = el.getnext()\n",
      "            \n",
      "        print \"end inner loop\"\n",
      "        prev_p = p\n",
      "        p = p.getparent()\n",
      "    \n",
      "    print \"end loop\"\n",
      "    \n",
      "    print p\n",
      "    commonanncestors = list([ s for s in start_anncestors if s in end_anncestors ] )\n",
      "    \n",
      "    assert p in commonanncestors\n",
      "    commonanncestor = commonanncestors[0]\n",
      "    \n",
      "    print commonanncestors\n",
      "    print start_container == end_container\n",
      "    assert p == commonanncestor\n",
      "    \n",
      "    print \"commonacccestor\", commonanncestor \n",
      "    print etree.tostring( commonanncestor )\n",
      "       \n",
      "    processed_children = [ c for c in list (commonanncestor) if c in start_anncestors ]\n",
      "    print \"ca's processed children\"\n",
      "    #print processed_children\n",
      "    #print [ etree.tostring( c ) + \"\\n\" for c in list( commonanncestor ) ] \n",
      "    assert( len( processed_children ) == 1 )\n",
      "    processed_child = processed_children[ 0]\n",
      "    \n",
      "    print \"processed_child\", processed_child\n",
      "    \n",
      "    print etree.tostring( processed_child )\n",
      "    \n",
      "    el = processed_child.getnext()\n",
      "    \n",
      "    print \"start True\"\n",
      "    \n",
      "    assert el != None\n",
      "    \n",
      "    #print etree.tostring( el )\n",
      "    \n",
      "    while True:\n",
      "        \n",
      "            print 'outer loop:',  el, \"\\n\", etree.tostring( el )\n",
      "\n",
      "\n",
      "\n",
      "            while (el not in end_anncestors):\n",
      "                print \"inner loop\"\n",
      "                print el\n",
      "                assert el != None\n",
      "                print etree.tostring( el )\n",
      "                middle_contents.append( el )\n",
      "                el = el.getnext()\n",
      "                assert el != None\n",
      "                \n",
      "            print 'end inner loop'\n",
      "            print el\n",
      "            print etree.tostring( el )\n",
      "            # element is an ancester of end_container and has no (non-text)children\n",
      "            # since end_container is text el must be it's parent so we can stop\n",
      "            if (len(list(el)) == 0 ):\n",
      "                            \n",
      "                print 'found end_contain parent, exiting loop:',  el, \"\\n\", etree.tostring( el )\n",
      "                \n",
      "                assert end_container in text_children(el)\n",
      "    \n",
      "                assert end_container.getparent() == el\n",
      "                break\n",
      "            \n",
      "            ## HACK bc/ lxml/etree doesn't have a real text node\n",
      "            ## treat the text as the first child node\n",
      "            texts = text_children(el)\n",
      "            \n",
      "            assert ( all ( [t.getparent() == el for t in texts] ) )\n",
      "            \n",
      "            assert( len (texts ) <= 2 )\n",
      "            if len( texts) > 0:\n",
      "                if texts[0].is_text:\n",
      "                    assert el.text == texts[0]\n",
      "                    middle_contents.append(texts[0] );\n",
      "    \n",
      "            el = el[0]\n",
      "        \n",
      "            assert el != None\n",
      "        \n",
      "            \n",
      "    #[ text_from_lxml_object( mc ) for mc in middle_contents ]\n",
      "    print etree.tostring(el)\n",
      "    #print etree.tostring(middle_contents[-1] )\n",
      "    print end_container.is_tail\n",
      "    print end_container.is_text\n",
      "    print \"escape while\"\n",
      "    #print list ( el.itertext() )\n",
      "    #print 'ca'\n",
      "    #commonanncestor.text\n",
      "    #type(el)\n",
      "    type( end_container )\n",
      "    assert end_container in text_children(el)\n",
      "    \n",
      "    assert el == end_container.getparent()\n",
      "    \n",
      "    print etree.tostring( end_container.getparent() )\n",
      "    #print middle_contents[-2:] \n",
      "    #print end_container\n",
      "    text_children(el )\n",
      "    etree.tostring( el.getparent() )\n",
      "    #p_el = el.getparent()\n",
      "    #print etree.tostring( p_el )\n",
      "    #text_children( p_el )[0].is_text\n",
      "    \n",
      "    #annotation\n",
      "    #list(p_el)\n",
      "    if end_container.is_tail:\n",
      "        assert len(text_children(el )) == 2\n",
      "        \n",
      "        middle_contents.append( text_children( el )[ 0] )\n",
      "    \n",
      "    else:\n",
      "        assert end_container.is_text\n",
      "        \n",
      "    end_text = end_container[:annotation['end_offset'] - 1]\n",
      "    \n",
      "    print 'start container'\n",
      "    print etree.tostring( start_container.getparent())\n",
      "    print start_container\n",
      "    print 'offset', annotation['start_offset']\n",
      "    \n",
      "    print 'end container'\n",
      "    print etree.tostring( end_container.getparent())\n",
      "    print end_container\n",
      "    print 'offset', annotation['end_offset']\n",
      "    \n",
      "    #assert start_container.is_text\n",
      "    \n",
      "    start_text = start_container[annotation['start_offset']:]\n",
      "    \n",
      "    target_text = [ start_text ]\n",
      "    target_text.extend( [ text_from_lxml_object( mc ) for mc in middle_contents ] )\n",
      "    target_text.append( end_text )\n",
      "    \n",
      "    return target_text"
     ],
     "language": "python",
     "metadata": {},
     "outputs": [],
     "prompt_number": 49
    },
    {
     "cell_type": "code",
     "collapsed": true,
     "input": [
      "import io\n",
      "\n",
      "annotation = {u'end_offset': 67, u'end_xpath': u'/html[1]/body[1]/div[3]/section[1]/div[2]/hgroup[1]/h1[1]/text()[1]', u'start_offset': 0, \n",
      "              u'start_xpath': u'/html[1]/body[1]/div[3]/section[1]/div[2]/hgroup[1]/h1[1]/text()[1]'}\n",
      "\n",
      "annotation = {u'end_offset': 142, u'end_xpath': u'/html[1]/body[1]/div[3]/section[1]/div[2]/div[1]/div[1]/div[1]/p[10]/text()[2]',\n",
      "              u'start_offset': 0, u'start_xpath': u'/html[1]/body[1]/div[3]/section[1]/div[2]/div[1]/div[1]/div[1]/p[1]/text()[1]'}\n",
      "annotation = {u'end_offset': 1, u'end_xpath': u'/html[1]/body[1]/div[3]/section[1]/div[2]/hgroup[1]/h5[1]/text()[3]',\n",
      "              u'start_offset': 0, u'start_xpath': u'/html[1]/body[1]/div[3]/section[1]/div[2]/hgroup[1]/h5[1]/time[1]/text()[1]'}\n",
      "\n",
      "downloads_id = 582815971\n",
      "annotation = {u'end_offset': 123, u'end_xpath': u'/html[1]/body[1]/div[2]/div[1]/div[1]/div[3]/div[2]/div[1]/div[1]/div[1]/div[1]/div[1]/article[1]/p[1]/text()[1]', u'start_offset': 0,\n",
      "              u'start_xpath': u'/html[1]/body[1]/div[2]/div[1]/div[1]/div[3]/div[2]/div[1]/div[1]/div[1]/div[1]/div[1]/article[1]/h1[1]/text()[1]'}\n",
      "\n",
      "downloads_id = 413070223\n",
      "annotation = {u'end_offset': 0, u'end_xpath': u'/html[1]/body[1]/div[2]/div[3]/div[1]/div[2]/div[2]', u'start_offset': 0, u'start_xpath': u'/html[1]/body[1]/div[2]/div[3]/div[1]/div[2]/h1[1]/text()[1]'}\n",
      "download = get_download( downloads_id )\n",
      "raw_content = u'' + download[ 'raw_content' ]\n",
      "\n",
      "#with io.open( '/tmp/' + str(downloads_id) + '.html' , 'w', encoding='utf8' ) as f:\n",
      "#    f.write( raw_content )\n",
      "\n",
      "get_annotated_text( u''+ raw_content, annotation )    \n",
      "htmlparser = etree.HTMLParser()\n",
      "root = etree.fromstring( raw_content, htmlparser )\n",
      "d = root.xpath( annotation['start_xpath'] )[0]\n",
      "\n",
      "p = d.getparent()\n"
     ],
     "language": "python",
     "metadata": {},
     "outputs": [
      {
       "ename": "AssertionError",
       "evalue": "",
       "output_type": "pyerr",
       "traceback": [
        "\u001b[1;31m---------------------------------------------------------------------------\u001b[0m\n\u001b[1;31mAssertionError\u001b[0m                            Traceback (most recent call last)",
        "\u001b[1;32m<ipython-input-50-8482720fc38d>\u001b[0m in \u001b[0;36m<module>\u001b[1;34m()\u001b[0m\n\u001b[0;32m     21\u001b[0m \u001b[1;31m#    f.write( raw_content )\u001b[0m\u001b[1;33m\u001b[0m\u001b[1;33m\u001b[0m\u001b[0m\n\u001b[0;32m     22\u001b[0m \u001b[1;33m\u001b[0m\u001b[0m\n\u001b[1;32m---> 23\u001b[1;33m \u001b[0mget_annotated_text\u001b[0m\u001b[1;33m(\u001b[0m \u001b[1;34mu''\u001b[0m\u001b[1;33m+\u001b[0m \u001b[0mraw_content\u001b[0m\u001b[1;33m,\u001b[0m \u001b[0mannotation\u001b[0m \u001b[1;33m)\u001b[0m\u001b[1;33m\u001b[0m\u001b[0m\n\u001b[0m\u001b[0;32m     24\u001b[0m \u001b[0mhtmlparser\u001b[0m \u001b[1;33m=\u001b[0m \u001b[0metree\u001b[0m\u001b[1;33m.\u001b[0m\u001b[0mHTMLParser\u001b[0m\u001b[1;33m(\u001b[0m\u001b[1;33m)\u001b[0m\u001b[1;33m\u001b[0m\u001b[0m\n\u001b[0;32m     25\u001b[0m \u001b[0mroot\u001b[0m \u001b[1;33m=\u001b[0m \u001b[0metree\u001b[0m\u001b[1;33m.\u001b[0m\u001b[0mfromstring\u001b[0m\u001b[1;33m(\u001b[0m \u001b[0mraw_content\u001b[0m\u001b[1;33m,\u001b[0m \u001b[0mhtmlparser\u001b[0m \u001b[1;33m)\u001b[0m\u001b[1;33m\u001b[0m\u001b[0m\n",
        "\u001b[1;32m<ipython-input-49-ef501dec1bba>\u001b[0m in \u001b[0;36mget_annotated_text\u001b[1;34m(raw_content, annotation)\u001b[0m\n\u001b[0;32m    115\u001b[0m                 \u001b[0mmiddle_contents\u001b[0m\u001b[1;33m.\u001b[0m\u001b[0mappend\u001b[0m\u001b[1;33m(\u001b[0m \u001b[0mel\u001b[0m \u001b[1;33m)\u001b[0m\u001b[1;33m\u001b[0m\u001b[0m\n\u001b[0;32m    116\u001b[0m                 \u001b[0mel\u001b[0m \u001b[1;33m=\u001b[0m \u001b[0mel\u001b[0m\u001b[1;33m.\u001b[0m\u001b[0mgetnext\u001b[0m\u001b[1;33m(\u001b[0m\u001b[1;33m)\u001b[0m\u001b[1;33m\u001b[0m\u001b[0m\n\u001b[1;32m--> 117\u001b[1;33m                 \u001b[1;32massert\u001b[0m \u001b[0mel\u001b[0m \u001b[1;33m!=\u001b[0m \u001b[0mNone\u001b[0m\u001b[1;33m\u001b[0m\u001b[0m\n\u001b[0m\u001b[0;32m    118\u001b[0m \u001b[1;33m\u001b[0m\u001b[0m\n\u001b[0;32m    119\u001b[0m             \u001b[1;32mprint\u001b[0m \u001b[1;34m'end inner loop'\u001b[0m\u001b[1;33m\u001b[0m\u001b[0m\n",
        "\u001b[1;31mAssertionError\u001b[0m: "
       ]
      },
      {
       "output_type": "stream",
       "stream": "stdout",
       "text": [
        "sc \u0627\u0644\u0642\u0628\u0636 \u0639\u0644\u0649 3 \u0625\u062e\u0648\u0627\u0646 \u0647\u0627\u062c\u0645\u0648\u0627 \u0645\u0624\u062a\u0645\u0631\u064b\u0627 \u0644\u062f\u0639\u0645 \u0627\u0644\u062f\u0633\u062a\u0648\u0631 \u0628\u0627\u0644\u062d\u0648\u0627\u0645\u062f\u064a\u0629 \n",
        "ec <Element div at 0x7ff5a88bcdc0>\n",
        "common\n",
        "end inner loop\n",
        "end loop\n",
        "<Element div at 0x7ff5a187a460>\n",
        "[<Element div at 0x7ff5a187a460>, <Element div at 0x7ff5a187adc0>, <Element div at 0x7ff5a187a140>, <Element div at 0x7ff5a187ac80>, <Element body at 0x7ff5a187a5f0>, <Element html at 0x7ff5a88bce10>]\n",
        "False\n",
        "commonacccestor <Element div at 0x7ff5a187a460>\n",
        "<div class=\"main_content_ip\">&#13;\n",
        "            <h1 class=\"article_title\">&#1575;&#1604;&#1602;&#1576;&#1590; &#1593;&#1604;&#1609; 3 &#1573;&#1582;&#1608;&#1575;&#1606; &#1607;&#1575;&#1580;&#1605;&#1608;&#1575; &#1605;&#1572;&#1578;&#1605;&#1585;&#1611;&#1575; &#1604;&#1583;&#1593;&#1605; &#1575;&#1604;&#1583;&#1587;&#1578;&#1608;&#1585; &#1576;&#1575;&#1604;&#1581;&#1608;&#1575;&#1605;&#1583;&#1610;&#1577; </h1>&#13;\n",
        "            <span class=\"SubTitle\"/>&#13;\n",
        "            <div align=\"info\">&#13;\n",
        "                    <span class=\"atr_1\">&#1603;&#1578;&#1576; : &#1605;&#1581;&#1605;&#1608;&#1583; &#1575;&#1604;&#1580;&#1575;&#1585;&#1581;&#1609; &#1608;&#1580;&#1610;&#1607;&#1575;&#1606; &#1593;&#1576;&#1583; &#1575;&#1604;&#1593;&#1586;&#1610;&#1586;</span>&#13;\n",
        "                <span class=\"atr_2\">&#1605;&#1606;&#1584; 22 &#1583;&#1602;&#1610;&#1602;&#1577;</span>&#13;\n",
        "            </div>&#13;\n",
        "        <div class=\"social\">&#13;\n",
        "           <a href=\"javascript:window.print()\" class=\"print_btn\"> &#1591;&#1576;&#1575;&#1593;&#1577;</a>&#13;\n",
        "         &#13;\n",
        "            <!-- AddThis Button BEGIN -->&#13;\n",
        "              <div>&#13;\n",
        "                <ul class=\"social_btns\">&#13;\n",
        "                <li><a class=\"addthis_button_tweet\"/></li>&#13;\n",
        "                <li><a class=\"addthis_button_google_plusone\" g:plusone:size=\"medium\"/></li>&#13;\n",
        "                <li><a class=\"addthis_counter addthis_pill_style\"/></li>&#13;\n",
        "                <li><a class=\"addthis_button_facebook_like\" fb:like:layout=\"button_count\"/></li>&#13;\n",
        "               </ul>&#13;\n",
        "                </div>               &#13;\n",
        "                <script type=\"text/javascript\" src=\"http://s7.addthis.com/js/250/addthis_widget.js#pubid=ra-4fe0971970cac661\"/> &#13;\n",
        "            <!-- AddThis Button END -->            &#13;\n",
        "            &#13;\n",
        "              &#13;\n",
        "        </div>&#13;\n",
        "        <div class=\" main_focus\">&#13;\n",
        "            <!--img src=\"images/2.jpg\"/  or -->&#13;\n",
        "    <img src=\"http://media.elwatannews.com/News/Large/95453_660_212.jpg\" alt=\"&#1575;&#1604;&#1604;&#1608;&#1575;&#1569; &#1605;&#1581;&#1605;&#1608;&#1583; &#1601;&#1575;&#1585;&#1608;&#1602;\"/>&#13;\n",
        "    <span class=\"image_caption\">&#1575;&#1604;&#1604;&#1608;&#1575;&#1569; &#1605;&#1581;&#1605;&#1608;&#1583; &#1601;&#1575;&#1585;&#1608;&#1602;</span>&#13;\n",
        "&#13;\n",
        "&#13;\n",
        "        </div>&#13;\n",
        "        <p>&#1571;&#1604;&#1602;&#1578; &#1602;&#1608;&#1575;&#1578; &#1575;&#1604;&#1571;&#1605;&#1606; &#1576;&#1575;&#1604;&#1580;&#1610;&#1586;&#1577;&#1548; &#1575;&#1604;&#1602;&#1576;&#1590; &#1593;&#1604;&#1609; 3 &#1605;&#1606; &#1593;&#1606;&#1575;&#1589;&#1585; &#1580;&#1605;&#1575;&#1593;&#1577; &#1575;&#1604;&#1573;&#1582;&#1608;&#1575;&#1606; &#1575;&#1604;&#1573;&#1585;&#1607;&#1575;&#1576;&#1610;&#1577; &#1576;&#1575;&#1604;&#1581;&#1608;&#1575;&#1605;&#1583;&#1610;&#1577;&#1548;  &#1603;&#1575;&#1606;&#1608;&#1575;&#1605;&#1588;&#1575;&#1585;&#1603;&#1610;&#1606; &#1601;&#1609; &#1605;&#1587;&#1610;&#1585;&#1577; &#1607;&#1575;&#1580;&#1605;&#1578; &#1605;&#1572;&#1578;&#1605;&#1585;&#1611;&#1575; &#1571;&#1602;&#1575;&#1605;&#1607; &#1575;&#1604;&#1571;&#1607;&#1575;&#1604;&#1609; &#1604;&#1583;&#1593;&#1605; &#1575;&#1604;&#1583;&#1587;&#1578;&#1608;&#1585;. &#1571;&#1601;&#1575;&#1583;&#1578; &#1575;&#1604;&#1578;&#1581;&#1585;&#1610;&#1575;&#1578; &#1575;&#1604;&#1578;&#1609; &#1571;&#1588;&#1585;&#1601; &#1593;&#1604;&#1610;&#1607;&#1575; &#1575;&#1604;&#1604;&#1608;&#1575;&#1569; &#1605;&#1581;&#1605;&#1608;&#1583; &#1601;&#1575;&#1585;&#1608;&#1602; &#1605;&#1583;&#1610;&#1585; &#1575;&#1604;&#1573;&#1583;&#1575;&#1585;&#1577; &#1575;&#1604;&#1593;&#1575;&#1605;&#1577; &#1604;&#1604;&#1605;&#1576;&#1575;&#1581;&#1579; &#1571;&#1606; &#1571;&#1607;&#1575;&#1604;&#1609; &#1575;&#1604;&#1581;&#1608;&#1575;&#1605;&#1583;&#1610;&#1577; &#1571;&#1602;&#1575;&#1605;&#1608;&#1575; &#1605;&#1572;&#1578;&#1605;&#1585;&#1611;&#1575; &#1604;&#1583;&#1593;&#1605; &#1575;&#1604;&#1583;&#1587;&#1578;&#1608;&#1585; &#1576;&#1575;&#1604;&#1602;&#1585;&#1576; &#1605;&#1606; &#1605;&#1589;&#1606;&#1593; &#1575;&#1604;&#1587;&#1603;&#1585; &#1576;&#1575;&#1604;&#1581;&#1608;&#1575;&#1605;&#1583;&#1610;&#1577;&#1548; &#1608;&#1601;&#1608;&#1580;&#1574; &#1575;&#1604;&#1581;&#1590;&#1608;&#1585; &#1576;&#1575;&#1604;&#1593;&#1588;&#1585;&#1575;&#1578; &#1605;&#1606; &#1571;&#1593;&#1590;&#1575;&#1569; &#1580;&#1605;&#1575;&#1593;&#1577; &#1575;&#1604;&#1573;&#1582;&#1608;&#1575;&#1606; &#1610;&#1607;&#1575;&#1580;&#1605;&#1608;&#1606; &#1575;&#1604;&#1605;&#1572;&#1578;&#1605;&#1585; &#1576;&#1575;&#1604;&#1591;&#1608;&#1576; &#1608;&#1575;&#1604;&#1586;&#1580;&#1575;&#1580;&#1575;&#1578; &#1575;&#1604;&#1601;&#1575;&#1585;&#1594;&#1577;&#1548; &#1608;&#1581;&#1575;&#1608;&#1604;&#1608;&#1575; &#1575;&#1604;&#1607;&#1585;&#1576;&#1548; &#1573;&#1604;&#1575; &#1571;&#1606; &#1602;&#1608;&#1575;&#1578; &#1575;&#1604;&#1588;&#1585;&#1591;&#1577; &#1578;&#1605;&#1603;&#1606;&#1578; &#1605;&#1606; &#1589;&#1583;&#1607;&#1605; &#1607;&#1580;&#1608;&#1605;&#1607;&#1605; &#1548; &#1608;&#1591;&#1575;&#1585;&#1583;&#1578;&#1607;&#1605; &#1608;&#1571;&#1604;&#1602;&#1578; &#1575;&#1604;&#1602;&#1576;&#1590; &#1593;&#1604;&#1609; 3 &#1605;&#1606;&#1607;&#1605;&#1548; &#1608;&#1578;&#1605; &#1578;&#1593;&#1586;&#1610;&#1586; &#1575;&#1604;&#1602;&#1608;&#1575;&#1578; &#1576;&#1578;&#1588;&#1603;&#1610;&#1604;&#1575;&#1578; &#1605;&#1606; &#1575;&#1604;&#1571;&#1605;&#1606; &#1575;&#1604;&#1605;&#1585;&#1603;&#1586;&#1609;&#1548; &#1608;&#1581;&#1615;&#1585;&#1585; &#1605;&#1581;&#1590;&#1585;&#1611;&#1575; &#1576;&#1575;&#1604;&#1608;&#1575;&#1602;&#1593;&#1577; &#1608;&#1571;&#1615;&#1581;&#1610;&#1604; &#1604;&#1604;&#1606;&#1610;&#1575;&#1576;&#1577; . </p>&#13;\n",
        "       &#13;\n",
        "        <div class=\"share\">&#13;\n",
        "          <!-- AddThis Button BEGIN -->&#13;\n",
        "               <div>&#13;\n",
        "                <ul class=\"social_btns\">&#13;\n",
        "                <li><a class=\"addthis_button_tweet\"/></li>&#13;\n",
        "                <li><a class=\"addthis_button_google_plusone\" g:plusone:size=\"medium\"/></li>&#13;\n",
        "                <li><a class=\"addthis_counter addthis_pill_style\"/></li>&#13;\n",
        "                <li><a class=\"addthis_button_facebook_like\" fb:like:layout=\"button_count\"/></li>&#13;\n",
        "                    </ul>&#13;\n",
        "                </div>               &#13;\n",
        "                <script type=\"text/javascript\" src=\"http://s7.addthis.com/js/250/addthis_widget.js#pubid=ra-4fe0971970cac661\"/> &#13;\n",
        "            <!-- AddThis Button END -->          &#13;\n",
        "            &#13;\n",
        "            <!-- Social media div by Shazly -->&#13;\n",
        "            &#13;\n",
        "        </div>&#13;\n",
        "               &#13;\n",
        "                    <div class=\"module_a_3\">&#13;\n",
        "                    </div>&#13;\n",
        "                <iframe src=\"http://files.elwatannews.com/ad/news/\" frameborder=\"0\" width=\"600\" height=\"150\" scrolling=\"no\"/>&#13;\n",
        "        <!--Comments -->&#13;\n",
        "        <div class=\"module_g_1\">&#13;\n",
        "&#13;\n",
        "<p class=\"module_title\">&#1575;&#1604;&#1578;&#1593;&#1604;&#1610;&#1602;&#1575;&#1578;<a class=\"CommPolicy\" target=\"_blank\" href=\"/Comment/CommentsRules\">&#1587;&#1610;&#1575;&#1587;&#1577; &#1575;&#1604;&#1578;&#1593;&#1604;&#1610;&#1602;&#1575;&#1578;</a></p>&#13;\n",
        "<div class=\"CommentsTabs\">&#13;\n",
        "   &#13;\n",
        "    <a id=\"btnElwatanComments\" href=\"#\" class=\"ComSite\"/>&#13;\n",
        "     <a id=\"btnFacebookComments\" href=\"#\" class=\"ComFBDim\"/>&#13;\n",
        "</div>&#13;\n",
        "&#13;\n",
        "<div id=\"divFacebookComments\" style=\"display: none;\">&#13;\n",
        "    <comments href=\"http://www.elwatannews.com/news/details/393669\" num_posts=\"5\" width=\"591\" style=\"margin-right:10px;\"/>&#13;\n",
        "</div>&#13;\n",
        "&#13;\n",
        "<div id=\"divElwatanComments\">&#13;\n",
        "&#13;\n",
        "    <div class=\"CommentsNoList\">&#1604;&#1575; &#1610;&#1608;&#1580;&#1583; &#1578;&#1593;&#1604;&#1610;&#1602;&#1575;&#1578;</div>&#13;\n",
        "&#13;\n",
        "    <div class=\"form_holder\">&#13;\n",
        "<script type=\"text/javascript\">&#13;\n",
        "    function isValidEmailAddress(emailAddress) {&#13;\n",
        "        var pattern = new RegExp(/^[+a-zA-Z0-9._-]+@[a-zA-Z0-9.-]+\\.[a-zA-Z]{2,4}$/i);&#13;\n",
        "        return pattern.test(emailAddress);&#13;\n",
        "    }&#13;\n",
        "&#13;\n",
        "    function addCommentByAjax(ParenttypeIDVal, ParentItemIDVal) &#13;\n",
        "    {&#13;\n",
        "        var userName = $(\"#txtUserName\").val();&#13;\n",
        "        var userEmail = $(\"#txtUserEmail\").val();&#13;\n",
        "        var userCommentTitle = $(\"#txtCommentTitle\").val();&#13;\n",
        "        var userCommentBody = $(\"#txtCommentBody\").val();&#13;\n",
        "        if (!$.trim($(\"#txtUserName\").val())) &#13;\n",
        "            {&#13;\n",
        "                $(\"#txtUserNameMessage\").text(\"&#1605;&#1606; &#1601;&#1590;&#1604;&#1603; &#1575;&#1583;&#1582;&#1604; &#1575;&#1604;&#1575;&#1587;&#1605;\");&#13;\n",
        "                return false;&#13;\n",
        "            }&#13;\n",
        "        else &#13;\n",
        "            {&#13;\n",
        "                $(\"p#txtUserNameMessage\").hide();&#13;\n",
        "            }&#13;\n",
        "&#13;\n",
        "        if (!$.trim($(\"#txtUserEmail\").val())) &#13;\n",
        "            {&#13;\n",
        "                $(\"#txtUserEmailMessage\").text(\"&#1605;&#1606; &#1601;&#1590;&#1604;&#1603; &#1575;&#1583;&#1582;&#1604; &#1575;&#1604;&#1575;&#1610;&#1605;&#1610;&#1604;\");&#13;\n",
        "                return false;&#13;\n",
        "            }&#13;\n",
        "         else &#13;\n",
        "            {&#13;\n",
        "                if (isValidEmailAddress($(\"#txtUserEmail\").val()) == false) &#13;\n",
        "                {&#13;\n",
        "                    $(\"#txtUserEmailMessage\").text(\"&#1605;&#1606; &#1601;&#1590;&#1604;&#1603; &#1575;&#1583;&#1582;&#1604; &#1575;&#1610;&#1605;&#1610;&#1604; &#1589;&#1581;&#1610;&#1581;\");&#13;\n",
        "                    return false;&#13;\n",
        "                }&#13;\n",
        "                else &#13;\n",
        "                {&#13;\n",
        "                    $(\"p#txtUserEmailMessage\").hide();&#13;\n",
        "                }&#13;\n",
        "            }&#13;\n",
        "&#13;\n",
        "        if (!$.trim($(\"#txtCommentBody\").val())) &#13;\n",
        "            {&#13;\n",
        "                $(\"#txtCommentBodyMessage\").text(\"&#1605;&#1606; &#1601;&#1590;&#1604;&#1603; &#1575;&#1583;&#1582;&#1604; &#1575;&#1604;&#1578;&#1593;&#1604;&#1610;&#1602;\");&#13;\n",
        "                return false;&#13;\n",
        "            }&#13;\n",
        "        else &#13;\n",
        "            {&#13;\n",
        "                $(\"p#txtCommentBodyMessage\").hide();&#13;\n",
        "            }&#13;\n",
        "        &#13;\n",
        "        //$('div#PostContainer').hide();&#13;\n",
        "        &#13;\n",
        "        $.post(\"/comment/addcomment\", { \"itemID\": ParentItemIDVal, \"itemType\": ParenttypeIDVal, \"userName\": userName, \"userEmail\": userEmail, \"commentBody\": userCommentBody },&#13;\n",
        "                    function (data) {&#13;\n",
        "                        $(\"#txtUserName\").val('');&#13;\n",
        "                        $(\"#txtUserEmail\").val('');&#13;\n",
        "                        $(\"#txtCommentBody\").val('');&#13;\n",
        "                        $(\"#notifyUser\").show();&#13;\n",
        "                        setTimeout(function () {&#13;\n",
        "                            $(\"#notifyUser\").fadeOut('slow');&#13;\n",
        "                        }, 2000);&#13;\n",
        "                    });&#13;\n",
        "      }&#13;\n",
        "</script>&#13;\n",
        "<form action=\"/news/details/393669\" method=\"post\">        <div class=\"Addcommenttit\">&#1575;&#1590;&#1601; &#1578;&#1593;&#1604;&#1610;&#1602;</div>&#13;\n",
        "    <div id=\"AddCommentContainer\">&#13;\n",
        "        <div id=\"PostContainer\">&#13;\n",
        "            <p>&#13;\n",
        "                <input type=\"text\" value=\"\" name=\"txtUserName\" id=\"txtUserName\" placeholder=\"&#1575;&#1604;&#1573;&#1587;&#1605;*\" required=\"required\"/>&#13;\n",
        "                </p><p id=\"txtUserNameMessage\" class=\"alert\"/>&#13;\n",
        "            &#13;\n",
        "            <p>&#13;\n",
        "                <input type=\"email\" value=\"\" name=\"txtUserEmail\" id=\"txtUserEmail\" placeholder=\"&#1575;&#1604;&#1576;&#1585;&#1610;&#1583; &#1575;&#1604;&#1573;&#1604;&#1603;&#1578;&#1585;&#1608;&#1606;&#1610;*\" required=\"required\"/>&#13;\n",
        "                </p><p id=\"txtUserEmailMessage\" class=\"alert\"/>&#13;\n",
        "            &#13;\n",
        "            &#13;\n",
        "            <p>&#13;\n",
        "                <textarea name=\"txtCommentBody\" id=\"txtCommentBody\" cols=\"\" rows=\"\" required=\"required\" placeholder=\"&#1606;&#1589; &#1575;&#1604;&#1578;&#1593;&#1604;&#1610;&#1602;*\"/>&#13;\n",
        "                    </p><p id=\"txtCommentBodyMessage\" class=\"alert\"/>&#13;\n",
        "            &#13;\n",
        "            <div id=\"notifyUser\" class=\"CommentsNoList\" style=\"display: none\">&#13;\n",
        "                &#1578;&#1605; &#1573;&#1590;&#1575;&#1601;&#1577; &#1578;&#1593;&#1604;&#1610;&#1602;&#1603; &#1576;&#1606;&#1580;&#1575;&#1581; &#1608;&#1587;&#1610;&#1578;&#1605; &#1605;&#1585;&#1575;&#1580;&#1593;&#1578;&#1577; &#1576;&#1608;&#1575;&#1587;&#1591;&#1577; &#1573;&#1583;&#1575;&#1585;&#1577; &#1575;&#1604;&#1605;&#1608;&#1602;&#1593;&#13;\n",
        "            </div>&#13;\n",
        "            <div class=\"btns_holder\">&#13;\n",
        "                <input type=\"button\" id=\"\" class=\"btn_1\" value=\"&#1571;&#1590;&#1601; &#1578;&#1593;&#1604;&#1610;&#1602;\" onclick=\"addCommentByAjax(1,393669)\"/>&#13;\n",
        "            </div>&#13;\n",
        "        </div>&#13;\n",
        "    </div>&#13;\n",
        "</form>    </div>&#13;\n",
        "</div>&#13;\n",
        "&#13;\n",
        "<!--Facebook Initialization code has been moved to _Header View -->        </div>&#13;\n",
        "    </div>&#13;\n",
        "    \n",
        "ca's processed children\n",
        "processed_child <Element h1 at 0x7ff5a88bce60>\n",
        "<h1 class=\"article_title\">&#1575;&#1604;&#1602;&#1576;&#1590; &#1593;&#1604;&#1609; 3 &#1573;&#1582;&#1608;&#1575;&#1606; &#1607;&#1575;&#1580;&#1605;&#1608;&#1575; &#1605;&#1572;&#1578;&#1605;&#1585;&#1611;&#1575; &#1604;&#1583;&#1593;&#1605; &#1575;&#1604;&#1583;&#1587;&#1578;&#1608;&#1585; &#1576;&#1575;&#1604;&#1581;&#1608;&#1575;&#1605;&#1583;&#1610;&#1577; </h1>&#13;\n",
        "            \n",
        "start True\n",
        "outer loop: <Element span at 0x7ff5a19e94b0> \n",
        "<span class=\"SubTitle\"/>&#13;\n",
        "            \n",
        "inner loop\n",
        "<Element span at 0x7ff5a19e94b0>\n",
        "<span class=\"SubTitle\"/>&#13;\n",
        "            \n",
        "inner loop\n",
        "<Element div at 0x7ff5a19e9910>\n",
        "<div align=\"info\">&#13;\n",
        "                    <span class=\"atr_1\">&#1603;&#1578;&#1576; : &#1605;&#1581;&#1605;&#1608;&#1583; &#1575;&#1604;&#1580;&#1575;&#1585;&#1581;&#1609; &#1608;&#1580;&#1610;&#1607;&#1575;&#1606; &#1593;&#1576;&#1583; &#1575;&#1604;&#1593;&#1586;&#1610;&#1586;</span>&#13;\n",
        "                <span class=\"atr_2\">&#1605;&#1606;&#1584; 22 &#1583;&#1602;&#1610;&#1602;&#1577;</span>&#13;\n",
        "            </div>&#13;\n",
        "        \n",
        "end inner loop\n",
        "<Element div at 0x7ff5a88bcdc0>\n",
        "<div class=\"social\">&#13;\n",
        "           <a href=\"javascript:window.print()\" class=\"print_btn\"> &#1591;&#1576;&#1575;&#1593;&#1577;</a>&#13;\n",
        "         &#13;\n",
        "            <!-- AddThis Button BEGIN -->&#13;\n",
        "              <div>&#13;\n",
        "                <ul class=\"social_btns\">&#13;\n",
        "                <li><a class=\"addthis_button_tweet\"/></li>&#13;\n",
        "                <li><a class=\"addthis_button_google_plusone\" g:plusone:size=\"medium\"/></li>&#13;\n",
        "                <li><a class=\"addthis_counter addthis_pill_style\"/></li>&#13;\n",
        "                <li><a class=\"addthis_button_facebook_like\" fb:like:layout=\"button_count\"/></li>&#13;\n",
        "               </ul>&#13;\n",
        "                </div>               &#13;\n",
        "                <script type=\"text/javascript\" src=\"http://s7.addthis.com/js/250/addthis_widget.js#pubid=ra-4fe0971970cac661\"/> &#13;\n",
        "            <!-- AddThis Button END -->            &#13;\n",
        "            &#13;\n",
        "              &#13;\n",
        "        </div>&#13;\n",
        "        \n",
        "outer loop: <Element a at 0x7ff5a19e9960> \n",
        "<a href=\"javascript:window.print()\" class=\"print_btn\"> &#1591;&#1576;&#1575;&#1593;&#1577;</a>&#13;\n",
        "         &#13;\n",
        "            \n",
        "inner loop\n",
        "<Element a at 0x7ff5a19e9960>\n",
        "<a href=\"javascript:window.print()\" class=\"print_btn\"> &#1591;&#1576;&#1575;&#1593;&#1577;</a>&#13;\n",
        "         &#13;\n",
        "            \n",
        "inner loop\n",
        "<!-- AddThis Button BEGIN -->\n",
        "<!-- AddThis Button BEGIN -->&#13;\n",
        "              \n",
        "inner loop\n",
        "<Element div at 0x7ff5a19e9500>\n",
        "<div>&#13;\n",
        "                <ul class=\"social_btns\">&#13;\n",
        "                <li><a class=\"addthis_button_tweet\"/></li>&#13;\n",
        "                <li><a class=\"addthis_button_google_plusone\" g:plusone:size=\"medium\"/></li>&#13;\n",
        "                <li><a class=\"addthis_counter addthis_pill_style\"/></li>&#13;\n",
        "                <li><a class=\"addthis_button_facebook_like\" fb:like:layout=\"button_count\"/></li>&#13;\n",
        "               </ul>&#13;\n",
        "                </div>               &#13;\n",
        "                \n",
        "inner loop\n",
        "<Element script at 0x7ff5a19e9aa0>\n",
        "<script type=\"text/javascript\" src=\"http://s7.addthis.com/js/250/addthis_widget.js#pubid=ra-4fe0971970cac661\"/> &#13;\n",
        "            \n",
        "inner loop\n",
        "<!-- AddThis Button END -->\n",
        "<!-- AddThis Button END -->            &#13;\n",
        "            &#13;\n",
        "              &#13;\n",
        "        \n"
       ]
      }
     ],
     "prompt_number": 50
    },
    {
     "cell_type": "code",
     "collapsed": false,
     "input": [
      "import sqlite3\n",
      "\n",
      "db = sqlite3.connect('extractor_train_dbs/dev_2014-11-03T09_06_11-0500.db')\n",
      "db.row_factory = sqlite3.Row\n",
      "\n",
      "cursor = db.cursor()\n",
      "\n",
      "cursor.execute( \"SELECT * from dlannotations where downloads_id =  582817308\" )\n",
      "\n",
      "row = cursor.fetchone()\n",
      "print row\n",
      "d = dict([ (k, row[k]) for k in row.keys() ])\n",
      "d.keys()\n",
      "d['annotations_json']\n",
      "annotations = json.loads( d['annotations_json']  )\n",
      "annotations\n",
      "raw_content == d['raw_content']\n",
      "#get_annotated_text( d['raw_content'], annotations[1] )\n"
     ],
     "language": "python",
     "metadata": {},
     "outputs": [
      {
       "output_type": "stream",
       "stream": "stdout",
       "text": [
        "<sqlite3.Row object at 0x7ff5ba9d8eb0>\n"
       ]
      },
      {
       "metadata": {},
       "output_type": "pyout",
       "prompt_number": 20,
       "text": [
        "False"
       ]
      }
     ],
     "prompt_number": 20
    },
    {
     "cell_type": "code",
     "collapsed": false,
     "input": [
      "#print 'end el'\n",
      "#print el\n",
      "#print etree.tostring( el )\n",
      "\n",
      "\n",
      "#print start_anncestors\n",
      "#print end_anncestors\n",
      "\n",
      "#commonanncestors = list([ s for s in start_anncestors if s in end_anncestors ] )\n",
      "#commonanncestor = commonanncestors[0]\n",
      "\n",
      "#commonanncestor\n",
      "\n",
      "#print commonanncestor\n",
      "#print 'full dump'\n",
      "\n",
      "#print etree.tostring( commonanncestor )\n",
      "#parent = start_container.getparent()\n",
      "\n",
      "#parent.getnext()\n",
      "\n",
      "#parent.getnext().index( parent )\n",
      "#list(parent.itertext() )\n",
      "#list(parent)\n",
      "#.index( start_container )\n",
      "\n",
      "#root.xpath( '/html[1]/body[1]/div[2]/div[4]/div[1]/div[3]/div[1]/h1[1]/text()[1]'   )\n",
      "#root.xpath( '/html[1]/body[1]/div[2]/div[4]/div[1]/div[3]/div[1]/div[1]/p[1]/span[1]/text()[1]' )\n",
      "#res = root.xpath( '/html[1]/body[1]/div[2]/div[4]/div[1]/div[3]/div[1]/div[1]/p[1]/span[3]/text()[1]' )\n",
      "#res = root.xpath( '/html[1]/body[1]/div[2]/div[4]/div[1]/div[3]/div[1]/span[1]/span[2]/p[1]/text()[1]' )\n",
      "#res = root.xpath( '/html[1]/body[1]/div[2]/div[4]/div[1]/div[3]/div[1]/span[1]/p[15]/text()[2]' )\n",
      "#len ( res[0] )\n",
      "#res"
     ],
     "language": "python",
     "metadata": {},
     "outputs": [],
     "prompt_number": 21
    },
    {
     "cell_type": "code",
     "collapsed": false,
     "input": [
      "import difflib\n",
      "from IPython.display import HTML\n",
      "\n",
      "from collections import Counter\n",
      "\n",
      "def ratcliff_obershelp_compare( actual_lines, expected_lines ):\n",
      "    \n",
      "    words_expected = lines_to_comparable_text(expected_lines ).split()\n",
      "    words_crf      = lines_to_comparable_text(actual_lines ).split()\n",
      "    \n",
      "    differ = difflib.Differ( )\n",
      "    \n",
      "    #print words_crf[:10]\n",
      "    #print words_expected[:10]\n",
      "    list( differ.compare( words_crf , words_expected ) )\n",
      "    counts = Counter([ d[0] for d in differ.compare( words_expected, words_crf   ) ])\n",
      "    \n",
      "    tp = counts[' ']\n",
      "    fp = counts['+']\n",
      "    fn = counts['-']\n",
      "    \n",
      "    if float(tp+fp) == 0:\n",
      "        precision = 0.0\n",
      "    else:\n",
      "        precision = tp/float(tp+fp)\n",
      "        \n",
      "    if float( tp + fn ) == 0:\n",
      "        recall = 0\n",
      "    else:\n",
      "        recall    = tp/float( tp + fn )\n",
      "    \n",
      "    if ( precision + recall ) > 0:\n",
      "        f1 = 2*(precision*recall)/( precision + recall )\n",
      "    else:\n",
      "        f1 = 0\n",
      "    \n",
      "    ret = { 'precision': precision,\n",
      "        'recall': recall,\n",
      "        'f1': f1\n",
      "    }\n",
      "    \n",
      "    return ret\n",
      "\n",
      "#ratcliff_obershelp_compare( words_crf, words_expected )"
     ],
     "language": "python",
     "metadata": {},
     "outputs": [],
     "prompt_number": 21
    },
    {
     "cell_type": "code",
     "collapsed": false,
     "input": [
      "#downloads_id\n",
      "#story\n",
      "#raw_content\n",
      "#expected_lines\n",
      "#preprocessed_lines\n",
      "\n",
      "def create_extractor_training_object( downloads_id, expected_lines=None ):\n",
      "    download = get_download( downloads_id )\n",
      "    \n",
      "    raw_content = download[u'raw_content']\n",
      "    stories_id = download[u'stories_id']\n",
      "    \n",
      "    print download['url']\n",
      "    \n",
      "    story = requests.get('https://api.mediacloud.org/api/v2/stories/single/'+str(stories_id)+'?key='+api_key)\n",
      "    \n",
      "    story = story.json()[0]\n",
      "    \n",
      "    story_lines = get_story_lines( raw_content )\n",
      "    #print story_lines.content\n",
      "    preprocessed_lines = story_lines.json()\n",
      "    \n",
      "    if not expected_lines:\n",
      "        expected_lines = get_extractor_training_text( downloads_id, preprocessed_lines  )\n",
      "\n",
      "    ret = { 'downloads_id': downloads_id,\n",
      "           'raw_content': raw_content,\n",
      "           'story': story,\n",
      "           'preprocessed_lines': preprocessed_lines,\n",
      "           'expected_lines': expected_lines\n",
      "           }\n",
      "    \n",
      "    return ret"
     ],
     "language": "python",
     "metadata": {},
     "outputs": [],
     "prompt_number": 22
    },
    {
     "cell_type": "code",
     "collapsed": false,
     "input": [
      "def compare_extractors_for_download( downloads_id ):\n",
      "    \n",
      "    eto = create_extractor_training_object( downloads_id )\n",
      "    \n",
      "    return comp_extractors( eto )\n",
      "\n",
      "    download = get_download( downloads_id )\n",
      "    \n",
      "    raw_content = download[u'raw_content']\n",
      "    stories_id = download[u'stories_id']\n",
      "     \n",
      "    story = requests.get('https://api.mediacloud.org/api/v2/stories/single/'+str(stories_id)+'?key='+api_key)\n",
      "    \n",
      "    story = story.json()[0]\n",
      "    \n",
      "    story_lines = get_story_lines( raw_content )\n",
      "    #print story_lines.content\n",
      "    preprocessed_lines = story_lines.json()\n",
      "    \n",
      "    expected_lines = get_extractor_training_text( downloads_id, preprocessed_lines  )\n",
      "    \n",
      "    \n",
      "    \n",
      "def comp_extractors( eto ):    \n",
      "    downloads_id = eto['downloads_id']\n",
      "    story = eto['story']\n",
      "    raw_content = eto['raw_content']\n",
      "    preprocessed_lines = eto['preprocessed_lines']\n",
      "    expected_lines = eto['expected_lines']\n",
      "        \n",
      "    title = story[u'title']\n",
      "    description = story[u'description']\n",
      "    url = story[u'url']\n",
      "    \n",
      "    heur_extract = extract_story( preprocessed_lines, title, description, 'HeuristicExtractor')\n",
      "    crf_extract = extract_story( preprocessed_lines, title, description, 'CrfExtractor')\n",
      "    \n",
      "    heur_lines = get_extracted_text( heur_extract )\n",
      "    crf_lines  = get_extracted_text( crf_extract )\n",
      "    \n",
      "    python_readability_lines = extract_with_python_readability( raw_content )\n",
      "    \n",
      "    py_goose_lines = extract_with_python_goose( raw_content )\n",
      "    justext_lines  = extract_with_justext( raw_content )\n",
      "    global glob_expected_lines\n",
      "    global glob_crf_lines\n",
      "    glob_expected_lines = expected_lines\n",
      "    glob_crf_lines      = crf_lines\n",
      "    \n",
      "    #tree = html.fromstring( extract_with_boilerpipe( raw_content) )   \n",
      "    #spans = tree.xpath('//span[@class=\"x-boilerpipe-mark1\"]')\n",
      "    #boiler_pipe_lines = [ s.text for s in spans ]\n",
      "\n",
      "    #print \"expected_lines:\"\n",
      "    #print lines_to_comparable_text(expected_lines)\n",
      "    \n",
      "    #print \"boilerpipe lines\"\n",
      "    #print lines_to_comparable_text(boiler_pipe_lines)\n",
      "    \n",
      "    comp_results = {}\n",
      "    comp_results['heur'] = ratcliff_obershelp_compare( heur_lines, expected_lines )\n",
      "    comp_results['crf']  = ratcliff_obershelp_compare( crf_lines, expected_lines )\n",
      "    #comp_results['boiler_pipe'] = ratcliff_obershelp_compare( boiler_pipe_lines, expected_lines )\n",
      "    comp_results['python_readibilty'] = ratcliff_obershelp_compare( python_readability_lines, expected_lines )\n",
      "    comp_results['py_goose'] = ratcliff_obershelp_compare( py_goose_lines, expected_lines )\n",
      "    comp_results['justext']  = ratcliff_obershelp_compare( justext_lines, expected_lines )\n",
      "    \n",
      "    comp_results['downloads_id'] = downloads_id\n",
      "    \n",
      "    #comp_results['expected']    = compare_accuracy( expected_lines, expected_lines )\n",
      "    return comp_results"
     ],
     "language": "python",
     "metadata": {},
     "outputs": [],
     "prompt_number": 23
    },
    {
     "cell_type": "code",
     "collapsed": false,
     "input": [
      "#comps_expected = comps"
     ],
     "language": "python",
     "metadata": {},
     "outputs": [],
     "prompt_number": 25
    },
    {
     "cell_type": "code",
     "collapsed": false,
     "input": [
      "downloads_id = 416655019\n",
      "downloads_ids = [391881020,401370599,412896439,412952145,412977048,413024519,413657081,413835576,414040102,414257623,\n",
      "                 414377428,414480464,414818749,414983458,415185946,415186582,415197547,415424551,415978069,416026460,\n",
      "                 416026587,416047494,416047513,416210404,416263840,416306952,416426245,416655019,416730837,416802690,\n",
      "                 417347290,417347524,417368539,417389613,417477837,417653177,418489742,418544762,418574641,418648698,\n",
      "                 418661859,419404469,419440474,419483895,419873979,420430754,420599387,420666122,421520860,421834553,\n",
      "                 422181106,422280595,422910963,423318170,424080271,424369085,424796346,424840366,425206279,426405203,\n",
      "                 426560018,426632784,426709900,428449440,429607289,430363249,430995428,433457459,435624796,435659593,461175103,461175549,461176415,461176844,461177487,461178557,461178590,461179203,461179222,461179441,461179762,461179818,461179954,461179956,461180307,461181039,461181597,461186137,461186258,461186833,461187188,461187261,461187577,461188549,461189069,461190586,461193383]\n",
      "\n",
      "print len( downloads_ids )\n",
      "\n",
      "comps = []\n",
      "\n",
      "extractor_training_objects = []\n",
      "for downloads_id in downloads_ids[:10]:\n",
      "    print 'downloads_id:', downloads_id\n",
      "    extractor_training_objects.append( create_extractor_training_object( downloads_id ) )"
     ],
     "language": "python",
     "metadata": {},
     "outputs": [
      {
       "output_type": "stream",
       "stream": "stdout",
       "text": [
        "97\n",
        "downloads_id: 391881020\n",
        "[30, 31]"
       ]
      },
      {
       "output_type": "stream",
       "stream": "stdout",
       "text": [
        "\n",
        "downloads_id: 401370599\n",
        "[202, 205, 212, 213]"
       ]
      },
      {
       "output_type": "stream",
       "stream": "stdout",
       "text": [
        "\n",
        "downloads_id: 412896439\n",
        "[265, 266, 267, 279, 281, 283, 285, 287, 289, 291, 293, 303, 305, 307, 309, 311, 313, 315, 702]"
       ]
      },
      {
       "output_type": "stream",
       "stream": "stdout",
       "text": [
        "\n",
        "downloads_id: 412952145\n",
        "[415, 422, 436, 440, 444, 448, 449, 450, 451, 455, 459]"
       ]
      },
      {
       "output_type": "stream",
       "stream": "stdout",
       "text": [
        "\n",
        "downloads_id: 412977048\n",
        "[471, 474, 505, 507]"
       ]
      },
      {
       "output_type": "stream",
       "stream": "stdout",
       "text": [
        "\n",
        "downloads_id: 413024519\n",
        "[606, 607, 608, 692, 694, 695, 696, 697]"
       ]
      },
      {
       "output_type": "stream",
       "stream": "stdout",
       "text": [
        "\n",
        "downloads_id: 413657081\n",
        "[597, 608, 613, 616, 624, 627, 630, 640, 644, 647, 650, 653, 656, 659, 662, 665]"
       ]
      },
      {
       "output_type": "stream",
       "stream": "stdout",
       "text": [
        "\n",
        "downloads_id: 413835576\n",
        "[283, 284, 304, 305, 306]"
       ]
      },
      {
       "output_type": "stream",
       "stream": "stdout",
       "text": [
        "\n",
        "downloads_id: 414040102\n",
        "[3270, 3273, 3377, 3439, 3444, 3448, 3450, 3452, 3454, 3456, 3458, 3460, 3462, 3464, 3465, 3467]"
       ]
      },
      {
       "output_type": "stream",
       "stream": "stdout",
       "text": [
        "\n",
        "downloads_id: 414257623\n",
        "[566, 569, 579, 580, 581, 582, 583, 584, 585, 586, 587, 588]"
       ]
      },
      {
       "output_type": "stream",
       "stream": "stdout",
       "text": [
        "\n"
       ]
      }
     ],
     "prompt_number": 71
    },
    {
     "cell_type": "code",
     "collapsed": false,
     "input": [
      "for extractor_training_object in extractor_training_objects:\n",
      "    res = comp_extractors( extractor_training_object )\n",
      "    #print res\n",
      "    comps.append( res )\n",
      "    \n",
      "\n",
      "#print 'Comps_expteced', comps_expected\n",
      "#print 'comps', comps\n",
      "#comps == comps_expected"
     ],
     "language": "python",
     "metadata": {},
     "outputs": [
      {
       "output_type": "stream",
       "stream": "stdout",
       "text": [
        "[513, 606, 607, 608, 609, 616, 617, 618, 619, 620, 621, 622, 629, 630, 631, 632]\n",
        "[577]\n",
        "original article tmp file "
       ]
      },
      {
       "output_type": "stream",
       "stream": "stdout",
       "text": [
        " /tmp/tmpMOST9p.html\n",
        "/tmp/tmp49WYKv.html\n",
        "/tmp/tmpMOST9p.html\n",
        "/tmp/tmpMOST9p.html\n",
        "Now open file:///tmp/tmp49WYKv.html in your web browser\n"
       ]
      },
      {
       "output_type": "stream",
       "stream": "stdout",
       "text": [
        "\n",
        "[501, 610, 611, 613, 614, 615]"
       ]
      },
      {
       "output_type": "stream",
       "stream": "stdout",
       "text": [
        "\n",
        "[563, 610, 611, 613, 614, 615, 617, 618]\n",
        "original article tmp file "
       ]
      },
      {
       "output_type": "stream",
       "stream": "stdout",
       "text": [
        " /tmp/tmpEB9b7u.html\n",
        "/tmp/tmpckfQ5c.html\n",
        "/tmp/tmpEB9b7u.html\n",
        "/tmp/tmpEB9b7u.html\n",
        "Now open file:///tmp/tmpckfQ5c.html in your web browser\n"
       ]
      },
      {
       "output_type": "stream",
       "stream": "stdout",
       "text": [
        "\n",
        "[302, 324, 328, 332, 336, 344, 348, 352, 356, 410, 469]"
       ]
      },
      {
       "output_type": "stream",
       "stream": "stdout",
       "text": [
        "\n",
        "[302, 321, 324, 328, 332, 336, 340, 344, 348, 352, 356, 360]\n",
        "original article tmp file "
       ]
      },
      {
       "output_type": "stream",
       "stream": "stdout",
       "text": [
        " /tmp/tmp5Vok6c.html\n",
        "/tmp/tmprzaVe_.html\n",
        "/tmp/tmp5Vok6c.html\n",
        "/tmp/tmp5Vok6c.html\n",
        "Now open file:///tmp/tmprzaVe_.html in your web browser\n"
       ]
      },
      {
       "output_type": "stream",
       "stream": "stdout",
       "text": [
        "\n",
        "[1166, 1264]"
       ]
      },
      {
       "output_type": "stream",
       "stream": "stdout",
       "text": [
        "\n",
        "[418, 1161, 1166, 1264]\n",
        "original article tmp file "
       ]
      },
      {
       "output_type": "stream",
       "stream": "stdout",
       "text": [
        " /tmp/tmpcvIiS_.html\n",
        "/tmp/tmpeiI_ab.html\n",
        "/tmp/tmpcvIiS_.html\n",
        "/tmp/tmpcvIiS_.html\n",
        "Now open file:///tmp/tmpeiI_ab.html in your web browser\n"
       ]
      },
      {
       "output_type": "stream",
       "stream": "stdout",
       "text": [
        "\n",
        "[699, 733, 734, 735, 736, 737, 738, 821, 907, 1019, 1034, 1049, 1064, 1137, 1143, 1149, 1155, 1161, 1167, 1173, 1179, 1185, 1191]"
       ]
      },
      {
       "output_type": "stream",
       "stream": "stdout",
       "text": [
        "\n",
        "[733, 734, 735, 736, 737, 738]\n",
        "original article tmp file "
       ]
      },
      {
       "output_type": "stream",
       "stream": "stdout",
       "text": [
        " /tmp/tmp1sLuyO.html\n",
        "/tmp/tmpAMCIJ8.html\n",
        "/tmp/tmp1sLuyO.html\n",
        "/tmp/tmp1sLuyO.html\n",
        "Now open file:///tmp/tmpAMCIJ8.html in your web browser\n"
       ]
      },
      {
       "output_type": "stream",
       "stream": "stdout",
       "text": [
        "\n",
        "[819, 867, 868, 869, 870, 871, 1483, 1485, 1495, 1507, 1519, 1531, 1543, 1555, 1557, 1567, 1579, 1591, 1606, 1618, 1630, 1650, 1652, 1662, 1674, 1686, 1700, 1712, 1724, 1726, 1739, 1741, 1751, 1753, 1765, 1777, 1779, 1789, 1801, 1813, 1825, 1848, 1860, 1872, 1884, 1904, 1916, 1928, 1930, 1940, 1952, 1964, 1976, 1978, 1988, 1990, 2000, 2012, 2024, 2026, 2036, 2048, 2060, 2072, 2084, 2096, 2108, 2120, 2143, 2145, 2163, 2179, 2192, 2194, 2208, 2224, 2236, 2238, 2248, 2250, 2264, 2278, 2290, 2292, 2302, 2304, 2314, 2335, 2347, 2359, 2371, 2373, 2383, 2395, 2409, 2421, 2433, 2445, 2447, 2457, 2459, 2469, 2481, 2493, 2505, 2517, 2519, 2529, 2541, 2553, 2565, 2577, 2589, 2601, 2613, 2625, 2637, 2639, 2649, 2661, 2673, 2685, 2697, 2709, 2729, 2741, 2743, 2753, 2765, 2777, 2779, 2789, 2801, 2822, 2834, 2846, 2858, 2870, 2882, 2894, 2906, 2918, 2930, 2932, 2942, 2954, 2966, 2986, 2998, 3010, 3022, 3034, 3036, 3046, 3058, 3070, 3082, 3094, 3106, 3108, 3118, 3130, 3142, 3154, 3166, 3212, 3214, 3224, 3226, 3236, 3248, 3260, 3272, 3284, 3286, 3296, 3308, 3310, 3320, 3322, 3332, 3344, 3356, 3358, 3368, 3380, 3392, 3394, 3404, 3406, 3416, 3436, 3448, 3460, 3462, 3472, 3474, 3484, 3496, 3508, 3520, 3522, 3532, 3544, 3546, 3556, 3568, 3580, 3592, 3604, 3616, 3618, 3628, 3640, 3652, 3664, 3676, 3688, 3700, 3712, 3714, 3724, 3726, 3736, 3748, 3760, 3772, 3784, 3786, 3796, 3808, 3810, 3820, 3832, 3844, 3856, 3868, 3870, 3880, 3892, 3904, 3906, 3916, 3928, 3930, 3940, 3942, 3952, 3964, 3976, 3978, 3988, 4000, 4012, 4024, 4036, 4048, 4060, 4072, 4074, 4084, 4096, 4108, 4120, 4132, 4144, 4146, 4156, 4158, 4168, 4170, 4180, 4192, 4204, 4216, 4228, 4240, 4252, 4254, 4264, 4266, 4276, 4288, 4300, 4302, 4312, 4324, 4336, 4338, 4348, 4350, 4360, 4372, 4384, 4386, 4396, 4408, 4420, 4432, 4444, 4456, 4468, 4480, 4492, 4504, 4516, 4528, 4530, 4540, 4552, 4573, 4585, 4597, 4609, 4621, 4633, 4635, 4645, 4657, 4669, 4681, 4683, 4693, 4695, 4705, 4717, 4729, 4741, 4743, 4753, 4755, 4765, 4777, 4779, 4789, 4791, 4801, 4813, 4815, 4825, 4837, 4849, 4861, 4873, 4885, 4897, 4909, 4921, 4933, 4945, 4957, 4969, 4981, 5213, 5219, 5225, 5231, 5237, 5243, 5249, 5255, 5261, 5267, 5273, 5279, 5285, 5291, 5297, 5303, 5309, 5315, 5321, 5327, 5333, 5339, 5345, 5351, 5357, 5363, 5369, 5375, 5381, 5505, 5554, 5773, 5774]"
       ]
      },
      {
       "output_type": "stream",
       "stream": "stdout",
       "text": [
        "\n",
        "[648, 654, 660, 666, 672, 677, 682, 687, 689, 694, 698, 704, 710, 716, 722, 728, 734, 740, 746, 752, 758, 764, 770, 776, 782, 788, 794, 819, 820, 822, 823, 863, 866, 867, 868, 869, 870, 871, 2421, 2423, 2433, 2435, 2445, 2447, 2457, 2459, 2469, 2471, 2481, 2483, 2493, 2505, 2507, 2517, 2519, 2529, 2531, 2541, 2553, 2555, 2565, 2567, 2577, 2579, 2589, 2591, 2601, 2603, 2613, 2615, 2625, 2627, 2637, 2639, 2649, 2651, 2661, 2663, 2673, 2675, 2685, 2697, 2709, 2711, 2717, 2729, 2731, 2741, 2743, 2753, 2765, 2767, 2777, 2779, 2789, 2791, 2801, 2809, 2822, 2834, 2836, 2846, 2848, 2858, 2860, 2870, 2882, 2884, 2894, 2906, 2908, 2918, 2920, 2930, 2932, 2942, 2954, 2966, 2968, 2974, 2986, 2988, 2998, 3000, 3010, 3012, 3022, 3024, 3034, 3036, 3046, 3058, 3060, 3070, 3072, 3082, 3084, 3094, 3106, 3108, 3118, 3120, 3130, 3142, 3144, 3154, 3156, 3166, 3168, 3204, 3212, 3214, 3224, 3226, 3236, 3248, 3260, 3272, 3284, 3286, 3296, 3298, 3308, 3310, 3320, 3322, 3332, 3344, 3356, 3358, 3368, 3380, 3382, 3392, 3394, 3404, 3406, 3416, 3424, 3436, 3438, 3448, 3450, 3460, 3462, 3472, 3474, 3484, 3486, 3496, 3498, 3508, 3520, 3522, 3532, 3534, 3544, 3546, 3556, 3568, 3570, 3580, 3592, 3594, 3604, 3616, 3618, 3628, 3640, 3642, 3652, 3654, 3664, 3666, 3676, 3688, 3700, 3702, 3712, 3714, 3724, 3726, 3736, 3738, 3748, 3750, 3760, 3772, 3774, 3784, 3786, 3796, 3808, 3810, 3820, 3832, 3844, 3856, 3858, 3868, 3870, 3880, 3892, 3904, 3906, 3916, 3928, 3930, 3940, 3942, 3952, 3954, 3964, 3966, 3976, 3978, 3988, 3990, 4000, 4002, 4012, 4014, 4024, 4026, 4036, 4048, 4060, 4062, 4072, 4074, 4084, 4096, 4098, 4108, 4120, 4132, 4134, 4144, 4146, 4156, 4158, 4168, 4170, 4180, 4192, 4194, 4204, 4206, 4216, 4218, 4228, 4240, 4242, 4252, 4254, 4264, 4266, 4276, 4278, 4288, 4290, 4300, 4302, 4312, 4314, 4324, 4336, 4338, 4348, 4350, 4360, 4372, 4374, 4384, 4386, 4396, 4408, 4410, 4420, 4422, 4432, 4444, 4456, 4458, 4468, 4470, 4480, 4492, 4504, 4516, 4528, 4530, 4540, 4542, 4552, 4554, 4560, 4573, 4575, 4585, 4587, 4597, 4609, 4621, 4633, 4635, 4645, 4647, 4657, 4659, 4669, 4671, 4681, 4683, 4693, 4695, 4705, 4707, 4717, 4719, 4729, 4741, 4743, 4753, 4755, 4765, 4777, 4779, 4789, 4791, 4801, 4803, 4813, 4815, 4825, 4827, 4837, 4839, 4849, 4851, 4861, 4863, 4873, 4885, 4887, 4897, 4899, 4909, 4921, 4923, 4933, 4935, 4945, 4947, 4957, 4969, 4981, 5107, 5113, 5119, 5125, 5131, 5137, 5143, 5149, 5155, 5161, 5167, 5173, 5179, 5185, 5191, 5197, 5203, 5213, 5219, 5225, 5231, 5237, 5243, 5249, 5255, 5261, 5267, 5273, 5279, 5285, 5291, 5297, 5303, 5309, 5315, 5321, 5327, 5333, 5339, 5345, 5351, 5357, 5363, 5369, 5375, 5381]\n",
        "original article tmp file "
       ]
      },
      {
       "output_type": "stream",
       "stream": "stdout",
       "text": [
        " /tmp/tmpCcsGl_.html\n",
        "/tmp/tmpEuSCZ6.html\n",
        "/tmp/tmpCcsGl_.html\n",
        "/tmp/tmpCcsGl_.html\n",
        "Now open file:///tmp/tmpEuSCZ6.html in your web browser\n"
       ]
      },
      {
       "output_type": "stream",
       "stream": "stdout",
       "text": [
        "\n",
        "[322, 326, 328, 330, 332, 443]"
       ]
      },
      {
       "output_type": "stream",
       "stream": "stdout",
       "text": [
        "\n",
        "[]\n",
        "original article tmp file "
       ]
      },
      {
       "output_type": "stream",
       "stream": "stdout",
       "text": [
        " /tmp/tmprfROWD.html\n",
        "/tmp/tmpPqfOyB.html\n",
        "/tmp/tmprfROWD.html\n",
        "/tmp/tmprfROWD.html\n",
        "Now open file:///tmp/tmpPqfOyB.html in your web browser\n"
       ]
      },
      {
       "output_type": "stream",
       "stream": "stdout",
       "text": [
        "\n",
        "[]"
       ]
      },
      {
       "output_type": "stream",
       "stream": "stdout",
       "text": [
        "\n",
        "[0]\n",
        "original article tmp file "
       ]
      },
      {
       "output_type": "stream",
       "stream": "stdout",
       "text": [
        " /tmp/tmpcfOHXO.html\n",
        "/tmp/tmpv7ImTX.html\n",
        "/tmp/tmpcfOHXO.html\n",
        "/tmp/tmpcfOHXO.html\n",
        "Now open file:///tmp/tmpv7ImTX.html in your web browser\n"
       ]
      },
      {
       "output_type": "stream",
       "stream": "stdout",
       "text": [
        "\n",
        "Unexpected error on string '\"'"
       ]
      },
      {
       "output_type": "stream",
       "stream": "stdout",
       "text": [
        " <type 'exceptions.KeyboardInterrupt'>\n",
        "[131, 159]"
       ]
      },
      {
       "output_type": "stream",
       "stream": "stdout",
       "text": [
        "\n",
        "[131, 159]\n",
        "original article tmp file "
       ]
      },
      {
       "output_type": "stream",
       "stream": "stdout",
       "text": [
        " /tmp/tmp5Nqg0m.html\n",
        "/tmp/tmplrPGiy.html\n",
        "/tmp/tmp5Nqg0m.html\n",
        "/tmp/tmp5Nqg0m.html\n",
        "Now open file:///tmp/tmplrPGiy.html in your web browser\n"
       ]
      },
      {
       "output_type": "stream",
       "stream": "stdout",
       "text": [
        "\n",
        "[635, 636]"
       ]
      },
      {
       "output_type": "stream",
       "stream": "stdout",
       "text": [
        "\n",
        "[]\n",
        "original article tmp file "
       ]
      },
      {
       "output_type": "stream",
       "stream": "stdout",
       "text": [
        " /tmp/tmp5mZWDV.html\n",
        "/tmp/tmpWbdf3o.html\n",
        "/tmp/tmp5mZWDV.html\n",
        "/tmp/tmp5mZWDV.html\n",
        "Now open file:///tmp/tmpWbdf3o.html in your web browser\n"
       ]
      },
      {
       "output_type": "stream",
       "stream": "stdout",
       "text": [
        "\n",
        "[229, 254, 255, 256, 264, 265, 266, 268, 270, 272, 274, 275, 276, 278, 280, 284, 286, 289]"
       ]
      },
      {
       "output_type": "stream",
       "stream": "stdout",
       "text": [
        "\n",
        "[229, 254, 255, 256, 257, 258, 259, 260, 261, 262, 263, 264, 265, 266, 267, 268, 269, 270, 271, 272, 273, 274, 275, 276, 277, 278, 279, 280, 281, 282, 283, 284, 285, 286, 287]\n",
        "original article tmp file "
       ]
      },
      {
       "output_type": "stream",
       "stream": "stdout",
       "text": [
        " /tmp/tmpfqIYs5.html\n",
        "/tmp/tmpj5VCGy.html\n",
        "/tmp/tmpfqIYs5.html\n",
        "/tmp/tmpfqIYs5.html\n",
        "Now open file:///tmp/tmpj5VCGy.html in your web browser\n"
       ]
      },
      {
       "output_type": "stream",
       "stream": "stdout",
       "text": [
        "\n",
        "[1166, 1264]"
       ]
      },
      {
       "output_type": "stream",
       "stream": "stdout",
       "text": [
        "\n",
        "[418, 1161, 1166, 1264]\n",
        "original article tmp file "
       ]
      },
      {
       "output_type": "stream",
       "stream": "stdout",
       "text": [
        " /tmp/tmpieNCNR.html\n",
        "/tmp/tmpCTnUwj.html\n",
        "/tmp/tmpieNCNR.html\n",
        "/tmp/tmpieNCNR.html\n",
        "Now open file:///tmp/tmpCTnUwj.html in your web browser\n"
       ]
      },
      {
       "output_type": "stream",
       "stream": "stdout",
       "text": [
        "\n",
        "[1169, 1267]"
       ]
      },
      {
       "output_type": "stream",
       "stream": "stdout",
       "text": [
        "\n",
        "[418, 1161, 1165, 1167, 1169, 1267]\n",
        "original article tmp file "
       ]
      },
      {
       "output_type": "stream",
       "stream": "stdout",
       "text": [
        " /tmp/tmpbrYgrc.html\n",
        "/tmp/tmpltytab.html\n",
        "/tmp/tmpbrYgrc.html\n",
        "/tmp/tmpbrYgrc.html\n",
        "Now open file:///tmp/tmpltytab.html in your web browser\n"
       ]
      },
      {
       "output_type": "stream",
       "stream": "stdout",
       "text": [
        "\n",
        "[1166, 1264]"
       ]
      },
      {
       "output_type": "stream",
       "stream": "stdout",
       "text": [
        "\n",
        "[418, 1161, 1166, 1264]\n",
        "original article tmp file "
       ]
      },
      {
       "output_type": "stream",
       "stream": "stdout",
       "text": [
        " /tmp/tmphrQUdE.html\n",
        "/tmp/tmpARont6.html\n",
        "/tmp/tmphrQUdE.html\n",
        "/tmp/tmphrQUdE.html\n",
        "Now open file:///tmp/tmpARont6.html in your web browser\n"
       ]
      },
      {
       "output_type": "stream",
       "stream": "stdout",
       "text": [
        "\n",
        "[135, 211, 217, 360, 402, 408, 446, 456, 466, 489, 503, 547, 552, 586, 591, 616, 621, 636, 641, 646, 651, 681, 686, 701, 706, 711, 716, 735, 749, 763, 768, 773, 797, 802, 807, 812, 846, 851, 856, 861, 890, 920, 935, 944, 974, 989, 998, 1008, 1022, 1032, 1074, 1079, 1084, 1093, 1103, 1113, 1143, 1158, 1173, 1183, 1226, 1236, 1246, 1251, 1261, 1274, 1279, 1284, 1289, 1294, 1299, 1304, 1309, 1314, 1319, 1324, 1331, 1336, 1341, 1346, 1351, 1356, 1361, 1366, 1371, 1376, 1381, 1423, 1424, 1426, 1427, 1428, 1429, 1430, 1431, 1459, 1467, 1474, 1488, 1502, 1506, 1510, 1514, 1590, 1595, 1600, 1605]"
       ]
      },
      {
       "output_type": "stream",
       "stream": "stdout",
       "text": [
        "\n",
        "[1424, 1426, 1427, 1428, 1429, 1430, 1431]\n",
        "original article tmp file "
       ]
      },
      {
       "output_type": "stream",
       "stream": "stdout",
       "text": [
        " /tmp/tmpQWsTGY.html\n",
        "/tmp/tmpEBCwDl.html\n",
        "/tmp/tmpQWsTGY.html\n",
        "/tmp/tmpQWsTGY.html\n",
        "Now open file:///tmp/tmpEBCwDl.html in your web browser\n"
       ]
      },
      {
       "output_type": "stream",
       "stream": "stdout",
       "text": [
        "\n",
        "[228, 254, 257, 258, 259, 260, 261, 262, 264]"
       ]
      },
      {
       "output_type": "stream",
       "stream": "stdout",
       "text": [
        "\n",
        "[228, 229, 232, 234, 250, 253, 254, 255, 256, 257, 258, 259, 260, 261, 262]\n",
        "original article tmp file "
       ]
      },
      {
       "output_type": "stream",
       "stream": "stdout",
       "text": [
        " /tmp/tmpnBJvzK.html\n",
        "/tmp/tmpfPHdSa.html\n",
        "/tmp/tmpnBJvzK.html\n",
        "/tmp/tmpnBJvzK.html\n",
        "Now open file:///tmp/tmpfPHdSa.html in your web browser\n"
       ]
      },
      {
       "output_type": "stream",
       "stream": "stdout",
       "text": [
        "\n",
        "[254, 255, 256, 257, 258, 259, 260]"
       ]
      },
      {
       "output_type": "stream",
       "stream": "stdout",
       "text": [
        "\n",
        "[229, 230, 233, 235, 254, 255, 256, 257, 258, 259, 260]\n",
        "original article tmp file "
       ]
      },
      {
       "output_type": "stream",
       "stream": "stdout",
       "text": [
        " /tmp/tmpRAOWig.html\n",
        "/tmp/tmpLxrda5.html\n",
        "/tmp/tmpRAOWig.html\n",
        "/tmp/tmpRAOWig.html\n",
        "Now open file:///tmp/tmpLxrda5.html in your web browser\n"
       ]
      },
      {
       "output_type": "stream",
       "stream": "stdout",
       "text": [
        "\n",
        "[96, 118]"
       ]
      },
      {
       "output_type": "stream",
       "stream": "stdout",
       "text": [
        "\n",
        "[96, 153, 156]\n",
        "original article tmp file "
       ]
      },
      {
       "output_type": "stream",
       "stream": "stdout",
       "text": [
        " /tmp/tmpk4e5yo.html\n",
        "/tmp/tmp7wxXDR.html\n",
        "/tmp/tmpk4e5yo.html\n",
        "/tmp/tmpk4e5yo.html\n",
        "Now open file:///tmp/tmp7wxXDR.html in your web browser\n"
       ]
      },
      {
       "output_type": "stream",
       "stream": "stdout",
       "text": [
        "\n",
        "[72, 125]"
       ]
      },
      {
       "output_type": "stream",
       "stream": "stdout",
       "text": [
        "\n",
        "[72, 111, 122, 125]\n",
        "original article tmp file "
       ]
      },
      {
       "output_type": "stream",
       "stream": "stdout",
       "text": [
        " /tmp/tmpCfyTcg.html\n",
        "/tmp/tmpV0lyur.html\n",
        "/tmp/tmpCfyTcg.html\n",
        "/tmp/tmpCfyTcg.html\n",
        "Now open file:///tmp/tmpV0lyur.html in your web browser\n"
       ]
      },
      {
       "output_type": "stream",
       "stream": "stdout",
       "text": [
        "\n",
        "[595, 598, 599, 600, 601]"
       ]
      },
      {
       "output_type": "stream",
       "stream": "stdout",
       "text": [
        "\n",
        "[549, 595, 596, 597, 598, 599, 600, 601]\n",
        "original article tmp file "
       ]
      },
      {
       "output_type": "stream",
       "stream": "stdout",
       "text": [
        " /tmp/tmpZo9zyO.html\n",
        "/tmp/tmpbg1Sms.html\n",
        "/tmp/tmpZo9zyO.html\n",
        "/tmp/tmpZo9zyO.html\n",
        "Now open file:///tmp/tmpbg1Sms.html in your web browser\n"
       ]
      },
      {
       "output_type": "stream",
       "stream": "stdout",
       "text": [
        "\n",
        "[600, 601, 603, 605, 606, 608, 609, 611, 612]"
       ]
      },
      {
       "output_type": "stream",
       "stream": "stdout",
       "text": [
        "\n",
        "[549, 600, 601, 602, 603, 604, 605, 606, 607, 608, 609]\n",
        "original article tmp file "
       ]
      },
      {
       "output_type": "stream",
       "stream": "stdout",
       "text": [
        " /tmp/tmpAMm2MS.html\n",
        "/tmp/tmpmry04y.html\n",
        "/tmp/tmpAMm2MS.html\n",
        "/tmp/tmpAMm2MS.html\n",
        "Now open file:///tmp/tmpmry04y.html in your web browser\n"
       ]
      },
      {
       "output_type": "stream",
       "stream": "stdout",
       "text": [
        "\n",
        "[72, 125]"
       ]
      },
      {
       "output_type": "stream",
       "stream": "stdout",
       "text": [
        "\n",
        "[72]\n",
        "original article tmp file "
       ]
      },
      {
       "output_type": "stream",
       "stream": "stdout",
       "text": [
        " /tmp/tmpUhTSgI.html\n",
        "/tmp/tmp1FbZZ4.html\n",
        "/tmp/tmpUhTSgI.html\n",
        "/tmp/tmpUhTSgI.html\n",
        "Now open file:///tmp/tmp1FbZZ4.html in your web browser\n"
       ]
      },
      {
       "output_type": "stream",
       "stream": "stdout",
       "text": [
        "\n",
        "[252, 253, 254, 255, 256, 257]"
       ]
      },
      {
       "output_type": "stream",
       "stream": "stdout",
       "text": [
        "\n",
        "[252, 253, 254, 255, 256, 257]\n",
        "original article tmp file "
       ]
      },
      {
       "output_type": "stream",
       "stream": "stdout",
       "text": [
        " /tmp/tmpYfb0az.html\n",
        "/tmp/tmpgmSwEE.html\n",
        "/tmp/tmpYfb0az.html\n",
        "/tmp/tmpYfb0az.html\n",
        "Now open file:///tmp/tmpgmSwEE.html in your web browser\n"
       ]
      },
      {
       "output_type": "stream",
       "stream": "stdout",
       "text": [
        "\n",
        "[250, 251, 252, 253, 254, 255, 308, 309]"
       ]
      },
      {
       "output_type": "stream",
       "stream": "stdout",
       "text": [
        "\n",
        "[227, 228, 231, 233, 250, 251, 252, 253, 254, 255]\n",
        "original article tmp file "
       ]
      },
      {
       "output_type": "stream",
       "stream": "stdout",
       "text": [
        " /tmp/tmp_py675.html\n",
        "/tmp/tmpffoZ9u.html\n",
        "/tmp/tmp_py675.html\n",
        "/tmp/tmp_py675.html\n",
        "Now open file:///tmp/tmpffoZ9u.html in your web browser\n"
       ]
      },
      {
       "output_type": "stream",
       "stream": "stdout",
       "text": [
        "\n",
        "[100, 102, 104, 106, 108, 110, 112, 114, 116, 118]"
       ]
      },
      {
       "output_type": "stream",
       "stream": "stdout",
       "text": [
        "\n",
        "[89, 100, 102, 104, 106, 108, 110, 112, 114, 116, 118]\n",
        "original article tmp file "
       ]
      },
      {
       "output_type": "stream",
       "stream": "stdout",
       "text": [
        " /tmp/tmpaKWHBV.html\n",
        "/tmp/tmppD8YsW.html\n",
        "/tmp/tmpaKWHBV.html\n",
        "/tmp/tmpaKWHBV.html\n",
        "Now open file:///tmp/tmppD8YsW.html in your web browser\n"
       ]
      },
      {
       "output_type": "stream",
       "stream": "stdout",
       "text": [
        "\n"
       ]
      }
     ],
     "prompt_number": 128
    },
    {
     "cell_type": "code",
     "collapsed": false,
     "input": [
      "download = get_download( 391881020 )\n",
      "download['raw_content']\n",
      "download['url']\n",
      "#None"
     ],
     "language": "python",
     "metadata": {},
     "outputs": [
      {
       "metadata": {},
       "output_type": "pyout",
       "prompt_number": 30,
       "text": [
        "u'http://virgula.uol.com.br/inacreditavel/bizarro/metro-tem-confusao-por-causa-de-encontro-em-shopping'"
       ]
      }
     ],
     "prompt_number": 30
    },
    {
     "cell_type": "code",
     "collapsed": false,
     "input": [
      "print lines_to_comparable_text( extract_with_python_readability( download['raw_content' ] ) )"
     ],
     "language": "python",
     "metadata": {},
     "outputs": [
      {
       "output_type": "stream",
       "stream": "stdout",
       "text": [
        "Metr\u00f4 tem confus\u00e3o por causa de encontro em shopping; veja v\u00eddeo Era para ser um s\u00e1bado muvucado como todos aqueles que antecedem o Natal em mais um shopping de S\u00e3o Paulo. Mas foi muito mais do que isso. Milhares de jovens compareceram a um encontro promovido por uma p\u00e1gina\u00a0no Facebook para este s\u00e1bado (7), no segundo andar do Shopping Metr\u00f4 Itaquera, \u00e0s 17h. Mas o que aconteceu foi uma bagun\u00e7a total, com a chegada da pol\u00edcia e o fechamento do shopping duas horas antes que o previsto.Ningu\u00e9m sabe ao certo o que aconteceu, alguns dizem que foi arrast\u00e3o, mas os pr\u00f3prios lojistas negam. De acordo com um rapaz que registrou a movimenta\u00e7\u00e3o na sa\u00edda do metr\u00f4, algumas pessoas isoladamente tiveram itens furtados. Infelizmente, o celular do garoto era meio ruim, mas deu para ver a confus\u00e3o. Veja aqui o v\u00eddeo que ele fez.Como muita gente compareceu, houve a confus\u00e3o. O certo \u00e9 que j\u00e1 est\u00e1 marcado o terceiro encontro, que \u00e9 mais uma badala\u00e7\u00e3o entre a galera, ou melhor, como diz a pr\u00f3pria p\u00e1gina, \u00e9 s\u00f3 um Rol\u00eazinho Parte 3. Tudo come\u00e7ou na semana passado, no domingo (1), com o Vuuk no Shopping Itaquera.\n"
       ]
      }
     ],
     "prompt_number": 31
    },
    {
     "cell_type": "code",
     "collapsed": false,
     "input": [
      "import readability\n",
      "\n",
      "doc = readability.Document( download['raw_content'] )\n",
      "\n",
      "doc.content()\n",
      "\n",
      "print doc.short_title()\n",
      "print lines_to_comparable_text( [ doc.summary() ] )"
     ],
     "language": "python",
     "metadata": {},
     "outputs": [
      {
       "output_type": "stream",
       "stream": "stdout",
       "text": [
        "Metr\u00f4 tem confus\u00e3o por causa de encontro em shopping; veja v\u00eddeo\n",
        "Era para ser um s\u00e1bado muvucado como todos aqueles que antecedem o Natal em mais um shopping de S\u00e3o Paulo. Mas foi muito mais do que isso. Milhares de jovens compareceram a um encontro promovido por uma p\u00e1gina\u00a0no Facebook para este s\u00e1bado (7), no segundo andar do Shopping Metr\u00f4 Itaquera, \u00e0s 17h. Mas o que aconteceu foi uma bagun\u00e7a total, com a chegada da pol\u00edcia e o fechamento do shopping duas horas antes que o previsto.Ningu\u00e9m sabe ao certo o que aconteceu, alguns dizem que foi arrast\u00e3o, mas os pr\u00f3prios lojistas negam. De acordo com um rapaz que registrou a movimenta\u00e7\u00e3o na sa\u00edda do metr\u00f4, algumas pessoas isoladamente tiveram itens furtados. Infelizmente, o celular do garoto era meio ruim, mas deu para ver a confus\u00e3o. Veja aqui o v\u00eddeo que ele fez.Como muita gente compareceu, houve a confus\u00e3o. O certo \u00e9 que j\u00e1 est\u00e1 marcado o terceiro encontro, que \u00e9 mais uma badala\u00e7\u00e3o entre a galera, ou melhor, como diz a pr\u00f3pria p\u00e1gina, \u00e9 s\u00f3 um Rol\u00eazinho Parte 3. Tudo come\u00e7ou na semana passado, no domingo (1), com o Vuuk no Shopping Itaquera.\n"
       ]
      },
      {
       "output_type": "stream",
       "stream": "stderr",
       "text": [
        "/usr/local/lib/python2.7/dist-packages/readability/htmls.py:107: FutureWarning: The behavior of this method will change in future versions. Use specific 'len(elem)' or 'elem is not None' test instead.\n",
        "  raw_html = unicode(tostring(doc.body or doc))\n"
       ]
      }
     ],
     "prompt_number": 32
    },
    {
     "cell_type": "code",
     "collapsed": false,
     "input": [
      "extractor_training_objects = []"
     ],
     "language": "python",
     "metadata": {},
     "outputs": [],
     "prompt_number": 25
    },
    {
     "cell_type": "code",
     "collapsed": false,
     "input": [
      "#raw_content\n",
      "\n",
      "#annotations\n",
      "\n",
      "def get_element_anncestor_indexes( anchor_el ):\n",
      "    element_indexes = []\n",
      "    \n",
      "    if anchor_el.is_text:\n",
      "        element_indexes.append( 0 )\n",
      "    elif anchor.is_tail:\n",
      "        element_indexes.append( 1 )\n",
      "    else:\n",
      "        assert False\n",
      "    \n",
      "    element = anchor_el.getparent()\n",
      "    \n",
      "    while element.getparent() is not None:\n",
      "        \n",
      "        #print 'el', element\n",
      "        element_index = element.getparent().index( element )\n",
      "        #print 'index', element.getparent().index( element )\n",
      "        element_indexes.append( element_index )\n",
      "        element = element.getparent()\n",
      "        \n",
      "    #print element_indexes\n",
      "    element_indexes.reverse()\n",
      "    \n",
      "    return element_indexes\n",
      "\n",
      "def remove_last_div( xpath ):\n",
      "    if '/div' not in xpath:\n",
      "        print 'no div in xpath', xpath\n",
      "        return xpath\n",
      "    else:\n",
      "        i = xpath.rfind( '/div' )\n",
      "        e = xpath.find('/', i + 1 )\n",
      "        return xpath[:i] + xpath[e:]\n",
      "\n",
      "def get_element_from_xpath( root, xpath ):\n",
      "    if len(root.xpath( xpath )) > 0:\n",
      "        return root.xpath( xpath )[0]\n",
      "    elif len(root.xpath( remove_last_div( xpath )) ) > 0:\n",
      "        return root.xpath( remove_last_div( xpath ))[0]\n",
      "    \n",
      "    else:\n",
      "        \n",
      "        while len(root.xpath( xpath )) == 0:\n",
      "            pass\n",
      "            assert '/' in xpath[2:]\n",
      "            \n",
      "            xpath = '/' + xpath[ xpath.find( '/', 2 ): ]\n",
      "        \n",
      "        return root.xpath( xpath )[0]\n",
      "    \n",
      "def sort_annotations( annotations, raw_content ):\n",
      "    \n",
      "    htmlparser = etree.HTMLParser()\n",
      "    root = etree.fromstring( raw_content, htmlparser )\n",
      "    \n",
      "    #print annotation[ 'start_xpath' ]\n",
      "    annotation = annotations[0]\n",
      "    start_container = root.xpath( annotation[ 'start_xpath' ] )[0]\n",
      "    end_container   = root.xpath( annotation[ 'end_xpath' ] )[0]\n",
      "    \n",
      "    get_element_anncestor_indexes( start_container ) \n",
      "    #element = start_container.getparent()\n",
      "    annotations.sort( key= lambda a: get_element_anncestor_indexes( get_element_from_xpath( root, a['start_xpath'] ) ) )\n",
      "    \n",
      "    return annotations\n",
      "\n",
      "f = \"/html/div/d\"\n",
      "'/' + f[f.find('/',2):]\n",
      "\n",
      "#\"oood\" in f"
     ],
     "language": "python",
     "metadata": {},
     "outputs": [
      {
       "metadata": {},
       "output_type": "pyout",
       "prompt_number": 24,
       "text": [
        "'//div/d'"
       ]
      }
     ],
     "prompt_number": 24
    },
    {
     "cell_type": "code",
     "collapsed": false,
     "input": [
      "import sqlite3\n",
      "\n",
      "db = sqlite3.connect('extractor_train_dbs/dev_2014-11-03T09_06_11-0500.db')\n",
      "db.row_factory = sqlite3.Row\n",
      "\n",
      "cursor = db.cursor()\n",
      "\n",
      "cursor.execute( \"SELECT * from dlannotations  where last_updated > '2014-10-31 00:00:00.069409' order by downloads_id\" )\n",
      "\n",
      "extractor_training_objects = []\n",
      "\n",
      "skipped_downloads = 0\n",
      "for row in list( cursor.fetchall() )[:]:\n",
      "    row =  dict([ (k, row[k]) for k in row.keys() ])\n",
      "    \n",
      "    #print row\n",
      "    \n",
      "    row['annotations'] = json.loads( row['annotations_json'] )\n",
      "    row['raw_content'] = u'' + row['raw_content']\n",
      "    annotated_text  = []\n",
      "    \n",
      "    try:\n",
      "        annotations = row['annotations']\n",
      "        download = get_download( row['downloads_id'] )\n",
      "    \n",
      "        raw_content = u'' + download[\n",
      "                                     u'raw_content']\n",
      "\n",
      "        annotations = sort_annotations( annotations, raw_content )\n",
      "        for annotation in annotations:            \n",
      "            annotated_text.extend(get_annotated_text( u''+ raw_content, annotation ))\n",
      "        \n",
      "        eto = create_extractor_training_object( row['downloads_id'], expected_lines=annotated_text )\n",
      "        \n",
      "        #assert eto['raw_content'] != row['raw_content']\n",
      "        \n",
      "        if eto['raw_content'] != row['raw_content']:\n",
      "            #TODO figure out why these may differ\n",
      "            pass\n",
      "        \n",
      "            #d = difflib.Differ()\n",
      "            #diff = d.compare(eto['raw_content'].splitlines(1), row['raw_content'].splitlines(1))\n",
      "            #print '\\n'.join(diff)\n",
      "        \n",
      "        extractor_training_objects.append( eto )\n",
      "        \n",
      "    except:\n",
      "        print \"error\"\n",
      "        print 'downloads_id', row['downloads_id']\n",
      "        print annotation\n",
      "        skipped_downloads += 1\n",
      "        raise\n",
      "\n",
      "print \"skipped\", skipped_downloads\n",
      "print \"processed\", len(extractor_training_objects)"
     ],
     "language": "python",
     "metadata": {},
     "outputs": [
      {
       "output_type": "stream",
       "stream": "stdout",
       "text": [
        "sc \u0420\u043e\u0441\u0442\u0443\u0440\u0438\u0437\u043c \u0432\u0441\u043b\u0435\u0434 \u0437\u0430 \u041c\u0418\u0414\u043e\u043c \u043f\u043e\u0441\u043e\u0432\u0435\u0442\u043e\u0432\u0430\u043b \u0440\u043e\u0441\u0441\u0438\u044f\u043d\u0430\u043c \u043d\u0435 \u0435\u0437\u0434\u0438\u0442\u044c \u0432 \u0411\u0430\u043d\u0433\u043a\u043e\u043a\n",
        "ec \u0421\u043e \u0441\u0432\u043e\u0435\u0439 \u0441\u0442\u043e\u0440\u043e\u043d\u044b, \u0440\u043e\u0441\u0441\u0438\u0439\u0441\u043a\u0438\u0435 \u0430\u0432\u0438\u0430\u043a\u043e\u043c\u043f\u0430\u043d\u0438\u0438 \u00ab\u0410\u044d\u0440\u043e\u0444\u043b\u043e\u0442\u00bb \u0438 \u00ab\u0422\u0440\u0430\u043d\u0441\u0430\u044d\u0440\u043e\u00bb \u0441\u043e\u043e\u0431\u0449\u0438\u043b\u0438, \u0447\u0442\u043e \u043d\u0435 \u043d\u0430\u043c\u0435\u0440\u0435\u043d\u044b \u043e\u0442\u043c\u0435\u043d\u044f\u0442\u044c \u0440\u0435\u0439\u0441\u044b \u0432 \u0411\u0430\u043d\u0433\u043a\u043e\u043a \u043d\u0430 13 \u044f\u043d\u0432\u0430\u0440\u044f (\u043d\u0430 \u044d\u0442\u043e\u0442 \u0434\u0435\u043d\u044c \u0437\u0430\u043f\u043b\u0430\u043d\u0438\u0440\u043e\u0432\u0430\u043d\u0430 \u0430\u043a\u0446\u0438\u044f \u043f\u0440\u043e\u0442\u0435\u0441\u0442\u0430 \u0442\u0430\u0438\u043b\u0430\u043d\u0434\u0441\u043a\u043e\u0439 \u043e\u043f\u043f\u043e\u0437\u0438\u0446\u0438\u0438). \u041e\u0431 \u044d\u0442\u043e\u043c \u0437\u0430\u044f\u0432\u0438\u043b\u0438 \u0432 \u043f\u0440\u0435\u0441\u0441-\u0441\u043b\u0443\u0436\u0431\u0430\u0445 \u043f\u0435\u0440\u0435\u0432\u043e\u0437\u0447\u0438\u043a\u043e\u0432.\n",
        "common\n",
        "end inner loop\n",
        "end loop\n",
        "<Element article at 0x7ff5a16c54b0>\n",
        "[<Element article at 0x7ff5a16c54b0>, <Element div at 0x7ff5a16c53c0>, <Element div at 0x7ff5a16c5820>, <Element div at 0x7ff5a16c5280>, <Element body at 0x7ff5a16c58c0>, <Element html at 0x7ff5a16c5b40>]\n",
        "False\n",
        "commonacccestor <Element article at 0x7ff5a16c54b0>\n",
        "ca's processed children\n",
        "start True\n",
        "outer loop: <Element div at 0x7ff5a16c5b90> \n",
        "<div class=\"b-media b-photoreport_inside photoreport\"><div class=\"info\">\n",
        "\n",
        " <time pubdate=\"2014-01-10T12:45:52+04:00\">10.01.2014, 12:45</time> \n",
        "\n",
        "\n",
        "\n",
        "\n",
        "\n",
        "\n",
        "\n",
        "\n",
        "\n",
        "\n",
        " \n",
        "|&#160;<span rel=\"author\">&#171;&#1043;&#1072;&#1079;&#1077;&#1090;&#1072;.Ru&#187;</span>\n",
        " </div> </div>\n",
        "\n",
        "inner loop\n",
        "<Element div at 0x7ff5a16c5b90>\n",
        "<div class=\"b-media b-photoreport_inside photoreport\"><div class=\"info\">\n",
        "\n",
        " <time pubdate=\"2014-01-10T12:45:52+04:00\">10.01.2014, 12:45</time> \n",
        "\n",
        "\n",
        "\n",
        "\n",
        "\n",
        "\n",
        "\n",
        "\n",
        "\n",
        "\n",
        " \n",
        "|&#160;<span rel=\"author\">&#171;&#1043;&#1072;&#1079;&#1077;&#1090;&#1072;.Ru&#187;</span>\n",
        " </div> </div>\n",
        "\n",
        "inner loop\n",
        "<Element div at 0x7ff5a16c50f0>\n",
        "<div style=\"clear:both\"/>\n",
        "\n",
        "end inner loop\n",
        "outer loop: <Element p at 0x7ff5a16c59b0> \n",
        "<p>&#1060;&#1077;&#1076;&#1077;&#1088;&#1072;&#1083;&#1100;&#1085;&#1086;&#1077; &#1072;&#1075;&#1077;&#1085;&#1090;&#1089;&#1090;&#1074;&#1086; &#1087;&#1086; &#1090;&#1091;&#1088;&#1080;&#1079;&#1084;&#1091; &#1074;&#1089;&#1083;&#1077;&#1076; &#1079;&#1072; &#1052;&#1080;&#1085;&#1080;&#1089;&#1090;&#1077;&#1088;&#1089;&#1090;&#1074;&#1086;&#1084; &#1080;&#1085;&#1086;&#1089;&#1090;&#1088;&#1072;&#1085;&#1085;&#1099;&#1093; &#1076;&#1077;&#1083; &#1056;&#1086;&#1089;&#1089;&#1080;&#1080; &#1087;&#1086;&#1089;&#1086;&#1074;&#1077;&#1090;&#1086;&#1074;&#1072;&#1083;&#1086; &#1075;&#1088;&#1072;&#1078;&#1076;&#1072;&#1085;&#1072;&#1084; &#1089;&#1090;&#1088;&#1072;&#1085;&#1099; <a href=\"http://www.gazeta.ru/travel/news/2014/01/09/n_5865289.shtml\"><b>&#1085;&#1077; &#1077;&#1079;&#1076;&#1080;&#1090;&#1100; &#1074; &#1041;&#1072;&#1085;&#1075;&#1082;&#1086;&#1082;</b></a> &#1074; &#1089;&#1074;&#1103;&#1079;&#1080; &#1089; &#1075;&#1086;&#1090;&#1086;&#1074;&#1103;&#1097;&#1080;&#1084;&#1080;&#1089;&#1103; &#1087;&#1088;&#1086;&#1090;&#1077;&#1089;&#1090;&#1072;&#1084;&#1080; &#1090;&#1072;&#1080;&#1083;&#1072;&#1085;&#1076;&#1089;&#1082;&#1086;&#1081; &#1086;&#1087;&#1087;&#1086;&#1079;&#1080;&#1094;&#1080;&#1080;. &#1054;&#1073; &#1101;&#1090;&#1086;&#1084; &#1089;&#1086;&#1086;&#1073;&#1097;&#1072;&#1077;&#1090; &#1086;&#1092;&#1080;&#1094;&#1080;&#1072;&#1083;&#1100;&#1085;&#1099;&#1081; <a href=\"http://www.russiatourism.ru/news/-33562533/\" target=\"_blank\"><b>&#1089;&#1072;&#1081;&#1090;</b></a> <a class=\"tag\" href=\"/tags/rosturizm.shtml\">&#1056;&#1086;&#1089;&#1090;&#1091;&#1088;&#1080;&#1079;&#1084;&#1072;</a>.</p>\n",
        "inner loop\n",
        "<Element p at 0x7ff5a16c59b0>\n",
        "<p>&#1060;&#1077;&#1076;&#1077;&#1088;&#1072;&#1083;&#1100;&#1085;&#1086;&#1077; &#1072;&#1075;&#1077;&#1085;&#1090;&#1089;&#1090;&#1074;&#1086; &#1087;&#1086; &#1090;&#1091;&#1088;&#1080;&#1079;&#1084;&#1091; &#1074;&#1089;&#1083;&#1077;&#1076; &#1079;&#1072; &#1052;&#1080;&#1085;&#1080;&#1089;&#1090;&#1077;&#1088;&#1089;&#1090;&#1074;&#1086;&#1084; &#1080;&#1085;&#1086;&#1089;&#1090;&#1088;&#1072;&#1085;&#1085;&#1099;&#1093; &#1076;&#1077;&#1083; &#1056;&#1086;&#1089;&#1089;&#1080;&#1080; &#1087;&#1086;&#1089;&#1086;&#1074;&#1077;&#1090;&#1086;&#1074;&#1072;&#1083;&#1086; &#1075;&#1088;&#1072;&#1078;&#1076;&#1072;&#1085;&#1072;&#1084; &#1089;&#1090;&#1088;&#1072;&#1085;&#1099; <a href=\"http://www.gazeta.ru/travel/news/2014/01/09/n_5865289.shtml\"><b>&#1085;&#1077; &#1077;&#1079;&#1076;&#1080;&#1090;&#1100; &#1074; &#1041;&#1072;&#1085;&#1075;&#1082;&#1086;&#1082;</b></a> &#1074; &#1089;&#1074;&#1103;&#1079;&#1080; &#1089; &#1075;&#1086;&#1090;&#1086;&#1074;&#1103;&#1097;&#1080;&#1084;&#1080;&#1089;&#1103; &#1087;&#1088;&#1086;&#1090;&#1077;&#1089;&#1090;&#1072;&#1084;&#1080; &#1090;&#1072;&#1080;&#1083;&#1072;&#1085;&#1076;&#1089;&#1082;&#1086;&#1081; &#1086;&#1087;&#1087;&#1086;&#1079;&#1080;&#1094;&#1080;&#1080;. &#1054;&#1073; &#1101;&#1090;&#1086;&#1084; &#1089;&#1086;&#1086;&#1073;&#1097;&#1072;&#1077;&#1090; &#1086;&#1092;&#1080;&#1094;&#1080;&#1072;&#1083;&#1100;&#1085;&#1099;&#1081; <a href=\"http://www.russiatourism.ru/news/-33562533/\" target=\"_blank\"><b>&#1089;&#1072;&#1081;&#1090;</b></a> <a class=\"tag\" href=\"/tags/rosturizm.shtml\">&#1056;&#1086;&#1089;&#1090;&#1091;&#1088;&#1080;&#1079;&#1084;&#1072;</a>.</p>\n",
        "inner loop\n",
        "<Element p at 0x7ff5a16c5be0>\n",
        "<p>&#171;<a class=\"tag\" href=\"/tags/ministerstvo_inostrannyh_del_rf.shtml\">&#1052;&#1048;&#1044; &#1056;&#1086;&#1089;&#1089;&#1080;&#1080;</a> &#1080; &#1056;&#1086;&#1089;&#1090;&#1091;&#1088;&#1080;&#1079;&#1084; &#1085;&#1072;&#1089;&#1090;&#1086;&#1103;&#1090;&#1077;&#1083;&#1100;&#1085;&#1086; &#1088;&#1077;&#1082;&#1086;&#1084;&#1077;&#1085;&#1076;&#1091;&#1102;&#1090; &#1088;&#1086;&#1089;&#1089;&#1080;&#1081;&#1089;&#1082;&#1080;&#1084; &#1075;&#1088;&#1072;&#1078;&#1076;&#1072;&#1085;&#1072;&#1084; &#1074;&#1086;&#1079;&#1076;&#1077;&#1088;&#1078;&#1072;&#1090;&#1100;&#1089;&#1103; &#1086;&#1090; &#1087;&#1086;&#1077;&#1079;&#1076;&#1086;&#1082; &#1074; &#1041;&#1072;&#1085;&#1075;&#1082;&#1086;&#1082;, &#1072; &#1087;&#1088;&#1080;&#1085;&#1080;&#1084;&#1072;&#1102;&#1097;&#1080;&#1084; &#1085;&#1072;&#1096;&#1080;&#1093; &#1090;&#1091;&#1088;&#1080;&#1089;&#1090;&#1086;&#1074; &#1082;&#1086;&#1084;&#1087;&#1072;&#1085;&#1080;&#1103;&#1084; &#8211; &#1086;&#1090;&#1084;&#1077;&#1085;&#1080;&#1090;&#1100; &#1101;&#1082;&#1089;&#1082;&#1091;&#1088;&#1089;&#1080;&#1080; &#1074; &#1090;&#1072;&#1080;&#1083;&#1072;&#1085;&#1076;&#1089;&#1082;&#1091;&#1102; &#1089;&#1090;&#1086;&#1083;&#1080;&#1094;&#1091; &#1085;&#1072; &#1087;&#1077;&#1088;&#1080;&#1086;&#1076; &#1074;&#1086;&#1079;&#1084;&#1086;&#1078;&#1085;&#1099;&#1093; &#1084;&#1072;&#1089;&#1089;&#1086;&#1074;&#1099;&#1093; &#1074;&#1099;&#1089;&#1090;&#1091;&#1087;&#1083;&#1077;&#1085;&#1080;&#1081; &#1086;&#1087;&#1087;&#1086;&#1079;&#1080;&#1094;&#1080;&#1080;&#187;, &#8211; &#1075;&#1086;&#1074;&#1086;&#1088;&#1080;&#1090;&#1089;&#1103; &#1074; &#1089;&#1086;&#1086;&#1073;&#1097;&#1077;&#1085;&#1080;&#1080;.</p>\n",
        "inner loop\n",
        "<Element p at 0x7ff5a16c5a50>\n",
        "<p>&#1043;&#1083;&#1072;&#1074;&#1072; &#1087;&#1088;&#1077;&#1089;&#1089;-&#1089;&#1083;&#1091;&#1078;&#1073;&#1099; &#1056;&#1086;&#1089;&#1090;&#1091;&#1088;&#1080;&#1079;&#1084;&#1072; &#1048;&#1088;&#1080;&#1085;&#1072; &#1065;&#1077;&#1075;&#1086;&#1083;&#1100;&#1082;&#1086;&#1074;&#1072; &#1086;&#1090;&#1084;&#1077;&#1090;&#1080;&#1083;&#1072;, &#1074; &#1089;&#1074;&#1086;&#1102; &#1086;&#1095;&#1077;&#1088;&#1077;&#1076;&#1100;, &#1095;&#1090;&#1086; &#1074;&#1077;&#1076;&#1086;&#1084;&#1089;&#1090;&#1074;&#1086; &#1085;&#1077; &#1087;&#1086;&#1083;&#1091;&#1095;&#1072;&#1083;&#1086; &#1078;&#1072;&#1083;&#1086;&#1073; &#1086;&#1090; &#1086;&#1090;&#1076;&#1099;&#1093;&#1072;&#1102;&#1097;&#1080;&#1093; &#1074; &#1058;&#1072;&#1080;&#1083;&#1072;&#1085;&#1076;&#1077; &#1088;&#1086;&#1089;&#1089;&#1080;&#1103;&#1085;.</p>\n",
        "inner loop\n",
        "<Element p at 0x7ff5a16c5500>\n",
        "<p>&#171;&#1041;&#1099;&#1083;&#1080; &#1079;&#1074;&#1086;&#1085;&#1082;&#1080; &#1086;&#1090; &#1090;&#1091;&#1088;&#1080;&#1089;&#1090;&#1086;&#1074;, &#1082;&#1086;&#1090;&#1086;&#1088;&#1099;&#1077; &#1080;&#1085;&#1090;&#1077;&#1088;&#1077;&#1089;&#1086;&#1074;&#1072;&#1083;&#1080;&#1089;&#1100;, &#1084;&#1086;&#1075;&#1091;&#1090; &#1083;&#1080; &#1086;&#1085;&#1080; &#1086;&#1090;&#1084;&#1077;&#1085;&#1080;&#1090;&#1100; &#1089;&#1074;&#1086;&#1102; &#1087;&#1086;&#1077;&#1079;&#1076;&#1082;&#1091; &#1080; &#1074;&#1077;&#1088;&#1085;&#1091;&#1090;&#1100; &#1076;&#1077;&#1085;&#1100;&#1075;&#1080;, &#1085;&#1086; &#1085;&#1080;&#1082;&#1072;&#1082;&#1080;&#1093; &#1078;&#1072;&#1083;&#1086;&#1073; &#1086;&#1090; &#1090;&#1077;&#1093;, &#1082;&#1090;&#1086; &#1086;&#1090;&#1076;&#1099;&#1093;&#1072;&#1077;&#1090; &#1085;&#1072; &#1082;&#1091;&#1088;&#1086;&#1088;&#1090;&#1072;&#1093; &#1058;&#1072;&#1080;&#1083;&#1072;&#1085;&#1076;&#1072;, &#1084;&#1099; &#1085;&#1077; &#1087;&#1086;&#1083;&#1091;&#1095;&#1072;&#1083;&#1080;&#187;, &#8211; &#1086;&#1090;&#1084;&#1077;&#1090;&#1080;&#1083;&#1072; &#1065;&#1077;&#1075;&#1086;&#1083;&#1100;&#1082;&#1086;&#1074;&#1072;, &#1089;&#1083;&#1086;&#1074;&#1072; &#1082;&#1086;&#1090;&#1086;&#1088;&#1086;&#1081; &#1087;&#1088;&#1080;&#1074;&#1086;&#1076;&#1080;&#1090; <a href=\"http://www.itar-tass.com/\" target=\"_blank\"><b>&#1048;&#1058;&#1040;&#1056;-&#1058;&#1040;&#1057;&#1057;</b></a>.</p>\n",
        "inner loop\n",
        "<Element p at 0x7ff5a16c5c30>\n",
        "<p>&#1055;&#1088;&#1077;&#1076;&#1089;&#1090;&#1072;&#1074;&#1080;&#1090;&#1077;&#1083;&#1100; &#1056;&#1086;&#1089;&#1090;&#1091;&#1088;&#1080;&#1079;&#1084;&#1072; &#1087;&#1086;&#1076;&#1095;&#1077;&#1088;&#1082;&#1085;&#1091;&#1083;&#1072;, &#1095;&#1090;&#1086; &#1089;&#1080;&#1090;&#1091;&#1072;&#1094;&#1080;&#1103; &#1074; &#1058;&#1072;&#1080;&#1083;&#1072;&#1085;&#1076;&#1077; &#1086;&#1089;&#1090;&#1072;&#1077;&#1090;&#1089;&#1103; &#1089;&#1087;&#1086;&#1082;&#1086;&#1081;&#1085;&#1086;&#1081; &#1080; &#1073;&#1077;&#1079;&#1086;&#1087;&#1072;&#1089;&#1085;&#1086;&#1081;.</p>\n",
        "end inner loop\n",
        "found end_contain parent, exiting loop: <Element p at 0x7ff5a16c51e0> \n",
        "<p>&#1057;&#1086; &#1089;&#1074;&#1086;&#1077;&#1081; &#1089;&#1090;&#1086;&#1088;&#1086;&#1085;&#1099;, &#1088;&#1086;&#1089;&#1089;&#1080;&#1081;&#1089;&#1082;&#1080;&#1077; &#1072;&#1074;&#1080;&#1072;&#1082;&#1086;&#1084;&#1087;&#1072;&#1085;&#1080;&#1080; &#171;&#1040;&#1101;&#1088;&#1086;&#1092;&#1083;&#1086;&#1090;&#187; &#1080; &#171;&#1058;&#1088;&#1072;&#1085;&#1089;&#1072;&#1101;&#1088;&#1086;&#187; &#1089;&#1086;&#1086;&#1073;&#1097;&#1080;&#1083;&#1080;, &#1095;&#1090;&#1086; &#1085;&#1077; &#1085;&#1072;&#1084;&#1077;&#1088;&#1077;&#1085;&#1099; &#1086;&#1090;&#1084;&#1077;&#1085;&#1103;&#1090;&#1100; &#1088;&#1077;&#1081;&#1089;&#1099; &#1074; &#1041;&#1072;&#1085;&#1075;&#1082;&#1086;&#1082; &#1085;&#1072; 13 &#1103;&#1085;&#1074;&#1072;&#1088;&#1103; (&#1085;&#1072; &#1101;&#1090;&#1086;&#1090; &#1076;&#1077;&#1085;&#1100; &#1079;&#1072;&#1087;&#1083;&#1072;&#1085;&#1080;&#1088;&#1086;&#1074;&#1072;&#1085;&#1072; &#1072;&#1082;&#1094;&#1080;&#1103; &#1087;&#1088;&#1086;&#1090;&#1077;&#1089;&#1090;&#1072; &#1090;&#1072;&#1080;&#1083;&#1072;&#1085;&#1076;&#1089;&#1082;&#1086;&#1081; &#1086;&#1087;&#1087;&#1086;&#1079;&#1080;&#1094;&#1080;&#1080;). &#1054;&#1073; &#1101;&#1090;&#1086;&#1084; &#1079;&#1072;&#1103;&#1074;&#1080;&#1083;&#1080; &#1074; &#1087;&#1088;&#1077;&#1089;&#1089;-&#1089;&#1083;&#1091;&#1078;&#1073;&#1072;&#1093; &#1087;&#1077;&#1088;&#1077;&#1074;&#1086;&#1079;&#1095;&#1080;&#1082;&#1086;&#1074;.</p>\n",
        "\n",
        "<p>&#1057;&#1086; &#1089;&#1074;&#1086;&#1077;&#1081; &#1089;&#1090;&#1086;&#1088;&#1086;&#1085;&#1099;, &#1088;&#1086;&#1089;&#1089;&#1080;&#1081;&#1089;&#1082;&#1080;&#1077; &#1072;&#1074;&#1080;&#1072;&#1082;&#1086;&#1084;&#1087;&#1072;&#1085;&#1080;&#1080; &#171;&#1040;&#1101;&#1088;&#1086;&#1092;&#1083;&#1086;&#1090;&#187; &#1080; &#171;&#1058;&#1088;&#1072;&#1085;&#1089;&#1072;&#1101;&#1088;&#1086;&#187; &#1089;&#1086;&#1086;&#1073;&#1097;&#1080;&#1083;&#1080;, &#1095;&#1090;&#1086; &#1085;&#1077; &#1085;&#1072;&#1084;&#1077;&#1088;&#1077;&#1085;&#1099; &#1086;&#1090;&#1084;&#1077;&#1085;&#1103;&#1090;&#1100; &#1088;&#1077;&#1081;&#1089;&#1099; &#1074; &#1041;&#1072;&#1085;&#1075;&#1082;&#1086;&#1082; &#1085;&#1072; 13 &#1103;&#1085;&#1074;&#1072;&#1088;&#1103; (&#1085;&#1072; &#1101;&#1090;&#1086;&#1090; &#1076;&#1077;&#1085;&#1100; &#1079;&#1072;&#1087;&#1083;&#1072;&#1085;&#1080;&#1088;&#1086;&#1074;&#1072;&#1085;&#1072; &#1072;&#1082;&#1094;&#1080;&#1103; &#1087;&#1088;&#1086;&#1090;&#1077;&#1089;&#1090;&#1072; &#1090;&#1072;&#1080;&#1083;&#1072;&#1085;&#1076;&#1089;&#1082;&#1086;&#1081; &#1086;&#1087;&#1087;&#1086;&#1079;&#1080;&#1094;&#1080;&#1080;). &#1054;&#1073; &#1101;&#1090;&#1086;&#1084; &#1079;&#1072;&#1103;&#1074;&#1080;&#1083;&#1080; &#1074; &#1087;&#1088;&#1077;&#1089;&#1089;-&#1089;&#1083;&#1091;&#1078;&#1073;&#1072;&#1093; &#1087;&#1077;&#1088;&#1077;&#1074;&#1086;&#1079;&#1095;&#1080;&#1082;&#1086;&#1074;.</p>\n",
        "\n",
        "False\n",
        "True\n",
        "escape while\n",
        "<p>&#1057;&#1086; &#1089;&#1074;&#1086;&#1077;&#1081; &#1089;&#1090;&#1086;&#1088;&#1086;&#1085;&#1099;, &#1088;&#1086;&#1089;&#1089;&#1080;&#1081;&#1089;&#1082;&#1080;&#1077; &#1072;&#1074;&#1080;&#1072;&#1082;&#1086;&#1084;&#1087;&#1072;&#1085;&#1080;&#1080; &#171;&#1040;&#1101;&#1088;&#1086;&#1092;&#1083;&#1086;&#1090;&#187; &#1080; &#171;&#1058;&#1088;&#1072;&#1085;&#1089;&#1072;&#1101;&#1088;&#1086;&#187; &#1089;&#1086;&#1086;&#1073;&#1097;&#1080;&#1083;&#1080;, &#1095;&#1090;&#1086; &#1085;&#1077; &#1085;&#1072;&#1084;&#1077;&#1088;&#1077;&#1085;&#1099; &#1086;&#1090;&#1084;&#1077;&#1085;&#1103;&#1090;&#1100; &#1088;&#1077;&#1081;&#1089;&#1099; &#1074; &#1041;&#1072;&#1085;&#1075;&#1082;&#1086;&#1082; &#1085;&#1072; 13 &#1103;&#1085;&#1074;&#1072;&#1088;&#1103; (&#1085;&#1072; &#1101;&#1090;&#1086;&#1090; &#1076;&#1077;&#1085;&#1100; &#1079;&#1072;&#1087;&#1083;&#1072;&#1085;&#1080;&#1088;&#1086;&#1074;&#1072;&#1085;&#1072; &#1072;&#1082;&#1094;&#1080;&#1103; &#1087;&#1088;&#1086;&#1090;&#1077;&#1089;&#1090;&#1072; &#1090;&#1072;&#1080;&#1083;&#1072;&#1085;&#1076;&#1089;&#1082;&#1086;&#1081; &#1086;&#1087;&#1087;&#1086;&#1079;&#1080;&#1094;&#1080;&#1080;). &#1054;&#1073; &#1101;&#1090;&#1086;&#1084; &#1079;&#1072;&#1103;&#1074;&#1080;&#1083;&#1080; &#1074; &#1087;&#1088;&#1077;&#1089;&#1089;-&#1089;&#1083;&#1091;&#1078;&#1073;&#1072;&#1093; &#1087;&#1077;&#1088;&#1077;&#1074;&#1086;&#1079;&#1095;&#1080;&#1082;&#1086;&#1074;.</p>\n",
        "\n",
        "start container\n",
        "<h1 class=\"article_news_name\">&#1056;&#1086;&#1089;&#1090;&#1091;&#1088;&#1080;&#1079;&#1084; &#1074;&#1089;&#1083;&#1077;&#1076; &#1079;&#1072; &#1052;&#1048;&#1044;&#1086;&#1084; &#1087;&#1086;&#1089;&#1086;&#1074;&#1077;&#1090;&#1086;&#1074;&#1072;&#1083; &#1088;&#1086;&#1089;&#1089;&#1080;&#1103;&#1085;&#1072;&#1084; &#1085;&#1077; &#1077;&#1079;&#1076;&#1080;&#1090;&#1100; &#1074; &#1041;&#1072;&#1085;&#1075;&#1082;&#1086;&#1082;</h1>\n",
        "      \n",
        "\n",
        "\u0420\u043e\u0441\u0442\u0443\u0440\u0438\u0437\u043c \u0432\u0441\u043b\u0435\u0434 \u0437\u0430 \u041c\u0418\u0414\u043e\u043c \u043f\u043e\u0441\u043e\u0432\u0435\u0442\u043e\u0432\u0430\u043b \u0440\u043e\u0441\u0441\u0438\u044f\u043d\u0430\u043c \u043d\u0435 \u0435\u0437\u0434\u0438\u0442\u044c \u0432 \u0411\u0430\u043d\u0433\u043a\u043e\u043a\n",
        "offset 0\n",
        "end container\n",
        "<p>&#1057;&#1086; &#1089;&#1074;&#1086;&#1077;&#1081; &#1089;&#1090;&#1086;&#1088;&#1086;&#1085;&#1099;, &#1088;&#1086;&#1089;&#1089;&#1080;&#1081;&#1089;&#1082;&#1080;&#1077; &#1072;&#1074;&#1080;&#1072;&#1082;&#1086;&#1084;&#1087;&#1072;&#1085;&#1080;&#1080; &#171;&#1040;&#1101;&#1088;&#1086;&#1092;&#1083;&#1086;&#1090;&#187; &#1080; &#171;&#1058;&#1088;&#1072;&#1085;&#1089;&#1072;&#1101;&#1088;&#1086;&#187; &#1089;&#1086;&#1086;&#1073;&#1097;&#1080;&#1083;&#1080;, &#1095;&#1090;&#1086; &#1085;&#1077; &#1085;&#1072;&#1084;&#1077;&#1088;&#1077;&#1085;&#1099; &#1086;&#1090;&#1084;&#1077;&#1085;&#1103;&#1090;&#1100; &#1088;&#1077;&#1081;&#1089;&#1099; &#1074; &#1041;&#1072;&#1085;&#1075;&#1082;&#1086;&#1082; &#1085;&#1072; 13 &#1103;&#1085;&#1074;&#1072;&#1088;&#1103; (&#1085;&#1072; &#1101;&#1090;&#1086;&#1090; &#1076;&#1077;&#1085;&#1100; &#1079;&#1072;&#1087;&#1083;&#1072;&#1085;&#1080;&#1088;&#1086;&#1074;&#1072;&#1085;&#1072; &#1072;&#1082;&#1094;&#1080;&#1103; &#1087;&#1088;&#1086;&#1090;&#1077;&#1089;&#1090;&#1072; &#1090;&#1072;&#1080;&#1083;&#1072;&#1085;&#1076;&#1089;&#1082;&#1086;&#1081; &#1086;&#1087;&#1087;&#1086;&#1079;&#1080;&#1094;&#1080;&#1080;). &#1054;&#1073; &#1101;&#1090;&#1086;&#1084; &#1079;&#1072;&#1103;&#1074;&#1080;&#1083;&#1080; &#1074; &#1087;&#1088;&#1077;&#1089;&#1089;-&#1089;&#1083;&#1091;&#1078;&#1073;&#1072;&#1093; &#1087;&#1077;&#1088;&#1077;&#1074;&#1086;&#1079;&#1095;&#1080;&#1082;&#1086;&#1074;.</p>\n",
        "\n",
        "\u0421\u043e \u0441\u0432\u043e\u0435\u0439 \u0441\u0442\u043e\u0440\u043e\u043d\u044b, \u0440\u043e\u0441\u0441\u0438\u0439\u0441\u043a\u0438\u0435 \u0430\u0432\u0438\u0430\u043a\u043e\u043c\u043f\u0430\u043d\u0438\u0438 \u00ab\u0410\u044d\u0440\u043e\u0444\u043b\u043e\u0442\u00bb \u0438 \u00ab\u0422\u0440\u0430\u043d\u0441\u0430\u044d\u0440\u043e\u00bb \u0441\u043e\u043e\u0431\u0449\u0438\u043b\u0438, \u0447\u0442\u043e \u043d\u0435 \u043d\u0430\u043c\u0435\u0440\u0435\u043d\u044b \u043e\u0442\u043c\u0435\u043d\u044f\u0442\u044c \u0440\u0435\u0439\u0441\u044b \u0432 \u0411\u0430\u043d\u0433\u043a\u043e\u043a \u043d\u0430 13 \u044f\u043d\u0432\u0430\u0440\u044f (\u043d\u0430 \u044d\u0442\u043e\u0442 \u0434\u0435\u043d\u044c \u0437\u0430\u043f\u043b\u0430\u043d\u0438\u0440\u043e\u0432\u0430\u043d\u0430 \u0430\u043a\u0446\u0438\u044f \u043f\u0440\u043e\u0442\u0435\u0441\u0442\u0430 \u0442\u0430\u0438\u043b\u0430\u043d\u0434\u0441\u043a\u043e\u0439 \u043e\u043f\u043f\u043e\u0437\u0438\u0446\u0438\u0438). \u041e\u0431 \u044d\u0442\u043e\u043c \u0437\u0430\u044f\u0432\u0438\u043b\u0438 \u0432 \u043f\u0440\u0435\u0441\u0441-\u0441\u043b\u0443\u0436\u0431\u0430\u0445 \u043f\u0435\u0440\u0435\u0432\u043e\u0437\u0447\u0438\u043a\u043e\u0432.\n",
        "offset 243\n",
        "http://www.gazeta.ru/travel/news/2014/01/10/n_5866529.shtml"
       ]
      },
      {
       "output_type": "stream",
       "stream": "stdout",
       "text": [
        "\n",
        "sc"
       ]
      },
      {
       "ename": "AssertionError",
       "evalue": "",
       "output_type": "pyerr",
       "traceback": [
        "\u001b[1;31m---------------------------------------------------------------------------\u001b[0m\n\u001b[1;31mAssertionError\u001b[0m                            Traceback (most recent call last)",
        "\u001b[1;32m<ipython-input-40-534fb5318250>\u001b[0m in \u001b[0;36m<module>\u001b[1;34m()\u001b[0m\n\u001b[0;32m     29\u001b[0m         \u001b[0mannotations\u001b[0m \u001b[1;33m=\u001b[0m \u001b[0msort_annotations\u001b[0m\u001b[1;33m(\u001b[0m \u001b[0mannotations\u001b[0m\u001b[1;33m,\u001b[0m \u001b[0mraw_content\u001b[0m \u001b[1;33m)\u001b[0m\u001b[1;33m\u001b[0m\u001b[0m\n\u001b[0;32m     30\u001b[0m         \u001b[1;32mfor\u001b[0m \u001b[0mannotation\u001b[0m \u001b[1;32min\u001b[0m \u001b[0mannotations\u001b[0m\u001b[1;33m:\u001b[0m\u001b[1;33m\u001b[0m\u001b[0m\n\u001b[1;32m---> 31\u001b[1;33m             \u001b[0mannotated_text\u001b[0m\u001b[1;33m.\u001b[0m\u001b[0mextend\u001b[0m\u001b[1;33m(\u001b[0m\u001b[0mget_annotated_text\u001b[0m\u001b[1;33m(\u001b[0m \u001b[1;34mu''\u001b[0m\u001b[1;33m+\u001b[0m \u001b[0mraw_content\u001b[0m\u001b[1;33m,\u001b[0m \u001b[0mannotation\u001b[0m \u001b[1;33m)\u001b[0m\u001b[1;33m)\u001b[0m\u001b[1;33m\u001b[0m\u001b[0m\n\u001b[0m\u001b[0;32m     32\u001b[0m \u001b[1;33m\u001b[0m\u001b[0m\n\u001b[0;32m     33\u001b[0m         \u001b[0meto\u001b[0m \u001b[1;33m=\u001b[0m \u001b[0mcreate_extractor_training_object\u001b[0m\u001b[1;33m(\u001b[0m \u001b[0mrow\u001b[0m\u001b[1;33m[\u001b[0m\u001b[1;34m'downloads_id'\u001b[0m\u001b[1;33m]\u001b[0m\u001b[1;33m,\u001b[0m \u001b[0mexpected_lines\u001b[0m\u001b[1;33m=\u001b[0m\u001b[0mannotated_text\u001b[0m \u001b[1;33m)\u001b[0m\u001b[1;33m\u001b[0m\u001b[0m\n",
        "\u001b[1;32m<ipython-input-39-c05667916d6c>\u001b[0m in \u001b[0;36mget_annotated_text\u001b[1;34m(raw_content, annotation)\u001b[0m\n\u001b[0;32m    103\u001b[0m                 \u001b[1;32mprint\u001b[0m \u001b[1;34m\"inner loop\"\u001b[0m\u001b[1;33m\u001b[0m\u001b[0m\n\u001b[0;32m    104\u001b[0m                 \u001b[1;32mprint\u001b[0m \u001b[0mel\u001b[0m\u001b[1;33m\u001b[0m\u001b[0m\n\u001b[1;32m--> 105\u001b[1;33m                 \u001b[1;32massert\u001b[0m \u001b[0mel\u001b[0m \u001b[1;33m!=\u001b[0m \u001b[0mNone\u001b[0m\u001b[1;33m\u001b[0m\u001b[0m\n\u001b[0m\u001b[0;32m    106\u001b[0m                 \u001b[1;32mprint\u001b[0m \u001b[0metree\u001b[0m\u001b[1;33m.\u001b[0m\u001b[0mtostring\u001b[0m\u001b[1;33m(\u001b[0m \u001b[0mel\u001b[0m \u001b[1;33m)\u001b[0m\u001b[1;33m\u001b[0m\u001b[0m\n\u001b[0;32m    107\u001b[0m                 \u001b[0mmiddle_contents\u001b[0m\u001b[1;33m.\u001b[0m\u001b[0mappend\u001b[0m\u001b[1;33m(\u001b[0m \u001b[0mel\u001b[0m \u001b[1;33m)\u001b[0m\u001b[1;33m\u001b[0m\u001b[0m\n",
        "\u001b[1;31mAssertionError\u001b[0m: "
       ]
      },
      {
       "output_type": "stream",
       "stream": "stdout",
       "text": [
        " \u0627\u0644\u0642\u0628\u0636 \u0639\u0644\u0649 3 \u0625\u062e\u0648\u0627\u0646 \u0647\u0627\u062c\u0645\u0648\u0627 \u0645\u0624\u062a\u0645\u0631\u064b\u0627 \u0644\u062f\u0639\u0645 \u0627\u0644\u062f\u0633\u062a\u0648\u0631 \u0628\u0627\u0644\u062d\u0648\u0627\u0645\u062f\u064a\u0629 \n",
        "ec <Element div at 0x7ff5a187a1e0>\n",
        "common\n",
        "end inner loop\n",
        "end loop\n",
        "<Element div at 0x7ff5a187af00>\n",
        "[<Element div at 0x7ff5a187af00>, <Element div at 0x7ff5a187ad70>, <Element div at 0x7ff5a187acd0>, <Element div at 0x7ff5a187a370>, <Element body at 0x7ff5a187a9b0>, <Element html at 0x7ff5a16c5730>]\n",
        "False\n",
        "commonacccestor <Element div at 0x7ff5a187af00>\n",
        "ca's processed children\n",
        "start True\n",
        "outer loop: <Element span at 0x7ff5a187a500> \n",
        "<span class=\"SubTitle\"/>&#13;\n",
        "            \n",
        "inner loop\n",
        "<Element span at 0x7ff5a187a500>\n",
        "<span class=\"SubTitle\"/>&#13;\n",
        "            \n",
        "inner loop\n",
        "<Element div at 0x7ff5a187a460>\n",
        "<div align=\"info\">&#13;\n",
        "                    <span class=\"atr_1\">&#1603;&#1578;&#1576; : &#1605;&#1581;&#1605;&#1608;&#1583; &#1575;&#1604;&#1580;&#1575;&#1585;&#1581;&#1609; &#1608;&#1580;&#1610;&#1607;&#1575;&#1606; &#1593;&#1576;&#1583; &#1575;&#1604;&#1593;&#1586;&#1610;&#1586;</span>&#13;\n",
        "                <span class=\"atr_2\">&#1605;&#1606;&#1584; 22 &#1583;&#1602;&#1610;&#1602;&#1577;</span>&#13;\n",
        "            </div>&#13;\n",
        "        \n",
        "end inner loop\n",
        "outer loop: <Element a at 0x7ff5a187a550> \n",
        "<a href=\"javascript:window.print()\" class=\"print_btn\"> &#1591;&#1576;&#1575;&#1593;&#1577;</a>&#13;\n",
        "         &#13;\n",
        "            \n",
        "inner loop\n",
        "<Element a at 0x7ff5a187a550>\n",
        "<a href=\"javascript:window.print()\" class=\"print_btn\"> &#1591;&#1576;&#1575;&#1593;&#1577;</a>&#13;\n",
        "         &#13;\n",
        "            \n",
        "inner loop\n",
        "<!-- AddThis Button BEGIN -->\n",
        "<!-- AddThis Button BEGIN -->&#13;\n",
        "              \n",
        "inner loop\n",
        "<Element div at 0x7ff5a187ad20>\n",
        "<div>&#13;\n",
        "                <ul class=\"social_btns\">&#13;\n",
        "                <li><a class=\"addthis_button_tweet\"/></li>&#13;\n",
        "                <li><a class=\"addthis_button_google_plusone\" g:plusone:size=\"medium\"/></li>&#13;\n",
        "                <li><a class=\"addthis_counter addthis_pill_style\"/></li>&#13;\n",
        "                <li><a class=\"addthis_button_facebook_like\" fb:like:layout=\"button_count\"/></li>&#13;\n",
        "               </ul>&#13;\n",
        "                </div>               &#13;\n",
        "                \n",
        "inner loop\n",
        "<Element script at 0x7ff5a187ae10>\n",
        "<script type=\"text/javascript\" src=\"http://s7.addthis.com/js/250/addthis_widget.js#pubid=ra-4fe0971970cac661\"/> &#13;\n",
        "            \n",
        "inner loop\n",
        "<!-- AddThis Button END -->\n",
        "<!-- AddThis Button END -->            &#13;\n",
        "            &#13;\n",
        "              &#13;\n",
        "        \n",
        "inner loop\n",
        "None\n",
        "error\n",
        "downloads_id 413070223\n",
        "{u'end_offset': 0, u'end_xpath': u'/html[1]/body[1]/div[2]/div[3]/div[1]/div[2]/div[2]', u'start_offset': 0, u'start_xpath': u'/html[1]/body[1]/div[2]/div[3]/div[1]/div[2]/h1[1]/text()[1]'}\n"
       ]
      }
     ],
     "prompt_number": 40
    },
    {
     "cell_type": "code",
     "collapsed": false,
     "input": [
      "\n",
      "\n",
      "import re \n",
      "htmlparser = etree.HTMLParser()\n",
      "root = etree.fromstring( raw_content, htmlparser )\n",
      "\n",
      "#print annotation[ 'start_xpath' ]\n",
      "annotation = annotations[0]\n",
      "start_container = root.xpath( annotation[ 'start_xpath' ] )[0]\n",
      "end_container   = root.xpath( annotation[ 'end_xpath' ] )[0]\n",
      "\n",
      "get_element_anncestor_indexes( start_container ) \n",
      "#element = start_container.getparent()\n",
      "#annotations.sort( key= lambda a: get_element_anncestor_indexes( root.xpath( a['start_xpath'] )[0] ) )\n",
      "\n",
      "#print row['annotations']\n",
      "\n",
      "print download['downloads_id']\n",
      "a = {u'end_offset': 28, u'end_xpath': u'/html[1]/body[1]/div[2]/div[1]/div[1]/div[3]/div[2]/div[1]/div[1]/div[1]/div[1]/div[1]/article[1]/div[2]/ul[1]/li[2]/time[1]/text()[1]', u'start_offset': 0, u'start_xpath': u'/html[1]/body[1]/div[2]/div[1]/div[1]/div[3]/div[2]/div[1]/div[1]/div[1]/div[1]/div[1]/article[1]/div[2]/ul[1]/li[2]/time[1]/text()[1]'}\n",
      "\n",
      "sp = '/html[1]/body[1]/div[2]/div[1]/div[1]/div[3]/div[2]/div[1]/div[1]/div[1]/div[1]/div[1]/article[1]/div[2]/ul[1]/li[2]/time[1]/text()[1]'\n",
      "s =  '/html[1]/body[1]/div[2]/div[1]/div[1]/div[3]/div[2]/div[1]/div[1]/div[1]/div[1]/div[1]/article[1]/div[2]/ul[1]/li[2]/time[1]/text()[1]'\n",
      "remove_last_div( sp )\n",
      "    \n",
      "\n",
      "#root.xpath( remove_last_div( sp ) )\n",
      "\n",
      "#m = re.search( '\\/div', sp )\n",
      "\n",
      "#m.pos\n",
      "\n",
      "#for a in row['annotations']:\n",
      "#    print a[ 'start_xpath']\n",
      "    #print raw_content\n",
      "#    if len( root.xpath( a[ 'start_xpath' ] ) ) == 0:\n",
      "#        sp = a['start_xpath']\n"
     ],
     "language": "python",
     "metadata": {},
     "outputs": [
      {
       "output_type": "stream",
       "stream": "stdout",
       "text": [
        "582815971\n"
       ]
      },
      {
       "metadata": {},
       "output_type": "pyout",
       "prompt_number": 192,
       "text": [
        "'/html[1]/body[1]/div[2]/div[1]/div[1]/div[3]/div[2]/div[1]/div[1]/div[1]/div[1]/div[1]/article[1]/ul[1]/li[2]/time[1]/text()[1]'"
       ]
      }
     ],
     "prompt_number": 192
    },
    {
     "cell_type": "code",
     "collapsed": false,
     "input": [
      "print len( extractor_training_objects )\n",
      "\n",
      "comps_new_downloads = []\n",
      "for extractor_training_object in extractor_training_objects:\n",
      "    res = comp_extractors( extractor_training_object )\n",
      "    #print res\n",
      "    comps_new_downloads.append( res )\n",
      "\n",
      "#extractor_training_objects\n",
      "    "
     ],
     "language": "python",
     "metadata": {},
     "outputs": [
      {
       "output_type": "stream",
       "stream": "stdout",
       "text": [
        "34\n"
       ]
      }
     ],
     "prompt_number": 205
    },
    {
     "cell_type": "code",
     "collapsed": false,
     "input": [
      "import pandas as pd\n",
      "\n",
      "\n",
      "\n",
      "new_comps = []\n",
      "for comp in comps_new_downloads:\n",
      "    new_comp = {}\n",
      "    new_comp = { 'downloads_id': comp['downloads_id'] }\n",
      "    #del comp['downloads_id']\n",
      "    \n",
      "    extractor_types = [ k for k in comp.keys() if k != 'downloads_id' ]\n",
      "    \n",
      "    for extractor_type in extractor_types:\n",
      "        new_comp.update([ ( k + '_' + extractor_type , v) for k,v in comp[ extractor_type ].iteritems() ])\n",
      "        #new_comp[ k + 'boiler_pipe      \n",
      "\n",
      "    new_comps.append( new_comp )\n",
      "    \n",
      "new_comps\n",
      "df = pd.DataFrame( new_comps )\n",
      "df.set_index('downloads_id', inplace=True )\n",
      "df.describe(percentiles=[.5] )\n",
      "result_types = [ 'precision', 'recall', 'f1' ]\n",
      "for result_type in result_types:\n",
      "    res_columns = [ col for col in df.columns if col.startswith( result_type ) ]\n",
      "    #df.ix[:,['f1_boiler_pipe',\t'f1_crf',\t'f1_heur', 'f1_python_readibilty']].describe()\n",
      "    print df.ix[:,res_columns].describe( percentiles=[0.5])\n",
      "#df.describe()"
     ],
     "language": "python",
     "metadata": {},
     "outputs": [
      {
       "output_type": "stream",
       "stream": "stdout",
       "text": [
        "       precision_crf  precision_heur  precision_justext  precision_py_goose  \\\n",
        "count      34.000000       34.000000                 34           34.000000   \n",
        "mean        0.729586        0.751802                  0            0.898928   \n",
        "std         0.363745        0.265162                  0            0.153675   \n",
        "min         0.000000        0.000000                  0            0.233333   \n",
        "50%         0.923995        0.856004                  0            0.948430   \n",
        "max         0.998221        0.998221                  0            1.000000   \n",
        "\n",
        "       precision_python_readibilty  \n",
        "count                    34.000000  \n",
        "mean                      0.881713  \n",
        "std                       0.162957  \n",
        "min                       0.218750  \n",
        "50%                       0.942969  \n",
        "max                       0.998246  \n",
        "       recall_crf  recall_heur  recall_justext  recall_py_goose  \\\n",
        "count   34.000000    34.000000              34        34.000000   \n",
        "mean     0.705665     0.792661               0         0.859228   \n",
        "std      0.338169     0.221512               0         0.117726   \n",
        "min      0.000000     0.000000               0         0.566069   \n",
        "50%      0.878367     0.877363               0         0.910131   \n",
        "max      0.992126     0.985827               0         0.992126   \n",
        "\n",
        "       recall_python_readibilty  \n",
        "count                 34.000000  \n",
        "mean                   0.879025  \n",
        "std                    0.137697  \n",
        "min                    0.378467  \n",
        "50%                    0.931640  \n",
        "max                    0.992126  \n",
        "          f1_crf    f1_heur  f1_justext  f1_py_goose  f1_python_readibilty\n",
        "count  34.000000  34.000000          34    34.000000             34.000000\n",
        "mean    0.695130   0.750929           0     0.869037              0.864516\n",
        "std     0.345572   0.242706           0     0.129721              0.144475\n",
        "min     0.000000   0.000000           0     0.358974              0.354430\n",
        "50%     0.887016   0.852689           0     0.928846              0.929799\n",
        "max     0.988235   0.985051           0     0.994475              0.988235\n"
       ]
      }
     ],
     "prompt_number": 206
    },
    {
     "cell_type": "code",
     "collapsed": false,
     "input": [
      "df.describe()"
     ],
     "language": "python",
     "metadata": {},
     "outputs": [
      {
       "html": [
        "<div style=\"max-height:1000px;max-width:1500px;overflow:auto;\">\n",
        "<table border=\"1\" class=\"dataframe\">\n",
        "  <thead>\n",
        "    <tr style=\"text-align: right;\">\n",
        "      <th></th>\n",
        "      <th>f1_boiler_pipe</th>\n",
        "      <th>f1_crf</th>\n",
        "      <th>f1_heur</th>\n",
        "      <th>f1_py_goose</th>\n",
        "      <th>f1_python_readibilty</th>\n",
        "      <th>precision_boiler_pipe</th>\n",
        "      <th>precision_crf</th>\n",
        "      <th>precision_heur</th>\n",
        "      <th>precision_py_goose</th>\n",
        "      <th>precision_python_readibilty</th>\n",
        "      <th>recall_boiler_pipe</th>\n",
        "      <th>recall_crf</th>\n",
        "      <th>recall_heur</th>\n",
        "      <th>recall_py_goose</th>\n",
        "      <th>recall_python_readibilty</th>\n",
        "    </tr>\n",
        "  </thead>\n",
        "  <tbody>\n",
        "    <tr>\n",
        "      <th>count</th>\n",
        "      <td> 20.000000</td>\n",
        "      <td> 20.000000</td>\n",
        "      <td> 20.000000</td>\n",
        "      <td> 20.000000</td>\n",
        "      <td> 20.000000</td>\n",
        "      <td> 20.000000</td>\n",
        "      <td> 20.000000</td>\n",
        "      <td> 20.000000</td>\n",
        "      <td> 20.000000</td>\n",
        "      <td> 20.000000</td>\n",
        "      <td> 20.000000</td>\n",
        "      <td> 20.000000</td>\n",
        "      <td> 20.000000</td>\n",
        "      <td> 20.000000</td>\n",
        "      <td> 20.000000</td>\n",
        "    </tr>\n",
        "    <tr>\n",
        "      <th>mean</th>\n",
        "      <td>  0.746430</td>\n",
        "      <td>  0.606308</td>\n",
        "      <td>  0.774217</td>\n",
        "      <td>  0.696688</td>\n",
        "      <td>  0.965652</td>\n",
        "      <td>  0.739779</td>\n",
        "      <td>  0.787245</td>\n",
        "      <td>  0.710740</td>\n",
        "      <td>  0.982540</td>\n",
        "      <td>  0.966188</td>\n",
        "      <td>  0.775660</td>\n",
        "      <td>  0.589271</td>\n",
        "      <td>  0.928525</td>\n",
        "      <td>  0.628317</td>\n",
        "      <td>  0.967279</td>\n",
        "    </tr>\n",
        "    <tr>\n",
        "      <th>std</th>\n",
        "      <td>  0.284490</td>\n",
        "      <td>  0.422257</td>\n",
        "      <td>  0.198469</td>\n",
        "      <td>  0.324057</td>\n",
        "      <td>  0.019898</td>\n",
        "      <td>  0.277227</td>\n",
        "      <td>  0.363474</td>\n",
        "      <td>  0.250716</td>\n",
        "      <td>  0.036192</td>\n",
        "      <td>  0.036165</td>\n",
        "      <td>  0.292057</td>\n",
        "      <td>  0.443180</td>\n",
        "      <td>  0.040053</td>\n",
        "      <td>  0.352459</td>\n",
        "      <td>  0.039788</td>\n",
        "    </tr>\n",
        "    <tr>\n",
        "      <th>min</th>\n",
        "      <td>  0.042053</td>\n",
        "      <td>  0.043321</td>\n",
        "      <td>  0.307073</td>\n",
        "      <td>  0.103261</td>\n",
        "      <td>  0.934272</td>\n",
        "      <td>  0.026814</td>\n",
        "      <td>  0.060606</td>\n",
        "      <td>  0.181963</td>\n",
        "      <td>  0.901538</td>\n",
        "      <td>  0.892601</td>\n",
        "      <td>  0.097421</td>\n",
        "      <td>  0.022140</td>\n",
        "      <td>  0.872690</td>\n",
        "      <td>  0.054441</td>\n",
        "      <td>  0.880531</td>\n",
        "    </tr>\n",
        "    <tr>\n",
        "      <th>25%</th>\n",
        "      <td>  0.713675</td>\n",
        "      <td>  0.061224</td>\n",
        "      <td>  0.764706</td>\n",
        "      <td>  0.508251</td>\n",
        "      <td>  0.943253</td>\n",
        "      <td>  0.631433</td>\n",
        "      <td>  0.734082</td>\n",
        "      <td>  0.654088</td>\n",
        "      <td>  1.000000</td>\n",
        "      <td>  0.943590</td>\n",
        "      <td>  0.823529</td>\n",
        "      <td>  0.039823</td>\n",
        "      <td>  0.887179</td>\n",
        "      <td>  0.340708</td>\n",
        "      <td>  0.938776</td>\n",
        "    </tr>\n",
        "    <tr>\n",
        "      <th>50%</th>\n",
        "      <td>  0.821974</td>\n",
        "      <td>  0.849403</td>\n",
        "      <td>  0.811091</td>\n",
        "      <td>  0.825273</td>\n",
        "      <td>  0.968270</td>\n",
        "      <td>  0.810234</td>\n",
        "      <td>  0.991935</td>\n",
        "      <td>  0.743933</td>\n",
        "      <td>  1.000000</td>\n",
        "      <td>  0.976836</td>\n",
        "      <td>  0.850219</td>\n",
        "      <td>  0.843700</td>\n",
        "      <td>  0.933424</td>\n",
        "      <td>  0.742309</td>\n",
        "      <td>  0.980334</td>\n",
        "    </tr>\n",
        "    <tr>\n",
        "      <th>75%</th>\n",
        "      <td>  0.965665</td>\n",
        "      <td>  0.969828</td>\n",
        "      <td>  0.898824</td>\n",
        "      <td>  0.970976</td>\n",
        "      <td>  0.985207</td>\n",
        "      <td>  0.953390</td>\n",
        "      <td>  1.000000</td>\n",
        "      <td>  0.865079</td>\n",
        "      <td>  1.000000</td>\n",
        "      <td>  1.000000</td>\n",
        "      <td>  0.978261</td>\n",
        "      <td>  0.978261</td>\n",
        "      <td>  0.965217</td>\n",
        "      <td>  0.943590</td>\n",
        "      <td>  1.000000</td>\n",
        "    </tr>\n",
        "    <tr>\n",
        "      <th>max</th>\n",
        "      <td>  0.984694</td>\n",
        "      <td>  0.991329</td>\n",
        "      <td>  0.973913</td>\n",
        "      <td>  0.989011</td>\n",
        "      <td>  0.988806</td>\n",
        "      <td>  0.979695</td>\n",
        "      <td>  1.000000</td>\n",
        "      <td>  1.000000</td>\n",
        "      <td>  1.000000</td>\n",
        "      <td>  1.000000</td>\n",
        "      <td>  0.991786</td>\n",
        "      <td>  1.000000</td>\n",
        "      <td>  0.982808</td>\n",
        "      <td>  0.978261</td>\n",
        "      <td>  1.000000</td>\n",
        "    </tr>\n",
        "  </tbody>\n",
        "</table>\n",
        "</div>"
       ],
       "metadata": {},
       "output_type": "pyout",
       "prompt_number": 37,
       "text": [
        "       f1_boiler_pipe     f1_crf    f1_heur  f1_py_goose  \\\n",
        "count       20.000000  20.000000  20.000000    20.000000   \n",
        "mean         0.746430   0.606308   0.774217     0.696688   \n",
        "std          0.284490   0.422257   0.198469     0.324057   \n",
        "min          0.042053   0.043321   0.307073     0.103261   \n",
        "25%          0.713675   0.061224   0.764706     0.508251   \n",
        "50%          0.821974   0.849403   0.811091     0.825273   \n",
        "75%          0.965665   0.969828   0.898824     0.970976   \n",
        "max          0.984694   0.991329   0.973913     0.989011   \n",
        "\n",
        "       f1_python_readibilty  precision_boiler_pipe  precision_crf  \\\n",
        "count             20.000000              20.000000      20.000000   \n",
        "mean               0.965652               0.739779       0.787245   \n",
        "std                0.019898               0.277227       0.363474   \n",
        "min                0.934272               0.026814       0.060606   \n",
        "25%                0.943253               0.631433       0.734082   \n",
        "50%                0.968270               0.810234       0.991935   \n",
        "75%                0.985207               0.953390       1.000000   \n",
        "max                0.988806               0.979695       1.000000   \n",
        "\n",
        "       precision_heur  precision_py_goose  precision_python_readibilty  \\\n",
        "count       20.000000           20.000000                    20.000000   \n",
        "mean         0.710740            0.982540                     0.966188   \n",
        "std          0.250716            0.036192                     0.036165   \n",
        "min          0.181963            0.901538                     0.892601   \n",
        "25%          0.654088            1.000000                     0.943590   \n",
        "50%          0.743933            1.000000                     0.976836   \n",
        "75%          0.865079            1.000000                     1.000000   \n",
        "max          1.000000            1.000000                     1.000000   \n",
        "\n",
        "       recall_boiler_pipe  recall_crf  recall_heur  recall_py_goose  \\\n",
        "count           20.000000   20.000000    20.000000        20.000000   \n",
        "mean             0.775660    0.589271     0.928525         0.628317   \n",
        "std              0.292057    0.443180     0.040053         0.352459   \n",
        "min              0.097421    0.022140     0.872690         0.054441   \n",
        "25%              0.823529    0.039823     0.887179         0.340708   \n",
        "50%              0.850219    0.843700     0.933424         0.742309   \n",
        "75%              0.978261    0.978261     0.965217         0.943590   \n",
        "max              0.991786    1.000000     0.982808         0.978261   \n",
        "\n",
        "       recall_python_readibilty  \n",
        "count                 20.000000  \n",
        "mean                   0.967279  \n",
        "std                    0.039788  \n",
        "min                    0.880531  \n",
        "25%                    0.938776  \n",
        "50%                    0.980334  \n",
        "75%                    1.000000  \n",
        "max                    1.000000  "
       ]
      }
     ],
     "prompt_number": 37
    },
    {
     "cell_type": "code",
     "collapsed": false,
     "input": [
      "res = compare_extractors_for_download( 461179954 )\n",
      "res"
     ],
     "language": "python",
     "metadata": {},
     "outputs": [
      {
       "output_type": "stream",
       "stream": "stdout",
       "text": [
        "[181, 182, 190, 191, 192, 193, 194, 195, 196, 197]\n",
        "[190, 191, 192, 193, 194, 195, 196, 197]"
       ]
      },
      {
       "output_type": "stream",
       "stream": "stdout",
       "text": [
        "\n",
        "[190, 191, 192, 193, 194, 195, 196, 197, 953, 954, 955, 956, 957, 958, 959, 960, 961, 962, 1157, 1158, 1159, 1160, 1161, 1162, 1163, 1172, 1174, 1175, 1176, 1177, 1178, 1179, 1180, 1189, 1191, 1192, 1193, 1194, 1195, 1306, 1307, 1308, 1309, 1310, 1311, 1312, 1313, 1314, 1315, 2402, 2403, 2404, 2405, 2406, 2407, 2408, 2409, 2410, 2411, 2412, 2769, 2770, 2771, 2772, 2773, 2774, 2775, 2776, 2777, 2778, 2779, 2780, 2781, 2782, 2783, 2784, 2785, 3503, 3504, 3505, 3506, 3507, 3508, 3509, 3510, 3569, 3570, 3571, 3572, 3573]\n",
        "original article tmp file "
       ]
      },
      {
       "output_type": "stream",
       "stream": "stdout",
       "text": [
        " /tmp/tmpGyoriN.html\n",
        "/tmp/tmpDvN04b.html\n",
        "/tmp/tmpGyoriN.html\n",
        "/tmp/tmpGyoriN.html\n",
        "Now open file:///tmp/tmpDvN04b.html in your web browser\n"
       ]
      },
      {
       "output_type": "stream",
       "stream": "stdout",
       "text": [
        "\n"
       ]
      },
      {
       "metadata": {},
       "output_type": "pyout",
       "prompt_number": 38,
       "text": [
        "{'boiler_pipe': {'f1': 0.05381484592027909,\n",
        "  'precision': 0.027653288185107726,\n",
        "  'recall': 0.9976047904191617},\n",
        " 'crf': {'f1': 0.3154066985645933,\n",
        "  'precision': 0.1876993166287016,\n",
        "  'recall': 0.9868263473053892},\n",
        " 'downloads_id': 461179954,\n",
        " 'heur': {'f1': 0.9933694996986137,\n",
        "  'precision': 1.0,\n",
        "  'recall': 0.9868263473053892},\n",
        " 'py_goose': {'f1': 0.9951865222623345,\n",
        "  'precision': 1.0,\n",
        "  'recall': 0.9904191616766467},\n",
        " 'python_readibilty': {'f1': 0.2412060301507538,\n",
        "  'precision': 0.3010752688172043,\n",
        "  'recall': 0.20119760479041915}}"
       ]
      }
     ],
     "prompt_number": 38
    },
    {
     "cell_type": "code",
     "collapsed": false,
     "input": [
      "def gen_data(downloads_id, included_line_numbers):\n",
      "    \n",
      "    heuristic_training_ip = []\n",
      "    c_t_ip = []\n",
      "    h_t_ip = []\n",
      "    \n",
      "    try:\n",
      "        \n",
      "        #api_key = ''\n",
      "        loc_key = api_key\n",
      "    \n",
      "        download = requests.get('https://api.mediacloud.org/api/v2/downloads/single/'+str(downloads_id)+'?key='+api_key)\n",
      "        raw_content = download.json()[0][u'raw_content']\n",
      "        stories_id = download.json()[0][u'stories_id']\n",
      "    \n",
      "        story = requests.get('https://api.mediacloud.org/api/v2/stories/single/'+str(stories_id)+'?key='+api_key)\n",
      "        title = story.json()[0][u'title']\n",
      "        description = story.json()[0][u'description']\n",
      "        url = story.json()[0][u'url']\n",
      "\n",
      "        story_lines_params = {'key':loc_key, 'body_html':raw_content}\n",
      "        \n",
      "        headers = {'Content-type': 'application/json'}\n",
      "        story_lines = requests.put('https://api.mediacloud.org/api/v2/extractlines/story_lines',data=story_lines_params, headers=headers)\n",
      "\n",
      "        #story_lines = requests.get('https://api.mediacloud.org/api/v2/extractlines/story_lines',params=story_lines_params)\n",
      "        \n",
      "        preprocessed_lines = story_lines.text\n",
      "\n",
      "        heur_extract_params = {'key':loc_key, 'preprocessed_lines':preprocessed_lines, 'story_title':title, 'story_description':description, 'extractor_method':'HeuristicExtractor'}\n",
      "        heur_extract = requests.get('https://api.mediacloud.org/api/v2/extractlines/extract',params=heur_extract_params)\n",
      "\n",
      "        crf_extract_params = {'key':loc_key, 'preprocessed_lines':preprocessed_lines, 'story_title':title, 'story_description':description, 'extractor_method':'CrfExtractor'}\n",
      "        crf_extract = requests.get('https://api.mediacloud.org/api/v2/extractlines/extract',params=crf_extract_params)\n",
      "\n",
      "        for ln, hscore in enumerate(heur_extract.json()[u'scores']):\n",
      "\n",
      "            t = 1 if str(ln) in included_line_numbers else 0\n",
      "\n",
      "            if hscore[u'autoexcluded'] != 1:\n",
      "                h_t_ip.append( (t, hscore[u'include_probability']) )\n",
      "\n",
      "            cscore = crf_extract.json()[u'scores'][ln]\n",
      "            if u'autoexcluded' not in cscore:\n",
      "                c_t_ip.append( (t, cscore[u'include_probability']) ) \n",
      "    \n",
      "    except Exception as e:\n",
      "        \n",
      "        pass\n",
      "\n",
      "    return h_t_ip, c_t_ip"
     ],
     "language": "python",
     "metadata": {},
     "outputs": [],
     "prompt_number": 39
    },
    {
     "cell_type": "code",
     "collapsed": false,
     "input": [
      "import mediacloud, requests, csv, sys, os, json, cPickle\n",
      "from pyroc import *\n",
      "\n",
      "#extractor_training_lines_checked has the training lines for downloads for which the highest line listed as 'included' was less than the number of lines in the download (max(included_line_numbers) < len(story_lines.json()))\n",
      "f = open(\"extractor_training_lines_checked.json\").read()\n",
      "reader = json.loads(f)\n",
      "heur = []\n",
      "cPickle.dump(heur, open(\"heur.p\", \"wb\"))\n",
      "crf = []\n",
      "cPickle.dump(crf, open(\"crf.p\", \"wb\"))\n",
      "done = []\n",
      "cPickle.dump(done, open(\"done.p\", \"wb\"))\n",
      "\n",
      "for row in reader[:30]:\n",
      "    \n",
      "    did = row[u'downloads_id']\n",
      "    lns = row[u'included_line_numbers']\n",
      "    \n",
      "    curh, curc = gen_data(did, lns)\n",
      "    \n",
      "    heur+=curh\n",
      "    crf+=curc\n",
      "    done.append(did)\n",
      "    \n",
      "cPickle.dump(done, open(\"done.p\", \"wb\"))\n",
      "cPickle.dump(heur, open(\"heur.p\", \"wb\"))\n",
      "cPickle.dump(crf, open(\"crf.p\", \"wb\"))"
     ],
     "language": "python",
     "metadata": {},
     "outputs": [],
     "prompt_number": 40
    },
    {
     "cell_type": "code",
     "collapsed": false,
     "input": [
      "import cPickle\n",
      "from pyroc import *\n",
      "\n",
      "heur = cPickle.load(open(\"heur.p\",\"rb\"))\n",
      "crf = cPickle.load(open(\"crf.p\",\"rb\"))\n",
      "\n",
      "rocheur = ROCData(heur)\n",
      "roccrf = ROCData(crf)\n",
      "\n",
      "\n",
      "print rocheur.auc()\n",
      "\n",
      "plot_multiple_roc(rocList=(rocheur,roccrf), title='Extractor ROC Curve', labels=(\"heuristic curve\",\"crf curve\"))"
     ],
     "language": "python",
     "metadata": {},
     "outputs": [
      {
       "output_type": "stream",
       "stream": "stdout",
       "text": [
        "0.0\n"
       ]
      },
      {
       "metadata": {},
       "output_type": "display_data",
       "png": "[encoded data removed]",
       "text": [
        "<matplotlib.figure.Figure at 0x7f54c5f3da10>"
       ]
      }
     ],
     "prompt_number": 41
    },
    {
     "cell_type": "code",
     "collapsed": false,
     "input": [
      "annotation = {u'end_offset': 61, \n",
      "             u'start_offset': 0,\n",
      "             u'end_xpath':   u'/html[1]/body[1]/div[2]/div[4]/div[1]/div[3]/div[1]/h1[1]/text()[1]',\n",
      "             u'start_xpath': u'/html[1]/body[1]/div[2]/div[4]/div[1]/div[3]/div[1]/h1[1]/text()[1]'}\n",
      "annotation = {u'end_offset': 28, u'end_xpath': u'/html[1]/body[1]/div[2]/div[4]/div[1]/div[3]/div[1]/div[1]/p[1]/span[3]/text()[1]', u'start_offset': 0, u'start_xpath': u'/html[1]/body[1]/div[2]/div[4]/div[1]/div[3]/div[1]/div[1]/p[1]/span[1]/text()[1]'}\n",
      "\n",
      "annotation = {u'end_offset': 26, u'end_xpath': u'/html[1]/body[1]/div[2]/div[4]/div[1]/div[3]/div[1]/span[1]/p[15]/text()[2]', u'start_offset': 1, u'start_xpath': u'/html[1]/body[1]/div[2]/div[4]/div[1]/div[3]/div[1]/span[1]/span[2]/p[1]/text()[1]'}\n",
      "annotation = {u'end_offset': 272, u'end_xpath': u'/html[1]/body[1]/div[2]/div[4]/div[1]/div[3]/div[1]/span[1]/p[2]/text()[1]', u'start_offset': 0, u'start_xpath': u'/html[1]/body[1]/div[2]/div[4]/div[1]/div[3]/div[1]/span[1]/p[1]/text()[1]'}\n",
      "\n",
      "print annotation\n",
      "\n",
      "get_annotated_text( raw_content, annotation )"
     ],
     "language": "python",
     "metadata": {},
     "outputs": [
      {
       "ename": "IndexError",
       "evalue": "list index out of range",
       "output_type": "pyerr",
       "traceback": [
        "\u001b[1;31m---------------------------------------------------------------------------\u001b[0m\n\u001b[1;31mIndexError\u001b[0m                                Traceback (most recent call last)",
        "\u001b[1;32m<ipython-input-74-d2e2ed8d91bd>\u001b[0m in \u001b[0;36m<module>\u001b[1;34m()\u001b[0m\n\u001b[0;32m     10\u001b[0m \u001b[1;32mprint\u001b[0m \u001b[0mannotation\u001b[0m\u001b[1;33m\u001b[0m\u001b[0m\n\u001b[0;32m     11\u001b[0m \u001b[1;33m\u001b[0m\u001b[0m\n\u001b[1;32m---> 12\u001b[1;33m \u001b[0mget_annotated_text\u001b[0m\u001b[1;33m(\u001b[0m \u001b[0mraw_content\u001b[0m\u001b[1;33m,\u001b[0m \u001b[0mannotation\u001b[0m \u001b[1;33m)\u001b[0m\u001b[1;33m\u001b[0m\u001b[0m\n\u001b[0m",
        "\u001b[1;32m<ipython-input-18-c466c1e999a7>\u001b[0m in \u001b[0;36mget_annotated_text\u001b[1;34m(raw_content, annotation)\u001b[0m\n\u001b[0;32m      6\u001b[0m     \u001b[1;31m#print annotation[ 'start_xpath' ]\u001b[0m\u001b[1;33m\u001b[0m\u001b[1;33m\u001b[0m\u001b[0m\n\u001b[0;32m      7\u001b[0m \u001b[1;33m\u001b[0m\u001b[0m\n\u001b[1;32m----> 8\u001b[1;33m     \u001b[0mstart_container\u001b[0m \u001b[1;33m=\u001b[0m \u001b[0mroot\u001b[0m\u001b[1;33m.\u001b[0m\u001b[0mxpath\u001b[0m\u001b[1;33m(\u001b[0m \u001b[0mannotation\u001b[0m\u001b[1;33m[\u001b[0m \u001b[1;34m'start_xpath'\u001b[0m \u001b[1;33m]\u001b[0m \u001b[1;33m)\u001b[0m\u001b[1;33m[\u001b[0m\u001b[1;36m0\u001b[0m\u001b[1;33m]\u001b[0m\u001b[1;33m\u001b[0m\u001b[0m\n\u001b[0m\u001b[0;32m      9\u001b[0m     \u001b[0mend_container\u001b[0m   \u001b[1;33m=\u001b[0m \u001b[0mroot\u001b[0m\u001b[1;33m.\u001b[0m\u001b[0mxpath\u001b[0m\u001b[1;33m(\u001b[0m \u001b[0mannotation\u001b[0m\u001b[1;33m[\u001b[0m \u001b[1;34m'end_xpath'\u001b[0m \u001b[1;33m]\u001b[0m \u001b[1;33m)\u001b[0m\u001b[1;33m[\u001b[0m\u001b[1;36m0\u001b[0m\u001b[1;33m]\u001b[0m\u001b[1;33m\u001b[0m\u001b[0m\n\u001b[0;32m     10\u001b[0m \u001b[1;33m\u001b[0m\u001b[0m\n",
        "\u001b[1;31mIndexError\u001b[0m: list index out of range"
       ]
      },
      {
       "output_type": "stream",
       "stream": "stdout",
       "text": [
        "{u'end_offset': 272, u'end_xpath': u'/html[1]/body[1]/div[2]/div[4]/div[1]/div[3]/div[1]/span[1]/p[2]/text()[1]', u'start_offset': 0, u'start_xpath': u'/html[1]/body[1]/div[2]/div[4]/div[1]/div[3]/div[1]/span[1]/p[1]/text()[1]'}\n"
       ]
      }
     ],
     "prompt_number": 74
    }
   ],
   "metadata": {}
  }
 ]
}