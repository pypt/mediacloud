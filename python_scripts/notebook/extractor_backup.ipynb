{
 "metadata": {
  "name": "",
  "signature": "sha256:9bc5c7c68eecd72e076efbb4c3bd5e983b34c67910a9e8bd6238a9190859a5eb"
 },
 "nbformat": 3,
 "nbformat_minor": 0,
 "worksheets": [
  {
   "cells": [
    {
     "cell_type": "code",
     "collapsed": false,
     "input": [
      "import mediacloud, requests, csv, sys, os, json\n",
      "from pyroc import *\n",
      "\n",
      "api_key = ''\n",
      "#mc = mediacloud.api.MediaCloud(api_key)\n",
      "\n",
      "loc_key = ''\n",
      "\n",
      "checked = json.load(open(\"extractor_training_lines_checked.json\"))[0]\n",
      "\n",
      "h_t_ip = []\n",
      "c_t_ip = []\n",
      "\n",
      "for dload in checked:\n",
      "    \n",
      "    cur_h_t_ip, cur_c_t_ip = gen_data(dload['downloads_id'],dload['included_line_numbers'],dload['required_line_numbers']) \n",
      "\n",
      "    h_t_ip+= cur_h_t_ip\n",
      "    c_t_ip+= cur_c_t_ip\n",
      "    "
     ],
     "language": "python",
     "metadata": {},
     "outputs": []
    },
    {
     "cell_type": "code",
     "collapsed": false,
     "input": [
      "def gen_data(downloads_id, included_line_numbers, required_line_numbers):\n",
      "    \n",
      "    download = requests.get('https://api.mediacloud.org/api/v2/downloads/single/'+str(downloads_id)+'?key='+api_key)\n",
      "    raw_content = download.json()[0][u'raw_content']\n",
      "    stories_id = download.json()[0][u'stories_id']\n",
      "\n",
      "    story = requests.get('https://api.mediacloud.org/api/v2/stories/single/'+str(stories_id)+'?key='+api_key)\n",
      "    title = story.json()[0][u'title']\n",
      "    description = story.json()[0][u'description']\n",
      "    url = story.json()[0][u'url']\n",
      "    \n",
      "    story_lines_params = {'key':loc_key, 'body_html':raw_content}\n",
      "    story_lines = requests.get('http://0:3000/api/v2/extractlines/story_lines',params=story_lines_params)\n",
      "    preprocessed_lines = story_lines.text\n",
      "    \n",
      "    story_lines_params = {'key':loc_key, 'body_html':raw_content}\n",
      "    story_lines = requests.get('http://0:3000/api/v2/extractlines/story_lines',params=story_lines_params)\n",
      "    preprocessed_lines = story_lines.text\n",
      "    \n",
      "    heur_extract_params = {'key':loc_key, 'preprocessed_lines':preprocessed_lines, 'story_title':title, 'story_description':description, 'extractor_method':'HeuristicExtractor'}\n",
      "    heur_extract = requests.get('http://0:3000/api/v2/extractlines/extract',params=heur_extract_params)\n",
      "\n",
      "    crf_extract_params = {'key':loc_key, 'preprocessed_lines':preprocessed_lines, 'story_title':title, 'story_description':description, 'extractor_method':'CrfExtractor'}\n",
      "    crf_extract = requests.get('http://0:3000/api/v2/extractlines/extract',params=crf_extract_params)\n",
      "\n",
      "    h_t_ip = []\n",
      "    c_t_ip = []\n",
      "    \n",
      "    for ln, hscore in enumerate(heur_extract.json()[u'scores']):\n",
      "        \n",
      "        t = 1 if ln in included_line_numbers else 0\n",
      "        \n",
      "        h_t_ip.append( (t, hscore[u'include_probability']) )\n",
      "        \n",
      "        cscore = crf_extract.json()[u'scores']\n",
      "        if u'auto_excluded' in cscore:\n",
      "            c_t_ip.append( (t, 0) )   \n",
      "        else:\n",
      "            c_t_ip.append( (t, cscore[u'include_probability']) ) \n",
      "            \n",
      "    return h_t_ip, c_t_ip"
     ],
     "language": "python",
     "metadata": {},
     "outputs": []
    }
   ],
   "metadata": {}
  }
 ]
}