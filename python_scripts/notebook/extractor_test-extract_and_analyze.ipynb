{
 "metadata": {
  "name": "",
  "signature": "sha256:36251f9ed62793bb6a9235c94ba308e80fc18929f8acdae9fae37355d9f7553a"
 },
 "nbformat": 3,
 "nbformat_minor": 0,
 "worksheets": [
  {
   "cells": [
    {
     "cell_type": "heading",
     "level": 1,
     "metadata": {},
     "source": [
      "Extractor evaluation"
     ]
    },
    {
     "cell_type": "markdown",
     "metadata": {},
     "source": [
      "This notebook evaluates both Media Cloud's internal extractors and third party FLOSS extractor libraries across a corpus of hand annotated articles.\n",
      "\n",
      "Readers may wish to skip to the results section at the end."
     ]
    },
    {
     "cell_type": "heading",
     "level": 2,
     "metadata": {},
     "source": [
      "Set up / Methods"
     ]
    },
    {
     "cell_type": "code",
     "collapsed": false,
     "input": [
      "import cPickle\n",
      "import os.path\n",
      "\n",
      "api_key = cPickle.load( file( os.path.expanduser( '~/mediacloud_api_key.pickle' ), 'r' ) )"
     ],
     "language": "python",
     "metadata": {},
     "outputs": [],
     "prompt_number": 126
    },
    {
     "cell_type": "code",
     "collapsed": false,
     "input": [
      "import cPickle\n",
      "import os.path\n",
      "\n",
      "cPickle.dump( api_key, file( os.path.expanduser( '~/mediacloud_api_key.pickle' ), 'wb' ) )"
     ],
     "language": "python",
     "metadata": {},
     "outputs": [],
     "prompt_number": 127
    },
    {
     "cell_type": "code",
     "collapsed": false,
     "input": [
      "import sys\n",
      "sys.path.append('../../foreign_modules/python/')"
     ],
     "language": "python",
     "metadata": {},
     "outputs": [],
     "prompt_number": 128
    },
    {
     "cell_type": "code",
     "collapsed": false,
     "input": [
      "loc_key = 'f66a50230d54afaf18822808aed649f1d6ca72b08fb06d5efb6247afe9fbae52'"
     ],
     "language": "python",
     "metadata": {},
     "outputs": [],
     "prompt_number": 129
    },
    {
     "cell_type": "code",
     "collapsed": false,
     "input": [
      "import mediacloud, requests, csv, sys, os, json, cPickle\n",
      "\n",
      "def get_download( downloads_id ):\n",
      "    download = requests.get('https://api.mediacloud.org/api/v2/downloads/single/'+str(downloads_id)+'?key='+api_key)\n",
      "    return download.json()[0]\n",
      "\n",
      "def extract_story( preprocessed_lines, title, description, extractor_method ):\n",
      "    extract_params = {'key':loc_key, 'preprocessed_lines':preprocessed_lines, \n",
      "                           'story_title':title, 'story_description':description, 'extractor_method': extractor_method}\n",
      "    \n",
      "    extract_result = requests.put('http://0:3000/api/v2/extractlines/extract',data=json.dumps(extract_params), \n",
      "                                headers = {'Content-type': 'application/json'})\n",
      "    \n",
      "    extract_result.raise_for_status()\n",
      "    return extract_result.json()\n",
      "\n",
      "def get_story_lines( raw_content ):\n",
      "    story_lines_params = {'key':loc_key, 'body_html':raw_content }\n",
      "    headers = {'Content-type': 'application/json'}\n",
      "    story_lines = requests.put('http://0:3000/api/v2/extractlines/story_lines',data=json.dumps(story_lines_params), \n",
      "                               params={ 'key': loc_key },headers=headers)\n",
      "    \n",
      "    story_lines.raise_for_status()\n",
      "    \n",
      "    return story_lines"
     ],
     "language": "python",
     "metadata": {},
     "outputs": [],
     "prompt_number": 130
    },
    {
     "cell_type": "code",
     "collapsed": false,
     "input": [
      "import subprocess\n",
      "import tempfile\n",
      "import codecs\n",
      "import time\n",
      "from lxml import html\n",
      "\n",
      "#download = get_download( downloads_id )\n",
      "#raw_content = download[u'raw_content']\n",
      "\n",
      "def extract_with_boilerpipe( raw_content ):\n",
      "    with tempfile.NamedTemporaryFile( suffix='.html', delete=False ) as t:\n",
      "        #print t.name\n",
      "    \n",
      "        UTF8Writer = codecs.getwriter('utf8')\n",
      "        t.file = UTF8Writer(t.file)\n",
      "        t.file.write( raw_content )\n",
      "    \n",
      "        t.close()\n",
      "        #time.sleep( 2 )\n",
      "        #print \"original article tmp file \", t.name\n",
      "        \n",
      "        #input_file = '/tmp/416655019.htm'\n",
      "        input_file = t.name\n",
      "        \n",
      "        output_tmp = tempfile.NamedTemporaryFile( suffix='.html', delete=False )\n",
      "        \n",
      "        output_file = output_tmp.name\n",
      "        #output_file = '/tmp/highlighted.html'\n",
      "        #print output_file\n",
      "        \n",
      "        subprocess.check_output(['java', '-jar',\n",
      "                               '/home/dlarochelle/dev_scratch/boilerpipe_test/out/artifacts/boilerpipe_test_jar/boilerpipe_test.jar',\n",
      "                               input_file, output_file ] )\n",
      "        f = open( output_file, 'rb' )\n",
      "        \n",
      "        annotated_file_str = f.read()\n",
      "        \n",
      "        #t.unlink( t.name )\n",
      "        output_tmp.close()\n",
      "        #output_tmp.unlink( output_tmp.name )\n",
      "\n",
      "    tree = html.fromstring( annotated_file_str )   \n",
      "    spans = tree.xpath('//span[@class=\"x-boilerpipe-mark1\"]')\n",
      "    boiler_pipe_lines = [ etree.tostring(s) for s in spans ]\n",
      "\n",
      "    ret = { 'extracted_html': \"\\n\\n\".join(boiler_pipe_lines) }\n",
      "    return ret\n",
      "\n"
     ],
     "language": "python",
     "metadata": {},
     "outputs": [],
     "prompt_number": 131
    },
    {
     "cell_type": "code",
     "collapsed": false,
     "input": [
      "#f = open( '/tmp/tmp01CV6F.html' )\n",
      "#annotated_file_str = f.read()\n",
      "#tree = html.fromstring( annotated_file_str )   \n",
      "#spans = tree.xpath('//span[@class=\"x-boilerpipe-mark1\"]')\n",
      "#span = spans[0]\n",
      "#etree.tostring( span )"
     ],
     "language": "python",
     "metadata": {},
     "outputs": [],
     "prompt_number": 132
    },
    {
     "cell_type": "code",
     "collapsed": false,
     "input": [
      "import readability\n",
      "\n",
      "def extract_with_python_readability( raw_content ):\n",
      "    doc = readability.Document( raw_content )\n",
      "    \n",
      "    return doc.short_title() + \"\\n\\n\" + doc.summary()"
     ],
     "language": "python",
     "metadata": {},
     "outputs": [],
     "prompt_number": 133
    },
    {
     "cell_type": "code",
     "collapsed": true,
     "input": [
      "import goose\n",
      "\n",
      "def extract_with_python_goose( raw_content ):\n",
      "    g = goose.Goose()\n",
      "    \n",
      "    r = g.extract( raw_html=raw_content )\n",
      "    return r.title + \"\\n\\n\" +  r.cleaned_text"
     ],
     "language": "python",
     "metadata": {},
     "outputs": [],
     "prompt_number": 134
    },
    {
     "cell_type": "code",
     "collapsed": false,
     "input": [
      "import justext\n",
      "\n",
      "def extract_with_justext( raw_content ):\n",
      "    ret = []\n",
      "    \n",
      "    paragraphs = justext.justext( raw_content, justext.get_stoplist('English') )\n",
      "    \n",
      "    #p = paragraphs[0]\n",
      "    for p in paragraphs:\n",
      "        if not p.is_boilerplate:\n",
      "            ret.append(p.text)\n",
      "            \n",
      "    return \"\\n\\n\".join(ret)\n",
      "\n",
      "#extract_with_justext( raw_content )\n",
      "#raw_html\n",
      "\n",
      "#justext.get_stoplists()"
     ],
     "language": "python",
     "metadata": {},
     "outputs": [],
     "prompt_number": 135
    },
    {
     "cell_type": "code",
     "collapsed": false,
     "input": [
      "import operator\n",
      "\n",
      "def get_extractor_training_text( downloads_id, preprocessed_lines ):\n",
      "    extractor_training_lines_result = requests.get(\n",
      "                                                   'https://api.mediacloud.org/api/v2/extractlines/extractor_training_lines/' + str(downloads_id),\n",
      "                                               headers = {'Content-type': 'application/json'}\n",
      "                                               , params= {'key': api_key}\n",
      "                                               )\n",
      "\n",
      "    extractor_training_lines_result.raise_for_status()\n",
      "\n",
      "    extractor_training_lines_result = extractor_training_lines_result.json()\n",
      "    \n",
      "    line_numbers = [ x['line_number'] for x in extractor_training_lines_result ]\n",
      "    \n",
      "    line_numbers = sorted(line_numbers)\n",
      "    \n",
      "    line_numbers.sort()\n",
      "    \n",
      "    #print line_numbers\n",
      "    \n",
      "    return operator.itemgetter( * line_numbers )( preprocessed_lines  )\n",
      "\n",
      "import operator\n",
      "\n",
      "def get_extracted_text( extractor_results ):\n",
      "    included_line_numbers = extractor_results['included_line_numbers']\n",
      "    #print included_line_numbers\n",
      "    \n",
      "    dl = extractor_results['download_lines']\n",
      "   \n",
      "    if len( included_line_numbers ) == 0:\n",
      "        return []\n",
      "    else:    \n",
      "        return operator.itemgetter( * extractor_results['included_line_numbers']   )(dl)\n",
      "    \n"
     ],
     "language": "python",
     "metadata": {},
     "outputs": [],
     "prompt_number": 136
    },
    {
     "cell_type": "code",
     "collapsed": false,
     "input": [
      "#import Levenshtein\n",
      "\n",
      "def lines_to_comparable_text( lines ):\n",
      "    text = u\"\\n\\n\".join([ clean_for_comparison(line) for line in lines ])\n",
      "    \n",
      "    if text == '':\n",
      "        text = u''\n",
      "        \n",
      "    return text\n",
      "\n",
      "def html_to_comparable_text( html_text ):\n",
      "    text = clean_for_comparison( html_text )\n",
      "    \n",
      "    if text == '' or text == None:\n",
      "        text = u''\n",
      "        \n",
      "    return text\n",
      "    \n",
      "    \n",
      "#def compare_accuracy( lines, lines_expected ):\n",
      "#    return Levenshtein.distance( lines_to_comparable_text( lines ) , lines_to_comparable_text( lines_expected ) )"
     ],
     "language": "python",
     "metadata": {},
     "outputs": [],
     "prompt_number": 137
    },
    {
     "cell_type": "code",
     "collapsed": false,
     "input": [
      "def get_anncestors( element ):\n",
      "    anncestors = [ element ];\n",
      "    anncestor = element.getparent()\n",
      "    \n",
      "    while anncestor != None :\n",
      "        #print 'loop'\n",
      "        anncestors.append( anncestor )\n",
      "        anncestor = anncestor.getparent()\n",
      "        \n",
      "    return anncestors"
     ],
     "language": "python",
     "metadata": {},
     "outputs": [],
     "prompt_number": 138
    },
    {
     "cell_type": "code",
     "collapsed": false,
     "input": [
      "def text_from_lxml_object( obj):\n",
      "    if type(obj) is etree._ElementStringResult:\n",
      "        return u'' + obj\n",
      "    if type(obj) ==  etree._ElementUnicodeResult:\n",
      "        return u'' + obj \n",
      "    else:\n",
      "        try:\n",
      "            return etree.tostring( obj , method='text', encoding=\"UTF-8\") \n",
      "        except:\n",
      "            print type(obj)\n",
      "            print obj\n",
      "            \n",
      "            raise ''"
     ],
     "language": "python",
     "metadata": {},
     "outputs": [],
     "prompt_number": 139
    },
    {
     "cell_type": "code",
     "collapsed": false,
     "input": [
      "from lxml import etree\n",
      "\n",
      "downloads_id =  582817308 \n",
      "download = get_download( downloads_id )\n",
      "raw_content = download[ 'raw_content' ]\n",
      "with open( '/tmp/' + str(downloads_id) , 'wb' ) as f:\n",
      "    f.write( raw_content )\n"
     ],
     "language": "python",
     "metadata": {},
     "outputs": [],
     "prompt_number": 140
    },
    {
     "cell_type": "code",
     "collapsed": false,
     "input": [
      "from nltk import tokenize\n",
      "\n",
      "def remove_duplicate_sentences( article_html, story ):\n",
      "    #sentences_from_html\n",
      "    extract_params = {'key':loc_key, 'story_html': article_html }\n",
      "    \n",
      "    extract_result = requests.put('http://0:3000/api/v2/extractlines/sentences_from_html',data=json.dumps(extract_params), \n",
      "                                headers = {'Content-type': 'application/json'})\n",
      "    \n",
      "    #print \"article_html:\\n\", article_html\n",
      "    \n",
      "    extract_result.raise_for_status()\n",
      "    sentences = extract_result.json()\n",
      "    \n",
      "    #print \"sentences\", sentences\n",
      "    \n",
      "    #comp_text = lines_to_comparable_text( text_lines )\n",
      "    #sentences = [ sent.strip()  for sent in tokenize.sent_tokenize( comp_text ) ]\n",
      "    #print sentences\n",
      "    non_duplicate_sentences = [sentence for sentence in sentences if not sentence_is_duplicate( sentence, story ) ] \n",
      "    return u\"\\n\".join( non_duplicate_sentences )\n",
      " "
     ],
     "language": "python",
     "metadata": {},
     "outputs": [],
     "prompt_number": 141
    },
    {
     "cell_type": "code",
     "collapsed": false,
     "input": [
      "def html_strip( str ):\n",
      "    if str.isspace() or str == '':\n",
      "        return u' '\n",
      "    \n",
      "    if str == '<':\n",
      "        return u' '        \n",
      "    \n",
      "    try:\n",
      "        return html.fromstring(str).text_content()    \n",
      "    except:\n",
      "        print \"Unexpected error on string '\" + str + \"'\" , sys.exc_info()[0]\n",
      "        #raise\n",
      "        return u''       \n",
      "\n",
      "def clean_for_comparison( str ):\n",
      "    if len(str) > 0:\n",
      "        ret = html_strip( str )\n",
      "    else:\n",
      "        return str\n",
      "    \n",
      "    return ret    "
     ],
     "language": "python",
     "metadata": {},
     "outputs": [],
     "prompt_number": 142
    },
    {
     "cell_type": "code",
     "collapsed": false,
     "input": [
      "def extract_with_mc_extractor( eto, method ):\n",
      "    story = eto['story']\n",
      "    preprocessed_lines = eto['preprocessed_lines']\n",
      "    title = story[u'title']\n",
      "    description = story[u'description']\n",
      "    \n",
      "    extract_result = extract_story( preprocessed_lines, title, description, method)\n",
      "    #html_lines = get_extracted_text( extract_result )\n",
      "    \n",
      "    ret = {}\n",
      "    \n",
      "    ret['extracted_html'] = extract_result[ 'extracted_html' ]\n",
      "    \n",
      "    return ret\n",
      "\n",
      "def extract_with_heur( eto ):\n",
      "    return extract_with_mc_extractor( eto, 'HeuristicExtractor' )\n",
      "\n",
      "def extract_with_crf( eto ):\n",
      "    return extract_with_mc_extractor( eto, 'CrfExtractor' )"
     ],
     "language": "python",
     "metadata": {},
     "outputs": [],
     "prompt_number": 143
    },
    {
     "cell_type": "code",
     "collapsed": false,
     "input": [
      "import difflib\n",
      "from IPython.display import HTML\n",
      "\n",
      "from collections import Counter\n",
      "\n",
      "def ratcliff_obershelp_compare( actual_text, expected_text ):\n",
      "    \n",
      "    words_expected = expected_text.split()\n",
      "    words_crf      = actual_text.split()\n",
      "    \n",
      "    differ = difflib.Differ( )\n",
      "    \n",
      "    #print words_crf[:10]\n",
      "    #print words_expected[:10]\n",
      "    list( differ.compare( words_crf , words_expected ) )\n",
      "    counts = Counter([ d[0] for d in differ.compare( words_expected, words_crf   ) ])\n",
      "    \n",
      "    tp = counts[' ']\n",
      "    fp = counts['+']\n",
      "    fn = counts['-']\n",
      "    \n",
      "    if float(tp+fp) == 0:\n",
      "        precision = 0.0\n",
      "    else:\n",
      "        precision = tp/float(tp+fp)\n",
      "        \n",
      "    if float( tp + fn ) == 0:\n",
      "        recall = 0\n",
      "    else:\n",
      "        recall    = tp/float( tp + fn )\n",
      "    \n",
      "    if ( precision + recall ) > 0:\n",
      "        f1 = 2*(precision*recall)/( precision + recall )\n",
      "    else:\n",
      "        f1 = 0\n",
      "    \n",
      "    ret = { 'precision': precision,\n",
      "        'recall': recall,\n",
      "        'f1': f1\n",
      "    }\n",
      "    \n",
      "    return ret\n",
      "\n",
      "def compare_with_expected( extractor_name, actual_text, actual_html, expected_text, story ):\n",
      "    #actual_text = lines_to_comparable_text( actual_lines )\n",
      "    #expected_text = lines_to_comparable_text( expected_lines )\n",
      "    ret = {}\n",
      "    ret[ extractor_name ] = ratcliff_obershelp_compare( actual_text, expected_text )\n",
      "    \n",
      "    if compare_deduplicated:\n",
      "        dedup_text = remove_duplicate_sentences( actual_html, story )\n",
      "        \n",
      "        ret[ extractor_name + \"_dedup\" ] = ratcliff_obershelp_compare( dedup_text, expected_text )\n",
      "    \n",
      "    return ret"
     ],
     "language": "python",
     "metadata": {},
     "outputs": [],
     "prompt_number": 144
    },
    {
     "cell_type": "code",
     "collapsed": false,
     "input": [
      "ratcliff_obershelp_compare( actual_text='foo', expected_text='bar foo baz BAST')"
     ],
     "language": "python",
     "metadata": {},
     "outputs": [
      {
       "metadata": {},
       "output_type": "pyout",
       "prompt_number": 145,
       "text": [
        "{'f1': 0.4, 'precision': 1.0, 'recall': 0.25}"
       ]
      }
     ],
     "prompt_number": 145
    },
    {
     "cell_type": "code",
     "collapsed": false,
     "input": [
      "def get_extraction_results( eto ):\n",
      "\n",
      "    raw_content = eto[ 'raw_content' ]\n",
      "    \n",
      "    assert raw_content != None\n",
      "    assert len(raw_content ) > 0\n",
      "        \n",
      "    ret = {}\n",
      "    \n",
      "    \n",
      "    ret['heur'] = extract_with_heur( eto )\n",
      "    ret['crf'] = extract_with_crf( eto )\n",
      "    ret['boiler_pipe'] =   extract_with_boilerpipe( raw_content)\n",
      "    ret['py_boiler_pipe'] =  extract_with_py_boilerpipe( raw_content)\n",
      "    ret['python_readibilty'] = { 'extracted_html': extract_with_python_readability( raw_content ) }\n",
      "    #ret['py_goose']  = { 'extracted_html': extract_with_python_goose( raw_content ) }\n",
      "    ret['justext'] =  { 'extracted_html': extract_with_justext( raw_content ) }\n",
      "    \n",
      "    for method, result in ret.iteritems():\n",
      "        if 'extracted_text' not in result:\n",
      "            result['extracted_text'] = html_to_comparable_text( result['extracted_html' ] )\n",
      "            \n",
      "    return ret"
     ],
     "language": "python",
     "metadata": {},
     "outputs": [],
     "prompt_number": 146
    },
    {
     "cell_type": "code",
     "collapsed": false,
     "input": [
      "def compare_extractors_for_download( downloads_id ):\n",
      "    \n",
      "    eto = create_extractor_training_object( downloads_id )\n",
      "    \n",
      "    return comp_extractors( eto )    \n",
      "    \n",
      "def comp_extractors( eto ):    \n",
      "    downloads_id = eto['downloads_id']\n",
      "    media_id     = eto['media_id' ]\n",
      "    story = eto['story']\n",
      "    raw_content = eto['raw_content']\n",
      "    preprocessed_lines = eto['preprocessed_lines']\n",
      "    expected_text = eto['expected_text']\n",
      "        \n",
      "    title = story[u'title']\n",
      "    description = story[u'description']\n",
      "    url = story[u'url']\n",
      "    \n",
      "    extraction_results = get_extraction_results( eto )\n",
      "    \n",
      "    comp_results = {}\n",
      "        \n",
      "    comp_results['downloads_id'] = downloads_id\n",
      "    \n",
      "    comp_results['media_id']  = media_id\n",
      "    \n",
      "    comp_results['story_is_spidered'] = eto['story_is_spidered']\n",
      "    \n",
      "    for name, value in extraction_results.iteritems():\n",
      "        #print name, value\n",
      "        comp_results.update (compare_with_expected( name, value['extracted_text'], value['extracted_html'], expected_text, story ) )\n",
      "    \n",
      "    comp_results.update( compare_with_expected( 'gold', expected_text, expected_text, expected_text, story ) )\n",
      "    \n",
      "    return comp_results"
     ],
     "language": "python",
     "metadata": {},
     "outputs": [],
     "prompt_number": 147
    },
    {
     "cell_type": "code",
     "collapsed": false,
     "input": [
      "import sys\n",
      "\n",
      "sys.path.append('../')\n",
      "\n",
      "import mc_config\n",
      "\n",
      "def get_db_info():\n",
      "    config_file = mc_config.read_config()\n",
      "    \n",
      "    db_infos = config_file['database']\n",
      "    db_info = next (db_info for db_info in db_infos if db_info['port'] == '6000' )\n",
      "    return db_info\n",
      "\n",
      "import psycopg2\n",
      "#import solr_reimport\n",
      "import psycopg2.extras\n",
      "\n",
      "#db_info = get_db_info()\n",
      "\n",
      "#conn = psycopg2.connect( database=db_info['db'], user=db_info['user'], \n",
      "#                        password=db_info['pass'], host=db_info['host'], port=db_info['port'] )\n",
      "\n",
      "conn = None\n",
      "\n",
      "story_sentence_counts_cache = {}\n",
      "\n",
      "def get_sentence_counts( sentence, story ):\n",
      "\n",
      "    stories_id = story['stories_id']\n",
      "    \n",
      "    if not stories_id in story_sentence_counts_cache:\n",
      "        story_sentence_counts_cache[ stories_id ] = {}\n",
      "        \n",
      "    if sentence in story_sentence_counts_cache[ stories_id ]:\n",
      "        return story_sentence_counts_cache[stories_id ][sentence]\n",
      "\n",
      "    global conn \n",
      "    \n",
      "    if conn == None:        \n",
      "        db_info = get_db_info()\n",
      "        \n",
      "        conn = psycopg2.connect( database=db_info['db'], user=db_info['user'], \n",
      "                                password=db_info['pass'], host=db_info['host'], port=db_info['port'] )\n",
      "\n",
      "        \n",
      "    cursor = conn.cursor(cursor_factory=psycopg2.extras.DictCursor)\n",
      "    query = '''               \n",
      "                   SELECT MIN( story_sentence_counts_id) AS story_sentence_counts_id, sentence_count, first_stories_id,\n",
      "                   sentence_md5\n",
      "            FROM story_sentence_counts\n",
      "            WHERE sentence_md5  = md5(%(sentence)s)\n",
      "              AND media_id = %(media_id)s\n",
      "              AND publish_week =  DATE_TRUNC( 'week', %(publish_date)s::date )\n",
      "            GROUP BY story_sentence_counts_id\n",
      "    '''\n",
      "    \n",
      "    #print sentence\n",
      "    #md5_sum = md5.new( sentence ).hexdigest()\n",
      "    \n",
      "    params = { 'sentence': sentence,\n",
      "                            'media_id': story['media_id'], \n",
      "                            'publish_date': story['publish_date']\n",
      "                            } \n",
      "    \n",
      "    #print params\n",
      "    \n",
      "    #print eto[ 'story'] ['stories_id' ]\n",
      "    cursor.execute( query, params )\n",
      "    \n",
      "    fetched = cursor.fetchall()\n",
      "    \n",
      "    if len( fetched ) == 0:\n",
      "        story_sentence_counts_cache[ stories_id ][sentence] = None\n",
      "    else:\n",
      "        story_sentence_counts_cache[ stories_id ][sentence] = dict(fetched[0])\n",
      "        \n",
      "    return story_sentence_counts_cache[stories_id ][sentence]\n",
      "    \n",
      "def sentence_is_duplicate( sentence, story ):\n",
      "    sentence_counts = get_sentence_counts( sentence, story )\n",
      "    \n",
      "    if sentence_counts != None:\n",
      "        if sentence_counts['sentence_count'] > 1:\n",
      "            #print \"duplicate sentence\", sentence\n",
      "            return True\n",
      "        elif sentence_counts['first_stories_id'] == story['stories_id']:\n",
      "            return True\n",
      "            #print \"duplicate sentence (diff first_stories_id) \", sentence\n",
      "            \n",
      "    else:\n",
      "        return False\n",
      "        pass\n",
      "        #print \"sentence not found \", sentence \n",
      "\n",
      "    "
     ],
     "language": "python",
     "metadata": {},
     "outputs": [],
     "prompt_number": 148
    },
    {
     "cell_type": "code",
     "collapsed": false,
     "input": [
      "import pandas as pd\n",
      "\n",
      "def get_data_frame_from_comparision_objects( comparison_objects ):\n",
      "    \n",
      "    assert len( comparison_objects ) > 0 \n",
      "    new_comps = []\n",
      "    for comp in comparison_objects:\n",
      "        \n",
      "        new_comp = {}\n",
      "        new_comp = { 'downloads_id': comp['downloads_id'] }\n",
      "        \n",
      "        extractor_types = [ k for k in comp.keys() if k not in { 'downloads_id', 'media_id', 'story_is_spidered' }  ]\n",
      "        \n",
      "        for extractor_type in extractor_types:\n",
      "            new_comp.update([ ( k + '_' + extractor_type , v) for k,v in comp[ extractor_type ].iteritems() ])\n",
      "            \n",
      "        new_comps.append( new_comp )\n",
      "        \n",
      "    df = pd.DataFrame( new_comps )\n",
      "    df.set_index('downloads_id', inplace=True )\n",
      "    return df\n"
     ],
     "language": "python",
     "metadata": {},
     "outputs": [],
     "prompt_number": 171
    },
    {
     "cell_type": "code",
     "collapsed": false,
     "input": [
      "import boilerpipe.extract\n",
      "\n",
      "def extract_with_py_boilerpipe( raw_content ):\n",
      "    e = boilerpipe.extract.Extractor( extractor='ArticleExtractor', html=raw_content )\n",
      "    html = e.getHTML()\n",
      "\n",
      "    ret = { 'extracted_html': html }\n",
      "    return ret\n",
      "\n"
     ],
     "language": "python",
     "metadata": {},
     "outputs": [],
     "prompt_number": 150
    },
    {
     "cell_type": "code",
     "collapsed": false,
     "input": [
      "def print_results_by_measurement_type( df ):\n",
      "    df.describe(percentiles=[.5] )\n",
      "    result_types = [ 'precision', 'recall', 'f1' ]\n",
      "    for result_type in result_types:\n",
      "        res_columns = [ col for col in df.columns if col.startswith( result_type ) ]\n",
      "        #df.ix[:,['f1_boiler_pipe',\t'f1_crf',\t'f1_heur', 'f1_python_readibilty']].describe()\n",
      "        print df.ix[:,res_columns].describe( percentiles=[0.02, 0.05,.1,0.5])"
     ],
     "language": "python",
     "metadata": {},
     "outputs": [],
     "prompt_number": 151
    },
    {
     "cell_type": "code",
     "collapsed": false,
     "input": [
      "def filter_by_media_tags_id( comps_downloads, media_tags_ids ):\n",
      "    media_ids_matching = set()\n",
      "    #print media_id_media_map\n",
      "    for media_id, media in media_id_media_map.iteritems():\n",
      "        if not media[ 'media_source_tags_ids'].isdisjoint( media_tags_ids ):\n",
      "            media_ids_matching.add( media_id )\n",
      "            \n",
      "    return  [cd for cd in comps_downloads if cd['media_id'] in media_ids_matching ]"
     ],
     "language": "python",
     "metadata": {},
     "outputs": [],
     "prompt_number": 152
    },
    {
     "cell_type": "code",
     "collapsed": false,
     "input": [
      "def remove_spidered_downloads( comps_downloads ):           \n",
      "    return  [cd for cd in comps_downloads if not cd['story_is_spidered'] ]\n",
      "\n",
      "def only_spidered_downloads( comps_downloads ):           \n",
      "    return  [cd for cd in comps_downloads if cd['story_is_spidered'] ]"
     ],
     "language": "python",
     "metadata": {},
     "outputs": [],
     "prompt_number": 153
    },
    {
     "cell_type": "code",
     "collapsed": false,
     "input": [
      "def story_is_spidered( story ):\n",
      "    for taginfo in story['story_tags']:\n",
      "        if taginfo['tag'] == 'spidered' and taginfo['tag_set'] == 'spidered':\n",
      "            return True\n",
      "    \n",
      "    return False"
     ],
     "language": "python",
     "metadata": {},
     "outputs": [],
     "prompt_number": 94
    },
    {
     "cell_type": "heading",
     "level": 1,
     "metadata": {},
     "source": [
      "Flags"
     ]
    },
    {
     "cell_type": "code",
     "collapsed": false,
     "input": [
      "regenerate_extractor_training_objects = True\n",
      "regenerate_media_id_media_map         = True\n",
      "regenerate_comps_downloads            = True\n",
      "compare_deduplicated                  = False"
     ],
     "language": "python",
     "metadata": {},
     "outputs": [],
     "prompt_number": 164
    },
    {
     "cell_type": "heading",
     "level": 2,
     "metadata": {},
     "source": [
      "Constants"
     ]
    },
    {
     "cell_type": "heading",
     "level": 1,
     "metadata": {},
     "source": [
      "Data Analysis"
     ]
    },
    {
     "cell_type": "heading",
     "level": 2,
     "metadata": {},
     "source": [
      "Load Data"
     ]
    },
    {
     "cell_type": "code",
     "collapsed": false,
     "input": [
      "extractor_training_objects = cPickle.load( file( \n",
      "                                                os.path.expanduser( '~/Dropbox/mc/extractor_test/extractor_training_objects.pickle' ), \"rb\" ) )\n",
      "\n",
      "#cPickle.load( open( \"extractor_traning_objects.pickle\", \"rb\") )"
     ],
     "language": "python",
     "metadata": {},
     "outputs": [],
     "prompt_number": 157
    },
    {
     "cell_type": "heading",
     "level": 3,
     "metadata": {},
     "source": [
      "Look up Media Tags"
     ]
    },
    {
     "cell_type": "code",
     "collapsed": false,
     "input": [
      "len( extractor_training_objects )\n",
      "[ eto['media_id'] for eto in extractor_training_objects ]"
     ],
     "language": "python",
     "metadata": {},
     "outputs": [
      {
       "metadata": {},
       "output_type": "pyout",
       "prompt_number": 191,
       "text": [
        "[66924,\n",
        " 1630,\n",
        " 4418,\n",
        " 1607,\n",
        " 8,\n",
        " 1094,\n",
        " 28,\n",
        " 1658,\n",
        " 1311,\n",
        " 28,\n",
        " 1728,\n",
        " 4418,\n",
        " 28,\n",
        " 1259,\n",
        " 66951,\n",
        " 1589,\n",
        " 1747,\n",
        " 1648,\n",
        " 1641,\n",
        " 4419,\n",
        " 1452,\n",
        " 1730,\n",
        " 1747,\n",
        " 1728,\n",
        " 4418,\n",
        " 1726,\n",
        " 4418,\n",
        " 1726,\n",
        " 7,\n",
        " 1095,\n",
        " 4418,\n",
        " 1733,\n",
        " 1728,\n",
        " 8,\n",
        " 28,\n",
        " 1726,\n",
        " 1728,\n",
        " 1684,\n",
        " 18210,\n",
        " 1750,\n",
        " 1490,\n",
        " 1752,\n",
        " 1751,\n",
        " 1729,\n",
        " 18210,\n",
        " 4,\n",
        " 1747,\n",
        " 1729,\n",
        " 1747,\n",
        " 1092,\n",
        " 1094,\n",
        " 40789,\n",
        " 4418,\n",
        " 1149,\n",
        " 28,\n",
        " 1731,\n",
        " 15,\n",
        " 1607,\n",
        " 40584,\n",
        " 1452,\n",
        " 7,\n",
        " 1724,\n",
        " 1731,\n",
        " 1729,\n",
        " 1730,\n",
        " 8,\n",
        " 4418,\n",
        " 1655,\n",
        " 1726,\n",
        " 1750,\n",
        " 1729,\n",
        " 1724,\n",
        " 40405,\n",
        " 1728,\n",
        " 4418,\n",
        " 1731,\n",
        " 1728,\n",
        " 1398,\n",
        " 7,\n",
        " 1726,\n",
        " 1733,\n",
        " 1726,\n",
        " 1694,\n",
        " 4418,\n",
        " 1725,\n",
        " 1311,\n",
        " 1750,\n",
        " 1490,\n",
        " 1747,\n",
        " 4418,\n",
        " 40789,\n",
        " 1729,\n",
        " 1596,\n",
        " 1149,\n",
        " 61322,\n",
        " 1730,\n",
        " 1729,\n",
        " 1568,\n",
        " 1589,\n",
        " 1747,\n",
        " 1729,\n",
        " 1089,\n",
        " 1728,\n",
        " 23,\n",
        " 1095,\n",
        " 1630,\n",
        " 66949,\n",
        " 1452,\n",
        " 1655,\n",
        " 1729,\n",
        " 1747,\n",
        " 28,\n",
        " 1726,\n",
        " 1585,\n",
        " 1674,\n",
        " 1747,\n",
        " 1726,\n",
        " 1694,\n",
        " 18203,\n",
        " 1670,\n",
        " 66957,\n",
        " 1200,\n",
        " 1728,\n",
        " 39677,\n",
        " 1750,\n",
        " 7,\n",
        " 1726,\n",
        " 1747,\n",
        " 1728,\n",
        " 1726,\n",
        " 4418,\n",
        " 1730,\n",
        " 28,\n",
        " 1658,\n",
        " 18210,\n",
        " 1726,\n",
        " 1549,\n",
        " 28,\n",
        " 1747,\n",
        " 1740,\n",
        " 1747,\n",
        " 1728,\n",
        " 1655,\n",
        " 1641,\n",
        " 23,\n",
        " 39677,\n",
        " 39677,\n",
        " 1589,\n",
        " 1726,\n",
        " 1585,\n",
        " 1352,\n",
        " 1589,\n",
        " 1352,\n",
        " 1725,\n",
        " 1655,\n",
        " 1585,\n",
        " 1725,\n",
        " 1585,\n",
        " 102680,\n",
        " 102741,\n",
        " 102647,\n",
        " 1747,\n",
        " 4418,\n",
        " 64110,\n",
        " 18213,\n",
        " 1667,\n",
        " 1726,\n",
        " 102693,\n",
        " 28,\n",
        " 28,\n",
        " 102741,\n",
        " 1728,\n",
        " 1349,\n",
        " 102744,\n",
        " 4418,\n",
        " 4418,\n",
        " 1726,\n",
        " 102673,\n",
        " 102618,\n",
        " 1733,\n",
        " 1728,\n",
        " 102635,\n",
        " 1607,\n",
        " 1726,\n",
        " 1724,\n",
        " 18210,\n",
        " 1726,\n",
        " 102629,\n",
        " 1626,\n",
        " 102634,\n",
        " 102747,\n",
        " 18210,\n",
        " 102694,\n",
        " 8,\n",
        " 1149,\n",
        " 14,\n",
        " 1728,\n",
        " 102769,\n",
        " 1352,\n",
        " 1589,\n",
        " 1724,\n",
        " 102769,\n",
        " 102744,\n",
        " 39648,\n",
        " 1359,\n",
        " 102652,\n",
        " 1549,\n",
        " 102629,\n",
        " 1747,\n",
        " 102708,\n",
        " 1726,\n",
        " 1751,\n",
        " 1728,\n",
        " 4418,\n",
        " 1728,\n",
        " 102691,\n",
        " 1675,\n",
        " 28,\n",
        " 1729,\n",
        " 102635,\n",
        " 1650,\n",
        " 102689,\n",
        " 1728,\n",
        " 4418,\n",
        " 1751,\n",
        " 1094,\n",
        " 102770,\n",
        " 1675,\n",
        " 18213,\n",
        " 1747,\n",
        " 102744,\n",
        " 1,\n",
        " 1536,\n",
        " 1729,\n",
        " 104903,\n",
        " 4415,\n",
        " 104950,\n",
        " 18350,\n",
        " 18886,\n",
        " 105130,\n",
        " 104881,\n",
        " 6162,\n",
        " 19127,\n",
        " 2,\n",
        " 102618,\n",
        " 102618,\n",
        " 39677,\n",
        " 1728,\n",
        " 1680,\n",
        " 102634,\n",
        " 39648,\n",
        " 102769,\n",
        " 1651,\n",
        " 1750,\n",
        " 41771,\n",
        " 102739,\n",
        " 1729,\n",
        " 8,\n",
        " 28,\n",
        " 1347,\n",
        " 1742,\n",
        " 2,\n",
        " 1733,\n",
        " 102635,\n",
        " 102689,\n",
        " 39648,\n",
        " 4418,\n",
        " 4418,\n",
        " 1728,\n",
        " 14,\n",
        " 4418,\n",
        " 1452,\n",
        " 1655,\n",
        " 1733,\n",
        " 1726,\n",
        " 1733,\n",
        " 1731,\n",
        " 107088,\n",
        " 83352,\n",
        " 4418,\n",
        " 102647,\n",
        " 4418,\n",
        " 1730,\n",
        " 102689,\n",
        " 1733,\n",
        " 1490,\n",
        " 1733,\n",
        " 102637,\n",
        " 102611,\n",
        " 1092,\n",
        " 102747,\n",
        " 4418,\n",
        " 1725,\n",
        " 1641,\n",
        " 102639,\n",
        " 1747,\n",
        " 102747,\n",
        " 1648,\n",
        " 102741,\n",
        " 1733,\n",
        " 102759,\n",
        " 1490,\n",
        " 564,\n",
        " 102747,\n",
        " 1726,\n",
        " 39677,\n",
        " 102766,\n",
        " 102618,\n",
        " 18210,\n",
        " 102741,\n",
        " 102657,\n",
        " 1376,\n",
        " 1729,\n",
        " 39,\n",
        " 1726,\n",
        " 102635,\n",
        " 1747,\n",
        " 102670,\n",
        " 1685,\n",
        " 1733,\n",
        " 1724,\n",
        " 1420,\n",
        " 28,\n",
        " 102671,\n",
        " 1729,\n",
        " 1650,\n",
        " 1724,\n",
        " 102629,\n",
        " 58992,\n",
        " 58992,\n",
        " 23464,\n",
        " 102745,\n",
        " 1149,\n",
        " 39,\n",
        " 41502,\n",
        " 1728,\n",
        " 39008,\n",
        " 1728,\n",
        " 63247,\n",
        " 23209,\n",
        " 107692,\n",
        " 1728,\n",
        " 1730,\n",
        " 2,\n",
        " 1733,\n",
        " 23881,\n",
        " 1726,\n",
        " 102770,\n",
        " 1725,\n",
        " 1694,\n",
        " 1726,\n",
        " 1726,\n",
        " 1654,\n",
        " 1680,\n",
        " 102673,\n",
        " 4418,\n",
        " 1726,\n",
        " 1728,\n",
        " 102637,\n",
        " 1728,\n",
        " 1730,\n",
        " 102635,\n",
        " 102661,\n",
        " 21990,\n",
        " 79784,\n",
        " 57137,\n",
        " 19027,\n",
        " 18346,\n",
        " 26924,\n",
        " 63247,\n",
        " 83353,\n",
        " 19027,\n",
        " 102747,\n",
        " 102769,\n",
        " 1104,\n",
        " 14,\n",
        " 1,\n",
        " 1750,\n",
        " 102747,\n",
        " 1730,\n",
        " 1724,\n",
        " 111691,\n",
        " 19347,\n",
        " 1725,\n",
        " 2,\n",
        " 111851,\n",
        " 19854,\n",
        " 1127,\n",
        " 112357,\n",
        " 112386,\n",
        " 68627,\n",
        " 21629,\n",
        " 73384,\n",
        " 35400,\n",
        " 19081,\n",
        " 112982,\n",
        " 18370,\n",
        " 27692,\n",
        " 84654,\n",
        " 6335,\n",
        " 25369,\n",
        " 1352,\n",
        " 1,\n",
        " 1589,\n",
        " 88819,\n",
        " 28,\n",
        " 96863,\n",
        " 18761,\n",
        " 18761,\n",
        " 24697,\n",
        " 6,\n",
        " 1726,\n",
        " 102668,\n",
        " 1730,\n",
        " 102635,\n",
        " 1728,\n",
        " 1726,\n",
        " 28,\n",
        " 102747,\n",
        " 102770,\n",
        " 102741,\n",
        " 1259,\n",
        " 1726,\n",
        " 1728,\n",
        " 15,\n",
        " 1726,\n",
        " 1733,\n",
        " 1725,\n",
        " 39648,\n",
        " 1747,\n",
        " 1,\n",
        " 28,\n",
        " 1092,\n",
        " 8,\n",
        " 18204,\n",
        " 40405,\n",
        " 4,\n",
        " 1726,\n",
        " 102689,\n",
        " 102657,\n",
        " 102670,\n",
        " 1728,\n",
        " 1725,\n",
        " 102747,\n",
        " 4418,\n",
        " 1729,\n",
        " 1729,\n",
        " 1733,\n",
        " 23881,\n",
        " 102618,\n",
        " 1729,\n",
        " 14,\n",
        " 1490,\n",
        " 4418,\n",
        " 102766,\n",
        " 1694,\n",
        " 1094,\n",
        " 1733,\n",
        " 102634,\n",
        " 1733,\n",
        " 1751,\n",
        " 1094,\n",
        " 53459,\n",
        " 65731,\n",
        " 107637,\n",
        " 19445,\n",
        " 72816,\n",
        " 25527,\n",
        " 21936,\n",
        " 2,\n",
        " 120850,\n",
        " 268,\n",
        " 20763,\n",
        " 48768,\n",
        " 48279,\n",
        " 1730,\n",
        " 1641,\n",
        " 1731,\n",
        " 1728,\n",
        " 6,\n",
        " 107764,\n",
        " 107764,\n",
        " 1733,\n",
        " 102635,\n",
        " 1731,\n",
        " 28,\n",
        " 102747,\n",
        " 1728,\n",
        " 1352,\n",
        " 1728,\n",
        " 102657,\n",
        " 1729,\n",
        " 1747,\n",
        " 102673,\n",
        " 1747,\n",
        " 19690,\n",
        " 19327,\n",
        " 1729,\n",
        " 87821,\n",
        " 25369,\n",
        " 128098,\n",
        " 105403,\n",
        " 26705,\n",
        " 133122,\n",
        " 88695,\n",
        " 84991,\n",
        " 137922,\n",
        " 102689,\n",
        " 113157,\n",
        " 102766,\n",
        " 142103,\n",
        " 102769,\n",
        " 102671,\n",
        " 1733,\n",
        " 18210,\n",
        " 1747,\n",
        " 4415,\n",
        " 1726,\n",
        " 102622,\n",
        " 1725,\n",
        " 102769,\n",
        " 1747,\n",
        " 1490,\n",
        " 102781,\n",
        " 39677,\n",
        " 102647,\n",
        " 1726,\n",
        " 1728,\n",
        " 102694,\n",
        " 1726,\n",
        " 1726,\n",
        " 7,\n",
        " 1,\n",
        " 104942,\n",
        " 1147,\n",
        " 144943,\n",
        " 143836,\n",
        " 145564,\n",
        " 95973,\n",
        " 35625,\n",
        " 24767,\n",
        " 146357,\n",
        " 29363,\n",
        " 146402,\n",
        " 1757,\n",
        " 5527,\n",
        " 115,\n",
        " 18364,\n",
        " 1095,\n",
        " 25170,\n",
        " 147230,\n",
        " 6,\n",
        " 669,\n",
        " 1270,\n",
        " 35065,\n",
        " 32120,\n",
        " 77657,\n",
        " 26309,\n",
        " 25369,\n",
        " 294,\n",
        " 889,\n",
        " 889,\n",
        " 713,\n",
        " 1040,\n",
        " 771,\n",
        " 118,\n",
        " 118,\n",
        " 751,\n",
        " 129,\n",
        " 1063,\n",
        " 139,\n",
        " 117,\n",
        " 853,\n",
        " 771,\n",
        " 115,\n",
        " 1040,\n",
        " 129,\n",
        " 1040,\n",
        " 1040,\n",
        " 788,\n",
        " 129,\n",
        " 129,\n",
        " 125,\n",
        " 160,\n",
        " 771,\n",
        " 117,\n",
        " 294,\n",
        " 1062,\n",
        " 1004,\n",
        " 117,\n",
        " 129,\n",
        " 117,\n",
        " 115,\n",
        " 110,\n",
        " 131,\n",
        " 307,\n",
        " 336,\n",
        " 809,\n",
        " 789,\n",
        " 125,\n",
        " 801,\n",
        " 110,\n",
        " 752,\n",
        " 1056,\n",
        " 129,\n",
        " 751,\n",
        " 118,\n",
        " 110,\n",
        " 1040,\n",
        " 1040,\n",
        " 115,\n",
        " 129,\n",
        " 285,\n",
        " 285,\n",
        " 113,\n",
        " 889,\n",
        " 1063,\n",
        " 115,\n",
        " 125,\n",
        " 117,\n",
        " 731,\n",
        " 1040,\n",
        " 805,\n",
        " 118,\n",
        " 1027,\n",
        " 307,\n",
        " 771,\n",
        " 712,\n",
        " 1040,\n",
        " 805,\n",
        " 955,\n",
        " 110,\n",
        " 788,\n",
        " 336,\n",
        " 870,\n",
        " 870,\n",
        " 870,\n",
        " 147,\n",
        " 129,\n",
        " 809,\n",
        " 1040,\n",
        " 110,\n",
        " 752,\n",
        " 752,\n",
        " 1062,\n",
        " 1040,\n",
        " 752,\n",
        " 109,\n",
        " 139,\n",
        " 789,\n",
        " 1004,\n",
        " 1004,\n",
        " 118,\n",
        " 118,\n",
        " 118,\n",
        " 110,\n",
        " 118,\n",
        " 1004,\n",
        " 110,\n",
        " 1062,\n",
        " 115,\n",
        " 115,\n",
        " 115,\n",
        " 955,\n",
        " 771,\n",
        " 771,\n",
        " 113,\n",
        " 788,\n",
        " 294,\n",
        " 118,\n",
        " 110,\n",
        " 129,\n",
        " 118,\n",
        " 118,\n",
        " 115,\n",
        " 955,\n",
        " 118,\n",
        " 1062,\n",
        " 805,\n",
        " 285,\n",
        " 711,\n",
        " 109,\n",
        " 110,\n",
        " 731,\n",
        " 687,\n",
        " 955,\n",
        " 731,\n",
        " 731,\n",
        " 118,\n",
        " 110,\n",
        " 712,\n",
        " 110,\n",
        " 110,\n",
        " 1062,\n",
        " 1040,\n",
        " 809,\n",
        " 697,\n",
        " 1040,\n",
        " 121,\n",
        " 307,\n",
        " 307,\n",
        " 110,\n",
        " 294,\n",
        " 1027,\n",
        " 307,\n",
        " 125,\n",
        " 307,\n",
        " 1082,\n",
        " 1082,\n",
        " 788,\n",
        " 177339,\n",
        " 177382]"
       ]
      }
     ],
     "prompt_number": 191
    },
    {
     "cell_type": "code",
     "collapsed": false,
     "input": [
      "import itertools\n",
      "from collections import Counter\n",
      "\n",
      "mc = mediacloud.api.MediaCloud(api_key)\n",
      "\n",
      "if regenerate_media_id_media_map:\n",
      "    media_id_media_map = {}\n",
      "    \n",
      "    media_ids = sorted(list(set([ eto['media_id'] for eto in extractor_training_objects ])))\n",
      "    \n",
      "    for media_id in list(media_ids)[:10]:\n",
      "        media = mc.media( media_id )\n",
      "        media[ 'media_source_tags_ids' ] = set( [ media_source_tag['tags_id'] \n",
      "                                                 for media_source_tag in media['media_source_tags'] ] )\n",
      "        media_id_media_map[ media_id ] = media\n",
      "    \n",
      "    cPickle.dump( media_id_media_map, open(\"media_id_media_map.pickle\", \"wb\"))\n"
     ],
     "language": "python",
     "metadata": {},
     "outputs": [],
     "prompt_number": 188
    },
    {
     "cell_type": "code",
     "collapsed": false,
     "input": [
      "media_id_media_map = cPickle.load( open( \"media_id_media_map.pickle\", \"rb\") )    \n",
      "\n",
      "media_tag_counts = Counter(list ( itertools.chain.from_iterable( media_source['media_source_tags_ids'] for media_source in media_id_media_map.values() )) ) \n",
      "tags_id_to_media_tags_map = {}\n",
      "for media_tag in media_id_media_map.values():\n",
      "    source_tags = media_tag[ 'media_source_tags' ]\n",
      "    for source_tag in source_tags:\n",
      "        tags_id_to_media_tags_map[ source_tag[ 'tags_id' ] ] = source_tag"
     ],
     "language": "python",
     "metadata": {},
     "outputs": [],
     "prompt_number": 166
    },
    {
     "cell_type": "code",
     "collapsed": false,
     "input": [
      "media_id_media_map.keys()\n"
     ],
     "language": "python",
     "metadata": {},
     "outputs": [
      {
       "metadata": {},
       "output_type": "pyout",
       "prompt_number": 189,
       "text": [
        "[1, 2, 4, 6, 7, 8, 14, 15, 23, 28]"
       ]
      }
     ],
     "prompt_number": 189
    },
    {
     "cell_type": "heading",
     "level": 2,
     "metadata": {},
     "source": [
      "Run extractors"
     ]
    },
    {
     "cell_type": "code",
     "collapsed": false,
     "input": [
      "[ m['media_source_tags_ids'] for m in media_id_media_map.values() ]"
     ],
     "language": "python",
     "metadata": {},
     "outputs": [
      {
       "metadata": {},
       "output_type": "pyout",
       "prompt_number": 179,
       "text": [
        "[{109, 6071565, 6729599, 8875027, 8878390, 8878416},\n",
        " {6, 7, 18, 6071565, 6729599, 8875027, 8878390, 8878416},\n",
        " {5, 6, 6071565, 6729599, 8875027, 8878416},\n",
        " {6, 14, 8875027, 8875460, 8878390, 8878416},\n",
        " {6, 16, 6071565, 6729599, 8875027, 8875676, 8878416},\n",
        " {17, 6071565, 6729599, 8875027, 8875676, 8878416},\n",
        " {21, 8875027, 8875460, 8878416},\n",
        " {22, 8875027, 8878416},\n",
        " {32, 2453107, 2496423, 6260468},\n",
        " {11, 2453107, 2496423, 6260349, 8878416}]"
       ]
      }
     ],
     "prompt_number": 179
    },
    {
     "cell_type": "code",
     "collapsed": false,
     "input": [
      "extractor_training_objects = cPickle.load( open( \"boiler_pipe_google_news_extractor_training_objects.pickle\", \"rb\") )\n",
      "#eto = extractor_training_objects[ 0 ]\n",
      "#eto.keys()\n",
      "#print eto['expected_text']\n",
      "#get_extraction_results( eto )\n",
      "#comp_extractors ( eto )\n",
      "\n",
      "comps_downloads = []\n",
      "\n",
      "for extractor_training_object in  extractor_training_objects[:]:\n",
      "    res = comp_extractors( extractor_training_object )\n",
      "    comps_downloads.append( res )\n",
      "    #extraction_results.append( er )\n",
      "\n",
      "res.keys()"
     ],
     "language": "python",
     "metadata": {},
     "outputs": [
      {
       "metadata": {},
       "output_type": "pyout",
       "prompt_number": 41,
       "text": [
        "['story_is_spidered',\n",
        " 'heur',\n",
        " 'media_id',\n",
        " 'gold',\n",
        " 'boiler_pipe',\n",
        " 'downloads_id',\n",
        " 'python_readibilty',\n",
        " 'crf',\n",
        " 'justext']"
       ]
      }
     ],
     "prompt_number": 41
    },
    {
     "cell_type": "code",
     "collapsed": false,
     "input": [
      "comp_extractors( [ eto for eto in extractor_training_objects if eto['downloads_id'] == 492035281 ][0] )"
     ],
     "language": "python",
     "metadata": {},
     "outputs": [
      {
       "metadata": {},
       "output_type": "pyout",
       "prompt_number": 158,
       "text": [
        "{'boiler_pipe': {'f1': 0.16666666666666669,\n",
        "  'precision': 0.9296875,\n",
        "  'recall': 0.09153846153846154},\n",
        " 'crf': {'f1': 0.2182770001138045,\n",
        "  'precision': 0.12808868705756646,\n",
        "  'recall': 0.7376923076923076},\n",
        " 'downloads_id': 492035281,\n",
        " 'gold': {'f1': 1.0, 'precision': 1.0, 'recall': 1.0},\n",
        " 'heur': {'f1': 0.8714467543487485,\n",
        "  'precision': 0.9716177861873226,\n",
        "  'recall': 0.79},\n",
        " 'justext': {'f1': 0.6984394770139181,\n",
        "  'precision': 0.773109243697479,\n",
        "  'recall': 0.6369230769230769},\n",
        " 'media_id': 1747,\n",
        " 'py_boiler_pipe': {'f1': 0.1445448227936067,\n",
        "  'precision': 0.7482014388489209,\n",
        "  'recall': 0.08},\n",
        " 'python_readibilty': {'f1': 0.942977420589361,\n",
        "  'precision': 0.9383092155369384,\n",
        "  'recall': 0.9476923076923077},\n",
        " 'story_is_spidered': False}"
       ]
      }
     ],
     "prompt_number": 158
    },
    {
     "cell_type": "code",
     "collapsed": false,
     "input": [
      "import datetime\n",
      "\n",
      "if regenerate_comps_downloads:\n",
      "    \n",
      "    comps_downloads = []\n",
      "    processed = 0\n",
      "    skipped = 0\n",
      "    \n",
      "    start_time = datetime.datetime.now()\n",
      "    \n",
      "    e=None\n",
      "    for extractor_training_object in extractor_training_objects[:]:\n",
      "        print 'processed ', processed\n",
      "        print 'skipped ', skipped\n",
      "        print extractor_training_object[ 'downloads_id']\n",
      "        try:\n",
      "            res = comp_extractors( extractor_training_object )\n",
      "            #print res\n",
      "            comps_downloads.append( res )\n",
      "            processed += 1\n",
      "        except Exception, e:\n",
      "            print \"error on download{}\".format( extractor_training_object[ 'downloads_id'] )\n",
      "            e = sys.exc_info()\n",
      "            \n",
      "            import traceback\n",
      "            \n",
      "            traceback.print_exc()\n",
      "            print e\n",
      "            #raise e\n",
      "            skipped += 1\n",
      "\n",
      "    end_time = datetime.datetime.now()\n",
      "    \n",
      "    print \"Total_time\", end_time - start_time\n",
      "    \n",
      "    print \"Time per download\", (end_time - start_time)/ (processed + skipped )\n",
      "    \n",
      "    cPickle.dump( comps_downloads, open(\"comps_downloads.pickle\", \"wb\"))\n",
      "    \n",
      "    \n",
      "    e\n",
      "#extractor_training_objects\n",
      "    "
     ],
     "language": "python",
     "metadata": {},
     "outputs": [
      {
       "output_type": "stream",
       "stream": "stdout",
       "text": [
        "processed  0\n",
        "skipped  0\n",
        "406397565\n",
        "processed "
       ]
      },
      {
       "output_type": "stream",
       "stream": "stdout",
       "text": [
        " 1\n",
        "skipped  0\n",
        "406946308\n",
        "processed "
       ]
      },
      {
       "output_type": "stream",
       "stream": "stdout",
       "text": [
        " 2\n",
        "skipped  0\n",
        "407440556\n",
        "processed "
       ]
      },
      {
       "output_type": "stream",
       "stream": "stdout",
       "text": [
        " 3\n",
        "skipped  0\n",
        "408175125\n",
        "processed "
       ]
      },
      {
       "output_type": "stream",
       "stream": "stdout",
       "text": [
        " 4\n",
        "skipped  0\n",
        "408604940\n",
        "processed "
       ]
      },
      {
       "output_type": "stream",
       "stream": "stdout",
       "text": [
        " 5\n",
        "skipped  0\n",
        "408964569\n",
        "processed "
       ]
      },
      {
       "output_type": "stream",
       "stream": "stdout",
       "text": [
        " 6\n",
        "skipped  0\n",
        "409307571\n",
        "processed "
       ]
      },
      {
       "output_type": "stream",
       "stream": "stdout",
       "text": [
        " 7\n",
        "skipped  0\n",
        "409362014\n",
        "processed "
       ]
      },
      {
       "output_type": "stream",
       "stream": "stdout",
       "text": [
        " 8\n",
        "skipped  0\n",
        "410019932\n",
        "processed "
       ]
      },
      {
       "output_type": "stream",
       "stream": "stdout",
       "text": [
        " 9\n",
        "skipped  0\n",
        "410769033\n",
        "processed "
       ]
      },
      {
       "output_type": "stream",
       "stream": "stdout",
       "text": [
        " 10\n",
        "skipped  0\n",
        "410893054\n",
        "processed "
       ]
      },
      {
       "output_type": "stream",
       "stream": "stdout",
       "text": [
        " 11\n",
        "skipped  0\n",
        "411494070\n",
        "processed "
       ]
      },
      {
       "output_type": "stream",
       "stream": "stdout",
       "text": [
        " 12\n",
        "skipped  0\n",
        "412822633\n",
        "processed "
       ]
      },
      {
       "output_type": "stream",
       "stream": "stdout",
       "text": [
        " 13\n",
        "skipped  0\n",
        "412832327\n",
        "processed "
       ]
      },
      {
       "output_type": "stream",
       "stream": "stdout",
       "text": [
        " 14\n",
        "skipped  0\n",
        "413070223\n",
        "processed "
       ]
      },
      {
       "output_type": "stream",
       "stream": "stdout",
       "text": [
        " 15\n",
        "skipped  0\n",
        "413080625\n",
        "processed "
       ]
      },
      {
       "output_type": "stream",
       "stream": "stdout",
       "text": [
        " 16\n",
        "skipped  0\n",
        "413724188\n",
        "processed "
       ]
      },
      {
       "output_type": "stream",
       "stream": "stdout",
       "text": [
        " 17\n",
        "skipped  0\n",
        "413990063\n",
        "processed "
       ]
      },
      {
       "output_type": "stream",
       "stream": "stdout",
       "text": [
        " 18\n",
        "skipped  0\n",
        "414001946\n",
        "processed "
       ]
      },
      {
       "output_type": "stream",
       "stream": "stdout",
       "text": [
        " 19\n",
        "skipped  0\n",
        "414705852\n",
        "processed "
       ]
      },
      {
       "output_type": "stream",
       "stream": "stdout",
       "text": [
        " 20\n",
        "skipped  0\n",
        "414754369\n",
        "processed "
       ]
      },
      {
       "output_type": "stream",
       "stream": "stdout",
       "text": [
        " 21\n",
        "skipped  0\n",
        "414974366\n",
        "processed "
       ]
      },
      {
       "output_type": "stream",
       "stream": "stdout",
       "text": [
        " 22\n",
        "skipped  0\n",
        "415381471\n",
        "processed "
       ]
      },
      {
       "output_type": "stream",
       "stream": "stdout",
       "text": [
        " 23\n",
        "skipped  0\n",
        "415752815\n",
        "processed "
       ]
      },
      {
       "output_type": "stream",
       "stream": "stdout",
       "text": [
        " 24\n",
        "skipped  0\n",
        "415977284\n",
        "processed "
       ]
      },
      {
       "output_type": "stream",
       "stream": "stdout",
       "text": [
        " 25\n",
        "skipped  0\n",
        "416560140\n",
        "processed "
       ]
      },
      {
       "output_type": "stream",
       "stream": "stdout",
       "text": [
        " 26\n",
        "skipped  0\n",
        "416773947\n",
        "processed "
       ]
      },
      {
       "output_type": "stream",
       "stream": "stdout",
       "text": [
        " 27\n",
        "skipped  0\n",
        "416931217\n",
        "processed "
       ]
      },
      {
       "output_type": "stream",
       "stream": "stdout",
       "text": [
        " 28\n",
        "skipped  0\n",
        "417026931\n",
        "processed "
       ]
      },
      {
       "output_type": "stream",
       "stream": "stdout",
       "text": [
        " 29\n",
        "skipped  0\n",
        "417913575\n",
        "processed "
       ]
      },
      {
       "output_type": "stream",
       "stream": "stdout",
       "text": [
        " 30\n",
        "skipped  0\n",
        "418921816\n",
        "processed "
       ]
      },
      {
       "output_type": "stream",
       "stream": "stdout",
       "text": [
        " 31\n",
        "skipped  0\n",
        "419059149\n",
        "processed "
       ]
      },
      {
       "output_type": "stream",
       "stream": "stdout",
       "text": [
        " 32\n",
        "skipped  0\n",
        "419061380\n",
        "processed "
       ]
      },
      {
       "output_type": "stream",
       "stream": "stdout",
       "text": [
        " 33\n",
        "skipped  0\n",
        "419312194\n",
        "processed "
       ]
      },
      {
       "output_type": "stream",
       "stream": "stdout",
       "text": [
        " 34\n",
        "skipped  0\n",
        "419463576\n",
        "processed "
       ]
      },
      {
       "output_type": "stream",
       "stream": "stdout",
       "text": [
        " 35\n",
        "skipped  0\n",
        "419897309\n",
        "processed "
       ]
      },
      {
       "output_type": "stream",
       "stream": "stdout",
       "text": [
        " 36\n",
        "skipped  0\n",
        "420605489\n",
        "processed "
       ]
      },
      {
       "output_type": "stream",
       "stream": "stdout",
       "text": [
        " 37\n",
        "skipped  0\n",
        "420695976\n",
        "processed "
       ]
      },
      {
       "output_type": "stream",
       "stream": "stdout",
       "text": [
        " 38\n",
        "skipped  0\n",
        "420972612\n",
        "processed "
       ]
      },
      {
       "output_type": "stream",
       "stream": "stdout",
       "text": [
        " 39\n",
        "skipped  0\n",
        "421512071\n",
        "processed "
       ]
      },
      {
       "output_type": "stream",
       "stream": "stdout",
       "text": [
        " 40\n",
        "skipped  0\n",
        "421586812\n",
        "processed "
       ]
      },
      {
       "output_type": "stream",
       "stream": "stdout",
       "text": [
        " 41\n",
        "skipped  0\n",
        "421950008\n",
        "processed "
       ]
      },
      {
       "output_type": "stream",
       "stream": "stdout",
       "text": [
        " 42\n",
        "skipped  0\n",
        "422329395\n",
        "processed "
       ]
      },
      {
       "output_type": "stream",
       "stream": "stdout",
       "text": [
        " 43\n",
        "skipped  0\n",
        "423644184\n",
        "processed "
       ]
      },
      {
       "output_type": "stream",
       "stream": "stdout",
       "text": [
        " 44\n",
        "skipped  0\n",
        "423780415\n",
        "processed "
       ]
      },
      {
       "output_type": "stream",
       "stream": "stdout",
       "text": [
        " 45\n",
        "skipped  0\n",
        "423811752\n",
        "processed "
       ]
      },
      {
       "output_type": "stream",
       "stream": "stdout",
       "text": [
        " 46\n",
        "skipped  0\n",
        "423826345\n",
        "processed "
       ]
      },
      {
       "output_type": "stream",
       "stream": "stdout",
       "text": [
        " 47\n",
        "skipped  0\n",
        "426274790\n",
        "processed "
       ]
      },
      {
       "output_type": "stream",
       "stream": "stdout",
       "text": [
        " 48\n",
        "skipped  0\n",
        "426745030\n",
        "processed "
       ]
      },
      {
       "output_type": "stream",
       "stream": "stdout",
       "text": [
        " 49\n",
        "skipped  0\n",
        "426958717\n",
        "processed "
       ]
      },
      {
       "output_type": "stream",
       "stream": "stdout",
       "text": [
        " 50\n",
        "skipped  0\n",
        "427023406\n",
        "processed "
       ]
      },
      {
       "output_type": "stream",
       "stream": "stdout",
       "text": [
        " 51\n",
        "skipped  0\n",
        "427039192\n",
        "processed "
       ]
      },
      {
       "output_type": "stream",
       "stream": "stdout",
       "text": [
        " 52\n",
        "skipped  0\n",
        "427131787\n",
        "processed "
       ]
      },
      {
       "output_type": "stream",
       "stream": "stdout",
       "text": [
        " 53\n",
        "skipped  0\n",
        "427645929\n",
        "processed "
       ]
      },
      {
       "output_type": "stream",
       "stream": "stdout",
       "text": [
        " 54\n",
        "skipped  0\n",
        "427851499\n",
        "processed "
       ]
      },
      {
       "output_type": "stream",
       "stream": "stdout",
       "text": [
        " 55\n",
        "skipped  0\n",
        "428523804\n",
        "processed "
       ]
      },
      {
       "output_type": "stream",
       "stream": "stdout",
       "text": [
        " 56\n",
        "skipped  0\n",
        "429112619\n",
        "processed "
       ]
      },
      {
       "output_type": "stream",
       "stream": "stdout",
       "text": [
        " 57\n",
        "skipped  0\n",
        "429500447\n",
        "processed "
       ]
      },
      {
       "output_type": "stream",
       "stream": "stdout",
       "text": [
        " 58\n",
        "skipped  0\n",
        "429714766\n",
        "processed "
       ]
      },
      {
       "output_type": "stream",
       "stream": "stdout",
       "text": [
        " 59\n",
        "skipped  0\n",
        "429793967\n",
        "processed "
       ]
      },
      {
       "output_type": "stream",
       "stream": "stdout",
       "text": [
        " 60\n",
        "skipped  0\n",
        "430099220\n",
        "processed "
       ]
      },
      {
       "output_type": "stream",
       "stream": "stdout",
       "text": [
        " 61\n",
        "skipped  0\n",
        "430660615\n",
        "processed "
       ]
      },
      {
       "output_type": "stream",
       "stream": "stdout",
       "text": [
        " 62\n",
        "skipped  0\n",
        "431012388\n",
        "processed "
       ]
      },
      {
       "output_type": "stream",
       "stream": "stdout",
       "text": [
        " 63\n",
        "skipped  0\n",
        "431311136\n",
        "processed "
       ]
      },
      {
       "output_type": "stream",
       "stream": "stdout",
       "text": [
        " 64\n",
        "skipped  0\n",
        "431387007\n",
        "processed "
       ]
      },
      {
       "output_type": "stream",
       "stream": "stdout",
       "text": [
        " 65\n",
        "skipped  0\n",
        "431606529\n",
        "processed "
       ]
      },
      {
       "output_type": "stream",
       "stream": "stdout",
       "text": [
        " 66\n",
        "skipped  0\n",
        "431839510\n",
        "processed "
       ]
      },
      {
       "output_type": "stream",
       "stream": "stdout",
       "text": [
        " 67\n",
        "skipped  0\n",
        "431905299\n",
        "processed "
       ]
      },
      {
       "output_type": "stream",
       "stream": "stdout",
       "text": [
        " 68\n",
        "skipped  0\n",
        "432896524\n",
        "processed "
       ]
      },
      {
       "output_type": "stream",
       "stream": "stdout",
       "text": [
        " 69\n",
        "skipped  0\n",
        "432929604\n",
        "processed "
       ]
      },
      {
       "output_type": "stream",
       "stream": "stdout",
       "text": [
        " 70\n",
        "skipped  0\n",
        "433044130\n",
        "processed "
       ]
      },
      {
       "output_type": "stream",
       "stream": "stdout",
       "text": [
        " 71\n",
        "skipped  0\n",
        "434192180\n",
        "processed "
       ]
      },
      {
       "output_type": "stream",
       "stream": "stdout",
       "text": [
        " 72\n",
        "skipped  0\n",
        "434250046\n",
        "processed "
       ]
      },
      {
       "output_type": "stream",
       "stream": "stdout",
       "text": [
        " 73\n",
        "skipped  0\n",
        "434842660\n",
        "processed "
       ]
      },
      {
       "output_type": "stream",
       "stream": "stdout",
       "text": [
        " 74\n",
        "skipped  0\n",
        "435142187\n",
        "processed "
       ]
      },
      {
       "output_type": "stream",
       "stream": "stdout",
       "text": [
        " 75\n",
        "skipped  0\n",
        "435417572\n",
        "processed "
       ]
      },
      {
       "output_type": "stream",
       "stream": "stdout",
       "text": [
        " 76\n",
        "skipped  0\n",
        "435417726\n",
        "processed "
       ]
      },
      {
       "output_type": "stream",
       "stream": "stdout",
       "text": [
        " 77\n",
        "skipped  0\n",
        "435795096\n",
        "processed "
       ]
      },
      {
       "output_type": "stream",
       "stream": "stdout",
       "text": [
        " 78\n",
        "skipped  0\n",
        "436540640\n",
        "processed "
       ]
      },
      {
       "output_type": "stream",
       "stream": "stdout",
       "text": [
        " 79\n",
        "skipped  0\n",
        "436554531\n",
        "processed "
       ]
      },
      {
       "output_type": "stream",
       "stream": "stdout",
       "text": [
        " 80\n",
        "skipped  0\n",
        "437087573\n",
        "processed "
       ]
      },
      {
       "output_type": "stream",
       "stream": "stdout",
       "text": [
        " 81\n",
        "skipped  0\n",
        "437239472\n",
        "processed "
       ]
      },
      {
       "output_type": "stream",
       "stream": "stdout",
       "text": [
        " 82\n",
        "skipped  0\n",
        "437281074\n",
        "processed "
       ]
      },
      {
       "output_type": "stream",
       "stream": "stdout",
       "text": [
        " 83\n",
        "skipped  0\n",
        "437315186\n",
        "processed "
       ]
      },
      {
       "output_type": "stream",
       "stream": "stdout",
       "text": [
        " 84\n",
        "skipped  0\n",
        "437523403\n",
        "processed "
       ]
      },
      {
       "output_type": "stream",
       "stream": "stdout",
       "text": [
        " 85\n",
        "skipped  0\n",
        "437526788\n",
        "processed "
       ]
      },
      {
       "output_type": "stream",
       "stream": "stdout",
       "text": [
        " 86\n",
        "skipped  0\n",
        "438596131\n",
        "processed "
       ]
      },
      {
       "output_type": "stream",
       "stream": "stdout",
       "text": [
        " 87\n",
        "skipped  0\n",
        "438672710\n",
        "processed "
       ]
      },
      {
       "output_type": "stream",
       "stream": "stdout",
       "text": [
        " 88\n",
        "skipped  0\n",
        "439340014\n",
        "processed "
       ]
      },
      {
       "output_type": "stream",
       "stream": "stdout",
       "text": [
        " 89\n",
        "skipped  0\n",
        "439491986\n",
        "processed "
       ]
      },
      {
       "output_type": "stream",
       "stream": "stdout",
       "text": [
        " 90\n",
        "skipped  0\n",
        "439619864\n",
        "processed "
       ]
      },
      {
       "output_type": "stream",
       "stream": "stdout",
       "text": [
        " 91\n",
        "skipped  0\n",
        "439631363\n",
        "processed "
       ]
      },
      {
       "output_type": "stream",
       "stream": "stdout",
       "text": [
        " 92\n",
        "skipped  0\n",
        "440193709\n",
        "processed "
       ]
      },
      {
       "output_type": "stream",
       "stream": "stdout",
       "text": [
        " 93\n",
        "skipped  0\n",
        "440219216\n",
        "processed "
       ]
      },
      {
       "output_type": "stream",
       "stream": "stdout",
       "text": [
        " 94\n",
        "skipped  0\n",
        "440780462\n",
        "processed "
       ]
      },
      {
       "output_type": "stream",
       "stream": "stdout",
       "text": [
        " 95\n",
        "skipped  0\n",
        "441039343\n",
        "processed "
       ]
      },
      {
       "output_type": "stream",
       "stream": "stdout",
       "text": [
        " 96\n",
        "skipped  0\n",
        "441313630\n",
        "processed "
       ]
      },
      {
       "output_type": "stream",
       "stream": "stdout",
       "text": [
        " 97\n",
        "skipped  0\n",
        "441455864\n",
        "processed "
       ]
      },
      {
       "output_type": "stream",
       "stream": "stdout",
       "text": [
        " 98\n",
        "skipped  0\n",
        "441846112\n",
        "processed "
       ]
      },
      {
       "output_type": "stream",
       "stream": "stdout",
       "text": [
        " 99\n",
        "skipped  0\n",
        "442808951\n",
        "processed "
       ]
      },
      {
       "output_type": "stream",
       "stream": "stdout",
       "text": [
        " 100\n",
        "skipped  0\n",
        "442862362\n",
        "processed "
       ]
      },
      {
       "output_type": "stream",
       "stream": "stdout",
       "text": [
        " 101\n",
        "skipped  0\n",
        "443616755\n",
        "processed "
       ]
      },
      {
       "output_type": "stream",
       "stream": "stdout",
       "text": [
        " 102\n",
        "skipped  0\n",
        "444570682\n",
        "processed "
       ]
      },
      {
       "output_type": "stream",
       "stream": "stdout",
       "text": [
        " 103\n",
        "skipped  0\n",
        "444894095\n",
        "processed "
       ]
      },
      {
       "output_type": "stream",
       "stream": "stdout",
       "text": [
        " 104\n",
        "skipped  0\n",
        "445086933\n",
        "processed "
       ]
      },
      {
       "output_type": "stream",
       "stream": "stdout",
       "text": [
        " 105\n",
        "skipped  0\n",
        "445428584\n",
        "processed "
       ]
      },
      {
       "output_type": "stream",
       "stream": "stdout",
       "text": [
        " 106\n",
        "skipped  0\n",
        "445477281\n",
        "processed "
       ]
      },
      {
       "output_type": "stream",
       "stream": "stdout",
       "text": [
        " 107\n",
        "skipped  0\n",
        "446094222\n",
        "processed "
       ]
      },
      {
       "output_type": "stream",
       "stream": "stdout",
       "text": [
        " 108\n",
        "skipped  0\n",
        "446613221\n",
        "processed "
       ]
      },
      {
       "output_type": "stream",
       "stream": "stdout",
       "text": [
        " 109\n",
        "skipped  0\n",
        "447062817\n",
        "processed "
       ]
      },
      {
       "output_type": "stream",
       "stream": "stdout",
       "text": [
        " 110\n",
        "skipped  0\n",
        "447776250\n",
        "processed "
       ]
      },
      {
       "output_type": "stream",
       "stream": "stdout",
       "text": [
        " 111\n",
        "skipped  0\n",
        "448661284\n",
        "processed "
       ]
      },
      {
       "output_type": "stream",
       "stream": "stdout",
       "text": [
        " 112\n",
        "skipped  0\n",
        "448661534\n",
        "processed "
       ]
      },
      {
       "output_type": "stream",
       "stream": "stdout",
       "text": [
        " 113\n",
        "skipped  0\n",
        "448892156\n",
        "processed "
       ]
      },
      {
       "output_type": "stream",
       "stream": "stdout",
       "text": [
        " 114\n",
        "skipped  0\n",
        "448905892\n",
        "processed "
       ]
      },
      {
       "output_type": "stream",
       "stream": "stdout",
       "text": [
        " 115\n",
        "skipped  0\n",
        "449094788\n",
        "processed "
       ]
      },
      {
       "output_type": "stream",
       "stream": "stdout",
       "text": [
        " 116\n",
        "skipped  0\n",
        "449256732\n",
        "processed "
       ]
      },
      {
       "output_type": "stream",
       "stream": "stdout",
       "text": [
        " 117\n",
        "skipped  0\n",
        "450223351\n",
        "processed "
       ]
      },
      {
       "output_type": "stream",
       "stream": "stdout",
       "text": [
        " 118\n",
        "skipped  0\n",
        "450797637\n",
        "processed "
       ]
      },
      {
       "output_type": "stream",
       "stream": "stdout",
       "text": [
        " 119\n",
        "skipped  0\n",
        "452232437\n",
        "processed "
       ]
      },
      {
       "output_type": "stream",
       "stream": "stdout",
       "text": [
        " 120\n",
        "skipped  0\n",
        "453272806\n",
        "processed "
       ]
      },
      {
       "output_type": "stream",
       "stream": "stdout",
       "text": [
        " 121\n",
        "skipped  0\n",
        "454046798\n",
        "processed "
       ]
      },
      {
       "output_type": "stream",
       "stream": "stdout",
       "text": [
        " 122\n",
        "skipped  0\n",
        "454492602\n",
        "processed "
       ]
      },
      {
       "output_type": "stream",
       "stream": "stdout",
       "text": [
        " 123\n",
        "skipped  0\n",
        "455066382\n",
        "processed "
       ]
      },
      {
       "output_type": "stream",
       "stream": "stdout",
       "text": [
        " 124\n",
        "skipped  0\n",
        "455593030\n",
        "processed "
       ]
      },
      {
       "output_type": "stream",
       "stream": "stdout",
       "text": [
        " 125\n",
        "skipped  0\n",
        "456789442\n",
        "processed "
       ]
      },
      {
       "output_type": "stream",
       "stream": "stdout",
       "text": [
        " 126\n",
        "skipped  0\n",
        "457113351\n",
        "processed "
       ]
      },
      {
       "output_type": "stream",
       "stream": "stdout",
       "text": [
        " 127\n",
        "skipped  0\n",
        "457749321\n",
        "processed "
       ]
      },
      {
       "output_type": "stream",
       "stream": "stdout",
       "text": [
        " 128\n",
        "skipped  0\n",
        "457918791\n",
        "processed "
       ]
      },
      {
       "output_type": "stream",
       "stream": "stdout",
       "text": [
        " 129\n",
        "skipped  0\n",
        "457945604\n",
        "processed "
       ]
      },
      {
       "output_type": "stream",
       "stream": "stdout",
       "text": [
        " 130\n",
        "skipped  0\n",
        "458053172\n",
        "processed "
       ]
      },
      {
       "output_type": "stream",
       "stream": "stdout",
       "text": [
        " 131\n",
        "skipped  0\n",
        "458710845\n",
        "processed "
       ]
      },
      {
       "output_type": "stream",
       "stream": "stdout",
       "text": [
        " 132\n",
        "skipped  0\n",
        "459297373\n",
        "processed "
       ]
      },
      {
       "output_type": "stream",
       "stream": "stdout",
       "text": [
        " 133\n",
        "skipped  0\n",
        "459314297\n",
        "processed "
       ]
      },
      {
       "output_type": "stream",
       "stream": "stdout",
       "text": [
        " 134\n",
        "skipped  0\n",
        "459678712\n",
        "processed "
       ]
      },
      {
       "output_type": "stream",
       "stream": "stdout",
       "text": [
        " 135\n",
        "skipped  0\n",
        "459731765\n",
        "processed "
       ]
      },
      {
       "output_type": "stream",
       "stream": "stdout",
       "text": [
        " 136\n",
        "skipped  0\n",
        "461252885\n",
        "processed "
       ]
      },
      {
       "output_type": "stream",
       "stream": "stdout",
       "text": [
        " 137\n",
        "skipped  0\n",
        "462404061\n",
        "processed "
       ]
      },
      {
       "output_type": "stream",
       "stream": "stdout",
       "text": [
        " 138\n",
        "skipped  0\n",
        "462983422\n",
        "processed "
       ]
      },
      {
       "output_type": "stream",
       "stream": "stdout",
       "text": [
        " 139\n",
        "skipped  0\n",
        "463954045\n",
        "processed "
       ]
      },
      {
       "output_type": "stream",
       "stream": "stdout",
       "text": [
        " 140\n",
        "skipped  0\n",
        "464270345\n",
        "processed "
       ]
      },
      {
       "output_type": "stream",
       "stream": "stdout",
       "text": [
        " 141\n",
        "skipped  0\n",
        "465068895\n",
        "processed "
       ]
      },
      {
       "output_type": "stream",
       "stream": "stdout",
       "text": [
        " 142\n",
        "skipped  0\n",
        "465090983\n",
        "processed "
       ]
      },
      {
       "output_type": "stream",
       "stream": "stdout",
       "text": [
        " 143\n",
        "skipped  0\n",
        "466804114\n",
        "processed "
       ]
      },
      {
       "output_type": "stream",
       "stream": "stdout",
       "text": [
        " 144\n",
        "skipped  0\n",
        "467150362\n",
        "processed "
       ]
      },
      {
       "output_type": "stream",
       "stream": "stdout",
       "text": [
        " 145\n",
        "skipped  0\n",
        "468568475\n",
        "processed "
       ]
      },
      {
       "output_type": "stream",
       "stream": "stdout",
       "text": [
        " 146\n",
        "skipped  0\n",
        "468788039\n",
        "processed "
       ]
      },
      {
       "output_type": "stream",
       "stream": "stdout",
       "text": [
        " 147\n",
        "skipped  0\n",
        "468996262\n",
        "processed "
       ]
      },
      {
       "output_type": "stream",
       "stream": "stdout",
       "text": [
        " 148\n",
        "skipped  0\n",
        "469058922\n",
        "processed "
       ]
      },
      {
       "output_type": "stream",
       "stream": "stdout",
       "text": [
        " 149\n",
        "skipped  0\n",
        "470488107\n",
        "processed "
       ]
      },
      {
       "output_type": "stream",
       "stream": "stdout",
       "text": [
        " 150\n",
        "skipped  0\n",
        "473138193\n",
        "processed "
       ]
      },
      {
       "output_type": "stream",
       "stream": "stdout",
       "text": [
        " 151\n",
        "skipped  0\n",
        "474060840\n",
        "processed "
       ]
      },
      {
       "output_type": "stream",
       "stream": "stdout",
       "text": [
        " 152\n",
        "skipped  0\n",
        "474649098\n",
        "processed "
       ]
      },
      {
       "output_type": "stream",
       "stream": "stdout",
       "text": [
        " 153\n",
        "skipped  0\n",
        "474891663\n",
        "processed "
       ]
      },
      {
       "output_type": "stream",
       "stream": "stdout",
       "text": [
        " 154\n",
        "skipped  0\n",
        "475232740\n",
        "processed "
       ]
      },
      {
       "output_type": "stream",
       "stream": "stdout",
       "text": [
        " 155\n",
        "skipped  0\n",
        "475489411\n",
        "processed "
       ]
      },
      {
       "output_type": "stream",
       "stream": "stdout",
       "text": [
        " 156\n",
        "skipped  0\n",
        "475550192\n",
        "processed "
       ]
      },
      {
       "output_type": "stream",
       "stream": "stdout",
       "text": [
        " 157\n",
        "skipped  0\n",
        "475842962\n",
        "processed "
       ]
      },
      {
       "output_type": "stream",
       "stream": "stdout",
       "text": [
        " 158\n",
        "skipped  0\n",
        "476050916\n",
        "processed "
       ]
      },
      {
       "output_type": "stream",
       "stream": "stdout",
       "text": [
        " 159\n",
        "skipped  0\n",
        "476079482\n",
        "processed "
       ]
      },
      {
       "output_type": "stream",
       "stream": "stdout",
       "text": [
        " 160\n",
        "skipped  0\n",
        "476189164\n",
        "processed "
       ]
      },
      {
       "output_type": "stream",
       "stream": "stdout",
       "text": [
        " 161\n",
        "skipped  0\n",
        "476365487\n",
        "processed "
       ]
      },
      {
       "output_type": "stream",
       "stream": "stdout",
       "text": [
        " 162\n",
        "skipped  0\n",
        "476850484\n",
        "processed "
       ]
      },
      {
       "output_type": "stream",
       "stream": "stdout",
       "text": [
        " 163\n",
        "skipped  0\n",
        "476936059\n",
        "processed "
       ]
      },
      {
       "output_type": "stream",
       "stream": "stdout",
       "text": [
        " 164\n",
        "skipped  0\n",
        "476962103\n",
        "processed "
       ]
      },
      {
       "output_type": "stream",
       "stream": "stdout",
       "text": [
        " 165\n",
        "skipped  0\n",
        "477126381\n",
        "processed "
       ]
      },
      {
       "output_type": "stream",
       "stream": "stdout",
       "text": [
        " 166\n",
        "skipped  0\n",
        "477171081\n",
        "processed "
       ]
      },
      {
       "output_type": "stream",
       "stream": "stdout",
       "text": [
        " 167\n",
        "skipped  0\n",
        "477673129\n",
        "processed "
       ]
      },
      {
       "output_type": "stream",
       "stream": "stdout",
       "text": [
        " 168\n",
        "skipped  0\n",
        "477798748\n",
        "processed "
       ]
      },
      {
       "output_type": "stream",
       "stream": "stdout",
       "text": [
        " 169\n",
        "skipped  0\n",
        "477850182\n",
        "processed "
       ]
      },
      {
       "output_type": "stream",
       "stream": "stdout",
       "text": [
        " 170\n",
        "skipped  0\n",
        "478307074\n",
        "processed "
       ]
      },
      {
       "output_type": "stream",
       "stream": "stdout",
       "text": [
        " 171\n",
        "skipped  0\n",
        "478793359\n",
        "processed "
       ]
      },
      {
       "output_type": "stream",
       "stream": "stdout",
       "text": [
        " 172\n",
        "skipped  0\n",
        "479262110\n",
        "processed "
       ]
      },
      {
       "output_type": "stream",
       "stream": "stdout",
       "text": [
        " 173\n",
        "skipped  0\n",
        "479410656\n",
        "processed "
       ]
      },
      {
       "output_type": "stream",
       "stream": "stdout",
       "text": [
        " 174\n",
        "skipped  0\n",
        "480072496\n",
        "processed "
       ]
      },
      {
       "output_type": "stream",
       "stream": "stdout",
       "text": [
        " 175\n",
        "skipped  0\n",
        "480080971\n",
        "processed "
       ]
      },
      {
       "output_type": "stream",
       "stream": "stdout",
       "text": [
        " 176\n",
        "skipped  0\n",
        "480850060\n",
        "processed "
       ]
      },
      {
       "output_type": "stream",
       "stream": "stdout",
       "text": [
        " 177\n",
        "skipped  0\n",
        "480965210\n",
        "processed "
       ]
      },
      {
       "output_type": "stream",
       "stream": "stdout",
       "text": [
        " 178\n",
        "skipped  0\n",
        "481064362\n",
        "processed "
       ]
      },
      {
       "output_type": "stream",
       "stream": "stdout",
       "text": [
        " 179\n",
        "skipped  0\n",
        "481747325\n",
        "processed "
       ]
      },
      {
       "output_type": "stream",
       "stream": "stdout",
       "text": [
        " 180\n",
        "skipped  0\n",
        "481956983\n",
        "processed "
       ]
      },
      {
       "output_type": "stream",
       "stream": "stdout",
       "text": [
        " 181\n",
        "skipped  0\n",
        "481995599\n",
        "processed "
       ]
      },
      {
       "output_type": "stream",
       "stream": "stdout",
       "text": [
        " 182\n",
        "skipped  0\n",
        "482339280\n",
        "processed "
       ]
      },
      {
       "output_type": "stream",
       "stream": "stdout",
       "text": [
        " 183\n",
        "skipped  0\n",
        "482455316\n",
        "processed "
       ]
      },
      {
       "output_type": "stream",
       "stream": "stdout",
       "text": [
        " 184\n",
        "skipped  0\n",
        "482905957\n",
        "processed "
       ]
      },
      {
       "output_type": "stream",
       "stream": "stdout",
       "text": [
        " 185\n",
        "skipped  0\n",
        "483167965\n",
        "processed "
       ]
      },
      {
       "output_type": "stream",
       "stream": "stdout",
       "text": [
        " 186\n",
        "skipped  0\n",
        "483933348\n",
        "processed "
       ]
      },
      {
       "output_type": "stream",
       "stream": "stdout",
       "text": [
        " 187\n",
        "skipped  0\n",
        "484173730\n",
        "processed "
       ]
      },
      {
       "output_type": "stream",
       "stream": "stdout",
       "text": [
        " 188\n",
        "skipped  0\n",
        "484469651\n",
        "processed "
       ]
      },
      {
       "output_type": "stream",
       "stream": "stdout",
       "text": [
        " 189\n",
        "skipped  0\n",
        "485257678\n",
        "processed "
       ]
      },
      {
       "output_type": "stream",
       "stream": "stdout",
       "text": [
        " 190\n",
        "skipped  0\n",
        "485289153\n",
        "processed "
       ]
      },
      {
       "output_type": "stream",
       "stream": "stdout",
       "text": [
        " 191\n",
        "skipped  0\n",
        "485312050\n",
        "processed "
       ]
      },
      {
       "output_type": "stream",
       "stream": "stdout",
       "text": [
        " 192\n",
        "skipped  0\n",
        "485772601\n",
        "processed "
       ]
      },
      {
       "output_type": "stream",
       "stream": "stdout",
       "text": [
        " 193\n",
        "skipped  0\n",
        "485874387\n",
        "processed "
       ]
      },
      {
       "output_type": "stream",
       "stream": "stdout",
       "text": [
        " 194\n",
        "skipped  0\n",
        "486956929\n",
        "processed "
       ]
      },
      {
       "output_type": "stream",
       "stream": "stdout",
       "text": [
        " 195\n",
        "skipped  0\n",
        "486963918\n",
        "processed "
       ]
      },
      {
       "output_type": "stream",
       "stream": "stdout",
       "text": [
        " 196\n",
        "skipped  0\n",
        "486975782\n",
        "processed "
       ]
      },
      {
       "output_type": "stream",
       "stream": "stdout",
       "text": [
        " 197\n",
        "skipped  0\n",
        "487099193\n",
        "processed "
       ]
      },
      {
       "output_type": "stream",
       "stream": "stdout",
       "text": [
        " 198\n",
        "skipped  0\n",
        "487930345\n",
        "processed "
       ]
      },
      {
       "output_type": "stream",
       "stream": "stdout",
       "text": [
        " 199\n",
        "skipped  0\n",
        "487938684\n",
        "processed "
       ]
      },
      {
       "output_type": "stream",
       "stream": "stdout",
       "text": [
        " 200\n",
        "skipped  0\n",
        "488325235\n",
        "processed "
       ]
      },
      {
       "output_type": "stream",
       "stream": "stdout",
       "text": [
        " 201\n",
        "skipped  0\n",
        "489427373\n",
        "processed "
       ]
      },
      {
       "output_type": "stream",
       "stream": "stdout",
       "text": [
        " 202\n",
        "skipped  0\n",
        "489785301\n",
        "processed "
       ]
      },
      {
       "output_type": "stream",
       "stream": "stdout",
       "text": [
        " 203\n",
        "skipped  0\n",
        "490000422\n",
        "processed "
       ]
      },
      {
       "output_type": "stream",
       "stream": "stdout",
       "text": [
        " 204\n",
        "skipped  0\n",
        "491390357\n",
        "processed "
       ]
      },
      {
       "output_type": "stream",
       "stream": "stdout",
       "text": [
        " 205\n",
        "skipped  0\n",
        "491394627\n",
        "processed "
       ]
      },
      {
       "output_type": "stream",
       "stream": "stdout",
       "text": [
        " 206\n",
        "skipped  0\n",
        "491580307\n",
        "processed "
       ]
      },
      {
       "output_type": "stream",
       "stream": "stdout",
       "text": [
        " 207\n",
        "skipped  0\n",
        "491868589\n",
        "processed "
       ]
      },
      {
       "output_type": "stream",
       "stream": "stdout",
       "text": [
        " 208\n",
        "skipped  0\n",
        "492035281\n",
        "processed "
       ]
      },
      {
       "output_type": "stream",
       "stream": "stdout",
       "text": [
        " 209\n",
        "skipped  0\n",
        "492212969\n",
        "processed "
       ]
      },
      {
       "output_type": "stream",
       "stream": "stdout",
       "text": [
        " 210\n",
        "skipped  0\n",
        "492220330\n",
        "processed "
       ]
      },
      {
       "output_type": "stream",
       "stream": "stdout",
       "text": [
        " 211\n",
        "skipped  0\n",
        "492825637\n",
        "processed "
       ]
      },
      {
       "output_type": "stream",
       "stream": "stdout",
       "text": [
        " 212\n",
        "skipped  0\n",
        "492998487\n",
        "processed "
       ]
      },
      {
       "output_type": "stream",
       "stream": "stdout",
       "text": [
        " 213\n",
        "skipped  0\n",
        "493395197\n",
        "processed "
       ]
      },
      {
       "output_type": "stream",
       "stream": "stdout",
       "text": [
        " 214\n",
        "skipped  0\n",
        "493603632\n",
        "processed "
       ]
      },
      {
       "output_type": "stream",
       "stream": "stdout",
       "text": [
        " 215\n",
        "skipped  0\n",
        "494910637\n",
        "processed "
       ]
      },
      {
       "output_type": "stream",
       "stream": "stdout",
       "text": [
        " 216\n",
        "skipped  0\n",
        "495132412\n",
        "processed "
       ]
      },
      {
       "output_type": "stream",
       "stream": "stdout",
       "text": [
        " 217\n",
        "skipped  0\n",
        "495402183\n",
        "processed "
       ]
      },
      {
       "output_type": "stream",
       "stream": "stdout",
       "text": [
        " 218\n",
        "skipped  0\n",
        "495442862\n",
        "processed "
       ]
      },
      {
       "output_type": "stream",
       "stream": "stdout",
       "text": [
        " 219\n",
        "skipped  0\n",
        "495702037\n",
        "processed "
       ]
      },
      {
       "output_type": "stream",
       "stream": "stdout",
       "text": [
        " 220\n",
        "skipped  0\n",
        "495856120\n",
        "processed "
       ]
      },
      {
       "output_type": "stream",
       "stream": "stdout",
       "text": [
        " 221\n",
        "skipped  0\n",
        "496830079\n",
        "processed "
       ]
      },
      {
       "output_type": "stream",
       "stream": "stdout",
       "text": [
        " 222\n",
        "skipped  0\n",
        "496960779\n",
        "processed "
       ]
      },
      {
       "output_type": "stream",
       "stream": "stdout",
       "text": [
        " 223\n",
        "skipped  0\n",
        "497510792\n",
        "processed "
       ]
      },
      {
       "output_type": "stream",
       "stream": "stdout",
       "text": [
        " 224\n",
        "skipped  0\n",
        "497750204\n",
        "processed "
       ]
      },
      {
       "output_type": "stream",
       "stream": "stdout",
       "text": [
        " 225\n",
        "skipped  0\n",
        "498241896\n",
        "processed "
       ]
      },
      {
       "output_type": "stream",
       "stream": "stdout",
       "text": [
        " 226\n",
        "skipped  0\n",
        "498496981\n",
        "processed "
       ]
      },
      {
       "output_type": "stream",
       "stream": "stdout",
       "text": [
        " 227\n",
        "skipped  0\n",
        "498497707\n",
        "processed "
       ]
      },
      {
       "output_type": "stream",
       "stream": "stdout",
       "text": [
        " 228\n",
        "skipped  0\n",
        "499288413\n",
        "processed "
       ]
      },
      {
       "output_type": "stream",
       "stream": "stdout",
       "text": [
        " 229\n",
        "skipped  0\n",
        "499367463\n",
        "processed "
       ]
      },
      {
       "output_type": "stream",
       "stream": "stdout",
       "text": [
        " 230\n",
        "skipped  0\n",
        "499577868\n",
        "processed "
       ]
      },
      {
       "output_type": "stream",
       "stream": "stdout",
       "text": [
        " 231\n",
        "skipped  0\n",
        "499738311\n",
        "processed "
       ]
      },
      {
       "output_type": "stream",
       "stream": "stdout",
       "text": [
        " 232\n",
        "skipped  0\n",
        "499979607\n",
        "processed "
       ]
      },
      {
       "output_type": "stream",
       "stream": "stdout",
       "text": [
        " 233\n",
        "skipped  0\n",
        "500618275\n",
        "processed "
       ]
      },
      {
       "output_type": "stream",
       "stream": "stdout",
       "text": [
        " 234\n",
        "skipped  0\n",
        "501409722\n",
        "processed "
       ]
      },
      {
       "output_type": "stream",
       "stream": "stdout",
       "text": [
        " 235\n",
        "skipped  0\n",
        "501420351\n",
        "processed "
       ]
      },
      {
       "output_type": "stream",
       "stream": "stdout",
       "text": [
        " 236\n",
        "skipped  0\n",
        "501420884\n",
        "processed "
       ]
      },
      {
       "output_type": "stream",
       "stream": "stdout",
       "text": [
        " 237\n",
        "skipped  0\n",
        "501421014\n",
        "processed "
       ]
      },
      {
       "output_type": "stream",
       "stream": "stdout",
       "text": [
        " 238\n",
        "skipped  0\n",
        "501431149\n",
        "processed "
       ]
      },
      {
       "output_type": "stream",
       "stream": "stdout",
       "text": [
        " 239\n",
        "skipped  0\n",
        "501442658\n",
        "processed "
       ]
      },
      {
       "output_type": "stream",
       "stream": "stdout",
       "text": [
        " 240\n",
        "skipped  0\n",
        "501453175\n",
        "processed "
       ]
      },
      {
       "output_type": "stream",
       "stream": "stdout",
       "text": [
        " 241\n",
        "skipped  0\n",
        "501471473\n",
        "processed "
       ]
      },
      {
       "output_type": "stream",
       "stream": "stdout",
       "text": [
        " 242\n",
        "skipped  0\n",
        "502622175\n",
        "processed "
       ]
      },
      {
       "output_type": "stream",
       "stream": "stdout",
       "text": [
        " 243\n",
        "skipped  0\n",
        "502653177\n",
        "processed "
       ]
      },
      {
       "output_type": "stream",
       "stream": "stdout",
       "text": [
        " 244\n",
        "skipped  0\n",
        "502830407\n",
        "processed "
       ]
      },
      {
       "output_type": "stream",
       "stream": "stdout",
       "text": [
        " 245\n",
        "skipped  0\n",
        "503101426\n",
        "processed "
       ]
      },
      {
       "output_type": "stream",
       "stream": "stdout",
       "text": [
        " 246\n",
        "skipped  0\n",
        "503171821\n",
        "processed "
       ]
      },
      {
       "output_type": "stream",
       "stream": "stdout",
       "text": [
        " 247\n",
        "skipped  0\n",
        "503183518\n",
        "processed "
       ]
      },
      {
       "output_type": "stream",
       "stream": "stdout",
       "text": [
        " 248\n",
        "skipped  0\n",
        "503244112\n",
        "processed "
       ]
      },
      {
       "output_type": "stream",
       "stream": "stdout",
       "text": [
        " 249\n",
        "skipped  0\n",
        "503478903\n",
        "processed "
       ]
      },
      {
       "output_type": "stream",
       "stream": "stdout",
       "text": [
        " 250\n",
        "skipped  0\n",
        "504316681\n",
        "processed "
       ]
      },
      {
       "output_type": "stream",
       "stream": "stdout",
       "text": [
        " 251\n",
        "skipped  0\n",
        "504570818\n",
        "processed "
       ]
      },
      {
       "output_type": "stream",
       "stream": "stdout",
       "text": [
        " 252\n",
        "skipped  0\n",
        "504702541\n",
        "processed "
       ]
      },
      {
       "output_type": "stream",
       "stream": "stdout",
       "text": [
        " 253\n",
        "skipped  0\n",
        "505354116\n",
        "processed "
       ]
      },
      {
       "output_type": "stream",
       "stream": "stdout",
       "text": [
        " 254\n",
        "skipped  0\n",
        "505354986\n",
        "processed "
       ]
      },
      {
       "output_type": "stream",
       "stream": "stdout",
       "text": [
        " 255\n",
        "skipped  0\n",
        "505362351\n",
        "processed "
       ]
      },
      {
       "output_type": "stream",
       "stream": "stdout",
       "text": [
        " 256\n",
        "skipped  0\n",
        "505513151\n",
        "processed "
       ]
      },
      {
       "output_type": "stream",
       "stream": "stdout",
       "text": [
        " 257\n",
        "skipped  0\n",
        "505554845\n",
        "processed "
       ]
      },
      {
       "output_type": "stream",
       "stream": "stdout",
       "text": [
        " 258\n",
        "skipped  0\n",
        "505630012\n",
        "processed "
       ]
      },
      {
       "output_type": "stream",
       "stream": "stdout",
       "text": [
        " 259\n",
        "skipped  0\n",
        "505666313\n",
        "processed "
       ]
      },
      {
       "output_type": "stream",
       "stream": "stdout",
       "text": [
        " 260\n",
        "skipped  0\n",
        "505709237\n",
        "processed "
       ]
      },
      {
       "output_type": "stream",
       "stream": "stdout",
       "text": [
        " 261\n",
        "skipped  0\n",
        "505875260\n",
        "processed "
       ]
      },
      {
       "output_type": "stream",
       "stream": "stdout",
       "text": [
        " 262\n",
        "skipped  0\n",
        "505891713\n",
        "processed "
       ]
      },
      {
       "output_type": "stream",
       "stream": "stdout",
       "text": [
        " 263\n",
        "skipped  0\n",
        "505960251\n",
        "processed "
       ]
      },
      {
       "output_type": "stream",
       "stream": "stdout",
       "text": [
        " 264\n",
        "skipped  0\n",
        "506245926\n",
        "processed "
       ]
      },
      {
       "output_type": "stream",
       "stream": "stdout",
       "text": [
        " 265\n",
        "skipped  0\n",
        "506248868\n",
        "processed "
       ]
      },
      {
       "output_type": "stream",
       "stream": "stdout",
       "text": [
        " 266\n",
        "skipped  0\n",
        "506288913\n",
        "processed "
       ]
      },
      {
       "output_type": "stream",
       "stream": "stdout",
       "text": [
        " 267\n",
        "skipped  0\n",
        "506374300\n",
        "processed "
       ]
      },
      {
       "output_type": "stream",
       "stream": "stdout",
       "text": [
        " 268\n",
        "skipped  0\n",
        "506905377\n",
        "processed "
       ]
      },
      {
       "output_type": "stream",
       "stream": "stdout",
       "text": [
        " 269\n",
        "skipped  0\n",
        "508032017\n",
        "processed "
       ]
      },
      {
       "output_type": "stream",
       "stream": "stdout",
       "text": [
        " 270\n",
        "skipped  0\n",
        "508653746\n",
        "processed "
       ]
      },
      {
       "output_type": "stream",
       "stream": "stdout",
       "text": [
        " 271\n",
        "skipped  0\n",
        "509162462\n",
        "processed "
       ]
      },
      {
       "output_type": "stream",
       "stream": "stdout",
       "text": [
        " 272\n",
        "skipped  0\n",
        "509252393\n",
        "processed "
       ]
      },
      {
       "output_type": "stream",
       "stream": "stdout",
       "text": [
        " 273\n",
        "skipped  0\n",
        "509863893\n",
        "processed "
       ]
      },
      {
       "output_type": "stream",
       "stream": "stdout",
       "text": [
        " 274\n",
        "skipped  0\n",
        "510413590\n",
        "processed "
       ]
      },
      {
       "output_type": "stream",
       "stream": "stdout",
       "text": [
        " 275\n",
        "skipped  0\n",
        "510662547\n",
        "processed "
       ]
      },
      {
       "output_type": "stream",
       "stream": "stdout",
       "text": [
        " 276\n",
        "skipped  0\n",
        "510881596\n",
        "processed "
       ]
      },
      {
       "output_type": "stream",
       "stream": "stdout",
       "text": [
        " 277\n",
        "skipped  0\n",
        "510954456\n",
        "processed "
       ]
      },
      {
       "output_type": "stream",
       "stream": "stdout",
       "text": [
        " 278\n",
        "skipped  0\n",
        "510955330\n",
        "processed "
       ]
      },
      {
       "output_type": "stream",
       "stream": "stdout",
       "text": [
        " 279\n",
        "skipped  0\n",
        "511823889\n",
        "processed "
       ]
      },
      {
       "output_type": "stream",
       "stream": "stdout",
       "text": [
        " 280\n",
        "skipped  0\n",
        "512505124\n",
        "processed "
       ]
      },
      {
       "output_type": "stream",
       "stream": "stdout",
       "text": [
        " 281\n",
        "skipped  0\n",
        "512677517\n",
        "processed "
       ]
      },
      {
       "output_type": "stream",
       "stream": "stdout",
       "text": [
        " 282\n",
        "skipped  0\n",
        "512765019\n",
        "processed "
       ]
      },
      {
       "output_type": "stream",
       "stream": "stdout",
       "text": [
        " 283\n",
        "skipped  0\n",
        "514105704\n",
        "processed "
       ]
      },
      {
       "output_type": "stream",
       "stream": "stdout",
       "text": [
        " 284\n",
        "skipped  0\n",
        "514153344\n",
        "processed "
       ]
      },
      {
       "output_type": "stream",
       "stream": "stdout",
       "text": [
        " 285\n",
        "skipped  0\n",
        "514364011\n",
        "processed "
       ]
      },
      {
       "output_type": "stream",
       "stream": "stdout",
       "text": [
        " 286\n",
        "skipped  0\n",
        "514378750\n",
        "processed "
       ]
      },
      {
       "output_type": "stream",
       "stream": "stdout",
       "text": [
        " 287\n",
        "skipped  0\n",
        "514572763\n",
        "processed "
       ]
      },
      {
       "output_type": "stream",
       "stream": "stdout",
       "text": [
        " 288\n",
        "skipped  0\n",
        "514931592\n",
        "processed "
       ]
      },
      {
       "output_type": "stream",
       "stream": "stdout",
       "text": [
        " 289\n",
        "skipped  0\n",
        "515594059\n",
        "processed "
       ]
      },
      {
       "output_type": "stream",
       "stream": "stdout",
       "text": [
        " 290\n",
        "skipped  0\n",
        "515980414\n",
        "processed "
       ]
      },
      {
       "output_type": "stream",
       "stream": "stdout",
       "text": [
        " 291\n",
        "skipped  0\n",
        "516147422\n",
        "processed "
       ]
      },
      {
       "output_type": "stream",
       "stream": "stdout",
       "text": [
        " 292\n",
        "skipped  0\n",
        "516155213\n",
        "processed "
       ]
      },
      {
       "output_type": "stream",
       "stream": "stdout",
       "text": [
        " 293\n",
        "skipped  0\n",
        "516527178\n",
        "processed "
       ]
      },
      {
       "output_type": "stream",
       "stream": "stdout",
       "text": [
        " 294\n",
        "skipped  0\n",
        "517088904\n",
        "processed "
       ]
      },
      {
       "output_type": "stream",
       "stream": "stdout",
       "text": [
        " 295\n",
        "skipped  0\n",
        "517204863\n",
        "processed "
       ]
      },
      {
       "output_type": "stream",
       "stream": "stdout",
       "text": [
        " 296\n",
        "skipped  0\n",
        "517393170\n",
        "processed "
       ]
      },
      {
       "output_type": "stream",
       "stream": "stdout",
       "text": [
        " 297\n",
        "skipped  0\n",
        "518149302\n",
        "processed "
       ]
      },
      {
       "output_type": "stream",
       "stream": "stdout",
       "text": [
        " 298\n",
        "skipped  0\n",
        "518752724\n",
        "processed "
       ]
      },
      {
       "output_type": "stream",
       "stream": "stdout",
       "text": [
        " 299\n",
        "skipped  0\n",
        "518815044\n",
        "processed "
       ]
      },
      {
       "output_type": "stream",
       "stream": "stdout",
       "text": [
        " 300\n",
        "skipped  0\n",
        "518917973\n",
        "processed "
       ]
      },
      {
       "output_type": "stream",
       "stream": "stdout",
       "text": [
        " 301\n",
        "skipped  0\n",
        "519698497\n",
        "processed "
       ]
      },
      {
       "output_type": "stream",
       "stream": "stdout",
       "text": [
        " 302\n",
        "skipped  0\n",
        "519788971\n",
        "processed "
       ]
      },
      {
       "output_type": "stream",
       "stream": "stdout",
       "text": [
        " 303\n",
        "skipped  0\n",
        "519948923\n",
        "processed "
       ]
      },
      {
       "output_type": "stream",
       "stream": "stdout",
       "text": [
        " 304\n",
        "skipped  0\n",
        "520302517\n",
        "processed "
       ]
      },
      {
       "output_type": "stream",
       "stream": "stdout",
       "text": [
        " 305\n",
        "skipped  0\n",
        "520916358\n",
        "processed "
       ]
      },
      {
       "output_type": "stream",
       "stream": "stdout",
       "text": [
        " 306\n",
        "skipped  0\n",
        "521501901\n",
        "processed "
       ]
      },
      {
       "output_type": "stream",
       "stream": "stdout",
       "text": [
        " 307\n",
        "skipped  0\n",
        "521596942\n",
        "processed "
       ]
      },
      {
       "output_type": "stream",
       "stream": "stdout",
       "text": [
        " 308\n",
        "skipped  0\n",
        "524336614\n",
        "processed "
       ]
      },
      {
       "output_type": "stream",
       "stream": "stdout",
       "text": [
        " 309\n",
        "skipped  0\n",
        "524583342\n",
        "processed "
       ]
      },
      {
       "output_type": "stream",
       "stream": "stdout",
       "text": [
        " 310\n",
        "skipped  0\n",
        "524747370\n",
        "processed "
       ]
      },
      {
       "output_type": "stream",
       "stream": "stdout",
       "text": [
        " 311\n",
        "skipped  0\n",
        "525018299\n",
        "processed "
       ]
      },
      {
       "output_type": "stream",
       "stream": "stdout",
       "text": [
        " 312\n",
        "skipped  0\n",
        "525274342\n",
        "processed "
       ]
      },
      {
       "output_type": "stream",
       "stream": "stdout",
       "text": [
        " 313\n",
        "skipped  0\n",
        "525762267\n",
        "processed "
       ]
      },
      {
       "output_type": "stream",
       "stream": "stdout",
       "text": [
        " 314\n",
        "skipped  0\n",
        "526210669\n",
        "processed "
       ]
      },
      {
       "output_type": "stream",
       "stream": "stdout",
       "text": [
        " 315\n",
        "skipped  0\n",
        "526399492\n",
        "processed "
       ]
      },
      {
       "output_type": "stream",
       "stream": "stdout",
       "text": [
        " 316\n",
        "skipped  0\n",
        "526437284\n",
        "processed "
       ]
      },
      {
       "output_type": "stream",
       "stream": "stdout",
       "text": [
        " 317\n",
        "skipped  0\n",
        "526513004\n",
        "processed "
       ]
      },
      {
       "output_type": "stream",
       "stream": "stdout",
       "text": [
        " 318\n",
        "skipped  0\n",
        "526972862\n",
        "processed "
       ]
      },
      {
       "output_type": "stream",
       "stream": "stdout",
       "text": [
        " 319\n",
        "skipped  0\n",
        "527258084\n",
        "processed "
       ]
      },
      {
       "output_type": "stream",
       "stream": "stdout",
       "text": [
        " 320\n",
        "skipped  0\n",
        "528174162\n",
        "processed "
       ]
      },
      {
       "output_type": "stream",
       "stream": "stdout",
       "text": [
        " 321\n",
        "skipped  0\n",
        "528717265\n",
        "processed "
       ]
      },
      {
       "output_type": "stream",
       "stream": "stdout",
       "text": [
        " 322\n",
        "skipped  0\n",
        "529134306\n",
        "processed "
       ]
      },
      {
       "output_type": "stream",
       "stream": "stdout",
       "text": [
        " 323\n",
        "skipped  0\n",
        "529174292\n",
        "processed "
       ]
      },
      {
       "output_type": "stream",
       "stream": "stdout",
       "text": [
        " 324\n",
        "skipped  0\n",
        "529318707\n",
        "processed "
       ]
      },
      {
       "output_type": "stream",
       "stream": "stdout",
       "text": [
        " 325\n",
        "skipped  0\n",
        "529350751\n",
        "processed "
       ]
      },
      {
       "output_type": "stream",
       "stream": "stdout",
       "text": [
        " 326\n",
        "skipped  0\n",
        "529500550\n",
        "processed "
       ]
      },
      {
       "output_type": "stream",
       "stream": "stdout",
       "text": [
        " 327\n",
        "skipped  0\n",
        "529638751\n",
        "processed "
       ]
      },
      {
       "output_type": "stream",
       "stream": "stdout",
       "text": [
        " 328\n",
        "skipped  0\n",
        "529645874\n",
        "processed "
       ]
      },
      {
       "output_type": "stream",
       "stream": "stdout",
       "text": [
        " 329\n",
        "skipped  0\n",
        "529645941\n",
        "processed "
       ]
      },
      {
       "output_type": "stream",
       "stream": "stdout",
       "text": [
        " 330\n",
        "skipped  0\n",
        "529698279\n",
        "processed "
       ]
      },
      {
       "output_type": "stream",
       "stream": "stdout",
       "text": [
        " 331\n",
        "skipped  0\n",
        "529792413\n",
        "processed "
       ]
      },
      {
       "output_type": "stream",
       "stream": "stdout",
       "text": [
        " 332\n",
        "skipped  0\n",
        "529835888\n",
        "processed "
       ]
      },
      {
       "output_type": "stream",
       "stream": "stdout",
       "text": [
        " 333\n",
        "skipped  0\n",
        "529849320\n",
        "processed "
       ]
      },
      {
       "output_type": "stream",
       "stream": "stdout",
       "text": [
        " 334\n",
        "skipped  0\n",
        "529860654\n",
        "processed "
       ]
      },
      {
       "output_type": "stream",
       "stream": "stdout",
       "text": [
        " 335\n",
        "skipped  0\n",
        "529872483\n",
        "processed "
       ]
      },
      {
       "output_type": "stream",
       "stream": "stdout",
       "text": [
        " 336\n",
        "skipped  0\n",
        "529878837\n",
        "processed "
       ]
      },
      {
       "output_type": "stream",
       "stream": "stdout",
       "text": [
        " 337\n",
        "skipped  0\n",
        "529887477\n",
        "processed "
       ]
      },
      {
       "output_type": "stream",
       "stream": "stdout",
       "text": [
        " 338\n",
        "skipped  0\n",
        "529897403\n",
        "processed "
       ]
      },
      {
       "output_type": "stream",
       "stream": "stdout",
       "text": [
        " 339\n",
        "skipped  0\n",
        "529897845\n",
        "processed "
       ]
      },
      {
       "output_type": "stream",
       "stream": "stdout",
       "text": [
        " 340\n",
        "skipped  0\n",
        "529985569\n",
        "processed "
       ]
      },
      {
       "output_type": "stream",
       "stream": "stdout",
       "text": [
        " 341\n",
        "skipped  0\n",
        "530078770\n",
        "processed "
       ]
      },
      {
       "output_type": "stream",
       "stream": "stdout",
       "text": [
        " 342\n",
        "skipped  0\n",
        "530528969\n",
        "processed "
       ]
      },
      {
       "output_type": "stream",
       "stream": "stdout",
       "text": [
        " 343\n",
        "skipped  0\n",
        "530758329\n",
        "processed "
       ]
      },
      {
       "output_type": "stream",
       "stream": "stdout",
       "text": [
        " 344\n",
        "skipped  0\n",
        "530760478\n",
        "processed "
       ]
      },
      {
       "output_type": "stream",
       "stream": "stdout",
       "text": [
        " 345\n",
        "skipped  0\n",
        "531116330\n",
        "processed "
       ]
      },
      {
       "output_type": "stream",
       "stream": "stdout",
       "text": [
        " 346\n",
        "skipped  0\n",
        "531271665\n",
        "processed "
       ]
      },
      {
       "output_type": "stream",
       "stream": "stdout",
       "text": [
        " 347\n",
        "skipped  0\n",
        "531541254\n",
        "processed "
       ]
      },
      {
       "output_type": "stream",
       "stream": "stdout",
       "text": [
        " 348\n",
        "skipped  0\n",
        "531805217\n",
        "processed "
       ]
      },
      {
       "output_type": "stream",
       "stream": "stdout",
       "text": [
        " 349\n",
        "skipped  0\n",
        "531997009\n",
        "processed "
       ]
      },
      {
       "output_type": "stream",
       "stream": "stdout",
       "text": [
        " 350\n",
        "skipped  0\n",
        "532554918\n",
        "processed "
       ]
      },
      {
       "output_type": "stream",
       "stream": "stdout",
       "text": [
        " 351\n",
        "skipped  0\n",
        "532672804\n",
        "processed "
       ]
      },
      {
       "output_type": "stream",
       "stream": "stdout",
       "text": [
        " 352\n",
        "skipped  0\n",
        "533194544\n",
        "processed "
       ]
      },
      {
       "output_type": "stream",
       "stream": "stdout",
       "text": [
        " 353\n",
        "skipped  0\n",
        "533730844\n",
        "processed "
       ]
      },
      {
       "output_type": "stream",
       "stream": "stdout",
       "text": [
        " 354\n",
        "skipped  0\n",
        "533889958\n",
        "processed "
       ]
      },
      {
       "output_type": "stream",
       "stream": "stdout",
       "text": [
        " 355\n",
        "skipped  0\n",
        "534093073\n",
        "processed "
       ]
      },
      {
       "output_type": "stream",
       "stream": "stdout",
       "text": [
        " 356\n",
        "skipped  0\n",
        "534505078\n",
        "processed "
       ]
      },
      {
       "output_type": "stream",
       "stream": "stdout",
       "text": [
        " 357\n",
        "skipped  0\n",
        "534718899\n",
        "processed "
       ]
      },
      {
       "output_type": "stream",
       "stream": "stdout",
       "text": [
        " 358\n",
        "skipped  0\n",
        "534742315\n",
        "processed "
       ]
      },
      {
       "output_type": "stream",
       "stream": "stdout",
       "text": [
        " 359\n",
        "skipped  0\n",
        "534981910\n",
        "processed "
       ]
      },
      {
       "output_type": "stream",
       "stream": "stdout",
       "text": [
        " 360\n",
        "skipped  0\n",
        "535201962\n",
        "processed "
       ]
      },
      {
       "output_type": "stream",
       "stream": "stdout",
       "text": [
        " 361\n",
        "skipped  0\n",
        "535469332\n",
        "processed "
       ]
      },
      {
       "output_type": "stream",
       "stream": "stdout",
       "text": [
        " 362\n",
        "skipped  0\n",
        "535880958\n",
        "processed "
       ]
      },
      {
       "output_type": "stream",
       "stream": "stdout",
       "text": [
        " 363\n",
        "skipped  0\n",
        "536622410\n",
        "processed "
       ]
      },
      {
       "output_type": "stream",
       "stream": "stdout",
       "text": [
        " 364\n",
        "skipped  0\n",
        "536622427\n",
        "processed "
       ]
      },
      {
       "output_type": "stream",
       "stream": "stdout",
       "text": [
        " 365\n",
        "skipped  0\n",
        "536670142\n",
        "processed "
       ]
      },
      {
       "output_type": "stream",
       "stream": "stdout",
       "text": [
        " 366\n",
        "skipped  0\n",
        "536689603\n",
        "processed "
       ]
      },
      {
       "output_type": "stream",
       "stream": "stdout",
       "text": [
        " 367\n",
        "skipped  0\n",
        "536697475\n",
        "processed "
       ]
      },
      {
       "output_type": "stream",
       "stream": "stdout",
       "text": [
        " 368\n",
        "skipped  0\n",
        "536720884\n",
        "processed "
       ]
      },
      {
       "output_type": "stream",
       "stream": "stdout",
       "text": [
        " 369\n",
        "skipped  0\n",
        "536817371\n",
        "processed "
       ]
      },
      {
       "output_type": "stream",
       "stream": "stdout",
       "text": [
        " 370\n",
        "skipped  0\n",
        "536828101\n",
        "processed "
       ]
      },
      {
       "output_type": "stream",
       "stream": "stdout",
       "text": [
        " 371\n",
        "skipped  0\n",
        "536833731\n",
        "processed "
       ]
      },
      {
       "output_type": "stream",
       "stream": "stdout",
       "text": [
        " 372\n",
        "skipped  0\n",
        "536870204\n",
        "processed "
       ]
      },
      {
       "output_type": "stream",
       "stream": "stdout",
       "text": [
        " 373\n",
        "skipped  0\n",
        "536977072\n",
        "processed "
       ]
      },
      {
       "output_type": "stream",
       "stream": "stdout",
       "text": [
        " 374\n",
        "skipped  0\n",
        "537231678\n",
        "processed "
       ]
      },
      {
       "output_type": "stream",
       "stream": "stdout",
       "text": [
        " 375\n",
        "skipped  0\n",
        "537256396\n",
        "processed "
       ]
      },
      {
       "output_type": "stream",
       "stream": "stdout",
       "text": [
        " 376\n",
        "skipped  0\n",
        "537501183\n",
        "processed "
       ]
      },
      {
       "output_type": "stream",
       "stream": "stdout",
       "text": [
        " 377\n",
        "skipped  0\n",
        "537704893\n",
        "processed "
       ]
      },
      {
       "output_type": "stream",
       "stream": "stdout",
       "text": [
        " 378\n",
        "skipped  0\n",
        "538721777\n",
        "processed "
       ]
      },
      {
       "output_type": "stream",
       "stream": "stdout",
       "text": [
        " 379\n",
        "skipped  0\n",
        "539056055\n",
        "processed "
       ]
      },
      {
       "output_type": "stream",
       "stream": "stdout",
       "text": [
        " 380\n",
        "skipped  0\n",
        "539126425\n",
        "processed "
       ]
      },
      {
       "output_type": "stream",
       "stream": "stdout",
       "text": [
        " 381\n",
        "skipped  0\n",
        "539382819\n",
        "processed "
       ]
      },
      {
       "output_type": "stream",
       "stream": "stdout",
       "text": [
        " 382\n",
        "skipped  0\n",
        "539387198\n",
        "processed "
       ]
      },
      {
       "output_type": "stream",
       "stream": "stdout",
       "text": [
        " 383\n",
        "skipped  0\n",
        "539389371\n",
        "processed "
       ]
      },
      {
       "output_type": "stream",
       "stream": "stdout",
       "text": [
        " 384\n",
        "skipped  0\n",
        "539392922\n",
        "processed "
       ]
      },
      {
       "output_type": "stream",
       "stream": "stdout",
       "text": [
        " 385\n",
        "skipped  0\n",
        "539411169\n",
        "processed "
       ]
      },
      {
       "output_type": "stream",
       "stream": "stdout",
       "text": [
        " 386\n",
        "skipped  0\n",
        "539415012\n",
        "processed "
       ]
      },
      {
       "output_type": "stream",
       "stream": "stdout",
       "text": [
        " 387\n",
        "skipped  0\n",
        "539423034\n",
        "processed "
       ]
      },
      {
       "output_type": "stream",
       "stream": "stdout",
       "text": [
        " 388\n",
        "skipped  0\n",
        "539444342\n",
        "processed "
       ]
      },
      {
       "output_type": "stream",
       "stream": "stdout",
       "text": [
        " 389\n",
        "skipped  0\n",
        "539444757\n",
        "processed "
       ]
      },
      {
       "output_type": "stream",
       "stream": "stdout",
       "text": [
        " 390\n",
        "skipped  0\n",
        "539445540\n",
        "processed "
       ]
      },
      {
       "output_type": "stream",
       "stream": "stdout",
       "text": [
        " 391\n",
        "skipped  0\n",
        "539453644\n",
        "processed "
       ]
      },
      {
       "output_type": "stream",
       "stream": "stdout",
       "text": [
        " 392\n",
        "skipped  0\n",
        "539482866\n",
        "processed "
       ]
      },
      {
       "output_type": "stream",
       "stream": "stdout",
       "text": [
        " 393\n",
        "skipped  0\n",
        "539483121\n",
        "processed "
       ]
      },
      {
       "output_type": "stream",
       "stream": "stdout",
       "text": [
        " 394\n",
        "skipped  0\n",
        "539535265\n",
        "processed "
       ]
      },
      {
       "output_type": "stream",
       "stream": "stdout",
       "text": [
        " 395\n",
        "skipped  0\n",
        "539535898\n",
        "processed "
       ]
      },
      {
       "output_type": "stream",
       "stream": "stdout",
       "text": [
        " 396\n",
        "skipped  0\n",
        "539639827\n",
        "processed "
       ]
      },
      {
       "output_type": "stream",
       "stream": "stdout",
       "text": [
        " 397\n",
        "skipped  0\n",
        "539693458\n",
        "processed "
       ]
      },
      {
       "output_type": "stream",
       "stream": "stdout",
       "text": [
        " 398\n",
        "skipped  0\n",
        "539699310\n",
        "processed "
       ]
      },
      {
       "output_type": "stream",
       "stream": "stdout",
       "text": [
        " 399\n",
        "skipped  0\n",
        "539784484\n",
        "processed "
       ]
      },
      {
       "output_type": "stream",
       "stream": "stdout",
       "text": [
        " 400\n",
        "skipped  0\n",
        "539855645\n",
        "processed "
       ]
      },
      {
       "output_type": "stream",
       "stream": "stdout",
       "text": [
        " 401\n",
        "skipped  0\n",
        "539862886\n",
        "processed "
       ]
      },
      {
       "output_type": "stream",
       "stream": "stdout",
       "text": [
        " 402\n",
        "skipped  0\n",
        "540049468\n",
        "processed "
       ]
      },
      {
       "output_type": "stream",
       "stream": "stdout",
       "text": [
        " 403\n",
        "skipped  0\n",
        "540072482\n",
        "processed "
       ]
      },
      {
       "output_type": "stream",
       "stream": "stdout",
       "text": [
        " 404\n",
        "skipped  0\n",
        "540124060\n",
        "processed "
       ]
      },
      {
       "output_type": "stream",
       "stream": "stdout",
       "text": [
        " 405\n",
        "skipped  0\n",
        "540219129\n",
        "processed "
       ]
      },
      {
       "output_type": "stream",
       "stream": "stdout",
       "text": [
        " 406\n",
        "skipped  0\n",
        "540246359\n",
        "processed "
       ]
      },
      {
       "output_type": "stream",
       "stream": "stdout",
       "text": [
        " 407\n",
        "skipped  0\n",
        "540356681\n",
        "processed "
       ]
      },
      {
       "output_type": "stream",
       "stream": "stdout",
       "text": [
        " 408\n",
        "skipped  0\n",
        "540448548\n",
        "processed "
       ]
      },
      {
       "output_type": "stream",
       "stream": "stdout",
       "text": [
        " 409\n",
        "skipped  0\n",
        "540628443\n",
        "processed "
       ]
      },
      {
       "output_type": "stream",
       "stream": "stdout",
       "text": [
        " 410\n",
        "skipped  0\n",
        "540729123\n",
        "processed "
       ]
      },
      {
       "output_type": "stream",
       "stream": "stdout",
       "text": [
        " 411\n",
        "skipped  0\n",
        "540938254\n",
        "processed "
       ]
      },
      {
       "output_type": "stream",
       "stream": "stdout",
       "text": [
        " 412\n",
        "skipped  0\n",
        "541044672\n",
        "processed "
       ]
      },
      {
       "output_type": "stream",
       "stream": "stdout",
       "text": [
        " 413\n",
        "skipped  0\n",
        "541380062\n",
        "processed "
       ]
      },
      {
       "output_type": "stream",
       "stream": "stdout",
       "text": [
        " 414\n",
        "skipped  0\n",
        "541787974\n",
        "processed "
       ]
      },
      {
       "output_type": "stream",
       "stream": "stdout",
       "text": [
        " 415\n",
        "skipped  0\n",
        "541944011\n",
        "processed "
       ]
      },
      {
       "output_type": "stream",
       "stream": "stdout",
       "text": [
        " 416\n",
        "skipped  0\n",
        "542151181\n",
        "processed "
       ]
      },
      {
       "output_type": "stream",
       "stream": "stdout",
       "text": [
        " 417\n",
        "skipped  0\n",
        "542292829\n",
        "processed "
       ]
      },
      {
       "output_type": "stream",
       "stream": "stdout",
       "text": [
        " 418\n",
        "skipped  0\n",
        "542601235\n",
        "processed "
       ]
      },
      {
       "output_type": "stream",
       "stream": "stdout",
       "text": [
        " 419\n",
        "skipped  0\n",
        "542607593\n",
        "processed "
       ]
      },
      {
       "output_type": "stream",
       "stream": "stdout",
       "text": [
        " 420\n",
        "skipped  0\n",
        "542722436\n",
        "processed "
       ]
      },
      {
       "output_type": "stream",
       "stream": "stdout",
       "text": [
        " 421\n",
        "skipped  0\n",
        "543002984\n",
        "processed "
       ]
      },
      {
       "output_type": "stream",
       "stream": "stdout",
       "text": [
        " 422\n",
        "skipped  0\n",
        "544804153\n",
        "processed "
       ]
      },
      {
       "output_type": "stream",
       "stream": "stdout",
       "text": [
        " 423\n",
        "skipped  0\n",
        "545408829\n",
        "processed "
       ]
      },
      {
       "output_type": "stream",
       "stream": "stdout",
       "text": [
        " 424\n",
        "skipped  0\n",
        "545490257\n",
        "processed "
       ]
      },
      {
       "output_type": "stream",
       "stream": "stdout",
       "text": [
        " 425\n",
        "skipped  0\n",
        "546226391\n",
        "processed "
       ]
      },
      {
       "output_type": "stream",
       "stream": "stdout",
       "text": [
        " 426\n",
        "skipped  0\n",
        "546447285\n",
        "processed "
       ]
      },
      {
       "output_type": "stream",
       "stream": "stdout",
       "text": [
        " 427\n",
        "skipped  0\n",
        "546452241\n",
        "processed "
       ]
      },
      {
       "output_type": "stream",
       "stream": "stdout",
       "text": [
        " 428\n",
        "skipped  0\n",
        "546475377\n",
        "processed "
       ]
      },
      {
       "output_type": "stream",
       "stream": "stdout",
       "text": [
        " 429\n",
        "skipped  0\n",
        "546744400\n",
        "processed "
       ]
      },
      {
       "output_type": "stream",
       "stream": "stdout",
       "text": [
        " 430\n",
        "skipped  0\n",
        "546865980\n",
        "processed "
       ]
      },
      {
       "output_type": "stream",
       "stream": "stdout",
       "text": [
        " 431\n",
        "skipped  0\n",
        "547134278\n",
        "processed "
       ]
      },
      {
       "output_type": "stream",
       "stream": "stdout",
       "text": [
        " 432\n",
        "skipped  0\n",
        "547947151\n",
        "processed "
       ]
      },
      {
       "output_type": "stream",
       "stream": "stdout",
       "text": [
        " 433\n",
        "skipped  0\n",
        "550077777\n",
        "processed "
       ]
      },
      {
       "output_type": "stream",
       "stream": "stdout",
       "text": [
        " 434\n",
        "skipped  0\n",
        "550220223\n",
        "processed "
       ]
      },
      {
       "output_type": "stream",
       "stream": "stdout",
       "text": [
        " 435\n",
        "skipped  0\n",
        "550246134\n",
        "processed "
       ]
      },
      {
       "output_type": "stream",
       "stream": "stdout",
       "text": [
        " 436\n",
        "skipped  0\n",
        "550918776\n",
        "processed "
       ]
      },
      {
       "output_type": "stream",
       "stream": "stdout",
       "text": [
        " 437\n",
        "skipped  0\n",
        "551714821\n",
        "processed "
       ]
      },
      {
       "output_type": "stream",
       "stream": "stdout",
       "text": [
        " 438\n",
        "skipped  0\n",
        "551991048\n",
        "processed "
       ]
      },
      {
       "output_type": "stream",
       "stream": "stdout",
       "text": [
        " 439\n",
        "skipped  0\n",
        "552179030\n",
        "processed "
       ]
      },
      {
       "output_type": "stream",
       "stream": "stdout",
       "text": [
        " 440\n",
        "skipped  0\n",
        "552285278\n",
        "processed "
       ]
      },
      {
       "output_type": "stream",
       "stream": "stdout",
       "text": [
        " 441\n",
        "skipped  0\n",
        "552343286\n",
        "processed "
       ]
      },
      {
       "output_type": "stream",
       "stream": "stdout",
       "text": [
        " 442\n",
        "skipped  0\n",
        "552450557\n",
        "processed "
       ]
      },
      {
       "output_type": "stream",
       "stream": "stdout",
       "text": [
        " 443\n",
        "skipped  0\n",
        "553165338\n",
        "processed "
       ]
      },
      {
       "output_type": "stream",
       "stream": "stdout",
       "text": [
        " 444\n",
        "skipped  0\n",
        "554883505\n",
        "processed "
       ]
      },
      {
       "output_type": "stream",
       "stream": "stdout",
       "text": [
        " 445\n",
        "skipped  0\n",
        "555372352\n",
        "processed "
       ]
      },
      {
       "output_type": "stream",
       "stream": "stdout",
       "text": [
        " 446\n",
        "skipped  0\n",
        "555689825\n",
        "processed "
       ]
      },
      {
       "output_type": "stream",
       "stream": "stdout",
       "text": [
        " 447\n",
        "skipped  0\n",
        "555843132\n",
        "processed "
       ]
      },
      {
       "output_type": "stream",
       "stream": "stdout",
       "text": [
        " 448\n",
        "skipped  0\n",
        "556645479\n",
        "processed "
       ]
      },
      {
       "output_type": "stream",
       "stream": "stdout",
       "text": [
        " 449\n",
        "skipped  0\n",
        "556934454\n",
        "processed "
       ]
      },
      {
       "output_type": "stream",
       "stream": "stdout",
       "text": [
        " 450\n",
        "skipped  0\n",
        "557152619\n",
        "processed "
       ]
      },
      {
       "output_type": "stream",
       "stream": "stdout",
       "text": [
        " 451\n",
        "skipped  0\n",
        "557237971\n",
        "processed "
       ]
      },
      {
       "output_type": "stream",
       "stream": "stdout",
       "text": [
        " 452\n",
        "skipped  0\n",
        "557521276\n",
        "processed "
       ]
      },
      {
       "output_type": "stream",
       "stream": "stdout",
       "text": [
        " 453\n",
        "skipped  0\n",
        "558095303\n",
        "processed "
       ]
      },
      {
       "output_type": "stream",
       "stream": "stdout",
       "text": [
        " 454\n",
        "skipped  0\n",
        "558197649\n",
        "processed "
       ]
      },
      {
       "output_type": "stream",
       "stream": "stdout",
       "text": [
        " 455\n",
        "skipped  0\n",
        "558655687\n",
        "processed "
       ]
      },
      {
       "output_type": "stream",
       "stream": "stdout",
       "text": [
        " 456\n",
        "skipped  0\n",
        "558851890\n",
        "processed "
       ]
      },
      {
       "output_type": "stream",
       "stream": "stdout",
       "text": [
        " 457\n",
        "skipped  0\n",
        "559736417\n",
        "processed "
       ]
      },
      {
       "output_type": "stream",
       "stream": "stdout",
       "text": [
        " 458\n",
        "skipped  0\n",
        "559785151\n",
        "processed "
       ]
      },
      {
       "output_type": "stream",
       "stream": "stdout",
       "text": [
        " 459\n",
        "skipped  0\n",
        "560048673\n",
        "processed "
       ]
      },
      {
       "output_type": "stream",
       "stream": "stdout",
       "text": [
        " 460\n",
        "skipped  0\n",
        "560090309\n",
        "processed "
       ]
      },
      {
       "output_type": "stream",
       "stream": "stdout",
       "text": [
        " 461\n",
        "skipped  0\n",
        "560127916\n",
        "processed "
       ]
      },
      {
       "output_type": "stream",
       "stream": "stdout",
       "text": [
        " 462\n",
        "skipped  0\n",
        "560262829\n",
        "processed "
       ]
      },
      {
       "output_type": "stream",
       "stream": "stdout",
       "text": [
        " 463\n",
        "skipped  0\n",
        "560310961\n",
        "processed "
       ]
      },
      {
       "output_type": "stream",
       "stream": "stdout",
       "text": [
        " 464\n",
        "skipped  0\n",
        "560339085\n",
        "processed "
       ]
      },
      {
       "output_type": "stream",
       "stream": "stdout",
       "text": [
        " 465\n",
        "skipped  0\n",
        "560351631\n",
        "processed "
       ]
      },
      {
       "output_type": "stream",
       "stream": "stdout",
       "text": [
        " 466\n",
        "skipped  0\n",
        "560378287\n",
        "processed "
       ]
      },
      {
       "output_type": "stream",
       "stream": "stdout",
       "text": [
        " 467\n",
        "skipped  0\n",
        "560417790\n",
        "processed "
       ]
      },
      {
       "output_type": "stream",
       "stream": "stdout",
       "text": [
        " 468\n",
        "skipped  0\n",
        "560535896\n",
        "processed "
       ]
      },
      {
       "output_type": "stream",
       "stream": "stdout",
       "text": [
        " 469\n",
        "skipped  0\n",
        "560707952\n",
        "processed "
       ]
      },
      {
       "output_type": "stream",
       "stream": "stdout",
       "text": [
        " 470\n",
        "skipped  0\n",
        "560751009\n",
        "processed "
       ]
      },
      {
       "output_type": "stream",
       "stream": "stdout",
       "text": [
        " 471\n",
        "skipped  0\n",
        "560768548\n",
        "processed "
       ]
      },
      {
       "output_type": "stream",
       "stream": "stdout",
       "text": [
        " 472\n",
        "skipped  0\n",
        "560842330\n",
        "processed "
       ]
      },
      {
       "output_type": "stream",
       "stream": "stdout",
       "text": [
        " 473\n",
        "skipped  0\n",
        "561122957\n",
        "processed "
       ]
      },
      {
       "output_type": "stream",
       "stream": "stdout",
       "text": [
        " 474\n",
        "skipped  0\n",
        "561174738\n",
        "processed "
       ]
      },
      {
       "output_type": "stream",
       "stream": "stdout",
       "text": [
        " 475\n",
        "skipped  0\n",
        "561368626\n",
        "processed "
       ]
      },
      {
       "output_type": "stream",
       "stream": "stdout",
       "text": [
        " 476\n",
        "skipped  0\n",
        "561800981\n",
        "processed "
       ]
      },
      {
       "output_type": "stream",
       "stream": "stdout",
       "text": [
        " 477\n",
        "skipped  0\n",
        "562073055\n",
        "processed "
       ]
      },
      {
       "output_type": "stream",
       "stream": "stdout",
       "text": [
        " 478\n",
        "skipped  0\n",
        "562399059\n",
        "processed "
       ]
      },
      {
       "output_type": "stream",
       "stream": "stdout",
       "text": [
        " 479\n",
        "skipped  0\n",
        "562399486\n",
        "processed "
       ]
      },
      {
       "output_type": "stream",
       "stream": "stdout",
       "text": [
        " 480\n",
        "skipped  0\n",
        "562736854\n",
        "processed "
       ]
      },
      {
       "output_type": "stream",
       "stream": "stdout",
       "text": [
        " 481\n",
        "skipped  0\n",
        "562742684\n",
        "processed "
       ]
      },
      {
       "output_type": "stream",
       "stream": "stdout",
       "text": [
        " 482\n",
        "skipped  0\n",
        "562984785\n",
        "processed "
       ]
      },
      {
       "output_type": "stream",
       "stream": "stdout",
       "text": [
        " 483\n",
        "skipped  0\n",
        "563073521\n",
        "processed "
       ]
      },
      {
       "output_type": "stream",
       "stream": "stdout",
       "text": [
        " 484\n",
        "skipped  0\n",
        "563250031\n",
        "processed "
       ]
      },
      {
       "output_type": "stream",
       "stream": "stdout",
       "text": [
        " 485\n",
        "skipped  0\n",
        "563556588\n",
        "processed "
       ]
      },
      {
       "output_type": "stream",
       "stream": "stdout",
       "text": [
        " 486\n",
        "skipped  0\n",
        "563582892\n",
        "processed "
       ]
      },
      {
       "output_type": "stream",
       "stream": "stdout",
       "text": [
        " 487\n",
        "skipped  0\n",
        "563851373\n",
        "processed "
       ]
      },
      {
       "output_type": "stream",
       "stream": "stdout",
       "text": [
        " 488\n",
        "skipped  0\n",
        "564075589\n",
        "processed "
       ]
      },
      {
       "output_type": "stream",
       "stream": "stdout",
       "text": [
        " 489\n",
        "skipped  0\n",
        "564196161\n",
        "processed "
       ]
      },
      {
       "output_type": "stream",
       "stream": "stdout",
       "text": [
        " 490\n",
        "skipped  0\n",
        "564418488\n",
        "processed "
       ]
      },
      {
       "output_type": "stream",
       "stream": "stdout",
       "text": [
        " 491\n",
        "skipped  0\n",
        "564457008\n",
        "processed "
       ]
      },
      {
       "output_type": "stream",
       "stream": "stdout",
       "text": [
        " 492\n",
        "skipped  0\n",
        "565254169\n",
        "processed "
       ]
      },
      {
       "output_type": "stream",
       "stream": "stdout",
       "text": [
        " 493\n",
        "skipped  0\n",
        "565270689\n",
        "processed "
       ]
      },
      {
       "output_type": "stream",
       "stream": "stdout",
       "text": [
        " 494\n",
        "skipped  0\n",
        "565612572\n",
        "processed "
       ]
      },
      {
       "output_type": "stream",
       "stream": "stdout",
       "text": [
        " 495\n",
        "skipped  0\n",
        "565620132\n",
        "processed "
       ]
      },
      {
       "output_type": "stream",
       "stream": "stdout",
       "text": [
        " 496\n",
        "skipped  0\n",
        "565774715\n",
        "processed "
       ]
      },
      {
       "output_type": "stream",
       "stream": "stdout",
       "text": [
        " 497\n",
        "skipped  0\n",
        "565831221\n",
        "processed "
       ]
      },
      {
       "output_type": "stream",
       "stream": "stdout",
       "text": [
        " 498\n",
        "skipped  0\n",
        "566175982\n",
        "processed "
       ]
      },
      {
       "output_type": "stream",
       "stream": "stdout",
       "text": [
        " 499\n",
        "skipped  0\n",
        "566194155\n",
        "processed "
       ]
      },
      {
       "output_type": "stream",
       "stream": "stdout",
       "text": [
        " 500\n",
        "skipped  0\n",
        "566220098\n",
        "processed "
       ]
      },
      {
       "output_type": "stream",
       "stream": "stdout",
       "text": [
        " 501\n",
        "skipped  0\n",
        "566546448\n",
        "processed "
       ]
      },
      {
       "output_type": "stream",
       "stream": "stdout",
       "text": [
        " 502\n",
        "skipped  0\n",
        "566592645\n",
        "processed "
       ]
      },
      {
       "output_type": "stream",
       "stream": "stdout",
       "text": [
        " 503\n",
        "skipped  0\n",
        "566726127\n",
        "processed "
       ]
      },
      {
       "output_type": "stream",
       "stream": "stdout",
       "text": [
        " 504\n",
        "skipped  0\n",
        "567132910\n",
        "processed "
       ]
      },
      {
       "output_type": "stream",
       "stream": "stdout",
       "text": [
        " 505\n",
        "skipped  0\n",
        "567149912\n",
        "processed "
       ]
      },
      {
       "output_type": "stream",
       "stream": "stdout",
       "text": [
        " 506\n",
        "skipped  0\n",
        "567150914\n",
        "processed "
       ]
      },
      {
       "output_type": "stream",
       "stream": "stdout",
       "text": [
        " 507\n",
        "skipped  0\n",
        "567201539\n",
        "processed "
       ]
      },
      {
       "output_type": "stream",
       "stream": "stdout",
       "text": [
        " 508\n",
        "skipped  0\n",
        "567387189\n",
        "processed "
       ]
      },
      {
       "output_type": "stream",
       "stream": "stdout",
       "text": [
        " 509\n",
        "skipped  0\n",
        "567440968\n",
        "processed "
       ]
      },
      {
       "output_type": "stream",
       "stream": "stdout",
       "text": [
        " 510\n",
        "skipped  0\n",
        "567594230\n",
        "processed "
       ]
      },
      {
       "output_type": "stream",
       "stream": "stdout",
       "text": [
        " 511\n",
        "skipped  0\n",
        "567706084\n",
        "processed "
       ]
      },
      {
       "output_type": "stream",
       "stream": "stdout",
       "text": [
        " 512\n",
        "skipped  0\n",
        "567808993\n",
        "processed "
       ]
      },
      {
       "output_type": "stream",
       "stream": "stdout",
       "text": [
        " 513\n",
        "skipped  0\n",
        "568058112\n",
        "processed "
       ]
      },
      {
       "output_type": "stream",
       "stream": "stdout",
       "text": [
        " 514\n",
        "skipped  0\n",
        "568220153\n",
        "processed "
       ]
      },
      {
       "output_type": "stream",
       "stream": "stdout",
       "text": [
        " 515\n",
        "skipped  0\n",
        "568278639\n",
        "processed "
       ]
      },
      {
       "output_type": "stream",
       "stream": "stdout",
       "text": [
        " 516\n",
        "skipped  0\n",
        "568314417\n",
        "processed "
       ]
      },
      {
       "output_type": "stream",
       "stream": "stdout",
       "text": [
        " 517\n",
        "skipped  0\n",
        "568405515\n",
        "processed "
       ]
      },
      {
       "output_type": "stream",
       "stream": "stdout",
       "text": [
        " 518\n",
        "skipped  0\n",
        "568873296\n",
        "processed "
       ]
      },
      {
       "output_type": "stream",
       "stream": "stdout",
       "text": [
        " 519\n",
        "skipped  0\n",
        "569385275\n",
        "processed "
       ]
      },
      {
       "output_type": "stream",
       "stream": "stdout",
       "text": [
        " 520\n",
        "skipped  0\n",
        "569400896\n",
        "processed "
       ]
      },
      {
       "output_type": "stream",
       "stream": "stdout",
       "text": [
        " 521\n",
        "skipped  0\n",
        "569440622\n",
        "processed "
       ]
      },
      {
       "output_type": "stream",
       "stream": "stdout",
       "text": [
        " 522\n",
        "skipped  0\n",
        "569448540\n",
        "processed "
       ]
      },
      {
       "output_type": "stream",
       "stream": "stdout",
       "text": [
        " 523\n",
        "skipped  0\n",
        "569458361\n",
        "processed "
       ]
      },
      {
       "output_type": "stream",
       "stream": "stdout",
       "text": [
        " 524\n",
        "skipped  0\n",
        "569473458\n",
        "processed "
       ]
      },
      {
       "output_type": "stream",
       "stream": "stdout",
       "text": [
        " 525\n",
        "skipped  0\n",
        "570126417\n",
        "processed "
       ]
      },
      {
       "output_type": "stream",
       "stream": "stdout",
       "text": [
        " 526\n",
        "skipped  0\n",
        "570281609\n",
        "processed "
       ]
      },
      {
       "output_type": "stream",
       "stream": "stdout",
       "text": [
        " 527\n",
        "skipped  0\n",
        "570420066\n",
        "processed "
       ]
      },
      {
       "output_type": "stream",
       "stream": "stdout",
       "text": [
        " 528\n",
        "skipped  0\n",
        "570820516\n",
        "processed "
       ]
      },
      {
       "output_type": "stream",
       "stream": "stdout",
       "text": [
        " 529\n",
        "skipped  0\n",
        "571250692\n",
        "processed "
       ]
      },
      {
       "output_type": "stream",
       "stream": "stdout",
       "text": [
        " 530\n",
        "skipped  0\n",
        "572427751\n",
        "processed "
       ]
      },
      {
       "output_type": "stream",
       "stream": "stdout",
       "text": [
        " 531\n",
        "skipped  0\n",
        "572497331\n",
        "processed "
       ]
      },
      {
       "output_type": "stream",
       "stream": "stdout",
       "text": [
        " 532\n",
        "skipped  0\n",
        "572595598\n",
        "processed "
       ]
      },
      {
       "output_type": "stream",
       "stream": "stdout",
       "text": [
        " 533\n",
        "skipped  0\n",
        "576800952\n",
        "processed "
       ]
      },
      {
       "output_type": "stream",
       "stream": "stdout",
       "text": [
        " 534\n",
        "skipped  0\n",
        "576826346\n",
        "processed "
       ]
      },
      {
       "output_type": "stream",
       "stream": "stdout",
       "text": [
        " 535\n",
        "skipped  0\n",
        "576906221\n",
        "processed "
       ]
      },
      {
       "output_type": "stream",
       "stream": "stdout",
       "text": [
        " 536\n",
        "skipped  0\n",
        "577070880\n",
        "processed "
       ]
      },
      {
       "output_type": "stream",
       "stream": "stdout",
       "text": [
        " 537\n",
        "skipped  0\n",
        "577076453\n",
        "processed "
       ]
      },
      {
       "output_type": "stream",
       "stream": "stdout",
       "text": [
        " 538\n",
        "skipped  0\n",
        "577226126\n",
        "processed "
       ]
      },
      {
       "output_type": "stream",
       "stream": "stdout",
       "text": [
        " 539\n",
        "skipped  0\n",
        "578103835\n",
        "processed "
       ]
      },
      {
       "output_type": "stream",
       "stream": "stdout",
       "text": [
        " 540\n",
        "skipped  0\n",
        "578124694\n",
        "processed "
       ]
      },
      {
       "output_type": "stream",
       "stream": "stdout",
       "text": [
        " 541\n",
        "skipped  0\n",
        "578153622\n",
        "processed "
       ]
      },
      {
       "output_type": "stream",
       "stream": "stdout",
       "text": [
        " 542\n",
        "skipped  0\n",
        "578156115\n",
        "processed "
       ]
      },
      {
       "output_type": "stream",
       "stream": "stdout",
       "text": [
        " 543\n",
        "skipped  0\n",
        "578156372\n",
        "processed "
       ]
      },
      {
       "output_type": "stream",
       "stream": "stdout",
       "text": [
        " 544\n",
        "skipped  0\n",
        "578156412\n",
        "processed "
       ]
      },
      {
       "output_type": "stream",
       "stream": "stdout",
       "text": [
        " 545\n",
        "skipped  0\n",
        "578167861\n",
        "processed "
       ]
      },
      {
       "output_type": "stream",
       "stream": "stdout",
       "text": [
        " 546\n",
        "skipped  0\n",
        "578210309\n",
        "processed "
       ]
      },
      {
       "output_type": "stream",
       "stream": "stdout",
       "text": [
        " 547\n",
        "skipped  0\n",
        "578210949\n",
        "processed "
       ]
      },
      {
       "output_type": "stream",
       "stream": "stdout",
       "text": [
        " 548\n",
        "skipped  0\n",
        "578294304\n",
        "processed "
       ]
      },
      {
       "output_type": "stream",
       "stream": "stdout",
       "text": [
        " 549\n",
        "skipped  0\n",
        "578364597\n",
        "processed "
       ]
      },
      {
       "output_type": "stream",
       "stream": "stdout",
       "text": [
        " 550\n",
        "skipped  0\n",
        "578371687\n",
        "processed "
       ]
      },
      {
       "output_type": "stream",
       "stream": "stdout",
       "text": [
        " 551\n",
        "skipped  0\n",
        "578520886\n",
        "processed "
       ]
      },
      {
       "output_type": "stream",
       "stream": "stdout",
       "text": [
        " 552\n",
        "skipped  0\n",
        "578636827\n",
        "processed "
       ]
      },
      {
       "output_type": "stream",
       "stream": "stdout",
       "text": [
        " 553\n",
        "skipped  0\n",
        "578653839\n",
        "processed "
       ]
      },
      {
       "output_type": "stream",
       "stream": "stdout",
       "text": [
        " 554\n",
        "skipped  0\n",
        "578713987\n",
        "processed "
       ]
      },
      {
       "output_type": "stream",
       "stream": "stdout",
       "text": [
        " 555\n",
        "skipped  0\n",
        "578974914\n",
        "processed "
       ]
      },
      {
       "output_type": "stream",
       "stream": "stdout",
       "text": [
        " 556\n",
        "skipped  0\n",
        "579044624\n",
        "processed "
       ]
      },
      {
       "output_type": "stream",
       "stream": "stdout",
       "text": [
        " 557\n",
        "skipped  0\n",
        "580296869\n",
        "processed "
       ]
      },
      {
       "output_type": "stream",
       "stream": "stdout",
       "text": [
        " 558\n",
        "skipped  0\n",
        "581963231\n",
        "processed "
       ]
      },
      {
       "output_type": "stream",
       "stream": "stdout",
       "text": [
        " 559\n",
        "skipped  0\n",
        "589072496\n",
        "processed "
       ]
      },
      {
       "output_type": "stream",
       "stream": "stdout",
       "text": [
        " 560\n",
        "skipped  0\n",
        "589074541\n",
        "processed "
       ]
      },
      {
       "output_type": "stream",
       "stream": "stdout",
       "text": [
        " 561\n",
        "skipped  0\n",
        "589074546\n",
        "processed "
       ]
      },
      {
       "output_type": "stream",
       "stream": "stdout",
       "text": [
        " 562\n",
        "skipped  0\n",
        "589088428\n",
        "processed "
       ]
      },
      {
       "output_type": "stream",
       "stream": "stdout",
       "text": [
        " 563\n",
        "skipped  0\n",
        "589089635\n",
        "processed "
       ]
      },
      {
       "output_type": "stream",
       "stream": "stdout",
       "text": [
        " 564\n",
        "skipped  0\n",
        "589090828\n",
        "processed "
       ]
      },
      {
       "output_type": "stream",
       "stream": "stdout",
       "text": [
        " 565\n",
        "skipped  0\n",
        "589116902\n",
        "processed "
       ]
      },
      {
       "output_type": "stream",
       "stream": "stdout",
       "text": [
        " 566\n",
        "skipped  0\n",
        "589116915\n",
        "processed "
       ]
      },
      {
       "output_type": "stream",
       "stream": "stdout",
       "text": [
        " 567\n",
        "skipped  0\n",
        "589129653\n",
        "processed "
       ]
      },
      {
       "output_type": "stream",
       "stream": "stdout",
       "text": [
        " 568\n",
        "skipped  0\n",
        "589153423\n",
        "processed "
       ]
      },
      {
       "output_type": "stream",
       "stream": "stdout",
       "text": [
        " 569\n",
        "skipped  0\n",
        "589156380\n",
        "processed "
       ]
      },
      {
       "output_type": "stream",
       "stream": "stdout",
       "text": [
        " 570\n",
        "skipped  0\n",
        "589208129\n",
        "processed "
       ]
      },
      {
       "output_type": "stream",
       "stream": "stdout",
       "text": [
        " 571\n",
        "skipped  0\n",
        "589213448\n",
        "processed "
       ]
      },
      {
       "output_type": "stream",
       "stream": "stdout",
       "text": [
        " 572\n",
        "skipped  0\n",
        "589213994\n",
        "processed "
       ]
      },
      {
       "output_type": "stream",
       "stream": "stdout",
       "text": [
        " 573\n",
        "skipped  0\n",
        "589224922\n",
        "processed "
       ]
      },
      {
       "output_type": "stream",
       "stream": "stdout",
       "text": [
        " 574\n",
        "skipped  0\n",
        "589225296\n",
        "processed "
       ]
      },
      {
       "output_type": "stream",
       "stream": "stdout",
       "text": [
        " 575\n",
        "skipped  0\n",
        "589239170\n",
        "processed "
       ]
      },
      {
       "output_type": "stream",
       "stream": "stdout",
       "text": [
        " 576\n",
        "skipped  0\n",
        "589240076\n",
        "processed "
       ]
      },
      {
       "output_type": "stream",
       "stream": "stdout",
       "text": [
        " 577\n",
        "skipped  0\n",
        "589261134\n",
        "processed "
       ]
      },
      {
       "output_type": "stream",
       "stream": "stdout",
       "text": [
        " 578\n",
        "skipped  0\n",
        "589261136\n",
        "processed "
       ]
      },
      {
       "output_type": "stream",
       "stream": "stdout",
       "text": [
        " 579\n",
        "skipped  0\n",
        "589273978\n",
        "processed "
       ]
      },
      {
       "output_type": "stream",
       "stream": "stdout",
       "text": [
        " 580\n",
        "skipped  0\n",
        "589285851\n",
        "processed "
       ]
      },
      {
       "output_type": "stream",
       "stream": "stdout",
       "text": [
        " 581\n",
        "skipped  0\n",
        "589285856\n",
        "processed "
       ]
      },
      {
       "output_type": "stream",
       "stream": "stdout",
       "text": [
        " 582\n",
        "skipped  0\n",
        "589298598\n",
        "processed "
       ]
      },
      {
       "output_type": "stream",
       "stream": "stdout",
       "text": [
        " 583\n",
        "skipped  0\n",
        "589305788\n",
        "processed "
       ]
      },
      {
       "output_type": "stream",
       "stream": "stdout",
       "text": [
        " 584\n",
        "skipped  0\n",
        "589310534\n",
        "processed "
       ]
      },
      {
       "output_type": "stream",
       "stream": "stdout",
       "text": [
        " 585\n",
        "skipped  0\n",
        "589316558\n",
        "processed "
       ]
      },
      {
       "output_type": "stream",
       "stream": "stdout",
       "text": [
        " 586\n",
        "skipped  0\n",
        "589324992\n",
        "processed "
       ]
      },
      {
       "output_type": "stream",
       "stream": "stdout",
       "text": [
        " 587\n",
        "skipped  0\n",
        "589326873\n",
        "processed "
       ]
      },
      {
       "output_type": "stream",
       "stream": "stdout",
       "text": [
        " 588\n",
        "skipped  0\n",
        "589335687\n",
        "processed "
       ]
      },
      {
       "output_type": "stream",
       "stream": "stdout",
       "text": [
        " 589\n",
        "skipped  0\n",
        "589355839\n",
        "processed "
       ]
      },
      {
       "output_type": "stream",
       "stream": "stdout",
       "text": [
        " 590\n",
        "skipped  0\n",
        "589368807\n",
        "processed "
       ]
      },
      {
       "output_type": "stream",
       "stream": "stdout",
       "text": [
        " 591\n",
        "skipped  0\n",
        "589371772\n",
        "processed "
       ]
      },
      {
       "output_type": "stream",
       "stream": "stdout",
       "text": [
        " 592\n",
        "skipped  0\n",
        "589377853\n",
        "processed "
       ]
      },
      {
       "output_type": "stream",
       "stream": "stdout",
       "text": [
        " 593\n",
        "skipped  0\n",
        "589384584\n",
        "processed "
       ]
      },
      {
       "output_type": "stream",
       "stream": "stdout",
       "text": [
        " 594\n",
        "skipped  0\n",
        "589440172\n",
        "processed "
       ]
      },
      {
       "output_type": "stream",
       "stream": "stdout",
       "text": [
        " 595\n",
        "skipped  0\n",
        "589502987\n",
        "processed "
       ]
      },
      {
       "output_type": "stream",
       "stream": "stdout",
       "text": [
        " 596\n",
        "skipped  0\n",
        "589513642\n",
        "processed "
       ]
      },
      {
       "output_type": "stream",
       "stream": "stdout",
       "text": [
        " 597\n",
        "skipped  0\n",
        "589568015\n",
        "processed "
       ]
      },
      {
       "output_type": "stream",
       "stream": "stdout",
       "text": [
        " 598\n",
        "skipped  0\n",
        "589625611\n",
        "processed "
       ]
      },
      {
       "output_type": "stream",
       "stream": "stdout",
       "text": [
        " 599\n",
        "skipped  0\n",
        "589655068\n",
        "processed "
       ]
      },
      {
       "output_type": "stream",
       "stream": "stdout",
       "text": [
        " 600\n",
        "skipped  0\n",
        "589674386\n",
        "processed "
       ]
      },
      {
       "output_type": "stream",
       "stream": "stdout",
       "text": [
        " 601\n",
        "skipped  0\n",
        "589683282\n",
        "processed "
       ]
      },
      {
       "output_type": "stream",
       "stream": "stdout",
       "text": [
        " 602\n",
        "skipped  0\n",
        "589686438\n",
        "processed "
       ]
      },
      {
       "output_type": "stream",
       "stream": "stdout",
       "text": [
        " 603\n",
        "skipped  0\n",
        "589754761\n",
        "processed "
       ]
      },
      {
       "output_type": "stream",
       "stream": "stdout",
       "text": [
        " 604\n",
        "skipped  0\n",
        "589755411\n",
        "processed "
       ]
      },
      {
       "output_type": "stream",
       "stream": "stdout",
       "text": [
        " 605\n",
        "skipped  0\n",
        "589755612\n",
        "processed "
       ]
      },
      {
       "output_type": "stream",
       "stream": "stdout",
       "text": [
        " 606\n",
        "skipped  0\n",
        "589758021\n",
        "processed "
       ]
      },
      {
       "output_type": "stream",
       "stream": "stdout",
       "text": [
        " 607\n",
        "skipped  0\n",
        "589768387\n",
        "processed "
       ]
      },
      {
       "output_type": "stream",
       "stream": "stdout",
       "text": [
        " 608\n",
        "skipped  0\n",
        "589786104\n",
        "processed "
       ]
      },
      {
       "output_type": "stream",
       "stream": "stdout",
       "text": [
        " 609\n",
        "skipped  0\n",
        "589786154\n",
        "processed "
       ]
      },
      {
       "output_type": "stream",
       "stream": "stdout",
       "text": [
        " 610\n",
        "skipped  0\n",
        "589786414\n",
        "processed "
       ]
      },
      {
       "output_type": "stream",
       "stream": "stdout",
       "text": [
        " 611\n",
        "skipped  0\n",
        "589862512\n",
        "processed "
       ]
      },
      {
       "output_type": "stream",
       "stream": "stdout",
       "text": [
        " 612\n",
        "skipped  0\n",
        "589862834\n",
        "processed "
       ]
      },
      {
       "output_type": "stream",
       "stream": "stdout",
       "text": [
        " 613\n",
        "skipped  0\n",
        "589862835\n",
        "processed "
       ]
      },
      {
       "output_type": "stream",
       "stream": "stdout",
       "text": [
        " 614\n",
        "skipped  0\n",
        "589867651\n",
        "processed "
       ]
      },
      {
       "output_type": "stream",
       "stream": "stdout",
       "text": [
        " 615\n",
        "skipped  0\n",
        "589877044\n",
        "processed "
       ]
      },
      {
       "output_type": "stream",
       "stream": "stdout",
       "text": [
        " 616\n",
        "skipped  0\n",
        "589878988\n",
        "processed "
       ]
      },
      {
       "output_type": "stream",
       "stream": "stdout",
       "text": [
        " 617\n",
        "skipped  0\n",
        "589902239\n",
        "processed "
       ]
      },
      {
       "output_type": "stream",
       "stream": "stdout",
       "text": [
        " 618\n",
        "skipped  0\n",
        "589902589\n",
        "processed "
       ]
      },
      {
       "output_type": "stream",
       "stream": "stdout",
       "text": [
        " 619\n",
        "skipped  0\n",
        "589903803\n",
        "processed "
       ]
      },
      {
       "output_type": "stream",
       "stream": "stdout",
       "text": [
        " 620\n",
        "skipped  0\n",
        "589912699\n",
        "processed "
       ]
      },
      {
       "output_type": "stream",
       "stream": "stdout",
       "text": [
        " 621\n",
        "skipped  0\n",
        "589925438\n",
        "processed "
       ]
      },
      {
       "output_type": "stream",
       "stream": "stdout",
       "text": [
        " 622\n",
        "skipped  0\n",
        "589929254\n",
        "processed "
       ]
      },
      {
       "output_type": "stream",
       "stream": "stdout",
       "text": [
        " 623\n",
        "skipped  0\n",
        "589929573\n",
        "processed "
       ]
      },
      {
       "output_type": "stream",
       "stream": "stdout",
       "text": [
        " 624\n",
        "skipped  0\n",
        "589934787\n",
        "processed "
       ]
      },
      {
       "output_type": "stream",
       "stream": "stdout",
       "text": [
        " 625\n",
        "skipped  0\n",
        "589938190\n",
        "processed "
       ]
      },
      {
       "output_type": "stream",
       "stream": "stdout",
       "text": [
        " 626\n",
        "skipped  0\n",
        "589945649\n",
        "processed "
       ]
      },
      {
       "output_type": "stream",
       "stream": "stdout",
       "text": [
        " 627\n",
        "skipped  0\n",
        "589946203\n",
        "processed "
       ]
      },
      {
       "output_type": "stream",
       "stream": "stdout",
       "text": [
        " 628\n",
        "skipped  0\n",
        "589956136\n",
        "processed "
       ]
      },
      {
       "output_type": "stream",
       "stream": "stdout",
       "text": [
        " 629\n",
        "skipped  0\n",
        "589985214\n",
        "processed "
       ]
      },
      {
       "output_type": "stream",
       "stream": "stdout",
       "text": [
        " 630\n",
        "skipped  0\n",
        "589992578\n",
        "processed "
       ]
      },
      {
       "output_type": "stream",
       "stream": "stdout",
       "text": [
        " 631\n",
        "skipped  0\n",
        "589992873\n",
        "processed "
       ]
      },
      {
       "output_type": "stream",
       "stream": "stdout",
       "text": [
        " 632\n",
        "skipped  0\n",
        "590003031\n",
        "processed "
       ]
      },
      {
       "output_type": "stream",
       "stream": "stdout",
       "text": [
        " 633\n",
        "skipped  0\n",
        "590003045\n",
        "processed "
       ]
      },
      {
       "output_type": "stream",
       "stream": "stdout",
       "text": [
        " 634\n",
        "skipped  0\n",
        "590033845\n",
        "processed "
       ]
      },
      {
       "output_type": "stream",
       "stream": "stdout",
       "text": [
        " 635\n",
        "skipped  0\n",
        "590033849\n",
        "processed "
       ]
      },
      {
       "output_type": "stream",
       "stream": "stdout",
       "text": [
        " 636\n",
        "skipped  0\n",
        "590033852\n",
        "processed "
       ]
      },
      {
       "output_type": "stream",
       "stream": "stdout",
       "text": [
        " 637\n",
        "skipped  0\n",
        "590057803\n",
        "processed "
       ]
      },
      {
       "output_type": "stream",
       "stream": "stdout",
       "text": [
        " 638\n",
        "skipped  0\n",
        "590237580\n",
        "processed "
       ]
      },
      {
       "output_type": "stream",
       "stream": "stdout",
       "text": [
        " 639\n",
        "skipped  0\n",
        "590249522\n",
        "processed "
       ]
      },
      {
       "output_type": "stream",
       "stream": "stdout",
       "text": [
        " 640\n",
        "skipped  0\n",
        "590264671\n",
        "processed "
       ]
      },
      {
       "output_type": "stream",
       "stream": "stdout",
       "text": [
        " 641\n",
        "skipped  0\n",
        "590293497\n",
        "processed "
       ]
      },
      {
       "output_type": "stream",
       "stream": "stdout",
       "text": [
        " 642\n",
        "skipped  0\n",
        "590323886\n",
        "processed "
       ]
      },
      {
       "output_type": "stream",
       "stream": "stdout",
       "text": [
        " 643\n",
        "skipped  0\n",
        "590323913\n",
        "processed "
       ]
      },
      {
       "output_type": "stream",
       "stream": "stdout",
       "text": [
        " 644\n",
        "skipped  0\n",
        "590324177\n",
        "processed "
       ]
      },
      {
       "output_type": "stream",
       "stream": "stdout",
       "text": [
        " 645\n",
        "skipped  0\n",
        "590338530\n",
        "processed "
       ]
      },
      {
       "output_type": "stream",
       "stream": "stdout",
       "text": [
        " 646\n",
        "skipped  0\n",
        "590339267\n",
        "processed "
       ]
      },
      {
       "output_type": "stream",
       "stream": "stdout",
       "text": [
        " 647\n",
        "skipped  0\n",
        "590340446\n",
        "processed "
       ]
      },
      {
       "output_type": "stream",
       "stream": "stdout",
       "text": [
        " 648\n",
        "skipped  0\n",
        "590351087\n",
        "processed "
       ]
      },
      {
       "output_type": "stream",
       "stream": "stdout",
       "text": [
        " 649\n",
        "skipped  0\n",
        "590353661\n",
        "processed "
       ]
      },
      {
       "output_type": "stream",
       "stream": "stdout",
       "text": [
        " 650\n",
        "skipped  0\n",
        "590356585\n",
        "processed "
       ]
      },
      {
       "output_type": "stream",
       "stream": "stdout",
       "text": [
        " 651\n",
        "skipped  0\n",
        "590356597\n",
        "processed "
       ]
      },
      {
       "output_type": "stream",
       "stream": "stdout",
       "text": [
        " 652\n",
        "skipped  0\n",
        "590386215\n",
        "processed "
       ]
      },
      {
       "output_type": "stream",
       "stream": "stdout",
       "text": [
        " 653\n",
        "skipped  0\n",
        "590386218\n",
        "processed "
       ]
      },
      {
       "output_type": "stream",
       "stream": "stdout",
       "text": [
        " 654\n",
        "skipped  0\n",
        "590386225\n",
        "processed "
       ]
      },
      {
       "output_type": "stream",
       "stream": "stdout",
       "text": [
        " 655\n",
        "skipped  0\n",
        "590397660\n",
        "processed "
       ]
      },
      {
       "output_type": "stream",
       "stream": "stdout",
       "text": [
        " 656\n",
        "skipped  0\n",
        "590398422\n",
        "processed "
       ]
      },
      {
       "output_type": "stream",
       "stream": "stdout",
       "text": [
        " 657\n",
        "skipped  0\n",
        "590399931\n",
        "processed "
       ]
      },
      {
       "output_type": "stream",
       "stream": "stdout",
       "text": [
        " 658\n",
        "skipped  0\n",
        "590411501\n",
        "processed "
       ]
      },
      {
       "output_type": "stream",
       "stream": "stdout",
       "text": [
        " 659\n",
        "skipped  0\n",
        "590424369\n",
        "processed "
       ]
      },
      {
       "output_type": "stream",
       "stream": "stdout",
       "text": [
        " 660\n",
        "skipped  0\n",
        "590425749\n",
        "processed "
       ]
      },
      {
       "output_type": "stream",
       "stream": "stdout",
       "text": [
        " 661\n",
        "skipped  0\n",
        "590425776\n",
        "processed "
       ]
      },
      {
       "output_type": "stream",
       "stream": "stdout",
       "text": [
        " 662\n",
        "skipped  0\n",
        "590425824\n",
        "processed "
       ]
      },
      {
       "output_type": "stream",
       "stream": "stdout",
       "text": [
        " 663\n",
        "skipped  0\n",
        "590437581\n",
        "processed "
       ]
      },
      {
       "output_type": "stream",
       "stream": "stdout",
       "text": [
        " 664\n",
        "skipped  0\n",
        "590441661\n",
        "processed "
       ]
      },
      {
       "output_type": "stream",
       "stream": "stdout",
       "text": [
        " 665\n",
        "skipped  0\n",
        "590441662\n",
        "processed "
       ]
      },
      {
       "output_type": "stream",
       "stream": "stdout",
       "text": [
        " 666\n",
        "skipped  0\n",
        "590460432\n",
        "processed "
       ]
      },
      {
       "output_type": "stream",
       "stream": "stdout",
       "text": [
        " 667\n",
        "skipped  0\n",
        "590462467\n",
        "processed "
       ]
      },
      {
       "output_type": "stream",
       "stream": "stdout",
       "text": [
        " 668\n",
        "skipped  0\n",
        "590512426\n",
        "processed "
       ]
      },
      {
       "output_type": "stream",
       "stream": "stdout",
       "text": [
        " 669\n",
        "skipped  0\n",
        "590514891\n",
        "processed "
       ]
      },
      {
       "output_type": "stream",
       "stream": "stdout",
       "text": [
        " 670\n",
        "skipped  0\n",
        "590515180\n",
        "processed "
       ]
      },
      {
       "output_type": "stream",
       "stream": "stdout",
       "text": [
        " 671\n",
        "skipped  0\n",
        "590529801\n",
        "processed "
       ]
      },
      {
       "output_type": "stream",
       "stream": "stdout",
       "text": [
        " 672\n",
        "skipped  0\n",
        "590531075\n",
        "processed "
       ]
      },
      {
       "output_type": "stream",
       "stream": "stdout",
       "text": [
        " 673\n",
        "skipped  0\n",
        "590542372\n",
        "processed "
       ]
      },
      {
       "output_type": "stream",
       "stream": "stdout",
       "text": [
        " 674\n",
        "skipped  0\n",
        "590542427\n",
        "processed "
       ]
      },
      {
       "output_type": "stream",
       "stream": "stdout",
       "text": [
        " 675\n",
        "skipped  0\n",
        "590551407\n",
        "processed "
       ]
      },
      {
       "output_type": "stream",
       "stream": "stdout",
       "text": [
        " 676\n",
        "skipped  0\n",
        "590552268\n",
        "processed "
       ]
      },
      {
       "output_type": "stream",
       "stream": "stdout",
       "text": [
        " 677\n",
        "skipped  0\n",
        "590552363\n",
        "processed "
       ]
      },
      {
       "output_type": "stream",
       "stream": "stdout",
       "text": [
        " 678\n",
        "skipped  0\n",
        "590552784\n",
        "processed "
       ]
      },
      {
       "output_type": "stream",
       "stream": "stdout",
       "text": [
        " 679\n",
        "skipped  0\n",
        "590560741\n",
        "processed "
       ]
      },
      {
       "output_type": "stream",
       "stream": "stdout",
       "text": [
        " 680\n",
        "skipped  0\n",
        "590576816\n",
        "processed "
       ]
      },
      {
       "output_type": "stream",
       "stream": "stdout",
       "text": [
        " 681\n",
        "skipped  0\n",
        "590585094\n",
        "processed "
       ]
      },
      {
       "output_type": "stream",
       "stream": "stdout",
       "text": [
        " 682\n",
        "skipped  0\n",
        "590593066\n",
        "processed "
       ]
      },
      {
       "output_type": "stream",
       "stream": "stdout",
       "text": [
        " 683\n",
        "skipped  0\n",
        "590596271\n",
        "processed "
       ]
      },
      {
       "output_type": "stream",
       "stream": "stdout",
       "text": [
        " 684\n",
        "skipped  0\n",
        "590605895\n",
        "processed "
       ]
      },
      {
       "output_type": "stream",
       "stream": "stdout",
       "text": [
        " 685\n",
        "skipped  0\n",
        "590620426\n",
        "processed "
       ]
      },
      {
       "output_type": "stream",
       "stream": "stdout",
       "text": [
        " 686\n",
        "skipped  0\n",
        "590623508\n",
        "processed "
       ]
      },
      {
       "output_type": "stream",
       "stream": "stdout",
       "text": [
        " 687\n",
        "skipped  0\n",
        "590623511\n",
        "processed "
       ]
      },
      {
       "output_type": "stream",
       "stream": "stdout",
       "text": [
        " 688\n",
        "skipped  0\n",
        "590639137\n",
        "processed "
       ]
      },
      {
       "output_type": "stream",
       "stream": "stdout",
       "text": [
        " 689\n",
        "skipped  0\n",
        "590646856\n",
        "processed "
       ]
      },
      {
       "output_type": "stream",
       "stream": "stdout",
       "text": [
        " 690\n",
        "skipped  0\n",
        "590647873\n",
        "processed "
       ]
      },
      {
       "output_type": "stream",
       "stream": "stdout",
       "text": [
        " 691\n",
        "skipped  0\n",
        "590654819\n",
        "processed "
       ]
      },
      {
       "output_type": "stream",
       "stream": "stdout",
       "text": [
        " 692\n",
        "skipped  0\n",
        "590661408\n",
        "processed "
       ]
      },
      {
       "output_type": "stream",
       "stream": "stdout",
       "text": [
        " 693\n",
        "skipped  0\n",
        "590685837\n",
        "processed "
       ]
      },
      {
       "output_type": "stream",
       "stream": "stdout",
       "text": [
        " 694\n",
        "skipped  0\n",
        "590720858\n",
        "processed "
       ]
      },
      {
       "output_type": "stream",
       "stream": "stdout",
       "text": [
        " 695\n",
        "skipped  0\n",
        "590806668\n",
        "processed "
       ]
      },
      {
       "output_type": "stream",
       "stream": "stdout",
       "text": [
        " 696\n",
        "skipped  0\n",
        "590841021\n",
        "processed "
       ]
      },
      {
       "output_type": "stream",
       "stream": "stdout",
       "text": [
        " 697\n",
        "skipped  0\n",
        "590877233\n",
        "processed "
       ]
      },
      {
       "output_type": "stream",
       "stream": "stdout",
       "text": [
        " 698\n",
        "skipped  0\n",
        "590917078\n",
        "processed "
       ]
      },
      {
       "output_type": "stream",
       "stream": "stdout",
       "text": [
        " 699\n",
        "skipped  0\n",
        "590918616\n",
        "processed "
       ]
      },
      {
       "output_type": "stream",
       "stream": "stdout",
       "text": [
        " 700\n",
        "skipped  0\n",
        "590918621\n",
        "processed "
       ]
      },
      {
       "output_type": "stream",
       "stream": "stdout",
       "text": [
        " 701\n",
        "skipped  0\n",
        "590929956\n",
        "processed "
       ]
      },
      {
       "output_type": "stream",
       "stream": "stdout",
       "text": [
        " 702\n",
        "skipped  0\n",
        "590957300\n",
        "processed "
       ]
      },
      {
       "output_type": "stream",
       "stream": "stdout",
       "text": [
        " 703\n",
        "skipped  0\n",
        "590957745\n",
        "processed "
       ]
      },
      {
       "output_type": "stream",
       "stream": "stdout",
       "text": [
        " 704\n",
        "skipped  0\n",
        "590961196\n",
        "processed "
       ]
      },
      {
       "output_type": "stream",
       "stream": "stdout",
       "text": [
        " 705\n",
        "skipped  0\n",
        "590962451\n",
        "processed "
       ]
      },
      {
       "output_type": "stream",
       "stream": "stdout",
       "text": [
        " 706\n",
        "skipped  0\n",
        "590975183\n",
        "processed "
       ]
      },
      {
       "output_type": "stream",
       "stream": "stdout",
       "text": [
        " 707\n",
        "skipped  0\n",
        "590975515\n",
        "processed "
       ]
      },
      {
       "output_type": "stream",
       "stream": "stdout",
       "text": [
        " 708\n",
        "skipped  0\n",
        "590975517\n",
        "processed "
       ]
      },
      {
       "output_type": "stream",
       "stream": "stdout",
       "text": [
        " 709\n",
        "skipped  0\n",
        "590976484\n",
        "processed "
       ]
      },
      {
       "output_type": "stream",
       "stream": "stdout",
       "text": [
        " 710\n",
        "skipped  0\n",
        "591998702\n",
        "processed "
       ]
      },
      {
       "output_type": "stream",
       "stream": "stdout",
       "text": [
        " 711\n",
        "skipped  0\n",
        "591998982\n",
        "Total_time"
       ]
      },
      {
       "output_type": "stream",
       "stream": "stdout",
       "text": [
        " 0:24:14.181392\n",
        "Time per download 0:00:02.042389\n"
       ]
      }
     ],
     "prompt_number": 159
    },
    {
     "cell_type": "code",
     "collapsed": false,
     "input": [
      "comps_downloads = cPickle.load( open( \"comps_downloads.pickle\", \"rb\") )"
     ],
     "language": "python",
     "metadata": {},
     "outputs": [],
     "prompt_number": 101
    },
    {
     "cell_type": "heading",
     "level": 1,
     "metadata": {},
     "source": [
      "Results"
     ]
    },
    {
     "cell_type": "heading",
     "level": 2,
     "metadata": {},
     "source": [
      "Results Overall"
     ]
    },
    {
     "cell_type": "code",
     "collapsed": false,
     "input": [
      "comps_downloads[0]"
     ],
     "language": "python",
     "metadata": {},
     "outputs": [
      {
       "metadata": {},
       "output_type": "pyout",
       "prompt_number": 160,
       "text": [
        "{'boiler_pipe': {'f1': 0.8795518207282913,\n",
        "  'precision': 0.8051282051282052,\n",
        "  'recall': 0.9691358024691358},\n",
        " 'crf': {'f1': 1.0, 'precision': 1.0, 'recall': 1.0},\n",
        " 'downloads_id': 406397565,\n",
        " 'gold': {'f1': 1.0, 'precision': 1.0, 'recall': 1.0},\n",
        " 'heur': {'f1': 0.8394062078272605,\n",
        "  'precision': 0.7458033573141487,\n",
        "  'recall': 0.9598765432098766},\n",
        " 'justext': {'f1': 0, 'precision': 0.0, 'recall': 0.0},\n",
        " 'media_id': 66924,\n",
        " 'py_boiler_pipe': {'f1': 0.9006993006993006,\n",
        "  'precision': 0.8235294117647058,\n",
        "  'recall': 0.9938271604938271},\n",
        " 'python_readibilty': {'f1': 0.9953917050691244,\n",
        "  'precision': 0.9908256880733946,\n",
        "  'recall': 1.0},\n",
        " 'story_is_spidered': False}"
       ]
      }
     ],
     "prompt_number": 160
    },
    {
     "cell_type": "code",
     "collapsed": false,
     "input": [
      "df = get_data_frame_from_comparision_objects( comps_downloads )\n",
      "print_results_by_measurement_type( df )\n"
     ],
     "language": "python",
     "metadata": {},
     "outputs": [
      {
       "output_type": "stream",
       "stream": "stdout",
       "text": [
        "       precision_boiler_pipe  precision_crf  precision_gold  precision_heur  \\\n",
        "count             712.000000     712.000000             712      712.000000   \n",
        "mean                0.649973       0.764858               1        0.742288   \n",
        "std                 0.400041       0.348034               0        0.303643   \n",
        "min                 0.000000       0.000000               1        0.000000   \n",
        "2%                  0.000000       0.000000               1        0.000000   \n",
        "5%                  0.004331       0.000000               1        0.070213   \n",
        "10%                 0.019550       0.030795               1        0.234389   \n",
        "50%                 0.889802       0.955538               1        0.879994   \n",
        "max                 1.000000       1.000000               1        1.000000   \n",
        "\n",
        "       precision_justext  precision_py_boiler_pipe  \\\n",
        "count         712.000000                712.000000   \n",
        "mean            0.464238                  0.741190   \n",
        "std             0.447981                  0.286351   \n",
        "min             0.000000                  0.000000   \n",
        "2%              0.000000                  0.003984   \n",
        "5%              0.000000                  0.023642   \n",
        "10%             0.000000                  0.159290   \n",
        "50%             0.431213                  0.861278   \n",
        "max             1.000000                  0.993172   \n",
        "\n",
        "       precision_python_readibilty  \n",
        "count                   712.000000  \n",
        "mean                      0.907057  \n",
        "std                       0.202271  \n",
        "min                       0.008499  \n",
        "2%                        0.069365  \n",
        "5%                        0.379668  \n",
        "10%                       0.757891  \n",
        "50%                       0.976736  \n",
        "max                       1.000000  \n",
        "       recall_boiler_pipe  recall_crf  recall_gold  recall_heur  \\\n",
        "count          712.000000  712.000000          712   712.000000   \n",
        "mean             0.688477    0.667275            1     0.811802   \n",
        "std              0.400064    0.388916            0     0.242531   \n",
        "min              0.000000    0.000000            1     0.000000   \n",
        "2%               0.000000    0.000000            1     0.000000   \n",
        "5%               0.009495    0.000000            1     0.139859   \n",
        "10%              0.032927    0.012361            1     0.445856   \n",
        "50%              0.942292    0.900795            1     0.902971   \n",
        "max              1.000000    1.000000            1     1.000000   \n",
        "\n",
        "       recall_justext  recall_py_boiler_pipe  recall_python_readibilty  \n",
        "count      712.000000             712.000000                712.000000  \n",
        "mean         0.496901               0.799257                  0.858642  \n",
        "std          0.442217               0.281030                  0.247799  \n",
        "min          0.000000               0.000000                  0.002874  \n",
        "2%           0.000000               0.022259                  0.038161  \n",
        "5%           0.000000               0.057963                  0.092660  \n",
        "10%          0.000000               0.147659                  0.582675  \n",
        "50%          0.682448               0.918294                  0.953529  \n",
        "max          1.000000               1.000000                  1.000000  \n",
        "       f1_boiler_pipe      f1_crf  f1_gold     f1_heur  f1_justext  \\\n",
        "count      712.000000  712.000000      712  712.000000  712.000000   \n",
        "mean         0.647595    0.650421        1    0.735588    0.454133   \n",
        "std          0.397898    0.382477        0    0.272621    0.428704   \n",
        "min          0.000000    0.000000        1    0.000000    0.000000   \n",
        "2%           0.000000    0.000000        1    0.000000    0.000000   \n",
        "5%           0.006514    0.000000        1    0.099230    0.000000   \n",
        "10%          0.020841    0.017193        1    0.275010    0.000000   \n",
        "50%          0.890837    0.877276        1    0.851271    0.474059   \n",
        "max          1.000000    1.000000        1    1.000000    1.000000   \n",
        "\n",
        "       f1_py_boiler_pipe  f1_python_readibilty  \n",
        "count         712.000000            712.000000  \n",
        "mean            0.750710              0.859411  \n",
        "std             0.285436              0.245550  \n",
        "min             0.000000              0.005525  \n",
        "2%              0.007264              0.040556  \n",
        "5%              0.029521              0.114811  \n",
        "10%             0.142331              0.555340  \n",
        "50%             0.879853              0.950293  \n",
        "max             0.994777              1.000000  \n"
       ]
      }
     ],
     "prompt_number": 161
    },
    {
     "cell_type": "code",
     "collapsed": false,
     "input": [
      "non_spidered_downloads = remove_spidered_downloads( comps_downloads )\n",
      "\n",
      "df = get_data_frame_from_comparision_objects( non_spidered_downloads )\n",
      "print_results_by_measurement_type( df )\n"
     ],
     "language": "python",
     "metadata": {},
     "outputs": [
      {
       "output_type": "stream",
       "stream": "stdout",
       "text": [
        "       precision_boiler_pipe  precision_crf  precision_gold  precision_heur  \\\n",
        "count             600.000000     600.000000             600      600.000000   \n",
        "mean                0.628046       0.795609               1        0.746508   \n",
        "std                 0.411937       0.317321               0        0.293361   \n",
        "min                 0.000000       0.000000               1        0.000000   \n",
        "2%                  0.000000       0.000000               1        0.001284   \n",
        "5%                  0.003165       0.000000               1        0.094737   \n",
        "10%                 0.016374       0.145520               1        0.275379   \n",
        "50%                 0.885823       0.958278               1        0.874364   \n",
        "max                 1.000000       1.000000               1        1.000000   \n",
        "\n",
        "       precision_justext  precision_py_boiler_pipe  \\\n",
        "count         600.000000                600.000000   \n",
        "mean            0.425726                  0.740146   \n",
        "std             0.447274                  0.279122   \n",
        "min             0.000000                  0.000000   \n",
        "2%              0.000000                  0.003984   \n",
        "5%              0.000000                  0.023377   \n",
        "10%             0.000000                  0.213278   \n",
        "50%             0.197537                  0.859164   \n",
        "max             1.000000                  0.988089   \n",
        "\n",
        "       precision_python_readibilty  \n",
        "count                   600.000000  \n",
        "mean                      0.923179  \n",
        "std                       0.168881  \n",
        "min                       0.013793  \n",
        "2%                        0.143486  \n",
        "5%                        0.601062  \n",
        "10%                       0.846659  \n",
        "50%                       0.977575  \n",
        "max                       1.000000  \n",
        "       recall_boiler_pipe  recall_crf  recall_gold  recall_heur  \\\n",
        "count          600.000000  600.000000          600   600.000000   \n",
        "mean             0.661682    0.698718            1     0.828148   \n",
        "std              0.413890    0.370363            0     0.220810   \n",
        "min              0.000000    0.000000            1     0.000000   \n",
        "2%               0.000000    0.000000            1     0.009515   \n",
        "5%               0.004330    0.000000            1     0.258598   \n",
        "10%              0.024783    0.027834            1     0.557966   \n",
        "50%              0.934511    0.906822            1     0.903413   \n",
        "max              1.000000    1.000000            1     1.000000   \n",
        "\n",
        "       recall_justext  recall_py_boiler_pipe  recall_python_readibilty  \n",
        "count      600.000000             600.000000                600.000000  \n",
        "mean         0.447933               0.807935                  0.865150  \n",
        "std          0.444326               0.269759                  0.229425  \n",
        "min          0.000000               0.000000                  0.012255  \n",
        "2%           0.000000               0.022056                  0.049663  \n",
        "5%           0.000000               0.058824                  0.140256  \n",
        "10%          0.000000               0.289807                  0.642857  \n",
        "50%          0.338979               0.916255                  0.950281  \n",
        "max          1.000000               1.000000                  1.000000  \n",
        "       f1_boiler_pipe      f1_crf  f1_gold     f1_heur  f1_justext  \\\n",
        "count      600.000000  600.000000      600  600.000000  600.000000   \n",
        "mean         0.627778    0.682077        1    0.747474    0.419264   \n",
        "std          0.410170    0.363041        0    0.257412    0.432098   \n",
        "min          0.000000    0.000000        1    0.000000    0.000000   \n",
        "2%           0.000000    0.000000        1    0.002565    0.000000   \n",
        "5%           0.003771    0.000000        1    0.148674    0.000000   \n",
        "10%          0.018824    0.046259        1    0.361192    0.000000   \n",
        "50%          0.887110    0.895878        1    0.856150    0.225788   \n",
        "max          1.000000    1.000000        1    1.000000    1.000000   \n",
        "\n",
        "       f1_py_boiler_pipe  f1_python_readibilty  \n",
        "count         600.000000            600.000000  \n",
        "mean            0.756293              0.872444  \n",
        "std             0.275054              0.220738  \n",
        "min             0.000000              0.023585  \n",
        "2%              0.007230              0.071375  \n",
        "5%              0.029345              0.175980  \n",
        "10%             0.224629              0.683088  \n",
        "50%             0.878621              0.947641  \n",
        "max             0.987313              1.000000  \n"
       ]
      }
     ],
     "prompt_number": 168
    },
    {
     "cell_type": "code",
     "collapsed": false,
     "input": [
      "print \"spidered\"\n",
      "df = get_data_frame_from_comparision_objects( only_spidered_downloads( comps_downloads ) )\n",
      "print_results_by_measurement_type( df )\n"
     ],
     "language": "python",
     "metadata": {},
     "outputs": [
      {
       "output_type": "stream",
       "stream": "stdout",
       "text": [
        "spidered\n",
        "       precision_boiler_pipe  precision_crf  precision_gold  precision_heur  \\\n",
        "count             112.000000     112.000000             112      112.000000   \n",
        "mean                0.767443       0.600120               1        0.719676   \n",
        "std                 0.304677       0.447213               0        0.354319   \n",
        "min                 0.003176       0.000000               1        0.000000   \n",
        "2%                  0.014303       0.000000               1        0.000000   \n",
        "5%                  0.030468       0.000000               1        0.000121   \n",
        "10%                 0.132598       0.000000               1        0.059253   \n",
        "50%                 0.901453       0.918864               1        0.904733   \n",
        "max                 1.000000       1.000000               1        1.000000   \n",
        "\n",
        "       precision_justext  precision_py_boiler_pipe  \\\n",
        "count         112.000000                112.000000   \n",
        "mean            0.670553                  0.746783   \n",
        "std             0.393634                  0.323661   \n",
        "min             0.000000                  0.000000   \n",
        "2%              0.000000                  0.009187   \n",
        "5%              0.000000                  0.025097   \n",
        "10%             0.004646                  0.051803   \n",
        "50%             0.933166                  0.886746   \n",
        "max             1.000000                  0.993172   \n",
        "\n",
        "       precision_python_readibilty  \n",
        "count                   112.000000  \n",
        "mean                      0.820692  \n",
        "std                       0.315005  \n",
        "min                       0.008499  \n",
        "2%                        0.021369  \n",
        "5%                        0.059114  \n",
        "10%                       0.132158  \n",
        "50%                       0.974176  \n",
        "max                       1.000000  \n",
        "       recall_boiler_pipe  recall_crf  recall_gold  recall_heur  \\\n",
        "count          112.000000  112.000000          112   112.000000   \n",
        "mean             0.832019    0.498831            1     0.724239   \n",
        "std              0.275855    0.441205            0     0.323235   \n",
        "min              0.033654    0.000000            1     0.000000   \n",
        "2%               0.075122    0.000000            1     0.000000   \n",
        "5%               0.082863    0.000000            1     0.003943   \n",
        "10%              0.296179    0.000000            1     0.061800   \n",
        "50%              0.955748    0.579319            1     0.884817   \n",
        "max              1.000000    1.000000            1     0.995690   \n",
        "\n",
        "       recall_justext  recall_py_boiler_pipe  recall_python_readibilty  \n",
        "count      112.000000             112.000000                112.000000  \n",
        "mean         0.759230               0.752770                  0.823777  \n",
        "std          0.323781               0.332572                  0.328363  \n",
        "min          0.000000               0.000000                  0.002874  \n",
        "2%           0.000000               0.040185                  0.017137  \n",
        "5%           0.000000               0.054510                  0.037619  \n",
        "10%          0.088596               0.079041                  0.084353  \n",
        "50%          0.914881               0.927493                  0.971859  \n",
        "max          1.000000               1.000000                  1.000000  \n",
        "       f1_boiler_pipe      f1_crf  f1_gold     f1_heur  f1_justext  \\\n",
        "count      112.000000  112.000000      112  112.000000  112.000000   \n",
        "mean         0.753755    0.480834        1    0.671911    0.640929   \n",
        "std          0.304536    0.437451        0    0.337101    0.357633   \n",
        "min          0.006332    0.000000        1    0.000000    0.000000   \n",
        "2%           0.022116    0.000000        1    0.000000    0.000000   \n",
        "5%           0.042365    0.000000        1    0.000241    0.000000   \n",
        "10%          0.154711    0.000000        1    0.043094    0.009133   \n",
        "50%          0.897972    0.469987        1    0.826707    0.811464   \n",
        "max          1.000000    1.000000        1    0.993737    1.000000   \n",
        "\n",
        "       f1_py_boiler_pipe  f1_python_readibilty  \n",
        "count         112.000000            112.000000  \n",
        "mean            0.720805              0.789587  \n",
        "std             0.335468              0.342687  \n",
        "min             0.000000              0.005525  \n",
        "2%              0.013215              0.018393  \n",
        "5%              0.038626              0.033067  \n",
        "10%             0.055027              0.079472  \n",
        "50%             0.890114              0.960695  \n",
        "max             0.994777              1.000000  "
       ]
      },
      {
       "output_type": "stream",
       "stream": "stdout",
       "text": [
        "\n"
       ]
      }
     ],
     "prompt_number": 162
    },
    {
     "cell_type": "heading",
     "level": 2,
     "metadata": {},
     "source": [
      "Results by Subset"
     ]
    },
    {
     "cell_type": "code",
     "collapsed": false,
     "input": [
      "regional = { 2453107 }\n",
      "\n",
      "\n",
      "\n",
      "print \"region / pew knight sutdy / 245107 \"\n",
      "df = get_data_frame_from_comparision_objects( filter_by_media_tags_id( non_spidered_downloads, regional ) )\n",
      "print_results_by_measurement_type( df )\n",
      "\n",
      "ap_english_us_top_25 = { 2453107 }\n",
      "print \"ap_english_us_top25 / 8875027 \"\n",
      "df = get_data_frame_from_comparision_objects( filter_by_media_tags_id( non_spidered_downloads, ap_english_us_top_25 ) )\n",
      "print_results_by_measurement_type( df )\n",
      "\n",
      "political_blogs = { 125 }\n",
      "print \"political blogs / 125\"\n",
      "df = get_data_frame_from_comparision_objects( filter_by_media_tags_id( non_spidered_downloads, political_blogs ) )\n",
      "print_results_by_measurement_type( df )\n",
      "\n",
      "\n",
      "russian = { 7796878 }\n",
      "print 'russian'\n",
      "df = get_data_frame_from_comparision_objects( filter_by_media_tags_id( non_spidered_downloads, russian ) )\n",
      "print_results_by_measurement_type( df )\n",
      "\n",
      "print 'brazil'\n",
      "df = get_data_frame_from_comparision_objects( filter_by_media_tags_id( non_spidered_downloads, {8877968,  8877969, 8877973, 8877970 } ) )\n",
      "print_results_by_measurement_type( df )\n",
      "\n",
      "arabic = { 8878255 }\n",
      "print 'arabic'\n",
      "df = get_data_frame_from_comparision_objects( filter_by_media_tags_id( non_spidered_downloads, arabic ) )\n",
      "print_results_by_measurement_type( df )\n",
      "                                          "
     ],
     "language": "python",
     "metadata": {},
     "outputs": [
      {
       "output_type": "stream",
       "stream": "stdout",
       "text": [
        "region / pew knight sutdy / 245107 \n",
        "       precision_boiler_pipe  precision_crf  precision_gold  precision_heur  \\\n",
        "count              19.000000      19.000000              19       19.000000   \n",
        "mean                0.670512       0.882184               1        0.609256   \n",
        "std                 0.323598       0.140925               0        0.224825   \n",
        "min                 0.045918       0.347826               1        0.289326   \n",
        "2%                  0.051888       0.488518               1        0.293590   \n",
        "5%                  0.060842       0.699555               1        0.299985   \n",
        "10%                 0.303409       0.831598               1        0.328378   \n",
        "50%                 0.839196       0.917160               1        0.668361   \n",
        "max                 0.991114       1.000000               1        0.941935   \n",
        "\n",
        "       precision_justext  precision_py_boiler_pipe  \\\n",
        "count          19.000000                 19.000000   \n",
        "mean            0.479299                  0.645748   \n",
        "std             0.347583                  0.304381   \n",
        "min             0.020161                  0.058511   \n",
        "2%              0.022327                  0.144146   \n",
        "5%              0.025576                  0.272598   \n",
        "10%             0.031573                  0.318536   \n",
        "50%             0.554264                  0.738449   \n",
        "max             0.995455                  0.957963   \n",
        "\n",
        "       precision_python_readibilty  \n",
        "count                    19.000000  \n",
        "mean                      0.969088  \n",
        "std                       0.025016  \n",
        "min                       0.884058  \n",
        "2%                        0.907168  \n",
        "5%                        0.941832  \n",
        "10%                       0.951668  \n",
        "50%                       0.974619  \n",
        "max                       1.000000  \n",
        "       recall_boiler_pipe  recall_crf  recall_gold  recall_heur  \\\n",
        "count           19.000000   19.000000           19    19.000000   \n",
        "mean             0.874097    0.843498            1     0.913164   \n",
        "std              0.286063    0.290015            0     0.051136   \n",
        "min              0.066667    0.017058            1     0.793103   \n",
        "2%               0.067111    0.023331            1     0.810526   \n",
        "5%               0.067778    0.032740            1     0.836659   \n",
        "10%              0.709515    0.705309            1     0.856412   \n",
        "50%              0.974359    0.941880            1     0.929329   \n",
        "max              1.000000    1.000000            1     0.993341   \n",
        "\n",
        "       recall_justext  recall_py_boiler_pipe  recall_python_readibilty  \n",
        "count       19.000000              19.000000                 19.000000  \n",
        "mean         0.724862               0.884823                  0.930009  \n",
        "std          0.415166               0.199977                  0.044685  \n",
        "min          0.006775               0.067901                  0.827586  \n",
        "2%           0.016750               0.361104                  0.833760  \n",
        "5%           0.031712               0.800908                  0.843022  \n",
        "10%          0.057246               0.882677                  0.886189  \n",
        "50%          0.959927               0.936508                  0.941880  \n",
        "max          1.000000               0.993341                  1.000000  \n",
        "       f1_boiler_pipe     f1_crf  f1_gold    f1_heur  f1_justext  \\\n",
        "count       19.000000  19.000000       19  19.000000   19.000000   \n",
        "mean         0.736863   0.830134        1   0.710626    0.554006   \n",
        "std          0.296641   0.277997        0   0.178450    0.367812   \n",
        "min          0.054381   0.033543        1   0.433684    0.010764   \n",
        "2%           0.058236   0.044056        1   0.439127    0.016049   \n",
        "5%           0.064018   0.059825        1   0.447290    0.023977   \n",
        "10%          0.436762   0.660524        1   0.480083    0.040645   \n",
        "50%          0.892043   0.924370        1   0.777531    0.713217   \n",
        "max          0.991870   0.969274        1   0.941176    0.976000   \n",
        "\n",
        "       f1_py_boiler_pipe  f1_python_readibilty  \n",
        "count          19.000000             19.000000  \n",
        "mean            0.718796              0.948576  \n",
        "std             0.258093              0.028880  \n",
        "min             0.062857              0.895105  \n",
        "2%              0.201247              0.895210  \n",
        "5%              0.408831              0.895368  \n",
        "10%             0.468687              0.918473  \n",
        "50%             0.847137              0.946237  \n",
        "max             0.957109              1.000000  "
       ]
      },
      {
       "output_type": "stream",
       "stream": "stdout",
       "text": [
        "\n",
        "ap_english_us_top25 / 8875027 \n",
        "       precision_boiler_pipe  precision_crf  precision_gold  precision_heur  \\\n",
        "count              19.000000      19.000000              19       19.000000   \n",
        "mean                0.670512       0.882184               1        0.609256   \n",
        "std                 0.323598       0.140925               0        0.224825   \n",
        "min                 0.045918       0.347826               1        0.289326   \n",
        "2%                  0.051888       0.488518               1        0.293590   \n",
        "5%                  0.060842       0.699555               1        0.299985   \n",
        "10%                 0.303409       0.831598               1        0.328378   \n",
        "50%                 0.839196       0.917160               1        0.668361   \n",
        "max                 0.991114       1.000000               1        0.941935   \n",
        "\n",
        "       precision_justext  precision_py_boiler_pipe  \\\n",
        "count          19.000000                 19.000000   \n",
        "mean            0.479299                  0.645748   \n",
        "std             0.347583                  0.304381   \n",
        "min             0.020161                  0.058511   \n",
        "2%              0.022327                  0.144146   \n",
        "5%              0.025576                  0.272598   \n",
        "10%             0.031573                  0.318536   \n",
        "50%             0.554264                  0.738449   \n",
        "max             0.995455                  0.957963   \n",
        "\n",
        "       precision_python_readibilty  \n",
        "count                    19.000000  \n",
        "mean                      0.969088  \n",
        "std                       0.025016  \n",
        "min                       0.884058  \n",
        "2%                        0.907168  \n",
        "5%                        0.941832  \n",
        "10%                       0.951668  \n",
        "50%                       0.974619  \n",
        "max                       1.000000  \n",
        "       recall_boiler_pipe  recall_crf  recall_gold  recall_heur  \\\n",
        "count           19.000000   19.000000           19    19.000000   \n",
        "mean             0.874097    0.843498            1     0.913164   \n",
        "std              0.286063    0.290015            0     0.051136   \n",
        "min              0.066667    0.017058            1     0.793103   \n",
        "2%               0.067111    0.023331            1     0.810526   \n",
        "5%               0.067778    0.032740            1     0.836659   \n",
        "10%              0.709515    0.705309            1     0.856412   \n",
        "50%              0.974359    0.941880            1     0.929329   \n",
        "max              1.000000    1.000000            1     0.993341   \n",
        "\n",
        "       recall_justext  recall_py_boiler_pipe  recall_python_readibilty  \n",
        "count       19.000000              19.000000                 19.000000  \n",
        "mean         0.724862               0.884823                  0.930009  \n",
        "std          0.415166               0.199977                  0.044685  \n",
        "min          0.006775               0.067901                  0.827586  \n",
        "2%           0.016750               0.361104                  0.833760  \n",
        "5%           0.031712               0.800908                  0.843022  \n",
        "10%          0.057246               0.882677                  0.886189  \n",
        "50%          0.959927               0.936508                  0.941880  \n",
        "max          1.000000               0.993341                  1.000000  \n",
        "       f1_boiler_pipe     f1_crf  f1_gold    f1_heur  f1_justext  \\\n",
        "count       19.000000  19.000000       19  19.000000   19.000000   \n",
        "mean         0.736863   0.830134        1   0.710626    0.554006   \n",
        "std          0.296641   0.277997        0   0.178450    0.367812   \n",
        "min          0.054381   0.033543        1   0.433684    0.010764   \n",
        "2%           0.058236   0.044056        1   0.439127    0.016049   \n",
        "5%           0.064018   0.059825        1   0.447290    0.023977   \n",
        "10%          0.436762   0.660524        1   0.480083    0.040645   \n",
        "50%          0.892043   0.924370        1   0.777531    0.713217   \n",
        "max          0.991870   0.969274        1   0.941176    0.976000   \n",
        "\n",
        "       f1_py_boiler_pipe  f1_python_readibilty  \n",
        "count          19.000000             19.000000  \n",
        "mean            0.718796              0.948576  \n",
        "std             0.258093              0.028880  \n",
        "min             0.062857              0.895105  \n",
        "2%              0.201247              0.895210  \n",
        "5%              0.408831              0.895368  \n",
        "10%             0.468687              0.918473  \n",
        "50%             0.847137              0.946237  \n",
        "max             0.957109              1.000000  "
       ]
      },
      {
       "ename": "AssertionError",
       "evalue": "",
       "output_type": "pyerr",
       "traceback": [
        "\u001b[1;31m---------------------------------------------------------------------------\u001b[0m\n\u001b[1;31mAssertionError\u001b[0m                            Traceback (most recent call last)",
        "\u001b[1;32m<ipython-input-175-f7ca39323690>\u001b[0m in \u001b[0;36m<module>\u001b[1;34m()\u001b[0m\n\u001b[0;32m     24\u001b[0m \u001b[1;33m\u001b[0m\u001b[0m\n\u001b[0;32m     25\u001b[0m \u001b[1;32mprint\u001b[0m \u001b[1;34m'brazil'\u001b[0m\u001b[1;33m\u001b[0m\u001b[0m\n\u001b[1;32m---> 26\u001b[1;33m \u001b[0mdf\u001b[0m \u001b[1;33m=\u001b[0m \u001b[0mget_data_frame_from_comparision_objects\u001b[0m\u001b[1;33m(\u001b[0m \u001b[0mfilter_by_media_tags_id\u001b[0m\u001b[1;33m(\u001b[0m \u001b[0mnon_spidered_downloads\u001b[0m\u001b[1;33m,\u001b[0m \u001b[1;33m{\u001b[0m\u001b[1;36m8877968\u001b[0m\u001b[1;33m,\u001b[0m  \u001b[1;36m8877969\u001b[0m\u001b[1;33m,\u001b[0m \u001b[1;36m8877973\u001b[0m\u001b[1;33m,\u001b[0m \u001b[1;36m8877970\u001b[0m \u001b[1;33m}\u001b[0m \u001b[1;33m)\u001b[0m \u001b[1;33m)\u001b[0m\u001b[1;33m\u001b[0m\u001b[0m\n\u001b[0m\u001b[0;32m     27\u001b[0m \u001b[0mprint_results_by_measurement_type\u001b[0m\u001b[1;33m(\u001b[0m \u001b[0mdf\u001b[0m \u001b[1;33m)\u001b[0m\u001b[1;33m\u001b[0m\u001b[0m\n\u001b[0;32m     28\u001b[0m \u001b[1;33m\u001b[0m\u001b[0m\n",
        "\u001b[1;32m<ipython-input-171-37a99509dd48>\u001b[0m in \u001b[0;36mget_data_frame_from_comparision_objects\u001b[1;34m(comparison_objects)\u001b[0m\n\u001b[0;32m      3\u001b[0m \u001b[1;32mdef\u001b[0m \u001b[0mget_data_frame_from_comparision_objects\u001b[0m\u001b[1;33m(\u001b[0m \u001b[0mcomparison_objects\u001b[0m \u001b[1;33m)\u001b[0m\u001b[1;33m:\u001b[0m\u001b[1;33m\u001b[0m\u001b[0m\n\u001b[0;32m      4\u001b[0m \u001b[1;33m\u001b[0m\u001b[0m\n\u001b[1;32m----> 5\u001b[1;33m     \u001b[1;32massert\u001b[0m \u001b[0mlen\u001b[0m\u001b[1;33m(\u001b[0m \u001b[0mcomparison_objects\u001b[0m \u001b[1;33m)\u001b[0m \u001b[1;33m>\u001b[0m \u001b[1;36m0\u001b[0m\u001b[1;33m\u001b[0m\u001b[0m\n\u001b[0m\u001b[0;32m      6\u001b[0m     \u001b[0mnew_comps\u001b[0m \u001b[1;33m=\u001b[0m \u001b[1;33m[\u001b[0m\u001b[1;33m]\u001b[0m\u001b[1;33m\u001b[0m\u001b[0m\n\u001b[0;32m      7\u001b[0m     \u001b[1;32mfor\u001b[0m \u001b[0mcomp\u001b[0m \u001b[1;32min\u001b[0m \u001b[0mcomparison_objects\u001b[0m\u001b[1;33m:\u001b[0m\u001b[1;33m\u001b[0m\u001b[0m\n",
        "\u001b[1;31mAssertionError\u001b[0m: "
       ]
      },
      {
       "output_type": "stream",
       "stream": "stdout",
       "text": [
        "\n",
        "brazil\n"
       ]
      }
     ],
     "prompt_number": 175
    }
   ],
   "metadata": {}
  }
 ]
}