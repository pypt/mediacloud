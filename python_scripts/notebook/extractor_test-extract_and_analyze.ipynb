{
 "metadata": {
  "name": "",
  "signature": "sha256:dc860e0e84401a00a5f54cddb541a3a1924cabf9d3dad7dfc5cc9d53ca0c11a8"
 },
 "nbformat": 3,
 "nbformat_minor": 0,
 "worksheets": [
  {
   "cells": [
    {
     "cell_type": "heading",
     "level": 1,
     "metadata": {},
     "source": [
      "Extractor evaluation"
     ]
    },
    {
     "cell_type": "markdown",
     "metadata": {},
     "source": [
      "This notebook evaluates both Media Cloud's internal extractors and third party FLOSS extractor libraries across a corpus of hand annotated articles.\n",
      "\n",
      "Readers may wish to skip to the results section at the end."
     ]
    },
    {
     "cell_type": "heading",
     "level": 2,
     "metadata": {},
     "source": [
      "Set up / Methods"
     ]
    },
    {
     "cell_type": "code",
     "collapsed": false,
     "input": [
      "import cPickle\n",
      "import os.path\n",
      "\n",
      "api_key = cPickle.load( file( os.path.expanduser( '~/mediacloud_api_key.pickle' ), 'r' ) )"
     ],
     "language": "python",
     "metadata": {},
     "outputs": [],
     "prompt_number": 1
    },
    {
     "cell_type": "code",
     "collapsed": false,
     "input": [
      "import cPickle\n",
      "import os.path\n",
      "\n",
      "cPickle.dump( api_key, file( os.path.expanduser( '~/mediacloud_api_key.pickle' ), 'wb' ) )"
     ],
     "language": "python",
     "metadata": {},
     "outputs": [],
     "prompt_number": 2
    },
    {
     "cell_type": "code",
     "collapsed": false,
     "input": [
      "import sys\n",
      "sys.path.append('../../foreign_modules/python/')"
     ],
     "language": "python",
     "metadata": {},
     "outputs": [],
     "prompt_number": 3
    },
    {
     "cell_type": "code",
     "collapsed": false,
     "input": [
      "loc_key = 'f66a50230d54afaf18822808aed649f1d6ca72b08fb06d5efb6247afe9fbae52'"
     ],
     "language": "python",
     "metadata": {},
     "outputs": [],
     "prompt_number": 4
    },
    {
     "cell_type": "code",
     "collapsed": false,
     "input": [
      "import mediacloud, requests, csv, sys, os, json, cPickle\n",
      "\n",
      "def get_download( downloads_id ):\n",
      "    download = requests.get('https://api.mediacloud.org/api/v2/downloads/single/'+str(downloads_id)+'?key='+api_key)\n",
      "    return download.json()[0]\n",
      "\n",
      "def extract_story( preprocessed_lines, title, description, extractor_method ):\n",
      "    extract_params = {'key':loc_key, 'preprocessed_lines':preprocessed_lines, \n",
      "                           'story_title':title, 'story_description':description, 'extractor_method': extractor_method}\n",
      "    \n",
      "    extract_result = requests.put('http://0:3000/api/v2/extractlines/extract',data=json.dumps(extract_params), \n",
      "                                headers = {'Content-type': 'application/json'})\n",
      "    \n",
      "    extract_result.raise_for_status()\n",
      "    return extract_result.json()\n",
      "\n",
      "def get_story_lines( raw_content ):\n",
      "    story_lines_params = {'key':loc_key, 'body_html':raw_content }\n",
      "    headers = {'Content-type': 'application/json'}\n",
      "    story_lines = requests.put('http://0:3000/api/v2/extractlines/story_lines',data=json.dumps(story_lines_params), \n",
      "                               params={ 'key': loc_key },headers=headers)\n",
      "    \n",
      "    story_lines.raise_for_status()\n",
      "    \n",
      "    return story_lines"
     ],
     "language": "python",
     "metadata": {},
     "outputs": [],
     "prompt_number": 5
    },
    {
     "cell_type": "code",
     "collapsed": false,
     "input": [
      "import subprocess\n",
      "import tempfile\n",
      "import codecs\n",
      "import time\n",
      "from lxml import html\n",
      "\n",
      "#download = get_download( downloads_id )\n",
      "#raw_content = download[u'raw_content']\n",
      "\n",
      "def extract_with_boilerpipe( raw_content ):\n",
      "    with tempfile.NamedTemporaryFile( suffix='.html', delete=False ) as t:\n",
      "        #print t.name\n",
      "    \n",
      "        UTF8Writer = codecs.getwriter('utf8')\n",
      "        t.file = UTF8Writer(t.file)\n",
      "        t.file.write( raw_content )\n",
      "    \n",
      "        t.close()\n",
      "        #time.sleep( 2 )\n",
      "        #print \"original article tmp file \", t.name\n",
      "        \n",
      "        #input_file = '/tmp/416655019.htm'\n",
      "        input_file = t.name\n",
      "        \n",
      "        output_tmp = tempfile.NamedTemporaryFile( suffix='.html', delete=False )\n",
      "        \n",
      "        output_file = output_tmp.name\n",
      "        #output_file = '/tmp/highlighted.html'\n",
      "        #print output_file\n",
      "        \n",
      "        subprocess.check_output(['java', '-jar',\n",
      "                               '/home/dlarochelle/dev_scratch/boilerpipe_test/out/artifacts/boilerpipe_test_jar/boilerpipe_test.jar',\n",
      "                               input_file, output_file ] )\n",
      "        f = open( output_file, 'rb' )\n",
      "        \n",
      "        annotated_file_str = f.read()\n",
      "        \n",
      "        #t.unlink( t.name )\n",
      "        output_tmp.close()\n",
      "        #output_tmp.unlink( output_tmp.name )\n",
      "\n",
      "    tree = html.fromstring( annotated_file_str )   \n",
      "    spans = tree.xpath('//span[@class=\"x-boilerpipe-mark1\"]')\n",
      "    boiler_pipe_lines = [ etree.tostring(s) for s in spans ]\n",
      "\n",
      "    ret = { 'extracted_html': \"\\n\\n\".join(boiler_pipe_lines) }\n",
      "    return ret\n",
      "\n"
     ],
     "language": "python",
     "metadata": {},
     "outputs": [],
     "prompt_number": 6
    },
    {
     "cell_type": "code",
     "collapsed": false,
     "input": [
      "#f = open( '/tmp/tmp01CV6F.html' )\n",
      "#annotated_file_str = f.read()\n",
      "#tree = html.fromstring( annotated_file_str )   \n",
      "#spans = tree.xpath('//span[@class=\"x-boilerpipe-mark1\"]')\n",
      "#span = spans[0]\n",
      "#etree.tostring( span )"
     ],
     "language": "python",
     "metadata": {},
     "outputs": [],
     "prompt_number": 7
    },
    {
     "cell_type": "code",
     "collapsed": false,
     "input": [
      "import readability\n",
      "\n",
      "def extract_with_python_readability( raw_content ):\n",
      "    doc = readability.Document( raw_content )\n",
      "    \n",
      "    return doc.short_title() + \"\\n\\n\" + doc.summary()"
     ],
     "language": "python",
     "metadata": {},
     "outputs": [],
     "prompt_number": 8
    },
    {
     "cell_type": "code",
     "collapsed": true,
     "input": [
      "import goose\n",
      "\n",
      "def extract_with_python_goose( raw_content ):\n",
      "    g = goose.Goose()\n",
      "    \n",
      "    r = g.extract( raw_html=raw_content )\n",
      "    return r.title + \"\\n\\n\" +  r.cleaned_text"
     ],
     "language": "python",
     "metadata": {},
     "outputs": [],
     "prompt_number": 9
    },
    {
     "cell_type": "code",
     "collapsed": false,
     "input": [
      "import justext\n",
      "\n",
      "def extract_with_justext( raw_content ):\n",
      "    ret = []\n",
      "    \n",
      "    paragraphs = justext.justext( raw_content, justext.get_stoplist('English') )\n",
      "    \n",
      "    #p = paragraphs[0]\n",
      "    for p in paragraphs:\n",
      "        if not p.is_boilerplate:\n",
      "            ret.append(p.text)\n",
      "            \n",
      "    return \"\\n\\n\".join(ret)\n",
      "\n",
      "#extract_with_justext( raw_content )\n",
      "#raw_html\n",
      "\n",
      "#justext.get_stoplists()"
     ],
     "language": "python",
     "metadata": {},
     "outputs": [],
     "prompt_number": 10
    },
    {
     "cell_type": "code",
     "collapsed": false,
     "input": [
      "import operator\n",
      "\n",
      "def get_extractor_training_text( downloads_id, preprocessed_lines ):\n",
      "    extractor_training_lines_result = requests.get(\n",
      "                                                   'https://api.mediacloud.org/api/v2/extractlines/extractor_training_lines/' + str(downloads_id),\n",
      "                                               headers = {'Content-type': 'application/json'}\n",
      "                                               , params= {'key': api_key}\n",
      "                                               )\n",
      "\n",
      "    extractor_training_lines_result.raise_for_status()\n",
      "\n",
      "    extractor_training_lines_result = extractor_training_lines_result.json()\n",
      "    \n",
      "    line_numbers = [ x['line_number'] for x in extractor_training_lines_result ]\n",
      "    \n",
      "    line_numbers = sorted(line_numbers)\n",
      "    \n",
      "    line_numbers.sort()\n",
      "    \n",
      "    #print line_numbers\n",
      "    \n",
      "    return operator.itemgetter( * line_numbers )( preprocessed_lines  )\n",
      "\n",
      "import operator\n",
      "\n",
      "def get_extracted_text( extractor_results ):\n",
      "    included_line_numbers = extractor_results['included_line_numbers']\n",
      "    #print included_line_numbers\n",
      "    \n",
      "    dl = extractor_results['download_lines']\n",
      "   \n",
      "    if len( included_line_numbers ) == 0:\n",
      "        return []\n",
      "    else:    \n",
      "        return operator.itemgetter( * extractor_results['included_line_numbers']   )(dl)\n",
      "    \n"
     ],
     "language": "python",
     "metadata": {},
     "outputs": [],
     "prompt_number": 11
    },
    {
     "cell_type": "code",
     "collapsed": false,
     "input": [
      "#import Levenshtein\n",
      "\n",
      "def lines_to_comparable_text( lines ):\n",
      "    text = u\"\\n\\n\".join([ clean_for_comparison(line) for line in lines ])\n",
      "    \n",
      "    if text == '':\n",
      "        text = u''\n",
      "        \n",
      "    return text\n",
      "\n",
      "def html_to_comparable_text( html_text ):\n",
      "    text = clean_for_comparison( html_text )\n",
      "    \n",
      "    if text == '' or text == None:\n",
      "        text = u''\n",
      "        \n",
      "    return text\n",
      "    \n",
      "    \n",
      "#def compare_accuracy( lines, lines_expected ):\n",
      "#    return Levenshtein.distance( lines_to_comparable_text( lines ) , lines_to_comparable_text( lines_expected ) )"
     ],
     "language": "python",
     "metadata": {},
     "outputs": [],
     "prompt_number": 12
    },
    {
     "cell_type": "code",
     "collapsed": false,
     "input": [
      "def get_anncestors( element ):\n",
      "    anncestors = [ element ];\n",
      "    anncestor = element.getparent()\n",
      "    \n",
      "    while anncestor != None :\n",
      "        #print 'loop'\n",
      "        anncestors.append( anncestor )\n",
      "        anncestor = anncestor.getparent()\n",
      "        \n",
      "    return anncestors"
     ],
     "language": "python",
     "metadata": {},
     "outputs": [],
     "prompt_number": 13
    },
    {
     "cell_type": "code",
     "collapsed": false,
     "input": [
      "def text_from_lxml_object( obj):\n",
      "    if type(obj) is etree._ElementStringResult:\n",
      "        return u'' + obj\n",
      "    if type(obj) ==  etree._ElementUnicodeResult:\n",
      "        return u'' + obj \n",
      "    else:\n",
      "        try:\n",
      "            return etree.tostring( obj , method='text', encoding=\"UTF-8\") \n",
      "        except:\n",
      "            print type(obj)\n",
      "            print obj\n",
      "            \n",
      "            raise ''"
     ],
     "language": "python",
     "metadata": {},
     "outputs": [],
     "prompt_number": 14
    },
    {
     "cell_type": "code",
     "collapsed": false,
     "input": [
      "from lxml import etree\n",
      "\n",
      "downloads_id =  582817308 \n",
      "download = get_download( downloads_id )\n",
      "raw_content = download[ 'raw_content' ]\n",
      "with open( '/tmp/' + str(downloads_id) , 'wb' ) as f:\n",
      "    f.write( raw_content )\n"
     ],
     "language": "python",
     "metadata": {},
     "outputs": [],
     "prompt_number": 15
    },
    {
     "cell_type": "code",
     "collapsed": false,
     "input": [
      "from nltk import tokenize\n",
      "\n",
      "def remove_duplicate_sentences( article_html, story ):\n",
      "    #sentences_from_html\n",
      "    extract_params = {'key':loc_key, 'story_html': article_html }\n",
      "    \n",
      "    extract_result = requests.put('http://0:3000/api/v2/extractlines/sentences_from_html',data=json.dumps(extract_params), \n",
      "                                headers = {'Content-type': 'application/json'})\n",
      "    \n",
      "    #print \"article_html:\\n\", article_html\n",
      "    \n",
      "    extract_result.raise_for_status()\n",
      "    sentences = extract_result.json()\n",
      "    \n",
      "    #print \"sentences\", sentences\n",
      "    \n",
      "    #comp_text = lines_to_comparable_text( text_lines )\n",
      "    #sentences = [ sent.strip()  for sent in tokenize.sent_tokenize( comp_text ) ]\n",
      "    #print sentences\n",
      "    non_duplicate_sentences = [sentence for sentence in sentences if not sentence_is_duplicate( sentence, story ) ] \n",
      "    return u\"\\n\".join( non_duplicate_sentences )\n",
      " "
     ],
     "language": "python",
     "metadata": {},
     "outputs": [],
     "prompt_number": 16
    },
    {
     "cell_type": "code",
     "collapsed": false,
     "input": [
      "def html_strip( str ):\n",
      "    if str.isspace() or str == '':\n",
      "        return u' '\n",
      "    \n",
      "    if str == '<':\n",
      "        return u' '        \n",
      "    \n",
      "    try:\n",
      "        return html.fromstring(str).text_content()    \n",
      "    except:\n",
      "        print \"Unexpected error on string '\" + str + \"'\" , sys.exc_info()[0]\n",
      "        #raise\n",
      "        return u''       \n",
      "\n",
      "def clean_for_comparison( str ):\n",
      "    if len(str) > 0:\n",
      "        ret = html_strip( str )\n",
      "    else:\n",
      "        return str\n",
      "    \n",
      "    return ret    "
     ],
     "language": "python",
     "metadata": {},
     "outputs": [],
     "prompt_number": 17
    },
    {
     "cell_type": "code",
     "collapsed": false,
     "input": [
      "def extract_with_mc_extractor( eto, method ):\n",
      "    story = eto['story']\n",
      "    preprocessed_lines = eto['preprocessed_lines']\n",
      "    title = story[u'title']\n",
      "    description = story[u'description']\n",
      "    \n",
      "    extract_result = extract_story( preprocessed_lines, title, description, method)\n",
      "    #html_lines = get_extracted_text( extract_result )\n",
      "    \n",
      "    ret = {}\n",
      "    \n",
      "    ret['extracted_html'] = extract_result[ 'extracted_html' ]\n",
      "    \n",
      "    return ret\n",
      "\n",
      "def extract_with_heur( eto ):\n",
      "    return extract_with_mc_extractor( eto, 'HeuristicExtractor' )\n",
      "\n",
      "def extract_with_crf( eto ):\n",
      "    return extract_with_mc_extractor( eto, 'CrfExtractor' )"
     ],
     "language": "python",
     "metadata": {},
     "outputs": [],
     "prompt_number": 18
    },
    {
     "cell_type": "code",
     "collapsed": false,
     "input": [
      "import difflib\n",
      "from IPython.display import HTML\n",
      "\n",
      "from collections import Counter\n",
      "\n",
      "def ratcliff_obershelp_compare( actual_text, expected_text ):\n",
      "    \n",
      "    words_expected = expected_text.split()\n",
      "    words_crf      = actual_text.split()\n",
      "    \n",
      "    differ = difflib.Differ( )\n",
      "    \n",
      "    #print words_crf[:10]\n",
      "    #print words_expected[:10]\n",
      "    list( differ.compare( words_crf , words_expected ) )\n",
      "    counts = Counter([ d[0] for d in differ.compare( words_expected, words_crf   ) ])\n",
      "    \n",
      "    tp = counts[' ']\n",
      "    fp = counts['+']\n",
      "    fn = counts['-']\n",
      "    \n",
      "    if float(tp+fp) == 0:\n",
      "        precision = 0.0\n",
      "    else:\n",
      "        precision = tp/float(tp+fp)\n",
      "        \n",
      "    if float( tp + fn ) == 0:\n",
      "        recall = 0\n",
      "    else:\n",
      "        recall    = tp/float( tp + fn )\n",
      "    \n",
      "    if ( precision + recall ) > 0:\n",
      "        f1 = 2*(precision*recall)/( precision + recall )\n",
      "    else:\n",
      "        f1 = 0\n",
      "    \n",
      "    ret = { 'precision': precision,\n",
      "        'recall': recall,\n",
      "        'f1': f1\n",
      "    }\n",
      "    \n",
      "    return ret\n",
      "\n",
      "def compare_with_expeto migcted( extractor_name, actual_text, actual_html, expected_text, story ):\n",
      "    #actual_text = lines_to_comparable_text( actual_lines )\n",
      "    #expected_text = lines_to_comparable_text( expected_lines )\n",
      "    ret = {}\n",
      "    ret[ extractor_name ] = ratcliff_obershelp_compare( actual_text, expected_text )\n",
      "    \n",
      "    if compare_deduplicated:\n",
      "        dedup_text = remove_duplicate_sentences( actual_html, story )\n",
      "        \n",
      "        ret[ extractor_name + \"_dedup\" ] = ratcliff_obershelp_compare( dedup_text, expected_text )\n",
      "    \n",
      "    return ret"
     ],
     "language": "python",
     "metadata": {},
     "outputs": [],
     "prompt_number": 19
    },
    {
     "cell_type": "code",
     "collapsed": false,
     "input": [
      "ratcliff_obershelp_compare( actual_text='foo', expected_text='bar foo baz BAST')"
     ],
     "language": "python",
     "metadata": {},
     "outputs": [
      {
       "metadata": {},
       "output_type": "pyout",
       "prompt_number": 20,
       "text": [
        "{'f1': 0.4, 'precision': 1.0, 'recall': 0.25}"
       ]
      }
     ],
     "prompt_number": 20
    },
    {
     "cell_type": "code",
     "collapsed": false,
     "input": [
      "def get_extraction_results( eto ):\n",
      "\n",
      "    raw_content = eto[ 'raw_content' ]\n",
      "    \n",
      "    assert raw_content != None\n",
      "    assert len(raw_content ) > 0\n",
      "        \n",
      "    ret = {}\n",
      "    \n",
      "    \n",
      "    #ret['heur'] = extract_with_heur( eto )\n",
      "    #ret['crf'] = extract_with_crf( eto )\n",
      "    #ret['boiler_pipe'] =   extract_with_boilerpipe( raw_content)\n",
      "\n",
      "    print 'extracting with thr_boilerpipe'\n",
      "    \n",
      "    ret['thr_boiler_pipe_ArticleExtractor'] =  extract_with_thr_boilerpipe_ArticleExtractor( raw_content)\n",
      "    #ret['thr_boiler_pipe_ArticleSentencesExtractor'] =  extract_with_thr_boilerpipe_ArticleSentencesExtractor( raw_content)\n",
      "    ret['thr_boiler_pipe_DefaultExtractor'] =  extract_with_thr_boilerpipe_DefaultExtractor( raw_content )\n",
      "    \n",
      "    ret['py_boiler_pipe_ArticleExtractor'] =  extract_with_py_boilerpipe_ArticleExtractor( raw_content)\n",
      "    ret['py_boiler_pipe_ArticleSentencesExtractor'] =  extract_with_py_boilerpipe_ArticleSentencesExtractor( raw_content)\n",
      "    ret['py_boiler_pipe_CanolaExtractor'] =  extract_with_py_boilerpipe_CanolaExtractor( raw_content)  \n",
      "    ret['py_boiler_pipe_DefaultExtractor'] =  extract_with_py_boilerpipe_DefaultExtractor( raw_content )\n",
      "    ret['py_boiler_pipe_KeepEverythingExtractor'] =  extract_with_py_boilerpipe_KeepEverythingExtractor( raw_content)        \n",
      "    #ret['py_boiler_pipe_KeepEverythingWithMinKWordsExtractor'] =  extract_with_py_boilerpipe_KeepEverythingWithMinKWordsExtractor( raw_content)            \n",
      "    ret['py_boiler_pipe_LargestContentExtractor'] =  extract_with_py_boilerpipe_LargestContentExtractor( raw_content)            \n",
      "    ret['py_boiler_pipe_NumWordsRulesExtractor'] =  extract_with_py_boilerpipe_NumWordsRulesExtractor( raw_content)            \n",
      "    \n",
      "    ret['python_readibilty'] = { 'extracted_html': extract_with_python_readability( raw_content ) }\n",
      "    #ret['py_goose']  = { 'extracted_html': extract_with_python_goose( raw_content ) }\n",
      "    #ret['justext'] =  { 'extracted_html': extract_with_justext( raw_content ) }\n",
      "    \n",
      "    for method, result in ret.iteritems():\n",
      "        if 'extracted_text' not in result:\n",
      "            result['extracted_text'] = html_to_comparable_text( result['extracted_html' ] )\n",
      "            \n",
      "    return ret"
     ],
     "language": "python",
     "metadata": {},
     "outputs": [],
     "prompt_number": 66
    },
    {
     "cell_type": "code",
     "collapsed": false,
     "input": [
      "def compare_extractors_for_download( downloads_id ):\n",
      "    \n",
      "    eto = create_extractor_training_object( downloads_id )\n",
      "    \n",
      "    return comp_extractors( eto )    \n",
      "    \n",
      "def comp_extractors( eto ):    \n",
      "    downloads_id = eto['downloads_id']\n",
      "    media_id     = eto['media_id' ]\n",
      "    story = eto['story']\n",
      "    raw_content = eto['raw_content']\n",
      "    preprocessed_lines = eto['preprocessed_lines']\n",
      "    expected_text = eto['expected_text']\n",
      "        \n",
      "    title = story[u'title']\n",
      "    description = story[u'description']\n",
      "    url = story[u'url']\n",
      "    \n",
      "    extraction_results = get_extraction_results( eto )\n",
      "    \n",
      "    comp_results = {}\n",
      "        \n",
      "    comp_results['downloads_id'] = downloads_id\n",
      "    \n",
      "    comp_results['media_id']  = media_id\n",
      "    \n",
      "    comp_results['story_is_spidered'] = eto['story_is_spidered']\n",
      "    \n",
      "    for name, value in extraction_results.iteritems():\n",
      "        #print name, value\n",
      "        comp_results.update (compare_with_expected( name, value['extracted_text'], value['extracted_html'], expected_text, story ) )\n",
      "    \n",
      "    comp_results.update( compare_with_expected( 'gold', expected_text, expected_text, expected_text, story ) )\n",
      "    \n",
      "    return comp_results"
     ],
     "language": "python",
     "metadata": {},
     "outputs": [],
     "prompt_number": 22
    },
    {
     "cell_type": "code",
     "collapsed": false,
     "input": [
      "import sys\n",
      "\n",
      "sys.path.append('../')\n",
      "\n",
      "import mc_config\n",
      "\n",
      "def get_db_info():\n",
      "    config_file = mc_config.read_config()\n",
      "    \n",
      "    db_infos = config_file['database']\n",
      "    db_info = next (db_info for db_info in db_infos if db_info['port'] == '6000' )\n",
      "    return db_info\n",
      "\n",
      "import psycopg2\n",
      "#import solr_reimport\n",
      "import psycopg2.extras\n",
      "\n",
      "#db_info = get_db_info()\n",
      "\n",
      "#conn = psycopg2.connect( database=db_info['db'], user=db_info['user'], \n",
      "#                        password=db_info['pass'], host=db_info['host'], port=db_info['port'] )\n",
      "\n",
      "conn = None\n",
      "\n",
      "story_sentence_counts_cache = {}\n",
      "\n",
      "def get_sentence_counts( sentence, story ):\n",
      "\n",
      "    stories_id = story['stories_id']\n",
      "    \n",
      "    if not stories_id in story_sentence_counts_cache:\n",
      "        story_sentence_counts_cache[ stories_id ] = {}\n",
      "        \n",
      "    if sentence in story_sentence_counts_cache[ stories_id ]:\n",
      "        return story_sentence_counts_cache[stories_id ][sentence]\n",
      "\n",
      "    global conn \n",
      "    \n",
      "    if conn == None:        \n",
      "        db_info = get_db_info()\n",
      "        \n",
      "        conn = psycopg2.connect( database=db_info['db'], user=db_info['user'], \n",
      "                                password=db_info['pass'], host=db_info['host'], port=db_info['port'] )\n",
      "\n",
      "        \n",
      "    cursor = conn.cursor(cursor_factory=psycopg2.extras.DictCursor)\n",
      "    query = '''               \n",
      "                   SELECT MIN( story_sentence_counts_id) AS story_sentence_counts_id, sentence_count, first_stories_id,\n",
      "                   sentence_md5\n",
      "            FROM story_sentence_counts\n",
      "            WHERE sentence_md5  = md5(%(sentence)s)\n",
      "              AND media_id = %(media_id)s\n",
      "              AND publish_week =  DATE_TRUNC( 'week', %(publish_date)s::date )\n",
      "            GROUP BY story_sentence_counts_id\n",
      "    '''\n",
      "    \n",
      "    #print sentence\n",
      "    #md5_sum = md5.new( sentence ).hexdigest()\n",
      "    \n",
      "    params = { 'sentence': sentence,\n",
      "                            'media_id': story['media_id'], \n",
      "                            'publish_date': story['publish_date']\n",
      "                            } \n",
      "    \n",
      "    #print params\n",
      "    \n",
      "    #print eto[ 'story'] ['stories_id' ]\n",
      "    cursor.execute( query, params )\n",
      "    \n",
      "    fetched = cursor.fetchall()\n",
      "    \n",
      "    if len( fetched ) == 0:\n",
      "        story_sentence_counts_cache[ stories_id ][sentence] = None\n",
      "    else:\n",
      "        story_sentence_counts_cache[ stories_id ][sentence] = dict(fetched[0])\n",
      "        \n",
      "    return story_sentence_counts_cache[stories_id ][sentence]\n",
      "    \n",
      "def sentence_is_duplicate( sentence, story ):\n",
      "    sentence_counts = get_sentence_counts( sentence, story )\n",
      "    \n",
      "    if sentence_counts != None:\n",
      "        if sentence_counts['sentence_count'] > 1:\n",
      "            #print \"duplicate sentence\", sentence\n",
      "            return True\n",
      "        elif sentence_counts['first_stories_id'] == story['stories_id']:\n",
      "            return True\n",
      "            #print \"duplicate sentence (diff first_stories_id) \", sentence\n",
      "            \n",
      "    else:\n",
      "        return False\n",
      "        pass\n",
      "        #print \"sentence not found \", sentence \n",
      "\n",
      "    "
     ],
     "language": "python",
     "metadata": {},
     "outputs": [],
     "prompt_number": 23
    },
    {
     "cell_type": "code",
     "collapsed": false,
     "input": [
      "import pandas as pd\n",
      "\n",
      "def get_data_frame_from_comparision_objects( comparison_objects ):\n",
      "    \n",
      "    assert len( comparison_objects ) > 0 \n",
      "    new_comps = []\n",
      "    for comp in comparison_objects:\n",
      "        \n",
      "        new_comp = {}\n",
      "        new_comp = { 'downloads_id': comp['downloads_id'] }\n",
      "        \n",
      "        extractor_types = [ k for k in comp.keys() if k not in { 'downloads_id', 'media_id', 'story_is_spidered' }  ]\n",
      "        \n",
      "        for extractor_type in extractor_types:\n",
      "            new_comp.update([ ( k + '_' + extractor_type , v) for k,v in comp[ extractor_type ].iteritems() ])\n",
      "            \n",
      "        new_comps.append( new_comp )\n",
      "        \n",
      "    df = pd.DataFrame( new_comps )\n",
      "    df.set_index('downloads_id', inplace=True )\n",
      "    return df\n"
     ],
     "language": "python",
     "metadata": {},
     "outputs": [],
     "prompt_number": 24
    },
    {
     "cell_type": "code",
     "collapsed": false,
     "input": [
      "import sys\n",
      "sys.path = ['/home/dlarochelle/git_dev/mediacloud/python_scripts/notebook/thriftboilerpipe'] + sys.path\n",
      "from thrift.transport import TTransport\n",
      "from thrift.transport import TSocket\n",
      "from thrift.transport import TSSLSocket\n",
      "from thrift.transport import THttpClient\n",
      "from thrift.protocol import TBinaryProtocol\n",
      "\n",
      "from thriftboilerpipe import ExtractorService\n",
      "from thriftboilerpipe.ttypes import *"
     ],
     "language": "python",
     "metadata": {},
     "outputs": [],
     "prompt_number": 25
    },
    {
     "cell_type": "code",
     "collapsed": false,
     "input": [
      "host = 'localhost'\n",
      "port = 9090\n",
      "uri = ''\n",
      "\n",
      "socket = TSocket.TSocket(host, port)\n",
      "transport = TTransport.TBufferedTransport(socket)\n",
      "\n",
      "protocol = TBinaryProtocol.TBinaryProtocol(transport)\n",
      "client = ExtractorService.Client(protocol)\n",
      "transport.open()"
     ],
     "language": "python",
     "metadata": {},
     "outputs": [],
     "prompt_number": 53
    },
    {
     "cell_type": "code",
     "collapsed": false,
     "input": [
      "def thrift_bp_extract( raw_content, extractor_type ) :\n",
      "    #print 'start thrift_bp_extract'\n",
      "    \n",
      "    thrift_ret = client.extract_html( raw_content, extractor_type )\n",
      "    \n",
      "    #print thrift_ret[1][15230:]\n",
      "    #print type(thrift_ret[1])\n",
      "    #print repr(thrift_ret[1])\n",
      "    #unicode( thrift_ret[1], 'utf-8' )\n",
      "    extracted_text = u\"\\n\\n\".join( [ u'' + s for s in thrift_ret ] )\n",
      "    \n",
      "    #print 'returning from thrift_bp_extract'\n",
      "    \n",
      "    ret = { 'extracted_text': extracted_text,\n",
      "           'extracted_html': ''\n",
      "           }\n",
      "    \n",
      "    return ret\n",
      "\n",
      "extract_with_thr_boilerpipe_DefaultExtractor = lambda raw_content : thrift_bp_extract( raw_content, 'DefaultExtractor' )\n",
      "extract_with_thr_boilerpipe_ArticleExtractor = lambda raw_content: thrift_bp_extract( raw_content, 'ArticleExtractor')\n",
      "extract_with_thr_boilerpipe_ArticleSentencesExtractor = lambda raw_content: thrift_bp_extract( raw_content, 'ArticleSentencesExtractor')\n"
     ],
     "language": "python",
     "metadata": {},
     "outputs": [],
     "prompt_number": 68
    },
    {
     "cell_type": "code",
     "collapsed": false,
     "input": [
      "import boilerpipe.extract\n",
      "\n",
      "def extract_with_py_boilerpipe( raw_content, extractor ):\n",
      "    e = boilerpipe.extract.Extractor( extractor=extractor, html=raw_content )\n",
      "    html = e.getHTML()\n",
      "\n",
      "    ret = { 'extracted_html': html }\n",
      "    return ret\n",
      "\n",
      "extract_with_py_boilerpipe_DefaultExtractor = lambda raw_content: extract_with_py_boilerpipe( raw_content,\n",
      "                                                                                              'DefaultExtractor')\n",
      "    \n",
      "extract_with_py_boilerpipe_ArticleExtractor = lambda raw_content: extract_with_py_boilerpipe( raw_content,\n",
      "                                                                                              'ArticleExtractor')\n",
      "extract_with_py_boilerpipe_ArticleSentencesExtractor = lambda raw_content: extract_with_py_boilerpipe( raw_content,\n",
      "                                                                                              'ArticleSentencesExtractor')\n",
      "\n",
      "extract_with_py_boilerpipe_KeepEverythingExtractor = lambda raw_content: extract_with_py_boilerpipe( raw_content,\n",
      "                                                                                              'KeepEverythingExtractor')\n",
      "\n",
      "extract_with_py_boilerpipe_KeepEverythingWithMinKWordsExtractor = lambda raw_content: extract_with_py_boilerpipe( raw_content,\n",
      "                                                                                              'KeepEverythingWithMinKWordsExtractor')\n",
      "\n",
      "extract_with_py_boilerpipe_LargestContentExtractor = lambda raw_content: extract_with_py_boilerpipe( raw_content,\n",
      "                                                                                              'LargestContentExtractor')\n",
      "\n",
      "extract_with_py_boilerpipe_NumWordsRulesExtractor = lambda raw_content: extract_with_py_boilerpipe( raw_content,\n",
      "                                                                                              'NumWordsRulesExtractor')\n",
      "\n",
      "extract_with_py_boilerpipe_CanolaExtractor = lambda raw_content: extract_with_py_boilerpipe( raw_content,\n",
      "                                                                                              'CanolaExtractor')\n",
      "\n"
     ],
     "language": "python",
     "metadata": {},
     "outputs": [],
     "prompt_number": 28
    },
    {
     "cell_type": "code",
     "collapsed": false,
     "input": [
      "def print_results_by_measurement_type( df ):\n",
      "    df.describe(percentiles=[.5] )\n",
      "    result_types = [ 'precision', 'recall', 'f1' ]\n",
      "    for result_type in result_types:\n",
      "        res_columns = [ col for col in df.columns if col.startswith( result_type ) ]\n",
      "        #df.ix[:,['f1_boiler_pipe',\t'f1_crf',\t'f1_heur', 'f1_python_readibilty']].describe()\n",
      "        print df.ix[:,res_columns].describe( percentiles=[0.02, 0.05,.1,0.5])"
     ],
     "language": "python",
     "metadata": {},
     "outputs": [],
     "prompt_number": 29
    },
    {
     "cell_type": "code",
     "collapsed": false,
     "input": [
      "def filter_by_media_tags_id( comps_downloads, media_tags_ids ):\n",
      "    media_ids_matching = set()\n",
      "    #print media_id_media_map\n",
      "    for media_id, media in media_id_media_map.iteritems():\n",
      "        if not media[ 'media_source_tags_ids'].isdisjoint( media_tags_ids ):\n",
      "            media_ids_matching.add( media_id )\n",
      "            \n",
      "    return  [cd for cd in comps_downloads if cd['media_id'] in media_ids_matching ]"
     ],
     "language": "python",
     "metadata": {},
     "outputs": [],
     "prompt_number": 30
    },
    {
     "cell_type": "code",
     "collapsed": false,
     "input": [
      "def remove_spidered_downloads( comps_downloads ):           \n",
      "    return  [cd for cd in comps_downloads if not cd['story_is_spidered'] ]\n",
      "\n",
      "def only_spidered_downloads( comps_downloads ):           \n",
      "    return  [cd for cd in comps_downloads if cd['story_is_spidered'] ]"
     ],
     "language": "python",
     "metadata": {},
     "outputs": [],
     "prompt_number": 31
    },
    {
     "cell_type": "code",
     "collapsed": false,
     "input": [
      "def story_is_spidered( story ):\n",
      "    for taginfo in story['story_tags']:\n",
      "        if taginfo['tag'] == 'spidered' and taginfo['tag_set'] == 'spidered':\n",
      "            return True\n",
      "    \n",
      "    return False"
     ],
     "language": "python",
     "metadata": {},
     "outputs": [],
     "prompt_number": 32
    },
    {
     "cell_type": "heading",
     "level": 1,
     "metadata": {},
     "source": [
      "Flags"
     ]
    },
    {
     "cell_type": "code",
     "collapsed": false,
     "input": [
      "regenerate_media_id_media_map         = False\n",
      "regenerate_comps_downloads            = True\n",
      "compare_deduplicated                  = False"
     ],
     "language": "python",
     "metadata": {},
     "outputs": [],
     "prompt_number": 71
    },
    {
     "cell_type": "heading",
     "level": 2,
     "metadata": {},
     "source": [
      "Constants"
     ]
    },
    {
     "cell_type": "heading",
     "level": 1,
     "metadata": {},
     "source": [
      "Data Analysis"
     ]
    },
    {
     "cell_type": "heading",
     "level": 2,
     "metadata": {},
     "source": [
      "Load Data"
     ]
    },
    {
     "cell_type": "code",
     "collapsed": false,
     "input": [
      "extractor_training_objects = cPickle.load( file( \n",
      "                                                os.path.expanduser( '~/Dropbox/mc/extractor_test/extractor_training_objects.pickle' ), \"rb\" ) )\n",
      "\n",
      "#cPickle.load( open( \"extractor_traning_objects.pickle\", \"rb\") )"
     ],
     "language": "python",
     "metadata": {},
     "outputs": [],
     "prompt_number": 34
    },
    {
     "cell_type": "heading",
     "level": 3,
     "metadata": {},
     "source": [
      "Look up Media Tags"
     ]
    },
    {
     "cell_type": "code",
     "collapsed": false,
     "input": [
      "len( extractor_training_objects )\n",
      "c = Counter( sorted([ eto['media_id'] for eto in extractor_training_objects ]) )\n",
      "c.most_common()\n",
      "sorted( c.keys() )"
     ],
     "language": "python",
     "metadata": {},
     "outputs": [
      {
       "metadata": {},
       "output_type": "pyout",
       "prompt_number": 35,
       "text": [
        "[1,\n",
        " 2,\n",
        " 4,\n",
        " 6,\n",
        " 7,\n",
        " 8,\n",
        " 14,\n",
        " 15,\n",
        " 23,\n",
        " 28,\n",
        " 39,\n",
        " 109,\n",
        " 110,\n",
        " 113,\n",
        " 115,\n",
        " 117,\n",
        " 118,\n",
        " 121,\n",
        " 125,\n",
        " 129,\n",
        " 131,\n",
        " 139,\n",
        " 147,\n",
        " 160,\n",
        " 268,\n",
        " 285,\n",
        " 294,\n",
        " 307,\n",
        " 336,\n",
        " 564,\n",
        " 669,\n",
        " 687,\n",
        " 697,\n",
        " 711,\n",
        " 712,\n",
        " 713,\n",
        " 731,\n",
        " 751,\n",
        " 752,\n",
        " 771,\n",
        " 788,\n",
        " 789,\n",
        " 801,\n",
        " 805,\n",
        " 809,\n",
        " 853,\n",
        " 870,\n",
        " 889,\n",
        " 955,\n",
        " 1004,\n",
        " 1027,\n",
        " 1040,\n",
        " 1056,\n",
        " 1062,\n",
        " 1063,\n",
        " 1082,\n",
        " 1089,\n",
        " 1092,\n",
        " 1094,\n",
        " 1095,\n",
        " 1104,\n",
        " 1127,\n",
        " 1147,\n",
        " 1149,\n",
        " 1200,\n",
        " 1259,\n",
        " 1270,\n",
        " 1311,\n",
        " 1347,\n",
        " 1349,\n",
        " 1352,\n",
        " 1359,\n",
        " 1376,\n",
        " 1398,\n",
        " 1420,\n",
        " 1452,\n",
        " 1490,\n",
        " 1536,\n",
        " 1549,\n",
        " 1568,\n",
        " 1585,\n",
        " 1589,\n",
        " 1596,\n",
        " 1607,\n",
        " 1626,\n",
        " 1630,\n",
        " 1641,\n",
        " 1648,\n",
        " 1650,\n",
        " 1651,\n",
        " 1654,\n",
        " 1655,\n",
        " 1658,\n",
        " 1667,\n",
        " 1670,\n",
        " 1674,\n",
        " 1675,\n",
        " 1680,\n",
        " 1684,\n",
        " 1685,\n",
        " 1694,\n",
        " 1724,\n",
        " 1725,\n",
        " 1726,\n",
        " 1728,\n",
        " 1729,\n",
        " 1730,\n",
        " 1731,\n",
        " 1733,\n",
        " 1740,\n",
        " 1742,\n",
        " 1747,\n",
        " 1750,\n",
        " 1751,\n",
        " 1752,\n",
        " 1757,\n",
        " 4415,\n",
        " 4418,\n",
        " 4419,\n",
        " 5527,\n",
        " 6162,\n",
        " 6335,\n",
        " 18203,\n",
        " 18204,\n",
        " 18210,\n",
        " 18213,\n",
        " 18346,\n",
        " 18350,\n",
        " 18364,\n",
        " 18370,\n",
        " 18761,\n",
        " 18886,\n",
        " 19027,\n",
        " 19081,\n",
        " 19127,\n",
        " 19327,\n",
        " 19347,\n",
        " 19445,\n",
        " 19690,\n",
        " 19854,\n",
        " 20763,\n",
        " 21629,\n",
        " 21936,\n",
        " 21990,\n",
        " 23209,\n",
        " 23464,\n",
        " 23881,\n",
        " 24697,\n",
        " 24767,\n",
        " 25170,\n",
        " 25369,\n",
        " 25527,\n",
        " 26309,\n",
        " 26705,\n",
        " 26924,\n",
        " 27692,\n",
        " 29363,\n",
        " 32120,\n",
        " 35065,\n",
        " 35400,\n",
        " 35625,\n",
        " 39008,\n",
        " 39648,\n",
        " 39677,\n",
        " 40405,\n",
        " 40584,\n",
        " 40789,\n",
        " 41502,\n",
        " 41771,\n",
        " 48279,\n",
        " 48768,\n",
        " 53459,\n",
        " 57137,\n",
        " 58992,\n",
        " 61322,\n",
        " 63247,\n",
        " 64110,\n",
        " 65731,\n",
        " 66924,\n",
        " 66949,\n",
        " 66951,\n",
        " 66957,\n",
        " 68627,\n",
        " 72816,\n",
        " 73384,\n",
        " 77657,\n",
        " 79784,\n",
        " 83352,\n",
        " 83353,\n",
        " 83371,\n",
        " 83860,\n",
        " 84057,\n",
        " 84249,\n",
        " 84256,\n",
        " 84654,\n",
        " 84991,\n",
        " 87821,\n",
        " 88695,\n",
        " 88819,\n",
        " 95973,\n",
        " 96863,\n",
        " 102611,\n",
        " 102618,\n",
        " 102622,\n",
        " 102629,\n",
        " 102634,\n",
        " 102635,\n",
        " 102637,\n",
        " 102639,\n",
        " 102647,\n",
        " 102652,\n",
        " 102657,\n",
        " 102661,\n",
        " 102668,\n",
        " 102670,\n",
        " 102671,\n",
        " 102673,\n",
        " 102680,\n",
        " 102689,\n",
        " 102691,\n",
        " 102693,\n",
        " 102694,\n",
        " 102708,\n",
        " 102739,\n",
        " 102741,\n",
        " 102744,\n",
        " 102745,\n",
        " 102747,\n",
        " 102759,\n",
        " 102766,\n",
        " 102769,\n",
        " 102770,\n",
        " 102781,\n",
        " 104881,\n",
        " 104903,\n",
        " 104942,\n",
        " 104950,\n",
        " 105130,\n",
        " 105403,\n",
        " 107088,\n",
        " 107637,\n",
        " 107692,\n",
        " 107764,\n",
        " 111691,\n",
        " 111851,\n",
        " 112357,\n",
        " 112386,\n",
        " 112982,\n",
        " 113157,\n",
        " 120850,\n",
        " 128098,\n",
        " 133122,\n",
        " 137922,\n",
        " 142103,\n",
        " 143836,\n",
        " 144943,\n",
        " 145564,\n",
        " 146357,\n",
        " 146402,\n",
        " 147230,\n",
        " 177339,\n",
        " 177382]"
       ]
      }
     ],
     "prompt_number": 35
    },
    {
     "cell_type": "code",
     "collapsed": false,
     "input": [
      "import itertools\n",
      "from collections import Counter\n",
      "\n",
      "mc = mediacloud.api.MediaCloud(api_key)\n",
      "\n",
      "if regenerate_media_id_media_map:\n",
      "    media_id_media_map = {}\n",
      "    \n",
      "    media_ids = sorted(list(set([ eto['media_id'] for eto in extractor_training_objects ])))\n",
      "    \n",
      "    for media_id in list(media_ids)[:]:\n",
      "        media = mc.media( media_id )\n",
      "        media[ 'media_source_tags_ids' ] = set( [ media_source_tag['tags_id'] \n",
      "                                                 for media_source_tag in media['media_source_tags'] ] )\n",
      "        media_id_media_map[ media_id ] = media\n",
      "    \n",
      "    print len( media_ids )\n",
      "    print 'pickling'\n",
      "    \n",
      "    cPickle.dump( media_id_media_map, \n",
      "                 file( os.path.expanduser( '~/Dropbox/mc/extractor_test/media_id_media_map.pickle'), \"wb\") )\n"
     ],
     "language": "python",
     "metadata": {},
     "outputs": [],
     "prompt_number": 36
    },
    {
     "cell_type": "code",
     "collapsed": false,
     "input": [
      "media_id_media_map = cPickle.load(  \n",
      "                                  file( os.path.expanduser( \n",
      "                                                           '~/Dropbox/mc/extractor_test/media_id_media_map.pickle'), \n",
      "                                                           \"rb\") )\n",
      "                                  \n",
      "media_tag_counts = Counter(list ( itertools.chain.from_iterable( media_source['media_source_tags_ids'] for media_source in media_id_media_map.values() )) ) \n",
      "tags_id_to_media_tags_map = {}\n",
      "for media_tag in media_id_media_map.values():\n",
      "    source_tags = media_tag[ 'media_source_tags' ]\n",
      "    for source_tag in source_tags:\n",
      "        tags_id_to_media_tags_map[ source_tag[ 'tags_id' ] ] = source_tag"
     ],
     "language": "python",
     "metadata": {},
     "outputs": [],
     "prompt_number": 37
    },
    {
     "cell_type": "code",
     "collapsed": false,
     "input": [
      "media_id_media_map.keys()\n"
     ],
     "language": "python",
     "metadata": {},
     "outputs": [
      {
       "metadata": {},
       "output_type": "pyout",
       "prompt_number": 38,
       "text": [
        "[1536,\n",
        " 1,\n",
        " 2,\n",
        " 1027,\n",
        " 4,\n",
        " 113157,\n",
        " 6,\n",
        " 7,\n",
        " 8,\n",
        " 72816,\n",
        " 1549,\n",
        " 14,\n",
        " 15,\n",
        " 1040,\n",
        " 6162,\n",
        " 68627,\n",
        " 23,\n",
        " 28,\n",
        " 41502,\n",
        " 1056,\n",
        " 1062,\n",
        " 39,\n",
        " 27692,\n",
        " 144943,\n",
        " 1585,\n",
        " 564,\n",
        " 1589,\n",
        " 1082,\n",
        " 1596,\n",
        " 1089,\n",
        " 1654,\n",
        " 1092,\n",
        " 1094,\n",
        " 1607,\n",
        " 35400,\n",
        " 268,\n",
        " 111691,\n",
        " 1104,\n",
        " 26705,\n",
        " 25170,\n",
        " 19027,\n",
        " 84057,\n",
        " 1626,\n",
        " 63247,\n",
        " 1630,\n",
        " 96863,\n",
        " 39008,\n",
        " 128098,\n",
        " 955,\n",
        " 1095,\n",
        " 1127,\n",
        " 1641,\n",
        " 4419,\n",
        " 109,\n",
        " 110,\n",
        " 58992,\n",
        " 113,\n",
        " 1650,\n",
        " 115,\n",
        " 117,\n",
        " 118,\n",
        " 1655,\n",
        " 121,\n",
        " 1658,\n",
        " 1147,\n",
        " 1149,\n",
        " 48768,\n",
        " 129,\n",
        " 133122,\n",
        " 131,\n",
        " 1670,\n",
        " 40584,\n",
        " 19081,\n",
        " 1674,\n",
        " 1675,\n",
        " 1730,\n",
        " 102639,\n",
        " 1680,\n",
        " 147,\n",
        " 1684,\n",
        " 1685,\n",
        " 48279,\n",
        " 145564,\n",
        " 669,\n",
        " 1694,\n",
        " 26309,\n",
        " 160,\n",
        " 1648,\n",
        " 18203,\n",
        " 73384,\n",
        " 23209,\n",
        " 105130,\n",
        " 107692,\n",
        " 84654,\n",
        " 687,\n",
        " 1200,\n",
        " 29363,\n",
        " 19127,\n",
        " 697,\n",
        " 177339,\n",
        " 1724,\n",
        " 1725,\n",
        " 1726,\n",
        " 6335,\n",
        " 1728,\n",
        " 1729,\n",
        " 137922,\n",
        " 1731,\n",
        " 1733,\n",
        " 711,\n",
        " 712,\n",
        " 713,\n",
        " 88695,\n",
        " 1740,\n",
        " 1742,\n",
        " 40789,\n",
        " 1747,\n",
        " 1750,\n",
        " 1751,\n",
        " 1752,\n",
        " 102618,\n",
        " 731,\n",
        " 1757,\n",
        " 102622,\n",
        " 805,\n",
        " 39648,\n",
        " 120850,\n",
        " 95973,\n",
        " 65731,\n",
        " 19690,\n",
        " 1259,\n",
        " 102637,\n",
        " 21629,\n",
        " 752,\n",
        " 53459,\n",
        " 107764,\n",
        " 1270,\n",
        " 809,\n",
        " 35065,\n",
        " 102652,\n",
        " 39677,\n",
        " 102657,\n",
        " 112386,\n",
        " 771,\n",
        " 102661,\n",
        " 102668,\n",
        " 87821,\n",
        " 102670,\n",
        " 102671,\n",
        " 102673,\n",
        " 1667,\n",
        " 788,\n",
        " 789,\n",
        " 142103,\n",
        " 102680,\n",
        " 25369,\n",
        " 20763,\n",
        " 18204,\n",
        " 285,\n",
        " 147230,\n",
        " 1311,\n",
        " 84256,\n",
        " 102689,\n",
        " 18210,\n",
        " 102691,\n",
        " 18213,\n",
        " 294,\n",
        " 35625,\n",
        " 41771,\n",
        " 26924,\n",
        " 102635,\n",
        " 57137,\n",
        " 307,\n",
        " 102708,\n",
        " 24697,\n",
        " 84249,\n",
        " 4415,\n",
        " 4418,\n",
        " 139,\n",
        " 1349,\n",
        " 102611,\n",
        " 1352,\n",
        " 18761,\n",
        " 1359,\n",
        " 336,\n",
        " 102739,\n",
        " 102741,\n",
        " 112982,\n",
        " 88819,\n",
        " 102744,\n",
        " 102745,\n",
        " 102747,\n",
        " 112357,\n",
        " 1376,\n",
        " 102629,\n",
        " 177382,\n",
        " 870,\n",
        " 102759,\n",
        " 66924,\n",
        " 24767,\n",
        " 102766,\n",
        " 102769,\n",
        " 102770,\n",
        " 19347,\n",
        " 102694,\n",
        " 1398,\n",
        " 32120,\n",
        " 889,\n",
        " 102781,\n",
        " 23881,\n",
        " 19327,\n",
        " 111851,\n",
        " 66949,\n",
        " 66951,\n",
        " 61322,\n",
        " 1420,\n",
        " 66957,\n",
        " 19854,\n",
        " 125,\n",
        " 1347,\n",
        " 83860,\n",
        " 104942,\n",
        " 5527,\n",
        " 83352,\n",
        " 83353,\n",
        " 751,\n",
        " 1063,\n",
        " 23464,\n",
        " 18346,\n",
        " 83371,\n",
        " 1452,\n",
        " 18350,\n",
        " 21936,\n",
        " 104881,\n",
        " 1651,\n",
        " 146357,\n",
        " 25527,\n",
        " 105403,\n",
        " 18364,\n",
        " 18370,\n",
        " 102693,\n",
        " 18886,\n",
        " 104903,\n",
        " 102647,\n",
        " 1490,\n",
        " 40405,\n",
        " 143836,\n",
        " 107637,\n",
        " 107088,\n",
        " 146402,\n",
        " 21990,\n",
        " 1004,\n",
        " 77657,\n",
        " 64110,\n",
        " 79784,\n",
        " 19445,\n",
        " 104950,\n",
        " 1568,\n",
        " 102634,\n",
        " 84991,\n",
        " 801,\n",
        " 853]"
       ]
      }
     ],
     "prompt_number": 38
    },
    {
     "cell_type": "heading",
     "level": 2,
     "metadata": {},
     "source": [
      "Run extractors"
     ]
    },
    {
     "cell_type": "code",
     "collapsed": false,
     "input": [
      "[ m['media_source_tags_ids'] for m in media_id_media_map.values() ]"
     ],
     "language": "python",
     "metadata": {},
     "outputs": [
      {
       "metadata": {},
       "output_type": "pyout",
       "prompt_number": 39,
       "text": [
        "[{2453107, 2454253, 2491715},\n",
        " {109, 6071565, 6729599, 8875027, 8878390, 8878416},\n",
        " {6, 7, 18, 6071565, 6729599, 8875027, 8878390, 8878416},\n",
        " {125, 8878332},\n",
        " {5, 6, 6071565, 6729599, 8875027, 8878416},\n",
        " {8875452},\n",
        " {6, 14, 8875027, 8875460, 8878390, 8878416},\n",
        " {6, 16, 6071565, 6729599, 8875027, 8875676, 8878416},\n",
        " {17, 6071565, 6729599, 8875027, 8875676, 8878416},\n",
        " {8875452, 8878416},\n",
        " {2453107, 2454099, 2454253},\n",
        " {21, 8875027, 8875460, 8878416},\n",
        " {22, 8875027, 8878416},\n",
        " {125, 8878415},\n",
        " {8875028, 8875033, 8875107, 8878420},\n",
        " {8875452},\n",
        " {32, 2453107, 2496423, 6260468},\n",
        " {11, 2453107, 2496423, 6260349, 8878416},\n",
        " {8876474, 8876475, 8876476, 8876479, 8876504, 8876548, 8876585},\n",
        " {125, 8875031, 8875108, 8875110, 8875113, 8875456, 8878415},\n",
        " {125},\n",
        " {43, 2453107, 2496423, 6260349, 8875031},\n",
        " {8875458, 8878418},\n",
        " {8875452},\n",
        " {2453107, 2495238, 2495253},\n",
        " {118, 2453107, 2496423, 2497397, 8875031, 8875108, 8875110, 8875113, 8878416},\n",
        " {2453107, 2495238, 2495239},\n",
        " {125, 796, 8878292},\n",
        " {2453107, 2495238, 2495255},\n",
        " {129,\n",
        "  8875027,\n",
        "  8876474,\n",
        "  8876475,\n",
        "  8876476,\n",
        "  8876484,\n",
        "  8876499,\n",
        "  8876509,\n",
        "  8876510,\n",
        "  8878416},\n",
        " {2453107, 2496423, 2497397},\n",
        " {8875027, 8875028, 8878416},\n",
        " {6124858, 8875027, 8878416},\n",
        " {796, 2453107, 2495238, 2495240},\n",
        " {8875452},\n",
        " {117, 8878292, 8878415, 8878451},\n",
        " {8875452},\n",
        " {8875027, 8878416},\n",
        " {8875452},\n",
        " {8875452, 8878416},\n",
        " {8875452, 8876987, 8876988, 8878419},\n",
        " {8877968, 8877969, 8877973, 8877990},\n",
        " {142317, 2453107, 2496423, 2497397},\n",
        " {8876987, 8876988, 8878416},\n",
        " {2453107, 2496423, 2496424, 5648819},\n",
        " {8875452},\n",
        " {8876474,\n",
        "  8876475,\n",
        "  8876484,\n",
        "  8876492,\n",
        "  8876499,\n",
        "  8876500,\n",
        "  8876562,\n",
        "  8876987,\n",
        "  8876988,\n",
        "  8878413},\n",
        " {8875452},\n",
        " {125, 8878416},\n",
        " {8875027, 8875031, 8878416},\n",
        " {142001, 8878293, 8878332, 8878416},\n",
        " {2453107, 2496423, 2496424, 7055831, 8878416},\n",
        " {8875027, 8878416},\n",
        " {7, 117, 118, 125, 6071565, 6729401, 6729599, 8875028, 8878292, 8878415},\n",
        " {7, 117, 118, 125, 6124858},\n",
        " {8876987, 8876988},\n",
        " {7,\n",
        "  117,\n",
        "  118,\n",
        "  125,\n",
        "  6071565,\n",
        "  6729549,\n",
        "  6729599,\n",
        "  8875028,\n",
        "  8875031,\n",
        "  8875108,\n",
        "  8875109,\n",
        "  8875114,\n",
        "  8875456,\n",
        "  8878293,\n",
        "  8878416},\n",
        " {2453107, 2496423, 2497397},\n",
        " {7,\n",
        "  117,\n",
        "  118,\n",
        "  125,\n",
        "  6124858,\n",
        "  8875028,\n",
        "  8875031,\n",
        "  8875108,\n",
        "  8875109,\n",
        "  8875114,\n",
        "  8875456,\n",
        "  8875458,\n",
        "  8878063,\n",
        "  8878293,\n",
        "  8878423},\n",
        " {7,\n",
        "  117,\n",
        "  118,\n",
        "  125,\n",
        "  796,\n",
        "  142001,\n",
        "  6071565,\n",
        "  6729401,\n",
        "  6729599,\n",
        "  8875028,\n",
        "  8875031,\n",
        "  8875108,\n",
        "  8875111,\n",
        "  8875115,\n",
        "  8875459,\n",
        "  8878062,\n",
        "  8878292,\n",
        "  8878416},\n",
        " {7, 117, 118, 125, 6071565, 6729549, 6729599, 8875028, 8878415},\n",
        " {2453107, 2496423, 2497397},\n",
        " {6, 117, 118, 125, 796, 8878293},\n",
        " {2453107, 2496423, 2497397},\n",
        " {796,\n",
        "  142001,\n",
        "  8875028,\n",
        "  8875031,\n",
        "  8875108,\n",
        "  8875109,\n",
        "  8875114,\n",
        "  8875456,\n",
        "  8878063,\n",
        "  8878293,\n",
        "  8878332,\n",
        "  8878413},\n",
        " {8875027,\n",
        "  8876474,\n",
        "  8876475,\n",
        "  8876476,\n",
        "  8876479,\n",
        "  8876484,\n",
        "  8876509,\n",
        "  8876510,\n",
        "  8878293,\n",
        "  8878416},\n",
        " {8875452, 8878416},\n",
        " {7, 117, 125},\n",
        " {8875452},\n",
        " {117, 118, 125, 8875456, 8878293},\n",
        " {2453107, 2496423, 2497397},\n",
        " {8876474,\n",
        "  8876475,\n",
        "  8876476,\n",
        "  8876479,\n",
        "  8876502,\n",
        "  8876508,\n",
        "  8876576,\n",
        "  8878255,\n",
        "  8878259,\n",
        "  8878263},\n",
        " {8875452, 8878423},\n",
        " {2453107, 2496423, 2497397},\n",
        " {2453107, 2496423, 2497397},\n",
        " {7796878},\n",
        " {8878255, 8878259, 8878263},\n",
        " {2453107, 2496423, 2497397},\n",
        " {7, 117, 118, 125, 8878415},\n",
        " {2453107, 2496423, 2497397},\n",
        " {2453107, 2496423, 2497397},\n",
        " {8875452, 8876987, 8877044, 8878443},\n",
        " {8875452},\n",
        " {125, 8878416},\n",
        " {50, 2453107, 2496423, 2497397, 7055831, 8878416},\n",
        " {8875452},\n",
        " {7, 117, 125, 796, 8875458, 8878293},\n",
        " {2453107, 2496423, 2497397},\n",
        " {8875227, 8875361, 8878255, 8878259, 8878269, 8878416},\n",
        " {8875452, 8878293, 8878416},\n",
        " {8875452, 8876987, 8876988, 8878416, 8878442},\n",
        " {8875452, 8878415},\n",
        " {8875452, 8878416},\n",
        " {8875452},\n",
        " {125, 6071565, 6729401, 6729599},\n",
        " {2453107, 2496423, 2497397, 8878416},\n",
        " {8875452, 8878416},\n",
        " {8875452, 8878413},\n",
        " {125},\n",
        " {8875452},\n",
        " {7796878, 8876474, 8876475, 8876476, 8876479, 8876491, 8876504, 8876505},\n",
        " {7796878,\n",
        "  8875024,\n",
        "  8876474,\n",
        "  8876475,\n",
        "  8876476,\n",
        "  8876479,\n",
        "  8876491,\n",
        "  8876504,\n",
        "  8876505},\n",
        " {7, 7796878, 8875024},\n",
        " {8875031, 8875108, 8875111, 8878062, 8878292, 8878415},\n",
        " {7796878, 8875024, 8876987, 8876995},\n",
        " {7796878, 8875024, 8876987, 8876995},\n",
        " {8875452},\n",
        " {7796878},\n",
        " {7796878, 8875035},\n",
        " {125, 8875031, 8875108, 8875111, 8875115, 8878062, 8878292, 8878416},\n",
        " {125, 8875031, 8875108, 8875110, 8875113, 8878332},\n",
        " {125, 8878293},\n",
        " {8875452},\n",
        " {7796878, 8875026},\n",
        " {7796878, 8875026},\n",
        " {8876474,\n",
        "  8876475,\n",
        "  8876476,\n",
        "  8876479,\n",
        "  8876508,\n",
        "  8876569,\n",
        "  8876570,\n",
        "  8877914,\n",
        "  8878255,\n",
        "  8878259,\n",
        "  8878273},\n",
        " {8875027,\n",
        "  8876474,\n",
        "  8876475,\n",
        "  8876476,\n",
        "  8876478,\n",
        "  8876479,\n",
        "  8876484,\n",
        "  8876487,\n",
        "  8878292,\n",
        "  8878416},\n",
        " {8875027,\n",
        "  8876474,\n",
        "  8876475,\n",
        "  8876476,\n",
        "  8876478,\n",
        "  8876479,\n",
        "  8876484,\n",
        "  8876487,\n",
        "  8878292,\n",
        "  8878416},\n",
        " {8875027,\n",
        "  8875031,\n",
        "  8876474,\n",
        "  8876475,\n",
        "  8876476,\n",
        "  8876478,\n",
        "  8876479,\n",
        "  8876484,\n",
        "  8876487,\n",
        "  8878293,\n",
        "  8878416},\n",
        " {8875027, 8878416},\n",
        " {8878255, 8878259, 8878263},\n",
        " {125, 796, 8878293},\n",
        " {796, 8875456, 8878293, 8878390, 8878416},\n",
        " {8878255, 8878259, 8878263},\n",
        " {125},\n",
        " {8876474,\n",
        "  8876475,\n",
        "  8876476,\n",
        "  8876479,\n",
        "  8876502,\n",
        "  8876508,\n",
        "  8876576,\n",
        "  8877914,\n",
        "  8878255,\n",
        "  8878261},\n",
        " {8875452},\n",
        " {8875452, 8878416},\n",
        " {8876987, 8877000, 8878332, 8878416},\n",
        " {8875452, 8878292, 8878416},\n",
        " {2453107, 2496423, 6260328},\n",
        " {8878255, 8878259, 8878273},\n",
        " {8875452, 8876987, 8876988, 8878416},\n",
        " {125},\n",
        " {8875452},\n",
        " {8875452},\n",
        " {2453107, 2496423, 6260328, 8878416},\n",
        " {125, 8875456, 8875458, 8878293},\n",
        " {8875452},\n",
        " {8878255, 8878259, 8878263},\n",
        " {8876474,\n",
        "  8876475,\n",
        "  8876476,\n",
        "  8876479,\n",
        "  8876502,\n",
        "  8876508,\n",
        "  8876576,\n",
        "  8878255,\n",
        "  8878259,\n",
        "  8878273},\n",
        " {8878255, 8878259, 8878263},\n",
        " {8875452},\n",
        " {125},\n",
        " {8878255, 8878259, 8878263},\n",
        " {8878255, 8878259, 8878270},\n",
        " {8875452},\n",
        " {8878255, 8878259, 8878263},\n",
        " {8878255, 8878259, 8878263},\n",
        " {8878255, 8878259, 8878263},\n",
        " {2453107, 2496423, 2497397},\n",
        " {125, 8878293},\n",
        " {125},\n",
        " {8875452},\n",
        " {8878255, 8878259, 8878263},\n",
        " {8875452, 8875456, 8878293, 8878415},\n",
        " {8875452, 8876987, 8876988},\n",
        " {8875227,\n",
        "  8875361,\n",
        "  8876474,\n",
        "  8876476,\n",
        "  8876478,\n",
        "  8876479,\n",
        "  8876487,\n",
        "  8876508,\n",
        "  8876544,\n",
        "  8878255,\n",
        "  8878259,\n",
        "  8878269},\n",
        " {117, 125},\n",
        " {8875452},\n",
        " {2453107, 2496423, 2496424},\n",
        " {8877968, 8877989, 8877997},\n",
        " {8878255, 8878259, 8878270},\n",
        " {8875228, 8877914, 8878255, 8878259, 8878263},\n",
        " {8878255, 8878259, 8878270},\n",
        " {8875228, 8878255, 8878257},\n",
        " {118, 125, 8878416},\n",
        " {8875452},\n",
        " {8876474,\n",
        "  8876475,\n",
        "  8876476,\n",
        "  8876479,\n",
        "  8876502,\n",
        "  8876508,\n",
        "  8876576,\n",
        "  8878255,\n",
        "  8878259,\n",
        "  8878270},\n",
        " {8875452, 8878416},\n",
        " {8878255, 8878259, 8878263},\n",
        " {8876987, 8877008},\n",
        " {118, 125, 8875028, 8875458, 8878293, 8878415},\n",
        " {8878255, 8878259, 8878263},\n",
        " {8875452, 8876987, 8877043},\n",
        " {8877968, 8877989, 8878011},\n",
        " {8875027, 8878420},\n",
        " {796, 8875027, 8878416},\n",
        " {7, 117, 118, 125, 8875456, 8878293},\n",
        " {2453107, 2496423, 6260349},\n",
        " {8878255, 8878257},\n",
        " {2453107, 2496423, 6260349},\n",
        " {8875452, 8876987, 8876988},\n",
        " {2453107, 2496423, 6260349},\n",
        " {118, 125, 8878292, 8878415},\n",
        " {8878255, 8878259, 8878270},\n",
        " {8878255, 8878259, 8878261, 8878273},\n",
        " {8875452},\n",
        " {8875452},\n",
        " {8878255, 8878259, 8878263},\n",
        " {8878255, 8878259, 8878269, 8878416},\n",
        " {8878255, 8878259, 8878266},\n",
        " {8875452},\n",
        " {2453107, 2496423, 6260349},\n",
        " {8878255, 8878259, 8878263},\n",
        " {8875452},\n",
        " {125},\n",
        " {8878255, 8878259, 8878273},\n",
        " {8877913, 8878255, 8878261},\n",
        " {8875452},\n",
        " {8878255, 8878259, 8878273},\n",
        " {8878255, 8878259, 8878263},\n",
        " {8878255, 8878259, 8878263},\n",
        " {8875452, 8876987, 8877046},\n",
        " {8878255, 8878259, 8878263},\n",
        " {2453107, 2496423, 6260468},\n",
        " {8875452},\n",
        " {125},\n",
        " {8878255, 8878259, 8878270},\n",
        " {142364, 8875361, 8878255, 8878259, 8878269},\n",
        " {8875452},\n",
        " {8875452},\n",
        " {8877914, 8878255, 8878259, 8878273},\n",
        " {8877914, 8878255, 8878259, 8878273},\n",
        " {8876987, 8877006, 8878255, 8878259},\n",
        " {2453107, 2496423, 6260468, 8878416},\n",
        " {8877915, 8878255, 8878259, 8878263, 8878429},\n",
        " {8875452, 8875456, 8878416},\n",
        " {7,\n",
        "  117,\n",
        "  125,\n",
        "  796,\n",
        "  8875031,\n",
        "  8875108,\n",
        "  8875111,\n",
        "  8875115,\n",
        "  8878062,\n",
        "  8878293,\n",
        "  8878416},\n",
        " {2453107, 2496423, 6260349},\n",
        " {8877968, 8877969},\n",
        " {8875452},\n",
        " {8875028, 8875033, 8875107, 8878420},\n",
        " {8877968, 8877969, 8877970, 8878416},\n",
        " {8877968, 8877969, 8877970, 8878416},\n",
        " {125},\n",
        " {125, 8875031, 8875108, 8875110, 8875113, 8878416},\n",
        " {8875452, 8875456, 8876987, 8877000},\n",
        " {8875452, 8876987, 8876988, 8878423},\n",
        " {8877968, 8877969, 8877980},\n",
        " {2453107, 2454099, 2454253},\n",
        " {8875452, 8878416},\n",
        " {8875452, 8878429},\n",
        " {8875452},\n",
        " {2453107, 2496423, 2497397},\n",
        " {8875452},\n",
        " {8875452, 8878416},\n",
        " {8875452},\n",
        " {8875452, 8875456, 8878416},\n",
        " {8875452, 8876987, 8876988, 8878423},\n",
        " {8878255, 8878259, 8878273},\n",
        " {8875452, 8876987, 8876988, 8878416},\n",
        " {8875452},\n",
        " {8878255, 8878259, 8878263},\n",
        " {2453107, 2454253, 2484526},\n",
        " {8876474,\n",
        "  8876475,\n",
        "  8876476,\n",
        "  8876479,\n",
        "  8876491,\n",
        "  8876492,\n",
        "  8876508,\n",
        "  8878255,\n",
        "  8878259,\n",
        "  8878269},\n",
        " {8875452},\n",
        " {8875452, 8878413},\n",
        " {8875452},\n",
        " {8875452},\n",
        " {8875452,\n",
        "  8876474,\n",
        "  8876475,\n",
        "  8876476,\n",
        "  8876484,\n",
        "  8876499,\n",
        "  8876509,\n",
        "  8876510,\n",
        "  8876987,\n",
        "  8876988,\n",
        "  8878416},\n",
        " {125, 8875028, 8878293, 8878332, 8878415},\n",
        " {8875452, 8878293},\n",
        " {8876987, 8877006, 8878255, 8878260, 8878416},\n",
        " {8875452, 8878443},\n",
        " {8875452},\n",
        " {8875452},\n",
        " {2453107, 2495238, 2495240},\n",
        " {8878255, 8878259, 8878263, 8878273},\n",
        " {8875452},\n",
        " {125, 8875456, 8875458, 8878293, 8878416},\n",
        " {125, 8878415}]"
       ]
      }
     ],
     "prompt_number": 39
    },
    {
     "cell_type": "code",
     "collapsed": false,
     "input": [
      "extract_with_thr_boilerpipe_ArticleExtractor( extractor_training_objects[0]['raw_content'] )"
     ],
     "language": "python",
     "metadata": {},
     "outputs": [
      {
       "output_type": "stream",
       "stream": "stdout",
       "text": [
        "start thrift_bp_extract\n",
        "returning from thrift_bp_extract\n"
       ]
      },
      {
       "metadata": {},
       "output_type": "pyout",
       "prompt_number": 64,
       "text": [
        "{'extracted_html': '',\n",
        " 'extracted_text': u'Metr\\xf4 tem confus\\xe3o por causa de encontro em shopping; veja v\\xeddeo - Bizarro\\n\\nfonte: Reprodu\\xe7\\xe3o/Facebook Rol\\xea Shopping Itaquera\\nHouve superlota\\xe7\\xe3o e a confus\\xe3o foi generalizada\\nEra para ser um s\\xe1bado muvucado como todos aqueles que antecedem o Natal em mais um shopping de S\\xe3o Paulo. Mas foi muito mais do que isso. Milhares de jovens compareceram a um encontro promovido por uma p\\xe1gina \\xa0no Facebook para este s\\xe1bado (7), no segundo andar do Shopping Metr\\xf4 Itaquera, \\xe0s 17h. Mas o que aconteceu foi uma bagun\\xe7a total, com a chegada da pol\\xedcia e o fechamento do shopping duas horas antes que o previsto.\\nNingu\\xe9m sabe ao certo o que aconteceu, alguns dizem que foi arrast\\xe3o, mas os pr\\xf3prios lojistas negam. De acordo com um rapaz que registrou a movimenta\\xe7\\xe3o na sa\\xedda do metr\\xf4, algumas pessoas isoladamente tiveram itens furtados. Infelizmente, o celular do garoto era meio ruim, mas deu para ver a confus\\xe3o. Veja aqui o v\\xeddeo que ele fez.\\nComo muita gente compareceu, houve a confus\\xe3o. O certo \\xe9 que j\\xe1 est\\xe1 marcado o terceiro encontro, que \\xe9 mais uma badala\\xe7\\xe3o entre a galera, ou melhor, como diz a pr\\xf3pria p\\xe1gina , \\xe9 s\\xf3 um Rol\\xeazinho Parte 3. Tudo come\\xe7ou na semana passado, no domingo (1), com o Vuuk no Shopping Itaquera.\\nVEJA+\\n'}"
       ]
      }
     ],
     "prompt_number": 64
    },
    {
     "cell_type": "code",
     "collapsed": false,
     "input": [
      "comp_extractors( extractor_training_objects[ 0] )"
     ],
     "language": "python",
     "metadata": {},
     "outputs": [
      {
       "output_type": "stream",
       "stream": "stdout",
       "text": [
        "extracting with thr_boilerpipe\n"
       ]
      },
      {
       "metadata": {},
       "output_type": "pyout",
       "prompt_number": 72,
       "text": [
        "{'downloads_id': 391881020,\n",
        " 'gold': {'f1': 1.0, 'precision': 1.0, 'recall': 1.0},\n",
        " 'media_id': 83371,\n",
        " 'py_boiler_pipe_ArticleExtractor': {'f1': 0.898148148148148,\n",
        "  'precision': 0.8220338983050848,\n",
        "  'recall': 0.9897959183673469},\n",
        " 'py_boiler_pipe_ArticleSentencesExtractor': {'f1': 0,\n",
        "  'precision': 0.0,\n",
        "  'recall': 0.0},\n",
        " 'py_boiler_pipe_CanolaExtractor': {'f1': 0.8729016786570742,\n",
        "  'precision': 0.8235294117647058,\n",
        "  'recall': 0.9285714285714286},\n",
        " 'py_boiler_pipe_DefaultExtractor': {'f1': 0.8656036446469247,\n",
        "  'precision': 0.7818930041152263,\n",
        "  'recall': 0.9693877551020408},\n",
        " 'py_boiler_pipe_KeepEverythingExtractor': {'f1': 0.4714459295261239,\n",
        "  'precision': 0.3094098883572568,\n",
        "  'recall': 0.9897959183673469},\n",
        " 'py_boiler_pipe_LargestContentExtractor': {'f1': 0.9440389294403893,\n",
        "  'precision': 0.9023255813953488,\n",
        "  'recall': 0.9897959183673469},\n",
        " 'py_boiler_pipe_NumWordsRulesExtractor': {'f1': 0.900473933649289,\n",
        "  'precision': 0.8407079646017699,\n",
        "  'recall': 0.9693877551020408},\n",
        " 'python_readibilty': {'f1': 0.9411764705882353,\n",
        "  'precision': 0.9435897435897436,\n",
        "  'recall': 0.9387755102040817},\n",
        " 'story_is_spidered': False,\n",
        " 'thr_boiler_pipe_ArticleExtractor': {'f1': 0.938875305623472,\n",
        "  'precision': 0.9014084507042254,\n",
        "  'recall': 0.9795918367346939},\n",
        " 'thr_boiler_pipe_DefaultExtractor': {'f1': 0.7840670859538783,\n",
        "  'precision': 0.6654804270462633,\n",
        "  'recall': 0.9540816326530612}}"
       ]
      }
     ],
     "prompt_number": 72
    },
    {
     "cell_type": "code",
     "collapsed": false,
     "input": [
      "import datetime\n",
      "\n",
      "if regenerate_comps_downloads:\n",
      "    \n",
      "    comps_downloads = []\n",
      "    processed = 0\n",
      "    skipped = 0\n",
      "    \n",
      "    start_time = datetime.datetime.now()\n",
      "    \n",
      "    e=None\n",
      "    for extractor_training_object in extractor_training_objects[:]:\n",
      "        print 'processed ', processed\n",
      "        print 'skipped ', skipped\n",
      "        print extractor_training_object[ 'downloads_id']\n",
      "        try:\n",
      "            res = comp_extractors( extractor_training_object )\n",
      "            #print res\n",
      "            comps_downloads.append( res )\n",
      "            processed += 1\n",
      "        except Exception, e:\n",
      "            print \"error on download{}\".format( extractor_training_object[ 'downloads_id'] )\n",
      "            e = sys.exc_info()\n",
      "            \n",
      "            import traceback\n",
      "            \n",
      "            traceback.print_exc()\n",
      "            print e\n",
      "            #raise e\n",
      "            skipped += 1\n",
      "\n",
      "    end_time = datetime.datetime.now()\n",
      "    \n",
      "    print \"Total_time\", end_time - start_time\n",
      "    \n",
      "    print \"Time per download\", (end_time - start_time)/ (processed + skipped )\n",
      "    \n",
      "    cPickle.dump( comps_downloads, file( \n",
      "            os.path.expanduser( \"~/Dropbox/mc/extractor_test/comps_downloads.pickle\"), \"wb\"))\n",
      "    \n",
      "    \n",
      "    e\n",
      "#extractor_training_objects\n",
      "    "
     ],
     "language": "python",
     "metadata": {},
     "outputs": [
      {
       "output_type": "stream",
       "stream": "stdout",
       "text": [
        "processed  0\n",
        "skipped  0\n",
        "391881020\n",
        "extracting with thr_boilerpipe\n",
        "processed "
       ]
      },
      {
       "output_type": "stream",
       "stream": "stdout",
       "text": [
        " 1\n",
        "skipped  0\n",
        "401370599\n",
        "extracting with thr_boilerpipe\n",
        "processed "
       ]
      },
      {
       "output_type": "stream",
       "stream": "stdout",
       "text": [
        " 2\n",
        "skipped  0\n",
        "412896439\n",
        "extracting with thr_boilerpipe\n",
        "processed "
       ]
      },
      {
       "output_type": "stream",
       "stream": "stdout",
       "text": [
        " 3\n",
        "skipped  0\n",
        "412952145\n",
        "extracting with thr_boilerpipe\n",
        "processed "
       ]
      },
      {
       "output_type": "stream",
       "stream": "stdout",
       "text": [
        " 4\n",
        "skipped  0\n",
        "412977048\n",
        "extracting with thr_boilerpipe\n",
        "processed "
       ]
      },
      {
       "output_type": "stream",
       "stream": "stdout",
       "text": [
        " 5\n",
        "skipped  0\n",
        "406397565\n",
        "extracting with thr_boilerpipe\n",
        "processed "
       ]
      },
      {
       "output_type": "stream",
       "stream": "stdout",
       "text": [
        " 6\n",
        "skipped  0\n",
        "406946308\n",
        "extracting with thr_boilerpipe\n",
        "processed "
       ]
      },
      {
       "output_type": "stream",
       "stream": "stdout",
       "text": [
        " 7\n",
        "skipped  0\n",
        "407440556\n",
        "extracting with thr_boilerpipe\n",
        "processed "
       ]
      },
      {
       "output_type": "stream",
       "stream": "stdout",
       "text": [
        " 8\n",
        "skipped  0\n",
        "408175125\n",
        "extracting with thr_boilerpipe\n",
        "processed "
       ]
      },
      {
       "output_type": "stream",
       "stream": "stdout",
       "text": [
        " 9\n",
        "skipped  0\n",
        "408604940\n",
        "extracting with thr_boilerpipe\n",
        "processed "
       ]
      },
      {
       "output_type": "stream",
       "stream": "stdout",
       "text": [
        " 10\n",
        "skipped  0\n",
        "408964569\n",
        "extracting with thr_boilerpipe\n",
        "processed "
       ]
      },
      {
       "output_type": "stream",
       "stream": "stdout",
       "text": [
        " 11\n",
        "skipped  0\n",
        "409307571\n",
        "extracting with thr_boilerpipe\n",
        "processed "
       ]
      },
      {
       "output_type": "stream",
       "stream": "stdout",
       "text": [
        " 12\n",
        "skipped  0\n",
        "409362014\n",
        "extracting with thr_boilerpipe\n",
        "processed "
       ]
      },
      {
       "output_type": "stream",
       "stream": "stdout",
       "text": [
        " 13\n",
        "skipped  0\n",
        "410019932\n",
        "extracting with thr_boilerpipe\n",
        "processed "
       ]
      },
      {
       "output_type": "stream",
       "stream": "stdout",
       "text": [
        " 14\n",
        "skipped  0\n",
        "410769033\n",
        "extracting with thr_boilerpipe\n",
        "processed "
       ]
      },
      {
       "output_type": "stream",
       "stream": "stdout",
       "text": [
        " 15\n",
        "skipped  0\n",
        "410893054\n",
        "extracting with thr_boilerpipe\n",
        "processed "
       ]
      },
      {
       "output_type": "stream",
       "stream": "stdout",
       "text": [
        " 16\n",
        "skipped  0\n",
        "411494070\n",
        "extracting with thr_boilerpipe\n",
        "processed "
       ]
      },
      {
       "output_type": "stream",
       "stream": "stdout",
       "text": [
        " 17\n",
        "skipped  0\n",
        "412822633\n",
        "extracting with thr_boilerpipe\n",
        "processed "
       ]
      },
      {
       "output_type": "stream",
       "stream": "stdout",
       "text": [
        " 18\n",
        "skipped  0\n",
        "412832327\n",
        "extracting with thr_boilerpipe\n",
        "processed "
       ]
      },
      {
       "output_type": "stream",
       "stream": "stdout",
       "text": [
        " 19\n",
        "skipped  0\n",
        "413070223\n",
        "extracting with thr_boilerpipe\n",
        "processed "
       ]
      },
      {
       "output_type": "stream",
       "stream": "stdout",
       "text": [
        " 20\n",
        "skipped  0\n",
        "413080625\n",
        "extracting with thr_boilerpipe\n",
        "processed "
       ]
      },
      {
       "output_type": "stream",
       "stream": "stdout",
       "text": [
        " 21\n",
        "skipped  0\n",
        "413724188\n",
        "extracting with thr_boilerpipe\n",
        "processed "
       ]
      },
      {
       "output_type": "stream",
       "stream": "stdout",
       "text": [
        " 22\n",
        "skipped  0\n",
        "413990063\n",
        "extracting with thr_boilerpipe\n",
        "processed "
       ]
      },
      {
       "output_type": "stream",
       "stream": "stdout",
       "text": [
        " 23\n",
        "skipped  0\n",
        "414001946\n",
        "extracting with thr_boilerpipe\n",
        "processed "
       ]
      },
      {
       "output_type": "stream",
       "stream": "stdout",
       "text": [
        " 24\n",
        "skipped  0\n",
        "414705852\n",
        "extracting with thr_boilerpipe\n",
        "processed "
       ]
      },
      {
       "output_type": "stream",
       "stream": "stdout",
       "text": [
        " 25\n",
        "skipped  0\n",
        "414754369\n",
        "extracting with thr_boilerpipe\n",
        "processed "
       ]
      },
      {
       "output_type": "stream",
       "stream": "stdout",
       "text": [
        " 26\n",
        "skipped  0\n",
        "414974366\n",
        "extracting with thr_boilerpipe\n",
        "processed "
       ]
      },
      {
       "output_type": "stream",
       "stream": "stdout",
       "text": [
        " 27\n",
        "skipped  0\n",
        "415381471\n",
        "extracting with thr_boilerpipe\n",
        "processed "
       ]
      },
      {
       "output_type": "stream",
       "stream": "stdout",
       "text": [
        " 28\n",
        "skipped  0\n",
        "415752815\n",
        "extracting with thr_boilerpipe\n",
        "processed "
       ]
      },
      {
       "output_type": "stream",
       "stream": "stdout",
       "text": [
        " 29\n",
        "skipped  0\n",
        "415977284\n",
        "extracting with thr_boilerpipe\n",
        "processed "
       ]
      },
      {
       "output_type": "stream",
       "stream": "stdout",
       "text": [
        " 30\n",
        "skipped  0\n",
        "416560140\n",
        "extracting with thr_boilerpipe\n",
        "processed "
       ]
      },
      {
       "output_type": "stream",
       "stream": "stdout",
       "text": [
        " 31\n",
        "skipped  0\n",
        "416773947\n",
        "extracting with thr_boilerpipe\n",
        "processed "
       ]
      },
      {
       "output_type": "stream",
       "stream": "stdout",
       "text": [
        " 32\n",
        "skipped  0\n",
        "416931217\n",
        "extracting with thr_boilerpipe\n",
        "processed "
       ]
      },
      {
       "output_type": "stream",
       "stream": "stdout",
       "text": [
        " 33\n",
        "skipped  0\n",
        "417026931\n",
        "extracting with thr_boilerpipe\n",
        "processed "
       ]
      },
      {
       "output_type": "stream",
       "stream": "stdout",
       "text": [
        " 34\n",
        "skipped  0\n",
        "417913575\n",
        "extracting with thr_boilerpipe\n",
        "processed "
       ]
      },
      {
       "output_type": "stream",
       "stream": "stdout",
       "text": [
        " 35\n",
        "skipped  0\n",
        "418921816\n",
        "extracting with thr_boilerpipe\n",
        "processed "
       ]
      },
      {
       "output_type": "stream",
       "stream": "stdout",
       "text": [
        " 36\n",
        "skipped  0\n",
        "419059149\n",
        "extracting with thr_boilerpipe\n",
        "processed "
       ]
      },
      {
       "output_type": "stream",
       "stream": "stdout",
       "text": [
        " 37\n",
        "skipped  0\n",
        "419061380\n",
        "extracting with thr_boilerpipe\n",
        "processed "
       ]
      },
      {
       "output_type": "stream",
       "stream": "stdout",
       "text": [
        " 38\n",
        "skipped  0\n",
        "419312194\n",
        "extracting with thr_boilerpipe\n",
        "processed "
       ]
      },
      {
       "output_type": "stream",
       "stream": "stdout",
       "text": [
        " 39\n",
        "skipped  0\n",
        "419463576\n",
        "extracting with thr_boilerpipe\n",
        "processed "
       ]
      },
      {
       "output_type": "stream",
       "stream": "stdout",
       "text": [
        " 40\n",
        "skipped  0\n",
        "419897309\n",
        "extracting with thr_boilerpipe\n",
        "processed "
       ]
      },
      {
       "output_type": "stream",
       "stream": "stdout",
       "text": [
        " 41\n",
        "skipped  0\n",
        "420605489\n",
        "extracting with thr_boilerpipe\n",
        "processed "
       ]
      },
      {
       "output_type": "stream",
       "stream": "stdout",
       "text": [
        " 42\n",
        "skipped  0\n",
        "420695976\n",
        "extracting with thr_boilerpipe\n",
        "processed "
       ]
      },
      {
       "output_type": "stream",
       "stream": "stdout",
       "text": [
        " 43\n",
        "skipped  0\n",
        "420972612\n",
        "extracting with thr_boilerpipe\n",
        "processed "
       ]
      },
      {
       "output_type": "stream",
       "stream": "stdout",
       "text": [
        " 44\n",
        "skipped  0\n",
        "421512071\n",
        "extracting with thr_boilerpipe\n",
        "processed "
       ]
      },
      {
       "output_type": "stream",
       "stream": "stdout",
       "text": [
        " 45\n",
        "skipped  0\n",
        "421586812\n",
        "extracting with thr_boilerpipe\n",
        "processed "
       ]
      },
      {
       "output_type": "stream",
       "stream": "stdout",
       "text": [
        " 46\n",
        "skipped  0\n",
        "421950008\n",
        "extracting with thr_boilerpipe\n",
        "processed "
       ]
      },
      {
       "output_type": "stream",
       "stream": "stdout",
       "text": [
        " 47\n",
        "skipped  0\n",
        "422329395\n",
        "extracting with thr_boilerpipe\n",
        "processed "
       ]
      },
      {
       "output_type": "stream",
       "stream": "stdout",
       "text": [
        " 48\n",
        "skipped  0\n",
        "423644184\n",
        "extracting with thr_boilerpipe\n",
        "processed "
       ]
      },
      {
       "output_type": "stream",
       "stream": "stdout",
       "text": [
        " 49\n",
        "skipped  0\n",
        "423780415\n",
        "extracting with thr_boilerpipe\n",
        "processed "
       ]
      },
      {
       "output_type": "stream",
       "stream": "stdout",
       "text": [
        " 50\n",
        "skipped  0\n",
        "423811752\n",
        "extracting with thr_boilerpipe\n",
        "processed "
       ]
      },
      {
       "output_type": "stream",
       "stream": "stdout",
       "text": [
        " 51\n",
        "skipped  0\n",
        "423826345\n",
        "extracting with thr_boilerpipe\n",
        "processed "
       ]
      },
      {
       "output_type": "stream",
       "stream": "stdout",
       "text": [
        " 52\n",
        "skipped  0\n",
        "426274790\n",
        "extracting with thr_boilerpipe\n",
        "processed "
       ]
      },
      {
       "output_type": "stream",
       "stream": "stdout",
       "text": [
        " 53\n",
        "skipped  0\n",
        "426745030\n",
        "extracting with thr_boilerpipe\n",
        "processed "
       ]
      },
      {
       "output_type": "stream",
       "stream": "stdout",
       "text": [
        " 54\n",
        "skipped  0\n",
        "426958717\n",
        "extracting with thr_boilerpipe\n",
        "processed "
       ]
      },
      {
       "output_type": "stream",
       "stream": "stdout",
       "text": [
        " 55\n",
        "skipped  0\n",
        "427023406\n",
        "extracting with thr_boilerpipe\n",
        "processed "
       ]
      },
      {
       "output_type": "stream",
       "stream": "stdout",
       "text": [
        " 56\n",
        "skipped  0\n",
        "427039192\n",
        "extracting with thr_boilerpipe\n",
        "processed "
       ]
      },
      {
       "output_type": "stream",
       "stream": "stdout",
       "text": [
        " 57\n",
        "skipped  0\n",
        "427131787\n",
        "extracting with thr_boilerpipe\n",
        "processed "
       ]
      },
      {
       "output_type": "stream",
       "stream": "stdout",
       "text": [
        " 58\n",
        "skipped  0\n",
        "427645929\n",
        "extracting with thr_boilerpipe\n",
        "processed "
       ]
      },
      {
       "output_type": "stream",
       "stream": "stdout",
       "text": [
        " 59\n",
        "skipped  0\n",
        "427851499\n",
        "extracting with thr_boilerpipe\n",
        "processed "
       ]
      },
      {
       "output_type": "stream",
       "stream": "stdout",
       "text": [
        " 60\n",
        "skipped  0\n",
        "428523804\n",
        "extracting with thr_boilerpipe\n",
        "processed "
       ]
      },
      {
       "output_type": "stream",
       "stream": "stdout",
       "text": [
        " 61\n",
        "skipped  0\n",
        "429112619\n",
        "extracting with thr_boilerpipe\n",
        "processed "
       ]
      },
      {
       "output_type": "stream",
       "stream": "stdout",
       "text": [
        " 62\n",
        "skipped  0\n",
        "429500447\n",
        "extracting with thr_boilerpipe\n",
        "processed "
       ]
      },
      {
       "output_type": "stream",
       "stream": "stdout",
       "text": [
        " 63\n",
        "skipped  0\n",
        "429714766\n",
        "extracting with thr_boilerpipe\n",
        "processed "
       ]
      },
      {
       "output_type": "stream",
       "stream": "stdout",
       "text": [
        " 64\n",
        "skipped  0\n",
        "429793967\n",
        "extracting with thr_boilerpipe\n",
        "processed "
       ]
      },
      {
       "output_type": "stream",
       "stream": "stdout",
       "text": [
        " 65\n",
        "skipped  0\n",
        "430099220\n",
        "extracting with thr_boilerpipe\n",
        "processed "
       ]
      },
      {
       "output_type": "stream",
       "stream": "stdout",
       "text": [
        " 66\n",
        "skipped  0\n",
        "430660615\n",
        "extracting with thr_boilerpipe\n",
        "processed "
       ]
      },
      {
       "output_type": "stream",
       "stream": "stdout",
       "text": [
        " 67\n",
        "skipped  0\n",
        "431012388\n",
        "extracting with thr_boilerpipe\n",
        "processed "
       ]
      },
      {
       "output_type": "stream",
       "stream": "stdout",
       "text": [
        " 68\n",
        "skipped  0\n",
        "431311136\n",
        "extracting with thr_boilerpipe\n",
        "processed "
       ]
      },
      {
       "output_type": "stream",
       "stream": "stdout",
       "text": [
        " 69\n",
        "skipped  0\n",
        "431387007\n",
        "extracting with thr_boilerpipe\n",
        "processed "
       ]
      },
      {
       "output_type": "stream",
       "stream": "stdout",
       "text": [
        " 70\n",
        "skipped  0\n",
        "431606529\n",
        "extracting with thr_boilerpipe\n",
        "processed "
       ]
      },
      {
       "output_type": "stream",
       "stream": "stdout",
       "text": [
        " 71\n",
        "skipped  0\n",
        "431839510\n",
        "extracting with thr_boilerpipe\n",
        "processed "
       ]
      },
      {
       "output_type": "stream",
       "stream": "stdout",
       "text": [
        " 72\n",
        "skipped  0\n",
        "431905299\n",
        "extracting with thr_boilerpipe\n",
        "processed "
       ]
      },
      {
       "output_type": "stream",
       "stream": "stdout",
       "text": [
        " 73\n",
        "skipped  0\n",
        "432896524\n",
        "extracting with thr_boilerpipe\n",
        "processed "
       ]
      },
      {
       "output_type": "stream",
       "stream": "stdout",
       "text": [
        " 74\n",
        "skipped  0\n",
        "432929604\n",
        "extracting with thr_boilerpipe\n",
        "processed "
       ]
      },
      {
       "output_type": "stream",
       "stream": "stdout",
       "text": [
        " 75\n",
        "skipped  0\n",
        "433044130\n",
        "extracting with thr_boilerpipe\n",
        "processed "
       ]
      },
      {
       "output_type": "stream",
       "stream": "stdout",
       "text": [
        " 76\n",
        "skipped  0\n",
        "434192180\n",
        "extracting with thr_boilerpipe\n",
        "processed "
       ]
      },
      {
       "output_type": "stream",
       "stream": "stdout",
       "text": [
        " 77\n",
        "skipped  0\n",
        "434250046\n",
        "extracting with thr_boilerpipe\n",
        "processed "
       ]
      },
      {
       "output_type": "stream",
       "stream": "stdout",
       "text": [
        " 78\n",
        "skipped  0\n",
        "434842660\n",
        "extracting with thr_boilerpipe\n",
        "processed "
       ]
      },
      {
       "output_type": "stream",
       "stream": "stdout",
       "text": [
        " 79\n",
        "skipped  0\n",
        "435142187\n",
        "extracting with thr_boilerpipe\n",
        "processed "
       ]
      },
      {
       "output_type": "stream",
       "stream": "stdout",
       "text": [
        " 80\n",
        "skipped  0\n",
        "435417572\n",
        "extracting with thr_boilerpipe\n",
        "processed "
       ]
      },
      {
       "output_type": "stream",
       "stream": "stdout",
       "text": [
        " 81\n",
        "skipped  0\n",
        "435417726\n",
        "extracting with thr_boilerpipe\n",
        "processed "
       ]
      },
      {
       "output_type": "stream",
       "stream": "stdout",
       "text": [
        " 82\n",
        "skipped  0\n",
        "435795096\n",
        "extracting with thr_boilerpipe\n",
        "processed "
       ]
      },
      {
       "output_type": "stream",
       "stream": "stdout",
       "text": [
        " 83\n",
        "skipped  0\n",
        "436540640\n",
        "extracting with thr_boilerpipe\n",
        "processed "
       ]
      },
      {
       "output_type": "stream",
       "stream": "stdout",
       "text": [
        " 84\n",
        "skipped  0\n",
        "436554531\n",
        "extracting with thr_boilerpipe\n",
        "processed "
       ]
      },
      {
       "output_type": "stream",
       "stream": "stdout",
       "text": [
        " 85\n",
        "skipped  0\n",
        "437087573\n",
        "extracting with thr_boilerpipe\n",
        "processed "
       ]
      },
      {
       "output_type": "stream",
       "stream": "stdout",
       "text": [
        " 86\n",
        "skipped  0\n",
        "437239472\n",
        "extracting with thr_boilerpipe\n",
        "processed "
       ]
      },
      {
       "output_type": "stream",
       "stream": "stdout",
       "text": [
        " 87\n",
        "skipped  0\n",
        "437281074\n",
        "extracting with thr_boilerpipe\n",
        "processed "
       ]
      },
      {
       "output_type": "stream",
       "stream": "stdout",
       "text": [
        " 88\n",
        "skipped  0\n",
        "437315186\n",
        "extracting with thr_boilerpipe\n",
        "processed "
       ]
      },
      {
       "output_type": "stream",
       "stream": "stdout",
       "text": [
        " 89\n",
        "skipped  0\n",
        "437523403\n",
        "extracting with thr_boilerpipe\n",
        "processed "
       ]
      },
      {
       "output_type": "stream",
       "stream": "stdout",
       "text": [
        " 90\n",
        "skipped  0\n",
        "437526788\n",
        "extracting with thr_boilerpipe\n",
        "processed "
       ]
      },
      {
       "output_type": "stream",
       "stream": "stdout",
       "text": [
        " 91\n",
        "skipped  0\n",
        "438596131\n",
        "extracting with thr_boilerpipe\n",
        "processed "
       ]
      },
      {
       "output_type": "stream",
       "stream": "stdout",
       "text": [
        " 92\n",
        "skipped  0\n",
        "438672710\n",
        "extracting with thr_boilerpipe\n",
        "processed "
       ]
      },
      {
       "output_type": "stream",
       "stream": "stdout",
       "text": [
        " 93\n",
        "skipped  0\n",
        "439340014\n",
        "extracting with thr_boilerpipe\n",
        "error on download439340014"
       ]
      },
      {
       "output_type": "stream",
       "stream": "stdout",
       "text": [
        "\n",
        "(<class 'thrift.Thrift.TApplicationException'>, TApplicationException(None,), <traceback object at 0x7f3c8a8d51b8>)\n",
        "processed  93\n",
        "skipped  1\n",
        "439491986\n",
        "extracting with thr_boilerpipe\n",
        "processed "
       ]
      },
      {
       "output_type": "stream",
       "stream": "stdout",
       "text": [
        " 94\n",
        "skipped  1\n",
        "439619864\n",
        "extracting with thr_boilerpipe\n",
        "processed "
       ]
      },
      {
       "output_type": "stream",
       "stream": "stdout",
       "text": [
        " 95\n",
        "skipped  1\n",
        "439631363\n",
        "extracting with thr_boilerpipe\n",
        "processed "
       ]
      },
      {
       "output_type": "stream",
       "stream": "stdout",
       "text": [
        " 96\n",
        "skipped  1\n",
        "440193709\n",
        "extracting with thr_boilerpipe\n",
        "processed "
       ]
      },
      {
       "output_type": "stream",
       "stream": "stdout",
       "text": [
        " 97\n",
        "skipped  1\n",
        "440219216\n",
        "extracting with thr_boilerpipe\n",
        "processed "
       ]
      },
      {
       "output_type": "stream",
       "stream": "stdout",
       "text": [
        " 98\n",
        "skipped  1\n",
        "440780462\n",
        "extracting with thr_boilerpipe\n",
        "processed "
       ]
      },
      {
       "output_type": "stream",
       "stream": "stdout",
       "text": [
        " 99\n",
        "skipped  1\n",
        "441039343\n",
        "extracting with thr_boilerpipe\n",
        "processed "
       ]
      },
      {
       "output_type": "stream",
       "stream": "stdout",
       "text": [
        " 100\n",
        "skipped  1\n",
        "441313630\n",
        "extracting with thr_boilerpipe\n",
        "processed "
       ]
      },
      {
       "output_type": "stream",
       "stream": "stdout",
       "text": [
        " 101\n",
        "skipped  1\n",
        "441455864\n",
        "extracting with thr_boilerpipe\n",
        "processed "
       ]
      },
      {
       "output_type": "stream",
       "stream": "stdout",
       "text": [
        " 102\n",
        "skipped  1\n",
        "441846112\n",
        "extracting with thr_boilerpipe\n",
        "processed "
       ]
      },
      {
       "output_type": "stream",
       "stream": "stdout",
       "text": [
        " 103\n",
        "skipped  1\n",
        "442808951\n",
        "extracting with thr_boilerpipe\n",
        "processed "
       ]
      },
      {
       "output_type": "stream",
       "stream": "stdout",
       "text": [
        " 104\n",
        "skipped  1\n",
        "442862362\n",
        "extracting with thr_boilerpipe\n",
        "processed "
       ]
      },
      {
       "output_type": "stream",
       "stream": "stdout",
       "text": [
        " 105\n",
        "skipped  1\n",
        "443616755\n",
        "extracting with thr_boilerpipe\n",
        "processed "
       ]
      },
      {
       "output_type": "stream",
       "stream": "stdout",
       "text": [
        " 106\n",
        "skipped  1\n",
        "444570682\n",
        "extracting with thr_boilerpipe\n",
        "processed "
       ]
      },
      {
       "output_type": "stream",
       "stream": "stdout",
       "text": [
        " 107\n",
        "skipped  1\n",
        "444894095\n",
        "extracting with thr_boilerpipe\n",
        "processed "
       ]
      },
      {
       "output_type": "stream",
       "stream": "stdout",
       "text": [
        " 108\n",
        "skipped  1\n",
        "445086933\n",
        "extracting with thr_boilerpipe\n",
        "processed "
       ]
      },
      {
       "output_type": "stream",
       "stream": "stdout",
       "text": [
        " 109\n",
        "skipped  1\n",
        "445428584\n",
        "extracting with thr_boilerpipe\n",
        "processed "
       ]
      },
      {
       "output_type": "stream",
       "stream": "stdout",
       "text": [
        " 110\n",
        "skipped  1\n",
        "445477281\n",
        "extracting with thr_boilerpipe\n",
        "processed "
       ]
      },
      {
       "output_type": "stream",
       "stream": "stdout",
       "text": [
        " 111\n",
        "skipped  1\n",
        "446094222\n",
        "extracting with thr_boilerpipe\n",
        "processed "
       ]
      },
      {
       "output_type": "stream",
       "stream": "stdout",
       "text": [
        " 112\n",
        "skipped  1\n",
        "446613221\n",
        "extracting with thr_boilerpipe\n",
        "processed "
       ]
      },
      {
       "output_type": "stream",
       "stream": "stdout",
       "text": [
        " 113\n",
        "skipped  1\n",
        "447062817\n",
        "extracting with thr_boilerpipe\n",
        "processed "
       ]
      },
      {
       "output_type": "stream",
       "stream": "stdout",
       "text": [
        " 114\n",
        "skipped  1\n",
        "447776250\n",
        "extracting with thr_boilerpipe\n",
        "processed "
       ]
      },
      {
       "output_type": "stream",
       "stream": "stdout",
       "text": [
        " 115\n",
        "skipped  1\n",
        "448661284\n",
        "extracting with thr_boilerpipe\n",
        "processed "
       ]
      },
      {
       "output_type": "stream",
       "stream": "stdout",
       "text": [
        " 116\n",
        "skipped  1\n",
        "448661534\n",
        "extracting with thr_boilerpipe\n",
        "processed "
       ]
      },
      {
       "output_type": "stream",
       "stream": "stdout",
       "text": [
        " 117\n",
        "skipped  1\n",
        "448892156\n",
        "extracting with thr_boilerpipe\n",
        "processed "
       ]
      },
      {
       "output_type": "stream",
       "stream": "stdout",
       "text": [
        " 118\n",
        "skipped  1\n",
        "448905892\n",
        "extracting with thr_boilerpipe\n",
        "processed "
       ]
      },
      {
       "output_type": "stream",
       "stream": "stdout",
       "text": [
        " 119\n",
        "skipped  1\n",
        "449094788\n",
        "extracting with thr_boilerpipe\n",
        "processed "
       ]
      },
      {
       "output_type": "stream",
       "stream": "stdout",
       "text": [
        " 120\n",
        "skipped  1\n",
        "449256732\n",
        "extracting with thr_boilerpipe\n",
        "processed "
       ]
      },
      {
       "output_type": "stream",
       "stream": "stdout",
       "text": [
        " 121\n",
        "skipped  1\n",
        "450223351\n",
        "extracting with thr_boilerpipe\n",
        "processed "
       ]
      },
      {
       "output_type": "stream",
       "stream": "stdout",
       "text": [
        " 122\n",
        "skipped  1\n",
        "450797637\n",
        "extracting with thr_boilerpipe\n",
        "processed "
       ]
      },
      {
       "output_type": "stream",
       "stream": "stdout",
       "text": [
        " 123\n",
        "skipped  1\n",
        "452232437\n",
        "extracting with thr_boilerpipe\n",
        "processed "
       ]
      },
      {
       "output_type": "stream",
       "stream": "stdout",
       "text": [
        " 124\n",
        "skipped  1\n",
        "453272806\n",
        "extracting with thr_boilerpipe\n",
        "processed "
       ]
      },
      {
       "output_type": "stream",
       "stream": "stdout",
       "text": [
        " 125\n",
        "skipped  1\n",
        "454046798\n",
        "extracting with thr_boilerpipe\n",
        "processed "
       ]
      },
      {
       "output_type": "stream",
       "stream": "stdout",
       "text": [
        " 126\n",
        "skipped  1\n",
        "454492602\n",
        "extracting with thr_boilerpipe\n",
        "processed "
       ]
      },
      {
       "output_type": "stream",
       "stream": "stdout",
       "text": [
        " 127\n",
        "skipped  1\n",
        "455066382\n",
        "extracting with thr_boilerpipe\n",
        "processed "
       ]
      },
      {
       "output_type": "stream",
       "stream": "stdout",
       "text": [
        " 128\n",
        "skipped  1\n",
        "455593030\n",
        "extracting with thr_boilerpipe\n",
        "processed "
       ]
      },
      {
       "output_type": "stream",
       "stream": "stdout",
       "text": [
        " 129\n",
        "skipped  1\n",
        "456789442\n",
        "extracting with thr_boilerpipe\n",
        "processed "
       ]
      },
      {
       "output_type": "stream",
       "stream": "stdout",
       "text": [
        " 130\n",
        "skipped  1\n",
        "457113351\n",
        "extracting with thr_boilerpipe\n",
        "processed "
       ]
      },
      {
       "output_type": "stream",
       "stream": "stdout",
       "text": [
        " 131\n",
        "skipped  1\n",
        "457749321\n",
        "extracting with thr_boilerpipe\n",
        "processed "
       ]
      },
      {
       "output_type": "stream",
       "stream": "stdout",
       "text": [
        " 132\n",
        "skipped  1\n",
        "457918791\n",
        "extracting with thr_boilerpipe\n",
        "processed "
       ]
      },
      {
       "output_type": "stream",
       "stream": "stdout",
       "text": [
        " 133\n",
        "skipped  1\n",
        "457945604\n",
        "extracting with thr_boilerpipe\n",
        "processed "
       ]
      },
      {
       "output_type": "stream",
       "stream": "stdout",
       "text": [
        " 134\n",
        "skipped  1\n",
        "458053172\n",
        "extracting with thr_boilerpipe\n",
        "processed "
       ]
      },
      {
       "output_type": "stream",
       "stream": "stdout",
       "text": [
        " 135\n",
        "skipped  1\n",
        "458710845\n",
        "extracting with thr_boilerpipe\n",
        "processed "
       ]
      },
      {
       "output_type": "stream",
       "stream": "stdout",
       "text": [
        " 136\n",
        "skipped  1\n",
        "459297373\n",
        "extracting with thr_boilerpipe\n",
        "processed "
       ]
      },
      {
       "output_type": "stream",
       "stream": "stdout",
       "text": [
        " 137\n",
        "skipped  1\n",
        "459314297\n",
        "extracting with thr_boilerpipe\n",
        "processed "
       ]
      },
      {
       "output_type": "stream",
       "stream": "stdout",
       "text": [
        " 138\n",
        "skipped  1\n",
        "459678712\n",
        "extracting with thr_boilerpipe\n",
        "processed "
       ]
      },
      {
       "output_type": "stream",
       "stream": "stdout",
       "text": [
        " 139\n",
        "skipped  1\n",
        "459731765\n",
        "extracting with thr_boilerpipe\n",
        "processed "
       ]
      },
      {
       "output_type": "stream",
       "stream": "stdout",
       "text": [
        " 140\n",
        "skipped  1\n",
        "461252885\n",
        "extracting with thr_boilerpipe\n",
        "processed "
       ]
      },
      {
       "output_type": "stream",
       "stream": "stdout",
       "text": [
        " 141\n",
        "skipped  1\n",
        "462404061\n",
        "extracting with thr_boilerpipe\n",
        "processed "
       ]
      },
      {
       "output_type": "stream",
       "stream": "stdout",
       "text": [
        " 142\n",
        "skipped  1\n",
        "462983422\n",
        "extracting with thr_boilerpipe\n",
        "processed "
       ]
      },
      {
       "output_type": "stream",
       "stream": "stdout",
       "text": [
        " 143\n",
        "skipped  1\n",
        "463954045\n",
        "extracting with thr_boilerpipe\n",
        "processed "
       ]
      },
      {
       "output_type": "stream",
       "stream": "stdout",
       "text": [
        " 144\n",
        "skipped  1\n",
        "464270345\n",
        "extracting with thr_boilerpipe\n",
        "processed "
       ]
      },
      {
       "output_type": "stream",
       "stream": "stdout",
       "text": [
        " 145\n",
        "skipped  1\n",
        "465068895\n",
        "extracting with thr_boilerpipe\n",
        "processed "
       ]
      },
      {
       "output_type": "stream",
       "stream": "stdout",
       "text": [
        " 146\n",
        "skipped  1\n",
        "465090983\n",
        "extracting with thr_boilerpipe\n",
        "processed "
       ]
      },
      {
       "output_type": "stream",
       "stream": "stdout",
       "text": [
        " 147\n",
        "skipped  1\n",
        "466804114\n",
        "extracting with thr_boilerpipe\n",
        "processed "
       ]
      },
      {
       "output_type": "stream",
       "stream": "stdout",
       "text": [
        " 148\n",
        "skipped  1\n",
        "467150362\n",
        "extracting with thr_boilerpipe\n",
        "processed "
       ]
      },
      {
       "output_type": "stream",
       "stream": "stdout",
       "text": [
        " 149\n",
        "skipped  1\n",
        "468568475\n",
        "extracting with thr_boilerpipe\n",
        "processed "
       ]
      },
      {
       "output_type": "stream",
       "stream": "stdout",
       "text": [
        " 150\n",
        "skipped  1\n",
        "468788039\n",
        "extracting with thr_boilerpipe\n",
        "processed "
       ]
      },
      {
       "output_type": "stream",
       "stream": "stdout",
       "text": [
        " 151\n",
        "skipped  1\n",
        "468996262\n",
        "extracting with thr_boilerpipe\n",
        "processed "
       ]
      },
      {
       "output_type": "stream",
       "stream": "stdout",
       "text": [
        " 152\n",
        "skipped  1\n",
        "469058922\n",
        "extracting with thr_boilerpipe\n",
        "processed "
       ]
      },
      {
       "output_type": "stream",
       "stream": "stdout",
       "text": [
        " 153\n",
        "skipped  1\n",
        "470488107\n",
        "extracting with thr_boilerpipe\n",
        "processed "
       ]
      },
      {
       "output_type": "stream",
       "stream": "stdout",
       "text": [
        " 154\n",
        "skipped  1\n",
        "473138193\n",
        "extracting with thr_boilerpipe\n",
        "processed "
       ]
      },
      {
       "output_type": "stream",
       "stream": "stdout",
       "text": [
        " 155\n",
        "skipped  1\n",
        "474060840\n",
        "extracting with thr_boilerpipe\n",
        "processed "
       ]
      },
      {
       "output_type": "stream",
       "stream": "stdout",
       "text": [
        " 156\n",
        "skipped  1\n",
        "474649098\n",
        "extracting with thr_boilerpipe\n",
        "processed "
       ]
      },
      {
       "output_type": "stream",
       "stream": "stdout",
       "text": [
        " 157\n",
        "skipped  1\n",
        "474891663\n",
        "extracting with thr_boilerpipe\n",
        "processed "
       ]
      },
      {
       "output_type": "stream",
       "stream": "stdout",
       "text": [
        " 158\n",
        "skipped  1\n",
        "475232740\n",
        "extracting with thr_boilerpipe\n",
        "processed "
       ]
      },
      {
       "output_type": "stream",
       "stream": "stdout",
       "text": [
        " 159\n",
        "skipped  1\n",
        "475489411\n",
        "extracting with thr_boilerpipe\n",
        "processed "
       ]
      },
      {
       "output_type": "stream",
       "stream": "stdout",
       "text": [
        " 160\n",
        "skipped  1\n",
        "475550192\n",
        "extracting with thr_boilerpipe\n",
        "processed "
       ]
      },
      {
       "output_type": "stream",
       "stream": "stdout",
       "text": [
        " 161\n",
        "skipped  1\n",
        "475842962\n",
        "extracting with thr_boilerpipe\n",
        "processed "
       ]
      },
      {
       "output_type": "stream",
       "stream": "stdout",
       "text": [
        " 162\n",
        "skipped  1\n",
        "476050916\n",
        "extracting with thr_boilerpipe\n",
        "processed "
       ]
      },
      {
       "output_type": "stream",
       "stream": "stdout",
       "text": [
        " 163\n",
        "skipped  1\n",
        "476079482\n",
        "extracting with thr_boilerpipe\n",
        "processed "
       ]
      },
      {
       "output_type": "stream",
       "stream": "stdout",
       "text": [
        " 164\n",
        "skipped  1\n",
        "476189164\n",
        "extracting with thr_boilerpipe\n",
        "processed "
       ]
      },
      {
       "output_type": "stream",
       "stream": "stdout",
       "text": [
        " 165\n",
        "skipped  1\n",
        "476365487\n",
        "extracting with thr_boilerpipe\n",
        "processed "
       ]
      },
      {
       "output_type": "stream",
       "stream": "stdout",
       "text": [
        " 166\n",
        "skipped  1\n",
        "476850484\n",
        "extracting with thr_boilerpipe\n",
        "processed "
       ]
      },
      {
       "output_type": "stream",
       "stream": "stdout",
       "text": [
        " 167\n",
        "skipped  1\n",
        "476936059\n",
        "extracting with thr_boilerpipe\n",
        "processed "
       ]
      },
      {
       "output_type": "stream",
       "stream": "stdout",
       "text": [
        " 168\n",
        "skipped  1\n",
        "476962103\n",
        "extracting with thr_boilerpipe\n",
        "processed "
       ]
      },
      {
       "output_type": "stream",
       "stream": "stdout",
       "text": [
        " 169\n",
        "skipped  1\n",
        "477126381\n",
        "extracting with thr_boilerpipe\n",
        "processed "
       ]
      },
      {
       "output_type": "stream",
       "stream": "stdout",
       "text": [
        " 170\n",
        "skipped  1\n",
        "477171081\n",
        "extracting with thr_boilerpipe\n",
        "processed "
       ]
      },
      {
       "output_type": "stream",
       "stream": "stdout",
       "text": [
        " 171\n",
        "skipped  1\n",
        "477673129\n",
        "extracting with thr_boilerpipe\n",
        "processed "
       ]
      },
      {
       "output_type": "stream",
       "stream": "stdout",
       "text": [
        " 172\n",
        "skipped  1\n",
        "477798748\n",
        "extracting with thr_boilerpipe\n",
        "processed "
       ]
      },
      {
       "output_type": "stream",
       "stream": "stdout",
       "text": [
        " 173\n",
        "skipped  1\n",
        "477850182\n",
        "extracting with thr_boilerpipe\n",
        "processed "
       ]
      },
      {
       "output_type": "stream",
       "stream": "stdout",
       "text": [
        " 174\n",
        "skipped  1\n",
        "478307074\n",
        "extracting with thr_boilerpipe\n",
        "processed "
       ]
      },
      {
       "output_type": "stream",
       "stream": "stdout",
       "text": [
        " 175\n",
        "skipped  1\n",
        "478793359\n",
        "extracting with thr_boilerpipe\n",
        "processed "
       ]
      },
      {
       "output_type": "stream",
       "stream": "stdout",
       "text": [
        " 176\n",
        "skipped  1\n",
        "479262110\n",
        "extracting with thr_boilerpipe\n",
        "processed "
       ]
      },
      {
       "output_type": "stream",
       "stream": "stdout",
       "text": [
        " 177\n",
        "skipped  1\n",
        "479410656\n",
        "extracting with thr_boilerpipe\n",
        "processed "
       ]
      },
      {
       "output_type": "stream",
       "stream": "stdout",
       "text": [
        " 178\n",
        "skipped  1\n",
        "480072496\n",
        "extracting with thr_boilerpipe\n",
        "processed "
       ]
      },
      {
       "output_type": "stream",
       "stream": "stdout",
       "text": [
        " 179\n",
        "skipped  1\n",
        "480080971\n",
        "extracting with thr_boilerpipe\n",
        "processed "
       ]
      },
      {
       "output_type": "stream",
       "stream": "stdout",
       "text": [
        " 180\n",
        "skipped  1\n",
        "480850060\n",
        "extracting with thr_boilerpipe\n",
        "processed "
       ]
      },
      {
       "output_type": "stream",
       "stream": "stdout",
       "text": [
        " 181\n",
        "skipped  1\n",
        "480965210\n",
        "extracting with thr_boilerpipe\n",
        "processed "
       ]
      },
      {
       "output_type": "stream",
       "stream": "stdout",
       "text": [
        " 182\n",
        "skipped  1\n",
        "481064362\n",
        "extracting with thr_boilerpipe\n",
        "processed "
       ]
      },
      {
       "output_type": "stream",
       "stream": "stdout",
       "text": [
        " 183\n",
        "skipped  1\n",
        "481747325\n",
        "extracting with thr_boilerpipe\n",
        "processed "
       ]
      },
      {
       "output_type": "stream",
       "stream": "stdout",
       "text": [
        " 184\n",
        "skipped  1\n",
        "481956983\n",
        "extracting with thr_boilerpipe\n",
        "processed "
       ]
      },
      {
       "output_type": "stream",
       "stream": "stdout",
       "text": [
        " 185\n",
        "skipped  1\n",
        "481995599\n",
        "extracting with thr_boilerpipe\n",
        "processed "
       ]
      },
      {
       "output_type": "stream",
       "stream": "stdout",
       "text": [
        " 186\n",
        "skipped  1\n",
        "482339280\n",
        "extracting with thr_boilerpipe\n",
        "processed "
       ]
      },
      {
       "output_type": "stream",
       "stream": "stdout",
       "text": [
        " 187\n",
        "skipped  1\n",
        "482455316\n",
        "extracting with thr_boilerpipe\n",
        "processed "
       ]
      },
      {
       "output_type": "stream",
       "stream": "stdout",
       "text": [
        " 188\n",
        "skipped  1\n",
        "482905957\n",
        "extracting with thr_boilerpipe\n",
        "processed "
       ]
      },
      {
       "output_type": "stream",
       "stream": "stdout",
       "text": [
        " 189\n",
        "skipped  1\n",
        "483167965\n",
        "extracting with thr_boilerpipe\n",
        "processed "
       ]
      },
      {
       "output_type": "stream",
       "stream": "stdout",
       "text": [
        " 190\n",
        "skipped  1\n",
        "483933348\n",
        "extracting with thr_boilerpipe\n",
        "processed "
       ]
      },
      {
       "output_type": "stream",
       "stream": "stdout",
       "text": [
        " 191\n",
        "skipped  1\n",
        "484173730\n",
        "extracting with thr_boilerpipe\n",
        "processed "
       ]
      },
      {
       "output_type": "stream",
       "stream": "stdout",
       "text": [
        " 192\n",
        "skipped  1\n",
        "484469651\n",
        "extracting with thr_boilerpipe\n",
        "processed "
       ]
      },
      {
       "output_type": "stream",
       "stream": "stdout",
       "text": [
        " 193\n",
        "skipped  1\n",
        "485257678\n",
        "extracting with thr_boilerpipe\n",
        "processed "
       ]
      },
      {
       "output_type": "stream",
       "stream": "stdout",
       "text": [
        " 194\n",
        "skipped  1\n",
        "485289153\n",
        "extracting with thr_boilerpipe\n",
        "processed "
       ]
      },
      {
       "output_type": "stream",
       "stream": "stdout",
       "text": [
        " 195\n",
        "skipped  1\n",
        "485312050\n",
        "extracting with thr_boilerpipe\n",
        "processed "
       ]
      },
      {
       "output_type": "stream",
       "stream": "stdout",
       "text": [
        " 196\n",
        "skipped  1\n",
        "485772601\n",
        "extracting with thr_boilerpipe\n",
        "processed "
       ]
      },
      {
       "output_type": "stream",
       "stream": "stdout",
       "text": [
        " 197\n",
        "skipped  1\n",
        "485874387\n",
        "extracting with thr_boilerpipe\n",
        "processed "
       ]
      },
      {
       "output_type": "stream",
       "stream": "stdout",
       "text": [
        " 198\n",
        "skipped  1\n",
        "486956929\n",
        "extracting with thr_boilerpipe\n",
        "processed "
       ]
      },
      {
       "output_type": "stream",
       "stream": "stdout",
       "text": [
        " 199\n",
        "skipped  1\n",
        "486963918\n",
        "extracting with thr_boilerpipe\n",
        "processed "
       ]
      },
      {
       "output_type": "stream",
       "stream": "stdout",
       "text": [
        " 200\n",
        "skipped  1\n",
        "486975782\n",
        "extracting with thr_boilerpipe\n",
        "processed "
       ]
      },
      {
       "output_type": "stream",
       "stream": "stdout",
       "text": [
        " 201\n",
        "skipped  1\n",
        "487099193\n",
        "extracting with thr_boilerpipe\n",
        "processed "
       ]
      },
      {
       "output_type": "stream",
       "stream": "stdout",
       "text": [
        " 202\n",
        "skipped  1\n",
        "487930345\n",
        "extracting with thr_boilerpipe\n",
        "processed "
       ]
      },
      {
       "output_type": "stream",
       "stream": "stdout",
       "text": [
        " 203\n",
        "skipped  1\n",
        "487938684\n",
        "extracting with thr_boilerpipe\n",
        "processed "
       ]
      },
      {
       "output_type": "stream",
       "stream": "stdout",
       "text": [
        " 204\n",
        "skipped  1\n",
        "488325235\n",
        "extracting with thr_boilerpipe\n",
        "processed "
       ]
      },
      {
       "output_type": "stream",
       "stream": "stdout",
       "text": [
        " 205\n",
        "skipped  1\n",
        "489427373\n",
        "extracting with thr_boilerpipe\n",
        "processed "
       ]
      },
      {
       "output_type": "stream",
       "stream": "stdout",
       "text": [
        " 206\n",
        "skipped  1\n",
        "489785301\n",
        "extracting with thr_boilerpipe\n",
        "processed "
       ]
      },
      {
       "output_type": "stream",
       "stream": "stdout",
       "text": [
        " 207\n",
        "skipped  1\n",
        "490000422\n",
        "extracting with thr_boilerpipe\n",
        "processed "
       ]
      },
      {
       "output_type": "stream",
       "stream": "stdout",
       "text": [
        " 208\n",
        "skipped  1\n",
        "491390357\n",
        "extracting with thr_boilerpipe\n",
        "processed "
       ]
      },
      {
       "output_type": "stream",
       "stream": "stdout",
       "text": [
        " 209\n",
        "skipped  1\n",
        "491394627\n",
        "extracting with thr_boilerpipe\n",
        "processed "
       ]
      },
      {
       "output_type": "stream",
       "stream": "stdout",
       "text": [
        " 210\n",
        "skipped  1\n",
        "491580307\n",
        "extracting with thr_boilerpipe\n",
        "processed "
       ]
      },
      {
       "output_type": "stream",
       "stream": "stdout",
       "text": [
        " 211\n",
        "skipped  1\n",
        "491868589\n",
        "extracting with thr_boilerpipe\n",
        "processed "
       ]
      },
      {
       "output_type": "stream",
       "stream": "stderr",
       "text": [
        "Traceback (most recent call last):\n",
        "  File \"<ipython-input-73-5462c770f344>\", line 17, in <module>\n",
        "    res = comp_extractors( extractor_training_object )\n",
        "  File \"<ipython-input-22-91249bf1c046>\", line 19, in comp_extractors\n",
        "    extraction_results = get_extraction_results( eto )\n",
        "  File \"<ipython-input-66-716979e1aa41>\", line 17, in get_extraction_results\n",
        "    ret['thr_boiler_pipe_ArticleExtractor'] =  extract_with_thr_boilerpipe_ArticleExtractor( raw_content)\n",
        "  File \"<ipython-input-68-fdb56e8b1b24>\", line 21, in <lambda>\n",
        "    extract_with_thr_boilerpipe_ArticleExtractor = lambda raw_content: thrift_bp_extract( raw_content, 'ArticleExtractor')\n",
        "  File \"<ipython-input-68-fdb56e8b1b24>\", line 4, in thrift_bp_extract\n",
        "    thrift_ret = client.extract_html( raw_content, extractor_type )\n",
        "  File \"thriftboilerpipe/ExtractorService.py\", line 44, in extract_html\n",
        "    return self.recv_extract_html()\n",
        "  File \"thriftboilerpipe/ExtractorService.py\", line 62, in recv_extract_html\n",
        "    raise x\n",
        "TApplicationException: Internal error processing extract_html\n",
        "Traceback (most recent call last):\n"
       ]
      },
      {
       "output_type": "stream",
       "stream": "stdout",
       "text": [
        " 212\n",
        "skipped  1\n",
        "492035281\n",
        "extracting with thr_boilerpipe\n",
        "error on download492035281\n",
        "(<class 'thrift.Thrift.TApplicationException'>, TApplicationException(None,), <traceback object at 0x7f3c8a8dd248>)\n",
        "processed  212\n",
        "skipped  2\n",
        "492212969\n",
        "extracting with thr_boilerpipe\n",
        "processed "
       ]
      },
      {
       "output_type": "stream",
       "stream": "stdout",
       "text": [
        " 213\n",
        "skipped  2\n",
        "492220330\n",
        "extracting with thr_boilerpipe\n",
        "processed "
       ]
      },
      {
       "output_type": "stream",
       "stream": "stdout",
       "text": [
        " 214\n",
        "skipped  2\n",
        "492825637\n",
        "extracting with thr_boilerpipe\n",
        "processed "
       ]
      },
      {
       "output_type": "stream",
       "stream": "stdout",
       "text": [
        " 215\n",
        "skipped  2\n",
        "492998487\n",
        "extracting with thr_boilerpipe\n",
        "processed "
       ]
      },
      {
       "output_type": "stream",
       "stream": "stdout",
       "text": [
        " 216\n",
        "skipped  2\n",
        "493395197\n",
        "extracting with thr_boilerpipe\n",
        "processed "
       ]
      },
      {
       "output_type": "stream",
       "stream": "stdout",
       "text": [
        " 217\n",
        "skipped  2\n",
        "493603632\n",
        "extracting with thr_boilerpipe\n",
        "processed "
       ]
      },
      {
       "output_type": "stream",
       "stream": "stdout",
       "text": [
        " 218\n",
        "skipped  2\n",
        "494910637\n",
        "extracting with thr_boilerpipe\n",
        "processed "
       ]
      },
      {
       "output_type": "stream",
       "stream": "stdout",
       "text": [
        " 219\n",
        "skipped  2\n",
        "495132412\n",
        "extracting with thr_boilerpipe\n",
        "processed "
       ]
      },
      {
       "output_type": "stream",
       "stream": "stdout",
       "text": [
        " 220\n",
        "skipped  2\n",
        "495402183\n",
        "extracting with thr_boilerpipe\n",
        "processed "
       ]
      },
      {
       "output_type": "stream",
       "stream": "stdout",
       "text": [
        " 221\n",
        "skipped  2\n",
        "495442862\n",
        "extracting with thr_boilerpipe\n",
        "processed "
       ]
      },
      {
       "output_type": "stream",
       "stream": "stdout",
       "text": [
        " 222\n",
        "skipped  2\n",
        "495702037\n",
        "extracting with thr_boilerpipe\n",
        "processed "
       ]
      },
      {
       "output_type": "stream",
       "stream": "stdout",
       "text": [
        " 223\n",
        "skipped  2\n",
        "495856120\n",
        "extracting with thr_boilerpipe\n",
        "processed "
       ]
      },
      {
       "output_type": "stream",
       "stream": "stdout",
       "text": [
        " 224\n",
        "skipped  2\n",
        "496830079\n",
        "extracting with thr_boilerpipe\n",
        "processed "
       ]
      },
      {
       "output_type": "stream",
       "stream": "stdout",
       "text": [
        " 225\n",
        "skipped  2\n",
        "496960779\n",
        "extracting with thr_boilerpipe\n",
        "processed "
       ]
      },
      {
       "output_type": "stream",
       "stream": "stdout",
       "text": [
        " 226\n",
        "skipped  2\n",
        "497510792\n",
        "extracting with thr_boilerpipe\n",
        "processed "
       ]
      },
      {
       "output_type": "stream",
       "stream": "stdout",
       "text": [
        " 227\n",
        "skipped  2\n",
        "497750204\n",
        "extracting with thr_boilerpipe\n",
        "processed "
       ]
      },
      {
       "output_type": "stream",
       "stream": "stdout",
       "text": [
        " 228\n",
        "skipped  2\n",
        "498241896\n",
        "extracting with thr_boilerpipe\n",
        "processed "
       ]
      },
      {
       "output_type": "stream",
       "stream": "stdout",
       "text": [
        " 229\n",
        "skipped  2\n",
        "498496981\n",
        "extracting with thr_boilerpipe\n",
        "processed "
       ]
      },
      {
       "output_type": "stream",
       "stream": "stdout",
       "text": [
        " 230\n",
        "skipped  2\n",
        "498497707\n",
        "extracting with thr_boilerpipe\n",
        "processed "
       ]
      },
      {
       "output_type": "stream",
       "stream": "stdout",
       "text": [
        " 231\n",
        "skipped  2\n",
        "499288413\n",
        "extracting with thr_boilerpipe\n",
        "processed "
       ]
      },
      {
       "output_type": "stream",
       "stream": "stdout",
       "text": [
        " 232\n",
        "skipped  2\n",
        "499367463\n",
        "extracting with thr_boilerpipe\n",
        "processed "
       ]
      },
      {
       "output_type": "stream",
       "stream": "stdout",
       "text": [
        " 233\n",
        "skipped  2\n",
        "499577868\n",
        "extracting with thr_boilerpipe\n",
        "processed "
       ]
      },
      {
       "output_type": "stream",
       "stream": "stdout",
       "text": [
        " 234\n",
        "skipped  2\n",
        "499738311\n",
        "extracting with thr_boilerpipe\n",
        "processed "
       ]
      },
      {
       "output_type": "stream",
       "stream": "stdout",
       "text": [
        " 235\n",
        "skipped  2\n",
        "499979607\n",
        "extracting with thr_boilerpipe\n",
        "processed "
       ]
      },
      {
       "output_type": "stream",
       "stream": "stdout",
       "text": [
        " 236\n",
        "skipped  2\n",
        "500618275\n",
        "extracting with thr_boilerpipe\n",
        "processed "
       ]
      },
      {
       "output_type": "stream",
       "stream": "stdout",
       "text": [
        " 237\n",
        "skipped  2\n",
        "501409722\n",
        "extracting with thr_boilerpipe\n",
        "processed "
       ]
      },
      {
       "output_type": "stream",
       "stream": "stdout",
       "text": [
        " 238\n",
        "skipped  2\n",
        "501420351\n",
        "extracting with thr_boilerpipe\n",
        "processed "
       ]
      },
      {
       "output_type": "stream",
       "stream": "stdout",
       "text": [
        " 239\n",
        "skipped  2\n",
        "501420884\n",
        "extracting with thr_boilerpipe\n",
        "processed "
       ]
      },
      {
       "output_type": "stream",
       "stream": "stdout",
       "text": [
        " 240\n",
        "skipped  2\n",
        "501421014\n",
        "extracting with thr_boilerpipe\n",
        "processed "
       ]
      },
      {
       "output_type": "stream",
       "stream": "stdout",
       "text": [
        " 241\n",
        "skipped  2\n",
        "501431149\n",
        "extracting with thr_boilerpipe\n",
        "processed "
       ]
      },
      {
       "output_type": "stream",
       "stream": "stdout",
       "text": [
        " 242\n",
        "skipped  2\n",
        "501442658\n",
        "extracting with thr_boilerpipe\n",
        "processed "
       ]
      },
      {
       "output_type": "stream",
       "stream": "stdout",
       "text": [
        " 243\n",
        "skipped  2\n",
        "501453175\n",
        "extracting with thr_boilerpipe\n",
        "processed "
       ]
      },
      {
       "output_type": "stream",
       "stream": "stdout",
       "text": [
        " 244\n",
        "skipped  2\n",
        "501471473\n",
        "extracting with thr_boilerpipe\n",
        "processed "
       ]
      },
      {
       "output_type": "stream",
       "stream": "stdout",
       "text": [
        " 245\n",
        "skipped  2\n",
        "502622175\n",
        "extracting with thr_boilerpipe\n",
        "processed "
       ]
      },
      {
       "output_type": "stream",
       "stream": "stdout",
       "text": [
        " 246\n",
        "skipped  2\n",
        "502653177\n",
        "extracting with thr_boilerpipe\n",
        "processed "
       ]
      },
      {
       "output_type": "stream",
       "stream": "stdout",
       "text": [
        " 247\n",
        "skipped  2\n",
        "502830407\n",
        "extracting with thr_boilerpipe\n",
        "processed "
       ]
      },
      {
       "output_type": "stream",
       "stream": "stdout",
       "text": [
        " 248\n",
        "skipped  2\n",
        "503101426\n",
        "extracting with thr_boilerpipe\n",
        "processed "
       ]
      },
      {
       "output_type": "stream",
       "stream": "stdout",
       "text": [
        " 249\n",
        "skipped  2\n",
        "503171821\n",
        "extracting with thr_boilerpipe\n",
        "processed "
       ]
      },
      {
       "output_type": "stream",
       "stream": "stdout",
       "text": [
        " 250\n",
        "skipped  2\n",
        "503183518\n",
        "extracting with thr_boilerpipe\n",
        "processed "
       ]
      },
      {
       "output_type": "stream",
       "stream": "stdout",
       "text": [
        " 251\n",
        "skipped  2\n",
        "503244112\n",
        "extracting with thr_boilerpipe\n",
        "processed "
       ]
      },
      {
       "output_type": "stream",
       "stream": "stdout",
       "text": [
        " 252\n",
        "skipped  2\n",
        "503478903\n",
        "extracting with thr_boilerpipe\n",
        "processed "
       ]
      },
      {
       "output_type": "stream",
       "stream": "stdout",
       "text": [
        " 253\n",
        "skipped  2\n",
        "504316681\n",
        "extracting with thr_boilerpipe\n",
        "processed "
       ]
      },
      {
       "output_type": "stream",
       "stream": "stdout",
       "text": [
        " 254\n",
        "skipped  2\n",
        "504570818\n",
        "extracting with thr_boilerpipe\n",
        "processed "
       ]
      },
      {
       "output_type": "stream",
       "stream": "stdout",
       "text": [
        " 255\n",
        "skipped  2\n",
        "504702541\n",
        "extracting with thr_boilerpipe\n",
        "processed "
       ]
      },
      {
       "output_type": "stream",
       "stream": "stdout",
       "text": [
        " 256\n",
        "skipped  2\n",
        "505354116\n",
        "extracting with thr_boilerpipe\n",
        "processed "
       ]
      },
      {
       "output_type": "stream",
       "stream": "stdout",
       "text": [
        " 257\n",
        "skipped  2\n",
        "505354986\n",
        "extracting with thr_boilerpipe\n",
        "processed "
       ]
      },
      {
       "output_type": "stream",
       "stream": "stdout",
       "text": [
        " 258\n",
        "skipped  2\n",
        "505362351\n",
        "extracting with thr_boilerpipe\n",
        "processed "
       ]
      },
      {
       "output_type": "stream",
       "stream": "stdout",
       "text": [
        " 259\n",
        "skipped  2\n",
        "505513151\n",
        "extracting with thr_boilerpipe\n",
        "processed "
       ]
      },
      {
       "output_type": "stream",
       "stream": "stdout",
       "text": [
        " 260\n",
        "skipped  2\n",
        "505554845\n",
        "extracting with thr_boilerpipe\n",
        "processed "
       ]
      },
      {
       "output_type": "stream",
       "stream": "stdout",
       "text": [
        " 261\n",
        "skipped  2\n",
        "505630012\n",
        "extracting with thr_boilerpipe\n",
        "processed "
       ]
      },
      {
       "output_type": "stream",
       "stream": "stdout",
       "text": [
        " 262\n",
        "skipped  2\n",
        "505666313\n",
        "extracting with thr_boilerpipe\n",
        "processed "
       ]
      },
      {
       "output_type": "stream",
       "stream": "stdout",
       "text": [
        " 263\n",
        "skipped  2\n",
        "505709237\n",
        "extracting with thr_boilerpipe\n",
        "processed "
       ]
      },
      {
       "output_type": "stream",
       "stream": "stdout",
       "text": [
        " 264\n",
        "skipped  2\n",
        "505875260\n",
        "extracting with thr_boilerpipe\n",
        "processed "
       ]
      },
      {
       "output_type": "stream",
       "stream": "stdout",
       "text": [
        " 265\n",
        "skipped  2\n",
        "505891713\n",
        "extracting with thr_boilerpipe\n",
        "processed "
       ]
      },
      {
       "output_type": "stream",
       "stream": "stdout",
       "text": [
        " 266\n",
        "skipped  2\n",
        "505960251\n",
        "extracting with thr_boilerpipe\n",
        "processed "
       ]
      },
      {
       "output_type": "stream",
       "stream": "stdout",
       "text": [
        " 267\n",
        "skipped  2\n",
        "506245926\n",
        "extracting with thr_boilerpipe\n",
        "processed "
       ]
      },
      {
       "output_type": "stream",
       "stream": "stdout",
       "text": [
        " 268\n",
        "skipped  2\n",
        "506248868\n",
        "extracting with thr_boilerpipe\n",
        "processed "
       ]
      },
      {
       "output_type": "stream",
       "stream": "stdout",
       "text": [
        " 269\n",
        "skipped  2\n",
        "506288913\n",
        "extracting with thr_boilerpipe\n",
        "processed "
       ]
      },
      {
       "output_type": "stream",
       "stream": "stdout",
       "text": [
        " 270\n",
        "skipped  2\n",
        "506374300\n",
        "extracting with thr_boilerpipe\n",
        "processed "
       ]
      },
      {
       "output_type": "stream",
       "stream": "stdout",
       "text": [
        " 271\n",
        "skipped  2\n",
        "506905377\n",
        "extracting with thr_boilerpipe\n",
        "processed "
       ]
      },
      {
       "output_type": "stream",
       "stream": "stdout",
       "text": [
        " 272\n",
        "skipped  2\n",
        "508032017\n",
        "extracting with thr_boilerpipe\n",
        "processed "
       ]
      },
      {
       "output_type": "stream",
       "stream": "stdout",
       "text": [
        " 273\n",
        "skipped  2\n",
        "508653746\n",
        "extracting with thr_boilerpipe\n",
        "processed "
       ]
      },
      {
       "output_type": "stream",
       "stream": "stdout",
       "text": [
        " 274\n",
        "skipped  2\n",
        "509162462\n",
        "extracting with thr_boilerpipe\n",
        "processed "
       ]
      },
      {
       "output_type": "stream",
       "stream": "stdout",
       "text": [
        " 275\n",
        "skipped  2\n",
        "509252393\n",
        "extracting with thr_boilerpipe\n",
        "processed "
       ]
      },
      {
       "output_type": "stream",
       "stream": "stdout",
       "text": [
        " 276\n",
        "skipped  2\n",
        "509863893\n",
        "extracting with thr_boilerpipe\n",
        "processed "
       ]
      },
      {
       "output_type": "stream",
       "stream": "stdout",
       "text": [
        " 277\n",
        "skipped  2\n",
        "510413590\n",
        "extracting with thr_boilerpipe\n",
        "processed "
       ]
      },
      {
       "output_type": "stream",
       "stream": "stdout",
       "text": [
        " 278\n",
        "skipped  2\n",
        "510662547\n",
        "extracting with thr_boilerpipe\n",
        "processed "
       ]
      },
      {
       "output_type": "stream",
       "stream": "stdout",
       "text": [
        " 279\n",
        "skipped  2\n",
        "510881596\n",
        "extracting with thr_boilerpipe\n",
        "processed "
       ]
      },
      {
       "output_type": "stream",
       "stream": "stdout",
       "text": [
        " 280\n",
        "skipped  2\n",
        "510954456\n",
        "extracting with thr_boilerpipe\n",
        "processed "
       ]
      },
      {
       "output_type": "stream",
       "stream": "stdout",
       "text": [
        " 281\n",
        "skipped  2\n",
        "510955330\n",
        "extracting with thr_boilerpipe\n",
        "processed "
       ]
      },
      {
       "output_type": "stream",
       "stream": "stdout",
       "text": [
        " 282\n",
        "skipped  2\n",
        "511823889\n",
        "extracting with thr_boilerpipe\n",
        "processed "
       ]
      },
      {
       "output_type": "stream",
       "stream": "stdout",
       "text": [
        " 283\n",
        "skipped  2\n",
        "512505124\n",
        "extracting with thr_boilerpipe\n",
        "processed "
       ]
      },
      {
       "output_type": "stream",
       "stream": "stdout",
       "text": [
        " 284\n",
        "skipped  2\n",
        "512677517\n",
        "extracting with thr_boilerpipe\n",
        "processed "
       ]
      },
      {
       "output_type": "stream",
       "stream": "stdout",
       "text": [
        " 285\n",
        "skipped  2\n",
        "512765019\n",
        "extracting with thr_boilerpipe\n",
        "processed "
       ]
      },
      {
       "output_type": "stream",
       "stream": "stdout",
       "text": [
        " 286\n",
        "skipped  2\n",
        "514105704\n",
        "extracting with thr_boilerpipe\n",
        "processed "
       ]
      },
      {
       "output_type": "stream",
       "stream": "stdout",
       "text": [
        " 287\n",
        "skipped  2\n",
        "514153344\n",
        "extracting with thr_boilerpipe\n",
        "processed "
       ]
      },
      {
       "output_type": "stream",
       "stream": "stdout",
       "text": [
        " 288\n",
        "skipped  2\n",
        "514364011\n",
        "extracting with thr_boilerpipe\n",
        "processed "
       ]
      },
      {
       "output_type": "stream",
       "stream": "stdout",
       "text": [
        " 289\n",
        "skipped  2\n",
        "514378750\n",
        "extracting with thr_boilerpipe\n",
        "processed "
       ]
      },
      {
       "output_type": "stream",
       "stream": "stdout",
       "text": [
        " 290\n",
        "skipped  2\n",
        "514572763\n",
        "extracting with thr_boilerpipe\n",
        "processed "
       ]
      },
      {
       "output_type": "stream",
       "stream": "stdout",
       "text": [
        " 291\n",
        "skipped  2\n",
        "514931592\n",
        "extracting with thr_boilerpipe\n",
        "processed "
       ]
      },
      {
       "output_type": "stream",
       "stream": "stdout",
       "text": [
        " 292\n",
        "skipped  2\n",
        "515594059\n",
        "extracting with thr_boilerpipe\n",
        "processed "
       ]
      },
      {
       "output_type": "stream",
       "stream": "stdout",
       "text": [
        " 293\n",
        "skipped  2\n",
        "515980414\n",
        "extracting with thr_boilerpipe\n",
        "processed "
       ]
      },
      {
       "output_type": "stream",
       "stream": "stdout",
       "text": [
        " 294\n",
        "skipped  2\n",
        "516147422\n",
        "extracting with thr_boilerpipe\n",
        "processed "
       ]
      },
      {
       "output_type": "stream",
       "stream": "stdout",
       "text": [
        " 295\n",
        "skipped  2\n",
        "516155213\n",
        "extracting with thr_boilerpipe\n",
        "processed "
       ]
      },
      {
       "output_type": "stream",
       "stream": "stdout",
       "text": [
        " 296\n",
        "skipped  2\n",
        "516527178\n",
        "extracting with thr_boilerpipe\n",
        "processed "
       ]
      },
      {
       "output_type": "stream",
       "stream": "stdout",
       "text": [
        " 297\n",
        "skipped  2\n",
        "517088904\n",
        "extracting with thr_boilerpipe\n",
        "processed "
       ]
      },
      {
       "output_type": "stream",
       "stream": "stdout",
       "text": [
        " 298\n",
        "skipped  2\n",
        "517204863\n",
        "extracting with thr_boilerpipe\n",
        "processed "
       ]
      },
      {
       "output_type": "stream",
       "stream": "stdout",
       "text": [
        " 299\n",
        "skipped  2\n",
        "517393170\n",
        "extracting with thr_boilerpipe\n",
        "processed "
       ]
      },
      {
       "output_type": "stream",
       "stream": "stdout",
       "text": [
        " 300\n",
        "skipped  2\n",
        "518149302\n",
        "extracting with thr_boilerpipe\n",
        "processed "
       ]
      },
      {
       "output_type": "stream",
       "stream": "stdout",
       "text": [
        " 301\n",
        "skipped  2\n",
        "518752724\n",
        "extracting with thr_boilerpipe\n",
        "processed "
       ]
      },
      {
       "output_type": "stream",
       "stream": "stdout",
       "text": [
        " 302\n",
        "skipped  2\n",
        "518815044\n",
        "extracting with thr_boilerpipe\n",
        "processed "
       ]
      },
      {
       "output_type": "stream",
       "stream": "stdout",
       "text": [
        " 303\n",
        "skipped  2\n",
        "518917973\n",
        "extracting with thr_boilerpipe\n",
        "processed "
       ]
      },
      {
       "output_type": "stream",
       "stream": "stdout",
       "text": [
        " 304\n",
        "skipped  2\n",
        "519698497\n",
        "extracting with thr_boilerpipe\n",
        "processed "
       ]
      },
      {
       "output_type": "stream",
       "stream": "stdout",
       "text": [
        " 305\n",
        "skipped  2\n",
        "519788971\n",
        "extracting with thr_boilerpipe\n",
        "processed "
       ]
      },
      {
       "output_type": "stream",
       "stream": "stdout",
       "text": [
        " 306\n",
        "skipped  2\n",
        "519948923\n",
        "extracting with thr_boilerpipe\n",
        "processed "
       ]
      },
      {
       "output_type": "stream",
       "stream": "stdout",
       "text": [
        " 307\n",
        "skipped  2\n",
        "520302517\n",
        "extracting with thr_boilerpipe\n",
        "processed "
       ]
      },
      {
       "output_type": "stream",
       "stream": "stdout",
       "text": [
        " 308\n",
        "skipped  2\n",
        "520916358\n",
        "extracting with thr_boilerpipe\n",
        "processed "
       ]
      },
      {
       "output_type": "stream",
       "stream": "stdout",
       "text": [
        " 309\n",
        "skipped  2\n",
        "521501901\n",
        "extracting with thr_boilerpipe\n",
        "processed "
       ]
      },
      {
       "output_type": "stream",
       "stream": "stdout",
       "text": [
        " 310\n",
        "skipped  2\n",
        "521596942\n",
        "extracting with thr_boilerpipe\n",
        "processed "
       ]
      },
      {
       "output_type": "stream",
       "stream": "stdout",
       "text": [
        " 311\n",
        "skipped  2\n",
        "524336614\n",
        "extracting with thr_boilerpipe\n",
        "processed "
       ]
      },
      {
       "output_type": "stream",
       "stream": "stdout",
       "text": [
        " 312\n",
        "skipped  2\n",
        "524583342\n",
        "extracting with thr_boilerpipe\n",
        "processed "
       ]
      },
      {
       "output_type": "stream",
       "stream": "stdout",
       "text": [
        " 313\n",
        "skipped  2\n",
        "524747370\n",
        "extracting with thr_boilerpipe\n",
        "processed  314\n",
        "skipped  2\n",
        "525018299\n",
        "extracting with thr_boilerpipe\n",
        "processed "
       ]
      },
      {
       "output_type": "stream",
       "stream": "stdout",
       "text": [
        " 315\n",
        "skipped  2\n",
        "525274342\n",
        "extracting with thr_boilerpipe\n",
        "processed "
       ]
      },
      {
       "output_type": "stream",
       "stream": "stdout",
       "text": [
        " 316\n",
        "skipped  2\n",
        "525762267\n",
        "extracting with thr_boilerpipe\n",
        "processed "
       ]
      },
      {
       "output_type": "stream",
       "stream": "stdout",
       "text": [
        " 317\n",
        "skipped  2\n",
        "526210669\n",
        "extracting with thr_boilerpipe\n",
        "processed "
       ]
      },
      {
       "output_type": "stream",
       "stream": "stdout",
       "text": [
        " 318\n",
        "skipped  2\n",
        "526399492\n",
        "extracting with thr_boilerpipe\n",
        "processed "
       ]
      },
      {
       "output_type": "stream",
       "stream": "stdout",
       "text": [
        " 319\n",
        "skipped  2\n",
        "526437284\n",
        "extracting with thr_boilerpipe\n",
        "processed "
       ]
      },
      {
       "output_type": "stream",
       "stream": "stdout",
       "text": [
        " 320\n",
        "skipped  2\n",
        "526513004\n",
        "extracting with thr_boilerpipe\n",
        "processed "
       ]
      },
      {
       "output_type": "stream",
       "stream": "stdout",
       "text": [
        " 321\n",
        "skipped  2\n",
        "526972862\n",
        "extracting with thr_boilerpipe\n",
        "processed "
       ]
      },
      {
       "output_type": "stream",
       "stream": "stdout",
       "text": [
        " 322\n",
        "skipped  2\n",
        "527258084\n",
        "extracting with thr_boilerpipe\n",
        "processed "
       ]
      },
      {
       "output_type": "stream",
       "stream": "stdout",
       "text": [
        " 323\n",
        "skipped  2\n",
        "528174162\n",
        "extracting with thr_boilerpipe\n",
        "processed "
       ]
      },
      {
       "output_type": "stream",
       "stream": "stdout",
       "text": [
        " 324\n",
        "skipped  2\n",
        "528717265\n",
        "extracting with thr_boilerpipe\n",
        "processed "
       ]
      },
      {
       "output_type": "stream",
       "stream": "stdout",
       "text": [
        " 325\n",
        "skipped  2\n",
        "529134306\n",
        "extracting with thr_boilerpipe\n",
        "processed "
       ]
      },
      {
       "output_type": "stream",
       "stream": "stdout",
       "text": [
        " 326\n",
        "skipped  2\n",
        "529174292\n",
        "extracting with thr_boilerpipe\n",
        "processed "
       ]
      },
      {
       "output_type": "stream",
       "stream": "stdout",
       "text": [
        " 327\n",
        "skipped  2\n",
        "529318707\n",
        "extracting with thr_boilerpipe\n",
        "processed "
       ]
      },
      {
       "output_type": "stream",
       "stream": "stdout",
       "text": [
        " 328\n",
        "skipped  2\n",
        "529350751\n",
        "extracting with thr_boilerpipe\n",
        "processed "
       ]
      },
      {
       "output_type": "stream",
       "stream": "stdout",
       "text": [
        " 329\n",
        "skipped  2\n",
        "529500550\n",
        "extracting with thr_boilerpipe\n",
        "processed "
       ]
      },
      {
       "output_type": "stream",
       "stream": "stdout",
       "text": [
        " 330\n",
        "skipped  2\n",
        "529638751\n",
        "extracting with thr_boilerpipe\n",
        "processed "
       ]
      },
      {
       "output_type": "stream",
       "stream": "stdout",
       "text": [
        " 331\n",
        "skipped  2\n",
        "529645874\n",
        "extracting with thr_boilerpipe\n",
        "processed "
       ]
      },
      {
       "output_type": "stream",
       "stream": "stdout",
       "text": [
        " 332\n",
        "skipped  2\n",
        "529645941\n",
        "extracting with thr_boilerpipe\n",
        "processed "
       ]
      },
      {
       "output_type": "stream",
       "stream": "stdout",
       "text": [
        " 333\n",
        "skipped  2\n",
        "529698279\n",
        "extracting with thr_boilerpipe\n",
        "processed "
       ]
      },
      {
       "output_type": "stream",
       "stream": "stdout",
       "text": [
        " 334\n",
        "skipped  2\n",
        "529792413\n",
        "extracting with thr_boilerpipe\n",
        "processed "
       ]
      },
      {
       "output_type": "stream",
       "stream": "stdout",
       "text": [
        " 335\n",
        "skipped  2\n",
        "529835888\n",
        "extracting with thr_boilerpipe\n",
        "processed "
       ]
      },
      {
       "output_type": "stream",
       "stream": "stdout",
       "text": [
        " 336\n",
        "skipped  2\n",
        "529849320\n",
        "extracting with thr_boilerpipe\n",
        "processed "
       ]
      },
      {
       "output_type": "stream",
       "stream": "stdout",
       "text": [
        " 337\n",
        "skipped  2\n",
        "529860654\n",
        "extracting with thr_boilerpipe\n",
        "processed "
       ]
      },
      {
       "output_type": "stream",
       "stream": "stdout",
       "text": [
        " 338\n",
        "skipped  2\n",
        "529872483\n",
        "extracting with thr_boilerpipe\n",
        "processed "
       ]
      },
      {
       "output_type": "stream",
       "stream": "stdout",
       "text": [
        " 339\n",
        "skipped  2\n",
        "529878837\n",
        "extracting with thr_boilerpipe\n",
        "processed "
       ]
      },
      {
       "output_type": "stream",
       "stream": "stdout",
       "text": [
        " 340\n",
        "skipped  2\n",
        "529887477\n",
        "extracting with thr_boilerpipe\n",
        "processed "
       ]
      },
      {
       "output_type": "stream",
       "stream": "stdout",
       "text": [
        " 341\n",
        "skipped  2\n",
        "529897403\n",
        "extracting with thr_boilerpipe\n",
        "processed "
       ]
      },
      {
       "output_type": "stream",
       "stream": "stdout",
       "text": [
        " 342\n",
        "skipped  2\n",
        "529897845\n",
        "extracting with thr_boilerpipe\n",
        "processed "
       ]
      },
      {
       "output_type": "stream",
       "stream": "stdout",
       "text": [
        " 343\n",
        "skipped  2\n",
        "529985569\n",
        "extracting with thr_boilerpipe\n",
        "processed "
       ]
      },
      {
       "output_type": "stream",
       "stream": "stdout",
       "text": [
        " 344\n",
        "skipped  2\n",
        "530078770\n",
        "extracting with thr_boilerpipe\n",
        "processed "
       ]
      },
      {
       "output_type": "stream",
       "stream": "stdout",
       "text": [
        " 345\n",
        "skipped  2\n",
        "530528969\n",
        "extracting with thr_boilerpipe\n",
        "processed "
       ]
      },
      {
       "output_type": "stream",
       "stream": "stdout",
       "text": [
        " 346\n",
        "skipped  2\n",
        "530758329\n",
        "extracting with thr_boilerpipe\n",
        "processed "
       ]
      },
      {
       "output_type": "stream",
       "stream": "stdout",
       "text": [
        " 347\n",
        "skipped  2\n",
        "530760478\n",
        "extracting with thr_boilerpipe\n",
        "processed "
       ]
      },
      {
       "output_type": "stream",
       "stream": "stdout",
       "text": [
        " 348\n",
        "skipped  2\n",
        "531116330\n",
        "extracting with thr_boilerpipe\n",
        "processed "
       ]
      },
      {
       "output_type": "stream",
       "stream": "stdout",
       "text": [
        " 349\n",
        "skipped  2\n",
        "531271665\n",
        "extracting with thr_boilerpipe\n",
        "processed "
       ]
      },
      {
       "output_type": "stream",
       "stream": "stdout",
       "text": [
        " 350\n",
        "skipped  2\n",
        "531541254\n",
        "extracting with thr_boilerpipe\n",
        "processed "
       ]
      },
      {
       "output_type": "stream",
       "stream": "stdout",
       "text": [
        " 351\n",
        "skipped  2\n",
        "531805217\n",
        "extracting with thr_boilerpipe\n",
        "processed "
       ]
      },
      {
       "output_type": "stream",
       "stream": "stdout",
       "text": [
        " 352\n",
        "skipped  2\n",
        "531997009\n",
        "extracting with thr_boilerpipe\n",
        "processed "
       ]
      },
      {
       "output_type": "stream",
       "stream": "stdout",
       "text": [
        " 353\n",
        "skipped  2\n",
        "532554918\n",
        "extracting with thr_boilerpipe\n",
        "processed "
       ]
      },
      {
       "output_type": "stream",
       "stream": "stdout",
       "text": [
        " 354\n",
        "skipped  2\n",
        "532672804\n",
        "extracting with thr_boilerpipe\n",
        "processed "
       ]
      },
      {
       "output_type": "stream",
       "stream": "stdout",
       "text": [
        " 355\n",
        "skipped  2\n",
        "533194544\n",
        "extracting with thr_boilerpipe\n",
        "processed "
       ]
      },
      {
       "output_type": "stream",
       "stream": "stdout",
       "text": [
        " 356\n",
        "skipped  2\n",
        "533730844\n",
        "extracting with thr_boilerpipe\n",
        "processed "
       ]
      },
      {
       "output_type": "stream",
       "stream": "stdout",
       "text": [
        " 357\n",
        "skipped  2\n",
        "533889958\n",
        "extracting with thr_boilerpipe\n",
        "processed "
       ]
      },
      {
       "output_type": "stream",
       "stream": "stdout",
       "text": [
        " 358\n",
        "skipped  2\n",
        "534093073\n",
        "extracting with thr_boilerpipe\n",
        "processed "
       ]
      },
      {
       "output_type": "stream",
       "stream": "stdout",
       "text": [
        " 359\n",
        "skipped  2\n",
        "534505078\n",
        "extracting with thr_boilerpipe\n",
        "processed "
       ]
      },
      {
       "output_type": "stream",
       "stream": "stdout",
       "text": [
        " 360\n",
        "skipped  2\n",
        "534718899\n",
        "extracting with thr_boilerpipe\n",
        "processed "
       ]
      },
      {
       "output_type": "stream",
       "stream": "stdout",
       "text": [
        " 361\n",
        "skipped  2\n",
        "534742315\n",
        "extracting with thr_boilerpipe\n",
        "processed "
       ]
      },
      {
       "output_type": "stream",
       "stream": "stdout",
       "text": [
        " 362\n",
        "skipped  2\n",
        "534981910\n",
        "extracting with thr_boilerpipe\n",
        "processed "
       ]
      },
      {
       "output_type": "stream",
       "stream": "stdout",
       "text": [
        " 363\n",
        "skipped  2\n",
        "535201962\n",
        "extracting with thr_boilerpipe\n",
        "processed "
       ]
      },
      {
       "output_type": "stream",
       "stream": "stdout",
       "text": [
        " 364\n",
        "skipped  2\n",
        "535469332\n",
        "extracting with thr_boilerpipe\n",
        "processed "
       ]
      },
      {
       "output_type": "stream",
       "stream": "stdout",
       "text": [
        " 365\n",
        "skipped  2\n",
        "535880958\n",
        "extracting with thr_boilerpipe\n",
        "processed "
       ]
      },
      {
       "output_type": "stream",
       "stream": "stdout",
       "text": [
        " 366\n",
        "skipped  2\n",
        "536622410\n",
        "extracting with thr_boilerpipe\n",
        "processed "
       ]
      },
      {
       "output_type": "stream",
       "stream": "stdout",
       "text": [
        " 367\n",
        "skipped  2\n",
        "536622427\n",
        "extracting with thr_boilerpipe\n",
        "processed "
       ]
      },
      {
       "output_type": "stream",
       "stream": "stdout",
       "text": [
        " 368\n",
        "skipped  2\n",
        "536670142\n",
        "extracting with thr_boilerpipe\n",
        "processed "
       ]
      },
      {
       "output_type": "stream",
       "stream": "stdout",
       "text": [
        " 369\n",
        "skipped  2\n",
        "536689603\n",
        "extracting with thr_boilerpipe\n",
        "processed "
       ]
      },
      {
       "output_type": "stream",
       "stream": "stdout",
       "text": [
        " 370\n",
        "skipped  2\n",
        "536697475\n",
        "extracting with thr_boilerpipe\n",
        "processed "
       ]
      },
      {
       "output_type": "stream",
       "stream": "stdout",
       "text": [
        " 371\n",
        "skipped  2\n",
        "536720884\n",
        "extracting with thr_boilerpipe\n",
        "processed "
       ]
      },
      {
       "output_type": "stream",
       "stream": "stdout",
       "text": [
        " 372\n",
        "skipped  2\n",
        "536817371\n",
        "extracting with thr_boilerpipe\n",
        "processed "
       ]
      },
      {
       "output_type": "stream",
       "stream": "stdout",
       "text": [
        " 373\n",
        "skipped  2\n",
        "536828101\n",
        "extracting with thr_boilerpipe\n",
        "processed "
       ]
      },
      {
       "output_type": "stream",
       "stream": "stdout",
       "text": [
        " 374\n",
        "skipped  2\n",
        "536833731\n",
        "extracting with thr_boilerpipe\n",
        "processed "
       ]
      },
      {
       "output_type": "stream",
       "stream": "stdout",
       "text": [
        " 375\n",
        "skipped  2\n",
        "536870204\n",
        "extracting with thr_boilerpipe\n",
        "processed "
       ]
      },
      {
       "output_type": "stream",
       "stream": "stdout",
       "text": [
        " 376\n",
        "skipped  2\n",
        "536977072\n",
        "extracting with thr_boilerpipe\n",
        "processed "
       ]
      },
      {
       "output_type": "stream",
       "stream": "stdout",
       "text": [
        " 377\n",
        "skipped  2\n",
        "537231678\n",
        "extracting with thr_boilerpipe\n",
        "processed "
       ]
      },
      {
       "output_type": "stream",
       "stream": "stdout",
       "text": [
        " 378\n",
        "skipped  2\n",
        "537256396\n",
        "extracting with thr_boilerpipe\n",
        "processed "
       ]
      },
      {
       "output_type": "stream",
       "stream": "stdout",
       "text": [
        " 379\n",
        "skipped  2\n",
        "537501183\n",
        "extracting with thr_boilerpipe\n",
        "processed "
       ]
      },
      {
       "output_type": "stream",
       "stream": "stdout",
       "text": [
        " 380\n",
        "skipped  2\n",
        "537704893\n",
        "extracting with thr_boilerpipe\n",
        "processed "
       ]
      },
      {
       "output_type": "stream",
       "stream": "stdout",
       "text": [
        " 381\n",
        "skipped  2\n",
        "538721777\n",
        "extracting with thr_boilerpipe\n",
        "processed "
       ]
      },
      {
       "output_type": "stream",
       "stream": "stdout",
       "text": [
        " 382\n",
        "skipped  2\n",
        "539056055\n",
        "extracting with thr_boilerpipe\n",
        "processed "
       ]
      },
      {
       "output_type": "stream",
       "stream": "stdout",
       "text": [
        " 383\n",
        "skipped  2\n",
        "539126425\n",
        "extracting with thr_boilerpipe\n",
        "processed "
       ]
      },
      {
       "output_type": "stream",
       "stream": "stdout",
       "text": [
        " 384\n",
        "skipped  2\n",
        "539382819\n",
        "extracting with thr_boilerpipe\n",
        "processed "
       ]
      },
      {
       "output_type": "stream",
       "stream": "stdout",
       "text": [
        " 385\n",
        "skipped  2\n",
        "539387198\n",
        "extracting with thr_boilerpipe\n",
        "processed "
       ]
      },
      {
       "output_type": "stream",
       "stream": "stdout",
       "text": [
        " 386\n",
        "skipped  2\n",
        "539389371\n",
        "extracting with thr_boilerpipe\n",
        "processed "
       ]
      },
      {
       "output_type": "stream",
       "stream": "stdout",
       "text": [
        " 387\n",
        "skipped  2\n",
        "539392922\n",
        "extracting with thr_boilerpipe\n",
        "processed "
       ]
      },
      {
       "output_type": "stream",
       "stream": "stdout",
       "text": [
        " 388\n",
        "skipped  2\n",
        "539411169\n",
        "extracting with thr_boilerpipe\n",
        "processed "
       ]
      },
      {
       "output_type": "stream",
       "stream": "stdout",
       "text": [
        " 389\n",
        "skipped  2\n",
        "539415012\n",
        "extracting with thr_boilerpipe\n",
        "processed "
       ]
      },
      {
       "output_type": "stream",
       "stream": "stdout",
       "text": [
        " 390\n",
        "skipped  2\n",
        "539423034\n",
        "extracting with thr_boilerpipe\n",
        "processed "
       ]
      },
      {
       "output_type": "stream",
       "stream": "stdout",
       "text": [
        " 391\n",
        "skipped  2\n",
        "539444342\n",
        "extracting with thr_boilerpipe\n",
        "processed "
       ]
      },
      {
       "output_type": "stream",
       "stream": "stdout",
       "text": [
        " 392\n",
        "skipped  2\n",
        "539444757\n",
        "extracting with thr_boilerpipe\n",
        "processed "
       ]
      },
      {
       "output_type": "stream",
       "stream": "stdout",
       "text": [
        " 393\n",
        "skipped  2\n",
        "539445540\n",
        "extracting with thr_boilerpipe\n",
        "processed "
       ]
      },
      {
       "output_type": "stream",
       "stream": "stdout",
       "text": [
        " 394\n",
        "skipped  2\n",
        "539453644\n",
        "extracting with thr_boilerpipe\n",
        "processed "
       ]
      },
      {
       "output_type": "stream",
       "stream": "stdout",
       "text": [
        " 395\n",
        "skipped  2\n",
        "539482866\n",
        "extracting with thr_boilerpipe\n",
        "processed "
       ]
      },
      {
       "output_type": "stream",
       "stream": "stdout",
       "text": [
        " 396\n",
        "skipped  2\n",
        "539483121\n",
        "extracting with thr_boilerpipe\n",
        "processed "
       ]
      },
      {
       "output_type": "stream",
       "stream": "stdout",
       "text": [
        " 397\n",
        "skipped  2\n",
        "539535265\n",
        "extracting with thr_boilerpipe\n",
        "processed "
       ]
      },
      {
       "output_type": "stream",
       "stream": "stdout",
       "text": [
        " 398\n",
        "skipped  2\n",
        "539535898\n",
        "extracting with thr_boilerpipe\n",
        "processed "
       ]
      },
      {
       "output_type": "stream",
       "stream": "stdout",
       "text": [
        " 399\n",
        "skipped  2\n",
        "539639827\n",
        "extracting with thr_boilerpipe\n",
        "processed "
       ]
      },
      {
       "output_type": "stream",
       "stream": "stdout",
       "text": [
        " 400\n",
        "skipped  2\n",
        "539693458\n",
        "extracting with thr_boilerpipe\n",
        "processed "
       ]
      },
      {
       "output_type": "stream",
       "stream": "stdout",
       "text": [
        " 401\n",
        "skipped  2\n",
        "539699310\n",
        "extracting with thr_boilerpipe\n",
        "processed "
       ]
      },
      {
       "output_type": "stream",
       "stream": "stdout",
       "text": [
        " 402\n",
        "skipped  2\n",
        "539784484\n",
        "extracting with thr_boilerpipe\n",
        "processed "
       ]
      },
      {
       "output_type": "stream",
       "stream": "stdout",
       "text": [
        " 403\n",
        "skipped  2\n",
        "539855645\n",
        "extracting with thr_boilerpipe\n",
        "processed "
       ]
      },
      {
       "output_type": "stream",
       "stream": "stdout",
       "text": [
        " 404\n",
        "skipped  2\n",
        "539862886\n",
        "extracting with thr_boilerpipe\n",
        "processed "
       ]
      },
      {
       "output_type": "stream",
       "stream": "stdout",
       "text": [
        " 405\n",
        "skipped  2\n",
        "540049468\n",
        "extracting with thr_boilerpipe\n",
        "processed "
       ]
      },
      {
       "output_type": "stream",
       "stream": "stdout",
       "text": [
        " 406\n",
        "skipped  2\n",
        "540072482\n",
        "extracting with thr_boilerpipe\n",
        "processed "
       ]
      },
      {
       "output_type": "stream",
       "stream": "stdout",
       "text": [
        " 407\n",
        "skipped  2\n",
        "540124060\n",
        "extracting with thr_boilerpipe\n",
        "processed "
       ]
      },
      {
       "output_type": "stream",
       "stream": "stdout",
       "text": [
        " 408\n",
        "skipped  2\n",
        "540219129\n",
        "extracting with thr_boilerpipe\n",
        "processed "
       ]
      },
      {
       "output_type": "stream",
       "stream": "stdout",
       "text": [
        " 409\n",
        "skipped  2\n",
        "540246359\n",
        "extracting with thr_boilerpipe\n",
        "processed "
       ]
      },
      {
       "output_type": "stream",
       "stream": "stdout",
       "text": [
        " 410\n",
        "skipped  2\n",
        "540356681\n",
        "extracting with thr_boilerpipe\n",
        "processed "
       ]
      },
      {
       "output_type": "stream",
       "stream": "stdout",
       "text": [
        " 411\n",
        "skipped  2\n",
        "540448548\n",
        "extracting with thr_boilerpipe\n",
        "processed "
       ]
      },
      {
       "output_type": "stream",
       "stream": "stdout",
       "text": [
        " 412\n",
        "skipped  2\n",
        "540628443\n",
        "extracting with thr_boilerpipe\n",
        "processed "
       ]
      },
      {
       "output_type": "stream",
       "stream": "stdout",
       "text": [
        " 413\n",
        "skipped  2\n",
        "540729123\n",
        "extracting with thr_boilerpipe\n",
        "processed "
       ]
      },
      {
       "output_type": "stream",
       "stream": "stdout",
       "text": [
        " 414\n",
        "skipped  2\n",
        "540938254\n",
        "extracting with thr_boilerpipe\n",
        "processed "
       ]
      },
      {
       "output_type": "stream",
       "stream": "stdout",
       "text": [
        " 415\n",
        "skipped  2\n",
        "541044672\n",
        "extracting with thr_boilerpipe\n",
        "processed "
       ]
      },
      {
       "output_type": "stream",
       "stream": "stdout",
       "text": [
        " 416\n",
        "skipped  2\n",
        "541380062\n",
        "extracting with thr_boilerpipe\n",
        "processed "
       ]
      },
      {
       "output_type": "stream",
       "stream": "stdout",
       "text": [
        " 417\n",
        "skipped  2\n",
        "541787974\n",
        "extracting with thr_boilerpipe\n",
        "processed "
       ]
      },
      {
       "output_type": "stream",
       "stream": "stdout",
       "text": [
        " 418\n",
        "skipped  2\n",
        "541944011\n",
        "extracting with thr_boilerpipe\n",
        "processed "
       ]
      },
      {
       "output_type": "stream",
       "stream": "stdout",
       "text": [
        " 419\n",
        "skipped  2\n",
        "542151181\n",
        "extracting with thr_boilerpipe\n",
        "processed "
       ]
      },
      {
       "output_type": "stream",
       "stream": "stdout",
       "text": [
        " 420\n",
        "skipped  2\n",
        "542292829\n",
        "extracting with thr_boilerpipe\n",
        "processed "
       ]
      },
      {
       "output_type": "stream",
       "stream": "stdout",
       "text": [
        " 421\n",
        "skipped  2\n",
        "542601235\n",
        "extracting with thr_boilerpipe\n",
        "processed "
       ]
      },
      {
       "output_type": "stream",
       "stream": "stdout",
       "text": [
        " 422\n",
        "skipped  2\n",
        "542607593\n",
        "extracting with thr_boilerpipe\n",
        "processed "
       ]
      },
      {
       "output_type": "stream",
       "stream": "stdout",
       "text": [
        " 423\n",
        "skipped  2\n",
        "542722436\n",
        "extracting with thr_boilerpipe\n",
        "processed "
       ]
      },
      {
       "output_type": "stream",
       "stream": "stdout",
       "text": [
        " 424\n",
        "skipped  2\n",
        "543002984\n",
        "extracting with thr_boilerpipe\n",
        "processed "
       ]
      },
      {
       "output_type": "stream",
       "stream": "stdout",
       "text": [
        " 425\n",
        "skipped  2\n",
        "544804153\n",
        "extracting with thr_boilerpipe\n",
        "processed "
       ]
      },
      {
       "output_type": "stream",
       "stream": "stdout",
       "text": [
        " 426\n",
        "skipped  2\n",
        "545408829\n",
        "extracting with thr_boilerpipe\n",
        "processed "
       ]
      },
      {
       "output_type": "stream",
       "stream": "stdout",
       "text": [
        " 427\n",
        "skipped  2\n",
        "545490257\n",
        "extracting with thr_boilerpipe\n",
        "processed "
       ]
      },
      {
       "output_type": "stream",
       "stream": "stdout",
       "text": [
        " 428\n",
        "skipped  2\n",
        "546226391\n",
        "extracting with thr_boilerpipe\n",
        "processed "
       ]
      },
      {
       "output_type": "stream",
       "stream": "stdout",
       "text": [
        " 429\n",
        "skipped  2\n",
        "546447285\n",
        "extracting with thr_boilerpipe\n",
        "processed "
       ]
      },
      {
       "output_type": "stream",
       "stream": "stdout",
       "text": [
        " 430\n",
        "skipped  2\n",
        "546452241\n",
        "extracting with thr_boilerpipe\n",
        "processed "
       ]
      },
      {
       "output_type": "stream",
       "stream": "stdout",
       "text": [
        " 431\n",
        "skipped  2\n",
        "546475377\n",
        "extracting with thr_boilerpipe\n",
        "processed "
       ]
      },
      {
       "output_type": "stream",
       "stream": "stdout",
       "text": [
        " 432\n",
        "skipped  2\n",
        "546744400\n",
        "extracting with thr_boilerpipe\n",
        "processed "
       ]
      },
      {
       "output_type": "stream",
       "stream": "stdout",
       "text": [
        " 433\n",
        "skipped  2\n",
        "546865980\n",
        "extracting with thr_boilerpipe\n",
        "processed "
       ]
      },
      {
       "output_type": "stream",
       "stream": "stdout",
       "text": [
        " 434\n",
        "skipped  2\n",
        "547134278\n",
        "extracting with thr_boilerpipe\n",
        "processed "
       ]
      },
      {
       "output_type": "stream",
       "stream": "stdout",
       "text": [
        " 435\n",
        "skipped  2\n",
        "547947151\n",
        "extracting with thr_boilerpipe\n",
        "processed "
       ]
      },
      {
       "output_type": "stream",
       "stream": "stdout",
       "text": [
        " 436\n",
        "skipped  2\n",
        "550077777\n",
        "extracting with thr_boilerpipe\n",
        "processed "
       ]
      },
      {
       "output_type": "stream",
       "stream": "stdout",
       "text": [
        " 437\n",
        "skipped  2\n",
        "550220223\n",
        "extracting with thr_boilerpipe\n",
        "processed "
       ]
      },
      {
       "output_type": "stream",
       "stream": "stdout",
       "text": [
        " 438\n",
        "skipped  2\n",
        "550246134\n",
        "extracting with thr_boilerpipe\n",
        "processed "
       ]
      },
      {
       "output_type": "stream",
       "stream": "stdout",
       "text": [
        " 439\n",
        "skipped  2\n",
        "550918776\n",
        "extracting with thr_boilerpipe\n",
        "processed "
       ]
      },
      {
       "output_type": "stream",
       "stream": "stdout",
       "text": [
        " 440\n",
        "skipped  2\n",
        "551714821\n",
        "extracting with thr_boilerpipe\n",
        "processed "
       ]
      },
      {
       "output_type": "stream",
       "stream": "stdout",
       "text": [
        " 441\n",
        "skipped  2\n",
        "551991048\n",
        "extracting with thr_boilerpipe\n",
        "processed "
       ]
      },
      {
       "output_type": "stream",
       "stream": "stdout",
       "text": [
        " 442\n",
        "skipped  2\n",
        "552179030\n",
        "extracting with thr_boilerpipe\n",
        "processed "
       ]
      },
      {
       "output_type": "stream",
       "stream": "stdout",
       "text": [
        " 443\n",
        "skipped  2\n",
        "552285278\n",
        "extracting with thr_boilerpipe\n",
        "processed "
       ]
      },
      {
       "output_type": "stream",
       "stream": "stdout",
       "text": [
        " 444\n",
        "skipped  2\n",
        "552343286\n",
        "extracting with thr_boilerpipe\n",
        "processed "
       ]
      },
      {
       "output_type": "stream",
       "stream": "stdout",
       "text": [
        " 445\n",
        "skipped  2\n",
        "552450557\n",
        "extracting with thr_boilerpipe\n",
        "processed "
       ]
      },
      {
       "output_type": "stream",
       "stream": "stdout",
       "text": [
        " 446\n",
        "skipped  2\n",
        "553165338\n",
        "extracting with thr_boilerpipe\n",
        "processed "
       ]
      },
      {
       "output_type": "stream",
       "stream": "stdout",
       "text": [
        " 447\n",
        "skipped  2\n",
        "554883505\n",
        "extracting with thr_boilerpipe\n",
        "processed "
       ]
      },
      {
       "output_type": "stream",
       "stream": "stdout",
       "text": [
        " 448\n",
        "skipped  2\n",
        "555372352\n",
        "extracting with thr_boilerpipe\n",
        "processed "
       ]
      },
      {
       "output_type": "stream",
       "stream": "stdout",
       "text": [
        " 449\n",
        "skipped  2\n",
        "555689825\n",
        "extracting with thr_boilerpipe\n",
        "processed "
       ]
      },
      {
       "output_type": "stream",
       "stream": "stdout",
       "text": [
        " 450\n",
        "skipped  2\n",
        "555843132\n",
        "extracting with thr_boilerpipe\n",
        "processed "
       ]
      },
      {
       "output_type": "stream",
       "stream": "stdout",
       "text": [
        " 451\n",
        "skipped  2\n",
        "556645479\n",
        "extracting with thr_boilerpipe\n",
        "processed "
       ]
      },
      {
       "output_type": "stream",
       "stream": "stdout",
       "text": [
        " 452\n",
        "skipped  2\n",
        "556934454\n",
        "extracting with thr_boilerpipe\n",
        "processed "
       ]
      },
      {
       "output_type": "stream",
       "stream": "stdout",
       "text": [
        " 453\n",
        "skipped  2\n",
        "557152619\n",
        "extracting with thr_boilerpipe\n",
        "processed "
       ]
      },
      {
       "output_type": "stream",
       "stream": "stdout",
       "text": [
        " 454\n",
        "skipped  2\n",
        "557237971\n",
        "extracting with thr_boilerpipe\n",
        "processed "
       ]
      },
      {
       "output_type": "stream",
       "stream": "stdout",
       "text": [
        " 455\n",
        "skipped  2\n",
        "557521276\n",
        "extracting with thr_boilerpipe\n",
        "processed "
       ]
      },
      {
       "output_type": "stream",
       "stream": "stdout",
       "text": [
        " 456\n",
        "skipped  2\n",
        "558095303\n",
        "extracting with thr_boilerpipe\n",
        "processed "
       ]
      },
      {
       "output_type": "stream",
       "stream": "stdout",
       "text": [
        " 457\n",
        "skipped  2\n",
        "558197649\n",
        "extracting with thr_boilerpipe\n",
        "processed "
       ]
      },
      {
       "output_type": "stream",
       "stream": "stdout",
       "text": [
        " 458\n",
        "skipped  2\n",
        "558655687\n",
        "extracting with thr_boilerpipe\n",
        "processed "
       ]
      },
      {
       "output_type": "stream",
       "stream": "stdout",
       "text": [
        " 459\n",
        "skipped  2\n",
        "558851890\n",
        "extracting with thr_boilerpipe\n",
        "processed "
       ]
      },
      {
       "output_type": "stream",
       "stream": "stdout",
       "text": [
        " 460\n",
        "skipped  2\n",
        "559736417\n",
        "extracting with thr_boilerpipe\n",
        "processed "
       ]
      },
      {
       "output_type": "stream",
       "stream": "stdout",
       "text": [
        " 461\n",
        "skipped  2\n",
        "559785151\n",
        "extracting with thr_boilerpipe\n",
        "processed "
       ]
      },
      {
       "output_type": "stream",
       "stream": "stdout",
       "text": [
        " 462\n",
        "skipped  2\n",
        "560048673\n",
        "extracting with thr_boilerpipe\n",
        "processed "
       ]
      },
      {
       "output_type": "stream",
       "stream": "stdout",
       "text": [
        " 463\n",
        "skipped  2\n",
        "560090309\n",
        "extracting with thr_boilerpipe\n",
        "processed "
       ]
      },
      {
       "output_type": "stream",
       "stream": "stdout",
       "text": [
        " 464\n",
        "skipped  2\n",
        "560127916\n",
        "extracting with thr_boilerpipe\n",
        "processed "
       ]
      },
      {
       "output_type": "stream",
       "stream": "stdout",
       "text": [
        " 465\n",
        "skipped  2\n",
        "560262829\n",
        "extracting with thr_boilerpipe\n",
        "processed "
       ]
      },
      {
       "output_type": "stream",
       "stream": "stdout",
       "text": [
        " 466\n",
        "skipped  2\n",
        "560310961\n",
        "extracting with thr_boilerpipe\n",
        "processed "
       ]
      },
      {
       "output_type": "stream",
       "stream": "stdout",
       "text": [
        " 467\n",
        "skipped  2\n",
        "560339085\n",
        "extracting with thr_boilerpipe\n",
        "processed "
       ]
      },
      {
       "output_type": "stream",
       "stream": "stdout",
       "text": [
        " 468\n",
        "skipped  2\n",
        "560351631\n",
        "extracting with thr_boilerpipe\n",
        "processed "
       ]
      },
      {
       "output_type": "stream",
       "stream": "stdout",
       "text": [
        " 469\n",
        "skipped  2\n",
        "560378287\n",
        "extracting with thr_boilerpipe\n",
        "processed "
       ]
      },
      {
       "output_type": "stream",
       "stream": "stdout",
       "text": [
        " 470\n",
        "skipped  2\n",
        "560417790\n",
        "extracting with thr_boilerpipe\n",
        "processed "
       ]
      },
      {
       "output_type": "stream",
       "stream": "stdout",
       "text": [
        " 471\n",
        "skipped  2\n",
        "560535896\n",
        "extracting with thr_boilerpipe\n",
        "processed "
       ]
      },
      {
       "output_type": "stream",
       "stream": "stdout",
       "text": [
        " 472\n",
        "skipped  2\n",
        "560707952\n",
        "extracting with thr_boilerpipe\n",
        "processed "
       ]
      },
      {
       "output_type": "stream",
       "stream": "stdout",
       "text": [
        " 473\n",
        "skipped  2\n",
        "560751009\n",
        "extracting with thr_boilerpipe\n",
        "processed "
       ]
      },
      {
       "output_type": "stream",
       "stream": "stdout",
       "text": [
        " 474\n",
        "skipped  2\n",
        "560768548\n",
        "extracting with thr_boilerpipe\n",
        "processed "
       ]
      },
      {
       "output_type": "stream",
       "stream": "stdout",
       "text": [
        " 475\n",
        "skipped  2\n",
        "560842330\n",
        "extracting with thr_boilerpipe\n",
        "processed "
       ]
      },
      {
       "output_type": "stream",
       "stream": "stdout",
       "text": [
        " 476\n",
        "skipped  2\n",
        "561122957\n",
        "extracting with thr_boilerpipe\n",
        "processed "
       ]
      },
      {
       "output_type": "stream",
       "stream": "stdout",
       "text": [
        " 477\n",
        "skipped  2\n",
        "561174738\n",
        "extracting with thr_boilerpipe\n",
        "processed "
       ]
      },
      {
       "output_type": "stream",
       "stream": "stdout",
       "text": [
        " 478\n",
        "skipped  2\n",
        "561368626\n",
        "extracting with thr_boilerpipe\n",
        "processed "
       ]
      },
      {
       "output_type": "stream",
       "stream": "stdout",
       "text": [
        " 479\n",
        "skipped  2\n",
        "561800981\n",
        "extracting with thr_boilerpipe\n",
        "processed "
       ]
      },
      {
       "output_type": "stream",
       "stream": "stdout",
       "text": [
        " 480\n",
        "skipped  2\n",
        "562073055\n",
        "extracting with thr_boilerpipe\n",
        "processed "
       ]
      },
      {
       "output_type": "stream",
       "stream": "stdout",
       "text": [
        " 481\n",
        "skipped  2\n",
        "562399059\n",
        "extracting with thr_boilerpipe\n",
        "processed "
       ]
      },
      {
       "output_type": "stream",
       "stream": "stdout",
       "text": [
        " 482\n",
        "skipped  2\n",
        "562399486\n",
        "extracting with thr_boilerpipe\n",
        "processed "
       ]
      },
      {
       "output_type": "stream",
       "stream": "stdout",
       "text": [
        " 483\n",
        "skipped  2\n",
        "562736854\n",
        "extracting with thr_boilerpipe\n",
        "processed "
       ]
      },
      {
       "output_type": "stream",
       "stream": "stdout",
       "text": [
        " 484\n",
        "skipped  2\n",
        "562742684\n",
        "extracting with thr_boilerpipe\n",
        "processed "
       ]
      },
      {
       "output_type": "stream",
       "stream": "stdout",
       "text": [
        " 485\n",
        "skipped  2\n",
        "562984785\n",
        "extracting with thr_boilerpipe\n",
        "processed "
       ]
      },
      {
       "output_type": "stream",
       "stream": "stdout",
       "text": [
        " 486\n",
        "skipped  2\n",
        "563073521\n",
        "extracting with thr_boilerpipe\n",
        "processed "
       ]
      },
      {
       "output_type": "stream",
       "stream": "stdout",
       "text": [
        " 487\n",
        "skipped  2\n",
        "563250031\n",
        "extracting with thr_boilerpipe\n",
        "processed "
       ]
      },
      {
       "output_type": "stream",
       "stream": "stdout",
       "text": [
        " 488\n",
        "skipped  2\n",
        "563556588\n",
        "extracting with thr_boilerpipe\n",
        "processed "
       ]
      },
      {
       "output_type": "stream",
       "stream": "stdout",
       "text": [
        " 489\n",
        "skipped  2\n",
        "563582892\n",
        "extracting with thr_boilerpipe\n",
        "processed "
       ]
      },
      {
       "output_type": "stream",
       "stream": "stdout",
       "text": [
        " 490\n",
        "skipped  2\n",
        "563851373\n",
        "extracting with thr_boilerpipe\n",
        "processed "
       ]
      },
      {
       "output_type": "stream",
       "stream": "stdout",
       "text": [
        " 491\n",
        "skipped  2\n",
        "564075589\n",
        "extracting with thr_boilerpipe\n",
        "processed "
       ]
      },
      {
       "output_type": "stream",
       "stream": "stdout",
       "text": [
        " 492\n",
        "skipped  2\n",
        "564196161\n",
        "extracting with thr_boilerpipe\n",
        "processed "
       ]
      },
      {
       "output_type": "stream",
       "stream": "stdout",
       "text": [
        " 493\n",
        "skipped  2\n",
        "564418488\n",
        "extracting with thr_boilerpipe\n",
        "processed "
       ]
      },
      {
       "output_type": "stream",
       "stream": "stdout",
       "text": [
        " 494\n",
        "skipped  2\n",
        "564457008\n",
        "extracting with thr_boilerpipe\n",
        "processed "
       ]
      },
      {
       "output_type": "stream",
       "stream": "stdout",
       "text": [
        " 495\n",
        "skipped  2\n",
        "565254169\n",
        "extracting with thr_boilerpipe\n",
        "processed "
       ]
      },
      {
       "output_type": "stream",
       "stream": "stdout",
       "text": [
        " 496\n",
        "skipped  2\n",
        "565270689\n",
        "extracting with thr_boilerpipe\n",
        "processed "
       ]
      },
      {
       "output_type": "stream",
       "stream": "stdout",
       "text": [
        " 497\n",
        "skipped  2\n",
        "565612572\n",
        "extracting with thr_boilerpipe\n",
        "processed "
       ]
      },
      {
       "output_type": "stream",
       "stream": "stdout",
       "text": [
        " 498\n",
        "skipped  2\n",
        "565620132\n",
        "extracting with thr_boilerpipe\n",
        "processed "
       ]
      },
      {
       "output_type": "stream",
       "stream": "stdout",
       "text": [
        " 499\n",
        "skipped  2\n",
        "565774715\n",
        "extracting with thr_boilerpipe\n",
        "error on download565774715"
       ]
      },
      {
       "output_type": "stream",
       "stream": "stderr",
       "text": [
        "  File \"<ipython-input-73-5462c770f344>\", line 17, in <module>\n",
        "    res = comp_extractors( extractor_training_object )\n",
        "  File \"<ipython-input-22-91249bf1c046>\", line 19, in comp_extractors\n",
        "    extraction_results = get_extraction_results( eto )\n",
        "  File \"<ipython-input-66-716979e1aa41>\", line 17, in get_extraction_results\n",
        "    ret['thr_boiler_pipe_ArticleExtractor'] =  extract_with_thr_boilerpipe_ArticleExtractor( raw_content)\n",
        "  File \"<ipython-input-68-fdb56e8b1b24>\", line 21, in <lambda>\n",
        "    extract_with_thr_boilerpipe_ArticleExtractor = lambda raw_content: thrift_bp_extract( raw_content, 'ArticleExtractor')\n",
        "  File \"<ipython-input-68-fdb56e8b1b24>\", line 4, in thrift_bp_extract\n",
        "    thrift_ret = client.extract_html( raw_content, extractor_type )\n",
        "  File \"thriftboilerpipe/ExtractorService.py\", line 44, in extract_html\n",
        "    return self.recv_extract_html()\n",
        "  File \"thriftboilerpipe/ExtractorService.py\", line 62, in recv_extract_html\n",
        "    raise x\n",
        "TApplicationException: Internal error processing extract_html\n",
        "Traceback (most recent call last):\n"
       ]
      },
      {
       "output_type": "stream",
       "stream": "stdout",
       "text": [
        "\n",
        "(<class 'thrift.Thrift.TApplicationException'>, TApplicationException(None,), <traceback object at 0x7f3c69406098>)\n",
        "processed  499\n",
        "skipped  3\n",
        "565831221\n",
        "extracting with thr_boilerpipe\n",
        "processed "
       ]
      },
      {
       "output_type": "stream",
       "stream": "stdout",
       "text": [
        " 500\n",
        "skipped  3\n",
        "566175982\n",
        "extracting with thr_boilerpipe\n",
        "processed "
       ]
      },
      {
       "output_type": "stream",
       "stream": "stdout",
       "text": [
        " 501\n",
        "skipped  3\n",
        "566194155\n",
        "extracting with thr_boilerpipe\n",
        "processed "
       ]
      },
      {
       "output_type": "stream",
       "stream": "stdout",
       "text": [
        " 502\n",
        "skipped  3\n",
        "566220098\n",
        "extracting with thr_boilerpipe\n",
        "processed "
       ]
      },
      {
       "output_type": "stream",
       "stream": "stdout",
       "text": [
        " 503\n",
        "skipped  3\n",
        "566546448\n",
        "extracting with thr_boilerpipe\n",
        "processed "
       ]
      },
      {
       "output_type": "stream",
       "stream": "stdout",
       "text": [
        " 504\n",
        "skipped  3\n",
        "566592645\n",
        "extracting with thr_boilerpipe\n",
        "processed "
       ]
      },
      {
       "output_type": "stream",
       "stream": "stdout",
       "text": [
        " 505\n",
        "skipped  3\n",
        "566726127\n",
        "extracting with thr_boilerpipe\n",
        "processed "
       ]
      },
      {
       "output_type": "stream",
       "stream": "stdout",
       "text": [
        " 506\n",
        "skipped  3\n",
        "567132910\n",
        "extracting with thr_boilerpipe\n",
        "processed "
       ]
      },
      {
       "output_type": "stream",
       "stream": "stdout",
       "text": [
        " 507\n",
        "skipped  3\n",
        "567149912\n",
        "extracting with thr_boilerpipe\n",
        "processed "
       ]
      },
      {
       "output_type": "stream",
       "stream": "stdout",
       "text": [
        " 508\n",
        "skipped  3\n",
        "567150914\n",
        "extracting with thr_boilerpipe\n",
        "processed "
       ]
      },
      {
       "output_type": "stream",
       "stream": "stdout",
       "text": [
        " 509\n",
        "skipped  3\n",
        "567201539\n",
        "extracting with thr_boilerpipe\n",
        "processed "
       ]
      },
      {
       "output_type": "stream",
       "stream": "stdout",
       "text": [
        " 510\n",
        "skipped  3\n",
        "567387189\n",
        "extracting with thr_boilerpipe\n",
        "processed "
       ]
      },
      {
       "output_type": "stream",
       "stream": "stdout",
       "text": [
        " 511\n",
        "skipped  3\n",
        "567440968\n",
        "extracting with thr_boilerpipe\n",
        "processed "
       ]
      },
      {
       "output_type": "stream",
       "stream": "stdout",
       "text": [
        " 512\n",
        "skipped  3\n",
        "567594230\n",
        "extracting with thr_boilerpipe\n",
        "processed "
       ]
      },
      {
       "output_type": "stream",
       "stream": "stdout",
       "text": [
        " 513\n",
        "skipped  3\n",
        "567706084\n",
        "extracting with thr_boilerpipe\n",
        "processed "
       ]
      },
      {
       "output_type": "stream",
       "stream": "stdout",
       "text": [
        " 514\n",
        "skipped  3\n",
        "567808993\n",
        "extracting with thr_boilerpipe\n",
        "processed "
       ]
      },
      {
       "output_type": "stream",
       "stream": "stdout",
       "text": [
        " 515\n",
        "skipped  3\n",
        "568058112\n",
        "extracting with thr_boilerpipe\n",
        "processed "
       ]
      },
      {
       "output_type": "stream",
       "stream": "stdout",
       "text": [
        " 516\n",
        "skipped  3\n",
        "568220153\n",
        "extracting with thr_boilerpipe\n",
        "processed "
       ]
      },
      {
       "output_type": "stream",
       "stream": "stdout",
       "text": [
        " 517\n",
        "skipped  3\n",
        "568278639\n",
        "extracting with thr_boilerpipe\n",
        "processed "
       ]
      },
      {
       "output_type": "stream",
       "stream": "stdout",
       "text": [
        " 518\n",
        "skipped  3\n",
        "568314417\n",
        "extracting with thr_boilerpipe\n",
        "processed "
       ]
      },
      {
       "output_type": "stream",
       "stream": "stdout",
       "text": [
        " 519\n",
        "skipped  3\n",
        "568405515\n",
        "extracting with thr_boilerpipe\n",
        "processed "
       ]
      },
      {
       "output_type": "stream",
       "stream": "stdout",
       "text": [
        " 520\n",
        "skipped  3\n",
        "568873296\n",
        "extracting with thr_boilerpipe\n",
        "processed "
       ]
      },
      {
       "output_type": "stream",
       "stream": "stdout",
       "text": [
        " 521\n",
        "skipped  3\n",
        "569385275\n",
        "extracting with thr_boilerpipe\n",
        "processed "
       ]
      },
      {
       "output_type": "stream",
       "stream": "stdout",
       "text": [
        " 522\n",
        "skipped  3\n",
        "569400896\n",
        "extracting with thr_boilerpipe\n",
        "processed "
       ]
      },
      {
       "output_type": "stream",
       "stream": "stdout",
       "text": [
        " 523\n",
        "skipped  3\n",
        "569440622\n",
        "extracting with thr_boilerpipe\n",
        "error on download569440622"
       ]
      },
      {
       "output_type": "stream",
       "stream": "stderr",
       "text": [
        "  File \"<ipython-input-73-5462c770f344>\", line 17, in <module>\n",
        "    res = comp_extractors( extractor_training_object )\n",
        "  File \"<ipython-input-22-91249bf1c046>\", line 19, in comp_extractors\n",
        "    extraction_results = get_extraction_results( eto )\n",
        "  File \"<ipython-input-66-716979e1aa41>\", line 17, in get_extraction_results\n",
        "    ret['thr_boiler_pipe_ArticleExtractor'] =  extract_with_thr_boilerpipe_ArticleExtractor( raw_content)\n",
        "  File \"<ipython-input-68-fdb56e8b1b24>\", line 21, in <lambda>\n",
        "    extract_with_thr_boilerpipe_ArticleExtractor = lambda raw_content: thrift_bp_extract( raw_content, 'ArticleExtractor')\n",
        "  File \"<ipython-input-68-fdb56e8b1b24>\", line 4, in thrift_bp_extract\n",
        "    thrift_ret = client.extract_html( raw_content, extractor_type )\n",
        "  File \"thriftboilerpipe/ExtractorService.py\", line 44, in extract_html\n",
        "    return self.recv_extract_html()\n",
        "  File \"thriftboilerpipe/ExtractorService.py\", line 62, in recv_extract_html\n",
        "    raise x\n",
        "TApplicationException: Internal error processing extract_html\n",
        "Traceback (most recent call last):\n"
       ]
      },
      {
       "output_type": "stream",
       "stream": "stdout",
       "text": [
        "\n",
        "(<class 'thrift.Thrift.TApplicationException'>, TApplicationException(None,), <traceback object at 0x7f3c8a8ca518>)\n",
        "processed  523\n",
        "skipped  4\n",
        "569448540\n",
        "extracting with thr_boilerpipe\n",
        "processed "
       ]
      },
      {
       "output_type": "stream",
       "stream": "stdout",
       "text": [
        " 524\n",
        "skipped  4\n",
        "569458361\n",
        "extracting with thr_boilerpipe\n",
        "processed "
       ]
      },
      {
       "output_type": "stream",
       "stream": "stdout",
       "text": [
        " 525\n",
        "skipped  4\n",
        "569473458\n",
        "extracting with thr_boilerpipe\n",
        "processed "
       ]
      },
      {
       "output_type": "stream",
       "stream": "stdout",
       "text": [
        " 526\n",
        "skipped  4\n",
        "570126417\n",
        "extracting with thr_boilerpipe\n",
        "processed "
       ]
      },
      {
       "output_type": "stream",
       "stream": "stdout",
       "text": [
        " 527\n",
        "skipped  4\n",
        "570281609\n",
        "extracting with thr_boilerpipe\n",
        "processed "
       ]
      },
      {
       "output_type": "stream",
       "stream": "stdout",
       "text": [
        " 528\n",
        "skipped  4\n",
        "570420066\n",
        "extracting with thr_boilerpipe\n",
        "processed "
       ]
      },
      {
       "output_type": "stream",
       "stream": "stdout",
       "text": [
        " 529\n",
        "skipped  4\n",
        "570820516\n",
        "extracting with thr_boilerpipe\n",
        "processed "
       ]
      },
      {
       "output_type": "stream",
       "stream": "stdout",
       "text": [
        " 530\n",
        "skipped  4\n",
        "571250692\n",
        "extracting with thr_boilerpipe\n",
        "processed "
       ]
      },
      {
       "output_type": "stream",
       "stream": "stdout",
       "text": [
        " 531\n",
        "skipped  4\n",
        "572427751\n",
        "extracting with thr_boilerpipe\n",
        "processed "
       ]
      },
      {
       "output_type": "stream",
       "stream": "stdout",
       "text": [
        " 532\n",
        "skipped  4\n",
        "572497331\n",
        "extracting with thr_boilerpipe\n",
        "processed "
       ]
      },
      {
       "output_type": "stream",
       "stream": "stdout",
       "text": [
        " 533\n",
        "skipped  4\n",
        "572595598\n",
        "extracting with thr_boilerpipe\n",
        "processed "
       ]
      },
      {
       "output_type": "stream",
       "stream": "stdout",
       "text": [
        " 534\n",
        "skipped  4\n",
        "576800952\n",
        "extracting with thr_boilerpipe\n",
        "processed "
       ]
      },
      {
       "output_type": "stream",
       "stream": "stdout",
       "text": [
        " 535\n",
        "skipped  4\n",
        "576826346\n",
        "extracting with thr_boilerpipe\n",
        "processed "
       ]
      },
      {
       "output_type": "stream",
       "stream": "stdout",
       "text": [
        " 536\n",
        "skipped  4\n",
        "576906221\n",
        "extracting with thr_boilerpipe\n",
        "processed "
       ]
      },
      {
       "output_type": "stream",
       "stream": "stdout",
       "text": [
        " 537\n",
        "skipped  4\n",
        "577070880\n",
        "extracting with thr_boilerpipe\n",
        "processed "
       ]
      },
      {
       "output_type": "stream",
       "stream": "stdout",
       "text": [
        " 538\n",
        "skipped  4\n",
        "577076453\n",
        "extracting with thr_boilerpipe\n",
        "processed "
       ]
      },
      {
       "output_type": "stream",
       "stream": "stdout",
       "text": [
        " 539\n",
        "skipped  4\n",
        "577226126\n",
        "extracting with thr_boilerpipe\n",
        "error on download577226126"
       ]
      },
      {
       "output_type": "stream",
       "stream": "stderr",
       "text": [
        "  File \"<ipython-input-73-5462c770f344>\", line 17, in <module>\n",
        "    res = comp_extractors( extractor_training_object )\n",
        "  File \"<ipython-input-22-91249bf1c046>\", line 19, in comp_extractors\n",
        "    extraction_results = get_extraction_results( eto )\n",
        "  File \"<ipython-input-66-716979e1aa41>\", line 17, in get_extraction_results\n",
        "    ret['thr_boiler_pipe_ArticleExtractor'] =  extract_with_thr_boilerpipe_ArticleExtractor( raw_content)\n",
        "  File \"<ipython-input-68-fdb56e8b1b24>\", line 21, in <lambda>\n",
        "    extract_with_thr_boilerpipe_ArticleExtractor = lambda raw_content: thrift_bp_extract( raw_content, 'ArticleExtractor')\n",
        "  File \"<ipython-input-68-fdb56e8b1b24>\", line 4, in thrift_bp_extract\n",
        "    thrift_ret = client.extract_html( raw_content, extractor_type )\n",
        "  File \"thriftboilerpipe/ExtractorService.py\", line 44, in extract_html\n",
        "    return self.recv_extract_html()\n",
        "  File \"thriftboilerpipe/ExtractorService.py\", line 62, in recv_extract_html\n",
        "    raise x\n",
        "TApplicationException: Internal error processing extract_html\n",
        "Traceback (most recent call last):\n"
       ]
      },
      {
       "output_type": "stream",
       "stream": "stdout",
       "text": [
        "\n",
        "(<class 'thrift.Thrift.TApplicationException'>, TApplicationException(None,), <traceback object at 0x7f3c8a8d51b8>)\n",
        "processed  539\n",
        "skipped  5\n",
        "578103835\n",
        "extracting with thr_boilerpipe\n",
        "processed "
       ]
      },
      {
       "output_type": "stream",
       "stream": "stdout",
       "text": [
        " 540\n",
        "skipped  5\n",
        "578124694\n",
        "extracting with thr_boilerpipe\n",
        "processed "
       ]
      },
      {
       "output_type": "stream",
       "stream": "stdout",
       "text": [
        " 541\n",
        "skipped  5\n",
        "578153622\n",
        "extracting with thr_boilerpipe\n",
        "processed "
       ]
      },
      {
       "output_type": "stream",
       "stream": "stdout",
       "text": [
        " 542\n",
        "skipped  5\n",
        "578156115\n",
        "extracting with thr_boilerpipe\n",
        "processed "
       ]
      },
      {
       "output_type": "stream",
       "stream": "stdout",
       "text": [
        " 543\n",
        "skipped  5\n",
        "578156372\n",
        "extracting with thr_boilerpipe\n",
        "processed "
       ]
      },
      {
       "output_type": "stream",
       "stream": "stdout",
       "text": [
        " 544\n",
        "skipped  5\n",
        "578156412\n",
        "extracting with thr_boilerpipe\n",
        "processed "
       ]
      },
      {
       "output_type": "stream",
       "stream": "stdout",
       "text": [
        " 545\n",
        "skipped  5\n",
        "578167861\n",
        "extracting with thr_boilerpipe\n",
        "processed "
       ]
      },
      {
       "output_type": "stream",
       "stream": "stdout",
       "text": [
        " 546\n",
        "skipped  5\n",
        "578210309\n",
        "extracting with thr_boilerpipe\n",
        "error on download578210309"
       ]
      },
      {
       "output_type": "stream",
       "stream": "stderr",
       "text": [
        "  File \"<ipython-input-73-5462c770f344>\", line 17, in <module>\n",
        "    res = comp_extractors( extractor_training_object )\n",
        "  File \"<ipython-input-22-91249bf1c046>\", line 19, in comp_extractors\n",
        "    extraction_results = get_extraction_results( eto )\n",
        "  File \"<ipython-input-66-716979e1aa41>\", line 17, in get_extraction_results\n",
        "    ret['thr_boiler_pipe_ArticleExtractor'] =  extract_with_thr_boilerpipe_ArticleExtractor( raw_content)\n",
        "  File \"<ipython-input-68-fdb56e8b1b24>\", line 21, in <lambda>\n",
        "    extract_with_thr_boilerpipe_ArticleExtractor = lambda raw_content: thrift_bp_extract( raw_content, 'ArticleExtractor')\n",
        "  File \"<ipython-input-68-fdb56e8b1b24>\", line 4, in thrift_bp_extract\n",
        "    thrift_ret = client.extract_html( raw_content, extractor_type )\n",
        "  File \"thriftboilerpipe/ExtractorService.py\", line 44, in extract_html\n",
        "    return self.recv_extract_html()\n",
        "  File \"thriftboilerpipe/ExtractorService.py\", line 62, in recv_extract_html\n",
        "    raise x\n",
        "TApplicationException: Internal error processing extract_html\n",
        "Traceback (most recent call last):\n"
       ]
      },
      {
       "output_type": "stream",
       "stream": "stdout",
       "text": [
        "\n",
        "(<class 'thrift.Thrift.TApplicationException'>, TApplicationException(None,), <traceback object at 0x7f3c8a8ce680>)\n",
        "processed  546\n",
        "skipped  6\n",
        "578210949\n",
        "extracting with thr_boilerpipe\n",
        "processed "
       ]
      },
      {
       "output_type": "stream",
       "stream": "stdout",
       "text": [
        " 547\n",
        "skipped  6\n",
        "578294304\n",
        "extracting with thr_boilerpipe\n",
        "processed "
       ]
      },
      {
       "output_type": "stream",
       "stream": "stdout",
       "text": [
        " 548\n",
        "skipped  6\n",
        "578364597\n",
        "extracting with thr_boilerpipe\n",
        "processed "
       ]
      },
      {
       "output_type": "stream",
       "stream": "stdout",
       "text": [
        " 549\n",
        "skipped  6\n",
        "578371687\n",
        "extracting with thr_boilerpipe\n",
        "processed "
       ]
      },
      {
       "output_type": "stream",
       "stream": "stdout",
       "text": [
        " 550\n",
        "skipped  6\n",
        "578520886\n",
        "extracting with thr_boilerpipe\n",
        "processed "
       ]
      },
      {
       "output_type": "stream",
       "stream": "stdout",
       "text": [
        " 551\n",
        "skipped  6\n",
        "578636827\n",
        "extracting with thr_boilerpipe\n",
        "processed "
       ]
      },
      {
       "output_type": "stream",
       "stream": "stdout",
       "text": [
        " 552\n",
        "skipped  6\n",
        "578653839\n",
        "extracting with thr_boilerpipe\n",
        "processed "
       ]
      },
      {
       "output_type": "stream",
       "stream": "stdout",
       "text": [
        " 553\n",
        "skipped  6\n",
        "578713987\n",
        "extracting with thr_boilerpipe\n",
        "processed "
       ]
      },
      {
       "output_type": "stream",
       "stream": "stderr",
       "text": [
        "  File \"<ipython-input-73-5462c770f344>\", line 17, in <module>\n",
        "    res = comp_extractors( extractor_training_object )\n",
        "  File \"<ipython-input-22-91249bf1c046>\", line 19, in comp_extractors\n",
        "    extraction_results = get_extraction_results( eto )\n",
        "  File \"<ipython-input-66-716979e1aa41>\", line 17, in get_extraction_results\n",
        "    ret['thr_boiler_pipe_ArticleExtractor'] =  extract_with_thr_boilerpipe_ArticleExtractor( raw_content)\n",
        "  File \"<ipython-input-68-fdb56e8b1b24>\", line 21, in <lambda>\n",
        "    extract_with_thr_boilerpipe_ArticleExtractor = lambda raw_content: thrift_bp_extract( raw_content, 'ArticleExtractor')\n",
        "  File \"<ipython-input-68-fdb56e8b1b24>\", line 4, in thrift_bp_extract\n",
        "    thrift_ret = client.extract_html( raw_content, extractor_type )\n",
        "  File \"thriftboilerpipe/ExtractorService.py\", line 44, in extract_html\n",
        "    return self.recv_extract_html()\n",
        "  File \"thriftboilerpipe/ExtractorService.py\", line 62, in recv_extract_html\n",
        "    raise x\n",
        "TApplicationException: Internal error processing extract_html\n",
        "Traceback (most recent call last):\n"
       ]
      },
      {
       "output_type": "stream",
       "stream": "stdout",
       "text": [
        " 554\n",
        "skipped  6\n",
        "578974914\n",
        "extracting with thr_boilerpipe\n",
        "error on download578974914\n",
        "(<class 'thrift.Thrift.TApplicationException'>, TApplicationException(None,), <traceback object at 0x7f3c8a8d6098>)\n",
        "processed  554\n",
        "skipped  7\n",
        "579044624\n",
        "extracting with thr_boilerpipe\n",
        "processed "
       ]
      },
      {
       "output_type": "stream",
       "stream": "stdout",
       "text": [
        " 555\n",
        "skipped  7\n",
        "580296869\n",
        "extracting with thr_boilerpipe\n",
        "processed "
       ]
      },
      {
       "output_type": "stream",
       "stream": "stdout",
       "text": [
        " 556\n",
        "skipped  7\n",
        "581963231\n",
        "extracting with thr_boilerpipe\n",
        "processed "
       ]
      },
      {
       "output_type": "stream",
       "stream": "stdout",
       "text": [
        " 557\n",
        "skipped  7\n",
        "589072496\n",
        "extracting with thr_boilerpipe\n",
        "processed "
       ]
      },
      {
       "output_type": "stream",
       "stream": "stdout",
       "text": [
        " 558\n",
        "skipped  7\n",
        "589074541\n",
        "extracting with thr_boilerpipe\n",
        "processed "
       ]
      },
      {
       "output_type": "stream",
       "stream": "stdout",
       "text": [
        " 559\n",
        "skipped  7\n",
        "589074546\n",
        "extracting with thr_boilerpipe\n",
        "processed "
       ]
      },
      {
       "output_type": "stream",
       "stream": "stdout",
       "text": [
        " 560\n",
        "skipped  7\n",
        "589088428\n",
        "extracting with thr_boilerpipe\n",
        "processed "
       ]
      },
      {
       "output_type": "stream",
       "stream": "stdout",
       "text": [
        " 561\n",
        "skipped  7\n",
        "589089635\n",
        "extracting with thr_boilerpipe\n",
        "processed "
       ]
      },
      {
       "output_type": "stream",
       "stream": "stdout",
       "text": [
        " 562\n",
        "skipped  7\n",
        "589090828\n",
        "extracting with thr_boilerpipe\n",
        "processed "
       ]
      },
      {
       "output_type": "stream",
       "stream": "stdout",
       "text": [
        " 563\n",
        "skipped  7\n",
        "589116902\n",
        "extracting with thr_boilerpipe\n",
        "processed "
       ]
      },
      {
       "output_type": "stream",
       "stream": "stdout",
       "text": [
        " 564\n",
        "skipped  7\n",
        "589116915\n",
        "extracting with thr_boilerpipe\n",
        "processed "
       ]
      },
      {
       "output_type": "stream",
       "stream": "stdout",
       "text": [
        " 565\n",
        "skipped  7\n",
        "589129653\n",
        "extracting with thr_boilerpipe\n",
        "processed "
       ]
      },
      {
       "output_type": "stream",
       "stream": "stdout",
       "text": [
        " 566\n",
        "skipped  7\n",
        "589153423\n",
        "extracting with thr_boilerpipe\n",
        "processed "
       ]
      },
      {
       "output_type": "stream",
       "stream": "stdout",
       "text": [
        " 567\n",
        "skipped  7\n",
        "589156380\n",
        "extracting with thr_boilerpipe\n",
        "processed "
       ]
      },
      {
       "output_type": "stream",
       "stream": "stdout",
       "text": [
        " 568\n",
        "skipped  7\n",
        "589208129\n",
        "extracting with thr_boilerpipe\n",
        "processed "
       ]
      },
      {
       "output_type": "stream",
       "stream": "stdout",
       "text": [
        " 569\n",
        "skipped  7\n",
        "589213448\n",
        "extracting with thr_boilerpipe\n",
        "processed "
       ]
      },
      {
       "output_type": "stream",
       "stream": "stdout",
       "text": [
        " 570\n",
        "skipped  7\n",
        "589213994\n",
        "extracting with thr_boilerpipe\n",
        "processed "
       ]
      },
      {
       "output_type": "stream",
       "stream": "stdout",
       "text": [
        " 571\n",
        "skipped  7\n",
        "589224922\n",
        "extracting with thr_boilerpipe\n",
        "processed "
       ]
      },
      {
       "output_type": "stream",
       "stream": "stdout",
       "text": [
        " 572\n",
        "skipped  7\n",
        "589225296\n",
        "extracting with thr_boilerpipe\n",
        "processed "
       ]
      },
      {
       "output_type": "stream",
       "stream": "stdout",
       "text": [
        " 573\n",
        "skipped  7\n",
        "589239170\n",
        "extracting with thr_boilerpipe\n",
        "processed "
       ]
      },
      {
       "output_type": "stream",
       "stream": "stdout",
       "text": [
        " 574\n",
        "skipped  7\n",
        "589240076\n",
        "extracting with thr_boilerpipe\n",
        "processed "
       ]
      },
      {
       "output_type": "stream",
       "stream": "stdout",
       "text": [
        " 575\n",
        "skipped  7\n",
        "589261134\n",
        "extracting with thr_boilerpipe\n",
        "processed "
       ]
      },
      {
       "output_type": "stream",
       "stream": "stdout",
       "text": [
        " 576\n",
        "skipped  7\n",
        "589261136\n",
        "extracting with thr_boilerpipe\n",
        "processed "
       ]
      },
      {
       "output_type": "stream",
       "stream": "stdout",
       "text": [
        " 577\n",
        "skipped  7\n",
        "589273978\n",
        "extracting with thr_boilerpipe\n",
        "processed "
       ]
      },
      {
       "output_type": "stream",
       "stream": "stdout",
       "text": [
        " 578\n",
        "skipped  7\n",
        "589285851\n",
        "extracting with thr_boilerpipe\n",
        "processed "
       ]
      },
      {
       "output_type": "stream",
       "stream": "stdout",
       "text": [
        " 579\n",
        "skipped  7\n",
        "589285856\n",
        "extracting with thr_boilerpipe\n",
        "processed "
       ]
      },
      {
       "output_type": "stream",
       "stream": "stdout",
       "text": [
        " 580\n",
        "skipped  7\n",
        "589298598\n",
        "extracting with thr_boilerpipe\n",
        "processed "
       ]
      },
      {
       "output_type": "stream",
       "stream": "stdout",
       "text": [
        " 581\n",
        "skipped  7\n",
        "589305788\n",
        "extracting with thr_boilerpipe\n",
        "processed "
       ]
      },
      {
       "output_type": "stream",
       "stream": "stdout",
       "text": [
        " 582\n",
        "skipped  7\n",
        "589310534\n",
        "extracting with thr_boilerpipe\n",
        "processed "
       ]
      },
      {
       "output_type": "stream",
       "stream": "stdout",
       "text": [
        " 583\n",
        "skipped  7\n",
        "589316558\n",
        "extracting with thr_boilerpipe\n",
        "processed "
       ]
      },
      {
       "output_type": "stream",
       "stream": "stdout",
       "text": [
        " 584\n",
        "skipped  7\n",
        "589324992\n",
        "extracting with thr_boilerpipe\n",
        "processed "
       ]
      },
      {
       "output_type": "stream",
       "stream": "stdout",
       "text": [
        " 585\n",
        "skipped  7\n",
        "589326873\n",
        "extracting with thr_boilerpipe\n",
        "processed "
       ]
      },
      {
       "output_type": "stream",
       "stream": "stdout",
       "text": [
        " 586\n",
        "skipped  7\n",
        "589335687\n",
        "extracting with thr_boilerpipe\n",
        "processed "
       ]
      },
      {
       "output_type": "stream",
       "stream": "stdout",
       "text": [
        " 587\n",
        "skipped  7\n",
        "589355839\n",
        "extracting with thr_boilerpipe\n",
        "processed "
       ]
      },
      {
       "output_type": "stream",
       "stream": "stdout",
       "text": [
        " 588\n",
        "skipped  7\n",
        "589368807\n",
        "extracting with thr_boilerpipe\n",
        "processed "
       ]
      },
      {
       "output_type": "stream",
       "stream": "stdout",
       "text": [
        " 589\n",
        "skipped  7\n",
        "589371772\n",
        "extracting with thr_boilerpipe\n",
        "processed "
       ]
      },
      {
       "output_type": "stream",
       "stream": "stdout",
       "text": [
        " 590\n",
        "skipped  7\n",
        "589377853\n",
        "extracting with thr_boilerpipe\n",
        "processed "
       ]
      },
      {
       "output_type": "stream",
       "stream": "stdout",
       "text": [
        " 591\n",
        "skipped  7\n",
        "589384584\n",
        "extracting with thr_boilerpipe\n",
        "processed "
       ]
      },
      {
       "output_type": "stream",
       "stream": "stdout",
       "text": [
        " 592\n",
        "skipped  7\n",
        "589440172\n",
        "extracting with thr_boilerpipe\n",
        "processed "
       ]
      },
      {
       "output_type": "stream",
       "stream": "stdout",
       "text": [
        " 593\n",
        "skipped  7\n",
        "589502987\n",
        "extracting with thr_boilerpipe\n",
        "processed "
       ]
      },
      {
       "output_type": "stream",
       "stream": "stdout",
       "text": [
        " 594\n",
        "skipped  7\n",
        "589513642\n",
        "extracting with thr_boilerpipe\n",
        "processed "
       ]
      },
      {
       "output_type": "stream",
       "stream": "stdout",
       "text": [
        " 595\n",
        "skipped  7\n",
        "589568015\n",
        "extracting with thr_boilerpipe\n",
        "processed "
       ]
      },
      {
       "output_type": "stream",
       "stream": "stdout",
       "text": [
        " 596\n",
        "skipped  7\n",
        "589625611\n",
        "extracting with thr_boilerpipe\n",
        "processed "
       ]
      },
      {
       "output_type": "stream",
       "stream": "stdout",
       "text": [
        " 597\n",
        "skipped  7\n",
        "589655068\n",
        "extracting with thr_boilerpipe\n",
        "processed "
       ]
      },
      {
       "output_type": "stream",
       "stream": "stdout",
       "text": [
        " 598\n",
        "skipped  7\n",
        "589674386\n",
        "extracting with thr_boilerpipe\n",
        "processed "
       ]
      },
      {
       "output_type": "stream",
       "stream": "stdout",
       "text": [
        " 599\n",
        "skipped  7\n",
        "589683282\n",
        "extracting with thr_boilerpipe\n",
        "processed "
       ]
      },
      {
       "output_type": "stream",
       "stream": "stdout",
       "text": [
        " 600\n",
        "skipped  7\n",
        "589686438\n",
        "extracting with thr_boilerpipe\n",
        "processed "
       ]
      },
      {
       "output_type": "stream",
       "stream": "stdout",
       "text": [
        " 601\n",
        "skipped  7\n",
        "589754761\n",
        "extracting with thr_boilerpipe\n",
        "processed "
       ]
      },
      {
       "output_type": "stream",
       "stream": "stdout",
       "text": [
        " 602\n",
        "skipped  7\n",
        "589755411\n",
        "extracting with thr_boilerpipe\n",
        "processed "
       ]
      },
      {
       "output_type": "stream",
       "stream": "stdout",
       "text": [
        " 603\n",
        "skipped  7\n",
        "589755612\n",
        "extracting with thr_boilerpipe\n",
        "processed "
       ]
      },
      {
       "output_type": "stream",
       "stream": "stdout",
       "text": [
        " 604\n",
        "skipped  7\n",
        "589758021\n",
        "extracting with thr_boilerpipe\n",
        "processed "
       ]
      },
      {
       "output_type": "stream",
       "stream": "stdout",
       "text": [
        " 605\n",
        "skipped  7\n",
        "589768387\n",
        "extracting with thr_boilerpipe\n",
        "processed "
       ]
      },
      {
       "output_type": "stream",
       "stream": "stdout",
       "text": [
        " 606\n",
        "skipped  7\n",
        "589786104\n",
        "extracting with thr_boilerpipe\n",
        "processed "
       ]
      },
      {
       "output_type": "stream",
       "stream": "stdout",
       "text": [
        " 607\n",
        "skipped  7\n",
        "589786154\n",
        "extracting with thr_boilerpipe\n",
        "processed "
       ]
      },
      {
       "output_type": "stream",
       "stream": "stdout",
       "text": [
        " 608\n",
        "skipped  7\n",
        "589786414\n",
        "extracting with thr_boilerpipe\n",
        "error on download589786414"
       ]
      },
      {
       "output_type": "stream",
       "stream": "stderr",
       "text": [
        "  File \"<ipython-input-73-5462c770f344>\", line 17, in <module>\n",
        "    res = comp_extractors( extractor_training_object )\n",
        "  File \"<ipython-input-22-91249bf1c046>\", line 19, in comp_extractors\n",
        "    extraction_results = get_extraction_results( eto )\n",
        "  File \"<ipython-input-66-716979e1aa41>\", line 17, in get_extraction_results\n",
        "    ret['thr_boiler_pipe_ArticleExtractor'] =  extract_with_thr_boilerpipe_ArticleExtractor( raw_content)\n",
        "  File \"<ipython-input-68-fdb56e8b1b24>\", line 21, in <lambda>\n",
        "    extract_with_thr_boilerpipe_ArticleExtractor = lambda raw_content: thrift_bp_extract( raw_content, 'ArticleExtractor')\n",
        "  File \"<ipython-input-68-fdb56e8b1b24>\", line 4, in thrift_bp_extract\n",
        "    thrift_ret = client.extract_html( raw_content, extractor_type )\n",
        "  File \"thriftboilerpipe/ExtractorService.py\", line 44, in extract_html\n",
        "    return self.recv_extract_html()\n",
        "  File \"thriftboilerpipe/ExtractorService.py\", line 62, in recv_extract_html\n",
        "    raise x\n",
        "TApplicationException: Internal error processing extract_html\n",
        "Traceback (most recent call last):\n"
       ]
      },
      {
       "output_type": "stream",
       "stream": "stdout",
       "text": [
        "\n",
        "(<class 'thrift.Thrift.TApplicationException'>, TApplicationException(None,), <traceback object at 0x7f3c692f25a8>)\n",
        "processed  608\n",
        "skipped  8\n",
        "589862512\n",
        "extracting with thr_boilerpipe\n",
        "processed "
       ]
      },
      {
       "output_type": "stream",
       "stream": "stdout",
       "text": [
        " 609\n",
        "skipped  8\n",
        "589862834\n",
        "extracting with thr_boilerpipe\n",
        "processed "
       ]
      },
      {
       "output_type": "stream",
       "stream": "stdout",
       "text": [
        " 610\n",
        "skipped  8\n",
        "589862835\n",
        "extracting with thr_boilerpipe\n",
        "processed "
       ]
      },
      {
       "output_type": "stream",
       "stream": "stdout",
       "text": [
        " 611\n",
        "skipped  8\n",
        "589867651\n",
        "extracting with thr_boilerpipe\n",
        "processed "
       ]
      },
      {
       "output_type": "stream",
       "stream": "stdout",
       "text": [
        " 612\n",
        "skipped  8\n",
        "589877044\n",
        "extracting with thr_boilerpipe\n",
        "processed "
       ]
      },
      {
       "output_type": "stream",
       "stream": "stdout",
       "text": [
        " 613\n",
        "skipped  8\n",
        "589878988\n",
        "extracting with thr_boilerpipe\n",
        "processed "
       ]
      },
      {
       "output_type": "stream",
       "stream": "stdout",
       "text": [
        " 614\n",
        "skipped  8\n",
        "589902239\n",
        "extracting with thr_boilerpipe\n",
        "processed "
       ]
      },
      {
       "output_type": "stream",
       "stream": "stdout",
       "text": [
        " 615\n",
        "skipped  8\n",
        "589902589\n",
        "extracting with thr_boilerpipe\n",
        "processed "
       ]
      },
      {
       "output_type": "stream",
       "stream": "stdout",
       "text": [
        " 616\n",
        "skipped  8\n",
        "589903803\n",
        "extracting with thr_boilerpipe\n",
        "processed "
       ]
      },
      {
       "output_type": "stream",
       "stream": "stdout",
       "text": [
        " 617\n",
        "skipped  8\n",
        "589912699\n",
        "extracting with thr_boilerpipe\n",
        "processed "
       ]
      },
      {
       "output_type": "stream",
       "stream": "stdout",
       "text": [
        " 618\n",
        "skipped  8\n",
        "589925438\n",
        "extracting with thr_boilerpipe\n",
        "processed "
       ]
      },
      {
       "output_type": "stream",
       "stream": "stdout",
       "text": [
        " 619\n",
        "skipped  8\n",
        "589929254\n",
        "extracting with thr_boilerpipe\n",
        "processed "
       ]
      },
      {
       "output_type": "stream",
       "stream": "stdout",
       "text": [
        " 620\n",
        "skipped  8\n",
        "589929573\n",
        "extracting with thr_boilerpipe\n",
        "processed "
       ]
      },
      {
       "output_type": "stream",
       "stream": "stdout",
       "text": [
        " 621\n",
        "skipped  8\n",
        "589934787\n",
        "extracting with thr_boilerpipe\n",
        "processed "
       ]
      },
      {
       "output_type": "stream",
       "stream": "stdout",
       "text": [
        " 622\n",
        "skipped  8\n",
        "589938190\n",
        "extracting with thr_boilerpipe\n",
        "processed "
       ]
      },
      {
       "output_type": "stream",
       "stream": "stdout",
       "text": [
        " 623\n",
        "skipped  8\n",
        "589945649\n",
        "extracting with thr_boilerpipe\n",
        "processed "
       ]
      },
      {
       "output_type": "stream",
       "stream": "stdout",
       "text": [
        " 624\n",
        "skipped  8\n",
        "589946203\n",
        "extracting with thr_boilerpipe\n",
        "processed "
       ]
      },
      {
       "output_type": "stream",
       "stream": "stdout",
       "text": [
        " 625\n",
        "skipped  8\n",
        "589956136\n",
        "extracting with thr_boilerpipe\n",
        "processed "
       ]
      },
      {
       "output_type": "stream",
       "stream": "stdout",
       "text": [
        " 626\n",
        "skipped  8\n",
        "589985214\n",
        "extracting with thr_boilerpipe\n",
        "processed "
       ]
      },
      {
       "output_type": "stream",
       "stream": "stdout",
       "text": [
        " 627\n",
        "skipped  8\n",
        "589992578\n",
        "extracting with thr_boilerpipe\n",
        "processed "
       ]
      },
      {
       "output_type": "stream",
       "stream": "stdout",
       "text": [
        " 628\n",
        "skipped  8\n",
        "589992873\n",
        "extracting with thr_boilerpipe\n",
        "processed "
       ]
      },
      {
       "output_type": "stream",
       "stream": "stdout",
       "text": [
        " 629\n",
        "skipped  8\n",
        "590003031\n",
        "extracting with thr_boilerpipe\n",
        "processed "
       ]
      },
      {
       "output_type": "stream",
       "stream": "stdout",
       "text": [
        " 630\n",
        "skipped  8\n",
        "590003045\n",
        "extracting with thr_boilerpipe\n",
        "processed "
       ]
      },
      {
       "output_type": "stream",
       "stream": "stdout",
       "text": [
        " 631\n",
        "skipped  8\n",
        "590033845\n",
        "extracting with thr_boilerpipe\n",
        "processed "
       ]
      },
      {
       "output_type": "stream",
       "stream": "stdout",
       "text": [
        " 632\n",
        "skipped  8\n",
        "590033849\n",
        "extracting with thr_boilerpipe\n",
        "processed "
       ]
      },
      {
       "output_type": "stream",
       "stream": "stdout",
       "text": [
        " 633\n",
        "skipped  8\n",
        "590033852\n",
        "extracting with thr_boilerpipe\n",
        "processed "
       ]
      },
      {
       "output_type": "stream",
       "stream": "stdout",
       "text": [
        " 634\n",
        "skipped  8\n",
        "590057803\n",
        "extracting with thr_boilerpipe\n",
        "processed "
       ]
      },
      {
       "output_type": "stream",
       "stream": "stdout",
       "text": [
        " 635\n",
        "skipped  8\n",
        "590237580\n",
        "extracting with thr_boilerpipe\n",
        "processed "
       ]
      },
      {
       "output_type": "stream",
       "stream": "stdout",
       "text": [
        " 636\n",
        "skipped  8\n",
        "590249522\n",
        "extracting with thr_boilerpipe\n",
        "processed "
       ]
      },
      {
       "output_type": "stream",
       "stream": "stdout",
       "text": [
        " 637\n",
        "skipped  8\n",
        "590264671\n",
        "extracting with thr_boilerpipe\n",
        "processed "
       ]
      },
      {
       "output_type": "stream",
       "stream": "stdout",
       "text": [
        " 638\n",
        "skipped  8\n",
        "590293497\n",
        "extracting with thr_boilerpipe\n",
        "processed "
       ]
      },
      {
       "output_type": "stream",
       "stream": "stdout",
       "text": [
        " 639\n",
        "skipped  8\n",
        "590323886\n",
        "extracting with thr_boilerpipe\n",
        "processed "
       ]
      },
      {
       "output_type": "stream",
       "stream": "stdout",
       "text": [
        " 640\n",
        "skipped  8\n",
        "590323913\n",
        "extracting with thr_boilerpipe\n",
        "processed "
       ]
      },
      {
       "output_type": "stream",
       "stream": "stdout",
       "text": [
        " 641\n",
        "skipped  8\n",
        "590324177\n",
        "extracting with thr_boilerpipe\n",
        "processed "
       ]
      },
      {
       "output_type": "stream",
       "stream": "stdout",
       "text": [
        " 642\n",
        "skipped  8\n",
        "590338530\n",
        "extracting with thr_boilerpipe\n",
        "processed "
       ]
      },
      {
       "output_type": "stream",
       "stream": "stdout",
       "text": [
        " 643\n",
        "skipped  8\n",
        "590339267\n",
        "extracting with thr_boilerpipe\n",
        "processed "
       ]
      },
      {
       "output_type": "stream",
       "stream": "stdout",
       "text": [
        " 644\n",
        "skipped  8\n",
        "590340446\n",
        "extracting with thr_boilerpipe\n",
        "processed "
       ]
      },
      {
       "output_type": "stream",
       "stream": "stdout",
       "text": [
        " 645\n",
        "skipped  8\n",
        "590351087\n",
        "extracting with thr_boilerpipe\n",
        "processed "
       ]
      },
      {
       "output_type": "stream",
       "stream": "stdout",
       "text": [
        " 646\n",
        "skipped  8\n",
        "590353661\n",
        "extracting with thr_boilerpipe\n",
        "processed "
       ]
      },
      {
       "output_type": "stream",
       "stream": "stdout",
       "text": [
        " 647\n",
        "skipped  8\n",
        "590356585\n",
        "extracting with thr_boilerpipe\n",
        "processed "
       ]
      },
      {
       "output_type": "stream",
       "stream": "stdout",
       "text": [
        " 648\n",
        "skipped  8\n",
        "590356597\n",
        "extracting with thr_boilerpipe\n",
        "processed "
       ]
      },
      {
       "output_type": "stream",
       "stream": "stdout",
       "text": [
        " 649\n",
        "skipped  8\n",
        "590386215\n",
        "extracting with thr_boilerpipe\n",
        "processed "
       ]
      },
      {
       "output_type": "stream",
       "stream": "stdout",
       "text": [
        " 650\n",
        "skipped  8\n",
        "590386218\n",
        "extracting with thr_boilerpipe\n",
        "processed "
       ]
      },
      {
       "output_type": "stream",
       "stream": "stdout",
       "text": [
        " 651\n",
        "skipped  8\n",
        "590386225\n",
        "extracting with thr_boilerpipe\n",
        "processed "
       ]
      },
      {
       "output_type": "stream",
       "stream": "stdout",
       "text": [
        " 652\n",
        "skipped  8\n",
        "590397660\n",
        "extracting with thr_boilerpipe\n",
        "processed "
       ]
      },
      {
       "output_type": "stream",
       "stream": "stdout",
       "text": [
        " 653\n",
        "skipped  8\n",
        "590398422\n",
        "extracting with thr_boilerpipe\n",
        "processed "
       ]
      },
      {
       "output_type": "stream",
       "stream": "stdout",
       "text": [
        " 654\n",
        "skipped  8\n",
        "590399931\n",
        "extracting with thr_boilerpipe\n",
        "processed "
       ]
      },
      {
       "output_type": "stream",
       "stream": "stdout",
       "text": [
        " 655\n",
        "skipped  8\n",
        "590411501\n",
        "extracting with thr_boilerpipe\n",
        "processed "
       ]
      },
      {
       "output_type": "stream",
       "stream": "stdout",
       "text": [
        " 656\n",
        "skipped  8\n",
        "590424369\n",
        "extracting with thr_boilerpipe\n",
        "processed "
       ]
      },
      {
       "output_type": "stream",
       "stream": "stdout",
       "text": [
        " 657\n",
        "skipped  8\n",
        "590425749\n",
        "extracting with thr_boilerpipe\n",
        "processed "
       ]
      },
      {
       "output_type": "stream",
       "stream": "stdout",
       "text": [
        " 658\n",
        "skipped  8\n",
        "590425776\n",
        "extracting with thr_boilerpipe\n",
        "processed "
       ]
      },
      {
       "output_type": "stream",
       "stream": "stdout",
       "text": [
        " 659\n",
        "skipped  8\n",
        "590425824\n",
        "extracting with thr_boilerpipe\n",
        "processed "
       ]
      },
      {
       "output_type": "stream",
       "stream": "stdout",
       "text": [
        " 660\n",
        "skipped  8\n",
        "590437581\n",
        "extracting with thr_boilerpipe\n",
        "processed "
       ]
      },
      {
       "output_type": "stream",
       "stream": "stdout",
       "text": [
        " 661\n",
        "skipped  8\n",
        "590441661\n",
        "extracting with thr_boilerpipe\n",
        "processed "
       ]
      },
      {
       "output_type": "stream",
       "stream": "stdout",
       "text": [
        " 662\n",
        "skipped  8\n",
        "590441662\n",
        "extracting with thr_boilerpipe\n",
        "processed "
       ]
      },
      {
       "output_type": "stream",
       "stream": "stdout",
       "text": [
        " 663\n",
        "skipped  8\n",
        "590460432\n",
        "extracting with thr_boilerpipe\n",
        "processed "
       ]
      },
      {
       "output_type": "stream",
       "stream": "stdout",
       "text": [
        " 664\n",
        "skipped  8\n",
        "590462467\n",
        "extracting with thr_boilerpipe\n",
        "processed "
       ]
      },
      {
       "output_type": "stream",
       "stream": "stdout",
       "text": [
        " 665\n",
        "skipped  8\n",
        "590512426\n",
        "extracting with thr_boilerpipe\n",
        "processed "
       ]
      },
      {
       "output_type": "stream",
       "stream": "stdout",
       "text": [
        " 666\n",
        "skipped  8\n",
        "590514891\n",
        "extracting with thr_boilerpipe\n",
        "processed "
       ]
      },
      {
       "output_type": "stream",
       "stream": "stdout",
       "text": [
        " 667\n",
        "skipped  8\n",
        "590515180\n",
        "extracting with thr_boilerpipe\n",
        "processed "
       ]
      },
      {
       "output_type": "stream",
       "stream": "stdout",
       "text": [
        " 668\n",
        "skipped  8\n",
        "590529801\n",
        "extracting with thr_boilerpipe\n",
        "processed "
       ]
      },
      {
       "output_type": "stream",
       "stream": "stdout",
       "text": [
        " 669\n",
        "skipped  8\n",
        "590531075\n",
        "extracting with thr_boilerpipe\n",
        "processed "
       ]
      },
      {
       "output_type": "stream",
       "stream": "stdout",
       "text": [
        " 670\n",
        "skipped  8\n",
        "590542372\n",
        "extracting with thr_boilerpipe\n",
        "processed "
       ]
      },
      {
       "output_type": "stream",
       "stream": "stdout",
       "text": [
        " 671\n",
        "skipped  8\n",
        "590542427\n",
        "extracting with thr_boilerpipe\n",
        "processed "
       ]
      },
      {
       "output_type": "stream",
       "stream": "stdout",
       "text": [
        " 672\n",
        "skipped  8\n",
        "590551407\n",
        "extracting with thr_boilerpipe\n",
        "processed "
       ]
      },
      {
       "output_type": "stream",
       "stream": "stdout",
       "text": [
        " 673\n",
        "skipped  8\n",
        "590552268\n",
        "extracting with thr_boilerpipe\n",
        "processed "
       ]
      },
      {
       "output_type": "stream",
       "stream": "stdout",
       "text": [
        " 674\n",
        "skipped  8\n",
        "590552363\n",
        "extracting with thr_boilerpipe\n",
        "processed "
       ]
      },
      {
       "output_type": "stream",
       "stream": "stdout",
       "text": [
        " 675\n",
        "skipped  8\n",
        "590552784\n",
        "extracting with thr_boilerpipe\n",
        "processed "
       ]
      },
      {
       "output_type": "stream",
       "stream": "stdout",
       "text": [
        " 676\n",
        "skipped  8\n",
        "590560741\n",
        "extracting with thr_boilerpipe\n",
        "processed "
       ]
      },
      {
       "output_type": "stream",
       "stream": "stdout",
       "text": [
        " 677\n",
        "skipped  8\n",
        "590576816\n",
        "extracting with thr_boilerpipe\n",
        "processed "
       ]
      },
      {
       "output_type": "stream",
       "stream": "stdout",
       "text": [
        " 678\n",
        "skipped  8\n",
        "590585094\n",
        "extracting with thr_boilerpipe\n",
        "processed "
       ]
      },
      {
       "output_type": "stream",
       "stream": "stdout",
       "text": [
        " 679\n",
        "skipped  8\n",
        "590593066\n",
        "extracting with thr_boilerpipe\n",
        "processed "
       ]
      },
      {
       "output_type": "stream",
       "stream": "stdout",
       "text": [
        " 680\n",
        "skipped  8\n",
        "590596271\n",
        "extracting with thr_boilerpipe\n",
        "processed "
       ]
      },
      {
       "output_type": "stream",
       "stream": "stdout",
       "text": [
        " 681\n",
        "skipped  8\n",
        "590605895\n",
        "extracting with thr_boilerpipe\n",
        "processed "
       ]
      },
      {
       "output_type": "stream",
       "stream": "stdout",
       "text": [
        " 682\n",
        "skipped  8\n",
        "590620426\n",
        "extracting with thr_boilerpipe\n",
        "processed "
       ]
      },
      {
       "output_type": "stream",
       "stream": "stdout",
       "text": [
        " 683\n",
        "skipped  8\n",
        "590623508\n",
        "extracting with thr_boilerpipe\n",
        "processed "
       ]
      },
      {
       "output_type": "stream",
       "stream": "stdout",
       "text": [
        " 684\n",
        "skipped  8\n",
        "590623511\n",
        "extracting with thr_boilerpipe\n",
        "processed "
       ]
      },
      {
       "output_type": "stream",
       "stream": "stdout",
       "text": [
        " 685\n",
        "skipped  8\n",
        "590639137\n",
        "extracting with thr_boilerpipe\n",
        "processed "
       ]
      },
      {
       "output_type": "stream",
       "stream": "stdout",
       "text": [
        " 686\n",
        "skipped  8\n",
        "590646856\n",
        "extracting with thr_boilerpipe\n",
        "processed "
       ]
      },
      {
       "output_type": "stream",
       "stream": "stdout",
       "text": [
        " 687\n",
        "skipped  8\n",
        "590647873\n",
        "extracting with thr_boilerpipe\n",
        "processed "
       ]
      },
      {
       "output_type": "stream",
       "stream": "stdout",
       "text": [
        " 688\n",
        "skipped  8\n",
        "590654819\n",
        "extracting with thr_boilerpipe\n",
        "processed "
       ]
      },
      {
       "output_type": "stream",
       "stream": "stdout",
       "text": [
        " 689\n",
        "skipped  8\n",
        "590661408\n",
        "extracting with thr_boilerpipe\n",
        "processed "
       ]
      },
      {
       "output_type": "stream",
       "stream": "stdout",
       "text": [
        " 690\n",
        "skipped  8\n",
        "590685837\n",
        "extracting with thr_boilerpipe\n",
        "processed "
       ]
      },
      {
       "output_type": "stream",
       "stream": "stdout",
       "text": [
        " 691\n",
        "skipped  8\n",
        "590720858\n",
        "extracting with thr_boilerpipe\n",
        "processed "
       ]
      },
      {
       "output_type": "stream",
       "stream": "stdout",
       "text": [
        " 692\n",
        "skipped  8\n",
        "590806668\n",
        "extracting with thr_boilerpipe\n",
        "processed "
       ]
      },
      {
       "output_type": "stream",
       "stream": "stdout",
       "text": [
        " 693\n",
        "skipped  8\n",
        "590841021\n",
        "extracting with thr_boilerpipe\n",
        "processed "
       ]
      },
      {
       "output_type": "stream",
       "stream": "stdout",
       "text": [
        " 694\n",
        "skipped  8\n",
        "590877233\n",
        "extracting with thr_boilerpipe\n",
        "processed "
       ]
      },
      {
       "output_type": "stream",
       "stream": "stdout",
       "text": [
        " 695\n",
        "skipped  8\n",
        "590917078\n",
        "extracting with thr_boilerpipe\n",
        "processed "
       ]
      },
      {
       "output_type": "stream",
       "stream": "stdout",
       "text": [
        " 696\n",
        "skipped  8\n",
        "590918616\n",
        "extracting with thr_boilerpipe\n",
        "processed "
       ]
      },
      {
       "output_type": "stream",
       "stream": "stdout",
       "text": [
        " 697\n",
        "skipped  8\n",
        "590918621\n",
        "extracting with thr_boilerpipe\n",
        "processed "
       ]
      },
      {
       "output_type": "stream",
       "stream": "stdout",
       "text": [
        " 698\n",
        "skipped  8\n",
        "590929956\n",
        "extracting with thr_boilerpipe\n",
        "processed "
       ]
      },
      {
       "output_type": "stream",
       "stream": "stdout",
       "text": [
        " 699\n",
        "skipped  8\n",
        "590957300\n",
        "extracting with thr_boilerpipe\n",
        "processed "
       ]
      },
      {
       "output_type": "stream",
       "stream": "stdout",
       "text": [
        " 700\n",
        "skipped  8\n",
        "590957745\n",
        "extracting with thr_boilerpipe\n",
        "processed "
       ]
      },
      {
       "output_type": "stream",
       "stream": "stdout",
       "text": [
        " 701\n",
        "skipped  8\n",
        "590961196\n",
        "extracting with thr_boilerpipe\n",
        "processed "
       ]
      },
      {
       "output_type": "stream",
       "stream": "stdout",
       "text": [
        " 702\n",
        "skipped  8\n",
        "590962451\n",
        "extracting with thr_boilerpipe\n",
        "processed "
       ]
      },
      {
       "output_type": "stream",
       "stream": "stdout",
       "text": [
        " 703\n",
        "skipped  8\n",
        "590975183\n",
        "extracting with thr_boilerpipe\n",
        "processed "
       ]
      },
      {
       "output_type": "stream",
       "stream": "stdout",
       "text": [
        " 704\n",
        "skipped  8\n",
        "590975515\n",
        "extracting with thr_boilerpipe\n",
        "processed "
       ]
      },
      {
       "output_type": "stream",
       "stream": "stdout",
       "text": [
        " 705\n",
        "skipped  8\n",
        "590975517\n",
        "extracting with thr_boilerpipe\n",
        "processed "
       ]
      },
      {
       "output_type": "stream",
       "stream": "stdout",
       "text": [
        " 706\n",
        "skipped  8\n",
        "590976484\n",
        "extracting with thr_boilerpipe\n",
        "processed "
       ]
      },
      {
       "output_type": "stream",
       "stream": "stdout",
       "text": [
        " 707\n",
        "skipped  8\n",
        "591998702\n",
        "extracting with thr_boilerpipe\n",
        "processed "
       ]
      },
      {
       "output_type": "stream",
       "stream": "stdout",
       "text": [
        " 708\n",
        "skipped  8\n",
        "591998982\n",
        "extracting with thr_boilerpipe\n",
        "Total_time"
       ]
      },
      {
       "output_type": "stream",
       "stream": "stdout",
       "text": [
        " 0:05:07.021219\n",
        "Time per download 0:00:00.428202\n"
       ]
      },
      {
       "output_type": "stream",
       "stream": "stderr",
       "text": [
        "  File \"<ipython-input-73-5462c770f344>\", line 17, in <module>\n",
        "    res = comp_extractors( extractor_training_object )\n",
        "  File \"<ipython-input-22-91249bf1c046>\", line 19, in comp_extractors\n",
        "    extraction_results = get_extraction_results( eto )\n",
        "  File \"<ipython-input-66-716979e1aa41>\", line 17, in get_extraction_results\n",
        "    ret['thr_boiler_pipe_ArticleExtractor'] =  extract_with_thr_boilerpipe_ArticleExtractor( raw_content)\n",
        "  File \"<ipython-input-68-fdb56e8b1b24>\", line 21, in <lambda>\n",
        "    extract_with_thr_boilerpipe_ArticleExtractor = lambda raw_content: thrift_bp_extract( raw_content, 'ArticleExtractor')\n",
        "  File \"<ipython-input-68-fdb56e8b1b24>\", line 4, in thrift_bp_extract\n",
        "    thrift_ret = client.extract_html( raw_content, extractor_type )\n",
        "  File \"thriftboilerpipe/ExtractorService.py\", line 44, in extract_html\n",
        "    return self.recv_extract_html()\n",
        "  File \"thriftboilerpipe/ExtractorService.py\", line 62, in recv_extract_html\n",
        "    raise x\n",
        "TApplicationException: Internal error processing extract_html\n"
       ]
      }
     ],
     "prompt_number": 73
    },
    {
     "cell_type": "code",
     "collapsed": false,
     "input": [
      "comps_downloads = cPickle.load(  file( \n",
      "            os.path.expanduser( \"~/Dropbox/mc/extractor_test/comps_downloads.pickle\"), \"rb\") )"
     ],
     "language": "python",
     "metadata": {},
     "outputs": [],
     "prompt_number": 65
    },
    {
     "cell_type": "heading",
     "level": 1,
     "metadata": {},
     "source": [
      "Results"
     ]
    },
    {
     "cell_type": "heading",
     "level": 2,
     "metadata": {},
     "source": [
      "Results Overall"
     ]
    },
    {
     "cell_type": "code",
     "collapsed": false,
     "input": [
      "comps_downloads[0]"
     ],
     "language": "python",
     "metadata": {},
     "outputs": [
      {
       "metadata": {},
       "output_type": "pyout",
       "prompt_number": 74,
       "text": [
        "{'downloads_id': 391881020,\n",
        " 'gold': {'f1': 1.0, 'precision': 1.0, 'recall': 1.0},\n",
        " 'media_id': 83371,\n",
        " 'py_boiler_pipe_ArticleExtractor': {'f1': 0.898148148148148,\n",
        "  'precision': 0.8220338983050848,\n",
        "  'recall': 0.9897959183673469},\n",
        " 'py_boiler_pipe_ArticleSentencesExtractor': {'f1': 0,\n",
        "  'precision': 0.0,\n",
        "  'recall': 0.0},\n",
        " 'py_boiler_pipe_CanolaExtractor': {'f1': 0.8729016786570742,\n",
        "  'precision': 0.8235294117647058,\n",
        "  'recall': 0.9285714285714286},\n",
        " 'py_boiler_pipe_DefaultExtractor': {'f1': 0.8656036446469247,\n",
        "  'precision': 0.7818930041152263,\n",
        "  'recall': 0.9693877551020408},\n",
        " 'py_boiler_pipe_KeepEverythingExtractor': {'f1': 0.4714459295261239,\n",
        "  'precision': 0.3094098883572568,\n",
        "  'recall': 0.9897959183673469},\n",
        " 'py_boiler_pipe_LargestContentExtractor': {'f1': 0.9440389294403893,\n",
        "  'precision': 0.9023255813953488,\n",
        "  'recall': 0.9897959183673469},\n",
        " 'py_boiler_pipe_NumWordsRulesExtractor': {'f1': 0.900473933649289,\n",
        "  'precision': 0.8407079646017699,\n",
        "  'recall': 0.9693877551020408},\n",
        " 'python_readibilty': {'f1': 0.9411764705882353,\n",
        "  'precision': 0.9435897435897436,\n",
        "  'recall': 0.9387755102040817},\n",
        " 'story_is_spidered': False,\n",
        " 'thr_boiler_pipe_ArticleExtractor': {'f1': 0.938875305623472,\n",
        "  'precision': 0.9014084507042254,\n",
        "  'recall': 0.9795918367346939},\n",
        " 'thr_boiler_pipe_DefaultExtractor': {'f1': 0.7840670859538783,\n",
        "  'precision': 0.6654804270462633,\n",
        "  'recall': 0.9540816326530612}}"
       ]
      }
     ],
     "prompt_number": 74
    },
    {
     "cell_type": "code",
     "collapsed": false,
     "input": [
      "df = get_data_frame_from_comparision_objects( comps_downloads )\n",
      "print_results_by_measurement_type( df )\n"
     ],
     "language": "python",
     "metadata": {},
     "outputs": [
      {
       "output_type": "stream",
       "stream": "stdout",
       "text": [
        "       precision_gold  precision_py_boiler_pipe_ArticleExtractor  \\\n",
        "count             709                                 709.000000   \n",
        "mean                1                                   0.743752   \n",
        "std                 0                                   0.283451   \n",
        "min                 1                                   0.000000   \n",
        "2%                  1                                   0.004002   \n",
        "5%                  1                                   0.023810   \n",
        "10%                 1                                   0.190711   \n",
        "50%                 1                                   0.861842   \n",
        "max                 1                                   0.990968   \n",
        "\n",
        "       precision_py_boiler_pipe_ArticleSentencesExtractor  \\\n",
        "count                                         709.000000    \n",
        "mean                                            0.000437    \n",
        "std                                             0.011624    \n",
        "min                                             0.000000    \n",
        "2%                                              0.000000    \n",
        "5%                                              0.000000    \n",
        "10%                                             0.000000    \n",
        "50%                                             0.000000    \n",
        "max                                             0.309524    \n",
        "\n",
        "       precision_py_boiler_pipe_CanolaExtractor  \\\n",
        "count                                709.000000   \n",
        "mean                                   0.559867   \n",
        "std                                    0.289836   \n",
        "min                                    0.000000   \n",
        "2%                                     0.004046   \n",
        "5%                                     0.053150   \n",
        "10%                                    0.125632   \n",
        "50%                                    0.627586   \n",
        "max                                    0.982085   \n",
        "\n",
        "       precision_py_boiler_pipe_DefaultExtractor  \\\n",
        "count                                 709.000000   \n",
        "mean                                    0.633871   \n",
        "std                                     0.282888   \n",
        "min                                     0.000000   \n",
        "2%                                      0.000000   \n",
        "5%                                      0.028471   \n",
        "10%                                     0.165822   \n",
        "50%                                     0.726000   \n",
        "max                                     0.993469   \n",
        "\n",
        "       precision_py_boiler_pipe_KeepEverythingExtractor  \\\n",
        "count                                        709.000000   \n",
        "mean                                           0.351158   \n",
        "std                                            0.246308   \n",
        "min                                            0.000000   \n",
        "2%                                             0.012139   \n",
        "5%                                             0.039472   \n",
        "10%                                            0.067484   \n",
        "50%                                            0.305634   \n",
        "max                                            0.956033   \n",
        "\n",
        "       precision_py_boiler_pipe_LargestContentExtractor  \\\n",
        "count                                        709.000000   \n",
        "mean                                           0.744173   \n",
        "std                                            0.303411   \n",
        "min                                            0.000000   \n",
        "2%                                             0.004587   \n",
        "5%                                             0.018513   \n",
        "10%                                            0.047491   \n",
        "50%                                            0.870968   \n",
        "max                                            0.994749   \n",
        "\n",
        "       precision_py_boiler_pipe_NumWordsRulesExtractor  \\\n",
        "count                                       709.000000   \n",
        "mean                                          0.654955   \n",
        "std                                           0.276770   \n",
        "min                                           0.000000   \n",
        "2%                                            0.003950   \n",
        "5%                                            0.069395   \n",
        "10%                                           0.217952   \n",
        "50%                                           0.760870   \n",
        "max                                           0.991265   \n",
        "\n",
        "       precision_python_readibilty  \\\n",
        "count                   709.000000   \n",
        "mean                      0.909932   \n",
        "std                       0.196690   \n",
        "min                       0.009811   \n",
        "2%                        0.073263   \n",
        "5%                        0.409343   \n",
        "10%                       0.780636   \n",
        "50%                       0.977199   \n",
        "max                       1.000000   \n",
        "\n",
        "       precision_thr_boiler_pipe_ArticleExtractor  \\\n",
        "count                                  709.000000   \n",
        "mean                                     0.628442   \n",
        "std                                      0.398688   \n",
        "min                                      0.000000   \n",
        "2%                                       0.003212   \n",
        "5%                                       0.008029   \n",
        "10%                                      0.019322   \n",
        "50%                                      0.878049   \n",
        "max                                      1.000000   \n",
        "\n",
        "       precision_thr_boiler_pipe_DefaultExtractor  \n",
        "count                                  709.000000  \n",
        "mean                                     0.555218  \n",
        "std                                      0.349223  \n",
        "min                                      0.000000  \n",
        "2%                                       0.005259  \n",
        "5%                                       0.012785  \n",
        "10%                                      0.024934  \n",
        "50%                                      0.637229  \n",
        "max                                      1.000000  \n",
        "       recall_gold  recall_py_boiler_pipe_ArticleExtractor  \\\n",
        "count          709                              709.000000   \n",
        "mean             1                                0.805785   \n",
        "std              0                                0.274766   \n",
        "min              1                                0.000000   \n",
        "2%               1                                0.022585   \n",
        "5%               1                                0.058824   \n",
        "10%              1                                0.233867   \n",
        "50%              1                                0.920000   \n",
        "max              1                                1.000000   \n",
        "\n",
        "       recall_py_boiler_pipe_ArticleSentencesExtractor  \\\n",
        "count                                       709.000000   \n",
        "mean                                          0.000029   \n",
        "std                                           0.000769   \n",
        "min                                           0.000000   \n",
        "2%                                            0.000000   \n",
        "5%                                            0.000000   \n",
        "10%                                           0.000000   \n",
        "50%                                           0.000000   \n",
        "max                                           0.020472   \n",
        "\n",
        "       recall_py_boiler_pipe_CanolaExtractor  \\\n",
        "count                             709.000000   \n",
        "mean                                0.809303   \n",
        "std                                 0.200048   \n",
        "min                                 0.000000   \n",
        "2%                                  0.081745   \n",
        "5%                                  0.333653   \n",
        "10%                                 0.577662   \n",
        "50%                                 0.880184   \n",
        "max                                 0.997429   \n",
        "\n",
        "       recall_py_boiler_pipe_DefaultExtractor  \\\n",
        "count                              709.000000   \n",
        "mean                                 0.780991   \n",
        "std                                  0.249576   \n",
        "min                                  0.000000   \n",
        "2%                                   0.000000   \n",
        "5%                                   0.095378   \n",
        "10%                                  0.353777   \n",
        "50%                                  0.874126   \n",
        "max                                  0.997429   \n",
        "\n",
        "       recall_py_boiler_pipe_KeepEverythingExtractor  \\\n",
        "count                                     709.000000   \n",
        "mean                                        0.914876   \n",
        "std                                         0.118623   \n",
        "min                                         0.000000   \n",
        "2%                                          0.538462   \n",
        "5%                                          0.782886   \n",
        "10%                                         0.865614   \n",
        "50%                                         0.938620   \n",
        "max                                         1.000000   \n",
        "\n",
        "       recall_py_boiler_pipe_LargestContentExtractor  \\\n",
        "count                                     709.000000   \n",
        "mean                                        0.701460   \n",
        "std                                         0.317048   \n",
        "min                                         0.000000   \n",
        "2%                                          0.011802   \n",
        "5%                                          0.034231   \n",
        "10%                                         0.075996   \n",
        "50%                                         0.857143   \n",
        "max                                         0.997409   \n",
        "\n",
        "       recall_py_boiler_pipe_NumWordsRulesExtractor  recall_python_readibilty  \\\n",
        "count                                    709.000000                709.000000   \n",
        "mean                                       0.833080                  0.859992   \n",
        "std                                        0.196529                  0.246466   \n",
        "min                                        0.000000                  0.002874   \n",
        "2%                                         0.080144                  0.038143   \n",
        "5%                                         0.310962                  0.093615   \n",
        "10%                                        0.641447                  0.596880   \n",
        "50%                                        0.891654                  0.954128   \n",
        "max                                        0.997852                  1.000000   \n",
        "\n",
        "       recall_thr_boiler_pipe_ArticleExtractor  \\\n",
        "count                               709.000000   \n",
        "mean                                  0.706731   \n",
        "std                                   0.404080   \n",
        "min                                   0.000000   \n",
        "2%                                    0.008620   \n",
        "5%                                    0.019078   \n",
        "10%                                   0.040008   \n",
        "50%                                   0.975962   \n",
        "max                                   1.000000   \n",
        "\n",
        "       recall_thr_boiler_pipe_DefaultExtractor  \n",
        "count                               709.000000  \n",
        "mean                                  0.751379  \n",
        "std                                   0.360973  \n",
        "min                                   0.000000  \n",
        "2%                                    0.017128  \n",
        "5%                                    0.032103  \n",
        "10%                                   0.053490  \n",
        "50%                                   0.954274  \n",
        "max                                   1.000000  \n",
        "       f1_gold  f1_py_boiler_pipe_ArticleExtractor  \\\n",
        "count      709                          709.000000   \n",
        "mean         1                            0.756813   \n",
        "std          0                            0.280207   \n",
        "min          1                            0.000000   \n",
        "2%           1                            0.007380   \n",
        "5%           1                            0.030489   \n",
        "10%          1                            0.165069   \n",
        "50%          1                            0.882155   \n",
        "max          1                            0.994777   \n",
        "\n",
        "       f1_py_boiler_pipe_ArticleSentencesExtractor  \\\n",
        "count                                   709.000000   \n",
        "mean                                      0.000054   \n",
        "std                                       0.001442   \n",
        "min                                       0.000000   \n",
        "2%                                        0.000000   \n",
        "5%                                        0.000000   \n",
        "10%                                       0.000000   \n",
        "50%                                       0.000000   \n",
        "max                                       0.038405   \n",
        "\n",
        "       f1_py_boiler_pipe_CanolaExtractor  f1_py_boiler_pipe_DefaultExtractor  \\\n",
        "count                         709.000000                          709.000000   \n",
        "mean                            0.623477                            0.670189   \n",
        "std                             0.268275                            0.271653   \n",
        "min                             0.000000                            0.000000   \n",
        "2%                              0.007836                            0.000000   \n",
        "5%                              0.094016                            0.033595   \n",
        "10%                             0.203038                            0.187118   \n",
        "50%                             0.699983                            0.777651   \n",
        "max                             0.986559                            0.986933   \n",
        "\n",
        "       f1_py_boiler_pipe_KeepEverythingExtractor  \\\n",
        "count                                 709.000000   \n",
        "mean                                    0.463295   \n",
        "std                                     0.257087   \n",
        "min                                     0.000000   \n",
        "2%                                      0.023895   \n",
        "5%                                      0.075663   \n",
        "10%                                     0.126259   \n",
        "50%                                     0.458901   \n",
        "max                                     0.975148   \n",
        "\n",
        "       f1_py_boiler_pipe_LargestContentExtractor  \\\n",
        "count                                 709.000000   \n",
        "mean                                    0.707175   \n",
        "std                                     0.307054   \n",
        "min                                     0.000000   \n",
        "2%                                      0.008247   \n",
        "5%                                      0.022703   \n",
        "10%                                     0.055075   \n",
        "50%                                     0.848148   \n",
        "max                                     0.987313   \n",
        "\n",
        "       f1_py_boiler_pipe_NumWordsRulesExtractor  f1_python_readibilty  \\\n",
        "count                                709.000000            709.000000   \n",
        "mean                                   0.704248              0.861987   \n",
        "std                                    0.254059              0.242245   \n",
        "min                                    0.000000              0.005525   \n",
        "2%                                     0.007593              0.040732   \n",
        "5%                                     0.117909              0.127670   \n",
        "10%                                    0.318135              0.568254   \n",
        "50%                                    0.804428              0.950690   \n",
        "max                                    0.989595              1.000000   \n",
        "\n",
        "       f1_thr_boiler_pipe_ArticleExtractor  \\\n",
        "count                           709.000000   \n",
        "mean                              0.639403   \n",
        "std                               0.402629   \n",
        "min                               0.000000   \n",
        "2%                                0.005083   \n",
        "5%                                0.010944   \n",
        "10%                               0.025470   \n",
        "50%                               0.901982   \n",
        "max                               1.000000   \n",
        "\n",
        "       f1_thr_boiler_pipe_DefaultExtractor  \n",
        "count                           709.000000  \n",
        "mean                              0.590392  \n",
        "std                               0.349566  \n",
        "min                               0.000000  \n",
        "2%                                0.008021  \n",
        "5%                                0.016681  \n",
        "10%                               0.033278  \n",
        "50%                               0.695518  \n",
        "max                               0.998779  \n"
       ]
      }
     ],
     "prompt_number": 75
    },
    {
     "cell_type": "code",
     "collapsed": false,
     "input": [
      "non_spidered_downloads = remove_spidered_downloads( comps_downloads )\n",
      "\n",
      "df = get_data_frame_from_comparision_objects( non_spidered_downloads )\n",
      "print_results_by_measurement_type( df )\n"
     ],
     "language": "python",
     "metadata": {},
     "outputs": [
      {
       "output_type": "stream",
       "stream": "stdout",
       "text": [
        "       precision_gold  precision_py_boiler_pipe_ArticleExtractor  \\\n",
        "count             601                                 601.000000   \n",
        "mean                1                                   0.740157   \n",
        "std                 0                                   0.279127   \n",
        "min                 1                                   0.000000   \n",
        "2%                  1                                   0.003984   \n",
        "5%                  1                                   0.023438   \n",
        "10%                 1                                   0.213873   \n",
        "50%                 1                                   0.859296   \n",
        "max                 1                                   0.988089   \n",
        "\n",
        "       precision_py_boiler_pipe_ArticleSentencesExtractor  \\\n",
        "count                                         601.000000    \n",
        "mean                                            0.000515    \n",
        "std                                             0.012626    \n",
        "min                                             0.000000    \n",
        "2%                                              0.000000    \n",
        "5%                                              0.000000    \n",
        "10%                                             0.000000    \n",
        "50%                                             0.000000    \n",
        "max                                             0.309524    \n",
        "\n",
        "       precision_py_boiler_pipe_CanolaExtractor  \\\n",
        "count                                601.000000   \n",
        "mean                                   0.549850   \n",
        "std                                    0.285852   \n",
        "min                                    0.000000   \n",
        "2%                                     0.002198   \n",
        "5%                                     0.042590   \n",
        "10%                                    0.125749   \n",
        "50%                                    0.609137   \n",
        "max                                    0.979773   \n",
        "\n",
        "       precision_py_boiler_pipe_DefaultExtractor  \\\n",
        "count                                 601.000000   \n",
        "mean                                    0.629166   \n",
        "std                                     0.277645   \n",
        "min                                     0.000000   \n",
        "2%                                      0.000000   \n",
        "5%                                      0.017544   \n",
        "10%                                     0.174323   \n",
        "50%                                     0.713615   \n",
        "max                                     0.981651   \n",
        "\n",
        "       precision_py_boiler_pipe_KeepEverythingExtractor  \\\n",
        "count                                        601.000000   \n",
        "mean                                           0.329332   \n",
        "std                                            0.233642   \n",
        "min                                            0.000000   \n",
        "2%                                             0.010258   \n",
        "5%                                             0.036174   \n",
        "10%                                            0.062707   \n",
        "50%                                            0.285622   \n",
        "max                                            0.913591   \n",
        "\n",
        "       precision_py_boiler_pipe_LargestContentExtractor  \\\n",
        "count                                        601.000000   \n",
        "mean                                           0.745410   \n",
        "std                                            0.296023   \n",
        "min                                            0.000000   \n",
        "2%                                             0.003861   \n",
        "5%                                             0.020619   \n",
        "10%                                            0.064394   \n",
        "50%                                            0.862944   \n",
        "max                                            0.982402   \n",
        "\n",
        "       precision_py_boiler_pipe_NumWordsRulesExtractor  \\\n",
        "count                                       601.000000   \n",
        "mean                                          0.653895   \n",
        "std                                           0.270699   \n",
        "min                                           0.000000   \n",
        "2%                                            0.003175   \n",
        "5%                                            0.067548   \n",
        "10%                                           0.236220   \n",
        "50%                                           0.755814   \n",
        "max                                           0.982402   \n",
        "\n",
        "       precision_python_readibilty  \\\n",
        "count                   601.000000   \n",
        "mean                      0.924880   \n",
        "std                       0.165005   \n",
        "min                       0.013793   \n",
        "2%                        0.241379   \n",
        "5%                        0.615385   \n",
        "10%                       0.849057   \n",
        "50%                       0.977778   \n",
        "max                       1.000000   \n",
        "\n",
        "       precision_thr_boiler_pipe_ArticleExtractor  \\\n",
        "count                                  601.000000   \n",
        "mean                                     0.609960   \n",
        "std                                      0.404626   \n",
        "min                                      0.000000   \n",
        "2%                                       0.003058   \n",
        "5%                                       0.006623   \n",
        "10%                                      0.018248   \n",
        "50%                                      0.870079   \n",
        "max                                      1.000000   \n",
        "\n",
        "       precision_thr_boiler_pipe_DefaultExtractor  \n",
        "count                                  601.000000  \n",
        "mean                                     0.534960  \n",
        "std                                      0.350879  \n",
        "min                                      0.000000  \n",
        "2%                                       0.005222  \n",
        "5%                                       0.010448  \n",
        "10%                                      0.021786  \n",
        "50%                                      0.608193  \n",
        "max                                      1.000000  \n",
        "       recall_gold  recall_py_boiler_pipe_ArticleExtractor  \\\n",
        "count          601                              601.000000   \n",
        "mean             1                                0.812731   \n",
        "std              0                                0.265081   \n",
        "min              1                                0.000000   \n",
        "2%               1                                0.022222   \n",
        "5%               1                                0.058824   \n",
        "10%              1                                0.310811   \n",
        "50%              1                                0.917178   \n",
        "max              1                                1.000000   \n",
        "\n",
        "       recall_py_boiler_pipe_ArticleSentencesExtractor  \\\n",
        "count                                       601.000000   \n",
        "mean                                          0.000034   \n",
        "std                                           0.000835   \n",
        "min                                           0.000000   \n",
        "2%                                            0.000000   \n",
        "5%                                            0.000000   \n",
        "10%                                           0.000000   \n",
        "50%                                           0.000000   \n",
        "max                                           0.020472   \n",
        "\n",
        "       recall_py_boiler_pipe_CanolaExtractor  \\\n",
        "count                             601.000000   \n",
        "mean                                0.802074   \n",
        "std                                 0.203839   \n",
        "min                                 0.000000   \n",
        "2%                                  0.052632   \n",
        "5%                                  0.307692   \n",
        "10%                                 0.571429   \n",
        "50%                                 0.871795   \n",
        "max                                 0.997429   \n",
        "\n",
        "       recall_py_boiler_pipe_DefaultExtractor  \\\n",
        "count                              601.000000   \n",
        "mean                                 0.773389   \n",
        "std                                  0.255432   \n",
        "min                                  0.000000   \n",
        "2%                                   0.000000   \n",
        "5%                                   0.080000   \n",
        "10%                                  0.319372   \n",
        "50%                                  0.872222   \n",
        "max                                  0.997429   \n",
        "\n",
        "       recall_py_boiler_pipe_KeepEverythingExtractor  \\\n",
        "count                                     601.000000   \n",
        "mean                                        0.914629   \n",
        "std                                         0.117758   \n",
        "min                                         0.000000   \n",
        "2%                                          0.692308   \n",
        "5%                                          0.789474   \n",
        "10%                                         0.865169   \n",
        "50%                                         0.937050   \n",
        "max                                         1.000000   \n",
        "\n",
        "       recall_py_boiler_pipe_LargestContentExtractor  \\\n",
        "count                                     601.000000   \n",
        "mean                                        0.717584   \n",
        "std                                         0.306372   \n",
        "min                                         0.000000   \n",
        "2%                                          0.010778   \n",
        "5%                                          0.034483   \n",
        "10%                                         0.093750   \n",
        "50%                                         0.859649   \n",
        "max                                         0.997409   \n",
        "\n",
        "       recall_py_boiler_pipe_NumWordsRulesExtractor  recall_python_readibilty  \\\n",
        "count                                    601.000000                601.000000   \n",
        "mean                                       0.830285                  0.867044   \n",
        "std                                        0.196843                  0.227136   \n",
        "min                                        0.000000                  0.012255   \n",
        "2%                                         0.052632                  0.049689   \n",
        "5%                                         0.392947                  0.166667   \n",
        "10%                                        0.641026                  0.657534   \n",
        "50%                                        0.890957                  0.950820   \n",
        "max                                        0.997852                  1.000000   \n",
        "\n",
        "       recall_thr_boiler_pipe_ArticleExtractor  \\\n",
        "count                               601.000000   \n",
        "mean                                  0.692083   \n",
        "std                                   0.412559   \n",
        "min                                   0.000000   \n",
        "2%                                    0.007156   \n",
        "5%                                    0.017483   \n",
        "10%                                   0.034446   \n",
        "50%                                   0.974194   \n",
        "max                                   1.000000   \n",
        "\n",
        "       recall_thr_boiler_pipe_DefaultExtractor  \n",
        "count                               601.000000  \n",
        "mean                                  0.730151  \n",
        "std                                   0.376488  \n",
        "min                                   0.000000  \n",
        "2%                                    0.016484  \n",
        "5%                                    0.027933  \n",
        "10%                                   0.046092  \n",
        "50%                                   0.954248  \n",
        "max                                   1.000000  \n",
        "       f1_gold  f1_py_boiler_pipe_ArticleExtractor  \\\n",
        "count      601                          601.000000   \n",
        "mean         1                            0.759977   \n",
        "std          0                            0.271806   \n",
        "min          1                            0.000000   \n",
        "2%           1                            0.007246   \n",
        "5%           1                            0.029412   \n",
        "10%          1                            0.256983   \n",
        "50%          1                            0.879257   \n",
        "max          1                            0.987313   \n",
        "\n",
        "       f1_py_boiler_pipe_ArticleSentencesExtractor  \\\n",
        "count                                   601.000000   \n",
        "mean                                      0.000064   \n",
        "std                                       0.001567   \n",
        "min                                       0.000000   \n",
        "2%                                        0.000000   \n",
        "5%                                        0.000000   \n",
        "10%                                       0.000000   \n",
        "50%                                       0.000000   \n",
        "max                                       0.038405   \n",
        "\n",
        "       f1_py_boiler_pipe_CanolaExtractor  f1_py_boiler_pipe_DefaultExtractor  \\\n",
        "count                         601.000000                          601.000000   \n",
        "mean                            0.617464                            0.668067   \n",
        "std                             0.266504                            0.269835   \n",
        "min                             0.000000                            0.000000   \n",
        "2%                              0.004315                            0.000000   \n",
        "5%                              0.080780                            0.023256   \n",
        "10%                             0.189921                            0.187135   \n",
        "50%                             0.691293                            0.772388   \n",
        "max                             0.974256                            0.986933   \n",
        "\n",
        "       f1_py_boiler_pipe_KeepEverythingExtractor  \\\n",
        "count                                 601.000000   \n",
        "mean                                    0.443883   \n",
        "std                                     0.249808   \n",
        "min                                     0.000000   \n",
        "2%                                      0.020263   \n",
        "5%                                      0.066079   \n",
        "10%                                     0.117464   \n",
        "50%                                     0.434783   \n",
        "max                                     0.946723   \n",
        "\n",
        "       f1_py_boiler_pipe_LargestContentExtractor  \\\n",
        "count                                 601.000000   \n",
        "mean                                    0.718765   \n",
        "std                                     0.297337   \n",
        "min                                     0.000000   \n",
        "2%                                      0.007194   \n",
        "5%                                      0.024818   \n",
        "10%                                     0.062827   \n",
        "50%                                     0.851711   \n",
        "max                                     0.987313   \n",
        "\n",
        "       f1_py_boiler_pipe_NumWordsRulesExtractor  f1_python_readibilty  \\\n",
        "count                                601.000000            601.000000   \n",
        "mean                                   0.707795              0.874278   \n",
        "std                                    0.247907              0.218192   \n",
        "min                                    0.000000              0.023585   \n",
        "2%                                     0.006314              0.072539   \n",
        "5%                                     0.110977              0.181818   \n",
        "10%                                    0.359116              0.708571   \n",
        "50%                                    0.803134              0.948718   \n",
        "max                                    0.987313              1.000000   \n",
        "\n",
        "       f1_thr_boiler_pipe_ArticleExtractor  \\\n",
        "count                           601.000000   \n",
        "mean                              0.624692   \n",
        "std                               0.408753   \n",
        "min                               0.000000   \n",
        "2%                                0.004386   \n",
        "5%                                0.010417   \n",
        "10%                               0.023077   \n",
        "50%                               0.893434   \n",
        "max                               1.000000   \n",
        "\n",
        "       f1_thr_boiler_pipe_DefaultExtractor  \n",
        "count                           601.000000  \n",
        "mean                              0.572334  \n",
        "std                               0.356012  \n",
        "min                               0.000000  \n",
        "2%                                0.007509  \n",
        "5%                                0.014286  \n",
        "10%                               0.028986  \n",
        "50%                               0.663594  \n",
        "max                               0.998779  \n"
       ]
      }
     ],
     "prompt_number": 76
    },
    {
     "cell_type": "code",
     "collapsed": false,
     "input": [
      "print \"spidered\"\n",
      "df = get_data_frame_from_comparision_objects( only_spidered_downloads( comps_downloads ) )\n",
      "print_results_by_measurement_type( df )\n"
     ],
     "language": "python",
     "metadata": {},
     "outputs": [
      {
       "output_type": "stream",
       "stream": "stdout",
       "text": [
        "spidered\n",
        "       precision_gold  precision_py_boiler_pipe_ArticleExtractor  \\\n",
        "count             108                                 108.000000   \n",
        "mean                1                                   0.763759   \n",
        "std                 0                                   0.307015   \n",
        "min                 1                                   0.002899   \n",
        "2%                  1                                   0.013435   \n",
        "5%                  1                                   0.029351   \n",
        "10%                 1                                   0.076326   \n",
        "50%                 1                                   0.887346   \n",
        "max                 1                                   0.990968   \n",
        "\n",
        "       precision_py_boiler_pipe_ArticleSentencesExtractor  \\\n",
        "count                                                108    \n",
        "mean                                                   0    \n",
        "std                                                    0    \n",
        "min                                                    0    \n",
        "2%                                                     0    \n",
        "5%                                                     0    \n",
        "10%                                                    0    \n",
        "50%                                                    0    \n",
        "max                                                    0    \n",
        "\n",
        "       precision_py_boiler_pipe_CanolaExtractor  \\\n",
        "count                                108.000000   \n",
        "mean                                   0.615616   \n",
        "std                                    0.306512   \n",
        "min                                    0.002242   \n",
        "2%                                     0.052741   \n",
        "5%                                     0.098303   \n",
        "10%                                    0.134120   \n",
        "50%                                    0.730356   \n",
        "max                                    0.982085   \n",
        "\n",
        "       precision_py_boiler_pipe_DefaultExtractor  \\\n",
        "count                                 108.000000   \n",
        "mean                                    0.660055   \n",
        "std                                     0.310547   \n",
        "min                                     0.000000   \n",
        "2%                                      0.018757   \n",
        "5%                                      0.061666   \n",
        "10%                                     0.125806   \n",
        "50%                                     0.816143   \n",
        "max                                     0.993469   \n",
        "\n",
        "       precision_py_boiler_pipe_KeepEverythingExtractor  \\\n",
        "count                                        108.000000   \n",
        "mean                                           0.472615   \n",
        "std                                            0.278852   \n",
        "min                                            0.002789   \n",
        "2%                                             0.044233   \n",
        "5%                                             0.062028   \n",
        "10%                                            0.090576   \n",
        "50%                                            0.484823   \n",
        "max                                            0.956033   \n",
        "\n",
        "       precision_py_boiler_pipe_LargestContentExtractor  \\\n",
        "count                                        108.000000   \n",
        "mean                                           0.737291   \n",
        "std                                            0.343068   \n",
        "min                                            0.003731   \n",
        "2%                                             0.009898   \n",
        "5%                                             0.012590   \n",
        "10%                                            0.030961   \n",
        "50%                                            0.896185   \n",
        "max                                            0.994749   \n",
        "\n",
        "       precision_py_boiler_pipe_NumWordsRulesExtractor  \\\n",
        "count                                       108.000000   \n",
        "mean                                          0.660853   \n",
        "std                                           0.309699   \n",
        "min                                           0.003404   \n",
        "2%                                            0.054765   \n",
        "5%                                            0.098685   \n",
        "10%                                           0.154611   \n",
        "50%                                           0.799741   \n",
        "max                                           0.991265   \n",
        "\n",
        "       precision_python_readibilty  \\\n",
        "count                   108.000000   \n",
        "mean                      0.826749   \n",
        "std                       0.308338   \n",
        "min                       0.009811   \n",
        "2%                        0.027668   \n",
        "5%                        0.069709   \n",
        "10%                       0.177386   \n",
        "50%                       0.974176   \n",
        "max                       1.000000   \n",
        "\n",
        "       precision_thr_boiler_pipe_ArticleExtractor  \\\n",
        "count                                  108.000000   \n",
        "mean                                     0.731285   \n",
        "std                                      0.347983   \n",
        "min                                      0.003079   \n",
        "2%                                       0.008216   \n",
        "5%                                       0.017428   \n",
        "10%                                      0.041506   \n",
        "50%                                      0.913215   \n",
        "max                                      0.996908   \n",
        "\n",
        "       precision_thr_boiler_pipe_DefaultExtractor  \n",
        "count                                  108.000000  \n",
        "mean                                     0.667947  \n",
        "std                                      0.318537  \n",
        "min                                      0.003623  \n",
        "2%                                       0.025591  \n",
        "5%                                       0.069110  \n",
        "10%                                      0.134852  \n",
        "50%                                      0.797931  \n",
        "max                                      0.998761  \n",
        "       recall_gold  recall_py_boiler_pipe_ArticleExtractor  \\\n",
        "count          108                              108.000000   \n",
        "mean             1                                0.767135   \n",
        "std              0                                0.322093   \n",
        "min              1                                0.012876   \n",
        "2%               1                                0.046481   \n",
        "5%               1                                0.060836   \n",
        "10%              1                                0.087225   \n",
        "50%              1                                0.929098   \n",
        "max              1                                1.000000   \n",
        "\n",
        "       recall_py_boiler_pipe_ArticleSentencesExtractor  \\\n",
        "count                                              108   \n",
        "mean                                                 0   \n",
        "std                                                  0   \n",
        "min                                                  0   \n",
        "2%                                                   0   \n",
        "5%                                                   0   \n",
        "10%                                                  0   \n",
        "50%                                                  0   \n",
        "max                                                  0   \n",
        "\n",
        "       recall_py_boiler_pipe_CanolaExtractor  \\\n",
        "count                             108.000000   \n",
        "mean                                0.849529   \n",
        "std                                 0.172865   \n",
        "min                                 0.156566   \n",
        "2%                                  0.196731   \n",
        "5%                                  0.439646   \n",
        "10%                                 0.703911   \n",
        "50%                                 0.906307   \n",
        "max                                 0.994856   \n",
        "\n",
        "       recall_py_boiler_pipe_DefaultExtractor  \\\n",
        "count                              108.000000   \n",
        "mean                                 0.823295   \n",
        "std                                  0.210135   \n",
        "min                                  0.000000   \n",
        "2%                                   0.109326   \n",
        "5%                                   0.287291   \n",
        "10%                                  0.609275   \n",
        "50%                                  0.886602   \n",
        "max                                  0.994580   \n",
        "\n",
        "       recall_py_boiler_pipe_KeepEverythingExtractor  \\\n",
        "count                                     108.000000   \n",
        "mean                                        0.916251   \n",
        "std                                         0.123883   \n",
        "min                                         0.204773   \n",
        "2%                                          0.509903   \n",
        "5%                                          0.752874   \n",
        "10%                                         0.881987   \n",
        "50%                                         0.943998   \n",
        "max                                         1.000000   \n",
        "\n",
        "       recall_py_boiler_pipe_LargestContentExtractor  \\\n",
        "count                                     108.000000   \n",
        "mean                                        0.611730   \n",
        "std                                         0.359432   \n",
        "min                                         0.005025   \n",
        "2%                                          0.013555   \n",
        "5%                                          0.032341   \n",
        "10%                                         0.051268   \n",
        "50%                                         0.719308   \n",
        "max                                         0.986637   \n",
        "\n",
        "       recall_py_boiler_pipe_NumWordsRulesExtractor  recall_python_readibilty  \\\n",
        "count                                    108.000000                108.000000   \n",
        "mean                                       0.848634                  0.820751   \n",
        "std                                        0.194951                  0.332890   \n",
        "min                                        0.079292                  0.002874   \n",
        "2%                                         0.130391                  0.016990   \n",
        "5%                                         0.294764                  0.037407   \n",
        "10%                                        0.710042                  0.081159   \n",
        "50%                                        0.900348                  0.971610   \n",
        "max                                        0.987930                  1.000000   \n",
        "\n",
        "       recall_thr_boiler_pipe_ArticleExtractor  \\\n",
        "count                               108.000000   \n",
        "mean                                  0.788241   \n",
        "std                                   0.343611   \n",
        "min                                   0.014540   \n",
        "2%                                    0.032170   \n",
        "5%                                    0.058052   \n",
        "10%                                   0.089529   \n",
        "50%                                   0.979877   \n",
        "max                                   1.000000   \n",
        "\n",
        "       recall_thr_boiler_pipe_DefaultExtractor  \n",
        "count                               108.000000  \n",
        "mean                                  0.869507  \n",
        "std                                   0.225256  \n",
        "min                                   0.087533  \n",
        "2%                                    0.114921  \n",
        "5%                                    0.271450  \n",
        "10%                                   0.543603  \n",
        "50%                                   0.954387  \n",
        "max                                   1.000000  "
       ]
      },
      {
       "output_type": "stream",
       "stream": "stdout",
       "text": [
        "\n",
        "       f1_gold  f1_py_boiler_pipe_ArticleExtractor  \\\n",
        "count      108                          108.000000   \n",
        "mean         1                            0.739209   \n",
        "std          0                            0.323862   \n",
        "min          1                            0.005777   \n",
        "2%           1                            0.015187   \n",
        "5%           1                            0.040443   \n",
        "10%          1                            0.069610   \n",
        "50%          1                            0.896467   \n",
        "max          1                            0.994777   \n",
        "\n",
        "       f1_py_boiler_pipe_ArticleSentencesExtractor  \\\n",
        "count                                          108   \n",
        "mean                                             0   \n",
        "std                                              0   \n",
        "min                                              0   \n",
        "2%                                               0   \n",
        "5%                                               0   \n",
        "10%                                              0   \n",
        "50%                                              0   \n",
        "max                                              0   \n",
        "\n",
        "       f1_py_boiler_pipe_CanolaExtractor  f1_py_boiler_pipe_DefaultExtractor  \\\n",
        "count                         108.000000                          108.000000   \n",
        "mean                            0.656935                            0.681997   \n",
        "std                             0.276804                            0.282563   \n",
        "min                             0.004464                            0.000000   \n",
        "2%                              0.099180                            0.033732   \n",
        "5%                              0.177400                            0.100176   \n",
        "10%                             0.232113                            0.200943   \n",
        "50%                             0.783502                            0.811930   \n",
        "max                             0.986559                            0.981556   \n",
        "\n",
        "       f1_py_boiler_pipe_KeepEverythingExtractor  \\\n",
        "count                                 108.000000   \n",
        "mean                                    0.571323   \n",
        "std                                     0.271120   \n",
        "min                                     0.005559   \n",
        "2%                                      0.084523   \n",
        "5%                                      0.115850   \n",
        "10%                                     0.165602   \n",
        "50%                                     0.602696   \n",
        "max                                     0.975148   \n",
        "\n",
        "       f1_py_boiler_pipe_LargestContentExtractor  \\\n",
        "count                                 108.000000   \n",
        "mean                                    0.642674   \n",
        "std                                     0.350910   \n",
        "min                                     0.004283   \n",
        "2%                                      0.013151   \n",
        "5%                                      0.020266   \n",
        "10%                                     0.035722   \n",
        "50%                                     0.796850   \n",
        "max                                     0.970168   \n",
        "\n",
        "       f1_py_boiler_pipe_NumWordsRulesExtractor  f1_python_readibilty  \\\n",
        "count                                108.000000            108.000000   \n",
        "mean                                   0.684515              0.793592   \n",
        "std                                    0.286360              0.340243   \n",
        "min                                    0.006780              0.005525   \n",
        "2%                                     0.102864              0.018270   \n",
        "5%                                     0.140361              0.036748   \n",
        "10%                                    0.218346              0.080691   \n",
        "50%                                    0.824475              0.961409   \n",
        "max                                    0.989595              1.000000   \n",
        "\n",
        "       f1_thr_boiler_pipe_ArticleExtractor  \\\n",
        "count                           108.000000   \n",
        "mean                              0.721266   \n",
        "std                               0.357463   \n",
        "min                               0.006138   \n",
        "2%                                0.011561   \n",
        "5%                                0.029779   \n",
        "10%                               0.062218   \n",
        "50%                               0.909680   \n",
        "max                               0.997525   \n",
        "\n",
        "       f1_thr_boiler_pipe_DefaultExtractor  \n",
        "count                           108.000000  \n",
        "mean                              0.690878  \n",
        "std                               0.292937  \n",
        "min                               0.007220  \n",
        "2%                                0.048827  \n",
        "5%                                0.112937  \n",
        "10%                               0.187165  \n",
        "50%                               0.833973  \n",
        "max                               0.998452  \n"
       ]
      }
     ],
     "prompt_number": 77
    },
    {
     "cell_type": "heading",
     "level": 2,
     "metadata": {},
     "source": [
      "Results by Subset"
     ]
    },
    {
     "cell_type": "code",
     "collapsed": false,
     "input": [
      "regional = { 2453107 }\n",
      "\n",
      "\n",
      "\n",
      "print \"region / pew knight study / 245107 \"\n",
      "df = get_data_frame_from_comparision_objects( filter_by_media_tags_id( non_spidered_downloads, regional ) )\n",
      "print_results_by_measurement_type( df )\n",
      "\n",
      "ap_english_us_top_25 = { 8875027 }\n",
      "print \"ap_english_us_top25 / 8875027 \"\n",
      "df = get_data_frame_from_comparision_objects( filter_by_media_tags_id( non_spidered_downloads, ap_english_us_top_25 ) )\n",
      "print_results_by_measurement_type( df )\n",
      "\n",
      "political_blogs = { 125 }\n",
      "print \"political blogs / 125\"\n",
      "df = get_data_frame_from_comparision_objects( filter_by_media_tags_id( non_spidered_downloads, political_blogs ) )\n",
      "print_results_by_measurement_type( df )\n",
      "\n",
      "\n",
      "russian = { 7796878 }\n",
      "print 'russian'\n",
      "df = get_data_frame_from_comparision_objects( filter_by_media_tags_id( non_spidered_downloads, russian ) )\n",
      "print_results_by_measurement_type( df )\n",
      "\n",
      "print 'brazil'\n",
      "df = get_data_frame_from_comparision_objects( filter_by_media_tags_id( non_spidered_downloads, {8877968,  8877969, 8877973, 8877970 } ) )\n",
      "print_results_by_measurement_type( df )\n",
      "\n",
      "arabic = { 8878255 }\n",
      "print 'arabic'\n",
      "df = get_data_frame_from_comparision_objects( filter_by_media_tags_id( non_spidered_downloads, arabic ) )\n",
      "print_results_by_measurement_type( df )\n",
      "                                          "
     ],
     "language": "python",
     "metadata": {},
     "outputs": [
      {
       "output_type": "stream",
       "stream": "stdout",
       "text": [
        "region / pew knight study / 245107 \n",
        "       precision_gold  precision_py_boiler_pipe_ArticleExtractor  \\\n",
        "count              99                                  99.000000   \n",
        "mean                1                                   0.730497   \n",
        "std                 0                                   0.254126   \n",
        "min                 1                                   0.021638   \n",
        "2%                  1                                   0.058144   \n",
        "5%                  1                                   0.191812   \n",
        "10%                 1                                   0.339346   \n",
        "50%                 1                                   0.855634   \n",
        "max                 1                                   0.977451   \n",
        "\n",
        "       precision_py_boiler_pipe_ArticleSentencesExtractor  \\\n",
        "count                                          99.000000    \n",
        "mean                                            0.003127    \n",
        "std                                             0.031108    \n",
        "min                                             0.000000    \n",
        "2%                                              0.000000    \n",
        "5%                                              0.000000    \n",
        "10%                                             0.000000    \n",
        "50%                                             0.000000    \n",
        "max                                             0.309524    \n",
        "\n",
        "       precision_py_boiler_pipe_CanolaExtractor  \\\n",
        "count                                 99.000000   \n",
        "mean                                   0.603325   \n",
        "std                                    0.220402   \n",
        "min                                    0.068873   \n",
        "2%                                     0.178570   \n",
        "5%                                     0.195998   \n",
        "10%                                    0.239692   \n",
        "50%                                    0.653451   \n",
        "max                                    0.911409   \n",
        "\n",
        "       precision_py_boiler_pipe_DefaultExtractor  \\\n",
        "count                                  99.000000   \n",
        "mean                                    0.669334   \n",
        "std                                     0.210591   \n",
        "min                                     0.087109   \n",
        "2%                                      0.142523   \n",
        "5%                                      0.287539   \n",
        "10%                                     0.334865   \n",
        "50%                                     0.709030   \n",
        "max                                     0.951528   \n",
        "\n",
        "       precision_py_boiler_pipe_KeepEverythingExtractor  \\\n",
        "count                                         99.000000   \n",
        "mean                                           0.402181   \n",
        "std                                            0.204563   \n",
        "min                                            0.058161   \n",
        "2%                                             0.076351   \n",
        "5%                                             0.091449   \n",
        "10%                                            0.112205   \n",
        "50%                                            0.371308   \n",
        "max                                            0.773504   \n",
        "\n",
        "       precision_py_boiler_pipe_LargestContentExtractor  \\\n",
        "count                                         99.000000   \n",
        "mean                                           0.786516   \n",
        "std                                            0.253222   \n",
        "min                                            0.033708   \n",
        "2%                                             0.035928   \n",
        "5%                                             0.052695   \n",
        "10%                                            0.401654   \n",
        "50%                                            0.882629   \n",
        "max                                            0.977451   \n",
        "\n",
        "       precision_py_boiler_pipe_NumWordsRulesExtractor  \\\n",
        "count                                        99.000000   \n",
        "mean                                          0.645020   \n",
        "std                                           0.216599   \n",
        "min                                           0.075733   \n",
        "2%                                            0.189406   \n",
        "5%                                            0.257510   \n",
        "10%                                           0.300302   \n",
        "50%                                           0.690299   \n",
        "max                                           0.963362   \n",
        "\n",
        "       precision_python_readibilty  \\\n",
        "count                    99.000000   \n",
        "mean                      0.926673   \n",
        "std                       0.138609   \n",
        "min                       0.143822   \n",
        "2%                        0.438315   \n",
        "5%                        0.614948   \n",
        "10%                       0.841220   \n",
        "50%                       0.968974   \n",
        "max                       1.000000   \n",
        "\n",
        "       precision_thr_boiler_pipe_ArticleExtractor  \\\n",
        "count                                   99.000000   \n",
        "mean                                     0.638565   \n",
        "std                                      0.325689   \n",
        "min                                      0.022250   \n",
        "2%                                       0.026711   \n",
        "5%                                       0.042044   \n",
        "10%                                      0.061152   \n",
        "50%                                      0.753870   \n",
        "max                                      0.989749   \n",
        "\n",
        "       precision_thr_boiler_pipe_DefaultExtractor  \n",
        "count                                   99.000000  \n",
        "mean                                     0.610429  \n",
        "std                                      0.249978  \n",
        "min                                      0.087406  \n",
        "2%                                       0.097743  \n",
        "5%                                       0.187686  \n",
        "10%                                      0.236001  \n",
        "50%                                      0.617523  \n",
        "max                                      0.980851  \n",
        "       recall_gold  recall_py_boiler_pipe_ArticleExtractor  \\\n",
        "count           99                               99.000000   \n",
        "mean             1                                0.848680   \n",
        "std              0                                0.193062   \n",
        "min              1                                0.067901   \n",
        "2%               1                                0.097876   \n",
        "5%               1                                0.409609   \n",
        "10%              1                                0.676557   \n",
        "50%              1                                0.914703   \n",
        "max              1                                0.993341   \n",
        "\n",
        "       recall_py_boiler_pipe_ArticleSentencesExtractor  \\\n",
        "count                                        99.000000   \n",
        "mean                                          0.000207   \n",
        "std                                           0.002058   \n",
        "min                                           0.000000   \n",
        "2%                                            0.000000   \n",
        "5%                                            0.000000   \n",
        "10%                                           0.000000   \n",
        "50%                                           0.000000   \n",
        "max                                           0.020472   \n",
        "\n",
        "       recall_py_boiler_pipe_CanolaExtractor  \\\n",
        "count                              99.000000   \n",
        "mean                                0.844213   \n",
        "std                                 0.108269   \n",
        "min                                 0.422374   \n",
        "2%                                  0.542033   \n",
        "5%                                  0.593156   \n",
        "10%                                 0.705541   \n",
        "50%                                 0.882083   \n",
        "max                                 0.987791   \n",
        "\n",
        "       recall_py_boiler_pipe_DefaultExtractor  \\\n",
        "count                               99.000000   \n",
        "mean                                 0.860696   \n",
        "std                                  0.121499   \n",
        "min                                  0.253968   \n",
        "2%                                   0.517735   \n",
        "5%                                   0.579318   \n",
        "10%                                  0.710183   \n",
        "50%                                  0.895105   \n",
        "max                                  0.986681   \n",
        "\n",
        "       recall_py_boiler_pipe_KeepEverythingExtractor  \\\n",
        "count                                      99.000000   \n",
        "mean                                        0.924781   \n",
        "std                                         0.036528   \n",
        "min                                         0.738562   \n",
        "2%                                          0.849661   \n",
        "5%                                          0.866116   \n",
        "10%                                         0.888651   \n",
        "50%                                         0.933036   \n",
        "max                                         0.993341   \n",
        "\n",
        "       recall_py_boiler_pipe_LargestContentExtractor  \\\n",
        "count                                      99.000000   \n",
        "mean                                        0.728798   \n",
        "std                                         0.274766   \n",
        "min                                         0.041379   \n",
        "2%                                          0.047393   \n",
        "5%                                          0.069693   \n",
        "10%                                         0.226484   \n",
        "50%                                         0.854911   \n",
        "max                                         0.985572   \n",
        "\n",
        "       recall_py_boiler_pipe_NumWordsRulesExtractor  recall_python_readibilty  \\\n",
        "count                                     99.000000                 99.000000   \n",
        "mean                                       0.876498                  0.915441   \n",
        "std                                        0.089291                  0.128770   \n",
        "min                                        0.448276                  0.077586   \n",
        "2%                                         0.600374                  0.640930   \n",
        "5%                                         0.697441                  0.685469   \n",
        "10%                                        0.789726                  0.847998   \n",
        "50%                                        0.904639                  0.946387   \n",
        "max                                        0.986681                  1.000000   \n",
        "\n",
        "       recall_thr_boiler_pipe_ArticleExtractor  \\\n",
        "count                                99.000000   \n",
        "mean                                  0.813821   \n",
        "std                                   0.341946   \n",
        "min                                   0.027972   \n",
        "2%                                    0.056410   \n",
        "5%                                    0.079944   \n",
        "10%                                   0.092131   \n",
        "50%                                   0.993174   \n",
        "max                                   1.000000   \n",
        "\n",
        "       recall_thr_boiler_pipe_DefaultExtractor  \n",
        "count                                99.000000  \n",
        "mean                                  0.942651  \n",
        "std                                   0.115500  \n",
        "min                                   0.285714  \n",
        "2%                                    0.510198  \n",
        "5%                                    0.778831  \n",
        "10%                                   0.860101  \n",
        "50%                                   0.985882  \n",
        "max                                   1.000000  "
       ]
      },
      {
       "output_type": "stream",
       "stream": "stdout",
       "text": [
        "\n",
        "       f1_gold  f1_py_boiler_pipe_ArticleExtractor  \\\n",
        "count       99                           99.000000   \n",
        "mean         1                            0.765140   \n",
        "std          0                            0.219826   \n",
        "min          1                            0.035176   \n",
        "2%           1                            0.065534   \n",
        "5%           1                            0.311998   \n",
        "10%          1                            0.488654   \n",
        "50%          1                            0.868217   \n",
        "max          1                            0.971837   \n",
        "\n",
        "       f1_py_boiler_pipe_ArticleSentencesExtractor  \\\n",
        "count                                    99.000000   \n",
        "mean                                      0.000388   \n",
        "std                                       0.003860   \n",
        "min                                       0.000000   \n",
        "2%                                        0.000000   \n",
        "5%                                        0.000000   \n",
        "10%                                       0.000000   \n",
        "50%                                       0.000000   \n",
        "max                                       0.038405   \n",
        "\n",
        "       f1_py_boiler_pipe_CanolaExtractor  f1_py_boiler_pipe_DefaultExtractor  \\\n",
        "count                          99.000000                           99.000000   \n",
        "mean                            0.678045                            0.733985   \n",
        "std                             0.188601                            0.177721   \n",
        "min                             0.127827                            0.159309   \n",
        "2%                              0.293293                            0.223785   \n",
        "5%                              0.311104                            0.428092   \n",
        "10%                             0.366320                            0.484591   \n",
        "50%                             0.717622                            0.791304   \n",
        "max                             0.933186                            0.959617   \n",
        "\n",
        "       f1_py_boiler_pipe_KeepEverythingExtractor  \\\n",
        "count                                  99.000000   \n",
        "mean                                    0.530552   \n",
        "std                                     0.210729   \n",
        "min                                     0.109541   \n",
        "2%                                      0.140531   \n",
        "5%                                      0.166162   \n",
        "10%                                     0.200544   \n",
        "50%                                     0.525896   \n",
        "max                                     0.851478   \n",
        "\n",
        "       f1_py_boiler_pipe_LargestContentExtractor  \\\n",
        "count                                  99.000000   \n",
        "mean                                    0.746387   \n",
        "std                                     0.266300   \n",
        "min                                     0.038462   \n",
        "2%                                      0.039443   \n",
        "5%                                      0.059673   \n",
        "10%                                     0.251082   \n",
        "50%                                     0.866142   \n",
        "max                                     0.979592   \n",
        "\n",
        "       f1_py_boiler_pipe_NumWordsRulesExtractor  f1_python_readibilty  \\\n",
        "count                                 99.000000             99.000000   \n",
        "mean                                   0.720843              0.908288   \n",
        "std                                    0.179827              0.140196   \n",
        "min                                    0.140069              0.136364   \n",
        "2%                                     0.315054              0.384693   \n",
        "5%                                     0.396596              0.715988   \n",
        "10%                                    0.441076              0.794279   \n",
        "50%                                    0.766467              0.950276   \n",
        "max                                    0.960774              1.000000   \n",
        "\n",
        "       f1_thr_boiler_pipe_ArticleExtractor  \\\n",
        "count                            99.000000   \n",
        "mean                              0.693991   \n",
        "std                               0.325722   \n",
        "min                               0.025532   \n",
        "2%                                0.038306   \n",
        "5%                                0.056527   \n",
        "10%                               0.070245   \n",
        "50%                               0.830508   \n",
        "max                               0.992573   \n",
        "\n",
        "       f1_thr_boiler_pipe_DefaultExtractor  \n",
        "count                            99.000000  \n",
        "mean                              0.709473  \n",
        "std                               0.212386  \n",
        "min                               0.143426  \n",
        "2%                                0.174606  \n",
        "5%                                0.290379  \n",
        "10%                               0.376066  \n",
        "50%                               0.748092  \n",
        "max                               0.988210  \n",
        "ap_english_us_top25 / 8875027 \n",
        "       precision_gold  precision_py_boiler_pipe_ArticleExtractor  \\\n",
        "count              99                                  99.000000   \n",
        "mean                1                                   0.730497   \n",
        "std                 0                                   0.254126   \n",
        "min                 1                                   0.021638   \n",
        "2%                  1                                   0.058144   \n",
        "5%                  1                                   0.191812   \n",
        "10%                 1                                   0.339346   \n",
        "50%                 1                                   0.855634   \n",
        "max                 1                                   0.977451   \n",
        "\n",
        "       precision_py_boiler_pipe_ArticleSentencesExtractor  \\\n",
        "count                                          99.000000    \n",
        "mean                                            0.003127    \n",
        "std                                             0.031108    \n",
        "min                                             0.000000    \n",
        "2%                                              0.000000    \n",
        "5%                                              0.000000    \n",
        "10%                                             0.000000    \n",
        "50%                                             0.000000    \n",
        "max                                             0.309524    \n",
        "\n",
        "       precision_py_boiler_pipe_CanolaExtractor  \\\n",
        "count                                 99.000000   \n",
        "mean                                   0.603325   \n",
        "std                                    0.220402   \n",
        "min                                    0.068873   \n",
        "2%                                     0.178570   \n",
        "5%                                     0.195998   \n",
        "10%                                    0.239692   \n",
        "50%                                    0.653451   \n",
        "max                                    0.911409   \n",
        "\n",
        "       precision_py_boiler_pipe_DefaultExtractor  \\\n",
        "count                                  99.000000   \n",
        "mean                                    0.669334   \n",
        "std                                     0.210591   \n",
        "min                                     0.087109   \n",
        "2%                                      0.142523   \n",
        "5%                                      0.287539   \n",
        "10%                                     0.334865   \n",
        "50%                                     0.709030   \n",
        "max                                     0.951528   \n",
        "\n",
        "       precision_py_boiler_pipe_KeepEverythingExtractor  \\\n",
        "count                                         99.000000   \n",
        "mean                                           0.402181   \n",
        "std                                            0.204563   \n",
        "min                                            0.058161   \n",
        "2%                                             0.076351   \n",
        "5%                                             0.091449   \n",
        "10%                                            0.112205   \n",
        "50%                                            0.371308   \n",
        "max                                            0.773504   \n",
        "\n",
        "       precision_py_boiler_pipe_LargestContentExtractor  \\\n",
        "count                                         99.000000   \n",
        "mean                                           0.786516   \n",
        "std                                            0.253222   \n",
        "min                                            0.033708   \n",
        "2%                                             0.035928   \n",
        "5%                                             0.052695   \n",
        "10%                                            0.401654   \n",
        "50%                                            0.882629   \n",
        "max                                            0.977451   \n",
        "\n",
        "       precision_py_boiler_pipe_NumWordsRulesExtractor  \\\n",
        "count                                        99.000000   \n",
        "mean                                          0.645020   \n",
        "std                                           0.216599   \n",
        "min                                           0.075733   \n",
        "2%                                            0.189406   \n",
        "5%                                            0.257510   \n",
        "10%                                           0.300302   \n",
        "50%                                           0.690299   \n",
        "max                                           0.963362   \n",
        "\n",
        "       precision_python_readibilty  \\\n",
        "count                    99.000000   \n",
        "mean                      0.926673   \n",
        "std                       0.138609   \n",
        "min                       0.143822   \n",
        "2%                        0.438315   \n",
        "5%                        0.614948   \n",
        "10%                       0.841220   \n",
        "50%                       0.968974   \n",
        "max                       1.000000   \n",
        "\n",
        "       precision_thr_boiler_pipe_ArticleExtractor  \\\n",
        "count                                   99.000000   \n",
        "mean                                     0.638565   \n",
        "std                                      0.325689   \n",
        "min                                      0.022250   \n",
        "2%                                       0.026711   \n",
        "5%                                       0.042044   \n",
        "10%                                      0.061152   \n",
        "50%                                      0.753870   \n",
        "max                                      0.989749   \n",
        "\n",
        "       precision_thr_boiler_pipe_DefaultExtractor  \n",
        "count                                   99.000000  \n",
        "mean                                     0.610429  \n",
        "std                                      0.249978  \n",
        "min                                      0.087406  \n",
        "2%                                       0.097743  \n",
        "5%                                       0.187686  \n",
        "10%                                      0.236001  \n",
        "50%                                      0.617523  \n",
        "max                                      0.980851  "
       ]
      },
      {
       "output_type": "stream",
       "stream": "stdout",
       "text": [
        "\n",
        "       recall_gold  recall_py_boiler_pipe_ArticleExtractor  \\\n",
        "count           99                               99.000000   \n",
        "mean             1                                0.848680   \n",
        "std              0                                0.193062   \n",
        "min              1                                0.067901   \n",
        "2%               1                                0.097876   \n",
        "5%               1                                0.409609   \n",
        "10%              1                                0.676557   \n",
        "50%              1                                0.914703   \n",
        "max              1                                0.993341   \n",
        "\n",
        "       recall_py_boiler_pipe_ArticleSentencesExtractor  \\\n",
        "count                                        99.000000   \n",
        "mean                                          0.000207   \n",
        "std                                           0.002058   \n",
        "min                                           0.000000   \n",
        "2%                                            0.000000   \n",
        "5%                                            0.000000   \n",
        "10%                                           0.000000   \n",
        "50%                                           0.000000   \n",
        "max                                           0.020472   \n",
        "\n",
        "       recall_py_boiler_pipe_CanolaExtractor  \\\n",
        "count                              99.000000   \n",
        "mean                                0.844213   \n",
        "std                                 0.108269   \n",
        "min                                 0.422374   \n",
        "2%                                  0.542033   \n",
        "5%                                  0.593156   \n",
        "10%                                 0.705541   \n",
        "50%                                 0.882083   \n",
        "max                                 0.987791   \n",
        "\n",
        "       recall_py_boiler_pipe_DefaultExtractor  \\\n",
        "count                               99.000000   \n",
        "mean                                 0.860696   \n",
        "std                                  0.121499   \n",
        "min                                  0.253968   \n",
        "2%                                   0.517735   \n",
        "5%                                   0.579318   \n",
        "10%                                  0.710183   \n",
        "50%                                  0.895105   \n",
        "max                                  0.986681   \n",
        "\n",
        "       recall_py_boiler_pipe_KeepEverythingExtractor  \\\n",
        "count                                      99.000000   \n",
        "mean                                        0.924781   \n",
        "std                                         0.036528   \n",
        "min                                         0.738562   \n",
        "2%                                          0.849661   \n",
        "5%                                          0.866116   \n",
        "10%                                         0.888651   \n",
        "50%                                         0.933036   \n",
        "max                                         0.993341   \n",
        "\n",
        "       recall_py_boiler_pipe_LargestContentExtractor  \\\n",
        "count                                      99.000000   \n",
        "mean                                        0.728798   \n",
        "std                                         0.274766   \n",
        "min                                         0.041379   \n",
        "2%                                          0.047393   \n",
        "5%                                          0.069693   \n",
        "10%                                         0.226484   \n",
        "50%                                         0.854911   \n",
        "max                                         0.985572   \n",
        "\n",
        "       recall_py_boiler_pipe_NumWordsRulesExtractor  recall_python_readibilty  \\\n",
        "count                                     99.000000                 99.000000   \n",
        "mean                                       0.876498                  0.915441   \n",
        "std                                        0.089291                  0.128770   \n",
        "min                                        0.448276                  0.077586   \n",
        "2%                                         0.600374                  0.640930   \n",
        "5%                                         0.697441                  0.685469   \n",
        "10%                                        0.789726                  0.847998   \n",
        "50%                                        0.904639                  0.946387   \n",
        "max                                        0.986681                  1.000000   \n",
        "\n",
        "       recall_thr_boiler_pipe_ArticleExtractor  \\\n",
        "count                                99.000000   \n",
        "mean                                  0.813821   \n",
        "std                                   0.341946   \n",
        "min                                   0.027972   \n",
        "2%                                    0.056410   \n",
        "5%                                    0.079944   \n",
        "10%                                   0.092131   \n",
        "50%                                   0.993174   \n",
        "max                                   1.000000   \n",
        "\n",
        "       recall_thr_boiler_pipe_DefaultExtractor  \n",
        "count                                99.000000  \n",
        "mean                                  0.942651  \n",
        "std                                   0.115500  \n",
        "min                                   0.285714  \n",
        "2%                                    0.510198  \n",
        "5%                                    0.778831  \n",
        "10%                                   0.860101  \n",
        "50%                                   0.985882  \n",
        "max                                   1.000000  \n",
        "       f1_gold  f1_py_boiler_pipe_ArticleExtractor  \\\n",
        "count       99                           99.000000   \n",
        "mean         1                            0.765140   \n",
        "std          0                            0.219826   \n",
        "min          1                            0.035176   \n",
        "2%           1                            0.065534   \n",
        "5%           1                            0.311998   \n",
        "10%          1                            0.488654   \n",
        "50%          1                            0.868217   \n",
        "max          1                            0.971837   \n",
        "\n",
        "       f1_py_boiler_pipe_ArticleSentencesExtractor  \\\n",
        "count                                    99.000000   \n",
        "mean                                      0.000388   \n",
        "std                                       0.003860   \n",
        "min                                       0.000000   \n",
        "2%                                        0.000000   \n",
        "5%                                        0.000000   \n",
        "10%                                       0.000000   \n",
        "50%                                       0.000000   \n",
        "max                                       0.038405   \n",
        "\n",
        "       f1_py_boiler_pipe_CanolaExtractor  f1_py_boiler_pipe_DefaultExtractor  \\\n",
        "count                          99.000000                           99.000000   \n",
        "mean                            0.678045                            0.733985   \n",
        "std                             0.188601                            0.177721   \n",
        "min                             0.127827                            0.159309   \n",
        "2%                              0.293293                            0.223785   \n",
        "5%                              0.311104                            0.428092   \n",
        "10%                             0.366320                            0.484591   \n",
        "50%                             0.717622                            0.791304   \n",
        "max                             0.933186                            0.959617   \n",
        "\n",
        "       f1_py_boiler_pipe_KeepEverythingExtractor  \\\n",
        "count                                  99.000000   \n",
        "mean                                    0.530552   \n",
        "std                                     0.210729   \n",
        "min                                     0.109541   \n",
        "2%                                      0.140531   \n",
        "5%                                      0.166162   \n",
        "10%                                     0.200544   \n",
        "50%                                     0.525896   \n",
        "max                                     0.851478   \n",
        "\n",
        "       f1_py_boiler_pipe_LargestContentExtractor  \\\n",
        "count                                  99.000000   \n",
        "mean                                    0.746387   \n",
        "std                                     0.266300   \n",
        "min                                     0.038462   \n",
        "2%                                      0.039443   \n",
        "5%                                      0.059673   \n",
        "10%                                     0.251082   \n",
        "50%                                     0.866142   \n",
        "max                                     0.979592   \n",
        "\n",
        "       f1_py_boiler_pipe_NumWordsRulesExtractor  f1_python_readibilty  \\\n",
        "count                                 99.000000             99.000000   \n",
        "mean                                   0.720843              0.908288   \n",
        "std                                    0.179827              0.140196   \n",
        "min                                    0.140069              0.136364   \n",
        "2%                                     0.315054              0.384693   \n",
        "5%                                     0.396596              0.715988   \n",
        "10%                                    0.441076              0.794279   \n",
        "50%                                    0.766467              0.950276   \n",
        "max                                    0.960774              1.000000   \n",
        "\n",
        "       f1_thr_boiler_pipe_ArticleExtractor  \\\n",
        "count                            99.000000   \n",
        "mean                              0.693991   \n",
        "std                               0.325722   \n",
        "min                               0.025532   \n",
        "2%                                0.038306   \n",
        "5%                                0.056527   \n",
        "10%                               0.070245   \n",
        "50%                               0.830508   \n",
        "max                               0.992573   \n",
        "\n",
        "       f1_thr_boiler_pipe_DefaultExtractor  \n",
        "count                            99.000000  \n",
        "mean                              0.709473  \n",
        "std                               0.212386  \n",
        "min                               0.143426  \n",
        "2%                                0.174606  \n",
        "5%                                0.290379  \n",
        "10%                               0.376066  \n",
        "50%                               0.748092  \n",
        "max                               0.988210  \n",
        "political blogs / 125\n",
        "       precision_gold  precision_py_boiler_pipe_ArticleExtractor  \\\n",
        "count             150                                 150.000000   \n",
        "mean                1                                   0.703533   \n",
        "std                 0                                   0.360671   \n",
        "min                 1                                   0.000000   \n",
        "2%                  1                                   0.000000   \n",
        "5%                  1                                   0.003984   \n",
        "10%                 1                                   0.011152   \n",
        "50%                 1                                   0.898303   \n",
        "max                 1                                   0.988089   \n",
        "\n",
        "       precision_py_boiler_pipe_ArticleSentencesExtractor  \\\n",
        "count                                                150    \n",
        "mean                                                   0    \n",
        "std                                                    0    \n",
        "min                                                    0    \n",
        "2%                                                     0    \n",
        "5%                                                     0    \n",
        "10%                                                    0    \n",
        "50%                                                    0    \n",
        "max                                                    0    \n",
        "\n",
        "       precision_py_boiler_pipe_CanolaExtractor  \\\n",
        "count                                150.000000   \n",
        "mean                                   0.515234   \n",
        "std                                    0.341081   \n",
        "min                                    0.000000   \n",
        "2%                                     0.000000   \n",
        "5%                                     0.003016   \n",
        "10%                                    0.014508   \n",
        "50%                                    0.555674   \n",
        "max                                    0.973795   \n",
        "\n",
        "       precision_py_boiler_pipe_DefaultExtractor  \\\n",
        "count                                 150.000000   \n",
        "mean                                    0.522629   \n",
        "std                                     0.342647   \n",
        "min                                     0.000000   \n",
        "2%                                      0.000000   \n",
        "5%                                      0.000000   \n",
        "10%                                     0.005803   \n",
        "50%                                     0.599262   \n",
        "max                                     0.973963   \n",
        "\n",
        "       precision_py_boiler_pipe_KeepEverythingExtractor  \\\n",
        "count                                        150.000000   \n",
        "mean                                           0.369914   \n",
        "std                                            0.278387   \n",
        "min                                            0.002865   \n",
        "2%                                             0.007767   \n",
        "5%                                             0.015080   \n",
        "10%                                            0.023499   \n",
        "50%                                            0.298086   \n",
        "max                                            0.913591   \n",
        "\n",
        "       precision_py_boiler_pipe_LargestContentExtractor  \\\n",
        "count                                        150.000000   \n",
        "mean                                           0.677239   \n",
        "std                                            0.383520   \n",
        "min                                            0.000000   \n",
        "2%                                             0.000000   \n",
        "5%                                             0.004188   \n",
        "10%                                            0.012684   \n",
        "50%                                            0.892375   \n",
        "max                                            0.978162   \n",
        "\n",
        "       precision_py_boiler_pipe_NumWordsRulesExtractor  \\\n",
        "count                                       150.000000   \n",
        "mean                                          0.572627   \n",
        "std                                           0.333536   \n",
        "min                                           0.000000   \n",
        "2%                                            0.000000   \n",
        "5%                                            0.002471   \n",
        "10%                                           0.012913   \n",
        "50%                                           0.681146   \n",
        "max                                           0.973301   \n",
        "\n",
        "       precision_python_readibilty  \\\n",
        "count                   150.000000   \n",
        "mean                      0.880689   \n",
        "std                       0.241102   \n",
        "min                       0.013793   \n",
        "2%                        0.030579   \n",
        "5%                        0.186217   \n",
        "10%                       0.599048   \n",
        "50%                       0.985371   \n",
        "max                       1.000000   \n",
        "\n",
        "       precision_thr_boiler_pipe_ArticleExtractor  \\\n",
        "count                                  150.000000   \n",
        "mean                                     0.616935   \n",
        "std                                      0.421249   \n",
        "min                                      0.003302   \n",
        "2%                                       0.005500   \n",
        "5%                                       0.008824   \n",
        "10%                                      0.014676   \n",
        "50%                                      0.906002   \n",
        "max                                      0.997970   \n",
        "\n",
        "       precision_thr_boiler_pipe_DefaultExtractor  \n",
        "count                                  150.000000  \n",
        "mean                                     0.484702  \n",
        "std                                      0.325502  \n",
        "min                                      0.003189  \n",
        "2%                                       0.005959  \n",
        "5%                                       0.012064  \n",
        "10%                                      0.029434  \n",
        "50%                                      0.455373  \n",
        "max                                      0.997809  "
       ]
      },
      {
       "output_type": "stream",
       "stream": "stdout",
       "text": [
        "\n",
        "       recall_gold  recall_py_boiler_pipe_ArticleExtractor  \\\n",
        "count          150                              150.000000   \n",
        "mean             1                                0.756760   \n",
        "std              0                                0.342598   \n",
        "min              1                                0.000000   \n",
        "2%               1                                0.000000   \n",
        "5%               1                                0.023901   \n",
        "10%              1                                0.051914   \n",
        "50%              1                                0.928193   \n",
        "max              1                                0.991501   \n",
        "\n",
        "       recall_py_boiler_pipe_ArticleSentencesExtractor  \\\n",
        "count                                              150   \n",
        "mean                                                 0   \n",
        "std                                                  0   \n",
        "min                                                  0   \n",
        "2%                                                   0   \n",
        "5%                                                   0   \n",
        "10%                                                  0   \n",
        "50%                                                  0   \n",
        "max                                                  0   \n",
        "\n",
        "       recall_py_boiler_pipe_CanolaExtractor  \\\n",
        "count                             150.000000   \n",
        "mean                                0.775613   \n",
        "std                                 0.281738   \n",
        "min                                 0.000000   \n",
        "2%                                  0.000000   \n",
        "5%                                  0.072667   \n",
        "10%                                 0.266144   \n",
        "50%                                 0.898780   \n",
        "max                                 0.995704   \n",
        "\n",
        "       recall_py_boiler_pipe_DefaultExtractor  \\\n",
        "count                              150.000000   \n",
        "mean                                 0.715632   \n",
        "std                                  0.333288   \n",
        "min                                  0.000000   \n",
        "2%                                   0.000000   \n",
        "5%                                   0.000000   \n",
        "10%                                  0.077706   \n",
        "50%                                  0.880511   \n",
        "max                                  0.991501   \n",
        "\n",
        "       recall_py_boiler_pipe_KeepEverythingExtractor  \\\n",
        "count                                     150.000000   \n",
        "mean                                        0.911380   \n",
        "std                                         0.109811   \n",
        "min                                         0.050909   \n",
        "2%                                          0.689231   \n",
        "5%                                          0.722857   \n",
        "10%                                         0.779471   \n",
        "50%                                         0.946547   \n",
        "max                                         0.998389   \n",
        "\n",
        "       recall_py_boiler_pipe_LargestContentExtractor  \\\n",
        "count                                     150.000000   \n",
        "mean                                        0.660467   \n",
        "std                                         0.372133   \n",
        "min                                         0.000000   \n",
        "2%                                          0.000000   \n",
        "5%                                          0.011912   \n",
        "10%                                         0.034427   \n",
        "50%                                         0.879248   \n",
        "max                                         0.991501   \n",
        "\n",
        "       recall_py_boiler_pipe_NumWordsRulesExtractor  recall_python_readibilty  \\\n",
        "count                                    150.000000                150.000000   \n",
        "mean                                       0.781152                  0.807832   \n",
        "std                                        0.280683                  0.313501   \n",
        "min                                        0.000000                  0.020690   \n",
        "2%                                         0.000000                  0.035595   \n",
        "5%                                         0.084909                  0.069238   \n",
        "10%                                        0.234492                  0.166667   \n",
        "50%                                        0.905032                  0.970968   \n",
        "max                                        0.991501                  1.000000   \n",
        "\n",
        "       recall_thr_boiler_pipe_ArticleExtractor  \\\n",
        "count                               150.000000   \n",
        "mean                                  0.769863   \n",
        "std                                   0.359786   \n",
        "min                                   0.010331   \n",
        "2%                                    0.023252   \n",
        "5%                                    0.036122   \n",
        "10%                                   0.069009   \n",
        "50%                                   0.976322   \n",
        "max                                   1.000000   \n",
        "\n",
        "       recall_thr_boiler_pipe_DefaultExtractor  \n",
        "count                               150.000000  \n",
        "mean                                  0.815129  \n",
        "std                                   0.282623  \n",
        "min                                   0.003704  \n",
        "2%                                    0.031039  \n",
        "5%                                    0.131712  \n",
        "10%                                   0.301923  \n",
        "50%                                   0.962453  \n",
        "max                                   1.000000  \n",
        "       f1_gold  f1_py_boiler_pipe_ArticleExtractor  \\\n",
        "count      150                          150.000000   \n",
        "mean         1                            0.718112   \n",
        "std          0                            0.358481   \n",
        "min          1                            0.000000   \n",
        "2%           1                            0.000000   \n",
        "5%           1                            0.006798   \n",
        "10%          1                            0.017960   \n",
        "50%          1                            0.912683   \n",
        "max          1                            0.984093   \n",
        "\n",
        "       f1_py_boiler_pipe_ArticleSentencesExtractor  \\\n",
        "count                                          150   \n",
        "mean                                             0   \n",
        "std                                              0   \n",
        "min                                              0   \n",
        "2%                                               0   \n",
        "5%                                               0   \n",
        "10%                                              0   \n",
        "50%                                              0   \n",
        "max                                              0   \n",
        "\n",
        "       f1_py_boiler_pipe_CanolaExtractor  f1_py_boiler_pipe_DefaultExtractor  \\\n",
        "count                         150.000000                          150.000000   \n",
        "mean                            0.577217                            0.568006   \n",
        "std                             0.330633                            0.345523   \n",
        "min                             0.000000                            0.000000   \n",
        "2%                              0.000000                            0.000000   \n",
        "5%                              0.005862                            0.000000   \n",
        "10%                             0.027886                            0.011238   \n",
        "50%                             0.674047                            0.682651   \n",
        "max                             0.969320                            0.971197   \n",
        "\n",
        "       f1_py_boiler_pipe_KeepEverythingExtractor  \\\n",
        "count                                 150.000000   \n",
        "mean                                    0.472859   \n",
        "std                                     0.292861   \n",
        "min                                     0.005706   \n",
        "2%                                      0.015378   \n",
        "5%                                      0.027311   \n",
        "10%                                     0.045693   \n",
        "50%                                     0.453552   \n",
        "max                                     0.944083   \n",
        "\n",
        "       f1_py_boiler_pipe_LargestContentExtractor  \\\n",
        "count                                 150.000000   \n",
        "mean                                    0.659167   \n",
        "std                                     0.376714   \n",
        "min                                     0.000000   \n",
        "2%                                      0.000000   \n",
        "5%                                      0.007661   \n",
        "10%                                     0.020191   \n",
        "50%                                     0.867735   \n",
        "max                                     0.980839   \n",
        "\n",
        "       f1_py_boiler_pipe_NumWordsRulesExtractor  f1_python_readibilty  \\\n",
        "count                                150.000000            150.000000   \n",
        "mean                                   0.627502              0.807779   \n",
        "std                                    0.324330              0.304467   \n",
        "min                                    0.000000              0.026549   \n",
        "2%                                     0.000000              0.034729   \n",
        "5%                                     0.004894              0.072607   \n",
        "10%                                    0.025091              0.165152   \n",
        "50%                                    0.756476              0.963556   \n",
        "max                                    0.973301              1.000000   \n",
        "\n",
        "       f1_thr_boiler_pipe_ArticleExtractor  \\\n",
        "count                           150.000000   \n",
        "mean                              0.635670   \n",
        "std                               0.419068   \n",
        "min                               0.006577   \n",
        "2%                                0.009602   \n",
        "5%                                0.012090   \n",
        "10%                               0.020877   \n",
        "50%                               0.933609   \n",
        "max                               0.998469   \n",
        "\n",
        "       f1_thr_boiler_pipe_DefaultExtractor  \n",
        "count                           150.000000  \n",
        "mean                              0.530499  \n",
        "std                               0.330138  \n",
        "min                               0.006349  \n",
        "2%                                0.010201  \n",
        "5%                                0.020156  \n",
        "10%                               0.042055  \n",
        "50%                               0.580317  \n",
        "max                               0.994242  \n",
        "russian\n",
        "       precision_gold  precision_py_boiler_pipe_ArticleExtractor  \\\n",
        "count             132                                 132.000000   \n",
        "mean                1                                   0.718432   \n",
        "std                 0                                   0.252618   \n",
        "min                 1                                   0.012500   \n",
        "2%                  1                                   0.051124   \n",
        "5%                  1                                   0.185462   \n",
        "10%                 1                                   0.340725   \n",
        "50%                 1                                   0.835164   \n",
        "max                 1                                   0.982402   \n",
        "\n",
        "       precision_py_boiler_pipe_ArticleSentencesExtractor  \\\n",
        "count                                                132    \n",
        "mean                                                   0    \n",
        "std                                                    0    \n",
        "min                                                    0    \n",
        "2%                                                     0    \n",
        "5%                                                     0    \n",
        "10%                                                    0    \n",
        "50%                                                    0    \n",
        "max                                                    0    \n",
        "\n",
        "       precision_py_boiler_pipe_CanolaExtractor  \\\n",
        "count                                132.000000   \n",
        "mean                                   0.488699   \n",
        "std                                    0.250472   \n",
        "min                                    0.054201   \n",
        "2%                                     0.078920   \n",
        "5%                                     0.114551   \n",
        "10%                                    0.175987   \n",
        "50%                                    0.441274   \n",
        "max                                    0.925352   \n",
        "\n",
        "       precision_py_boiler_pipe_DefaultExtractor  \\\n",
        "count                                 132.000000   \n",
        "mean                                    0.610990   \n",
        "std                                     0.258515   \n",
        "min                                     0.022857   \n",
        "2%                                      0.112440   \n",
        "5%                                      0.165727   \n",
        "10%                                     0.247548   \n",
        "50%                                     0.665667   \n",
        "max                                     0.981651   \n",
        "\n",
        "       precision_py_boiler_pipe_KeepEverythingExtractor  \\\n",
        "count                                        132.000000   \n",
        "mean                                           0.188878   \n",
        "std                                            0.142571   \n",
        "min                                            0.010258   \n",
        "2%                                             0.033324   \n",
        "5%                                             0.039598   \n",
        "10%                                            0.048948   \n",
        "50%                                            0.148603   \n",
        "max                                            0.835991   \n",
        "\n",
        "       precision_py_boiler_pipe_LargestContentExtractor  \\\n",
        "count                                        132.000000   \n",
        "mean                                           0.702744   \n",
        "std                                            0.288666   \n",
        "min                                            0.012500   \n",
        "2%                                             0.044430   \n",
        "5%                                             0.084635   \n",
        "10%                                            0.158502   \n",
        "50%                                            0.835874   \n",
        "max                                            0.982402   \n",
        "\n",
        "       precision_py_boiler_pipe_NumWordsRulesExtractor  \\\n",
        "count                                       132.000000   \n",
        "mean                                          0.614402   \n",
        "std                                           0.262220   \n",
        "min                                           0.067548   \n",
        "2%                                            0.117832   \n",
        "5%                                            0.162064   \n",
        "10%                                           0.238983   \n",
        "50%                                           0.711282   \n",
        "max                                           0.982402   \n",
        "\n",
        "       precision_python_readibilty  \\\n",
        "count                   132.000000   \n",
        "mean                      0.946815   \n",
        "std                       0.139890   \n",
        "min                       0.018519   \n",
        "2%                        0.503566   \n",
        "5%                        0.842260   \n",
        "10%                       0.904014   \n",
        "50%                       0.980456   \n",
        "max                       1.000000   \n",
        "\n",
        "       precision_thr_boiler_pipe_ArticleExtractor  \\\n",
        "count                                  132.000000   \n",
        "mean                                     0.234777   \n",
        "std                                      0.370754   \n",
        "min                                      0.000000   \n",
        "2%                                       0.000000   \n",
        "5%                                       0.000000   \n",
        "10%                                      0.003215   \n",
        "50%                                      0.043435   \n",
        "max                                      1.000000   \n",
        "\n",
        "       precision_thr_boiler_pipe_DefaultExtractor  \n",
        "count                                  132.000000  \n",
        "mean                                     0.220128  \n",
        "std                                      0.347734  \n",
        "min                                      0.001456  \n",
        "2%                                       0.003306  \n",
        "5%                                       0.004450  \n",
        "10%                                      0.006159  \n",
        "50%                                      0.030528  \n",
        "max                                      1.000000  "
       ]
      },
      {
       "output_type": "stream",
       "stream": "stdout",
       "text": [
        "\n",
        "       recall_gold  recall_py_boiler_pipe_ArticleExtractor  \\\n",
        "count          132                              132.000000   \n",
        "mean             1                                0.818267   \n",
        "std              0                                0.220713   \n",
        "min              1                                0.032882   \n",
        "2%               1                                0.092117   \n",
        "5%               1                                0.201786   \n",
        "10%              1                                0.581737   \n",
        "50%              1                                0.898746   \n",
        "max              1                                1.000000   \n",
        "\n",
        "       recall_py_boiler_pipe_ArticleSentencesExtractor  \\\n",
        "count                                              132   \n",
        "mean                                                 0   \n",
        "std                                                  0   \n",
        "min                                                  0   \n",
        "2%                                                   0   \n",
        "5%                                                   0   \n",
        "10%                                                  0   \n",
        "50%                                                  0   \n",
        "max                                                  0   \n",
        "\n",
        "       recall_py_boiler_pipe_CanolaExtractor  \\\n",
        "count                             132.000000   \n",
        "mean                                0.804646   \n",
        "std                                 0.146584   \n",
        "min                                 0.297297   \n",
        "2%                                  0.412065   \n",
        "5%                                  0.503986   \n",
        "10%                                 0.611248   \n",
        "50%                                 0.845416   \n",
        "max                                 0.993498   \n",
        "\n",
        "       recall_py_boiler_pipe_DefaultExtractor  \\\n",
        "count                              132.000000   \n",
        "mean                                 0.789282   \n",
        "std                                  0.184720   \n",
        "min                                  0.037736   \n",
        "2%                                   0.222724   \n",
        "5%                                   0.390545   \n",
        "10%                                  0.594575   \n",
        "50%                                  0.840412   \n",
        "max                                  0.996778   \n",
        "\n",
        "       recall_py_boiler_pipe_KeepEverythingExtractor  \\\n",
        "count                                     132.000000   \n",
        "mean                                        0.913321   \n",
        "std                                         0.078472   \n",
        "min                                         0.381356   \n",
        "2%                                          0.785777   \n",
        "5%                                          0.833346   \n",
        "10%                                         0.851894   \n",
        "50%                                         0.921185   \n",
        "max                                         1.000000   \n",
        "\n",
        "       recall_py_boiler_pipe_LargestContentExtractor  \\\n",
        "count                                     132.000000   \n",
        "mean                                        0.717450   \n",
        "std                                         0.302408   \n",
        "min                                         0.010778   \n",
        "2%                                          0.035458   \n",
        "5%                                          0.085721   \n",
        "10%                                         0.127878   \n",
        "50%                                         0.875702   \n",
        "max                                         0.997409   \n",
        "\n",
        "       recall_py_boiler_pipe_NumWordsRulesExtractor  recall_python_readibilty  \\\n",
        "count                                    132.000000                132.000000   \n",
        "mean                                       0.851578                  0.879423   \n",
        "std                                        0.120377                  0.194934   \n",
        "min                                        0.310811                  0.020725   \n",
        "2%                                         0.476644                  0.057854   \n",
        "5%                                         0.608980                  0.655007   \n",
        "10%                                        0.714950                  0.754755   \n",
        "50%                                        0.866012                  0.937048   \n",
        "max                                        0.997852                  1.000000   \n",
        "\n",
        "       recall_thr_boiler_pipe_ArticleExtractor  \\\n",
        "count                               132.000000   \n",
        "mean                                  0.237385   \n",
        "std                                   0.376244   \n",
        "min                                   0.000000   \n",
        "2%                                    0.000000   \n",
        "5%                                    0.000000   \n",
        "10%                                   0.007983   \n",
        "50%                                   0.051471   \n",
        "max                                   1.000000   \n",
        "\n",
        "       recall_thr_boiler_pipe_DefaultExtractor  \n",
        "count                               132.000000  \n",
        "mean                                  0.301652  \n",
        "std                                   0.406205  \n",
        "min                                   0.005319  \n",
        "2%                                    0.009765  \n",
        "5%                                    0.014811  \n",
        "10%                                   0.017790  \n",
        "50%                                   0.058824  \n",
        "max                                   1.000000  \n",
        "       f1_gold  f1_py_boiler_pipe_ArticleExtractor  \\\n",
        "count      132                          132.000000   \n",
        "mean         1                            0.749676   \n",
        "std          0                            0.227920   \n",
        "min          1                            0.018114   \n",
        "2%           1                            0.063775   \n",
        "5%           1                            0.187938   \n",
        "10%          1                            0.478066   \n",
        "50%          1                            0.818793   \n",
        "max          1                            0.987313   \n",
        "\n",
        "       f1_py_boiler_pipe_ArticleSentencesExtractor  \\\n",
        "count                                          132   \n",
        "mean                                             0   \n",
        "std                                              0   \n",
        "min                                              0   \n",
        "2%                                               0   \n",
        "5%                                               0   \n",
        "10%                                              0   \n",
        "50%                                              0   \n",
        "max                                              0   \n",
        "\n",
        "       f1_py_boiler_pipe_CanolaExtractor  f1_py_boiler_pipe_DefaultExtractor  \\\n",
        "count                         132.000000                          132.000000   \n",
        "mean                            0.573987                            0.661798   \n",
        "std                             0.222509                            0.225256   \n",
        "min                             0.092437                            0.036866   \n",
        "2%                              0.137648                            0.101141   \n",
        "5%                              0.183537                            0.253035   \n",
        "10%                             0.280725                            0.340049   \n",
        "50%                             0.570221                            0.715686   \n",
        "max                             0.920245                            0.986933   \n",
        "\n",
        "       f1_py_boiler_pipe_KeepEverythingExtractor  \\\n",
        "count                                 132.000000   \n",
        "mean                                    0.293188   \n",
        "std                                     0.173252   \n",
        "min                                     0.020263   \n",
        "2%                                      0.062051   \n",
        "5%                                      0.075902   \n",
        "10%                                     0.088069   \n",
        "50%                                     0.254443   \n",
        "max                                     0.878564   \n",
        "\n",
        "       f1_py_boiler_pipe_LargestContentExtractor  \\\n",
        "count                                 132.000000   \n",
        "mean                                    0.692104   \n",
        "std                                     0.285086   \n",
        "min                                     0.012821   \n",
        "2%                                      0.033738   \n",
        "5%                                      0.075729   \n",
        "10%                                     0.135805   \n",
        "50%                                     0.802698   \n",
        "max                                     0.987313   \n",
        "\n",
        "       f1_py_boiler_pipe_NumWordsRulesExtractor  f1_python_readibilty  \\\n",
        "count                                132.000000            132.000000   \n",
        "mean                                   0.684560              0.899931   \n",
        "std                                    0.222306              0.184317   \n",
        "min                                    0.110977              0.026781   \n",
        "2%                                     0.194573              0.098648   \n",
        "5%                                     0.268575              0.778182   \n",
        "10%                                    0.365804              0.843508   \n",
        "50%                                    0.768441              0.944767   \n",
        "max                                    0.987313              0.999427   \n",
        "\n",
        "       f1_thr_boiler_pipe_ArticleExtractor  \\\n",
        "count                           132.000000   \n",
        "mean                              0.231709   \n",
        "std                               0.371334   \n",
        "min                               0.000000   \n",
        "2%                                0.000000   \n",
        "5%                                0.000000   \n",
        "10%                               0.005065   \n",
        "50%                               0.047168   \n",
        "max                               1.000000   \n",
        "\n",
        "       f1_thr_boiler_pipe_DefaultExtractor  \n",
        "count                           132.000000  \n",
        "mean                              0.241120  \n",
        "std                               0.357583  \n",
        "min                               0.002375  \n",
        "2%                                0.005276  \n",
        "5%                                0.006912  \n",
        "10%                               0.009496  \n",
        "50%                               0.039170  \n",
        "max                               0.997347  \n",
        "brazil\n",
        "       precision_gold  precision_py_boiler_pipe_ArticleExtractor  \\\n",
        "count               5                                   5.000000   \n",
        "mean                1                                   0.801957   \n",
        "std                 0                                   0.153987   \n",
        "min                 1                                   0.538341   \n",
        "2%                  1                                   0.561037   \n",
        "5%                  1                                   0.595080   \n",
        "10%                 1                                   0.651818   \n",
        "50%                 1                                   0.828571   \n",
        "max                 1                                   0.929329   \n",
        "\n",
        "       precision_py_boiler_pipe_ArticleSentencesExtractor  \\\n",
        "count                                                  5    \n",
        "mean                                                   0    \n",
        "std                                                    0    \n",
        "min                                                    0    \n",
        "2%                                                     0    \n",
        "5%                                                     0    \n",
        "10%                                                    0    \n",
        "50%                                                    0    \n",
        "max                                                    0    \n",
        "\n",
        "       precision_py_boiler_pipe_CanolaExtractor  \\\n",
        "count                                  5.000000   \n",
        "mean                                   0.664670   \n",
        "std                                    0.273746   \n",
        "min                                    0.180902   \n",
        "2%                                     0.224373   \n",
        "5%                                     0.289580   \n",
        "10%                                    0.398258   \n",
        "50%                                    0.767857   \n",
        "max                                    0.826772   \n",
        "\n",
        "       precision_py_boiler_pipe_DefaultExtractor  \\\n",
        "count                                   5.000000   \n",
        "mean                                    0.719327   \n",
        "std                                     0.319628   \n",
        "min                                     0.157421   \n",
        "2%                                      0.207379   \n",
        "5%                                      0.282316   \n",
        "10%                                     0.407210   \n",
        "50%                                     0.840909   \n",
        "max                                     0.946043   \n",
        "\n",
        "       precision_py_boiler_pipe_KeepEverythingExtractor  \\\n",
        "count                                          5.000000   \n",
        "mean                                           0.284243   \n",
        "std                                            0.107933   \n",
        "min                                            0.118172   \n",
        "2%                                             0.128293   \n",
        "5%                                             0.143474   \n",
        "10%                                            0.168776   \n",
        "50%                                            0.309410   \n",
        "max                                            0.390855   \n",
        "\n",
        "       precision_py_boiler_pipe_LargestContentExtractor  \\\n",
        "count                                          5.000000   \n",
        "mean                                           0.888106   \n",
        "std                                            0.039403   \n",
        "min                                            0.820312   \n",
        "2%                                             0.826008   \n",
        "5%                                             0.834552   \n",
        "10%                                            0.848791   \n",
        "50%                                            0.902326   \n",
        "max                                            0.921622   \n",
        "\n",
        "       precision_py_boiler_pipe_NumWordsRulesExtractor  \\\n",
        "count                                         5.000000   \n",
        "mean                                          0.734233   \n",
        "std                                           0.323688   \n",
        "min                                           0.161388   \n",
        "2%                                            0.215733   \n",
        "5%                                            0.297252   \n",
        "10%                                           0.433116   \n",
        "50%                                           0.840909   \n",
        "max                                           0.956124   \n",
        "\n",
        "       precision_python_readibilty  \\\n",
        "count                     5.000000   \n",
        "mean                      0.962387   \n",
        "std                       0.030849   \n",
        "min                       0.933014   \n",
        "2%                        0.933860   \n",
        "5%                        0.935129   \n",
        "10%                       0.937245   \n",
        "50%                       0.944000   \n",
        "max                       1.000000   \n",
        "\n",
        "       precision_thr_boiler_pipe_ArticleExtractor  \\\n",
        "count                                    5.000000   \n",
        "mean                                     0.742769   \n",
        "std                                      0.388031   \n",
        "min                                      0.050514   \n",
        "2%                                       0.116920   \n",
        "5%                                       0.216530   \n",
        "10%                                      0.382547   \n",
        "50%                                      0.901408   \n",
        "max                                      0.957516   \n",
        "\n",
        "       precision_thr_boiler_pipe_DefaultExtractor  \n",
        "count                                    5.000000  \n",
        "mean                                     0.640169  \n",
        "std                                      0.355717  \n",
        "min                                      0.037340  \n",
        "2%                                       0.087591  \n",
        "5%                                       0.162968  \n",
        "10%                                      0.288596  \n",
        "50%                                      0.690391  \n",
        "max                                      0.920415  "
       ]
      },
      {
       "output_type": "stream",
       "stream": "stdout",
       "text": [
        "\n",
        "       recall_gold  recall_py_boiler_pipe_ArticleExtractor  \\\n",
        "count            5                                5.000000   \n",
        "mean             1                                0.979646   \n",
        "std              0                                0.009266   \n",
        "min              1                                0.969231   \n",
        "2%               1                                0.969331   \n",
        "5%               1                                0.969481   \n",
        "10%              1                                0.969730   \n",
        "50%              1                                0.983051   \n",
        "max              1                                0.989796   \n",
        "\n",
        "       recall_py_boiler_pipe_ArticleSentencesExtractor  \\\n",
        "count                                                5   \n",
        "mean                                                 0   \n",
        "std                                                  0   \n",
        "min                                                  0   \n",
        "2%                                                   0   \n",
        "5%                                                   0   \n",
        "10%                                                  0   \n",
        "50%                                                  0   \n",
        "max                                                  0   \n",
        "\n",
        "       recall_py_boiler_pipe_CanolaExtractor  \\\n",
        "count                               5.000000   \n",
        "mean                                0.914842   \n",
        "std                                 0.039027   \n",
        "min                                 0.882051   \n",
        "2%                                  0.882674   \n",
        "5%                                  0.883607   \n",
        "10%                                 0.885163   \n",
        "50%                                 0.896679   \n",
        "max                                 0.977077   \n",
        "\n",
        "       recall_py_boiler_pipe_DefaultExtractor  \\\n",
        "count                                5.000000   \n",
        "mean                                 0.949445   \n",
        "std                                  0.028846   \n",
        "min                                  0.902579   \n",
        "2%                                   0.905627   \n",
        "5%                                   0.910199   \n",
        "10%                                  0.917818   \n",
        "50%                                  0.964103   \n",
        "max                                  0.970480   \n",
        "\n",
        "       recall_py_boiler_pipe_KeepEverythingExtractor  \\\n",
        "count                                       5.000000   \n",
        "mean                                        0.978402   \n",
        "std                                         0.010026   \n",
        "min                                         0.964103   \n",
        "2%                                          0.964940   \n",
        "5%                                          0.966197   \n",
        "10%                                         0.968292   \n",
        "50%                                         0.977860   \n",
        "max                                         0.989796   \n",
        "\n",
        "       recall_py_boiler_pipe_LargestContentExtractor  \\\n",
        "count                                       5.000000   \n",
        "mean                                        0.870353   \n",
        "std                                         0.196538   \n",
        "min                                         0.525830   \n",
        "2%                                          0.554950   \n",
        "5%                                          0.598630   \n",
        "10%                                         0.671430   \n",
        "50%                                         0.969231   \n",
        "max                                         0.989796   \n",
        "\n",
        "       recall_py_boiler_pipe_NumWordsRulesExtractor  recall_python_readibilty  \\\n",
        "count                                      5.000000                  5.000000   \n",
        "mean                                       0.947674                  0.979889   \n",
        "std                                        0.020087                  0.025059   \n",
        "min                                        0.919771                  0.938776   \n",
        "2%                                         0.921443                  0.941902   \n",
        "5%                                         0.923952                  0.946592   \n",
        "10%                                        0.928134                  0.954409   \n",
        "50%                                        0.943590                  0.982808   \n",
        "max                                        0.969388                  1.000000   \n",
        "\n",
        "       recall_thr_boiler_pipe_ArticleExtractor  \\\n",
        "count                                 5.000000   \n",
        "mean                                  0.736822   \n",
        "std                                   0.372712   \n",
        "min                                   0.169054   \n",
        "2%                                    0.198777   \n",
        "5%                                    0.243362   \n",
        "10%                                   0.317669   \n",
        "50%                                   0.979592   \n",
        "max                                   1.000000   \n",
        "\n",
        "       recall_thr_boiler_pipe_DefaultExtractor  \n",
        "count                                 5.000000  \n",
        "mean                                  0.822777  \n",
        "std                                   0.357876  \n",
        "min                                   0.183381  \n",
        "2%                                    0.245037  \n",
        "5%                                    0.337521  \n",
        "10%                                   0.491661  \n",
        "50%                                   0.981550  \n",
        "max                                   1.000000  \n",
        "       f1_gold  f1_py_boiler_pipe_ArticleExtractor  \\\n",
        "count        5                            5.000000   \n",
        "mean         1                            0.874387   \n",
        "std          0                            0.101817   \n",
        "min          1                            0.696356   \n",
        "2%           1                            0.712500   \n",
        "5%           1                            0.736715   \n",
        "10%          1                            0.777073   \n",
        "50%          1                            0.899225   \n",
        "max          1                            0.949458   \n",
        "\n",
        "       f1_py_boiler_pipe_ArticleSentencesExtractor  \\\n",
        "count                                            5   \n",
        "mean                                             0   \n",
        "std                                              0   \n",
        "min                                              0   \n",
        "2%                                               0   \n",
        "5%                                               0   \n",
        "10%                                              0   \n",
        "50%                                              0   \n",
        "max                                              0   \n",
        "\n",
        "       f1_py_boiler_pipe_CanolaExtractor  f1_py_boiler_pipe_DefaultExtractor  \\\n",
        "count                           5.000000                            5.000000   \n",
        "mean                            0.731530                            0.778927   \n",
        "std                             0.239962                            0.287640   \n",
        "min                             0.305282                            0.268085   \n",
        "2%                              0.344965                            0.315887   \n",
        "5%                              0.404489                            0.387589   \n",
        "10%                             0.503697                            0.507093   \n",
        "50%                             0.821002                            0.888000   \n",
        "max                             0.872902                            0.958106   \n",
        "\n",
        "       f1_py_boiler_pipe_KeepEverythingExtractor  \\\n",
        "count                                   5.000000   \n",
        "mean                                    0.430870   \n",
        "std                                     0.138002   \n",
        "min                                     0.211043   \n",
        "2%                                      0.225452   \n",
        "5%                                      0.247066   \n",
        "10%                                     0.283088   \n",
        "50%                                     0.471446   \n",
        "max                                     0.558483   \n",
        "\n",
        "       f1_py_boiler_pipe_LargestContentExtractor  \\\n",
        "count                                   5.000000   \n",
        "mean                                    0.868019   \n",
        "std                                     0.119717   \n",
        "min                                     0.665111   \n",
        "2%                                      0.680195   \n",
        "5%                                      0.702820   \n",
        "10%                                     0.740530   \n",
        "50%                                     0.928747   \n",
        "max                                     0.948540   \n",
        "\n",
        "       f1_py_boiler_pipe_NumWordsRulesExtractor  f1_python_readibilty  \\\n",
        "count                                  5.000000              5.000000   \n",
        "mean                                   0.785997              0.970715   \n",
        "std                                    0.287227              0.019337   \n",
        "min                                    0.274594              0.941176   \n",
        "2%                                     0.323666              0.943110   \n",
        "5%                                     0.397275              0.946010   \n",
        "10%                                    0.519956              0.950844   \n",
        "50%                                    0.900474              0.971193   \n",
        "max                                    0.960514              0.988806   \n",
        "\n",
        "       f1_thr_boiler_pipe_ArticleExtractor  \\\n",
        "count                             5.000000   \n",
        "mean                              0.720446   \n",
        "std                               0.375738   \n",
        "min                               0.077785   \n",
        "2%                                0.126845   \n",
        "5%                                0.200436   \n",
        "10%                               0.323086   \n",
        "50%                               0.936508   \n",
        "max                               0.958025   \n",
        "\n",
        "       f1_thr_boiler_pipe_DefaultExtractor  \n",
        "count                             5.000000  \n",
        "mean                              0.710296  \n",
        "std                               0.369795  \n",
        "min                               0.062046  \n",
        "2%                                0.119807  \n",
        "5%                                0.206450  \n",
        "10%                               0.350854  \n",
        "50%                               0.815126  \n",
        "max                               0.950000  \n",
        "arabic\n",
        "       precision_gold  precision_py_boiler_pipe_ArticleExtractor  \\\n",
        "count             117                                 117.000000   \n",
        "mean                1                                   0.741376   \n",
        "std                 0                                   0.252984   \n",
        "min                 1                                   0.010726   \n",
        "2%                  1                                   0.022730   \n",
        "5%                  1                                   0.060870   \n",
        "10%                 1                                   0.330385   \n",
        "50%                 1                                   0.828947   \n",
        "max                 1                                   0.980379   \n",
        "\n",
        "       precision_py_boiler_pipe_ArticleSentencesExtractor  \\\n",
        "count                                                117    \n",
        "mean                                                   0    \n",
        "std                                                    0    \n",
        "min                                                    0    \n",
        "2%                                                     0    \n",
        "5%                                                     0    \n",
        "10%                                                    0    \n",
        "50%                                                    0    \n",
        "max                                                    0    \n",
        "\n",
        "       precision_py_boiler_pipe_CanolaExtractor  \\\n",
        "count                                117.000000   \n",
        "mean                                   0.588046   \n",
        "std                                    0.253096   \n",
        "min                                    0.001637   \n",
        "2%                                     0.027450   \n",
        "5%                                     0.159398   \n",
        "10%                                    0.235953   \n",
        "50%                                    0.638584   \n",
        "max                                    0.976285   \n",
        "\n",
        "       precision_py_boiler_pipe_DefaultExtractor  \\\n",
        "count                                 117.000000   \n",
        "mean                                    0.657585   \n",
        "std                                     0.245890   \n",
        "min                                     0.005348   \n",
        "2%                                      0.058647   \n",
        "5%                                      0.155817   \n",
        "10%                                     0.283340   \n",
        "50%                                     0.736264   \n",
        "max                                     0.978873   \n",
        "\n",
        "       precision_py_boiler_pipe_KeepEverythingExtractor  \\\n",
        "count                                        117.000000   \n",
        "mean                                           0.336254   \n",
        "std                                            0.219627   \n",
        "min                                            0.001162   \n",
        "2%                                             0.027610   \n",
        "5%                                             0.079325   \n",
        "10%                                            0.100802   \n",
        "50%                                            0.305410   \n",
        "max                                            0.910245   \n",
        "\n",
        "       precision_py_boiler_pipe_LargestContentExtractor  \\\n",
        "count                                        117.000000   \n",
        "mean                                           0.755409   \n",
        "std                                            0.255409   \n",
        "min                                            0.000000   \n",
        "2%                                             0.014231   \n",
        "5%                                             0.023593   \n",
        "10%                                            0.490368   \n",
        "50%                                            0.837349   \n",
        "max                                            0.980232   \n",
        "\n",
        "       precision_py_boiler_pipe_NumWordsRulesExtractor  \\\n",
        "count                                       117.000000   \n",
        "mean                                          0.711242   \n",
        "std                                           0.224088   \n",
        "min                                           0.013514   \n",
        "2%                                            0.058882   \n",
        "5%                                            0.280358   \n",
        "10%                                           0.358444   \n",
        "50%                                           0.785714   \n",
        "max                                           0.978873   \n",
        "\n",
        "       precision_python_readibilty  \\\n",
        "count                   117.000000   \n",
        "mean                      0.929890   \n",
        "std                       0.134994   \n",
        "min                       0.241379   \n",
        "2%                        0.414138   \n",
        "5%                        0.666667   \n",
        "10%                       0.857168   \n",
        "50%                       0.980952   \n",
        "max                       1.000000   \n",
        "\n",
        "       precision_thr_boiler_pipe_ArticleExtractor  \\\n",
        "count                                  117.000000   \n",
        "mean                                     0.756990   \n",
        "std                                      0.297713   \n",
        "min                                      0.011182   \n",
        "2%                                       0.027757   \n",
        "5%                                       0.043883   \n",
        "10%                                      0.130529   \n",
        "50%                                      0.881720   \n",
        "max                                      0.997958   \n",
        "\n",
        "       precision_thr_boiler_pipe_DefaultExtractor  \n",
        "count                                  117.000000  \n",
        "mean                                     0.674588  \n",
        "std                                      0.298915  \n",
        "min                                      0.000000  \n",
        "2%                                       0.033720  \n",
        "5%                                       0.120281  \n",
        "10%                                      0.236147  \n",
        "50%                                      0.802956  \n",
        "max                                      1.000000  "
       ]
      },
      {
       "output_type": "stream",
       "stream": "stdout",
       "text": [
        "\n",
        "       recall_gold  recall_py_boiler_pipe_ArticleExtractor  \\\n",
        "count          117                              117.000000   \n",
        "mean             1                                0.839014   \n",
        "std              0                                0.255579   \n",
        "min              1                                0.012346   \n",
        "2%               1                                0.024636   \n",
        "5%               1                                0.037730   \n",
        "10%              1                                0.632387   \n",
        "50%              1                                0.936508   \n",
        "max              1                                1.000000   \n",
        "\n",
        "       recall_py_boiler_pipe_ArticleSentencesExtractor  \\\n",
        "count                                              117   \n",
        "mean                                                 0   \n",
        "std                                                  0   \n",
        "min                                                  0   \n",
        "2%                                                   0   \n",
        "5%                                                   0   \n",
        "10%                                                  0   \n",
        "50%                                                  0   \n",
        "max                                                  0   \n",
        "\n",
        "       recall_py_boiler_pipe_CanolaExtractor  \\\n",
        "count                             117.000000   \n",
        "mean                                0.766722   \n",
        "std                                 0.208122   \n",
        "min                                 0.012346   \n",
        "2%                                  0.139507   \n",
        "5%                                  0.195693   \n",
        "10%                                 0.552758   \n",
        "50%                                 0.825397   \n",
        "max                                 0.997429   \n",
        "\n",
        "       recall_py_boiler_pipe_DefaultExtractor  \\\n",
        "count                              117.000000   \n",
        "mean                                 0.701666   \n",
        "std                                  0.293111   \n",
        "min                                  0.012346   \n",
        "2%                                   0.026452   \n",
        "5%                                   0.045974   \n",
        "10%                                  0.126923   \n",
        "50%                                  0.819788   \n",
        "max                                  0.997429   \n",
        "\n",
        "       recall_py_boiler_pipe_KeepEverythingExtractor  \\\n",
        "count                                     117.000000   \n",
        "mean                                        0.922749   \n",
        "std                                         0.133383   \n",
        "min                                         0.007463   \n",
        "2%                                          0.590000   \n",
        "5%                                          0.830303   \n",
        "10%                                         0.874678   \n",
        "50%                                         0.952000   \n",
        "max                                         1.000000   \n",
        "\n",
        "       recall_py_boiler_pipe_LargestContentExtractor  \\\n",
        "count                                     117.000000   \n",
        "mean                                        0.768446   \n",
        "std                                         0.282090   \n",
        "min                                         0.000000   \n",
        "2%                                          0.020848   \n",
        "5%                                          0.032891   \n",
        "10%                                         0.138356   \n",
        "50%                                         0.868613   \n",
        "max                                         0.994859   \n",
        "\n",
        "       recall_py_boiler_pipe_NumWordsRulesExtractor  recall_python_readibilty  \\\n",
        "count                                    117.000000                117.000000   \n",
        "mean                                       0.801901                  0.830034   \n",
        "std                                        0.193662                  0.255519   \n",
        "min                                        0.012346                  0.012255   \n",
        "2%                                         0.112381                  0.041673   \n",
        "5%                                         0.398237                  0.093980   \n",
        "10%                                        0.607539                  0.509681   \n",
        "50%                                        0.865079                  0.921986   \n",
        "max                                        0.997429                  1.000000   \n",
        "\n",
        "       recall_thr_boiler_pipe_ArticleExtractor  \\\n",
        "count                               117.000000   \n",
        "mean                                  0.842179   \n",
        "std                                   0.314171   \n",
        "min                                   0.023932   \n",
        "2%                                    0.040051   \n",
        "5%                                    0.062071   \n",
        "10%                                   0.151961   \n",
        "50%                                   1.000000   \n",
        "max                                   1.000000   \n",
        "\n",
        "       recall_thr_boiler_pipe_DefaultExtractor  \n",
        "count                               117.000000  \n",
        "mean                                  0.759565  \n",
        "std                                   0.347585  \n",
        "min                                   0.000000  \n",
        "2%                                    0.032252  \n",
        "5%                                    0.060219  \n",
        "10%                                   0.117895  \n",
        "50%                                   0.966667  \n",
        "max                                   1.000000  \n",
        "       f1_gold  f1_py_boiler_pipe_ArticleExtractor  \\\n",
        "count      117                          117.000000   \n",
        "mean         1                            0.774978   \n",
        "std          0                            0.255278   \n",
        "min          1                            0.014469   \n",
        "2%           1                            0.028784   \n",
        "5%           1                            0.036998   \n",
        "10%          1                            0.405667   \n",
        "50%          1                            0.874074   \n",
        "max          1                            0.981043   \n",
        "\n",
        "       f1_py_boiler_pipe_ArticleSentencesExtractor  \\\n",
        "count                                          117   \n",
        "mean                                             0   \n",
        "std                                              0   \n",
        "min                                              0   \n",
        "2%                                               0   \n",
        "5%                                               0   \n",
        "10%                                              0   \n",
        "50%                                              0   \n",
        "max                                              0   \n",
        "\n",
        "       f1_py_boiler_pipe_CanolaExtractor  f1_py_boiler_pipe_DefaultExtractor  \\\n",
        "count                         117.000000                          117.000000   \n",
        "mean                            0.645211                            0.655535   \n",
        "std                             0.235679                            0.267798   \n",
        "min                             0.003236                            0.010309   \n",
        "2%                              0.024550                            0.025866   \n",
        "5%                              0.194915                            0.068729   \n",
        "10%                             0.296855                            0.171742   \n",
        "50%                             0.707692                            0.765854   \n",
        "max                             0.973399                            0.971214   \n",
        "\n",
        "       f1_py_boiler_pipe_KeepEverythingExtractor  \\\n",
        "count                                 117.000000   \n",
        "mean                                    0.459616   \n",
        "std                                     0.228261   \n",
        "min                                     0.002321   \n",
        "2%                                      0.049776   \n",
        "5%                                      0.146173   \n",
        "10%                                     0.182303   \n",
        "50%                                     0.453368   \n",
        "max                                     0.946723   \n",
        "\n",
        "       f1_py_boiler_pipe_LargestContentExtractor  \\\n",
        "count                                 117.000000   \n",
        "mean                                    0.754560   \n",
        "std                                     0.268122   \n",
        "min                                     0.000000   \n",
        "2%                                      0.016508   \n",
        "5%                                      0.031962   \n",
        "10%                                     0.192451   \n",
        "50%                                     0.850000   \n",
        "max                                     0.980392   \n",
        "\n",
        "       f1_py_boiler_pipe_NumWordsRulesExtractor  f1_python_readibilty  \\\n",
        "count                                117.000000            117.000000   \n",
        "mean                                   0.741682              0.844823   \n",
        "std                                    0.209849              0.235643   \n",
        "min                                    0.014599              0.023585   \n",
        "2%                                     0.056917              0.079781   \n",
        "5%                                     0.366651              0.171765   \n",
        "10%                                    0.473788              0.558496   \n",
        "50%                                    0.820755              0.933902   \n",
        "max                                    0.971641              1.000000   \n",
        "\n",
        "       f1_thr_boiler_pipe_ArticleExtractor  \\\n",
        "count                           117.000000   \n",
        "mean                              0.776713   \n",
        "std                               0.305971   \n",
        "min                               0.015242   \n",
        "2%                                0.032739   \n",
        "5%                                0.051157   \n",
        "10%                               0.145678   \n",
        "50%                               0.927273   \n",
        "max                               0.997361   \n",
        "\n",
        "       f1_thr_boiler_pipe_DefaultExtractor  \n",
        "count                           117.000000  \n",
        "mean                              0.656418  \n",
        "std                               0.314089  \n",
        "min                               0.000000  \n",
        "2%                                0.037984  \n",
        "5%                                0.055188  \n",
        "10%                               0.154126  \n",
        "50%                               0.735484  \n",
        "max                               0.998779  \n"
       ]
      }
     ],
     "prompt_number": 78
    },
    {
     "cell_type": "code",
     "collapsed": false,
     "input": [
      "boiler_pipe_extractor_training_objects = cPickle.load( open( \"boiler_pipe_google_news_extractor_training_objects.pickle\", \"rb\") )\n",
      "#eto = extractor_training_objects[ 0 ]\n",
      "#eto.keys()\n",
      "#print eto['expected_text']\n",
      "#get_extraction_results( eto )\n",
      "#comp_extractors ( eto )\n",
      "\n",
      "comps_downloads_boiler_pipe = []\n",
      "processed = 0\n",
      "skipped = 0\n",
      "start_time = datetime.datetime.now()\n",
      "e=None\n",
      "\n",
      "for extractor_training_object in  boiler_pipe_extractor_training_objects[:]:\n",
      "    try:\n",
      "        res = comp_extractors( extractor_training_object )\n",
      "        #print res\n",
      "        comps_downloads_boiler_pipe.append( res )\n",
      "        processed += 1\n",
      "    except Exception, e:\n",
      "        print \"error on download{}\".format( extractor_training_object[ 'downloads_id'] )\n",
      "        e = sys.exc_info()\n",
      "        \n",
      "        import traceback\n",
      "        \n",
      "        traceback.print_exc()\n",
      "        print e\n",
      "        #raise e\n",
      "        skipped += 1\n",
      "\n",
      "    print 'processed', processed, 'skipped', skipped\n",
      "\n",
      "    #extraction_results.append( er )\n",
      "\n",
      "end_time = datetime.datetime.now()\n",
      "\n",
      "\n",
      "print \"Total_time\", end_time - start_time\n",
      "\n",
      "print \"Time per download\", (end_time - start_time)/ (processed + skipped )\n",
      "    \n",
      "res.keys()"
     ],
     "language": "python",
     "metadata": {},
     "outputs": [
      {
       "output_type": "stream",
       "stream": "stdout",
       "text": [
        "processed 1 skipped 0\n",
        "processed"
       ]
      },
      {
       "output_type": "stream",
       "stream": "stdout",
       "text": [
        " 2 skipped 0\n",
        "processed"
       ]
      },
      {
       "output_type": "stream",
       "stream": "stdout",
       "text": [
        " 3 skipped 0\n",
        "processed"
       ]
      },
      {
       "output_type": "stream",
       "stream": "stdout",
       "text": [
        " 4 skipped 0\n",
        "processed"
       ]
      },
      {
       "output_type": "stream",
       "stream": "stdout",
       "text": [
        " 5 skipped 0\n",
        "processed"
       ]
      },
      {
       "output_type": "stream",
       "stream": "stdout",
       "text": [
        " 6 skipped 0\n",
        "processed"
       ]
      },
      {
       "output_type": "stream",
       "stream": "stdout",
       "text": [
        " 7 skipped 0\n",
        "error on download045cb317-60ad-454d-add8-3baa40789258.html"
       ]
      },
      {
       "output_type": "stream",
       "stream": "stdout",
       "text": [
        "\n",
        "(<type 'exceptions.IOError'>, IOError('cannot identify image file',), <traceback object at 0x7f4dcdc70248>)\n",
        "processed 7 skipped 1\n",
        "processed"
       ]
      },
      {
       "output_type": "stream",
       "stream": "stdout",
       "text": [
        " 8 skipped 1\n",
        "processed"
       ]
      },
      {
       "output_type": "stream",
       "stream": "stdout",
       "text": [
        " 9 skipped 1\n",
        "processed"
       ]
      },
      {
       "output_type": "stream",
       "stream": "stdout",
       "text": [
        " 10 skipped 1\n",
        "error on download065445c6-e5e0-4006-ba4b-31711c4a6a4b.html"
       ]
      },
      {
       "output_type": "stream",
       "stream": "stderr",
       "text": [
        "Traceback (most recent call last):\n",
        "  File \"<ipython-input-67-6114dbc3b5a2>\", line 16, in <module>\n",
        "    res = comp_extractors( extractor_training_object )\n",
        "  File \"<ipython-input-22-91249bf1c046>\", line 19, in comp_extractors\n",
        "    extraction_results = get_extraction_results( eto )\n",
        "  File \"<ipython-input-21-ff5d87d959e4>\", line 25, in get_extraction_results\n",
        "    ret['py_goose']  = { 'extracted_html': extract_with_python_goose( raw_content ) }\n",
        "  File \"<ipython-input-9-da7d07f83e6d>\", line 6, in extract_with_python_goose\n",
        "    r = g.extract( raw_html=raw_content )\n",
        "  File \"/usr/local/lib/python2.7/dist-packages/goose/__init__.py\", line 56, in extract\n",
        "    return self.crawl(cc)\n",
        "  File \"/usr/local/lib/python2.7/dist-packages/goose/__init__.py\", line 63, in crawl\n",
        "    article = crawler.crawl(crawl_candiate)\n",
        "  File \"/usr/local/lib/python2.7/dist-packages/goose/crawler.py\", line 125, in crawl\n",
        "    self.get_image()\n",
        "  File \"/usr/local/lib/python2.7/dist-packages/goose/crawler.py\", line 147, in get_image\n",
        "    self.article.top_image = self.image_extractor.get_best_image(doc, top_node)\n",
        "  File \"/usr/local/lib/python2.7/dist-packages/goose/images/extractors.py\", line 88, in get_best_image\n",
        "    image = self.check_large_images(topNode, 0, 0)\n",
        "  File \"/usr/local/lib/python2.7/dist-packages/goose/images/extractors.py\", line 122, in check_large_images\n",
        "    good_images = self.get_image_candidates(node)\n",
        "  File \"/usr/local/lib/python2.7/dist-packages/goose/images/extractors.py\", line 283, in get_image_candidates\n",
        "    good_images = self.get_images_bytesize_match(filtered_images)\n",
        "  File \"/usr/local/lib/python2.7/dist-packages/goose/images/extractors.py\", line 299, in get_images_bytesize_match\n",
        "    local_image = self.get_local_image(src)\n",
        "  File \"/usr/local/lib/python2.7/dist-packages/goose/images/extractors.py\", line 344, in get_local_image\n",
        "    self.link_hash, src, self.config)\n",
        "  File \"/usr/local/lib/python2.7/dist-packages/goose/images/utils.py\", line 52, in store_image\n",
        "    image = self.read_localfile(link_hash, src, config)\n",
        "  File \"/usr/local/lib/python2.7/dist-packages/goose/images/utils.py\", line 81, in read_localfile\n",
        "    image_details = self.get_image_dimensions(identify, local_image_name)\n",
        "  File \"/usr/local/lib/python2.7/dist-packages/goose/images/utils.py\", line 36, in get_image_dimensions\n",
        "    image = Image.open(path)\n",
        "  File \"/usr/lib/python2.7/dist-packages/PIL/Image.py\", line 2028, in open\n",
        "    raise IOError(\"cannot identify image file\")\n",
        "IOError: cannot identify image file\n",
        "Traceback (most recent call last):\n"
       ]
      },
      {
       "output_type": "stream",
       "stream": "stdout",
       "text": [
        "\n",
        "(<type 'exceptions.IOError'>, IOError('cannot identify image file',), <traceback object at 0x7f4dcd4117a0>)\n",
        "processed 10 skipped 2\n",
        "processed"
       ]
      },
      {
       "output_type": "stream",
       "stream": "stdout",
       "text": [
        " 11 skipped 2\n",
        "processed"
       ]
      },
      {
       "output_type": "stream",
       "stream": "stdout",
       "text": [
        " 12 skipped 2\n",
        "processed"
       ]
      },
      {
       "output_type": "stream",
       "stream": "stdout",
       "text": [
        " 13 skipped 2\n",
        "processed"
       ]
      },
      {
       "output_type": "stream",
       "stream": "stdout",
       "text": [
        " 14 skipped 2\n",
        "processed"
       ]
      },
      {
       "output_type": "stream",
       "stream": "stdout",
       "text": [
        " 15 skipped 2\n",
        "processed"
       ]
      },
      {
       "output_type": "stream",
       "stream": "stdout",
       "text": [
        " 16 skipped 2\n",
        "processed"
       ]
      },
      {
       "output_type": "stream",
       "stream": "stdout",
       "text": [
        " 17 skipped 2\n",
        "processed"
       ]
      },
      {
       "output_type": "stream",
       "stream": "stdout",
       "text": [
        " 18 skipped 2\n",
        "processed"
       ]
      },
      {
       "output_type": "stream",
       "stream": "stdout",
       "text": [
        " 19 skipped 2\n",
        "processed"
       ]
      },
      {
       "output_type": "stream",
       "stream": "stdout",
       "text": [
        " 20 skipped 2\n",
        "error on download0acd5213-35e1-4039-adb5-6c7611911b9e.html"
       ]
      },
      {
       "output_type": "stream",
       "stream": "stderr",
       "text": [
        "  File \"<ipython-input-67-6114dbc3b5a2>\", line 16, in <module>\n",
        "    res = comp_extractors( extractor_training_object )\n",
        "  File \"<ipython-input-22-91249bf1c046>\", line 19, in comp_extractors\n",
        "    extraction_results = get_extraction_results( eto )\n",
        "  File \"<ipython-input-21-ff5d87d959e4>\", line 25, in get_extraction_results\n",
        "    ret['py_goose']  = { 'extracted_html': extract_with_python_goose( raw_content ) }\n",
        "  File \"<ipython-input-9-da7d07f83e6d>\", line 6, in extract_with_python_goose\n",
        "    r = g.extract( raw_html=raw_content )\n",
        "  File \"/usr/local/lib/python2.7/dist-packages/goose/__init__.py\", line 56, in extract\n",
        "    return self.crawl(cc)\n",
        "  File \"/usr/local/lib/python2.7/dist-packages/goose/__init__.py\", line 63, in crawl\n",
        "    article = crawler.crawl(crawl_candiate)\n",
        "  File \"/usr/local/lib/python2.7/dist-packages/goose/crawler.py\", line 125, in crawl\n",
        "    self.get_image()\n",
        "  File \"/usr/local/lib/python2.7/dist-packages/goose/crawler.py\", line 147, in get_image\n",
        "    self.article.top_image = self.image_extractor.get_best_image(doc, top_node)\n",
        "  File \"/usr/local/lib/python2.7/dist-packages/goose/images/extractors.py\", line 88, in get_best_image\n",
        "    image = self.check_large_images(topNode, 0, 0)\n",
        "  File \"/usr/local/lib/python2.7/dist-packages/goose/images/extractors.py\", line 141, in check_large_images\n",
        "    depth_obj.parent_depth, depth_obj.sibling_depth)\n",
        "  File \"/usr/local/lib/python2.7/dist-packages/goose/images/extractors.py\", line 141, in check_large_images\n",
        "    depth_obj.parent_depth, depth_obj.sibling_depth)\n",
        "  File \"/usr/local/lib/python2.7/dist-packages/goose/images/extractors.py\", line 141, in check_large_images\n",
        "    depth_obj.parent_depth, depth_obj.sibling_depth)\n",
        "  File \"/usr/local/lib/python2.7/dist-packages/goose/images/extractors.py\", line 122, in check_large_images\n",
        "    good_images = self.get_image_candidates(node)\n",
        "  File \"/usr/local/lib/python2.7/dist-packages/goose/images/extractors.py\", line 283, in get_image_candidates\n",
        "    good_images = self.get_images_bytesize_match(filtered_images)\n",
        "  File \"/usr/local/lib/python2.7/dist-packages/goose/images/extractors.py\", line 299, in get_images_bytesize_match\n",
        "    local_image = self.get_local_image(src)\n",
        "  File \"/usr/local/lib/python2.7/dist-packages/goose/images/extractors.py\", line 344, in get_local_image\n",
        "    self.link_hash, src, self.config)\n",
        "  File \"/usr/local/lib/python2.7/dist-packages/goose/images/utils.py\", line 52, in store_image\n",
        "    image = self.read_localfile(link_hash, src, config)\n",
        "  File \"/usr/local/lib/python2.7/dist-packages/goose/images/utils.py\", line 81, in read_localfile\n",
        "    image_details = self.get_image_dimensions(identify, local_image_name)\n",
        "  File \"/usr/local/lib/python2.7/dist-packages/goose/images/utils.py\", line 36, in get_image_dimensions\n",
        "    image = Image.open(path)\n",
        "  File \"/usr/lib/python2.7/dist-packages/PIL/Image.py\", line 2028, in open\n",
        "    raise IOError(\"cannot identify image file\")\n",
        "IOError: cannot identify image file\n",
        "Traceback (most recent call last):\n"
       ]
      },
      {
       "output_type": "stream",
       "stream": "stdout",
       "text": [
        "\n",
        "(<type 'exceptions.IOError'>, IOError('cannot identify image file',), <traceback object at 0x7f4de71a79e0>)\n",
        "processed 20 skipped 3\n",
        "processed"
       ]
      },
      {
       "output_type": "stream",
       "stream": "stdout",
       "text": [
        " 21 skipped 3\n",
        "processed"
       ]
      },
      {
       "output_type": "stream",
       "stream": "stdout",
       "text": [
        " 22 skipped 3\n",
        "processed"
       ]
      },
      {
       "output_type": "stream",
       "stream": "stdout",
       "text": [
        " 23 skipped 3\n",
        "processed"
       ]
      },
      {
       "output_type": "stream",
       "stream": "stdout",
       "text": [
        " 24 skipped 3\n",
        "processed"
       ]
      },
      {
       "output_type": "stream",
       "stream": "stdout",
       "text": [
        " 25 skipped 3\n",
        "processed"
       ]
      },
      {
       "output_type": "stream",
       "stream": "stdout",
       "text": [
        " 26 skipped 3\n",
        "processed"
       ]
      },
      {
       "output_type": "stream",
       "stream": "stdout",
       "text": [
        " 27 skipped 3\n",
        "processed"
       ]
      },
      {
       "output_type": "stream",
       "stream": "stdout",
       "text": [
        " 28 skipped 3\n",
        "error on download0fb4f846-1043-4578-8863-a4bf82dccb74.html"
       ]
      },
      {
       "output_type": "stream",
       "stream": "stderr",
       "text": [
        "  File \"<ipython-input-67-6114dbc3b5a2>\", line 16, in <module>\n",
        "    res = comp_extractors( extractor_training_object )\n",
        "  File \"<ipython-input-22-91249bf1c046>\", line 19, in comp_extractors\n",
        "    extraction_results = get_extraction_results( eto )\n",
        "  File \"<ipython-input-21-ff5d87d959e4>\", line 25, in get_extraction_results\n",
        "    ret['py_goose']  = { 'extracted_html': extract_with_python_goose( raw_content ) }\n",
        "  File \"<ipython-input-9-da7d07f83e6d>\", line 6, in extract_with_python_goose\n",
        "    r = g.extract( raw_html=raw_content )\n",
        "  File \"/usr/local/lib/python2.7/dist-packages/goose/__init__.py\", line 56, in extract\n",
        "    return self.crawl(cc)\n",
        "  File \"/usr/local/lib/python2.7/dist-packages/goose/__init__.py\", line 63, in crawl\n",
        "    article = crawler.crawl(crawl_candiate)\n",
        "  File \"/usr/local/lib/python2.7/dist-packages/goose/crawler.py\", line 125, in crawl\n",
        "    self.get_image()\n",
        "  File \"/usr/local/lib/python2.7/dist-packages/goose/crawler.py\", line 147, in get_image\n",
        "    self.article.top_image = self.image_extractor.get_best_image(doc, top_node)\n",
        "  File \"/usr/local/lib/python2.7/dist-packages/goose/images/extractors.py\", line 88, in get_best_image\n",
        "    image = self.check_large_images(topNode, 0, 0)\n",
        "  File \"/usr/local/lib/python2.7/dist-packages/goose/images/extractors.py\", line 122, in check_large_images\n",
        "    good_images = self.get_image_candidates(node)\n",
        "  File \"/usr/local/lib/python2.7/dist-packages/goose/images/extractors.py\", line 283, in get_image_candidates\n",
        "    good_images = self.get_images_bytesize_match(filtered_images)\n",
        "  File \"/usr/local/lib/python2.7/dist-packages/goose/images/extractors.py\", line 299, in get_images_bytesize_match\n",
        "    local_image = self.get_local_image(src)\n",
        "  File \"/usr/local/lib/python2.7/dist-packages/goose/images/extractors.py\", line 344, in get_local_image\n",
        "    self.link_hash, src, self.config)\n",
        "  File \"/usr/local/lib/python2.7/dist-packages/goose/images/utils.py\", line 59, in store_image\n",
        "    image = self.write_localfile(data, link_hash, src, config)\n",
        "  File \"/usr/local/lib/python2.7/dist-packages/goose/images/utils.py\", line 101, in write_localfile\n",
        "    return self.read_localfile(link_hash, src, config)\n",
        "  File \"/usr/local/lib/python2.7/dist-packages/goose/images/utils.py\", line 81, in read_localfile\n",
        "    image_details = self.get_image_dimensions(identify, local_image_name)\n",
        "  File \"/usr/local/lib/python2.7/dist-packages/goose/images/utils.py\", line 36, in get_image_dimensions\n",
        "    image = Image.open(path)\n",
        "  File \"/usr/lib/python2.7/dist-packages/PIL/Image.py\", line 2028, in open\n",
        "    raise IOError(\"cannot identify image file\")\n",
        "IOError: cannot identify image file\n",
        "Traceback (most recent call last):\n"
       ]
      },
      {
       "output_type": "stream",
       "stream": "stdout",
       "text": [
        "\n",
        "(<type 'exceptions.IOError'>, IOError('cannot identify image file',), <traceback object at 0x7f4e0f04e3b0>)\n",
        "processed 28 skipped 4\n",
        "processed"
       ]
      },
      {
       "output_type": "stream",
       "stream": "stdout",
       "text": [
        " 29 skipped 4\n",
        "processed"
       ]
      },
      {
       "output_type": "stream",
       "stream": "stdout",
       "text": [
        " 30 skipped 4\n",
        "processed"
       ]
      },
      {
       "output_type": "stream",
       "stream": "stdout",
       "text": [
        " 31 skipped 4\n",
        "processed"
       ]
      },
      {
       "output_type": "stream",
       "stream": "stdout",
       "text": [
        " 32 skipped 4\n",
        "processed"
       ]
      },
      {
       "output_type": "stream",
       "stream": "stdout",
       "text": [
        " 33 skipped 4\n",
        "processed"
       ]
      },
      {
       "output_type": "stream",
       "stream": "stdout",
       "text": [
        " 34 skipped 4\n",
        "processed"
       ]
      },
      {
       "output_type": "stream",
       "stream": "stdout",
       "text": [
        " 35 skipped 4\n",
        "processed"
       ]
      },
      {
       "output_type": "stream",
       "stream": "stdout",
       "text": [
        " 36 skipped 4\n",
        "processed"
       ]
      },
      {
       "output_type": "stream",
       "stream": "stdout",
       "text": [
        " 37 skipped 4\n",
        "processed"
       ]
      },
      {
       "output_type": "stream",
       "stream": "stdout",
       "text": [
        " 38 skipped 4\n",
        "processed"
       ]
      },
      {
       "output_type": "stream",
       "stream": "stdout",
       "text": [
        " 39 skipped 4\n",
        "processed"
       ]
      },
      {
       "output_type": "stream",
       "stream": "stdout",
       "text": [
        " 40 skipped 4\n",
        "processed"
       ]
      },
      {
       "output_type": "stream",
       "stream": "stdout",
       "text": [
        " 41 skipped 4\n",
        "processed"
       ]
      },
      {
       "output_type": "stream",
       "stream": "stdout",
       "text": [
        " 42 skipped 4\n",
        "processed"
       ]
      },
      {
       "output_type": "stream",
       "stream": "stdout",
       "text": [
        " 43 skipped 4\n",
        "processed"
       ]
      },
      {
       "output_type": "stream",
       "stream": "stdout",
       "text": [
        " 44 skipped 4\n",
        "processed"
       ]
      },
      {
       "output_type": "stream",
       "stream": "stdout",
       "text": [
        " 45 skipped 4\n",
        "processed"
       ]
      },
      {
       "output_type": "stream",
       "stream": "stdout",
       "text": [
        " 46 skipped 4\n",
        "processed"
       ]
      },
      {
       "output_type": "stream",
       "stream": "stdout",
       "text": [
        " 47 skipped 4\n",
        "processed"
       ]
      },
      {
       "output_type": "stream",
       "stream": "stdout",
       "text": [
        " 48 skipped 4\n",
        "processed"
       ]
      },
      {
       "output_type": "stream",
       "stream": "stdout",
       "text": [
        " 49 skipped 4\n",
        "processed"
       ]
      },
      {
       "output_type": "stream",
       "stream": "stdout",
       "text": [
        " 50 skipped 4\n",
        "processed"
       ]
      },
      {
       "output_type": "stream",
       "stream": "stdout",
       "text": [
        " 51 skipped 4\n",
        "processed"
       ]
      },
      {
       "output_type": "stream",
       "stream": "stdout",
       "text": [
        " 52 skipped 4\n",
        "processed"
       ]
      },
      {
       "output_type": "stream",
       "stream": "stdout",
       "text": [
        " 53 skipped 4\n",
        "processed"
       ]
      },
      {
       "output_type": "stream",
       "stream": "stdout",
       "text": [
        " 54 skipped 4\n",
        "processed"
       ]
      },
      {
       "output_type": "stream",
       "stream": "stdout",
       "text": [
        " 55 skipped 4\n",
        "processed"
       ]
      },
      {
       "output_type": "stream",
       "stream": "stdout",
       "text": [
        " 56 skipped 4\n",
        "processed"
       ]
      },
      {
       "output_type": "stream",
       "stream": "stdout",
       "text": [
        " 57 skipped 4\n",
        "processed"
       ]
      },
      {
       "output_type": "stream",
       "stream": "stdout",
       "text": [
        " 58 skipped 4\n",
        "processed"
       ]
      },
      {
       "output_type": "stream",
       "stream": "stdout",
       "text": [
        " 59 skipped 4\n",
        "processed"
       ]
      },
      {
       "output_type": "stream",
       "stream": "stdout",
       "text": [
        " 60 skipped 4\n",
        "processed"
       ]
      },
      {
       "output_type": "stream",
       "stream": "stdout",
       "text": [
        " 61 skipped 4\n",
        "processed"
       ]
      },
      {
       "output_type": "stream",
       "stream": "stdout",
       "text": [
        " 62 skipped 4\n",
        "processed"
       ]
      },
      {
       "output_type": "stream",
       "stream": "stdout",
       "text": [
        " 63 skipped 4\n",
        "processed"
       ]
      },
      {
       "output_type": "stream",
       "stream": "stdout",
       "text": [
        " 64 skipped 4\n",
        "processed"
       ]
      },
      {
       "output_type": "stream",
       "stream": "stdout",
       "text": [
        " 65 skipped 4\n",
        "processed"
       ]
      },
      {
       "output_type": "stream",
       "stream": "stdout",
       "text": [
        " 66 skipped 4\n",
        "processed"
       ]
      },
      {
       "output_type": "stream",
       "stream": "stdout",
       "text": [
        " 67 skipped 4\n",
        "processed"
       ]
      },
      {
       "output_type": "stream",
       "stream": "stdout",
       "text": [
        " 68 skipped 4\n",
        "processed"
       ]
      },
      {
       "output_type": "stream",
       "stream": "stdout",
       "text": [
        " 69 skipped 4\n",
        "processed"
       ]
      },
      {
       "output_type": "stream",
       "stream": "stdout",
       "text": [
        " 70 skipped 4\n",
        "processed"
       ]
      },
      {
       "output_type": "stream",
       "stream": "stdout",
       "text": [
        " 71 skipped 4\n",
        "processed"
       ]
      },
      {
       "output_type": "stream",
       "stream": "stdout",
       "text": [
        " 72 skipped 4\n",
        "processed"
       ]
      },
      {
       "output_type": "stream",
       "stream": "stdout",
       "text": [
        " 73 skipped 4\n",
        "processed"
       ]
      },
      {
       "output_type": "stream",
       "stream": "stdout",
       "text": [
        " 74 skipped 4\n",
        "processed"
       ]
      },
      {
       "output_type": "stream",
       "stream": "stdout",
       "text": [
        " 75 skipped 4\n",
        "processed"
       ]
      },
      {
       "output_type": "stream",
       "stream": "stdout",
       "text": [
        " 76 skipped 4\n",
        "processed"
       ]
      },
      {
       "output_type": "stream",
       "stream": "stdout",
       "text": [
        " 77 skipped 4\n",
        "processed"
       ]
      },
      {
       "output_type": "stream",
       "stream": "stdout",
       "text": [
        " 78 skipped 4\n",
        "processed"
       ]
      },
      {
       "output_type": "stream",
       "stream": "stdout",
       "text": [
        " 79 skipped 4\n",
        "processed"
       ]
      },
      {
       "output_type": "stream",
       "stream": "stdout",
       "text": [
        " 80 skipped 4\n",
        "processed"
       ]
      },
      {
       "output_type": "stream",
       "stream": "stdout",
       "text": [
        " 81 skipped 4\n",
        "processed"
       ]
      },
      {
       "output_type": "stream",
       "stream": "stdout",
       "text": [
        " 82 skipped 4\n",
        "processed"
       ]
      },
      {
       "output_type": "stream",
       "stream": "stdout",
       "text": [
        " 83 skipped 4\n",
        "processed"
       ]
      },
      {
       "output_type": "stream",
       "stream": "stdout",
       "text": [
        " 84 skipped 4\n",
        "processed"
       ]
      },
      {
       "output_type": "stream",
       "stream": "stdout",
       "text": [
        " 85 skipped 4\n",
        "processed"
       ]
      },
      {
       "output_type": "stream",
       "stream": "stdout",
       "text": [
        " 86 skipped 4\n",
        "processed"
       ]
      },
      {
       "output_type": "stream",
       "stream": "stdout",
       "text": [
        " 87 skipped 4\n",
        "processed"
       ]
      },
      {
       "output_type": "stream",
       "stream": "stdout",
       "text": [
        " 88 skipped 4\n",
        "processed"
       ]
      },
      {
       "output_type": "stream",
       "stream": "stdout",
       "text": [
        " 89 skipped 4\n",
        "processed"
       ]
      },
      {
       "output_type": "stream",
       "stream": "stdout",
       "text": [
        " 90 skipped 4\n",
        "processed"
       ]
      },
      {
       "output_type": "stream",
       "stream": "stdout",
       "text": [
        " 91 skipped 4\n",
        "processed"
       ]
      },
      {
       "output_type": "stream",
       "stream": "stdout",
       "text": [
        " 92 skipped 4\n",
        "processed"
       ]
      },
      {
       "output_type": "stream",
       "stream": "stdout",
       "text": [
        " 93 skipped 4\n",
        "processed"
       ]
      },
      {
       "output_type": "stream",
       "stream": "stdout",
       "text": [
        " 94 skipped 4\n",
        "error on download2d25dd6c-5093-4be6-b801-d671416c2e61.html"
       ]
      },
      {
       "output_type": "stream",
       "stream": "stderr",
       "text": [
        "  File \"<ipython-input-67-6114dbc3b5a2>\", line 16, in <module>\n",
        "    res = comp_extractors( extractor_training_object )\n",
        "  File \"<ipython-input-22-91249bf1c046>\", line 19, in comp_extractors\n",
        "    extraction_results = get_extraction_results( eto )\n",
        "  File \"<ipython-input-21-ff5d87d959e4>\", line 25, in get_extraction_results\n",
        "    ret['py_goose']  = { 'extracted_html': extract_with_python_goose( raw_content ) }\n",
        "  File \"<ipython-input-9-da7d07f83e6d>\", line 6, in extract_with_python_goose\n",
        "    r = g.extract( raw_html=raw_content )\n",
        "  File \"/usr/local/lib/python2.7/dist-packages/goose/__init__.py\", line 56, in extract\n",
        "    return self.crawl(cc)\n",
        "  File \"/usr/local/lib/python2.7/dist-packages/goose/__init__.py\", line 63, in crawl\n",
        "    article = crawler.crawl(crawl_candiate)\n",
        "  File \"/usr/local/lib/python2.7/dist-packages/goose/crawler.py\", line 125, in crawl\n",
        "    self.get_image()\n",
        "  File \"/usr/local/lib/python2.7/dist-packages/goose/crawler.py\", line 147, in get_image\n",
        "    self.article.top_image = self.image_extractor.get_best_image(doc, top_node)\n",
        "  File \"/usr/local/lib/python2.7/dist-packages/goose/images/extractors.py\", line 88, in get_best_image\n",
        "    image = self.check_large_images(topNode, 0, 0)\n",
        "  File \"/usr/local/lib/python2.7/dist-packages/goose/images/extractors.py\", line 122, in check_large_images\n",
        "    good_images = self.get_image_candidates(node)\n",
        "  File \"/usr/local/lib/python2.7/dist-packages/goose/images/extractors.py\", line 283, in get_image_candidates\n",
        "    good_images = self.get_images_bytesize_match(filtered_images)\n",
        "  File \"/usr/local/lib/python2.7/dist-packages/goose/images/extractors.py\", line 299, in get_images_bytesize_match\n",
        "    local_image = self.get_local_image(src)\n",
        "  File \"/usr/local/lib/python2.7/dist-packages/goose/images/extractors.py\", line 344, in get_local_image\n",
        "    self.link_hash, src, self.config)\n",
        "  File \"/usr/local/lib/python2.7/dist-packages/goose/images/utils.py\", line 59, in store_image\n",
        "    image = self.write_localfile(data, link_hash, src, config)\n",
        "  File \"/usr/local/lib/python2.7/dist-packages/goose/images/utils.py\", line 101, in write_localfile\n",
        "    return self.read_localfile(link_hash, src, config)\n",
        "  File \"/usr/local/lib/python2.7/dist-packages/goose/images/utils.py\", line 81, in read_localfile\n",
        "    image_details = self.get_image_dimensions(identify, local_image_name)\n",
        "  File \"/usr/local/lib/python2.7/dist-packages/goose/images/utils.py\", line 36, in get_image_dimensions\n",
        "    image = Image.open(path)\n",
        "  File \"/usr/lib/python2.7/dist-packages/PIL/Image.py\", line 2028, in open\n",
        "    raise IOError(\"cannot identify image file\")\n",
        "IOError: cannot identify image file\n",
        "Traceback (most recent call last):\n"
       ]
      },
      {
       "output_type": "stream",
       "stream": "stdout",
       "text": [
        "\n",
        "(<type 'exceptions.IOError'>, IOError('cannot identify image file',), <traceback object at 0x7f4dcdba0098>)\n",
        "processed 94 skipped 5\n",
        "processed"
       ]
      },
      {
       "output_type": "stream",
       "stream": "stdout",
       "text": [
        " 95 skipped 5\n",
        "processed"
       ]
      },
      {
       "output_type": "stream",
       "stream": "stdout",
       "text": [
        " 96 skipped 5\n",
        "processed"
       ]
      },
      {
       "output_type": "stream",
       "stream": "stdout",
       "text": [
        " 97 skipped 5\n",
        "error on download2fc045e8-a8a6-4ae4-9269-a8892fe69085.html"
       ]
      },
      {
       "output_type": "stream",
       "stream": "stderr",
       "text": [
        "  File \"<ipython-input-67-6114dbc3b5a2>\", line 16, in <module>\n",
        "    res = comp_extractors( extractor_training_object )\n",
        "  File \"<ipython-input-22-91249bf1c046>\", line 19, in comp_extractors\n",
        "    extraction_results = get_extraction_results( eto )\n",
        "  File \"<ipython-input-21-ff5d87d959e4>\", line 25, in get_extraction_results\n",
        "    ret['py_goose']  = { 'extracted_html': extract_with_python_goose( raw_content ) }\n",
        "  File \"<ipython-input-9-da7d07f83e6d>\", line 6, in extract_with_python_goose\n",
        "    r = g.extract( raw_html=raw_content )\n",
        "  File \"/usr/local/lib/python2.7/dist-packages/goose/__init__.py\", line 56, in extract\n",
        "    return self.crawl(cc)\n",
        "  File \"/usr/local/lib/python2.7/dist-packages/goose/__init__.py\", line 63, in crawl\n",
        "    article = crawler.crawl(crawl_candiate)\n",
        "  File \"/usr/local/lib/python2.7/dist-packages/goose/crawler.py\", line 125, in crawl\n",
        "    self.get_image()\n",
        "  File \"/usr/local/lib/python2.7/dist-packages/goose/crawler.py\", line 147, in get_image\n",
        "    self.article.top_image = self.image_extractor.get_best_image(doc, top_node)\n",
        "  File \"/usr/local/lib/python2.7/dist-packages/goose/images/extractors.py\", line 88, in get_best_image\n",
        "    image = self.check_large_images(topNode, 0, 0)\n",
        "  File \"/usr/local/lib/python2.7/dist-packages/goose/images/extractors.py\", line 141, in check_large_images\n",
        "    depth_obj.parent_depth, depth_obj.sibling_depth)\n",
        "  File \"/usr/local/lib/python2.7/dist-packages/goose/images/extractors.py\", line 141, in check_large_images\n",
        "    depth_obj.parent_depth, depth_obj.sibling_depth)\n",
        "  File \"/usr/local/lib/python2.7/dist-packages/goose/images/extractors.py\", line 122, in check_large_images\n",
        "    good_images = self.get_image_candidates(node)\n",
        "  File \"/usr/local/lib/python2.7/dist-packages/goose/images/extractors.py\", line 283, in get_image_candidates\n",
        "    good_images = self.get_images_bytesize_match(filtered_images)\n",
        "  File \"/usr/local/lib/python2.7/dist-packages/goose/images/extractors.py\", line 299, in get_images_bytesize_match\n",
        "    local_image = self.get_local_image(src)\n",
        "  File \"/usr/local/lib/python2.7/dist-packages/goose/images/extractors.py\", line 344, in get_local_image\n",
        "    self.link_hash, src, self.config)\n",
        "  File \"/usr/local/lib/python2.7/dist-packages/goose/images/utils.py\", line 59, in store_image\n",
        "    image = self.write_localfile(data, link_hash, src, config)\n",
        "  File \"/usr/local/lib/python2.7/dist-packages/goose/images/utils.py\", line 101, in write_localfile\n",
        "    return self.read_localfile(link_hash, src, config)\n",
        "  File \"/usr/local/lib/python2.7/dist-packages/goose/images/utils.py\", line 81, in read_localfile\n",
        "    image_details = self.get_image_dimensions(identify, local_image_name)\n",
        "  File \"/usr/local/lib/python2.7/dist-packages/goose/images/utils.py\", line 36, in get_image_dimensions\n",
        "    image = Image.open(path)\n",
        "  File \"/usr/lib/python2.7/dist-packages/PIL/Image.py\", line 2028, in open\n",
        "    raise IOError(\"cannot identify image file\")\n",
        "IOError: cannot identify image file\n",
        "Traceback (most recent call last):\n"
       ]
      },
      {
       "output_type": "stream",
       "stream": "stdout",
       "text": [
        "\n",
        "(<type 'exceptions.ValueError'>, ValueError(u'Unicode strings with encoding declaration are not supported. Please use bytes input or XML fragments without declaration.',), <traceback object at 0x7f4dcdc7a248>)\n",
        "processed 97 skipped 6\n",
        "error on download2fd3440e-8cf1-422d-8b6b-0ec1082cbebb.html"
       ]
      },
      {
       "output_type": "stream",
       "stream": "stderr",
       "text": [
        "  File \"<ipython-input-67-6114dbc3b5a2>\", line 16, in <module>\n",
        "    res = comp_extractors( extractor_training_object )\n",
        "  File \"<ipython-input-22-91249bf1c046>\", line 19, in comp_extractors\n",
        "    extraction_results = get_extraction_results( eto )\n",
        "  File \"<ipython-input-21-ff5d87d959e4>\", line 25, in get_extraction_results\n",
        "    ret['py_goose']  = { 'extracted_html': extract_with_python_goose( raw_content ) }\n",
        "  File \"<ipython-input-9-da7d07f83e6d>\", line 6, in extract_with_python_goose\n",
        "    r = g.extract( raw_html=raw_content )\n",
        "  File \"/usr/local/lib/python2.7/dist-packages/goose/__init__.py\", line 56, in extract\n",
        "    return self.crawl(cc)\n",
        "  File \"/usr/local/lib/python2.7/dist-packages/goose/__init__.py\", line 63, in crawl\n",
        "    article = crawler.crawl(crawl_candiate)\n",
        "  File \"/usr/local/lib/python2.7/dist-packages/goose/crawler.py\", line 90, in crawl\n",
        "    doc = self.get_document(raw_html)\n",
        "  File \"/usr/local/lib/python2.7/dist-packages/goose/crawler.py\", line 176, in get_document\n",
        "    doc = self.parser.fromstring(raw_html)\n",
        "  File \"/usr/local/lib/python2.7/dist-packages/goose/parsers.py\", line 54, in fromstring\n",
        "    self.doc = lxml.html.fromstring(html)\n",
        "  File \"/usr/local/lib/python2.7/dist-packages/lxml/html/__init__.py\", line 672, in fromstring\n",
        "    doc = document_fromstring(html, parser=parser, base_url=base_url, **kw)\n",
        "  File \"/usr/local/lib/python2.7/dist-packages/lxml/html/__init__.py\", line 568, in document_fromstring\n",
        "    value = etree.fromstring(html, parser, **kw)\n",
        "  File \"lxml.etree.pyx\", line 2997, in lxml.etree.fromstring (src/lxml/lxml.etree.c:63276)\n",
        "  File \"parser.pxi\", line 1607, in lxml.etree._parseMemoryDocument (src/lxml/lxml.etree.c:93592)\n",
        "ValueError: Unicode strings with encoding declaration are not supported. Please use bytes input or XML fragments without declaration.\n",
        "Traceback (most recent call last):\n"
       ]
      },
      {
       "output_type": "stream",
       "stream": "stdout",
       "text": [
        "\n",
        "(<type 'exceptions.IOError'>, IOError('cannot identify image file',), <traceback object at 0x7f4dccd12098>)\n",
        "processed 97 skipped 7\n",
        "processed"
       ]
      },
      {
       "output_type": "stream",
       "stream": "stdout",
       "text": [
        " 98 skipped 7\n",
        "processed"
       ]
      },
      {
       "output_type": "stream",
       "stream": "stdout",
       "text": [
        " 99 skipped 7\n",
        "processed"
       ]
      },
      {
       "output_type": "stream",
       "stream": "stdout",
       "text": [
        " 100 skipped 7\n",
        "processed"
       ]
      },
      {
       "output_type": "stream",
       "stream": "stdout",
       "text": [
        " 101 skipped 7\n",
        "processed"
       ]
      },
      {
       "output_type": "stream",
       "stream": "stdout",
       "text": [
        " 102 skipped 7\n",
        "processed"
       ]
      },
      {
       "output_type": "stream",
       "stream": "stdout",
       "text": [
        " 103 skipped 7\n",
        "processed"
       ]
      },
      {
       "output_type": "stream",
       "stream": "stdout",
       "text": [
        " 104 skipped 7\n",
        "processed"
       ]
      },
      {
       "output_type": "stream",
       "stream": "stdout",
       "text": [
        " 105 skipped 7\n",
        "processed"
       ]
      },
      {
       "output_type": "stream",
       "stream": "stdout",
       "text": [
        " 106 skipped 7\n",
        "error on download3164baec-188a-4116-9aed-a18041854535.html"
       ]
      },
      {
       "output_type": "stream",
       "stream": "stderr",
       "text": [
        "  File \"<ipython-input-67-6114dbc3b5a2>\", line 16, in <module>\n",
        "    res = comp_extractors( extractor_training_object )\n",
        "  File \"<ipython-input-22-91249bf1c046>\", line 19, in comp_extractors\n",
        "    extraction_results = get_extraction_results( eto )\n",
        "  File \"<ipython-input-21-ff5d87d959e4>\", line 25, in get_extraction_results\n",
        "    ret['py_goose']  = { 'extracted_html': extract_with_python_goose( raw_content ) }\n",
        "  File \"<ipython-input-9-da7d07f83e6d>\", line 6, in extract_with_python_goose\n",
        "    r = g.extract( raw_html=raw_content )\n",
        "  File \"/usr/local/lib/python2.7/dist-packages/goose/__init__.py\", line 56, in extract\n",
        "    return self.crawl(cc)\n",
        "  File \"/usr/local/lib/python2.7/dist-packages/goose/__init__.py\", line 63, in crawl\n",
        "    article = crawler.crawl(crawl_candiate)\n",
        "  File \"/usr/local/lib/python2.7/dist-packages/goose/crawler.py\", line 125, in crawl\n",
        "    self.get_image()\n",
        "  File \"/usr/local/lib/python2.7/dist-packages/goose/crawler.py\", line 147, in get_image\n",
        "    self.article.top_image = self.image_extractor.get_best_image(doc, top_node)\n",
        "  File \"/usr/local/lib/python2.7/dist-packages/goose/images/extractors.py\", line 88, in get_best_image\n",
        "    image = self.check_large_images(topNode, 0, 0)\n",
        "  File \"/usr/local/lib/python2.7/dist-packages/goose/images/extractors.py\", line 141, in check_large_images\n",
        "    depth_obj.parent_depth, depth_obj.sibling_depth)\n",
        "  File \"/usr/local/lib/python2.7/dist-packages/goose/images/extractors.py\", line 122, in check_large_images\n",
        "    good_images = self.get_image_candidates(node)\n",
        "  File \"/usr/local/lib/python2.7/dist-packages/goose/images/extractors.py\", line 283, in get_image_candidates\n",
        "    good_images = self.get_images_bytesize_match(filtered_images)\n",
        "  File \"/usr/local/lib/python2.7/dist-packages/goose/images/extractors.py\", line 299, in get_images_bytesize_match\n",
        "    local_image = self.get_local_image(src)\n",
        "  File \"/usr/local/lib/python2.7/dist-packages/goose/images/extractors.py\", line 344, in get_local_image\n",
        "    self.link_hash, src, self.config)\n",
        "  File \"/usr/local/lib/python2.7/dist-packages/goose/images/utils.py\", line 59, in store_image\n",
        "    image = self.write_localfile(data, link_hash, src, config)\n",
        "  File \"/usr/local/lib/python2.7/dist-packages/goose/images/utils.py\", line 101, in write_localfile\n",
        "    return self.read_localfile(link_hash, src, config)\n",
        "  File \"/usr/local/lib/python2.7/dist-packages/goose/images/utils.py\", line 81, in read_localfile\n",
        "    image_details = self.get_image_dimensions(identify, local_image_name)\n",
        "  File \"/usr/local/lib/python2.7/dist-packages/goose/images/utils.py\", line 36, in get_image_dimensions\n",
        "    image = Image.open(path)\n",
        "  File \"/usr/lib/python2.7/dist-packages/PIL/Image.py\", line 2028, in open\n",
        "    raise IOError(\"cannot identify image file\")\n",
        "IOError: cannot identify image file\n",
        "Traceback (most recent call last):\n"
       ]
      },
      {
       "output_type": "stream",
       "stream": "stdout",
       "text": [
        "\n",
        "(<type 'exceptions.IOError'>, IOError(\"Couldn't open file /usr/local/lib/python2.7/dist-packages/goose/resources/text/stopwords-fa.txt\",), <traceback object at 0x7f4dcd474560>)\n",
        "processed 106 skipped 8\n",
        "processed"
       ]
      },
      {
       "output_type": "stream",
       "stream": "stdout",
       "text": [
        " 107 skipped 8\n",
        "processed"
       ]
      },
      {
       "output_type": "stream",
       "stream": "stdout",
       "text": [
        " 108 skipped 8\n",
        "processed"
       ]
      },
      {
       "output_type": "stream",
       "stream": "stdout",
       "text": [
        " 109 skipped 8\n",
        "processed"
       ]
      },
      {
       "output_type": "stream",
       "stream": "stdout",
       "text": [
        " 110 skipped 8\n",
        "processed"
       ]
      },
      {
       "output_type": "stream",
       "stream": "stdout",
       "text": [
        " 111 skipped 8\n",
        "processed"
       ]
      },
      {
       "output_type": "stream",
       "stream": "stdout",
       "text": [
        " 112 skipped 8\n",
        "processed"
       ]
      },
      {
       "output_type": "stream",
       "stream": "stdout",
       "text": [
        " 113 skipped 8\n",
        "processed"
       ]
      },
      {
       "output_type": "stream",
       "stream": "stdout",
       "text": [
        " 114 skipped 8\n",
        "processed"
       ]
      },
      {
       "output_type": "stream",
       "stream": "stdout",
       "text": [
        " 115 skipped 8\n",
        "processed"
       ]
      },
      {
       "output_type": "stream",
       "stream": "stdout",
       "text": [
        " 116 skipped 8\n",
        "processed"
       ]
      },
      {
       "output_type": "stream",
       "stream": "stdout",
       "text": [
        " 117 skipped 8\n",
        "processed"
       ]
      },
      {
       "output_type": "stream",
       "stream": "stdout",
       "text": [
        " 118 skipped 8\n",
        "processed"
       ]
      },
      {
       "output_type": "stream",
       "stream": "stdout",
       "text": [
        " 119 skipped 8\n",
        "processed"
       ]
      },
      {
       "output_type": "stream",
       "stream": "stdout",
       "text": [
        " 120 skipped 8\n",
        "processed"
       ]
      },
      {
       "output_type": "stream",
       "stream": "stdout",
       "text": [
        " 121 skipped 8\n",
        "processed"
       ]
      },
      {
       "output_type": "stream",
       "stream": "stdout",
       "text": [
        " 122 skipped 8\n",
        "processed"
       ]
      },
      {
       "output_type": "stream",
       "stream": "stdout",
       "text": [
        " 123 skipped 8\n",
        "processed"
       ]
      },
      {
       "output_type": "stream",
       "stream": "stdout",
       "text": [
        " 124 skipped 8\n",
        "processed"
       ]
      },
      {
       "output_type": "stream",
       "stream": "stdout",
       "text": [
        " 125 skipped 8\n",
        "processed"
       ]
      },
      {
       "output_type": "stream",
       "stream": "stdout",
       "text": [
        " 126 skipped 8\n",
        "processed"
       ]
      },
      {
       "output_type": "stream",
       "stream": "stdout",
       "text": [
        " 127 skipped 8\n",
        "processed"
       ]
      },
      {
       "output_type": "stream",
       "stream": "stdout",
       "text": [
        " 128 skipped 8\n",
        "processed"
       ]
      },
      {
       "output_type": "stream",
       "stream": "stdout",
       "text": [
        " 129 skipped 8\n",
        "processed"
       ]
      },
      {
       "output_type": "stream",
       "stream": "stdout",
       "text": [
        " 130 skipped 8\n",
        "processed"
       ]
      },
      {
       "output_type": "stream",
       "stream": "stdout",
       "text": [
        " 131 skipped 8\n",
        "processed"
       ]
      },
      {
       "output_type": "stream",
       "stream": "stdout",
       "text": [
        " 132 skipped 8\n",
        "processed"
       ]
      },
      {
       "output_type": "stream",
       "stream": "stdout",
       "text": [
        " 133 skipped 8\n",
        "processed"
       ]
      },
      {
       "output_type": "stream",
       "stream": "stdout",
       "text": [
        " 134 skipped 8\n",
        "processed"
       ]
      },
      {
       "output_type": "stream",
       "stream": "stdout",
       "text": [
        " 135 skipped 8\n",
        "processed"
       ]
      },
      {
       "output_type": "stream",
       "stream": "stdout",
       "text": [
        " 136 skipped 8\n",
        "processed"
       ]
      },
      {
       "output_type": "stream",
       "stream": "stdout",
       "text": [
        " 137 skipped 8\n",
        "processed"
       ]
      },
      {
       "output_type": "stream",
       "stream": "stdout",
       "text": [
        " 138 skipped 8\n",
        "error on download41f7673a-553d-4893-9a51-ef7bb0ce6293.html"
       ]
      },
      {
       "output_type": "stream",
       "stream": "stderr",
       "text": [
        "  File \"<ipython-input-67-6114dbc3b5a2>\", line 16, in <module>\n",
        "    res = comp_extractors( extractor_training_object )\n",
        "  File \"<ipython-input-22-91249bf1c046>\", line 19, in comp_extractors\n",
        "    extraction_results = get_extraction_results( eto )\n",
        "  File \"<ipython-input-21-ff5d87d959e4>\", line 25, in get_extraction_results\n",
        "    ret['py_goose']  = { 'extracted_html': extract_with_python_goose( raw_content ) }\n",
        "  File \"<ipython-input-9-da7d07f83e6d>\", line 6, in extract_with_python_goose\n",
        "    r = g.extract( raw_html=raw_content )\n",
        "  File \"/usr/local/lib/python2.7/dist-packages/goose/__init__.py\", line 56, in extract\n",
        "    return self.crawl(cc)\n",
        "  File \"/usr/local/lib/python2.7/dist-packages/goose/__init__.py\", line 63, in crawl\n",
        "    article = crawler.crawl(crawl_candiate)\n",
        "  File \"/usr/local/lib/python2.7/dist-packages/goose/crawler.py\", line 131, in crawl\n",
        "    self.article.cleaned_text = self.formatter.get_formatted_text()\n",
        "  File \"/usr/local/lib/python2.7/dist-packages/goose/outputformatters.py\", line 66, in get_formatted_text\n",
        "    self.remove_fewwords_paragraphs()\n",
        "  File \"/usr/local/lib/python2.7/dist-packages/goose/outputformatters.py\", line 123, in remove_fewwords_paragraphs\n",
        "    stop_words = self.stopwords_class(language=self.get_language()).get_stopword_count(text)\n",
        "  File \"/usr/local/lib/python2.7/dist-packages/goose/text.py\", line 98, in __init__\n",
        "    self._cached_stop_words[language] = set(FileHelper.loadResourceFile(path).splitlines())\n",
        "  File \"/usr/local/lib/python2.7/dist-packages/goose/utils/__init__.py\", line 79, in loadResourceFile\n",
        "    raise IOError(\"Couldn't open file %s\" % path)\n",
        "IOError: Couldn't open file /usr/local/lib/python2.7/dist-packages/goose/resources/text/stopwords-fa.txt\n",
        "Traceback (most recent call last):\n"
       ]
      },
      {
       "output_type": "stream",
       "stream": "stdout",
       "text": [
        "\n",
        "(<type 'exceptions.IOError'>, IOError('cannot identify image file',), <traceback object at 0x7f4dccce5908>)\n",
        "processed 138 skipped 9\n",
        "error on download42abb137-8a90-47db-90e2-3f8013cb9ae8.html"
       ]
      },
      {
       "output_type": "stream",
       "stream": "stderr",
       "text": [
        "  File \"<ipython-input-67-6114dbc3b5a2>\", line 16, in <module>\n",
        "    res = comp_extractors( extractor_training_object )\n",
        "  File \"<ipython-input-22-91249bf1c046>\", line 19, in comp_extractors\n",
        "    extraction_results = get_extraction_results( eto )\n",
        "  File \"<ipython-input-21-ff5d87d959e4>\", line 25, in get_extraction_results\n",
        "    ret['py_goose']  = { 'extracted_html': extract_with_python_goose( raw_content ) }\n",
        "  File \"<ipython-input-9-da7d07f83e6d>\", line 6, in extract_with_python_goose\n",
        "    r = g.extract( raw_html=raw_content )\n",
        "  File \"/usr/local/lib/python2.7/dist-packages/goose/__init__.py\", line 56, in extract\n",
        "    return self.crawl(cc)\n",
        "  File \"/usr/local/lib/python2.7/dist-packages/goose/__init__.py\", line 63, in crawl\n",
        "    article = crawler.crawl(crawl_candiate)\n",
        "  File \"/usr/local/lib/python2.7/dist-packages/goose/crawler.py\", line 125, in crawl\n",
        "    self.get_image()\n",
        "  File \"/usr/local/lib/python2.7/dist-packages/goose/crawler.py\", line 147, in get_image\n",
        "    self.article.top_image = self.image_extractor.get_best_image(doc, top_node)\n",
        "  File \"/usr/local/lib/python2.7/dist-packages/goose/images/extractors.py\", line 88, in get_best_image\n",
        "    image = self.check_large_images(topNode, 0, 0)\n",
        "  File \"/usr/local/lib/python2.7/dist-packages/goose/images/extractors.py\", line 141, in check_large_images\n",
        "    depth_obj.parent_depth, depth_obj.sibling_depth)\n",
        "  File \"/usr/local/lib/python2.7/dist-packages/goose/images/extractors.py\", line 122, in check_large_images\n",
        "    good_images = self.get_image_candidates(node)\n",
        "  File \"/usr/local/lib/python2.7/dist-packages/goose/images/extractors.py\", line 283, in get_image_candidates\n",
        "    good_images = self.get_images_bytesize_match(filtered_images)\n",
        "  File \"/usr/local/lib/python2.7/dist-packages/goose/images/extractors.py\", line 299, in get_images_bytesize_match\n",
        "    local_image = self.get_local_image(src)\n",
        "  File \"/usr/local/lib/python2.7/dist-packages/goose/images/extractors.py\", line 344, in get_local_image\n",
        "    self.link_hash, src, self.config)\n",
        "  File \"/usr/local/lib/python2.7/dist-packages/goose/images/utils.py\", line 59, in store_image\n",
        "    image = self.write_localfile(data, link_hash, src, config)\n",
        "  File \"/usr/local/lib/python2.7/dist-packages/goose/images/utils.py\", line 101, in write_localfile\n",
        "    return self.read_localfile(link_hash, src, config)\n",
        "  File \"/usr/local/lib/python2.7/dist-packages/goose/images/utils.py\", line 81, in read_localfile\n",
        "    image_details = self.get_image_dimensions(identify, local_image_name)\n",
        "  File \"/usr/local/lib/python2.7/dist-packages/goose/images/utils.py\", line 36, in get_image_dimensions\n",
        "    image = Image.open(path)\n",
        "  File \"/usr/lib/python2.7/dist-packages/PIL/Image.py\", line 2028, in open\n",
        "    raise IOError(\"cannot identify image file\")\n",
        "IOError: cannot identify image file\n",
        "Traceback (most recent call last):\n"
       ]
      },
      {
       "output_type": "stream",
       "stream": "stdout",
       "text": [
        "\n",
        "(<type 'exceptions.IOError'>, IOError('cannot identify image file',), <traceback object at 0x7f4da2191b48>)\n",
        "processed 138 skipped 10\n",
        "processed"
       ]
      },
      {
       "output_type": "stream",
       "stream": "stdout",
       "text": [
        " 139 skipped 10\n",
        "error on download43fb5dbe-6f8c-45f8-bd59-7b258df028fb.html"
       ]
      },
      {
       "output_type": "stream",
       "stream": "stderr",
       "text": [
        "  File \"<ipython-input-67-6114dbc3b5a2>\", line 16, in <module>\n",
        "    res = comp_extractors( extractor_training_object )\n",
        "  File \"<ipython-input-22-91249bf1c046>\", line 19, in comp_extractors\n",
        "    extraction_results = get_extraction_results( eto )\n",
        "  File \"<ipython-input-21-ff5d87d959e4>\", line 25, in get_extraction_results\n",
        "    ret['py_goose']  = { 'extracted_html': extract_with_python_goose( raw_content ) }\n",
        "  File \"<ipython-input-9-da7d07f83e6d>\", line 6, in extract_with_python_goose\n",
        "    r = g.extract( raw_html=raw_content )\n",
        "  File \"/usr/local/lib/python2.7/dist-packages/goose/__init__.py\", line 56, in extract\n",
        "    return self.crawl(cc)\n",
        "  File \"/usr/local/lib/python2.7/dist-packages/goose/__init__.py\", line 63, in crawl\n",
        "    article = crawler.crawl(crawl_candiate)\n",
        "  File \"/usr/local/lib/python2.7/dist-packages/goose/crawler.py\", line 125, in crawl\n",
        "    self.get_image()\n",
        "  File \"/usr/local/lib/python2.7/dist-packages/goose/crawler.py\", line 147, in get_image\n",
        "    self.article.top_image = self.image_extractor.get_best_image(doc, top_node)\n",
        "  File \"/usr/local/lib/python2.7/dist-packages/goose/images/extractors.py\", line 88, in get_best_image\n",
        "    image = self.check_large_images(topNode, 0, 0)\n",
        "  File \"/usr/local/lib/python2.7/dist-packages/goose/images/extractors.py\", line 141, in check_large_images\n",
        "    depth_obj.parent_depth, depth_obj.sibling_depth)\n",
        "  File \"/usr/local/lib/python2.7/dist-packages/goose/images/extractors.py\", line 141, in check_large_images\n",
        "    depth_obj.parent_depth, depth_obj.sibling_depth)\n",
        "  File \"/usr/local/lib/python2.7/dist-packages/goose/images/extractors.py\", line 141, in check_large_images\n",
        "    depth_obj.parent_depth, depth_obj.sibling_depth)\n",
        "  File \"/usr/local/lib/python2.7/dist-packages/goose/images/extractors.py\", line 122, in check_large_images\n",
        "    good_images = self.get_image_candidates(node)\n",
        "  File \"/usr/local/lib/python2.7/dist-packages/goose/images/extractors.py\", line 283, in get_image_candidates\n",
        "    good_images = self.get_images_bytesize_match(filtered_images)\n",
        "  File \"/usr/local/lib/python2.7/dist-packages/goose/images/extractors.py\", line 299, in get_images_bytesize_match\n",
        "    local_image = self.get_local_image(src)\n",
        "  File \"/usr/local/lib/python2.7/dist-packages/goose/images/extractors.py\", line 344, in get_local_image\n",
        "    self.link_hash, src, self.config)\n",
        "  File \"/usr/local/lib/python2.7/dist-packages/goose/images/utils.py\", line 59, in store_image\n",
        "    image = self.write_localfile(data, link_hash, src, config)\n",
        "  File \"/usr/local/lib/python2.7/dist-packages/goose/images/utils.py\", line 101, in write_localfile\n",
        "    return self.read_localfile(link_hash, src, config)\n",
        "  File \"/usr/local/lib/python2.7/dist-packages/goose/images/utils.py\", line 81, in read_localfile\n",
        "    image_details = self.get_image_dimensions(identify, local_image_name)\n",
        "  File \"/usr/local/lib/python2.7/dist-packages/goose/images/utils.py\", line 36, in get_image_dimensions\n",
        "    image = Image.open(path)\n",
        "  File \"/usr/lib/python2.7/dist-packages/PIL/Image.py\", line 2028, in open\n",
        "    raise IOError(\"cannot identify image file\")\n",
        "IOError: cannot identify image file\n",
        "Traceback (most recent call last):\n"
       ]
      },
      {
       "output_type": "stream",
       "stream": "stdout",
       "text": [
        "\n",
        "(<type 'exceptions.ValueError'>, ValueError(u'Unicode strings with encoding declaration are not supported. Please use bytes input or XML fragments without declaration.',), <traceback object at 0x7f4de618fc68>)\n",
        "processed 139 skipped 11\n",
        "processed"
       ]
      },
      {
       "output_type": "stream",
       "stream": "stdout",
       "text": [
        " 140 skipped 11\n",
        "processed"
       ]
      },
      {
       "output_type": "stream",
       "stream": "stdout",
       "text": [
        " 141 skipped 11\n",
        "processed"
       ]
      },
      {
       "output_type": "stream",
       "stream": "stdout",
       "text": [
        " 142 skipped 11\n",
        "processed"
       ]
      },
      {
       "output_type": "stream",
       "stream": "stdout",
       "text": [
        " 143 skipped 11\n",
        "processed"
       ]
      },
      {
       "output_type": "stream",
       "stream": "stdout",
       "text": [
        " 144 skipped 11\n",
        "processed"
       ]
      },
      {
       "output_type": "stream",
       "stream": "stdout",
       "text": [
        " 145 skipped 11\n",
        "processed"
       ]
      },
      {
       "output_type": "stream",
       "stream": "stdout",
       "text": [
        " 146 skipped 11\n",
        "processed"
       ]
      },
      {
       "output_type": "stream",
       "stream": "stdout",
       "text": [
        " 147 skipped 11\n",
        "processed"
       ]
      },
      {
       "output_type": "stream",
       "stream": "stdout",
       "text": [
        " 148 skipped 11\n",
        "processed"
       ]
      },
      {
       "output_type": "stream",
       "stream": "stdout",
       "text": [
        " 149 skipped 11\n",
        "processed"
       ]
      },
      {
       "output_type": "stream",
       "stream": "stdout",
       "text": [
        " 150 skipped 11\n",
        "processed"
       ]
      },
      {
       "output_type": "stream",
       "stream": "stdout",
       "text": [
        " 151 skipped 11\n",
        "processed"
       ]
      },
      {
       "output_type": "stream",
       "stream": "stdout",
       "text": [
        " 152 skipped 11\n",
        "processed"
       ]
      },
      {
       "output_type": "stream",
       "stream": "stdout",
       "text": [
        " 153 skipped 11\n",
        "processed"
       ]
      },
      {
       "output_type": "stream",
       "stream": "stdout",
       "text": [
        " 154 skipped 11\n",
        "processed"
       ]
      },
      {
       "output_type": "stream",
       "stream": "stdout",
       "text": [
        " 155 skipped 11\n",
        "processed"
       ]
      },
      {
       "output_type": "stream",
       "stream": "stdout",
       "text": [
        " 156 skipped 11\n",
        "processed"
       ]
      },
      {
       "output_type": "stream",
       "stream": "stdout",
       "text": [
        " 157 skipped 11\n",
        "processed"
       ]
      },
      {
       "output_type": "stream",
       "stream": "stdout",
       "text": [
        " 158 skipped 11\n",
        "processed"
       ]
      },
      {
       "output_type": "stream",
       "stream": "stdout",
       "text": [
        " 159 skipped 11\n",
        "processed"
       ]
      },
      {
       "output_type": "stream",
       "stream": "stdout",
       "text": [
        " 160 skipped 11\n",
        "processed"
       ]
      },
      {
       "output_type": "stream",
       "stream": "stdout",
       "text": [
        " 161 skipped 11\n",
        "processed"
       ]
      },
      {
       "output_type": "stream",
       "stream": "stdout",
       "text": [
        " 162 skipped 11\n",
        "processed"
       ]
      },
      {
       "output_type": "stream",
       "stream": "stdout",
       "text": [
        " 163 skipped 11\n",
        "processed"
       ]
      },
      {
       "output_type": "stream",
       "stream": "stdout",
       "text": [
        " 164 skipped 11\n",
        "processed"
       ]
      },
      {
       "output_type": "stream",
       "stream": "stdout",
       "text": [
        " 165 skipped 11\n",
        "processed"
       ]
      },
      {
       "output_type": "stream",
       "stream": "stdout",
       "text": [
        " 166 skipped 11\n",
        "processed"
       ]
      },
      {
       "output_type": "stream",
       "stream": "stdout",
       "text": [
        " 167 skipped 11\n",
        "processed"
       ]
      },
      {
       "output_type": "stream",
       "stream": "stdout",
       "text": [
        " 168 skipped 11\n",
        "processed"
       ]
      },
      {
       "output_type": "stream",
       "stream": "stdout",
       "text": [
        " 169 skipped 11\n",
        "processed"
       ]
      },
      {
       "output_type": "stream",
       "stream": "stdout",
       "text": [
        " 170 skipped 11\n",
        "processed"
       ]
      },
      {
       "output_type": "stream",
       "stream": "stdout",
       "text": [
        " 171 skipped 11\n",
        "processed"
       ]
      },
      {
       "output_type": "stream",
       "stream": "stdout",
       "text": [
        " 172 skipped 11\n",
        "processed"
       ]
      },
      {
       "output_type": "stream",
       "stream": "stdout",
       "text": [
        " 173 skipped 11\n",
        "error on download50f75f84-f64b-4d08-87dc-b351742a4e4b.html"
       ]
      },
      {
       "output_type": "stream",
       "stream": "stderr",
       "text": [
        "  File \"<ipython-input-67-6114dbc3b5a2>\", line 16, in <module>\n",
        "    res = comp_extractors( extractor_training_object )\n",
        "  File \"<ipython-input-22-91249bf1c046>\", line 19, in comp_extractors\n",
        "    extraction_results = get_extraction_results( eto )\n",
        "  File \"<ipython-input-21-ff5d87d959e4>\", line 25, in get_extraction_results\n",
        "    ret['py_goose']  = { 'extracted_html': extract_with_python_goose( raw_content ) }\n",
        "  File \"<ipython-input-9-da7d07f83e6d>\", line 6, in extract_with_python_goose\n",
        "    r = g.extract( raw_html=raw_content )\n",
        "  File \"/usr/local/lib/python2.7/dist-packages/goose/__init__.py\", line 56, in extract\n",
        "    return self.crawl(cc)\n",
        "  File \"/usr/local/lib/python2.7/dist-packages/goose/__init__.py\", line 63, in crawl\n",
        "    article = crawler.crawl(crawl_candiate)\n",
        "  File \"/usr/local/lib/python2.7/dist-packages/goose/crawler.py\", line 90, in crawl\n",
        "    doc = self.get_document(raw_html)\n",
        "  File \"/usr/local/lib/python2.7/dist-packages/goose/crawler.py\", line 176, in get_document\n",
        "    doc = self.parser.fromstring(raw_html)\n",
        "  File \"/usr/local/lib/python2.7/dist-packages/goose/parsers.py\", line 54, in fromstring\n",
        "    self.doc = lxml.html.fromstring(html)\n",
        "  File \"/usr/local/lib/python2.7/dist-packages/lxml/html/__init__.py\", line 672, in fromstring\n",
        "    doc = document_fromstring(html, parser=parser, base_url=base_url, **kw)\n",
        "  File \"/usr/local/lib/python2.7/dist-packages/lxml/html/__init__.py\", line 568, in document_fromstring\n",
        "    value = etree.fromstring(html, parser, **kw)\n",
        "  File \"lxml.etree.pyx\", line 2997, in lxml.etree.fromstring (src/lxml/lxml.etree.c:63276)\n",
        "  File \"parser.pxi\", line 1607, in lxml.etree._parseMemoryDocument (src/lxml/lxml.etree.c:93592)\n",
        "ValueError: Unicode strings with encoding declaration are not supported. Please use bytes input or XML fragments without declaration.\n",
        "Traceback (most recent call last):\n"
       ]
      },
      {
       "output_type": "stream",
       "stream": "stdout",
       "text": [
        "\n",
        "(<type 'exceptions.IOError'>, IOError('cannot identify image file',), <traceback object at 0x7f4da21b62d8>)\n",
        "processed 173 skipped 12\n",
        "processed"
       ]
      },
      {
       "output_type": "stream",
       "stream": "stdout",
       "text": [
        " 174 skipped 12\n",
        "processed"
       ]
      },
      {
       "output_type": "stream",
       "stream": "stdout",
       "text": [
        " 175 skipped 12\n",
        "processed"
       ]
      },
      {
       "output_type": "stream",
       "stream": "stdout",
       "text": [
        " 176 skipped 12\n",
        "processed"
       ]
      },
      {
       "output_type": "stream",
       "stream": "stdout",
       "text": [
        " 177 skipped 12\n",
        "processed"
       ]
      },
      {
       "output_type": "stream",
       "stream": "stdout",
       "text": [
        " 178 skipped 12\n",
        "processed"
       ]
      },
      {
       "output_type": "stream",
       "stream": "stdout",
       "text": [
        " 179 skipped 12\n",
        "processed"
       ]
      },
      {
       "output_type": "stream",
       "stream": "stdout",
       "text": [
        " 180 skipped 12\n",
        "processed"
       ]
      },
      {
       "output_type": "stream",
       "stream": "stdout",
       "text": [
        " 181 skipped 12\n",
        "processed"
       ]
      },
      {
       "output_type": "stream",
       "stream": "stdout",
       "text": [
        " 182 skipped 12\n",
        "processed"
       ]
      },
      {
       "output_type": "stream",
       "stream": "stdout",
       "text": [
        " 183 skipped 12\n",
        "processed"
       ]
      },
      {
       "output_type": "stream",
       "stream": "stdout",
       "text": [
        " 184 skipped 12\n",
        "processed"
       ]
      },
      {
       "output_type": "stream",
       "stream": "stdout",
       "text": [
        " 185 skipped 12\n",
        "processed"
       ]
      },
      {
       "output_type": "stream",
       "stream": "stdout",
       "text": [
        " 186 skipped 12\n",
        "processed"
       ]
      },
      {
       "output_type": "stream",
       "stream": "stdout",
       "text": [
        " 187 skipped 12\n",
        "processed"
       ]
      },
      {
       "output_type": "stream",
       "stream": "stdout",
       "text": [
        " 188 skipped 12\n",
        "processed"
       ]
      },
      {
       "output_type": "stream",
       "stream": "stdout",
       "text": [
        " 189 skipped 12\n",
        "processed"
       ]
      },
      {
       "output_type": "stream",
       "stream": "stdout",
       "text": [
        " 190 skipped 12\n",
        "processed"
       ]
      },
      {
       "output_type": "stream",
       "stream": "stdout",
       "text": [
        " 191 skipped 12\n",
        "processed"
       ]
      },
      {
       "output_type": "stream",
       "stream": "stdout",
       "text": [
        " 192 skipped 12\n",
        "processed"
       ]
      },
      {
       "output_type": "stream",
       "stream": "stdout",
       "text": [
        " 193 skipped 12\n",
        "processed"
       ]
      },
      {
       "output_type": "stream",
       "stream": "stdout",
       "text": [
        " 194 skipped 12\n",
        "processed"
       ]
      },
      {
       "output_type": "stream",
       "stream": "stdout",
       "text": [
        " 195 skipped 12\n",
        "processed"
       ]
      },
      {
       "output_type": "stream",
       "stream": "stdout",
       "text": [
        " 196 skipped 12\n",
        "processed"
       ]
      },
      {
       "output_type": "stream",
       "stream": "stdout",
       "text": [
        " 197 skipped 12\n",
        "processed"
       ]
      },
      {
       "output_type": "stream",
       "stream": "stdout",
       "text": [
        " 198 skipped 12\n",
        "processed"
       ]
      },
      {
       "output_type": "stream",
       "stream": "stdout",
       "text": [
        " 199 skipped 12\n",
        "processed"
       ]
      },
      {
       "output_type": "stream",
       "stream": "stdout",
       "text": [
        " 200 skipped 12\n",
        "processed"
       ]
      },
      {
       "output_type": "stream",
       "stream": "stdout",
       "text": [
        " 201 skipped 12\n",
        "processed"
       ]
      },
      {
       "output_type": "stream",
       "stream": "stdout",
       "text": [
        " 202 skipped 12\n",
        "processed"
       ]
      },
      {
       "output_type": "stream",
       "stream": "stdout",
       "text": [
        " 203 skipped 12\n",
        "processed"
       ]
      },
      {
       "output_type": "stream",
       "stream": "stdout",
       "text": [
        " 204 skipped 12\n",
        "processed"
       ]
      },
      {
       "output_type": "stream",
       "stream": "stdout",
       "text": [
        " 205 skipped 12\n",
        "processed"
       ]
      },
      {
       "output_type": "stream",
       "stream": "stdout",
       "text": [
        " 206 skipped 12\n",
        "processed"
       ]
      },
      {
       "output_type": "stream",
       "stream": "stdout",
       "text": [
        " 207 skipped 12\n",
        "processed"
       ]
      },
      {
       "output_type": "stream",
       "stream": "stdout",
       "text": [
        " 208 skipped 12\n",
        "processed"
       ]
      },
      {
       "output_type": "stream",
       "stream": "stdout",
       "text": [
        " 209 skipped 12\n",
        "processed"
       ]
      },
      {
       "output_type": "stream",
       "stream": "stdout",
       "text": [
        " 210 skipped 12\n",
        "processed"
       ]
      },
      {
       "output_type": "stream",
       "stream": "stdout",
       "text": [
        " 211 skipped 12\n",
        "processed"
       ]
      },
      {
       "output_type": "stream",
       "stream": "stdout",
       "text": [
        " 212 skipped 12\n",
        "processed"
       ]
      },
      {
       "output_type": "stream",
       "stream": "stdout",
       "text": [
        " 213 skipped 12\n",
        "processed"
       ]
      },
      {
       "output_type": "stream",
       "stream": "stdout",
       "text": [
        " 214 skipped 12\n",
        "processed"
       ]
      },
      {
       "output_type": "stream",
       "stream": "stdout",
       "text": [
        " 215 skipped 12\n",
        "processed"
       ]
      },
      {
       "output_type": "stream",
       "stream": "stdout",
       "text": [
        " 216 skipped 12\n",
        "processed"
       ]
      },
      {
       "output_type": "stream",
       "stream": "stdout",
       "text": [
        " 217 skipped 12\n",
        "processed"
       ]
      },
      {
       "output_type": "stream",
       "stream": "stdout",
       "text": [
        " 218 skipped 12\n",
        "processed"
       ]
      },
      {
       "output_type": "stream",
       "stream": "stdout",
       "text": [
        " 219 skipped 12\n",
        "processed"
       ]
      },
      {
       "output_type": "stream",
       "stream": "stdout",
       "text": [
        " 220 skipped 12\n",
        "processed"
       ]
      },
      {
       "output_type": "stream",
       "stream": "stdout",
       "text": [
        " 221 skipped 12\n",
        "processed"
       ]
      },
      {
       "output_type": "stream",
       "stream": "stdout",
       "text": [
        " 222 skipped 12\n",
        "processed"
       ]
      },
      {
       "output_type": "stream",
       "stream": "stdout",
       "text": [
        " 223 skipped 12\n",
        "processed"
       ]
      },
      {
       "output_type": "stream",
       "stream": "stdout",
       "text": [
        " 224 skipped 12\n",
        "processed"
       ]
      },
      {
       "output_type": "stream",
       "stream": "stdout",
       "text": [
        " 225 skipped 12\n",
        "processed"
       ]
      },
      {
       "output_type": "stream",
       "stream": "stdout",
       "text": [
        " 226 skipped 12\n",
        "error on download693c707d-eeab-4486-97d0-2f3d286d1a0e.html"
       ]
      },
      {
       "output_type": "stream",
       "stream": "stderr",
       "text": [
        "  File \"<ipython-input-67-6114dbc3b5a2>\", line 16, in <module>\n",
        "    res = comp_extractors( extractor_training_object )\n",
        "  File \"<ipython-input-22-91249bf1c046>\", line 19, in comp_extractors\n",
        "    extraction_results = get_extraction_results( eto )\n",
        "  File \"<ipython-input-21-ff5d87d959e4>\", line 25, in get_extraction_results\n",
        "    ret['py_goose']  = { 'extracted_html': extract_with_python_goose( raw_content ) }\n",
        "  File \"<ipython-input-9-da7d07f83e6d>\", line 6, in extract_with_python_goose\n",
        "    r = g.extract( raw_html=raw_content )\n",
        "  File \"/usr/local/lib/python2.7/dist-packages/goose/__init__.py\", line 56, in extract\n",
        "    return self.crawl(cc)\n",
        "  File \"/usr/local/lib/python2.7/dist-packages/goose/__init__.py\", line 63, in crawl\n",
        "    article = crawler.crawl(crawl_candiate)\n",
        "  File \"/usr/local/lib/python2.7/dist-packages/goose/crawler.py\", line 125, in crawl\n",
        "    self.get_image()\n",
        "  File \"/usr/local/lib/python2.7/dist-packages/goose/crawler.py\", line 147, in get_image\n",
        "    self.article.top_image = self.image_extractor.get_best_image(doc, top_node)\n",
        "  File \"/usr/local/lib/python2.7/dist-packages/goose/images/extractors.py\", line 88, in get_best_image\n",
        "    image = self.check_large_images(topNode, 0, 0)\n",
        "  File \"/usr/local/lib/python2.7/dist-packages/goose/images/extractors.py\", line 141, in check_large_images\n",
        "    depth_obj.parent_depth, depth_obj.sibling_depth)\n",
        "  File \"/usr/local/lib/python2.7/dist-packages/goose/images/extractors.py\", line 122, in check_large_images\n",
        "    good_images = self.get_image_candidates(node)\n",
        "  File \"/usr/local/lib/python2.7/dist-packages/goose/images/extractors.py\", line 283, in get_image_candidates\n",
        "    good_images = self.get_images_bytesize_match(filtered_images)\n",
        "  File \"/usr/local/lib/python2.7/dist-packages/goose/images/extractors.py\", line 299, in get_images_bytesize_match\n",
        "    local_image = self.get_local_image(src)\n",
        "  File \"/usr/local/lib/python2.7/dist-packages/goose/images/extractors.py\", line 344, in get_local_image\n",
        "    self.link_hash, src, self.config)\n",
        "  File \"/usr/local/lib/python2.7/dist-packages/goose/images/utils.py\", line 59, in store_image\n",
        "    image = self.write_localfile(data, link_hash, src, config)\n",
        "  File \"/usr/local/lib/python2.7/dist-packages/goose/images/utils.py\", line 101, in write_localfile\n",
        "    return self.read_localfile(link_hash, src, config)\n",
        "  File \"/usr/local/lib/python2.7/dist-packages/goose/images/utils.py\", line 81, in read_localfile\n",
        "    image_details = self.get_image_dimensions(identify, local_image_name)\n",
        "  File \"/usr/local/lib/python2.7/dist-packages/goose/images/utils.py\", line 36, in get_image_dimensions\n",
        "    image = Image.open(path)\n",
        "  File \"/usr/lib/python2.7/dist-packages/PIL/Image.py\", line 2028, in open\n",
        "    raise IOError(\"cannot identify image file\")\n",
        "IOError: cannot identify image file\n",
        "Traceback (most recent call last):\n"
       ]
      },
      {
       "output_type": "stream",
       "stream": "stdout",
       "text": [
        "\n",
        "(<type 'exceptions.ValueError'>, ValueError(u'Unicode strings with encoding declaration are not supported. Please use bytes input or XML fragments without declaration.',), <traceback object at 0x7f4da21aca28>)\n",
        "processed 226 skipped 13\n",
        "processed"
       ]
      },
      {
       "output_type": "stream",
       "stream": "stdout",
       "text": [
        " 227 skipped 13\n",
        "processed"
       ]
      },
      {
       "output_type": "stream",
       "stream": "stdout",
       "text": [
        " 228 skipped 13\n",
        "processed"
       ]
      },
      {
       "output_type": "stream",
       "stream": "stdout",
       "text": [
        " 229 skipped 13\n",
        "error on download69df3069-b6f2-4624-8f94-c9aa23298e3b.html"
       ]
      },
      {
       "output_type": "stream",
       "stream": "stderr",
       "text": [
        "  File \"<ipython-input-67-6114dbc3b5a2>\", line 16, in <module>\n",
        "    res = comp_extractors( extractor_training_object )\n",
        "  File \"<ipython-input-22-91249bf1c046>\", line 19, in comp_extractors\n",
        "    extraction_results = get_extraction_results( eto )\n",
        "  File \"<ipython-input-21-ff5d87d959e4>\", line 25, in get_extraction_results\n",
        "    ret['py_goose']  = { 'extracted_html': extract_with_python_goose( raw_content ) }\n",
        "  File \"<ipython-input-9-da7d07f83e6d>\", line 6, in extract_with_python_goose\n",
        "    r = g.extract( raw_html=raw_content )\n",
        "  File \"/usr/local/lib/python2.7/dist-packages/goose/__init__.py\", line 56, in extract\n",
        "    return self.crawl(cc)\n",
        "  File \"/usr/local/lib/python2.7/dist-packages/goose/__init__.py\", line 63, in crawl\n",
        "    article = crawler.crawl(crawl_candiate)\n",
        "  File \"/usr/local/lib/python2.7/dist-packages/goose/crawler.py\", line 90, in crawl\n",
        "    doc = self.get_document(raw_html)\n",
        "  File \"/usr/local/lib/python2.7/dist-packages/goose/crawler.py\", line 176, in get_document\n",
        "    doc = self.parser.fromstring(raw_html)\n",
        "  File \"/usr/local/lib/python2.7/dist-packages/goose/parsers.py\", line 54, in fromstring\n",
        "    self.doc = lxml.html.fromstring(html)\n",
        "  File \"/usr/local/lib/python2.7/dist-packages/lxml/html/__init__.py\", line 672, in fromstring\n",
        "    doc = document_fromstring(html, parser=parser, base_url=base_url, **kw)\n",
        "  File \"/usr/local/lib/python2.7/dist-packages/lxml/html/__init__.py\", line 568, in document_fromstring\n",
        "    value = etree.fromstring(html, parser, **kw)\n",
        "  File \"lxml.etree.pyx\", line 2997, in lxml.etree.fromstring (src/lxml/lxml.etree.c:63276)\n",
        "  File \"parser.pxi\", line 1607, in lxml.etree._parseMemoryDocument (src/lxml/lxml.etree.c:93592)\n",
        "ValueError: Unicode strings with encoding declaration are not supported. Please use bytes input or XML fragments without declaration.\n",
        "Traceback (most recent call last):\n"
       ]
      },
      {
       "output_type": "stream",
       "stream": "stdout",
       "text": [
        "\n",
        "(<type 'exceptions.IOError'>, IOError('cannot identify image file',), <traceback object at 0x7f4df95eea28>)\n",
        "processed 229 skipped 14\n",
        "processed"
       ]
      },
      {
       "output_type": "stream",
       "stream": "stdout",
       "text": [
        " 230 skipped 14\n",
        "error on download6bb2477c-bb70-4027-8851-d15a51cd9a49.html"
       ]
      },
      {
       "output_type": "stream",
       "stream": "stderr",
       "text": [
        "  File \"<ipython-input-67-6114dbc3b5a2>\", line 16, in <module>\n",
        "    res = comp_extractors( extractor_training_object )\n",
        "  File \"<ipython-input-22-91249bf1c046>\", line 19, in comp_extractors\n",
        "    extraction_results = get_extraction_results( eto )\n",
        "  File \"<ipython-input-21-ff5d87d959e4>\", line 25, in get_extraction_results\n",
        "    ret['py_goose']  = { 'extracted_html': extract_with_python_goose( raw_content ) }\n",
        "  File \"<ipython-input-9-da7d07f83e6d>\", line 6, in extract_with_python_goose\n",
        "    r = g.extract( raw_html=raw_content )\n",
        "  File \"/usr/local/lib/python2.7/dist-packages/goose/__init__.py\", line 56, in extract\n",
        "    return self.crawl(cc)\n",
        "  File \"/usr/local/lib/python2.7/dist-packages/goose/__init__.py\", line 63, in crawl\n",
        "    article = crawler.crawl(crawl_candiate)\n",
        "  File \"/usr/local/lib/python2.7/dist-packages/goose/crawler.py\", line 125, in crawl\n",
        "    self.get_image()\n",
        "  File \"/usr/local/lib/python2.7/dist-packages/goose/crawler.py\", line 147, in get_image\n",
        "    self.article.top_image = self.image_extractor.get_best_image(doc, top_node)\n",
        "  File \"/usr/local/lib/python2.7/dist-packages/goose/images/extractors.py\", line 88, in get_best_image\n",
        "    image = self.check_large_images(topNode, 0, 0)\n",
        "  File \"/usr/local/lib/python2.7/dist-packages/goose/images/extractors.py\", line 141, in check_large_images\n",
        "    depth_obj.parent_depth, depth_obj.sibling_depth)\n",
        "  File \"/usr/local/lib/python2.7/dist-packages/goose/images/extractors.py\", line 141, in check_large_images\n",
        "    depth_obj.parent_depth, depth_obj.sibling_depth)\n",
        "  File \"/usr/local/lib/python2.7/dist-packages/goose/images/extractors.py\", line 122, in check_large_images\n",
        "    good_images = self.get_image_candidates(node)\n",
        "  File \"/usr/local/lib/python2.7/dist-packages/goose/images/extractors.py\", line 283, in get_image_candidates\n",
        "    good_images = self.get_images_bytesize_match(filtered_images)\n",
        "  File \"/usr/local/lib/python2.7/dist-packages/goose/images/extractors.py\", line 299, in get_images_bytesize_match\n",
        "    local_image = self.get_local_image(src)\n",
        "  File \"/usr/local/lib/python2.7/dist-packages/goose/images/extractors.py\", line 344, in get_local_image\n",
        "    self.link_hash, src, self.config)\n",
        "  File \"/usr/local/lib/python2.7/dist-packages/goose/images/utils.py\", line 59, in store_image\n",
        "    image = self.write_localfile(data, link_hash, src, config)\n",
        "  File \"/usr/local/lib/python2.7/dist-packages/goose/images/utils.py\", line 101, in write_localfile\n",
        "    return self.read_localfile(link_hash, src, config)\n",
        "  File \"/usr/local/lib/python2.7/dist-packages/goose/images/utils.py\", line 81, in read_localfile\n",
        "    image_details = self.get_image_dimensions(identify, local_image_name)\n",
        "  File \"/usr/local/lib/python2.7/dist-packages/goose/images/utils.py\", line 36, in get_image_dimensions\n",
        "    image = Image.open(path)\n",
        "  File \"/usr/lib/python2.7/dist-packages/PIL/Image.py\", line 2028, in open\n",
        "    raise IOError(\"cannot identify image file\")\n",
        "IOError: cannot identify image file\n",
        "Traceback (most recent call last):\n"
       ]
      },
      {
       "output_type": "stream",
       "stream": "stdout",
       "text": [
        "\n",
        "(<type 'exceptions.IOError'>, IOError('cannot identify image file',), <traceback object at 0x7f4de72344d0>)\n",
        "processed 230 skipped 15\n",
        "error on download6bfd738f-ffe9-4303-948e-c8d75a2944e1.html"
       ]
      },
      {
       "output_type": "stream",
       "stream": "stderr",
       "text": [
        "  File \"<ipython-input-67-6114dbc3b5a2>\", line 16, in <module>\n",
        "    res = comp_extractors( extractor_training_object )\n",
        "  File \"<ipython-input-22-91249bf1c046>\", line 19, in comp_extractors\n",
        "    extraction_results = get_extraction_results( eto )\n",
        "  File \"<ipython-input-21-ff5d87d959e4>\", line 25, in get_extraction_results\n",
        "    ret['py_goose']  = { 'extracted_html': extract_with_python_goose( raw_content ) }\n",
        "  File \"<ipython-input-9-da7d07f83e6d>\", line 6, in extract_with_python_goose\n",
        "    r = g.extract( raw_html=raw_content )\n",
        "  File \"/usr/local/lib/python2.7/dist-packages/goose/__init__.py\", line 56, in extract\n",
        "    return self.crawl(cc)\n",
        "  File \"/usr/local/lib/python2.7/dist-packages/goose/__init__.py\", line 63, in crawl\n",
        "    article = crawler.crawl(crawl_candiate)\n",
        "  File \"/usr/local/lib/python2.7/dist-packages/goose/crawler.py\", line 125, in crawl\n",
        "    self.get_image()\n",
        "  File \"/usr/local/lib/python2.7/dist-packages/goose/crawler.py\", line 147, in get_image\n",
        "    self.article.top_image = self.image_extractor.get_best_image(doc, top_node)\n",
        "  File \"/usr/local/lib/python2.7/dist-packages/goose/images/extractors.py\", line 88, in get_best_image\n",
        "    image = self.check_large_images(topNode, 0, 0)\n",
        "  File \"/usr/local/lib/python2.7/dist-packages/goose/images/extractors.py\", line 122, in check_large_images\n",
        "    good_images = self.get_image_candidates(node)\n",
        "  File \"/usr/local/lib/python2.7/dist-packages/goose/images/extractors.py\", line 283, in get_image_candidates\n",
        "    good_images = self.get_images_bytesize_match(filtered_images)\n",
        "  File \"/usr/local/lib/python2.7/dist-packages/goose/images/extractors.py\", line 299, in get_images_bytesize_match\n",
        "    local_image = self.get_local_image(src)\n",
        "  File \"/usr/local/lib/python2.7/dist-packages/goose/images/extractors.py\", line 344, in get_local_image\n",
        "    self.link_hash, src, self.config)\n",
        "  File \"/usr/local/lib/python2.7/dist-packages/goose/images/utils.py\", line 59, in store_image\n",
        "    image = self.write_localfile(data, link_hash, src, config)\n",
        "  File \"/usr/local/lib/python2.7/dist-packages/goose/images/utils.py\", line 101, in write_localfile\n",
        "    return self.read_localfile(link_hash, src, config)\n",
        "  File \"/usr/local/lib/python2.7/dist-packages/goose/images/utils.py\", line 81, in read_localfile\n",
        "    image_details = self.get_image_dimensions(identify, local_image_name)\n",
        "  File \"/usr/local/lib/python2.7/dist-packages/goose/images/utils.py\", line 36, in get_image_dimensions\n",
        "    image = Image.open(path)\n",
        "  File \"/usr/lib/python2.7/dist-packages/PIL/Image.py\", line 2028, in open\n",
        "    raise IOError(\"cannot identify image file\")\n",
        "IOError: cannot identify image file\n",
        "Traceback (most recent call last):\n"
       ]
      },
      {
       "output_type": "stream",
       "stream": "stdout",
       "text": [
        "\n",
        "(<type 'exceptions.IOError'>, IOError('cannot identify image file',), <traceback object at 0x7f4de618f098>)\n",
        "processed 230 skipped 16\n",
        "processed"
       ]
      },
      {
       "output_type": "stream",
       "stream": "stdout",
       "text": [
        " 231 skipped 16\n",
        "processed"
       ]
      },
      {
       "output_type": "stream",
       "stream": "stdout",
       "text": [
        " 232 skipped 16\n",
        "processed"
       ]
      },
      {
       "output_type": "stream",
       "stream": "stdout",
       "text": [
        " 233 skipped 16\n",
        "processed"
       ]
      },
      {
       "output_type": "stream",
       "stream": "stdout",
       "text": [
        " 234 skipped 16\n",
        "processed"
       ]
      },
      {
       "output_type": "stream",
       "stream": "stdout",
       "text": [
        " 235 skipped 16\n",
        "processed"
       ]
      },
      {
       "output_type": "stream",
       "stream": "stdout",
       "text": [
        " 236 skipped 16\n",
        "error on download6e371db7-72dc-4e89-9bc5-2c259cf456e1.html"
       ]
      },
      {
       "output_type": "stream",
       "stream": "stderr",
       "text": [
        "  File \"<ipython-input-67-6114dbc3b5a2>\", line 16, in <module>\n",
        "    res = comp_extractors( extractor_training_object )\n",
        "  File \"<ipython-input-22-91249bf1c046>\", line 19, in comp_extractors\n",
        "    extraction_results = get_extraction_results( eto )\n",
        "  File \"<ipython-input-21-ff5d87d959e4>\", line 25, in get_extraction_results\n",
        "    ret['py_goose']  = { 'extracted_html': extract_with_python_goose( raw_content ) }\n",
        "  File \"<ipython-input-9-da7d07f83e6d>\", line 6, in extract_with_python_goose\n",
        "    r = g.extract( raw_html=raw_content )\n",
        "  File \"/usr/local/lib/python2.7/dist-packages/goose/__init__.py\", line 56, in extract\n",
        "    return self.crawl(cc)\n",
        "  File \"/usr/local/lib/python2.7/dist-packages/goose/__init__.py\", line 63, in crawl\n",
        "    article = crawler.crawl(crawl_candiate)\n",
        "  File \"/usr/local/lib/python2.7/dist-packages/goose/crawler.py\", line 125, in crawl\n",
        "    self.get_image()\n",
        "  File \"/usr/local/lib/python2.7/dist-packages/goose/crawler.py\", line 147, in get_image\n",
        "    self.article.top_image = self.image_extractor.get_best_image(doc, top_node)\n",
        "  File \"/usr/local/lib/python2.7/dist-packages/goose/images/extractors.py\", line 88, in get_best_image\n",
        "    image = self.check_large_images(topNode, 0, 0)\n",
        "  File \"/usr/local/lib/python2.7/dist-packages/goose/images/extractors.py\", line 141, in check_large_images\n",
        "    depth_obj.parent_depth, depth_obj.sibling_depth)\n",
        "  File \"/usr/local/lib/python2.7/dist-packages/goose/images/extractors.py\", line 122, in check_large_images\n",
        "    good_images = self.get_image_candidates(node)\n",
        "  File \"/usr/local/lib/python2.7/dist-packages/goose/images/extractors.py\", line 283, in get_image_candidates\n",
        "    good_images = self.get_images_bytesize_match(filtered_images)\n",
        "  File \"/usr/local/lib/python2.7/dist-packages/goose/images/extractors.py\", line 299, in get_images_bytesize_match\n",
        "    local_image = self.get_local_image(src)\n",
        "  File \"/usr/local/lib/python2.7/dist-packages/goose/images/extractors.py\", line 344, in get_local_image\n",
        "    self.link_hash, src, self.config)\n",
        "  File \"/usr/local/lib/python2.7/dist-packages/goose/images/utils.py\", line 59, in store_image\n",
        "    image = self.write_localfile(data, link_hash, src, config)\n",
        "  File \"/usr/local/lib/python2.7/dist-packages/goose/images/utils.py\", line 101, in write_localfile\n",
        "    return self.read_localfile(link_hash, src, config)\n",
        "  File \"/usr/local/lib/python2.7/dist-packages/goose/images/utils.py\", line 81, in read_localfile\n",
        "    image_details = self.get_image_dimensions(identify, local_image_name)\n",
        "  File \"/usr/local/lib/python2.7/dist-packages/goose/images/utils.py\", line 36, in get_image_dimensions\n",
        "    image = Image.open(path)\n",
        "  File \"/usr/lib/python2.7/dist-packages/PIL/Image.py\", line 2028, in open\n",
        "    raise IOError(\"cannot identify image file\")\n",
        "IOError: cannot identify image file\n",
        "Traceback (most recent call last):\n"
       ]
      },
      {
       "output_type": "stream",
       "stream": "stdout",
       "text": [
        "\n",
        "(<type 'exceptions.IOError'>, IOError('cannot identify image file',), <traceback object at 0x7f4dccd0a950>)\n",
        "processed 236 skipped 17\n",
        "processed"
       ]
      },
      {
       "output_type": "stream",
       "stream": "stdout",
       "text": [
        " 237 skipped 17\n",
        "processed"
       ]
      },
      {
       "output_type": "stream",
       "stream": "stdout",
       "text": [
        " 238 skipped 17\n",
        "processed"
       ]
      },
      {
       "output_type": "stream",
       "stream": "stdout",
       "text": [
        " 239 skipped 17\n",
        "processed"
       ]
      },
      {
       "output_type": "stream",
       "stream": "stdout",
       "text": [
        " 240 skipped 17\n",
        "processed"
       ]
      },
      {
       "output_type": "stream",
       "stream": "stdout",
       "text": [
        " 241 skipped 17\n",
        "processed"
       ]
      },
      {
       "output_type": "stream",
       "stream": "stdout",
       "text": [
        " 242 skipped 17\n",
        "processed"
       ]
      },
      {
       "output_type": "stream",
       "stream": "stdout",
       "text": [
        " 243 skipped 17\n",
        "processed"
       ]
      },
      {
       "output_type": "stream",
       "stream": "stdout",
       "text": [
        " 244 skipped 17\n",
        "processed"
       ]
      },
      {
       "output_type": "stream",
       "stream": "stdout",
       "text": [
        " 245 skipped 17\n",
        "processed"
       ]
      },
      {
       "output_type": "stream",
       "stream": "stdout",
       "text": [
        " 246 skipped 17\n",
        "processed"
       ]
      },
      {
       "output_type": "stream",
       "stream": "stdout",
       "text": [
        " 247 skipped 17\n",
        "processed"
       ]
      },
      {
       "output_type": "stream",
       "stream": "stdout",
       "text": [
        " 248 skipped 17\n",
        "processed"
       ]
      },
      {
       "output_type": "stream",
       "stream": "stdout",
       "text": [
        " 249 skipped 17\n",
        "processed"
       ]
      },
      {
       "output_type": "stream",
       "stream": "stdout",
       "text": [
        " 250 skipped 17\n",
        "processed"
       ]
      },
      {
       "output_type": "stream",
       "stream": "stdout",
       "text": [
        " 251 skipped 17\n",
        "processed"
       ]
      },
      {
       "output_type": "stream",
       "stream": "stdout",
       "text": [
        " 252 skipped 17\n",
        "processed"
       ]
      },
      {
       "output_type": "stream",
       "stream": "stdout",
       "text": [
        " 253 skipped 17\n",
        "processed"
       ]
      },
      {
       "output_type": "stream",
       "stream": "stdout",
       "text": [
        " 254 skipped 17\n",
        "processed"
       ]
      },
      {
       "output_type": "stream",
       "stream": "stdout",
       "text": [
        " 255 skipped 17\n",
        "processed"
       ]
      },
      {
       "output_type": "stream",
       "stream": "stdout",
       "text": [
        " 256 skipped 17\n",
        "processed"
       ]
      },
      {
       "output_type": "stream",
       "stream": "stdout",
       "text": [
        " 257 skipped 17\n",
        "error on download756ff125-8afa-43d2-a2bb-f9e742109202.html"
       ]
      },
      {
       "output_type": "stream",
       "stream": "stderr",
       "text": [
        "  File \"<ipython-input-67-6114dbc3b5a2>\", line 16, in <module>\n",
        "    res = comp_extractors( extractor_training_object )\n",
        "  File \"<ipython-input-22-91249bf1c046>\", line 19, in comp_extractors\n",
        "    extraction_results = get_extraction_results( eto )\n",
        "  File \"<ipython-input-21-ff5d87d959e4>\", line 25, in get_extraction_results\n",
        "    ret['py_goose']  = { 'extracted_html': extract_with_python_goose( raw_content ) }\n",
        "  File \"<ipython-input-9-da7d07f83e6d>\", line 6, in extract_with_python_goose\n",
        "    r = g.extract( raw_html=raw_content )\n",
        "  File \"/usr/local/lib/python2.7/dist-packages/goose/__init__.py\", line 56, in extract\n",
        "    return self.crawl(cc)\n",
        "  File \"/usr/local/lib/python2.7/dist-packages/goose/__init__.py\", line 63, in crawl\n",
        "    article = crawler.crawl(crawl_candiate)\n",
        "  File \"/usr/local/lib/python2.7/dist-packages/goose/crawler.py\", line 125, in crawl\n",
        "    self.get_image()\n",
        "  File \"/usr/local/lib/python2.7/dist-packages/goose/crawler.py\", line 147, in get_image\n",
        "    self.article.top_image = self.image_extractor.get_best_image(doc, top_node)\n",
        "  File \"/usr/local/lib/python2.7/dist-packages/goose/images/extractors.py\", line 88, in get_best_image\n",
        "    image = self.check_large_images(topNode, 0, 0)\n",
        "  File \"/usr/local/lib/python2.7/dist-packages/goose/images/extractors.py\", line 141, in check_large_images\n",
        "    depth_obj.parent_depth, depth_obj.sibling_depth)\n",
        "  File \"/usr/local/lib/python2.7/dist-packages/goose/images/extractors.py\", line 141, in check_large_images\n",
        "    depth_obj.parent_depth, depth_obj.sibling_depth)\n",
        "  File \"/usr/local/lib/python2.7/dist-packages/goose/images/extractors.py\", line 141, in check_large_images\n",
        "    depth_obj.parent_depth, depth_obj.sibling_depth)\n",
        "  File \"/usr/local/lib/python2.7/dist-packages/goose/images/extractors.py\", line 141, in check_large_images\n",
        "    depth_obj.parent_depth, depth_obj.sibling_depth)\n",
        "  File \"/usr/local/lib/python2.7/dist-packages/goose/images/extractors.py\", line 122, in check_large_images\n",
        "    good_images = self.get_image_candidates(node)\n",
        "  File \"/usr/local/lib/python2.7/dist-packages/goose/images/extractors.py\", line 283, in get_image_candidates\n",
        "    good_images = self.get_images_bytesize_match(filtered_images)\n",
        "  File \"/usr/local/lib/python2.7/dist-packages/goose/images/extractors.py\", line 299, in get_images_bytesize_match\n",
        "    local_image = self.get_local_image(src)\n",
        "  File \"/usr/local/lib/python2.7/dist-packages/goose/images/extractors.py\", line 344, in get_local_image\n",
        "    self.link_hash, src, self.config)\n",
        "  File \"/usr/local/lib/python2.7/dist-packages/goose/images/utils.py\", line 59, in store_image\n",
        "    image = self.write_localfile(data, link_hash, src, config)\n",
        "  File \"/usr/local/lib/python2.7/dist-packages/goose/images/utils.py\", line 101, in write_localfile\n",
        "    return self.read_localfile(link_hash, src, config)\n",
        "  File \"/usr/local/lib/python2.7/dist-packages/goose/images/utils.py\", line 81, in read_localfile\n",
        "    image_details = self.get_image_dimensions(identify, local_image_name)\n",
        "  File \"/usr/local/lib/python2.7/dist-packages/goose/images/utils.py\", line 36, in get_image_dimensions\n",
        "    image = Image.open(path)\n",
        "  File \"/usr/lib/python2.7/dist-packages/PIL/Image.py\", line 2028, in open\n",
        "    raise IOError(\"cannot identify image file\")\n",
        "IOError: cannot identify image file\n",
        "Traceback (most recent call last):\n"
       ]
      },
      {
       "output_type": "stream",
       "stream": "stdout",
       "text": [
        "\n",
        "(<type 'exceptions.IOError'>, IOError('cannot identify image file',), <traceback object at 0x7f4da15cc2d8>)\n",
        "processed 257 skipped 18\n",
        "processed"
       ]
      },
      {
       "output_type": "stream",
       "stream": "stdout",
       "text": [
        " 258 skipped 18\n",
        "processed"
       ]
      },
      {
       "output_type": "stream",
       "stream": "stdout",
       "text": [
        " 259 skipped 18\n",
        "processed"
       ]
      },
      {
       "output_type": "stream",
       "stream": "stdout",
       "text": [
        " 260 skipped 18\n",
        "processed"
       ]
      },
      {
       "output_type": "stream",
       "stream": "stdout",
       "text": [
        " 261 skipped 18\n",
        "processed"
       ]
      },
      {
       "output_type": "stream",
       "stream": "stdout",
       "text": [
        " 262 skipped 18\n",
        "processed"
       ]
      },
      {
       "output_type": "stream",
       "stream": "stdout",
       "text": [
        " 263 skipped 18\n",
        "processed"
       ]
      },
      {
       "output_type": "stream",
       "stream": "stdout",
       "text": [
        " 264 skipped 18\n",
        "processed"
       ]
      },
      {
       "output_type": "stream",
       "stream": "stdout",
       "text": [
        " 265 skipped 18\n",
        "error on download79f28b11-26b6-4a20-8e9b-de1064b8bc01.html"
       ]
      },
      {
       "output_type": "stream",
       "stream": "stderr",
       "text": [
        "  File \"<ipython-input-67-6114dbc3b5a2>\", line 16, in <module>\n",
        "    res = comp_extractors( extractor_training_object )\n",
        "  File \"<ipython-input-22-91249bf1c046>\", line 19, in comp_extractors\n",
        "    extraction_results = get_extraction_results( eto )\n",
        "  File \"<ipython-input-21-ff5d87d959e4>\", line 25, in get_extraction_results\n",
        "    ret['py_goose']  = { 'extracted_html': extract_with_python_goose( raw_content ) }\n",
        "  File \"<ipython-input-9-da7d07f83e6d>\", line 6, in extract_with_python_goose\n",
        "    r = g.extract( raw_html=raw_content )\n",
        "  File \"/usr/local/lib/python2.7/dist-packages/goose/__init__.py\", line 56, in extract\n",
        "    return self.crawl(cc)\n",
        "  File \"/usr/local/lib/python2.7/dist-packages/goose/__init__.py\", line 63, in crawl\n",
        "    article = crawler.crawl(crawl_candiate)\n",
        "  File \"/usr/local/lib/python2.7/dist-packages/goose/crawler.py\", line 125, in crawl\n",
        "    self.get_image()\n",
        "  File \"/usr/local/lib/python2.7/dist-packages/goose/crawler.py\", line 147, in get_image\n",
        "    self.article.top_image = self.image_extractor.get_best_image(doc, top_node)\n",
        "  File \"/usr/local/lib/python2.7/dist-packages/goose/images/extractors.py\", line 88, in get_best_image\n",
        "    image = self.check_large_images(topNode, 0, 0)\n",
        "  File \"/usr/local/lib/python2.7/dist-packages/goose/images/extractors.py\", line 141, in check_large_images\n",
        "    depth_obj.parent_depth, depth_obj.sibling_depth)\n",
        "  File \"/usr/local/lib/python2.7/dist-packages/goose/images/extractors.py\", line 141, in check_large_images\n",
        "    depth_obj.parent_depth, depth_obj.sibling_depth)\n",
        "  File \"/usr/local/lib/python2.7/dist-packages/goose/images/extractors.py\", line 141, in check_large_images\n",
        "    depth_obj.parent_depth, depth_obj.sibling_depth)\n",
        "  File \"/usr/local/lib/python2.7/dist-packages/goose/images/extractors.py\", line 122, in check_large_images\n",
        "    good_images = self.get_image_candidates(node)\n",
        "  File \"/usr/local/lib/python2.7/dist-packages/goose/images/extractors.py\", line 283, in get_image_candidates\n",
        "    good_images = self.get_images_bytesize_match(filtered_images)\n",
        "  File \"/usr/local/lib/python2.7/dist-packages/goose/images/extractors.py\", line 299, in get_images_bytesize_match\n",
        "    local_image = self.get_local_image(src)\n",
        "  File \"/usr/local/lib/python2.7/dist-packages/goose/images/extractors.py\", line 344, in get_local_image\n",
        "    self.link_hash, src, self.config)\n",
        "  File \"/usr/local/lib/python2.7/dist-packages/goose/images/utils.py\", line 59, in store_image\n",
        "    image = self.write_localfile(data, link_hash, src, config)\n",
        "  File \"/usr/local/lib/python2.7/dist-packages/goose/images/utils.py\", line 101, in write_localfile\n",
        "    return self.read_localfile(link_hash, src, config)\n",
        "  File \"/usr/local/lib/python2.7/dist-packages/goose/images/utils.py\", line 81, in read_localfile\n",
        "    image_details = self.get_image_dimensions(identify, local_image_name)\n",
        "  File \"/usr/local/lib/python2.7/dist-packages/goose/images/utils.py\", line 36, in get_image_dimensions\n",
        "    image = Image.open(path)\n",
        "  File \"/usr/lib/python2.7/dist-packages/PIL/Image.py\", line 2028, in open\n",
        "    raise IOError(\"cannot identify image file\")\n",
        "IOError: cannot identify image file\n",
        "Traceback (most recent call last):\n"
       ]
      },
      {
       "output_type": "stream",
       "stream": "stdout",
       "text": [
        "\n",
        "(<type 'exceptions.IOError'>, IOError('cannot identify image file',), <traceback object at 0x7f4da21ac638>)\n",
        "processed 265 skipped 19\n",
        "processed"
       ]
      },
      {
       "output_type": "stream",
       "stream": "stdout",
       "text": [
        " 266 skipped 19\n",
        "processed"
       ]
      },
      {
       "output_type": "stream",
       "stream": "stdout",
       "text": [
        " 267 skipped 19\n",
        "processed"
       ]
      },
      {
       "output_type": "stream",
       "stream": "stdout",
       "text": [
        " 268 skipped 19\n",
        "processed"
       ]
      },
      {
       "output_type": "stream",
       "stream": "stdout",
       "text": [
        " 269 skipped 19\n",
        "processed"
       ]
      },
      {
       "output_type": "stream",
       "stream": "stdout",
       "text": [
        " 270 skipped 19\n",
        "processed"
       ]
      },
      {
       "output_type": "stream",
       "stream": "stdout",
       "text": [
        " 271 skipped 19\n",
        "processed"
       ]
      },
      {
       "output_type": "stream",
       "stream": "stdout",
       "text": [
        " 272 skipped 19\n",
        "processed"
       ]
      },
      {
       "output_type": "stream",
       "stream": "stdout",
       "text": [
        " 273 skipped 19\n",
        "processed"
       ]
      },
      {
       "output_type": "stream",
       "stream": "stdout",
       "text": [
        " 274 skipped 19\n",
        "processed"
       ]
      },
      {
       "output_type": "stream",
       "stream": "stdout",
       "text": [
        " 275 skipped 19\n",
        "processed"
       ]
      },
      {
       "output_type": "stream",
       "stream": "stdout",
       "text": [
        " 276 skipped 19\n",
        "processed"
       ]
      },
      {
       "output_type": "stream",
       "stream": "stdout",
       "text": [
        " 277 skipped 19\n",
        "processed"
       ]
      },
      {
       "output_type": "stream",
       "stream": "stdout",
       "text": [
        " 278 skipped 19\n",
        "processed"
       ]
      },
      {
       "output_type": "stream",
       "stream": "stdout",
       "text": [
        " 279 skipped 19\n",
        "processed"
       ]
      },
      {
       "output_type": "stream",
       "stream": "stdout",
       "text": [
        " 280 skipped 19\n",
        "processed"
       ]
      },
      {
       "output_type": "stream",
       "stream": "stdout",
       "text": [
        " 281 skipped 19\n",
        "processed"
       ]
      },
      {
       "output_type": "stream",
       "stream": "stdout",
       "text": [
        " 282 skipped 19\n",
        "processed"
       ]
      },
      {
       "output_type": "stream",
       "stream": "stdout",
       "text": [
        " 283 skipped 19\n",
        "processed"
       ]
      },
      {
       "output_type": "stream",
       "stream": "stdout",
       "text": [
        " 284 skipped 19\n",
        "processed"
       ]
      },
      {
       "output_type": "stream",
       "stream": "stdout",
       "text": [
        " 285 skipped 19\n",
        "processed"
       ]
      },
      {
       "output_type": "stream",
       "stream": "stdout",
       "text": [
        " 286 skipped 19\n",
        "processed"
       ]
      },
      {
       "output_type": "stream",
       "stream": "stdout",
       "text": [
        " 287 skipped 19\n",
        "processed"
       ]
      },
      {
       "output_type": "stream",
       "stream": "stdout",
       "text": [
        " 288 skipped 19\n",
        "processed"
       ]
      },
      {
       "output_type": "stream",
       "stream": "stdout",
       "text": [
        " 289 skipped 19\n",
        "processed"
       ]
      },
      {
       "output_type": "stream",
       "stream": "stdout",
       "text": [
        " 290 skipped 19\n",
        "processed"
       ]
      },
      {
       "output_type": "stream",
       "stream": "stdout",
       "text": [
        " 291 skipped 19\n",
        "processed"
       ]
      },
      {
       "output_type": "stream",
       "stream": "stdout",
       "text": [
        " 292 skipped 19\n",
        "processed"
       ]
      },
      {
       "output_type": "stream",
       "stream": "stdout",
       "text": [
        " 293 skipped 19\n",
        "error on download89fc8a0d-3841-4ffc-8366-18fa10cbae64.html"
       ]
      },
      {
       "output_type": "stream",
       "stream": "stderr",
       "text": [
        "  File \"<ipython-input-67-6114dbc3b5a2>\", line 16, in <module>\n",
        "    res = comp_extractors( extractor_training_object )\n",
        "  File \"<ipython-input-22-91249bf1c046>\", line 19, in comp_extractors\n",
        "    extraction_results = get_extraction_results( eto )\n",
        "  File \"<ipython-input-21-ff5d87d959e4>\", line 25, in get_extraction_results\n",
        "    ret['py_goose']  = { 'extracted_html': extract_with_python_goose( raw_content ) }\n",
        "  File \"<ipython-input-9-da7d07f83e6d>\", line 6, in extract_with_python_goose\n",
        "    r = g.extract( raw_html=raw_content )\n",
        "  File \"/usr/local/lib/python2.7/dist-packages/goose/__init__.py\", line 56, in extract\n",
        "    return self.crawl(cc)\n",
        "  File \"/usr/local/lib/python2.7/dist-packages/goose/__init__.py\", line 63, in crawl\n",
        "    article = crawler.crawl(crawl_candiate)\n",
        "  File \"/usr/local/lib/python2.7/dist-packages/goose/crawler.py\", line 125, in crawl\n",
        "    self.get_image()\n",
        "  File \"/usr/local/lib/python2.7/dist-packages/goose/crawler.py\", line 147, in get_image\n",
        "    self.article.top_image = self.image_extractor.get_best_image(doc, top_node)\n",
        "  File \"/usr/local/lib/python2.7/dist-packages/goose/images/extractors.py\", line 88, in get_best_image\n",
        "    image = self.check_large_images(topNode, 0, 0)\n",
        "  File \"/usr/local/lib/python2.7/dist-packages/goose/images/extractors.py\", line 141, in check_large_images\n",
        "    depth_obj.parent_depth, depth_obj.sibling_depth)\n",
        "  File \"/usr/local/lib/python2.7/dist-packages/goose/images/extractors.py\", line 141, in check_large_images\n",
        "    depth_obj.parent_depth, depth_obj.sibling_depth)\n",
        "  File \"/usr/local/lib/python2.7/dist-packages/goose/images/extractors.py\", line 141, in check_large_images\n",
        "    depth_obj.parent_depth, depth_obj.sibling_depth)\n",
        "  File \"/usr/local/lib/python2.7/dist-packages/goose/images/extractors.py\", line 141, in check_large_images\n",
        "    depth_obj.parent_depth, depth_obj.sibling_depth)\n",
        "  File \"/usr/local/lib/python2.7/dist-packages/goose/images/extractors.py\", line 141, in check_large_images\n",
        "    depth_obj.parent_depth, depth_obj.sibling_depth)\n",
        "  File \"/usr/local/lib/python2.7/dist-packages/goose/images/extractors.py\", line 122, in check_large_images\n",
        "    good_images = self.get_image_candidates(node)\n",
        "  File \"/usr/local/lib/python2.7/dist-packages/goose/images/extractors.py\", line 283, in get_image_candidates\n",
        "    good_images = self.get_images_bytesize_match(filtered_images)\n",
        "  File \"/usr/local/lib/python2.7/dist-packages/goose/images/extractors.py\", line 299, in get_images_bytesize_match\n",
        "    local_image = self.get_local_image(src)\n",
        "  File \"/usr/local/lib/python2.7/dist-packages/goose/images/extractors.py\", line 344, in get_local_image\n",
        "    self.link_hash, src, self.config)\n",
        "  File \"/usr/local/lib/python2.7/dist-packages/goose/images/utils.py\", line 59, in store_image\n",
        "    image = self.write_localfile(data, link_hash, src, config)\n",
        "  File \"/usr/local/lib/python2.7/dist-packages/goose/images/utils.py\", line 101, in write_localfile\n",
        "    return self.read_localfile(link_hash, src, config)\n",
        "  File \"/usr/local/lib/python2.7/dist-packages/goose/images/utils.py\", line 81, in read_localfile\n",
        "    image_details = self.get_image_dimensions(identify, local_image_name)\n",
        "  File \"/usr/local/lib/python2.7/dist-packages/goose/images/utils.py\", line 36, in get_image_dimensions\n",
        "    image = Image.open(path)\n",
        "  File \"/usr/lib/python2.7/dist-packages/PIL/Image.py\", line 2028, in open\n",
        "    raise IOError(\"cannot identify image file\")\n",
        "IOError: cannot identify image file\n",
        "Traceback (most recent call last):\n"
       ]
      },
      {
       "output_type": "stream",
       "stream": "stdout",
       "text": [
        "\n",
        "(<type 'exceptions.IOError'>, IOError('cannot identify image file',), <traceback object at 0x7f4dcdb816c8>)\n",
        "processed 293 skipped 20\n",
        "processed"
       ]
      },
      {
       "output_type": "stream",
       "stream": "stdout",
       "text": [
        " 294 skipped 20\n",
        "processed"
       ]
      },
      {
       "output_type": "stream",
       "stream": "stdout",
       "text": [
        " 295 skipped 20\n",
        "processed"
       ]
      },
      {
       "output_type": "stream",
       "stream": "stdout",
       "text": [
        " 296 skipped 20\n",
        "processed"
       ]
      },
      {
       "output_type": "stream",
       "stream": "stdout",
       "text": [
        " 297 skipped 20\n",
        "processed"
       ]
      },
      {
       "output_type": "stream",
       "stream": "stdout",
       "text": [
        " 298 skipped 20\n",
        "processed"
       ]
      },
      {
       "output_type": "stream",
       "stream": "stdout",
       "text": [
        " 299 skipped 20\n",
        "processed"
       ]
      },
      {
       "output_type": "stream",
       "stream": "stdout",
       "text": [
        " 300 skipped 20\n",
        "processed"
       ]
      },
      {
       "output_type": "stream",
       "stream": "stdout",
       "text": [
        " 301 skipped 20\n",
        "processed"
       ]
      },
      {
       "output_type": "stream",
       "stream": "stdout",
       "text": [
        " 302 skipped 20\n",
        "processed"
       ]
      },
      {
       "output_type": "stream",
       "stream": "stdout",
       "text": [
        " 303 skipped 20\n",
        "processed"
       ]
      },
      {
       "output_type": "stream",
       "stream": "stdout",
       "text": [
        " 304 skipped 20\n",
        "processed"
       ]
      },
      {
       "output_type": "stream",
       "stream": "stdout",
       "text": [
        " 305 skipped 20\n",
        "processed"
       ]
      },
      {
       "output_type": "stream",
       "stream": "stdout",
       "text": [
        " 306 skipped 20\n",
        "processed"
       ]
      },
      {
       "output_type": "stream",
       "stream": "stdout",
       "text": [
        " 307 skipped 20\n",
        "processed"
       ]
      },
      {
       "output_type": "stream",
       "stream": "stdout",
       "text": [
        " 308 skipped 20\n",
        "processed"
       ]
      },
      {
       "output_type": "stream",
       "stream": "stdout",
       "text": [
        " 309 skipped 20\n",
        "processed"
       ]
      },
      {
       "output_type": "stream",
       "stream": "stdout",
       "text": [
        " 310 skipped 20\n",
        "processed"
       ]
      },
      {
       "output_type": "stream",
       "stream": "stdout",
       "text": [
        " 311 skipped 20\n",
        "processed"
       ]
      },
      {
       "output_type": "stream",
       "stream": "stdout",
       "text": [
        " 312 skipped 20\n",
        "processed"
       ]
      },
      {
       "output_type": "stream",
       "stream": "stdout",
       "text": [
        " 313 skipped 20\n",
        "error on download931bd5b0-b1c7-4026-b937-a2404e3d8891.html"
       ]
      },
      {
       "output_type": "stream",
       "stream": "stderr",
       "text": [
        "  File \"<ipython-input-67-6114dbc3b5a2>\", line 16, in <module>\n",
        "    res = comp_extractors( extractor_training_object )\n",
        "  File \"<ipython-input-22-91249bf1c046>\", line 19, in comp_extractors\n",
        "    extraction_results = get_extraction_results( eto )\n",
        "  File \"<ipython-input-21-ff5d87d959e4>\", line 25, in get_extraction_results\n",
        "    ret['py_goose']  = { 'extracted_html': extract_with_python_goose( raw_content ) }\n",
        "  File \"<ipython-input-9-da7d07f83e6d>\", line 6, in extract_with_python_goose\n",
        "    r = g.extract( raw_html=raw_content )\n",
        "  File \"/usr/local/lib/python2.7/dist-packages/goose/__init__.py\", line 56, in extract\n",
        "    return self.crawl(cc)\n",
        "  File \"/usr/local/lib/python2.7/dist-packages/goose/__init__.py\", line 63, in crawl\n",
        "    article = crawler.crawl(crawl_candiate)\n",
        "  File \"/usr/local/lib/python2.7/dist-packages/goose/crawler.py\", line 125, in crawl\n",
        "    self.get_image()\n",
        "  File \"/usr/local/lib/python2.7/dist-packages/goose/crawler.py\", line 147, in get_image\n",
        "    self.article.top_image = self.image_extractor.get_best_image(doc, top_node)\n",
        "  File \"/usr/local/lib/python2.7/dist-packages/goose/images/extractors.py\", line 88, in get_best_image\n",
        "    image = self.check_large_images(topNode, 0, 0)\n",
        "  File \"/usr/local/lib/python2.7/dist-packages/goose/images/extractors.py\", line 141, in check_large_images\n",
        "    depth_obj.parent_depth, depth_obj.sibling_depth)\n",
        "  File \"/usr/local/lib/python2.7/dist-packages/goose/images/extractors.py\", line 122, in check_large_images\n",
        "    good_images = self.get_image_candidates(node)\n",
        "  File \"/usr/local/lib/python2.7/dist-packages/goose/images/extractors.py\", line 283, in get_image_candidates\n",
        "    good_images = self.get_images_bytesize_match(filtered_images)\n",
        "  File \"/usr/local/lib/python2.7/dist-packages/goose/images/extractors.py\", line 299, in get_images_bytesize_match\n",
        "    local_image = self.get_local_image(src)\n",
        "  File \"/usr/local/lib/python2.7/dist-packages/goose/images/extractors.py\", line 344, in get_local_image\n",
        "    self.link_hash, src, self.config)\n",
        "  File \"/usr/local/lib/python2.7/dist-packages/goose/images/utils.py\", line 59, in store_image\n",
        "    image = self.write_localfile(data, link_hash, src, config)\n",
        "  File \"/usr/local/lib/python2.7/dist-packages/goose/images/utils.py\", line 101, in write_localfile\n",
        "    return self.read_localfile(link_hash, src, config)\n",
        "  File \"/usr/local/lib/python2.7/dist-packages/goose/images/utils.py\", line 81, in read_localfile\n",
        "    image_details = self.get_image_dimensions(identify, local_image_name)\n",
        "  File \"/usr/local/lib/python2.7/dist-packages/goose/images/utils.py\", line 36, in get_image_dimensions\n",
        "    image = Image.open(path)\n",
        "  File \"/usr/lib/python2.7/dist-packages/PIL/Image.py\", line 2028, in open\n",
        "    raise IOError(\"cannot identify image file\")\n",
        "IOError: cannot identify image file\n",
        "Traceback (most recent call last):\n"
       ]
      },
      {
       "output_type": "stream",
       "stream": "stdout",
       "text": [
        "\n",
        "(<type 'exceptions.IOError'>, IOError('cannot identify image file',), <traceback object at 0x7f4dccd12ea8>)\n",
        "processed 313 skipped 21\n",
        "processed"
       ]
      },
      {
       "output_type": "stream",
       "stream": "stdout",
       "text": [
        " 314 skipped 21\n",
        "processed"
       ]
      },
      {
       "output_type": "stream",
       "stream": "stdout",
       "text": [
        " 315 skipped 21\n",
        "processed"
       ]
      },
      {
       "output_type": "stream",
       "stream": "stdout",
       "text": [
        " 316 skipped 21\n",
        "processed"
       ]
      },
      {
       "output_type": "stream",
       "stream": "stdout",
       "text": [
        " 317 skipped 21\n",
        "processed"
       ]
      },
      {
       "output_type": "stream",
       "stream": "stdout",
       "text": [
        " 318 skipped 21\n",
        "processed"
       ]
      },
      {
       "output_type": "stream",
       "stream": "stdout",
       "text": [
        " 319 skipped 21\n",
        "processed"
       ]
      },
      {
       "output_type": "stream",
       "stream": "stdout",
       "text": [
        " 320 skipped 21\n",
        "processed"
       ]
      },
      {
       "output_type": "stream",
       "stream": "stdout",
       "text": [
        " 321 skipped 21\n",
        "processed"
       ]
      },
      {
       "output_type": "stream",
       "stream": "stdout",
       "text": [
        " 322 skipped 21\n",
        "processed"
       ]
      },
      {
       "output_type": "stream",
       "stream": "stdout",
       "text": [
        " 323 skipped 21\n",
        "processed"
       ]
      },
      {
       "output_type": "stream",
       "stream": "stdout",
       "text": [
        " 324 skipped 21\n",
        "processed"
       ]
      },
      {
       "output_type": "stream",
       "stream": "stdout",
       "text": [
        " 325 skipped 21\n",
        "processed"
       ]
      },
      {
       "output_type": "stream",
       "stream": "stdout",
       "text": [
        " 326 skipped 21\n",
        "processed"
       ]
      },
      {
       "output_type": "stream",
       "stream": "stdout",
       "text": [
        " 327 skipped 21\n",
        "processed"
       ]
      },
      {
       "output_type": "stream",
       "stream": "stdout",
       "text": [
        " 328 skipped 21\n",
        "processed"
       ]
      },
      {
       "output_type": "stream",
       "stream": "stdout",
       "text": [
        " 329 skipped 21\n",
        "processed"
       ]
      },
      {
       "output_type": "stream",
       "stream": "stdout",
       "text": [
        " 330 skipped 21\n",
        "processed"
       ]
      },
      {
       "output_type": "stream",
       "stream": "stdout",
       "text": [
        " 331 skipped 21\n",
        "processed"
       ]
      },
      {
       "output_type": "stream",
       "stream": "stdout",
       "text": [
        " 332 skipped 21\n",
        "processed"
       ]
      },
      {
       "output_type": "stream",
       "stream": "stdout",
       "text": [
        " 333 skipped 21\n",
        "processed"
       ]
      },
      {
       "output_type": "stream",
       "stream": "stdout",
       "text": [
        " 334 skipped 21\n",
        "processed"
       ]
      },
      {
       "output_type": "stream",
       "stream": "stdout",
       "text": [
        " 335 skipped 21\n",
        "processed"
       ]
      },
      {
       "output_type": "stream",
       "stream": "stdout",
       "text": [
        " 336 skipped 21\n",
        "processed"
       ]
      },
      {
       "output_type": "stream",
       "stream": "stdout",
       "text": [
        " 337 skipped 21\n",
        "processed"
       ]
      },
      {
       "output_type": "stream",
       "stream": "stdout",
       "text": [
        " 338 skipped 21\n",
        "processed"
       ]
      },
      {
       "output_type": "stream",
       "stream": "stdout",
       "text": [
        " 339 skipped 21\n",
        "processed"
       ]
      },
      {
       "output_type": "stream",
       "stream": "stdout",
       "text": [
        " 340 skipped 21\n",
        "processed"
       ]
      },
      {
       "output_type": "stream",
       "stream": "stdout",
       "text": [
        " 341 skipped 21\n",
        "processed"
       ]
      },
      {
       "output_type": "stream",
       "stream": "stdout",
       "text": [
        " 342 skipped 21\n",
        "processed"
       ]
      },
      {
       "output_type": "stream",
       "stream": "stdout",
       "text": [
        " 343 skipped 21\n",
        "processed"
       ]
      },
      {
       "output_type": "stream",
       "stream": "stdout",
       "text": [
        " 344 skipped 21\n",
        "processed"
       ]
      },
      {
       "output_type": "stream",
       "stream": "stdout",
       "text": [
        " 345 skipped 21\n",
        "processed"
       ]
      },
      {
       "output_type": "stream",
       "stream": "stdout",
       "text": [
        " 346 skipped 21\n",
        "processed"
       ]
      },
      {
       "output_type": "stream",
       "stream": "stdout",
       "text": [
        " 347 skipped 21\n",
        "processed"
       ]
      },
      {
       "output_type": "stream",
       "stream": "stdout",
       "text": [
        " 348 skipped 21\n",
        "processed"
       ]
      },
      {
       "output_type": "stream",
       "stream": "stdout",
       "text": [
        " 349 skipped 21\n",
        "processed"
       ]
      },
      {
       "output_type": "stream",
       "stream": "stdout",
       "text": [
        " 350 skipped 21\n",
        "processed"
       ]
      },
      {
       "output_type": "stream",
       "stream": "stdout",
       "text": [
        " 351 skipped 21\n",
        "processed"
       ]
      },
      {
       "output_type": "stream",
       "stream": "stdout",
       "text": [
        " 352 skipped 21\n",
        "processed"
       ]
      },
      {
       "output_type": "stream",
       "stream": "stdout",
       "text": [
        " 353 skipped 21\n",
        "processed"
       ]
      },
      {
       "output_type": "stream",
       "stream": "stdout",
       "text": [
        " 354 skipped 21\n",
        "processed"
       ]
      },
      {
       "output_type": "stream",
       "stream": "stdout",
       "text": [
        " 355 skipped 21\n",
        "processed"
       ]
      },
      {
       "output_type": "stream",
       "stream": "stdout",
       "text": [
        " 356 skipped 21\n",
        "processed"
       ]
      },
      {
       "output_type": "stream",
       "stream": "stdout",
       "text": [
        " 357 skipped 21\n",
        "processed"
       ]
      },
      {
       "output_type": "stream",
       "stream": "stdout",
       "text": [
        " 358 skipped 21\n",
        "processed"
       ]
      },
      {
       "output_type": "stream",
       "stream": "stdout",
       "text": [
        " 359 skipped 21\n",
        "processed"
       ]
      },
      {
       "output_type": "stream",
       "stream": "stdout",
       "text": [
        " 360 skipped 21\n",
        "processed"
       ]
      },
      {
       "output_type": "stream",
       "stream": "stdout",
       "text": [
        " 361 skipped 21\n",
        "processed"
       ]
      },
      {
       "output_type": "stream",
       "stream": "stdout",
       "text": [
        " 362 skipped 21\n",
        "processed"
       ]
      },
      {
       "output_type": "stream",
       "stream": "stdout",
       "text": [
        " 363 skipped 21\n",
        "processed"
       ]
      },
      {
       "output_type": "stream",
       "stream": "stdout",
       "text": [
        " 364 skipped 21\n",
        "processed"
       ]
      },
      {
       "output_type": "stream",
       "stream": "stdout",
       "text": [
        " 365 skipped 21\n",
        "processed"
       ]
      },
      {
       "output_type": "stream",
       "stream": "stdout",
       "text": [
        " 366 skipped 21\n",
        "processed"
       ]
      },
      {
       "output_type": "stream",
       "stream": "stdout",
       "text": [
        " 367 skipped 21\n",
        "processed"
       ]
      },
      {
       "output_type": "stream",
       "stream": "stdout",
       "text": [
        " 368 skipped 21\n",
        "processed"
       ]
      },
      {
       "output_type": "stream",
       "stream": "stdout",
       "text": [
        " 369 skipped 21\n",
        "processed"
       ]
      },
      {
       "output_type": "stream",
       "stream": "stdout",
       "text": [
        " 370 skipped 21\n",
        "processed"
       ]
      },
      {
       "output_type": "stream",
       "stream": "stdout",
       "text": [
        " 371 skipped 21\n",
        "error on downloada8bbed64-c630-4e89-bfc3-795a7aebe780.html"
       ]
      },
      {
       "output_type": "stream",
       "stream": "stderr",
       "text": [
        "  File \"<ipython-input-67-6114dbc3b5a2>\", line 16, in <module>\n",
        "    res = comp_extractors( extractor_training_object )\n",
        "  File \"<ipython-input-22-91249bf1c046>\", line 19, in comp_extractors\n",
        "    extraction_results = get_extraction_results( eto )\n",
        "  File \"<ipython-input-21-ff5d87d959e4>\", line 25, in get_extraction_results\n",
        "    ret['py_goose']  = { 'extracted_html': extract_with_python_goose( raw_content ) }\n",
        "  File \"<ipython-input-9-da7d07f83e6d>\", line 6, in extract_with_python_goose\n",
        "    r = g.extract( raw_html=raw_content )\n",
        "  File \"/usr/local/lib/python2.7/dist-packages/goose/__init__.py\", line 56, in extract\n",
        "    return self.crawl(cc)\n",
        "  File \"/usr/local/lib/python2.7/dist-packages/goose/__init__.py\", line 63, in crawl\n",
        "    article = crawler.crawl(crawl_candiate)\n",
        "  File \"/usr/local/lib/python2.7/dist-packages/goose/crawler.py\", line 125, in crawl\n",
        "    self.get_image()\n",
        "  File \"/usr/local/lib/python2.7/dist-packages/goose/crawler.py\", line 147, in get_image\n",
        "    self.article.top_image = self.image_extractor.get_best_image(doc, top_node)\n",
        "  File \"/usr/local/lib/python2.7/dist-packages/goose/images/extractors.py\", line 88, in get_best_image\n",
        "    image = self.check_large_images(topNode, 0, 0)\n",
        "  File \"/usr/local/lib/python2.7/dist-packages/goose/images/extractors.py\", line 122, in check_large_images\n",
        "    good_images = self.get_image_candidates(node)\n",
        "  File \"/usr/local/lib/python2.7/dist-packages/goose/images/extractors.py\", line 283, in get_image_candidates\n",
        "    good_images = self.get_images_bytesize_match(filtered_images)\n",
        "  File \"/usr/local/lib/python2.7/dist-packages/goose/images/extractors.py\", line 299, in get_images_bytesize_match\n",
        "    local_image = self.get_local_image(src)\n",
        "  File \"/usr/local/lib/python2.7/dist-packages/goose/images/extractors.py\", line 344, in get_local_image\n",
        "    self.link_hash, src, self.config)\n",
        "  File \"/usr/local/lib/python2.7/dist-packages/goose/images/utils.py\", line 59, in store_image\n",
        "    image = self.write_localfile(data, link_hash, src, config)\n",
        "  File \"/usr/local/lib/python2.7/dist-packages/goose/images/utils.py\", line 101, in write_localfile\n",
        "    return self.read_localfile(link_hash, src, config)\n",
        "  File \"/usr/local/lib/python2.7/dist-packages/goose/images/utils.py\", line 81, in read_localfile\n",
        "    image_details = self.get_image_dimensions(identify, local_image_name)\n",
        "  File \"/usr/local/lib/python2.7/dist-packages/goose/images/utils.py\", line 36, in get_image_dimensions\n",
        "    image = Image.open(path)\n",
        "  File \"/usr/lib/python2.7/dist-packages/PIL/Image.py\", line 2028, in open\n",
        "    raise IOError(\"cannot identify image file\")\n",
        "IOError: cannot identify image file\n",
        "Traceback (most recent call last):\n"
       ]
      },
      {
       "output_type": "stream",
       "stream": "stdout",
       "text": [
        "\n",
        "(<type 'exceptions.IOError'>, IOError('cannot identify image file',), <traceback object at 0x7f4da15f0248>)\n",
        "processed 371 skipped 22\n",
        "processed"
       ]
      },
      {
       "output_type": "stream",
       "stream": "stdout",
       "text": [
        " 372 skipped 22\n",
        "processed"
       ]
      },
      {
       "output_type": "stream",
       "stream": "stdout",
       "text": [
        " 373 skipped 22\n",
        "processed"
       ]
      },
      {
       "output_type": "stream",
       "stream": "stdout",
       "text": [
        " 374 skipped 22\n",
        "processed"
       ]
      },
      {
       "output_type": "stream",
       "stream": "stdout",
       "text": [
        " 375 skipped 22\n",
        "processed"
       ]
      },
      {
       "output_type": "stream",
       "stream": "stdout",
       "text": [
        " 376 skipped 22\n",
        "processed"
       ]
      },
      {
       "output_type": "stream",
       "stream": "stdout",
       "text": [
        " 377 skipped 22\n",
        "processed"
       ]
      },
      {
       "output_type": "stream",
       "stream": "stdout",
       "text": [
        " 378 skipped 22\n",
        "processed"
       ]
      },
      {
       "output_type": "stream",
       "stream": "stdout",
       "text": [
        " 379 skipped 22\n",
        "processed"
       ]
      },
      {
       "output_type": "stream",
       "stream": "stdout",
       "text": [
        " 380 skipped 22\n",
        "processed"
       ]
      },
      {
       "output_type": "stream",
       "stream": "stdout",
       "text": [
        " 381 skipped 22\n",
        "processed"
       ]
      },
      {
       "output_type": "stream",
       "stream": "stdout",
       "text": [
        " 382 skipped 22\n",
        "processed"
       ]
      },
      {
       "output_type": "stream",
       "stream": "stdout",
       "text": [
        " 383 skipped 22\n",
        "processed"
       ]
      },
      {
       "output_type": "stream",
       "stream": "stdout",
       "text": [
        " 384 skipped 22\n",
        "processed"
       ]
      },
      {
       "output_type": "stream",
       "stream": "stdout",
       "text": [
        " 385 skipped 22\n",
        "processed"
       ]
      },
      {
       "output_type": "stream",
       "stream": "stdout",
       "text": [
        " 386 skipped 22\n",
        "processed"
       ]
      },
      {
       "output_type": "stream",
       "stream": "stdout",
       "text": [
        " 387 skipped 22\n",
        "processed"
       ]
      },
      {
       "output_type": "stream",
       "stream": "stdout",
       "text": [
        " 388 skipped 22\n",
        "processed"
       ]
      },
      {
       "output_type": "stream",
       "stream": "stdout",
       "text": [
        " 389 skipped 22\n",
        "processed"
       ]
      },
      {
       "output_type": "stream",
       "stream": "stdout",
       "text": [
        " 390 skipped 22\n",
        "processed"
       ]
      },
      {
       "output_type": "stream",
       "stream": "stdout",
       "text": [
        " 391 skipped 22\n",
        "error on downloadb09fe710-8e21-48bb-abf7-1cc842b668ea.html"
       ]
      },
      {
       "output_type": "stream",
       "stream": "stderr",
       "text": [
        "  File \"<ipython-input-67-6114dbc3b5a2>\", line 16, in <module>\n",
        "    res = comp_extractors( extractor_training_object )\n",
        "  File \"<ipython-input-22-91249bf1c046>\", line 19, in comp_extractors\n",
        "    extraction_results = get_extraction_results( eto )\n",
        "  File \"<ipython-input-21-ff5d87d959e4>\", line 25, in get_extraction_results\n",
        "    ret['py_goose']  = { 'extracted_html': extract_with_python_goose( raw_content ) }\n",
        "  File \"<ipython-input-9-da7d07f83e6d>\", line 6, in extract_with_python_goose\n",
        "    r = g.extract( raw_html=raw_content )\n",
        "  File \"/usr/local/lib/python2.7/dist-packages/goose/__init__.py\", line 56, in extract\n",
        "    return self.crawl(cc)\n",
        "  File \"/usr/local/lib/python2.7/dist-packages/goose/__init__.py\", line 63, in crawl\n",
        "    article = crawler.crawl(crawl_candiate)\n",
        "  File \"/usr/local/lib/python2.7/dist-packages/goose/crawler.py\", line 125, in crawl\n",
        "    self.get_image()\n",
        "  File \"/usr/local/lib/python2.7/dist-packages/goose/crawler.py\", line 147, in get_image\n",
        "    self.article.top_image = self.image_extractor.get_best_image(doc, top_node)\n",
        "  File \"/usr/local/lib/python2.7/dist-packages/goose/images/extractors.py\", line 88, in get_best_image\n",
        "    image = self.check_large_images(topNode, 0, 0)\n",
        "  File \"/usr/local/lib/python2.7/dist-packages/goose/images/extractors.py\", line 141, in check_large_images\n",
        "    depth_obj.parent_depth, depth_obj.sibling_depth)\n",
        "  File \"/usr/local/lib/python2.7/dist-packages/goose/images/extractors.py\", line 141, in check_large_images\n",
        "    depth_obj.parent_depth, depth_obj.sibling_depth)\n",
        "  File \"/usr/local/lib/python2.7/dist-packages/goose/images/extractors.py\", line 141, in check_large_images\n",
        "    depth_obj.parent_depth, depth_obj.sibling_depth)\n",
        "  File \"/usr/local/lib/python2.7/dist-packages/goose/images/extractors.py\", line 141, in check_large_images\n",
        "    depth_obj.parent_depth, depth_obj.sibling_depth)\n",
        "  File \"/usr/local/lib/python2.7/dist-packages/goose/images/extractors.py\", line 122, in check_large_images\n",
        "    good_images = self.get_image_candidates(node)\n",
        "  File \"/usr/local/lib/python2.7/dist-packages/goose/images/extractors.py\", line 283, in get_image_candidates\n",
        "    good_images = self.get_images_bytesize_match(filtered_images)\n",
        "  File \"/usr/local/lib/python2.7/dist-packages/goose/images/extractors.py\", line 299, in get_images_bytesize_match\n",
        "    local_image = self.get_local_image(src)\n",
        "  File \"/usr/local/lib/python2.7/dist-packages/goose/images/extractors.py\", line 344, in get_local_image\n",
        "    self.link_hash, src, self.config)\n",
        "  File \"/usr/local/lib/python2.7/dist-packages/goose/images/utils.py\", line 59, in store_image\n",
        "    image = self.write_localfile(data, link_hash, src, config)\n",
        "  File \"/usr/local/lib/python2.7/dist-packages/goose/images/utils.py\", line 101, in write_localfile\n",
        "    return self.read_localfile(link_hash, src, config)\n",
        "  File \"/usr/local/lib/python2.7/dist-packages/goose/images/utils.py\", line 81, in read_localfile\n",
        "    image_details = self.get_image_dimensions(identify, local_image_name)\n",
        "  File \"/usr/local/lib/python2.7/dist-packages/goose/images/utils.py\", line 36, in get_image_dimensions\n",
        "    image = Image.open(path)\n",
        "  File \"/usr/lib/python2.7/dist-packages/PIL/Image.py\", line 2028, in open\n",
        "    raise IOError(\"cannot identify image file\")\n",
        "IOError: cannot identify image file\n",
        "Traceback (most recent call last):\n"
       ]
      },
      {
       "output_type": "stream",
       "stream": "stdout",
       "text": [
        "\n",
        "(<type 'exceptions.IOError'>, IOError('cannot identify image file',), <traceback object at 0x7f4de604b7a0>)\n",
        "processed 391 skipped 23\n",
        "processed"
       ]
      },
      {
       "output_type": "stream",
       "stream": "stdout",
       "text": [
        " 392 skipped 23\n",
        "processed"
       ]
      },
      {
       "output_type": "stream",
       "stream": "stdout",
       "text": [
        " 393 skipped 23\n",
        "processed"
       ]
      },
      {
       "output_type": "stream",
       "stream": "stdout",
       "text": [
        " 394 skipped 23\n",
        "processed"
       ]
      },
      {
       "output_type": "stream",
       "stream": "stdout",
       "text": [
        " 395 skipped 23\n",
        "processed"
       ]
      },
      {
       "output_type": "stream",
       "stream": "stdout",
       "text": [
        " 396 skipped 23\n",
        "processed"
       ]
      },
      {
       "output_type": "stream",
       "stream": "stdout",
       "text": [
        " 397 skipped 23\n",
        "processed"
       ]
      },
      {
       "output_type": "stream",
       "stream": "stdout",
       "text": [
        " 398 skipped 23\n",
        "processed"
       ]
      },
      {
       "output_type": "stream",
       "stream": "stdout",
       "text": [
        " 399 skipped 23\n",
        "processed"
       ]
      },
      {
       "output_type": "stream",
       "stream": "stdout",
       "text": [
        " 400 skipped 23\n",
        "processed"
       ]
      },
      {
       "output_type": "stream",
       "stream": "stdout",
       "text": [
        " 401 skipped 23\n",
        "processed"
       ]
      },
      {
       "output_type": "stream",
       "stream": "stdout",
       "text": [
        " 402 skipped 23\n",
        "processed"
       ]
      },
      {
       "output_type": "stream",
       "stream": "stdout",
       "text": [
        " 403 skipped 23\n",
        "processed"
       ]
      },
      {
       "output_type": "stream",
       "stream": "stdout",
       "text": [
        " 404 skipped 23\n",
        "processed"
       ]
      },
      {
       "output_type": "stream",
       "stream": "stdout",
       "text": [
        " 405 skipped 23\n",
        "processed"
       ]
      },
      {
       "output_type": "stream",
       "stream": "stdout",
       "text": [
        " 406 skipped 23\n",
        "processed"
       ]
      },
      {
       "output_type": "stream",
       "stream": "stdout",
       "text": [
        " 407 skipped 23\n",
        "processed"
       ]
      },
      {
       "output_type": "stream",
       "stream": "stdout",
       "text": [
        " 408 skipped 23\n",
        "processed"
       ]
      },
      {
       "output_type": "stream",
       "stream": "stdout",
       "text": [
        " 409 skipped 23\n",
        "processed"
       ]
      },
      {
       "output_type": "stream",
       "stream": "stdout",
       "text": [
        " 410 skipped 23\n",
        "processed"
       ]
      },
      {
       "output_type": "stream",
       "stream": "stdout",
       "text": [
        " 411 skipped 23\n",
        "processed"
       ]
      },
      {
       "output_type": "stream",
       "stream": "stdout",
       "text": [
        " 412 skipped 23\n",
        "processed"
       ]
      },
      {
       "output_type": "stream",
       "stream": "stdout",
       "text": [
        " 413 skipped 23\n",
        "processed"
       ]
      },
      {
       "output_type": "stream",
       "stream": "stdout",
       "text": [
        " 414 skipped 23\n",
        "processed"
       ]
      },
      {
       "output_type": "stream",
       "stream": "stdout",
       "text": [
        " 415 skipped 23\n",
        "processed"
       ]
      },
      {
       "output_type": "stream",
       "stream": "stdout",
       "text": [
        " 416 skipped 23\n",
        "processed"
       ]
      },
      {
       "output_type": "stream",
       "stream": "stdout",
       "text": [
        " 417 skipped 23\n",
        "processed"
       ]
      },
      {
       "output_type": "stream",
       "stream": "stdout",
       "text": [
        " 418 skipped 23\n",
        "error on downloadba66beed-a665-4cce-8ad3-61f7e05f0c47.html"
       ]
      },
      {
       "output_type": "stream",
       "stream": "stderr",
       "text": [
        "  File \"<ipython-input-67-6114dbc3b5a2>\", line 16, in <module>\n",
        "    res = comp_extractors( extractor_training_object )\n",
        "  File \"<ipython-input-22-91249bf1c046>\", line 19, in comp_extractors\n",
        "    extraction_results = get_extraction_results( eto )\n",
        "  File \"<ipython-input-21-ff5d87d959e4>\", line 25, in get_extraction_results\n",
        "    ret['py_goose']  = { 'extracted_html': extract_with_python_goose( raw_content ) }\n",
        "  File \"<ipython-input-9-da7d07f83e6d>\", line 6, in extract_with_python_goose\n",
        "    r = g.extract( raw_html=raw_content )\n",
        "  File \"/usr/local/lib/python2.7/dist-packages/goose/__init__.py\", line 56, in extract\n",
        "    return self.crawl(cc)\n",
        "  File \"/usr/local/lib/python2.7/dist-packages/goose/__init__.py\", line 63, in crawl\n",
        "    article = crawler.crawl(crawl_candiate)\n",
        "  File \"/usr/local/lib/python2.7/dist-packages/goose/crawler.py\", line 125, in crawl\n",
        "    self.get_image()\n",
        "  File \"/usr/local/lib/python2.7/dist-packages/goose/crawler.py\", line 147, in get_image\n",
        "    self.article.top_image = self.image_extractor.get_best_image(doc, top_node)\n",
        "  File \"/usr/local/lib/python2.7/dist-packages/goose/images/extractors.py\", line 88, in get_best_image\n",
        "    image = self.check_large_images(topNode, 0, 0)\n",
        "  File \"/usr/local/lib/python2.7/dist-packages/goose/images/extractors.py\", line 122, in check_large_images\n",
        "    good_images = self.get_image_candidates(node)\n",
        "  File \"/usr/local/lib/python2.7/dist-packages/goose/images/extractors.py\", line 283, in get_image_candidates\n",
        "    good_images = self.get_images_bytesize_match(filtered_images)\n",
        "  File \"/usr/local/lib/python2.7/dist-packages/goose/images/extractors.py\", line 299, in get_images_bytesize_match\n",
        "    local_image = self.get_local_image(src)\n",
        "  File \"/usr/local/lib/python2.7/dist-packages/goose/images/extractors.py\", line 344, in get_local_image\n",
        "    self.link_hash, src, self.config)\n",
        "  File \"/usr/local/lib/python2.7/dist-packages/goose/images/utils.py\", line 52, in store_image\n",
        "    image = self.read_localfile(link_hash, src, config)\n",
        "  File \"/usr/local/lib/python2.7/dist-packages/goose/images/utils.py\", line 81, in read_localfile\n",
        "    image_details = self.get_image_dimensions(identify, local_image_name)\n",
        "  File \"/usr/local/lib/python2.7/dist-packages/goose/images/utils.py\", line 36, in get_image_dimensions\n",
        "    image = Image.open(path)\n",
        "  File \"/usr/lib/python2.7/dist-packages/PIL/Image.py\", line 2028, in open\n",
        "    raise IOError(\"cannot identify image file\")\n",
        "IOError: cannot identify image file\n",
        "Traceback (most recent call last):\n"
       ]
      },
      {
       "output_type": "stream",
       "stream": "stdout",
       "text": [
        "\n",
        "(<type 'exceptions.IOError'>, IOError('cannot identify image file',), <traceback object at 0x7f4dcd647d88>)\n",
        "processed 418 skipped 24\n",
        "error on downloadbaeee9ce-b4a7-4fdc-ba0c-f5400a0a76ef.html"
       ]
      },
      {
       "output_type": "stream",
       "stream": "stderr",
       "text": [
        "  File \"<ipython-input-67-6114dbc3b5a2>\", line 16, in <module>\n",
        "    res = comp_extractors( extractor_training_object )\n",
        "  File \"<ipython-input-22-91249bf1c046>\", line 19, in comp_extractors\n",
        "    extraction_results = get_extraction_results( eto )\n",
        "  File \"<ipython-input-21-ff5d87d959e4>\", line 25, in get_extraction_results\n",
        "    ret['py_goose']  = { 'extracted_html': extract_with_python_goose( raw_content ) }\n",
        "  File \"<ipython-input-9-da7d07f83e6d>\", line 6, in extract_with_python_goose\n",
        "    r = g.extract( raw_html=raw_content )\n",
        "  File \"/usr/local/lib/python2.7/dist-packages/goose/__init__.py\", line 56, in extract\n",
        "    return self.crawl(cc)\n",
        "  File \"/usr/local/lib/python2.7/dist-packages/goose/__init__.py\", line 63, in crawl\n",
        "    article = crawler.crawl(crawl_candiate)\n",
        "  File \"/usr/local/lib/python2.7/dist-packages/goose/crawler.py\", line 125, in crawl\n",
        "    self.get_image()\n",
        "  File \"/usr/local/lib/python2.7/dist-packages/goose/crawler.py\", line 147, in get_image\n",
        "    self.article.top_image = self.image_extractor.get_best_image(doc, top_node)\n",
        "  File \"/usr/local/lib/python2.7/dist-packages/goose/images/extractors.py\", line 88, in get_best_image\n",
        "    image = self.check_large_images(topNode, 0, 0)\n",
        "  File \"/usr/local/lib/python2.7/dist-packages/goose/images/extractors.py\", line 141, in check_large_images\n",
        "    depth_obj.parent_depth, depth_obj.sibling_depth)\n",
        "  File \"/usr/local/lib/python2.7/dist-packages/goose/images/extractors.py\", line 141, in check_large_images\n",
        "    depth_obj.parent_depth, depth_obj.sibling_depth)\n",
        "  File \"/usr/local/lib/python2.7/dist-packages/goose/images/extractors.py\", line 141, in check_large_images\n",
        "    depth_obj.parent_depth, depth_obj.sibling_depth)\n",
        "  File \"/usr/local/lib/python2.7/dist-packages/goose/images/extractors.py\", line 122, in check_large_images\n",
        "    good_images = self.get_image_candidates(node)\n",
        "  File \"/usr/local/lib/python2.7/dist-packages/goose/images/extractors.py\", line 283, in get_image_candidates\n",
        "    good_images = self.get_images_bytesize_match(filtered_images)\n",
        "  File \"/usr/local/lib/python2.7/dist-packages/goose/images/extractors.py\", line 299, in get_images_bytesize_match\n",
        "    local_image = self.get_local_image(src)\n",
        "  File \"/usr/local/lib/python2.7/dist-packages/goose/images/extractors.py\", line 344, in get_local_image\n",
        "    self.link_hash, src, self.config)\n",
        "  File \"/usr/local/lib/python2.7/dist-packages/goose/images/utils.py\", line 59, in store_image\n",
        "    image = self.write_localfile(data, link_hash, src, config)\n",
        "  File \"/usr/local/lib/python2.7/dist-packages/goose/images/utils.py\", line 101, in write_localfile\n",
        "    return self.read_localfile(link_hash, src, config)\n",
        "  File \"/usr/local/lib/python2.7/dist-packages/goose/images/utils.py\", line 81, in read_localfile\n",
        "    image_details = self.get_image_dimensions(identify, local_image_name)\n",
        "  File \"/usr/local/lib/python2.7/dist-packages/goose/images/utils.py\", line 36, in get_image_dimensions\n",
        "    image = Image.open(path)\n",
        "  File \"/usr/lib/python2.7/dist-packages/PIL/Image.py\", line 2028, in open\n",
        "    raise IOError(\"cannot identify image file\")\n",
        "IOError: cannot identify image file\n",
        "Traceback (most recent call last):\n"
       ]
      },
      {
       "output_type": "stream",
       "stream": "stdout",
       "text": [
        "\n",
        "(<type 'exceptions.IOError'>, IOError('cannot identify image file',), <traceback object at 0x7f4de71a7518>)\n",
        "processed 418 skipped 25\n",
        "processed"
       ]
      },
      {
       "output_type": "stream",
       "stream": "stdout",
       "text": [
        " 419 skipped 25\n",
        "processed"
       ]
      },
      {
       "output_type": "stream",
       "stream": "stdout",
       "text": [
        " 420 skipped 25\n",
        "processed"
       ]
      },
      {
       "output_type": "stream",
       "stream": "stdout",
       "text": [
        " 421 skipped 25\n",
        "processed"
       ]
      },
      {
       "output_type": "stream",
       "stream": "stdout",
       "text": [
        " 422 skipped 25\n",
        "processed"
       ]
      },
      {
       "output_type": "stream",
       "stream": "stdout",
       "text": [
        " 423 skipped 25\n",
        "processed"
       ]
      },
      {
       "output_type": "stream",
       "stream": "stdout",
       "text": [
        " 424 skipped 25\n",
        "processed"
       ]
      },
      {
       "output_type": "stream",
       "stream": "stdout",
       "text": [
        " 425 skipped 25\n",
        "processed"
       ]
      },
      {
       "output_type": "stream",
       "stream": "stdout",
       "text": [
        " 426 skipped 25\n",
        "processed"
       ]
      },
      {
       "output_type": "stream",
       "stream": "stdout",
       "text": [
        " 427 skipped 25\n",
        "processed"
       ]
      },
      {
       "output_type": "stream",
       "stream": "stdout",
       "text": [
        " 428 skipped 25\n",
        "processed"
       ]
      },
      {
       "output_type": "stream",
       "stream": "stdout",
       "text": [
        " 429 skipped 25\n",
        "processed"
       ]
      },
      {
       "output_type": "stream",
       "stream": "stdout",
       "text": [
        " 430 skipped 25\n",
        "processed"
       ]
      },
      {
       "output_type": "stream",
       "stream": "stdout",
       "text": [
        " 431 skipped 25\n",
        "processed"
       ]
      },
      {
       "output_type": "stream",
       "stream": "stdout",
       "text": [
        " 432 skipped 25\n",
        "processed"
       ]
      },
      {
       "output_type": "stream",
       "stream": "stdout",
       "text": [
        " 433 skipped 25\n",
        "processed"
       ]
      },
      {
       "output_type": "stream",
       "stream": "stdout",
       "text": [
        " 434 skipped 25\n",
        "processed"
       ]
      },
      {
       "output_type": "stream",
       "stream": "stdout",
       "text": [
        " 435 skipped 25\n",
        "processed"
       ]
      },
      {
       "output_type": "stream",
       "stream": "stdout",
       "text": [
        " 436 skipped 25\n",
        "processed"
       ]
      },
      {
       "output_type": "stream",
       "stream": "stdout",
       "text": [
        " 437 skipped 25\n",
        "processed"
       ]
      },
      {
       "output_type": "stream",
       "stream": "stdout",
       "text": [
        " 438 skipped 25\n",
        "processed"
       ]
      },
      {
       "output_type": "stream",
       "stream": "stdout",
       "text": [
        " 439 skipped 25\n",
        "processed"
       ]
      },
      {
       "output_type": "stream",
       "stream": "stdout",
       "text": [
        " 440 skipped 25\n",
        "processed"
       ]
      },
      {
       "output_type": "stream",
       "stream": "stdout",
       "text": [
        " 441 skipped 25\n",
        "processed"
       ]
      },
      {
       "output_type": "stream",
       "stream": "stdout",
       "text": [
        " 442 skipped 25\n",
        "processed"
       ]
      },
      {
       "output_type": "stream",
       "stream": "stdout",
       "text": [
        " 443 skipped 25\n",
        "processed"
       ]
      },
      {
       "output_type": "stream",
       "stream": "stdout",
       "text": [
        " 444 skipped 25\n",
        "processed"
       ]
      },
      {
       "output_type": "stream",
       "stream": "stdout",
       "text": [
        " 445 skipped 25\n",
        "processed"
       ]
      },
      {
       "output_type": "stream",
       "stream": "stdout",
       "text": [
        " 446 skipped 25\n",
        "processed"
       ]
      },
      {
       "output_type": "stream",
       "stream": "stdout",
       "text": [
        " 447 skipped 25\n",
        "processed"
       ]
      },
      {
       "output_type": "stream",
       "stream": "stdout",
       "text": [
        " 448 skipped 25\n",
        "processed"
       ]
      },
      {
       "output_type": "stream",
       "stream": "stdout",
       "text": [
        " 449 skipped 25\n",
        "processed"
       ]
      },
      {
       "output_type": "stream",
       "stream": "stdout",
       "text": [
        " 450 skipped 25\n",
        "error on downloadc6604e4c-239d-43df-9023-906bc4136622.html"
       ]
      },
      {
       "output_type": "stream",
       "stream": "stderr",
       "text": [
        "  File \"<ipython-input-67-6114dbc3b5a2>\", line 16, in <module>\n",
        "    res = comp_extractors( extractor_training_object )\n",
        "  File \"<ipython-input-22-91249bf1c046>\", line 19, in comp_extractors\n",
        "    extraction_results = get_extraction_results( eto )\n",
        "  File \"<ipython-input-21-ff5d87d959e4>\", line 25, in get_extraction_results\n",
        "    ret['py_goose']  = { 'extracted_html': extract_with_python_goose( raw_content ) }\n",
        "  File \"<ipython-input-9-da7d07f83e6d>\", line 6, in extract_with_python_goose\n",
        "    r = g.extract( raw_html=raw_content )\n",
        "  File \"/usr/local/lib/python2.7/dist-packages/goose/__init__.py\", line 56, in extract\n",
        "    return self.crawl(cc)\n",
        "  File \"/usr/local/lib/python2.7/dist-packages/goose/__init__.py\", line 63, in crawl\n",
        "    article = crawler.crawl(crawl_candiate)\n",
        "  File \"/usr/local/lib/python2.7/dist-packages/goose/crawler.py\", line 125, in crawl\n",
        "    self.get_image()\n",
        "  File \"/usr/local/lib/python2.7/dist-packages/goose/crawler.py\", line 147, in get_image\n",
        "    self.article.top_image = self.image_extractor.get_best_image(doc, top_node)\n",
        "  File \"/usr/local/lib/python2.7/dist-packages/goose/images/extractors.py\", line 88, in get_best_image\n",
        "    image = self.check_large_images(topNode, 0, 0)\n",
        "  File \"/usr/local/lib/python2.7/dist-packages/goose/images/extractors.py\", line 141, in check_large_images\n",
        "    depth_obj.parent_depth, depth_obj.sibling_depth)\n",
        "  File \"/usr/local/lib/python2.7/dist-packages/goose/images/extractors.py\", line 141, in check_large_images\n",
        "    depth_obj.parent_depth, depth_obj.sibling_depth)\n",
        "  File \"/usr/local/lib/python2.7/dist-packages/goose/images/extractors.py\", line 141, in check_large_images\n",
        "    depth_obj.parent_depth, depth_obj.sibling_depth)\n",
        "  File \"/usr/local/lib/python2.7/dist-packages/goose/images/extractors.py\", line 141, in check_large_images\n",
        "    depth_obj.parent_depth, depth_obj.sibling_depth)\n",
        "  File \"/usr/local/lib/python2.7/dist-packages/goose/images/extractors.py\", line 122, in check_large_images\n",
        "    good_images = self.get_image_candidates(node)\n",
        "  File \"/usr/local/lib/python2.7/dist-packages/goose/images/extractors.py\", line 283, in get_image_candidates\n",
        "    good_images = self.get_images_bytesize_match(filtered_images)\n",
        "  File \"/usr/local/lib/python2.7/dist-packages/goose/images/extractors.py\", line 299, in get_images_bytesize_match\n",
        "    local_image = self.get_local_image(src)\n",
        "  File \"/usr/local/lib/python2.7/dist-packages/goose/images/extractors.py\", line 344, in get_local_image\n",
        "    self.link_hash, src, self.config)\n",
        "  File \"/usr/local/lib/python2.7/dist-packages/goose/images/utils.py\", line 59, in store_image\n",
        "    image = self.write_localfile(data, link_hash, src, config)\n",
        "  File \"/usr/local/lib/python2.7/dist-packages/goose/images/utils.py\", line 101, in write_localfile\n",
        "    return self.read_localfile(link_hash, src, config)\n",
        "  File \"/usr/local/lib/python2.7/dist-packages/goose/images/utils.py\", line 81, in read_localfile\n",
        "    image_details = self.get_image_dimensions(identify, local_image_name)\n",
        "  File \"/usr/local/lib/python2.7/dist-packages/goose/images/utils.py\", line 36, in get_image_dimensions\n",
        "    image = Image.open(path)\n",
        "  File \"/usr/lib/python2.7/dist-packages/PIL/Image.py\", line 2028, in open\n",
        "    raise IOError(\"cannot identify image file\")\n",
        "IOError: cannot identify image file\n",
        "Traceback (most recent call last):\n"
       ]
      },
      {
       "output_type": "stream",
       "stream": "stdout",
       "text": [
        "\n",
        "(<type 'exceptions.IOError'>, IOError('cannot identify image file',), <traceback object at 0x7f4dccceae18>)\n",
        "processed 450 skipped 26\n",
        "processed"
       ]
      },
      {
       "output_type": "stream",
       "stream": "stdout",
       "text": [
        " 451 skipped 26\n",
        "processed"
       ]
      },
      {
       "output_type": "stream",
       "stream": "stdout",
       "text": [
        " 452 skipped 26\n",
        "processed"
       ]
      },
      {
       "output_type": "stream",
       "stream": "stdout",
       "text": [
        " 453 skipped 26\n",
        "processed"
       ]
      },
      {
       "output_type": "stream",
       "stream": "stdout",
       "text": [
        " 454 skipped 26\n",
        "processed"
       ]
      },
      {
       "output_type": "stream",
       "stream": "stdout",
       "text": [
        " 455 skipped 26\n",
        "error on downloadc8a6ace8-c4e8-4d05-8e85-5e58284151bb.html"
       ]
      },
      {
       "output_type": "stream",
       "stream": "stderr",
       "text": [
        "  File \"<ipython-input-67-6114dbc3b5a2>\", line 16, in <module>\n",
        "    res = comp_extractors( extractor_training_object )\n",
        "  File \"<ipython-input-22-91249bf1c046>\", line 19, in comp_extractors\n",
        "    extraction_results = get_extraction_results( eto )\n",
        "  File \"<ipython-input-21-ff5d87d959e4>\", line 25, in get_extraction_results\n",
        "    ret['py_goose']  = { 'extracted_html': extract_with_python_goose( raw_content ) }\n",
        "  File \"<ipython-input-9-da7d07f83e6d>\", line 6, in extract_with_python_goose\n",
        "    r = g.extract( raw_html=raw_content )\n",
        "  File \"/usr/local/lib/python2.7/dist-packages/goose/__init__.py\", line 56, in extract\n",
        "    return self.crawl(cc)\n",
        "  File \"/usr/local/lib/python2.7/dist-packages/goose/__init__.py\", line 63, in crawl\n",
        "    article = crawler.crawl(crawl_candiate)\n",
        "  File \"/usr/local/lib/python2.7/dist-packages/goose/crawler.py\", line 125, in crawl\n",
        "    self.get_image()\n",
        "  File \"/usr/local/lib/python2.7/dist-packages/goose/crawler.py\", line 147, in get_image\n",
        "    self.article.top_image = self.image_extractor.get_best_image(doc, top_node)\n",
        "  File \"/usr/local/lib/python2.7/dist-packages/goose/images/extractors.py\", line 88, in get_best_image\n",
        "    image = self.check_large_images(topNode, 0, 0)\n",
        "  File \"/usr/local/lib/python2.7/dist-packages/goose/images/extractors.py\", line 141, in check_large_images\n",
        "    depth_obj.parent_depth, depth_obj.sibling_depth)\n",
        "  File \"/usr/local/lib/python2.7/dist-packages/goose/images/extractors.py\", line 141, in check_large_images\n",
        "    depth_obj.parent_depth, depth_obj.sibling_depth)\n",
        "  File \"/usr/local/lib/python2.7/dist-packages/goose/images/extractors.py\", line 122, in check_large_images\n",
        "    good_images = self.get_image_candidates(node)\n",
        "  File \"/usr/local/lib/python2.7/dist-packages/goose/images/extractors.py\", line 283, in get_image_candidates\n",
        "    good_images = self.get_images_bytesize_match(filtered_images)\n",
        "  File \"/usr/local/lib/python2.7/dist-packages/goose/images/extractors.py\", line 299, in get_images_bytesize_match\n",
        "    local_image = self.get_local_image(src)\n",
        "  File \"/usr/local/lib/python2.7/dist-packages/goose/images/extractors.py\", line 344, in get_local_image\n",
        "    self.link_hash, src, self.config)\n",
        "  File \"/usr/local/lib/python2.7/dist-packages/goose/images/utils.py\", line 52, in store_image\n",
        "    image = self.read_localfile(link_hash, src, config)\n",
        "  File \"/usr/local/lib/python2.7/dist-packages/goose/images/utils.py\", line 81, in read_localfile\n",
        "    image_details = self.get_image_dimensions(identify, local_image_name)\n",
        "  File \"/usr/local/lib/python2.7/dist-packages/goose/images/utils.py\", line 36, in get_image_dimensions\n",
        "    image = Image.open(path)\n",
        "  File \"/usr/lib/python2.7/dist-packages/PIL/Image.py\", line 2028, in open\n",
        "    raise IOError(\"cannot identify image file\")\n",
        "IOError: cannot identify image file\n",
        "Traceback (most recent call last):\n"
       ]
      },
      {
       "output_type": "stream",
       "stream": "stdout",
       "text": [
        "\n",
        "(<type 'exceptions.IOError'>, IOError('cannot identify image file',), <traceback object at 0x7f4dcd661c68>)\n",
        "processed 455 skipped 27\n",
        "processed"
       ]
      },
      {
       "output_type": "stream",
       "stream": "stdout",
       "text": [
        " 456 skipped 27\n",
        "processed"
       ]
      },
      {
       "output_type": "stream",
       "stream": "stdout",
       "text": [
        " 457 skipped 27\n",
        "processed"
       ]
      },
      {
       "output_type": "stream",
       "stream": "stdout",
       "text": [
        " 458 skipped 27\n",
        "processed"
       ]
      },
      {
       "output_type": "stream",
       "stream": "stdout",
       "text": [
        " 459 skipped 27\n",
        "processed"
       ]
      },
      {
       "output_type": "stream",
       "stream": "stdout",
       "text": [
        " 460 skipped 27\n",
        "processed"
       ]
      },
      {
       "output_type": "stream",
       "stream": "stdout",
       "text": [
        " 461 skipped 27\n",
        "processed"
       ]
      },
      {
       "output_type": "stream",
       "stream": "stdout",
       "text": [
        " 462 skipped 27\n",
        "error on downloadcbeeb77e-294d-4ac9-9139-ce587ec19626.html"
       ]
      },
      {
       "output_type": "stream",
       "stream": "stderr",
       "text": [
        "  File \"<ipython-input-67-6114dbc3b5a2>\", line 16, in <module>\n",
        "    res = comp_extractors( extractor_training_object )\n",
        "  File \"<ipython-input-22-91249bf1c046>\", line 19, in comp_extractors\n",
        "    extraction_results = get_extraction_results( eto )\n",
        "  File \"<ipython-input-21-ff5d87d959e4>\", line 25, in get_extraction_results\n",
        "    ret['py_goose']  = { 'extracted_html': extract_with_python_goose( raw_content ) }\n",
        "  File \"<ipython-input-9-da7d07f83e6d>\", line 6, in extract_with_python_goose\n",
        "    r = g.extract( raw_html=raw_content )\n",
        "  File \"/usr/local/lib/python2.7/dist-packages/goose/__init__.py\", line 56, in extract\n",
        "    return self.crawl(cc)\n",
        "  File \"/usr/local/lib/python2.7/dist-packages/goose/__init__.py\", line 63, in crawl\n",
        "    article = crawler.crawl(crawl_candiate)\n",
        "  File \"/usr/local/lib/python2.7/dist-packages/goose/crawler.py\", line 125, in crawl\n",
        "    self.get_image()\n",
        "  File \"/usr/local/lib/python2.7/dist-packages/goose/crawler.py\", line 147, in get_image\n",
        "    self.article.top_image = self.image_extractor.get_best_image(doc, top_node)\n",
        "  File \"/usr/local/lib/python2.7/dist-packages/goose/images/extractors.py\", line 88, in get_best_image\n",
        "    image = self.check_large_images(topNode, 0, 0)\n",
        "  File \"/usr/local/lib/python2.7/dist-packages/goose/images/extractors.py\", line 141, in check_large_images\n",
        "    depth_obj.parent_depth, depth_obj.sibling_depth)\n",
        "  File \"/usr/local/lib/python2.7/dist-packages/goose/images/extractors.py\", line 141, in check_large_images\n",
        "    depth_obj.parent_depth, depth_obj.sibling_depth)\n",
        "  File \"/usr/local/lib/python2.7/dist-packages/goose/images/extractors.py\", line 141, in check_large_images\n",
        "    depth_obj.parent_depth, depth_obj.sibling_depth)\n",
        "  File \"/usr/local/lib/python2.7/dist-packages/goose/images/extractors.py\", line 141, in check_large_images\n",
        "    depth_obj.parent_depth, depth_obj.sibling_depth)\n",
        "  File \"/usr/local/lib/python2.7/dist-packages/goose/images/extractors.py\", line 122, in check_large_images\n",
        "    good_images = self.get_image_candidates(node)\n",
        "  File \"/usr/local/lib/python2.7/dist-packages/goose/images/extractors.py\", line 283, in get_image_candidates\n",
        "    good_images = self.get_images_bytesize_match(filtered_images)\n",
        "  File \"/usr/local/lib/python2.7/dist-packages/goose/images/extractors.py\", line 299, in get_images_bytesize_match\n",
        "    local_image = self.get_local_image(src)\n",
        "  File \"/usr/local/lib/python2.7/dist-packages/goose/images/extractors.py\", line 344, in get_local_image\n",
        "    self.link_hash, src, self.config)\n",
        "  File \"/usr/local/lib/python2.7/dist-packages/goose/images/utils.py\", line 59, in store_image\n",
        "    image = self.write_localfile(data, link_hash, src, config)\n",
        "  File \"/usr/local/lib/python2.7/dist-packages/goose/images/utils.py\", line 101, in write_localfile\n",
        "    return self.read_localfile(link_hash, src, config)\n",
        "  File \"/usr/local/lib/python2.7/dist-packages/goose/images/utils.py\", line 81, in read_localfile\n",
        "    image_details = self.get_image_dimensions(identify, local_image_name)\n",
        "  File \"/usr/local/lib/python2.7/dist-packages/goose/images/utils.py\", line 36, in get_image_dimensions\n",
        "    image = Image.open(path)\n",
        "  File \"/usr/lib/python2.7/dist-packages/PIL/Image.py\", line 2028, in open\n",
        "    raise IOError(\"cannot identify image file\")\n",
        "IOError: cannot identify image file\n",
        "Traceback (most recent call last):\n"
       ]
      },
      {
       "output_type": "stream",
       "stream": "stdout",
       "text": [
        "\n",
        "(<type 'exceptions.IOError'>, IOError('cannot identify image file',), <traceback object at 0x7f4df95ee0e0>)\n",
        "processed 462 skipped 28\n",
        "processed"
       ]
      },
      {
       "output_type": "stream",
       "stream": "stdout",
       "text": [
        " 463 skipped 28\n",
        "processed"
       ]
      },
      {
       "output_type": "stream",
       "stream": "stdout",
       "text": [
        " 464 skipped 28\n",
        "processed"
       ]
      },
      {
       "output_type": "stream",
       "stream": "stdout",
       "text": [
        " 465 skipped 28\n",
        "processed"
       ]
      },
      {
       "output_type": "stream",
       "stream": "stdout",
       "text": [
        " 466 skipped 28\n",
        "processed"
       ]
      },
      {
       "output_type": "stream",
       "stream": "stdout",
       "text": [
        " 467 skipped 28\n",
        "processed"
       ]
      },
      {
       "output_type": "stream",
       "stream": "stdout",
       "text": [
        " 468 skipped 28\n",
        "error on downloadceaaf8b9-4739-4250-9d9d-f868e68872fc.html"
       ]
      },
      {
       "output_type": "stream",
       "stream": "stderr",
       "text": [
        "  File \"<ipython-input-67-6114dbc3b5a2>\", line 16, in <module>\n",
        "    res = comp_extractors( extractor_training_object )\n",
        "  File \"<ipython-input-22-91249bf1c046>\", line 19, in comp_extractors\n",
        "    extraction_results = get_extraction_results( eto )\n",
        "  File \"<ipython-input-21-ff5d87d959e4>\", line 25, in get_extraction_results\n",
        "    ret['py_goose']  = { 'extracted_html': extract_with_python_goose( raw_content ) }\n",
        "  File \"<ipython-input-9-da7d07f83e6d>\", line 6, in extract_with_python_goose\n",
        "    r = g.extract( raw_html=raw_content )\n",
        "  File \"/usr/local/lib/python2.7/dist-packages/goose/__init__.py\", line 56, in extract\n",
        "    return self.crawl(cc)\n",
        "  File \"/usr/local/lib/python2.7/dist-packages/goose/__init__.py\", line 63, in crawl\n",
        "    article = crawler.crawl(crawl_candiate)\n",
        "  File \"/usr/local/lib/python2.7/dist-packages/goose/crawler.py\", line 125, in crawl\n",
        "    self.get_image()\n",
        "  File \"/usr/local/lib/python2.7/dist-packages/goose/crawler.py\", line 147, in get_image\n",
        "    self.article.top_image = self.image_extractor.get_best_image(doc, top_node)\n",
        "  File \"/usr/local/lib/python2.7/dist-packages/goose/images/extractors.py\", line 88, in get_best_image\n",
        "    image = self.check_large_images(topNode, 0, 0)\n",
        "  File \"/usr/local/lib/python2.7/dist-packages/goose/images/extractors.py\", line 122, in check_large_images\n",
        "    good_images = self.get_image_candidates(node)\n",
        "  File \"/usr/local/lib/python2.7/dist-packages/goose/images/extractors.py\", line 283, in get_image_candidates\n",
        "    good_images = self.get_images_bytesize_match(filtered_images)\n",
        "  File \"/usr/local/lib/python2.7/dist-packages/goose/images/extractors.py\", line 299, in get_images_bytesize_match\n",
        "    local_image = self.get_local_image(src)\n",
        "  File \"/usr/local/lib/python2.7/dist-packages/goose/images/extractors.py\", line 344, in get_local_image\n",
        "    self.link_hash, src, self.config)\n",
        "  File \"/usr/local/lib/python2.7/dist-packages/goose/images/utils.py\", line 59, in store_image\n",
        "    image = self.write_localfile(data, link_hash, src, config)\n",
        "  File \"/usr/local/lib/python2.7/dist-packages/goose/images/utils.py\", line 101, in write_localfile\n",
        "    return self.read_localfile(link_hash, src, config)\n",
        "  File \"/usr/local/lib/python2.7/dist-packages/goose/images/utils.py\", line 81, in read_localfile\n",
        "    image_details = self.get_image_dimensions(identify, local_image_name)\n",
        "  File \"/usr/local/lib/python2.7/dist-packages/goose/images/utils.py\", line 36, in get_image_dimensions\n",
        "    image = Image.open(path)\n",
        "  File \"/usr/lib/python2.7/dist-packages/PIL/Image.py\", line 2028, in open\n",
        "    raise IOError(\"cannot identify image file\")\n",
        "IOError: cannot identify image file\n",
        "Traceback (most recent call last):\n"
       ]
      },
      {
       "output_type": "stream",
       "stream": "stdout",
       "text": [
        "\n",
        "(<type 'exceptions.ValueError'>, ValueError(u'Unicode strings with encoding declaration are not supported. Please use bytes input or XML fragments without declaration.',), <traceback object at 0x7f4da2a1db48>)\n",
        "processed 468 skipped 29\n",
        "processed"
       ]
      },
      {
       "output_type": "stream",
       "stream": "stdout",
       "text": [
        " 469 skipped 29\n",
        "error on downloadd00505ef-6e10-4616-88f0-d1165292c417.html"
       ]
      },
      {
       "output_type": "stream",
       "stream": "stderr",
       "text": [
        "  File \"<ipython-input-67-6114dbc3b5a2>\", line 16, in <module>\n",
        "    res = comp_extractors( extractor_training_object )\n",
        "  File \"<ipython-input-22-91249bf1c046>\", line 19, in comp_extractors\n",
        "    extraction_results = get_extraction_results( eto )\n",
        "  File \"<ipython-input-21-ff5d87d959e4>\", line 25, in get_extraction_results\n",
        "    ret['py_goose']  = { 'extracted_html': extract_with_python_goose( raw_content ) }\n",
        "  File \"<ipython-input-9-da7d07f83e6d>\", line 6, in extract_with_python_goose\n",
        "    r = g.extract( raw_html=raw_content )\n",
        "  File \"/usr/local/lib/python2.7/dist-packages/goose/__init__.py\", line 56, in extract\n",
        "    return self.crawl(cc)\n",
        "  File \"/usr/local/lib/python2.7/dist-packages/goose/__init__.py\", line 63, in crawl\n",
        "    article = crawler.crawl(crawl_candiate)\n",
        "  File \"/usr/local/lib/python2.7/dist-packages/goose/crawler.py\", line 90, in crawl\n",
        "    doc = self.get_document(raw_html)\n",
        "  File \"/usr/local/lib/python2.7/dist-packages/goose/crawler.py\", line 176, in get_document\n",
        "    doc = self.parser.fromstring(raw_html)\n",
        "  File \"/usr/local/lib/python2.7/dist-packages/goose/parsers.py\", line 54, in fromstring\n",
        "    self.doc = lxml.html.fromstring(html)\n",
        "  File \"/usr/local/lib/python2.7/dist-packages/lxml/html/__init__.py\", line 672, in fromstring\n",
        "    doc = document_fromstring(html, parser=parser, base_url=base_url, **kw)\n",
        "  File \"/usr/local/lib/python2.7/dist-packages/lxml/html/__init__.py\", line 568, in document_fromstring\n",
        "    value = etree.fromstring(html, parser, **kw)\n",
        "  File \"lxml.etree.pyx\", line 2997, in lxml.etree.fromstring (src/lxml/lxml.etree.c:63276)\n",
        "  File \"parser.pxi\", line 1607, in lxml.etree._parseMemoryDocument (src/lxml/lxml.etree.c:93592)\n",
        "ValueError: Unicode strings with encoding declaration are not supported. Please use bytes input or XML fragments without declaration.\n",
        "Traceback (most recent call last):\n"
       ]
      },
      {
       "output_type": "stream",
       "stream": "stdout",
       "text": [
        "\n",
        "(<type 'exceptions.IOError'>, IOError(\"Couldn't open file /usr/local/lib/python2.7/dist-packages/goose/resources/text/stopwords-vi.txt\",), <traceback object at 0x7f4de6585d88>)\n",
        "processed 469 skipped 30\n",
        "processed"
       ]
      },
      {
       "output_type": "stream",
       "stream": "stdout",
       "text": [
        " 470 skipped 30\n",
        "processed"
       ]
      },
      {
       "output_type": "stream",
       "stream": "stdout",
       "text": [
        " 471 skipped 30\n",
        "processed"
       ]
      },
      {
       "output_type": "stream",
       "stream": "stdout",
       "text": [
        " 472 skipped 30\n",
        "processed"
       ]
      },
      {
       "output_type": "stream",
       "stream": "stdout",
       "text": [
        " 473 skipped 30\n",
        "processed"
       ]
      },
      {
       "output_type": "stream",
       "stream": "stdout",
       "text": [
        " 474 skipped 30\n",
        "processed"
       ]
      },
      {
       "output_type": "stream",
       "stream": "stdout",
       "text": [
        " 475 skipped 30\n",
        "processed"
       ]
      },
      {
       "output_type": "stream",
       "stream": "stdout",
       "text": [
        " 476 skipped 30\n",
        "processed"
       ]
      },
      {
       "output_type": "stream",
       "stream": "stdout",
       "text": [
        " 477 skipped 30\n",
        "processed"
       ]
      },
      {
       "output_type": "stream",
       "stream": "stdout",
       "text": [
        " 478 skipped 30\n",
        "error on downloadd35ceaa6-3fb5-4d60-bc6c-82f1a23bb59c.html"
       ]
      },
      {
       "output_type": "stream",
       "stream": "stderr",
       "text": [
        "  File \"<ipython-input-67-6114dbc3b5a2>\", line 16, in <module>\n",
        "    res = comp_extractors( extractor_training_object )\n",
        "  File \"<ipython-input-22-91249bf1c046>\", line 19, in comp_extractors\n",
        "    extraction_results = get_extraction_results( eto )\n",
        "  File \"<ipython-input-21-ff5d87d959e4>\", line 25, in get_extraction_results\n",
        "    ret['py_goose']  = { 'extracted_html': extract_with_python_goose( raw_content ) }\n",
        "  File \"<ipython-input-9-da7d07f83e6d>\", line 6, in extract_with_python_goose\n",
        "    r = g.extract( raw_html=raw_content )\n",
        "  File \"/usr/local/lib/python2.7/dist-packages/goose/__init__.py\", line 56, in extract\n",
        "    return self.crawl(cc)\n",
        "  File \"/usr/local/lib/python2.7/dist-packages/goose/__init__.py\", line 63, in crawl\n",
        "    article = crawler.crawl(crawl_candiate)\n",
        "  File \"/usr/local/lib/python2.7/dist-packages/goose/crawler.py\", line 131, in crawl\n",
        "    self.article.cleaned_text = self.formatter.get_formatted_text()\n",
        "  File \"/usr/local/lib/python2.7/dist-packages/goose/outputformatters.py\", line 66, in get_formatted_text\n",
        "    self.remove_fewwords_paragraphs()\n",
        "  File \"/usr/local/lib/python2.7/dist-packages/goose/outputformatters.py\", line 123, in remove_fewwords_paragraphs\n",
        "    stop_words = self.stopwords_class(language=self.get_language()).get_stopword_count(text)\n",
        "  File \"/usr/local/lib/python2.7/dist-packages/goose/text.py\", line 98, in __init__\n",
        "    self._cached_stop_words[language] = set(FileHelper.loadResourceFile(path).splitlines())\n",
        "  File \"/usr/local/lib/python2.7/dist-packages/goose/utils/__init__.py\", line 79, in loadResourceFile\n",
        "    raise IOError(\"Couldn't open file %s\" % path)\n",
        "IOError: Couldn't open file /usr/local/lib/python2.7/dist-packages/goose/resources/text/stopwords-vi.txt\n",
        "Traceback (most recent call last):\n"
       ]
      },
      {
       "output_type": "stream",
       "stream": "stdout",
       "text": [
        "\n",
        "(<type 'exceptions.IOError'>, IOError('cannot identify image file',), <traceback object at 0x7f4dccce5f38>)\n",
        "processed 478 skipped 31\n",
        "processed"
       ]
      },
      {
       "output_type": "stream",
       "stream": "stdout",
       "text": [
        " 479 skipped 31\n",
        "processed"
       ]
      },
      {
       "output_type": "stream",
       "stream": "stdout",
       "text": [
        " 480 skipped 31\n",
        "processed"
       ]
      },
      {
       "output_type": "stream",
       "stream": "stdout",
       "text": [
        " 481 skipped 31\n",
        "processed"
       ]
      },
      {
       "output_type": "stream",
       "stream": "stdout",
       "text": [
        " 482 skipped 31\n",
        "processed"
       ]
      },
      {
       "output_type": "stream",
       "stream": "stdout",
       "text": [
        " 483 skipped 31\n",
        "processed"
       ]
      },
      {
       "output_type": "stream",
       "stream": "stdout",
       "text": [
        " 484 skipped 31\n",
        "processed"
       ]
      },
      {
       "output_type": "stream",
       "stream": "stdout",
       "text": [
        " 485 skipped 31\n",
        "processed"
       ]
      },
      {
       "output_type": "stream",
       "stream": "stdout",
       "text": [
        " 486 skipped 31\n",
        "processed"
       ]
      },
      {
       "output_type": "stream",
       "stream": "stdout",
       "text": [
        " 487 skipped 31\n",
        "processed"
       ]
      },
      {
       "output_type": "stream",
       "stream": "stdout",
       "text": [
        " 488 skipped 31\n",
        "processed"
       ]
      },
      {
       "output_type": "stream",
       "stream": "stdout",
       "text": [
        " 489 skipped 31\n",
        "error on downloaddc9814d5-b1eb-4095-a183-05c3be64c537.html"
       ]
      },
      {
       "output_type": "stream",
       "stream": "stderr",
       "text": [
        "  File \"<ipython-input-67-6114dbc3b5a2>\", line 16, in <module>\n",
        "    res = comp_extractors( extractor_training_object )\n",
        "  File \"<ipython-input-22-91249bf1c046>\", line 19, in comp_extractors\n",
        "    extraction_results = get_extraction_results( eto )\n",
        "  File \"<ipython-input-21-ff5d87d959e4>\", line 25, in get_extraction_results\n",
        "    ret['py_goose']  = { 'extracted_html': extract_with_python_goose( raw_content ) }\n",
        "  File \"<ipython-input-9-da7d07f83e6d>\", line 6, in extract_with_python_goose\n",
        "    r = g.extract( raw_html=raw_content )\n",
        "  File \"/usr/local/lib/python2.7/dist-packages/goose/__init__.py\", line 56, in extract\n",
        "    return self.crawl(cc)\n",
        "  File \"/usr/local/lib/python2.7/dist-packages/goose/__init__.py\", line 63, in crawl\n",
        "    article = crawler.crawl(crawl_candiate)\n",
        "  File \"/usr/local/lib/python2.7/dist-packages/goose/crawler.py\", line 125, in crawl\n",
        "    self.get_image()\n",
        "  File \"/usr/local/lib/python2.7/dist-packages/goose/crawler.py\", line 147, in get_image\n",
        "    self.article.top_image = self.image_extractor.get_best_image(doc, top_node)\n",
        "  File \"/usr/local/lib/python2.7/dist-packages/goose/images/extractors.py\", line 88, in get_best_image\n",
        "    image = self.check_large_images(topNode, 0, 0)\n",
        "  File \"/usr/local/lib/python2.7/dist-packages/goose/images/extractors.py\", line 141, in check_large_images\n",
        "    depth_obj.parent_depth, depth_obj.sibling_depth)\n",
        "  File \"/usr/local/lib/python2.7/dist-packages/goose/images/extractors.py\", line 122, in check_large_images\n",
        "    good_images = self.get_image_candidates(node)\n",
        "  File \"/usr/local/lib/python2.7/dist-packages/goose/images/extractors.py\", line 283, in get_image_candidates\n",
        "    good_images = self.get_images_bytesize_match(filtered_images)\n",
        "  File \"/usr/local/lib/python2.7/dist-packages/goose/images/extractors.py\", line 299, in get_images_bytesize_match\n",
        "    local_image = self.get_local_image(src)\n",
        "  File \"/usr/local/lib/python2.7/dist-packages/goose/images/extractors.py\", line 344, in get_local_image\n",
        "    self.link_hash, src, self.config)\n",
        "  File \"/usr/local/lib/python2.7/dist-packages/goose/images/utils.py\", line 59, in store_image\n",
        "    image = self.write_localfile(data, link_hash, src, config)\n",
        "  File \"/usr/local/lib/python2.7/dist-packages/goose/images/utils.py\", line 101, in write_localfile\n",
        "    return self.read_localfile(link_hash, src, config)\n",
        "  File \"/usr/local/lib/python2.7/dist-packages/goose/images/utils.py\", line 81, in read_localfile\n",
        "    image_details = self.get_image_dimensions(identify, local_image_name)\n",
        "  File \"/usr/local/lib/python2.7/dist-packages/goose/images/utils.py\", line 36, in get_image_dimensions\n",
        "    image = Image.open(path)\n",
        "  File \"/usr/lib/python2.7/dist-packages/PIL/Image.py\", line 2028, in open\n",
        "    raise IOError(\"cannot identify image file\")\n",
        "IOError: cannot identify image file\n",
        "Traceback (most recent call last):\n"
       ]
      },
      {
       "output_type": "stream",
       "stream": "stdout",
       "text": [
        "\n",
        "(<type 'exceptions.ValueError'>, ValueError(u'Unicode strings with encoding declaration are not supported. Please use bytes input or XML fragments without declaration.',), <traceback object at 0x7f4dcd474dd0>)\n",
        "processed 489 skipped 32\n",
        "processed"
       ]
      },
      {
       "output_type": "stream",
       "stream": "stdout",
       "text": [
        " 490 skipped 32\n",
        "processed"
       ]
      },
      {
       "output_type": "stream",
       "stream": "stdout",
       "text": [
        " 491 skipped 32\n",
        "processed"
       ]
      },
      {
       "output_type": "stream",
       "stream": "stdout",
       "text": [
        " 492 skipped 32\n",
        "processed"
       ]
      },
      {
       "output_type": "stream",
       "stream": "stdout",
       "text": [
        " 493 skipped 32\n",
        "processed"
       ]
      },
      {
       "output_type": "stream",
       "stream": "stdout",
       "text": [
        " 494 skipped 32\n",
        "processed"
       ]
      },
      {
       "output_type": "stream",
       "stream": "stdout",
       "text": [
        " 495 skipped 32\n",
        "processed"
       ]
      },
      {
       "output_type": "stream",
       "stream": "stdout",
       "text": [
        " 496 skipped 32\n",
        "processed"
       ]
      },
      {
       "output_type": "stream",
       "stream": "stdout",
       "text": [
        " 497 skipped 32\n",
        "processed"
       ]
      },
      {
       "output_type": "stream",
       "stream": "stdout",
       "text": [
        " 498 skipped 32\n",
        "processed"
       ]
      },
      {
       "output_type": "stream",
       "stream": "stdout",
       "text": [
        " 499 skipped 32\n",
        "processed"
       ]
      },
      {
       "output_type": "stream",
       "stream": "stdout",
       "text": [
        " 500 skipped 32\n",
        "processed"
       ]
      },
      {
       "output_type": "stream",
       "stream": "stdout",
       "text": [
        " 501 skipped 32\n",
        "processed"
       ]
      },
      {
       "output_type": "stream",
       "stream": "stdout",
       "text": [
        " 502 skipped 32\n",
        "processed"
       ]
      },
      {
       "output_type": "stream",
       "stream": "stdout",
       "text": [
        " 503 skipped 32\n",
        "processed"
       ]
      },
      {
       "output_type": "stream",
       "stream": "stdout",
       "text": [
        " 504 skipped 32\n",
        "processed"
       ]
      },
      {
       "output_type": "stream",
       "stream": "stdout",
       "text": [
        " 505 skipped 32\n",
        "processed"
       ]
      },
      {
       "output_type": "stream",
       "stream": "stdout",
       "text": [
        " 506 skipped 32\n",
        "processed"
       ]
      },
      {
       "output_type": "stream",
       "stream": "stdout",
       "text": [
        " 507 skipped 32\n",
        "processed"
       ]
      },
      {
       "output_type": "stream",
       "stream": "stdout",
       "text": [
        " 508 skipped 32\n",
        "processed"
       ]
      },
      {
       "output_type": "stream",
       "stream": "stdout",
       "text": [
        " 509 skipped 32\n",
        "processed"
       ]
      },
      {
       "output_type": "stream",
       "stream": "stdout",
       "text": [
        " 510 skipped 32\n",
        "processed"
       ]
      },
      {
       "output_type": "stream",
       "stream": "stdout",
       "text": [
        " 511 skipped 32\n",
        "processed"
       ]
      },
      {
       "output_type": "stream",
       "stream": "stdout",
       "text": [
        " 512 skipped 32\n",
        "processed"
       ]
      },
      {
       "output_type": "stream",
       "stream": "stdout",
       "text": [
        " 513 skipped 32\n",
        "processed"
       ]
      },
      {
       "output_type": "stream",
       "stream": "stdout",
       "text": [
        " 514 skipped 32\n",
        "processed"
       ]
      },
      {
       "output_type": "stream",
       "stream": "stdout",
       "text": [
        " 515 skipped 32\n",
        "processed"
       ]
      },
      {
       "output_type": "stream",
       "stream": "stdout",
       "text": [
        " 516 skipped 32\n",
        "processed"
       ]
      },
      {
       "output_type": "stream",
       "stream": "stdout",
       "text": [
        " 517 skipped 32\n",
        "processed"
       ]
      },
      {
       "output_type": "stream",
       "stream": "stdout",
       "text": [
        " 518 skipped 32\n",
        "processed"
       ]
      },
      {
       "output_type": "stream",
       "stream": "stdout",
       "text": [
        " 519 skipped 32\n",
        "processed"
       ]
      },
      {
       "output_type": "stream",
       "stream": "stdout",
       "text": [
        " 520 skipped 32\n",
        "processed"
       ]
      },
      {
       "output_type": "stream",
       "stream": "stdout",
       "text": [
        " 521 skipped 32\n",
        "processed"
       ]
      },
      {
       "output_type": "stream",
       "stream": "stdout",
       "text": [
        " 522 skipped 32\n",
        "processed"
       ]
      },
      {
       "output_type": "stream",
       "stream": "stdout",
       "text": [
        " 523 skipped 32\n",
        "processed"
       ]
      },
      {
       "output_type": "stream",
       "stream": "stdout",
       "text": [
        " 524 skipped 32\n",
        "processed"
       ]
      },
      {
       "output_type": "stream",
       "stream": "stdout",
       "text": [
        " 525 skipped 32\n",
        "processed"
       ]
      },
      {
       "output_type": "stream",
       "stream": "stdout",
       "text": [
        " 526 skipped 32\n",
        "processed"
       ]
      },
      {
       "output_type": "stream",
       "stream": "stdout",
       "text": [
        " 527 skipped 32\n",
        "processed"
       ]
      },
      {
       "output_type": "stream",
       "stream": "stdout",
       "text": [
        " 528 skipped 32\n",
        "processed"
       ]
      },
      {
       "output_type": "stream",
       "stream": "stdout",
       "text": [
        " 529 skipped 32\n",
        "error on downloadeba86c40-98c9-4af1-bf0a-c26ce4db3536.html"
       ]
      },
      {
       "output_type": "stream",
       "stream": "stderr",
       "text": [
        "  File \"<ipython-input-67-6114dbc3b5a2>\", line 16, in <module>\n",
        "    res = comp_extractors( extractor_training_object )\n",
        "  File \"<ipython-input-22-91249bf1c046>\", line 19, in comp_extractors\n",
        "    extraction_results = get_extraction_results( eto )\n",
        "  File \"<ipython-input-21-ff5d87d959e4>\", line 25, in get_extraction_results\n",
        "    ret['py_goose']  = { 'extracted_html': extract_with_python_goose( raw_content ) }\n",
        "  File \"<ipython-input-9-da7d07f83e6d>\", line 6, in extract_with_python_goose\n",
        "    r = g.extract( raw_html=raw_content )\n",
        "  File \"/usr/local/lib/python2.7/dist-packages/goose/__init__.py\", line 56, in extract\n",
        "    return self.crawl(cc)\n",
        "  File \"/usr/local/lib/python2.7/dist-packages/goose/__init__.py\", line 63, in crawl\n",
        "    article = crawler.crawl(crawl_candiate)\n",
        "  File \"/usr/local/lib/python2.7/dist-packages/goose/crawler.py\", line 90, in crawl\n",
        "    doc = self.get_document(raw_html)\n",
        "  File \"/usr/local/lib/python2.7/dist-packages/goose/crawler.py\", line 176, in get_document\n",
        "    doc = self.parser.fromstring(raw_html)\n",
        "  File \"/usr/local/lib/python2.7/dist-packages/goose/parsers.py\", line 54, in fromstring\n",
        "    self.doc = lxml.html.fromstring(html)\n",
        "  File \"/usr/local/lib/python2.7/dist-packages/lxml/html/__init__.py\", line 672, in fromstring\n",
        "    doc = document_fromstring(html, parser=parser, base_url=base_url, **kw)\n",
        "  File \"/usr/local/lib/python2.7/dist-packages/lxml/html/__init__.py\", line 568, in document_fromstring\n",
        "    value = etree.fromstring(html, parser, **kw)\n",
        "  File \"lxml.etree.pyx\", line 2997, in lxml.etree.fromstring (src/lxml/lxml.etree.c:63276)\n",
        "  File \"parser.pxi\", line 1607, in lxml.etree._parseMemoryDocument (src/lxml/lxml.etree.c:93592)\n",
        "ValueError: Unicode strings with encoding declaration are not supported. Please use bytes input or XML fragments without declaration.\n",
        "Traceback (most recent call last):\n"
       ]
      },
      {
       "output_type": "stream",
       "stream": "stdout",
       "text": [
        "\n",
        "(<type 'exceptions.IOError'>, IOError('cannot identify image file',), <traceback object at 0x7f4dcd65ce60>)\n",
        "processed 529 skipped 33\n",
        "processed"
       ]
      },
      {
       "output_type": "stream",
       "stream": "stdout",
       "text": [
        " 530 skipped 33\n",
        "processed"
       ]
      },
      {
       "output_type": "stream",
       "stream": "stdout",
       "text": [
        " 531 skipped 33\n",
        "processed"
       ]
      },
      {
       "output_type": "stream",
       "stream": "stdout",
       "text": [
        " 532 skipped 33\n",
        "processed"
       ]
      },
      {
       "output_type": "stream",
       "stream": "stdout",
       "text": [
        " 533 skipped 33\n",
        "processed"
       ]
      },
      {
       "output_type": "stream",
       "stream": "stdout",
       "text": [
        " 534 skipped 33\n",
        "processed"
       ]
      },
      {
       "output_type": "stream",
       "stream": "stdout",
       "text": [
        " 535 skipped 33\n",
        "processed"
       ]
      },
      {
       "output_type": "stream",
       "stream": "stdout",
       "text": [
        " 536 skipped 33\n",
        "processed"
       ]
      },
      {
       "output_type": "stream",
       "stream": "stdout",
       "text": [
        " 537 skipped 33\n",
        "processed"
       ]
      },
      {
       "output_type": "stream",
       "stream": "stdout",
       "text": [
        " 538 skipped 33\n",
        "processed"
       ]
      },
      {
       "output_type": "stream",
       "stream": "stdout",
       "text": [
        " 539 skipped 33\n",
        "processed"
       ]
      },
      {
       "output_type": "stream",
       "stream": "stdout",
       "text": [
        " 540 skipped 33\n",
        "processed"
       ]
      },
      {
       "output_type": "stream",
       "stream": "stdout",
       "text": [
        " 541 skipped 33\n",
        "processed"
       ]
      },
      {
       "output_type": "stream",
       "stream": "stdout",
       "text": [
        " 542 skipped 33\n",
        "processed"
       ]
      },
      {
       "output_type": "stream",
       "stream": "stdout",
       "text": [
        " 543 skipped 33\n",
        "processed"
       ]
      },
      {
       "output_type": "stream",
       "stream": "stdout",
       "text": [
        " 544 skipped 33\n",
        "processed"
       ]
      },
      {
       "output_type": "stream",
       "stream": "stdout",
       "text": [
        " 545 skipped 33\n",
        "processed"
       ]
      },
      {
       "output_type": "stream",
       "stream": "stdout",
       "text": [
        " 546 skipped 33\n",
        "processed"
       ]
      },
      {
       "output_type": "stream",
       "stream": "stdout",
       "text": [
        " 547 skipped 33\n",
        "processed"
       ]
      },
      {
       "output_type": "stream",
       "stream": "stdout",
       "text": [
        " 548 skipped 33\n",
        "processed"
       ]
      },
      {
       "output_type": "stream",
       "stream": "stdout",
       "text": [
        " 549 skipped 33\n",
        "processed"
       ]
      },
      {
       "output_type": "stream",
       "stream": "stdout",
       "text": [
        " 550 skipped 33\n",
        "processed"
       ]
      },
      {
       "output_type": "stream",
       "stream": "stdout",
       "text": [
        " 551 skipped 33\n",
        "processed"
       ]
      },
      {
       "output_type": "stream",
       "stream": "stdout",
       "text": [
        " 552 skipped 33\n",
        "processed"
       ]
      },
      {
       "output_type": "stream",
       "stream": "stdout",
       "text": [
        " 553 skipped 33\n",
        "processed"
       ]
      },
      {
       "output_type": "stream",
       "stream": "stdout",
       "text": [
        " 554 skipped 33\n",
        "processed"
       ]
      },
      {
       "output_type": "stream",
       "stream": "stdout",
       "text": [
        " 555 skipped 33\n",
        "processed"
       ]
      },
      {
       "output_type": "stream",
       "stream": "stdout",
       "text": [
        " 556 skipped 33\n",
        "processed"
       ]
      },
      {
       "output_type": "stream",
       "stream": "stdout",
       "text": [
        " 557 skipped 33\n",
        "processed"
       ]
      },
      {
       "output_type": "stream",
       "stream": "stdout",
       "text": [
        " 558 skipped 33\n",
        "processed"
       ]
      },
      {
       "output_type": "stream",
       "stream": "stdout",
       "text": [
        " 559 skipped 33\n",
        "processed"
       ]
      },
      {
       "output_type": "stream",
       "stream": "stdout",
       "text": [
        " 560 skipped 33\n",
        "processed"
       ]
      },
      {
       "output_type": "stream",
       "stream": "stdout",
       "text": [
        " 561 skipped 33\n",
        "processed"
       ]
      },
      {
       "output_type": "stream",
       "stream": "stdout",
       "text": [
        " 562 skipped 33\n",
        "processed"
       ]
      },
      {
       "output_type": "stream",
       "stream": "stdout",
       "text": [
        " 563 skipped 33\n",
        "processed"
       ]
      },
      {
       "output_type": "stream",
       "stream": "stdout",
       "text": [
        " 564 skipped 33\n",
        "processed"
       ]
      },
      {
       "output_type": "stream",
       "stream": "stdout",
       "text": [
        " 565 skipped 33\n",
        "processed"
       ]
      },
      {
       "output_type": "stream",
       "stream": "stdout",
       "text": [
        " 566 skipped 33\n",
        "processed"
       ]
      },
      {
       "output_type": "stream",
       "stream": "stdout",
       "text": [
        " 567 skipped 33\n",
        "processed"
       ]
      },
      {
       "output_type": "stream",
       "stream": "stdout",
       "text": [
        " 568 skipped 33\n",
        "processed"
       ]
      },
      {
       "output_type": "stream",
       "stream": "stdout",
       "text": [
        " 569 skipped 33\n",
        "processed"
       ]
      },
      {
       "output_type": "stream",
       "stream": "stdout",
       "text": [
        " 570 skipped 33\n",
        "processed"
       ]
      },
      {
       "output_type": "stream",
       "stream": "stdout",
       "text": [
        " 571 skipped 33\n",
        "processed"
       ]
      },
      {
       "output_type": "stream",
       "stream": "stdout",
       "text": [
        " 572 skipped 33\n",
        "processed"
       ]
      },
      {
       "output_type": "stream",
       "stream": "stdout",
       "text": [
        " 573 skipped 33\n",
        "error on downloadfbdd64ab-0d00-4a1f-99ec-e21855eae2af.html"
       ]
      },
      {
       "output_type": "stream",
       "stream": "stderr",
       "text": [
        "  File \"<ipython-input-67-6114dbc3b5a2>\", line 16, in <module>\n",
        "    res = comp_extractors( extractor_training_object )\n",
        "  File \"<ipython-input-22-91249bf1c046>\", line 19, in comp_extractors\n",
        "    extraction_results = get_extraction_results( eto )\n",
        "  File \"<ipython-input-21-ff5d87d959e4>\", line 25, in get_extraction_results\n",
        "    ret['py_goose']  = { 'extracted_html': extract_with_python_goose( raw_content ) }\n",
        "  File \"<ipython-input-9-da7d07f83e6d>\", line 6, in extract_with_python_goose\n",
        "    r = g.extract( raw_html=raw_content )\n",
        "  File \"/usr/local/lib/python2.7/dist-packages/goose/__init__.py\", line 56, in extract\n",
        "    return self.crawl(cc)\n",
        "  File \"/usr/local/lib/python2.7/dist-packages/goose/__init__.py\", line 63, in crawl\n",
        "    article = crawler.crawl(crawl_candiate)\n",
        "  File \"/usr/local/lib/python2.7/dist-packages/goose/crawler.py\", line 125, in crawl\n",
        "    self.get_image()\n",
        "  File \"/usr/local/lib/python2.7/dist-packages/goose/crawler.py\", line 147, in get_image\n",
        "    self.article.top_image = self.image_extractor.get_best_image(doc, top_node)\n",
        "  File \"/usr/local/lib/python2.7/dist-packages/goose/images/extractors.py\", line 88, in get_best_image\n",
        "    image = self.check_large_images(topNode, 0, 0)\n",
        "  File \"/usr/local/lib/python2.7/dist-packages/goose/images/extractors.py\", line 122, in check_large_images\n",
        "    good_images = self.get_image_candidates(node)\n",
        "  File \"/usr/local/lib/python2.7/dist-packages/goose/images/extractors.py\", line 283, in get_image_candidates\n",
        "    good_images = self.get_images_bytesize_match(filtered_images)\n",
        "  File \"/usr/local/lib/python2.7/dist-packages/goose/images/extractors.py\", line 299, in get_images_bytesize_match\n",
        "    local_image = self.get_local_image(src)\n",
        "  File \"/usr/local/lib/python2.7/dist-packages/goose/images/extractors.py\", line 344, in get_local_image\n",
        "    self.link_hash, src, self.config)\n",
        "  File \"/usr/local/lib/python2.7/dist-packages/goose/images/utils.py\", line 59, in store_image\n",
        "    image = self.write_localfile(data, link_hash, src, config)\n",
        "  File \"/usr/local/lib/python2.7/dist-packages/goose/images/utils.py\", line 101, in write_localfile\n",
        "    return self.read_localfile(link_hash, src, config)\n",
        "  File \"/usr/local/lib/python2.7/dist-packages/goose/images/utils.py\", line 81, in read_localfile\n",
        "    image_details = self.get_image_dimensions(identify, local_image_name)\n",
        "  File \"/usr/local/lib/python2.7/dist-packages/goose/images/utils.py\", line 36, in get_image_dimensions\n",
        "    image = Image.open(path)\n",
        "  File \"/usr/lib/python2.7/dist-packages/PIL/Image.py\", line 2028, in open\n",
        "    raise IOError(\"cannot identify image file\")\n",
        "IOError: cannot identify image file\n",
        "Traceback (most recent call last):\n"
       ]
      },
      {
       "output_type": "stream",
       "stream": "stdout",
       "text": [
        "\n",
        "(<type 'exceptions.IOError'>, IOError('cannot identify image file',), <traceback object at 0x7f4dac691128>)\n",
        "processed 573 skipped 34\n",
        "processed"
       ]
      },
      {
       "output_type": "stream",
       "stream": "stdout",
       "text": [
        " 574 skipped 34\n",
        "processed"
       ]
      },
      {
       "output_type": "stream",
       "stream": "stdout",
       "text": [
        " 575 skipped 34\n",
        "processed"
       ]
      },
      {
       "output_type": "stream",
       "stream": "stdout",
       "text": [
        " 576 skipped 34\n",
        "processed"
       ]
      },
      {
       "output_type": "stream",
       "stream": "stdout",
       "text": [
        " 577 skipped 34\n",
        "processed"
       ]
      },
      {
       "output_type": "stream",
       "stream": "stdout",
       "text": [
        " 578 skipped 34\n",
        "processed"
       ]
      },
      {
       "output_type": "stream",
       "stream": "stdout",
       "text": [
        " 579 skipped 34\n",
        "processed"
       ]
      },
      {
       "output_type": "stream",
       "stream": "stdout",
       "text": [
        " 580 skipped 34\n",
        "processed"
       ]
      },
      {
       "output_type": "stream",
       "stream": "stdout",
       "text": [
        " 581 skipped 34\n",
        "processed"
       ]
      },
      {
       "output_type": "stream",
       "stream": "stdout",
       "text": [
        " 582 skipped 34\n",
        "processed"
       ]
      },
      {
       "output_type": "stream",
       "stream": "stdout",
       "text": [
        " 583 skipped 34\n",
        "processed"
       ]
      },
      {
       "output_type": "stream",
       "stream": "stdout",
       "text": [
        " 584 skipped 34\n",
        "processed"
       ]
      },
      {
       "output_type": "stream",
       "stream": "stdout",
       "text": [
        " 585 skipped 34\n",
        "processed"
       ]
      },
      {
       "output_type": "stream",
       "stream": "stdout",
       "text": [
        " 586 skipped 34\n",
        "processed"
       ]
      },
      {
       "output_type": "stream",
       "stream": "stdout",
       "text": [
        " 587 skipped 34\n",
        "Total_time 1:25:34.219244\n",
        "Time per download 0:00:08.267663\n"
       ]
      },
      {
       "output_type": "stream",
       "stream": "stderr",
       "text": [
        "  File \"<ipython-input-67-6114dbc3b5a2>\", line 16, in <module>\n",
        "    res = comp_extractors( extractor_training_object )\n",
        "  File \"<ipython-input-22-91249bf1c046>\", line 19, in comp_extractors\n",
        "    extraction_results = get_extraction_results( eto )\n",
        "  File \"<ipython-input-21-ff5d87d959e4>\", line 25, in get_extraction_results\n",
        "    ret['py_goose']  = { 'extracted_html': extract_with_python_goose( raw_content ) }\n",
        "  File \"<ipython-input-9-da7d07f83e6d>\", line 6, in extract_with_python_goose\n",
        "    r = g.extract( raw_html=raw_content )\n",
        "  File \"/usr/local/lib/python2.7/dist-packages/goose/__init__.py\", line 56, in extract\n",
        "    return self.crawl(cc)\n",
        "  File \"/usr/local/lib/python2.7/dist-packages/goose/__init__.py\", line 63, in crawl\n",
        "    article = crawler.crawl(crawl_candiate)\n",
        "  File \"/usr/local/lib/python2.7/dist-packages/goose/crawler.py\", line 125, in crawl\n",
        "    self.get_image()\n",
        "  File \"/usr/local/lib/python2.7/dist-packages/goose/crawler.py\", line 147, in get_image\n",
        "    self.article.top_image = self.image_extractor.get_best_image(doc, top_node)\n",
        "  File \"/usr/local/lib/python2.7/dist-packages/goose/images/extractors.py\", line 88, in get_best_image\n",
        "    image = self.check_large_images(topNode, 0, 0)\n",
        "  File \"/usr/local/lib/python2.7/dist-packages/goose/images/extractors.py\", line 141, in check_large_images\n",
        "    depth_obj.parent_depth, depth_obj.sibling_depth)\n",
        "  File \"/usr/local/lib/python2.7/dist-packages/goose/images/extractors.py\", line 122, in check_large_images\n",
        "    good_images = self.get_image_candidates(node)\n",
        "  File \"/usr/local/lib/python2.7/dist-packages/goose/images/extractors.py\", line 283, in get_image_candidates\n",
        "    good_images = self.get_images_bytesize_match(filtered_images)\n",
        "  File \"/usr/local/lib/python2.7/dist-packages/goose/images/extractors.py\", line 299, in get_images_bytesize_match\n",
        "    local_image = self.get_local_image(src)\n",
        "  File \"/usr/local/lib/python2.7/dist-packages/goose/images/extractors.py\", line 344, in get_local_image\n",
        "    self.link_hash, src, self.config)\n",
        "  File \"/usr/local/lib/python2.7/dist-packages/goose/images/utils.py\", line 59, in store_image\n",
        "    image = self.write_localfile(data, link_hash, src, config)\n",
        "  File \"/usr/local/lib/python2.7/dist-packages/goose/images/utils.py\", line 101, in write_localfile\n",
        "    return self.read_localfile(link_hash, src, config)\n",
        "  File \"/usr/local/lib/python2.7/dist-packages/goose/images/utils.py\", line 81, in read_localfile\n",
        "    image_details = self.get_image_dimensions(identify, local_image_name)\n",
        "  File \"/usr/local/lib/python2.7/dist-packages/goose/images/utils.py\", line 36, in get_image_dimensions\n",
        "    image = Image.open(path)\n",
        "  File \"/usr/lib/python2.7/dist-packages/PIL/Image.py\", line 2028, in open\n",
        "    raise IOError(\"cannot identify image file\")\n",
        "IOError: cannot identify image file\n"
       ]
      },
      {
       "metadata": {},
       "output_type": "pyout",
       "prompt_number": 67,
       "text": [
        "['justext',\n",
        " 'heur',\n",
        " 'media_id',\n",
        " 'gold',\n",
        " 'py_boiler_pipe_CanolaExtractor',\n",
        " 'downloads_id',\n",
        " 'py_boiler_pipe_DefaultExtractor',\n",
        " 'py_boiler_pipe_KeepEverythingExtractor',\n",
        " 'story_is_spidered',\n",
        " 'py_boiler_pipe_ArticleExtractor',\n",
        " 'crf',\n",
        " 'python_readibilty',\n",
        " 'py_boiler_pipe_NumWordsRulesExtractor',\n",
        " 'py_goose',\n",
        " 'py_boiler_pipe_ArticleSentencesExtractor',\n",
        " 'py_boiler_pipe_LargestContentExtractor',\n",
        " 'boiler_pipe']"
       ]
      }
     ],
     "prompt_number": 67
    },
    {
     "cell_type": "code",
     "collapsed": false,
     "input": [
      "df = get_data_frame_from_comparision_objects( comps_downloads_boiler_pipe )\n",
      "print_results_by_measurement_type( df )"
     ],
     "language": "python",
     "metadata": {},
     "outputs": [
      {
       "output_type": "stream",
       "stream": "stdout",
       "text": [
        "       precision_boiler_pipe  precision_crf  precision_gold  precision_heur  \\\n",
        "count             587.000000     587.000000             587      587.000000   \n",
        "mean                0.947119       0.731588               1        0.791331   \n",
        "std                 0.103217       0.260810               0        0.236207   \n",
        "min                 0.000000       0.000000               1        0.000000   \n",
        "2%                  0.682820       0.000000               1        0.000000   \n",
        "5%                  0.827871       0.100000               1        0.194313   \n",
        "10%                 0.892255       0.325697               1        0.499278   \n",
        "50%                 0.974522       0.822270               1        0.871486   \n",
        "max                 1.000000       1.000000               1        1.000000   \n",
        "\n",
        "       precision_justext  precision_py_boiler_pipe_ArticleExtractor  \\\n",
        "count         587.000000                                 587.000000   \n",
        "mean            0.832769                                   0.881723   \n",
        "std             0.320992                                   0.105574   \n",
        "min             0.000000                                   0.000000   \n",
        "2%              0.000000                                   0.660794   \n",
        "5%              0.000000                                   0.755209   \n",
        "10%             0.020766                                   0.804754   \n",
        "50%             0.990854                                   0.905172   \n",
        "max             1.000000                                   0.990328   \n",
        "\n",
        "       precision_py_boiler_pipe_ArticleSentencesExtractor  \\\n",
        "count                                                587    \n",
        "mean                                                   0    \n",
        "std                                                    0    \n",
        "min                                                    0    \n",
        "2%                                                     0    \n",
        "5%                                                     0    \n",
        "10%                                                    0    \n",
        "50%                                                    0    \n",
        "max                                                    0    \n",
        "\n",
        "       precision_py_boiler_pipe_CanolaExtractor  \\\n",
        "count                                587.000000   \n",
        "mean                                   0.773246   \n",
        "std                                    0.187061   \n",
        "min                                    0.000000   \n",
        "2%                                     0.174271   \n",
        "5%                                     0.390601   \n",
        "10%                                    0.507277   \n",
        "50%                                    0.839002   \n",
        "max                                    0.987124   \n",
        "\n",
        "       precision_py_boiler_pipe_DefaultExtractor  \\\n",
        "count                                 587.000000   \n",
        "mean                                    0.817369   \n",
        "std                                     0.167634   \n",
        "min                                     0.000000   \n",
        "2%                                      0.178499   \n",
        "5%                                      0.472519   \n",
        "10%                                     0.640371   \n",
        "50%                                     0.871854   \n",
        "max                                     0.987685   \n",
        "\n",
        "       precision_py_boiler_pipe_KeepEverythingExtractor  \\\n",
        "count                                        587.000000   \n",
        "mean                                           0.562141   \n",
        "std                                            0.201950   \n",
        "min                                            0.000000   \n",
        "2%                                             0.146591   \n",
        "5%                                             0.212001   \n",
        "10%                                            0.288187   \n",
        "50%                                            0.579137   \n",
        "max                                            0.973542   \n",
        "\n",
        "       precision_py_boiler_pipe_LargestContentExtractor  \\\n",
        "count                                        587.000000   \n",
        "mean                                           0.874354   \n",
        "std                                            0.145622   \n",
        "min                                            0.000000   \n",
        "2%                                             0.056011   \n",
        "5%                                             0.754319   \n",
        "10%                                            0.804667   \n",
        "50%                                            0.907063   \n",
        "max                                            0.991265   \n",
        "\n",
        "       precision_py_boiler_pipe_NumWordsRulesExtractor  precision_py_goose  \\\n",
        "count                                       587.000000          587.000000   \n",
        "mean                                          0.821370            0.918389   \n",
        "std                                           0.161591            0.185575   \n",
        "min                                           0.000000            0.000000   \n",
        "2%                                            0.264646            0.218827   \n",
        "5%                                            0.471592            0.489141   \n",
        "10%                                           0.632772            0.698180   \n",
        "50%                                           0.871508            0.990566   \n",
        "max                                           0.987117            1.000000   \n",
        "\n",
        "       precision_python_readibilty  \n",
        "count                   587.000000  \n",
        "mean                      0.918135  \n",
        "std                       0.166788  \n",
        "min                       0.000000  \n",
        "2%                        0.174974  \n",
        "5%                        0.671403  \n",
        "10%                       0.827754  \n",
        "50%                       0.967532  \n",
        "max                       1.000000  \n",
        "       recall_boiler_pipe  recall_crf  recall_gold  recall_heur  \\\n",
        "count          587.000000  587.000000          587   587.000000   \n",
        "mean             0.951461    0.864146            1     0.876037   \n",
        "std              0.110789    0.264172            0     0.202423   \n",
        "min              0.000000    0.000000            1     0.000000   \n",
        "2%               0.583534    0.000000            1     0.000000   \n",
        "5%               0.796251    0.012519            1     0.529092   \n",
        "10%              0.899326    0.533212            1     0.796895   \n",
        "50%              0.983333    0.956835            1     0.928230   \n",
        "max              1.000000    1.000000            1     1.000000   \n",
        "\n",
        "       recall_justext  recall_py_boiler_pipe_ArticleExtractor  \\\n",
        "count      587.000000                              587.000000   \n",
        "mean         0.797343                                0.914903   \n",
        "std          0.306030                                0.112087   \n",
        "min          0.000000                                0.000000   \n",
        "2%           0.000000                                0.574515   \n",
        "5%           0.000000                                0.752301   \n",
        "10%          0.006784                                0.851506   \n",
        "50%          0.932203                                0.932927   \n",
        "max          1.000000                                1.000000   \n",
        "\n",
        "       recall_py_boiler_pipe_ArticleSentencesExtractor  \\\n",
        "count                                              587   \n",
        "mean                                                 0   \n",
        "std                                                  0   \n",
        "min                                                  0   \n",
        "2%                                                   0   \n",
        "5%                                                   0   \n",
        "10%                                                  0   \n",
        "50%                                                  0   \n",
        "max                                                  0   \n",
        "\n",
        "       recall_py_boiler_pipe_CanolaExtractor  \\\n",
        "count                             587.000000   \n",
        "mean                                0.882045   \n",
        "std                                 0.106958   \n",
        "min                                 0.000000   \n",
        "2%                                  0.611500   \n",
        "5%                                  0.737168   \n",
        "10%                                 0.792529   \n",
        "50%                                 0.903988   \n",
        "max                                 0.999087   \n",
        "\n",
        "       recall_py_boiler_pipe_DefaultExtractor  \\\n",
        "count                              587.000000   \n",
        "mean                                 0.885074   \n",
        "std                                  0.127238   \n",
        "min                                  0.000000   \n",
        "2%                                   0.532425   \n",
        "5%                                   0.699313   \n",
        "10%                                  0.781537   \n",
        "50%                                  0.911950   \n",
        "max                                  1.000000   \n",
        "\n",
        "       recall_py_boiler_pipe_KeepEverythingExtractor  \\\n",
        "count                                     587.000000   \n",
        "mean                                        0.934558   \n",
        "std                                         0.089161   \n",
        "min                                         0.000000   \n",
        "2%                                          0.831792   \n",
        "5%                                          0.869596   \n",
        "10%                                         0.896111   \n",
        "50%                                         0.940937   \n",
        "max                                         1.000000   \n",
        "\n",
        "       recall_py_boiler_pipe_LargestContentExtractor  \\\n",
        "count                                     587.000000   \n",
        "mean                                        0.858449   \n",
        "std                                         0.178183   \n",
        "min                                         0.000000   \n",
        "2%                                          0.067892   \n",
        "5%                                          0.494472   \n",
        "10%                                         0.657884   \n",
        "50%                                         0.916667   \n",
        "max                                         1.000000   \n",
        "\n",
        "       recall_py_boiler_pipe_NumWordsRulesExtractor  recall_py_goose  \\\n",
        "count                                    587.000000       587.000000   \n",
        "mean                                       0.907176         0.881010   \n",
        "std                                        0.101053         0.197481   \n",
        "min                                        0.000000         0.000000   \n",
        "2%                                         0.645752         0.031562   \n",
        "5%                                         0.792025         0.512564   \n",
        "10%                                        0.847497         0.769361   \n",
        "50%                                        0.920863         0.938462   \n",
        "max                                        1.000000         1.000000   \n",
        "\n",
        "       recall_python_readibilty  \n",
        "count                587.000000  \n",
        "mean                   0.901399  \n",
        "std                    0.194292  \n",
        "min                    0.000000  \n",
        "2%                     0.030122  \n",
        "5%                     0.658983  \n",
        "10%                    0.860628  \n",
        "50%                    0.947047  \n",
        "max                    1.000000  "
       ]
      },
      {
       "output_type": "stream",
       "stream": "stdout",
       "text": [
        "\n",
        "       f1_boiler_pipe      f1_crf  f1_gold     f1_heur  f1_justext  \\\n",
        "count      587.000000  587.000000      587  587.000000  587.000000   \n",
        "mean         0.945981    0.773358        1    0.818156    0.801968   \n",
        "std          0.103467    0.259278        0    0.216310    0.307921   \n",
        "min          0.000000    0.000000        1    0.000000    0.000000   \n",
        "2%           0.696706    0.000000        1    0.000000    0.000000   \n",
        "5%           0.808139    0.018326        1    0.294773    0.000000   \n",
        "10%          0.881987    0.380801        1    0.617992    0.010730   \n",
        "50%          0.974648    0.875940        1    0.890909    0.938389   \n",
        "max          1.000000    1.000000        1    0.999224    1.000000   \n",
        "\n",
        "       f1_py_boiler_pipe_ArticleExtractor  \\\n",
        "count                          587.000000   \n",
        "mean                             0.895349   \n",
        "std                              0.103379   \n",
        "min                              0.000000   \n",
        "2%                               0.684377   \n",
        "5%                               0.777131   \n",
        "10%                              0.824159   \n",
        "50%                              0.915521   \n",
        "max                              0.992034   \n",
        "\n",
        "       f1_py_boiler_pipe_ArticleSentencesExtractor  \\\n",
        "count                                          587   \n",
        "mean                                             0   \n",
        "std                                              0   \n",
        "min                                              0   \n",
        "2%                                               0   \n",
        "5%                                               0   \n",
        "10%                                              0   \n",
        "50%                                              0   \n",
        "max                                              0   \n",
        "\n",
        "       f1_py_boiler_pipe_CanolaExtractor  f1_py_boiler_pipe_DefaultExtractor  \\\n",
        "count                         587.000000                          587.000000   \n",
        "mean                            0.811977                            0.840813   \n",
        "std                             0.154431                            0.148167   \n",
        "min                             0.000000                            0.000000   \n",
        "2%                              0.291535                            0.297843   \n",
        "5%                              0.519562                            0.599921   \n",
        "10%                             0.626885                            0.696688   \n",
        "50%                             0.863076                            0.886466   \n",
        "max                             0.987124                            0.985744   \n",
        "\n",
        "       f1_py_boiler_pipe_KeepEverythingExtractor  \\\n",
        "count                                 587.000000   \n",
        "mean                                    0.681243   \n",
        "std                                     0.178612   \n",
        "min                                     0.000000   \n",
        "2%                                      0.254176   \n",
        "5%                                      0.341140   \n",
        "10%                                     0.437733   \n",
        "50%                                     0.715528   \n",
        "max                                     0.982999   \n",
        "\n",
        "       f1_py_boiler_pipe_LargestContentExtractor  \\\n",
        "count                                 587.000000   \n",
        "mean                                    0.861334   \n",
        "std                                     0.156952   \n",
        "min                                     0.000000   \n",
        "2%                                      0.056688   \n",
        "5%                                      0.622468   \n",
        "10%                                     0.740102   \n",
        "50%                                     0.904841   \n",
        "max                                     0.992034   \n",
        "\n",
        "       f1_py_boiler_pipe_NumWordsRulesExtractor  f1_py_goose  \\\n",
        "count                                587.000000   587.000000   \n",
        "mean                                   0.853158     0.884124   \n",
        "std                                    0.136401     0.204271   \n",
        "min                                    0.000000     0.000000   \n",
        "2%                                     0.405971     0.048493   \n",
        "5%                                     0.616763     0.506277   \n",
        "10%                                    0.716640     0.681772   \n",
        "50%                                    0.894185     0.953125   \n",
        "max                                    0.986814     1.000000   \n",
        "\n",
        "       f1_python_readibilty  \n",
        "count            587.000000  \n",
        "mean               0.894271  \n",
        "std                0.200252  \n",
        "min                0.000000  \n",
        "2%                 0.038057  \n",
        "5%                 0.407503  \n",
        "10%                0.817409  \n",
        "50%                0.949510  \n",
        "max                1.000000  "
       ]
      },
      {
       "output_type": "stream",
       "stream": "stdout",
       "text": [
        "\n"
       ]
      }
     ],
     "prompt_number": 69
    }
   ],
   "metadata": {}
  }
 ]
}