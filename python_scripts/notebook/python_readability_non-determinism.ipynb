{
 "metadata": {
  "name": ""
 },
 "nbformat": 3,
 "nbformat_minor": 0,
 "worksheets": [
  {
   "cells": [
    {
     "cell_type": "code",
     "collapsed": false,
     "input": [
      "f = open( 'raw_content.html', 'rb')\n",
      "raw_content = f.read()\n",
      "f.close()\n"
     ],
     "language": "python",
     "metadata": {},
     "outputs": [],
     "prompt_number": 4
    },
    {
     "cell_type": "code",
     "collapsed": false,
     "input": [
      "import readability\n",
      "#import random\n",
      "#import numpy\n",
      "\n",
      "text_outputs2 = []\n",
      "#raw_content = bad_etos[0]['raw_content'] \n",
      "#import readability\n",
      "for x in range( 10):\n",
      "    #reload( lxml.etree )\n",
      "    #reload ( lxml.html )\n",
      "    #reload( readability.cleaners )\n",
      "    #reload( readability.encoding )\n",
      "    #reload( readability)\n",
      "    #reload( readability.htmls ) \n",
      "    #readability.htmls = lxml.html.HTMLParser(encoding='utf-8')\n",
      "    #print readability.cleaners.html_cleaner    \n",
      "    #print readability.htmls.utf8_parser\n",
      "\n",
      "    #random.seed(12345)\n",
      "    #numpy.random.seed( 12345 )\n",
      "    \n",
      "    #print isinstance( raw_content, unicode )\n",
      "    f = open( 'raw_content.html', 'rb')\n",
      "    raw_content = f.read()\n",
      "    f.close()\n",
      "\n",
      "    text_outputs2.append( readability.Document( raw_content ).summary() )\n",
      "\n",
      "print len( text_outputs2 )\n",
      "print len(set( text_outputs2 ) )"
     ],
     "language": "python",
     "metadata": {},
     "outputs": [
      {
       "output_type": "stream",
       "stream": "stdout",
       "text": [
        "10\n",
        "2\n"
       ]
      }
     ],
     "prompt_number": 8
    },
    {
     "cell_type": "code",
     "collapsed": false,
     "input": [
      "import hashlib\n",
      "\n",
      "[hashlib.md5( out_text ).hexdigest() for out_text in text_outputs2 ]"
     ],
     "language": "python",
     "metadata": {},
     "outputs": [
      {
       "metadata": {},
       "output_type": "pyout",
       "prompt_number": 6,
       "text": [
        "['3feb6e12f335fcc9f3a19395a217342a',\n",
        " '1135a62752a31601768d139411c23392',\n",
        " '1135a62752a31601768d139411c23392',\n",
        " '1135a62752a31601768d139411c23392',\n",
        " '1135a62752a31601768d139411c23392',\n",
        " '1135a62752a31601768d139411c23392',\n",
        " '1135a62752a31601768d139411c23392',\n",
        " '1135a62752a31601768d139411c23392',\n",
        " '1135a62752a31601768d139411c23392',\n",
        " '1135a62752a31601768d139411c23392']"
       ]
      }
     ],
     "prompt_number": 6
    }
   ],
   "metadata": {}
  }
 ]
}