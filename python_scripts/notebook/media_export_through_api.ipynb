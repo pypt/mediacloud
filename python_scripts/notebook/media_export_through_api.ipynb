{
 "metadata": {
  "name": ""
 },
 "nbformat": 3,
 "nbformat_minor": 0,
 "worksheets": [
  {
   "cells": [
    {
     "cell_type": "code",
     "collapsed": false,
     "input": [
      "import cPickle\n",
      "import os.path\n",
      "\n",
      "api_key = cPickle.load( file( os.path.expanduser( '~/mediacloud_api_key.pickle' ), 'r' ) )"
     ],
     "language": "python",
     "metadata": {},
     "outputs": [],
     "prompt_number": 1
    },
    {
     "cell_type": "code",
     "collapsed": false,
     "input": [
      "import cPickle\n",
      "import os.path\n",
      "\n",
      "cPickle.dump( api_key, file( os.path.expanduser( '~/mediacloud_api_key.pickle' ), 'wb' ) )"
     ],
     "language": "python",
     "metadata": {},
     "outputs": [],
     "prompt_number": 2
    },
    {
     "cell_type": "code",
     "collapsed": false,
     "input": [
      "import sys\n",
      "#print (sys.path)\n",
      "sys.path.append('../')\n",
      "sys.path\n",
      "import mc_database"
     ],
     "language": "python",
     "metadata": {},
     "outputs": [],
     "prompt_number": 3
    },
    {
     "cell_type": "code",
     "collapsed": false,
     "input": [
      "import psycopg2\n",
      "import psycopg2.extras"
     ],
     "language": "python",
     "metadata": {},
     "outputs": [],
     "prompt_number": 4
    },
    {
     "cell_type": "code",
     "collapsed": false,
     "input": [
      "import mediacloud, json\n",
      "\n"
     ],
     "language": "python",
     "metadata": {},
     "outputs": [],
     "prompt_number": 5
    },
    {
     "cell_type": "code",
     "collapsed": false,
     "input": [
      "def cast_fields_to_bool( dict_obj, fields ):\n",
      "    for field in fields:\n",
      "        if dict_obj[ field ] is not None:\n",
      "            dict_obj[ field ] = bool( dict_obj[field])\n",
      "\n",
      "    "
     ],
     "language": "python",
     "metadata": {},
     "outputs": [],
     "prompt_number": 6
    },
    {
     "cell_type": "code",
     "collapsed": false,
     "input": [
      "def non_list_pairs( item ):\n",
      "    item = { k: item[k]  for k in  item.keys() if type(item[k]) != list  }\n",
      "    return item\n",
      "\n",
      "def insert_into_table( cursor, table_name, item ):\n",
      "    item = { k: item[k]  for k in  item.keys() if type(item[k]) != list  }\n",
      "    columns = ', '.join(item.keys())\n",
      "    \n",
      "    placeholders = ', '.join([ '%('+ c + ')s'  for c in item.keys() ])\n",
      "    \n",
      "    query = \"insert into \" + table_name + \" (%s) Values (%s)\" %( columns, placeholders)\n",
      "    #print query\n",
      "    cursor.execute( query , item )"
     ],
     "language": "python",
     "metadata": {},
     "outputs": [],
     "prompt_number": 7
    },
    {
     "cell_type": "code",
     "collapsed": false,
     "input": [
      "def update_db_sequences( conn ):\n",
      "    cursor = conn.cursor(cursor_factory=psycopg2.extras.DictCursor)\n",
      "    cursor.execute( \"select setval(pg_get_serial_sequence('tag_sets', 'tag_sets_id'), (select max(tag_sets_id)+1 from tag_sets))\" )\n",
      "    \n",
      "    cursor.execute( \"select setval(pg_get_serial_sequence('tags', 'tags_id'), (select max(tags_id)+1 from tags))\" )\n",
      "    cursor.execute( \"select setval(pg_get_serial_sequence('media', 'media_id'), (select max(media_id)+1 from media))\" )\n",
      "    cursor.execute( \"select setval(pg_get_serial_sequence('media_sets', 'media_id'), (select max(media_id)+1 from media))\" )\n",
      "    cursor.execute( \"select setval(pg_get_serial_sequence('media_sets_media_map', 'media_id'), (select max(media_id)+1 from media))\" )\n",
      "    cursor.execute( \"select setval(pg_get_serial_sequence('media_tags_map', 'media_tags_map_id'), (select max(media_tags_map_id)+1 from media_tags_map))\" )\n",
      "    cursor.execute( \"select setval(pg_get_serial_sequence('feeds', 'feeds_id'), (select max(feeds_id)+1 from feeds))\" )\n",
      "    \n",
      "    cursor.execute( \"select setval(pg_get_serial_sequence('feeds_tags_map', 'feeds_tags_map_id'), (select max(feeds_tags_map_id)+1 from feeds_tags_map))\" )\n",
      "    \n",
      "    cursor.close()\n",
      "    conn.commit()"
     ],
     "language": "python",
     "metadata": {},
     "outputs": [],
     "prompt_number": 8
    },
    {
     "cell_type": "code",
     "collapsed": false,
     "input": [
      "def truncate_tables( conn ):\n",
      "    cursor = conn.cursor(cursor_factory=psycopg2.extras.DictCursor)\n",
      "    cursor.execute( \"SELECT count(*)  > 10000 as has_many_downloads from downloads\")\n",
      "    rec = cursor.fetchone()\n",
      "    assert ( not rec['has_many_downloads'])\n",
      "    \n",
      "    cursor.execute( \"TRUNCATE tag_sets CASCADE \" )\n",
      "    cursor.execute( \"TRUNCATE media CASCADE\" )\n",
      "    cursor.execute( \"TRUNCATE feeds CASCADE\" )\n",
      "    conn.commit()\n",
      "        "
     ],
     "language": "python",
     "metadata": {},
     "outputs": [],
     "prompt_number": 9
    },
    {
     "cell_type": "code",
     "collapsed": false,
     "input": [
      "def get_tag_sets( mc ):\n",
      "    all_tag_sets = []\n",
      "\n",
      "    last_tag_sets_id = 0\n",
      "    \n",
      "    while True:\n",
      "        tag_sets = mc.tagSetList( last_tag_sets_id=last_tag_sets_id, rows=20)\n",
      "        if len(tag_sets) == 0:\n",
      "            break\n",
      "        \n",
      "        #print tag_sets\n",
      "        last_tag_sets_id = tag_sets[-1]['tag_sets_id']\n",
      "        #print last_tag_sets_id\n",
      "    \n",
      "         \n",
      "        all_tag_sets.extend(tag_sets)\n",
      "        \n",
      "    return all_tag_sets   "
     ],
     "language": "python",
     "metadata": {},
     "outputs": [],
     "prompt_number": 10
    },
    {
     "cell_type": "code",
     "collapsed": false,
     "input": [
      "def add_tag_sets_to_database( conn, all_tag_sets ):\n",
      "    cursor = conn.cursor(cursor_factory=psycopg2.extras.DictCursor)\n",
      "    for tag_set in all_tag_sets:\n",
      "        cast_fields_to_bool( tag_set, [ 'show_on_media', 'show_on_stories' ] )\n",
      "        insert_into_table( cursor, 'tag_sets', tag_set )\n",
      "        print 'inserted ' + tag_set['name']\n",
      "    conn.commit()    "
     ],
     "language": "python",
     "metadata": {},
     "outputs": [],
     "prompt_number": 11
    },
    {
     "cell_type": "code",
     "collapsed": false,
     "input": [
      "def add_media_to_database( conn, all_media ):\n",
      "    \n",
      "    cursor = conn.cursor(cursor_factory=psycopg2.extras.DictCursor)\n",
      "    cursor.execute( \"SET CONSTRAINTS media_dup_media_id_fkey DEFERRED \") \n",
      "    \n",
      "    num_media_inserted = 0\n",
      "    \n",
      "    for medium in all_media:\n",
      "        medium = non_list_pairs( medium)\n",
      "        #del medium['dup_media_id']\n",
      "        cast_fields_to_bool( medium, [ 'extract_author', 'annotate_with_corenlp', \"full_text_rss\",\n",
      "                                  \"foreign_rss_links\",  \"feeds_added\", \"moderated\", \"use_pager\", \"is_not_dup\"])\n",
      "        insert_into_table( cursor, 'media', medium )\n",
      "        \n",
      "        num_media_inserted += 1\n",
      "        \n",
      "        if num_media_inserted % 500 == 0:\n",
      "            print \"Inserted \" + str( num_media_inserted ) + \" out of \" + str(len(all_media) )\n",
      "            \n",
      "        #print 'inserted '\n",
      "        \n",
      "    conn.commit()\n",
      "    cursor.close()\n",
      "    conn.commit()"
     ],
     "language": "python",
     "metadata": {},
     "outputs": [],
     "prompt_number": 12
    },
    {
     "cell_type": "code",
     "collapsed": false,
     "input": [
      "def get_media( mc ):\n",
      "    all_media = []\n",
      "\n",
      "    last_media_id = 0\n",
      "    \n",
      "    while True:\n",
      "        media = mc.mediaList( last_media_id=last_media_id, rows=1000)\n",
      "        print last_media_id, len( media ), len( all_media )\n",
      "    \n",
      "        if len(media) == 0:\n",
      "            break\n",
      "            \n",
      "        last_media_id = media[-1]['media_id']\n",
      "        last_media_id\n",
      "        \n",
      "        all_media.extend(media)\n",
      "        \n",
      "        #if len( all_media ) > 10000:\n",
      "        #    break\n",
      "    \n",
      "    return all_media"
     ],
     "language": "python",
     "metadata": {},
     "outputs": [],
     "prompt_number": 13
    },
    {
     "cell_type": "code",
     "collapsed": true,
     "input": [
      "def add_feeds_from_media_to_database( conn, media ):\n",
      "    cursor = conn.cursor(cursor_factory=psycopg2.extras.DictCursor)\n",
      "    \n",
      "    num_media_processed = 0\n",
      "    \n",
      "    for medium in media:\n",
      "        feeds_for_media = mc.feedList( media_id=medium['media_id'], rows=1000)\n",
      "        assert len( feeds_for_media ) < 1000\n",
      "        \n",
      "        for feed in feeds_for_media:\n",
      "            insert_into_table( cursor, 'feeds', feed )\n",
      "            \n",
      "        num_media_processed += 1\n",
      "        \n",
      "        if num_media_processed % 1000 == 0:\n",
      "            print \"inserted feeds for \" + str( num_media_processed ) + \" out of \" + str ( len( all_media ) )\n",
      "    \n",
      "    conn.commit()\n",
      "    cursor.close()\n",
      "    conn.commit()\n",
      "    "
     ],
     "language": "python",
     "metadata": {},
     "outputs": [],
     "prompt_number": 14
    },
    {
     "cell_type": "code",
     "collapsed": false,
     "input": [
      "import requests\n",
      "\n",
      "def get_download_from_api( mc_api_url, api_key, downloads_id ):\n",
      "    #https://api.mediacloud.org/api/v2/media/single/1?key=KRN4T5JGJ2A\n",
      "    \n",
      "    r = requests.get( mc_api_url +'/api/v2/downloads/single/' + str( downloads_id) , \n",
      "                     params = { 'key': api_key} )\n",
      "    download = r.json()[0]\n",
      "    return download\n"
     ],
     "language": "python",
     "metadata": {},
     "outputs": [],
     "prompt_number": 15
    },
    {
     "cell_type": "code",
     "collapsed": false,
     "input": [
      "def add_feed_download_with_api( mc_api_url, api_key, download, raw_content ):\n",
      "    r = requests.put( mc_api_url + '/api/v2/crawler/add_feed_download', \n",
      "             params={  'key': api_key }, \n",
      "             data=json.dumps( { 'download': download, 'raw_content': raw_content } ),\n",
      "             headers={ 'Accept': 'application/json'} )\n",
      "\n",
      "    return r"
     ],
     "language": "python",
     "metadata": {},
     "outputs": [],
     "prompt_number": 16
    },
    {
     "cell_type": "code",
     "collapsed": false,
     "input": [
      "local_key = '2a4cebc31101a2d3d5e60456c23ae877c2d49944068f237e1134e2c75191a2af'\n",
      "local_key = '1161251f5de4f381a198eea4dc20350fd992f5eef7cb2fdc284c245ff3d4f3ca'\n",
      "source_media_cloud_api_url =  'http://localhost:8000/'\n",
      "dest_media_cloud_api_url = 'http://localhost:3000/'\n",
      "source_api_key = 'e07cf98dd0d457351354ee520635c226acd238ecf15ec9e853346e185343bf7b'\n",
      "dest_api_key = local_key\n",
      "\n",
      "db_label =  \"AWS backup crawler\""
     ],
     "language": "python",
     "metadata": {},
     "outputs": [],
     "prompt_number": 18
    },
    {
     "cell_type": "code",
     "collapsed": false,
     "input": [
      "conn = mc_database.connect_to_database( db_label )\n",
      "cursor = conn.cursor(cursor_factory=psycopg2.extras.DictCursor)\n"
     ],
     "language": "python",
     "metadata": {},
     "outputs": [],
     "prompt_number": 20
    },
    {
     "cell_type": "code",
     "collapsed": false,
     "input": [
      "#cursor.execute( \"SELECT * from downloads where type='feed' and state in ( 'success', 'feed_error') order by downloads_id limit 10\" )\n",
      "#feed_downloads = cursor.fetchall()\n",
      "#cPickle.dump( feed_downloads, file( os.path.expanduser( '~/feed_downloads.pickle' ), 'wb' ) )\n"
     ],
     "language": "python",
     "metadata": {},
     "outputs": [],
     "prompt_number": 21
    },
    {
     "cell_type": "code",
     "collapsed": false,
     "input": [
      "feed_downloads = cPickle.load( file( os.path.expanduser( '~/feed_downloads.pickle' ), 'r' ) )\n",
      "len( feed_downloads )"
     ],
     "language": "python",
     "metadata": {},
     "outputs": [
      {
       "metadata": {},
       "output_type": "pyout",
       "prompt_number": 22,
       "text": [
        "10"
       ]
      }
     ],
     "prompt_number": 22
    },
    {
     "cell_type": "code",
     "collapsed": false,
     "input": [
      "dict( feed_downloads[0] )"
     ],
     "language": "python",
     "metadata": {},
     "outputs": [
      {
       "metadata": {},
       "output_type": "pyout",
       "prompt_number": 23,
       "text": [
        "{'download_time': datetime.datetime(2015, 5, 12, 21, 50, 23),\n",
        " 'downloads_id': 1,\n",
        " 'error_message': 'do_not_process_feeds',\n",
        " 'extracted': False,\n",
        " 'feeds_id': 1,\n",
        " 'file_status': 'tbd',\n",
        " 'host': 'bits.blogs.nytimes.com',\n",
        " 'old_download_time': None,\n",
        " 'old_state': None,\n",
        " 'parent': None,\n",
        " 'path': 'postgresql:raw_downloads',\n",
        " 'priority': 0,\n",
        " 'relative_file_path': 'error',\n",
        " 'sequence': 1,\n",
        " 'state': 'feed_error',\n",
        " 'stories_id': None,\n",
        " 'type': 'feed',\n",
        " 'url': 'http://bits.blogs.nytimes.com/rss2.xml'}"
       ]
      }
     ],
     "prompt_number": 23
    },
    {
     "cell_type": "code",
     "collapsed": false,
     "input": [
      "for feed_download in feed_downloads:\n",
      "    download = get_download_from_api( source_media_cloud_api_url, source_api_key, feed_download['downloads_id'] )\n",
      "    #print download\n",
      "    #break\n",
      "    raw_content = download['raw_content' ]\n",
      "    del download['raw_content']\n",
      "\n",
      "    if download[ 'state' ] == 'feed_error':\n",
      "        download[ 'state' ]  = 'success'\n",
      "    add_feed_download_with_api( dest_media_cloud_api_url, dest_api_key, download, raw_content )\n",
      "    "
     ],
     "language": "python",
     "metadata": {},
     "outputs": [],
     "prompt_number": 24
    },
    {
     "cell_type": "code",
     "collapsed": false,
     "input": [
      "#download = get_download_from_api( 'https://api.mediacloud.org', api_key, 684280545 )\n",
      "#download"
     ],
     "language": "python",
     "metadata": {},
     "outputs": [],
     "prompt_number": 25
    }
   ],
   "metadata": {}
  }
 ]
}