{
 "metadata": {
  "name": ""
 },
 "nbformat": 3,
 "nbformat_minor": 0,
 "worksheets": [
  {
   "cells": [
    {
     "cell_type": "code",
     "collapsed": false,
     "input": [
      "import sys\n",
      "#print (sys.path)\n",
      "sys.path.append('../')\n",
      "sys.path\n",
      "import mc_database"
     ],
     "language": "python",
     "metadata": {},
     "outputs": [],
     "prompt_number": 1
    },
    {
     "cell_type": "code",
     "collapsed": false,
     "input": [
      "import psycopg2\n",
      "import psycopg2.extras"
     ],
     "language": "python",
     "metadata": {},
     "outputs": [],
     "prompt_number": 2
    },
    {
     "cell_type": "code",
     "collapsed": false,
     "input": [
      "import mediacloud, json\n",
      "\n"
     ],
     "language": "python",
     "metadata": {},
     "outputs": [],
     "prompt_number": 3
    },
    {
     "cell_type": "code",
     "collapsed": false,
     "input": [
      "import requests\n",
      "\n",
      "def get_download_from_api( mc_api_url, api_key, downloads_id ):\n",
      "    #https://api.mediacloud.org/api/v2/media/single/1?key=KRN4T5JGJ2A\n",
      "    \n",
      "    r = requests.get( mc_api_url +'/api/v2/downloads/single/' + str( downloads_id) , \n",
      "                     params = { 'key': api_key} )\n",
      "    download = r.json()[0]\n",
      "    return download\n"
     ],
     "language": "python",
     "metadata": {},
     "outputs": [],
     "prompt_number": 4
    },
    {
     "cell_type": "code",
     "collapsed": false,
     "input": [
      "def add_feed_download_with_api( mc_api_url, api_key, download, raw_content ):\n",
      "    r = requests.put( mc_api_url + '/api/v2/crawler/add_feed_download', \n",
      "             params={  'key': api_key }, \n",
      "             data=json.dumps( { 'download': download, 'raw_content': raw_content } ),\n",
      "             headers={ 'Accept': 'application/json'} )\n",
      "\n",
      "    return r"
     ],
     "language": "python",
     "metadata": {},
     "outputs": [],
     "prompt_number": 5
    },
    {
     "cell_type": "code",
     "collapsed": false,
     "input": [
      "local_key = '2a4cebc31101a2d3d5e60456c23ae877c2d49944068f237e1134e2c75191a2af'\n",
      "local_key = '1161251f5de4f381a198eea4dc20350fd992f5eef7cb2fdc284c245ff3d4f3ca'\n",
      "source_media_cloud_api_url =  'http://localhost:8000/'\n",
      "dest_media_cloud_api_url = 'http://localhost:3000/'\n",
      "source_api_key = 'e07cf98dd0d457351354ee520635c226acd238ecf15ec9e853346e185343bf7b'\n",
      "dest_api_key = local_key\n",
      "\n",
      "db_label =  \"AWS backup crawler\""
     ],
     "language": "python",
     "metadata": {},
     "outputs": [],
     "prompt_number": 6
    },
    {
     "cell_type": "code",
     "collapsed": false,
     "input": [
      "conn = mc_database.connect_to_database( db_label )\n",
      "cursor = conn.cursor(cursor_factory=psycopg2.extras.DictCursor)\n"
     ],
     "language": "python",
     "metadata": {},
     "outputs": [],
     "prompt_number": 7
    },
    {
     "cell_type": "code",
     "collapsed": false,
     "input": [
      "cursor.execute( \"SELECT * from downloads where type='feed' and state in ( 'success', 'feed_error') order by downloads_id limit 10\" )\n",
      "feed_downloads = cursor.fetchall()"
     ],
     "language": "python",
     "metadata": {},
     "outputs": [],
     "prompt_number": 8
    },
    {
     "cell_type": "code",
     "collapsed": false,
     "input": [
      "#cPickle.dump( feed_downloads, file( os.path.expanduser( '~/feed_downloads.pickle' ), 'wb' ) )\n",
      "#feed_downloads = cPickle.load( file( os.path.expanduser( '~/feed_downloads.pickle' ), 'r' ) )\n",
      "#len( feed_downloads )"
     ],
     "language": "python",
     "metadata": {},
     "outputs": [],
     "prompt_number": 9
    },
    {
     "cell_type": "code",
     "collapsed": false,
     "input": [
      "#dict( feed_downloads[0] )"
     ],
     "language": "python",
     "metadata": {},
     "outputs": [],
     "prompt_number": 10
    },
    {
     "cell_type": "code",
     "collapsed": false,
     "input": [
      "for feed_download in feed_downloads:\n",
      "    download = get_download_from_api( source_media_cloud_api_url, source_api_key, feed_download['downloads_id'] )\n",
      "    #print download\n",
      "    #break\n",
      "    raw_content = download['raw_content' ]\n",
      "    del download['raw_content']\n",
      "\n",
      "    if download[ 'state' ] == 'feed_error':\n",
      "        download[ 'state' ]  = 'success'\n",
      "    add_feed_download_with_api( dest_media_cloud_api_url, dest_api_key, download, raw_content )\n",
      "    "
     ],
     "language": "python",
     "metadata": {},
     "outputs": [],
     "prompt_number": 11
    },
    {
     "cell_type": "code",
     "collapsed": false,
     "input": [
      "#download = get_download_from_api( 'https://api.mediacloud.org', api_key, 684280545 )\n",
      "#download"
     ],
     "language": "python",
     "metadata": {},
     "outputs": [],
     "prompt_number": 12
    }
   ],
   "metadata": {}
  }
 ]
}